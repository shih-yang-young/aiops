{
 "cells": [
  {
   "cell_type": "code",
   "execution_count": 1,
   "id": "f22f4841-9a9d-4a63-b896-560594d666d8",
   "metadata": {},
   "outputs": [
    {
     "data": {
      "text/html": [
       "<div>\n",
       "<style scoped>\n",
       "    .dataframe tbody tr th:only-of-type {\n",
       "        vertical-align: middle;\n",
       "    }\n",
       "\n",
       "    .dataframe tbody tr th {\n",
       "        vertical-align: top;\n",
       "    }\n",
       "\n",
       "    .dataframe thead th {\n",
       "        text-align: right;\n",
       "    }\n",
       "</style>\n",
       "<table border=\"1\" class=\"dataframe\">\n",
       "  <thead>\n",
       "    <tr style=\"text-align: right;\">\n",
       "      <th></th>\n",
       "      <th>Inbound Message</th>\n",
       "      <th>Label</th>\n",
       "    </tr>\n",
       "  </thead>\n",
       "  <tbody>\n",
       "    <tr>\n",
       "      <th>0</th>\n",
       "      <td>login issue verified user details employee man...</td>\n",
       "      <td>0</td>\n",
       "    </tr>\n",
       "    <tr>\n",
       "      <th>1</th>\n",
       "      <td>outlook hello team meetings skype meetings etc...</td>\n",
       "      <td>0</td>\n",
       "    </tr>\n",
       "    <tr>\n",
       "      <th>2</th>\n",
       "      <td>cant log vpn cannot log vpn best</td>\n",
       "      <td>0</td>\n",
       "    </tr>\n",
       "    <tr>\n",
       "      <th>3</th>\n",
       "      <td>unable access tool page unable access tool page</td>\n",
       "      <td>0</td>\n",
       "    </tr>\n",
       "    <tr>\n",
       "      <th>4</th>\n",
       "      <td>skype error skype error</td>\n",
       "      <td>0</td>\n",
       "    </tr>\n",
       "    <tr>\n",
       "      <th>...</th>\n",
       "      <td>...</td>\n",
       "      <td>...</td>\n",
       "    </tr>\n",
       "    <tr>\n",
       "      <th>6551</th>\n",
       "      <td>emails coming mail good afternoon receiving em...</td>\n",
       "      <td>22</td>\n",
       "    </tr>\n",
       "    <tr>\n",
       "      <th>6552</th>\n",
       "      <td>telephony software issue telephony software issue</td>\n",
       "      <td>0</td>\n",
       "    </tr>\n",
       "    <tr>\n",
       "      <th>6553</th>\n",
       "      <td>vip windows password reset tifpdchb pedxruyf v...</td>\n",
       "      <td>0</td>\n",
       "    </tr>\n",
       "    <tr>\n",
       "      <th>6554</th>\n",
       "      <td>machine est funcionando unable access machine ...</td>\n",
       "      <td>42</td>\n",
       "    </tr>\n",
       "    <tr>\n",
       "      <th>6555</th>\n",
       "      <td>mehreren lassen sich verschiedene prgramdntyme...</td>\n",
       "      <td>47</td>\n",
       "    </tr>\n",
       "  </tbody>\n",
       "</table>\n",
       "<p>6556 rows × 2 columns</p>\n",
       "</div>"
      ],
      "text/plain": [
       "                                        Inbound Message  Label\n",
       "0     login issue verified user details employee man...      0\n",
       "1     outlook hello team meetings skype meetings etc...      0\n",
       "2                      cant log vpn cannot log vpn best      0\n",
       "3       unable access tool page unable access tool page      0\n",
       "4                               skype error skype error      0\n",
       "...                                                 ...    ...\n",
       "6551  emails coming mail good afternoon receiving em...     22\n",
       "6552  telephony software issue telephony software issue      0\n",
       "6553  vip windows password reset tifpdchb pedxruyf v...      0\n",
       "6554  machine est funcionando unable access machine ...     42\n",
       "6555  mehreren lassen sich verschiedene prgramdntyme...     47\n",
       "\n",
       "[6556 rows x 2 columns]"
      ]
     },
     "execution_count": 1,
     "metadata": {},
     "output_type": "execute_result"
    }
   ],
   "source": [
    "import pandas as pd\n",
    "data_path = \"../../data/6556_48_label.csv\"\n",
    "df = pd.read_csv(data_path)\n",
    "# df_label_0 = df[df[\"Label\"] == 0]\n",
    "# df_label_0_to_drop = df_label_0.sample(n=3000, random_state=42)\n",
    "# df = df.drop(df_label_0_to_drop.index)\n",
    "df"
   ]
  },
  {
   "cell_type": "code",
   "execution_count": 2,
   "id": "bf737873-4f1c-4588-913d-8f06b2777b20",
   "metadata": {},
   "outputs": [
    {
     "name": "stderr",
     "output_type": "stream",
     "text": [
      "c:\\Users\\user\\AppData\\Local\\Programs\\Python\\Python310\\lib\\site-packages\\tqdm\\auto.py:21: TqdmWarning: IProgress not found. Please update jupyter and ipywidgets. See https://ipywidgets.readthedocs.io/en/stable/user_install.html\n",
      "  from .autonotebook import tqdm as notebook_tqdm\n"
     ]
    }
   ],
   "source": [
    "import sys\n",
    "import os\n",
    "sys.path.append(os.path.abspath('../ml_lib'))\n",
    "\n",
    "from config import *\n",
    "from experiment import run_kfold_experiment"
   ]
  },
  {
   "cell_type": "code",
   "execution_count": 3,
   "id": "a12b2613-aa9d-41c0-8f62-72210eaf8d7f",
   "metadata": {},
   "outputs": [],
   "source": [
    "messages, labels = df['Inbound Message'].tolist(), df['Label'].tolist()"
   ]
  },
  {
   "cell_type": "code",
   "execution_count": 4,
   "id": "38d4729f-f867-4cea-89f9-31f67e5ecced",
   "metadata": {},
   "outputs": [
    {
     "name": "stdout",
     "output_type": "stream",
     "text": [
      "▶ Running: bert-base-uncased + plain + word2vec_eda\n",
      "tokenizer is bert-base-uncased\n",
      "Using device: cuda\n",
      "CUDA Available: True\n",
      "CUDA Device: NVIDIA GeForce RTX 5070 Ti\n",
      "Current GPU Memory Allocated: 0.00 GB\n",
      "Current GPU Memory Cached: 0.00 GB\n",
      "\n",
      "[Fold 1]\n",
      "🚀 Using Word2Vec + EDA (replace + deletion/swap) for data augmentation + under-sampling\n",
      "🔻 Under-sampling label 0: 2471 → 2000\n",
      "🔧 Augmenting label 1: 21 → 200 (+179)\n",
      "🔧 Augmenting label 2: 64 → 200 (+136)\n",
      "🔧 Augmenting label 3: 24 → 200 (+176)\n",
      "🔧 Augmenting label 4: 191 → 200 (+9)\n",
      "🔧 Augmenting label 5: 113 → 200 (+87)\n",
      "🔧 Augmenting label 6: 93 → 200 (+107)\n",
      "🔧 Augmenting label 7: 30 → 200 (+170)\n",
      "🔧 Augmenting label 8: 68 → 200 (+132)\n",
      "🔧 Augmenting label 9: 30 → 200 (+170)\n",
      "🔧 Augmenting label 10: 67 → 200 (+133)\n",
      "🔧 Augmenting label 11: 169 → 200 (+31)\n",
      "🔧 Augmenting label 12: 189 → 200 (+11)\n",
      "🔧 Augmenting label 13: 29 → 200 (+171)\n",
      "🔧 Augmenting label 14: 22 → 200 (+178)\n",
      "🔧 Augmenting label 15: 25 → 200 (+175)\n",
      "🔧 Augmenting label 16: 19 → 200 (+181)\n",
      "🔧 Augmenting label 17: 183 → 200 (+17)\n",
      "🔧 Augmenting label 18: 92 → 200 (+108)\n",
      "🔧 Augmenting label 19: 44 → 200 (+156)\n",
      "🔧 Augmenting label 20: 13 → 200 (+187)\n",
      "🔧 Augmenting label 21: 35 → 200 (+165)\n",
      "🔧 Augmenting label 22: 76 → 200 (+124)\n",
      "🔧 Augmenting label 23: 158 → 200 (+42)\n",
      "🔧 Augmenting label 24: 13 → 200 (+187)\n",
      "🔧 Augmenting label 25: 44 → 200 (+156)\n",
      "🔧 Augmenting label 26: 84 → 200 (+116)\n",
      "🔧 Augmenting label 27: 48 → 200 (+152)\n",
      "🔧 Augmenting label 28: 11 → 200 (+189)\n",
      "🔧 Augmenting label 29: 13 → 200 (+187)\n",
      "🔧 Augmenting label 30: 11 → 200 (+189)\n",
      "🔧 Augmenting label 31: 75 → 200 (+125)\n",
      "🔧 Augmenting label 32: 36 → 200 (+164)\n",
      "🔧 Augmenting label 33: 32 → 200 (+168)\n",
      "🔧 Augmenting label 34: 29 → 200 (+171)\n",
      "🔧 Augmenting label 35: 11 → 200 (+189)\n",
      "🔧 Augmenting label 36: 22 → 200 (+178)\n",
      "🔧 Augmenting label 37: 16 → 200 (+184)\n",
      "🔧 Augmenting label 38: 33 → 200 (+167)\n",
      "🔧 Augmenting label 39: 10 → 200 (+190)\n",
      "🔧 Augmenting label 40: 9 → 200 (+191)\n",
      "🔧 Augmenting label 41: 57 → 200 (+143)\n",
      "🔧 Augmenting label 42: 19 → 200 (+181)\n",
      "🔧 Augmenting label 43: 8 → 200 (+192)\n",
      "🔧 Augmenting label 44: 54 → 200 (+146)\n",
      "🔧 Augmenting label 46: 61 → 200 (+139)\n",
      "🔧 Augmenting label 47: 80 → 200 (+120)\n",
      "Label distribution after resampling:\n",
      "  label 0: 2000\n",
      "  label 1: 200\n",
      "  label 2: 200\n",
      "  label 3: 200\n",
      "  label 4: 200\n",
      "  label 5: 200\n",
      "  label 6: 200\n",
      "  label 7: 200\n",
      "  label 8: 200\n",
      "  label 9: 200\n",
      "  label 10: 200\n",
      "  label 11: 200\n",
      "  label 12: 200\n",
      "  label 13: 200\n",
      "  label 14: 200\n",
      "  label 15: 200\n",
      "  label 16: 200\n",
      "  label 17: 200\n",
      "  label 18: 200\n",
      "  label 19: 200\n",
      "  label 20: 200\n",
      "  label 21: 200\n",
      "  label 22: 200\n",
      "  label 23: 200\n",
      "  label 24: 200\n",
      "  label 25: 200\n",
      "  label 26: 200\n",
      "  label 27: 200\n",
      "  label 28: 200\n",
      "  label 29: 200\n",
      "  label 30: 200\n",
      "  label 31: 200\n",
      "  label 32: 200\n",
      "  label 33: 200\n",
      "  label 34: 200\n",
      "  label 35: 200\n",
      "  label 36: 200\n",
      "  label 37: 200\n",
      "  label 38: 200\n",
      "  label 39: 200\n",
      "  label 40: 200\n",
      "  label 41: 200\n",
      "  label 42: 200\n",
      "  label 43: 200\n",
      "  label 44: 200\n",
      "  label 45: 242\n",
      "  label 46: 200\n",
      "  label 47: 200\n",
      "model is bert-base-uncased\n"
     ]
    },
    {
     "name": "stderr",
     "output_type": "stream",
     "text": [
      "Some weights of BertForSequenceClassification were not initialized from the model checkpoint at bert-base-uncased and are newly initialized: ['classifier.bias', 'classifier.weight']\n",
      "You should probably TRAIN this model on a down-stream task to be able to use it for predictions and inference.\n"
     ]
    },
    {
     "name": "stdout",
     "output_type": "stream",
     "text": [
      "Epoch 1/20\n"
     ]
    },
    {
     "name": "stderr",
     "output_type": "stream",
     "text": [
      "100%|██████████| 716/716 [01:00<00:00, 11.77it/s]\n"
     ]
    },
    {
     "name": "stdout",
     "output_type": "stream",
     "text": [
      "{'val_loss': 1.7205870071562326, 'val_accuracy': 0.569359756097561, 'precision': 0.5797870606792797, 'recall': 0.569359756097561, 'f1-score': 0.5517463197903432, 'macro_f1-score': 0.30800812021708923, 'balanced_accuracy': 0.37227339900309087, 'mcc': 0.42385013185338055, 'train_loss': 2.525706489575642}\n",
      "Epoch 2/20\n"
     ]
    },
    {
     "name": "stderr",
     "output_type": "stream",
     "text": [
      "100%|██████████| 716/716 [01:00<00:00, 11.81it/s]\n"
     ]
    },
    {
     "name": "stdout",
     "output_type": "stream",
     "text": [
      "{'val_loss': 1.487711760329037, 'val_accuracy': 0.6135670731707317, 'precision': 0.6058453780863522, 'recall': 0.6135670731707317, 'f1-score': 0.5875692340916763, 'macro_f1-score': 0.36621649400623885, 'balanced_accuracy': 0.37278484431044956, 'mcc': 0.4748520366059003, 'train_loss': 0.9851681785085681}\n",
      "Epoch 3/20\n"
     ]
    },
    {
     "name": "stderr",
     "output_type": "stream",
     "text": [
      "100%|██████████| 716/716 [01:00<00:00, 11.83it/s]\n"
     ]
    },
    {
     "name": "stdout",
     "output_type": "stream",
     "text": [
      "{'val_loss': 1.5662291896779363, 'val_accuracy': 0.6310975609756098, 'precision': 0.6339341335373306, 'recall': 0.6310975609756098, 'f1-score': 0.6183621652761009, 'macro_f1-score': 0.4069814543311385, 'balanced_accuracy': 0.4031442066196959, 'mcc': 0.5061595120196207, 'train_loss': 0.45413777801369487}\n",
      "Epoch 4/20\n"
     ]
    },
    {
     "name": "stderr",
     "output_type": "stream",
     "text": [
      "100%|██████████| 716/716 [01:00<00:00, 11.79it/s]\n"
     ]
    },
    {
     "name": "stdout",
     "output_type": "stream",
     "text": [
      "{'val_loss': 1.7105659773436988, 'val_accuracy': 0.6257621951219512, 'precision': 0.6445449697236645, 'recall': 0.6257621951219512, 'f1-score': 0.6235958479397019, 'macro_f1-score': 0.42702070282914795, 'balanced_accuracy': 0.43166705896521745, 'mcc': 0.5054815803064695, 'train_loss': 0.2557876644000494}\n",
      "Epoch 5/20\n"
     ]
    },
    {
     "name": "stderr",
     "output_type": "stream",
     "text": [
      "100%|██████████| 716/716 [01:00<00:00, 11.81it/s]\n"
     ]
    },
    {
     "name": "stdout",
     "output_type": "stream",
     "text": [
      "{'val_loss': 1.7333270776562575, 'val_accuracy': 0.6219512195121951, 'precision': 0.6279353838857935, 'recall': 0.6219512195121951, 'f1-score': 0.6167436097054115, 'macro_f1-score': 0.4153996037791324, 'balanced_accuracy': 0.44020547406045285, 'mcc': 0.5035990114384217, 'train_loss': 0.17678377860584737}\n",
      "Epoch 6/20\n"
     ]
    },
    {
     "name": "stderr",
     "output_type": "stream",
     "text": [
      "100%|██████████| 716/716 [01:00<00:00, 11.76it/s]\n"
     ]
    },
    {
     "name": "stdout",
     "output_type": "stream",
     "text": [
      "{'val_loss': 1.7921948970817938, 'val_accuracy': 0.6448170731707317, 'precision': 0.6506402336478458, 'recall': 0.6448170731707317, 'f1-score': 0.6381813102241867, 'macro_f1-score': 0.4351621192516994, 'balanced_accuracy': 0.4306548157115711, 'mcc': 0.5276948742962163, 'train_loss': 0.12435722935622215}\n",
      "Epoch 7/20\n"
     ]
    },
    {
     "name": "stderr",
     "output_type": "stream",
     "text": [
      "100%|██████████| 716/716 [01:00<00:00, 11.80it/s]\n"
     ]
    },
    {
     "name": "stdout",
     "output_type": "stream",
     "text": [
      "{'val_loss': 1.94332355260849, 'val_accuracy': 0.6257621951219512, 'precision': 0.617427011436831, 'recall': 0.6257621951219512, 'f1-score': 0.6104116423671067, 'macro_f1-score': 0.40489246007927915, 'balanced_accuracy': 0.389551385989295, 'mcc': 0.5031561706871123, 'train_loss': 0.1049730157565492}\n",
      "Epoch 8/20\n"
     ]
    },
    {
     "name": "stderr",
     "output_type": "stream",
     "text": [
      "100%|██████████| 716/716 [01:00<00:00, 11.83it/s]\n"
     ]
    },
    {
     "name": "stdout",
     "output_type": "stream",
     "text": [
      "{'val_loss': 1.9512706595223124, 'val_accuracy': 0.6265243902439024, 'precision': 0.6296244222376269, 'recall': 0.6265243902439024, 'f1-score': 0.6198937714515443, 'macro_f1-score': 0.4338073620880598, 'balanced_accuracy': 0.4532401907908279, 'mcc': 0.516295796878437, 'train_loss': 0.11050652635450262}\n",
      "Epoch 9/20\n"
     ]
    },
    {
     "name": "stderr",
     "output_type": "stream",
     "text": [
      "100%|██████████| 716/716 [01:00<00:00, 11.82it/s]\n"
     ]
    },
    {
     "name": "stdout",
     "output_type": "stream",
     "text": [
      "{'val_loss': 2.0914814981018623, 'val_accuracy': 0.6227134146341463, 'precision': 0.6212430380387618, 'recall': 0.6227134146341463, 'f1-score': 0.6104639334148461, 'macro_f1-score': 0.40540709918126394, 'balanced_accuracy': 0.4269079370119364, 'mcc': 0.5023285883907428, 'train_loss': 0.0772688938434855}\n",
      "Early stopping.\n",
      "\n",
      "[Fold 2]\n",
      "🚀 Using Word2Vec + EDA (replace + deletion/swap) for data augmentation + under-sampling\n",
      "🔻 Under-sampling label 0: 2471 → 2000\n",
      "🔧 Augmenting label 1: 22 → 200 (+178)\n",
      "🔧 Augmenting label 2: 64 → 200 (+136)\n",
      "🔧 Augmenting label 3: 24 → 200 (+176)\n",
      "🔧 Augmenting label 4: 190 → 200 (+10)\n",
      "🔧 Augmenting label 5: 113 → 200 (+87)\n",
      "🔧 Augmenting label 6: 93 → 200 (+107)\n",
      "🔧 Augmenting label 7: 30 → 200 (+170)\n",
      "🔧 Augmenting label 8: 68 → 200 (+132)\n",
      "🔧 Augmenting label 9: 30 → 200 (+170)\n",
      "🔧 Augmenting label 10: 67 → 200 (+133)\n",
      "🔧 Augmenting label 11: 169 → 200 (+31)\n",
      "🔧 Augmenting label 12: 189 → 200 (+11)\n",
      "🔧 Augmenting label 13: 29 → 200 (+171)\n",
      "🔧 Augmenting label 14: 23 → 200 (+177)\n",
      "🔧 Augmenting label 15: 24 → 200 (+176)\n",
      "🔧 Augmenting label 16: 20 → 200 (+180)\n",
      "🔧 Augmenting label 17: 182 → 200 (+18)\n",
      "🔧 Augmenting label 18: 92 → 200 (+108)\n",
      "🔧 Augmenting label 19: 44 → 200 (+156)\n",
      "🔧 Augmenting label 20: 13 → 200 (+187)\n",
      "🔧 Augmenting label 21: 36 → 200 (+164)\n",
      "🔧 Augmenting label 22: 76 → 200 (+124)\n",
      "🔧 Augmenting label 23: 157 → 200 (+43)\n",
      "🔧 Augmenting label 24: 12 → 200 (+188)\n",
      "🔧 Augmenting label 25: 44 → 200 (+156)\n",
      "🔧 Augmenting label 26: 84 → 200 (+116)\n",
      "🔧 Augmenting label 27: 48 → 200 (+152)\n",
      "🔧 Augmenting label 28: 12 → 200 (+188)\n",
      "🔧 Augmenting label 29: 12 → 200 (+188)\n",
      "🔧 Augmenting label 30: 12 → 200 (+188)\n",
      "🔧 Augmenting label 31: 75 → 200 (+125)\n",
      "🔧 Augmenting label 32: 36 → 200 (+164)\n",
      "🔧 Augmenting label 33: 31 → 200 (+169)\n",
      "🔧 Augmenting label 34: 29 → 200 (+171)\n",
      "🔧 Augmenting label 35: 12 → 200 (+188)\n",
      "🔧 Augmenting label 36: 21 → 200 (+179)\n",
      "🔧 Augmenting label 37: 16 → 200 (+184)\n",
      "🔧 Augmenting label 38: 33 → 200 (+167)\n",
      "🔧 Augmenting label 39: 11 → 200 (+189)\n",
      "🔧 Augmenting label 40: 8 → 200 (+192)\n",
      "🔧 Augmenting label 41: 57 → 200 (+143)\n",
      "🔧 Augmenting label 42: 19 → 200 (+181)\n",
      "🔧 Augmenting label 43: 9 → 200 (+191)\n",
      "🔧 Augmenting label 44: 54 → 200 (+146)\n",
      "🔧 Augmenting label 46: 62 → 200 (+138)\n",
      "🔧 Augmenting label 47: 80 → 200 (+120)\n",
      "Label distribution after resampling:\n",
      "  label 0: 2000\n",
      "  label 1: 200\n",
      "  label 2: 200\n",
      "  label 3: 200\n",
      "  label 4: 200\n",
      "  label 5: 200\n",
      "  label 6: 200\n",
      "  label 7: 200\n",
      "  label 8: 200\n",
      "  label 9: 200\n",
      "  label 10: 200\n",
      "  label 11: 200\n",
      "  label 12: 200\n",
      "  label 13: 200\n",
      "  label 14: 200\n",
      "  label 15: 200\n",
      "  label 16: 200\n",
      "  label 17: 200\n",
      "  label 18: 200\n",
      "  label 19: 200\n",
      "  label 20: 200\n",
      "  label 21: 200\n",
      "  label 22: 200\n",
      "  label 23: 200\n",
      "  label 24: 200\n",
      "  label 25: 200\n",
      "  label 26: 200\n",
      "  label 27: 200\n",
      "  label 28: 200\n",
      "  label 29: 200\n",
      "  label 30: 200\n",
      "  label 31: 200\n",
      "  label 32: 200\n",
      "  label 33: 200\n",
      "  label 34: 200\n",
      "  label 35: 200\n",
      "  label 36: 200\n",
      "  label 37: 200\n",
      "  label 38: 200\n",
      "  label 39: 200\n",
      "  label 40: 200\n",
      "  label 41: 200\n",
      "  label 42: 200\n",
      "  label 43: 200\n",
      "  label 44: 200\n",
      "  label 45: 242\n",
      "  label 46: 200\n",
      "  label 47: 200\n",
      "model is bert-base-uncased\n"
     ]
    },
    {
     "name": "stderr",
     "output_type": "stream",
     "text": [
      "Some weights of BertForSequenceClassification were not initialized from the model checkpoint at bert-base-uncased and are newly initialized: ['classifier.bias', 'classifier.weight']\n",
      "You should probably TRAIN this model on a down-stream task to be able to use it for predictions and inference.\n"
     ]
    },
    {
     "name": "stdout",
     "output_type": "stream",
     "text": [
      "Epoch 1/20\n"
     ]
    },
    {
     "name": "stderr",
     "output_type": "stream",
     "text": [
      "100%|██████████| 716/716 [01:00<00:00, 11.77it/s]\n"
     ]
    },
    {
     "name": "stdout",
     "output_type": "stream",
     "text": [
      "{'val_loss': 1.5349619388580322, 'val_accuracy': 0.5942028985507246, 'precision': 0.589165394387219, 'recall': 0.5942028985507246, 'f1-score': 0.5553489009390713, 'macro_f1-score': 0.29792397378762886, 'balanced_accuracy': 0.34057025124346535, 'mcc': 0.4471251290409313, 'train_loss': 2.368453830647069}\n",
      "Epoch 2/20\n"
     ]
    },
    {
     "name": "stderr",
     "output_type": "stream",
     "text": [
      "100%|██████████| 716/716 [01:01<00:00, 11.73it/s]\n"
     ]
    },
    {
     "name": "stdout",
     "output_type": "stream",
     "text": [
      "{'val_loss': 1.4070060104131699, 'val_accuracy': 0.6460717009916095, 'precision': 0.627519824179434, 'recall': 0.6460717009916095, 'f1-score': 0.618715868691213, 'macro_f1-score': 0.3869363528306608, 'balanced_accuracy': 0.39066883376591327, 'mcc': 0.5150036537673899, 'train_loss': 0.8656680796441086}\n",
      "Epoch 3/20\n"
     ]
    },
    {
     "name": "stderr",
     "output_type": "stream",
     "text": [
      "100%|██████████| 716/716 [01:00<00:00, 11.74it/s]\n"
     ]
    },
    {
     "name": "stdout",
     "output_type": "stream",
     "text": [
      "{'val_loss': 1.5385278579665393, 'val_accuracy': 0.6331045003813882, 'precision': 0.6189872404969528, 'recall': 0.6331045003813882, 'f1-score': 0.6083743117463642, 'macro_f1-score': 0.3750795778803615, 'balanced_accuracy': 0.3872217296592176, 'mcc': 0.5068723289820699, 'train_loss': 0.3892858306611966}\n",
      "Epoch 4/20\n"
     ]
    },
    {
     "name": "stderr",
     "output_type": "stream",
     "text": [
      "100%|██████████| 716/716 [01:00<00:00, 11.79it/s]\n"
     ]
    },
    {
     "name": "stdout",
     "output_type": "stream",
     "text": [
      "{'val_loss': 1.5765787544773846, 'val_accuracy': 0.6559877955758963, 'precision': 0.6340098628098019, 'recall': 0.6559877955758963, 'f1-score': 0.6341708948688595, 'macro_f1-score': 0.39347991351914313, 'balanced_accuracy': 0.39230683354372947, 'mcc': 0.5387015555105578, 'train_loss': 0.20301214517900648}\n",
      "Epoch 5/20\n"
     ]
    },
    {
     "name": "stderr",
     "output_type": "stream",
     "text": [
      "100%|██████████| 716/716 [01:01<00:00, 11.73it/s]\n"
     ]
    },
    {
     "name": "stdout",
     "output_type": "stream",
     "text": [
      "{'val_loss': 1.7022693149927186, 'val_accuracy': 0.6323417238749046, 'precision': 0.6528535966031654, 'recall': 0.6323417238749046, 'f1-score': 0.6314844139942475, 'macro_f1-score': 0.41231359792313366, 'balanced_accuracy': 0.42888063073835675, 'mcc': 0.5206396057608801, 'train_loss': 0.12756753394668974}\n",
      "Epoch 6/20\n"
     ]
    },
    {
     "name": "stderr",
     "output_type": "stream",
     "text": [
      "100%|██████████| 716/716 [01:00<00:00, 11.74it/s]\n"
     ]
    },
    {
     "name": "stdout",
     "output_type": "stream",
     "text": [
      "{'val_loss': 1.746659270146998, 'val_accuracy': 0.6758199847444699, 'precision': 0.665111370983852, 'recall': 0.6758199847444699, 'f1-score': 0.6576858827361318, 'macro_f1-score': 0.4100974111618183, 'balanced_accuracy': 0.40850153450507704, 'mcc': 0.5665130337370146, 'train_loss': 0.11032844418412667}\n",
      "Epoch 7/20\n"
     ]
    },
    {
     "name": "stderr",
     "output_type": "stream",
     "text": [
      "100%|██████████| 716/716 [01:00<00:00, 11.80it/s]\n"
     ]
    },
    {
     "name": "stdout",
     "output_type": "stream",
     "text": [
      "{'val_loss': 1.8482549546695337, 'val_accuracy': 0.6361556064073226, 'precision': 0.6458497223796132, 'recall': 0.6361556064073226, 'f1-score': 0.6353772099466639, 'macro_f1-score': 0.40944064866884716, 'balanced_accuracy': 0.41757688440036594, 'mcc': 0.5315284728794456, 'train_loss': 0.09032800450125011}\n",
      "Epoch 8/20\n"
     ]
    },
    {
     "name": "stderr",
     "output_type": "stream",
     "text": [
      "100%|██████████| 716/716 [01:01<00:00, 11.70it/s]\n"
     ]
    },
    {
     "name": "stdout",
     "output_type": "stream",
     "text": [
      "{'val_loss': 1.8829134757198938, 'val_accuracy': 0.6552250190694127, 'precision': 0.6554674413855994, 'recall': 0.6552250190694127, 'f1-score': 0.6414836569075106, 'macro_f1-score': 0.39493291640651934, 'balanced_accuracy': 0.41489308239606393, 'mcc': 0.5476984153065864, 'train_loss': 0.09553116184786774}\n",
      "Early stopping.\n",
      "\n",
      "[Fold 3]\n",
      "🚀 Using Word2Vec + EDA (replace + deletion/swap) for data augmentation + under-sampling\n",
      "🔻 Under-sampling label 0: 2471 → 2000\n",
      "🔧 Augmenting label 1: 22 → 200 (+178)\n",
      "🔧 Augmenting label 2: 64 → 200 (+136)\n",
      "🔧 Augmenting label 3: 24 → 200 (+176)\n",
      "🔧 Augmenting label 4: 190 → 200 (+10)\n",
      "🔧 Augmenting label 5: 113 → 200 (+87)\n",
      "🔧 Augmenting label 6: 93 → 200 (+107)\n",
      "🔧 Augmenting label 7: 30 → 200 (+170)\n",
      "🔧 Augmenting label 8: 68 → 200 (+132)\n",
      "🔧 Augmenting label 9: 30 → 200 (+170)\n",
      "🔧 Augmenting label 10: 67 → 200 (+133)\n",
      "🔧 Augmenting label 11: 169 → 200 (+31)\n",
      "🔧 Augmenting label 12: 190 → 200 (+10)\n",
      "🔧 Augmenting label 13: 28 → 200 (+172)\n",
      "🔧 Augmenting label 14: 23 → 200 (+177)\n",
      "🔧 Augmenting label 15: 25 → 200 (+175)\n",
      "🔧 Augmenting label 16: 19 → 200 (+181)\n",
      "🔧 Augmenting label 17: 182 → 200 (+18)\n",
      "🔧 Augmenting label 18: 92 → 200 (+108)\n",
      "🔧 Augmenting label 19: 44 → 200 (+156)\n",
      "🔧 Augmenting label 20: 14 → 200 (+186)\n",
      "🔧 Augmenting label 21: 35 → 200 (+165)\n",
      "🔧 Augmenting label 22: 76 → 200 (+124)\n",
      "🔧 Augmenting label 23: 157 → 200 (+43)\n",
      "🔧 Augmenting label 24: 13 → 200 (+187)\n",
      "🔧 Augmenting label 25: 44 → 200 (+156)\n",
      "🔧 Augmenting label 26: 84 → 200 (+116)\n",
      "🔧 Augmenting label 27: 48 → 200 (+152)\n",
      "🔧 Augmenting label 28: 11 → 200 (+189)\n",
      "🔧 Augmenting label 29: 13 → 200 (+187)\n",
      "🔧 Augmenting label 30: 11 → 200 (+189)\n",
      "🔧 Augmenting label 31: 76 → 200 (+124)\n",
      "🔧 Augmenting label 32: 36 → 200 (+164)\n",
      "🔧 Augmenting label 33: 31 → 200 (+169)\n",
      "🔧 Augmenting label 34: 30 → 200 (+170)\n",
      "🔧 Augmenting label 35: 11 → 200 (+189)\n",
      "🔧 Augmenting label 36: 21 → 200 (+179)\n",
      "🔧 Augmenting label 37: 16 → 200 (+184)\n",
      "🔧 Augmenting label 38: 32 → 200 (+168)\n",
      "🔧 Augmenting label 39: 11 → 200 (+189)\n",
      "🔧 Augmenting label 40: 9 → 200 (+191)\n",
      "🔧 Augmenting label 41: 57 → 200 (+143)\n",
      "🔧 Augmenting label 42: 18 → 200 (+182)\n",
      "🔧 Augmenting label 43: 9 → 200 (+191)\n",
      "🔧 Augmenting label 44: 55 → 200 (+145)\n",
      "🔧 Augmenting label 46: 62 → 200 (+138)\n",
      "🔧 Augmenting label 47: 80 → 200 (+120)\n",
      "Label distribution after resampling:\n",
      "  label 0: 2000\n",
      "  label 1: 200\n",
      "  label 2: 200\n",
      "  label 3: 200\n",
      "  label 4: 200\n",
      "  label 5: 200\n",
      "  label 6: 200\n",
      "  label 7: 200\n",
      "  label 8: 200\n",
      "  label 9: 200\n",
      "  label 10: 200\n",
      "  label 11: 200\n",
      "  label 12: 200\n",
      "  label 13: 200\n",
      "  label 14: 200\n",
      "  label 15: 200\n",
      "  label 16: 200\n",
      "  label 17: 200\n",
      "  label 18: 200\n",
      "  label 19: 200\n",
      "  label 20: 200\n",
      "  label 21: 200\n",
      "  label 22: 200\n",
      "  label 23: 200\n",
      "  label 24: 200\n",
      "  label 25: 200\n",
      "  label 26: 200\n",
      "  label 27: 200\n",
      "  label 28: 200\n",
      "  label 29: 200\n",
      "  label 30: 200\n",
      "  label 31: 200\n",
      "  label 32: 200\n",
      "  label 33: 200\n",
      "  label 34: 200\n",
      "  label 35: 200\n",
      "  label 36: 200\n",
      "  label 37: 200\n",
      "  label 38: 200\n",
      "  label 39: 200\n",
      "  label 40: 200\n",
      "  label 41: 200\n",
      "  label 42: 200\n",
      "  label 43: 200\n",
      "  label 44: 200\n",
      "  label 45: 241\n",
      "  label 46: 200\n",
      "  label 47: 200\n",
      "model is bert-base-uncased\n"
     ]
    },
    {
     "name": "stderr",
     "output_type": "stream",
     "text": [
      "Some weights of BertForSequenceClassification were not initialized from the model checkpoint at bert-base-uncased and are newly initialized: ['classifier.bias', 'classifier.weight']\n",
      "You should probably TRAIN this model on a down-stream task to be able to use it for predictions and inference.\n"
     ]
    },
    {
     "name": "stdout",
     "output_type": "stream",
     "text": [
      "Epoch 1/20\n"
     ]
    },
    {
     "name": "stderr",
     "output_type": "stream",
     "text": [
      "100%|██████████| 716/716 [01:00<00:00, 11.78it/s]\n"
     ]
    },
    {
     "name": "stdout",
     "output_type": "stream",
     "text": [
      "{'val_loss': 1.6541670030210076, 'val_accuracy': 0.562929061784897, 'precision': 0.5641499059806061, 'recall': 0.562929061784897, 'f1-score': 0.5365705524457395, 'macro_f1-score': 0.33212877432381827, 'balanced_accuracy': 0.3529714681194736, 'mcc': 0.4068407190283102, 'train_loss': 2.4008345840363527}\n",
      "Epoch 2/20\n"
     ]
    },
    {
     "name": "stderr",
     "output_type": "stream",
     "text": [
      "100%|██████████| 716/716 [01:01<00:00, 11.71it/s]\n"
     ]
    },
    {
     "name": "stdout",
     "output_type": "stream",
     "text": [
      "{'val_loss': 1.5129877765004227, 'val_accuracy': 0.6300533943554538, 'precision': 0.6077663803185338, 'recall': 0.6300533943554538, 'f1-score': 0.5985402009744201, 'macro_f1-score': 0.3485049886001157, 'balanced_accuracy': 0.32184874708046074, 'mcc': 0.4898126512196976, 'train_loss': 0.9397178303200606}\n",
      "Epoch 3/20\n"
     ]
    },
    {
     "name": "stderr",
     "output_type": "stream",
     "text": [
      "100%|██████████| 716/716 [01:00<00:00, 11.79it/s]\n"
     ]
    },
    {
     "name": "stdout",
     "output_type": "stream",
     "text": [
      "{'val_loss': 1.730149838982559, 'val_accuracy': 0.5621662852784134, 'precision': 0.6127783959695936, 'recall': 0.5621662852784134, 'f1-score': 0.5637455715597366, 'macro_f1-score': 0.3691540721300078, 'balanced_accuracy': 0.37341789451238244, 'mcc': 0.42757324102270017, 'train_loss': 0.43339257239879175}\n",
      "Epoch 4/20\n"
     ]
    },
    {
     "name": "stderr",
     "output_type": "stream",
     "text": [
      "100%|██████████| 716/716 [01:00<00:00, 11.80it/s]\n"
     ]
    },
    {
     "name": "stdout",
     "output_type": "stream",
     "text": [
      "{'val_loss': 1.7040387501531258, 'val_accuracy': 0.6346300533943554, 'precision': 0.6317319507693463, 'recall': 0.6346300533943554, 'f1-score': 0.61710593609392, 'macro_f1-score': 0.37849797482277175, 'balanced_accuracy': 0.35919789786140527, 'mcc': 0.503896160618761, 'train_loss': 0.22427972879647096}\n",
      "Epoch 5/20\n"
     ]
    },
    {
     "name": "stderr",
     "output_type": "stream",
     "text": [
      "100%|██████████| 716/716 [01:00<00:00, 11.76it/s]\n"
     ]
    },
    {
     "name": "stdout",
     "output_type": "stream",
     "text": [
      "{'val_loss': 1.8488202719017863, 'val_accuracy': 0.6376811594202898, 'precision': 0.6214215468157681, 'recall': 0.6376811594202898, 'f1-score': 0.6184705511266826, 'macro_f1-score': 0.3863453189824683, 'balanced_accuracy': 0.36632149564016, 'mcc': 0.5093881952546623, 'train_loss': 0.14837786748968898}\n",
      "Epoch 6/20\n"
     ]
    },
    {
     "name": "stderr",
     "output_type": "stream",
     "text": [
      "100%|██████████| 716/716 [01:01<00:00, 11.69it/s]\n"
     ]
    },
    {
     "name": "stdout",
     "output_type": "stream",
     "text": [
      "{'val_loss': 1.9628268901894732, 'val_accuracy': 0.623951182303585, 'precision': 0.6332551697350796, 'recall': 0.623951182303585, 'f1-score': 0.6156606860653182, 'macro_f1-score': 0.3959248252560961, 'balanced_accuracy': 0.3591167026578368, 'mcc': 0.49455681960763004, 'train_loss': 0.11928093914780245}\n",
      "Epoch 7/20\n"
     ]
    },
    {
     "name": "stderr",
     "output_type": "stream",
     "text": [
      "100%|██████████| 716/716 [01:00<00:00, 11.77it/s]\n"
     ]
    },
    {
     "name": "stdout",
     "output_type": "stream",
     "text": [
      "{'val_loss': 2.035391476187037, 'val_accuracy': 0.6292906178489702, 'precision': 0.6431386534015602, 'recall': 0.6292906178489702, 'f1-score': 0.6193611956805083, 'macro_f1-score': 0.3877410894816928, 'balanced_accuracy': 0.3795718356887033, 'mcc': 0.5138590731957104, 'train_loss': 0.09308311017945554}\n",
      "Epoch 8/20\n"
     ]
    },
    {
     "name": "stderr",
     "output_type": "stream",
     "text": [
      "100%|██████████| 716/716 [01:00<00:00, 11.75it/s]\n"
     ]
    },
    {
     "name": "stdout",
     "output_type": "stream",
     "text": [
      "{'val_loss': 2.1561862566485637, 'val_accuracy': 0.6186117467581999, 'precision': 0.6145525064300743, 'recall': 0.6186117467581999, 'f1-score': 0.602620666849835, 'macro_f1-score': 0.3561863672899597, 'balanced_accuracy': 0.3360540790477398, 'mcc': 0.48385062636681725, 'train_loss': 0.07541859299549313}\n",
      "Epoch 9/20\n"
     ]
    },
    {
     "name": "stderr",
     "output_type": "stream",
     "text": [
      "100%|██████████| 716/716 [01:00<00:00, 11.80it/s]\n"
     ]
    },
    {
     "name": "stdout",
     "output_type": "stream",
     "text": [
      "{'val_loss': 2.1924493184949205, 'val_accuracy': 0.6170861937452327, 'precision': 0.6109865807391585, 'recall': 0.6170861937452327, 'f1-score': 0.6031699170299849, 'macro_f1-score': 0.37148146468116905, 'balanced_accuracy': 0.3875345818426394, 'mcc': 0.4935917920866157, 'train_loss': 0.09381206378544936}\n",
      "Early stopping.\n",
      "\n",
      "[Fold 4]\n",
      "🚀 Using Word2Vec + EDA (replace + deletion/swap) for data augmentation + under-sampling\n",
      "🔻 Under-sampling label 0: 2471 → 2000\n",
      "🔧 Augmenting label 1: 22 → 200 (+178)\n",
      "🔧 Augmenting label 2: 64 → 200 (+136)\n",
      "🔧 Augmenting label 3: 24 → 200 (+176)\n",
      "🔧 Augmenting label 4: 190 → 200 (+10)\n",
      "🔧 Augmenting label 5: 113 → 200 (+87)\n",
      "🔧 Augmenting label 6: 93 → 200 (+107)\n",
      "🔧 Augmenting label 7: 31 → 200 (+169)\n",
      "🔧 Augmenting label 8: 68 → 200 (+132)\n",
      "🔧 Augmenting label 9: 29 → 200 (+171)\n",
      "🔧 Augmenting label 10: 67 → 200 (+133)\n",
      "🔧 Augmenting label 11: 169 → 200 (+31)\n",
      "🔧 Augmenting label 12: 190 → 200 (+10)\n",
      "🔧 Augmenting label 13: 29 → 200 (+171)\n",
      "🔧 Augmenting label 14: 22 → 200 (+178)\n",
      "🔧 Augmenting label 15: 25 → 200 (+175)\n",
      "🔧 Augmenting label 16: 19 → 200 (+181)\n",
      "🔧 Augmenting label 17: 182 → 200 (+18)\n",
      "🔧 Augmenting label 18: 92 → 200 (+108)\n",
      "🔧 Augmenting label 19: 44 → 200 (+156)\n",
      "🔧 Augmenting label 20: 14 → 200 (+186)\n",
      "🔧 Augmenting label 21: 35 → 200 (+165)\n",
      "🔧 Augmenting label 22: 76 → 200 (+124)\n",
      "🔧 Augmenting label 23: 158 → 200 (+42)\n",
      "🔧 Augmenting label 24: 13 → 200 (+187)\n",
      "🔧 Augmenting label 25: 44 → 200 (+156)\n",
      "🔧 Augmenting label 26: 84 → 200 (+116)\n",
      "🔧 Augmenting label 27: 48 → 200 (+152)\n",
      "🔧 Augmenting label 28: 11 → 200 (+189)\n",
      "🔧 Augmenting label 29: 13 → 200 (+187)\n",
      "🔧 Augmenting label 30: 11 → 200 (+189)\n",
      "🔧 Augmenting label 31: 75 → 200 (+125)\n",
      "🔧 Augmenting label 32: 36 → 200 (+164)\n",
      "🔧 Augmenting label 33: 31 → 200 (+169)\n",
      "🔧 Augmenting label 34: 30 → 200 (+170)\n",
      "🔧 Augmenting label 35: 11 → 200 (+189)\n",
      "🔧 Augmenting label 36: 22 → 200 (+178)\n",
      "🔧 Augmenting label 37: 16 → 200 (+184)\n",
      "🔧 Augmenting label 38: 33 → 200 (+167)\n",
      "🔧 Augmenting label 39: 10 → 200 (+190)\n",
      "🔧 Augmenting label 40: 9 → 200 (+191)\n",
      "🔧 Augmenting label 41: 56 → 200 (+144)\n",
      "🔧 Augmenting label 42: 18 → 200 (+182)\n",
      "🔧 Augmenting label 43: 9 → 200 (+191)\n",
      "🔧 Augmenting label 44: 55 → 200 (+145)\n",
      "🔧 Augmenting label 46: 62 → 200 (+138)\n",
      "🔧 Augmenting label 47: 80 → 200 (+120)\n",
      "Label distribution after resampling:\n",
      "  label 0: 2000\n",
      "  label 1: 200\n",
      "  label 2: 200\n",
      "  label 3: 200\n",
      "  label 4: 200\n",
      "  label 5: 200\n",
      "  label 6: 200\n",
      "  label 7: 200\n",
      "  label 8: 200\n",
      "  label 9: 200\n",
      "  label 10: 200\n",
      "  label 11: 200\n",
      "  label 12: 200\n",
      "  label 13: 200\n",
      "  label 14: 200\n",
      "  label 15: 200\n",
      "  label 16: 200\n",
      "  label 17: 200\n",
      "  label 18: 200\n",
      "  label 19: 200\n",
      "  label 20: 200\n",
      "  label 21: 200\n",
      "  label 22: 200\n",
      "  label 23: 200\n",
      "  label 24: 200\n",
      "  label 25: 200\n",
      "  label 26: 200\n",
      "  label 27: 200\n",
      "  label 28: 200\n",
      "  label 29: 200\n",
      "  label 30: 200\n",
      "  label 31: 200\n",
      "  label 32: 200\n",
      "  label 33: 200\n",
      "  label 34: 200\n",
      "  label 35: 200\n",
      "  label 36: 200\n",
      "  label 37: 200\n",
      "  label 38: 200\n",
      "  label 39: 200\n",
      "  label 40: 200\n",
      "  label 41: 200\n",
      "  label 42: 200\n",
      "  label 43: 200\n",
      "  label 44: 200\n",
      "  label 45: 241\n",
      "  label 46: 200\n",
      "  label 47: 200\n",
      "model is bert-base-uncased\n"
     ]
    },
    {
     "name": "stderr",
     "output_type": "stream",
     "text": [
      "Some weights of BertForSequenceClassification were not initialized from the model checkpoint at bert-base-uncased and are newly initialized: ['classifier.bias', 'classifier.weight']\n",
      "You should probably TRAIN this model on a down-stream task to be able to use it for predictions and inference.\n"
     ]
    },
    {
     "name": "stdout",
     "output_type": "stream",
     "text": [
      "Epoch 1/20\n"
     ]
    },
    {
     "name": "stderr",
     "output_type": "stream",
     "text": [
      "100%|██████████| 716/716 [01:00<00:00, 11.75it/s]\n"
     ]
    },
    {
     "name": "stdout",
     "output_type": "stream",
     "text": [
      "{'val_loss': 1.8837238564723875, 'val_accuracy': 0.4996186117467582, 'precision': 0.5712816671560298, 'recall': 0.4996186117467582, 'f1-score': 0.508267543302967, 'macro_f1-score': 0.2462528723973423, 'balanced_accuracy': 0.3553260030002976, 'mcc': 0.3741957465193628, 'train_loss': 2.654820468339174}\n",
      "Epoch 2/20\n"
     ]
    },
    {
     "name": "stderr",
     "output_type": "stream",
     "text": [
      "100%|██████████| 716/716 [01:00<00:00, 11.75it/s]\n"
     ]
    },
    {
     "name": "stdout",
     "output_type": "stream",
     "text": [
      "{'val_loss': 1.5840343851141814, 'val_accuracy': 0.5903890160183066, 'precision': 0.6329898854423915, 'recall': 0.5903890160183066, 'f1-score': 0.588367882742303, 'macro_f1-score': 0.364066513474748, 'balanced_accuracy': 0.43370143560712576, 'mcc': 0.46367285664466035, 'train_loss': 1.1802976387422843}\n",
      "Epoch 3/20\n"
     ]
    },
    {
     "name": "stderr",
     "output_type": "stream",
     "text": [
      "100%|██████████| 716/716 [01:00<00:00, 11.81it/s]\n"
     ]
    },
    {
     "name": "stdout",
     "output_type": "stream",
     "text": [
      "{'val_loss': 1.532668745554075, 'val_accuracy': 0.6193745232646835, 'precision': 0.6311268160072736, 'recall': 0.6193745232646835, 'f1-score': 0.6106719398243186, 'macro_f1-score': 0.3846907676281888, 'balanced_accuracy': 0.4165925282178294, 'mcc': 0.5076481672799578, 'train_loss': 0.5673091905347628}\n",
      "Epoch 4/20\n"
     ]
    },
    {
     "name": "stderr",
     "output_type": "stream",
     "text": [
      "100%|██████████| 716/716 [01:00<00:00, 11.79it/s]\n"
     ]
    },
    {
     "name": "stdout",
     "output_type": "stream",
     "text": [
      "{'val_loss': 1.714605780999835, 'val_accuracy': 0.6018306636155606, 'precision': 0.6430055817852626, 'recall': 0.6018306636155606, 'f1-score': 0.6095534168836059, 'macro_f1-score': 0.39317611414622683, 'balanced_accuracy': 0.4356196091326752, 'mcc': 0.49852318826670455, 'train_loss': 0.31435978600843784}\n",
      "Epoch 5/20\n"
     ]
    },
    {
     "name": "stderr",
     "output_type": "stream",
     "text": [
      "100%|██████████| 716/716 [01:01<00:00, 11.73it/s]\n"
     ]
    },
    {
     "name": "stdout",
     "output_type": "stream",
     "text": [
      "{'val_loss': 1.7157728130497583, 'val_accuracy': 0.6399694889397407, 'precision': 0.6416003962964669, 'recall': 0.6399694889397407, 'f1-score': 0.6325867412245642, 'macro_f1-score': 0.4367339749821255, 'balanced_accuracy': 0.46892477970017543, 'mcc': 0.5312099207650066, 'train_loss': 0.2007860745168057}\n",
      "Epoch 6/20\n"
     ]
    },
    {
     "name": "stderr",
     "output_type": "stream",
     "text": [
      "100%|██████████| 716/716 [01:00<00:00, 11.75it/s]\n"
     ]
    },
    {
     "name": "stdout",
     "output_type": "stream",
     "text": [
      "{'val_loss': 1.8686916037667087, 'val_accuracy': 0.620137299771167, 'precision': 0.6501767232986039, 'recall': 0.620137299771167, 'f1-score': 0.6260005355159843, 'macro_f1-score': 0.4367122639379368, 'balanced_accuracy': 0.44802199133535486, 'mcc': 0.5134830699172462, 'train_loss': 0.1404044918814159}\n",
      "Epoch 7/20\n"
     ]
    },
    {
     "name": "stderr",
     "output_type": "stream",
     "text": [
      "100%|██████████| 716/716 [01:00<00:00, 11.75it/s]\n"
     ]
    },
    {
     "name": "stdout",
     "output_type": "stream",
     "text": [
      "{'val_loss': 2.0100188911324595, 'val_accuracy': 0.6491228070175439, 'precision': 0.6605445391640664, 'recall': 0.6491228070175439, 'f1-score': 0.6392148662266057, 'macro_f1-score': 0.4280316405914745, 'balanced_accuracy': 0.43062380222824626, 'mcc': 0.5322715553920929, 'train_loss': 0.10599457330002798}\n",
      "Epoch 8/20\n"
     ]
    },
    {
     "name": "stderr",
     "output_type": "stream",
     "text": [
      "100%|██████████| 716/716 [01:00<00:00, 11.79it/s]\n"
     ]
    },
    {
     "name": "stdout",
     "output_type": "stream",
     "text": [
      "{'val_loss': 1.988288362351496, 'val_accuracy': 0.6460717009916095, 'precision': 0.6547248401439668, 'recall': 0.6460717009916095, 'f1-score': 0.6291913309412709, 'macro_f1-score': 0.4344340417898598, 'balanced_accuracy': 0.4281532073682239, 'mcc': 0.5220092307041321, 'train_loss': 0.10101290997546998}\n",
      "Early stopping.\n",
      "\n",
      "[Fold 5]\n",
      "🚀 Using Word2Vec + EDA (replace + deletion/swap) for data augmentation + under-sampling\n",
      "🔻 Under-sampling label 0: 2472 → 2000\n",
      "🔧 Augmenting label 1: 21 → 200 (+179)\n",
      "🔧 Augmenting label 2: 64 → 200 (+136)\n",
      "🔧 Augmenting label 3: 24 → 200 (+176)\n",
      "🔧 Augmenting label 4: 191 → 200 (+9)\n",
      "🔧 Augmenting label 5: 112 → 200 (+88)\n",
      "🔧 Augmenting label 6: 92 → 200 (+108)\n",
      "🔧 Augmenting label 7: 31 → 200 (+169)\n",
      "🔧 Augmenting label 8: 68 → 200 (+132)\n",
      "🔧 Augmenting label 9: 29 → 200 (+171)\n",
      "🔧 Augmenting label 10: 68 → 200 (+132)\n",
      "🔧 Augmenting label 11: 168 → 200 (+32)\n",
      "🔧 Augmenting label 12: 190 → 200 (+10)\n",
      "🔧 Augmenting label 13: 29 → 200 (+171)\n",
      "🔧 Augmenting label 14: 22 → 200 (+178)\n",
      "🔧 Augmenting label 15: 25 → 200 (+175)\n",
      "🔧 Augmenting label 16: 19 → 200 (+181)\n",
      "🔧 Augmenting label 17: 183 → 200 (+17)\n",
      "🔧 Augmenting label 18: 92 → 200 (+108)\n",
      "🔧 Augmenting label 19: 44 → 200 (+156)\n",
      "🔧 Augmenting label 20: 14 → 200 (+186)\n",
      "🔧 Augmenting label 21: 35 → 200 (+165)\n",
      "🔧 Augmenting label 22: 76 → 200 (+124)\n",
      "🔧 Augmenting label 23: 158 → 200 (+42)\n",
      "🔧 Augmenting label 24: 13 → 200 (+187)\n",
      "🔧 Augmenting label 25: 44 → 200 (+156)\n",
      "🔧 Augmenting label 26: 84 → 200 (+116)\n",
      "🔧 Augmenting label 27: 48 → 200 (+152)\n",
      "🔧 Augmenting label 28: 11 → 200 (+189)\n",
      "🔧 Augmenting label 29: 13 → 200 (+187)\n",
      "🔧 Augmenting label 30: 11 → 200 (+189)\n",
      "🔧 Augmenting label 31: 75 → 200 (+125)\n",
      "🔧 Augmenting label 32: 36 → 200 (+164)\n",
      "🔧 Augmenting label 33: 31 → 200 (+169)\n",
      "🔧 Augmenting label 34: 30 → 200 (+170)\n",
      "🔧 Augmenting label 35: 11 → 200 (+189)\n",
      "🔧 Augmenting label 36: 22 → 200 (+178)\n",
      "🔧 Augmenting label 37: 16 → 200 (+184)\n",
      "🔧 Augmenting label 38: 33 → 200 (+167)\n",
      "🔧 Augmenting label 39: 10 → 200 (+190)\n",
      "🔧 Augmenting label 40: 9 → 200 (+191)\n",
      "🔧 Augmenting label 41: 57 → 200 (+143)\n",
      "🔧 Augmenting label 42: 18 → 200 (+182)\n",
      "🔧 Augmenting label 43: 9 → 200 (+191)\n",
      "🔧 Augmenting label 44: 54 → 200 (+146)\n",
      "🔧 Augmenting label 46: 61 → 200 (+139)\n",
      "🔧 Augmenting label 47: 80 → 200 (+120)\n",
      "Label distribution after resampling:\n",
      "  label 0: 2000\n",
      "  label 1: 200\n",
      "  label 2: 200\n",
      "  label 3: 200\n",
      "  label 4: 200\n",
      "  label 5: 200\n",
      "  label 6: 200\n",
      "  label 7: 200\n",
      "  label 8: 200\n",
      "  label 9: 200\n",
      "  label 10: 200\n",
      "  label 11: 200\n",
      "  label 12: 200\n",
      "  label 13: 200\n",
      "  label 14: 200\n",
      "  label 15: 200\n",
      "  label 16: 200\n",
      "  label 17: 200\n",
      "  label 18: 200\n",
      "  label 19: 200\n",
      "  label 20: 200\n",
      "  label 21: 200\n",
      "  label 22: 200\n",
      "  label 23: 200\n",
      "  label 24: 200\n",
      "  label 25: 200\n",
      "  label 26: 200\n",
      "  label 27: 200\n",
      "  label 28: 200\n",
      "  label 29: 200\n",
      "  label 30: 200\n",
      "  label 31: 200\n",
      "  label 32: 200\n",
      "  label 33: 200\n",
      "  label 34: 200\n",
      "  label 35: 200\n",
      "  label 36: 200\n",
      "  label 37: 200\n",
      "  label 38: 200\n",
      "  label 39: 200\n",
      "  label 40: 200\n",
      "  label 41: 200\n",
      "  label 42: 200\n",
      "  label 43: 200\n",
      "  label 44: 200\n",
      "  label 45: 242\n",
      "  label 46: 200\n",
      "  label 47: 200\n",
      "model is bert-base-uncased\n"
     ]
    },
    {
     "name": "stderr",
     "output_type": "stream",
     "text": [
      "Some weights of BertForSequenceClassification were not initialized from the model checkpoint at bert-base-uncased and are newly initialized: ['classifier.bias', 'classifier.weight']\n",
      "You should probably TRAIN this model on a down-stream task to be able to use it for predictions and inference.\n"
     ]
    },
    {
     "name": "stdout",
     "output_type": "stream",
     "text": [
      "Epoch 1/20\n"
     ]
    },
    {
     "name": "stderr",
     "output_type": "stream",
     "text": [
      "100%|██████████| 716/716 [01:00<00:00, 11.78it/s]\n"
     ]
    },
    {
     "name": "stdout",
     "output_type": "stream",
     "text": [
      "{'val_loss': 1.4883226450623535, 'val_accuracy': 0.6064073226544623, 'precision': 0.6592913356679931, 'recall': 0.6064073226544623, 'f1-score': 0.5793830085093815, 'macro_f1-score': 0.312309379635409, 'balanced_accuracy': 0.35304734102204494, 'mcc': 0.46845593756965964, 'train_loss': 2.3351413168887185}\n",
      "Epoch 2/20\n"
     ]
    },
    {
     "name": "stderr",
     "output_type": "stream",
     "text": [
      "100%|██████████| 716/716 [01:00<00:00, 11.82it/s]\n"
     ]
    },
    {
     "name": "stdout",
     "output_type": "stream",
     "text": [
      "{'val_loss': 1.451164778412842, 'val_accuracy': 0.6384439359267735, 'precision': 0.6587505791933875, 'recall': 0.6384439359267735, 'f1-score': 0.6330529557637495, 'macro_f1-score': 0.4008795993527148, 'balanced_accuracy': 0.42771640683159373, 'mcc': 0.5257491516863262, 'train_loss': 0.8606830188099233}\n",
      "Epoch 3/20\n"
     ]
    },
    {
     "name": "stderr",
     "output_type": "stream",
     "text": [
      "100%|██████████| 716/716 [01:00<00:00, 11.80it/s]\n"
     ]
    },
    {
     "name": "stdout",
     "output_type": "stream",
     "text": [
      "{'val_loss': 1.516189133248678, 'val_accuracy': 0.6506483600305111, 'precision': 0.6342966833115239, 'recall': 0.6506483600305111, 'f1-score': 0.6233274939310934, 'macro_f1-score': 0.3765725571711968, 'balanced_accuracy': 0.3580885716343038, 'mcc': 0.5245946591205681, 'train_loss': 0.3888919818678132}\n",
      "Epoch 4/20\n"
     ]
    },
    {
     "name": "stderr",
     "output_type": "stream",
     "text": [
      "100%|██████████| 716/716 [01:00<00:00, 11.80it/s]\n"
     ]
    },
    {
     "name": "stdout",
     "output_type": "stream",
     "text": [
      "{'val_loss': 1.6435953255106763, 'val_accuracy': 0.6475972540045767, 'precision': 0.650942029578185, 'recall': 0.6475972540045767, 'f1-score': 0.6425711778514026, 'macro_f1-score': 0.43320387541517763, 'balanced_accuracy': 0.4367545825191235, 'mcc': 0.5426906308808456, 'train_loss': 0.22092178152020833}\n",
      "Epoch 5/20\n"
     ]
    },
    {
     "name": "stderr",
     "output_type": "stream",
     "text": [
      "100%|██████████| 716/716 [01:00<00:00, 11.79it/s]\n"
     ]
    },
    {
     "name": "stdout",
     "output_type": "stream",
     "text": [
      "{'val_loss': 1.755037041699014, 'val_accuracy': 0.6536994660564455, 'precision': 0.650813003354828, 'recall': 0.6536994660564455, 'f1-score': 0.6436815333924665, 'macro_f1-score': 0.41871682114693565, 'balanced_accuracy': 0.4217992078988965, 'mcc': 0.5460777330396849, 'train_loss': 0.13675986470097895}\n",
      "Epoch 6/20\n"
     ]
    },
    {
     "name": "stderr",
     "output_type": "stream",
     "text": [
      "100%|██████████| 716/716 [01:00<00:00, 11.81it/s]\n"
     ]
    },
    {
     "name": "stdout",
     "output_type": "stream",
     "text": [
      "{'val_loss': 1.8197386933536064, 'val_accuracy': 0.6575133485888635, 'precision': 0.6439867227757706, 'recall': 0.6575133485888635, 'f1-score': 0.6421378367359439, 'macro_f1-score': 0.4004268281006674, 'balanced_accuracy': 0.39006706202730074, 'mcc': 0.5421755543468335, 'train_loss': 0.10378304773202822}\n",
      "Epoch 7/20\n"
     ]
    },
    {
     "name": "stderr",
     "output_type": "stream",
     "text": [
      "100%|██████████| 716/716 [01:00<00:00, 11.83it/s]\n"
     ]
    },
    {
     "name": "stdout",
     "output_type": "stream",
     "text": [
      "{'val_loss': 2.024080266312855, 'val_accuracy': 0.6216628527841342, 'precision': 0.6611957717414335, 'recall': 0.6216628527841342, 'f1-score': 0.6283337775173646, 'macro_f1-score': 0.3959283410313372, 'balanced_accuracy': 0.4273027591100626, 'mcc': 0.5179937453771044, 'train_loss': 0.09827996824748356}\n",
      "Early stopping.\n",
      "\n",
      " === bert-base-uncased + plain + word2vec_eda Final 5-fold Cross-Validation Results ===\n",
      "val_loss: 1.7633\n",
      "val_accuracy: 0.6377\n",
      "precision: 0.6459\n",
      "recall: 0.6377\n",
      "f1-score: 0.6321\n",
      "macro_f1-score: 0.4227\n",
      "balanced_accuracy: 0.4249\n",
      "mcc: 0.5234\n",
      "train_loss: 0.1586\n",
      "total_seconds: 2692.0000\n",
      "total_time: 0 hrs 44 mins 52 secs\n",
      "▶ Running: bert-base-uncased + cnn + word2vec_eda\n",
      "tokenizer is bert-base-uncased\n",
      "Using device: cuda\n",
      "CUDA Available: True\n",
      "CUDA Device: NVIDIA GeForce RTX 5070 Ti\n",
      "Current GPU Memory Allocated: 0.02 GB\n",
      "Current GPU Memory Cached: 3.14 GB\n",
      "\n",
      "[Fold 1]\n",
      "🚀 Using Word2Vec + EDA (replace + deletion/swap) for data augmentation + under-sampling\n",
      "🔻 Under-sampling label 0: 2471 → 2000\n",
      "🔧 Augmenting label 1: 21 → 200 (+179)\n",
      "🔧 Augmenting label 2: 64 → 200 (+136)\n",
      "🔧 Augmenting label 3: 24 → 200 (+176)\n",
      "🔧 Augmenting label 4: 191 → 200 (+9)\n",
      "🔧 Augmenting label 5: 113 → 200 (+87)\n",
      "🔧 Augmenting label 6: 93 → 200 (+107)\n",
      "🔧 Augmenting label 7: 30 → 200 (+170)\n",
      "🔧 Augmenting label 8: 68 → 200 (+132)\n",
      "🔧 Augmenting label 9: 30 → 200 (+170)\n",
      "🔧 Augmenting label 10: 67 → 200 (+133)\n",
      "🔧 Augmenting label 11: 169 → 200 (+31)\n",
      "🔧 Augmenting label 12: 189 → 200 (+11)\n",
      "🔧 Augmenting label 13: 29 → 200 (+171)\n",
      "🔧 Augmenting label 14: 22 → 200 (+178)\n",
      "🔧 Augmenting label 15: 25 → 200 (+175)\n",
      "🔧 Augmenting label 16: 19 → 200 (+181)\n",
      "🔧 Augmenting label 17: 183 → 200 (+17)\n",
      "🔧 Augmenting label 18: 92 → 200 (+108)\n",
      "🔧 Augmenting label 19: 44 → 200 (+156)\n",
      "🔧 Augmenting label 20: 13 → 200 (+187)\n",
      "🔧 Augmenting label 21: 35 → 200 (+165)\n",
      "🔧 Augmenting label 22: 76 → 200 (+124)\n",
      "🔧 Augmenting label 23: 158 → 200 (+42)\n",
      "🔧 Augmenting label 24: 13 → 200 (+187)\n",
      "🔧 Augmenting label 25: 44 → 200 (+156)\n",
      "🔧 Augmenting label 26: 84 → 200 (+116)\n",
      "🔧 Augmenting label 27: 48 → 200 (+152)\n",
      "🔧 Augmenting label 28: 11 → 200 (+189)\n",
      "🔧 Augmenting label 29: 13 → 200 (+187)\n",
      "🔧 Augmenting label 30: 11 → 200 (+189)\n",
      "🔧 Augmenting label 31: 75 → 200 (+125)\n",
      "🔧 Augmenting label 32: 36 → 200 (+164)\n",
      "🔧 Augmenting label 33: 32 → 200 (+168)\n",
      "🔧 Augmenting label 34: 29 → 200 (+171)\n",
      "🔧 Augmenting label 35: 11 → 200 (+189)\n",
      "🔧 Augmenting label 36: 22 → 200 (+178)\n",
      "🔧 Augmenting label 37: 16 → 200 (+184)\n",
      "🔧 Augmenting label 38: 33 → 200 (+167)\n",
      "🔧 Augmenting label 39: 10 → 200 (+190)\n",
      "🔧 Augmenting label 40: 9 → 200 (+191)\n",
      "🔧 Augmenting label 41: 57 → 200 (+143)\n",
      "🔧 Augmenting label 42: 19 → 200 (+181)\n",
      "🔧 Augmenting label 43: 8 → 200 (+192)\n",
      "🔧 Augmenting label 44: 54 → 200 (+146)\n",
      "🔧 Augmenting label 46: 61 → 200 (+139)\n",
      "🔧 Augmenting label 47: 80 → 200 (+120)\n",
      "Label distribution after resampling:\n",
      "  label 0: 2000\n",
      "  label 1: 200\n",
      "  label 2: 200\n",
      "  label 3: 200\n",
      "  label 4: 200\n",
      "  label 5: 200\n",
      "  label 6: 200\n",
      "  label 7: 200\n",
      "  label 8: 200\n",
      "  label 9: 200\n",
      "  label 10: 200\n",
      "  label 11: 200\n",
      "  label 12: 200\n",
      "  label 13: 200\n",
      "  label 14: 200\n",
      "  label 15: 200\n",
      "  label 16: 200\n",
      "  label 17: 200\n",
      "  label 18: 200\n",
      "  label 19: 200\n",
      "  label 20: 200\n",
      "  label 21: 200\n",
      "  label 22: 200\n",
      "  label 23: 200\n",
      "  label 24: 200\n",
      "  label 25: 200\n",
      "  label 26: 200\n",
      "  label 27: 200\n",
      "  label 28: 200\n",
      "  label 29: 200\n",
      "  label 30: 200\n",
      "  label 31: 200\n",
      "  label 32: 200\n",
      "  label 33: 200\n",
      "  label 34: 200\n",
      "  label 35: 200\n",
      "  label 36: 200\n",
      "  label 37: 200\n",
      "  label 38: 200\n",
      "  label 39: 200\n",
      "  label 40: 200\n",
      "  label 41: 200\n",
      "  label 42: 200\n",
      "  label 43: 200\n",
      "  label 44: 200\n",
      "  label 45: 242\n",
      "  label 46: 200\n",
      "  label 47: 200\n",
      "model is bert-base-uncased cnn\n",
      "Epoch 1/20\n"
     ]
    },
    {
     "name": "stderr",
     "output_type": "stream",
     "text": [
      "100%|██████████| 716/716 [01:02<00:00, 11.46it/s]\n"
     ]
    },
    {
     "name": "stdout",
     "output_type": "stream",
     "text": [
      "{'val_loss': 1.5846687442645795, 'val_accuracy': 0.5769817073170732, 'precision': 0.5766210113964179, 'recall': 0.5769817073170732, 'f1-score': 0.5598021635714231, 'macro_f1-score': 0.3364478271809552, 'balanced_accuracy': 0.3803809836549153, 'mcc': 0.4403433772836441, 'train_loss': 2.269130778712267}\n",
      "Epoch 2/20\n"
     ]
    },
    {
     "name": "stderr",
     "output_type": "stream",
     "text": [
      "100%|██████████| 716/716 [01:01<00:00, 11.55it/s]\n"
     ]
    },
    {
     "name": "stdout",
     "output_type": "stream",
     "text": [
      "{'val_loss': 1.5019951197432309, 'val_accuracy': 0.6128048780487805, 'precision': 0.6191894103973825, 'recall': 0.6128048780487805, 'f1-score': 0.6059416289525339, 'macro_f1-score': 0.3811802117898555, 'balanced_accuracy': 0.3951351194694867, 'mcc': 0.48267983948974563, 'train_loss': 0.8600625553111124}\n",
      "Epoch 3/20\n"
     ]
    },
    {
     "name": "stderr",
     "output_type": "stream",
     "text": [
      "100%|██████████| 716/716 [01:02<00:00, 11.54it/s]\n"
     ]
    },
    {
     "name": "stdout",
     "output_type": "stream",
     "text": [
      "{'val_loss': 1.6708783852617914, 'val_accuracy': 0.583079268292683, 'precision': 0.6274360988014167, 'recall': 0.583079268292683, 'f1-score': 0.5929312510212315, 'macro_f1-score': 0.3846716981865222, 'balanced_accuracy': 0.4231387616681026, 'mcc': 0.47967377603877925, 'train_loss': 0.39592896949229295}\n",
      "Epoch 4/20\n"
     ]
    },
    {
     "name": "stderr",
     "output_type": "stream",
     "text": [
      "100%|██████████| 716/716 [01:01<00:00, 11.55it/s]\n"
     ]
    },
    {
     "name": "stdout",
     "output_type": "stream",
     "text": [
      "{'val_loss': 1.841671337259979, 'val_accuracy': 0.6387195121951219, 'precision': 0.6148876874134432, 'recall': 0.6387195121951219, 'f1-score': 0.6000000869388029, 'macro_f1-score': 0.3995302285094386, 'balanced_accuracy': 0.36209791473443237, 'mcc': 0.4948244448686487, 'train_loss': 0.22731005316912378}\n",
      "Epoch 5/20\n"
     ]
    },
    {
     "name": "stderr",
     "output_type": "stream",
     "text": [
      "100%|██████████| 716/716 [01:01<00:00, 11.56it/s]\n"
     ]
    },
    {
     "name": "stdout",
     "output_type": "stream",
     "text": [
      "{'val_loss': 1.887571069343788, 'val_accuracy': 0.6501524390243902, 'precision': 0.6407081647006503, 'recall': 0.6501524390243902, 'f1-score': 0.6227489399871153, 'macro_f1-score': 0.4179112216134866, 'balanced_accuracy': 0.3792590633805095, 'mcc': 0.5183581661817834, 'train_loss': 0.1654906292405635}\n",
      "Epoch 6/20\n"
     ]
    },
    {
     "name": "stderr",
     "output_type": "stream",
     "text": [
      "100%|██████████| 716/716 [01:02<00:00, 11.52it/s]\n"
     ]
    },
    {
     "name": "stdout",
     "output_type": "stream",
     "text": [
      "{'val_loss': 1.9706540950914708, 'val_accuracy': 0.6234756097560976, 'precision': 0.6331410306727843, 'recall': 0.6234756097560976, 'f1-score': 0.6165936687447269, 'macro_f1-score': 0.4104323336733468, 'balanced_accuracy': 0.39883166014804966, 'mcc': 0.5000338718753242, 'train_loss': 0.1337504237807322}\n",
      "Epoch 7/20\n"
     ]
    },
    {
     "name": "stderr",
     "output_type": "stream",
     "text": [
      "100%|██████████| 716/716 [01:02<00:00, 11.51it/s]\n"
     ]
    },
    {
     "name": "stdout",
     "output_type": "stream",
     "text": [
      "{'val_loss': 2.149581348568928, 'val_accuracy': 0.618140243902439, 'precision': 0.6217793161488354, 'recall': 0.618140243902439, 'f1-score': 0.6051415897200988, 'macro_f1-score': 0.3675590439978378, 'balanced_accuracy': 0.39404268628412836, 'mcc': 0.4904917005871919, 'train_loss': 0.1196049908462225}\n",
      "Epoch 8/20\n"
     ]
    },
    {
     "name": "stderr",
     "output_type": "stream",
     "text": [
      "100%|██████████| 716/716 [01:02<00:00, 11.51it/s]\n"
     ]
    },
    {
     "name": "stdout",
     "output_type": "stream",
     "text": [
      "{'val_loss': 2.138948561214819, 'val_accuracy': 0.6257621951219512, 'precision': 0.6335100882423536, 'recall': 0.6257621951219512, 'f1-score': 0.6232129589795492, 'macro_f1-score': 0.40269483776289255, 'balanced_accuracy': 0.4163997228130604, 'mcc': 0.5135751549922025, 'train_loss': 0.09477633074044338}\n",
      "Early stopping.\n",
      "\n",
      "[Fold 2]\n",
      "🚀 Using Word2Vec + EDA (replace + deletion/swap) for data augmentation + under-sampling\n",
      "🔻 Under-sampling label 0: 2471 → 2000\n",
      "🔧 Augmenting label 1: 22 → 200 (+178)\n",
      "🔧 Augmenting label 2: 64 → 200 (+136)\n",
      "🔧 Augmenting label 3: 24 → 200 (+176)\n",
      "🔧 Augmenting label 4: 190 → 200 (+10)\n",
      "🔧 Augmenting label 5: 113 → 200 (+87)\n",
      "🔧 Augmenting label 6: 93 → 200 (+107)\n",
      "🔧 Augmenting label 7: 30 → 200 (+170)\n",
      "🔧 Augmenting label 8: 68 → 200 (+132)\n",
      "🔧 Augmenting label 9: 30 → 200 (+170)\n",
      "🔧 Augmenting label 10: 67 → 200 (+133)\n",
      "🔧 Augmenting label 11: 169 → 200 (+31)\n",
      "🔧 Augmenting label 12: 189 → 200 (+11)\n",
      "🔧 Augmenting label 13: 29 → 200 (+171)\n",
      "🔧 Augmenting label 14: 23 → 200 (+177)\n",
      "🔧 Augmenting label 15: 24 → 200 (+176)\n",
      "🔧 Augmenting label 16: 20 → 200 (+180)\n",
      "🔧 Augmenting label 17: 182 → 200 (+18)\n",
      "🔧 Augmenting label 18: 92 → 200 (+108)\n",
      "🔧 Augmenting label 19: 44 → 200 (+156)\n",
      "🔧 Augmenting label 20: 13 → 200 (+187)\n",
      "🔧 Augmenting label 21: 36 → 200 (+164)\n",
      "🔧 Augmenting label 22: 76 → 200 (+124)\n",
      "🔧 Augmenting label 23: 157 → 200 (+43)\n",
      "🔧 Augmenting label 24: 12 → 200 (+188)\n",
      "🔧 Augmenting label 25: 44 → 200 (+156)\n",
      "🔧 Augmenting label 26: 84 → 200 (+116)\n",
      "🔧 Augmenting label 27: 48 → 200 (+152)\n",
      "🔧 Augmenting label 28: 12 → 200 (+188)\n",
      "🔧 Augmenting label 29: 12 → 200 (+188)\n",
      "🔧 Augmenting label 30: 12 → 200 (+188)\n",
      "🔧 Augmenting label 31: 75 → 200 (+125)\n",
      "🔧 Augmenting label 32: 36 → 200 (+164)\n",
      "🔧 Augmenting label 33: 31 → 200 (+169)\n",
      "🔧 Augmenting label 34: 29 → 200 (+171)\n",
      "🔧 Augmenting label 35: 12 → 200 (+188)\n",
      "🔧 Augmenting label 36: 21 → 200 (+179)\n",
      "🔧 Augmenting label 37: 16 → 200 (+184)\n",
      "🔧 Augmenting label 38: 33 → 200 (+167)\n",
      "🔧 Augmenting label 39: 11 → 200 (+189)\n",
      "🔧 Augmenting label 40: 8 → 200 (+192)\n",
      "🔧 Augmenting label 41: 57 → 200 (+143)\n",
      "🔧 Augmenting label 42: 19 → 200 (+181)\n",
      "🔧 Augmenting label 43: 9 → 200 (+191)\n",
      "🔧 Augmenting label 44: 54 → 200 (+146)\n",
      "🔧 Augmenting label 46: 62 → 200 (+138)\n",
      "🔧 Augmenting label 47: 80 → 200 (+120)\n",
      "Label distribution after resampling:\n",
      "  label 0: 2000\n",
      "  label 1: 200\n",
      "  label 2: 200\n",
      "  label 3: 200\n",
      "  label 4: 200\n",
      "  label 5: 200\n",
      "  label 6: 200\n",
      "  label 7: 200\n",
      "  label 8: 200\n",
      "  label 9: 200\n",
      "  label 10: 200\n",
      "  label 11: 200\n",
      "  label 12: 200\n",
      "  label 13: 200\n",
      "  label 14: 200\n",
      "  label 15: 200\n",
      "  label 16: 200\n",
      "  label 17: 200\n",
      "  label 18: 200\n",
      "  label 19: 200\n",
      "  label 20: 200\n",
      "  label 21: 200\n",
      "  label 22: 200\n",
      "  label 23: 200\n",
      "  label 24: 200\n",
      "  label 25: 200\n",
      "  label 26: 200\n",
      "  label 27: 200\n",
      "  label 28: 200\n",
      "  label 29: 200\n",
      "  label 30: 200\n",
      "  label 31: 200\n",
      "  label 32: 200\n",
      "  label 33: 200\n",
      "  label 34: 200\n",
      "  label 35: 200\n",
      "  label 36: 200\n",
      "  label 37: 200\n",
      "  label 38: 200\n",
      "  label 39: 200\n",
      "  label 40: 200\n",
      "  label 41: 200\n",
      "  label 42: 200\n",
      "  label 43: 200\n",
      "  label 44: 200\n",
      "  label 45: 242\n",
      "  label 46: 200\n",
      "  label 47: 200\n",
      "model is bert-base-uncased cnn\n",
      "Epoch 1/20\n"
     ]
    },
    {
     "name": "stderr",
     "output_type": "stream",
     "text": [
      "100%|██████████| 716/716 [01:02<00:00, 11.52it/s]\n"
     ]
    },
    {
     "name": "stdout",
     "output_type": "stream",
     "text": [
      "{'val_loss': 1.442155444767417, 'val_accuracy': 0.597254004576659, 'precision': 0.5638259111175846, 'recall': 0.597254004576659, 'f1-score': 0.5650582658656329, 'macro_f1-score': 0.3095667496023907, 'balanced_accuracy': 0.35066774758465424, 'mcc': 0.45312343775458336, 'train_loss': 2.331629089553263}\n",
      "Epoch 2/20\n"
     ]
    },
    {
     "name": "stderr",
     "output_type": "stream",
     "text": [
      "100%|██████████| 716/716 [01:02<00:00, 11.54it/s]\n"
     ]
    },
    {
     "name": "stdout",
     "output_type": "stream",
     "text": [
      "{'val_loss': 1.4466846512585152, 'val_accuracy': 0.6254767353165522, 'precision': 0.6078366695064157, 'recall': 0.6254767353165522, 'f1-score': 0.5960096349429952, 'macro_f1-score': 0.3522120312103514, 'balanced_accuracy': 0.36942908503869054, 'mcc': 0.4889023824894808, 'train_loss': 0.8615210834557617}\n",
      "Epoch 3/20\n"
     ]
    },
    {
     "name": "stderr",
     "output_type": "stream",
     "text": [
      "100%|██████████| 716/716 [01:02<00:00, 11.48it/s]\n"
     ]
    },
    {
     "name": "stdout",
     "output_type": "stream",
     "text": [
      "{'val_loss': 1.542641620083553, 'val_accuracy': 0.6422578184591915, 'precision': 0.6466846717691899, 'recall': 0.6422578184591915, 'f1-score': 0.6327186416939625, 'macro_f1-score': 0.40257198187414484, 'balanced_accuracy': 0.4204306891091411, 'mcc': 0.5248042060158921, 'train_loss': 0.4168214067067514}\n",
      "Epoch 4/20\n"
     ]
    },
    {
     "name": "stderr",
     "output_type": "stream",
     "text": [
      "100%|██████████| 716/716 [01:02<00:00, 11.47it/s]\n"
     ]
    },
    {
     "name": "stdout",
     "output_type": "stream",
     "text": [
      "{'val_loss': 1.7153597746680422, 'val_accuracy': 0.6453089244851259, 'precision': 0.6214098503590042, 'recall': 0.6453089244851259, 'f1-score': 0.6207318040207815, 'macro_f1-score': 0.3736525693650674, 'balanced_accuracy': 0.3705136953732681, 'mcc': 0.5181902259964914, 'train_loss': 0.2319509281162901}\n",
      "Epoch 5/20\n"
     ]
    },
    {
     "name": "stderr",
     "output_type": "stream",
     "text": [
      "100%|██████████| 716/716 [01:02<00:00, 11.47it/s]\n"
     ]
    },
    {
     "name": "stdout",
     "output_type": "stream",
     "text": [
      "{'val_loss': 1.8893999617274215, 'val_accuracy': 0.5949656750572082, 'precision': 0.6403922581805414, 'recall': 0.5949656750572082, 'f1-score': 0.6044668452513876, 'macro_f1-score': 0.3742688820215559, 'balanced_accuracy': 0.4072821215682158, 'mcc': 0.49651386441888457, 'train_loss': 0.16941935416667425}\n",
      "Epoch 6/20\n"
     ]
    },
    {
     "name": "stderr",
     "output_type": "stream",
     "text": [
      "100%|██████████| 716/716 [01:01<00:00, 11.67it/s]\n"
     ]
    },
    {
     "name": "stdout",
     "output_type": "stream",
     "text": [
      "{'val_loss': 1.8877997002223643, 'val_accuracy': 0.6468344774980931, 'precision': 0.64384450460383, 'recall': 0.6468344774980931, 'f1-score': 0.6382380784871865, 'macro_f1-score': 0.3971288226858732, 'balanced_accuracy': 0.43022631703835096, 'mcc': 0.5382722904696075, 'train_loss': 0.11712166270977355}\n",
      "Early stopping.\n",
      "\n",
      "[Fold 3]\n",
      "🚀 Using Word2Vec + EDA (replace + deletion/swap) for data augmentation + under-sampling\n",
      "🔻 Under-sampling label 0: 2471 → 2000\n",
      "🔧 Augmenting label 1: 22 → 200 (+178)\n",
      "🔧 Augmenting label 2: 64 → 200 (+136)\n",
      "🔧 Augmenting label 3: 24 → 200 (+176)\n",
      "🔧 Augmenting label 4: 190 → 200 (+10)\n",
      "🔧 Augmenting label 5: 113 → 200 (+87)\n",
      "🔧 Augmenting label 6: 93 → 200 (+107)\n",
      "🔧 Augmenting label 7: 30 → 200 (+170)\n",
      "🔧 Augmenting label 8: 68 → 200 (+132)\n",
      "🔧 Augmenting label 9: 30 → 200 (+170)\n",
      "🔧 Augmenting label 10: 67 → 200 (+133)\n",
      "🔧 Augmenting label 11: 169 → 200 (+31)\n",
      "🔧 Augmenting label 12: 190 → 200 (+10)\n",
      "🔧 Augmenting label 13: 28 → 200 (+172)\n",
      "🔧 Augmenting label 14: 23 → 200 (+177)\n",
      "🔧 Augmenting label 15: 25 → 200 (+175)\n",
      "🔧 Augmenting label 16: 19 → 200 (+181)\n",
      "🔧 Augmenting label 17: 182 → 200 (+18)\n",
      "🔧 Augmenting label 18: 92 → 200 (+108)\n",
      "🔧 Augmenting label 19: 44 → 200 (+156)\n",
      "🔧 Augmenting label 20: 14 → 200 (+186)\n",
      "🔧 Augmenting label 21: 35 → 200 (+165)\n",
      "🔧 Augmenting label 22: 76 → 200 (+124)\n",
      "🔧 Augmenting label 23: 157 → 200 (+43)\n",
      "🔧 Augmenting label 24: 13 → 200 (+187)\n",
      "🔧 Augmenting label 25: 44 → 200 (+156)\n",
      "🔧 Augmenting label 26: 84 → 200 (+116)\n",
      "🔧 Augmenting label 27: 48 → 200 (+152)\n",
      "🔧 Augmenting label 28: 11 → 200 (+189)\n",
      "🔧 Augmenting label 29: 13 → 200 (+187)\n",
      "🔧 Augmenting label 30: 11 → 200 (+189)\n",
      "🔧 Augmenting label 31: 76 → 200 (+124)\n",
      "🔧 Augmenting label 32: 36 → 200 (+164)\n",
      "🔧 Augmenting label 33: 31 → 200 (+169)\n",
      "🔧 Augmenting label 34: 30 → 200 (+170)\n",
      "🔧 Augmenting label 35: 11 → 200 (+189)\n",
      "🔧 Augmenting label 36: 21 → 200 (+179)\n",
      "🔧 Augmenting label 37: 16 → 200 (+184)\n",
      "🔧 Augmenting label 38: 32 → 200 (+168)\n",
      "🔧 Augmenting label 39: 11 → 200 (+189)\n",
      "🔧 Augmenting label 40: 9 → 200 (+191)\n",
      "🔧 Augmenting label 41: 57 → 200 (+143)\n",
      "🔧 Augmenting label 42: 18 → 200 (+182)\n",
      "🔧 Augmenting label 43: 9 → 200 (+191)\n",
      "🔧 Augmenting label 44: 55 → 200 (+145)\n",
      "🔧 Augmenting label 46: 62 → 200 (+138)\n",
      "🔧 Augmenting label 47: 80 → 200 (+120)\n",
      "Label distribution after resampling:\n",
      "  label 0: 2000\n",
      "  label 1: 200\n",
      "  label 2: 200\n",
      "  label 3: 200\n",
      "  label 4: 200\n",
      "  label 5: 200\n",
      "  label 6: 200\n",
      "  label 7: 200\n",
      "  label 8: 200\n",
      "  label 9: 200\n",
      "  label 10: 200\n",
      "  label 11: 200\n",
      "  label 12: 200\n",
      "  label 13: 200\n",
      "  label 14: 200\n",
      "  label 15: 200\n",
      "  label 16: 200\n",
      "  label 17: 200\n",
      "  label 18: 200\n",
      "  label 19: 200\n",
      "  label 20: 200\n",
      "  label 21: 200\n",
      "  label 22: 200\n",
      "  label 23: 200\n",
      "  label 24: 200\n",
      "  label 25: 200\n",
      "  label 26: 200\n",
      "  label 27: 200\n",
      "  label 28: 200\n",
      "  label 29: 200\n",
      "  label 30: 200\n",
      "  label 31: 200\n",
      "  label 32: 200\n",
      "  label 33: 200\n",
      "  label 34: 200\n",
      "  label 35: 200\n",
      "  label 36: 200\n",
      "  label 37: 200\n",
      "  label 38: 200\n",
      "  label 39: 200\n",
      "  label 40: 200\n",
      "  label 41: 200\n",
      "  label 42: 200\n",
      "  label 43: 200\n",
      "  label 44: 200\n",
      "  label 45: 241\n",
      "  label 46: 200\n",
      "  label 47: 200\n",
      "model is bert-base-uncased cnn\n",
      "Epoch 1/20\n"
     ]
    },
    {
     "name": "stderr",
     "output_type": "stream",
     "text": [
      "100%|██████████| 716/716 [01:01<00:00, 11.69it/s]\n"
     ]
    },
    {
     "name": "stdout",
     "output_type": "stream",
     "text": [
      "{'val_loss': 1.6167643350072023, 'val_accuracy': 0.5522501906941266, 'precision': 0.5934853982808352, 'recall': 0.5522501906941266, 'f1-score': 0.5553398510019547, 'macro_f1-score': 0.3166226323437887, 'balanced_accuracy': 0.36659679393717765, 'mcc': 0.41874535324630585, 'train_loss': 2.288108442498985}\n",
      "Epoch 2/20\n"
     ]
    },
    {
     "name": "stderr",
     "output_type": "stream",
     "text": [
      "100%|██████████| 716/716 [01:01<00:00, 11.71it/s]\n"
     ]
    },
    {
     "name": "stdout",
     "output_type": "stream",
     "text": [
      "{'val_loss': 1.4408759536539637, 'val_accuracy': 0.6376811594202898, 'precision': 0.6380241453276408, 'recall': 0.6376811594202898, 'f1-score': 0.6153246804396045, 'macro_f1-score': 0.40724316594725707, 'balanced_accuracy': 0.4060904491821129, 'mcc': 0.5100849976864736, 'train_loss': 0.8394453473097785}\n",
      "Epoch 3/20\n"
     ]
    },
    {
     "name": "stderr",
     "output_type": "stream",
     "text": [
      "100%|██████████| 716/716 [01:01<00:00, 11.70it/s]\n"
     ]
    },
    {
     "name": "stdout",
     "output_type": "stream",
     "text": [
      "{'val_loss': 1.6994134990907297, 'val_accuracy': 0.6071700991609459, 'precision': 0.6366347474724927, 'recall': 0.6071700991609459, 'f1-score': 0.6070846119618242, 'macro_f1-score': 0.4050864373402763, 'balanced_accuracy': 0.41660254325978147, 'mcc': 0.49090287326387544, 'train_loss': 0.3893597779129554}\n",
      "Epoch 4/20\n"
     ]
    },
    {
     "name": "stderr",
     "output_type": "stream",
     "text": [
      "100%|██████████| 716/716 [01:01<00:00, 11.71it/s]\n"
     ]
    },
    {
     "name": "stdout",
     "output_type": "stream",
     "text": [
      "{'val_loss': 1.7253379285698984, 'val_accuracy': 0.623951182303585, 'precision': 0.6199744121569595, 'recall': 0.623951182303585, 'f1-score': 0.6063050593444244, 'macro_f1-score': 0.3803298012593632, 'balanced_accuracy': 0.3464740431155935, 'mcc': 0.49332295644643365, 'train_loss': 0.22414642970426288}\n",
      "Epoch 5/20\n"
     ]
    },
    {
     "name": "stderr",
     "output_type": "stream",
     "text": [
      "100%|██████████| 716/716 [01:01<00:00, 11.72it/s]\n"
     ]
    },
    {
     "name": "stdout",
     "output_type": "stream",
     "text": [
      "{'val_loss': 1.950337909570918, 'val_accuracy': 0.6483600305110603, 'precision': 0.634416620853574, 'recall': 0.6483600305110603, 'f1-score': 0.6240521088140557, 'macro_f1-score': 0.3975110247658192, 'balanced_accuracy': 0.3726828431394336, 'mcc': 0.51569898432172, 'train_loss': 0.16547773155258896}\n",
      "Early stopping.\n",
      "\n",
      "[Fold 4]\n",
      "🚀 Using Word2Vec + EDA (replace + deletion/swap) for data augmentation + under-sampling\n",
      "🔻 Under-sampling label 0: 2471 → 2000\n",
      "🔧 Augmenting label 1: 22 → 200 (+178)\n",
      "🔧 Augmenting label 2: 64 → 200 (+136)\n",
      "🔧 Augmenting label 3: 24 → 200 (+176)\n",
      "🔧 Augmenting label 4: 190 → 200 (+10)\n",
      "🔧 Augmenting label 5: 113 → 200 (+87)\n",
      "🔧 Augmenting label 6: 93 → 200 (+107)\n",
      "🔧 Augmenting label 7: 31 → 200 (+169)\n",
      "🔧 Augmenting label 8: 68 → 200 (+132)\n",
      "🔧 Augmenting label 9: 29 → 200 (+171)\n",
      "🔧 Augmenting label 10: 67 → 200 (+133)\n",
      "🔧 Augmenting label 11: 169 → 200 (+31)\n",
      "🔧 Augmenting label 12: 190 → 200 (+10)\n",
      "🔧 Augmenting label 13: 29 → 200 (+171)\n",
      "🔧 Augmenting label 14: 22 → 200 (+178)\n",
      "🔧 Augmenting label 15: 25 → 200 (+175)\n",
      "🔧 Augmenting label 16: 19 → 200 (+181)\n",
      "🔧 Augmenting label 17: 182 → 200 (+18)\n",
      "🔧 Augmenting label 18: 92 → 200 (+108)\n",
      "🔧 Augmenting label 19: 44 → 200 (+156)\n",
      "🔧 Augmenting label 20: 14 → 200 (+186)\n",
      "🔧 Augmenting label 21: 35 → 200 (+165)\n",
      "🔧 Augmenting label 22: 76 → 200 (+124)\n",
      "🔧 Augmenting label 23: 158 → 200 (+42)\n",
      "🔧 Augmenting label 24: 13 → 200 (+187)\n",
      "🔧 Augmenting label 25: 44 → 200 (+156)\n",
      "🔧 Augmenting label 26: 84 → 200 (+116)\n",
      "🔧 Augmenting label 27: 48 → 200 (+152)\n",
      "🔧 Augmenting label 28: 11 → 200 (+189)\n",
      "🔧 Augmenting label 29: 13 → 200 (+187)\n",
      "🔧 Augmenting label 30: 11 → 200 (+189)\n",
      "🔧 Augmenting label 31: 75 → 200 (+125)\n",
      "🔧 Augmenting label 32: 36 → 200 (+164)\n",
      "🔧 Augmenting label 33: 31 → 200 (+169)\n",
      "🔧 Augmenting label 34: 30 → 200 (+170)\n",
      "🔧 Augmenting label 35: 11 → 200 (+189)\n",
      "🔧 Augmenting label 36: 22 → 200 (+178)\n",
      "🔧 Augmenting label 37: 16 → 200 (+184)\n",
      "🔧 Augmenting label 38: 33 → 200 (+167)\n",
      "🔧 Augmenting label 39: 10 → 200 (+190)\n",
      "🔧 Augmenting label 40: 9 → 200 (+191)\n",
      "🔧 Augmenting label 41: 56 → 200 (+144)\n",
      "🔧 Augmenting label 42: 18 → 200 (+182)\n",
      "🔧 Augmenting label 43: 9 → 200 (+191)\n",
      "🔧 Augmenting label 44: 55 → 200 (+145)\n",
      "🔧 Augmenting label 46: 62 → 200 (+138)\n",
      "🔧 Augmenting label 47: 80 → 200 (+120)\n",
      "Label distribution after resampling:\n",
      "  label 0: 2000\n",
      "  label 1: 200\n",
      "  label 2: 200\n",
      "  label 3: 200\n",
      "  label 4: 200\n",
      "  label 5: 200\n",
      "  label 6: 200\n",
      "  label 7: 200\n",
      "  label 8: 200\n",
      "  label 9: 200\n",
      "  label 10: 200\n",
      "  label 11: 200\n",
      "  label 12: 200\n",
      "  label 13: 200\n",
      "  label 14: 200\n",
      "  label 15: 200\n",
      "  label 16: 200\n",
      "  label 17: 200\n",
      "  label 18: 200\n",
      "  label 19: 200\n",
      "  label 20: 200\n",
      "  label 21: 200\n",
      "  label 22: 200\n",
      "  label 23: 200\n",
      "  label 24: 200\n",
      "  label 25: 200\n",
      "  label 26: 200\n",
      "  label 27: 200\n",
      "  label 28: 200\n",
      "  label 29: 200\n",
      "  label 30: 200\n",
      "  label 31: 200\n",
      "  label 32: 200\n",
      "  label 33: 200\n",
      "  label 34: 200\n",
      "  label 35: 200\n",
      "  label 36: 200\n",
      "  label 37: 200\n",
      "  label 38: 200\n",
      "  label 39: 200\n",
      "  label 40: 200\n",
      "  label 41: 200\n",
      "  label 42: 200\n",
      "  label 43: 200\n",
      "  label 44: 200\n",
      "  label 45: 241\n",
      "  label 46: 200\n",
      "  label 47: 200\n",
      "model is bert-base-uncased cnn\n",
      "Epoch 1/20\n"
     ]
    },
    {
     "name": "stderr",
     "output_type": "stream",
     "text": [
      "100%|██████████| 716/716 [01:01<00:00, 11.70it/s]\n"
     ]
    },
    {
     "name": "stdout",
     "output_type": "stream",
     "text": [
      "{'val_loss': 1.4860107691549673, 'val_accuracy': 0.6071700991609459, 'precision': 0.624946411135815, 'recall': 0.6071700991609459, 'f1-score': 0.5780381721227981, 'macro_f1-score': 0.33732875684489555, 'balanced_accuracy': 0.3903322557882289, 'mcc': 0.47577352465402584, 'train_loss': 2.2611733933067852}\n",
      "Epoch 2/20\n"
     ]
    },
    {
     "name": "stderr",
     "output_type": "stream",
     "text": [
      "100%|██████████| 716/716 [01:01<00:00, 11.72it/s]\n"
     ]
    },
    {
     "name": "stdout",
     "output_type": "stream",
     "text": [
      "{'val_loss': 1.4809713053812341, 'val_accuracy': 0.6262395118230358, 'precision': 0.6493175895655918, 'recall': 0.6262395118230358, 'f1-score': 0.6243721495382536, 'macro_f1-score': 0.43198809883359024, 'balanced_accuracy': 0.4692109501660364, 'mcc': 0.5147386198387939, 'train_loss': 0.8451466811144485}\n",
      "Epoch 3/20\n"
     ]
    },
    {
     "name": "stderr",
     "output_type": "stream",
     "text": [
      "100%|██████████| 716/716 [01:01<00:00, 11.71it/s]\n"
     ]
    },
    {
     "name": "stdout",
     "output_type": "stream",
     "text": [
      "{'val_loss': 1.4973608686066255, 'val_accuracy': 0.6384439359267735, 'precision': 0.6612911945124318, 'recall': 0.6384439359267735, 'f1-score': 0.6365136704942762, 'macro_f1-score': 0.4329503987574637, 'balanced_accuracy': 0.4357543331992226, 'mcc': 0.5257363123530105, 'train_loss': 0.41767963485573756}\n",
      "Epoch 4/20\n"
     ]
    },
    {
     "name": "stderr",
     "output_type": "stream",
     "text": [
      "100%|██████████| 716/716 [01:01<00:00, 11.72it/s]\n"
     ]
    },
    {
     "name": "stdout",
     "output_type": "stream",
     "text": [
      "{'val_loss': 1.5246309331822685, 'val_accuracy': 0.662090007627765, 'precision': 0.6555102639731374, 'recall': 0.662090007627765, 'f1-score': 0.6470647653546526, 'macro_f1-score': 0.4181767388151583, 'balanced_accuracy': 0.41715876047554695, 'mcc': 0.5506334263283084, 'train_loss': 0.24276174453097557}\n",
      "Epoch 5/20\n"
     ]
    },
    {
     "name": "stderr",
     "output_type": "stream",
     "text": [
      "100%|██████████| 716/716 [01:01<00:00, 11.72it/s]\n"
     ]
    },
    {
     "name": "stdout",
     "output_type": "stream",
     "text": [
      "{'val_loss': 1.8582047094113943, 'val_accuracy': 0.6178489702517163, 'precision': 0.6492663208660628, 'recall': 0.6178489702517163, 'f1-score': 0.6265698671858435, 'macro_f1-score': 0.41719008092783855, 'balanced_accuracy': 0.44560398624411907, 'mcc': 0.5178985030236223, 'train_loss': 0.16903434470347936}\n",
      "Epoch 6/20\n"
     ]
    },
    {
     "name": "stderr",
     "output_type": "stream",
     "text": [
      "100%|██████████| 716/716 [01:01<00:00, 11.73it/s]\n"
     ]
    },
    {
     "name": "stdout",
     "output_type": "stream",
     "text": [
      "{'val_loss': 1.8259641535171285, 'val_accuracy': 0.6407322654462243, 'precision': 0.6522719321185204, 'recall': 0.6407322654462243, 'f1-score': 0.6395027004675332, 'macro_f1-score': 0.4319596501681852, 'balanced_accuracy': 0.4327014778439864, 'mcc': 0.5329675086441537, 'train_loss': 0.12667117769993821}\n",
      "Early stopping.\n",
      "\n",
      "[Fold 5]\n",
      "🚀 Using Word2Vec + EDA (replace + deletion/swap) for data augmentation + under-sampling\n",
      "🔻 Under-sampling label 0: 2472 → 2000\n",
      "🔧 Augmenting label 1: 21 → 200 (+179)\n",
      "🔧 Augmenting label 2: 64 → 200 (+136)\n",
      "🔧 Augmenting label 3: 24 → 200 (+176)\n",
      "🔧 Augmenting label 4: 191 → 200 (+9)\n",
      "🔧 Augmenting label 5: 112 → 200 (+88)\n",
      "🔧 Augmenting label 6: 92 → 200 (+108)\n",
      "🔧 Augmenting label 7: 31 → 200 (+169)\n",
      "🔧 Augmenting label 8: 68 → 200 (+132)\n",
      "🔧 Augmenting label 9: 29 → 200 (+171)\n",
      "🔧 Augmenting label 10: 68 → 200 (+132)\n",
      "🔧 Augmenting label 11: 168 → 200 (+32)\n",
      "🔧 Augmenting label 12: 190 → 200 (+10)\n",
      "🔧 Augmenting label 13: 29 → 200 (+171)\n",
      "🔧 Augmenting label 14: 22 → 200 (+178)\n",
      "🔧 Augmenting label 15: 25 → 200 (+175)\n",
      "🔧 Augmenting label 16: 19 → 200 (+181)\n",
      "🔧 Augmenting label 17: 183 → 200 (+17)\n",
      "🔧 Augmenting label 18: 92 → 200 (+108)\n",
      "🔧 Augmenting label 19: 44 → 200 (+156)\n",
      "🔧 Augmenting label 20: 14 → 200 (+186)\n",
      "🔧 Augmenting label 21: 35 → 200 (+165)\n",
      "🔧 Augmenting label 22: 76 → 200 (+124)\n",
      "🔧 Augmenting label 23: 158 → 200 (+42)\n",
      "🔧 Augmenting label 24: 13 → 200 (+187)\n",
      "🔧 Augmenting label 25: 44 → 200 (+156)\n",
      "🔧 Augmenting label 26: 84 → 200 (+116)\n",
      "🔧 Augmenting label 27: 48 → 200 (+152)\n",
      "🔧 Augmenting label 28: 11 → 200 (+189)\n",
      "🔧 Augmenting label 29: 13 → 200 (+187)\n",
      "🔧 Augmenting label 30: 11 → 200 (+189)\n",
      "🔧 Augmenting label 31: 75 → 200 (+125)\n",
      "🔧 Augmenting label 32: 36 → 200 (+164)\n",
      "🔧 Augmenting label 33: 31 → 200 (+169)\n",
      "🔧 Augmenting label 34: 30 → 200 (+170)\n",
      "🔧 Augmenting label 35: 11 → 200 (+189)\n",
      "🔧 Augmenting label 36: 22 → 200 (+178)\n",
      "🔧 Augmenting label 37: 16 → 200 (+184)\n",
      "🔧 Augmenting label 38: 33 → 200 (+167)\n",
      "🔧 Augmenting label 39: 10 → 200 (+190)\n",
      "🔧 Augmenting label 40: 9 → 200 (+191)\n",
      "🔧 Augmenting label 41: 57 → 200 (+143)\n",
      "🔧 Augmenting label 42: 18 → 200 (+182)\n",
      "🔧 Augmenting label 43: 9 → 200 (+191)\n",
      "🔧 Augmenting label 44: 54 → 200 (+146)\n",
      "🔧 Augmenting label 46: 61 → 200 (+139)\n",
      "🔧 Augmenting label 47: 80 → 200 (+120)\n",
      "Label distribution after resampling:\n",
      "  label 0: 2000\n",
      "  label 1: 200\n",
      "  label 2: 200\n",
      "  label 3: 200\n",
      "  label 4: 200\n",
      "  label 5: 200\n",
      "  label 6: 200\n",
      "  label 7: 200\n",
      "  label 8: 200\n",
      "  label 9: 200\n",
      "  label 10: 200\n",
      "  label 11: 200\n",
      "  label 12: 200\n",
      "  label 13: 200\n",
      "  label 14: 200\n",
      "  label 15: 200\n",
      "  label 16: 200\n",
      "  label 17: 200\n",
      "  label 18: 200\n",
      "  label 19: 200\n",
      "  label 20: 200\n",
      "  label 21: 200\n",
      "  label 22: 200\n",
      "  label 23: 200\n",
      "  label 24: 200\n",
      "  label 25: 200\n",
      "  label 26: 200\n",
      "  label 27: 200\n",
      "  label 28: 200\n",
      "  label 29: 200\n",
      "  label 30: 200\n",
      "  label 31: 200\n",
      "  label 32: 200\n",
      "  label 33: 200\n",
      "  label 34: 200\n",
      "  label 35: 200\n",
      "  label 36: 200\n",
      "  label 37: 200\n",
      "  label 38: 200\n",
      "  label 39: 200\n",
      "  label 40: 200\n",
      "  label 41: 200\n",
      "  label 42: 200\n",
      "  label 43: 200\n",
      "  label 44: 200\n",
      "  label 45: 242\n",
      "  label 46: 200\n",
      "  label 47: 200\n",
      "model is bert-base-uncased cnn\n",
      "Epoch 1/20\n"
     ]
    },
    {
     "name": "stderr",
     "output_type": "stream",
     "text": [
      "100%|██████████| 716/716 [01:01<00:00, 11.72it/s]\n"
     ]
    },
    {
     "name": "stdout",
     "output_type": "stream",
     "text": [
      "{'val_loss': 1.613246376194605, 'val_accuracy': 0.562929061784897, 'precision': 0.6238732655252535, 'recall': 0.562929061784897, 'f1-score': 0.5694875900341689, 'macro_f1-score': 0.364532627390408, 'balanced_accuracy': 0.46007856439853906, 'mcc': 0.44866426268264414, 'train_loss': 2.2591028052834825}\n",
      "Epoch 2/20\n"
     ]
    },
    {
     "name": "stderr",
     "output_type": "stream",
     "text": [
      "100%|██████████| 716/716 [01:01<00:00, 11.71it/s]\n"
     ]
    },
    {
     "name": "stdout",
     "output_type": "stream",
     "text": [
      "{'val_loss': 1.44675647122104, 'val_accuracy': 0.6475972540045767, 'precision': 0.638762271459682, 'recall': 0.6475972540045767, 'f1-score': 0.6110674229443351, 'macro_f1-score': 0.38871153476588943, 'balanced_accuracy': 0.38478862522765445, 'mcc': 0.5162803204209827, 'train_loss': 0.8048349136288938}\n",
      "Epoch 3/20\n"
     ]
    },
    {
     "name": "stderr",
     "output_type": "stream",
     "text": [
      "100%|██████████| 716/716 [01:01<00:00, 11.72it/s]\n"
     ]
    },
    {
     "name": "stdout",
     "output_type": "stream",
     "text": [
      "{'val_loss': 1.502092464304552, 'val_accuracy': 0.6575133485888635, 'precision': 0.6485031803970442, 'recall': 0.6575133485888635, 'f1-score': 0.636292998167106, 'macro_f1-score': 0.41267604714821404, 'balanced_accuracy': 0.4148245148069954, 'mcc': 0.5409157075515995, 'train_loss': 0.3868790164267301}\n",
      "Epoch 4/20\n"
     ]
    },
    {
     "name": "stderr",
     "output_type": "stream",
     "text": [
      "100%|██████████| 716/716 [01:01<00:00, 11.71it/s]\n"
     ]
    },
    {
     "name": "stdout",
     "output_type": "stream",
     "text": [
      "{'val_loss': 1.6618037616334311, 'val_accuracy': 0.6460717009916095, 'precision': 0.6526966868497291, 'recall': 0.6460717009916095, 'f1-score': 0.636707332823838, 'macro_f1-score': 0.4352904717991127, 'balanced_accuracy': 0.42978827233213535, 'mcc': 0.5318227353838132, 'train_loss': 0.2251647236397979}\n",
      "Epoch 5/20\n"
     ]
    },
    {
     "name": "stderr",
     "output_type": "stream",
     "text": [
      "100%|██████████| 716/716 [01:01<00:00, 11.72it/s]\n"
     ]
    },
    {
     "name": "stdout",
     "output_type": "stream",
     "text": [
      "{'val_loss': 1.6458381450757749, 'val_accuracy': 0.6460717009916095, 'precision': 0.6613575710603015, 'recall': 0.6460717009916095, 'f1-score': 0.642686374299123, 'macro_f1-score': 0.40555314953170757, 'balanced_accuracy': 0.39820613829057444, 'mcc': 0.5416012909272582, 'train_loss': 0.17211272179535408}\n",
      "Epoch 6/20\n"
     ]
    },
    {
     "name": "stderr",
     "output_type": "stream",
     "text": [
      "100%|██████████| 716/716 [01:01<00:00, 11.71it/s]\n"
     ]
    },
    {
     "name": "stdout",
     "output_type": "stream",
     "text": [
      "{'val_loss': 1.88802036733889, 'val_accuracy': 0.6025934401220442, 'precision': 0.6409353115611359, 'recall': 0.6025934401220442, 'f1-score': 0.6090692673228686, 'macro_f1-score': 0.4243699473738458, 'balanced_accuracy': 0.4545420617216596, 'mcc': 0.5057008091098579, 'train_loss': 0.1354845365816363}\n",
      "Epoch 7/20\n"
     ]
    },
    {
     "name": "stderr",
     "output_type": "stream",
     "text": [
      "100%|██████████| 716/716 [01:01<00:00, 11.71it/s]\n"
     ]
    },
    {
     "name": "stdout",
     "output_type": "stream",
     "text": [
      "{'val_loss': 1.989473564595711, 'val_accuracy': 0.6369183829138062, 'precision': 0.6337466575660613, 'recall': 0.6369183829138062, 'f1-score': 0.6176842265967339, 'macro_f1-score': 0.40677989260813563, 'balanced_accuracy': 0.39552830517622867, 'mcc': 0.5109864598554613, 'train_loss': 0.10580392079245736}\n",
      "Early stopping.\n",
      "\n",
      " === bert-base-uncased + cnn + word2vec_eda Final 5-fold Cross-Validation Results ===\n",
      "val_loss: 1.6061\n",
      "val_accuracy: 0.6429\n",
      "precision: 0.6479\n",
      "recall: 0.6429\n",
      "f1-score: 0.6288\n",
      "macro_f1-score: 0.4192\n",
      "balanced_accuracy: 0.4143\n",
      "mcc: 0.5222\n",
      "train_loss: 0.4129\n",
      "total_seconds: 2110.0000\n",
      "total_time: 0 hrs 35 mins 10 secs\n",
      "▶ Running: bert-base-uncased + lstm + word2vec_eda\n",
      "tokenizer is bert-base-uncased\n",
      "Using device: cuda\n",
      "CUDA Available: True\n",
      "CUDA Device: NVIDIA GeForce RTX 5070 Ti\n",
      "Current GPU Memory Allocated: 0.02 GB\n",
      "Current GPU Memory Cached: 3.14 GB\n",
      "\n",
      "[Fold 1]\n",
      "🚀 Using Word2Vec + EDA (replace + deletion/swap) for data augmentation + under-sampling\n",
      "🔻 Under-sampling label 0: 2471 → 2000\n",
      "🔧 Augmenting label 1: 21 → 200 (+179)\n",
      "🔧 Augmenting label 2: 64 → 200 (+136)\n",
      "🔧 Augmenting label 3: 24 → 200 (+176)\n",
      "🔧 Augmenting label 4: 191 → 200 (+9)\n",
      "🔧 Augmenting label 5: 113 → 200 (+87)\n",
      "🔧 Augmenting label 6: 93 → 200 (+107)\n",
      "🔧 Augmenting label 7: 30 → 200 (+170)\n",
      "🔧 Augmenting label 8: 68 → 200 (+132)\n",
      "🔧 Augmenting label 9: 30 → 200 (+170)\n",
      "🔧 Augmenting label 10: 67 → 200 (+133)\n",
      "🔧 Augmenting label 11: 169 → 200 (+31)\n",
      "🔧 Augmenting label 12: 189 → 200 (+11)\n",
      "🔧 Augmenting label 13: 29 → 200 (+171)\n",
      "🔧 Augmenting label 14: 22 → 200 (+178)\n",
      "🔧 Augmenting label 15: 25 → 200 (+175)\n",
      "🔧 Augmenting label 16: 19 → 200 (+181)\n",
      "🔧 Augmenting label 17: 183 → 200 (+17)\n",
      "🔧 Augmenting label 18: 92 → 200 (+108)\n",
      "🔧 Augmenting label 19: 44 → 200 (+156)\n",
      "🔧 Augmenting label 20: 13 → 200 (+187)\n",
      "🔧 Augmenting label 21: 35 → 200 (+165)\n",
      "🔧 Augmenting label 22: 76 → 200 (+124)\n",
      "🔧 Augmenting label 23: 158 → 200 (+42)\n",
      "🔧 Augmenting label 24: 13 → 200 (+187)\n",
      "🔧 Augmenting label 25: 44 → 200 (+156)\n",
      "🔧 Augmenting label 26: 84 → 200 (+116)\n",
      "🔧 Augmenting label 27: 48 → 200 (+152)\n",
      "🔧 Augmenting label 28: 11 → 200 (+189)\n",
      "🔧 Augmenting label 29: 13 → 200 (+187)\n",
      "🔧 Augmenting label 30: 11 → 200 (+189)\n",
      "🔧 Augmenting label 31: 75 → 200 (+125)\n",
      "🔧 Augmenting label 32: 36 → 200 (+164)\n",
      "🔧 Augmenting label 33: 32 → 200 (+168)\n",
      "🔧 Augmenting label 34: 29 → 200 (+171)\n",
      "🔧 Augmenting label 35: 11 → 200 (+189)\n",
      "🔧 Augmenting label 36: 22 → 200 (+178)\n",
      "🔧 Augmenting label 37: 16 → 200 (+184)\n",
      "🔧 Augmenting label 38: 33 → 200 (+167)\n",
      "🔧 Augmenting label 39: 10 → 200 (+190)\n",
      "🔧 Augmenting label 40: 9 → 200 (+191)\n",
      "🔧 Augmenting label 41: 57 → 200 (+143)\n",
      "🔧 Augmenting label 42: 19 → 200 (+181)\n",
      "🔧 Augmenting label 43: 8 → 200 (+192)\n",
      "🔧 Augmenting label 44: 54 → 200 (+146)\n",
      "🔧 Augmenting label 46: 61 → 200 (+139)\n",
      "🔧 Augmenting label 47: 80 → 200 (+120)\n",
      "Label distribution after resampling:\n",
      "  label 0: 2000\n",
      "  label 1: 200\n",
      "  label 2: 200\n",
      "  label 3: 200\n",
      "  label 4: 200\n",
      "  label 5: 200\n",
      "  label 6: 200\n",
      "  label 7: 200\n",
      "  label 8: 200\n",
      "  label 9: 200\n",
      "  label 10: 200\n",
      "  label 11: 200\n",
      "  label 12: 200\n",
      "  label 13: 200\n",
      "  label 14: 200\n",
      "  label 15: 200\n",
      "  label 16: 200\n",
      "  label 17: 200\n",
      "  label 18: 200\n",
      "  label 19: 200\n",
      "  label 20: 200\n",
      "  label 21: 200\n",
      "  label 22: 200\n",
      "  label 23: 200\n",
      "  label 24: 200\n",
      "  label 25: 200\n",
      "  label 26: 200\n",
      "  label 27: 200\n",
      "  label 28: 200\n",
      "  label 29: 200\n",
      "  label 30: 200\n",
      "  label 31: 200\n",
      "  label 32: 200\n",
      "  label 33: 200\n",
      "  label 34: 200\n",
      "  label 35: 200\n",
      "  label 36: 200\n",
      "  label 37: 200\n",
      "  label 38: 200\n",
      "  label 39: 200\n",
      "  label 40: 200\n",
      "  label 41: 200\n",
      "  label 42: 200\n",
      "  label 43: 200\n",
      "  label 44: 200\n",
      "  label 45: 242\n",
      "  label 46: 200\n",
      "  label 47: 200\n",
      "model is bert-base-uncased lstm\n",
      "Epoch 1/20\n"
     ]
    },
    {
     "name": "stderr",
     "output_type": "stream",
     "text": [
      "100%|██████████| 716/716 [01:04<00:00, 11.15it/s]\n"
     ]
    },
    {
     "name": "stdout",
     "output_type": "stream",
     "text": [
      "{'val_loss': 1.7696999387770165, 'val_accuracy': 0.5602134146341463, 'precision': 0.5734745678516643, 'recall': 0.5602134146341463, 'f1-score': 0.503361947539381, 'macro_f1-score': 0.2738722704000309, 'balanced_accuracy': 0.31774306303759414, 'mcc': 0.3792470689589652, 'train_loss': 2.541050536506003}\n",
      "Epoch 2/20\n"
     ]
    },
    {
     "name": "stderr",
     "output_type": "stream",
     "text": [
      "100%|██████████| 716/716 [01:03<00:00, 11.19it/s]\n"
     ]
    },
    {
     "name": "stdout",
     "output_type": "stream",
     "text": [
      "{'val_loss': 1.6470560965741552, 'val_accuracy': 0.569359756097561, 'precision': 0.5984867039109091, 'recall': 0.569359756097561, 'f1-score': 0.56108129737096, 'macro_f1-score': 0.3606207263645967, 'balanced_accuracy': 0.39157033529919394, 'mcc': 0.4323777902106126, 'train_loss': 1.3255951792917438}\n",
      "Epoch 3/20\n"
     ]
    },
    {
     "name": "stderr",
     "output_type": "stream",
     "text": [
      "100%|██████████| 716/716 [01:03<00:00, 11.19it/s]\n"
     ]
    },
    {
     "name": "stdout",
     "output_type": "stream",
     "text": [
      "{'val_loss': 1.6419368891454325, 'val_accuracy': 0.5990853658536586, 'precision': 0.6270856931524424, 'recall': 0.5990853658536586, 'f1-score': 0.5992161485537506, 'macro_f1-score': 0.3751251989426693, 'balanced_accuracy': 0.41656239223315467, 'mcc': 0.47846179909676395, 'train_loss': 0.8415272311832984}\n",
      "Epoch 4/20\n"
     ]
    },
    {
     "name": "stderr",
     "output_type": "stream",
     "text": [
      "100%|██████████| 716/716 [01:04<00:00, 11.13it/s]\n"
     ]
    },
    {
     "name": "stdout",
     "output_type": "stream",
     "text": [
      "{'val_loss': 1.5822298052470858, 'val_accuracy': 0.6227134146341463, 'precision': 0.6254808151203258, 'recall': 0.6227134146341463, 'f1-score': 0.6090083560410294, 'macro_f1-score': 0.38764817216537445, 'balanced_accuracy': 0.38865097347637195, 'mcc': 0.49431750971205546, 'train_loss': 0.5505048334962745}\n",
      "Epoch 5/20\n"
     ]
    },
    {
     "name": "stderr",
     "output_type": "stream",
     "text": [
      "100%|██████████| 716/716 [01:04<00:00, 11.16it/s]\n"
     ]
    },
    {
     "name": "stdout",
     "output_type": "stream",
     "text": [
      "{'val_loss': 1.6871698985739452, 'val_accuracy': 0.6036585365853658, 'precision': 0.6263497550341709, 'recall': 0.6036585365853658, 'f1-score': 0.6053476031078688, 'macro_f1-score': 0.38278440475292913, 'balanced_accuracy': 0.40903149086136364, 'mcc': 0.48996105728171635, 'train_loss': 0.39499251022102444}\n",
      "Epoch 6/20\n"
     ]
    },
    {
     "name": "stderr",
     "output_type": "stream",
     "text": [
      "100%|██████████| 716/716 [01:04<00:00, 11.17it/s]\n"
     ]
    },
    {
     "name": "stdout",
     "output_type": "stream",
     "text": [
      "{'val_loss': 1.7281388745802204, 'val_accuracy': 0.6135670731707317, 'precision': 0.6168768234474641, 'recall': 0.6135670731707317, 'f1-score': 0.5961007191835438, 'macro_f1-score': 0.37213216341856015, 'balanced_accuracy': 0.3563652300434364, 'mcc': 0.46935034512087004, 'train_loss': 0.31786597882756473}\n",
      "Epoch 7/20\n"
     ]
    },
    {
     "name": "stderr",
     "output_type": "stream",
     "text": [
      "100%|██████████| 716/716 [01:04<00:00, 11.18it/s]\n"
     ]
    },
    {
     "name": "stdout",
     "output_type": "stream",
     "text": [
      "{'val_loss': 1.6507203397227497, 'val_accuracy': 0.6387195121951219, 'precision': 0.6257515213687932, 'recall': 0.6387195121951219, 'f1-score': 0.6216155691150124, 'macro_f1-score': 0.39574127510562657, 'balanced_accuracy': 0.39477731083815537, 'mcc': 0.5125594660069437, 'train_loss': 0.2407765592859444}\n",
      "Epoch 8/20\n"
     ]
    },
    {
     "name": "stderr",
     "output_type": "stream",
     "text": [
      "100%|██████████| 716/716 [01:04<00:00, 11.18it/s]\n"
     ]
    },
    {
     "name": "stdout",
     "output_type": "stream",
     "text": [
      "{'val_loss': 1.787850863322979, 'val_accuracy': 0.6272865853658537, 'precision': 0.6404377650619584, 'recall': 0.6272865853658537, 'f1-score': 0.6274523864272189, 'macro_f1-score': 0.4120703959707568, 'balanced_accuracy': 0.4305276795635315, 'mcc': 0.5149043341322818, 'train_loss': 0.18685988103970885}\n",
      "Epoch 9/20\n"
     ]
    },
    {
     "name": "stderr",
     "output_type": "stream",
     "text": [
      "100%|██████████| 716/716 [01:04<00:00, 11.13it/s]\n"
     ]
    },
    {
     "name": "stdout",
     "output_type": "stream",
     "text": [
      "{'val_loss': 1.824895341948765, 'val_accuracy': 0.6532012195121951, 'precision': 0.6489286575932949, 'recall': 0.6532012195121951, 'f1-score': 0.6381967778524327, 'macro_f1-score': 0.41369415718665453, 'balanced_accuracy': 0.39647631598420247, 'mcc': 0.5313390047012059, 'train_loss': 0.1836924829530691}\n",
      "Epoch 10/20\n"
     ]
    },
    {
     "name": "stderr",
     "output_type": "stream",
     "text": [
      "100%|██████████| 716/716 [01:04<00:00, 11.17it/s]\n"
     ]
    },
    {
     "name": "stdout",
     "output_type": "stream",
     "text": [
      "{'val_loss': 1.9528748224057801, 'val_accuracy': 0.6272865853658537, 'precision': 0.6415369296496074, 'recall': 0.6272865853658537, 'f1-score': 0.6244726793043389, 'macro_f1-score': 0.4116743204000451, 'balanced_accuracy': 0.41070806131888976, 'mcc': 0.512971298156131, 'train_loss': 0.14203986100717214}\n",
      "Epoch 11/20\n"
     ]
    },
    {
     "name": "stderr",
     "output_type": "stream",
     "text": [
      "100%|██████████| 716/716 [01:04<00:00, 11.17it/s]\n"
     ]
    },
    {
     "name": "stdout",
     "output_type": "stream",
     "text": [
      "{'val_loss': 2.0929686474363978, 'val_accuracy': 0.6425304878048781, 'precision': 0.6231429417653491, 'recall': 0.6425304878048781, 'f1-score': 0.6085816564974121, 'macro_f1-score': 0.3711273557407678, 'balanced_accuracy': 0.3359780023433275, 'mcc': 0.5005347866420184, 'train_loss': 0.1495368576624207}\n",
      "Epoch 12/20\n"
     ]
    },
    {
     "name": "stderr",
     "output_type": "stream",
     "text": [
      "100%|██████████| 716/716 [01:04<00:00, 11.17it/s]\n"
     ]
    },
    {
     "name": "stdout",
     "output_type": "stream",
     "text": [
      "{'val_loss': 2.0204382647828356, 'val_accuracy': 0.6371951219512195, 'precision': 0.6284125097706073, 'recall': 0.6371951219512195, 'f1-score': 0.6228689931075047, 'macro_f1-score': 0.3881337723386711, 'balanced_accuracy': 0.3855661516763776, 'mcc': 0.5147018067684193, 'train_loss': 0.13326259056761777}\n",
      "Early stopping.\n",
      "\n",
      "[Fold 2]\n",
      "🚀 Using Word2Vec + EDA (replace + deletion/swap) for data augmentation + under-sampling\n",
      "🔻 Under-sampling label 0: 2471 → 2000\n",
      "🔧 Augmenting label 1: 22 → 200 (+178)\n",
      "🔧 Augmenting label 2: 64 → 200 (+136)\n",
      "🔧 Augmenting label 3: 24 → 200 (+176)\n",
      "🔧 Augmenting label 4: 190 → 200 (+10)\n",
      "🔧 Augmenting label 5: 113 → 200 (+87)\n",
      "🔧 Augmenting label 6: 93 → 200 (+107)\n",
      "🔧 Augmenting label 7: 30 → 200 (+170)\n",
      "🔧 Augmenting label 8: 68 → 200 (+132)\n",
      "🔧 Augmenting label 9: 30 → 200 (+170)\n",
      "🔧 Augmenting label 10: 67 → 200 (+133)\n",
      "🔧 Augmenting label 11: 169 → 200 (+31)\n",
      "🔧 Augmenting label 12: 189 → 200 (+11)\n",
      "🔧 Augmenting label 13: 29 → 200 (+171)\n",
      "🔧 Augmenting label 14: 23 → 200 (+177)\n",
      "🔧 Augmenting label 15: 24 → 200 (+176)\n",
      "🔧 Augmenting label 16: 20 → 200 (+180)\n",
      "🔧 Augmenting label 17: 182 → 200 (+18)\n",
      "🔧 Augmenting label 18: 92 → 200 (+108)\n",
      "🔧 Augmenting label 19: 44 → 200 (+156)\n",
      "🔧 Augmenting label 20: 13 → 200 (+187)\n",
      "🔧 Augmenting label 21: 36 → 200 (+164)\n",
      "🔧 Augmenting label 22: 76 → 200 (+124)\n",
      "🔧 Augmenting label 23: 157 → 200 (+43)\n",
      "🔧 Augmenting label 24: 12 → 200 (+188)\n",
      "🔧 Augmenting label 25: 44 → 200 (+156)\n",
      "🔧 Augmenting label 26: 84 → 200 (+116)\n",
      "🔧 Augmenting label 27: 48 → 200 (+152)\n",
      "🔧 Augmenting label 28: 12 → 200 (+188)\n",
      "🔧 Augmenting label 29: 12 → 200 (+188)\n",
      "🔧 Augmenting label 30: 12 → 200 (+188)\n",
      "🔧 Augmenting label 31: 75 → 200 (+125)\n",
      "🔧 Augmenting label 32: 36 → 200 (+164)\n",
      "🔧 Augmenting label 33: 31 → 200 (+169)\n",
      "🔧 Augmenting label 34: 29 → 200 (+171)\n",
      "🔧 Augmenting label 35: 12 → 200 (+188)\n",
      "🔧 Augmenting label 36: 21 → 200 (+179)\n",
      "🔧 Augmenting label 37: 16 → 200 (+184)\n",
      "🔧 Augmenting label 38: 33 → 200 (+167)\n",
      "🔧 Augmenting label 39: 11 → 200 (+189)\n",
      "🔧 Augmenting label 40: 8 → 200 (+192)\n",
      "🔧 Augmenting label 41: 57 → 200 (+143)\n",
      "🔧 Augmenting label 42: 19 → 200 (+181)\n",
      "🔧 Augmenting label 43: 9 → 200 (+191)\n",
      "🔧 Augmenting label 44: 54 → 200 (+146)\n",
      "🔧 Augmenting label 46: 62 → 200 (+138)\n",
      "🔧 Augmenting label 47: 80 → 200 (+120)\n",
      "Label distribution after resampling:\n",
      "  label 0: 2000\n",
      "  label 1: 200\n",
      "  label 2: 200\n",
      "  label 3: 200\n",
      "  label 4: 200\n",
      "  label 5: 200\n",
      "  label 6: 200\n",
      "  label 7: 200\n",
      "  label 8: 200\n",
      "  label 9: 200\n",
      "  label 10: 200\n",
      "  label 11: 200\n",
      "  label 12: 200\n",
      "  label 13: 200\n",
      "  label 14: 200\n",
      "  label 15: 200\n",
      "  label 16: 200\n",
      "  label 17: 200\n",
      "  label 18: 200\n",
      "  label 19: 200\n",
      "  label 20: 200\n",
      "  label 21: 200\n",
      "  label 22: 200\n",
      "  label 23: 200\n",
      "  label 24: 200\n",
      "  label 25: 200\n",
      "  label 26: 200\n",
      "  label 27: 200\n",
      "  label 28: 200\n",
      "  label 29: 200\n",
      "  label 30: 200\n",
      "  label 31: 200\n",
      "  label 32: 200\n",
      "  label 33: 200\n",
      "  label 34: 200\n",
      "  label 35: 200\n",
      "  label 36: 200\n",
      "  label 37: 200\n",
      "  label 38: 200\n",
      "  label 39: 200\n",
      "  label 40: 200\n",
      "  label 41: 200\n",
      "  label 42: 200\n",
      "  label 43: 200\n",
      "  label 44: 200\n",
      "  label 45: 242\n",
      "  label 46: 200\n",
      "  label 47: 200\n",
      "model is bert-base-uncased lstm\n",
      "Epoch 1/20\n"
     ]
    },
    {
     "name": "stderr",
     "output_type": "stream",
     "text": [
      "100%|██████████| 716/716 [01:04<00:00, 11.14it/s]\n"
     ]
    },
    {
     "name": "stdout",
     "output_type": "stream",
     "text": [
      "{'val_loss': 1.6482069107090556, 'val_accuracy': 0.5812356979405034, 'precision': 0.5384413765324497, 'recall': 0.5812356979405034, 'f1-score': 0.5134002882831369, 'macro_f1-score': 0.27593181080885626, 'balanced_accuracy': 0.325952929970315, 'mcc': 0.405222861654256, 'train_loss': 2.5429434495764736}\n",
      "Epoch 2/20\n"
     ]
    },
    {
     "name": "stderr",
     "output_type": "stream",
     "text": [
      "100%|██████████| 716/716 [01:03<00:00, 11.19it/s]\n"
     ]
    },
    {
     "name": "stdout",
     "output_type": "stream",
     "text": [
      "{'val_loss': 1.513208986782446, 'val_accuracy': 0.5987795575896262, 'precision': 0.6160488437609284, 'recall': 0.5987795575896262, 'f1-score': 0.5905502528681196, 'macro_f1-score': 0.3453578190346122, 'balanced_accuracy': 0.38838975196753694, 'mcc': 0.469829520220213, 'train_loss': 1.3282274122677702}\n",
      "Epoch 3/20\n"
     ]
    },
    {
     "name": "stderr",
     "output_type": "stream",
     "text": [
      "100%|██████████| 716/716 [01:04<00:00, 11.17it/s]\n"
     ]
    },
    {
     "name": "stdout",
     "output_type": "stream",
     "text": [
      "{'val_loss': 1.4836102360632362, 'val_accuracy': 0.6331045003813882, 'precision': 0.6378269933609034, 'recall': 0.6331045003813882, 'f1-score': 0.6224099038145592, 'macro_f1-score': 0.39472804698988617, 'balanced_accuracy': 0.42884314694807174, 'mcc': 0.5130355028713628, 'train_loss': 0.8901306537692774}\n",
      "Epoch 4/20\n"
     ]
    },
    {
     "name": "stderr",
     "output_type": "stream",
     "text": [
      "100%|██████████| 716/716 [01:04<00:00, 11.17it/s]\n"
     ]
    },
    {
     "name": "stdout",
     "output_type": "stream",
     "text": [
      "{'val_loss': 1.520860954028804, 'val_accuracy': 0.6346300533943554, 'precision': 0.6406180985702995, 'recall': 0.6346300533943554, 'f1-score': 0.6233798305247783, 'macro_f1-score': 0.3954468143496477, 'balanced_accuracy': 0.4258819698987684, 'mcc': 0.5108734523238663, 'train_loss': 0.6255247543394232}\n",
      "Epoch 5/20\n"
     ]
    },
    {
     "name": "stderr",
     "output_type": "stream",
     "text": [
      "100%|██████████| 716/716 [01:04<00:00, 11.16it/s]\n"
     ]
    },
    {
     "name": "stdout",
     "output_type": "stream",
     "text": [
      "{'val_loss': 1.5640423726744768, 'val_accuracy': 0.6308161708619374, 'precision': 0.6478491493464555, 'recall': 0.6308161708619374, 'f1-score': 0.6313084086573831, 'macro_f1-score': 0.4107039532827455, 'balanced_accuracy': 0.4418055717729789, 'mcc': 0.5212245868124095, 'train_loss': 0.45376051010241386}\n",
      "Epoch 6/20\n"
     ]
    },
    {
     "name": "stderr",
     "output_type": "stream",
     "text": [
      "100%|██████████| 716/716 [01:03<00:00, 11.19it/s]\n"
     ]
    },
    {
     "name": "stdout",
     "output_type": "stream",
     "text": [
      "{'val_loss': 1.7729352538178607, 'val_accuracy': 0.5873379099923722, 'precision': 0.6343468179116817, 'recall': 0.5873379099923722, 'f1-score': 0.5929511632705488, 'macro_f1-score': 0.36589383924066526, 'balanced_accuracy': 0.415917516496656, 'mcc': 0.4762974949850002, 'train_loss': 0.3422681422196537}\n",
      "Epoch 7/20\n"
     ]
    },
    {
     "name": "stderr",
     "output_type": "stream",
     "text": [
      "100%|██████████| 716/716 [01:04<00:00, 11.17it/s]\n"
     ]
    },
    {
     "name": "stdout",
     "output_type": "stream",
     "text": [
      "{'val_loss': 1.6148994775806986, 'val_accuracy': 0.6407322654462243, 'precision': 0.6203980806599272, 'recall': 0.6407322654462243, 'f1-score': 0.6231841504264748, 'macro_f1-score': 0.38604699736042747, 'balanced_accuracy': 0.38174300497004987, 'mcc': 0.5159011639924682, 'train_loss': 0.30531308229742105}\n",
      "Epoch 8/20\n"
     ]
    },
    {
     "name": "stderr",
     "output_type": "stream",
     "text": [
      "100%|██████████| 716/716 [01:04<00:00, 11.16it/s]\n"
     ]
    },
    {
     "name": "stdout",
     "output_type": "stream",
     "text": [
      "{'val_loss': 1.7241631502785333, 'val_accuracy': 0.6407322654462243, 'precision': 0.6173025868462835, 'recall': 0.6407322654462243, 'f1-score': 0.6180391967316488, 'macro_f1-score': 0.3646692053769008, 'balanced_accuracy': 0.3713262016460992, 'mcc': 0.5161394401061884, 'train_loss': 0.24245070597266144}\n",
      "Early stopping.\n",
      "\n",
      "[Fold 3]\n",
      "🚀 Using Word2Vec + EDA (replace + deletion/swap) for data augmentation + under-sampling\n",
      "🔻 Under-sampling label 0: 2471 → 2000\n",
      "🔧 Augmenting label 1: 22 → 200 (+178)\n",
      "🔧 Augmenting label 2: 64 → 200 (+136)\n",
      "🔧 Augmenting label 3: 24 → 200 (+176)\n",
      "🔧 Augmenting label 4: 190 → 200 (+10)\n",
      "🔧 Augmenting label 5: 113 → 200 (+87)\n",
      "🔧 Augmenting label 6: 93 → 200 (+107)\n",
      "🔧 Augmenting label 7: 30 → 200 (+170)\n",
      "🔧 Augmenting label 8: 68 → 200 (+132)\n",
      "🔧 Augmenting label 9: 30 → 200 (+170)\n",
      "🔧 Augmenting label 10: 67 → 200 (+133)\n",
      "🔧 Augmenting label 11: 169 → 200 (+31)\n",
      "🔧 Augmenting label 12: 190 → 200 (+10)\n",
      "🔧 Augmenting label 13: 28 → 200 (+172)\n",
      "🔧 Augmenting label 14: 23 → 200 (+177)\n",
      "🔧 Augmenting label 15: 25 → 200 (+175)\n",
      "🔧 Augmenting label 16: 19 → 200 (+181)\n",
      "🔧 Augmenting label 17: 182 → 200 (+18)\n",
      "🔧 Augmenting label 18: 92 → 200 (+108)\n",
      "🔧 Augmenting label 19: 44 → 200 (+156)\n",
      "🔧 Augmenting label 20: 14 → 200 (+186)\n",
      "🔧 Augmenting label 21: 35 → 200 (+165)\n",
      "🔧 Augmenting label 22: 76 → 200 (+124)\n",
      "🔧 Augmenting label 23: 157 → 200 (+43)\n",
      "🔧 Augmenting label 24: 13 → 200 (+187)\n",
      "🔧 Augmenting label 25: 44 → 200 (+156)\n",
      "🔧 Augmenting label 26: 84 → 200 (+116)\n",
      "🔧 Augmenting label 27: 48 → 200 (+152)\n",
      "🔧 Augmenting label 28: 11 → 200 (+189)\n",
      "🔧 Augmenting label 29: 13 → 200 (+187)\n",
      "🔧 Augmenting label 30: 11 → 200 (+189)\n",
      "🔧 Augmenting label 31: 76 → 200 (+124)\n",
      "🔧 Augmenting label 32: 36 → 200 (+164)\n",
      "🔧 Augmenting label 33: 31 → 200 (+169)\n",
      "🔧 Augmenting label 34: 30 → 200 (+170)\n",
      "🔧 Augmenting label 35: 11 → 200 (+189)\n",
      "🔧 Augmenting label 36: 21 → 200 (+179)\n",
      "🔧 Augmenting label 37: 16 → 200 (+184)\n",
      "🔧 Augmenting label 38: 32 → 200 (+168)\n",
      "🔧 Augmenting label 39: 11 → 200 (+189)\n",
      "🔧 Augmenting label 40: 9 → 200 (+191)\n",
      "🔧 Augmenting label 41: 57 → 200 (+143)\n",
      "🔧 Augmenting label 42: 18 → 200 (+182)\n",
      "🔧 Augmenting label 43: 9 → 200 (+191)\n",
      "🔧 Augmenting label 44: 55 → 200 (+145)\n",
      "🔧 Augmenting label 46: 62 → 200 (+138)\n",
      "🔧 Augmenting label 47: 80 → 200 (+120)\n",
      "Label distribution after resampling:\n",
      "  label 0: 2000\n",
      "  label 1: 200\n",
      "  label 2: 200\n",
      "  label 3: 200\n",
      "  label 4: 200\n",
      "  label 5: 200\n",
      "  label 6: 200\n",
      "  label 7: 200\n",
      "  label 8: 200\n",
      "  label 9: 200\n",
      "  label 10: 200\n",
      "  label 11: 200\n",
      "  label 12: 200\n",
      "  label 13: 200\n",
      "  label 14: 200\n",
      "  label 15: 200\n",
      "  label 16: 200\n",
      "  label 17: 200\n",
      "  label 18: 200\n",
      "  label 19: 200\n",
      "  label 20: 200\n",
      "  label 21: 200\n",
      "  label 22: 200\n",
      "  label 23: 200\n",
      "  label 24: 200\n",
      "  label 25: 200\n",
      "  label 26: 200\n",
      "  label 27: 200\n",
      "  label 28: 200\n",
      "  label 29: 200\n",
      "  label 30: 200\n",
      "  label 31: 200\n",
      "  label 32: 200\n",
      "  label 33: 200\n",
      "  label 34: 200\n",
      "  label 35: 200\n",
      "  label 36: 200\n",
      "  label 37: 200\n",
      "  label 38: 200\n",
      "  label 39: 200\n",
      "  label 40: 200\n",
      "  label 41: 200\n",
      "  label 42: 200\n",
      "  label 43: 200\n",
      "  label 44: 200\n",
      "  label 45: 241\n",
      "  label 46: 200\n",
      "  label 47: 200\n",
      "model is bert-base-uncased lstm\n",
      "Epoch 1/20\n"
     ]
    },
    {
     "name": "stderr",
     "output_type": "stream",
     "text": [
      "100%|██████████| 716/716 [01:03<00:00, 11.19it/s]\n"
     ]
    },
    {
     "name": "stdout",
     "output_type": "stream",
     "text": [
      "{'val_loss': 1.7935008141325741, 'val_accuracy': 0.555301296720061, 'precision': 0.5418743948102439, 'recall': 0.555301296720061, 'f1-score': 0.5213954206722666, 'macro_f1-score': 0.2539340643691726, 'balanced_accuracy': 0.28689521359058934, 'mcc': 0.39198952179251106, 'train_loss': 2.4701571614382654}\n",
      "Epoch 2/20\n"
     ]
    },
    {
     "name": "stderr",
     "output_type": "stream",
     "text": [
      "100%|██████████| 716/716 [01:04<00:00, 11.17it/s]\n"
     ]
    },
    {
     "name": "stdout",
     "output_type": "stream",
     "text": [
      "{'val_loss': 1.6384406017094124, 'val_accuracy': 0.5957284515636918, 'precision': 0.5677149965019238, 'recall': 0.5957284515636918, 'f1-score': 0.5655437876575548, 'macro_f1-score': 0.33120469963519605, 'balanced_accuracy': 0.34924605739362846, 'mcc': 0.4445907854506204, 'train_loss': 1.310510772857919}\n",
      "Epoch 3/20\n"
     ]
    },
    {
     "name": "stderr",
     "output_type": "stream",
     "text": [
      "100%|██████████| 716/716 [01:03<00:00, 11.20it/s]\n"
     ]
    },
    {
     "name": "stdout",
     "output_type": "stream",
     "text": [
      "{'val_loss': 1.6379719700028257, 'val_accuracy': 0.5781845919145691, 'precision': 0.602879100454839, 'recall': 0.5781845919145691, 'f1-score': 0.577812600566112, 'macro_f1-score': 0.3592376991120631, 'balanced_accuracy': 0.38813356737385374, 'mcc': 0.4502562433329052, 'train_loss': 0.8664302548299955}\n",
      "Epoch 4/20\n"
     ]
    },
    {
     "name": "stderr",
     "output_type": "stream",
     "text": [
      "100%|██████████| 716/716 [01:04<00:00, 11.18it/s]\n"
     ]
    },
    {
     "name": "stdout",
     "output_type": "stream",
     "text": [
      "{'val_loss': 1.5928393729576251, 'val_accuracy': 0.6308161708619374, 'precision': 0.6153370783220936, 'recall': 0.6308161708619374, 'f1-score': 0.6115315739377643, 'macro_f1-score': 0.37507110108799707, 'balanced_accuracy': 0.36337863648415597, 'mcc': 0.5002633498201936, 'train_loss': 0.6055982310699517}\n",
      "Epoch 5/20\n"
     ]
    },
    {
     "name": "stderr",
     "output_type": "stream",
     "text": [
      "100%|██████████| 716/716 [01:04<00:00, 11.18it/s]\n"
     ]
    },
    {
     "name": "stdout",
     "output_type": "stream",
     "text": [
      "{'val_loss': 1.678269244548751, 'val_accuracy': 0.6178489702517163, 'precision': 0.6097675094639448, 'recall': 0.6178489702517163, 'f1-score': 0.6045016953972921, 'macro_f1-score': 0.3799069681010659, 'balanced_accuracy': 0.3835217103207838, 'mcc': 0.4941250177388482, 'train_loss': 0.44923762904802683}\n",
      "Epoch 6/20\n"
     ]
    },
    {
     "name": "stderr",
     "output_type": "stream",
     "text": [
      "100%|██████████| 716/716 [01:04<00:00, 11.16it/s]\n"
     ]
    },
    {
     "name": "stdout",
     "output_type": "stream",
     "text": [
      "{'val_loss': 1.7236805216568272, 'val_accuracy': 0.6224256292906178, 'precision': 0.6139956907680507, 'recall': 0.6224256292906178, 'f1-score': 0.6124396535941311, 'macro_f1-score': 0.3899287729334017, 'balanced_accuracy': 0.40647650513920003, 'mcc': 0.502198080872895, 'train_loss': 0.3794262941702992}\n",
      "Epoch 7/20\n"
     ]
    },
    {
     "name": "stderr",
     "output_type": "stream",
     "text": [
      "100%|██████████| 716/716 [01:03<00:00, 11.19it/s]\n"
     ]
    },
    {
     "name": "stdout",
     "output_type": "stream",
     "text": [
      "{'val_loss': 1.7746515499382485, 'val_accuracy': 0.6132723112128147, 'precision': 0.6318454527671155, 'recall': 0.6132723112128147, 'f1-score': 0.6072784746838907, 'macro_f1-score': 0.3627178732256087, 'balanced_accuracy': 0.37113556883076376, 'mcc': 0.49867468721281905, 'train_loss': 0.28227347975295014}\n",
      "Epoch 8/20\n"
     ]
    },
    {
     "name": "stderr",
     "output_type": "stream",
     "text": [
      "100%|██████████| 716/716 [01:04<00:00, 11.18it/s]\n"
     ]
    },
    {
     "name": "stdout",
     "output_type": "stream",
     "text": [
      "{'val_loss': 1.7950469135511211, 'val_accuracy': 0.6056445461479787, 'precision': 0.6183077906136965, 'recall': 0.6056445461479787, 'f1-score': 0.6014426270472221, 'macro_f1-score': 0.36992896711358497, 'balanced_accuracy': 0.36743019152925377, 'mcc': 0.4859620979078254, 'train_loss': 0.24269307559803543}\n",
      "Epoch 9/20\n"
     ]
    },
    {
     "name": "stderr",
     "output_type": "stream",
     "text": [
      "100%|██████████| 716/716 [01:04<00:00, 11.18it/s]\n"
     ]
    },
    {
     "name": "stdout",
     "output_type": "stream",
     "text": [
      "{'val_loss': 2.0248392772202086, 'val_accuracy': 0.5903890160183066, 'precision': 0.6278671337202425, 'recall': 0.5903890160183066, 'f1-score': 0.5989874375258268, 'macro_f1-score': 0.38313868404686335, 'balanced_accuracy': 0.4041126673049303, 'mcc': 0.48866431123365506, 'train_loss': 0.17918698603870067}\n",
      "Early stopping.\n",
      "\n",
      "[Fold 4]\n",
      "🚀 Using Word2Vec + EDA (replace + deletion/swap) for data augmentation + under-sampling\n",
      "🔻 Under-sampling label 0: 2471 → 2000\n",
      "🔧 Augmenting label 1: 22 → 200 (+178)\n",
      "🔧 Augmenting label 2: 64 → 200 (+136)\n",
      "🔧 Augmenting label 3: 24 → 200 (+176)\n",
      "🔧 Augmenting label 4: 190 → 200 (+10)\n",
      "🔧 Augmenting label 5: 113 → 200 (+87)\n",
      "🔧 Augmenting label 6: 93 → 200 (+107)\n",
      "🔧 Augmenting label 7: 31 → 200 (+169)\n",
      "🔧 Augmenting label 8: 68 → 200 (+132)\n",
      "🔧 Augmenting label 9: 29 → 200 (+171)\n",
      "🔧 Augmenting label 10: 67 → 200 (+133)\n",
      "🔧 Augmenting label 11: 169 → 200 (+31)\n",
      "🔧 Augmenting label 12: 190 → 200 (+10)\n",
      "🔧 Augmenting label 13: 29 → 200 (+171)\n",
      "🔧 Augmenting label 14: 22 → 200 (+178)\n",
      "🔧 Augmenting label 15: 25 → 200 (+175)\n",
      "🔧 Augmenting label 16: 19 → 200 (+181)\n",
      "🔧 Augmenting label 17: 182 → 200 (+18)\n",
      "🔧 Augmenting label 18: 92 → 200 (+108)\n",
      "🔧 Augmenting label 19: 44 → 200 (+156)\n",
      "🔧 Augmenting label 20: 14 → 200 (+186)\n",
      "🔧 Augmenting label 21: 35 → 200 (+165)\n",
      "🔧 Augmenting label 22: 76 → 200 (+124)\n",
      "🔧 Augmenting label 23: 158 → 200 (+42)\n",
      "🔧 Augmenting label 24: 13 → 200 (+187)\n",
      "🔧 Augmenting label 25: 44 → 200 (+156)\n",
      "🔧 Augmenting label 26: 84 → 200 (+116)\n",
      "🔧 Augmenting label 27: 48 → 200 (+152)\n",
      "🔧 Augmenting label 28: 11 → 200 (+189)\n",
      "🔧 Augmenting label 29: 13 → 200 (+187)\n",
      "🔧 Augmenting label 30: 11 → 200 (+189)\n",
      "🔧 Augmenting label 31: 75 → 200 (+125)\n",
      "🔧 Augmenting label 32: 36 → 200 (+164)\n",
      "🔧 Augmenting label 33: 31 → 200 (+169)\n",
      "🔧 Augmenting label 34: 30 → 200 (+170)\n",
      "🔧 Augmenting label 35: 11 → 200 (+189)\n",
      "🔧 Augmenting label 36: 22 → 200 (+178)\n",
      "🔧 Augmenting label 37: 16 → 200 (+184)\n",
      "🔧 Augmenting label 38: 33 → 200 (+167)\n",
      "🔧 Augmenting label 39: 10 → 200 (+190)\n",
      "🔧 Augmenting label 40: 9 → 200 (+191)\n",
      "🔧 Augmenting label 41: 56 → 200 (+144)\n",
      "🔧 Augmenting label 42: 18 → 200 (+182)\n",
      "🔧 Augmenting label 43: 9 → 200 (+191)\n",
      "🔧 Augmenting label 44: 55 → 200 (+145)\n",
      "🔧 Augmenting label 46: 62 → 200 (+138)\n",
      "🔧 Augmenting label 47: 80 → 200 (+120)\n",
      "Label distribution after resampling:\n",
      "  label 0: 2000\n",
      "  label 1: 200\n",
      "  label 2: 200\n",
      "  label 3: 200\n",
      "  label 4: 200\n",
      "  label 5: 200\n",
      "  label 6: 200\n",
      "  label 7: 200\n",
      "  label 8: 200\n",
      "  label 9: 200\n",
      "  label 10: 200\n",
      "  label 11: 200\n",
      "  label 12: 200\n",
      "  label 13: 200\n",
      "  label 14: 200\n",
      "  label 15: 200\n",
      "  label 16: 200\n",
      "  label 17: 200\n",
      "  label 18: 200\n",
      "  label 19: 200\n",
      "  label 20: 200\n",
      "  label 21: 200\n",
      "  label 22: 200\n",
      "  label 23: 200\n",
      "  label 24: 200\n",
      "  label 25: 200\n",
      "  label 26: 200\n",
      "  label 27: 200\n",
      "  label 28: 200\n",
      "  label 29: 200\n",
      "  label 30: 200\n",
      "  label 31: 200\n",
      "  label 32: 200\n",
      "  label 33: 200\n",
      "  label 34: 200\n",
      "  label 35: 200\n",
      "  label 36: 200\n",
      "  label 37: 200\n",
      "  label 38: 200\n",
      "  label 39: 200\n",
      "  label 40: 200\n",
      "  label 41: 200\n",
      "  label 42: 200\n",
      "  label 43: 200\n",
      "  label 44: 200\n",
      "  label 45: 241\n",
      "  label 46: 200\n",
      "  label 47: 200\n",
      "model is bert-base-uncased lstm\n",
      "Epoch 1/20\n"
     ]
    },
    {
     "name": "stderr",
     "output_type": "stream",
     "text": [
      "100%|██████████| 716/716 [01:04<00:00, 11.18it/s]\n"
     ]
    },
    {
     "name": "stdout",
     "output_type": "stream",
     "text": [
      "{'val_loss': 1.7472163642325051, 'val_accuracy': 0.5408085430968727, 'precision': 0.5860964256831424, 'recall': 0.5408085430968727, 'f1-score': 0.5236212338336524, 'macro_f1-score': 0.28586013061699145, 'balanced_accuracy': 0.3884565914748879, 'mcc': 0.39547490452994294, 'train_loss': 2.6132248401974834}\n",
      "Epoch 2/20\n"
     ]
    },
    {
     "name": "stderr",
     "output_type": "stream",
     "text": [
      "100%|██████████| 716/716 [01:04<00:00, 11.14it/s]\n"
     ]
    },
    {
     "name": "stdout",
     "output_type": "stream",
     "text": [
      "{'val_loss': 1.5566456663172419, 'val_accuracy': 0.5957284515636918, 'precision': 0.6410678301377682, 'recall': 0.5957284515636918, 'f1-score': 0.5875120965445565, 'macro_f1-score': 0.3425098801675634, 'balanced_accuracy': 0.4044290967595194, 'mcc': 0.4729363977731055, 'train_loss': 1.3880385100560564}\n",
      "Epoch 3/20\n"
     ]
    },
    {
     "name": "stderr",
     "output_type": "stream",
     "text": [
      "100%|██████████| 716/716 [01:04<00:00, 11.18it/s]\n"
     ]
    },
    {
     "name": "stdout",
     "output_type": "stream",
     "text": [
      "{'val_loss': 1.6221980561570424, 'val_accuracy': 0.5949656750572082, 'precision': 0.6526071785993839, 'recall': 0.5949656750572082, 'f1-score': 0.6091820541387372, 'macro_f1-score': 0.3833218909779467, 'balanced_accuracy': 0.4335455269105826, 'mcc': 0.48638001548332455, 'train_loss': 0.8712456869013483}\n",
      "Epoch 4/20\n"
     ]
    },
    {
     "name": "stderr",
     "output_type": "stream",
     "text": [
      "100%|██████████| 716/716 [01:04<00:00, 11.16it/s]\n"
     ]
    },
    {
     "name": "stdout",
     "output_type": "stream",
     "text": [
      "{'val_loss': 1.5460370484648682, 'val_accuracy': 0.6445461479786423, 'precision': 0.6451544788599469, 'recall': 0.6445461479786423, 'f1-score': 0.637201482134234, 'macro_f1-score': 0.4030054729670259, 'balanced_accuracy': 0.4086834126876114, 'mcc': 0.5271844787139532, 'train_loss': 0.602604113050929}\n",
      "Epoch 5/20\n"
     ]
    },
    {
     "name": "stderr",
     "output_type": "stream",
     "text": [
      "100%|██████████| 716/716 [01:04<00:00, 11.18it/s]\n"
     ]
    },
    {
     "name": "stdout",
     "output_type": "stream",
     "text": [
      "{'val_loss': 1.537627257951876, 'val_accuracy': 0.6399694889397407, 'precision': 0.6536856745001367, 'recall': 0.6399694889397407, 'f1-score': 0.6397493200902195, 'macro_f1-score': 0.4137676812025235, 'balanced_accuracy': 0.437094176641917, 'mcc': 0.529617425109618, 'train_loss': 0.40917298095248766}\n",
      "Epoch 6/20\n"
     ]
    },
    {
     "name": "stderr",
     "output_type": "stream",
     "text": [
      "100%|██████████| 716/716 [01:03<00:00, 11.20it/s]\n"
     ]
    },
    {
     "name": "stdout",
     "output_type": "stream",
     "text": [
      "{'val_loss': 1.6783440890835553, 'val_accuracy': 0.631578947368421, 'precision': 0.6247688646836772, 'recall': 0.631578947368421, 'f1-score': 0.6128804860195907, 'macro_f1-score': 0.3825893365675146, 'balanced_accuracy': 0.37440425527923377, 'mcc': 0.5034991143458124, 'train_loss': 0.28680907028555536}\n",
      "Epoch 7/20\n"
     ]
    },
    {
     "name": "stderr",
     "output_type": "stream",
     "text": [
      "100%|██████████| 716/716 [01:04<00:00, 11.17it/s]\n"
     ]
    },
    {
     "name": "stdout",
     "output_type": "stream",
     "text": [
      "{'val_loss': 1.625000305292083, 'val_accuracy': 0.6346300533943554, 'precision': 0.6399459294196992, 'recall': 0.6346300533943554, 'f1-score': 0.6264114296303865, 'macro_f1-score': 0.41194411374759704, 'balanced_accuracy': 0.4174355555598616, 'mcc': 0.5140879449776089, 'train_loss': 0.2466481868645915}\n",
      "Epoch 8/20\n"
     ]
    },
    {
     "name": "stderr",
     "output_type": "stream",
     "text": [
      "100%|██████████| 716/716 [01:04<00:00, 11.18it/s]\n"
     ]
    },
    {
     "name": "stdout",
     "output_type": "stream",
     "text": [
      "{'val_loss': 1.822972084327442, 'val_accuracy': 0.627765064836003, 'precision': 0.6717369771138975, 'recall': 0.627765064836003, 'f1-score': 0.6389006640618454, 'macro_f1-score': 0.43354268673841645, 'balanced_accuracy': 0.45975970963149054, 'mcc': 0.5354305827740932, 'train_loss': 0.19405056281904975}\n",
      "Epoch 9/20\n"
     ]
    },
    {
     "name": "stderr",
     "output_type": "stream",
     "text": [
      "100%|██████████| 716/716 [01:04<00:00, 11.16it/s]\n"
     ]
    },
    {
     "name": "stdout",
     "output_type": "stream",
     "text": [
      "{'val_loss': 1.7023989202045813, 'val_accuracy': 0.658276125095347, 'precision': 0.6517274632222225, 'recall': 0.658276125095347, 'f1-score': 0.6496994072206648, 'macro_f1-score': 0.415233470904945, 'balanced_accuracy': 0.40213703117461047, 'mcc': 0.5468909565651274, 'train_loss': 0.15829490816907427}\n",
      "Epoch 10/20\n"
     ]
    },
    {
     "name": "stderr",
     "output_type": "stream",
     "text": [
      "100%|██████████| 716/716 [01:03<00:00, 11.21it/s]\n"
     ]
    },
    {
     "name": "stdout",
     "output_type": "stream",
     "text": [
      "{'val_loss': 1.83688767799517, 'val_accuracy': 0.6338672768878718, 'precision': 0.6615675314649875, 'recall': 0.6338672768878718, 'f1-score': 0.6413872306307673, 'macro_f1-score': 0.414950798978063, 'balanced_accuracy': 0.43260788662357785, 'mcc': 0.536190644543506, 'train_loss': 0.1584042337574793}\n",
      "Epoch 11/20\n"
     ]
    },
    {
     "name": "stderr",
     "output_type": "stream",
     "text": [
      "100%|██████████| 716/716 [01:04<00:00, 11.18it/s]\n"
     ]
    },
    {
     "name": "stdout",
     "output_type": "stream",
     "text": [
      "{'val_loss': 1.9335449628713655, 'val_accuracy': 0.6247139588100686, 'precision': 0.6651222168701065, 'recall': 0.6247139588100686, 'f1-score': 0.6280404875120718, 'macro_f1-score': 0.4001945256904215, 'balanced_accuracy': 0.429563291719683, 'mcc': 0.5169516979805957, 'train_loss': 0.15701725730911814}\n",
      "Early stopping.\n",
      "\n",
      "[Fold 5]\n",
      "🚀 Using Word2Vec + EDA (replace + deletion/swap) for data augmentation + under-sampling\n",
      "🔻 Under-sampling label 0: 2472 → 2000\n",
      "🔧 Augmenting label 1: 21 → 200 (+179)\n",
      "🔧 Augmenting label 2: 64 → 200 (+136)\n",
      "🔧 Augmenting label 3: 24 → 200 (+176)\n",
      "🔧 Augmenting label 4: 191 → 200 (+9)\n",
      "🔧 Augmenting label 5: 112 → 200 (+88)\n",
      "🔧 Augmenting label 6: 92 → 200 (+108)\n",
      "🔧 Augmenting label 7: 31 → 200 (+169)\n",
      "🔧 Augmenting label 8: 68 → 200 (+132)\n",
      "🔧 Augmenting label 9: 29 → 200 (+171)\n",
      "🔧 Augmenting label 10: 68 → 200 (+132)\n",
      "🔧 Augmenting label 11: 168 → 200 (+32)\n",
      "🔧 Augmenting label 12: 190 → 200 (+10)\n",
      "🔧 Augmenting label 13: 29 → 200 (+171)\n",
      "🔧 Augmenting label 14: 22 → 200 (+178)\n",
      "🔧 Augmenting label 15: 25 → 200 (+175)\n",
      "🔧 Augmenting label 16: 19 → 200 (+181)\n",
      "🔧 Augmenting label 17: 183 → 200 (+17)\n",
      "🔧 Augmenting label 18: 92 → 200 (+108)\n",
      "🔧 Augmenting label 19: 44 → 200 (+156)\n",
      "🔧 Augmenting label 20: 14 → 200 (+186)\n",
      "🔧 Augmenting label 21: 35 → 200 (+165)\n",
      "🔧 Augmenting label 22: 76 → 200 (+124)\n",
      "🔧 Augmenting label 23: 158 → 200 (+42)\n",
      "🔧 Augmenting label 24: 13 → 200 (+187)\n",
      "🔧 Augmenting label 25: 44 → 200 (+156)\n",
      "🔧 Augmenting label 26: 84 → 200 (+116)\n",
      "🔧 Augmenting label 27: 48 → 200 (+152)\n",
      "🔧 Augmenting label 28: 11 → 200 (+189)\n",
      "🔧 Augmenting label 29: 13 → 200 (+187)\n",
      "🔧 Augmenting label 30: 11 → 200 (+189)\n",
      "🔧 Augmenting label 31: 75 → 200 (+125)\n",
      "🔧 Augmenting label 32: 36 → 200 (+164)\n",
      "🔧 Augmenting label 33: 31 → 200 (+169)\n",
      "🔧 Augmenting label 34: 30 → 200 (+170)\n",
      "🔧 Augmenting label 35: 11 → 200 (+189)\n",
      "🔧 Augmenting label 36: 22 → 200 (+178)\n",
      "🔧 Augmenting label 37: 16 → 200 (+184)\n",
      "🔧 Augmenting label 38: 33 → 200 (+167)\n",
      "🔧 Augmenting label 39: 10 → 200 (+190)\n",
      "🔧 Augmenting label 40: 9 → 200 (+191)\n",
      "🔧 Augmenting label 41: 57 → 200 (+143)\n",
      "🔧 Augmenting label 42: 18 → 200 (+182)\n",
      "🔧 Augmenting label 43: 9 → 200 (+191)\n",
      "🔧 Augmenting label 44: 54 → 200 (+146)\n",
      "🔧 Augmenting label 46: 61 → 200 (+139)\n",
      "🔧 Augmenting label 47: 80 → 200 (+120)\n",
      "Label distribution after resampling:\n",
      "  label 0: 2000\n",
      "  label 1: 200\n",
      "  label 2: 200\n",
      "  label 3: 200\n",
      "  label 4: 200\n",
      "  label 5: 200\n",
      "  label 6: 200\n",
      "  label 7: 200\n",
      "  label 8: 200\n",
      "  label 9: 200\n",
      "  label 10: 200\n",
      "  label 11: 200\n",
      "  label 12: 200\n",
      "  label 13: 200\n",
      "  label 14: 200\n",
      "  label 15: 200\n",
      "  label 16: 200\n",
      "  label 17: 200\n",
      "  label 18: 200\n",
      "  label 19: 200\n",
      "  label 20: 200\n",
      "  label 21: 200\n",
      "  label 22: 200\n",
      "  label 23: 200\n",
      "  label 24: 200\n",
      "  label 25: 200\n",
      "  label 26: 200\n",
      "  label 27: 200\n",
      "  label 28: 200\n",
      "  label 29: 200\n",
      "  label 30: 200\n",
      "  label 31: 200\n",
      "  label 32: 200\n",
      "  label 33: 200\n",
      "  label 34: 200\n",
      "  label 35: 200\n",
      "  label 36: 200\n",
      "  label 37: 200\n",
      "  label 38: 200\n",
      "  label 39: 200\n",
      "  label 40: 200\n",
      "  label 41: 200\n",
      "  label 42: 200\n",
      "  label 43: 200\n",
      "  label 44: 200\n",
      "  label 45: 242\n",
      "  label 46: 200\n",
      "  label 47: 200\n",
      "model is bert-base-uncased lstm\n",
      "Epoch 1/20\n"
     ]
    },
    {
     "name": "stderr",
     "output_type": "stream",
     "text": [
      "100%|██████████| 716/716 [01:04<00:00, 11.15it/s]\n"
     ]
    },
    {
     "name": "stdout",
     "output_type": "stream",
     "text": [
      "{'val_loss': 1.6605998197706735, 'val_accuracy': 0.5804729214340199, 'precision': 0.5684643638232774, 'recall': 0.5804729214340199, 'f1-score': 0.5447728962558297, 'macro_f1-score': 0.29642341670706346, 'balanced_accuracy': 0.32539603926552246, 'mcc': 0.4284736804352323, 'train_loss': 2.611758558610298}\n",
      "Epoch 2/20\n"
     ]
    },
    {
     "name": "stderr",
     "output_type": "stream",
     "text": [
      "100%|██████████| 716/716 [01:04<00:00, 11.17it/s]\n"
     ]
    },
    {
     "name": "stdout",
     "output_type": "stream",
     "text": [
      "{'val_loss': 1.55806868977663, 'val_accuracy': 0.6018306636155606, 'precision': 0.6434464242306076, 'recall': 0.6018306636155606, 'f1-score': 0.590914265210015, 'macro_f1-score': 0.3619926459788836, 'balanced_accuracy': 0.4249600055486029, 'mcc': 0.479927118233204, 'train_loss': 1.3682935916345214}\n",
      "Epoch 3/20\n"
     ]
    },
    {
     "name": "stderr",
     "output_type": "stream",
     "text": [
      "100%|██████████| 716/716 [01:04<00:00, 11.18it/s]\n"
     ]
    },
    {
     "name": "stdout",
     "output_type": "stream",
     "text": [
      "{'val_loss': 1.557726460986021, 'val_accuracy': 0.5987795575896262, 'precision': 0.6311330868004048, 'recall': 0.5987795575896262, 'f1-score': 0.6037356513725166, 'macro_f1-score': 0.3787916295274714, 'balanced_accuracy': 0.40512767666429816, 'mcc': 0.4853928436500144, 'train_loss': 0.8920979539567199}\n",
      "Epoch 4/20\n"
     ]
    },
    {
     "name": "stderr",
     "output_type": "stream",
     "text": [
      "100%|██████████| 716/716 [01:04<00:00, 11.17it/s]\n"
     ]
    },
    {
     "name": "stdout",
     "output_type": "stream",
     "text": [
      "{'val_loss': 1.4520895975392039, 'val_accuracy': 0.6338672768878718, 'precision': 0.639757186871413, 'recall': 0.6338672768878718, 'f1-score': 0.6287024044476819, 'macro_f1-score': 0.402289363066269, 'balanced_accuracy': 0.40646887744720644, 'mcc': 0.5230826552522732, 'train_loss': 0.6421172077658289}\n",
      "Epoch 5/20\n"
     ]
    },
    {
     "name": "stderr",
     "output_type": "stream",
     "text": [
      "100%|██████████| 716/716 [01:04<00:00, 11.18it/s]\n"
     ]
    },
    {
     "name": "stdout",
     "output_type": "stream",
     "text": [
      "{'val_loss': 1.4663086795225375, 'val_accuracy': 0.6521739130434783, 'precision': 0.6486121741918821, 'recall': 0.6521739130434783, 'f1-score': 0.6344966477099128, 'macro_f1-score': 0.4172448313356638, 'balanced_accuracy': 0.4047212884064493, 'mcc': 0.5305706073264982, 'train_loss': 0.46345823064612945}\n",
      "Epoch 6/20\n"
     ]
    },
    {
     "name": "stderr",
     "output_type": "stream",
     "text": [
      "100%|██████████| 716/716 [01:03<00:00, 11.20it/s]\n"
     ]
    },
    {
     "name": "stdout",
     "output_type": "stream",
     "text": [
      "{'val_loss': 1.536618331583535, 'val_accuracy': 0.623951182303585, 'precision': 0.6335027497815499, 'recall': 0.623951182303585, 'f1-score': 0.6187116437769486, 'macro_f1-score': 0.37495905223242215, 'balanced_accuracy': 0.38291758333658527, 'mcc': 0.5086416279339379, 'train_loss': 0.3848813213095818}\n",
      "Epoch 7/20\n"
     ]
    },
    {
     "name": "stderr",
     "output_type": "stream",
     "text": [
      "100%|██████████| 716/716 [01:04<00:00, 11.16it/s]\n"
     ]
    },
    {
     "name": "stdout",
     "output_type": "stream",
     "text": [
      "{'val_loss': 1.6153778088528936, 'val_accuracy': 0.6590389016018307, 'precision': 0.6526003578979418, 'recall': 0.6590389016018307, 'f1-score': 0.6391902458140676, 'macro_f1-score': 0.4271588351896818, 'balanced_accuracy': 0.4185621241111941, 'mcc': 0.538579855949859, 'train_loss': 0.33685484600602}\n",
      "Epoch 8/20\n"
     ]
    },
    {
     "name": "stderr",
     "output_type": "stream",
     "text": [
      "100%|██████████| 716/716 [01:03<00:00, 11.19it/s]\n"
     ]
    },
    {
     "name": "stdout",
     "output_type": "stream",
     "text": [
      "{'val_loss': 1.6190343015804523, 'val_accuracy': 0.6384439359267735, 'precision': 0.6415139229002093, 'recall': 0.6384439359267735, 'f1-score': 0.6301645113087889, 'macro_f1-score': 0.40822749233896455, 'balanced_accuracy': 0.41451806046469325, 'mcc': 0.5275564831241162, 'train_loss': 0.2441612983580325}\n",
      "Epoch 9/20\n"
     ]
    },
    {
     "name": "stderr",
     "output_type": "stream",
     "text": [
      "100%|██████████| 716/716 [01:03<00:00, 11.19it/s]\n"
     ]
    },
    {
     "name": "stdout",
     "output_type": "stream",
     "text": [
      "{'val_loss': 1.5971497838816993, 'val_accuracy': 0.6773455377574371, 'precision': 0.6632035512661388, 'recall': 0.6773455377574371, 'f1-score': 0.6519803035448621, 'macro_f1-score': 0.43427448271162206, 'balanced_accuracy': 0.4152082067768301, 'mcc': 0.5580636851245672, 'train_loss': 0.19395454831983291}\n",
      "Epoch 10/20\n"
     ]
    },
    {
     "name": "stderr",
     "output_type": "stream",
     "text": [
      "100%|██████████| 716/716 [01:03<00:00, 11.19it/s]\n"
     ]
    },
    {
     "name": "stdout",
     "output_type": "stream",
     "text": [
      "{'val_loss': 1.7421679616701313, 'val_accuracy': 0.6475972540045767, 'precision': 0.6279602681159964, 'recall': 0.6475972540045767, 'f1-score': 0.6223496143231974, 'macro_f1-score': 0.4153021372892365, 'balanced_accuracy': 0.3947939414146699, 'mcc': 0.5195657198211407, 'train_loss': 0.20020241444077155}\n",
      "Epoch 11/20\n"
     ]
    },
    {
     "name": "stderr",
     "output_type": "stream",
     "text": [
      "100%|██████████| 716/716 [01:03<00:00, 11.20it/s]\n"
     ]
    },
    {
     "name": "stdout",
     "output_type": "stream",
     "text": [
      "{'val_loss': 1.7469491984059171, 'val_accuracy': 0.6346300533943554, 'precision': 0.6354729936859438, 'recall': 0.6346300533943554, 'f1-score': 0.623336093932154, 'macro_f1-score': 0.40814072870143353, 'balanced_accuracy': 0.40445513464258553, 'mcc': 0.5118304709417394, 'train_loss': 0.1793506713831204}\n",
      "Epoch 12/20\n"
     ]
    },
    {
     "name": "stderr",
     "output_type": "stream",
     "text": [
      "100%|██████████| 716/716 [01:04<00:00, 11.17it/s]\n"
     ]
    },
    {
     "name": "stdout",
     "output_type": "stream",
     "text": [
      "{'val_loss': 1.8689597103653885, 'val_accuracy': 0.6407322654462243, 'precision': 0.6444432780163889, 'recall': 0.6407322654462243, 'f1-score': 0.618420633003616, 'macro_f1-score': 0.41500957880349815, 'balanced_accuracy': 0.40931574735070314, 'mcc': 0.5122683862652949, 'train_loss': 0.17048555530488033}\n",
      "Early stopping.\n",
      "\n",
      " === bert-base-uncased + lstm + word2vec_eda Final 5-fold Cross-Validation Results ===\n",
      "val_loss: 1.7065\n",
      "val_accuracy: 0.6423\n",
      "precision: 0.6491\n",
      "recall: 0.6423\n",
      "f1-score: 0.6346\n",
      "macro_f1-score: 0.4164\n",
      "balanced_accuracy: 0.4239\n",
      "mcc: 0.5297\n",
      "train_loss: 0.2810\n",
      "total_seconds: 3522.0000\n",
      "total_time: 0 hrs 58 mins 42 secs\n",
      "▶ Running: bert-base-uncased + bilstm + word2vec_eda\n",
      "tokenizer is bert-base-uncased\n",
      "Using device: cuda\n",
      "CUDA Available: True\n",
      "CUDA Device: NVIDIA GeForce RTX 5070 Ti\n",
      "Current GPU Memory Allocated: 0.02 GB\n",
      "Current GPU Memory Cached: 3.14 GB\n",
      "\n",
      "[Fold 1]\n",
      "🚀 Using Word2Vec + EDA (replace + deletion/swap) for data augmentation + under-sampling\n",
      "🔻 Under-sampling label 0: 2471 → 2000\n",
      "🔧 Augmenting label 1: 21 → 200 (+179)\n",
      "🔧 Augmenting label 2: 64 → 200 (+136)\n",
      "🔧 Augmenting label 3: 24 → 200 (+176)\n",
      "🔧 Augmenting label 4: 191 → 200 (+9)\n",
      "🔧 Augmenting label 5: 113 → 200 (+87)\n",
      "🔧 Augmenting label 6: 93 → 200 (+107)\n",
      "🔧 Augmenting label 7: 30 → 200 (+170)\n",
      "🔧 Augmenting label 8: 68 → 200 (+132)\n",
      "🔧 Augmenting label 9: 30 → 200 (+170)\n",
      "🔧 Augmenting label 10: 67 → 200 (+133)\n",
      "🔧 Augmenting label 11: 169 → 200 (+31)\n",
      "🔧 Augmenting label 12: 189 → 200 (+11)\n",
      "🔧 Augmenting label 13: 29 → 200 (+171)\n",
      "🔧 Augmenting label 14: 22 → 200 (+178)\n",
      "🔧 Augmenting label 15: 25 → 200 (+175)\n",
      "🔧 Augmenting label 16: 19 → 200 (+181)\n",
      "🔧 Augmenting label 17: 183 → 200 (+17)\n",
      "🔧 Augmenting label 18: 92 → 200 (+108)\n",
      "🔧 Augmenting label 19: 44 → 200 (+156)\n",
      "🔧 Augmenting label 20: 13 → 200 (+187)\n",
      "🔧 Augmenting label 21: 35 → 200 (+165)\n",
      "🔧 Augmenting label 22: 76 → 200 (+124)\n",
      "🔧 Augmenting label 23: 158 → 200 (+42)\n",
      "🔧 Augmenting label 24: 13 → 200 (+187)\n",
      "🔧 Augmenting label 25: 44 → 200 (+156)\n",
      "🔧 Augmenting label 26: 84 → 200 (+116)\n",
      "🔧 Augmenting label 27: 48 → 200 (+152)\n",
      "🔧 Augmenting label 28: 11 → 200 (+189)\n",
      "🔧 Augmenting label 29: 13 → 200 (+187)\n",
      "🔧 Augmenting label 30: 11 → 200 (+189)\n",
      "🔧 Augmenting label 31: 75 → 200 (+125)\n",
      "🔧 Augmenting label 32: 36 → 200 (+164)\n",
      "🔧 Augmenting label 33: 32 → 200 (+168)\n",
      "🔧 Augmenting label 34: 29 → 200 (+171)\n",
      "🔧 Augmenting label 35: 11 → 200 (+189)\n",
      "🔧 Augmenting label 36: 22 → 200 (+178)\n",
      "🔧 Augmenting label 37: 16 → 200 (+184)\n",
      "🔧 Augmenting label 38: 33 → 200 (+167)\n",
      "🔧 Augmenting label 39: 10 → 200 (+190)\n",
      "🔧 Augmenting label 40: 9 → 200 (+191)\n",
      "🔧 Augmenting label 41: 57 → 200 (+143)\n",
      "🔧 Augmenting label 42: 19 → 200 (+181)\n",
      "🔧 Augmenting label 43: 8 → 200 (+192)\n",
      "🔧 Augmenting label 44: 54 → 200 (+146)\n",
      "🔧 Augmenting label 46: 61 → 200 (+139)\n",
      "🔧 Augmenting label 47: 80 → 200 (+120)\n",
      "Label distribution after resampling:\n",
      "  label 0: 2000\n",
      "  label 1: 200\n",
      "  label 2: 200\n",
      "  label 3: 200\n",
      "  label 4: 200\n",
      "  label 5: 200\n",
      "  label 6: 200\n",
      "  label 7: 200\n",
      "  label 8: 200\n",
      "  label 9: 200\n",
      "  label 10: 200\n",
      "  label 11: 200\n",
      "  label 12: 200\n",
      "  label 13: 200\n",
      "  label 14: 200\n",
      "  label 15: 200\n",
      "  label 16: 200\n",
      "  label 17: 200\n",
      "  label 18: 200\n",
      "  label 19: 200\n",
      "  label 20: 200\n",
      "  label 21: 200\n",
      "  label 22: 200\n",
      "  label 23: 200\n",
      "  label 24: 200\n",
      "  label 25: 200\n",
      "  label 26: 200\n",
      "  label 27: 200\n",
      "  label 28: 200\n",
      "  label 29: 200\n",
      "  label 30: 200\n",
      "  label 31: 200\n",
      "  label 32: 200\n",
      "  label 33: 200\n",
      "  label 34: 200\n",
      "  label 35: 200\n",
      "  label 36: 200\n",
      "  label 37: 200\n",
      "  label 38: 200\n",
      "  label 39: 200\n",
      "  label 40: 200\n",
      "  label 41: 200\n",
      "  label 42: 200\n",
      "  label 43: 200\n",
      "  label 44: 200\n",
      "  label 45: 242\n",
      "  label 46: 200\n",
      "  label 47: 200\n",
      "model is bert-base-uncased bilstm\n",
      "Epoch 1/20\n"
     ]
    },
    {
     "name": "stderr",
     "output_type": "stream",
     "text": [
      "100%|██████████| 716/716 [01:06<00:00, 10.76it/s]\n"
     ]
    },
    {
     "name": "stdout",
     "output_type": "stream",
     "text": [
      "{'val_loss': 1.870384056393693, 'val_accuracy': 0.506859756097561, 'precision': 0.5721588506499409, 'recall': 0.506859756097561, 'f1-score': 0.5006753206887312, 'macro_f1-score': 0.29155611499741313, 'balanced_accuracy': 0.3829173619160531, 'mcc': 0.36055846435325783, 'train_loss': 2.5634600903068843}\n",
      "Epoch 2/20\n"
     ]
    },
    {
     "name": "stderr",
     "output_type": "stream",
     "text": [
      "100%|██████████| 716/716 [01:06<00:00, 10.75it/s]\n"
     ]
    },
    {
     "name": "stdout",
     "output_type": "stream",
     "text": [
      "{'val_loss': 1.614389369763979, 'val_accuracy': 0.5983231707317073, 'precision': 0.59876172563162, 'recall': 0.5983231707317073, 'f1-score': 0.5751622380055472, 'macro_f1-score': 0.34802088055021213, 'balanced_accuracy': 0.347323906338199, 'mcc': 0.4468503431667741, 'train_loss': 1.1640128718907607}\n",
      "Epoch 3/20\n"
     ]
    },
    {
     "name": "stderr",
     "output_type": "stream",
     "text": [
      "100%|██████████| 716/716 [01:06<00:00, 10.77it/s]\n"
     ]
    },
    {
     "name": "stdout",
     "output_type": "stream",
     "text": [
      "{'val_loss': 1.6182669502932852, 'val_accuracy': 0.6067073170731707, 'precision': 0.6251018613874351, 'recall': 0.6067073170731707, 'f1-score': 0.606053595652481, 'macro_f1-score': 0.36881211163933453, 'balanced_accuracy': 0.3856109346640371, 'mcc': 0.48439161321334856, 'train_loss': 0.6377787911046983}\n",
      "Epoch 4/20\n"
     ]
    },
    {
     "name": "stderr",
     "output_type": "stream",
     "text": [
      "100%|██████████| 716/716 [01:06<00:00, 10.76it/s]\n"
     ]
    },
    {
     "name": "stdout",
     "output_type": "stream",
     "text": [
      "{'val_loss': 1.6282989760724509, 'val_accuracy': 0.6120426829268293, 'precision': 0.636343413758478, 'recall': 0.6120426829268293, 'f1-score': 0.6083718100953419, 'macro_f1-score': 0.411428385435475, 'balanced_accuracy': 0.41516259453460486, 'mcc': 0.491145317951958, 'train_loss': 0.39916387290366034}\n",
      "Epoch 5/20\n"
     ]
    },
    {
     "name": "stderr",
     "output_type": "stream",
     "text": [
      "100%|██████████| 716/716 [01:06<00:00, 10.72it/s]\n"
     ]
    },
    {
     "name": "stdout",
     "output_type": "stream",
     "text": [
      "{'val_loss': 1.708339332080469, 'val_accuracy': 0.6303353658536586, 'precision': 0.636906875083243, 'recall': 0.6303353658536586, 'f1-score': 0.6153330218171688, 'macro_f1-score': 0.4033639448387583, 'balanced_accuracy': 0.39164854895744866, 'mcc': 0.507949974971128, 'train_loss': 0.27269033231777684}\n",
      "Epoch 6/20\n"
     ]
    },
    {
     "name": "stderr",
     "output_type": "stream",
     "text": [
      "100%|██████████| 716/716 [01:06<00:00, 10.78it/s]\n"
     ]
    },
    {
     "name": "stdout",
     "output_type": "stream",
     "text": [
      "{'val_loss': 1.7569254887540167, 'val_accuracy': 0.6341463414634146, 'precision': 0.6364963558213352, 'recall': 0.6341463414634146, 'f1-score': 0.6187196576523769, 'macro_f1-score': 0.399479147335892, 'balanced_accuracy': 0.38726481216354275, 'mcc': 0.5063883793049321, 'train_loss': 0.197773734466615}\n",
      "Epoch 7/20\n"
     ]
    },
    {
     "name": "stderr",
     "output_type": "stream",
     "text": [
      "100%|██████████| 716/716 [01:06<00:00, 10.75it/s]\n"
     ]
    },
    {
     "name": "stdout",
     "output_type": "stream",
     "text": [
      "{'val_loss': 1.8795388984244044, 'val_accuracy': 0.6387195121951219, 'precision': 0.6349098406909403, 'recall': 0.6387195121951219, 'f1-score': 0.6277937949823332, 'macro_f1-score': 0.430453538852366, 'balanced_accuracy': 0.4539577644662838, 'mcc': 0.5202544956122096, 'train_loss': 0.15512924524955451}\n",
      "Epoch 8/20\n"
     ]
    },
    {
     "name": "stderr",
     "output_type": "stream",
     "text": [
      "100%|██████████| 716/716 [01:06<00:00, 10.75it/s]\n"
     ]
    },
    {
     "name": "stdout",
     "output_type": "stream",
     "text": [
      "{'val_loss': 1.970431011442731, 'val_accuracy': 0.6272865853658537, 'precision': 0.6297644019368582, 'recall': 0.6272865853658537, 'f1-score': 0.6204667089271054, 'macro_f1-score': 0.39152817418505226, 'balanced_accuracy': 0.40041517497179213, 'mcc': 0.5044893036128902, 'train_loss': 0.15038971338218193}\n",
      "Epoch 9/20\n"
     ]
    },
    {
     "name": "stderr",
     "output_type": "stream",
     "text": [
      "100%|██████████| 716/716 [01:06<00:00, 10.74it/s]\n"
     ]
    },
    {
     "name": "stdout",
     "output_type": "stream",
     "text": [
      "{'val_loss': 2.101667523020651, 'val_accuracy': 0.6219512195121951, 'precision': 0.5979391685906447, 'recall': 0.6219512195121951, 'f1-score': 0.5968878866534444, 'macro_f1-score': 0.3732229203982877, 'balanced_accuracy': 0.3761885152048185, 'mcc': 0.4871673444573479, 'train_loss': 0.09493442159796435}\n",
      "Epoch 10/20\n"
     ]
    },
    {
     "name": "stderr",
     "output_type": "stream",
     "text": [
      "100%|██████████| 716/716 [01:06<00:00, 10.74it/s]\n"
     ]
    },
    {
     "name": "stdout",
     "output_type": "stream",
     "text": [
      "{'val_loss': 2.069788009291742, 'val_accuracy': 0.6112804878048781, 'precision': 0.6239989441804448, 'recall': 0.6112804878048781, 'f1-score': 0.6026627264208151, 'macro_f1-score': 0.3999215341300859, 'balanced_accuracy': 0.3911405069750294, 'mcc': 0.4780568031681565, 'train_loss': 0.13033435582547506}\n",
      "Early stopping.\n",
      "\n",
      "[Fold 2]\n",
      "🚀 Using Word2Vec + EDA (replace + deletion/swap) for data augmentation + under-sampling\n",
      "🔻 Under-sampling label 0: 2471 → 2000\n",
      "🔧 Augmenting label 1: 22 → 200 (+178)\n",
      "🔧 Augmenting label 2: 64 → 200 (+136)\n",
      "🔧 Augmenting label 3: 24 → 200 (+176)\n",
      "🔧 Augmenting label 4: 190 → 200 (+10)\n",
      "🔧 Augmenting label 5: 113 → 200 (+87)\n",
      "🔧 Augmenting label 6: 93 → 200 (+107)\n",
      "🔧 Augmenting label 7: 30 → 200 (+170)\n",
      "🔧 Augmenting label 8: 68 → 200 (+132)\n",
      "🔧 Augmenting label 9: 30 → 200 (+170)\n",
      "🔧 Augmenting label 10: 67 → 200 (+133)\n",
      "🔧 Augmenting label 11: 169 → 200 (+31)\n",
      "🔧 Augmenting label 12: 189 → 200 (+11)\n",
      "🔧 Augmenting label 13: 29 → 200 (+171)\n",
      "🔧 Augmenting label 14: 23 → 200 (+177)\n",
      "🔧 Augmenting label 15: 24 → 200 (+176)\n",
      "🔧 Augmenting label 16: 20 → 200 (+180)\n",
      "🔧 Augmenting label 17: 182 → 200 (+18)\n",
      "🔧 Augmenting label 18: 92 → 200 (+108)\n",
      "🔧 Augmenting label 19: 44 → 200 (+156)\n",
      "🔧 Augmenting label 20: 13 → 200 (+187)\n",
      "🔧 Augmenting label 21: 36 → 200 (+164)\n",
      "🔧 Augmenting label 22: 76 → 200 (+124)\n",
      "🔧 Augmenting label 23: 157 → 200 (+43)\n",
      "🔧 Augmenting label 24: 12 → 200 (+188)\n",
      "🔧 Augmenting label 25: 44 → 200 (+156)\n",
      "🔧 Augmenting label 26: 84 → 200 (+116)\n",
      "🔧 Augmenting label 27: 48 → 200 (+152)\n",
      "🔧 Augmenting label 28: 12 → 200 (+188)\n",
      "🔧 Augmenting label 29: 12 → 200 (+188)\n",
      "🔧 Augmenting label 30: 12 → 200 (+188)\n",
      "🔧 Augmenting label 31: 75 → 200 (+125)\n",
      "🔧 Augmenting label 32: 36 → 200 (+164)\n",
      "🔧 Augmenting label 33: 31 → 200 (+169)\n",
      "🔧 Augmenting label 34: 29 → 200 (+171)\n",
      "🔧 Augmenting label 35: 12 → 200 (+188)\n",
      "🔧 Augmenting label 36: 21 → 200 (+179)\n",
      "🔧 Augmenting label 37: 16 → 200 (+184)\n",
      "🔧 Augmenting label 38: 33 → 200 (+167)\n",
      "🔧 Augmenting label 39: 11 → 200 (+189)\n",
      "🔧 Augmenting label 40: 8 → 200 (+192)\n",
      "🔧 Augmenting label 41: 57 → 200 (+143)\n",
      "🔧 Augmenting label 42: 19 → 200 (+181)\n",
      "🔧 Augmenting label 43: 9 → 200 (+191)\n",
      "🔧 Augmenting label 44: 54 → 200 (+146)\n",
      "🔧 Augmenting label 46: 62 → 200 (+138)\n",
      "🔧 Augmenting label 47: 80 → 200 (+120)\n",
      "Label distribution after resampling:\n",
      "  label 0: 2000\n",
      "  label 1: 200\n",
      "  label 2: 200\n",
      "  label 3: 200\n",
      "  label 4: 200\n",
      "  label 5: 200\n",
      "  label 6: 200\n",
      "  label 7: 200\n",
      "  label 8: 200\n",
      "  label 9: 200\n",
      "  label 10: 200\n",
      "  label 11: 200\n",
      "  label 12: 200\n",
      "  label 13: 200\n",
      "  label 14: 200\n",
      "  label 15: 200\n",
      "  label 16: 200\n",
      "  label 17: 200\n",
      "  label 18: 200\n",
      "  label 19: 200\n",
      "  label 20: 200\n",
      "  label 21: 200\n",
      "  label 22: 200\n",
      "  label 23: 200\n",
      "  label 24: 200\n",
      "  label 25: 200\n",
      "  label 26: 200\n",
      "  label 27: 200\n",
      "  label 28: 200\n",
      "  label 29: 200\n",
      "  label 30: 200\n",
      "  label 31: 200\n",
      "  label 32: 200\n",
      "  label 33: 200\n",
      "  label 34: 200\n",
      "  label 35: 200\n",
      "  label 36: 200\n",
      "  label 37: 200\n",
      "  label 38: 200\n",
      "  label 39: 200\n",
      "  label 40: 200\n",
      "  label 41: 200\n",
      "  label 42: 200\n",
      "  label 43: 200\n",
      "  label 44: 200\n",
      "  label 45: 242\n",
      "  label 46: 200\n",
      "  label 47: 200\n",
      "model is bert-base-uncased bilstm\n",
      "Epoch 1/20\n"
     ]
    },
    {
     "name": "stderr",
     "output_type": "stream",
     "text": [
      "100%|██████████| 716/716 [01:06<00:00, 10.75it/s]\n"
     ]
    },
    {
     "name": "stdout",
     "output_type": "stream",
     "text": [
      "{'val_loss': 1.6003724721873678, 'val_accuracy': 0.6064073226544623, 'precision': 0.6127753675577329, 'recall': 0.6064073226544623, 'f1-score': 0.5793052868223916, 'macro_f1-score': 0.3160378456380807, 'balanced_accuracy': 0.3781419778665673, 'mcc': 0.46357170108973944, 'train_loss': 2.4994713862182043}\n",
      "Epoch 2/20\n"
     ]
    },
    {
     "name": "stderr",
     "output_type": "stream",
     "text": [
      "100%|██████████| 716/716 [01:06<00:00, 10.75it/s]\n"
     ]
    },
    {
     "name": "stdout",
     "output_type": "stream",
     "text": [
      "{'val_loss': 1.4293624184480527, 'val_accuracy': 0.6109839816933639, 'precision': 0.607677787443625, 'recall': 0.6109839816933639, 'f1-score': 0.5944563101866233, 'macro_f1-score': 0.3416941343763411, 'balanced_accuracy': 0.37371938156288403, 'mcc': 0.48037352555551216, 'train_loss': 1.1150123400395142}\n",
      "Epoch 3/20\n"
     ]
    },
    {
     "name": "stderr",
     "output_type": "stream",
     "text": [
      "100%|██████████| 716/716 [01:06<00:00, 10.77it/s]\n"
     ]
    },
    {
     "name": "stdout",
     "output_type": "stream",
     "text": [
      "{'val_loss': 1.4481547594797322, 'val_accuracy': 0.6331045003813882, 'precision': 0.6409043949403326, 'recall': 0.6331045003813882, 'f1-score': 0.6280544964559527, 'macro_f1-score': 0.39017569556364445, 'balanced_accuracy': 0.4087343097462979, 'mcc': 0.5133256267588593, 'train_loss': 0.6259538243165729}\n",
      "Epoch 4/20\n"
     ]
    },
    {
     "name": "stderr",
     "output_type": "stream",
     "text": [
      "100%|██████████| 716/716 [01:06<00:00, 10.75it/s]\n"
     ]
    },
    {
     "name": "stdout",
     "output_type": "stream",
     "text": [
      "{'val_loss': 1.4451147357865077, 'val_accuracy': 0.6468344774980931, 'precision': 0.6492107691855875, 'recall': 0.6468344774980931, 'f1-score': 0.6364534862005442, 'macro_f1-score': 0.40529735023352, 'balanced_accuracy': 0.39799053120776984, 'mcc': 0.5285647459420981, 'train_loss': 0.41512123517192606}\n",
      "Epoch 5/20\n"
     ]
    },
    {
     "name": "stderr",
     "output_type": "stream",
     "text": [
      "100%|██████████| 716/716 [01:06<00:00, 10.74it/s]\n"
     ]
    },
    {
     "name": "stdout",
     "output_type": "stream",
     "text": [
      "{'val_loss': 1.6113693641453255, 'val_accuracy': 0.6468344774980931, 'precision': 0.627842483559202, 'recall': 0.6468344774980931, 'f1-score': 0.6205261876738569, 'macro_f1-score': 0.37422554593387014, 'balanced_accuracy': 0.37638750252480824, 'mcc': 0.5163025781601648, 'train_loss': 0.26688576744890163}\n",
      "Epoch 6/20\n"
     ]
    },
    {
     "name": "stderr",
     "output_type": "stream",
     "text": [
      "100%|██████████| 716/716 [01:06<00:00, 10.75it/s]\n"
     ]
    },
    {
     "name": "stdout",
     "output_type": "stream",
     "text": [
      "{'val_loss': 1.694977721063102, 'val_accuracy': 0.6216628527841342, 'precision': 0.6274793984108596, 'recall': 0.6216628527841342, 'f1-score': 0.61722206462383, 'macro_f1-score': 0.3571548760965923, 'balanced_accuracy': 0.36519023121708144, 'mcc': 0.5062553755032594, 'train_loss': 0.18238044949508578}\n",
      "Epoch 7/20\n"
     ]
    },
    {
     "name": "stderr",
     "output_type": "stream",
     "text": [
      "100%|██████████| 716/716 [01:06<00:00, 10.75it/s]\n"
     ]
    },
    {
     "name": "stdout",
     "output_type": "stream",
     "text": [
      "{'val_loss': 1.7789845989971627, 'val_accuracy': 0.6323417238749046, 'precision': 0.6346081695533685, 'recall': 0.6323417238749046, 'f1-score': 0.6228193427856026, 'macro_f1-score': 0.36070446556191404, 'balanced_accuracy': 0.36141845506820786, 'mcc': 0.5160469203628109, 'train_loss': 0.1596627858579263}\n",
      "Early stopping.\n",
      "\n",
      "[Fold 3]\n",
      "🚀 Using Word2Vec + EDA (replace + deletion/swap) for data augmentation + under-sampling\n",
      "🔻 Under-sampling label 0: 2471 → 2000\n",
      "🔧 Augmenting label 1: 22 → 200 (+178)\n",
      "🔧 Augmenting label 2: 64 → 200 (+136)\n",
      "🔧 Augmenting label 3: 24 → 200 (+176)\n",
      "🔧 Augmenting label 4: 190 → 200 (+10)\n",
      "🔧 Augmenting label 5: 113 → 200 (+87)\n",
      "🔧 Augmenting label 6: 93 → 200 (+107)\n",
      "🔧 Augmenting label 7: 30 → 200 (+170)\n",
      "🔧 Augmenting label 8: 68 → 200 (+132)\n",
      "🔧 Augmenting label 9: 30 → 200 (+170)\n",
      "🔧 Augmenting label 10: 67 → 200 (+133)\n",
      "🔧 Augmenting label 11: 169 → 200 (+31)\n",
      "🔧 Augmenting label 12: 190 → 200 (+10)\n",
      "🔧 Augmenting label 13: 28 → 200 (+172)\n",
      "🔧 Augmenting label 14: 23 → 200 (+177)\n",
      "🔧 Augmenting label 15: 25 → 200 (+175)\n",
      "🔧 Augmenting label 16: 19 → 200 (+181)\n",
      "🔧 Augmenting label 17: 182 → 200 (+18)\n",
      "🔧 Augmenting label 18: 92 → 200 (+108)\n",
      "🔧 Augmenting label 19: 44 → 200 (+156)\n",
      "🔧 Augmenting label 20: 14 → 200 (+186)\n",
      "🔧 Augmenting label 21: 35 → 200 (+165)\n",
      "🔧 Augmenting label 22: 76 → 200 (+124)\n",
      "🔧 Augmenting label 23: 157 → 200 (+43)\n",
      "🔧 Augmenting label 24: 13 → 200 (+187)\n",
      "🔧 Augmenting label 25: 44 → 200 (+156)\n",
      "🔧 Augmenting label 26: 84 → 200 (+116)\n",
      "🔧 Augmenting label 27: 48 → 200 (+152)\n",
      "🔧 Augmenting label 28: 11 → 200 (+189)\n",
      "🔧 Augmenting label 29: 13 → 200 (+187)\n",
      "🔧 Augmenting label 30: 11 → 200 (+189)\n",
      "🔧 Augmenting label 31: 76 → 200 (+124)\n",
      "🔧 Augmenting label 32: 36 → 200 (+164)\n",
      "🔧 Augmenting label 33: 31 → 200 (+169)\n",
      "🔧 Augmenting label 34: 30 → 200 (+170)\n",
      "🔧 Augmenting label 35: 11 → 200 (+189)\n",
      "🔧 Augmenting label 36: 21 → 200 (+179)\n",
      "🔧 Augmenting label 37: 16 → 200 (+184)\n",
      "🔧 Augmenting label 38: 32 → 200 (+168)\n",
      "🔧 Augmenting label 39: 11 → 200 (+189)\n",
      "🔧 Augmenting label 40: 9 → 200 (+191)\n",
      "🔧 Augmenting label 41: 57 → 200 (+143)\n",
      "🔧 Augmenting label 42: 18 → 200 (+182)\n",
      "🔧 Augmenting label 43: 9 → 200 (+191)\n",
      "🔧 Augmenting label 44: 55 → 200 (+145)\n",
      "🔧 Augmenting label 46: 62 → 200 (+138)\n",
      "🔧 Augmenting label 47: 80 → 200 (+120)\n",
      "Label distribution after resampling:\n",
      "  label 0: 2000\n",
      "  label 1: 200\n",
      "  label 2: 200\n",
      "  label 3: 200\n",
      "  label 4: 200\n",
      "  label 5: 200\n",
      "  label 6: 200\n",
      "  label 7: 200\n",
      "  label 8: 200\n",
      "  label 9: 200\n",
      "  label 10: 200\n",
      "  label 11: 200\n",
      "  label 12: 200\n",
      "  label 13: 200\n",
      "  label 14: 200\n",
      "  label 15: 200\n",
      "  label 16: 200\n",
      "  label 17: 200\n",
      "  label 18: 200\n",
      "  label 19: 200\n",
      "  label 20: 200\n",
      "  label 21: 200\n",
      "  label 22: 200\n",
      "  label 23: 200\n",
      "  label 24: 200\n",
      "  label 25: 200\n",
      "  label 26: 200\n",
      "  label 27: 200\n",
      "  label 28: 200\n",
      "  label 29: 200\n",
      "  label 30: 200\n",
      "  label 31: 200\n",
      "  label 32: 200\n",
      "  label 33: 200\n",
      "  label 34: 200\n",
      "  label 35: 200\n",
      "  label 36: 200\n",
      "  label 37: 200\n",
      "  label 38: 200\n",
      "  label 39: 200\n",
      "  label 40: 200\n",
      "  label 41: 200\n",
      "  label 42: 200\n",
      "  label 43: 200\n",
      "  label 44: 200\n",
      "  label 45: 241\n",
      "  label 46: 200\n",
      "  label 47: 200\n",
      "model is bert-base-uncased bilstm\n",
      "Epoch 1/20\n"
     ]
    },
    {
     "name": "stderr",
     "output_type": "stream",
     "text": [
      "100%|██████████| 716/716 [01:06<00:00, 10.77it/s]\n"
     ]
    },
    {
     "name": "stdout",
     "output_type": "stream",
     "text": [
      "{'val_loss': 1.739501870986892, 'val_accuracy': 0.551487414187643, 'precision': 0.5738057333653811, 'recall': 0.551487414187643, 'f1-score': 0.5296720818910041, 'macro_f1-score': 0.25051282849043804, 'balanced_accuracy': 0.2842996120286327, 'mcc': 0.391446696425302, 'train_loss': 2.514030494170482}\n",
      "Epoch 2/20\n"
     ]
    },
    {
     "name": "stderr",
     "output_type": "stream",
     "text": [
      "100%|██████████| 716/716 [01:06<00:00, 10.70it/s]\n"
     ]
    },
    {
     "name": "stdout",
     "output_type": "stream",
     "text": [
      "{'val_loss': 1.6329453322218686, 'val_accuracy': 0.5675057208237986, 'precision': 0.5726661173020956, 'recall': 0.5675057208237986, 'f1-score': 0.5589667132367635, 'macro_f1-score': 0.3523767290857183, 'balanced_accuracy': 0.3846305985566749, 'mcc': 0.428146250442547, 'train_loss': 1.1753206650554802}\n",
      "Epoch 3/20\n"
     ]
    },
    {
     "name": "stderr",
     "output_type": "stream",
     "text": [
      "100%|██████████| 716/716 [01:06<00:00, 10.76it/s]\n"
     ]
    },
    {
     "name": "stdout",
     "output_type": "stream",
     "text": [
      "{'val_loss': 1.6480548810668108, 'val_accuracy': 0.593440122044241, 'precision': 0.6347307526533498, 'recall': 0.593440122044241, 'f1-score': 0.5967558096830201, 'macro_f1-score': 0.36511861071339907, 'balanced_accuracy': 0.39734282355782286, 'mcc': 0.4725018680420845, 'train_loss': 0.6749624147901946}\n",
      "Epoch 4/20\n"
     ]
    },
    {
     "name": "stderr",
     "output_type": "stream",
     "text": [
      "100%|██████████| 716/716 [01:06<00:00, 10.72it/s]\n"
     ]
    },
    {
     "name": "stdout",
     "output_type": "stream",
     "text": [
      "{'val_loss': 1.6962691853958658, 'val_accuracy': 0.6140350877192983, 'precision': 0.6049468724671168, 'recall': 0.6140350877192983, 'f1-score': 0.5974021088134011, 'macro_f1-score': 0.3680091491772637, 'balanced_accuracy': 0.3601212112729331, 'mcc': 0.47553356716091955, 'train_loss': 0.41038846559614445}\n",
      "Epoch 5/20\n"
     ]
    },
    {
     "name": "stderr",
     "output_type": "stream",
     "text": [
      "100%|██████████| 716/716 [01:06<00:00, 10.73it/s]\n"
     ]
    },
    {
     "name": "stdout",
     "output_type": "stream",
     "text": [
      "{'val_loss': 1.8201843318415851, 'val_accuracy': 0.5865751334858886, 'precision': 0.612534589483679, 'recall': 0.5865751334858886, 'f1-score': 0.5936537328234793, 'macro_f1-score': 0.3771728289991449, 'balanced_accuracy': 0.380682605487916, 'mcc': 0.4716176900169901, 'train_loss': 0.30129452077567825}\n",
      "Epoch 6/20\n"
     ]
    },
    {
     "name": "stderr",
     "output_type": "stream",
     "text": [
      "100%|██████████| 716/716 [01:06<00:00, 10.74it/s]\n"
     ]
    },
    {
     "name": "stdout",
     "output_type": "stream",
     "text": [
      "{'val_loss': 1.8431087990813866, 'val_accuracy': 0.627765064836003, 'precision': 0.6265380452802681, 'recall': 0.627765064836003, 'f1-score': 0.6143982510357083, 'macro_f1-score': 0.37120936790952036, 'balanced_accuracy': 0.35234142584698613, 'mcc': 0.49756843031432946, 'train_loss': 0.23898298040815427}\n",
      "Epoch 7/20\n"
     ]
    },
    {
     "name": "stderr",
     "output_type": "stream",
     "text": [
      "100%|██████████| 716/716 [01:06<00:00, 10.75it/s]\n"
     ]
    },
    {
     "name": "stdout",
     "output_type": "stream",
     "text": [
      "{'val_loss': 1.9158763431648655, 'val_accuracy': 0.6437833714721587, 'precision': 0.6358053715948947, 'recall': 0.6437833714721587, 'f1-score': 0.6279589400925104, 'macro_f1-score': 0.397946506662388, 'balanced_accuracy': 0.37531158690202915, 'mcc': 0.5159905764869022, 'train_loss': 0.17309396939648722}\n",
      "Epoch 8/20\n"
     ]
    },
    {
     "name": "stderr",
     "output_type": "stream",
     "text": [
      "100%|██████████| 716/716 [01:06<00:00, 10.78it/s]\n"
     ]
    },
    {
     "name": "stdout",
     "output_type": "stream",
     "text": [
      "{'val_loss': 2.008842570684487, 'val_accuracy': 0.6308161708619374, 'precision': 0.611163964867481, 'recall': 0.6308161708619374, 'f1-score': 0.6085305041400422, 'macro_f1-score': 0.3604321934780234, 'balanced_accuracy': 0.35299024179531857, 'mcc': 0.49811316316644205, 'train_loss': 0.1422129879411643}\n",
      "Epoch 9/20\n"
     ]
    },
    {
     "name": "stderr",
     "output_type": "stream",
     "text": [
      "100%|██████████| 716/716 [01:06<00:00, 10.74it/s]\n"
     ]
    },
    {
     "name": "stdout",
     "output_type": "stream",
     "text": [
      "{'val_loss': 2.029265588126713, 'val_accuracy': 0.6186117467581999, 'precision': 0.6478639007601558, 'recall': 0.6186117467581999, 'f1-score': 0.6260766745758969, 'macro_f1-score': 0.3982991051955856, 'balanced_accuracy': 0.41330620206548935, 'mcc': 0.5097846296660339, 'train_loss': 0.12889420276367256}\n",
      "Epoch 10/20\n"
     ]
    },
    {
     "name": "stderr",
     "output_type": "stream",
     "text": [
      "100%|██████████| 716/716 [01:06<00:00, 10.77it/s]\n"
     ]
    },
    {
     "name": "stdout",
     "output_type": "stream",
     "text": [
      "{'val_loss': 2.0960318640601345, 'val_accuracy': 0.623951182303585, 'precision': 0.6001530698659503, 'recall': 0.623951182303585, 'f1-score': 0.5999131256484534, 'macro_f1-score': 0.35232541325322914, 'balanced_accuracy': 0.32647385617584573, 'mcc': 0.4819328782129188, 'train_loss': 0.10070732615526516}\n",
      "Epoch 11/20\n"
     ]
    },
    {
     "name": "stderr",
     "output_type": "stream",
     "text": [
      "100%|██████████| 716/716 [01:06<00:00, 10.75it/s]\n"
     ]
    },
    {
     "name": "stdout",
     "output_type": "stream",
     "text": [
      "{'val_loss': 2.141621304721367, 'val_accuracy': 0.6193745232646835, 'precision': 0.6072900833527183, 'recall': 0.6193745232646835, 'f1-score': 0.6055044105248839, 'macro_f1-score': 0.3544349009923016, 'balanced_accuracy': 0.3454665075892569, 'mcc': 0.48834639170073046, 'train_loss': 0.09759092627499023}\n",
      "Epoch 12/20\n"
     ]
    },
    {
     "name": "stderr",
     "output_type": "stream",
     "text": [
      "100%|██████████| 716/716 [01:06<00:00, 10.77it/s]\n"
     ]
    },
    {
     "name": "stdout",
     "output_type": "stream",
     "text": [
      "{'val_loss': 2.1840609736945025, 'val_accuracy': 0.6300533943554538, 'precision': 0.6148333478956046, 'recall': 0.6300533943554538, 'f1-score': 0.6083503937401225, 'macro_f1-score': 0.37029448121889746, 'balanced_accuracy': 0.3512986625016172, 'mcc': 0.49394757125735766, 'train_loss': 0.08695690119970725}\n",
      "Early stopping.\n",
      "\n",
      "[Fold 4]\n",
      "🚀 Using Word2Vec + EDA (replace + deletion/swap) for data augmentation + under-sampling\n",
      "🔻 Under-sampling label 0: 2471 → 2000\n",
      "🔧 Augmenting label 1: 22 → 200 (+178)\n",
      "🔧 Augmenting label 2: 64 → 200 (+136)\n",
      "🔧 Augmenting label 3: 24 → 200 (+176)\n",
      "🔧 Augmenting label 4: 190 → 200 (+10)\n",
      "🔧 Augmenting label 5: 113 → 200 (+87)\n",
      "🔧 Augmenting label 6: 93 → 200 (+107)\n",
      "🔧 Augmenting label 7: 31 → 200 (+169)\n",
      "🔧 Augmenting label 8: 68 → 200 (+132)\n",
      "🔧 Augmenting label 9: 29 → 200 (+171)\n",
      "🔧 Augmenting label 10: 67 → 200 (+133)\n",
      "🔧 Augmenting label 11: 169 → 200 (+31)\n",
      "🔧 Augmenting label 12: 190 → 200 (+10)\n",
      "🔧 Augmenting label 13: 29 → 200 (+171)\n",
      "🔧 Augmenting label 14: 22 → 200 (+178)\n",
      "🔧 Augmenting label 15: 25 → 200 (+175)\n",
      "🔧 Augmenting label 16: 19 → 200 (+181)\n",
      "🔧 Augmenting label 17: 182 → 200 (+18)\n",
      "🔧 Augmenting label 18: 92 → 200 (+108)\n",
      "🔧 Augmenting label 19: 44 → 200 (+156)\n",
      "🔧 Augmenting label 20: 14 → 200 (+186)\n",
      "🔧 Augmenting label 21: 35 → 200 (+165)\n",
      "🔧 Augmenting label 22: 76 → 200 (+124)\n",
      "🔧 Augmenting label 23: 158 → 200 (+42)\n",
      "🔧 Augmenting label 24: 13 → 200 (+187)\n",
      "🔧 Augmenting label 25: 44 → 200 (+156)\n",
      "🔧 Augmenting label 26: 84 → 200 (+116)\n",
      "🔧 Augmenting label 27: 48 → 200 (+152)\n",
      "🔧 Augmenting label 28: 11 → 200 (+189)\n",
      "🔧 Augmenting label 29: 13 → 200 (+187)\n",
      "🔧 Augmenting label 30: 11 → 200 (+189)\n",
      "🔧 Augmenting label 31: 75 → 200 (+125)\n",
      "🔧 Augmenting label 32: 36 → 200 (+164)\n",
      "🔧 Augmenting label 33: 31 → 200 (+169)\n",
      "🔧 Augmenting label 34: 30 → 200 (+170)\n",
      "🔧 Augmenting label 35: 11 → 200 (+189)\n",
      "🔧 Augmenting label 36: 22 → 200 (+178)\n",
      "🔧 Augmenting label 37: 16 → 200 (+184)\n",
      "🔧 Augmenting label 38: 33 → 200 (+167)\n",
      "🔧 Augmenting label 39: 10 → 200 (+190)\n",
      "🔧 Augmenting label 40: 9 → 200 (+191)\n",
      "🔧 Augmenting label 41: 56 → 200 (+144)\n",
      "🔧 Augmenting label 42: 18 → 200 (+182)\n",
      "🔧 Augmenting label 43: 9 → 200 (+191)\n",
      "🔧 Augmenting label 44: 55 → 200 (+145)\n",
      "🔧 Augmenting label 46: 62 → 200 (+138)\n",
      "🔧 Augmenting label 47: 80 → 200 (+120)\n",
      "Label distribution after resampling:\n",
      "  label 0: 2000\n",
      "  label 1: 200\n",
      "  label 2: 200\n",
      "  label 3: 200\n",
      "  label 4: 200\n",
      "  label 5: 200\n",
      "  label 6: 200\n",
      "  label 7: 200\n",
      "  label 8: 200\n",
      "  label 9: 200\n",
      "  label 10: 200\n",
      "  label 11: 200\n",
      "  label 12: 200\n",
      "  label 13: 200\n",
      "  label 14: 200\n",
      "  label 15: 200\n",
      "  label 16: 200\n",
      "  label 17: 200\n",
      "  label 18: 200\n",
      "  label 19: 200\n",
      "  label 20: 200\n",
      "  label 21: 200\n",
      "  label 22: 200\n",
      "  label 23: 200\n",
      "  label 24: 200\n",
      "  label 25: 200\n",
      "  label 26: 200\n",
      "  label 27: 200\n",
      "  label 28: 200\n",
      "  label 29: 200\n",
      "  label 30: 200\n",
      "  label 31: 200\n",
      "  label 32: 200\n",
      "  label 33: 200\n",
      "  label 34: 200\n",
      "  label 35: 200\n",
      "  label 36: 200\n",
      "  label 37: 200\n",
      "  label 38: 200\n",
      "  label 39: 200\n",
      "  label 40: 200\n",
      "  label 41: 200\n",
      "  label 42: 200\n",
      "  label 43: 200\n",
      "  label 44: 200\n",
      "  label 45: 241\n",
      "  label 46: 200\n",
      "  label 47: 200\n",
      "model is bert-base-uncased bilstm\n",
      "Epoch 1/20\n"
     ]
    },
    {
     "name": "stderr",
     "output_type": "stream",
     "text": [
      "100%|██████████| 716/716 [01:06<00:00, 10.76it/s]\n"
     ]
    },
    {
     "name": "stdout",
     "output_type": "stream",
     "text": [
      "{'val_loss': 1.722379051330613, 'val_accuracy': 0.5385202135774219, 'precision': 0.5447694459224462, 'recall': 0.5385202135774219, 'f1-score': 0.49989201069530237, 'macro_f1-score': 0.24448053618283838, 'balanced_accuracy': 0.3132345751625109, 'mcc': 0.3718261450432594, 'train_loss': 2.5327299535274506}\n",
      "Epoch 2/20\n"
     ]
    },
    {
     "name": "stderr",
     "output_type": "stream",
     "text": [
      "100%|██████████| 716/716 [01:06<00:00, 10.71it/s]\n"
     ]
    },
    {
     "name": "stdout",
     "output_type": "stream",
     "text": [
      "{'val_loss': 1.5010147160146294, 'val_accuracy': 0.6079328756674295, 'precision': 0.6247382772964233, 'recall': 0.6079328756674295, 'f1-score': 0.5792511885024343, 'macro_f1-score': 0.3501392653972181, 'balanced_accuracy': 0.3746934278632188, 'mcc': 0.4685145128056673, 'train_loss': 1.2130617474793721}\n",
      "Epoch 3/20\n"
     ]
    },
    {
     "name": "stderr",
     "output_type": "stream",
     "text": [
      "100%|██████████| 716/716 [01:06<00:00, 10.72it/s]\n"
     ]
    },
    {
     "name": "stdout",
     "output_type": "stream",
     "text": [
      "{'val_loss': 1.4539569614500534, 'val_accuracy': 0.6331045003813882, 'precision': 0.6430005768168932, 'recall': 0.6331045003813882, 'f1-score': 0.6171280705243897, 'macro_f1-score': 0.3661137838914105, 'balanced_accuracy': 0.381701615318639, 'mcc': 0.5177679950040713, 'train_loss': 0.7202907816855518}\n",
      "Epoch 4/20\n"
     ]
    },
    {
     "name": "stderr",
     "output_type": "stream",
     "text": [
      "100%|██████████| 716/716 [01:06<00:00, 10.71it/s]\n"
     ]
    },
    {
     "name": "stdout",
     "output_type": "stream",
     "text": [
      "{'val_loss': 1.5170669174957565, 'val_accuracy': 0.6468344774980931, 'precision': 0.6598443915215968, 'recall': 0.6468344774980931, 'f1-score': 0.6404006084153319, 'macro_f1-score': 0.4247339526364418, 'balanced_accuracy': 0.4384837433714015, 'mcc': 0.5348597050585776, 'train_loss': 0.41794597649915594}\n",
      "Epoch 5/20\n"
     ]
    },
    {
     "name": "stderr",
     "output_type": "stream",
     "text": [
      "100%|██████████| 716/716 [01:06<00:00, 10.76it/s]\n"
     ]
    },
    {
     "name": "stdout",
     "output_type": "stream",
     "text": [
      "{'val_loss': 1.5609910827947826, 'val_accuracy': 0.6430205949656751, 'precision': 0.6518877383964583, 'recall': 0.6430205949656751, 'f1-score': 0.6329865906878298, 'macro_f1-score': 0.40894045281562347, 'balanced_accuracy': 0.42952013656723326, 'mcc': 0.5306533318248735, 'train_loss': 0.2851932620663487}\n",
      "Epoch 6/20\n"
     ]
    },
    {
     "name": "stderr",
     "output_type": "stream",
     "text": [
      "100%|██████████| 716/716 [01:06<00:00, 10.78it/s]\n"
     ]
    },
    {
     "name": "stdout",
     "output_type": "stream",
     "text": [
      "{'val_loss': 1.646127485283991, 'val_accuracy': 0.6468344774980931, 'precision': 0.641901455741354, 'recall': 0.6468344774980931, 'f1-score': 0.6301892509706173, 'macro_f1-score': 0.4125209832119401, 'balanced_accuracy': 0.4054172897862937, 'mcc': 0.5258351806628861, 'train_loss': 0.21090865897290492}\n",
      "Epoch 7/20\n"
     ]
    },
    {
     "name": "stderr",
     "output_type": "stream",
     "text": [
      "100%|██████████| 716/716 [01:06<00:00, 10.72it/s]\n"
     ]
    },
    {
     "name": "stdout",
     "output_type": "stream",
     "text": [
      "{'val_loss': 1.7946361474147656, 'val_accuracy': 0.620137299771167, 'precision': 0.6323702538758806, 'recall': 0.620137299771167, 'f1-score': 0.6148704267456788, 'macro_f1-score': 0.39234616514209164, 'balanced_accuracy': 0.4071426134112137, 'mcc': 0.502149722887658, 'train_loss': 0.17070192033841208}\n",
      "Early stopping.\n",
      "\n",
      "[Fold 5]\n",
      "🚀 Using Word2Vec + EDA (replace + deletion/swap) for data augmentation + under-sampling\n",
      "🔻 Under-sampling label 0: 2472 → 2000\n",
      "🔧 Augmenting label 1: 21 → 200 (+179)\n",
      "🔧 Augmenting label 2: 64 → 200 (+136)\n",
      "🔧 Augmenting label 3: 24 → 200 (+176)\n",
      "🔧 Augmenting label 4: 191 → 200 (+9)\n",
      "🔧 Augmenting label 5: 112 → 200 (+88)\n",
      "🔧 Augmenting label 6: 92 → 200 (+108)\n",
      "🔧 Augmenting label 7: 31 → 200 (+169)\n",
      "🔧 Augmenting label 8: 68 → 200 (+132)\n",
      "🔧 Augmenting label 9: 29 → 200 (+171)\n",
      "🔧 Augmenting label 10: 68 → 200 (+132)\n",
      "🔧 Augmenting label 11: 168 → 200 (+32)\n",
      "🔧 Augmenting label 12: 190 → 200 (+10)\n",
      "🔧 Augmenting label 13: 29 → 200 (+171)\n",
      "🔧 Augmenting label 14: 22 → 200 (+178)\n",
      "🔧 Augmenting label 15: 25 → 200 (+175)\n",
      "🔧 Augmenting label 16: 19 → 200 (+181)\n",
      "🔧 Augmenting label 17: 183 → 200 (+17)\n",
      "🔧 Augmenting label 18: 92 → 200 (+108)\n",
      "🔧 Augmenting label 19: 44 → 200 (+156)\n",
      "🔧 Augmenting label 20: 14 → 200 (+186)\n",
      "🔧 Augmenting label 21: 35 → 200 (+165)\n",
      "🔧 Augmenting label 22: 76 → 200 (+124)\n",
      "🔧 Augmenting label 23: 158 → 200 (+42)\n",
      "🔧 Augmenting label 24: 13 → 200 (+187)\n",
      "🔧 Augmenting label 25: 44 → 200 (+156)\n",
      "🔧 Augmenting label 26: 84 → 200 (+116)\n",
      "🔧 Augmenting label 27: 48 → 200 (+152)\n",
      "🔧 Augmenting label 28: 11 → 200 (+189)\n",
      "🔧 Augmenting label 29: 13 → 200 (+187)\n",
      "🔧 Augmenting label 30: 11 → 200 (+189)\n",
      "🔧 Augmenting label 31: 75 → 200 (+125)\n",
      "🔧 Augmenting label 32: 36 → 200 (+164)\n",
      "🔧 Augmenting label 33: 31 → 200 (+169)\n",
      "🔧 Augmenting label 34: 30 → 200 (+170)\n",
      "🔧 Augmenting label 35: 11 → 200 (+189)\n",
      "🔧 Augmenting label 36: 22 → 200 (+178)\n",
      "🔧 Augmenting label 37: 16 → 200 (+184)\n",
      "🔧 Augmenting label 38: 33 → 200 (+167)\n",
      "🔧 Augmenting label 39: 10 → 200 (+190)\n",
      "🔧 Augmenting label 40: 9 → 200 (+191)\n",
      "🔧 Augmenting label 41: 57 → 200 (+143)\n",
      "🔧 Augmenting label 42: 18 → 200 (+182)\n",
      "🔧 Augmenting label 43: 9 → 200 (+191)\n",
      "🔧 Augmenting label 44: 54 → 200 (+146)\n",
      "🔧 Augmenting label 46: 61 → 200 (+139)\n",
      "🔧 Augmenting label 47: 80 → 200 (+120)\n",
      "Label distribution after resampling:\n",
      "  label 0: 2000\n",
      "  label 1: 200\n",
      "  label 2: 200\n",
      "  label 3: 200\n",
      "  label 4: 200\n",
      "  label 5: 200\n",
      "  label 6: 200\n",
      "  label 7: 200\n",
      "  label 8: 200\n",
      "  label 9: 200\n",
      "  label 10: 200\n",
      "  label 11: 200\n",
      "  label 12: 200\n",
      "  label 13: 200\n",
      "  label 14: 200\n",
      "  label 15: 200\n",
      "  label 16: 200\n",
      "  label 17: 200\n",
      "  label 18: 200\n",
      "  label 19: 200\n",
      "  label 20: 200\n",
      "  label 21: 200\n",
      "  label 22: 200\n",
      "  label 23: 200\n",
      "  label 24: 200\n",
      "  label 25: 200\n",
      "  label 26: 200\n",
      "  label 27: 200\n",
      "  label 28: 200\n",
      "  label 29: 200\n",
      "  label 30: 200\n",
      "  label 31: 200\n",
      "  label 32: 200\n",
      "  label 33: 200\n",
      "  label 34: 200\n",
      "  label 35: 200\n",
      "  label 36: 200\n",
      "  label 37: 200\n",
      "  label 38: 200\n",
      "  label 39: 200\n",
      "  label 40: 200\n",
      "  label 41: 200\n",
      "  label 42: 200\n",
      "  label 43: 200\n",
      "  label 44: 200\n",
      "  label 45: 242\n",
      "  label 46: 200\n",
      "  label 47: 200\n",
      "model is bert-base-uncased bilstm\n",
      "Epoch 1/20\n"
     ]
    },
    {
     "name": "stderr",
     "output_type": "stream",
     "text": [
      "100%|██████████| 716/716 [01:06<00:00, 10.73it/s]\n"
     ]
    },
    {
     "name": "stdout",
     "output_type": "stream",
     "text": [
      "{'val_loss': 1.6308216176381924, 'val_accuracy': 0.5781845919145691, 'precision': 0.5386159841353308, 'recall': 0.5781845919145691, 'f1-score': 0.5350038163652059, 'macro_f1-score': 0.31309989220135087, 'balanced_accuracy': 0.38080067730268025, 'mcc': 0.4266185466794427, 'train_loss': 2.5545563687825337}\n",
      "Epoch 2/20\n"
     ]
    },
    {
     "name": "stderr",
     "output_type": "stream",
     "text": [
      "100%|██████████| 716/716 [01:06<00:00, 10.73it/s]\n"
     ]
    },
    {
     "name": "stdout",
     "output_type": "stream",
     "text": [
      "{'val_loss': 1.441298362685413, 'val_accuracy': 0.6163234172387491, 'precision': 0.6407137419961447, 'recall': 0.6163234172387491, 'f1-score': 0.6133780661966826, 'macro_f1-score': 0.40187771694129476, 'balanced_accuracy': 0.4313282301092469, 'mcc': 0.4973306151333485, 'train_loss': 1.1971584407810392}\n",
      "Epoch 3/20\n"
     ]
    },
    {
     "name": "stderr",
     "output_type": "stream",
     "text": [
      "100%|██████████| 716/716 [01:06<00:00, 10.74it/s]\n"
     ]
    },
    {
     "name": "stdout",
     "output_type": "stream",
     "text": [
      "{'val_loss': 1.4591430309342175, 'val_accuracy': 0.6399694889397407, 'precision': 0.6526217590575553, 'recall': 0.6399694889397407, 'f1-score': 0.6291389947214828, 'macro_f1-score': 0.4099429587150169, 'balanced_accuracy': 0.4102458125828354, 'mcc': 0.5199933537116869, 'train_loss': 0.6719674650558879}\n",
      "Epoch 4/20\n"
     ]
    },
    {
     "name": "stderr",
     "output_type": "stream",
     "text": [
      "100%|██████████| 716/716 [01:06<00:00, 10.78it/s]\n"
     ]
    },
    {
     "name": "stdout",
     "output_type": "stream",
     "text": [
      "{'val_loss': 1.4832467109691807, 'val_accuracy': 0.6231884057971014, 'precision': 0.6378996487402364, 'recall': 0.6231884057971014, 'f1-score': 0.6209212495739691, 'macro_f1-score': 0.4127974091141639, 'balanced_accuracy': 0.43351693973114785, 'mcc': 0.5120573318625202, 'train_loss': 0.41452981668977096}\n",
      "Epoch 5/20\n"
     ]
    },
    {
     "name": "stderr",
     "output_type": "stream",
     "text": [
      "100%|██████████| 716/716 [01:06<00:00, 10.73it/s]\n"
     ]
    },
    {
     "name": "stdout",
     "output_type": "stream",
     "text": [
      "{'val_loss': 1.6385091501401692, 'val_accuracy': 0.6529366895499619, 'precision': 0.6393100470763222, 'recall': 0.6529366895499619, 'f1-score': 0.6316571132356206, 'macro_f1-score': 0.39890429972864877, 'balanced_accuracy': 0.3769880483605997, 'mcc': 0.5313746664977963, 'train_loss': 0.2688413499516315}\n",
      "Epoch 6/20\n"
     ]
    },
    {
     "name": "stderr",
     "output_type": "stream",
     "text": [
      "100%|██████████| 716/716 [01:06<00:00, 10.78it/s]\n"
     ]
    },
    {
     "name": "stdout",
     "output_type": "stream",
     "text": [
      "{'val_loss': 1.5512916569302722, 'val_accuracy': 0.6575133485888635, 'precision': 0.6640863582465558, 'recall': 0.6575133485888635, 'f1-score': 0.6532563266096338, 'macro_f1-score': 0.43491628575055635, 'balanced_accuracy': 0.4388445231150065, 'mcc': 0.5516866568052421, 'train_loss': 0.19002936244812174}\n",
      "Epoch 7/20\n"
     ]
    },
    {
     "name": "stderr",
     "output_type": "stream",
     "text": [
      "100%|██████████| 716/716 [01:06<00:00, 10.72it/s]\n"
     ]
    },
    {
     "name": "stdout",
     "output_type": "stream",
     "text": [
      "{'val_loss': 1.6586851063298016, 'val_accuracy': 0.6392067124332571, 'precision': 0.6412013692607779, 'recall': 0.6392067124332571, 'f1-score': 0.6328853356772929, 'macro_f1-score': 0.4270970160020748, 'balanced_accuracy': 0.43946012446783894, 'mcc': 0.5300883407027889, 'train_loss': 0.15677191853112224}\n",
      "Epoch 8/20\n"
     ]
    },
    {
     "name": "stderr",
     "output_type": "stream",
     "text": [
      "100%|██████████| 716/716 [01:06<00:00, 10.75it/s]\n"
     ]
    },
    {
     "name": "stdout",
     "output_type": "stream",
     "text": [
      "{'val_loss': 1.7574323582939986, 'val_accuracy': 0.6445461479786423, 'precision': 0.6494345722312369, 'recall': 0.6445461479786423, 'f1-score': 0.6280779923597443, 'macro_f1-score': 0.39935116445568, 'balanced_accuracy': 0.3899219997345374, 'mcc': 0.5240014398480858, 'train_loss': 0.14091681505360917}\n",
      "Epoch 9/20\n"
     ]
    },
    {
     "name": "stderr",
     "output_type": "stream",
     "text": [
      "100%|██████████| 716/716 [01:06<00:00, 10.77it/s]\n"
     ]
    },
    {
     "name": "stdout",
     "output_type": "stream",
     "text": [
      "{'val_loss': 1.9364518152504433, 'val_accuracy': 0.6506483600305111, 'precision': 0.647314275829627, 'recall': 0.6506483600305111, 'f1-score': 0.6391264923178553, 'macro_f1-score': 0.41153197035427985, 'balanced_accuracy': 0.40428587516372555, 'mcc': 0.5381318566042405, 'train_loss': 0.09225093761807589}\n",
      "Early stopping.\n",
      "\n",
      " === bert-base-uncased + bilstm + word2vec_eda Final 5-fold Cross-Validation Results ===\n",
      "val_loss: 1.6845\n",
      "val_accuracy: 0.6417\n",
      "precision: 0.6512\n",
      "recall: 0.6417\n",
      "f1-score: 0.6368\n",
      "macro_f1-score: 0.4187\n",
      "balanced_accuracy: 0.4285\n",
      "mcc: 0.5290\n",
      "train_loss: 0.2614\n",
      "total_seconds: 3173.0000\n",
      "total_time: 0 hrs 52 mins 53 secs\n",
      "▶ Running: roberta-base + plain + word2vec_eda\n",
      "tokenizer is roberta-base\n",
      "Using device: cuda\n",
      "CUDA Available: True\n",
      "CUDA Device: NVIDIA GeForce RTX 5070 Ti\n",
      "Current GPU Memory Allocated: 0.02 GB\n",
      "Current GPU Memory Cached: 3.14 GB\n",
      "\n",
      "[Fold 1]\n",
      "🚀 Using Word2Vec + EDA (replace + deletion/swap) for data augmentation + under-sampling\n",
      "🔻 Under-sampling label 0: 2471 → 2000\n",
      "🔧 Augmenting label 1: 21 → 200 (+179)\n",
      "🔧 Augmenting label 2: 64 → 200 (+136)\n",
      "🔧 Augmenting label 3: 24 → 200 (+176)\n",
      "🔧 Augmenting label 4: 191 → 200 (+9)\n",
      "🔧 Augmenting label 5: 113 → 200 (+87)\n",
      "🔧 Augmenting label 6: 93 → 200 (+107)\n",
      "🔧 Augmenting label 7: 30 → 200 (+170)\n",
      "🔧 Augmenting label 8: 68 → 200 (+132)\n",
      "🔧 Augmenting label 9: 30 → 200 (+170)\n",
      "🔧 Augmenting label 10: 67 → 200 (+133)\n",
      "🔧 Augmenting label 11: 169 → 200 (+31)\n",
      "🔧 Augmenting label 12: 189 → 200 (+11)\n",
      "🔧 Augmenting label 13: 29 → 200 (+171)\n",
      "🔧 Augmenting label 14: 22 → 200 (+178)\n",
      "🔧 Augmenting label 15: 25 → 200 (+175)\n",
      "🔧 Augmenting label 16: 19 → 200 (+181)\n",
      "🔧 Augmenting label 17: 183 → 200 (+17)\n",
      "🔧 Augmenting label 18: 92 → 200 (+108)\n",
      "🔧 Augmenting label 19: 44 → 200 (+156)\n",
      "🔧 Augmenting label 20: 13 → 200 (+187)\n",
      "🔧 Augmenting label 21: 35 → 200 (+165)\n",
      "🔧 Augmenting label 22: 76 → 200 (+124)\n",
      "🔧 Augmenting label 23: 158 → 200 (+42)\n",
      "🔧 Augmenting label 24: 13 → 200 (+187)\n",
      "🔧 Augmenting label 25: 44 → 200 (+156)\n",
      "🔧 Augmenting label 26: 84 → 200 (+116)\n",
      "🔧 Augmenting label 27: 48 → 200 (+152)\n",
      "🔧 Augmenting label 28: 11 → 200 (+189)\n",
      "🔧 Augmenting label 29: 13 → 200 (+187)\n",
      "🔧 Augmenting label 30: 11 → 200 (+189)\n",
      "🔧 Augmenting label 31: 75 → 200 (+125)\n",
      "🔧 Augmenting label 32: 36 → 200 (+164)\n",
      "🔧 Augmenting label 33: 32 → 200 (+168)\n",
      "🔧 Augmenting label 34: 29 → 200 (+171)\n",
      "🔧 Augmenting label 35: 11 → 200 (+189)\n",
      "🔧 Augmenting label 36: 22 → 200 (+178)\n",
      "🔧 Augmenting label 37: 16 → 200 (+184)\n",
      "🔧 Augmenting label 38: 33 → 200 (+167)\n",
      "🔧 Augmenting label 39: 10 → 200 (+190)\n",
      "🔧 Augmenting label 40: 9 → 200 (+191)\n",
      "🔧 Augmenting label 41: 57 → 200 (+143)\n",
      "🔧 Augmenting label 42: 19 → 200 (+181)\n",
      "🔧 Augmenting label 43: 8 → 200 (+192)\n",
      "🔧 Augmenting label 44: 54 → 200 (+146)\n",
      "🔧 Augmenting label 46: 61 → 200 (+139)\n",
      "🔧 Augmenting label 47: 80 → 200 (+120)\n",
      "Label distribution after resampling:\n",
      "  label 0: 2000\n",
      "  label 1: 200\n",
      "  label 2: 200\n",
      "  label 3: 200\n",
      "  label 4: 200\n",
      "  label 5: 200\n",
      "  label 6: 200\n",
      "  label 7: 200\n",
      "  label 8: 200\n",
      "  label 9: 200\n",
      "  label 10: 200\n",
      "  label 11: 200\n",
      "  label 12: 200\n",
      "  label 13: 200\n",
      "  label 14: 200\n",
      "  label 15: 200\n",
      "  label 16: 200\n",
      "  label 17: 200\n",
      "  label 18: 200\n",
      "  label 19: 200\n",
      "  label 20: 200\n",
      "  label 21: 200\n",
      "  label 22: 200\n",
      "  label 23: 200\n",
      "  label 24: 200\n",
      "  label 25: 200\n",
      "  label 26: 200\n",
      "  label 27: 200\n",
      "  label 28: 200\n",
      "  label 29: 200\n",
      "  label 30: 200\n",
      "  label 31: 200\n",
      "  label 32: 200\n",
      "  label 33: 200\n",
      "  label 34: 200\n",
      "  label 35: 200\n",
      "  label 36: 200\n",
      "  label 37: 200\n",
      "  label 38: 200\n",
      "  label 39: 200\n",
      "  label 40: 200\n",
      "  label 41: 200\n",
      "  label 42: 200\n",
      "  label 43: 200\n",
      "  label 44: 200\n",
      "  label 45: 242\n",
      "  label 46: 200\n",
      "  label 47: 200\n",
      "model is roberta-base\n"
     ]
    },
    {
     "name": "stderr",
     "output_type": "stream",
     "text": [
      "Some weights of RobertaForSequenceClassification were not initialized from the model checkpoint at roberta-base and are newly initialized: ['classifier.dense.bias', 'classifier.dense.weight', 'classifier.out_proj.bias', 'classifier.out_proj.weight']\n",
      "You should probably TRAIN this model on a down-stream task to be able to use it for predictions and inference.\n"
     ]
    },
    {
     "name": "stdout",
     "output_type": "stream",
     "text": [
      "Epoch 1/20\n"
     ]
    },
    {
     "name": "stderr",
     "output_type": "stream",
     "text": [
      "100%|██████████| 716/716 [01:01<00:00, 11.67it/s]\n"
     ]
    },
    {
     "name": "stdout",
     "output_type": "stream",
     "text": [
      "{'val_loss': 1.714988525320844, 'val_accuracy': 0.5221036585365854, 'precision': 0.5598655070511361, 'recall': 0.5221036585365854, 'f1-score': 0.49455477037364565, 'macro_f1-score': 0.2640004137605851, 'balanced_accuracy': 0.3196261300704753, 'mcc': 0.3513777971907242, 'train_loss': 2.582673450588514}\n",
      "Epoch 2/20\n"
     ]
    },
    {
     "name": "stderr",
     "output_type": "stream",
     "text": [
      "100%|██████████| 716/716 [01:01<00:00, 11.67it/s]\n"
     ]
    },
    {
     "name": "stdout",
     "output_type": "stream",
     "text": [
      "{'val_loss': 1.6097269734231436, 'val_accuracy': 0.5785060975609756, 'precision': 0.6068524873189703, 'recall': 0.5785060975609756, 'f1-score': 0.5716923142979116, 'macro_f1-score': 0.3629331606623376, 'balanced_accuracy': 0.4068079587682753, 'mcc': 0.4443437500660953, 'train_loss': 1.2615199138165851}\n",
      "Epoch 3/20\n"
     ]
    },
    {
     "name": "stderr",
     "output_type": "stream",
     "text": [
      "100%|██████████| 716/716 [01:01<00:00, 11.67it/s]\n"
     ]
    },
    {
     "name": "stdout",
     "output_type": "stream",
     "text": [
      "{'val_loss': 1.7471783748123704, 'val_accuracy': 0.5891768292682927, 'precision': 0.6056272415507452, 'recall': 0.5891768292682927, 'f1-score': 0.568408323558848, 'macro_f1-score': 0.35981462414525733, 'balanced_accuracy': 0.3646419364799427, 'mcc': 0.43555527633208657, 'train_loss': 0.7406486267817087}\n",
      "Epoch 4/20\n"
     ]
    },
    {
     "name": "stderr",
     "output_type": "stream",
     "text": [
      "100%|██████████| 716/716 [01:01<00:00, 11.68it/s]\n"
     ]
    },
    {
     "name": "stdout",
     "output_type": "stream",
     "text": [
      "{'val_loss': 1.6916913859909628, 'val_accuracy': 0.6227134146341463, 'precision': 0.5886750848995953, 'recall': 0.6227134146341463, 'f1-score': 0.5893593105375196, 'macro_f1-score': 0.3449990017296877, 'balanced_accuracy': 0.33573103523318637, 'mcc': 0.47773479971829247, 'train_loss': 0.48935118437271213}\n",
      "Epoch 5/20\n"
     ]
    },
    {
     "name": "stderr",
     "output_type": "stream",
     "text": [
      "100%|██████████| 716/716 [01:01<00:00, 11.67it/s]\n"
     ]
    },
    {
     "name": "stdout",
     "output_type": "stream",
     "text": [
      "{'val_loss': 1.6957348636010798, 'val_accuracy': 0.6150914634146342, 'precision': 0.6262487740426205, 'recall': 0.6150914634146342, 'f1-score': 0.6101681869959952, 'macro_f1-score': 0.4231055073075726, 'balanced_accuracy': 0.45147824027349265, 'mcc': 0.49539621673315715, 'train_loss': 0.34155190371330724}\n",
      "Epoch 6/20\n"
     ]
    },
    {
     "name": "stderr",
     "output_type": "stream",
     "text": [
      "100%|██████████| 716/716 [01:01<00:00, 11.69it/s]\n"
     ]
    },
    {
     "name": "stdout",
     "output_type": "stream",
     "text": [
      "{'val_loss': 1.888556590712652, 'val_accuracy': 0.635670731707317, 'precision': 0.6260474264381694, 'recall': 0.635670731707317, 'f1-score': 0.6088572338397458, 'macro_f1-score': 0.4067638365198805, 'balanced_accuracy': 0.40322580234499433, 'mcc': 0.4986559235458148, 'train_loss': 0.2623961735763925}\n",
      "Epoch 7/20\n"
     ]
    },
    {
     "name": "stderr",
     "output_type": "stream",
     "text": [
      "100%|██████████| 716/716 [01:01<00:00, 11.67it/s]\n"
     ]
    },
    {
     "name": "stdout",
     "output_type": "stream",
     "text": [
      "{'val_loss': 1.8799368571944353, 'val_accuracy': 0.6189024390243902, 'precision': 0.6383251741363186, 'recall': 0.6189024390243902, 'f1-score': 0.6161155686165134, 'macro_f1-score': 0.45191427250906474, 'balanced_accuracy': 0.4396784206347785, 'mcc': 0.4931694000388456, 'train_loss': 0.2201273977527572}\n",
      "Epoch 8/20\n"
     ]
    },
    {
     "name": "stderr",
     "output_type": "stream",
     "text": [
      "100%|██████████| 716/716 [01:01<00:00, 11.68it/s]\n"
     ]
    },
    {
     "name": "stdout",
     "output_type": "stream",
     "text": [
      "{'val_loss': 1.8559717695887497, 'val_accuracy': 0.6219512195121951, 'precision': 0.6293550175821097, 'recall': 0.6219512195121951, 'f1-score': 0.6175541525100439, 'macro_f1-score': 0.42646480532897807, 'balanced_accuracy': 0.4329863095628894, 'mcc': 0.5033031379496625, 'train_loss': 0.1864145582056651}\n",
      "Epoch 9/20\n"
     ]
    },
    {
     "name": "stderr",
     "output_type": "stream",
     "text": [
      "100%|██████████| 716/716 [01:01<00:00, 11.67it/s]\n"
     ]
    },
    {
     "name": "stdout",
     "output_type": "stream",
     "text": [
      "{'val_loss': 2.1396799047545687, 'val_accuracy': 0.6120426829268293, 'precision': 0.6146484588613791, 'recall': 0.6120426829268293, 'f1-score': 0.6036030363932133, 'macro_f1-score': 0.42090965444005785, 'balanced_accuracy': 0.41846756725406226, 'mcc': 0.48256908084924405, 'train_loss': 0.1562452092298499}\n",
      "Epoch 10/20\n"
     ]
    },
    {
     "name": "stderr",
     "output_type": "stream",
     "text": [
      "100%|██████████| 716/716 [01:01<00:00, 11.69it/s]\n"
     ]
    },
    {
     "name": "stdout",
     "output_type": "stream",
     "text": [
      "{'val_loss': 2.1168143574784444, 'val_accuracy': 0.6272865853658537, 'precision': 0.6392078092123858, 'recall': 0.6272865853658537, 'f1-score': 0.6226276305054643, 'macro_f1-score': 0.40378454664882685, 'balanced_accuracy': 0.40409174235081236, 'mcc': 0.5083005120710614, 'train_loss': 0.14468059401930564}\n",
      "Early stopping.\n",
      "\n",
      "[Fold 2]\n",
      "🚀 Using Word2Vec + EDA (replace + deletion/swap) for data augmentation + under-sampling\n",
      "🔻 Under-sampling label 0: 2471 → 2000\n",
      "🔧 Augmenting label 1: 22 → 200 (+178)\n",
      "🔧 Augmenting label 2: 64 → 200 (+136)\n",
      "🔧 Augmenting label 3: 24 → 200 (+176)\n",
      "🔧 Augmenting label 4: 190 → 200 (+10)\n",
      "🔧 Augmenting label 5: 113 → 200 (+87)\n",
      "🔧 Augmenting label 6: 93 → 200 (+107)\n",
      "🔧 Augmenting label 7: 30 → 200 (+170)\n",
      "🔧 Augmenting label 8: 68 → 200 (+132)\n",
      "🔧 Augmenting label 9: 30 → 200 (+170)\n",
      "🔧 Augmenting label 10: 67 → 200 (+133)\n",
      "🔧 Augmenting label 11: 169 → 200 (+31)\n",
      "🔧 Augmenting label 12: 189 → 200 (+11)\n",
      "🔧 Augmenting label 13: 29 → 200 (+171)\n",
      "🔧 Augmenting label 14: 23 → 200 (+177)\n",
      "🔧 Augmenting label 15: 24 → 200 (+176)\n",
      "🔧 Augmenting label 16: 20 → 200 (+180)\n",
      "🔧 Augmenting label 17: 182 → 200 (+18)\n",
      "🔧 Augmenting label 18: 92 → 200 (+108)\n",
      "🔧 Augmenting label 19: 44 → 200 (+156)\n",
      "🔧 Augmenting label 20: 13 → 200 (+187)\n",
      "🔧 Augmenting label 21: 36 → 200 (+164)\n",
      "🔧 Augmenting label 22: 76 → 200 (+124)\n",
      "🔧 Augmenting label 23: 157 → 200 (+43)\n",
      "🔧 Augmenting label 24: 12 → 200 (+188)\n",
      "🔧 Augmenting label 25: 44 → 200 (+156)\n",
      "🔧 Augmenting label 26: 84 → 200 (+116)\n",
      "🔧 Augmenting label 27: 48 → 200 (+152)\n",
      "🔧 Augmenting label 28: 12 → 200 (+188)\n",
      "🔧 Augmenting label 29: 12 → 200 (+188)\n",
      "🔧 Augmenting label 30: 12 → 200 (+188)\n",
      "🔧 Augmenting label 31: 75 → 200 (+125)\n",
      "🔧 Augmenting label 32: 36 → 200 (+164)\n",
      "🔧 Augmenting label 33: 31 → 200 (+169)\n",
      "🔧 Augmenting label 34: 29 → 200 (+171)\n",
      "🔧 Augmenting label 35: 12 → 200 (+188)\n",
      "🔧 Augmenting label 36: 21 → 200 (+179)\n",
      "🔧 Augmenting label 37: 16 → 200 (+184)\n",
      "🔧 Augmenting label 38: 33 → 200 (+167)\n",
      "🔧 Augmenting label 39: 11 → 200 (+189)\n",
      "🔧 Augmenting label 40: 8 → 200 (+192)\n",
      "🔧 Augmenting label 41: 57 → 200 (+143)\n",
      "🔧 Augmenting label 42: 19 → 200 (+181)\n",
      "🔧 Augmenting label 43: 9 → 200 (+191)\n",
      "🔧 Augmenting label 44: 54 → 200 (+146)\n",
      "🔧 Augmenting label 46: 62 → 200 (+138)\n",
      "🔧 Augmenting label 47: 80 → 200 (+120)\n",
      "Label distribution after resampling:\n",
      "  label 0: 2000\n",
      "  label 1: 200\n",
      "  label 2: 200\n",
      "  label 3: 200\n",
      "  label 4: 200\n",
      "  label 5: 200\n",
      "  label 6: 200\n",
      "  label 7: 200\n",
      "  label 8: 200\n",
      "  label 9: 200\n",
      "  label 10: 200\n",
      "  label 11: 200\n",
      "  label 12: 200\n",
      "  label 13: 200\n",
      "  label 14: 200\n",
      "  label 15: 200\n",
      "  label 16: 200\n",
      "  label 17: 200\n",
      "  label 18: 200\n",
      "  label 19: 200\n",
      "  label 20: 200\n",
      "  label 21: 200\n",
      "  label 22: 200\n",
      "  label 23: 200\n",
      "  label 24: 200\n",
      "  label 25: 200\n",
      "  label 26: 200\n",
      "  label 27: 200\n",
      "  label 28: 200\n",
      "  label 29: 200\n",
      "  label 30: 200\n",
      "  label 31: 200\n",
      "  label 32: 200\n",
      "  label 33: 200\n",
      "  label 34: 200\n",
      "  label 35: 200\n",
      "  label 36: 200\n",
      "  label 37: 200\n",
      "  label 38: 200\n",
      "  label 39: 200\n",
      "  label 40: 200\n",
      "  label 41: 200\n",
      "  label 42: 200\n",
      "  label 43: 200\n",
      "  label 44: 200\n",
      "  label 45: 242\n",
      "  label 46: 200\n",
      "  label 47: 200\n",
      "model is roberta-base\n"
     ]
    },
    {
     "name": "stderr",
     "output_type": "stream",
     "text": [
      "Some weights of RobertaForSequenceClassification were not initialized from the model checkpoint at roberta-base and are newly initialized: ['classifier.dense.bias', 'classifier.dense.weight', 'classifier.out_proj.bias', 'classifier.out_proj.weight']\n",
      "You should probably TRAIN this model on a down-stream task to be able to use it for predictions and inference.\n"
     ]
    },
    {
     "name": "stdout",
     "output_type": "stream",
     "text": [
      "Epoch 1/20\n"
     ]
    },
    {
     "name": "stderr",
     "output_type": "stream",
     "text": [
      "100%|██████████| 716/716 [01:01<00:00, 11.68it/s]\n"
     ]
    },
    {
     "name": "stdout",
     "output_type": "stream",
     "text": [
      "{'val_loss': 1.6559837147956942, 'val_accuracy': 0.559115179252479, 'precision': 0.5835484001509409, 'recall': 0.559115179252479, 'f1-score': 0.5537056603583238, 'macro_f1-score': 0.297366885345811, 'balanced_accuracy': 0.4009000193308377, 'mcc': 0.4287129720196675, 'train_loss': 2.3793472370455384}\n",
      "Epoch 2/20\n"
     ]
    },
    {
     "name": "stderr",
     "output_type": "stream",
     "text": [
      "100%|██████████| 716/716 [01:01<00:00, 11.67it/s]\n"
     ]
    },
    {
     "name": "stdout",
     "output_type": "stream",
     "text": [
      "{'val_loss': 1.5377193947390813, 'val_accuracy': 0.601067887109077, 'precision': 0.6162146127922963, 'recall': 0.601067887109077, 'f1-score': 0.5837111901061716, 'macro_f1-score': 0.33186022228908424, 'balanced_accuracy': 0.358811124293507, 'mcc': 0.4768940827996002, 'train_loss': 1.158534450903951}\n",
      "Epoch 3/20\n"
     ]
    },
    {
     "name": "stderr",
     "output_type": "stream",
     "text": [
      "100%|██████████| 716/716 [01:01<00:00, 11.68it/s]\n"
     ]
    },
    {
     "name": "stdout",
     "output_type": "stream",
     "text": [
      "{'val_loss': 1.5820207999246876, 'val_accuracy': 0.6270022883295194, 'precision': 0.5994261336128978, 'recall': 0.6270022883295194, 'f1-score': 0.5942833477141382, 'macro_f1-score': 0.3311882182290316, 'balanced_accuracy': 0.3295821596678201, 'mcc': 0.48487768715343915, 'train_loss': 0.6575594709447309}\n",
      "Epoch 4/20\n"
     ]
    },
    {
     "name": "stderr",
     "output_type": "stream",
     "text": [
      "100%|██████████| 716/716 [01:01<00:00, 11.67it/s]\n"
     ]
    },
    {
     "name": "stdout",
     "output_type": "stream",
     "text": [
      "{'val_loss': 1.6047231126122359, 'val_accuracy': 0.6308161708619374, 'precision': 0.6119285361037488, 'recall': 0.6308161708619374, 'f1-score': 0.6046956786708777, 'macro_f1-score': 0.34912259973765297, 'balanced_accuracy': 0.34287466491110824, 'mcc': 0.4952161142605898, 'train_loss': 0.4452540079553159}\n",
      "Epoch 5/20\n"
     ]
    },
    {
     "name": "stderr",
     "output_type": "stream",
     "text": [
      "100%|██████████| 716/716 [01:01<00:00, 11.68it/s]\n"
     ]
    },
    {
     "name": "stdout",
     "output_type": "stream",
     "text": [
      "{'val_loss': 1.6451538223318938, 'val_accuracy': 0.627765064836003, 'precision': 0.6110983914351195, 'recall': 0.627765064836003, 'f1-score': 0.6077207519864004, 'macro_f1-score': 0.37428908183746085, 'balanced_accuracy': 0.38959477724312336, 'mcc': 0.5006723357037695, 'train_loss': 0.2998761891116851}\n",
      "Epoch 6/20\n"
     ]
    },
    {
     "name": "stderr",
     "output_type": "stream",
     "text": [
      "100%|██████████| 716/716 [01:01<00:00, 11.68it/s]\n"
     ]
    },
    {
     "name": "stdout",
     "output_type": "stream",
     "text": [
      "{'val_loss': 1.7166923544392354, 'val_accuracy': 0.6430205949656751, 'precision': 0.6330950673063874, 'recall': 0.6430205949656751, 'f1-score': 0.6207080069039027, 'macro_f1-score': 0.37526044291849786, 'balanced_accuracy': 0.37723048259703434, 'mcc': 0.515233921173941, 'train_loss': 0.244676034646525}\n",
      "Epoch 7/20\n"
     ]
    },
    {
     "name": "stderr",
     "output_type": "stream",
     "text": [
      "100%|██████████| 716/716 [01:01<00:00, 11.69it/s]\n"
     ]
    },
    {
     "name": "stdout",
     "output_type": "stream",
     "text": [
      "{'val_loss': 1.806693797431341, 'val_accuracy': 0.6155606407322655, 'precision': 0.6213741224495813, 'recall': 0.6155606407322655, 'f1-score': 0.6029695132771091, 'macro_f1-score': 0.353147227810426, 'balanced_accuracy': 0.371947745731505, 'mcc': 0.49224688872798805, 'train_loss': 0.2153605447578707}\n",
      "Epoch 8/20\n"
     ]
    },
    {
     "name": "stderr",
     "output_type": "stream",
     "text": [
      "100%|██████████| 716/716 [01:01<00:00, 11.69it/s]\n"
     ]
    },
    {
     "name": "stdout",
     "output_type": "stream",
     "text": [
      "{'val_loss': 1.8491289751922213, 'val_accuracy': 0.6491228070175439, 'precision': 0.6377383562420335, 'recall': 0.6491228070175439, 'f1-score': 0.631773353372963, 'macro_f1-score': 0.3875197226596323, 'balanced_accuracy': 0.3945773123734657, 'mcc': 0.528468228794819, 'train_loss': 0.1743038032514787}\n",
      "Epoch 9/20\n"
     ]
    },
    {
     "name": "stderr",
     "output_type": "stream",
     "text": [
      "100%|██████████| 716/716 [01:01<00:00, 11.68it/s]\n"
     ]
    },
    {
     "name": "stdout",
     "output_type": "stream",
     "text": [
      "{'val_loss': 2.0065635708047123, 'val_accuracy': 0.6308161708619374, 'precision': 0.6283904701187576, 'recall': 0.6308161708619374, 'f1-score': 0.6199155996849747, 'macro_f1-score': 0.37464087653990424, 'balanced_accuracy': 0.3819200745654732, 'mcc': 0.508627029267115, 'train_loss': 0.1587095455287347}\n",
      "Epoch 10/20\n"
     ]
    },
    {
     "name": "stderr",
     "output_type": "stream",
     "text": [
      "100%|██████████| 716/716 [01:01<00:00, 11.67it/s]\n"
     ]
    },
    {
     "name": "stdout",
     "output_type": "stream",
     "text": [
      "{'val_loss': 1.9982219258459604, 'val_accuracy': 0.6323417238749046, 'precision': 0.634516560687997, 'recall': 0.6323417238749046, 'f1-score': 0.626955644780214, 'macro_f1-score': 0.3725840092163473, 'balanced_accuracy': 0.40432105791387757, 'mcc': 0.5260410506212, 'train_loss': 0.13456232832971043}\n",
      "Epoch 11/20\n"
     ]
    },
    {
     "name": "stderr",
     "output_type": "stream",
     "text": [
      "100%|██████████| 716/716 [01:01<00:00, 11.69it/s]\n"
     ]
    },
    {
     "name": "stdout",
     "output_type": "stream",
     "text": [
      "{'val_loss': 2.0890911534065153, 'val_accuracy': 0.6071700991609459, 'precision': 0.6254691345994369, 'recall': 0.6071700991609459, 'f1-score': 0.6083251324281483, 'macro_f1-score': 0.368934874418037, 'balanced_accuracy': 0.39621239578930173, 'mcc': 0.49617490224148114, 'train_loss': 0.1386747392868056}\n",
      "Early stopping.\n",
      "\n",
      "[Fold 3]\n",
      "🚀 Using Word2Vec + EDA (replace + deletion/swap) for data augmentation + under-sampling\n",
      "🔻 Under-sampling label 0: 2471 → 2000\n",
      "🔧 Augmenting label 1: 22 → 200 (+178)\n",
      "🔧 Augmenting label 2: 64 → 200 (+136)\n",
      "🔧 Augmenting label 3: 24 → 200 (+176)\n",
      "🔧 Augmenting label 4: 190 → 200 (+10)\n",
      "🔧 Augmenting label 5: 113 → 200 (+87)\n",
      "🔧 Augmenting label 6: 93 → 200 (+107)\n",
      "🔧 Augmenting label 7: 30 → 200 (+170)\n",
      "🔧 Augmenting label 8: 68 → 200 (+132)\n",
      "🔧 Augmenting label 9: 30 → 200 (+170)\n",
      "🔧 Augmenting label 10: 67 → 200 (+133)\n",
      "🔧 Augmenting label 11: 169 → 200 (+31)\n",
      "🔧 Augmenting label 12: 190 → 200 (+10)\n",
      "🔧 Augmenting label 13: 28 → 200 (+172)\n",
      "🔧 Augmenting label 14: 23 → 200 (+177)\n",
      "🔧 Augmenting label 15: 25 → 200 (+175)\n",
      "🔧 Augmenting label 16: 19 → 200 (+181)\n",
      "🔧 Augmenting label 17: 182 → 200 (+18)\n",
      "🔧 Augmenting label 18: 92 → 200 (+108)\n",
      "🔧 Augmenting label 19: 44 → 200 (+156)\n",
      "🔧 Augmenting label 20: 14 → 200 (+186)\n",
      "🔧 Augmenting label 21: 35 → 200 (+165)\n",
      "🔧 Augmenting label 22: 76 → 200 (+124)\n",
      "🔧 Augmenting label 23: 157 → 200 (+43)\n",
      "🔧 Augmenting label 24: 13 → 200 (+187)\n",
      "🔧 Augmenting label 25: 44 → 200 (+156)\n",
      "🔧 Augmenting label 26: 84 → 200 (+116)\n",
      "🔧 Augmenting label 27: 48 → 200 (+152)\n",
      "🔧 Augmenting label 28: 11 → 200 (+189)\n",
      "🔧 Augmenting label 29: 13 → 200 (+187)\n",
      "🔧 Augmenting label 30: 11 → 200 (+189)\n",
      "🔧 Augmenting label 31: 76 → 200 (+124)\n",
      "🔧 Augmenting label 32: 36 → 200 (+164)\n",
      "🔧 Augmenting label 33: 31 → 200 (+169)\n",
      "🔧 Augmenting label 34: 30 → 200 (+170)\n",
      "🔧 Augmenting label 35: 11 → 200 (+189)\n",
      "🔧 Augmenting label 36: 21 → 200 (+179)\n",
      "🔧 Augmenting label 37: 16 → 200 (+184)\n",
      "🔧 Augmenting label 38: 32 → 200 (+168)\n",
      "🔧 Augmenting label 39: 11 → 200 (+189)\n",
      "🔧 Augmenting label 40: 9 → 200 (+191)\n",
      "🔧 Augmenting label 41: 57 → 200 (+143)\n",
      "🔧 Augmenting label 42: 18 → 200 (+182)\n",
      "🔧 Augmenting label 43: 9 → 200 (+191)\n",
      "🔧 Augmenting label 44: 55 → 200 (+145)\n",
      "🔧 Augmenting label 46: 62 → 200 (+138)\n",
      "🔧 Augmenting label 47: 80 → 200 (+120)\n",
      "Label distribution after resampling:\n",
      "  label 0: 2000\n",
      "  label 1: 200\n",
      "  label 2: 200\n",
      "  label 3: 200\n",
      "  label 4: 200\n",
      "  label 5: 200\n",
      "  label 6: 200\n",
      "  label 7: 200\n",
      "  label 8: 200\n",
      "  label 9: 200\n",
      "  label 10: 200\n",
      "  label 11: 200\n",
      "  label 12: 200\n",
      "  label 13: 200\n",
      "  label 14: 200\n",
      "  label 15: 200\n",
      "  label 16: 200\n",
      "  label 17: 200\n",
      "  label 18: 200\n",
      "  label 19: 200\n",
      "  label 20: 200\n",
      "  label 21: 200\n",
      "  label 22: 200\n",
      "  label 23: 200\n",
      "  label 24: 200\n",
      "  label 25: 200\n",
      "  label 26: 200\n",
      "  label 27: 200\n",
      "  label 28: 200\n",
      "  label 29: 200\n",
      "  label 30: 200\n",
      "  label 31: 200\n",
      "  label 32: 200\n",
      "  label 33: 200\n",
      "  label 34: 200\n",
      "  label 35: 200\n",
      "  label 36: 200\n",
      "  label 37: 200\n",
      "  label 38: 200\n",
      "  label 39: 200\n",
      "  label 40: 200\n",
      "  label 41: 200\n",
      "  label 42: 200\n",
      "  label 43: 200\n",
      "  label 44: 200\n",
      "  label 45: 241\n",
      "  label 46: 200\n",
      "  label 47: 200\n",
      "model is roberta-base\n"
     ]
    },
    {
     "name": "stderr",
     "output_type": "stream",
     "text": [
      "Some weights of RobertaForSequenceClassification were not initialized from the model checkpoint at roberta-base and are newly initialized: ['classifier.dense.bias', 'classifier.dense.weight', 'classifier.out_proj.bias', 'classifier.out_proj.weight']\n",
      "You should probably TRAIN this model on a down-stream task to be able to use it for predictions and inference.\n"
     ]
    },
    {
     "name": "stdout",
     "output_type": "stream",
     "text": [
      "Epoch 1/20\n"
     ]
    },
    {
     "name": "stderr",
     "output_type": "stream",
     "text": [
      "100%|██████████| 716/716 [01:01<00:00, 11.67it/s]\n"
     ]
    },
    {
     "name": "stdout",
     "output_type": "stream",
     "text": [
      "{'val_loss': 1.7449909128793857, 'val_accuracy': 0.5362318840579711, 'precision': 0.524958995731187, 'recall': 0.5362318840579711, 'f1-score': 0.5037767114823956, 'macro_f1-score': 0.281824937315769, 'balanced_accuracy': 0.31488395035629546, 'mcc': 0.37048270699312924, 'train_loss': 2.5608441780565836}\n",
      "Epoch 2/20\n"
     ]
    },
    {
     "name": "stderr",
     "output_type": "stream",
     "text": [
      "100%|██████████| 716/716 [01:01<00:00, 11.68it/s]\n"
     ]
    },
    {
     "name": "stdout",
     "output_type": "stream",
     "text": [
      "{'val_loss': 1.5449699374233805, 'val_accuracy': 0.5743707093821511, 'precision': 0.6062301063203389, 'recall': 0.5743707093821511, 'f1-score': 0.5689035763770444, 'macro_f1-score': 0.3446905106588191, 'balanced_accuracy': 0.38196174641937636, 'mcc': 0.44110959574148495, 'train_loss': 1.305213862260044}\n",
      "Epoch 3/20\n"
     ]
    },
    {
     "name": "stderr",
     "output_type": "stream",
     "text": [
      "100%|██████████| 716/716 [01:01<00:00, 11.67it/s]\n"
     ]
    },
    {
     "name": "stdout",
     "output_type": "stream",
     "text": [
      "{'val_loss': 1.5997646792632778, 'val_accuracy': 0.585812356979405, 'precision': 0.6162877055258092, 'recall': 0.585812356979405, 'f1-score': 0.5820043629378996, 'macro_f1-score': 0.3577623907265583, 'balanced_accuracy': 0.3709969031510392, 'mcc': 0.45347393004303876, 'train_loss': 0.7720868493112938}\n",
      "Epoch 4/20\n"
     ]
    },
    {
     "name": "stderr",
     "output_type": "stream",
     "text": [
      "100%|██████████| 716/716 [01:01<00:00, 11.68it/s]\n"
     ]
    },
    {
     "name": "stdout",
     "output_type": "stream",
     "text": [
      "{'val_loss': 1.8287897655149785, 'val_accuracy': 0.555301296720061, 'precision': 0.6163585520893381, 'recall': 0.555301296720061, 'f1-score': 0.5705781104872004, 'macro_f1-score': 0.36086049897431866, 'balanced_accuracy': 0.39821052064084733, 'mcc': 0.44172047126097713, 'train_loss': 0.5015144701110584}\n",
      "Epoch 5/20\n"
     ]
    },
    {
     "name": "stderr",
     "output_type": "stream",
     "text": [
      "100%|██████████| 716/716 [01:01<00:00, 11.67it/s]\n"
     ]
    },
    {
     "name": "stdout",
     "output_type": "stream",
     "text": [
      "{'val_loss': 1.8033051767000339, 'val_accuracy': 0.585812356979405, 'precision': 0.6081894321061453, 'recall': 0.585812356979405, 'f1-score': 0.5887335012218129, 'macro_f1-score': 0.3711611556715552, 'balanced_accuracy': 0.39602960291311423, 'mcc': 0.4636155541169391, 'train_loss': 0.3684113674755494}\n",
      "Epoch 6/20\n"
     ]
    },
    {
     "name": "stderr",
     "output_type": "stream",
     "text": [
      "100%|██████████| 716/716 [01:01<00:00, 11.67it/s]\n"
     ]
    },
    {
     "name": "stdout",
     "output_type": "stream",
     "text": [
      "{'val_loss': 1.6799926525209008, 'val_accuracy': 0.6163234172387491, 'precision': 0.6463016240033325, 'recall': 0.6163234172387491, 'f1-score': 0.6207844415098147, 'macro_f1-score': 0.39333200322426193, 'balanced_accuracy': 0.403542017148179, 'mcc': 0.5054704738823211, 'train_loss': 0.2849611136125786}\n",
      "Epoch 7/20\n"
     ]
    },
    {
     "name": "stderr",
     "output_type": "stream",
     "text": [
      "100%|██████████| 716/716 [01:01<00:00, 11.68it/s]\n"
     ]
    },
    {
     "name": "stdout",
     "output_type": "stream",
     "text": [
      "{'val_loss': 2.0721636959692327, 'val_accuracy': 0.5499618611746758, 'precision': 0.6249147178981682, 'recall': 0.5499618611746758, 'f1-score': 0.5711276651542431, 'macro_f1-score': 0.3611807618245357, 'balanced_accuracy': 0.4121026036413471, 'mcc': 0.45807292500791996, 'train_loss': 0.22268365187682315}\n",
      "Epoch 8/20\n"
     ]
    },
    {
     "name": "stderr",
     "output_type": "stream",
     "text": [
      "100%|██████████| 716/716 [01:01<00:00, 11.68it/s]\n"
     ]
    },
    {
     "name": "stdout",
     "output_type": "stream",
     "text": [
      "{'val_loss': 2.0769469057459657, 'val_accuracy': 0.6170861937452327, 'precision': 0.6141983953508616, 'recall': 0.6170861937452327, 'f1-score': 0.6066450338637519, 'macro_f1-score': 0.3876885676111565, 'balanced_accuracy': 0.3764926955481041, 'mcc': 0.4917569549759374, 'train_loss': 0.18404140503551583}\n",
      "Epoch 9/20\n"
     ]
    },
    {
     "name": "stderr",
     "output_type": "stream",
     "text": [
      "100%|██████████| 716/716 [01:01<00:00, 11.68it/s]\n"
     ]
    },
    {
     "name": "stdout",
     "output_type": "stream",
     "text": [
      "{'val_loss': 2.001393254573752, 'val_accuracy': 0.6064073226544623, 'precision': 0.6226029887314001, 'recall': 0.6064073226544623, 'f1-score': 0.6047972897078668, 'macro_f1-score': 0.3910380658579196, 'balanced_accuracy': 0.3836686771558598, 'mcc': 0.4818055349758397, 'train_loss': 0.1921540034912766}\n",
      "Early stopping.\n",
      "\n",
      "[Fold 4]\n",
      "🚀 Using Word2Vec + EDA (replace + deletion/swap) for data augmentation + under-sampling\n",
      "🔻 Under-sampling label 0: 2471 → 2000\n",
      "🔧 Augmenting label 1: 22 → 200 (+178)\n",
      "🔧 Augmenting label 2: 64 → 200 (+136)\n",
      "🔧 Augmenting label 3: 24 → 200 (+176)\n",
      "🔧 Augmenting label 4: 190 → 200 (+10)\n",
      "🔧 Augmenting label 5: 113 → 200 (+87)\n",
      "🔧 Augmenting label 6: 93 → 200 (+107)\n",
      "🔧 Augmenting label 7: 31 → 200 (+169)\n",
      "🔧 Augmenting label 8: 68 → 200 (+132)\n",
      "🔧 Augmenting label 9: 29 → 200 (+171)\n",
      "🔧 Augmenting label 10: 67 → 200 (+133)\n",
      "🔧 Augmenting label 11: 169 → 200 (+31)\n",
      "🔧 Augmenting label 12: 190 → 200 (+10)\n",
      "🔧 Augmenting label 13: 29 → 200 (+171)\n",
      "🔧 Augmenting label 14: 22 → 200 (+178)\n",
      "🔧 Augmenting label 15: 25 → 200 (+175)\n",
      "🔧 Augmenting label 16: 19 → 200 (+181)\n",
      "🔧 Augmenting label 17: 182 → 200 (+18)\n",
      "🔧 Augmenting label 18: 92 → 200 (+108)\n",
      "🔧 Augmenting label 19: 44 → 200 (+156)\n",
      "🔧 Augmenting label 20: 14 → 200 (+186)\n",
      "🔧 Augmenting label 21: 35 → 200 (+165)\n",
      "🔧 Augmenting label 22: 76 → 200 (+124)\n",
      "🔧 Augmenting label 23: 158 → 200 (+42)\n",
      "🔧 Augmenting label 24: 13 → 200 (+187)\n",
      "🔧 Augmenting label 25: 44 → 200 (+156)\n",
      "🔧 Augmenting label 26: 84 → 200 (+116)\n",
      "🔧 Augmenting label 27: 48 → 200 (+152)\n",
      "🔧 Augmenting label 28: 11 → 200 (+189)\n",
      "🔧 Augmenting label 29: 13 → 200 (+187)\n",
      "🔧 Augmenting label 30: 11 → 200 (+189)\n",
      "🔧 Augmenting label 31: 75 → 200 (+125)\n",
      "🔧 Augmenting label 32: 36 → 200 (+164)\n",
      "🔧 Augmenting label 33: 31 → 200 (+169)\n",
      "🔧 Augmenting label 34: 30 → 200 (+170)\n",
      "🔧 Augmenting label 35: 11 → 200 (+189)\n",
      "🔧 Augmenting label 36: 22 → 200 (+178)\n",
      "🔧 Augmenting label 37: 16 → 200 (+184)\n",
      "🔧 Augmenting label 38: 33 → 200 (+167)\n",
      "🔧 Augmenting label 39: 10 → 200 (+190)\n",
      "🔧 Augmenting label 40: 9 → 200 (+191)\n",
      "🔧 Augmenting label 41: 56 → 200 (+144)\n",
      "🔧 Augmenting label 42: 18 → 200 (+182)\n",
      "🔧 Augmenting label 43: 9 → 200 (+191)\n",
      "🔧 Augmenting label 44: 55 → 200 (+145)\n",
      "🔧 Augmenting label 46: 62 → 200 (+138)\n",
      "🔧 Augmenting label 47: 80 → 200 (+120)\n",
      "Label distribution after resampling:\n",
      "  label 0: 2000\n",
      "  label 1: 200\n",
      "  label 2: 200\n",
      "  label 3: 200\n",
      "  label 4: 200\n",
      "  label 5: 200\n",
      "  label 6: 200\n",
      "  label 7: 200\n",
      "  label 8: 200\n",
      "  label 9: 200\n",
      "  label 10: 200\n",
      "  label 11: 200\n",
      "  label 12: 200\n",
      "  label 13: 200\n",
      "  label 14: 200\n",
      "  label 15: 200\n",
      "  label 16: 200\n",
      "  label 17: 200\n",
      "  label 18: 200\n",
      "  label 19: 200\n",
      "  label 20: 200\n",
      "  label 21: 200\n",
      "  label 22: 200\n",
      "  label 23: 200\n",
      "  label 24: 200\n",
      "  label 25: 200\n",
      "  label 26: 200\n",
      "  label 27: 200\n",
      "  label 28: 200\n",
      "  label 29: 200\n",
      "  label 30: 200\n",
      "  label 31: 200\n",
      "  label 32: 200\n",
      "  label 33: 200\n",
      "  label 34: 200\n",
      "  label 35: 200\n",
      "  label 36: 200\n",
      "  label 37: 200\n",
      "  label 38: 200\n",
      "  label 39: 200\n",
      "  label 40: 200\n",
      "  label 41: 200\n",
      "  label 42: 200\n",
      "  label 43: 200\n",
      "  label 44: 200\n",
      "  label 45: 241\n",
      "  label 46: 200\n",
      "  label 47: 200\n",
      "model is roberta-base\n"
     ]
    },
    {
     "name": "stderr",
     "output_type": "stream",
     "text": [
      "Some weights of RobertaForSequenceClassification were not initialized from the model checkpoint at roberta-base and are newly initialized: ['classifier.dense.bias', 'classifier.dense.weight', 'classifier.out_proj.bias', 'classifier.out_proj.weight']\n",
      "You should probably TRAIN this model on a down-stream task to be able to use it for predictions and inference.\n"
     ]
    },
    {
     "name": "stdout",
     "output_type": "stream",
     "text": [
      "Epoch 1/20\n"
     ]
    },
    {
     "name": "stderr",
     "output_type": "stream",
     "text": [
      "100%|██████████| 716/716 [01:01<00:00, 11.65it/s]\n"
     ]
    },
    {
     "name": "stdout",
     "output_type": "stream",
     "text": [
      "{'val_loss': 1.61225822967727, 'val_accuracy': 0.5736079328756675, 'precision': 0.5402804780166264, 'recall': 0.5736079328756675, 'f1-score': 0.5169631254068461, 'macro_f1-score': 0.2800512953578144, 'balanced_accuracy': 0.30566136756920553, 'mcc': 0.39339931140222845, 'train_loss': 2.555330715698903}\n",
      "Epoch 2/20\n"
     ]
    },
    {
     "name": "stderr",
     "output_type": "stream",
     "text": [
      "100%|██████████| 716/716 [01:01<00:00, 11.68it/s]\n"
     ]
    },
    {
     "name": "stdout",
     "output_type": "stream",
     "text": [
      "{'val_loss': 1.4318395355125753, 'val_accuracy': 0.623951182303585, 'precision': 0.6398340102568592, 'recall': 0.623951182303585, 'f1-score': 0.6157794026856989, 'macro_f1-score': 0.38104376659058486, 'balanced_accuracy': 0.4097138966931379, 'mcc': 0.49685596267024873, 'train_loss': 1.2043583347311233}\n",
      "Epoch 3/20\n"
     ]
    },
    {
     "name": "stderr",
     "output_type": "stream",
     "text": [
      "100%|██████████| 716/716 [01:01<00:00, 11.66it/s]\n"
     ]
    },
    {
     "name": "stdout",
     "output_type": "stream",
     "text": [
      "{'val_loss': 1.555861862330902, 'val_accuracy': 0.5964912280701754, 'precision': 0.6328782433670351, 'recall': 0.5964912280701754, 'f1-score': 0.5991189406441964, 'macro_f1-score': 0.36399685061379583, 'balanced_accuracy': 0.408360369011563, 'mcc': 0.4864044638847258, 'train_loss': 0.6687970434279082}\n",
      "Epoch 4/20\n"
     ]
    },
    {
     "name": "stderr",
     "output_type": "stream",
     "text": [
      "100%|██████████| 716/716 [01:01<00:00, 11.68it/s]\n"
     ]
    },
    {
     "name": "stdout",
     "output_type": "stream",
     "text": [
      "{'val_loss': 1.4710469233190142, 'val_accuracy': 0.6514111365369947, 'precision': 0.6491887880443026, 'recall': 0.6514111365369947, 'f1-score': 0.639411141175717, 'macro_f1-score': 0.4220993218421658, 'balanced_accuracy': 0.41327494256262254, 'mcc': 0.5309332349317147, 'train_loss': 0.43159640271882604}\n",
      "Epoch 5/20\n"
     ]
    },
    {
     "name": "stderr",
     "output_type": "stream",
     "text": [
      "100%|██████████| 716/716 [01:01<00:00, 11.68it/s]\n"
     ]
    },
    {
     "name": "stdout",
     "output_type": "stream",
     "text": [
      "{'val_loss': 1.8605802693381541, 'val_accuracy': 0.5873379099923722, 'precision': 0.6500581675012007, 'recall': 0.5873379099923722, 'f1-score': 0.6076740125687237, 'macro_f1-score': 0.39322809655472657, 'balanced_accuracy': 0.4364165772362436, 'mcc': 0.48862151029144524, 'train_loss': 0.30576658769583526}\n",
      "Epoch 6/20\n"
     ]
    },
    {
     "name": "stderr",
     "output_type": "stream",
     "text": [
      "100%|██████████| 716/716 [01:01<00:00, 11.68it/s]\n"
     ]
    },
    {
     "name": "stdout",
     "output_type": "stream",
     "text": [
      "{'val_loss': 1.7215714571406928, 'val_accuracy': 0.6231884057971014, 'precision': 0.6515160242120258, 'recall': 0.6231884057971014, 'f1-score': 0.6220616456762471, 'macro_f1-score': 0.40991601704635744, 'balanced_accuracy': 0.4029478988966361, 'mcc': 0.5094315376833041, 'train_loss': 0.24938666796332548}\n",
      "Epoch 7/20\n"
     ]
    },
    {
     "name": "stderr",
     "output_type": "stream",
     "text": [
      "100%|██████████| 716/716 [01:01<00:00, 11.66it/s]\n"
     ]
    },
    {
     "name": "stdout",
     "output_type": "stream",
     "text": [
      "{'val_loss': 1.736068575393136, 'val_accuracy': 0.6529366895499619, 'precision': 0.6566799942936689, 'recall': 0.6529366895499619, 'f1-score': 0.6454126569061194, 'macro_f1-score': 0.433458659645344, 'balanced_accuracy': 0.42023519008169813, 'mcc': 0.5391797807107016, 'train_loss': 0.25752275601919095}\n",
      "Epoch 8/20\n"
     ]
    },
    {
     "name": "stderr",
     "output_type": "stream",
     "text": [
      "100%|██████████| 716/716 [01:01<00:00, 11.68it/s]\n"
     ]
    },
    {
     "name": "stdout",
     "output_type": "stream",
     "text": [
      "{'val_loss': 1.8819212519177577, 'val_accuracy': 0.6300533943554538, 'precision': 0.6427921265239656, 'recall': 0.6300533943554538, 'f1-score': 0.6229882102189471, 'macro_f1-score': 0.3735975477156721, 'balanced_accuracy': 0.38038114218629976, 'mcc': 0.5171549375218647, 'train_loss': 0.14640079555930907}\n",
      "Epoch 9/20\n"
     ]
    },
    {
     "name": "stderr",
     "output_type": "stream",
     "text": [
      "100%|██████████| 716/716 [01:01<00:00, 11.68it/s]\n"
     ]
    },
    {
     "name": "stdout",
     "output_type": "stream",
     "text": [
      "{'val_loss': 1.9173371132644939, 'val_accuracy': 0.6254767353165522, 'precision': 0.6425037874048635, 'recall': 0.6254767353165522, 'f1-score': 0.6234251067526657, 'macro_f1-score': 0.40906650513696285, 'balanced_accuracy': 0.4102356446691023, 'mcc': 0.5167429603767479, 'train_loss': 0.14200214791767216}\n",
      "Epoch 10/20\n"
     ]
    },
    {
     "name": "stderr",
     "output_type": "stream",
     "text": [
      "100%|██████████| 716/716 [01:01<00:00, 11.67it/s]\n"
     ]
    },
    {
     "name": "stdout",
     "output_type": "stream",
     "text": [
      "{'val_loss': 2.0392873072769584, 'val_accuracy': 0.6506483600305111, 'precision': 0.6505151024350653, 'recall': 0.6506483600305111, 'f1-score': 0.64532383973374, 'macro_f1-score': 0.41422771180075396, 'balanced_accuracy': 0.4141795380384919, 'mcc': 0.538066127079483, 'train_loss': 0.1089785848051575}\n",
      "Early stopping.\n",
      "\n",
      "[Fold 5]\n",
      "🚀 Using Word2Vec + EDA (replace + deletion/swap) for data augmentation + under-sampling\n",
      "🔻 Under-sampling label 0: 2472 → 2000\n",
      "🔧 Augmenting label 1: 21 → 200 (+179)\n",
      "🔧 Augmenting label 2: 64 → 200 (+136)\n",
      "🔧 Augmenting label 3: 24 → 200 (+176)\n",
      "🔧 Augmenting label 4: 191 → 200 (+9)\n",
      "🔧 Augmenting label 5: 112 → 200 (+88)\n",
      "🔧 Augmenting label 6: 92 → 200 (+108)\n",
      "🔧 Augmenting label 7: 31 → 200 (+169)\n",
      "🔧 Augmenting label 8: 68 → 200 (+132)\n",
      "🔧 Augmenting label 9: 29 → 200 (+171)\n",
      "🔧 Augmenting label 10: 68 → 200 (+132)\n",
      "🔧 Augmenting label 11: 168 → 200 (+32)\n",
      "🔧 Augmenting label 12: 190 → 200 (+10)\n",
      "🔧 Augmenting label 13: 29 → 200 (+171)\n",
      "🔧 Augmenting label 14: 22 → 200 (+178)\n",
      "🔧 Augmenting label 15: 25 → 200 (+175)\n",
      "🔧 Augmenting label 16: 19 → 200 (+181)\n",
      "🔧 Augmenting label 17: 183 → 200 (+17)\n",
      "🔧 Augmenting label 18: 92 → 200 (+108)\n",
      "🔧 Augmenting label 19: 44 → 200 (+156)\n",
      "🔧 Augmenting label 20: 14 → 200 (+186)\n",
      "🔧 Augmenting label 21: 35 → 200 (+165)\n",
      "🔧 Augmenting label 22: 76 → 200 (+124)\n",
      "🔧 Augmenting label 23: 158 → 200 (+42)\n",
      "🔧 Augmenting label 24: 13 → 200 (+187)\n",
      "🔧 Augmenting label 25: 44 → 200 (+156)\n",
      "🔧 Augmenting label 26: 84 → 200 (+116)\n",
      "🔧 Augmenting label 27: 48 → 200 (+152)\n",
      "🔧 Augmenting label 28: 11 → 200 (+189)\n",
      "🔧 Augmenting label 29: 13 → 200 (+187)\n",
      "🔧 Augmenting label 30: 11 → 200 (+189)\n",
      "🔧 Augmenting label 31: 75 → 200 (+125)\n",
      "🔧 Augmenting label 32: 36 → 200 (+164)\n",
      "🔧 Augmenting label 33: 31 → 200 (+169)\n",
      "🔧 Augmenting label 34: 30 → 200 (+170)\n",
      "🔧 Augmenting label 35: 11 → 200 (+189)\n",
      "🔧 Augmenting label 36: 22 → 200 (+178)\n",
      "🔧 Augmenting label 37: 16 → 200 (+184)\n",
      "🔧 Augmenting label 38: 33 → 200 (+167)\n",
      "🔧 Augmenting label 39: 10 → 200 (+190)\n",
      "🔧 Augmenting label 40: 9 → 200 (+191)\n",
      "🔧 Augmenting label 41: 57 → 200 (+143)\n",
      "🔧 Augmenting label 42: 18 → 200 (+182)\n",
      "🔧 Augmenting label 43: 9 → 200 (+191)\n",
      "🔧 Augmenting label 44: 54 → 200 (+146)\n",
      "🔧 Augmenting label 46: 61 → 200 (+139)\n",
      "🔧 Augmenting label 47: 80 → 200 (+120)\n",
      "Label distribution after resampling:\n",
      "  label 0: 2000\n",
      "  label 1: 200\n",
      "  label 2: 200\n",
      "  label 3: 200\n",
      "  label 4: 200\n",
      "  label 5: 200\n",
      "  label 6: 200\n",
      "  label 7: 200\n",
      "  label 8: 200\n",
      "  label 9: 200\n",
      "  label 10: 200\n",
      "  label 11: 200\n",
      "  label 12: 200\n",
      "  label 13: 200\n",
      "  label 14: 200\n",
      "  label 15: 200\n",
      "  label 16: 200\n",
      "  label 17: 200\n",
      "  label 18: 200\n",
      "  label 19: 200\n",
      "  label 20: 200\n",
      "  label 21: 200\n",
      "  label 22: 200\n",
      "  label 23: 200\n",
      "  label 24: 200\n",
      "  label 25: 200\n",
      "  label 26: 200\n",
      "  label 27: 200\n",
      "  label 28: 200\n",
      "  label 29: 200\n",
      "  label 30: 200\n",
      "  label 31: 200\n",
      "  label 32: 200\n",
      "  label 33: 200\n",
      "  label 34: 200\n",
      "  label 35: 200\n",
      "  label 36: 200\n",
      "  label 37: 200\n",
      "  label 38: 200\n",
      "  label 39: 200\n",
      "  label 40: 200\n",
      "  label 41: 200\n",
      "  label 42: 200\n",
      "  label 43: 200\n",
      "  label 44: 200\n",
      "  label 45: 242\n",
      "  label 46: 200\n",
      "  label 47: 200\n",
      "model is roberta-base\n"
     ]
    },
    {
     "name": "stderr",
     "output_type": "stream",
     "text": [
      "Some weights of RobertaForSequenceClassification were not initialized from the model checkpoint at roberta-base and are newly initialized: ['classifier.dense.bias', 'classifier.dense.weight', 'classifier.out_proj.bias', 'classifier.out_proj.weight']\n",
      "You should probably TRAIN this model on a down-stream task to be able to use it for predictions and inference.\n"
     ]
    },
    {
     "name": "stdout",
     "output_type": "stream",
     "text": [
      "Epoch 1/20\n"
     ]
    },
    {
     "name": "stderr",
     "output_type": "stream",
     "text": [
      "100%|██████████| 716/716 [01:01<00:00, 11.68it/s]\n"
     ]
    },
    {
     "name": "stdout",
     "output_type": "stream",
     "text": [
      "{'val_loss': 2.9808090256481634, 'val_accuracy': 0.47063310450038137, 'precision': 0.2214955190516669, 'recall': 0.47063310450038137, 'f1-score': 0.3012247152248292, 'macro_f1-score': 0.013334197786998616, 'balanced_accuracy': 0.020833333333333332, 'mcc': 0.0, 'train_loss': 3.6439224857857773}\n",
      "Epoch 2/20\n"
     ]
    },
    {
     "name": "stderr",
     "output_type": "stream",
     "text": [
      "100%|██████████| 716/716 [01:01<00:00, 11.67it/s]\n"
     ]
    },
    {
     "name": "stdout",
     "output_type": "stream",
     "text": [
      "{'val_loss': 2.811261277373244, 'val_accuracy': 0.47063310450038137, 'precision': 0.2214955190516669, 'recall': 0.47063310450038137, 'f1-score': 0.3012247152248292, 'macro_f1-score': 0.013334197786998616, 'balanced_accuracy': 0.020833333333333332, 'mcc': 0.0, 'train_loss': 3.6508567403148673}\n",
      "Epoch 3/20\n"
     ]
    },
    {
     "name": "stderr",
     "output_type": "stream",
     "text": [
      "100%|██████████| 716/716 [01:01<00:00, 11.68it/s]\n"
     ]
    },
    {
     "name": "stdout",
     "output_type": "stream",
     "text": [
      "{'val_loss': 3.008315481790682, 'val_accuracy': 0.47063310450038137, 'precision': 0.2214955190516669, 'recall': 0.47063310450038137, 'f1-score': 0.3012247152248292, 'macro_f1-score': 0.013334197786998616, 'balanced_accuracy': 0.020833333333333332, 'mcc': 0.0, 'train_loss': 3.63587620671235}\n",
      "Epoch 4/20\n"
     ]
    },
    {
     "name": "stderr",
     "output_type": "stream",
     "text": [
      "100%|██████████| 716/716 [01:01<00:00, 11.68it/s]\n"
     ]
    },
    {
     "name": "stdout",
     "output_type": "stream",
     "text": [
      "{'val_loss': 2.9363629585359154, 'val_accuracy': 0.47063310450038137, 'precision': 0.2214955190516669, 'recall': 0.47063310450038137, 'f1-score': 0.3012247152248292, 'macro_f1-score': 0.013334197786998616, 'balanced_accuracy': 0.020833333333333332, 'mcc': 0.0, 'train_loss': 3.6213263106745717}\n",
      "Early stopping.\n",
      "\n",
      " === roberta-base + plain + word2vec_eda Final 5-fold Cross-Validation Results ===\n",
      "val_loss: 2.0252\n",
      "val_accuracy: 0.6016\n",
      "precision: 0.5601\n",
      "recall: 0.6016\n",
      "f1-score: 0.5631\n",
      "macro_f1-score: 0.3359\n",
      "balanced_accuracy: 0.3358\n",
      "mcc: 0.4133\n",
      "train_loss: 0.9162\n",
      "total_seconds: 2845.0000\n",
      "total_time: 0 hrs 47 mins 25 secs\n",
      "▶ Running: roberta-base + cnn + word2vec_eda\n",
      "tokenizer is roberta-base\n",
      "Using device: cuda\n",
      "CUDA Available: True\n",
      "CUDA Device: NVIDIA GeForce RTX 5070 Ti\n",
      "Current GPU Memory Allocated: 0.02 GB\n",
      "Current GPU Memory Cached: 3.92 GB\n",
      "\n",
      "[Fold 1]\n",
      "🚀 Using Word2Vec + EDA (replace + deletion/swap) for data augmentation + under-sampling\n",
      "🔻 Under-sampling label 0: 2471 → 2000\n",
      "🔧 Augmenting label 1: 21 → 200 (+179)\n",
      "🔧 Augmenting label 2: 64 → 200 (+136)\n",
      "🔧 Augmenting label 3: 24 → 200 (+176)\n",
      "🔧 Augmenting label 4: 191 → 200 (+9)\n",
      "🔧 Augmenting label 5: 113 → 200 (+87)\n",
      "🔧 Augmenting label 6: 93 → 200 (+107)\n",
      "🔧 Augmenting label 7: 30 → 200 (+170)\n",
      "🔧 Augmenting label 8: 68 → 200 (+132)\n",
      "🔧 Augmenting label 9: 30 → 200 (+170)\n",
      "🔧 Augmenting label 10: 67 → 200 (+133)\n",
      "🔧 Augmenting label 11: 169 → 200 (+31)\n",
      "🔧 Augmenting label 12: 189 → 200 (+11)\n",
      "🔧 Augmenting label 13: 29 → 200 (+171)\n",
      "🔧 Augmenting label 14: 22 → 200 (+178)\n",
      "🔧 Augmenting label 15: 25 → 200 (+175)\n",
      "🔧 Augmenting label 16: 19 → 200 (+181)\n",
      "🔧 Augmenting label 17: 183 → 200 (+17)\n",
      "🔧 Augmenting label 18: 92 → 200 (+108)\n",
      "🔧 Augmenting label 19: 44 → 200 (+156)\n",
      "🔧 Augmenting label 20: 13 → 200 (+187)\n",
      "🔧 Augmenting label 21: 35 → 200 (+165)\n",
      "🔧 Augmenting label 22: 76 → 200 (+124)\n",
      "🔧 Augmenting label 23: 158 → 200 (+42)\n",
      "🔧 Augmenting label 24: 13 → 200 (+187)\n",
      "🔧 Augmenting label 25: 44 → 200 (+156)\n",
      "🔧 Augmenting label 26: 84 → 200 (+116)\n",
      "🔧 Augmenting label 27: 48 → 200 (+152)\n",
      "🔧 Augmenting label 28: 11 → 200 (+189)\n",
      "🔧 Augmenting label 29: 13 → 200 (+187)\n",
      "🔧 Augmenting label 30: 11 → 200 (+189)\n",
      "🔧 Augmenting label 31: 75 → 200 (+125)\n",
      "🔧 Augmenting label 32: 36 → 200 (+164)\n",
      "🔧 Augmenting label 33: 32 → 200 (+168)\n",
      "🔧 Augmenting label 34: 29 → 200 (+171)\n",
      "🔧 Augmenting label 35: 11 → 200 (+189)\n",
      "🔧 Augmenting label 36: 22 → 200 (+178)\n",
      "🔧 Augmenting label 37: 16 → 200 (+184)\n",
      "🔧 Augmenting label 38: 33 → 200 (+167)\n",
      "🔧 Augmenting label 39: 10 → 200 (+190)\n",
      "🔧 Augmenting label 40: 9 → 200 (+191)\n",
      "🔧 Augmenting label 41: 57 → 200 (+143)\n",
      "🔧 Augmenting label 42: 19 → 200 (+181)\n",
      "🔧 Augmenting label 43: 8 → 200 (+192)\n",
      "🔧 Augmenting label 44: 54 → 200 (+146)\n",
      "🔧 Augmenting label 46: 61 → 200 (+139)\n",
      "🔧 Augmenting label 47: 80 → 200 (+120)\n",
      "Label distribution after resampling:\n",
      "  label 0: 2000\n",
      "  label 1: 200\n",
      "  label 2: 200\n",
      "  label 3: 200\n",
      "  label 4: 200\n",
      "  label 5: 200\n",
      "  label 6: 200\n",
      "  label 7: 200\n",
      "  label 8: 200\n",
      "  label 9: 200\n",
      "  label 10: 200\n",
      "  label 11: 200\n",
      "  label 12: 200\n",
      "  label 13: 200\n",
      "  label 14: 200\n",
      "  label 15: 200\n",
      "  label 16: 200\n",
      "  label 17: 200\n",
      "  label 18: 200\n",
      "  label 19: 200\n",
      "  label 20: 200\n",
      "  label 21: 200\n",
      "  label 22: 200\n",
      "  label 23: 200\n",
      "  label 24: 200\n",
      "  label 25: 200\n",
      "  label 26: 200\n",
      "  label 27: 200\n",
      "  label 28: 200\n",
      "  label 29: 200\n",
      "  label 30: 200\n",
      "  label 31: 200\n",
      "  label 32: 200\n",
      "  label 33: 200\n",
      "  label 34: 200\n",
      "  label 35: 200\n",
      "  label 36: 200\n",
      "  label 37: 200\n",
      "  label 38: 200\n",
      "  label 39: 200\n",
      "  label 40: 200\n",
      "  label 41: 200\n",
      "  label 42: 200\n",
      "  label 43: 200\n",
      "  label 44: 200\n",
      "  label 45: 242\n",
      "  label 46: 200\n",
      "  label 47: 200\n",
      "model is roberta-base cnn\n"
     ]
    },
    {
     "name": "stderr",
     "output_type": "stream",
     "text": [
      "Some weights of RobertaModel were not initialized from the model checkpoint at roberta-base and are newly initialized: ['pooler.dense.bias', 'pooler.dense.weight']\n",
      "You should probably TRAIN this model on a down-stream task to be able to use it for predictions and inference.\n"
     ]
    },
    {
     "name": "stdout",
     "output_type": "stream",
     "text": [
      "Epoch 1/20\n"
     ]
    },
    {
     "name": "stderr",
     "output_type": "stream",
     "text": [
      "100%|██████████| 716/716 [01:02<00:00, 11.47it/s]\n"
     ]
    },
    {
     "name": "stdout",
     "output_type": "stream",
     "text": [
      "{'val_loss': 1.772536905800424, 'val_accuracy': 0.5221036585365854, 'precision': 0.5465884020698356, 'recall': 0.5221036585365854, 'f1-score': 0.5076721301750725, 'macro_f1-score': 0.2656135706850166, 'balanced_accuracy': 0.35584648294832394, 'mcc': 0.3701552544153508, 'train_loss': 2.514967935378325}\n",
      "Epoch 2/20\n"
     ]
    },
    {
     "name": "stderr",
     "output_type": "stream",
     "text": [
      "100%|██████████| 716/716 [01:02<00:00, 11.47it/s]\n"
     ]
    },
    {
     "name": "stdout",
     "output_type": "stream",
     "text": [
      "{'val_loss': 1.5339201405280973, 'val_accuracy': 0.6013719512195121, 'precision': 0.6107725939931268, 'recall': 0.6013719512195121, 'f1-score': 0.5784203194443643, 'macro_f1-score': 0.34918992943755733, 'balanced_accuracy': 0.38490510482316664, 'mcc': 0.46915570631752973, 'train_loss': 1.2778140582851858}\n",
      "Epoch 3/20\n"
     ]
    },
    {
     "name": "stderr",
     "output_type": "stream",
     "text": [
      "100%|██████████| 716/716 [01:02<00:00, 11.47it/s]\n"
     ]
    },
    {
     "name": "stdout",
     "output_type": "stream",
     "text": [
      "{'val_loss': 1.5391225705786449, 'val_accuracy': 0.5990853658536586, 'precision': 0.6150905650188474, 'recall': 0.5990853658536586, 'f1-score': 0.5934007652993123, 'macro_f1-score': 0.38029111776668795, 'balanced_accuracy': 0.41213217770352845, 'mcc': 0.4784398076592607, 'train_loss': 0.7675068331414094}\n",
      "Epoch 4/20\n"
     ]
    },
    {
     "name": "stderr",
     "output_type": "stream",
     "text": [
      "100%|██████████| 716/716 [01:02<00:00, 11.45it/s]\n"
     ]
    },
    {
     "name": "stdout",
     "output_type": "stream",
     "text": [
      "{'val_loss': 1.592229253998617, 'val_accuracy': 0.6074695121951219, 'precision': 0.6162993340856254, 'recall': 0.6074695121951219, 'f1-score': 0.6007755186341907, 'macro_f1-score': 0.38134605528998317, 'balanced_accuracy': 0.39130089914672156, 'mcc': 0.4790983398908195, 'train_loss': 0.5012665449188991}\n",
      "Epoch 5/20\n"
     ]
    },
    {
     "name": "stderr",
     "output_type": "stream",
     "text": [
      "100%|██████████| 716/716 [01:02<00:00, 11.48it/s]\n"
     ]
    },
    {
     "name": "stdout",
     "output_type": "stream",
     "text": [
      "{'val_loss': 1.6782651765317451, 'val_accuracy': 0.6105182926829268, 'precision': 0.6189510613080068, 'recall': 0.6105182926829268, 'f1-score': 0.6075168958679501, 'macro_f1-score': 0.3692703890590094, 'balanced_accuracy': 0.39156581823097286, 'mcc': 0.49281714498824847, 'train_loss': 0.3503999271672011}\n",
      "Epoch 6/20\n"
     ]
    },
    {
     "name": "stderr",
     "output_type": "stream",
     "text": [
      "100%|██████████| 716/716 [01:02<00:00, 11.49it/s]\n"
     ]
    },
    {
     "name": "stdout",
     "output_type": "stream",
     "text": [
      "{'val_loss': 1.839378627335153, 'val_accuracy': 0.6051829268292683, 'precision': 0.6371042330545458, 'recall': 0.6051829268292683, 'f1-score': 0.6124312029625073, 'macro_f1-score': 0.40733347514206764, 'balanced_accuracy': 0.4345294240013935, 'mcc': 0.49950314276356733, 'train_loss': 0.28206995787754574}\n",
      "Epoch 7/20\n"
     ]
    },
    {
     "name": "stderr",
     "output_type": "stream",
     "text": [
      "100%|██████████| 716/716 [01:02<00:00, 11.47it/s]\n"
     ]
    },
    {
     "name": "stdout",
     "output_type": "stream",
     "text": [
      "{'val_loss': 1.7888520396337277, 'val_accuracy': 0.6105182926829268, 'precision': 0.6304033139620887, 'recall': 0.6105182926829268, 'f1-score': 0.6092674968724059, 'macro_f1-score': 0.41199572282420965, 'balanced_accuracy': 0.43872727301241454, 'mcc': 0.5055577111890127, 'train_loss': 0.21801226101061277}\n",
      "Epoch 8/20\n"
     ]
    },
    {
     "name": "stderr",
     "output_type": "stream",
     "text": [
      "100%|██████████| 716/716 [01:02<00:00, 11.47it/s]\n"
     ]
    },
    {
     "name": "stdout",
     "output_type": "stream",
     "text": [
      "{'val_loss': 1.8788205915834846, 'val_accuracy': 0.635670731707317, 'precision': 0.6282577766245657, 'recall': 0.635670731707317, 'f1-score': 0.6263188655649772, 'macro_f1-score': 0.41647283738250945, 'balanced_accuracy': 0.42276106942153296, 'mcc': 0.5169256005757302, 'train_loss': 0.20657654718025042}\n",
      "Epoch 9/20\n"
     ]
    },
    {
     "name": "stderr",
     "output_type": "stream",
     "text": [
      "100%|██████████| 716/716 [01:02<00:00, 11.47it/s]\n"
     ]
    },
    {
     "name": "stdout",
     "output_type": "stream",
     "text": [
      "{'val_loss': 1.9560743359530843, 'val_accuracy': 0.6295731707317073, 'precision': 0.6233257702792946, 'recall': 0.6295731707317073, 'f1-score': 0.6138795080218729, 'macro_f1-score': 0.3996102638640162, 'balanced_accuracy': 0.3846516005656322, 'mcc': 0.49938878889895083, 'train_loss': 0.21166225890668017}\n",
      "Epoch 10/20\n"
     ]
    },
    {
     "name": "stderr",
     "output_type": "stream",
     "text": [
      "100%|██████████| 716/716 [01:02<00:00, 11.48it/s]\n"
     ]
    },
    {
     "name": "stdout",
     "output_type": "stream",
     "text": [
      "{'val_loss': 2.051565814490725, 'val_accuracy': 0.6074695121951219, 'precision': 0.6117490568161812, 'recall': 0.6074695121951219, 'f1-score': 0.5967174901948561, 'macro_f1-score': 0.39159680768637656, 'balanced_accuracy': 0.38898364568729776, 'mcc': 0.48002502751587695, 'train_loss': 0.13608924612206505}\n",
      "Epoch 11/20\n"
     ]
    },
    {
     "name": "stderr",
     "output_type": "stream",
     "text": [
      "100%|██████████| 716/716 [01:02<00:00, 11.47it/s]\n"
     ]
    },
    {
     "name": "stdout",
     "output_type": "stream",
     "text": [
      "{'val_loss': 2.042391354172695, 'val_accuracy': 0.6074695121951219, 'precision': 0.6347193310532416, 'recall': 0.6074695121951219, 'f1-score': 0.614868894784958, 'macro_f1-score': 0.39575783511167145, 'balanced_accuracy': 0.41613234404676636, 'mcc': 0.49647812155216414, 'train_loss': 0.13367788700709463}\n",
      "Early stopping.\n",
      "\n",
      "[Fold 2]\n",
      "🚀 Using Word2Vec + EDA (replace + deletion/swap) for data augmentation + under-sampling\n",
      "🔻 Under-sampling label 0: 2471 → 2000\n",
      "🔧 Augmenting label 1: 22 → 200 (+178)\n",
      "🔧 Augmenting label 2: 64 → 200 (+136)\n",
      "🔧 Augmenting label 3: 24 → 200 (+176)\n",
      "🔧 Augmenting label 4: 190 → 200 (+10)\n",
      "🔧 Augmenting label 5: 113 → 200 (+87)\n",
      "🔧 Augmenting label 6: 93 → 200 (+107)\n",
      "🔧 Augmenting label 7: 30 → 200 (+170)\n",
      "🔧 Augmenting label 8: 68 → 200 (+132)\n",
      "🔧 Augmenting label 9: 30 → 200 (+170)\n",
      "🔧 Augmenting label 10: 67 → 200 (+133)\n",
      "🔧 Augmenting label 11: 169 → 200 (+31)\n",
      "🔧 Augmenting label 12: 189 → 200 (+11)\n",
      "🔧 Augmenting label 13: 29 → 200 (+171)\n",
      "🔧 Augmenting label 14: 23 → 200 (+177)\n",
      "🔧 Augmenting label 15: 24 → 200 (+176)\n",
      "🔧 Augmenting label 16: 20 → 200 (+180)\n",
      "🔧 Augmenting label 17: 182 → 200 (+18)\n",
      "🔧 Augmenting label 18: 92 → 200 (+108)\n",
      "🔧 Augmenting label 19: 44 → 200 (+156)\n",
      "🔧 Augmenting label 20: 13 → 200 (+187)\n",
      "🔧 Augmenting label 21: 36 → 200 (+164)\n",
      "🔧 Augmenting label 22: 76 → 200 (+124)\n",
      "🔧 Augmenting label 23: 157 → 200 (+43)\n",
      "🔧 Augmenting label 24: 12 → 200 (+188)\n",
      "🔧 Augmenting label 25: 44 → 200 (+156)\n",
      "🔧 Augmenting label 26: 84 → 200 (+116)\n",
      "🔧 Augmenting label 27: 48 → 200 (+152)\n",
      "🔧 Augmenting label 28: 12 → 200 (+188)\n",
      "🔧 Augmenting label 29: 12 → 200 (+188)\n",
      "🔧 Augmenting label 30: 12 → 200 (+188)\n",
      "🔧 Augmenting label 31: 75 → 200 (+125)\n",
      "🔧 Augmenting label 32: 36 → 200 (+164)\n",
      "🔧 Augmenting label 33: 31 → 200 (+169)\n",
      "🔧 Augmenting label 34: 29 → 200 (+171)\n",
      "🔧 Augmenting label 35: 12 → 200 (+188)\n",
      "🔧 Augmenting label 36: 21 → 200 (+179)\n",
      "🔧 Augmenting label 37: 16 → 200 (+184)\n",
      "🔧 Augmenting label 38: 33 → 200 (+167)\n",
      "🔧 Augmenting label 39: 11 → 200 (+189)\n",
      "🔧 Augmenting label 40: 8 → 200 (+192)\n",
      "🔧 Augmenting label 41: 57 → 200 (+143)\n",
      "🔧 Augmenting label 42: 19 → 200 (+181)\n",
      "🔧 Augmenting label 43: 9 → 200 (+191)\n",
      "🔧 Augmenting label 44: 54 → 200 (+146)\n",
      "🔧 Augmenting label 46: 62 → 200 (+138)\n",
      "🔧 Augmenting label 47: 80 → 200 (+120)\n",
      "Label distribution after resampling:\n",
      "  label 0: 2000\n",
      "  label 1: 200\n",
      "  label 2: 200\n",
      "  label 3: 200\n",
      "  label 4: 200\n",
      "  label 5: 200\n",
      "  label 6: 200\n",
      "  label 7: 200\n",
      "  label 8: 200\n",
      "  label 9: 200\n",
      "  label 10: 200\n",
      "  label 11: 200\n",
      "  label 12: 200\n",
      "  label 13: 200\n",
      "  label 14: 200\n",
      "  label 15: 200\n",
      "  label 16: 200\n",
      "  label 17: 200\n",
      "  label 18: 200\n",
      "  label 19: 200\n",
      "  label 20: 200\n",
      "  label 21: 200\n",
      "  label 22: 200\n",
      "  label 23: 200\n",
      "  label 24: 200\n",
      "  label 25: 200\n",
      "  label 26: 200\n",
      "  label 27: 200\n",
      "  label 28: 200\n",
      "  label 29: 200\n",
      "  label 30: 200\n",
      "  label 31: 200\n",
      "  label 32: 200\n",
      "  label 33: 200\n",
      "  label 34: 200\n",
      "  label 35: 200\n",
      "  label 36: 200\n",
      "  label 37: 200\n",
      "  label 38: 200\n",
      "  label 39: 200\n",
      "  label 40: 200\n",
      "  label 41: 200\n",
      "  label 42: 200\n",
      "  label 43: 200\n",
      "  label 44: 200\n",
      "  label 45: 242\n",
      "  label 46: 200\n",
      "  label 47: 200\n",
      "model is roberta-base cnn\n"
     ]
    },
    {
     "name": "stderr",
     "output_type": "stream",
     "text": [
      "Some weights of RobertaModel were not initialized from the model checkpoint at roberta-base and are newly initialized: ['pooler.dense.bias', 'pooler.dense.weight']\n",
      "You should probably TRAIN this model on a down-stream task to be able to use it for predictions and inference.\n"
     ]
    },
    {
     "name": "stdout",
     "output_type": "stream",
     "text": [
      "Epoch 1/20\n"
     ]
    },
    {
     "name": "stderr",
     "output_type": "stream",
     "text": [
      "100%|██████████| 716/716 [01:02<00:00, 11.49it/s]\n"
     ]
    },
    {
     "name": "stdout",
     "output_type": "stream",
     "text": [
      "{'val_loss': 1.6762968607065154, 'val_accuracy': 0.5377574370709383, 'precision': 0.554769182291567, 'recall': 0.5377574370709383, 'f1-score': 0.5001575539462295, 'macro_f1-score': 0.2532071065969124, 'balanced_accuracy': 0.320795386806179, 'mcc': 0.3650801810816012, 'train_loss': 2.5574858724737966}\n",
      "Epoch 2/20\n"
     ]
    },
    {
     "name": "stderr",
     "output_type": "stream",
     "text": [
      "100%|██████████| 716/716 [01:02<00:00, 11.47it/s]\n"
     ]
    },
    {
     "name": "stdout",
     "output_type": "stream",
     "text": [
      "{'val_loss': 1.416546519573142, 'val_accuracy': 0.6125095347063311, 'precision': 0.59678716809025, 'recall': 0.6125095347063311, 'f1-score': 0.5890985863621289, 'macro_f1-score': 0.3544065612365442, 'balanced_accuracy': 0.3771960671448262, 'mcc': 0.4797751545218126, 'train_loss': 1.2505257298660013}\n",
      "Epoch 3/20\n"
     ]
    },
    {
     "name": "stderr",
     "output_type": "stream",
     "text": [
      "100%|██████████| 716/716 [01:02<00:00, 11.47it/s]\n"
     ]
    },
    {
     "name": "stdout",
     "output_type": "stream",
     "text": [
      "{'val_loss': 1.5164857564902887, 'val_accuracy': 0.6132723112128147, 'precision': 0.618758908898682, 'recall': 0.6132723112128147, 'f1-score': 0.6010536377821949, 'macro_f1-score': 0.3582735689467085, 'balanced_accuracy': 0.38639530579112424, 'mcc': 0.4872457540768458, 'train_loss': 0.7264831454737642}\n",
      "Epoch 4/20\n"
     ]
    },
    {
     "name": "stderr",
     "output_type": "stream",
     "text": [
      "100%|██████████| 716/716 [01:02<00:00, 11.47it/s]\n"
     ]
    },
    {
     "name": "stdout",
     "output_type": "stream",
     "text": [
      "{'val_loss': 1.5831805369475993, 'val_accuracy': 0.6140350877192983, 'precision': 0.6407233845317367, 'recall': 0.6140350877192983, 'f1-score': 0.6167230948748014, 'macro_f1-score': 0.3708989961957501, 'balanced_accuracy': 0.38274090365384, 'mcc': 0.4944871339313506, 'train_loss': 0.46992495345919494}\n",
      "Epoch 5/20\n"
     ]
    },
    {
     "name": "stderr",
     "output_type": "stream",
     "text": [
      "100%|██████████| 716/716 [01:02<00:00, 11.48it/s]\n"
     ]
    },
    {
     "name": "stdout",
     "output_type": "stream",
     "text": [
      "{'val_loss': 1.692213575287563, 'val_accuracy': 0.5964912280701754, 'precision': 0.6219226836694501, 'recall': 0.5964912280701754, 'f1-score': 0.6005494841682268, 'macro_f1-score': 0.3426463251465828, 'balanced_accuracy': 0.3675531766434658, 'mcc': 0.47932737078649945, 'train_loss': 0.3479633949561742}\n",
      "Epoch 6/20\n"
     ]
    },
    {
     "name": "stderr",
     "output_type": "stream",
     "text": [
      "100%|██████████| 716/716 [01:03<00:00, 11.35it/s]\n"
     ]
    },
    {
     "name": "stdout",
     "output_type": "stream",
     "text": [
      "{'val_loss': 1.7773775843585409, 'val_accuracy': 0.5942028985507246, 'precision': 0.6085792925377718, 'recall': 0.5942028985507246, 'f1-score': 0.5906524214882131, 'macro_f1-score': 0.3549187761391101, 'balanced_accuracy': 0.3883721724084787, 'mcc': 0.47698036819013095, 'train_loss': 0.26358670486636754}\n",
      "Epoch 7/20\n"
     ]
    },
    {
     "name": "stderr",
     "output_type": "stream",
     "text": [
      "100%|██████████| 716/716 [01:03<00:00, 11.28it/s]\n"
     ]
    },
    {
     "name": "stdout",
     "output_type": "stream",
     "text": [
      "{'val_loss': 1.782019902293275, 'val_accuracy': 0.6331045003813882, 'precision': 0.6229342395285483, 'recall': 0.6331045003813882, 'f1-score': 0.619878209103897, 'macro_f1-score': 0.36535607286124394, 'balanced_accuracy': 0.37463191802794205, 'mcc': 0.5166341340491116, 'train_loss': 0.218871628550823}\n",
      "Early stopping.\n",
      "\n",
      "[Fold 3]\n",
      "🚀 Using Word2Vec + EDA (replace + deletion/swap) for data augmentation + under-sampling\n",
      "🔻 Under-sampling label 0: 2471 → 2000\n",
      "🔧 Augmenting label 1: 22 → 200 (+178)\n",
      "🔧 Augmenting label 2: 64 → 200 (+136)\n",
      "🔧 Augmenting label 3: 24 → 200 (+176)\n",
      "🔧 Augmenting label 4: 190 → 200 (+10)\n",
      "🔧 Augmenting label 5: 113 → 200 (+87)\n",
      "🔧 Augmenting label 6: 93 → 200 (+107)\n",
      "🔧 Augmenting label 7: 30 → 200 (+170)\n",
      "🔧 Augmenting label 8: 68 → 200 (+132)\n",
      "🔧 Augmenting label 9: 30 → 200 (+170)\n",
      "🔧 Augmenting label 10: 67 → 200 (+133)\n",
      "🔧 Augmenting label 11: 169 → 200 (+31)\n",
      "🔧 Augmenting label 12: 190 → 200 (+10)\n",
      "🔧 Augmenting label 13: 28 → 200 (+172)\n",
      "🔧 Augmenting label 14: 23 → 200 (+177)\n",
      "🔧 Augmenting label 15: 25 → 200 (+175)\n",
      "🔧 Augmenting label 16: 19 → 200 (+181)\n",
      "🔧 Augmenting label 17: 182 → 200 (+18)\n",
      "🔧 Augmenting label 18: 92 → 200 (+108)\n",
      "🔧 Augmenting label 19: 44 → 200 (+156)\n",
      "🔧 Augmenting label 20: 14 → 200 (+186)\n",
      "🔧 Augmenting label 21: 35 → 200 (+165)\n",
      "🔧 Augmenting label 22: 76 → 200 (+124)\n",
      "🔧 Augmenting label 23: 157 → 200 (+43)\n",
      "🔧 Augmenting label 24: 13 → 200 (+187)\n",
      "🔧 Augmenting label 25: 44 → 200 (+156)\n",
      "🔧 Augmenting label 26: 84 → 200 (+116)\n",
      "🔧 Augmenting label 27: 48 → 200 (+152)\n",
      "🔧 Augmenting label 28: 11 → 200 (+189)\n",
      "🔧 Augmenting label 29: 13 → 200 (+187)\n",
      "🔧 Augmenting label 30: 11 → 200 (+189)\n",
      "🔧 Augmenting label 31: 76 → 200 (+124)\n",
      "🔧 Augmenting label 32: 36 → 200 (+164)\n",
      "🔧 Augmenting label 33: 31 → 200 (+169)\n",
      "🔧 Augmenting label 34: 30 → 200 (+170)\n",
      "🔧 Augmenting label 35: 11 → 200 (+189)\n",
      "🔧 Augmenting label 36: 21 → 200 (+179)\n",
      "🔧 Augmenting label 37: 16 → 200 (+184)\n",
      "🔧 Augmenting label 38: 32 → 200 (+168)\n",
      "🔧 Augmenting label 39: 11 → 200 (+189)\n",
      "🔧 Augmenting label 40: 9 → 200 (+191)\n",
      "🔧 Augmenting label 41: 57 → 200 (+143)\n",
      "🔧 Augmenting label 42: 18 → 200 (+182)\n",
      "🔧 Augmenting label 43: 9 → 200 (+191)\n",
      "🔧 Augmenting label 44: 55 → 200 (+145)\n",
      "🔧 Augmenting label 46: 62 → 200 (+138)\n",
      "🔧 Augmenting label 47: 80 → 200 (+120)\n",
      "Label distribution after resampling:\n",
      "  label 0: 2000\n",
      "  label 1: 200\n",
      "  label 2: 200\n",
      "  label 3: 200\n",
      "  label 4: 200\n",
      "  label 5: 200\n",
      "  label 6: 200\n",
      "  label 7: 200\n",
      "  label 8: 200\n",
      "  label 9: 200\n",
      "  label 10: 200\n",
      "  label 11: 200\n",
      "  label 12: 200\n",
      "  label 13: 200\n",
      "  label 14: 200\n",
      "  label 15: 200\n",
      "  label 16: 200\n",
      "  label 17: 200\n",
      "  label 18: 200\n",
      "  label 19: 200\n",
      "  label 20: 200\n",
      "  label 21: 200\n",
      "  label 22: 200\n",
      "  label 23: 200\n",
      "  label 24: 200\n",
      "  label 25: 200\n",
      "  label 26: 200\n",
      "  label 27: 200\n",
      "  label 28: 200\n",
      "  label 29: 200\n",
      "  label 30: 200\n",
      "  label 31: 200\n",
      "  label 32: 200\n",
      "  label 33: 200\n",
      "  label 34: 200\n",
      "  label 35: 200\n",
      "  label 36: 200\n",
      "  label 37: 200\n",
      "  label 38: 200\n",
      "  label 39: 200\n",
      "  label 40: 200\n",
      "  label 41: 200\n",
      "  label 42: 200\n",
      "  label 43: 200\n",
      "  label 44: 200\n",
      "  label 45: 241\n",
      "  label 46: 200\n",
      "  label 47: 200\n",
      "model is roberta-base cnn\n"
     ]
    },
    {
     "name": "stderr",
     "output_type": "stream",
     "text": [
      "Some weights of RobertaModel were not initialized from the model checkpoint at roberta-base and are newly initialized: ['pooler.dense.bias', 'pooler.dense.weight']\n",
      "You should probably TRAIN this model on a down-stream task to be able to use it for predictions and inference.\n"
     ]
    },
    {
     "name": "stdout",
     "output_type": "stream",
     "text": [
      "Epoch 1/20\n"
     ]
    },
    {
     "name": "stderr",
     "output_type": "stream",
     "text": [
      "100%|██████████| 716/716 [01:03<00:00, 11.30it/s]\n"
     ]
    },
    {
     "name": "stdout",
     "output_type": "stream",
     "text": [
      "{'val_loss': 1.8757184024264173, 'val_accuracy': 0.479023646071701, 'precision': 0.5802999578302216, 'recall': 0.479023646071701, 'f1-score': 0.5030353257400874, 'macro_f1-score': 0.26395795747581174, 'balanced_accuracy': 0.3429961849525868, 'mcc': 0.3510842055925065, 'train_loss': 2.4498106034358123}\n",
      "Epoch 2/20\n"
     ]
    },
    {
     "name": "stderr",
     "output_type": "stream",
     "text": [
      "100%|██████████| 716/716 [01:03<00:00, 11.33it/s]\n"
     ]
    },
    {
     "name": "stdout",
     "output_type": "stream",
     "text": [
      "{'val_loss': 1.5106861829394247, 'val_accuracy': 0.5911517925247902, 'precision': 0.5852936863505122, 'recall': 0.5911517925247902, 'f1-score': 0.571332714076471, 'macro_f1-score': 0.35199988208203264, 'balanced_accuracy': 0.38008739268253505, 'mcc': 0.4531960185993045, 'train_loss': 1.1819151366889145}\n",
      "Epoch 3/20\n"
     ]
    },
    {
     "name": "stderr",
     "output_type": "stream",
     "text": [
      "100%|██████████| 716/716 [01:03<00:00, 11.28it/s]\n"
     ]
    },
    {
     "name": "stdout",
     "output_type": "stream",
     "text": [
      "{'val_loss': 1.632178626772834, 'val_accuracy': 0.6003051106025934, 'precision': 0.5737932693119994, 'recall': 0.6003051106025934, 'f1-score': 0.576455245076615, 'macro_f1-score': 0.34273216631087483, 'balanced_accuracy': 0.3429455108327038, 'mcc': 0.45271121696209615, 'train_loss': 0.6766383924193722}\n",
      "Epoch 4/20\n"
     ]
    },
    {
     "name": "stderr",
     "output_type": "stream",
     "text": [
      "100%|██████████| 716/716 [01:03<00:00, 11.28it/s]\n"
     ]
    },
    {
     "name": "stdout",
     "output_type": "stream",
     "text": [
      "{'val_loss': 1.7040547147029783, 'val_accuracy': 0.6109839816933639, 'precision': 0.585290695135497, 'recall': 0.6109839816933639, 'f1-score': 0.5869139592704554, 'macro_f1-score': 0.3428521013755961, 'balanced_accuracy': 0.34159242387149874, 'mcc': 0.4724253845110261, 'train_loss': 0.43745881543551995}\n",
      "Epoch 5/20\n"
     ]
    },
    {
     "name": "stderr",
     "output_type": "stream",
     "text": [
      "100%|██████████| 716/716 [01:03<00:00, 11.28it/s]\n"
     ]
    },
    {
     "name": "stdout",
     "output_type": "stream",
     "text": [
      "{'val_loss': 1.6688675037244471, 'val_accuracy': 0.6140350877192983, 'precision': 0.6087694892950906, 'recall': 0.6140350877192983, 'f1-score': 0.5999103538550001, 'macro_f1-score': 0.35296025324633873, 'balanced_accuracy': 0.3408033902795773, 'mcc': 0.4789713814150074, 'train_loss': 0.33863586747326874}\n",
      "Epoch 6/20\n"
     ]
    },
    {
     "name": "stderr",
     "output_type": "stream",
     "text": [
      "100%|██████████| 716/716 [01:03<00:00, 11.29it/s]\n"
     ]
    },
    {
     "name": "stdout",
     "output_type": "stream",
     "text": [
      "{'val_loss': 1.8737039559679787, 'val_accuracy': 0.6048817696414951, 'precision': 0.6060302648207233, 'recall': 0.6048817696414951, 'f1-score': 0.5932093135085238, 'macro_f1-score': 0.3615251879442883, 'balanced_accuracy': 0.35782741308379834, 'mcc': 0.47883314017234413, 'train_loss': 0.23923829828217294}\n",
      "Epoch 7/20\n"
     ]
    },
    {
     "name": "stderr",
     "output_type": "stream",
     "text": [
      "100%|██████████| 716/716 [01:03<00:00, 11.31it/s]\n"
     ]
    },
    {
     "name": "stdout",
     "output_type": "stream",
     "text": [
      "{'val_loss': 1.9405747575730812, 'val_accuracy': 0.620137299771167, 'precision': 0.6247324665272466, 'recall': 0.620137299771167, 'f1-score': 0.613017073960256, 'macro_f1-score': 0.38810743754118854, 'balanced_accuracy': 0.3887195832164383, 'mcc': 0.4958914119471172, 'train_loss': 0.20384245965331949}\n",
      "Epoch 8/20\n"
     ]
    },
    {
     "name": "stderr",
     "output_type": "stream",
     "text": [
      "100%|██████████| 716/716 [01:03<00:00, 11.28it/s]\n"
     ]
    },
    {
     "name": "stdout",
     "output_type": "stream",
     "text": [
      "{'val_loss': 1.9593683179558776, 'val_accuracy': 0.6147978642257819, 'precision': 0.6183233357302126, 'recall': 0.6147978642257819, 'f1-score': 0.6061804716002394, 'macro_f1-score': 0.37505657681199417, 'balanced_accuracy': 0.3761472852881031, 'mcc': 0.49273232239390136, 'train_loss': 0.1783679365528378}\n",
      "Epoch 9/20\n"
     ]
    },
    {
     "name": "stderr",
     "output_type": "stream",
     "text": [
      "100%|██████████| 716/716 [01:03<00:00, 11.30it/s]\n"
     ]
    },
    {
     "name": "stdout",
     "output_type": "stream",
     "text": [
      "{'val_loss': 1.9504941661910313, 'val_accuracy': 0.593440122044241, 'precision': 0.6125007363705282, 'recall': 0.593440122044241, 'f1-score': 0.5941143561933621, 'macro_f1-score': 0.36208565262209397, 'balanced_accuracy': 0.38398078233654, 'mcc': 0.47620857100557246, 'train_loss': 0.18756040019716796}\n",
      "Epoch 10/20\n"
     ]
    },
    {
     "name": "stderr",
     "output_type": "stream",
     "text": [
      "100%|██████████| 716/716 [01:03<00:00, 11.29it/s]\n"
     ]
    },
    {
     "name": "stdout",
     "output_type": "stream",
     "text": [
      "{'val_loss': 2.0092066139346216, 'val_accuracy': 0.6132723112128147, 'precision': 0.6174872182528456, 'recall': 0.6132723112128147, 'f1-score': 0.6083375814878343, 'macro_f1-score': 0.38663420473862214, 'balanced_accuracy': 0.3914211468414089, 'mcc': 0.494004400196933, 'train_loss': 0.14497407339155602}\n",
      "Early stopping.\n",
      "\n",
      "[Fold 4]\n",
      "🚀 Using Word2Vec + EDA (replace + deletion/swap) for data augmentation + under-sampling\n",
      "🔻 Under-sampling label 0: 2471 → 2000\n",
      "🔧 Augmenting label 1: 22 → 200 (+178)\n",
      "🔧 Augmenting label 2: 64 → 200 (+136)\n",
      "🔧 Augmenting label 3: 24 → 200 (+176)\n",
      "🔧 Augmenting label 4: 190 → 200 (+10)\n",
      "🔧 Augmenting label 5: 113 → 200 (+87)\n",
      "🔧 Augmenting label 6: 93 → 200 (+107)\n",
      "🔧 Augmenting label 7: 31 → 200 (+169)\n",
      "🔧 Augmenting label 8: 68 → 200 (+132)\n",
      "🔧 Augmenting label 9: 29 → 200 (+171)\n",
      "🔧 Augmenting label 10: 67 → 200 (+133)\n",
      "🔧 Augmenting label 11: 169 → 200 (+31)\n",
      "🔧 Augmenting label 12: 190 → 200 (+10)\n",
      "🔧 Augmenting label 13: 29 → 200 (+171)\n",
      "🔧 Augmenting label 14: 22 → 200 (+178)\n",
      "🔧 Augmenting label 15: 25 → 200 (+175)\n",
      "🔧 Augmenting label 16: 19 → 200 (+181)\n",
      "🔧 Augmenting label 17: 182 → 200 (+18)\n",
      "🔧 Augmenting label 18: 92 → 200 (+108)\n",
      "🔧 Augmenting label 19: 44 → 200 (+156)\n",
      "🔧 Augmenting label 20: 14 → 200 (+186)\n",
      "🔧 Augmenting label 21: 35 → 200 (+165)\n",
      "🔧 Augmenting label 22: 76 → 200 (+124)\n",
      "🔧 Augmenting label 23: 158 → 200 (+42)\n",
      "🔧 Augmenting label 24: 13 → 200 (+187)\n",
      "🔧 Augmenting label 25: 44 → 200 (+156)\n",
      "🔧 Augmenting label 26: 84 → 200 (+116)\n",
      "🔧 Augmenting label 27: 48 → 200 (+152)\n",
      "🔧 Augmenting label 28: 11 → 200 (+189)\n",
      "🔧 Augmenting label 29: 13 → 200 (+187)\n",
      "🔧 Augmenting label 30: 11 → 200 (+189)\n",
      "🔧 Augmenting label 31: 75 → 200 (+125)\n",
      "🔧 Augmenting label 32: 36 → 200 (+164)\n",
      "🔧 Augmenting label 33: 31 → 200 (+169)\n",
      "🔧 Augmenting label 34: 30 → 200 (+170)\n",
      "🔧 Augmenting label 35: 11 → 200 (+189)\n",
      "🔧 Augmenting label 36: 22 → 200 (+178)\n",
      "🔧 Augmenting label 37: 16 → 200 (+184)\n",
      "🔧 Augmenting label 38: 33 → 200 (+167)\n",
      "🔧 Augmenting label 39: 10 → 200 (+190)\n",
      "🔧 Augmenting label 40: 9 → 200 (+191)\n",
      "🔧 Augmenting label 41: 56 → 200 (+144)\n",
      "🔧 Augmenting label 42: 18 → 200 (+182)\n",
      "🔧 Augmenting label 43: 9 → 200 (+191)\n",
      "🔧 Augmenting label 44: 55 → 200 (+145)\n",
      "🔧 Augmenting label 46: 62 → 200 (+138)\n",
      "🔧 Augmenting label 47: 80 → 200 (+120)\n",
      "Label distribution after resampling:\n",
      "  label 0: 2000\n",
      "  label 1: 200\n",
      "  label 2: 200\n",
      "  label 3: 200\n",
      "  label 4: 200\n",
      "  label 5: 200\n",
      "  label 6: 200\n",
      "  label 7: 200\n",
      "  label 8: 200\n",
      "  label 9: 200\n",
      "  label 10: 200\n",
      "  label 11: 200\n",
      "  label 12: 200\n",
      "  label 13: 200\n",
      "  label 14: 200\n",
      "  label 15: 200\n",
      "  label 16: 200\n",
      "  label 17: 200\n",
      "  label 18: 200\n",
      "  label 19: 200\n",
      "  label 20: 200\n",
      "  label 21: 200\n",
      "  label 22: 200\n",
      "  label 23: 200\n",
      "  label 24: 200\n",
      "  label 25: 200\n",
      "  label 26: 200\n",
      "  label 27: 200\n",
      "  label 28: 200\n",
      "  label 29: 200\n",
      "  label 30: 200\n",
      "  label 31: 200\n",
      "  label 32: 200\n",
      "  label 33: 200\n",
      "  label 34: 200\n",
      "  label 35: 200\n",
      "  label 36: 200\n",
      "  label 37: 200\n",
      "  label 38: 200\n",
      "  label 39: 200\n",
      "  label 40: 200\n",
      "  label 41: 200\n",
      "  label 42: 200\n",
      "  label 43: 200\n",
      "  label 44: 200\n",
      "  label 45: 241\n",
      "  label 46: 200\n",
      "  label 47: 200\n",
      "model is roberta-base cnn\n"
     ]
    },
    {
     "name": "stderr",
     "output_type": "stream",
     "text": [
      "Some weights of RobertaModel were not initialized from the model checkpoint at roberta-base and are newly initialized: ['pooler.dense.bias', 'pooler.dense.weight']\n",
      "You should probably TRAIN this model on a down-stream task to be able to use it for predictions and inference.\n"
     ]
    },
    {
     "name": "stdout",
     "output_type": "stream",
     "text": [
      "Epoch 1/20\n"
     ]
    },
    {
     "name": "stderr",
     "output_type": "stream",
     "text": [
      "100%|██████████| 716/716 [01:03<00:00, 11.28it/s]\n"
     ]
    },
    {
     "name": "stdout",
     "output_type": "stream",
     "text": [
      "{'val_loss': 1.667791346224343, 'val_accuracy': 0.5491990846681922, 'precision': 0.5409707746685569, 'recall': 0.5491990846681922, 'f1-score': 0.5121294011563611, 'macro_f1-score': 0.26237922841505146, 'balanced_accuracy': 0.3225662466862617, 'mcc': 0.3789926707603396, 'train_loss': 2.694144672771406}\n",
      "Epoch 2/20\n"
     ]
    },
    {
     "name": "stderr",
     "output_type": "stream",
     "text": [
      "100%|██████████| 716/716 [01:03<00:00, 11.31it/s]\n"
     ]
    },
    {
     "name": "stdout",
     "output_type": "stream",
     "text": [
      "{'val_loss': 1.5502459966554873, 'val_accuracy': 0.5568268497330282, 'precision': 0.6386543625001345, 'recall': 0.5568268497330282, 'f1-score': 0.5742732414118513, 'macro_f1-score': 0.3360004271617944, 'balanced_accuracy': 0.4282244669406317, 'mcc': 0.4484363911327477, 'train_loss': 1.3651250373135067}\n",
      "Epoch 3/20\n"
     ]
    },
    {
     "name": "stderr",
     "output_type": "stream",
     "text": [
      "100%|██████████| 716/716 [01:03<00:00, 11.29it/s]\n"
     ]
    },
    {
     "name": "stdout",
     "output_type": "stream",
     "text": [
      "{'val_loss': 1.4359883206283175, 'val_accuracy': 0.631578947368421, 'precision': 0.6326573710664186, 'recall': 0.631578947368421, 'f1-score': 0.6175858800756142, 'macro_f1-score': 0.3951447987780461, 'balanced_accuracy': 0.4259794736664977, 'mcc': 0.5138128119570479, 'train_loss': 0.778652124689611}\n",
      "Epoch 4/20\n"
     ]
    },
    {
     "name": "stderr",
     "output_type": "stream",
     "text": [
      "100%|██████████| 716/716 [01:03<00:00, 11.29it/s]\n"
     ]
    },
    {
     "name": "stdout",
     "output_type": "stream",
     "text": [
      "{'val_loss': 1.5987921911405354, 'val_accuracy': 0.6163234172387491, 'precision': 0.6560906833152798, 'recall': 0.6163234172387491, 'f1-score': 0.6234382253473921, 'macro_f1-score': 0.39761673950632487, 'balanced_accuracy': 0.4424640160948623, 'mcc': 0.5113460583443086, 'train_loss': 0.4964687044110524}\n",
      "Epoch 5/20\n"
     ]
    },
    {
     "name": "stderr",
     "output_type": "stream",
     "text": [
      "100%|██████████| 716/716 [01:03<00:00, 11.30it/s]\n"
     ]
    },
    {
     "name": "stdout",
     "output_type": "stream",
     "text": [
      "{'val_loss': 1.6998986172966841, 'val_accuracy': 0.6117467581998475, 'precision': 0.6449722892915801, 'recall': 0.6117467581998475, 'f1-score': 0.6209786349222488, 'macro_f1-score': 0.3741087536160226, 'balanced_accuracy': 0.4175933421795415, 'mcc': 0.5034630411382751, 'train_loss': 0.3367663501539429}\n",
      "Epoch 6/20\n"
     ]
    },
    {
     "name": "stderr",
     "output_type": "stream",
     "text": [
      "100%|██████████| 716/716 [01:03<00:00, 11.32it/s]\n"
     ]
    },
    {
     "name": "stdout",
     "output_type": "stream",
     "text": [
      "{'val_loss': 1.7129659127534889, 'val_accuracy': 0.6064073226544623, 'precision': 0.6505899037275462, 'recall': 0.6064073226544623, 'f1-score': 0.612676340343616, 'macro_f1-score': 0.3836913974967757, 'balanced_accuracy': 0.4295657757568179, 'mcc': 0.5073047249747447, 'train_loss': 0.2780263452249574}\n",
      "Epoch 7/20\n"
     ]
    },
    {
     "name": "stderr",
     "output_type": "stream",
     "text": [
      "100%|██████████| 716/716 [01:03<00:00, 11.27it/s]\n"
     ]
    },
    {
     "name": "stdout",
     "output_type": "stream",
     "text": [
      "{'val_loss': 1.7887501763861353, 'val_accuracy': 0.6178489702517163, 'precision': 0.6347352629413112, 'recall': 0.6178489702517163, 'f1-score': 0.6174074295978769, 'macro_f1-score': 0.38396845281123665, 'balanced_accuracy': 0.42331494605968284, 'mcc': 0.5147407873085428, 'train_loss': 0.20119573390299933}\n",
      "Early stopping.\n",
      "\n",
      "[Fold 5]\n",
      "🚀 Using Word2Vec + EDA (replace + deletion/swap) for data augmentation + under-sampling\n",
      "🔻 Under-sampling label 0: 2472 → 2000\n",
      "🔧 Augmenting label 1: 21 → 200 (+179)\n",
      "🔧 Augmenting label 2: 64 → 200 (+136)\n",
      "🔧 Augmenting label 3: 24 → 200 (+176)\n",
      "🔧 Augmenting label 4: 191 → 200 (+9)\n",
      "🔧 Augmenting label 5: 112 → 200 (+88)\n",
      "🔧 Augmenting label 6: 92 → 200 (+108)\n",
      "🔧 Augmenting label 7: 31 → 200 (+169)\n",
      "🔧 Augmenting label 8: 68 → 200 (+132)\n",
      "🔧 Augmenting label 9: 29 → 200 (+171)\n",
      "🔧 Augmenting label 10: 68 → 200 (+132)\n",
      "🔧 Augmenting label 11: 168 → 200 (+32)\n",
      "🔧 Augmenting label 12: 190 → 200 (+10)\n",
      "🔧 Augmenting label 13: 29 → 200 (+171)\n",
      "🔧 Augmenting label 14: 22 → 200 (+178)\n",
      "🔧 Augmenting label 15: 25 → 200 (+175)\n",
      "🔧 Augmenting label 16: 19 → 200 (+181)\n",
      "🔧 Augmenting label 17: 183 → 200 (+17)\n",
      "🔧 Augmenting label 18: 92 → 200 (+108)\n",
      "🔧 Augmenting label 19: 44 → 200 (+156)\n",
      "🔧 Augmenting label 20: 14 → 200 (+186)\n",
      "🔧 Augmenting label 21: 35 → 200 (+165)\n",
      "🔧 Augmenting label 22: 76 → 200 (+124)\n",
      "🔧 Augmenting label 23: 158 → 200 (+42)\n",
      "🔧 Augmenting label 24: 13 → 200 (+187)\n",
      "🔧 Augmenting label 25: 44 → 200 (+156)\n",
      "🔧 Augmenting label 26: 84 → 200 (+116)\n",
      "🔧 Augmenting label 27: 48 → 200 (+152)\n",
      "🔧 Augmenting label 28: 11 → 200 (+189)\n",
      "🔧 Augmenting label 29: 13 → 200 (+187)\n",
      "🔧 Augmenting label 30: 11 → 200 (+189)\n",
      "🔧 Augmenting label 31: 75 → 200 (+125)\n",
      "🔧 Augmenting label 32: 36 → 200 (+164)\n",
      "🔧 Augmenting label 33: 31 → 200 (+169)\n",
      "🔧 Augmenting label 34: 30 → 200 (+170)\n",
      "🔧 Augmenting label 35: 11 → 200 (+189)\n",
      "🔧 Augmenting label 36: 22 → 200 (+178)\n",
      "🔧 Augmenting label 37: 16 → 200 (+184)\n",
      "🔧 Augmenting label 38: 33 → 200 (+167)\n",
      "🔧 Augmenting label 39: 10 → 200 (+190)\n",
      "🔧 Augmenting label 40: 9 → 200 (+191)\n",
      "🔧 Augmenting label 41: 57 → 200 (+143)\n",
      "🔧 Augmenting label 42: 18 → 200 (+182)\n",
      "🔧 Augmenting label 43: 9 → 200 (+191)\n",
      "🔧 Augmenting label 44: 54 → 200 (+146)\n",
      "🔧 Augmenting label 46: 61 → 200 (+139)\n",
      "🔧 Augmenting label 47: 80 → 200 (+120)\n",
      "Label distribution after resampling:\n",
      "  label 0: 2000\n",
      "  label 1: 200\n",
      "  label 2: 200\n",
      "  label 3: 200\n",
      "  label 4: 200\n",
      "  label 5: 200\n",
      "  label 6: 200\n",
      "  label 7: 200\n",
      "  label 8: 200\n",
      "  label 9: 200\n",
      "  label 10: 200\n",
      "  label 11: 200\n",
      "  label 12: 200\n",
      "  label 13: 200\n",
      "  label 14: 200\n",
      "  label 15: 200\n",
      "  label 16: 200\n",
      "  label 17: 200\n",
      "  label 18: 200\n",
      "  label 19: 200\n",
      "  label 20: 200\n",
      "  label 21: 200\n",
      "  label 22: 200\n",
      "  label 23: 200\n",
      "  label 24: 200\n",
      "  label 25: 200\n",
      "  label 26: 200\n",
      "  label 27: 200\n",
      "  label 28: 200\n",
      "  label 29: 200\n",
      "  label 30: 200\n",
      "  label 31: 200\n",
      "  label 32: 200\n",
      "  label 33: 200\n",
      "  label 34: 200\n",
      "  label 35: 200\n",
      "  label 36: 200\n",
      "  label 37: 200\n",
      "  label 38: 200\n",
      "  label 39: 200\n",
      "  label 40: 200\n",
      "  label 41: 200\n",
      "  label 42: 200\n",
      "  label 43: 200\n",
      "  label 44: 200\n",
      "  label 45: 242\n",
      "  label 46: 200\n",
      "  label 47: 200\n",
      "model is roberta-base cnn\n"
     ]
    },
    {
     "name": "stderr",
     "output_type": "stream",
     "text": [
      "Some weights of RobertaModel were not initialized from the model checkpoint at roberta-base and are newly initialized: ['pooler.dense.bias', 'pooler.dense.weight']\n",
      "You should probably TRAIN this model on a down-stream task to be able to use it for predictions and inference.\n"
     ]
    },
    {
     "name": "stdout",
     "output_type": "stream",
     "text": [
      "Epoch 1/20\n"
     ]
    },
    {
     "name": "stderr",
     "output_type": "stream",
     "text": [
      "100%|██████████| 716/716 [01:03<00:00, 11.25it/s]\n"
     ]
    },
    {
     "name": "stdout",
     "output_type": "stream",
     "text": [
      "{'val_loss': 1.7286041037338535, 'val_accuracy': 0.5362318840579711, 'precision': 0.5893063115154399, 'recall': 0.5362318840579711, 'f1-score': 0.5260364220147098, 'macro_f1-score': 0.2645022787281277, 'balanced_accuracy': 0.3514617293011793, 'mcc': 0.39242207825821934, 'train_loss': 2.5883331804968126}\n",
      "Epoch 2/20\n"
     ]
    },
    {
     "name": "stderr",
     "output_type": "stream",
     "text": [
      "100%|██████████| 716/716 [01:03<00:00, 11.26it/s]\n"
     ]
    },
    {
     "name": "stdout",
     "output_type": "stream",
     "text": [
      "{'val_loss': 1.5300097385557687, 'val_accuracy': 0.5850495804729214, 'precision': 0.5957444992010263, 'recall': 0.5850495804729214, 'f1-score': 0.5783912783885689, 'macro_f1-score': 0.32547732420904124, 'balanced_accuracy': 0.36923915207005137, 'mcc': 0.4621299699322956, 'train_loss': 1.2804397523153428}\n",
      "Epoch 3/20\n"
     ]
    },
    {
     "name": "stderr",
     "output_type": "stream",
     "text": [
      "100%|██████████| 716/716 [01:03<00:00, 11.30it/s]\n"
     ]
    },
    {
     "name": "stdout",
     "output_type": "stream",
     "text": [
      "{'val_loss': 1.5176369780447425, 'val_accuracy': 0.6033562166285278, 'precision': 0.6303823201142328, 'recall': 0.6033562166285278, 'f1-score': 0.6035642107231283, 'macro_f1-score': 0.34132930599986366, 'balanced_accuracy': 0.39041625962677307, 'mcc': 0.49426082854500786, 'train_loss': 0.7613866706196656}\n",
      "Epoch 4/20\n"
     ]
    },
    {
     "name": "stderr",
     "output_type": "stream",
     "text": [
      "100%|██████████| 716/716 [01:03<00:00, 11.28it/s]\n"
     ]
    },
    {
     "name": "stdout",
     "output_type": "stream",
     "text": [
      "{'val_loss': 1.5737123453035586, 'val_accuracy': 0.593440122044241, 'precision': 0.6530959795506732, 'recall': 0.593440122044241, 'f1-score': 0.6102821195790005, 'macro_f1-score': 0.40030156348728446, 'balanced_accuracy': 0.42746009075322977, 'mcc': 0.4974156483300303, 'train_loss': 0.5076976132854902}\n",
      "Epoch 5/20\n"
     ]
    },
    {
     "name": "stderr",
     "output_type": "stream",
     "text": [
      "100%|██████████| 716/716 [01:03<00:00, 11.30it/s]\n"
     ]
    },
    {
     "name": "stdout",
     "output_type": "stream",
     "text": [
      "{'val_loss': 1.6759960804043748, 'val_accuracy': 0.593440122044241, 'precision': 0.6486295874149014, 'recall': 0.593440122044241, 'f1-score': 0.6005502559513709, 'macro_f1-score': 0.3725483135582333, 'balanced_accuracy': 0.39487032671872985, 'mcc': 0.49086493182733604, 'train_loss': 0.37373856882767637}\n",
      "Epoch 6/20\n"
     ]
    },
    {
     "name": "stderr",
     "output_type": "stream",
     "text": [
      "100%|██████████| 716/716 [01:03<00:00, 11.32it/s]\n"
     ]
    },
    {
     "name": "stdout",
     "output_type": "stream",
     "text": [
      "{'val_loss': 1.6418662961663268, 'val_accuracy': 0.6430205949656751, 'precision': 0.6659133915730724, 'recall': 0.6430205949656751, 'f1-score': 0.6440831547954368, 'macro_f1-score': 0.43541288008529794, 'balanced_accuracy': 0.4384657006605062, 'mcc': 0.53755191073855, 'train_loss': 0.29208788293408616}\n",
      "Epoch 7/20\n"
     ]
    },
    {
     "name": "stderr",
     "output_type": "stream",
     "text": [
      "100%|██████████| 716/716 [01:03<00:00, 11.28it/s]\n"
     ]
    },
    {
     "name": "stdout",
     "output_type": "stream",
     "text": [
      "{'val_loss': 1.5922299647113172, 'val_accuracy': 0.6460717009916095, 'precision': 0.6678747284562987, 'recall': 0.6460717009916095, 'f1-score': 0.6487909774918212, 'macro_f1-score': 0.43292939719545265, 'balanced_accuracy': 0.45730733613566094, 'mcc': 0.5450767848284374, 'train_loss': 0.2314409004490531}\n",
      "Epoch 8/20\n"
     ]
    },
    {
     "name": "stderr",
     "output_type": "stream",
     "text": [
      "100%|██████████| 716/716 [01:03<00:00, 11.29it/s]\n"
     ]
    },
    {
     "name": "stdout",
     "output_type": "stream",
     "text": [
      "{'val_loss': 1.7958687918215264, 'val_accuracy': 0.6140350877192983, 'precision': 0.6383384996727005, 'recall': 0.6140350877192983, 'f1-score': 0.613890345241876, 'macro_f1-score': 0.42203260278780125, 'balanced_accuracy': 0.4210728462211926, 'mcc': 0.5025577524226696, 'train_loss': 0.20261359759203196}\n",
      "Epoch 9/20\n"
     ]
    },
    {
     "name": "stderr",
     "output_type": "stream",
     "text": [
      "100%|██████████| 716/716 [01:03<00:00, 11.29it/s]\n"
     ]
    },
    {
     "name": "stdout",
     "output_type": "stream",
     "text": [
      "{'val_loss': 1.883012163929823, 'val_accuracy': 0.6193745232646835, 'precision': 0.650377571449667, 'recall': 0.6193745232646835, 'f1-score': 0.6183461505163151, 'macro_f1-score': 0.4223055156548922, 'balanced_accuracy': 0.42008183967846163, 'mcc': 0.5097408616824834, 'train_loss': 0.1654981148098179}\n",
      "Early stopping.\n",
      "\n",
      " === roberta-base + cnn + word2vec_eda Final 5-fold Cross-Validation Results ===\n",
      "val_loss: 1.7286\n",
      "val_accuracy: 0.6258\n",
      "precision: 0.6431\n",
      "recall: 0.6258\n",
      "f1-score: 0.6247\n",
      "macro_f1-score: 0.4017\n",
      "balanced_accuracy: 0.4150\n",
      "mcc: 0.5112\n",
      "train_loss: 0.3338\n",
      "total_seconds: 2954.0000\n",
      "total_time: 0 hrs 49 mins 14 secs\n",
      "▶ Running: roberta-base + lstm + word2vec_eda\n",
      "tokenizer is roberta-base\n",
      "Using device: cuda\n",
      "CUDA Available: True\n",
      "CUDA Device: NVIDIA GeForce RTX 5070 Ti\n",
      "Current GPU Memory Allocated: 0.02 GB\n",
      "Current GPU Memory Cached: 3.92 GB\n",
      "\n",
      "[Fold 1]\n",
      "🚀 Using Word2Vec + EDA (replace + deletion/swap) for data augmentation + under-sampling\n",
      "🔻 Under-sampling label 0: 2471 → 2000\n",
      "🔧 Augmenting label 1: 21 → 200 (+179)\n",
      "🔧 Augmenting label 2: 64 → 200 (+136)\n",
      "🔧 Augmenting label 3: 24 → 200 (+176)\n",
      "🔧 Augmenting label 4: 191 → 200 (+9)\n",
      "🔧 Augmenting label 5: 113 → 200 (+87)\n",
      "🔧 Augmenting label 6: 93 → 200 (+107)\n",
      "🔧 Augmenting label 7: 30 → 200 (+170)\n",
      "🔧 Augmenting label 8: 68 → 200 (+132)\n",
      "🔧 Augmenting label 9: 30 → 200 (+170)\n",
      "🔧 Augmenting label 10: 67 → 200 (+133)\n",
      "🔧 Augmenting label 11: 169 → 200 (+31)\n",
      "🔧 Augmenting label 12: 189 → 200 (+11)\n",
      "🔧 Augmenting label 13: 29 → 200 (+171)\n",
      "🔧 Augmenting label 14: 22 → 200 (+178)\n",
      "🔧 Augmenting label 15: 25 → 200 (+175)\n",
      "🔧 Augmenting label 16: 19 → 200 (+181)\n",
      "🔧 Augmenting label 17: 183 → 200 (+17)\n",
      "🔧 Augmenting label 18: 92 → 200 (+108)\n",
      "🔧 Augmenting label 19: 44 → 200 (+156)\n",
      "🔧 Augmenting label 20: 13 → 200 (+187)\n",
      "🔧 Augmenting label 21: 35 → 200 (+165)\n",
      "🔧 Augmenting label 22: 76 → 200 (+124)\n",
      "🔧 Augmenting label 23: 158 → 200 (+42)\n",
      "🔧 Augmenting label 24: 13 → 200 (+187)\n",
      "🔧 Augmenting label 25: 44 → 200 (+156)\n",
      "🔧 Augmenting label 26: 84 → 200 (+116)\n",
      "🔧 Augmenting label 27: 48 → 200 (+152)\n",
      "🔧 Augmenting label 28: 11 → 200 (+189)\n",
      "🔧 Augmenting label 29: 13 → 200 (+187)\n",
      "🔧 Augmenting label 30: 11 → 200 (+189)\n",
      "🔧 Augmenting label 31: 75 → 200 (+125)\n",
      "🔧 Augmenting label 32: 36 → 200 (+164)\n",
      "🔧 Augmenting label 33: 32 → 200 (+168)\n",
      "🔧 Augmenting label 34: 29 → 200 (+171)\n",
      "🔧 Augmenting label 35: 11 → 200 (+189)\n",
      "🔧 Augmenting label 36: 22 → 200 (+178)\n",
      "🔧 Augmenting label 37: 16 → 200 (+184)\n",
      "🔧 Augmenting label 38: 33 → 200 (+167)\n",
      "🔧 Augmenting label 39: 10 → 200 (+190)\n",
      "🔧 Augmenting label 40: 9 → 200 (+191)\n",
      "🔧 Augmenting label 41: 57 → 200 (+143)\n",
      "🔧 Augmenting label 42: 19 → 200 (+181)\n",
      "🔧 Augmenting label 43: 8 → 200 (+192)\n",
      "🔧 Augmenting label 44: 54 → 200 (+146)\n",
      "🔧 Augmenting label 46: 61 → 200 (+139)\n",
      "🔧 Augmenting label 47: 80 → 200 (+120)\n",
      "Label distribution after resampling:\n",
      "  label 0: 2000\n",
      "  label 1: 200\n",
      "  label 2: 200\n",
      "  label 3: 200\n",
      "  label 4: 200\n",
      "  label 5: 200\n",
      "  label 6: 200\n",
      "  label 7: 200\n",
      "  label 8: 200\n",
      "  label 9: 200\n",
      "  label 10: 200\n",
      "  label 11: 200\n",
      "  label 12: 200\n",
      "  label 13: 200\n",
      "  label 14: 200\n",
      "  label 15: 200\n",
      "  label 16: 200\n",
      "  label 17: 200\n",
      "  label 18: 200\n",
      "  label 19: 200\n",
      "  label 20: 200\n",
      "  label 21: 200\n",
      "  label 22: 200\n",
      "  label 23: 200\n",
      "  label 24: 200\n",
      "  label 25: 200\n",
      "  label 26: 200\n",
      "  label 27: 200\n",
      "  label 28: 200\n",
      "  label 29: 200\n",
      "  label 30: 200\n",
      "  label 31: 200\n",
      "  label 32: 200\n",
      "  label 33: 200\n",
      "  label 34: 200\n",
      "  label 35: 200\n",
      "  label 36: 200\n",
      "  label 37: 200\n",
      "  label 38: 200\n",
      "  label 39: 200\n",
      "  label 40: 200\n",
      "  label 41: 200\n",
      "  label 42: 200\n",
      "  label 43: 200\n",
      "  label 44: 200\n",
      "  label 45: 242\n",
      "  label 46: 200\n",
      "  label 47: 200\n",
      "model is roberta-base lstm\n"
     ]
    },
    {
     "name": "stderr",
     "output_type": "stream",
     "text": [
      "Some weights of RobertaModel were not initialized from the model checkpoint at roberta-base and are newly initialized: ['pooler.dense.bias', 'pooler.dense.weight']\n",
      "You should probably TRAIN this model on a down-stream task to be able to use it for predictions and inference.\n"
     ]
    },
    {
     "name": "stdout",
     "output_type": "stream",
     "text": [
      "Epoch 1/20\n"
     ]
    },
    {
     "name": "stderr",
     "output_type": "stream",
     "text": [
      "100%|██████████| 716/716 [01:08<00:00, 10.53it/s]\n"
     ]
    },
    {
     "name": "stdout",
     "output_type": "stream",
     "text": [
      "{'val_loss': 2.1334425345426653, 'val_accuracy': 0.4428353658536585, 'precision': 0.4169186641124532, 'recall': 0.4428353658536585, 'f1-score': 0.40887187460337987, 'macro_f1-score': 0.13148028961594885, 'balanced_accuracy': 0.2086547058772251, 'mcc': 0.250973982015233, 'train_loss': 3.101282471718069}\n",
      "Epoch 2/20\n"
     ]
    },
    {
     "name": "stderr",
     "output_type": "stream",
     "text": [
      "100%|██████████| 716/716 [01:07<00:00, 10.59it/s]\n"
     ]
    },
    {
     "name": "stdout",
     "output_type": "stream",
     "text": [
      "{'val_loss': 1.9562042987928159, 'val_accuracy': 0.44435975609756095, 'precision': 0.5012427187924472, 'recall': 0.44435975609756095, 'f1-score': 0.43558084569024785, 'macro_f1-score': 0.22200782100993874, 'balanced_accuracy': 0.30241722810809984, 'mcc': 0.27172585963609913, 'train_loss': 2.149702475224127}\n",
      "Epoch 3/20\n"
     ]
    },
    {
     "name": "stderr",
     "output_type": "stream",
     "text": [
      "100%|██████████| 716/716 [01:08<00:00, 10.52it/s]\n"
     ]
    },
    {
     "name": "stdout",
     "output_type": "stream",
     "text": [
      "{'val_loss': 1.7901428857954538, 'val_accuracy': 0.5182926829268293, 'precision': 0.5748606060261773, 'recall': 0.5182926829268293, 'f1-score': 0.5252095320160906, 'macro_f1-score': 0.2810268891095207, 'balanced_accuracy': 0.3793500355702424, 'mcc': 0.3857108274467926, 'train_loss': 1.658453101136165}\n",
      "Epoch 4/20\n"
     ]
    },
    {
     "name": "stderr",
     "output_type": "stream",
     "text": [
      "100%|██████████| 716/716 [01:07<00:00, 10.57it/s]\n"
     ]
    },
    {
     "name": "stdout",
     "output_type": "stream",
     "text": [
      "{'val_loss': 1.7783188403743069, 'val_accuracy': 0.5449695121951219, 'precision': 0.5526725729970988, 'recall': 0.5449695121951219, 'f1-score': 0.5292481441224652, 'macro_f1-score': 0.3158894178152518, 'balanced_accuracy': 0.4065717973419622, 'mcc': 0.3973198558229669, 'train_loss': 1.3818490604282092}\n",
      "Epoch 5/20\n"
     ]
    },
    {
     "name": "stderr",
     "output_type": "stream",
     "text": [
      "100%|██████████| 716/716 [01:08<00:00, 10.51it/s]\n"
     ]
    },
    {
     "name": "stdout",
     "output_type": "stream",
     "text": [
      "{'val_loss': 1.7443676645435937, 'val_accuracy': 0.5335365853658537, 'precision': 0.6058405042183248, 'recall': 0.5335365853658537, 'f1-score': 0.5424701119968456, 'macro_f1-score': 0.3203348113767545, 'balanced_accuracy': 0.40389713906101116, 'mcc': 0.41127053708121497, 'train_loss': 1.1258822242890656}\n",
      "Epoch 6/20\n"
     ]
    },
    {
     "name": "stderr",
     "output_type": "stream",
     "text": [
      "100%|██████████| 716/716 [01:08<00:00, 10.52it/s]\n"
     ]
    },
    {
     "name": "stdout",
     "output_type": "stream",
     "text": [
      "{'val_loss': 1.658002761079044, 'val_accuracy': 0.5792682926829268, 'precision': 0.6222913568201035, 'recall': 0.5792682926829268, 'f1-score': 0.5802210959403712, 'macro_f1-score': 0.35902758130871054, 'balanced_accuracy': 0.40483837921922144, 'mcc': 0.4490239860518712, 'train_loss': 0.9363666516442538}\n",
      "Epoch 7/20\n"
     ]
    },
    {
     "name": "stderr",
     "output_type": "stream",
     "text": [
      "100%|██████████| 716/716 [01:07<00:00, 10.56it/s]\n"
     ]
    },
    {
     "name": "stdout",
     "output_type": "stream",
     "text": [
      "{'val_loss': 1.807923543743971, 'val_accuracy': 0.5457317073170732, 'precision': 0.6170690023821032, 'recall': 0.5457317073170732, 'f1-score': 0.5606116618138877, 'macro_f1-score': 0.3502931696528024, 'balanced_accuracy': 0.4092975476215221, 'mcc': 0.42281297057029793, 'train_loss': 0.8027837683327038}\n",
      "Epoch 8/20\n"
     ]
    },
    {
     "name": "stderr",
     "output_type": "stream",
     "text": [
      "100%|██████████| 716/716 [01:08<00:00, 10.53it/s]\n"
     ]
    },
    {
     "name": "stdout",
     "output_type": "stream",
     "text": [
      "{'val_loss': 1.7550246693739078, 'val_accuracy': 0.5846036585365854, 'precision': 0.5970326743877161, 'recall': 0.5846036585365854, 'f1-score': 0.5730145359670183, 'macro_f1-score': 0.35023277069773684, 'balanced_accuracy': 0.40161828452606524, 'mcc': 0.4558306304152145, 'train_loss': 0.6937308750068508}\n",
      "Epoch 9/20\n"
     ]
    },
    {
     "name": "stderr",
     "output_type": "stream",
     "text": [
      "100%|██████████| 716/716 [01:07<00:00, 10.54it/s]\n"
     ]
    },
    {
     "name": "stdout",
     "output_type": "stream",
     "text": [
      "{'val_loss': 1.744979399369984, 'val_accuracy': 0.5975609756097561, 'precision': 0.6065576297438706, 'recall': 0.5975609756097561, 'f1-score': 0.5881935309402077, 'macro_f1-score': 0.35249120110974114, 'balanced_accuracy': 0.3827581080618911, 'mcc': 0.4639146018090393, 'train_loss': 0.6209719671435946}\n",
      "Early stopping.\n",
      "\n",
      "[Fold 2]\n",
      "🚀 Using Word2Vec + EDA (replace + deletion/swap) for data augmentation + under-sampling\n",
      "🔻 Under-sampling label 0: 2471 → 2000\n",
      "🔧 Augmenting label 1: 22 → 200 (+178)\n",
      "🔧 Augmenting label 2: 64 → 200 (+136)\n",
      "🔧 Augmenting label 3: 24 → 200 (+176)\n",
      "🔧 Augmenting label 4: 190 → 200 (+10)\n",
      "🔧 Augmenting label 5: 113 → 200 (+87)\n",
      "🔧 Augmenting label 6: 93 → 200 (+107)\n",
      "🔧 Augmenting label 7: 30 → 200 (+170)\n",
      "🔧 Augmenting label 8: 68 → 200 (+132)\n",
      "🔧 Augmenting label 9: 30 → 200 (+170)\n",
      "🔧 Augmenting label 10: 67 → 200 (+133)\n",
      "🔧 Augmenting label 11: 169 → 200 (+31)\n",
      "🔧 Augmenting label 12: 189 → 200 (+11)\n",
      "🔧 Augmenting label 13: 29 → 200 (+171)\n",
      "🔧 Augmenting label 14: 23 → 200 (+177)\n",
      "🔧 Augmenting label 15: 24 → 200 (+176)\n",
      "🔧 Augmenting label 16: 20 → 200 (+180)\n",
      "🔧 Augmenting label 17: 182 → 200 (+18)\n",
      "🔧 Augmenting label 18: 92 → 200 (+108)\n",
      "🔧 Augmenting label 19: 44 → 200 (+156)\n",
      "🔧 Augmenting label 20: 13 → 200 (+187)\n",
      "🔧 Augmenting label 21: 36 → 200 (+164)\n",
      "🔧 Augmenting label 22: 76 → 200 (+124)\n",
      "🔧 Augmenting label 23: 157 → 200 (+43)\n",
      "🔧 Augmenting label 24: 12 → 200 (+188)\n",
      "🔧 Augmenting label 25: 44 → 200 (+156)\n",
      "🔧 Augmenting label 26: 84 → 200 (+116)\n",
      "🔧 Augmenting label 27: 48 → 200 (+152)\n",
      "🔧 Augmenting label 28: 12 → 200 (+188)\n",
      "🔧 Augmenting label 29: 12 → 200 (+188)\n",
      "🔧 Augmenting label 30: 12 → 200 (+188)\n",
      "🔧 Augmenting label 31: 75 → 200 (+125)\n",
      "🔧 Augmenting label 32: 36 → 200 (+164)\n",
      "🔧 Augmenting label 33: 31 → 200 (+169)\n",
      "🔧 Augmenting label 34: 29 → 200 (+171)\n",
      "🔧 Augmenting label 35: 12 → 200 (+188)\n",
      "🔧 Augmenting label 36: 21 → 200 (+179)\n",
      "🔧 Augmenting label 37: 16 → 200 (+184)\n",
      "🔧 Augmenting label 38: 33 → 200 (+167)\n",
      "🔧 Augmenting label 39: 11 → 200 (+189)\n",
      "🔧 Augmenting label 40: 8 → 200 (+192)\n",
      "🔧 Augmenting label 41: 57 → 200 (+143)\n",
      "🔧 Augmenting label 42: 19 → 200 (+181)\n",
      "🔧 Augmenting label 43: 9 → 200 (+191)\n",
      "🔧 Augmenting label 44: 54 → 200 (+146)\n",
      "🔧 Augmenting label 46: 62 → 200 (+138)\n",
      "🔧 Augmenting label 47: 80 → 200 (+120)\n",
      "Label distribution after resampling:\n",
      "  label 0: 2000\n",
      "  label 1: 200\n",
      "  label 2: 200\n",
      "  label 3: 200\n",
      "  label 4: 200\n",
      "  label 5: 200\n",
      "  label 6: 200\n",
      "  label 7: 200\n",
      "  label 8: 200\n",
      "  label 9: 200\n",
      "  label 10: 200\n",
      "  label 11: 200\n",
      "  label 12: 200\n",
      "  label 13: 200\n",
      "  label 14: 200\n",
      "  label 15: 200\n",
      "  label 16: 200\n",
      "  label 17: 200\n",
      "  label 18: 200\n",
      "  label 19: 200\n",
      "  label 20: 200\n",
      "  label 21: 200\n",
      "  label 22: 200\n",
      "  label 23: 200\n",
      "  label 24: 200\n",
      "  label 25: 200\n",
      "  label 26: 200\n",
      "  label 27: 200\n",
      "  label 28: 200\n",
      "  label 29: 200\n",
      "  label 30: 200\n",
      "  label 31: 200\n",
      "  label 32: 200\n",
      "  label 33: 200\n",
      "  label 34: 200\n",
      "  label 35: 200\n",
      "  label 36: 200\n",
      "  label 37: 200\n",
      "  label 38: 200\n",
      "  label 39: 200\n",
      "  label 40: 200\n",
      "  label 41: 200\n",
      "  label 42: 200\n",
      "  label 43: 200\n",
      "  label 44: 200\n",
      "  label 45: 242\n",
      "  label 46: 200\n",
      "  label 47: 200\n",
      "model is roberta-base lstm\n"
     ]
    },
    {
     "name": "stderr",
     "output_type": "stream",
     "text": [
      "Some weights of RobertaModel were not initialized from the model checkpoint at roberta-base and are newly initialized: ['pooler.dense.bias', 'pooler.dense.weight']\n",
      "You should probably TRAIN this model on a down-stream task to be able to use it for predictions and inference.\n"
     ]
    },
    {
     "name": "stdout",
     "output_type": "stream",
     "text": [
      "Epoch 1/20\n"
     ]
    },
    {
     "name": "stderr",
     "output_type": "stream",
     "text": [
      "100%|██████████| 716/716 [01:08<00:00, 10.51it/s]\n"
     ]
    },
    {
     "name": "stdout",
     "output_type": "stream",
     "text": [
      "{'val_loss': 1.994579124014552, 'val_accuracy': 0.4919908466819222, 'precision': 0.4088639995045643, 'recall': 0.4919908466819222, 'f1-score': 0.42352187203779473, 'macro_f1-score': 0.13066165408935315, 'balanced_accuracy': 0.1885127663788887, 'mcc': 0.27956347132175036, 'train_loss': 3.003252617806696}\n",
      "Epoch 2/20\n"
     ]
    },
    {
     "name": "stderr",
     "output_type": "stream",
     "text": [
      "100%|██████████| 716/716 [01:08<00:00, 10.51it/s]\n"
     ]
    },
    {
     "name": "stdout",
     "output_type": "stream",
     "text": [
      "{'val_loss': 1.764885011242657, 'val_accuracy': 0.5232646834477498, 'precision': 0.5432974008760257, 'recall': 0.5232646834477498, 'f1-score': 0.49746990449870104, 'macro_f1-score': 0.23491646003899117, 'balanced_accuracy': 0.33076844004863887, 'mcc': 0.3636214632430058, 'train_loss': 2.0691551737612186}\n",
      "Epoch 3/20\n"
     ]
    },
    {
     "name": "stderr",
     "output_type": "stream",
     "text": [
      "100%|██████████| 716/716 [01:07<00:00, 10.56it/s]\n"
     ]
    },
    {
     "name": "stdout",
     "output_type": "stream",
     "text": [
      "{'val_loss': 1.7693637362340602, 'val_accuracy': 0.528604118993135, 'precision': 0.561264894725942, 'recall': 0.528604118993135, 'f1-score': 0.5116913866257196, 'macro_f1-score': 0.2560573730384059, 'balanced_accuracy': 0.3238429593782895, 'mcc': 0.37946535916943736, 'train_loss': 1.6459124645207848}\n",
      "Epoch 4/20\n"
     ]
    },
    {
     "name": "stderr",
     "output_type": "stream",
     "text": [
      "100%|██████████| 716/716 [01:08<00:00, 10.52it/s]\n"
     ]
    },
    {
     "name": "stdout",
     "output_type": "stream",
     "text": [
      "{'val_loss': 1.6342174316324838, 'val_accuracy': 0.5652173913043478, 'precision': 0.5755618943169065, 'recall': 0.5652173913043478, 'f1-score': 0.5523287904082376, 'macro_f1-score': 0.324646236702452, 'balanced_accuracy': 0.3777386512423861, 'mcc': 0.4245400628130831, 'train_loss': 1.3858826260326962}\n",
      "Epoch 5/20\n"
     ]
    },
    {
     "name": "stderr",
     "output_type": "stream",
     "text": [
      "100%|██████████| 716/716 [01:07<00:00, 10.54it/s]\n"
     ]
    },
    {
     "name": "stdout",
     "output_type": "stream",
     "text": [
      "{'val_loss': 1.593520429803104, 'val_accuracy': 0.6003051106025934, 'precision': 0.6017171602828143, 'recall': 0.6003051106025934, 'f1-score': 0.5716838725688392, 'macro_f1-score': 0.33318510743835555, 'balanced_accuracy': 0.368838796117708, 'mcc': 0.45463107253174584, 'train_loss': 1.1059649220808259}\n",
      "Epoch 6/20\n"
     ]
    },
    {
     "name": "stderr",
     "output_type": "stream",
     "text": [
      "100%|██████████| 716/716 [01:07<00:00, 10.53it/s]\n"
     ]
    },
    {
     "name": "stdout",
     "output_type": "stream",
     "text": [
      "{'val_loss': 1.53697856024998, 'val_accuracy': 0.6102212051868803, 'precision': 0.6104874353989908, 'recall': 0.6102212051868803, 'f1-score': 0.5838968106440645, 'macro_f1-score': 0.33999157304894984, 'balanced_accuracy': 0.3682700617192672, 'mcc': 0.4698216304590601, 'train_loss': 0.9114052847277518}\n",
      "Epoch 7/20\n"
     ]
    },
    {
     "name": "stderr",
     "output_type": "stream",
     "text": [
      "100%|██████████| 716/716 [01:07<00:00, 10.54it/s]\n"
     ]
    },
    {
     "name": "stdout",
     "output_type": "stream",
     "text": [
      "{'val_loss': 1.635293654915763, 'val_accuracy': 0.5850495804729214, 'precision': 0.6202237332431958, 'recall': 0.5850495804729214, 'f1-score': 0.5854270211588297, 'macro_f1-score': 0.3359021224694552, 'balanced_accuracy': 0.36462733616063453, 'mcc': 0.45547170805391546, 'train_loss': 0.7736249711447755}\n",
      "Epoch 8/20\n"
     ]
    },
    {
     "name": "stderr",
     "output_type": "stream",
     "text": [
      "100%|██████████| 716/716 [01:07<00:00, 10.55it/s]\n"
     ]
    },
    {
     "name": "stdout",
     "output_type": "stream",
     "text": [
      "{'val_loss': 1.6149627668101614, 'val_accuracy': 0.6109839816933639, 'precision': 0.6022778903954726, 'recall': 0.6109839816933639, 'f1-score': 0.5911968059001897, 'macro_f1-score': 0.35093145313868224, 'balanced_accuracy': 0.3658513087516655, 'mcc': 0.47905413964496496, 'train_loss': 0.6546020645793923}\n",
      "Epoch 9/20\n"
     ]
    },
    {
     "name": "stderr",
     "output_type": "stream",
     "text": [
      "100%|██████████| 716/716 [01:08<00:00, 10.52it/s]\n"
     ]
    },
    {
     "name": "stdout",
     "output_type": "stream",
     "text": [
      "{'val_loss': 1.606854250518287, 'val_accuracy': 0.6086956521739131, 'precision': 0.6251734889013056, 'recall': 0.6086956521739131, 'f1-score': 0.6037529179594242, 'macro_f1-score': 0.35278173678201935, 'balanced_accuracy': 0.3955513464235944, 'mcc': 0.4867279639485898, 'train_loss': 0.5882250007044253}\n",
      "Epoch 10/20\n"
     ]
    },
    {
     "name": "stderr",
     "output_type": "stream",
     "text": [
      "100%|██████████| 716/716 [01:07<00:00, 10.54it/s]\n"
     ]
    },
    {
     "name": "stdout",
     "output_type": "stream",
     "text": [
      "{'val_loss': 1.6230430835630836, 'val_accuracy': 0.6033562166285278, 'precision': 0.5965834128009079, 'recall': 0.6033562166285278, 'f1-score': 0.591766084405676, 'macro_f1-score': 0.3504621317278431, 'balanced_accuracy': 0.37559088423362247, 'mcc': 0.4729368244115937, 'train_loss': 0.5292985119737227}\n",
      "Epoch 11/20\n"
     ]
    },
    {
     "name": "stderr",
     "output_type": "stream",
     "text": [
      "100%|██████████| 716/716 [01:08<00:00, 10.52it/s]\n"
     ]
    },
    {
     "name": "stdout",
     "output_type": "stream",
     "text": [
      "{'val_loss': 1.687092827587593, 'val_accuracy': 0.6086956521739131, 'precision': 0.620211175685858, 'recall': 0.6086956521739131, 'f1-score': 0.6060941321358136, 'macro_f1-score': 0.36934382251530096, 'balanced_accuracy': 0.39761723832844686, 'mcc': 0.49486002752456004, 'train_loss': 0.479568213031903}\n",
      "Epoch 12/20\n"
     ]
    },
    {
     "name": "stderr",
     "output_type": "stream",
     "text": [
      "100%|██████████| 716/716 [01:07<00:00, 10.56it/s]\n"
     ]
    },
    {
     "name": "stdout",
     "output_type": "stream",
     "text": [
      "{'val_loss': 1.7254484928235776, 'val_accuracy': 0.6064073226544623, 'precision': 0.6133375925250942, 'recall': 0.6064073226544623, 'f1-score': 0.6040723820833622, 'macro_f1-score': 0.35077550519004763, 'balanced_accuracy': 0.37524509241074416, 'mcc': 0.48902265032456776, 'train_loss': 0.38929745552582695}\n",
      "Epoch 13/20\n"
     ]
    },
    {
     "name": "stderr",
     "output_type": "stream",
     "text": [
      "100%|██████████| 716/716 [01:07<00:00, 10.58it/s]\n"
     ]
    },
    {
     "name": "stdout",
     "output_type": "stream",
     "text": [
      "{'val_loss': 1.7197413124689243, 'val_accuracy': 0.6323417238749046, 'precision': 0.6212915879247332, 'recall': 0.6323417238749046, 'f1-score': 0.6113235118986955, 'macro_f1-score': 0.33427642830858123, 'balanced_accuracy': 0.3451333126569427, 'mcc': 0.49946138346394875, 'train_loss': 0.4035245815406465}\n",
      "Epoch 14/20\n"
     ]
    },
    {
     "name": "stderr",
     "output_type": "stream",
     "text": [
      "100%|██████████| 716/716 [01:08<00:00, 10.51it/s]\n"
     ]
    },
    {
     "name": "stdout",
     "output_type": "stream",
     "text": [
      "{'val_loss': 1.8164175312693527, 'val_accuracy': 0.5942028985507246, 'precision': 0.6385500833849286, 'recall': 0.5942028985507246, 'f1-score': 0.6011430671004478, 'macro_f1-score': 0.35750275648443397, 'balanced_accuracy': 0.3995105713295985, 'mcc': 0.4826209767089494, 'train_loss': 0.3082283012446682}\n",
      "Early stopping.\n",
      "\n",
      "[Fold 3]\n",
      "🚀 Using Word2Vec + EDA (replace + deletion/swap) for data augmentation + under-sampling\n",
      "🔻 Under-sampling label 0: 2471 → 2000\n",
      "🔧 Augmenting label 1: 22 → 200 (+178)\n",
      "🔧 Augmenting label 2: 64 → 200 (+136)\n",
      "🔧 Augmenting label 3: 24 → 200 (+176)\n",
      "🔧 Augmenting label 4: 190 → 200 (+10)\n",
      "🔧 Augmenting label 5: 113 → 200 (+87)\n",
      "🔧 Augmenting label 6: 93 → 200 (+107)\n",
      "🔧 Augmenting label 7: 30 → 200 (+170)\n",
      "🔧 Augmenting label 8: 68 → 200 (+132)\n",
      "🔧 Augmenting label 9: 30 → 200 (+170)\n",
      "🔧 Augmenting label 10: 67 → 200 (+133)\n",
      "🔧 Augmenting label 11: 169 → 200 (+31)\n",
      "🔧 Augmenting label 12: 190 → 200 (+10)\n",
      "🔧 Augmenting label 13: 28 → 200 (+172)\n",
      "🔧 Augmenting label 14: 23 → 200 (+177)\n",
      "🔧 Augmenting label 15: 25 → 200 (+175)\n",
      "🔧 Augmenting label 16: 19 → 200 (+181)\n",
      "🔧 Augmenting label 17: 182 → 200 (+18)\n",
      "🔧 Augmenting label 18: 92 → 200 (+108)\n",
      "🔧 Augmenting label 19: 44 → 200 (+156)\n",
      "🔧 Augmenting label 20: 14 → 200 (+186)\n",
      "🔧 Augmenting label 21: 35 → 200 (+165)\n",
      "🔧 Augmenting label 22: 76 → 200 (+124)\n",
      "🔧 Augmenting label 23: 157 → 200 (+43)\n",
      "🔧 Augmenting label 24: 13 → 200 (+187)\n",
      "🔧 Augmenting label 25: 44 → 200 (+156)\n",
      "🔧 Augmenting label 26: 84 → 200 (+116)\n",
      "🔧 Augmenting label 27: 48 → 200 (+152)\n",
      "🔧 Augmenting label 28: 11 → 200 (+189)\n",
      "🔧 Augmenting label 29: 13 → 200 (+187)\n",
      "🔧 Augmenting label 30: 11 → 200 (+189)\n",
      "🔧 Augmenting label 31: 76 → 200 (+124)\n",
      "🔧 Augmenting label 32: 36 → 200 (+164)\n",
      "🔧 Augmenting label 33: 31 → 200 (+169)\n",
      "🔧 Augmenting label 34: 30 → 200 (+170)\n",
      "🔧 Augmenting label 35: 11 → 200 (+189)\n",
      "🔧 Augmenting label 36: 21 → 200 (+179)\n",
      "🔧 Augmenting label 37: 16 → 200 (+184)\n",
      "🔧 Augmenting label 38: 32 → 200 (+168)\n",
      "🔧 Augmenting label 39: 11 → 200 (+189)\n",
      "🔧 Augmenting label 40: 9 → 200 (+191)\n",
      "🔧 Augmenting label 41: 57 → 200 (+143)\n",
      "🔧 Augmenting label 42: 18 → 200 (+182)\n",
      "🔧 Augmenting label 43: 9 → 200 (+191)\n",
      "🔧 Augmenting label 44: 55 → 200 (+145)\n",
      "🔧 Augmenting label 46: 62 → 200 (+138)\n",
      "🔧 Augmenting label 47: 80 → 200 (+120)\n",
      "Label distribution after resampling:\n",
      "  label 0: 2000\n",
      "  label 1: 200\n",
      "  label 2: 200\n",
      "  label 3: 200\n",
      "  label 4: 200\n",
      "  label 5: 200\n",
      "  label 6: 200\n",
      "  label 7: 200\n",
      "  label 8: 200\n",
      "  label 9: 200\n",
      "  label 10: 200\n",
      "  label 11: 200\n",
      "  label 12: 200\n",
      "  label 13: 200\n",
      "  label 14: 200\n",
      "  label 15: 200\n",
      "  label 16: 200\n",
      "  label 17: 200\n",
      "  label 18: 200\n",
      "  label 19: 200\n",
      "  label 20: 200\n",
      "  label 21: 200\n",
      "  label 22: 200\n",
      "  label 23: 200\n",
      "  label 24: 200\n",
      "  label 25: 200\n",
      "  label 26: 200\n",
      "  label 27: 200\n",
      "  label 28: 200\n",
      "  label 29: 200\n",
      "  label 30: 200\n",
      "  label 31: 200\n",
      "  label 32: 200\n",
      "  label 33: 200\n",
      "  label 34: 200\n",
      "  label 35: 200\n",
      "  label 36: 200\n",
      "  label 37: 200\n",
      "  label 38: 200\n",
      "  label 39: 200\n",
      "  label 40: 200\n",
      "  label 41: 200\n",
      "  label 42: 200\n",
      "  label 43: 200\n",
      "  label 44: 200\n",
      "  label 45: 241\n",
      "  label 46: 200\n",
      "  label 47: 200\n",
      "model is roberta-base lstm\n"
     ]
    },
    {
     "name": "stderr",
     "output_type": "stream",
     "text": [
      "Some weights of RobertaModel were not initialized from the model checkpoint at roberta-base and are newly initialized: ['pooler.dense.bias', 'pooler.dense.weight']\n",
      "You should probably TRAIN this model on a down-stream task to be able to use it for predictions and inference.\n"
     ]
    },
    {
     "name": "stdout",
     "output_type": "stream",
     "text": [
      "Epoch 1/20\n"
     ]
    },
    {
     "name": "stderr",
     "output_type": "stream",
     "text": [
      "100%|██████████| 716/716 [01:07<00:00, 10.54it/s]\n"
     ]
    },
    {
     "name": "stdout",
     "output_type": "stream",
     "text": [
      "{'val_loss': 2.191779950769936, 'val_accuracy': 0.4462242562929062, 'precision': 0.4422932424496328, 'recall': 0.4462242562929062, 'f1-score': 0.42896034174032216, 'macro_f1-score': 0.14537012312007255, 'balanced_accuracy': 0.21158667535102418, 'mcc': 0.2799648771071458, 'train_loss': 3.0661969824210225}\n",
      "Epoch 2/20\n"
     ]
    },
    {
     "name": "stderr",
     "output_type": "stream",
     "text": [
      "100%|██████████| 716/716 [01:08<00:00, 10.50it/s]\n"
     ]
    },
    {
     "name": "stdout",
     "output_type": "stream",
     "text": [
      "{'val_loss': 1.8760239242053613, 'val_accuracy': 0.5156369183829138, 'precision': 0.5386667284932695, 'recall': 0.5156369183829138, 'f1-score': 0.4848210467556204, 'macro_f1-score': 0.22965999738859832, 'balanced_accuracy': 0.28878421428016704, 'mcc': 0.34528118272200664, 'train_loss': 2.180420403373974}\n",
      "Epoch 3/20\n"
     ]
    },
    {
     "name": "stderr",
     "output_type": "stream",
     "text": [
      "100%|██████████| 716/716 [01:08<00:00, 10.53it/s]\n"
     ]
    },
    {
     "name": "stdout",
     "output_type": "stream",
     "text": [
      "{'val_loss': 1.7981896385913942, 'val_accuracy': 0.5461479786422578, 'precision': 0.5268852504449761, 'recall': 0.5461479786422578, 'f1-score': 0.5075162258313256, 'macro_f1-score': 0.25645712985720087, 'balanced_accuracy': 0.29802673325313844, 'mcc': 0.37368481448992763, 'train_loss': 1.7398103261626632}\n",
      "Epoch 4/20\n"
     ]
    },
    {
     "name": "stderr",
     "output_type": "stream",
     "text": [
      "100%|██████████| 716/716 [01:07<00:00, 10.55it/s]\n"
     ]
    },
    {
     "name": "stdout",
     "output_type": "stream",
     "text": [
      "{'val_loss': 1.8801113592415322, 'val_accuracy': 0.4996186117467582, 'precision': 0.5643841317045387, 'recall': 0.4996186117467582, 'f1-score': 0.5143916665372833, 'macro_f1-score': 0.2912739202577719, 'balanced_accuracy': 0.3623709292730619, 'mcc': 0.3695579327218253, 'train_loss': 1.41314894410485}\n",
      "Epoch 5/20\n"
     ]
    },
    {
     "name": "stderr",
     "output_type": "stream",
     "text": [
      "100%|██████████| 716/716 [01:08<00:00, 10.48it/s]\n"
     ]
    },
    {
     "name": "stdout",
     "output_type": "stream",
     "text": [
      "{'val_loss': 1.7625677022265225, 'val_accuracy': 0.5377574370709383, 'precision': 0.5970890002108089, 'recall': 0.5377574370709383, 'f1-score': 0.543919343094305, 'macro_f1-score': 0.3252767728636034, 'balanced_accuracy': 0.37772483186161665, 'mcc': 0.4076458872792232, 'train_loss': 1.2827146002117482}\n",
      "Epoch 6/20\n"
     ]
    },
    {
     "name": "stderr",
     "output_type": "stream",
     "text": [
      "100%|██████████| 716/716 [01:08<00:00, 10.52it/s]\n"
     ]
    },
    {
     "name": "stdout",
     "output_type": "stream",
     "text": [
      "{'val_loss': 1.749764668868809, 'val_accuracy': 0.5522501906941266, 'precision': 0.5620961095001964, 'recall': 0.5522501906941266, 'f1-score': 0.5446575275154362, 'macro_f1-score': 0.32237876393691794, 'balanced_accuracy': 0.3472440888213246, 'mcc': 0.40395198359981194, 'train_loss': 1.0553200395267937}\n",
      "Epoch 7/20\n"
     ]
    },
    {
     "name": "stderr",
     "output_type": "stream",
     "text": [
      "100%|██████████| 716/716 [01:07<00:00, 10.59it/s]\n"
     ]
    },
    {
     "name": "stdout",
     "output_type": "stream",
     "text": [
      "{'val_loss': 1.692933472191415, 'val_accuracy': 0.5736079328756675, 'precision': 0.5722531685576595, 'recall': 0.5736079328756675, 'f1-score': 0.56151297225209, 'macro_f1-score': 0.3214120972041999, 'balanced_accuracy': 0.34628292441366665, 'mcc': 0.430958880699371, 'train_loss': 0.9131912474817071}\n",
      "Epoch 8/20\n"
     ]
    },
    {
     "name": "stderr",
     "output_type": "stream",
     "text": [
      "100%|██████████| 716/716 [01:08<00:00, 10.51it/s]\n"
     ]
    },
    {
     "name": "stdout",
     "output_type": "stream",
     "text": [
      "{'val_loss': 1.6776723229303592, 'val_accuracy': 0.5797101449275363, 'precision': 0.5897172048991393, 'recall': 0.5797101449275363, 'f1-score': 0.5733319506561886, 'macro_f1-score': 0.3382771738505486, 'balanced_accuracy': 0.35281728915995547, 'mcc': 0.4424534830093384, 'train_loss': 0.8000559515668361}\n",
      "Epoch 9/20\n"
     ]
    },
    {
     "name": "stderr",
     "output_type": "stream",
     "text": [
      "100%|██████████| 716/716 [01:07<00:00, 10.54it/s]\n"
     ]
    },
    {
     "name": "stdout",
     "output_type": "stream",
     "text": [
      "{'val_loss': 1.795079681386308, 'val_accuracy': 0.5545385202135774, 'precision': 0.5793098173387012, 'recall': 0.5545385202135774, 'f1-score': 0.5553351562490005, 'macro_f1-score': 0.29400791647342117, 'balanced_accuracy': 0.3151373284065078, 'mcc': 0.41520020931596685, 'train_loss': 0.7162163386969468}\n",
      "Epoch 10/20\n"
     ]
    },
    {
     "name": "stderr",
     "output_type": "stream",
     "text": [
      "100%|██████████| 716/716 [01:08<00:00, 10.49it/s]\n"
     ]
    },
    {
     "name": "stdout",
     "output_type": "stream",
     "text": [
      "{'val_loss': 1.790693395748371, 'val_accuracy': 0.5720823798627003, 'precision': 0.6183137563327031, 'recall': 0.5720823798627003, 'f1-score': 0.5789628285131831, 'macro_f1-score': 0.37755153367047267, 'balanced_accuracy': 0.39407537753255406, 'mcc': 0.448106406218473, 'train_loss': 0.6429528705255446}\n",
      "Epoch 11/20\n"
     ]
    },
    {
     "name": "stderr",
     "output_type": "stream",
     "text": [
      "100%|██████████| 716/716 [01:08<00:00, 10.49it/s]\n"
     ]
    },
    {
     "name": "stdout",
     "output_type": "stream",
     "text": [
      "{'val_loss': 1.816567883804077, 'val_accuracy': 0.597254004576659, 'precision': 0.571457758638285, 'recall': 0.597254004576659, 'f1-score': 0.5587508739203688, 'macro_f1-score': 0.29345844417899486, 'balanced_accuracy': 0.2931023864654626, 'mcc': 0.43674025871633093, 'train_loss': 0.5677920899421559}\n",
      "Epoch 12/20\n"
     ]
    },
    {
     "name": "stderr",
     "output_type": "stream",
     "text": [
      "100%|██████████| 716/716 [01:08<00:00, 10.51it/s]\n"
     ]
    },
    {
     "name": "stdout",
     "output_type": "stream",
     "text": [
      "{'val_loss': 1.8341948324587287, 'val_accuracy': 0.5949656750572082, 'precision': 0.5937834186598129, 'recall': 0.5949656750572082, 'f1-score': 0.5799643576808051, 'macro_f1-score': 0.3370269987084955, 'balanced_accuracy': 0.3478555425362619, 'mcc': 0.4519711338168233, 'train_loss': 0.509117705633021}\n",
      "Epoch 13/20\n"
     ]
    },
    {
     "name": "stderr",
     "output_type": "stream",
     "text": [
      "100%|██████████| 716/716 [01:07<00:00, 10.54it/s]\n"
     ]
    },
    {
     "name": "stdout",
     "output_type": "stream",
     "text": [
      "{'val_loss': 1.8259874549580783, 'val_accuracy': 0.5728451563691839, 'precision': 0.5870447788532356, 'recall': 0.5728451563691839, 'f1-score': 0.5717316444120751, 'macro_f1-score': 0.33395598778320545, 'balanced_accuracy': 0.3508754529161348, 'mcc': 0.4418641394340102, 'train_loss': 0.4504699002972195}\n",
      "Early stopping.\n",
      "\n",
      "[Fold 4]\n",
      "🚀 Using Word2Vec + EDA (replace + deletion/swap) for data augmentation + under-sampling\n",
      "🔻 Under-sampling label 0: 2471 → 2000\n",
      "🔧 Augmenting label 1: 22 → 200 (+178)\n",
      "🔧 Augmenting label 2: 64 → 200 (+136)\n",
      "🔧 Augmenting label 3: 24 → 200 (+176)\n",
      "🔧 Augmenting label 4: 190 → 200 (+10)\n",
      "🔧 Augmenting label 5: 113 → 200 (+87)\n",
      "🔧 Augmenting label 6: 93 → 200 (+107)\n",
      "🔧 Augmenting label 7: 31 → 200 (+169)\n",
      "🔧 Augmenting label 8: 68 → 200 (+132)\n",
      "🔧 Augmenting label 9: 29 → 200 (+171)\n",
      "🔧 Augmenting label 10: 67 → 200 (+133)\n",
      "🔧 Augmenting label 11: 169 → 200 (+31)\n",
      "🔧 Augmenting label 12: 190 → 200 (+10)\n",
      "🔧 Augmenting label 13: 29 → 200 (+171)\n",
      "🔧 Augmenting label 14: 22 → 200 (+178)\n",
      "🔧 Augmenting label 15: 25 → 200 (+175)\n",
      "🔧 Augmenting label 16: 19 → 200 (+181)\n",
      "🔧 Augmenting label 17: 182 → 200 (+18)\n",
      "🔧 Augmenting label 18: 92 → 200 (+108)\n",
      "🔧 Augmenting label 19: 44 → 200 (+156)\n",
      "🔧 Augmenting label 20: 14 → 200 (+186)\n",
      "🔧 Augmenting label 21: 35 → 200 (+165)\n",
      "🔧 Augmenting label 22: 76 → 200 (+124)\n",
      "🔧 Augmenting label 23: 158 → 200 (+42)\n",
      "🔧 Augmenting label 24: 13 → 200 (+187)\n",
      "🔧 Augmenting label 25: 44 → 200 (+156)\n",
      "🔧 Augmenting label 26: 84 → 200 (+116)\n",
      "🔧 Augmenting label 27: 48 → 200 (+152)\n",
      "🔧 Augmenting label 28: 11 → 200 (+189)\n",
      "🔧 Augmenting label 29: 13 → 200 (+187)\n",
      "🔧 Augmenting label 30: 11 → 200 (+189)\n",
      "🔧 Augmenting label 31: 75 → 200 (+125)\n",
      "🔧 Augmenting label 32: 36 → 200 (+164)\n",
      "🔧 Augmenting label 33: 31 → 200 (+169)\n",
      "🔧 Augmenting label 34: 30 → 200 (+170)\n",
      "🔧 Augmenting label 35: 11 → 200 (+189)\n",
      "🔧 Augmenting label 36: 22 → 200 (+178)\n",
      "🔧 Augmenting label 37: 16 → 200 (+184)\n",
      "🔧 Augmenting label 38: 33 → 200 (+167)\n",
      "🔧 Augmenting label 39: 10 → 200 (+190)\n",
      "🔧 Augmenting label 40: 9 → 200 (+191)\n",
      "🔧 Augmenting label 41: 56 → 200 (+144)\n",
      "🔧 Augmenting label 42: 18 → 200 (+182)\n",
      "🔧 Augmenting label 43: 9 → 200 (+191)\n",
      "🔧 Augmenting label 44: 55 → 200 (+145)\n",
      "🔧 Augmenting label 46: 62 → 200 (+138)\n",
      "🔧 Augmenting label 47: 80 → 200 (+120)\n",
      "Label distribution after resampling:\n",
      "  label 0: 2000\n",
      "  label 1: 200\n",
      "  label 2: 200\n",
      "  label 3: 200\n",
      "  label 4: 200\n",
      "  label 5: 200\n",
      "  label 6: 200\n",
      "  label 7: 200\n",
      "  label 8: 200\n",
      "  label 9: 200\n",
      "  label 10: 200\n",
      "  label 11: 200\n",
      "  label 12: 200\n",
      "  label 13: 200\n",
      "  label 14: 200\n",
      "  label 15: 200\n",
      "  label 16: 200\n",
      "  label 17: 200\n",
      "  label 18: 200\n",
      "  label 19: 200\n",
      "  label 20: 200\n",
      "  label 21: 200\n",
      "  label 22: 200\n",
      "  label 23: 200\n",
      "  label 24: 200\n",
      "  label 25: 200\n",
      "  label 26: 200\n",
      "  label 27: 200\n",
      "  label 28: 200\n",
      "  label 29: 200\n",
      "  label 30: 200\n",
      "  label 31: 200\n",
      "  label 32: 200\n",
      "  label 33: 200\n",
      "  label 34: 200\n",
      "  label 35: 200\n",
      "  label 36: 200\n",
      "  label 37: 200\n",
      "  label 38: 200\n",
      "  label 39: 200\n",
      "  label 40: 200\n",
      "  label 41: 200\n",
      "  label 42: 200\n",
      "  label 43: 200\n",
      "  label 44: 200\n",
      "  label 45: 241\n",
      "  label 46: 200\n",
      "  label 47: 200\n",
      "model is roberta-base lstm\n"
     ]
    },
    {
     "name": "stderr",
     "output_type": "stream",
     "text": [
      "Some weights of RobertaModel were not initialized from the model checkpoint at roberta-base and are newly initialized: ['pooler.dense.bias', 'pooler.dense.weight']\n",
      "You should probably TRAIN this model on a down-stream task to be able to use it for predictions and inference.\n"
     ]
    },
    {
     "name": "stdout",
     "output_type": "stream",
     "text": [
      "Epoch 1/20\n"
     ]
    },
    {
     "name": "stderr",
     "output_type": "stream",
     "text": [
      "100%|██████████| 716/716 [01:07<00:00, 10.54it/s]\n"
     ]
    },
    {
     "name": "stdout",
     "output_type": "stream",
     "text": [
      "{'val_loss': 2.302381996701403, 'val_accuracy': 0.45537757437070936, 'precision': 0.46351951020369997, 'recall': 0.45537757437070936, 'f1-score': 0.42679048185702917, 'macro_f1-score': 0.11176407348188704, 'balanced_accuracy': 0.19254300954566475, 'mcc': 0.2819126111086264, 'train_loss': 3.154469661539493}\n",
      "Epoch 2/20\n"
     ]
    },
    {
     "name": "stderr",
     "output_type": "stream",
     "text": [
      "100%|██████████| 716/716 [01:08<00:00, 10.50it/s]\n"
     ]
    },
    {
     "name": "stdout",
     "output_type": "stream",
     "text": [
      "{'val_loss': 1.8867548420661833, 'val_accuracy': 0.5049580472921434, 'precision': 0.5155627882477872, 'recall': 0.5049580472921434, 'f1-score': 0.4721180337925783, 'macro_f1-score': 0.20944883752380958, 'balanced_accuracy': 0.2603134056154797, 'mcc': 0.3276489480295378, 'train_loss': 2.2517627912193703}\n",
      "Epoch 3/20\n"
     ]
    },
    {
     "name": "stderr",
     "output_type": "stream",
     "text": [
      "100%|██████████| 716/716 [01:08<00:00, 10.51it/s]\n"
     ]
    },
    {
     "name": "stdout",
     "output_type": "stream",
     "text": [
      "{'val_loss': 1.7933389319152366, 'val_accuracy': 0.513348588863463, 'precision': 0.5865162843335406, 'recall': 0.513348588863463, 'f1-score': 0.5143001653088163, 'macro_f1-score': 0.2786328239141549, 'balanced_accuracy': 0.3315155567443259, 'mcc': 0.3735614629600522, 'train_loss': 1.759019286605899}\n",
      "Epoch 4/20\n"
     ]
    },
    {
     "name": "stderr",
     "output_type": "stream",
     "text": [
      "100%|██████████| 716/716 [01:08<00:00, 10.50it/s]\n"
     ]
    },
    {
     "name": "stdout",
     "output_type": "stream",
     "text": [
      "{'val_loss': 1.7132856809511416, 'val_accuracy': 0.532418001525553, 'precision': 0.569323294104671, 'recall': 0.532418001525553, 'f1-score': 0.5333475081747225, 'macro_f1-score': 0.292339233221465, 'balanced_accuracy': 0.34860550215777897, 'mcc': 0.3988693249747058, 'train_loss': 1.4719245333078854}\n",
      "Epoch 5/20\n"
     ]
    },
    {
     "name": "stderr",
     "output_type": "stream",
     "text": [
      "100%|██████████| 716/716 [01:08<00:00, 10.51it/s]\n"
     ]
    },
    {
     "name": "stdout",
     "output_type": "stream",
     "text": [
      "{'val_loss': 1.793828242435688, 'val_accuracy': 0.5186880244088482, 'precision': 0.5897426987561489, 'recall': 0.5186880244088482, 'f1-score': 0.5328149900369042, 'macro_f1-score': 0.30187889961793746, 'balanced_accuracy': 0.3801206937530339, 'mcc': 0.40292138687637163, 'train_loss': 1.2268402230140216}\n",
      "Epoch 6/20\n"
     ]
    },
    {
     "name": "stderr",
     "output_type": "stream",
     "text": [
      "100%|██████████| 716/716 [01:07<00:00, 10.55it/s]\n"
     ]
    },
    {
     "name": "stdout",
     "output_type": "stream",
     "text": [
      "{'val_loss': 1.6244816162237308, 'val_accuracy': 0.5781845919145691, 'precision': 0.6007086644828653, 'recall': 0.5781845919145691, 'f1-score': 0.5697234647577117, 'macro_f1-score': 0.3533968104040877, 'balanced_accuracy': 0.3888066141592506, 'mcc': 0.43917296590359944, 'train_loss': 1.0827162260262493}\n",
      "Epoch 7/20\n"
     ]
    },
    {
     "name": "stderr",
     "output_type": "stream",
     "text": [
      "100%|██████████| 716/716 [01:08<00:00, 10.48it/s]\n"
     ]
    },
    {
     "name": "stdout",
     "output_type": "stream",
     "text": [
      "{'val_loss': 1.667429845507552, 'val_accuracy': 0.5751334858886347, 'precision': 0.6279769860464555, 'recall': 0.5751334858886347, 'f1-score': 0.5853862760253802, 'macro_f1-score': 0.34090634709383405, 'balanced_accuracy': 0.38991769451880937, 'mcc': 0.45337344115939704, 'train_loss': 0.8997427489837455}\n",
      "Epoch 8/20\n"
     ]
    },
    {
     "name": "stderr",
     "output_type": "stream",
     "text": [
      "100%|██████████| 716/716 [01:08<00:00, 10.52it/s]\n"
     ]
    },
    {
     "name": "stdout",
     "output_type": "stream",
     "text": [
      "{'val_loss': 1.6143609539764683, 'val_accuracy': 0.6003051106025934, 'precision': 0.6083989993253093, 'recall': 0.6003051106025934, 'f1-score': 0.588562855096334, 'macro_f1-score': 0.3560816562535676, 'balanced_accuracy': 0.3772753318856361, 'mcc': 0.4661940339838139, 'train_loss': 0.8104975543663884}\n",
      "Epoch 9/20\n"
     ]
    },
    {
     "name": "stderr",
     "output_type": "stream",
     "text": [
      "100%|██████████| 716/716 [01:08<00:00, 10.52it/s]\n"
     ]
    },
    {
     "name": "stdout",
     "output_type": "stream",
     "text": [
      "{'val_loss': 1.6237354772846873, 'val_accuracy': 0.6094584286803967, 'precision': 0.6195000501508323, 'recall': 0.6094584286803967, 'f1-score': 0.5984901526585277, 'macro_f1-score': 0.39317582983971283, 'balanced_accuracy': 0.3973759421457393, 'mcc': 0.4729101107560352, 'train_loss': 0.6966503434320236}\n",
      "Epoch 10/20\n"
     ]
    },
    {
     "name": "stderr",
     "output_type": "stream",
     "text": [
      "100%|██████████| 716/716 [01:07<00:00, 10.54it/s]\n"
     ]
    },
    {
     "name": "stdout",
     "output_type": "stream",
     "text": [
      "{'val_loss': 1.6718778693821372, 'val_accuracy': 0.585812356979405, 'precision': 0.6067770132046532, 'recall': 0.585812356979405, 'f1-score': 0.572692284915782, 'macro_f1-score': 0.3290059902359195, 'balanced_accuracy': 0.3485231850730422, 'mcc': 0.4525213728134335, 'train_loss': 0.6062768879034375}\n",
      "Epoch 11/20\n"
     ]
    },
    {
     "name": "stderr",
     "output_type": "stream",
     "text": [
      "100%|██████████| 716/716 [01:07<00:00, 10.59it/s]\n"
     ]
    },
    {
     "name": "stdout",
     "output_type": "stream",
     "text": [
      "{'val_loss': 1.7027273178100586, 'val_accuracy': 0.5789473684210527, 'precision': 0.6335979955141152, 'recall': 0.5789473684210527, 'f1-score': 0.5923443443172283, 'macro_f1-score': 0.3930799836534458, 'balanced_accuracy': 0.4342567333960699, 'mcc': 0.4689729894081984, 'train_loss': 0.5742494032286399}\n",
      "Epoch 12/20\n"
     ]
    },
    {
     "name": "stderr",
     "output_type": "stream",
     "text": [
      "100%|██████████| 716/716 [01:08<00:00, 10.49it/s]\n"
     ]
    },
    {
     "name": "stdout",
     "output_type": "stream",
     "text": [
      "{'val_loss': 1.8410120715455311, 'val_accuracy': 0.5758962623951183, 'precision': 0.6284459285398661, 'recall': 0.5758962623951183, 'f1-score': 0.5896920929908814, 'macro_f1-score': 0.3670707271138467, 'balanced_accuracy': 0.40948335820352927, 'mcc': 0.4624180899282875, 'train_loss': 0.5239615756472021}\n",
      "Early stopping.\n",
      "\n",
      "[Fold 5]\n",
      "🚀 Using Word2Vec + EDA (replace + deletion/swap) for data augmentation + under-sampling\n",
      "🔻 Under-sampling label 0: 2472 → 2000\n",
      "🔧 Augmenting label 1: 21 → 200 (+179)\n",
      "🔧 Augmenting label 2: 64 → 200 (+136)\n",
      "🔧 Augmenting label 3: 24 → 200 (+176)\n",
      "🔧 Augmenting label 4: 191 → 200 (+9)\n",
      "🔧 Augmenting label 5: 112 → 200 (+88)\n",
      "🔧 Augmenting label 6: 92 → 200 (+108)\n",
      "🔧 Augmenting label 7: 31 → 200 (+169)\n",
      "🔧 Augmenting label 8: 68 → 200 (+132)\n",
      "🔧 Augmenting label 9: 29 → 200 (+171)\n",
      "🔧 Augmenting label 10: 68 → 200 (+132)\n",
      "🔧 Augmenting label 11: 168 → 200 (+32)\n",
      "🔧 Augmenting label 12: 190 → 200 (+10)\n",
      "🔧 Augmenting label 13: 29 → 200 (+171)\n",
      "🔧 Augmenting label 14: 22 → 200 (+178)\n",
      "🔧 Augmenting label 15: 25 → 200 (+175)\n",
      "🔧 Augmenting label 16: 19 → 200 (+181)\n",
      "🔧 Augmenting label 17: 183 → 200 (+17)\n",
      "🔧 Augmenting label 18: 92 → 200 (+108)\n",
      "🔧 Augmenting label 19: 44 → 200 (+156)\n",
      "🔧 Augmenting label 20: 14 → 200 (+186)\n",
      "🔧 Augmenting label 21: 35 → 200 (+165)\n",
      "🔧 Augmenting label 22: 76 → 200 (+124)\n",
      "🔧 Augmenting label 23: 158 → 200 (+42)\n",
      "🔧 Augmenting label 24: 13 → 200 (+187)\n",
      "🔧 Augmenting label 25: 44 → 200 (+156)\n",
      "🔧 Augmenting label 26: 84 → 200 (+116)\n",
      "🔧 Augmenting label 27: 48 → 200 (+152)\n",
      "🔧 Augmenting label 28: 11 → 200 (+189)\n",
      "🔧 Augmenting label 29: 13 → 200 (+187)\n",
      "🔧 Augmenting label 30: 11 → 200 (+189)\n",
      "🔧 Augmenting label 31: 75 → 200 (+125)\n",
      "🔧 Augmenting label 32: 36 → 200 (+164)\n",
      "🔧 Augmenting label 33: 31 → 200 (+169)\n",
      "🔧 Augmenting label 34: 30 → 200 (+170)\n",
      "🔧 Augmenting label 35: 11 → 200 (+189)\n",
      "🔧 Augmenting label 36: 22 → 200 (+178)\n",
      "🔧 Augmenting label 37: 16 → 200 (+184)\n",
      "🔧 Augmenting label 38: 33 → 200 (+167)\n",
      "🔧 Augmenting label 39: 10 → 200 (+190)\n",
      "🔧 Augmenting label 40: 9 → 200 (+191)\n",
      "🔧 Augmenting label 41: 57 → 200 (+143)\n",
      "🔧 Augmenting label 42: 18 → 200 (+182)\n",
      "🔧 Augmenting label 43: 9 → 200 (+191)\n",
      "🔧 Augmenting label 44: 54 → 200 (+146)\n",
      "🔧 Augmenting label 46: 61 → 200 (+139)\n",
      "🔧 Augmenting label 47: 80 → 200 (+120)\n",
      "Label distribution after resampling:\n",
      "  label 0: 2000\n",
      "  label 1: 200\n",
      "  label 2: 200\n",
      "  label 3: 200\n",
      "  label 4: 200\n",
      "  label 5: 200\n",
      "  label 6: 200\n",
      "  label 7: 200\n",
      "  label 8: 200\n",
      "  label 9: 200\n",
      "  label 10: 200\n",
      "  label 11: 200\n",
      "  label 12: 200\n",
      "  label 13: 200\n",
      "  label 14: 200\n",
      "  label 15: 200\n",
      "  label 16: 200\n",
      "  label 17: 200\n",
      "  label 18: 200\n",
      "  label 19: 200\n",
      "  label 20: 200\n",
      "  label 21: 200\n",
      "  label 22: 200\n",
      "  label 23: 200\n",
      "  label 24: 200\n",
      "  label 25: 200\n",
      "  label 26: 200\n",
      "  label 27: 200\n",
      "  label 28: 200\n",
      "  label 29: 200\n",
      "  label 30: 200\n",
      "  label 31: 200\n",
      "  label 32: 200\n",
      "  label 33: 200\n",
      "  label 34: 200\n",
      "  label 35: 200\n",
      "  label 36: 200\n",
      "  label 37: 200\n",
      "  label 38: 200\n",
      "  label 39: 200\n",
      "  label 40: 200\n",
      "  label 41: 200\n",
      "  label 42: 200\n",
      "  label 43: 200\n",
      "  label 44: 200\n",
      "  label 45: 242\n",
      "  label 46: 200\n",
      "  label 47: 200\n",
      "model is roberta-base lstm\n"
     ]
    },
    {
     "name": "stderr",
     "output_type": "stream",
     "text": [
      "Some weights of RobertaModel were not initialized from the model checkpoint at roberta-base and are newly initialized: ['pooler.dense.bias', 'pooler.dense.weight']\n",
      "You should probably TRAIN this model on a down-stream task to be able to use it for predictions and inference.\n"
     ]
    },
    {
     "name": "stdout",
     "output_type": "stream",
     "text": [
      "Epoch 1/20\n"
     ]
    },
    {
     "name": "stderr",
     "output_type": "stream",
     "text": [
      "100%|██████████| 716/716 [01:08<00:00, 10.52it/s]\n"
     ]
    },
    {
     "name": "stdout",
     "output_type": "stream",
     "text": [
      "{'val_loss': 1.9098897372804038, 'val_accuracy': 0.5308924485125858, 'precision': 0.4748211109613394, 'recall': 0.5308924485125858, 'f1-score': 0.4835720964115967, 'macro_f1-score': 0.2011896817993336, 'balanced_accuracy': 0.2833586485087026, 'mcc': 0.3595281865109872, 'train_loss': 3.0224046380826213}\n",
      "Epoch 2/20\n"
     ]
    },
    {
     "name": "stderr",
     "output_type": "stream",
     "text": [
      "100%|██████████| 716/716 [01:08<00:00, 10.52it/s]\n"
     ]
    },
    {
     "name": "stdout",
     "output_type": "stream",
     "text": [
      "{'val_loss': 1.6857837591229416, 'val_accuracy': 0.5446224256292906, 'precision': 0.5422292889190637, 'recall': 0.5446224256292906, 'f1-score': 0.5105881061878115, 'macro_f1-score': 0.24158757735041866, 'balanced_accuracy': 0.3075163693070709, 'mcc': 0.3821824032236978, 'train_loss': 2.1389873515627236}\n",
      "Epoch 3/20\n"
     ]
    },
    {
     "name": "stderr",
     "output_type": "stream",
     "text": [
      "100%|██████████| 716/716 [01:07<00:00, 10.53it/s]\n"
     ]
    },
    {
     "name": "stdout",
     "output_type": "stream",
     "text": [
      "{'val_loss': 1.6498000381923303, 'val_accuracy': 0.5545385202135774, 'precision': 0.621450446039579, 'recall': 0.5545385202135774, 'f1-score': 0.5559437368278715, 'macro_f1-score': 0.306331667144409, 'balanced_accuracy': 0.397465699919366, 'mcc': 0.42902190514993027, 'train_loss': 1.6727010850383583}\n",
      "Epoch 4/20\n"
     ]
    },
    {
     "name": "stderr",
     "output_type": "stream",
     "text": [
      "100%|██████████| 716/716 [01:07<00:00, 10.56it/s]\n"
     ]
    },
    {
     "name": "stdout",
     "output_type": "stream",
     "text": [
      "{'val_loss': 1.6909045482554086, 'val_accuracy': 0.551487414187643, 'precision': 0.6318939321191629, 'recall': 0.551487414187643, 'f1-score': 0.5648290992074178, 'macro_f1-score': 0.32288515395127887, 'balanced_accuracy': 0.4075533242013221, 'mcc': 0.429617112323124, 'train_loss': 1.369341547012995}\n",
      "Epoch 5/20\n"
     ]
    },
    {
     "name": "stderr",
     "output_type": "stream",
     "text": [
      "100%|██████████| 716/716 [01:08<00:00, 10.50it/s]\n"
     ]
    },
    {
     "name": "stdout",
     "output_type": "stream",
     "text": [
      "{'val_loss': 1.6030070839858637, 'val_accuracy': 0.5583524027459954, 'precision': 0.6081378990220335, 'recall': 0.5583524027459954, 'f1-score': 0.5682298932822536, 'macro_f1-score': 0.33854140186321935, 'balanced_accuracy': 0.4054068749144694, 'mcc': 0.43768671754514815, 'train_loss': 1.1472391375033548}\n",
      "Epoch 6/20\n"
     ]
    },
    {
     "name": "stderr",
     "output_type": "stream",
     "text": [
      "100%|██████████| 716/716 [01:08<00:00, 10.52it/s]\n"
     ]
    },
    {
     "name": "stdout",
     "output_type": "stream",
     "text": [
      "{'val_loss': 1.5423479407298855, 'val_accuracy': 0.5835240274599542, 'precision': 0.6228375115149223, 'recall': 0.5835240274599542, 'f1-score': 0.5896059115721619, 'macro_f1-score': 0.35195603769868883, 'balanced_accuracy': 0.4043849458404927, 'mcc': 0.4652107011738416, 'train_loss': 0.9872093914524137}\n",
      "Epoch 7/20\n"
     ]
    },
    {
     "name": "stderr",
     "output_type": "stream",
     "text": [
      "100%|██████████| 716/716 [01:08<00:00, 10.50it/s]\n"
     ]
    },
    {
     "name": "stdout",
     "output_type": "stream",
     "text": [
      "{'val_loss': 1.5493305263722814, 'val_accuracy': 0.6140350877192983, 'precision': 0.6054303534859162, 'recall': 0.6140350877192983, 'f1-score': 0.5978622589314059, 'macro_f1-score': 0.3444703666550059, 'balanced_accuracy': 0.364982593063476, 'mcc': 0.47996355288768583, 'train_loss': 0.8651978890905833}\n",
      "Epoch 8/20\n"
     ]
    },
    {
     "name": "stderr",
     "output_type": "stream",
     "text": [
      "100%|██████████| 716/716 [01:08<00:00, 10.53it/s]\n"
     ]
    },
    {
     "name": "stdout",
     "output_type": "stream",
     "text": [
      "{'val_loss': 1.565516635775566, 'val_accuracy': 0.6300533943554538, 'precision': 0.6359898115082553, 'recall': 0.6300533943554538, 'f1-score': 0.6143255070181006, 'macro_f1-score': 0.3930490878164726, 'balanced_accuracy': 0.38380109356700093, 'mcc': 0.5033904044826875, 'train_loss': 0.7536900315288059}\n",
      "Epoch 9/20\n"
     ]
    },
    {
     "name": "stderr",
     "output_type": "stream",
     "text": [
      "100%|██████████| 716/716 [01:07<00:00, 10.56it/s]\n"
     ]
    },
    {
     "name": "stdout",
     "output_type": "stream",
     "text": [
      "{'val_loss': 1.594569651818857, 'val_accuracy': 0.5980167810831426, 'precision': 0.6307966711070988, 'recall': 0.5980167810831426, 'f1-score': 0.6011652159690787, 'macro_f1-score': 0.3758180550863733, 'balanced_accuracy': 0.4175775971227474, 'mcc': 0.478928041947479, 'train_loss': 0.6399812000548707}\n",
      "Epoch 10/20\n"
     ]
    },
    {
     "name": "stderr",
     "output_type": "stream",
     "text": [
      "100%|██████████| 716/716 [01:08<00:00, 10.48it/s]\n"
     ]
    },
    {
     "name": "stdout",
     "output_type": "stream",
     "text": [
      "{'val_loss': 1.6938045475541093, 'val_accuracy': 0.597254004576659, 'precision': 0.6292967514865158, 'recall': 0.597254004576659, 'f1-score': 0.605956440457104, 'macro_f1-score': 0.3754345333849916, 'balanced_accuracy': 0.4116504472934078, 'mcc': 0.48336124643140527, 'train_loss': 0.537676494425506}\n",
      "Epoch 11/20\n"
     ]
    },
    {
     "name": "stderr",
     "output_type": "stream",
     "text": [
      "100%|██████████| 716/716 [01:08<00:00, 10.51it/s]\n"
     ]
    },
    {
     "name": "stdout",
     "output_type": "stream",
     "text": [
      "{'val_loss': 1.736355449731757, 'val_accuracy': 0.6163234172387491, 'precision': 0.6033782447035992, 'recall': 0.6163234172387491, 'f1-score': 0.5922635470030329, 'macro_f1-score': 0.3597641047120616, 'balanced_accuracy': 0.3541056298844661, 'mcc': 0.4795472295524326, 'train_loss': 0.5222801364875039}\n",
      "Early stopping.\n",
      "\n",
      " === roberta-base + lstm + word2vec_eda Final 5-fold Cross-Validation Results ===\n",
      "val_loss: 1.6650\n",
      "val_accuracy: 0.5999\n",
      "precision: 0.6233\n",
      "recall: 0.5999\n",
      "f1-score: 0.5956\n",
      "macro_f1-score: 0.3784\n",
      "balanced_accuracy: 0.3955\n",
      "mcc: 0.4737\n",
      "train_loss: 0.7018\n",
      "total_seconds: 4273.0000\n",
      "total_time: 1 hrs 11 mins 13 secs\n",
      "▶ Running: roberta-base + bilstm + word2vec_eda\n",
      "tokenizer is roberta-base\n",
      "Using device: cuda\n",
      "CUDA Available: True\n",
      "CUDA Device: NVIDIA GeForce RTX 5070 Ti\n",
      "Current GPU Memory Allocated: 0.02 GB\n",
      "Current GPU Memory Cached: 3.92 GB\n",
      "\n",
      "[Fold 1]\n",
      "🚀 Using Word2Vec + EDA (replace + deletion/swap) for data augmentation + under-sampling\n",
      "🔻 Under-sampling label 0: 2471 → 2000\n",
      "🔧 Augmenting label 1: 21 → 200 (+179)\n",
      "🔧 Augmenting label 2: 64 → 200 (+136)\n",
      "🔧 Augmenting label 3: 24 → 200 (+176)\n",
      "🔧 Augmenting label 4: 191 → 200 (+9)\n",
      "🔧 Augmenting label 5: 113 → 200 (+87)\n",
      "🔧 Augmenting label 6: 93 → 200 (+107)\n",
      "🔧 Augmenting label 7: 30 → 200 (+170)\n",
      "🔧 Augmenting label 8: 68 → 200 (+132)\n",
      "🔧 Augmenting label 9: 30 → 200 (+170)\n",
      "🔧 Augmenting label 10: 67 → 200 (+133)\n",
      "🔧 Augmenting label 11: 169 → 200 (+31)\n",
      "🔧 Augmenting label 12: 189 → 200 (+11)\n",
      "🔧 Augmenting label 13: 29 → 200 (+171)\n",
      "🔧 Augmenting label 14: 22 → 200 (+178)\n",
      "🔧 Augmenting label 15: 25 → 200 (+175)\n",
      "🔧 Augmenting label 16: 19 → 200 (+181)\n",
      "🔧 Augmenting label 17: 183 → 200 (+17)\n",
      "🔧 Augmenting label 18: 92 → 200 (+108)\n",
      "🔧 Augmenting label 19: 44 → 200 (+156)\n",
      "🔧 Augmenting label 20: 13 → 200 (+187)\n",
      "🔧 Augmenting label 21: 35 → 200 (+165)\n",
      "🔧 Augmenting label 22: 76 → 200 (+124)\n",
      "🔧 Augmenting label 23: 158 → 200 (+42)\n",
      "🔧 Augmenting label 24: 13 → 200 (+187)\n",
      "🔧 Augmenting label 25: 44 → 200 (+156)\n",
      "🔧 Augmenting label 26: 84 → 200 (+116)\n",
      "🔧 Augmenting label 27: 48 → 200 (+152)\n",
      "🔧 Augmenting label 28: 11 → 200 (+189)\n",
      "🔧 Augmenting label 29: 13 → 200 (+187)\n",
      "🔧 Augmenting label 30: 11 → 200 (+189)\n",
      "🔧 Augmenting label 31: 75 → 200 (+125)\n",
      "🔧 Augmenting label 32: 36 → 200 (+164)\n",
      "🔧 Augmenting label 33: 32 → 200 (+168)\n",
      "🔧 Augmenting label 34: 29 → 200 (+171)\n",
      "🔧 Augmenting label 35: 11 → 200 (+189)\n",
      "🔧 Augmenting label 36: 22 → 200 (+178)\n",
      "🔧 Augmenting label 37: 16 → 200 (+184)\n",
      "🔧 Augmenting label 38: 33 → 200 (+167)\n",
      "🔧 Augmenting label 39: 10 → 200 (+190)\n",
      "🔧 Augmenting label 40: 9 → 200 (+191)\n",
      "🔧 Augmenting label 41: 57 → 200 (+143)\n",
      "🔧 Augmenting label 42: 19 → 200 (+181)\n",
      "🔧 Augmenting label 43: 8 → 200 (+192)\n",
      "🔧 Augmenting label 44: 54 → 200 (+146)\n",
      "🔧 Augmenting label 46: 61 → 200 (+139)\n",
      "🔧 Augmenting label 47: 80 → 200 (+120)\n",
      "Label distribution after resampling:\n",
      "  label 0: 2000\n",
      "  label 1: 200\n",
      "  label 2: 200\n",
      "  label 3: 200\n",
      "  label 4: 200\n",
      "  label 5: 200\n",
      "  label 6: 200\n",
      "  label 7: 200\n",
      "  label 8: 200\n",
      "  label 9: 200\n",
      "  label 10: 200\n",
      "  label 11: 200\n",
      "  label 12: 200\n",
      "  label 13: 200\n",
      "  label 14: 200\n",
      "  label 15: 200\n",
      "  label 16: 200\n",
      "  label 17: 200\n",
      "  label 18: 200\n",
      "  label 19: 200\n",
      "  label 20: 200\n",
      "  label 21: 200\n",
      "  label 22: 200\n",
      "  label 23: 200\n",
      "  label 24: 200\n",
      "  label 25: 200\n",
      "  label 26: 200\n",
      "  label 27: 200\n",
      "  label 28: 200\n",
      "  label 29: 200\n",
      "  label 30: 200\n",
      "  label 31: 200\n",
      "  label 32: 200\n",
      "  label 33: 200\n",
      "  label 34: 200\n",
      "  label 35: 200\n",
      "  label 36: 200\n",
      "  label 37: 200\n",
      "  label 38: 200\n",
      "  label 39: 200\n",
      "  label 40: 200\n",
      "  label 41: 200\n",
      "  label 42: 200\n",
      "  label 43: 200\n",
      "  label 44: 200\n",
      "  label 45: 242\n",
      "  label 46: 200\n",
      "  label 47: 200\n",
      "model is roberta-base bilstm\n"
     ]
    },
    {
     "name": "stderr",
     "output_type": "stream",
     "text": [
      "Some weights of RobertaModel were not initialized from the model checkpoint at roberta-base and are newly initialized: ['pooler.dense.bias', 'pooler.dense.weight']\n",
      "You should probably TRAIN this model on a down-stream task to be able to use it for predictions and inference.\n"
     ]
    },
    {
     "name": "stdout",
     "output_type": "stream",
     "text": [
      "Epoch 1/20\n"
     ]
    },
    {
     "name": "stderr",
     "output_type": "stream",
     "text": [
      "100%|██████████| 716/716 [01:13<00:00,  9.71it/s]\n"
     ]
    },
    {
     "name": "stdout",
     "output_type": "stream",
     "text": [
      "{'val_loss': 1.8341061036761215, 'val_accuracy': 0.5411585365853658, 'precision': 0.5153252197443078, 'recall': 0.5411585365853658, 'f1-score': 0.4851943162677647, 'macro_f1-score': 0.2473343164378267, 'balanced_accuracy': 0.3274752514028871, 'mcc': 0.3615256177871814, 'train_loss': 2.8230544671666022}\n",
      "Epoch 2/20\n"
     ]
    },
    {
     "name": "stderr",
     "output_type": "stream",
     "text": [
      "100%|██████████| 716/716 [01:13<00:00,  9.73it/s]\n"
     ]
    },
    {
     "name": "stdout",
     "output_type": "stream",
     "text": [
      "{'val_loss': 1.6382708938383475, 'val_accuracy': 0.5701219512195121, 'precision': 0.5535292787124738, 'recall': 0.5701219512195121, 'f1-score': 0.5289732456932379, 'macro_f1-score': 0.3146919214975485, 'balanced_accuracy': 0.34942281423689864, 'mcc': 0.40665748343059166, 'train_loss': 1.6629957346110371}\n",
      "Epoch 3/20\n"
     ]
    },
    {
     "name": "stderr",
     "output_type": "stream",
     "text": [
      "100%|██████████| 716/716 [01:13<00:00,  9.78it/s]\n"
     ]
    },
    {
     "name": "stdout",
     "output_type": "stream",
     "text": [
      "{'val_loss': 1.704408165521738, 'val_accuracy': 0.5724085365853658, 'precision': 0.6332054895487225, 'recall': 0.5724085365853658, 'f1-score': 0.5755246694623031, 'macro_f1-score': 0.36934053439313913, 'balanced_accuracy': 0.45399640566058147, 'mcc': 0.4487000851749691, 'train_loss': 1.141019097003857}\n",
      "Epoch 4/20\n"
     ]
    },
    {
     "name": "stderr",
     "output_type": "stream",
     "text": [
      "100%|██████████| 716/716 [01:13<00:00,  9.74it/s]\n"
     ]
    },
    {
     "name": "stdout",
     "output_type": "stream",
     "text": [
      "{'val_loss': 1.5922752942253904, 'val_accuracy': 0.6120426829268293, 'precision': 0.6029753766901758, 'recall': 0.6120426829268293, 'f1-score': 0.5900756613077638, 'macro_f1-score': 0.38907441727331804, 'balanced_accuracy': 0.3890926968718327, 'mcc': 0.4710837528273814, 'train_loss': 0.8460980732639075}\n",
      "Epoch 5/20\n"
     ]
    },
    {
     "name": "stderr",
     "output_type": "stream",
     "text": [
      "100%|██████████| 716/716 [01:13<00:00,  9.75it/s]\n"
     ]
    },
    {
     "name": "stdout",
     "output_type": "stream",
     "text": [
      "{'val_loss': 1.706513276914271, 'val_accuracy': 0.5945121951219512, 'precision': 0.6133229900077851, 'recall': 0.5945121951219512, 'f1-score': 0.5846869914950138, 'macro_f1-score': 0.35059391851264277, 'balanced_accuracy': 0.37119304240470496, 'mcc': 0.46320239607068475, 'train_loss': 0.6381220115588031}\n",
      "Epoch 6/20\n"
     ]
    },
    {
     "name": "stderr",
     "output_type": "stream",
     "text": [
      "100%|██████████| 716/716 [01:13<00:00,  9.75it/s]\n"
     ]
    },
    {
     "name": "stdout",
     "output_type": "stream",
     "text": [
      "{'val_loss': 1.7078514658823245, 'val_accuracy': 0.6128048780487805, 'precision': 0.5959590847115741, 'recall': 0.6128048780487805, 'f1-score': 0.5848059101513705, 'macro_f1-score': 0.3748680312644901, 'balanced_accuracy': 0.3821275810691489, 'mcc': 0.4674943321810762, 'train_loss': 0.5077825202736691}\n",
      "Epoch 7/20\n"
     ]
    },
    {
     "name": "stderr",
     "output_type": "stream",
     "text": [
      "100%|██████████| 716/716 [01:12<00:00,  9.83it/s]\n"
     ]
    },
    {
     "name": "stdout",
     "output_type": "stream",
     "text": [
      "{'val_loss': 1.8188516217760924, 'val_accuracy': 0.5929878048780488, 'precision': 0.6115889918089518, 'recall': 0.5929878048780488, 'f1-score': 0.589985841005529, 'macro_f1-score': 0.407642558009091, 'balanced_accuracy': 0.43765546900084856, 'mcc': 0.4673878443579657, 'train_loss': 0.396714541317073}\n",
      "Epoch 8/20\n"
     ]
    },
    {
     "name": "stderr",
     "output_type": "stream",
     "text": [
      "100%|██████████| 716/716 [01:13<00:00,  9.72it/s]\n"
     ]
    },
    {
     "name": "stdout",
     "output_type": "stream",
     "text": [
      "{'val_loss': 1.6993226997736024, 'val_accuracy': 0.6120426829268293, 'precision': 0.6328900264306585, 'recall': 0.6120426829268293, 'f1-score': 0.6132491026966886, 'macro_f1-score': 0.40996487337235954, 'balanced_accuracy': 0.42599736684358397, 'mcc': 0.49831847656802913, 'train_loss': 0.3410466586749522}\n",
      "Epoch 9/20\n"
     ]
    },
    {
     "name": "stderr",
     "output_type": "stream",
     "text": [
      "100%|██████████| 716/716 [01:13<00:00,  9.69it/s]\n"
     ]
    },
    {
     "name": "stdout",
     "output_type": "stream",
     "text": [
      "{'val_loss': 1.8798160861905029, 'val_accuracy': 0.6051829268292683, 'precision': 0.6231157683372479, 'recall': 0.6051829268292683, 'f1-score': 0.6065649696116815, 'macro_f1-score': 0.4056441948222282, 'balanced_accuracy': 0.40947157440850074, 'mcc': 0.48730564022079814, 'train_loss': 0.29244288681179037}\n",
      "Epoch 10/20\n"
     ]
    },
    {
     "name": "stderr",
     "output_type": "stream",
     "text": [
      "100%|██████████| 716/716 [01:13<00:00,  9.77it/s]\n"
     ]
    },
    {
     "name": "stdout",
     "output_type": "stream",
     "text": [
      "{'val_loss': 1.9278354637506532, 'val_accuracy': 0.6196646341463414, 'precision': 0.6066662169989253, 'recall': 0.6196646341463414, 'f1-score': 0.6024467149514082, 'macro_f1-score': 0.3883797493587986, 'balanced_accuracy': 0.3921276387011954, 'mcc': 0.4877196613181848, 'train_loss': 0.29165834288357356}\n",
      "Epoch 11/20\n"
     ]
    },
    {
     "name": "stderr",
     "output_type": "stream",
     "text": [
      "100%|██████████| 716/716 [01:12<00:00,  9.81it/s]\n"
     ]
    },
    {
     "name": "stdout",
     "output_type": "stream",
     "text": [
      "{'val_loss': 2.0435952929461876, 'val_accuracy': 0.5998475609756098, 'precision': 0.6195173239534935, 'recall': 0.5998475609756098, 'f1-score': 0.5999029270533016, 'macro_f1-score': 0.36392702012865746, 'balanced_accuracy': 0.37753230301910673, 'mcc': 0.48199304949439353, 'train_loss': 0.2593219072178173}\n",
      "Early stopping.\n",
      "\n",
      "[Fold 2]\n",
      "🚀 Using Word2Vec + EDA (replace + deletion/swap) for data augmentation + under-sampling\n",
      "🔻 Under-sampling label 0: 2471 → 2000\n",
      "🔧 Augmenting label 1: 22 → 200 (+178)\n",
      "🔧 Augmenting label 2: 64 → 200 (+136)\n",
      "🔧 Augmenting label 3: 24 → 200 (+176)\n",
      "🔧 Augmenting label 4: 190 → 200 (+10)\n",
      "🔧 Augmenting label 5: 113 → 200 (+87)\n",
      "🔧 Augmenting label 6: 93 → 200 (+107)\n",
      "🔧 Augmenting label 7: 30 → 200 (+170)\n",
      "🔧 Augmenting label 8: 68 → 200 (+132)\n",
      "🔧 Augmenting label 9: 30 → 200 (+170)\n",
      "🔧 Augmenting label 10: 67 → 200 (+133)\n",
      "🔧 Augmenting label 11: 169 → 200 (+31)\n",
      "🔧 Augmenting label 12: 189 → 200 (+11)\n",
      "🔧 Augmenting label 13: 29 → 200 (+171)\n",
      "🔧 Augmenting label 14: 23 → 200 (+177)\n",
      "🔧 Augmenting label 15: 24 → 200 (+176)\n",
      "🔧 Augmenting label 16: 20 → 200 (+180)\n",
      "🔧 Augmenting label 17: 182 → 200 (+18)\n",
      "🔧 Augmenting label 18: 92 → 200 (+108)\n",
      "🔧 Augmenting label 19: 44 → 200 (+156)\n",
      "🔧 Augmenting label 20: 13 → 200 (+187)\n",
      "🔧 Augmenting label 21: 36 → 200 (+164)\n",
      "🔧 Augmenting label 22: 76 → 200 (+124)\n",
      "🔧 Augmenting label 23: 157 → 200 (+43)\n",
      "🔧 Augmenting label 24: 12 → 200 (+188)\n",
      "🔧 Augmenting label 25: 44 → 200 (+156)\n",
      "🔧 Augmenting label 26: 84 → 200 (+116)\n",
      "🔧 Augmenting label 27: 48 → 200 (+152)\n",
      "🔧 Augmenting label 28: 12 → 200 (+188)\n",
      "🔧 Augmenting label 29: 12 → 200 (+188)\n",
      "🔧 Augmenting label 30: 12 → 200 (+188)\n",
      "🔧 Augmenting label 31: 75 → 200 (+125)\n",
      "🔧 Augmenting label 32: 36 → 200 (+164)\n",
      "🔧 Augmenting label 33: 31 → 200 (+169)\n",
      "🔧 Augmenting label 34: 29 → 200 (+171)\n",
      "🔧 Augmenting label 35: 12 → 200 (+188)\n",
      "🔧 Augmenting label 36: 21 → 200 (+179)\n",
      "🔧 Augmenting label 37: 16 → 200 (+184)\n",
      "🔧 Augmenting label 38: 33 → 200 (+167)\n",
      "🔧 Augmenting label 39: 11 → 200 (+189)\n",
      "🔧 Augmenting label 40: 8 → 200 (+192)\n",
      "🔧 Augmenting label 41: 57 → 200 (+143)\n",
      "🔧 Augmenting label 42: 19 → 200 (+181)\n",
      "🔧 Augmenting label 43: 9 → 200 (+191)\n",
      "🔧 Augmenting label 44: 54 → 200 (+146)\n",
      "🔧 Augmenting label 46: 62 → 200 (+138)\n",
      "🔧 Augmenting label 47: 80 → 200 (+120)\n",
      "Label distribution after resampling:\n",
      "  label 0: 2000\n",
      "  label 1: 200\n",
      "  label 2: 200\n",
      "  label 3: 200\n",
      "  label 4: 200\n",
      "  label 5: 200\n",
      "  label 6: 200\n",
      "  label 7: 200\n",
      "  label 8: 200\n",
      "  label 9: 200\n",
      "  label 10: 200\n",
      "  label 11: 200\n",
      "  label 12: 200\n",
      "  label 13: 200\n",
      "  label 14: 200\n",
      "  label 15: 200\n",
      "  label 16: 200\n",
      "  label 17: 200\n",
      "  label 18: 200\n",
      "  label 19: 200\n",
      "  label 20: 200\n",
      "  label 21: 200\n",
      "  label 22: 200\n",
      "  label 23: 200\n",
      "  label 24: 200\n",
      "  label 25: 200\n",
      "  label 26: 200\n",
      "  label 27: 200\n",
      "  label 28: 200\n",
      "  label 29: 200\n",
      "  label 30: 200\n",
      "  label 31: 200\n",
      "  label 32: 200\n",
      "  label 33: 200\n",
      "  label 34: 200\n",
      "  label 35: 200\n",
      "  label 36: 200\n",
      "  label 37: 200\n",
      "  label 38: 200\n",
      "  label 39: 200\n",
      "  label 40: 200\n",
      "  label 41: 200\n",
      "  label 42: 200\n",
      "  label 43: 200\n",
      "  label 44: 200\n",
      "  label 45: 242\n",
      "  label 46: 200\n",
      "  label 47: 200\n",
      "model is roberta-base bilstm\n"
     ]
    },
    {
     "name": "stderr",
     "output_type": "stream",
     "text": [
      "Some weights of RobertaModel were not initialized from the model checkpoint at roberta-base and are newly initialized: ['pooler.dense.bias', 'pooler.dense.weight']\n",
      "You should probably TRAIN this model on a down-stream task to be able to use it for predictions and inference.\n"
     ]
    },
    {
     "name": "stdout",
     "output_type": "stream",
     "text": [
      "Epoch 1/20\n"
     ]
    },
    {
     "name": "stderr",
     "output_type": "stream",
     "text": [
      "100%|██████████| 716/716 [01:12<00:00,  9.81it/s]\n"
     ]
    },
    {
     "name": "stdout",
     "output_type": "stream",
     "text": [
      "{'val_loss': 2.041858726885261, 'val_accuracy': 0.4584286803966438, 'precision': 0.46976233220244024, 'recall': 0.4584286803966438, 'f1-score': 0.416124562353051, 'macro_f1-score': 0.12367997094415852, 'balanced_accuracy': 0.2171679771724863, 'mcc': 0.27163551509542594, 'train_loss': 3.0548143403490164}\n",
      "Epoch 2/20\n"
     ]
    },
    {
     "name": "stderr",
     "output_type": "stream",
     "text": [
      "100%|██████████| 716/716 [01:14<00:00,  9.67it/s]\n"
     ]
    },
    {
     "name": "stdout",
     "output_type": "stream",
     "text": [
      "{'val_loss': 1.6296168616632136, 'val_accuracy': 0.551487414187643, 'precision': 0.598733950304589, 'recall': 0.551487414187643, 'f1-score': 0.539241853042325, 'macro_f1-score': 0.2939604616093546, 'balanced_accuracy': 0.39594918382902256, 'mcc': 0.41339701770893167, 'train_loss': 1.9218672039455542}\n",
      "Epoch 3/20\n"
     ]
    },
    {
     "name": "stderr",
     "output_type": "stream",
     "text": [
      "100%|██████████| 716/716 [01:13<00:00,  9.69it/s]\n"
     ]
    },
    {
     "name": "stdout",
     "output_type": "stream",
     "text": [
      "{'val_loss': 1.5417839870220278, 'val_accuracy': 0.566742944317315, 'precision': 0.6194476061781228, 'recall': 0.566742944317315, 'f1-score': 0.5582644800134929, 'macro_f1-score': 0.320101004897314, 'balanced_accuracy': 0.35885964690176825, 'mcc': 0.4306462472823415, 'train_loss': 1.3327771498088063}\n",
      "Epoch 4/20\n"
     ]
    },
    {
     "name": "stderr",
     "output_type": "stream",
     "text": [
      "100%|██████████| 716/716 [01:13<00:00,  9.78it/s]\n"
     ]
    },
    {
     "name": "stdout",
     "output_type": "stream",
     "text": [
      "{'val_loss': 1.5537630308692048, 'val_accuracy': 0.5804729214340199, 'precision': 0.6180446838682749, 'recall': 0.5804729214340199, 'f1-score': 0.5775868062396837, 'macro_f1-score': 0.35420699793855004, 'balanced_accuracy': 0.39822188874747066, 'mcc': 0.44623192725040545, 'train_loss': 0.9696009128703086}\n",
      "Epoch 5/20\n"
     ]
    },
    {
     "name": "stderr",
     "output_type": "stream",
     "text": [
      "100%|██████████| 716/716 [01:13<00:00,  9.81it/s]\n"
     ]
    },
    {
     "name": "stdout",
     "output_type": "stream",
     "text": [
      "{'val_loss': 1.6184813950846835, 'val_accuracy': 0.5964912280701754, 'precision': 0.6072845440954515, 'recall': 0.5964912280701754, 'f1-score': 0.5845174824267563, 'macro_f1-score': 0.33625119961522215, 'balanced_accuracy': 0.4029604881398135, 'mcc': 0.4656554820687431, 'train_loss': 0.7424659526506283}\n",
      "Epoch 6/20\n"
     ]
    },
    {
     "name": "stderr",
     "output_type": "stream",
     "text": [
      "100%|██████████| 716/716 [01:13<00:00,  9.81it/s]\n"
     ]
    },
    {
     "name": "stdout",
     "output_type": "stream",
     "text": [
      "{'val_loss': 1.5772300111811335, 'val_accuracy': 0.6018306636155606, 'precision': 0.608110985068083, 'recall': 0.6018306636155606, 'f1-score': 0.5859730259076787, 'macro_f1-score': 0.332404473443193, 'balanced_accuracy': 0.3516019283179151, 'mcc': 0.46933736796101894, 'train_loss': 0.5748126629802435}\n",
      "Epoch 7/20\n"
     ]
    },
    {
     "name": "stderr",
     "output_type": "stream",
     "text": [
      "100%|██████████| 716/716 [01:13<00:00,  9.76it/s]\n"
     ]
    },
    {
     "name": "stdout",
     "output_type": "stream",
     "text": [
      "{'val_loss': 1.71797160840616, 'val_accuracy': 0.5766590389016019, 'precision': 0.6173284479785824, 'recall': 0.5766590389016019, 'f1-score': 0.5889995160250047, 'macro_f1-score': 0.35961131025523363, 'balanced_accuracy': 0.40693982467696155, 'mcc': 0.46739497878782155, 'train_loss': 0.4481269766904372}\n",
      "Epoch 8/20\n"
     ]
    },
    {
     "name": "stderr",
     "output_type": "stream",
     "text": [
      "100%|██████████| 716/716 [01:13<00:00,  9.76it/s]\n"
     ]
    },
    {
     "name": "stdout",
     "output_type": "stream",
     "text": [
      "{'val_loss': 1.800681569954244, 'val_accuracy': 0.5766590389016019, 'precision': 0.6192002273439207, 'recall': 0.5766590389016019, 'f1-score': 0.5886624781974816, 'macro_f1-score': 0.3694092025477527, 'balanced_accuracy': 0.43134520960259043, 'mcc': 0.4693417360788111, 'train_loss': 0.38671282659331596}\n",
      "Epoch 9/20\n"
     ]
    },
    {
     "name": "stderr",
     "output_type": "stream",
     "text": [
      "100%|██████████| 716/716 [01:13<00:00,  9.77it/s]\n"
     ]
    },
    {
     "name": "stdout",
     "output_type": "stream",
     "text": [
      "{'val_loss': 1.811366030355779, 'val_accuracy': 0.5850495804729214, 'precision': 0.6261518745129239, 'recall': 0.5850495804729214, 'f1-score': 0.5976169104206717, 'macro_f1-score': 0.3802433498226904, 'balanced_accuracy': 0.41724937410923624, 'mcc': 0.47454064363834325, 'train_loss': 0.3083861269103623}\n",
      "Epoch 10/20\n"
     ]
    },
    {
     "name": "stderr",
     "output_type": "stream",
     "text": [
      "100%|██████████| 716/716 [01:12<00:00,  9.83it/s]\n"
     ]
    },
    {
     "name": "stdout",
     "output_type": "stream",
     "text": [
      "{'val_loss': 1.8642152126242475, 'val_accuracy': 0.6231884057971014, 'precision': 0.6446788321830349, 'recall': 0.6231884057971014, 'f1-score': 0.6209771135356853, 'macro_f1-score': 0.3866433915600129, 'balanced_accuracy': 0.4167029533319928, 'mcc': 0.5103460348720082, 'train_loss': 0.2560551727773341}\n",
      "Epoch 11/20\n"
     ]
    },
    {
     "name": "stderr",
     "output_type": "stream",
     "text": [
      "100%|██████████| 716/716 [01:13<00:00,  9.75it/s]\n"
     ]
    },
    {
     "name": "stdout",
     "output_type": "stream",
     "text": [
      "{'val_loss': 1.8969611656375047, 'val_accuracy': 0.6422578184591915, 'precision': 0.6295724366365945, 'recall': 0.6422578184591915, 'f1-score': 0.6184566318858913, 'macro_f1-score': 0.3761450371359965, 'balanced_accuracy': 0.35726852352339405, 'mcc': 0.5108335958026953, 'train_loss': 0.22954847303208734}\n",
      "Epoch 12/20\n"
     ]
    },
    {
     "name": "stderr",
     "output_type": "stream",
     "text": [
      "100%|██████████| 716/716 [01:12<00:00,  9.83it/s]\n"
     ]
    },
    {
     "name": "stdout",
     "output_type": "stream",
     "text": [
      "{'val_loss': 1.9572391175642245, 'val_accuracy': 0.5903890160183066, 'precision': 0.6455118293428528, 'recall': 0.5903890160183066, 'f1-score': 0.606016724262469, 'macro_f1-score': 0.400370525910372, 'balanced_accuracy': 0.46029954218528957, 'mcc': 0.49431686469805963, 'train_loss': 0.21129678242694191}\n",
      "Epoch 13/20\n"
     ]
    },
    {
     "name": "stderr",
     "output_type": "stream",
     "text": [
      "100%|██████████| 716/716 [01:13<00:00,  9.73it/s]\n"
     ]
    },
    {
     "name": "stdout",
     "output_type": "stream",
     "text": [
      "{'val_loss': 2.0379423884356895, 'val_accuracy': 0.6132723112128147, 'precision': 0.6416542951745752, 'recall': 0.6132723112128147, 'f1-score': 0.6159171666659735, 'macro_f1-score': 0.3923521406043376, 'balanced_accuracy': 0.44206034680231676, 'mcc': 0.5056253909285029, 'train_loss': 0.18073249377919018}\n",
      "Epoch 14/20\n"
     ]
    },
    {
     "name": "stderr",
     "output_type": "stream",
     "text": [
      "100%|██████████| 716/716 [01:13<00:00,  9.76it/s]\n"
     ]
    },
    {
     "name": "stdout",
     "output_type": "stream",
     "text": [
      "{'val_loss': 1.7741076081264309, 'val_accuracy': 0.6346300533943554, 'precision': 0.6252533200353465, 'recall': 0.6346300533943554, 'f1-score': 0.6234430771722432, 'macro_f1-score': 0.3910888653223437, 'balanced_accuracy': 0.40000119600427375, 'mcc': 0.5175156885523696, 'train_loss': 0.2310710313532231}\n",
      "Epoch 15/20\n"
     ]
    },
    {
     "name": "stderr",
     "output_type": "stream",
     "text": [
      "100%|██████████| 716/716 [01:12<00:00,  9.85it/s]\n"
     ]
    },
    {
     "name": "stdout",
     "output_type": "stream",
     "text": [
      "{'val_loss': 1.9306438543447635, 'val_accuracy': 0.6186117467581999, 'precision': 0.6600260822575316, 'recall': 0.6186117467581999, 'f1-score': 0.629121106309787, 'macro_f1-score': 0.4064093957397333, 'balanced_accuracy': 0.430233016297443, 'mcc': 0.5150471634330025, 'train_loss': 0.1607469344737955}\n",
      "Epoch 16/20\n"
     ]
    },
    {
     "name": "stderr",
     "output_type": "stream",
     "text": [
      "100%|██████████| 716/716 [01:13<00:00,  9.72it/s]\n"
     ]
    },
    {
     "name": "stdout",
     "output_type": "stream",
     "text": [
      "{'val_loss': 1.9389836730026617, 'val_accuracy': 0.6308161708619374, 'precision': 0.6310611814157596, 'recall': 0.6308161708619374, 'f1-score': 0.6251485757831404, 'macro_f1-score': 0.40029658532432477, 'balanced_accuracy': 0.4087242281328692, 'mcc': 0.5148055333041409, 'train_loss': 0.15214916429997488}\n",
      "Epoch 17/20\n"
     ]
    },
    {
     "name": "stderr",
     "output_type": "stream",
     "text": [
      "100%|██████████| 716/716 [01:13<00:00,  9.77it/s]\n"
     ]
    },
    {
     "name": "stdout",
     "output_type": "stream",
     "text": [
      "{'val_loss': 2.0847636810163173, 'val_accuracy': 0.6003051106025934, 'precision': 0.6497525315636206, 'recall': 0.6003051106025934, 'f1-score': 0.6111987346513281, 'macro_f1-score': 0.37652397626474593, 'balanced_accuracy': 0.4127313377332367, 'mcc': 0.4962332985822863, 'train_loss': 0.12868870412553635}\n",
      "Epoch 18/20\n"
     ]
    },
    {
     "name": "stderr",
     "output_type": "stream",
     "text": [
      "100%|██████████| 716/716 [01:13<00:00,  9.76it/s]\n"
     ]
    },
    {
     "name": "stdout",
     "output_type": "stream",
     "text": [
      "{'val_loss': 2.0434075303194, 'val_accuracy': 0.6300533943554538, 'precision': 0.634684484978505, 'recall': 0.6300533943554538, 'f1-score': 0.6213464644436371, 'macro_f1-score': 0.37743971347128036, 'balanced_accuracy': 0.39468363891884706, 'mcc': 0.5098085522093282, 'train_loss': 0.1227049138162847}\n",
      "Early stopping.\n",
      "\n",
      "[Fold 3]\n",
      "🚀 Using Word2Vec + EDA (replace + deletion/swap) for data augmentation + under-sampling\n",
      "🔻 Under-sampling label 0: 2471 → 2000\n",
      "🔧 Augmenting label 1: 22 → 200 (+178)\n",
      "🔧 Augmenting label 2: 64 → 200 (+136)\n",
      "🔧 Augmenting label 3: 24 → 200 (+176)\n",
      "🔧 Augmenting label 4: 190 → 200 (+10)\n",
      "🔧 Augmenting label 5: 113 → 200 (+87)\n",
      "🔧 Augmenting label 6: 93 → 200 (+107)\n",
      "🔧 Augmenting label 7: 30 → 200 (+170)\n",
      "🔧 Augmenting label 8: 68 → 200 (+132)\n",
      "🔧 Augmenting label 9: 30 → 200 (+170)\n",
      "🔧 Augmenting label 10: 67 → 200 (+133)\n",
      "🔧 Augmenting label 11: 169 → 200 (+31)\n",
      "🔧 Augmenting label 12: 190 → 200 (+10)\n",
      "🔧 Augmenting label 13: 28 → 200 (+172)\n",
      "🔧 Augmenting label 14: 23 → 200 (+177)\n",
      "🔧 Augmenting label 15: 25 → 200 (+175)\n",
      "🔧 Augmenting label 16: 19 → 200 (+181)\n",
      "🔧 Augmenting label 17: 182 → 200 (+18)\n",
      "🔧 Augmenting label 18: 92 → 200 (+108)\n",
      "🔧 Augmenting label 19: 44 → 200 (+156)\n",
      "🔧 Augmenting label 20: 14 → 200 (+186)\n",
      "🔧 Augmenting label 21: 35 → 200 (+165)\n",
      "🔧 Augmenting label 22: 76 → 200 (+124)\n",
      "🔧 Augmenting label 23: 157 → 200 (+43)\n",
      "🔧 Augmenting label 24: 13 → 200 (+187)\n",
      "🔧 Augmenting label 25: 44 → 200 (+156)\n",
      "🔧 Augmenting label 26: 84 → 200 (+116)\n",
      "🔧 Augmenting label 27: 48 → 200 (+152)\n",
      "🔧 Augmenting label 28: 11 → 200 (+189)\n",
      "🔧 Augmenting label 29: 13 → 200 (+187)\n",
      "🔧 Augmenting label 30: 11 → 200 (+189)\n",
      "🔧 Augmenting label 31: 76 → 200 (+124)\n",
      "🔧 Augmenting label 32: 36 → 200 (+164)\n",
      "🔧 Augmenting label 33: 31 → 200 (+169)\n",
      "🔧 Augmenting label 34: 30 → 200 (+170)\n",
      "🔧 Augmenting label 35: 11 → 200 (+189)\n",
      "🔧 Augmenting label 36: 21 → 200 (+179)\n",
      "🔧 Augmenting label 37: 16 → 200 (+184)\n",
      "🔧 Augmenting label 38: 32 → 200 (+168)\n",
      "🔧 Augmenting label 39: 11 → 200 (+189)\n",
      "🔧 Augmenting label 40: 9 → 200 (+191)\n",
      "🔧 Augmenting label 41: 57 → 200 (+143)\n",
      "🔧 Augmenting label 42: 18 → 200 (+182)\n",
      "🔧 Augmenting label 43: 9 → 200 (+191)\n",
      "🔧 Augmenting label 44: 55 → 200 (+145)\n",
      "🔧 Augmenting label 46: 62 → 200 (+138)\n",
      "🔧 Augmenting label 47: 80 → 200 (+120)\n",
      "Label distribution after resampling:\n",
      "  label 0: 2000\n",
      "  label 1: 200\n",
      "  label 2: 200\n",
      "  label 3: 200\n",
      "  label 4: 200\n",
      "  label 5: 200\n",
      "  label 6: 200\n",
      "  label 7: 200\n",
      "  label 8: 200\n",
      "  label 9: 200\n",
      "  label 10: 200\n",
      "  label 11: 200\n",
      "  label 12: 200\n",
      "  label 13: 200\n",
      "  label 14: 200\n",
      "  label 15: 200\n",
      "  label 16: 200\n",
      "  label 17: 200\n",
      "  label 18: 200\n",
      "  label 19: 200\n",
      "  label 20: 200\n",
      "  label 21: 200\n",
      "  label 22: 200\n",
      "  label 23: 200\n",
      "  label 24: 200\n",
      "  label 25: 200\n",
      "  label 26: 200\n",
      "  label 27: 200\n",
      "  label 28: 200\n",
      "  label 29: 200\n",
      "  label 30: 200\n",
      "  label 31: 200\n",
      "  label 32: 200\n",
      "  label 33: 200\n",
      "  label 34: 200\n",
      "  label 35: 200\n",
      "  label 36: 200\n",
      "  label 37: 200\n",
      "  label 38: 200\n",
      "  label 39: 200\n",
      "  label 40: 200\n",
      "  label 41: 200\n",
      "  label 42: 200\n",
      "  label 43: 200\n",
      "  label 44: 200\n",
      "  label 45: 241\n",
      "  label 46: 200\n",
      "  label 47: 200\n",
      "model is roberta-base bilstm\n"
     ]
    },
    {
     "name": "stderr",
     "output_type": "stream",
     "text": [
      "Some weights of RobertaModel were not initialized from the model checkpoint at roberta-base and are newly initialized: ['pooler.dense.bias', 'pooler.dense.weight']\n",
      "You should probably TRAIN this model on a down-stream task to be able to use it for predictions and inference.\n"
     ]
    },
    {
     "name": "stdout",
     "output_type": "stream",
     "text": [
      "Epoch 1/20\n"
     ]
    },
    {
     "name": "stderr",
     "output_type": "stream",
     "text": [
      "100%|██████████| 716/716 [01:13<00:00,  9.79it/s]\n"
     ]
    },
    {
     "name": "stdout",
     "output_type": "stream",
     "text": [
      "{'val_loss': 2.1755818084972662, 'val_accuracy': 0.43707093821510296, 'precision': 0.5155731341816745, 'recall': 0.43707093821510296, 'f1-score': 0.4310776432635421, 'macro_f1-score': 0.15034340281388794, 'balanced_accuracy': 0.22003729944413777, 'mcc': 0.2786521844560465, 'train_loss': 3.029896701847375}\n",
      "Epoch 2/20\n"
     ]
    },
    {
     "name": "stderr",
     "output_type": "stream",
     "text": [
      "100%|██████████| 716/716 [01:13<00:00,  9.79it/s]\n"
     ]
    },
    {
     "name": "stdout",
     "output_type": "stream",
     "text": [
      "{'val_loss': 1.7393912313187994, 'val_accuracy': 0.5606407322654462, 'precision': 0.5676769384757624, 'recall': 0.5606407322654462, 'f1-score': 0.527125277943986, 'macro_f1-score': 0.2662410481194006, 'balanced_accuracy': 0.31320773632298265, 'mcc': 0.3974853158219754, 'train_loss': 1.85275095110166}\n",
      "Epoch 3/20\n"
     ]
    },
    {
     "name": "stderr",
     "output_type": "stream",
     "text": [
      "100%|██████████| 716/716 [01:13<00:00,  9.77it/s]\n"
     ]
    },
    {
     "name": "stdout",
     "output_type": "stream",
     "text": [
      "{'val_loss': 1.6397263422244932, 'val_accuracy': 0.5911517925247902, 'precision': 0.5814778580183991, 'recall': 0.5911517925247902, 'f1-score': 0.5590361527591771, 'macro_f1-score': 0.3078138815624626, 'balanced_accuracy': 0.34168343760032677, 'mcc': 0.44074569514485634, 'train_loss': 1.2633597683889906}\n",
      "Epoch 4/20\n"
     ]
    },
    {
     "name": "stderr",
     "output_type": "stream",
     "text": [
      "100%|██████████| 716/716 [01:13<00:00,  9.74it/s]\n"
     ]
    },
    {
     "name": "stdout",
     "output_type": "stream",
     "text": [
      "{'val_loss': 1.7426016027244127, 'val_accuracy': 0.551487414187643, 'precision': 0.5910572280401638, 'recall': 0.551487414187643, 'f1-score': 0.5614376757735411, 'macro_f1-score': 0.31967665382001237, 'balanced_accuracy': 0.35628185181882416, 'mcc': 0.4229729171800247, 'train_loss': 0.9164556431969076}\n",
      "Epoch 5/20\n"
     ]
    },
    {
     "name": "stderr",
     "output_type": "stream",
     "text": [
      "100%|██████████| 716/716 [01:13<00:00,  9.78it/s]\n"
     ]
    },
    {
     "name": "stdout",
     "output_type": "stream",
     "text": [
      "{'val_loss': 1.7384795224884662, 'val_accuracy': 0.5957284515636918, 'precision': 0.5929145378373787, 'recall': 0.5957284515636918, 'f1-score': 0.5734497050213689, 'macro_f1-score': 0.3616299741192952, 'balanced_accuracy': 0.3518929177670224, 'mcc': 0.4456233382619752, 'train_loss': 0.6839914754105929}\n",
      "Epoch 6/20\n"
     ]
    },
    {
     "name": "stderr",
     "output_type": "stream",
     "text": [
      "100%|██████████| 716/716 [01:12<00:00,  9.84it/s]\n"
     ]
    },
    {
     "name": "stdout",
     "output_type": "stream",
     "text": [
      "{'val_loss': 1.6990353523231134, 'val_accuracy': 0.5812356979405034, 'precision': 0.5977980628980902, 'recall': 0.5812356979405034, 'f1-score': 0.5833794901240983, 'macro_f1-score': 0.35574206355358173, 'balanced_accuracy': 0.37069190878903174, 'mcc': 0.45737074168737557, 'train_loss': 0.5414677793836461}\n",
      "Epoch 7/20\n"
     ]
    },
    {
     "name": "stderr",
     "output_type": "stream",
     "text": [
      "100%|██████████| 716/716 [01:13<00:00,  9.78it/s]\n"
     ]
    },
    {
     "name": "stdout",
     "output_type": "stream",
     "text": [
      "{'val_loss': 1.8014680049041423, 'val_accuracy': 0.5865751334858886, 'precision': 0.6018924153276036, 'recall': 0.5865751334858886, 'f1-score': 0.5867360912019807, 'macro_f1-score': 0.358505965104285, 'balanced_accuracy': 0.36832082593199117, 'mcc': 0.45757649026018865, 'train_loss': 0.430501817907701}\n",
      "Epoch 8/20\n"
     ]
    },
    {
     "name": "stderr",
     "output_type": "stream",
     "text": [
      "100%|██████████| 716/716 [01:13<00:00,  9.79it/s]\n"
     ]
    },
    {
     "name": "stdout",
     "output_type": "stream",
     "text": [
      "{'val_loss': 1.8772939767052488, 'val_accuracy': 0.5926773455377574, 'precision': 0.5917345421787458, 'recall': 0.5926773455377574, 'f1-score': 0.5798531270455315, 'macro_f1-score': 0.33315520635023893, 'balanced_accuracy': 0.33624344136634027, 'mcc': 0.4554338670718989, 'train_loss': 0.3568073549365115}\n",
      "Early stopping.\n",
      "\n",
      "[Fold 4]\n",
      "🚀 Using Word2Vec + EDA (replace + deletion/swap) for data augmentation + under-sampling\n",
      "🔻 Under-sampling label 0: 2471 → 2000\n",
      "🔧 Augmenting label 1: 22 → 200 (+178)\n",
      "🔧 Augmenting label 2: 64 → 200 (+136)\n",
      "🔧 Augmenting label 3: 24 → 200 (+176)\n",
      "🔧 Augmenting label 4: 190 → 200 (+10)\n",
      "🔧 Augmenting label 5: 113 → 200 (+87)\n",
      "🔧 Augmenting label 6: 93 → 200 (+107)\n",
      "🔧 Augmenting label 7: 31 → 200 (+169)\n",
      "🔧 Augmenting label 8: 68 → 200 (+132)\n",
      "🔧 Augmenting label 9: 29 → 200 (+171)\n",
      "🔧 Augmenting label 10: 67 → 200 (+133)\n",
      "🔧 Augmenting label 11: 169 → 200 (+31)\n",
      "🔧 Augmenting label 12: 190 → 200 (+10)\n",
      "🔧 Augmenting label 13: 29 → 200 (+171)\n",
      "🔧 Augmenting label 14: 22 → 200 (+178)\n",
      "🔧 Augmenting label 15: 25 → 200 (+175)\n",
      "🔧 Augmenting label 16: 19 → 200 (+181)\n",
      "🔧 Augmenting label 17: 182 → 200 (+18)\n",
      "🔧 Augmenting label 18: 92 → 200 (+108)\n",
      "🔧 Augmenting label 19: 44 → 200 (+156)\n",
      "🔧 Augmenting label 20: 14 → 200 (+186)\n",
      "🔧 Augmenting label 21: 35 → 200 (+165)\n",
      "🔧 Augmenting label 22: 76 → 200 (+124)\n",
      "🔧 Augmenting label 23: 158 → 200 (+42)\n",
      "🔧 Augmenting label 24: 13 → 200 (+187)\n",
      "🔧 Augmenting label 25: 44 → 200 (+156)\n",
      "🔧 Augmenting label 26: 84 → 200 (+116)\n",
      "🔧 Augmenting label 27: 48 → 200 (+152)\n",
      "🔧 Augmenting label 28: 11 → 200 (+189)\n",
      "🔧 Augmenting label 29: 13 → 200 (+187)\n",
      "🔧 Augmenting label 30: 11 → 200 (+189)\n",
      "🔧 Augmenting label 31: 75 → 200 (+125)\n",
      "🔧 Augmenting label 32: 36 → 200 (+164)\n",
      "🔧 Augmenting label 33: 31 → 200 (+169)\n",
      "🔧 Augmenting label 34: 30 → 200 (+170)\n",
      "🔧 Augmenting label 35: 11 → 200 (+189)\n",
      "🔧 Augmenting label 36: 22 → 200 (+178)\n",
      "🔧 Augmenting label 37: 16 → 200 (+184)\n",
      "🔧 Augmenting label 38: 33 → 200 (+167)\n",
      "🔧 Augmenting label 39: 10 → 200 (+190)\n",
      "🔧 Augmenting label 40: 9 → 200 (+191)\n",
      "🔧 Augmenting label 41: 56 → 200 (+144)\n",
      "🔧 Augmenting label 42: 18 → 200 (+182)\n",
      "🔧 Augmenting label 43: 9 → 200 (+191)\n",
      "🔧 Augmenting label 44: 55 → 200 (+145)\n",
      "🔧 Augmenting label 46: 62 → 200 (+138)\n",
      "🔧 Augmenting label 47: 80 → 200 (+120)\n",
      "Label distribution after resampling:\n",
      "  label 0: 2000\n",
      "  label 1: 200\n",
      "  label 2: 200\n",
      "  label 3: 200\n",
      "  label 4: 200\n",
      "  label 5: 200\n",
      "  label 6: 200\n",
      "  label 7: 200\n",
      "  label 8: 200\n",
      "  label 9: 200\n",
      "  label 10: 200\n",
      "  label 11: 200\n",
      "  label 12: 200\n",
      "  label 13: 200\n",
      "  label 14: 200\n",
      "  label 15: 200\n",
      "  label 16: 200\n",
      "  label 17: 200\n",
      "  label 18: 200\n",
      "  label 19: 200\n",
      "  label 20: 200\n",
      "  label 21: 200\n",
      "  label 22: 200\n",
      "  label 23: 200\n",
      "  label 24: 200\n",
      "  label 25: 200\n",
      "  label 26: 200\n",
      "  label 27: 200\n",
      "  label 28: 200\n",
      "  label 29: 200\n",
      "  label 30: 200\n",
      "  label 31: 200\n",
      "  label 32: 200\n",
      "  label 33: 200\n",
      "  label 34: 200\n",
      "  label 35: 200\n",
      "  label 36: 200\n",
      "  label 37: 200\n",
      "  label 38: 200\n",
      "  label 39: 200\n",
      "  label 40: 200\n",
      "  label 41: 200\n",
      "  label 42: 200\n",
      "  label 43: 200\n",
      "  label 44: 200\n",
      "  label 45: 241\n",
      "  label 46: 200\n",
      "  label 47: 200\n",
      "model is roberta-base bilstm\n"
     ]
    },
    {
     "name": "stderr",
     "output_type": "stream",
     "text": [
      "Some weights of RobertaModel were not initialized from the model checkpoint at roberta-base and are newly initialized: ['pooler.dense.bias', 'pooler.dense.weight']\n",
      "You should probably TRAIN this model on a down-stream task to be able to use it for predictions and inference.\n"
     ]
    },
    {
     "name": "stdout",
     "output_type": "stream",
     "text": [
      "Epoch 1/20\n"
     ]
    },
    {
     "name": "stderr",
     "output_type": "stream",
     "text": [
      "100%|██████████| 716/716 [01:13<00:00,  9.74it/s]\n"
     ]
    },
    {
     "name": "stdout",
     "output_type": "stream",
     "text": [
      "{'val_loss': 2.0995986149078463, 'val_accuracy': 0.4645308924485126, 'precision': 0.45188677859166787, 'recall': 0.4645308924485126, 'f1-score': 0.43534360378167275, 'macro_f1-score': 0.14054551926811812, 'balanced_accuracy': 0.21099388419064538, 'mcc': 0.27799689963280955, 'train_loss': 2.9380420601234754}\n",
      "Epoch 2/20\n"
     ]
    },
    {
     "name": "stderr",
     "output_type": "stream",
     "text": [
      "100%|██████████| 716/716 [01:13<00:00,  9.78it/s]\n"
     ]
    },
    {
     "name": "stdout",
     "output_type": "stream",
     "text": [
      "{'val_loss': 1.5542440966862003, 'val_accuracy': 0.5758962623951183, 'precision': 0.5917426465382627, 'recall': 0.5758962623951183, 'f1-score': 0.5578356063712866, 'macro_f1-score': 0.322272215441824, 'balanced_accuracy': 0.37436169904285693, 'mcc': 0.43148015335376805, 'train_loss': 1.8091297760689058}\n",
      "Epoch 3/20\n"
     ]
    },
    {
     "name": "stderr",
     "output_type": "stream",
     "text": [
      "100%|██████████| 716/716 [01:13<00:00,  9.76it/s]\n"
     ]
    },
    {
     "name": "stdout",
     "output_type": "stream",
     "text": [
      "{'val_loss': 1.5717336768057288, 'val_accuracy': 0.5743707093821511, 'precision': 0.622590205191466, 'recall': 0.5743707093821511, 'f1-score': 0.5810810809810782, 'macro_f1-score': 0.3474236759071145, 'balanced_accuracy': 0.42613440154915216, 'mcc': 0.46365583862334603, 'train_loss': 1.245082459303254}\n",
      "Epoch 4/20\n"
     ]
    },
    {
     "name": "stderr",
     "output_type": "stream",
     "text": [
      "100%|██████████| 716/716 [01:13<00:00,  9.76it/s]\n"
     ]
    },
    {
     "name": "stdout",
     "output_type": "stream",
     "text": [
      "{'val_loss': 1.4626507195757656, 'val_accuracy': 0.6071700991609459, 'precision': 0.6233736946807245, 'recall': 0.6071700991609459, 'f1-score': 0.6037873227305013, 'macro_f1-score': 0.39037495618631474, 'balanced_accuracy': 0.4172465838053893, 'mcc': 0.48752618115154517, 'train_loss': 0.8889391055986202}\n",
      "Epoch 5/20\n"
     ]
    },
    {
     "name": "stderr",
     "output_type": "stream",
     "text": [
      "100%|██████████| 716/716 [01:13<00:00,  9.76it/s]\n"
     ]
    },
    {
     "name": "stdout",
     "output_type": "stream",
     "text": [
      "{'val_loss': 1.7180673556356896, 'val_accuracy': 0.5644546147978642, 'precision': 0.6366171786501171, 'recall': 0.5644546147978642, 'f1-score': 0.585910454756735, 'macro_f1-score': 0.36878864488157587, 'balanced_accuracy': 0.4454917396383942, 'mcc': 0.46191286318492913, 'train_loss': 0.6659251738693461}\n",
      "Epoch 6/20\n"
     ]
    },
    {
     "name": "stderr",
     "output_type": "stream",
     "text": [
      "100%|██████████| 716/716 [01:13<00:00,  9.76it/s]\n"
     ]
    },
    {
     "name": "stdout",
     "output_type": "stream",
     "text": [
      "{'val_loss': 1.6535216311856014, 'val_accuracy': 0.6224256292906178, 'precision': 0.6266865773078497, 'recall': 0.6224256292906178, 'f1-score': 0.6083663571933628, 'macro_f1-score': 0.3738427655208265, 'balanced_accuracy': 0.40215037744125365, 'mcc': 0.5033563689547706, 'train_loss': 0.5313179752628148}\n",
      "Epoch 7/20\n"
     ]
    },
    {
     "name": "stderr",
     "output_type": "stream",
     "text": [
      "100%|██████████| 716/716 [01:13<00:00,  9.80it/s]\n"
     ]
    },
    {
     "name": "stdout",
     "output_type": "stream",
     "text": [
      "{'val_loss': 1.7192484849109881, 'val_accuracy': 0.6018306636155606, 'precision': 0.6384920029088843, 'recall': 0.6018306636155606, 'f1-score': 0.6099425061554129, 'macro_f1-score': 0.3833353409009055, 'balanced_accuracy': 0.394559547010819, 'mcc': 0.49003278166881287, 'train_loss': 0.38822092184037305}\n",
      "Early stopping.\n",
      "\n",
      "[Fold 5]\n",
      "🚀 Using Word2Vec + EDA (replace + deletion/swap) for data augmentation + under-sampling\n",
      "🔻 Under-sampling label 0: 2472 → 2000\n",
      "🔧 Augmenting label 1: 21 → 200 (+179)\n",
      "🔧 Augmenting label 2: 64 → 200 (+136)\n",
      "🔧 Augmenting label 3: 24 → 200 (+176)\n",
      "🔧 Augmenting label 4: 191 → 200 (+9)\n",
      "🔧 Augmenting label 5: 112 → 200 (+88)\n",
      "🔧 Augmenting label 6: 92 → 200 (+108)\n",
      "🔧 Augmenting label 7: 31 → 200 (+169)\n",
      "🔧 Augmenting label 8: 68 → 200 (+132)\n",
      "🔧 Augmenting label 9: 29 → 200 (+171)\n",
      "🔧 Augmenting label 10: 68 → 200 (+132)\n",
      "🔧 Augmenting label 11: 168 → 200 (+32)\n",
      "🔧 Augmenting label 12: 190 → 200 (+10)\n",
      "🔧 Augmenting label 13: 29 → 200 (+171)\n",
      "🔧 Augmenting label 14: 22 → 200 (+178)\n",
      "🔧 Augmenting label 15: 25 → 200 (+175)\n",
      "🔧 Augmenting label 16: 19 → 200 (+181)\n",
      "🔧 Augmenting label 17: 183 → 200 (+17)\n",
      "🔧 Augmenting label 18: 92 → 200 (+108)\n",
      "🔧 Augmenting label 19: 44 → 200 (+156)\n",
      "🔧 Augmenting label 20: 14 → 200 (+186)\n",
      "🔧 Augmenting label 21: 35 → 200 (+165)\n",
      "🔧 Augmenting label 22: 76 → 200 (+124)\n",
      "🔧 Augmenting label 23: 158 → 200 (+42)\n",
      "🔧 Augmenting label 24: 13 → 200 (+187)\n",
      "🔧 Augmenting label 25: 44 → 200 (+156)\n",
      "🔧 Augmenting label 26: 84 → 200 (+116)\n",
      "🔧 Augmenting label 27: 48 → 200 (+152)\n",
      "🔧 Augmenting label 28: 11 → 200 (+189)\n",
      "🔧 Augmenting label 29: 13 → 200 (+187)\n",
      "🔧 Augmenting label 30: 11 → 200 (+189)\n",
      "🔧 Augmenting label 31: 75 → 200 (+125)\n",
      "🔧 Augmenting label 32: 36 → 200 (+164)\n",
      "🔧 Augmenting label 33: 31 → 200 (+169)\n",
      "🔧 Augmenting label 34: 30 → 200 (+170)\n",
      "🔧 Augmenting label 35: 11 → 200 (+189)\n",
      "🔧 Augmenting label 36: 22 → 200 (+178)\n",
      "🔧 Augmenting label 37: 16 → 200 (+184)\n",
      "🔧 Augmenting label 38: 33 → 200 (+167)\n",
      "🔧 Augmenting label 39: 10 → 200 (+190)\n",
      "🔧 Augmenting label 40: 9 → 200 (+191)\n",
      "🔧 Augmenting label 41: 57 → 200 (+143)\n",
      "🔧 Augmenting label 42: 18 → 200 (+182)\n",
      "🔧 Augmenting label 43: 9 → 200 (+191)\n",
      "🔧 Augmenting label 44: 54 → 200 (+146)\n",
      "🔧 Augmenting label 46: 61 → 200 (+139)\n",
      "🔧 Augmenting label 47: 80 → 200 (+120)\n",
      "Label distribution after resampling:\n",
      "  label 0: 2000\n",
      "  label 1: 200\n",
      "  label 2: 200\n",
      "  label 3: 200\n",
      "  label 4: 200\n",
      "  label 5: 200\n",
      "  label 6: 200\n",
      "  label 7: 200\n",
      "  label 8: 200\n",
      "  label 9: 200\n",
      "  label 10: 200\n",
      "  label 11: 200\n",
      "  label 12: 200\n",
      "  label 13: 200\n",
      "  label 14: 200\n",
      "  label 15: 200\n",
      "  label 16: 200\n",
      "  label 17: 200\n",
      "  label 18: 200\n",
      "  label 19: 200\n",
      "  label 20: 200\n",
      "  label 21: 200\n",
      "  label 22: 200\n",
      "  label 23: 200\n",
      "  label 24: 200\n",
      "  label 25: 200\n",
      "  label 26: 200\n",
      "  label 27: 200\n",
      "  label 28: 200\n",
      "  label 29: 200\n",
      "  label 30: 200\n",
      "  label 31: 200\n",
      "  label 32: 200\n",
      "  label 33: 200\n",
      "  label 34: 200\n",
      "  label 35: 200\n",
      "  label 36: 200\n",
      "  label 37: 200\n",
      "  label 38: 200\n",
      "  label 39: 200\n",
      "  label 40: 200\n",
      "  label 41: 200\n",
      "  label 42: 200\n",
      "  label 43: 200\n",
      "  label 44: 200\n",
      "  label 45: 242\n",
      "  label 46: 200\n",
      "  label 47: 200\n",
      "model is roberta-base bilstm\n"
     ]
    },
    {
     "name": "stderr",
     "output_type": "stream",
     "text": [
      "Some weights of RobertaModel were not initialized from the model checkpoint at roberta-base and are newly initialized: ['pooler.dense.bias', 'pooler.dense.weight']\n",
      "You should probably TRAIN this model on a down-stream task to be able to use it for predictions and inference.\n"
     ]
    },
    {
     "name": "stdout",
     "output_type": "stream",
     "text": [
      "Epoch 1/20\n"
     ]
    },
    {
     "name": "stderr",
     "output_type": "stream",
     "text": [
      "100%|██████████| 716/716 [01:13<00:00,  9.73it/s]\n"
     ]
    },
    {
     "name": "stdout",
     "output_type": "stream",
     "text": [
      "{'val_loss': 2.329390281584205, 'val_accuracy': 0.47063310450038137, 'precision': 0.47673273354031337, 'recall': 0.47063310450038137, 'f1-score': 0.43426109093668225, 'macro_f1-score': 0.14820273285000193, 'balanced_accuracy': 0.23446402433175437, 'mcc': 0.2981570467753965, 'train_loss': 3.0511730468139966}\n",
      "Epoch 2/20\n"
     ]
    },
    {
     "name": "stderr",
     "output_type": "stream",
     "text": [
      "100%|██████████| 716/716 [01:13<00:00,  9.75it/s]\n"
     ]
    },
    {
     "name": "stdout",
     "output_type": "stream",
     "text": [
      "{'val_loss': 1.7638301333276236, 'val_accuracy': 0.528604118993135, 'precision': 0.5273055444942847, 'recall': 0.528604118993135, 'f1-score': 0.5102224443062315, 'macro_f1-score': 0.25369541096007797, 'balanced_accuracy': 0.3264543883856191, 'mcc': 0.37636404016041575, 'train_loss': 2.08132183485191}\n",
      "Epoch 3/20\n"
     ]
    },
    {
     "name": "stderr",
     "output_type": "stream",
     "text": [
      "100%|██████████| 716/716 [01:13<00:00,  9.75it/s]\n"
     ]
    },
    {
     "name": "stdout",
     "output_type": "stream",
     "text": [
      "{'val_loss': 1.6185117785523577, 'val_accuracy': 0.5484363081617086, 'precision': 0.5677562935117499, 'recall': 0.5484363081617086, 'f1-score': 0.5436343993401644, 'macro_f1-score': 0.2976687661641813, 'balanced_accuracy': 0.380746607657624, 'mcc': 0.4153021333772421, 'train_loss': 1.53766731060417}\n",
      "Epoch 4/20\n"
     ]
    },
    {
     "name": "stderr",
     "output_type": "stream",
     "text": [
      "100%|██████████| 716/716 [01:12<00:00,  9.83it/s]\n"
     ]
    },
    {
     "name": "stdout",
     "output_type": "stream",
     "text": [
      "{'val_loss': 1.533637194008362, 'val_accuracy': 0.581998474446987, 'precision': 0.6334186691174439, 'recall': 0.581998474446987, 'f1-score': 0.5877841078857803, 'macro_f1-score': 0.3665127893388336, 'balanced_accuracy': 0.45215622301027003, 'mcc': 0.46428264287276527, 'train_loss': 1.1201097626010132}\n",
      "Epoch 5/20\n"
     ]
    },
    {
     "name": "stderr",
     "output_type": "stream",
     "text": [
      "100%|██████████| 716/716 [01:12<00:00,  9.82it/s]\n"
     ]
    },
    {
     "name": "stdout",
     "output_type": "stream",
     "text": [
      "{'val_loss': 1.5060562200662566, 'val_accuracy': 0.6079328756674295, 'precision': 0.6097909716641894, 'recall': 0.6079328756674295, 'f1-score': 0.592148489312978, 'macro_f1-score': 0.35346736473836954, 'balanced_accuracy': 0.36715887937199526, 'mcc': 0.47110229618462673, 'train_loss': 0.8676657255884656}\n",
      "Epoch 6/20\n"
     ]
    },
    {
     "name": "stderr",
     "output_type": "stream",
     "text": [
      "100%|██████████| 716/716 [01:13<00:00,  9.75it/s]\n"
     ]
    },
    {
     "name": "stdout",
     "output_type": "stream",
     "text": [
      "{'val_loss': 1.581411963192428, 'val_accuracy': 0.6193745232646835, 'precision': 0.6171848979288372, 'recall': 0.6193745232646835, 'f1-score': 0.5927306338760102, 'macro_f1-score': 0.3689781962048018, 'balanced_accuracy': 0.374841290312175, 'mcc': 0.47823117411131805, 'train_loss': 0.7027985432689916}\n",
      "Epoch 7/20\n"
     ]
    },
    {
     "name": "stderr",
     "output_type": "stream",
     "text": [
      "100%|██████████| 716/716 [01:13<00:00,  9.74it/s]\n"
     ]
    },
    {
     "name": "stdout",
     "output_type": "stream",
     "text": [
      "{'val_loss': 1.6017962258036544, 'val_accuracy': 0.6102212051868803, 'precision': 0.6367140523651412, 'recall': 0.6102212051868803, 'f1-score': 0.6129264240288824, 'macro_f1-score': 0.3998685391051892, 'balanced_accuracy': 0.42822257707597444, 'mcc': 0.4990651410160352, 'train_loss': 0.5580576378644012}\n",
      "Epoch 8/20\n"
     ]
    },
    {
     "name": "stderr",
     "output_type": "stream",
     "text": [
      "100%|██████████| 716/716 [01:13<00:00,  9.75it/s]\n"
     ]
    },
    {
     "name": "stdout",
     "output_type": "stream",
     "text": [
      "{'val_loss': 1.6505904186789582, 'val_accuracy': 0.6125095347063311, 'precision': 0.6602188108762943, 'recall': 0.6125095347063311, 'f1-score': 0.6289360254808878, 'macro_f1-score': 0.427066244937695, 'balanced_accuracy': 0.4642277549375738, 'mcc': 0.5070069987677179, 'train_loss': 0.4575828248504861}\n",
      "Epoch 9/20\n"
     ]
    },
    {
     "name": "stderr",
     "output_type": "stream",
     "text": [
      "100%|██████████| 716/716 [01:14<00:00,  9.67it/s]\n"
     ]
    },
    {
     "name": "stdout",
     "output_type": "stream",
     "text": [
      "{'val_loss': 1.6576690764688864, 'val_accuracy': 0.623951182303585, 'precision': 0.63411875185977, 'recall': 0.623951182303585, 'f1-score': 0.6141935774082143, 'macro_f1-score': 0.3770218524521208, 'balanced_accuracy': 0.3899810911246415, 'mcc': 0.5039533136946652, 'train_loss': 0.38396781029481464}\n",
      "Epoch 10/20\n"
     ]
    },
    {
     "name": "stderr",
     "output_type": "stream",
     "text": [
      "100%|██████████| 716/716 [01:13<00:00,  9.74it/s]\n"
     ]
    },
    {
     "name": "stdout",
     "output_type": "stream",
     "text": [
      "{'val_loss': 1.7405434730576306, 'val_accuracy': 0.6109839816933639, 'precision': 0.638985031093549, 'recall': 0.6109839816933639, 'f1-score': 0.6143691107987237, 'macro_f1-score': 0.37978408019825965, 'balanced_accuracy': 0.39923967153024204, 'mcc': 0.5001710815476553, 'train_loss': 0.331724110777443}\n",
      "Epoch 11/20\n"
     ]
    },
    {
     "name": "stderr",
     "output_type": "stream",
     "text": [
      "100%|██████████| 716/716 [01:13<00:00,  9.75it/s]\n"
     ]
    },
    {
     "name": "stdout",
     "output_type": "stream",
     "text": [
      "{'val_loss': 1.7769786072213476, 'val_accuracy': 0.6147978642257819, 'precision': 0.6361704431180086, 'recall': 0.6147978642257819, 'f1-score': 0.6146030972800528, 'macro_f1-score': 0.38967083846091005, 'balanced_accuracy': 0.41583728027007366, 'mcc': 0.5019975993668465, 'train_loss': 0.2918799460693861}\n",
      "Early stopping.\n",
      "\n",
      " === roberta-base + bilstm + word2vec_eda Final 5-fold Cross-Validation Results ===\n",
      "val_loss: 1.6963\n",
      "val_accuracy: 0.6092\n",
      "precision: 0.6339\n",
      "recall: 0.6092\n",
      "f1-score: 0.6097\n",
      "macro_f1-score: 0.3991\n",
      "balanced_accuracy: 0.4179\n",
      "mcc: 0.4907\n",
      "train_loss: 0.5065\n",
      "total_seconds: 4278.0000\n",
      "total_time: 1 hrs 11 mins 18 secs\n",
      "▶ Running: microsoft/deberta-base + plain + word2vec_eda\n",
      "tokenizer is microsoft/deberta-base\n",
      "Using device: cuda\n",
      "CUDA Available: True\n",
      "CUDA Device: NVIDIA GeForce RTX 5070 Ti\n",
      "Current GPU Memory Allocated: 0.02 GB\n",
      "Current GPU Memory Cached: 3.92 GB\n",
      "\n",
      "[Fold 1]\n",
      "🚀 Using Word2Vec + EDA (replace + deletion/swap) for data augmentation + under-sampling\n",
      "🔻 Under-sampling label 0: 2471 → 2000\n",
      "🔧 Augmenting label 1: 21 → 200 (+179)\n",
      "🔧 Augmenting label 2: 64 → 200 (+136)\n",
      "🔧 Augmenting label 3: 24 → 200 (+176)\n",
      "🔧 Augmenting label 4: 191 → 200 (+9)\n",
      "🔧 Augmenting label 5: 113 → 200 (+87)\n",
      "🔧 Augmenting label 6: 93 → 200 (+107)\n",
      "🔧 Augmenting label 7: 30 → 200 (+170)\n",
      "🔧 Augmenting label 8: 68 → 200 (+132)\n",
      "🔧 Augmenting label 9: 30 → 200 (+170)\n",
      "🔧 Augmenting label 10: 67 → 200 (+133)\n",
      "🔧 Augmenting label 11: 169 → 200 (+31)\n",
      "🔧 Augmenting label 12: 189 → 200 (+11)\n",
      "🔧 Augmenting label 13: 29 → 200 (+171)\n",
      "🔧 Augmenting label 14: 22 → 200 (+178)\n",
      "🔧 Augmenting label 15: 25 → 200 (+175)\n",
      "🔧 Augmenting label 16: 19 → 200 (+181)\n",
      "🔧 Augmenting label 17: 183 → 200 (+17)\n",
      "🔧 Augmenting label 18: 92 → 200 (+108)\n",
      "🔧 Augmenting label 19: 44 → 200 (+156)\n",
      "🔧 Augmenting label 20: 13 → 200 (+187)\n",
      "🔧 Augmenting label 21: 35 → 200 (+165)\n",
      "🔧 Augmenting label 22: 76 → 200 (+124)\n",
      "🔧 Augmenting label 23: 158 → 200 (+42)\n",
      "🔧 Augmenting label 24: 13 → 200 (+187)\n",
      "🔧 Augmenting label 25: 44 → 200 (+156)\n",
      "🔧 Augmenting label 26: 84 → 200 (+116)\n",
      "🔧 Augmenting label 27: 48 → 200 (+152)\n",
      "🔧 Augmenting label 28: 11 → 200 (+189)\n",
      "🔧 Augmenting label 29: 13 → 200 (+187)\n",
      "🔧 Augmenting label 30: 11 → 200 (+189)\n",
      "🔧 Augmenting label 31: 75 → 200 (+125)\n",
      "🔧 Augmenting label 32: 36 → 200 (+164)\n",
      "🔧 Augmenting label 33: 32 → 200 (+168)\n",
      "🔧 Augmenting label 34: 29 → 200 (+171)\n",
      "🔧 Augmenting label 35: 11 → 200 (+189)\n",
      "🔧 Augmenting label 36: 22 → 200 (+178)\n",
      "🔧 Augmenting label 37: 16 → 200 (+184)\n",
      "🔧 Augmenting label 38: 33 → 200 (+167)\n",
      "🔧 Augmenting label 39: 10 → 200 (+190)\n",
      "🔧 Augmenting label 40: 9 → 200 (+191)\n",
      "🔧 Augmenting label 41: 57 → 200 (+143)\n",
      "🔧 Augmenting label 42: 19 → 200 (+181)\n",
      "🔧 Augmenting label 43: 8 → 200 (+192)\n",
      "🔧 Augmenting label 44: 54 → 200 (+146)\n",
      "🔧 Augmenting label 46: 61 → 200 (+139)\n",
      "🔧 Augmenting label 47: 80 → 200 (+120)\n",
      "Label distribution after resampling:\n",
      "  label 0: 2000\n",
      "  label 1: 200\n",
      "  label 2: 200\n",
      "  label 3: 200\n",
      "  label 4: 200\n",
      "  label 5: 200\n",
      "  label 6: 200\n",
      "  label 7: 200\n",
      "  label 8: 200\n",
      "  label 9: 200\n",
      "  label 10: 200\n",
      "  label 11: 200\n",
      "  label 12: 200\n",
      "  label 13: 200\n",
      "  label 14: 200\n",
      "  label 15: 200\n",
      "  label 16: 200\n",
      "  label 17: 200\n",
      "  label 18: 200\n",
      "  label 19: 200\n",
      "  label 20: 200\n",
      "  label 21: 200\n",
      "  label 22: 200\n",
      "  label 23: 200\n",
      "  label 24: 200\n",
      "  label 25: 200\n",
      "  label 26: 200\n",
      "  label 27: 200\n",
      "  label 28: 200\n",
      "  label 29: 200\n",
      "  label 30: 200\n",
      "  label 31: 200\n",
      "  label 32: 200\n",
      "  label 33: 200\n",
      "  label 34: 200\n",
      "  label 35: 200\n",
      "  label 36: 200\n",
      "  label 37: 200\n",
      "  label 38: 200\n",
      "  label 39: 200\n",
      "  label 40: 200\n",
      "  label 41: 200\n",
      "  label 42: 200\n",
      "  label 43: 200\n",
      "  label 44: 200\n",
      "  label 45: 242\n",
      "  label 46: 200\n",
      "  label 47: 200\n",
      "model is microsoft/deberta-base\n"
     ]
    },
    {
     "name": "stderr",
     "output_type": "stream",
     "text": [
      "Some weights of DebertaForSequenceClassification were not initialized from the model checkpoint at microsoft/deberta-base and are newly initialized: ['classifier.bias', 'classifier.weight', 'pooler.dense.bias', 'pooler.dense.weight']\n",
      "You should probably TRAIN this model on a down-stream task to be able to use it for predictions and inference.\n"
     ]
    },
    {
     "name": "stdout",
     "output_type": "stream",
     "text": [
      "Epoch 1/20\n"
     ]
    },
    {
     "name": "stderr",
     "output_type": "stream",
     "text": [
      "100%|██████████| 716/716 [01:19<00:00,  8.95it/s]\n"
     ]
    },
    {
     "name": "stdout",
     "output_type": "stream",
     "text": [
      "{'val_loss': 1.7526231564399672, 'val_accuracy': 0.5060975609756098, 'precision': 0.5936430264720495, 'recall': 0.5060975609756098, 'f1-score': 0.5152708995057091, 'macro_f1-score': 0.2506730017914749, 'balanced_accuracy': 0.33530378170536884, 'mcc': 0.36848769036542517, 'train_loss': 2.5256123112400153}\n",
      "Epoch 2/20\n"
     ]
    },
    {
     "name": "stderr",
     "output_type": "stream",
     "text": [
      "100%|██████████| 716/716 [01:18<00:00,  9.18it/s]\n"
     ]
    },
    {
     "name": "stdout",
     "output_type": "stream",
     "text": [
      "{'val_loss': 1.534555304704643, 'val_accuracy': 0.5884146341463414, 'precision': 0.6209688522213528, 'recall': 0.5884146341463414, 'f1-score': 0.585333094436649, 'macro_f1-score': 0.3579445159699059, 'balanced_accuracy': 0.3944890021910294, 'mcc': 0.4666426636757849, 'train_loss': 1.0191680110741261}\n",
      "Epoch 3/20\n"
     ]
    },
    {
     "name": "stderr",
     "output_type": "stream",
     "text": [
      "100%|██████████| 716/716 [01:17<00:00,  9.27it/s]\n"
     ]
    },
    {
     "name": "stdout",
     "output_type": "stream",
     "text": [
      "{'val_loss': 1.646239729916177, 'val_accuracy': 0.5960365853658537, 'precision': 0.6239300531487886, 'recall': 0.5960365853658537, 'f1-score': 0.5841578867318081, 'macro_f1-score': 0.38985950167726996, 'balanced_accuracy': 0.40827787556291506, 'mcc': 0.46243400697301806, 'train_loss': 0.49939886769331865}\n",
      "Epoch 4/20\n"
     ]
    },
    {
     "name": "stderr",
     "output_type": "stream",
     "text": [
      "100%|██████████| 716/716 [01:18<00:00,  9.07it/s]\n"
     ]
    },
    {
     "name": "stdout",
     "output_type": "stream",
     "text": [
      "{'val_loss': 1.7597179093011996, 'val_accuracy': 0.6189024390243902, 'precision': 0.6134407038569277, 'recall': 0.6189024390243902, 'f1-score': 0.5995933444692978, 'macro_f1-score': 0.4037160343388859, 'balanced_accuracy': 0.39339665412668534, 'mcc': 0.484438829638636, 'train_loss': 0.286331424770575}\n",
      "Epoch 5/20\n"
     ]
    },
    {
     "name": "stderr",
     "output_type": "stream",
     "text": [
      "100%|██████████| 716/716 [01:16<00:00,  9.30it/s]\n"
     ]
    },
    {
     "name": "stdout",
     "output_type": "stream",
     "text": [
      "{'val_loss': 1.769876292565974, 'val_accuracy': 0.6280487804878049, 'precision': 0.6294287456734405, 'recall': 0.6280487804878049, 'f1-score': 0.6204929362329903, 'macro_f1-score': 0.40195150839011556, 'balanced_accuracy': 0.40617920351986264, 'mcc': 0.5113399856959028, 'train_loss': 0.19905293040112826}\n",
      "Epoch 6/20\n"
     ]
    },
    {
     "name": "stderr",
     "output_type": "stream",
     "text": [
      "100%|██████████| 716/716 [01:18<00:00,  9.10it/s]\n"
     ]
    },
    {
     "name": "stdout",
     "output_type": "stream",
     "text": [
      "{'val_loss': 1.9322849610229818, 'val_accuracy': 0.6333841463414634, 'precision': 0.6328425521221631, 'recall': 0.6333841463414634, 'f1-score': 0.6229903286675305, 'macro_f1-score': 0.41761769951815103, 'balanced_accuracy': 0.4152864183266393, 'mcc': 0.5151282144071867, 'train_loss': 0.14530481722540164}\n",
      "Epoch 7/20\n"
     ]
    },
    {
     "name": "stderr",
     "output_type": "stream",
     "text": [
      "100%|██████████| 716/716 [01:16<00:00,  9.31it/s]\n"
     ]
    },
    {
     "name": "stdout",
     "output_type": "stream",
     "text": [
      "{'val_loss': 2.1157340072095394, 'val_accuracy': 0.6067073170731707, 'precision': 0.6185202770054921, 'recall': 0.6067073170731707, 'f1-score': 0.6005070858756557, 'macro_f1-score': 0.39633918369604365, 'balanced_accuracy': 0.40710984142236734, 'mcc': 0.486061671176726, 'train_loss': 0.13226660244542762}\n",
      "Epoch 8/20\n"
     ]
    },
    {
     "name": "stderr",
     "output_type": "stream",
     "text": [
      "100%|██████████| 716/716 [01:18<00:00,  9.13it/s]\n"
     ]
    },
    {
     "name": "stdout",
     "output_type": "stream",
     "text": [
      "{'val_loss': 2.192152202129364, 'val_accuracy': 0.5975609756097561, 'precision': 0.5921936475659096, 'recall': 0.5975609756097561, 'f1-score': 0.5802531452842253, 'macro_f1-score': 0.36192048289391715, 'balanced_accuracy': 0.36654942339155405, 'mcc': 0.4545017839547165, 'train_loss': 0.15864300264329156}\n",
      "Epoch 9/20\n"
     ]
    },
    {
     "name": "stderr",
     "output_type": "stream",
     "text": [
      "100%|██████████| 716/716 [01:19<00:00,  9.02it/s]\n"
     ]
    },
    {
     "name": "stdout",
     "output_type": "stream",
     "text": [
      "{'val_loss': 2.2212447407768994, 'val_accuracy': 0.5983231707317073, 'precision': 0.5926238094862418, 'recall': 0.5983231707317073, 'f1-score': 0.5820090081601588, 'macro_f1-score': 0.37339908732079524, 'balanced_accuracy': 0.3866984446857577, 'mcc': 0.47123295747839145, 'train_loss': 0.4569577586234875}\n",
      "Early stopping.\n",
      "\n",
      "[Fold 2]\n",
      "🚀 Using Word2Vec + EDA (replace + deletion/swap) for data augmentation + under-sampling\n",
      "🔻 Under-sampling label 0: 2471 → 2000\n",
      "🔧 Augmenting label 1: 22 → 200 (+178)\n",
      "🔧 Augmenting label 2: 64 → 200 (+136)\n",
      "🔧 Augmenting label 3: 24 → 200 (+176)\n",
      "🔧 Augmenting label 4: 190 → 200 (+10)\n",
      "🔧 Augmenting label 5: 113 → 200 (+87)\n",
      "🔧 Augmenting label 6: 93 → 200 (+107)\n",
      "🔧 Augmenting label 7: 30 → 200 (+170)\n",
      "🔧 Augmenting label 8: 68 → 200 (+132)\n",
      "🔧 Augmenting label 9: 30 → 200 (+170)\n",
      "🔧 Augmenting label 10: 67 → 200 (+133)\n",
      "🔧 Augmenting label 11: 169 → 200 (+31)\n",
      "🔧 Augmenting label 12: 189 → 200 (+11)\n",
      "🔧 Augmenting label 13: 29 → 200 (+171)\n",
      "🔧 Augmenting label 14: 23 → 200 (+177)\n",
      "🔧 Augmenting label 15: 24 → 200 (+176)\n",
      "🔧 Augmenting label 16: 20 → 200 (+180)\n",
      "🔧 Augmenting label 17: 182 → 200 (+18)\n",
      "🔧 Augmenting label 18: 92 → 200 (+108)\n",
      "🔧 Augmenting label 19: 44 → 200 (+156)\n",
      "🔧 Augmenting label 20: 13 → 200 (+187)\n",
      "🔧 Augmenting label 21: 36 → 200 (+164)\n",
      "🔧 Augmenting label 22: 76 → 200 (+124)\n",
      "🔧 Augmenting label 23: 157 → 200 (+43)\n",
      "🔧 Augmenting label 24: 12 → 200 (+188)\n",
      "🔧 Augmenting label 25: 44 → 200 (+156)\n",
      "🔧 Augmenting label 26: 84 → 200 (+116)\n",
      "🔧 Augmenting label 27: 48 → 200 (+152)\n",
      "🔧 Augmenting label 28: 12 → 200 (+188)\n",
      "🔧 Augmenting label 29: 12 → 200 (+188)\n",
      "🔧 Augmenting label 30: 12 → 200 (+188)\n",
      "🔧 Augmenting label 31: 75 → 200 (+125)\n",
      "🔧 Augmenting label 32: 36 → 200 (+164)\n",
      "🔧 Augmenting label 33: 31 → 200 (+169)\n",
      "🔧 Augmenting label 34: 29 → 200 (+171)\n",
      "🔧 Augmenting label 35: 12 → 200 (+188)\n",
      "🔧 Augmenting label 36: 21 → 200 (+179)\n",
      "🔧 Augmenting label 37: 16 → 200 (+184)\n",
      "🔧 Augmenting label 38: 33 → 200 (+167)\n",
      "🔧 Augmenting label 39: 11 → 200 (+189)\n",
      "🔧 Augmenting label 40: 8 → 200 (+192)\n",
      "🔧 Augmenting label 41: 57 → 200 (+143)\n",
      "🔧 Augmenting label 42: 19 → 200 (+181)\n",
      "🔧 Augmenting label 43: 9 → 200 (+191)\n",
      "🔧 Augmenting label 44: 54 → 200 (+146)\n",
      "🔧 Augmenting label 46: 62 → 200 (+138)\n",
      "🔧 Augmenting label 47: 80 → 200 (+120)\n",
      "Label distribution after resampling:\n",
      "  label 0: 2000\n",
      "  label 1: 200\n",
      "  label 2: 200\n",
      "  label 3: 200\n",
      "  label 4: 200\n",
      "  label 5: 200\n",
      "  label 6: 200\n",
      "  label 7: 200\n",
      "  label 8: 200\n",
      "  label 9: 200\n",
      "  label 10: 200\n",
      "  label 11: 200\n",
      "  label 12: 200\n",
      "  label 13: 200\n",
      "  label 14: 200\n",
      "  label 15: 200\n",
      "  label 16: 200\n",
      "  label 17: 200\n",
      "  label 18: 200\n",
      "  label 19: 200\n",
      "  label 20: 200\n",
      "  label 21: 200\n",
      "  label 22: 200\n",
      "  label 23: 200\n",
      "  label 24: 200\n",
      "  label 25: 200\n",
      "  label 26: 200\n",
      "  label 27: 200\n",
      "  label 28: 200\n",
      "  label 29: 200\n",
      "  label 30: 200\n",
      "  label 31: 200\n",
      "  label 32: 200\n",
      "  label 33: 200\n",
      "  label 34: 200\n",
      "  label 35: 200\n",
      "  label 36: 200\n",
      "  label 37: 200\n",
      "  label 38: 200\n",
      "  label 39: 200\n",
      "  label 40: 200\n",
      "  label 41: 200\n",
      "  label 42: 200\n",
      "  label 43: 200\n",
      "  label 44: 200\n",
      "  label 45: 242\n",
      "  label 46: 200\n",
      "  label 47: 200\n",
      "model is microsoft/deberta-base\n"
     ]
    },
    {
     "name": "stderr",
     "output_type": "stream",
     "text": [
      "Some weights of DebertaForSequenceClassification were not initialized from the model checkpoint at microsoft/deberta-base and are newly initialized: ['classifier.bias', 'classifier.weight', 'pooler.dense.bias', 'pooler.dense.weight']\n",
      "You should probably TRAIN this model on a down-stream task to be able to use it for predictions and inference.\n"
     ]
    },
    {
     "name": "stdout",
     "output_type": "stream",
     "text": [
      "Epoch 1/20\n"
     ]
    },
    {
     "name": "stderr",
     "output_type": "stream",
     "text": [
      "100%|██████████| 716/716 [01:18<00:00,  9.12it/s]\n"
     ]
    },
    {
     "name": "stdout",
     "output_type": "stream",
     "text": [
      "{'val_loss': 1.7586073635554895, 'val_accuracy': 0.509534706331045, 'precision': 0.5763976091329481, 'recall': 0.509534706331045, 'f1-score': 0.49374220679193465, 'macro_f1-score': 0.24363470086063685, 'balanced_accuracy': 0.37579615828825763, 'mcc': 0.35825269471229515, 'train_loss': 2.622746601950523}\n",
      "Epoch 2/20\n"
     ]
    },
    {
     "name": "stderr",
     "output_type": "stream",
     "text": [
      "100%|██████████| 716/716 [01:17<00:00,  9.23it/s]\n"
     ]
    },
    {
     "name": "stdout",
     "output_type": "stream",
     "text": [
      "{'val_loss': 1.5253208844763477, 'val_accuracy': 0.623951182303585, 'precision': 0.6019378452554981, 'recall': 0.623951182303585, 'f1-score': 0.5858972296502457, 'macro_f1-score': 0.34707511713767647, 'balanced_accuracy': 0.35511519248548157, 'mcc': 0.4810294214557124, 'train_loss': 1.0538012436773192}\n",
      "Epoch 3/20\n"
     ]
    },
    {
     "name": "stderr",
     "output_type": "stream",
     "text": [
      "100%|██████████| 716/716 [01:18<00:00,  9.14it/s]\n"
     ]
    },
    {
     "name": "stdout",
     "output_type": "stream",
     "text": [
      "{'val_loss': 1.5996377006536577, 'val_accuracy': 0.6170861937452327, 'precision': 0.625171557739523, 'recall': 0.6170861937452327, 'f1-score': 0.6067189493361766, 'macro_f1-score': 0.3692826640757297, 'balanced_accuracy': 0.3986691602607119, 'mcc': 0.4984922745313642, 'train_loss': 0.5211909087582923}\n",
      "Epoch 4/20\n"
     ]
    },
    {
     "name": "stderr",
     "output_type": "stream",
     "text": [
      "100%|██████████| 716/716 [01:18<00:00,  9.10it/s]\n"
     ]
    },
    {
     "name": "stdout",
     "output_type": "stream",
     "text": [
      "{'val_loss': 1.6696753589118398, 'val_accuracy': 0.6292906178489702, 'precision': 0.6245744234426386, 'recall': 0.6292906178489702, 'f1-score': 0.6209319629896722, 'macro_f1-score': 0.37049340246705703, 'balanced_accuracy': 0.39725348066275884, 'mcc': 0.5136319068436891, 'train_loss': 0.3067045938431717}\n",
      "Epoch 5/20\n"
     ]
    },
    {
     "name": "stderr",
     "output_type": "stream",
     "text": [
      "100%|██████████| 716/716 [01:17<00:00,  9.19it/s]\n"
     ]
    },
    {
     "name": "stdout",
     "output_type": "stream",
     "text": [
      "{'val_loss': 1.8760260325379488, 'val_accuracy': 0.620137299771167, 'precision': 0.6383797234042555, 'recall': 0.620137299771167, 'f1-score': 0.6221264849463132, 'macro_f1-score': 0.3756872374178237, 'balanced_accuracy': 0.4145565150727022, 'mcc': 0.5180981383574816, 'train_loss': 0.21238269895060227}\n",
      "Epoch 6/20\n"
     ]
    },
    {
     "name": "stderr",
     "output_type": "stream",
     "text": [
      "100%|██████████| 716/716 [01:18<00:00,  9.13it/s]\n"
     ]
    },
    {
     "name": "stdout",
     "output_type": "stream",
     "text": [
      "{'val_loss': 2.069548645760955, 'val_accuracy': 0.620137299771167, 'precision': 0.6521938669952406, 'recall': 0.620137299771167, 'f1-score': 0.6158349046416556, 'macro_f1-score': 0.38123552149147155, 'balanced_accuracy': 0.42523212874686295, 'mcc': 0.5086311679402727, 'train_loss': 0.14202028167610936}\n",
      "Epoch 7/20\n"
     ]
    },
    {
     "name": "stderr",
     "output_type": "stream",
     "text": [
      "100%|██████████| 716/716 [01:15<00:00,  9.44it/s]\n"
     ]
    },
    {
     "name": "stdout",
     "output_type": "stream",
     "text": [
      "{'val_loss': 1.9972858872355483, 'val_accuracy': 0.6231884057971014, 'precision': 0.6261052858818026, 'recall': 0.6231884057971014, 'f1-score': 0.6191488214788085, 'macro_f1-score': 0.3748082578309417, 'balanced_accuracy': 0.4002898683128524, 'mcc': 0.5112510420660004, 'train_loss': 0.11834834456214859}\n",
      "Epoch 8/20\n"
     ]
    },
    {
     "name": "stderr",
     "output_type": "stream",
     "text": [
      "100%|██████████| 716/716 [01:19<00:00,  9.02it/s]\n"
     ]
    },
    {
     "name": "stdout",
     "output_type": "stream",
     "text": [
      "{'val_loss': 2.017442689436238, 'val_accuracy': 0.6361556064073226, 'precision': 0.6248458301914434, 'recall': 0.6361556064073226, 'f1-score': 0.6219730509520605, 'macro_f1-score': 0.3832529434867406, 'balanced_accuracy': 0.41345975457179845, 'mcc': 0.5190543252508487, 'train_loss': 0.11306089365935505}\n",
      "Epoch 9/20\n"
     ]
    },
    {
     "name": "stderr",
     "output_type": "stream",
     "text": [
      "100%|██████████| 716/716 [01:17<00:00,  9.18it/s]\n"
     ]
    },
    {
     "name": "stdout",
     "output_type": "stream",
     "text": [
      "{'val_loss': 2.228646987821998, 'val_accuracy': 0.5926773455377574, 'precision': 0.6224984766606563, 'recall': 0.5926773455377574, 'f1-score': 0.5934738938717096, 'macro_f1-score': 0.3640505393439781, 'balanced_accuracy': 0.3951019514527254, 'mcc': 0.47694173351558217, 'train_loss': 0.09909802841594281}\n",
      "Epoch 10/20\n"
     ]
    },
    {
     "name": "stderr",
     "output_type": "stream",
     "text": [
      "100%|██████████| 716/716 [01:18<00:00,  9.15it/s]\n"
     ]
    },
    {
     "name": "stdout",
     "output_type": "stream",
     "text": [
      "{'val_loss': 2.262403146522801, 'val_accuracy': 0.620137299771167, 'precision': 0.6287391033292492, 'recall': 0.620137299771167, 'f1-score': 0.6096317500531628, 'macro_f1-score': 0.37990175521170944, 'balanced_accuracy': 0.42157873457399136, 'mcc': 0.5057702267106464, 'train_loss': 0.0781022285000849}\n",
      "Epoch 11/20\n"
     ]
    },
    {
     "name": "stderr",
     "output_type": "stream",
     "text": [
      "100%|██████████| 716/716 [01:18<00:00,  9.09it/s]\n"
     ]
    },
    {
     "name": "stdout",
     "output_type": "stream",
     "text": [
      "{'val_loss': 2.236246809181644, 'val_accuracy': 0.6308161708619374, 'precision': 0.6459793085813433, 'recall': 0.6308161708619374, 'f1-score': 0.6202678768690187, 'macro_f1-score': 0.3941223232918489, 'balanced_accuracy': 0.42691157613543923, 'mcc': 0.5159399698596424, 'train_loss': 0.08063297917149043}\n",
      "Epoch 12/20\n"
     ]
    },
    {
     "name": "stderr",
     "output_type": "stream",
     "text": [
      "100%|██████████| 716/716 [01:19<00:00,  9.03it/s]\n"
     ]
    },
    {
     "name": "stdout",
     "output_type": "stream",
     "text": [
      "{'val_loss': 2.4202573582893465, 'val_accuracy': 0.6041189931350115, 'precision': 0.6261010447895263, 'recall': 0.6041189931350115, 'f1-score': 0.6058538936166609, 'macro_f1-score': 0.35326678006820256, 'balanced_accuracy': 0.3839379647493291, 'mcc': 0.4912463324582995, 'train_loss': 0.07288038941372092}\n",
      "Epoch 13/20\n"
     ]
    },
    {
     "name": "stderr",
     "output_type": "stream",
     "text": [
      "100%|██████████| 716/716 [01:15<00:00,  9.50it/s]\n"
     ]
    },
    {
     "name": "stdout",
     "output_type": "stream",
     "text": [
      "{'val_loss': 2.515632388977016, 'val_accuracy': 0.6300533943554538, 'precision': 0.6302877881442197, 'recall': 0.6300533943554538, 'f1-score': 0.6163168775868868, 'macro_f1-score': 0.40222592679885566, 'balanced_accuracy': 0.40622053523855733, 'mcc': 0.501958943605794, 'train_loss': 0.07439387213741494}\n",
      "Epoch 14/20\n"
     ]
    },
    {
     "name": "stderr",
     "output_type": "stream",
     "text": [
      "100%|██████████| 716/716 [01:12<00:00,  9.82it/s]\n"
     ]
    },
    {
     "name": "stdout",
     "output_type": "stream",
     "text": [
      "{'val_loss': 2.526949832715639, 'val_accuracy': 0.6224256292906178, 'precision': 0.6066409533022266, 'recall': 0.6224256292906178, 'f1-score': 0.6022284860875743, 'macro_f1-score': 0.3638753072194974, 'balanced_accuracy': 0.3556230078871572, 'mcc': 0.4867547895396669, 'train_loss': 0.06252413717809546}\n",
      "Epoch 15/20\n"
     ]
    },
    {
     "name": "stderr",
     "output_type": "stream",
     "text": [
      "100%|██████████| 716/716 [01:12<00:00,  9.83it/s]\n"
     ]
    },
    {
     "name": "stdout",
     "output_type": "stream",
     "text": [
      "{'val_loss': 2.440131277572818, 'val_accuracy': 0.597254004576659, 'precision': 0.6430001089186453, 'recall': 0.597254004576659, 'f1-score': 0.6096508144958345, 'macro_f1-score': 0.38320168198487076, 'balanced_accuracy': 0.41565079851281866, 'mcc': 0.49031145540783294, 'train_loss': 0.061183387166360334}\n",
      "Epoch 16/20\n"
     ]
    },
    {
     "name": "stderr",
     "output_type": "stream",
     "text": [
      "100%|██████████| 716/716 [01:12<00:00,  9.81it/s]\n"
     ]
    },
    {
     "name": "stdout",
     "output_type": "stream",
     "text": [
      "{'val_loss': 2.6933550224071596, 'val_accuracy': 0.6216628527841342, 'precision': 0.6269978448919614, 'recall': 0.6216628527841342, 'f1-score': 0.6108782639949992, 'macro_f1-score': 0.3470229406522712, 'balanced_accuracy': 0.3697273819947182, 'mcc': 0.5020230344667778, 'train_loss': 0.062039791417435625}\n",
      "Early stopping.\n",
      "\n",
      "[Fold 3]\n",
      "🚀 Using Word2Vec + EDA (replace + deletion/swap) for data augmentation + under-sampling\n",
      "🔻 Under-sampling label 0: 2471 → 2000\n",
      "🔧 Augmenting label 1: 22 → 200 (+178)\n",
      "🔧 Augmenting label 2: 64 → 200 (+136)\n",
      "🔧 Augmenting label 3: 24 → 200 (+176)\n",
      "🔧 Augmenting label 4: 190 → 200 (+10)\n",
      "🔧 Augmenting label 5: 113 → 200 (+87)\n",
      "🔧 Augmenting label 6: 93 → 200 (+107)\n",
      "🔧 Augmenting label 7: 30 → 200 (+170)\n",
      "🔧 Augmenting label 8: 68 → 200 (+132)\n",
      "🔧 Augmenting label 9: 30 → 200 (+170)\n",
      "🔧 Augmenting label 10: 67 → 200 (+133)\n",
      "🔧 Augmenting label 11: 169 → 200 (+31)\n",
      "🔧 Augmenting label 12: 190 → 200 (+10)\n",
      "🔧 Augmenting label 13: 28 → 200 (+172)\n",
      "🔧 Augmenting label 14: 23 → 200 (+177)\n",
      "🔧 Augmenting label 15: 25 → 200 (+175)\n",
      "🔧 Augmenting label 16: 19 → 200 (+181)\n",
      "🔧 Augmenting label 17: 182 → 200 (+18)\n",
      "🔧 Augmenting label 18: 92 → 200 (+108)\n",
      "🔧 Augmenting label 19: 44 → 200 (+156)\n",
      "🔧 Augmenting label 20: 14 → 200 (+186)\n",
      "🔧 Augmenting label 21: 35 → 200 (+165)\n",
      "🔧 Augmenting label 22: 76 → 200 (+124)\n",
      "🔧 Augmenting label 23: 157 → 200 (+43)\n",
      "🔧 Augmenting label 24: 13 → 200 (+187)\n",
      "🔧 Augmenting label 25: 44 → 200 (+156)\n",
      "🔧 Augmenting label 26: 84 → 200 (+116)\n",
      "🔧 Augmenting label 27: 48 → 200 (+152)\n",
      "🔧 Augmenting label 28: 11 → 200 (+189)\n",
      "🔧 Augmenting label 29: 13 → 200 (+187)\n",
      "🔧 Augmenting label 30: 11 → 200 (+189)\n",
      "🔧 Augmenting label 31: 76 → 200 (+124)\n",
      "🔧 Augmenting label 32: 36 → 200 (+164)\n",
      "🔧 Augmenting label 33: 31 → 200 (+169)\n",
      "🔧 Augmenting label 34: 30 → 200 (+170)\n",
      "🔧 Augmenting label 35: 11 → 200 (+189)\n",
      "🔧 Augmenting label 36: 21 → 200 (+179)\n",
      "🔧 Augmenting label 37: 16 → 200 (+184)\n",
      "🔧 Augmenting label 38: 32 → 200 (+168)\n",
      "🔧 Augmenting label 39: 11 → 200 (+189)\n",
      "🔧 Augmenting label 40: 9 → 200 (+191)\n",
      "🔧 Augmenting label 41: 57 → 200 (+143)\n",
      "🔧 Augmenting label 42: 18 → 200 (+182)\n",
      "🔧 Augmenting label 43: 9 → 200 (+191)\n",
      "🔧 Augmenting label 44: 55 → 200 (+145)\n",
      "🔧 Augmenting label 46: 62 → 200 (+138)\n",
      "🔧 Augmenting label 47: 80 → 200 (+120)\n",
      "Label distribution after resampling:\n",
      "  label 0: 2000\n",
      "  label 1: 200\n",
      "  label 2: 200\n",
      "  label 3: 200\n",
      "  label 4: 200\n",
      "  label 5: 200\n",
      "  label 6: 200\n",
      "  label 7: 200\n",
      "  label 8: 200\n",
      "  label 9: 200\n",
      "  label 10: 200\n",
      "  label 11: 200\n",
      "  label 12: 200\n",
      "  label 13: 200\n",
      "  label 14: 200\n",
      "  label 15: 200\n",
      "  label 16: 200\n",
      "  label 17: 200\n",
      "  label 18: 200\n",
      "  label 19: 200\n",
      "  label 20: 200\n",
      "  label 21: 200\n",
      "  label 22: 200\n",
      "  label 23: 200\n",
      "  label 24: 200\n",
      "  label 25: 200\n",
      "  label 26: 200\n",
      "  label 27: 200\n",
      "  label 28: 200\n",
      "  label 29: 200\n",
      "  label 30: 200\n",
      "  label 31: 200\n",
      "  label 32: 200\n",
      "  label 33: 200\n",
      "  label 34: 200\n",
      "  label 35: 200\n",
      "  label 36: 200\n",
      "  label 37: 200\n",
      "  label 38: 200\n",
      "  label 39: 200\n",
      "  label 40: 200\n",
      "  label 41: 200\n",
      "  label 42: 200\n",
      "  label 43: 200\n",
      "  label 44: 200\n",
      "  label 45: 241\n",
      "  label 46: 200\n",
      "  label 47: 200\n",
      "model is microsoft/deberta-base\n"
     ]
    },
    {
     "name": "stderr",
     "output_type": "stream",
     "text": [
      "Some weights of DebertaForSequenceClassification were not initialized from the model checkpoint at microsoft/deberta-base and are newly initialized: ['classifier.bias', 'classifier.weight', 'pooler.dense.bias', 'pooler.dense.weight']\n",
      "You should probably TRAIN this model on a down-stream task to be able to use it for predictions and inference.\n"
     ]
    },
    {
     "name": "stdout",
     "output_type": "stream",
     "text": [
      "Epoch 1/20\n"
     ]
    },
    {
     "name": "stderr",
     "output_type": "stream",
     "text": [
      "100%|██████████| 716/716 [01:12<00:00,  9.82it/s]\n"
     ]
    },
    {
     "name": "stdout",
     "output_type": "stream",
     "text": [
      "{'val_loss': 1.9441280190537615, 'val_accuracy': 0.43859649122807015, 'precision': 0.5606325854373241, 'recall': 0.43859649122807015, 'f1-score': 0.4689027149272607, 'macro_f1-score': 0.2574294144296673, 'balanced_accuracy': 0.347476277500631, 'mcc': 0.33726832220121744, 'train_loss': 2.3327750791717508}\n",
      "Epoch 2/20\n"
     ]
    },
    {
     "name": "stderr",
     "output_type": "stream",
     "text": [
      "100%|██████████| 716/716 [01:12<00:00,  9.82it/s]\n"
     ]
    },
    {
     "name": "stdout",
     "output_type": "stream",
     "text": [
      "{'val_loss': 1.534085850163204, 'val_accuracy': 0.5964912280701754, 'precision': 0.5951981841050679, 'recall': 0.5964912280701754, 'f1-score': 0.5794097254330811, 'macro_f1-score': 0.3373615272981785, 'balanced_accuracy': 0.34217325813220567, 'mcc': 0.4557206656817859, 'train_loss': 0.9572858889092947}\n",
      "Epoch 3/20\n"
     ]
    },
    {
     "name": "stderr",
     "output_type": "stream",
     "text": [
      "100%|██████████| 716/716 [01:13<00:00,  9.75it/s]\n"
     ]
    },
    {
     "name": "stdout",
     "output_type": "stream",
     "text": [
      "{'val_loss': 1.6149791504551725, 'val_accuracy': 0.601067887109077, 'precision': 0.6148855417135557, 'recall': 0.601067887109077, 'f1-score': 0.5958091786481733, 'macro_f1-score': 0.3624941205249674, 'balanced_accuracy': 0.34958444450343357, 'mcc': 0.47299303670864906, 'train_loss': 0.49783860722442247}\n",
      "Epoch 4/20\n"
     ]
    },
    {
     "name": "stderr",
     "output_type": "stream",
     "text": [
      "100%|██████████| 716/716 [01:18<00:00,  9.14it/s]\n"
     ]
    },
    {
     "name": "stdout",
     "output_type": "stream",
     "text": [
      "{'val_loss': 1.7926257988665162, 'val_accuracy': 0.6186117467581999, 'precision': 0.6026492681621882, 'recall': 0.6186117467581999, 'f1-score': 0.6032940896251748, 'macro_f1-score': 0.3539855313276863, 'balanced_accuracy': 0.3480342154855947, 'mcc': 0.491419599684287, 'train_loss': 0.2889518351320115}\n",
      "Epoch 5/20\n"
     ]
    },
    {
     "name": "stderr",
     "output_type": "stream",
     "text": [
      "100%|██████████| 716/716 [01:14<00:00,  9.59it/s]\n"
     ]
    },
    {
     "name": "stdout",
     "output_type": "stream",
     "text": [
      "{'val_loss': 1.8647533437100852, 'val_accuracy': 0.6117467581998475, 'precision': 0.6089328919157985, 'recall': 0.6117467581998475, 'f1-score': 0.6024008072776487, 'macro_f1-score': 0.3623645095618407, 'balanced_accuracy': 0.34895650047342014, 'mcc': 0.4869695737145939, 'train_loss': 0.19176920965787378}\n",
      "Epoch 6/20\n"
     ]
    },
    {
     "name": "stderr",
     "output_type": "stream",
     "text": [
      "100%|██████████| 716/716 [01:13<00:00,  9.77it/s]\n"
     ]
    },
    {
     "name": "stdout",
     "output_type": "stream",
     "text": [
      "{'val_loss': 2.2394007591576113, 'val_accuracy': 0.5751334858886347, 'precision': 0.6222116299718137, 'recall': 0.5751334858886347, 'f1-score': 0.5854596655016338, 'macro_f1-score': 0.37008830331683257, 'balanced_accuracy': 0.39715738488126123, 'mcc': 0.4684951346013007, 'train_loss': 0.14771411118101505}\n",
      "Epoch 7/20\n"
     ]
    },
    {
     "name": "stderr",
     "output_type": "stream",
     "text": [
      "100%|██████████| 716/716 [01:13<00:00,  9.80it/s]\n"
     ]
    },
    {
     "name": "stdout",
     "output_type": "stream",
     "text": [
      "{'val_loss': 2.09268725227292, 'val_accuracy': 0.6170861937452327, 'precision': 0.6226757886374035, 'recall': 0.6170861937452327, 'f1-score': 0.6069278421370544, 'macro_f1-score': 0.3571411063673491, 'balanced_accuracy': 0.364180529547854, 'mcc': 0.5015250280553852, 'train_loss': 0.16685396135334632}\n",
      "Epoch 8/20\n"
     ]
    },
    {
     "name": "stderr",
     "output_type": "stream",
     "text": [
      "100%|██████████| 716/716 [01:12<00:00,  9.82it/s]\n"
     ]
    },
    {
     "name": "stdout",
     "output_type": "stream",
     "text": [
      "{'val_loss': 2.23991143310488, 'val_accuracy': 0.6392067124332571, 'precision': 0.607299705372346, 'recall': 0.6392067124332571, 'f1-score': 0.6102868220285899, 'macro_f1-score': 0.34659998125171715, 'balanced_accuracy': 0.3284133699903887, 'mcc': 0.5066237400328154, 'train_loss': 0.10733391567020854}\n",
      "Epoch 9/20\n"
     ]
    },
    {
     "name": "stderr",
     "output_type": "stream",
     "text": [
      "100%|██████████| 716/716 [01:13<00:00,  9.80it/s]\n"
     ]
    },
    {
     "name": "stdout",
     "output_type": "stream",
     "text": [
      "{'val_loss': 2.2128894078295405, 'val_accuracy': 0.6323417238749046, 'precision': 0.6315120749263213, 'recall': 0.6323417238749046, 'f1-score': 0.6195578811799445, 'macro_f1-score': 0.3799618197465772, 'balanced_accuracy': 0.3714042628064195, 'mcc': 0.5113077928747198, 'train_loss': 0.08449914714457421}\n",
      "Epoch 10/20\n"
     ]
    },
    {
     "name": "stderr",
     "output_type": "stream",
     "text": [
      "100%|██████████| 716/716 [01:13<00:00,  9.80it/s]\n"
     ]
    },
    {
     "name": "stdout",
     "output_type": "stream",
     "text": [
      "{'val_loss': 2.3143218658501055, 'val_accuracy': 0.6132723112128147, 'precision': 0.6317212348541564, 'recall': 0.6132723112128147, 'f1-score': 0.6111284946560207, 'macro_f1-score': 0.40001489086920544, 'balanced_accuracy': 0.38701429443829, 'mcc': 0.49706770659800836, 'train_loss': 0.08011059134358159}\n",
      "Epoch 11/20\n"
     ]
    },
    {
     "name": "stderr",
     "output_type": "stream",
     "text": [
      "100%|██████████| 716/716 [01:13<00:00,  9.79it/s]\n"
     ]
    },
    {
     "name": "stdout",
     "output_type": "stream",
     "text": [
      "{'val_loss': 2.279295112483385, 'val_accuracy': 0.6247139588100686, 'precision': 0.624342087156692, 'recall': 0.6247139588100686, 'f1-score': 0.6132669368350215, 'macro_f1-score': 0.38358632867325454, 'balanced_accuracy': 0.381062502618467, 'mcc': 0.5013715749070983, 'train_loss': 0.08490793407597454}\n",
      "Epoch 12/20\n"
     ]
    },
    {
     "name": "stderr",
     "output_type": "stream",
     "text": [
      "100%|██████████| 716/716 [01:13<00:00,  9.78it/s]\n"
     ]
    },
    {
     "name": "stdout",
     "output_type": "stream",
     "text": [
      "{'val_loss': 2.5332804974622842, 'val_accuracy': 0.6147978642257819, 'precision': 0.6069434476798875, 'recall': 0.6147978642257819, 'f1-score': 0.602069415554164, 'macro_f1-score': 0.3541936239709594, 'balanced_accuracy': 0.3443668823933958, 'mcc': 0.4854850880894229, 'train_loss': 0.08229704565287622}\n",
      "Epoch 13/20\n"
     ]
    },
    {
     "name": "stderr",
     "output_type": "stream",
     "text": [
      "100%|██████████| 716/716 [01:13<00:00,  9.80it/s]\n"
     ]
    },
    {
     "name": "stdout",
     "output_type": "stream",
     "text": [
      "{'val_loss': 2.507212248062942, 'val_accuracy': 0.5797101449275363, 'precision': 0.6206991629353971, 'recall': 0.5797101449275363, 'f1-score': 0.5915133563616501, 'macro_f1-score': 0.3929880095357321, 'balanced_accuracy': 0.4074108612977663, 'mcc': 0.46375092481474983, 'train_loss': 0.12198946680998828}\n",
      "Early stopping.\n",
      "\n",
      "[Fold 4]\n",
      "🚀 Using Word2Vec + EDA (replace + deletion/swap) for data augmentation + under-sampling\n",
      "🔻 Under-sampling label 0: 2471 → 2000\n",
      "🔧 Augmenting label 1: 22 → 200 (+178)\n",
      "🔧 Augmenting label 2: 64 → 200 (+136)\n",
      "🔧 Augmenting label 3: 24 → 200 (+176)\n",
      "🔧 Augmenting label 4: 190 → 200 (+10)\n",
      "🔧 Augmenting label 5: 113 → 200 (+87)\n",
      "🔧 Augmenting label 6: 93 → 200 (+107)\n",
      "🔧 Augmenting label 7: 31 → 200 (+169)\n",
      "🔧 Augmenting label 8: 68 → 200 (+132)\n",
      "🔧 Augmenting label 9: 29 → 200 (+171)\n",
      "🔧 Augmenting label 10: 67 → 200 (+133)\n",
      "🔧 Augmenting label 11: 169 → 200 (+31)\n",
      "🔧 Augmenting label 12: 190 → 200 (+10)\n",
      "🔧 Augmenting label 13: 29 → 200 (+171)\n",
      "🔧 Augmenting label 14: 22 → 200 (+178)\n",
      "🔧 Augmenting label 15: 25 → 200 (+175)\n",
      "🔧 Augmenting label 16: 19 → 200 (+181)\n",
      "🔧 Augmenting label 17: 182 → 200 (+18)\n",
      "🔧 Augmenting label 18: 92 → 200 (+108)\n",
      "🔧 Augmenting label 19: 44 → 200 (+156)\n",
      "🔧 Augmenting label 20: 14 → 200 (+186)\n",
      "🔧 Augmenting label 21: 35 → 200 (+165)\n",
      "🔧 Augmenting label 22: 76 → 200 (+124)\n",
      "🔧 Augmenting label 23: 158 → 200 (+42)\n",
      "🔧 Augmenting label 24: 13 → 200 (+187)\n",
      "🔧 Augmenting label 25: 44 → 200 (+156)\n",
      "🔧 Augmenting label 26: 84 → 200 (+116)\n",
      "🔧 Augmenting label 27: 48 → 200 (+152)\n",
      "🔧 Augmenting label 28: 11 → 200 (+189)\n",
      "🔧 Augmenting label 29: 13 → 200 (+187)\n",
      "🔧 Augmenting label 30: 11 → 200 (+189)\n",
      "🔧 Augmenting label 31: 75 → 200 (+125)\n",
      "🔧 Augmenting label 32: 36 → 200 (+164)\n",
      "🔧 Augmenting label 33: 31 → 200 (+169)\n",
      "🔧 Augmenting label 34: 30 → 200 (+170)\n",
      "🔧 Augmenting label 35: 11 → 200 (+189)\n",
      "🔧 Augmenting label 36: 22 → 200 (+178)\n",
      "🔧 Augmenting label 37: 16 → 200 (+184)\n",
      "🔧 Augmenting label 38: 33 → 200 (+167)\n",
      "🔧 Augmenting label 39: 10 → 200 (+190)\n",
      "🔧 Augmenting label 40: 9 → 200 (+191)\n",
      "🔧 Augmenting label 41: 56 → 200 (+144)\n",
      "🔧 Augmenting label 42: 18 → 200 (+182)\n",
      "🔧 Augmenting label 43: 9 → 200 (+191)\n",
      "🔧 Augmenting label 44: 55 → 200 (+145)\n",
      "🔧 Augmenting label 46: 62 → 200 (+138)\n",
      "🔧 Augmenting label 47: 80 → 200 (+120)\n",
      "Label distribution after resampling:\n",
      "  label 0: 2000\n",
      "  label 1: 200\n",
      "  label 2: 200\n",
      "  label 3: 200\n",
      "  label 4: 200\n",
      "  label 5: 200\n",
      "  label 6: 200\n",
      "  label 7: 200\n",
      "  label 8: 200\n",
      "  label 9: 200\n",
      "  label 10: 200\n",
      "  label 11: 200\n",
      "  label 12: 200\n",
      "  label 13: 200\n",
      "  label 14: 200\n",
      "  label 15: 200\n",
      "  label 16: 200\n",
      "  label 17: 200\n",
      "  label 18: 200\n",
      "  label 19: 200\n",
      "  label 20: 200\n",
      "  label 21: 200\n",
      "  label 22: 200\n",
      "  label 23: 200\n",
      "  label 24: 200\n",
      "  label 25: 200\n",
      "  label 26: 200\n",
      "  label 27: 200\n",
      "  label 28: 200\n",
      "  label 29: 200\n",
      "  label 30: 200\n",
      "  label 31: 200\n",
      "  label 32: 200\n",
      "  label 33: 200\n",
      "  label 34: 200\n",
      "  label 35: 200\n",
      "  label 36: 200\n",
      "  label 37: 200\n",
      "  label 38: 200\n",
      "  label 39: 200\n",
      "  label 40: 200\n",
      "  label 41: 200\n",
      "  label 42: 200\n",
      "  label 43: 200\n",
      "  label 44: 200\n",
      "  label 45: 241\n",
      "  label 46: 200\n",
      "  label 47: 200\n",
      "model is microsoft/deberta-base\n"
     ]
    },
    {
     "name": "stderr",
     "output_type": "stream",
     "text": [
      "Some weights of DebertaForSequenceClassification were not initialized from the model checkpoint at microsoft/deberta-base and are newly initialized: ['classifier.bias', 'classifier.weight', 'pooler.dense.bias', 'pooler.dense.weight']\n",
      "You should probably TRAIN this model on a down-stream task to be able to use it for predictions and inference.\n"
     ]
    },
    {
     "name": "stdout",
     "output_type": "stream",
     "text": [
      "Epoch 1/20\n"
     ]
    },
    {
     "name": "stderr",
     "output_type": "stream",
     "text": [
      "100%|██████████| 716/716 [01:13<00:00,  9.80it/s]\n"
     ]
    },
    {
     "name": "stdout",
     "output_type": "stream",
     "text": [
      "{'val_loss': 1.559315810116326, 'val_accuracy': 0.5675057208237986, 'precision': 0.5993318820794896, 'recall': 0.5675057208237986, 'f1-score': 0.561851121887919, 'macro_f1-score': 0.3299454652045716, 'balanced_accuracy': 0.3978912184569403, 'mcc': 0.4354631657669184, 'train_loss': 2.3931965634913586}\n",
      "Epoch 2/20\n"
     ]
    },
    {
     "name": "stderr",
     "output_type": "stream",
     "text": [
      "100%|██████████| 716/716 [01:13<00:00,  9.80it/s]\n"
     ]
    },
    {
     "name": "stdout",
     "output_type": "stream",
     "text": [
      "{'val_loss': 1.370714124019553, 'val_accuracy': 0.6346300533943554, 'precision': 0.6077821997783721, 'recall': 0.6346300533943554, 'f1-score': 0.6107551198277547, 'macro_f1-score': 0.3730361966649407, 'balanced_accuracy': 0.3872666400419306, 'mcc': 0.5078539760391741, 'train_loss': 1.0018412765198745}\n",
      "Epoch 3/20\n"
     ]
    },
    {
     "name": "stderr",
     "output_type": "stream",
     "text": [
      "100%|██████████| 716/716 [01:12<00:00,  9.81it/s]\n"
     ]
    },
    {
     "name": "stdout",
     "output_type": "stream",
     "text": [
      "{'val_loss': 1.5172291771486037, 'val_accuracy': 0.6437833714721587, 'precision': 0.6398337169452598, 'recall': 0.6437833714721587, 'f1-score': 0.6351355327092307, 'macro_f1-score': 0.40546347394377874, 'balanced_accuracy': 0.4089290346853558, 'mcc': 0.5279377037718903, 'train_loss': 0.49715255029849426}\n",
      "Epoch 4/20\n"
     ]
    },
    {
     "name": "stderr",
     "output_type": "stream",
     "text": [
      "100%|██████████| 716/716 [01:13<00:00,  9.76it/s]\n"
     ]
    },
    {
     "name": "stdout",
     "output_type": "stream",
     "text": [
      "{'val_loss': 1.5217939340850202, 'val_accuracy': 0.6643783371472158, 'precision': 0.6516496769278205, 'recall': 0.6643783371472158, 'f1-score': 0.6476518480805448, 'macro_f1-score': 0.41035057641360667, 'balanced_accuracy': 0.402575007854022, 'mcc': 0.5538793332317742, 'train_loss': 0.32328610057167334}\n",
      "Epoch 5/20\n"
     ]
    },
    {
     "name": "stderr",
     "output_type": "stream",
     "text": [
      "100%|██████████| 716/716 [01:13<00:00,  9.80it/s]\n"
     ]
    },
    {
     "name": "stdout",
     "output_type": "stream",
     "text": [
      "{'val_loss': 1.7695706016043338, 'val_accuracy': 0.6498855835240275, 'precision': 0.6569310138951621, 'recall': 0.6498855835240275, 'f1-score': 0.6281751357302374, 'macro_f1-score': 0.39208800024229157, 'balanced_accuracy': 0.37574087428417124, 'mcc': 0.5232125023267504, 'train_loss': 0.2043985602876442}\n",
      "Epoch 6/20\n"
     ]
    },
    {
     "name": "stderr",
     "output_type": "stream",
     "text": [
      "100%|██████████| 716/716 [01:13<00:00,  9.79it/s]\n"
     ]
    },
    {
     "name": "stdout",
     "output_type": "stream",
     "text": [
      "{'val_loss': 1.778869273459039, 'val_accuracy': 0.6331045003813882, 'precision': 0.6517426895436308, 'recall': 0.6331045003813882, 'f1-score': 0.6329200644333913, 'macro_f1-score': 0.4172107260708157, 'balanced_accuracy': 0.44511468876147386, 'mcc': 0.52801529813561, 'train_loss': 0.1677341923335835}\n",
      "Epoch 7/20\n"
     ]
    },
    {
     "name": "stderr",
     "output_type": "stream",
     "text": [
      "100%|██████████| 716/716 [01:13<00:00,  9.79it/s]\n"
     ]
    },
    {
     "name": "stdout",
     "output_type": "stream",
     "text": [
      "{'val_loss': 2.122610067812408, 'val_accuracy': 0.597254004576659, 'precision': 0.6406662233535063, 'recall': 0.597254004576659, 'f1-score': 0.6058958400425054, 'macro_f1-score': 0.3786260309629193, 'balanced_accuracy': 0.41112685194976467, 'mcc': 0.49255293647209664, 'train_loss': 0.11232907544722645}\n",
      "Epoch 8/20\n"
     ]
    },
    {
     "name": "stderr",
     "output_type": "stream",
     "text": [
      "100%|██████████| 716/716 [01:13<00:00,  9.80it/s]\n"
     ]
    },
    {
     "name": "stdout",
     "output_type": "stream",
     "text": [
      "{'val_loss': 2.0078846637795613, 'val_accuracy': 0.6224256292906178, 'precision': 0.6523102038713607, 'recall': 0.6224256292906178, 'f1-score': 0.6256661727154501, 'macro_f1-score': 0.393503814751105, 'balanced_accuracy': 0.4230981320228448, 'mcc': 0.5160531968519947, 'train_loss': 0.1159597932401389}\n",
      "Epoch 9/20\n"
     ]
    },
    {
     "name": "stderr",
     "output_type": "stream",
     "text": [
      "100%|██████████| 716/716 [01:12<00:00,  9.81it/s]\n"
     ]
    },
    {
     "name": "stdout",
     "output_type": "stream",
     "text": [
      "{'val_loss': 2.114205686784372, 'val_accuracy': 0.6285278413424866, 'precision': 0.6400187845710651, 'recall': 0.6285278413424866, 'f1-score': 0.6282701704923143, 'macro_f1-score': 0.3851985007319458, 'balanced_accuracy': 0.42456643740742755, 'mcc': 0.523184468645407, 'train_loss': 0.11953388793067486}\n",
      "Early stopping.\n",
      "\n",
      "[Fold 5]\n",
      "🚀 Using Word2Vec + EDA (replace + deletion/swap) for data augmentation + under-sampling\n",
      "🔻 Under-sampling label 0: 2472 → 2000\n",
      "🔧 Augmenting label 1: 21 → 200 (+179)\n",
      "🔧 Augmenting label 2: 64 → 200 (+136)\n",
      "🔧 Augmenting label 3: 24 → 200 (+176)\n",
      "🔧 Augmenting label 4: 191 → 200 (+9)\n",
      "🔧 Augmenting label 5: 112 → 200 (+88)\n",
      "🔧 Augmenting label 6: 92 → 200 (+108)\n",
      "🔧 Augmenting label 7: 31 → 200 (+169)\n",
      "🔧 Augmenting label 8: 68 → 200 (+132)\n",
      "🔧 Augmenting label 9: 29 → 200 (+171)\n",
      "🔧 Augmenting label 10: 68 → 200 (+132)\n",
      "🔧 Augmenting label 11: 168 → 200 (+32)\n",
      "🔧 Augmenting label 12: 190 → 200 (+10)\n",
      "🔧 Augmenting label 13: 29 → 200 (+171)\n",
      "🔧 Augmenting label 14: 22 → 200 (+178)\n",
      "🔧 Augmenting label 15: 25 → 200 (+175)\n",
      "🔧 Augmenting label 16: 19 → 200 (+181)\n",
      "🔧 Augmenting label 17: 183 → 200 (+17)\n",
      "🔧 Augmenting label 18: 92 → 200 (+108)\n",
      "🔧 Augmenting label 19: 44 → 200 (+156)\n",
      "🔧 Augmenting label 20: 14 → 200 (+186)\n",
      "🔧 Augmenting label 21: 35 → 200 (+165)\n",
      "🔧 Augmenting label 22: 76 → 200 (+124)\n",
      "🔧 Augmenting label 23: 158 → 200 (+42)\n",
      "🔧 Augmenting label 24: 13 → 200 (+187)\n",
      "🔧 Augmenting label 25: 44 → 200 (+156)\n",
      "🔧 Augmenting label 26: 84 → 200 (+116)\n",
      "🔧 Augmenting label 27: 48 → 200 (+152)\n",
      "🔧 Augmenting label 28: 11 → 200 (+189)\n",
      "🔧 Augmenting label 29: 13 → 200 (+187)\n",
      "🔧 Augmenting label 30: 11 → 200 (+189)\n",
      "🔧 Augmenting label 31: 75 → 200 (+125)\n",
      "🔧 Augmenting label 32: 36 → 200 (+164)\n",
      "🔧 Augmenting label 33: 31 → 200 (+169)\n",
      "🔧 Augmenting label 34: 30 → 200 (+170)\n",
      "🔧 Augmenting label 35: 11 → 200 (+189)\n",
      "🔧 Augmenting label 36: 22 → 200 (+178)\n",
      "🔧 Augmenting label 37: 16 → 200 (+184)\n",
      "🔧 Augmenting label 38: 33 → 200 (+167)\n",
      "🔧 Augmenting label 39: 10 → 200 (+190)\n",
      "🔧 Augmenting label 40: 9 → 200 (+191)\n",
      "🔧 Augmenting label 41: 57 → 200 (+143)\n",
      "🔧 Augmenting label 42: 18 → 200 (+182)\n",
      "🔧 Augmenting label 43: 9 → 200 (+191)\n",
      "🔧 Augmenting label 44: 54 → 200 (+146)\n",
      "🔧 Augmenting label 46: 61 → 200 (+139)\n",
      "🔧 Augmenting label 47: 80 → 200 (+120)\n",
      "Label distribution after resampling:\n",
      "  label 0: 2000\n",
      "  label 1: 200\n",
      "  label 2: 200\n",
      "  label 3: 200\n",
      "  label 4: 200\n",
      "  label 5: 200\n",
      "  label 6: 200\n",
      "  label 7: 200\n",
      "  label 8: 200\n",
      "  label 9: 200\n",
      "  label 10: 200\n",
      "  label 11: 200\n",
      "  label 12: 200\n",
      "  label 13: 200\n",
      "  label 14: 200\n",
      "  label 15: 200\n",
      "  label 16: 200\n",
      "  label 17: 200\n",
      "  label 18: 200\n",
      "  label 19: 200\n",
      "  label 20: 200\n",
      "  label 21: 200\n",
      "  label 22: 200\n",
      "  label 23: 200\n",
      "  label 24: 200\n",
      "  label 25: 200\n",
      "  label 26: 200\n",
      "  label 27: 200\n",
      "  label 28: 200\n",
      "  label 29: 200\n",
      "  label 30: 200\n",
      "  label 31: 200\n",
      "  label 32: 200\n",
      "  label 33: 200\n",
      "  label 34: 200\n",
      "  label 35: 200\n",
      "  label 36: 200\n",
      "  label 37: 200\n",
      "  label 38: 200\n",
      "  label 39: 200\n",
      "  label 40: 200\n",
      "  label 41: 200\n",
      "  label 42: 200\n",
      "  label 43: 200\n",
      "  label 44: 200\n",
      "  label 45: 242\n",
      "  label 46: 200\n",
      "  label 47: 200\n",
      "model is microsoft/deberta-base\n"
     ]
    },
    {
     "name": "stderr",
     "output_type": "stream",
     "text": [
      "Some weights of DebertaForSequenceClassification were not initialized from the model checkpoint at microsoft/deberta-base and are newly initialized: ['classifier.bias', 'classifier.weight', 'pooler.dense.bias', 'pooler.dense.weight']\n",
      "You should probably TRAIN this model on a down-stream task to be able to use it for predictions and inference.\n"
     ]
    },
    {
     "name": "stdout",
     "output_type": "stream",
     "text": [
      "Epoch 1/20\n"
     ]
    },
    {
     "name": "stderr",
     "output_type": "stream",
     "text": [
      "100%|██████████| 716/716 [01:13<00:00,  9.80it/s]\n"
     ]
    },
    {
     "name": "stdout",
     "output_type": "stream",
     "text": [
      "{'val_loss': 2.961547363095167, 'val_accuracy': 0.47063310450038137, 'precision': 0.2214955190516669, 'recall': 0.47063310450038137, 'f1-score': 0.3012247152248292, 'macro_f1-score': 0.013334197786998616, 'balanced_accuracy': 0.020833333333333332, 'mcc': 0.0, 'train_loss': 3.6617760035578764}\n",
      "Epoch 2/20\n"
     ]
    },
    {
     "name": "stderr",
     "output_type": "stream",
     "text": [
      "100%|██████████| 716/716 [01:13<00:00,  9.80it/s]\n"
     ]
    },
    {
     "name": "stdout",
     "output_type": "stream",
     "text": [
      "{'val_loss': 2.8782394281247767, 'val_accuracy': 0.47063310450038137, 'precision': 0.2214955190516669, 'recall': 0.47063310450038137, 'f1-score': 0.3012247152248292, 'macro_f1-score': 0.013334197786998616, 'balanced_accuracy': 0.020833333333333332, 'mcc': 0.0, 'train_loss': 3.6496811152836464}\n",
      "Epoch 3/20\n"
     ]
    },
    {
     "name": "stderr",
     "output_type": "stream",
     "text": [
      "100%|██████████| 716/716 [01:13<00:00,  9.80it/s]\n"
     ]
    },
    {
     "name": "stdout",
     "output_type": "stream",
     "text": [
      "{'val_loss': 2.828161549277422, 'val_accuracy': 0.47063310450038137, 'precision': 0.2214955190516669, 'recall': 0.47063310450038137, 'f1-score': 0.3012247152248292, 'macro_f1-score': 0.013334197786998616, 'balanced_accuracy': 0.020833333333333332, 'mcc': 0.0, 'train_loss': 3.6440182657881155}\n",
      "Epoch 4/20\n"
     ]
    },
    {
     "name": "stderr",
     "output_type": "stream",
     "text": [
      "100%|██████████| 716/716 [01:13<00:00,  9.80it/s]\n"
     ]
    },
    {
     "name": "stdout",
     "output_type": "stream",
     "text": [
      "{'val_loss': 2.9222167206973566, 'val_accuracy': 0.47063310450038137, 'precision': 0.2214955190516669, 'recall': 0.47063310450038137, 'f1-score': 0.3012247152248292, 'macro_f1-score': 0.013334197786998616, 'balanced_accuracy': 0.020833333333333332, 'mcc': 0.0, 'train_loss': 3.6099337595801115}\n",
      "Early stopping.\n",
      "\n",
      " === microsoft/deberta-base + plain + word2vec_eda Final 5-fold Cross-Validation Results ===\n",
      "val_loss: 2.3005\n",
      "val_accuracy: 0.5961\n",
      "precision: 0.5536\n",
      "recall: 0.5961\n",
      "f1-score: 0.5569\n",
      "macro_f1-score: 0.3301\n",
      "balanced_accuracy: 0.3349\n",
      "mcc: 0.4084\n",
      "train_loss: 0.8259\n",
      "total_seconds: 4073.0000\n",
      "total_time: 1 hrs 7 mins 53 secs\n",
      "▶ Running: microsoft/deberta-base + cnn + word2vec_eda\n",
      "tokenizer is microsoft/deberta-base\n",
      "Using device: cuda\n",
      "CUDA Available: True\n",
      "CUDA Device: NVIDIA GeForce RTX 5070 Ti\n",
      "Current GPU Memory Allocated: 0.02 GB\n",
      "Current GPU Memory Cached: 5.29 GB\n",
      "\n",
      "[Fold 1]\n",
      "🚀 Using Word2Vec + EDA (replace + deletion/swap) for data augmentation + under-sampling\n",
      "🔻 Under-sampling label 0: 2471 → 2000\n",
      "🔧 Augmenting label 1: 21 → 200 (+179)\n",
      "🔧 Augmenting label 2: 64 → 200 (+136)\n",
      "🔧 Augmenting label 3: 24 → 200 (+176)\n",
      "🔧 Augmenting label 4: 191 → 200 (+9)\n",
      "🔧 Augmenting label 5: 113 → 200 (+87)\n",
      "🔧 Augmenting label 6: 93 → 200 (+107)\n",
      "🔧 Augmenting label 7: 30 → 200 (+170)\n",
      "🔧 Augmenting label 8: 68 → 200 (+132)\n",
      "🔧 Augmenting label 9: 30 → 200 (+170)\n",
      "🔧 Augmenting label 10: 67 → 200 (+133)\n",
      "🔧 Augmenting label 11: 169 → 200 (+31)\n",
      "🔧 Augmenting label 12: 189 → 200 (+11)\n",
      "🔧 Augmenting label 13: 29 → 200 (+171)\n",
      "🔧 Augmenting label 14: 22 → 200 (+178)\n",
      "🔧 Augmenting label 15: 25 → 200 (+175)\n",
      "🔧 Augmenting label 16: 19 → 200 (+181)\n",
      "🔧 Augmenting label 17: 183 → 200 (+17)\n",
      "🔧 Augmenting label 18: 92 → 200 (+108)\n",
      "🔧 Augmenting label 19: 44 → 200 (+156)\n",
      "🔧 Augmenting label 20: 13 → 200 (+187)\n",
      "🔧 Augmenting label 21: 35 → 200 (+165)\n",
      "🔧 Augmenting label 22: 76 → 200 (+124)\n",
      "🔧 Augmenting label 23: 158 → 200 (+42)\n",
      "🔧 Augmenting label 24: 13 → 200 (+187)\n",
      "🔧 Augmenting label 25: 44 → 200 (+156)\n",
      "🔧 Augmenting label 26: 84 → 200 (+116)\n",
      "🔧 Augmenting label 27: 48 → 200 (+152)\n",
      "🔧 Augmenting label 28: 11 → 200 (+189)\n",
      "🔧 Augmenting label 29: 13 → 200 (+187)\n",
      "🔧 Augmenting label 30: 11 → 200 (+189)\n",
      "🔧 Augmenting label 31: 75 → 200 (+125)\n",
      "🔧 Augmenting label 32: 36 → 200 (+164)\n",
      "🔧 Augmenting label 33: 32 → 200 (+168)\n",
      "🔧 Augmenting label 34: 29 → 200 (+171)\n",
      "🔧 Augmenting label 35: 11 → 200 (+189)\n",
      "🔧 Augmenting label 36: 22 → 200 (+178)\n",
      "🔧 Augmenting label 37: 16 → 200 (+184)\n",
      "🔧 Augmenting label 38: 33 → 200 (+167)\n",
      "🔧 Augmenting label 39: 10 → 200 (+190)\n",
      "🔧 Augmenting label 40: 9 → 200 (+191)\n",
      "🔧 Augmenting label 41: 57 → 200 (+143)\n",
      "🔧 Augmenting label 42: 19 → 200 (+181)\n",
      "🔧 Augmenting label 43: 8 → 200 (+192)\n",
      "🔧 Augmenting label 44: 54 → 200 (+146)\n",
      "🔧 Augmenting label 46: 61 → 200 (+139)\n",
      "🔧 Augmenting label 47: 80 → 200 (+120)\n",
      "Label distribution after resampling:\n",
      "  label 0: 2000\n",
      "  label 1: 200\n",
      "  label 2: 200\n",
      "  label 3: 200\n",
      "  label 4: 200\n",
      "  label 5: 200\n",
      "  label 6: 200\n",
      "  label 7: 200\n",
      "  label 8: 200\n",
      "  label 9: 200\n",
      "  label 10: 200\n",
      "  label 11: 200\n",
      "  label 12: 200\n",
      "  label 13: 200\n",
      "  label 14: 200\n",
      "  label 15: 200\n",
      "  label 16: 200\n",
      "  label 17: 200\n",
      "  label 18: 200\n",
      "  label 19: 200\n",
      "  label 20: 200\n",
      "  label 21: 200\n",
      "  label 22: 200\n",
      "  label 23: 200\n",
      "  label 24: 200\n",
      "  label 25: 200\n",
      "  label 26: 200\n",
      "  label 27: 200\n",
      "  label 28: 200\n",
      "  label 29: 200\n",
      "  label 30: 200\n",
      "  label 31: 200\n",
      "  label 32: 200\n",
      "  label 33: 200\n",
      "  label 34: 200\n",
      "  label 35: 200\n",
      "  label 36: 200\n",
      "  label 37: 200\n",
      "  label 38: 200\n",
      "  label 39: 200\n",
      "  label 40: 200\n",
      "  label 41: 200\n",
      "  label 42: 200\n",
      "  label 43: 200\n",
      "  label 44: 200\n",
      "  label 45: 242\n",
      "  label 46: 200\n",
      "  label 47: 200\n",
      "model is microsoft/deberta-base cnn\n",
      "Epoch 1/20\n"
     ]
    },
    {
     "name": "stderr",
     "output_type": "stream",
     "text": [
      "100%|██████████| 716/716 [01:15<00:00,  9.44it/s]\n"
     ]
    },
    {
     "name": "stdout",
     "output_type": "stream",
     "text": [
      "{'val_loss': 1.8066831202041813, 'val_accuracy': 0.5129573170731707, 'precision': 0.49776256894777515, 'recall': 0.5129573170731707, 'f1-score': 0.48065940166241966, 'macro_f1-score': 0.2065373503077973, 'balanced_accuracy': 0.2816658827498448, 'mcc': 0.3428083458219588, 'train_loss': 2.7701818789849733}\n",
      "Epoch 2/20\n"
     ]
    },
    {
     "name": "stderr",
     "output_type": "stream",
     "text": [
      "100%|██████████| 716/716 [01:15<00:00,  9.42it/s]\n"
     ]
    },
    {
     "name": "stdout",
     "output_type": "stream",
     "text": [
      "{'val_loss': 1.8412269237564831, 'val_accuracy': 0.4878048780487805, 'precision': 0.5902853574925416, 'recall': 0.4878048780487805, 'f1-score': 0.5088438672459356, 'macro_f1-score': 0.29683974581993433, 'balanced_accuracy': 0.3694728727944314, 'mcc': 0.35918142313089124, 'train_loss': 1.4312747052594936}\n",
      "Epoch 3/20\n"
     ]
    },
    {
     "name": "stderr",
     "output_type": "stream",
     "text": [
      "100%|██████████| 716/716 [01:15<00:00,  9.42it/s]\n"
     ]
    },
    {
     "name": "stdout",
     "output_type": "stream",
     "text": [
      "{'val_loss': 1.6779412405519951, 'val_accuracy': 0.6242378048780488, 'precision': 0.6207581794441316, 'recall': 0.6242378048780488, 'f1-score': 0.5894519697511336, 'macro_f1-score': 0.37426701773344745, 'balanced_accuracy': 0.3395307249765967, 'mcc': 0.47226495628709864, 'train_loss': 0.8056050967737283}\n",
      "Epoch 4/20\n"
     ]
    },
    {
     "name": "stderr",
     "output_type": "stream",
     "text": [
      "100%|██████████| 716/716 [01:15<00:00,  9.45it/s]\n"
     ]
    },
    {
     "name": "stdout",
     "output_type": "stream",
     "text": [
      "{'val_loss': 1.7559512479276191, 'val_accuracy': 0.5853658536585366, 'precision': 0.6420789697231664, 'recall': 0.5853658536585366, 'f1-score': 0.5953599683604442, 'macro_f1-score': 0.38281534473444734, 'balanced_accuracy': 0.4283943571161159, 'mcc': 0.4751951955929045, 'train_loss': 0.490552780244437}\n",
      "Epoch 5/20\n"
     ]
    },
    {
     "name": "stderr",
     "output_type": "stream",
     "text": [
      "100%|██████████| 716/716 [01:15<00:00,  9.43it/s]\n"
     ]
    },
    {
     "name": "stdout",
     "output_type": "stream",
     "text": [
      "{'val_loss': 1.866800712012663, 'val_accuracy': 0.6211890243902439, 'precision': 0.615696732730572, 'recall': 0.6211890243902439, 'f1-score': 0.600582004171514, 'macro_f1-score': 0.37922365401721964, 'balanced_accuracy': 0.35915182120332584, 'mcc': 0.4833093966510349, 'train_loss': 0.3501615164106889}\n",
      "Epoch 6/20\n"
     ]
    },
    {
     "name": "stderr",
     "output_type": "stream",
     "text": [
      "100%|██████████| 716/716 [01:15<00:00,  9.44it/s]\n"
     ]
    },
    {
     "name": "stdout",
     "output_type": "stream",
     "text": [
      "{'val_loss': 1.9637676582830708, 'val_accuracy': 0.604420731707317, 'precision': 0.604356340903622, 'recall': 0.604420731707317, 'f1-score': 0.5909480987512314, 'macro_f1-score': 0.34560120376289866, 'balanced_accuracy': 0.3697292961270386, 'mcc': 0.4749017909613079, 'train_loss': 0.2369421781040728}\n",
      "Epoch 7/20\n"
     ]
    },
    {
     "name": "stderr",
     "output_type": "stream",
     "text": [
      "100%|██████████| 716/716 [01:15<00:00,  9.44it/s]\n"
     ]
    },
    {
     "name": "stdout",
     "output_type": "stream",
     "text": [
      "{'val_loss': 2.0243265741482013, 'val_accuracy': 0.6051829268292683, 'precision': 0.5999088666064705, 'recall': 0.6051829268292683, 'f1-score': 0.5967579508092306, 'macro_f1-score': 0.3539816767900348, 'balanced_accuracy': 0.37356923495566347, 'mcc': 0.4804698682266368, 'train_loss': 0.21711636610347362}\n",
      "Early stopping.\n",
      "\n",
      "[Fold 2]\n",
      "🚀 Using Word2Vec + EDA (replace + deletion/swap) for data augmentation + under-sampling\n",
      "🔻 Under-sampling label 0: 2471 → 2000\n",
      "🔧 Augmenting label 1: 22 → 200 (+178)\n",
      "🔧 Augmenting label 2: 64 → 200 (+136)\n",
      "🔧 Augmenting label 3: 24 → 200 (+176)\n",
      "🔧 Augmenting label 4: 190 → 200 (+10)\n",
      "🔧 Augmenting label 5: 113 → 200 (+87)\n",
      "🔧 Augmenting label 6: 93 → 200 (+107)\n",
      "🔧 Augmenting label 7: 30 → 200 (+170)\n",
      "🔧 Augmenting label 8: 68 → 200 (+132)\n",
      "🔧 Augmenting label 9: 30 → 200 (+170)\n",
      "🔧 Augmenting label 10: 67 → 200 (+133)\n",
      "🔧 Augmenting label 11: 169 → 200 (+31)\n",
      "🔧 Augmenting label 12: 189 → 200 (+11)\n",
      "🔧 Augmenting label 13: 29 → 200 (+171)\n",
      "🔧 Augmenting label 14: 23 → 200 (+177)\n",
      "🔧 Augmenting label 15: 24 → 200 (+176)\n",
      "🔧 Augmenting label 16: 20 → 200 (+180)\n",
      "🔧 Augmenting label 17: 182 → 200 (+18)\n",
      "🔧 Augmenting label 18: 92 → 200 (+108)\n",
      "🔧 Augmenting label 19: 44 → 200 (+156)\n",
      "🔧 Augmenting label 20: 13 → 200 (+187)\n",
      "🔧 Augmenting label 21: 36 → 200 (+164)\n",
      "🔧 Augmenting label 22: 76 → 200 (+124)\n",
      "🔧 Augmenting label 23: 157 → 200 (+43)\n",
      "🔧 Augmenting label 24: 12 → 200 (+188)\n",
      "🔧 Augmenting label 25: 44 → 200 (+156)\n",
      "🔧 Augmenting label 26: 84 → 200 (+116)\n",
      "🔧 Augmenting label 27: 48 → 200 (+152)\n",
      "🔧 Augmenting label 28: 12 → 200 (+188)\n",
      "🔧 Augmenting label 29: 12 → 200 (+188)\n",
      "🔧 Augmenting label 30: 12 → 200 (+188)\n",
      "🔧 Augmenting label 31: 75 → 200 (+125)\n",
      "🔧 Augmenting label 32: 36 → 200 (+164)\n",
      "🔧 Augmenting label 33: 31 → 200 (+169)\n",
      "🔧 Augmenting label 34: 29 → 200 (+171)\n",
      "🔧 Augmenting label 35: 12 → 200 (+188)\n",
      "🔧 Augmenting label 36: 21 → 200 (+179)\n",
      "🔧 Augmenting label 37: 16 → 200 (+184)\n",
      "🔧 Augmenting label 38: 33 → 200 (+167)\n",
      "🔧 Augmenting label 39: 11 → 200 (+189)\n",
      "🔧 Augmenting label 40: 8 → 200 (+192)\n",
      "🔧 Augmenting label 41: 57 → 200 (+143)\n",
      "🔧 Augmenting label 42: 19 → 200 (+181)\n",
      "🔧 Augmenting label 43: 9 → 200 (+191)\n",
      "🔧 Augmenting label 44: 54 → 200 (+146)\n",
      "🔧 Augmenting label 46: 62 → 200 (+138)\n",
      "🔧 Augmenting label 47: 80 → 200 (+120)\n",
      "Label distribution after resampling:\n",
      "  label 0: 2000\n",
      "  label 1: 200\n",
      "  label 2: 200\n",
      "  label 3: 200\n",
      "  label 4: 200\n",
      "  label 5: 200\n",
      "  label 6: 200\n",
      "  label 7: 200\n",
      "  label 8: 200\n",
      "  label 9: 200\n",
      "  label 10: 200\n",
      "  label 11: 200\n",
      "  label 12: 200\n",
      "  label 13: 200\n",
      "  label 14: 200\n",
      "  label 15: 200\n",
      "  label 16: 200\n",
      "  label 17: 200\n",
      "  label 18: 200\n",
      "  label 19: 200\n",
      "  label 20: 200\n",
      "  label 21: 200\n",
      "  label 22: 200\n",
      "  label 23: 200\n",
      "  label 24: 200\n",
      "  label 25: 200\n",
      "  label 26: 200\n",
      "  label 27: 200\n",
      "  label 28: 200\n",
      "  label 29: 200\n",
      "  label 30: 200\n",
      "  label 31: 200\n",
      "  label 32: 200\n",
      "  label 33: 200\n",
      "  label 34: 200\n",
      "  label 35: 200\n",
      "  label 36: 200\n",
      "  label 37: 200\n",
      "  label 38: 200\n",
      "  label 39: 200\n",
      "  label 40: 200\n",
      "  label 41: 200\n",
      "  label 42: 200\n",
      "  label 43: 200\n",
      "  label 44: 200\n",
      "  label 45: 242\n",
      "  label 46: 200\n",
      "  label 47: 200\n",
      "model is microsoft/deberta-base cnn\n",
      "Epoch 1/20\n"
     ]
    },
    {
     "name": "stderr",
     "output_type": "stream",
     "text": [
      "100%|██████████| 716/716 [01:15<00:00,  9.43it/s]\n"
     ]
    },
    {
     "name": "stdout",
     "output_type": "stream",
     "text": [
      "{'val_loss': 1.5853594105418136, 'val_accuracy': 0.5690312738367659, 'precision': 0.5839315529379715, 'recall': 0.5690312738367659, 'f1-score': 0.5389733073179184, 'macro_f1-score': 0.28094400768224653, 'balanced_accuracy': 0.34276489080097333, 'mcc': 0.41589063406093235, 'train_loss': 2.677609724289212}\n",
      "Epoch 2/20\n"
     ]
    },
    {
     "name": "stderr",
     "output_type": "stream",
     "text": [
      "100%|██████████| 716/716 [01:15<00:00,  9.42it/s]\n"
     ]
    },
    {
     "name": "stdout",
     "output_type": "stream",
     "text": [
      "{'val_loss': 1.4681933136974894, 'val_accuracy': 0.6155606407322655, 'precision': 0.6262000460608201, 'recall': 0.6155606407322655, 'f1-score': 0.5942899884600403, 'macro_f1-score': 0.3359463978424817, 'balanced_accuracy': 0.36073147138003264, 'mcc': 0.4783161242685243, 'train_loss': 1.2767509710688831}\n",
      "Epoch 3/20\n"
     ]
    },
    {
     "name": "stderr",
     "output_type": "stream",
     "text": [
      "100%|██████████| 716/716 [01:15<00:00,  9.44it/s]\n"
     ]
    },
    {
     "name": "stdout",
     "output_type": "stream",
     "text": [
      "{'val_loss': 1.496924704167901, 'val_accuracy': 0.6346300533943554, 'precision': 0.6378396280429484, 'recall': 0.6346300533943554, 'f1-score': 0.6119023022023576, 'macro_f1-score': 0.37086046540839607, 'balanced_accuracy': 0.37646983904453585, 'mcc': 0.49964457122187317, 'train_loss': 0.6956601611041989}\n",
      "Epoch 4/20\n"
     ]
    },
    {
     "name": "stderr",
     "output_type": "stream",
     "text": [
      "100%|██████████| 716/716 [01:16<00:00,  9.33it/s]\n"
     ]
    },
    {
     "name": "stdout",
     "output_type": "stream",
     "text": [
      "{'val_loss': 1.6583158359294985, 'val_accuracy': 0.581998474446987, 'precision': 0.620108383465484, 'recall': 0.581998474446987, 'f1-score': 0.5891867051761689, 'macro_f1-score': 0.3398870533890453, 'balanced_accuracy': 0.39435890587692474, 'mcc': 0.4676034129889629, 'train_loss': 0.44102642632625455}\n",
      "Epoch 5/20\n"
     ]
    },
    {
     "name": "stderr",
     "output_type": "stream",
     "text": [
      "100%|██████████| 716/716 [01:18<00:00,  9.12it/s]\n"
     ]
    },
    {
     "name": "stdout",
     "output_type": "stream",
     "text": [
      "{'val_loss': 1.6962661532367147, 'val_accuracy': 0.627765064836003, 'precision': 0.6133679378137391, 'recall': 0.627765064836003, 'f1-score': 0.6137502215285564, 'macro_f1-score': 0.34500450634651286, 'balanced_accuracy': 0.36226666404594116, 'mcc': 0.5096196541980933, 'train_loss': 0.3323885603709011}\n",
      "Epoch 6/20\n"
     ]
    },
    {
     "name": "stderr",
     "output_type": "stream",
     "text": [
      "100%|██████████| 716/716 [01:18<00:00,  9.16it/s]\n"
     ]
    },
    {
     "name": "stdout",
     "output_type": "stream",
     "text": [
      "{'val_loss': 1.854000763195317, 'val_accuracy': 0.6422578184591915, 'precision': 0.6304975941893117, 'recall': 0.6422578184591915, 'f1-score': 0.6226801987808404, 'macro_f1-score': 0.3633536155697999, 'balanced_accuracy': 0.3563186911934863, 'mcc': 0.5144244947681414, 'train_loss': 0.2505777263883813}\n",
      "Early stopping.\n",
      "\n",
      "[Fold 3]\n",
      "🚀 Using Word2Vec + EDA (replace + deletion/swap) for data augmentation + under-sampling\n",
      "🔻 Under-sampling label 0: 2471 → 2000\n",
      "🔧 Augmenting label 1: 22 → 200 (+178)\n",
      "🔧 Augmenting label 2: 64 → 200 (+136)\n",
      "🔧 Augmenting label 3: 24 → 200 (+176)\n",
      "🔧 Augmenting label 4: 190 → 200 (+10)\n",
      "🔧 Augmenting label 5: 113 → 200 (+87)\n",
      "🔧 Augmenting label 6: 93 → 200 (+107)\n",
      "🔧 Augmenting label 7: 30 → 200 (+170)\n",
      "🔧 Augmenting label 8: 68 → 200 (+132)\n",
      "🔧 Augmenting label 9: 30 → 200 (+170)\n",
      "🔧 Augmenting label 10: 67 → 200 (+133)\n",
      "🔧 Augmenting label 11: 169 → 200 (+31)\n",
      "🔧 Augmenting label 12: 190 → 200 (+10)\n",
      "🔧 Augmenting label 13: 28 → 200 (+172)\n",
      "🔧 Augmenting label 14: 23 → 200 (+177)\n",
      "🔧 Augmenting label 15: 25 → 200 (+175)\n",
      "🔧 Augmenting label 16: 19 → 200 (+181)\n",
      "🔧 Augmenting label 17: 182 → 200 (+18)\n",
      "🔧 Augmenting label 18: 92 → 200 (+108)\n",
      "🔧 Augmenting label 19: 44 → 200 (+156)\n",
      "🔧 Augmenting label 20: 14 → 200 (+186)\n",
      "🔧 Augmenting label 21: 35 → 200 (+165)\n",
      "🔧 Augmenting label 22: 76 → 200 (+124)\n",
      "🔧 Augmenting label 23: 157 → 200 (+43)\n",
      "🔧 Augmenting label 24: 13 → 200 (+187)\n",
      "🔧 Augmenting label 25: 44 → 200 (+156)\n",
      "🔧 Augmenting label 26: 84 → 200 (+116)\n",
      "🔧 Augmenting label 27: 48 → 200 (+152)\n",
      "🔧 Augmenting label 28: 11 → 200 (+189)\n",
      "🔧 Augmenting label 29: 13 → 200 (+187)\n",
      "🔧 Augmenting label 30: 11 → 200 (+189)\n",
      "🔧 Augmenting label 31: 76 → 200 (+124)\n",
      "🔧 Augmenting label 32: 36 → 200 (+164)\n",
      "🔧 Augmenting label 33: 31 → 200 (+169)\n",
      "🔧 Augmenting label 34: 30 → 200 (+170)\n",
      "🔧 Augmenting label 35: 11 → 200 (+189)\n",
      "🔧 Augmenting label 36: 21 → 200 (+179)\n",
      "🔧 Augmenting label 37: 16 → 200 (+184)\n",
      "🔧 Augmenting label 38: 32 → 200 (+168)\n",
      "🔧 Augmenting label 39: 11 → 200 (+189)\n",
      "🔧 Augmenting label 40: 9 → 200 (+191)\n",
      "🔧 Augmenting label 41: 57 → 200 (+143)\n",
      "🔧 Augmenting label 42: 18 → 200 (+182)\n",
      "🔧 Augmenting label 43: 9 → 200 (+191)\n",
      "🔧 Augmenting label 44: 55 → 200 (+145)\n",
      "🔧 Augmenting label 46: 62 → 200 (+138)\n",
      "🔧 Augmenting label 47: 80 → 200 (+120)\n",
      "Label distribution after resampling:\n",
      "  label 0: 2000\n",
      "  label 1: 200\n",
      "  label 2: 200\n",
      "  label 3: 200\n",
      "  label 4: 200\n",
      "  label 5: 200\n",
      "  label 6: 200\n",
      "  label 7: 200\n",
      "  label 8: 200\n",
      "  label 9: 200\n",
      "  label 10: 200\n",
      "  label 11: 200\n",
      "  label 12: 200\n",
      "  label 13: 200\n",
      "  label 14: 200\n",
      "  label 15: 200\n",
      "  label 16: 200\n",
      "  label 17: 200\n",
      "  label 18: 200\n",
      "  label 19: 200\n",
      "  label 20: 200\n",
      "  label 21: 200\n",
      "  label 22: 200\n",
      "  label 23: 200\n",
      "  label 24: 200\n",
      "  label 25: 200\n",
      "  label 26: 200\n",
      "  label 27: 200\n",
      "  label 28: 200\n",
      "  label 29: 200\n",
      "  label 30: 200\n",
      "  label 31: 200\n",
      "  label 32: 200\n",
      "  label 33: 200\n",
      "  label 34: 200\n",
      "  label 35: 200\n",
      "  label 36: 200\n",
      "  label 37: 200\n",
      "  label 38: 200\n",
      "  label 39: 200\n",
      "  label 40: 200\n",
      "  label 41: 200\n",
      "  label 42: 200\n",
      "  label 43: 200\n",
      "  label 44: 200\n",
      "  label 45: 241\n",
      "  label 46: 200\n",
      "  label 47: 200\n",
      "model is microsoft/deberta-base cnn\n",
      "Epoch 1/20\n"
     ]
    },
    {
     "name": "stderr",
     "output_type": "stream",
     "text": [
      "100%|██████████| 716/716 [01:18<00:00,  9.07it/s]\n"
     ]
    },
    {
     "name": "stdout",
     "output_type": "stream",
     "text": [
      "{'val_loss': 2.141436416201475, 'val_accuracy': 0.4759725400457666, 'precision': 0.39629235612395014, 'recall': 0.4759725400457666, 'f1-score': 0.4211039932469162, 'macro_f1-score': 0.12628549992818935, 'balanced_accuracy': 0.17874768199475485, 'mcc': 0.2660698360235547, 'train_loss': 3.175917840536746}\n",
      "Epoch 2/20\n"
     ]
    },
    {
     "name": "stderr",
     "output_type": "stream",
     "text": [
      "100%|██████████| 716/716 [01:18<00:00,  9.17it/s]\n"
     ]
    },
    {
     "name": "stdout",
     "output_type": "stream",
     "text": [
      "{'val_loss': 1.7745323333798386, 'val_accuracy': 0.5339435545385202, 'precision': 0.5518573989313412, 'recall': 0.5339435545385202, 'f1-score': 0.5228040350542894, 'macro_f1-score': 0.24296941491835608, 'balanced_accuracy': 0.29968569734053907, 'mcc': 0.388791269323759, 'train_loss': 2.251914795300814}\n",
      "Epoch 3/20\n"
     ]
    },
    {
     "name": "stderr",
     "output_type": "stream",
     "text": [
      "100%|██████████| 716/716 [01:18<00:00,  9.07it/s]\n"
     ]
    },
    {
     "name": "stdout",
     "output_type": "stream",
     "text": [
      "{'val_loss': 1.7640923923108636, 'val_accuracy': 0.5347063310450039, 'precision': 0.5538416105008439, 'recall': 0.5347063310450039, 'f1-score': 0.5252568251561509, 'macro_f1-score': 0.30748158771927675, 'balanced_accuracy': 0.3513413870864506, 'mcc': 0.38177511196585207, 'train_loss': 1.468185079237186}\n",
      "Epoch 4/20\n"
     ]
    },
    {
     "name": "stderr",
     "output_type": "stream",
     "text": [
      "100%|██████████| 716/716 [01:18<00:00,  9.08it/s]\n"
     ]
    },
    {
     "name": "stdout",
     "output_type": "stream",
     "text": [
      "{'val_loss': 1.710991406586112, 'val_accuracy': 0.5743707093821511, 'precision': 0.5985158278804422, 'recall': 0.5743707093821511, 'f1-score': 0.5747355050312766, 'macro_f1-score': 0.34309511561619105, 'balanced_accuracy': 0.38230127448152346, 'mcc': 0.4498832565032723, 'train_loss': 1.0166239050846526}\n",
      "Epoch 5/20\n"
     ]
    },
    {
     "name": "stderr",
     "output_type": "stream",
     "text": [
      "100%|██████████| 716/716 [01:17<00:00,  9.24it/s]\n"
     ]
    },
    {
     "name": "stdout",
     "output_type": "stream",
     "text": [
      "{'val_loss': 1.7430211552759496, 'val_accuracy': 0.5697940503432495, 'precision': 0.6065336563422946, 'recall': 0.5697940503432495, 'f1-score': 0.5777008046759513, 'macro_f1-score': 0.37179965044335456, 'balanced_accuracy': 0.4100049333545113, 'mcc': 0.4586981738343776, 'train_loss': 0.6649652789711078}\n",
      "Epoch 6/20\n"
     ]
    },
    {
     "name": "stderr",
     "output_type": "stream",
     "text": [
      "100%|██████████| 716/716 [01:15<00:00,  9.43it/s]\n"
     ]
    },
    {
     "name": "stdout",
     "output_type": "stream",
     "text": [
      "{'val_loss': 1.930057481658168, 'val_accuracy': 0.6003051106025934, 'precision': 0.6208644104526033, 'recall': 0.6003051106025934, 'f1-score': 0.602371551342969, 'macro_f1-score': 0.37954135708920905, 'balanced_accuracy': 0.3888401939825379, 'mcc': 0.478344978479088, 'train_loss': 0.42936771178917893}\n",
      "Epoch 7/20\n"
     ]
    },
    {
     "name": "stderr",
     "output_type": "stream",
     "text": [
      "100%|██████████| 716/716 [01:15<00:00,  9.44it/s]\n"
     ]
    },
    {
     "name": "stdout",
     "output_type": "stream",
     "text": [
      "{'val_loss': 2.023379732195924, 'val_accuracy': 0.5636918382913806, 'precision': 0.6093110883871872, 'recall': 0.5636918382913806, 'f1-score': 0.5765187312126878, 'macro_f1-score': 0.3627439704273893, 'balanced_accuracy': 0.3742199689188091, 'mcc': 0.4457508890104742, 'train_loss': 0.3176746716821702}\n",
      "Epoch 8/20\n"
     ]
    },
    {
     "name": "stderr",
     "output_type": "stream",
     "text": [
      "100%|██████████| 716/716 [01:15<00:00,  9.43it/s]\n"
     ]
    },
    {
     "name": "stdout",
     "output_type": "stream",
     "text": [
      "{'val_loss': 2.0754336889197185, 'val_accuracy': 0.6163234172387491, 'precision': 0.6065992218638666, 'recall': 0.6163234172387491, 'f1-score': 0.6005729670811566, 'macro_f1-score': 0.39659324852622063, 'balanced_accuracy': 0.3839758854721991, 'mcc': 0.48128815160996713, 'train_loss': 0.269221003519829}\n",
      "Epoch 9/20\n"
     ]
    },
    {
     "name": "stderr",
     "output_type": "stream",
     "text": [
      "100%|██████████| 716/716 [01:15<00:00,  9.44it/s]\n"
     ]
    },
    {
     "name": "stdout",
     "output_type": "stream",
     "text": [
      "{'val_loss': 2.0863316513416246, 'val_accuracy': 0.6193745232646835, 'precision': 0.6335174082977417, 'recall': 0.6193745232646835, 'f1-score': 0.6140717628265834, 'macro_f1-score': 0.4054311870023824, 'balanced_accuracy': 0.4026985599509067, 'mcc': 0.49804617840306015, 'train_loss': 0.2567718460916557}\n",
      "Epoch 10/20\n"
     ]
    },
    {
     "name": "stderr",
     "output_type": "stream",
     "text": [
      "100%|██████████| 716/716 [01:15<00:00,  9.45it/s]\n"
     ]
    },
    {
     "name": "stdout",
     "output_type": "stream",
     "text": [
      "{'val_loss': 2.357585137937127, 'val_accuracy': 0.5774218154080855, 'precision': 0.6220037564515332, 'recall': 0.5774218154080855, 'f1-score': 0.5900304625447577, 'macro_f1-score': 0.3970299416586647, 'balanced_accuracy': 0.4146498026730207, 'mcc': 0.4675692622021793, 'train_loss': 0.2092394997660388}\n",
      "Epoch 11/20\n"
     ]
    },
    {
     "name": "stderr",
     "output_type": "stream",
     "text": [
      "100%|██████████| 716/716 [01:15<00:00,  9.43it/s]\n"
     ]
    },
    {
     "name": "stdout",
     "output_type": "stream",
     "text": [
      "{'val_loss': 2.2075764744020088, 'val_accuracy': 0.5606407322654462, 'precision': 0.5730393390502396, 'recall': 0.5606407322654462, 'f1-score': 0.5476858563302853, 'macro_f1-score': 0.3236430312541743, 'balanced_accuracy': 0.3494424223254953, 'mcc': 0.42806256754343264, 'train_loss': 0.21005790123836965}\n",
      "Epoch 12/20\n"
     ]
    },
    {
     "name": "stderr",
     "output_type": "stream",
     "text": [
      "100%|██████████| 716/716 [01:15<00:00,  9.44it/s]\n"
     ]
    },
    {
     "name": "stdout",
     "output_type": "stream",
     "text": [
      "{'val_loss': 2.388318618623222, 'val_accuracy': 0.6086956521739131, 'precision': 0.6067681781066459, 'recall': 0.6086956521739131, 'f1-score': 0.5987945689286472, 'macro_f1-score': 0.3647570337534762, 'balanced_accuracy': 0.3480237768193561, 'mcc': 0.47731065070720546, 'train_loss': 0.21231032565887106}\n",
      "Early stopping.\n",
      "\n",
      "[Fold 4]\n",
      "🚀 Using Word2Vec + EDA (replace + deletion/swap) for data augmentation + under-sampling\n",
      "🔻 Under-sampling label 0: 2471 → 2000\n",
      "🔧 Augmenting label 1: 22 → 200 (+178)\n",
      "🔧 Augmenting label 2: 64 → 200 (+136)\n",
      "🔧 Augmenting label 3: 24 → 200 (+176)\n",
      "🔧 Augmenting label 4: 190 → 200 (+10)\n",
      "🔧 Augmenting label 5: 113 → 200 (+87)\n",
      "🔧 Augmenting label 6: 93 → 200 (+107)\n",
      "🔧 Augmenting label 7: 31 → 200 (+169)\n",
      "🔧 Augmenting label 8: 68 → 200 (+132)\n",
      "🔧 Augmenting label 9: 29 → 200 (+171)\n",
      "🔧 Augmenting label 10: 67 → 200 (+133)\n",
      "🔧 Augmenting label 11: 169 → 200 (+31)\n",
      "🔧 Augmenting label 12: 190 → 200 (+10)\n",
      "🔧 Augmenting label 13: 29 → 200 (+171)\n",
      "🔧 Augmenting label 14: 22 → 200 (+178)\n",
      "🔧 Augmenting label 15: 25 → 200 (+175)\n",
      "🔧 Augmenting label 16: 19 → 200 (+181)\n",
      "🔧 Augmenting label 17: 182 → 200 (+18)\n",
      "🔧 Augmenting label 18: 92 → 200 (+108)\n",
      "🔧 Augmenting label 19: 44 → 200 (+156)\n",
      "🔧 Augmenting label 20: 14 → 200 (+186)\n",
      "🔧 Augmenting label 21: 35 → 200 (+165)\n",
      "🔧 Augmenting label 22: 76 → 200 (+124)\n",
      "🔧 Augmenting label 23: 158 → 200 (+42)\n",
      "🔧 Augmenting label 24: 13 → 200 (+187)\n",
      "🔧 Augmenting label 25: 44 → 200 (+156)\n",
      "🔧 Augmenting label 26: 84 → 200 (+116)\n",
      "🔧 Augmenting label 27: 48 → 200 (+152)\n",
      "🔧 Augmenting label 28: 11 → 200 (+189)\n",
      "🔧 Augmenting label 29: 13 → 200 (+187)\n",
      "🔧 Augmenting label 30: 11 → 200 (+189)\n",
      "🔧 Augmenting label 31: 75 → 200 (+125)\n",
      "🔧 Augmenting label 32: 36 → 200 (+164)\n",
      "🔧 Augmenting label 33: 31 → 200 (+169)\n",
      "🔧 Augmenting label 34: 30 → 200 (+170)\n",
      "🔧 Augmenting label 35: 11 → 200 (+189)\n",
      "🔧 Augmenting label 36: 22 → 200 (+178)\n",
      "🔧 Augmenting label 37: 16 → 200 (+184)\n",
      "🔧 Augmenting label 38: 33 → 200 (+167)\n",
      "🔧 Augmenting label 39: 10 → 200 (+190)\n",
      "🔧 Augmenting label 40: 9 → 200 (+191)\n",
      "🔧 Augmenting label 41: 56 → 200 (+144)\n",
      "🔧 Augmenting label 42: 18 → 200 (+182)\n",
      "🔧 Augmenting label 43: 9 → 200 (+191)\n",
      "🔧 Augmenting label 44: 55 → 200 (+145)\n",
      "🔧 Augmenting label 46: 62 → 200 (+138)\n",
      "🔧 Augmenting label 47: 80 → 200 (+120)\n",
      "Label distribution after resampling:\n",
      "  label 0: 2000\n",
      "  label 1: 200\n",
      "  label 2: 200\n",
      "  label 3: 200\n",
      "  label 4: 200\n",
      "  label 5: 200\n",
      "  label 6: 200\n",
      "  label 7: 200\n",
      "  label 8: 200\n",
      "  label 9: 200\n",
      "  label 10: 200\n",
      "  label 11: 200\n",
      "  label 12: 200\n",
      "  label 13: 200\n",
      "  label 14: 200\n",
      "  label 15: 200\n",
      "  label 16: 200\n",
      "  label 17: 200\n",
      "  label 18: 200\n",
      "  label 19: 200\n",
      "  label 20: 200\n",
      "  label 21: 200\n",
      "  label 22: 200\n",
      "  label 23: 200\n",
      "  label 24: 200\n",
      "  label 25: 200\n",
      "  label 26: 200\n",
      "  label 27: 200\n",
      "  label 28: 200\n",
      "  label 29: 200\n",
      "  label 30: 200\n",
      "  label 31: 200\n",
      "  label 32: 200\n",
      "  label 33: 200\n",
      "  label 34: 200\n",
      "  label 35: 200\n",
      "  label 36: 200\n",
      "  label 37: 200\n",
      "  label 38: 200\n",
      "  label 39: 200\n",
      "  label 40: 200\n",
      "  label 41: 200\n",
      "  label 42: 200\n",
      "  label 43: 200\n",
      "  label 44: 200\n",
      "  label 45: 241\n",
      "  label 46: 200\n",
      "  label 47: 200\n",
      "model is microsoft/deberta-base cnn\n",
      "Epoch 1/20\n"
     ]
    },
    {
     "name": "stderr",
     "output_type": "stream",
     "text": [
      "100%|██████████| 716/716 [01:15<00:00,  9.45it/s]\n"
     ]
    },
    {
     "name": "stdout",
     "output_type": "stream",
     "text": [
      "{'val_loss': 1.7689967896880172, 'val_accuracy': 0.524790236460717, 'precision': 0.490855891001654, 'recall': 0.524790236460717, 'f1-score': 0.486462766163184, 'macro_f1-score': 0.22892116761850403, 'balanced_accuracy': 0.2864536266274602, 'mcc': 0.3464571951938693, 'train_loss': 2.787383325855825}\n",
      "Epoch 2/20\n"
     ]
    },
    {
     "name": "stderr",
     "output_type": "stream",
     "text": [
      "100%|██████████| 716/716 [01:15<00:00,  9.43it/s]\n"
     ]
    },
    {
     "name": "stdout",
     "output_type": "stream",
     "text": [
      "{'val_loss': 1.5364419632568591, 'val_accuracy': 0.5690312738367659, 'precision': 0.5889479888928684, 'recall': 0.5690312738367659, 'f1-score': 0.5506755881586366, 'macro_f1-score': 0.3263897540837562, 'balanced_accuracy': 0.3779408850412865, 'mcc': 0.4186252639901066, 'train_loss': 1.5297875591663008}\n",
      "Epoch 3/20\n"
     ]
    },
    {
     "name": "stderr",
     "output_type": "stream",
     "text": [
      "100%|██████████| 716/716 [01:15<00:00,  9.43it/s]\n"
     ]
    },
    {
     "name": "stdout",
     "output_type": "stream",
     "text": [
      "{'val_loss': 1.5817274761999525, 'val_accuracy': 0.6048817696414951, 'precision': 0.6350164287520474, 'recall': 0.6048817696414951, 'f1-score': 0.602558130231209, 'macro_f1-score': 0.36957378170921956, 'balanced_accuracy': 0.4040918230590222, 'mcc': 0.479937817633215, 'train_loss': 0.8210471561698857}\n",
      "Epoch 4/20\n"
     ]
    },
    {
     "name": "stderr",
     "output_type": "stream",
     "text": [
      "100%|██████████| 716/716 [01:15<00:00,  9.44it/s]\n"
     ]
    },
    {
     "name": "stdout",
     "output_type": "stream",
     "text": [
      "{'val_loss': 1.6406903037937677, 'val_accuracy': 0.6247139588100686, 'precision': 0.618795084781729, 'recall': 0.6247139588100686, 'f1-score': 0.6086279344114368, 'macro_f1-score': 0.37652163362793384, 'balanced_accuracy': 0.3787379351793731, 'mcc': 0.4928160654593339, 'train_loss': 0.511220411896997}\n",
      "Epoch 5/20\n"
     ]
    },
    {
     "name": "stderr",
     "output_type": "stream",
     "text": [
      "100%|██████████| 716/716 [01:15<00:00,  9.45it/s]\n"
     ]
    },
    {
     "name": "stdout",
     "output_type": "stream",
     "text": [
      "{'val_loss': 1.7184169276095018, 'val_accuracy': 0.6117467581998475, 'precision': 0.6477594007713892, 'recall': 0.6117467581998475, 'f1-score': 0.6212870294522814, 'macro_f1-score': 0.381987230618469, 'balanced_accuracy': 0.4192477215107721, 'mcc': 0.5074904372213902, 'train_loss': 0.35456338217325883}\n",
      "Epoch 6/20\n"
     ]
    },
    {
     "name": "stderr",
     "output_type": "stream",
     "text": [
      "100%|██████████| 716/716 [01:15<00:00,  9.44it/s]\n"
     ]
    },
    {
     "name": "stdout",
     "output_type": "stream",
     "text": [
      "{'val_loss': 1.8399262864415238, 'val_accuracy': 0.6086956521739131, 'precision': 0.6289124725123573, 'recall': 0.6086956521739131, 'f1-score': 0.6081799517314448, 'macro_f1-score': 0.3956517588659841, 'balanced_accuracy': 0.40623614631989985, 'mcc': 0.48785452793569817, 'train_loss': 0.28916702373473585}\n",
      "Epoch 7/20\n"
     ]
    },
    {
     "name": "stderr",
     "output_type": "stream",
     "text": [
      "100%|██████████| 716/716 [01:15<00:00,  9.45it/s]\n"
     ]
    },
    {
     "name": "stdout",
     "output_type": "stream",
     "text": [
      "{'val_loss': 1.9044342017391833, 'val_accuracy': 0.6209000762776506, 'precision': 0.6434623174933984, 'recall': 0.6209000762776506, 'f1-score': 0.6221591914650794, 'macro_f1-score': 0.37696796965466994, 'balanced_accuracy': 0.4114113666725124, 'mcc': 0.5165319605499826, 'train_loss': 0.2651651585611187}\n",
      "Epoch 8/20\n"
     ]
    },
    {
     "name": "stderr",
     "output_type": "stream",
     "text": [
      "100%|██████████| 716/716 [01:15<00:00,  9.44it/s]\n"
     ]
    },
    {
     "name": "stdout",
     "output_type": "stream",
     "text": [
      "{'val_loss': 1.9893839241164486, 'val_accuracy': 0.6338672768878718, 'precision': 0.6353398517670271, 'recall': 0.6338672768878718, 'f1-score': 0.625134528541429, 'macro_f1-score': 0.4043417306192359, 'balanced_accuracy': 0.41568878782021396, 'mcc': 0.5174157399731433, 'train_loss': 0.19909423984656782}\n",
      "Epoch 9/20\n"
     ]
    },
    {
     "name": "stderr",
     "output_type": "stream",
     "text": [
      "100%|██████████| 716/716 [01:15<00:00,  9.44it/s]\n"
     ]
    },
    {
     "name": "stdout",
     "output_type": "stream",
     "text": [
      "{'val_loss': 1.9136443977675788, 'val_accuracy': 0.6323417238749046, 'precision': 0.634099383974537, 'recall': 0.6323417238749046, 'f1-score': 0.6237429860731181, 'macro_f1-score': 0.42295196557348974, 'balanced_accuracy': 0.4351099488671035, 'mcc': 0.514481339685449, 'train_loss': 0.19151302902014958}\n",
      "Epoch 10/20\n"
     ]
    },
    {
     "name": "stderr",
     "output_type": "stream",
     "text": [
      "100%|██████████| 716/716 [01:15<00:00,  9.44it/s]\n"
     ]
    },
    {
     "name": "stdout",
     "output_type": "stream",
     "text": [
      "{'val_loss': 2.1266332457705244, 'val_accuracy': 0.6216628527841342, 'precision': 0.6457942223931017, 'recall': 0.6216628527841342, 'f1-score': 0.6208088443677157, 'macro_f1-score': 0.3749799985068403, 'balanced_accuracy': 0.40677965961295853, 'mcc': 0.5151967697298532, 'train_loss': 0.13130265484335077}\n",
      "Epoch 11/20\n"
     ]
    },
    {
     "name": "stderr",
     "output_type": "stream",
     "text": [
      "100%|██████████| 716/716 [01:15<00:00,  9.43it/s]\n"
     ]
    },
    {
     "name": "stdout",
     "output_type": "stream",
     "text": [
      "{'val_loss': 2.1866768885676455, 'val_accuracy': 0.6155606407322655, 'precision': 0.6569707126106817, 'recall': 0.6155606407322655, 'f1-score': 0.626883411781317, 'macro_f1-score': 0.41332887325676526, 'balanced_accuracy': 0.42593111866683664, 'mcc': 0.5141443717169186, 'train_loss': 0.12812706538314758}\n",
      "Epoch 12/20\n"
     ]
    },
    {
     "name": "stderr",
     "output_type": "stream",
     "text": [
      "100%|██████████| 716/716 [01:15<00:00,  9.44it/s]\n"
     ]
    },
    {
     "name": "stdout",
     "output_type": "stream",
     "text": [
      "{'val_loss': 2.4389674616296118, 'val_accuracy': 0.6025934401220442, 'precision': 0.6035832569382691, 'recall': 0.6025934401220442, 'f1-score': 0.5926094328915807, 'macro_f1-score': 0.361945623643755, 'balanced_accuracy': 0.3742164492153333, 'mcc': 0.47056379505383417, 'train_loss': 0.10764466572615354}\n",
      "Early stopping.\n",
      "\n",
      "[Fold 5]\n",
      "🚀 Using Word2Vec + EDA (replace + deletion/swap) for data augmentation + under-sampling\n",
      "🔻 Under-sampling label 0: 2472 → 2000\n",
      "🔧 Augmenting label 1: 21 → 200 (+179)\n",
      "🔧 Augmenting label 2: 64 → 200 (+136)\n",
      "🔧 Augmenting label 3: 24 → 200 (+176)\n",
      "🔧 Augmenting label 4: 191 → 200 (+9)\n",
      "🔧 Augmenting label 5: 112 → 200 (+88)\n",
      "🔧 Augmenting label 6: 92 → 200 (+108)\n",
      "🔧 Augmenting label 7: 31 → 200 (+169)\n",
      "🔧 Augmenting label 8: 68 → 200 (+132)\n",
      "🔧 Augmenting label 9: 29 → 200 (+171)\n",
      "🔧 Augmenting label 10: 68 → 200 (+132)\n",
      "🔧 Augmenting label 11: 168 → 200 (+32)\n",
      "🔧 Augmenting label 12: 190 → 200 (+10)\n",
      "🔧 Augmenting label 13: 29 → 200 (+171)\n",
      "🔧 Augmenting label 14: 22 → 200 (+178)\n",
      "🔧 Augmenting label 15: 25 → 200 (+175)\n",
      "🔧 Augmenting label 16: 19 → 200 (+181)\n",
      "🔧 Augmenting label 17: 183 → 200 (+17)\n",
      "🔧 Augmenting label 18: 92 → 200 (+108)\n",
      "🔧 Augmenting label 19: 44 → 200 (+156)\n",
      "🔧 Augmenting label 20: 14 → 200 (+186)\n",
      "🔧 Augmenting label 21: 35 → 200 (+165)\n",
      "🔧 Augmenting label 22: 76 → 200 (+124)\n",
      "🔧 Augmenting label 23: 158 → 200 (+42)\n",
      "🔧 Augmenting label 24: 13 → 200 (+187)\n",
      "🔧 Augmenting label 25: 44 → 200 (+156)\n",
      "🔧 Augmenting label 26: 84 → 200 (+116)\n",
      "🔧 Augmenting label 27: 48 → 200 (+152)\n",
      "🔧 Augmenting label 28: 11 → 200 (+189)\n",
      "🔧 Augmenting label 29: 13 → 200 (+187)\n",
      "🔧 Augmenting label 30: 11 → 200 (+189)\n",
      "🔧 Augmenting label 31: 75 → 200 (+125)\n",
      "🔧 Augmenting label 32: 36 → 200 (+164)\n",
      "🔧 Augmenting label 33: 31 → 200 (+169)\n",
      "🔧 Augmenting label 34: 30 → 200 (+170)\n",
      "🔧 Augmenting label 35: 11 → 200 (+189)\n",
      "🔧 Augmenting label 36: 22 → 200 (+178)\n",
      "🔧 Augmenting label 37: 16 → 200 (+184)\n",
      "🔧 Augmenting label 38: 33 → 200 (+167)\n",
      "🔧 Augmenting label 39: 10 → 200 (+190)\n",
      "🔧 Augmenting label 40: 9 → 200 (+191)\n",
      "🔧 Augmenting label 41: 57 → 200 (+143)\n",
      "🔧 Augmenting label 42: 18 → 200 (+182)\n",
      "🔧 Augmenting label 43: 9 → 200 (+191)\n",
      "🔧 Augmenting label 44: 54 → 200 (+146)\n",
      "🔧 Augmenting label 46: 61 → 200 (+139)\n",
      "🔧 Augmenting label 47: 80 → 200 (+120)\n",
      "Label distribution after resampling:\n",
      "  label 0: 2000\n",
      "  label 1: 200\n",
      "  label 2: 200\n",
      "  label 3: 200\n",
      "  label 4: 200\n",
      "  label 5: 200\n",
      "  label 6: 200\n",
      "  label 7: 200\n",
      "  label 8: 200\n",
      "  label 9: 200\n",
      "  label 10: 200\n",
      "  label 11: 200\n",
      "  label 12: 200\n",
      "  label 13: 200\n",
      "  label 14: 200\n",
      "  label 15: 200\n",
      "  label 16: 200\n",
      "  label 17: 200\n",
      "  label 18: 200\n",
      "  label 19: 200\n",
      "  label 20: 200\n",
      "  label 21: 200\n",
      "  label 22: 200\n",
      "  label 23: 200\n",
      "  label 24: 200\n",
      "  label 25: 200\n",
      "  label 26: 200\n",
      "  label 27: 200\n",
      "  label 28: 200\n",
      "  label 29: 200\n",
      "  label 30: 200\n",
      "  label 31: 200\n",
      "  label 32: 200\n",
      "  label 33: 200\n",
      "  label 34: 200\n",
      "  label 35: 200\n",
      "  label 36: 200\n",
      "  label 37: 200\n",
      "  label 38: 200\n",
      "  label 39: 200\n",
      "  label 40: 200\n",
      "  label 41: 200\n",
      "  label 42: 200\n",
      "  label 43: 200\n",
      "  label 44: 200\n",
      "  label 45: 242\n",
      "  label 46: 200\n",
      "  label 47: 200\n",
      "model is microsoft/deberta-base cnn\n",
      "Epoch 1/20\n"
     ]
    },
    {
     "name": "stderr",
     "output_type": "stream",
     "text": [
      "100%|██████████| 716/716 [01:15<00:00,  9.43it/s]\n"
     ]
    },
    {
     "name": "stdout",
     "output_type": "stream",
     "text": [
      "{'val_loss': 3.201458596601719, 'val_accuracy': 0.49122807017543857, 'precision': 0.27040348697831534, 'recall': 0.49122807017543857, 'f1-score': 0.33845928693029664, 'macro_f1-score': 0.02686080493145021, 'balanced_accuracy': 0.03114870340356564, 'mcc': 0.1570581157150984, 'train_loss': 3.521978697963267}\n",
      "Epoch 2/20\n"
     ]
    },
    {
     "name": "stderr",
     "output_type": "stream",
     "text": [
      "100%|██████████| 716/716 [01:15<00:00,  9.43it/s]\n"
     ]
    },
    {
     "name": "stdout",
     "output_type": "stream",
     "text": [
      "{'val_loss': 3.2824380950229926, 'val_accuracy': 0.47063310450038137, 'precision': 0.2214955190516669, 'recall': 0.47063310450038137, 'f1-score': 0.3012247152248292, 'macro_f1-score': 0.013334197786998616, 'balanced_accuracy': 0.020833333333333332, 'mcc': 0.0, 'train_loss': 3.5611564826698943}\n",
      "Epoch 3/20\n"
     ]
    },
    {
     "name": "stderr",
     "output_type": "stream",
     "text": [
      "100%|██████████| 716/716 [01:15<00:00,  9.44it/s]\n"
     ]
    },
    {
     "name": "stdout",
     "output_type": "stream",
     "text": [
      "{'val_loss': 3.229056692704922, 'val_accuracy': 0.47063310450038137, 'precision': 0.2214955190516669, 'recall': 0.47063310450038137, 'f1-score': 0.3012247152248292, 'macro_f1-score': 0.013334197786998616, 'balanced_accuracy': 0.020833333333333332, 'mcc': 0.0, 'train_loss': 3.6421313082705664}\n",
      "Epoch 4/20\n"
     ]
    },
    {
     "name": "stderr",
     "output_type": "stream",
     "text": [
      "100%|██████████| 716/716 [01:15<00:00,  9.43it/s]\n"
     ]
    },
    {
     "name": "stdout",
     "output_type": "stream",
     "text": [
      "{'val_loss': 3.2657716710393023, 'val_accuracy': 0.47063310450038137, 'precision': 0.2214955190516669, 'recall': 0.47063310450038137, 'f1-score': 0.3012247152248292, 'macro_f1-score': 0.013334197786998616, 'balanced_accuracy': 0.020833333333333332, 'mcc': 0.0, 'train_loss': 3.653109430267824}\n",
      "Early stopping.\n",
      "\n",
      " === microsoft/deberta-base + cnn + word2vec_eda Final 5-fold Cross-Validation Results ===\n",
      "val_loss: 2.0909\n",
      "val_accuracy: 0.5926\n",
      "precision: 0.5636\n",
      "recall: 0.5926\n",
      "f1-score: 0.5567\n",
      "macro_f1-score: 0.3218\n",
      "balanced_accuracy: 0.3348\n",
      "mcc: 0.4289\n",
      "train_loss: 1.0313\n",
      "total_seconds: 3311.0000\n",
      "total_time: 0 hrs 55 mins 11 secs\n",
      "▶ Running: microsoft/deberta-base + lstm + word2vec_eda\n",
      "tokenizer is microsoft/deberta-base\n",
      "Using device: cuda\n",
      "CUDA Available: True\n",
      "CUDA Device: NVIDIA GeForce RTX 5070 Ti\n",
      "Current GPU Memory Allocated: 0.02 GB\n",
      "Current GPU Memory Cached: 5.30 GB\n",
      "\n",
      "[Fold 1]\n",
      "🚀 Using Word2Vec + EDA (replace + deletion/swap) for data augmentation + under-sampling\n",
      "🔻 Under-sampling label 0: 2471 → 2000\n",
      "🔧 Augmenting label 1: 21 → 200 (+179)\n",
      "🔧 Augmenting label 2: 64 → 200 (+136)\n",
      "🔧 Augmenting label 3: 24 → 200 (+176)\n",
      "🔧 Augmenting label 4: 191 → 200 (+9)\n",
      "🔧 Augmenting label 5: 113 → 200 (+87)\n",
      "🔧 Augmenting label 6: 93 → 200 (+107)\n",
      "🔧 Augmenting label 7: 30 → 200 (+170)\n",
      "🔧 Augmenting label 8: 68 → 200 (+132)\n",
      "🔧 Augmenting label 9: 30 → 200 (+170)\n",
      "🔧 Augmenting label 10: 67 → 200 (+133)\n",
      "🔧 Augmenting label 11: 169 → 200 (+31)\n",
      "🔧 Augmenting label 12: 189 → 200 (+11)\n",
      "🔧 Augmenting label 13: 29 → 200 (+171)\n",
      "🔧 Augmenting label 14: 22 → 200 (+178)\n",
      "🔧 Augmenting label 15: 25 → 200 (+175)\n",
      "🔧 Augmenting label 16: 19 → 200 (+181)\n",
      "🔧 Augmenting label 17: 183 → 200 (+17)\n",
      "🔧 Augmenting label 18: 92 → 200 (+108)\n",
      "🔧 Augmenting label 19: 44 → 200 (+156)\n",
      "🔧 Augmenting label 20: 13 → 200 (+187)\n",
      "🔧 Augmenting label 21: 35 → 200 (+165)\n",
      "🔧 Augmenting label 22: 76 → 200 (+124)\n",
      "🔧 Augmenting label 23: 158 → 200 (+42)\n",
      "🔧 Augmenting label 24: 13 → 200 (+187)\n",
      "🔧 Augmenting label 25: 44 → 200 (+156)\n",
      "🔧 Augmenting label 26: 84 → 200 (+116)\n",
      "🔧 Augmenting label 27: 48 → 200 (+152)\n",
      "🔧 Augmenting label 28: 11 → 200 (+189)\n",
      "🔧 Augmenting label 29: 13 → 200 (+187)\n",
      "🔧 Augmenting label 30: 11 → 200 (+189)\n",
      "🔧 Augmenting label 31: 75 → 200 (+125)\n",
      "🔧 Augmenting label 32: 36 → 200 (+164)\n",
      "🔧 Augmenting label 33: 32 → 200 (+168)\n",
      "🔧 Augmenting label 34: 29 → 200 (+171)\n",
      "🔧 Augmenting label 35: 11 → 200 (+189)\n",
      "🔧 Augmenting label 36: 22 → 200 (+178)\n",
      "🔧 Augmenting label 37: 16 → 200 (+184)\n",
      "🔧 Augmenting label 38: 33 → 200 (+167)\n",
      "🔧 Augmenting label 39: 10 → 200 (+190)\n",
      "🔧 Augmenting label 40: 9 → 200 (+191)\n",
      "🔧 Augmenting label 41: 57 → 200 (+143)\n",
      "🔧 Augmenting label 42: 19 → 200 (+181)\n",
      "🔧 Augmenting label 43: 8 → 200 (+192)\n",
      "🔧 Augmenting label 44: 54 → 200 (+146)\n",
      "🔧 Augmenting label 46: 61 → 200 (+139)\n",
      "🔧 Augmenting label 47: 80 → 200 (+120)\n",
      "Label distribution after resampling:\n",
      "  label 0: 2000\n",
      "  label 1: 200\n",
      "  label 2: 200\n",
      "  label 3: 200\n",
      "  label 4: 200\n",
      "  label 5: 200\n",
      "  label 6: 200\n",
      "  label 7: 200\n",
      "  label 8: 200\n",
      "  label 9: 200\n",
      "  label 10: 200\n",
      "  label 11: 200\n",
      "  label 12: 200\n",
      "  label 13: 200\n",
      "  label 14: 200\n",
      "  label 15: 200\n",
      "  label 16: 200\n",
      "  label 17: 200\n",
      "  label 18: 200\n",
      "  label 19: 200\n",
      "  label 20: 200\n",
      "  label 21: 200\n",
      "  label 22: 200\n",
      "  label 23: 200\n",
      "  label 24: 200\n",
      "  label 25: 200\n",
      "  label 26: 200\n",
      "  label 27: 200\n",
      "  label 28: 200\n",
      "  label 29: 200\n",
      "  label 30: 200\n",
      "  label 31: 200\n",
      "  label 32: 200\n",
      "  label 33: 200\n",
      "  label 34: 200\n",
      "  label 35: 200\n",
      "  label 36: 200\n",
      "  label 37: 200\n",
      "  label 38: 200\n",
      "  label 39: 200\n",
      "  label 40: 200\n",
      "  label 41: 200\n",
      "  label 42: 200\n",
      "  label 43: 200\n",
      "  label 44: 200\n",
      "  label 45: 242\n",
      "  label 46: 200\n",
      "  label 47: 200\n",
      "model is microsoft/deberta-base lstm\n",
      "Epoch 1/20\n"
     ]
    },
    {
     "name": "stderr",
     "output_type": "stream",
     "text": [
      "100%|██████████| 716/716 [01:16<00:00,  9.33it/s]\n"
     ]
    },
    {
     "name": "stdout",
     "output_type": "stream",
     "text": [
      "{'val_loss': 2.7324604566504314, 'val_accuracy': 0.46646341463414637, 'precision': 0.23770127732254512, 'recall': 0.46646341463414637, 'f1-score': 0.31445228925973473, 'macro_f1-score': 0.015350877192982455, 'balanced_accuracy': 0.030912891046386188, 'mcc': 0.09775571839153421, 'train_loss': 3.58362491303982}\n",
      "Epoch 2/20\n"
     ]
    },
    {
     "name": "stderr",
     "output_type": "stream",
     "text": [
      "100%|██████████| 716/716 [01:16<00:00,  9.34it/s]\n"
     ]
    },
    {
     "name": "stdout",
     "output_type": "stream",
     "text": [
      "{'val_loss': 2.9615789913549655, 'val_accuracy': 0.4717987804878049, 'precision': 0.22514174094159747, 'recall': 0.4717987804878049, 'f1-score': 0.3048225236826336, 'macro_f1-score': 0.01677208572922112, 'balanced_accuracy': 0.026007955771305286, 'mcc': 0.04845850834452057, 'train_loss': 3.6500109001244914}\n",
      "Epoch 3/20\n"
     ]
    },
    {
     "name": "stderr",
     "output_type": "stream",
     "text": [
      "100%|██████████| 716/716 [01:16<00:00,  9.36it/s]\n"
     ]
    },
    {
     "name": "stdout",
     "output_type": "stream",
     "text": [
      "{'val_loss': 2.966549194440609, 'val_accuracy': 0.47103658536585363, 'precision': 0.22187546475312311, 'recall': 0.47103658536585363, 'f1-score': 0.3016586629596866, 'macro_f1-score': 0.013341968911917098, 'balanced_accuracy': 0.020833333333333332, 'mcc': 0.0, 'train_loss': 3.6490897925872376}\n",
      "Epoch 4/20\n"
     ]
    },
    {
     "name": "stderr",
     "output_type": "stream",
     "text": [
      "100%|██████████| 716/716 [01:16<00:00,  9.34it/s]\n"
     ]
    },
    {
     "name": "stdout",
     "output_type": "stream",
     "text": [
      "{'val_loss': 2.99917091974398, 'val_accuracy': 0.47103658536585363, 'precision': 0.22187546475312311, 'recall': 0.47103658536585363, 'f1-score': 0.3016586629596866, 'macro_f1-score': 0.013341968911917098, 'balanced_accuracy': 0.020833333333333332, 'mcc': 0.0, 'train_loss': 3.6397742385970813}\n",
      "Epoch 5/20\n"
     ]
    },
    {
     "name": "stderr",
     "output_type": "stream",
     "text": [
      "100%|██████████| 716/716 [01:16<00:00,  9.34it/s]\n"
     ]
    },
    {
     "name": "stdout",
     "output_type": "stream",
     "text": [
      "{'val_loss': 3.0172528871675817, 'val_accuracy': 0.47103658536585363, 'precision': 0.22187546475312311, 'recall': 0.47103658536585363, 'f1-score': 0.3016586629596866, 'macro_f1-score': 0.013341968911917098, 'balanced_accuracy': 0.020833333333333332, 'mcc': 0.0, 'train_loss': 3.654994194401043}\n",
      "Early stopping.\n",
      "\n",
      "[Fold 2]\n",
      "🚀 Using Word2Vec + EDA (replace + deletion/swap) for data augmentation + under-sampling\n",
      "🔻 Under-sampling label 0: 2471 → 2000\n",
      "🔧 Augmenting label 1: 22 → 200 (+178)\n",
      "🔧 Augmenting label 2: 64 → 200 (+136)\n",
      "🔧 Augmenting label 3: 24 → 200 (+176)\n",
      "🔧 Augmenting label 4: 190 → 200 (+10)\n",
      "🔧 Augmenting label 5: 113 → 200 (+87)\n",
      "🔧 Augmenting label 6: 93 → 200 (+107)\n",
      "🔧 Augmenting label 7: 30 → 200 (+170)\n",
      "🔧 Augmenting label 8: 68 → 200 (+132)\n",
      "🔧 Augmenting label 9: 30 → 200 (+170)\n",
      "🔧 Augmenting label 10: 67 → 200 (+133)\n",
      "🔧 Augmenting label 11: 169 → 200 (+31)\n",
      "🔧 Augmenting label 12: 189 → 200 (+11)\n",
      "🔧 Augmenting label 13: 29 → 200 (+171)\n",
      "🔧 Augmenting label 14: 23 → 200 (+177)\n",
      "🔧 Augmenting label 15: 24 → 200 (+176)\n",
      "🔧 Augmenting label 16: 20 → 200 (+180)\n",
      "🔧 Augmenting label 17: 182 → 200 (+18)\n",
      "🔧 Augmenting label 18: 92 → 200 (+108)\n",
      "🔧 Augmenting label 19: 44 → 200 (+156)\n",
      "🔧 Augmenting label 20: 13 → 200 (+187)\n",
      "🔧 Augmenting label 21: 36 → 200 (+164)\n",
      "🔧 Augmenting label 22: 76 → 200 (+124)\n",
      "🔧 Augmenting label 23: 157 → 200 (+43)\n",
      "🔧 Augmenting label 24: 12 → 200 (+188)\n",
      "🔧 Augmenting label 25: 44 → 200 (+156)\n",
      "🔧 Augmenting label 26: 84 → 200 (+116)\n",
      "🔧 Augmenting label 27: 48 → 200 (+152)\n",
      "🔧 Augmenting label 28: 12 → 200 (+188)\n",
      "🔧 Augmenting label 29: 12 → 200 (+188)\n",
      "🔧 Augmenting label 30: 12 → 200 (+188)\n",
      "🔧 Augmenting label 31: 75 → 200 (+125)\n",
      "🔧 Augmenting label 32: 36 → 200 (+164)\n",
      "🔧 Augmenting label 33: 31 → 200 (+169)\n",
      "🔧 Augmenting label 34: 29 → 200 (+171)\n",
      "🔧 Augmenting label 35: 12 → 200 (+188)\n",
      "🔧 Augmenting label 36: 21 → 200 (+179)\n",
      "🔧 Augmenting label 37: 16 → 200 (+184)\n",
      "🔧 Augmenting label 38: 33 → 200 (+167)\n",
      "🔧 Augmenting label 39: 11 → 200 (+189)\n",
      "🔧 Augmenting label 40: 8 → 200 (+192)\n",
      "🔧 Augmenting label 41: 57 → 200 (+143)\n",
      "🔧 Augmenting label 42: 19 → 200 (+181)\n",
      "🔧 Augmenting label 43: 9 → 200 (+191)\n",
      "🔧 Augmenting label 44: 54 → 200 (+146)\n",
      "🔧 Augmenting label 46: 62 → 200 (+138)\n",
      "🔧 Augmenting label 47: 80 → 200 (+120)\n",
      "Label distribution after resampling:\n",
      "  label 0: 2000\n",
      "  label 1: 200\n",
      "  label 2: 200\n",
      "  label 3: 200\n",
      "  label 4: 200\n",
      "  label 5: 200\n",
      "  label 6: 200\n",
      "  label 7: 200\n",
      "  label 8: 200\n",
      "  label 9: 200\n",
      "  label 10: 200\n",
      "  label 11: 200\n",
      "  label 12: 200\n",
      "  label 13: 200\n",
      "  label 14: 200\n",
      "  label 15: 200\n",
      "  label 16: 200\n",
      "  label 17: 200\n",
      "  label 18: 200\n",
      "  label 19: 200\n",
      "  label 20: 200\n",
      "  label 21: 200\n",
      "  label 22: 200\n",
      "  label 23: 200\n",
      "  label 24: 200\n",
      "  label 25: 200\n",
      "  label 26: 200\n",
      "  label 27: 200\n",
      "  label 28: 200\n",
      "  label 29: 200\n",
      "  label 30: 200\n",
      "  label 31: 200\n",
      "  label 32: 200\n",
      "  label 33: 200\n",
      "  label 34: 200\n",
      "  label 35: 200\n",
      "  label 36: 200\n",
      "  label 37: 200\n",
      "  label 38: 200\n",
      "  label 39: 200\n",
      "  label 40: 200\n",
      "  label 41: 200\n",
      "  label 42: 200\n",
      "  label 43: 200\n",
      "  label 44: 200\n",
      "  label 45: 242\n",
      "  label 46: 200\n",
      "  label 47: 200\n",
      "model is microsoft/deberta-base lstm\n",
      "Epoch 1/20\n"
     ]
    },
    {
     "name": "stderr",
     "output_type": "stream",
     "text": [
      "100%|██████████| 716/716 [01:16<00:00,  9.33it/s]\n"
     ]
    },
    {
     "name": "stdout",
     "output_type": "stream",
     "text": [
      "{'val_loss': 2.544732035660162, 'val_accuracy': 0.4401220442410374, 'precision': 0.34401658001299823, 'recall': 0.4401220442410374, 'f1-score': 0.3760274820810842, 'macro_f1-score': 0.03890389778779948, 'balanced_accuracy': 0.07962850593311759, 'mcc': 0.20585252959718695, 'train_loss': 3.473574762903778}\n",
      "Epoch 2/20\n"
     ]
    },
    {
     "name": "stderr",
     "output_type": "stream",
     "text": [
      "100%|██████████| 716/716 [01:16<00:00,  9.34it/s]\n"
     ]
    },
    {
     "name": "stdout",
     "output_type": "stream",
     "text": [
      "{'val_loss': 2.586095491560494, 'val_accuracy': 0.467581998474447, 'precision': 0.35463812233762027, 'recall': 0.467581998474447, 'f1-score': 0.3845021607859869, 'macro_f1-score': 0.04934295689019023, 'balanced_accuracy': 0.09093374783077716, 'mcc': 0.22014826782403582, 'train_loss': 3.235713112620668}\n",
      "Epoch 3/20\n"
     ]
    },
    {
     "name": "stderr",
     "output_type": "stream",
     "text": [
      "100%|██████████| 716/716 [01:16<00:00,  9.33it/s]\n"
     ]
    },
    {
     "name": "stdout",
     "output_type": "stream",
     "text": [
      "{'val_loss': 2.6403497108599034, 'val_accuracy': 0.4477498093058734, 'precision': 0.28359358557684905, 'recall': 0.4477498093058734, 'f1-score': 0.3448902659926439, 'macro_f1-score': 0.016570335863814123, 'balanced_accuracy': 0.03724090768993681, 'mcc': 0.18331915218201203, 'train_loss': 3.279953490089438}\n",
      "Epoch 4/20\n"
     ]
    },
    {
     "name": "stderr",
     "output_type": "stream",
     "text": [
      "100%|██████████| 716/716 [01:16<00:00,  9.35it/s]\n"
     ]
    },
    {
     "name": "stdout",
     "output_type": "stream",
     "text": [
      "{'val_loss': 2.5868124322193427, 'val_accuracy': 0.4591914569031274, 'precision': 0.2728451402269898, 'recall': 0.4591914569031274, 'f1-score': 0.3393834191780406, 'macro_f1-score': 0.019619003510984508, 'balanced_accuracy': 0.048236077400215745, 'mcc': 0.1506212592418607, 'train_loss': 3.377484150771988}\n",
      "Epoch 5/20\n"
     ]
    },
    {
     "name": "stderr",
     "output_type": "stream",
     "text": [
      "100%|██████████| 716/716 [01:16<00:00,  9.34it/s]\n"
     ]
    },
    {
     "name": "stdout",
     "output_type": "stream",
     "text": [
      "{'val_loss': 2.575577349197574, 'val_accuracy': 0.4607170099160946, 'precision': 0.3063661161393002, 'recall': 0.4607170099160946, 'f1-score': 0.3665808324186198, 'macro_f1-score': 0.02983519279708785, 'balanced_accuracy': 0.04537327876134273, 'mcc': 0.19855368014357314, 'train_loss': 3.2288233761014884}\n",
      "Early stopping.\n",
      "\n",
      "[Fold 3]\n",
      "🚀 Using Word2Vec + EDA (replace + deletion/swap) for data augmentation + under-sampling\n",
      "🔻 Under-sampling label 0: 2471 → 2000\n",
      "🔧 Augmenting label 1: 22 → 200 (+178)\n",
      "🔧 Augmenting label 2: 64 → 200 (+136)\n",
      "🔧 Augmenting label 3: 24 → 200 (+176)\n",
      "🔧 Augmenting label 4: 190 → 200 (+10)\n",
      "🔧 Augmenting label 5: 113 → 200 (+87)\n",
      "🔧 Augmenting label 6: 93 → 200 (+107)\n",
      "🔧 Augmenting label 7: 30 → 200 (+170)\n",
      "🔧 Augmenting label 8: 68 → 200 (+132)\n",
      "🔧 Augmenting label 9: 30 → 200 (+170)\n",
      "🔧 Augmenting label 10: 67 → 200 (+133)\n",
      "🔧 Augmenting label 11: 169 → 200 (+31)\n",
      "🔧 Augmenting label 12: 190 → 200 (+10)\n",
      "🔧 Augmenting label 13: 28 → 200 (+172)\n",
      "🔧 Augmenting label 14: 23 → 200 (+177)\n",
      "🔧 Augmenting label 15: 25 → 200 (+175)\n",
      "🔧 Augmenting label 16: 19 → 200 (+181)\n",
      "🔧 Augmenting label 17: 182 → 200 (+18)\n",
      "🔧 Augmenting label 18: 92 → 200 (+108)\n",
      "🔧 Augmenting label 19: 44 → 200 (+156)\n",
      "🔧 Augmenting label 20: 14 → 200 (+186)\n",
      "🔧 Augmenting label 21: 35 → 200 (+165)\n",
      "🔧 Augmenting label 22: 76 → 200 (+124)\n",
      "🔧 Augmenting label 23: 157 → 200 (+43)\n",
      "🔧 Augmenting label 24: 13 → 200 (+187)\n",
      "🔧 Augmenting label 25: 44 → 200 (+156)\n",
      "🔧 Augmenting label 26: 84 → 200 (+116)\n",
      "🔧 Augmenting label 27: 48 → 200 (+152)\n",
      "🔧 Augmenting label 28: 11 → 200 (+189)\n",
      "🔧 Augmenting label 29: 13 → 200 (+187)\n",
      "🔧 Augmenting label 30: 11 → 200 (+189)\n",
      "🔧 Augmenting label 31: 76 → 200 (+124)\n",
      "🔧 Augmenting label 32: 36 → 200 (+164)\n",
      "🔧 Augmenting label 33: 31 → 200 (+169)\n",
      "🔧 Augmenting label 34: 30 → 200 (+170)\n",
      "🔧 Augmenting label 35: 11 → 200 (+189)\n",
      "🔧 Augmenting label 36: 21 → 200 (+179)\n",
      "🔧 Augmenting label 37: 16 → 200 (+184)\n",
      "🔧 Augmenting label 38: 32 → 200 (+168)\n",
      "🔧 Augmenting label 39: 11 → 200 (+189)\n",
      "🔧 Augmenting label 40: 9 → 200 (+191)\n",
      "🔧 Augmenting label 41: 57 → 200 (+143)\n",
      "🔧 Augmenting label 42: 18 → 200 (+182)\n",
      "🔧 Augmenting label 43: 9 → 200 (+191)\n",
      "🔧 Augmenting label 44: 55 → 200 (+145)\n",
      "🔧 Augmenting label 46: 62 → 200 (+138)\n",
      "🔧 Augmenting label 47: 80 → 200 (+120)\n",
      "Label distribution after resampling:\n",
      "  label 0: 2000\n",
      "  label 1: 200\n",
      "  label 2: 200\n",
      "  label 3: 200\n",
      "  label 4: 200\n",
      "  label 5: 200\n",
      "  label 6: 200\n",
      "  label 7: 200\n",
      "  label 8: 200\n",
      "  label 9: 200\n",
      "  label 10: 200\n",
      "  label 11: 200\n",
      "  label 12: 200\n",
      "  label 13: 200\n",
      "  label 14: 200\n",
      "  label 15: 200\n",
      "  label 16: 200\n",
      "  label 17: 200\n",
      "  label 18: 200\n",
      "  label 19: 200\n",
      "  label 20: 200\n",
      "  label 21: 200\n",
      "  label 22: 200\n",
      "  label 23: 200\n",
      "  label 24: 200\n",
      "  label 25: 200\n",
      "  label 26: 200\n",
      "  label 27: 200\n",
      "  label 28: 200\n",
      "  label 29: 200\n",
      "  label 30: 200\n",
      "  label 31: 200\n",
      "  label 32: 200\n",
      "  label 33: 200\n",
      "  label 34: 200\n",
      "  label 35: 200\n",
      "  label 36: 200\n",
      "  label 37: 200\n",
      "  label 38: 200\n",
      "  label 39: 200\n",
      "  label 40: 200\n",
      "  label 41: 200\n",
      "  label 42: 200\n",
      "  label 43: 200\n",
      "  label 44: 200\n",
      "  label 45: 241\n",
      "  label 46: 200\n",
      "  label 47: 200\n",
      "model is microsoft/deberta-base lstm\n",
      "Epoch 1/20\n"
     ]
    },
    {
     "name": "stderr",
     "output_type": "stream",
     "text": [
      "100%|██████████| 716/716 [01:16<00:00,  9.32it/s]\n"
     ]
    },
    {
     "name": "stdout",
     "output_type": "stream",
     "text": [
      "{'val_loss': 3.0114822038790074, 'val_accuracy': 0.47139588100686497, 'precision': 0.2222140766302384, 'recall': 0.47139588100686497, 'f1-score': 0.302045261236125, 'macro_f1-score': 0.01334888543286677, 'balanced_accuracy': 0.020833333333333332, 'mcc': 0.0, 'train_loss': 3.6702980782066645}\n",
      "Epoch 2/20\n"
     ]
    },
    {
     "name": "stderr",
     "output_type": "stream",
     "text": [
      "100%|██████████| 716/716 [01:16<00:00,  9.36it/s]\n"
     ]
    },
    {
     "name": "stdout",
     "output_type": "stream",
     "text": [
      "{'val_loss': 2.9868204302904084, 'val_accuracy': 0.47139588100686497, 'precision': 0.2222140766302384, 'recall': 0.47139588100686497, 'f1-score': 0.302045261236125, 'macro_f1-score': 0.01334888543286677, 'balanced_accuracy': 0.020833333333333332, 'mcc': 0.0, 'train_loss': 3.6518961437587634}\n",
      "Epoch 3/20\n"
     ]
    },
    {
     "name": "stderr",
     "output_type": "stream",
     "text": [
      "100%|██████████| 716/716 [01:16<00:00,  9.33it/s]\n"
     ]
    },
    {
     "name": "stdout",
     "output_type": "stream",
     "text": [
      "{'val_loss': 2.9760057228367502, 'val_accuracy': 0.47139588100686497, 'precision': 0.2222140766302384, 'recall': 0.47139588100686497, 'f1-score': 0.302045261236125, 'macro_f1-score': 0.01334888543286677, 'balanced_accuracy': 0.020833333333333332, 'mcc': 0.0, 'train_loss': 3.652259617877406}\n",
      "Epoch 4/20\n"
     ]
    },
    {
     "name": "stderr",
     "output_type": "stream",
     "text": [
      "100%|██████████| 716/716 [01:16<00:00,  9.33it/s]\n"
     ]
    },
    {
     "name": "stdout",
     "output_type": "stream",
     "text": [
      "{'val_loss': 2.935780225730524, 'val_accuracy': 0.47139588100686497, 'precision': 0.2222140766302384, 'recall': 0.47139588100686497, 'f1-score': 0.302045261236125, 'macro_f1-score': 0.01334888543286677, 'balanced_accuracy': 0.020833333333333332, 'mcc': 0.0, 'train_loss': 3.6504664424411413}\n",
      "Early stopping.\n",
      "\n",
      "[Fold 4]\n",
      "🚀 Using Word2Vec + EDA (replace + deletion/swap) for data augmentation + under-sampling\n",
      "🔻 Under-sampling label 0: 2471 → 2000\n",
      "🔧 Augmenting label 1: 22 → 200 (+178)\n",
      "🔧 Augmenting label 2: 64 → 200 (+136)\n",
      "🔧 Augmenting label 3: 24 → 200 (+176)\n",
      "🔧 Augmenting label 4: 190 → 200 (+10)\n",
      "🔧 Augmenting label 5: 113 → 200 (+87)\n",
      "🔧 Augmenting label 6: 93 → 200 (+107)\n",
      "🔧 Augmenting label 7: 31 → 200 (+169)\n",
      "🔧 Augmenting label 8: 68 → 200 (+132)\n",
      "🔧 Augmenting label 9: 29 → 200 (+171)\n",
      "🔧 Augmenting label 10: 67 → 200 (+133)\n",
      "🔧 Augmenting label 11: 169 → 200 (+31)\n",
      "🔧 Augmenting label 12: 190 → 200 (+10)\n",
      "🔧 Augmenting label 13: 29 → 200 (+171)\n",
      "🔧 Augmenting label 14: 22 → 200 (+178)\n",
      "🔧 Augmenting label 15: 25 → 200 (+175)\n",
      "🔧 Augmenting label 16: 19 → 200 (+181)\n",
      "🔧 Augmenting label 17: 182 → 200 (+18)\n",
      "🔧 Augmenting label 18: 92 → 200 (+108)\n",
      "🔧 Augmenting label 19: 44 → 200 (+156)\n",
      "🔧 Augmenting label 20: 14 → 200 (+186)\n",
      "🔧 Augmenting label 21: 35 → 200 (+165)\n",
      "🔧 Augmenting label 22: 76 → 200 (+124)\n",
      "🔧 Augmenting label 23: 158 → 200 (+42)\n",
      "🔧 Augmenting label 24: 13 → 200 (+187)\n",
      "🔧 Augmenting label 25: 44 → 200 (+156)\n",
      "🔧 Augmenting label 26: 84 → 200 (+116)\n",
      "🔧 Augmenting label 27: 48 → 200 (+152)\n",
      "🔧 Augmenting label 28: 11 → 200 (+189)\n",
      "🔧 Augmenting label 29: 13 → 200 (+187)\n",
      "🔧 Augmenting label 30: 11 → 200 (+189)\n",
      "🔧 Augmenting label 31: 75 → 200 (+125)\n",
      "🔧 Augmenting label 32: 36 → 200 (+164)\n",
      "🔧 Augmenting label 33: 31 → 200 (+169)\n",
      "🔧 Augmenting label 34: 30 → 200 (+170)\n",
      "🔧 Augmenting label 35: 11 → 200 (+189)\n",
      "🔧 Augmenting label 36: 22 → 200 (+178)\n",
      "🔧 Augmenting label 37: 16 → 200 (+184)\n",
      "🔧 Augmenting label 38: 33 → 200 (+167)\n",
      "🔧 Augmenting label 39: 10 → 200 (+190)\n",
      "🔧 Augmenting label 40: 9 → 200 (+191)\n",
      "🔧 Augmenting label 41: 56 → 200 (+144)\n",
      "🔧 Augmenting label 42: 18 → 200 (+182)\n",
      "🔧 Augmenting label 43: 9 → 200 (+191)\n",
      "🔧 Augmenting label 44: 55 → 200 (+145)\n",
      "🔧 Augmenting label 46: 62 → 200 (+138)\n",
      "🔧 Augmenting label 47: 80 → 200 (+120)\n",
      "Label distribution after resampling:\n",
      "  label 0: 2000\n",
      "  label 1: 200\n",
      "  label 2: 200\n",
      "  label 3: 200\n",
      "  label 4: 200\n",
      "  label 5: 200\n",
      "  label 6: 200\n",
      "  label 7: 200\n",
      "  label 8: 200\n",
      "  label 9: 200\n",
      "  label 10: 200\n",
      "  label 11: 200\n",
      "  label 12: 200\n",
      "  label 13: 200\n",
      "  label 14: 200\n",
      "  label 15: 200\n",
      "  label 16: 200\n",
      "  label 17: 200\n",
      "  label 18: 200\n",
      "  label 19: 200\n",
      "  label 20: 200\n",
      "  label 21: 200\n",
      "  label 22: 200\n",
      "  label 23: 200\n",
      "  label 24: 200\n",
      "  label 25: 200\n",
      "  label 26: 200\n",
      "  label 27: 200\n",
      "  label 28: 200\n",
      "  label 29: 200\n",
      "  label 30: 200\n",
      "  label 31: 200\n",
      "  label 32: 200\n",
      "  label 33: 200\n",
      "  label 34: 200\n",
      "  label 35: 200\n",
      "  label 36: 200\n",
      "  label 37: 200\n",
      "  label 38: 200\n",
      "  label 39: 200\n",
      "  label 40: 200\n",
      "  label 41: 200\n",
      "  label 42: 200\n",
      "  label 43: 200\n",
      "  label 44: 200\n",
      "  label 45: 241\n",
      "  label 46: 200\n",
      "  label 47: 200\n",
      "model is microsoft/deberta-base lstm\n",
      "Epoch 1/20\n"
     ]
    },
    {
     "name": "stderr",
     "output_type": "stream",
     "text": [
      "100%|██████████| 716/716 [01:16<00:00,  9.33it/s]\n"
     ]
    },
    {
     "name": "stdout",
     "output_type": "stream",
     "text": [
      "{'val_loss': 2.713681312595926, 'val_accuracy': 0.40045766590389015, 'precision': 0.3331848871565648, 'recall': 0.40045766590389015, 'f1-score': 0.34901045456379204, 'macro_f1-score': 0.021118800283126363, 'balanced_accuracy': 0.0532066087881383, 'mcc': 0.21510283532526336, 'train_loss': 3.5107864241360285}\n",
      "Epoch 2/20\n"
     ]
    },
    {
     "name": "stderr",
     "output_type": "stream",
     "text": [
      "100%|██████████| 716/716 [01:16<00:00,  9.34it/s]\n"
     ]
    },
    {
     "name": "stdout",
     "output_type": "stream",
     "text": [
      "{'val_loss': 2.623477842749619, 'val_accuracy': 0.4683447749809306, 'precision': 0.3132107567878883, 'recall': 0.4683447749809306, 'f1-score': 0.3641308553691918, 'macro_f1-score': 0.029622881015708338, 'balanced_accuracy': 0.06271841543455249, 'mcc': 0.20899356530341992, 'train_loss': 3.3308899592420906}\n",
      "Epoch 3/20\n"
     ]
    },
    {
     "name": "stderr",
     "output_type": "stream",
     "text": [
      "100%|██████████| 716/716 [01:16<00:00,  9.32it/s]\n"
     ]
    },
    {
     "name": "stdout",
     "output_type": "stream",
     "text": [
      "{'val_loss': 2.8112966258351397, 'val_accuracy': 0.47292143401983217, 'precision': 0.279085250184301, 'recall': 0.47292143401983217, 'f1-score': 0.3409896974326289, 'macro_f1-score': 0.02999866783032205, 'balanced_accuracy': 0.04918542517865917, 'mcc': 0.14136597671358697, 'train_loss': 3.305904043952846}\n",
      "Epoch 4/20\n"
     ]
    },
    {
     "name": "stderr",
     "output_type": "stream",
     "text": [
      "100%|██████████| 716/716 [01:16<00:00,  9.34it/s]\n"
     ]
    },
    {
     "name": "stdout",
     "output_type": "stream",
     "text": [
      "{'val_loss': 2.557888660489059, 'val_accuracy': 0.459954233409611, 'precision': 0.3238487085992339, 'recall': 0.459954233409611, 'f1-score': 0.37644753986611496, 'macro_f1-score': 0.032842300633692804, 'balanced_accuracy': 0.06680550365567389, 'mcc': 0.2333593729125463, 'train_loss': 3.273235776903909}\n",
      "Epoch 5/20\n"
     ]
    },
    {
     "name": "stderr",
     "output_type": "stream",
     "text": [
      "100%|██████████| 716/716 [01:16<00:00,  9.34it/s]\n"
     ]
    },
    {
     "name": "stdout",
     "output_type": "stream",
     "text": [
      "{'val_loss': 2.6575520881792394, 'val_accuracy': 0.459954233409611, 'precision': 0.3105144504918909, 'recall': 0.459954233409611, 'f1-score': 0.35496261504190424, 'macro_f1-score': 0.02546447349342586, 'balanced_accuracy': 0.05334035910818758, 'mcc': 0.20180845878436737, 'train_loss': 3.1712576070977323}\n",
      "Epoch 6/20\n"
     ]
    },
    {
     "name": "stderr",
     "output_type": "stream",
     "text": [
      "100%|██████████| 716/716 [01:16<00:00,  9.35it/s]\n"
     ]
    },
    {
     "name": "stdout",
     "output_type": "stream",
     "text": [
      "{'val_loss': 3.1030778070775473, 'val_accuracy': 0.47139588100686497, 'precision': 0.2222140766302384, 'recall': 0.47139588100686497, 'f1-score': 0.302045261236125, 'macro_f1-score': 0.01334888543286677, 'balanced_accuracy': 0.020833333333333332, 'mcc': 0.0, 'train_loss': 3.3779789778773344}\n",
      "Epoch 7/20\n"
     ]
    },
    {
     "name": "stderr",
     "output_type": "stream",
     "text": [
      "100%|██████████| 716/716 [01:16<00:00,  9.33it/s]\n"
     ]
    },
    {
     "name": "stdout",
     "output_type": "stream",
     "text": [
      "{'val_loss': 3.0199299469226744, 'val_accuracy': 0.47139588100686497, 'precision': 0.2222140766302384, 'recall': 0.47139588100686497, 'f1-score': 0.302045261236125, 'macro_f1-score': 0.01334888543286677, 'balanced_accuracy': 0.020833333333333332, 'mcc': 0.0, 'train_loss': 3.656158008388967}\n",
      "Early stopping.\n",
      "\n",
      "[Fold 5]\n",
      "🚀 Using Word2Vec + EDA (replace + deletion/swap) for data augmentation + under-sampling\n",
      "🔻 Under-sampling label 0: 2472 → 2000\n",
      "🔧 Augmenting label 1: 21 → 200 (+179)\n",
      "🔧 Augmenting label 2: 64 → 200 (+136)\n",
      "🔧 Augmenting label 3: 24 → 200 (+176)\n",
      "🔧 Augmenting label 4: 191 → 200 (+9)\n",
      "🔧 Augmenting label 5: 112 → 200 (+88)\n",
      "🔧 Augmenting label 6: 92 → 200 (+108)\n",
      "🔧 Augmenting label 7: 31 → 200 (+169)\n",
      "🔧 Augmenting label 8: 68 → 200 (+132)\n",
      "🔧 Augmenting label 9: 29 → 200 (+171)\n",
      "🔧 Augmenting label 10: 68 → 200 (+132)\n",
      "🔧 Augmenting label 11: 168 → 200 (+32)\n",
      "🔧 Augmenting label 12: 190 → 200 (+10)\n",
      "🔧 Augmenting label 13: 29 → 200 (+171)\n",
      "🔧 Augmenting label 14: 22 → 200 (+178)\n",
      "🔧 Augmenting label 15: 25 → 200 (+175)\n",
      "🔧 Augmenting label 16: 19 → 200 (+181)\n",
      "🔧 Augmenting label 17: 183 → 200 (+17)\n",
      "🔧 Augmenting label 18: 92 → 200 (+108)\n",
      "🔧 Augmenting label 19: 44 → 200 (+156)\n",
      "🔧 Augmenting label 20: 14 → 200 (+186)\n",
      "🔧 Augmenting label 21: 35 → 200 (+165)\n",
      "🔧 Augmenting label 22: 76 → 200 (+124)\n",
      "🔧 Augmenting label 23: 158 → 200 (+42)\n",
      "🔧 Augmenting label 24: 13 → 200 (+187)\n",
      "🔧 Augmenting label 25: 44 → 200 (+156)\n",
      "🔧 Augmenting label 26: 84 → 200 (+116)\n",
      "🔧 Augmenting label 27: 48 → 200 (+152)\n",
      "🔧 Augmenting label 28: 11 → 200 (+189)\n",
      "🔧 Augmenting label 29: 13 → 200 (+187)\n",
      "🔧 Augmenting label 30: 11 → 200 (+189)\n",
      "🔧 Augmenting label 31: 75 → 200 (+125)\n",
      "🔧 Augmenting label 32: 36 → 200 (+164)\n",
      "🔧 Augmenting label 33: 31 → 200 (+169)\n",
      "🔧 Augmenting label 34: 30 → 200 (+170)\n",
      "🔧 Augmenting label 35: 11 → 200 (+189)\n",
      "🔧 Augmenting label 36: 22 → 200 (+178)\n",
      "🔧 Augmenting label 37: 16 → 200 (+184)\n",
      "🔧 Augmenting label 38: 33 → 200 (+167)\n",
      "🔧 Augmenting label 39: 10 → 200 (+190)\n",
      "🔧 Augmenting label 40: 9 → 200 (+191)\n",
      "🔧 Augmenting label 41: 57 → 200 (+143)\n",
      "🔧 Augmenting label 42: 18 → 200 (+182)\n",
      "🔧 Augmenting label 43: 9 → 200 (+191)\n",
      "🔧 Augmenting label 44: 54 → 200 (+146)\n",
      "🔧 Augmenting label 46: 61 → 200 (+139)\n",
      "🔧 Augmenting label 47: 80 → 200 (+120)\n",
      "Label distribution after resampling:\n",
      "  label 0: 2000\n",
      "  label 1: 200\n",
      "  label 2: 200\n",
      "  label 3: 200\n",
      "  label 4: 200\n",
      "  label 5: 200\n",
      "  label 6: 200\n",
      "  label 7: 200\n",
      "  label 8: 200\n",
      "  label 9: 200\n",
      "  label 10: 200\n",
      "  label 11: 200\n",
      "  label 12: 200\n",
      "  label 13: 200\n",
      "  label 14: 200\n",
      "  label 15: 200\n",
      "  label 16: 200\n",
      "  label 17: 200\n",
      "  label 18: 200\n",
      "  label 19: 200\n",
      "  label 20: 200\n",
      "  label 21: 200\n",
      "  label 22: 200\n",
      "  label 23: 200\n",
      "  label 24: 200\n",
      "  label 25: 200\n",
      "  label 26: 200\n",
      "  label 27: 200\n",
      "  label 28: 200\n",
      "  label 29: 200\n",
      "  label 30: 200\n",
      "  label 31: 200\n",
      "  label 32: 200\n",
      "  label 33: 200\n",
      "  label 34: 200\n",
      "  label 35: 200\n",
      "  label 36: 200\n",
      "  label 37: 200\n",
      "  label 38: 200\n",
      "  label 39: 200\n",
      "  label 40: 200\n",
      "  label 41: 200\n",
      "  label 42: 200\n",
      "  label 43: 200\n",
      "  label 44: 200\n",
      "  label 45: 242\n",
      "  label 46: 200\n",
      "  label 47: 200\n",
      "model is microsoft/deberta-base lstm\n",
      "Epoch 1/20\n"
     ]
    },
    {
     "name": "stderr",
     "output_type": "stream",
     "text": [
      "100%|██████████| 716/716 [01:16<00:00,  9.33it/s]\n"
     ]
    },
    {
     "name": "stdout",
     "output_type": "stream",
     "text": [
      "{'val_loss': 2.760676482828652, 'val_accuracy': 0.463768115942029, 'precision': 0.2576357012491988, 'recall': 0.463768115942029, 'f1-score': 0.3276033770071577, 'macro_f1-score': 0.017791181157308832, 'balanced_accuracy': 0.034876418152350076, 'mcc': 0.13199710297382744, 'train_loss': 3.483160206059504}\n",
      "Epoch 2/20\n"
     ]
    },
    {
     "name": "stderr",
     "output_type": "stream",
     "text": [
      "100%|██████████| 716/716 [01:16<00:00,  9.33it/s]\n"
     ]
    },
    {
     "name": "stdout",
     "output_type": "stream",
     "text": [
      "{'val_loss': 2.819977565509517, 'val_accuracy': 0.39893211289092295, 'precision': 0.30787550370748407, 'recall': 0.39893211289092295, 'f1-score': 0.3390888342431733, 'macro_f1-score': 0.01886001670954121, 'balanced_accuracy': 0.0327052944354403, 'mcc': 0.18016250323791852, 'train_loss': 3.4932880571434617}\n",
      "Epoch 3/20\n"
     ]
    },
    {
     "name": "stderr",
     "output_type": "stream",
     "text": [
      "100%|██████████| 716/716 [01:16<00:00,  9.34it/s]\n"
     ]
    },
    {
     "name": "stdout",
     "output_type": "stream",
     "text": [
      "{'val_loss': 2.8871196566558464, 'val_accuracy': 0.47063310450038137, 'precision': 0.2214955190516669, 'recall': 0.47063310450038137, 'f1-score': 0.3012247152248292, 'macro_f1-score': 0.013334197786998616, 'balanced_accuracy': 0.020833333333333332, 'mcc': 0.0, 'train_loss': 3.5238994213455883}\n",
      "Epoch 4/20\n"
     ]
    },
    {
     "name": "stderr",
     "output_type": "stream",
     "text": [
      "100%|██████████| 716/716 [01:16<00:00,  9.35it/s]\n"
     ]
    },
    {
     "name": "stdout",
     "output_type": "stream",
     "text": [
      "{'val_loss': 2.990500793224428, 'val_accuracy': 0.47063310450038137, 'precision': 0.2214955190516669, 'recall': 0.47063310450038137, 'f1-score': 0.3012247152248292, 'macro_f1-score': 0.013334197786998616, 'balanced_accuracy': 0.020833333333333332, 'mcc': 0.0, 'train_loss': 3.485786048060689}\n",
      "Epoch 5/20\n"
     ]
    },
    {
     "name": "stderr",
     "output_type": "stream",
     "text": [
      "100%|██████████| 716/716 [01:16<00:00,  9.32it/s]\n"
     ]
    },
    {
     "name": "stdout",
     "output_type": "stream",
     "text": [
      "{'val_loss': 2.768024220699217, 'val_accuracy': 0.4683447749809306, 'precision': 0.2273610269740063, 'recall': 0.4683447749809306, 'f1-score': 0.3061017947855528, 'macro_f1-score': 0.018325337040026306, 'balanced_accuracy': 0.027440122456329912, 'mcc': 0.05240033176291091, 'train_loss': 3.5707573614306956}\n",
      "Early stopping.\n",
      "\n",
      " === microsoft/deberta-base + lstm + word2vec_eda Final 5-fold Cross-Validation Results ===\n",
      "val_loss: 2.7874\n",
      "val_accuracy: 0.4539\n",
      "precision: 0.2867\n",
      "recall: 0.4539\n",
      "f1-score: 0.3414\n",
      "macro_f1-score: 0.0262\n",
      "balanced_accuracy: 0.0475\n",
      "mcc: 0.1364\n",
      "train_loss: 3.4645\n",
      "total_seconds: 2113.0000\n",
      "total_time: 0 hrs 35 mins 13 secs\n",
      "▶ Running: microsoft/deberta-base + bilstm + word2vec_eda\n",
      "tokenizer is microsoft/deberta-base\n",
      "Using device: cuda\n",
      "CUDA Available: True\n",
      "CUDA Device: NVIDIA GeForce RTX 5070 Ti\n",
      "Current GPU Memory Allocated: 0.02 GB\n",
      "Current GPU Memory Cached: 5.45 GB\n",
      "\n",
      "[Fold 1]\n",
      "🚀 Using Word2Vec + EDA (replace + deletion/swap) for data augmentation + under-sampling\n",
      "🔻 Under-sampling label 0: 2471 → 2000\n",
      "🔧 Augmenting label 1: 21 → 200 (+179)\n",
      "🔧 Augmenting label 2: 64 → 200 (+136)\n",
      "🔧 Augmenting label 3: 24 → 200 (+176)\n",
      "🔧 Augmenting label 4: 191 → 200 (+9)\n",
      "🔧 Augmenting label 5: 113 → 200 (+87)\n",
      "🔧 Augmenting label 6: 93 → 200 (+107)\n",
      "🔧 Augmenting label 7: 30 → 200 (+170)\n",
      "🔧 Augmenting label 8: 68 → 200 (+132)\n",
      "🔧 Augmenting label 9: 30 → 200 (+170)\n",
      "🔧 Augmenting label 10: 67 → 200 (+133)\n",
      "🔧 Augmenting label 11: 169 → 200 (+31)\n",
      "🔧 Augmenting label 12: 189 → 200 (+11)\n",
      "🔧 Augmenting label 13: 29 → 200 (+171)\n",
      "🔧 Augmenting label 14: 22 → 200 (+178)\n",
      "🔧 Augmenting label 15: 25 → 200 (+175)\n",
      "🔧 Augmenting label 16: 19 → 200 (+181)\n",
      "🔧 Augmenting label 17: 183 → 200 (+17)\n",
      "🔧 Augmenting label 18: 92 → 200 (+108)\n",
      "🔧 Augmenting label 19: 44 → 200 (+156)\n",
      "🔧 Augmenting label 20: 13 → 200 (+187)\n",
      "🔧 Augmenting label 21: 35 → 200 (+165)\n",
      "🔧 Augmenting label 22: 76 → 200 (+124)\n",
      "🔧 Augmenting label 23: 158 → 200 (+42)\n",
      "🔧 Augmenting label 24: 13 → 200 (+187)\n",
      "🔧 Augmenting label 25: 44 → 200 (+156)\n",
      "🔧 Augmenting label 26: 84 → 200 (+116)\n",
      "🔧 Augmenting label 27: 48 → 200 (+152)\n",
      "🔧 Augmenting label 28: 11 → 200 (+189)\n",
      "🔧 Augmenting label 29: 13 → 200 (+187)\n",
      "🔧 Augmenting label 30: 11 → 200 (+189)\n",
      "🔧 Augmenting label 31: 75 → 200 (+125)\n",
      "🔧 Augmenting label 32: 36 → 200 (+164)\n",
      "🔧 Augmenting label 33: 32 → 200 (+168)\n",
      "🔧 Augmenting label 34: 29 → 200 (+171)\n",
      "🔧 Augmenting label 35: 11 → 200 (+189)\n",
      "🔧 Augmenting label 36: 22 → 200 (+178)\n",
      "🔧 Augmenting label 37: 16 → 200 (+184)\n",
      "🔧 Augmenting label 38: 33 → 200 (+167)\n",
      "🔧 Augmenting label 39: 10 → 200 (+190)\n",
      "🔧 Augmenting label 40: 9 → 200 (+191)\n",
      "🔧 Augmenting label 41: 57 → 200 (+143)\n",
      "🔧 Augmenting label 42: 19 → 200 (+181)\n",
      "🔧 Augmenting label 43: 8 → 200 (+192)\n",
      "🔧 Augmenting label 44: 54 → 200 (+146)\n",
      "🔧 Augmenting label 46: 61 → 200 (+139)\n",
      "🔧 Augmenting label 47: 80 → 200 (+120)\n",
      "Label distribution after resampling:\n",
      "  label 0: 2000\n",
      "  label 1: 200\n",
      "  label 2: 200\n",
      "  label 3: 200\n",
      "  label 4: 200\n",
      "  label 5: 200\n",
      "  label 6: 200\n",
      "  label 7: 200\n",
      "  label 8: 200\n",
      "  label 9: 200\n",
      "  label 10: 200\n",
      "  label 11: 200\n",
      "  label 12: 200\n",
      "  label 13: 200\n",
      "  label 14: 200\n",
      "  label 15: 200\n",
      "  label 16: 200\n",
      "  label 17: 200\n",
      "  label 18: 200\n",
      "  label 19: 200\n",
      "  label 20: 200\n",
      "  label 21: 200\n",
      "  label 22: 200\n",
      "  label 23: 200\n",
      "  label 24: 200\n",
      "  label 25: 200\n",
      "  label 26: 200\n",
      "  label 27: 200\n",
      "  label 28: 200\n",
      "  label 29: 200\n",
      "  label 30: 200\n",
      "  label 31: 200\n",
      "  label 32: 200\n",
      "  label 33: 200\n",
      "  label 34: 200\n",
      "  label 35: 200\n",
      "  label 36: 200\n",
      "  label 37: 200\n",
      "  label 38: 200\n",
      "  label 39: 200\n",
      "  label 40: 200\n",
      "  label 41: 200\n",
      "  label 42: 200\n",
      "  label 43: 200\n",
      "  label 44: 200\n",
      "  label 45: 242\n",
      "  label 46: 200\n",
      "  label 47: 200\n",
      "model is microsoft/deberta-base bilstm\n",
      "Epoch 1/20\n"
     ]
    },
    {
     "name": "stderr",
     "output_type": "stream",
     "text": [
      "100%|██████████| 716/716 [01:19<00:00,  9.00it/s]\n"
     ]
    },
    {
     "name": "stdout",
     "output_type": "stream",
     "text": [
      "{'val_loss': 2.4484766300131633, 'val_accuracy': 0.47027439024390244, 'precision': 0.3257917057010806, 'recall': 0.47027439024390244, 'f1-score': 0.3653289785605112, 'macro_f1-score': 0.038427142619507824, 'balanced_accuracy': 0.05185419839456818, 'mcc': 0.1869287158859773, 'train_loss': 3.3971766836150397}\n",
      "Epoch 2/20\n"
     ]
    },
    {
     "name": "stderr",
     "output_type": "stream",
     "text": [
      "100%|██████████| 716/716 [01:19<00:00,  9.05it/s]\n"
     ]
    },
    {
     "name": "stdout",
     "output_type": "stream",
     "text": [
      "{'val_loss': 2.432653190159216, 'val_accuracy': 0.4260670731707317, 'precision': 0.35006550302662615, 'recall': 0.4260670731707317, 'f1-score': 0.3776173426124382, 'macro_f1-score': 0.04283816886179212, 'balanced_accuracy': 0.08598784443658801, 'mcc': 0.21008385502585386, 'train_loss': 2.933427554269077}\n",
      "Epoch 3/20\n"
     ]
    },
    {
     "name": "stderr",
     "output_type": "stream",
     "text": [
      "100%|██████████| 716/716 [01:19<00:00,  9.02it/s]\n"
     ]
    },
    {
     "name": "stdout",
     "output_type": "stream",
     "text": [
      "{'val_loss': 2.3198177305663505, 'val_accuracy': 0.3932926829268293, 'precision': 0.40435064103825763, 'recall': 0.3932926829268293, 'f1-score': 0.3786135842404356, 'macro_f1-score': 0.05104080946005618, 'balanced_accuracy': 0.11490989339256324, 'mcc': 0.20953586891846085, 'train_loss': 2.6355523124087457}\n",
      "Epoch 4/20\n"
     ]
    },
    {
     "name": "stderr",
     "output_type": "stream",
     "text": [
      "100%|██████████| 716/716 [01:19<00:00,  9.02it/s]\n"
     ]
    },
    {
     "name": "stdout",
     "output_type": "stream",
     "text": [
      "{'val_loss': 2.2046879181047765, 'val_accuracy': 0.4192073170731707, 'precision': 0.4444236624254, 'recall': 0.4192073170731707, 'f1-score': 0.4007483202050356, 'macro_f1-score': 0.08190661713201909, 'balanced_accuracy': 0.15136998770647878, 'mcc': 0.2291892144977823, 'train_loss': 2.4127141332160162}\n",
      "Epoch 5/20\n"
     ]
    },
    {
     "name": "stderr",
     "output_type": "stream",
     "text": [
      "100%|██████████| 716/716 [01:19<00:00,  9.04it/s]\n"
     ]
    },
    {
     "name": "stdout",
     "output_type": "stream",
     "text": [
      "{'val_loss': 2.2759401449343053, 'val_accuracy': 0.4054878048780488, 'precision': 0.40782790232956795, 'recall': 0.4054878048780488, 'f1-score': 0.3821225122938792, 'macro_f1-score': 0.06655621164990384, 'balanced_accuracy': 0.13031794001696564, 'mcc': 0.21911705553735006, 'train_loss': 2.243855774902099}\n",
      "Epoch 6/20\n"
     ]
    },
    {
     "name": "stderr",
     "output_type": "stream",
     "text": [
      "100%|██████████| 716/716 [01:19<00:00,  9.02it/s]\n"
     ]
    },
    {
     "name": "stdout",
     "output_type": "stream",
     "text": [
      "{'val_loss': 2.0280827429236434, 'val_accuracy': 0.47103658536585363, 'precision': 0.44880562096129367, 'recall': 0.47103658536585363, 'f1-score': 0.4414773481594773, 'macro_f1-score': 0.1303226118155492, 'balanced_accuracy': 0.17802813703265843, 'mcc': 0.2882467955660735, 'train_loss': 2.0519402205278086}\n",
      "Epoch 7/20\n"
     ]
    },
    {
     "name": "stderr",
     "output_type": "stream",
     "text": [
      "100%|██████████| 716/716 [01:19<00:00,  9.04it/s]\n"
     ]
    },
    {
     "name": "stdout",
     "output_type": "stream",
     "text": [
      "{'val_loss': 2.2920527429115483, 'val_accuracy': 0.4032012195121951, 'precision': 0.4798285053230823, 'recall': 0.4032012195121951, 'f1-score': 0.4270708369641665, 'macro_f1-score': 0.12470094937076492, 'balanced_accuracy': 0.16016430151862146, 'mcc': 0.2603581528526669, 'train_loss': 1.8858364187805345}\n",
      "Epoch 8/20\n"
     ]
    },
    {
     "name": "stderr",
     "output_type": "stream",
     "text": [
      "100%|██████████| 716/716 [01:19<00:00,  9.06it/s]\n"
     ]
    },
    {
     "name": "stdout",
     "output_type": "stream",
     "text": [
      "{'val_loss': 2.0810263527602686, 'val_accuracy': 0.45426829268292684, 'precision': 0.5137592348302022, 'recall': 0.45426829268292684, 'f1-score': 0.45879638382861243, 'macro_f1-score': 0.17087448082518805, 'balanced_accuracy': 0.2207080926820131, 'mcc': 0.29802458549467914, 'train_loss': 1.6734259320870457}\n",
      "Epoch 9/20\n"
     ]
    },
    {
     "name": "stderr",
     "output_type": "stream",
     "text": [
      "100%|██████████| 716/716 [01:19<00:00,  9.05it/s]\n"
     ]
    },
    {
     "name": "stdout",
     "output_type": "stream",
     "text": [
      "{'val_loss': 2.0024528089093, 'val_accuracy': 0.49009146341463417, 'precision': 0.4924306587019861, 'recall': 0.49009146341463417, 'f1-score': 0.4753843899749783, 'macro_f1-score': 0.17020963947443035, 'balanced_accuracy': 0.2027343914793132, 'mcc': 0.32133897487781515, 'train_loss': 1.5385155045952876}\n",
      "Epoch 10/20\n"
     ]
    },
    {
     "name": "stderr",
     "output_type": "stream",
     "text": [
      "100%|██████████| 716/716 [01:19<00:00,  9.04it/s]\n"
     ]
    },
    {
     "name": "stdout",
     "output_type": "stream",
     "text": [
      "{'val_loss': 2.0764242141712, 'val_accuracy': 0.47560975609756095, 'precision': 0.5702730316805672, 'recall': 0.47560975609756095, 'f1-score': 0.4882152602763522, 'macro_f1-score': 0.19756247807913732, 'balanced_accuracy': 0.2324764625399179, 'mcc': 0.3377742010582028, 'train_loss': 1.3929955342461944}\n",
      "Epoch 11/20\n"
     ]
    },
    {
     "name": "stderr",
     "output_type": "stream",
     "text": [
      "100%|██████████| 716/716 [01:19<00:00,  9.06it/s]\n"
     ]
    },
    {
     "name": "stdout",
     "output_type": "stream",
     "text": [
      "{'val_loss': 2.047737232795576, 'val_accuracy': 0.4809451219512195, 'precision': 0.5311307218399945, 'recall': 0.4809451219512195, 'f1-score': 0.4803512987417337, 'macro_f1-score': 0.2103383282365131, 'balanced_accuracy': 0.22401311591718842, 'mcc': 0.3161091651924816, 'train_loss': 1.272866245837851}\n",
      "Epoch 12/20\n"
     ]
    },
    {
     "name": "stderr",
     "output_type": "stream",
     "text": [
      "100%|██████████| 716/716 [01:18<00:00,  9.07it/s]\n"
     ]
    },
    {
     "name": "stdout",
     "output_type": "stream",
     "text": [
      "{'val_loss': 2.2052125523730024, 'val_accuracy': 0.4481707317073171, 'precision': 0.5362879192339695, 'recall': 0.4481707317073171, 'f1-score': 0.4635327273328987, 'macro_f1-score': 0.19232217821668518, 'balanced_accuracy': 0.2580140835277902, 'mcc': 0.3105119509317375, 'train_loss': 1.1062569584302062}\n",
      "Epoch 13/20\n"
     ]
    },
    {
     "name": "stderr",
     "output_type": "stream",
     "text": [
      "100%|██████████| 716/716 [01:19<00:00,  9.02it/s]\n"
     ]
    },
    {
     "name": "stdout",
     "output_type": "stream",
     "text": [
      "{'val_loss': 2.06615706951153, 'val_accuracy': 0.5099085365853658, 'precision': 0.5637362277550748, 'recall': 0.5099085365853658, 'f1-score': 0.5171221593522166, 'macro_f1-score': 0.23207350647471636, 'balanced_accuracy': 0.28231914937893166, 'mcc': 0.37605975828595484, 'train_loss': 1.014297661043745}\n",
      "Epoch 14/20\n"
     ]
    },
    {
     "name": "stderr",
     "output_type": "stream",
     "text": [
      "100%|██████████| 716/716 [01:19<00:00,  9.04it/s]\n"
     ]
    },
    {
     "name": "stdout",
     "output_type": "stream",
     "text": [
      "{'val_loss': 2.0628951824292905, 'val_accuracy': 0.49314024390243905, 'precision': 0.5720595419647098, 'recall': 0.49314024390243905, 'f1-score': 0.5142228455872973, 'macro_f1-score': 0.243632306859583, 'balanced_accuracy': 0.2931237961682551, 'mcc': 0.3725863876223977, 'train_loss': 0.9823684664495165}\n",
      "Epoch 15/20\n"
     ]
    },
    {
     "name": "stderr",
     "output_type": "stream",
     "text": [
      "100%|██████████| 716/716 [01:19<00:00,  9.05it/s]\n"
     ]
    },
    {
     "name": "stdout",
     "output_type": "stream",
     "text": [
      "{'val_loss': 2.2173773915302464, 'val_accuracy': 0.4885670731707317, 'precision': 0.5690821701521803, 'recall': 0.4885670731707317, 'f1-score': 0.5095303316979525, 'macro_f1-score': 0.23817822914720868, 'balanced_accuracy': 0.3067514742156581, 'mcc': 0.3717269087569215, 'train_loss': 0.8437680048483044}\n",
      "Epoch 16/20\n"
     ]
    },
    {
     "name": "stderr",
     "output_type": "stream",
     "text": [
      "100%|██████████| 716/716 [01:19<00:00,  9.03it/s]\n"
     ]
    },
    {
     "name": "stdout",
     "output_type": "stream",
     "text": [
      "{'val_loss': 2.141153582349056, 'val_accuracy': 0.5053353658536586, 'precision': 0.5635837258643704, 'recall': 0.5053353658536586, 'f1-score': 0.5156213070178467, 'macro_f1-score': 0.25543665791800807, 'balanced_accuracy': 0.29340403796991515, 'mcc': 0.3711758980488238, 'train_loss': 0.7199173785756503}\n",
      "Epoch 17/20\n"
     ]
    },
    {
     "name": "stderr",
     "output_type": "stream",
     "text": [
      "100%|██████████| 716/716 [01:19<00:00,  9.03it/s]\n"
     ]
    },
    {
     "name": "stdout",
     "output_type": "stream",
     "text": [
      "{'val_loss': 2.184065387743275, 'val_accuracy': 0.5030487804878049, 'precision': 0.5461141580003773, 'recall': 0.5030487804878049, 'f1-score': 0.513891848868957, 'macro_f1-score': 0.2515883047357451, 'balanced_accuracy': 0.2711049841494665, 'mcc': 0.36617760770529123, 'train_loss': 0.7164761883794596}\n",
      "Epoch 18/20\n"
     ]
    },
    {
     "name": "stderr",
     "output_type": "stream",
     "text": [
      "100%|██████████| 716/716 [01:19<00:00,  9.05it/s]\n"
     ]
    },
    {
     "name": "stdout",
     "output_type": "stream",
     "text": [
      "{'val_loss': 2.2250758231413075, 'val_accuracy': 0.5297256097560976, 'precision': 0.5506780370335321, 'recall': 0.5297256097560976, 'f1-score': 0.5290711264477831, 'macro_f1-score': 0.2990495971267659, 'balanced_accuracy': 0.3226711876479243, 'mcc': 0.3832921899679367, 'train_loss': 0.6337425321985722}\n",
      "Epoch 19/20\n"
     ]
    },
    {
     "name": "stderr",
     "output_type": "stream",
     "text": [
      "100%|██████████| 716/716 [01:19<00:00,  9.03it/s]\n"
     ]
    },
    {
     "name": "stdout",
     "output_type": "stream",
     "text": [
      "{'val_loss': 2.2865016678484475, 'val_accuracy': 0.5213414634146342, 'precision': 0.5535499414077913, 'recall': 0.5213414634146342, 'f1-score': 0.5199558948537611, 'macro_f1-score': 0.27518055361019855, 'balanced_accuracy': 0.31140083921894257, 'mcc': 0.37750267779144825, 'train_loss': 0.6227790439220448}\n",
      "Epoch 20/20\n"
     ]
    },
    {
     "name": "stderr",
     "output_type": "stream",
     "text": [
      "100%|██████████| 716/716 [01:19<00:00,  9.03it/s]\n"
     ]
    },
    {
     "name": "stdout",
     "output_type": "stream",
     "text": [
      "{'val_loss': 2.2262846133330974, 'val_accuracy': 0.5160060975609756, 'precision': 0.5597455432428214, 'recall': 0.5160060975609756, 'f1-score': 0.5260768389554967, 'macro_f1-score': 0.28785465268403715, 'balanced_accuracy': 0.325730078552015, 'mcc': 0.38142250693712015, 'train_loss': 0.5629304865083797}\n",
      "\n",
      "[Fold 2]\n",
      "🚀 Using Word2Vec + EDA (replace + deletion/swap) for data augmentation + under-sampling\n",
      "🔻 Under-sampling label 0: 2471 → 2000\n",
      "🔧 Augmenting label 1: 22 → 200 (+178)\n",
      "🔧 Augmenting label 2: 64 → 200 (+136)\n",
      "🔧 Augmenting label 3: 24 → 200 (+176)\n",
      "🔧 Augmenting label 4: 190 → 200 (+10)\n",
      "🔧 Augmenting label 5: 113 → 200 (+87)\n",
      "🔧 Augmenting label 6: 93 → 200 (+107)\n",
      "🔧 Augmenting label 7: 30 → 200 (+170)\n",
      "🔧 Augmenting label 8: 68 → 200 (+132)\n",
      "🔧 Augmenting label 9: 30 → 200 (+170)\n",
      "🔧 Augmenting label 10: 67 → 200 (+133)\n",
      "🔧 Augmenting label 11: 169 → 200 (+31)\n",
      "🔧 Augmenting label 12: 189 → 200 (+11)\n",
      "🔧 Augmenting label 13: 29 → 200 (+171)\n",
      "🔧 Augmenting label 14: 23 → 200 (+177)\n",
      "🔧 Augmenting label 15: 24 → 200 (+176)\n",
      "🔧 Augmenting label 16: 20 → 200 (+180)\n",
      "🔧 Augmenting label 17: 182 → 200 (+18)\n",
      "🔧 Augmenting label 18: 92 → 200 (+108)\n",
      "🔧 Augmenting label 19: 44 → 200 (+156)\n",
      "🔧 Augmenting label 20: 13 → 200 (+187)\n",
      "🔧 Augmenting label 21: 36 → 200 (+164)\n",
      "🔧 Augmenting label 22: 76 → 200 (+124)\n",
      "🔧 Augmenting label 23: 157 → 200 (+43)\n",
      "🔧 Augmenting label 24: 12 → 200 (+188)\n",
      "🔧 Augmenting label 25: 44 → 200 (+156)\n",
      "🔧 Augmenting label 26: 84 → 200 (+116)\n",
      "🔧 Augmenting label 27: 48 → 200 (+152)\n",
      "🔧 Augmenting label 28: 12 → 200 (+188)\n",
      "🔧 Augmenting label 29: 12 → 200 (+188)\n",
      "🔧 Augmenting label 30: 12 → 200 (+188)\n",
      "🔧 Augmenting label 31: 75 → 200 (+125)\n",
      "🔧 Augmenting label 32: 36 → 200 (+164)\n",
      "🔧 Augmenting label 33: 31 → 200 (+169)\n",
      "🔧 Augmenting label 34: 29 → 200 (+171)\n",
      "🔧 Augmenting label 35: 12 → 200 (+188)\n",
      "🔧 Augmenting label 36: 21 → 200 (+179)\n",
      "🔧 Augmenting label 37: 16 → 200 (+184)\n",
      "🔧 Augmenting label 38: 33 → 200 (+167)\n",
      "🔧 Augmenting label 39: 11 → 200 (+189)\n",
      "🔧 Augmenting label 40: 8 → 200 (+192)\n",
      "🔧 Augmenting label 41: 57 → 200 (+143)\n",
      "🔧 Augmenting label 42: 19 → 200 (+181)\n",
      "🔧 Augmenting label 43: 9 → 200 (+191)\n",
      "🔧 Augmenting label 44: 54 → 200 (+146)\n",
      "🔧 Augmenting label 46: 62 → 200 (+138)\n",
      "🔧 Augmenting label 47: 80 → 200 (+120)\n",
      "Label distribution after resampling:\n",
      "  label 0: 2000\n",
      "  label 1: 200\n",
      "  label 2: 200\n",
      "  label 3: 200\n",
      "  label 4: 200\n",
      "  label 5: 200\n",
      "  label 6: 200\n",
      "  label 7: 200\n",
      "  label 8: 200\n",
      "  label 9: 200\n",
      "  label 10: 200\n",
      "  label 11: 200\n",
      "  label 12: 200\n",
      "  label 13: 200\n",
      "  label 14: 200\n",
      "  label 15: 200\n",
      "  label 16: 200\n",
      "  label 17: 200\n",
      "  label 18: 200\n",
      "  label 19: 200\n",
      "  label 20: 200\n",
      "  label 21: 200\n",
      "  label 22: 200\n",
      "  label 23: 200\n",
      "  label 24: 200\n",
      "  label 25: 200\n",
      "  label 26: 200\n",
      "  label 27: 200\n",
      "  label 28: 200\n",
      "  label 29: 200\n",
      "  label 30: 200\n",
      "  label 31: 200\n",
      "  label 32: 200\n",
      "  label 33: 200\n",
      "  label 34: 200\n",
      "  label 35: 200\n",
      "  label 36: 200\n",
      "  label 37: 200\n",
      "  label 38: 200\n",
      "  label 39: 200\n",
      "  label 40: 200\n",
      "  label 41: 200\n",
      "  label 42: 200\n",
      "  label 43: 200\n",
      "  label 44: 200\n",
      "  label 45: 242\n",
      "  label 46: 200\n",
      "  label 47: 200\n",
      "model is microsoft/deberta-base bilstm\n",
      "Epoch 1/20\n"
     ]
    },
    {
     "name": "stderr",
     "output_type": "stream",
     "text": [
      "100%|██████████| 716/716 [01:19<00:00,  9.05it/s]\n"
     ]
    },
    {
     "name": "stdout",
     "output_type": "stream",
     "text": [
      "{'val_loss': 2.497388566412577, 'val_accuracy': 0.4774980930587338, 'precision': 0.32654816404465453, 'recall': 0.4774980930587338, 'f1-score': 0.36722159314635794, 'macro_f1-score': 0.033411336534074514, 'balanced_accuracy': 0.05107750281412692, 'mcc': 0.19732379376481746, 'train_loss': 3.4411753902222193}\n",
      "Epoch 2/20\n"
     ]
    },
    {
     "name": "stderr",
     "output_type": "stream",
     "text": [
      "100%|██████████| 716/716 [01:19<00:00,  9.04it/s]\n"
     ]
    },
    {
     "name": "stdout",
     "output_type": "stream",
     "text": [
      "{'val_loss': 2.340628942338432, 'val_accuracy': 0.494279176201373, 'precision': 0.3717798382589612, 'recall': 0.494279176201373, 'f1-score': 0.4192158400976796, 'macro_f1-score': 0.06028587210485456, 'balanced_accuracy': 0.08022749724450073, 'mcc': 0.27632133367804235, 'train_loss': 3.0514005252768874}\n",
      "Epoch 3/20\n"
     ]
    },
    {
     "name": "stderr",
     "output_type": "stream",
     "text": [
      "100%|██████████| 716/716 [01:19<00:00,  9.02it/s]\n"
     ]
    },
    {
     "name": "stdout",
     "output_type": "stream",
     "text": [
      "{'val_loss': 2.2351901516681765, 'val_accuracy': 0.479023646071701, 'precision': 0.38434790076439684, 'recall': 0.479023646071701, 'f1-score': 0.41689683385580084, 'macro_f1-score': 0.070417108612788, 'balanced_accuracy': 0.10066863131753846, 'mcc': 0.26269643355389954, 'train_loss': 2.7421883944026586}\n",
      "Epoch 4/20\n"
     ]
    },
    {
     "name": "stderr",
     "output_type": "stream",
     "text": [
      "100%|██████████| 716/716 [01:19<00:00,  9.02it/s]\n"
     ]
    },
    {
     "name": "stdout",
     "output_type": "stream",
     "text": [
      "{'val_loss': 2.137723001038156, 'val_accuracy': 0.45385202135774216, 'precision': 0.4409890341516091, 'recall': 0.45385202135774216, 'f1-score': 0.438478653132571, 'macro_f1-score': 0.11518513095500497, 'balanced_accuracy': 0.151588875462331, 'mcc': 0.2785489248250205, 'train_loss': 2.423139380509627}\n",
      "Epoch 5/20\n"
     ]
    },
    {
     "name": "stderr",
     "output_type": "stream",
     "text": [
      "100%|██████████| 716/716 [01:18<00:00,  9.07it/s]\n"
     ]
    },
    {
     "name": "stdout",
     "output_type": "stream",
     "text": [
      "{'val_loss': 2.0015110300808416, 'val_accuracy': 0.463768115942029, 'precision': 0.4991450922284257, 'recall': 0.463768115942029, 'f1-score': 0.47035720270047876, 'macro_f1-score': 0.1702292181867959, 'balanced_accuracy': 0.23384995725409227, 'mcc': 0.3255364731918254, 'train_loss': 2.07294025967241}\n",
      "Epoch 6/20\n"
     ]
    },
    {
     "name": "stderr",
     "output_type": "stream",
     "text": [
      "100%|██████████| 716/716 [01:19<00:00,  9.04it/s]\n"
     ]
    },
    {
     "name": "stdout",
     "output_type": "stream",
     "text": [
      "{'val_loss': 2.1623284802204226, 'val_accuracy': 0.40274599542334094, 'precision': 0.49643528967028067, 'recall': 0.40274599542334094, 'f1-score': 0.4224566054366626, 'macro_f1-score': 0.16928187279053808, 'balanced_accuracy': 0.21627974383246237, 'mcc': 0.27823819721057863, 'train_loss': 1.7067066202949546}\n",
      "Epoch 7/20\n"
     ]
    },
    {
     "name": "stderr",
     "output_type": "stream",
     "text": [
      "100%|██████████| 716/716 [01:19<00:00,  9.06it/s]\n"
     ]
    },
    {
     "name": "stdout",
     "output_type": "stream",
     "text": [
      "{'val_loss': 1.9044140591854002, 'val_accuracy': 0.513348588863463, 'precision': 0.5435031906468168, 'recall': 0.513348588863463, 'f1-score': 0.5106774969439636, 'macro_f1-score': 0.2199791794928708, 'balanced_accuracy': 0.2586162694284845, 'mcc': 0.36838842096767693, 'train_loss': 1.4104173618821458}\n",
      "Epoch 8/20\n"
     ]
    },
    {
     "name": "stderr",
     "output_type": "stream",
     "text": [
      "100%|██████████| 716/716 [01:19<00:00,  9.05it/s]\n"
     ]
    },
    {
     "name": "stdout",
     "output_type": "stream",
     "text": [
      "{'val_loss': 1.9628042833107273, 'val_accuracy': 0.5072463768115942, 'precision': 0.5477155142964035, 'recall': 0.5072463768115942, 'f1-score': 0.5117229933035223, 'macro_f1-score': 0.2257551311696796, 'balanced_accuracy': 0.2764162451682392, 'mcc': 0.3705717009187531, 'train_loss': 1.1610915873137266}\n",
      "Epoch 9/20\n"
     ]
    },
    {
     "name": "stderr",
     "output_type": "stream",
     "text": [
      "100%|██████████| 716/716 [01:19<00:00,  8.97it/s]\n"
     ]
    },
    {
     "name": "stdout",
     "output_type": "stream",
     "text": [
      "{'val_loss': 1.9729463850579612, 'val_accuracy': 0.5316552250190694, 'precision': 0.5671201578285653, 'recall': 0.5316552250190694, 'f1-score': 0.540057004621056, 'macro_f1-score': 0.2629474872877284, 'balanced_accuracy': 0.29966160368614175, 'mcc': 0.39523042588341506, 'train_loss': 0.956213259455545}\n",
      "Epoch 10/20\n"
     ]
    },
    {
     "name": "stderr",
     "output_type": "stream",
     "text": [
      "100%|██████████| 716/716 [01:19<00:00,  9.01it/s]\n"
     ]
    },
    {
     "name": "stdout",
     "output_type": "stream",
     "text": [
      "{'val_loss': 2.0962285224984334, 'val_accuracy': 0.5064836003051106, 'precision': 0.5712391188456962, 'recall': 0.5064836003051106, 'f1-score': 0.5240705708017774, 'macro_f1-score': 0.2652859017267854, 'balanced_accuracy': 0.31021079046380173, 'mcc': 0.3788587528194093, 'train_loss': 0.8077375388095499}\n",
      "Epoch 11/20\n"
     ]
    },
    {
     "name": "stderr",
     "output_type": "stream",
     "text": [
      "100%|██████████| 716/716 [01:19<00:00,  9.06it/s]\n"
     ]
    },
    {
     "name": "stdout",
     "output_type": "stream",
     "text": [
      "{'val_loss': 2.1220730717589213, 'val_accuracy': 0.5072463768115942, 'precision': 0.5850310590277669, 'recall': 0.5072463768115942, 'f1-score': 0.5305821800606632, 'macro_f1-score': 0.27235930658526813, 'balanced_accuracy': 0.32100066296565916, 'mcc': 0.3888208432825328, 'train_loss': 0.7296647222806288}\n",
      "Epoch 12/20\n"
     ]
    },
    {
     "name": "stderr",
     "output_type": "stream",
     "text": [
      "100%|██████████| 716/716 [01:19<00:00,  9.02it/s]\n"
     ]
    },
    {
     "name": "stdout",
     "output_type": "stream",
     "text": [
      "{'val_loss': 2.0853696890720506, 'val_accuracy': 0.5377574370709383, 'precision': 0.5808302050914906, 'recall': 0.5377574370709383, 'f1-score': 0.5516706257129814, 'macro_f1-score': 0.28898802704575677, 'balanced_accuracy': 0.3144435648231289, 'mcc': 0.4148268584712223, 'train_loss': 0.5829459151055393}\n",
      "Epoch 13/20\n"
     ]
    },
    {
     "name": "stderr",
     "output_type": "stream",
     "text": [
      "100%|██████████| 716/716 [01:19<00:00,  9.03it/s]\n"
     ]
    },
    {
     "name": "stdout",
     "output_type": "stream",
     "text": [
      "{'val_loss': 2.1475510248323766, 'val_accuracy': 0.555301296720061, 'precision': 0.5866262850695684, 'recall': 0.555301296720061, 'f1-score': 0.5661826833268937, 'macro_f1-score': 0.3100718144453422, 'balanced_accuracy': 0.3202636694002663, 'mcc': 0.4334254734076928, 'train_loss': 0.4503875889362736}\n",
      "Epoch 14/20\n"
     ]
    },
    {
     "name": "stderr",
     "output_type": "stream",
     "text": [
      "100%|██████████| 716/716 [01:19<00:00,  9.06it/s]\n"
     ]
    },
    {
     "name": "stdout",
     "output_type": "stream",
     "text": [
      "{'val_loss': 2.268919473014227, 'val_accuracy': 0.5072463768115942, 'precision': 0.5805620503705365, 'recall': 0.5072463768115942, 'f1-score': 0.5300672299136453, 'macro_f1-score': 0.29545439741510576, 'balanced_accuracy': 0.32959482040934, 'mcc': 0.3904766892518031, 'train_loss': 0.4171764880117008}\n",
      "Epoch 15/20\n"
     ]
    },
    {
     "name": "stderr",
     "output_type": "stream",
     "text": [
      "100%|██████████| 716/716 [01:19<00:00,  9.02it/s]\n"
     ]
    },
    {
     "name": "stdout",
     "output_type": "stream",
     "text": [
      "{'val_loss': 2.1619440426186816, 'val_accuracy': 0.5636918382913806, 'precision': 0.5772835848665173, 'recall': 0.5636918382913806, 'f1-score': 0.5661570878892694, 'macro_f1-score': 0.3080094468880589, 'balanced_accuracy': 0.32267174098312273, 'mcc': 0.4357311305148559, 'train_loss': 0.33133675972801013}\n",
      "Epoch 16/20\n"
     ]
    },
    {
     "name": "stderr",
     "output_type": "stream",
     "text": [
      "100%|██████████| 716/716 [01:19<00:00,  9.03it/s]\n"
     ]
    },
    {
     "name": "stdout",
     "output_type": "stream",
     "text": [
      "{'val_loss': 2.2828791323231488, 'val_accuracy': 0.5690312738367659, 'precision': 0.5899674639395044, 'recall': 0.5690312738367659, 'f1-score': 0.5732834973474911, 'macro_f1-score': 0.31657610683909304, 'balanced_accuracy': 0.3363126628440705, 'mcc': 0.4410205271178535, 'train_loss': 0.27042854052068216}\n",
      "Epoch 17/20\n"
     ]
    },
    {
     "name": "stderr",
     "output_type": "stream",
     "text": [
      "100%|██████████| 716/716 [01:19<00:00,  9.05it/s]\n"
     ]
    },
    {
     "name": "stdout",
     "output_type": "stream",
     "text": [
      "{'val_loss': 2.2170800370414083, 'val_accuracy': 0.5705568268497331, 'precision': 0.5923047928516605, 'recall': 0.5705568268497331, 'f1-score': 0.5766709541991542, 'macro_f1-score': 0.31419163118013893, 'balanced_accuracy': 0.32899176237187383, 'mcc': 0.44830280540142653, 'train_loss': 0.3021515303176916}\n",
      "Epoch 18/20\n"
     ]
    },
    {
     "name": "stderr",
     "output_type": "stream",
     "text": [
      "100%|██████████| 716/716 [01:18<00:00,  9.06it/s]\n"
     ]
    },
    {
     "name": "stdout",
     "output_type": "stream",
     "text": [
      "{'val_loss': 2.4456384923399948, 'val_accuracy': 0.551487414187643, 'precision': 0.5887806852827516, 'recall': 0.551487414187643, 'f1-score': 0.5599952580520287, 'macro_f1-score': 0.3063410474412799, 'balanced_accuracy': 0.3426077485542218, 'mcc': 0.4318095882948783, 'train_loss': 0.25625852924672754}\n",
      "Epoch 19/20\n"
     ]
    },
    {
     "name": "stderr",
     "output_type": "stream",
     "text": [
      "100%|██████████| 716/716 [01:19<00:00,  9.02it/s]\n"
     ]
    },
    {
     "name": "stdout",
     "output_type": "stream",
     "text": [
      "{'val_loss': 2.3868006882144184, 'val_accuracy': 0.589626239511823, 'precision': 0.5996774892053992, 'recall': 0.589626239511823, 'f1-score': 0.589570683608416, 'macro_f1-score': 0.32750007813937904, 'balanced_accuracy': 0.3417602198166296, 'mcc': 0.46479060244809645, 'train_loss': 0.1839724551930545}\n",
      "Epoch 20/20\n"
     ]
    },
    {
     "name": "stderr",
     "output_type": "stream",
     "text": [
      "100%|██████████| 716/716 [01:19<00:00,  9.02it/s]\n"
     ]
    },
    {
     "name": "stdout",
     "output_type": "stream",
     "text": [
      "{'val_loss': 2.353617062655891, 'val_accuracy': 0.597254004576659, 'precision': 0.5933607443271273, 'recall': 0.597254004576659, 'f1-score': 0.5904151994189029, 'macro_f1-score': 0.3197062836016818, 'balanced_accuracy': 0.332019197626463, 'mcc': 0.4694523815208257, 'train_loss': 0.17532893916456727}\n",
      "\n",
      "[Fold 3]\n",
      "🚀 Using Word2Vec + EDA (replace + deletion/swap) for data augmentation + under-sampling\n",
      "🔻 Under-sampling label 0: 2471 → 2000\n",
      "🔧 Augmenting label 1: 22 → 200 (+178)\n",
      "🔧 Augmenting label 2: 64 → 200 (+136)\n",
      "🔧 Augmenting label 3: 24 → 200 (+176)\n",
      "🔧 Augmenting label 4: 190 → 200 (+10)\n",
      "🔧 Augmenting label 5: 113 → 200 (+87)\n",
      "🔧 Augmenting label 6: 93 → 200 (+107)\n",
      "🔧 Augmenting label 7: 30 → 200 (+170)\n",
      "🔧 Augmenting label 8: 68 → 200 (+132)\n",
      "🔧 Augmenting label 9: 30 → 200 (+170)\n",
      "🔧 Augmenting label 10: 67 → 200 (+133)\n",
      "🔧 Augmenting label 11: 169 → 200 (+31)\n",
      "🔧 Augmenting label 12: 190 → 200 (+10)\n",
      "🔧 Augmenting label 13: 28 → 200 (+172)\n",
      "🔧 Augmenting label 14: 23 → 200 (+177)\n",
      "🔧 Augmenting label 15: 25 → 200 (+175)\n",
      "🔧 Augmenting label 16: 19 → 200 (+181)\n",
      "🔧 Augmenting label 17: 182 → 200 (+18)\n",
      "🔧 Augmenting label 18: 92 → 200 (+108)\n",
      "🔧 Augmenting label 19: 44 → 200 (+156)\n",
      "🔧 Augmenting label 20: 14 → 200 (+186)\n",
      "🔧 Augmenting label 21: 35 → 200 (+165)\n",
      "🔧 Augmenting label 22: 76 → 200 (+124)\n",
      "🔧 Augmenting label 23: 157 → 200 (+43)\n",
      "🔧 Augmenting label 24: 13 → 200 (+187)\n",
      "🔧 Augmenting label 25: 44 → 200 (+156)\n",
      "🔧 Augmenting label 26: 84 → 200 (+116)\n",
      "🔧 Augmenting label 27: 48 → 200 (+152)\n",
      "🔧 Augmenting label 28: 11 → 200 (+189)\n",
      "🔧 Augmenting label 29: 13 → 200 (+187)\n",
      "🔧 Augmenting label 30: 11 → 200 (+189)\n",
      "🔧 Augmenting label 31: 76 → 200 (+124)\n",
      "🔧 Augmenting label 32: 36 → 200 (+164)\n",
      "🔧 Augmenting label 33: 31 → 200 (+169)\n",
      "🔧 Augmenting label 34: 30 → 200 (+170)\n",
      "🔧 Augmenting label 35: 11 → 200 (+189)\n",
      "🔧 Augmenting label 36: 21 → 200 (+179)\n",
      "🔧 Augmenting label 37: 16 → 200 (+184)\n",
      "🔧 Augmenting label 38: 32 → 200 (+168)\n",
      "🔧 Augmenting label 39: 11 → 200 (+189)\n",
      "🔧 Augmenting label 40: 9 → 200 (+191)\n",
      "🔧 Augmenting label 41: 57 → 200 (+143)\n",
      "🔧 Augmenting label 42: 18 → 200 (+182)\n",
      "🔧 Augmenting label 43: 9 → 200 (+191)\n",
      "🔧 Augmenting label 44: 55 → 200 (+145)\n",
      "🔧 Augmenting label 46: 62 → 200 (+138)\n",
      "🔧 Augmenting label 47: 80 → 200 (+120)\n",
      "Label distribution after resampling:\n",
      "  label 0: 2000\n",
      "  label 1: 200\n",
      "  label 2: 200\n",
      "  label 3: 200\n",
      "  label 4: 200\n",
      "  label 5: 200\n",
      "  label 6: 200\n",
      "  label 7: 200\n",
      "  label 8: 200\n",
      "  label 9: 200\n",
      "  label 10: 200\n",
      "  label 11: 200\n",
      "  label 12: 200\n",
      "  label 13: 200\n",
      "  label 14: 200\n",
      "  label 15: 200\n",
      "  label 16: 200\n",
      "  label 17: 200\n",
      "  label 18: 200\n",
      "  label 19: 200\n",
      "  label 20: 200\n",
      "  label 21: 200\n",
      "  label 22: 200\n",
      "  label 23: 200\n",
      "  label 24: 200\n",
      "  label 25: 200\n",
      "  label 26: 200\n",
      "  label 27: 200\n",
      "  label 28: 200\n",
      "  label 29: 200\n",
      "  label 30: 200\n",
      "  label 31: 200\n",
      "  label 32: 200\n",
      "  label 33: 200\n",
      "  label 34: 200\n",
      "  label 35: 200\n",
      "  label 36: 200\n",
      "  label 37: 200\n",
      "  label 38: 200\n",
      "  label 39: 200\n",
      "  label 40: 200\n",
      "  label 41: 200\n",
      "  label 42: 200\n",
      "  label 43: 200\n",
      "  label 44: 200\n",
      "  label 45: 241\n",
      "  label 46: 200\n",
      "  label 47: 200\n",
      "model is microsoft/deberta-base bilstm\n",
      "Epoch 1/20\n"
     ]
    },
    {
     "name": "stderr",
     "output_type": "stream",
     "text": [
      "100%|██████████| 716/716 [01:19<00:00,  9.05it/s]\n"
     ]
    },
    {
     "name": "stdout",
     "output_type": "stream",
     "text": [
      "{'val_loss': 2.6617540978803866, 'val_accuracy': 0.47292143401983217, 'precision': 0.30594878917482876, 'recall': 0.47292143401983217, 'f1-score': 0.3616273279601407, 'macro_f1-score': 0.03463903986231532, 'balanced_accuracy': 0.05956454270014592, 'mcc': 0.18919025598506817, 'train_loss': 3.4441429329984015}\n",
      "Epoch 2/20\n"
     ]
    },
    {
     "name": "stderr",
     "output_type": "stream",
     "text": [
      "100%|██████████| 716/716 [01:19<00:00,  9.02it/s]\n"
     ]
    },
    {
     "name": "stdout",
     "output_type": "stream",
     "text": [
      "{'val_loss': 2.3723494628580606, 'val_accuracy': 0.4813119755911518, 'precision': 0.361106575488178, 'recall': 0.4813119755911518, 'f1-score': 0.4074674012849552, 'macro_f1-score': 0.048054799150270146, 'balanced_accuracy': 0.06511503219482277, 'mcc': 0.252234789068343, 'train_loss': 3.143568004975772}\n",
      "Epoch 3/20\n"
     ]
    },
    {
     "name": "stderr",
     "output_type": "stream",
     "text": [
      "100%|██████████| 716/716 [01:19<00:00,  9.05it/s]\n"
     ]
    },
    {
     "name": "stdout",
     "output_type": "stream",
     "text": [
      "{'val_loss': 2.4238842464074857, 'val_accuracy': 0.47292143401983217, 'precision': 0.3781148112202274, 'recall': 0.47292143401983217, 'f1-score': 0.403974526340637, 'macro_f1-score': 0.04805350761276525, 'balanced_accuracy': 0.0679321879797752, 'mcc': 0.2387611753186814, 'train_loss': 2.8294535866163297}\n",
      "Epoch 4/20\n"
     ]
    },
    {
     "name": "stderr",
     "output_type": "stream",
     "text": [
      "100%|██████████| 716/716 [01:19<00:00,  9.04it/s]\n"
     ]
    },
    {
     "name": "stdout",
     "output_type": "stream",
     "text": [
      "{'val_loss': 2.3537270085113806, 'val_accuracy': 0.4462242562929062, 'precision': 0.4113622933796707, 'recall': 0.4462242562929062, 'f1-score': 0.41597473782997557, 'macro_f1-score': 0.06735223797022526, 'balanced_accuracy': 0.10577110451808969, 'mcc': 0.2578067763673629, 'train_loss': 2.606900922412979}\n",
      "Epoch 5/20\n"
     ]
    },
    {
     "name": "stderr",
     "output_type": "stream",
     "text": [
      "100%|██████████| 716/716 [01:19<00:00,  9.05it/s]\n"
     ]
    },
    {
     "name": "stdout",
     "output_type": "stream",
     "text": [
      "{'val_loss': 2.3531192221292634, 'val_accuracy': 0.41495041952707856, 'precision': 0.4412542740316902, 'recall': 0.41495041952707856, 'f1-score': 0.416306914406969, 'macro_f1-score': 0.06959766074730418, 'balanced_accuracy': 0.08984362696759547, 'mcc': 0.23809515997437344, 'train_loss': 2.4545622616173834}\n",
      "Epoch 6/20\n"
     ]
    },
    {
     "name": "stderr",
     "output_type": "stream",
     "text": [
      "100%|██████████| 716/716 [01:19<00:00,  9.04it/s]\n"
     ]
    },
    {
     "name": "stdout",
     "output_type": "stream",
     "text": [
      "{'val_loss': 3.0505681328657195, 'val_accuracy': 0.47139588100686497, 'precision': 0.22631003838097663, 'recall': 0.47139588100686497, 'f1-score': 0.3053755418941247, 'macro_f1-score': 0.021721525600835945, 'balanced_accuracy': 0.02854470064724919, 'mcc': 0.04048224348298731, 'train_loss': 2.597347816108991}\n",
      "Epoch 7/20\n"
     ]
    },
    {
     "name": "stderr",
     "output_type": "stream",
     "text": [
      "100%|██████████| 716/716 [01:19<00:00,  9.06it/s]\n"
     ]
    },
    {
     "name": "stdout",
     "output_type": "stream",
     "text": [
      "{'val_loss': 2.8787514233007663, 'val_accuracy': 0.4652936689549962, 'precision': 0.24308350857008282, 'recall': 0.4652936689549962, 'f1-score': 0.31388880843644823, 'macro_f1-score': 0.01933495440632775, 'balanced_accuracy': 0.03359112745984844, 'mcc': 0.08191230056801636, 'train_loss': 3.535127548532113}\n",
      "Epoch 8/20\n"
     ]
    },
    {
     "name": "stderr",
     "output_type": "stream",
     "text": [
      "100%|██████████| 716/716 [01:19<00:00,  9.03it/s]\n"
     ]
    },
    {
     "name": "stdout",
     "output_type": "stream",
     "text": [
      "{'val_loss': 2.829842160387737, 'val_accuracy': 0.4774980930587338, 'precision': 0.25715429609013996, 'recall': 0.4774980930587338, 'f1-score': 0.3304445416677396, 'macro_f1-score': 0.04208198332217952, 'balanced_accuracy': 0.05373558597492747, 'mcc': 0.12607911044158848, 'train_loss': 3.5307023022427906}\n",
      "Early stopping.\n",
      "\n",
      "[Fold 4]\n",
      "🚀 Using Word2Vec + EDA (replace + deletion/swap) for data augmentation + under-sampling\n",
      "🔻 Under-sampling label 0: 2471 → 2000\n",
      "🔧 Augmenting label 1: 22 → 200 (+178)\n",
      "🔧 Augmenting label 2: 64 → 200 (+136)\n",
      "🔧 Augmenting label 3: 24 → 200 (+176)\n",
      "🔧 Augmenting label 4: 190 → 200 (+10)\n",
      "🔧 Augmenting label 5: 113 → 200 (+87)\n",
      "🔧 Augmenting label 6: 93 → 200 (+107)\n",
      "🔧 Augmenting label 7: 31 → 200 (+169)\n",
      "🔧 Augmenting label 8: 68 → 200 (+132)\n",
      "🔧 Augmenting label 9: 29 → 200 (+171)\n",
      "🔧 Augmenting label 10: 67 → 200 (+133)\n",
      "🔧 Augmenting label 11: 169 → 200 (+31)\n",
      "🔧 Augmenting label 12: 190 → 200 (+10)\n",
      "🔧 Augmenting label 13: 29 → 200 (+171)\n",
      "🔧 Augmenting label 14: 22 → 200 (+178)\n",
      "🔧 Augmenting label 15: 25 → 200 (+175)\n",
      "🔧 Augmenting label 16: 19 → 200 (+181)\n",
      "🔧 Augmenting label 17: 182 → 200 (+18)\n",
      "🔧 Augmenting label 18: 92 → 200 (+108)\n",
      "🔧 Augmenting label 19: 44 → 200 (+156)\n",
      "🔧 Augmenting label 20: 14 → 200 (+186)\n",
      "🔧 Augmenting label 21: 35 → 200 (+165)\n",
      "🔧 Augmenting label 22: 76 → 200 (+124)\n",
      "🔧 Augmenting label 23: 158 → 200 (+42)\n",
      "🔧 Augmenting label 24: 13 → 200 (+187)\n",
      "🔧 Augmenting label 25: 44 → 200 (+156)\n",
      "🔧 Augmenting label 26: 84 → 200 (+116)\n",
      "🔧 Augmenting label 27: 48 → 200 (+152)\n",
      "🔧 Augmenting label 28: 11 → 200 (+189)\n",
      "🔧 Augmenting label 29: 13 → 200 (+187)\n",
      "🔧 Augmenting label 30: 11 → 200 (+189)\n",
      "🔧 Augmenting label 31: 75 → 200 (+125)\n",
      "🔧 Augmenting label 32: 36 → 200 (+164)\n",
      "🔧 Augmenting label 33: 31 → 200 (+169)\n",
      "🔧 Augmenting label 34: 30 → 200 (+170)\n",
      "🔧 Augmenting label 35: 11 → 200 (+189)\n",
      "🔧 Augmenting label 36: 22 → 200 (+178)\n",
      "🔧 Augmenting label 37: 16 → 200 (+184)\n",
      "🔧 Augmenting label 38: 33 → 200 (+167)\n",
      "🔧 Augmenting label 39: 10 → 200 (+190)\n",
      "🔧 Augmenting label 40: 9 → 200 (+191)\n",
      "🔧 Augmenting label 41: 56 → 200 (+144)\n",
      "🔧 Augmenting label 42: 18 → 200 (+182)\n",
      "🔧 Augmenting label 43: 9 → 200 (+191)\n",
      "🔧 Augmenting label 44: 55 → 200 (+145)\n",
      "🔧 Augmenting label 46: 62 → 200 (+138)\n",
      "🔧 Augmenting label 47: 80 → 200 (+120)\n",
      "Label distribution after resampling:\n",
      "  label 0: 2000\n",
      "  label 1: 200\n",
      "  label 2: 200\n",
      "  label 3: 200\n",
      "  label 4: 200\n",
      "  label 5: 200\n",
      "  label 6: 200\n",
      "  label 7: 200\n",
      "  label 8: 200\n",
      "  label 9: 200\n",
      "  label 10: 200\n",
      "  label 11: 200\n",
      "  label 12: 200\n",
      "  label 13: 200\n",
      "  label 14: 200\n",
      "  label 15: 200\n",
      "  label 16: 200\n",
      "  label 17: 200\n",
      "  label 18: 200\n",
      "  label 19: 200\n",
      "  label 20: 200\n",
      "  label 21: 200\n",
      "  label 22: 200\n",
      "  label 23: 200\n",
      "  label 24: 200\n",
      "  label 25: 200\n",
      "  label 26: 200\n",
      "  label 27: 200\n",
      "  label 28: 200\n",
      "  label 29: 200\n",
      "  label 30: 200\n",
      "  label 31: 200\n",
      "  label 32: 200\n",
      "  label 33: 200\n",
      "  label 34: 200\n",
      "  label 35: 200\n",
      "  label 36: 200\n",
      "  label 37: 200\n",
      "  label 38: 200\n",
      "  label 39: 200\n",
      "  label 40: 200\n",
      "  label 41: 200\n",
      "  label 42: 200\n",
      "  label 43: 200\n",
      "  label 44: 200\n",
      "  label 45: 241\n",
      "  label 46: 200\n",
      "  label 47: 200\n",
      "model is microsoft/deberta-base bilstm\n",
      "Epoch 1/20\n"
     ]
    },
    {
     "name": "stderr",
     "output_type": "stream",
     "text": [
      "100%|██████████| 716/716 [01:19<00:00,  9.04it/s]\n"
     ]
    },
    {
     "name": "stdout",
     "output_type": "stream",
     "text": [
      "{'val_loss': 2.4879459840495413, 'val_accuracy': 0.4492753623188406, 'precision': 0.36270454931829593, 'recall': 0.4492753623188406, 'f1-score': 0.3855582162934857, 'macro_f1-score': 0.04011316280389767, 'balanced_accuracy': 0.07532887614904593, 'mcc': 0.21814853670852385, 'train_loss': 3.359682973203712}\n",
      "Epoch 2/20\n"
     ]
    },
    {
     "name": "stderr",
     "output_type": "stream",
     "text": [
      "100%|██████████| 716/716 [01:19<00:00,  9.02it/s]\n"
     ]
    },
    {
     "name": "stdout",
     "output_type": "stream",
     "text": [
      "{'val_loss': 2.483132493205187, 'val_accuracy': 0.38596491228070173, 'precision': 0.4335876620264658, 'recall': 0.3859649122807018, 'f1-score': 0.3883574400237934, 'macro_f1-score': 0.054533714141801214, 'balanced_accuracy': 0.13277613962641524, 'mcc': 0.22322748274161774, 'train_loss': 2.8543948707633846}\n",
      "Epoch 3/20\n"
     ]
    },
    {
     "name": "stderr",
     "output_type": "stream",
     "text": [
      "100%|██████████| 716/716 [01:19<00:00,  9.05it/s]\n"
     ]
    },
    {
     "name": "stdout",
     "output_type": "stream",
     "text": [
      "{'val_loss': 2.17666118610196, 'val_accuracy': 0.41647597254004576, 'precision': 0.459669133631956, 'recall': 0.41647597254004576, 'f1-score': 0.4202054262981618, 'macro_f1-score': 0.0905100151544939, 'balanced_accuracy': 0.16428344891424984, 'mcc': 0.2603706054693811, 'train_loss': 2.4259378085922263}\n",
      "Epoch 4/20\n"
     ]
    },
    {
     "name": "stderr",
     "output_type": "stream",
     "text": [
      "100%|██████████| 716/716 [01:19<00:00,  9.00it/s]\n"
     ]
    },
    {
     "name": "stdout",
     "output_type": "stream",
     "text": [
      "{'val_loss': 2.21615358678306, 'val_accuracy': 0.41189931350114417, 'precision': 0.49705702509311783, 'recall': 0.41189931350114417, 'f1-score': 0.42544184052103573, 'macro_f1-score': 0.11746386000999802, 'balanced_accuracy': 0.20659677345503988, 'mcc': 0.2668788815680208, 'train_loss': 2.2028485108687224}\n",
      "Epoch 5/20\n"
     ]
    },
    {
     "name": "stderr",
     "output_type": "stream",
     "text": [
      "100%|██████████| 716/716 [01:19<00:00,  9.05it/s]\n"
     ]
    },
    {
     "name": "stdout",
     "output_type": "stream",
     "text": [
      "{'val_loss': 2.115946362658245, 'val_accuracy': 0.41952707856598015, 'precision': 0.5295043365554342, 'recall': 0.41952707856598015, 'f1-score': 0.4305286718447433, 'macro_f1-score': 0.16723434735016354, 'balanced_accuracy': 0.25119536166410233, 'mcc': 0.26626592769041946, 'train_loss': 1.9360212668693266}\n",
      "Epoch 6/20\n"
     ]
    },
    {
     "name": "stderr",
     "output_type": "stream",
     "text": [
      "100%|██████████| 716/716 [01:19<00:00,  9.05it/s]\n"
     ]
    },
    {
     "name": "stdout",
     "output_type": "stream",
     "text": [
      "{'val_loss': 2.061465330967089, 'val_accuracy': 0.4263920671243326, 'precision': 0.5199062109456809, 'recall': 0.4263920671243326, 'f1-score': 0.454604074346558, 'macro_f1-score': 0.19128700479206717, 'balanced_accuracy': 0.2538420073703265, 'mcc': 0.29715630974018126, 'train_loss': 1.6997252341422289}\n",
      "Epoch 7/20\n"
     ]
    },
    {
     "name": "stderr",
     "output_type": "stream",
     "text": [
      "100%|██████████| 716/716 [01:19<00:00,  9.05it/s]\n"
     ]
    },
    {
     "name": "stdout",
     "output_type": "stream",
     "text": [
      "{'val_loss': 2.066353357419735, 'val_accuracy': 0.4797864225781846, 'precision': 0.5529951019278087, 'recall': 0.4797864225781846, 'f1-score': 0.4896578539679829, 'macro_f1-score': 0.22306554760217975, 'balanced_accuracy': 0.27591324294624137, 'mcc': 0.34089076494703824, 'train_loss': 1.5251118600077136}\n",
      "Epoch 8/20\n"
     ]
    },
    {
     "name": "stderr",
     "output_type": "stream",
     "text": [
      "100%|██████████| 716/716 [01:19<00:00,  9.01it/s]\n"
     ]
    },
    {
     "name": "stdout",
     "output_type": "stream",
     "text": [
      "{'val_loss': 2.0256694526207157, 'val_accuracy': 0.45385202135774216, 'precision': 0.5452263790650203, 'recall': 0.45385202135774216, 'f1-score': 0.4856346542554057, 'macro_f1-score': 0.23307150813239766, 'balanced_accuracy': 0.25405172454916386, 'mcc': 0.3217492457109649, 'train_loss': 1.2959614508478334}\n",
      "Epoch 9/20\n"
     ]
    },
    {
     "name": "stderr",
     "output_type": "stream",
     "text": [
      "100%|██████████| 716/716 [01:19<00:00,  9.03it/s]\n"
     ]
    },
    {
     "name": "stdout",
     "output_type": "stream",
     "text": [
      "{'val_loss': 1.92631807559874, 'val_accuracy': 0.5041952707856598, 'precision': 0.5549128205258885, 'recall': 0.5041952707856598, 'f1-score': 0.5171440414404294, 'macro_f1-score': 0.26613165712670744, 'balanced_accuracy': 0.30472679953794307, 'mcc': 0.37098992477066695, 'train_loss': 1.1305780491932145}\n",
      "Epoch 10/20\n"
     ]
    },
    {
     "name": "stderr",
     "output_type": "stream",
     "text": [
      "100%|██████████| 716/716 [01:19<00:00,  9.04it/s]\n"
     ]
    },
    {
     "name": "stdout",
     "output_type": "stream",
     "text": [
      "{'val_loss': 1.9749199508166895, 'val_accuracy': 0.4881769641495042, 'precision': 0.5733737525328968, 'recall': 0.4881769641495042, 'f1-score': 0.5095597987128633, 'macro_f1-score': 0.29034787684285174, 'balanced_accuracy': 0.3454596834639408, 'mcc': 0.36431436728111294, 'train_loss': 1.0050201012269078}\n",
      "Epoch 11/20\n"
     ]
    },
    {
     "name": "stderr",
     "output_type": "stream",
     "text": [
      "100%|██████████| 716/716 [01:19<00:00,  9.03it/s]\n"
     ]
    },
    {
     "name": "stdout",
     "output_type": "stream",
     "text": [
      "{'val_loss': 2.031664250100531, 'val_accuracy': 0.5080091533180778, 'precision': 0.5845039354373476, 'recall': 0.5080091533180778, 'f1-score': 0.5299841011174637, 'macro_f1-score': 0.2941855057446059, 'balanced_accuracy': 0.3231291324505957, 'mcc': 0.3861304122820051, 'train_loss': 0.8204613543589022}\n",
      "Epoch 12/20\n"
     ]
    },
    {
     "name": "stderr",
     "output_type": "stream",
     "text": [
      "100%|██████████| 716/716 [01:19<00:00,  9.03it/s]\n"
     ]
    },
    {
     "name": "stdout",
     "output_type": "stream",
     "text": [
      "{'val_loss': 1.9881995298513553, 'val_accuracy': 0.5125858123569794, 'precision': 0.5821586413123926, 'recall': 0.5125858123569794, 'f1-score': 0.5288227297160415, 'macro_f1-score': 0.28140097665730174, 'balanced_accuracy': 0.3299727574175693, 'mcc': 0.38832621399303763, 'train_loss': 0.752624064954466}\n",
      "Epoch 13/20\n"
     ]
    },
    {
     "name": "stderr",
     "output_type": "stream",
     "text": [
      "100%|██████████| 716/716 [01:19<00:00,  9.04it/s]\n"
     ]
    },
    {
     "name": "stdout",
     "output_type": "stream",
     "text": [
      "{'val_loss': 2.0048648311597543, 'val_accuracy': 0.5385202135774219, 'precision': 0.595329866079165, 'recall': 0.5385202135774219, 'f1-score': 0.5494684006571346, 'macro_f1-score': 0.31290226766990453, 'balanced_accuracy': 0.34021941887996543, 'mcc': 0.4099440494216456, 'train_loss': 0.663418995851245}\n",
      "Epoch 14/20\n"
     ]
    },
    {
     "name": "stderr",
     "output_type": "stream",
     "text": [
      "100%|██████████| 716/716 [01:19<00:00,  9.03it/s]\n"
     ]
    },
    {
     "name": "stdout",
     "output_type": "stream",
     "text": [
      "{'val_loss': 2.1285542086130236, 'val_accuracy': 0.505720823798627, 'precision': 0.5934515938572772, 'recall': 0.505720823798627, 'f1-score': 0.5339975085645093, 'macro_f1-score': 0.3023829095505344, 'balanced_accuracy': 0.35225146015908865, 'mcc': 0.3961129323724079, 'train_loss': 0.5689527360025232}\n",
      "Epoch 15/20\n"
     ]
    },
    {
     "name": "stderr",
     "output_type": "stream",
     "text": [
      "100%|██████████| 716/716 [01:19<00:00,  9.03it/s]\n"
     ]
    },
    {
     "name": "stdout",
     "output_type": "stream",
     "text": [
      "{'val_loss': 2.115674639620432, 'val_accuracy': 0.5225019069412662, 'precision': 0.5964148500143696, 'recall': 0.5225019069412662, 'f1-score': 0.5460867238929893, 'macro_f1-score': 0.32092181587158675, 'balanced_accuracy': 0.36257731127541715, 'mcc': 0.4126398139361117, 'train_loss': 0.53541634991367}\n",
      "Epoch 16/20\n"
     ]
    },
    {
     "name": "stderr",
     "output_type": "stream",
     "text": [
      "100%|██████████| 716/716 [01:18<00:00,  9.07it/s]\n"
     ]
    },
    {
     "name": "stdout",
     "output_type": "stream",
     "text": [
      "{'val_loss': 2.1373477178375895, 'val_accuracy': 0.532418001525553, 'precision': 0.6046270386251238, 'recall': 0.532418001525553, 'f1-score': 0.5514941697086355, 'macro_f1-score': 0.32167696586013744, 'balanced_accuracy': 0.3545167585348215, 'mcc': 0.4097789846870366, 'train_loss': 0.46688895422819604}\n",
      "Epoch 17/20\n"
     ]
    },
    {
     "name": "stderr",
     "output_type": "stream",
     "text": [
      "100%|██████████| 716/716 [01:19<00:00,  9.03it/s]\n"
     ]
    },
    {
     "name": "stdout",
     "output_type": "stream",
     "text": [
      "{'val_loss': 2.108458325266838, 'val_accuracy': 0.5636918382913806, 'precision': 0.5867079835760921, 'recall': 0.5636918382913806, 'f1-score': 0.5620277433681974, 'macro_f1-score': 0.34340712072873997, 'balanced_accuracy': 0.35839803058357006, 'mcc': 0.42687655569624994, 'train_loss': 0.3987466840687411}\n",
      "Epoch 18/20\n"
     ]
    },
    {
     "name": "stderr",
     "output_type": "stream",
     "text": [
      "100%|██████████| 716/716 [01:19<00:00,  9.04it/s]\n"
     ]
    },
    {
     "name": "stdout",
     "output_type": "stream",
     "text": [
      "{'val_loss': 2.2707030431526465, 'val_accuracy': 0.5179252479023646, 'precision': 0.601235331866105, 'recall': 0.5179252479023646, 'f1-score': 0.5373456589067558, 'macro_f1-score': 0.3416694935678622, 'balanced_accuracy': 0.35719351755664136, 'mcc': 0.3960053377137701, 'train_loss': 0.36052705988017375}\n",
      "Epoch 19/20\n"
     ]
    },
    {
     "name": "stderr",
     "output_type": "stream",
     "text": [
      "100%|██████████| 716/716 [01:19<00:00,  9.04it/s]\n"
     ]
    },
    {
     "name": "stdout",
     "output_type": "stream",
     "text": [
      "{'val_loss': 2.2110292882454106, 'val_accuracy': 0.547673531655225, 'precision': 0.612872037661252, 'recall': 0.547673531655225, 'f1-score': 0.5629962886553539, 'macro_f1-score': 0.3378844807737356, 'balanced_accuracy': 0.35557301871643837, 'mcc': 0.42548351296581943, 'train_loss': 0.3675206107166778}\n",
      "Epoch 20/20\n"
     ]
    },
    {
     "name": "stderr",
     "output_type": "stream",
     "text": [
      "100%|██████████| 716/716 [01:19<00:00,  9.04it/s]\n"
     ]
    },
    {
     "name": "stdout",
     "output_type": "stream",
     "text": [
      "{'val_loss': 2.3245116617621444, 'val_accuracy': 0.5331807780320366, 'precision': 0.5898261222098535, 'recall': 0.5331807780320366, 'f1-score': 0.5493919211513746, 'macro_f1-score': 0.3232566399920514, 'balanced_accuracy': 0.35762654985387293, 'mcc': 0.4174605152289538, 'train_loss': 0.28612495967129753}\n",
      "Early stopping.\n",
      "\n",
      "[Fold 5]\n",
      "🚀 Using Word2Vec + EDA (replace + deletion/swap) for data augmentation + under-sampling\n",
      "🔻 Under-sampling label 0: 2472 → 2000\n",
      "🔧 Augmenting label 1: 21 → 200 (+179)\n",
      "🔧 Augmenting label 2: 64 → 200 (+136)\n",
      "🔧 Augmenting label 3: 24 → 200 (+176)\n",
      "🔧 Augmenting label 4: 191 → 200 (+9)\n",
      "🔧 Augmenting label 5: 112 → 200 (+88)\n",
      "🔧 Augmenting label 6: 92 → 200 (+108)\n",
      "🔧 Augmenting label 7: 31 → 200 (+169)\n",
      "🔧 Augmenting label 8: 68 → 200 (+132)\n",
      "🔧 Augmenting label 9: 29 → 200 (+171)\n",
      "🔧 Augmenting label 10: 68 → 200 (+132)\n",
      "🔧 Augmenting label 11: 168 → 200 (+32)\n",
      "🔧 Augmenting label 12: 190 → 200 (+10)\n",
      "🔧 Augmenting label 13: 29 → 200 (+171)\n",
      "🔧 Augmenting label 14: 22 → 200 (+178)\n",
      "🔧 Augmenting label 15: 25 → 200 (+175)\n",
      "🔧 Augmenting label 16: 19 → 200 (+181)\n",
      "🔧 Augmenting label 17: 183 → 200 (+17)\n",
      "🔧 Augmenting label 18: 92 → 200 (+108)\n",
      "🔧 Augmenting label 19: 44 → 200 (+156)\n",
      "🔧 Augmenting label 20: 14 → 200 (+186)\n",
      "🔧 Augmenting label 21: 35 → 200 (+165)\n",
      "🔧 Augmenting label 22: 76 → 200 (+124)\n",
      "🔧 Augmenting label 23: 158 → 200 (+42)\n",
      "🔧 Augmenting label 24: 13 → 200 (+187)\n",
      "🔧 Augmenting label 25: 44 → 200 (+156)\n",
      "🔧 Augmenting label 26: 84 → 200 (+116)\n",
      "🔧 Augmenting label 27: 48 → 200 (+152)\n",
      "🔧 Augmenting label 28: 11 → 200 (+189)\n",
      "🔧 Augmenting label 29: 13 → 200 (+187)\n",
      "🔧 Augmenting label 30: 11 → 200 (+189)\n",
      "🔧 Augmenting label 31: 75 → 200 (+125)\n",
      "🔧 Augmenting label 32: 36 → 200 (+164)\n",
      "🔧 Augmenting label 33: 31 → 200 (+169)\n",
      "🔧 Augmenting label 34: 30 → 200 (+170)\n",
      "🔧 Augmenting label 35: 11 → 200 (+189)\n",
      "🔧 Augmenting label 36: 22 → 200 (+178)\n",
      "🔧 Augmenting label 37: 16 → 200 (+184)\n",
      "🔧 Augmenting label 38: 33 → 200 (+167)\n",
      "🔧 Augmenting label 39: 10 → 200 (+190)\n",
      "🔧 Augmenting label 40: 9 → 200 (+191)\n",
      "🔧 Augmenting label 41: 57 → 200 (+143)\n",
      "🔧 Augmenting label 42: 18 → 200 (+182)\n",
      "🔧 Augmenting label 43: 9 → 200 (+191)\n",
      "🔧 Augmenting label 44: 54 → 200 (+146)\n",
      "🔧 Augmenting label 46: 61 → 200 (+139)\n",
      "🔧 Augmenting label 47: 80 → 200 (+120)\n",
      "Label distribution after resampling:\n",
      "  label 0: 2000\n",
      "  label 1: 200\n",
      "  label 2: 200\n",
      "  label 3: 200\n",
      "  label 4: 200\n",
      "  label 5: 200\n",
      "  label 6: 200\n",
      "  label 7: 200\n",
      "  label 8: 200\n",
      "  label 9: 200\n",
      "  label 10: 200\n",
      "  label 11: 200\n",
      "  label 12: 200\n",
      "  label 13: 200\n",
      "  label 14: 200\n",
      "  label 15: 200\n",
      "  label 16: 200\n",
      "  label 17: 200\n",
      "  label 18: 200\n",
      "  label 19: 200\n",
      "  label 20: 200\n",
      "  label 21: 200\n",
      "  label 22: 200\n",
      "  label 23: 200\n",
      "  label 24: 200\n",
      "  label 25: 200\n",
      "  label 26: 200\n",
      "  label 27: 200\n",
      "  label 28: 200\n",
      "  label 29: 200\n",
      "  label 30: 200\n",
      "  label 31: 200\n",
      "  label 32: 200\n",
      "  label 33: 200\n",
      "  label 34: 200\n",
      "  label 35: 200\n",
      "  label 36: 200\n",
      "  label 37: 200\n",
      "  label 38: 200\n",
      "  label 39: 200\n",
      "  label 40: 200\n",
      "  label 41: 200\n",
      "  label 42: 200\n",
      "  label 43: 200\n",
      "  label 44: 200\n",
      "  label 45: 242\n",
      "  label 46: 200\n",
      "  label 47: 200\n",
      "model is microsoft/deberta-base bilstm\n",
      "Epoch 1/20\n"
     ]
    },
    {
     "name": "stderr",
     "output_type": "stream",
     "text": [
      "100%|██████████| 716/716 [01:19<00:00,  9.04it/s]\n"
     ]
    },
    {
     "name": "stdout",
     "output_type": "stream",
     "text": [
      "{'val_loss': 2.824261998257986, 'val_accuracy': 0.47063310450038137, 'precision': 0.2705532973561888, 'recall': 0.47063310450038137, 'f1-score': 0.34096286203048704, 'macro_f1-score': 0.03126706315589542, 'balanced_accuracy': 0.05621874008472468, 'mcc': 0.1568745213708571, 'train_loss': 3.4516782763949987}\n",
      "Epoch 2/20\n"
     ]
    },
    {
     "name": "stderr",
     "output_type": "stream",
     "text": [
      "100%|██████████| 716/716 [01:19<00:00,  9.03it/s]\n"
     ]
    },
    {
     "name": "stdout",
     "output_type": "stream",
     "text": [
      "{'val_loss': 2.651744082206633, 'val_accuracy': 0.4416475972540046, 'precision': 0.27004479320455943, 'recall': 0.4416475972540046, 'f1-score': 0.33395313558815837, 'macro_f1-score': 0.015683224572457244, 'balanced_accuracy': 0.040180983252296056, 'mcc': 0.1524355260709691, 'train_loss': 3.406648834657403}\n",
      "Epoch 3/20\n"
     ]
    },
    {
     "name": "stderr",
     "output_type": "stream",
     "text": [
      "100%|██████████| 716/716 [01:19<00:00,  9.03it/s]\n"
     ]
    },
    {
     "name": "stdout",
     "output_type": "stream",
     "text": [
      "{'val_loss': 2.5298319618876386, 'val_accuracy': 0.4668192219679634, 'precision': 0.2663390093989627, 'recall': 0.4668192219679634, 'f1-score': 0.3303689654817997, 'macro_f1-score': 0.029476529982850084, 'balanced_accuracy': 0.0537447104087333, 'mcc': 0.12782358146837253, 'train_loss': 3.408800009908623}\n",
      "Epoch 4/20\n"
     ]
    },
    {
     "name": "stderr",
     "output_type": "stream",
     "text": [
      "100%|██████████| 716/716 [01:19<00:00,  9.04it/s]\n"
     ]
    },
    {
     "name": "stdout",
     "output_type": "stream",
     "text": [
      "{'val_loss': 2.5714949514807723, 'val_accuracy': 0.47292143401983217, 'precision': 0.25161089583055474, 'recall': 0.47292143401983217, 'f1-score': 0.3240297151245066, 'macro_f1-score': 0.030020673627295703, 'balanced_accuracy': 0.047869662902077816, 'mcc': 0.10925590340976062, 'train_loss': 3.163584798740941}\n",
      "Early stopping.\n",
      "\n",
      " === microsoft/deberta-base + bilstm + word2vec_eda Final 5-fold Cross-Validation Results ===\n",
      "val_loss: 2.3795\n",
      "val_accuracy: 0.5137\n",
      "precision: 0.4898\n",
      "recall: 0.5137\n",
      "f1-score: 0.4876\n",
      "macro_f1-score: 0.2142\n",
      "balanced_accuracy: 0.2338\n",
      "mcc: 0.3340\n",
      "train_loss: 1.4245\n",
      "total_seconds: 6004.0000\n",
      "total_time: 1 hrs 40 mins 4 secs\n"
     ]
    }
   ],
   "source": [
    "model_list = [\"bert-base-uncased\", \"roberta-base\", \"microsoft/deberta-base\"]\n",
    "hybrid_list = [None, \"cnn\", \"lstm\", \"bilstm\"]\n",
    "resample_list = [\"word2vec_eda\"]\n",
    "\n",
    "all_experiment_result = {}\n",
    "\n",
    "for model_name in model_list:\n",
    "    for hybrid_type in hybrid_list:\n",
    "        for resample_method in resample_list:\n",
    "            results = run_kfold_experiment(\n",
    "                X=messages, y=labels, model_name=model_name, hybrid_type=hybrid_type, resample_method=resample_method,\n",
    "                kfold=KFOLD_SPLIT, seed=SEED, epochs=EPOCHS, patience=PATIENCE, max_length=MAX_LENGTH, \n",
    "                batch_size=BATCH_SIZE, lr=LR, weight_decay=WEIGHT_DECAY, upper_cap=UPPER_CAP, lower_cap=LOWER_CAP\n",
    "            )\n",
    "\n",
    "            key = f\"{model_name} {hybrid_type if hybrid_type else 'None'} {resample_method}\"\n",
    "            all_experiment_result[key] = results"
   ]
  },
  {
   "cell_type": "code",
   "execution_count": 5,
   "id": "d799ebb4-be3b-4b29-9238-6c2a2f8256ae",
   "metadata": {},
   "outputs": [
    {
     "data": {
      "text/plain": [
       "{'bert-base-uncased None word2vec_eda': {'val_loss': 1.7633318481648839,\n",
       "  'val_accuracy': 0.6377353444587077,\n",
       "  'precision': 0.6458582851721486,\n",
       "  'recall': 0.6377353444587077,\n",
       "  'f1-score': 0.6320968658719439,\n",
       "  'macro_f1-score': 0.42266767856564647,\n",
       "  'balanced_accuracy': 0.4248663022654127,\n",
       "  'mcc': 0.5233583702621157,\n",
       "  'train_loss': 0.15858271169754568,\n",
       "  'total_seconds': 2692,\n",
       "  'total_time': '0 hrs 44 mins 52 secs'},\n",
       " 'bert-base-uncased cnn word2vec_eda': {'val_loss': 1.6060506546642723,\n",
       "  'val_accuracy': 0.642921410764451,\n",
       "  'precision': 0.6478809726319283,\n",
       "  'recall': 0.642921410764451,\n",
       "  'f1-score': 0.6288026530877593,\n",
       "  'macro_f1-score': 0.41919344799829295,\n",
       "  'balanced_accuracy': 0.4142645614406243,\n",
       "  'mcc': 0.5221612835241946,\n",
       "  'train_loss': 0.41292034835052577,\n",
       "  'total_seconds': 2110,\n",
       "  'total_time': '0 hrs 35 mins 10 secs'},\n",
       " 'bert-base-uncased lstm word2vec_eda': {'val_loss': 1.706548020897842,\n",
       "  'val_accuracy': 0.6423107244516382,\n",
       "  'precision': 0.6491428052175674,\n",
       "  'recall': 0.6423107244516382,\n",
       "  'f1-score': 0.6345651615421308,\n",
       "  'macro_f1-score': 0.4164288105705681,\n",
       "  'balanced_accuracy': 0.4239452618609404,\n",
       "  'mcc': 0.529651188057034,\n",
       "  'train_loss': 0.28097687967293294,\n",
       "  'total_seconds': 3522,\n",
       "  'total_time': '0 hrs 58 mins 42 secs'},\n",
       " 'bert-base-uncased bilstm word2vec_eda': {'val_loss': 1.6844555593527306,\n",
       "  'val_accuracy': 0.6417027125076743,\n",
       "  'precision': 0.6511830520809672,\n",
       "  'recall': 0.6417027125076743,\n",
       "  'f1-score': 0.636796178156748,\n",
       "  'macro_f1-score': 0.4187400465336939,\n",
       "  'balanced_accuracy': 0.4285165528451902,\n",
       "  'mcc': 0.5290300466168322,\n",
       "  'train_loss': 0.26142400442648617,\n",
       "  'total_seconds': 3173,\n",
       "  'total_time': '0 hrs 52 mins 53 secs'},\n",
       " 'roberta-base None word2vec_eda': {'val_loss': 2.025187217189772,\n",
       "  'val_accuracy': 0.6015836914662053,\n",
       "  'precision': 0.560108133545404,\n",
       "  'recall': 0.6015836914662053,\n",
       "  'f1-score': 0.563062147126048,\n",
       "  'macro_f1-score': 0.3359117711650603,\n",
       "  'balanced_accuracy': 0.3357732547142909,\n",
       "  'mcc': 0.41325757668533747,\n",
       "  'train_loss': 0.9161675112843565,\n",
       "  'total_seconds': 2845,\n",
       "  'total_time': '0 hrs 47 mins 25 secs'},\n",
       " 'roberta-base cnn word2vec_eda': {'val_loss': 1.7286468746822057,\n",
       "  'val_accuracy': 0.6258374262804413,\n",
       "  'precision': 0.6431435405143803,\n",
       "  'recall': 0.6258374262804413,\n",
       "  'f1-score': 0.6247160829085726,\n",
       "  'macro_f1-score': 0.4017017781422142,\n",
       "  'balanced_accuracy': 0.415030254609436,\n",
       "  'mcc': 0.5112404231074114,\n",
       "  'train_loss': 0.33378010952758064,\n",
       "  'total_seconds': 2954,\n",
       "  'total_time': '0 hrs 49 mins 14 secs'},\n",
       " 'roberta-base lstm word2vec_eda': {'val_loss': 1.6650082194950522,\n",
       "  'val_accuracy': 0.5999116295510781,\n",
       "  'precision': 0.6232612300995505,\n",
       "  'recall': 0.5999116295510781,\n",
       "  'f1-score': 0.5956187432531992,\n",
       "  'macro_f1-score': 0.37842957103013386,\n",
       "  'balanced_accuracy': 0.39554160615859246,\n",
       "  'mcc': 0.4736581870067254,\n",
       "  'train_loss': 0.7018456220325062,\n",
       "  'total_seconds': 4273,\n",
       "  'total_time': '1 hrs 11 mins 13 secs'},\n",
       " 'roberta-base bilstm word2vec_eda': {'val_loss': 1.696337442972311,\n",
       "  'val_accuracy': 0.6092125030231996,\n",
       "  'precision': 0.6338846304165175,\n",
       "  'recall': 0.6092125030231996,\n",
       "  'f1-score': 0.6097086524478467,\n",
       "  'macro_f1-score': 0.3990890888710795,\n",
       "  'balanced_accuracy': 0.4179195279302025,\n",
       "  'mcc': 0.490704431636454,\n",
       "  'train_loss': 0.5064613998016894,\n",
       "  'total_seconds': 4278,\n",
       "  'total_time': '1 hrs 11 mins 18 secs'},\n",
       " 'microsoft/deberta-base None word2vec_eda': {'val_loss': 2.3005311704808618,\n",
       "  'val_accuracy': 0.5960894913583004,\n",
       "  'precision': 0.5536179567431674,\n",
       "  'recall': 0.5960894913583004,\n",
       "  'f1-score': 0.5569160961137316,\n",
       "  'macro_f1-score': 0.3300806882088053,\n",
       "  'balanced_accuracy': 0.33489385401965877,\n",
       "  'mcc': 0.40843403254931976,\n",
       "  'train_loss': 0.8258638953195716,\n",
       "  'total_seconds': 4073,\n",
       "  'total_time': '1 hrs 7 mins 53 secs'},\n",
       " 'microsoft/deberta-base cnn word2vec_eda': {'val_loss': 2.0908621195612884,\n",
       "  'val_accuracy': 0.5925880448735837,\n",
       "  'precision': 0.5635877754033418,\n",
       "  'recall': 0.5925880448735837,\n",
       "  'f1-score': 0.55670726127856,\n",
       "  'macro_f1-score': 0.32178395353003314,\n",
       "  'balanced_accuracy': 0.3347642816764455,\n",
       "  'mcc': 0.42888508012367704,\n",
       "  'train_loss': 1.0312953028847418,\n",
       "  'total_seconds': 3311,\n",
       "  'total_time': '0 hrs 55 mins 11 secs'},\n",
       " 'microsoft/deberta-base lstm word2vec_eda': {'val_loss': 2.787404582558609,\n",
       "  'val_accuracy': 0.4539326012539302,\n",
       "  'precision': 0.2867436304432348,\n",
       "  'recall': 0.4539326012539302,\n",
       "  'f1-score': 0.34138126396280677,\n",
       "  'macro_f1-score': 0.026233249079102426,\n",
       "  'balanced_accuracy': 0.04745716700530599,\n",
       "  'mcc': 0.13642573046380424,\n",
       "  'train_loss': 3.4645091849998395,\n",
       "  'total_seconds': 2113,\n",
       "  'total_time': '0 hrs 35 mins 13 secs'},\n",
       " 'microsoft/deberta-base bilstm word2vec_eda': {'val_loss': 2.379543211401963,\n",
       "  'val_accuracy': 0.5137254423173523,\n",
       "  'precision': 0.48977421624058054,\n",
       "  'recall': 0.5137254423173523,\n",
       "  'f1-score': 0.4875878659723705,\n",
       "  'macro_f1-score': 0.2141643039796169,\n",
       "  'balanced_accuracy': 0.23377836102008884,\n",
       "  'mcc': 0.33398580589150273,\n",
       "  'train_loss': 1.4245404418945502,\n",
       "  'total_seconds': 6004,\n",
       "  'total_time': '1 hrs 40 mins 4 secs'}}"
      ]
     },
     "execution_count": 5,
     "metadata": {},
     "output_type": "execute_result"
    }
   ],
   "source": [
    "all_experiment_result"
   ]
  }
 ],
 "metadata": {
  "kernelspec": {
   "display_name": "Python 3",
   "language": "python",
   "name": "python3"
  },
  "language_info": {
   "codemirror_mode": {
    "name": "ipython",
    "version": 3
   },
   "file_extension": ".py",
   "mimetype": "text/x-python",
   "name": "python",
   "nbconvert_exporter": "python",
   "pygments_lexer": "ipython3",
   "version": "3.10.0"
  }
 },
 "nbformat": 4,
 "nbformat_minor": 5
}
