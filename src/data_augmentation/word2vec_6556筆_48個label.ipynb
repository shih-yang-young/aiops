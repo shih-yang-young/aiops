{
 "cells": [
  {
   "cell_type": "code",
   "execution_count": 5,
   "id": "f22f4841-9a9d-4a63-b896-560594d666d8",
   "metadata": {},
   "outputs": [
    {
     "data": {
      "text/html": [
       "<div>\n",
       "<style scoped>\n",
       "    .dataframe tbody tr th:only-of-type {\n",
       "        vertical-align: middle;\n",
       "    }\n",
       "\n",
       "    .dataframe tbody tr th {\n",
       "        vertical-align: top;\n",
       "    }\n",
       "\n",
       "    .dataframe thead th {\n",
       "        text-align: right;\n",
       "    }\n",
       "</style>\n",
       "<table border=\"1\" class=\"dataframe\">\n",
       "  <thead>\n",
       "    <tr style=\"text-align: right;\">\n",
       "      <th></th>\n",
       "      <th>Inbound Message</th>\n",
       "      <th>Label</th>\n",
       "    </tr>\n",
       "  </thead>\n",
       "  <tbody>\n",
       "    <tr>\n",
       "      <th>0</th>\n",
       "      <td>login issue verified user details employee man...</td>\n",
       "      <td>0</td>\n",
       "    </tr>\n",
       "    <tr>\n",
       "      <th>1</th>\n",
       "      <td>outlook hello team meetings skype meetings etc...</td>\n",
       "      <td>0</td>\n",
       "    </tr>\n",
       "    <tr>\n",
       "      <th>2</th>\n",
       "      <td>cant log vpn cannot log vpn best</td>\n",
       "      <td>0</td>\n",
       "    </tr>\n",
       "    <tr>\n",
       "      <th>3</th>\n",
       "      <td>unable access tool page unable access tool page</td>\n",
       "      <td>0</td>\n",
       "    </tr>\n",
       "    <tr>\n",
       "      <th>4</th>\n",
       "      <td>skype error skype error</td>\n",
       "      <td>0</td>\n",
       "    </tr>\n",
       "    <tr>\n",
       "      <th>...</th>\n",
       "      <td>...</td>\n",
       "      <td>...</td>\n",
       "    </tr>\n",
       "    <tr>\n",
       "      <th>6551</th>\n",
       "      <td>emails coming mail good afternoon receiving em...</td>\n",
       "      <td>22</td>\n",
       "    </tr>\n",
       "    <tr>\n",
       "      <th>6552</th>\n",
       "      <td>telephony software issue telephony software issue</td>\n",
       "      <td>0</td>\n",
       "    </tr>\n",
       "    <tr>\n",
       "      <th>6553</th>\n",
       "      <td>vip windows password reset tifpdchb pedxruyf v...</td>\n",
       "      <td>0</td>\n",
       "    </tr>\n",
       "    <tr>\n",
       "      <th>6554</th>\n",
       "      <td>machine est funcionando unable access machine ...</td>\n",
       "      <td>42</td>\n",
       "    </tr>\n",
       "    <tr>\n",
       "      <th>6555</th>\n",
       "      <td>mehreren lassen sich verschiedene prgramdntyme...</td>\n",
       "      <td>47</td>\n",
       "    </tr>\n",
       "  </tbody>\n",
       "</table>\n",
       "<p>6556 rows × 2 columns</p>\n",
       "</div>"
      ],
      "text/plain": [
       "                                        Inbound Message  Label\n",
       "0     login issue verified user details employee man...      0\n",
       "1     outlook hello team meetings skype meetings etc...      0\n",
       "2                      cant log vpn cannot log vpn best      0\n",
       "3       unable access tool page unable access tool page      0\n",
       "4                               skype error skype error      0\n",
       "...                                                 ...    ...\n",
       "6551  emails coming mail good afternoon receiving em...     22\n",
       "6552  telephony software issue telephony software issue      0\n",
       "6553  vip windows password reset tifpdchb pedxruyf v...      0\n",
       "6554  machine est funcionando unable access machine ...     42\n",
       "6555  mehreren lassen sich verschiedene prgramdntyme...     47\n",
       "\n",
       "[6556 rows x 2 columns]"
      ]
     },
     "execution_count": 5,
     "metadata": {},
     "output_type": "execute_result"
    }
   ],
   "source": [
    "import pandas as pd\n",
    "data_path = \"../../data/6556_48_label.csv\"\n",
    "df = pd.read_csv(data_path)\n",
    "# df_label_0 = df[df[\"Label\"] == 0]\n",
    "# df_label_0_to_drop = df_label_0.sample(n=3000, random_state=42)\n",
    "# df = df.drop(df_label_0_to_drop.index)\n",
    "df"
   ]
  },
  {
   "cell_type": "code",
   "execution_count": 6,
   "id": "bf737873-4f1c-4588-913d-8f06b2777b20",
   "metadata": {},
   "outputs": [],
   "source": [
    "import sys\n",
    "import os\n",
    "sys.path.append(os.path.abspath('../ml_lib'))\n",
    "\n",
    "from config import *\n",
    "from experiment import run_kfold_experiment"
   ]
  },
  {
   "cell_type": "code",
   "execution_count": 7,
   "id": "a12b2613-aa9d-41c0-8f62-72210eaf8d7f",
   "metadata": {},
   "outputs": [],
   "source": [
    "messages, labels = df['Inbound Message'].tolist(), df['Label'].tolist()"
   ]
  },
  {
   "cell_type": "code",
   "execution_count": 8,
   "id": "38d4729f-f867-4cea-89f9-31f67e5ecced",
   "metadata": {},
   "outputs": [
    {
     "name": "stdout",
     "output_type": "stream",
     "text": [
      "▶ Running: bert-base-uncased + plain + word2vec\n",
      "tokenizer is bert-base-uncased\n",
      "Using device: cuda\n",
      "CUDA Available: True\n",
      "CUDA Device: NVIDIA GeForce RTX 5070 Ti\n",
      "Current GPU Memory Allocated: 1.33 GB\n",
      "Current GPU Memory Cached: 3.14 GB\n",
      "\n",
      "[Fold 1]\n",
      "🚀 Using Word2Vec for data augmentation + under-sampling\n",
      "🔻 Under-sampling label 0: 2471 → 2000\n",
      "🔧 Augmenting label 1: 21 → 200 (+179)\n",
      "🔧 Augmenting label 2: 64 → 200 (+136)\n",
      "🔧 Augmenting label 3: 24 → 200 (+176)\n",
      "🔧 Augmenting label 4: 191 → 200 (+9)\n",
      "🔧 Augmenting label 5: 113 → 200 (+87)\n",
      "🔧 Augmenting label 6: 93 → 200 (+107)\n",
      "🔧 Augmenting label 7: 30 → 200 (+170)\n",
      "🔧 Augmenting label 8: 68 → 200 (+132)\n",
      "🔧 Augmenting label 9: 30 → 200 (+170)\n",
      "🔧 Augmenting label 10: 67 → 200 (+133)\n",
      "🔧 Augmenting label 11: 169 → 200 (+31)\n",
      "🔧 Augmenting label 12: 189 → 200 (+11)\n",
      "🔧 Augmenting label 13: 29 → 200 (+171)\n",
      "🔧 Augmenting label 14: 22 → 200 (+178)\n",
      "🔧 Augmenting label 15: 25 → 200 (+175)\n",
      "🔧 Augmenting label 16: 19 → 200 (+181)\n",
      "🔧 Augmenting label 17: 183 → 200 (+17)\n",
      "🔧 Augmenting label 18: 92 → 200 (+108)\n",
      "🔧 Augmenting label 19: 44 → 200 (+156)\n",
      "🔧 Augmenting label 20: 13 → 200 (+187)\n",
      "🔧 Augmenting label 21: 35 → 200 (+165)\n",
      "🔧 Augmenting label 22: 76 → 200 (+124)\n",
      "🔧 Augmenting label 23: 158 → 200 (+42)\n",
      "🔧 Augmenting label 24: 13 → 200 (+187)\n",
      "🔧 Augmenting label 25: 44 → 200 (+156)\n",
      "🔧 Augmenting label 26: 84 → 200 (+116)\n",
      "🔧 Augmenting label 27: 48 → 200 (+152)\n",
      "🔧 Augmenting label 28: 11 → 200 (+189)\n",
      "🔧 Augmenting label 29: 13 → 200 (+187)\n",
      "🔧 Augmenting label 30: 11 → 200 (+189)\n",
      "🔧 Augmenting label 31: 75 → 200 (+125)\n",
      "🔧 Augmenting label 32: 36 → 200 (+164)\n",
      "🔧 Augmenting label 33: 32 → 200 (+168)\n",
      "🔧 Augmenting label 34: 29 → 200 (+171)\n",
      "🔧 Augmenting label 35: 11 → 200 (+189)\n",
      "🔧 Augmenting label 36: 22 → 200 (+178)\n",
      "🔧 Augmenting label 37: 16 → 200 (+184)\n",
      "🔧 Augmenting label 38: 33 → 200 (+167)\n",
      "🔧 Augmenting label 39: 10 → 200 (+190)\n",
      "🔧 Augmenting label 40: 9 → 200 (+191)\n",
      "🔧 Augmenting label 41: 57 → 200 (+143)\n",
      "🔧 Augmenting label 42: 19 → 200 (+181)\n",
      "🔧 Augmenting label 43: 8 → 200 (+192)\n",
      "🔧 Augmenting label 44: 54 → 200 (+146)\n",
      "🔧 Augmenting label 46: 61 → 200 (+139)\n",
      "🔧 Augmenting label 47: 80 → 200 (+120)\n",
      "Label distribution after resampling:\n",
      "  label 0: 2000\n",
      "  label 1: 200\n",
      "  label 2: 200\n",
      "  label 3: 200\n",
      "  label 4: 200\n",
      "  label 5: 200\n",
      "  label 6: 200\n",
      "  label 7: 200\n",
      "  label 8: 200\n",
      "  label 9: 200\n",
      "  label 10: 200\n",
      "  label 11: 200\n",
      "  label 12: 200\n",
      "  label 13: 200\n",
      "  label 14: 200\n",
      "  label 15: 200\n",
      "  label 16: 200\n",
      "  label 17: 200\n",
      "  label 18: 200\n",
      "  label 19: 200\n",
      "  label 20: 200\n",
      "  label 21: 200\n",
      "  label 22: 200\n",
      "  label 23: 200\n",
      "  label 24: 200\n",
      "  label 25: 200\n",
      "  label 26: 200\n",
      "  label 27: 200\n",
      "  label 28: 200\n",
      "  label 29: 200\n",
      "  label 30: 200\n",
      "  label 31: 200\n",
      "  label 32: 200\n",
      "  label 33: 200\n",
      "  label 34: 200\n",
      "  label 35: 200\n",
      "  label 36: 200\n",
      "  label 37: 200\n",
      "  label 38: 200\n",
      "  label 39: 200\n",
      "  label 40: 200\n",
      "  label 41: 200\n",
      "  label 42: 200\n",
      "  label 43: 200\n",
      "  label 44: 200\n",
      "  label 45: 242\n",
      "  label 46: 200\n",
      "  label 47: 200\n",
      "model is bert-base-uncased\n"
     ]
    },
    {
     "name": "stderr",
     "output_type": "stream",
     "text": [
      "Some weights of BertForSequenceClassification were not initialized from the model checkpoint at bert-base-uncased and are newly initialized: ['classifier.bias', 'classifier.weight']\n",
      "You should probably TRAIN this model on a down-stream task to be able to use it for predictions and inference.\n"
     ]
    },
    {
     "name": "stdout",
     "output_type": "stream",
     "text": [
      "Epoch 1/20\n"
     ]
    },
    {
     "name": "stderr",
     "output_type": "stream",
     "text": [
      "100%|██████████| 716/716 [01:00<00:00, 11.92it/s]\n"
     ]
    },
    {
     "name": "stdout",
     "output_type": "stream",
     "text": [
      "{'val_loss': 1.5710107429725368, 'val_accuracy': 0.5899390243902439, 'precision': 0.6174421444946829, 'recall': 0.5899390243902439, 'f1-score': 0.5663674357898998, 'macro_f1-score': 0.3350874601344243, 'balanced_accuracy': 0.38545119509860193, 'mcc': 0.4469490117414612, 'train_loss': 2.2442189476676493}\n",
      "Epoch 2/20\n"
     ]
    },
    {
     "name": "stderr",
     "output_type": "stream",
     "text": [
      "100%|██████████| 716/716 [01:00<00:00, 11.91it/s]\n"
     ]
    },
    {
     "name": "stdout",
     "output_type": "stream",
     "text": [
      "{'val_loss': 1.5082463469447158, 'val_accuracy': 0.6219512195121951, 'precision': 0.6481554703621012, 'recall': 0.6219512195121951, 'f1-score': 0.623542102806037, 'macro_f1-score': 0.42028708248893465, 'balanced_accuracy': 0.4606640031649604, 'mcc': 0.510822377673143, 'train_loss': 0.7627425674640433}\n",
      "Epoch 3/20\n"
     ]
    },
    {
     "name": "stderr",
     "output_type": "stream",
     "text": [
      "100%|██████████| 716/716 [01:00<00:00, 11.92it/s]\n"
     ]
    },
    {
     "name": "stdout",
     "output_type": "stream",
     "text": [
      "{'val_loss': 1.6398384959959402, 'val_accuracy': 0.6196646341463414, 'precision': 0.6294602202251992, 'recall': 0.6196646341463414, 'f1-score': 0.6072574222368732, 'macro_f1-score': 0.40224777582178933, 'balanced_accuracy': 0.3997934088701666, 'mcc': 0.4883827555812897, 'train_loss': 0.33347375729438644}\n",
      "Epoch 4/20\n"
     ]
    },
    {
     "name": "stderr",
     "output_type": "stream",
     "text": [
      "100%|██████████| 716/716 [01:00<00:00, 11.93it/s]\n"
     ]
    },
    {
     "name": "stdout",
     "output_type": "stream",
     "text": [
      "{'val_loss': 1.8135895107577487, 'val_accuracy': 0.6303353658536586, 'precision': 0.6416915874157557, 'recall': 0.6303353658536586, 'f1-score': 0.6188050065024366, 'macro_f1-score': 0.39638959679340235, 'balanced_accuracy': 0.40786338928110794, 'mcc': 0.5084516173490464, 'train_loss': 0.19209445746844458}\n",
      "Epoch 5/20\n"
     ]
    },
    {
     "name": "stderr",
     "output_type": "stream",
     "text": [
      "100%|██████████| 716/716 [01:00<00:00, 11.92it/s]\n"
     ]
    },
    {
     "name": "stdout",
     "output_type": "stream",
     "text": [
      "{'val_loss': 1.9319424385704644, 'val_accuracy': 0.6204268292682927, 'precision': 0.6413432072222844, 'recall': 0.6204268292682927, 'f1-score': 0.6197154361760677, 'macro_f1-score': 0.40032597572272827, 'balanced_accuracy': 0.41224779133604833, 'mcc': 0.5097728458385007, 'train_loss': 0.12881228670688585}\n",
      "Early stopping.\n",
      "\n",
      "[Fold 2]\n",
      "🚀 Using Word2Vec for data augmentation + under-sampling\n",
      "🔻 Under-sampling label 0: 2471 → 2000\n",
      "🔧 Augmenting label 1: 22 → 200 (+178)\n",
      "🔧 Augmenting label 2: 64 → 200 (+136)\n",
      "🔧 Augmenting label 3: 24 → 200 (+176)\n",
      "🔧 Augmenting label 4: 190 → 200 (+10)\n",
      "🔧 Augmenting label 5: 113 → 200 (+87)\n",
      "🔧 Augmenting label 6: 93 → 200 (+107)\n",
      "🔧 Augmenting label 7: 30 → 200 (+170)\n",
      "🔧 Augmenting label 8: 68 → 200 (+132)\n",
      "🔧 Augmenting label 9: 30 → 200 (+170)\n",
      "🔧 Augmenting label 10: 67 → 200 (+133)\n",
      "🔧 Augmenting label 11: 169 → 200 (+31)\n",
      "🔧 Augmenting label 12: 189 → 200 (+11)\n",
      "🔧 Augmenting label 13: 29 → 200 (+171)\n",
      "🔧 Augmenting label 14: 23 → 200 (+177)\n",
      "🔧 Augmenting label 15: 24 → 200 (+176)\n",
      "🔧 Augmenting label 16: 20 → 200 (+180)\n",
      "🔧 Augmenting label 17: 182 → 200 (+18)\n",
      "🔧 Augmenting label 18: 92 → 200 (+108)\n",
      "🔧 Augmenting label 19: 44 → 200 (+156)\n",
      "🔧 Augmenting label 20: 13 → 200 (+187)\n",
      "🔧 Augmenting label 21: 36 → 200 (+164)\n",
      "🔧 Augmenting label 22: 76 → 200 (+124)\n",
      "🔧 Augmenting label 23: 157 → 200 (+43)\n",
      "🔧 Augmenting label 24: 12 → 200 (+188)\n",
      "🔧 Augmenting label 25: 44 → 200 (+156)\n",
      "🔧 Augmenting label 26: 84 → 200 (+116)\n",
      "🔧 Augmenting label 27: 48 → 200 (+152)\n",
      "🔧 Augmenting label 28: 12 → 200 (+188)\n",
      "🔧 Augmenting label 29: 12 → 200 (+188)\n",
      "🔧 Augmenting label 30: 12 → 200 (+188)\n",
      "🔧 Augmenting label 31: 75 → 200 (+125)\n",
      "🔧 Augmenting label 32: 36 → 200 (+164)\n",
      "🔧 Augmenting label 33: 31 → 200 (+169)\n",
      "🔧 Augmenting label 34: 29 → 200 (+171)\n",
      "🔧 Augmenting label 35: 12 → 200 (+188)\n",
      "🔧 Augmenting label 36: 21 → 200 (+179)\n",
      "🔧 Augmenting label 37: 16 → 200 (+184)\n",
      "🔧 Augmenting label 38: 33 → 200 (+167)\n",
      "🔧 Augmenting label 39: 11 → 200 (+189)\n",
      "🔧 Augmenting label 40: 8 → 200 (+192)\n",
      "🔧 Augmenting label 41: 57 → 200 (+143)\n",
      "🔧 Augmenting label 42: 19 → 200 (+181)\n",
      "🔧 Augmenting label 43: 9 → 200 (+191)\n",
      "🔧 Augmenting label 44: 54 → 200 (+146)\n",
      "🔧 Augmenting label 46: 62 → 200 (+138)\n",
      "🔧 Augmenting label 47: 80 → 200 (+120)\n",
      "Label distribution after resampling:\n",
      "  label 0: 2000\n",
      "  label 1: 200\n",
      "  label 2: 200\n",
      "  label 3: 200\n",
      "  label 4: 200\n",
      "  label 5: 200\n",
      "  label 6: 200\n",
      "  label 7: 200\n",
      "  label 8: 200\n",
      "  label 9: 200\n",
      "  label 10: 200\n",
      "  label 11: 200\n",
      "  label 12: 200\n",
      "  label 13: 200\n",
      "  label 14: 200\n",
      "  label 15: 200\n",
      "  label 16: 200\n",
      "  label 17: 200\n",
      "  label 18: 200\n",
      "  label 19: 200\n",
      "  label 20: 200\n",
      "  label 21: 200\n",
      "  label 22: 200\n",
      "  label 23: 200\n",
      "  label 24: 200\n",
      "  label 25: 200\n",
      "  label 26: 200\n",
      "  label 27: 200\n",
      "  label 28: 200\n",
      "  label 29: 200\n",
      "  label 30: 200\n",
      "  label 31: 200\n",
      "  label 32: 200\n",
      "  label 33: 200\n",
      "  label 34: 200\n",
      "  label 35: 200\n",
      "  label 36: 200\n",
      "  label 37: 200\n",
      "  label 38: 200\n",
      "  label 39: 200\n",
      "  label 40: 200\n",
      "  label 41: 200\n",
      "  label 42: 200\n",
      "  label 43: 200\n",
      "  label 44: 200\n",
      "  label 45: 242\n",
      "  label 46: 200\n",
      "  label 47: 200\n",
      "model is bert-base-uncased\n"
     ]
    },
    {
     "name": "stderr",
     "output_type": "stream",
     "text": [
      "Some weights of BertForSequenceClassification were not initialized from the model checkpoint at bert-base-uncased and are newly initialized: ['classifier.bias', 'classifier.weight']\n",
      "You should probably TRAIN this model on a down-stream task to be able to use it for predictions and inference.\n"
     ]
    },
    {
     "name": "stdout",
     "output_type": "stream",
     "text": [
      "Epoch 1/20\n"
     ]
    },
    {
     "name": "stderr",
     "output_type": "stream",
     "text": [
      "100%|██████████| 716/716 [00:59<00:00, 11.94it/s]\n"
     ]
    },
    {
     "name": "stdout",
     "output_type": "stream",
     "text": [
      "{'val_loss': 1.4912772135036747, 'val_accuracy': 0.597254004576659, 'precision': 0.5697917061839717, 'recall': 0.597254004576659, 'f1-score': 0.5508388007011621, 'macro_f1-score': 0.3046113844964362, 'balanced_accuracy': 0.33807755425255154, 'mcc': 0.4396791758154664, 'train_loss': 2.3740743132276907}\n",
      "Epoch 2/20\n"
     ]
    },
    {
     "name": "stderr",
     "output_type": "stream",
     "text": [
      "100%|██████████| 716/716 [01:00<00:00, 11.92it/s]\n"
     ]
    },
    {
     "name": "stdout",
     "output_type": "stream",
     "text": [
      "{'val_loss': 1.4784229524978778, 'val_accuracy': 0.6064073226544623, 'precision': 0.6318343997885629, 'recall': 0.6064073226544623, 'f1-score': 0.6024009143450257, 'macro_f1-score': 0.3503478156639976, 'balanced_accuracy': 0.3975119144264337, 'mcc': 0.49122601301595836, 'train_loss': 0.8242524332215999}\n",
      "Epoch 3/20\n"
     ]
    },
    {
     "name": "stderr",
     "output_type": "stream",
     "text": [
      "100%|██████████| 716/716 [01:00<00:00, 11.93it/s]\n"
     ]
    },
    {
     "name": "stdout",
     "output_type": "stream",
     "text": [
      "{'val_loss': 1.5222425359051401, 'val_accuracy': 0.6468344774980931, 'precision': 0.6265999335145922, 'recall': 0.6468344774980931, 'f1-score': 0.6134694714337661, 'macro_f1-score': 0.3747201390162698, 'balanced_accuracy': 0.3547473431989825, 'mcc': 0.5151967310055978, 'train_loss': 0.35929510387586816}\n",
      "Epoch 4/20\n"
     ]
    },
    {
     "name": "stderr",
     "output_type": "stream",
     "text": [
      "100%|██████████| 716/716 [01:00<00:00, 11.92it/s]\n"
     ]
    },
    {
     "name": "stdout",
     "output_type": "stream",
     "text": [
      "{'val_loss': 1.734793492206713, 'val_accuracy': 0.6285278413424866, 'precision': 0.6439332670778102, 'recall': 0.6285278413424866, 'f1-score': 0.6237604200925713, 'macro_f1-score': 0.37996643075755493, 'balanced_accuracy': 0.397903183633995, 'mcc': 0.5119106929498368, 'train_loss': 0.20470397941138616}\n",
      "Epoch 5/20\n"
     ]
    },
    {
     "name": "stderr",
     "output_type": "stream",
     "text": [
      "100%|██████████| 716/716 [00:59<00:00, 11.94it/s]\n"
     ]
    },
    {
     "name": "stdout",
     "output_type": "stream",
     "text": [
      "{'val_loss': 1.6773439529465466, 'val_accuracy': 0.6430205949656751, 'precision': 0.6489799771238534, 'recall': 0.6430205949656751, 'f1-score': 0.635209342615681, 'macro_f1-score': 0.4029417215012083, 'balanced_accuracy': 0.41722183166552734, 'mcc': 0.5357177140074585, 'train_loss': 0.1585611219338386}\n",
      "Epoch 6/20\n"
     ]
    },
    {
     "name": "stderr",
     "output_type": "stream",
     "text": [
      "100%|██████████| 716/716 [00:59<00:00, 11.93it/s]\n"
     ]
    },
    {
     "name": "stdout",
     "output_type": "stream",
     "text": [
      "{'val_loss': 1.8376124493959474, 'val_accuracy': 0.6575133485888635, 'precision': 0.6420174265785292, 'recall': 0.6575133485888635, 'f1-score': 0.6398124309768397, 'macro_f1-score': 0.42165395632454755, 'balanced_accuracy': 0.424577145313694, 'mcc': 0.5425736375722661, 'train_loss': 0.10733334111002946}\n",
      "Epoch 7/20\n"
     ]
    },
    {
     "name": "stderr",
     "output_type": "stream",
     "text": [
      "100%|██████████| 716/716 [00:59<00:00, 11.94it/s]\n"
     ]
    },
    {
     "name": "stdout",
     "output_type": "stream",
     "text": [
      "{'val_loss': 1.8790294860557812, 'val_accuracy': 0.6483600305110603, 'precision': 0.6451239277484859, 'recall': 0.6483600305110603, 'f1-score': 0.6342936589583352, 'macro_f1-score': 0.39738594246933084, 'balanced_accuracy': 0.39199227497003686, 'mcc': 0.529424558376303, 'train_loss': 0.08817838739724726}\n",
      "Epoch 8/20\n"
     ]
    },
    {
     "name": "stderr",
     "output_type": "stream",
     "text": [
      "100%|██████████| 716/716 [01:00<00:00, 11.93it/s]\n"
     ]
    },
    {
     "name": "stdout",
     "output_type": "stream",
     "text": [
      "{'val_loss': 1.8725463366363106, 'val_accuracy': 0.6552250190694127, 'precision': 0.6505745407973553, 'recall': 0.6552250190694127, 'f1-score': 0.6468913309125626, 'macro_f1-score': 0.4116791791631192, 'balanced_accuracy': 0.4291470292964923, 'mcc': 0.5503289290140084, 'train_loss': 0.0939010904338367}\n",
      "Epoch 9/20\n"
     ]
    },
    {
     "name": "stderr",
     "output_type": "stream",
     "text": [
      "100%|██████████| 716/716 [01:00<00:00, 11.93it/s]\n"
     ]
    },
    {
     "name": "stdout",
     "output_type": "stream",
     "text": [
      "{'val_loss': 1.8795870026437247, 'val_accuracy': 0.6628527841342486, 'precision': 0.6585718056280554, 'recall': 0.6628527841342486, 'f1-score': 0.6485847901951683, 'macro_f1-score': 0.42565424366618515, 'balanced_accuracy': 0.4235938730074182, 'mcc': 0.5508769516709856, 'train_loss': 0.09271989904546345}\n",
      "Epoch 10/20\n"
     ]
    },
    {
     "name": "stderr",
     "output_type": "stream",
     "text": [
      "100%|██████████| 716/716 [01:00<00:00, 11.93it/s]\n"
     ]
    },
    {
     "name": "stdout",
     "output_type": "stream",
     "text": [
      "{'val_loss': 2.099443991009782, 'val_accuracy': 0.6086956521739131, 'precision': 0.6342182742058176, 'recall': 0.6086956521739131, 'f1-score': 0.6099898178066191, 'macro_f1-score': 0.3957981245973998, 'balanced_accuracy': 0.43056163767664063, 'mcc': 0.5058321478491087, 'train_loss': 0.06518093298817594}\n",
      "Epoch 11/20\n"
     ]
    },
    {
     "name": "stderr",
     "output_type": "stream",
     "text": [
      "100%|██████████| 716/716 [00:59<00:00, 11.94it/s]\n"
     ]
    },
    {
     "name": "stdout",
     "output_type": "stream",
     "text": [
      "{'val_loss': 2.1356676024634664, 'val_accuracy': 0.6262395118230358, 'precision': 0.6483242694532285, 'recall': 0.6262395118230358, 'f1-score': 0.6270550667351869, 'macro_f1-score': 0.3992667596980968, 'balanced_accuracy': 0.42389313269333445, 'mcc': 0.5221380421090744, 'train_loss': 0.06257790563886273}\n",
      "Epoch 12/20\n"
     ]
    },
    {
     "name": "stderr",
     "output_type": "stream",
     "text": [
      "100%|██████████| 716/716 [00:59<00:00, 11.94it/s]\n"
     ]
    },
    {
     "name": "stdout",
     "output_type": "stream",
     "text": [
      "{'val_loss': 2.090784457398624, 'val_accuracy': 0.6498855835240275, 'precision': 0.6587398916951653, 'recall': 0.6498855835240275, 'f1-score': 0.641036178439325, 'macro_f1-score': 0.41256995626580406, 'balanced_accuracy': 0.420650725542959, 'mcc': 0.5422817758891283, 'train_loss': 0.056046703453637485}\n",
      "Early stopping.\n",
      "\n",
      "[Fold 3]\n",
      "🚀 Using Word2Vec for data augmentation + under-sampling\n",
      "🔻 Under-sampling label 0: 2471 → 2000\n",
      "🔧 Augmenting label 1: 22 → 200 (+178)\n",
      "🔧 Augmenting label 2: 64 → 200 (+136)\n",
      "🔧 Augmenting label 3: 24 → 200 (+176)\n",
      "🔧 Augmenting label 4: 190 → 200 (+10)\n",
      "🔧 Augmenting label 5: 113 → 200 (+87)\n",
      "🔧 Augmenting label 6: 93 → 200 (+107)\n",
      "🔧 Augmenting label 7: 30 → 200 (+170)\n",
      "🔧 Augmenting label 8: 68 → 200 (+132)\n",
      "🔧 Augmenting label 9: 30 → 200 (+170)\n",
      "🔧 Augmenting label 10: 67 → 200 (+133)\n",
      "🔧 Augmenting label 11: 169 → 200 (+31)\n",
      "🔧 Augmenting label 12: 190 → 200 (+10)\n",
      "🔧 Augmenting label 13: 28 → 200 (+172)\n",
      "🔧 Augmenting label 14: 23 → 200 (+177)\n",
      "🔧 Augmenting label 15: 25 → 200 (+175)\n",
      "🔧 Augmenting label 16: 19 → 200 (+181)\n",
      "🔧 Augmenting label 17: 182 → 200 (+18)\n",
      "🔧 Augmenting label 18: 92 → 200 (+108)\n",
      "🔧 Augmenting label 19: 44 → 200 (+156)\n",
      "🔧 Augmenting label 20: 14 → 200 (+186)\n",
      "🔧 Augmenting label 21: 35 → 200 (+165)\n",
      "🔧 Augmenting label 22: 76 → 200 (+124)\n",
      "🔧 Augmenting label 23: 157 → 200 (+43)\n",
      "🔧 Augmenting label 24: 13 → 200 (+187)\n",
      "🔧 Augmenting label 25: 44 → 200 (+156)\n",
      "🔧 Augmenting label 26: 84 → 200 (+116)\n",
      "🔧 Augmenting label 27: 48 → 200 (+152)\n",
      "🔧 Augmenting label 28: 11 → 200 (+189)\n",
      "🔧 Augmenting label 29: 13 → 200 (+187)\n",
      "🔧 Augmenting label 30: 11 → 200 (+189)\n",
      "🔧 Augmenting label 31: 76 → 200 (+124)\n",
      "🔧 Augmenting label 32: 36 → 200 (+164)\n",
      "🔧 Augmenting label 33: 31 → 200 (+169)\n",
      "🔧 Augmenting label 34: 30 → 200 (+170)\n",
      "🔧 Augmenting label 35: 11 → 200 (+189)\n",
      "🔧 Augmenting label 36: 21 → 200 (+179)\n",
      "🔧 Augmenting label 37: 16 → 200 (+184)\n",
      "🔧 Augmenting label 38: 32 → 200 (+168)\n",
      "🔧 Augmenting label 39: 11 → 200 (+189)\n",
      "🔧 Augmenting label 40: 9 → 200 (+191)\n",
      "🔧 Augmenting label 41: 57 → 200 (+143)\n",
      "🔧 Augmenting label 42: 18 → 200 (+182)\n",
      "🔧 Augmenting label 43: 9 → 200 (+191)\n",
      "🔧 Augmenting label 44: 55 → 200 (+145)\n",
      "🔧 Augmenting label 46: 62 → 200 (+138)\n",
      "🔧 Augmenting label 47: 80 → 200 (+120)\n",
      "Label distribution after resampling:\n",
      "  label 0: 2000\n",
      "  label 1: 200\n",
      "  label 2: 200\n",
      "  label 3: 200\n",
      "  label 4: 200\n",
      "  label 5: 200\n",
      "  label 6: 200\n",
      "  label 7: 200\n",
      "  label 8: 200\n",
      "  label 9: 200\n",
      "  label 10: 200\n",
      "  label 11: 200\n",
      "  label 12: 200\n",
      "  label 13: 200\n",
      "  label 14: 200\n",
      "  label 15: 200\n",
      "  label 16: 200\n",
      "  label 17: 200\n",
      "  label 18: 200\n",
      "  label 19: 200\n",
      "  label 20: 200\n",
      "  label 21: 200\n",
      "  label 22: 200\n",
      "  label 23: 200\n",
      "  label 24: 200\n",
      "  label 25: 200\n",
      "  label 26: 200\n",
      "  label 27: 200\n",
      "  label 28: 200\n",
      "  label 29: 200\n",
      "  label 30: 200\n",
      "  label 31: 200\n",
      "  label 32: 200\n",
      "  label 33: 200\n",
      "  label 34: 200\n",
      "  label 35: 200\n",
      "  label 36: 200\n",
      "  label 37: 200\n",
      "  label 38: 200\n",
      "  label 39: 200\n",
      "  label 40: 200\n",
      "  label 41: 200\n",
      "  label 42: 200\n",
      "  label 43: 200\n",
      "  label 44: 200\n",
      "  label 45: 241\n",
      "  label 46: 200\n",
      "  label 47: 200\n",
      "model is bert-base-uncased\n"
     ]
    },
    {
     "name": "stderr",
     "output_type": "stream",
     "text": [
      "Some weights of BertForSequenceClassification were not initialized from the model checkpoint at bert-base-uncased and are newly initialized: ['classifier.bias', 'classifier.weight']\n",
      "You should probably TRAIN this model on a down-stream task to be able to use it for predictions and inference.\n"
     ]
    },
    {
     "name": "stdout",
     "output_type": "stream",
     "text": [
      "Epoch 1/20\n"
     ]
    },
    {
     "name": "stderr",
     "output_type": "stream",
     "text": [
      "100%|██████████| 716/716 [01:00<00:00, 11.93it/s]\n"
     ]
    },
    {
     "name": "stdout",
     "output_type": "stream",
     "text": [
      "{'val_loss': 1.554387927418802, 'val_accuracy': 0.5957284515636918, 'precision': 0.6057044064766819, 'recall': 0.5957284515636918, 'f1-score': 0.5618811834684335, 'macro_f1-score': 0.3718658733383114, 'balanced_accuracy': 0.38263727718960583, 'mcc': 0.4461220973932273, 'train_loss': 2.357802517337506}\n",
      "Epoch 2/20\n"
     ]
    },
    {
     "name": "stderr",
     "output_type": "stream",
     "text": [
      "100%|██████████| 716/716 [01:00<00:00, 11.93it/s]\n"
     ]
    },
    {
     "name": "stdout",
     "output_type": "stream",
     "text": [
      "{'val_loss': 1.5209142089616963, 'val_accuracy': 0.6079328756674295, 'precision': 0.6183624115933674, 'recall': 0.6079328756674295, 'f1-score': 0.595723514109198, 'macro_f1-score': 0.3678919914421666, 'balanced_accuracy': 0.39352824899377725, 'mcc': 0.4780019921946378, 'train_loss': 0.7885268452530466}\n",
      "Epoch 3/20\n"
     ]
    },
    {
     "name": "stderr",
     "output_type": "stream",
     "text": [
      "100%|██████████| 716/716 [01:00<00:00, 11.92it/s]\n"
     ]
    },
    {
     "name": "stdout",
     "output_type": "stream",
     "text": [
      "{'val_loss': 1.5744964076978405, 'val_accuracy': 0.6460717009916095, 'precision': 0.6347432180362143, 'recall': 0.6460717009916095, 'f1-score': 0.6221402615686658, 'macro_f1-score': 0.39063980552037325, 'balanced_accuracy': 0.37540704256023183, 'mcc': 0.5178466822937585, 'train_loss': 0.3397650113745525}\n",
      "Epoch 4/20\n"
     ]
    },
    {
     "name": "stderr",
     "output_type": "stream",
     "text": [
      "100%|██████████| 716/716 [00:59<00:00, 11.94it/s]\n"
     ]
    },
    {
     "name": "stdout",
     "output_type": "stream",
     "text": [
      "{'val_loss': 1.8197860790462028, 'val_accuracy': 0.6033562166285278, 'precision': 0.6420605524025857, 'recall': 0.6033562166285278, 'f1-score': 0.6117750105779757, 'macro_f1-score': 0.40510335456252816, 'balanced_accuracy': 0.41910067226872655, 'mcc': 0.49653600937800974, 'train_loss': 0.19169741410075286}\n",
      "Epoch 5/20\n"
     ]
    },
    {
     "name": "stderr",
     "output_type": "stream",
     "text": [
      "100%|██████████| 716/716 [01:00<00:00, 11.93it/s]\n"
     ]
    },
    {
     "name": "stdout",
     "output_type": "stream",
     "text": [
      "{'val_loss': 1.8167463937183705, 'val_accuracy': 0.6475972540045767, 'precision': 0.6371410707243299, 'recall': 0.6475972540045767, 'f1-score': 0.6339012510065525, 'macro_f1-score': 0.41012261858490934, 'balanced_accuracy': 0.3989760399065014, 'mcc': 0.5294168684051144, 'train_loss': 0.1231916483111846}\n",
      "Epoch 6/20\n"
     ]
    },
    {
     "name": "stderr",
     "output_type": "stream",
     "text": [
      "100%|██████████| 716/716 [00:59<00:00, 11.94it/s]\n"
     ]
    },
    {
     "name": "stdout",
     "output_type": "stream",
     "text": [
      "{'val_loss': 1.9179813916363366, 'val_accuracy': 0.6414950419527079, 'precision': 0.6265385377497076, 'recall': 0.6414950419527079, 'f1-score': 0.6197370493079343, 'macro_f1-score': 0.38809933934915425, 'balanced_accuracy': 0.35476599108093493, 'mcc': 0.5109636009638642, 'train_loss': 0.10512344896280879}\n",
      "Epoch 7/20\n"
     ]
    },
    {
     "name": "stderr",
     "output_type": "stream",
     "text": [
      "100%|██████████| 716/716 [01:00<00:00, 11.93it/s]\n"
     ]
    },
    {
     "name": "stdout",
     "output_type": "stream",
     "text": [
      "{'val_loss': 2.0814133373702446, 'val_accuracy': 0.6376811594202898, 'precision': 0.6397649595376957, 'recall': 0.6376811594202898, 'f1-score': 0.6324353658559975, 'macro_f1-score': 0.4053857871658047, 'balanced_accuracy': 0.3892113850648961, 'mcc': 0.5204136710911023, 'train_loss': 0.08256354708713609}\n",
      "Epoch 8/20\n"
     ]
    },
    {
     "name": "stderr",
     "output_type": "stream",
     "text": [
      "100%|██████████| 716/716 [01:00<00:00, 11.93it/s]\n"
     ]
    },
    {
     "name": "stdout",
     "output_type": "stream",
     "text": [
      "{'val_loss': 2.141844984961719, 'val_accuracy': 0.6048817696414951, 'precision': 0.6083523216833823, 'recall': 0.6048817696414951, 'f1-score': 0.598682971744892, 'macro_f1-score': 0.36660840270534023, 'balanced_accuracy': 0.3733598779868202, 'mcc': 0.4860017086716136, 'train_loss': 0.08578314770802636}\n",
      "Early stopping.\n",
      "\n",
      "[Fold 4]\n",
      "🚀 Using Word2Vec for data augmentation + under-sampling\n",
      "🔻 Under-sampling label 0: 2471 → 2000\n",
      "🔧 Augmenting label 1: 22 → 200 (+178)\n",
      "🔧 Augmenting label 2: 64 → 200 (+136)\n",
      "🔧 Augmenting label 3: 24 → 200 (+176)\n",
      "🔧 Augmenting label 4: 190 → 200 (+10)\n",
      "🔧 Augmenting label 5: 113 → 200 (+87)\n",
      "🔧 Augmenting label 6: 93 → 200 (+107)\n",
      "🔧 Augmenting label 7: 31 → 200 (+169)\n",
      "🔧 Augmenting label 8: 68 → 200 (+132)\n",
      "🔧 Augmenting label 9: 29 → 200 (+171)\n",
      "🔧 Augmenting label 10: 67 → 200 (+133)\n",
      "🔧 Augmenting label 11: 169 → 200 (+31)\n",
      "🔧 Augmenting label 12: 190 → 200 (+10)\n",
      "🔧 Augmenting label 13: 29 → 200 (+171)\n",
      "🔧 Augmenting label 14: 22 → 200 (+178)\n",
      "🔧 Augmenting label 15: 25 → 200 (+175)\n",
      "🔧 Augmenting label 16: 19 → 200 (+181)\n",
      "🔧 Augmenting label 17: 182 → 200 (+18)\n",
      "🔧 Augmenting label 18: 92 → 200 (+108)\n",
      "🔧 Augmenting label 19: 44 → 200 (+156)\n",
      "🔧 Augmenting label 20: 14 → 200 (+186)\n",
      "🔧 Augmenting label 21: 35 → 200 (+165)\n",
      "🔧 Augmenting label 22: 76 → 200 (+124)\n",
      "🔧 Augmenting label 23: 158 → 200 (+42)\n",
      "🔧 Augmenting label 24: 13 → 200 (+187)\n",
      "🔧 Augmenting label 25: 44 → 200 (+156)\n",
      "🔧 Augmenting label 26: 84 → 200 (+116)\n",
      "🔧 Augmenting label 27: 48 → 200 (+152)\n",
      "🔧 Augmenting label 28: 11 → 200 (+189)\n",
      "🔧 Augmenting label 29: 13 → 200 (+187)\n",
      "🔧 Augmenting label 30: 11 → 200 (+189)\n",
      "🔧 Augmenting label 31: 75 → 200 (+125)\n",
      "🔧 Augmenting label 32: 36 → 200 (+164)\n",
      "🔧 Augmenting label 33: 31 → 200 (+169)\n",
      "🔧 Augmenting label 34: 30 → 200 (+170)\n",
      "🔧 Augmenting label 35: 11 → 200 (+189)\n",
      "🔧 Augmenting label 36: 22 → 200 (+178)\n",
      "🔧 Augmenting label 37: 16 → 200 (+184)\n",
      "🔧 Augmenting label 38: 33 → 200 (+167)\n",
      "🔧 Augmenting label 39: 10 → 200 (+190)\n",
      "🔧 Augmenting label 40: 9 → 200 (+191)\n",
      "🔧 Augmenting label 41: 56 → 200 (+144)\n",
      "🔧 Augmenting label 42: 18 → 200 (+182)\n",
      "🔧 Augmenting label 43: 9 → 200 (+191)\n",
      "🔧 Augmenting label 44: 55 → 200 (+145)\n",
      "🔧 Augmenting label 46: 62 → 200 (+138)\n",
      "🔧 Augmenting label 47: 80 → 200 (+120)\n",
      "Label distribution after resampling:\n",
      "  label 0: 2000\n",
      "  label 1: 200\n",
      "  label 2: 200\n",
      "  label 3: 200\n",
      "  label 4: 200\n",
      "  label 5: 200\n",
      "  label 6: 200\n",
      "  label 7: 200\n",
      "  label 8: 200\n",
      "  label 9: 200\n",
      "  label 10: 200\n",
      "  label 11: 200\n",
      "  label 12: 200\n",
      "  label 13: 200\n",
      "  label 14: 200\n",
      "  label 15: 200\n",
      "  label 16: 200\n",
      "  label 17: 200\n",
      "  label 18: 200\n",
      "  label 19: 200\n",
      "  label 20: 200\n",
      "  label 21: 200\n",
      "  label 22: 200\n",
      "  label 23: 200\n",
      "  label 24: 200\n",
      "  label 25: 200\n",
      "  label 26: 200\n",
      "  label 27: 200\n",
      "  label 28: 200\n",
      "  label 29: 200\n",
      "  label 30: 200\n",
      "  label 31: 200\n",
      "  label 32: 200\n",
      "  label 33: 200\n",
      "  label 34: 200\n",
      "  label 35: 200\n",
      "  label 36: 200\n",
      "  label 37: 200\n",
      "  label 38: 200\n",
      "  label 39: 200\n",
      "  label 40: 200\n",
      "  label 41: 200\n",
      "  label 42: 200\n",
      "  label 43: 200\n",
      "  label 44: 200\n",
      "  label 45: 241\n",
      "  label 46: 200\n",
      "  label 47: 200\n",
      "model is bert-base-uncased\n"
     ]
    },
    {
     "name": "stderr",
     "output_type": "stream",
     "text": [
      "Some weights of BertForSequenceClassification were not initialized from the model checkpoint at bert-base-uncased and are newly initialized: ['classifier.bias', 'classifier.weight']\n",
      "You should probably TRAIN this model on a down-stream task to be able to use it for predictions and inference.\n"
     ]
    },
    {
     "name": "stdout",
     "output_type": "stream",
     "text": [
      "Epoch 1/20\n"
     ]
    },
    {
     "name": "stderr",
     "output_type": "stream",
     "text": [
      "100%|██████████| 716/716 [01:00<00:00, 11.91it/s]\n"
     ]
    },
    {
     "name": "stdout",
     "output_type": "stream",
     "text": [
      "{'val_loss': 1.6087560308415716, 'val_accuracy': 0.5804729214340199, 'precision': 0.5937168591641162, 'recall': 0.5804729214340199, 'f1-score': 0.5567906883681735, 'macro_f1-score': 0.3254335408406231, 'balanced_accuracy': 0.3831182966403759, 'mcc': 0.43593732562131404, 'train_loss': 2.4899131664017724}\n",
      "Epoch 2/20\n"
     ]
    },
    {
     "name": "stderr",
     "output_type": "stream",
     "text": [
      "100%|██████████| 716/716 [00:59<00:00, 11.94it/s]\n"
     ]
    },
    {
     "name": "stdout",
     "output_type": "stream",
     "text": [
      "{'val_loss': 1.4474032508527361, 'val_accuracy': 0.6361556064073226, 'precision': 0.6624949954553868, 'recall': 0.6361556064073226, 'f1-score': 0.6082750582290349, 'macro_f1-score': 0.38074639813543776, 'balanced_accuracy': 0.37130031525833784, 'mcc': 0.5014779285852357, 'train_loss': 0.9299375559281371}\n",
      "Epoch 3/20\n"
     ]
    },
    {
     "name": "stderr",
     "output_type": "stream",
     "text": [
      "100%|██████████| 716/716 [01:00<00:00, 11.93it/s]\n"
     ]
    },
    {
     "name": "stdout",
     "output_type": "stream",
     "text": [
      "{'val_loss': 1.494059454195383, 'val_accuracy': 0.6491228070175439, 'precision': 0.6349252161089001, 'recall': 0.6491228070175439, 'f1-score': 0.6259277776023618, 'macro_f1-score': 0.4033159293010781, 'balanced_accuracy': 0.3963120102081203, 'mcc': 0.5266672278965172, 'train_loss': 0.39161549472411333}\n",
      "Epoch 4/20\n"
     ]
    },
    {
     "name": "stderr",
     "output_type": "stream",
     "text": [
      "100%|██████████| 716/716 [01:00<00:00, 11.93it/s]\n"
     ]
    },
    {
     "name": "stdout",
     "output_type": "stream",
     "text": [
      "{'val_loss': 1.7334279728735364, 'val_accuracy': 0.6346300533943554, 'precision': 0.6326981892339807, 'recall': 0.6346300533943554, 'f1-score': 0.6242483157484859, 'macro_f1-score': 0.39535727804568643, 'balanced_accuracy': 0.38244408274646524, 'mcc': 0.5168852873979903, 'train_loss': 0.22000218572240718}\n",
      "Epoch 5/20\n"
     ]
    },
    {
     "name": "stderr",
     "output_type": "stream",
     "text": [
      "100%|██████████| 716/716 [01:00<00:00, 11.93it/s]\n"
     ]
    },
    {
     "name": "stdout",
     "output_type": "stream",
     "text": [
      "{'val_loss': 1.8866969681367642, 'val_accuracy': 0.6338672768878718, 'precision': 0.6260469232676893, 'recall': 0.6338672768878718, 'f1-score': 0.6196663537198536, 'macro_f1-score': 0.3758750943755687, 'balanced_accuracy': 0.3716845163272981, 'mcc': 0.5101220260869849, 'train_loss': 0.15545933684932495}\n",
      "Epoch 6/20\n"
     ]
    },
    {
     "name": "stderr",
     "output_type": "stream",
     "text": [
      "100%|██████████| 716/716 [00:59<00:00, 11.93it/s]\n"
     ]
    },
    {
     "name": "stdout",
     "output_type": "stream",
     "text": [
      "{'val_loss': 1.8608167180564346, 'val_accuracy': 0.6422578184591915, 'precision': 0.6496287864034612, 'recall': 0.6422578184591915, 'f1-score': 0.6345965069250518, 'macro_f1-score': 0.4140732462475956, 'balanced_accuracy': 0.4121538269952114, 'mcc': 0.5293045677572784, 'train_loss': 0.11906421432719051}\n",
      "Epoch 7/20\n"
     ]
    },
    {
     "name": "stderr",
     "output_type": "stream",
     "text": [
      "100%|██████████| 716/716 [01:00<00:00, 11.92it/s]\n"
     ]
    },
    {
     "name": "stdout",
     "output_type": "stream",
     "text": [
      "{'val_loss': 2.031554044383328, 'val_accuracy': 0.6460717009916095, 'precision': 0.6351145023924887, 'recall': 0.6460717009916095, 'f1-score': 0.6295931978669171, 'macro_f1-score': 0.38843156777927784, 'balanced_accuracy': 0.38353729564230205, 'mcc': 0.5267519187879685, 'train_loss': 0.08867543155597991}\n",
      "Epoch 8/20\n"
     ]
    },
    {
     "name": "stderr",
     "output_type": "stream",
     "text": [
      "100%|██████████| 716/716 [01:00<00:00, 11.93it/s]\n"
     ]
    },
    {
     "name": "stdout",
     "output_type": "stream",
     "text": [
      "{'val_loss': 2.0116182112748304, 'val_accuracy': 0.6544622425629291, 'precision': 0.637007597340918, 'recall': 0.6544622425629291, 'f1-score': 0.634621829857777, 'macro_f1-score': 0.3877586982594236, 'balanced_accuracy': 0.3837782554705081, 'mcc': 0.5350222152696932, 'train_loss': 0.08022155920167157}\n",
      "Epoch 9/20\n"
     ]
    },
    {
     "name": "stderr",
     "output_type": "stream",
     "text": [
      "100%|██████████| 716/716 [00:59<00:00, 11.94it/s]\n"
     ]
    },
    {
     "name": "stdout",
     "output_type": "stream",
     "text": [
      "{'val_loss': 2.0918473752170073, 'val_accuracy': 0.623951182303585, 'precision': 0.6507006797999206, 'recall': 0.623951182303585, 'f1-score': 0.630811638678599, 'macro_f1-score': 0.3979374283668166, 'balanced_accuracy': 0.40811508381484907, 'mcc': 0.5223975821663449, 'train_loss': 0.08618016781574167}\n",
      "Early stopping.\n",
      "\n",
      "[Fold 5]\n",
      "🚀 Using Word2Vec for data augmentation + under-sampling\n",
      "🔻 Under-sampling label 0: 2472 → 2000\n",
      "🔧 Augmenting label 1: 21 → 200 (+179)\n",
      "🔧 Augmenting label 2: 64 → 200 (+136)\n",
      "🔧 Augmenting label 3: 24 → 200 (+176)\n",
      "🔧 Augmenting label 4: 191 → 200 (+9)\n",
      "🔧 Augmenting label 5: 112 → 200 (+88)\n",
      "🔧 Augmenting label 6: 92 → 200 (+108)\n",
      "🔧 Augmenting label 7: 31 → 200 (+169)\n",
      "🔧 Augmenting label 8: 68 → 200 (+132)\n",
      "🔧 Augmenting label 9: 29 → 200 (+171)\n",
      "🔧 Augmenting label 10: 68 → 200 (+132)\n",
      "🔧 Augmenting label 11: 168 → 200 (+32)\n",
      "🔧 Augmenting label 12: 190 → 200 (+10)\n",
      "🔧 Augmenting label 13: 29 → 200 (+171)\n",
      "🔧 Augmenting label 14: 22 → 200 (+178)\n",
      "🔧 Augmenting label 15: 25 → 200 (+175)\n",
      "🔧 Augmenting label 16: 19 → 200 (+181)\n",
      "🔧 Augmenting label 17: 183 → 200 (+17)\n",
      "🔧 Augmenting label 18: 92 → 200 (+108)\n",
      "🔧 Augmenting label 19: 44 → 200 (+156)\n",
      "🔧 Augmenting label 20: 14 → 200 (+186)\n",
      "🔧 Augmenting label 21: 35 → 200 (+165)\n",
      "🔧 Augmenting label 22: 76 → 200 (+124)\n",
      "🔧 Augmenting label 23: 158 → 200 (+42)\n",
      "🔧 Augmenting label 24: 13 → 200 (+187)\n",
      "🔧 Augmenting label 25: 44 → 200 (+156)\n",
      "🔧 Augmenting label 26: 84 → 200 (+116)\n",
      "🔧 Augmenting label 27: 48 → 200 (+152)\n",
      "🔧 Augmenting label 28: 11 → 200 (+189)\n",
      "🔧 Augmenting label 29: 13 → 200 (+187)\n",
      "🔧 Augmenting label 30: 11 → 200 (+189)\n",
      "🔧 Augmenting label 31: 75 → 200 (+125)\n",
      "🔧 Augmenting label 32: 36 → 200 (+164)\n",
      "🔧 Augmenting label 33: 31 → 200 (+169)\n",
      "🔧 Augmenting label 34: 30 → 200 (+170)\n",
      "🔧 Augmenting label 35: 11 → 200 (+189)\n",
      "🔧 Augmenting label 36: 22 → 200 (+178)\n",
      "🔧 Augmenting label 37: 16 → 200 (+184)\n",
      "🔧 Augmenting label 38: 33 → 200 (+167)\n",
      "🔧 Augmenting label 39: 10 → 200 (+190)\n",
      "🔧 Augmenting label 40: 9 → 200 (+191)\n",
      "🔧 Augmenting label 41: 57 → 200 (+143)\n",
      "🔧 Augmenting label 42: 18 → 200 (+182)\n",
      "🔧 Augmenting label 43: 9 → 200 (+191)\n",
      "🔧 Augmenting label 44: 54 → 200 (+146)\n",
      "🔧 Augmenting label 46: 61 → 200 (+139)\n",
      "🔧 Augmenting label 47: 80 → 200 (+120)\n",
      "Label distribution after resampling:\n",
      "  label 0: 2000\n",
      "  label 1: 200\n",
      "  label 2: 200\n",
      "  label 3: 200\n",
      "  label 4: 200\n",
      "  label 5: 200\n",
      "  label 6: 200\n",
      "  label 7: 200\n",
      "  label 8: 200\n",
      "  label 9: 200\n",
      "  label 10: 200\n",
      "  label 11: 200\n",
      "  label 12: 200\n",
      "  label 13: 200\n",
      "  label 14: 200\n",
      "  label 15: 200\n",
      "  label 16: 200\n",
      "  label 17: 200\n",
      "  label 18: 200\n",
      "  label 19: 200\n",
      "  label 20: 200\n",
      "  label 21: 200\n",
      "  label 22: 200\n",
      "  label 23: 200\n",
      "  label 24: 200\n",
      "  label 25: 200\n",
      "  label 26: 200\n",
      "  label 27: 200\n",
      "  label 28: 200\n",
      "  label 29: 200\n",
      "  label 30: 200\n",
      "  label 31: 200\n",
      "  label 32: 200\n",
      "  label 33: 200\n",
      "  label 34: 200\n",
      "  label 35: 200\n",
      "  label 36: 200\n",
      "  label 37: 200\n",
      "  label 38: 200\n",
      "  label 39: 200\n",
      "  label 40: 200\n",
      "  label 41: 200\n",
      "  label 42: 200\n",
      "  label 43: 200\n",
      "  label 44: 200\n",
      "  label 45: 242\n",
      "  label 46: 200\n",
      "  label 47: 200\n",
      "model is bert-base-uncased\n"
     ]
    },
    {
     "name": "stderr",
     "output_type": "stream",
     "text": [
      "Some weights of BertForSequenceClassification were not initialized from the model checkpoint at bert-base-uncased and are newly initialized: ['classifier.bias', 'classifier.weight']\n",
      "You should probably TRAIN this model on a down-stream task to be able to use it for predictions and inference.\n"
     ]
    },
    {
     "name": "stdout",
     "output_type": "stream",
     "text": [
      "Epoch 1/20\n"
     ]
    },
    {
     "name": "stderr",
     "output_type": "stream",
     "text": [
      "100%|██████████| 716/716 [01:00<00:00, 11.92it/s]\n"
     ]
    },
    {
     "name": "stdout",
     "output_type": "stream",
     "text": [
      "{'val_loss': 1.5600681021446134, 'val_accuracy': 0.5926773455377574, 'precision': 0.6507334846515015, 'recall': 0.5926773455377574, 'f1-score': 0.5664418345305916, 'macro_f1-score': 0.34052326094010305, 'balanced_accuracy': 0.41325770536168854, 'mcc': 0.4641300986859125, 'train_loss': 2.3426418233683655}\n",
      "Epoch 2/20\n"
     ]
    },
    {
     "name": "stderr",
     "output_type": "stream",
     "text": [
      "100%|██████████| 716/716 [01:00<00:00, 11.93it/s]\n"
     ]
    },
    {
     "name": "stdout",
     "output_type": "stream",
     "text": [
      "{'val_loss': 1.3827252569721966, 'val_accuracy': 0.6468344774980931, 'precision': 0.6529795941341708, 'recall': 0.6468344774980931, 'f1-score': 0.6354014125110383, 'macro_f1-score': 0.4079584711863798, 'balanced_accuracy': 0.41741587209474035, 'mcc': 0.5305912148256415, 'train_loss': 0.790863314071181}\n",
      "Epoch 3/20\n"
     ]
    },
    {
     "name": "stderr",
     "output_type": "stream",
     "text": [
      "100%|██████████| 716/716 [01:00<00:00, 11.92it/s]\n"
     ]
    },
    {
     "name": "stdout",
     "output_type": "stream",
     "text": [
      "{'val_loss': 1.5013707579999436, 'val_accuracy': 0.6727688787185355, 'precision': 0.653987874018463, 'recall': 0.6727688787185355, 'f1-score': 0.646618027128932, 'macro_f1-score': 0.42746840707122086, 'balanced_accuracy': 0.4096042688433707, 'mcc': 0.5545012223229273, 'train_loss': 0.3484806302081606}\n",
      "Epoch 4/20\n"
     ]
    },
    {
     "name": "stderr",
     "output_type": "stream",
     "text": [
      "100%|██████████| 716/716 [00:59<00:00, 11.93it/s]\n"
     ]
    },
    {
     "name": "stdout",
     "output_type": "stream",
     "text": [
      "{'val_loss': 1.5802718139276273, 'val_accuracy': 0.6529366895499619, 'precision': 0.6544057782855432, 'recall': 0.6529366895499619, 'f1-score': 0.6430409054901011, 'macro_f1-score': 0.42036265297725106, 'balanced_accuracy': 0.4034090146875178, 'mcc': 0.5437468583803401, 'train_loss': 0.18363440531571318}\n",
      "Epoch 5/20\n"
     ]
    },
    {
     "name": "stderr",
     "output_type": "stream",
     "text": [
      "100%|██████████| 716/716 [01:00<00:00, 11.93it/s]\n"
     ]
    },
    {
     "name": "stdout",
     "output_type": "stream",
     "text": [
      "{'val_loss': 1.6752021614371277, 'val_accuracy': 0.6498855835240275, 'precision': 0.6402868157388095, 'recall': 0.6498855835240275, 'f1-score': 0.6332069196819415, 'macro_f1-score': 0.4444075884171876, 'balanced_accuracy': 0.4431618001675, 'mcc': 0.5401583122050918, 'train_loss': 0.1264226169952363}\n",
      "Epoch 6/20\n"
     ]
    },
    {
     "name": "stderr",
     "output_type": "stream",
     "text": [
      "100%|██████████| 716/716 [00:59<00:00, 11.94it/s]\n"
     ]
    },
    {
     "name": "stdout",
     "output_type": "stream",
     "text": [
      "{'val_loss': 1.8809278549217596, 'val_accuracy': 0.6559877955758963, 'precision': 0.6546826930278126, 'recall': 0.6559877955758963, 'f1-score': 0.6408739732485806, 'macro_f1-score': 0.40374766967107445, 'balanced_accuracy': 0.4087925067149736, 'mcc': 0.5480199460007588, 'train_loss': 0.11647697739100198}\n",
      "Epoch 7/20\n"
     ]
    },
    {
     "name": "stderr",
     "output_type": "stream",
     "text": [
      "100%|██████████| 716/716 [01:00<00:00, 11.92it/s]\n"
     ]
    },
    {
     "name": "stdout",
     "output_type": "stream",
     "text": [
      "{'val_loss': 1.8627745361953247, 'val_accuracy': 0.6491228070175439, 'precision': 0.6488939009152177, 'recall': 0.6491228070175439, 'f1-score': 0.6391083232160796, 'macro_f1-score': 0.42755126252839687, 'balanced_accuracy': 0.4282315012099163, 'mcc': 0.5418993412223672, 'train_loss': 0.09741686573499221}\n",
      "Epoch 8/20\n"
     ]
    },
    {
     "name": "stderr",
     "output_type": "stream",
     "text": [
      "100%|██████████| 716/716 [00:59<00:00, 11.93it/s]\n"
     ]
    },
    {
     "name": "stdout",
     "output_type": "stream",
     "text": [
      "{'val_loss': 1.996511887486388, 'val_accuracy': 0.669717772692601, 'precision': 0.6525407965256144, 'recall': 0.669717772692601, 'f1-score': 0.6510202272338746, 'macro_f1-score': 0.43258806297446234, 'balanced_accuracy': 0.41548821110853124, 'mcc': 0.5562313548186596, 'train_loss': 0.07168146739317124}\n",
      "Early stopping.\n",
      "\n",
      " === bert-base-uncased + plain + word2vec Final 5-fold Cross-Validation Results ===\n",
      "val_loss: 1.7481\n",
      "val_accuracy: 0.6449\n",
      "precision: 0.6468\n",
      "recall: 0.6449\n",
      "f1-score: 0.6348\n",
      "macro_f1-score: 0.4229\n",
      "balanced_accuracy: 0.4277\n",
      "mcc: 0.5321\n",
      "train_loss: 0.2448\n",
      "total_seconds: 2670.0000\n",
      "total_time: 0 hrs 44 mins 30 secs\n",
      "▶ Running: bert-base-uncased + cnn + word2vec\n",
      "tokenizer is bert-base-uncased\n",
      "Using device: cuda\n",
      "CUDA Available: True\n",
      "CUDA Device: NVIDIA GeForce RTX 5070 Ti\n",
      "Current GPU Memory Allocated: 1.33 GB\n",
      "Current GPU Memory Cached: 4.53 GB\n",
      "\n",
      "[Fold 1]\n",
      "🚀 Using Word2Vec for data augmentation + under-sampling\n",
      "🔻 Under-sampling label 0: 2471 → 2000\n",
      "🔧 Augmenting label 1: 21 → 200 (+179)\n",
      "🔧 Augmenting label 2: 64 → 200 (+136)\n",
      "🔧 Augmenting label 3: 24 → 200 (+176)\n",
      "🔧 Augmenting label 4: 191 → 200 (+9)\n",
      "🔧 Augmenting label 5: 113 → 200 (+87)\n",
      "🔧 Augmenting label 6: 93 → 200 (+107)\n",
      "🔧 Augmenting label 7: 30 → 200 (+170)\n",
      "🔧 Augmenting label 8: 68 → 200 (+132)\n",
      "🔧 Augmenting label 9: 30 → 200 (+170)\n",
      "🔧 Augmenting label 10: 67 → 200 (+133)\n",
      "🔧 Augmenting label 11: 169 → 200 (+31)\n",
      "🔧 Augmenting label 12: 189 → 200 (+11)\n",
      "🔧 Augmenting label 13: 29 → 200 (+171)\n",
      "🔧 Augmenting label 14: 22 → 200 (+178)\n",
      "🔧 Augmenting label 15: 25 → 200 (+175)\n",
      "🔧 Augmenting label 16: 19 → 200 (+181)\n",
      "🔧 Augmenting label 17: 183 → 200 (+17)\n",
      "🔧 Augmenting label 18: 92 → 200 (+108)\n",
      "🔧 Augmenting label 19: 44 → 200 (+156)\n",
      "🔧 Augmenting label 20: 13 → 200 (+187)\n",
      "🔧 Augmenting label 21: 35 → 200 (+165)\n",
      "🔧 Augmenting label 22: 76 → 200 (+124)\n",
      "🔧 Augmenting label 23: 158 → 200 (+42)\n",
      "🔧 Augmenting label 24: 13 → 200 (+187)\n",
      "🔧 Augmenting label 25: 44 → 200 (+156)\n",
      "🔧 Augmenting label 26: 84 → 200 (+116)\n",
      "🔧 Augmenting label 27: 48 → 200 (+152)\n",
      "🔧 Augmenting label 28: 11 → 200 (+189)\n",
      "🔧 Augmenting label 29: 13 → 200 (+187)\n",
      "🔧 Augmenting label 30: 11 → 200 (+189)\n",
      "🔧 Augmenting label 31: 75 → 200 (+125)\n",
      "🔧 Augmenting label 32: 36 → 200 (+164)\n",
      "🔧 Augmenting label 33: 32 → 200 (+168)\n",
      "🔧 Augmenting label 34: 29 → 200 (+171)\n",
      "🔧 Augmenting label 35: 11 → 200 (+189)\n",
      "🔧 Augmenting label 36: 22 → 200 (+178)\n",
      "🔧 Augmenting label 37: 16 → 200 (+184)\n",
      "🔧 Augmenting label 38: 33 → 200 (+167)\n",
      "🔧 Augmenting label 39: 10 → 200 (+190)\n",
      "🔧 Augmenting label 40: 9 → 200 (+191)\n",
      "🔧 Augmenting label 41: 57 → 200 (+143)\n",
      "🔧 Augmenting label 42: 19 → 200 (+181)\n",
      "🔧 Augmenting label 43: 8 → 200 (+192)\n",
      "🔧 Augmenting label 44: 54 → 200 (+146)\n",
      "🔧 Augmenting label 46: 61 → 200 (+139)\n",
      "🔧 Augmenting label 47: 80 → 200 (+120)\n",
      "Label distribution after resampling:\n",
      "  label 0: 2000\n",
      "  label 1: 200\n",
      "  label 2: 200\n",
      "  label 3: 200\n",
      "  label 4: 200\n",
      "  label 5: 200\n",
      "  label 6: 200\n",
      "  label 7: 200\n",
      "  label 8: 200\n",
      "  label 9: 200\n",
      "  label 10: 200\n",
      "  label 11: 200\n",
      "  label 12: 200\n",
      "  label 13: 200\n",
      "  label 14: 200\n",
      "  label 15: 200\n",
      "  label 16: 200\n",
      "  label 17: 200\n",
      "  label 18: 200\n",
      "  label 19: 200\n",
      "  label 20: 200\n",
      "  label 21: 200\n",
      "  label 22: 200\n",
      "  label 23: 200\n",
      "  label 24: 200\n",
      "  label 25: 200\n",
      "  label 26: 200\n",
      "  label 27: 200\n",
      "  label 28: 200\n",
      "  label 29: 200\n",
      "  label 30: 200\n",
      "  label 31: 200\n",
      "  label 32: 200\n",
      "  label 33: 200\n",
      "  label 34: 200\n",
      "  label 35: 200\n",
      "  label 36: 200\n",
      "  label 37: 200\n",
      "  label 38: 200\n",
      "  label 39: 200\n",
      "  label 40: 200\n",
      "  label 41: 200\n",
      "  label 42: 200\n",
      "  label 43: 200\n",
      "  label 44: 200\n",
      "  label 45: 242\n",
      "  label 46: 200\n",
      "  label 47: 200\n",
      "model is bert-base-uncased cnn\n",
      "Epoch 1/20\n"
     ]
    },
    {
     "name": "stderr",
     "output_type": "stream",
     "text": [
      "100%|██████████| 716/716 [01:01<00:00, 11.69it/s]\n"
     ]
    },
    {
     "name": "stdout",
     "output_type": "stream",
     "text": [
      "{'val_loss': 1.5150761088220084, 'val_accuracy': 0.5907012195121951, 'precision': 0.5933786561070866, 'recall': 0.5907012195121951, 'f1-score': 0.5552269275841462, 'macro_f1-score': 0.3393598758072902, 'balanced_accuracy': 0.3812425441613991, 'mcc': 0.4345807082429171, 'train_loss': 2.2104585457114534}\n",
      "Epoch 2/20\n"
     ]
    },
    {
     "name": "stderr",
     "output_type": "stream",
     "text": [
      "100%|██████████| 716/716 [01:01<00:00, 11.72it/s]\n"
     ]
    },
    {
     "name": "stdout",
     "output_type": "stream",
     "text": [
      "{'val_loss': 1.4808840718938083, 'val_accuracy': 0.635670731707317, 'precision': 0.6238670244641471, 'recall': 0.635670731707317, 'f1-score': 0.6222503773783411, 'macro_f1-score': 0.39836280174403244, 'balanced_accuracy': 0.40218340769480654, 'mcc': 0.5151504654146983, 'train_loss': 0.7414055287151197}\n",
      "Epoch 3/20\n"
     ]
    },
    {
     "name": "stderr",
     "output_type": "stream",
     "text": [
      "100%|██████████| 716/716 [01:01<00:00, 11.72it/s]\n"
     ]
    },
    {
     "name": "stdout",
     "output_type": "stream",
     "text": [
      "{'val_loss': 1.6477515593898007, 'val_accuracy': 0.6135670731707317, 'precision': 0.6397459270628958, 'recall': 0.6135670731707317, 'f1-score': 0.6182928262948154, 'macro_f1-score': 0.4146123818266088, 'balanced_accuracy': 0.4605631238862989, 'mcc': 0.5123527148217341, 'train_loss': 0.350175741419987}\n",
      "Epoch 4/20\n"
     ]
    },
    {
     "name": "stderr",
     "output_type": "stream",
     "text": [
      "100%|██████████| 716/716 [01:01<00:00, 11.72it/s]\n"
     ]
    },
    {
     "name": "stdout",
     "output_type": "stream",
     "text": [
      "{'val_loss': 1.8160965063768189, 'val_accuracy': 0.6326219512195121, 'precision': 0.6275040989407576, 'recall': 0.6326219512195121, 'f1-score': 0.6108112997257165, 'macro_f1-score': 0.39980292046756105, 'balanced_accuracy': 0.3679056177771684, 'mcc': 0.4966129850479517, 'train_loss': 0.21044282532978656}\n",
      "Epoch 5/20\n"
     ]
    },
    {
     "name": "stderr",
     "output_type": "stream",
     "text": [
      "100%|██████████| 716/716 [01:01<00:00, 11.71it/s]\n"
     ]
    },
    {
     "name": "stdout",
     "output_type": "stream",
     "text": [
      "{'val_loss': 1.8816498816921943, 'val_accuracy': 0.6280487804878049, 'precision': 0.6192931289797698, 'recall': 0.6280487804878049, 'f1-score': 0.6136155065145237, 'macro_f1-score': 0.3913231809161612, 'balanced_accuracy': 0.38673278413517487, 'mcc': 0.4987876848791567, 'train_loss': 0.15691341861091326}\n",
      "Epoch 6/20\n"
     ]
    },
    {
     "name": "stderr",
     "output_type": "stream",
     "text": [
      "100%|██████████| 716/716 [01:01<00:00, 11.71it/s]\n"
     ]
    },
    {
     "name": "stdout",
     "output_type": "stream",
     "text": [
      "{'val_loss': 2.0132164675288085, 'val_accuracy': 0.6051829268292683, 'precision': 0.6377198508548737, 'recall': 0.6051829268292683, 'f1-score': 0.6120556161527302, 'macro_f1-score': 0.40957088607090536, 'balanced_accuracy': 0.4315522587615448, 'mcc': 0.5002424313203362, 'train_loss': 0.11170723385472818}\n",
      "Early stopping.\n",
      "\n",
      "[Fold 2]\n",
      "🚀 Using Word2Vec for data augmentation + under-sampling\n",
      "🔻 Under-sampling label 0: 2471 → 2000\n",
      "🔧 Augmenting label 1: 22 → 200 (+178)\n",
      "🔧 Augmenting label 2: 64 → 200 (+136)\n",
      "🔧 Augmenting label 3: 24 → 200 (+176)\n",
      "🔧 Augmenting label 4: 190 → 200 (+10)\n",
      "🔧 Augmenting label 5: 113 → 200 (+87)\n",
      "🔧 Augmenting label 6: 93 → 200 (+107)\n",
      "🔧 Augmenting label 7: 30 → 200 (+170)\n",
      "🔧 Augmenting label 8: 68 → 200 (+132)\n",
      "🔧 Augmenting label 9: 30 → 200 (+170)\n",
      "🔧 Augmenting label 10: 67 → 200 (+133)\n",
      "🔧 Augmenting label 11: 169 → 200 (+31)\n",
      "🔧 Augmenting label 12: 189 → 200 (+11)\n",
      "🔧 Augmenting label 13: 29 → 200 (+171)\n",
      "🔧 Augmenting label 14: 23 → 200 (+177)\n",
      "🔧 Augmenting label 15: 24 → 200 (+176)\n",
      "🔧 Augmenting label 16: 20 → 200 (+180)\n",
      "🔧 Augmenting label 17: 182 → 200 (+18)\n",
      "🔧 Augmenting label 18: 92 → 200 (+108)\n",
      "🔧 Augmenting label 19: 44 → 200 (+156)\n",
      "🔧 Augmenting label 20: 13 → 200 (+187)\n",
      "🔧 Augmenting label 21: 36 → 200 (+164)\n",
      "🔧 Augmenting label 22: 76 → 200 (+124)\n",
      "🔧 Augmenting label 23: 157 → 200 (+43)\n",
      "🔧 Augmenting label 24: 12 → 200 (+188)\n",
      "🔧 Augmenting label 25: 44 → 200 (+156)\n",
      "🔧 Augmenting label 26: 84 → 200 (+116)\n",
      "🔧 Augmenting label 27: 48 → 200 (+152)\n",
      "🔧 Augmenting label 28: 12 → 200 (+188)\n",
      "🔧 Augmenting label 29: 12 → 200 (+188)\n",
      "🔧 Augmenting label 30: 12 → 200 (+188)\n",
      "🔧 Augmenting label 31: 75 → 200 (+125)\n",
      "🔧 Augmenting label 32: 36 → 200 (+164)\n",
      "🔧 Augmenting label 33: 31 → 200 (+169)\n",
      "🔧 Augmenting label 34: 29 → 200 (+171)\n",
      "🔧 Augmenting label 35: 12 → 200 (+188)\n",
      "🔧 Augmenting label 36: 21 → 200 (+179)\n",
      "🔧 Augmenting label 37: 16 → 200 (+184)\n",
      "🔧 Augmenting label 38: 33 → 200 (+167)\n",
      "🔧 Augmenting label 39: 11 → 200 (+189)\n",
      "🔧 Augmenting label 40: 8 → 200 (+192)\n",
      "🔧 Augmenting label 41: 57 → 200 (+143)\n",
      "🔧 Augmenting label 42: 19 → 200 (+181)\n",
      "🔧 Augmenting label 43: 9 → 200 (+191)\n",
      "🔧 Augmenting label 44: 54 → 200 (+146)\n",
      "🔧 Augmenting label 46: 62 → 200 (+138)\n",
      "🔧 Augmenting label 47: 80 → 200 (+120)\n",
      "Label distribution after resampling:\n",
      "  label 0: 2000\n",
      "  label 1: 200\n",
      "  label 2: 200\n",
      "  label 3: 200\n",
      "  label 4: 200\n",
      "  label 5: 200\n",
      "  label 6: 200\n",
      "  label 7: 200\n",
      "  label 8: 200\n",
      "  label 9: 200\n",
      "  label 10: 200\n",
      "  label 11: 200\n",
      "  label 12: 200\n",
      "  label 13: 200\n",
      "  label 14: 200\n",
      "  label 15: 200\n",
      "  label 16: 200\n",
      "  label 17: 200\n",
      "  label 18: 200\n",
      "  label 19: 200\n",
      "  label 20: 200\n",
      "  label 21: 200\n",
      "  label 22: 200\n",
      "  label 23: 200\n",
      "  label 24: 200\n",
      "  label 25: 200\n",
      "  label 26: 200\n",
      "  label 27: 200\n",
      "  label 28: 200\n",
      "  label 29: 200\n",
      "  label 30: 200\n",
      "  label 31: 200\n",
      "  label 32: 200\n",
      "  label 33: 200\n",
      "  label 34: 200\n",
      "  label 35: 200\n",
      "  label 36: 200\n",
      "  label 37: 200\n",
      "  label 38: 200\n",
      "  label 39: 200\n",
      "  label 40: 200\n",
      "  label 41: 200\n",
      "  label 42: 200\n",
      "  label 43: 200\n",
      "  label 44: 200\n",
      "  label 45: 242\n",
      "  label 46: 200\n",
      "  label 47: 200\n",
      "model is bert-base-uncased cnn\n",
      "Epoch 1/20\n"
     ]
    },
    {
     "name": "stderr",
     "output_type": "stream",
     "text": [
      "100%|██████████| 716/716 [01:01<00:00, 11.72it/s]\n"
     ]
    },
    {
     "name": "stdout",
     "output_type": "stream",
     "text": [
      "{'val_loss': 1.5117240940652243, 'val_accuracy': 0.5743707093821511, 'precision': 0.6091464581774592, 'recall': 0.5743707093821511, 'f1-score': 0.5646701036390697, 'macro_f1-score': 0.3159989173453926, 'balanced_accuracy': 0.3817559584608409, 'mcc': 0.4413168135557362, 'train_loss': 2.180876157387009}\n",
      "Epoch 2/20\n"
     ]
    },
    {
     "name": "stderr",
     "output_type": "stream",
     "text": [
      "100%|██████████| 716/716 [01:01<00:00, 11.72it/s]\n"
     ]
    },
    {
     "name": "stdout",
     "output_type": "stream",
     "text": [
      "{'val_loss': 1.3658486393893636, 'val_accuracy': 0.6536994660564455, 'precision': 0.6444096488456429, 'recall': 0.6536994660564455, 'f1-score': 0.6381870007893983, 'macro_f1-score': 0.4065501187682874, 'balanced_accuracy': 0.4215304548641581, 'mcc': 0.5336847345682187, 'train_loss': 0.7502399742624114}\n",
      "Epoch 3/20\n"
     ]
    },
    {
     "name": "stderr",
     "output_type": "stream",
     "text": [
      "100%|██████████| 716/716 [01:01<00:00, 11.73it/s]\n"
     ]
    },
    {
     "name": "stdout",
     "output_type": "stream",
     "text": [
      "{'val_loss': 1.6235655735178691, 'val_accuracy': 0.6079328756674295, 'precision': 0.6400486268515174, 'recall': 0.6079328756674295, 'f1-score': 0.6049317200747752, 'macro_f1-score': 0.37247265834128346, 'balanced_accuracy': 0.39609243970057895, 'mcc': 0.49436498638513443, 'train_loss': 0.3492804427537547}\n",
      "Epoch 4/20\n"
     ]
    },
    {
     "name": "stderr",
     "output_type": "stream",
     "text": [
      "100%|██████████| 716/716 [01:01<00:00, 11.72it/s]\n"
     ]
    },
    {
     "name": "stdout",
     "output_type": "stream",
     "text": [
      "{'val_loss': 1.762711664888917, 'val_accuracy': 0.6536994660564455, 'precision': 0.6444761919945055, 'recall': 0.6536994660564455, 'f1-score': 0.6386129979826504, 'macro_f1-score': 0.38711483160372023, 'balanced_accuracy': 0.37708903683031886, 'mcc': 0.5387594622510283, 'train_loss': 0.20896320335837548}\n",
      "Epoch 5/20\n"
     ]
    },
    {
     "name": "stderr",
     "output_type": "stream",
     "text": [
      "100%|██████████| 716/716 [01:01<00:00, 11.71it/s]\n"
     ]
    },
    {
     "name": "stdout",
     "output_type": "stream",
     "text": [
      "{'val_loss': 1.7704574843732321, 'val_accuracy': 0.6475972540045767, 'precision': 0.6416480672148723, 'recall': 0.6475972540045767, 'f1-score': 0.633273060502623, 'macro_f1-score': 0.3784406333227051, 'balanced_accuracy': 0.40323351979831457, 'mcc': 0.5394577793485826, 'train_loss': 0.1691480767483922}\n",
      "Early stopping.\n",
      "\n",
      "[Fold 3]\n",
      "🚀 Using Word2Vec for data augmentation + under-sampling\n",
      "🔻 Under-sampling label 0: 2471 → 2000\n",
      "🔧 Augmenting label 1: 22 → 200 (+178)\n",
      "🔧 Augmenting label 2: 64 → 200 (+136)\n",
      "🔧 Augmenting label 3: 24 → 200 (+176)\n",
      "🔧 Augmenting label 4: 190 → 200 (+10)\n",
      "🔧 Augmenting label 5: 113 → 200 (+87)\n",
      "🔧 Augmenting label 6: 93 → 200 (+107)\n",
      "🔧 Augmenting label 7: 30 → 200 (+170)\n",
      "🔧 Augmenting label 8: 68 → 200 (+132)\n",
      "🔧 Augmenting label 9: 30 → 200 (+170)\n",
      "🔧 Augmenting label 10: 67 → 200 (+133)\n",
      "🔧 Augmenting label 11: 169 → 200 (+31)\n",
      "🔧 Augmenting label 12: 190 → 200 (+10)\n",
      "🔧 Augmenting label 13: 28 → 200 (+172)\n",
      "🔧 Augmenting label 14: 23 → 200 (+177)\n",
      "🔧 Augmenting label 15: 25 → 200 (+175)\n",
      "🔧 Augmenting label 16: 19 → 200 (+181)\n",
      "🔧 Augmenting label 17: 182 → 200 (+18)\n",
      "🔧 Augmenting label 18: 92 → 200 (+108)\n",
      "🔧 Augmenting label 19: 44 → 200 (+156)\n",
      "🔧 Augmenting label 20: 14 → 200 (+186)\n",
      "🔧 Augmenting label 21: 35 → 200 (+165)\n",
      "🔧 Augmenting label 22: 76 → 200 (+124)\n",
      "🔧 Augmenting label 23: 157 → 200 (+43)\n",
      "🔧 Augmenting label 24: 13 → 200 (+187)\n",
      "🔧 Augmenting label 25: 44 → 200 (+156)\n",
      "🔧 Augmenting label 26: 84 → 200 (+116)\n",
      "🔧 Augmenting label 27: 48 → 200 (+152)\n",
      "🔧 Augmenting label 28: 11 → 200 (+189)\n",
      "🔧 Augmenting label 29: 13 → 200 (+187)\n",
      "🔧 Augmenting label 30: 11 → 200 (+189)\n",
      "🔧 Augmenting label 31: 76 → 200 (+124)\n",
      "🔧 Augmenting label 32: 36 → 200 (+164)\n",
      "🔧 Augmenting label 33: 31 → 200 (+169)\n",
      "🔧 Augmenting label 34: 30 → 200 (+170)\n",
      "🔧 Augmenting label 35: 11 → 200 (+189)\n",
      "🔧 Augmenting label 36: 21 → 200 (+179)\n",
      "🔧 Augmenting label 37: 16 → 200 (+184)\n",
      "🔧 Augmenting label 38: 32 → 200 (+168)\n",
      "🔧 Augmenting label 39: 11 → 200 (+189)\n",
      "🔧 Augmenting label 40: 9 → 200 (+191)\n",
      "🔧 Augmenting label 41: 57 → 200 (+143)\n",
      "🔧 Augmenting label 42: 18 → 200 (+182)\n",
      "🔧 Augmenting label 43: 9 → 200 (+191)\n",
      "🔧 Augmenting label 44: 55 → 200 (+145)\n",
      "🔧 Augmenting label 46: 62 → 200 (+138)\n",
      "🔧 Augmenting label 47: 80 → 200 (+120)\n",
      "Label distribution after resampling:\n",
      "  label 0: 2000\n",
      "  label 1: 200\n",
      "  label 2: 200\n",
      "  label 3: 200\n",
      "  label 4: 200\n",
      "  label 5: 200\n",
      "  label 6: 200\n",
      "  label 7: 200\n",
      "  label 8: 200\n",
      "  label 9: 200\n",
      "  label 10: 200\n",
      "  label 11: 200\n",
      "  label 12: 200\n",
      "  label 13: 200\n",
      "  label 14: 200\n",
      "  label 15: 200\n",
      "  label 16: 200\n",
      "  label 17: 200\n",
      "  label 18: 200\n",
      "  label 19: 200\n",
      "  label 20: 200\n",
      "  label 21: 200\n",
      "  label 22: 200\n",
      "  label 23: 200\n",
      "  label 24: 200\n",
      "  label 25: 200\n",
      "  label 26: 200\n",
      "  label 27: 200\n",
      "  label 28: 200\n",
      "  label 29: 200\n",
      "  label 30: 200\n",
      "  label 31: 200\n",
      "  label 32: 200\n",
      "  label 33: 200\n",
      "  label 34: 200\n",
      "  label 35: 200\n",
      "  label 36: 200\n",
      "  label 37: 200\n",
      "  label 38: 200\n",
      "  label 39: 200\n",
      "  label 40: 200\n",
      "  label 41: 200\n",
      "  label 42: 200\n",
      "  label 43: 200\n",
      "  label 44: 200\n",
      "  label 45: 241\n",
      "  label 46: 200\n",
      "  label 47: 200\n",
      "model is bert-base-uncased cnn\n",
      "Epoch 1/20\n"
     ]
    },
    {
     "name": "stderr",
     "output_type": "stream",
     "text": [
      "100%|██████████| 716/716 [01:01<00:00, 11.70it/s]\n"
     ]
    },
    {
     "name": "stdout",
     "output_type": "stream",
     "text": [
      "{'val_loss': 1.6905272126924702, 'val_accuracy': 0.5186880244088482, 'precision': 0.5816716903496034, 'recall': 0.5186880244088482, 'f1-score': 0.5258469520302582, 'macro_f1-score': 0.2998874184692946, 'balanced_accuracy': 0.34360402509699534, 'mcc': 0.38235681328794624, 'train_loss': 2.1015080947366505}\n",
      "Epoch 2/20\n"
     ]
    },
    {
     "name": "stderr",
     "output_type": "stream",
     "text": [
      "100%|██████████| 716/716 [01:01<00:00, 11.72it/s]\n"
     ]
    },
    {
     "name": "stdout",
     "output_type": "stream",
     "text": [
      "{'val_loss': 1.5416107214078671, 'val_accuracy': 0.5995423340961098, 'precision': 0.5953087805053375, 'recall': 0.5995423340961098, 'f1-score': 0.5865390442951421, 'macro_f1-score': 0.35181933503456425, 'balanced_accuracy': 0.37251284538919327, 'mcc': 0.46798470361624706, 'train_loss': 0.6667661060964137}\n",
      "Epoch 3/20\n"
     ]
    },
    {
     "name": "stderr",
     "output_type": "stream",
     "text": [
      "100%|██████████| 716/716 [01:01<00:00, 11.71it/s]\n"
     ]
    },
    {
     "name": "stdout",
     "output_type": "stream",
     "text": [
      "{'val_loss': 1.637217148956729, 'val_accuracy': 0.6308161708619374, 'precision': 0.6262789522373149, 'recall': 0.6308161708619374, 'f1-score': 0.6177495752965559, 'macro_f1-score': 0.3671810868914552, 'balanced_accuracy': 0.3562890718180031, 'mcc': 0.5073462045285464, 'train_loss': 0.30898448908129217}\n",
      "Epoch 4/20\n"
     ]
    },
    {
     "name": "stderr",
     "output_type": "stream",
     "text": [
      "100%|██████████| 716/716 [01:01<00:00, 11.72it/s]\n"
     ]
    },
    {
     "name": "stdout",
     "output_type": "stream",
     "text": [
      "{'val_loss': 1.8360488800013937, 'val_accuracy': 0.6224256292906178, 'precision': 0.6221350779886071, 'recall': 0.6224256292906178, 'f1-score': 0.6105436730724905, 'macro_f1-score': 0.41557156382677984, 'balanced_accuracy': 0.39737887071271566, 'mcc': 0.4951275888952147, 'train_loss': 0.1784594749795096}\n",
      "Epoch 5/20\n"
     ]
    },
    {
     "name": "stderr",
     "output_type": "stream",
     "text": [
      "100%|██████████| 716/716 [01:01<00:00, 11.71it/s]\n"
     ]
    },
    {
     "name": "stdout",
     "output_type": "stream",
     "text": [
      "{'val_loss': 1.879077220471894, 'val_accuracy': 0.6209000762776506, 'precision': 0.6229567309476903, 'recall': 0.6209000762776506, 'f1-score': 0.6081030093331616, 'macro_f1-score': 0.3843190730916388, 'balanced_accuracy': 0.37600842883744234, 'mcc': 0.4995333925101007, 'train_loss': 0.12393903679295064}\n",
      "Epoch 6/20\n"
     ]
    },
    {
     "name": "stderr",
     "output_type": "stream",
     "text": [
      "100%|██████████| 716/716 [01:01<00:00, 11.72it/s]\n"
     ]
    },
    {
     "name": "stdout",
     "output_type": "stream",
     "text": [
      "{'val_loss': 1.9607986148174217, 'val_accuracy': 0.6254767353165522, 'precision': 0.6446474509909786, 'recall': 0.6254767353165522, 'f1-score': 0.6198292392618994, 'macro_f1-score': 0.3985402999585424, 'balanced_accuracy': 0.4102451271400384, 'mcc': 0.5093555796736275, 'train_loss': 0.1093390191113056}\n",
      "Epoch 7/20\n"
     ]
    },
    {
     "name": "stderr",
     "output_type": "stream",
     "text": [
      "100%|██████████| 716/716 [01:01<00:00, 11.71it/s]\n"
     ]
    },
    {
     "name": "stdout",
     "output_type": "stream",
     "text": [
      "{'val_loss': 2.1420745845974944, 'val_accuracy': 0.6079328756674295, 'precision': 0.6231719043391993, 'recall': 0.6079328756674295, 'f1-score': 0.6004953562298994, 'macro_f1-score': 0.3748001345219622, 'balanced_accuracy': 0.3712767025631096, 'mcc': 0.49128708850851693, 'train_loss': 0.09688581591836234}\n",
      "Early stopping.\n",
      "\n",
      "[Fold 4]\n",
      "🚀 Using Word2Vec for data augmentation + under-sampling\n",
      "🔻 Under-sampling label 0: 2471 → 2000\n",
      "🔧 Augmenting label 1: 22 → 200 (+178)\n",
      "🔧 Augmenting label 2: 64 → 200 (+136)\n",
      "🔧 Augmenting label 3: 24 → 200 (+176)\n",
      "🔧 Augmenting label 4: 190 → 200 (+10)\n",
      "🔧 Augmenting label 5: 113 → 200 (+87)\n",
      "🔧 Augmenting label 6: 93 → 200 (+107)\n",
      "🔧 Augmenting label 7: 31 → 200 (+169)\n",
      "🔧 Augmenting label 8: 68 → 200 (+132)\n",
      "🔧 Augmenting label 9: 29 → 200 (+171)\n",
      "🔧 Augmenting label 10: 67 → 200 (+133)\n",
      "🔧 Augmenting label 11: 169 → 200 (+31)\n",
      "🔧 Augmenting label 12: 190 → 200 (+10)\n",
      "🔧 Augmenting label 13: 29 → 200 (+171)\n",
      "🔧 Augmenting label 14: 22 → 200 (+178)\n",
      "🔧 Augmenting label 15: 25 → 200 (+175)\n",
      "🔧 Augmenting label 16: 19 → 200 (+181)\n",
      "🔧 Augmenting label 17: 182 → 200 (+18)\n",
      "🔧 Augmenting label 18: 92 → 200 (+108)\n",
      "🔧 Augmenting label 19: 44 → 200 (+156)\n",
      "🔧 Augmenting label 20: 14 → 200 (+186)\n",
      "🔧 Augmenting label 21: 35 → 200 (+165)\n",
      "🔧 Augmenting label 22: 76 → 200 (+124)\n",
      "🔧 Augmenting label 23: 158 → 200 (+42)\n",
      "🔧 Augmenting label 24: 13 → 200 (+187)\n",
      "🔧 Augmenting label 25: 44 → 200 (+156)\n",
      "🔧 Augmenting label 26: 84 → 200 (+116)\n",
      "🔧 Augmenting label 27: 48 → 200 (+152)\n",
      "🔧 Augmenting label 28: 11 → 200 (+189)\n",
      "🔧 Augmenting label 29: 13 → 200 (+187)\n",
      "🔧 Augmenting label 30: 11 → 200 (+189)\n",
      "🔧 Augmenting label 31: 75 → 200 (+125)\n",
      "🔧 Augmenting label 32: 36 → 200 (+164)\n",
      "🔧 Augmenting label 33: 31 → 200 (+169)\n",
      "🔧 Augmenting label 34: 30 → 200 (+170)\n",
      "🔧 Augmenting label 35: 11 → 200 (+189)\n",
      "🔧 Augmenting label 36: 22 → 200 (+178)\n",
      "🔧 Augmenting label 37: 16 → 200 (+184)\n",
      "🔧 Augmenting label 38: 33 → 200 (+167)\n",
      "🔧 Augmenting label 39: 10 → 200 (+190)\n",
      "🔧 Augmenting label 40: 9 → 200 (+191)\n",
      "🔧 Augmenting label 41: 56 → 200 (+144)\n",
      "🔧 Augmenting label 42: 18 → 200 (+182)\n",
      "🔧 Augmenting label 43: 9 → 200 (+191)\n",
      "🔧 Augmenting label 44: 55 → 200 (+145)\n",
      "🔧 Augmenting label 46: 62 → 200 (+138)\n",
      "🔧 Augmenting label 47: 80 → 200 (+120)\n",
      "Label distribution after resampling:\n",
      "  label 0: 2000\n",
      "  label 1: 200\n",
      "  label 2: 200\n",
      "  label 3: 200\n",
      "  label 4: 200\n",
      "  label 5: 200\n",
      "  label 6: 200\n",
      "  label 7: 200\n",
      "  label 8: 200\n",
      "  label 9: 200\n",
      "  label 10: 200\n",
      "  label 11: 200\n",
      "  label 12: 200\n",
      "  label 13: 200\n",
      "  label 14: 200\n",
      "  label 15: 200\n",
      "  label 16: 200\n",
      "  label 17: 200\n",
      "  label 18: 200\n",
      "  label 19: 200\n",
      "  label 20: 200\n",
      "  label 21: 200\n",
      "  label 22: 200\n",
      "  label 23: 200\n",
      "  label 24: 200\n",
      "  label 25: 200\n",
      "  label 26: 200\n",
      "  label 27: 200\n",
      "  label 28: 200\n",
      "  label 29: 200\n",
      "  label 30: 200\n",
      "  label 31: 200\n",
      "  label 32: 200\n",
      "  label 33: 200\n",
      "  label 34: 200\n",
      "  label 35: 200\n",
      "  label 36: 200\n",
      "  label 37: 200\n",
      "  label 38: 200\n",
      "  label 39: 200\n",
      "  label 40: 200\n",
      "  label 41: 200\n",
      "  label 42: 200\n",
      "  label 43: 200\n",
      "  label 44: 200\n",
      "  label 45: 241\n",
      "  label 46: 200\n",
      "  label 47: 200\n",
      "model is bert-base-uncased cnn\n",
      "Epoch 1/20\n"
     ]
    },
    {
     "name": "stderr",
     "output_type": "stream",
     "text": [
      "100%|██████████| 716/716 [01:01<00:00, 11.71it/s]\n"
     ]
    },
    {
     "name": "stdout",
     "output_type": "stream",
     "text": [
      "{'val_loss': 1.4971785425412945, 'val_accuracy': 0.5903890160183066, 'precision': 0.6221273112149553, 'recall': 0.5903890160183066, 'f1-score': 0.5869563834146857, 'macro_f1-score': 0.34950968559408363, 'balanced_accuracy': 0.4135440595465232, 'mcc': 0.4700797932310772, 'train_loss': 2.1297749901950027}\n",
      "Epoch 2/20\n"
     ]
    },
    {
     "name": "stderr",
     "output_type": "stream",
     "text": [
      "100%|██████████| 716/716 [01:01<00:00, 11.73it/s]\n"
     ]
    },
    {
     "name": "stdout",
     "output_type": "stream",
     "text": [
      "{'val_loss': 1.5552442887934244, 'val_accuracy': 0.5964912280701754, 'precision': 0.6509357955300588, 'recall': 0.5964912280701754, 'f1-score': 0.6101926771169599, 'macro_f1-score': 0.39792005733291647, 'balanced_accuracy': 0.45939909306294835, 'mcc': 0.5017997437111136, 'train_loss': 0.74757684937902}\n",
      "Epoch 3/20\n"
     ]
    },
    {
     "name": "stderr",
     "output_type": "stream",
     "text": [
      "100%|██████████| 716/716 [01:01<00:00, 11.71it/s]\n"
     ]
    },
    {
     "name": "stdout",
     "output_type": "stream",
     "text": [
      "{'val_loss': 1.6222473699145201, 'val_accuracy': 0.6605644546147978, 'precision': 0.6565659212015058, 'recall': 0.6605644546147978, 'f1-score': 0.6420464972285367, 'macro_f1-score': 0.42703503767502954, 'balanced_accuracy': 0.4169742723828718, 'mcc': 0.541869916185775, 'train_loss': 0.34222681213732203}\n",
      "Epoch 4/20\n"
     ]
    },
    {
     "name": "stderr",
     "output_type": "stream",
     "text": [
      "100%|██████████| 716/716 [01:01<00:00, 11.71it/s]\n"
     ]
    },
    {
     "name": "stdout",
     "output_type": "stream",
     "text": [
      "{'val_loss': 1.7595886646247492, 'val_accuracy': 0.623951182303585, 'precision': 0.6720425891107692, 'recall': 0.623951182303585, 'f1-score': 0.6350415845716753, 'macro_f1-score': 0.42732099505468707, 'balanced_accuracy': 0.4595176702866042, 'mcc': 0.5263064346719192, 'train_loss': 0.20939639953580325}\n",
      "Epoch 5/20\n"
     ]
    },
    {
     "name": "stderr",
     "output_type": "stream",
     "text": [
      "100%|██████████| 716/716 [01:01<00:00, 11.70it/s]\n"
     ]
    },
    {
     "name": "stdout",
     "output_type": "stream",
     "text": [
      "{'val_loss': 1.7713606121336543, 'val_accuracy': 0.6651411136536994, 'precision': 0.6544321738443922, 'recall': 0.6651411136536994, 'f1-score': 0.6465696983001188, 'macro_f1-score': 0.4180629005475434, 'balanced_accuracy': 0.41625495513947747, 'mcc': 0.5495804624517517, 'train_loss': 0.14685006340797835}\n",
      "Epoch 6/20\n"
     ]
    },
    {
     "name": "stderr",
     "output_type": "stream",
     "text": [
      "100%|██████████| 716/716 [01:01<00:00, 11.73it/s]\n"
     ]
    },
    {
     "name": "stdout",
     "output_type": "stream",
     "text": [
      "{'val_loss': 1.869555016116398, 'val_accuracy': 0.6270022883295194, 'precision': 0.6607717733650528, 'recall': 0.6270022883295194, 'f1-score': 0.6320066396013556, 'macro_f1-score': 0.41472202468599945, 'balanced_accuracy': 0.454817521057932, 'mcc': 0.5279911097499049, 'train_loss': 0.12995478893596388}\n",
      "Epoch 7/20\n"
     ]
    },
    {
     "name": "stderr",
     "output_type": "stream",
     "text": [
      "100%|██████████| 716/716 [01:01<00:00, 11.71it/s]\n"
     ]
    },
    {
     "name": "stdout",
     "output_type": "stream",
     "text": [
      "{'val_loss': 1.9695773718924057, 'val_accuracy': 0.6262395118230358, 'precision': 0.6550602047322149, 'recall': 0.6262395118230358, 'f1-score': 0.6324788954890281, 'macro_f1-score': 0.42684019546048857, 'balanced_accuracy': 0.4424894170537997, 'mcc': 0.5256282235718384, 'train_loss': 0.10602745025479833}\n",
      "Early stopping.\n",
      "\n",
      "[Fold 5]\n",
      "🚀 Using Word2Vec for data augmentation + under-sampling\n",
      "🔻 Under-sampling label 0: 2472 → 2000\n",
      "🔧 Augmenting label 1: 21 → 200 (+179)\n",
      "🔧 Augmenting label 2: 64 → 200 (+136)\n",
      "🔧 Augmenting label 3: 24 → 200 (+176)\n",
      "🔧 Augmenting label 4: 191 → 200 (+9)\n",
      "🔧 Augmenting label 5: 112 → 200 (+88)\n",
      "🔧 Augmenting label 6: 92 → 200 (+108)\n",
      "🔧 Augmenting label 7: 31 → 200 (+169)\n",
      "🔧 Augmenting label 8: 68 → 200 (+132)\n",
      "🔧 Augmenting label 9: 29 → 200 (+171)\n",
      "🔧 Augmenting label 10: 68 → 200 (+132)\n",
      "🔧 Augmenting label 11: 168 → 200 (+32)\n",
      "🔧 Augmenting label 12: 190 → 200 (+10)\n",
      "🔧 Augmenting label 13: 29 → 200 (+171)\n",
      "🔧 Augmenting label 14: 22 → 200 (+178)\n",
      "🔧 Augmenting label 15: 25 → 200 (+175)\n",
      "🔧 Augmenting label 16: 19 → 200 (+181)\n",
      "🔧 Augmenting label 17: 183 → 200 (+17)\n",
      "🔧 Augmenting label 18: 92 → 200 (+108)\n",
      "🔧 Augmenting label 19: 44 → 200 (+156)\n",
      "🔧 Augmenting label 20: 14 → 200 (+186)\n",
      "🔧 Augmenting label 21: 35 → 200 (+165)\n",
      "🔧 Augmenting label 22: 76 → 200 (+124)\n",
      "🔧 Augmenting label 23: 158 → 200 (+42)\n",
      "🔧 Augmenting label 24: 13 → 200 (+187)\n",
      "🔧 Augmenting label 25: 44 → 200 (+156)\n",
      "🔧 Augmenting label 26: 84 → 200 (+116)\n",
      "🔧 Augmenting label 27: 48 → 200 (+152)\n",
      "🔧 Augmenting label 28: 11 → 200 (+189)\n",
      "🔧 Augmenting label 29: 13 → 200 (+187)\n",
      "🔧 Augmenting label 30: 11 → 200 (+189)\n",
      "🔧 Augmenting label 31: 75 → 200 (+125)\n",
      "🔧 Augmenting label 32: 36 → 200 (+164)\n",
      "🔧 Augmenting label 33: 31 → 200 (+169)\n",
      "🔧 Augmenting label 34: 30 → 200 (+170)\n",
      "🔧 Augmenting label 35: 11 → 200 (+189)\n",
      "🔧 Augmenting label 36: 22 → 200 (+178)\n",
      "🔧 Augmenting label 37: 16 → 200 (+184)\n",
      "🔧 Augmenting label 38: 33 → 200 (+167)\n",
      "🔧 Augmenting label 39: 10 → 200 (+190)\n",
      "🔧 Augmenting label 40: 9 → 200 (+191)\n",
      "🔧 Augmenting label 41: 57 → 200 (+143)\n",
      "🔧 Augmenting label 42: 18 → 200 (+182)\n",
      "🔧 Augmenting label 43: 9 → 200 (+191)\n",
      "🔧 Augmenting label 44: 54 → 200 (+146)\n",
      "🔧 Augmenting label 46: 61 → 200 (+139)\n",
      "🔧 Augmenting label 47: 80 → 200 (+120)\n",
      "Label distribution after resampling:\n",
      "  label 0: 2000\n",
      "  label 1: 200\n",
      "  label 2: 200\n",
      "  label 3: 200\n",
      "  label 4: 200\n",
      "  label 5: 200\n",
      "  label 6: 200\n",
      "  label 7: 200\n",
      "  label 8: 200\n",
      "  label 9: 200\n",
      "  label 10: 200\n",
      "  label 11: 200\n",
      "  label 12: 200\n",
      "  label 13: 200\n",
      "  label 14: 200\n",
      "  label 15: 200\n",
      "  label 16: 200\n",
      "  label 17: 200\n",
      "  label 18: 200\n",
      "  label 19: 200\n",
      "  label 20: 200\n",
      "  label 21: 200\n",
      "  label 22: 200\n",
      "  label 23: 200\n",
      "  label 24: 200\n",
      "  label 25: 200\n",
      "  label 26: 200\n",
      "  label 27: 200\n",
      "  label 28: 200\n",
      "  label 29: 200\n",
      "  label 30: 200\n",
      "  label 31: 200\n",
      "  label 32: 200\n",
      "  label 33: 200\n",
      "  label 34: 200\n",
      "  label 35: 200\n",
      "  label 36: 200\n",
      "  label 37: 200\n",
      "  label 38: 200\n",
      "  label 39: 200\n",
      "  label 40: 200\n",
      "  label 41: 200\n",
      "  label 42: 200\n",
      "  label 43: 200\n",
      "  label 44: 200\n",
      "  label 45: 242\n",
      "  label 46: 200\n",
      "  label 47: 200\n",
      "model is bert-base-uncased cnn\n",
      "Epoch 1/20\n"
     ]
    },
    {
     "name": "stderr",
     "output_type": "stream",
     "text": [
      "100%|██████████| 716/716 [01:01<00:00, 11.73it/s]\n"
     ]
    },
    {
     "name": "stdout",
     "output_type": "stream",
     "text": [
      "{'val_loss': 1.628706198639986, 'val_accuracy': 0.5369946605644547, 'precision': 0.6124519839443887, 'recall': 0.5369946605644547, 'f1-score': 0.5505603225071676, 'macro_f1-score': 0.35839163649431094, 'balanced_accuracy': 0.47081198081366543, 'mcc': 0.44228733356418026, 'train_loss': 2.1153517319669937}\n",
      "Epoch 2/20\n"
     ]
    },
    {
     "name": "stderr",
     "output_type": "stream",
     "text": [
      "100%|██████████| 716/716 [01:01<00:00, 11.71it/s]\n"
     ]
    },
    {
     "name": "stdout",
     "output_type": "stream",
     "text": [
      "{'val_loss': 1.4747621137194518, 'val_accuracy': 0.635392829900839, 'precision': 0.6423773521211763, 'recall': 0.635392829900839, 'f1-score': 0.6130825581423038, 'macro_f1-score': 0.40012070183969956, 'balanced_accuracy': 0.4093045954702325, 'mcc': 0.5065554952635475, 'train_loss': 0.710116607163039}\n",
      "Epoch 3/20\n"
     ]
    },
    {
     "name": "stderr",
     "output_type": "stream",
     "text": [
      "100%|██████████| 716/716 [01:01<00:00, 11.71it/s]\n"
     ]
    },
    {
     "name": "stdout",
     "output_type": "stream",
     "text": [
      "{'val_loss': 1.5095425618857872, 'val_accuracy': 0.6613272311212814, 'precision': 0.6470542369680224, 'recall': 0.6613272311212814, 'f1-score': 0.6408748771168636, 'macro_f1-score': 0.4286445638180423, 'balanced_accuracy': 0.42442256371481246, 'mcc': 0.5442869237596465, 'train_loss': 0.33943085396121253}\n",
      "Epoch 4/20\n"
     ]
    },
    {
     "name": "stderr",
     "output_type": "stream",
     "text": [
      "100%|██████████| 716/716 [01:01<00:00, 11.71it/s]\n"
     ]
    },
    {
     "name": "stdout",
     "output_type": "stream",
     "text": [
      "{'val_loss': 1.5920506544956348, 'val_accuracy': 0.6529366895499619, 'precision': 0.6660785327583082, 'recall': 0.6529366895499619, 'f1-score': 0.6465641496758725, 'macro_f1-score': 0.44822333916221413, 'balanced_accuracy': 0.4737605871245099, 'mcc': 0.5569552518783257, 'train_loss': 0.17585410446828678}\n",
      "Epoch 5/20\n"
     ]
    },
    {
     "name": "stderr",
     "output_type": "stream",
     "text": [
      "100%|██████████| 716/716 [01:01<00:00, 11.72it/s]\n"
     ]
    },
    {
     "name": "stdout",
     "output_type": "stream",
     "text": [
      "{'val_loss': 1.7175908161372673, 'val_accuracy': 0.6514111365369947, 'precision': 0.6616921536482733, 'recall': 0.6514111365369947, 'f1-score': 0.6439533207577888, 'macro_f1-score': 0.44843295955074974, 'balanced_accuracy': 0.4563356146949837, 'mcc': 0.5506220829028232, 'train_loss': 0.13760394941333828}\n",
      "Epoch 6/20\n"
     ]
    },
    {
     "name": "stderr",
     "output_type": "stream",
     "text": [
      "100%|██████████| 716/716 [01:01<00:00, 11.72it/s]\n"
     ]
    },
    {
     "name": "stdout",
     "output_type": "stream",
     "text": [
      "{'val_loss': 1.8053506225710962, 'val_accuracy': 0.6506483600305111, 'precision': 0.6627483465301723, 'recall': 0.6506483600305111, 'f1-score': 0.6482409577108557, 'macro_f1-score': 0.45483057971253155, 'balanced_accuracy': 0.4718905907341456, 'mcc': 0.5511077449582348, 'train_loss': 0.10426146260562857}\n",
      "Epoch 7/20\n"
     ]
    },
    {
     "name": "stderr",
     "output_type": "stream",
     "text": [
      "100%|██████████| 716/716 [01:01<00:00, 11.70it/s]\n"
     ]
    },
    {
     "name": "stdout",
     "output_type": "stream",
     "text": [
      "{'val_loss': 1.969994852455651, 'val_accuracy': 0.6384439359267735, 'precision': 0.6529096311132013, 'recall': 0.6384439359267735, 'f1-score': 0.6369920923756275, 'macro_f1-score': 0.4372493738210366, 'balanced_accuracy': 0.4721602120148576, 'mcc': 0.5322868344336923, 'train_loss': 0.09519006498840861}\n",
      "Epoch 8/20\n"
     ]
    },
    {
     "name": "stderr",
     "output_type": "stream",
     "text": [
      "100%|██████████| 716/716 [01:01<00:00, 11.71it/s]\n"
     ]
    },
    {
     "name": "stdout",
     "output_type": "stream",
     "text": [
      "{'val_loss': 1.839367629551306, 'val_accuracy': 0.6613272311212814, 'precision': 0.6484417990976592, 'recall': 0.6613272311212814, 'f1-score': 0.6427612455299146, 'macro_f1-score': 0.4209337209961778, 'balanced_accuracy': 0.42304749863625046, 'mcc': 0.5501919574184738, 'train_loss': 0.08971383849024908}\n",
      "Epoch 9/20\n"
     ]
    },
    {
     "name": "stderr",
     "output_type": "stream",
     "text": [
      "100%|██████████| 716/716 [01:01<00:00, 11.71it/s]\n"
     ]
    },
    {
     "name": "stdout",
     "output_type": "stream",
     "text": [
      "{'val_loss': 2.0824830688354448, 'val_accuracy': 0.6460717009916095, 'precision': 0.6668629275163158, 'recall': 0.6460717009916095, 'f1-score': 0.6468388804341271, 'macro_f1-score': 0.4441366304325767, 'balanced_accuracy': 0.45438823522606625, 'mcc': 0.5493110280159426, 'train_loss': 0.06779267206201434}\n",
      "Early stopping.\n",
      "\n",
      " === bert-base-uncased + cnn + word2vec Final 5-fold Cross-Validation Results ===\n",
      "val_loss: 1.6829\n",
      "val_accuracy: 0.6329\n",
      "precision: 0.6482\n",
      "recall: 0.6329\n",
      "f1-score: 0.6301\n",
      "macro_f1-score: 0.4238\n",
      "balanced_accuracy: 0.4422\n",
      "mcc: 0.5237\n",
      "train_loss: 0.3185\n",
      "total_seconds: 2205.0000\n",
      "total_time: 0 hrs 36 mins 45 secs\n",
      "▶ Running: bert-base-uncased + lstm + word2vec\n",
      "tokenizer is bert-base-uncased\n",
      "Using device: cuda\n",
      "CUDA Available: True\n",
      "CUDA Device: NVIDIA GeForce RTX 5070 Ti\n",
      "Current GPU Memory Allocated: 1.33 GB\n",
      "Current GPU Memory Cached: 4.54 GB\n",
      "\n",
      "[Fold 1]\n",
      "🚀 Using Word2Vec for data augmentation + under-sampling\n",
      "🔻 Under-sampling label 0: 2471 → 2000\n",
      "🔧 Augmenting label 1: 21 → 200 (+179)\n",
      "🔧 Augmenting label 2: 64 → 200 (+136)\n",
      "🔧 Augmenting label 3: 24 → 200 (+176)\n",
      "🔧 Augmenting label 4: 191 → 200 (+9)\n",
      "🔧 Augmenting label 5: 113 → 200 (+87)\n",
      "🔧 Augmenting label 6: 93 → 200 (+107)\n",
      "🔧 Augmenting label 7: 30 → 200 (+170)\n",
      "🔧 Augmenting label 8: 68 → 200 (+132)\n",
      "🔧 Augmenting label 9: 30 → 200 (+170)\n",
      "🔧 Augmenting label 10: 67 → 200 (+133)\n",
      "🔧 Augmenting label 11: 169 → 200 (+31)\n",
      "🔧 Augmenting label 12: 189 → 200 (+11)\n",
      "🔧 Augmenting label 13: 29 → 200 (+171)\n",
      "🔧 Augmenting label 14: 22 → 200 (+178)\n",
      "🔧 Augmenting label 15: 25 → 200 (+175)\n",
      "🔧 Augmenting label 16: 19 → 200 (+181)\n",
      "🔧 Augmenting label 17: 183 → 200 (+17)\n",
      "🔧 Augmenting label 18: 92 → 200 (+108)\n",
      "🔧 Augmenting label 19: 44 → 200 (+156)\n",
      "🔧 Augmenting label 20: 13 → 200 (+187)\n",
      "🔧 Augmenting label 21: 35 → 200 (+165)\n",
      "🔧 Augmenting label 22: 76 → 200 (+124)\n",
      "🔧 Augmenting label 23: 158 → 200 (+42)\n",
      "🔧 Augmenting label 24: 13 → 200 (+187)\n",
      "🔧 Augmenting label 25: 44 → 200 (+156)\n",
      "🔧 Augmenting label 26: 84 → 200 (+116)\n",
      "🔧 Augmenting label 27: 48 → 200 (+152)\n",
      "🔧 Augmenting label 28: 11 → 200 (+189)\n",
      "🔧 Augmenting label 29: 13 → 200 (+187)\n",
      "🔧 Augmenting label 30: 11 → 200 (+189)\n",
      "🔧 Augmenting label 31: 75 → 200 (+125)\n",
      "🔧 Augmenting label 32: 36 → 200 (+164)\n",
      "🔧 Augmenting label 33: 32 → 200 (+168)\n",
      "🔧 Augmenting label 34: 29 → 200 (+171)\n",
      "🔧 Augmenting label 35: 11 → 200 (+189)\n",
      "🔧 Augmenting label 36: 22 → 200 (+178)\n",
      "🔧 Augmenting label 37: 16 → 200 (+184)\n",
      "🔧 Augmenting label 38: 33 → 200 (+167)\n",
      "🔧 Augmenting label 39: 10 → 200 (+190)\n",
      "🔧 Augmenting label 40: 9 → 200 (+191)\n",
      "🔧 Augmenting label 41: 57 → 200 (+143)\n",
      "🔧 Augmenting label 42: 19 → 200 (+181)\n",
      "🔧 Augmenting label 43: 8 → 200 (+192)\n",
      "🔧 Augmenting label 44: 54 → 200 (+146)\n",
      "🔧 Augmenting label 46: 61 → 200 (+139)\n",
      "🔧 Augmenting label 47: 80 → 200 (+120)\n",
      "Label distribution after resampling:\n",
      "  label 0: 2000\n",
      "  label 1: 200\n",
      "  label 2: 200\n",
      "  label 3: 200\n",
      "  label 4: 200\n",
      "  label 5: 200\n",
      "  label 6: 200\n",
      "  label 7: 200\n",
      "  label 8: 200\n",
      "  label 9: 200\n",
      "  label 10: 200\n",
      "  label 11: 200\n",
      "  label 12: 200\n",
      "  label 13: 200\n",
      "  label 14: 200\n",
      "  label 15: 200\n",
      "  label 16: 200\n",
      "  label 17: 200\n",
      "  label 18: 200\n",
      "  label 19: 200\n",
      "  label 20: 200\n",
      "  label 21: 200\n",
      "  label 22: 200\n",
      "  label 23: 200\n",
      "  label 24: 200\n",
      "  label 25: 200\n",
      "  label 26: 200\n",
      "  label 27: 200\n",
      "  label 28: 200\n",
      "  label 29: 200\n",
      "  label 30: 200\n",
      "  label 31: 200\n",
      "  label 32: 200\n",
      "  label 33: 200\n",
      "  label 34: 200\n",
      "  label 35: 200\n",
      "  label 36: 200\n",
      "  label 37: 200\n",
      "  label 38: 200\n",
      "  label 39: 200\n",
      "  label 40: 200\n",
      "  label 41: 200\n",
      "  label 42: 200\n",
      "  label 43: 200\n",
      "  label 44: 200\n",
      "  label 45: 242\n",
      "  label 46: 200\n",
      "  label 47: 200\n",
      "model is bert-base-uncased lstm\n",
      "Epoch 1/20\n"
     ]
    },
    {
     "name": "stderr",
     "output_type": "stream",
     "text": [
      "100%|██████████| 716/716 [01:03<00:00, 11.21it/s]\n"
     ]
    },
    {
     "name": "stdout",
     "output_type": "stream",
     "text": [
      "{'val_loss': 1.7936079338556383, 'val_accuracy': 0.5541158536585366, 'precision': 0.5759336385970354, 'recall': 0.5541158536585366, 'f1-score': 0.5278113760733759, 'macro_f1-score': 0.29996266962400675, 'balanced_accuracy': 0.3513463551838023, 'mcc': 0.3959607707391265, 'train_loss': 2.514355282876745}\n",
      "Epoch 2/20\n"
     ]
    },
    {
     "name": "stderr",
     "output_type": "stream",
     "text": [
      "100%|██████████| 716/716 [01:04<00:00, 11.18it/s]\n"
     ]
    },
    {
     "name": "stdout",
     "output_type": "stream",
     "text": [
      "{'val_loss': 1.6539584878014355, 'val_accuracy': 0.5922256097560976, 'precision': 0.578151634101527, 'recall': 0.5922256097560976, 'f1-score': 0.5545325731982107, 'macro_f1-score': 0.3235168889154017, 'balanced_accuracy': 0.3115096956403361, 'mcc': 0.43108352148757667, 'train_loss': 1.2420471657754322}\n",
      "Epoch 3/20\n"
     ]
    },
    {
     "name": "stderr",
     "output_type": "stream",
     "text": [
      "100%|██████████| 716/716 [01:04<00:00, 11.18it/s]\n"
     ]
    },
    {
     "name": "stdout",
     "output_type": "stream",
     "text": [
      "{'val_loss': 1.5843993625262889, 'val_accuracy': 0.6036585365853658, 'precision': 0.6189130595600744, 'recall': 0.6036585365853658, 'f1-score': 0.5949872888045058, 'macro_f1-score': 0.3759353685802405, 'balanced_accuracy': 0.4044860444004384, 'mcc': 0.4758881822148512, 'train_loss': 0.8317515372439137}\n",
      "Epoch 4/20\n"
     ]
    },
    {
     "name": "stderr",
     "output_type": "stream",
     "text": [
      "100%|██████████| 716/716 [01:04<00:00, 11.17it/s]\n"
     ]
    },
    {
     "name": "stdout",
     "output_type": "stream",
     "text": [
      "{'val_loss': 1.5825344076970729, 'val_accuracy': 0.6089939024390244, 'precision': 0.619730921914722, 'recall': 0.6089939024390244, 'f1-score': 0.5931333343215048, 'macro_f1-score': 0.3923384687283835, 'balanced_accuracy': 0.3864813789978349, 'mcc': 0.4727643332173175, 'train_loss': 0.5550390602344407}\n",
      "Epoch 5/20\n"
     ]
    },
    {
     "name": "stderr",
     "output_type": "stream",
     "text": [
      "100%|██████████| 716/716 [01:04<00:00, 11.17it/s]\n"
     ]
    },
    {
     "name": "stdout",
     "output_type": "stream",
     "text": [
      "{'val_loss': 1.7459635331136425, 'val_accuracy': 0.6189024390243902, 'precision': 0.6246148756331127, 'recall': 0.6189024390243902, 'f1-score': 0.6117319743618969, 'macro_f1-score': 0.40990768445256665, 'balanced_accuracy': 0.4301224935001011, 'mcc': 0.4955989615611696, 'train_loss': 0.4349600739995611}\n",
      "Epoch 6/20\n"
     ]
    },
    {
     "name": "stderr",
     "output_type": "stream",
     "text": [
      "100%|██████████| 716/716 [01:04<00:00, 11.18it/s]\n"
     ]
    },
    {
     "name": "stdout",
     "output_type": "stream",
     "text": [
      "{'val_loss': 1.7443659207442912, 'val_accuracy': 0.6242378048780488, 'precision': 0.6096012603609778, 'recall': 0.6242378048780488, 'f1-score': 0.6039075656588897, 'macro_f1-score': 0.3679177383572603, 'balanced_accuracy': 0.3687563591470792, 'mcc': 0.4887292637413266, 'train_loss': 0.35078541511492856}\n",
      "Epoch 7/20\n"
     ]
    },
    {
     "name": "stderr",
     "output_type": "stream",
     "text": [
      "100%|██████████| 716/716 [01:03<00:00, 11.19it/s]\n"
     ]
    },
    {
     "name": "stdout",
     "output_type": "stream",
     "text": [
      "{'val_loss': 1.7341984265097758, 'val_accuracy': 0.6257621951219512, 'precision': 0.6222406359452844, 'recall': 0.6257621951219512, 'f1-score': 0.6153700447859076, 'macro_f1-score': 0.39982403560990215, 'balanced_accuracy': 0.3969292619747196, 'mcc': 0.501483828915686, 'train_loss': 0.24198604349109382}\n",
      "Epoch 8/20\n"
     ]
    },
    {
     "name": "stderr",
     "output_type": "stream",
     "text": [
      "100%|██████████| 716/716 [01:03<00:00, 11.19it/s]\n"
     ]
    },
    {
     "name": "stdout",
     "output_type": "stream",
     "text": [
      "{'val_loss': 1.838902225581611, 'val_accuracy': 0.614329268292683, 'precision': 0.6250762716110276, 'recall': 0.614329268292683, 'f1-score': 0.6072725073607901, 'macro_f1-score': 0.3827068286662178, 'balanced_accuracy': 0.38454696626180723, 'mcc': 0.4924914465939153, 'train_loss': 0.19223438491056252}\n",
      "Early stopping.\n",
      "\n",
      "[Fold 2]\n",
      "🚀 Using Word2Vec for data augmentation + under-sampling\n",
      "🔻 Under-sampling label 0: 2471 → 2000\n",
      "🔧 Augmenting label 1: 22 → 200 (+178)\n",
      "🔧 Augmenting label 2: 64 → 200 (+136)\n",
      "🔧 Augmenting label 3: 24 → 200 (+176)\n",
      "🔧 Augmenting label 4: 190 → 200 (+10)\n",
      "🔧 Augmenting label 5: 113 → 200 (+87)\n",
      "🔧 Augmenting label 6: 93 → 200 (+107)\n",
      "🔧 Augmenting label 7: 30 → 200 (+170)\n",
      "🔧 Augmenting label 8: 68 → 200 (+132)\n",
      "🔧 Augmenting label 9: 30 → 200 (+170)\n",
      "🔧 Augmenting label 10: 67 → 200 (+133)\n",
      "🔧 Augmenting label 11: 169 → 200 (+31)\n",
      "🔧 Augmenting label 12: 189 → 200 (+11)\n",
      "🔧 Augmenting label 13: 29 → 200 (+171)\n",
      "🔧 Augmenting label 14: 23 → 200 (+177)\n",
      "🔧 Augmenting label 15: 24 → 200 (+176)\n",
      "🔧 Augmenting label 16: 20 → 200 (+180)\n",
      "🔧 Augmenting label 17: 182 → 200 (+18)\n",
      "🔧 Augmenting label 18: 92 → 200 (+108)\n",
      "🔧 Augmenting label 19: 44 → 200 (+156)\n",
      "🔧 Augmenting label 20: 13 → 200 (+187)\n",
      "🔧 Augmenting label 21: 36 → 200 (+164)\n",
      "🔧 Augmenting label 22: 76 → 200 (+124)\n",
      "🔧 Augmenting label 23: 157 → 200 (+43)\n",
      "🔧 Augmenting label 24: 12 → 200 (+188)\n",
      "🔧 Augmenting label 25: 44 → 200 (+156)\n",
      "🔧 Augmenting label 26: 84 → 200 (+116)\n",
      "🔧 Augmenting label 27: 48 → 200 (+152)\n",
      "🔧 Augmenting label 28: 12 → 200 (+188)\n",
      "🔧 Augmenting label 29: 12 → 200 (+188)\n",
      "🔧 Augmenting label 30: 12 → 200 (+188)\n",
      "🔧 Augmenting label 31: 75 → 200 (+125)\n",
      "🔧 Augmenting label 32: 36 → 200 (+164)\n",
      "🔧 Augmenting label 33: 31 → 200 (+169)\n",
      "🔧 Augmenting label 34: 29 → 200 (+171)\n",
      "🔧 Augmenting label 35: 12 → 200 (+188)\n",
      "🔧 Augmenting label 36: 21 → 200 (+179)\n",
      "🔧 Augmenting label 37: 16 → 200 (+184)\n",
      "🔧 Augmenting label 38: 33 → 200 (+167)\n",
      "🔧 Augmenting label 39: 11 → 200 (+189)\n",
      "🔧 Augmenting label 40: 8 → 200 (+192)\n",
      "🔧 Augmenting label 41: 57 → 200 (+143)\n",
      "🔧 Augmenting label 42: 19 → 200 (+181)\n",
      "🔧 Augmenting label 43: 9 → 200 (+191)\n",
      "🔧 Augmenting label 44: 54 → 200 (+146)\n",
      "🔧 Augmenting label 46: 62 → 200 (+138)\n",
      "🔧 Augmenting label 47: 80 → 200 (+120)\n",
      "Label distribution after resampling:\n",
      "  label 0: 2000\n",
      "  label 1: 200\n",
      "  label 2: 200\n",
      "  label 3: 200\n",
      "  label 4: 200\n",
      "  label 5: 200\n",
      "  label 6: 200\n",
      "  label 7: 200\n",
      "  label 8: 200\n",
      "  label 9: 200\n",
      "  label 10: 200\n",
      "  label 11: 200\n",
      "  label 12: 200\n",
      "  label 13: 200\n",
      "  label 14: 200\n",
      "  label 15: 200\n",
      "  label 16: 200\n",
      "  label 17: 200\n",
      "  label 18: 200\n",
      "  label 19: 200\n",
      "  label 20: 200\n",
      "  label 21: 200\n",
      "  label 22: 200\n",
      "  label 23: 200\n",
      "  label 24: 200\n",
      "  label 25: 200\n",
      "  label 26: 200\n",
      "  label 27: 200\n",
      "  label 28: 200\n",
      "  label 29: 200\n",
      "  label 30: 200\n",
      "  label 31: 200\n",
      "  label 32: 200\n",
      "  label 33: 200\n",
      "  label 34: 200\n",
      "  label 35: 200\n",
      "  label 36: 200\n",
      "  label 37: 200\n",
      "  label 38: 200\n",
      "  label 39: 200\n",
      "  label 40: 200\n",
      "  label 41: 200\n",
      "  label 42: 200\n",
      "  label 43: 200\n",
      "  label 44: 200\n",
      "  label 45: 242\n",
      "  label 46: 200\n",
      "  label 47: 200\n",
      "model is bert-base-uncased lstm\n",
      "Epoch 1/20\n"
     ]
    },
    {
     "name": "stderr",
     "output_type": "stream",
     "text": [
      "100%|██████████| 716/716 [01:04<00:00, 11.17it/s]\n"
     ]
    },
    {
     "name": "stdout",
     "output_type": "stream",
     "text": [
      "{'val_loss': 1.6537107251039365, 'val_accuracy': 0.581998474446987, 'precision': 0.5710543844058803, 'recall': 0.581998474446987, 'f1-score': 0.533412713159915, 'macro_f1-score': 0.28515138966781456, 'balanced_accuracy': 0.34223303653298887, 'mcc': 0.4223970346326081, 'train_loss': 2.4995646046360114}\n",
      "Epoch 2/20\n"
     ]
    },
    {
     "name": "stderr",
     "output_type": "stream",
     "text": [
      "100%|██████████| 716/716 [01:04<00:00, 11.18it/s]\n"
     ]
    },
    {
     "name": "stdout",
     "output_type": "stream",
     "text": [
      "{'val_loss': 1.530374941302509, 'val_accuracy': 0.6003051106025934, 'precision': 0.632379065543696, 'recall': 0.6003051106025934, 'f1-score': 0.5940158405845324, 'macro_f1-score': 0.35975072863166724, 'balanced_accuracy': 0.4234460580670804, 'mcc': 0.47876684841207284, 'train_loss': 1.1700301901671473}\n",
      "Epoch 3/20\n"
     ]
    },
    {
     "name": "stderr",
     "output_type": "stream",
     "text": [
      "100%|██████████| 716/716 [01:04<00:00, 11.15it/s]\n"
     ]
    },
    {
     "name": "stdout",
     "output_type": "stream",
     "text": [
      "{'val_loss': 1.5716765631989735, 'val_accuracy': 0.597254004576659, 'precision': 0.6334470023111828, 'recall': 0.597254004576659, 'f1-score': 0.6058862105892119, 'macro_f1-score': 0.3815383686019705, 'balanced_accuracy': 0.45027054533217226, 'mcc': 0.4918027765266909, 'train_loss': 0.6879999842286609}\n",
      "Epoch 4/20\n"
     ]
    },
    {
     "name": "stderr",
     "output_type": "stream",
     "text": [
      "100%|██████████| 716/716 [01:03<00:00, 11.19it/s]\n"
     ]
    },
    {
     "name": "stdout",
     "output_type": "stream",
     "text": [
      "{'val_loss': 1.462409546099058, 'val_accuracy': 0.6475972540045767, 'precision': 0.6328766052146559, 'recall': 0.6475972540045767, 'f1-score': 0.6325598495950355, 'macro_f1-score': 0.4046467870720119, 'balanced_accuracy': 0.41834875704225, 'mcc': 0.5280250025894532, 'train_loss': 0.4491609740253101}\n",
      "Epoch 5/20\n"
     ]
    },
    {
     "name": "stderr",
     "output_type": "stream",
     "text": [
      "100%|██████████| 716/716 [01:03<00:00, 11.20it/s]\n"
     ]
    },
    {
     "name": "stdout",
     "output_type": "stream",
     "text": [
      "{'val_loss': 1.6487300301470407, 'val_accuracy': 0.6117467581998475, 'precision': 0.6300714677524168, 'recall': 0.6117467581998475, 'f1-score': 0.6127784328322833, 'macro_f1-score': 0.3733713577381656, 'balanced_accuracy': 0.3949458698352198, 'mcc': 0.4941841826949423, 'train_loss': 0.31634076713069276}\n",
      "Epoch 6/20\n"
     ]
    },
    {
     "name": "stderr",
     "output_type": "stream",
     "text": [
      "100%|██████████| 716/716 [01:04<00:00, 11.14it/s]\n"
     ]
    },
    {
     "name": "stdout",
     "output_type": "stream",
     "text": [
      "{'val_loss': 1.6817087414788037, 'val_accuracy': 0.6285278413424866, 'precision': 0.6384084350368594, 'recall': 0.6285278413424866, 'f1-score': 0.627038495566405, 'macro_f1-score': 0.3928874962757653, 'balanced_accuracy': 0.417068681590816, 'mcc': 0.5196986589748186, 'train_loss': 0.2422105018634807}\n",
      "Epoch 7/20\n"
     ]
    },
    {
     "name": "stderr",
     "output_type": "stream",
     "text": [
      "100%|██████████| 716/716 [01:03<00:00, 11.19it/s]\n"
     ]
    },
    {
     "name": "stdout",
     "output_type": "stream",
     "text": [
      "{'val_loss': 1.751988872522261, 'val_accuracy': 0.6025934401220442, 'precision': 0.6475153127558901, 'recall': 0.6025934401220442, 'f1-score': 0.6161187572919302, 'macro_f1-score': 0.403472301727025, 'balanced_accuracy': 0.4287476306220233, 'mcc': 0.5052229167313357, 'train_loss': 0.19399796637534764}\n",
      "Early stopping.\n",
      "\n",
      "[Fold 3]\n",
      "🚀 Using Word2Vec for data augmentation + under-sampling\n",
      "🔻 Under-sampling label 0: 2471 → 2000\n",
      "🔧 Augmenting label 1: 22 → 200 (+178)\n",
      "🔧 Augmenting label 2: 64 → 200 (+136)\n",
      "🔧 Augmenting label 3: 24 → 200 (+176)\n",
      "🔧 Augmenting label 4: 190 → 200 (+10)\n",
      "🔧 Augmenting label 5: 113 → 200 (+87)\n",
      "🔧 Augmenting label 6: 93 → 200 (+107)\n",
      "🔧 Augmenting label 7: 30 → 200 (+170)\n",
      "🔧 Augmenting label 8: 68 → 200 (+132)\n",
      "🔧 Augmenting label 9: 30 → 200 (+170)\n",
      "🔧 Augmenting label 10: 67 → 200 (+133)\n",
      "🔧 Augmenting label 11: 169 → 200 (+31)\n",
      "🔧 Augmenting label 12: 190 → 200 (+10)\n",
      "🔧 Augmenting label 13: 28 → 200 (+172)\n",
      "🔧 Augmenting label 14: 23 → 200 (+177)\n",
      "🔧 Augmenting label 15: 25 → 200 (+175)\n",
      "🔧 Augmenting label 16: 19 → 200 (+181)\n",
      "🔧 Augmenting label 17: 182 → 200 (+18)\n",
      "🔧 Augmenting label 18: 92 → 200 (+108)\n",
      "🔧 Augmenting label 19: 44 → 200 (+156)\n",
      "🔧 Augmenting label 20: 14 → 200 (+186)\n",
      "🔧 Augmenting label 21: 35 → 200 (+165)\n",
      "🔧 Augmenting label 22: 76 → 200 (+124)\n",
      "🔧 Augmenting label 23: 157 → 200 (+43)\n",
      "🔧 Augmenting label 24: 13 → 200 (+187)\n",
      "🔧 Augmenting label 25: 44 → 200 (+156)\n",
      "🔧 Augmenting label 26: 84 → 200 (+116)\n",
      "🔧 Augmenting label 27: 48 → 200 (+152)\n",
      "🔧 Augmenting label 28: 11 → 200 (+189)\n",
      "🔧 Augmenting label 29: 13 → 200 (+187)\n",
      "🔧 Augmenting label 30: 11 → 200 (+189)\n",
      "🔧 Augmenting label 31: 76 → 200 (+124)\n",
      "🔧 Augmenting label 32: 36 → 200 (+164)\n",
      "🔧 Augmenting label 33: 31 → 200 (+169)\n",
      "🔧 Augmenting label 34: 30 → 200 (+170)\n",
      "🔧 Augmenting label 35: 11 → 200 (+189)\n",
      "🔧 Augmenting label 36: 21 → 200 (+179)\n",
      "🔧 Augmenting label 37: 16 → 200 (+184)\n",
      "🔧 Augmenting label 38: 32 → 200 (+168)\n",
      "🔧 Augmenting label 39: 11 → 200 (+189)\n",
      "🔧 Augmenting label 40: 9 → 200 (+191)\n",
      "🔧 Augmenting label 41: 57 → 200 (+143)\n",
      "🔧 Augmenting label 42: 18 → 200 (+182)\n",
      "🔧 Augmenting label 43: 9 → 200 (+191)\n",
      "🔧 Augmenting label 44: 55 → 200 (+145)\n",
      "🔧 Augmenting label 46: 62 → 200 (+138)\n",
      "🔧 Augmenting label 47: 80 → 200 (+120)\n",
      "Label distribution after resampling:\n",
      "  label 0: 2000\n",
      "  label 1: 200\n",
      "  label 2: 200\n",
      "  label 3: 200\n",
      "  label 4: 200\n",
      "  label 5: 200\n",
      "  label 6: 200\n",
      "  label 7: 200\n",
      "  label 8: 200\n",
      "  label 9: 200\n",
      "  label 10: 200\n",
      "  label 11: 200\n",
      "  label 12: 200\n",
      "  label 13: 200\n",
      "  label 14: 200\n",
      "  label 15: 200\n",
      "  label 16: 200\n",
      "  label 17: 200\n",
      "  label 18: 200\n",
      "  label 19: 200\n",
      "  label 20: 200\n",
      "  label 21: 200\n",
      "  label 22: 200\n",
      "  label 23: 200\n",
      "  label 24: 200\n",
      "  label 25: 200\n",
      "  label 26: 200\n",
      "  label 27: 200\n",
      "  label 28: 200\n",
      "  label 29: 200\n",
      "  label 30: 200\n",
      "  label 31: 200\n",
      "  label 32: 200\n",
      "  label 33: 200\n",
      "  label 34: 200\n",
      "  label 35: 200\n",
      "  label 36: 200\n",
      "  label 37: 200\n",
      "  label 38: 200\n",
      "  label 39: 200\n",
      "  label 40: 200\n",
      "  label 41: 200\n",
      "  label 42: 200\n",
      "  label 43: 200\n",
      "  label 44: 200\n",
      "  label 45: 241\n",
      "  label 46: 200\n",
      "  label 47: 200\n",
      "model is bert-base-uncased lstm\n",
      "Epoch 1/20\n"
     ]
    },
    {
     "name": "stderr",
     "output_type": "stream",
     "text": [
      "100%|██████████| 716/716 [01:04<00:00, 11.17it/s]\n"
     ]
    },
    {
     "name": "stdout",
     "output_type": "stream",
     "text": [
      "{'val_loss': 1.9769182132511605, 'val_accuracy': 0.4843630816170862, 'precision': 0.5772795370399733, 'recall': 0.4843630816170862, 'f1-score': 0.504656435815823, 'macro_f1-score': 0.27438073383578265, 'balanced_accuracy': 0.34575187871959684, 'mcc': 0.3530065542231362, 'train_loss': 2.4759064864512927}\n",
      "Epoch 2/20\n"
     ]
    },
    {
     "name": "stderr",
     "output_type": "stream",
     "text": [
      "100%|██████████| 716/716 [01:04<00:00, 11.18it/s]\n"
     ]
    },
    {
     "name": "stdout",
     "output_type": "stream",
     "text": [
      "{'val_loss': 1.602992989668032, 'val_accuracy': 0.5842868039664378, 'precision': 0.5951907133979799, 'recall': 0.5842868039664378, 'f1-score': 0.5724976466936762, 'macro_f1-score': 0.37200168948629964, 'balanced_accuracy': 0.40520285996364985, 'mcc': 0.4489447030690721, 'train_loss': 1.169943927095256}\n",
      "Epoch 3/20\n"
     ]
    },
    {
     "name": "stderr",
     "output_type": "stream",
     "text": [
      "100%|██████████| 716/716 [01:04<00:00, 11.19it/s]\n"
     ]
    },
    {
     "name": "stdout",
     "output_type": "stream",
     "text": [
      "{'val_loss': 1.5998324810004816, 'val_accuracy': 0.5865751334858886, 'precision': 0.5908179279288496, 'recall': 0.5865751334858886, 'f1-score': 0.578031383287543, 'macro_f1-score': 0.37836459699483216, 'balanced_accuracy': 0.4119793309900061, 'mcc': 0.45217508951346486, 'train_loss': 0.7318756960269959}\n",
      "Epoch 4/20\n"
     ]
    },
    {
     "name": "stderr",
     "output_type": "stream",
     "text": [
      "100%|██████████| 716/716 [01:04<00:00, 11.18it/s]\n"
     ]
    },
    {
     "name": "stdout",
     "output_type": "stream",
     "text": [
      "{'val_loss': 1.6308926293035833, 'val_accuracy': 0.6071700991609459, 'precision': 0.6286661986507028, 'recall': 0.6071700991609459, 'f1-score': 0.608573089584787, 'macro_f1-score': 0.41234347710125047, 'balanced_accuracy': 0.4216779427243343, 'mcc': 0.4915620523459724, 'train_loss': 0.5217146509998171}\n",
      "Epoch 5/20\n"
     ]
    },
    {
     "name": "stderr",
     "output_type": "stream",
     "text": [
      "100%|██████████| 716/716 [01:04<00:00, 11.18it/s]\n"
     ]
    },
    {
     "name": "stdout",
     "output_type": "stream",
     "text": [
      "{'val_loss': 1.66775984771368, 'val_accuracy': 0.6079328756674295, 'precision': 0.6323021825140602, 'recall': 0.6079328756674295, 'f1-score': 0.6086519362662095, 'macro_f1-score': 0.39448051276186274, 'balanced_accuracy': 0.39103664463392684, 'mcc': 0.4852846241880121, 'train_loss': 0.39944530609870255}\n",
      "Epoch 6/20\n"
     ]
    },
    {
     "name": "stderr",
     "output_type": "stream",
     "text": [
      "100%|██████████| 716/716 [01:03<00:00, 11.20it/s]\n"
     ]
    },
    {
     "name": "stdout",
     "output_type": "stream",
     "text": [
      "{'val_loss': 1.6827764627410144, 'val_accuracy': 0.6231884057971014, 'precision': 0.6308996811820079, 'recall': 0.6231884057971014, 'f1-score': 0.6157859048353775, 'macro_f1-score': 0.3858570156248622, 'balanced_accuracy': 0.3668650963844235, 'mcc': 0.4969050909378933, 'train_loss': 0.2940575160533606}\n",
      "Epoch 7/20\n"
     ]
    },
    {
     "name": "stderr",
     "output_type": "stream",
     "text": [
      "100%|██████████| 716/716 [01:03<00:00, 11.19it/s]\n"
     ]
    },
    {
     "name": "stdout",
     "output_type": "stream",
     "text": [
      "{'val_loss': 1.7727249708117507, 'val_accuracy': 0.6193745232646835, 'precision': 0.6115418369920693, 'recall': 0.6193745232646835, 'f1-score': 0.6071849022683128, 'macro_f1-score': 0.3943522215995312, 'balanced_accuracy': 0.38302800647504126, 'mcc': 0.4943514712494119, 'train_loss': 0.21857617224056752}\n",
      "Early stopping.\n",
      "\n",
      "[Fold 4]\n",
      "🚀 Using Word2Vec for data augmentation + under-sampling\n",
      "🔻 Under-sampling label 0: 2471 → 2000\n",
      "🔧 Augmenting label 1: 22 → 200 (+178)\n",
      "🔧 Augmenting label 2: 64 → 200 (+136)\n",
      "🔧 Augmenting label 3: 24 → 200 (+176)\n",
      "🔧 Augmenting label 4: 190 → 200 (+10)\n",
      "🔧 Augmenting label 5: 113 → 200 (+87)\n",
      "🔧 Augmenting label 6: 93 → 200 (+107)\n",
      "🔧 Augmenting label 7: 31 → 200 (+169)\n",
      "🔧 Augmenting label 8: 68 → 200 (+132)\n",
      "🔧 Augmenting label 9: 29 → 200 (+171)\n",
      "🔧 Augmenting label 10: 67 → 200 (+133)\n",
      "🔧 Augmenting label 11: 169 → 200 (+31)\n",
      "🔧 Augmenting label 12: 190 → 200 (+10)\n",
      "🔧 Augmenting label 13: 29 → 200 (+171)\n",
      "🔧 Augmenting label 14: 22 → 200 (+178)\n",
      "🔧 Augmenting label 15: 25 → 200 (+175)\n",
      "🔧 Augmenting label 16: 19 → 200 (+181)\n",
      "🔧 Augmenting label 17: 182 → 200 (+18)\n",
      "🔧 Augmenting label 18: 92 → 200 (+108)\n",
      "🔧 Augmenting label 19: 44 → 200 (+156)\n",
      "🔧 Augmenting label 20: 14 → 200 (+186)\n",
      "🔧 Augmenting label 21: 35 → 200 (+165)\n",
      "🔧 Augmenting label 22: 76 → 200 (+124)\n",
      "🔧 Augmenting label 23: 158 → 200 (+42)\n",
      "🔧 Augmenting label 24: 13 → 200 (+187)\n",
      "🔧 Augmenting label 25: 44 → 200 (+156)\n",
      "🔧 Augmenting label 26: 84 → 200 (+116)\n",
      "🔧 Augmenting label 27: 48 → 200 (+152)\n",
      "🔧 Augmenting label 28: 11 → 200 (+189)\n",
      "🔧 Augmenting label 29: 13 → 200 (+187)\n",
      "🔧 Augmenting label 30: 11 → 200 (+189)\n",
      "🔧 Augmenting label 31: 75 → 200 (+125)\n",
      "🔧 Augmenting label 32: 36 → 200 (+164)\n",
      "🔧 Augmenting label 33: 31 → 200 (+169)\n",
      "🔧 Augmenting label 34: 30 → 200 (+170)\n",
      "🔧 Augmenting label 35: 11 → 200 (+189)\n",
      "🔧 Augmenting label 36: 22 → 200 (+178)\n",
      "🔧 Augmenting label 37: 16 → 200 (+184)\n",
      "🔧 Augmenting label 38: 33 → 200 (+167)\n",
      "🔧 Augmenting label 39: 10 → 200 (+190)\n",
      "🔧 Augmenting label 40: 9 → 200 (+191)\n",
      "🔧 Augmenting label 41: 56 → 200 (+144)\n",
      "🔧 Augmenting label 42: 18 → 200 (+182)\n",
      "🔧 Augmenting label 43: 9 → 200 (+191)\n",
      "🔧 Augmenting label 44: 55 → 200 (+145)\n",
      "🔧 Augmenting label 46: 62 → 200 (+138)\n",
      "🔧 Augmenting label 47: 80 → 200 (+120)\n",
      "Label distribution after resampling:\n",
      "  label 0: 2000\n",
      "  label 1: 200\n",
      "  label 2: 200\n",
      "  label 3: 200\n",
      "  label 4: 200\n",
      "  label 5: 200\n",
      "  label 6: 200\n",
      "  label 7: 200\n",
      "  label 8: 200\n",
      "  label 9: 200\n",
      "  label 10: 200\n",
      "  label 11: 200\n",
      "  label 12: 200\n",
      "  label 13: 200\n",
      "  label 14: 200\n",
      "  label 15: 200\n",
      "  label 16: 200\n",
      "  label 17: 200\n",
      "  label 18: 200\n",
      "  label 19: 200\n",
      "  label 20: 200\n",
      "  label 21: 200\n",
      "  label 22: 200\n",
      "  label 23: 200\n",
      "  label 24: 200\n",
      "  label 25: 200\n",
      "  label 26: 200\n",
      "  label 27: 200\n",
      "  label 28: 200\n",
      "  label 29: 200\n",
      "  label 30: 200\n",
      "  label 31: 200\n",
      "  label 32: 200\n",
      "  label 33: 200\n",
      "  label 34: 200\n",
      "  label 35: 200\n",
      "  label 36: 200\n",
      "  label 37: 200\n",
      "  label 38: 200\n",
      "  label 39: 200\n",
      "  label 40: 200\n",
      "  label 41: 200\n",
      "  label 42: 200\n",
      "  label 43: 200\n",
      "  label 44: 200\n",
      "  label 45: 241\n",
      "  label 46: 200\n",
      "  label 47: 200\n",
      "model is bert-base-uncased lstm\n",
      "Epoch 1/20\n"
     ]
    },
    {
     "name": "stderr",
     "output_type": "stream",
     "text": [
      "100%|██████████| 716/716 [01:04<00:00, 11.17it/s]\n"
     ]
    },
    {
     "name": "stdout",
     "output_type": "stream",
     "text": [
      "{'val_loss': 1.791661394078557, 'val_accuracy': 0.5469107551487414, 'precision': 0.5969391583165264, 'recall': 0.5469107551487414, 'f1-score': 0.5252988733749426, 'macro_f1-score': 0.26758633575227636, 'balanced_accuracy': 0.35758865980384397, 'mcc': 0.3995241558701268, 'train_loss': 2.5169153049088724}\n",
      "Epoch 2/20\n"
     ]
    },
    {
     "name": "stderr",
     "output_type": "stream",
     "text": [
      "100%|██████████| 716/716 [01:03<00:00, 11.20it/s]\n"
     ]
    },
    {
     "name": "stdout",
     "output_type": "stream",
     "text": [
      "{'val_loss': 1.594508805652944, 'val_accuracy': 0.5903890160183066, 'precision': 0.6133160035754794, 'recall': 0.5903890160183066, 'f1-score': 0.5855787591266415, 'macro_f1-score': 0.36279462773683296, 'balanced_accuracy': 0.4287826948831908, 'mcc': 0.46941640941269913, 'train_loss': 1.3131439683948483}\n",
      "Epoch 3/20\n"
     ]
    },
    {
     "name": "stderr",
     "output_type": "stream",
     "text": [
      "100%|██████████| 716/716 [01:04<00:00, 11.18it/s]\n"
     ]
    },
    {
     "name": "stdout",
     "output_type": "stream",
     "text": [
      "{'val_loss': 1.543980690400775, 'val_accuracy': 0.6209000762776506, 'precision': 0.646251586795813, 'recall': 0.6209000762776506, 'f1-score': 0.6184387528328616, 'macro_f1-score': 0.37438160368658835, 'balanced_accuracy': 0.4150138109720933, 'mcc': 0.5051024142158638, 'train_loss': 0.8642460822684472}\n",
      "Epoch 4/20\n"
     ]
    },
    {
     "name": "stderr",
     "output_type": "stream",
     "text": [
      "100%|██████████| 716/716 [01:03<00:00, 11.20it/s]\n"
     ]
    },
    {
     "name": "stdout",
     "output_type": "stream",
     "text": [
      "{'val_loss': 1.4499639496207237, 'val_accuracy': 0.6552250190694127, 'precision': 0.6440819486588826, 'recall': 0.6552250190694127, 'f1-score': 0.6360915943019382, 'macro_f1-score': 0.40627336162445715, 'balanced_accuracy': 0.4033872981875799, 'mcc': 0.5299654383262545, 'train_loss': 0.6208748117963362}\n",
      "Epoch 5/20\n"
     ]
    },
    {
     "name": "stderr",
     "output_type": "stream",
     "text": [
      "100%|██████████| 716/716 [01:04<00:00, 11.19it/s]\n"
     ]
    },
    {
     "name": "stdout",
     "output_type": "stream",
     "text": [
      "{'val_loss': 1.5590405398752631, 'val_accuracy': 0.6285278413424866, 'precision': 0.6507137356055162, 'recall': 0.6285278413424866, 'f1-score': 0.6256318388450629, 'macro_f1-score': 0.40134630695995915, 'balanced_accuracy': 0.4037926797905052, 'mcc': 0.5127548244956164, 'train_loss': 0.4592252071926048}\n",
      "Epoch 6/20\n"
     ]
    },
    {
     "name": "stderr",
     "output_type": "stream",
     "text": [
      "100%|██████████| 716/716 [01:03<00:00, 11.19it/s]\n"
     ]
    },
    {
     "name": "stdout",
     "output_type": "stream",
     "text": [
      "{'val_loss': 1.6011312556702917, 'val_accuracy': 0.6361556064073226, 'precision': 0.6514082492009421, 'recall': 0.6361556064073226, 'f1-score': 0.6369771223163788, 'macro_f1-score': 0.4033474366079403, 'balanced_accuracy': 0.4388654049638474, 'mcc': 0.5289610773177832, 'train_loss': 0.35448440493672423}\n",
      "Epoch 7/20\n"
     ]
    },
    {
     "name": "stderr",
     "output_type": "stream",
     "text": [
      "100%|██████████| 716/716 [01:03<00:00, 11.21it/s]\n"
     ]
    },
    {
     "name": "stdout",
     "output_type": "stream",
     "text": [
      "{'val_loss': 1.657048461368171, 'val_accuracy': 0.6491228070175439, 'precision': 0.6471029436727105, 'recall': 0.6491228070175439, 'f1-score': 0.6393649870194382, 'macro_f1-score': 0.4141311685032672, 'balanced_accuracy': 0.42566064983520535, 'mcc': 0.5330702610230594, 'train_loss': 0.26885126422643246}\n",
      "Epoch 8/20\n"
     ]
    },
    {
     "name": "stderr",
     "output_type": "stream",
     "text": [
      "100%|██████████| 716/716 [01:04<00:00, 11.18it/s]\n"
     ]
    },
    {
     "name": "stdout",
     "output_type": "stream",
     "text": [
      "{'val_loss': 1.6012746929758932, 'val_accuracy': 0.6445461479786423, 'precision': 0.6530105814942228, 'recall': 0.6445461479786423, 'f1-score': 0.6436803333968938, 'macro_f1-score': 0.434380540238195, 'balanced_accuracy': 0.44815079647563794, 'mcc': 0.5355799211806828, 'train_loss': 0.23428656996160163}\n",
      "Epoch 9/20\n"
     ]
    },
    {
     "name": "stderr",
     "output_type": "stream",
     "text": [
      "100%|██████████| 716/716 [01:04<00:00, 11.19it/s]\n"
     ]
    },
    {
     "name": "stdout",
     "output_type": "stream",
     "text": [
      "{'val_loss': 1.837779154728462, 'val_accuracy': 0.6475972540045767, 'precision': 0.6479157828404146, 'recall': 0.6475972540045767, 'f1-score': 0.6295377928912591, 'macro_f1-score': 0.41724444292550006, 'balanced_accuracy': 0.40873008444262443, 'mcc': 0.51909069668664, 'train_loss': 0.1954626770190603}\n",
      "Epoch 10/20\n"
     ]
    },
    {
     "name": "stderr",
     "output_type": "stream",
     "text": [
      "100%|██████████| 716/716 [01:04<00:00, 11.16it/s]\n"
     ]
    },
    {
     "name": "stdout",
     "output_type": "stream",
     "text": [
      "{'val_loss': 1.8708031269290097, 'val_accuracy': 0.6414950419527079, 'precision': 0.653875610809651, 'recall': 0.6414950419527079, 'f1-score': 0.6364148808326614, 'macro_f1-score': 0.4303710851828551, 'balanced_accuracy': 0.43794093856282273, 'mcc': 0.5234159936705772, 'train_loss': 0.1502214879780883}\n",
      "Epoch 11/20\n"
     ]
    },
    {
     "name": "stderr",
     "output_type": "stream",
     "text": [
      "100%|██████████| 716/716 [01:03<00:00, 11.21it/s]\n"
     ]
    },
    {
     "name": "stdout",
     "output_type": "stream",
     "text": [
      "{'val_loss': 1.983391713441872, 'val_accuracy': 0.6323417238749046, 'precision': 0.6411589752436975, 'recall': 0.6323417238749046, 'f1-score': 0.6301632852179038, 'macro_f1-score': 0.39803008435786685, 'balanced_accuracy': 0.4240088439725249, 'mcc': 0.5198492802814725, 'train_loss': 0.13589114608118238}\n",
      "Early stopping.\n",
      "\n",
      "[Fold 5]\n",
      "🚀 Using Word2Vec for data augmentation + under-sampling\n",
      "🔻 Under-sampling label 0: 2472 → 2000\n",
      "🔧 Augmenting label 1: 21 → 200 (+179)\n",
      "🔧 Augmenting label 2: 64 → 200 (+136)\n",
      "🔧 Augmenting label 3: 24 → 200 (+176)\n",
      "🔧 Augmenting label 4: 191 → 200 (+9)\n",
      "🔧 Augmenting label 5: 112 → 200 (+88)\n",
      "🔧 Augmenting label 6: 92 → 200 (+108)\n",
      "🔧 Augmenting label 7: 31 → 200 (+169)\n",
      "🔧 Augmenting label 8: 68 → 200 (+132)\n",
      "🔧 Augmenting label 9: 29 → 200 (+171)\n",
      "🔧 Augmenting label 10: 68 → 200 (+132)\n",
      "🔧 Augmenting label 11: 168 → 200 (+32)\n",
      "🔧 Augmenting label 12: 190 → 200 (+10)\n",
      "🔧 Augmenting label 13: 29 → 200 (+171)\n",
      "🔧 Augmenting label 14: 22 → 200 (+178)\n",
      "🔧 Augmenting label 15: 25 → 200 (+175)\n",
      "🔧 Augmenting label 16: 19 → 200 (+181)\n",
      "🔧 Augmenting label 17: 183 → 200 (+17)\n",
      "🔧 Augmenting label 18: 92 → 200 (+108)\n",
      "🔧 Augmenting label 19: 44 → 200 (+156)\n",
      "🔧 Augmenting label 20: 14 → 200 (+186)\n",
      "🔧 Augmenting label 21: 35 → 200 (+165)\n",
      "🔧 Augmenting label 22: 76 → 200 (+124)\n",
      "🔧 Augmenting label 23: 158 → 200 (+42)\n",
      "🔧 Augmenting label 24: 13 → 200 (+187)\n",
      "🔧 Augmenting label 25: 44 → 200 (+156)\n",
      "🔧 Augmenting label 26: 84 → 200 (+116)\n",
      "🔧 Augmenting label 27: 48 → 200 (+152)\n",
      "🔧 Augmenting label 28: 11 → 200 (+189)\n",
      "🔧 Augmenting label 29: 13 → 200 (+187)\n",
      "🔧 Augmenting label 30: 11 → 200 (+189)\n",
      "🔧 Augmenting label 31: 75 → 200 (+125)\n",
      "🔧 Augmenting label 32: 36 → 200 (+164)\n",
      "🔧 Augmenting label 33: 31 → 200 (+169)\n",
      "🔧 Augmenting label 34: 30 → 200 (+170)\n",
      "🔧 Augmenting label 35: 11 → 200 (+189)\n",
      "🔧 Augmenting label 36: 22 → 200 (+178)\n",
      "🔧 Augmenting label 37: 16 → 200 (+184)\n",
      "🔧 Augmenting label 38: 33 → 200 (+167)\n",
      "🔧 Augmenting label 39: 10 → 200 (+190)\n",
      "🔧 Augmenting label 40: 9 → 200 (+191)\n",
      "🔧 Augmenting label 41: 57 → 200 (+143)\n",
      "🔧 Augmenting label 42: 18 → 200 (+182)\n",
      "🔧 Augmenting label 43: 9 → 200 (+191)\n",
      "🔧 Augmenting label 44: 54 → 200 (+146)\n",
      "🔧 Augmenting label 46: 61 → 200 (+139)\n",
      "🔧 Augmenting label 47: 80 → 200 (+120)\n",
      "Label distribution after resampling:\n",
      "  label 0: 2000\n",
      "  label 1: 200\n",
      "  label 2: 200\n",
      "  label 3: 200\n",
      "  label 4: 200\n",
      "  label 5: 200\n",
      "  label 6: 200\n",
      "  label 7: 200\n",
      "  label 8: 200\n",
      "  label 9: 200\n",
      "  label 10: 200\n",
      "  label 11: 200\n",
      "  label 12: 200\n",
      "  label 13: 200\n",
      "  label 14: 200\n",
      "  label 15: 200\n",
      "  label 16: 200\n",
      "  label 17: 200\n",
      "  label 18: 200\n",
      "  label 19: 200\n",
      "  label 20: 200\n",
      "  label 21: 200\n",
      "  label 22: 200\n",
      "  label 23: 200\n",
      "  label 24: 200\n",
      "  label 25: 200\n",
      "  label 26: 200\n",
      "  label 27: 200\n",
      "  label 28: 200\n",
      "  label 29: 200\n",
      "  label 30: 200\n",
      "  label 31: 200\n",
      "  label 32: 200\n",
      "  label 33: 200\n",
      "  label 34: 200\n",
      "  label 35: 200\n",
      "  label 36: 200\n",
      "  label 37: 200\n",
      "  label 38: 200\n",
      "  label 39: 200\n",
      "  label 40: 200\n",
      "  label 41: 200\n",
      "  label 42: 200\n",
      "  label 43: 200\n",
      "  label 44: 200\n",
      "  label 45: 242\n",
      "  label 46: 200\n",
      "  label 47: 200\n",
      "model is bert-base-uncased lstm\n",
      "Epoch 1/20\n"
     ]
    },
    {
     "name": "stderr",
     "output_type": "stream",
     "text": [
      "100%|██████████| 716/716 [01:03<00:00, 11.19it/s]\n"
     ]
    },
    {
     "name": "stdout",
     "output_type": "stream",
     "text": [
      "{'val_loss': 1.684579956458836, 'val_accuracy': 0.5736079328756675, 'precision': 0.5802585039523068, 'recall': 0.5736079328756675, 'f1-score': 0.5429478014591828, 'macro_f1-score': 0.2872370587854381, 'balanced_accuracy': 0.34781232908274223, 'mcc': 0.4193575433267018, 'train_loss': 2.4602728258797577}\n",
      "Epoch 2/20\n"
     ]
    },
    {
     "name": "stderr",
     "output_type": "stream",
     "text": [
      "100%|██████████| 716/716 [01:04<00:00, 11.17it/s]\n"
     ]
    },
    {
     "name": "stdout",
     "output_type": "stream",
     "text": [
      "{'val_loss': 1.5638033231584036, 'val_accuracy': 0.6003051106025934, 'precision': 0.6375185594545979, 'recall': 0.6003051106025934, 'f1-score': 0.5934385805743504, 'macro_f1-score': 0.3991555707233821, 'balanced_accuracy': 0.46345324708490837, 'mcc': 0.48154860213123196, 'train_loss': 1.2451381385326385}\n",
      "Epoch 3/20\n"
     ]
    },
    {
     "name": "stderr",
     "output_type": "stream",
     "text": [
      "100%|██████████| 716/716 [01:04<00:00, 11.18it/s]\n"
     ]
    },
    {
     "name": "stdout",
     "output_type": "stream",
     "text": [
      "{'val_loss': 1.39813762594287, 'val_accuracy': 0.6346300533943554, 'precision': 0.6357569491043634, 'recall': 0.6346300533943554, 'f1-score': 0.6222637090206573, 'macro_f1-score': 0.4282788396708968, 'balanced_accuracy': 0.4410608952769765, 'mcc': 0.5127910392657148, 'train_loss': 0.79751209997931}\n",
      "Epoch 4/20\n"
     ]
    },
    {
     "name": "stderr",
     "output_type": "stream",
     "text": [
      "100%|██████████| 716/716 [01:04<00:00, 11.18it/s]\n"
     ]
    },
    {
     "name": "stdout",
     "output_type": "stream",
     "text": [
      "{'val_loss': 1.510089347638735, 'val_accuracy': 0.6186117467581999, 'precision': 0.6283624255998463, 'recall': 0.6186117467581999, 'f1-score': 0.6077063564821475, 'macro_f1-score': 0.4024636113144208, 'balanced_accuracy': 0.3974609023204447, 'mcc': 0.49102467356688223, 'train_loss': 0.5554876062269817}\n",
      "Epoch 5/20\n"
     ]
    },
    {
     "name": "stderr",
     "output_type": "stream",
     "text": [
      "100%|██████████| 716/716 [01:03<00:00, 11.20it/s]\n"
     ]
    },
    {
     "name": "stdout",
     "output_type": "stream",
     "text": [
      "{'val_loss': 1.4908204398504117, 'val_accuracy': 0.6514111365369947, 'precision': 0.6350881633026864, 'recall': 0.6514111365369947, 'f1-score': 0.6363328790798323, 'macro_f1-score': 0.44422348607163037, 'balanced_accuracy': 0.43448686399891506, 'mcc': 0.5340787507865942, 'train_loss': 0.43893100418067177}\n",
      "Epoch 6/20\n"
     ]
    },
    {
     "name": "stderr",
     "output_type": "stream",
     "text": [
      "100%|██████████| 716/716 [01:04<00:00, 11.18it/s]\n"
     ]
    },
    {
     "name": "stdout",
     "output_type": "stream",
     "text": [
      "{'val_loss': 1.5764008940356533, 'val_accuracy': 0.6300533943554538, 'precision': 0.6506337442414394, 'recall': 0.6300533943554538, 'f1-score': 0.630879385965056, 'macro_f1-score': 0.4305651244631917, 'balanced_accuracy': 0.4306307771266154, 'mcc': 0.5237542277670294, 'train_loss': 0.30541582427159286}\n",
      "Epoch 7/20\n"
     ]
    },
    {
     "name": "stderr",
     "output_type": "stream",
     "text": [
      "100%|██████████| 716/716 [01:03<00:00, 11.19it/s]\n"
     ]
    },
    {
     "name": "stdout",
     "output_type": "stream",
     "text": [
      "{'val_loss': 1.6026689624641, 'val_accuracy': 0.6552250190694127, 'precision': 0.6486514180057558, 'recall': 0.6552250190694127, 'f1-score': 0.6420513855268637, 'macro_f1-score': 0.4361269284920657, 'balanced_accuracy': 0.42872988660573325, 'mcc': 0.5403877729002032, 'train_loss': 0.2649718765559601}\n",
      "Epoch 8/20\n"
     ]
    },
    {
     "name": "stderr",
     "output_type": "stream",
     "text": [
      "100%|██████████| 716/716 [01:04<00:00, 11.18it/s]\n"
     ]
    },
    {
     "name": "stdout",
     "output_type": "stream",
     "text": [
      "{'val_loss': 1.609560411696027, 'val_accuracy': 0.6575133485888635, 'precision': 0.6540630301850575, 'recall': 0.6575133485888635, 'f1-score': 0.6505407488999243, 'macro_f1-score': 0.44149702726881473, 'balanced_accuracy': 0.4381318396114929, 'mcc': 0.5462315191527218, 'train_loss': 0.25616309346693605}\n",
      "Early stopping.\n",
      "\n",
      " === bert-base-uncased + lstm + word2vec Final 5-fold Cross-Validation Results ===\n",
      "val_loss: 1.5863\n",
      "val_accuracy: 0.6339\n",
      "precision: 0.6349\n",
      "recall: 0.6339\n",
      "f1-score: 0.6266\n",
      "macro_f1-score: 0.4211\n",
      "balanced_accuracy: 0.4306\n",
      "mcc: 0.5170\n",
      "train_loss: 0.4158\n",
      "total_seconds: 2778.0000\n",
      "total_time: 0 hrs 46 mins 18 secs\n",
      "▶ Running: bert-base-uncased + bilstm + word2vec\n",
      "tokenizer is bert-base-uncased\n",
      "Using device: cuda\n",
      "CUDA Available: True\n",
      "CUDA Device: NVIDIA GeForce RTX 5070 Ti\n",
      "Current GPU Memory Allocated: 1.33 GB\n",
      "Current GPU Memory Cached: 4.54 GB\n",
      "\n",
      "[Fold 1]\n",
      "🚀 Using Word2Vec for data augmentation + under-sampling\n",
      "🔻 Under-sampling label 0: 2471 → 2000\n",
      "🔧 Augmenting label 1: 21 → 200 (+179)\n",
      "🔧 Augmenting label 2: 64 → 200 (+136)\n",
      "🔧 Augmenting label 3: 24 → 200 (+176)\n",
      "🔧 Augmenting label 4: 191 → 200 (+9)\n",
      "🔧 Augmenting label 5: 113 → 200 (+87)\n",
      "🔧 Augmenting label 6: 93 → 200 (+107)\n",
      "🔧 Augmenting label 7: 30 → 200 (+170)\n",
      "🔧 Augmenting label 8: 68 → 200 (+132)\n",
      "🔧 Augmenting label 9: 30 → 200 (+170)\n",
      "🔧 Augmenting label 10: 67 → 200 (+133)\n",
      "🔧 Augmenting label 11: 169 → 200 (+31)\n",
      "🔧 Augmenting label 12: 189 → 200 (+11)\n",
      "🔧 Augmenting label 13: 29 → 200 (+171)\n",
      "🔧 Augmenting label 14: 22 → 200 (+178)\n",
      "🔧 Augmenting label 15: 25 → 200 (+175)\n",
      "🔧 Augmenting label 16: 19 → 200 (+181)\n",
      "🔧 Augmenting label 17: 183 → 200 (+17)\n",
      "🔧 Augmenting label 18: 92 → 200 (+108)\n",
      "🔧 Augmenting label 19: 44 → 200 (+156)\n",
      "🔧 Augmenting label 20: 13 → 200 (+187)\n",
      "🔧 Augmenting label 21: 35 → 200 (+165)\n",
      "🔧 Augmenting label 22: 76 → 200 (+124)\n",
      "🔧 Augmenting label 23: 158 → 200 (+42)\n",
      "🔧 Augmenting label 24: 13 → 200 (+187)\n",
      "🔧 Augmenting label 25: 44 → 200 (+156)\n",
      "🔧 Augmenting label 26: 84 → 200 (+116)\n",
      "🔧 Augmenting label 27: 48 → 200 (+152)\n",
      "🔧 Augmenting label 28: 11 → 200 (+189)\n",
      "🔧 Augmenting label 29: 13 → 200 (+187)\n",
      "🔧 Augmenting label 30: 11 → 200 (+189)\n",
      "🔧 Augmenting label 31: 75 → 200 (+125)\n",
      "🔧 Augmenting label 32: 36 → 200 (+164)\n",
      "🔧 Augmenting label 33: 32 → 200 (+168)\n",
      "🔧 Augmenting label 34: 29 → 200 (+171)\n",
      "🔧 Augmenting label 35: 11 → 200 (+189)\n",
      "🔧 Augmenting label 36: 22 → 200 (+178)\n",
      "🔧 Augmenting label 37: 16 → 200 (+184)\n",
      "🔧 Augmenting label 38: 33 → 200 (+167)\n",
      "🔧 Augmenting label 39: 10 → 200 (+190)\n",
      "🔧 Augmenting label 40: 9 → 200 (+191)\n",
      "🔧 Augmenting label 41: 57 → 200 (+143)\n",
      "🔧 Augmenting label 42: 19 → 200 (+181)\n",
      "🔧 Augmenting label 43: 8 → 200 (+192)\n",
      "🔧 Augmenting label 44: 54 → 200 (+146)\n",
      "🔧 Augmenting label 46: 61 → 200 (+139)\n",
      "🔧 Augmenting label 47: 80 → 200 (+120)\n",
      "Label distribution after resampling:\n",
      "  label 0: 2000\n",
      "  label 1: 200\n",
      "  label 2: 200\n",
      "  label 3: 200\n",
      "  label 4: 200\n",
      "  label 5: 200\n",
      "  label 6: 200\n",
      "  label 7: 200\n",
      "  label 8: 200\n",
      "  label 9: 200\n",
      "  label 10: 200\n",
      "  label 11: 200\n",
      "  label 12: 200\n",
      "  label 13: 200\n",
      "  label 14: 200\n",
      "  label 15: 200\n",
      "  label 16: 200\n",
      "  label 17: 200\n",
      "  label 18: 200\n",
      "  label 19: 200\n",
      "  label 20: 200\n",
      "  label 21: 200\n",
      "  label 22: 200\n",
      "  label 23: 200\n",
      "  label 24: 200\n",
      "  label 25: 200\n",
      "  label 26: 200\n",
      "  label 27: 200\n",
      "  label 28: 200\n",
      "  label 29: 200\n",
      "  label 30: 200\n",
      "  label 31: 200\n",
      "  label 32: 200\n",
      "  label 33: 200\n",
      "  label 34: 200\n",
      "  label 35: 200\n",
      "  label 36: 200\n",
      "  label 37: 200\n",
      "  label 38: 200\n",
      "  label 39: 200\n",
      "  label 40: 200\n",
      "  label 41: 200\n",
      "  label 42: 200\n",
      "  label 43: 200\n",
      "  label 44: 200\n",
      "  label 45: 242\n",
      "  label 46: 200\n",
      "  label 47: 200\n",
      "model is bert-base-uncased bilstm\n",
      "Epoch 1/20\n"
     ]
    },
    {
     "name": "stderr",
     "output_type": "stream",
     "text": [
      "100%|██████████| 716/716 [01:06<00:00, 10.73it/s]\n"
     ]
    },
    {
     "name": "stdout",
     "output_type": "stream",
     "text": [
      "{'val_loss': 1.7833780987960537, 'val_accuracy': 0.5259146341463414, 'precision': 0.5783910991161066, 'recall': 0.5259146341463414, 'f1-score': 0.5046272889901938, 'macro_f1-score': 0.3014224811222408, 'balanced_accuracy': 0.38566305341276913, 'mcc': 0.3706387281409483, 'train_loss': 2.49576996491608}\n",
      "Epoch 2/20\n"
     ]
    },
    {
     "name": "stderr",
     "output_type": "stream",
     "text": [
      "100%|██████████| 716/716 [01:06<00:00, 10.75it/s]\n"
     ]
    },
    {
     "name": "stdout",
     "output_type": "stream",
     "text": [
      "{'val_loss': 1.5100924263640148, 'val_accuracy': 0.6166158536585366, 'precision': 0.6029073797481906, 'recall': 0.6166158536585366, 'f1-score': 0.5908206650736346, 'macro_f1-score': 0.38035833679891323, 'balanced_accuracy': 0.38772892056613656, 'mcc': 0.47784232672827975, 'train_loss': 1.0219675084190996}\n",
      "Epoch 3/20\n"
     ]
    },
    {
     "name": "stderr",
     "output_type": "stream",
     "text": [
      "100%|██████████| 716/716 [01:06<00:00, 10.76it/s]\n"
     ]
    },
    {
     "name": "stdout",
     "output_type": "stream",
     "text": [
      "{'val_loss': 1.568599934984998, 'val_accuracy': 0.618140243902439, 'precision': 0.6263575648801465, 'recall': 0.618140243902439, 'f1-score': 0.6096808357978948, 'macro_f1-score': 0.40579220261454035, 'balanced_accuracy': 0.40895128794600977, 'mcc': 0.49119592214426416, 'train_loss': 0.5521432417731046}\n",
      "Epoch 4/20\n"
     ]
    },
    {
     "name": "stderr",
     "output_type": "stream",
     "text": [
      "100%|██████████| 716/716 [01:06<00:00, 10.80it/s]\n"
     ]
    },
    {
     "name": "stdout",
     "output_type": "stream",
     "text": [
      "{'val_loss': 1.5719241863343774, 'val_accuracy': 0.6227134146341463, 'precision': 0.6359934667591368, 'recall': 0.6227134146341463, 'f1-score': 0.6174015970691982, 'macro_f1-score': 0.4378417042118217, 'balanced_accuracy': 0.4360229618640255, 'mcc': 0.5021032950614015, 'train_loss': 0.35241133695749266}\n",
      "Epoch 5/20\n"
     ]
    },
    {
     "name": "stderr",
     "output_type": "stream",
     "text": [
      "100%|██████████| 716/716 [01:06<00:00, 10.73it/s]\n"
     ]
    },
    {
     "name": "stdout",
     "output_type": "stream",
     "text": [
      "{'val_loss': 1.7409331220679167, 'val_accuracy': 0.6341463414634146, 'precision': 0.6137849900924199, 'recall': 0.6341463414634146, 'f1-score': 0.6124295634373185, 'macro_f1-score': 0.38117392769909614, 'balanced_accuracy': 0.37073670711244217, 'mcc': 0.5052510247117615, 'train_loss': 0.2537789065169701}\n",
      "Epoch 6/20\n"
     ]
    },
    {
     "name": "stderr",
     "output_type": "stream",
     "text": [
      "100%|██████████| 716/716 [01:06<00:00, 10.77it/s]\n"
     ]
    },
    {
     "name": "stdout",
     "output_type": "stream",
     "text": [
      "{'val_loss': 1.6845090747243021, 'val_accuracy': 0.6486280487804879, 'precision': 0.6418448755975956, 'recall': 0.6486280487804879, 'f1-score': 0.6367654372493883, 'macro_f1-score': 0.44168031898821636, 'balanced_accuracy': 0.4312780907288631, 'mcc': 0.527783102943835, 'train_loss': 0.18801342474046948}\n",
      "Epoch 7/20\n"
     ]
    },
    {
     "name": "stderr",
     "output_type": "stream",
     "text": [
      "100%|██████████| 716/716 [01:06<00:00, 10.74it/s]\n"
     ]
    },
    {
     "name": "stdout",
     "output_type": "stream",
     "text": [
      "{'val_loss': 1.9112527068795226, 'val_accuracy': 0.6082317073170732, 'precision': 0.6295977872021022, 'recall': 0.6082317073170732, 'f1-score': 0.6104757427193765, 'macro_f1-score': 0.402317270980848, 'balanced_accuracy': 0.4151685594373464, 'mcc': 0.49583017681146163, 'train_loss': 0.15515970199904794}\n",
      "Epoch 8/20\n"
     ]
    },
    {
     "name": "stderr",
     "output_type": "stream",
     "text": [
      "100%|██████████| 716/716 [01:06<00:00, 10.74it/s]\n"
     ]
    },
    {
     "name": "stdout",
     "output_type": "stream",
     "text": [
      "{'val_loss': 1.9614725708961487, 'val_accuracy': 0.6326219512195121, 'precision': 0.6481627727503303, 'recall': 0.6326219512195121, 'f1-score': 0.6288574303806025, 'macro_f1-score': 0.40074266650972956, 'balanced_accuracy': 0.41091903185482836, 'mcc': 0.5194457645581564, 'train_loss': 0.12139551464907887}\n",
      "Epoch 9/20\n"
     ]
    },
    {
     "name": "stderr",
     "output_type": "stream",
     "text": [
      "100%|██████████| 716/716 [01:06<00:00, 10.80it/s]\n"
     ]
    },
    {
     "name": "stdout",
     "output_type": "stream",
     "text": [
      "{'val_loss': 1.9969860838680733, 'val_accuracy': 0.6349085365853658, 'precision': 0.6435244546941626, 'recall': 0.6349085365853658, 'f1-score': 0.6156102231021633, 'macro_f1-score': 0.39890263053281333, 'balanced_accuracy': 0.400411537845506, 'mcc': 0.5101558410600218, 'train_loss': 0.11374481940868326}\n",
      "Early stopping.\n",
      "\n",
      "[Fold 2]\n",
      "🚀 Using Word2Vec for data augmentation + under-sampling\n",
      "🔻 Under-sampling label 0: 2471 → 2000\n",
      "🔧 Augmenting label 1: 22 → 200 (+178)\n",
      "🔧 Augmenting label 2: 64 → 200 (+136)\n",
      "🔧 Augmenting label 3: 24 → 200 (+176)\n",
      "🔧 Augmenting label 4: 190 → 200 (+10)\n",
      "🔧 Augmenting label 5: 113 → 200 (+87)\n",
      "🔧 Augmenting label 6: 93 → 200 (+107)\n",
      "🔧 Augmenting label 7: 30 → 200 (+170)\n",
      "🔧 Augmenting label 8: 68 → 200 (+132)\n",
      "🔧 Augmenting label 9: 30 → 200 (+170)\n",
      "🔧 Augmenting label 10: 67 → 200 (+133)\n",
      "🔧 Augmenting label 11: 169 → 200 (+31)\n",
      "🔧 Augmenting label 12: 189 → 200 (+11)\n",
      "🔧 Augmenting label 13: 29 → 200 (+171)\n",
      "🔧 Augmenting label 14: 23 → 200 (+177)\n",
      "🔧 Augmenting label 15: 24 → 200 (+176)\n",
      "🔧 Augmenting label 16: 20 → 200 (+180)\n",
      "🔧 Augmenting label 17: 182 → 200 (+18)\n",
      "🔧 Augmenting label 18: 92 → 200 (+108)\n",
      "🔧 Augmenting label 19: 44 → 200 (+156)\n",
      "🔧 Augmenting label 20: 13 → 200 (+187)\n",
      "🔧 Augmenting label 21: 36 → 200 (+164)\n",
      "🔧 Augmenting label 22: 76 → 200 (+124)\n",
      "🔧 Augmenting label 23: 157 → 200 (+43)\n",
      "🔧 Augmenting label 24: 12 → 200 (+188)\n",
      "🔧 Augmenting label 25: 44 → 200 (+156)\n",
      "🔧 Augmenting label 26: 84 → 200 (+116)\n",
      "🔧 Augmenting label 27: 48 → 200 (+152)\n",
      "🔧 Augmenting label 28: 12 → 200 (+188)\n",
      "🔧 Augmenting label 29: 12 → 200 (+188)\n",
      "🔧 Augmenting label 30: 12 → 200 (+188)\n",
      "🔧 Augmenting label 31: 75 → 200 (+125)\n",
      "🔧 Augmenting label 32: 36 → 200 (+164)\n",
      "🔧 Augmenting label 33: 31 → 200 (+169)\n",
      "🔧 Augmenting label 34: 29 → 200 (+171)\n",
      "🔧 Augmenting label 35: 12 → 200 (+188)\n",
      "🔧 Augmenting label 36: 21 → 200 (+179)\n",
      "🔧 Augmenting label 37: 16 → 200 (+184)\n",
      "🔧 Augmenting label 38: 33 → 200 (+167)\n",
      "🔧 Augmenting label 39: 11 → 200 (+189)\n",
      "🔧 Augmenting label 40: 8 → 200 (+192)\n",
      "🔧 Augmenting label 41: 57 → 200 (+143)\n",
      "🔧 Augmenting label 42: 19 → 200 (+181)\n",
      "🔧 Augmenting label 43: 9 → 200 (+191)\n",
      "🔧 Augmenting label 44: 54 → 200 (+146)\n",
      "🔧 Augmenting label 46: 62 → 200 (+138)\n",
      "🔧 Augmenting label 47: 80 → 200 (+120)\n",
      "Label distribution after resampling:\n",
      "  label 0: 2000\n",
      "  label 1: 200\n",
      "  label 2: 200\n",
      "  label 3: 200\n",
      "  label 4: 200\n",
      "  label 5: 200\n",
      "  label 6: 200\n",
      "  label 7: 200\n",
      "  label 8: 200\n",
      "  label 9: 200\n",
      "  label 10: 200\n",
      "  label 11: 200\n",
      "  label 12: 200\n",
      "  label 13: 200\n",
      "  label 14: 200\n",
      "  label 15: 200\n",
      "  label 16: 200\n",
      "  label 17: 200\n",
      "  label 18: 200\n",
      "  label 19: 200\n",
      "  label 20: 200\n",
      "  label 21: 200\n",
      "  label 22: 200\n",
      "  label 23: 200\n",
      "  label 24: 200\n",
      "  label 25: 200\n",
      "  label 26: 200\n",
      "  label 27: 200\n",
      "  label 28: 200\n",
      "  label 29: 200\n",
      "  label 30: 200\n",
      "  label 31: 200\n",
      "  label 32: 200\n",
      "  label 33: 200\n",
      "  label 34: 200\n",
      "  label 35: 200\n",
      "  label 36: 200\n",
      "  label 37: 200\n",
      "  label 38: 200\n",
      "  label 39: 200\n",
      "  label 40: 200\n",
      "  label 41: 200\n",
      "  label 42: 200\n",
      "  label 43: 200\n",
      "  label 44: 200\n",
      "  label 45: 242\n",
      "  label 46: 200\n",
      "  label 47: 200\n",
      "model is bert-base-uncased bilstm\n",
      "Epoch 1/20\n"
     ]
    },
    {
     "name": "stderr",
     "output_type": "stream",
     "text": [
      "100%|██████████| 716/716 [01:06<00:00, 10.76it/s]\n"
     ]
    },
    {
     "name": "stdout",
     "output_type": "stream",
     "text": [
      "{'val_loss': 1.5531412791915056, 'val_accuracy': 0.6079328756674295, 'precision': 0.5960377466961332, 'recall': 0.6079328756674295, 'f1-score': 0.5722602585348575, 'macro_f1-score': 0.3089334321049717, 'balanced_accuracy': 0.34864653987431327, 'mcc': 0.45716886613659374, 'train_loss': 2.5144088024367166}\n",
      "Epoch 2/20\n"
     ]
    },
    {
     "name": "stderr",
     "output_type": "stream",
     "text": [
      "100%|██████████| 716/716 [01:06<00:00, 10.74it/s]\n"
     ]
    },
    {
     "name": "stdout",
     "output_type": "stream",
     "text": [
      "{'val_loss': 1.4680662191495664, 'val_accuracy': 0.6125095347063311, 'precision': 0.6193614619063528, 'recall': 0.6125095347063311, 'f1-score': 0.6072162418017185, 'macro_f1-score': 0.3698806803095462, 'balanced_accuracy': 0.40797414516586983, 'mcc': 0.4917592866544613, 'train_loss': 1.0251524539653982}\n",
      "Epoch 3/20\n"
     ]
    },
    {
     "name": "stderr",
     "output_type": "stream",
     "text": [
      "100%|██████████| 716/716 [01:06<00:00, 10.75it/s]\n"
     ]
    },
    {
     "name": "stdout",
     "output_type": "stream",
     "text": [
      "{'val_loss': 1.5446999316535346, 'val_accuracy': 0.6254767353165522, 'precision': 0.6230921052215888, 'recall': 0.6254767353165522, 'f1-score': 0.6001219223569669, 'macro_f1-score': 0.36667625878612414, 'balanced_accuracy': 0.374951802300547, 'mcc': 0.4938115085734198, 'train_loss': 0.5510907162438724}\n",
      "Epoch 4/20\n"
     ]
    },
    {
     "name": "stderr",
     "output_type": "stream",
     "text": [
      "100%|██████████| 716/716 [01:06<00:00, 10.76it/s]\n"
     ]
    },
    {
     "name": "stdout",
     "output_type": "stream",
     "text": [
      "{'val_loss': 1.5252995632770585, 'val_accuracy': 0.6376811594202898, 'precision': 0.6350595810085274, 'recall': 0.6376811594202898, 'f1-score': 0.6256592613981241, 'macro_f1-score': 0.37935005237722086, 'balanced_accuracy': 0.3952590365312772, 'mcc': 0.5188830306615699, 'train_loss': 0.3682061557777684}\n",
      "Epoch 5/20\n"
     ]
    },
    {
     "name": "stderr",
     "output_type": "stream",
     "text": [
      "100%|██████████| 716/716 [01:06<00:00, 10.79it/s]\n"
     ]
    },
    {
     "name": "stdout",
     "output_type": "stream",
     "text": [
      "{'val_loss': 1.573071548851525, 'val_accuracy': 0.6460717009916095, 'precision': 0.6569376895184837, 'recall': 0.6460717009916095, 'f1-score': 0.6396688058773959, 'macro_f1-score': 0.3982933703602567, 'balanced_accuracy': 0.4155835149891985, 'mcc': 0.5363117232684839, 'train_loss': 0.24280037163293727}\n",
      "Epoch 6/20\n"
     ]
    },
    {
     "name": "stderr",
     "output_type": "stream",
     "text": [
      "100%|██████████| 716/716 [01:06<00:00, 10.70it/s]\n"
     ]
    },
    {
     "name": "stdout",
     "output_type": "stream",
     "text": [
      "{'val_loss': 1.7430811586176478, 'val_accuracy': 0.6422578184591915, 'precision': 0.6219085154218594, 'recall': 0.6422578184591915, 'f1-score': 0.6161776565137486, 'macro_f1-score': 0.3862703489189487, 'balanced_accuracy': 0.37552177470145126, 'mcc': 0.51193542553317, 'train_loss': 0.17159841566830458}\n",
      "Epoch 7/20\n"
     ]
    },
    {
     "name": "stderr",
     "output_type": "stream",
     "text": [
      "100%|██████████| 716/716 [01:06<00:00, 10.77it/s]\n"
     ]
    },
    {
     "name": "stdout",
     "output_type": "stream",
     "text": [
      "{'val_loss': 1.740441464796299, 'val_accuracy': 0.6292906178489702, 'precision': 0.6415794858074217, 'recall': 0.6292906178489702, 'f1-score': 0.6218707374702314, 'macro_f1-score': 0.4114143717201435, 'balanced_accuracy': 0.41591379443378873, 'mcc': 0.5094082230565323, 'train_loss': 0.14739679173935807}\n",
      "Epoch 8/20\n"
     ]
    },
    {
     "name": "stderr",
     "output_type": "stream",
     "text": [
      "100%|██████████| 716/716 [01:06<00:00, 10.72it/s]\n"
     ]
    },
    {
     "name": "stdout",
     "output_type": "stream",
     "text": [
      "{'val_loss': 1.8181107196866013, 'val_accuracy': 0.6536994660564455, 'precision': 0.6399234365767198, 'recall': 0.6536994660564455, 'f1-score': 0.6367906003860365, 'macro_f1-score': 0.38853150233886097, 'balanced_accuracy': 0.3920318790930944, 'mcc': 0.5374940038622292, 'train_loss': 0.11070239975952216}\n",
      "Epoch 9/20\n"
     ]
    },
    {
     "name": "stderr",
     "output_type": "stream",
     "text": [
      "100%|██████████| 716/716 [01:06<00:00, 10.79it/s]\n"
     ]
    },
    {
     "name": "stdout",
     "output_type": "stream",
     "text": [
      "{'val_loss': 1.9653905159453067, 'val_accuracy': 0.6536994660564455, 'precision': 0.632495554849184, 'recall': 0.6536994660564455, 'f1-score': 0.6226366217562893, 'macro_f1-score': 0.3683913053814858, 'balanced_accuracy': 0.35745353395900237, 'mcc': 0.5238485348325196, 'train_loss': 0.1015692709238846}\n",
      "Epoch 10/20\n"
     ]
    },
    {
     "name": "stderr",
     "output_type": "stream",
     "text": [
      "100%|██████████| 716/716 [01:06<00:00, 10.79it/s]\n"
     ]
    },
    {
     "name": "stdout",
     "output_type": "stream",
     "text": [
      "{'val_loss': 1.972095316503106, 'val_accuracy': 0.6369183829138062, 'precision': 0.6395102860345097, 'recall': 0.6369183829138062, 'f1-score': 0.6246763029488807, 'macro_f1-score': 0.39172577477033305, 'balanced_accuracy': 0.4094352302478643, 'mcc': 0.5261364265170515, 'train_loss': 0.07965583052075151}\n",
      "Early stopping.\n",
      "\n",
      "[Fold 3]\n",
      "🚀 Using Word2Vec for data augmentation + under-sampling\n",
      "🔻 Under-sampling label 0: 2471 → 2000\n",
      "🔧 Augmenting label 1: 22 → 200 (+178)\n",
      "🔧 Augmenting label 2: 64 → 200 (+136)\n",
      "🔧 Augmenting label 3: 24 → 200 (+176)\n",
      "🔧 Augmenting label 4: 190 → 200 (+10)\n",
      "🔧 Augmenting label 5: 113 → 200 (+87)\n",
      "🔧 Augmenting label 6: 93 → 200 (+107)\n",
      "🔧 Augmenting label 7: 30 → 200 (+170)\n",
      "🔧 Augmenting label 8: 68 → 200 (+132)\n",
      "🔧 Augmenting label 9: 30 → 200 (+170)\n",
      "🔧 Augmenting label 10: 67 → 200 (+133)\n",
      "🔧 Augmenting label 11: 169 → 200 (+31)\n",
      "🔧 Augmenting label 12: 190 → 200 (+10)\n",
      "🔧 Augmenting label 13: 28 → 200 (+172)\n",
      "🔧 Augmenting label 14: 23 → 200 (+177)\n",
      "🔧 Augmenting label 15: 25 → 200 (+175)\n",
      "🔧 Augmenting label 16: 19 → 200 (+181)\n",
      "🔧 Augmenting label 17: 182 → 200 (+18)\n",
      "🔧 Augmenting label 18: 92 → 200 (+108)\n",
      "🔧 Augmenting label 19: 44 → 200 (+156)\n",
      "🔧 Augmenting label 20: 14 → 200 (+186)\n",
      "🔧 Augmenting label 21: 35 → 200 (+165)\n",
      "🔧 Augmenting label 22: 76 → 200 (+124)\n",
      "🔧 Augmenting label 23: 157 → 200 (+43)\n",
      "🔧 Augmenting label 24: 13 → 200 (+187)\n",
      "🔧 Augmenting label 25: 44 → 200 (+156)\n",
      "🔧 Augmenting label 26: 84 → 200 (+116)\n",
      "🔧 Augmenting label 27: 48 → 200 (+152)\n",
      "🔧 Augmenting label 28: 11 → 200 (+189)\n",
      "🔧 Augmenting label 29: 13 → 200 (+187)\n",
      "🔧 Augmenting label 30: 11 → 200 (+189)\n",
      "🔧 Augmenting label 31: 76 → 200 (+124)\n",
      "🔧 Augmenting label 32: 36 → 200 (+164)\n",
      "🔧 Augmenting label 33: 31 → 200 (+169)\n",
      "🔧 Augmenting label 34: 30 → 200 (+170)\n",
      "🔧 Augmenting label 35: 11 → 200 (+189)\n",
      "🔧 Augmenting label 36: 21 → 200 (+179)\n",
      "🔧 Augmenting label 37: 16 → 200 (+184)\n",
      "🔧 Augmenting label 38: 32 → 200 (+168)\n",
      "🔧 Augmenting label 39: 11 → 200 (+189)\n",
      "🔧 Augmenting label 40: 9 → 200 (+191)\n",
      "🔧 Augmenting label 41: 57 → 200 (+143)\n",
      "🔧 Augmenting label 42: 18 → 200 (+182)\n",
      "🔧 Augmenting label 43: 9 → 200 (+191)\n",
      "🔧 Augmenting label 44: 55 → 200 (+145)\n",
      "🔧 Augmenting label 46: 62 → 200 (+138)\n",
      "🔧 Augmenting label 47: 80 → 200 (+120)\n",
      "Label distribution after resampling:\n",
      "  label 0: 2000\n",
      "  label 1: 200\n",
      "  label 2: 200\n",
      "  label 3: 200\n",
      "  label 4: 200\n",
      "  label 5: 200\n",
      "  label 6: 200\n",
      "  label 7: 200\n",
      "  label 8: 200\n",
      "  label 9: 200\n",
      "  label 10: 200\n",
      "  label 11: 200\n",
      "  label 12: 200\n",
      "  label 13: 200\n",
      "  label 14: 200\n",
      "  label 15: 200\n",
      "  label 16: 200\n",
      "  label 17: 200\n",
      "  label 18: 200\n",
      "  label 19: 200\n",
      "  label 20: 200\n",
      "  label 21: 200\n",
      "  label 22: 200\n",
      "  label 23: 200\n",
      "  label 24: 200\n",
      "  label 25: 200\n",
      "  label 26: 200\n",
      "  label 27: 200\n",
      "  label 28: 200\n",
      "  label 29: 200\n",
      "  label 30: 200\n",
      "  label 31: 200\n",
      "  label 32: 200\n",
      "  label 33: 200\n",
      "  label 34: 200\n",
      "  label 35: 200\n",
      "  label 36: 200\n",
      "  label 37: 200\n",
      "  label 38: 200\n",
      "  label 39: 200\n",
      "  label 40: 200\n",
      "  label 41: 200\n",
      "  label 42: 200\n",
      "  label 43: 200\n",
      "  label 44: 200\n",
      "  label 45: 241\n",
      "  label 46: 200\n",
      "  label 47: 200\n",
      "model is bert-base-uncased bilstm\n",
      "Epoch 1/20\n"
     ]
    },
    {
     "name": "stderr",
     "output_type": "stream",
     "text": [
      "100%|██████████| 716/716 [01:06<00:00, 10.71it/s]\n"
     ]
    },
    {
     "name": "stdout",
     "output_type": "stream",
     "text": [
      "{'val_loss': 1.6858668574472753, 'val_accuracy': 0.559115179252479, 'precision': 0.5252805136115207, 'recall': 0.559115179252479, 'f1-score': 0.5201584417299372, 'macro_f1-score': 0.2829845838910494, 'balanced_accuracy': 0.3394257958984437, 'mcc': 0.3969352013085709, 'train_loss': 2.394765977086968}\n",
      "Epoch 2/20\n"
     ]
    },
    {
     "name": "stderr",
     "output_type": "stream",
     "text": [
      "100%|██████████| 716/716 [01:06<00:00, 10.77it/s]\n"
     ]
    },
    {
     "name": "stdout",
     "output_type": "stream",
     "text": [
      "{'val_loss': 1.5388156433657902, 'val_accuracy': 0.6140350877192983, 'precision': 0.6101859080334023, 'recall': 0.6140350877192983, 'f1-score': 0.597025637631539, 'macro_f1-score': 0.3607345856838163, 'balanced_accuracy': 0.3559766405452916, 'mcc': 0.4823166231849077, 'train_loss': 0.9904581180268992}\n",
      "Epoch 3/20\n"
     ]
    },
    {
     "name": "stderr",
     "output_type": "stream",
     "text": [
      "100%|██████████| 716/716 [01:06<00:00, 10.73it/s]\n"
     ]
    },
    {
     "name": "stdout",
     "output_type": "stream",
     "text": [
      "{'val_loss': 1.5289797841048822, 'val_accuracy': 0.6254767353165522, 'precision': 0.6191781213002099, 'recall': 0.6254767353165522, 'f1-score': 0.6102192994857009, 'macro_f1-score': 0.4000020385198699, 'balanced_accuracy': 0.38973437117851034, 'mcc': 0.49334929568002345, 'train_loss': 0.5491351654503349}\n",
      "Epoch 4/20\n"
     ]
    },
    {
     "name": "stderr",
     "output_type": "stream",
     "text": [
      "100%|██████████| 716/716 [01:06<00:00, 10.79it/s]\n"
     ]
    },
    {
     "name": "stdout",
     "output_type": "stream",
     "text": [
      "{'val_loss': 1.627176005302406, 'val_accuracy': 0.6285278413424866, 'precision': 0.6327674178808564, 'recall': 0.6285278413424866, 'f1-score': 0.6210071292350762, 'macro_f1-score': 0.4129934953630068, 'balanced_accuracy': 0.40554048280357574, 'mcc': 0.5101436747575966, 'train_loss': 0.3644746287007863}\n",
      "Epoch 5/20\n"
     ]
    },
    {
     "name": "stderr",
     "output_type": "stream",
     "text": [
      "100%|██████████| 716/716 [01:06<00:00, 10.75it/s]\n"
     ]
    },
    {
     "name": "stdout",
     "output_type": "stream",
     "text": [
      "{'val_loss': 1.7357150886843844, 'val_accuracy': 0.6308161708619374, 'precision': 0.6237726796174381, 'recall': 0.6308161708619374, 'f1-score': 0.6186867731796784, 'macro_f1-score': 0.40239076555534764, 'balanced_accuracy': 0.3869852409125021, 'mcc': 0.5081637245215395, 'train_loss': 0.23015070932022394}\n",
      "Epoch 6/20\n"
     ]
    },
    {
     "name": "stderr",
     "output_type": "stream",
     "text": [
      "100%|██████████| 716/716 [01:06<00:00, 10.77it/s]\n"
     ]
    },
    {
     "name": "stdout",
     "output_type": "stream",
     "text": [
      "{'val_loss': 1.7825148309149392, 'val_accuracy': 0.6323417238749046, 'precision': 0.6192233266806033, 'recall': 0.6323417238749046, 'f1-score': 0.6167021611705179, 'macro_f1-score': 0.3833715512555849, 'balanced_accuracy': 0.3650712643974204, 'mcc': 0.5090878754378082, 'train_loss': 0.16225383601114987}\n",
      "Epoch 7/20\n"
     ]
    },
    {
     "name": "stderr",
     "output_type": "stream",
     "text": [
      "100%|██████████| 716/716 [01:06<00:00, 10.77it/s]\n"
     ]
    },
    {
     "name": "stdout",
     "output_type": "stream",
     "text": [
      "{'val_loss': 1.8970343535993157, 'val_accuracy': 0.6308161708619374, 'precision': 0.6460320292756653, 'recall': 0.6308161708619374, 'f1-score': 0.6269719989388477, 'macro_f1-score': 0.42165645849212813, 'balanced_accuracy': 0.4044237451504959, 'mcc': 0.5155744553220328, 'train_loss': 0.12729653634466542}\n",
      "Epoch 8/20\n"
     ]
    },
    {
     "name": "stderr",
     "output_type": "stream",
     "text": [
      "100%|██████████| 716/716 [01:06<00:00, 10.72it/s]\n"
     ]
    },
    {
     "name": "stdout",
     "output_type": "stream",
     "text": [
      "{'val_loss': 1.9516668125260166, 'val_accuracy': 0.6422578184591915, 'precision': 0.6286603033444949, 'recall': 0.6422578184591915, 'f1-score': 0.6192618967879762, 'macro_f1-score': 0.38557696129163094, 'balanced_accuracy': 0.3499070079826488, 'mcc': 0.5144004806380663, 'train_loss': 0.10920820776200801}\n",
      "Epoch 9/20\n"
     ]
    },
    {
     "name": "stderr",
     "output_type": "stream",
     "text": [
      "100%|██████████| 716/716 [01:06<00:00, 10.78it/s]\n"
     ]
    },
    {
     "name": "stdout",
     "output_type": "stream",
     "text": [
      "{'val_loss': 1.8633123440440835, 'val_accuracy': 0.6514111365369947, 'precision': 0.639434927547105, 'recall': 0.6514111365369947, 'f1-score': 0.6372879514396408, 'macro_f1-score': 0.40644111348339235, 'balanced_accuracy': 0.38565953969663086, 'mcc': 0.532948571013835, 'train_loss': 0.11253772720020763}\n",
      "Epoch 10/20\n"
     ]
    },
    {
     "name": "stderr",
     "output_type": "stream",
     "text": [
      "100%|██████████| 716/716 [01:06<00:00, 10.74it/s]\n"
     ]
    },
    {
     "name": "stdout",
     "output_type": "stream",
     "text": [
      "{'val_loss': 1.9285653560626796, 'val_accuracy': 0.6392067124332571, 'precision': 0.6452260251180738, 'recall': 0.6392067124332571, 'f1-score': 0.6269624805637639, 'macro_f1-score': 0.38842929842282276, 'balanced_accuracy': 0.37162772613572254, 'mcc': 0.5162629254921818, 'train_loss': 0.10546091881576748}\n",
      "Early stopping.\n",
      "\n",
      "[Fold 4]\n",
      "🚀 Using Word2Vec for data augmentation + under-sampling\n",
      "🔻 Under-sampling label 0: 2471 → 2000\n",
      "🔧 Augmenting label 1: 22 → 200 (+178)\n",
      "🔧 Augmenting label 2: 64 → 200 (+136)\n",
      "🔧 Augmenting label 3: 24 → 200 (+176)\n",
      "🔧 Augmenting label 4: 190 → 200 (+10)\n",
      "🔧 Augmenting label 5: 113 → 200 (+87)\n",
      "🔧 Augmenting label 6: 93 → 200 (+107)\n",
      "🔧 Augmenting label 7: 31 → 200 (+169)\n",
      "🔧 Augmenting label 8: 68 → 200 (+132)\n",
      "🔧 Augmenting label 9: 29 → 200 (+171)\n",
      "🔧 Augmenting label 10: 67 → 200 (+133)\n",
      "🔧 Augmenting label 11: 169 → 200 (+31)\n",
      "🔧 Augmenting label 12: 190 → 200 (+10)\n",
      "🔧 Augmenting label 13: 29 → 200 (+171)\n",
      "🔧 Augmenting label 14: 22 → 200 (+178)\n",
      "🔧 Augmenting label 15: 25 → 200 (+175)\n",
      "🔧 Augmenting label 16: 19 → 200 (+181)\n",
      "🔧 Augmenting label 17: 182 → 200 (+18)\n",
      "🔧 Augmenting label 18: 92 → 200 (+108)\n",
      "🔧 Augmenting label 19: 44 → 200 (+156)\n",
      "🔧 Augmenting label 20: 14 → 200 (+186)\n",
      "🔧 Augmenting label 21: 35 → 200 (+165)\n",
      "🔧 Augmenting label 22: 76 → 200 (+124)\n",
      "🔧 Augmenting label 23: 158 → 200 (+42)\n",
      "🔧 Augmenting label 24: 13 → 200 (+187)\n",
      "🔧 Augmenting label 25: 44 → 200 (+156)\n",
      "🔧 Augmenting label 26: 84 → 200 (+116)\n",
      "🔧 Augmenting label 27: 48 → 200 (+152)\n",
      "🔧 Augmenting label 28: 11 → 200 (+189)\n",
      "🔧 Augmenting label 29: 13 → 200 (+187)\n",
      "🔧 Augmenting label 30: 11 → 200 (+189)\n",
      "🔧 Augmenting label 31: 75 → 200 (+125)\n",
      "🔧 Augmenting label 32: 36 → 200 (+164)\n",
      "🔧 Augmenting label 33: 31 → 200 (+169)\n",
      "🔧 Augmenting label 34: 30 → 200 (+170)\n",
      "🔧 Augmenting label 35: 11 → 200 (+189)\n",
      "🔧 Augmenting label 36: 22 → 200 (+178)\n",
      "🔧 Augmenting label 37: 16 → 200 (+184)\n",
      "🔧 Augmenting label 38: 33 → 200 (+167)\n",
      "🔧 Augmenting label 39: 10 → 200 (+190)\n",
      "🔧 Augmenting label 40: 9 → 200 (+191)\n",
      "🔧 Augmenting label 41: 56 → 200 (+144)\n",
      "🔧 Augmenting label 42: 18 → 200 (+182)\n",
      "🔧 Augmenting label 43: 9 → 200 (+191)\n",
      "🔧 Augmenting label 44: 55 → 200 (+145)\n",
      "🔧 Augmenting label 46: 62 → 200 (+138)\n",
      "🔧 Augmenting label 47: 80 → 200 (+120)\n",
      "Label distribution after resampling:\n",
      "  label 0: 2000\n",
      "  label 1: 200\n",
      "  label 2: 200\n",
      "  label 3: 200\n",
      "  label 4: 200\n",
      "  label 5: 200\n",
      "  label 6: 200\n",
      "  label 7: 200\n",
      "  label 8: 200\n",
      "  label 9: 200\n",
      "  label 10: 200\n",
      "  label 11: 200\n",
      "  label 12: 200\n",
      "  label 13: 200\n",
      "  label 14: 200\n",
      "  label 15: 200\n",
      "  label 16: 200\n",
      "  label 17: 200\n",
      "  label 18: 200\n",
      "  label 19: 200\n",
      "  label 20: 200\n",
      "  label 21: 200\n",
      "  label 22: 200\n",
      "  label 23: 200\n",
      "  label 24: 200\n",
      "  label 25: 200\n",
      "  label 26: 200\n",
      "  label 27: 200\n",
      "  label 28: 200\n",
      "  label 29: 200\n",
      "  label 30: 200\n",
      "  label 31: 200\n",
      "  label 32: 200\n",
      "  label 33: 200\n",
      "  label 34: 200\n",
      "  label 35: 200\n",
      "  label 36: 200\n",
      "  label 37: 200\n",
      "  label 38: 200\n",
      "  label 39: 200\n",
      "  label 40: 200\n",
      "  label 41: 200\n",
      "  label 42: 200\n",
      "  label 43: 200\n",
      "  label 44: 200\n",
      "  label 45: 241\n",
      "  label 46: 200\n",
      "  label 47: 200\n",
      "model is bert-base-uncased bilstm\n",
      "Epoch 1/20\n"
     ]
    },
    {
     "name": "stderr",
     "output_type": "stream",
     "text": [
      "100%|██████████| 716/716 [01:06<00:00, 10.73it/s]\n"
     ]
    },
    {
     "name": "stdout",
     "output_type": "stream",
     "text": [
      "{'val_loss': 1.7086930863740968, 'val_accuracy': 0.5766590389016019, 'precision': 0.56172668561938, 'recall': 0.5766590389016019, 'f1-score': 0.5220387148937538, 'macro_f1-score': 0.29890137307575354, 'balanced_accuracy': 0.3197452128159752, 'mcc': 0.3980385189741194, 'train_loss': 2.4354601830410556}\n",
      "Epoch 2/20\n"
     ]
    },
    {
     "name": "stderr",
     "output_type": "stream",
     "text": [
      "100%|██████████| 716/716 [01:06<00:00, 10.75it/s]\n"
     ]
    },
    {
     "name": "stdout",
     "output_type": "stream",
     "text": [
      "{'val_loss': 1.4240972039903081, 'val_accuracy': 0.6102212051868803, 'precision': 0.6259140910394497, 'recall': 0.6102212051868803, 'f1-score': 0.587609867768357, 'macro_f1-score': 0.35345370127296755, 'balanced_accuracy': 0.3793414515546522, 'mcc': 0.4711162593454546, 'train_loss': 1.0846754136656582}\n",
      "Epoch 3/20\n"
     ]
    },
    {
     "name": "stderr",
     "output_type": "stream",
     "text": [
      "100%|██████████| 716/716 [01:06<00:00, 10.71it/s]\n"
     ]
    },
    {
     "name": "stdout",
     "output_type": "stream",
     "text": [
      "{'val_loss': 1.4907278974608678, 'val_accuracy': 0.6292906178489702, 'precision': 0.6204952760588558, 'recall': 0.6292906178489702, 'f1-score': 0.6054336293713177, 'macro_f1-score': 0.3789995814950664, 'balanced_accuracy': 0.3820802246521023, 'mcc': 0.4959749863931517, 'train_loss': 0.5759651271428642}\n",
      "Epoch 4/20\n"
     ]
    },
    {
     "name": "stderr",
     "output_type": "stream",
     "text": [
      "100%|██████████| 716/716 [01:06<00:00, 10.78it/s]\n"
     ]
    },
    {
     "name": "stdout",
     "output_type": "stream",
     "text": [
      "{'val_loss': 1.607103231294853, 'val_accuracy': 0.6285278413424866, 'precision': 0.6394541995816787, 'recall': 0.6285278413424866, 'f1-score': 0.6214551642168483, 'macro_f1-score': 0.37517339464858024, 'balanced_accuracy': 0.3837638487337101, 'mcc': 0.5051517446556956, 'train_loss': 0.38300543080224503}\n",
      "Epoch 5/20\n"
     ]
    },
    {
     "name": "stderr",
     "output_type": "stream",
     "text": [
      "100%|██████████| 716/716 [01:06<00:00, 10.75it/s]\n"
     ]
    },
    {
     "name": "stdout",
     "output_type": "stream",
     "text": [
      "{'val_loss': 1.7109232137842876, 'val_accuracy': 0.6170861937452327, 'precision': 0.6363528051404927, 'recall': 0.6170861937452327, 'f1-score': 0.6195038502992825, 'macro_f1-score': 0.40002991893268874, 'balanced_accuracy': 0.43338547549716494, 'mcc': 0.5136329656980962, 'train_loss': 0.26751590364836364}\n",
      "Epoch 6/20\n"
     ]
    },
    {
     "name": "stderr",
     "output_type": "stream",
     "text": [
      "100%|██████████| 716/716 [01:06<00:00, 10.77it/s]\n"
     ]
    },
    {
     "name": "stdout",
     "output_type": "stream",
     "text": [
      "{'val_loss': 1.7032872136773132, 'val_accuracy': 0.6552250190694127, 'precision': 0.6292942599266687, 'recall': 0.6552250190694127, 'f1-score': 0.6307830941437053, 'macro_f1-score': 0.39590862545995503, 'balanced_accuracy': 0.3843199474013334, 'mcc': 0.5316745889295145, 'train_loss': 0.21309081193413482}\n",
      "Epoch 7/20\n"
     ]
    },
    {
     "name": "stderr",
     "output_type": "stream",
     "text": [
      "100%|██████████| 716/716 [01:06<00:00, 10.75it/s]\n"
     ]
    },
    {
     "name": "stdout",
     "output_type": "stream",
     "text": [
      "{'val_loss': 1.7863634991936568, 'val_accuracy': 0.6475972540045767, 'precision': 0.6329873296704611, 'recall': 0.6475972540045767, 'f1-score': 0.6287877492975403, 'macro_f1-score': 0.3921366478826895, 'balanced_accuracy': 0.3857601890827647, 'mcc': 0.5262314969748185, 'train_loss': 0.14352757024563143}\n",
      "Epoch 8/20\n"
     ]
    },
    {
     "name": "stderr",
     "output_type": "stream",
     "text": [
      "100%|██████████| 716/716 [01:06<00:00, 10.77it/s]\n"
     ]
    },
    {
     "name": "stdout",
     "output_type": "stream",
     "text": [
      "{'val_loss': 1.878152884179499, 'val_accuracy': 0.6414950419527079, 'precision': 0.6432175199940544, 'recall': 0.6414950419527079, 'f1-score': 0.6376590642795428, 'macro_f1-score': 0.40670874260753526, 'balanced_accuracy': 0.40308800384815086, 'mcc': 0.5293323991803025, 'train_loss': 0.11128196175348055}\n",
      "Epoch 9/20\n"
     ]
    },
    {
     "name": "stderr",
     "output_type": "stream",
     "text": [
      "100%|██████████| 716/716 [01:06<00:00, 10.78it/s]\n"
     ]
    },
    {
     "name": "stdout",
     "output_type": "stream",
     "text": [
      "{'val_loss': 1.9274634326376565, 'val_accuracy': 0.627765064836003, 'precision': 0.6330491401599269, 'recall': 0.627765064836003, 'f1-score': 0.6256151141099395, 'macro_f1-score': 0.40553681208776804, 'balanced_accuracy': 0.42223561994561293, 'mcc': 0.5174429277833698, 'train_loss': 0.10248609038600542}\n",
      "Epoch 10/20\n"
     ]
    },
    {
     "name": "stderr",
     "output_type": "stream",
     "text": [
      "100%|██████████| 716/716 [01:06<00:00, 10.75it/s]\n"
     ]
    },
    {
     "name": "stdout",
     "output_type": "stream",
     "text": [
      "{'val_loss': 1.9389561105792115, 'val_accuracy': 0.6491228070175439, 'precision': 0.6613374722041673, 'recall': 0.6491228070175439, 'f1-score': 0.648230317744167, 'macro_f1-score': 0.4183177515948226, 'balanced_accuracy': 0.44505396115764645, 'mcc': 0.5428833129764985, 'train_loss': 0.1228031954710507}\n",
      "Epoch 11/20\n"
     ]
    },
    {
     "name": "stderr",
     "output_type": "stream",
     "text": [
      "100%|██████████| 716/716 [01:06<00:00, 10.80it/s]\n"
     ]
    },
    {
     "name": "stdout",
     "output_type": "stream",
     "text": [
      "{'val_loss': 2.065204746476034, 'val_accuracy': 0.6147978642257819, 'precision': 0.6377744251002895, 'recall': 0.6147978642257819, 'f1-score': 0.6194378012127199, 'macro_f1-score': 0.3937863698722664, 'balanced_accuracy': 0.4182499383848323, 'mcc': 0.5072034110122834, 'train_loss': 0.08302240791326056}\n",
      "Epoch 12/20\n"
     ]
    },
    {
     "name": "stderr",
     "output_type": "stream",
     "text": [
      "100%|██████████| 716/716 [01:06<00:00, 10.74it/s]\n"
     ]
    },
    {
     "name": "stdout",
     "output_type": "stream",
     "text": [
      "{'val_loss': 2.0553969896239477, 'val_accuracy': 0.6498855835240275, 'precision': 0.6411111847759917, 'recall': 0.6498855835240275, 'f1-score': 0.6348462170775777, 'macro_f1-score': 0.3938243734732006, 'balanced_accuracy': 0.40260779388910484, 'mcc': 0.5291977519622482, 'train_loss': 0.06616534266325609}\n",
      "Epoch 13/20\n"
     ]
    },
    {
     "name": "stderr",
     "output_type": "stream",
     "text": [
      "100%|██████████| 716/716 [01:06<00:00, 10.77it/s]\n"
     ]
    },
    {
     "name": "stdout",
     "output_type": "stream",
     "text": [
      "{'val_loss': 2.0608187714001027, 'val_accuracy': 0.6422578184591915, 'precision': 0.6358685200130875, 'recall': 0.6422578184591915, 'f1-score': 0.6278001656655081, 'macro_f1-score': 0.3882859727922244, 'balanced_accuracy': 0.3818148790340488, 'mcc': 0.5239934071301924, 'train_loss': 0.0948278895870642}\n",
      "Early stopping.\n",
      "\n",
      "[Fold 5]\n",
      "🚀 Using Word2Vec for data augmentation + under-sampling\n",
      "🔻 Under-sampling label 0: 2472 → 2000\n",
      "🔧 Augmenting label 1: 21 → 200 (+179)\n",
      "🔧 Augmenting label 2: 64 → 200 (+136)\n",
      "🔧 Augmenting label 3: 24 → 200 (+176)\n",
      "🔧 Augmenting label 4: 191 → 200 (+9)\n",
      "🔧 Augmenting label 5: 112 → 200 (+88)\n",
      "🔧 Augmenting label 6: 92 → 200 (+108)\n",
      "🔧 Augmenting label 7: 31 → 200 (+169)\n",
      "🔧 Augmenting label 8: 68 → 200 (+132)\n",
      "🔧 Augmenting label 9: 29 → 200 (+171)\n",
      "🔧 Augmenting label 10: 68 → 200 (+132)\n",
      "🔧 Augmenting label 11: 168 → 200 (+32)\n",
      "🔧 Augmenting label 12: 190 → 200 (+10)\n",
      "🔧 Augmenting label 13: 29 → 200 (+171)\n",
      "🔧 Augmenting label 14: 22 → 200 (+178)\n",
      "🔧 Augmenting label 15: 25 → 200 (+175)\n",
      "🔧 Augmenting label 16: 19 → 200 (+181)\n",
      "🔧 Augmenting label 17: 183 → 200 (+17)\n",
      "🔧 Augmenting label 18: 92 → 200 (+108)\n",
      "🔧 Augmenting label 19: 44 → 200 (+156)\n",
      "🔧 Augmenting label 20: 14 → 200 (+186)\n",
      "🔧 Augmenting label 21: 35 → 200 (+165)\n",
      "🔧 Augmenting label 22: 76 → 200 (+124)\n",
      "🔧 Augmenting label 23: 158 → 200 (+42)\n",
      "🔧 Augmenting label 24: 13 → 200 (+187)\n",
      "🔧 Augmenting label 25: 44 → 200 (+156)\n",
      "🔧 Augmenting label 26: 84 → 200 (+116)\n",
      "🔧 Augmenting label 27: 48 → 200 (+152)\n",
      "🔧 Augmenting label 28: 11 → 200 (+189)\n",
      "🔧 Augmenting label 29: 13 → 200 (+187)\n",
      "🔧 Augmenting label 30: 11 → 200 (+189)\n",
      "🔧 Augmenting label 31: 75 → 200 (+125)\n",
      "🔧 Augmenting label 32: 36 → 200 (+164)\n",
      "🔧 Augmenting label 33: 31 → 200 (+169)\n",
      "🔧 Augmenting label 34: 30 → 200 (+170)\n",
      "🔧 Augmenting label 35: 11 → 200 (+189)\n",
      "🔧 Augmenting label 36: 22 → 200 (+178)\n",
      "🔧 Augmenting label 37: 16 → 200 (+184)\n",
      "🔧 Augmenting label 38: 33 → 200 (+167)\n",
      "🔧 Augmenting label 39: 10 → 200 (+190)\n",
      "🔧 Augmenting label 40: 9 → 200 (+191)\n",
      "🔧 Augmenting label 41: 57 → 200 (+143)\n",
      "🔧 Augmenting label 42: 18 → 200 (+182)\n",
      "🔧 Augmenting label 43: 9 → 200 (+191)\n",
      "🔧 Augmenting label 44: 54 → 200 (+146)\n",
      "🔧 Augmenting label 46: 61 → 200 (+139)\n",
      "🔧 Augmenting label 47: 80 → 200 (+120)\n",
      "Label distribution after resampling:\n",
      "  label 0: 2000\n",
      "  label 1: 200\n",
      "  label 2: 200\n",
      "  label 3: 200\n",
      "  label 4: 200\n",
      "  label 5: 200\n",
      "  label 6: 200\n",
      "  label 7: 200\n",
      "  label 8: 200\n",
      "  label 9: 200\n",
      "  label 10: 200\n",
      "  label 11: 200\n",
      "  label 12: 200\n",
      "  label 13: 200\n",
      "  label 14: 200\n",
      "  label 15: 200\n",
      "  label 16: 200\n",
      "  label 17: 200\n",
      "  label 18: 200\n",
      "  label 19: 200\n",
      "  label 20: 200\n",
      "  label 21: 200\n",
      "  label 22: 200\n",
      "  label 23: 200\n",
      "  label 24: 200\n",
      "  label 25: 200\n",
      "  label 26: 200\n",
      "  label 27: 200\n",
      "  label 28: 200\n",
      "  label 29: 200\n",
      "  label 30: 200\n",
      "  label 31: 200\n",
      "  label 32: 200\n",
      "  label 33: 200\n",
      "  label 34: 200\n",
      "  label 35: 200\n",
      "  label 36: 200\n",
      "  label 37: 200\n",
      "  label 38: 200\n",
      "  label 39: 200\n",
      "  label 40: 200\n",
      "  label 41: 200\n",
      "  label 42: 200\n",
      "  label 43: 200\n",
      "  label 44: 200\n",
      "  label 45: 242\n",
      "  label 46: 200\n",
      "  label 47: 200\n",
      "model is bert-base-uncased bilstm\n",
      "Epoch 1/20\n"
     ]
    },
    {
     "name": "stderr",
     "output_type": "stream",
     "text": [
      "100%|██████████| 716/716 [01:06<00:00, 10.75it/s]\n"
     ]
    },
    {
     "name": "stdout",
     "output_type": "stream",
     "text": [
      "{'val_loss': 1.7480136708515446, 'val_accuracy': 0.5385202135774219, 'precision': 0.6210427836948026, 'recall': 0.5385202135774219, 'f1-score': 0.5395740908210135, 'macro_f1-score': 0.29829608874616786, 'balanced_accuracy': 0.3698825671650752, 'mcc': 0.40628837204925833, 'train_loss': 2.527151468745823}\n",
      "Epoch 2/20\n"
     ]
    },
    {
     "name": "stderr",
     "output_type": "stream",
     "text": [
      "100%|██████████| 716/716 [01:06<00:00, 10.72it/s]\n"
     ]
    },
    {
     "name": "stdout",
     "output_type": "stream",
     "text": [
      "{'val_loss': 1.4750411819394043, 'val_accuracy': 0.6262395118230358, 'precision': 0.638792499817483, 'recall': 0.6262395118230358, 'f1-score': 0.6067718051405094, 'macro_f1-score': 0.3962831292962563, 'balanced_accuracy': 0.3873720535872644, 'mcc': 0.49568863245619094, 'train_loss': 1.088655142977251}\n",
      "Epoch 3/20\n"
     ]
    },
    {
     "name": "stderr",
     "output_type": "stream",
     "text": [
      "100%|██████████| 716/716 [01:06<00:00, 10.79it/s]\n"
     ]
    },
    {
     "name": "stdout",
     "output_type": "stream",
     "text": [
      "{'val_loss': 1.4531674421415097, 'val_accuracy': 0.620137299771167, 'precision': 0.6461892840418347, 'recall': 0.620137299771167, 'f1-score': 0.6267349311816904, 'macro_f1-score': 0.4193349218594622, 'balanced_accuracy': 0.43694461561792536, 'mcc': 0.5139884778240668, 'train_loss': 0.6191000011567463}\n",
      "Epoch 4/20\n"
     ]
    },
    {
     "name": "stderr",
     "output_type": "stream",
     "text": [
      "100%|██████████| 716/716 [01:06<00:00, 10.72it/s]\n"
     ]
    },
    {
     "name": "stdout",
     "output_type": "stream",
     "text": [
      "{'val_loss': 1.5821102123434951, 'val_accuracy': 0.6292906178489702, 'precision': 0.6483738101421342, 'recall': 0.6292906178489702, 'f1-score': 0.6274789376282163, 'macro_f1-score': 0.425745815162965, 'balanced_accuracy': 0.4304726452153429, 'mcc': 0.5217852147065128, 'train_loss': 0.3647739008438446}\n",
      "Epoch 5/20\n"
     ]
    },
    {
     "name": "stderr",
     "output_type": "stream",
     "text": [
      "100%|██████████| 716/716 [01:06<00:00, 10.78it/s]\n"
     ]
    },
    {
     "name": "stdout",
     "output_type": "stream",
     "text": [
      "{'val_loss': 1.5530331489153024, 'val_accuracy': 0.6514111365369947, 'precision': 0.6453619611706789, 'recall': 0.6514111365369947, 'f1-score': 0.630821136583005, 'macro_f1-score': 0.39747702688861725, 'balanced_accuracy': 0.3815580933969849, 'mcc': 0.5330539464144525, 'train_loss': 0.2585748116454557}\n",
      "Epoch 6/20\n"
     ]
    },
    {
     "name": "stderr",
     "output_type": "stream",
     "text": [
      "100%|██████████| 716/716 [01:06<00:00, 10.75it/s]\n"
     ]
    },
    {
     "name": "stdout",
     "output_type": "stream",
     "text": [
      "{'val_loss': 1.6788151576751615, 'val_accuracy': 0.6468344774980931, 'precision': 0.6666500396233651, 'recall': 0.6468344774980931, 'f1-score': 0.6435372033880354, 'macro_f1-score': 0.4428639545163362, 'balanced_accuracy': 0.4226531872118984, 'mcc': 0.5409934970513688, 'train_loss': 0.18156547235538298}\n",
      "Epoch 7/20\n"
     ]
    },
    {
     "name": "stderr",
     "output_type": "stream",
     "text": [
      "100%|██████████| 716/716 [01:06<00:00, 10.76it/s]\n"
     ]
    },
    {
     "name": "stdout",
     "output_type": "stream",
     "text": [
      "{'val_loss': 1.7847855654431553, 'val_accuracy': 0.6369183829138062, 'precision': 0.6338653187770006, 'recall': 0.6369183829138062, 'f1-score': 0.6249279656204694, 'macro_f1-score': 0.396594615967425, 'balanced_accuracy': 0.39334750984773525, 'mcc': 0.5191989104312915, 'train_loss': 0.15846836836826494}\n",
      "Epoch 8/20\n"
     ]
    },
    {
     "name": "stderr",
     "output_type": "stream",
     "text": [
      "100%|██████████| 716/716 [01:06<00:00, 10.79it/s]\n"
     ]
    },
    {
     "name": "stdout",
     "output_type": "stream",
     "text": [
      "{'val_loss': 1.825027503981823, 'val_accuracy': 0.6392067124332571, 'precision': 0.659106097344965, 'recall': 0.6392067124332571, 'f1-score': 0.6405241672734773, 'macro_f1-score': 0.42608424040515835, 'balanced_accuracy': 0.43902460811968114, 'mcc': 0.5382371025995537, 'train_loss': 0.12731870555308486}\n",
      "Epoch 9/20\n"
     ]
    },
    {
     "name": "stderr",
     "output_type": "stream",
     "text": [
      "100%|██████████| 716/716 [01:06<00:00, 10.73it/s]\n"
     ]
    },
    {
     "name": "stdout",
     "output_type": "stream",
     "text": [
      "{'val_loss': 1.8525917660899278, 'val_accuracy': 0.6300533943554538, 'precision': 0.656251147641035, 'recall': 0.6300533943554538, 'f1-score': 0.6293549962836222, 'macro_f1-score': 0.40953234470966576, 'balanced_accuracy': 0.42392986349755674, 'mcc': 0.5254425011650714, 'train_loss': 0.11079699847152634}\n",
      "Early stopping.\n",
      "\n",
      " === bert-base-uncased + bilstm + word2vec Final 5-fold Cross-Validation Results ===\n",
      "val_loss: 1.7880\n",
      "val_accuracy: 0.6409\n",
      "precision: 0.6515\n",
      "recall: 0.6409\n",
      "f1-score: 0.6355\n",
      "macro_f1-score: 0.4272\n",
      "balanced_accuracy: 0.4239\n",
      "mcc: 0.5273\n",
      "train_loss: 0.1534\n",
      "total_seconds: 3587.0000\n",
      "total_time: 0 hrs 59 mins 47 secs\n",
      "▶ Running: roberta-base + plain + word2vec\n",
      "tokenizer is roberta-base\n",
      "Using device: cuda\n",
      "CUDA Available: True\n",
      "CUDA Device: NVIDIA GeForce RTX 5070 Ti\n",
      "Current GPU Memory Allocated: 1.33 GB\n",
      "Current GPU Memory Cached: 4.54 GB\n",
      "\n",
      "[Fold 1]\n",
      "🚀 Using Word2Vec for data augmentation + under-sampling\n",
      "🔻 Under-sampling label 0: 2471 → 2000\n",
      "🔧 Augmenting label 1: 21 → 200 (+179)\n",
      "🔧 Augmenting label 2: 64 → 200 (+136)\n",
      "🔧 Augmenting label 3: 24 → 200 (+176)\n",
      "🔧 Augmenting label 4: 191 → 200 (+9)\n",
      "🔧 Augmenting label 5: 113 → 200 (+87)\n",
      "🔧 Augmenting label 6: 93 → 200 (+107)\n",
      "🔧 Augmenting label 7: 30 → 200 (+170)\n",
      "🔧 Augmenting label 8: 68 → 200 (+132)\n",
      "🔧 Augmenting label 9: 30 → 200 (+170)\n",
      "🔧 Augmenting label 10: 67 → 200 (+133)\n",
      "🔧 Augmenting label 11: 169 → 200 (+31)\n",
      "🔧 Augmenting label 12: 189 → 200 (+11)\n",
      "🔧 Augmenting label 13: 29 → 200 (+171)\n",
      "🔧 Augmenting label 14: 22 → 200 (+178)\n",
      "🔧 Augmenting label 15: 25 → 200 (+175)\n",
      "🔧 Augmenting label 16: 19 → 200 (+181)\n",
      "🔧 Augmenting label 17: 183 → 200 (+17)\n",
      "🔧 Augmenting label 18: 92 → 200 (+108)\n",
      "🔧 Augmenting label 19: 44 → 200 (+156)\n",
      "🔧 Augmenting label 20: 13 → 200 (+187)\n",
      "🔧 Augmenting label 21: 35 → 200 (+165)\n",
      "🔧 Augmenting label 22: 76 → 200 (+124)\n",
      "🔧 Augmenting label 23: 158 → 200 (+42)\n",
      "🔧 Augmenting label 24: 13 → 200 (+187)\n",
      "🔧 Augmenting label 25: 44 → 200 (+156)\n",
      "🔧 Augmenting label 26: 84 → 200 (+116)\n",
      "🔧 Augmenting label 27: 48 → 200 (+152)\n",
      "🔧 Augmenting label 28: 11 → 200 (+189)\n",
      "🔧 Augmenting label 29: 13 → 200 (+187)\n",
      "🔧 Augmenting label 30: 11 → 200 (+189)\n",
      "🔧 Augmenting label 31: 75 → 200 (+125)\n",
      "🔧 Augmenting label 32: 36 → 200 (+164)\n",
      "🔧 Augmenting label 33: 32 → 200 (+168)\n",
      "🔧 Augmenting label 34: 29 → 200 (+171)\n",
      "🔧 Augmenting label 35: 11 → 200 (+189)\n",
      "🔧 Augmenting label 36: 22 → 200 (+178)\n",
      "🔧 Augmenting label 37: 16 → 200 (+184)\n",
      "🔧 Augmenting label 38: 33 → 200 (+167)\n",
      "🔧 Augmenting label 39: 10 → 200 (+190)\n",
      "🔧 Augmenting label 40: 9 → 200 (+191)\n",
      "🔧 Augmenting label 41: 57 → 200 (+143)\n",
      "🔧 Augmenting label 42: 19 → 200 (+181)\n",
      "🔧 Augmenting label 43: 8 → 200 (+192)\n",
      "🔧 Augmenting label 44: 54 → 200 (+146)\n",
      "🔧 Augmenting label 46: 61 → 200 (+139)\n",
      "🔧 Augmenting label 47: 80 → 200 (+120)\n",
      "Label distribution after resampling:\n",
      "  label 0: 2000\n",
      "  label 1: 200\n",
      "  label 2: 200\n",
      "  label 3: 200\n",
      "  label 4: 200\n",
      "  label 5: 200\n",
      "  label 6: 200\n",
      "  label 7: 200\n",
      "  label 8: 200\n",
      "  label 9: 200\n",
      "  label 10: 200\n",
      "  label 11: 200\n",
      "  label 12: 200\n",
      "  label 13: 200\n",
      "  label 14: 200\n",
      "  label 15: 200\n",
      "  label 16: 200\n",
      "  label 17: 200\n",
      "  label 18: 200\n",
      "  label 19: 200\n",
      "  label 20: 200\n",
      "  label 21: 200\n",
      "  label 22: 200\n",
      "  label 23: 200\n",
      "  label 24: 200\n",
      "  label 25: 200\n",
      "  label 26: 200\n",
      "  label 27: 200\n",
      "  label 28: 200\n",
      "  label 29: 200\n",
      "  label 30: 200\n",
      "  label 31: 200\n",
      "  label 32: 200\n",
      "  label 33: 200\n",
      "  label 34: 200\n",
      "  label 35: 200\n",
      "  label 36: 200\n",
      "  label 37: 200\n",
      "  label 38: 200\n",
      "  label 39: 200\n",
      "  label 40: 200\n",
      "  label 41: 200\n",
      "  label 42: 200\n",
      "  label 43: 200\n",
      "  label 44: 200\n",
      "  label 45: 242\n",
      "  label 46: 200\n",
      "  label 47: 200\n",
      "model is roberta-base\n"
     ]
    },
    {
     "name": "stderr",
     "output_type": "stream",
     "text": [
      "Some weights of RobertaForSequenceClassification were not initialized from the model checkpoint at roberta-base and are newly initialized: ['classifier.dense.bias', 'classifier.dense.weight', 'classifier.out_proj.bias', 'classifier.out_proj.weight']\n",
      "You should probably TRAIN this model on a down-stream task to be able to use it for predictions and inference.\n"
     ]
    },
    {
     "name": "stdout",
     "output_type": "stream",
     "text": [
      "Epoch 1/20\n"
     ]
    },
    {
     "name": "stderr",
     "output_type": "stream",
     "text": [
      "100%|██████████| 716/716 [01:01<00:00, 11.64it/s]\n"
     ]
    },
    {
     "name": "stdout",
     "output_type": "stream",
     "text": [
      "{'val_loss': 1.9291407611311935, 'val_accuracy': 0.4801829268292683, 'precision': 0.577176608574434, 'recall': 0.4801829268292683, 'f1-score': 0.49858793141457164, 'macro_f1-score': 0.29017192786117296, 'balanced_accuracy': 0.4016267669378559, 'mcc': 0.36520720283625757, 'train_loss': 2.456624784616119}\n",
      "Epoch 2/20\n"
     ]
    },
    {
     "name": "stderr",
     "output_type": "stream",
     "text": [
      "100%|██████████| 716/716 [01:01<00:00, 11.65it/s]\n"
     ]
    },
    {
     "name": "stdout",
     "output_type": "stream",
     "text": [
      "{'val_loss': 1.498476935232558, 'val_accuracy': 0.6059451219512195, 'precision': 0.625871731485772, 'recall': 0.6059451219512195, 'f1-score': 0.5993691475105581, 'macro_f1-score': 0.38172246870591575, 'balanced_accuracy': 0.41562489490783355, 'mcc': 0.47858651251609235, 'train_loss': 1.0709223657346971}\n",
      "Epoch 3/20\n"
     ]
    },
    {
     "name": "stderr",
     "output_type": "stream",
     "text": [
      "100%|██████████| 716/716 [01:01<00:00, 11.68it/s]\n"
     ]
    },
    {
     "name": "stdout",
     "output_type": "stream",
     "text": [
      "{'val_loss': 1.5947745166173795, 'val_accuracy': 0.6135670731707317, 'precision': 0.6222372728088947, 'recall': 0.6135670731707317, 'f1-score': 0.6059278918256523, 'macro_f1-score': 0.3891144266962206, 'balanced_accuracy': 0.4057154463033609, 'mcc': 0.49133310738914965, 'train_loss': 0.6036028977608381}\n",
      "Epoch 4/20\n"
     ]
    },
    {
     "name": "stderr",
     "output_type": "stream",
     "text": [
      "100%|██████████| 716/716 [01:01<00:00, 11.66it/s]\n"
     ]
    },
    {
     "name": "stdout",
     "output_type": "stream",
     "text": [
      "{'val_loss': 1.681282097791753, 'val_accuracy': 0.6135670731707317, 'precision': 0.6077973465173817, 'recall': 0.6135670731707317, 'f1-score': 0.592229413005009, 'macro_f1-score': 0.3966842248790284, 'balanced_accuracy': 0.4101680864542809, 'mcc': 0.4847541640757807, 'train_loss': 0.42491675136538026}\n",
      "Epoch 5/20\n"
     ]
    },
    {
     "name": "stderr",
     "output_type": "stream",
     "text": [
      "100%|██████████| 716/716 [01:01<00:00, 11.67it/s]\n"
     ]
    },
    {
     "name": "stdout",
     "output_type": "stream",
     "text": [
      "{'val_loss': 1.7487507582437702, 'val_accuracy': 0.635670731707317, 'precision': 0.6133084747646849, 'recall': 0.635670731707317, 'f1-score': 0.6113415383791481, 'macro_f1-score': 0.4005042036834852, 'balanced_accuracy': 0.39810285807510865, 'mcc': 0.5018055099248145, 'train_loss': 0.28986910132784915}\n",
      "Epoch 6/20\n"
     ]
    },
    {
     "name": "stderr",
     "output_type": "stream",
     "text": [
      "100%|██████████| 716/716 [01:01<00:00, 11.67it/s]\n"
     ]
    },
    {
     "name": "stdout",
     "output_type": "stream",
     "text": [
      "{'val_loss': 1.9001686227757757, 'val_accuracy': 0.6028963414634146, 'precision': 0.6391719243723404, 'recall': 0.6028963414634146, 'f1-score': 0.6080429867811561, 'macro_f1-score': 0.3916226433730306, 'balanced_accuracy': 0.42929653159715037, 'mcc': 0.49387163383623045, 'train_loss': 0.24743735372458256}\n",
      "Epoch 7/20\n"
     ]
    },
    {
     "name": "stderr",
     "output_type": "stream",
     "text": [
      "100%|██████████| 716/716 [01:01<00:00, 11.67it/s]\n"
     ]
    },
    {
     "name": "stdout",
     "output_type": "stream",
     "text": [
      "{'val_loss': 1.9232717890564988, 'val_accuracy': 0.6417682926829268, 'precision': 0.6374414529004256, 'recall': 0.6417682926829268, 'f1-score': 0.6315333645305156, 'macro_f1-score': 0.41882480555868523, 'balanced_accuracy': 0.42485846073346467, 'mcc': 0.5216419202948563, 'train_loss': 0.19603552057228296}\n",
      "Epoch 8/20\n"
     ]
    },
    {
     "name": "stderr",
     "output_type": "stream",
     "text": [
      "100%|██████████| 716/716 [01:01<00:00, 11.67it/s]\n"
     ]
    },
    {
     "name": "stdout",
     "output_type": "stream",
     "text": [
      "{'val_loss': 1.9700199136646783, 'val_accuracy': 0.6204268292682927, 'precision': 0.6297371499833021, 'recall': 0.6204268292682927, 'f1-score': 0.6164405605549208, 'macro_f1-score': 0.40847738057712096, 'balanced_accuracy': 0.4138934681883895, 'mcc': 0.5044041930931611, 'train_loss': 0.17290067122455727}\n",
      "Epoch 9/20\n"
     ]
    },
    {
     "name": "stderr",
     "output_type": "stream",
     "text": [
      "100%|██████████| 716/716 [01:01<00:00, 11.67it/s]\n"
     ]
    },
    {
     "name": "stdout",
     "output_type": "stream",
     "text": [
      "{'val_loss': 2.028868164412859, 'val_accuracy': 0.6227134146341463, 'precision': 0.6358266062563557, 'recall': 0.6227134146341463, 'f1-score': 0.6234006153334891, 'macro_f1-score': 0.44784030498834687, 'balanced_accuracy': 0.4601282290581765, 'mcc': 0.5060108772944429, 'train_loss': 0.15496178992891257}\n",
      "Epoch 10/20\n"
     ]
    },
    {
     "name": "stderr",
     "output_type": "stream",
     "text": [
      "100%|██████████| 716/716 [01:01<00:00, 11.68it/s]\n"
     ]
    },
    {
     "name": "stdout",
     "output_type": "stream",
     "text": [
      "{'val_loss': 2.0762416227925113, 'val_accuracy': 0.6097560975609756, 'precision': 0.6301078986031051, 'recall': 0.6097560975609756, 'f1-score': 0.6122002200975114, 'macro_f1-score': 0.4163441287729202, 'balanced_accuracy': 0.43803938840925233, 'mcc': 0.4989666118532598, 'train_loss': 0.1307431666288452}\n",
      "Epoch 11/20\n"
     ]
    },
    {
     "name": "stderr",
     "output_type": "stream",
     "text": [
      "100%|██████████| 716/716 [01:01<00:00, 11.67it/s]\n"
     ]
    },
    {
     "name": "stdout",
     "output_type": "stream",
     "text": [
      "{'val_loss': 2.231998926619204, 'val_accuracy': 0.6051829268292683, 'precision': 0.6434386247177049, 'recall': 0.6051829268292683, 'f1-score': 0.6104670741805168, 'macro_f1-score': 0.4038004459786255, 'balanced_accuracy': 0.4500136229165685, 'mcc': 0.500615711269912, 'train_loss': 0.11440110741431601}\n",
      "Epoch 12/20\n"
     ]
    },
    {
     "name": "stderr",
     "output_type": "stream",
     "text": [
      "100%|██████████| 716/716 [01:01<00:00, 11.68it/s]\n"
     ]
    },
    {
     "name": "stdout",
     "output_type": "stream",
     "text": [
      "{'val_loss': 2.0883201933579474, 'val_accuracy': 0.6387195121951219, 'precision': 0.6271078501978015, 'recall': 0.6387195121951219, 'f1-score': 0.6267247714544144, 'macro_f1-score': 0.4192173425802694, 'balanced_accuracy': 0.42755123090879427, 'mcc': 0.5233874209959862, 'train_loss': 0.1165156186114107}\n",
      "Early stopping.\n",
      "\n",
      "[Fold 2]\n",
      "🚀 Using Word2Vec for data augmentation + under-sampling\n",
      "🔻 Under-sampling label 0: 2471 → 2000\n",
      "🔧 Augmenting label 1: 22 → 200 (+178)\n",
      "🔧 Augmenting label 2: 64 → 200 (+136)\n",
      "🔧 Augmenting label 3: 24 → 200 (+176)\n",
      "🔧 Augmenting label 4: 190 → 200 (+10)\n",
      "🔧 Augmenting label 5: 113 → 200 (+87)\n",
      "🔧 Augmenting label 6: 93 → 200 (+107)\n",
      "🔧 Augmenting label 7: 30 → 200 (+170)\n",
      "🔧 Augmenting label 8: 68 → 200 (+132)\n",
      "🔧 Augmenting label 9: 30 → 200 (+170)\n",
      "🔧 Augmenting label 10: 67 → 200 (+133)\n",
      "🔧 Augmenting label 11: 169 → 200 (+31)\n",
      "🔧 Augmenting label 12: 189 → 200 (+11)\n",
      "🔧 Augmenting label 13: 29 → 200 (+171)\n",
      "🔧 Augmenting label 14: 23 → 200 (+177)\n",
      "🔧 Augmenting label 15: 24 → 200 (+176)\n",
      "🔧 Augmenting label 16: 20 → 200 (+180)\n",
      "🔧 Augmenting label 17: 182 → 200 (+18)\n",
      "🔧 Augmenting label 18: 92 → 200 (+108)\n",
      "🔧 Augmenting label 19: 44 → 200 (+156)\n",
      "🔧 Augmenting label 20: 13 → 200 (+187)\n",
      "🔧 Augmenting label 21: 36 → 200 (+164)\n",
      "🔧 Augmenting label 22: 76 → 200 (+124)\n",
      "🔧 Augmenting label 23: 157 → 200 (+43)\n",
      "🔧 Augmenting label 24: 12 → 200 (+188)\n",
      "🔧 Augmenting label 25: 44 → 200 (+156)\n",
      "🔧 Augmenting label 26: 84 → 200 (+116)\n",
      "🔧 Augmenting label 27: 48 → 200 (+152)\n",
      "🔧 Augmenting label 28: 12 → 200 (+188)\n",
      "🔧 Augmenting label 29: 12 → 200 (+188)\n",
      "🔧 Augmenting label 30: 12 → 200 (+188)\n",
      "🔧 Augmenting label 31: 75 → 200 (+125)\n",
      "🔧 Augmenting label 32: 36 → 200 (+164)\n",
      "🔧 Augmenting label 33: 31 → 200 (+169)\n",
      "🔧 Augmenting label 34: 29 → 200 (+171)\n",
      "🔧 Augmenting label 35: 12 → 200 (+188)\n",
      "🔧 Augmenting label 36: 21 → 200 (+179)\n",
      "🔧 Augmenting label 37: 16 → 200 (+184)\n",
      "🔧 Augmenting label 38: 33 → 200 (+167)\n",
      "🔧 Augmenting label 39: 11 → 200 (+189)\n",
      "🔧 Augmenting label 40: 8 → 200 (+192)\n",
      "🔧 Augmenting label 41: 57 → 200 (+143)\n",
      "🔧 Augmenting label 42: 19 → 200 (+181)\n",
      "🔧 Augmenting label 43: 9 → 200 (+191)\n",
      "🔧 Augmenting label 44: 54 → 200 (+146)\n",
      "🔧 Augmenting label 46: 62 → 200 (+138)\n",
      "🔧 Augmenting label 47: 80 → 200 (+120)\n",
      "Label distribution after resampling:\n",
      "  label 0: 2000\n",
      "  label 1: 200\n",
      "  label 2: 200\n",
      "  label 3: 200\n",
      "  label 4: 200\n",
      "  label 5: 200\n",
      "  label 6: 200\n",
      "  label 7: 200\n",
      "  label 8: 200\n",
      "  label 9: 200\n",
      "  label 10: 200\n",
      "  label 11: 200\n",
      "  label 12: 200\n",
      "  label 13: 200\n",
      "  label 14: 200\n",
      "  label 15: 200\n",
      "  label 16: 200\n",
      "  label 17: 200\n",
      "  label 18: 200\n",
      "  label 19: 200\n",
      "  label 20: 200\n",
      "  label 21: 200\n",
      "  label 22: 200\n",
      "  label 23: 200\n",
      "  label 24: 200\n",
      "  label 25: 200\n",
      "  label 26: 200\n",
      "  label 27: 200\n",
      "  label 28: 200\n",
      "  label 29: 200\n",
      "  label 30: 200\n",
      "  label 31: 200\n",
      "  label 32: 200\n",
      "  label 33: 200\n",
      "  label 34: 200\n",
      "  label 35: 200\n",
      "  label 36: 200\n",
      "  label 37: 200\n",
      "  label 38: 200\n",
      "  label 39: 200\n",
      "  label 40: 200\n",
      "  label 41: 200\n",
      "  label 42: 200\n",
      "  label 43: 200\n",
      "  label 44: 200\n",
      "  label 45: 242\n",
      "  label 46: 200\n",
      "  label 47: 200\n",
      "model is roberta-base\n"
     ]
    },
    {
     "name": "stderr",
     "output_type": "stream",
     "text": [
      "Some weights of RobertaForSequenceClassification were not initialized from the model checkpoint at roberta-base and are newly initialized: ['classifier.dense.bias', 'classifier.dense.weight', 'classifier.out_proj.bias', 'classifier.out_proj.weight']\n",
      "You should probably TRAIN this model on a down-stream task to be able to use it for predictions and inference.\n"
     ]
    },
    {
     "name": "stdout",
     "output_type": "stream",
     "text": [
      "Epoch 1/20\n"
     ]
    },
    {
     "name": "stderr",
     "output_type": "stream",
     "text": [
      "100%|██████████| 716/716 [01:01<00:00, 11.65it/s]\n"
     ]
    },
    {
     "name": "stdout",
     "output_type": "stream",
     "text": [
      "{'val_loss': 1.755346442141184, 'val_accuracy': 0.5308924485125858, 'precision': 0.6301790134194083, 'recall': 0.5308924485125858, 'f1-score': 0.5160094042095453, 'macro_f1-score': 0.2568541940356709, 'balanced_accuracy': 0.3634283170819277, 'mcc': 0.3884922829737364, 'train_loss': 2.6385065262211103}\n",
      "Epoch 2/20\n"
     ]
    },
    {
     "name": "stderr",
     "output_type": "stream",
     "text": [
      "100%|██████████| 716/716 [01:01<00:00, 11.68it/s]\n"
     ]
    },
    {
     "name": "stdout",
     "output_type": "stream",
     "text": [
      "{'val_loss': 1.5510731295841496, 'val_accuracy': 0.5881006864988558, 'precision': 0.6081673734238621, 'recall': 0.5881006864988558, 'f1-score': 0.5663407377029236, 'macro_f1-score': 0.3409133310599604, 'balanced_accuracy': 0.3833613995043254, 'mcc': 0.4433414610524081, 'train_loss': 1.1584518693762118}\n",
      "Epoch 3/20\n"
     ]
    },
    {
     "name": "stderr",
     "output_type": "stream",
     "text": [
      "100%|██████████| 716/716 [01:01<00:00, 11.67it/s]\n"
     ]
    },
    {
     "name": "stdout",
     "output_type": "stream",
     "text": [
      "{'val_loss': 1.578967462952544, 'val_accuracy': 0.6117467581998475, 'precision': 0.6148848156713926, 'recall': 0.6117467581998475, 'f1-score': 0.597837290215282, 'macro_f1-score': 0.3607501080728051, 'balanced_accuracy': 0.375096892527843, 'mcc': 0.4838837330600299, 'train_loss': 0.6156348457050057}\n",
      "Epoch 4/20\n"
     ]
    },
    {
     "name": "stderr",
     "output_type": "stream",
     "text": [
      "100%|██████████| 716/716 [01:01<00:00, 11.67it/s]\n"
     ]
    },
    {
     "name": "stdout",
     "output_type": "stream",
     "text": [
      "{'val_loss': 1.614340183938422, 'val_accuracy': 0.6140350877192983, 'precision': 0.6278008545342372, 'recall': 0.6140350877192983, 'f1-score': 0.6055740461486634, 'macro_f1-score': 0.3688562373025693, 'balanced_accuracy': 0.3810920816866739, 'mcc': 0.48861765851325367, 'train_loss': 0.3893208213296183}\n",
      "Epoch 5/20\n"
     ]
    },
    {
     "name": "stderr",
     "output_type": "stream",
     "text": [
      "100%|██████████| 716/716 [01:01<00:00, 11.66it/s]\n"
     ]
    },
    {
     "name": "stdout",
     "output_type": "stream",
     "text": [
      "{'val_loss': 1.7387839628428947, 'val_accuracy': 0.6407322654462243, 'precision': 0.6237711258566621, 'recall': 0.6407322654462243, 'f1-score': 0.6104696348412412, 'macro_f1-score': 0.35530943177770097, 'balanced_accuracy': 0.35740968956573343, 'mcc': 0.5057311145803166, 'train_loss': 0.276058387519875}\n",
      "Epoch 6/20\n"
     ]
    },
    {
     "name": "stderr",
     "output_type": "stream",
     "text": [
      "100%|██████████| 716/716 [01:01<00:00, 11.67it/s]\n"
     ]
    },
    {
     "name": "stdout",
     "output_type": "stream",
     "text": [
      "{'val_loss': 1.8755860437707204, 'val_accuracy': 0.627765064836003, 'precision': 0.6250393844863971, 'recall': 0.627765064836003, 'f1-score': 0.6102251654706468, 'macro_f1-score': 0.3823818184690811, 'balanced_accuracy': 0.4036005934828175, 'mcc': 0.4955906456704849, 'train_loss': 0.23419990475346755}\n",
      "Epoch 7/20\n"
     ]
    },
    {
     "name": "stderr",
     "output_type": "stream",
     "text": [
      "100%|██████████| 716/716 [01:01<00:00, 11.65it/s]\n"
     ]
    },
    {
     "name": "stdout",
     "output_type": "stream",
     "text": [
      "{'val_loss': 1.9208652929561894, 'val_accuracy': 0.620137299771167, 'precision': 0.6410608145503205, 'recall': 0.620137299771167, 'f1-score': 0.617563892397318, 'macro_f1-score': 0.38600341635061824, 'balanced_accuracy': 0.4104395861453552, 'mcc': 0.5062531219093046, 'train_loss': 0.18940206610353133}\n",
      "Epoch 8/20\n"
     ]
    },
    {
     "name": "stderr",
     "output_type": "stream",
     "text": [
      "100%|██████████| 716/716 [01:01<00:00, 11.67it/s]\n"
     ]
    },
    {
     "name": "stdout",
     "output_type": "stream",
     "text": [
      "{'val_loss': 2.043640589568673, 'val_accuracy': 0.6414950419527079, 'precision': 0.6277283153398038, 'recall': 0.6414950419527079, 'f1-score': 0.6189858741027593, 'macro_f1-score': 0.3673410621227418, 'balanced_accuracy': 0.368859432496145, 'mcc': 0.5114967931473399, 'train_loss': 0.14023179812721034}\n",
      "Epoch 9/20\n"
     ]
    },
    {
     "name": "stderr",
     "output_type": "stream",
     "text": [
      "100%|██████████| 716/716 [01:01<00:00, 11.68it/s]\n"
     ]
    },
    {
     "name": "stdout",
     "output_type": "stream",
     "text": [
      "{'val_loss': 1.911720005477347, 'val_accuracy': 0.631578947368421, 'precision': 0.6247158096430421, 'recall': 0.631578947368421, 'f1-score': 0.6158146636746744, 'macro_f1-score': 0.37654470840334947, 'balanced_accuracy': 0.3875192184952107, 'mcc': 0.5097752610759545, 'train_loss': 0.13619760498820738}\n",
      "Epoch 10/20\n"
     ]
    },
    {
     "name": "stderr",
     "output_type": "stream",
     "text": [
      "100%|██████████| 716/716 [01:01<00:00, 11.67it/s]\n"
     ]
    },
    {
     "name": "stdout",
     "output_type": "stream",
     "text": [
      "{'val_loss': 2.126080491193911, 'val_accuracy': 0.6338672768878718, 'precision': 0.6166701230654131, 'recall': 0.6338672768878718, 'f1-score': 0.6149527224704914, 'macro_f1-score': 0.3804736895606155, 'balanced_accuracy': 0.37744481986878675, 'mcc': 0.5067968852659638, 'train_loss': 0.11806325628370172}\n",
      "Early stopping.\n",
      "\n",
      "[Fold 3]\n",
      "🚀 Using Word2Vec for data augmentation + under-sampling\n",
      "🔻 Under-sampling label 0: 2471 → 2000\n",
      "🔧 Augmenting label 1: 22 → 200 (+178)\n",
      "🔧 Augmenting label 2: 64 → 200 (+136)\n",
      "🔧 Augmenting label 3: 24 → 200 (+176)\n",
      "🔧 Augmenting label 4: 190 → 200 (+10)\n",
      "🔧 Augmenting label 5: 113 → 200 (+87)\n",
      "🔧 Augmenting label 6: 93 → 200 (+107)\n",
      "🔧 Augmenting label 7: 30 → 200 (+170)\n",
      "🔧 Augmenting label 8: 68 → 200 (+132)\n",
      "🔧 Augmenting label 9: 30 → 200 (+170)\n",
      "🔧 Augmenting label 10: 67 → 200 (+133)\n",
      "🔧 Augmenting label 11: 169 → 200 (+31)\n",
      "🔧 Augmenting label 12: 190 → 200 (+10)\n",
      "🔧 Augmenting label 13: 28 → 200 (+172)\n",
      "🔧 Augmenting label 14: 23 → 200 (+177)\n",
      "🔧 Augmenting label 15: 25 → 200 (+175)\n",
      "🔧 Augmenting label 16: 19 → 200 (+181)\n",
      "🔧 Augmenting label 17: 182 → 200 (+18)\n",
      "🔧 Augmenting label 18: 92 → 200 (+108)\n",
      "🔧 Augmenting label 19: 44 → 200 (+156)\n",
      "🔧 Augmenting label 20: 14 → 200 (+186)\n",
      "🔧 Augmenting label 21: 35 → 200 (+165)\n",
      "🔧 Augmenting label 22: 76 → 200 (+124)\n",
      "🔧 Augmenting label 23: 157 → 200 (+43)\n",
      "🔧 Augmenting label 24: 13 → 200 (+187)\n",
      "🔧 Augmenting label 25: 44 → 200 (+156)\n",
      "🔧 Augmenting label 26: 84 → 200 (+116)\n",
      "🔧 Augmenting label 27: 48 → 200 (+152)\n",
      "🔧 Augmenting label 28: 11 → 200 (+189)\n",
      "🔧 Augmenting label 29: 13 → 200 (+187)\n",
      "🔧 Augmenting label 30: 11 → 200 (+189)\n",
      "🔧 Augmenting label 31: 76 → 200 (+124)\n",
      "🔧 Augmenting label 32: 36 → 200 (+164)\n",
      "🔧 Augmenting label 33: 31 → 200 (+169)\n",
      "🔧 Augmenting label 34: 30 → 200 (+170)\n",
      "🔧 Augmenting label 35: 11 → 200 (+189)\n",
      "🔧 Augmenting label 36: 21 → 200 (+179)\n",
      "🔧 Augmenting label 37: 16 → 200 (+184)\n",
      "🔧 Augmenting label 38: 32 → 200 (+168)\n",
      "🔧 Augmenting label 39: 11 → 200 (+189)\n",
      "🔧 Augmenting label 40: 9 → 200 (+191)\n",
      "🔧 Augmenting label 41: 57 → 200 (+143)\n",
      "🔧 Augmenting label 42: 18 → 200 (+182)\n",
      "🔧 Augmenting label 43: 9 → 200 (+191)\n",
      "🔧 Augmenting label 44: 55 → 200 (+145)\n",
      "🔧 Augmenting label 46: 62 → 200 (+138)\n",
      "🔧 Augmenting label 47: 80 → 200 (+120)\n",
      "Label distribution after resampling:\n",
      "  label 0: 2000\n",
      "  label 1: 200\n",
      "  label 2: 200\n",
      "  label 3: 200\n",
      "  label 4: 200\n",
      "  label 5: 200\n",
      "  label 6: 200\n",
      "  label 7: 200\n",
      "  label 8: 200\n",
      "  label 9: 200\n",
      "  label 10: 200\n",
      "  label 11: 200\n",
      "  label 12: 200\n",
      "  label 13: 200\n",
      "  label 14: 200\n",
      "  label 15: 200\n",
      "  label 16: 200\n",
      "  label 17: 200\n",
      "  label 18: 200\n",
      "  label 19: 200\n",
      "  label 20: 200\n",
      "  label 21: 200\n",
      "  label 22: 200\n",
      "  label 23: 200\n",
      "  label 24: 200\n",
      "  label 25: 200\n",
      "  label 26: 200\n",
      "  label 27: 200\n",
      "  label 28: 200\n",
      "  label 29: 200\n",
      "  label 30: 200\n",
      "  label 31: 200\n",
      "  label 32: 200\n",
      "  label 33: 200\n",
      "  label 34: 200\n",
      "  label 35: 200\n",
      "  label 36: 200\n",
      "  label 37: 200\n",
      "  label 38: 200\n",
      "  label 39: 200\n",
      "  label 40: 200\n",
      "  label 41: 200\n",
      "  label 42: 200\n",
      "  label 43: 200\n",
      "  label 44: 200\n",
      "  label 45: 241\n",
      "  label 46: 200\n",
      "  label 47: 200\n",
      "model is roberta-base\n"
     ]
    },
    {
     "name": "stderr",
     "output_type": "stream",
     "text": [
      "Some weights of RobertaForSequenceClassification were not initialized from the model checkpoint at roberta-base and are newly initialized: ['classifier.dense.bias', 'classifier.dense.weight', 'classifier.out_proj.bias', 'classifier.out_proj.weight']\n",
      "You should probably TRAIN this model on a down-stream task to be able to use it for predictions and inference.\n"
     ]
    },
    {
     "name": "stdout",
     "output_type": "stream",
     "text": [
      "Epoch 1/20\n"
     ]
    },
    {
     "name": "stderr",
     "output_type": "stream",
     "text": [
      "100%|██████████| 716/716 [01:01<00:00, 11.66it/s]\n"
     ]
    },
    {
     "name": "stdout",
     "output_type": "stream",
     "text": [
      "{'val_loss': 1.865770004871415, 'val_accuracy': 0.4843630816170862, 'precision': 0.5556617784018365, 'recall': 0.4843630816170862, 'f1-score': 0.49334321932056585, 'macro_f1-score': 0.25264491432085395, 'balanced_accuracy': 0.3329156565173396, 'mcc': 0.35358673391584083, 'train_loss': 2.4842455721767256}\n",
      "Epoch 2/20\n"
     ]
    },
    {
     "name": "stderr",
     "output_type": "stream",
     "text": [
      "100%|██████████| 716/716 [01:01<00:00, 11.66it/s]\n"
     ]
    },
    {
     "name": "stdout",
     "output_type": "stream",
     "text": [
      "{'val_loss': 1.5907451259653742, 'val_accuracy': 0.5736079328756675, 'precision': 0.6153641354285954, 'recall': 0.5736079328756675, 'f1-score': 0.5784075182166997, 'macro_f1-score': 0.36716393602334413, 'balanced_accuracy': 0.4039481454284039, 'mcc': 0.44781859508250843, 'train_loss': 1.097976491562814}\n",
      "Epoch 3/20\n"
     ]
    },
    {
     "name": "stderr",
     "output_type": "stream",
     "text": [
      "100%|██████████| 716/716 [01:01<00:00, 11.67it/s]\n"
     ]
    },
    {
     "name": "stdout",
     "output_type": "stream",
     "text": [
      "{'val_loss': 1.5623103770904425, 'val_accuracy': 0.6285278413424866, 'precision': 0.6229116512993894, 'recall': 0.6285278413424866, 'f1-score': 0.6089544841412726, 'macro_f1-score': 0.3819905770310063, 'balanced_accuracy': 0.376864409616476, 'mcc': 0.49334573989769476, 'train_loss': 0.5821274107103575}\n",
      "Epoch 4/20\n"
     ]
    },
    {
     "name": "stderr",
     "output_type": "stream",
     "text": [
      "100%|██████████| 716/716 [01:01<00:00, 11.66it/s]\n"
     ]
    },
    {
     "name": "stdout",
     "output_type": "stream",
     "text": [
      "{'val_loss': 1.671833220778442, 'val_accuracy': 0.627765064836003, 'precision': 0.6214036013544879, 'recall': 0.627765064836003, 'f1-score': 0.6134249008375693, 'macro_f1-score': 0.3682633762772099, 'balanced_accuracy': 0.3802110560222185, 'mcc': 0.5001813595939238, 'train_loss': 0.36671058544056623}\n",
      "Epoch 5/20\n"
     ]
    },
    {
     "name": "stderr",
     "output_type": "stream",
     "text": [
      "100%|██████████| 716/716 [01:01<00:00, 11.69it/s]\n"
     ]
    },
    {
     "name": "stdout",
     "output_type": "stream",
     "text": [
      "{'val_loss': 1.819725381165016, 'val_accuracy': 0.5980167810831426, 'precision': 0.6139595248255305, 'recall': 0.5980167810831426, 'f1-score': 0.594557346545597, 'macro_f1-score': 0.374201310110481, 'balanced_accuracy': 0.36400785888885867, 'mcc': 0.47452010795428573, 'train_loss': 0.25602011370613087}\n",
      "Epoch 6/20\n"
     ]
    },
    {
     "name": "stderr",
     "output_type": "stream",
     "text": [
      "100%|██████████| 716/716 [01:01<00:00, 11.66it/s]\n"
     ]
    },
    {
     "name": "stdout",
     "output_type": "stream",
     "text": [
      "{'val_loss': 1.9257287397617247, 'val_accuracy': 0.6025934401220442, 'precision': 0.6180927608423319, 'recall': 0.6025934401220442, 'f1-score': 0.6004979035597242, 'macro_f1-score': 0.4052434887640191, 'balanced_accuracy': 0.425371411211146, 'mcc': 0.47737658199335725, 'train_loss': 0.20134911775282016}\n",
      "Epoch 7/20\n"
     ]
    },
    {
     "name": "stderr",
     "output_type": "stream",
     "text": [
      "100%|██████████| 716/716 [01:01<00:00, 11.67it/s]\n"
     ]
    },
    {
     "name": "stdout",
     "output_type": "stream",
     "text": [
      "{'val_loss': 2.256611522377991, 'val_accuracy': 0.5354691075514875, 'precision': 0.6150332502888884, 'recall': 0.5354691075514875, 'f1-score': 0.5570462908848359, 'macro_f1-score': 0.34778134520266885, 'balanced_accuracy': 0.37685181784659716, 'mcc': 0.43944933277497567, 'train_loss': 0.18653245729995194}\n",
      "Epoch 8/20\n"
     ]
    },
    {
     "name": "stderr",
     "output_type": "stream",
     "text": [
      "100%|██████████| 716/716 [01:01<00:00, 11.66it/s]\n"
     ]
    },
    {
     "name": "stdout",
     "output_type": "stream",
     "text": [
      "{'val_loss': 2.0468908104954697, 'val_accuracy': 0.5926773455377574, 'precision': 0.6201250823105763, 'recall': 0.5926773455377574, 'f1-score': 0.5954717113804574, 'macro_f1-score': 0.36835829687411636, 'balanced_accuracy': 0.39115880066954195, 'mcc': 0.4795397445945781, 'train_loss': 0.1613935195716025}\n",
      "Epoch 9/20\n"
     ]
    },
    {
     "name": "stderr",
     "output_type": "stream",
     "text": [
      "100%|██████████| 716/716 [01:01<00:00, 11.67it/s]\n"
     ]
    },
    {
     "name": "stdout",
     "output_type": "stream",
     "text": [
      "{'val_loss': 2.15059946332036, 'val_accuracy': 0.6048817696414951, 'precision': 0.6130555777527325, 'recall': 0.6048817696414951, 'f1-score': 0.6025232078794056, 'macro_f1-score': 0.3888859471417398, 'balanced_accuracy': 0.3864557691756225, 'mcc': 0.48187294548426746, 'train_loss': 0.12579934654286518}\n",
      "Early stopping.\n",
      "\n",
      "[Fold 4]\n",
      "🚀 Using Word2Vec for data augmentation + under-sampling\n",
      "🔻 Under-sampling label 0: 2471 → 2000\n",
      "🔧 Augmenting label 1: 22 → 200 (+178)\n",
      "🔧 Augmenting label 2: 64 → 200 (+136)\n",
      "🔧 Augmenting label 3: 24 → 200 (+176)\n",
      "🔧 Augmenting label 4: 190 → 200 (+10)\n",
      "🔧 Augmenting label 5: 113 → 200 (+87)\n",
      "🔧 Augmenting label 6: 93 → 200 (+107)\n",
      "🔧 Augmenting label 7: 31 → 200 (+169)\n",
      "🔧 Augmenting label 8: 68 → 200 (+132)\n",
      "🔧 Augmenting label 9: 29 → 200 (+171)\n",
      "🔧 Augmenting label 10: 67 → 200 (+133)\n",
      "🔧 Augmenting label 11: 169 → 200 (+31)\n",
      "🔧 Augmenting label 12: 190 → 200 (+10)\n",
      "🔧 Augmenting label 13: 29 → 200 (+171)\n",
      "🔧 Augmenting label 14: 22 → 200 (+178)\n",
      "🔧 Augmenting label 15: 25 → 200 (+175)\n",
      "🔧 Augmenting label 16: 19 → 200 (+181)\n",
      "🔧 Augmenting label 17: 182 → 200 (+18)\n",
      "🔧 Augmenting label 18: 92 → 200 (+108)\n",
      "🔧 Augmenting label 19: 44 → 200 (+156)\n",
      "🔧 Augmenting label 20: 14 → 200 (+186)\n",
      "🔧 Augmenting label 21: 35 → 200 (+165)\n",
      "🔧 Augmenting label 22: 76 → 200 (+124)\n",
      "🔧 Augmenting label 23: 158 → 200 (+42)\n",
      "🔧 Augmenting label 24: 13 → 200 (+187)\n",
      "🔧 Augmenting label 25: 44 → 200 (+156)\n",
      "🔧 Augmenting label 26: 84 → 200 (+116)\n",
      "🔧 Augmenting label 27: 48 → 200 (+152)\n",
      "🔧 Augmenting label 28: 11 → 200 (+189)\n",
      "🔧 Augmenting label 29: 13 → 200 (+187)\n",
      "🔧 Augmenting label 30: 11 → 200 (+189)\n",
      "🔧 Augmenting label 31: 75 → 200 (+125)\n",
      "🔧 Augmenting label 32: 36 → 200 (+164)\n",
      "🔧 Augmenting label 33: 31 → 200 (+169)\n",
      "🔧 Augmenting label 34: 30 → 200 (+170)\n",
      "🔧 Augmenting label 35: 11 → 200 (+189)\n",
      "🔧 Augmenting label 36: 22 → 200 (+178)\n",
      "🔧 Augmenting label 37: 16 → 200 (+184)\n",
      "🔧 Augmenting label 38: 33 → 200 (+167)\n",
      "🔧 Augmenting label 39: 10 → 200 (+190)\n",
      "🔧 Augmenting label 40: 9 → 200 (+191)\n",
      "🔧 Augmenting label 41: 56 → 200 (+144)\n",
      "🔧 Augmenting label 42: 18 → 200 (+182)\n",
      "🔧 Augmenting label 43: 9 → 200 (+191)\n",
      "🔧 Augmenting label 44: 55 → 200 (+145)\n",
      "🔧 Augmenting label 46: 62 → 200 (+138)\n",
      "🔧 Augmenting label 47: 80 → 200 (+120)\n",
      "Label distribution after resampling:\n",
      "  label 0: 2000\n",
      "  label 1: 200\n",
      "  label 2: 200\n",
      "  label 3: 200\n",
      "  label 4: 200\n",
      "  label 5: 200\n",
      "  label 6: 200\n",
      "  label 7: 200\n",
      "  label 8: 200\n",
      "  label 9: 200\n",
      "  label 10: 200\n",
      "  label 11: 200\n",
      "  label 12: 200\n",
      "  label 13: 200\n",
      "  label 14: 200\n",
      "  label 15: 200\n",
      "  label 16: 200\n",
      "  label 17: 200\n",
      "  label 18: 200\n",
      "  label 19: 200\n",
      "  label 20: 200\n",
      "  label 21: 200\n",
      "  label 22: 200\n",
      "  label 23: 200\n",
      "  label 24: 200\n",
      "  label 25: 200\n",
      "  label 26: 200\n",
      "  label 27: 200\n",
      "  label 28: 200\n",
      "  label 29: 200\n",
      "  label 30: 200\n",
      "  label 31: 200\n",
      "  label 32: 200\n",
      "  label 33: 200\n",
      "  label 34: 200\n",
      "  label 35: 200\n",
      "  label 36: 200\n",
      "  label 37: 200\n",
      "  label 38: 200\n",
      "  label 39: 200\n",
      "  label 40: 200\n",
      "  label 41: 200\n",
      "  label 42: 200\n",
      "  label 43: 200\n",
      "  label 44: 200\n",
      "  label 45: 241\n",
      "  label 46: 200\n",
      "  label 47: 200\n",
      "model is roberta-base\n"
     ]
    },
    {
     "name": "stderr",
     "output_type": "stream",
     "text": [
      "Some weights of RobertaForSequenceClassification were not initialized from the model checkpoint at roberta-base and are newly initialized: ['classifier.dense.bias', 'classifier.dense.weight', 'classifier.out_proj.bias', 'classifier.out_proj.weight']\n",
      "You should probably TRAIN this model on a down-stream task to be able to use it for predictions and inference.\n"
     ]
    },
    {
     "name": "stdout",
     "output_type": "stream",
     "text": [
      "Epoch 1/20\n"
     ]
    },
    {
     "name": "stderr",
     "output_type": "stream",
     "text": [
      "100%|██████████| 716/716 [01:01<00:00, 11.67it/s]\n"
     ]
    },
    {
     "name": "stdout",
     "output_type": "stream",
     "text": [
      "{'val_loss': 1.6893101759800098, 'val_accuracy': 0.5461479786422578, 'precision': 0.5575228075659422, 'recall': 0.5461479786422578, 'f1-score': 0.5253803053586614, 'macro_f1-score': 0.26916616183611736, 'balanced_accuracy': 0.3311591414638854, 'mcc': 0.39965238989996527, 'train_loss': 2.4514112032991546}\n",
      "Epoch 2/20\n"
     ]
    },
    {
     "name": "stderr",
     "output_type": "stream",
     "text": [
      "100%|██████████| 716/716 [01:01<00:00, 11.64it/s]\n"
     ]
    },
    {
     "name": "stdout",
     "output_type": "stream",
     "text": [
      "{'val_loss': 1.4678538743315674, 'val_accuracy': 0.5949656750572082, 'precision': 0.6354313002097147, 'recall': 0.5949656750572082, 'f1-score': 0.5998727160253332, 'macro_f1-score': 0.35512329403802045, 'balanced_accuracy': 0.3946036894487812, 'mcc': 0.4725978928756681, 'train_loss': 1.1700373010751506}\n",
      "Epoch 3/20\n"
     ]
    },
    {
     "name": "stderr",
     "output_type": "stream",
     "text": [
      "100%|██████████| 716/716 [01:01<00:00, 11.66it/s]\n"
     ]
    },
    {
     "name": "stdout",
     "output_type": "stream",
     "text": [
      "{'val_loss': 1.5509539464624917, 'val_accuracy': 0.6079328756674295, 'precision': 0.6241837672781859, 'recall': 0.6079328756674295, 'f1-score': 0.600488162815843, 'macro_f1-score': 0.3795763564820711, 'balanced_accuracy': 0.4305382868495271, 'mcc': 0.49084352498236483, 'train_loss': 0.6828734906150975}\n",
      "Epoch 4/20\n"
     ]
    },
    {
     "name": "stderr",
     "output_type": "stream",
     "text": [
      "100%|██████████| 716/716 [01:01<00:00, 11.67it/s]\n"
     ]
    },
    {
     "name": "stdout",
     "output_type": "stream",
     "text": [
      "{'val_loss': 1.578729309505079, 'val_accuracy': 0.6369183829138062, 'precision': 0.6500092214795097, 'recall': 0.6369183829138062, 'f1-score': 0.6299757653330718, 'macro_f1-score': 0.373387549315515, 'balanced_accuracy': 0.37238493438934744, 'mcc': 0.5230936291501814, 'train_loss': 0.48137028700822976}\n",
      "Epoch 5/20\n"
     ]
    },
    {
     "name": "stderr",
     "output_type": "stream",
     "text": [
      "100%|██████████| 716/716 [01:01<00:00, 11.68it/s]\n"
     ]
    },
    {
     "name": "stdout",
     "output_type": "stream",
     "text": [
      "{'val_loss': 1.6555581089200042, 'val_accuracy': 0.6178489702517163, 'precision': 0.6366462190381303, 'recall': 0.6178489702517163, 'f1-score': 0.6212207880769787, 'macro_f1-score': 0.3865189046713397, 'balanced_accuracy': 0.40782998326237213, 'mcc': 0.5076269747483342, 'train_loss': 0.3641196982492823}\n",
      "Epoch 6/20\n"
     ]
    },
    {
     "name": "stderr",
     "output_type": "stream",
     "text": [
      "100%|██████████| 716/716 [01:01<00:00, 11.68it/s]\n"
     ]
    },
    {
     "name": "stdout",
     "output_type": "stream",
     "text": [
      "{'val_loss': 1.7495500354050864, 'val_accuracy': 0.6178489702517163, 'precision': 0.643893899094189, 'recall': 0.6178489702517163, 'f1-score': 0.6213048590403067, 'macro_f1-score': 0.4126686619680011, 'balanced_accuracy': 0.44738274798218347, 'mcc': 0.5150358699201347, 'train_loss': 0.2779457400040441}\n",
      "Epoch 7/20\n"
     ]
    },
    {
     "name": "stderr",
     "output_type": "stream",
     "text": [
      "100%|██████████| 716/716 [01:01<00:00, 11.68it/s]\n"
     ]
    },
    {
     "name": "stdout",
     "output_type": "stream",
     "text": [
      "{'val_loss': 1.7955934157277025, 'val_accuracy': 0.6536994660564455, 'precision': 0.6583259988155082, 'recall': 0.6536994660564455, 'f1-score': 0.6399641557915096, 'macro_f1-score': 0.4085268312927279, 'balanced_accuracy': 0.4133899940660582, 'mcc': 0.5358398618911384, 'train_loss': 0.2451748157755144}\n",
      "Epoch 8/20\n"
     ]
    },
    {
     "name": "stderr",
     "output_type": "stream",
     "text": [
      "100%|██████████| 716/716 [01:01<00:00, 11.67it/s]\n"
     ]
    },
    {
     "name": "stdout",
     "output_type": "stream",
     "text": [
      "{'val_loss': 1.9392465120408593, 'val_accuracy': 0.6193745232646835, 'precision': 0.6445303974132067, 'recall': 0.6193745232646835, 'f1-score': 0.6181572575120747, 'macro_f1-score': 0.3915320770134838, 'balanced_accuracy': 0.4113100189711762, 'mcc': 0.5054778955252593, 'train_loss': 0.2238562585819804}\n",
      "Epoch 9/20\n"
     ]
    },
    {
     "name": "stderr",
     "output_type": "stream",
     "text": [
      "100%|██████████| 716/716 [01:01<00:00, 11.67it/s]\n"
     ]
    },
    {
     "name": "stdout",
     "output_type": "stream",
     "text": [
      "{'val_loss': 1.899386670281429, 'val_accuracy': 0.6506483600305111, 'precision': 0.6622545700218355, 'recall': 0.6506483600305111, 'f1-score': 0.6389101695929904, 'macro_f1-score': 0.42724574059455883, 'balanced_accuracy': 0.42069666150746027, 'mcc': 0.5342727605503472, 'train_loss': 0.17571834034439926}\n",
      "Epoch 10/20\n"
     ]
    },
    {
     "name": "stderr",
     "output_type": "stream",
     "text": [
      "100%|██████████| 716/716 [01:01<00:00, 11.65it/s]\n"
     ]
    },
    {
     "name": "stdout",
     "output_type": "stream",
     "text": [
      "{'val_loss': 2.0575560957375094, 'val_accuracy': 0.6285278413424866, 'precision': 0.6536349190449459, 'recall': 0.6285278413424866, 'f1-score': 0.629752621675339, 'macro_f1-score': 0.3927172864251385, 'balanced_accuracy': 0.40824931290613153, 'mcc': 0.5186311211320727, 'train_loss': 0.20051122005240649}\n",
      "Epoch 11/20\n"
     ]
    },
    {
     "name": "stderr",
     "output_type": "stream",
     "text": [
      "100%|██████████| 716/716 [01:01<00:00, 11.68it/s]\n"
     ]
    },
    {
     "name": "stdout",
     "output_type": "stream",
     "text": [
      "{'val_loss': 2.182102166297959, 'val_accuracy': 0.6064073226544623, 'precision': 0.6407428142779383, 'recall': 0.6064073226544623, 'f1-score': 0.6130945494391354, 'macro_f1-score': 0.37904136466848487, 'balanced_accuracy': 0.40466367005352316, 'mcc': 0.5006892950918435, 'train_loss': 0.154587444821997}\n",
      "Epoch 12/20\n"
     ]
    },
    {
     "name": "stderr",
     "output_type": "stream",
     "text": [
      "100%|██████████| 716/716 [01:01<00:00, 11.67it/s]\n"
     ]
    },
    {
     "name": "stdout",
     "output_type": "stream",
     "text": [
      "{'val_loss': 2.0610636330959275, 'val_accuracy': 0.6544622425629291, 'precision': 0.6622393889657434, 'recall': 0.6544622425629291, 'f1-score': 0.6453843614654848, 'macro_f1-score': 0.41815134285219874, 'balanced_accuracy': 0.430897108038595, 'mcc': 0.5401614023306808, 'train_loss': 0.1374254139782809}\n",
      "Early stopping.\n",
      "\n",
      "[Fold 5]\n",
      "🚀 Using Word2Vec for data augmentation + under-sampling\n",
      "🔻 Under-sampling label 0: 2472 → 2000\n",
      "🔧 Augmenting label 1: 21 → 200 (+179)\n",
      "🔧 Augmenting label 2: 64 → 200 (+136)\n",
      "🔧 Augmenting label 3: 24 → 200 (+176)\n",
      "🔧 Augmenting label 4: 191 → 200 (+9)\n",
      "🔧 Augmenting label 5: 112 → 200 (+88)\n",
      "🔧 Augmenting label 6: 92 → 200 (+108)\n",
      "🔧 Augmenting label 7: 31 → 200 (+169)\n",
      "🔧 Augmenting label 8: 68 → 200 (+132)\n",
      "🔧 Augmenting label 9: 29 → 200 (+171)\n",
      "🔧 Augmenting label 10: 68 → 200 (+132)\n",
      "🔧 Augmenting label 11: 168 → 200 (+32)\n",
      "🔧 Augmenting label 12: 190 → 200 (+10)\n",
      "🔧 Augmenting label 13: 29 → 200 (+171)\n",
      "🔧 Augmenting label 14: 22 → 200 (+178)\n",
      "🔧 Augmenting label 15: 25 → 200 (+175)\n",
      "🔧 Augmenting label 16: 19 → 200 (+181)\n",
      "🔧 Augmenting label 17: 183 → 200 (+17)\n",
      "🔧 Augmenting label 18: 92 → 200 (+108)\n",
      "🔧 Augmenting label 19: 44 → 200 (+156)\n",
      "🔧 Augmenting label 20: 14 → 200 (+186)\n",
      "🔧 Augmenting label 21: 35 → 200 (+165)\n",
      "🔧 Augmenting label 22: 76 → 200 (+124)\n",
      "🔧 Augmenting label 23: 158 → 200 (+42)\n",
      "🔧 Augmenting label 24: 13 → 200 (+187)\n",
      "🔧 Augmenting label 25: 44 → 200 (+156)\n",
      "🔧 Augmenting label 26: 84 → 200 (+116)\n",
      "🔧 Augmenting label 27: 48 → 200 (+152)\n",
      "🔧 Augmenting label 28: 11 → 200 (+189)\n",
      "🔧 Augmenting label 29: 13 → 200 (+187)\n",
      "🔧 Augmenting label 30: 11 → 200 (+189)\n",
      "🔧 Augmenting label 31: 75 → 200 (+125)\n",
      "🔧 Augmenting label 32: 36 → 200 (+164)\n",
      "🔧 Augmenting label 33: 31 → 200 (+169)\n",
      "🔧 Augmenting label 34: 30 → 200 (+170)\n",
      "🔧 Augmenting label 35: 11 → 200 (+189)\n",
      "🔧 Augmenting label 36: 22 → 200 (+178)\n",
      "🔧 Augmenting label 37: 16 → 200 (+184)\n",
      "🔧 Augmenting label 38: 33 → 200 (+167)\n",
      "🔧 Augmenting label 39: 10 → 200 (+190)\n",
      "🔧 Augmenting label 40: 9 → 200 (+191)\n",
      "🔧 Augmenting label 41: 57 → 200 (+143)\n",
      "🔧 Augmenting label 42: 18 → 200 (+182)\n",
      "🔧 Augmenting label 43: 9 → 200 (+191)\n",
      "🔧 Augmenting label 44: 54 → 200 (+146)\n",
      "🔧 Augmenting label 46: 61 → 200 (+139)\n",
      "🔧 Augmenting label 47: 80 → 200 (+120)\n",
      "Label distribution after resampling:\n",
      "  label 0: 2000\n",
      "  label 1: 200\n",
      "  label 2: 200\n",
      "  label 3: 200\n",
      "  label 4: 200\n",
      "  label 5: 200\n",
      "  label 6: 200\n",
      "  label 7: 200\n",
      "  label 8: 200\n",
      "  label 9: 200\n",
      "  label 10: 200\n",
      "  label 11: 200\n",
      "  label 12: 200\n",
      "  label 13: 200\n",
      "  label 14: 200\n",
      "  label 15: 200\n",
      "  label 16: 200\n",
      "  label 17: 200\n",
      "  label 18: 200\n",
      "  label 19: 200\n",
      "  label 20: 200\n",
      "  label 21: 200\n",
      "  label 22: 200\n",
      "  label 23: 200\n",
      "  label 24: 200\n",
      "  label 25: 200\n",
      "  label 26: 200\n",
      "  label 27: 200\n",
      "  label 28: 200\n",
      "  label 29: 200\n",
      "  label 30: 200\n",
      "  label 31: 200\n",
      "  label 32: 200\n",
      "  label 33: 200\n",
      "  label 34: 200\n",
      "  label 35: 200\n",
      "  label 36: 200\n",
      "  label 37: 200\n",
      "  label 38: 200\n",
      "  label 39: 200\n",
      "  label 40: 200\n",
      "  label 41: 200\n",
      "  label 42: 200\n",
      "  label 43: 200\n",
      "  label 44: 200\n",
      "  label 45: 242\n",
      "  label 46: 200\n",
      "  label 47: 200\n",
      "model is roberta-base\n"
     ]
    },
    {
     "name": "stderr",
     "output_type": "stream",
     "text": [
      "Some weights of RobertaForSequenceClassification were not initialized from the model checkpoint at roberta-base and are newly initialized: ['classifier.dense.bias', 'classifier.dense.weight', 'classifier.out_proj.bias', 'classifier.out_proj.weight']\n",
      "You should probably TRAIN this model on a down-stream task to be able to use it for predictions and inference.\n"
     ]
    },
    {
     "name": "stdout",
     "output_type": "stream",
     "text": [
      "Epoch 1/20\n"
     ]
    },
    {
     "name": "stderr",
     "output_type": "stream",
     "text": [
      "100%|██████████| 716/716 [01:01<00:00, 11.66it/s]\n"
     ]
    },
    {
     "name": "stdout",
     "output_type": "stream",
     "text": [
      "{'val_loss': 2.124071673649113, 'val_accuracy': 0.4668192219679634, 'precision': 0.40301957885119427, 'recall': 0.4668192219679634, 'f1-score': 0.42468309409044835, 'macro_f1-score': 0.10991723541846132, 'balanced_accuracy': 0.2030200125748689, 'mcc': 0.2918790572660927, 'train_loss': 3.1932607144117355}\n",
      "Epoch 2/20\n"
     ]
    },
    {
     "name": "stderr",
     "output_type": "stream",
     "text": [
      "100%|██████████| 716/716 [01:01<00:00, 11.66it/s]\n"
     ]
    },
    {
     "name": "stdout",
     "output_type": "stream",
     "text": [
      "{'val_loss': 1.7407976875944835, 'val_accuracy': 0.5270785659801678, 'precision': 0.5194242039921675, 'recall': 0.5270785659801678, 'f1-score': 0.49331337294193633, 'macro_f1-score': 0.23231652851892007, 'balanced_accuracy': 0.281592928176521, 'mcc': 0.35329638618770687, 'train_loss': 1.993111910933223}\n",
      "Epoch 3/20\n"
     ]
    },
    {
     "name": "stderr",
     "output_type": "stream",
     "text": [
      "100%|██████████| 716/716 [01:01<00:00, 11.67it/s]\n"
     ]
    },
    {
     "name": "stdout",
     "output_type": "stream",
     "text": [
      "{'val_loss': 1.5310502466632099, 'val_accuracy': 0.5804729214340199, 'precision': 0.6147691835379032, 'recall': 0.5804729214340199, 'f1-score': 0.5780428775069376, 'macro_f1-score': 0.3711987808403426, 'balanced_accuracy': 0.4077847571884716, 'mcc': 0.44721016412807085, 'train_loss': 1.1465889896219337}\n",
      "Epoch 4/20\n"
     ]
    },
    {
     "name": "stderr",
     "output_type": "stream",
     "text": [
      "100%|██████████| 716/716 [01:01<00:00, 11.66it/s]\n"
     ]
    },
    {
     "name": "stdout",
     "output_type": "stream",
     "text": [
      "{'val_loss': 1.576659266541644, 'val_accuracy': 0.6102212051868803, 'precision': 0.6545471004721513, 'recall': 0.6102212051868803, 'f1-score': 0.6046653250902569, 'macro_f1-score': 0.3781186666259521, 'balanced_accuracy': 0.4190950231113432, 'mcc': 0.48662641197752465, 'train_loss': 0.7222126621711354}\n",
      "Epoch 5/20\n"
     ]
    },
    {
     "name": "stderr",
     "output_type": "stream",
     "text": [
      "100%|██████████| 716/716 [01:01<00:00, 11.67it/s]\n"
     ]
    },
    {
     "name": "stdout",
     "output_type": "stream",
     "text": [
      "{'val_loss': 1.569116712343402, 'val_accuracy': 0.627765064836003, 'precision': 0.6537000497682925, 'recall': 0.627765064836003, 'f1-score': 0.6347229719304401, 'macro_f1-score': 0.43887992135213266, 'balanced_accuracy': 0.4558619651359443, 'mcc': 0.5182249818857905, 'train_loss': 0.48747155169680634}\n",
      "Epoch 6/20\n"
     ]
    },
    {
     "name": "stderr",
     "output_type": "stream",
     "text": [
      "100%|██████████| 716/716 [01:01<00:00, 11.68it/s]\n"
     ]
    },
    {
     "name": "stdout",
     "output_type": "stream",
     "text": [
      "{'val_loss': 1.6188797292912878, 'val_accuracy': 0.6308161708619374, 'precision': 0.6366446151798529, 'recall': 0.6308161708619374, 'f1-score': 0.6237620514075577, 'macro_f1-score': 0.42763671485449223, 'balanced_accuracy': 0.4353887945435495, 'mcc': 0.5114375970686822, 'train_loss': 0.38594269685905075}\n",
      "Epoch 7/20\n"
     ]
    },
    {
     "name": "stderr",
     "output_type": "stream",
     "text": [
      "100%|██████████| 716/716 [01:01<00:00, 11.66it/s]\n"
     ]
    },
    {
     "name": "stdout",
     "output_type": "stream",
     "text": [
      "{'val_loss': 1.775095332686494, 'val_accuracy': 0.5964912280701754, 'precision': 0.6434996983406741, 'recall': 0.5964912280701754, 'f1-score': 0.6086428286727533, 'macro_f1-score': 0.3897722474364467, 'balanced_accuracy': 0.4233897739197303, 'mcc': 0.49503719983837663, 'train_loss': 0.2691710149770467}\n",
      "Epoch 8/20\n"
     ]
    },
    {
     "name": "stderr",
     "output_type": "stream",
     "text": [
      "100%|██████████| 716/716 [01:01<00:00, 11.67it/s]\n"
     ]
    },
    {
     "name": "stdout",
     "output_type": "stream",
     "text": [
      "{'val_loss': 1.7636781582018224, 'val_accuracy': 0.6483600305110603, 'precision': 0.6702208005789533, 'recall': 0.6483600305110603, 'f1-score': 0.6506695274962512, 'macro_f1-score': 0.43923063228315423, 'balanced_accuracy': 0.45013077419333564, 'mcc': 0.5395208226784524, 'train_loss': 0.2525307665560811}\n",
      "Epoch 9/20\n"
     ]
    },
    {
     "name": "stderr",
     "output_type": "stream",
     "text": [
      "100%|██████████| 716/716 [01:01<00:00, 11.66it/s]\n"
     ]
    },
    {
     "name": "stdout",
     "output_type": "stream",
     "text": [
      "{'val_loss': 2.0149152544213504, 'val_accuracy': 0.6025934401220442, 'precision': 0.6348373228420139, 'recall': 0.6025934401220442, 'f1-score': 0.6069355956849796, 'macro_f1-score': 0.3739439560529371, 'balanced_accuracy': 0.4064917328361812, 'mcc': 0.49898759214438365, 'train_loss': 0.21229407043383566}\n",
      "Epoch 10/20\n"
     ]
    },
    {
     "name": "stderr",
     "output_type": "stream",
     "text": [
      "100%|██████████| 716/716 [01:01<00:00, 11.68it/s]\n"
     ]
    },
    {
     "name": "stdout",
     "output_type": "stream",
     "text": [
      "{'val_loss': 1.962564337544325, 'val_accuracy': 0.6132723112128147, 'precision': 0.650810144805408, 'recall': 0.6132723112128147, 'f1-score': 0.6196113146972873, 'macro_f1-score': 0.40422984990864, 'balanced_accuracy': 0.42699335889257234, 'mcc': 0.5084956193688246, 'train_loss': 0.20667742998872535}\n",
      "Epoch 11/20\n"
     ]
    },
    {
     "name": "stderr",
     "output_type": "stream",
     "text": [
      "100%|██████████| 716/716 [01:01<00:00, 11.67it/s]\n"
     ]
    },
    {
     "name": "stdout",
     "output_type": "stream",
     "text": [
      "{'val_loss': 1.97898762109803, 'val_accuracy': 0.6323417238749046, 'precision': 0.6578087535794032, 'recall': 0.6323417238749046, 'f1-score': 0.6347971348622178, 'macro_f1-score': 0.4098103656315244, 'balanced_accuracy': 0.40871603624167624, 'mcc': 0.52919121728208, 'train_loss': 0.14327689556127893}\n",
      "Early stopping.\n",
      "\n",
      " === roberta-base + plain + word2vec Final 5-fold Cross-Validation Results ===\n",
      "val_loss: 1.9077\n",
      "val_accuracy: 0.6289\n",
      "precision: 0.6455\n",
      "recall: 0.6289\n",
      "f1-score: 0.6262\n",
      "macro_f1-score: 0.4211\n",
      "balanced_accuracy: 0.4334\n",
      "mcc: 0.5127\n",
      "train_loss: 0.1948\n",
      "total_seconds: 3487.0000\n",
      "total_time: 0 hrs 58 mins 7 secs\n",
      "▶ Running: roberta-base + cnn + word2vec\n",
      "tokenizer is roberta-base\n",
      "Using device: cuda\n",
      "CUDA Available: True\n",
      "CUDA Device: NVIDIA GeForce RTX 5070 Ti\n",
      "Current GPU Memory Allocated: 1.33 GB\n",
      "Current GPU Memory Cached: 5.31 GB\n",
      "\n",
      "[Fold 1]\n",
      "🚀 Using Word2Vec for data augmentation + under-sampling\n",
      "🔻 Under-sampling label 0: 2471 → 2000\n",
      "🔧 Augmenting label 1: 21 → 200 (+179)\n",
      "🔧 Augmenting label 2: 64 → 200 (+136)\n",
      "🔧 Augmenting label 3: 24 → 200 (+176)\n",
      "🔧 Augmenting label 4: 191 → 200 (+9)\n",
      "🔧 Augmenting label 5: 113 → 200 (+87)\n",
      "🔧 Augmenting label 6: 93 → 200 (+107)\n",
      "🔧 Augmenting label 7: 30 → 200 (+170)\n",
      "🔧 Augmenting label 8: 68 → 200 (+132)\n",
      "🔧 Augmenting label 9: 30 → 200 (+170)\n",
      "🔧 Augmenting label 10: 67 → 200 (+133)\n",
      "🔧 Augmenting label 11: 169 → 200 (+31)\n",
      "🔧 Augmenting label 12: 189 → 200 (+11)\n",
      "🔧 Augmenting label 13: 29 → 200 (+171)\n",
      "🔧 Augmenting label 14: 22 → 200 (+178)\n",
      "🔧 Augmenting label 15: 25 → 200 (+175)\n",
      "🔧 Augmenting label 16: 19 → 200 (+181)\n",
      "🔧 Augmenting label 17: 183 → 200 (+17)\n",
      "🔧 Augmenting label 18: 92 → 200 (+108)\n",
      "🔧 Augmenting label 19: 44 → 200 (+156)\n",
      "🔧 Augmenting label 20: 13 → 200 (+187)\n",
      "🔧 Augmenting label 21: 35 → 200 (+165)\n",
      "🔧 Augmenting label 22: 76 → 200 (+124)\n",
      "🔧 Augmenting label 23: 158 → 200 (+42)\n",
      "🔧 Augmenting label 24: 13 → 200 (+187)\n",
      "🔧 Augmenting label 25: 44 → 200 (+156)\n",
      "🔧 Augmenting label 26: 84 → 200 (+116)\n",
      "🔧 Augmenting label 27: 48 → 200 (+152)\n",
      "🔧 Augmenting label 28: 11 → 200 (+189)\n",
      "🔧 Augmenting label 29: 13 → 200 (+187)\n",
      "🔧 Augmenting label 30: 11 → 200 (+189)\n",
      "🔧 Augmenting label 31: 75 → 200 (+125)\n",
      "🔧 Augmenting label 32: 36 → 200 (+164)\n",
      "🔧 Augmenting label 33: 32 → 200 (+168)\n",
      "🔧 Augmenting label 34: 29 → 200 (+171)\n",
      "🔧 Augmenting label 35: 11 → 200 (+189)\n",
      "🔧 Augmenting label 36: 22 → 200 (+178)\n",
      "🔧 Augmenting label 37: 16 → 200 (+184)\n",
      "🔧 Augmenting label 38: 33 → 200 (+167)\n",
      "🔧 Augmenting label 39: 10 → 200 (+190)\n",
      "🔧 Augmenting label 40: 9 → 200 (+191)\n",
      "🔧 Augmenting label 41: 57 → 200 (+143)\n",
      "🔧 Augmenting label 42: 19 → 200 (+181)\n",
      "🔧 Augmenting label 43: 8 → 200 (+192)\n",
      "🔧 Augmenting label 44: 54 → 200 (+146)\n",
      "🔧 Augmenting label 46: 61 → 200 (+139)\n",
      "🔧 Augmenting label 47: 80 → 200 (+120)\n",
      "Label distribution after resampling:\n",
      "  label 0: 2000\n",
      "  label 1: 200\n",
      "  label 2: 200\n",
      "  label 3: 200\n",
      "  label 4: 200\n",
      "  label 5: 200\n",
      "  label 6: 200\n",
      "  label 7: 200\n",
      "  label 8: 200\n",
      "  label 9: 200\n",
      "  label 10: 200\n",
      "  label 11: 200\n",
      "  label 12: 200\n",
      "  label 13: 200\n",
      "  label 14: 200\n",
      "  label 15: 200\n",
      "  label 16: 200\n",
      "  label 17: 200\n",
      "  label 18: 200\n",
      "  label 19: 200\n",
      "  label 20: 200\n",
      "  label 21: 200\n",
      "  label 22: 200\n",
      "  label 23: 200\n",
      "  label 24: 200\n",
      "  label 25: 200\n",
      "  label 26: 200\n",
      "  label 27: 200\n",
      "  label 28: 200\n",
      "  label 29: 200\n",
      "  label 30: 200\n",
      "  label 31: 200\n",
      "  label 32: 200\n",
      "  label 33: 200\n",
      "  label 34: 200\n",
      "  label 35: 200\n",
      "  label 36: 200\n",
      "  label 37: 200\n",
      "  label 38: 200\n",
      "  label 39: 200\n",
      "  label 40: 200\n",
      "  label 41: 200\n",
      "  label 42: 200\n",
      "  label 43: 200\n",
      "  label 44: 200\n",
      "  label 45: 242\n",
      "  label 46: 200\n",
      "  label 47: 200\n",
      "model is roberta-base cnn\n"
     ]
    },
    {
     "name": "stderr",
     "output_type": "stream",
     "text": [
      "Some weights of RobertaModel were not initialized from the model checkpoint at roberta-base and are newly initialized: ['pooler.dense.bias', 'pooler.dense.weight']\n",
      "You should probably TRAIN this model on a down-stream task to be able to use it for predictions and inference.\n"
     ]
    },
    {
     "name": "stdout",
     "output_type": "stream",
     "text": [
      "Epoch 1/20\n"
     ]
    },
    {
     "name": "stderr",
     "output_type": "stream",
     "text": [
      "100%|██████████| 716/716 [01:02<00:00, 11.48it/s]\n"
     ]
    },
    {
     "name": "stdout",
     "output_type": "stream",
     "text": [
      "{'val_loss': 1.7702777745520197, 'val_accuracy': 0.520579268292683, 'precision': 0.5053295631570331, 'recall': 0.520579268292683, 'f1-score': 0.4713498797274227, 'macro_f1-score': 0.22886544912619797, 'balanced_accuracy': 0.28775944154012173, 'mcc': 0.3307749926287275, 'train_loss': 2.7625269278800686}\n",
      "Epoch 2/20\n"
     ]
    },
    {
     "name": "stderr",
     "output_type": "stream",
     "text": [
      "100%|██████████| 716/716 [01:02<00:00, 11.47it/s]\n"
     ]
    },
    {
     "name": "stdout",
     "output_type": "stream",
     "text": [
      "{'val_loss': 1.563038912851636, 'val_accuracy': 0.5998475609756098, 'precision': 0.5553813075296481, 'recall': 0.5998475609756098, 'f1-score': 0.5573369450296308, 'macro_f1-score': 0.33543234327409127, 'balanced_accuracy': 0.35192415615059547, 'mcc': 0.4447395396825651, 'train_loss': 1.2970834336342425}\n",
      "Epoch 3/20\n"
     ]
    },
    {
     "name": "stderr",
     "output_type": "stream",
     "text": [
      "100%|██████████| 716/716 [01:02<00:00, 11.47it/s]\n"
     ]
    },
    {
     "name": "stdout",
     "output_type": "stream",
     "text": [
      "{'val_loss': 1.5230907488886902, 'val_accuracy': 0.5952743902439024, 'precision': 0.6195010523476082, 'recall': 0.5952743902439024, 'f1-score': 0.5967709690542253, 'macro_f1-score': 0.37833710026683737, 'balanced_accuracy': 0.42409961747764663, 'mcc': 0.47769057956378597, 'train_loss': 0.7300391218432501}\n",
      "Epoch 4/20\n"
     ]
    },
    {
     "name": "stderr",
     "output_type": "stream",
     "text": [
      "100%|██████████| 716/716 [01:02<00:00, 11.47it/s]\n"
     ]
    },
    {
     "name": "stdout",
     "output_type": "stream",
     "text": [
      "{'val_loss': 1.5832202221925666, 'val_accuracy': 0.6135670731707317, 'precision': 0.630596255070501, 'recall': 0.6135670731707317, 'f1-score': 0.613058898571307, 'macro_f1-score': 0.416511918293286, 'balanced_accuracy': 0.4438590646154286, 'mcc': 0.497658858861728, 'train_loss': 0.4709229570756245}\n",
      "Epoch 5/20\n"
     ]
    },
    {
     "name": "stderr",
     "output_type": "stream",
     "text": [
      "100%|██████████| 716/716 [01:02<00:00, 11.47it/s]\n"
     ]
    },
    {
     "name": "stdout",
     "output_type": "stream",
     "text": [
      "{'val_loss': 1.7275968179470156, 'val_accuracy': 0.6036585365853658, 'precision': 0.6273774155806218, 'recall': 0.6036585365853658, 'f1-score': 0.6071622183930399, 'macro_f1-score': 0.4167691797652307, 'balanced_accuracy': 0.4576096368577924, 'mcc': 0.4896744333081786, 'train_loss': 0.333368370088348}\n",
      "Epoch 6/20\n"
     ]
    },
    {
     "name": "stderr",
     "output_type": "stream",
     "text": [
      "100%|██████████| 716/716 [01:02<00:00, 11.48it/s]\n"
     ]
    },
    {
     "name": "stdout",
     "output_type": "stream",
     "text": [
      "{'val_loss': 1.7922445012301933, 'val_accuracy': 0.6310975609756098, 'precision': 0.6228631885742656, 'recall': 0.6310975609756098, 'f1-score': 0.614984809976646, 'macro_f1-score': 0.41646461800142937, 'balanced_accuracy': 0.4127239380415251, 'mcc': 0.502593610394461, 'train_loss': 0.25508295200952436}\n",
      "Epoch 7/20\n"
     ]
    },
    {
     "name": "stderr",
     "output_type": "stream",
     "text": [
      "100%|██████████| 716/716 [01:02<00:00, 11.47it/s]\n"
     ]
    },
    {
     "name": "stdout",
     "output_type": "stream",
     "text": [
      "{'val_loss': 1.800263779192436, 'val_accuracy': 0.6272865853658537, 'precision': 0.6236922268024182, 'recall': 0.6272865853658537, 'f1-score': 0.6139038622714382, 'macro_f1-score': 0.40274762605755693, 'balanced_accuracy': 0.39963301454240097, 'mcc': 0.4960436338108278, 'train_loss': 0.25259623356168703}\n",
      "Epoch 8/20\n"
     ]
    },
    {
     "name": "stderr",
     "output_type": "stream",
     "text": [
      "100%|██████████| 716/716 [01:02<00:00, 11.47it/s]\n"
     ]
    },
    {
     "name": "stdout",
     "output_type": "stream",
     "text": [
      "{'val_loss': 1.8861156936462333, 'val_accuracy': 0.6135670731707317, 'precision': 0.6199428494735414, 'recall': 0.6135670731707317, 'f1-score': 0.6067480742835162, 'macro_f1-score': 0.38901375109340797, 'balanced_accuracy': 0.39029982711780237, 'mcc': 0.49342388222362416, 'train_loss': 0.18151983453738685}\n",
      "Early stopping.\n",
      "\n",
      "[Fold 2]\n",
      "🚀 Using Word2Vec for data augmentation + under-sampling\n",
      "🔻 Under-sampling label 0: 2471 → 2000\n",
      "🔧 Augmenting label 1: 22 → 200 (+178)\n",
      "🔧 Augmenting label 2: 64 → 200 (+136)\n",
      "🔧 Augmenting label 3: 24 → 200 (+176)\n",
      "🔧 Augmenting label 4: 190 → 200 (+10)\n",
      "🔧 Augmenting label 5: 113 → 200 (+87)\n",
      "🔧 Augmenting label 6: 93 → 200 (+107)\n",
      "🔧 Augmenting label 7: 30 → 200 (+170)\n",
      "🔧 Augmenting label 8: 68 → 200 (+132)\n",
      "🔧 Augmenting label 9: 30 → 200 (+170)\n",
      "🔧 Augmenting label 10: 67 → 200 (+133)\n",
      "🔧 Augmenting label 11: 169 → 200 (+31)\n",
      "🔧 Augmenting label 12: 189 → 200 (+11)\n",
      "🔧 Augmenting label 13: 29 → 200 (+171)\n",
      "🔧 Augmenting label 14: 23 → 200 (+177)\n",
      "🔧 Augmenting label 15: 24 → 200 (+176)\n",
      "🔧 Augmenting label 16: 20 → 200 (+180)\n",
      "🔧 Augmenting label 17: 182 → 200 (+18)\n",
      "🔧 Augmenting label 18: 92 → 200 (+108)\n",
      "🔧 Augmenting label 19: 44 → 200 (+156)\n",
      "🔧 Augmenting label 20: 13 → 200 (+187)\n",
      "🔧 Augmenting label 21: 36 → 200 (+164)\n",
      "🔧 Augmenting label 22: 76 → 200 (+124)\n",
      "🔧 Augmenting label 23: 157 → 200 (+43)\n",
      "🔧 Augmenting label 24: 12 → 200 (+188)\n",
      "🔧 Augmenting label 25: 44 → 200 (+156)\n",
      "🔧 Augmenting label 26: 84 → 200 (+116)\n",
      "🔧 Augmenting label 27: 48 → 200 (+152)\n",
      "🔧 Augmenting label 28: 12 → 200 (+188)\n",
      "🔧 Augmenting label 29: 12 → 200 (+188)\n",
      "🔧 Augmenting label 30: 12 → 200 (+188)\n",
      "🔧 Augmenting label 31: 75 → 200 (+125)\n",
      "🔧 Augmenting label 32: 36 → 200 (+164)\n",
      "🔧 Augmenting label 33: 31 → 200 (+169)\n",
      "🔧 Augmenting label 34: 29 → 200 (+171)\n",
      "🔧 Augmenting label 35: 12 → 200 (+188)\n",
      "🔧 Augmenting label 36: 21 → 200 (+179)\n",
      "🔧 Augmenting label 37: 16 → 200 (+184)\n",
      "🔧 Augmenting label 38: 33 → 200 (+167)\n",
      "🔧 Augmenting label 39: 11 → 200 (+189)\n",
      "🔧 Augmenting label 40: 8 → 200 (+192)\n",
      "🔧 Augmenting label 41: 57 → 200 (+143)\n",
      "🔧 Augmenting label 42: 19 → 200 (+181)\n",
      "🔧 Augmenting label 43: 9 → 200 (+191)\n",
      "🔧 Augmenting label 44: 54 → 200 (+146)\n",
      "🔧 Augmenting label 46: 62 → 200 (+138)\n",
      "🔧 Augmenting label 47: 80 → 200 (+120)\n",
      "Label distribution after resampling:\n",
      "  label 0: 2000\n",
      "  label 1: 200\n",
      "  label 2: 200\n",
      "  label 3: 200\n",
      "  label 4: 200\n",
      "  label 5: 200\n",
      "  label 6: 200\n",
      "  label 7: 200\n",
      "  label 8: 200\n",
      "  label 9: 200\n",
      "  label 10: 200\n",
      "  label 11: 200\n",
      "  label 12: 200\n",
      "  label 13: 200\n",
      "  label 14: 200\n",
      "  label 15: 200\n",
      "  label 16: 200\n",
      "  label 17: 200\n",
      "  label 18: 200\n",
      "  label 19: 200\n",
      "  label 20: 200\n",
      "  label 21: 200\n",
      "  label 22: 200\n",
      "  label 23: 200\n",
      "  label 24: 200\n",
      "  label 25: 200\n",
      "  label 26: 200\n",
      "  label 27: 200\n",
      "  label 28: 200\n",
      "  label 29: 200\n",
      "  label 30: 200\n",
      "  label 31: 200\n",
      "  label 32: 200\n",
      "  label 33: 200\n",
      "  label 34: 200\n",
      "  label 35: 200\n",
      "  label 36: 200\n",
      "  label 37: 200\n",
      "  label 38: 200\n",
      "  label 39: 200\n",
      "  label 40: 200\n",
      "  label 41: 200\n",
      "  label 42: 200\n",
      "  label 43: 200\n",
      "  label 44: 200\n",
      "  label 45: 242\n",
      "  label 46: 200\n",
      "  label 47: 200\n",
      "model is roberta-base cnn\n"
     ]
    },
    {
     "name": "stderr",
     "output_type": "stream",
     "text": [
      "Some weights of RobertaModel were not initialized from the model checkpoint at roberta-base and are newly initialized: ['pooler.dense.bias', 'pooler.dense.weight']\n",
      "You should probably TRAIN this model on a down-stream task to be able to use it for predictions and inference.\n"
     ]
    },
    {
     "name": "stdout",
     "output_type": "stream",
     "text": [
      "Epoch 1/20\n"
     ]
    },
    {
     "name": "stderr",
     "output_type": "stream",
     "text": [
      "100%|██████████| 716/716 [01:02<00:00, 11.45it/s]\n"
     ]
    },
    {
     "name": "stdout",
     "output_type": "stream",
     "text": [
      "{'val_loss': 1.5827247769367405, 'val_accuracy': 0.559115179252479, 'precision': 0.5329903449124853, 'recall': 0.559115179252479, 'f1-score': 0.5295842621300346, 'macro_f1-score': 0.26800915961576494, 'balanced_accuracy': 0.33419156532032557, 'mcc': 0.4014406357472118, 'train_loss': 2.4117899582872178}\n",
      "Epoch 2/20\n"
     ]
    },
    {
     "name": "stderr",
     "output_type": "stream",
     "text": [
      "100%|██████████| 716/716 [01:02<00:00, 11.48it/s]\n"
     ]
    },
    {
     "name": "stdout",
     "output_type": "stream",
     "text": [
      "{'val_loss': 1.599419694121291, 'val_accuracy': 0.5354691075514875, 'precision': 0.6195409120324553, 'recall': 0.5354691075514875, 'f1-score': 0.5561601672770525, 'macro_f1-score': 0.30643524073999906, 'balanced_accuracy': 0.3666417743682057, 'mcc': 0.41603667939754774, 'train_loss': 1.1001481450781976}\n",
      "Epoch 3/20\n"
     ]
    },
    {
     "name": "stderr",
     "output_type": "stream",
     "text": [
      "100%|██████████| 716/716 [01:02<00:00, 11.46it/s]\n"
     ]
    },
    {
     "name": "stdout",
     "output_type": "stream",
     "text": [
      "{'val_loss': 1.4790227682125279, 'val_accuracy': 0.6163234172387491, 'precision': 0.6200893919350021, 'recall': 0.6163234172387491, 'f1-score': 0.5994086640413541, 'macro_f1-score': 0.36086200523902306, 'balanced_accuracy': 0.4125216998477013, 'mcc': 0.4880125292096109, 'train_loss': 0.6187956925981039}\n",
      "Epoch 4/20\n"
     ]
    },
    {
     "name": "stderr",
     "output_type": "stream",
     "text": [
      "100%|██████████| 716/716 [01:02<00:00, 11.48it/s]\n"
     ]
    },
    {
     "name": "stdout",
     "output_type": "stream",
     "text": [
      "{'val_loss': 1.6018785376374314, 'val_accuracy': 0.5964912280701754, 'precision': 0.6057399804598701, 'recall': 0.5964912280701754, 'f1-score': 0.5853303482940998, 'macro_f1-score': 0.34742538950285473, 'balanced_accuracy': 0.3693061784345935, 'mcc': 0.46832494635600186, 'train_loss': 0.4573339456562265}\n",
      "Epoch 5/20\n"
     ]
    },
    {
     "name": "stderr",
     "output_type": "stream",
     "text": [
      "100%|██████████| 716/716 [01:02<00:00, 11.46it/s]\n"
     ]
    },
    {
     "name": "stdout",
     "output_type": "stream",
     "text": [
      "{'val_loss': 1.7075834390593738, 'val_accuracy': 0.5911517925247902, 'precision': 0.6379616121924808, 'recall': 0.5911517925247902, 'f1-score': 0.599100073602625, 'macro_f1-score': 0.3858267261434805, 'balanced_accuracy': 0.42691708697526254, 'mcc': 0.4888777717948315, 'train_loss': 0.31993095432772356}\n",
      "Epoch 6/20\n"
     ]
    },
    {
     "name": "stderr",
     "output_type": "stream",
     "text": [
      "100%|██████████| 716/716 [01:02<00:00, 11.47it/s]\n"
     ]
    },
    {
     "name": "stdout",
     "output_type": "stream",
     "text": [
      "{'val_loss': 1.716301004334194, 'val_accuracy': 0.6224256292906178, 'precision': 0.6272565813304288, 'recall': 0.6224256292906178, 'f1-score': 0.6079446682366502, 'macro_f1-score': 0.36078531015440624, 'balanced_accuracy': 0.38486025769261145, 'mcc': 0.4946113489049797, 'train_loss': 0.2372186994609324}\n",
      "Epoch 7/20\n"
     ]
    },
    {
     "name": "stderr",
     "output_type": "stream",
     "text": [
      "100%|██████████| 716/716 [01:02<00:00, 11.46it/s]\n"
     ]
    },
    {
     "name": "stdout",
     "output_type": "stream",
     "text": [
      "{'val_loss': 1.811290484012627, 'val_accuracy': 0.6369183829138062, 'precision': 0.6251301234422737, 'recall': 0.6369183829138062, 'f1-score': 0.6169632118629599, 'macro_f1-score': 0.3613682516882153, 'balanced_accuracy': 0.36990814499843644, 'mcc': 0.5149560698024588, 'train_loss': 0.19054552195554691}\n",
      "Epoch 8/20\n"
     ]
    },
    {
     "name": "stderr",
     "output_type": "stream",
     "text": [
      "100%|██████████| 716/716 [01:02<00:00, 11.47it/s]\n"
     ]
    },
    {
     "name": "stdout",
     "output_type": "stream",
     "text": [
      "{'val_loss': 1.7751502252933455, 'val_accuracy': 0.6270022883295194, 'precision': 0.6006121039056507, 'recall': 0.6270022883295194, 'f1-score': 0.6043528701733842, 'macro_f1-score': 0.3611412850670177, 'balanced_accuracy': 0.3846766381396744, 'mcc': 0.4982584613556746, 'train_loss': 0.17015734212486042}\n",
      "Early stopping.\n",
      "\n",
      "[Fold 3]\n",
      "🚀 Using Word2Vec for data augmentation + under-sampling\n",
      "🔻 Under-sampling label 0: 2471 → 2000\n",
      "🔧 Augmenting label 1: 22 → 200 (+178)\n",
      "🔧 Augmenting label 2: 64 → 200 (+136)\n",
      "🔧 Augmenting label 3: 24 → 200 (+176)\n",
      "🔧 Augmenting label 4: 190 → 200 (+10)\n",
      "🔧 Augmenting label 5: 113 → 200 (+87)\n",
      "🔧 Augmenting label 6: 93 → 200 (+107)\n",
      "🔧 Augmenting label 7: 30 → 200 (+170)\n",
      "🔧 Augmenting label 8: 68 → 200 (+132)\n",
      "🔧 Augmenting label 9: 30 → 200 (+170)\n",
      "🔧 Augmenting label 10: 67 → 200 (+133)\n",
      "🔧 Augmenting label 11: 169 → 200 (+31)\n",
      "🔧 Augmenting label 12: 190 → 200 (+10)\n",
      "🔧 Augmenting label 13: 28 → 200 (+172)\n",
      "🔧 Augmenting label 14: 23 → 200 (+177)\n",
      "🔧 Augmenting label 15: 25 → 200 (+175)\n",
      "🔧 Augmenting label 16: 19 → 200 (+181)\n",
      "🔧 Augmenting label 17: 182 → 200 (+18)\n",
      "🔧 Augmenting label 18: 92 → 200 (+108)\n",
      "🔧 Augmenting label 19: 44 → 200 (+156)\n",
      "🔧 Augmenting label 20: 14 → 200 (+186)\n",
      "🔧 Augmenting label 21: 35 → 200 (+165)\n",
      "🔧 Augmenting label 22: 76 → 200 (+124)\n",
      "🔧 Augmenting label 23: 157 → 200 (+43)\n",
      "🔧 Augmenting label 24: 13 → 200 (+187)\n",
      "🔧 Augmenting label 25: 44 → 200 (+156)\n",
      "🔧 Augmenting label 26: 84 → 200 (+116)\n",
      "🔧 Augmenting label 27: 48 → 200 (+152)\n",
      "🔧 Augmenting label 28: 11 → 200 (+189)\n",
      "🔧 Augmenting label 29: 13 → 200 (+187)\n",
      "🔧 Augmenting label 30: 11 → 200 (+189)\n",
      "🔧 Augmenting label 31: 76 → 200 (+124)\n",
      "🔧 Augmenting label 32: 36 → 200 (+164)\n",
      "🔧 Augmenting label 33: 31 → 200 (+169)\n",
      "🔧 Augmenting label 34: 30 → 200 (+170)\n",
      "🔧 Augmenting label 35: 11 → 200 (+189)\n",
      "🔧 Augmenting label 36: 21 → 200 (+179)\n",
      "🔧 Augmenting label 37: 16 → 200 (+184)\n",
      "🔧 Augmenting label 38: 32 → 200 (+168)\n",
      "🔧 Augmenting label 39: 11 → 200 (+189)\n",
      "🔧 Augmenting label 40: 9 → 200 (+191)\n",
      "🔧 Augmenting label 41: 57 → 200 (+143)\n",
      "🔧 Augmenting label 42: 18 → 200 (+182)\n",
      "🔧 Augmenting label 43: 9 → 200 (+191)\n",
      "🔧 Augmenting label 44: 55 → 200 (+145)\n",
      "🔧 Augmenting label 46: 62 → 200 (+138)\n",
      "🔧 Augmenting label 47: 80 → 200 (+120)\n",
      "Label distribution after resampling:\n",
      "  label 0: 2000\n",
      "  label 1: 200\n",
      "  label 2: 200\n",
      "  label 3: 200\n",
      "  label 4: 200\n",
      "  label 5: 200\n",
      "  label 6: 200\n",
      "  label 7: 200\n",
      "  label 8: 200\n",
      "  label 9: 200\n",
      "  label 10: 200\n",
      "  label 11: 200\n",
      "  label 12: 200\n",
      "  label 13: 200\n",
      "  label 14: 200\n",
      "  label 15: 200\n",
      "  label 16: 200\n",
      "  label 17: 200\n",
      "  label 18: 200\n",
      "  label 19: 200\n",
      "  label 20: 200\n",
      "  label 21: 200\n",
      "  label 22: 200\n",
      "  label 23: 200\n",
      "  label 24: 200\n",
      "  label 25: 200\n",
      "  label 26: 200\n",
      "  label 27: 200\n",
      "  label 28: 200\n",
      "  label 29: 200\n",
      "  label 30: 200\n",
      "  label 31: 200\n",
      "  label 32: 200\n",
      "  label 33: 200\n",
      "  label 34: 200\n",
      "  label 35: 200\n",
      "  label 36: 200\n",
      "  label 37: 200\n",
      "  label 38: 200\n",
      "  label 39: 200\n",
      "  label 40: 200\n",
      "  label 41: 200\n",
      "  label 42: 200\n",
      "  label 43: 200\n",
      "  label 44: 200\n",
      "  label 45: 241\n",
      "  label 46: 200\n",
      "  label 47: 200\n",
      "model is roberta-base cnn\n"
     ]
    },
    {
     "name": "stderr",
     "output_type": "stream",
     "text": [
      "Some weights of RobertaModel were not initialized from the model checkpoint at roberta-base and are newly initialized: ['pooler.dense.bias', 'pooler.dense.weight']\n",
      "You should probably TRAIN this model on a down-stream task to be able to use it for predictions and inference.\n"
     ]
    },
    {
     "name": "stdout",
     "output_type": "stream",
     "text": [
      "Epoch 1/20\n"
     ]
    },
    {
     "name": "stderr",
     "output_type": "stream",
     "text": [
      "100%|██████████| 716/716 [01:02<00:00, 11.51it/s]\n"
     ]
    },
    {
     "name": "stdout",
     "output_type": "stream",
     "text": [
      "{'val_loss': 3.4805865026101834, 'val_accuracy': 0.4500381388253242, 'precision': 0.23472719526218275, 'recall': 0.4500381388253242, 'f1-score': 0.3076940539755185, 'macro_f1-score': 0.01531498015873016, 'balanced_accuracy': 0.03754430574818924, 'mcc': 0.0722059323987823, 'train_loss': 3.6598922400501186}\n",
      "Epoch 2/20\n"
     ]
    },
    {
     "name": "stderr",
     "output_type": "stream",
     "text": [
      "100%|██████████| 716/716 [01:02<00:00, 11.50it/s]\n"
     ]
    },
    {
     "name": "stdout",
     "output_type": "stream",
     "text": [
      "{'val_loss': 3.2686736932614955, 'val_accuracy': 0.47139588100686497, 'precision': 0.2222140766302384, 'recall': 0.47139588100686497, 'f1-score': 0.302045261236125, 'macro_f1-score': 0.01334888543286677, 'balanced_accuracy': 0.020833333333333332, 'mcc': 0.0, 'train_loss': 3.637146710350527}\n",
      "Epoch 3/20\n"
     ]
    },
    {
     "name": "stderr",
     "output_type": "stream",
     "text": [
      "100%|██████████| 716/716 [01:02<00:00, 11.51it/s]\n"
     ]
    },
    {
     "name": "stdout",
     "output_type": "stream",
     "text": [
      "{'val_loss': 3.265678033596132, 'val_accuracy': 0.47139588100686497, 'precision': 0.2222140766302384, 'recall': 0.47139588100686497, 'f1-score': 0.302045261236125, 'macro_f1-score': 0.01334888543286677, 'balanced_accuracy': 0.020833333333333332, 'mcc': 0.0, 'train_loss': 3.6239203704136043}\n",
      "Epoch 4/20\n"
     ]
    },
    {
     "name": "stderr",
     "output_type": "stream",
     "text": [
      "100%|██████████| 716/716 [01:02<00:00, 11.49it/s]\n"
     ]
    },
    {
     "name": "stdout",
     "output_type": "stream",
     "text": [
      "{'val_loss': 3.0132945398005044, 'val_accuracy': 0.47139588100686497, 'precision': 0.2222140766302384, 'recall': 0.47139588100686497, 'f1-score': 0.302045261236125, 'macro_f1-score': 0.01334888543286677, 'balanced_accuracy': 0.020833333333333332, 'mcc': 0.0, 'train_loss': 3.610728762835764}\n",
      "Early stopping.\n",
      "\n",
      "[Fold 4]\n",
      "🚀 Using Word2Vec for data augmentation + under-sampling\n",
      "🔻 Under-sampling label 0: 2471 → 2000\n",
      "🔧 Augmenting label 1: 22 → 200 (+178)\n",
      "🔧 Augmenting label 2: 64 → 200 (+136)\n",
      "🔧 Augmenting label 3: 24 → 200 (+176)\n",
      "🔧 Augmenting label 4: 190 → 200 (+10)\n",
      "🔧 Augmenting label 5: 113 → 200 (+87)\n",
      "🔧 Augmenting label 6: 93 → 200 (+107)\n",
      "🔧 Augmenting label 7: 31 → 200 (+169)\n",
      "🔧 Augmenting label 8: 68 → 200 (+132)\n",
      "🔧 Augmenting label 9: 29 → 200 (+171)\n",
      "🔧 Augmenting label 10: 67 → 200 (+133)\n",
      "🔧 Augmenting label 11: 169 → 200 (+31)\n",
      "🔧 Augmenting label 12: 190 → 200 (+10)\n",
      "🔧 Augmenting label 13: 29 → 200 (+171)\n",
      "🔧 Augmenting label 14: 22 → 200 (+178)\n",
      "🔧 Augmenting label 15: 25 → 200 (+175)\n",
      "🔧 Augmenting label 16: 19 → 200 (+181)\n",
      "🔧 Augmenting label 17: 182 → 200 (+18)\n",
      "🔧 Augmenting label 18: 92 → 200 (+108)\n",
      "🔧 Augmenting label 19: 44 → 200 (+156)\n",
      "🔧 Augmenting label 20: 14 → 200 (+186)\n",
      "🔧 Augmenting label 21: 35 → 200 (+165)\n",
      "🔧 Augmenting label 22: 76 → 200 (+124)\n",
      "🔧 Augmenting label 23: 158 → 200 (+42)\n",
      "🔧 Augmenting label 24: 13 → 200 (+187)\n",
      "🔧 Augmenting label 25: 44 → 200 (+156)\n",
      "🔧 Augmenting label 26: 84 → 200 (+116)\n",
      "🔧 Augmenting label 27: 48 → 200 (+152)\n",
      "🔧 Augmenting label 28: 11 → 200 (+189)\n",
      "🔧 Augmenting label 29: 13 → 200 (+187)\n",
      "🔧 Augmenting label 30: 11 → 200 (+189)\n",
      "🔧 Augmenting label 31: 75 → 200 (+125)\n",
      "🔧 Augmenting label 32: 36 → 200 (+164)\n",
      "🔧 Augmenting label 33: 31 → 200 (+169)\n",
      "🔧 Augmenting label 34: 30 → 200 (+170)\n",
      "🔧 Augmenting label 35: 11 → 200 (+189)\n",
      "🔧 Augmenting label 36: 22 → 200 (+178)\n",
      "🔧 Augmenting label 37: 16 → 200 (+184)\n",
      "🔧 Augmenting label 38: 33 → 200 (+167)\n",
      "🔧 Augmenting label 39: 10 → 200 (+190)\n",
      "🔧 Augmenting label 40: 9 → 200 (+191)\n",
      "🔧 Augmenting label 41: 56 → 200 (+144)\n",
      "🔧 Augmenting label 42: 18 → 200 (+182)\n",
      "🔧 Augmenting label 43: 9 → 200 (+191)\n",
      "🔧 Augmenting label 44: 55 → 200 (+145)\n",
      "🔧 Augmenting label 46: 62 → 200 (+138)\n",
      "🔧 Augmenting label 47: 80 → 200 (+120)\n",
      "Label distribution after resampling:\n",
      "  label 0: 2000\n",
      "  label 1: 200\n",
      "  label 2: 200\n",
      "  label 3: 200\n",
      "  label 4: 200\n",
      "  label 5: 200\n",
      "  label 6: 200\n",
      "  label 7: 200\n",
      "  label 8: 200\n",
      "  label 9: 200\n",
      "  label 10: 200\n",
      "  label 11: 200\n",
      "  label 12: 200\n",
      "  label 13: 200\n",
      "  label 14: 200\n",
      "  label 15: 200\n",
      "  label 16: 200\n",
      "  label 17: 200\n",
      "  label 18: 200\n",
      "  label 19: 200\n",
      "  label 20: 200\n",
      "  label 21: 200\n",
      "  label 22: 200\n",
      "  label 23: 200\n",
      "  label 24: 200\n",
      "  label 25: 200\n",
      "  label 26: 200\n",
      "  label 27: 200\n",
      "  label 28: 200\n",
      "  label 29: 200\n",
      "  label 30: 200\n",
      "  label 31: 200\n",
      "  label 32: 200\n",
      "  label 33: 200\n",
      "  label 34: 200\n",
      "  label 35: 200\n",
      "  label 36: 200\n",
      "  label 37: 200\n",
      "  label 38: 200\n",
      "  label 39: 200\n",
      "  label 40: 200\n",
      "  label 41: 200\n",
      "  label 42: 200\n",
      "  label 43: 200\n",
      "  label 44: 200\n",
      "  label 45: 241\n",
      "  label 46: 200\n",
      "  label 47: 200\n",
      "model is roberta-base cnn\n"
     ]
    },
    {
     "name": "stderr",
     "output_type": "stream",
     "text": [
      "Some weights of RobertaModel were not initialized from the model checkpoint at roberta-base and are newly initialized: ['pooler.dense.bias', 'pooler.dense.weight']\n",
      "You should probably TRAIN this model on a down-stream task to be able to use it for predictions and inference.\n"
     ]
    },
    {
     "name": "stdout",
     "output_type": "stream",
     "text": [
      "Epoch 1/20\n"
     ]
    },
    {
     "name": "stderr",
     "output_type": "stream",
     "text": [
      "100%|██████████| 716/716 [01:02<00:00, 11.50it/s]\n"
     ]
    },
    {
     "name": "stdout",
     "output_type": "stream",
     "text": [
      "{'val_loss': 2.8203264242265282, 'val_accuracy': 0.38520213577421814, 'precision': 0.2403934210571526, 'recall': 0.38520213577421814, 'f1-score': 0.28888004123810973, 'macro_f1-score': 0.03581436336898528, 'balanced_accuracy': 0.08093835219468397, 'mcc': 0.050646856923255705, 'train_loss': 3.4224719425153465}\n",
      "Epoch 2/20\n"
     ]
    },
    {
     "name": "stderr",
     "output_type": "stream",
     "text": [
      "100%|██████████| 716/716 [01:02<00:00, 11.48it/s]\n"
     ]
    },
    {
     "name": "stdout",
     "output_type": "stream",
     "text": [
      "{'val_loss': 2.2342694939636605, 'val_accuracy': 0.406559877955759, 'precision': 0.5019772757166049, 'recall': 0.406559877955759, 'f1-score': 0.41869539636092956, 'macro_f1-score': 0.16501797323716785, 'balanced_accuracy': 0.26598952375744833, 'mcc': 0.2758971332398154, 'train_loss': 2.8339496975837473}\n",
      "Epoch 3/20\n"
     ]
    },
    {
     "name": "stderr",
     "output_type": "stream",
     "text": [
      "100%|██████████| 716/716 [01:02<00:00, 11.48it/s]\n"
     ]
    },
    {
     "name": "stdout",
     "output_type": "stream",
     "text": [
      "{'val_loss': 1.8023051408732809, 'val_accuracy': 0.4927536231884058, 'precision': 0.6256393668393881, 'recall': 0.4927536231884058, 'f1-score': 0.5245235658123072, 'macro_f1-score': 0.3008069737017324, 'balanced_accuracy': 0.38877305848033145, 'mcc': 0.3858578025135133, 'train_loss': 1.7074813633824193}\n",
      "Epoch 4/20\n"
     ]
    },
    {
     "name": "stderr",
     "output_type": "stream",
     "text": [
      "100%|██████████| 716/716 [01:02<00:00, 11.48it/s]\n"
     ]
    },
    {
     "name": "stdout",
     "output_type": "stream",
     "text": [
      "{'val_loss': 1.618794577877696, 'val_accuracy': 0.562929061784897, 'precision': 0.597194214168121, 'recall': 0.562929061784897, 'f1-score': 0.5595584918748255, 'macro_f1-score': 0.33045514990987107, 'balanced_accuracy': 0.3829543791875743, 'mcc': 0.42988230159277496, 'train_loss': 0.9804567922239696}\n",
      "Epoch 5/20\n"
     ]
    },
    {
     "name": "stderr",
     "output_type": "stream",
     "text": [
      "100%|██████████| 716/716 [01:02<00:00, 11.48it/s]\n"
     ]
    },
    {
     "name": "stdout",
     "output_type": "stream",
     "text": [
      "{'val_loss': 1.6061248710242713, 'val_accuracy': 0.5743707093821511, 'precision': 0.6318765334667475, 'recall': 0.5743707093821511, 'f1-score': 0.5842880990738095, 'macro_f1-score': 0.35750303978273923, 'balanced_accuracy': 0.4111363161990727, 'mcc': 0.4594745590554666, 'train_loss': 0.6083472125627641}\n",
      "Epoch 6/20\n"
     ]
    },
    {
     "name": "stderr",
     "output_type": "stream",
     "text": [
      "100%|██████████| 716/716 [01:02<00:00, 11.48it/s]\n"
     ]
    },
    {
     "name": "stdout",
     "output_type": "stream",
     "text": [
      "{'val_loss': 1.7158279484365044, 'val_accuracy': 0.5911517925247902, 'precision': 0.6453847370284875, 'recall': 0.5911517925247902, 'f1-score': 0.603868941505099, 'macro_f1-score': 0.3746526382651987, 'balanced_accuracy': 0.42727449561004743, 'mcc': 0.48481066926495203, 'train_loss': 0.4776209972112039}\n",
      "Epoch 7/20\n"
     ]
    },
    {
     "name": "stderr",
     "output_type": "stream",
     "text": [
      "100%|██████████| 716/716 [01:02<00:00, 11.48it/s]\n"
     ]
    },
    {
     "name": "stdout",
     "output_type": "stream",
     "text": [
      "{'val_loss': 1.7482545132317193, 'val_accuracy': 0.5919145690312738, 'precision': 0.6294821238273921, 'recall': 0.5919145690312738, 'f1-score': 0.596239957766546, 'macro_f1-score': 0.3809267241716731, 'balanced_accuracy': 0.4022062163917089, 'mcc': 0.4706016143914202, 'train_loss': 0.3365311690413669}\n",
      "Epoch 8/20\n"
     ]
    },
    {
     "name": "stderr",
     "output_type": "stream",
     "text": [
      "100%|██████████| 716/716 [01:02<00:00, 11.49it/s]\n"
     ]
    },
    {
     "name": "stdout",
     "output_type": "stream",
     "text": [
      "{'val_loss': 1.7708579627115553, 'val_accuracy': 0.6079328756674295, 'precision': 0.6317996142441068, 'recall': 0.6079328756674295, 'f1-score': 0.6123469873970427, 'macro_f1-score': 0.37994523223920923, 'balanced_accuracy': 0.41930963287882567, 'mcc': 0.4948148375189817, 'train_loss': 0.2795188612000257}\n",
      "Epoch 9/20\n"
     ]
    },
    {
     "name": "stderr",
     "output_type": "stream",
     "text": [
      "100%|██████████| 716/716 [01:02<00:00, 11.47it/s]\n"
     ]
    },
    {
     "name": "stdout",
     "output_type": "stream",
     "text": [
      "{'val_loss': 1.8090732150324962, 'val_accuracy': 0.6033562166285278, 'precision': 0.630981115599243, 'recall': 0.6033562166285278, 'f1-score': 0.6055182401286842, 'macro_f1-score': 0.3790549372522915, 'balanced_accuracy': 0.4167389466398809, 'mcc': 0.48956517630010743, 'train_loss': 0.24574007921951027}\n",
      "Epoch 10/20\n"
     ]
    },
    {
     "name": "stderr",
     "output_type": "stream",
     "text": [
      "100%|██████████| 716/716 [01:02<00:00, 11.49it/s]\n"
     ]
    },
    {
     "name": "stdout",
     "output_type": "stream",
     "text": [
      "{'val_loss': 1.9489103161343715, 'val_accuracy': 0.6094584286803967, 'precision': 0.635667990360368, 'recall': 0.6094584286803967, 'f1-score': 0.6141937143283367, 'macro_f1-score': 0.38012497688882235, 'balanced_accuracy': 0.3964458461724045, 'mcc': 0.4910295014813837, 'train_loss': 0.17738171677746065}\n",
      "Early stopping.\n",
      "\n",
      "[Fold 5]\n",
      "🚀 Using Word2Vec for data augmentation + under-sampling\n",
      "🔻 Under-sampling label 0: 2472 → 2000\n",
      "🔧 Augmenting label 1: 21 → 200 (+179)\n",
      "🔧 Augmenting label 2: 64 → 200 (+136)\n",
      "🔧 Augmenting label 3: 24 → 200 (+176)\n",
      "🔧 Augmenting label 4: 191 → 200 (+9)\n",
      "🔧 Augmenting label 5: 112 → 200 (+88)\n",
      "🔧 Augmenting label 6: 92 → 200 (+108)\n",
      "🔧 Augmenting label 7: 31 → 200 (+169)\n",
      "🔧 Augmenting label 8: 68 → 200 (+132)\n",
      "🔧 Augmenting label 9: 29 → 200 (+171)\n",
      "🔧 Augmenting label 10: 68 → 200 (+132)\n",
      "🔧 Augmenting label 11: 168 → 200 (+32)\n",
      "🔧 Augmenting label 12: 190 → 200 (+10)\n",
      "🔧 Augmenting label 13: 29 → 200 (+171)\n",
      "🔧 Augmenting label 14: 22 → 200 (+178)\n",
      "🔧 Augmenting label 15: 25 → 200 (+175)\n",
      "🔧 Augmenting label 16: 19 → 200 (+181)\n",
      "🔧 Augmenting label 17: 183 → 200 (+17)\n",
      "🔧 Augmenting label 18: 92 → 200 (+108)\n",
      "🔧 Augmenting label 19: 44 → 200 (+156)\n",
      "🔧 Augmenting label 20: 14 → 200 (+186)\n",
      "🔧 Augmenting label 21: 35 → 200 (+165)\n",
      "🔧 Augmenting label 22: 76 → 200 (+124)\n",
      "🔧 Augmenting label 23: 158 → 200 (+42)\n",
      "🔧 Augmenting label 24: 13 → 200 (+187)\n",
      "🔧 Augmenting label 25: 44 → 200 (+156)\n",
      "🔧 Augmenting label 26: 84 → 200 (+116)\n",
      "🔧 Augmenting label 27: 48 → 200 (+152)\n",
      "🔧 Augmenting label 28: 11 → 200 (+189)\n",
      "🔧 Augmenting label 29: 13 → 200 (+187)\n",
      "🔧 Augmenting label 30: 11 → 200 (+189)\n",
      "🔧 Augmenting label 31: 75 → 200 (+125)\n",
      "🔧 Augmenting label 32: 36 → 200 (+164)\n",
      "🔧 Augmenting label 33: 31 → 200 (+169)\n",
      "🔧 Augmenting label 34: 30 → 200 (+170)\n",
      "🔧 Augmenting label 35: 11 → 200 (+189)\n",
      "🔧 Augmenting label 36: 22 → 200 (+178)\n",
      "🔧 Augmenting label 37: 16 → 200 (+184)\n",
      "🔧 Augmenting label 38: 33 → 200 (+167)\n",
      "🔧 Augmenting label 39: 10 → 200 (+190)\n",
      "🔧 Augmenting label 40: 9 → 200 (+191)\n",
      "🔧 Augmenting label 41: 57 → 200 (+143)\n",
      "🔧 Augmenting label 42: 18 → 200 (+182)\n",
      "🔧 Augmenting label 43: 9 → 200 (+191)\n",
      "🔧 Augmenting label 44: 54 → 200 (+146)\n",
      "🔧 Augmenting label 46: 61 → 200 (+139)\n",
      "🔧 Augmenting label 47: 80 → 200 (+120)\n",
      "Label distribution after resampling:\n",
      "  label 0: 2000\n",
      "  label 1: 200\n",
      "  label 2: 200\n",
      "  label 3: 200\n",
      "  label 4: 200\n",
      "  label 5: 200\n",
      "  label 6: 200\n",
      "  label 7: 200\n",
      "  label 8: 200\n",
      "  label 9: 200\n",
      "  label 10: 200\n",
      "  label 11: 200\n",
      "  label 12: 200\n",
      "  label 13: 200\n",
      "  label 14: 200\n",
      "  label 15: 200\n",
      "  label 16: 200\n",
      "  label 17: 200\n",
      "  label 18: 200\n",
      "  label 19: 200\n",
      "  label 20: 200\n",
      "  label 21: 200\n",
      "  label 22: 200\n",
      "  label 23: 200\n",
      "  label 24: 200\n",
      "  label 25: 200\n",
      "  label 26: 200\n",
      "  label 27: 200\n",
      "  label 28: 200\n",
      "  label 29: 200\n",
      "  label 30: 200\n",
      "  label 31: 200\n",
      "  label 32: 200\n",
      "  label 33: 200\n",
      "  label 34: 200\n",
      "  label 35: 200\n",
      "  label 36: 200\n",
      "  label 37: 200\n",
      "  label 38: 200\n",
      "  label 39: 200\n",
      "  label 40: 200\n",
      "  label 41: 200\n",
      "  label 42: 200\n",
      "  label 43: 200\n",
      "  label 44: 200\n",
      "  label 45: 242\n",
      "  label 46: 200\n",
      "  label 47: 200\n",
      "model is roberta-base cnn\n"
     ]
    },
    {
     "name": "stderr",
     "output_type": "stream",
     "text": [
      "Some weights of RobertaModel were not initialized from the model checkpoint at roberta-base and are newly initialized: ['pooler.dense.bias', 'pooler.dense.weight']\n",
      "You should probably TRAIN this model on a down-stream task to be able to use it for predictions and inference.\n"
     ]
    },
    {
     "name": "stdout",
     "output_type": "stream",
     "text": [
      "Epoch 1/20\n"
     ]
    },
    {
     "name": "stderr",
     "output_type": "stream",
     "text": [
      "100%|██████████| 716/716 [01:02<00:00, 11.47it/s]\n"
     ]
    },
    {
     "name": "stdout",
     "output_type": "stream",
     "text": [
      "{'val_loss': 1.6540531399773388, 'val_accuracy': 0.5408085430968727, 'precision': 0.5969262511318164, 'recall': 0.5408085430968727, 'f1-score': 0.5275115842992004, 'macro_f1-score': 0.274201695031552, 'balanced_accuracy': 0.3438492078868818, 'mcc': 0.40368387809000417, 'train_loss': 2.5055161561379884}\n",
      "Epoch 2/20\n"
     ]
    },
    {
     "name": "stderr",
     "output_type": "stream",
     "text": [
      "100%|██████████| 716/716 [01:02<00:00, 11.49it/s]\n"
     ]
    },
    {
     "name": "stdout",
     "output_type": "stream",
     "text": [
      "{'val_loss': 1.4753737638636333, 'val_accuracy': 0.5919145690312738, 'precision': 0.6199630167811873, 'recall': 0.5919145690312738, 'f1-score': 0.5931875895891454, 'macro_f1-score': 0.36623388475222063, 'balanced_accuracy': 0.407048172495227, 'mcc': 0.47968709056918496, 'train_loss': 1.1391950604719157}\n",
      "Epoch 3/20\n"
     ]
    },
    {
     "name": "stderr",
     "output_type": "stream",
     "text": [
      "100%|██████████| 716/716 [01:02<00:00, 11.48it/s]\n"
     ]
    },
    {
     "name": "stdout",
     "output_type": "stream",
     "text": [
      "{'val_loss': 1.508868091353556, 'val_accuracy': 0.593440122044241, 'precision': 0.6152214833207483, 'recall': 0.593440122044241, 'f1-score': 0.5934502089205419, 'macro_f1-score': 0.3727206177190093, 'balanced_accuracy': 0.40311399313565177, 'mcc': 0.4801471846054408, 'train_loss': 0.6361047746821739}\n",
      "Epoch 4/20\n"
     ]
    },
    {
     "name": "stderr",
     "output_type": "stream",
     "text": [
      "100%|██████████| 716/716 [01:02<00:00, 11.49it/s]\n"
     ]
    },
    {
     "name": "stdout",
     "output_type": "stream",
     "text": [
      "{'val_loss': 1.4648991886798928, 'val_accuracy': 0.6491228070175439, 'precision': 0.6638858692417701, 'recall': 0.6491228070175439, 'f1-score': 0.6483812696214957, 'macro_f1-score': 0.44911835758108914, 'balanced_accuracy': 0.44993785838722294, 'mcc': 0.5465676160214259, 'train_loss': 0.4183544632429179}\n",
      "Epoch 5/20\n"
     ]
    },
    {
     "name": "stderr",
     "output_type": "stream",
     "text": [
      "100%|██████████| 716/716 [01:02<00:00, 11.47it/s]\n"
     ]
    },
    {
     "name": "stdout",
     "output_type": "stream",
     "text": [
      "{'val_loss': 1.6696021429649213, 'val_accuracy': 0.5995423340961098, 'precision': 0.6450095364525024, 'recall': 0.5995423340961098, 'f1-score': 0.6073330045162166, 'macro_f1-score': 0.3920528793818763, 'balanced_accuracy': 0.42794352754298837, 'mcc': 0.5003925248937902, 'train_loss': 0.2910845331215513}\n",
      "Epoch 6/20\n"
     ]
    },
    {
     "name": "stderr",
     "output_type": "stream",
     "text": [
      "100%|██████████| 716/716 [01:02<00:00, 11.47it/s]\n"
     ]
    },
    {
     "name": "stdout",
     "output_type": "stream",
     "text": [
      "{'val_loss': 1.6292149853415605, 'val_accuracy': 0.6468344774980931, 'precision': 0.6240788487082732, 'recall': 0.6468344774980931, 'f1-score': 0.6250281365433701, 'macro_f1-score': 0.40733654643548894, 'balanced_accuracy': 0.3984913205008529, 'mcc': 0.5260773946741698, 'train_loss': 0.23142253046896955}\n",
      "Epoch 7/20\n"
     ]
    },
    {
     "name": "stderr",
     "output_type": "stream",
     "text": [
      "100%|██████████| 716/716 [01:02<00:00, 11.47it/s]\n"
     ]
    },
    {
     "name": "stdout",
     "output_type": "stream",
     "text": [
      "{'val_loss': 1.6731182027880738, 'val_accuracy': 0.6460717009916095, 'precision': 0.6529612285338408, 'recall': 0.6460717009916095, 'f1-score': 0.6398719182876326, 'macro_f1-score': 0.42864614200112633, 'balanced_accuracy': 0.4297748237083016, 'mcc': 0.5384329078436381, 'train_loss': 0.20623274487846494}\n",
      "Early stopping.\n",
      "\n",
      " === roberta-base + cnn + word2vec Final 5-fold Cross-Validation Results ===\n",
      "val_loss: 2.0258\n",
      "val_accuracy: 0.5772\n",
      "precision: 0.5587\n",
      "recall: 0.5772\n",
      "f1-score: 0.5517\n",
      "macro_f1-score: 0.3296\n",
      "balanced_accuracy: 0.3548\n",
      "mcc: 0.4136\n",
      "train_loss: 1.0136\n",
      "total_seconds: 2435.0000\n",
      "total_time: 0 hrs 40 mins 35 secs\n",
      "▶ Running: roberta-base + lstm + word2vec\n",
      "tokenizer is roberta-base\n",
      "Using device: cuda\n",
      "CUDA Available: True\n",
      "CUDA Device: NVIDIA GeForce RTX 5070 Ti\n",
      "Current GPU Memory Allocated: 1.33 GB\n",
      "Current GPU Memory Cached: 5.31 GB\n",
      "\n",
      "[Fold 1]\n",
      "🚀 Using Word2Vec for data augmentation + under-sampling\n",
      "🔻 Under-sampling label 0: 2471 → 2000\n",
      "🔧 Augmenting label 1: 21 → 200 (+179)\n",
      "🔧 Augmenting label 2: 64 → 200 (+136)\n",
      "🔧 Augmenting label 3: 24 → 200 (+176)\n",
      "🔧 Augmenting label 4: 191 → 200 (+9)\n",
      "🔧 Augmenting label 5: 113 → 200 (+87)\n",
      "🔧 Augmenting label 6: 93 → 200 (+107)\n",
      "🔧 Augmenting label 7: 30 → 200 (+170)\n",
      "🔧 Augmenting label 8: 68 → 200 (+132)\n",
      "🔧 Augmenting label 9: 30 → 200 (+170)\n",
      "🔧 Augmenting label 10: 67 → 200 (+133)\n",
      "🔧 Augmenting label 11: 169 → 200 (+31)\n",
      "🔧 Augmenting label 12: 189 → 200 (+11)\n",
      "🔧 Augmenting label 13: 29 → 200 (+171)\n",
      "🔧 Augmenting label 14: 22 → 200 (+178)\n",
      "🔧 Augmenting label 15: 25 → 200 (+175)\n",
      "🔧 Augmenting label 16: 19 → 200 (+181)\n",
      "🔧 Augmenting label 17: 183 → 200 (+17)\n",
      "🔧 Augmenting label 18: 92 → 200 (+108)\n",
      "🔧 Augmenting label 19: 44 → 200 (+156)\n",
      "🔧 Augmenting label 20: 13 → 200 (+187)\n",
      "🔧 Augmenting label 21: 35 → 200 (+165)\n",
      "🔧 Augmenting label 22: 76 → 200 (+124)\n",
      "🔧 Augmenting label 23: 158 → 200 (+42)\n",
      "🔧 Augmenting label 24: 13 → 200 (+187)\n",
      "🔧 Augmenting label 25: 44 → 200 (+156)\n",
      "🔧 Augmenting label 26: 84 → 200 (+116)\n",
      "🔧 Augmenting label 27: 48 → 200 (+152)\n",
      "🔧 Augmenting label 28: 11 → 200 (+189)\n",
      "🔧 Augmenting label 29: 13 → 200 (+187)\n",
      "🔧 Augmenting label 30: 11 → 200 (+189)\n",
      "🔧 Augmenting label 31: 75 → 200 (+125)\n",
      "🔧 Augmenting label 32: 36 → 200 (+164)\n",
      "🔧 Augmenting label 33: 32 → 200 (+168)\n",
      "🔧 Augmenting label 34: 29 → 200 (+171)\n",
      "🔧 Augmenting label 35: 11 → 200 (+189)\n",
      "🔧 Augmenting label 36: 22 → 200 (+178)\n",
      "🔧 Augmenting label 37: 16 → 200 (+184)\n",
      "🔧 Augmenting label 38: 33 → 200 (+167)\n",
      "🔧 Augmenting label 39: 10 → 200 (+190)\n",
      "🔧 Augmenting label 40: 9 → 200 (+191)\n",
      "🔧 Augmenting label 41: 57 → 200 (+143)\n",
      "🔧 Augmenting label 42: 19 → 200 (+181)\n",
      "🔧 Augmenting label 43: 8 → 200 (+192)\n",
      "🔧 Augmenting label 44: 54 → 200 (+146)\n",
      "🔧 Augmenting label 46: 61 → 200 (+139)\n",
      "🔧 Augmenting label 47: 80 → 200 (+120)\n",
      "Label distribution after resampling:\n",
      "  label 0: 2000\n",
      "  label 1: 200\n",
      "  label 2: 200\n",
      "  label 3: 200\n",
      "  label 4: 200\n",
      "  label 5: 200\n",
      "  label 6: 200\n",
      "  label 7: 200\n",
      "  label 8: 200\n",
      "  label 9: 200\n",
      "  label 10: 200\n",
      "  label 11: 200\n",
      "  label 12: 200\n",
      "  label 13: 200\n",
      "  label 14: 200\n",
      "  label 15: 200\n",
      "  label 16: 200\n",
      "  label 17: 200\n",
      "  label 18: 200\n",
      "  label 19: 200\n",
      "  label 20: 200\n",
      "  label 21: 200\n",
      "  label 22: 200\n",
      "  label 23: 200\n",
      "  label 24: 200\n",
      "  label 25: 200\n",
      "  label 26: 200\n",
      "  label 27: 200\n",
      "  label 28: 200\n",
      "  label 29: 200\n",
      "  label 30: 200\n",
      "  label 31: 200\n",
      "  label 32: 200\n",
      "  label 33: 200\n",
      "  label 34: 200\n",
      "  label 35: 200\n",
      "  label 36: 200\n",
      "  label 37: 200\n",
      "  label 38: 200\n",
      "  label 39: 200\n",
      "  label 40: 200\n",
      "  label 41: 200\n",
      "  label 42: 200\n",
      "  label 43: 200\n",
      "  label 44: 200\n",
      "  label 45: 242\n",
      "  label 46: 200\n",
      "  label 47: 200\n",
      "model is roberta-base lstm\n"
     ]
    },
    {
     "name": "stderr",
     "output_type": "stream",
     "text": [
      "Some weights of RobertaModel were not initialized from the model checkpoint at roberta-base and are newly initialized: ['pooler.dense.bias', 'pooler.dense.weight']\n",
      "You should probably TRAIN this model on a down-stream task to be able to use it for predictions and inference.\n"
     ]
    },
    {
     "name": "stdout",
     "output_type": "stream",
     "text": [
      "Epoch 1/20\n"
     ]
    },
    {
     "name": "stderr",
     "output_type": "stream",
     "text": [
      "100%|██████████| 716/716 [01:05<00:00, 10.96it/s]\n"
     ]
    },
    {
     "name": "stdout",
     "output_type": "stream",
     "text": [
      "{'val_loss': 2.750061375338857, 'val_accuracy': 0.4580792682926829, 'precision': 0.2385335145850923, 'recall': 0.4580792682926829, 'f1-score': 0.3098542524144117, 'macro_f1-score': 0.0184864898399829, 'balanced_accuracy': 0.03954119471413161, 'mcc': 0.07303825493591116, 'train_loss': 3.585425705550103}\n",
      "Epoch 2/20\n"
     ]
    },
    {
     "name": "stderr",
     "output_type": "stream",
     "text": [
      "100%|██████████| 716/716 [01:05<00:00, 10.97it/s]\n"
     ]
    },
    {
     "name": "stdout",
     "output_type": "stream",
     "text": [
      "{'val_loss': 2.917543994217384, 'val_accuracy': 0.47103658536585363, 'precision': 0.22187546475312311, 'recall': 0.47103658536585363, 'f1-score': 0.3016586629596866, 'macro_f1-score': 0.013341968911917098, 'balanced_accuracy': 0.020833333333333332, 'mcc': 0.0, 'train_loss': 3.5695321729729295}\n",
      "Epoch 3/20\n"
     ]
    },
    {
     "name": "stderr",
     "output_type": "stream",
     "text": [
      "100%|██████████| 716/716 [01:05<00:00, 10.96it/s]\n"
     ]
    },
    {
     "name": "stdout",
     "output_type": "stream",
     "text": [
      "{'val_loss': 2.8545032710563847, 'val_accuracy': 0.43902439024390244, 'precision': 0.22899072879380666, 'recall': 0.43902439024390244, 'f1-score': 0.3000402790718229, 'macro_f1-score': 0.015215599677890183, 'balanced_accuracy': 0.037410666127292345, 'mcc': 0.04603303962784207, 'train_loss': 3.5770770774207303}\n",
      "Epoch 4/20\n"
     ]
    },
    {
     "name": "stderr",
     "output_type": "stream",
     "text": [
      "100%|██████████| 716/716 [01:05<00:00, 10.98it/s]\n"
     ]
    },
    {
     "name": "stdout",
     "output_type": "stream",
     "text": [
      "{'val_loss': 3.0031490384078605, 'val_accuracy': 0.4725609756097561, 'precision': 0.24015747338478005, 'recall': 0.4725609756097561, 'f1-score': 0.30846618885523047, 'macro_f1-score': 0.017155119267795324, 'balanced_accuracy': 0.023047015462064006, 'mcc': 0.04819132869309668, 'train_loss': 3.576652511538074}\n",
      "Early stopping.\n",
      "\n",
      "[Fold 2]\n",
      "🚀 Using Word2Vec for data augmentation + under-sampling\n",
      "🔻 Under-sampling label 0: 2471 → 2000\n",
      "🔧 Augmenting label 1: 22 → 200 (+178)\n",
      "🔧 Augmenting label 2: 64 → 200 (+136)\n",
      "🔧 Augmenting label 3: 24 → 200 (+176)\n",
      "🔧 Augmenting label 4: 190 → 200 (+10)\n",
      "🔧 Augmenting label 5: 113 → 200 (+87)\n",
      "🔧 Augmenting label 6: 93 → 200 (+107)\n",
      "🔧 Augmenting label 7: 30 → 200 (+170)\n",
      "🔧 Augmenting label 8: 68 → 200 (+132)\n",
      "🔧 Augmenting label 9: 30 → 200 (+170)\n",
      "🔧 Augmenting label 10: 67 → 200 (+133)\n",
      "🔧 Augmenting label 11: 169 → 200 (+31)\n",
      "🔧 Augmenting label 12: 189 → 200 (+11)\n",
      "🔧 Augmenting label 13: 29 → 200 (+171)\n",
      "🔧 Augmenting label 14: 23 → 200 (+177)\n",
      "🔧 Augmenting label 15: 24 → 200 (+176)\n",
      "🔧 Augmenting label 16: 20 → 200 (+180)\n",
      "🔧 Augmenting label 17: 182 → 200 (+18)\n",
      "🔧 Augmenting label 18: 92 → 200 (+108)\n",
      "🔧 Augmenting label 19: 44 → 200 (+156)\n",
      "🔧 Augmenting label 20: 13 → 200 (+187)\n",
      "🔧 Augmenting label 21: 36 → 200 (+164)\n",
      "🔧 Augmenting label 22: 76 → 200 (+124)\n",
      "🔧 Augmenting label 23: 157 → 200 (+43)\n",
      "🔧 Augmenting label 24: 12 → 200 (+188)\n",
      "🔧 Augmenting label 25: 44 → 200 (+156)\n",
      "🔧 Augmenting label 26: 84 → 200 (+116)\n",
      "🔧 Augmenting label 27: 48 → 200 (+152)\n",
      "🔧 Augmenting label 28: 12 → 200 (+188)\n",
      "🔧 Augmenting label 29: 12 → 200 (+188)\n",
      "🔧 Augmenting label 30: 12 → 200 (+188)\n",
      "🔧 Augmenting label 31: 75 → 200 (+125)\n",
      "🔧 Augmenting label 32: 36 → 200 (+164)\n",
      "🔧 Augmenting label 33: 31 → 200 (+169)\n",
      "🔧 Augmenting label 34: 29 → 200 (+171)\n",
      "🔧 Augmenting label 35: 12 → 200 (+188)\n",
      "🔧 Augmenting label 36: 21 → 200 (+179)\n",
      "🔧 Augmenting label 37: 16 → 200 (+184)\n",
      "🔧 Augmenting label 38: 33 → 200 (+167)\n",
      "🔧 Augmenting label 39: 11 → 200 (+189)\n",
      "🔧 Augmenting label 40: 8 → 200 (+192)\n",
      "🔧 Augmenting label 41: 57 → 200 (+143)\n",
      "🔧 Augmenting label 42: 19 → 200 (+181)\n",
      "🔧 Augmenting label 43: 9 → 200 (+191)\n",
      "🔧 Augmenting label 44: 54 → 200 (+146)\n",
      "🔧 Augmenting label 46: 62 → 200 (+138)\n",
      "🔧 Augmenting label 47: 80 → 200 (+120)\n",
      "Label distribution after resampling:\n",
      "  label 0: 2000\n",
      "  label 1: 200\n",
      "  label 2: 200\n",
      "  label 3: 200\n",
      "  label 4: 200\n",
      "  label 5: 200\n",
      "  label 6: 200\n",
      "  label 7: 200\n",
      "  label 8: 200\n",
      "  label 9: 200\n",
      "  label 10: 200\n",
      "  label 11: 200\n",
      "  label 12: 200\n",
      "  label 13: 200\n",
      "  label 14: 200\n",
      "  label 15: 200\n",
      "  label 16: 200\n",
      "  label 17: 200\n",
      "  label 18: 200\n",
      "  label 19: 200\n",
      "  label 20: 200\n",
      "  label 21: 200\n",
      "  label 22: 200\n",
      "  label 23: 200\n",
      "  label 24: 200\n",
      "  label 25: 200\n",
      "  label 26: 200\n",
      "  label 27: 200\n",
      "  label 28: 200\n",
      "  label 29: 200\n",
      "  label 30: 200\n",
      "  label 31: 200\n",
      "  label 32: 200\n",
      "  label 33: 200\n",
      "  label 34: 200\n",
      "  label 35: 200\n",
      "  label 36: 200\n",
      "  label 37: 200\n",
      "  label 38: 200\n",
      "  label 39: 200\n",
      "  label 40: 200\n",
      "  label 41: 200\n",
      "  label 42: 200\n",
      "  label 43: 200\n",
      "  label 44: 200\n",
      "  label 45: 242\n",
      "  label 46: 200\n",
      "  label 47: 200\n",
      "model is roberta-base lstm\n"
     ]
    },
    {
     "name": "stderr",
     "output_type": "stream",
     "text": [
      "Some weights of RobertaModel were not initialized from the model checkpoint at roberta-base and are newly initialized: ['pooler.dense.bias', 'pooler.dense.weight']\n",
      "You should probably TRAIN this model on a down-stream task to be able to use it for predictions and inference.\n"
     ]
    },
    {
     "name": "stdout",
     "output_type": "stream",
     "text": [
      "Epoch 1/20\n"
     ]
    },
    {
     "name": "stderr",
     "output_type": "stream",
     "text": [
      "100%|██████████| 716/716 [01:05<00:00, 10.96it/s]\n"
     ]
    },
    {
     "name": "stdout",
     "output_type": "stream",
     "text": [
      "{'val_loss': 2.013078213464923, 'val_accuracy': 0.5163996948893974, 'precision': 0.46479030461251214, 'recall': 0.5163996948893974, 'f1-score': 0.4605671429207834, 'macro_f1-score': 0.150783907460521, 'balanced_accuracy': 0.19549435474842744, 'mcc': 0.33221197785022877, 'train_loss': 3.0198643637103078}\n",
      "Epoch 2/20\n"
     ]
    },
    {
     "name": "stderr",
     "output_type": "stream",
     "text": [
      "100%|██████████| 716/716 [01:05<00:00, 10.96it/s]\n"
     ]
    },
    {
     "name": "stdout",
     "output_type": "stream",
     "text": [
      "{'val_loss': 1.756168131421252, 'val_accuracy': 0.5377574370709383, 'precision': 0.5289256874568607, 'recall': 0.5377574370709383, 'f1-score': 0.5110984563949934, 'macro_f1-score': 0.2516205504107259, 'balanced_accuracy': 0.29840836733507253, 'mcc': 0.38675153514217003, 'train_loss': 2.0700093879047055}\n",
      "Epoch 3/20\n"
     ]
    },
    {
     "name": "stderr",
     "output_type": "stream",
     "text": [
      "100%|██████████| 716/716 [01:05<00:00, 10.99it/s]\n"
     ]
    },
    {
     "name": "stdout",
     "output_type": "stream",
     "text": [
      "{'val_loss': 1.812104302208598, 'val_accuracy': 0.5102974828375286, 'precision': 0.5720465045790724, 'recall': 0.5102974828375286, 'f1-score': 0.5037453057289598, 'macro_f1-score': 0.26236444822854277, 'balanced_accuracy': 0.36608010918066114, 'mcc': 0.3702729131701474, 'train_loss': 1.5682276036153293}\n",
      "Epoch 4/20\n"
     ]
    },
    {
     "name": "stderr",
     "output_type": "stream",
     "text": [
      "100%|██████████| 716/716 [01:05<00:00, 10.97it/s]\n"
     ]
    },
    {
     "name": "stdout",
     "output_type": "stream",
     "text": [
      "{'val_loss': 1.5753387728842294, 'val_accuracy': 0.5842868039664378, 'precision': 0.5848733984388734, 'recall': 0.5842868039664378, 'f1-score': 0.5467143877033749, 'macro_f1-score': 0.30047148585046646, 'balanced_accuracy': 0.3256822046950106, 'mcc': 0.4238027907749187, 'train_loss': 1.270958623822841}\n",
      "Epoch 5/20\n"
     ]
    },
    {
     "name": "stderr",
     "output_type": "stream",
     "text": [
      "100%|██████████| 716/716 [01:05<00:00, 10.98it/s]\n"
     ]
    },
    {
     "name": "stdout",
     "output_type": "stream",
     "text": [
      "{'val_loss': 1.6217056004012502, 'val_accuracy': 0.5766590389016019, 'precision': 0.6079390249677813, 'recall': 0.5766590389016019, 'f1-score': 0.5620582376718228, 'macro_f1-score': 0.3164039054292215, 'balanced_accuracy': 0.3671218698144653, 'mcc': 0.4410295566910025, 'train_loss': 1.0417459604626926}\n",
      "Epoch 6/20\n"
     ]
    },
    {
     "name": "stderr",
     "output_type": "stream",
     "text": [
      "100%|██████████| 716/716 [01:05<00:00, 10.95it/s]\n"
     ]
    },
    {
     "name": "stdout",
     "output_type": "stream",
     "text": [
      "{'val_loss': 1.624531090259552, 'val_accuracy': 0.5751334858886347, 'precision': 0.6063984461609857, 'recall': 0.5751334858886347, 'f1-score': 0.5719353796983301, 'macro_f1-score': 0.3318526006438665, 'balanced_accuracy': 0.3693321930834675, 'mcc': 0.44635106986987544, 'train_loss': 0.8632710787816255}\n",
      "Epoch 7/20\n"
     ]
    },
    {
     "name": "stderr",
     "output_type": "stream",
     "text": [
      "100%|██████████| 716/716 [01:05<00:00, 10.98it/s]\n"
     ]
    },
    {
     "name": "stdout",
     "output_type": "stream",
     "text": [
      "{'val_loss': 1.5863502643457272, 'val_accuracy': 0.6186117467581999, 'precision': 0.6207417454464119, 'recall': 0.6186117467581999, 'f1-score': 0.5935888000992431, 'macro_f1-score': 0.35310872828411083, 'balanced_accuracy': 0.3667648117059656, 'mcc': 0.4786811903402232, 'train_loss': 0.7671356088268524}\n",
      "Epoch 8/20\n"
     ]
    },
    {
     "name": "stderr",
     "output_type": "stream",
     "text": [
      "100%|██████████| 716/716 [01:05<00:00, 10.98it/s]\n"
     ]
    },
    {
     "name": "stdout",
     "output_type": "stream",
     "text": [
      "{'val_loss': 1.6683787383684299, 'val_accuracy': 0.5835240274599542, 'precision': 0.6186344989555154, 'recall': 0.5835240274599542, 'f1-score': 0.5896151878847637, 'macro_f1-score': 0.3394090284294073, 'balanced_accuracy': 0.3748981138545358, 'mcc': 0.46062297033539396, 'train_loss': 0.6776305704726188}\n",
      "Epoch 9/20\n"
     ]
    },
    {
     "name": "stderr",
     "output_type": "stream",
     "text": [
      "100%|██████████| 716/716 [01:05<00:00, 10.96it/s]\n"
     ]
    },
    {
     "name": "stdout",
     "output_type": "stream",
     "text": [
      "{'val_loss': 1.6297287304953831, 'val_accuracy': 0.627765064836003, 'precision': 0.6184063357960975, 'recall': 0.627765064836003, 'f1-score': 0.603689693850517, 'macro_f1-score': 0.3428710552492811, 'balanced_accuracy': 0.35934710006461934, 'mcc': 0.4944496282887752, 'train_loss': 0.626935520724461}\n",
      "Epoch 10/20\n"
     ]
    },
    {
     "name": "stderr",
     "output_type": "stream",
     "text": [
      "100%|██████████| 716/716 [01:05<00:00, 10.96it/s]\n"
     ]
    },
    {
     "name": "stdout",
     "output_type": "stream",
     "text": [
      "{'val_loss': 1.6253258411477252, 'val_accuracy': 0.6224256292906178, 'precision': 0.6158212982343763, 'recall': 0.6224256292906178, 'f1-score': 0.6048430752643523, 'macro_f1-score': 0.3812884556006349, 'balanced_accuracy': 0.4095215731048561, 'mcc': 0.4951235835508193, 'train_loss': 0.509113614499444}\n",
      "Epoch 11/20\n"
     ]
    },
    {
     "name": "stderr",
     "output_type": "stream",
     "text": [
      "100%|██████████| 716/716 [01:05<00:00, 10.95it/s]\n"
     ]
    },
    {
     "name": "stdout",
     "output_type": "stream",
     "text": [
      "{'val_loss': 1.8204996018874935, 'val_accuracy': 0.5644546147978642, 'precision': 0.619426805215244, 'recall': 0.5644546147978642, 'f1-score': 0.5757369365936195, 'macro_f1-score': 0.3418342252727225, 'balanced_accuracy': 0.4055397139482723, 'mcc': 0.4529990398977172, 'train_loss': 0.540675147577038}\n",
      "Epoch 12/20\n"
     ]
    },
    {
     "name": "stderr",
     "output_type": "stream",
     "text": [
      "100%|██████████| 716/716 [01:05<00:00, 10.99it/s]\n"
     ]
    },
    {
     "name": "stdout",
     "output_type": "stream",
     "text": [
      "{'val_loss': 1.7620582500608957, 'val_accuracy': 0.5942028985507246, 'precision': 0.6223947238923302, 'recall': 0.5942028985507246, 'f1-score': 0.5995542790004981, 'macro_f1-score': 0.3494295274049972, 'balanced_accuracy': 0.4000867055110831, 'mcc': 0.483142847222062, 'train_loss': 0.44087978712069753}\n",
      "Epoch 13/20\n"
     ]
    },
    {
     "name": "stderr",
     "output_type": "stream",
     "text": [
      "100%|██████████| 716/716 [01:05<00:00, 10.96it/s]\n"
     ]
    },
    {
     "name": "stdout",
     "output_type": "stream",
     "text": [
      "{'val_loss': 1.815418986649048, 'val_accuracy': 0.6003051106025934, 'precision': 0.6117722540514992, 'recall': 0.6003051106025934, 'f1-score': 0.596654575212581, 'macro_f1-score': 0.3342872541801282, 'balanced_accuracy': 0.37920462822386813, 'mcc': 0.476509514717652, 'train_loss': 0.39678590811591324}\n",
      "Early stopping.\n",
      "\n",
      "[Fold 3]\n",
      "🚀 Using Word2Vec for data augmentation + under-sampling\n",
      "🔻 Under-sampling label 0: 2471 → 2000\n",
      "🔧 Augmenting label 1: 22 → 200 (+178)\n",
      "🔧 Augmenting label 2: 64 → 200 (+136)\n",
      "🔧 Augmenting label 3: 24 → 200 (+176)\n",
      "🔧 Augmenting label 4: 190 → 200 (+10)\n",
      "🔧 Augmenting label 5: 113 → 200 (+87)\n",
      "🔧 Augmenting label 6: 93 → 200 (+107)\n",
      "🔧 Augmenting label 7: 30 → 200 (+170)\n",
      "🔧 Augmenting label 8: 68 → 200 (+132)\n",
      "🔧 Augmenting label 9: 30 → 200 (+170)\n",
      "🔧 Augmenting label 10: 67 → 200 (+133)\n",
      "🔧 Augmenting label 11: 169 → 200 (+31)\n",
      "🔧 Augmenting label 12: 190 → 200 (+10)\n",
      "🔧 Augmenting label 13: 28 → 200 (+172)\n",
      "🔧 Augmenting label 14: 23 → 200 (+177)\n",
      "🔧 Augmenting label 15: 25 → 200 (+175)\n",
      "🔧 Augmenting label 16: 19 → 200 (+181)\n",
      "🔧 Augmenting label 17: 182 → 200 (+18)\n",
      "🔧 Augmenting label 18: 92 → 200 (+108)\n",
      "🔧 Augmenting label 19: 44 → 200 (+156)\n",
      "🔧 Augmenting label 20: 14 → 200 (+186)\n",
      "🔧 Augmenting label 21: 35 → 200 (+165)\n",
      "🔧 Augmenting label 22: 76 → 200 (+124)\n",
      "🔧 Augmenting label 23: 157 → 200 (+43)\n",
      "🔧 Augmenting label 24: 13 → 200 (+187)\n",
      "🔧 Augmenting label 25: 44 → 200 (+156)\n",
      "🔧 Augmenting label 26: 84 → 200 (+116)\n",
      "🔧 Augmenting label 27: 48 → 200 (+152)\n",
      "🔧 Augmenting label 28: 11 → 200 (+189)\n",
      "🔧 Augmenting label 29: 13 → 200 (+187)\n",
      "🔧 Augmenting label 30: 11 → 200 (+189)\n",
      "🔧 Augmenting label 31: 76 → 200 (+124)\n",
      "🔧 Augmenting label 32: 36 → 200 (+164)\n",
      "🔧 Augmenting label 33: 31 → 200 (+169)\n",
      "🔧 Augmenting label 34: 30 → 200 (+170)\n",
      "🔧 Augmenting label 35: 11 → 200 (+189)\n",
      "🔧 Augmenting label 36: 21 → 200 (+179)\n",
      "🔧 Augmenting label 37: 16 → 200 (+184)\n",
      "🔧 Augmenting label 38: 32 → 200 (+168)\n",
      "🔧 Augmenting label 39: 11 → 200 (+189)\n",
      "🔧 Augmenting label 40: 9 → 200 (+191)\n",
      "🔧 Augmenting label 41: 57 → 200 (+143)\n",
      "🔧 Augmenting label 42: 18 → 200 (+182)\n",
      "🔧 Augmenting label 43: 9 → 200 (+191)\n",
      "🔧 Augmenting label 44: 55 → 200 (+145)\n",
      "🔧 Augmenting label 46: 62 → 200 (+138)\n",
      "🔧 Augmenting label 47: 80 → 200 (+120)\n",
      "Label distribution after resampling:\n",
      "  label 0: 2000\n",
      "  label 1: 200\n",
      "  label 2: 200\n",
      "  label 3: 200\n",
      "  label 4: 200\n",
      "  label 5: 200\n",
      "  label 6: 200\n",
      "  label 7: 200\n",
      "  label 8: 200\n",
      "  label 9: 200\n",
      "  label 10: 200\n",
      "  label 11: 200\n",
      "  label 12: 200\n",
      "  label 13: 200\n",
      "  label 14: 200\n",
      "  label 15: 200\n",
      "  label 16: 200\n",
      "  label 17: 200\n",
      "  label 18: 200\n",
      "  label 19: 200\n",
      "  label 20: 200\n",
      "  label 21: 200\n",
      "  label 22: 200\n",
      "  label 23: 200\n",
      "  label 24: 200\n",
      "  label 25: 200\n",
      "  label 26: 200\n",
      "  label 27: 200\n",
      "  label 28: 200\n",
      "  label 29: 200\n",
      "  label 30: 200\n",
      "  label 31: 200\n",
      "  label 32: 200\n",
      "  label 33: 200\n",
      "  label 34: 200\n",
      "  label 35: 200\n",
      "  label 36: 200\n",
      "  label 37: 200\n",
      "  label 38: 200\n",
      "  label 39: 200\n",
      "  label 40: 200\n",
      "  label 41: 200\n",
      "  label 42: 200\n",
      "  label 43: 200\n",
      "  label 44: 200\n",
      "  label 45: 241\n",
      "  label 46: 200\n",
      "  label 47: 200\n",
      "model is roberta-base lstm\n"
     ]
    },
    {
     "name": "stderr",
     "output_type": "stream",
     "text": [
      "Some weights of RobertaModel were not initialized from the model checkpoint at roberta-base and are newly initialized: ['pooler.dense.bias', 'pooler.dense.weight']\n",
      "You should probably TRAIN this model on a down-stream task to be able to use it for predictions and inference.\n"
     ]
    },
    {
     "name": "stdout",
     "output_type": "stream",
     "text": [
      "Epoch 1/20\n"
     ]
    },
    {
     "name": "stderr",
     "output_type": "stream",
     "text": [
      "100%|██████████| 716/716 [01:05<00:00, 10.95it/s]\n"
     ]
    },
    {
     "name": "stdout",
     "output_type": "stream",
     "text": [
      "{'val_loss': 2.3325493364799312, 'val_accuracy': 0.45614035087719296, 'precision': 0.40217356896952705, 'recall': 0.45614035087719296, 'f1-score': 0.4076792970005105, 'macro_f1-score': 0.08610220594364647, 'balanced_accuracy': 0.1606753805400927, 'mcc': 0.2583626406310603, 'train_loss': 3.164589220918091}\n",
      "Epoch 2/20\n"
     ]
    },
    {
     "name": "stderr",
     "output_type": "stream",
     "text": [
      "100%|██████████| 716/716 [01:05<00:00, 10.97it/s]\n"
     ]
    },
    {
     "name": "stdout",
     "output_type": "stream",
     "text": [
      "{'val_loss': 1.9325243459969033, 'val_accuracy': 0.5026697177726926, 'precision': 0.5071283084086382, 'recall': 0.5026697177726926, 'f1-score': 0.47157228584110206, 'macro_f1-score': 0.20876156140114013, 'balanced_accuracy': 0.3045546572902282, 'mcc': 0.34002109932296604, 'train_loss': 2.2821524334270196}\n",
      "Epoch 3/20\n"
     ]
    },
    {
     "name": "stderr",
     "output_type": "stream",
     "text": [
      "100%|██████████| 716/716 [01:05<00:00, 10.98it/s]\n"
     ]
    },
    {
     "name": "stdout",
     "output_type": "stream",
     "text": [
      "{'val_loss': 2.054056175598284, 'val_accuracy': 0.4286803966437834, 'precision': 0.5409488658745318, 'recall': 0.4286803966437834, 'f1-score': 0.4582379687493523, 'macro_f1-score': 0.2340026483545229, 'balanced_accuracy': 0.3350896085270154, 'mcc': 0.3254711887564429, 'train_loss': 1.7738686746725156}\n",
      "Epoch 4/20\n"
     ]
    },
    {
     "name": "stderr",
     "output_type": "stream",
     "text": [
      "100%|██████████| 716/716 [01:05<00:00, 10.97it/s]\n"
     ]
    },
    {
     "name": "stdout",
     "output_type": "stream",
     "text": [
      "{'val_loss': 1.8206067764904441, 'val_accuracy': 0.5270785659801678, 'precision': 0.5798354636173263, 'recall': 0.5270785659801678, 'f1-score': 0.5313761376218182, 'macro_f1-score': 0.2833610726779745, 'balanced_accuracy': 0.3517364509309841, 'mcc': 0.40032402985342547, 'train_loss': 1.4674763388973375}\n",
      "Epoch 5/20\n"
     ]
    },
    {
     "name": "stderr",
     "output_type": "stream",
     "text": [
      "100%|██████████| 716/716 [01:05<00:00, 10.97it/s]\n"
     ]
    },
    {
     "name": "stdout",
     "output_type": "stream",
     "text": [
      "{'val_loss': 1.7563487164131024, 'val_accuracy': 0.5522501906941266, 'precision': 0.5683155716844784, 'recall': 0.5522501906941266, 'f1-score': 0.5467580359627199, 'macro_f1-score': 0.30453669848341763, 'balanced_accuracy': 0.35499374493523156, 'mcc': 0.417953485080043, 'train_loss': 1.1922359855731106}\n",
      "Epoch 6/20\n"
     ]
    },
    {
     "name": "stderr",
     "output_type": "stream",
     "text": [
      "100%|██████████| 716/716 [01:05<00:00, 10.99it/s]\n"
     ]
    },
    {
     "name": "stdout",
     "output_type": "stream",
     "text": [
      "{'val_loss': 1.802124221150468, 'val_accuracy': 0.5484363081617086, 'precision': 0.5816013952221234, 'recall': 0.5484363081617086, 'f1-score': 0.5441267232971058, 'macro_f1-score': 0.304775528712156, 'balanced_accuracy': 0.34419176266061946, 'mcc': 0.4074398273702026, 'train_loss': 0.996446344689284}\n",
      "Epoch 7/20\n"
     ]
    },
    {
     "name": "stderr",
     "output_type": "stream",
     "text": [
      "100%|██████████| 716/716 [01:05<00:00, 10.96it/s]\n"
     ]
    },
    {
     "name": "stdout",
     "output_type": "stream",
     "text": [
      "{'val_loss': 1.7153796135652355, 'val_accuracy': 0.5720823798627003, 'precision': 0.5902006139604545, 'recall': 0.5720823798627003, 'f1-score': 0.5677614943399851, 'macro_f1-score': 0.32374623274753267, 'balanced_accuracy': 0.3470641855602526, 'mcc': 0.4329326378024311, 'train_loss': 0.9028461325767986}\n",
      "Epoch 8/20\n"
     ]
    },
    {
     "name": "stderr",
     "output_type": "stream",
     "text": [
      "100%|██████████| 716/716 [01:05<00:00, 10.98it/s]\n"
     ]
    },
    {
     "name": "stdout",
     "output_type": "stream",
     "text": [
      "{'val_loss': 1.7641774888445692, 'val_accuracy': 0.5751334858886347, 'precision': 0.5888187329093157, 'recall': 0.5751334858886347, 'f1-score': 0.5742035168821977, 'macro_f1-score': 0.3374553632436872, 'balanced_accuracy': 0.36049955678709295, 'mcc': 0.44490529998941947, 'train_loss': 0.7856679028680538}\n",
      "Epoch 9/20\n"
     ]
    },
    {
     "name": "stderr",
     "output_type": "stream",
     "text": [
      "100%|██████████| 716/716 [01:05<00:00, 10.97it/s]\n"
     ]
    },
    {
     "name": "stdout",
     "output_type": "stream",
     "text": [
      "{'val_loss': 1.770333401677085, 'val_accuracy': 0.5659801678108314, 'precision': 0.5928154620111057, 'recall': 0.5659801678108314, 'f1-score': 0.5689721527517005, 'macro_f1-score': 0.3471566410870824, 'balanced_accuracy': 0.34268240436007114, 'mcc': 0.4309037655561251, 'train_loss': 0.7006275089218297}\n",
      "Epoch 10/20\n"
     ]
    },
    {
     "name": "stderr",
     "output_type": "stream",
     "text": [
      "100%|██████████| 716/716 [01:05<00:00, 10.96it/s]\n"
     ]
    },
    {
     "name": "stdout",
     "output_type": "stream",
     "text": [
      "{'val_loss': 1.8500801281231205, 'val_accuracy': 0.5652173913043478, 'precision': 0.6025747593361739, 'recall': 0.5652173913043478, 'f1-score': 0.5740462818984877, 'macro_f1-score': 0.3557902909792894, 'balanced_accuracy': 0.39567210611700493, 'mcc': 0.4442939754876427, 'train_loss': 0.7276579458240482}\n",
      "Epoch 11/20\n"
     ]
    },
    {
     "name": "stderr",
     "output_type": "stream",
     "text": [
      "100%|██████████| 716/716 [01:05<00:00, 10.99it/s]\n"
     ]
    },
    {
     "name": "stdout",
     "output_type": "stream",
     "text": [
      "{'val_loss': 1.8792262168192282, 'val_accuracy': 0.5789473684210527, 'precision': 0.6063481233309281, 'recall': 0.5789473684210527, 'f1-score': 0.5765800487577802, 'macro_f1-score': 0.3267073551050517, 'balanced_accuracy': 0.3500842219448745, 'mcc': 0.44668583039817294, 'train_loss': 0.5740084184344088}\n",
      "Epoch 12/20\n"
     ]
    },
    {
     "name": "stderr",
     "output_type": "stream",
     "text": [
      "100%|██████████| 716/716 [01:05<00:00, 10.96it/s]\n"
     ]
    },
    {
     "name": "stdout",
     "output_type": "stream",
     "text": [
      "{'val_loss': 1.8539999585326126, 'val_accuracy': 0.5873379099923722, 'precision': 0.5914182180573825, 'recall': 0.5873379099923722, 'f1-score': 0.5704690765267283, 'macro_f1-score': 0.34587221756849656, 'balanced_accuracy': 0.3611057489018241, 'mcc': 0.4414270146768494, 'train_loss': 0.5082944674318521}\n",
      "Epoch 13/20\n"
     ]
    },
    {
     "name": "stderr",
     "output_type": "stream",
     "text": [
      "100%|██████████| 716/716 [01:05<00:00, 10.99it/s]\n"
     ]
    },
    {
     "name": "stdout",
     "output_type": "stream",
     "text": [
      "{'val_loss': 1.8324766582468661, 'val_accuracy': 0.5797101449275363, 'precision': 0.5962085175046342, 'recall': 0.5797101449275363, 'f1-score': 0.5752335291196592, 'macro_f1-score': 0.33038583295924995, 'balanced_accuracy': 0.3537187603164574, 'mcc': 0.4492113132686567, 'train_loss': 0.5774456407229661}\n",
      "Early stopping.\n",
      "\n",
      "[Fold 4]\n",
      "🚀 Using Word2Vec for data augmentation + under-sampling\n",
      "🔻 Under-sampling label 0: 2471 → 2000\n",
      "🔧 Augmenting label 1: 22 → 200 (+178)\n",
      "🔧 Augmenting label 2: 64 → 200 (+136)\n",
      "🔧 Augmenting label 3: 24 → 200 (+176)\n",
      "🔧 Augmenting label 4: 190 → 200 (+10)\n",
      "🔧 Augmenting label 5: 113 → 200 (+87)\n",
      "🔧 Augmenting label 6: 93 → 200 (+107)\n",
      "🔧 Augmenting label 7: 31 → 200 (+169)\n",
      "🔧 Augmenting label 8: 68 → 200 (+132)\n",
      "🔧 Augmenting label 9: 29 → 200 (+171)\n",
      "🔧 Augmenting label 10: 67 → 200 (+133)\n",
      "🔧 Augmenting label 11: 169 → 200 (+31)\n",
      "🔧 Augmenting label 12: 190 → 200 (+10)\n",
      "🔧 Augmenting label 13: 29 → 200 (+171)\n",
      "🔧 Augmenting label 14: 22 → 200 (+178)\n",
      "🔧 Augmenting label 15: 25 → 200 (+175)\n",
      "🔧 Augmenting label 16: 19 → 200 (+181)\n",
      "🔧 Augmenting label 17: 182 → 200 (+18)\n",
      "🔧 Augmenting label 18: 92 → 200 (+108)\n",
      "🔧 Augmenting label 19: 44 → 200 (+156)\n",
      "🔧 Augmenting label 20: 14 → 200 (+186)\n",
      "🔧 Augmenting label 21: 35 → 200 (+165)\n",
      "🔧 Augmenting label 22: 76 → 200 (+124)\n",
      "🔧 Augmenting label 23: 158 → 200 (+42)\n",
      "🔧 Augmenting label 24: 13 → 200 (+187)\n",
      "🔧 Augmenting label 25: 44 → 200 (+156)\n",
      "🔧 Augmenting label 26: 84 → 200 (+116)\n",
      "🔧 Augmenting label 27: 48 → 200 (+152)\n",
      "🔧 Augmenting label 28: 11 → 200 (+189)\n",
      "🔧 Augmenting label 29: 13 → 200 (+187)\n",
      "🔧 Augmenting label 30: 11 → 200 (+189)\n",
      "🔧 Augmenting label 31: 75 → 200 (+125)\n",
      "🔧 Augmenting label 32: 36 → 200 (+164)\n",
      "🔧 Augmenting label 33: 31 → 200 (+169)\n",
      "🔧 Augmenting label 34: 30 → 200 (+170)\n",
      "🔧 Augmenting label 35: 11 → 200 (+189)\n",
      "🔧 Augmenting label 36: 22 → 200 (+178)\n",
      "🔧 Augmenting label 37: 16 → 200 (+184)\n",
      "🔧 Augmenting label 38: 33 → 200 (+167)\n",
      "🔧 Augmenting label 39: 10 → 200 (+190)\n",
      "🔧 Augmenting label 40: 9 → 200 (+191)\n",
      "🔧 Augmenting label 41: 56 → 200 (+144)\n",
      "🔧 Augmenting label 42: 18 → 200 (+182)\n",
      "🔧 Augmenting label 43: 9 → 200 (+191)\n",
      "🔧 Augmenting label 44: 55 → 200 (+145)\n",
      "🔧 Augmenting label 46: 62 → 200 (+138)\n",
      "🔧 Augmenting label 47: 80 → 200 (+120)\n",
      "Label distribution after resampling:\n",
      "  label 0: 2000\n",
      "  label 1: 200\n",
      "  label 2: 200\n",
      "  label 3: 200\n",
      "  label 4: 200\n",
      "  label 5: 200\n",
      "  label 6: 200\n",
      "  label 7: 200\n",
      "  label 8: 200\n",
      "  label 9: 200\n",
      "  label 10: 200\n",
      "  label 11: 200\n",
      "  label 12: 200\n",
      "  label 13: 200\n",
      "  label 14: 200\n",
      "  label 15: 200\n",
      "  label 16: 200\n",
      "  label 17: 200\n",
      "  label 18: 200\n",
      "  label 19: 200\n",
      "  label 20: 200\n",
      "  label 21: 200\n",
      "  label 22: 200\n",
      "  label 23: 200\n",
      "  label 24: 200\n",
      "  label 25: 200\n",
      "  label 26: 200\n",
      "  label 27: 200\n",
      "  label 28: 200\n",
      "  label 29: 200\n",
      "  label 30: 200\n",
      "  label 31: 200\n",
      "  label 32: 200\n",
      "  label 33: 200\n",
      "  label 34: 200\n",
      "  label 35: 200\n",
      "  label 36: 200\n",
      "  label 37: 200\n",
      "  label 38: 200\n",
      "  label 39: 200\n",
      "  label 40: 200\n",
      "  label 41: 200\n",
      "  label 42: 200\n",
      "  label 43: 200\n",
      "  label 44: 200\n",
      "  label 45: 241\n",
      "  label 46: 200\n",
      "  label 47: 200\n",
      "model is roberta-base lstm\n"
     ]
    },
    {
     "name": "stderr",
     "output_type": "stream",
     "text": [
      "Some weights of RobertaModel were not initialized from the model checkpoint at roberta-base and are newly initialized: ['pooler.dense.bias', 'pooler.dense.weight']\n",
      "You should probably TRAIN this model on a down-stream task to be able to use it for predictions and inference.\n"
     ]
    },
    {
     "name": "stdout",
     "output_type": "stream",
     "text": [
      "Epoch 1/20\n"
     ]
    },
    {
     "name": "stderr",
     "output_type": "stream",
     "text": [
      "100%|██████████| 716/716 [01:05<00:00, 10.95it/s]\n"
     ]
    },
    {
     "name": "stdout",
     "output_type": "stream",
     "text": [
      "{'val_loss': 2.358334154617496, 'val_accuracy': 0.475209763539283, 'precision': 0.3239321190948274, 'recall': 0.475209763539283, 'f1-score': 0.36454477786183326, 'macro_f1-score': 0.0687326003177794, 'balanced_accuracy': 0.10130980747395642, 'mcc': 0.20381837792068266, 'train_loss': 3.285229419196784}\n",
      "Epoch 2/20\n"
     ]
    },
    {
     "name": "stderr",
     "output_type": "stream",
     "text": [
      "100%|██████████| 716/716 [01:05<00:00, 10.98it/s]\n"
     ]
    },
    {
     "name": "stdout",
     "output_type": "stream",
     "text": [
      "{'val_loss': 1.9362939421723528, 'val_accuracy': 0.47368421052631576, 'precision': 0.417719198042095, 'recall': 0.47368421052631576, 'f1-score': 0.43059971897333327, 'macro_f1-score': 0.16989182911976072, 'balanced_accuracy': 0.26516549384089233, 'mcc': 0.2940579055244632, 'train_loss': 2.4987136855221994}\n",
      "Epoch 3/20\n"
     ]
    },
    {
     "name": "stderr",
     "output_type": "stream",
     "text": [
      "100%|██████████| 716/716 [01:05<00:00, 10.98it/s]\n"
     ]
    },
    {
     "name": "stdout",
     "output_type": "stream",
     "text": [
      "{'val_loss': 1.751767262452986, 'val_accuracy': 0.5270785659801678, 'precision': 0.5391531801626209, 'recall': 0.5270785659801678, 'f1-score': 0.5110352586447694, 'macro_f1-score': 0.26107981806515546, 'balanced_accuracy': 0.36380166083755205, 'mcc': 0.38267632018111125, 'train_loss': 1.889175716641895}\n",
      "Epoch 4/20\n"
     ]
    },
    {
     "name": "stderr",
     "output_type": "stream",
     "text": [
      "100%|██████████| 716/716 [01:05<00:00, 10.94it/s]\n"
     ]
    },
    {
     "name": "stdout",
     "output_type": "stream",
     "text": [
      "{'val_loss': 1.7140770598155697, 'val_accuracy': 0.509534706331045, 'precision': 0.5968508334349591, 'recall': 0.509534706331045, 'f1-score': 0.5272030426354831, 'macro_f1-score': 0.3051475267260377, 'balanced_accuracy': 0.39651567135772386, 'mcc': 0.39080166601499006, 'train_loss': 1.5025233833233738}\n",
      "Epoch 5/20\n"
     ]
    },
    {
     "name": "stderr",
     "output_type": "stream",
     "text": [
      "100%|██████████| 716/716 [01:05<00:00, 10.96it/s]\n"
     ]
    },
    {
     "name": "stdout",
     "output_type": "stream",
     "text": [
      "{'val_loss': 1.5748692481982998, 'val_accuracy': 0.5835240274599542, 'precision': 0.6267709824189884, 'recall': 0.5835240274599542, 'f1-score': 0.5778486193768473, 'macro_f1-score': 0.3552483059999824, 'balanced_accuracy': 0.4012447013302836, 'mcc': 0.4500490675135757, 'train_loss': 1.2182552741226538}\n",
      "Epoch 6/20\n"
     ]
    },
    {
     "name": "stderr",
     "output_type": "stream",
     "text": [
      "100%|██████████| 716/716 [01:05<00:00, 10.94it/s]\n"
     ]
    },
    {
     "name": "stdout",
     "output_type": "stream",
     "text": [
      "{'val_loss': 1.638477434108897, 'val_accuracy': 0.5522501906941266, 'precision': 0.5904889430616276, 'recall': 0.5522501906941266, 'f1-score': 0.5486181361843463, 'macro_f1-score': 0.309589105094684, 'balanced_accuracy': 0.34434274479891175, 'mcc': 0.4074633006323613, 'train_loss': 1.1117250792390807}\n",
      "Epoch 7/20\n"
     ]
    },
    {
     "name": "stderr",
     "output_type": "stream",
     "text": [
      "100%|██████████| 716/716 [01:05<00:00, 10.99it/s]\n"
     ]
    },
    {
     "name": "stdout",
     "output_type": "stream",
     "text": [
      "{'val_loss': 1.8004257162896597, 'val_accuracy': 0.5461479786422578, 'precision': 0.6037777837121199, 'recall': 0.5461479786422578, 'f1-score': 0.5515928296528785, 'macro_f1-score': 0.3079997536627797, 'balanced_accuracy': 0.36832544025998165, 'mcc': 0.4171108343309908, 'train_loss': 0.874299819555196}\n",
      "Epoch 8/20\n"
     ]
    },
    {
     "name": "stderr",
     "output_type": "stream",
     "text": [
      "100%|██████████| 716/716 [01:05<00:00, 10.96it/s]\n"
     ]
    },
    {
     "name": "stdout",
     "output_type": "stream",
     "text": [
      "{'val_loss': 1.604851105227703, 'val_accuracy': 0.5980167810831426, 'precision': 0.6204998680377488, 'recall': 0.5980167810831426, 'f1-score': 0.5879139762457519, 'macro_f1-score': 0.35912465997546045, 'balanced_accuracy': 0.38820913071190843, 'mcc': 0.46502445633541645, 'train_loss': 0.7696382740210721}\n",
      "Epoch 9/20\n"
     ]
    },
    {
     "name": "stderr",
     "output_type": "stream",
     "text": [
      "100%|██████████| 716/716 [01:05<00:00, 10.95it/s]\n"
     ]
    },
    {
     "name": "stdout",
     "output_type": "stream",
     "text": [
      "{'val_loss': 1.5361234792848912, 'val_accuracy': 0.6170861937452327, 'precision': 0.6403855283293902, 'recall': 0.6170861937452327, 'f1-score': 0.6194880436491798, 'macro_f1-score': 0.42398932017569674, 'balanced_accuracy': 0.4531349570721554, 'mcc': 0.5012504298358906, 'train_loss': 0.6761791662380682}\n",
      "Epoch 10/20\n"
     ]
    },
    {
     "name": "stderr",
     "output_type": "stream",
     "text": [
      "100%|██████████| 716/716 [01:05<00:00, 10.96it/s]\n"
     ]
    },
    {
     "name": "stdout",
     "output_type": "stream",
     "text": [
      "{'val_loss': 1.5373121165647738, 'val_accuracy': 0.6285278413424866, 'precision': 0.6351695447857715, 'recall': 0.6285278413424866, 'f1-score': 0.6212519066687008, 'macro_f1-score': 0.40697154757110865, 'balanced_accuracy': 0.43104374605663115, 'mcc': 0.5084447055106978, 'train_loss': 0.5979195670666975}\n",
      "Epoch 11/20\n"
     ]
    },
    {
     "name": "stderr",
     "output_type": "stream",
     "text": [
      "100%|██████████| 716/716 [01:05<00:00, 10.98it/s]\n"
     ]
    },
    {
     "name": "stdout",
     "output_type": "stream",
     "text": [
      "{'val_loss': 1.682530659001048, 'val_accuracy': 0.5980167810831426, 'precision': 0.6248143897540938, 'recall': 0.5980167810831426, 'f1-score': 0.5985815227697366, 'macro_f1-score': 0.37128578462281264, 'balanced_accuracy': 0.418068369615831, 'mcc': 0.4788541098851218, 'train_loss': 0.5035363566234458}\n",
      "Epoch 12/20\n"
     ]
    },
    {
     "name": "stderr",
     "output_type": "stream",
     "text": [
      "100%|██████████| 716/716 [01:05<00:00, 10.96it/s]\n"
     ]
    },
    {
     "name": "stdout",
     "output_type": "stream",
     "text": [
      "{'val_loss': 1.706825376828996, 'val_accuracy': 0.6018306636155606, 'precision': 0.6410796504018147, 'recall': 0.6018306636155606, 'f1-score': 0.6087598153687303, 'macro_f1-score': 0.39005729147180485, 'balanced_accuracy': 0.4150208903293731, 'mcc': 0.4943995084568015, 'train_loss': 0.44607078649790427}\n",
      "Early stopping.\n",
      "\n",
      "[Fold 5]\n",
      "🚀 Using Word2Vec for data augmentation + under-sampling\n",
      "🔻 Under-sampling label 0: 2472 → 2000\n",
      "🔧 Augmenting label 1: 21 → 200 (+179)\n",
      "🔧 Augmenting label 2: 64 → 200 (+136)\n",
      "🔧 Augmenting label 3: 24 → 200 (+176)\n",
      "🔧 Augmenting label 4: 191 → 200 (+9)\n",
      "🔧 Augmenting label 5: 112 → 200 (+88)\n",
      "🔧 Augmenting label 6: 92 → 200 (+108)\n",
      "🔧 Augmenting label 7: 31 → 200 (+169)\n",
      "🔧 Augmenting label 8: 68 → 200 (+132)\n",
      "🔧 Augmenting label 9: 29 → 200 (+171)\n",
      "🔧 Augmenting label 10: 68 → 200 (+132)\n",
      "🔧 Augmenting label 11: 168 → 200 (+32)\n",
      "🔧 Augmenting label 12: 190 → 200 (+10)\n",
      "🔧 Augmenting label 13: 29 → 200 (+171)\n",
      "🔧 Augmenting label 14: 22 → 200 (+178)\n",
      "🔧 Augmenting label 15: 25 → 200 (+175)\n",
      "🔧 Augmenting label 16: 19 → 200 (+181)\n",
      "🔧 Augmenting label 17: 183 → 200 (+17)\n",
      "🔧 Augmenting label 18: 92 → 200 (+108)\n",
      "🔧 Augmenting label 19: 44 → 200 (+156)\n",
      "🔧 Augmenting label 20: 14 → 200 (+186)\n",
      "🔧 Augmenting label 21: 35 → 200 (+165)\n",
      "🔧 Augmenting label 22: 76 → 200 (+124)\n",
      "🔧 Augmenting label 23: 158 → 200 (+42)\n",
      "🔧 Augmenting label 24: 13 → 200 (+187)\n",
      "🔧 Augmenting label 25: 44 → 200 (+156)\n",
      "🔧 Augmenting label 26: 84 → 200 (+116)\n",
      "🔧 Augmenting label 27: 48 → 200 (+152)\n",
      "🔧 Augmenting label 28: 11 → 200 (+189)\n",
      "🔧 Augmenting label 29: 13 → 200 (+187)\n",
      "🔧 Augmenting label 30: 11 → 200 (+189)\n",
      "🔧 Augmenting label 31: 75 → 200 (+125)\n",
      "🔧 Augmenting label 32: 36 → 200 (+164)\n",
      "🔧 Augmenting label 33: 31 → 200 (+169)\n",
      "🔧 Augmenting label 34: 30 → 200 (+170)\n",
      "🔧 Augmenting label 35: 11 → 200 (+189)\n",
      "🔧 Augmenting label 36: 22 → 200 (+178)\n",
      "🔧 Augmenting label 37: 16 → 200 (+184)\n",
      "🔧 Augmenting label 38: 33 → 200 (+167)\n",
      "🔧 Augmenting label 39: 10 → 200 (+190)\n",
      "🔧 Augmenting label 40: 9 → 200 (+191)\n",
      "🔧 Augmenting label 41: 57 → 200 (+143)\n",
      "🔧 Augmenting label 42: 18 → 200 (+182)\n",
      "🔧 Augmenting label 43: 9 → 200 (+191)\n",
      "🔧 Augmenting label 44: 54 → 200 (+146)\n",
      "🔧 Augmenting label 46: 61 → 200 (+139)\n",
      "🔧 Augmenting label 47: 80 → 200 (+120)\n",
      "Label distribution after resampling:\n",
      "  label 0: 2000\n",
      "  label 1: 200\n",
      "  label 2: 200\n",
      "  label 3: 200\n",
      "  label 4: 200\n",
      "  label 5: 200\n",
      "  label 6: 200\n",
      "  label 7: 200\n",
      "  label 8: 200\n",
      "  label 9: 200\n",
      "  label 10: 200\n",
      "  label 11: 200\n",
      "  label 12: 200\n",
      "  label 13: 200\n",
      "  label 14: 200\n",
      "  label 15: 200\n",
      "  label 16: 200\n",
      "  label 17: 200\n",
      "  label 18: 200\n",
      "  label 19: 200\n",
      "  label 20: 200\n",
      "  label 21: 200\n",
      "  label 22: 200\n",
      "  label 23: 200\n",
      "  label 24: 200\n",
      "  label 25: 200\n",
      "  label 26: 200\n",
      "  label 27: 200\n",
      "  label 28: 200\n",
      "  label 29: 200\n",
      "  label 30: 200\n",
      "  label 31: 200\n",
      "  label 32: 200\n",
      "  label 33: 200\n",
      "  label 34: 200\n",
      "  label 35: 200\n",
      "  label 36: 200\n",
      "  label 37: 200\n",
      "  label 38: 200\n",
      "  label 39: 200\n",
      "  label 40: 200\n",
      "  label 41: 200\n",
      "  label 42: 200\n",
      "  label 43: 200\n",
      "  label 44: 200\n",
      "  label 45: 242\n",
      "  label 46: 200\n",
      "  label 47: 200\n",
      "model is roberta-base lstm\n"
     ]
    },
    {
     "name": "stderr",
     "output_type": "stream",
     "text": [
      "Some weights of RobertaModel were not initialized from the model checkpoint at roberta-base and are newly initialized: ['pooler.dense.bias', 'pooler.dense.weight']\n",
      "You should probably TRAIN this model on a down-stream task to be able to use it for predictions and inference.\n"
     ]
    },
    {
     "name": "stdout",
     "output_type": "stream",
     "text": [
      "Epoch 1/20\n"
     ]
    },
    {
     "name": "stderr",
     "output_type": "stream",
     "text": [
      "100%|██████████| 716/716 [01:05<00:00, 10.95it/s]\n"
     ]
    },
    {
     "name": "stdout",
     "output_type": "stream",
     "text": [
      "{'val_loss': 1.8507809951537992, 'val_accuracy': 0.5255530129672006, 'precision': 0.4848573869089816, 'recall': 0.5255530129672006, 'f1-score': 0.4764097887790078, 'macro_f1-score': 0.21038808655812544, 'balanced_accuracy': 0.2984067198926595, 'mcc': 0.35546302320767814, 'train_loss': 2.7896688355746884}\n",
      "Epoch 2/20\n"
     ]
    },
    {
     "name": "stderr",
     "output_type": "stream",
     "text": [
      "100%|██████████| 716/716 [01:05<00:00, 10.98it/s]\n"
     ]
    },
    {
     "name": "stdout",
     "output_type": "stream",
     "text": [
      "{'val_loss': 1.7565705645375136, 'val_accuracy': 0.5415713196033562, 'precision': 0.5887865943344723, 'recall': 0.5415713196033562, 'f1-score': 0.5241293180692004, 'macro_f1-score': 0.2562236868589594, 'balanced_accuracy': 0.3387238931867838, 'mcc': 0.3953535760864205, 'train_loss': 1.8013991305198749}\n",
      "Epoch 3/20\n"
     ]
    },
    {
     "name": "stderr",
     "output_type": "stream",
     "text": [
      "100%|██████████| 716/716 [01:05<00:00, 10.96it/s]\n"
     ]
    },
    {
     "name": "stdout",
     "output_type": "stream",
     "text": [
      "{'val_loss': 1.630421593785286, 'val_accuracy': 0.562929061784897, 'precision': 0.6080336712109905, 'recall': 0.562929061784897, 'f1-score': 0.5657535546393758, 'macro_f1-score': 0.32371056906939066, 'balanced_accuracy': 0.3864043379866771, 'mcc': 0.4395468638947879, 'train_loss': 1.3516946899491316}\n",
      "Epoch 4/20\n"
     ]
    },
    {
     "name": "stderr",
     "output_type": "stream",
     "text": [
      "100%|██████████| 716/716 [01:05<00:00, 10.98it/s]\n"
     ]
    },
    {
     "name": "stdout",
     "output_type": "stream",
     "text": [
      "{'val_loss': 1.5938802910287206, 'val_accuracy': 0.593440122044241, 'precision': 0.6175305977859804, 'recall': 0.593440122044241, 'f1-score': 0.5935369058201948, 'macro_f1-score': 0.37438977125336015, 'balanced_accuracy': 0.4345113562897261, 'mcc': 0.48223573481151893, 'train_loss': 1.0427630314988463}\n",
      "Epoch 5/20\n"
     ]
    },
    {
     "name": "stderr",
     "output_type": "stream",
     "text": [
      "100%|██████████| 716/716 [01:05<00:00, 10.96it/s]\n"
     ]
    },
    {
     "name": "stdout",
     "output_type": "stream",
     "text": [
      "{'val_loss': 1.8329788170209744, 'val_accuracy': 0.5186880244088482, 'precision': 0.6299305099336477, 'recall': 0.5186880244088482, 'f1-score': 0.5467117034043214, 'macro_f1-score': 0.3141691727447582, 'balanced_accuracy': 0.42272781855608316, 'mcc': 0.4159067098286955, 'train_loss': 0.9094370766100603}\n",
      "Epoch 6/20\n"
     ]
    },
    {
     "name": "stderr",
     "output_type": "stream",
     "text": [
      "100%|██████████| 716/716 [01:05<00:00, 10.96it/s]\n"
     ]
    },
    {
     "name": "stdout",
     "output_type": "stream",
     "text": [
      "{'val_loss': 1.5871028687532356, 'val_accuracy': 0.5804729214340199, 'precision': 0.6153506836266444, 'recall': 0.5804729214340199, 'f1-score': 0.5794179861466402, 'macro_f1-score': 0.38933345721149837, 'balanced_accuracy': 0.43681328632691985, 'mcc': 0.46802607783413414, 'train_loss': 0.7635785834447548}\n",
      "Epoch 7/20\n"
     ]
    },
    {
     "name": "stderr",
     "output_type": "stream",
     "text": [
      "100%|██████████| 716/716 [01:05<00:00, 10.98it/s]\n"
     ]
    },
    {
     "name": "stdout",
     "output_type": "stream",
     "text": [
      "{'val_loss': 1.6666324667450858, 'val_accuracy': 0.6041189931350115, 'precision': 0.5993410522099634, 'recall': 0.6041189931350115, 'f1-score': 0.5870976920587391, 'macro_f1-score': 0.3648456604992767, 'balanced_accuracy': 0.37518501035978274, 'mcc': 0.47697979535210994, 'train_loss': 0.6113257152626718}\n",
      "Epoch 8/20\n"
     ]
    },
    {
     "name": "stderr",
     "output_type": "stream",
     "text": [
      "100%|██████████| 716/716 [01:05<00:00, 10.97it/s]\n"
     ]
    },
    {
     "name": "stdout",
     "output_type": "stream",
     "text": [
      "{'val_loss': 1.6021192680771759, 'val_accuracy': 0.6209000762776506, 'precision': 0.6032967541287381, 'recall': 0.6209000762776506, 'f1-score': 0.6023799038547613, 'macro_f1-score': 0.35999831291937495, 'balanced_accuracy': 0.3860452309409877, 'mcc': 0.49473562560996875, 'train_loss': 0.5776111646997613}\n",
      "Epoch 9/20\n"
     ]
    },
    {
     "name": "stderr",
     "output_type": "stream",
     "text": [
      "100%|██████████| 716/716 [01:05<00:00, 10.98it/s]\n"
     ]
    },
    {
     "name": "stdout",
     "output_type": "stream",
     "text": [
      "{'val_loss': 1.5550562292337418, 'val_accuracy': 0.6453089244851259, 'precision': 0.6281007271279883, 'recall': 0.6453089244851259, 'f1-score': 0.6235732508342808, 'macro_f1-score': 0.4145411549882603, 'balanced_accuracy': 0.3895494402587403, 'mcc': 0.5226782951147126, 'train_loss': 0.4813215673469298}\n",
      "Epoch 10/20\n"
     ]
    },
    {
     "name": "stderr",
     "output_type": "stream",
     "text": [
      "100%|██████████| 716/716 [01:05<00:00, 10.96it/s]\n"
     ]
    },
    {
     "name": "stdout",
     "output_type": "stream",
     "text": [
      "{'val_loss': 1.7192151582822568, 'val_accuracy': 0.5987795575896262, 'precision': 0.620443671640956, 'recall': 0.5987795575896262, 'f1-score': 0.5980546744038757, 'macro_f1-score': 0.3613062886149055, 'balanced_accuracy': 0.3649311447912494, 'mcc': 0.4820226292686038, 'train_loss': 0.39539412824260123}\n",
      "Epoch 11/20\n"
     ]
    },
    {
     "name": "stderr",
     "output_type": "stream",
     "text": [
      "100%|██████████| 716/716 [01:05<00:00, 10.98it/s]\n"
     ]
    },
    {
     "name": "stdout",
     "output_type": "stream",
     "text": [
      "{'val_loss': 1.7385128293095566, 'val_accuracy': 0.6117467581998475, 'precision': 0.6529321392788517, 'recall': 0.6117467581998475, 'f1-score': 0.6212429012977135, 'macro_f1-score': 0.3955942340090918, 'balanced_accuracy': 0.4253351815101139, 'mcc': 0.5169997968998626, 'train_loss': 0.37443514521020416}\n",
      "Epoch 12/20\n"
     ]
    },
    {
     "name": "stderr",
     "output_type": "stream",
     "text": [
      "100%|██████████| 716/716 [01:05<00:00, 10.98it/s]\n"
     ]
    },
    {
     "name": "stdout",
     "output_type": "stream",
     "text": [
      "{'val_loss': 1.7937371109316989, 'val_accuracy': 0.5964912280701754, 'precision': 0.6521129189925293, 'recall': 0.5964912280701754, 'f1-score': 0.6095262903675593, 'macro_f1-score': 0.42593371531025676, 'balanced_accuracy': 0.4450574685051217, 'mcc': 0.4963120160429681, 'train_loss': 0.31554391304832263}\n",
      "Epoch 13/20\n"
     ]
    },
    {
     "name": "stderr",
     "output_type": "stream",
     "text": [
      "100%|██████████| 716/716 [01:05<00:00, 10.94it/s]\n"
     ]
    },
    {
     "name": "stdout",
     "output_type": "stream",
     "text": [
      "{'val_loss': 1.7978610723483852, 'val_accuracy': 0.6292906178489702, 'precision': 0.6282831880533987, 'recall': 0.6292906178489702, 'f1-score': 0.6193696012821879, 'macro_f1-score': 0.39260820144788494, 'balanced_accuracy': 0.4021459922311119, 'mcc': 0.5160616505135747, 'train_loss': 0.3029187099862448}\n",
      "Epoch 14/20\n"
     ]
    },
    {
     "name": "stderr",
     "output_type": "stream",
     "text": [
      "100%|██████████| 716/716 [01:05<00:00, 10.98it/s]\n"
     ]
    },
    {
     "name": "stdout",
     "output_type": "stream",
     "text": [
      "{'val_loss': 1.8116282032030384, 'val_accuracy': 0.6193745232646835, 'precision': 0.6152449391458816, 'recall': 0.6193745232646835, 'f1-score': 0.6016834120563286, 'macro_f1-score': 0.3889058591483792, 'balanced_accuracy': 0.3746683288105877, 'mcc': 0.49062825114018593, 'train_loss': 0.3166730045627116}\n",
      "Epoch 15/20\n"
     ]
    },
    {
     "name": "stderr",
     "output_type": "stream",
     "text": [
      "100%|██████████| 716/716 [01:05<00:00, 10.96it/s]\n"
     ]
    },
    {
     "name": "stdout",
     "output_type": "stream",
     "text": [
      "{'val_loss': 1.8413210140495766, 'val_accuracy': 0.6285278413424866, 'precision': 0.6432257350011961, 'recall': 0.6285278413424866, 'f1-score': 0.6195543268092897, 'macro_f1-score': 0.38592491960436776, 'balanced_accuracy': 0.3784060429898754, 'mcc': 0.5110181615676485, 'train_loss': 0.26969482857661126}\n",
      "Early stopping.\n",
      "\n",
      " === roberta-base + lstm + word2vec Final 5-fold Cross-Validation Results ===\n",
      "val_loss: 1.9111\n",
      "val_accuracy: 0.5719\n",
      "precision: 0.5499\n",
      "recall: 0.5719\n",
      "f1-score: 0.5436\n",
      "macro_f1-score: 0.3211\n",
      "balanced_accuracy: 0.3486\n",
      "mcc: 0.4020\n",
      "train_loss: 1.1628\n",
      "total_seconds: 3911.0000\n",
      "total_time: 1 hrs 5 mins 11 secs\n",
      "▶ Running: roberta-base + bilstm + word2vec\n",
      "tokenizer is roberta-base\n",
      "Using device: cuda\n",
      "CUDA Available: True\n",
      "CUDA Device: NVIDIA GeForce RTX 5070 Ti\n",
      "Current GPU Memory Allocated: 1.33 GB\n",
      "Current GPU Memory Cached: 5.31 GB\n",
      "\n",
      "[Fold 1]\n",
      "🚀 Using Word2Vec for data augmentation + under-sampling\n",
      "🔻 Under-sampling label 0: 2471 → 2000\n",
      "🔧 Augmenting label 1: 21 → 200 (+179)\n",
      "🔧 Augmenting label 2: 64 → 200 (+136)\n",
      "🔧 Augmenting label 3: 24 → 200 (+176)\n",
      "🔧 Augmenting label 4: 191 → 200 (+9)\n",
      "🔧 Augmenting label 5: 113 → 200 (+87)\n",
      "🔧 Augmenting label 6: 93 → 200 (+107)\n",
      "🔧 Augmenting label 7: 30 → 200 (+170)\n",
      "🔧 Augmenting label 8: 68 → 200 (+132)\n",
      "🔧 Augmenting label 9: 30 → 200 (+170)\n",
      "🔧 Augmenting label 10: 67 → 200 (+133)\n",
      "🔧 Augmenting label 11: 169 → 200 (+31)\n",
      "🔧 Augmenting label 12: 189 → 200 (+11)\n",
      "🔧 Augmenting label 13: 29 → 200 (+171)\n",
      "🔧 Augmenting label 14: 22 → 200 (+178)\n",
      "🔧 Augmenting label 15: 25 → 200 (+175)\n",
      "🔧 Augmenting label 16: 19 → 200 (+181)\n",
      "🔧 Augmenting label 17: 183 → 200 (+17)\n",
      "🔧 Augmenting label 18: 92 → 200 (+108)\n",
      "🔧 Augmenting label 19: 44 → 200 (+156)\n",
      "🔧 Augmenting label 20: 13 → 200 (+187)\n",
      "🔧 Augmenting label 21: 35 → 200 (+165)\n",
      "🔧 Augmenting label 22: 76 → 200 (+124)\n",
      "🔧 Augmenting label 23: 158 → 200 (+42)\n",
      "🔧 Augmenting label 24: 13 → 200 (+187)\n",
      "🔧 Augmenting label 25: 44 → 200 (+156)\n",
      "🔧 Augmenting label 26: 84 → 200 (+116)\n",
      "🔧 Augmenting label 27: 48 → 200 (+152)\n",
      "🔧 Augmenting label 28: 11 → 200 (+189)\n",
      "🔧 Augmenting label 29: 13 → 200 (+187)\n",
      "🔧 Augmenting label 30: 11 → 200 (+189)\n",
      "🔧 Augmenting label 31: 75 → 200 (+125)\n",
      "🔧 Augmenting label 32: 36 → 200 (+164)\n",
      "🔧 Augmenting label 33: 32 → 200 (+168)\n",
      "🔧 Augmenting label 34: 29 → 200 (+171)\n",
      "🔧 Augmenting label 35: 11 → 200 (+189)\n",
      "🔧 Augmenting label 36: 22 → 200 (+178)\n",
      "🔧 Augmenting label 37: 16 → 200 (+184)\n",
      "🔧 Augmenting label 38: 33 → 200 (+167)\n",
      "🔧 Augmenting label 39: 10 → 200 (+190)\n",
      "🔧 Augmenting label 40: 9 → 200 (+191)\n",
      "🔧 Augmenting label 41: 57 → 200 (+143)\n",
      "🔧 Augmenting label 42: 19 → 200 (+181)\n",
      "🔧 Augmenting label 43: 8 → 200 (+192)\n",
      "🔧 Augmenting label 44: 54 → 200 (+146)\n",
      "🔧 Augmenting label 46: 61 → 200 (+139)\n",
      "🔧 Augmenting label 47: 80 → 200 (+120)\n",
      "Label distribution after resampling:\n",
      "  label 0: 2000\n",
      "  label 1: 200\n",
      "  label 2: 200\n",
      "  label 3: 200\n",
      "  label 4: 200\n",
      "  label 5: 200\n",
      "  label 6: 200\n",
      "  label 7: 200\n",
      "  label 8: 200\n",
      "  label 9: 200\n",
      "  label 10: 200\n",
      "  label 11: 200\n",
      "  label 12: 200\n",
      "  label 13: 200\n",
      "  label 14: 200\n",
      "  label 15: 200\n",
      "  label 16: 200\n",
      "  label 17: 200\n",
      "  label 18: 200\n",
      "  label 19: 200\n",
      "  label 20: 200\n",
      "  label 21: 200\n",
      "  label 22: 200\n",
      "  label 23: 200\n",
      "  label 24: 200\n",
      "  label 25: 200\n",
      "  label 26: 200\n",
      "  label 27: 200\n",
      "  label 28: 200\n",
      "  label 29: 200\n",
      "  label 30: 200\n",
      "  label 31: 200\n",
      "  label 32: 200\n",
      "  label 33: 200\n",
      "  label 34: 200\n",
      "  label 35: 200\n",
      "  label 36: 200\n",
      "  label 37: 200\n",
      "  label 38: 200\n",
      "  label 39: 200\n",
      "  label 40: 200\n",
      "  label 41: 200\n",
      "  label 42: 200\n",
      "  label 43: 200\n",
      "  label 44: 200\n",
      "  label 45: 242\n",
      "  label 46: 200\n",
      "  label 47: 200\n",
      "model is roberta-base bilstm\n"
     ]
    },
    {
     "name": "stderr",
     "output_type": "stream",
     "text": [
      "Some weights of RobertaModel were not initialized from the model checkpoint at roberta-base and are newly initialized: ['pooler.dense.bias', 'pooler.dense.weight']\n",
      "You should probably TRAIN this model on a down-stream task to be able to use it for predictions and inference.\n"
     ]
    },
    {
     "name": "stdout",
     "output_type": "stream",
     "text": [
      "Epoch 1/20\n"
     ]
    },
    {
     "name": "stderr",
     "output_type": "stream",
     "text": [
      "100%|██████████| 716/716 [01:07<00:00, 10.58it/s]\n"
     ]
    },
    {
     "name": "stdout",
     "output_type": "stream",
     "text": [
      "{'val_loss': 2.2154954977151826, 'val_accuracy': 0.47789634146341464, 'precision': 0.3786687026162348, 'recall': 0.47789634146341464, 'f1-score': 0.40167781846159883, 'macro_f1-score': 0.07902181265233484, 'balanced_accuracy': 0.1412011796109746, 'mcc': 0.2507700433020443, 'train_loss': 3.2018997652570627}\n",
      "Epoch 2/20\n"
     ]
    },
    {
     "name": "stderr",
     "output_type": "stream",
     "text": [
      "100%|██████████| 716/716 [01:07<00:00, 10.56it/s]\n"
     ]
    },
    {
     "name": "stdout",
     "output_type": "stream",
     "text": [
      "{'val_loss': 1.8698626720323794, 'val_accuracy': 0.5083841463414634, 'precision': 0.4798247492680437, 'recall': 0.5083841463414634, 'f1-score': 0.47070443366071135, 'macro_f1-score': 0.1952656362153247, 'balanced_accuracy': 0.2609332277206447, 'mcc': 0.32719892931212935, 'train_loss': 2.2141371128778884}\n",
      "Epoch 3/20\n"
     ]
    },
    {
     "name": "stderr",
     "output_type": "stream",
     "text": [
      "100%|██████████| 716/716 [01:08<00:00, 10.51it/s]\n"
     ]
    },
    {
     "name": "stdout",
     "output_type": "stream",
     "text": [
      "{'val_loss': 1.6853137543288672, 'val_accuracy': 0.569359756097561, 'precision': 0.5709933705170871, 'recall': 0.569359756097561, 'f1-score': 0.5350254782119156, 'macro_f1-score': 0.2693358878975969, 'balanced_accuracy': 0.29758189046595446, 'mcc': 0.4060322596245476, 'train_loss': 1.4968673589550916}\n",
      "Epoch 4/20\n"
     ]
    },
    {
     "name": "stderr",
     "output_type": "stream",
     "text": [
      "100%|██████████| 716/716 [01:07<00:00, 10.56it/s]\n"
     ]
    },
    {
     "name": "stdout",
     "output_type": "stream",
     "text": [
      "{'val_loss': 1.9340273592530228, 'val_accuracy': 0.4961890243902439, 'precision': 0.5824783595925537, 'recall': 0.4961890243902439, 'f1-score': 0.5156078563118324, 'macro_f1-score': 0.2574010431152625, 'balanced_accuracy': 0.3282115896582847, 'mcc': 0.3758261497162391, 'train_loss': 1.0770728966876781}\n",
      "Epoch 5/20\n"
     ]
    },
    {
     "name": "stderr",
     "output_type": "stream",
     "text": [
      "100%|██████████| 716/716 [01:08<00:00, 10.53it/s]\n"
     ]
    },
    {
     "name": "stdout",
     "output_type": "stream",
     "text": [
      "{'val_loss': 1.7151854267207587, 'val_accuracy': 0.5701219512195121, 'precision': 0.5746018854696594, 'recall': 0.5701219512195121, 'f1-score': 0.5606017124256724, 'macro_f1-score': 0.3117600641468112, 'balanced_accuracy': 0.3265543145525123, 'mcc': 0.42949681101046416, 'train_loss': 0.803633251003713}\n",
      "Epoch 6/20\n"
     ]
    },
    {
     "name": "stderr",
     "output_type": "stream",
     "text": [
      "100%|██████████| 716/716 [01:07<00:00, 10.59it/s]\n"
     ]
    },
    {
     "name": "stdout",
     "output_type": "stream",
     "text": [
      "{'val_loss': 1.8239231947355155, 'val_accuracy': 0.5952743902439024, 'precision': 0.5765713531393148, 'recall': 0.5952743902439024, 'f1-score': 0.5696088987695082, 'macro_f1-score': 0.30496729040085596, 'balanced_accuracy': 0.300507662894278, 'mcc': 0.4415813474518726, 'train_loss': 0.6239759684436273}\n",
      "Epoch 7/20\n"
     ]
    },
    {
     "name": "stderr",
     "output_type": "stream",
     "text": [
      "100%|██████████| 716/716 [01:07<00:00, 10.55it/s]\n"
     ]
    },
    {
     "name": "stdout",
     "output_type": "stream",
     "text": [
      "{'val_loss': 1.8419492506399386, 'val_accuracy': 0.5571646341463414, 'precision': 0.6134906136656201, 'recall': 0.5571646341463414, 'f1-score': 0.5682928854277096, 'macro_f1-score': 0.35730311801273545, 'balanced_accuracy': 0.3825514087333514, 'mcc': 0.44125966137576067, 'train_loss': 0.4805463546075385}\n",
      "Epoch 8/20\n"
     ]
    },
    {
     "name": "stderr",
     "output_type": "stream",
     "text": [
      "100%|██████████| 716/716 [01:07<00:00, 10.56it/s]\n"
     ]
    },
    {
     "name": "stdout",
     "output_type": "stream",
     "text": [
      "{'val_loss': 1.9301795697793729, 'val_accuracy': 0.5564024390243902, 'precision': 0.5873554661738905, 'recall': 0.5564024390243902, 'f1-score': 0.5595791909920576, 'macro_f1-score': 0.3548575584206696, 'balanced_accuracy': 0.400869711590885, 'mcc': 0.4335740401276944, 'train_loss': 0.41051662457305627}\n",
      "Epoch 9/20\n"
     ]
    },
    {
     "name": "stderr",
     "output_type": "stream",
     "text": [
      "100%|██████████| 716/716 [01:07<00:00, 10.56it/s]\n"
     ]
    },
    {
     "name": "stdout",
     "output_type": "stream",
     "text": [
      "{'val_loss': 1.9876010308905345, 'val_accuracy': 0.5846036585365854, 'precision': 0.6189138802499191, 'recall': 0.5846036585365854, 'f1-score': 0.5890077631274646, 'macro_f1-score': 0.3750818880813889, 'balanced_accuracy': 0.3909326622395004, 'mcc': 0.459203262431856, 'train_loss': 0.3600200486952158}\n",
      "Epoch 10/20\n"
     ]
    },
    {
     "name": "stderr",
     "output_type": "stream",
     "text": [
      "100%|██████████| 716/716 [01:07<00:00, 10.56it/s]\n"
     ]
    },
    {
     "name": "stdout",
     "output_type": "stream",
     "text": [
      "{'val_loss': 1.9720674833146536, 'val_accuracy': 0.5792682926829268, 'precision': 0.5999784384841612, 'recall': 0.5792682926829268, 'f1-score': 0.5798721496775723, 'macro_f1-score': 0.3473295316206528, 'balanced_accuracy': 0.36346470599281755, 'mcc': 0.4439172606198298, 'train_loss': 0.28699191439865607}\n",
      "Epoch 11/20\n"
     ]
    },
    {
     "name": "stderr",
     "output_type": "stream",
     "text": [
      "100%|██████████| 716/716 [01:07<00:00, 10.59it/s]\n"
     ]
    },
    {
     "name": "stdout",
     "output_type": "stream",
     "text": [
      "{'val_loss': 1.969889955731427, 'val_accuracy': 0.6067073170731707, 'precision': 0.6088173034770278, 'recall': 0.6067073170731707, 'f1-score': 0.5959447913011087, 'macro_f1-score': 0.36261332758834114, 'balanced_accuracy': 0.34861270324709404, 'mcc': 0.47174389037844966, 'train_loss': 0.24673237238995024}\n",
      "Epoch 12/20\n"
     ]
    },
    {
     "name": "stderr",
     "output_type": "stream",
     "text": [
      "100%|██████████| 716/716 [01:07<00:00, 10.55it/s]\n"
     ]
    },
    {
     "name": "stdout",
     "output_type": "stream",
     "text": [
      "{'val_loss': 2.1415465375999125, 'val_accuracy': 0.5746951219512195, 'precision': 0.6211838275653903, 'recall': 0.5746951219512195, 'f1-score': 0.5875810300031292, 'macro_f1-score': 0.3540440492463452, 'balanced_accuracy': 0.366116897479408, 'mcc': 0.461499964206295, 'train_loss': 0.21702912526579793}\n",
      "Early stopping.\n",
      "\n",
      "[Fold 2]\n",
      "🚀 Using Word2Vec for data augmentation + under-sampling\n",
      "🔻 Under-sampling label 0: 2471 → 2000\n",
      "🔧 Augmenting label 1: 22 → 200 (+178)\n",
      "🔧 Augmenting label 2: 64 → 200 (+136)\n",
      "🔧 Augmenting label 3: 24 → 200 (+176)\n",
      "🔧 Augmenting label 4: 190 → 200 (+10)\n",
      "🔧 Augmenting label 5: 113 → 200 (+87)\n",
      "🔧 Augmenting label 6: 93 → 200 (+107)\n",
      "🔧 Augmenting label 7: 30 → 200 (+170)\n",
      "🔧 Augmenting label 8: 68 → 200 (+132)\n",
      "🔧 Augmenting label 9: 30 → 200 (+170)\n",
      "🔧 Augmenting label 10: 67 → 200 (+133)\n",
      "🔧 Augmenting label 11: 169 → 200 (+31)\n",
      "🔧 Augmenting label 12: 189 → 200 (+11)\n",
      "🔧 Augmenting label 13: 29 → 200 (+171)\n",
      "🔧 Augmenting label 14: 23 → 200 (+177)\n",
      "🔧 Augmenting label 15: 24 → 200 (+176)\n",
      "🔧 Augmenting label 16: 20 → 200 (+180)\n",
      "🔧 Augmenting label 17: 182 → 200 (+18)\n",
      "🔧 Augmenting label 18: 92 → 200 (+108)\n",
      "🔧 Augmenting label 19: 44 → 200 (+156)\n",
      "🔧 Augmenting label 20: 13 → 200 (+187)\n",
      "🔧 Augmenting label 21: 36 → 200 (+164)\n",
      "🔧 Augmenting label 22: 76 → 200 (+124)\n",
      "🔧 Augmenting label 23: 157 → 200 (+43)\n",
      "🔧 Augmenting label 24: 12 → 200 (+188)\n",
      "🔧 Augmenting label 25: 44 → 200 (+156)\n",
      "🔧 Augmenting label 26: 84 → 200 (+116)\n",
      "🔧 Augmenting label 27: 48 → 200 (+152)\n",
      "🔧 Augmenting label 28: 12 → 200 (+188)\n",
      "🔧 Augmenting label 29: 12 → 200 (+188)\n",
      "🔧 Augmenting label 30: 12 → 200 (+188)\n",
      "🔧 Augmenting label 31: 75 → 200 (+125)\n",
      "🔧 Augmenting label 32: 36 → 200 (+164)\n",
      "🔧 Augmenting label 33: 31 → 200 (+169)\n",
      "🔧 Augmenting label 34: 29 → 200 (+171)\n",
      "🔧 Augmenting label 35: 12 → 200 (+188)\n",
      "🔧 Augmenting label 36: 21 → 200 (+179)\n",
      "🔧 Augmenting label 37: 16 → 200 (+184)\n",
      "🔧 Augmenting label 38: 33 → 200 (+167)\n",
      "🔧 Augmenting label 39: 11 → 200 (+189)\n",
      "🔧 Augmenting label 40: 8 → 200 (+192)\n",
      "🔧 Augmenting label 41: 57 → 200 (+143)\n",
      "🔧 Augmenting label 42: 19 → 200 (+181)\n",
      "🔧 Augmenting label 43: 9 → 200 (+191)\n",
      "🔧 Augmenting label 44: 54 → 200 (+146)\n",
      "🔧 Augmenting label 46: 62 → 200 (+138)\n",
      "🔧 Augmenting label 47: 80 → 200 (+120)\n",
      "Label distribution after resampling:\n",
      "  label 0: 2000\n",
      "  label 1: 200\n",
      "  label 2: 200\n",
      "  label 3: 200\n",
      "  label 4: 200\n",
      "  label 5: 200\n",
      "  label 6: 200\n",
      "  label 7: 200\n",
      "  label 8: 200\n",
      "  label 9: 200\n",
      "  label 10: 200\n",
      "  label 11: 200\n",
      "  label 12: 200\n",
      "  label 13: 200\n",
      "  label 14: 200\n",
      "  label 15: 200\n",
      "  label 16: 200\n",
      "  label 17: 200\n",
      "  label 18: 200\n",
      "  label 19: 200\n",
      "  label 20: 200\n",
      "  label 21: 200\n",
      "  label 22: 200\n",
      "  label 23: 200\n",
      "  label 24: 200\n",
      "  label 25: 200\n",
      "  label 26: 200\n",
      "  label 27: 200\n",
      "  label 28: 200\n",
      "  label 29: 200\n",
      "  label 30: 200\n",
      "  label 31: 200\n",
      "  label 32: 200\n",
      "  label 33: 200\n",
      "  label 34: 200\n",
      "  label 35: 200\n",
      "  label 36: 200\n",
      "  label 37: 200\n",
      "  label 38: 200\n",
      "  label 39: 200\n",
      "  label 40: 200\n",
      "  label 41: 200\n",
      "  label 42: 200\n",
      "  label 43: 200\n",
      "  label 44: 200\n",
      "  label 45: 242\n",
      "  label 46: 200\n",
      "  label 47: 200\n",
      "model is roberta-base bilstm\n"
     ]
    },
    {
     "name": "stderr",
     "output_type": "stream",
     "text": [
      "Some weights of RobertaModel were not initialized from the model checkpoint at roberta-base and are newly initialized: ['pooler.dense.bias', 'pooler.dense.weight']\n",
      "You should probably TRAIN this model on a down-stream task to be able to use it for predictions and inference.\n"
     ]
    },
    {
     "name": "stdout",
     "output_type": "stream",
     "text": [
      "Epoch 1/20\n"
     ]
    },
    {
     "name": "stderr",
     "output_type": "stream",
     "text": [
      "100%|██████████| 716/716 [01:07<00:00, 10.56it/s]\n"
     ]
    },
    {
     "name": "stdout",
     "output_type": "stream",
     "text": [
      "{'val_loss': 2.224754185211368, 'val_accuracy': 0.4057971014492754, 'precision': 0.43862068089665884, 'recall': 0.4057971014492754, 'f1-score': 0.3918466719335336, 'macro_f1-score': 0.15849439490584352, 'balanced_accuracy': 0.30901678036523633, 'mcc': 0.25270246688674175, 'train_loss': 2.900261430101022}\n",
      "Epoch 2/20\n"
     ]
    },
    {
     "name": "stderr",
     "output_type": "stream",
     "text": [
      "100%|██████████| 716/716 [01:07<00:00, 10.57it/s]\n"
     ]
    },
    {
     "name": "stdout",
     "output_type": "stream",
     "text": [
      "{'val_loss': 1.7095859952089263, 'val_accuracy': 0.5369946605644547, 'precision': 0.5833929060740467, 'recall': 0.5369946605644547, 'f1-score': 0.5196111769974296, 'macro_f1-score': 0.2649057457304009, 'balanced_accuracy': 0.3645306994456175, 'mcc': 0.38737320359803673, 'train_loss': 1.8285478676497604}\n",
      "Epoch 3/20\n"
     ]
    },
    {
     "name": "stderr",
     "output_type": "stream",
     "text": [
      "100%|██████████| 716/716 [01:07<00:00, 10.57it/s]\n"
     ]
    },
    {
     "name": "stdout",
     "output_type": "stream",
     "text": [
      "{'val_loss': 1.5927483083271399, 'val_accuracy': 0.5583524027459954, 'precision': 0.5904041882310946, 'recall': 0.5583524027459954, 'f1-score': 0.5530481199185578, 'macro_f1-score': 0.3075302522495566, 'balanced_accuracy': 0.3802884395487658, 'mcc': 0.4293408782324519, 'train_loss': 1.3130178278801161}\n",
      "Epoch 4/20\n"
     ]
    },
    {
     "name": "stderr",
     "output_type": "stream",
     "text": [
      "100%|██████████| 716/716 [01:07<00:00, 10.58it/s]\n"
     ]
    },
    {
     "name": "stdout",
     "output_type": "stream",
     "text": [
      "{'val_loss': 1.5425911792894689, 'val_accuracy': 0.6018306636155606, 'precision': 0.6138304553772568, 'recall': 0.6018306636155606, 'f1-score': 0.5957416084702232, 'macro_f1-score': 0.33921619545686515, 'balanced_accuracy': 0.38119268668280704, 'mcc': 0.47207037263733664, 'train_loss': 0.9120094348265472}\n",
      "Epoch 5/20\n"
     ]
    },
    {
     "name": "stderr",
     "output_type": "stream",
     "text": [
      "100%|██████████| 716/716 [01:07<00:00, 10.54it/s]\n"
     ]
    },
    {
     "name": "stdout",
     "output_type": "stream",
     "text": [
      "{'val_loss': 1.605826108920865, 'val_accuracy': 0.581998474446987, 'precision': 0.601648637656827, 'recall': 0.581998474446987, 'f1-score': 0.572708645835851, 'macro_f1-score': 0.31559300237675, 'balanced_accuracy': 0.3427957543222953, 'mcc': 0.4389652542784601, 'train_loss': 0.7213249054617722}\n",
      "Epoch 6/20\n"
     ]
    },
    {
     "name": "stderr",
     "output_type": "stream",
     "text": [
      "100%|██████████| 716/716 [01:07<00:00, 10.54it/s]\n"
     ]
    },
    {
     "name": "stdout",
     "output_type": "stream",
     "text": [
      "{'val_loss': 1.6023969664806272, 'val_accuracy': 0.5957284515636918, 'precision': 0.6247686964097555, 'recall': 0.5957284515636918, 'f1-score': 0.5989438100700881, 'macro_f1-score': 0.3634845839341498, 'balanced_accuracy': 0.41689694259938936, 'mcc': 0.47980306107788967, 'train_loss': 0.5400028015336011}\n",
      "Epoch 7/20\n"
     ]
    },
    {
     "name": "stderr",
     "output_type": "stream",
     "text": [
      "100%|██████████| 716/716 [01:07<00:00, 10.56it/s]\n"
     ]
    },
    {
     "name": "stdout",
     "output_type": "stream",
     "text": [
      "{'val_loss': 1.54770974960269, 'val_accuracy': 0.6247139588100686, 'precision': 0.6260560137723186, 'recall': 0.6247139588100686, 'f1-score': 0.6170793760268104, 'macro_f1-score': 0.38789004447768277, 'balanced_accuracy': 0.39211621456979967, 'mcc': 0.505274923476699, 'train_loss': 0.4287409180796096}\n",
      "Epoch 8/20\n"
     ]
    },
    {
     "name": "stderr",
     "output_type": "stream",
     "text": [
      "100%|██████████| 716/716 [01:07<00:00, 10.58it/s]\n"
     ]
    },
    {
     "name": "stdout",
     "output_type": "stream",
     "text": [
      "{'val_loss': 1.811087299047447, 'val_accuracy': 0.593440122044241, 'precision': 0.6135603685530092, 'recall': 0.593440122044241, 'f1-score': 0.5963466352880163, 'macro_f1-score': 0.33659891360284905, 'balanced_accuracy': 0.36253615701060515, 'mcc': 0.4706461625389568, 'train_loss': 0.3486589840119028}\n",
      "Epoch 9/20\n"
     ]
    },
    {
     "name": "stderr",
     "output_type": "stream",
     "text": [
      "100%|██████████| 716/716 [01:07<00:00, 10.58it/s]\n"
     ]
    },
    {
     "name": "stdout",
     "output_type": "stream",
     "text": [
      "{'val_loss': 1.644640178215213, 'val_accuracy': 0.6323417238749046, 'precision': 0.6315717069626634, 'recall': 0.6323417238749046, 'f1-score': 0.623675357425244, 'macro_f1-score': 0.376655189589351, 'balanced_accuracy': 0.39629182455059087, 'mcc': 0.5150340530039658, 'train_loss': 0.30876698753114934}\n",
      "Epoch 10/20\n"
     ]
    },
    {
     "name": "stderr",
     "output_type": "stream",
     "text": [
      "100%|██████████| 716/716 [01:07<00:00, 10.57it/s]\n"
     ]
    },
    {
     "name": "stdout",
     "output_type": "stream",
     "text": [
      "{'val_loss': 1.7608937286749118, 'val_accuracy': 0.6262395118230358, 'precision': 0.6223443467513067, 'recall': 0.6262395118230358, 'f1-score': 0.6188577218622553, 'macro_f1-score': 0.3747669951252635, 'balanced_accuracy': 0.38659358696668006, 'mcc': 0.5046252049790457, 'train_loss': 0.26494571210832113}\n",
      "Early stopping.\n",
      "\n",
      "[Fold 3]\n",
      "🚀 Using Word2Vec for data augmentation + under-sampling\n",
      "🔻 Under-sampling label 0: 2471 → 2000\n",
      "🔧 Augmenting label 1: 22 → 200 (+178)\n",
      "🔧 Augmenting label 2: 64 → 200 (+136)\n",
      "🔧 Augmenting label 3: 24 → 200 (+176)\n",
      "🔧 Augmenting label 4: 190 → 200 (+10)\n",
      "🔧 Augmenting label 5: 113 → 200 (+87)\n",
      "🔧 Augmenting label 6: 93 → 200 (+107)\n",
      "🔧 Augmenting label 7: 30 → 200 (+170)\n",
      "🔧 Augmenting label 8: 68 → 200 (+132)\n",
      "🔧 Augmenting label 9: 30 → 200 (+170)\n",
      "🔧 Augmenting label 10: 67 → 200 (+133)\n",
      "🔧 Augmenting label 11: 169 → 200 (+31)\n",
      "🔧 Augmenting label 12: 190 → 200 (+10)\n",
      "🔧 Augmenting label 13: 28 → 200 (+172)\n",
      "🔧 Augmenting label 14: 23 → 200 (+177)\n",
      "🔧 Augmenting label 15: 25 → 200 (+175)\n",
      "🔧 Augmenting label 16: 19 → 200 (+181)\n",
      "🔧 Augmenting label 17: 182 → 200 (+18)\n",
      "🔧 Augmenting label 18: 92 → 200 (+108)\n",
      "🔧 Augmenting label 19: 44 → 200 (+156)\n",
      "🔧 Augmenting label 20: 14 → 200 (+186)\n",
      "🔧 Augmenting label 21: 35 → 200 (+165)\n",
      "🔧 Augmenting label 22: 76 → 200 (+124)\n",
      "🔧 Augmenting label 23: 157 → 200 (+43)\n",
      "🔧 Augmenting label 24: 13 → 200 (+187)\n",
      "🔧 Augmenting label 25: 44 → 200 (+156)\n",
      "🔧 Augmenting label 26: 84 → 200 (+116)\n",
      "🔧 Augmenting label 27: 48 → 200 (+152)\n",
      "🔧 Augmenting label 28: 11 → 200 (+189)\n",
      "🔧 Augmenting label 29: 13 → 200 (+187)\n",
      "🔧 Augmenting label 30: 11 → 200 (+189)\n",
      "🔧 Augmenting label 31: 76 → 200 (+124)\n",
      "🔧 Augmenting label 32: 36 → 200 (+164)\n",
      "🔧 Augmenting label 33: 31 → 200 (+169)\n",
      "🔧 Augmenting label 34: 30 → 200 (+170)\n",
      "🔧 Augmenting label 35: 11 → 200 (+189)\n",
      "🔧 Augmenting label 36: 21 → 200 (+179)\n",
      "🔧 Augmenting label 37: 16 → 200 (+184)\n",
      "🔧 Augmenting label 38: 32 → 200 (+168)\n",
      "🔧 Augmenting label 39: 11 → 200 (+189)\n",
      "🔧 Augmenting label 40: 9 → 200 (+191)\n",
      "🔧 Augmenting label 41: 57 → 200 (+143)\n",
      "🔧 Augmenting label 42: 18 → 200 (+182)\n",
      "🔧 Augmenting label 43: 9 → 200 (+191)\n",
      "🔧 Augmenting label 44: 55 → 200 (+145)\n",
      "🔧 Augmenting label 46: 62 → 200 (+138)\n",
      "🔧 Augmenting label 47: 80 → 200 (+120)\n",
      "Label distribution after resampling:\n",
      "  label 0: 2000\n",
      "  label 1: 200\n",
      "  label 2: 200\n",
      "  label 3: 200\n",
      "  label 4: 200\n",
      "  label 5: 200\n",
      "  label 6: 200\n",
      "  label 7: 200\n",
      "  label 8: 200\n",
      "  label 9: 200\n",
      "  label 10: 200\n",
      "  label 11: 200\n",
      "  label 12: 200\n",
      "  label 13: 200\n",
      "  label 14: 200\n",
      "  label 15: 200\n",
      "  label 16: 200\n",
      "  label 17: 200\n",
      "  label 18: 200\n",
      "  label 19: 200\n",
      "  label 20: 200\n",
      "  label 21: 200\n",
      "  label 22: 200\n",
      "  label 23: 200\n",
      "  label 24: 200\n",
      "  label 25: 200\n",
      "  label 26: 200\n",
      "  label 27: 200\n",
      "  label 28: 200\n",
      "  label 29: 200\n",
      "  label 30: 200\n",
      "  label 31: 200\n",
      "  label 32: 200\n",
      "  label 33: 200\n",
      "  label 34: 200\n",
      "  label 35: 200\n",
      "  label 36: 200\n",
      "  label 37: 200\n",
      "  label 38: 200\n",
      "  label 39: 200\n",
      "  label 40: 200\n",
      "  label 41: 200\n",
      "  label 42: 200\n",
      "  label 43: 200\n",
      "  label 44: 200\n",
      "  label 45: 241\n",
      "  label 46: 200\n",
      "  label 47: 200\n",
      "model is roberta-base bilstm\n"
     ]
    },
    {
     "name": "stderr",
     "output_type": "stream",
     "text": [
      "Some weights of RobertaModel were not initialized from the model checkpoint at roberta-base and are newly initialized: ['pooler.dense.bias', 'pooler.dense.weight']\n",
      "You should probably TRAIN this model on a down-stream task to be able to use it for predictions and inference.\n"
     ]
    },
    {
     "name": "stdout",
     "output_type": "stream",
     "text": [
      "Epoch 1/20\n"
     ]
    },
    {
     "name": "stderr",
     "output_type": "stream",
     "text": [
      "100%|██████████| 716/716 [01:07<00:00, 10.54it/s]\n"
     ]
    },
    {
     "name": "stdout",
     "output_type": "stream",
     "text": [
      "{'val_loss': 1.8625730893960812, 'val_accuracy': 0.5270785659801678, 'precision': 0.4733083004700981, 'recall': 0.5270785659801678, 'f1-score': 0.45616989058082014, 'macro_f1-score': 0.1907385884853233, 'balanced_accuracy': 0.24185892374329965, 'mcc': 0.32861930903250264, 'train_loss': 2.8514088387262886}\n",
      "Epoch 2/20\n"
     ]
    },
    {
     "name": "stderr",
     "output_type": "stream",
     "text": [
      "100%|██████████| 716/716 [01:07<00:00, 10.54it/s]\n"
     ]
    },
    {
     "name": "stdout",
     "output_type": "stream",
     "text": [
      "{'val_loss': 1.6823155458380536, 'val_accuracy': 0.5347063310450039, 'precision': 0.5405152616701918, 'recall': 0.5347063310450039, 'f1-score': 0.514468258215839, 'macro_f1-score': 0.2722461416365166, 'balanced_accuracy': 0.3231083600156499, 'mcc': 0.38297883548796, 'train_loss': 1.6707611995535856}\n",
      "Epoch 3/20\n"
     ]
    },
    {
     "name": "stderr",
     "output_type": "stream",
     "text": [
      "100%|██████████| 716/716 [01:07<00:00, 10.56it/s]\n"
     ]
    },
    {
     "name": "stdout",
     "output_type": "stream",
     "text": [
      "{'val_loss': 1.6737324508225047, 'val_accuracy': 0.5499618611746758, 'precision': 0.594349206703766, 'recall': 0.5499618611746758, 'f1-score': 0.5500493147597281, 'macro_f1-score': 0.3286899182656882, 'balanced_accuracy': 0.3624620836323536, 'mcc': 0.4179811697051253, 'train_loss': 1.1147004976951875}\n",
      "Epoch 4/20\n"
     ]
    },
    {
     "name": "stderr",
     "output_type": "stream",
     "text": [
      "100%|██████████| 716/716 [01:07<00:00, 10.58it/s]\n"
     ]
    },
    {
     "name": "stdout",
     "output_type": "stream",
     "text": [
      "{'val_loss': 1.6489567262370413, 'val_accuracy': 0.581998474446987, 'precision': 0.6004365485260585, 'recall': 0.581998474446987, 'f1-score': 0.573177348022315, 'macro_f1-score': 0.34981000200477114, 'balanced_accuracy': 0.3710051990999883, 'mcc': 0.4479486825122549, 'train_loss': 0.820121855178442}\n",
      "Epoch 5/20\n"
     ]
    },
    {
     "name": "stderr",
     "output_type": "stream",
     "text": [
      "100%|██████████| 716/716 [01:07<00:00, 10.56it/s]\n"
     ]
    },
    {
     "name": "stdout",
     "output_type": "stream",
     "text": [
      "{'val_loss': 1.727020435580393, 'val_accuracy': 0.5736079328756675, 'precision': 0.5784555047074699, 'recall': 0.5736079328756675, 'f1-score': 0.5691453774506895, 'macro_f1-score': 0.3390567433345804, 'balanced_accuracy': 0.3471221027801174, 'mcc': 0.4451899098143813, 'train_loss': 0.624194566701544}\n",
      "Epoch 6/20\n"
     ]
    },
    {
     "name": "stderr",
     "output_type": "stream",
     "text": [
      "100%|██████████| 716/716 [01:07<00:00, 10.57it/s]\n"
     ]
    },
    {
     "name": "stdout",
     "output_type": "stream",
     "text": [
      "{'val_loss': 1.7643734274840936, 'val_accuracy': 0.581998474446987, 'precision': 0.6078959831192178, 'recall': 0.581998474446987, 'f1-score': 0.587234893092077, 'macro_f1-score': 0.3750214999164683, 'balanced_accuracy': 0.3851862594818563, 'mcc': 0.45686356098786984, 'train_loss': 0.4885051344422488}\n",
      "Epoch 7/20\n"
     ]
    },
    {
     "name": "stderr",
     "output_type": "stream",
     "text": [
      "100%|██████████| 716/716 [01:07<00:00, 10.54it/s]\n"
     ]
    },
    {
     "name": "stdout",
     "output_type": "stream",
     "text": [
      "{'val_loss': 1.823752992036866, 'val_accuracy': 0.5621662852784134, 'precision': 0.6161782783168277, 'recall': 0.5621662852784134, 'f1-score': 0.5790835953579672, 'macro_f1-score': 0.342416466164267, 'balanced_accuracy': 0.34699227567670793, 'mcc': 0.4445588279816846, 'train_loss': 0.3797105449413121}\n",
      "Epoch 8/20\n"
     ]
    },
    {
     "name": "stderr",
     "output_type": "stream",
     "text": [
      "100%|██████████| 716/716 [01:07<00:00, 10.57it/s]\n"
     ]
    },
    {
     "name": "stdout",
     "output_type": "stream",
     "text": [
      "{'val_loss': 1.7964588443680507, 'val_accuracy': 0.6170861937452327, 'precision': 0.6172238792235621, 'recall': 0.6170861937452327, 'f1-score': 0.6064973442844785, 'macro_f1-score': 0.3544202051059992, 'balanced_accuracy': 0.34905187277351984, 'mcc': 0.4881379419431981, 'train_loss': 0.30181632650360546}\n",
      "Epoch 9/20\n"
     ]
    },
    {
     "name": "stderr",
     "output_type": "stream",
     "text": [
      "100%|██████████| 716/716 [01:07<00:00, 10.58it/s]\n"
     ]
    },
    {
     "name": "stdout",
     "output_type": "stream",
     "text": [
      "{'val_loss': 1.8750461252724253, 'val_accuracy': 0.5980167810831426, 'precision': 0.6090552270101379, 'recall': 0.5980167810831426, 'f1-score': 0.5946152422753544, 'macro_f1-score': 0.3606455081307958, 'balanced_accuracy': 0.3556749926317781, 'mcc': 0.47772189732752246, 'train_loss': 0.2609675954728174}\n",
      "Early stopping.\n",
      "\n",
      "[Fold 4]\n",
      "🚀 Using Word2Vec for data augmentation + under-sampling\n",
      "🔻 Under-sampling label 0: 2471 → 2000\n",
      "🔧 Augmenting label 1: 22 → 200 (+178)\n",
      "🔧 Augmenting label 2: 64 → 200 (+136)\n",
      "🔧 Augmenting label 3: 24 → 200 (+176)\n",
      "🔧 Augmenting label 4: 190 → 200 (+10)\n",
      "🔧 Augmenting label 5: 113 → 200 (+87)\n",
      "🔧 Augmenting label 6: 93 → 200 (+107)\n",
      "🔧 Augmenting label 7: 31 → 200 (+169)\n",
      "🔧 Augmenting label 8: 68 → 200 (+132)\n",
      "🔧 Augmenting label 9: 29 → 200 (+171)\n",
      "🔧 Augmenting label 10: 67 → 200 (+133)\n",
      "🔧 Augmenting label 11: 169 → 200 (+31)\n",
      "🔧 Augmenting label 12: 190 → 200 (+10)\n",
      "🔧 Augmenting label 13: 29 → 200 (+171)\n",
      "🔧 Augmenting label 14: 22 → 200 (+178)\n",
      "🔧 Augmenting label 15: 25 → 200 (+175)\n",
      "🔧 Augmenting label 16: 19 → 200 (+181)\n",
      "🔧 Augmenting label 17: 182 → 200 (+18)\n",
      "🔧 Augmenting label 18: 92 → 200 (+108)\n",
      "🔧 Augmenting label 19: 44 → 200 (+156)\n",
      "🔧 Augmenting label 20: 14 → 200 (+186)\n",
      "🔧 Augmenting label 21: 35 → 200 (+165)\n",
      "🔧 Augmenting label 22: 76 → 200 (+124)\n",
      "🔧 Augmenting label 23: 158 → 200 (+42)\n",
      "🔧 Augmenting label 24: 13 → 200 (+187)\n",
      "🔧 Augmenting label 25: 44 → 200 (+156)\n",
      "🔧 Augmenting label 26: 84 → 200 (+116)\n",
      "🔧 Augmenting label 27: 48 → 200 (+152)\n",
      "🔧 Augmenting label 28: 11 → 200 (+189)\n",
      "🔧 Augmenting label 29: 13 → 200 (+187)\n",
      "🔧 Augmenting label 30: 11 → 200 (+189)\n",
      "🔧 Augmenting label 31: 75 → 200 (+125)\n",
      "🔧 Augmenting label 32: 36 → 200 (+164)\n",
      "🔧 Augmenting label 33: 31 → 200 (+169)\n",
      "🔧 Augmenting label 34: 30 → 200 (+170)\n",
      "🔧 Augmenting label 35: 11 → 200 (+189)\n",
      "🔧 Augmenting label 36: 22 → 200 (+178)\n",
      "🔧 Augmenting label 37: 16 → 200 (+184)\n",
      "🔧 Augmenting label 38: 33 → 200 (+167)\n",
      "🔧 Augmenting label 39: 10 → 200 (+190)\n",
      "🔧 Augmenting label 40: 9 → 200 (+191)\n",
      "🔧 Augmenting label 41: 56 → 200 (+144)\n",
      "🔧 Augmenting label 42: 18 → 200 (+182)\n",
      "🔧 Augmenting label 43: 9 → 200 (+191)\n",
      "🔧 Augmenting label 44: 55 → 200 (+145)\n",
      "🔧 Augmenting label 46: 62 → 200 (+138)\n",
      "🔧 Augmenting label 47: 80 → 200 (+120)\n",
      "Label distribution after resampling:\n",
      "  label 0: 2000\n",
      "  label 1: 200\n",
      "  label 2: 200\n",
      "  label 3: 200\n",
      "  label 4: 200\n",
      "  label 5: 200\n",
      "  label 6: 200\n",
      "  label 7: 200\n",
      "  label 8: 200\n",
      "  label 9: 200\n",
      "  label 10: 200\n",
      "  label 11: 200\n",
      "  label 12: 200\n",
      "  label 13: 200\n",
      "  label 14: 200\n",
      "  label 15: 200\n",
      "  label 16: 200\n",
      "  label 17: 200\n",
      "  label 18: 200\n",
      "  label 19: 200\n",
      "  label 20: 200\n",
      "  label 21: 200\n",
      "  label 22: 200\n",
      "  label 23: 200\n",
      "  label 24: 200\n",
      "  label 25: 200\n",
      "  label 26: 200\n",
      "  label 27: 200\n",
      "  label 28: 200\n",
      "  label 29: 200\n",
      "  label 30: 200\n",
      "  label 31: 200\n",
      "  label 32: 200\n",
      "  label 33: 200\n",
      "  label 34: 200\n",
      "  label 35: 200\n",
      "  label 36: 200\n",
      "  label 37: 200\n",
      "  label 38: 200\n",
      "  label 39: 200\n",
      "  label 40: 200\n",
      "  label 41: 200\n",
      "  label 42: 200\n",
      "  label 43: 200\n",
      "  label 44: 200\n",
      "  label 45: 241\n",
      "  label 46: 200\n",
      "  label 47: 200\n",
      "model is roberta-base bilstm\n"
     ]
    },
    {
     "name": "stderr",
     "output_type": "stream",
     "text": [
      "Some weights of RobertaModel were not initialized from the model checkpoint at roberta-base and are newly initialized: ['pooler.dense.bias', 'pooler.dense.weight']\n",
      "You should probably TRAIN this model on a down-stream task to be able to use it for predictions and inference.\n"
     ]
    },
    {
     "name": "stdout",
     "output_type": "stream",
     "text": [
      "Epoch 1/20\n"
     ]
    },
    {
     "name": "stderr",
     "output_type": "stream",
     "text": [
      "100%|██████████| 716/716 [01:07<00:00, 10.54it/s]\n"
     ]
    },
    {
     "name": "stdout",
     "output_type": "stream",
     "text": [
      "{'val_loss': 1.8515698698962606, 'val_accuracy': 0.5225019069412662, 'precision': 0.47957162685582444, 'recall': 0.5225019069412662, 'f1-score': 0.4780897833699677, 'macro_f1-score': 0.22232612985423783, 'balanced_accuracy': 0.29144430333192317, 'mcc': 0.3516156559816971, 'train_loss': 2.7897351986869086}\n",
      "Epoch 2/20\n"
     ]
    },
    {
     "name": "stderr",
     "output_type": "stream",
     "text": [
      "100%|██████████| 716/716 [01:07<00:00, 10.57it/s]\n"
     ]
    },
    {
     "name": "stdout",
     "output_type": "stream",
     "text": [
      "{'val_loss': 1.6131765675253984, 'val_accuracy': 0.5644546147978642, 'precision': 0.5787775469823836, 'recall': 0.5644546147978642, 'f1-score': 0.5466875316251554, 'macro_f1-score': 0.3046804969039556, 'balanced_accuracy': 0.3634308822906867, 'mcc': 0.42042469459509346, 'train_loss': 1.6917360972758777}\n",
      "Epoch 3/20\n"
     ]
    },
    {
     "name": "stderr",
     "output_type": "stream",
     "text": [
      "100%|██████████| 716/716 [01:07<00:00, 10.55it/s]\n"
     ]
    },
    {
     "name": "stdout",
     "output_type": "stream",
     "text": [
      "{'val_loss': 1.7208573004094565, 'val_accuracy': 0.5392829900839055, 'precision': 0.6344315032495352, 'recall': 0.5392829900839055, 'f1-score': 0.5557106289444567, 'macro_f1-score': 0.3217137910175952, 'balanced_accuracy': 0.4091873943207623, 'mcc': 0.4334341381629065, 'train_loss': 1.1639226940590577}\n",
      "Epoch 4/20\n"
     ]
    },
    {
     "name": "stderr",
     "output_type": "stream",
     "text": [
      "100%|██████████| 716/716 [01:07<00:00, 10.58it/s]\n"
     ]
    },
    {
     "name": "stdout",
     "output_type": "stream",
     "text": [
      "{'val_loss': 1.5319030453882567, 'val_accuracy': 0.5942028985507246, 'precision': 0.5859338225126993, 'recall': 0.5942028985507246, 'f1-score': 0.577326915544994, 'macro_f1-score': 0.33772530774894055, 'balanced_accuracy': 0.3629166670109827, 'mcc': 0.4546289126484726, 'train_loss': 0.8392674261964234}\n",
      "Epoch 5/20\n"
     ]
    },
    {
     "name": "stderr",
     "output_type": "stream",
     "text": [
      "100%|██████████| 716/716 [01:07<00:00, 10.56it/s]\n"
     ]
    },
    {
     "name": "stdout",
     "output_type": "stream",
     "text": [
      "{'val_loss': 1.6114719542788296, 'val_accuracy': 0.5995423340961098, 'precision': 0.6064472603979065, 'recall': 0.5995423340961098, 'f1-score': 0.5933341845356265, 'macro_f1-score': 0.34403694894963865, 'balanced_accuracy': 0.37191039547849236, 'mcc': 0.47001006704398335, 'train_loss': 0.6516849362920949}\n",
      "Epoch 6/20\n"
     ]
    },
    {
     "name": "stderr",
     "output_type": "stream",
     "text": [
      "100%|██████████| 716/716 [01:07<00:00, 10.57it/s]\n"
     ]
    },
    {
     "name": "stdout",
     "output_type": "stream",
     "text": [
      "{'val_loss': 1.6685985519391735, 'val_accuracy': 0.5949656750572082, 'precision': 0.6160500266739314, 'recall': 0.5949656750572082, 'f1-score': 0.6008440022542753, 'macro_f1-score': 0.35495691482376435, 'balanced_accuracy': 0.38296239995247566, 'mcc': 0.47695720256506463, 'train_loss': 0.5437910047271315}\n",
      "Epoch 7/20\n"
     ]
    },
    {
     "name": "stderr",
     "output_type": "stream",
     "text": [
      "100%|██████████| 716/716 [01:07<00:00, 10.59it/s]\n"
     ]
    },
    {
     "name": "stdout",
     "output_type": "stream",
     "text": [
      "{'val_loss': 1.6919657170045665, 'val_accuracy': 0.6056445461479787, 'precision': 0.6278916188062625, 'recall': 0.6056445461479787, 'f1-score': 0.6047251609652877, 'macro_f1-score': 0.35329273510949166, 'balanced_accuracy': 0.38000964292553646, 'mcc': 0.48440454310671194, 'train_loss': 0.41607062988420274}\n",
      "Epoch 8/20\n"
     ]
    },
    {
     "name": "stderr",
     "output_type": "stream",
     "text": [
      "100%|██████████| 716/716 [01:07<00:00, 10.53it/s]\n"
     ]
    },
    {
     "name": "stdout",
     "output_type": "stream",
     "text": [
      "{'val_loss': 1.804640613314582, 'val_accuracy': 0.6209000762776506, 'precision': 0.6427890020223778, 'recall': 0.6209000762776506, 'f1-score': 0.62697561165724, 'macro_f1-score': 0.3608112853586564, 'balanced_accuracy': 0.3909848100653594, 'mcc': 0.5125767051763658, 'train_loss': 0.3324353492288075}\n",
      "Epoch 9/20\n"
     ]
    },
    {
     "name": "stderr",
     "output_type": "stream",
     "text": [
      "100%|██████████| 716/716 [01:07<00:00, 10.59it/s]\n"
     ]
    },
    {
     "name": "stdout",
     "output_type": "stream",
     "text": [
      "{'val_loss': 1.8610215579591147, 'val_accuracy': 0.5995423340961098, 'precision': 0.6378992149860224, 'recall': 0.5995423340961098, 'f1-score': 0.6100944038074444, 'macro_f1-score': 0.3613743046996152, 'balanced_accuracy': 0.39046225337579804, 'mcc': 0.4889807087355802, 'train_loss': 0.30550665671380456}\n",
      "Epoch 10/20\n"
     ]
    },
    {
     "name": "stderr",
     "output_type": "stream",
     "text": [
      "100%|██████████| 716/716 [01:07<00:00, 10.56it/s]\n"
     ]
    },
    {
     "name": "stdout",
     "output_type": "stream",
     "text": [
      "{'val_loss': 1.8192686852885456, 'val_accuracy': 0.6292906178489702, 'precision': 0.6386660517707694, 'recall': 0.6292906178489702, 'f1-score': 0.6302527994830857, 'macro_f1-score': 0.38379341535209965, 'balanced_accuracy': 0.4002733690782035, 'mcc': 0.519725188850028, 'train_loss': 0.26712878330027967}\n",
      "Epoch 11/20\n"
     ]
    },
    {
     "name": "stderr",
     "output_type": "stream",
     "text": [
      "100%|██████████| 716/716 [01:07<00:00, 10.57it/s]\n"
     ]
    },
    {
     "name": "stdout",
     "output_type": "stream",
     "text": [
      "{'val_loss': 1.998033188465165, 'val_accuracy': 0.6018306636155606, 'precision': 0.6318693026080899, 'recall': 0.6018306636155606, 'f1-score': 0.6095181967242763, 'macro_f1-score': 0.37268174874587406, 'balanced_accuracy': 0.4094423532966476, 'mcc': 0.49532468878739644, 'train_loss': 0.24315710044491973}\n",
      "Epoch 12/20\n"
     ]
    },
    {
     "name": "stderr",
     "output_type": "stream",
     "text": [
      "100%|██████████| 716/716 [01:07<00:00, 10.59it/s]\n"
     ]
    },
    {
     "name": "stdout",
     "output_type": "stream",
     "text": [
      "{'val_loss': 1.9660861873772086, 'val_accuracy': 0.6071700991609459, 'precision': 0.6301717959482566, 'recall': 0.6071700991609459, 'f1-score': 0.6098792453692141, 'macro_f1-score': 0.36160684271061744, 'balanced_accuracy': 0.37949591701617386, 'mcc': 0.4914225123239756, 'train_loss': 0.21360284888560171}\n",
      "Epoch 13/20\n"
     ]
    },
    {
     "name": "stderr",
     "output_type": "stream",
     "text": [
      "100%|██████████| 716/716 [01:08<00:00, 10.50it/s]\n"
     ]
    },
    {
     "name": "stdout",
     "output_type": "stream",
     "text": [
      "{'val_loss': 1.7965313952370752, 'val_accuracy': 0.6399694889397407, 'precision': 0.6376803606796964, 'recall': 0.6399694889397407, 'f1-score': 0.6327946325267421, 'macro_f1-score': 0.38894505052590284, 'balanced_accuracy': 0.4153724820361055, 'mcc': 0.5221737601463157, 'train_loss': 0.19581541578368644}\n",
      "Epoch 14/20\n"
     ]
    },
    {
     "name": "stderr",
     "output_type": "stream",
     "text": [
      "100%|██████████| 716/716 [01:07<00:00, 10.56it/s]\n"
     ]
    },
    {
     "name": "stdout",
     "output_type": "stream",
     "text": [
      "{'val_loss': 2.0463325101427916, 'val_accuracy': 0.6506483600305111, 'precision': 0.6549836809317527, 'recall': 0.6506483600305111, 'f1-score': 0.6418704861701715, 'macro_f1-score': 0.39858617653730644, 'balanced_accuracy': 0.4068670850516569, 'mcc': 0.5327181620258417, 'train_loss': 0.16312240960151894}\n",
      "Epoch 15/20\n"
     ]
    },
    {
     "name": "stderr",
     "output_type": "stream",
     "text": [
      "100%|██████████| 716/716 [01:07<00:00, 10.56it/s]\n"
     ]
    },
    {
     "name": "stdout",
     "output_type": "stream",
     "text": [
      "{'val_loss': 1.9454364496760252, 'val_accuracy': 0.6170861937452327, 'precision': 0.6329720441783689, 'recall': 0.6170861937452327, 'f1-score': 0.6179931928391664, 'macro_f1-score': 0.37848002960330634, 'balanced_accuracy': 0.39353478760754895, 'mcc': 0.5046109564930775, 'train_loss': 0.20550663119010296}\n",
      "Epoch 16/20\n"
     ]
    },
    {
     "name": "stderr",
     "output_type": "stream",
     "text": [
      "100%|██████████| 716/716 [01:07<00:00, 10.55it/s]\n"
     ]
    },
    {
     "name": "stdout",
     "output_type": "stream",
     "text": [
      "{'val_loss': 2.032122189315354, 'val_accuracy': 0.6399694889397407, 'precision': 0.6369262659839436, 'recall': 0.6399694889397407, 'f1-score': 0.6344520144317666, 'macro_f1-score': 0.3968776723443619, 'balanced_accuracy': 0.4152372467018893, 'mcc': 0.5325115106284856, 'train_loss': 0.13944371469909397}\n",
      "Epoch 17/20\n"
     ]
    },
    {
     "name": "stderr",
     "output_type": "stream",
     "text": [
      "100%|██████████| 716/716 [01:07<00:00, 10.60it/s]\n"
     ]
    },
    {
     "name": "stdout",
     "output_type": "stream",
     "text": [
      "{'val_loss': 2.0204933362036215, 'val_accuracy': 0.6453089244851259, 'precision': 0.6467383828625511, 'recall': 0.6453089244851259, 'f1-score': 0.6332670718451557, 'macro_f1-score': 0.39195541079354834, 'balanced_accuracy': 0.37479822122437895, 'mcc': 0.5203793969231099, 'train_loss': 0.1253971845085873}\n",
      "Early stopping.\n",
      "\n",
      "[Fold 5]\n",
      "🚀 Using Word2Vec for data augmentation + under-sampling\n",
      "🔻 Under-sampling label 0: 2472 → 2000\n",
      "🔧 Augmenting label 1: 21 → 200 (+179)\n",
      "🔧 Augmenting label 2: 64 → 200 (+136)\n",
      "🔧 Augmenting label 3: 24 → 200 (+176)\n",
      "🔧 Augmenting label 4: 191 → 200 (+9)\n",
      "🔧 Augmenting label 5: 112 → 200 (+88)\n",
      "🔧 Augmenting label 6: 92 → 200 (+108)\n",
      "🔧 Augmenting label 7: 31 → 200 (+169)\n",
      "🔧 Augmenting label 8: 68 → 200 (+132)\n",
      "🔧 Augmenting label 9: 29 → 200 (+171)\n",
      "🔧 Augmenting label 10: 68 → 200 (+132)\n",
      "🔧 Augmenting label 11: 168 → 200 (+32)\n",
      "🔧 Augmenting label 12: 190 → 200 (+10)\n",
      "🔧 Augmenting label 13: 29 → 200 (+171)\n",
      "🔧 Augmenting label 14: 22 → 200 (+178)\n",
      "🔧 Augmenting label 15: 25 → 200 (+175)\n",
      "🔧 Augmenting label 16: 19 → 200 (+181)\n",
      "🔧 Augmenting label 17: 183 → 200 (+17)\n",
      "🔧 Augmenting label 18: 92 → 200 (+108)\n",
      "🔧 Augmenting label 19: 44 → 200 (+156)\n",
      "🔧 Augmenting label 20: 14 → 200 (+186)\n",
      "🔧 Augmenting label 21: 35 → 200 (+165)\n",
      "🔧 Augmenting label 22: 76 → 200 (+124)\n",
      "🔧 Augmenting label 23: 158 → 200 (+42)\n",
      "🔧 Augmenting label 24: 13 → 200 (+187)\n",
      "🔧 Augmenting label 25: 44 → 200 (+156)\n",
      "🔧 Augmenting label 26: 84 → 200 (+116)\n",
      "🔧 Augmenting label 27: 48 → 200 (+152)\n",
      "🔧 Augmenting label 28: 11 → 200 (+189)\n",
      "🔧 Augmenting label 29: 13 → 200 (+187)\n",
      "🔧 Augmenting label 30: 11 → 200 (+189)\n",
      "🔧 Augmenting label 31: 75 → 200 (+125)\n",
      "🔧 Augmenting label 32: 36 → 200 (+164)\n",
      "🔧 Augmenting label 33: 31 → 200 (+169)\n",
      "🔧 Augmenting label 34: 30 → 200 (+170)\n",
      "🔧 Augmenting label 35: 11 → 200 (+189)\n",
      "🔧 Augmenting label 36: 22 → 200 (+178)\n",
      "🔧 Augmenting label 37: 16 → 200 (+184)\n",
      "🔧 Augmenting label 38: 33 → 200 (+167)\n",
      "🔧 Augmenting label 39: 10 → 200 (+190)\n",
      "🔧 Augmenting label 40: 9 → 200 (+191)\n",
      "🔧 Augmenting label 41: 57 → 200 (+143)\n",
      "🔧 Augmenting label 42: 18 → 200 (+182)\n",
      "🔧 Augmenting label 43: 9 → 200 (+191)\n",
      "🔧 Augmenting label 44: 54 → 200 (+146)\n",
      "🔧 Augmenting label 46: 61 → 200 (+139)\n",
      "🔧 Augmenting label 47: 80 → 200 (+120)\n",
      "Label distribution after resampling:\n",
      "  label 0: 2000\n",
      "  label 1: 200\n",
      "  label 2: 200\n",
      "  label 3: 200\n",
      "  label 4: 200\n",
      "  label 5: 200\n",
      "  label 6: 200\n",
      "  label 7: 200\n",
      "  label 8: 200\n",
      "  label 9: 200\n",
      "  label 10: 200\n",
      "  label 11: 200\n",
      "  label 12: 200\n",
      "  label 13: 200\n",
      "  label 14: 200\n",
      "  label 15: 200\n",
      "  label 16: 200\n",
      "  label 17: 200\n",
      "  label 18: 200\n",
      "  label 19: 200\n",
      "  label 20: 200\n",
      "  label 21: 200\n",
      "  label 22: 200\n",
      "  label 23: 200\n",
      "  label 24: 200\n",
      "  label 25: 200\n",
      "  label 26: 200\n",
      "  label 27: 200\n",
      "  label 28: 200\n",
      "  label 29: 200\n",
      "  label 30: 200\n",
      "  label 31: 200\n",
      "  label 32: 200\n",
      "  label 33: 200\n",
      "  label 34: 200\n",
      "  label 35: 200\n",
      "  label 36: 200\n",
      "  label 37: 200\n",
      "  label 38: 200\n",
      "  label 39: 200\n",
      "  label 40: 200\n",
      "  label 41: 200\n",
      "  label 42: 200\n",
      "  label 43: 200\n",
      "  label 44: 200\n",
      "  label 45: 242\n",
      "  label 46: 200\n",
      "  label 47: 200\n",
      "model is roberta-base bilstm\n"
     ]
    },
    {
     "name": "stderr",
     "output_type": "stream",
     "text": [
      "Some weights of RobertaModel were not initialized from the model checkpoint at roberta-base and are newly initialized: ['pooler.dense.bias', 'pooler.dense.weight']\n",
      "You should probably TRAIN this model on a down-stream task to be able to use it for predictions and inference.\n"
     ]
    },
    {
     "name": "stdout",
     "output_type": "stream",
     "text": [
      "Epoch 1/20\n"
     ]
    },
    {
     "name": "stderr",
     "output_type": "stream",
     "text": [
      "100%|██████████| 716/716 [01:07<00:00, 10.54it/s]\n"
     ]
    },
    {
     "name": "stdout",
     "output_type": "stream",
     "text": [
      "{'val_loss': 2.5934948979354484, 'val_accuracy': 0.4073226544622426, 'precision': 0.3378410786834734, 'recall': 0.4073226544622426, 'f1-score': 0.36568164604179987, 'macro_f1-score': 0.03177228150143808, 'balanced_accuracy': 0.06650300679666028, 'mcc': 0.20426634388736806, 'train_loss': 3.4297766122738076}\n",
      "Epoch 2/20\n"
     ]
    },
    {
     "name": "stderr",
     "output_type": "stream",
     "text": [
      "100%|██████████| 716/716 [01:07<00:00, 10.56it/s]\n"
     ]
    },
    {
     "name": "stdout",
     "output_type": "stream",
     "text": [
      "{'val_loss': 2.8317392715593663, 'val_accuracy': 0.4416475972540046, 'precision': 0.2790421879849744, 'recall': 0.4416475972540046, 'f1-score': 0.33982400024742093, 'macro_f1-score': 0.03216619796595609, 'balanced_accuracy': 0.074590351740372, 'mcc': 0.1645148627735279, 'train_loss': 3.1894296850572084}\n",
      "Epoch 3/20\n"
     ]
    },
    {
     "name": "stderr",
     "output_type": "stream",
     "text": [
      "100%|██████████| 716/716 [01:07<00:00, 10.58it/s]\n"
     ]
    },
    {
     "name": "stdout",
     "output_type": "stream",
     "text": [
      "{'val_loss': 2.820747401656174, 'val_accuracy': 0.47368421052631576, 'precision': 0.2463489321454604, 'recall': 0.47368421052631576, 'f1-score': 0.3238139888869801, 'macro_f1-score': 0.02614293394377677, 'balanced_accuracy': 0.044555120355363464, 'mcc': 0.13028875382859761, 'train_loss': 3.5221929999703137}\n",
      "Epoch 4/20\n"
     ]
    },
    {
     "name": "stderr",
     "output_type": "stream",
     "text": [
      "100%|██████████| 716/716 [01:07<00:00, 10.55it/s]\n"
     ]
    },
    {
     "name": "stdout",
     "output_type": "stream",
     "text": [
      "{'val_loss': 2.8593838912684744, 'val_accuracy': 0.47139588100686497, 'precision': 0.22370461762947186, 'recall': 0.47139588100686497, 'f1-score': 0.30335534917279444, 'macro_f1-score': 0.01584771480244, 'balanced_accuracy': 0.0234375, 'mcc': 0.03863857807640776, 'train_loss': 3.5857634614299796}\n",
      "Epoch 5/20\n"
     ]
    },
    {
     "name": "stderr",
     "output_type": "stream",
     "text": [
      "100%|██████████| 716/716 [01:07<00:00, 10.59it/s]\n"
     ]
    },
    {
     "name": "stdout",
     "output_type": "stream",
     "text": [
      "{'val_loss': 2.878971237961839, 'val_accuracy': 0.47063310450038137, 'precision': 0.2214955190516669, 'recall': 0.47063310450038137, 'f1-score': 0.3012247152248292, 'macro_f1-score': 0.013334197786998616, 'balanced_accuracy': 0.020833333333333332, 'mcc': 0.0, 'train_loss': 3.6243804966271256}\n",
      "Early stopping.\n",
      "\n",
      " === roberta-base + bilstm + word2vec Final 5-fold Cross-Validation Results ===\n",
      "val_loss: 2.0356\n",
      "val_accuracy: 0.5767\n",
      "precision: 0.5574\n",
      "recall: 0.5767\n",
      "f1-score: 0.5550\n",
      "macro_f1-score: 0.3137\n",
      "balanced_accuracy: 0.3299\n",
      "mcc: 0.4237\n",
      "train_loss: 0.9260\n",
      "total_seconds: 3779.0000\n",
      "total_time: 1 hrs 2 mins 59 secs\n",
      "▶ Running: microsoft/deberta-base + plain + word2vec\n",
      "tokenizer is microsoft/deberta-base\n",
      "Using device: cuda\n",
      "CUDA Available: True\n",
      "CUDA Device: NVIDIA GeForce RTX 5070 Ti\n",
      "Current GPU Memory Allocated: 1.33 GB\n",
      "Current GPU Memory Cached: 5.31 GB\n",
      "\n",
      "[Fold 1]\n",
      "🚀 Using Word2Vec for data augmentation + under-sampling\n",
      "🔻 Under-sampling label 0: 2471 → 2000\n",
      "🔧 Augmenting label 1: 21 → 200 (+179)\n",
      "🔧 Augmenting label 2: 64 → 200 (+136)\n",
      "🔧 Augmenting label 3: 24 → 200 (+176)\n",
      "🔧 Augmenting label 4: 191 → 200 (+9)\n",
      "🔧 Augmenting label 5: 113 → 200 (+87)\n",
      "🔧 Augmenting label 6: 93 → 200 (+107)\n",
      "🔧 Augmenting label 7: 30 → 200 (+170)\n",
      "🔧 Augmenting label 8: 68 → 200 (+132)\n",
      "🔧 Augmenting label 9: 30 → 200 (+170)\n",
      "🔧 Augmenting label 10: 67 → 200 (+133)\n",
      "🔧 Augmenting label 11: 169 → 200 (+31)\n",
      "🔧 Augmenting label 12: 189 → 200 (+11)\n",
      "🔧 Augmenting label 13: 29 → 200 (+171)\n",
      "🔧 Augmenting label 14: 22 → 200 (+178)\n",
      "🔧 Augmenting label 15: 25 → 200 (+175)\n",
      "🔧 Augmenting label 16: 19 → 200 (+181)\n",
      "🔧 Augmenting label 17: 183 → 200 (+17)\n",
      "🔧 Augmenting label 18: 92 → 200 (+108)\n",
      "🔧 Augmenting label 19: 44 → 200 (+156)\n",
      "🔧 Augmenting label 20: 13 → 200 (+187)\n",
      "🔧 Augmenting label 21: 35 → 200 (+165)\n",
      "🔧 Augmenting label 22: 76 → 200 (+124)\n",
      "🔧 Augmenting label 23: 158 → 200 (+42)\n",
      "🔧 Augmenting label 24: 13 → 200 (+187)\n",
      "🔧 Augmenting label 25: 44 → 200 (+156)\n",
      "🔧 Augmenting label 26: 84 → 200 (+116)\n",
      "🔧 Augmenting label 27: 48 → 200 (+152)\n",
      "🔧 Augmenting label 28: 11 → 200 (+189)\n",
      "🔧 Augmenting label 29: 13 → 200 (+187)\n",
      "🔧 Augmenting label 30: 11 → 200 (+189)\n",
      "🔧 Augmenting label 31: 75 → 200 (+125)\n",
      "🔧 Augmenting label 32: 36 → 200 (+164)\n",
      "🔧 Augmenting label 33: 32 → 200 (+168)\n",
      "🔧 Augmenting label 34: 29 → 200 (+171)\n",
      "🔧 Augmenting label 35: 11 → 200 (+189)\n",
      "🔧 Augmenting label 36: 22 → 200 (+178)\n",
      "🔧 Augmenting label 37: 16 → 200 (+184)\n",
      "🔧 Augmenting label 38: 33 → 200 (+167)\n",
      "🔧 Augmenting label 39: 10 → 200 (+190)\n",
      "🔧 Augmenting label 40: 9 → 200 (+191)\n",
      "🔧 Augmenting label 41: 57 → 200 (+143)\n",
      "🔧 Augmenting label 42: 19 → 200 (+181)\n",
      "🔧 Augmenting label 43: 8 → 200 (+192)\n",
      "🔧 Augmenting label 44: 54 → 200 (+146)\n",
      "🔧 Augmenting label 46: 61 → 200 (+139)\n",
      "🔧 Augmenting label 47: 80 → 200 (+120)\n",
      "Label distribution after resampling:\n",
      "  label 0: 2000\n",
      "  label 1: 200\n",
      "  label 2: 200\n",
      "  label 3: 200\n",
      "  label 4: 200\n",
      "  label 5: 200\n",
      "  label 6: 200\n",
      "  label 7: 200\n",
      "  label 8: 200\n",
      "  label 9: 200\n",
      "  label 10: 200\n",
      "  label 11: 200\n",
      "  label 12: 200\n",
      "  label 13: 200\n",
      "  label 14: 200\n",
      "  label 15: 200\n",
      "  label 16: 200\n",
      "  label 17: 200\n",
      "  label 18: 200\n",
      "  label 19: 200\n",
      "  label 20: 200\n",
      "  label 21: 200\n",
      "  label 22: 200\n",
      "  label 23: 200\n",
      "  label 24: 200\n",
      "  label 25: 200\n",
      "  label 26: 200\n",
      "  label 27: 200\n",
      "  label 28: 200\n",
      "  label 29: 200\n",
      "  label 30: 200\n",
      "  label 31: 200\n",
      "  label 32: 200\n",
      "  label 33: 200\n",
      "  label 34: 200\n",
      "  label 35: 200\n",
      "  label 36: 200\n",
      "  label 37: 200\n",
      "  label 38: 200\n",
      "  label 39: 200\n",
      "  label 40: 200\n",
      "  label 41: 200\n",
      "  label 42: 200\n",
      "  label 43: 200\n",
      "  label 44: 200\n",
      "  label 45: 242\n",
      "  label 46: 200\n",
      "  label 47: 200\n",
      "model is microsoft/deberta-base\n"
     ]
    },
    {
     "name": "stderr",
     "output_type": "stream",
     "text": [
      "Some weights of DebertaForSequenceClassification were not initialized from the model checkpoint at microsoft/deberta-base and are newly initialized: ['classifier.bias', 'classifier.weight', 'pooler.dense.bias', 'pooler.dense.weight']\n",
      "You should probably TRAIN this model on a down-stream task to be able to use it for predictions and inference.\n"
     ]
    },
    {
     "name": "stdout",
     "output_type": "stream",
     "text": [
      "Epoch 1/20\n"
     ]
    },
    {
     "name": "stderr",
     "output_type": "stream",
     "text": [
      "100%|██████████| 716/716 [01:13<00:00,  9.76it/s]\n"
     ]
    },
    {
     "name": "stdout",
     "output_type": "stream",
     "text": [
      "{'val_loss': 1.744098465253667, 'val_accuracy': 0.5670731707317073, 'precision': 0.5327774033200602, 'recall': 0.5670731707317073, 'f1-score': 0.5006480727127575, 'macro_f1-score': 0.269118486885144, 'balanced_accuracy': 0.24502407136784546, 'mcc': 0.36635367811364816, 'train_loss': 2.1864304440980518}\n",
      "Epoch 2/20\n"
     ]
    },
    {
     "name": "stderr",
     "output_type": "stream",
     "text": [
      "100%|██████████| 716/716 [01:13<00:00,  9.81it/s]\n"
     ]
    },
    {
     "name": "stdout",
     "output_type": "stream",
     "text": [
      "{'val_loss': 1.6292079705290679, 'val_accuracy': 0.555640243902439, 'precision': 0.5970607624875481, 'recall': 0.555640243902439, 'f1-score': 0.552933820404973, 'macro_f1-score': 0.34795026189034467, 'balanced_accuracy': 0.39231187443678533, 'mcc': 0.42923849347548376, 'train_loss': 0.7854023369434993}\n",
      "Epoch 3/20\n"
     ]
    },
    {
     "name": "stderr",
     "output_type": "stream",
     "text": [
      "100%|██████████| 716/716 [01:13<00:00,  9.81it/s]\n"
     ]
    },
    {
     "name": "stdout",
     "output_type": "stream",
     "text": [
      "{'val_loss': 1.7358342490908576, 'val_accuracy': 0.6310975609756098, 'precision': 0.622971546407134, 'recall': 0.6310975609756098, 'f1-score': 0.6035898743748765, 'macro_f1-score': 0.379723822329144, 'balanced_accuracy': 0.3826646903376291, 'mcc': 0.4930383029907402, 'train_loss': 0.40621779236796846}\n",
      "Epoch 4/20\n"
     ]
    },
    {
     "name": "stderr",
     "output_type": "stream",
     "text": [
      "100%|██████████| 716/716 [01:13<00:00,  9.80it/s]\n"
     ]
    },
    {
     "name": "stdout",
     "output_type": "stream",
     "text": [
      "{'val_loss': 1.8947561688539458, 'val_accuracy': 0.6227134146341463, 'precision': 0.6216269877320321, 'recall': 0.6227134146341463, 'f1-score': 0.6023766668325654, 'macro_f1-score': 0.3928588672307603, 'balanced_accuracy': 0.38266305747267076, 'mcc': 0.47967535067682454, 'train_loss': 0.24857580233053123}\n",
      "Epoch 5/20\n"
     ]
    },
    {
     "name": "stderr",
     "output_type": "stream",
     "text": [
      "100%|██████████| 716/716 [01:13<00:00,  9.80it/s]\n"
     ]
    },
    {
     "name": "stdout",
     "output_type": "stream",
     "text": [
      "{'val_loss': 1.817978808792626, 'val_accuracy': 0.5975609756097561, 'precision': 0.5967337644913449, 'recall': 0.5975609756097561, 'f1-score': 0.5854312272553948, 'macro_f1-score': 0.3710691160348551, 'balanced_accuracy': 0.3884493327122199, 'mcc': 0.465888126342968, 'train_loss': 0.3982208302210725}\n",
      "Epoch 6/20\n"
     ]
    },
    {
     "name": "stderr",
     "output_type": "stream",
     "text": [
      "100%|██████████| 716/716 [01:13<00:00,  9.81it/s]\n"
     ]
    },
    {
     "name": "stdout",
     "output_type": "stream",
     "text": [
      "{'val_loss': 1.9257355296030276, 'val_accuracy': 0.618140243902439, 'precision': 0.6106078870378018, 'recall': 0.618140243902439, 'f1-score': 0.6047646029914208, 'macro_f1-score': 0.3972776356936188, 'balanced_accuracy': 0.40369917814228745, 'mcc': 0.48888094012403044, 'train_loss': 0.24171860725293717}\n",
      "Epoch 7/20\n"
     ]
    },
    {
     "name": "stderr",
     "output_type": "stream",
     "text": [
      "100%|██████████| 716/716 [01:13<00:00,  9.80it/s]\n"
     ]
    },
    {
     "name": "stdout",
     "output_type": "stream",
     "text": [
      "{'val_loss': 2.1210469897927307, 'val_accuracy': 0.6310975609756098, 'precision': 0.6323348722850664, 'recall': 0.6310975609756098, 'f1-score': 0.6250185263097945, 'macro_f1-score': 0.4148568564133299, 'balanced_accuracy': 0.4286650323538475, 'mcc': 0.5143573715484855, 'train_loss': 0.11596879549324512}\n",
      "Epoch 8/20\n"
     ]
    },
    {
     "name": "stderr",
     "output_type": "stream",
     "text": [
      "100%|██████████| 716/716 [01:12<00:00,  9.81it/s]\n"
     ]
    },
    {
     "name": "stdout",
     "output_type": "stream",
     "text": [
      "{'val_loss': 2.1443783451871172, 'val_accuracy': 0.6387195121951219, 'precision': 0.6379789137336199, 'recall': 0.6387195121951219, 'f1-score': 0.63188257978421, 'macro_f1-score': 0.4291042058999586, 'balanced_accuracy': 0.4384614616349098, 'mcc': 0.5313648021147656, 'train_loss': 0.06921664467660252}\n",
      "Epoch 9/20\n"
     ]
    },
    {
     "name": "stderr",
     "output_type": "stream",
     "text": [
      "100%|██████████| 716/716 [01:12<00:00,  9.81it/s]\n"
     ]
    },
    {
     "name": "stdout",
     "output_type": "stream",
     "text": [
      "{'val_loss': 2.2980664997566036, 'val_accuracy': 0.6257621951219512, 'precision': 0.6171555271890828, 'recall': 0.6257621951219512, 'f1-score': 0.6150104077354301, 'macro_f1-score': 0.41489658037682337, 'balanced_accuracy': 0.42407444370604425, 'mcc': 0.5021331192162091, 'train_loss': 0.07180080588194203}\n",
      "Epoch 10/20\n"
     ]
    },
    {
     "name": "stderr",
     "output_type": "stream",
     "text": [
      "100%|██████████| 716/716 [01:13<00:00,  9.80it/s]\n"
     ]
    },
    {
     "name": "stdout",
     "output_type": "stream",
     "text": [
      "{'val_loss': 2.4323217098305867, 'val_accuracy': 0.6509146341463414, 'precision': 0.6308478073909939, 'recall': 0.6509146341463414, 'f1-score': 0.6308464910499709, 'macro_f1-score': 0.4202713259757782, 'balanced_accuracy': 0.411494312771471, 'mcc': 0.5251072223843869, 'train_loss': 0.07675879008290176}\n",
      "Epoch 11/20\n"
     ]
    },
    {
     "name": "stderr",
     "output_type": "stream",
     "text": [
      "100%|██████████| 716/716 [01:12<00:00,  9.81it/s]\n"
     ]
    },
    {
     "name": "stdout",
     "output_type": "stream",
     "text": [
      "{'val_loss': 2.3499684195692945, 'val_accuracy': 0.6028963414634146, 'precision': 0.61380110503737, 'recall': 0.6028963414634146, 'f1-score': 0.5987623406183776, 'macro_f1-score': 0.3850734498403637, 'balanced_accuracy': 0.4052187147379369, 'mcc': 0.4877598651485679, 'train_loss': 0.07029380078137105}\n",
      "Early stopping.\n",
      "\n",
      "[Fold 2]\n",
      "🚀 Using Word2Vec for data augmentation + under-sampling\n",
      "🔻 Under-sampling label 0: 2471 → 2000\n",
      "🔧 Augmenting label 1: 22 → 200 (+178)\n",
      "🔧 Augmenting label 2: 64 → 200 (+136)\n",
      "🔧 Augmenting label 3: 24 → 200 (+176)\n",
      "🔧 Augmenting label 4: 190 → 200 (+10)\n",
      "🔧 Augmenting label 5: 113 → 200 (+87)\n",
      "🔧 Augmenting label 6: 93 → 200 (+107)\n",
      "🔧 Augmenting label 7: 30 → 200 (+170)\n",
      "🔧 Augmenting label 8: 68 → 200 (+132)\n",
      "🔧 Augmenting label 9: 30 → 200 (+170)\n",
      "🔧 Augmenting label 10: 67 → 200 (+133)\n",
      "🔧 Augmenting label 11: 169 → 200 (+31)\n",
      "🔧 Augmenting label 12: 189 → 200 (+11)\n",
      "🔧 Augmenting label 13: 29 → 200 (+171)\n",
      "🔧 Augmenting label 14: 23 → 200 (+177)\n",
      "🔧 Augmenting label 15: 24 → 200 (+176)\n",
      "🔧 Augmenting label 16: 20 → 200 (+180)\n",
      "🔧 Augmenting label 17: 182 → 200 (+18)\n",
      "🔧 Augmenting label 18: 92 → 200 (+108)\n",
      "🔧 Augmenting label 19: 44 → 200 (+156)\n",
      "🔧 Augmenting label 20: 13 → 200 (+187)\n",
      "🔧 Augmenting label 21: 36 → 200 (+164)\n",
      "🔧 Augmenting label 22: 76 → 200 (+124)\n",
      "🔧 Augmenting label 23: 157 → 200 (+43)\n",
      "🔧 Augmenting label 24: 12 → 200 (+188)\n",
      "🔧 Augmenting label 25: 44 → 200 (+156)\n",
      "🔧 Augmenting label 26: 84 → 200 (+116)\n",
      "🔧 Augmenting label 27: 48 → 200 (+152)\n",
      "🔧 Augmenting label 28: 12 → 200 (+188)\n",
      "🔧 Augmenting label 29: 12 → 200 (+188)\n",
      "🔧 Augmenting label 30: 12 → 200 (+188)\n",
      "🔧 Augmenting label 31: 75 → 200 (+125)\n",
      "🔧 Augmenting label 32: 36 → 200 (+164)\n",
      "🔧 Augmenting label 33: 31 → 200 (+169)\n",
      "🔧 Augmenting label 34: 29 → 200 (+171)\n",
      "🔧 Augmenting label 35: 12 → 200 (+188)\n",
      "🔧 Augmenting label 36: 21 → 200 (+179)\n",
      "🔧 Augmenting label 37: 16 → 200 (+184)\n",
      "🔧 Augmenting label 38: 33 → 200 (+167)\n",
      "🔧 Augmenting label 39: 11 → 200 (+189)\n",
      "🔧 Augmenting label 40: 8 → 200 (+192)\n",
      "🔧 Augmenting label 41: 57 → 200 (+143)\n",
      "🔧 Augmenting label 42: 19 → 200 (+181)\n",
      "🔧 Augmenting label 43: 9 → 200 (+191)\n",
      "🔧 Augmenting label 44: 54 → 200 (+146)\n",
      "🔧 Augmenting label 46: 62 → 200 (+138)\n",
      "🔧 Augmenting label 47: 80 → 200 (+120)\n",
      "Label distribution after resampling:\n",
      "  label 0: 2000\n",
      "  label 1: 200\n",
      "  label 2: 200\n",
      "  label 3: 200\n",
      "  label 4: 200\n",
      "  label 5: 200\n",
      "  label 6: 200\n",
      "  label 7: 200\n",
      "  label 8: 200\n",
      "  label 9: 200\n",
      "  label 10: 200\n",
      "  label 11: 200\n",
      "  label 12: 200\n",
      "  label 13: 200\n",
      "  label 14: 200\n",
      "  label 15: 200\n",
      "  label 16: 200\n",
      "  label 17: 200\n",
      "  label 18: 200\n",
      "  label 19: 200\n",
      "  label 20: 200\n",
      "  label 21: 200\n",
      "  label 22: 200\n",
      "  label 23: 200\n",
      "  label 24: 200\n",
      "  label 25: 200\n",
      "  label 26: 200\n",
      "  label 27: 200\n",
      "  label 28: 200\n",
      "  label 29: 200\n",
      "  label 30: 200\n",
      "  label 31: 200\n",
      "  label 32: 200\n",
      "  label 33: 200\n",
      "  label 34: 200\n",
      "  label 35: 200\n",
      "  label 36: 200\n",
      "  label 37: 200\n",
      "  label 38: 200\n",
      "  label 39: 200\n",
      "  label 40: 200\n",
      "  label 41: 200\n",
      "  label 42: 200\n",
      "  label 43: 200\n",
      "  label 44: 200\n",
      "  label 45: 242\n",
      "  label 46: 200\n",
      "  label 47: 200\n",
      "model is microsoft/deberta-base\n"
     ]
    },
    {
     "name": "stderr",
     "output_type": "stream",
     "text": [
      "Some weights of DebertaForSequenceClassification were not initialized from the model checkpoint at microsoft/deberta-base and are newly initialized: ['classifier.bias', 'classifier.weight', 'pooler.dense.bias', 'pooler.dense.weight']\n",
      "You should probably TRAIN this model on a down-stream task to be able to use it for predictions and inference.\n"
     ]
    },
    {
     "name": "stdout",
     "output_type": "stream",
     "text": [
      "Epoch 1/20\n"
     ]
    },
    {
     "name": "stderr",
     "output_type": "stream",
     "text": [
      "100%|██████████| 716/716 [01:13<00:00,  9.80it/s]\n"
     ]
    },
    {
     "name": "stdout",
     "output_type": "stream",
     "text": [
      "{'val_loss': 1.6501704200011929, 'val_accuracy': 0.5560640732265446, 'precision': 0.6223140629445787, 'recall': 0.5560640732265446, 'f1-score': 0.5623523001816161, 'macro_f1-score': 0.32118070768644214, 'balanced_accuracy': 0.3887359776934615, 'mcc': 0.43482820146814005, 'train_loss': 2.5082154293966026}\n",
      "Epoch 2/20\n"
     ]
    },
    {
     "name": "stderr",
     "output_type": "stream",
     "text": [
      "100%|██████████| 716/716 [01:13<00:00,  9.80it/s]\n"
     ]
    },
    {
     "name": "stdout",
     "output_type": "stream",
     "text": [
      "{'val_loss': 1.4310447878953887, 'val_accuracy': 0.6224256292906178, 'precision': 0.5992994356826667, 'recall': 0.6224256292906178, 'f1-score': 0.5910489746361683, 'macro_f1-score': 0.35448815081991425, 'balanced_accuracy': 0.3837235110736556, 'mcc': 0.48897989027884986, 'train_loss': 0.8816830459669982}\n",
      "Epoch 3/20\n"
     ]
    },
    {
     "name": "stderr",
     "output_type": "stream",
     "text": [
      "100%|██████████| 716/716 [01:12<00:00,  9.82it/s]\n"
     ]
    },
    {
     "name": "stdout",
     "output_type": "stream",
     "text": [
      "{'val_loss': 1.5718676767698148, 'val_accuracy': 0.6163234172387491, 'precision': 0.6247551295696286, 'recall': 0.6163234172387491, 'f1-score': 0.6099580994074794, 'macro_f1-score': 0.3658227868963884, 'balanced_accuracy': 0.3867745368252404, 'mcc': 0.4970179885978484, 'train_loss': 0.3973428763646903}\n",
      "Epoch 4/20\n"
     ]
    },
    {
     "name": "stderr",
     "output_type": "stream",
     "text": [
      "100%|██████████| 716/716 [01:13<00:00,  9.81it/s]\n"
     ]
    },
    {
     "name": "stdout",
     "output_type": "stream",
     "text": [
      "{'val_loss': 1.8283440456157778, 'val_accuracy': 0.6018306636155606, 'precision': 0.6316293896492045, 'recall': 0.6018306636155606, 'f1-score': 0.600430164122563, 'macro_f1-score': 0.36959906299818535, 'balanced_accuracy': 0.3978510943422706, 'mcc': 0.48733291928730565, 'train_loss': 0.22283345031390725}\n",
      "Epoch 5/20\n"
     ]
    },
    {
     "name": "stderr",
     "output_type": "stream",
     "text": [
      "100%|██████████| 716/716 [01:12<00:00,  9.81it/s]\n"
     ]
    },
    {
     "name": "stdout",
     "output_type": "stream",
     "text": [
      "{'val_loss': 1.8934944628215418, 'val_accuracy': 0.6399694889397407, 'precision': 0.6180368381036065, 'recall': 0.6399694889397407, 'f1-score': 0.613202233929949, 'macro_f1-score': 0.3574048093108642, 'balanced_accuracy': 0.34600668972480203, 'mcc': 0.5039805447132508, 'train_loss': 0.13643225236384812}\n",
      "Epoch 6/20\n"
     ]
    },
    {
     "name": "stderr",
     "output_type": "stream",
     "text": [
      "100%|██████████| 716/716 [01:13<00:00,  9.81it/s]\n"
     ]
    },
    {
     "name": "stdout",
     "output_type": "stream",
     "text": [
      "{'val_loss': 2.066225281575831, 'val_accuracy': 0.6209000762776506, 'precision': 0.5849526661148756, 'recall': 0.6209000762776506, 'f1-score': 0.5850146100481132, 'macro_f1-score': 0.32819755127150085, 'balanced_accuracy': 0.3231296947061535, 'mcc': 0.4765958118874718, 'train_loss': 0.15398260748778683}\n",
      "Epoch 7/20\n"
     ]
    },
    {
     "name": "stderr",
     "output_type": "stream",
     "text": [
      "100%|██████████| 716/716 [01:13<00:00,  9.81it/s]\n"
     ]
    },
    {
     "name": "stdout",
     "output_type": "stream",
     "text": [
      "{'val_loss': 2.018558466216413, 'val_accuracy': 0.6231884057971014, 'precision': 0.6295254966514859, 'recall': 0.6231884057971014, 'f1-score': 0.6181139088897941, 'macro_f1-score': 0.38283823235289444, 'balanced_accuracy': 0.3998202804346505, 'mcc': 0.5064049714968105, 'train_loss': 0.08750110488907205}\n",
      "Epoch 8/20\n"
     ]
    },
    {
     "name": "stderr",
     "output_type": "stream",
     "text": [
      "100%|██████████| 716/716 [01:13<00:00,  9.81it/s]\n"
     ]
    },
    {
     "name": "stdout",
     "output_type": "stream",
     "text": [
      "{'val_loss': 2.1529431430304924, 'val_accuracy': 0.6254767353165522, 'precision': 0.618740093038726, 'recall': 0.6254767353165522, 'f1-score': 0.5992943102853133, 'macro_f1-score': 0.3568526139960551, 'balanced_accuracy': 0.3582671777738648, 'mcc': 0.4985522446804079, 'train_loss': 0.05472760923590847}\n",
      "Epoch 9/20\n"
     ]
    },
    {
     "name": "stderr",
     "output_type": "stream",
     "text": [
      "100%|██████████| 716/716 [01:12<00:00,  9.81it/s]\n"
     ]
    },
    {
     "name": "stdout",
     "output_type": "stream",
     "text": [
      "{'val_loss': 2.9727106210662098, 'val_accuracy': 0.4660564454614798, 'precision': 0.22344676749045347, 'recall': 0.4660564454614798, 'f1-score': 0.30206909627183487, 'macro_f1-score': 0.013349938821884287, 'balanced_accuracy': 0.020597357065803668, 'mcc': 0.014820943773404446, 'train_loss': 1.3320068221488206}\n",
      "Epoch 10/20\n"
     ]
    },
    {
     "name": "stderr",
     "output_type": "stream",
     "text": [
      "100%|██████████| 716/716 [01:12<00:00,  9.81it/s]\n"
     ]
    },
    {
     "name": "stdout",
     "output_type": "stream",
     "text": [
      "{'val_loss': 2.946965011154733, 'val_accuracy': 0.47139588100686497, 'precision': 0.2222140766302384, 'recall': 0.47139588100686497, 'f1-score': 0.302045261236125, 'macro_f1-score': 0.01334888543286677, 'balanced_accuracy': 0.020833333333333332, 'mcc': 0.0, 'train_loss': 3.6405879259109497}\n",
      "Early stopping.\n",
      "\n",
      "[Fold 3]\n",
      "🚀 Using Word2Vec for data augmentation + under-sampling\n",
      "🔻 Under-sampling label 0: 2471 → 2000\n",
      "🔧 Augmenting label 1: 22 → 200 (+178)\n",
      "🔧 Augmenting label 2: 64 → 200 (+136)\n",
      "🔧 Augmenting label 3: 24 → 200 (+176)\n",
      "🔧 Augmenting label 4: 190 → 200 (+10)\n",
      "🔧 Augmenting label 5: 113 → 200 (+87)\n",
      "🔧 Augmenting label 6: 93 → 200 (+107)\n",
      "🔧 Augmenting label 7: 30 → 200 (+170)\n",
      "🔧 Augmenting label 8: 68 → 200 (+132)\n",
      "🔧 Augmenting label 9: 30 → 200 (+170)\n",
      "🔧 Augmenting label 10: 67 → 200 (+133)\n",
      "🔧 Augmenting label 11: 169 → 200 (+31)\n",
      "🔧 Augmenting label 12: 190 → 200 (+10)\n",
      "🔧 Augmenting label 13: 28 → 200 (+172)\n",
      "🔧 Augmenting label 14: 23 → 200 (+177)\n",
      "🔧 Augmenting label 15: 25 → 200 (+175)\n",
      "🔧 Augmenting label 16: 19 → 200 (+181)\n",
      "🔧 Augmenting label 17: 182 → 200 (+18)\n",
      "🔧 Augmenting label 18: 92 → 200 (+108)\n",
      "🔧 Augmenting label 19: 44 → 200 (+156)\n",
      "🔧 Augmenting label 20: 14 → 200 (+186)\n",
      "🔧 Augmenting label 21: 35 → 200 (+165)\n",
      "🔧 Augmenting label 22: 76 → 200 (+124)\n",
      "🔧 Augmenting label 23: 157 → 200 (+43)\n",
      "🔧 Augmenting label 24: 13 → 200 (+187)\n",
      "🔧 Augmenting label 25: 44 → 200 (+156)\n",
      "🔧 Augmenting label 26: 84 → 200 (+116)\n",
      "🔧 Augmenting label 27: 48 → 200 (+152)\n",
      "🔧 Augmenting label 28: 11 → 200 (+189)\n",
      "🔧 Augmenting label 29: 13 → 200 (+187)\n",
      "🔧 Augmenting label 30: 11 → 200 (+189)\n",
      "🔧 Augmenting label 31: 76 → 200 (+124)\n",
      "🔧 Augmenting label 32: 36 → 200 (+164)\n",
      "🔧 Augmenting label 33: 31 → 200 (+169)\n",
      "🔧 Augmenting label 34: 30 → 200 (+170)\n",
      "🔧 Augmenting label 35: 11 → 200 (+189)\n",
      "🔧 Augmenting label 36: 21 → 200 (+179)\n",
      "🔧 Augmenting label 37: 16 → 200 (+184)\n",
      "🔧 Augmenting label 38: 32 → 200 (+168)\n",
      "🔧 Augmenting label 39: 11 → 200 (+189)\n",
      "🔧 Augmenting label 40: 9 → 200 (+191)\n",
      "🔧 Augmenting label 41: 57 → 200 (+143)\n",
      "🔧 Augmenting label 42: 18 → 200 (+182)\n",
      "🔧 Augmenting label 43: 9 → 200 (+191)\n",
      "🔧 Augmenting label 44: 55 → 200 (+145)\n",
      "🔧 Augmenting label 46: 62 → 200 (+138)\n",
      "🔧 Augmenting label 47: 80 → 200 (+120)\n",
      "Label distribution after resampling:\n",
      "  label 0: 2000\n",
      "  label 1: 200\n",
      "  label 2: 200\n",
      "  label 3: 200\n",
      "  label 4: 200\n",
      "  label 5: 200\n",
      "  label 6: 200\n",
      "  label 7: 200\n",
      "  label 8: 200\n",
      "  label 9: 200\n",
      "  label 10: 200\n",
      "  label 11: 200\n",
      "  label 12: 200\n",
      "  label 13: 200\n",
      "  label 14: 200\n",
      "  label 15: 200\n",
      "  label 16: 200\n",
      "  label 17: 200\n",
      "  label 18: 200\n",
      "  label 19: 200\n",
      "  label 20: 200\n",
      "  label 21: 200\n",
      "  label 22: 200\n",
      "  label 23: 200\n",
      "  label 24: 200\n",
      "  label 25: 200\n",
      "  label 26: 200\n",
      "  label 27: 200\n",
      "  label 28: 200\n",
      "  label 29: 200\n",
      "  label 30: 200\n",
      "  label 31: 200\n",
      "  label 32: 200\n",
      "  label 33: 200\n",
      "  label 34: 200\n",
      "  label 35: 200\n",
      "  label 36: 200\n",
      "  label 37: 200\n",
      "  label 38: 200\n",
      "  label 39: 200\n",
      "  label 40: 200\n",
      "  label 41: 200\n",
      "  label 42: 200\n",
      "  label 43: 200\n",
      "  label 44: 200\n",
      "  label 45: 241\n",
      "  label 46: 200\n",
      "  label 47: 200\n",
      "model is microsoft/deberta-base\n"
     ]
    },
    {
     "name": "stderr",
     "output_type": "stream",
     "text": [
      "Some weights of DebertaForSequenceClassification were not initialized from the model checkpoint at microsoft/deberta-base and are newly initialized: ['classifier.bias', 'classifier.weight', 'pooler.dense.bias', 'pooler.dense.weight']\n",
      "You should probably TRAIN this model on a down-stream task to be able to use it for predictions and inference.\n"
     ]
    },
    {
     "name": "stdout",
     "output_type": "stream",
     "text": [
      "Epoch 1/20\n"
     ]
    },
    {
     "name": "stderr",
     "output_type": "stream",
     "text": [
      "100%|██████████| 716/716 [01:13<00:00,  9.80it/s]\n"
     ]
    },
    {
     "name": "stdout",
     "output_type": "stream",
     "text": [
      "{'val_loss': 1.6796977098395185, 'val_accuracy': 0.532418001525553, 'precision': 0.564167559786109, 'recall': 0.532418001525553, 'f1-score': 0.5315614504406894, 'macro_f1-score': 0.2950103475210688, 'balanced_accuracy': 0.36724195481108346, 'mcc': 0.40217389960703026, 'train_loss': 2.2054423168717814}\n",
      "Epoch 2/20\n"
     ]
    },
    {
     "name": "stderr",
     "output_type": "stream",
     "text": [
      "100%|██████████| 716/716 [01:12<00:00,  9.81it/s]\n"
     ]
    },
    {
     "name": "stdout",
     "output_type": "stream",
     "text": [
      "{'val_loss': 1.6099838221945413, 'val_accuracy': 0.5850495804729214, 'precision': 0.6006774304922696, 'recall': 0.5850495804729214, 'f1-score': 0.5835457476528634, 'macro_f1-score': 0.3533064732773183, 'balanced_accuracy': 0.3715591342523257, 'mcc': 0.46004177228494786, 'train_loss': 0.7603139858484768}\n",
      "Epoch 3/20\n"
     ]
    },
    {
     "name": "stderr",
     "output_type": "stream",
     "text": [
      "100%|██████████| 716/716 [01:13<00:00,  9.80it/s]\n"
     ]
    },
    {
     "name": "stdout",
     "output_type": "stream",
     "text": [
      "{'val_loss': 1.760610793785351, 'val_accuracy': 0.620137299771167, 'precision': 0.6166442194377546, 'recall': 0.620137299771167, 'f1-score': 0.6070891754728154, 'macro_f1-score': 0.35562729821598893, 'balanced_accuracy': 0.36004277284993913, 'mcc': 0.49712841494609167, 'train_loss': 0.4343423474913036}\n",
      "Epoch 4/20\n"
     ]
    },
    {
     "name": "stderr",
     "output_type": "stream",
     "text": [
      "100%|██████████| 716/716 [01:12<00:00,  9.81it/s]\n"
     ]
    },
    {
     "name": "stdout",
     "output_type": "stream",
     "text": [
      "{'val_loss': 1.9120506440720908, 'val_accuracy': 0.5881006864988558, 'precision': 0.6115325781784178, 'recall': 0.5881006864988558, 'f1-score': 0.5896595137285989, 'macro_f1-score': 0.3469792648144651, 'balanced_accuracy': 0.34841639977536026, 'mcc': 0.471294584688066, 'train_loss': 0.20307843238388465}\n",
      "Epoch 5/20\n"
     ]
    },
    {
     "name": "stderr",
     "output_type": "stream",
     "text": [
      "100%|██████████| 716/716 [01:13<00:00,  9.80it/s]\n"
     ]
    },
    {
     "name": "stdout",
     "output_type": "stream",
     "text": [
      "{'val_loss': 2.0281505686480825, 'val_accuracy': 0.6193745232646835, 'precision': 0.6150466907911167, 'recall': 0.6193745232646835, 'f1-score': 0.6113447560228855, 'macro_f1-score': 0.36060815469515745, 'balanced_accuracy': 0.3512173819064474, 'mcc': 0.49700582778457963, 'train_loss': 0.13369552354983902}\n",
      "Epoch 6/20\n"
     ]
    },
    {
     "name": "stderr",
     "output_type": "stream",
     "text": [
      "100%|██████████| 716/716 [01:13<00:00,  9.80it/s]\n"
     ]
    },
    {
     "name": "stdout",
     "output_type": "stream",
     "text": [
      "{'val_loss': 2.092722361407629, 'val_accuracy': 0.5804729214340199, 'precision': 0.6162187553473856, 'recall': 0.5804729214340199, 'f1-score': 0.5921778622126818, 'macro_f1-score': 0.35488524854732134, 'balanced_accuracy': 0.37346668755028545, 'mcc': 0.4726188131522079, 'train_loss': 0.13164759674382673}\n",
      "Epoch 7/20\n"
     ]
    },
    {
     "name": "stderr",
     "output_type": "stream",
     "text": [
      "100%|██████████| 716/716 [01:12<00:00,  9.81it/s]\n"
     ]
    },
    {
     "name": "stdout",
     "output_type": "stream",
     "text": [
      "{'val_loss': 2.104652934684986, 'val_accuracy': 0.6285278413424866, 'precision': 0.6186253503665292, 'recall': 0.6285278413424866, 'f1-score': 0.6114108317790741, 'macro_f1-score': 0.3613948099581162, 'balanced_accuracy': 0.34464597524668145, 'mcc': 0.4954438649027695, 'train_loss': 0.12549992894504072}\n",
      "Epoch 8/20\n"
     ]
    },
    {
     "name": "stderr",
     "output_type": "stream",
     "text": [
      "100%|██████████| 716/716 [01:12<00:00,  9.81it/s]\n"
     ]
    },
    {
     "name": "stdout",
     "output_type": "stream",
     "text": [
      "{'val_loss': 2.2593779331300317, 'val_accuracy': 0.631578947368421, 'precision': 0.617833139749359, 'recall': 0.631578947368421, 'f1-score': 0.612660282012531, 'macro_f1-score': 0.36276804710088606, 'balanced_accuracy': 0.35021091455366005, 'mcc': 0.5032841183951003, 'train_loss': 0.09286197228958784}\n",
      "Epoch 9/20\n"
     ]
    },
    {
     "name": "stderr",
     "output_type": "stream",
     "text": [
      "100%|██████████| 716/716 [01:13<00:00,  9.80it/s]\n"
     ]
    },
    {
     "name": "stdout",
     "output_type": "stream",
     "text": [
      "{'val_loss': 2.369362639217842, 'val_accuracy': 0.6048817696414951, 'precision': 0.625880403270991, 'recall': 0.6048817696414951, 'f1-score': 0.610101173882437, 'macro_f1-score': 0.3794457276274393, 'balanced_accuracy': 0.38006893572403905, 'mcc': 0.49273858227110995, 'train_loss': 0.08882558455137281}\n",
      "Epoch 10/20\n"
     ]
    },
    {
     "name": "stderr",
     "output_type": "stream",
     "text": [
      "100%|██████████| 716/716 [01:13<00:00,  9.81it/s]\n"
     ]
    },
    {
     "name": "stdout",
     "output_type": "stream",
     "text": [
      "{'val_loss': 2.436835893588822, 'val_accuracy': 0.6003051106025934, 'precision': 0.6040964903620135, 'recall': 0.6003051106025934, 'f1-score': 0.5958108141464904, 'macro_f1-score': 0.34587890635489243, 'balanced_accuracy': 0.35136217218438226, 'mcc': 0.47796520901649603, 'train_loss': 0.07546820527550052}\n",
      "Epoch 11/20\n"
     ]
    },
    {
     "name": "stderr",
     "output_type": "stream",
     "text": [
      "100%|██████████| 716/716 [01:13<00:00,  9.80it/s]\n"
     ]
    },
    {
     "name": "stdout",
     "output_type": "stream",
     "text": [
      "{'val_loss': 2.4620221431662395, 'val_accuracy': 0.5789473684210527, 'precision': 0.6187638008181529, 'recall': 0.5789473684210527, 'f1-score': 0.5913838046461634, 'macro_f1-score': 0.34168643905096263, 'balanced_accuracy': 0.36650511716926903, 'mcc': 0.4667238644166809, 'train_loss': 0.08611555356017246}\n",
      "Epoch 12/20\n"
     ]
    },
    {
     "name": "stderr",
     "output_type": "stream",
     "text": [
      "100%|██████████| 716/716 [01:12<00:00,  9.81it/s]\n"
     ]
    },
    {
     "name": "stdout",
     "output_type": "stream",
     "text": [
      "{'val_loss': 2.4313953231747556, 'val_accuracy': 0.6147978642257819, 'precision': 0.6134693374933102, 'recall': 0.6147978642257819, 'f1-score': 0.6060635814367777, 'macro_f1-score': 0.3475629539303959, 'balanced_accuracy': 0.3402515192530325, 'mcc': 0.48720230210177545, 'train_loss': 0.07151390865499442}\n",
      "Early stopping.\n",
      "\n",
      "[Fold 4]\n",
      "🚀 Using Word2Vec for data augmentation + under-sampling\n",
      "🔻 Under-sampling label 0: 2471 → 2000\n",
      "🔧 Augmenting label 1: 22 → 200 (+178)\n",
      "🔧 Augmenting label 2: 64 → 200 (+136)\n",
      "🔧 Augmenting label 3: 24 → 200 (+176)\n",
      "🔧 Augmenting label 4: 190 → 200 (+10)\n",
      "🔧 Augmenting label 5: 113 → 200 (+87)\n",
      "🔧 Augmenting label 6: 93 → 200 (+107)\n",
      "🔧 Augmenting label 7: 31 → 200 (+169)\n",
      "🔧 Augmenting label 8: 68 → 200 (+132)\n",
      "🔧 Augmenting label 9: 29 → 200 (+171)\n",
      "🔧 Augmenting label 10: 67 → 200 (+133)\n",
      "🔧 Augmenting label 11: 169 → 200 (+31)\n",
      "🔧 Augmenting label 12: 190 → 200 (+10)\n",
      "🔧 Augmenting label 13: 29 → 200 (+171)\n",
      "🔧 Augmenting label 14: 22 → 200 (+178)\n",
      "🔧 Augmenting label 15: 25 → 200 (+175)\n",
      "🔧 Augmenting label 16: 19 → 200 (+181)\n",
      "🔧 Augmenting label 17: 182 → 200 (+18)\n",
      "🔧 Augmenting label 18: 92 → 200 (+108)\n",
      "🔧 Augmenting label 19: 44 → 200 (+156)\n",
      "🔧 Augmenting label 20: 14 → 200 (+186)\n",
      "🔧 Augmenting label 21: 35 → 200 (+165)\n",
      "🔧 Augmenting label 22: 76 → 200 (+124)\n",
      "🔧 Augmenting label 23: 158 → 200 (+42)\n",
      "🔧 Augmenting label 24: 13 → 200 (+187)\n",
      "🔧 Augmenting label 25: 44 → 200 (+156)\n",
      "🔧 Augmenting label 26: 84 → 200 (+116)\n",
      "🔧 Augmenting label 27: 48 → 200 (+152)\n",
      "🔧 Augmenting label 28: 11 → 200 (+189)\n",
      "🔧 Augmenting label 29: 13 → 200 (+187)\n",
      "🔧 Augmenting label 30: 11 → 200 (+189)\n",
      "🔧 Augmenting label 31: 75 → 200 (+125)\n",
      "🔧 Augmenting label 32: 36 → 200 (+164)\n",
      "🔧 Augmenting label 33: 31 → 200 (+169)\n",
      "🔧 Augmenting label 34: 30 → 200 (+170)\n",
      "🔧 Augmenting label 35: 11 → 200 (+189)\n",
      "🔧 Augmenting label 36: 22 → 200 (+178)\n",
      "🔧 Augmenting label 37: 16 → 200 (+184)\n",
      "🔧 Augmenting label 38: 33 → 200 (+167)\n",
      "🔧 Augmenting label 39: 10 → 200 (+190)\n",
      "🔧 Augmenting label 40: 9 → 200 (+191)\n",
      "🔧 Augmenting label 41: 56 → 200 (+144)\n",
      "🔧 Augmenting label 42: 18 → 200 (+182)\n",
      "🔧 Augmenting label 43: 9 → 200 (+191)\n",
      "🔧 Augmenting label 44: 55 → 200 (+145)\n",
      "🔧 Augmenting label 46: 62 → 200 (+138)\n",
      "🔧 Augmenting label 47: 80 → 200 (+120)\n",
      "Label distribution after resampling:\n",
      "  label 0: 2000\n",
      "  label 1: 200\n",
      "  label 2: 200\n",
      "  label 3: 200\n",
      "  label 4: 200\n",
      "  label 5: 200\n",
      "  label 6: 200\n",
      "  label 7: 200\n",
      "  label 8: 200\n",
      "  label 9: 200\n",
      "  label 10: 200\n",
      "  label 11: 200\n",
      "  label 12: 200\n",
      "  label 13: 200\n",
      "  label 14: 200\n",
      "  label 15: 200\n",
      "  label 16: 200\n",
      "  label 17: 200\n",
      "  label 18: 200\n",
      "  label 19: 200\n",
      "  label 20: 200\n",
      "  label 21: 200\n",
      "  label 22: 200\n",
      "  label 23: 200\n",
      "  label 24: 200\n",
      "  label 25: 200\n",
      "  label 26: 200\n",
      "  label 27: 200\n",
      "  label 28: 200\n",
      "  label 29: 200\n",
      "  label 30: 200\n",
      "  label 31: 200\n",
      "  label 32: 200\n",
      "  label 33: 200\n",
      "  label 34: 200\n",
      "  label 35: 200\n",
      "  label 36: 200\n",
      "  label 37: 200\n",
      "  label 38: 200\n",
      "  label 39: 200\n",
      "  label 40: 200\n",
      "  label 41: 200\n",
      "  label 42: 200\n",
      "  label 43: 200\n",
      "  label 44: 200\n",
      "  label 45: 241\n",
      "  label 46: 200\n",
      "  label 47: 200\n",
      "model is microsoft/deberta-base\n"
     ]
    },
    {
     "name": "stderr",
     "output_type": "stream",
     "text": [
      "Some weights of DebertaForSequenceClassification were not initialized from the model checkpoint at microsoft/deberta-base and are newly initialized: ['classifier.bias', 'classifier.weight', 'pooler.dense.bias', 'pooler.dense.weight']\n",
      "You should probably TRAIN this model on a down-stream task to be able to use it for predictions and inference.\n"
     ]
    },
    {
     "name": "stdout",
     "output_type": "stream",
     "text": [
      "Epoch 1/20\n"
     ]
    },
    {
     "name": "stderr",
     "output_type": "stream",
     "text": [
      "100%|██████████| 716/716 [01:13<00:00,  9.81it/s]\n"
     ]
    },
    {
     "name": "stdout",
     "output_type": "stream",
     "text": [
      "{'val_loss': 2.892964021461766, 'val_accuracy': 0.47139588100686497, 'precision': 0.2222140766302384, 'recall': 0.47139588100686497, 'f1-score': 0.302045261236125, 'macro_f1-score': 0.01334888543286677, 'balanced_accuracy': 0.020833333333333332, 'mcc': 0.0, 'train_loss': 3.66433593547544}\n",
      "Epoch 2/20\n"
     ]
    },
    {
     "name": "stderr",
     "output_type": "stream",
     "text": [
      "100%|██████████| 716/716 [01:13<00:00,  9.80it/s]\n"
     ]
    },
    {
     "name": "stdout",
     "output_type": "stream",
     "text": [
      "{'val_loss': 2.782383703603977, 'val_accuracy': 0.47139588100686497, 'precision': 0.2222140766302384, 'recall': 0.47139588100686497, 'f1-score': 0.302045261236125, 'macro_f1-score': 0.01334888543286677, 'balanced_accuracy': 0.020833333333333332, 'mcc': 0.0, 'train_loss': 3.6257586424244184}\n",
      "Epoch 3/20\n"
     ]
    },
    {
     "name": "stderr",
     "output_type": "stream",
     "text": [
      "100%|██████████| 716/716 [01:13<00:00,  9.81it/s]\n"
     ]
    },
    {
     "name": "stdout",
     "output_type": "stream",
     "text": [
      "{'val_loss': 2.822221558268477, 'val_accuracy': 0.47139588100686497, 'precision': 0.2222140766302384, 'recall': 0.47139588100686497, 'f1-score': 0.302045261236125, 'macro_f1-score': 0.01334888543286677, 'balanced_accuracy': 0.020833333333333332, 'mcc': 0.0, 'train_loss': 3.5939421344069795}\n",
      "Epoch 4/20\n"
     ]
    },
    {
     "name": "stderr",
     "output_type": "stream",
     "text": [
      "100%|██████████| 716/716 [01:13<00:00,  9.80it/s]\n"
     ]
    },
    {
     "name": "stdout",
     "output_type": "stream",
     "text": [
      "{'val_loss': 3.10301810503006, 'val_accuracy': 0.47139588100686497, 'precision': 0.2222140766302384, 'recall': 0.47139588100686497, 'f1-score': 0.302045261236125, 'macro_f1-score': 0.01334888543286677, 'balanced_accuracy': 0.020833333333333332, 'mcc': 0.0, 'train_loss': 3.552541998178599}\n",
      "Early stopping.\n",
      "\n",
      "[Fold 5]\n",
      "🚀 Using Word2Vec for data augmentation + under-sampling\n",
      "🔻 Under-sampling label 0: 2472 → 2000\n",
      "🔧 Augmenting label 1: 21 → 200 (+179)\n",
      "🔧 Augmenting label 2: 64 → 200 (+136)\n",
      "🔧 Augmenting label 3: 24 → 200 (+176)\n",
      "🔧 Augmenting label 4: 191 → 200 (+9)\n",
      "🔧 Augmenting label 5: 112 → 200 (+88)\n",
      "🔧 Augmenting label 6: 92 → 200 (+108)\n",
      "🔧 Augmenting label 7: 31 → 200 (+169)\n",
      "🔧 Augmenting label 8: 68 → 200 (+132)\n",
      "🔧 Augmenting label 9: 29 → 200 (+171)\n",
      "🔧 Augmenting label 10: 68 → 200 (+132)\n",
      "🔧 Augmenting label 11: 168 → 200 (+32)\n",
      "🔧 Augmenting label 12: 190 → 200 (+10)\n",
      "🔧 Augmenting label 13: 29 → 200 (+171)\n",
      "🔧 Augmenting label 14: 22 → 200 (+178)\n",
      "🔧 Augmenting label 15: 25 → 200 (+175)\n",
      "🔧 Augmenting label 16: 19 → 200 (+181)\n",
      "🔧 Augmenting label 17: 183 → 200 (+17)\n",
      "🔧 Augmenting label 18: 92 → 200 (+108)\n",
      "🔧 Augmenting label 19: 44 → 200 (+156)\n",
      "🔧 Augmenting label 20: 14 → 200 (+186)\n",
      "🔧 Augmenting label 21: 35 → 200 (+165)\n",
      "🔧 Augmenting label 22: 76 → 200 (+124)\n",
      "🔧 Augmenting label 23: 158 → 200 (+42)\n",
      "🔧 Augmenting label 24: 13 → 200 (+187)\n",
      "🔧 Augmenting label 25: 44 → 200 (+156)\n",
      "🔧 Augmenting label 26: 84 → 200 (+116)\n",
      "🔧 Augmenting label 27: 48 → 200 (+152)\n",
      "🔧 Augmenting label 28: 11 → 200 (+189)\n",
      "🔧 Augmenting label 29: 13 → 200 (+187)\n",
      "🔧 Augmenting label 30: 11 → 200 (+189)\n",
      "🔧 Augmenting label 31: 75 → 200 (+125)\n",
      "🔧 Augmenting label 32: 36 → 200 (+164)\n",
      "🔧 Augmenting label 33: 31 → 200 (+169)\n",
      "🔧 Augmenting label 34: 30 → 200 (+170)\n",
      "🔧 Augmenting label 35: 11 → 200 (+189)\n",
      "🔧 Augmenting label 36: 22 → 200 (+178)\n",
      "🔧 Augmenting label 37: 16 → 200 (+184)\n",
      "🔧 Augmenting label 38: 33 → 200 (+167)\n",
      "🔧 Augmenting label 39: 10 → 200 (+190)\n",
      "🔧 Augmenting label 40: 9 → 200 (+191)\n",
      "🔧 Augmenting label 41: 57 → 200 (+143)\n",
      "🔧 Augmenting label 42: 18 → 200 (+182)\n",
      "🔧 Augmenting label 43: 9 → 200 (+191)\n",
      "🔧 Augmenting label 44: 54 → 200 (+146)\n",
      "🔧 Augmenting label 46: 61 → 200 (+139)\n",
      "🔧 Augmenting label 47: 80 → 200 (+120)\n",
      "Label distribution after resampling:\n",
      "  label 0: 2000\n",
      "  label 1: 200\n",
      "  label 2: 200\n",
      "  label 3: 200\n",
      "  label 4: 200\n",
      "  label 5: 200\n",
      "  label 6: 200\n",
      "  label 7: 200\n",
      "  label 8: 200\n",
      "  label 9: 200\n",
      "  label 10: 200\n",
      "  label 11: 200\n",
      "  label 12: 200\n",
      "  label 13: 200\n",
      "  label 14: 200\n",
      "  label 15: 200\n",
      "  label 16: 200\n",
      "  label 17: 200\n",
      "  label 18: 200\n",
      "  label 19: 200\n",
      "  label 20: 200\n",
      "  label 21: 200\n",
      "  label 22: 200\n",
      "  label 23: 200\n",
      "  label 24: 200\n",
      "  label 25: 200\n",
      "  label 26: 200\n",
      "  label 27: 200\n",
      "  label 28: 200\n",
      "  label 29: 200\n",
      "  label 30: 200\n",
      "  label 31: 200\n",
      "  label 32: 200\n",
      "  label 33: 200\n",
      "  label 34: 200\n",
      "  label 35: 200\n",
      "  label 36: 200\n",
      "  label 37: 200\n",
      "  label 38: 200\n",
      "  label 39: 200\n",
      "  label 40: 200\n",
      "  label 41: 200\n",
      "  label 42: 200\n",
      "  label 43: 200\n",
      "  label 44: 200\n",
      "  label 45: 242\n",
      "  label 46: 200\n",
      "  label 47: 200\n",
      "model is microsoft/deberta-base\n"
     ]
    },
    {
     "name": "stderr",
     "output_type": "stream",
     "text": [
      "Some weights of DebertaForSequenceClassification were not initialized from the model checkpoint at microsoft/deberta-base and are newly initialized: ['classifier.bias', 'classifier.weight', 'pooler.dense.bias', 'pooler.dense.weight']\n",
      "You should probably TRAIN this model on a down-stream task to be able to use it for predictions and inference.\n"
     ]
    },
    {
     "name": "stdout",
     "output_type": "stream",
     "text": [
      "Epoch 1/20\n"
     ]
    },
    {
     "name": "stderr",
     "output_type": "stream",
     "text": [
      "100%|██████████| 716/716 [01:13<00:00,  9.80it/s]\n"
     ]
    },
    {
     "name": "stdout",
     "output_type": "stream",
     "text": [
      "{'val_loss': 1.8590660407775785, 'val_accuracy': 0.4851258581235698, 'precision': 0.5864843574644706, 'recall': 0.4851258581235698, 'f1-score': 0.4968685809153785, 'macro_f1-score': 0.24357502732468816, 'balanced_accuracy': 0.34169051644208154, 'mcc': 0.3567316191908486, 'train_loss': 3.1189214861925754}\n",
      "Epoch 2/20\n"
     ]
    },
    {
     "name": "stderr",
     "output_type": "stream",
     "text": [
      "100%|██████████| 716/716 [01:12<00:00,  9.81it/s]\n"
     ]
    },
    {
     "name": "stdout",
     "output_type": "stream",
     "text": [
      "{'val_loss': 1.4459361135959625, 'val_accuracy': 0.6231884057971014, 'precision': 0.6212231299632067, 'recall': 0.6231884057971014, 'f1-score': 0.6050187577579021, 'macro_f1-score': 0.36160652315034375, 'balanced_accuracy': 0.3717265110005539, 'mcc': 0.49175849093861274, 'train_loss': 1.1808225535657568}\n",
      "Epoch 3/20\n"
     ]
    },
    {
     "name": "stderr",
     "output_type": "stream",
     "text": [
      "100%|██████████| 716/716 [01:13<00:00,  9.80it/s]\n"
     ]
    },
    {
     "name": "stdout",
     "output_type": "stream",
     "text": [
      "{'val_loss': 1.4993161813514988, 'val_accuracy': 0.6209000762776506, 'precision': 0.6393969439574011, 'recall': 0.6209000762776506, 'f1-score': 0.6182003260627752, 'macro_f1-score': 0.41060424961635783, 'balanced_accuracy': 0.42088048639800907, 'mcc': 0.5059938374808117, 'train_loss': 0.5165091018145643}\n",
      "Epoch 4/20\n"
     ]
    },
    {
     "name": "stderr",
     "output_type": "stream",
     "text": [
      "100%|██████████| 716/716 [01:13<00:00,  9.80it/s]\n"
     ]
    },
    {
     "name": "stdout",
     "output_type": "stream",
     "text": [
      "{'val_loss': 1.7226723683316534, 'val_accuracy': 0.6155606407322655, 'precision': 0.6331689052543417, 'recall': 0.6155606407322655, 'f1-score': 0.6127589062234079, 'macro_f1-score': 0.387728530658593, 'balanced_accuracy': 0.3885696232914657, 'mcc': 0.4939305071386367, 'train_loss': 0.3018521912937058}\n",
      "Epoch 5/20\n"
     ]
    },
    {
     "name": "stderr",
     "output_type": "stream",
     "text": [
      "100%|██████████| 716/716 [01:12<00:00,  9.82it/s]\n"
     ]
    },
    {
     "name": "stdout",
     "output_type": "stream",
     "text": [
      "{'val_loss': 1.7043385527482846, 'val_accuracy': 0.6636155606407322, 'precision': 0.6520835526264515, 'recall': 0.6636155606407322, 'f1-score': 0.6465645698921443, 'macro_f1-score': 0.42436586440449897, 'balanced_accuracy': 0.4171877775040824, 'mcc': 0.552959593877216, 'train_loss': 0.20989805722528518}\n",
      "Epoch 6/20\n"
     ]
    },
    {
     "name": "stderr",
     "output_type": "stream",
     "text": [
      "100%|██████████| 716/716 [01:12<00:00,  9.81it/s]\n"
     ]
    },
    {
     "name": "stdout",
     "output_type": "stream",
     "text": [
      "{'val_loss': 2.987010781357928, 'val_accuracy': 0.47063310450038137, 'precision': 0.2214955190516669, 'recall': 0.47063310450038137, 'f1-score': 0.3012247152248292, 'macro_f1-score': 0.013334197786998616, 'balanced_accuracy': 0.020833333333333332, 'mcc': 0.0, 'train_loss': 0.3672162242732583}\n",
      "Epoch 7/20\n"
     ]
    },
    {
     "name": "stderr",
     "output_type": "stream",
     "text": [
      "100%|██████████| 716/716 [01:12<00:00,  9.81it/s]\n"
     ]
    },
    {
     "name": "stdout",
     "output_type": "stream",
     "text": [
      "{'val_loss': 3.0913398149536877, 'val_accuracy': 0.47063310450038137, 'precision': 0.2214955190516669, 'recall': 0.47063310450038137, 'f1-score': 0.3012247152248292, 'macro_f1-score': 0.013334197786998616, 'balanced_accuracy': 0.020833333333333332, 'mcc': 0.0, 'train_loss': 3.6523683623894634}\n",
      "Epoch 8/20\n"
     ]
    },
    {
     "name": "stderr",
     "output_type": "stream",
     "text": [
      "100%|██████████| 716/716 [01:13<00:00,  9.80it/s]\n"
     ]
    },
    {
     "name": "stdout",
     "output_type": "stream",
     "text": [
      "{'val_loss': 2.806844818882826, 'val_accuracy': 0.47063310450038137, 'precision': 0.2214955190516669, 'recall': 0.47063310450038137, 'f1-score': 0.3012247152248292, 'macro_f1-score': 0.013334197786998616, 'balanced_accuracy': 0.020833333333333332, 'mcc': 0.0, 'train_loss': 3.6378476399949142}\n",
      "Early stopping.\n",
      "\n",
      " === microsoft/deberta-base + plain + word2vec Final 5-fold Cross-Validation Results ===\n",
      "val_loss: 2.2259\n",
      "val_accuracy: 0.6004\n",
      "precision: 0.5535\n",
      "recall: 0.6004\n",
      "f1-score: 0.5617\n",
      "macro_f1-score: 0.3258\n",
      "balanced_accuracy: 0.3313\n",
      "mcc: 0.4167\n",
      "train_loss: 0.8240\n",
      "total_seconds: 3469.0000\n",
      "total_time: 0 hrs 57 mins 49 secs\n",
      "▶ Running: microsoft/deberta-base + cnn + word2vec\n",
      "tokenizer is microsoft/deberta-base\n",
      "Using device: cuda\n",
      "CUDA Available: True\n",
      "CUDA Device: NVIDIA GeForce RTX 5070 Ti\n",
      "Current GPU Memory Allocated: 1.33 GB\n",
      "Current GPU Memory Cached: 6.68 GB\n",
      "\n",
      "[Fold 1]\n",
      "🚀 Using Word2Vec for data augmentation + under-sampling\n",
      "🔻 Under-sampling label 0: 2471 → 2000\n",
      "🔧 Augmenting label 1: 21 → 200 (+179)\n",
      "🔧 Augmenting label 2: 64 → 200 (+136)\n",
      "🔧 Augmenting label 3: 24 → 200 (+176)\n",
      "🔧 Augmenting label 4: 191 → 200 (+9)\n",
      "🔧 Augmenting label 5: 113 → 200 (+87)\n",
      "🔧 Augmenting label 6: 93 → 200 (+107)\n",
      "🔧 Augmenting label 7: 30 → 200 (+170)\n",
      "🔧 Augmenting label 8: 68 → 200 (+132)\n",
      "🔧 Augmenting label 9: 30 → 200 (+170)\n",
      "🔧 Augmenting label 10: 67 → 200 (+133)\n",
      "🔧 Augmenting label 11: 169 → 200 (+31)\n",
      "🔧 Augmenting label 12: 189 → 200 (+11)\n",
      "🔧 Augmenting label 13: 29 → 200 (+171)\n",
      "🔧 Augmenting label 14: 22 → 200 (+178)\n",
      "🔧 Augmenting label 15: 25 → 200 (+175)\n",
      "🔧 Augmenting label 16: 19 → 200 (+181)\n",
      "🔧 Augmenting label 17: 183 → 200 (+17)\n",
      "🔧 Augmenting label 18: 92 → 200 (+108)\n",
      "🔧 Augmenting label 19: 44 → 200 (+156)\n",
      "🔧 Augmenting label 20: 13 → 200 (+187)\n",
      "🔧 Augmenting label 21: 35 → 200 (+165)\n",
      "🔧 Augmenting label 22: 76 → 200 (+124)\n",
      "🔧 Augmenting label 23: 158 → 200 (+42)\n",
      "🔧 Augmenting label 24: 13 → 200 (+187)\n",
      "🔧 Augmenting label 25: 44 → 200 (+156)\n",
      "🔧 Augmenting label 26: 84 → 200 (+116)\n",
      "🔧 Augmenting label 27: 48 → 200 (+152)\n",
      "🔧 Augmenting label 28: 11 → 200 (+189)\n",
      "🔧 Augmenting label 29: 13 → 200 (+187)\n",
      "🔧 Augmenting label 30: 11 → 200 (+189)\n",
      "🔧 Augmenting label 31: 75 → 200 (+125)\n",
      "🔧 Augmenting label 32: 36 → 200 (+164)\n",
      "🔧 Augmenting label 33: 32 → 200 (+168)\n",
      "🔧 Augmenting label 34: 29 → 200 (+171)\n",
      "🔧 Augmenting label 35: 11 → 200 (+189)\n",
      "🔧 Augmenting label 36: 22 → 200 (+178)\n",
      "🔧 Augmenting label 37: 16 → 200 (+184)\n",
      "🔧 Augmenting label 38: 33 → 200 (+167)\n",
      "🔧 Augmenting label 39: 10 → 200 (+190)\n",
      "🔧 Augmenting label 40: 9 → 200 (+191)\n",
      "🔧 Augmenting label 41: 57 → 200 (+143)\n",
      "🔧 Augmenting label 42: 19 → 200 (+181)\n",
      "🔧 Augmenting label 43: 8 → 200 (+192)\n",
      "🔧 Augmenting label 44: 54 → 200 (+146)\n",
      "🔧 Augmenting label 46: 61 → 200 (+139)\n",
      "🔧 Augmenting label 47: 80 → 200 (+120)\n",
      "Label distribution after resampling:\n",
      "  label 0: 2000\n",
      "  label 1: 200\n",
      "  label 2: 200\n",
      "  label 3: 200\n",
      "  label 4: 200\n",
      "  label 5: 200\n",
      "  label 6: 200\n",
      "  label 7: 200\n",
      "  label 8: 200\n",
      "  label 9: 200\n",
      "  label 10: 200\n",
      "  label 11: 200\n",
      "  label 12: 200\n",
      "  label 13: 200\n",
      "  label 14: 200\n",
      "  label 15: 200\n",
      "  label 16: 200\n",
      "  label 17: 200\n",
      "  label 18: 200\n",
      "  label 19: 200\n",
      "  label 20: 200\n",
      "  label 21: 200\n",
      "  label 22: 200\n",
      "  label 23: 200\n",
      "  label 24: 200\n",
      "  label 25: 200\n",
      "  label 26: 200\n",
      "  label 27: 200\n",
      "  label 28: 200\n",
      "  label 29: 200\n",
      "  label 30: 200\n",
      "  label 31: 200\n",
      "  label 32: 200\n",
      "  label 33: 200\n",
      "  label 34: 200\n",
      "  label 35: 200\n",
      "  label 36: 200\n",
      "  label 37: 200\n",
      "  label 38: 200\n",
      "  label 39: 200\n",
      "  label 40: 200\n",
      "  label 41: 200\n",
      "  label 42: 200\n",
      "  label 43: 200\n",
      "  label 44: 200\n",
      "  label 45: 242\n",
      "  label 46: 200\n",
      "  label 47: 200\n",
      "model is microsoft/deberta-base cnn\n",
      "Epoch 1/20\n"
     ]
    },
    {
     "name": "stderr",
     "output_type": "stream",
     "text": [
      "100%|██████████| 716/716 [01:15<00:00,  9.43it/s]\n"
     ]
    },
    {
     "name": "stdout",
     "output_type": "stream",
     "text": [
      "{'val_loss': 1.8162042273253929, 'val_accuracy': 0.5350609756097561, 'precision': 0.4896215092004797, 'recall': 0.5350609756097561, 'f1-score': 0.4865449207401055, 'macro_f1-score': 0.26164243337668897, 'balanced_accuracy': 0.32031648277477115, 'mcc': 0.3616826490650317, 'train_loss': 2.9375433760315346}\n",
      "Epoch 2/20\n"
     ]
    },
    {
     "name": "stderr",
     "output_type": "stream",
     "text": [
      "100%|██████████| 716/716 [01:15<00:00,  9.44it/s]\n"
     ]
    },
    {
     "name": "stdout",
     "output_type": "stream",
     "text": [
      "{'val_loss': 1.6014605168162324, 'val_accuracy': 0.5945121951219512, 'precision': 0.5882772338192265, 'recall': 0.5945121951219512, 'f1-score': 0.5688732824271828, 'macro_f1-score': 0.3518111162142348, 'balanced_accuracy': 0.37810591758695766, 'mcc': 0.4486716374762813, 'train_loss': 1.4301430734509197}\n",
      "Epoch 3/20\n"
     ]
    },
    {
     "name": "stderr",
     "output_type": "stream",
     "text": [
      "100%|██████████| 716/716 [01:15<00:00,  9.44it/s]\n"
     ]
    },
    {
     "name": "stdout",
     "output_type": "stream",
     "text": [
      "{'val_loss': 1.6387529605772437, 'val_accuracy': 0.5762195121951219, 'precision': 0.6102881206142156, 'recall': 0.5762195121951219, 'f1-score': 0.5752704213101615, 'macro_f1-score': 0.3669618719581373, 'balanced_accuracy': 0.39074847223086406, 'mcc': 0.44468205698938956, 'train_loss': 0.8151215171212507}\n",
      "Epoch 4/20\n"
     ]
    },
    {
     "name": "stderr",
     "output_type": "stream",
     "text": [
      "100%|██████████| 716/716 [01:15<00:00,  9.43it/s]\n"
     ]
    },
    {
     "name": "stdout",
     "output_type": "stream",
     "text": [
      "{'val_loss': 1.6649121427681388, 'val_accuracy': 0.6189024390243902, 'precision': 0.6189800366842132, 'recall': 0.6189024390243902, 'f1-score': 0.60584830163525, 'macro_f1-score': 0.40524223584573793, 'balanced_accuracy': 0.40413047850697853, 'mcc': 0.4893834595030862, 'train_loss': 0.5080445762307451}\n",
      "Epoch 5/20\n"
     ]
    },
    {
     "name": "stderr",
     "output_type": "stream",
     "text": [
      "100%|██████████| 716/716 [01:15<00:00,  9.44it/s]\n"
     ]
    },
    {
     "name": "stdout",
     "output_type": "stream",
     "text": [
      "{'val_loss': 1.8627340255714044, 'val_accuracy': 0.5945121951219512, 'precision': 0.6145596046374372, 'recall': 0.5945121951219512, 'f1-score': 0.5966980374004837, 'macro_f1-score': 0.36925100539811395, 'balanced_accuracy': 0.3966651762569544, 'mcc': 0.47447091726380175, 'train_loss': 0.35078721374856026}\n",
      "Epoch 6/20\n"
     ]
    },
    {
     "name": "stderr",
     "output_type": "stream",
     "text": [
      "100%|██████████| 716/716 [01:15<00:00,  9.45it/s]\n"
     ]
    },
    {
     "name": "stdout",
     "output_type": "stream",
     "text": [
      "{'val_loss': 1.8893645485726798, 'val_accuracy': 0.6173780487804879, 'precision': 0.6244088917527246, 'recall': 0.6173780487804879, 'f1-score': 0.6116844390447804, 'macro_f1-score': 0.3818755331936307, 'balanced_accuracy': 0.4018650723824324, 'mcc': 0.49619616516557247, 'train_loss': 0.2624776099896964}\n",
      "Epoch 7/20\n"
     ]
    },
    {
     "name": "stderr",
     "output_type": "stream",
     "text": [
      "100%|██████████| 716/716 [01:15<00:00,  9.45it/s]\n"
     ]
    },
    {
     "name": "stdout",
     "output_type": "stream",
     "text": [
      "{'val_loss': 1.8096536376127383, 'val_accuracy': 0.6196646341463414, 'precision': 0.6416222835970284, 'recall': 0.6196646341463414, 'f1-score': 0.6241696126789344, 'macro_f1-score': 0.4219738716425656, 'balanced_accuracy': 0.4476892540078281, 'mcc': 0.5126427591746384, 'train_loss': 0.22106155058871121}\n",
      "Epoch 8/20\n"
     ]
    },
    {
     "name": "stderr",
     "output_type": "stream",
     "text": [
      "100%|██████████| 716/716 [01:15<00:00,  9.44it/s]\n"
     ]
    },
    {
     "name": "stdout",
     "output_type": "stream",
     "text": [
      "{'val_loss': 1.9666384356777842, 'val_accuracy': 0.6532012195121951, 'precision': 0.6285022843404366, 'recall': 0.6532012195121951, 'f1-score': 0.6251683948773196, 'macro_f1-score': 0.4096207203730873, 'balanced_accuracy': 0.39060865560502656, 'mcc': 0.5260445334140047, 'train_loss': 0.18975435895259965}\n",
      "Epoch 9/20\n"
     ]
    },
    {
     "name": "stderr",
     "output_type": "stream",
     "text": [
      "100%|██████████| 716/716 [01:15<00:00,  9.44it/s]\n"
     ]
    },
    {
     "name": "stdout",
     "output_type": "stream",
     "text": [
      "{'val_loss': 1.9960868838356762, 'val_accuracy': 0.6234756097560976, 'precision': 0.6240398357166274, 'recall': 0.6234756097560976, 'f1-score': 0.6161970736443912, 'macro_f1-score': 0.39858880729156027, 'balanced_accuracy': 0.40426189331205115, 'mcc': 0.5002776224055866, 'train_loss': 0.14673632979243423}\n",
      "Epoch 10/20\n"
     ]
    },
    {
     "name": "stderr",
     "output_type": "stream",
     "text": [
      "100%|██████████| 716/716 [01:15<00:00,  9.45it/s]\n"
     ]
    },
    {
     "name": "stdout",
     "output_type": "stream",
     "text": [
      "{'val_loss': 2.1625536425811487, 'val_accuracy': 0.6089939024390244, 'precision': 0.6253315890504919, 'recall': 0.6089939024390244, 'f1-score': 0.6094897252133136, 'macro_f1-score': 0.41743490990866866, 'balanced_accuracy': 0.44666550270153865, 'mcc': 0.49636571322261297, 'train_loss': 0.14799676812839221}\n",
      "Early stopping.\n",
      "\n",
      "[Fold 2]\n",
      "🚀 Using Word2Vec for data augmentation + under-sampling\n",
      "🔻 Under-sampling label 0: 2471 → 2000\n",
      "🔧 Augmenting label 1: 22 → 200 (+178)\n",
      "🔧 Augmenting label 2: 64 → 200 (+136)\n",
      "🔧 Augmenting label 3: 24 → 200 (+176)\n",
      "🔧 Augmenting label 4: 190 → 200 (+10)\n",
      "🔧 Augmenting label 5: 113 → 200 (+87)\n",
      "🔧 Augmenting label 6: 93 → 200 (+107)\n",
      "🔧 Augmenting label 7: 30 → 200 (+170)\n",
      "🔧 Augmenting label 8: 68 → 200 (+132)\n",
      "🔧 Augmenting label 9: 30 → 200 (+170)\n",
      "🔧 Augmenting label 10: 67 → 200 (+133)\n",
      "🔧 Augmenting label 11: 169 → 200 (+31)\n",
      "🔧 Augmenting label 12: 189 → 200 (+11)\n",
      "🔧 Augmenting label 13: 29 → 200 (+171)\n",
      "🔧 Augmenting label 14: 23 → 200 (+177)\n",
      "🔧 Augmenting label 15: 24 → 200 (+176)\n",
      "🔧 Augmenting label 16: 20 → 200 (+180)\n",
      "🔧 Augmenting label 17: 182 → 200 (+18)\n",
      "🔧 Augmenting label 18: 92 → 200 (+108)\n",
      "🔧 Augmenting label 19: 44 → 200 (+156)\n",
      "🔧 Augmenting label 20: 13 → 200 (+187)\n",
      "🔧 Augmenting label 21: 36 → 200 (+164)\n",
      "🔧 Augmenting label 22: 76 → 200 (+124)\n",
      "🔧 Augmenting label 23: 157 → 200 (+43)\n",
      "🔧 Augmenting label 24: 12 → 200 (+188)\n",
      "🔧 Augmenting label 25: 44 → 200 (+156)\n",
      "🔧 Augmenting label 26: 84 → 200 (+116)\n",
      "🔧 Augmenting label 27: 48 → 200 (+152)\n",
      "🔧 Augmenting label 28: 12 → 200 (+188)\n",
      "🔧 Augmenting label 29: 12 → 200 (+188)\n",
      "🔧 Augmenting label 30: 12 → 200 (+188)\n",
      "🔧 Augmenting label 31: 75 → 200 (+125)\n",
      "🔧 Augmenting label 32: 36 → 200 (+164)\n",
      "🔧 Augmenting label 33: 31 → 200 (+169)\n",
      "🔧 Augmenting label 34: 29 → 200 (+171)\n",
      "🔧 Augmenting label 35: 12 → 200 (+188)\n",
      "🔧 Augmenting label 36: 21 → 200 (+179)\n",
      "🔧 Augmenting label 37: 16 → 200 (+184)\n",
      "🔧 Augmenting label 38: 33 → 200 (+167)\n",
      "🔧 Augmenting label 39: 11 → 200 (+189)\n",
      "🔧 Augmenting label 40: 8 → 200 (+192)\n",
      "🔧 Augmenting label 41: 57 → 200 (+143)\n",
      "🔧 Augmenting label 42: 19 → 200 (+181)\n",
      "🔧 Augmenting label 43: 9 → 200 (+191)\n",
      "🔧 Augmenting label 44: 54 → 200 (+146)\n",
      "🔧 Augmenting label 46: 62 → 200 (+138)\n",
      "🔧 Augmenting label 47: 80 → 200 (+120)\n",
      "Label distribution after resampling:\n",
      "  label 0: 2000\n",
      "  label 1: 200\n",
      "  label 2: 200\n",
      "  label 3: 200\n",
      "  label 4: 200\n",
      "  label 5: 200\n",
      "  label 6: 200\n",
      "  label 7: 200\n",
      "  label 8: 200\n",
      "  label 9: 200\n",
      "  label 10: 200\n",
      "  label 11: 200\n",
      "  label 12: 200\n",
      "  label 13: 200\n",
      "  label 14: 200\n",
      "  label 15: 200\n",
      "  label 16: 200\n",
      "  label 17: 200\n",
      "  label 18: 200\n",
      "  label 19: 200\n",
      "  label 20: 200\n",
      "  label 21: 200\n",
      "  label 22: 200\n",
      "  label 23: 200\n",
      "  label 24: 200\n",
      "  label 25: 200\n",
      "  label 26: 200\n",
      "  label 27: 200\n",
      "  label 28: 200\n",
      "  label 29: 200\n",
      "  label 30: 200\n",
      "  label 31: 200\n",
      "  label 32: 200\n",
      "  label 33: 200\n",
      "  label 34: 200\n",
      "  label 35: 200\n",
      "  label 36: 200\n",
      "  label 37: 200\n",
      "  label 38: 200\n",
      "  label 39: 200\n",
      "  label 40: 200\n",
      "  label 41: 200\n",
      "  label 42: 200\n",
      "  label 43: 200\n",
      "  label 44: 200\n",
      "  label 45: 242\n",
      "  label 46: 200\n",
      "  label 47: 200\n",
      "model is microsoft/deberta-base cnn\n",
      "Epoch 1/20\n"
     ]
    },
    {
     "name": "stderr",
     "output_type": "stream",
     "text": [
      "100%|██████████| 716/716 [01:15<00:00,  9.45it/s]\n"
     ]
    },
    {
     "name": "stdout",
     "output_type": "stream",
     "text": [
      "{'val_loss': 3.390044078594301, 'val_accuracy': 0.47139588100686497, 'precision': 0.2222140766302384, 'recall': 0.47139588100686497, 'f1-score': 0.302045261236125, 'macro_f1-score': 0.01334888543286677, 'balanced_accuracy': 0.020833333333333332, 'mcc': 0.0, 'train_loss': 3.6820856169615377}\n",
      "Epoch 2/20\n"
     ]
    },
    {
     "name": "stderr",
     "output_type": "stream",
     "text": [
      "100%|██████████| 716/716 [01:15<00:00,  9.45it/s]\n"
     ]
    },
    {
     "name": "stdout",
     "output_type": "stream",
     "text": [
      "{'val_loss': 3.3374433313928, 'val_accuracy': 0.47139588100686497, 'precision': 0.2222140766302384, 'recall': 0.47139588100686497, 'f1-score': 0.302045261236125, 'macro_f1-score': 0.01334888543286677, 'balanced_accuracy': 0.020833333333333332, 'mcc': 0.0, 'train_loss': 3.6597483091514205}\n",
      "Epoch 3/20\n"
     ]
    },
    {
     "name": "stderr",
     "output_type": "stream",
     "text": [
      "100%|██████████| 716/716 [01:15<00:00,  9.43it/s]\n"
     ]
    },
    {
     "name": "stdout",
     "output_type": "stream",
     "text": [
      "{'val_loss': 3.2803738059067147, 'val_accuracy': 0.47139588100686497, 'precision': 0.2222140766302384, 'recall': 0.47139588100686497, 'f1-score': 0.302045261236125, 'macro_f1-score': 0.01334888543286677, 'balanced_accuracy': 0.020833333333333332, 'mcc': 0.0, 'train_loss': 3.653666964123369}\n",
      "Epoch 4/20\n"
     ]
    },
    {
     "name": "stderr",
     "output_type": "stream",
     "text": [
      "100%|██████████| 716/716 [01:15<00:00,  9.44it/s]\n"
     ]
    },
    {
     "name": "stdout",
     "output_type": "stream",
     "text": [
      "{'val_loss': 3.2767023313336257, 'val_accuracy': 0.47139588100686497, 'precision': 0.2222140766302384, 'recall': 0.47139588100686497, 'f1-score': 0.302045261236125, 'macro_f1-score': 0.01334888543286677, 'balanced_accuracy': 0.020833333333333332, 'mcc': 0.0, 'train_loss': 3.6490639361589317}\n",
      "Early stopping.\n",
      "\n",
      "[Fold 3]\n",
      "🚀 Using Word2Vec for data augmentation + under-sampling\n",
      "🔻 Under-sampling label 0: 2471 → 2000\n",
      "🔧 Augmenting label 1: 22 → 200 (+178)\n",
      "🔧 Augmenting label 2: 64 → 200 (+136)\n",
      "🔧 Augmenting label 3: 24 → 200 (+176)\n",
      "🔧 Augmenting label 4: 190 → 200 (+10)\n",
      "🔧 Augmenting label 5: 113 → 200 (+87)\n",
      "🔧 Augmenting label 6: 93 → 200 (+107)\n",
      "🔧 Augmenting label 7: 30 → 200 (+170)\n",
      "🔧 Augmenting label 8: 68 → 200 (+132)\n",
      "🔧 Augmenting label 9: 30 → 200 (+170)\n",
      "🔧 Augmenting label 10: 67 → 200 (+133)\n",
      "🔧 Augmenting label 11: 169 → 200 (+31)\n",
      "🔧 Augmenting label 12: 190 → 200 (+10)\n",
      "🔧 Augmenting label 13: 28 → 200 (+172)\n",
      "🔧 Augmenting label 14: 23 → 200 (+177)\n",
      "🔧 Augmenting label 15: 25 → 200 (+175)\n",
      "🔧 Augmenting label 16: 19 → 200 (+181)\n",
      "🔧 Augmenting label 17: 182 → 200 (+18)\n",
      "🔧 Augmenting label 18: 92 → 200 (+108)\n",
      "🔧 Augmenting label 19: 44 → 200 (+156)\n",
      "🔧 Augmenting label 20: 14 → 200 (+186)\n",
      "🔧 Augmenting label 21: 35 → 200 (+165)\n",
      "🔧 Augmenting label 22: 76 → 200 (+124)\n",
      "🔧 Augmenting label 23: 157 → 200 (+43)\n",
      "🔧 Augmenting label 24: 13 → 200 (+187)\n",
      "🔧 Augmenting label 25: 44 → 200 (+156)\n",
      "🔧 Augmenting label 26: 84 → 200 (+116)\n",
      "🔧 Augmenting label 27: 48 → 200 (+152)\n",
      "🔧 Augmenting label 28: 11 → 200 (+189)\n",
      "🔧 Augmenting label 29: 13 → 200 (+187)\n",
      "🔧 Augmenting label 30: 11 → 200 (+189)\n",
      "🔧 Augmenting label 31: 76 → 200 (+124)\n",
      "🔧 Augmenting label 32: 36 → 200 (+164)\n",
      "🔧 Augmenting label 33: 31 → 200 (+169)\n",
      "🔧 Augmenting label 34: 30 → 200 (+170)\n",
      "🔧 Augmenting label 35: 11 → 200 (+189)\n",
      "🔧 Augmenting label 36: 21 → 200 (+179)\n",
      "🔧 Augmenting label 37: 16 → 200 (+184)\n",
      "🔧 Augmenting label 38: 32 → 200 (+168)\n",
      "🔧 Augmenting label 39: 11 → 200 (+189)\n",
      "🔧 Augmenting label 40: 9 → 200 (+191)\n",
      "🔧 Augmenting label 41: 57 → 200 (+143)\n",
      "🔧 Augmenting label 42: 18 → 200 (+182)\n",
      "🔧 Augmenting label 43: 9 → 200 (+191)\n",
      "🔧 Augmenting label 44: 55 → 200 (+145)\n",
      "🔧 Augmenting label 46: 62 → 200 (+138)\n",
      "🔧 Augmenting label 47: 80 → 200 (+120)\n",
      "Label distribution after resampling:\n",
      "  label 0: 2000\n",
      "  label 1: 200\n",
      "  label 2: 200\n",
      "  label 3: 200\n",
      "  label 4: 200\n",
      "  label 5: 200\n",
      "  label 6: 200\n",
      "  label 7: 200\n",
      "  label 8: 200\n",
      "  label 9: 200\n",
      "  label 10: 200\n",
      "  label 11: 200\n",
      "  label 12: 200\n",
      "  label 13: 200\n",
      "  label 14: 200\n",
      "  label 15: 200\n",
      "  label 16: 200\n",
      "  label 17: 200\n",
      "  label 18: 200\n",
      "  label 19: 200\n",
      "  label 20: 200\n",
      "  label 21: 200\n",
      "  label 22: 200\n",
      "  label 23: 200\n",
      "  label 24: 200\n",
      "  label 25: 200\n",
      "  label 26: 200\n",
      "  label 27: 200\n",
      "  label 28: 200\n",
      "  label 29: 200\n",
      "  label 30: 200\n",
      "  label 31: 200\n",
      "  label 32: 200\n",
      "  label 33: 200\n",
      "  label 34: 200\n",
      "  label 35: 200\n",
      "  label 36: 200\n",
      "  label 37: 200\n",
      "  label 38: 200\n",
      "  label 39: 200\n",
      "  label 40: 200\n",
      "  label 41: 200\n",
      "  label 42: 200\n",
      "  label 43: 200\n",
      "  label 44: 200\n",
      "  label 45: 241\n",
      "  label 46: 200\n",
      "  label 47: 200\n",
      "model is microsoft/deberta-base cnn\n",
      "Epoch 1/20\n"
     ]
    },
    {
     "name": "stderr",
     "output_type": "stream",
     "text": [
      "100%|██████████| 716/716 [01:15<00:00,  9.45it/s]\n"
     ]
    },
    {
     "name": "stdout",
     "output_type": "stream",
     "text": [
      "{'val_loss': 1.6755421706816045, 'val_accuracy': 0.5469107551487414, 'precision': 0.5412766192163644, 'recall': 0.5469107551487414, 'f1-score': 0.5235890961713391, 'macro_f1-score': 0.29006451707049835, 'balanced_accuracy': 0.34849687297312143, 'mcc': 0.3932628239615397, 'train_loss': 2.4948454382283063}\n",
      "Epoch 2/20\n"
     ]
    },
    {
     "name": "stderr",
     "output_type": "stream",
     "text": [
      "100%|██████████| 716/716 [01:15<00:00,  9.45it/s]\n"
     ]
    },
    {
     "name": "stdout",
     "output_type": "stream",
     "text": [
      "{'val_loss': 1.5689977051281347, 'val_accuracy': 0.5827612509534706, 'precision': 0.6043473218332673, 'recall': 0.5827612509534706, 'f1-score': 0.5835816486974569, 'macro_f1-score': 0.3562354789371982, 'balanced_accuracy': 0.37718588054748364, 'mcc': 0.45849682372465567, 'train_loss': 1.1574986749354688}\n",
      "Epoch 3/20\n"
     ]
    },
    {
     "name": "stderr",
     "output_type": "stream",
     "text": [
      "100%|██████████| 716/716 [01:15<00:00,  9.44it/s]\n"
     ]
    },
    {
     "name": "stdout",
     "output_type": "stream",
     "text": [
      "{'val_loss': 1.7266832917201809, 'val_accuracy': 0.5789473684210527, 'precision': 0.613562379089684, 'recall': 0.5789473684210527, 'f1-score': 0.5818440914406103, 'macro_f1-score': 0.3471439669191696, 'balanced_accuracy': 0.363534277875504, 'mcc': 0.4657543104664926, 'train_loss': 0.6071504156089611}\n",
      "Epoch 4/20\n"
     ]
    },
    {
     "name": "stderr",
     "output_type": "stream",
     "text": [
      "100%|██████████| 716/716 [01:15<00:00,  9.45it/s]\n"
     ]
    },
    {
     "name": "stdout",
     "output_type": "stream",
     "text": [
      "{'val_loss': 1.7524887588692875, 'val_accuracy': 0.6163234172387491, 'precision': 0.5918289638070457, 'recall': 0.6163234172387491, 'f1-score': 0.5957509360671907, 'macro_f1-score': 0.3556017882191356, 'balanced_accuracy': 0.3465149011953703, 'mcc': 0.4855572243705045, 'train_loss': 0.3785830726951111}\n",
      "Epoch 5/20\n"
     ]
    },
    {
     "name": "stderr",
     "output_type": "stream",
     "text": [
      "100%|██████████| 716/716 [01:15<00:00,  9.45it/s]\n"
     ]
    },
    {
     "name": "stdout",
     "output_type": "stream",
     "text": [
      "{'val_loss': 1.9911167090985833, 'val_accuracy': 0.5987795575896262, 'precision': 0.6276435839281389, 'recall': 0.5987795575896262, 'f1-score': 0.5996501749889913, 'macro_f1-score': 0.374618893316093, 'balanced_accuracy': 0.37611082683914177, 'mcc': 0.4851772979088735, 'train_loss': 0.28039483954497824}\n",
      "Epoch 6/20\n"
     ]
    },
    {
     "name": "stderr",
     "output_type": "stream",
     "text": [
      "100%|██████████| 716/716 [01:15<00:00,  9.45it/s]\n"
     ]
    },
    {
     "name": "stdout",
     "output_type": "stream",
     "text": [
      "{'val_loss': 1.9506653494587758, 'val_accuracy': 0.6369183829138062, 'precision': 0.6262527864697927, 'recall': 0.6369183829138062, 'f1-score': 0.6153555633909843, 'macro_f1-score': 0.373234689162109, 'balanced_accuracy': 0.3546204815505796, 'mcc': 0.5070120400250459, 'train_loss': 0.22649575888804244}\n",
      "Epoch 7/20\n"
     ]
    },
    {
     "name": "stderr",
     "output_type": "stream",
     "text": [
      "100%|██████████| 716/716 [01:15<00:00,  9.46it/s]\n"
     ]
    },
    {
     "name": "stdout",
     "output_type": "stream",
     "text": [
      "{'val_loss': 1.9840653816737779, 'val_accuracy': 0.6338672768878718, 'precision': 0.6088376613193716, 'recall': 0.6338672768878718, 'f1-score': 0.6044934064726029, 'macro_f1-score': 0.3827119981826246, 'balanced_accuracy': 0.348547109112022, 'mcc': 0.49806480032917777, 'train_loss': 0.1868349651432056}\n",
      "Epoch 8/20\n"
     ]
    },
    {
     "name": "stderr",
     "output_type": "stream",
     "text": [
      "100%|██████████| 716/716 [01:15<00:00,  9.45it/s]\n"
     ]
    },
    {
     "name": "stdout",
     "output_type": "stream",
     "text": [
      "{'val_loss': 2.0549923382336046, 'val_accuracy': 0.6048817696414951, 'precision': 0.6257237251455694, 'recall': 0.6048817696414951, 'f1-score': 0.6063015559787067, 'macro_f1-score': 0.38481408618561225, 'balanced_accuracy': 0.3918622596879005, 'mcc': 0.49092499885033203, 'train_loss': 0.1758052434670796}\n",
      "Epoch 9/20\n"
     ]
    },
    {
     "name": "stderr",
     "output_type": "stream",
     "text": [
      "100%|██████████| 716/716 [01:15<00:00,  9.45it/s]\n"
     ]
    },
    {
     "name": "stdout",
     "output_type": "stream",
     "text": [
      "{'val_loss': 2.163877989824225, 'val_accuracy': 0.6209000762776506, 'precision': 0.6139628219023419, 'recall': 0.6209000762776506, 'f1-score': 0.6111129130826191, 'macro_f1-score': 0.3698902913303202, 'balanced_accuracy': 0.3740771230603263, 'mcc': 0.49677919102392565, 'train_loss': 0.12033086766289838}\n",
      "Epoch 10/20\n"
     ]
    },
    {
     "name": "stderr",
     "output_type": "stream",
     "text": [
      "100%|██████████| 716/716 [01:15<00:00,  9.46it/s]\n"
     ]
    },
    {
     "name": "stdout",
     "output_type": "stream",
     "text": [
      "{'val_loss': 2.2515054189304755, 'val_accuracy': 0.6155606407322655, 'precision': 0.6234728191089725, 'recall': 0.6155606407322655, 'f1-score': 0.6066566158657722, 'macro_f1-score': 0.3655945411408652, 'balanced_accuracy': 0.36075922782678377, 'mcc': 0.4904911139992229, 'train_loss': 0.12204827774916359}\n",
      "Epoch 11/20\n"
     ]
    },
    {
     "name": "stderr",
     "output_type": "stream",
     "text": [
      "100%|██████████| 716/716 [01:15<00:00,  9.45it/s]\n"
     ]
    },
    {
     "name": "stdout",
     "output_type": "stream",
     "text": [
      "{'val_loss': 2.3839939123973615, 'val_accuracy': 0.6132723112128147, 'precision': 0.6047809550367004, 'recall': 0.6132723112128147, 'f1-score': 0.5889581483163768, 'macro_f1-score': 0.3350312786512562, 'balanced_accuracy': 0.328976186793461, 'mcc': 0.4702084399813476, 'train_loss': 0.12445424259728076}\n",
      "Early stopping.\n",
      "\n",
      "[Fold 4]\n",
      "🚀 Using Word2Vec for data augmentation + under-sampling\n",
      "🔻 Under-sampling label 0: 2471 → 2000\n",
      "🔧 Augmenting label 1: 22 → 200 (+178)\n",
      "🔧 Augmenting label 2: 64 → 200 (+136)\n",
      "🔧 Augmenting label 3: 24 → 200 (+176)\n",
      "🔧 Augmenting label 4: 190 → 200 (+10)\n",
      "🔧 Augmenting label 5: 113 → 200 (+87)\n",
      "🔧 Augmenting label 6: 93 → 200 (+107)\n",
      "🔧 Augmenting label 7: 31 → 200 (+169)\n",
      "🔧 Augmenting label 8: 68 → 200 (+132)\n",
      "🔧 Augmenting label 9: 29 → 200 (+171)\n",
      "🔧 Augmenting label 10: 67 → 200 (+133)\n",
      "🔧 Augmenting label 11: 169 → 200 (+31)\n",
      "🔧 Augmenting label 12: 190 → 200 (+10)\n",
      "🔧 Augmenting label 13: 29 → 200 (+171)\n",
      "🔧 Augmenting label 14: 22 → 200 (+178)\n",
      "🔧 Augmenting label 15: 25 → 200 (+175)\n",
      "🔧 Augmenting label 16: 19 → 200 (+181)\n",
      "🔧 Augmenting label 17: 182 → 200 (+18)\n",
      "🔧 Augmenting label 18: 92 → 200 (+108)\n",
      "🔧 Augmenting label 19: 44 → 200 (+156)\n",
      "🔧 Augmenting label 20: 14 → 200 (+186)\n",
      "🔧 Augmenting label 21: 35 → 200 (+165)\n",
      "🔧 Augmenting label 22: 76 → 200 (+124)\n",
      "🔧 Augmenting label 23: 158 → 200 (+42)\n",
      "🔧 Augmenting label 24: 13 → 200 (+187)\n",
      "🔧 Augmenting label 25: 44 → 200 (+156)\n",
      "🔧 Augmenting label 26: 84 → 200 (+116)\n",
      "🔧 Augmenting label 27: 48 → 200 (+152)\n",
      "🔧 Augmenting label 28: 11 → 200 (+189)\n",
      "🔧 Augmenting label 29: 13 → 200 (+187)\n",
      "🔧 Augmenting label 30: 11 → 200 (+189)\n",
      "🔧 Augmenting label 31: 75 → 200 (+125)\n",
      "🔧 Augmenting label 32: 36 → 200 (+164)\n",
      "🔧 Augmenting label 33: 31 → 200 (+169)\n",
      "🔧 Augmenting label 34: 30 → 200 (+170)\n",
      "🔧 Augmenting label 35: 11 → 200 (+189)\n",
      "🔧 Augmenting label 36: 22 → 200 (+178)\n",
      "🔧 Augmenting label 37: 16 → 200 (+184)\n",
      "🔧 Augmenting label 38: 33 → 200 (+167)\n",
      "🔧 Augmenting label 39: 10 → 200 (+190)\n",
      "🔧 Augmenting label 40: 9 → 200 (+191)\n",
      "🔧 Augmenting label 41: 56 → 200 (+144)\n",
      "🔧 Augmenting label 42: 18 → 200 (+182)\n",
      "🔧 Augmenting label 43: 9 → 200 (+191)\n",
      "🔧 Augmenting label 44: 55 → 200 (+145)\n",
      "🔧 Augmenting label 46: 62 → 200 (+138)\n",
      "🔧 Augmenting label 47: 80 → 200 (+120)\n",
      "Label distribution after resampling:\n",
      "  label 0: 2000\n",
      "  label 1: 200\n",
      "  label 2: 200\n",
      "  label 3: 200\n",
      "  label 4: 200\n",
      "  label 5: 200\n",
      "  label 6: 200\n",
      "  label 7: 200\n",
      "  label 8: 200\n",
      "  label 9: 200\n",
      "  label 10: 200\n",
      "  label 11: 200\n",
      "  label 12: 200\n",
      "  label 13: 200\n",
      "  label 14: 200\n",
      "  label 15: 200\n",
      "  label 16: 200\n",
      "  label 17: 200\n",
      "  label 18: 200\n",
      "  label 19: 200\n",
      "  label 20: 200\n",
      "  label 21: 200\n",
      "  label 22: 200\n",
      "  label 23: 200\n",
      "  label 24: 200\n",
      "  label 25: 200\n",
      "  label 26: 200\n",
      "  label 27: 200\n",
      "  label 28: 200\n",
      "  label 29: 200\n",
      "  label 30: 200\n",
      "  label 31: 200\n",
      "  label 32: 200\n",
      "  label 33: 200\n",
      "  label 34: 200\n",
      "  label 35: 200\n",
      "  label 36: 200\n",
      "  label 37: 200\n",
      "  label 38: 200\n",
      "  label 39: 200\n",
      "  label 40: 200\n",
      "  label 41: 200\n",
      "  label 42: 200\n",
      "  label 43: 200\n",
      "  label 44: 200\n",
      "  label 45: 241\n",
      "  label 46: 200\n",
      "  label 47: 200\n",
      "model is microsoft/deberta-base cnn\n",
      "Epoch 1/20\n"
     ]
    },
    {
     "name": "stderr",
     "output_type": "stream",
     "text": [
      "100%|██████████| 716/716 [01:15<00:00,  9.44it/s]\n"
     ]
    },
    {
     "name": "stdout",
     "output_type": "stream",
     "text": [
      "{'val_loss': 3.050296146695207, 'val_accuracy': 0.47139588100686497, 'precision': 0.2222140766302384, 'recall': 0.47139588100686497, 'f1-score': 0.302045261236125, 'macro_f1-score': 0.01334888543286677, 'balanced_accuracy': 0.020833333333333332, 'mcc': 0.0, 'train_loss': 3.6756286737639146}\n",
      "Epoch 2/20\n"
     ]
    },
    {
     "name": "stderr",
     "output_type": "stream",
     "text": [
      "100%|██████████| 716/716 [01:15<00:00,  9.44it/s]\n"
     ]
    },
    {
     "name": "stdout",
     "output_type": "stream",
     "text": [
      "{'val_loss': 3.211049356111666, 'val_accuracy': 0.47139588100686497, 'precision': 0.2222140766302384, 'recall': 0.47139588100686497, 'f1-score': 0.302045261236125, 'macro_f1-score': 0.01334888543286677, 'balanced_accuracy': 0.020833333333333332, 'mcc': 0.0, 'train_loss': 3.6538174941553083}\n",
      "Epoch 3/20\n"
     ]
    },
    {
     "name": "stderr",
     "output_type": "stream",
     "text": [
      "100%|██████████| 716/716 [01:15<00:00,  9.44it/s]\n"
     ]
    },
    {
     "name": "stdout",
     "output_type": "stream",
     "text": [
      "{'val_loss': 3.2383518451597633, 'val_accuracy': 0.47139588100686497, 'precision': 0.2222140766302384, 'recall': 0.47139588100686497, 'f1-score': 0.302045261236125, 'macro_f1-score': 0.01334888543286677, 'balanced_accuracy': 0.020833333333333332, 'mcc': 0.0, 'train_loss': 3.658031376713481}\n",
      "Epoch 4/20\n"
     ]
    },
    {
     "name": "stderr",
     "output_type": "stream",
     "text": [
      "100%|██████████| 716/716 [01:15<00:00,  9.44it/s]\n"
     ]
    },
    {
     "name": "stdout",
     "output_type": "stream",
     "text": [
      "{'val_loss': 2.9847902466611163, 'val_accuracy': 0.47139588100686497, 'precision': 0.2222140766302384, 'recall': 0.47139588100686497, 'f1-score': 0.302045261236125, 'macro_f1-score': 0.01334888543286677, 'balanced_accuracy': 0.020833333333333332, 'mcc': 0.0, 'train_loss': 3.6334881123217793}\n",
      "Early stopping.\n",
      "\n",
      "[Fold 5]\n",
      "🚀 Using Word2Vec for data augmentation + under-sampling\n",
      "🔻 Under-sampling label 0: 2472 → 2000\n",
      "🔧 Augmenting label 1: 21 → 200 (+179)\n",
      "🔧 Augmenting label 2: 64 → 200 (+136)\n",
      "🔧 Augmenting label 3: 24 → 200 (+176)\n",
      "🔧 Augmenting label 4: 191 → 200 (+9)\n",
      "🔧 Augmenting label 5: 112 → 200 (+88)\n",
      "🔧 Augmenting label 6: 92 → 200 (+108)\n",
      "🔧 Augmenting label 7: 31 → 200 (+169)\n",
      "🔧 Augmenting label 8: 68 → 200 (+132)\n",
      "🔧 Augmenting label 9: 29 → 200 (+171)\n",
      "🔧 Augmenting label 10: 68 → 200 (+132)\n",
      "🔧 Augmenting label 11: 168 → 200 (+32)\n",
      "🔧 Augmenting label 12: 190 → 200 (+10)\n",
      "🔧 Augmenting label 13: 29 → 200 (+171)\n",
      "🔧 Augmenting label 14: 22 → 200 (+178)\n",
      "🔧 Augmenting label 15: 25 → 200 (+175)\n",
      "🔧 Augmenting label 16: 19 → 200 (+181)\n",
      "🔧 Augmenting label 17: 183 → 200 (+17)\n",
      "🔧 Augmenting label 18: 92 → 200 (+108)\n",
      "🔧 Augmenting label 19: 44 → 200 (+156)\n",
      "🔧 Augmenting label 20: 14 → 200 (+186)\n",
      "🔧 Augmenting label 21: 35 → 200 (+165)\n",
      "🔧 Augmenting label 22: 76 → 200 (+124)\n",
      "🔧 Augmenting label 23: 158 → 200 (+42)\n",
      "🔧 Augmenting label 24: 13 → 200 (+187)\n",
      "🔧 Augmenting label 25: 44 → 200 (+156)\n",
      "🔧 Augmenting label 26: 84 → 200 (+116)\n",
      "🔧 Augmenting label 27: 48 → 200 (+152)\n",
      "🔧 Augmenting label 28: 11 → 200 (+189)\n",
      "🔧 Augmenting label 29: 13 → 200 (+187)\n",
      "🔧 Augmenting label 30: 11 → 200 (+189)\n",
      "🔧 Augmenting label 31: 75 → 200 (+125)\n",
      "🔧 Augmenting label 32: 36 → 200 (+164)\n",
      "🔧 Augmenting label 33: 31 → 200 (+169)\n",
      "🔧 Augmenting label 34: 30 → 200 (+170)\n",
      "🔧 Augmenting label 35: 11 → 200 (+189)\n",
      "🔧 Augmenting label 36: 22 → 200 (+178)\n",
      "🔧 Augmenting label 37: 16 → 200 (+184)\n",
      "🔧 Augmenting label 38: 33 → 200 (+167)\n",
      "🔧 Augmenting label 39: 10 → 200 (+190)\n",
      "🔧 Augmenting label 40: 9 → 200 (+191)\n",
      "🔧 Augmenting label 41: 57 → 200 (+143)\n",
      "🔧 Augmenting label 42: 18 → 200 (+182)\n",
      "🔧 Augmenting label 43: 9 → 200 (+191)\n",
      "🔧 Augmenting label 44: 54 → 200 (+146)\n",
      "🔧 Augmenting label 46: 61 → 200 (+139)\n",
      "🔧 Augmenting label 47: 80 → 200 (+120)\n",
      "Label distribution after resampling:\n",
      "  label 0: 2000\n",
      "  label 1: 200\n",
      "  label 2: 200\n",
      "  label 3: 200\n",
      "  label 4: 200\n",
      "  label 5: 200\n",
      "  label 6: 200\n",
      "  label 7: 200\n",
      "  label 8: 200\n",
      "  label 9: 200\n",
      "  label 10: 200\n",
      "  label 11: 200\n",
      "  label 12: 200\n",
      "  label 13: 200\n",
      "  label 14: 200\n",
      "  label 15: 200\n",
      "  label 16: 200\n",
      "  label 17: 200\n",
      "  label 18: 200\n",
      "  label 19: 200\n",
      "  label 20: 200\n",
      "  label 21: 200\n",
      "  label 22: 200\n",
      "  label 23: 200\n",
      "  label 24: 200\n",
      "  label 25: 200\n",
      "  label 26: 200\n",
      "  label 27: 200\n",
      "  label 28: 200\n",
      "  label 29: 200\n",
      "  label 30: 200\n",
      "  label 31: 200\n",
      "  label 32: 200\n",
      "  label 33: 200\n",
      "  label 34: 200\n",
      "  label 35: 200\n",
      "  label 36: 200\n",
      "  label 37: 200\n",
      "  label 38: 200\n",
      "  label 39: 200\n",
      "  label 40: 200\n",
      "  label 41: 200\n",
      "  label 42: 200\n",
      "  label 43: 200\n",
      "  label 44: 200\n",
      "  label 45: 242\n",
      "  label 46: 200\n",
      "  label 47: 200\n",
      "model is microsoft/deberta-base cnn\n",
      "Epoch 1/20\n"
     ]
    },
    {
     "name": "stderr",
     "output_type": "stream",
     "text": [
      "100%|██████████| 716/716 [01:15<00:00,  9.44it/s]\n"
     ]
    },
    {
     "name": "stdout",
     "output_type": "stream",
     "text": [
      "{'val_loss': 1.5145386094000282, 'val_accuracy': 0.5881006864988558, 'precision': 0.5804814091071825, 'recall': 0.5881006864988558, 'f1-score': 0.5450805079156612, 'macro_f1-score': 0.26638109593561804, 'balanced_accuracy': 0.29625595260325577, 'mcc': 0.43446875611987, 'train_loss': 2.586665933525096}\n",
      "Epoch 2/20\n"
     ]
    },
    {
     "name": "stderr",
     "output_type": "stream",
     "text": [
      "100%|██████████| 716/716 [01:15<00:00,  9.43it/s]\n"
     ]
    },
    {
     "name": "stdout",
     "output_type": "stream",
     "text": [
      "{'val_loss': 1.473524570465088, 'val_accuracy': 0.6033562166285278, 'precision': 0.6514236267296575, 'recall': 0.6033562166285278, 'f1-score': 0.6006870096360056, 'macro_f1-score': 0.3920992139318466, 'balanced_accuracy': 0.42195960555569795, 'mcc': 0.49235780273702495, 'train_loss': 1.0618507020050587}\n",
      "Epoch 3/20\n"
     ]
    },
    {
     "name": "stderr",
     "output_type": "stream",
     "text": [
      "100%|██████████| 716/716 [01:15<00:00,  9.44it/s]\n"
     ]
    },
    {
     "name": "stdout",
     "output_type": "stream",
     "text": [
      "{'val_loss': 1.5500991896885197, 'val_accuracy': 0.6308161708619374, 'precision': 0.6396901229791554, 'recall': 0.6308161708619374, 'f1-score': 0.6268086151100957, 'macro_f1-score': 0.3882374905941888, 'balanced_accuracy': 0.4016755752949311, 'mcc': 0.5213395682952917, 'train_loss': 0.5323924529236123}\n",
      "Epoch 4/20\n"
     ]
    },
    {
     "name": "stderr",
     "output_type": "stream",
     "text": [
      "100%|██████████| 716/716 [01:15<00:00,  9.45it/s]\n"
     ]
    },
    {
     "name": "stdout",
     "output_type": "stream",
     "text": [
      "{'val_loss': 1.6229523714722656, 'val_accuracy': 0.6361556064073226, 'precision': 0.6534391182673905, 'recall': 0.6361556064073226, 'f1-score': 0.6268139220519733, 'macro_f1-score': 0.3955173681682284, 'balanced_accuracy': 0.376992161445723, 'mcc': 0.520190376754809, 'train_loss': 0.3247431176272351}\n",
      "Epoch 5/20\n"
     ]
    },
    {
     "name": "stderr",
     "output_type": "stream",
     "text": [
      "100%|██████████| 716/716 [01:15<00:00,  9.45it/s]\n"
     ]
    },
    {
     "name": "stdout",
     "output_type": "stream",
     "text": [
      "{'val_loss': 1.7627678509892486, 'val_accuracy': 0.6323417238749046, 'precision': 0.6450508662184471, 'recall': 0.6323417238749046, 'f1-score': 0.6259621417187039, 'macro_f1-score': 0.3901508615160032, 'balanced_accuracy': 0.37878045059058013, 'mcc': 0.5288079190949001, 'train_loss': 0.21859933955818622}\n",
      "Epoch 6/20\n"
     ]
    },
    {
     "name": "stderr",
     "output_type": "stream",
     "text": [
      "100%|██████████| 716/716 [01:15<00:00,  9.44it/s]\n"
     ]
    },
    {
     "name": "stdout",
     "output_type": "stream",
     "text": [
      "{'val_loss': 1.79138769463795, 'val_accuracy': 0.6453089244851259, 'precision': 0.6420943814265762, 'recall': 0.6453089244851259, 'f1-score': 0.6337510516739222, 'macro_f1-score': 0.40326630050520507, 'balanced_accuracy': 0.3856631586885588, 'mcc': 0.5302698246024596, 'train_loss': 0.1640455547652556}\n",
      "Epoch 7/20\n"
     ]
    },
    {
     "name": "stderr",
     "output_type": "stream",
     "text": [
      "100%|██████████| 716/716 [01:15<00:00,  9.44it/s]\n"
     ]
    },
    {
     "name": "stdout",
     "output_type": "stream",
     "text": [
      "{'val_loss': 1.7423061673961036, 'val_accuracy': 0.6475972540045767, 'precision': 0.6424440721350348, 'recall': 0.6475972540045767, 'f1-score': 0.6370179634733587, 'macro_f1-score': 0.41017253879856863, 'balanced_accuracy': 0.41462430219767915, 'mcc': 0.5390501206581931, 'train_loss': 0.1349164869443789}\n",
      "Epoch 8/20\n"
     ]
    },
    {
     "name": "stderr",
     "output_type": "stream",
     "text": [
      "100%|██████████| 716/716 [01:15<00:00,  9.43it/s]\n"
     ]
    },
    {
     "name": "stdout",
     "output_type": "stream",
     "text": [
      "{'val_loss': 2.0475929666583133, 'val_accuracy': 0.6392067124332571, 'precision': 0.6417060815558978, 'recall': 0.6392067124332571, 'f1-score': 0.6227962246255906, 'macro_f1-score': 0.40571939162309173, 'balanced_accuracy': 0.38877067421869754, 'mcc': 0.5145296487502607, 'train_loss': 0.16382074219047213}\n",
      "Epoch 9/20\n"
     ]
    },
    {
     "name": "stderr",
     "output_type": "stream",
     "text": [
      "100%|██████████| 716/716 [01:15<00:00,  9.45it/s]\n"
     ]
    },
    {
     "name": "stdout",
     "output_type": "stream",
     "text": [
      "{'val_loss': 2.0862873872605765, 'val_accuracy': 0.6506483600305111, 'precision': 0.632871445972161, 'recall': 0.6506483600305111, 'f1-score': 0.6290354591266838, 'macro_f1-score': 0.40944528755125903, 'balanced_accuracy': 0.3864171760117592, 'mcc': 0.5287013968765849, 'train_loss': 0.11022036223085051}\n",
      "Epoch 10/20\n"
     ]
    },
    {
     "name": "stderr",
     "output_type": "stream",
     "text": [
      "100%|██████████| 716/716 [01:15<00:00,  9.45it/s]\n"
     ]
    },
    {
     "name": "stdout",
     "output_type": "stream",
     "text": [
      "{'val_loss': 1.9607479644984733, 'val_accuracy': 0.6636155606407322, 'precision': 0.6431988490996973, 'recall': 0.6636155606407322, 'f1-score': 0.6424431775791377, 'macro_f1-score': 0.42845982074457606, 'balanced_accuracy': 0.40555501850834447, 'mcc': 0.5456691794559362, 'train_loss': 0.11310678275364487}\n",
      "Epoch 11/20\n"
     ]
    },
    {
     "name": "stderr",
     "output_type": "stream",
     "text": [
      "100%|██████████| 716/716 [01:15<00:00,  9.44it/s]\n"
     ]
    },
    {
     "name": "stdout",
     "output_type": "stream",
     "text": [
      "{'val_loss': 2.1304985113987107, 'val_accuracy': 0.6506483600305111, 'precision': 0.6476306068292724, 'recall': 0.6506483600305111, 'f1-score': 0.6412033931636262, 'macro_f1-score': 0.4205150089777394, 'balanced_accuracy': 0.4145488024106892, 'mcc': 0.5424874117950146, 'train_loss': 0.0863540214284807}\n",
      "Epoch 12/20\n"
     ]
    },
    {
     "name": "stderr",
     "output_type": "stream",
     "text": [
      "100%|██████████| 716/716 [01:15<00:00,  9.44it/s]\n"
     ]
    },
    {
     "name": "stdout",
     "output_type": "stream",
     "text": [
      "{'val_loss': 2.1222396093170817, 'val_accuracy': 0.6094584286803967, 'precision': 0.6369974836177189, 'recall': 0.6094584286803967, 'f1-score': 0.61212589254311, 'macro_f1-score': 0.3610095362999475, 'balanced_accuracy': 0.38589402334013984, 'mcc': 0.5055018598502075, 'train_loss': 0.09587414767713463}\n",
      "Epoch 13/20\n"
     ]
    },
    {
     "name": "stderr",
     "output_type": "stream",
     "text": [
      "100%|██████████| 716/716 [01:15<00:00,  9.45it/s]\n"
     ]
    },
    {
     "name": "stdout",
     "output_type": "stream",
     "text": [
      "{'val_loss': 2.2129858852159687, 'val_accuracy': 0.6453089244851259, 'precision': 0.6522810918213439, 'recall': 0.6453089244851259, 'f1-score': 0.6399605600332433, 'macro_f1-score': 0.4263969302426753, 'balanced_accuracy': 0.42595469284388665, 'mcc': 0.541311473909989, 'train_loss': 0.07568245690381649}\n",
      "Early stopping.\n",
      "\n",
      " === microsoft/deberta-base + cnn + word2vec Final 5-fold Cross-Validation Results ===\n",
      "val_loss: 2.4531\n",
      "val_accuracy: 0.5662\n",
      "precision: 0.4710\n",
      "recall: 0.5662\n",
      "f1-score: 0.4954\n",
      "macro_f1-score: 0.2524\n",
      "balanced_accuracy: 0.2574\n",
      "mcc: 0.3098\n",
      "train_loss: 1.5735\n",
      "total_seconds: 3356.0000\n",
      "total_time: 0 hrs 55 mins 56 secs\n",
      "▶ Running: microsoft/deberta-base + lstm + word2vec\n",
      "tokenizer is microsoft/deberta-base\n",
      "Using device: cuda\n",
      "CUDA Available: True\n",
      "CUDA Device: NVIDIA GeForce RTX 5070 Ti\n",
      "Current GPU Memory Allocated: 1.33 GB\n",
      "Current GPU Memory Cached: 6.69 GB\n",
      "\n",
      "[Fold 1]\n",
      "🚀 Using Word2Vec for data augmentation + under-sampling\n",
      "🔻 Under-sampling label 0: 2471 → 2000\n",
      "🔧 Augmenting label 1: 21 → 200 (+179)\n",
      "🔧 Augmenting label 2: 64 → 200 (+136)\n",
      "🔧 Augmenting label 3: 24 → 200 (+176)\n",
      "🔧 Augmenting label 4: 191 → 200 (+9)\n",
      "🔧 Augmenting label 5: 113 → 200 (+87)\n",
      "🔧 Augmenting label 6: 93 → 200 (+107)\n",
      "🔧 Augmenting label 7: 30 → 200 (+170)\n",
      "🔧 Augmenting label 8: 68 → 200 (+132)\n",
      "🔧 Augmenting label 9: 30 → 200 (+170)\n",
      "🔧 Augmenting label 10: 67 → 200 (+133)\n",
      "🔧 Augmenting label 11: 169 → 200 (+31)\n",
      "🔧 Augmenting label 12: 189 → 200 (+11)\n",
      "🔧 Augmenting label 13: 29 → 200 (+171)\n",
      "🔧 Augmenting label 14: 22 → 200 (+178)\n",
      "🔧 Augmenting label 15: 25 → 200 (+175)\n",
      "🔧 Augmenting label 16: 19 → 200 (+181)\n",
      "🔧 Augmenting label 17: 183 → 200 (+17)\n",
      "🔧 Augmenting label 18: 92 → 200 (+108)\n",
      "🔧 Augmenting label 19: 44 → 200 (+156)\n",
      "🔧 Augmenting label 20: 13 → 200 (+187)\n",
      "🔧 Augmenting label 21: 35 → 200 (+165)\n",
      "🔧 Augmenting label 22: 76 → 200 (+124)\n",
      "🔧 Augmenting label 23: 158 → 200 (+42)\n",
      "🔧 Augmenting label 24: 13 → 200 (+187)\n",
      "🔧 Augmenting label 25: 44 → 200 (+156)\n",
      "🔧 Augmenting label 26: 84 → 200 (+116)\n",
      "🔧 Augmenting label 27: 48 → 200 (+152)\n",
      "🔧 Augmenting label 28: 11 → 200 (+189)\n",
      "🔧 Augmenting label 29: 13 → 200 (+187)\n",
      "🔧 Augmenting label 30: 11 → 200 (+189)\n",
      "🔧 Augmenting label 31: 75 → 200 (+125)\n",
      "🔧 Augmenting label 32: 36 → 200 (+164)\n",
      "🔧 Augmenting label 33: 32 → 200 (+168)\n",
      "🔧 Augmenting label 34: 29 → 200 (+171)\n",
      "🔧 Augmenting label 35: 11 → 200 (+189)\n",
      "🔧 Augmenting label 36: 22 → 200 (+178)\n",
      "🔧 Augmenting label 37: 16 → 200 (+184)\n",
      "🔧 Augmenting label 38: 33 → 200 (+167)\n",
      "🔧 Augmenting label 39: 10 → 200 (+190)\n",
      "🔧 Augmenting label 40: 9 → 200 (+191)\n",
      "🔧 Augmenting label 41: 57 → 200 (+143)\n",
      "🔧 Augmenting label 42: 19 → 200 (+181)\n",
      "🔧 Augmenting label 43: 8 → 200 (+192)\n",
      "🔧 Augmenting label 44: 54 → 200 (+146)\n",
      "🔧 Augmenting label 46: 61 → 200 (+139)\n",
      "🔧 Augmenting label 47: 80 → 200 (+120)\n",
      "Label distribution after resampling:\n",
      "  label 0: 2000\n",
      "  label 1: 200\n",
      "  label 2: 200\n",
      "  label 3: 200\n",
      "  label 4: 200\n",
      "  label 5: 200\n",
      "  label 6: 200\n",
      "  label 7: 200\n",
      "  label 8: 200\n",
      "  label 9: 200\n",
      "  label 10: 200\n",
      "  label 11: 200\n",
      "  label 12: 200\n",
      "  label 13: 200\n",
      "  label 14: 200\n",
      "  label 15: 200\n",
      "  label 16: 200\n",
      "  label 17: 200\n",
      "  label 18: 200\n",
      "  label 19: 200\n",
      "  label 20: 200\n",
      "  label 21: 200\n",
      "  label 22: 200\n",
      "  label 23: 200\n",
      "  label 24: 200\n",
      "  label 25: 200\n",
      "  label 26: 200\n",
      "  label 27: 200\n",
      "  label 28: 200\n",
      "  label 29: 200\n",
      "  label 30: 200\n",
      "  label 31: 200\n",
      "  label 32: 200\n",
      "  label 33: 200\n",
      "  label 34: 200\n",
      "  label 35: 200\n",
      "  label 36: 200\n",
      "  label 37: 200\n",
      "  label 38: 200\n",
      "  label 39: 200\n",
      "  label 40: 200\n",
      "  label 41: 200\n",
      "  label 42: 200\n",
      "  label 43: 200\n",
      "  label 44: 200\n",
      "  label 45: 242\n",
      "  label 46: 200\n",
      "  label 47: 200\n",
      "model is microsoft/deberta-base lstm\n",
      "Epoch 1/20\n"
     ]
    },
    {
     "name": "stderr",
     "output_type": "stream",
     "text": [
      "100%|██████████| 716/716 [01:16<00:00,  9.34it/s]\n"
     ]
    },
    {
     "name": "stdout",
     "output_type": "stream",
     "text": [
      "{'val_loss': 2.640486586384657, 'val_accuracy': 0.4557926829268293, 'precision': 0.28389876675474024, 'recall': 0.4557926829268293, 'f1-score': 0.340390012620595, 'macro_f1-score': 0.026466590450701277, 'balanced_accuracy': 0.03482431807674526, 'mcc': 0.1386977549393117, 'train_loss': 3.447558195564334}\n",
      "Epoch 2/20\n"
     ]
    },
    {
     "name": "stderr",
     "output_type": "stream",
     "text": [
      "100%|██████████| 716/716 [01:16<00:00,  9.35it/s]\n"
     ]
    },
    {
     "name": "stdout",
     "output_type": "stream",
     "text": [
      "{'val_loss': 3.517477518174706, 'val_accuracy': 0.21798780487804878, 'precision': 0.25861336191904694, 'recall': 0.21798780487804878, 'f1-score': 0.22051326316346145, 'macro_f1-score': 0.03141785354355439, 'balanced_accuracy': 0.0425779444059177, 'mcc': -0.01733882563700756, 'train_loss': 3.1391067228503733}\n",
      "Epoch 3/20\n"
     ]
    },
    {
     "name": "stderr",
     "output_type": "stream",
     "text": [
      "100%|██████████| 716/716 [01:16<00:00,  9.35it/s]\n"
     ]
    },
    {
     "name": "stdout",
     "output_type": "stream",
     "text": [
      "{'val_loss': 2.50922451077438, 'val_accuracy': 0.45960365853658536, 'precision': 0.36474846124349103, 'recall': 0.45960365853658536, 'f1-score': 0.38533436528801657, 'macro_f1-score': 0.04735476634191208, 'balanced_accuracy': 0.06844628088560127, 'mcc': 0.2111108065731017, 'train_loss': 3.043869292269872}\n",
      "Epoch 4/20\n"
     ]
    },
    {
     "name": "stderr",
     "output_type": "stream",
     "text": [
      "100%|██████████| 716/716 [01:16<00:00,  9.35it/s]\n"
     ]
    },
    {
     "name": "stdout",
     "output_type": "stream",
     "text": [
      "{'val_loss': 2.59905418390181, 'val_accuracy': 0.3559451219512195, 'precision': 0.38603127832326545, 'recall': 0.3559451219512195, 'f1-score': 0.34687730954249935, 'macro_f1-score': 0.048488263153336354, 'balanced_accuracy': 0.10549722104966934, 'mcc': 0.17191485234825904, 'train_loss': 2.843323328308553}\n",
      "Epoch 5/20\n"
     ]
    },
    {
     "name": "stderr",
     "output_type": "stream",
     "text": [
      "100%|██████████| 716/716 [01:16<00:00,  9.35it/s]\n"
     ]
    },
    {
     "name": "stdout",
     "output_type": "stream",
     "text": [
      "{'val_loss': 2.4613017774209744, 'val_accuracy': 0.46722560975609756, 'precision': 0.31407471072156995, 'recall': 0.46722560975609756, 'f1-score': 0.3559546650528286, 'macro_f1-score': 0.040050229727678105, 'balanced_accuracy': 0.05426599341192787, 'mcc': 0.16994344008642798, 'train_loss': 3.0120382793455818}\n",
      "Epoch 6/20\n"
     ]
    },
    {
     "name": "stderr",
     "output_type": "stream",
     "text": [
      "100%|██████████| 716/716 [01:16<00:00,  9.35it/s]\n"
     ]
    },
    {
     "name": "stdout",
     "output_type": "stream",
     "text": [
      "{'val_loss': 2.667262471303707, 'val_accuracy': 0.4489329268292683, 'precision': 0.325210253979562, 'recall': 0.4489329268292683, 'f1-score': 0.35913242138092555, 'macro_f1-score': 0.04128998734576017, 'balanced_accuracy': 0.053409473987447297, 'mcc': 0.17229963552915806, 'train_loss': 3.0152936701002067}\n",
      "Epoch 7/20\n"
     ]
    },
    {
     "name": "stderr",
     "output_type": "stream",
     "text": [
      "100%|██████████| 716/716 [01:16<00:00,  9.33it/s]\n"
     ]
    },
    {
     "name": "stdout",
     "output_type": "stream",
     "text": [
      "{'val_loss': 2.6113107291663566, 'val_accuracy': 0.4146341463414634, 'precision': 0.3573681068315225, 'recall': 0.4146341463414634, 'f1-score': 0.36717872525820056, 'macro_f1-score': 0.037004291012251236, 'balanced_accuracy': 0.07275003852673755, 'mcc': 0.19443612607760039, 'train_loss': 2.877186798350105}\n",
      "Early stopping.\n",
      "\n",
      "[Fold 2]\n",
      "🚀 Using Word2Vec for data augmentation + under-sampling\n",
      "🔻 Under-sampling label 0: 2471 → 2000\n",
      "🔧 Augmenting label 1: 22 → 200 (+178)\n",
      "🔧 Augmenting label 2: 64 → 200 (+136)\n",
      "🔧 Augmenting label 3: 24 → 200 (+176)\n",
      "🔧 Augmenting label 4: 190 → 200 (+10)\n",
      "🔧 Augmenting label 5: 113 → 200 (+87)\n",
      "🔧 Augmenting label 6: 93 → 200 (+107)\n",
      "🔧 Augmenting label 7: 30 → 200 (+170)\n",
      "🔧 Augmenting label 8: 68 → 200 (+132)\n",
      "🔧 Augmenting label 9: 30 → 200 (+170)\n",
      "🔧 Augmenting label 10: 67 → 200 (+133)\n",
      "🔧 Augmenting label 11: 169 → 200 (+31)\n",
      "🔧 Augmenting label 12: 189 → 200 (+11)\n",
      "🔧 Augmenting label 13: 29 → 200 (+171)\n",
      "🔧 Augmenting label 14: 23 → 200 (+177)\n",
      "🔧 Augmenting label 15: 24 → 200 (+176)\n",
      "🔧 Augmenting label 16: 20 → 200 (+180)\n",
      "🔧 Augmenting label 17: 182 → 200 (+18)\n",
      "🔧 Augmenting label 18: 92 → 200 (+108)\n",
      "🔧 Augmenting label 19: 44 → 200 (+156)\n",
      "🔧 Augmenting label 20: 13 → 200 (+187)\n",
      "🔧 Augmenting label 21: 36 → 200 (+164)\n",
      "🔧 Augmenting label 22: 76 → 200 (+124)\n",
      "🔧 Augmenting label 23: 157 → 200 (+43)\n",
      "🔧 Augmenting label 24: 12 → 200 (+188)\n",
      "🔧 Augmenting label 25: 44 → 200 (+156)\n",
      "🔧 Augmenting label 26: 84 → 200 (+116)\n",
      "🔧 Augmenting label 27: 48 → 200 (+152)\n",
      "🔧 Augmenting label 28: 12 → 200 (+188)\n",
      "🔧 Augmenting label 29: 12 → 200 (+188)\n",
      "🔧 Augmenting label 30: 12 → 200 (+188)\n",
      "🔧 Augmenting label 31: 75 → 200 (+125)\n",
      "🔧 Augmenting label 32: 36 → 200 (+164)\n",
      "🔧 Augmenting label 33: 31 → 200 (+169)\n",
      "🔧 Augmenting label 34: 29 → 200 (+171)\n",
      "🔧 Augmenting label 35: 12 → 200 (+188)\n",
      "🔧 Augmenting label 36: 21 → 200 (+179)\n",
      "🔧 Augmenting label 37: 16 → 200 (+184)\n",
      "🔧 Augmenting label 38: 33 → 200 (+167)\n",
      "🔧 Augmenting label 39: 11 → 200 (+189)\n",
      "🔧 Augmenting label 40: 8 → 200 (+192)\n",
      "🔧 Augmenting label 41: 57 → 200 (+143)\n",
      "🔧 Augmenting label 42: 19 → 200 (+181)\n",
      "🔧 Augmenting label 43: 9 → 200 (+191)\n",
      "🔧 Augmenting label 44: 54 → 200 (+146)\n",
      "🔧 Augmenting label 46: 62 → 200 (+138)\n",
      "🔧 Augmenting label 47: 80 → 200 (+120)\n",
      "Label distribution after resampling:\n",
      "  label 0: 2000\n",
      "  label 1: 200\n",
      "  label 2: 200\n",
      "  label 3: 200\n",
      "  label 4: 200\n",
      "  label 5: 200\n",
      "  label 6: 200\n",
      "  label 7: 200\n",
      "  label 8: 200\n",
      "  label 9: 200\n",
      "  label 10: 200\n",
      "  label 11: 200\n",
      "  label 12: 200\n",
      "  label 13: 200\n",
      "  label 14: 200\n",
      "  label 15: 200\n",
      "  label 16: 200\n",
      "  label 17: 200\n",
      "  label 18: 200\n",
      "  label 19: 200\n",
      "  label 20: 200\n",
      "  label 21: 200\n",
      "  label 22: 200\n",
      "  label 23: 200\n",
      "  label 24: 200\n",
      "  label 25: 200\n",
      "  label 26: 200\n",
      "  label 27: 200\n",
      "  label 28: 200\n",
      "  label 29: 200\n",
      "  label 30: 200\n",
      "  label 31: 200\n",
      "  label 32: 200\n",
      "  label 33: 200\n",
      "  label 34: 200\n",
      "  label 35: 200\n",
      "  label 36: 200\n",
      "  label 37: 200\n",
      "  label 38: 200\n",
      "  label 39: 200\n",
      "  label 40: 200\n",
      "  label 41: 200\n",
      "  label 42: 200\n",
      "  label 43: 200\n",
      "  label 44: 200\n",
      "  label 45: 242\n",
      "  label 46: 200\n",
      "  label 47: 200\n",
      "model is microsoft/deberta-base lstm\n",
      "Epoch 1/20\n"
     ]
    },
    {
     "name": "stderr",
     "output_type": "stream",
     "text": [
      "100%|██████████| 716/716 [01:16<00:00,  9.34it/s]\n"
     ]
    },
    {
     "name": "stdout",
     "output_type": "stream",
     "text": [
      "{'val_loss': 2.493602908239132, 'val_accuracy': 0.5003813882532419, 'precision': 0.3113684009132704, 'recall': 0.5003813882532419, 'f1-score': 0.37086659203469025, 'macro_f1-score': 0.04451692550323994, 'balanced_accuracy': 0.059835080437127715, 'mcc': 0.2080952396866963, 'train_loss': 3.4911872458191557}\n",
      "Epoch 2/20\n"
     ]
    },
    {
     "name": "stderr",
     "output_type": "stream",
     "text": [
      "100%|██████████| 716/716 [01:16<00:00,  9.37it/s]\n"
     ]
    },
    {
     "name": "stdout",
     "output_type": "stream",
     "text": [
      "{'val_loss': 2.514080194438376, 'val_accuracy': 0.5049580472921434, 'precision': 0.3302344293809109, 'recall': 0.5049580472921434, 'f1-score': 0.38422239821894405, 'macro_f1-score': 0.04797837425799876, 'balanced_accuracy': 0.06554083268842925, 'mcc': 0.22935543833658356, 'train_loss': 3.30470941419708}\n",
      "Epoch 3/20\n"
     ]
    },
    {
     "name": "stderr",
     "output_type": "stream",
     "text": [
      "100%|██████████| 716/716 [01:16<00:00,  9.35it/s]\n"
     ]
    },
    {
     "name": "stdout",
     "output_type": "stream",
     "text": [
      "{'val_loss': 2.4986010295588796, 'val_accuracy': 0.479023646071701, 'precision': 0.3630097367315765, 'recall': 0.479023646071701, 'f1-score': 0.40420433346186646, 'macro_f1-score': 0.04791004409538863, 'balanced_accuracy': 0.06849539265992287, 'mcc': 0.2516074153077958, 'train_loss': 3.199755699607913}\n",
      "Epoch 4/20\n"
     ]
    },
    {
     "name": "stderr",
     "output_type": "stream",
     "text": [
      "100%|██████████| 716/716 [01:16<00:00,  9.35it/s]\n"
     ]
    },
    {
     "name": "stdout",
     "output_type": "stream",
     "text": [
      "{'val_loss': 2.691028059982672, 'val_accuracy': 0.39893211289092295, 'precision': 0.3605621694037111, 'recall': 0.39893211289092295, 'f1-score': 0.3634660116127396, 'macro_f1-score': 0.025021508305534887, 'balanced_accuracy': 0.045990548690791416, 'mcc': 0.1847937014422165, 'train_loss': 3.079647286644195}\n",
      "Epoch 5/20\n"
     ]
    },
    {
     "name": "stderr",
     "output_type": "stream",
     "text": [
      "100%|██████████| 716/716 [01:16<00:00,  9.36it/s]\n"
     ]
    },
    {
     "name": "stdout",
     "output_type": "stream",
     "text": [
      "{'val_loss': 2.944944564889117, 'val_accuracy': 0.47139588100686497, 'precision': 0.2222140766302384, 'recall': 0.47139588100686497, 'f1-score': 0.302045261236125, 'macro_f1-score': 0.01334888543286677, 'balanced_accuracy': 0.020833333333333332, 'mcc': 0.0, 'train_loss': 3.314972924453586}\n",
      "Early stopping.\n",
      "\n",
      "[Fold 3]\n",
      "🚀 Using Word2Vec for data augmentation + under-sampling\n",
      "🔻 Under-sampling label 0: 2471 → 2000\n",
      "🔧 Augmenting label 1: 22 → 200 (+178)\n",
      "🔧 Augmenting label 2: 64 → 200 (+136)\n",
      "🔧 Augmenting label 3: 24 → 200 (+176)\n",
      "🔧 Augmenting label 4: 190 → 200 (+10)\n",
      "🔧 Augmenting label 5: 113 → 200 (+87)\n",
      "🔧 Augmenting label 6: 93 → 200 (+107)\n",
      "🔧 Augmenting label 7: 30 → 200 (+170)\n",
      "🔧 Augmenting label 8: 68 → 200 (+132)\n",
      "🔧 Augmenting label 9: 30 → 200 (+170)\n",
      "🔧 Augmenting label 10: 67 → 200 (+133)\n",
      "🔧 Augmenting label 11: 169 → 200 (+31)\n",
      "🔧 Augmenting label 12: 190 → 200 (+10)\n",
      "🔧 Augmenting label 13: 28 → 200 (+172)\n",
      "🔧 Augmenting label 14: 23 → 200 (+177)\n",
      "🔧 Augmenting label 15: 25 → 200 (+175)\n",
      "🔧 Augmenting label 16: 19 → 200 (+181)\n",
      "🔧 Augmenting label 17: 182 → 200 (+18)\n",
      "🔧 Augmenting label 18: 92 → 200 (+108)\n",
      "🔧 Augmenting label 19: 44 → 200 (+156)\n",
      "🔧 Augmenting label 20: 14 → 200 (+186)\n",
      "🔧 Augmenting label 21: 35 → 200 (+165)\n",
      "🔧 Augmenting label 22: 76 → 200 (+124)\n",
      "🔧 Augmenting label 23: 157 → 200 (+43)\n",
      "🔧 Augmenting label 24: 13 → 200 (+187)\n",
      "🔧 Augmenting label 25: 44 → 200 (+156)\n",
      "🔧 Augmenting label 26: 84 → 200 (+116)\n",
      "🔧 Augmenting label 27: 48 → 200 (+152)\n",
      "🔧 Augmenting label 28: 11 → 200 (+189)\n",
      "🔧 Augmenting label 29: 13 → 200 (+187)\n",
      "🔧 Augmenting label 30: 11 → 200 (+189)\n",
      "🔧 Augmenting label 31: 76 → 200 (+124)\n",
      "🔧 Augmenting label 32: 36 → 200 (+164)\n",
      "🔧 Augmenting label 33: 31 → 200 (+169)\n",
      "🔧 Augmenting label 34: 30 → 200 (+170)\n",
      "🔧 Augmenting label 35: 11 → 200 (+189)\n",
      "🔧 Augmenting label 36: 21 → 200 (+179)\n",
      "🔧 Augmenting label 37: 16 → 200 (+184)\n",
      "🔧 Augmenting label 38: 32 → 200 (+168)\n",
      "🔧 Augmenting label 39: 11 → 200 (+189)\n",
      "🔧 Augmenting label 40: 9 → 200 (+191)\n",
      "🔧 Augmenting label 41: 57 → 200 (+143)\n",
      "🔧 Augmenting label 42: 18 → 200 (+182)\n",
      "🔧 Augmenting label 43: 9 → 200 (+191)\n",
      "🔧 Augmenting label 44: 55 → 200 (+145)\n",
      "🔧 Augmenting label 46: 62 → 200 (+138)\n",
      "🔧 Augmenting label 47: 80 → 200 (+120)\n",
      "Label distribution after resampling:\n",
      "  label 0: 2000\n",
      "  label 1: 200\n",
      "  label 2: 200\n",
      "  label 3: 200\n",
      "  label 4: 200\n",
      "  label 5: 200\n",
      "  label 6: 200\n",
      "  label 7: 200\n",
      "  label 8: 200\n",
      "  label 9: 200\n",
      "  label 10: 200\n",
      "  label 11: 200\n",
      "  label 12: 200\n",
      "  label 13: 200\n",
      "  label 14: 200\n",
      "  label 15: 200\n",
      "  label 16: 200\n",
      "  label 17: 200\n",
      "  label 18: 200\n",
      "  label 19: 200\n",
      "  label 20: 200\n",
      "  label 21: 200\n",
      "  label 22: 200\n",
      "  label 23: 200\n",
      "  label 24: 200\n",
      "  label 25: 200\n",
      "  label 26: 200\n",
      "  label 27: 200\n",
      "  label 28: 200\n",
      "  label 29: 200\n",
      "  label 30: 200\n",
      "  label 31: 200\n",
      "  label 32: 200\n",
      "  label 33: 200\n",
      "  label 34: 200\n",
      "  label 35: 200\n",
      "  label 36: 200\n",
      "  label 37: 200\n",
      "  label 38: 200\n",
      "  label 39: 200\n",
      "  label 40: 200\n",
      "  label 41: 200\n",
      "  label 42: 200\n",
      "  label 43: 200\n",
      "  label 44: 200\n",
      "  label 45: 241\n",
      "  label 46: 200\n",
      "  label 47: 200\n",
      "model is microsoft/deberta-base lstm\n",
      "Epoch 1/20\n"
     ]
    },
    {
     "name": "stderr",
     "output_type": "stream",
     "text": [
      "100%|██████████| 716/716 [01:16<00:00,  9.35it/s]\n"
     ]
    },
    {
     "name": "stdout",
     "output_type": "stream",
     "text": [
      "{'val_loss': 2.9113647036436126, 'val_accuracy': 0.47139588100686497, 'precision': 0.2222140766302384, 'recall': 0.47139588100686497, 'f1-score': 0.302045261236125, 'macro_f1-score': 0.01334888543286677, 'balanced_accuracy': 0.020833333333333332, 'mcc': 0.0, 'train_loss': 3.588733175446867}\n",
      "Epoch 2/20\n"
     ]
    },
    {
     "name": "stderr",
     "output_type": "stream",
     "text": [
      "100%|██████████| 716/716 [01:16<00:00,  9.34it/s]\n"
     ]
    },
    {
     "name": "stdout",
     "output_type": "stream",
     "text": [
      "{'val_loss': 2.9831062816992038, 'val_accuracy': 0.47139588100686497, 'precision': 0.2222140766302384, 'recall': 0.47139588100686497, 'f1-score': 0.302045261236125, 'macro_f1-score': 0.01334888543286677, 'balanced_accuracy': 0.020833333333333332, 'mcc': 0.0, 'train_loss': 3.666068544267942}\n",
      "Epoch 3/20\n"
     ]
    },
    {
     "name": "stderr",
     "output_type": "stream",
     "text": [
      "100%|██████████| 716/716 [01:16<00:00,  9.37it/s]\n"
     ]
    },
    {
     "name": "stdout",
     "output_type": "stream",
     "text": [
      "{'val_loss': 2.97563411549824, 'val_accuracy': 0.47139588100686497, 'precision': 0.2222140766302384, 'recall': 0.47139588100686497, 'f1-score': 0.302045261236125, 'macro_f1-score': 0.01334888543286677, 'balanced_accuracy': 0.020833333333333332, 'mcc': 0.0, 'train_loss': 3.6560525358056224}\n",
      "Epoch 4/20\n"
     ]
    },
    {
     "name": "stderr",
     "output_type": "stream",
     "text": [
      "100%|██████████| 716/716 [01:16<00:00,  9.34it/s]\n"
     ]
    },
    {
     "name": "stdout",
     "output_type": "stream",
     "text": [
      "{'val_loss': 2.98048762577336, 'val_accuracy': 0.47139588100686497, 'precision': 0.2222140766302384, 'recall': 0.47139588100686497, 'f1-score': 0.302045261236125, 'macro_f1-score': 0.01334888543286677, 'balanced_accuracy': 0.020833333333333332, 'mcc': 0.0, 'train_loss': 3.655321842465321}\n",
      "Early stopping.\n",
      "\n",
      "[Fold 4]\n",
      "🚀 Using Word2Vec for data augmentation + under-sampling\n",
      "🔻 Under-sampling label 0: 2471 → 2000\n",
      "🔧 Augmenting label 1: 22 → 200 (+178)\n",
      "🔧 Augmenting label 2: 64 → 200 (+136)\n",
      "🔧 Augmenting label 3: 24 → 200 (+176)\n",
      "🔧 Augmenting label 4: 190 → 200 (+10)\n",
      "🔧 Augmenting label 5: 113 → 200 (+87)\n",
      "🔧 Augmenting label 6: 93 → 200 (+107)\n",
      "🔧 Augmenting label 7: 31 → 200 (+169)\n",
      "🔧 Augmenting label 8: 68 → 200 (+132)\n",
      "🔧 Augmenting label 9: 29 → 200 (+171)\n",
      "🔧 Augmenting label 10: 67 → 200 (+133)\n",
      "🔧 Augmenting label 11: 169 → 200 (+31)\n",
      "🔧 Augmenting label 12: 190 → 200 (+10)\n",
      "🔧 Augmenting label 13: 29 → 200 (+171)\n",
      "🔧 Augmenting label 14: 22 → 200 (+178)\n",
      "🔧 Augmenting label 15: 25 → 200 (+175)\n",
      "🔧 Augmenting label 16: 19 → 200 (+181)\n",
      "🔧 Augmenting label 17: 182 → 200 (+18)\n",
      "🔧 Augmenting label 18: 92 → 200 (+108)\n",
      "🔧 Augmenting label 19: 44 → 200 (+156)\n",
      "🔧 Augmenting label 20: 14 → 200 (+186)\n",
      "🔧 Augmenting label 21: 35 → 200 (+165)\n",
      "🔧 Augmenting label 22: 76 → 200 (+124)\n",
      "🔧 Augmenting label 23: 158 → 200 (+42)\n",
      "🔧 Augmenting label 24: 13 → 200 (+187)\n",
      "🔧 Augmenting label 25: 44 → 200 (+156)\n",
      "🔧 Augmenting label 26: 84 → 200 (+116)\n",
      "🔧 Augmenting label 27: 48 → 200 (+152)\n",
      "🔧 Augmenting label 28: 11 → 200 (+189)\n",
      "🔧 Augmenting label 29: 13 → 200 (+187)\n",
      "🔧 Augmenting label 30: 11 → 200 (+189)\n",
      "🔧 Augmenting label 31: 75 → 200 (+125)\n",
      "🔧 Augmenting label 32: 36 → 200 (+164)\n",
      "🔧 Augmenting label 33: 31 → 200 (+169)\n",
      "🔧 Augmenting label 34: 30 → 200 (+170)\n",
      "🔧 Augmenting label 35: 11 → 200 (+189)\n",
      "🔧 Augmenting label 36: 22 → 200 (+178)\n",
      "🔧 Augmenting label 37: 16 → 200 (+184)\n",
      "🔧 Augmenting label 38: 33 → 200 (+167)\n",
      "🔧 Augmenting label 39: 10 → 200 (+190)\n",
      "🔧 Augmenting label 40: 9 → 200 (+191)\n",
      "🔧 Augmenting label 41: 56 → 200 (+144)\n",
      "🔧 Augmenting label 42: 18 → 200 (+182)\n",
      "🔧 Augmenting label 43: 9 → 200 (+191)\n",
      "🔧 Augmenting label 44: 55 → 200 (+145)\n",
      "🔧 Augmenting label 46: 62 → 200 (+138)\n",
      "🔧 Augmenting label 47: 80 → 200 (+120)\n",
      "Label distribution after resampling:\n",
      "  label 0: 2000\n",
      "  label 1: 200\n",
      "  label 2: 200\n",
      "  label 3: 200\n",
      "  label 4: 200\n",
      "  label 5: 200\n",
      "  label 6: 200\n",
      "  label 7: 200\n",
      "  label 8: 200\n",
      "  label 9: 200\n",
      "  label 10: 200\n",
      "  label 11: 200\n",
      "  label 12: 200\n",
      "  label 13: 200\n",
      "  label 14: 200\n",
      "  label 15: 200\n",
      "  label 16: 200\n",
      "  label 17: 200\n",
      "  label 18: 200\n",
      "  label 19: 200\n",
      "  label 20: 200\n",
      "  label 21: 200\n",
      "  label 22: 200\n",
      "  label 23: 200\n",
      "  label 24: 200\n",
      "  label 25: 200\n",
      "  label 26: 200\n",
      "  label 27: 200\n",
      "  label 28: 200\n",
      "  label 29: 200\n",
      "  label 30: 200\n",
      "  label 31: 200\n",
      "  label 32: 200\n",
      "  label 33: 200\n",
      "  label 34: 200\n",
      "  label 35: 200\n",
      "  label 36: 200\n",
      "  label 37: 200\n",
      "  label 38: 200\n",
      "  label 39: 200\n",
      "  label 40: 200\n",
      "  label 41: 200\n",
      "  label 42: 200\n",
      "  label 43: 200\n",
      "  label 44: 200\n",
      "  label 45: 241\n",
      "  label 46: 200\n",
      "  label 47: 200\n",
      "model is microsoft/deberta-base lstm\n",
      "Epoch 1/20\n"
     ]
    },
    {
     "name": "stderr",
     "output_type": "stream",
     "text": [
      "100%|██████████| 716/716 [01:16<00:00,  9.34it/s]\n"
     ]
    },
    {
     "name": "stdout",
     "output_type": "stream",
     "text": [
      "{'val_loss': 2.4276070783777937, 'val_accuracy': 0.4744469870327994, 'precision': 0.35486256567785984, 'recall': 0.4744469870327994, 'f1-score': 0.39968422085932753, 'macro_f1-score': 0.044909238664342654, 'balanced_accuracy': 0.07155744372175939, 'mcc': 0.24657785186977826, 'train_loss': 3.4085690582264734}\n",
      "Epoch 2/20\n"
     ]
    },
    {
     "name": "stderr",
     "output_type": "stream",
     "text": [
      "100%|██████████| 716/716 [01:16<00:00,  9.37it/s]\n"
     ]
    },
    {
     "name": "stdout",
     "output_type": "stream",
     "text": [
      "{'val_loss': 2.7545204366125713, 'val_accuracy': 0.2601067887109077, 'precision': 0.37114848416746277, 'recall': 0.2601067887109077, 'f1-score': 0.2821451119214232, 'macro_f1-score': 0.042270870102245624, 'balanced_accuracy': 0.07658916899501693, 'mcc': 0.105890687455373, 'train_loss': 3.041329339229861}\n",
      "Epoch 3/20\n"
     ]
    },
    {
     "name": "stderr",
     "output_type": "stream",
     "text": [
      "100%|██████████| 716/716 [01:16<00:00,  9.35it/s]\n"
     ]
    },
    {
     "name": "stdout",
     "output_type": "stream",
     "text": [
      "{'val_loss': 2.8174545532319604, 'val_accuracy': 0.47139588100686497, 'precision': 0.2222140766302384, 'recall': 0.47139588100686497, 'f1-score': 0.302045261236125, 'macro_f1-score': 0.01334888543286677, 'balanced_accuracy': 0.020833333333333332, 'mcc': 0.0, 'train_loss': 3.322529481442947}\n",
      "Epoch 4/20\n"
     ]
    },
    {
     "name": "stderr",
     "output_type": "stream",
     "text": [
      "100%|██████████| 716/716 [01:16<00:00,  9.35it/s]\n"
     ]
    },
    {
     "name": "stdout",
     "output_type": "stream",
     "text": [
      "{'val_loss': 2.987374119642304, 'val_accuracy': 0.47139588100686497, 'precision': 0.22375011863459493, 'recall': 0.47139588100686497, 'f1-score': 0.30346109839816937, 'macro_f1-score': 0.013411458333333334, 'balanced_accuracy': 0.020833333333333332, 'mcc': 0.03129889268837391, 'train_loss': 3.6373529237741864}\n",
      "Early stopping.\n",
      "\n",
      "[Fold 5]\n",
      "🚀 Using Word2Vec for data augmentation + under-sampling\n",
      "🔻 Under-sampling label 0: 2472 → 2000\n",
      "🔧 Augmenting label 1: 21 → 200 (+179)\n",
      "🔧 Augmenting label 2: 64 → 200 (+136)\n",
      "🔧 Augmenting label 3: 24 → 200 (+176)\n",
      "🔧 Augmenting label 4: 191 → 200 (+9)\n",
      "🔧 Augmenting label 5: 112 → 200 (+88)\n",
      "🔧 Augmenting label 6: 92 → 200 (+108)\n",
      "🔧 Augmenting label 7: 31 → 200 (+169)\n",
      "🔧 Augmenting label 8: 68 → 200 (+132)\n",
      "🔧 Augmenting label 9: 29 → 200 (+171)\n",
      "🔧 Augmenting label 10: 68 → 200 (+132)\n",
      "🔧 Augmenting label 11: 168 → 200 (+32)\n",
      "🔧 Augmenting label 12: 190 → 200 (+10)\n",
      "🔧 Augmenting label 13: 29 → 200 (+171)\n",
      "🔧 Augmenting label 14: 22 → 200 (+178)\n",
      "🔧 Augmenting label 15: 25 → 200 (+175)\n",
      "🔧 Augmenting label 16: 19 → 200 (+181)\n",
      "🔧 Augmenting label 17: 183 → 200 (+17)\n",
      "🔧 Augmenting label 18: 92 → 200 (+108)\n",
      "🔧 Augmenting label 19: 44 → 200 (+156)\n",
      "🔧 Augmenting label 20: 14 → 200 (+186)\n",
      "🔧 Augmenting label 21: 35 → 200 (+165)\n",
      "🔧 Augmenting label 22: 76 → 200 (+124)\n",
      "🔧 Augmenting label 23: 158 → 200 (+42)\n",
      "🔧 Augmenting label 24: 13 → 200 (+187)\n",
      "🔧 Augmenting label 25: 44 → 200 (+156)\n",
      "🔧 Augmenting label 26: 84 → 200 (+116)\n",
      "🔧 Augmenting label 27: 48 → 200 (+152)\n",
      "🔧 Augmenting label 28: 11 → 200 (+189)\n",
      "🔧 Augmenting label 29: 13 → 200 (+187)\n",
      "🔧 Augmenting label 30: 11 → 200 (+189)\n",
      "🔧 Augmenting label 31: 75 → 200 (+125)\n",
      "🔧 Augmenting label 32: 36 → 200 (+164)\n",
      "🔧 Augmenting label 33: 31 → 200 (+169)\n",
      "🔧 Augmenting label 34: 30 → 200 (+170)\n",
      "🔧 Augmenting label 35: 11 → 200 (+189)\n",
      "🔧 Augmenting label 36: 22 → 200 (+178)\n",
      "🔧 Augmenting label 37: 16 → 200 (+184)\n",
      "🔧 Augmenting label 38: 33 → 200 (+167)\n",
      "🔧 Augmenting label 39: 10 → 200 (+190)\n",
      "🔧 Augmenting label 40: 9 → 200 (+191)\n",
      "🔧 Augmenting label 41: 57 → 200 (+143)\n",
      "🔧 Augmenting label 42: 18 → 200 (+182)\n",
      "🔧 Augmenting label 43: 9 → 200 (+191)\n",
      "🔧 Augmenting label 44: 54 → 200 (+146)\n",
      "🔧 Augmenting label 46: 61 → 200 (+139)\n",
      "🔧 Augmenting label 47: 80 → 200 (+120)\n",
      "Label distribution after resampling:\n",
      "  label 0: 2000\n",
      "  label 1: 200\n",
      "  label 2: 200\n",
      "  label 3: 200\n",
      "  label 4: 200\n",
      "  label 5: 200\n",
      "  label 6: 200\n",
      "  label 7: 200\n",
      "  label 8: 200\n",
      "  label 9: 200\n",
      "  label 10: 200\n",
      "  label 11: 200\n",
      "  label 12: 200\n",
      "  label 13: 200\n",
      "  label 14: 200\n",
      "  label 15: 200\n",
      "  label 16: 200\n",
      "  label 17: 200\n",
      "  label 18: 200\n",
      "  label 19: 200\n",
      "  label 20: 200\n",
      "  label 21: 200\n",
      "  label 22: 200\n",
      "  label 23: 200\n",
      "  label 24: 200\n",
      "  label 25: 200\n",
      "  label 26: 200\n",
      "  label 27: 200\n",
      "  label 28: 200\n",
      "  label 29: 200\n",
      "  label 30: 200\n",
      "  label 31: 200\n",
      "  label 32: 200\n",
      "  label 33: 200\n",
      "  label 34: 200\n",
      "  label 35: 200\n",
      "  label 36: 200\n",
      "  label 37: 200\n",
      "  label 38: 200\n",
      "  label 39: 200\n",
      "  label 40: 200\n",
      "  label 41: 200\n",
      "  label 42: 200\n",
      "  label 43: 200\n",
      "  label 44: 200\n",
      "  label 45: 242\n",
      "  label 46: 200\n",
      "  label 47: 200\n",
      "model is microsoft/deberta-base lstm\n",
      "Epoch 1/20\n"
     ]
    },
    {
     "name": "stderr",
     "output_type": "stream",
     "text": [
      "100%|██████████| 716/716 [01:16<00:00,  9.36it/s]\n"
     ]
    },
    {
     "name": "stdout",
     "output_type": "stream",
     "text": [
      "{'val_loss': 2.766526071036734, 'val_accuracy': 0.444698703279939, 'precision': 0.22966747411285307, 'recall': 0.444698703279939, 'f1-score': 0.3027913752188421, 'macro_f1-score': 0.01372078747126929, 'balanced_accuracy': 0.021545479102205195, 'mcc': 0.04420687704312055, 'train_loss': 3.4374683496006373}\n",
      "Epoch 2/20\n"
     ]
    },
    {
     "name": "stderr",
     "output_type": "stream",
     "text": [
      "100%|██████████| 716/716 [01:16<00:00,  9.35it/s]\n"
     ]
    },
    {
     "name": "stdout",
     "output_type": "stream",
     "text": [
      "{'val_loss': 2.5403854861492063, 'val_accuracy': 0.45614035087719296, 'precision': 0.31475816567059195, 'recall': 0.45614035087719296, 'f1-score': 0.3677767064857315, 'macro_f1-score': 0.0404443450546965, 'balanced_accuracy': 0.07395377766629792, 'mcc': 0.21104079337190867, 'train_loss': 3.2388638857356664}\n",
      "Epoch 3/20\n"
     ]
    },
    {
     "name": "stderr",
     "output_type": "stream",
     "text": [
      "100%|██████████| 716/716 [01:16<00:00,  9.34it/s]\n"
     ]
    },
    {
     "name": "stdout",
     "output_type": "stream",
     "text": [
      "{'val_loss': 2.3211921206334742, 'val_accuracy': 0.4774980930587338, 'precision': 0.3766988197508813, 'recall': 0.4774980930587338, 'f1-score': 0.4092556065064063, 'macro_f1-score': 0.06987478765042994, 'balanced_accuracy': 0.09099403853622211, 'mcc': 0.2597943776446623, 'train_loss': 2.9756426100291353}\n",
      "Epoch 4/20\n"
     ]
    },
    {
     "name": "stderr",
     "output_type": "stream",
     "text": [
      "100%|██████████| 716/716 [01:16<00:00,  9.36it/s]\n"
     ]
    },
    {
     "name": "stdout",
     "output_type": "stream",
     "text": [
      "{'val_loss': 2.5284405045393035, 'val_accuracy': 0.43478260869565216, 'precision': 0.29743027535588096, 'recall': 0.43478260869565216, 'f1-score': 0.3520998045647773, 'macro_f1-score': 0.021177275476781693, 'balanced_accuracy': 0.04818374540523934, 'mcc': 0.17976960675477358, 'train_loss': 3.1259497290882985}\n",
      "Epoch 5/20\n"
     ]
    },
    {
     "name": "stderr",
     "output_type": "stream",
     "text": [
      "100%|██████████| 716/716 [01:16<00:00,  9.34it/s]\n"
     ]
    },
    {
     "name": "stdout",
     "output_type": "stream",
     "text": [
      "{'val_loss': 2.362726307496792, 'val_accuracy': 0.4614797864225782, 'precision': 0.3574522464582921, 'recall': 0.4614797864225782, 'f1-score': 0.3943481678783447, 'macro_f1-score': 0.03929532082879262, 'balanced_accuracy': 0.07464195136905834, 'mcc': 0.23577354609498727, 'train_loss': 3.02173194705441}\n",
      "Epoch 6/20\n"
     ]
    },
    {
     "name": "stderr",
     "output_type": "stream",
     "text": [
      "100%|██████████| 716/716 [01:16<00:00,  9.35it/s]\n"
     ]
    },
    {
     "name": "stdout",
     "output_type": "stream",
     "text": [
      "{'val_loss': 2.4535782802395705, 'val_accuracy': 0.444698703279939, 'precision': 0.3462805994196953, 'recall': 0.444698703279939, 'f1-score': 0.3840147607194379, 'macro_f1-score': 0.039145145669595975, 'balanced_accuracy': 0.070764299608282, 'mcc': 0.2164606411507926, 'train_loss': 2.886446921019581}\n",
      "Early stopping.\n",
      "\n",
      " === microsoft/deberta-base + lstm + word2vec Final 5-fold Cross-Validation Results ===\n",
      "val_loss: 2.5547\n",
      "val_accuracy: 0.4568\n",
      "precision: 0.3340\n",
      "recall: 0.4568\n",
      "f1-score: 0.3684\n",
      "macro_f1-score: 0.0449\n",
      "balanced_accuracy: 0.0709\n",
      "mcc: 0.1815\n",
      "train_loss: 3.2242\n",
      "total_seconds: 2110.0000\n",
      "total_time: 0 hrs 35 mins 10 secs\n",
      "▶ Running: microsoft/deberta-base + bilstm + word2vec\n",
      "tokenizer is microsoft/deberta-base\n",
      "Using device: cuda\n",
      "CUDA Available: True\n",
      "CUDA Device: NVIDIA GeForce RTX 5070 Ti\n",
      "Current GPU Memory Allocated: 1.33 GB\n",
      "Current GPU Memory Cached: 6.85 GB\n",
      "\n",
      "[Fold 1]\n",
      "🚀 Using Word2Vec for data augmentation + under-sampling\n",
      "🔻 Under-sampling label 0: 2471 → 2000\n",
      "🔧 Augmenting label 1: 21 → 200 (+179)\n",
      "🔧 Augmenting label 2: 64 → 200 (+136)\n",
      "🔧 Augmenting label 3: 24 → 200 (+176)\n",
      "🔧 Augmenting label 4: 191 → 200 (+9)\n",
      "🔧 Augmenting label 5: 113 → 200 (+87)\n",
      "🔧 Augmenting label 6: 93 → 200 (+107)\n",
      "🔧 Augmenting label 7: 30 → 200 (+170)\n",
      "🔧 Augmenting label 8: 68 → 200 (+132)\n",
      "🔧 Augmenting label 9: 30 → 200 (+170)\n",
      "🔧 Augmenting label 10: 67 → 200 (+133)\n",
      "🔧 Augmenting label 11: 169 → 200 (+31)\n",
      "🔧 Augmenting label 12: 189 → 200 (+11)\n",
      "🔧 Augmenting label 13: 29 → 200 (+171)\n",
      "🔧 Augmenting label 14: 22 → 200 (+178)\n",
      "🔧 Augmenting label 15: 25 → 200 (+175)\n",
      "🔧 Augmenting label 16: 19 → 200 (+181)\n",
      "🔧 Augmenting label 17: 183 → 200 (+17)\n",
      "🔧 Augmenting label 18: 92 → 200 (+108)\n",
      "🔧 Augmenting label 19: 44 → 200 (+156)\n",
      "🔧 Augmenting label 20: 13 → 200 (+187)\n",
      "🔧 Augmenting label 21: 35 → 200 (+165)\n",
      "🔧 Augmenting label 22: 76 → 200 (+124)\n",
      "🔧 Augmenting label 23: 158 → 200 (+42)\n",
      "🔧 Augmenting label 24: 13 → 200 (+187)\n",
      "🔧 Augmenting label 25: 44 → 200 (+156)\n",
      "🔧 Augmenting label 26: 84 → 200 (+116)\n",
      "🔧 Augmenting label 27: 48 → 200 (+152)\n",
      "🔧 Augmenting label 28: 11 → 200 (+189)\n",
      "🔧 Augmenting label 29: 13 → 200 (+187)\n",
      "🔧 Augmenting label 30: 11 → 200 (+189)\n",
      "🔧 Augmenting label 31: 75 → 200 (+125)\n",
      "🔧 Augmenting label 32: 36 → 200 (+164)\n",
      "🔧 Augmenting label 33: 32 → 200 (+168)\n",
      "🔧 Augmenting label 34: 29 → 200 (+171)\n",
      "🔧 Augmenting label 35: 11 → 200 (+189)\n",
      "🔧 Augmenting label 36: 22 → 200 (+178)\n",
      "🔧 Augmenting label 37: 16 → 200 (+184)\n",
      "🔧 Augmenting label 38: 33 → 200 (+167)\n",
      "🔧 Augmenting label 39: 10 → 200 (+190)\n",
      "🔧 Augmenting label 40: 9 → 200 (+191)\n",
      "🔧 Augmenting label 41: 57 → 200 (+143)\n",
      "🔧 Augmenting label 42: 19 → 200 (+181)\n",
      "🔧 Augmenting label 43: 8 → 200 (+192)\n",
      "🔧 Augmenting label 44: 54 → 200 (+146)\n",
      "🔧 Augmenting label 46: 61 → 200 (+139)\n",
      "🔧 Augmenting label 47: 80 → 200 (+120)\n",
      "Label distribution after resampling:\n",
      "  label 0: 2000\n",
      "  label 1: 200\n",
      "  label 2: 200\n",
      "  label 3: 200\n",
      "  label 4: 200\n",
      "  label 5: 200\n",
      "  label 6: 200\n",
      "  label 7: 200\n",
      "  label 8: 200\n",
      "  label 9: 200\n",
      "  label 10: 200\n",
      "  label 11: 200\n",
      "  label 12: 200\n",
      "  label 13: 200\n",
      "  label 14: 200\n",
      "  label 15: 200\n",
      "  label 16: 200\n",
      "  label 17: 200\n",
      "  label 18: 200\n",
      "  label 19: 200\n",
      "  label 20: 200\n",
      "  label 21: 200\n",
      "  label 22: 200\n",
      "  label 23: 200\n",
      "  label 24: 200\n",
      "  label 25: 200\n",
      "  label 26: 200\n",
      "  label 27: 200\n",
      "  label 28: 200\n",
      "  label 29: 200\n",
      "  label 30: 200\n",
      "  label 31: 200\n",
      "  label 32: 200\n",
      "  label 33: 200\n",
      "  label 34: 200\n",
      "  label 35: 200\n",
      "  label 36: 200\n",
      "  label 37: 200\n",
      "  label 38: 200\n",
      "  label 39: 200\n",
      "  label 40: 200\n",
      "  label 41: 200\n",
      "  label 42: 200\n",
      "  label 43: 200\n",
      "  label 44: 200\n",
      "  label 45: 242\n",
      "  label 46: 200\n",
      "  label 47: 200\n",
      "model is microsoft/deberta-base bilstm\n",
      "Epoch 1/20\n"
     ]
    },
    {
     "name": "stderr",
     "output_type": "stream",
     "text": [
      "100%|██████████| 716/716 [01:18<00:00,  9.07it/s]\n"
     ]
    },
    {
     "name": "stdout",
     "output_type": "stream",
     "text": [
      "{'val_loss': 2.6486555396056755, 'val_accuracy': 0.4725609756097561, 'precision': 0.31223997538241116, 'recall': 0.4725609756097561, 'f1-score': 0.3542018649368341, 'macro_f1-score': 0.031691123331063005, 'balanced_accuracy': 0.05297346149894693, 'mcc': 0.18055331219750426, 'train_loss': 3.4658286847881765}\n",
      "Epoch 2/20\n"
     ]
    },
    {
     "name": "stderr",
     "output_type": "stream",
     "text": [
      "100%|██████████| 716/716 [01:19<00:00,  9.04it/s]\n"
     ]
    },
    {
     "name": "stdout",
     "output_type": "stream",
     "text": [
      "{'val_loss': 2.4881976639352192, 'val_accuracy': 0.4695121951219512, 'precision': 0.30830635441650567, 'recall': 0.4695121951219512, 'f1-score': 0.36614781825329096, 'macro_f1-score': 0.03477220186373876, 'balanced_accuracy': 0.04820064082806801, 'mcc': 0.19376021392441803, 'train_loss': 3.209558375471131}\n",
      "Epoch 3/20\n"
     ]
    },
    {
     "name": "stderr",
     "output_type": "stream",
     "text": [
      "100%|██████████| 716/716 [01:19<00:00,  9.04it/s]\n"
     ]
    },
    {
     "name": "stdout",
     "output_type": "stream",
     "text": [
      "{'val_loss': 2.5439585432773684, 'val_accuracy': 0.41615853658536583, 'precision': 0.31975415010076946, 'recall': 0.41615853658536583, 'f1-score': 0.3402508459793973, 'macro_f1-score': 0.03936642842660357, 'balanced_accuracy': 0.07022569444444444, 'mcc': 0.14015526443943224, 'train_loss': 2.9932580453723503}\n",
      "Epoch 4/20\n"
     ]
    },
    {
     "name": "stderr",
     "output_type": "stream",
     "text": [
      "100%|██████████| 716/716 [01:19<00:00,  9.05it/s]\n"
     ]
    },
    {
     "name": "stdout",
     "output_type": "stream",
     "text": [
      "{'val_loss': 2.7022644397689075, 'val_accuracy': 0.3856707317073171, 'precision': 0.2710785303502077, 'recall': 0.3856707317073171, 'f1-score': 0.31662718655939043, 'macro_f1-score': 0.022442089221478, 'balanced_accuracy': 0.04531683425797504, 'mcc': 0.11000006803337777, 'train_loss': 2.8916346893630216}\n",
      "Epoch 5/20\n"
     ]
    },
    {
     "name": "stderr",
     "output_type": "stream",
     "text": [
      "100%|██████████| 716/716 [01:18<00:00,  9.07it/s]\n"
     ]
    },
    {
     "name": "stdout",
     "output_type": "stream",
     "text": [
      "{'val_loss': 2.503190488350101, 'val_accuracy': 0.39939024390243905, 'precision': 0.35057126068049715, 'recall': 0.39939024390243905, 'f1-score': 0.36812033811740025, 'macro_f1-score': 0.0494870494423939, 'balanced_accuracy': 0.0966699253865516, 'mcc': 0.19833903389918664, 'train_loss': 3.082330478969233}\n",
      "Epoch 6/20\n"
     ]
    },
    {
     "name": "stderr",
     "output_type": "stream",
     "text": [
      "100%|██████████| 716/716 [01:19<00:00,  9.02it/s]\n"
     ]
    },
    {
     "name": "stdout",
     "output_type": "stream",
     "text": [
      "{'val_loss': 2.4079652021570905, 'val_accuracy': 0.45503048780487804, 'precision': 0.3505141759252404, 'recall': 0.45503048780487804, 'f1-score': 0.38466171020348733, 'macro_f1-score': 0.05811308067605459, 'balanced_accuracy': 0.08477326478424065, 'mcc': 0.21588493737244407, 'train_loss': 2.7921102544781884}\n",
      "Epoch 7/20\n"
     ]
    },
    {
     "name": "stderr",
     "output_type": "stream",
     "text": [
      "100%|██████████| 716/716 [01:19<00:00,  9.02it/s]\n"
     ]
    },
    {
     "name": "stdout",
     "output_type": "stream",
     "text": [
      "{'val_loss': 2.436593482407128, 'val_accuracy': 0.4458841463414634, 'precision': 0.3337071077890525, 'recall': 0.4458841463414634, 'f1-score': 0.3721906642841421, 'macro_f1-score': 0.0572700809538244, 'balanced_accuracy': 0.09293877560676232, 'mcc': 0.1941824579913939, 'train_loss': 2.653650370057069}\n",
      "Epoch 8/20\n"
     ]
    },
    {
     "name": "stderr",
     "output_type": "stream",
     "text": [
      "100%|██████████| 716/716 [01:19<00:00,  9.06it/s]\n"
     ]
    },
    {
     "name": "stdout",
     "output_type": "stream",
     "text": [
      "{'val_loss': 2.4730432338830903, 'val_accuracy': 0.43597560975609756, 'precision': 0.33202966272072076, 'recall': 0.43597560975609756, 'f1-score': 0.3718794649675976, 'macro_f1-score': 0.04298177880137216, 'balanced_accuracy': 0.0645269369025437, 'mcc': 0.19444126891510335, 'train_loss': 2.736111632771998}\n",
      "Epoch 9/20\n"
     ]
    },
    {
     "name": "stderr",
     "output_type": "stream",
     "text": [
      "100%|██████████| 716/716 [01:19<00:00,  9.04it/s]\n"
     ]
    },
    {
     "name": "stdout",
     "output_type": "stream",
     "text": [
      "{'val_loss': 2.4182755627283234, 'val_accuracy': 0.41615853658536583, 'precision': 0.3637193268941887, 'recall': 0.41615853658536583, 'f1-score': 0.3792174935602401, 'macro_f1-score': 0.061965702131332324, 'balanced_accuracy': 0.11976338204262003, 'mcc': 0.21301639946923276, 'train_loss': 2.630034125051019}\n",
      "Epoch 10/20\n"
     ]
    },
    {
     "name": "stderr",
     "output_type": "stream",
     "text": [
      "100%|██████████| 716/716 [01:19<00:00,  9.04it/s]\n"
     ]
    },
    {
     "name": "stdout",
     "output_type": "stream",
     "text": [
      "{'val_loss': 2.4666313834306672, 'val_accuracy': 0.4024390243902439, 'precision': 0.38335353907244824, 'recall': 0.4024390243902439, 'f1-score': 0.37742086622798027, 'macro_f1-score': 0.059995625651302925, 'balanced_accuracy': 0.10385880723371142, 'mcc': 0.1976545036143572, 'train_loss': 2.5016568426313346}\n",
      "Epoch 11/20\n"
     ]
    },
    {
     "name": "stderr",
     "output_type": "stream",
     "text": [
      "100%|██████████| 716/716 [01:18<00:00,  9.06it/s]\n"
     ]
    },
    {
     "name": "stdout",
     "output_type": "stream",
     "text": [
      "{'val_loss': 2.5918101217688583, 'val_accuracy': 0.3559451219512195, 'precision': 0.3827366603394313, 'recall': 0.3559451219512195, 'f1-score': 0.3545740603729469, 'macro_f1-score': 0.06085283691333517, 'balanced_accuracy': 0.13053139608054656, 'mcc': 0.17840525056545598, 'train_loss': 2.5313963823478316}\n",
      "Epoch 12/20\n"
     ]
    },
    {
     "name": "stderr",
     "output_type": "stream",
     "text": [
      "100%|██████████| 716/716 [01:19<00:00,  9.04it/s]\n"
     ]
    },
    {
     "name": "stdout",
     "output_type": "stream",
     "text": [
      "{'val_loss': 2.5599431301035533, 'val_accuracy': 0.3856707317073171, 'precision': 0.37543833600675897, 'recall': 0.3856707317073171, 'f1-score': 0.36709340982445193, 'macro_f1-score': 0.047536049897673995, 'balanced_accuracy': 0.0845535236067479, 'mcc': 0.1880274611318855, 'train_loss': 2.523408361320389}\n",
      "Early stopping.\n",
      "\n",
      "[Fold 2]\n",
      "🚀 Using Word2Vec for data augmentation + under-sampling\n",
      "🔻 Under-sampling label 0: 2471 → 2000\n",
      "🔧 Augmenting label 1: 22 → 200 (+178)\n",
      "🔧 Augmenting label 2: 64 → 200 (+136)\n",
      "🔧 Augmenting label 3: 24 → 200 (+176)\n",
      "🔧 Augmenting label 4: 190 → 200 (+10)\n",
      "🔧 Augmenting label 5: 113 → 200 (+87)\n",
      "🔧 Augmenting label 6: 93 → 200 (+107)\n",
      "🔧 Augmenting label 7: 30 → 200 (+170)\n",
      "🔧 Augmenting label 8: 68 → 200 (+132)\n",
      "🔧 Augmenting label 9: 30 → 200 (+170)\n",
      "🔧 Augmenting label 10: 67 → 200 (+133)\n",
      "🔧 Augmenting label 11: 169 → 200 (+31)\n",
      "🔧 Augmenting label 12: 189 → 200 (+11)\n",
      "🔧 Augmenting label 13: 29 → 200 (+171)\n",
      "🔧 Augmenting label 14: 23 → 200 (+177)\n",
      "🔧 Augmenting label 15: 24 → 200 (+176)\n",
      "🔧 Augmenting label 16: 20 → 200 (+180)\n",
      "🔧 Augmenting label 17: 182 → 200 (+18)\n",
      "🔧 Augmenting label 18: 92 → 200 (+108)\n",
      "🔧 Augmenting label 19: 44 → 200 (+156)\n",
      "🔧 Augmenting label 20: 13 → 200 (+187)\n",
      "🔧 Augmenting label 21: 36 → 200 (+164)\n",
      "🔧 Augmenting label 22: 76 → 200 (+124)\n",
      "🔧 Augmenting label 23: 157 → 200 (+43)\n",
      "🔧 Augmenting label 24: 12 → 200 (+188)\n",
      "🔧 Augmenting label 25: 44 → 200 (+156)\n",
      "🔧 Augmenting label 26: 84 → 200 (+116)\n",
      "🔧 Augmenting label 27: 48 → 200 (+152)\n",
      "🔧 Augmenting label 28: 12 → 200 (+188)\n",
      "🔧 Augmenting label 29: 12 → 200 (+188)\n",
      "🔧 Augmenting label 30: 12 → 200 (+188)\n",
      "🔧 Augmenting label 31: 75 → 200 (+125)\n",
      "🔧 Augmenting label 32: 36 → 200 (+164)\n",
      "🔧 Augmenting label 33: 31 → 200 (+169)\n",
      "🔧 Augmenting label 34: 29 → 200 (+171)\n",
      "🔧 Augmenting label 35: 12 → 200 (+188)\n",
      "🔧 Augmenting label 36: 21 → 200 (+179)\n",
      "🔧 Augmenting label 37: 16 → 200 (+184)\n",
      "🔧 Augmenting label 38: 33 → 200 (+167)\n",
      "🔧 Augmenting label 39: 11 → 200 (+189)\n",
      "🔧 Augmenting label 40: 8 → 200 (+192)\n",
      "🔧 Augmenting label 41: 57 → 200 (+143)\n",
      "🔧 Augmenting label 42: 19 → 200 (+181)\n",
      "🔧 Augmenting label 43: 9 → 200 (+191)\n",
      "🔧 Augmenting label 44: 54 → 200 (+146)\n",
      "🔧 Augmenting label 46: 62 → 200 (+138)\n",
      "🔧 Augmenting label 47: 80 → 200 (+120)\n",
      "Label distribution after resampling:\n",
      "  label 0: 2000\n",
      "  label 1: 200\n",
      "  label 2: 200\n",
      "  label 3: 200\n",
      "  label 4: 200\n",
      "  label 5: 200\n",
      "  label 6: 200\n",
      "  label 7: 200\n",
      "  label 8: 200\n",
      "  label 9: 200\n",
      "  label 10: 200\n",
      "  label 11: 200\n",
      "  label 12: 200\n",
      "  label 13: 200\n",
      "  label 14: 200\n",
      "  label 15: 200\n",
      "  label 16: 200\n",
      "  label 17: 200\n",
      "  label 18: 200\n",
      "  label 19: 200\n",
      "  label 20: 200\n",
      "  label 21: 200\n",
      "  label 22: 200\n",
      "  label 23: 200\n",
      "  label 24: 200\n",
      "  label 25: 200\n",
      "  label 26: 200\n",
      "  label 27: 200\n",
      "  label 28: 200\n",
      "  label 29: 200\n",
      "  label 30: 200\n",
      "  label 31: 200\n",
      "  label 32: 200\n",
      "  label 33: 200\n",
      "  label 34: 200\n",
      "  label 35: 200\n",
      "  label 36: 200\n",
      "  label 37: 200\n",
      "  label 38: 200\n",
      "  label 39: 200\n",
      "  label 40: 200\n",
      "  label 41: 200\n",
      "  label 42: 200\n",
      "  label 43: 200\n",
      "  label 44: 200\n",
      "  label 45: 242\n",
      "  label 46: 200\n",
      "  label 47: 200\n",
      "model is microsoft/deberta-base bilstm\n",
      "Epoch 1/20\n"
     ]
    },
    {
     "name": "stderr",
     "output_type": "stream",
     "text": [
      "100%|██████████| 716/716 [01:19<00:00,  9.03it/s]\n"
     ]
    },
    {
     "name": "stdout",
     "output_type": "stream",
     "text": [
      "{'val_loss': 2.350892796749022, 'val_accuracy': 0.4919908466819222, 'precision': 0.3699579335347376, 'recall': 0.4919908466819222, 'f1-score': 0.4140420548050111, 'macro_f1-score': 0.06475436531777612, 'balanced_accuracy': 0.10839573913496735, 'mcc': 0.26488380935784256, 'train_loss': 3.33302962546908}\n",
      "Epoch 2/20\n"
     ]
    },
    {
     "name": "stderr",
     "output_type": "stream",
     "text": [
      "100%|██████████| 716/716 [01:19<00:00,  9.05it/s]\n"
     ]
    },
    {
     "name": "stdout",
     "output_type": "stream",
     "text": [
      "{'val_loss': 2.143844635021396, 'val_accuracy': 0.459954233409611, 'precision': 0.4691679007338839, 'recall': 0.459954233409611, 'f1-score': 0.4541388979871288, 'macro_f1-score': 0.10925818709218647, 'balanced_accuracy': 0.16077652992363775, 'mcc': 0.2965267987028022, 'train_loss': 2.530776155061562}\n",
      "Epoch 3/20\n"
     ]
    },
    {
     "name": "stderr",
     "output_type": "stream",
     "text": [
      "100%|██████████| 716/716 [01:19<00:00,  9.06it/s]\n"
     ]
    },
    {
     "name": "stdout",
     "output_type": "stream",
     "text": [
      "{'val_loss': 1.8672675882897727, 'val_accuracy': 0.498093058733791, 'precision': 0.538984406547802, 'recall': 0.498093058733791, 'f1-score': 0.4899946467415518, 'macro_f1-score': 0.2041322646509173, 'balanced_accuracy': 0.2695455145455205, 'mcc': 0.3392786540617858, 'train_loss': 1.8973803686696058}\n",
      "Epoch 4/20\n"
     ]
    },
    {
     "name": "stderr",
     "output_type": "stream",
     "text": [
      "100%|██████████| 716/716 [01:19<00:00,  9.04it/s]\n"
     ]
    },
    {
     "name": "stdout",
     "output_type": "stream",
     "text": [
      "{'val_loss': 1.7761221484440128, 'val_accuracy': 0.5408085430968727, 'precision': 0.5703010215027855, 'recall': 0.5408085430968727, 'f1-score': 0.535693236828854, 'macro_f1-score': 0.2763062276877351, 'balanced_accuracy': 0.3387793760088795, 'mcc': 0.4001543245940864, 'train_loss': 1.3530599178548632}\n",
      "Epoch 5/20\n"
     ]
    },
    {
     "name": "stderr",
     "output_type": "stream",
     "text": [
      "100%|██████████| 716/716 [01:19<00:00,  9.05it/s]\n"
     ]
    },
    {
     "name": "stdout",
     "output_type": "stream",
     "text": [
      "{'val_loss': 1.7057502029872522, 'val_accuracy': 0.555301296720061, 'precision': 0.5995163492726783, 'recall': 0.555301296720061, 'f1-score': 0.5427162265643347, 'macro_f1-score': 0.28855057649602867, 'balanced_accuracy': 0.30033493122231664, 'mcc': 0.4037274248862635, 'train_loss': 0.9932345762099634}\n",
      "Epoch 6/20\n"
     ]
    },
    {
     "name": "stderr",
     "output_type": "stream",
     "text": [
      "100%|██████████| 716/716 [01:18<00:00,  9.08it/s]\n"
     ]
    },
    {
     "name": "stdout",
     "output_type": "stream",
     "text": [
      "{'val_loss': 1.8598372656397704, 'val_accuracy': 0.5392829900839055, 'precision': 0.5961549719398717, 'recall': 0.5392829900839055, 'f1-score': 0.5538523888454968, 'macro_f1-score': 0.33554498350369405, 'balanced_accuracy': 0.3776282790910721, 'mcc': 0.4171836671557756, 'train_loss': 0.7705879445765271}\n",
      "Epoch 7/20\n"
     ]
    },
    {
     "name": "stderr",
     "output_type": "stream",
     "text": [
      "100%|██████████| 716/716 [01:19<00:00,  9.03it/s]\n"
     ]
    },
    {
     "name": "stdout",
     "output_type": "stream",
     "text": [
      "{'val_loss': 1.8493722517315934, 'val_accuracy': 0.5560640732265446, 'precision': 0.6020683862808235, 'recall': 0.5560640732265446, 'f1-score': 0.5654751917558617, 'macro_f1-score': 0.33434875370527634, 'balanced_accuracy': 0.36647465119976474, 'mcc': 0.4304019056929928, 'train_loss': 0.59319628231935}\n",
      "Epoch 8/20\n"
     ]
    },
    {
     "name": "stderr",
     "output_type": "stream",
     "text": [
      "100%|██████████| 716/716 [01:19<00:00,  9.05it/s]\n"
     ]
    },
    {
     "name": "stdout",
     "output_type": "stream",
     "text": [
      "{'val_loss': 1.9198418666676778, 'val_accuracy': 0.5652173913043478, 'precision': 0.6034448304042792, 'recall': 0.5652173913043478, 'f1-score': 0.5729542492004619, 'macro_f1-score': 0.33727738671607593, 'balanced_accuracy': 0.3532891940374278, 'mcc': 0.44408173416887947, 'train_loss': 0.47209421286682013}\n",
      "Epoch 9/20\n"
     ]
    },
    {
     "name": "stderr",
     "output_type": "stream",
     "text": [
      "100%|██████████| 716/716 [01:18<00:00,  9.07it/s]\n"
     ]
    },
    {
     "name": "stdout",
     "output_type": "stream",
     "text": [
      "{'val_loss': 1.9687284398369673, 'val_accuracy': 0.5766590389016019, 'precision': 0.6255099888640492, 'recall': 0.5766590389016019, 'f1-score': 0.5893182020778536, 'macro_f1-score': 0.37201320183611014, 'balanced_accuracy': 0.40072197036516916, 'mcc': 0.4596529994785762, 'train_loss': 0.3954606624736383}\n",
      "Epoch 10/20\n"
     ]
    },
    {
     "name": "stderr",
     "output_type": "stream",
     "text": [
      "100%|██████████| 716/716 [01:19<00:00,  9.04it/s]\n"
     ]
    },
    {
     "name": "stdout",
     "output_type": "stream",
     "text": [
      "{'val_loss': 1.9611081531861934, 'val_accuracy': 0.5903890160183066, 'precision': 0.6169699321720213, 'recall': 0.5903890160183066, 'f1-score': 0.5935336636383978, 'macro_f1-score': 0.3595321893570178, 'balanced_accuracy': 0.3637210543977472, 'mcc': 0.46826788164333744, 'train_loss': 0.3036799238755383}\n",
      "Epoch 11/20\n"
     ]
    },
    {
     "name": "stderr",
     "output_type": "stream",
     "text": [
      "100%|██████████| 716/716 [01:19<00:00,  9.03it/s]\n"
     ]
    },
    {
     "name": "stdout",
     "output_type": "stream",
     "text": [
      "{'val_loss': 1.9938065147981412, 'val_accuracy': 0.6132723112128147, 'precision': 0.6128830715813874, 'recall': 0.6132723112128147, 'f1-score': 0.6048754281762893, 'macro_f1-score': 0.3576442269772826, 'balanced_accuracy': 0.3551626307238487, 'mcc': 0.48440028627024123, 'train_loss': 0.28041591709895924}\n",
      "Epoch 12/20\n"
     ]
    },
    {
     "name": "stderr",
     "output_type": "stream",
     "text": [
      "100%|██████████| 716/716 [01:19<00:00,  9.04it/s]\n"
     ]
    },
    {
     "name": "stdout",
     "output_type": "stream",
     "text": [
      "{'val_loss': 2.0559162352143265, 'val_accuracy': 0.6147978642257819, 'precision': 0.6305905733536048, 'recall': 0.6147978642257819, 'f1-score': 0.6126211096309573, 'macro_f1-score': 0.36440028676886377, 'balanced_accuracy': 0.3624515947699978, 'mcc': 0.49304482739580036, 'train_loss': 0.1986008983173059}\n",
      "Early stopping.\n",
      "\n",
      "[Fold 3]\n",
      "🚀 Using Word2Vec for data augmentation + under-sampling\n",
      "🔻 Under-sampling label 0: 2471 → 2000\n",
      "🔧 Augmenting label 1: 22 → 200 (+178)\n",
      "🔧 Augmenting label 2: 64 → 200 (+136)\n",
      "🔧 Augmenting label 3: 24 → 200 (+176)\n",
      "🔧 Augmenting label 4: 190 → 200 (+10)\n",
      "🔧 Augmenting label 5: 113 → 200 (+87)\n",
      "🔧 Augmenting label 6: 93 → 200 (+107)\n",
      "🔧 Augmenting label 7: 30 → 200 (+170)\n",
      "🔧 Augmenting label 8: 68 → 200 (+132)\n",
      "🔧 Augmenting label 9: 30 → 200 (+170)\n",
      "🔧 Augmenting label 10: 67 → 200 (+133)\n",
      "🔧 Augmenting label 11: 169 → 200 (+31)\n",
      "🔧 Augmenting label 12: 190 → 200 (+10)\n",
      "🔧 Augmenting label 13: 28 → 200 (+172)\n",
      "🔧 Augmenting label 14: 23 → 200 (+177)\n",
      "🔧 Augmenting label 15: 25 → 200 (+175)\n",
      "🔧 Augmenting label 16: 19 → 200 (+181)\n",
      "🔧 Augmenting label 17: 182 → 200 (+18)\n",
      "🔧 Augmenting label 18: 92 → 200 (+108)\n",
      "🔧 Augmenting label 19: 44 → 200 (+156)\n",
      "🔧 Augmenting label 20: 14 → 200 (+186)\n",
      "🔧 Augmenting label 21: 35 → 200 (+165)\n",
      "🔧 Augmenting label 22: 76 → 200 (+124)\n",
      "🔧 Augmenting label 23: 157 → 200 (+43)\n",
      "🔧 Augmenting label 24: 13 → 200 (+187)\n",
      "🔧 Augmenting label 25: 44 → 200 (+156)\n",
      "🔧 Augmenting label 26: 84 → 200 (+116)\n",
      "🔧 Augmenting label 27: 48 → 200 (+152)\n",
      "🔧 Augmenting label 28: 11 → 200 (+189)\n",
      "🔧 Augmenting label 29: 13 → 200 (+187)\n",
      "🔧 Augmenting label 30: 11 → 200 (+189)\n",
      "🔧 Augmenting label 31: 76 → 200 (+124)\n",
      "🔧 Augmenting label 32: 36 → 200 (+164)\n",
      "🔧 Augmenting label 33: 31 → 200 (+169)\n",
      "🔧 Augmenting label 34: 30 → 200 (+170)\n",
      "🔧 Augmenting label 35: 11 → 200 (+189)\n",
      "🔧 Augmenting label 36: 21 → 200 (+179)\n",
      "🔧 Augmenting label 37: 16 → 200 (+184)\n",
      "🔧 Augmenting label 38: 32 → 200 (+168)\n",
      "🔧 Augmenting label 39: 11 → 200 (+189)\n",
      "🔧 Augmenting label 40: 9 → 200 (+191)\n",
      "🔧 Augmenting label 41: 57 → 200 (+143)\n",
      "🔧 Augmenting label 42: 18 → 200 (+182)\n",
      "🔧 Augmenting label 43: 9 → 200 (+191)\n",
      "🔧 Augmenting label 44: 55 → 200 (+145)\n",
      "🔧 Augmenting label 46: 62 → 200 (+138)\n",
      "🔧 Augmenting label 47: 80 → 200 (+120)\n",
      "Label distribution after resampling:\n",
      "  label 0: 2000\n",
      "  label 1: 200\n",
      "  label 2: 200\n",
      "  label 3: 200\n",
      "  label 4: 200\n",
      "  label 5: 200\n",
      "  label 6: 200\n",
      "  label 7: 200\n",
      "  label 8: 200\n",
      "  label 9: 200\n",
      "  label 10: 200\n",
      "  label 11: 200\n",
      "  label 12: 200\n",
      "  label 13: 200\n",
      "  label 14: 200\n",
      "  label 15: 200\n",
      "  label 16: 200\n",
      "  label 17: 200\n",
      "  label 18: 200\n",
      "  label 19: 200\n",
      "  label 20: 200\n",
      "  label 21: 200\n",
      "  label 22: 200\n",
      "  label 23: 200\n",
      "  label 24: 200\n",
      "  label 25: 200\n",
      "  label 26: 200\n",
      "  label 27: 200\n",
      "  label 28: 200\n",
      "  label 29: 200\n",
      "  label 30: 200\n",
      "  label 31: 200\n",
      "  label 32: 200\n",
      "  label 33: 200\n",
      "  label 34: 200\n",
      "  label 35: 200\n",
      "  label 36: 200\n",
      "  label 37: 200\n",
      "  label 38: 200\n",
      "  label 39: 200\n",
      "  label 40: 200\n",
      "  label 41: 200\n",
      "  label 42: 200\n",
      "  label 43: 200\n",
      "  label 44: 200\n",
      "  label 45: 241\n",
      "  label 46: 200\n",
      "  label 47: 200\n",
      "model is microsoft/deberta-base bilstm\n",
      "Epoch 1/20\n"
     ]
    },
    {
     "name": "stderr",
     "output_type": "stream",
     "text": [
      "100%|██████████| 716/716 [01:19<00:00,  9.04it/s]\n"
     ]
    },
    {
     "name": "stdout",
     "output_type": "stream",
     "text": [
      "{'val_loss': 2.7523616392438006, 'val_accuracy': 0.4668192219679634, 'precision': 0.23089846383662382, 'recall': 0.4668192219679634, 'f1-score': 0.3087403869893175, 'macro_f1-score': 0.015287171229200215, 'balanced_accuracy': 0.02747437971952535, 'mcc': 0.06948655629427566, 'train_loss': 3.5729451662335316}\n",
      "Epoch 2/20\n"
     ]
    },
    {
     "name": "stderr",
     "output_type": "stream",
     "text": [
      "100%|██████████| 716/716 [01:19<00:00,  9.05it/s]\n"
     ]
    },
    {
     "name": "stdout",
     "output_type": "stream",
     "text": [
      "{'val_loss': 2.7299078601162607, 'val_accuracy': 0.4691075514874142, 'precision': 0.23296256533173537, 'recall': 0.4691075514874142, 'f1-score': 0.3110909799517127, 'macro_f1-score': 0.023113419896521215, 'balanced_accuracy': 0.042554386911183024, 'mcc': 0.08138269398915438, 'train_loss': 3.4292923274486427}\n",
      "Epoch 3/20\n"
     ]
    },
    {
     "name": "stderr",
     "output_type": "stream",
     "text": [
      "100%|██████████| 716/716 [01:19<00:00,  9.05it/s]\n"
     ]
    },
    {
     "name": "stdout",
     "output_type": "stream",
     "text": [
      "{'val_loss': 2.801399816827076, 'val_accuracy': 0.47139588100686497, 'precision': 0.2222140766302384, 'recall': 0.47139588100686497, 'f1-score': 0.302045261236125, 'macro_f1-score': 0.01334888543286677, 'balanced_accuracy': 0.020833333333333332, 'mcc': 0.0, 'train_loss': 3.3929473018513043}\n",
      "Epoch 4/20\n"
     ]
    },
    {
     "name": "stderr",
     "output_type": "stream",
     "text": [
      "100%|██████████| 716/716 [01:19<00:00,  9.04it/s]\n"
     ]
    },
    {
     "name": "stdout",
     "output_type": "stream",
     "text": [
      "{'val_loss': 2.8010903480576306, 'val_accuracy': 0.47139588100686497, 'precision': 0.2222140766302384, 'recall': 0.47139588100686497, 'f1-score': 0.302045261236125, 'macro_f1-score': 0.01334888543286677, 'balanced_accuracy': 0.020833333333333332, 'mcc': 0.0, 'train_loss': 3.4884693952246084}\n",
      "Epoch 5/20\n"
     ]
    },
    {
     "name": "stderr",
     "output_type": "stream",
     "text": [
      "100%|██████████| 716/716 [01:19<00:00,  9.03it/s]\n"
     ]
    },
    {
     "name": "stdout",
     "output_type": "stream",
     "text": [
      "{'val_loss': 2.791790725254431, 'val_accuracy': 0.4843630816170862, 'precision': 0.25389745884827036, 'recall': 0.4843630816170862, 'f1-score': 0.328433563936753, 'macro_f1-score': 0.024415699548678272, 'balanced_accuracy': 0.030333174173696215, 'mcc': 0.12284497602489612, 'train_loss': 3.3781338127631715}\n",
      "Epoch 6/20\n"
     ]
    },
    {
     "name": "stderr",
     "output_type": "stream",
     "text": [
      "100%|██████████| 716/716 [01:19<00:00,  9.04it/s]\n"
     ]
    },
    {
     "name": "stdout",
     "output_type": "stream",
     "text": [
      "{'val_loss': 2.7631315225508155, 'val_accuracy': 0.4797864225781846, 'precision': 0.25137613859418373, 'recall': 0.4797864225781846, 'f1-score': 0.32291018012906153, 'macro_f1-score': 0.022318282492701097, 'balanced_accuracy': 0.027668355527260508, 'mcc': 0.09941070556783586, 'train_loss': 3.3487719920094454}\n",
      "Epoch 7/20\n"
     ]
    },
    {
     "name": "stderr",
     "output_type": "stream",
     "text": [
      "100%|██████████| 716/716 [01:19<00:00,  9.05it/s]\n"
     ]
    },
    {
     "name": "stdout",
     "output_type": "stream",
     "text": [
      "{'val_loss': 2.7582677093947807, 'val_accuracy': 0.4858886346300534, 'precision': 0.2570364023941301, 'recall': 0.4858886346300534, 'f1-score': 0.33009247278649745, 'macro_f1-score': 0.025216904351773956, 'balanced_accuracy': 0.03070841512370241, 'mcc': 0.12900293691372847, 'train_loss': 3.3386162968987194}\n",
      "Epoch 8/20\n"
     ]
    },
    {
     "name": "stderr",
     "output_type": "stream",
     "text": [
      "100%|██████████| 716/716 [01:19<00:00,  9.02it/s]\n"
     ]
    },
    {
     "name": "stdout",
     "output_type": "stream",
     "text": [
      "{'val_loss': 2.745221652635714, 'val_accuracy': 0.49122807017543857, 'precision': 0.2657538968041611, 'recall': 0.49122807017543857, 'f1-score': 0.33424503718703275, 'macro_f1-score': 0.02611637260940983, 'balanced_accuracy': 0.030636572231948645, 'mcc': 0.156217631984434, 'train_loss': 3.3219135876474435}\n",
      "Epoch 9/20\n"
     ]
    },
    {
     "name": "stderr",
     "output_type": "stream",
     "text": [
      "100%|██████████| 716/716 [01:19<00:00,  9.02it/s]\n"
     ]
    },
    {
     "name": "stdout",
     "output_type": "stream",
     "text": [
      "{'val_loss': 2.8594418836802973, 'val_accuracy': 0.4858886346300534, 'precision': 0.2544633108773639, 'recall': 0.4858886346300534, 'f1-score': 0.32965200541289325, 'macro_f1-score': 0.024628055428774276, 'balanced_accuracy': 0.03070841512370241, 'mcc': 0.12958830029459287, 'train_loss': 3.3150694370269775}\n",
      "Epoch 10/20\n"
     ]
    },
    {
     "name": "stderr",
     "output_type": "stream",
     "text": [
      "100%|██████████| 716/716 [01:19<00:00,  9.02it/s]\n"
     ]
    },
    {
     "name": "stdout",
     "output_type": "stream",
     "text": [
      "{'val_loss': 2.860952137446985, 'val_accuracy': 0.4820747520976354, 'precision': 0.2513194001847094, 'recall': 0.4820747520976354, 'f1-score': 0.3269274479201449, 'macro_f1-score': 0.02416077846882322, 'balanced_accuracy': 0.0305398606468955, 'mcc': 0.11484206813330827, 'train_loss': 3.2829702010367834}\n",
      "Epoch 11/20\n"
     ]
    },
    {
     "name": "stderr",
     "output_type": "stream",
     "text": [
      "100%|██████████| 716/716 [01:19<00:00,  9.05it/s]\n"
     ]
    },
    {
     "name": "stdout",
     "output_type": "stream",
     "text": [
      "{'val_loss': 3.1332964591863677, 'val_accuracy': 0.2372234935163997, 'precision': 0.366343200416052, 'recall': 0.2372234935163997, 'f1-score': 0.2864071463647665, 'macro_f1-score': 0.022813054690309142, 'balanced_accuracy': 0.03354013033405839, 'mcc': 0.155324923423554, 'train_loss': 3.2514349228842963}\n",
      "Early stopping.\n",
      "\n",
      "[Fold 4]\n",
      "🚀 Using Word2Vec for data augmentation + under-sampling\n",
      "🔻 Under-sampling label 0: 2471 → 2000\n",
      "🔧 Augmenting label 1: 22 → 200 (+178)\n",
      "🔧 Augmenting label 2: 64 → 200 (+136)\n",
      "🔧 Augmenting label 3: 24 → 200 (+176)\n",
      "🔧 Augmenting label 4: 190 → 200 (+10)\n",
      "🔧 Augmenting label 5: 113 → 200 (+87)\n",
      "🔧 Augmenting label 6: 93 → 200 (+107)\n",
      "🔧 Augmenting label 7: 31 → 200 (+169)\n",
      "🔧 Augmenting label 8: 68 → 200 (+132)\n",
      "🔧 Augmenting label 9: 29 → 200 (+171)\n",
      "🔧 Augmenting label 10: 67 → 200 (+133)\n",
      "🔧 Augmenting label 11: 169 → 200 (+31)\n",
      "🔧 Augmenting label 12: 190 → 200 (+10)\n",
      "🔧 Augmenting label 13: 29 → 200 (+171)\n",
      "🔧 Augmenting label 14: 22 → 200 (+178)\n",
      "🔧 Augmenting label 15: 25 → 200 (+175)\n",
      "🔧 Augmenting label 16: 19 → 200 (+181)\n",
      "🔧 Augmenting label 17: 182 → 200 (+18)\n",
      "🔧 Augmenting label 18: 92 → 200 (+108)\n",
      "🔧 Augmenting label 19: 44 → 200 (+156)\n",
      "🔧 Augmenting label 20: 14 → 200 (+186)\n",
      "🔧 Augmenting label 21: 35 → 200 (+165)\n",
      "🔧 Augmenting label 22: 76 → 200 (+124)\n",
      "🔧 Augmenting label 23: 158 → 200 (+42)\n",
      "🔧 Augmenting label 24: 13 → 200 (+187)\n",
      "🔧 Augmenting label 25: 44 → 200 (+156)\n",
      "🔧 Augmenting label 26: 84 → 200 (+116)\n",
      "🔧 Augmenting label 27: 48 → 200 (+152)\n",
      "🔧 Augmenting label 28: 11 → 200 (+189)\n",
      "🔧 Augmenting label 29: 13 → 200 (+187)\n",
      "🔧 Augmenting label 30: 11 → 200 (+189)\n",
      "🔧 Augmenting label 31: 75 → 200 (+125)\n",
      "🔧 Augmenting label 32: 36 → 200 (+164)\n",
      "🔧 Augmenting label 33: 31 → 200 (+169)\n",
      "🔧 Augmenting label 34: 30 → 200 (+170)\n",
      "🔧 Augmenting label 35: 11 → 200 (+189)\n",
      "🔧 Augmenting label 36: 22 → 200 (+178)\n",
      "🔧 Augmenting label 37: 16 → 200 (+184)\n",
      "🔧 Augmenting label 38: 33 → 200 (+167)\n",
      "🔧 Augmenting label 39: 10 → 200 (+190)\n",
      "🔧 Augmenting label 40: 9 → 200 (+191)\n",
      "🔧 Augmenting label 41: 56 → 200 (+144)\n",
      "🔧 Augmenting label 42: 18 → 200 (+182)\n",
      "🔧 Augmenting label 43: 9 → 200 (+191)\n",
      "🔧 Augmenting label 44: 55 → 200 (+145)\n",
      "🔧 Augmenting label 46: 62 → 200 (+138)\n",
      "🔧 Augmenting label 47: 80 → 200 (+120)\n",
      "Label distribution after resampling:\n",
      "  label 0: 2000\n",
      "  label 1: 200\n",
      "  label 2: 200\n",
      "  label 3: 200\n",
      "  label 4: 200\n",
      "  label 5: 200\n",
      "  label 6: 200\n",
      "  label 7: 200\n",
      "  label 8: 200\n",
      "  label 9: 200\n",
      "  label 10: 200\n",
      "  label 11: 200\n",
      "  label 12: 200\n",
      "  label 13: 200\n",
      "  label 14: 200\n",
      "  label 15: 200\n",
      "  label 16: 200\n",
      "  label 17: 200\n",
      "  label 18: 200\n",
      "  label 19: 200\n",
      "  label 20: 200\n",
      "  label 21: 200\n",
      "  label 22: 200\n",
      "  label 23: 200\n",
      "  label 24: 200\n",
      "  label 25: 200\n",
      "  label 26: 200\n",
      "  label 27: 200\n",
      "  label 28: 200\n",
      "  label 29: 200\n",
      "  label 30: 200\n",
      "  label 31: 200\n",
      "  label 32: 200\n",
      "  label 33: 200\n",
      "  label 34: 200\n",
      "  label 35: 200\n",
      "  label 36: 200\n",
      "  label 37: 200\n",
      "  label 38: 200\n",
      "  label 39: 200\n",
      "  label 40: 200\n",
      "  label 41: 200\n",
      "  label 42: 200\n",
      "  label 43: 200\n",
      "  label 44: 200\n",
      "  label 45: 241\n",
      "  label 46: 200\n",
      "  label 47: 200\n",
      "model is microsoft/deberta-base bilstm\n",
      "Epoch 1/20\n"
     ]
    },
    {
     "name": "stderr",
     "output_type": "stream",
     "text": [
      "100%|██████████| 716/716 [01:19<00:00,  9.04it/s]\n"
     ]
    },
    {
     "name": "stdout",
     "output_type": "stream",
     "text": [
      "{'val_loss': 2.6490762757091986, 'val_accuracy': 0.4469870327993898, 'precision': 0.2590289004528468, 'recall': 0.4469870327993898, 'f1-score': 0.3252579724084905, 'macro_f1-score': 0.021912476403076, 'balanced_accuracy': 0.04405838944416431, 'mcc': 0.11908666447928479, 'train_loss': 3.4523220874743754}\n",
      "Epoch 2/20\n"
     ]
    },
    {
     "name": "stderr",
     "output_type": "stream",
     "text": [
      "100%|██████████| 716/716 [01:18<00:00,  9.07it/s]\n"
     ]
    },
    {
     "name": "stdout",
     "output_type": "stream",
     "text": [
      "{'val_loss': 2.678526622493093, 'val_accuracy': 0.4759725400457666, 'precision': 0.29332635557227166, 'recall': 0.4759725400457666, 'f1-score': 0.3530287810858956, 'macro_f1-score': 0.03621566895344285, 'balanced_accuracy': 0.05912880887552549, 'mcc': 0.17292636611922169, 'train_loss': 3.200052139146368}\n",
      "Epoch 3/20\n"
     ]
    },
    {
     "name": "stderr",
     "output_type": "stream",
     "text": [
      "100%|██████████| 716/716 [01:19<00:00,  9.05it/s]\n"
     ]
    },
    {
     "name": "stdout",
     "output_type": "stream",
     "text": [
      "{'val_loss': 2.5041566403900704, 'val_accuracy': 0.4805491990846682, 'precision': 0.30871794016559734, 'recall': 0.4805491990846682, 'f1-score': 0.3701296289095601, 'macro_f1-score': 0.04170826054510976, 'balanced_accuracy': 0.07017434042115463, 'mcc': 0.20015327765173668, 'train_loss': 3.1278678761514205}\n",
      "Epoch 4/20\n"
     ]
    },
    {
     "name": "stderr",
     "output_type": "stream",
     "text": [
      "100%|██████████| 716/716 [01:19<00:00,  9.05it/s]\n"
     ]
    },
    {
     "name": "stdout",
     "output_type": "stream",
     "text": [
      "{'val_loss': 2.4575560688972473, 'val_accuracy': 0.467581998474447, 'precision': 0.3289982224971281, 'recall': 0.467581998474447, 'f1-score': 0.37688077175454204, 'macro_f1-score': 0.05162281296506325, 'balanced_accuracy': 0.09076095629385562, 'mcc': 0.21570118265251462, 'train_loss': 3.0416828713603525}\n",
      "Epoch 5/20\n"
     ]
    },
    {
     "name": "stderr",
     "output_type": "stream",
     "text": [
      "100%|██████████| 716/716 [01:19<00:00,  9.05it/s]\n"
     ]
    },
    {
     "name": "stdout",
     "output_type": "stream",
     "text": [
      "{'val_loss': 2.7923656556664445, 'val_accuracy': 0.47139588100686497, 'precision': 0.2222140766302384, 'recall': 0.47139588100686497, 'f1-score': 0.302045261236125, 'macro_f1-score': 0.01334888543286677, 'balanced_accuracy': 0.020833333333333332, 'mcc': 0.0, 'train_loss': 3.479925097699938}\n",
      "Epoch 6/20\n"
     ]
    },
    {
     "name": "stderr",
     "output_type": "stream",
     "text": [
      "100%|██████████| 716/716 [01:18<00:00,  9.08it/s]\n"
     ]
    },
    {
     "name": "stdout",
     "output_type": "stream",
     "text": [
      "{'val_loss': 2.8956568139355356, 'val_accuracy': 0.47139588100686497, 'precision': 0.2222140766302384, 'recall': 0.47139588100686497, 'f1-score': 0.302045261236125, 'macro_f1-score': 0.01334888543286677, 'balanced_accuracy': 0.020833333333333332, 'mcc': 0.0, 'train_loss': 3.574063763272163}\n",
      "Epoch 7/20\n"
     ]
    },
    {
     "name": "stderr",
     "output_type": "stream",
     "text": [
      "100%|██████████| 716/716 [01:19<00:00,  9.05it/s]\n"
     ]
    },
    {
     "name": "stdout",
     "output_type": "stream",
     "text": [
      "{'val_loss': 2.9180124009527812, 'val_accuracy': 0.47139588100686497, 'precision': 0.2222140766302384, 'recall': 0.47139588100686497, 'f1-score': 0.302045261236125, 'macro_f1-score': 0.01334888543286677, 'balanced_accuracy': 0.020833333333333332, 'mcc': 0.0, 'train_loss': 3.529434538753339}\n",
      "Early stopping.\n",
      "\n",
      "[Fold 5]\n",
      "🚀 Using Word2Vec for data augmentation + under-sampling\n",
      "🔻 Under-sampling label 0: 2472 → 2000\n",
      "🔧 Augmenting label 1: 21 → 200 (+179)\n",
      "🔧 Augmenting label 2: 64 → 200 (+136)\n",
      "🔧 Augmenting label 3: 24 → 200 (+176)\n",
      "🔧 Augmenting label 4: 191 → 200 (+9)\n",
      "🔧 Augmenting label 5: 112 → 200 (+88)\n",
      "🔧 Augmenting label 6: 92 → 200 (+108)\n",
      "🔧 Augmenting label 7: 31 → 200 (+169)\n",
      "🔧 Augmenting label 8: 68 → 200 (+132)\n",
      "🔧 Augmenting label 9: 29 → 200 (+171)\n",
      "🔧 Augmenting label 10: 68 → 200 (+132)\n",
      "🔧 Augmenting label 11: 168 → 200 (+32)\n",
      "🔧 Augmenting label 12: 190 → 200 (+10)\n",
      "🔧 Augmenting label 13: 29 → 200 (+171)\n",
      "🔧 Augmenting label 14: 22 → 200 (+178)\n",
      "🔧 Augmenting label 15: 25 → 200 (+175)\n",
      "🔧 Augmenting label 16: 19 → 200 (+181)\n",
      "🔧 Augmenting label 17: 183 → 200 (+17)\n",
      "🔧 Augmenting label 18: 92 → 200 (+108)\n",
      "🔧 Augmenting label 19: 44 → 200 (+156)\n",
      "🔧 Augmenting label 20: 14 → 200 (+186)\n",
      "🔧 Augmenting label 21: 35 → 200 (+165)\n",
      "🔧 Augmenting label 22: 76 → 200 (+124)\n",
      "🔧 Augmenting label 23: 158 → 200 (+42)\n",
      "🔧 Augmenting label 24: 13 → 200 (+187)\n",
      "🔧 Augmenting label 25: 44 → 200 (+156)\n",
      "🔧 Augmenting label 26: 84 → 200 (+116)\n",
      "🔧 Augmenting label 27: 48 → 200 (+152)\n",
      "🔧 Augmenting label 28: 11 → 200 (+189)\n",
      "🔧 Augmenting label 29: 13 → 200 (+187)\n",
      "🔧 Augmenting label 30: 11 → 200 (+189)\n",
      "🔧 Augmenting label 31: 75 → 200 (+125)\n",
      "🔧 Augmenting label 32: 36 → 200 (+164)\n",
      "🔧 Augmenting label 33: 31 → 200 (+169)\n",
      "🔧 Augmenting label 34: 30 → 200 (+170)\n",
      "🔧 Augmenting label 35: 11 → 200 (+189)\n",
      "🔧 Augmenting label 36: 22 → 200 (+178)\n",
      "🔧 Augmenting label 37: 16 → 200 (+184)\n",
      "🔧 Augmenting label 38: 33 → 200 (+167)\n",
      "🔧 Augmenting label 39: 10 → 200 (+190)\n",
      "🔧 Augmenting label 40: 9 → 200 (+191)\n",
      "🔧 Augmenting label 41: 57 → 200 (+143)\n",
      "🔧 Augmenting label 42: 18 → 200 (+182)\n",
      "🔧 Augmenting label 43: 9 → 200 (+191)\n",
      "🔧 Augmenting label 44: 54 → 200 (+146)\n",
      "🔧 Augmenting label 46: 61 → 200 (+139)\n",
      "🔧 Augmenting label 47: 80 → 200 (+120)\n",
      "Label distribution after resampling:\n",
      "  label 0: 2000\n",
      "  label 1: 200\n",
      "  label 2: 200\n",
      "  label 3: 200\n",
      "  label 4: 200\n",
      "  label 5: 200\n",
      "  label 6: 200\n",
      "  label 7: 200\n",
      "  label 8: 200\n",
      "  label 9: 200\n",
      "  label 10: 200\n",
      "  label 11: 200\n",
      "  label 12: 200\n",
      "  label 13: 200\n",
      "  label 14: 200\n",
      "  label 15: 200\n",
      "  label 16: 200\n",
      "  label 17: 200\n",
      "  label 18: 200\n",
      "  label 19: 200\n",
      "  label 20: 200\n",
      "  label 21: 200\n",
      "  label 22: 200\n",
      "  label 23: 200\n",
      "  label 24: 200\n",
      "  label 25: 200\n",
      "  label 26: 200\n",
      "  label 27: 200\n",
      "  label 28: 200\n",
      "  label 29: 200\n",
      "  label 30: 200\n",
      "  label 31: 200\n",
      "  label 32: 200\n",
      "  label 33: 200\n",
      "  label 34: 200\n",
      "  label 35: 200\n",
      "  label 36: 200\n",
      "  label 37: 200\n",
      "  label 38: 200\n",
      "  label 39: 200\n",
      "  label 40: 200\n",
      "  label 41: 200\n",
      "  label 42: 200\n",
      "  label 43: 200\n",
      "  label 44: 200\n",
      "  label 45: 242\n",
      "  label 46: 200\n",
      "  label 47: 200\n",
      "model is microsoft/deberta-base bilstm\n",
      "Epoch 1/20\n"
     ]
    },
    {
     "name": "stderr",
     "output_type": "stream",
     "text": [
      "100%|██████████| 716/716 [01:19<00:00,  9.04it/s]\n"
     ]
    },
    {
     "name": "stdout",
     "output_type": "stream",
     "text": [
      "{'val_loss': 2.578726079405808, 'val_accuracy': 0.4851258581235698, 'precision': 0.2952124338170078, 'recall': 0.4851258581235698, 'f1-score': 0.36171472381723474, 'macro_f1-score': 0.04255967165768745, 'balanced_accuracy': 0.06779341711472993, 'mcc': 0.2053709679672111, 'train_loss': 3.4555552135632692}\n",
      "Epoch 2/20\n"
     ]
    },
    {
     "name": "stderr",
     "output_type": "stream",
     "text": [
      "100%|██████████| 716/716 [01:18<00:00,  9.07it/s]\n"
     ]
    },
    {
     "name": "stdout",
     "output_type": "stream",
     "text": [
      "{'val_loss': 2.3505114084336816, 'val_accuracy': 0.440884820747521, 'precision': 0.3938205687968377, 'recall': 0.440884820747521, 'f1-score': 0.4093178755300415, 'macro_f1-score': 0.06583510330770705, 'balanced_accuracy': 0.11042210910525335, 'mcc': 0.2576333557086093, 'train_loss': 2.9885434471695116}\n",
      "Epoch 3/20\n"
     ]
    },
    {
     "name": "stderr",
     "output_type": "stream",
     "text": [
      "100%|██████████| 716/716 [01:19<00:00,  9.04it/s]\n"
     ]
    },
    {
     "name": "stdout",
     "output_type": "stream",
     "text": [
      "{'val_loss': 2.2388089459116864, 'val_accuracy': 0.463768115942029, 'precision': 0.4376515027089059, 'recall': 0.463768115942029, 'f1-score': 0.4239849540574858, 'macro_f1-score': 0.07555650806652187, 'balanced_accuracy': 0.13719094881462549, 'mcc': 0.27185077792063184, 'train_loss': 2.7489021077502374}\n",
      "Epoch 4/20\n"
     ]
    },
    {
     "name": "stderr",
     "output_type": "stream",
     "text": [
      "100%|██████████| 716/716 [01:18<00:00,  9.06it/s]\n"
     ]
    },
    {
     "name": "stdout",
     "output_type": "stream",
     "text": [
      "{'val_loss': 2.163095583276051, 'val_accuracy': 0.4927536231884058, 'precision': 0.4317396249703223, 'recall': 0.4927536231884058, 'f1-score': 0.44245683286984405, 'macro_f1-score': 0.10865824832191145, 'balanced_accuracy': 0.15850209386936945, 'mcc': 0.3011701970815756, 'train_loss': 2.5672577141716495}\n",
      "Epoch 5/20\n"
     ]
    },
    {
     "name": "stderr",
     "output_type": "stream",
     "text": [
      "100%|██████████| 716/716 [01:19<00:00,  9.06it/s]\n"
     ]
    },
    {
     "name": "stdout",
     "output_type": "stream",
     "text": [
      "{'val_loss': 2.1518720228497576, 'val_accuracy': 0.4576659038901602, 'precision': 0.4342965022675415, 'recall': 0.4576659038901602, 'f1-score': 0.43991351972290293, 'macro_f1-score': 0.10698849861602533, 'balanced_accuracy': 0.13985138439656267, 'mcc': 0.2820319197437119, 'train_loss': 2.273381628470714}\n",
      "Epoch 6/20\n"
     ]
    },
    {
     "name": "stderr",
     "output_type": "stream",
     "text": [
      "100%|██████████| 716/716 [01:19<00:00,  9.05it/s]\n"
     ]
    },
    {
     "name": "stdout",
     "output_type": "stream",
     "text": [
      "{'val_loss': 2.2287732202832293, 'val_accuracy': 0.4271548436308162, 'precision': 0.4682354335706774, 'recall': 0.4271548436308162, 'f1-score': 0.4329363838044315, 'macro_f1-score': 0.11244950456931783, 'balanced_accuracy': 0.15994810282596156, 'mcc': 0.27123419831860074, 'train_loss': 1.976847205498365}\n",
      "Epoch 7/20\n"
     ]
    },
    {
     "name": "stderr",
     "output_type": "stream",
     "text": [
      "100%|██████████| 716/716 [01:19<00:00,  9.03it/s]\n"
     ]
    },
    {
     "name": "stdout",
     "output_type": "stream",
     "text": [
      "{'val_loss': 2.140994071233563, 'val_accuracy': 0.4683447749809306, 'precision': 0.4751787101455722, 'recall': 0.4683447749809306, 'f1-score': 0.45471821518862116, 'macro_f1-score': 0.14591235722074644, 'balanced_accuracy': 0.18311939776869657, 'mcc': 0.2939738970946434, 'train_loss': 1.6916428090140807}\n",
      "Epoch 8/20\n"
     ]
    },
    {
     "name": "stderr",
     "output_type": "stream",
     "text": [
      "100%|██████████| 716/716 [01:19<00:00,  9.04it/s]\n"
     ]
    },
    {
     "name": "stdout",
     "output_type": "stream",
     "text": [
      "{'val_loss': 2.237453580629535, 'val_accuracy': 0.4584286803966438, 'precision': 0.5349670434175988, 'recall': 0.4584286803966438, 'f1-score': 0.45971794010534267, 'macro_f1-score': 0.15383974575741613, 'balanced_accuracy': 0.1868465532170868, 'mcc': 0.2972004320588734, 'train_loss': 1.451692809522485}\n",
      "Epoch 9/20\n"
     ]
    },
    {
     "name": "stderr",
     "output_type": "stream",
     "text": [
      "100%|██████████| 716/716 [01:19<00:00,  9.05it/s]\n"
     ]
    },
    {
     "name": "stdout",
     "output_type": "stream",
     "text": [
      "{'val_loss': 2.0701593807557734, 'val_accuracy': 0.4622425629290618, 'precision': 0.5407319831505, 'recall': 0.4622425629290618, 'f1-score': 0.4862848534870414, 'macro_f1-score': 0.1845120179521896, 'balanced_accuracy': 0.22123071514910542, 'mcc': 0.3225454458757071, 'train_loss': 1.3409427418763744}\n",
      "Epoch 10/20\n"
     ]
    },
    {
     "name": "stderr",
     "output_type": "stream",
     "text": [
      "100%|██████████| 716/716 [01:19<00:00,  9.04it/s]\n"
     ]
    },
    {
     "name": "stdout",
     "output_type": "stream",
     "text": [
      "{'val_loss': 2.0930457391389985, 'val_accuracy': 0.4767353165522502, 'precision': 0.5092659514482993, 'recall': 0.4767353165522502, 'f1-score': 0.4808939058835166, 'macro_f1-score': 0.18928022988743257, 'balanced_accuracy': 0.2243942149334294, 'mcc': 0.3326447254259827, 'train_loss': 1.2048089289049198}\n",
      "Epoch 11/20\n"
     ]
    },
    {
     "name": "stderr",
     "output_type": "stream",
     "text": [
      "100%|██████████| 716/716 [01:19<00:00,  9.03it/s]\n"
     ]
    },
    {
     "name": "stdout",
     "output_type": "stream",
     "text": [
      "{'val_loss': 2.0507181475802168, 'val_accuracy': 0.494279176201373, 'precision': 0.5581106172997039, 'recall': 0.494279176201373, 'f1-score': 0.5123519157828702, 'macro_f1-score': 0.22862628615257716, 'balanced_accuracy': 0.257251932222235, 'mcc': 0.360535698177675, 'train_loss': 1.0381305593809935}\n",
      "Epoch 12/20\n"
     ]
    },
    {
     "name": "stderr",
     "output_type": "stream",
     "text": [
      "100%|██████████| 716/716 [01:18<00:00,  9.07it/s]\n"
     ]
    },
    {
     "name": "stdout",
     "output_type": "stream",
     "text": [
      "{'val_loss': 2.040108267127014, 'val_accuracy': 0.5110602593440122, 'precision': 0.5525769268266315, 'recall': 0.5110602593440122, 'f1-score': 0.5218037405905321, 'macro_f1-score': 0.23024750874644018, 'balanced_accuracy': 0.2455905250887025, 'mcc': 0.37041140244131215, 'train_loss': 0.7879214690758862}\n",
      "Epoch 13/20\n"
     ]
    },
    {
     "name": "stderr",
     "output_type": "stream",
     "text": [
      "100%|██████████| 716/716 [01:19<00:00,  9.03it/s]\n"
     ]
    },
    {
     "name": "stdout",
     "output_type": "stream",
     "text": [
      "{'val_loss': 2.201968130542011, 'val_accuracy': 0.4965675057208238, 'precision': 0.5555995193953424, 'recall': 0.4965675057208238, 'f1-score': 0.5166399313761745, 'macro_f1-score': 0.2746468735131877, 'balanced_accuracy': 0.2785435227805789, 'mcc': 0.36408004392858184, 'train_loss': 0.6717166375764255}\n",
      "Epoch 14/20\n"
     ]
    },
    {
     "name": "stderr",
     "output_type": "stream",
     "text": [
      "100%|██████████| 716/716 [01:19<00:00,  9.03it/s]\n"
     ]
    },
    {
     "name": "stdout",
     "output_type": "stream",
     "text": [
      "{'val_loss': 2.2279626392736667, 'val_accuracy': 0.501906941266209, 'precision': 0.5507841472934661, 'recall': 0.501906941266209, 'f1-score': 0.5108369091696916, 'macro_f1-score': 0.25135084372531086, 'balanced_accuracy': 0.2709451163550843, 'mcc': 0.371515603763967, 'train_loss': 0.6382971717637844}\n",
      "Epoch 15/20\n"
     ]
    },
    {
     "name": "stderr",
     "output_type": "stream",
     "text": [
      "100%|██████████| 716/716 [01:18<00:00,  9.08it/s]\n"
     ]
    },
    {
     "name": "stdout",
     "output_type": "stream",
     "text": [
      "{'val_loss': 2.271751518656568, 'val_accuracy': 0.4851258581235698, 'precision': 0.5504169986625476, 'recall': 0.4851258581235698, 'f1-score': 0.5057658839318201, 'macro_f1-score': 0.24590575401652096, 'balanced_accuracy': 0.2738470908168087, 'mcc': 0.35851077931975184, 'train_loss': 0.9677409492224954}\n",
      "Epoch 16/20\n"
     ]
    },
    {
     "name": "stderr",
     "output_type": "stream",
     "text": [
      "100%|██████████| 716/716 [01:19<00:00,  9.03it/s]\n"
     ]
    },
    {
     "name": "stdout",
     "output_type": "stream",
     "text": [
      "{'val_loss': 2.1988497481840414, 'val_accuracy': 0.5270785659801678, 'precision': 0.5710533554262308, 'recall': 0.5270785659801678, 'f1-score': 0.5408916505966002, 'macro_f1-score': 0.30202799321129337, 'balanced_accuracy': 0.32216771549684037, 'mcc': 0.40410217995188946, 'train_loss': 0.4755884105230385}\n",
      "Epoch 17/20\n"
     ]
    },
    {
     "name": "stderr",
     "output_type": "stream",
     "text": [
      "100%|██████████| 716/716 [01:19<00:00,  9.03it/s]\n"
     ]
    },
    {
     "name": "stdout",
     "output_type": "stream",
     "text": [
      "{'val_loss': 2.3312447042000004, 'val_accuracy': 0.5217391304347826, 'precision': 0.5621336192605048, 'recall': 0.5217391304347826, 'f1-score': 0.5295318048388727, 'macro_f1-score': 0.2960935651030718, 'balanced_accuracy': 0.303345228127747, 'mcc': 0.3858157344208607, 'train_loss': 0.3847055733776209}\n",
      "Epoch 18/20\n"
     ]
    },
    {
     "name": "stderr",
     "output_type": "stream",
     "text": [
      "100%|██████████| 716/716 [01:19<00:00,  9.06it/s]\n"
     ]
    },
    {
     "name": "stdout",
     "output_type": "stream",
     "text": [
      "{'val_loss': 2.360852515915545, 'val_accuracy': 0.5293668954996186, 'precision': 0.5956706665235737, 'recall': 0.5293668954996186, 'f1-score': 0.5539371787969041, 'macro_f1-score': 0.3107300368811798, 'balanced_accuracy': 0.31631365973614234, 'mcc': 0.4104910919336169, 'train_loss': 0.3292153058417516}\n",
      "Epoch 19/20\n"
     ]
    },
    {
     "name": "stderr",
     "output_type": "stream",
     "text": [
      "100%|██████████| 716/716 [01:18<00:00,  9.07it/s]\n"
     ]
    },
    {
     "name": "stdout",
     "output_type": "stream",
     "text": [
      "{'val_loss': 2.396816802460973, 'val_accuracy': 0.5301296720061022, 'precision': 0.5752098838426463, 'recall': 0.5301296720061022, 'f1-score': 0.5466940863909452, 'macro_f1-score': 0.2911922820329818, 'balanced_accuracy': 0.30383398903416, 'mcc': 0.40733549378844763, 'train_loss': 0.2989850257570184}\n",
      "Epoch 20/20\n"
     ]
    },
    {
     "name": "stderr",
     "output_type": "stream",
     "text": [
      "100%|██████████| 716/716 [01:19<00:00,  9.04it/s]\n"
     ]
    },
    {
     "name": "stdout",
     "output_type": "stream",
     "text": [
      "{'val_loss': 2.353422060972307, 'val_accuracy': 0.5347063310450039, 'precision': 0.5794867766047644, 'recall': 0.5347063310450039, 'f1-score': 0.549264897284572, 'macro_f1-score': 0.2904639900410987, 'balanced_accuracy': 0.29517658438015554, 'mcc': 0.40797825517019803, 'train_loss': 0.30137692735265087}\n",
      "\n",
      " === microsoft/deberta-base + bilstm + word2vec Final 5-fold Cross-Validation Results ===\n",
      "val_loss: 2.3901\n",
      "val_accuracy: 0.4962\n",
      "precision: 0.4359\n",
      "recall: 0.4962\n",
      "f1-score: 0.4467\n",
      "macro_f1-score: 0.1645\n",
      "balanced_accuracy: 0.1916\n",
      "mcc: 0.2910\n",
      "train_loss: 1.9437\n",
      "total_seconds: 5168.0000\n",
      "total_time: 1 hrs 26 mins 8 secs\n"
     ]
    }
   ],
   "source": [
    "model_list = [\"bert-base-uncased\", \"roberta-base\", \"microsoft/deberta-base\"]\n",
    "hybrid_list = [None, \"cnn\", \"lstm\", \"bilstm\"]\n",
    "resample_list = [\"word2vec\"]\n",
    "\n",
    "all_experiment_result = {}\n",
    "\n",
    "for model_name in model_list:\n",
    "    for hybrid_type in hybrid_list:\n",
    "        for resample_method in resample_list:\n",
    "            results = run_kfold_experiment(\n",
    "                X=messages, y=labels, model_name=model_name, hybrid_type=hybrid_type, resample_method=resample_method,\n",
    "                kfold=KFOLD_SPLIT, seed=SEED, epochs=EPOCHS, patience=PATIENCE, max_length=MAX_LENGTH, \n",
    "                batch_size=BATCH_SIZE, lr=LR, weight_decay=WEIGHT_DECAY, upper_cap=UPPER_CAP, lower_cap=LOWER_CAP\n",
    "            )\n",
    "\n",
    "            key = f\"{model_name} {hybrid_type if hybrid_type else 'None'} {resample_method}\"\n",
    "            all_experiment_result[key] = results"
   ]
  },
  {
   "cell_type": "code",
   "execution_count": 9,
   "id": "d799ebb4-be3b-4b29-9238-6c2a2f8256ae",
   "metadata": {},
   "outputs": [
    {
     "data": {
      "text/plain": [
       "{'bert-base-uncased None word2vec': {'val_loss': 1.7481197245600746,\n",
       "  'val_accuracy': 0.644908931926848,\n",
       "  'precision': 0.6467567897713514,\n",
       "  'recall': 0.644908931926848,\n",
       "  'f1-score': 0.6347663141229503,\n",
       "  'macro_f1-score': 0.42290895588096244,\n",
       "  'balanced_accuracy': 0.4277099086483183,\n",
       "  'mcc': 0.5321158155423227,\n",
       "  'train_loss': 0.24482818922862362,\n",
       "  'total_seconds': 2670,\n",
       "  'total_time': '0 hrs 44 mins 30 secs'},\n",
       " 'bert-base-uncased cnn word2vec': {'val_loss': 1.6829176731952806,\n",
       "  'val_accuracy': 0.6328583421703782,\n",
       "  'precision': 0.6482163179076175,\n",
       "  'recall': 0.6328583421703782,\n",
       "  'f1-score': 0.630061208487847,\n",
       "  'macro_f1-score': 0.4237771278377789,\n",
       "  'balanced_accuracy': 0.44217614209678446,\n",
       "  'mcc': 0.5237158435830642,\n",
       "  'train_loss': 0.318506610560668,\n",
       "  'total_seconds': 2205,\n",
       "  'total_time': '0 hrs 36 mins 45 secs'},\n",
       " 'bert-base-uncased lstm word2vec': {'val_loss': 1.5862721682685177,\n",
       "  'val_accuracy': 0.6339254153411099,\n",
       "  'precision': 0.6348512848590762,\n",
       "  'recall': 0.6339254153411099,\n",
       "  'f1-score': 0.6265756252036891,\n",
       "  'macro_f1-score': 0.42110039498713087,\n",
       "  'balanced_accuracy': 0.4305573707482477,\n",
       "  'mcc': 0.5169689376927744,\n",
       "  'train_loss': 0.4158106546333923,\n",
       "  'total_seconds': 2778,\n",
       "  'total_time': '0 hrs 46 mins 18 secs'},\n",
       " 'bert-base-uncased bilstm word2vec': {'val_loss': 1.7879512322748579,\n",
       "  'val_accuracy': 0.6409384244014065,\n",
       "  'precision': 0.651488780501643,\n",
       "  'recall': 0.6409384244014065,\n",
       "  'f1-score': 0.635475138958134,\n",
       "  'macro_f1-score': 0.4271865710623294,\n",
       "  'balanced_accuracy': 0.4238645557365386,\n",
       "  'mcc': 0.5273285182700534,\n",
       "  'train_loss': 0.15341508413018534,\n",
       "  'total_seconds': 3587,\n",
       "  'total_time': '0 hrs 59 mins 47 secs'},\n",
       " 'roberta-base None word2vec': {'val_loss': 1.907705405122805,\n",
       "  'val_accuracy': 0.6288905090137857,\n",
       "  'precision': 0.6454911104499594,\n",
       "  'recall': 0.6288905090137857,\n",
       "  'f1-score': 0.6262084216759546,\n",
       "  'macro_f1-score': 0.4211127165961394,\n",
       "  'balanced_accuracy': 0.4333533324230947,\n",
       "  'mcc': 0.5126868328851809,\n",
       "  'train_loss': 0.19479241613714887,\n",
       "  'total_seconds': 3487,\n",
       "  'total_time': '0 hrs 58 mins 7 secs'},\n",
       " 'roberta-base cnn word2vec': {'val_loss': 2.0257840923056367,\n",
       "  'val_accuracy': 0.5771771687968595,\n",
       "  'precision': 0.5586868432208896,\n",
       "  'recall': 0.5771771687968595,\n",
       "  'f1-score': 0.551715514671845,\n",
       "  'macro_f1-score': 0.3295911935640407,\n",
       "  'balanced_accuracy': 0.3548430208720352,\n",
       "  'mcc': 0.4135854735829277,\n",
       "  'train_loss': 1.013615439350095,\n",
       "  'total_seconds': 2435,\n",
       "  'total_time': '0 hrs 40 mins 35 secs'},\n",
       " 'roberta-base lstm word2vec': {'val_loss': 1.9110655869652586,\n",
       "  'val_accuracy': 0.5718599421406114,\n",
       "  'precision': 0.5498856038955124,\n",
       "  'recall': 0.5718599421406114,\n",
       "  'f1-score': 0.5435515887187983,\n",
       "  'macro_f1-score': 0.32109765438117216,\n",
       "  'balanced_accuracy': 0.34858545990265394,\n",
       "  'mcc': 0.40200365197064636,\n",
       "  'train_loss': 1.162784069031997,\n",
       "  'total_seconds': 3911,\n",
       "  'total_time': '1 hrs 5 mins 11 secs'},\n",
       " 'roberta-base bilstm word2vec': {'val_loss': 2.035551197935895,\n",
       "  'val_accuracy': 0.5767224098156313,\n",
       "  'precision': 0.5573783492116365,\n",
       "  'recall': 0.5767224098156313,\n",
       "  'f1-score': 0.5550033037327888,\n",
       "  'macro_f1-score': 0.3137491613957605,\n",
       "  'balanced_accuracy': 0.32993851461663704,\n",
       "  'mcc': 0.42371495433915884,\n",
       "  'train_loss': 0.9259636391751602,\n",
       "  'total_seconds': 3779,\n",
       "  'total_time': '1 hrs 2 mins 59 secs'},\n",
       " 'microsoft/deberta-base None word2vec': {'val_loss': 2.2259204049662844,\n",
       "  'val_accuracy': 0.6003602258562631,\n",
       "  'precision': 0.5535364885825573,\n",
       "  'recall': 0.6003602258562631,\n",
       "  'f1-score': 0.5617414987369421,\n",
       "  'macro_f1-score': 0.3258205831435316,\n",
       "  'balanced_accuracy': 0.331274357726203,\n",
       "  'mcc': 0.4166935899519804,\n",
       "  'train_loss': 0.8239554653635546,\n",
       "  'total_seconds': 3469,\n",
       "  'total_time': '0 hrs 57 mins 49 secs'},\n",
       " 'microsoft/deberta-base cnn word2vec': {'val_loss': 2.4531468331268647,\n",
       "  'val_accuracy': 0.5661907452884598,\n",
       "  'precision': 0.47099460222055434,\n",
       "  'recall': 0.5661907452884598,\n",
       "  'f1-score': 0.4954009737418058,\n",
       "  'macro_f1-score': 0.25238910988769747,\n",
       "  'balanced_accuracy': 0.25735463977414796,\n",
       "  'mcc': 0.30984738749618135,\n",
       "  'train_loss': 1.5735375735069776,\n",
       "  'total_seconds': 3356,\n",
       "  'total_time': '0 hrs 55 mins 56 secs'},\n",
       " 'microsoft/deberta-base lstm word2vec': {'val_loss': 2.5546596561990134,\n",
       "  'val_accuracy': 0.4568488260683522,\n",
       "  'precision': 0.3340082339526312,\n",
       "  'recall': 0.4568488260683522,\n",
       "  'f1-score': 0.36841695927266044,\n",
       "  'macro_f1-score': 0.04491990983179489,\n",
       "  'balanced_accuracy': 0.07088457386588269,\n",
       "  'mcc': 0.18152850403985663,\n",
       "  'train_loss': 3.224195517241621,\n",
       "  'total_seconds': 2110,\n",
       "  'total_time': '0 hrs 35 mins 10 secs'},\n",
       " 'microsoft/deberta-base bilstm word2vec': {'val_loss': 2.390126848002759,\n",
       "  'val_accuracy': 0.4961989079272944,\n",
       "  'precision': 0.4359304203166202,\n",
       "  'recall': 0.4961989079272944,\n",
       "  'f1-score': 0.44671973667531456,\n",
       "  'macro_f1-score': 0.16448962528461908,\n",
       "  'balanced_accuracy': 0.19163930813394714,\n",
       "  'mcc': 0.2910158611036749,\n",
       "  'train_loss': 1.943661310474841,\n",
       "  'total_seconds': 5168,\n",
       "  'total_time': '1 hrs 26 mins 8 secs'}}"
      ]
     },
     "execution_count": 9,
     "metadata": {},
     "output_type": "execute_result"
    }
   ],
   "source": [
    "all_experiment_result"
   ]
  }
 ],
 "metadata": {
  "kernelspec": {
   "display_name": "Python 3",
   "language": "python",
   "name": "python3"
  },
  "language_info": {
   "codemirror_mode": {
    "name": "ipython",
    "version": 3
   },
   "file_extension": ".py",
   "mimetype": "text/x-python",
   "name": "python",
   "nbconvert_exporter": "python",
   "pygments_lexer": "ipython3",
   "version": "3.10.0"
  }
 },
 "nbformat": 4,
 "nbformat_minor": 5
}
