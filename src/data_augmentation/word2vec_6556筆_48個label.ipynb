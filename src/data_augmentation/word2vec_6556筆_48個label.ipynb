{
 "cells": [
  {
   "cell_type": "code",
   "execution_count": 1,
   "id": "f22f4841-9a9d-4a63-b896-560594d666d8",
   "metadata": {},
   "outputs": [
    {
     "data": {
      "text/html": [
       "<div>\n",
       "<style scoped>\n",
       "    .dataframe tbody tr th:only-of-type {\n",
       "        vertical-align: middle;\n",
       "    }\n",
       "\n",
       "    .dataframe tbody tr th {\n",
       "        vertical-align: top;\n",
       "    }\n",
       "\n",
       "    .dataframe thead th {\n",
       "        text-align: right;\n",
       "    }\n",
       "</style>\n",
       "<table border=\"1\" class=\"dataframe\">\n",
       "  <thead>\n",
       "    <tr style=\"text-align: right;\">\n",
       "      <th></th>\n",
       "      <th>Inbound Message</th>\n",
       "      <th>Label</th>\n",
       "    </tr>\n",
       "  </thead>\n",
       "  <tbody>\n",
       "    <tr>\n",
       "      <th>0</th>\n",
       "      <td>login issue verified user details employee man...</td>\n",
       "      <td>0</td>\n",
       "    </tr>\n",
       "    <tr>\n",
       "      <th>1</th>\n",
       "      <td>outlook hello team meetings skype meetings etc...</td>\n",
       "      <td>0</td>\n",
       "    </tr>\n",
       "    <tr>\n",
       "      <th>2</th>\n",
       "      <td>cant log vpn cannot log vpn best</td>\n",
       "      <td>0</td>\n",
       "    </tr>\n",
       "    <tr>\n",
       "      <th>3</th>\n",
       "      <td>unable access tool page unable access tool page</td>\n",
       "      <td>0</td>\n",
       "    </tr>\n",
       "    <tr>\n",
       "      <th>4</th>\n",
       "      <td>skype error skype error</td>\n",
       "      <td>0</td>\n",
       "    </tr>\n",
       "    <tr>\n",
       "      <th>...</th>\n",
       "      <td>...</td>\n",
       "      <td>...</td>\n",
       "    </tr>\n",
       "    <tr>\n",
       "      <th>6551</th>\n",
       "      <td>emails coming mail good afternoon receiving em...</td>\n",
       "      <td>22</td>\n",
       "    </tr>\n",
       "    <tr>\n",
       "      <th>6552</th>\n",
       "      <td>telephony software issue telephony software issue</td>\n",
       "      <td>0</td>\n",
       "    </tr>\n",
       "    <tr>\n",
       "      <th>6553</th>\n",
       "      <td>vip windows password reset tifpdchb pedxruyf v...</td>\n",
       "      <td>0</td>\n",
       "    </tr>\n",
       "    <tr>\n",
       "      <th>6554</th>\n",
       "      <td>machine est funcionando unable access machine ...</td>\n",
       "      <td>42</td>\n",
       "    </tr>\n",
       "    <tr>\n",
       "      <th>6555</th>\n",
       "      <td>mehreren lassen sich verschiedene prgramdntyme...</td>\n",
       "      <td>47</td>\n",
       "    </tr>\n",
       "  </tbody>\n",
       "</table>\n",
       "<p>6556 rows × 2 columns</p>\n",
       "</div>"
      ],
      "text/plain": [
       "                                        Inbound Message  Label\n",
       "0     login issue verified user details employee man...      0\n",
       "1     outlook hello team meetings skype meetings etc...      0\n",
       "2                      cant log vpn cannot log vpn best      0\n",
       "3       unable access tool page unable access tool page      0\n",
       "4                               skype error skype error      0\n",
       "...                                                 ...    ...\n",
       "6551  emails coming mail good afternoon receiving em...     22\n",
       "6552  telephony software issue telephony software issue      0\n",
       "6553  vip windows password reset tifpdchb pedxruyf v...      0\n",
       "6554  machine est funcionando unable access machine ...     42\n",
       "6555  mehreren lassen sich verschiedene prgramdntyme...     47\n",
       "\n",
       "[6556 rows x 2 columns]"
      ]
     },
     "execution_count": 1,
     "metadata": {},
     "output_type": "execute_result"
    }
   ],
   "source": [
    "import pandas as pd\n",
    "data_path = \"../../data/6556_48_label.csv\"\n",
    "df = pd.read_csv(data_path)\n",
    "# df_label_0 = df[df[\"Label\"] == 0]\n",
    "# df_label_0_to_drop = df_label_0.sample(n=3000, random_state=42)\n",
    "# df = df.drop(df_label_0_to_drop.index)\n",
    "df"
   ]
  },
  {
   "cell_type": "code",
   "execution_count": 2,
   "id": "bf737873-4f1c-4588-913d-8f06b2777b20",
   "metadata": {},
   "outputs": [
    {
     "name": "stderr",
     "output_type": "stream",
     "text": [
      "c:\\Users\\user\\AppData\\Local\\Programs\\Python\\Python310\\lib\\site-packages\\tqdm\\auto.py:21: TqdmWarning: IProgress not found. Please update jupyter and ipywidgets. See https://ipywidgets.readthedocs.io/en/stable/user_install.html\n",
      "  from .autonotebook import tqdm as notebook_tqdm\n"
     ]
    }
   ],
   "source": [
    "import sys\n",
    "import os\n",
    "sys.path.append(os.path.abspath('../ml_lib'))\n",
    "\n",
    "from config import *\n",
    "from experiment import run_kfold_experiment"
   ]
  },
  {
   "cell_type": "code",
   "execution_count": 3,
   "id": "a12b2613-aa9d-41c0-8f62-72210eaf8d7f",
   "metadata": {},
   "outputs": [],
   "source": [
    "messages, labels = df['Inbound Message'].tolist(), df['Label'].tolist()"
   ]
  },
  {
   "cell_type": "code",
   "execution_count": 4,
   "id": "38d4729f-f867-4cea-89f9-31f67e5ecced",
   "metadata": {},
   "outputs": [
    {
     "name": "stdout",
     "output_type": "stream",
     "text": [
      "▶ Running: bert-base-uncased + plain + word2vec\n",
      "tokenizer is bert-base-uncased\n",
      "Using device: cuda\n",
      "CUDA Available: True\n",
      "CUDA Device: NVIDIA GeForce RTX 5070 Ti\n",
      "Current GPU Memory Allocated: 0.00 GB\n",
      "Current GPU Memory Cached: 0.00 GB\n",
      "\n",
      "[Fold 1]\n",
      "🚀 Using Word2Vec for data augmentation\n",
      "🔧 Augmenting label 1: 21 → 200 (+179)\n",
      "🔧 Augmenting label 2: 64 → 200 (+136)\n",
      "🔧 Augmenting label 3: 24 → 200 (+176)\n",
      "🔧 Augmenting label 4: 191 → 200 (+9)\n",
      "🔧 Augmenting label 5: 113 → 200 (+87)\n",
      "🔧 Augmenting label 6: 93 → 200 (+107)\n",
      "🔧 Augmenting label 7: 30 → 200 (+170)\n",
      "🔧 Augmenting label 8: 68 → 200 (+132)\n",
      "🔧 Augmenting label 9: 30 → 200 (+170)\n",
      "🔧 Augmenting label 10: 67 → 200 (+133)\n",
      "🔧 Augmenting label 11: 169 → 200 (+31)\n",
      "🔧 Augmenting label 12: 189 → 200 (+11)\n",
      "🔧 Augmenting label 13: 29 → 200 (+171)\n",
      "🔧 Augmenting label 14: 22 → 200 (+178)\n",
      "🔧 Augmenting label 15: 25 → 200 (+175)\n",
      "🔧 Augmenting label 16: 19 → 200 (+181)\n",
      "🔧 Augmenting label 17: 183 → 200 (+17)\n",
      "🔧 Augmenting label 18: 92 → 200 (+108)\n",
      "🔧 Augmenting label 19: 44 → 200 (+156)\n",
      "🔧 Augmenting label 20: 13 → 200 (+187)\n",
      "🔧 Augmenting label 21: 35 → 200 (+165)\n",
      "🔧 Augmenting label 22: 76 → 200 (+124)\n",
      "🔧 Augmenting label 23: 158 → 200 (+42)\n",
      "🔧 Augmenting label 24: 13 → 200 (+187)\n",
      "🔧 Augmenting label 25: 44 → 200 (+156)\n",
      "🔧 Augmenting label 26: 84 → 200 (+116)\n",
      "🔧 Augmenting label 27: 48 → 200 (+152)\n",
      "🔧 Augmenting label 28: 11 → 200 (+189)\n",
      "🔧 Augmenting label 29: 13 → 200 (+187)\n",
      "🔧 Augmenting label 30: 11 → 200 (+189)\n",
      "🔧 Augmenting label 31: 75 → 200 (+125)\n",
      "🔧 Augmenting label 32: 36 → 200 (+164)\n",
      "🔧 Augmenting label 33: 32 → 200 (+168)\n",
      "🔧 Augmenting label 34: 29 → 200 (+171)\n",
      "🔧 Augmenting label 35: 11 → 200 (+189)\n",
      "🔧 Augmenting label 36: 22 → 200 (+178)\n",
      "🔧 Augmenting label 37: 16 → 200 (+184)\n",
      "🔧 Augmenting label 38: 33 → 200 (+167)\n",
      "🔧 Augmenting label 39: 10 → 200 (+190)\n",
      "🔧 Augmenting label 40: 9 → 200 (+191)\n",
      "🔧 Augmenting label 41: 57 → 200 (+143)\n",
      "🔧 Augmenting label 42: 19 → 200 (+181)\n",
      "🔧 Augmenting label 43: 8 → 200 (+192)\n",
      "🔧 Augmenting label 44: 54 → 200 (+146)\n",
      "🔧 Augmenting label 46: 61 → 200 (+139)\n",
      "🔧 Augmenting label 47: 80 → 200 (+120)\n",
      "Label distribution after resampling:\n",
      "  label 0: 2471\n",
      "  label 1: 200\n",
      "  label 2: 200\n",
      "  label 3: 200\n",
      "  label 4: 200\n",
      "  label 5: 200\n",
      "  label 6: 200\n",
      "  label 7: 200\n",
      "  label 8: 200\n",
      "  label 9: 200\n",
      "  label 10: 200\n",
      "  label 11: 200\n",
      "  label 12: 200\n",
      "  label 13: 200\n",
      "  label 14: 200\n",
      "  label 15: 200\n",
      "  label 16: 200\n",
      "  label 17: 200\n",
      "  label 18: 200\n",
      "  label 19: 200\n",
      "  label 20: 200\n",
      "  label 21: 200\n",
      "  label 22: 200\n",
      "  label 23: 200\n",
      "  label 24: 200\n",
      "  label 25: 200\n",
      "  label 26: 200\n",
      "  label 27: 200\n",
      "  label 28: 200\n",
      "  label 29: 200\n",
      "  label 30: 200\n",
      "  label 31: 200\n",
      "  label 32: 200\n",
      "  label 33: 200\n",
      "  label 34: 200\n",
      "  label 35: 200\n",
      "  label 36: 200\n",
      "  label 37: 200\n",
      "  label 38: 200\n",
      "  label 39: 200\n",
      "  label 40: 200\n",
      "  label 41: 200\n",
      "  label 42: 200\n",
      "  label 43: 200\n",
      "  label 44: 200\n",
      "  label 45: 242\n",
      "  label 46: 200\n",
      "  label 47: 200\n",
      "model is bert-base-uncased\n"
     ]
    },
    {
     "name": "stderr",
     "output_type": "stream",
     "text": [
      "Some weights of BertForSequenceClassification were not initialized from the model checkpoint at bert-base-uncased and are newly initialized: ['classifier.bias', 'classifier.weight']\n",
      "You should probably TRAIN this model on a down-stream task to be able to use it for predictions and inference.\n"
     ]
    },
    {
     "name": "stdout",
     "output_type": "stream",
     "text": [
      "Epoch 1/20\n"
     ]
    },
    {
     "name": "stderr",
     "output_type": "stream",
     "text": [
      "100%|██████████| 745/745 [01:02<00:00, 11.87it/s]\n"
     ]
    },
    {
     "name": "stdout",
     "output_type": "stream",
     "text": [
      "{'val_loss': 1.5704941353419932, 'val_accuracy': 0.5922256097560976, 'precision': 0.6097232559131864, 'recall': 0.5922256097560976, 'f1-score': 0.5563824213776833, 'macro_f1-score': 0.32910626972374474, 'balanced_accuracy': 0.34556643275241045, 'mcc': 0.4373173728540867, 'train_loss': 2.3639358763726768}\n",
      "Epoch 2/20\n"
     ]
    },
    {
     "name": "stderr",
     "output_type": "stream",
     "text": [
      "100%|██████████| 745/745 [01:02<00:00, 11.85it/s]\n"
     ]
    },
    {
     "name": "stdout",
     "output_type": "stream",
     "text": [
      "{'val_loss': 1.5276258987624471, 'val_accuracy': 0.6173780487804879, 'precision': 0.636298288682742, 'recall': 0.6173780487804879, 'f1-score': 0.6046533633401742, 'macro_f1-score': 0.3896119928874615, 'balanced_accuracy': 0.3862820462340715, 'mcc': 0.48578512122166095, 'train_loss': 0.8427070841993262}\n",
      "Epoch 3/20\n"
     ]
    },
    {
     "name": "stderr",
     "output_type": "stream",
     "text": [
      "100%|██████████| 745/745 [01:02<00:00, 11.84it/s]\n"
     ]
    },
    {
     "name": "stdout",
     "output_type": "stream",
     "text": [
      "{'val_loss': 1.5265190357842096, 'val_accuracy': 0.6379573170731707, 'precision': 0.651732051065124, 'recall': 0.6379573170731707, 'f1-score': 0.631211918072045, 'macro_f1-score': 0.4020827974154824, 'balanced_accuracy': 0.4053016980634372, 'mcc': 0.5235623959091531, 'train_loss': 0.3649890344414935}\n",
      "Epoch 4/20\n"
     ]
    },
    {
     "name": "stderr",
     "output_type": "stream",
     "text": [
      "100%|██████████| 745/745 [01:02<00:00, 11.83it/s]\n"
     ]
    },
    {
     "name": "stdout",
     "output_type": "stream",
     "text": [
      "{'val_loss': 1.7191928863161947, 'val_accuracy': 0.649390243902439, 'precision': 0.6115189304075509, 'recall': 0.649390243902439, 'f1-score': 0.6204430022970324, 'macro_f1-score': 0.37349609491451474, 'balanced_accuracy': 0.3589143501904439, 'mcc': 0.5211489422196186, 'train_loss': 0.20881171148370375}\n",
      "Epoch 5/20\n"
     ]
    },
    {
     "name": "stderr",
     "output_type": "stream",
     "text": [
      "100%|██████████| 745/745 [01:03<00:00, 11.82it/s]\n"
     ]
    },
    {
     "name": "stdout",
     "output_type": "stream",
     "text": [
      "{'val_loss': 1.9409907492922573, 'val_accuracy': 0.635670731707317, 'precision': 0.6409374346790642, 'recall': 0.635670731707317, 'f1-score': 0.6214163566235507, 'macro_f1-score': 0.3854794435117799, 'balanced_accuracy': 0.37642590529788117, 'mcc': 0.507124251624716, 'train_loss': 0.13355905665397244}\n",
      "Epoch 6/20\n"
     ]
    },
    {
     "name": "stderr",
     "output_type": "stream",
     "text": [
      "100%|██████████| 745/745 [01:02<00:00, 11.83it/s]\n"
     ]
    },
    {
     "name": "stdout",
     "output_type": "stream",
     "text": [
      "{'val_loss': 1.9655139180945187, 'val_accuracy': 0.6303353658536586, 'precision': 0.6303931550763845, 'recall': 0.6303353658536586, 'f1-score': 0.6180054105397708, 'macro_f1-score': 0.40866711184250254, 'balanced_accuracy': 0.4223778727009326, 'mcc': 0.5146150445588155, 'train_loss': 0.11230848171566957}\n",
      "Epoch 7/20\n"
     ]
    },
    {
     "name": "stderr",
     "output_type": "stream",
     "text": [
      "100%|██████████| 745/745 [01:03<00:00, 11.82it/s]\n"
     ]
    },
    {
     "name": "stdout",
     "output_type": "stream",
     "text": [
      "{'val_loss': 1.9961410253876593, 'val_accuracy': 0.6394817073170732, 'precision': 0.6385486086507383, 'recall': 0.6394817073170732, 'f1-score': 0.6305136131410497, 'macro_f1-score': 0.42920055030656995, 'balanced_accuracy': 0.4389929861829965, 'mcc': 0.5246011335785202, 'train_loss': 0.08845847695815884}\n",
      "Epoch 8/20\n"
     ]
    },
    {
     "name": "stderr",
     "output_type": "stream",
     "text": [
      "100%|██████████| 745/745 [01:03<00:00, 11.82it/s]\n"
     ]
    },
    {
     "name": "stdout",
     "output_type": "stream",
     "text": [
      "{'val_loss': 2.1304037798105218, 'val_accuracy': 0.6379573170731707, 'precision': 0.6465130188777286, 'recall': 0.6379573170731707, 'f1-score': 0.6303239928101392, 'macro_f1-score': 0.4422921942394252, 'balanced_accuracy': 0.44702768013020816, 'mcc': 0.5196152302675237, 'train_loss': 0.0995508406470661}\n",
      "Epoch 9/20\n"
     ]
    },
    {
     "name": "stderr",
     "output_type": "stream",
     "text": [
      "100%|██████████| 745/745 [01:03<00:00, 11.82it/s]\n"
     ]
    },
    {
     "name": "stdout",
     "output_type": "stream",
     "text": [
      "{'val_loss': 2.029666869923836, 'val_accuracy': 0.6478658536585366, 'precision': 0.6415360004444208, 'recall': 0.6478658536585366, 'f1-score': 0.6313928591044884, 'macro_f1-score': 0.42189903464179324, 'balanced_accuracy': 0.3911148580269354, 'mcc': 0.5252348062445512, 'train_loss': 0.08376352269665006}\n",
      "Epoch 10/20\n"
     ]
    },
    {
     "name": "stderr",
     "output_type": "stream",
     "text": [
      "100%|██████████| 745/745 [01:03<00:00, 11.80it/s]\n"
     ]
    },
    {
     "name": "stdout",
     "output_type": "stream",
     "text": [
      "{'val_loss': 2.048388360068202, 'val_accuracy': 0.6341463414634146, 'precision': 0.637347865622992, 'recall': 0.6341463414634146, 'f1-score': 0.6269682737902085, 'macro_f1-score': 0.4112312871603871, 'balanced_accuracy': 0.4081353641263647, 'mcc': 0.5202698092392496, 'train_loss': 0.07142661085927346}\n",
      "Epoch 11/20\n"
     ]
    },
    {
     "name": "stderr",
     "output_type": "stream",
     "text": [
      "100%|██████████| 745/745 [01:03<00:00, 11.82it/s]\n"
     ]
    },
    {
     "name": "stdout",
     "output_type": "stream",
     "text": [
      "{'val_loss': 2.1290965145680962, 'val_accuracy': 0.6387195121951219, 'precision': 0.6366484121700776, 'recall': 0.6387195121951219, 'f1-score': 0.6182744997180062, 'macro_f1-score': 0.40952826731482045, 'balanced_accuracy': 0.391386644777898, 'mcc': 0.5105431075789743, 'train_loss': 0.05843514582351625}\n",
      "Early stopping.\n",
      "\n",
      "[Fold 2]\n",
      "🚀 Using Word2Vec for data augmentation\n",
      "🔧 Augmenting label 1: 22 → 200 (+178)\n",
      "🔧 Augmenting label 2: 64 → 200 (+136)\n",
      "🔧 Augmenting label 3: 24 → 200 (+176)\n",
      "🔧 Augmenting label 4: 190 → 200 (+10)\n",
      "🔧 Augmenting label 5: 113 → 200 (+87)\n",
      "🔧 Augmenting label 6: 93 → 200 (+107)\n",
      "🔧 Augmenting label 7: 30 → 200 (+170)\n",
      "🔧 Augmenting label 8: 68 → 200 (+132)\n",
      "🔧 Augmenting label 9: 30 → 200 (+170)\n",
      "🔧 Augmenting label 10: 67 → 200 (+133)\n",
      "🔧 Augmenting label 11: 169 → 200 (+31)\n",
      "🔧 Augmenting label 12: 189 → 200 (+11)\n",
      "🔧 Augmenting label 13: 29 → 200 (+171)\n",
      "🔧 Augmenting label 14: 23 → 200 (+177)\n",
      "🔧 Augmenting label 15: 24 → 200 (+176)\n",
      "🔧 Augmenting label 16: 20 → 200 (+180)\n",
      "🔧 Augmenting label 17: 182 → 200 (+18)\n",
      "🔧 Augmenting label 18: 92 → 200 (+108)\n",
      "🔧 Augmenting label 19: 44 → 200 (+156)\n",
      "🔧 Augmenting label 20: 13 → 200 (+187)\n",
      "🔧 Augmenting label 21: 36 → 200 (+164)\n",
      "🔧 Augmenting label 22: 76 → 200 (+124)\n",
      "🔧 Augmenting label 23: 157 → 200 (+43)\n",
      "🔧 Augmenting label 24: 12 → 200 (+188)\n",
      "🔧 Augmenting label 25: 44 → 200 (+156)\n",
      "🔧 Augmenting label 26: 84 → 200 (+116)\n",
      "🔧 Augmenting label 27: 48 → 200 (+152)\n",
      "🔧 Augmenting label 28: 12 → 200 (+188)\n",
      "🔧 Augmenting label 29: 12 → 200 (+188)\n",
      "🔧 Augmenting label 30: 12 → 200 (+188)\n",
      "🔧 Augmenting label 31: 75 → 200 (+125)\n",
      "🔧 Augmenting label 32: 36 → 200 (+164)\n",
      "🔧 Augmenting label 33: 31 → 200 (+169)\n",
      "🔧 Augmenting label 34: 29 → 200 (+171)\n",
      "🔧 Augmenting label 35: 12 → 200 (+188)\n",
      "🔧 Augmenting label 36: 21 → 200 (+179)\n",
      "🔧 Augmenting label 37: 16 → 200 (+184)\n",
      "🔧 Augmenting label 38: 33 → 200 (+167)\n",
      "🔧 Augmenting label 39: 11 → 200 (+189)\n",
      "🔧 Augmenting label 40: 8 → 200 (+192)\n",
      "🔧 Augmenting label 41: 57 → 200 (+143)\n",
      "🔧 Augmenting label 42: 19 → 200 (+181)\n",
      "🔧 Augmenting label 43: 9 → 200 (+191)\n",
      "🔧 Augmenting label 44: 54 → 200 (+146)\n",
      "🔧 Augmenting label 46: 62 → 200 (+138)\n",
      "🔧 Augmenting label 47: 80 → 200 (+120)\n",
      "Label distribution after resampling:\n",
      "  label 0: 2471\n",
      "  label 1: 200\n",
      "  label 2: 200\n",
      "  label 3: 200\n",
      "  label 4: 200\n",
      "  label 5: 200\n",
      "  label 6: 200\n",
      "  label 7: 200\n",
      "  label 8: 200\n",
      "  label 9: 200\n",
      "  label 10: 200\n",
      "  label 11: 200\n",
      "  label 12: 200\n",
      "  label 13: 200\n",
      "  label 14: 200\n",
      "  label 15: 200\n",
      "  label 16: 200\n",
      "  label 17: 200\n",
      "  label 18: 200\n",
      "  label 19: 200\n",
      "  label 20: 200\n",
      "  label 21: 200\n",
      "  label 22: 200\n",
      "  label 23: 200\n",
      "  label 24: 200\n",
      "  label 25: 200\n",
      "  label 26: 200\n",
      "  label 27: 200\n",
      "  label 28: 200\n",
      "  label 29: 200\n",
      "  label 30: 200\n",
      "  label 31: 200\n",
      "  label 32: 200\n",
      "  label 33: 200\n",
      "  label 34: 200\n",
      "  label 35: 200\n",
      "  label 36: 200\n",
      "  label 37: 200\n",
      "  label 38: 200\n",
      "  label 39: 200\n",
      "  label 40: 200\n",
      "  label 41: 200\n",
      "  label 42: 200\n",
      "  label 43: 200\n",
      "  label 44: 200\n",
      "  label 45: 242\n",
      "  label 46: 200\n",
      "  label 47: 200\n",
      "model is bert-base-uncased\n"
     ]
    },
    {
     "name": "stderr",
     "output_type": "stream",
     "text": [
      "Some weights of BertForSequenceClassification were not initialized from the model checkpoint at bert-base-uncased and are newly initialized: ['classifier.bias', 'classifier.weight']\n",
      "You should probably TRAIN this model on a down-stream task to be able to use it for predictions and inference.\n"
     ]
    },
    {
     "name": "stdout",
     "output_type": "stream",
     "text": [
      "Epoch 1/20\n"
     ]
    },
    {
     "name": "stderr",
     "output_type": "stream",
     "text": [
      "100%|██████████| 745/745 [01:03<00:00, 11.81it/s]\n"
     ]
    },
    {
     "name": "stdout",
     "output_type": "stream",
     "text": [
      "{'val_loss': 1.4819823452612249, 'val_accuracy': 0.6102212051868803, 'precision': 0.6340239505082761, 'recall': 0.6102212051868803, 'f1-score': 0.5807004647620336, 'macro_f1-score': 0.33003596989266304, 'balanced_accuracy': 0.3924192994707221, 'mcc': 0.46985163111643724, 'train_loss': 2.273048663379362}\n",
      "Epoch 2/20\n"
     ]
    },
    {
     "name": "stderr",
     "output_type": "stream",
     "text": [
      "100%|██████████| 745/745 [01:03<00:00, 11.78it/s]\n"
     ]
    },
    {
     "name": "stdout",
     "output_type": "stream",
     "text": [
      "{'val_loss': 1.40352463722229, 'val_accuracy': 0.6292906178489702, 'precision': 0.6380973439390628, 'recall': 0.6292906178489702, 'f1-score': 0.6220072847792064, 'macro_f1-score': 0.39530974620723525, 'balanced_accuracy': 0.4069901124511805, 'mcc': 0.5130209241346317, 'train_loss': 0.770888426989917}\n",
      "Epoch 3/20\n"
     ]
    },
    {
     "name": "stderr",
     "output_type": "stream",
     "text": [
      "100%|██████████| 745/745 [01:03<00:00, 11.80it/s]\n"
     ]
    },
    {
     "name": "stdout",
     "output_type": "stream",
     "text": [
      "{'val_loss': 1.556786125752984, 'val_accuracy': 0.6292906178489702, 'precision': 0.6379821374073723, 'recall': 0.6292906178489702, 'f1-score': 0.6213033309827423, 'macro_f1-score': 0.3828802080651849, 'balanced_accuracy': 0.3998443087074894, 'mcc': 0.5129385005214018, 'train_loss': 0.3209264540232268}\n",
      "Epoch 4/20\n"
     ]
    },
    {
     "name": "stderr",
     "output_type": "stream",
     "text": [
      "100%|██████████| 745/745 [01:03<00:00, 11.79it/s]\n"
     ]
    },
    {
     "name": "stdout",
     "output_type": "stream",
     "text": [
      "{'val_loss': 1.6187443155341033, 'val_accuracy': 0.6598016781083142, 'precision': 0.6510293075584642, 'recall': 0.6598016781083142, 'f1-score': 0.6362825685511336, 'macro_f1-score': 0.39526099699305234, 'balanced_accuracy': 0.3754033642545474, 'mcc': 0.5389990081395638, 'train_loss': 0.1732761425997487}\n",
      "Epoch 5/20\n"
     ]
    },
    {
     "name": "stderr",
     "output_type": "stream",
     "text": [
      "100%|██████████| 745/745 [01:03<00:00, 11.80it/s]\n"
     ]
    },
    {
     "name": "stdout",
     "output_type": "stream",
     "text": [
      "{'val_loss': 1.7773673570737607, 'val_accuracy': 0.6231884057971014, 'precision': 0.6501922130635461, 'recall': 0.6231884057971014, 'f1-score': 0.6242519606969652, 'macro_f1-score': 0.38806238840354595, 'balanced_accuracy': 0.39726285357300223, 'mcc': 0.5205864514966093, 'train_loss': 0.13401584218212423}\n",
      "Early stopping.\n",
      "\n",
      "[Fold 3]\n",
      "🚀 Using Word2Vec for data augmentation\n",
      "🔧 Augmenting label 1: 22 → 200 (+178)\n",
      "🔧 Augmenting label 2: 64 → 200 (+136)\n",
      "🔧 Augmenting label 3: 24 → 200 (+176)\n",
      "🔧 Augmenting label 4: 190 → 200 (+10)\n",
      "🔧 Augmenting label 5: 113 → 200 (+87)\n",
      "🔧 Augmenting label 6: 93 → 200 (+107)\n",
      "🔧 Augmenting label 7: 30 → 200 (+170)\n",
      "🔧 Augmenting label 8: 68 → 200 (+132)\n",
      "🔧 Augmenting label 9: 30 → 200 (+170)\n",
      "🔧 Augmenting label 10: 67 → 200 (+133)\n",
      "🔧 Augmenting label 11: 169 → 200 (+31)\n",
      "🔧 Augmenting label 12: 190 → 200 (+10)\n",
      "🔧 Augmenting label 13: 28 → 200 (+172)\n",
      "🔧 Augmenting label 14: 23 → 200 (+177)\n",
      "🔧 Augmenting label 15: 25 → 200 (+175)\n",
      "🔧 Augmenting label 16: 19 → 200 (+181)\n",
      "🔧 Augmenting label 17: 182 → 200 (+18)\n",
      "🔧 Augmenting label 18: 92 → 200 (+108)\n",
      "🔧 Augmenting label 19: 44 → 200 (+156)\n",
      "🔧 Augmenting label 20: 14 → 200 (+186)\n",
      "🔧 Augmenting label 21: 35 → 200 (+165)\n",
      "🔧 Augmenting label 22: 76 → 200 (+124)\n",
      "🔧 Augmenting label 23: 157 → 200 (+43)\n",
      "🔧 Augmenting label 24: 13 → 200 (+187)\n",
      "🔧 Augmenting label 25: 44 → 200 (+156)\n",
      "🔧 Augmenting label 26: 84 → 200 (+116)\n",
      "🔧 Augmenting label 27: 48 → 200 (+152)\n",
      "🔧 Augmenting label 28: 11 → 200 (+189)\n",
      "🔧 Augmenting label 29: 13 → 200 (+187)\n",
      "🔧 Augmenting label 30: 11 → 200 (+189)\n",
      "🔧 Augmenting label 31: 76 → 200 (+124)\n",
      "🔧 Augmenting label 32: 36 → 200 (+164)\n",
      "🔧 Augmenting label 33: 31 → 200 (+169)\n",
      "🔧 Augmenting label 34: 30 → 200 (+170)\n",
      "🔧 Augmenting label 35: 11 → 200 (+189)\n",
      "🔧 Augmenting label 36: 21 → 200 (+179)\n",
      "🔧 Augmenting label 37: 16 → 200 (+184)\n",
      "🔧 Augmenting label 38: 32 → 200 (+168)\n",
      "🔧 Augmenting label 39: 11 → 200 (+189)\n",
      "🔧 Augmenting label 40: 9 → 200 (+191)\n",
      "🔧 Augmenting label 41: 57 → 200 (+143)\n",
      "🔧 Augmenting label 42: 18 → 200 (+182)\n",
      "🔧 Augmenting label 43: 9 → 200 (+191)\n",
      "🔧 Augmenting label 44: 55 → 200 (+145)\n",
      "🔧 Augmenting label 46: 62 → 200 (+138)\n",
      "🔧 Augmenting label 47: 80 → 200 (+120)\n",
      "Label distribution after resampling:\n",
      "  label 0: 2471\n",
      "  label 1: 200\n",
      "  label 2: 200\n",
      "  label 3: 200\n",
      "  label 4: 200\n",
      "  label 5: 200\n",
      "  label 6: 200\n",
      "  label 7: 200\n",
      "  label 8: 200\n",
      "  label 9: 200\n",
      "  label 10: 200\n",
      "  label 11: 200\n",
      "  label 12: 200\n",
      "  label 13: 200\n",
      "  label 14: 200\n",
      "  label 15: 200\n",
      "  label 16: 200\n",
      "  label 17: 200\n",
      "  label 18: 200\n",
      "  label 19: 200\n",
      "  label 20: 200\n",
      "  label 21: 200\n",
      "  label 22: 200\n",
      "  label 23: 200\n",
      "  label 24: 200\n",
      "  label 25: 200\n",
      "  label 26: 200\n",
      "  label 27: 200\n",
      "  label 28: 200\n",
      "  label 29: 200\n",
      "  label 30: 200\n",
      "  label 31: 200\n",
      "  label 32: 200\n",
      "  label 33: 200\n",
      "  label 34: 200\n",
      "  label 35: 200\n",
      "  label 36: 200\n",
      "  label 37: 200\n",
      "  label 38: 200\n",
      "  label 39: 200\n",
      "  label 40: 200\n",
      "  label 41: 200\n",
      "  label 42: 200\n",
      "  label 43: 200\n",
      "  label 44: 200\n",
      "  label 45: 241\n",
      "  label 46: 200\n",
      "  label 47: 200\n",
      "model is bert-base-uncased\n"
     ]
    },
    {
     "name": "stderr",
     "output_type": "stream",
     "text": [
      "Some weights of BertForSequenceClassification were not initialized from the model checkpoint at bert-base-uncased and are newly initialized: ['classifier.bias', 'classifier.weight']\n",
      "You should probably TRAIN this model on a down-stream task to be able to use it for predictions and inference.\n"
     ]
    },
    {
     "name": "stdout",
     "output_type": "stream",
     "text": [
      "Epoch 1/20\n"
     ]
    },
    {
     "name": "stderr",
     "output_type": "stream",
     "text": [
      "100%|██████████| 745/745 [01:02<00:00, 11.85it/s]\n"
     ]
    },
    {
     "name": "stdout",
     "output_type": "stream",
     "text": [
      "{'val_loss': 1.6356647101844228, 'val_accuracy': 0.5835240274599542, 'precision': 0.5866566788626245, 'recall': 0.5835240274599542, 'f1-score': 0.5328443638413574, 'macro_f1-score': 0.29901687585439735, 'balanced_accuracy': 0.32169457350125485, 'mcc': 0.40998456574377057, 'train_loss': 2.4255376098940036}\n",
      "Epoch 2/20\n"
     ]
    },
    {
     "name": "stderr",
     "output_type": "stream",
     "text": [
      "100%|██████████| 745/745 [01:03<00:00, 11.82it/s]\n"
     ]
    },
    {
     "name": "stdout",
     "output_type": "stream",
     "text": [
      "{'val_loss': 1.5185780045462818, 'val_accuracy': 0.6140350877192983, 'precision': 0.6085206830342128, 'recall': 0.6140350877192983, 'f1-score': 0.5966969789244899, 'macro_f1-score': 0.386173064254109, 'balanced_accuracy': 0.3859374753455341, 'mcc': 0.478545801167488, 'train_loss': 0.8642875162447059}\n",
      "Epoch 3/20\n"
     ]
    },
    {
     "name": "stderr",
     "output_type": "stream",
     "text": [
      "100%|██████████| 745/745 [01:03<00:00, 11.81it/s]\n"
     ]
    },
    {
     "name": "stdout",
     "output_type": "stream",
     "text": [
      "{'val_loss': 1.6739811185838245, 'val_accuracy': 0.6392067124332571, 'precision': 0.6222555177755695, 'recall': 0.6392067124332571, 'f1-score': 0.617402749656329, 'macro_f1-score': 0.3581514440434535, 'balanced_accuracy': 0.35249810291500255, 'mcc': 0.5110283650688864, 'train_loss': 0.3698458281889458}\n",
      "Epoch 4/20\n"
     ]
    },
    {
     "name": "stderr",
     "output_type": "stream",
     "text": [
      "100%|██████████| 745/745 [01:03<00:00, 11.80it/s]\n"
     ]
    },
    {
     "name": "stdout",
     "output_type": "stream",
     "text": [
      "{'val_loss': 1.7712078991732219, 'val_accuracy': 0.6567505720823799, 'precision': 0.6565410850950617, 'recall': 0.6567505720823799, 'f1-score': 0.6293936535508088, 'macro_f1-score': 0.3872464643268228, 'balanced_accuracy': 0.3436786093051963, 'mcc': 0.5262086581745546, 'train_loss': 0.2115445512878215}\n",
      "Epoch 5/20\n"
     ]
    },
    {
     "name": "stderr",
     "output_type": "stream",
     "text": [
      "100%|██████████| 745/745 [01:03<00:00, 11.80it/s]\n"
     ]
    },
    {
     "name": "stdout",
     "output_type": "stream",
     "text": [
      "{'val_loss': 1.8605234373996897, 'val_accuracy': 0.6346300533943554, 'precision': 0.6287998825311726, 'recall': 0.6346300533943554, 'f1-score': 0.6232845414872504, 'macro_f1-score': 0.37528738427995917, 'balanced_accuracy': 0.352058837737399, 'mcc': 0.5101662848678532, 'train_loss': 0.14599266800929436}\n",
      "Epoch 6/20\n"
     ]
    },
    {
     "name": "stderr",
     "output_type": "stream",
     "text": [
      "100%|██████████| 745/745 [01:03<00:00, 11.79it/s]\n"
     ]
    },
    {
     "name": "stdout",
     "output_type": "stream",
     "text": [
      "{'val_loss': 1.9979563578054673, 'val_accuracy': 0.6163234172387491, 'precision': 0.626819666788664, 'recall': 0.6163234172387491, 'f1-score': 0.6121238241788975, 'macro_f1-score': 0.40877977662646253, 'balanced_accuracy': 0.3980331295770168, 'mcc': 0.5008120502602885, 'train_loss': 0.11905349345640248}\n",
      "Epoch 7/20\n"
     ]
    },
    {
     "name": "stderr",
     "output_type": "stream",
     "text": [
      "100%|██████████| 745/745 [01:03<00:00, 11.81it/s]\n"
     ]
    },
    {
     "name": "stdout",
     "output_type": "stream",
     "text": [
      "{'val_loss': 2.000053543506599, 'val_accuracy': 0.6491228070175439, 'precision': 0.6479795269870665, 'recall': 0.6491228070175439, 'f1-score': 0.6384149144975839, 'macro_f1-score': 0.3936813983121397, 'balanced_accuracy': 0.38439741466268335, 'mcc': 0.5331776512829266, 'train_loss': 0.09354545196155774}\n",
      "Epoch 8/20\n"
     ]
    },
    {
     "name": "stderr",
     "output_type": "stream",
     "text": [
      "100%|██████████| 745/745 [01:03<00:00, 11.78it/s]\n"
     ]
    },
    {
     "name": "stdout",
     "output_type": "stream",
     "text": [
      "{'val_loss': 2.1570216273411926, 'val_accuracy': 0.6392067124332571, 'precision': 0.6333145290762977, 'recall': 0.6392067124332571, 'f1-score': 0.6160542719204634, 'macro_f1-score': 0.38206684517154793, 'balanced_accuracy': 0.3699823068107368, 'mcc': 0.5098920008301333, 'train_loss': 0.09932058460247897}\n",
      "Epoch 9/20\n"
     ]
    },
    {
     "name": "stderr",
     "output_type": "stream",
     "text": [
      "100%|██████████| 745/745 [01:03<00:00, 11.82it/s]\n"
     ]
    },
    {
     "name": "stdout",
     "output_type": "stream",
     "text": [
      "{'val_loss': 2.207774214242108, 'val_accuracy': 0.6361556064073226, 'precision': 0.6292159268890787, 'recall': 0.6361556064073226, 'f1-score': 0.6200081325821905, 'macro_f1-score': 0.39260341244270314, 'balanced_accuracy': 0.3859692001341495, 'mcc': 0.5076637988942847, 'train_loss': 0.09430046042414919}\n",
      "Early stopping.\n",
      "\n",
      "[Fold 4]\n",
      "🚀 Using Word2Vec for data augmentation\n",
      "🔧 Augmenting label 1: 22 → 200 (+178)\n",
      "🔧 Augmenting label 2: 64 → 200 (+136)\n",
      "🔧 Augmenting label 3: 24 → 200 (+176)\n",
      "🔧 Augmenting label 4: 190 → 200 (+10)\n",
      "🔧 Augmenting label 5: 113 → 200 (+87)\n",
      "🔧 Augmenting label 6: 93 → 200 (+107)\n",
      "🔧 Augmenting label 7: 31 → 200 (+169)\n",
      "🔧 Augmenting label 8: 68 → 200 (+132)\n",
      "🔧 Augmenting label 9: 29 → 200 (+171)\n",
      "🔧 Augmenting label 10: 67 → 200 (+133)\n",
      "🔧 Augmenting label 11: 169 → 200 (+31)\n",
      "🔧 Augmenting label 12: 190 → 200 (+10)\n",
      "🔧 Augmenting label 13: 29 → 200 (+171)\n",
      "🔧 Augmenting label 14: 22 → 200 (+178)\n",
      "🔧 Augmenting label 15: 25 → 200 (+175)\n",
      "🔧 Augmenting label 16: 19 → 200 (+181)\n",
      "🔧 Augmenting label 17: 182 → 200 (+18)\n",
      "🔧 Augmenting label 18: 92 → 200 (+108)\n",
      "🔧 Augmenting label 19: 44 → 200 (+156)\n",
      "🔧 Augmenting label 20: 14 → 200 (+186)\n",
      "🔧 Augmenting label 21: 35 → 200 (+165)\n",
      "🔧 Augmenting label 22: 76 → 200 (+124)\n",
      "🔧 Augmenting label 23: 158 → 200 (+42)\n",
      "🔧 Augmenting label 24: 13 → 200 (+187)\n",
      "🔧 Augmenting label 25: 44 → 200 (+156)\n",
      "🔧 Augmenting label 26: 84 → 200 (+116)\n",
      "🔧 Augmenting label 27: 48 → 200 (+152)\n",
      "🔧 Augmenting label 28: 11 → 200 (+189)\n",
      "🔧 Augmenting label 29: 13 → 200 (+187)\n",
      "🔧 Augmenting label 30: 11 → 200 (+189)\n",
      "🔧 Augmenting label 31: 75 → 200 (+125)\n",
      "🔧 Augmenting label 32: 36 → 200 (+164)\n",
      "🔧 Augmenting label 33: 31 → 200 (+169)\n",
      "🔧 Augmenting label 34: 30 → 200 (+170)\n",
      "🔧 Augmenting label 35: 11 → 200 (+189)\n",
      "🔧 Augmenting label 36: 22 → 200 (+178)\n",
      "🔧 Augmenting label 37: 16 → 200 (+184)\n",
      "🔧 Augmenting label 38: 33 → 200 (+167)\n",
      "🔧 Augmenting label 39: 10 → 200 (+190)\n",
      "🔧 Augmenting label 40: 9 → 200 (+191)\n",
      "🔧 Augmenting label 41: 56 → 200 (+144)\n",
      "🔧 Augmenting label 42: 18 → 200 (+182)\n",
      "🔧 Augmenting label 43: 9 → 200 (+191)\n",
      "🔧 Augmenting label 44: 55 → 200 (+145)\n",
      "🔧 Augmenting label 46: 62 → 200 (+138)\n",
      "🔧 Augmenting label 47: 80 → 200 (+120)\n",
      "Label distribution after resampling:\n",
      "  label 0: 2471\n",
      "  label 1: 200\n",
      "  label 2: 200\n",
      "  label 3: 200\n",
      "  label 4: 200\n",
      "  label 5: 200\n",
      "  label 6: 200\n",
      "  label 7: 200\n",
      "  label 8: 200\n",
      "  label 9: 200\n",
      "  label 10: 200\n",
      "  label 11: 200\n",
      "  label 12: 200\n",
      "  label 13: 200\n",
      "  label 14: 200\n",
      "  label 15: 200\n",
      "  label 16: 200\n",
      "  label 17: 200\n",
      "  label 18: 200\n",
      "  label 19: 200\n",
      "  label 20: 200\n",
      "  label 21: 200\n",
      "  label 22: 200\n",
      "  label 23: 200\n",
      "  label 24: 200\n",
      "  label 25: 200\n",
      "  label 26: 200\n",
      "  label 27: 200\n",
      "  label 28: 200\n",
      "  label 29: 200\n",
      "  label 30: 200\n",
      "  label 31: 200\n",
      "  label 32: 200\n",
      "  label 33: 200\n",
      "  label 34: 200\n",
      "  label 35: 200\n",
      "  label 36: 200\n",
      "  label 37: 200\n",
      "  label 38: 200\n",
      "  label 39: 200\n",
      "  label 40: 200\n",
      "  label 41: 200\n",
      "  label 42: 200\n",
      "  label 43: 200\n",
      "  label 44: 200\n",
      "  label 45: 241\n",
      "  label 46: 200\n",
      "  label 47: 200\n",
      "model is bert-base-uncased\n"
     ]
    },
    {
     "name": "stderr",
     "output_type": "stream",
     "text": [
      "Some weights of BertForSequenceClassification were not initialized from the model checkpoint at bert-base-uncased and are newly initialized: ['classifier.bias', 'classifier.weight']\n",
      "You should probably TRAIN this model on a down-stream task to be able to use it for predictions and inference.\n"
     ]
    },
    {
     "name": "stdout",
     "output_type": "stream",
     "text": [
      "Epoch 1/20\n"
     ]
    },
    {
     "name": "stderr",
     "output_type": "stream",
     "text": [
      "100%|██████████| 745/745 [01:03<00:00, 11.81it/s]\n"
     ]
    },
    {
     "name": "stdout",
     "output_type": "stream",
     "text": [
      "{'val_loss': 1.463859703482651, 'val_accuracy': 0.6186117467581999, 'precision': 0.5969863482976511, 'recall': 0.6186117467581999, 'f1-score': 0.5732478941204555, 'macro_f1-score': 0.36285663896069914, 'balanced_accuracy': 0.3894395600657811, 'mcc': 0.47020294324106354, 'train_loss': 2.2432465372469603}\n",
      "Epoch 2/20\n"
     ]
    },
    {
     "name": "stderr",
     "output_type": "stream",
     "text": [
      "100%|██████████| 745/745 [01:03<00:00, 11.80it/s]\n"
     ]
    },
    {
     "name": "stdout",
     "output_type": "stream",
     "text": [
      "{'val_loss': 1.3739047606543797, 'val_accuracy': 0.6575133485888635, 'precision': 0.6644699621865902, 'recall': 0.6575133485888635, 'f1-score': 0.6449369623416806, 'macro_f1-score': 0.4298339508191658, 'balanced_accuracy': 0.4308649715676082, 'mcc': 0.5413831417844702, 'train_loss': 0.7544727453049397}\n",
      "Epoch 3/20\n"
     ]
    },
    {
     "name": "stderr",
     "output_type": "stream",
     "text": [
      "100%|██████████| 745/745 [01:03<00:00, 11.79it/s]\n"
     ]
    },
    {
     "name": "stdout",
     "output_type": "stream",
     "text": [
      "{'val_loss': 1.4721827259877833, 'val_accuracy': 0.6514111365369947, 'precision': 0.6599369262518037, 'recall': 0.6514111365369947, 'f1-score': 0.6435474306783702, 'macro_f1-score': 0.4304975308103664, 'balanced_accuracy': 0.4401536710032876, 'mcc': 0.5391478079650717, 'train_loss': 0.32953556369515075}\n",
      "Epoch 4/20\n"
     ]
    },
    {
     "name": "stderr",
     "output_type": "stream",
     "text": [
      "100%|██████████| 745/745 [01:03<00:00, 11.77it/s]\n"
     ]
    },
    {
     "name": "stdout",
     "output_type": "stream",
     "text": [
      "{'val_loss': 1.6743019695689039, 'val_accuracy': 0.6498855835240275, 'precision': 0.6606848400439753, 'recall': 0.6498855835240275, 'f1-score': 0.6425196925894071, 'macro_f1-score': 0.4324106062776783, 'balanced_accuracy': 0.43238815840163847, 'mcc': 0.5424410223640305, 'train_loss': 0.17125273494162416}\n",
      "Epoch 5/20\n"
     ]
    },
    {
     "name": "stderr",
     "output_type": "stream",
     "text": [
      "100%|██████████| 745/745 [01:03<00:00, 11.78it/s]\n"
     ]
    },
    {
     "name": "stdout",
     "output_type": "stream",
     "text": [
      "{'val_loss': 1.853135963583865, 'val_accuracy': 0.6521739130434783, 'precision': 0.6447676330314813, 'recall': 0.6521739130434783, 'f1-score': 0.6335429576504942, 'macro_f1-score': 0.39266608601841013, 'balanced_accuracy': 0.38830118465725794, 'mcc': 0.5289011297660813, 'train_loss': 0.12459924697575953}\n",
      "Epoch 6/20\n"
     ]
    },
    {
     "name": "stderr",
     "output_type": "stream",
     "text": [
      "100%|██████████| 745/745 [01:03<00:00, 11.79it/s]\n"
     ]
    },
    {
     "name": "stdout",
     "output_type": "stream",
     "text": [
      "{'val_loss': 1.993153647996667, 'val_accuracy': 0.6308161708619374, 'precision': 0.6429485864563496, 'recall': 0.6308161708619374, 'f1-score': 0.6251461095687986, 'macro_f1-score': 0.38569242414353333, 'balanced_accuracy': 0.39563333637516257, 'mcc': 0.5124579109051115, 'train_loss': 0.09672188844044237}\n",
      "Epoch 7/20\n"
     ]
    },
    {
     "name": "stderr",
     "output_type": "stream",
     "text": [
      "100%|██████████| 745/745 [01:03<00:00, 11.80it/s]\n"
     ]
    },
    {
     "name": "stdout",
     "output_type": "stream",
     "text": [
      "{'val_loss': 2.005119396600781, 'val_accuracy': 0.665903890160183, 'precision': 0.6605315570696045, 'recall': 0.665903890160183, 'f1-score': 0.6515458469507749, 'macro_f1-score': 0.42583882941865187, 'balanced_accuracy': 0.4062748361768838, 'mcc': 0.5494608553759034, 'train_loss': 0.07152370969458614}\n",
      "Early stopping.\n",
      "\n",
      "[Fold 5]\n",
      "🚀 Using Word2Vec for data augmentation\n",
      "🔧 Augmenting label 1: 21 → 200 (+179)\n",
      "🔧 Augmenting label 2: 64 → 200 (+136)\n",
      "🔧 Augmenting label 3: 24 → 200 (+176)\n",
      "🔧 Augmenting label 4: 191 → 200 (+9)\n",
      "🔧 Augmenting label 5: 112 → 200 (+88)\n",
      "🔧 Augmenting label 6: 92 → 200 (+108)\n",
      "🔧 Augmenting label 7: 31 → 200 (+169)\n",
      "🔧 Augmenting label 8: 68 → 200 (+132)\n",
      "🔧 Augmenting label 9: 29 → 200 (+171)\n",
      "🔧 Augmenting label 10: 68 → 200 (+132)\n",
      "🔧 Augmenting label 11: 168 → 200 (+32)\n",
      "🔧 Augmenting label 12: 190 → 200 (+10)\n",
      "🔧 Augmenting label 13: 29 → 200 (+171)\n",
      "🔧 Augmenting label 14: 22 → 200 (+178)\n",
      "🔧 Augmenting label 15: 25 → 200 (+175)\n",
      "🔧 Augmenting label 16: 19 → 200 (+181)\n",
      "🔧 Augmenting label 17: 183 → 200 (+17)\n",
      "🔧 Augmenting label 18: 92 → 200 (+108)\n",
      "🔧 Augmenting label 19: 44 → 200 (+156)\n",
      "🔧 Augmenting label 20: 14 → 200 (+186)\n",
      "🔧 Augmenting label 21: 35 → 200 (+165)\n",
      "🔧 Augmenting label 22: 76 → 200 (+124)\n",
      "🔧 Augmenting label 23: 158 → 200 (+42)\n",
      "🔧 Augmenting label 24: 13 → 200 (+187)\n",
      "🔧 Augmenting label 25: 44 → 200 (+156)\n",
      "🔧 Augmenting label 26: 84 → 200 (+116)\n",
      "🔧 Augmenting label 27: 48 → 200 (+152)\n",
      "🔧 Augmenting label 28: 11 → 200 (+189)\n",
      "🔧 Augmenting label 29: 13 → 200 (+187)\n",
      "🔧 Augmenting label 30: 11 → 200 (+189)\n",
      "🔧 Augmenting label 31: 75 → 200 (+125)\n",
      "🔧 Augmenting label 32: 36 → 200 (+164)\n",
      "🔧 Augmenting label 33: 31 → 200 (+169)\n",
      "🔧 Augmenting label 34: 30 → 200 (+170)\n",
      "🔧 Augmenting label 35: 11 → 200 (+189)\n",
      "🔧 Augmenting label 36: 22 → 200 (+178)\n",
      "🔧 Augmenting label 37: 16 → 200 (+184)\n",
      "🔧 Augmenting label 38: 33 → 200 (+167)\n",
      "🔧 Augmenting label 39: 10 → 200 (+190)\n",
      "🔧 Augmenting label 40: 9 → 200 (+191)\n",
      "🔧 Augmenting label 41: 57 → 200 (+143)\n",
      "🔧 Augmenting label 42: 18 → 200 (+182)\n",
      "🔧 Augmenting label 43: 9 → 200 (+191)\n",
      "🔧 Augmenting label 44: 54 → 200 (+146)\n",
      "🔧 Augmenting label 46: 61 → 200 (+139)\n",
      "🔧 Augmenting label 47: 80 → 200 (+120)\n",
      "Label distribution after resampling:\n",
      "  label 0: 2472\n",
      "  label 1: 200\n",
      "  label 2: 200\n",
      "  label 3: 200\n",
      "  label 4: 200\n",
      "  label 5: 200\n",
      "  label 6: 200\n",
      "  label 7: 200\n",
      "  label 8: 200\n",
      "  label 9: 200\n",
      "  label 10: 200\n",
      "  label 11: 200\n",
      "  label 12: 200\n",
      "  label 13: 200\n",
      "  label 14: 200\n",
      "  label 15: 200\n",
      "  label 16: 200\n",
      "  label 17: 200\n",
      "  label 18: 200\n",
      "  label 19: 200\n",
      "  label 20: 200\n",
      "  label 21: 200\n",
      "  label 22: 200\n",
      "  label 23: 200\n",
      "  label 24: 200\n",
      "  label 25: 200\n",
      "  label 26: 200\n",
      "  label 27: 200\n",
      "  label 28: 200\n",
      "  label 29: 200\n",
      "  label 30: 200\n",
      "  label 31: 200\n",
      "  label 32: 200\n",
      "  label 33: 200\n",
      "  label 34: 200\n",
      "  label 35: 200\n",
      "  label 36: 200\n",
      "  label 37: 200\n",
      "  label 38: 200\n",
      "  label 39: 200\n",
      "  label 40: 200\n",
      "  label 41: 200\n",
      "  label 42: 200\n",
      "  label 43: 200\n",
      "  label 44: 200\n",
      "  label 45: 242\n",
      "  label 46: 200\n",
      "  label 47: 200\n",
      "model is bert-base-uncased\n"
     ]
    },
    {
     "name": "stderr",
     "output_type": "stream",
     "text": [
      "Some weights of BertForSequenceClassification were not initialized from the model checkpoint at bert-base-uncased and are newly initialized: ['classifier.bias', 'classifier.weight']\n",
      "You should probably TRAIN this model on a down-stream task to be able to use it for predictions and inference.\n"
     ]
    },
    {
     "name": "stdout",
     "output_type": "stream",
     "text": [
      "Epoch 1/20\n"
     ]
    },
    {
     "name": "stderr",
     "output_type": "stream",
     "text": [
      "100%|██████████| 745/745 [01:03<00:00, 11.81it/s]\n"
     ]
    },
    {
     "name": "stdout",
     "output_type": "stream",
     "text": [
      "{'val_loss': 1.4799081650449009, 'val_accuracy': 0.6216628527841342, 'precision': 0.6093191278649585, 'recall': 0.6216628527841342, 'f1-score': 0.5929336582418978, 'macro_f1-score': 0.35636014768750274, 'balanced_accuracy': 0.39535140723110435, 'mcc': 0.4824856987988781, 'train_loss': 2.3078527155338517}\n",
      "Epoch 2/20\n"
     ]
    },
    {
     "name": "stderr",
     "output_type": "stream",
     "text": [
      "100%|██████████| 745/745 [01:03<00:00, 11.79it/s]\n"
     ]
    },
    {
     "name": "stdout",
     "output_type": "stream",
     "text": [
      "{'val_loss': 1.3871179662826585, 'val_accuracy': 0.6361556064073226, 'precision': 0.6380069415707802, 'recall': 0.6361556064073226, 'f1-score': 0.6294628620216317, 'macro_f1-score': 0.42426761494778914, 'balanced_accuracy': 0.4296547940342914, 'mcc': 0.5251902708019722, 'train_loss': 0.7995141919227254}\n",
      "Epoch 3/20\n"
     ]
    },
    {
     "name": "stderr",
     "output_type": "stream",
     "text": [
      "100%|██████████| 745/745 [01:03<00:00, 11.79it/s]\n"
     ]
    },
    {
     "name": "stdout",
     "output_type": "stream",
     "text": [
      "{'val_loss': 1.4654873453262376, 'val_accuracy': 0.6605644546147978, 'precision': 0.6377731011964347, 'recall': 0.6605644546147978, 'f1-score': 0.6362150876005178, 'macro_f1-score': 0.40395945992004534, 'balanced_accuracy': 0.38792752848020245, 'mcc': 0.5414194597534829, 'train_loss': 0.33902868375982215}\n",
      "Epoch 4/20\n"
     ]
    },
    {
     "name": "stderr",
     "output_type": "stream",
     "text": [
      "100%|██████████| 745/745 [01:03<00:00, 11.79it/s]\n"
     ]
    },
    {
     "name": "stdout",
     "output_type": "stream",
     "text": [
      "{'val_loss': 1.5840021924274723, 'val_accuracy': 0.6483600305110603, 'precision': 0.6604197568466597, 'recall': 0.6483600305110603, 'f1-score': 0.6463228578416268, 'macro_f1-score': 0.4367066789886247, 'balanced_accuracy': 0.41247000414531537, 'mcc': 0.5406083884595618, 'train_loss': 0.18990109796892077}\n",
      "Epoch 5/20\n"
     ]
    },
    {
     "name": "stderr",
     "output_type": "stream",
     "text": [
      "100%|██████████| 745/745 [01:03<00:00, 11.79it/s]\n"
     ]
    },
    {
     "name": "stdout",
     "output_type": "stream",
     "text": [
      "{'val_loss': 1.7239301235574047, 'val_accuracy': 0.6376811594202898, 'precision': 0.6310709691945493, 'recall': 0.6376811594202898, 'f1-score': 0.6239193595353786, 'macro_f1-score': 0.38532756596275003, 'balanced_accuracy': 0.3625369710907315, 'mcc': 0.5171285103140129, 'train_loss': 0.1202950990115036}\n",
      "Epoch 6/20\n"
     ]
    },
    {
     "name": "stderr",
     "output_type": "stream",
     "text": [
      "100%|██████████| 745/745 [01:03<00:00, 11.80it/s]\n"
     ]
    },
    {
     "name": "stdout",
     "output_type": "stream",
     "text": [
      "{'val_loss': 1.8063804143812598, 'val_accuracy': 0.6475972540045767, 'precision': 0.6505095297338798, 'recall': 0.6475972540045767, 'f1-score': 0.6417442691529023, 'macro_f1-score': 0.4382571619095697, 'balanced_accuracy': 0.41710612999352054, 'mcc': 0.5367618759767641, 'train_loss': 0.1356784505032053}\n",
      "Epoch 7/20\n"
     ]
    },
    {
     "name": "stderr",
     "output_type": "stream",
     "text": [
      "100%|██████████| 745/745 [01:03<00:00, 11.81it/s]\n"
     ]
    },
    {
     "name": "stdout",
     "output_type": "stream",
     "text": [
      "{'val_loss': 1.7724186011203906, 'val_accuracy': 0.6521739130434783, 'precision': 0.6614167938813265, 'recall': 0.6521739130434783, 'f1-score': 0.6403869727098305, 'macro_f1-score': 0.40146613050069657, 'balanced_accuracy': 0.40517192335441615, 'mcc': 0.5400840590700982, 'train_loss': 0.09210581075581378}\n",
      "Epoch 8/20\n"
     ]
    },
    {
     "name": "stderr",
     "output_type": "stream",
     "text": [
      "100%|██████████| 745/745 [01:03<00:00, 11.76it/s]\n"
     ]
    },
    {
     "name": "stdout",
     "output_type": "stream",
     "text": [
      "{'val_loss': 1.9541081898823016, 'val_accuracy': 0.6475972540045767, 'precision': 0.6487115411441448, 'recall': 0.6475972540045767, 'f1-score': 0.6355508208193605, 'macro_f1-score': 0.40506834822359544, 'balanced_accuracy': 0.39812658408725543, 'mcc': 0.5350301239046783, 'train_loss': 0.06190753863224347}\n",
      "Epoch 9/20\n"
     ]
    },
    {
     "name": "stderr",
     "output_type": "stream",
     "text": [
      "100%|██████████| 745/745 [01:03<00:00, 11.80it/s]\n"
     ]
    },
    {
     "name": "stdout",
     "output_type": "stream",
     "text": [
      "{'val_loss': 2.1075831869753396, 'val_accuracy': 0.6475972540045767, 'precision': 0.6461193001233144, 'recall': 0.6475972540045767, 'f1-score': 0.6326066673140516, 'macro_f1-score': 0.3800385450675974, 'balanced_accuracy': 0.37649838770135813, 'mcc': 0.5315263507343574, 'train_loss': 0.08420385619275422}\n",
      "Early stopping.\n",
      "\n",
      " === bert-base-uncased + plain + word2vec Final 5-fold Cross-Validation Results ===\n",
      "val_loss: 1.8025\n",
      "val_accuracy: 0.6362\n",
      "precision: 0.6445\n",
      "recall: 0.6362\n",
      "f1-score: 0.6297\n",
      "macro_f1-score: 0.4234\n",
      "balanced_accuracy: 0.4203\n",
      "mcc: 0.5225\n",
      "train_loss: 0.2593\n",
      "total_seconds: 2776.0000\n",
      "total_time: 0 hrs 46 mins 16 secs\n",
      "▶ Running: bert-base-uncased + cnn + word2vec\n",
      "tokenizer is bert-base-uncased\n",
      "Using device: cuda\n",
      "CUDA Available: True\n",
      "CUDA Device: NVIDIA GeForce RTX 5070 Ti\n",
      "Current GPU Memory Allocated: 0.02 GB\n",
      "Current GPU Memory Cached: 3.15 GB\n",
      "\n",
      "[Fold 1]\n",
      "🚀 Using Word2Vec for data augmentation\n",
      "🔧 Augmenting label 1: 21 → 200 (+179)\n",
      "🔧 Augmenting label 2: 64 → 200 (+136)\n",
      "🔧 Augmenting label 3: 24 → 200 (+176)\n",
      "🔧 Augmenting label 4: 191 → 200 (+9)\n",
      "🔧 Augmenting label 5: 113 → 200 (+87)\n",
      "🔧 Augmenting label 6: 93 → 200 (+107)\n",
      "🔧 Augmenting label 7: 30 → 200 (+170)\n",
      "🔧 Augmenting label 8: 68 → 200 (+132)\n",
      "🔧 Augmenting label 9: 30 → 200 (+170)\n",
      "🔧 Augmenting label 10: 67 → 200 (+133)\n",
      "🔧 Augmenting label 11: 169 → 200 (+31)\n",
      "🔧 Augmenting label 12: 189 → 200 (+11)\n",
      "🔧 Augmenting label 13: 29 → 200 (+171)\n",
      "🔧 Augmenting label 14: 22 → 200 (+178)\n",
      "🔧 Augmenting label 15: 25 → 200 (+175)\n",
      "🔧 Augmenting label 16: 19 → 200 (+181)\n",
      "🔧 Augmenting label 17: 183 → 200 (+17)\n",
      "🔧 Augmenting label 18: 92 → 200 (+108)\n",
      "🔧 Augmenting label 19: 44 → 200 (+156)\n",
      "🔧 Augmenting label 20: 13 → 200 (+187)\n",
      "🔧 Augmenting label 21: 35 → 200 (+165)\n",
      "🔧 Augmenting label 22: 76 → 200 (+124)\n",
      "🔧 Augmenting label 23: 158 → 200 (+42)\n",
      "🔧 Augmenting label 24: 13 → 200 (+187)\n",
      "🔧 Augmenting label 25: 44 → 200 (+156)\n",
      "🔧 Augmenting label 26: 84 → 200 (+116)\n",
      "🔧 Augmenting label 27: 48 → 200 (+152)\n",
      "🔧 Augmenting label 28: 11 → 200 (+189)\n",
      "🔧 Augmenting label 29: 13 → 200 (+187)\n",
      "🔧 Augmenting label 30: 11 → 200 (+189)\n",
      "🔧 Augmenting label 31: 75 → 200 (+125)\n",
      "🔧 Augmenting label 32: 36 → 200 (+164)\n",
      "🔧 Augmenting label 33: 32 → 200 (+168)\n",
      "🔧 Augmenting label 34: 29 → 200 (+171)\n",
      "🔧 Augmenting label 35: 11 → 200 (+189)\n",
      "🔧 Augmenting label 36: 22 → 200 (+178)\n",
      "🔧 Augmenting label 37: 16 → 200 (+184)\n",
      "🔧 Augmenting label 38: 33 → 200 (+167)\n",
      "🔧 Augmenting label 39: 10 → 200 (+190)\n",
      "🔧 Augmenting label 40: 9 → 200 (+191)\n",
      "🔧 Augmenting label 41: 57 → 200 (+143)\n",
      "🔧 Augmenting label 42: 19 → 200 (+181)\n",
      "🔧 Augmenting label 43: 8 → 200 (+192)\n",
      "🔧 Augmenting label 44: 54 → 200 (+146)\n",
      "🔧 Augmenting label 46: 61 → 200 (+139)\n",
      "🔧 Augmenting label 47: 80 → 200 (+120)\n",
      "Label distribution after resampling:\n",
      "  label 0: 2471\n",
      "  label 1: 200\n",
      "  label 2: 200\n",
      "  label 3: 200\n",
      "  label 4: 200\n",
      "  label 5: 200\n",
      "  label 6: 200\n",
      "  label 7: 200\n",
      "  label 8: 200\n",
      "  label 9: 200\n",
      "  label 10: 200\n",
      "  label 11: 200\n",
      "  label 12: 200\n",
      "  label 13: 200\n",
      "  label 14: 200\n",
      "  label 15: 200\n",
      "  label 16: 200\n",
      "  label 17: 200\n",
      "  label 18: 200\n",
      "  label 19: 200\n",
      "  label 20: 200\n",
      "  label 21: 200\n",
      "  label 22: 200\n",
      "  label 23: 200\n",
      "  label 24: 200\n",
      "  label 25: 200\n",
      "  label 26: 200\n",
      "  label 27: 200\n",
      "  label 28: 200\n",
      "  label 29: 200\n",
      "  label 30: 200\n",
      "  label 31: 200\n",
      "  label 32: 200\n",
      "  label 33: 200\n",
      "  label 34: 200\n",
      "  label 35: 200\n",
      "  label 36: 200\n",
      "  label 37: 200\n",
      "  label 38: 200\n",
      "  label 39: 200\n",
      "  label 40: 200\n",
      "  label 41: 200\n",
      "  label 42: 200\n",
      "  label 43: 200\n",
      "  label 44: 200\n",
      "  label 45: 242\n",
      "  label 46: 200\n",
      "  label 47: 200\n",
      "model is bert-base-uncased cnn\n",
      "Epoch 1/20\n"
     ]
    },
    {
     "name": "stderr",
     "output_type": "stream",
     "text": [
      "100%|██████████| 745/745 [01:04<00:00, 11.54it/s]\n"
     ]
    },
    {
     "name": "stdout",
     "output_type": "stream",
     "text": [
      "{'val_loss': 1.522791293336124, 'val_accuracy': 0.5861280487804879, 'precision': 0.6057482826436659, 'recall': 0.5861280487804879, 'f1-score': 0.571373906511766, 'macro_f1-score': 0.3394947194435581, 'balanced_accuracy': 0.39548949123144883, 'mcc': 0.4549415222632444, 'train_loss': 2.0859697768352174}\n",
      "Epoch 2/20\n"
     ]
    },
    {
     "name": "stderr",
     "output_type": "stream",
     "text": [
      "100%|██████████| 745/745 [01:04<00:00, 11.56it/s]\n"
     ]
    },
    {
     "name": "stdout",
     "output_type": "stream",
     "text": [
      "{'val_loss': 1.5524909638050126, 'val_accuracy': 0.6333841463414634, 'precision': 0.6269099601442473, 'recall': 0.6333841463414634, 'f1-score': 0.601998199261753, 'macro_f1-score': 0.3847039154399758, 'balanced_accuracy': 0.4049564243293524, 'mcc': 0.49364675735072017, 'train_loss': 0.7100755999652332}\n",
      "Epoch 3/20\n"
     ]
    },
    {
     "name": "stderr",
     "output_type": "stream",
     "text": [
      "100%|██████████| 745/745 [01:04<00:00, 11.58it/s]\n"
     ]
    },
    {
     "name": "stdout",
     "output_type": "stream",
     "text": [
      "{'val_loss': 1.5769881776920178, 'val_accuracy': 0.6478658536585366, 'precision': 0.6234593443783727, 'recall': 0.6478658536585366, 'f1-score': 0.6226339887436809, 'macro_f1-score': 0.40528606076008544, 'balanced_accuracy': 0.4065360514739084, 'mcc': 0.5226069077448028, 'train_loss': 0.3275094975061065}\n",
      "Epoch 4/20\n"
     ]
    },
    {
     "name": "stderr",
     "output_type": "stream",
     "text": [
      "100%|██████████| 745/745 [01:04<00:00, 11.55it/s]\n"
     ]
    },
    {
     "name": "stdout",
     "output_type": "stream",
     "text": [
      "{'val_loss': 1.8240979684562217, 'val_accuracy': 0.631859756097561, 'precision': 0.624764390862476, 'recall': 0.631859756097561, 'f1-score': 0.6184582804794717, 'macro_f1-score': 0.3945377007054895, 'balanced_accuracy': 0.408008216508654, 'mcc': 0.5073548923142212, 'train_loss': 0.20955145025763336}\n",
      "Epoch 5/20\n"
     ]
    },
    {
     "name": "stderr",
     "output_type": "stream",
     "text": [
      "100%|██████████| 745/745 [01:04<00:00, 11.52it/s]\n"
     ]
    },
    {
     "name": "stdout",
     "output_type": "stream",
     "text": [
      "{'val_loss': 1.8262124094294339, 'val_accuracy': 0.6478658536585366, 'precision': 0.624637095107341, 'recall': 0.6478658536585366, 'f1-score': 0.6274221203887047, 'macro_f1-score': 0.40882785117281584, 'balanced_accuracy': 0.404140638753361, 'mcc': 0.5245553785914423, 'train_loss': 0.15139120794182656}\n",
      "Epoch 6/20\n"
     ]
    },
    {
     "name": "stderr",
     "output_type": "stream",
     "text": [
      "100%|██████████| 745/745 [01:04<00:00, 11.53it/s]\n"
     ]
    },
    {
     "name": "stdout",
     "output_type": "stream",
     "text": [
      "{'val_loss': 1.865264372491255, 'val_accuracy': 0.6402439024390244, 'precision': 0.6244331341516208, 'recall': 0.6402439024390244, 'f1-score': 0.6200536036793631, 'macro_f1-score': 0.4158923992800035, 'balanced_accuracy': 0.41996164400909164, 'mcc': 0.5144921233276811, 'train_loss': 0.09739395932844472}\n",
      "Epoch 7/20\n"
     ]
    },
    {
     "name": "stderr",
     "output_type": "stream",
     "text": [
      "100%|██████████| 745/745 [01:04<00:00, 11.55it/s]\n"
     ]
    },
    {
     "name": "stdout",
     "output_type": "stream",
     "text": [
      "{'val_loss': 2.0345799839351235, 'val_accuracy': 0.6379573170731707, 'precision': 0.6418461353517462, 'recall': 0.6379573170731707, 'f1-score': 0.6310851285228438, 'macro_f1-score': 0.4646174173105985, 'balanced_accuracy': 0.4731302691914731, 'mcc': 0.5184260882977666, 'train_loss': 0.10509194122008579}\n",
      "Epoch 8/20\n"
     ]
    },
    {
     "name": "stderr",
     "output_type": "stream",
     "text": [
      "100%|██████████| 745/745 [01:04<00:00, 11.54it/s]\n"
     ]
    },
    {
     "name": "stdout",
     "output_type": "stream",
     "text": [
      "{'val_loss': 2.0833592582039717, 'val_accuracy': 0.631859756097561, 'precision': 0.6358322020375444, 'recall': 0.631859756097561, 'f1-score': 0.6234336749470283, 'macro_f1-score': 0.42463003554201967, 'balanced_accuracy': 0.4462548216234379, 'mcc': 0.5136004473064231, 'train_loss': 0.08788861179280551}\n",
      "Epoch 9/20\n"
     ]
    },
    {
     "name": "stderr",
     "output_type": "stream",
     "text": [
      "100%|██████████| 745/745 [01:04<00:00, 11.54it/s]\n"
     ]
    },
    {
     "name": "stdout",
     "output_type": "stream",
     "text": [
      "{'val_loss': 2.0029117885704446, 'val_accuracy': 0.6432926829268293, 'precision': 0.640644692315212, 'recall': 0.6432926829268293, 'f1-score': 0.6313375410297131, 'macro_f1-score': 0.4170308402389975, 'balanced_accuracy': 0.4131930506287815, 'mcc': 0.5254281480220836, 'train_loss': 0.083772290648655}\n",
      "Epoch 10/20\n"
     ]
    },
    {
     "name": "stderr",
     "output_type": "stream",
     "text": [
      "100%|██████████| 745/745 [01:04<00:00, 11.56it/s]\n"
     ]
    },
    {
     "name": "stdout",
     "output_type": "stream",
     "text": [
      "{'val_loss': 2.296097681653209, 'val_accuracy': 0.6539634146341463, 'precision': 0.6307416939041242, 'recall': 0.6539634146341463, 'f1-score': 0.6266594078870235, 'macro_f1-score': 0.4114587706314083, 'balanced_accuracy': 0.4155114494400029, 'mcc': 0.5283149031553087, 'train_loss': 0.06898058695451438}\n",
      "Early stopping.\n",
      "\n",
      "[Fold 2]\n",
      "🚀 Using Word2Vec for data augmentation\n",
      "🔧 Augmenting label 1: 22 → 200 (+178)\n",
      "🔧 Augmenting label 2: 64 → 200 (+136)\n",
      "🔧 Augmenting label 3: 24 → 200 (+176)\n",
      "🔧 Augmenting label 4: 190 → 200 (+10)\n",
      "🔧 Augmenting label 5: 113 → 200 (+87)\n",
      "🔧 Augmenting label 6: 93 → 200 (+107)\n",
      "🔧 Augmenting label 7: 30 → 200 (+170)\n",
      "🔧 Augmenting label 8: 68 → 200 (+132)\n",
      "🔧 Augmenting label 9: 30 → 200 (+170)\n",
      "🔧 Augmenting label 10: 67 → 200 (+133)\n",
      "🔧 Augmenting label 11: 169 → 200 (+31)\n",
      "🔧 Augmenting label 12: 189 → 200 (+11)\n",
      "🔧 Augmenting label 13: 29 → 200 (+171)\n",
      "🔧 Augmenting label 14: 23 → 200 (+177)\n",
      "🔧 Augmenting label 15: 24 → 200 (+176)\n",
      "🔧 Augmenting label 16: 20 → 200 (+180)\n",
      "🔧 Augmenting label 17: 182 → 200 (+18)\n",
      "🔧 Augmenting label 18: 92 → 200 (+108)\n",
      "🔧 Augmenting label 19: 44 → 200 (+156)\n",
      "🔧 Augmenting label 20: 13 → 200 (+187)\n",
      "🔧 Augmenting label 21: 36 → 200 (+164)\n",
      "🔧 Augmenting label 22: 76 → 200 (+124)\n",
      "🔧 Augmenting label 23: 157 → 200 (+43)\n",
      "🔧 Augmenting label 24: 12 → 200 (+188)\n",
      "🔧 Augmenting label 25: 44 → 200 (+156)\n",
      "🔧 Augmenting label 26: 84 → 200 (+116)\n",
      "🔧 Augmenting label 27: 48 → 200 (+152)\n",
      "🔧 Augmenting label 28: 12 → 200 (+188)\n",
      "🔧 Augmenting label 29: 12 → 200 (+188)\n",
      "🔧 Augmenting label 30: 12 → 200 (+188)\n",
      "🔧 Augmenting label 31: 75 → 200 (+125)\n",
      "🔧 Augmenting label 32: 36 → 200 (+164)\n",
      "🔧 Augmenting label 33: 31 → 200 (+169)\n",
      "🔧 Augmenting label 34: 29 → 200 (+171)\n",
      "🔧 Augmenting label 35: 12 → 200 (+188)\n",
      "🔧 Augmenting label 36: 21 → 200 (+179)\n",
      "🔧 Augmenting label 37: 16 → 200 (+184)\n",
      "🔧 Augmenting label 38: 33 → 200 (+167)\n",
      "🔧 Augmenting label 39: 11 → 200 (+189)\n",
      "🔧 Augmenting label 40: 8 → 200 (+192)\n",
      "🔧 Augmenting label 41: 57 → 200 (+143)\n",
      "🔧 Augmenting label 42: 19 → 200 (+181)\n",
      "🔧 Augmenting label 43: 9 → 200 (+191)\n",
      "🔧 Augmenting label 44: 54 → 200 (+146)\n",
      "🔧 Augmenting label 46: 62 → 200 (+138)\n",
      "🔧 Augmenting label 47: 80 → 200 (+120)\n",
      "Label distribution after resampling:\n",
      "  label 0: 2471\n",
      "  label 1: 200\n",
      "  label 2: 200\n",
      "  label 3: 200\n",
      "  label 4: 200\n",
      "  label 5: 200\n",
      "  label 6: 200\n",
      "  label 7: 200\n",
      "  label 8: 200\n",
      "  label 9: 200\n",
      "  label 10: 200\n",
      "  label 11: 200\n",
      "  label 12: 200\n",
      "  label 13: 200\n",
      "  label 14: 200\n",
      "  label 15: 200\n",
      "  label 16: 200\n",
      "  label 17: 200\n",
      "  label 18: 200\n",
      "  label 19: 200\n",
      "  label 20: 200\n",
      "  label 21: 200\n",
      "  label 22: 200\n",
      "  label 23: 200\n",
      "  label 24: 200\n",
      "  label 25: 200\n",
      "  label 26: 200\n",
      "  label 27: 200\n",
      "  label 28: 200\n",
      "  label 29: 200\n",
      "  label 30: 200\n",
      "  label 31: 200\n",
      "  label 32: 200\n",
      "  label 33: 200\n",
      "  label 34: 200\n",
      "  label 35: 200\n",
      "  label 36: 200\n",
      "  label 37: 200\n",
      "  label 38: 200\n",
      "  label 39: 200\n",
      "  label 40: 200\n",
      "  label 41: 200\n",
      "  label 42: 200\n",
      "  label 43: 200\n",
      "  label 44: 200\n",
      "  label 45: 242\n",
      "  label 46: 200\n",
      "  label 47: 200\n",
      "model is bert-base-uncased cnn\n",
      "Epoch 1/20\n"
     ]
    },
    {
     "name": "stderr",
     "output_type": "stream",
     "text": [
      "100%|██████████| 745/745 [01:04<00:00, 11.54it/s]\n"
     ]
    },
    {
     "name": "stdout",
     "output_type": "stream",
     "text": [
      "{'val_loss': 1.4953098275312564, 'val_accuracy': 0.6056445461479787, 'precision': 0.6455539092408559, 'recall': 0.6056445461479787, 'f1-score': 0.589812678140843, 'macro_f1-score': 0.35260187243855473, 'balanced_accuracy': 0.3958208705999769, 'mcc': 0.4719567409642157, 'train_loss': 2.0854754387932335}\n",
      "Epoch 2/20\n"
     ]
    },
    {
     "name": "stderr",
     "output_type": "stream",
     "text": [
      "100%|██████████| 745/745 [01:04<00:00, 11.57it/s]\n"
     ]
    },
    {
     "name": "stdout",
     "output_type": "stream",
     "text": [
      "{'val_loss': 1.4325755184016578, 'val_accuracy': 0.6422578184591915, 'precision': 0.6274525347507965, 'recall': 0.6422578184591915, 'f1-score': 0.6131813054016427, 'macro_f1-score': 0.37288160730319, 'balanced_accuracy': 0.3597946303097717, 'mcc': 0.5083076708692973, 'train_loss': 0.6789981549918251}\n",
      "Epoch 3/20\n"
     ]
    },
    {
     "name": "stderr",
     "output_type": "stream",
     "text": [
      "100%|██████████| 745/745 [01:04<00:00, 11.58it/s]\n"
     ]
    },
    {
     "name": "stdout",
     "output_type": "stream",
     "text": [
      "{'val_loss': 1.5473021959386222, 'val_accuracy': 0.6369183829138062, 'precision': 0.6512086370157383, 'recall': 0.6369183829138062, 'f1-score': 0.6340654957311491, 'macro_f1-score': 0.3848880345747437, 'balanced_accuracy': 0.403035434278564, 'mcc': 0.5263254333023013, 'train_loss': 0.3137085113624398}\n",
      "Epoch 4/20\n"
     ]
    },
    {
     "name": "stderr",
     "output_type": "stream",
     "text": [
      "100%|██████████| 745/745 [01:04<00:00, 11.52it/s]\n"
     ]
    },
    {
     "name": "stdout",
     "output_type": "stream",
     "text": [
      "{'val_loss': 1.741206283249506, 'val_accuracy': 0.6453089244851259, 'precision': 0.6335578482839, 'recall': 0.6453089244851259, 'f1-score': 0.6204708259926592, 'macro_f1-score': 0.36216368811678107, 'balanced_accuracy': 0.35770088764217567, 'mcc': 0.5169342562646119, 'train_loss': 0.17708211462294696}\n",
      "Epoch 5/20\n"
     ]
    },
    {
     "name": "stderr",
     "output_type": "stream",
     "text": [
      "100%|██████████| 745/745 [01:04<00:00, 11.55it/s]\n"
     ]
    },
    {
     "name": "stdout",
     "output_type": "stream",
     "text": [
      "{'val_loss': 1.7624311716091343, 'val_accuracy': 0.6575133485888635, 'precision': 0.6440854542996892, 'recall': 0.6575133485888635, 'f1-score': 0.6396344671813577, 'macro_f1-score': 0.4077781826304588, 'balanced_accuracy': 0.3961207950613655, 'mcc': 0.5393817942134628, 'train_loss': 0.14886112948317057}\n",
      "Epoch 6/20\n"
     ]
    },
    {
     "name": "stderr",
     "output_type": "stream",
     "text": [
      "100%|██████████| 745/745 [01:04<00:00, 11.52it/s]\n"
     ]
    },
    {
     "name": "stdout",
     "output_type": "stream",
     "text": [
      "{'val_loss': 1.964593347979755, 'val_accuracy': 0.6559877955758963, 'precision': 0.6399396248891718, 'recall': 0.6559877955758963, 'f1-score': 0.6302502444874944, 'macro_f1-score': 0.39611119036387604, 'balanced_accuracy': 0.3875156513471692, 'mcc': 0.5283704122963764, 'train_loss': 0.09160627599199296}\n",
      "Epoch 7/20\n"
     ]
    },
    {
     "name": "stderr",
     "output_type": "stream",
     "text": [
      "100%|██████████| 745/745 [01:04<00:00, 11.56it/s]\n"
     ]
    },
    {
     "name": "stdout",
     "output_type": "stream",
     "text": [
      "{'val_loss': 1.8440532586196574, 'val_accuracy': 0.6399694889397407, 'precision': 0.6497337944015349, 'recall': 0.6399694889397407, 'f1-score': 0.6358110902569865, 'macro_f1-score': 0.4047489912430064, 'balanced_accuracy': 0.4455789242268336, 'mcc': 0.532669446783957, 'train_loss': 0.10013672271212125}\n",
      "Epoch 8/20\n"
     ]
    },
    {
     "name": "stderr",
     "output_type": "stream",
     "text": [
      "100%|██████████| 745/745 [01:04<00:00, 11.57it/s]\n"
     ]
    },
    {
     "name": "stdout",
     "output_type": "stream",
     "text": [
      "{'val_loss': 1.9566915656735258, 'val_accuracy': 0.6521739130434783, 'precision': 0.6366807123335614, 'recall': 0.6521739130434783, 'f1-score': 0.6321538998592585, 'macro_f1-score': 0.3833649376051594, 'balanced_accuracy': 0.3806582509181668, 'mcc': 0.5323610536543649, 'train_loss': 0.08440225942891666}\n",
      "Early stopping.\n",
      "\n",
      "[Fold 3]\n",
      "🚀 Using Word2Vec for data augmentation\n",
      "🔧 Augmenting label 1: 22 → 200 (+178)\n",
      "🔧 Augmenting label 2: 64 → 200 (+136)\n",
      "🔧 Augmenting label 3: 24 → 200 (+176)\n",
      "🔧 Augmenting label 4: 190 → 200 (+10)\n",
      "🔧 Augmenting label 5: 113 → 200 (+87)\n",
      "🔧 Augmenting label 6: 93 → 200 (+107)\n",
      "🔧 Augmenting label 7: 30 → 200 (+170)\n",
      "🔧 Augmenting label 8: 68 → 200 (+132)\n",
      "🔧 Augmenting label 9: 30 → 200 (+170)\n",
      "🔧 Augmenting label 10: 67 → 200 (+133)\n",
      "🔧 Augmenting label 11: 169 → 200 (+31)\n",
      "🔧 Augmenting label 12: 190 → 200 (+10)\n",
      "🔧 Augmenting label 13: 28 → 200 (+172)\n",
      "🔧 Augmenting label 14: 23 → 200 (+177)\n",
      "🔧 Augmenting label 15: 25 → 200 (+175)\n",
      "🔧 Augmenting label 16: 19 → 200 (+181)\n",
      "🔧 Augmenting label 17: 182 → 200 (+18)\n",
      "🔧 Augmenting label 18: 92 → 200 (+108)\n",
      "🔧 Augmenting label 19: 44 → 200 (+156)\n",
      "🔧 Augmenting label 20: 14 → 200 (+186)\n",
      "🔧 Augmenting label 21: 35 → 200 (+165)\n",
      "🔧 Augmenting label 22: 76 → 200 (+124)\n",
      "🔧 Augmenting label 23: 157 → 200 (+43)\n",
      "🔧 Augmenting label 24: 13 → 200 (+187)\n",
      "🔧 Augmenting label 25: 44 → 200 (+156)\n",
      "🔧 Augmenting label 26: 84 → 200 (+116)\n",
      "🔧 Augmenting label 27: 48 → 200 (+152)\n",
      "🔧 Augmenting label 28: 11 → 200 (+189)\n",
      "🔧 Augmenting label 29: 13 → 200 (+187)\n",
      "🔧 Augmenting label 30: 11 → 200 (+189)\n",
      "🔧 Augmenting label 31: 76 → 200 (+124)\n",
      "🔧 Augmenting label 32: 36 → 200 (+164)\n",
      "🔧 Augmenting label 33: 31 → 200 (+169)\n",
      "🔧 Augmenting label 34: 30 → 200 (+170)\n",
      "🔧 Augmenting label 35: 11 → 200 (+189)\n",
      "🔧 Augmenting label 36: 21 → 200 (+179)\n",
      "🔧 Augmenting label 37: 16 → 200 (+184)\n",
      "🔧 Augmenting label 38: 32 → 200 (+168)\n",
      "🔧 Augmenting label 39: 11 → 200 (+189)\n",
      "🔧 Augmenting label 40: 9 → 200 (+191)\n",
      "🔧 Augmenting label 41: 57 → 200 (+143)\n",
      "🔧 Augmenting label 42: 18 → 200 (+182)\n",
      "🔧 Augmenting label 43: 9 → 200 (+191)\n",
      "🔧 Augmenting label 44: 55 → 200 (+145)\n",
      "🔧 Augmenting label 46: 62 → 200 (+138)\n",
      "🔧 Augmenting label 47: 80 → 200 (+120)\n",
      "Label distribution after resampling:\n",
      "  label 0: 2471\n",
      "  label 1: 200\n",
      "  label 2: 200\n",
      "  label 3: 200\n",
      "  label 4: 200\n",
      "  label 5: 200\n",
      "  label 6: 200\n",
      "  label 7: 200\n",
      "  label 8: 200\n",
      "  label 9: 200\n",
      "  label 10: 200\n",
      "  label 11: 200\n",
      "  label 12: 200\n",
      "  label 13: 200\n",
      "  label 14: 200\n",
      "  label 15: 200\n",
      "  label 16: 200\n",
      "  label 17: 200\n",
      "  label 18: 200\n",
      "  label 19: 200\n",
      "  label 20: 200\n",
      "  label 21: 200\n",
      "  label 22: 200\n",
      "  label 23: 200\n",
      "  label 24: 200\n",
      "  label 25: 200\n",
      "  label 26: 200\n",
      "  label 27: 200\n",
      "  label 28: 200\n",
      "  label 29: 200\n",
      "  label 30: 200\n",
      "  label 31: 200\n",
      "  label 32: 200\n",
      "  label 33: 200\n",
      "  label 34: 200\n",
      "  label 35: 200\n",
      "  label 36: 200\n",
      "  label 37: 200\n",
      "  label 38: 200\n",
      "  label 39: 200\n",
      "  label 40: 200\n",
      "  label 41: 200\n",
      "  label 42: 200\n",
      "  label 43: 200\n",
      "  label 44: 200\n",
      "  label 45: 241\n",
      "  label 46: 200\n",
      "  label 47: 200\n",
      "model is bert-base-uncased cnn\n",
      "Epoch 1/20\n"
     ]
    },
    {
     "name": "stderr",
     "output_type": "stream",
     "text": [
      "100%|██████████| 745/745 [01:04<00:00, 11.56it/s]\n"
     ]
    },
    {
     "name": "stdout",
     "output_type": "stream",
     "text": [
      "{'val_loss': 1.562589977572604, 'val_accuracy': 0.5911517925247902, 'precision': 0.573315486957966, 'recall': 0.5911517925247902, 'f1-score': 0.5298889492583827, 'macro_f1-score': 0.2867437992088527, 'balanced_accuracy': 0.2759932308766541, 'mcc': 0.4113587587504638, 'train_loss': 2.213575701665558}\n",
      "Epoch 2/20\n"
     ]
    },
    {
     "name": "stderr",
     "output_type": "stream",
     "text": [
      "100%|██████████| 745/745 [01:04<00:00, 11.54it/s]\n"
     ]
    },
    {
     "name": "stdout",
     "output_type": "stream",
     "text": [
      "{'val_loss': 1.5425318385042794, 'val_accuracy': 0.6262395118230358, 'precision': 0.615239569770166, 'recall': 0.6262395118230358, 'f1-score': 0.5966588628468424, 'macro_f1-score': 0.3555761059915039, 'balanced_accuracy': 0.338242258101684, 'mcc': 0.4851168568643264, 'train_loss': 0.7289828571597202}\n",
      "Epoch 3/20\n"
     ]
    },
    {
     "name": "stderr",
     "output_type": "stream",
     "text": [
      "100%|██████████| 745/745 [01:04<00:00, 11.55it/s]\n"
     ]
    },
    {
     "name": "stdout",
     "output_type": "stream",
     "text": [
      "{'val_loss': 1.5813934071580085, 'val_accuracy': 0.6247139588100686, 'precision': 0.6246125900624189, 'recall': 0.6247139588100686, 'f1-score': 0.6123490969395584, 'macro_f1-score': 0.3959085512308638, 'balanced_accuracy': 0.37701686307333776, 'mcc': 0.5015618446125217, 'train_loss': 0.3324950194786359}\n",
      "Epoch 4/20\n"
     ]
    },
    {
     "name": "stderr",
     "output_type": "stream",
     "text": [
      "100%|██████████| 745/745 [01:04<00:00, 11.55it/s]\n"
     ]
    },
    {
     "name": "stdout",
     "output_type": "stream",
     "text": [
      "{'val_loss': 1.8049601436388203, 'val_accuracy': 0.601067887109077, 'precision': 0.6102732404192989, 'recall': 0.601067887109077, 'f1-score': 0.5865348062061394, 'macro_f1-score': 0.36980328267830637, 'balanced_accuracy': 0.3675804516441657, 'mcc': 0.4621259803664589, 'train_loss': 0.18545182911341623}\n",
      "Epoch 5/20\n"
     ]
    },
    {
     "name": "stderr",
     "output_type": "stream",
     "text": [
      "100%|██████████| 745/745 [01:04<00:00, 11.57it/s]\n"
     ]
    },
    {
     "name": "stdout",
     "output_type": "stream",
     "text": [
      "{'val_loss': 1.8270145616516835, 'val_accuracy': 0.6559877955758963, 'precision': 0.645242519037276, 'recall': 0.6559877955758963, 'f1-score': 0.6407216784487848, 'macro_f1-score': 0.4341745270308938, 'balanced_accuracy': 0.4175935583205752, 'mcc': 0.5354855167638787, 'train_loss': 0.14191446100055372}\n",
      "Epoch 6/20\n"
     ]
    },
    {
     "name": "stderr",
     "output_type": "stream",
     "text": [
      "100%|██████████| 745/745 [01:04<00:00, 11.54it/s]\n"
     ]
    },
    {
     "name": "stdout",
     "output_type": "stream",
     "text": [
      "{'val_loss': 1.9795399123757351, 'val_accuracy': 0.6254767353165522, 'precision': 0.6300791338504655, 'recall': 0.6254767353165522, 'f1-score': 0.6133928238135915, 'macro_f1-score': 0.4089001475807941, 'balanced_accuracy': 0.3914058441287842, 'mcc': 0.4962602603685095, 'train_loss': 0.12671150515643542}\n",
      "Epoch 7/20\n"
     ]
    },
    {
     "name": "stderr",
     "output_type": "stream",
     "text": [
      "100%|██████████| 745/745 [01:04<00:00, 11.55it/s]\n"
     ]
    },
    {
     "name": "stdout",
     "output_type": "stream",
     "text": [
      "{'val_loss': 2.1157271668496653, 'val_accuracy': 0.6514111365369947, 'precision': 0.649982534253577, 'recall': 0.6514111365369947, 'f1-score': 0.6369484329612988, 'macro_f1-score': 0.43047280941232824, 'balanced_accuracy': 0.3941949194343011, 'mcc': 0.5265172784931067, 'train_loss': 0.09941935650285508}\n",
      "Epoch 8/20\n"
     ]
    },
    {
     "name": "stderr",
     "output_type": "stream",
     "text": [
      "100%|██████████| 745/745 [01:04<00:00, 11.53it/s]\n"
     ]
    },
    {
     "name": "stdout",
     "output_type": "stream",
     "text": [
      "{'val_loss': 2.3072697441547927, 'val_accuracy': 0.6453089244851259, 'precision': 0.6231824579928985, 'recall': 0.6453089244851259, 'f1-score': 0.6110188861389614, 'macro_f1-score': 0.3719866567649331, 'balanced_accuracy': 0.3254204522096446, 'mcc': 0.5036458200430889, 'train_loss': 0.0959206731249297}\n",
      "Early stopping.\n",
      "\n",
      "[Fold 4]\n",
      "🚀 Using Word2Vec for data augmentation\n",
      "🔧 Augmenting label 1: 22 → 200 (+178)\n",
      "🔧 Augmenting label 2: 64 → 200 (+136)\n",
      "🔧 Augmenting label 3: 24 → 200 (+176)\n",
      "🔧 Augmenting label 4: 190 → 200 (+10)\n",
      "🔧 Augmenting label 5: 113 → 200 (+87)\n",
      "🔧 Augmenting label 6: 93 → 200 (+107)\n",
      "🔧 Augmenting label 7: 31 → 200 (+169)\n",
      "🔧 Augmenting label 8: 68 → 200 (+132)\n",
      "🔧 Augmenting label 9: 29 → 200 (+171)\n",
      "🔧 Augmenting label 10: 67 → 200 (+133)\n",
      "🔧 Augmenting label 11: 169 → 200 (+31)\n",
      "🔧 Augmenting label 12: 190 → 200 (+10)\n",
      "🔧 Augmenting label 13: 29 → 200 (+171)\n",
      "🔧 Augmenting label 14: 22 → 200 (+178)\n",
      "🔧 Augmenting label 15: 25 → 200 (+175)\n",
      "🔧 Augmenting label 16: 19 → 200 (+181)\n",
      "🔧 Augmenting label 17: 182 → 200 (+18)\n",
      "🔧 Augmenting label 18: 92 → 200 (+108)\n",
      "🔧 Augmenting label 19: 44 → 200 (+156)\n",
      "🔧 Augmenting label 20: 14 → 200 (+186)\n",
      "🔧 Augmenting label 21: 35 → 200 (+165)\n",
      "🔧 Augmenting label 22: 76 → 200 (+124)\n",
      "🔧 Augmenting label 23: 158 → 200 (+42)\n",
      "🔧 Augmenting label 24: 13 → 200 (+187)\n",
      "🔧 Augmenting label 25: 44 → 200 (+156)\n",
      "🔧 Augmenting label 26: 84 → 200 (+116)\n",
      "🔧 Augmenting label 27: 48 → 200 (+152)\n",
      "🔧 Augmenting label 28: 11 → 200 (+189)\n",
      "🔧 Augmenting label 29: 13 → 200 (+187)\n",
      "🔧 Augmenting label 30: 11 → 200 (+189)\n",
      "🔧 Augmenting label 31: 75 → 200 (+125)\n",
      "🔧 Augmenting label 32: 36 → 200 (+164)\n",
      "🔧 Augmenting label 33: 31 → 200 (+169)\n",
      "🔧 Augmenting label 34: 30 → 200 (+170)\n",
      "🔧 Augmenting label 35: 11 → 200 (+189)\n",
      "🔧 Augmenting label 36: 22 → 200 (+178)\n",
      "🔧 Augmenting label 37: 16 → 200 (+184)\n",
      "🔧 Augmenting label 38: 33 → 200 (+167)\n",
      "🔧 Augmenting label 39: 10 → 200 (+190)\n",
      "🔧 Augmenting label 40: 9 → 200 (+191)\n",
      "🔧 Augmenting label 41: 56 → 200 (+144)\n",
      "🔧 Augmenting label 42: 18 → 200 (+182)\n",
      "🔧 Augmenting label 43: 9 → 200 (+191)\n",
      "🔧 Augmenting label 44: 55 → 200 (+145)\n",
      "🔧 Augmenting label 46: 62 → 200 (+138)\n",
      "🔧 Augmenting label 47: 80 → 200 (+120)\n",
      "Label distribution after resampling:\n",
      "  label 0: 2471\n",
      "  label 1: 200\n",
      "  label 2: 200\n",
      "  label 3: 200\n",
      "  label 4: 200\n",
      "  label 5: 200\n",
      "  label 6: 200\n",
      "  label 7: 200\n",
      "  label 8: 200\n",
      "  label 9: 200\n",
      "  label 10: 200\n",
      "  label 11: 200\n",
      "  label 12: 200\n",
      "  label 13: 200\n",
      "  label 14: 200\n",
      "  label 15: 200\n",
      "  label 16: 200\n",
      "  label 17: 200\n",
      "  label 18: 200\n",
      "  label 19: 200\n",
      "  label 20: 200\n",
      "  label 21: 200\n",
      "  label 22: 200\n",
      "  label 23: 200\n",
      "  label 24: 200\n",
      "  label 25: 200\n",
      "  label 26: 200\n",
      "  label 27: 200\n",
      "  label 28: 200\n",
      "  label 29: 200\n",
      "  label 30: 200\n",
      "  label 31: 200\n",
      "  label 32: 200\n",
      "  label 33: 200\n",
      "  label 34: 200\n",
      "  label 35: 200\n",
      "  label 36: 200\n",
      "  label 37: 200\n",
      "  label 38: 200\n",
      "  label 39: 200\n",
      "  label 40: 200\n",
      "  label 41: 200\n",
      "  label 42: 200\n",
      "  label 43: 200\n",
      "  label 44: 200\n",
      "  label 45: 241\n",
      "  label 46: 200\n",
      "  label 47: 200\n",
      "model is bert-base-uncased cnn\n",
      "Epoch 1/20\n"
     ]
    },
    {
     "name": "stderr",
     "output_type": "stream",
     "text": [
      "100%|██████████| 745/745 [01:04<00:00, 11.53it/s]\n"
     ]
    },
    {
     "name": "stdout",
     "output_type": "stream",
     "text": [
      "{'val_loss': 1.4466103326256683, 'val_accuracy': 0.601067887109077, 'precision': 0.5669323647641785, 'recall': 0.601067887109077, 'f1-score': 0.5589798438371372, 'macro_f1-score': 0.32593769062749206, 'balanced_accuracy': 0.3440959296855357, 'mcc': 0.4480455855395022, 'train_loss': 2.1219598934154384}\n",
      "Epoch 2/20\n"
     ]
    },
    {
     "name": "stderr",
     "output_type": "stream",
     "text": [
      "100%|██████████| 745/745 [01:04<00:00, 11.55it/s]\n"
     ]
    },
    {
     "name": "stdout",
     "output_type": "stream",
     "text": [
      "{'val_loss': 1.4521767573385704, 'val_accuracy': 0.6361556064073226, 'precision': 0.6470150052512513, 'recall': 0.6361556064073226, 'f1-score': 0.623787247781112, 'macro_f1-score': 0.41758621333599516, 'balanced_accuracy': 0.44083209874213924, 'mcc': 0.5113796206837345, 'train_loss': 0.714087775939663}\n",
      "Epoch 3/20\n"
     ]
    },
    {
     "name": "stderr",
     "output_type": "stream",
     "text": [
      "100%|██████████| 745/745 [01:04<00:00, 11.57it/s]\n"
     ]
    },
    {
     "name": "stdout",
     "output_type": "stream",
     "text": [
      "{'val_loss': 1.4884229980227424, 'val_accuracy': 0.6369183829138062, 'precision': 0.6493544818555341, 'recall': 0.6369183829138062, 'f1-score': 0.6328042806607518, 'macro_f1-score': 0.40489945041228276, 'balanced_accuracy': 0.40644599975882806, 'mcc': 0.5226721851455463, 'train_loss': 0.3495532798237049}\n",
      "Epoch 4/20\n"
     ]
    },
    {
     "name": "stderr",
     "output_type": "stream",
     "text": [
      "100%|██████████| 745/745 [01:04<00:00, 11.55it/s]\n"
     ]
    },
    {
     "name": "stdout",
     "output_type": "stream",
     "text": [
      "{'val_loss': 1.6719910082657163, 'val_accuracy': 0.6491228070175439, 'precision': 0.6563433854312508, 'recall': 0.6491228070175439, 'f1-score': 0.6371109388354508, 'macro_f1-score': 0.42985756147705195, 'balanced_accuracy': 0.428837609739559, 'mcc': 0.5398281841601745, 'train_loss': 0.20260318069525013}\n",
      "Epoch 5/20\n"
     ]
    },
    {
     "name": "stderr",
     "output_type": "stream",
     "text": [
      "100%|██████████| 745/745 [01:04<00:00, 11.52it/s]\n"
     ]
    },
    {
     "name": "stdout",
     "output_type": "stream",
     "text": [
      "{'val_loss': 1.8176918149721333, 'val_accuracy': 0.6231884057971014, 'precision': 0.6619223696080133, 'recall': 0.6231884057971014, 'f1-score': 0.6255341381145076, 'macro_f1-score': 0.3892096001931107, 'balanced_accuracy': 0.40370588352211384, 'mcc': 0.5187304250074618, 'train_loss': 0.1469660653563954}\n",
      "Epoch 6/20\n"
     ]
    },
    {
     "name": "stderr",
     "output_type": "stream",
     "text": [
      "100%|██████████| 745/745 [01:04<00:00, 11.51it/s]\n"
     ]
    },
    {
     "name": "stdout",
     "output_type": "stream",
     "text": [
      "{'val_loss': 1.9679507719489133, 'val_accuracy': 0.6483600305110603, 'precision': 0.6316800637032162, 'recall': 0.6483600305110603, 'f1-score': 0.624596551594447, 'macro_f1-score': 0.38681592450763214, 'balanced_accuracy': 0.36817548971643244, 'mcc': 0.5199502565208998, 'train_loss': 0.10200894127643649}\n",
      "Epoch 7/20\n"
     ]
    },
    {
     "name": "stderr",
     "output_type": "stream",
     "text": [
      "100%|██████████| 745/745 [01:04<00:00, 11.54it/s]\n"
     ]
    },
    {
     "name": "stdout",
     "output_type": "stream",
     "text": [
      "{'val_loss': 1.8964432122231256, 'val_accuracy': 0.6498855835240275, 'precision': 0.6434723405370438, 'recall': 0.6498855835240275, 'f1-score': 0.63974095292127, 'macro_f1-score': 0.4091251570635627, 'balanced_accuracy': 0.4051525160503746, 'mcc': 0.5350150582066849, 'train_loss': 0.10894372802174607}\n",
      "Early stopping.\n",
      "\n",
      "[Fold 5]\n",
      "🚀 Using Word2Vec for data augmentation\n",
      "🔧 Augmenting label 1: 21 → 200 (+179)\n",
      "🔧 Augmenting label 2: 64 → 200 (+136)\n",
      "🔧 Augmenting label 3: 24 → 200 (+176)\n",
      "🔧 Augmenting label 4: 191 → 200 (+9)\n",
      "🔧 Augmenting label 5: 112 → 200 (+88)\n",
      "🔧 Augmenting label 6: 92 → 200 (+108)\n",
      "🔧 Augmenting label 7: 31 → 200 (+169)\n",
      "🔧 Augmenting label 8: 68 → 200 (+132)\n",
      "🔧 Augmenting label 9: 29 → 200 (+171)\n",
      "🔧 Augmenting label 10: 68 → 200 (+132)\n",
      "🔧 Augmenting label 11: 168 → 200 (+32)\n",
      "🔧 Augmenting label 12: 190 → 200 (+10)\n",
      "🔧 Augmenting label 13: 29 → 200 (+171)\n",
      "🔧 Augmenting label 14: 22 → 200 (+178)\n",
      "🔧 Augmenting label 15: 25 → 200 (+175)\n",
      "🔧 Augmenting label 16: 19 → 200 (+181)\n",
      "🔧 Augmenting label 17: 183 → 200 (+17)\n",
      "🔧 Augmenting label 18: 92 → 200 (+108)\n",
      "🔧 Augmenting label 19: 44 → 200 (+156)\n",
      "🔧 Augmenting label 20: 14 → 200 (+186)\n",
      "🔧 Augmenting label 21: 35 → 200 (+165)\n",
      "🔧 Augmenting label 22: 76 → 200 (+124)\n",
      "🔧 Augmenting label 23: 158 → 200 (+42)\n",
      "🔧 Augmenting label 24: 13 → 200 (+187)\n",
      "🔧 Augmenting label 25: 44 → 200 (+156)\n",
      "🔧 Augmenting label 26: 84 → 200 (+116)\n",
      "🔧 Augmenting label 27: 48 → 200 (+152)\n",
      "🔧 Augmenting label 28: 11 → 200 (+189)\n",
      "🔧 Augmenting label 29: 13 → 200 (+187)\n",
      "🔧 Augmenting label 30: 11 → 200 (+189)\n",
      "🔧 Augmenting label 31: 75 → 200 (+125)\n",
      "🔧 Augmenting label 32: 36 → 200 (+164)\n",
      "🔧 Augmenting label 33: 31 → 200 (+169)\n",
      "🔧 Augmenting label 34: 30 → 200 (+170)\n",
      "🔧 Augmenting label 35: 11 → 200 (+189)\n",
      "🔧 Augmenting label 36: 22 → 200 (+178)\n",
      "🔧 Augmenting label 37: 16 → 200 (+184)\n",
      "🔧 Augmenting label 38: 33 → 200 (+167)\n",
      "🔧 Augmenting label 39: 10 → 200 (+190)\n",
      "🔧 Augmenting label 40: 9 → 200 (+191)\n",
      "🔧 Augmenting label 41: 57 → 200 (+143)\n",
      "🔧 Augmenting label 42: 18 → 200 (+182)\n",
      "🔧 Augmenting label 43: 9 → 200 (+191)\n",
      "🔧 Augmenting label 44: 54 → 200 (+146)\n",
      "🔧 Augmenting label 46: 61 → 200 (+139)\n",
      "🔧 Augmenting label 47: 80 → 200 (+120)\n",
      "Label distribution after resampling:\n",
      "  label 0: 2472\n",
      "  label 1: 200\n",
      "  label 2: 200\n",
      "  label 3: 200\n",
      "  label 4: 200\n",
      "  label 5: 200\n",
      "  label 6: 200\n",
      "  label 7: 200\n",
      "  label 8: 200\n",
      "  label 9: 200\n",
      "  label 10: 200\n",
      "  label 11: 200\n",
      "  label 12: 200\n",
      "  label 13: 200\n",
      "  label 14: 200\n",
      "  label 15: 200\n",
      "  label 16: 200\n",
      "  label 17: 200\n",
      "  label 18: 200\n",
      "  label 19: 200\n",
      "  label 20: 200\n",
      "  label 21: 200\n",
      "  label 22: 200\n",
      "  label 23: 200\n",
      "  label 24: 200\n",
      "  label 25: 200\n",
      "  label 26: 200\n",
      "  label 27: 200\n",
      "  label 28: 200\n",
      "  label 29: 200\n",
      "  label 30: 200\n",
      "  label 31: 200\n",
      "  label 32: 200\n",
      "  label 33: 200\n",
      "  label 34: 200\n",
      "  label 35: 200\n",
      "  label 36: 200\n",
      "  label 37: 200\n",
      "  label 38: 200\n",
      "  label 39: 200\n",
      "  label 40: 200\n",
      "  label 41: 200\n",
      "  label 42: 200\n",
      "  label 43: 200\n",
      "  label 44: 200\n",
      "  label 45: 242\n",
      "  label 46: 200\n",
      "  label 47: 200\n",
      "model is bert-base-uncased cnn\n",
      "Epoch 1/20\n"
     ]
    },
    {
     "name": "stderr",
     "output_type": "stream",
     "text": [
      "100%|██████████| 745/745 [01:04<00:00, 11.54it/s]\n"
     ]
    },
    {
     "name": "stdout",
     "output_type": "stream",
     "text": [
      "{'val_loss': 1.4009522893806783, 'val_accuracy': 0.6231884057971014, 'precision': 0.640496696107861, 'recall': 0.6231884057971014, 'f1-score': 0.5987950921040184, 'macro_f1-score': 0.3773425976286863, 'balanced_accuracy': 0.41922486754676164, 'mcc': 0.4917095765204289, 'train_loss': 2.1208729486737474}\n",
      "Epoch 2/20\n"
     ]
    },
    {
     "name": "stderr",
     "output_type": "stream",
     "text": [
      "100%|██████████| 745/745 [01:04<00:00, 11.53it/s]\n"
     ]
    },
    {
     "name": "stdout",
     "output_type": "stream",
     "text": [
      "{'val_loss': 1.4048754482007608, 'val_accuracy': 0.6506483600305111, 'precision': 0.6602205678805353, 'recall': 0.6506483600305111, 'f1-score': 0.6332905650032459, 'macro_f1-score': 0.41581263254996753, 'balanced_accuracy': 0.4130924742767454, 'mcc': 0.528635400610678, 'train_loss': 0.68689756308426}\n",
      "Epoch 3/20\n"
     ]
    },
    {
     "name": "stderr",
     "output_type": "stream",
     "text": [
      "100%|██████████| 745/745 [01:04<00:00, 11.54it/s]\n"
     ]
    },
    {
     "name": "stdout",
     "output_type": "stream",
     "text": [
      "{'val_loss': 1.4722655308319301, 'val_accuracy': 0.6529366895499619, 'precision': 0.6434281464269774, 'recall': 0.6529366895499619, 'f1-score': 0.6409827101106411, 'macro_f1-score': 0.41814221910529453, 'balanced_accuracy': 0.42288019262693005, 'mcc': 0.5394590331714737, 'train_loss': 0.3171483510517634}\n",
      "Epoch 4/20\n"
     ]
    },
    {
     "name": "stderr",
     "output_type": "stream",
     "text": [
      "100%|██████████| 745/745 [01:04<00:00, 11.50it/s]\n"
     ]
    },
    {
     "name": "stdout",
     "output_type": "stream",
     "text": [
      "{'val_loss': 1.669305129022133, 'val_accuracy': 0.6506483600305111, 'precision': 0.6393474029155524, 'recall': 0.6506483600305111, 'f1-score': 0.6288729231376351, 'macro_f1-score': 0.38872945994698144, 'balanced_accuracy': 0.3815622069819418, 'mcc': 0.5314328386116114, 'train_loss': 0.18909958373980235}\n",
      "Epoch 5/20\n"
     ]
    },
    {
     "name": "stderr",
     "output_type": "stream",
     "text": [
      "100%|██████████| 745/745 [01:04<00:00, 11.54it/s]\n"
     ]
    },
    {
     "name": "stdout",
     "output_type": "stream",
     "text": [
      "{'val_loss': 1.7791563092571934, 'val_accuracy': 0.6590389016018307, 'precision': 0.6476766147967413, 'recall': 0.6590389016018307, 'f1-score': 0.6375387556963105, 'macro_f1-score': 0.415521755574042, 'balanced_accuracy': 0.3855777050475349, 'mcc': 0.5375215565984807, 'train_loss': 0.14420498884626784}\n",
      "Epoch 6/20\n"
     ]
    },
    {
     "name": "stderr",
     "output_type": "stream",
     "text": [
      "100%|██████████| 745/745 [01:04<00:00, 11.57it/s]\n"
     ]
    },
    {
     "name": "stdout",
     "output_type": "stream",
     "text": [
      "{'val_loss': 1.8919517383342837, 'val_accuracy': 0.6613272311212814, 'precision': 0.6376660567804944, 'recall': 0.6613272311212814, 'f1-score': 0.6349321258189902, 'macro_f1-score': 0.3731154234227902, 'balanced_accuracy': 0.34759822479999697, 'mcc': 0.5381998815868116, 'train_loss': 0.1000357028643832}\n",
      "Early stopping.\n",
      "\n",
      " === bert-base-uncased + cnn + word2vec Final 5-fold Cross-Validation Results ===\n",
      "val_loss: 1.7537\n",
      "val_accuracy: 0.6507\n",
      "precision: 0.6462\n",
      "recall: 0.6507\n",
      "f1-score: 0.6379\n",
      "macro_f1-score: 0.4309\n",
      "balanced_accuracy: 0.4277\n",
      "mcc: 0.5345\n",
      "train_loss: 0.1831\n",
      "total_seconds: 2708.0000\n",
      "total_time: 0 hrs 45 mins 8 secs\n",
      "▶ Running: bert-base-uncased + lstm + word2vec\n",
      "tokenizer is bert-base-uncased\n",
      "Using device: cuda\n",
      "CUDA Available: True\n",
      "CUDA Device: NVIDIA GeForce RTX 5070 Ti\n",
      "Current GPU Memory Allocated: 0.02 GB\n",
      "Current GPU Memory Cached: 3.16 GB\n",
      "\n",
      "[Fold 1]\n",
      "🚀 Using Word2Vec for data augmentation\n",
      "🔧 Augmenting label 1: 21 → 200 (+179)\n",
      "🔧 Augmenting label 2: 64 → 200 (+136)\n",
      "🔧 Augmenting label 3: 24 → 200 (+176)\n",
      "🔧 Augmenting label 4: 191 → 200 (+9)\n",
      "🔧 Augmenting label 5: 113 → 200 (+87)\n",
      "🔧 Augmenting label 6: 93 → 200 (+107)\n",
      "🔧 Augmenting label 7: 30 → 200 (+170)\n",
      "🔧 Augmenting label 8: 68 → 200 (+132)\n",
      "🔧 Augmenting label 9: 30 → 200 (+170)\n",
      "🔧 Augmenting label 10: 67 → 200 (+133)\n",
      "🔧 Augmenting label 11: 169 → 200 (+31)\n",
      "🔧 Augmenting label 12: 189 → 200 (+11)\n",
      "🔧 Augmenting label 13: 29 → 200 (+171)\n",
      "🔧 Augmenting label 14: 22 → 200 (+178)\n",
      "🔧 Augmenting label 15: 25 → 200 (+175)\n",
      "🔧 Augmenting label 16: 19 → 200 (+181)\n",
      "🔧 Augmenting label 17: 183 → 200 (+17)\n",
      "🔧 Augmenting label 18: 92 → 200 (+108)\n",
      "🔧 Augmenting label 19: 44 → 200 (+156)\n",
      "🔧 Augmenting label 20: 13 → 200 (+187)\n",
      "🔧 Augmenting label 21: 35 → 200 (+165)\n",
      "🔧 Augmenting label 22: 76 → 200 (+124)\n",
      "🔧 Augmenting label 23: 158 → 200 (+42)\n",
      "🔧 Augmenting label 24: 13 → 200 (+187)\n",
      "🔧 Augmenting label 25: 44 → 200 (+156)\n",
      "🔧 Augmenting label 26: 84 → 200 (+116)\n",
      "🔧 Augmenting label 27: 48 → 200 (+152)\n",
      "🔧 Augmenting label 28: 11 → 200 (+189)\n",
      "🔧 Augmenting label 29: 13 → 200 (+187)\n",
      "🔧 Augmenting label 30: 11 → 200 (+189)\n",
      "🔧 Augmenting label 31: 75 → 200 (+125)\n",
      "🔧 Augmenting label 32: 36 → 200 (+164)\n",
      "🔧 Augmenting label 33: 32 → 200 (+168)\n",
      "🔧 Augmenting label 34: 29 → 200 (+171)\n",
      "🔧 Augmenting label 35: 11 → 200 (+189)\n",
      "🔧 Augmenting label 36: 22 → 200 (+178)\n",
      "🔧 Augmenting label 37: 16 → 200 (+184)\n",
      "🔧 Augmenting label 38: 33 → 200 (+167)\n",
      "🔧 Augmenting label 39: 10 → 200 (+190)\n",
      "🔧 Augmenting label 40: 9 → 200 (+191)\n",
      "🔧 Augmenting label 41: 57 → 200 (+143)\n",
      "🔧 Augmenting label 42: 19 → 200 (+181)\n",
      "🔧 Augmenting label 43: 8 → 200 (+192)\n",
      "🔧 Augmenting label 44: 54 → 200 (+146)\n",
      "🔧 Augmenting label 46: 61 → 200 (+139)\n",
      "🔧 Augmenting label 47: 80 → 200 (+120)\n",
      "Label distribution after resampling:\n",
      "  label 0: 2471\n",
      "  label 1: 200\n",
      "  label 2: 200\n",
      "  label 3: 200\n",
      "  label 4: 200\n",
      "  label 5: 200\n",
      "  label 6: 200\n",
      "  label 7: 200\n",
      "  label 8: 200\n",
      "  label 9: 200\n",
      "  label 10: 200\n",
      "  label 11: 200\n",
      "  label 12: 200\n",
      "  label 13: 200\n",
      "  label 14: 200\n",
      "  label 15: 200\n",
      "  label 16: 200\n",
      "  label 17: 200\n",
      "  label 18: 200\n",
      "  label 19: 200\n",
      "  label 20: 200\n",
      "  label 21: 200\n",
      "  label 22: 200\n",
      "  label 23: 200\n",
      "  label 24: 200\n",
      "  label 25: 200\n",
      "  label 26: 200\n",
      "  label 27: 200\n",
      "  label 28: 200\n",
      "  label 29: 200\n",
      "  label 30: 200\n",
      "  label 31: 200\n",
      "  label 32: 200\n",
      "  label 33: 200\n",
      "  label 34: 200\n",
      "  label 35: 200\n",
      "  label 36: 200\n",
      "  label 37: 200\n",
      "  label 38: 200\n",
      "  label 39: 200\n",
      "  label 40: 200\n",
      "  label 41: 200\n",
      "  label 42: 200\n",
      "  label 43: 200\n",
      "  label 44: 200\n",
      "  label 45: 242\n",
      "  label 46: 200\n",
      "  label 47: 200\n",
      "model is bert-base-uncased lstm\n",
      "Epoch 1/20\n"
     ]
    },
    {
     "name": "stderr",
     "output_type": "stream",
     "text": [
      "100%|██████████| 745/745 [01:09<00:00, 10.75it/s]\n"
     ]
    },
    {
     "name": "stdout",
     "output_type": "stream",
     "text": [
      "{'val_loss': 1.8332093190856096, 'val_accuracy': 0.5373475609756098, 'precision': 0.5366855387515183, 'recall': 0.5373475609756098, 'f1-score': 0.5073621123386995, 'macro_f1-score': 0.294751473756599, 'balanced_accuracy': 0.353785316233125, 'mcc': 0.37658242195187014, 'train_loss': 2.421036334005778}\n",
      "Epoch 2/20\n"
     ]
    },
    {
     "name": "stderr",
     "output_type": "stream",
     "text": [
      "100%|██████████| 745/745 [01:09<00:00, 10.75it/s]\n"
     ]
    },
    {
     "name": "stdout",
     "output_type": "stream",
     "text": [
      "{'val_loss': 1.5956206503437786, 'val_accuracy': 0.5945121951219512, 'precision': 0.6085128721925673, 'recall': 0.5945121951219512, 'f1-score': 0.5810423716369352, 'macro_f1-score': 0.36921264987680424, 'balanced_accuracy': 0.3981948239025073, 'mcc': 0.45816814742445033, 'train_loss': 1.1431782555260115}\n",
      "Epoch 3/20\n"
     ]
    },
    {
     "name": "stderr",
     "output_type": "stream",
     "text": [
      "100%|██████████| 745/745 [01:09<00:00, 10.73it/s]\n"
     ]
    },
    {
     "name": "stdout",
     "output_type": "stream",
     "text": [
      "{'val_loss': 1.6167240070133675, 'val_accuracy': 0.6105182926829268, 'precision': 0.618952197361104, 'recall': 0.6105182926829268, 'f1-score': 0.6019957952301577, 'macro_f1-score': 0.3726784243453616, 'balanced_accuracy': 0.3782339538096717, 'mcc': 0.479332772278497, 'train_loss': 0.6843348140084503}\n",
      "Epoch 4/20\n"
     ]
    },
    {
     "name": "stderr",
     "output_type": "stream",
     "text": [
      "100%|██████████| 745/745 [01:09<00:00, 10.78it/s]\n"
     ]
    },
    {
     "name": "stdout",
     "output_type": "stream",
     "text": [
      "{'val_loss': 1.635786755419359, 'val_accuracy': 0.631859756097561, 'precision': 0.6323567823754543, 'recall': 0.631859756097561, 'f1-score': 0.6225561289331573, 'macro_f1-score': 0.39462893205526245, 'balanced_accuracy': 0.38644711930671516, 'mcc': 0.5046553600441358, 'train_loss': 0.45265199653554283}\n",
      "Epoch 5/20\n"
     ]
    },
    {
     "name": "stderr",
     "output_type": "stream",
     "text": [
      "100%|██████████| 745/745 [01:09<00:00, 10.77it/s]\n"
     ]
    },
    {
     "name": "stdout",
     "output_type": "stream",
     "text": [
      "{'val_loss': 1.7497650784690206, 'val_accuracy': 0.5899390243902439, 'precision': 0.6285215650376625, 'recall': 0.5899390243902439, 'f1-score': 0.6017460379873238, 'macro_f1-score': 0.4139939311279861, 'balanced_accuracy': 0.44347708232788813, 'mcc': 0.48470505758063476, 'train_loss': 0.3351196613112752}\n",
      "Epoch 6/20\n"
     ]
    },
    {
     "name": "stderr",
     "output_type": "stream",
     "text": [
      "100%|██████████| 745/745 [01:09<00:00, 10.75it/s]\n"
     ]
    },
    {
     "name": "stdout",
     "output_type": "stream",
     "text": [
      "{'val_loss': 1.7848379175837448, 'val_accuracy': 0.6333841463414634, 'precision': 0.6131371817238702, 'recall': 0.6333841463414634, 'f1-score': 0.6020103846637198, 'macro_f1-score': 0.3806225774355479, 'balanced_accuracy': 0.36309942186351263, 'mcc': 0.49296857342902145, 'train_loss': 0.2698491097071627}\n",
      "Epoch 7/20\n"
     ]
    },
    {
     "name": "stderr",
     "output_type": "stream",
     "text": [
      "100%|██████████| 745/745 [01:09<00:00, 10.73it/s]\n"
     ]
    },
    {
     "name": "stdout",
     "output_type": "stream",
     "text": [
      "{'val_loss': 1.7670566832146994, 'val_accuracy': 0.6371951219512195, 'precision': 0.6292936972323883, 'recall': 0.6371951219512195, 'f1-score': 0.6239970485392534, 'macro_f1-score': 0.41217772702428207, 'balanced_accuracy': 0.38797533440527165, 'mcc': 0.5124066739702817, 'train_loss': 0.2143070783241083}\n",
      "Epoch 8/20\n"
     ]
    },
    {
     "name": "stderr",
     "output_type": "stream",
     "text": [
      "100%|██████████| 745/745 [01:09<00:00, 10.74it/s]\n"
     ]
    },
    {
     "name": "stdout",
     "output_type": "stream",
     "text": [
      "{'val_loss': 1.88026847708516, 'val_accuracy': 0.635670731707317, 'precision': 0.6302200411116463, 'recall': 0.635670731707317, 'f1-score': 0.6185360649176552, 'macro_f1-score': 0.42685052746202573, 'balanced_accuracy': 0.41646989192579403, 'mcc': 0.5082464555630322, 'train_loss': 0.16122434498029667}\n",
      "Epoch 9/20\n"
     ]
    },
    {
     "name": "stderr",
     "output_type": "stream",
     "text": [
      "100%|██████████| 745/745 [01:09<00:00, 10.78it/s]\n"
     ]
    },
    {
     "name": "stdout",
     "output_type": "stream",
     "text": [
      "{'val_loss': 1.964875549986595, 'val_accuracy': 0.645579268292683, 'precision': 0.6382923412984324, 'recall': 0.645579268292683, 'f1-score': 0.624691987267712, 'macro_f1-score': 0.39581930050270414, 'balanced_accuracy': 0.38012052157915494, 'mcc': 0.5185459552402372, 'train_loss': 0.13740529893903725}\n",
      "Epoch 10/20\n"
     ]
    },
    {
     "name": "stderr",
     "output_type": "stream",
     "text": [
      "100%|██████████| 745/745 [01:09<00:00, 10.79it/s]\n"
     ]
    },
    {
     "name": "stdout",
     "output_type": "stream",
     "text": [
      "{'val_loss': 1.9197126699656974, 'val_accuracy': 0.6272865853658537, 'precision': 0.6275367921898967, 'recall': 0.6272865853658537, 'f1-score': 0.6173694066249956, 'macro_f1-score': 0.43177661041613824, 'balanced_accuracy': 0.4397348162187364, 'mcc': 0.5065025083571263, 'train_loss': 0.138392123016185}\n",
      "Epoch 11/20\n"
     ]
    },
    {
     "name": "stderr",
     "output_type": "stream",
     "text": [
      "100%|██████████| 745/745 [01:09<00:00, 10.77it/s]\n"
     ]
    },
    {
     "name": "stdout",
     "output_type": "stream",
     "text": [
      "{'val_loss': 1.9932567469957398, 'val_accuracy': 0.6204268292682927, 'precision': 0.6250559259886136, 'recall': 0.6204268292682927, 'f1-score': 0.6091723834217668, 'macro_f1-score': 0.3963869076589713, 'balanced_accuracy': 0.38132828719091866, 'mcc': 0.48951938853195087, 'train_loss': 0.134257892716751}\n",
      "Epoch 12/20\n"
     ]
    },
    {
     "name": "stderr",
     "output_type": "stream",
     "text": [
      "100%|██████████| 745/745 [01:09<00:00, 10.74it/s]\n"
     ]
    },
    {
     "name": "stdout",
     "output_type": "stream",
     "text": [
      "{'val_loss': 1.9756444386411003, 'val_accuracy': 0.6387195121951219, 'precision': 0.632340193538199, 'recall': 0.6387195121951219, 'f1-score': 0.6289060609969246, 'macro_f1-score': 0.42002388148103914, 'balanced_accuracy': 0.4223917202876935, 'mcc': 0.5243519924200307, 'train_loss': 0.10696805160642671}\n",
      "Epoch 13/20\n"
     ]
    },
    {
     "name": "stderr",
     "output_type": "stream",
     "text": [
      "100%|██████████| 745/745 [01:09<00:00, 10.73it/s]\n"
     ]
    },
    {
     "name": "stdout",
     "output_type": "stream",
     "text": [
      "{'val_loss': 2.1552479839088714, 'val_accuracy': 0.6432926829268293, 'precision': 0.6320249507375781, 'recall': 0.6432926829268293, 'f1-score': 0.6163303322868148, 'macro_f1-score': 0.4015396225977177, 'balanced_accuracy': 0.3671770330092127, 'mcc': 0.5040847566027228, 'train_loss': 0.09944262985552617}\n",
      "Early stopping.\n",
      "\n",
      "[Fold 2]\n",
      "🚀 Using Word2Vec for data augmentation\n",
      "🔧 Augmenting label 1: 22 → 200 (+178)\n",
      "🔧 Augmenting label 2: 64 → 200 (+136)\n",
      "🔧 Augmenting label 3: 24 → 200 (+176)\n",
      "🔧 Augmenting label 4: 190 → 200 (+10)\n",
      "🔧 Augmenting label 5: 113 → 200 (+87)\n",
      "🔧 Augmenting label 6: 93 → 200 (+107)\n",
      "🔧 Augmenting label 7: 30 → 200 (+170)\n",
      "🔧 Augmenting label 8: 68 → 200 (+132)\n",
      "🔧 Augmenting label 9: 30 → 200 (+170)\n",
      "🔧 Augmenting label 10: 67 → 200 (+133)\n",
      "🔧 Augmenting label 11: 169 → 200 (+31)\n",
      "🔧 Augmenting label 12: 189 → 200 (+11)\n",
      "🔧 Augmenting label 13: 29 → 200 (+171)\n",
      "🔧 Augmenting label 14: 23 → 200 (+177)\n",
      "🔧 Augmenting label 15: 24 → 200 (+176)\n",
      "🔧 Augmenting label 16: 20 → 200 (+180)\n",
      "🔧 Augmenting label 17: 182 → 200 (+18)\n",
      "🔧 Augmenting label 18: 92 → 200 (+108)\n",
      "🔧 Augmenting label 19: 44 → 200 (+156)\n",
      "🔧 Augmenting label 20: 13 → 200 (+187)\n",
      "🔧 Augmenting label 21: 36 → 200 (+164)\n",
      "🔧 Augmenting label 22: 76 → 200 (+124)\n",
      "🔧 Augmenting label 23: 157 → 200 (+43)\n",
      "🔧 Augmenting label 24: 12 → 200 (+188)\n",
      "🔧 Augmenting label 25: 44 → 200 (+156)\n",
      "🔧 Augmenting label 26: 84 → 200 (+116)\n",
      "🔧 Augmenting label 27: 48 → 200 (+152)\n",
      "🔧 Augmenting label 28: 12 → 200 (+188)\n",
      "🔧 Augmenting label 29: 12 → 200 (+188)\n",
      "🔧 Augmenting label 30: 12 → 200 (+188)\n",
      "🔧 Augmenting label 31: 75 → 200 (+125)\n",
      "🔧 Augmenting label 32: 36 → 200 (+164)\n",
      "🔧 Augmenting label 33: 31 → 200 (+169)\n",
      "🔧 Augmenting label 34: 29 → 200 (+171)\n",
      "🔧 Augmenting label 35: 12 → 200 (+188)\n",
      "🔧 Augmenting label 36: 21 → 200 (+179)\n",
      "🔧 Augmenting label 37: 16 → 200 (+184)\n",
      "🔧 Augmenting label 38: 33 → 200 (+167)\n",
      "🔧 Augmenting label 39: 11 → 200 (+189)\n",
      "🔧 Augmenting label 40: 8 → 200 (+192)\n",
      "🔧 Augmenting label 41: 57 → 200 (+143)\n",
      "🔧 Augmenting label 42: 19 → 200 (+181)\n",
      "🔧 Augmenting label 43: 9 → 200 (+191)\n",
      "🔧 Augmenting label 44: 54 → 200 (+146)\n",
      "🔧 Augmenting label 46: 62 → 200 (+138)\n",
      "🔧 Augmenting label 47: 80 → 200 (+120)\n",
      "Label distribution after resampling:\n",
      "  label 0: 2471\n",
      "  label 1: 200\n",
      "  label 2: 200\n",
      "  label 3: 200\n",
      "  label 4: 200\n",
      "  label 5: 200\n",
      "  label 6: 200\n",
      "  label 7: 200\n",
      "  label 8: 200\n",
      "  label 9: 200\n",
      "  label 10: 200\n",
      "  label 11: 200\n",
      "  label 12: 200\n",
      "  label 13: 200\n",
      "  label 14: 200\n",
      "  label 15: 200\n",
      "  label 16: 200\n",
      "  label 17: 200\n",
      "  label 18: 200\n",
      "  label 19: 200\n",
      "  label 20: 200\n",
      "  label 21: 200\n",
      "  label 22: 200\n",
      "  label 23: 200\n",
      "  label 24: 200\n",
      "  label 25: 200\n",
      "  label 26: 200\n",
      "  label 27: 200\n",
      "  label 28: 200\n",
      "  label 29: 200\n",
      "  label 30: 200\n",
      "  label 31: 200\n",
      "  label 32: 200\n",
      "  label 33: 200\n",
      "  label 34: 200\n",
      "  label 35: 200\n",
      "  label 36: 200\n",
      "  label 37: 200\n",
      "  label 38: 200\n",
      "  label 39: 200\n",
      "  label 40: 200\n",
      "  label 41: 200\n",
      "  label 42: 200\n",
      "  label 43: 200\n",
      "  label 44: 200\n",
      "  label 45: 242\n",
      "  label 46: 200\n",
      "  label 47: 200\n",
      "model is bert-base-uncased lstm\n",
      "Epoch 1/20\n"
     ]
    },
    {
     "name": "stderr",
     "output_type": "stream",
     "text": [
      "100%|██████████| 745/745 [01:09<00:00, 10.74it/s]\n"
     ]
    },
    {
     "name": "stdout",
     "output_type": "stream",
     "text": [
      "{'val_loss': 1.7261755524612055, 'val_accuracy': 0.5614035087719298, 'precision': 0.5407830424779956, 'recall': 0.5614035087719298, 'f1-score': 0.5159422629159351, 'macro_f1-score': 0.28614847962610274, 'balanced_accuracy': 0.37538005010268427, 'mcc': 0.40088609368379635, 'train_loss': 2.4576899906132845}\n",
      "Epoch 2/20\n"
     ]
    },
    {
     "name": "stderr",
     "output_type": "stream",
     "text": [
      "100%|██████████| 745/745 [01:08<00:00, 10.80it/s]\n"
     ]
    },
    {
     "name": "stdout",
     "output_type": "stream",
     "text": [
      "{'val_loss': 1.5517762626816587, 'val_accuracy': 0.6147978642257819, 'precision': 0.6175269315704814, 'recall': 0.6147978642257819, 'f1-score': 0.5904274666991105, 'macro_f1-score': 0.33926640619350207, 'balanced_accuracy': 0.378989550379141, 'mcc': 0.4810276653611641, 'train_loss': 1.2442967706878714}\n",
      "Epoch 3/20\n"
     ]
    },
    {
     "name": "stderr",
     "output_type": "stream",
     "text": [
      "100%|██████████| 745/745 [01:09<00:00, 10.77it/s]\n"
     ]
    },
    {
     "name": "stdout",
     "output_type": "stream",
     "text": [
      "{'val_loss': 1.5083720604094064, 'val_accuracy': 0.6292906178489702, 'precision': 0.6068869893223434, 'recall': 0.6292906178489702, 'f1-score': 0.5976462445252186, 'macro_f1-score': 0.37842381630132965, 'balanced_accuracy': 0.39770146133394185, 'mcc': 0.48931632161603994, 'train_loss': 0.776629091399228}\n",
      "Epoch 4/20\n"
     ]
    },
    {
     "name": "stderr",
     "output_type": "stream",
     "text": [
      "100%|██████████| 745/745 [01:09<00:00, 10.75it/s]\n"
     ]
    },
    {
     "name": "stdout",
     "output_type": "stream",
     "text": [
      "{'val_loss': 1.5429894731539051, 'val_accuracy': 0.6323417238749046, 'precision': 0.6235830760751374, 'recall': 0.6323417238749046, 'f1-score': 0.6133299007508834, 'macro_f1-score': 0.3722505336717264, 'balanced_accuracy': 0.38193222058938975, 'mcc': 0.5035592569142001, 'train_loss': 0.523790944377648}\n",
      "Epoch 5/20\n"
     ]
    },
    {
     "name": "stderr",
     "output_type": "stream",
     "text": [
      "100%|██████████| 745/745 [01:09<00:00, 10.76it/s]\n"
     ]
    },
    {
     "name": "stdout",
     "output_type": "stream",
     "text": [
      "{'val_loss': 1.5718714220494758, 'val_accuracy': 0.635392829900839, 'precision': 0.6376248466517198, 'recall': 0.635392829900839, 'f1-score': 0.6261072030493302, 'macro_f1-score': 0.3901197418843682, 'balanced_accuracy': 0.3925315847960206, 'mcc': 0.5134430631289802, 'train_loss': 0.37848334283936746}\n",
      "Epoch 6/20\n"
     ]
    },
    {
     "name": "stderr",
     "output_type": "stream",
     "text": [
      "100%|██████████| 745/745 [01:09<00:00, 10.79it/s]\n"
     ]
    },
    {
     "name": "stdout",
     "output_type": "stream",
     "text": [
      "{'val_loss': 1.658330987866332, 'val_accuracy': 0.6178489702517163, 'precision': 0.611657677451876, 'recall': 0.6178489702517163, 'f1-score': 0.6062378887530379, 'macro_f1-score': 0.34407048513476607, 'balanced_accuracy': 0.35921382127535, 'mcc': 0.4951170261623285, 'train_loss': 0.3246251224221399}\n",
      "Epoch 7/20\n"
     ]
    },
    {
     "name": "stderr",
     "output_type": "stream",
     "text": [
      "100%|██████████| 745/745 [01:09<00:00, 10.77it/s]\n"
     ]
    },
    {
     "name": "stdout",
     "output_type": "stream",
     "text": [
      "{'val_loss': 1.7454362173632878, 'val_accuracy': 0.6376811594202898, 'precision': 0.6079598133923924, 'recall': 0.6376811594202898, 'f1-score': 0.6074559414581404, 'macro_f1-score': 0.33718410539042337, 'balanced_accuracy': 0.3165807080038054, 'mcc': 0.5011195693840473, 'train_loss': 0.21614461148895273}\n",
      "Epoch 8/20\n"
     ]
    },
    {
     "name": "stderr",
     "output_type": "stream",
     "text": [
      "100%|██████████| 745/745 [01:09<00:00, 10.75it/s]\n"
     ]
    },
    {
     "name": "stdout",
     "output_type": "stream",
     "text": [
      "{'val_loss': 1.6914983010146676, 'val_accuracy': 0.6407322654462243, 'precision': 0.6316790305121295, 'recall': 0.6407322654462243, 'f1-score': 0.6242706113526703, 'macro_f1-score': 0.36900166173996335, 'balanced_accuracy': 0.3668045787757528, 'mcc': 0.5173945166216023, 'train_loss': 0.19664575670714546}\n",
      "Early stopping.\n",
      "\n",
      "[Fold 3]\n",
      "🚀 Using Word2Vec for data augmentation\n",
      "🔧 Augmenting label 1: 22 → 200 (+178)\n",
      "🔧 Augmenting label 2: 64 → 200 (+136)\n",
      "🔧 Augmenting label 3: 24 → 200 (+176)\n",
      "🔧 Augmenting label 4: 190 → 200 (+10)\n",
      "🔧 Augmenting label 5: 113 → 200 (+87)\n",
      "🔧 Augmenting label 6: 93 → 200 (+107)\n",
      "🔧 Augmenting label 7: 30 → 200 (+170)\n",
      "🔧 Augmenting label 8: 68 → 200 (+132)\n",
      "🔧 Augmenting label 9: 30 → 200 (+170)\n",
      "🔧 Augmenting label 10: 67 → 200 (+133)\n",
      "🔧 Augmenting label 11: 169 → 200 (+31)\n",
      "🔧 Augmenting label 12: 190 → 200 (+10)\n",
      "🔧 Augmenting label 13: 28 → 200 (+172)\n",
      "🔧 Augmenting label 14: 23 → 200 (+177)\n",
      "🔧 Augmenting label 15: 25 → 200 (+175)\n",
      "🔧 Augmenting label 16: 19 → 200 (+181)\n",
      "🔧 Augmenting label 17: 182 → 200 (+18)\n",
      "🔧 Augmenting label 18: 92 → 200 (+108)\n",
      "🔧 Augmenting label 19: 44 → 200 (+156)\n",
      "🔧 Augmenting label 20: 14 → 200 (+186)\n",
      "🔧 Augmenting label 21: 35 → 200 (+165)\n",
      "🔧 Augmenting label 22: 76 → 200 (+124)\n",
      "🔧 Augmenting label 23: 157 → 200 (+43)\n",
      "🔧 Augmenting label 24: 13 → 200 (+187)\n",
      "🔧 Augmenting label 25: 44 → 200 (+156)\n",
      "🔧 Augmenting label 26: 84 → 200 (+116)\n",
      "🔧 Augmenting label 27: 48 → 200 (+152)\n",
      "🔧 Augmenting label 28: 11 → 200 (+189)\n",
      "🔧 Augmenting label 29: 13 → 200 (+187)\n",
      "🔧 Augmenting label 30: 11 → 200 (+189)\n",
      "🔧 Augmenting label 31: 76 → 200 (+124)\n",
      "🔧 Augmenting label 32: 36 → 200 (+164)\n",
      "🔧 Augmenting label 33: 31 → 200 (+169)\n",
      "🔧 Augmenting label 34: 30 → 200 (+170)\n",
      "🔧 Augmenting label 35: 11 → 200 (+189)\n",
      "🔧 Augmenting label 36: 21 → 200 (+179)\n",
      "🔧 Augmenting label 37: 16 → 200 (+184)\n",
      "🔧 Augmenting label 38: 32 → 200 (+168)\n",
      "🔧 Augmenting label 39: 11 → 200 (+189)\n",
      "🔧 Augmenting label 40: 9 → 200 (+191)\n",
      "🔧 Augmenting label 41: 57 → 200 (+143)\n",
      "🔧 Augmenting label 42: 18 → 200 (+182)\n",
      "🔧 Augmenting label 43: 9 → 200 (+191)\n",
      "🔧 Augmenting label 44: 55 → 200 (+145)\n",
      "🔧 Augmenting label 46: 62 → 200 (+138)\n",
      "🔧 Augmenting label 47: 80 → 200 (+120)\n",
      "Label distribution after resampling:\n",
      "  label 0: 2471\n",
      "  label 1: 200\n",
      "  label 2: 200\n",
      "  label 3: 200\n",
      "  label 4: 200\n",
      "  label 5: 200\n",
      "  label 6: 200\n",
      "  label 7: 200\n",
      "  label 8: 200\n",
      "  label 9: 200\n",
      "  label 10: 200\n",
      "  label 11: 200\n",
      "  label 12: 200\n",
      "  label 13: 200\n",
      "  label 14: 200\n",
      "  label 15: 200\n",
      "  label 16: 200\n",
      "  label 17: 200\n",
      "  label 18: 200\n",
      "  label 19: 200\n",
      "  label 20: 200\n",
      "  label 21: 200\n",
      "  label 22: 200\n",
      "  label 23: 200\n",
      "  label 24: 200\n",
      "  label 25: 200\n",
      "  label 26: 200\n",
      "  label 27: 200\n",
      "  label 28: 200\n",
      "  label 29: 200\n",
      "  label 30: 200\n",
      "  label 31: 200\n",
      "  label 32: 200\n",
      "  label 33: 200\n",
      "  label 34: 200\n",
      "  label 35: 200\n",
      "  label 36: 200\n",
      "  label 37: 200\n",
      "  label 38: 200\n",
      "  label 39: 200\n",
      "  label 40: 200\n",
      "  label 41: 200\n",
      "  label 42: 200\n",
      "  label 43: 200\n",
      "  label 44: 200\n",
      "  label 45: 241\n",
      "  label 46: 200\n",
      "  label 47: 200\n",
      "model is bert-base-uncased lstm\n",
      "Epoch 1/20\n"
     ]
    },
    {
     "name": "stderr",
     "output_type": "stream",
     "text": [
      "100%|██████████| 745/745 [01:09<00:00, 10.73it/s]\n"
     ]
    },
    {
     "name": "stdout",
     "output_type": "stream",
     "text": [
      "{'val_loss': 1.741135504187607, 'val_accuracy': 0.5736079328756675, 'precision': 0.5334730269255001, 'recall': 0.5736079328756675, 'f1-score': 0.5316694615057608, 'macro_f1-score': 0.3200035241878123, 'balanced_accuracy': 0.34294342198020544, 'mcc': 0.40570091114141604, 'train_loss': 2.4268942225699455}\n",
      "Epoch 2/20\n"
     ]
    },
    {
     "name": "stderr",
     "output_type": "stream",
     "text": [
      "100%|██████████| 745/745 [01:09<00:00, 10.77it/s]\n"
     ]
    },
    {
     "name": "stdout",
     "output_type": "stream",
     "text": [
      "{'val_loss': 1.5968159375394262, 'val_accuracy': 0.5804729214340199, 'precision': 0.6016974049144207, 'recall': 0.5804729214340199, 'f1-score': 0.5669459807137585, 'macro_f1-score': 0.3368259440321579, 'balanced_accuracy': 0.3574025395068565, 'mcc': 0.44075018175177016, 'train_loss': 1.1788369497596818}\n",
      "Epoch 3/20\n"
     ]
    },
    {
     "name": "stderr",
     "output_type": "stream",
     "text": [
      "100%|██████████| 745/745 [01:09<00:00, 10.79it/s]\n"
     ]
    },
    {
     "name": "stdout",
     "output_type": "stream",
     "text": [
      "{'val_loss': 1.5601871328019514, 'val_accuracy': 0.6155606407322655, 'precision': 0.6069499904440219, 'recall': 0.6155606407322655, 'f1-score': 0.5971142498684169, 'macro_f1-score': 0.3726360478522568, 'balanced_accuracy': 0.3757541480483935, 'mcc': 0.4796196616931189, 'train_loss': 0.7253245539613218}\n",
      "Epoch 4/20\n"
     ]
    },
    {
     "name": "stderr",
     "output_type": "stream",
     "text": [
      "100%|██████████| 745/745 [01:09<00:00, 10.75it/s]\n"
     ]
    },
    {
     "name": "stdout",
     "output_type": "stream",
     "text": [
      "{'val_loss': 1.6355279923939123, 'val_accuracy': 0.6018306636155606, 'precision': 0.6139056775232021, 'recall': 0.6018306636155606, 'f1-score': 0.6000408247374632, 'macro_f1-score': 0.3732084284257861, 'balanced_accuracy': 0.3768102838703162, 'mcc': 0.48171548177482915, 'train_loss': 0.48761870958561065}\n",
      "Epoch 5/20\n"
     ]
    },
    {
     "name": "stderr",
     "output_type": "stream",
     "text": [
      "100%|██████████| 745/745 [01:09<00:00, 10.78it/s]\n"
     ]
    },
    {
     "name": "stdout",
     "output_type": "stream",
     "text": [
      "{'val_loss': 1.6452712523864537, 'val_accuracy': 0.6216628527841342, 'precision': 0.6164524628034572, 'recall': 0.6216628527841342, 'f1-score': 0.6124884119203183, 'macro_f1-score': 0.4037207416383135, 'balanced_accuracy': 0.3864636399837898, 'mcc': 0.49852236851122295, 'train_loss': 0.35314650281063664}\n",
      "Epoch 6/20\n"
     ]
    },
    {
     "name": "stderr",
     "output_type": "stream",
     "text": [
      "100%|██████████| 745/745 [01:09<00:00, 10.76it/s]\n"
     ]
    },
    {
     "name": "stdout",
     "output_type": "stream",
     "text": [
      "{'val_loss': 1.7068401249807055, 'val_accuracy': 0.6231884057971014, 'precision': 0.6239205595793786, 'recall': 0.6231884057971014, 'f1-score': 0.6118880646721195, 'macro_f1-score': 0.38617194449165176, 'balanced_accuracy': 0.37414996839959813, 'mcc': 0.4953256755878508, 'train_loss': 0.2636039726511144}\n",
      "Epoch 7/20\n"
     ]
    },
    {
     "name": "stderr",
     "output_type": "stream",
     "text": [
      "100%|██████████| 745/745 [01:09<00:00, 10.77it/s]\n"
     ]
    },
    {
     "name": "stdout",
     "output_type": "stream",
     "text": [
      "{'val_loss': 1.6685791207341159, 'val_accuracy': 0.6453089244851259, 'precision': 0.6330853087259449, 'recall': 0.6453089244851259, 'f1-score': 0.6292452061932199, 'macro_f1-score': 0.4201857985471256, 'balanced_accuracy': 0.3863838764174122, 'mcc': 0.5200086886891055, 'train_loss': 0.22974122928692992}\n",
      "Epoch 8/20\n"
     ]
    },
    {
     "name": "stderr",
     "output_type": "stream",
     "text": [
      "100%|██████████| 745/745 [01:08<00:00, 10.80it/s]\n"
     ]
    },
    {
     "name": "stdout",
     "output_type": "stream",
     "text": [
      "{'val_loss': 1.889287184651305, 'val_accuracy': 0.6224256292906178, 'precision': 0.6378507031225061, 'recall': 0.6224256292906178, 'f1-score': 0.6200300626479405, 'macro_f1-score': 0.4167157658525545, 'balanced_accuracy': 0.4203057844018409, 'mcc': 0.507920115539098, 'train_loss': 0.17870299764502567}\n",
      "Epoch 9/20\n"
     ]
    },
    {
     "name": "stderr",
     "output_type": "stream",
     "text": [
      "100%|██████████| 745/745 [01:09<00:00, 10.76it/s]\n"
     ]
    },
    {
     "name": "stdout",
     "output_type": "stream",
     "text": [
      "{'val_loss': 1.8011145697134296, 'val_accuracy': 0.6285278413424866, 'precision': 0.620561984726146, 'recall': 0.6285278413424866, 'f1-score': 0.6168694648483475, 'macro_f1-score': 0.3813108061418496, 'balanced_accuracy': 0.36542282977379187, 'mcc': 0.5063027301676267, 'train_loss': 0.1650765896831083}\n",
      "Epoch 10/20\n"
     ]
    },
    {
     "name": "stderr",
     "output_type": "stream",
     "text": [
      "100%|██████████| 745/745 [01:09<00:00, 10.78it/s]\n"
     ]
    },
    {
     "name": "stdout",
     "output_type": "stream",
     "text": [
      "{'val_loss': 1.9351235998839866, 'val_accuracy': 0.6521739130434783, 'precision': 0.6439543290889628, 'recall': 0.6521739130434783, 'f1-score': 0.6334385267701269, 'macro_f1-score': 0.40672993148386843, 'balanced_accuracy': 0.37737983020803095, 'mcc': 0.5291125254017469, 'train_loss': 0.14150555077315177}\n",
      "Early stopping.\n",
      "\n",
      "[Fold 4]\n",
      "🚀 Using Word2Vec for data augmentation\n",
      "🔧 Augmenting label 1: 22 → 200 (+178)\n",
      "🔧 Augmenting label 2: 64 → 200 (+136)\n",
      "🔧 Augmenting label 3: 24 → 200 (+176)\n",
      "🔧 Augmenting label 4: 190 → 200 (+10)\n",
      "🔧 Augmenting label 5: 113 → 200 (+87)\n",
      "🔧 Augmenting label 6: 93 → 200 (+107)\n",
      "🔧 Augmenting label 7: 31 → 200 (+169)\n",
      "🔧 Augmenting label 8: 68 → 200 (+132)\n",
      "🔧 Augmenting label 9: 29 → 200 (+171)\n",
      "🔧 Augmenting label 10: 67 → 200 (+133)\n",
      "🔧 Augmenting label 11: 169 → 200 (+31)\n",
      "🔧 Augmenting label 12: 190 → 200 (+10)\n",
      "🔧 Augmenting label 13: 29 → 200 (+171)\n",
      "🔧 Augmenting label 14: 22 → 200 (+178)\n",
      "🔧 Augmenting label 15: 25 → 200 (+175)\n",
      "🔧 Augmenting label 16: 19 → 200 (+181)\n",
      "🔧 Augmenting label 17: 182 → 200 (+18)\n",
      "🔧 Augmenting label 18: 92 → 200 (+108)\n",
      "🔧 Augmenting label 19: 44 → 200 (+156)\n",
      "🔧 Augmenting label 20: 14 → 200 (+186)\n",
      "🔧 Augmenting label 21: 35 → 200 (+165)\n",
      "🔧 Augmenting label 22: 76 → 200 (+124)\n",
      "🔧 Augmenting label 23: 158 → 200 (+42)\n",
      "🔧 Augmenting label 24: 13 → 200 (+187)\n",
      "🔧 Augmenting label 25: 44 → 200 (+156)\n",
      "🔧 Augmenting label 26: 84 → 200 (+116)\n",
      "🔧 Augmenting label 27: 48 → 200 (+152)\n",
      "🔧 Augmenting label 28: 11 → 200 (+189)\n",
      "🔧 Augmenting label 29: 13 → 200 (+187)\n",
      "🔧 Augmenting label 30: 11 → 200 (+189)\n",
      "🔧 Augmenting label 31: 75 → 200 (+125)\n",
      "🔧 Augmenting label 32: 36 → 200 (+164)\n",
      "🔧 Augmenting label 33: 31 → 200 (+169)\n",
      "🔧 Augmenting label 34: 30 → 200 (+170)\n",
      "🔧 Augmenting label 35: 11 → 200 (+189)\n",
      "🔧 Augmenting label 36: 22 → 200 (+178)\n",
      "🔧 Augmenting label 37: 16 → 200 (+184)\n",
      "🔧 Augmenting label 38: 33 → 200 (+167)\n",
      "🔧 Augmenting label 39: 10 → 200 (+190)\n",
      "🔧 Augmenting label 40: 9 → 200 (+191)\n",
      "🔧 Augmenting label 41: 56 → 200 (+144)\n",
      "🔧 Augmenting label 42: 18 → 200 (+182)\n",
      "🔧 Augmenting label 43: 9 → 200 (+191)\n",
      "🔧 Augmenting label 44: 55 → 200 (+145)\n",
      "🔧 Augmenting label 46: 62 → 200 (+138)\n",
      "🔧 Augmenting label 47: 80 → 200 (+120)\n",
      "Label distribution after resampling:\n",
      "  label 0: 2471\n",
      "  label 1: 200\n",
      "  label 2: 200\n",
      "  label 3: 200\n",
      "  label 4: 200\n",
      "  label 5: 200\n",
      "  label 6: 200\n",
      "  label 7: 200\n",
      "  label 8: 200\n",
      "  label 9: 200\n",
      "  label 10: 200\n",
      "  label 11: 200\n",
      "  label 12: 200\n",
      "  label 13: 200\n",
      "  label 14: 200\n",
      "  label 15: 200\n",
      "  label 16: 200\n",
      "  label 17: 200\n",
      "  label 18: 200\n",
      "  label 19: 200\n",
      "  label 20: 200\n",
      "  label 21: 200\n",
      "  label 22: 200\n",
      "  label 23: 200\n",
      "  label 24: 200\n",
      "  label 25: 200\n",
      "  label 26: 200\n",
      "  label 27: 200\n",
      "  label 28: 200\n",
      "  label 29: 200\n",
      "  label 30: 200\n",
      "  label 31: 200\n",
      "  label 32: 200\n",
      "  label 33: 200\n",
      "  label 34: 200\n",
      "  label 35: 200\n",
      "  label 36: 200\n",
      "  label 37: 200\n",
      "  label 38: 200\n",
      "  label 39: 200\n",
      "  label 40: 200\n",
      "  label 41: 200\n",
      "  label 42: 200\n",
      "  label 43: 200\n",
      "  label 44: 200\n",
      "  label 45: 241\n",
      "  label 46: 200\n",
      "  label 47: 200\n",
      "model is bert-base-uncased lstm\n",
      "Epoch 1/20\n"
     ]
    },
    {
     "name": "stderr",
     "output_type": "stream",
     "text": [
      "100%|██████████| 745/745 [01:09<00:00, 10.77it/s]\n"
     ]
    },
    {
     "name": "stdout",
     "output_type": "stream",
     "text": [
      "{'val_loss': 1.68201487093437, 'val_accuracy': 0.5690312738367659, 'precision': 0.6282157058865404, 'recall': 0.5690312738367659, 'f1-score': 0.547859333315417, 'macro_f1-score': 0.3035366057700668, 'balanced_accuracy': 0.34561639927372134, 'mcc': 0.41710502842800873, 'train_loss': 2.4615011608840636}\n",
      "Epoch 2/20\n"
     ]
    },
    {
     "name": "stderr",
     "output_type": "stream",
     "text": [
      "100%|██████████| 745/745 [01:09<00:00, 10.78it/s]\n"
     ]
    },
    {
     "name": "stdout",
     "output_type": "stream",
     "text": [
      "{'val_loss': 1.5465037550141172, 'val_accuracy': 0.6079328756674295, 'precision': 0.62528726229865, 'recall': 0.6079328756674295, 'f1-score': 0.5974692816267535, 'macro_f1-score': 0.3919554990039194, 'balanced_accuracy': 0.4284794642775422, 'mcc': 0.4753650529596274, 'train_loss': 1.239254844748734}\n",
      "Epoch 3/20\n"
     ]
    },
    {
     "name": "stderr",
     "output_type": "stream",
     "text": [
      "100%|██████████| 745/745 [01:09<00:00, 10.79it/s]\n"
     ]
    },
    {
     "name": "stdout",
     "output_type": "stream",
     "text": [
      "{'val_loss': 1.4565233610025266, 'val_accuracy': 0.6399694889397407, 'precision': 0.6354108160423831, 'recall': 0.6399694889397407, 'f1-score': 0.6178265934061392, 'macro_f1-score': 0.37532212150737115, 'balanced_accuracy': 0.39589081578106233, 'mcc': 0.5110982959836483, 'train_loss': 0.8066073704085894}\n",
      "Epoch 4/20\n"
     ]
    },
    {
     "name": "stderr",
     "output_type": "stream",
     "text": [
      "100%|██████████| 745/745 [01:09<00:00, 10.75it/s]\n"
     ]
    },
    {
     "name": "stdout",
     "output_type": "stream",
     "text": [
      "{'val_loss': 1.4779202923542116, 'val_accuracy': 0.6384439359267735, 'precision': 0.6581106733530884, 'recall': 0.6384439359267735, 'f1-score': 0.6383907622870476, 'macro_f1-score': 0.4009333508391116, 'balanced_accuracy': 0.4229128513990907, 'mcc': 0.533802795606974, 'train_loss': 0.5483960321985635}\n",
      "Epoch 5/20\n"
     ]
    },
    {
     "name": "stderr",
     "output_type": "stream",
     "text": [
      "100%|██████████| 745/745 [01:09<00:00, 10.75it/s]\n"
     ]
    },
    {
     "name": "stdout",
     "output_type": "stream",
     "text": [
      "{'val_loss': 1.5068971649175738, 'val_accuracy': 0.6514111365369947, 'precision': 0.6570529849016543, 'recall': 0.6514111365369947, 'f1-score': 0.644777927442218, 'macro_f1-score': 0.42159678667030637, 'balanced_accuracy': 0.44669816043892396, 'mcc': 0.5375913771404812, 'train_loss': 0.43325664230541094}\n",
      "Epoch 6/20\n"
     ]
    },
    {
     "name": "stderr",
     "output_type": "stream",
     "text": [
      "100%|██████████| 745/745 [01:09<00:00, 10.70it/s]\n"
     ]
    },
    {
     "name": "stdout",
     "output_type": "stream",
     "text": [
      "{'val_loss': 1.5460744004060583, 'val_accuracy': 0.635392829900839, 'precision': 0.650693396291637, 'recall': 0.635392829900839, 'f1-score': 0.6355906131740968, 'macro_f1-score': 0.40529094646709396, 'balanced_accuracy': 0.4271406194046661, 'mcc': 0.5313488394119892, 'train_loss': 0.33488487353760926}\n",
      "Epoch 7/20\n"
     ]
    },
    {
     "name": "stderr",
     "output_type": "stream",
     "text": [
      "100%|██████████| 745/745 [01:09<00:00, 10.79it/s]\n"
     ]
    },
    {
     "name": "stdout",
     "output_type": "stream",
     "text": [
      "{'val_loss': 1.5828587060294501, 'val_accuracy': 0.6514111365369947, 'precision': 0.6763535244566897, 'recall': 0.6514111365369947, 'f1-score': 0.6408583739655314, 'macro_f1-score': 0.40930358113571336, 'balanced_accuracy': 0.418904807018808, 'mcc': 0.5389589897112241, 'train_loss': 0.271244113894817}\n",
      "Epoch 8/20\n"
     ]
    },
    {
     "name": "stderr",
     "output_type": "stream",
     "text": [
      "100%|██████████| 745/745 [01:08<00:00, 10.82it/s]\n"
     ]
    },
    {
     "name": "stdout",
     "output_type": "stream",
     "text": [
      "{'val_loss': 1.6579198048609058, 'val_accuracy': 0.6521739130434783, 'precision': 0.6687612056151638, 'recall': 0.6521739130434783, 'f1-score': 0.6504858192103207, 'macro_f1-score': 0.41901810688661006, 'balanced_accuracy': 0.4262021418430118, 'mcc': 0.5513311313356666, 'train_loss': 0.21397979188485433}\n",
      "Early stopping.\n",
      "\n",
      "[Fold 5]\n",
      "🚀 Using Word2Vec for data augmentation\n",
      "🔧 Augmenting label 1: 21 → 200 (+179)\n",
      "🔧 Augmenting label 2: 64 → 200 (+136)\n",
      "🔧 Augmenting label 3: 24 → 200 (+176)\n",
      "🔧 Augmenting label 4: 191 → 200 (+9)\n",
      "🔧 Augmenting label 5: 112 → 200 (+88)\n",
      "🔧 Augmenting label 6: 92 → 200 (+108)\n",
      "🔧 Augmenting label 7: 31 → 200 (+169)\n",
      "🔧 Augmenting label 8: 68 → 200 (+132)\n",
      "🔧 Augmenting label 9: 29 → 200 (+171)\n",
      "🔧 Augmenting label 10: 68 → 200 (+132)\n",
      "🔧 Augmenting label 11: 168 → 200 (+32)\n",
      "🔧 Augmenting label 12: 190 → 200 (+10)\n",
      "🔧 Augmenting label 13: 29 → 200 (+171)\n",
      "🔧 Augmenting label 14: 22 → 200 (+178)\n",
      "🔧 Augmenting label 15: 25 → 200 (+175)\n",
      "🔧 Augmenting label 16: 19 → 200 (+181)\n",
      "🔧 Augmenting label 17: 183 → 200 (+17)\n",
      "🔧 Augmenting label 18: 92 → 200 (+108)\n",
      "🔧 Augmenting label 19: 44 → 200 (+156)\n",
      "🔧 Augmenting label 20: 14 → 200 (+186)\n",
      "🔧 Augmenting label 21: 35 → 200 (+165)\n",
      "🔧 Augmenting label 22: 76 → 200 (+124)\n",
      "🔧 Augmenting label 23: 158 → 200 (+42)\n",
      "🔧 Augmenting label 24: 13 → 200 (+187)\n",
      "🔧 Augmenting label 25: 44 → 200 (+156)\n",
      "🔧 Augmenting label 26: 84 → 200 (+116)\n",
      "🔧 Augmenting label 27: 48 → 200 (+152)\n",
      "🔧 Augmenting label 28: 11 → 200 (+189)\n",
      "🔧 Augmenting label 29: 13 → 200 (+187)\n",
      "🔧 Augmenting label 30: 11 → 200 (+189)\n",
      "🔧 Augmenting label 31: 75 → 200 (+125)\n",
      "🔧 Augmenting label 32: 36 → 200 (+164)\n",
      "🔧 Augmenting label 33: 31 → 200 (+169)\n",
      "🔧 Augmenting label 34: 30 → 200 (+170)\n",
      "🔧 Augmenting label 35: 11 → 200 (+189)\n",
      "🔧 Augmenting label 36: 22 → 200 (+178)\n",
      "🔧 Augmenting label 37: 16 → 200 (+184)\n",
      "🔧 Augmenting label 38: 33 → 200 (+167)\n",
      "🔧 Augmenting label 39: 10 → 200 (+190)\n",
      "🔧 Augmenting label 40: 9 → 200 (+191)\n",
      "🔧 Augmenting label 41: 57 → 200 (+143)\n",
      "🔧 Augmenting label 42: 18 → 200 (+182)\n",
      "🔧 Augmenting label 43: 9 → 200 (+191)\n",
      "🔧 Augmenting label 44: 54 → 200 (+146)\n",
      "🔧 Augmenting label 46: 61 → 200 (+139)\n",
      "🔧 Augmenting label 47: 80 → 200 (+120)\n",
      "Label distribution after resampling:\n",
      "  label 0: 2472\n",
      "  label 1: 200\n",
      "  label 2: 200\n",
      "  label 3: 200\n",
      "  label 4: 200\n",
      "  label 5: 200\n",
      "  label 6: 200\n",
      "  label 7: 200\n",
      "  label 8: 200\n",
      "  label 9: 200\n",
      "  label 10: 200\n",
      "  label 11: 200\n",
      "  label 12: 200\n",
      "  label 13: 200\n",
      "  label 14: 200\n",
      "  label 15: 200\n",
      "  label 16: 200\n",
      "  label 17: 200\n",
      "  label 18: 200\n",
      "  label 19: 200\n",
      "  label 20: 200\n",
      "  label 21: 200\n",
      "  label 22: 200\n",
      "  label 23: 200\n",
      "  label 24: 200\n",
      "  label 25: 200\n",
      "  label 26: 200\n",
      "  label 27: 200\n",
      "  label 28: 200\n",
      "  label 29: 200\n",
      "  label 30: 200\n",
      "  label 31: 200\n",
      "  label 32: 200\n",
      "  label 33: 200\n",
      "  label 34: 200\n",
      "  label 35: 200\n",
      "  label 36: 200\n",
      "  label 37: 200\n",
      "  label 38: 200\n",
      "  label 39: 200\n",
      "  label 40: 200\n",
      "  label 41: 200\n",
      "  label 42: 200\n",
      "  label 43: 200\n",
      "  label 44: 200\n",
      "  label 45: 242\n",
      "  label 46: 200\n",
      "  label 47: 200\n",
      "model is bert-base-uncased lstm\n",
      "Epoch 1/20\n"
     ]
    },
    {
     "name": "stderr",
     "output_type": "stream",
     "text": [
      "100%|██████████| 745/745 [01:09<00:00, 10.74it/s]\n"
     ]
    },
    {
     "name": "stdout",
     "output_type": "stream",
     "text": [
      "{'val_loss': 1.7426640631222143, 'val_accuracy': 0.5598779557589626, 'precision': 0.5614951473862859, 'recall': 0.5598779557589626, 'f1-score': 0.5212378720012459, 'macro_f1-score': 0.2537937860193562, 'balanced_accuracy': 0.30536664082905257, 'mcc': 0.3923583436649805, 'train_loss': 2.4433860821211897}\n",
      "Epoch 2/20\n"
     ]
    },
    {
     "name": "stderr",
     "output_type": "stream",
     "text": [
      "100%|██████████| 745/745 [01:09<00:00, 10.70it/s]\n"
     ]
    },
    {
     "name": "stdout",
     "output_type": "stream",
     "text": [
      "{'val_loss': 1.552565601540775, 'val_accuracy': 0.6048817696414951, 'precision': 0.6167641784083627, 'recall': 0.6048817696414951, 'f1-score': 0.5889299915516883, 'macro_f1-score': 0.35540019002225653, 'balanced_accuracy': 0.38606871455520336, 'mcc': 0.47071198975098816, 'train_loss': 1.219731473042661}\n",
      "Epoch 3/20\n"
     ]
    },
    {
     "name": "stderr",
     "output_type": "stream",
     "text": [
      "100%|██████████| 745/745 [01:09<00:00, 10.74it/s]\n"
     ]
    },
    {
     "name": "stdout",
     "output_type": "stream",
     "text": [
      "{'val_loss': 1.521233585186121, 'val_accuracy': 0.6285278413424866, 'precision': 0.6085420775974518, 'recall': 0.6285278413424866, 'f1-score': 0.6036251315943154, 'macro_f1-score': 0.40430354570095606, 'balanced_accuracy': 0.41527599968092205, 'mcc': 0.5009373694917595, 'train_loss': 0.7554681263213989}\n",
      "Epoch 4/20\n"
     ]
    },
    {
     "name": "stderr",
     "output_type": "stream",
     "text": [
      "100%|██████████| 745/745 [01:09<00:00, 10.78it/s]\n"
     ]
    },
    {
     "name": "stdout",
     "output_type": "stream",
     "text": [
      "{'val_loss': 1.487315240066226, 'val_accuracy': 0.658276125095347, 'precision': 0.6298340231880926, 'recall': 0.658276125095347, 'f1-score': 0.6304036422269093, 'macro_f1-score': 0.4007846474811542, 'balanced_accuracy': 0.4002748801178318, 'mcc': 0.5325732190243453, 'train_loss': 0.5244029727458154}\n",
      "Epoch 5/20\n"
     ]
    },
    {
     "name": "stderr",
     "output_type": "stream",
     "text": [
      "100%|██████████| 745/745 [01:09<00:00, 10.74it/s]\n"
     ]
    },
    {
     "name": "stdout",
     "output_type": "stream",
     "text": [
      "{'val_loss': 1.492689344941116, 'val_accuracy': 0.6605644546147978, 'precision': 0.6467373300291769, 'recall': 0.6605644546147978, 'f1-score': 0.6443362940413347, 'macro_f1-score': 0.4372290492541931, 'balanced_accuracy': 0.4157331524955346, 'mcc': 0.5436969909089548, 'train_loss': 0.3848189661066804}\n",
      "Epoch 6/20\n"
     ]
    },
    {
     "name": "stderr",
     "output_type": "stream",
     "text": [
      "100%|██████████| 745/745 [01:09<00:00, 10.68it/s]\n"
     ]
    },
    {
     "name": "stdout",
     "output_type": "stream",
     "text": [
      "{'val_loss': 1.574100475485732, 'val_accuracy': 0.6483600305110603, 'precision': 0.6448571709436661, 'recall': 0.6483600305110603, 'f1-score': 0.640737125196944, 'macro_f1-score': 0.4128776493597537, 'balanced_accuracy': 0.39601145304512975, 'mcc': 0.5321512598186804, 'train_loss': 0.32791851032400293}\n",
      "Epoch 7/20\n"
     ]
    },
    {
     "name": "stderr",
     "output_type": "stream",
     "text": [
      "100%|██████████| 745/745 [01:09<00:00, 10.69it/s]\n"
     ]
    },
    {
     "name": "stdout",
     "output_type": "stream",
     "text": [
      "{'val_loss': 1.680889969918786, 'val_accuracy': 0.6094584286803967, 'precision': 0.6399639013450116, 'recall': 0.6094584286803967, 'f1-score': 0.6140894723414752, 'macro_f1-score': 0.4288610808100564, 'balanced_accuracy': 0.4581696215946411, 'mcc': 0.5091601436056504, 'train_loss': 0.27275139971217455}\n",
      "Epoch 8/20\n"
     ]
    },
    {
     "name": "stderr",
     "output_type": "stream",
     "text": [
      "100%|██████████| 745/745 [01:09<00:00, 10.72it/s]\n"
     ]
    },
    {
     "name": "stdout",
     "output_type": "stream",
     "text": [
      "{'val_loss': 1.611198209407853, 'val_accuracy': 0.6491228070175439, 'precision': 0.6614017952603206, 'recall': 0.6491228070175439, 'f1-score': 0.6430470577919352, 'macro_f1-score': 0.4482008140671314, 'balanced_accuracy': 0.4325245341405089, 'mcc': 0.5383248008494979, 'train_loss': 0.22413604684399077}\n",
      "Epoch 9/20\n"
     ]
    },
    {
     "name": "stderr",
     "output_type": "stream",
     "text": [
      "100%|██████████| 745/745 [01:09<00:00, 10.74it/s]\n"
     ]
    },
    {
     "name": "stdout",
     "output_type": "stream",
     "text": [
      "{'val_loss': 1.7133346023719485, 'val_accuracy': 0.6651411136536994, 'precision': 0.641182572053359, 'recall': 0.6651411136536994, 'f1-score': 0.6388600371536096, 'macro_f1-score': 0.45610289192176917, 'balanced_accuracy': 0.42301209600628525, 'mcc': 0.5416345108378394, 'train_loss': 0.18317655295558624}\n",
      "Epoch 10/20\n"
     ]
    },
    {
     "name": "stderr",
     "output_type": "stream",
     "text": [
      "100%|██████████| 745/745 [01:09<00:00, 10.74it/s]\n"
     ]
    },
    {
     "name": "stdout",
     "output_type": "stream",
     "text": [
      "{'val_loss': 1.6802748376276435, 'val_accuracy': 0.6552250190694127, 'precision': 0.6638682632217418, 'recall': 0.6552250190694127, 'f1-score': 0.6449991760805105, 'macro_f1-score': 0.4521390536123004, 'balanced_accuracy': 0.4521109433206974, 'mcc': 0.5442244028165049, 'train_loss': 0.14545629373032776}\n",
      "Epoch 11/20\n"
     ]
    },
    {
     "name": "stderr",
     "output_type": "stream",
     "text": [
      "100%|██████████| 745/745 [01:09<00:00, 10.70it/s]\n"
     ]
    },
    {
     "name": "stdout",
     "output_type": "stream",
     "text": [
      "{'val_loss': 1.7827147790571538, 'val_accuracy': 0.6483600305110603, 'precision': 0.6618843189222661, 'recall': 0.6483600305110603, 'f1-score': 0.6440854139518265, 'macro_f1-score': 0.4434406919771749, 'balanced_accuracy': 0.4566688726899841, 'mcc': 0.5385688866794468, 'train_loss': 0.14185829275856482}\n",
      "Epoch 12/20\n"
     ]
    },
    {
     "name": "stderr",
     "output_type": "stream",
     "text": [
      "100%|██████████| 745/745 [01:09<00:00, 10.70it/s]\n"
     ]
    },
    {
     "name": "stdout",
     "output_type": "stream",
     "text": [
      "{'val_loss': 1.8807914616858088, 'val_accuracy': 0.6308161708619374, 'precision': 0.6540767431540148, 'recall': 0.6308161708619374, 'f1-score': 0.6293678028704183, 'macro_f1-score': 0.4420111936210101, 'balanced_accuracy': 0.47210583615610485, 'mcc': 0.5295834318373219, 'train_loss': 0.1462336390260482}\n",
      "Early stopping.\n",
      "\n",
      " === bert-base-uncased + lstm + word2vec Final 5-fold Cross-Validation Results ===\n",
      "val_loss: 1.6761\n",
      "val_accuracy: 0.6449\n",
      "precision: 0.6393\n",
      "recall: 0.6449\n",
      "f1-score: 0.6313\n",
      "macro_f1-score: 0.4240\n",
      "balanced_accuracy: 0.4177\n",
      "mcc: 0.5238\n",
      "train_loss: 0.2726\n",
      "total_seconds: 3783.0000\n",
      "total_time: 1 hrs 3 mins 3 secs\n",
      "▶ Running: bert-base-uncased + bilstm + word2vec\n",
      "tokenizer is bert-base-uncased\n",
      "Using device: cuda\n",
      "CUDA Available: True\n",
      "CUDA Device: NVIDIA GeForce RTX 5070 Ti\n",
      "Current GPU Memory Allocated: 0.02 GB\n",
      "Current GPU Memory Cached: 3.16 GB\n",
      "\n",
      "[Fold 1]\n",
      "🚀 Using Word2Vec for data augmentation\n",
      "🔧 Augmenting label 1: 21 → 200 (+179)\n",
      "🔧 Augmenting label 2: 64 → 200 (+136)\n",
      "🔧 Augmenting label 3: 24 → 200 (+176)\n",
      "🔧 Augmenting label 4: 191 → 200 (+9)\n",
      "🔧 Augmenting label 5: 113 → 200 (+87)\n",
      "🔧 Augmenting label 6: 93 → 200 (+107)\n",
      "🔧 Augmenting label 7: 30 → 200 (+170)\n",
      "🔧 Augmenting label 8: 68 → 200 (+132)\n",
      "🔧 Augmenting label 9: 30 → 200 (+170)\n",
      "🔧 Augmenting label 10: 67 → 200 (+133)\n",
      "🔧 Augmenting label 11: 169 → 200 (+31)\n",
      "🔧 Augmenting label 12: 189 → 200 (+11)\n",
      "🔧 Augmenting label 13: 29 → 200 (+171)\n",
      "🔧 Augmenting label 14: 22 → 200 (+178)\n",
      "🔧 Augmenting label 15: 25 → 200 (+175)\n",
      "🔧 Augmenting label 16: 19 → 200 (+181)\n",
      "🔧 Augmenting label 17: 183 → 200 (+17)\n",
      "🔧 Augmenting label 18: 92 → 200 (+108)\n",
      "🔧 Augmenting label 19: 44 → 200 (+156)\n",
      "🔧 Augmenting label 20: 13 → 200 (+187)\n",
      "🔧 Augmenting label 21: 35 → 200 (+165)\n",
      "🔧 Augmenting label 22: 76 → 200 (+124)\n",
      "🔧 Augmenting label 23: 158 → 200 (+42)\n",
      "🔧 Augmenting label 24: 13 → 200 (+187)\n",
      "🔧 Augmenting label 25: 44 → 200 (+156)\n",
      "🔧 Augmenting label 26: 84 → 200 (+116)\n",
      "🔧 Augmenting label 27: 48 → 200 (+152)\n",
      "🔧 Augmenting label 28: 11 → 200 (+189)\n",
      "🔧 Augmenting label 29: 13 → 200 (+187)\n",
      "🔧 Augmenting label 30: 11 → 200 (+189)\n",
      "🔧 Augmenting label 31: 75 → 200 (+125)\n",
      "🔧 Augmenting label 32: 36 → 200 (+164)\n",
      "🔧 Augmenting label 33: 32 → 200 (+168)\n",
      "🔧 Augmenting label 34: 29 → 200 (+171)\n",
      "🔧 Augmenting label 35: 11 → 200 (+189)\n",
      "🔧 Augmenting label 36: 22 → 200 (+178)\n",
      "🔧 Augmenting label 37: 16 → 200 (+184)\n",
      "🔧 Augmenting label 38: 33 → 200 (+167)\n",
      "🔧 Augmenting label 39: 10 → 200 (+190)\n",
      "🔧 Augmenting label 40: 9 → 200 (+191)\n",
      "🔧 Augmenting label 41: 57 → 200 (+143)\n",
      "🔧 Augmenting label 42: 19 → 200 (+181)\n",
      "🔧 Augmenting label 43: 8 → 200 (+192)\n",
      "🔧 Augmenting label 44: 54 → 200 (+146)\n",
      "🔧 Augmenting label 46: 61 → 200 (+139)\n",
      "🔧 Augmenting label 47: 80 → 200 (+120)\n",
      "Label distribution after resampling:\n",
      "  label 0: 2471\n",
      "  label 1: 200\n",
      "  label 2: 200\n",
      "  label 3: 200\n",
      "  label 4: 200\n",
      "  label 5: 200\n",
      "  label 6: 200\n",
      "  label 7: 200\n",
      "  label 8: 200\n",
      "  label 9: 200\n",
      "  label 10: 200\n",
      "  label 11: 200\n",
      "  label 12: 200\n",
      "  label 13: 200\n",
      "  label 14: 200\n",
      "  label 15: 200\n",
      "  label 16: 200\n",
      "  label 17: 200\n",
      "  label 18: 200\n",
      "  label 19: 200\n",
      "  label 20: 200\n",
      "  label 21: 200\n",
      "  label 22: 200\n",
      "  label 23: 200\n",
      "  label 24: 200\n",
      "  label 25: 200\n",
      "  label 26: 200\n",
      "  label 27: 200\n",
      "  label 28: 200\n",
      "  label 29: 200\n",
      "  label 30: 200\n",
      "  label 31: 200\n",
      "  label 32: 200\n",
      "  label 33: 200\n",
      "  label 34: 200\n",
      "  label 35: 200\n",
      "  label 36: 200\n",
      "  label 37: 200\n",
      "  label 38: 200\n",
      "  label 39: 200\n",
      "  label 40: 200\n",
      "  label 41: 200\n",
      "  label 42: 200\n",
      "  label 43: 200\n",
      "  label 44: 200\n",
      "  label 45: 242\n",
      "  label 46: 200\n",
      "  label 47: 200\n",
      "model is bert-base-uncased bilstm\n",
      "Epoch 1/20\n"
     ]
    },
    {
     "name": "stderr",
     "output_type": "stream",
     "text": [
      "100%|██████████| 745/745 [01:14<00:00,  9.94it/s]\n"
     ]
    },
    {
     "name": "stdout",
     "output_type": "stream",
     "text": [
      "{'val_loss': 1.729320962254594, 'val_accuracy': 0.5472560975609756, 'precision': 0.5561709463638201, 'recall': 0.5472560975609756, 'f1-score': 0.5240923201126891, 'macro_f1-score': 0.2933115179496505, 'balanced_accuracy': 0.3802038833854909, 'mcc': 0.3989126302575244, 'train_loss': 2.464041940557877}\n",
      "Epoch 2/20\n"
     ]
    },
    {
     "name": "stderr",
     "output_type": "stream",
     "text": [
      "100%|██████████| 745/745 [01:14<00:00,  9.99it/s]\n"
     ]
    },
    {
     "name": "stdout",
     "output_type": "stream",
     "text": [
      "{'val_loss': 1.5625672609340855, 'val_accuracy': 0.5907012195121951, 'precision': 0.622322800302175, 'recall': 0.5907012195121951, 'f1-score': 0.5770267698747863, 'macro_f1-score': 0.3676323624690392, 'balanced_accuracy': 0.39546056178408845, 'mcc': 0.45532226446722873, 'train_loss': 1.0489964340757203}\n",
      "Epoch 3/20\n"
     ]
    },
    {
     "name": "stderr",
     "output_type": "stream",
     "text": [
      "100%|██████████| 745/745 [01:15<00:00,  9.89it/s]\n"
     ]
    },
    {
     "name": "stdout",
     "output_type": "stream",
     "text": [
      "{'val_loss': 1.5386651547216788, 'val_accuracy': 0.6349085365853658, 'precision': 0.6233755214941351, 'recall': 0.6349085365853658, 'f1-score': 0.6159154560192059, 'macro_f1-score': 0.4075975610027764, 'balanced_accuracy': 0.4014526801877798, 'mcc': 0.5040834788650728, 'train_loss': 0.5613855744668301}\n",
      "Epoch 4/20\n"
     ]
    },
    {
     "name": "stderr",
     "output_type": "stream",
     "text": [
      "100%|██████████| 745/745 [01:15<00:00,  9.92it/s]\n"
     ]
    },
    {
     "name": "stdout",
     "output_type": "stream",
     "text": [
      "{'val_loss': 1.7202866404521755, 'val_accuracy': 0.6364329268292683, 'precision': 0.606397496294633, 'recall': 0.6364329268292683, 'f1-score': 0.6037124875548125, 'macro_f1-score': 0.37503212054354956, 'balanced_accuracy': 0.3638708461633375, 'mcc': 0.49606207376836275, 'train_loss': 0.34559681109534013}\n",
      "Epoch 5/20\n"
     ]
    },
    {
     "name": "stderr",
     "output_type": "stream",
     "text": [
      "100%|██████████| 745/745 [01:14<00:00,  9.94it/s]\n"
     ]
    },
    {
     "name": "stdout",
     "output_type": "stream",
     "text": [
      "{'val_loss': 1.7313263910572703, 'val_accuracy': 0.6341463414634146, 'precision': 0.6285515999179716, 'recall': 0.6341463414634146, 'f1-score': 0.6208075226363114, 'macro_f1-score': 0.39201606637111147, 'balanced_accuracy': 0.390710702196946, 'mcc': 0.5112219164468624, 'train_loss': 0.22059658443267713}\n",
      "Epoch 6/20\n"
     ]
    },
    {
     "name": "stderr",
     "output_type": "stream",
     "text": [
      "100%|██████████| 745/745 [01:14<00:00,  9.94it/s]\n"
     ]
    },
    {
     "name": "stdout",
     "output_type": "stream",
     "text": [
      "{'val_loss': 1.8951856581176199, 'val_accuracy': 0.6364329268292683, 'precision': 0.6137907673037053, 'recall': 0.6364329268292683, 'f1-score': 0.6068231788347231, 'macro_f1-score': 0.3685935045878915, 'balanced_accuracy': 0.34136613600093596, 'mcc': 0.49730668831843516, 'train_loss': 0.17868470255310503}\n",
      "Early stopping.\n",
      "\n",
      "[Fold 2]\n",
      "🚀 Using Word2Vec for data augmentation\n",
      "🔧 Augmenting label 1: 22 → 200 (+178)\n",
      "🔧 Augmenting label 2: 64 → 200 (+136)\n",
      "🔧 Augmenting label 3: 24 → 200 (+176)\n",
      "🔧 Augmenting label 4: 190 → 200 (+10)\n",
      "🔧 Augmenting label 5: 113 → 200 (+87)\n",
      "🔧 Augmenting label 6: 93 → 200 (+107)\n",
      "🔧 Augmenting label 7: 30 → 200 (+170)\n",
      "🔧 Augmenting label 8: 68 → 200 (+132)\n",
      "🔧 Augmenting label 9: 30 → 200 (+170)\n",
      "🔧 Augmenting label 10: 67 → 200 (+133)\n",
      "🔧 Augmenting label 11: 169 → 200 (+31)\n",
      "🔧 Augmenting label 12: 189 → 200 (+11)\n",
      "🔧 Augmenting label 13: 29 → 200 (+171)\n",
      "🔧 Augmenting label 14: 23 → 200 (+177)\n",
      "🔧 Augmenting label 15: 24 → 200 (+176)\n",
      "🔧 Augmenting label 16: 20 → 200 (+180)\n",
      "🔧 Augmenting label 17: 182 → 200 (+18)\n",
      "🔧 Augmenting label 18: 92 → 200 (+108)\n",
      "🔧 Augmenting label 19: 44 → 200 (+156)\n",
      "🔧 Augmenting label 20: 13 → 200 (+187)\n",
      "🔧 Augmenting label 21: 36 → 200 (+164)\n",
      "🔧 Augmenting label 22: 76 → 200 (+124)\n",
      "🔧 Augmenting label 23: 157 → 200 (+43)\n",
      "🔧 Augmenting label 24: 12 → 200 (+188)\n",
      "🔧 Augmenting label 25: 44 → 200 (+156)\n",
      "🔧 Augmenting label 26: 84 → 200 (+116)\n",
      "🔧 Augmenting label 27: 48 → 200 (+152)\n",
      "🔧 Augmenting label 28: 12 → 200 (+188)\n",
      "🔧 Augmenting label 29: 12 → 200 (+188)\n",
      "🔧 Augmenting label 30: 12 → 200 (+188)\n",
      "🔧 Augmenting label 31: 75 → 200 (+125)\n",
      "🔧 Augmenting label 32: 36 → 200 (+164)\n",
      "🔧 Augmenting label 33: 31 → 200 (+169)\n",
      "🔧 Augmenting label 34: 29 → 200 (+171)\n",
      "🔧 Augmenting label 35: 12 → 200 (+188)\n",
      "🔧 Augmenting label 36: 21 → 200 (+179)\n",
      "🔧 Augmenting label 37: 16 → 200 (+184)\n",
      "🔧 Augmenting label 38: 33 → 200 (+167)\n",
      "🔧 Augmenting label 39: 11 → 200 (+189)\n",
      "🔧 Augmenting label 40: 8 → 200 (+192)\n",
      "🔧 Augmenting label 41: 57 → 200 (+143)\n",
      "🔧 Augmenting label 42: 19 → 200 (+181)\n",
      "🔧 Augmenting label 43: 9 → 200 (+191)\n",
      "🔧 Augmenting label 44: 54 → 200 (+146)\n",
      "🔧 Augmenting label 46: 62 → 200 (+138)\n",
      "🔧 Augmenting label 47: 80 → 200 (+120)\n",
      "Label distribution after resampling:\n",
      "  label 0: 2471\n",
      "  label 1: 200\n",
      "  label 2: 200\n",
      "  label 3: 200\n",
      "  label 4: 200\n",
      "  label 5: 200\n",
      "  label 6: 200\n",
      "  label 7: 200\n",
      "  label 8: 200\n",
      "  label 9: 200\n",
      "  label 10: 200\n",
      "  label 11: 200\n",
      "  label 12: 200\n",
      "  label 13: 200\n",
      "  label 14: 200\n",
      "  label 15: 200\n",
      "  label 16: 200\n",
      "  label 17: 200\n",
      "  label 18: 200\n",
      "  label 19: 200\n",
      "  label 20: 200\n",
      "  label 21: 200\n",
      "  label 22: 200\n",
      "  label 23: 200\n",
      "  label 24: 200\n",
      "  label 25: 200\n",
      "  label 26: 200\n",
      "  label 27: 200\n",
      "  label 28: 200\n",
      "  label 29: 200\n",
      "  label 30: 200\n",
      "  label 31: 200\n",
      "  label 32: 200\n",
      "  label 33: 200\n",
      "  label 34: 200\n",
      "  label 35: 200\n",
      "  label 36: 200\n",
      "  label 37: 200\n",
      "  label 38: 200\n",
      "  label 39: 200\n",
      "  label 40: 200\n",
      "  label 41: 200\n",
      "  label 42: 200\n",
      "  label 43: 200\n",
      "  label 44: 200\n",
      "  label 45: 242\n",
      "  label 46: 200\n",
      "  label 47: 200\n",
      "model is bert-base-uncased bilstm\n",
      "Epoch 1/20\n"
     ]
    },
    {
     "name": "stderr",
     "output_type": "stream",
     "text": [
      "100%|██████████| 745/745 [01:14<00:00,  9.94it/s]\n"
     ]
    },
    {
     "name": "stdout",
     "output_type": "stream",
     "text": [
      "{'val_loss': 1.7262188385172588, 'val_accuracy': 0.5530129672006102, 'precision': 0.554170870631191, 'recall': 0.5530129672006102, 'f1-score': 0.5149168393902139, 'macro_f1-score': 0.22561436326956077, 'balanced_accuracy': 0.2849118796620866, 'mcc': 0.3882637541659219, 'train_loss': 2.4864250349518437}\n",
      "Epoch 2/20\n"
     ]
    },
    {
     "name": "stderr",
     "output_type": "stream",
     "text": [
      "100%|██████████| 745/745 [01:15<00:00,  9.87it/s]\n"
     ]
    },
    {
     "name": "stdout",
     "output_type": "stream",
     "text": [
      "{'val_loss': 1.5178742303353985, 'val_accuracy': 0.6155606407322655, 'precision': 0.6159925186957637, 'recall': 0.6155606407322655, 'f1-score': 0.576398364909466, 'macro_f1-score': 0.3333624640853537, 'balanced_accuracy': 0.3501228028832668, 'mcc': 0.4659528184466938, 'train_loss': 1.1000909761894468}\n",
      "Epoch 3/20\n"
     ]
    },
    {
     "name": "stderr",
     "output_type": "stream",
     "text": [
      "100%|██████████| 745/745 [01:14<00:00,  9.95it/s]\n"
     ]
    },
    {
     "name": "stdout",
     "output_type": "stream",
     "text": [
      "{'val_loss': 1.5236423560758916, 'val_accuracy': 0.6292906178489702, 'precision': 0.6195820333488706, 'recall': 0.6292906178489702, 'f1-score': 0.6135653419045356, 'macro_f1-score': 0.35844921642669975, 'balanced_accuracy': 0.38073048082120514, 'mcc': 0.5039323373379562, 'train_loss': 0.6311169758739087}\n",
      "Epoch 4/20\n"
     ]
    },
    {
     "name": "stderr",
     "output_type": "stream",
     "text": [
      "100%|██████████| 745/745 [01:14<00:00, 10.04it/s]\n"
     ]
    },
    {
     "name": "stdout",
     "output_type": "stream",
     "text": [
      "{'val_loss': 1.5732102328684272, 'val_accuracy': 0.6369183829138062, 'precision': 0.6041405309224335, 'recall': 0.6369183829138062, 'f1-score': 0.6052876050294264, 'macro_f1-score': 0.34151046632737225, 'balanced_accuracy': 0.33523112317389997, 'mcc': 0.49863045335476824, 'train_loss': 0.39854958028901344}\n",
      "Epoch 5/20\n"
     ]
    },
    {
     "name": "stderr",
     "output_type": "stream",
     "text": [
      "100%|██████████| 745/745 [01:14<00:00, 10.05it/s]\n"
     ]
    },
    {
     "name": "stdout",
     "output_type": "stream",
     "text": [
      "{'val_loss': 1.6630530097499125, 'val_accuracy': 0.6552250190694127, 'precision': 0.6374674946882216, 'recall': 0.6552250190694127, 'f1-score': 0.6259850340794292, 'macro_f1-score': 0.36696828675621646, 'balanced_accuracy': 0.35142506758931796, 'mcc': 0.5243394772076362, 'train_loss': 0.2570489108787487}\n",
      "Epoch 6/20\n"
     ]
    },
    {
     "name": "stderr",
     "output_type": "stream",
     "text": [
      "100%|██████████| 745/745 [01:14<00:00, 10.03it/s]\n"
     ]
    },
    {
     "name": "stdout",
     "output_type": "stream",
     "text": [
      "{'val_loss': 1.749958046325823, 'val_accuracy': 0.6262395118230358, 'precision': 0.6303812508288809, 'recall': 0.6262395118230358, 'f1-score': 0.6155084386373783, 'macro_f1-score': 0.3708350538942364, 'balanced_accuracy': 0.38286949074159016, 'mcc': 0.5009018205871963, 'train_loss': 0.21092590980931816}\n",
      "Epoch 7/20\n"
     ]
    },
    {
     "name": "stderr",
     "output_type": "stream",
     "text": [
      "100%|██████████| 745/745 [01:14<00:00, 10.00it/s]\n"
     ]
    },
    {
     "name": "stdout",
     "output_type": "stream",
     "text": [
      "{'val_loss': 1.8096077478513486, 'val_accuracy': 0.6445461479786423, 'precision': 0.6297354770441648, 'recall': 0.6445461479786423, 'f1-score': 0.6301688329813055, 'macro_f1-score': 0.3777881118100755, 'balanced_accuracy': 0.3934205514613984, 'mcc': 0.5250352095518998, 'train_loss': 0.16158853968192868}\n",
      "Epoch 8/20\n"
     ]
    },
    {
     "name": "stderr",
     "output_type": "stream",
     "text": [
      "100%|██████████| 745/745 [01:14<00:00, 10.01it/s]\n"
     ]
    },
    {
     "name": "stdout",
     "output_type": "stream",
     "text": [
      "{'val_loss': 1.8463003797138609, 'val_accuracy': 0.665903890160183, 'precision': 0.6400638138781811, 'recall': 0.665903890160183, 'f1-score': 0.6415789663298807, 'macro_f1-score': 0.39107720760668313, 'balanced_accuracy': 0.38276219324632565, 'mcc': 0.5473392331446852, 'train_loss': 0.13467501860436978}\n",
      "Epoch 9/20\n"
     ]
    },
    {
     "name": "stderr",
     "output_type": "stream",
     "text": [
      "100%|██████████| 745/745 [01:14<00:00, 10.03it/s]\n"
     ]
    },
    {
     "name": "stdout",
     "output_type": "stream",
     "text": [
      "{'val_loss': 1.9258999075831436, 'val_accuracy': 0.6491228070175439, 'precision': 0.6349261510805823, 'recall': 0.6491228070175439, 'f1-score': 0.6278967318773704, 'macro_f1-score': 0.3757672955677928, 'balanced_accuracy': 0.3599528612957142, 'mcc': 0.5239531377665623, 'train_loss': 0.11722873957177636}\n",
      "Epoch 10/20\n"
     ]
    },
    {
     "name": "stderr",
     "output_type": "stream",
     "text": [
      "100%|██████████| 745/745 [01:14<00:00, 10.03it/s]\n"
     ]
    },
    {
     "name": "stdout",
     "output_type": "stream",
     "text": [
      "{'val_loss': 1.9740171548796863, 'val_accuracy': 0.623951182303585, 'precision': 0.6274783671377223, 'recall': 0.623951182303585, 'f1-score': 0.6149521341956855, 'macro_f1-score': 0.37933228017761006, 'balanced_accuracy': 0.39814300657553886, 'mcc': 0.5083203713262967, 'train_loss': 0.11062917898990364}\n",
      "Epoch 11/20\n"
     ]
    },
    {
     "name": "stderr",
     "output_type": "stream",
     "text": [
      "100%|██████████| 745/745 [01:13<00:00, 10.16it/s]\n"
     ]
    },
    {
     "name": "stdout",
     "output_type": "stream",
     "text": [
      "{'val_loss': 2.0498531587967057, 'val_accuracy': 0.6422578184591915, 'precision': 0.637645105848855, 'recall': 0.6422578184591915, 'f1-score': 0.6296352054403414, 'macro_f1-score': 0.36877291452972777, 'balanced_accuracy': 0.3755691964959009, 'mcc': 0.5236792703396395, 'train_loss': 0.09855793847721195}\n",
      "Early stopping.\n",
      "\n",
      "[Fold 3]\n",
      "🚀 Using Word2Vec for data augmentation\n",
      "🔧 Augmenting label 1: 22 → 200 (+178)\n",
      "🔧 Augmenting label 2: 64 → 200 (+136)\n",
      "🔧 Augmenting label 3: 24 → 200 (+176)\n",
      "🔧 Augmenting label 4: 190 → 200 (+10)\n",
      "🔧 Augmenting label 5: 113 → 200 (+87)\n",
      "🔧 Augmenting label 6: 93 → 200 (+107)\n",
      "🔧 Augmenting label 7: 30 → 200 (+170)\n",
      "🔧 Augmenting label 8: 68 → 200 (+132)\n",
      "🔧 Augmenting label 9: 30 → 200 (+170)\n",
      "🔧 Augmenting label 10: 67 → 200 (+133)\n",
      "🔧 Augmenting label 11: 169 → 200 (+31)\n",
      "🔧 Augmenting label 12: 190 → 200 (+10)\n",
      "🔧 Augmenting label 13: 28 → 200 (+172)\n",
      "🔧 Augmenting label 14: 23 → 200 (+177)\n",
      "🔧 Augmenting label 15: 25 → 200 (+175)\n",
      "🔧 Augmenting label 16: 19 → 200 (+181)\n",
      "🔧 Augmenting label 17: 182 → 200 (+18)\n",
      "🔧 Augmenting label 18: 92 → 200 (+108)\n",
      "🔧 Augmenting label 19: 44 → 200 (+156)\n",
      "🔧 Augmenting label 20: 14 → 200 (+186)\n",
      "🔧 Augmenting label 21: 35 → 200 (+165)\n",
      "🔧 Augmenting label 22: 76 → 200 (+124)\n",
      "🔧 Augmenting label 23: 157 → 200 (+43)\n",
      "🔧 Augmenting label 24: 13 → 200 (+187)\n",
      "🔧 Augmenting label 25: 44 → 200 (+156)\n",
      "🔧 Augmenting label 26: 84 → 200 (+116)\n",
      "🔧 Augmenting label 27: 48 → 200 (+152)\n",
      "🔧 Augmenting label 28: 11 → 200 (+189)\n",
      "🔧 Augmenting label 29: 13 → 200 (+187)\n",
      "🔧 Augmenting label 30: 11 → 200 (+189)\n",
      "🔧 Augmenting label 31: 76 → 200 (+124)\n",
      "🔧 Augmenting label 32: 36 → 200 (+164)\n",
      "🔧 Augmenting label 33: 31 → 200 (+169)\n",
      "🔧 Augmenting label 34: 30 → 200 (+170)\n",
      "🔧 Augmenting label 35: 11 → 200 (+189)\n",
      "🔧 Augmenting label 36: 21 → 200 (+179)\n",
      "🔧 Augmenting label 37: 16 → 200 (+184)\n",
      "🔧 Augmenting label 38: 32 → 200 (+168)\n",
      "🔧 Augmenting label 39: 11 → 200 (+189)\n",
      "🔧 Augmenting label 40: 9 → 200 (+191)\n",
      "🔧 Augmenting label 41: 57 → 200 (+143)\n",
      "🔧 Augmenting label 42: 18 → 200 (+182)\n",
      "🔧 Augmenting label 43: 9 → 200 (+191)\n",
      "🔧 Augmenting label 44: 55 → 200 (+145)\n",
      "🔧 Augmenting label 46: 62 → 200 (+138)\n",
      "🔧 Augmenting label 47: 80 → 200 (+120)\n",
      "Label distribution after resampling:\n",
      "  label 0: 2471\n",
      "  label 1: 200\n",
      "  label 2: 200\n",
      "  label 3: 200\n",
      "  label 4: 200\n",
      "  label 5: 200\n",
      "  label 6: 200\n",
      "  label 7: 200\n",
      "  label 8: 200\n",
      "  label 9: 200\n",
      "  label 10: 200\n",
      "  label 11: 200\n",
      "  label 12: 200\n",
      "  label 13: 200\n",
      "  label 14: 200\n",
      "  label 15: 200\n",
      "  label 16: 200\n",
      "  label 17: 200\n",
      "  label 18: 200\n",
      "  label 19: 200\n",
      "  label 20: 200\n",
      "  label 21: 200\n",
      "  label 22: 200\n",
      "  label 23: 200\n",
      "  label 24: 200\n",
      "  label 25: 200\n",
      "  label 26: 200\n",
      "  label 27: 200\n",
      "  label 28: 200\n",
      "  label 29: 200\n",
      "  label 30: 200\n",
      "  label 31: 200\n",
      "  label 32: 200\n",
      "  label 33: 200\n",
      "  label 34: 200\n",
      "  label 35: 200\n",
      "  label 36: 200\n",
      "  label 37: 200\n",
      "  label 38: 200\n",
      "  label 39: 200\n",
      "  label 40: 200\n",
      "  label 41: 200\n",
      "  label 42: 200\n",
      "  label 43: 200\n",
      "  label 44: 200\n",
      "  label 45: 241\n",
      "  label 46: 200\n",
      "  label 47: 200\n",
      "model is bert-base-uncased bilstm\n",
      "Epoch 1/20\n"
     ]
    },
    {
     "name": "stderr",
     "output_type": "stream",
     "text": [
      "100%|██████████| 745/745 [01:09<00:00, 10.79it/s]\n"
     ]
    },
    {
     "name": "stdout",
     "output_type": "stream",
     "text": [
      "{'val_loss': 1.7350342033839807, 'val_accuracy': 0.5415713196033562, 'precision': 0.5218567022721785, 'recall': 0.5415713196033562, 'f1-score': 0.5032011359377624, 'macro_f1-score': 0.28191992269665694, 'balanced_accuracy': 0.32164431539044047, 'mcc': 0.3677343028189628, 'train_loss': 2.434614086551154}\n",
      "Epoch 2/20\n"
     ]
    },
    {
     "name": "stderr",
     "output_type": "stream",
     "text": [
      "100%|██████████| 745/745 [01:09<00:00, 10.72it/s]\n"
     ]
    },
    {
     "name": "stdout",
     "output_type": "stream",
     "text": [
      "{'val_loss': 1.548176031832288, 'val_accuracy': 0.589626239511823, 'precision': 0.5889491268814239, 'recall': 0.589626239511823, 'f1-score': 0.579243558478076, 'macro_f1-score': 0.3468937237825103, 'balanced_accuracy': 0.3634432965762875, 'mcc': 0.45987497167858676, 'train_loss': 1.018412787862272}\n",
      "Epoch 3/20\n"
     ]
    },
    {
     "name": "stderr",
     "output_type": "stream",
     "text": [
      "100%|██████████| 745/745 [01:09<00:00, 10.78it/s]\n"
     ]
    },
    {
     "name": "stdout",
     "output_type": "stream",
     "text": [
      "{'val_loss': 1.5388536320590391, 'val_accuracy': 0.6407322654462243, 'precision': 0.6256711554455269, 'recall': 0.6407322654462243, 'f1-score': 0.616417522726363, 'macro_f1-score': 0.3920599049367158, 'balanced_accuracy': 0.38593207957249326, 'mcc': 0.5105868181923647, 'train_loss': 0.5977646390463682}\n",
      "Epoch 4/20\n"
     ]
    },
    {
     "name": "stderr",
     "output_type": "stream",
     "text": [
      "100%|██████████| 745/745 [01:09<00:00, 10.77it/s]\n"
     ]
    },
    {
     "name": "stdout",
     "output_type": "stream",
     "text": [
      "{'val_loss': 1.6204570760814154, 'val_accuracy': 0.6163234172387491, 'precision': 0.6342524123866125, 'recall': 0.6163234172387491, 'f1-score': 0.6111581419585616, 'macro_f1-score': 0.37411131783977414, 'balanced_accuracy': 0.36471999096672647, 'mcc': 0.4995768970409143, 'train_loss': 0.3488316418540558}\n",
      "Epoch 5/20\n"
     ]
    },
    {
     "name": "stderr",
     "output_type": "stream",
     "text": [
      "100%|██████████| 745/745 [01:09<00:00, 10.77it/s]\n"
     ]
    },
    {
     "name": "stdout",
     "output_type": "stream",
     "text": [
      "{'val_loss': 1.675907572640515, 'val_accuracy': 0.6422578184591915, 'precision': 0.6332442897545686, 'recall': 0.6422578184591915, 'f1-score': 0.629715883960388, 'macro_f1-score': 0.40371538445741795, 'balanced_accuracy': 0.3865512600888783, 'mcc': 0.524550071220002, 'train_loss': 0.2532573781782549}\n",
      "Epoch 6/20\n"
     ]
    },
    {
     "name": "stderr",
     "output_type": "stream",
     "text": [
      "100%|██████████| 745/745 [01:09<00:00, 10.79it/s]\n"
     ]
    },
    {
     "name": "stdout",
     "output_type": "stream",
     "text": [
      "{'val_loss': 1.8735984827323657, 'val_accuracy': 0.6209000762776506, 'precision': 0.6361180987865902, 'recall': 0.6209000762776506, 'f1-score': 0.6178019502135772, 'macro_f1-score': 0.39618517738366915, 'balanced_accuracy': 0.38511475638246545, 'mcc': 0.5053995635293657, 'train_loss': 0.1814829795627586}\n",
      "Epoch 7/20\n"
     ]
    },
    {
     "name": "stderr",
     "output_type": "stream",
     "text": [
      "100%|██████████| 745/745 [01:09<00:00, 10.77it/s]\n"
     ]
    },
    {
     "name": "stdout",
     "output_type": "stream",
     "text": [
      "{'val_loss': 1.9041748145004598, 'val_accuracy': 0.6224256292906178, 'precision': 0.6211182949504577, 'recall': 0.6224256292906178, 'f1-score': 0.6123699451843426, 'macro_f1-score': 0.39028443230694015, 'balanced_accuracy': 0.3724200026579481, 'mcc': 0.4982128930906254, 'train_loss': 0.13981538293883206}\n",
      "Epoch 8/20\n"
     ]
    },
    {
     "name": "stderr",
     "output_type": "stream",
     "text": [
      "100%|██████████| 745/745 [01:09<00:00, 10.79it/s]\n"
     ]
    },
    {
     "name": "stdout",
     "output_type": "stream",
     "text": [
      "{'val_loss': 1.9882253261691913, 'val_accuracy': 0.6338672768878718, 'precision': 0.6285241414615093, 'recall': 0.6338672768878718, 'f1-score': 0.6178202427855091, 'macro_f1-score': 0.3737003149708915, 'balanced_accuracy': 0.34672246040703364, 'mcc': 0.5044589517431838, 'train_loss': 0.1290858637447775}\n",
      "Early stopping.\n",
      "\n",
      "[Fold 4]\n",
      "🚀 Using Word2Vec for data augmentation\n",
      "🔧 Augmenting label 1: 22 → 200 (+178)\n",
      "🔧 Augmenting label 2: 64 → 200 (+136)\n",
      "🔧 Augmenting label 3: 24 → 200 (+176)\n",
      "🔧 Augmenting label 4: 190 → 200 (+10)\n",
      "🔧 Augmenting label 5: 113 → 200 (+87)\n",
      "🔧 Augmenting label 6: 93 → 200 (+107)\n",
      "🔧 Augmenting label 7: 31 → 200 (+169)\n",
      "🔧 Augmenting label 8: 68 → 200 (+132)\n",
      "🔧 Augmenting label 9: 29 → 200 (+171)\n",
      "🔧 Augmenting label 10: 67 → 200 (+133)\n",
      "🔧 Augmenting label 11: 169 → 200 (+31)\n",
      "🔧 Augmenting label 12: 190 → 200 (+10)\n",
      "🔧 Augmenting label 13: 29 → 200 (+171)\n",
      "🔧 Augmenting label 14: 22 → 200 (+178)\n",
      "🔧 Augmenting label 15: 25 → 200 (+175)\n",
      "🔧 Augmenting label 16: 19 → 200 (+181)\n",
      "🔧 Augmenting label 17: 182 → 200 (+18)\n",
      "🔧 Augmenting label 18: 92 → 200 (+108)\n",
      "🔧 Augmenting label 19: 44 → 200 (+156)\n",
      "🔧 Augmenting label 20: 14 → 200 (+186)\n",
      "🔧 Augmenting label 21: 35 → 200 (+165)\n",
      "🔧 Augmenting label 22: 76 → 200 (+124)\n",
      "🔧 Augmenting label 23: 158 → 200 (+42)\n",
      "🔧 Augmenting label 24: 13 → 200 (+187)\n",
      "🔧 Augmenting label 25: 44 → 200 (+156)\n",
      "🔧 Augmenting label 26: 84 → 200 (+116)\n",
      "🔧 Augmenting label 27: 48 → 200 (+152)\n",
      "🔧 Augmenting label 28: 11 → 200 (+189)\n",
      "🔧 Augmenting label 29: 13 → 200 (+187)\n",
      "🔧 Augmenting label 30: 11 → 200 (+189)\n",
      "🔧 Augmenting label 31: 75 → 200 (+125)\n",
      "🔧 Augmenting label 32: 36 → 200 (+164)\n",
      "🔧 Augmenting label 33: 31 → 200 (+169)\n",
      "🔧 Augmenting label 34: 30 → 200 (+170)\n",
      "🔧 Augmenting label 35: 11 → 200 (+189)\n",
      "🔧 Augmenting label 36: 22 → 200 (+178)\n",
      "🔧 Augmenting label 37: 16 → 200 (+184)\n",
      "🔧 Augmenting label 38: 33 → 200 (+167)\n",
      "🔧 Augmenting label 39: 10 → 200 (+190)\n",
      "🔧 Augmenting label 40: 9 → 200 (+191)\n",
      "🔧 Augmenting label 41: 56 → 200 (+144)\n",
      "🔧 Augmenting label 42: 18 → 200 (+182)\n",
      "🔧 Augmenting label 43: 9 → 200 (+191)\n",
      "🔧 Augmenting label 44: 55 → 200 (+145)\n",
      "🔧 Augmenting label 46: 62 → 200 (+138)\n",
      "🔧 Augmenting label 47: 80 → 200 (+120)\n",
      "Label distribution after resampling:\n",
      "  label 0: 2471\n",
      "  label 1: 200\n",
      "  label 2: 200\n",
      "  label 3: 200\n",
      "  label 4: 200\n",
      "  label 5: 200\n",
      "  label 6: 200\n",
      "  label 7: 200\n",
      "  label 8: 200\n",
      "  label 9: 200\n",
      "  label 10: 200\n",
      "  label 11: 200\n",
      "  label 12: 200\n",
      "  label 13: 200\n",
      "  label 14: 200\n",
      "  label 15: 200\n",
      "  label 16: 200\n",
      "  label 17: 200\n",
      "  label 18: 200\n",
      "  label 19: 200\n",
      "  label 20: 200\n",
      "  label 21: 200\n",
      "  label 22: 200\n",
      "  label 23: 200\n",
      "  label 24: 200\n",
      "  label 25: 200\n",
      "  label 26: 200\n",
      "  label 27: 200\n",
      "  label 28: 200\n",
      "  label 29: 200\n",
      "  label 30: 200\n",
      "  label 31: 200\n",
      "  label 32: 200\n",
      "  label 33: 200\n",
      "  label 34: 200\n",
      "  label 35: 200\n",
      "  label 36: 200\n",
      "  label 37: 200\n",
      "  label 38: 200\n",
      "  label 39: 200\n",
      "  label 40: 200\n",
      "  label 41: 200\n",
      "  label 42: 200\n",
      "  label 43: 200\n",
      "  label 44: 200\n",
      "  label 45: 241\n",
      "  label 46: 200\n",
      "  label 47: 200\n",
      "model is bert-base-uncased bilstm\n",
      "Epoch 1/20\n"
     ]
    },
    {
     "name": "stderr",
     "output_type": "stream",
     "text": [
      "100%|██████████| 745/745 [01:09<00:00, 10.79it/s]\n"
     ]
    },
    {
     "name": "stdout",
     "output_type": "stream",
     "text": [
      "{'val_loss': 1.575933080257439, 'val_accuracy': 0.5919145690312738, 'precision': 0.58222855232329, 'recall': 0.5919145690312738, 'f1-score': 0.5664524748428406, 'macro_f1-score': 0.33073622208491, 'balanced_accuracy': 0.3803581814149646, 'mcc': 0.451465716315813, 'train_loss': 2.3620834144169853}\n",
      "Epoch 2/20\n"
     ]
    },
    {
     "name": "stderr",
     "output_type": "stream",
     "text": [
      "100%|██████████| 745/745 [01:09<00:00, 10.75it/s]\n"
     ]
    },
    {
     "name": "stdout",
     "output_type": "stream",
     "text": [
      "{'val_loss': 1.4248476867995612, 'val_accuracy': 0.6247139588100686, 'precision': 0.6416866992929726, 'recall': 0.6247139588100686, 'f1-score': 0.6202182151914786, 'macro_f1-score': 0.37881689476953, 'balanced_accuracy': 0.3968246817269823, 'mcc': 0.5059413177224482, 'train_loss': 0.9769613726227075}\n",
      "Epoch 3/20\n"
     ]
    },
    {
     "name": "stderr",
     "output_type": "stream",
     "text": [
      "100%|██████████| 745/745 [01:09<00:00, 10.78it/s]\n"
     ]
    },
    {
     "name": "stdout",
     "output_type": "stream",
     "text": [
      "{'val_loss': 1.4914676674255511, 'val_accuracy': 0.6224256292906178, 'precision': 0.6287378629584244, 'recall': 0.6224256292906178, 'f1-score': 0.6136409962699051, 'macro_f1-score': 0.3726918773038304, 'balanced_accuracy': 0.39304124704848453, 'mcc': 0.503214753261639, 'train_loss': 0.5289435317752346}\n",
      "Epoch 4/20\n"
     ]
    },
    {
     "name": "stderr",
     "output_type": "stream",
     "text": [
      "100%|██████████| 745/745 [01:09<00:00, 10.76it/s]\n"
     ]
    },
    {
     "name": "stdout",
     "output_type": "stream",
     "text": [
      "{'val_loss': 1.5150686237143307, 'val_accuracy': 0.6628527841342486, 'precision': 0.6664303495292666, 'recall': 0.6628527841342486, 'f1-score': 0.6482339353697141, 'macro_f1-score': 0.41923421910549163, 'balanced_accuracy': 0.39829913523283994, 'mcc': 0.5500305584555635, 'train_loss': 0.3347622434514881}\n",
      "Epoch 5/20\n"
     ]
    },
    {
     "name": "stderr",
     "output_type": "stream",
     "text": [
      "100%|██████████| 745/745 [01:09<00:00, 10.78it/s]\n"
     ]
    },
    {
     "name": "stdout",
     "output_type": "stream",
     "text": [
      "{'val_loss': 1.6393617944019596, 'val_accuracy': 0.6262395118230358, 'precision': 0.6580894657312939, 'recall': 0.6262395118230358, 'f1-score': 0.6332528985264386, 'macro_f1-score': 0.40886102040761346, 'balanced_accuracy': 0.4317788950031442, 'mcc': 0.5217424546803765, 'train_loss': 0.22689038281822765}\n",
      "Epoch 6/20\n"
     ]
    },
    {
     "name": "stderr",
     "output_type": "stream",
     "text": [
      "100%|██████████| 745/745 [01:09<00:00, 10.79it/s]\n"
     ]
    },
    {
     "name": "stdout",
     "output_type": "stream",
     "text": [
      "{'val_loss': 1.7285720509726827, 'val_accuracy': 0.6483600305110603, 'precision': 0.6293327962576534, 'recall': 0.6483600305110603, 'f1-score': 0.6323412709807438, 'macro_f1-score': 0.37466764289827265, 'balanced_accuracy': 0.38581636245035994, 'mcc': 0.5326341688756844, 'train_loss': 0.15744073036183046}\n",
      "Epoch 7/20\n"
     ]
    },
    {
     "name": "stderr",
     "output_type": "stream",
     "text": [
      "100%|██████████| 745/745 [01:09<00:00, 10.78it/s]\n"
     ]
    },
    {
     "name": "stdout",
     "output_type": "stream",
     "text": [
      "{'val_loss': 1.7876910669047659, 'val_accuracy': 0.6384439359267735, 'precision': 0.6479406701785091, 'recall': 0.6384439359267735, 'f1-score': 0.6334135154898299, 'macro_f1-score': 0.391858779050352, 'balanced_accuracy': 0.41281616976790686, 'mcc': 0.5266221908498058, 'train_loss': 0.1396440589862982}\n",
      "Early stopping.\n",
      "\n",
      "[Fold 5]\n",
      "🚀 Using Word2Vec for data augmentation\n",
      "🔧 Augmenting label 1: 21 → 200 (+179)\n",
      "🔧 Augmenting label 2: 64 → 200 (+136)\n",
      "🔧 Augmenting label 3: 24 → 200 (+176)\n",
      "🔧 Augmenting label 4: 191 → 200 (+9)\n",
      "🔧 Augmenting label 5: 112 → 200 (+88)\n",
      "🔧 Augmenting label 6: 92 → 200 (+108)\n",
      "🔧 Augmenting label 7: 31 → 200 (+169)\n",
      "🔧 Augmenting label 8: 68 → 200 (+132)\n",
      "🔧 Augmenting label 9: 29 → 200 (+171)\n",
      "🔧 Augmenting label 10: 68 → 200 (+132)\n",
      "🔧 Augmenting label 11: 168 → 200 (+32)\n",
      "🔧 Augmenting label 12: 190 → 200 (+10)\n",
      "🔧 Augmenting label 13: 29 → 200 (+171)\n",
      "🔧 Augmenting label 14: 22 → 200 (+178)\n",
      "🔧 Augmenting label 15: 25 → 200 (+175)\n",
      "🔧 Augmenting label 16: 19 → 200 (+181)\n",
      "🔧 Augmenting label 17: 183 → 200 (+17)\n",
      "🔧 Augmenting label 18: 92 → 200 (+108)\n",
      "🔧 Augmenting label 19: 44 → 200 (+156)\n",
      "🔧 Augmenting label 20: 14 → 200 (+186)\n",
      "🔧 Augmenting label 21: 35 → 200 (+165)\n",
      "🔧 Augmenting label 22: 76 → 200 (+124)\n",
      "🔧 Augmenting label 23: 158 → 200 (+42)\n",
      "🔧 Augmenting label 24: 13 → 200 (+187)\n",
      "🔧 Augmenting label 25: 44 → 200 (+156)\n",
      "🔧 Augmenting label 26: 84 → 200 (+116)\n",
      "🔧 Augmenting label 27: 48 → 200 (+152)\n",
      "🔧 Augmenting label 28: 11 → 200 (+189)\n",
      "🔧 Augmenting label 29: 13 → 200 (+187)\n",
      "🔧 Augmenting label 30: 11 → 200 (+189)\n",
      "🔧 Augmenting label 31: 75 → 200 (+125)\n",
      "🔧 Augmenting label 32: 36 → 200 (+164)\n",
      "🔧 Augmenting label 33: 31 → 200 (+169)\n",
      "🔧 Augmenting label 34: 30 → 200 (+170)\n",
      "🔧 Augmenting label 35: 11 → 200 (+189)\n",
      "🔧 Augmenting label 36: 22 → 200 (+178)\n",
      "🔧 Augmenting label 37: 16 → 200 (+184)\n",
      "🔧 Augmenting label 38: 33 → 200 (+167)\n",
      "🔧 Augmenting label 39: 10 → 200 (+190)\n",
      "🔧 Augmenting label 40: 9 → 200 (+191)\n",
      "🔧 Augmenting label 41: 57 → 200 (+143)\n",
      "🔧 Augmenting label 42: 18 → 200 (+182)\n",
      "🔧 Augmenting label 43: 9 → 200 (+191)\n",
      "🔧 Augmenting label 44: 54 → 200 (+146)\n",
      "🔧 Augmenting label 46: 61 → 200 (+139)\n",
      "🔧 Augmenting label 47: 80 → 200 (+120)\n",
      "Label distribution after resampling:\n",
      "  label 0: 2472\n",
      "  label 1: 200\n",
      "  label 2: 200\n",
      "  label 3: 200\n",
      "  label 4: 200\n",
      "  label 5: 200\n",
      "  label 6: 200\n",
      "  label 7: 200\n",
      "  label 8: 200\n",
      "  label 9: 200\n",
      "  label 10: 200\n",
      "  label 11: 200\n",
      "  label 12: 200\n",
      "  label 13: 200\n",
      "  label 14: 200\n",
      "  label 15: 200\n",
      "  label 16: 200\n",
      "  label 17: 200\n",
      "  label 18: 200\n",
      "  label 19: 200\n",
      "  label 20: 200\n",
      "  label 21: 200\n",
      "  label 22: 200\n",
      "  label 23: 200\n",
      "  label 24: 200\n",
      "  label 25: 200\n",
      "  label 26: 200\n",
      "  label 27: 200\n",
      "  label 28: 200\n",
      "  label 29: 200\n",
      "  label 30: 200\n",
      "  label 31: 200\n",
      "  label 32: 200\n",
      "  label 33: 200\n",
      "  label 34: 200\n",
      "  label 35: 200\n",
      "  label 36: 200\n",
      "  label 37: 200\n",
      "  label 38: 200\n",
      "  label 39: 200\n",
      "  label 40: 200\n",
      "  label 41: 200\n",
      "  label 42: 200\n",
      "  label 43: 200\n",
      "  label 44: 200\n",
      "  label 45: 242\n",
      "  label 46: 200\n",
      "  label 47: 200\n",
      "model is bert-base-uncased bilstm\n",
      "Epoch 1/20\n"
     ]
    },
    {
     "name": "stderr",
     "output_type": "stream",
     "text": [
      "100%|██████████| 745/745 [01:09<00:00, 10.73it/s]\n"
     ]
    },
    {
     "name": "stdout",
     "output_type": "stream",
     "text": [
      "{'val_loss': 1.5884884715807148, 'val_accuracy': 0.581998474446987, 'precision': 0.522581905005903, 'recall': 0.581998474446987, 'f1-score': 0.5249611891780314, 'macro_f1-score': 0.31303778052026315, 'balanced_accuracy': 0.34062800286459943, 'mcc': 0.4136371165234154, 'train_loss': 2.4419476374683766}\n",
      "Epoch 2/20\n"
     ]
    },
    {
     "name": "stderr",
     "output_type": "stream",
     "text": [
      "100%|██████████| 745/745 [01:09<00:00, 10.76it/s]\n"
     ]
    },
    {
     "name": "stdout",
     "output_type": "stream",
     "text": [
      "{'val_loss': 1.4080250128740217, 'val_accuracy': 0.6453089244851259, 'precision': 0.6520831252140684, 'recall': 0.6453089244851259, 'f1-score': 0.6224229714970789, 'macro_f1-score': 0.40888578363699435, 'balanced_accuracy': 0.42728972356193307, 'mcc': 0.5193200960872421, 'train_loss': 1.0743021933024361}\n",
      "Epoch 3/20\n"
     ]
    },
    {
     "name": "stderr",
     "output_type": "stream",
     "text": [
      "100%|██████████| 745/745 [01:09<00:00, 10.77it/s]\n"
     ]
    },
    {
     "name": "stdout",
     "output_type": "stream",
     "text": [
      "{'val_loss': 1.329610585439496, 'val_accuracy': 0.6681922196796338, 'precision': 0.6662758570745742, 'recall': 0.6681922196796338, 'f1-score': 0.6559289315997601, 'macro_f1-score': 0.4556188892653224, 'balanced_accuracy': 0.4500651099063436, 'mcc': 0.5590350287662195, 'train_loss': 0.5744320885047016}\n",
      "Epoch 4/20\n"
     ]
    },
    {
     "name": "stderr",
     "output_type": "stream",
     "text": [
      "100%|██████████| 745/745 [01:08<00:00, 10.80it/s]\n"
     ]
    },
    {
     "name": "stdout",
     "output_type": "stream",
     "text": [
      "{'val_loss': 1.5235918077026926, 'val_accuracy': 0.6674294431731502, 'precision': 0.6591674241252451, 'recall': 0.6674294431731502, 'f1-score': 0.6497444463294115, 'macro_f1-score': 0.43226078356216346, 'balanced_accuracy': 0.426316062411354, 'mcc': 0.5554972663081552, 'train_loss': 0.3731018465037314}\n",
      "Epoch 5/20\n"
     ]
    },
    {
     "name": "stderr",
     "output_type": "stream",
     "text": [
      "100%|██████████| 745/745 [01:09<00:00, 10.76it/s]\n"
     ]
    },
    {
     "name": "stdout",
     "output_type": "stream",
     "text": [
      "{'val_loss': 1.5608822518005603, 'val_accuracy': 0.6514111365369947, 'precision': 0.6679635699331777, 'recall': 0.6514111365369947, 'f1-score': 0.6477852929031892, 'macro_f1-score': 0.45442375045085875, 'balanced_accuracy': 0.4497339494082137, 'mcc': 0.548852164215723, 'train_loss': 0.25084694096406035}\n",
      "Epoch 6/20\n"
     ]
    },
    {
     "name": "stderr",
     "output_type": "stream",
     "text": [
      "100%|██████████| 745/745 [01:09<00:00, 10.76it/s]\n"
     ]
    },
    {
     "name": "stdout",
     "output_type": "stream",
     "text": [
      "{'val_loss': 1.6297301846306498, 'val_accuracy': 0.6712433257055682, 'precision': 0.6524842885960536, 'recall': 0.6712433257055682, 'f1-score': 0.6532890623929135, 'macro_f1-score': 0.4240929395521967, 'balanced_accuracy': 0.40747792190097326, 'mcc': 0.5586660428216985, 'train_loss': 0.17955667431897565}\n",
      "Early stopping.\n",
      "\n",
      " === bert-base-uncased + bilstm + word2vec Final 5-fold Cross-Validation Results ===\n",
      "val_loss: 1.5811\n",
      "val_accuracy: 0.6548\n",
      "precision: 0.6459\n",
      "recall: 0.6548\n",
      "f1-score: 0.6383\n",
      "macro_f1-score: 0.4154\n",
      "balanced_accuracy: 0.4038\n",
      "mcc: 0.5370\n",
      "train_loss: 0.3717\n",
      "total_seconds: 2894.0000\n",
      "total_time: 0 hrs 48 mins 14 secs\n",
      "▶ Running: roberta-base + plain + word2vec\n",
      "tokenizer is roberta-base\n",
      "Using device: cuda\n",
      "CUDA Available: True\n",
      "CUDA Device: NVIDIA GeForce RTX 5070 Ti\n",
      "Current GPU Memory Allocated: 0.02 GB\n",
      "Current GPU Memory Cached: 3.16 GB\n",
      "\n",
      "[Fold 1]\n",
      "🚀 Using Word2Vec for data augmentation\n",
      "🔧 Augmenting label 1: 21 → 200 (+179)\n",
      "🔧 Augmenting label 2: 64 → 200 (+136)\n",
      "🔧 Augmenting label 3: 24 → 200 (+176)\n",
      "🔧 Augmenting label 4: 191 → 200 (+9)\n",
      "🔧 Augmenting label 5: 113 → 200 (+87)\n",
      "🔧 Augmenting label 6: 93 → 200 (+107)\n",
      "🔧 Augmenting label 7: 30 → 200 (+170)\n",
      "🔧 Augmenting label 8: 68 → 200 (+132)\n",
      "🔧 Augmenting label 9: 30 → 200 (+170)\n",
      "🔧 Augmenting label 10: 67 → 200 (+133)\n",
      "🔧 Augmenting label 11: 169 → 200 (+31)\n",
      "🔧 Augmenting label 12: 189 → 200 (+11)\n",
      "🔧 Augmenting label 13: 29 → 200 (+171)\n",
      "🔧 Augmenting label 14: 22 → 200 (+178)\n",
      "🔧 Augmenting label 15: 25 → 200 (+175)\n",
      "🔧 Augmenting label 16: 19 → 200 (+181)\n",
      "🔧 Augmenting label 17: 183 → 200 (+17)\n",
      "🔧 Augmenting label 18: 92 → 200 (+108)\n",
      "🔧 Augmenting label 19: 44 → 200 (+156)\n",
      "🔧 Augmenting label 20: 13 → 200 (+187)\n",
      "🔧 Augmenting label 21: 35 → 200 (+165)\n",
      "🔧 Augmenting label 22: 76 → 200 (+124)\n",
      "🔧 Augmenting label 23: 158 → 200 (+42)\n",
      "🔧 Augmenting label 24: 13 → 200 (+187)\n",
      "🔧 Augmenting label 25: 44 → 200 (+156)\n",
      "🔧 Augmenting label 26: 84 → 200 (+116)\n",
      "🔧 Augmenting label 27: 48 → 200 (+152)\n",
      "🔧 Augmenting label 28: 11 → 200 (+189)\n",
      "🔧 Augmenting label 29: 13 → 200 (+187)\n",
      "🔧 Augmenting label 30: 11 → 200 (+189)\n",
      "🔧 Augmenting label 31: 75 → 200 (+125)\n",
      "🔧 Augmenting label 32: 36 → 200 (+164)\n",
      "🔧 Augmenting label 33: 32 → 200 (+168)\n",
      "🔧 Augmenting label 34: 29 → 200 (+171)\n",
      "🔧 Augmenting label 35: 11 → 200 (+189)\n",
      "🔧 Augmenting label 36: 22 → 200 (+178)\n",
      "🔧 Augmenting label 37: 16 → 200 (+184)\n",
      "🔧 Augmenting label 38: 33 → 200 (+167)\n",
      "🔧 Augmenting label 39: 10 → 200 (+190)\n",
      "🔧 Augmenting label 40: 9 → 200 (+191)\n",
      "🔧 Augmenting label 41: 57 → 200 (+143)\n",
      "🔧 Augmenting label 42: 19 → 200 (+181)\n",
      "🔧 Augmenting label 43: 8 → 200 (+192)\n",
      "🔧 Augmenting label 44: 54 → 200 (+146)\n",
      "🔧 Augmenting label 46: 61 → 200 (+139)\n",
      "🔧 Augmenting label 47: 80 → 200 (+120)\n",
      "Label distribution after resampling:\n",
      "  label 0: 2471\n",
      "  label 1: 200\n",
      "  label 2: 200\n",
      "  label 3: 200\n",
      "  label 4: 200\n",
      "  label 5: 200\n",
      "  label 6: 200\n",
      "  label 7: 200\n",
      "  label 8: 200\n",
      "  label 9: 200\n",
      "  label 10: 200\n",
      "  label 11: 200\n",
      "  label 12: 200\n",
      "  label 13: 200\n",
      "  label 14: 200\n",
      "  label 15: 200\n",
      "  label 16: 200\n",
      "  label 17: 200\n",
      "  label 18: 200\n",
      "  label 19: 200\n",
      "  label 20: 200\n",
      "  label 21: 200\n",
      "  label 22: 200\n",
      "  label 23: 200\n",
      "  label 24: 200\n",
      "  label 25: 200\n",
      "  label 26: 200\n",
      "  label 27: 200\n",
      "  label 28: 200\n",
      "  label 29: 200\n",
      "  label 30: 200\n",
      "  label 31: 200\n",
      "  label 32: 200\n",
      "  label 33: 200\n",
      "  label 34: 200\n",
      "  label 35: 200\n",
      "  label 36: 200\n",
      "  label 37: 200\n",
      "  label 38: 200\n",
      "  label 39: 200\n",
      "  label 40: 200\n",
      "  label 41: 200\n",
      "  label 42: 200\n",
      "  label 43: 200\n",
      "  label 44: 200\n",
      "  label 45: 242\n",
      "  label 46: 200\n",
      "  label 47: 200\n",
      "model is roberta-base\n"
     ]
    },
    {
     "name": "stderr",
     "output_type": "stream",
     "text": [
      "Some weights of RobertaForSequenceClassification were not initialized from the model checkpoint at roberta-base and are newly initialized: ['classifier.dense.bias', 'classifier.dense.weight', 'classifier.out_proj.bias', 'classifier.out_proj.weight']\n",
      "You should probably TRAIN this model on a down-stream task to be able to use it for predictions and inference.\n"
     ]
    },
    {
     "name": "stdout",
     "output_type": "stream",
     "text": [
      "Epoch 1/20\n"
     ]
    },
    {
     "name": "stderr",
     "output_type": "stream",
     "text": [
      "100%|██████████| 745/745 [01:03<00:00, 11.67it/s]\n"
     ]
    },
    {
     "name": "stdout",
     "output_type": "stream",
     "text": [
      "{'val_loss': 1.7850319623220257, 'val_accuracy': 0.5365853658536586, 'precision': 0.5701766696427699, 'recall': 0.5365853658536586, 'f1-score': 0.4887275258727973, 'macro_f1-score': 0.23294196933007602, 'balanced_accuracy': 0.3130579553217294, 'mcc': 0.36709983995326345, 'train_loss': 2.4653742290983263}\n",
      "Epoch 2/20\n"
     ]
    },
    {
     "name": "stderr",
     "output_type": "stream",
     "text": [
      "100%|██████████| 745/745 [01:03<00:00, 11.68it/s]\n"
     ]
    },
    {
     "name": "stdout",
     "output_type": "stream",
     "text": [
      "{'val_loss': 1.5999200111482201, 'val_accuracy': 0.5914634146341463, 'precision': 0.5961939734688989, 'recall': 0.5914634146341463, 'f1-score': 0.5579600549934879, 'macro_f1-score': 0.3419099986439795, 'balanced_accuracy': 0.391156182116063, 'mcc': 0.4440192399054793, 'train_loss': 1.1404590790303761}\n",
      "Epoch 3/20\n"
     ]
    },
    {
     "name": "stderr",
     "output_type": "stream",
     "text": [
      "100%|██████████| 745/745 [01:03<00:00, 11.68it/s]\n"
     ]
    },
    {
     "name": "stdout",
     "output_type": "stream",
     "text": [
      "{'val_loss': 1.662715172622262, 'val_accuracy': 0.6128048780487805, 'precision': 0.6155063396705561, 'recall': 0.6128048780487805, 'f1-score': 0.5922655103335377, 'macro_f1-score': 0.3731924352716382, 'balanced_accuracy': 0.3781597847731904, 'mcc': 0.4751641939605633, 'train_loss': 0.6658676874817617}\n",
      "Epoch 4/20\n"
     ]
    },
    {
     "name": "stderr",
     "output_type": "stream",
     "text": [
      "100%|██████████| 745/745 [01:03<00:00, 11.68it/s]\n"
     ]
    },
    {
     "name": "stdout",
     "output_type": "stream",
     "text": [
      "{'val_loss': 1.7014146541676871, 'val_accuracy': 0.59375, 'precision': 0.6072616807871788, 'recall': 0.59375, 'f1-score': 0.5882051735495873, 'macro_f1-score': 0.381502971816367, 'balanced_accuracy': 0.42485396167599115, 'mcc': 0.46941355557129794, 'train_loss': 0.449147415471157}\n",
      "Epoch 5/20\n"
     ]
    },
    {
     "name": "stderr",
     "output_type": "stream",
     "text": [
      "100%|██████████| 745/745 [01:03<00:00, 11.70it/s]\n"
     ]
    },
    {
     "name": "stdout",
     "output_type": "stream",
     "text": [
      "{'val_loss': 1.7647685237774036, 'val_accuracy': 0.625, 'precision': 0.6164822818348832, 'recall': 0.625, 'f1-score': 0.6064319823215923, 'macro_f1-score': 0.3812335248422973, 'balanced_accuracy': 0.37738647196840996, 'mcc': 0.4912082383179053, 'train_loss': 0.3266503815407921}\n",
      "Epoch 6/20\n"
     ]
    },
    {
     "name": "stderr",
     "output_type": "stream",
     "text": [
      "100%|██████████| 745/745 [01:03<00:00, 11.68it/s]\n"
     ]
    },
    {
     "name": "stdout",
     "output_type": "stream",
     "text": [
      "{'val_loss': 1.8079799275572708, 'val_accuracy': 0.6051829268292683, 'precision': 0.639374834093076, 'recall': 0.6051829268292683, 'f1-score': 0.6068762096949876, 'macro_f1-score': 0.4074540729165375, 'balanced_accuracy': 0.4173762882577898, 'mcc': 0.4867220090943754, 'train_loss': 0.2622655929210002}\n",
      "Epoch 7/20\n"
     ]
    },
    {
     "name": "stderr",
     "output_type": "stream",
     "text": [
      "100%|██████████| 745/745 [01:03<00:00, 11.68it/s]\n"
     ]
    },
    {
     "name": "stdout",
     "output_type": "stream",
     "text": [
      "{'val_loss': 1.9588671948124723, 'val_accuracy': 0.6112804878048781, 'precision': 0.6258455839190251, 'recall': 0.6112804878048781, 'f1-score': 0.6015990948080097, 'macro_f1-score': 0.3561092607656535, 'balanced_accuracy': 0.3671567702225796, 'mcc': 0.4831994332267376, 'train_loss': 0.22262720064253816}\n",
      "Epoch 8/20\n"
     ]
    },
    {
     "name": "stderr",
     "output_type": "stream",
     "text": [
      "100%|██████████| 745/745 [01:03<00:00, 11.68it/s]\n"
     ]
    },
    {
     "name": "stdout",
     "output_type": "stream",
     "text": [
      "{'val_loss': 1.9935835556286137, 'val_accuracy': 0.635670731707317, 'precision': 0.6124130248542932, 'recall': 0.635670731707317, 'f1-score': 0.6068639651242662, 'macro_f1-score': 0.3996807265332629, 'balanced_accuracy': 0.375080701040524, 'mcc': 0.49716858946267845, 'train_loss': 0.18235350057182695}\n",
      "Epoch 9/20\n"
     ]
    },
    {
     "name": "stderr",
     "output_type": "stream",
     "text": [
      "100%|██████████| 745/745 [01:03<00:00, 11.69it/s]\n"
     ]
    },
    {
     "name": "stdout",
     "output_type": "stream",
     "text": [
      "{'val_loss': 2.127795336268297, 'val_accuracy': 0.6379573170731707, 'precision': 0.6293931559539572, 'recall': 0.6379573170731707, 'f1-score': 0.6222028764558596, 'macro_f1-score': 0.41618213705816015, 'balanced_accuracy': 0.4096634023387175, 'mcc': 0.5100205395287083, 'train_loss': 0.1574136239145226}\n",
      "Epoch 10/20\n"
     ]
    },
    {
     "name": "stderr",
     "output_type": "stream",
     "text": [
      "100%|██████████| 745/745 [01:03<00:00, 11.70it/s]\n"
     ]
    },
    {
     "name": "stdout",
     "output_type": "stream",
     "text": [
      "{'val_loss': 2.0805771292709725, 'val_accuracy': 0.6371951219512195, 'precision': 0.6277106946983438, 'recall': 0.6371951219512195, 'f1-score': 0.6178668499944714, 'macro_f1-score': 0.40417732314458243, 'balanced_accuracy': 0.4086956466738158, 'mcc': 0.5101178153721548, 'train_loss': 0.14284523934588436}\n",
      "Epoch 11/20\n"
     ]
    },
    {
     "name": "stderr",
     "output_type": "stream",
     "text": [
      "100%|██████████| 745/745 [01:03<00:00, 11.68it/s]\n"
     ]
    },
    {
     "name": "stdout",
     "output_type": "stream",
     "text": [
      "{'val_loss': 2.1801778634146944, 'val_accuracy': 0.6448170731707317, 'precision': 0.6282042739838911, 'recall': 0.6448170731707317, 'f1-score': 0.6194927365452414, 'macro_f1-score': 0.39303244048883657, 'balanced_accuracy': 0.388043238340124, 'mcc': 0.5134131855087685, 'train_loss': 0.12208440137539533}\n",
      "Epoch 12/20\n"
     ]
    },
    {
     "name": "stderr",
     "output_type": "stream",
     "text": [
      "100%|██████████| 745/745 [01:03<00:00, 11.68it/s]\n"
     ]
    },
    {
     "name": "stdout",
     "output_type": "stream",
     "text": [
      "{'val_loss': 2.258041450890099, 'val_accuracy': 0.6448170731707317, 'precision': 0.6223698427888165, 'recall': 0.6448170731707317, 'f1-score': 0.6199874701391336, 'macro_f1-score': 0.3900916094191742, 'balanced_accuracy': 0.36114502858641956, 'mcc': 0.5108436706338771, 'train_loss': 0.12236220624154096}\n",
      "Early stopping.\n",
      "\n",
      "[Fold 2]\n",
      "🚀 Using Word2Vec for data augmentation\n",
      "🔧 Augmenting label 1: 22 → 200 (+178)\n",
      "🔧 Augmenting label 2: 64 → 200 (+136)\n",
      "🔧 Augmenting label 3: 24 → 200 (+176)\n",
      "🔧 Augmenting label 4: 190 → 200 (+10)\n",
      "🔧 Augmenting label 5: 113 → 200 (+87)\n",
      "🔧 Augmenting label 6: 93 → 200 (+107)\n",
      "🔧 Augmenting label 7: 30 → 200 (+170)\n",
      "🔧 Augmenting label 8: 68 → 200 (+132)\n",
      "🔧 Augmenting label 9: 30 → 200 (+170)\n",
      "🔧 Augmenting label 10: 67 → 200 (+133)\n",
      "🔧 Augmenting label 11: 169 → 200 (+31)\n",
      "🔧 Augmenting label 12: 189 → 200 (+11)\n",
      "🔧 Augmenting label 13: 29 → 200 (+171)\n",
      "🔧 Augmenting label 14: 23 → 200 (+177)\n",
      "🔧 Augmenting label 15: 24 → 200 (+176)\n",
      "🔧 Augmenting label 16: 20 → 200 (+180)\n",
      "🔧 Augmenting label 17: 182 → 200 (+18)\n",
      "🔧 Augmenting label 18: 92 → 200 (+108)\n",
      "🔧 Augmenting label 19: 44 → 200 (+156)\n",
      "🔧 Augmenting label 20: 13 → 200 (+187)\n",
      "🔧 Augmenting label 21: 36 → 200 (+164)\n",
      "🔧 Augmenting label 22: 76 → 200 (+124)\n",
      "🔧 Augmenting label 23: 157 → 200 (+43)\n",
      "🔧 Augmenting label 24: 12 → 200 (+188)\n",
      "🔧 Augmenting label 25: 44 → 200 (+156)\n",
      "🔧 Augmenting label 26: 84 → 200 (+116)\n",
      "🔧 Augmenting label 27: 48 → 200 (+152)\n",
      "🔧 Augmenting label 28: 12 → 200 (+188)\n",
      "🔧 Augmenting label 29: 12 → 200 (+188)\n",
      "🔧 Augmenting label 30: 12 → 200 (+188)\n",
      "🔧 Augmenting label 31: 75 → 200 (+125)\n",
      "🔧 Augmenting label 32: 36 → 200 (+164)\n",
      "🔧 Augmenting label 33: 31 → 200 (+169)\n",
      "🔧 Augmenting label 34: 29 → 200 (+171)\n",
      "🔧 Augmenting label 35: 12 → 200 (+188)\n",
      "🔧 Augmenting label 36: 21 → 200 (+179)\n",
      "🔧 Augmenting label 37: 16 → 200 (+184)\n",
      "🔧 Augmenting label 38: 33 → 200 (+167)\n",
      "🔧 Augmenting label 39: 11 → 200 (+189)\n",
      "🔧 Augmenting label 40: 8 → 200 (+192)\n",
      "🔧 Augmenting label 41: 57 → 200 (+143)\n",
      "🔧 Augmenting label 42: 19 → 200 (+181)\n",
      "🔧 Augmenting label 43: 9 → 200 (+191)\n",
      "🔧 Augmenting label 44: 54 → 200 (+146)\n",
      "🔧 Augmenting label 46: 62 → 200 (+138)\n",
      "🔧 Augmenting label 47: 80 → 200 (+120)\n",
      "Label distribution after resampling:\n",
      "  label 0: 2471\n",
      "  label 1: 200\n",
      "  label 2: 200\n",
      "  label 3: 200\n",
      "  label 4: 200\n",
      "  label 5: 200\n",
      "  label 6: 200\n",
      "  label 7: 200\n",
      "  label 8: 200\n",
      "  label 9: 200\n",
      "  label 10: 200\n",
      "  label 11: 200\n",
      "  label 12: 200\n",
      "  label 13: 200\n",
      "  label 14: 200\n",
      "  label 15: 200\n",
      "  label 16: 200\n",
      "  label 17: 200\n",
      "  label 18: 200\n",
      "  label 19: 200\n",
      "  label 20: 200\n",
      "  label 21: 200\n",
      "  label 22: 200\n",
      "  label 23: 200\n",
      "  label 24: 200\n",
      "  label 25: 200\n",
      "  label 26: 200\n",
      "  label 27: 200\n",
      "  label 28: 200\n",
      "  label 29: 200\n",
      "  label 30: 200\n",
      "  label 31: 200\n",
      "  label 32: 200\n",
      "  label 33: 200\n",
      "  label 34: 200\n",
      "  label 35: 200\n",
      "  label 36: 200\n",
      "  label 37: 200\n",
      "  label 38: 200\n",
      "  label 39: 200\n",
      "  label 40: 200\n",
      "  label 41: 200\n",
      "  label 42: 200\n",
      "  label 43: 200\n",
      "  label 44: 200\n",
      "  label 45: 242\n",
      "  label 46: 200\n",
      "  label 47: 200\n",
      "model is roberta-base\n"
     ]
    },
    {
     "name": "stderr",
     "output_type": "stream",
     "text": [
      "Some weights of RobertaForSequenceClassification were not initialized from the model checkpoint at roberta-base and are newly initialized: ['classifier.dense.bias', 'classifier.dense.weight', 'classifier.out_proj.bias', 'classifier.out_proj.weight']\n",
      "You should probably TRAIN this model on a down-stream task to be able to use it for predictions and inference.\n"
     ]
    },
    {
     "name": "stdout",
     "output_type": "stream",
     "text": [
      "Epoch 1/20\n"
     ]
    },
    {
     "name": "stderr",
     "output_type": "stream",
     "text": [
      "100%|██████████| 745/745 [01:03<00:00, 11.68it/s]\n"
     ]
    },
    {
     "name": "stdout",
     "output_type": "stream",
     "text": [
      "{'val_loss': 1.6222931197503718, 'val_accuracy': 0.5583524027459954, 'precision': 0.5720923113010062, 'recall': 0.5583524027459954, 'f1-score': 0.5143615001480082, 'macro_f1-score': 0.26560383981562335, 'balanced_accuracy': 0.3329101300643602, 'mcc': 0.3969655923168847, 'train_loss': 2.4657292162011935}\n",
      "Epoch 2/20\n"
     ]
    },
    {
     "name": "stderr",
     "output_type": "stream",
     "text": [
      "100%|██████████| 745/745 [01:03<00:00, 11.70it/s]\n"
     ]
    },
    {
     "name": "stdout",
     "output_type": "stream",
     "text": [
      "{'val_loss': 1.5070921742334598, 'val_accuracy': 0.6079328756674295, 'precision': 0.6275934857911469, 'recall': 0.6079328756674295, 'f1-score': 0.5941682017540036, 'macro_f1-score': 0.36740720865816784, 'balanced_accuracy': 0.40990852605563083, 'mcc': 0.4769409612114592, 'train_loss': 1.112466185284941}\n",
      "Epoch 3/20\n"
     ]
    },
    {
     "name": "stderr",
     "output_type": "stream",
     "text": [
      "100%|██████████| 745/745 [01:03<00:00, 11.69it/s]\n"
     ]
    },
    {
     "name": "stdout",
     "output_type": "stream",
     "text": [
      "{'val_loss': 1.5567806039641543, 'val_accuracy': 0.6147978642257819, 'precision': 0.6168834081978853, 'recall': 0.6147978642257819, 'f1-score': 0.5889459897117015, 'macro_f1-score': 0.3553458661799991, 'balanced_accuracy': 0.3704032474421312, 'mcc': 0.47026830656953883, 'train_loss': 0.6283451695870234}\n",
      "Epoch 4/20\n"
     ]
    },
    {
     "name": "stderr",
     "output_type": "stream",
     "text": [
      "100%|██████████| 745/745 [01:03<00:00, 11.69it/s]\n"
     ]
    },
    {
     "name": "stdout",
     "output_type": "stream",
     "text": [
      "{'val_loss': 1.7222180868067392, 'val_accuracy': 0.5911517925247902, 'precision': 0.6328013113173587, 'recall': 0.5911517925247902, 'f1-score': 0.6001928177286917, 'macro_f1-score': 0.37374208071661297, 'balanced_accuracy': 0.4075919869312459, 'mcc': 0.4801482840227397, 'train_loss': 0.40465084177835675}\n",
      "Epoch 5/20\n"
     ]
    },
    {
     "name": "stderr",
     "output_type": "stream",
     "text": [
      "100%|██████████| 745/745 [01:03<00:00, 11.68it/s]\n"
     ]
    },
    {
     "name": "stdout",
     "output_type": "stream",
     "text": [
      "{'val_loss': 1.7476841894591726, 'val_accuracy': 0.6323417238749046, 'precision': 0.6174242642013672, 'recall': 0.6323417238749046, 'f1-score': 0.5950728383092939, 'macro_f1-score': 0.3609272936035584, 'balanced_accuracy': 0.35059088736780836, 'mcc': 0.4901059130250313, 'train_loss': 0.3017801296940986}\n",
      "Epoch 6/20\n"
     ]
    },
    {
     "name": "stderr",
     "output_type": "stream",
     "text": [
      "100%|██████████| 745/745 [01:03<00:00, 11.69it/s]\n"
     ]
    },
    {
     "name": "stdout",
     "output_type": "stream",
     "text": [
      "{'val_loss': 1.8989833375302756, 'val_accuracy': 0.6231884057971014, 'precision': 0.6201209748664652, 'recall': 0.6231884057971014, 'f1-score': 0.6026627422307844, 'macro_f1-score': 0.37927056254346553, 'balanced_accuracy': 0.3781663981950297, 'mcc': 0.4849055496342459, 'train_loss': 0.23405476097492564}\n",
      "Epoch 7/20\n"
     ]
    },
    {
     "name": "stderr",
     "output_type": "stream",
     "text": [
      "100%|██████████| 745/745 [01:03<00:00, 11.69it/s]\n"
     ]
    },
    {
     "name": "stdout",
     "output_type": "stream",
     "text": [
      "{'val_loss': 1.9473420737720117, 'val_accuracy': 0.6224256292906178, 'precision': 0.6167858937745265, 'recall': 0.6224256292906178, 'f1-score': 0.6032469204848708, 'macro_f1-score': 0.36220891896656354, 'balanced_accuracy': 0.3539481140434946, 'mcc': 0.487708328515827, 'train_loss': 0.2020601545766796}\n",
      "Epoch 8/20\n"
     ]
    },
    {
     "name": "stderr",
     "output_type": "stream",
     "text": [
      "100%|██████████| 745/745 [01:03<00:00, 11.69it/s]\n"
     ]
    },
    {
     "name": "stdout",
     "output_type": "stream",
     "text": [
      "{'val_loss': 1.9473071012918541, 'val_accuracy': 0.6384439359267735, 'precision': 0.6385170760376434, 'recall': 0.6384439359267735, 'f1-score': 0.6314805113331365, 'macro_f1-score': 0.38981215997063784, 'balanced_accuracy': 0.42067128540394433, 'mcc': 0.5276588551573097, 'train_loss': 0.15773979872340124}\n",
      "Epoch 9/20\n"
     ]
    },
    {
     "name": "stderr",
     "output_type": "stream",
     "text": [
      "100%|██████████| 745/745 [01:03<00:00, 11.70it/s]\n"
     ]
    },
    {
     "name": "stdout",
     "output_type": "stream",
     "text": [
      "{'val_loss': 1.9682275769187183, 'val_accuracy': 0.620137299771167, 'precision': 0.6218345779477226, 'recall': 0.620137299771167, 'f1-score': 0.6078847017058295, 'macro_f1-score': 0.36119171328039995, 'balanced_accuracy': 0.3804573626597616, 'mcc': 0.4948158535262828, 'train_loss': 0.16602744847886114}\n",
      "Epoch 10/20\n"
     ]
    },
    {
     "name": "stderr",
     "output_type": "stream",
     "text": [
      "100%|██████████| 745/745 [01:03<00:00, 11.68it/s]\n"
     ]
    },
    {
     "name": "stdout",
     "output_type": "stream",
     "text": [
      "{'val_loss': 2.0003567025428866, 'val_accuracy': 0.6460717009916095, 'precision': 0.6254040537074728, 'recall': 0.6460717009916095, 'f1-score': 0.6223892502719817, 'macro_f1-score': 0.3671167824221589, 'balanced_accuracy': 0.3670796933065799, 'mcc': 0.5203748023115025, 'train_loss': 0.11801840543321915}\n",
      "Epoch 11/20\n"
     ]
    },
    {
     "name": "stderr",
     "output_type": "stream",
     "text": [
      "100%|██████████| 745/745 [01:03<00:00, 11.69it/s]\n"
     ]
    },
    {
     "name": "stdout",
     "output_type": "stream",
     "text": [
      "{'val_loss': 2.0666157356122645, 'val_accuracy': 0.6270022883295194, 'precision': 0.6208129273660237, 'recall': 0.6270022883295194, 'f1-score': 0.6144436130851584, 'macro_f1-score': 0.37697025270752693, 'balanced_accuracy': 0.3886698936579626, 'mcc': 0.5085547385035456, 'train_loss': 0.10651562134704033}\n",
      "Early stopping.\n",
      "\n",
      "[Fold 3]\n",
      "🚀 Using Word2Vec for data augmentation\n",
      "🔧 Augmenting label 1: 22 → 200 (+178)\n",
      "🔧 Augmenting label 2: 64 → 200 (+136)\n",
      "🔧 Augmenting label 3: 24 → 200 (+176)\n",
      "🔧 Augmenting label 4: 190 → 200 (+10)\n",
      "🔧 Augmenting label 5: 113 → 200 (+87)\n",
      "🔧 Augmenting label 6: 93 → 200 (+107)\n",
      "🔧 Augmenting label 7: 30 → 200 (+170)\n",
      "🔧 Augmenting label 8: 68 → 200 (+132)\n",
      "🔧 Augmenting label 9: 30 → 200 (+170)\n",
      "🔧 Augmenting label 10: 67 → 200 (+133)\n",
      "🔧 Augmenting label 11: 169 → 200 (+31)\n",
      "🔧 Augmenting label 12: 190 → 200 (+10)\n",
      "🔧 Augmenting label 13: 28 → 200 (+172)\n",
      "🔧 Augmenting label 14: 23 → 200 (+177)\n",
      "🔧 Augmenting label 15: 25 → 200 (+175)\n",
      "🔧 Augmenting label 16: 19 → 200 (+181)\n",
      "🔧 Augmenting label 17: 182 → 200 (+18)\n",
      "🔧 Augmenting label 18: 92 → 200 (+108)\n",
      "🔧 Augmenting label 19: 44 → 200 (+156)\n",
      "🔧 Augmenting label 20: 14 → 200 (+186)\n",
      "🔧 Augmenting label 21: 35 → 200 (+165)\n",
      "🔧 Augmenting label 22: 76 → 200 (+124)\n",
      "🔧 Augmenting label 23: 157 → 200 (+43)\n",
      "🔧 Augmenting label 24: 13 → 200 (+187)\n",
      "🔧 Augmenting label 25: 44 → 200 (+156)\n",
      "🔧 Augmenting label 26: 84 → 200 (+116)\n",
      "🔧 Augmenting label 27: 48 → 200 (+152)\n",
      "🔧 Augmenting label 28: 11 → 200 (+189)\n",
      "🔧 Augmenting label 29: 13 → 200 (+187)\n",
      "🔧 Augmenting label 30: 11 → 200 (+189)\n",
      "🔧 Augmenting label 31: 76 → 200 (+124)\n",
      "🔧 Augmenting label 32: 36 → 200 (+164)\n",
      "🔧 Augmenting label 33: 31 → 200 (+169)\n",
      "🔧 Augmenting label 34: 30 → 200 (+170)\n",
      "🔧 Augmenting label 35: 11 → 200 (+189)\n",
      "🔧 Augmenting label 36: 21 → 200 (+179)\n",
      "🔧 Augmenting label 37: 16 → 200 (+184)\n",
      "🔧 Augmenting label 38: 32 → 200 (+168)\n",
      "🔧 Augmenting label 39: 11 → 200 (+189)\n",
      "🔧 Augmenting label 40: 9 → 200 (+191)\n",
      "🔧 Augmenting label 41: 57 → 200 (+143)\n",
      "🔧 Augmenting label 42: 18 → 200 (+182)\n",
      "🔧 Augmenting label 43: 9 → 200 (+191)\n",
      "🔧 Augmenting label 44: 55 → 200 (+145)\n",
      "🔧 Augmenting label 46: 62 → 200 (+138)\n",
      "🔧 Augmenting label 47: 80 → 200 (+120)\n",
      "Label distribution after resampling:\n",
      "  label 0: 2471\n",
      "  label 1: 200\n",
      "  label 2: 200\n",
      "  label 3: 200\n",
      "  label 4: 200\n",
      "  label 5: 200\n",
      "  label 6: 200\n",
      "  label 7: 200\n",
      "  label 8: 200\n",
      "  label 9: 200\n",
      "  label 10: 200\n",
      "  label 11: 200\n",
      "  label 12: 200\n",
      "  label 13: 200\n",
      "  label 14: 200\n",
      "  label 15: 200\n",
      "  label 16: 200\n",
      "  label 17: 200\n",
      "  label 18: 200\n",
      "  label 19: 200\n",
      "  label 20: 200\n",
      "  label 21: 200\n",
      "  label 22: 200\n",
      "  label 23: 200\n",
      "  label 24: 200\n",
      "  label 25: 200\n",
      "  label 26: 200\n",
      "  label 27: 200\n",
      "  label 28: 200\n",
      "  label 29: 200\n",
      "  label 30: 200\n",
      "  label 31: 200\n",
      "  label 32: 200\n",
      "  label 33: 200\n",
      "  label 34: 200\n",
      "  label 35: 200\n",
      "  label 36: 200\n",
      "  label 37: 200\n",
      "  label 38: 200\n",
      "  label 39: 200\n",
      "  label 40: 200\n",
      "  label 41: 200\n",
      "  label 42: 200\n",
      "  label 43: 200\n",
      "  label 44: 200\n",
      "  label 45: 241\n",
      "  label 46: 200\n",
      "  label 47: 200\n",
      "model is roberta-base\n"
     ]
    },
    {
     "name": "stderr",
     "output_type": "stream",
     "text": [
      "Some weights of RobertaForSequenceClassification were not initialized from the model checkpoint at roberta-base and are newly initialized: ['classifier.dense.bias', 'classifier.dense.weight', 'classifier.out_proj.bias', 'classifier.out_proj.weight']\n",
      "You should probably TRAIN this model on a down-stream task to be able to use it for predictions and inference.\n"
     ]
    },
    {
     "name": "stdout",
     "output_type": "stream",
     "text": [
      "Epoch 1/20\n"
     ]
    },
    {
     "name": "stderr",
     "output_type": "stream",
     "text": [
      "100%|██████████| 745/745 [01:03<00:00, 11.68it/s]\n"
     ]
    },
    {
     "name": "stdout",
     "output_type": "stream",
     "text": [
      "{'val_loss': 1.8402981954376871, 'val_accuracy': 0.4958047292143402, 'precision': 0.5374088093036148, 'recall': 0.4958047292143402, 'f1-score': 0.45297229782225146, 'macro_f1-score': 0.2118605695985977, 'balanced_accuracy': 0.2705856780330325, 'mcc': 0.3061053933074839, 'train_loss': 2.568925489755285}\n",
      "Epoch 2/20\n"
     ]
    },
    {
     "name": "stderr",
     "output_type": "stream",
     "text": [
      "100%|██████████| 745/745 [01:03<00:00, 11.69it/s]\n"
     ]
    },
    {
     "name": "stdout",
     "output_type": "stream",
     "text": [
      "{'val_loss': 1.531091748032628, 'val_accuracy': 0.6079328756674295, 'precision': 0.5977607398471497, 'recall': 0.6079328756674295, 'f1-score': 0.5854774718237182, 'macro_f1-score': 0.33422983071717516, 'balanced_accuracy': 0.3553106550186513, 'mcc': 0.47109254426727065, 'train_loss': 1.119192321128493}\n",
      "Epoch 3/20\n"
     ]
    },
    {
     "name": "stderr",
     "output_type": "stream",
     "text": [
      "100%|██████████| 745/745 [01:03<00:00, 11.69it/s]\n"
     ]
    },
    {
     "name": "stdout",
     "output_type": "stream",
     "text": [
      "{'val_loss': 1.6803281387177909, 'val_accuracy': 0.6064073226544623, 'precision': 0.6202537912474375, 'recall': 0.6064073226544623, 'f1-score': 0.5973953451946542, 'macro_f1-score': 0.37378396605921854, 'balanced_accuracy': 0.3951471704955516, 'mcc': 0.4776210022441298, 'train_loss': 0.6129161551694742}\n",
      "Epoch 4/20\n"
     ]
    },
    {
     "name": "stderr",
     "output_type": "stream",
     "text": [
      "100%|██████████| 745/745 [01:03<00:00, 11.68it/s]\n"
     ]
    },
    {
     "name": "stdout",
     "output_type": "stream",
     "text": [
      "{'val_loss': 1.6825398810026122, 'val_accuracy': 0.6209000762776506, 'precision': 0.6237070426778302, 'recall': 0.6209000762776506, 'f1-score': 0.612279540095267, 'macro_f1-score': 0.370070938094387, 'balanced_accuracy': 0.3665546244526367, 'mcc': 0.4959656470002801, 'train_loss': 0.3886253455541278}\n",
      "Epoch 5/20\n"
     ]
    },
    {
     "name": "stderr",
     "output_type": "stream",
     "text": [
      "100%|██████████| 745/745 [01:03<00:00, 11.68it/s]\n"
     ]
    },
    {
     "name": "stdout",
     "output_type": "stream",
     "text": [
      "{'val_loss': 1.8465540888832837, 'val_accuracy': 0.6224256292906178, 'precision': 0.6269049717408368, 'recall': 0.6224256292906178, 'f1-score': 0.6083334773125144, 'macro_f1-score': 0.3684268918845412, 'balanced_accuracy': 0.3515586122448959, 'mcc': 0.4895708883749095, 'train_loss': 0.26807108542088093}\n",
      "Epoch 6/20\n"
     ]
    },
    {
     "name": "stderr",
     "output_type": "stream",
     "text": [
      "100%|██████████| 745/745 [01:03<00:00, 11.68it/s]\n"
     ]
    },
    {
     "name": "stdout",
     "output_type": "stream",
     "text": [
      "{'val_loss': 1.878530853586953, 'val_accuracy': 0.6224256292906178, 'precision': 0.6234254778341026, 'recall': 0.6224256292906178, 'f1-score': 0.6150289818476954, 'macro_f1-score': 0.39174442633510137, 'balanced_accuracy': 0.3776440793574194, 'mcc': 0.4979127563958491, 'train_loss': 0.21627456785723467}\n",
      "Epoch 7/20\n"
     ]
    },
    {
     "name": "stderr",
     "output_type": "stream",
     "text": [
      "100%|██████████| 745/745 [01:03<00:00, 11.69it/s]\n"
     ]
    },
    {
     "name": "stdout",
     "output_type": "stream",
     "text": [
      "{'val_loss': 1.963963542406152, 'val_accuracy': 0.6247139588100686, 'precision': 0.6187395883087681, 'recall': 0.6247139588100686, 'f1-score': 0.6111099132212593, 'macro_f1-score': 0.38101254424142184, 'balanced_accuracy': 0.3831956703594364, 'mcc': 0.4977205809908476, 'train_loss': 0.18602618484026534}\n",
      "Epoch 8/20\n"
     ]
    },
    {
     "name": "stderr",
     "output_type": "stream",
     "text": [
      "100%|██████████| 745/745 [01:03<00:00, 11.69it/s]\n"
     ]
    },
    {
     "name": "stdout",
     "output_type": "stream",
     "text": [
      "{'val_loss': 2.141056094409489, 'val_accuracy': 0.6033562166285278, 'precision': 0.6040041943393484, 'recall': 0.6033562166285278, 'f1-score': 0.5914334443835036, 'macro_f1-score': 0.33945735996350135, 'balanced_accuracy': 0.3265186262438804, 'mcc': 0.46522215537966, 'train_loss': 0.1295002905201892}\n",
      "Epoch 9/20\n"
     ]
    },
    {
     "name": "stderr",
     "output_type": "stream",
     "text": [
      "100%|██████████| 745/745 [01:03<00:00, 11.69it/s]\n"
     ]
    },
    {
     "name": "stdout",
     "output_type": "stream",
     "text": [
      "{'val_loss': 1.9942570079754038, 'val_accuracy': 0.6323417238749046, 'precision': 0.6182741875737953, 'recall': 0.6323417238749046, 'f1-score': 0.617454288471821, 'macro_f1-score': 0.37001416286685057, 'balanced_accuracy': 0.35247550552292956, 'mcc': 0.5061161705167524, 'train_loss': 0.1526125699006671}\n",
      "Early stopping.\n",
      "\n",
      "[Fold 4]\n",
      "🚀 Using Word2Vec for data augmentation\n",
      "🔧 Augmenting label 1: 22 → 200 (+178)\n",
      "🔧 Augmenting label 2: 64 → 200 (+136)\n",
      "🔧 Augmenting label 3: 24 → 200 (+176)\n",
      "🔧 Augmenting label 4: 190 → 200 (+10)\n",
      "🔧 Augmenting label 5: 113 → 200 (+87)\n",
      "🔧 Augmenting label 6: 93 → 200 (+107)\n",
      "🔧 Augmenting label 7: 31 → 200 (+169)\n",
      "🔧 Augmenting label 8: 68 → 200 (+132)\n",
      "🔧 Augmenting label 9: 29 → 200 (+171)\n",
      "🔧 Augmenting label 10: 67 → 200 (+133)\n",
      "🔧 Augmenting label 11: 169 → 200 (+31)\n",
      "🔧 Augmenting label 12: 190 → 200 (+10)\n",
      "🔧 Augmenting label 13: 29 → 200 (+171)\n",
      "🔧 Augmenting label 14: 22 → 200 (+178)\n",
      "🔧 Augmenting label 15: 25 → 200 (+175)\n",
      "🔧 Augmenting label 16: 19 → 200 (+181)\n",
      "🔧 Augmenting label 17: 182 → 200 (+18)\n",
      "🔧 Augmenting label 18: 92 → 200 (+108)\n",
      "🔧 Augmenting label 19: 44 → 200 (+156)\n",
      "🔧 Augmenting label 20: 14 → 200 (+186)\n",
      "🔧 Augmenting label 21: 35 → 200 (+165)\n",
      "🔧 Augmenting label 22: 76 → 200 (+124)\n",
      "🔧 Augmenting label 23: 158 → 200 (+42)\n",
      "🔧 Augmenting label 24: 13 → 200 (+187)\n",
      "🔧 Augmenting label 25: 44 → 200 (+156)\n",
      "🔧 Augmenting label 26: 84 → 200 (+116)\n",
      "🔧 Augmenting label 27: 48 → 200 (+152)\n",
      "🔧 Augmenting label 28: 11 → 200 (+189)\n",
      "🔧 Augmenting label 29: 13 → 200 (+187)\n",
      "🔧 Augmenting label 30: 11 → 200 (+189)\n",
      "🔧 Augmenting label 31: 75 → 200 (+125)\n",
      "🔧 Augmenting label 32: 36 → 200 (+164)\n",
      "🔧 Augmenting label 33: 31 → 200 (+169)\n",
      "🔧 Augmenting label 34: 30 → 200 (+170)\n",
      "🔧 Augmenting label 35: 11 → 200 (+189)\n",
      "🔧 Augmenting label 36: 22 → 200 (+178)\n",
      "🔧 Augmenting label 37: 16 → 200 (+184)\n",
      "🔧 Augmenting label 38: 33 → 200 (+167)\n",
      "🔧 Augmenting label 39: 10 → 200 (+190)\n",
      "🔧 Augmenting label 40: 9 → 200 (+191)\n",
      "🔧 Augmenting label 41: 56 → 200 (+144)\n",
      "🔧 Augmenting label 42: 18 → 200 (+182)\n",
      "🔧 Augmenting label 43: 9 → 200 (+191)\n",
      "🔧 Augmenting label 44: 55 → 200 (+145)\n",
      "🔧 Augmenting label 46: 62 → 200 (+138)\n",
      "🔧 Augmenting label 47: 80 → 200 (+120)\n",
      "Label distribution after resampling:\n",
      "  label 0: 2471\n",
      "  label 1: 200\n",
      "  label 2: 200\n",
      "  label 3: 200\n",
      "  label 4: 200\n",
      "  label 5: 200\n",
      "  label 6: 200\n",
      "  label 7: 200\n",
      "  label 8: 200\n",
      "  label 9: 200\n",
      "  label 10: 200\n",
      "  label 11: 200\n",
      "  label 12: 200\n",
      "  label 13: 200\n",
      "  label 14: 200\n",
      "  label 15: 200\n",
      "  label 16: 200\n",
      "  label 17: 200\n",
      "  label 18: 200\n",
      "  label 19: 200\n",
      "  label 20: 200\n",
      "  label 21: 200\n",
      "  label 22: 200\n",
      "  label 23: 200\n",
      "  label 24: 200\n",
      "  label 25: 200\n",
      "  label 26: 200\n",
      "  label 27: 200\n",
      "  label 28: 200\n",
      "  label 29: 200\n",
      "  label 30: 200\n",
      "  label 31: 200\n",
      "  label 32: 200\n",
      "  label 33: 200\n",
      "  label 34: 200\n",
      "  label 35: 200\n",
      "  label 36: 200\n",
      "  label 37: 200\n",
      "  label 38: 200\n",
      "  label 39: 200\n",
      "  label 40: 200\n",
      "  label 41: 200\n",
      "  label 42: 200\n",
      "  label 43: 200\n",
      "  label 44: 200\n",
      "  label 45: 241\n",
      "  label 46: 200\n",
      "  label 47: 200\n",
      "model is roberta-base\n"
     ]
    },
    {
     "name": "stderr",
     "output_type": "stream",
     "text": [
      "Some weights of RobertaForSequenceClassification were not initialized from the model checkpoint at roberta-base and are newly initialized: ['classifier.dense.bias', 'classifier.dense.weight', 'classifier.out_proj.bias', 'classifier.out_proj.weight']\n",
      "You should probably TRAIN this model on a down-stream task to be able to use it for predictions and inference.\n"
     ]
    },
    {
     "name": "stdout",
     "output_type": "stream",
     "text": [
      "Epoch 1/20\n"
     ]
    },
    {
     "name": "stderr",
     "output_type": "stream",
     "text": [
      "100%|██████████| 745/745 [01:03<00:00, 11.68it/s]\n"
     ]
    },
    {
     "name": "stdout",
     "output_type": "stream",
     "text": [
      "{'val_loss': 1.7531465655419884, 'val_accuracy': 0.5446224256292906, 'precision': 0.573633204409385, 'recall': 0.5446224256292906, 'f1-score': 0.5153028116113523, 'macro_f1-score': 0.23508117648682547, 'balanced_accuracy': 0.31558622896314364, 'mcc': 0.38535119235030185, 'train_loss': 2.663036441242935}\n",
      "Epoch 2/20\n"
     ]
    },
    {
     "name": "stderr",
     "output_type": "stream",
     "text": [
      "100%|██████████| 745/745 [01:03<00:00, 11.68it/s]\n"
     ]
    },
    {
     "name": "stdout",
     "output_type": "stream",
     "text": [
      "{'val_loss': 1.5207389316907742, 'val_accuracy': 0.5980167810831426, 'precision': 0.6288299581664725, 'recall': 0.5980167810831426, 'f1-score': 0.5855133575241132, 'macro_f1-score': 0.33301739591324003, 'balanced_accuracy': 0.387761419931062, 'mcc': 0.47087587634887174, 'train_loss': 1.2174037362905157}\n",
      "Epoch 3/20\n"
     ]
    },
    {
     "name": "stderr",
     "output_type": "stream",
     "text": [
      "100%|██████████| 745/745 [01:03<00:00, 11.68it/s]\n"
     ]
    },
    {
     "name": "stdout",
     "output_type": "stream",
     "text": [
      "{'val_loss': 1.4785065262055979, 'val_accuracy': 0.623951182303585, 'precision': 0.6219075274973941, 'recall': 0.623951182303585, 'f1-score': 0.6134602462875791, 'macro_f1-score': 0.3798828199646442, 'balanced_accuracy': 0.4071456156994056, 'mcc': 0.5040539393956057, 'train_loss': 0.6606032496630746}\n",
      "Epoch 4/20\n"
     ]
    },
    {
     "name": "stderr",
     "output_type": "stream",
     "text": [
      "100%|██████████| 745/745 [01:03<00:00, 11.69it/s]\n"
     ]
    },
    {
     "name": "stdout",
     "output_type": "stream",
     "text": [
      "{'val_loss': 1.5619658173584356, 'val_accuracy': 0.631578947368421, 'precision': 0.6314440521225493, 'recall': 0.631578947368421, 'f1-score': 0.6224283148347485, 'macro_f1-score': 0.39338241874328767, 'balanced_accuracy': 0.4059630899421365, 'mcc': 0.508006399742548, 'train_loss': 0.4017442620890653}\n",
      "Epoch 5/20\n"
     ]
    },
    {
     "name": "stderr",
     "output_type": "stream",
     "text": [
      "100%|██████████| 745/745 [01:03<00:00, 11.70it/s]\n"
     ]
    },
    {
     "name": "stdout",
     "output_type": "stream",
     "text": [
      "{'val_loss': 1.8184667295072137, 'val_accuracy': 0.6102212051868803, 'precision': 0.6459070704290033, 'recall': 0.6102212051868803, 'f1-score': 0.6174662168115709, 'macro_f1-score': 0.3955395984750054, 'balanced_accuracy': 0.4243438316675007, 'mcc': 0.49749738440112906, 'train_loss': 0.2922407205297843}\n",
      "Epoch 6/20\n"
     ]
    },
    {
     "name": "stderr",
     "output_type": "stream",
     "text": [
      "100%|██████████| 745/745 [01:03<00:00, 11.68it/s]\n"
     ]
    },
    {
     "name": "stdout",
     "output_type": "stream",
     "text": [
      "{'val_loss': 1.7991181641090206, 'val_accuracy': 0.631578947368421, 'precision': 0.6356031632730076, 'recall': 0.631578947368421, 'f1-score': 0.623991955629087, 'macro_f1-score': 0.3890405839451547, 'balanced_accuracy': 0.3912543274001658, 'mcc': 0.513380349863341, 'train_loss': 0.22856758168379732}\n",
      "Epoch 7/20\n"
     ]
    },
    {
     "name": "stderr",
     "output_type": "stream",
     "text": [
      "100%|██████████| 745/745 [01:03<00:00, 11.69it/s]\n"
     ]
    },
    {
     "name": "stdout",
     "output_type": "stream",
     "text": [
      "{'val_loss': 1.869427412021451, 'val_accuracy': 0.6338672768878718, 'precision': 0.6359835813409106, 'recall': 0.6338672768878718, 'f1-score': 0.6155379738411698, 'macro_f1-score': 0.37832213994798264, 'balanced_accuracy': 0.39218038001263905, 'mcc': 0.5101607947192729, 'train_loss': 0.1933571469426255}\n",
      "Epoch 8/20\n"
     ]
    },
    {
     "name": "stderr",
     "output_type": "stream",
     "text": [
      "100%|██████████| 745/745 [01:03<00:00, 11.68it/s]\n"
     ]
    },
    {
     "name": "stdout",
     "output_type": "stream",
     "text": [
      "{'val_loss': 1.8333289219838818, 'val_accuracy': 0.6529366895499619, 'precision': 0.6493417344798719, 'recall': 0.6529366895499619, 'f1-score': 0.6390486156978863, 'macro_f1-score': 0.4043614016569615, 'balanced_accuracy': 0.40500319875050733, 'mcc': 0.5360792084606382, 'train_loss': 0.15289218397373522}\n",
      "Epoch 9/20\n"
     ]
    },
    {
     "name": "stderr",
     "output_type": "stream",
     "text": [
      "100%|██████████| 745/745 [01:03<00:00, 11.70it/s]\n"
     ]
    },
    {
     "name": "stdout",
     "output_type": "stream",
     "text": [
      "{'val_loss': 1.8242589015422799, 'val_accuracy': 0.6666666666666666, 'precision': 0.6594852301268217, 'recall': 0.6666666666666666, 'f1-score': 0.6451209772126129, 'macro_f1-score': 0.42443842752441435, 'balanced_accuracy': 0.39808782391122005, 'mcc': 0.548049099507763, 'train_loss': 0.13679345447676344}\n",
      "Epoch 10/20\n"
     ]
    },
    {
     "name": "stderr",
     "output_type": "stream",
     "text": [
      "100%|██████████| 745/745 [01:03<00:00, 11.69it/s]\n"
     ]
    },
    {
     "name": "stdout",
     "output_type": "stream",
     "text": [
      "{'val_loss': 2.107845667068188, 'val_accuracy': 0.6323417238749046, 'precision': 0.6696751643867017, 'recall': 0.6323417238749046, 'f1-score': 0.636396568417704, 'macro_f1-score': 0.40222839794661525, 'balanced_accuracy': 0.4252678806152588, 'mcc': 0.5243681512976618, 'train_loss': 0.1193569085854512}\n",
      "Epoch 11/20\n"
     ]
    },
    {
     "name": "stderr",
     "output_type": "stream",
     "text": [
      "100%|██████████| 745/745 [01:03<00:00, 11.68it/s]\n"
     ]
    },
    {
     "name": "stdout",
     "output_type": "stream",
     "text": [
      "{'val_loss': 2.0604182481765747, 'val_accuracy': 0.631578947368421, 'precision': 0.6497421423173992, 'recall': 0.631578947368421, 'f1-score': 0.6295241041094533, 'macro_f1-score': 0.4071010462252162, 'balanced_accuracy': 0.4382352015371093, 'mcc': 0.5224571527820387, 'train_loss': 0.11506666880063462}\n",
      "Epoch 12/20\n"
     ]
    },
    {
     "name": "stderr",
     "output_type": "stream",
     "text": [
      "100%|██████████| 745/745 [01:03<00:00, 11.68it/s]\n"
     ]
    },
    {
     "name": "stdout",
     "output_type": "stream",
     "text": [
      "{'val_loss': 1.945342569271239, 'val_accuracy': 0.6453089244851259, 'precision': 0.6608671885668983, 'recall': 0.6453089244851259, 'f1-score': 0.6431942085344011, 'macro_f1-score': 0.42449287960628895, 'balanced_accuracy': 0.43412128741678435, 'mcc': 0.5407505088402098, 'train_loss': 0.12181123553262711}\n",
      "Epoch 13/20\n"
     ]
    },
    {
     "name": "stderr",
     "output_type": "stream",
     "text": [
      "100%|██████████| 745/745 [01:03<00:00, 11.68it/s]\n"
     ]
    },
    {
     "name": "stdout",
     "output_type": "stream",
     "text": [
      "{'val_loss': 2.1296957540439396, 'val_accuracy': 0.6453089244851259, 'precision': 0.6408911947506152, 'recall': 0.6453089244851259, 'f1-score': 0.6334884516815982, 'macro_f1-score': 0.39188423489521357, 'balanced_accuracy': 0.3995887244499164, 'mcc': 0.5264870715124459, 'train_loss': 0.0890839546873553}\n",
      "Epoch 14/20\n"
     ]
    },
    {
     "name": "stderr",
     "output_type": "stream",
     "text": [
      "100%|██████████| 745/745 [01:03<00:00, 11.69it/s]\n"
     ]
    },
    {
     "name": "stdout",
     "output_type": "stream",
     "text": [
      "{'val_loss': 2.106859205790409, 'val_accuracy': 0.6430205949656751, 'precision': 0.6485033343345145, 'recall': 0.6430205949656751, 'f1-score': 0.6335372315900618, 'macro_f1-score': 0.3887744874687343, 'balanced_accuracy': 0.37459608572362085, 'mcc': 0.5199841022488999, 'train_loss': 0.08905268896468009}\n",
      "Epoch 15/20\n"
     ]
    },
    {
     "name": "stderr",
     "output_type": "stream",
     "text": [
      "100%|██████████| 745/745 [01:03<00:00, 11.69it/s]\n"
     ]
    },
    {
     "name": "stdout",
     "output_type": "stream",
     "text": [
      "{'val_loss': 2.1367727845180324, 'val_accuracy': 0.627765064836003, 'precision': 0.6415380035806291, 'recall': 0.627765064836003, 'f1-score': 0.6239591778476605, 'macro_f1-score': 0.40955556305678753, 'balanced_accuracy': 0.40753049306691075, 'mcc': 0.5051857431123019, 'train_loss': 0.10764257247534724}\n",
      "Early stopping.\n",
      "\n",
      "[Fold 5]\n",
      "🚀 Using Word2Vec for data augmentation\n",
      "🔧 Augmenting label 1: 21 → 200 (+179)\n",
      "🔧 Augmenting label 2: 64 → 200 (+136)\n",
      "🔧 Augmenting label 3: 24 → 200 (+176)\n",
      "🔧 Augmenting label 4: 191 → 200 (+9)\n",
      "🔧 Augmenting label 5: 112 → 200 (+88)\n",
      "🔧 Augmenting label 6: 92 → 200 (+108)\n",
      "🔧 Augmenting label 7: 31 → 200 (+169)\n",
      "🔧 Augmenting label 8: 68 → 200 (+132)\n",
      "🔧 Augmenting label 9: 29 → 200 (+171)\n",
      "🔧 Augmenting label 10: 68 → 200 (+132)\n",
      "🔧 Augmenting label 11: 168 → 200 (+32)\n",
      "🔧 Augmenting label 12: 190 → 200 (+10)\n",
      "🔧 Augmenting label 13: 29 → 200 (+171)\n",
      "🔧 Augmenting label 14: 22 → 200 (+178)\n",
      "🔧 Augmenting label 15: 25 → 200 (+175)\n",
      "🔧 Augmenting label 16: 19 → 200 (+181)\n",
      "🔧 Augmenting label 17: 183 → 200 (+17)\n",
      "🔧 Augmenting label 18: 92 → 200 (+108)\n",
      "🔧 Augmenting label 19: 44 → 200 (+156)\n",
      "🔧 Augmenting label 20: 14 → 200 (+186)\n",
      "🔧 Augmenting label 21: 35 → 200 (+165)\n",
      "🔧 Augmenting label 22: 76 → 200 (+124)\n",
      "🔧 Augmenting label 23: 158 → 200 (+42)\n",
      "🔧 Augmenting label 24: 13 → 200 (+187)\n",
      "🔧 Augmenting label 25: 44 → 200 (+156)\n",
      "🔧 Augmenting label 26: 84 → 200 (+116)\n",
      "🔧 Augmenting label 27: 48 → 200 (+152)\n",
      "🔧 Augmenting label 28: 11 → 200 (+189)\n",
      "🔧 Augmenting label 29: 13 → 200 (+187)\n",
      "🔧 Augmenting label 30: 11 → 200 (+189)\n",
      "🔧 Augmenting label 31: 75 → 200 (+125)\n",
      "🔧 Augmenting label 32: 36 → 200 (+164)\n",
      "🔧 Augmenting label 33: 31 → 200 (+169)\n",
      "🔧 Augmenting label 34: 30 → 200 (+170)\n",
      "🔧 Augmenting label 35: 11 → 200 (+189)\n",
      "🔧 Augmenting label 36: 22 → 200 (+178)\n",
      "🔧 Augmenting label 37: 16 → 200 (+184)\n",
      "🔧 Augmenting label 38: 33 → 200 (+167)\n",
      "🔧 Augmenting label 39: 10 → 200 (+190)\n",
      "🔧 Augmenting label 40: 9 → 200 (+191)\n",
      "🔧 Augmenting label 41: 57 → 200 (+143)\n",
      "🔧 Augmenting label 42: 18 → 200 (+182)\n",
      "🔧 Augmenting label 43: 9 → 200 (+191)\n",
      "🔧 Augmenting label 44: 54 → 200 (+146)\n",
      "🔧 Augmenting label 46: 61 → 200 (+139)\n",
      "🔧 Augmenting label 47: 80 → 200 (+120)\n",
      "Label distribution after resampling:\n",
      "  label 0: 2472\n",
      "  label 1: 200\n",
      "  label 2: 200\n",
      "  label 3: 200\n",
      "  label 4: 200\n",
      "  label 5: 200\n",
      "  label 6: 200\n",
      "  label 7: 200\n",
      "  label 8: 200\n",
      "  label 9: 200\n",
      "  label 10: 200\n",
      "  label 11: 200\n",
      "  label 12: 200\n",
      "  label 13: 200\n",
      "  label 14: 200\n",
      "  label 15: 200\n",
      "  label 16: 200\n",
      "  label 17: 200\n",
      "  label 18: 200\n",
      "  label 19: 200\n",
      "  label 20: 200\n",
      "  label 21: 200\n",
      "  label 22: 200\n",
      "  label 23: 200\n",
      "  label 24: 200\n",
      "  label 25: 200\n",
      "  label 26: 200\n",
      "  label 27: 200\n",
      "  label 28: 200\n",
      "  label 29: 200\n",
      "  label 30: 200\n",
      "  label 31: 200\n",
      "  label 32: 200\n",
      "  label 33: 200\n",
      "  label 34: 200\n",
      "  label 35: 200\n",
      "  label 36: 200\n",
      "  label 37: 200\n",
      "  label 38: 200\n",
      "  label 39: 200\n",
      "  label 40: 200\n",
      "  label 41: 200\n",
      "  label 42: 200\n",
      "  label 43: 200\n",
      "  label 44: 200\n",
      "  label 45: 242\n",
      "  label 46: 200\n",
      "  label 47: 200\n",
      "model is roberta-base\n"
     ]
    },
    {
     "name": "stderr",
     "output_type": "stream",
     "text": [
      "Some weights of RobertaForSequenceClassification were not initialized from the model checkpoint at roberta-base and are newly initialized: ['classifier.dense.bias', 'classifier.dense.weight', 'classifier.out_proj.bias', 'classifier.out_proj.weight']\n",
      "You should probably TRAIN this model on a down-stream task to be able to use it for predictions and inference.\n"
     ]
    },
    {
     "name": "stdout",
     "output_type": "stream",
     "text": [
      "Epoch 1/20\n"
     ]
    },
    {
     "name": "stderr",
     "output_type": "stream",
     "text": [
      "100%|██████████| 745/745 [01:03<00:00, 11.69it/s]\n"
     ]
    },
    {
     "name": "stdout",
     "output_type": "stream",
     "text": [
      "{'val_loss': 1.5537166457350662, 'val_accuracy': 0.5720823798627003, 'precision': 0.5652942157983086, 'recall': 0.5720823798627003, 'f1-score': 0.5299678260550857, 'macro_f1-score': 0.29583749691733763, 'balanced_accuracy': 0.3586026866659365, 'mcc': 0.410260861566469, 'train_loss': 2.4079559807009345}\n",
      "Epoch 2/20\n"
     ]
    },
    {
     "name": "stderr",
     "output_type": "stream",
     "text": [
      "100%|██████████| 745/745 [01:03<00:00, 11.68it/s]\n"
     ]
    },
    {
     "name": "stdout",
     "output_type": "stream",
     "text": [
      "{'val_loss': 1.49851784691578, 'val_accuracy': 0.5942028985507246, 'precision': 0.619867402332004, 'recall': 0.5942028985507246, 'f1-score': 0.5963884554937402, 'macro_f1-score': 0.40006150556568293, 'balanced_accuracy': 0.4495401935232684, 'mcc': 0.47863080592283613, 'train_loss': 1.0436891148154368}\n",
      "Epoch 3/20\n"
     ]
    },
    {
     "name": "stderr",
     "output_type": "stream",
     "text": [
      "100%|██████████| 745/745 [01:03<00:00, 11.68it/s]\n"
     ]
    },
    {
     "name": "stdout",
     "output_type": "stream",
     "text": [
      "{'val_loss': 1.4643751066632387, 'val_accuracy': 0.6392067124332571, 'precision': 0.6217514435189417, 'recall': 0.6392067124332571, 'f1-score': 0.6125616933922562, 'macro_f1-score': 0.41290379121150966, 'balanced_accuracy': 0.4053999748711416, 'mcc': 0.5063806731169063, 'train_loss': 0.5900520525422672}\n",
      "Epoch 4/20\n"
     ]
    },
    {
     "name": "stderr",
     "output_type": "stream",
     "text": [
      "100%|██████████| 745/745 [01:03<00:00, 11.69it/s]\n"
     ]
    },
    {
     "name": "stdout",
     "output_type": "stream",
     "text": [
      "{'val_loss': 1.6448013950593587, 'val_accuracy': 0.6254767353165522, 'precision': 0.6166140732264243, 'recall': 0.6254767353165522, 'f1-score': 0.6064320897636537, 'macro_f1-score': 0.3716218891924621, 'balanced_accuracy': 0.3922818422780918, 'mcc': 0.4995280943488019, 'train_loss': 0.3905278875373754}\n",
      "Epoch 5/20\n"
     ]
    },
    {
     "name": "stderr",
     "output_type": "stream",
     "text": [
      "100%|██████████| 745/745 [01:03<00:00, 11.68it/s]\n"
     ]
    },
    {
     "name": "stdout",
     "output_type": "stream",
     "text": [
      "{'val_loss': 1.589946464430995, 'val_accuracy': 0.6376811594202898, 'precision': 0.637650731041461, 'recall': 0.6376811594202898, 'f1-score': 0.6264161634767641, 'macro_f1-score': 0.4271147418330015, 'balanced_accuracy': 0.438221721235913, 'mcc': 0.5208772229144735, 'train_loss': 0.29468847219926}\n",
      "Epoch 6/20\n"
     ]
    },
    {
     "name": "stderr",
     "output_type": "stream",
     "text": [
      "100%|██████████| 745/745 [01:03<00:00, 11.69it/s]\n"
     ]
    },
    {
     "name": "stdout",
     "output_type": "stream",
     "text": [
      "{'val_loss': 1.735598250860121, 'val_accuracy': 0.631578947368421, 'precision': 0.6494483067104408, 'recall': 0.631578947368421, 'f1-score': 0.6267235847157333, 'macro_f1-score': 0.4238716389098846, 'balanced_accuracy': 0.44766246646005264, 'mcc': 0.5236241514615123, 'train_loss': 0.23824030131151613}\n",
      "Epoch 7/20\n"
     ]
    },
    {
     "name": "stderr",
     "output_type": "stream",
     "text": [
      "100%|██████████| 745/745 [01:03<00:00, 11.68it/s]\n"
     ]
    },
    {
     "name": "stdout",
     "output_type": "stream",
     "text": [
      "{'val_loss': 1.7176389930451788, 'val_accuracy': 0.6514111365369947, 'precision': 0.6280625055921516, 'recall': 0.6514111365369947, 'f1-score': 0.6291895384999923, 'macro_f1-score': 0.4204062783623697, 'balanced_accuracy': 0.4095248911348146, 'mcc': 0.5299828077993358, 'train_loss': 0.1906905271475447}\n",
      "Epoch 8/20\n"
     ]
    },
    {
     "name": "stderr",
     "output_type": "stream",
     "text": [
      "100%|██████████| 745/745 [01:03<00:00, 11.68it/s]\n"
     ]
    },
    {
     "name": "stdout",
     "output_type": "stream",
     "text": [
      "{'val_loss': 1.853701799017627, 'val_accuracy': 0.623951182303585, 'precision': 0.648264479352126, 'recall': 0.623951182303585, 'f1-score': 0.6244453584783098, 'macro_f1-score': 0.4278268612313758, 'balanced_accuracy': 0.4426950486595429, 'mcc': 0.5138655577057564, 'train_loss': 0.15838086068967744}\n",
      "Epoch 9/20\n"
     ]
    },
    {
     "name": "stderr",
     "output_type": "stream",
     "text": [
      "100%|██████████| 745/745 [01:03<00:00, 11.68it/s]\n"
     ]
    },
    {
     "name": "stdout",
     "output_type": "stream",
     "text": [
      "{'val_loss': 1.751362572719411, 'val_accuracy': 0.6613272311212814, 'precision': 0.6584130489505613, 'recall': 0.6613272311212814, 'f1-score': 0.6512510853814223, 'macro_f1-score': 0.4686730009445333, 'balanced_accuracy': 0.460300179830343, 'mcc': 0.5519629514690433, 'train_loss': 0.16456692570245407}\n",
      "Epoch 10/20\n"
     ]
    },
    {
     "name": "stderr",
     "output_type": "stream",
     "text": [
      "100%|██████████| 745/745 [01:03<00:00, 11.70it/s]\n"
     ]
    },
    {
     "name": "stdout",
     "output_type": "stream",
     "text": [
      "{'val_loss': 1.985516587590299, 'val_accuracy': 0.6178489702517163, 'precision': 0.6424700093489054, 'recall': 0.6178489702517163, 'f1-score': 0.6133655580988105, 'macro_f1-score': 0.3855460873228533, 'balanced_accuracy': 0.39513109006615127, 'mcc': 0.5046879077249571, 'train_loss': 0.14085390022174524}\n",
      "Epoch 11/20\n"
     ]
    },
    {
     "name": "stderr",
     "output_type": "stream",
     "text": [
      "100%|██████████| 745/745 [01:03<00:00, 11.69it/s]\n"
     ]
    },
    {
     "name": "stdout",
     "output_type": "stream",
     "text": [
      "{'val_loss': 1.8662527361657562, 'val_accuracy': 0.6552250190694127, 'precision': 0.6484197031903582, 'recall': 0.6552250190694127, 'f1-score': 0.6470713100611921, 'macro_f1-score': 0.4568464701469093, 'balanced_accuracy': 0.4623920337348138, 'mcc': 0.5485498651203123, 'train_loss': 0.11885297614987314}\n",
      "Epoch 12/20\n"
     ]
    },
    {
     "name": "stderr",
     "output_type": "stream",
     "text": [
      "100%|██████████| 745/745 [01:03<00:00, 11.69it/s]\n"
     ]
    },
    {
     "name": "stdout",
     "output_type": "stream",
     "text": [
      "{'val_loss': 1.9840540758720258, 'val_accuracy': 0.6399694889397407, 'precision': 0.6421375704800794, 'recall': 0.6399694889397407, 'f1-score': 0.6273399475066308, 'macro_f1-score': 0.4223946951999343, 'balanced_accuracy': 0.3922226538016676, 'mcc': 0.5128859128196264, 'train_loss': 0.12376308744373238}\n",
      "Early stopping.\n",
      "\n",
      " === roberta-base + plain + word2vec Final 5-fold Cross-Validation Results ===\n",
      "val_loss: 1.9301\n",
      "val_accuracy: 0.6411\n",
      "precision: 0.6421\n",
      "recall: 0.6411\n",
      "f1-score: 0.6326\n",
      "macro_f1-score: 0.4182\n",
      "balanced_accuracy: 0.4205\n",
      "mcc: 0.5257\n",
      "train_loss: 0.1636\n",
      "total_seconds: 3950.0000\n",
      "total_time: 1 hrs 5 mins 50 secs\n",
      "▶ Running: roberta-base + cnn + word2vec\n",
      "tokenizer is roberta-base\n",
      "Using device: cuda\n",
      "CUDA Available: True\n",
      "CUDA Device: NVIDIA GeForce RTX 5070 Ti\n",
      "Current GPU Memory Allocated: 0.02 GB\n",
      "Current GPU Memory Cached: 3.94 GB\n",
      "\n",
      "[Fold 1]\n",
      "🚀 Using Word2Vec for data augmentation\n",
      "🔧 Augmenting label 1: 21 → 200 (+179)\n",
      "🔧 Augmenting label 2: 64 → 200 (+136)\n",
      "🔧 Augmenting label 3: 24 → 200 (+176)\n",
      "🔧 Augmenting label 4: 191 → 200 (+9)\n",
      "🔧 Augmenting label 5: 113 → 200 (+87)\n",
      "🔧 Augmenting label 6: 93 → 200 (+107)\n",
      "🔧 Augmenting label 7: 30 → 200 (+170)\n",
      "🔧 Augmenting label 8: 68 → 200 (+132)\n",
      "🔧 Augmenting label 9: 30 → 200 (+170)\n",
      "🔧 Augmenting label 10: 67 → 200 (+133)\n",
      "🔧 Augmenting label 11: 169 → 200 (+31)\n",
      "🔧 Augmenting label 12: 189 → 200 (+11)\n",
      "🔧 Augmenting label 13: 29 → 200 (+171)\n",
      "🔧 Augmenting label 14: 22 → 200 (+178)\n",
      "🔧 Augmenting label 15: 25 → 200 (+175)\n",
      "🔧 Augmenting label 16: 19 → 200 (+181)\n",
      "🔧 Augmenting label 17: 183 → 200 (+17)\n",
      "🔧 Augmenting label 18: 92 → 200 (+108)\n",
      "🔧 Augmenting label 19: 44 → 200 (+156)\n",
      "🔧 Augmenting label 20: 13 → 200 (+187)\n",
      "🔧 Augmenting label 21: 35 → 200 (+165)\n",
      "🔧 Augmenting label 22: 76 → 200 (+124)\n",
      "🔧 Augmenting label 23: 158 → 200 (+42)\n",
      "🔧 Augmenting label 24: 13 → 200 (+187)\n",
      "🔧 Augmenting label 25: 44 → 200 (+156)\n",
      "🔧 Augmenting label 26: 84 → 200 (+116)\n",
      "🔧 Augmenting label 27: 48 → 200 (+152)\n",
      "🔧 Augmenting label 28: 11 → 200 (+189)\n",
      "🔧 Augmenting label 29: 13 → 200 (+187)\n",
      "🔧 Augmenting label 30: 11 → 200 (+189)\n",
      "🔧 Augmenting label 31: 75 → 200 (+125)\n",
      "🔧 Augmenting label 32: 36 → 200 (+164)\n",
      "🔧 Augmenting label 33: 32 → 200 (+168)\n",
      "🔧 Augmenting label 34: 29 → 200 (+171)\n",
      "🔧 Augmenting label 35: 11 → 200 (+189)\n",
      "🔧 Augmenting label 36: 22 → 200 (+178)\n",
      "🔧 Augmenting label 37: 16 → 200 (+184)\n",
      "🔧 Augmenting label 38: 33 → 200 (+167)\n",
      "🔧 Augmenting label 39: 10 → 200 (+190)\n",
      "🔧 Augmenting label 40: 9 → 200 (+191)\n",
      "🔧 Augmenting label 41: 57 → 200 (+143)\n",
      "🔧 Augmenting label 42: 19 → 200 (+181)\n",
      "🔧 Augmenting label 43: 8 → 200 (+192)\n",
      "🔧 Augmenting label 44: 54 → 200 (+146)\n",
      "🔧 Augmenting label 46: 61 → 200 (+139)\n",
      "🔧 Augmenting label 47: 80 → 200 (+120)\n",
      "Label distribution after resampling:\n",
      "  label 0: 2471\n",
      "  label 1: 200\n",
      "  label 2: 200\n",
      "  label 3: 200\n",
      "  label 4: 200\n",
      "  label 5: 200\n",
      "  label 6: 200\n",
      "  label 7: 200\n",
      "  label 8: 200\n",
      "  label 9: 200\n",
      "  label 10: 200\n",
      "  label 11: 200\n",
      "  label 12: 200\n",
      "  label 13: 200\n",
      "  label 14: 200\n",
      "  label 15: 200\n",
      "  label 16: 200\n",
      "  label 17: 200\n",
      "  label 18: 200\n",
      "  label 19: 200\n",
      "  label 20: 200\n",
      "  label 21: 200\n",
      "  label 22: 200\n",
      "  label 23: 200\n",
      "  label 24: 200\n",
      "  label 25: 200\n",
      "  label 26: 200\n",
      "  label 27: 200\n",
      "  label 28: 200\n",
      "  label 29: 200\n",
      "  label 30: 200\n",
      "  label 31: 200\n",
      "  label 32: 200\n",
      "  label 33: 200\n",
      "  label 34: 200\n",
      "  label 35: 200\n",
      "  label 36: 200\n",
      "  label 37: 200\n",
      "  label 38: 200\n",
      "  label 39: 200\n",
      "  label 40: 200\n",
      "  label 41: 200\n",
      "  label 42: 200\n",
      "  label 43: 200\n",
      "  label 44: 200\n",
      "  label 45: 242\n",
      "  label 46: 200\n",
      "  label 47: 200\n",
      "model is roberta-base cnn\n"
     ]
    },
    {
     "name": "stderr",
     "output_type": "stream",
     "text": [
      "Some weights of RobertaModel were not initialized from the model checkpoint at roberta-base and are newly initialized: ['pooler.dense.bias', 'pooler.dense.weight']\n",
      "You should probably TRAIN this model on a down-stream task to be able to use it for predictions and inference.\n"
     ]
    },
    {
     "name": "stdout",
     "output_type": "stream",
     "text": [
      "Epoch 1/20\n"
     ]
    },
    {
     "name": "stderr",
     "output_type": "stream",
     "text": [
      "100%|██████████| 745/745 [01:04<00:00, 11.50it/s]\n"
     ]
    },
    {
     "name": "stdout",
     "output_type": "stream",
     "text": [
      "{'val_loss': 2.091813976444849, 'val_accuracy': 0.4695121951219512, 'precision': 0.3900685544085506, 'recall': 0.4695121951219512, 'f1-score': 0.39205634175891396, 'macro_f1-score': 0.11400418045894649, 'balanced_accuracy': 0.15452829124664205, 'mcc': 0.2331828775664972, 'train_loss': 3.128292197189075}\n",
      "Epoch 2/20\n"
     ]
    },
    {
     "name": "stderr",
     "output_type": "stream",
     "text": [
      "100%|██████████| 745/745 [01:04<00:00, 11.49it/s]\n"
     ]
    },
    {
     "name": "stdout",
     "output_type": "stream",
     "text": [
      "{'val_loss': 1.6440099463230227, 'val_accuracy': 0.5373475609756098, 'precision': 0.5218637338864173, 'recall': 0.5373475609756098, 'f1-score': 0.5061953904157688, 'macro_f1-score': 0.26672794047349374, 'balanced_accuracy': 0.3310593315162997, 'mcc': 0.3776246860030091, 'train_loss': 1.8442290028069643}\n",
      "Epoch 3/20\n"
     ]
    },
    {
     "name": "stderr",
     "output_type": "stream",
     "text": [
      "100%|██████████| 745/745 [01:04<00:00, 11.49it/s]\n"
     ]
    },
    {
     "name": "stdout",
     "output_type": "stream",
     "text": [
      "{'val_loss': 1.559741075445966, 'val_accuracy': 0.5754573170731707, 'precision': 0.5957157913198766, 'recall': 0.5754573170731707, 'f1-score': 0.5685228210848231, 'macro_f1-score': 0.3381094542327865, 'balanced_accuracy': 0.37773873187240864, 'mcc': 0.44682174008998393, 'train_loss': 0.939785449116822}\n",
      "Epoch 4/20\n"
     ]
    },
    {
     "name": "stderr",
     "output_type": "stream",
     "text": [
      "100%|██████████| 745/745 [01:04<00:00, 11.49it/s]\n"
     ]
    },
    {
     "name": "stdout",
     "output_type": "stream",
     "text": [
      "{'val_loss': 1.7254222184419632, 'val_accuracy': 0.6089939024390244, 'precision': 0.5725516570197631, 'recall': 0.6089939024390244, 'f1-score': 0.5624751845798901, 'macro_f1-score': 0.34490860508007876, 'balanced_accuracy': 0.3262545568944883, 'mcc': 0.45291704386112575, 'train_loss': 0.5398244620869623}\n",
      "Epoch 5/20\n"
     ]
    },
    {
     "name": "stderr",
     "output_type": "stream",
     "text": [
      "100%|██████████| 745/745 [01:04<00:00, 11.51it/s]\n"
     ]
    },
    {
     "name": "stdout",
     "output_type": "stream",
     "text": [
      "{'val_loss': 1.729722245800786, 'val_accuracy': 0.6189024390243902, 'precision': 0.6090168897038061, 'recall': 0.6189024390243902, 'f1-score': 0.5989523795669499, 'macro_f1-score': 0.3851849549019555, 'balanced_accuracy': 0.37107590049228695, 'mcc': 0.4795309015052746, 'train_loss': 0.3514699504454464}\n",
      "Epoch 6/20\n"
     ]
    },
    {
     "name": "stderr",
     "output_type": "stream",
     "text": [
      "100%|██████████| 745/745 [01:04<00:00, 11.48it/s]\n"
     ]
    },
    {
     "name": "stdout",
     "output_type": "stream",
     "text": [
      "{'val_loss': 1.7781377416558382, 'val_accuracy': 0.6135670731707317, 'precision': 0.6431699566237861, 'recall': 0.6135670731707317, 'f1-score': 0.6104154145157766, 'macro_f1-score': 0.3965027386237794, 'balanced_accuracy': 0.40685136823076773, 'mcc': 0.4926048575590604, 'train_loss': 0.2669462545181081}\n",
      "Epoch 7/20\n"
     ]
    },
    {
     "name": "stderr",
     "output_type": "stream",
     "text": [
      "100%|██████████| 745/745 [01:04<00:00, 11.49it/s]\n"
     ]
    },
    {
     "name": "stdout",
     "output_type": "stream",
     "text": [
      "{'val_loss': 1.842885005764845, 'val_accuracy': 0.6272865853658537, 'precision': 0.6222909272277604, 'recall': 0.6272865853658537, 'f1-score': 0.6056429185714926, 'macro_f1-score': 0.38171378432059494, 'balanced_accuracy': 0.37540647777251035, 'mcc': 0.4916847689166178, 'train_loss': 0.2203184894554867}\n",
      "Epoch 8/20\n"
     ]
    },
    {
     "name": "stderr",
     "output_type": "stream",
     "text": [
      "100%|██████████| 745/745 [01:04<00:00, 11.49it/s]\n"
     ]
    },
    {
     "name": "stdout",
     "output_type": "stream",
     "text": [
      "{'val_loss': 1.8629104487779664, 'val_accuracy': 0.631859756097561, 'precision': 0.6301006358282069, 'recall': 0.631859756097561, 'f1-score': 0.6219065522433828, 'macro_f1-score': 0.40803945026747446, 'balanced_accuracy': 0.4240685398290409, 'mcc': 0.5117273392783473, 'train_loss': 0.18349280474869997}\n",
      "Epoch 9/20\n"
     ]
    },
    {
     "name": "stderr",
     "output_type": "stream",
     "text": [
      "100%|██████████| 745/745 [01:04<00:00, 11.50it/s]\n"
     ]
    },
    {
     "name": "stdout",
     "output_type": "stream",
     "text": [
      "{'val_loss': 2.185402348274138, 'val_accuracy': 0.5701219512195121, 'precision': 0.636042270048762, 'recall': 0.5701219512195121, 'f1-score': 0.5815647268986108, 'macro_f1-score': 0.3648318169848952, 'balanced_accuracy': 0.38919924377544673, 'mcc': 0.46928617510029375, 'train_loss': 0.15265651844760667}\n",
      "Epoch 10/20\n"
     ]
    },
    {
     "name": "stderr",
     "output_type": "stream",
     "text": [
      "100%|██████████| 745/745 [01:04<00:00, 11.51it/s]\n"
     ]
    },
    {
     "name": "stdout",
     "output_type": "stream",
     "text": [
      "{'val_loss': 2.022421394906393, 'val_accuracy': 0.6303353658536586, 'precision': 0.6184478851771436, 'recall': 0.6303353658536586, 'f1-score': 0.6137894983456932, 'macro_f1-score': 0.38319239255975807, 'balanced_accuracy': 0.39339478285982876, 'mcc': 0.50947324523699, 'train_loss': 0.144487415651022}\n",
      "Epoch 11/20\n"
     ]
    },
    {
     "name": "stderr",
     "output_type": "stream",
     "text": [
      "100%|██████████| 745/745 [01:04<00:00, 11.48it/s]\n"
     ]
    },
    {
     "name": "stdout",
     "output_type": "stream",
     "text": [
      "{'val_loss': 1.9512650054402467, 'val_accuracy': 0.6326219512195121, 'precision': 0.625269045737149, 'recall': 0.6326219512195121, 'f1-score': 0.6174453590868848, 'macro_f1-score': 0.4053343485474559, 'balanced_accuracy': 0.3854108862857033, 'mcc': 0.503955493003356, 'train_loss': 0.12658956965475324}\n",
      "Early stopping.\n",
      "\n",
      "[Fold 2]\n",
      "🚀 Using Word2Vec for data augmentation\n",
      "🔧 Augmenting label 1: 22 → 200 (+178)\n",
      "🔧 Augmenting label 2: 64 → 200 (+136)\n",
      "🔧 Augmenting label 3: 24 → 200 (+176)\n",
      "🔧 Augmenting label 4: 190 → 200 (+10)\n",
      "🔧 Augmenting label 5: 113 → 200 (+87)\n",
      "🔧 Augmenting label 6: 93 → 200 (+107)\n",
      "🔧 Augmenting label 7: 30 → 200 (+170)\n",
      "🔧 Augmenting label 8: 68 → 200 (+132)\n",
      "🔧 Augmenting label 9: 30 → 200 (+170)\n",
      "🔧 Augmenting label 10: 67 → 200 (+133)\n",
      "🔧 Augmenting label 11: 169 → 200 (+31)\n",
      "🔧 Augmenting label 12: 189 → 200 (+11)\n",
      "🔧 Augmenting label 13: 29 → 200 (+171)\n",
      "🔧 Augmenting label 14: 23 → 200 (+177)\n",
      "🔧 Augmenting label 15: 24 → 200 (+176)\n",
      "🔧 Augmenting label 16: 20 → 200 (+180)\n",
      "🔧 Augmenting label 17: 182 → 200 (+18)\n",
      "🔧 Augmenting label 18: 92 → 200 (+108)\n",
      "🔧 Augmenting label 19: 44 → 200 (+156)\n",
      "🔧 Augmenting label 20: 13 → 200 (+187)\n",
      "🔧 Augmenting label 21: 36 → 200 (+164)\n",
      "🔧 Augmenting label 22: 76 → 200 (+124)\n",
      "🔧 Augmenting label 23: 157 → 200 (+43)\n",
      "🔧 Augmenting label 24: 12 → 200 (+188)\n",
      "🔧 Augmenting label 25: 44 → 200 (+156)\n",
      "🔧 Augmenting label 26: 84 → 200 (+116)\n",
      "🔧 Augmenting label 27: 48 → 200 (+152)\n",
      "🔧 Augmenting label 28: 12 → 200 (+188)\n",
      "🔧 Augmenting label 29: 12 → 200 (+188)\n",
      "🔧 Augmenting label 30: 12 → 200 (+188)\n",
      "🔧 Augmenting label 31: 75 → 200 (+125)\n",
      "🔧 Augmenting label 32: 36 → 200 (+164)\n",
      "🔧 Augmenting label 33: 31 → 200 (+169)\n",
      "🔧 Augmenting label 34: 29 → 200 (+171)\n",
      "🔧 Augmenting label 35: 12 → 200 (+188)\n",
      "🔧 Augmenting label 36: 21 → 200 (+179)\n",
      "🔧 Augmenting label 37: 16 → 200 (+184)\n",
      "🔧 Augmenting label 38: 33 → 200 (+167)\n",
      "🔧 Augmenting label 39: 11 → 200 (+189)\n",
      "🔧 Augmenting label 40: 8 → 200 (+192)\n",
      "🔧 Augmenting label 41: 57 → 200 (+143)\n",
      "🔧 Augmenting label 42: 19 → 200 (+181)\n",
      "🔧 Augmenting label 43: 9 → 200 (+191)\n",
      "🔧 Augmenting label 44: 54 → 200 (+146)\n",
      "🔧 Augmenting label 46: 62 → 200 (+138)\n",
      "🔧 Augmenting label 47: 80 → 200 (+120)\n",
      "Label distribution after resampling:\n",
      "  label 0: 2471\n",
      "  label 1: 200\n",
      "  label 2: 200\n",
      "  label 3: 200\n",
      "  label 4: 200\n",
      "  label 5: 200\n",
      "  label 6: 200\n",
      "  label 7: 200\n",
      "  label 8: 200\n",
      "  label 9: 200\n",
      "  label 10: 200\n",
      "  label 11: 200\n",
      "  label 12: 200\n",
      "  label 13: 200\n",
      "  label 14: 200\n",
      "  label 15: 200\n",
      "  label 16: 200\n",
      "  label 17: 200\n",
      "  label 18: 200\n",
      "  label 19: 200\n",
      "  label 20: 200\n",
      "  label 21: 200\n",
      "  label 22: 200\n",
      "  label 23: 200\n",
      "  label 24: 200\n",
      "  label 25: 200\n",
      "  label 26: 200\n",
      "  label 27: 200\n",
      "  label 28: 200\n",
      "  label 29: 200\n",
      "  label 30: 200\n",
      "  label 31: 200\n",
      "  label 32: 200\n",
      "  label 33: 200\n",
      "  label 34: 200\n",
      "  label 35: 200\n",
      "  label 36: 200\n",
      "  label 37: 200\n",
      "  label 38: 200\n",
      "  label 39: 200\n",
      "  label 40: 200\n",
      "  label 41: 200\n",
      "  label 42: 200\n",
      "  label 43: 200\n",
      "  label 44: 200\n",
      "  label 45: 242\n",
      "  label 46: 200\n",
      "  label 47: 200\n",
      "model is roberta-base cnn\n"
     ]
    },
    {
     "name": "stderr",
     "output_type": "stream",
     "text": [
      "Some weights of RobertaModel were not initialized from the model checkpoint at roberta-base and are newly initialized: ['pooler.dense.bias', 'pooler.dense.weight']\n",
      "You should probably TRAIN this model on a down-stream task to be able to use it for predictions and inference.\n"
     ]
    },
    {
     "name": "stdout",
     "output_type": "stream",
     "text": [
      "Epoch 1/20\n"
     ]
    },
    {
     "name": "stderr",
     "output_type": "stream",
     "text": [
      "100%|██████████| 745/745 [01:04<00:00, 11.51it/s]\n"
     ]
    },
    {
     "name": "stdout",
     "output_type": "stream",
     "text": [
      "{'val_loss': 1.6998598779120095, 'val_accuracy': 0.5484363081617086, 'precision': 0.5542475556553759, 'recall': 0.5484363081617086, 'f1-score': 0.498450955360578, 'macro_f1-score': 0.2325785294768953, 'balanced_accuracy': 0.29875481773036716, 'mcc': 0.36546970184954697, 'train_loss': 2.8162243263833475}\n",
      "Epoch 2/20\n"
     ]
    },
    {
     "name": "stderr",
     "output_type": "stream",
     "text": [
      "100%|██████████| 745/745 [01:04<00:00, 11.49it/s]\n"
     ]
    },
    {
     "name": "stdout",
     "output_type": "stream",
     "text": [
      "{'val_loss': 1.4857806163590128, 'val_accuracy': 0.5919145690312738, 'precision': 0.6058670436217788, 'recall': 0.5919145690312738, 'f1-score': 0.5753899459243424, 'macro_f1-score': 0.3363483256386403, 'balanced_accuracy': 0.3593534267425696, 'mcc': 0.44430562853903316, 'train_loss': 1.3062603050430348}\n",
      "Epoch 3/20\n"
     ]
    },
    {
     "name": "stderr",
     "output_type": "stream",
     "text": [
      "100%|██████████| 745/745 [01:04<00:00, 11.51it/s]\n"
     ]
    },
    {
     "name": "stdout",
     "output_type": "stream",
     "text": [
      "{'val_loss': 1.5187631002286586, 'val_accuracy': 0.5926773455377574, 'precision': 0.6251939887709466, 'recall': 0.5926773455377574, 'f1-score': 0.5937356586141438, 'macro_f1-score': 0.3514975390742839, 'balanced_accuracy': 0.38200691653052604, 'mcc': 0.47160754315133696, 'train_loss': 0.6934800962373714}\n",
      "Epoch 4/20\n"
     ]
    },
    {
     "name": "stderr",
     "output_type": "stream",
     "text": [
      "100%|██████████| 745/745 [01:04<00:00, 11.50it/s]\n"
     ]
    },
    {
     "name": "stdout",
     "output_type": "stream",
     "text": [
      "{'val_loss': 1.5842387603550423, 'val_accuracy': 0.6247139588100686, 'precision': 0.6207399349292113, 'recall': 0.6247139588100686, 'f1-score': 0.6078684774614995, 'macro_f1-score': 0.3525322153420776, 'balanced_accuracy': 0.3849715988731251, 'mcc': 0.5024295801731318, 'train_loss': 0.4290056159482306}\n",
      "Epoch 5/20\n"
     ]
    },
    {
     "name": "stderr",
     "output_type": "stream",
     "text": [
      "100%|██████████| 745/745 [01:04<00:00, 11.49it/s]\n"
     ]
    },
    {
     "name": "stdout",
     "output_type": "stream",
     "text": [
      "{'val_loss': 1.720236053554023, 'val_accuracy': 0.6323417238749046, 'precision': 0.6188562704080661, 'recall': 0.6323417238749046, 'f1-score': 0.6123852791358055, 'macro_f1-score': 0.365141675052028, 'balanced_accuracy': 0.3902226697989429, 'mcc': 0.5074634882310926, 'train_loss': 0.2999134676093423}\n",
      "Epoch 6/20\n"
     ]
    },
    {
     "name": "stderr",
     "output_type": "stream",
     "text": [
      "100%|██████████| 745/745 [01:04<00:00, 11.50it/s]\n"
     ]
    },
    {
     "name": "stdout",
     "output_type": "stream",
     "text": [
      "{'val_loss': 1.7109822194750717, 'val_accuracy': 0.635392829900839, 'precision': 0.6286310776382491, 'recall': 0.635392829900839, 'f1-score': 0.6222734613807445, 'macro_f1-score': 0.37217674203337897, 'balanced_accuracy': 0.3889291144141551, 'mcc': 0.5161168998303588, 'train_loss': 0.22202182938376028}\n",
      "Epoch 7/20\n"
     ]
    },
    {
     "name": "stderr",
     "output_type": "stream",
     "text": [
      "100%|██████████| 745/745 [01:04<00:00, 11.49it/s]\n"
     ]
    },
    {
     "name": "stdout",
     "output_type": "stream",
     "text": [
      "{'val_loss': 1.7146994075397166, 'val_accuracy': 0.6270022883295194, 'precision': 0.6168298214210574, 'recall': 0.6270022883295194, 'f1-score': 0.6151383099373012, 'macro_f1-score': 0.36937474098933176, 'balanced_accuracy': 0.389668487723911, 'mcc': 0.5048581697859864, 'train_loss': 0.1899169207494331}\n",
      "Epoch 8/20\n"
     ]
    },
    {
     "name": "stderr",
     "output_type": "stream",
     "text": [
      "100%|██████████| 745/745 [01:04<00:00, 11.51it/s]\n"
     ]
    },
    {
     "name": "stdout",
     "output_type": "stream",
     "text": [
      "{'val_loss': 1.938155957838384, 'val_accuracy': 0.6300533943554538, 'precision': 0.6046647604513304, 'recall': 0.6300533943554538, 'f1-score': 0.6020505380331805, 'macro_f1-score': 0.3459151212177072, 'balanced_accuracy': 0.3554192754679653, 'mcc': 0.4939410873430008, 'train_loss': 0.16338353663801697}\n",
      "Epoch 9/20\n"
     ]
    },
    {
     "name": "stderr",
     "output_type": "stream",
     "text": [
      "100%|██████████| 745/745 [01:04<00:00, 11.50it/s]\n"
     ]
    },
    {
     "name": "stdout",
     "output_type": "stream",
     "text": [
      "{'val_loss': 2.0439377785092447, 'val_accuracy': 0.6094584286803967, 'precision': 0.6232566624455844, 'recall': 0.6094584286803967, 'f1-score': 0.6051049745999649, 'macro_f1-score': 0.3402532205535464, 'balanced_accuracy': 0.3609515430859654, 'mcc': 0.4937253621412323, 'train_loss': 0.14659389093105726}\n",
      "Early stopping.\n",
      "\n",
      "[Fold 3]\n",
      "🚀 Using Word2Vec for data augmentation\n",
      "🔧 Augmenting label 1: 22 → 200 (+178)\n",
      "🔧 Augmenting label 2: 64 → 200 (+136)\n",
      "🔧 Augmenting label 3: 24 → 200 (+176)\n",
      "🔧 Augmenting label 4: 190 → 200 (+10)\n",
      "🔧 Augmenting label 5: 113 → 200 (+87)\n",
      "🔧 Augmenting label 6: 93 → 200 (+107)\n",
      "🔧 Augmenting label 7: 30 → 200 (+170)\n",
      "🔧 Augmenting label 8: 68 → 200 (+132)\n",
      "🔧 Augmenting label 9: 30 → 200 (+170)\n",
      "🔧 Augmenting label 10: 67 → 200 (+133)\n",
      "🔧 Augmenting label 11: 169 → 200 (+31)\n",
      "🔧 Augmenting label 12: 190 → 200 (+10)\n",
      "🔧 Augmenting label 13: 28 → 200 (+172)\n",
      "🔧 Augmenting label 14: 23 → 200 (+177)\n",
      "🔧 Augmenting label 15: 25 → 200 (+175)\n",
      "🔧 Augmenting label 16: 19 → 200 (+181)\n",
      "🔧 Augmenting label 17: 182 → 200 (+18)\n",
      "🔧 Augmenting label 18: 92 → 200 (+108)\n",
      "🔧 Augmenting label 19: 44 → 200 (+156)\n",
      "🔧 Augmenting label 20: 14 → 200 (+186)\n",
      "🔧 Augmenting label 21: 35 → 200 (+165)\n",
      "🔧 Augmenting label 22: 76 → 200 (+124)\n",
      "🔧 Augmenting label 23: 157 → 200 (+43)\n",
      "🔧 Augmenting label 24: 13 → 200 (+187)\n",
      "🔧 Augmenting label 25: 44 → 200 (+156)\n",
      "🔧 Augmenting label 26: 84 → 200 (+116)\n",
      "🔧 Augmenting label 27: 48 → 200 (+152)\n",
      "🔧 Augmenting label 28: 11 → 200 (+189)\n",
      "🔧 Augmenting label 29: 13 → 200 (+187)\n",
      "🔧 Augmenting label 30: 11 → 200 (+189)\n",
      "🔧 Augmenting label 31: 76 → 200 (+124)\n",
      "🔧 Augmenting label 32: 36 → 200 (+164)\n",
      "🔧 Augmenting label 33: 31 → 200 (+169)\n",
      "🔧 Augmenting label 34: 30 → 200 (+170)\n",
      "🔧 Augmenting label 35: 11 → 200 (+189)\n",
      "🔧 Augmenting label 36: 21 → 200 (+179)\n",
      "🔧 Augmenting label 37: 16 → 200 (+184)\n",
      "🔧 Augmenting label 38: 32 → 200 (+168)\n",
      "🔧 Augmenting label 39: 11 → 200 (+189)\n",
      "🔧 Augmenting label 40: 9 → 200 (+191)\n",
      "🔧 Augmenting label 41: 57 → 200 (+143)\n",
      "🔧 Augmenting label 42: 18 → 200 (+182)\n",
      "🔧 Augmenting label 43: 9 → 200 (+191)\n",
      "🔧 Augmenting label 44: 55 → 200 (+145)\n",
      "🔧 Augmenting label 46: 62 → 200 (+138)\n",
      "🔧 Augmenting label 47: 80 → 200 (+120)\n",
      "Label distribution after resampling:\n",
      "  label 0: 2471\n",
      "  label 1: 200\n",
      "  label 2: 200\n",
      "  label 3: 200\n",
      "  label 4: 200\n",
      "  label 5: 200\n",
      "  label 6: 200\n",
      "  label 7: 200\n",
      "  label 8: 200\n",
      "  label 9: 200\n",
      "  label 10: 200\n",
      "  label 11: 200\n",
      "  label 12: 200\n",
      "  label 13: 200\n",
      "  label 14: 200\n",
      "  label 15: 200\n",
      "  label 16: 200\n",
      "  label 17: 200\n",
      "  label 18: 200\n",
      "  label 19: 200\n",
      "  label 20: 200\n",
      "  label 21: 200\n",
      "  label 22: 200\n",
      "  label 23: 200\n",
      "  label 24: 200\n",
      "  label 25: 200\n",
      "  label 26: 200\n",
      "  label 27: 200\n",
      "  label 28: 200\n",
      "  label 29: 200\n",
      "  label 30: 200\n",
      "  label 31: 200\n",
      "  label 32: 200\n",
      "  label 33: 200\n",
      "  label 34: 200\n",
      "  label 35: 200\n",
      "  label 36: 200\n",
      "  label 37: 200\n",
      "  label 38: 200\n",
      "  label 39: 200\n",
      "  label 40: 200\n",
      "  label 41: 200\n",
      "  label 42: 200\n",
      "  label 43: 200\n",
      "  label 44: 200\n",
      "  label 45: 241\n",
      "  label 46: 200\n",
      "  label 47: 200\n",
      "model is roberta-base cnn\n"
     ]
    },
    {
     "name": "stderr",
     "output_type": "stream",
     "text": [
      "Some weights of RobertaModel were not initialized from the model checkpoint at roberta-base and are newly initialized: ['pooler.dense.bias', 'pooler.dense.weight']\n",
      "You should probably TRAIN this model on a down-stream task to be able to use it for predictions and inference.\n"
     ]
    },
    {
     "name": "stdout",
     "output_type": "stream",
     "text": [
      "Epoch 1/20\n"
     ]
    },
    {
     "name": "stderr",
     "output_type": "stream",
     "text": [
      "100%|██████████| 745/745 [01:04<00:00, 11.50it/s]\n"
     ]
    },
    {
     "name": "stdout",
     "output_type": "stream",
     "text": [
      "{'val_loss': 1.755645751953125, 'val_accuracy': 0.5263157894736842, 'precision': 0.6010108125490143, 'recall': 0.5263157894736842, 'f1-score': 0.5367992810301634, 'macro_f1-score': 0.2983064721851356, 'balanced_accuracy': 0.37514067665954326, 'mcc': 0.3999847241075121, 'train_loss': 2.2997699872759365}\n",
      "Epoch 2/20\n"
     ]
    },
    {
     "name": "stderr",
     "output_type": "stream",
     "text": [
      "100%|██████████| 745/745 [01:04<00:00, 11.48it/s]\n"
     ]
    },
    {
     "name": "stdout",
     "output_type": "stream",
     "text": [
      "{'val_loss': 1.5747322970774116, 'val_accuracy': 0.5774218154080855, 'precision': 0.6202170349783905, 'recall': 0.5774218154080855, 'f1-score': 0.5797527068224253, 'macro_f1-score': 0.36741911612056627, 'balanced_accuracy': 0.39987213873296473, 'mcc': 0.45070107108954593, 'train_loss': 1.0899362817506661}\n",
      "Epoch 3/20\n"
     ]
    },
    {
     "name": "stderr",
     "output_type": "stream",
     "text": [
      "100%|██████████| 745/745 [01:04<00:00, 11.49it/s]\n"
     ]
    },
    {
     "name": "stdout",
     "output_type": "stream",
     "text": [
      "{'val_loss': 1.5346780019562418, 'val_accuracy': 0.6331045003813882, 'precision': 0.6144665335128873, 'recall': 0.6331045003813882, 'f1-score': 0.6119057441716194, 'macro_f1-score': 0.3824387417508183, 'balanced_accuracy': 0.3773953808462032, 'mcc': 0.4998409963923617, 'train_loss': 0.6264494746123385}\n",
      "Epoch 4/20\n"
     ]
    },
    {
     "name": "stderr",
     "output_type": "stream",
     "text": [
      "100%|██████████| 745/745 [01:04<00:00, 11.49it/s]\n"
     ]
    },
    {
     "name": "stdout",
     "output_type": "stream",
     "text": [
      "{'val_loss': 1.6957407337499828, 'val_accuracy': 0.6071700991609459, 'precision': 0.5993881450372472, 'recall': 0.6071700991609459, 'f1-score': 0.5911552037037402, 'macro_f1-score': 0.3444948277848237, 'balanced_accuracy': 0.35613485360969416, 'mcc': 0.48562396482485426, 'train_loss': 0.4092097056492063}\n",
      "Epoch 5/20\n"
     ]
    },
    {
     "name": "stderr",
     "output_type": "stream",
     "text": [
      "100%|██████████| 745/745 [01:04<00:00, 11.49it/s]\n"
     ]
    },
    {
     "name": "stdout",
     "output_type": "stream",
     "text": [
      "{'val_loss': 1.7781974208064195, 'val_accuracy': 0.6414950419527079, 'precision': 0.6100932779871072, 'recall': 0.6414950419527079, 'f1-score': 0.6074180912369809, 'macro_f1-score': 0.3597240683799652, 'balanced_accuracy': 0.33109238573152167, 'mcc': 0.5036235370920085, 'train_loss': 0.30118038617449516}\n",
      "Epoch 6/20\n"
     ]
    },
    {
     "name": "stderr",
     "output_type": "stream",
     "text": [
      "100%|██████████| 745/745 [01:04<00:00, 11.51it/s]\n"
     ]
    },
    {
     "name": "stdout",
     "output_type": "stream",
     "text": [
      "{'val_loss': 1.9271422321113145, 'val_accuracy': 0.593440122044241, 'precision': 0.6278325102387485, 'recall': 0.593440122044241, 'f1-score': 0.5999509055653222, 'macro_f1-score': 0.38697988682549306, 'balanced_accuracy': 0.3961555052740091, 'mcc': 0.48186188087589116, 'train_loss': 0.2326076260380347}\n",
      "Epoch 7/20\n"
     ]
    },
    {
     "name": "stderr",
     "output_type": "stream",
     "text": [
      "100%|██████████| 745/745 [01:04<00:00, 11.50it/s]\n"
     ]
    },
    {
     "name": "stdout",
     "output_type": "stream",
     "text": [
      "{'val_loss': 1.8301135294321107, 'val_accuracy': 0.635392829900839, 'precision': 0.6183647840098697, 'recall': 0.635392829900839, 'f1-score': 0.612283091573784, 'macro_f1-score': 0.389248401464273, 'balanced_accuracy': 0.38404933056766516, 'mcc': 0.5088202272010303, 'train_loss': 0.20020995832442137}\n",
      "Epoch 8/20\n"
     ]
    },
    {
     "name": "stderr",
     "output_type": "stream",
     "text": [
      "100%|██████████| 745/745 [01:04<00:00, 11.49it/s]\n"
     ]
    },
    {
     "name": "stdout",
     "output_type": "stream",
     "text": [
      "{'val_loss': 1.8149877026131966, 'val_accuracy': 0.6392067124332571, 'precision': 0.6282749720554395, 'recall': 0.6392067124332571, 'f1-score': 0.6208076675619161, 'macro_f1-score': 0.3810726041848402, 'balanced_accuracy': 0.36236004693061113, 'mcc': 0.5146894009547447, 'train_loss': 0.16441371836699545}\n",
      "Epoch 9/20\n"
     ]
    },
    {
     "name": "stderr",
     "output_type": "stream",
     "text": [
      "100%|██████████| 745/745 [01:04<00:00, 11.48it/s]\n"
     ]
    },
    {
     "name": "stdout",
     "output_type": "stream",
     "text": [
      "{'val_loss': 1.9433141692382534, 'val_accuracy': 0.6346300533943554, 'precision': 0.6381474574754721, 'recall': 0.6346300533943554, 'f1-score': 0.6260993632843896, 'macro_f1-score': 0.3973026579069822, 'balanced_accuracy': 0.3884726953409452, 'mcc': 0.5138391034849595, 'train_loss': 0.16746273893025398}\n",
      "Epoch 10/20\n"
     ]
    },
    {
     "name": "stderr",
     "output_type": "stream",
     "text": [
      "100%|██████████| 745/745 [01:04<00:00, 11.50it/s]\n"
     ]
    },
    {
     "name": "stdout",
     "output_type": "stream",
     "text": [
      "{'val_loss': 2.093310656707461, 'val_accuracy': 0.6338672768878718, 'precision': 0.6172298994018562, 'recall': 0.6338672768878718, 'f1-score': 0.6124219308118771, 'macro_f1-score': 0.3874270110402312, 'balanced_accuracy': 0.3630534209924546, 'mcc': 0.5043021053451718, 'train_loss': 0.1263419140599068}\n",
      "Epoch 11/20\n"
     ]
    },
    {
     "name": "stderr",
     "output_type": "stream",
     "text": [
      "100%|██████████| 745/745 [01:04<00:00, 11.50it/s]\n"
     ]
    },
    {
     "name": "stdout",
     "output_type": "stream",
     "text": [
      "{'val_loss': 2.176086752698189, 'val_accuracy': 0.6468344774980931, 'precision': 0.638341792645229, 'recall': 0.6468344774980931, 'f1-score': 0.6171343904495645, 'macro_f1-score': 0.37482594226847993, 'balanced_accuracy': 0.3530003468086271, 'mcc': 0.5156974565281413, 'train_loss': 0.12601615723610024}\n",
      "Epoch 12/20\n"
     ]
    },
    {
     "name": "stderr",
     "output_type": "stream",
     "text": [
      "100%|██████████| 745/745 [01:04<00:00, 11.49it/s]\n"
     ]
    },
    {
     "name": "stdout",
     "output_type": "stream",
     "text": [
      "{'val_loss': 2.0931343461682155, 'val_accuracy': 0.6025934401220442, 'precision': 0.6276485834449882, 'recall': 0.6025934401220442, 'f1-score': 0.6000400671404948, 'macro_f1-score': 0.3623438660822907, 'balanced_accuracy': 0.3498033441631137, 'mcc': 0.4784487983166455, 'train_loss': 0.11484278231787326}\n",
      "Early stopping.\n",
      "\n",
      "[Fold 4]\n",
      "🚀 Using Word2Vec for data augmentation\n",
      "🔧 Augmenting label 1: 22 → 200 (+178)\n",
      "🔧 Augmenting label 2: 64 → 200 (+136)\n",
      "🔧 Augmenting label 3: 24 → 200 (+176)\n",
      "🔧 Augmenting label 4: 190 → 200 (+10)\n",
      "🔧 Augmenting label 5: 113 → 200 (+87)\n",
      "🔧 Augmenting label 6: 93 → 200 (+107)\n",
      "🔧 Augmenting label 7: 31 → 200 (+169)\n",
      "🔧 Augmenting label 8: 68 → 200 (+132)\n",
      "🔧 Augmenting label 9: 29 → 200 (+171)\n",
      "🔧 Augmenting label 10: 67 → 200 (+133)\n",
      "🔧 Augmenting label 11: 169 → 200 (+31)\n",
      "🔧 Augmenting label 12: 190 → 200 (+10)\n",
      "🔧 Augmenting label 13: 29 → 200 (+171)\n",
      "🔧 Augmenting label 14: 22 → 200 (+178)\n",
      "🔧 Augmenting label 15: 25 → 200 (+175)\n",
      "🔧 Augmenting label 16: 19 → 200 (+181)\n",
      "🔧 Augmenting label 17: 182 → 200 (+18)\n",
      "🔧 Augmenting label 18: 92 → 200 (+108)\n",
      "🔧 Augmenting label 19: 44 → 200 (+156)\n",
      "🔧 Augmenting label 20: 14 → 200 (+186)\n",
      "🔧 Augmenting label 21: 35 → 200 (+165)\n",
      "🔧 Augmenting label 22: 76 → 200 (+124)\n",
      "🔧 Augmenting label 23: 158 → 200 (+42)\n",
      "🔧 Augmenting label 24: 13 → 200 (+187)\n",
      "🔧 Augmenting label 25: 44 → 200 (+156)\n",
      "🔧 Augmenting label 26: 84 → 200 (+116)\n",
      "🔧 Augmenting label 27: 48 → 200 (+152)\n",
      "🔧 Augmenting label 28: 11 → 200 (+189)\n",
      "🔧 Augmenting label 29: 13 → 200 (+187)\n",
      "🔧 Augmenting label 30: 11 → 200 (+189)\n",
      "🔧 Augmenting label 31: 75 → 200 (+125)\n",
      "🔧 Augmenting label 32: 36 → 200 (+164)\n",
      "🔧 Augmenting label 33: 31 → 200 (+169)\n",
      "🔧 Augmenting label 34: 30 → 200 (+170)\n",
      "🔧 Augmenting label 35: 11 → 200 (+189)\n",
      "🔧 Augmenting label 36: 22 → 200 (+178)\n",
      "🔧 Augmenting label 37: 16 → 200 (+184)\n",
      "🔧 Augmenting label 38: 33 → 200 (+167)\n",
      "🔧 Augmenting label 39: 10 → 200 (+190)\n",
      "🔧 Augmenting label 40: 9 → 200 (+191)\n",
      "🔧 Augmenting label 41: 56 → 200 (+144)\n",
      "🔧 Augmenting label 42: 18 → 200 (+182)\n",
      "🔧 Augmenting label 43: 9 → 200 (+191)\n",
      "🔧 Augmenting label 44: 55 → 200 (+145)\n",
      "🔧 Augmenting label 46: 62 → 200 (+138)\n",
      "🔧 Augmenting label 47: 80 → 200 (+120)\n",
      "Label distribution after resampling:\n",
      "  label 0: 2471\n",
      "  label 1: 200\n",
      "  label 2: 200\n",
      "  label 3: 200\n",
      "  label 4: 200\n",
      "  label 5: 200\n",
      "  label 6: 200\n",
      "  label 7: 200\n",
      "  label 8: 200\n",
      "  label 9: 200\n",
      "  label 10: 200\n",
      "  label 11: 200\n",
      "  label 12: 200\n",
      "  label 13: 200\n",
      "  label 14: 200\n",
      "  label 15: 200\n",
      "  label 16: 200\n",
      "  label 17: 200\n",
      "  label 18: 200\n",
      "  label 19: 200\n",
      "  label 20: 200\n",
      "  label 21: 200\n",
      "  label 22: 200\n",
      "  label 23: 200\n",
      "  label 24: 200\n",
      "  label 25: 200\n",
      "  label 26: 200\n",
      "  label 27: 200\n",
      "  label 28: 200\n",
      "  label 29: 200\n",
      "  label 30: 200\n",
      "  label 31: 200\n",
      "  label 32: 200\n",
      "  label 33: 200\n",
      "  label 34: 200\n",
      "  label 35: 200\n",
      "  label 36: 200\n",
      "  label 37: 200\n",
      "  label 38: 200\n",
      "  label 39: 200\n",
      "  label 40: 200\n",
      "  label 41: 200\n",
      "  label 42: 200\n",
      "  label 43: 200\n",
      "  label 44: 200\n",
      "  label 45: 241\n",
      "  label 46: 200\n",
      "  label 47: 200\n",
      "model is roberta-base cnn\n"
     ]
    },
    {
     "name": "stderr",
     "output_type": "stream",
     "text": [
      "Some weights of RobertaModel were not initialized from the model checkpoint at roberta-base and are newly initialized: ['pooler.dense.bias', 'pooler.dense.weight']\n",
      "You should probably TRAIN this model on a down-stream task to be able to use it for predictions and inference.\n"
     ]
    },
    {
     "name": "stdout",
     "output_type": "stream",
     "text": [
      "Epoch 1/20\n"
     ]
    },
    {
     "name": "stderr",
     "output_type": "stream",
     "text": [
      "100%|██████████| 745/745 [01:04<00:00, 11.49it/s]\n"
     ]
    },
    {
     "name": "stdout",
     "output_type": "stream",
     "text": [
      "{'val_loss': 1.730762994144021, 'val_accuracy': 0.5278413424866514, 'precision': 0.5782606260040248, 'recall': 0.5278413424866514, 'f1-score': 0.511527335545595, 'macro_f1-score': 0.26783795908354446, 'balanced_accuracy': 0.3241148046312385, 'mcc': 0.37399069165373555, 'train_loss': 2.6421292107377274}\n",
      "Epoch 2/20\n"
     ]
    },
    {
     "name": "stderr",
     "output_type": "stream",
     "text": [
      "100%|██████████| 745/745 [01:04<00:00, 11.48it/s]\n"
     ]
    },
    {
     "name": "stdout",
     "output_type": "stream",
     "text": [
      "{'val_loss': 1.4462758124601551, 'val_accuracy': 0.5842868039664378, 'precision': 0.6166613506009184, 'recall': 0.5842868039664378, 'f1-score': 0.5847547689839792, 'macro_f1-score': 0.3229480174407175, 'balanced_accuracy': 0.36947462707817774, 'mcc': 0.4621438880355191, 'train_loss': 1.2920921411690296}\n",
      "Epoch 3/20\n"
     ]
    },
    {
     "name": "stderr",
     "output_type": "stream",
     "text": [
      "100%|██████████| 745/745 [01:04<00:00, 11.50it/s]\n"
     ]
    },
    {
     "name": "stdout",
     "output_type": "stream",
     "text": [
      "{'val_loss': 1.4275802908147253, 'val_accuracy': 0.635392829900839, 'precision': 0.6418857670904639, 'recall': 0.635392829900839, 'f1-score': 0.6208570665147031, 'macro_f1-score': 0.3878415631469963, 'balanced_accuracy': 0.41679751101399115, 'mcc': 0.5138086025641503, 'train_loss': 0.7305824414095623}\n",
      "Epoch 4/20\n"
     ]
    },
    {
     "name": "stderr",
     "output_type": "stream",
     "text": [
      "100%|██████████| 745/745 [01:04<00:00, 11.49it/s]\n"
     ]
    },
    {
     "name": "stdout",
     "output_type": "stream",
     "text": [
      "{'val_loss': 1.5564132091112253, 'val_accuracy': 0.6346300533943554, 'precision': 0.6470617420592253, 'recall': 0.6346300533943554, 'f1-score': 0.6286343753176884, 'macro_f1-score': 0.39017008182871676, 'balanced_accuracy': 0.3946053659649866, 'mcc': 0.5179314979709341, 'train_loss': 0.48299909620827075}\n",
      "Epoch 5/20\n"
     ]
    },
    {
     "name": "stderr",
     "output_type": "stream",
     "text": [
      "100%|██████████| 745/745 [01:04<00:00, 11.50it/s]\n"
     ]
    },
    {
     "name": "stdout",
     "output_type": "stream",
     "text": [
      "{'val_loss': 1.6576822661772006, 'val_accuracy': 0.6086956521739131, 'precision': 0.6444416347395479, 'recall': 0.6086956521739131, 'f1-score': 0.6137813419947987, 'macro_f1-score': 0.3892478513712503, 'balanced_accuracy': 0.4008524800318571, 'mcc': 0.49813099589589055, 'train_loss': 0.3556313620492716}\n",
      "Epoch 6/20\n"
     ]
    },
    {
     "name": "stderr",
     "output_type": "stream",
     "text": [
      "100%|██████████| 745/745 [01:04<00:00, 11.49it/s]\n"
     ]
    },
    {
     "name": "stdout",
     "output_type": "stream",
     "text": [
      "{'val_loss': 1.6318495838743885, 'val_accuracy': 0.6178489702517163, 'precision': 0.6248818799208451, 'recall': 0.6178489702517163, 'f1-score': 0.608002863112216, 'macro_f1-score': 0.38563581869506486, 'balanced_accuracy': 0.38518261580488994, 'mcc': 0.48942247457702515, 'train_loss': 0.2943529639443095}\n",
      "Epoch 7/20\n"
     ]
    },
    {
     "name": "stderr",
     "output_type": "stream",
     "text": [
      "100%|██████████| 745/745 [01:04<00:00, 11.50it/s]\n"
     ]
    },
    {
     "name": "stdout",
     "output_type": "stream",
     "text": [
      "{'val_loss': 1.7098512193415223, 'val_accuracy': 0.6445461479786423, 'precision': 0.6669194208419678, 'recall': 0.6445461479786423, 'f1-score': 0.6468773063740236, 'macro_f1-score': 0.42849912053115236, 'balanced_accuracy': 0.4362214065616905, 'mcc': 0.5428358616605854, 'train_loss': 0.22852552493146602}\n",
      "Epoch 8/20\n"
     ]
    },
    {
     "name": "stderr",
     "output_type": "stream",
     "text": [
      "100%|██████████| 745/745 [01:04<00:00, 11.49it/s]\n"
     ]
    },
    {
     "name": "stdout",
     "output_type": "stream",
     "text": [
      "{'val_loss': 1.769042631020633, 'val_accuracy': 0.6361556064073226, 'precision': 0.6484293532208179, 'recall': 0.6361556064073226, 'f1-score': 0.628182925823427, 'macro_f1-score': 0.3970168380234509, 'balanced_accuracy': 0.398306421235936, 'mcc': 0.5227874190989288, 'train_loss': 0.17004801120496535}\n",
      "Epoch 9/20\n"
     ]
    },
    {
     "name": "stderr",
     "output_type": "stream",
     "text": [
      "100%|██████████| 745/745 [01:04<00:00, 11.49it/s]\n"
     ]
    },
    {
     "name": "stdout",
     "output_type": "stream",
     "text": [
      "{'val_loss': 1.8238548927190827, 'val_accuracy': 0.6460717009916095, 'precision': 0.6611073526115665, 'recall': 0.6460717009916095, 'f1-score': 0.643827710970081, 'macro_f1-score': 0.42980940825483244, 'balanced_accuracy': 0.4429126568161563, 'mcc': 0.5365803204210745, 'train_loss': 0.17041626120448713}\n",
      "Epoch 10/20\n"
     ]
    },
    {
     "name": "stderr",
     "output_type": "stream",
     "text": [
      "100%|██████████| 745/745 [01:04<00:00, 11.51it/s]\n"
     ]
    },
    {
     "name": "stdout",
     "output_type": "stream",
     "text": [
      "{'val_loss': 1.915719102432088, 'val_accuracy': 0.6155606407322655, 'precision': 0.6586949256744715, 'recall': 0.6155606407322655, 'f1-score': 0.6264004320508764, 'macro_f1-score': 0.3936084896739997, 'balanced_accuracy': 0.4199447256770988, 'mcc': 0.511252321583319, 'train_loss': 0.1632930863173616}\n",
      "Epoch 11/20\n"
     ]
    },
    {
     "name": "stderr",
     "output_type": "stream",
     "text": [
      "100%|██████████| 745/745 [01:04<00:00, 11.49it/s]\n"
     ]
    },
    {
     "name": "stdout",
     "output_type": "stream",
     "text": [
      "{'val_loss': 1.9581316269752456, 'val_accuracy': 0.6575133485888635, 'precision': 0.6553871080300808, 'recall': 0.6575133485888635, 'f1-score': 0.6396558717724543, 'macro_f1-score': 0.4090141767139304, 'balanced_accuracy': 0.39671033464445893, 'mcc': 0.535919215296336, 'train_loss': 0.13809160833643913}\n",
      "Epoch 12/20\n"
     ]
    },
    {
     "name": "stderr",
     "output_type": "stream",
     "text": [
      "100%|██████████| 745/745 [01:04<00:00, 11.49it/s]\n"
     ]
    },
    {
     "name": "stdout",
     "output_type": "stream",
     "text": [
      "{'val_loss': 2.006863431187301, 'val_accuracy': 0.6300533943554538, 'precision': 0.6522937782630219, 'recall': 0.6300533943554538, 'f1-score': 0.631104952988762, 'macro_f1-score': 0.42398322982327247, 'balanced_accuracy': 0.4251961131062854, 'mcc': 0.5175994428557593, 'train_loss': 0.12903061629954302}\n",
      "Early stopping.\n",
      "\n",
      "[Fold 5]\n",
      "🚀 Using Word2Vec for data augmentation\n",
      "🔧 Augmenting label 1: 21 → 200 (+179)\n",
      "🔧 Augmenting label 2: 64 → 200 (+136)\n",
      "🔧 Augmenting label 3: 24 → 200 (+176)\n",
      "🔧 Augmenting label 4: 191 → 200 (+9)\n",
      "🔧 Augmenting label 5: 112 → 200 (+88)\n",
      "🔧 Augmenting label 6: 92 → 200 (+108)\n",
      "🔧 Augmenting label 7: 31 → 200 (+169)\n",
      "🔧 Augmenting label 8: 68 → 200 (+132)\n",
      "🔧 Augmenting label 9: 29 → 200 (+171)\n",
      "🔧 Augmenting label 10: 68 → 200 (+132)\n",
      "🔧 Augmenting label 11: 168 → 200 (+32)\n",
      "🔧 Augmenting label 12: 190 → 200 (+10)\n",
      "🔧 Augmenting label 13: 29 → 200 (+171)\n",
      "🔧 Augmenting label 14: 22 → 200 (+178)\n",
      "🔧 Augmenting label 15: 25 → 200 (+175)\n",
      "🔧 Augmenting label 16: 19 → 200 (+181)\n",
      "🔧 Augmenting label 17: 183 → 200 (+17)\n",
      "🔧 Augmenting label 18: 92 → 200 (+108)\n",
      "🔧 Augmenting label 19: 44 → 200 (+156)\n",
      "🔧 Augmenting label 20: 14 → 200 (+186)\n",
      "🔧 Augmenting label 21: 35 → 200 (+165)\n",
      "🔧 Augmenting label 22: 76 → 200 (+124)\n",
      "🔧 Augmenting label 23: 158 → 200 (+42)\n",
      "🔧 Augmenting label 24: 13 → 200 (+187)\n",
      "🔧 Augmenting label 25: 44 → 200 (+156)\n",
      "🔧 Augmenting label 26: 84 → 200 (+116)\n",
      "🔧 Augmenting label 27: 48 → 200 (+152)\n",
      "🔧 Augmenting label 28: 11 → 200 (+189)\n",
      "🔧 Augmenting label 29: 13 → 200 (+187)\n",
      "🔧 Augmenting label 30: 11 → 200 (+189)\n",
      "🔧 Augmenting label 31: 75 → 200 (+125)\n",
      "🔧 Augmenting label 32: 36 → 200 (+164)\n",
      "🔧 Augmenting label 33: 31 → 200 (+169)\n",
      "🔧 Augmenting label 34: 30 → 200 (+170)\n",
      "🔧 Augmenting label 35: 11 → 200 (+189)\n",
      "🔧 Augmenting label 36: 22 → 200 (+178)\n",
      "🔧 Augmenting label 37: 16 → 200 (+184)\n",
      "🔧 Augmenting label 38: 33 → 200 (+167)\n",
      "🔧 Augmenting label 39: 10 → 200 (+190)\n",
      "🔧 Augmenting label 40: 9 → 200 (+191)\n",
      "🔧 Augmenting label 41: 57 → 200 (+143)\n",
      "🔧 Augmenting label 42: 18 → 200 (+182)\n",
      "🔧 Augmenting label 43: 9 → 200 (+191)\n",
      "🔧 Augmenting label 44: 54 → 200 (+146)\n",
      "🔧 Augmenting label 46: 61 → 200 (+139)\n",
      "🔧 Augmenting label 47: 80 → 200 (+120)\n",
      "Label distribution after resampling:\n",
      "  label 0: 2472\n",
      "  label 1: 200\n",
      "  label 2: 200\n",
      "  label 3: 200\n",
      "  label 4: 200\n",
      "  label 5: 200\n",
      "  label 6: 200\n",
      "  label 7: 200\n",
      "  label 8: 200\n",
      "  label 9: 200\n",
      "  label 10: 200\n",
      "  label 11: 200\n",
      "  label 12: 200\n",
      "  label 13: 200\n",
      "  label 14: 200\n",
      "  label 15: 200\n",
      "  label 16: 200\n",
      "  label 17: 200\n",
      "  label 18: 200\n",
      "  label 19: 200\n",
      "  label 20: 200\n",
      "  label 21: 200\n",
      "  label 22: 200\n",
      "  label 23: 200\n",
      "  label 24: 200\n",
      "  label 25: 200\n",
      "  label 26: 200\n",
      "  label 27: 200\n",
      "  label 28: 200\n",
      "  label 29: 200\n",
      "  label 30: 200\n",
      "  label 31: 200\n",
      "  label 32: 200\n",
      "  label 33: 200\n",
      "  label 34: 200\n",
      "  label 35: 200\n",
      "  label 36: 200\n",
      "  label 37: 200\n",
      "  label 38: 200\n",
      "  label 39: 200\n",
      "  label 40: 200\n",
      "  label 41: 200\n",
      "  label 42: 200\n",
      "  label 43: 200\n",
      "  label 44: 200\n",
      "  label 45: 242\n",
      "  label 46: 200\n",
      "  label 47: 200\n",
      "model is roberta-base cnn\n"
     ]
    },
    {
     "name": "stderr",
     "output_type": "stream",
     "text": [
      "Some weights of RobertaModel were not initialized from the model checkpoint at roberta-base and are newly initialized: ['pooler.dense.bias', 'pooler.dense.weight']\n",
      "You should probably TRAIN this model on a down-stream task to be able to use it for predictions and inference.\n"
     ]
    },
    {
     "name": "stdout",
     "output_type": "stream",
     "text": [
      "Epoch 1/20\n"
     ]
    },
    {
     "name": "stderr",
     "output_type": "stream",
     "text": [
      "100%|██████████| 745/745 [01:04<00:00, 11.50it/s]\n"
     ]
    },
    {
     "name": "stdout",
     "output_type": "stream",
     "text": [
      "{'val_loss': 1.6700453656475718, 'val_accuracy': 0.5545385202135774, 'precision': 0.5846137064928766, 'recall': 0.5545385202135774, 'f1-score': 0.5407641432768652, 'macro_f1-score': 0.26048811465597743, 'balanced_accuracy': 0.37094173800607005, 'mcc': 0.4217696051280489, 'train_loss': 2.621374705813875}\n",
      "Epoch 2/20\n"
     ]
    },
    {
     "name": "stderr",
     "output_type": "stream",
     "text": [
      "100%|██████████| 745/745 [01:04<00:00, 11.49it/s]\n"
     ]
    },
    {
     "name": "stdout",
     "output_type": "stream",
     "text": [
      "{'val_loss': 1.44260361172804, 'val_accuracy': 0.6018306636155606, 'precision': 0.6136423610212417, 'recall': 0.6018306636155606, 'f1-score': 0.5921627981991419, 'macro_f1-score': 0.34716125524832825, 'balanced_accuracy': 0.3708229895255657, 'mcc': 0.47357313878052565, 'train_loss': 1.1920611680754079}\n",
      "Epoch 3/20\n"
     ]
    },
    {
     "name": "stderr",
     "output_type": "stream",
     "text": [
      "100%|██████████| 745/745 [01:04<00:00, 11.50it/s]\n"
     ]
    },
    {
     "name": "stdout",
     "output_type": "stream",
     "text": [
      "{'val_loss': 1.4451049624419794, 'val_accuracy': 0.6338672768878718, 'precision': 0.6272464787516357, 'recall': 0.6338672768878718, 'f1-score': 0.6164308663593028, 'macro_f1-score': 0.3799916906456418, 'balanced_accuracy': 0.3793276179182594, 'mcc': 0.5085277299439388, 'train_loss': 0.6698247467511452}\n",
      "Epoch 4/20\n"
     ]
    },
    {
     "name": "stderr",
     "output_type": "stream",
     "text": [
      "100%|██████████| 745/745 [01:04<00:00, 11.48it/s]\n"
     ]
    },
    {
     "name": "stdout",
     "output_type": "stream",
     "text": [
      "{'val_loss': 1.5309144480199348, 'val_accuracy': 0.6369183829138062, 'precision': 0.6383366522885889, 'recall': 0.6369183829138062, 'f1-score': 0.6243508706331123, 'macro_f1-score': 0.38406504337544595, 'balanced_accuracy': 0.3959535014523343, 'mcc': 0.5243626320687426, 'train_loss': 0.4245718005769605}\n",
      "Epoch 5/20\n"
     ]
    },
    {
     "name": "stderr",
     "output_type": "stream",
     "text": [
      "100%|██████████| 745/745 [01:04<00:00, 11.49it/s]\n"
     ]
    },
    {
     "name": "stdout",
     "output_type": "stream",
     "text": [
      "{'val_loss': 1.5765837961580695, 'val_accuracy': 0.6521739130434783, 'precision': 0.6399461892733322, 'recall': 0.6521739130434783, 'f1-score': 0.6330982269941373, 'macro_f1-score': 0.41440359253575226, 'balanced_accuracy': 0.44062033626879576, 'mcc': 0.5341910644655286, 'train_loss': 0.31757805750099005}\n",
      "Epoch 6/20\n"
     ]
    },
    {
     "name": "stderr",
     "output_type": "stream",
     "text": [
      "100%|██████████| 745/745 [01:04<00:00, 11.49it/s]\n"
     ]
    },
    {
     "name": "stdout",
     "output_type": "stream",
     "text": [
      "{'val_loss': 1.7429037304913126, 'val_accuracy': 0.6338672768878718, 'precision': 0.6417883291031906, 'recall': 0.6338672768878718, 'f1-score': 0.6224997715769482, 'macro_f1-score': 0.3873192845433738, 'balanced_accuracy': 0.3920543575253403, 'mcc': 0.5159067742822986, 'train_loss': 0.25008909285268527}\n",
      "Epoch 7/20\n"
     ]
    },
    {
     "name": "stderr",
     "output_type": "stream",
     "text": [
      "100%|██████████| 745/745 [01:04<00:00, 11.51it/s]\n"
     ]
    },
    {
     "name": "stdout",
     "output_type": "stream",
     "text": [
      "{'val_loss': 1.7212031927050613, 'val_accuracy': 0.6475972540045767, 'precision': 0.6378373783324449, 'recall': 0.6475972540045767, 'f1-score': 0.633460610367414, 'macro_f1-score': 0.4105848256303162, 'balanced_accuracy': 0.3998123063474377, 'mcc': 0.5286129335794657, 'train_loss': 0.19234792928792685}\n",
      "Epoch 8/20\n"
     ]
    },
    {
     "name": "stderr",
     "output_type": "stream",
     "text": [
      "100%|██████████| 745/745 [01:04<00:00, 11.50it/s]\n"
     ]
    },
    {
     "name": "stdout",
     "output_type": "stream",
     "text": [
      "{'val_loss': 1.7530552817554008, 'val_accuracy': 0.6514111365369947, 'precision': 0.6382411608942261, 'recall': 0.6514111365369947, 'f1-score': 0.633399184181031, 'macro_f1-score': 0.42597215850092357, 'balanced_accuracy': 0.4260161581241353, 'mcc': 0.5295070683663314, 'train_loss': 0.18894486005930541}\n",
      "Epoch 9/20\n"
     ]
    },
    {
     "name": "stderr",
     "output_type": "stream",
     "text": [
      "100%|██████████| 745/745 [01:04<00:00, 11.49it/s]\n"
     ]
    },
    {
     "name": "stdout",
     "output_type": "stream",
     "text": [
      "{'val_loss': 1.9069051139238404, 'val_accuracy': 0.6491228070175439, 'precision': 0.6512705989186776, 'recall': 0.6491228070175439, 'f1-score': 0.6328795119559716, 'macro_f1-score': 0.39386142852708567, 'balanced_accuracy': 0.4052140530535994, 'mcc': 0.53564389570351, 'train_loss': 0.1365424701078301}\n",
      "Epoch 10/20\n"
     ]
    },
    {
     "name": "stderr",
     "output_type": "stream",
     "text": [
      "100%|██████████| 745/745 [01:04<00:00, 11.49it/s]\n"
     ]
    },
    {
     "name": "stdout",
     "output_type": "stream",
     "text": [
      "{'val_loss': 1.9172529868963288, 'val_accuracy': 0.6521739130434783, 'precision': 0.6574647081873068, 'recall': 0.6521739130434783, 'f1-score': 0.6432581757446688, 'macro_f1-score': 0.4164530211644249, 'balanced_accuracy': 0.4112793038533073, 'mcc': 0.5382344607299688, 'train_loss': 0.14349393388475198}\n",
      "Epoch 11/20\n"
     ]
    },
    {
     "name": "stderr",
     "output_type": "stream",
     "text": [
      "100%|██████████| 745/745 [01:04<00:00, 11.50it/s]\n"
     ]
    },
    {
     "name": "stdout",
     "output_type": "stream",
     "text": [
      "{'val_loss': 1.9028278618324093, 'val_accuracy': 0.6544622425629291, 'precision': 0.6642811568038403, 'recall': 0.6544622425629291, 'f1-score': 0.6481964792828623, 'macro_f1-score': 0.4307775980465129, 'balanced_accuracy': 0.42869227659411724, 'mcc': 0.5491525221443659, 'train_loss': 0.11266547949115852}\n",
      "Epoch 12/20\n"
     ]
    },
    {
     "name": "stderr",
     "output_type": "stream",
     "text": [
      "100%|██████████| 745/745 [01:04<00:00, 11.50it/s]\n"
     ]
    },
    {
     "name": "stdout",
     "output_type": "stream",
     "text": [
      "{'val_loss': 1.9919986136075927, 'val_accuracy': 0.6567505720823799, 'precision': 0.6282330699637915, 'recall': 0.6567505720823799, 'f1-score': 0.6279426595090888, 'macro_f1-score': 0.3813300490965143, 'balanced_accuracy': 0.3666090295901611, 'mcc': 0.5339068103407509, 'train_loss': 0.1076795223044019}\n",
      "Epoch 13/20\n"
     ]
    },
    {
     "name": "stderr",
     "output_type": "stream",
     "text": [
      "100%|██████████| 745/745 [01:04<00:00, 11.50it/s]\n"
     ]
    },
    {
     "name": "stdout",
     "output_type": "stream",
     "text": [
      "{'val_loss': 2.14863851484729, 'val_accuracy': 0.6491228070175439, 'precision': 0.6401319996415651, 'recall': 0.6491228070175439, 'f1-score': 0.6196737265502177, 'macro_f1-score': 0.4028052836524802, 'balanced_accuracy': 0.3737360462225432, 'mcc': 0.5187127136356217, 'train_loss': 0.11112553025017674}\n",
      "Epoch 14/20\n"
     ]
    },
    {
     "name": "stderr",
     "output_type": "stream",
     "text": [
      "100%|██████████| 745/745 [01:04<00:00, 11.50it/s]\n"
     ]
    },
    {
     "name": "stdout",
     "output_type": "stream",
     "text": [
      "{'val_loss': 2.110614964238754, 'val_accuracy': 0.6338672768878718, 'precision': 0.6371859452717082, 'recall': 0.6338672768878718, 'f1-score': 0.627394046570499, 'macro_f1-score': 0.4054793020139722, 'balanced_accuracy': 0.4103519807956748, 'mcc': 0.5189585180084055, 'train_loss': 0.09180525302286917}\n",
      "Early stopping.\n",
      "\n",
      " === roberta-base + cnn + word2vec Final 5-fold Cross-Validation Results ===\n",
      "val_loss: 1.8488\n",
      "val_accuracy: 0.6405\n",
      "precision: 0.6445\n",
      "recall: 0.6405\n",
      "f1-score: 0.6325\n",
      "macro_f1-score: 0.4076\n",
      "balanced_accuracy: 0.4146\n",
      "mcc: 0.5255\n",
      "train_loss: 0.1712\n",
      "total_seconds: 3947.0000\n",
      "total_time: 1 hrs 5 mins 47 secs\n",
      "▶ Running: roberta-base + lstm + word2vec\n",
      "tokenizer is roberta-base\n",
      "Using device: cuda\n",
      "CUDA Available: True\n",
      "CUDA Device: NVIDIA GeForce RTX 5070 Ti\n",
      "Current GPU Memory Allocated: 0.02 GB\n",
      "Current GPU Memory Cached: 3.94 GB\n",
      "\n",
      "[Fold 1]\n",
      "🚀 Using Word2Vec for data augmentation\n",
      "🔧 Augmenting label 1: 21 → 200 (+179)\n",
      "🔧 Augmenting label 2: 64 → 200 (+136)\n",
      "🔧 Augmenting label 3: 24 → 200 (+176)\n",
      "🔧 Augmenting label 4: 191 → 200 (+9)\n",
      "🔧 Augmenting label 5: 113 → 200 (+87)\n",
      "🔧 Augmenting label 6: 93 → 200 (+107)\n",
      "🔧 Augmenting label 7: 30 → 200 (+170)\n",
      "🔧 Augmenting label 8: 68 → 200 (+132)\n",
      "🔧 Augmenting label 9: 30 → 200 (+170)\n",
      "🔧 Augmenting label 10: 67 → 200 (+133)\n",
      "🔧 Augmenting label 11: 169 → 200 (+31)\n",
      "🔧 Augmenting label 12: 189 → 200 (+11)\n",
      "🔧 Augmenting label 13: 29 → 200 (+171)\n",
      "🔧 Augmenting label 14: 22 → 200 (+178)\n",
      "🔧 Augmenting label 15: 25 → 200 (+175)\n",
      "🔧 Augmenting label 16: 19 → 200 (+181)\n",
      "🔧 Augmenting label 17: 183 → 200 (+17)\n",
      "🔧 Augmenting label 18: 92 → 200 (+108)\n",
      "🔧 Augmenting label 19: 44 → 200 (+156)\n",
      "🔧 Augmenting label 20: 13 → 200 (+187)\n",
      "🔧 Augmenting label 21: 35 → 200 (+165)\n",
      "🔧 Augmenting label 22: 76 → 200 (+124)\n",
      "🔧 Augmenting label 23: 158 → 200 (+42)\n",
      "🔧 Augmenting label 24: 13 → 200 (+187)\n",
      "🔧 Augmenting label 25: 44 → 200 (+156)\n",
      "🔧 Augmenting label 26: 84 → 200 (+116)\n",
      "🔧 Augmenting label 27: 48 → 200 (+152)\n",
      "🔧 Augmenting label 28: 11 → 200 (+189)\n",
      "🔧 Augmenting label 29: 13 → 200 (+187)\n",
      "🔧 Augmenting label 30: 11 → 200 (+189)\n",
      "🔧 Augmenting label 31: 75 → 200 (+125)\n",
      "🔧 Augmenting label 32: 36 → 200 (+164)\n",
      "🔧 Augmenting label 33: 32 → 200 (+168)\n",
      "🔧 Augmenting label 34: 29 → 200 (+171)\n",
      "🔧 Augmenting label 35: 11 → 200 (+189)\n",
      "🔧 Augmenting label 36: 22 → 200 (+178)\n",
      "🔧 Augmenting label 37: 16 → 200 (+184)\n",
      "🔧 Augmenting label 38: 33 → 200 (+167)\n",
      "🔧 Augmenting label 39: 10 → 200 (+190)\n",
      "🔧 Augmenting label 40: 9 → 200 (+191)\n",
      "🔧 Augmenting label 41: 57 → 200 (+143)\n",
      "🔧 Augmenting label 42: 19 → 200 (+181)\n",
      "🔧 Augmenting label 43: 8 → 200 (+192)\n",
      "🔧 Augmenting label 44: 54 → 200 (+146)\n",
      "🔧 Augmenting label 46: 61 → 200 (+139)\n",
      "🔧 Augmenting label 47: 80 → 200 (+120)\n",
      "Label distribution after resampling:\n",
      "  label 0: 2471\n",
      "  label 1: 200\n",
      "  label 2: 200\n",
      "  label 3: 200\n",
      "  label 4: 200\n",
      "  label 5: 200\n",
      "  label 6: 200\n",
      "  label 7: 200\n",
      "  label 8: 200\n",
      "  label 9: 200\n",
      "  label 10: 200\n",
      "  label 11: 200\n",
      "  label 12: 200\n",
      "  label 13: 200\n",
      "  label 14: 200\n",
      "  label 15: 200\n",
      "  label 16: 200\n",
      "  label 17: 200\n",
      "  label 18: 200\n",
      "  label 19: 200\n",
      "  label 20: 200\n",
      "  label 21: 200\n",
      "  label 22: 200\n",
      "  label 23: 200\n",
      "  label 24: 200\n",
      "  label 25: 200\n",
      "  label 26: 200\n",
      "  label 27: 200\n",
      "  label 28: 200\n",
      "  label 29: 200\n",
      "  label 30: 200\n",
      "  label 31: 200\n",
      "  label 32: 200\n",
      "  label 33: 200\n",
      "  label 34: 200\n",
      "  label 35: 200\n",
      "  label 36: 200\n",
      "  label 37: 200\n",
      "  label 38: 200\n",
      "  label 39: 200\n",
      "  label 40: 200\n",
      "  label 41: 200\n",
      "  label 42: 200\n",
      "  label 43: 200\n",
      "  label 44: 200\n",
      "  label 45: 242\n",
      "  label 46: 200\n",
      "  label 47: 200\n",
      "model is roberta-base lstm\n"
     ]
    },
    {
     "name": "stderr",
     "output_type": "stream",
     "text": [
      "Some weights of RobertaModel were not initialized from the model checkpoint at roberta-base and are newly initialized: ['pooler.dense.bias', 'pooler.dense.weight']\n",
      "You should probably TRAIN this model on a down-stream task to be able to use it for predictions and inference.\n"
     ]
    },
    {
     "name": "stdout",
     "output_type": "stream",
     "text": [
      "Epoch 1/20\n"
     ]
    },
    {
     "name": "stderr",
     "output_type": "stream",
     "text": [
      "100%|██████████| 745/745 [01:07<00:00, 10.98it/s]\n"
     ]
    },
    {
     "name": "stdout",
     "output_type": "stream",
     "text": [
      "{'val_loss': 2.100950944350987, 'val_accuracy': 0.4771341463414634, 'precision': 0.45410809438738453, 'recall': 0.4771341463414634, 'f1-score': 0.42736336465241526, 'macro_f1-score': 0.1441560646211553, 'balanced_accuracy': 0.20813330351628792, 'mcc': 0.2763383227486145, 'train_loss': 2.8909245612637307}\n",
      "Epoch 2/20\n"
     ]
    },
    {
     "name": "stderr",
     "output_type": "stream",
     "text": [
      "100%|██████████| 745/745 [01:07<00:00, 11.00it/s]\n"
     ]
    },
    {
     "name": "stdout",
     "output_type": "stream",
     "text": [
      "{'val_loss': 1.9348488290135453, 'val_accuracy': 0.4885670731707317, 'precision': 0.5219283242263191, 'recall': 0.4885670731707317, 'f1-score': 0.4676510165631374, 'macro_f1-score': 0.21832797650203717, 'balanced_accuracy': 0.2854891917563844, 'mcc': 0.32144538498695535, 'train_loss': 1.9391158891204219}\n",
      "Epoch 3/20\n"
     ]
    },
    {
     "name": "stderr",
     "output_type": "stream",
     "text": [
      "100%|██████████| 745/745 [01:07<00:00, 11.01it/s]\n"
     ]
    },
    {
     "name": "stdout",
     "output_type": "stream",
     "text": [
      "{'val_loss': 1.8485416130321781, 'val_accuracy': 0.5221036585365854, 'precision': 0.5469033066252642, 'recall': 0.5221036585365854, 'f1-score': 0.5043606427715513, 'macro_f1-score': 0.2576257603383587, 'balanced_accuracy': 0.3115136000913032, 'mcc': 0.3658528251833768, 'train_loss': 1.5062501971353621}\n",
      "Epoch 4/20\n"
     ]
    },
    {
     "name": "stderr",
     "output_type": "stream",
     "text": [
      "100%|██████████| 745/745 [01:07<00:00, 11.00it/s]\n"
     ]
    },
    {
     "name": "stdout",
     "output_type": "stream",
     "text": [
      "{'val_loss': 1.674817112524335, 'val_accuracy': 0.583079268292683, 'precision': 0.6057839114976065, 'recall': 0.583079268292683, 'f1-score': 0.5489558659507069, 'macro_f1-score': 0.3310386122685047, 'balanced_accuracy': 0.36782791707007706, 'mcc': 0.4269042908714463, 'train_loss': 1.2428478270969134}\n",
      "Epoch 5/20\n"
     ]
    },
    {
     "name": "stderr",
     "output_type": "stream",
     "text": [
      "100%|██████████| 745/745 [01:07<00:00, 10.99it/s]\n"
     ]
    },
    {
     "name": "stdout",
     "output_type": "stream",
     "text": [
      "{'val_loss': 1.7123071365967029, 'val_accuracy': 0.5701219512195121, 'precision': 0.5878148826295311, 'recall': 0.5701219512195121, 'f1-score': 0.5571948713563101, 'macro_f1-score': 0.3193649201510596, 'balanced_accuracy': 0.3687320305106012, 'mcc': 0.42768373169643376, 'train_loss': 1.053620371722535}\n",
      "Epoch 6/20\n"
     ]
    },
    {
     "name": "stderr",
     "output_type": "stream",
     "text": [
      "100%|██████████| 745/745 [01:07<00:00, 10.98it/s]\n"
     ]
    },
    {
     "name": "stdout",
     "output_type": "stream",
     "text": [
      "{'val_loss': 1.8074004588330663, 'val_accuracy': 0.5739329268292683, 'precision': 0.5796357505700276, 'recall': 0.5739329268292683, 'f1-score': 0.5469761443869549, 'macro_f1-score': 0.31193918280691996, 'balanced_accuracy': 0.3285180402593023, 'mcc': 0.4124074403654907, 'train_loss': 0.8482677210497376}\n",
      "Epoch 7/20\n"
     ]
    },
    {
     "name": "stderr",
     "output_type": "stream",
     "text": [
      "100%|██████████| 745/745 [01:10<00:00, 10.60it/s]\n"
     ]
    },
    {
     "name": "stdout",
     "output_type": "stream",
     "text": [
      "{'val_loss': 1.8372729438834075, 'val_accuracy': 0.5586890243902439, 'precision': 0.5796526278598065, 'recall': 0.5586890243902439, 'f1-score': 0.5548218349539163, 'macro_f1-score': 0.3196095282671767, 'balanced_accuracy': 0.37961593294755486, 'mcc': 0.42767860155794474, 'train_loss': 0.7334051493630314}\n",
      "Early stopping.\n",
      "\n",
      "[Fold 2]\n",
      "🚀 Using Word2Vec for data augmentation\n",
      "🔧 Augmenting label 1: 22 → 200 (+178)\n",
      "🔧 Augmenting label 2: 64 → 200 (+136)\n",
      "🔧 Augmenting label 3: 24 → 200 (+176)\n",
      "🔧 Augmenting label 4: 190 → 200 (+10)\n",
      "🔧 Augmenting label 5: 113 → 200 (+87)\n",
      "🔧 Augmenting label 6: 93 → 200 (+107)\n",
      "🔧 Augmenting label 7: 30 → 200 (+170)\n",
      "🔧 Augmenting label 8: 68 → 200 (+132)\n",
      "🔧 Augmenting label 9: 30 → 200 (+170)\n",
      "🔧 Augmenting label 10: 67 → 200 (+133)\n",
      "🔧 Augmenting label 11: 169 → 200 (+31)\n",
      "🔧 Augmenting label 12: 189 → 200 (+11)\n",
      "🔧 Augmenting label 13: 29 → 200 (+171)\n",
      "🔧 Augmenting label 14: 23 → 200 (+177)\n",
      "🔧 Augmenting label 15: 24 → 200 (+176)\n",
      "🔧 Augmenting label 16: 20 → 200 (+180)\n",
      "🔧 Augmenting label 17: 182 → 200 (+18)\n",
      "🔧 Augmenting label 18: 92 → 200 (+108)\n",
      "🔧 Augmenting label 19: 44 → 200 (+156)\n",
      "🔧 Augmenting label 20: 13 → 200 (+187)\n",
      "🔧 Augmenting label 21: 36 → 200 (+164)\n",
      "🔧 Augmenting label 22: 76 → 200 (+124)\n",
      "🔧 Augmenting label 23: 157 → 200 (+43)\n",
      "🔧 Augmenting label 24: 12 → 200 (+188)\n",
      "🔧 Augmenting label 25: 44 → 200 (+156)\n",
      "🔧 Augmenting label 26: 84 → 200 (+116)\n",
      "🔧 Augmenting label 27: 48 → 200 (+152)\n",
      "🔧 Augmenting label 28: 12 → 200 (+188)\n",
      "🔧 Augmenting label 29: 12 → 200 (+188)\n",
      "🔧 Augmenting label 30: 12 → 200 (+188)\n",
      "🔧 Augmenting label 31: 75 → 200 (+125)\n",
      "🔧 Augmenting label 32: 36 → 200 (+164)\n",
      "🔧 Augmenting label 33: 31 → 200 (+169)\n",
      "🔧 Augmenting label 34: 29 → 200 (+171)\n",
      "🔧 Augmenting label 35: 12 → 200 (+188)\n",
      "🔧 Augmenting label 36: 21 → 200 (+179)\n",
      "🔧 Augmenting label 37: 16 → 200 (+184)\n",
      "🔧 Augmenting label 38: 33 → 200 (+167)\n",
      "🔧 Augmenting label 39: 11 → 200 (+189)\n",
      "🔧 Augmenting label 40: 8 → 200 (+192)\n",
      "🔧 Augmenting label 41: 57 → 200 (+143)\n",
      "🔧 Augmenting label 42: 19 → 200 (+181)\n",
      "🔧 Augmenting label 43: 9 → 200 (+191)\n",
      "🔧 Augmenting label 44: 54 → 200 (+146)\n",
      "🔧 Augmenting label 46: 62 → 200 (+138)\n",
      "🔧 Augmenting label 47: 80 → 200 (+120)\n",
      "Label distribution after resampling:\n",
      "  label 0: 2471\n",
      "  label 1: 200\n",
      "  label 2: 200\n",
      "  label 3: 200\n",
      "  label 4: 200\n",
      "  label 5: 200\n",
      "  label 6: 200\n",
      "  label 7: 200\n",
      "  label 8: 200\n",
      "  label 9: 200\n",
      "  label 10: 200\n",
      "  label 11: 200\n",
      "  label 12: 200\n",
      "  label 13: 200\n",
      "  label 14: 200\n",
      "  label 15: 200\n",
      "  label 16: 200\n",
      "  label 17: 200\n",
      "  label 18: 200\n",
      "  label 19: 200\n",
      "  label 20: 200\n",
      "  label 21: 200\n",
      "  label 22: 200\n",
      "  label 23: 200\n",
      "  label 24: 200\n",
      "  label 25: 200\n",
      "  label 26: 200\n",
      "  label 27: 200\n",
      "  label 28: 200\n",
      "  label 29: 200\n",
      "  label 30: 200\n",
      "  label 31: 200\n",
      "  label 32: 200\n",
      "  label 33: 200\n",
      "  label 34: 200\n",
      "  label 35: 200\n",
      "  label 36: 200\n",
      "  label 37: 200\n",
      "  label 38: 200\n",
      "  label 39: 200\n",
      "  label 40: 200\n",
      "  label 41: 200\n",
      "  label 42: 200\n",
      "  label 43: 200\n",
      "  label 44: 200\n",
      "  label 45: 242\n",
      "  label 46: 200\n",
      "  label 47: 200\n",
      "model is roberta-base lstm\n"
     ]
    },
    {
     "name": "stderr",
     "output_type": "stream",
     "text": [
      "Some weights of RobertaModel were not initialized from the model checkpoint at roberta-base and are newly initialized: ['pooler.dense.bias', 'pooler.dense.weight']\n",
      "You should probably TRAIN this model on a down-stream task to be able to use it for predictions and inference.\n"
     ]
    },
    {
     "name": "stdout",
     "output_type": "stream",
     "text": [
      "Epoch 1/20\n"
     ]
    },
    {
     "name": "stderr",
     "output_type": "stream",
     "text": [
      "100%|██████████| 745/745 [01:10<00:00, 10.54it/s]\n"
     ]
    },
    {
     "name": "stdout",
     "output_type": "stream",
     "text": [
      "{'val_loss': 1.9406825253149358, 'val_accuracy': 0.5102974828375286, 'precision': 0.43403715806161697, 'recall': 0.5102974828375286, 'f1-score': 0.42509768876190457, 'macro_f1-score': 0.1601520458603967, 'balanced_accuracy': 0.20510976418053095, 'mcc': 0.2851363435421125, 'train_loss': 2.8888089424811754}\n",
      "Epoch 2/20\n"
     ]
    },
    {
     "name": "stderr",
     "output_type": "stream",
     "text": [
      "100%|██████████| 745/745 [01:10<00:00, 10.53it/s]\n"
     ]
    },
    {
     "name": "stdout",
     "output_type": "stream",
     "text": [
      "{'val_loss': 1.7513737816636155, 'val_accuracy': 0.5255530129672006, 'precision': 0.5681839488903369, 'recall': 0.5255530129672006, 'f1-score': 0.5047519233333515, 'macro_f1-score': 0.23792015990369186, 'balanced_accuracy': 0.3140200228887169, 'mcc': 0.3663540312328169, 'train_loss': 1.8986768872145838}\n",
      "Epoch 3/20\n"
     ]
    },
    {
     "name": "stderr",
     "output_type": "stream",
     "text": [
      "100%|██████████| 745/745 [01:10<00:00, 10.54it/s]\n"
     ]
    },
    {
     "name": "stdout",
     "output_type": "stream",
     "text": [
      "{'val_loss': 1.639527661771309, 'val_accuracy': 0.5499618611746758, 'precision': 0.5441525800998438, 'recall': 0.5499618611746758, 'f1-score': 0.5232040397231521, 'macro_f1-score': 0.2392926235984102, 'balanced_accuracy': 0.31076569489159017, 'mcc': 0.39453879309660295, 'train_loss': 1.4217807655366475}\n",
      "Epoch 4/20\n"
     ]
    },
    {
     "name": "stderr",
     "output_type": "stream",
     "text": [
      "100%|██████████| 745/745 [01:10<00:00, 10.55it/s]\n"
     ]
    },
    {
     "name": "stdout",
     "output_type": "stream",
     "text": [
      "{'val_loss': 1.6707244529956724, 'val_accuracy': 0.5331807780320366, 'precision': 0.6128293348491911, 'recall': 0.5331807780320366, 'f1-score': 0.5455884276644373, 'macro_f1-score': 0.3068287831159398, 'balanced_accuracy': 0.40945015247249433, 'mcc': 0.42028940612760984, 'train_loss': 1.1549698502025347}\n",
      "Epoch 5/20\n"
     ]
    },
    {
     "name": "stderr",
     "output_type": "stream",
     "text": [
      "100%|██████████| 745/745 [01:10<00:00, 10.51it/s]\n"
     ]
    },
    {
     "name": "stdout",
     "output_type": "stream",
     "text": [
      "{'val_loss': 1.5431290523308079, 'val_accuracy': 0.5720823798627003, 'precision': 0.6068402841520674, 'recall': 0.5720823798627003, 'f1-score': 0.5709560507878414, 'macro_f1-score': 0.3172895052033497, 'balanced_accuracy': 0.4132601784559043, 'mcc': 0.4513146041530784, 'train_loss': 0.9148285126726099}\n",
      "Epoch 6/20\n"
     ]
    },
    {
     "name": "stderr",
     "output_type": "stream",
     "text": [
      "100%|██████████| 745/745 [01:10<00:00, 10.51it/s]\n"
     ]
    },
    {
     "name": "stdout",
     "output_type": "stream",
     "text": [
      "{'val_loss': 1.5495750206272776, 'val_accuracy': 0.5995423340961098, 'precision': 0.5932198641990517, 'recall': 0.5995423340961098, 'f1-score': 0.5770843511920787, 'macro_f1-score': 0.30455843546399536, 'balanced_accuracy': 0.322658710944923, 'mcc': 0.4554102704693275, 'train_loss': 0.7666360788197325}\n",
      "Epoch 7/20\n"
     ]
    },
    {
     "name": "stderr",
     "output_type": "stream",
     "text": [
      "100%|██████████| 745/745 [01:10<00:00, 10.52it/s]\n"
     ]
    },
    {
     "name": "stdout",
     "output_type": "stream",
     "text": [
      "{'val_loss': 1.6052220863539999, 'val_accuracy': 0.6003051106025934, 'precision': 0.6208509568033072, 'recall': 0.6003051106025934, 'f1-score': 0.5942039507884347, 'macro_f1-score': 0.3377239655639212, 'balanced_accuracy': 0.36081960323202783, 'mcc': 0.4785734418751931, 'train_loss': 0.6425836175780169}\n",
      "Epoch 8/20\n"
     ]
    },
    {
     "name": "stderr",
     "output_type": "stream",
     "text": [
      "100%|██████████| 745/745 [01:10<00:00, 10.50it/s]\n"
     ]
    },
    {
     "name": "stdout",
     "output_type": "stream",
     "text": [
      "{'val_loss': 1.621675547303223, 'val_accuracy': 0.5812356979405034, 'precision': 0.6007420356176568, 'recall': 0.5812356979405034, 'f1-score': 0.5826581357511404, 'macro_f1-score': 0.34470903361185073, 'balanced_accuracy': 0.3927637510652084, 'mcc': 0.4597041170618832, 'train_loss': 0.6099122570665091}\n",
      "Epoch 9/20\n"
     ]
    },
    {
     "name": "stderr",
     "output_type": "stream",
     "text": [
      "100%|██████████| 745/745 [01:10<00:00, 10.52it/s]\n"
     ]
    },
    {
     "name": "stdout",
     "output_type": "stream",
     "text": [
      "{'val_loss': 1.652415470379155, 'val_accuracy': 0.5850495804729214, 'precision': 0.6168167839980392, 'recall': 0.5850495804729214, 'f1-score': 0.5911145158918881, 'macro_f1-score': 0.32674739301029193, 'balanced_accuracy': 0.35955477811648057, 'mcc': 0.46612519032826777, 'train_loss': 0.5496718188260226}\n",
      "Epoch 10/20\n"
     ]
    },
    {
     "name": "stderr",
     "output_type": "stream",
     "text": [
      "100%|██████████| 745/745 [01:10<00:00, 10.53it/s]\n"
     ]
    },
    {
     "name": "stdout",
     "output_type": "stream",
     "text": [
      "{'val_loss': 1.7042814296920126, 'val_accuracy': 0.6102212051868803, 'precision': 0.6226726486666169, 'recall': 0.6102212051868803, 'f1-score': 0.6066417036189782, 'macro_f1-score': 0.36779330324918114, 'balanced_accuracy': 0.3878724847548685, 'mcc': 0.48527922283782643, 'train_loss': 0.4421474502715688}\n",
      "Epoch 11/20\n"
     ]
    },
    {
     "name": "stderr",
     "output_type": "stream",
     "text": [
      "100%|██████████| 745/745 [01:11<00:00, 10.49it/s]\n"
     ]
    },
    {
     "name": "stdout",
     "output_type": "stream",
     "text": [
      "{'val_loss': 1.7464945897823427, 'val_accuracy': 0.6170861937452327, 'precision': 0.6026017011174164, 'recall': 0.6170861937452327, 'f1-score': 0.5955346519051846, 'macro_f1-score': 0.36283375108950083, 'balanced_accuracy': 0.3870963503788542, 'mcc': 0.48388309837067844, 'train_loss': 0.4330121713121665}\n",
      "Epoch 12/20\n"
     ]
    },
    {
     "name": "stderr",
     "output_type": "stream",
     "text": [
      "100%|██████████| 745/745 [01:11<00:00, 10.48it/s]\n"
     ]
    },
    {
     "name": "stdout",
     "output_type": "stream",
     "text": [
      "{'val_loss': 1.73563029598899, 'val_accuracy': 0.6300533943554538, 'precision': 0.6125439009781991, 'recall': 0.6300533943554538, 'f1-score': 0.6104064394595178, 'macro_f1-score': 0.370154684199389, 'balanced_accuracy': 0.37891887289212406, 'mcc': 0.4983868036870761, 'train_loss': 0.36286082250759905}\n",
      "Epoch 13/20\n"
     ]
    },
    {
     "name": "stderr",
     "output_type": "stream",
     "text": [
      "100%|██████████| 745/745 [01:10<00:00, 10.50it/s]\n"
     ]
    },
    {
     "name": "stdout",
     "output_type": "stream",
     "text": [
      "{'val_loss': 1.771275528320452, 'val_accuracy': 0.6155606407322655, 'precision': 0.6224519565092758, 'recall': 0.6155606407322655, 'f1-score': 0.610484274002475, 'macro_f1-score': 0.36996876939523377, 'balanced_accuracy': 0.39290147852791896, 'mcc': 0.49761067469946735, 'train_loss': 0.31916452620753505}\n",
      "Epoch 14/20\n"
     ]
    },
    {
     "name": "stderr",
     "output_type": "stream",
     "text": [
      "100%|██████████| 745/745 [01:11<00:00, 10.48it/s]\n"
     ]
    },
    {
     "name": "stdout",
     "output_type": "stream",
     "text": [
      "{'val_loss': 1.7600514990527456, 'val_accuracy': 0.6231884057971014, 'precision': 0.6167753342137113, 'recall': 0.6231884057971014, 'f1-score': 0.6105279002906868, 'macro_f1-score': 0.351041424909816, 'balanced_accuracy': 0.36498177847912155, 'mcc': 0.49766216131666047, 'train_loss': 0.31514404180565936}\n",
      "Epoch 15/20\n"
     ]
    },
    {
     "name": "stderr",
     "output_type": "stream",
     "text": [
      "100%|██████████| 745/745 [01:10<00:00, 10.59it/s]\n"
     ]
    },
    {
     "name": "stdout",
     "output_type": "stream",
     "text": [
      "{'val_loss': 1.93334657244566, 'val_accuracy': 0.589626239511823, 'precision': 0.6427321405153097, 'recall': 0.589626239511823, 'f1-score': 0.5966379506637518, 'macro_f1-score': 0.36474874507537747, 'balanced_accuracy': 0.4023540187300259, 'mcc': 0.48830956521212543, 'train_loss': 0.2689506563614279}\n",
      "Early stopping.\n",
      "\n",
      "[Fold 3]\n",
      "🚀 Using Word2Vec for data augmentation\n",
      "🔧 Augmenting label 1: 22 → 200 (+178)\n",
      "🔧 Augmenting label 2: 64 → 200 (+136)\n",
      "🔧 Augmenting label 3: 24 → 200 (+176)\n",
      "🔧 Augmenting label 4: 190 → 200 (+10)\n",
      "🔧 Augmenting label 5: 113 → 200 (+87)\n",
      "🔧 Augmenting label 6: 93 → 200 (+107)\n",
      "🔧 Augmenting label 7: 30 → 200 (+170)\n",
      "🔧 Augmenting label 8: 68 → 200 (+132)\n",
      "🔧 Augmenting label 9: 30 → 200 (+170)\n",
      "🔧 Augmenting label 10: 67 → 200 (+133)\n",
      "🔧 Augmenting label 11: 169 → 200 (+31)\n",
      "🔧 Augmenting label 12: 190 → 200 (+10)\n",
      "🔧 Augmenting label 13: 28 → 200 (+172)\n",
      "🔧 Augmenting label 14: 23 → 200 (+177)\n",
      "🔧 Augmenting label 15: 25 → 200 (+175)\n",
      "🔧 Augmenting label 16: 19 → 200 (+181)\n",
      "🔧 Augmenting label 17: 182 → 200 (+18)\n",
      "🔧 Augmenting label 18: 92 → 200 (+108)\n",
      "🔧 Augmenting label 19: 44 → 200 (+156)\n",
      "🔧 Augmenting label 20: 14 → 200 (+186)\n",
      "🔧 Augmenting label 21: 35 → 200 (+165)\n",
      "🔧 Augmenting label 22: 76 → 200 (+124)\n",
      "🔧 Augmenting label 23: 157 → 200 (+43)\n",
      "🔧 Augmenting label 24: 13 → 200 (+187)\n",
      "🔧 Augmenting label 25: 44 → 200 (+156)\n",
      "🔧 Augmenting label 26: 84 → 200 (+116)\n",
      "🔧 Augmenting label 27: 48 → 200 (+152)\n",
      "🔧 Augmenting label 28: 11 → 200 (+189)\n",
      "🔧 Augmenting label 29: 13 → 200 (+187)\n",
      "🔧 Augmenting label 30: 11 → 200 (+189)\n",
      "🔧 Augmenting label 31: 76 → 200 (+124)\n",
      "🔧 Augmenting label 32: 36 → 200 (+164)\n",
      "🔧 Augmenting label 33: 31 → 200 (+169)\n",
      "🔧 Augmenting label 34: 30 → 200 (+170)\n",
      "🔧 Augmenting label 35: 11 → 200 (+189)\n",
      "🔧 Augmenting label 36: 21 → 200 (+179)\n",
      "🔧 Augmenting label 37: 16 → 200 (+184)\n",
      "🔧 Augmenting label 38: 32 → 200 (+168)\n",
      "🔧 Augmenting label 39: 11 → 200 (+189)\n",
      "🔧 Augmenting label 40: 9 → 200 (+191)\n",
      "🔧 Augmenting label 41: 57 → 200 (+143)\n",
      "🔧 Augmenting label 42: 18 → 200 (+182)\n",
      "🔧 Augmenting label 43: 9 → 200 (+191)\n",
      "🔧 Augmenting label 44: 55 → 200 (+145)\n",
      "🔧 Augmenting label 46: 62 → 200 (+138)\n",
      "🔧 Augmenting label 47: 80 → 200 (+120)\n",
      "Label distribution after resampling:\n",
      "  label 0: 2471\n",
      "  label 1: 200\n",
      "  label 2: 200\n",
      "  label 3: 200\n",
      "  label 4: 200\n",
      "  label 5: 200\n",
      "  label 6: 200\n",
      "  label 7: 200\n",
      "  label 8: 200\n",
      "  label 9: 200\n",
      "  label 10: 200\n",
      "  label 11: 200\n",
      "  label 12: 200\n",
      "  label 13: 200\n",
      "  label 14: 200\n",
      "  label 15: 200\n",
      "  label 16: 200\n",
      "  label 17: 200\n",
      "  label 18: 200\n",
      "  label 19: 200\n",
      "  label 20: 200\n",
      "  label 21: 200\n",
      "  label 22: 200\n",
      "  label 23: 200\n",
      "  label 24: 200\n",
      "  label 25: 200\n",
      "  label 26: 200\n",
      "  label 27: 200\n",
      "  label 28: 200\n",
      "  label 29: 200\n",
      "  label 30: 200\n",
      "  label 31: 200\n",
      "  label 32: 200\n",
      "  label 33: 200\n",
      "  label 34: 200\n",
      "  label 35: 200\n",
      "  label 36: 200\n",
      "  label 37: 200\n",
      "  label 38: 200\n",
      "  label 39: 200\n",
      "  label 40: 200\n",
      "  label 41: 200\n",
      "  label 42: 200\n",
      "  label 43: 200\n",
      "  label 44: 200\n",
      "  label 45: 241\n",
      "  label 46: 200\n",
      "  label 47: 200\n",
      "model is roberta-base lstm\n"
     ]
    },
    {
     "name": "stderr",
     "output_type": "stream",
     "text": [
      "Some weights of RobertaModel were not initialized from the model checkpoint at roberta-base and are newly initialized: ['pooler.dense.bias', 'pooler.dense.weight']\n",
      "You should probably TRAIN this model on a down-stream task to be able to use it for predictions and inference.\n"
     ]
    },
    {
     "name": "stdout",
     "output_type": "stream",
     "text": [
      "Epoch 1/20\n"
     ]
    },
    {
     "name": "stderr",
     "output_type": "stream",
     "text": [
      "100%|██████████| 745/745 [01:10<00:00, 10.55it/s]\n"
     ]
    },
    {
     "name": "stdout",
     "output_type": "stream",
     "text": [
      "{'val_loss': 2.14171828438596, 'val_accuracy': 0.4469870327993898, 'precision': 0.4520302609465965, 'recall': 0.4469870327993898, 'f1-score': 0.42997357483943766, 'macro_f1-score': 0.1401847307966788, 'balanced_accuracy': 0.21890171301943884, 'mcc': 0.272051173476816, 'train_loss': 2.900362200064947}\n",
      "Epoch 2/20\n"
     ]
    },
    {
     "name": "stderr",
     "output_type": "stream",
     "text": [
      "100%|██████████| 745/745 [01:10<00:00, 10.51it/s]\n"
     ]
    },
    {
     "name": "stdout",
     "output_type": "stream",
     "text": [
      "{'val_loss': 1.8836406621991135, 'val_accuracy': 0.4927536231884058, 'precision': 0.5167268909253595, 'recall': 0.4927536231884058, 'f1-score': 0.4838298066289866, 'macro_f1-score': 0.24506994283105743, 'balanced_accuracy': 0.3367106939046363, 'mcc': 0.34265324570754224, 'train_loss': 1.9206573740747952}\n",
      "Epoch 3/20\n"
     ]
    },
    {
     "name": "stderr",
     "output_type": "stream",
     "text": [
      "100%|██████████| 745/745 [01:10<00:00, 10.53it/s]\n"
     ]
    },
    {
     "name": "stdout",
     "output_type": "stream",
     "text": [
      "{'val_loss': 1.6844491537024335, 'val_accuracy': 0.551487414187643, 'precision': 0.5781993369975548, 'recall': 0.551487414187643, 'f1-score': 0.5406957841231019, 'macro_f1-score': 0.31032684055485144, 'balanced_accuracy': 0.3470705365007271, 'mcc': 0.3989159867900149, 'train_loss': 1.466602740431792}\n",
      "Epoch 4/20\n"
     ]
    },
    {
     "name": "stderr",
     "output_type": "stream",
     "text": [
      "100%|██████████| 745/745 [01:10<00:00, 10.56it/s]\n"
     ]
    },
    {
     "name": "stdout",
     "output_type": "stream",
     "text": [
      "{'val_loss': 1.7208747482154427, 'val_accuracy': 0.5362318840579711, 'precision': 0.5902785755595785, 'recall': 0.5362318840579711, 'f1-score': 0.5339692121250912, 'macro_f1-score': 0.29873606203075237, 'balanced_accuracy': 0.33697988970158516, 'mcc': 0.39298262013167323, 'train_loss': 1.2010360822581605}\n",
      "Epoch 5/20\n"
     ]
    },
    {
     "name": "stderr",
     "output_type": "stream",
     "text": [
      "100%|██████████| 745/745 [01:10<00:00, 10.56it/s]\n"
     ]
    },
    {
     "name": "stdout",
     "output_type": "stream",
     "text": [
      "{'val_loss': 1.7013737363059347, 'val_accuracy': 0.5873379099923722, 'precision': 0.57723100691023, 'recall': 0.5873379099923722, 'f1-score': 0.5607768293455377, 'macro_f1-score': 0.3492763872555837, 'balanced_accuracy': 0.3719863792570645, 'mcc': 0.4364247658564187, 'train_loss': 0.9709579208353222}\n",
      "Epoch 6/20\n"
     ]
    },
    {
     "name": "stderr",
     "output_type": "stream",
     "text": [
      "100%|██████████| 745/745 [01:10<00:00, 10.54it/s]\n"
     ]
    },
    {
     "name": "stdout",
     "output_type": "stream",
     "text": [
      "{'val_loss': 1.690380500584114, 'val_accuracy': 0.5797101449275363, 'precision': 0.5912320390400917, 'recall': 0.5797101449275363, 'f1-score': 0.5734348692052638, 'macro_f1-score': 0.3399079361393942, 'balanced_accuracy': 0.35870487435254184, 'mcc': 0.4396204972136607, 'train_loss': 0.7947940791213273}\n",
      "Epoch 7/20\n"
     ]
    },
    {
     "name": "stderr",
     "output_type": "stream",
     "text": [
      "100%|██████████| 745/745 [01:10<00:00, 10.50it/s]\n"
     ]
    },
    {
     "name": "stdout",
     "output_type": "stream",
     "text": [
      "{'val_loss': 2.045893559732088, 'val_accuracy': 0.6018306636155606, 'precision': 0.5442321530426961, 'recall': 0.6018306636155606, 'f1-score': 0.5366074044689427, 'macro_f1-score': 0.2764881586616074, 'balanced_accuracy': 0.2666591721121263, 'mcc': 0.42727245090094734, 'train_loss': 0.7161157755943752}\n",
      "Epoch 8/20\n"
     ]
    },
    {
     "name": "stderr",
     "output_type": "stream",
     "text": [
      "100%|██████████| 745/745 [01:10<00:00, 10.56it/s]\n"
     ]
    },
    {
     "name": "stdout",
     "output_type": "stream",
     "text": [
      "{'val_loss': 1.9522825282339642, 'val_accuracy': 0.5461479786422578, 'precision': 0.5912355035943835, 'recall': 0.5461479786422578, 'f1-score': 0.5475335041810679, 'macro_f1-score': 0.31797558882097954, 'balanced_accuracy': 0.35205278399164525, 'mcc': 0.41138085593904095, 'train_loss': 0.6177371647033916}\n",
      "Early stopping.\n",
      "\n",
      "[Fold 4]\n",
      "🚀 Using Word2Vec for data augmentation\n",
      "🔧 Augmenting label 1: 22 → 200 (+178)\n",
      "🔧 Augmenting label 2: 64 → 200 (+136)\n",
      "🔧 Augmenting label 3: 24 → 200 (+176)\n",
      "🔧 Augmenting label 4: 190 → 200 (+10)\n",
      "🔧 Augmenting label 5: 113 → 200 (+87)\n",
      "🔧 Augmenting label 6: 93 → 200 (+107)\n",
      "🔧 Augmenting label 7: 31 → 200 (+169)\n",
      "🔧 Augmenting label 8: 68 → 200 (+132)\n",
      "🔧 Augmenting label 9: 29 → 200 (+171)\n",
      "🔧 Augmenting label 10: 67 → 200 (+133)\n",
      "🔧 Augmenting label 11: 169 → 200 (+31)\n",
      "🔧 Augmenting label 12: 190 → 200 (+10)\n",
      "🔧 Augmenting label 13: 29 → 200 (+171)\n",
      "🔧 Augmenting label 14: 22 → 200 (+178)\n",
      "🔧 Augmenting label 15: 25 → 200 (+175)\n",
      "🔧 Augmenting label 16: 19 → 200 (+181)\n",
      "🔧 Augmenting label 17: 182 → 200 (+18)\n",
      "🔧 Augmenting label 18: 92 → 200 (+108)\n",
      "🔧 Augmenting label 19: 44 → 200 (+156)\n",
      "🔧 Augmenting label 20: 14 → 200 (+186)\n",
      "🔧 Augmenting label 21: 35 → 200 (+165)\n",
      "🔧 Augmenting label 22: 76 → 200 (+124)\n",
      "🔧 Augmenting label 23: 158 → 200 (+42)\n",
      "🔧 Augmenting label 24: 13 → 200 (+187)\n",
      "🔧 Augmenting label 25: 44 → 200 (+156)\n",
      "🔧 Augmenting label 26: 84 → 200 (+116)\n",
      "🔧 Augmenting label 27: 48 → 200 (+152)\n",
      "🔧 Augmenting label 28: 11 → 200 (+189)\n",
      "🔧 Augmenting label 29: 13 → 200 (+187)\n",
      "🔧 Augmenting label 30: 11 → 200 (+189)\n",
      "🔧 Augmenting label 31: 75 → 200 (+125)\n",
      "🔧 Augmenting label 32: 36 → 200 (+164)\n",
      "🔧 Augmenting label 33: 31 → 200 (+169)\n",
      "🔧 Augmenting label 34: 30 → 200 (+170)\n",
      "🔧 Augmenting label 35: 11 → 200 (+189)\n",
      "🔧 Augmenting label 36: 22 → 200 (+178)\n",
      "🔧 Augmenting label 37: 16 → 200 (+184)\n",
      "🔧 Augmenting label 38: 33 → 200 (+167)\n",
      "🔧 Augmenting label 39: 10 → 200 (+190)\n",
      "🔧 Augmenting label 40: 9 → 200 (+191)\n",
      "🔧 Augmenting label 41: 56 → 200 (+144)\n",
      "🔧 Augmenting label 42: 18 → 200 (+182)\n",
      "🔧 Augmenting label 43: 9 → 200 (+191)\n",
      "🔧 Augmenting label 44: 55 → 200 (+145)\n",
      "🔧 Augmenting label 46: 62 → 200 (+138)\n",
      "🔧 Augmenting label 47: 80 → 200 (+120)\n",
      "Label distribution after resampling:\n",
      "  label 0: 2471\n",
      "  label 1: 200\n",
      "  label 2: 200\n",
      "  label 3: 200\n",
      "  label 4: 200\n",
      "  label 5: 200\n",
      "  label 6: 200\n",
      "  label 7: 200\n",
      "  label 8: 200\n",
      "  label 9: 200\n",
      "  label 10: 200\n",
      "  label 11: 200\n",
      "  label 12: 200\n",
      "  label 13: 200\n",
      "  label 14: 200\n",
      "  label 15: 200\n",
      "  label 16: 200\n",
      "  label 17: 200\n",
      "  label 18: 200\n",
      "  label 19: 200\n",
      "  label 20: 200\n",
      "  label 21: 200\n",
      "  label 22: 200\n",
      "  label 23: 200\n",
      "  label 24: 200\n",
      "  label 25: 200\n",
      "  label 26: 200\n",
      "  label 27: 200\n",
      "  label 28: 200\n",
      "  label 29: 200\n",
      "  label 30: 200\n",
      "  label 31: 200\n",
      "  label 32: 200\n",
      "  label 33: 200\n",
      "  label 34: 200\n",
      "  label 35: 200\n",
      "  label 36: 200\n",
      "  label 37: 200\n",
      "  label 38: 200\n",
      "  label 39: 200\n",
      "  label 40: 200\n",
      "  label 41: 200\n",
      "  label 42: 200\n",
      "  label 43: 200\n",
      "  label 44: 200\n",
      "  label 45: 241\n",
      "  label 46: 200\n",
      "  label 47: 200\n",
      "model is roberta-base lstm\n"
     ]
    },
    {
     "name": "stderr",
     "output_type": "stream",
     "text": [
      "Some weights of RobertaModel were not initialized from the model checkpoint at roberta-base and are newly initialized: ['pooler.dense.bias', 'pooler.dense.weight']\n",
      "You should probably TRAIN this model on a down-stream task to be able to use it for predictions and inference.\n"
     ]
    },
    {
     "name": "stdout",
     "output_type": "stream",
     "text": [
      "Epoch 1/20\n"
     ]
    },
    {
     "name": "stderr",
     "output_type": "stream",
     "text": [
      "100%|██████████| 745/745 [01:10<00:00, 10.56it/s]\n"
     ]
    },
    {
     "name": "stdout",
     "output_type": "stream",
     "text": [
      "{'val_loss': 2.2199967140104713, 'val_accuracy': 0.4622425629290618, 'precision': 0.38499411576846587, 'recall': 0.4622425629290618, 'f1-score': 0.4147999594287601, 'macro_f1-score': 0.10903183167867336, 'balanced_accuracy': 0.1665404442014268, 'mcc': 0.28183121482658274, 'train_loss': 3.1282243312605273}\n",
      "Epoch 2/20\n"
     ]
    },
    {
     "name": "stderr",
     "output_type": "stream",
     "text": [
      "100%|██████████| 745/745 [01:10<00:00, 10.55it/s]\n"
     ]
    },
    {
     "name": "stdout",
     "output_type": "stream",
     "text": [
      "{'val_loss': 1.8877929768911221, 'val_accuracy': 0.4874141876430206, 'precision': 0.5393001792074017, 'recall': 0.4874141876430206, 'f1-score': 0.48050625447044437, 'macro_f1-score': 0.20295723549238484, 'balanced_accuracy': 0.28015720554106405, 'mcc': 0.3425984173101724, 'train_loss': 2.206431582150043}\n",
      "Epoch 3/20\n"
     ]
    },
    {
     "name": "stderr",
     "output_type": "stream",
     "text": [
      "100%|██████████| 745/745 [01:10<00:00, 10.56it/s]\n"
     ]
    },
    {
     "name": "stdout",
     "output_type": "stream",
     "text": [
      "{'val_loss': 1.736214048978759, 'val_accuracy': 0.5347063310450039, 'precision': 0.5237557882795438, 'recall': 0.5347063310450039, 'f1-score': 0.5093561949457863, 'macro_f1-score': 0.24647093036933643, 'balanced_accuracy': 0.30991110949909806, 'mcc': 0.38402340300412824, 'train_loss': 1.7542261041250804}\n",
      "Epoch 4/20\n"
     ]
    },
    {
     "name": "stderr",
     "output_type": "stream",
     "text": [
      "100%|██████████| 745/745 [01:10<00:00, 10.54it/s]\n"
     ]
    },
    {
     "name": "stdout",
     "output_type": "stream",
     "text": [
      "{'val_loss': 1.675143672198784, 'val_accuracy': 0.5560640732265446, 'precision': 0.5675230435395671, 'recall': 0.5560640732265446, 'f1-score': 0.5354274320915856, 'macro_f1-score': 0.2957712165632715, 'balanced_accuracy': 0.3581028354493423, 'mcc': 0.40447269340640807, 'train_loss': 1.4064165366576022}\n",
      "Epoch 5/20\n"
     ]
    },
    {
     "name": "stderr",
     "output_type": "stream",
     "text": [
      "100%|██████████| 745/745 [01:10<00:00, 10.56it/s]\n"
     ]
    },
    {
     "name": "stdout",
     "output_type": "stream",
     "text": [
      "{'val_loss': 1.6331945697708827, 'val_accuracy': 0.5675057208237986, 'precision': 0.6044581530832284, 'recall': 0.5675057208237986, 'f1-score': 0.5579293093856904, 'macro_f1-score': 0.32533268859900183, 'balanced_accuracy': 0.36747023580970445, 'mcc': 0.43230111688870215, 'train_loss': 1.2255510363402782}\n",
      "Epoch 6/20\n"
     ]
    },
    {
     "name": "stderr",
     "output_type": "stream",
     "text": [
      "100%|██████████| 745/745 [01:10<00:00, 10.57it/s]\n"
     ]
    },
    {
     "name": "stdout",
     "output_type": "stream",
     "text": [
      "{'val_loss': 1.6314372300374798, 'val_accuracy': 0.5697940503432495, 'precision': 0.622410718471737, 'recall': 0.5697940503432495, 'f1-score': 0.5791605560943518, 'macro_f1-score': 0.3306418549436018, 'balanced_accuracy': 0.37377819426238923, 'mcc': 0.4469744374013518, 'train_loss': 1.0343993929408541}\n",
      "Epoch 7/20\n"
     ]
    },
    {
     "name": "stderr",
     "output_type": "stream",
     "text": [
      "100%|██████████| 745/745 [01:10<00:00, 10.55it/s]\n"
     ]
    },
    {
     "name": "stdout",
     "output_type": "stream",
     "text": [
      "{'val_loss': 1.590126596391201, 'val_accuracy': 0.6048817696414951, 'precision': 0.6220619426013403, 'recall': 0.6048817696414951, 'f1-score': 0.5970786885490051, 'macro_f1-score': 0.3566385151032006, 'balanced_accuracy': 0.38776907240647773, 'mcc': 0.479331573000998, 'train_loss': 0.8680576369666413}\n",
      "Epoch 8/20\n"
     ]
    },
    {
     "name": "stderr",
     "output_type": "stream",
     "text": [
      "100%|██████████| 745/745 [01:10<00:00, 10.54it/s]\n"
     ]
    },
    {
     "name": "stdout",
     "output_type": "stream",
     "text": [
      "{'val_loss': 1.7123702626402786, 'val_accuracy': 0.5911517925247902, 'precision': 0.6299056395385053, 'recall': 0.5911517925247902, 'f1-score': 0.5916285581565733, 'macro_f1-score': 0.34576758333231955, 'balanced_accuracy': 0.3801565528154207, 'mcc': 0.465374612146573, 'train_loss': 0.7652350370915945}\n",
      "Epoch 9/20\n"
     ]
    },
    {
     "name": "stderr",
     "output_type": "stream",
     "text": [
      "100%|██████████| 745/745 [01:10<00:00, 10.54it/s]\n"
     ]
    },
    {
     "name": "stdout",
     "output_type": "stream",
     "text": [
      "{'val_loss': 1.677468910722471, 'val_accuracy': 0.6041189931350115, 'precision': 0.6365366954358626, 'recall': 0.6041189931350115, 'f1-score': 0.6092933199287456, 'macro_f1-score': 0.36810354650069615, 'balanced_accuracy': 0.39513402218835775, 'mcc': 0.48652230684299513, 'train_loss': 0.674259701911235}\n",
      "Epoch 10/20\n"
     ]
    },
    {
     "name": "stderr",
     "output_type": "stream",
     "text": [
      "100%|██████████| 745/745 [01:10<00:00, 10.53it/s]\n"
     ]
    },
    {
     "name": "stdout",
     "output_type": "stream",
     "text": [
      "{'val_loss': 1.6939200781649206, 'val_accuracy': 0.5842868039664378, 'precision': 0.626798737751302, 'recall': 0.5842868039664378, 'f1-score': 0.5894684402972695, 'macro_f1-score': 0.36442733025253043, 'balanced_accuracy': 0.40901926326270494, 'mcc': 0.46321759006847696, 'train_loss': 0.6866334794951765}\n",
      "Epoch 11/20\n"
     ]
    },
    {
     "name": "stderr",
     "output_type": "stream",
     "text": [
      "100%|██████████| 745/745 [01:10<00:00, 10.56it/s]\n"
     ]
    },
    {
     "name": "stdout",
     "output_type": "stream",
     "text": [
      "{'val_loss': 1.6936867088079453, 'val_accuracy': 0.5964912280701754, 'precision': 0.6350487516145588, 'recall': 0.5964912280701754, 'f1-score': 0.5948675405802182, 'macro_f1-score': 0.3849069282772641, 'balanced_accuracy': 0.40999616316935, 'mcc': 0.4742383351893886, 'train_loss': 0.5880697630595841}\n",
      "Epoch 12/20\n"
     ]
    },
    {
     "name": "stderr",
     "output_type": "stream",
     "text": [
      "100%|██████████| 745/745 [01:10<00:00, 10.54it/s]\n"
     ]
    },
    {
     "name": "stdout",
     "output_type": "stream",
     "text": [
      "{'val_loss': 1.6406896034391916, 'val_accuracy': 0.6132723112128147, 'precision': 0.644761502043066, 'recall': 0.6132723112128147, 'f1-score': 0.6168159986299486, 'macro_f1-score': 0.40085328730675346, 'balanced_accuracy': 0.4226511112278819, 'mcc': 0.49767874337260815, 'train_loss': 0.4608208889129178}\n",
      "Epoch 13/20\n"
     ]
    },
    {
     "name": "stderr",
     "output_type": "stream",
     "text": [
      "100%|██████████| 745/745 [01:10<00:00, 10.57it/s]\n"
     ]
    },
    {
     "name": "stdout",
     "output_type": "stream",
     "text": [
      "{'val_loss': 1.7393758720377597, 'val_accuracy': 0.6285278413424866, 'precision': 0.6483260379799614, 'recall': 0.6285278413424866, 'f1-score': 0.6229187970632258, 'macro_f1-score': 0.3959599845953316, 'balanced_accuracy': 0.40457494964282775, 'mcc': 0.5065797906188794, 'train_loss': 0.40474778049744214}\n",
      "Epoch 14/20\n"
     ]
    },
    {
     "name": "stderr",
     "output_type": "stream",
     "text": [
      "100%|██████████| 745/745 [01:10<00:00, 10.54it/s]\n"
     ]
    },
    {
     "name": "stdout",
     "output_type": "stream",
     "text": [
      "{'val_loss': 1.8231338914029482, 'val_accuracy': 0.6178489702517163, 'precision': 0.6289407081247744, 'recall': 0.6178489702517163, 'f1-score': 0.6107049266375406, 'macro_f1-score': 0.37521592352115035, 'balanced_accuracy': 0.40536320669020093, 'mcc': 0.49838689571501366, 'train_loss': 0.4333277029954147}\n",
      "Epoch 15/20\n"
     ]
    },
    {
     "name": "stderr",
     "output_type": "stream",
     "text": [
      "100%|██████████| 745/745 [01:10<00:00, 10.55it/s]\n"
     ]
    },
    {
     "name": "stdout",
     "output_type": "stream",
     "text": [
      "{'val_loss': 1.737618232827361, 'val_accuracy': 0.6186117467581999, 'precision': 0.6384283662186444, 'recall': 0.6186117467581999, 'f1-score': 0.6093406947226131, 'macro_f1-score': 0.3881268681177376, 'balanced_accuracy': 0.39459487171841623, 'mcc': 0.4959035946707074, 'train_loss': 0.40334497569691413}\n",
      "Early stopping.\n",
      "\n",
      "[Fold 5]\n",
      "🚀 Using Word2Vec for data augmentation\n",
      "🔧 Augmenting label 1: 21 → 200 (+179)\n",
      "🔧 Augmenting label 2: 64 → 200 (+136)\n",
      "🔧 Augmenting label 3: 24 → 200 (+176)\n",
      "🔧 Augmenting label 4: 191 → 200 (+9)\n",
      "🔧 Augmenting label 5: 112 → 200 (+88)\n",
      "🔧 Augmenting label 6: 92 → 200 (+108)\n",
      "🔧 Augmenting label 7: 31 → 200 (+169)\n",
      "🔧 Augmenting label 8: 68 → 200 (+132)\n",
      "🔧 Augmenting label 9: 29 → 200 (+171)\n",
      "🔧 Augmenting label 10: 68 → 200 (+132)\n",
      "🔧 Augmenting label 11: 168 → 200 (+32)\n",
      "🔧 Augmenting label 12: 190 → 200 (+10)\n",
      "🔧 Augmenting label 13: 29 → 200 (+171)\n",
      "🔧 Augmenting label 14: 22 → 200 (+178)\n",
      "🔧 Augmenting label 15: 25 → 200 (+175)\n",
      "🔧 Augmenting label 16: 19 → 200 (+181)\n",
      "🔧 Augmenting label 17: 183 → 200 (+17)\n",
      "🔧 Augmenting label 18: 92 → 200 (+108)\n",
      "🔧 Augmenting label 19: 44 → 200 (+156)\n",
      "🔧 Augmenting label 20: 14 → 200 (+186)\n",
      "🔧 Augmenting label 21: 35 → 200 (+165)\n",
      "🔧 Augmenting label 22: 76 → 200 (+124)\n",
      "🔧 Augmenting label 23: 158 → 200 (+42)\n",
      "🔧 Augmenting label 24: 13 → 200 (+187)\n",
      "🔧 Augmenting label 25: 44 → 200 (+156)\n",
      "🔧 Augmenting label 26: 84 → 200 (+116)\n",
      "🔧 Augmenting label 27: 48 → 200 (+152)\n",
      "🔧 Augmenting label 28: 11 → 200 (+189)\n",
      "🔧 Augmenting label 29: 13 → 200 (+187)\n",
      "🔧 Augmenting label 30: 11 → 200 (+189)\n",
      "🔧 Augmenting label 31: 75 → 200 (+125)\n",
      "🔧 Augmenting label 32: 36 → 200 (+164)\n",
      "🔧 Augmenting label 33: 31 → 200 (+169)\n",
      "🔧 Augmenting label 34: 30 → 200 (+170)\n",
      "🔧 Augmenting label 35: 11 → 200 (+189)\n",
      "🔧 Augmenting label 36: 22 → 200 (+178)\n",
      "🔧 Augmenting label 37: 16 → 200 (+184)\n",
      "🔧 Augmenting label 38: 33 → 200 (+167)\n",
      "🔧 Augmenting label 39: 10 → 200 (+190)\n",
      "🔧 Augmenting label 40: 9 → 200 (+191)\n",
      "🔧 Augmenting label 41: 57 → 200 (+143)\n",
      "🔧 Augmenting label 42: 18 → 200 (+182)\n",
      "🔧 Augmenting label 43: 9 → 200 (+191)\n",
      "🔧 Augmenting label 44: 54 → 200 (+146)\n",
      "🔧 Augmenting label 46: 61 → 200 (+139)\n",
      "🔧 Augmenting label 47: 80 → 200 (+120)\n",
      "Label distribution after resampling:\n",
      "  label 0: 2472\n",
      "  label 1: 200\n",
      "  label 2: 200\n",
      "  label 3: 200\n",
      "  label 4: 200\n",
      "  label 5: 200\n",
      "  label 6: 200\n",
      "  label 7: 200\n",
      "  label 8: 200\n",
      "  label 9: 200\n",
      "  label 10: 200\n",
      "  label 11: 200\n",
      "  label 12: 200\n",
      "  label 13: 200\n",
      "  label 14: 200\n",
      "  label 15: 200\n",
      "  label 16: 200\n",
      "  label 17: 200\n",
      "  label 18: 200\n",
      "  label 19: 200\n",
      "  label 20: 200\n",
      "  label 21: 200\n",
      "  label 22: 200\n",
      "  label 23: 200\n",
      "  label 24: 200\n",
      "  label 25: 200\n",
      "  label 26: 200\n",
      "  label 27: 200\n",
      "  label 28: 200\n",
      "  label 29: 200\n",
      "  label 30: 200\n",
      "  label 31: 200\n",
      "  label 32: 200\n",
      "  label 33: 200\n",
      "  label 34: 200\n",
      "  label 35: 200\n",
      "  label 36: 200\n",
      "  label 37: 200\n",
      "  label 38: 200\n",
      "  label 39: 200\n",
      "  label 40: 200\n",
      "  label 41: 200\n",
      "  label 42: 200\n",
      "  label 43: 200\n",
      "  label 44: 200\n",
      "  label 45: 242\n",
      "  label 46: 200\n",
      "  label 47: 200\n",
      "model is roberta-base lstm\n"
     ]
    },
    {
     "name": "stderr",
     "output_type": "stream",
     "text": [
      "Some weights of RobertaModel were not initialized from the model checkpoint at roberta-base and are newly initialized: ['pooler.dense.bias', 'pooler.dense.weight']\n",
      "You should probably TRAIN this model on a down-stream task to be able to use it for predictions and inference.\n"
     ]
    },
    {
     "name": "stdout",
     "output_type": "stream",
     "text": [
      "Epoch 1/20\n"
     ]
    },
    {
     "name": "stderr",
     "output_type": "stream",
     "text": [
      "100%|██████████| 745/745 [01:10<00:00, 10.57it/s]\n"
     ]
    },
    {
     "name": "stdout",
     "output_type": "stream",
     "text": [
      "{'val_loss': 2.371816831391032, 'val_accuracy': 0.4668192219679634, 'precision': 0.3462899089260974, 'recall': 0.4668192219679634, 'f1-score': 0.35624666023654394, 'macro_f1-score': 0.043897281142047585, 'balanced_accuracy': 0.10618557750851104, 'mcc': 0.20340395211107115, 'train_loss': 3.2925167285355945}\n",
      "Epoch 2/20\n"
     ]
    },
    {
     "name": "stderr",
     "output_type": "stream",
     "text": [
      "100%|██████████| 745/745 [01:10<00:00, 10.58it/s]\n"
     ]
    },
    {
     "name": "stdout",
     "output_type": "stream",
     "text": [
      "{'val_loss': 1.8748975032713355, 'val_accuracy': 0.5217391304347826, 'precision': 0.4848299722343486, 'recall': 0.5217391304347826, 'f1-score': 0.4730256521652558, 'macro_f1-score': 0.18400452099157527, 'balanced_accuracy': 0.27275024920064833, 'mcc': 0.35734213657182884, 'train_loss': 2.5300409264212487}\n",
      "Epoch 3/20\n"
     ]
    },
    {
     "name": "stderr",
     "output_type": "stream",
     "text": [
      "100%|██████████| 745/745 [01:10<00:00, 10.53it/s]\n"
     ]
    },
    {
     "name": "stdout",
     "output_type": "stream",
     "text": [
      "{'val_loss': 1.860993553952473, 'val_accuracy': 0.486651411136537, 'precision': 0.5688592387931125, 'recall': 0.486651411136537, 'f1-score': 0.4914871255448404, 'macro_f1-score': 0.22421466565742762, 'balanced_accuracy': 0.3452362165850189, 'mcc': 0.3518510438656068, 'train_loss': 1.851329938277302}\n",
      "Epoch 4/20\n"
     ]
    },
    {
     "name": "stderr",
     "output_type": "stream",
     "text": [
      "100%|██████████| 745/745 [01:10<00:00, 10.56it/s]\n"
     ]
    },
    {
     "name": "stdout",
     "output_type": "stream",
     "text": [
      "{'val_loss': 1.7144236600980527, 'val_accuracy': 0.5179252479023646, 'precision': 0.6049771082872799, 'recall': 0.5179252479023646, 'f1-score': 0.5239804300816603, 'macro_f1-score': 0.2969575463607561, 'balanced_accuracy': 0.37946526830006916, 'mcc': 0.3856091002933548, 'train_loss': 1.434769499861954}\n",
      "Epoch 5/20\n"
     ]
    },
    {
     "name": "stderr",
     "output_type": "stream",
     "text": [
      "100%|██████████| 745/745 [01:10<00:00, 10.55it/s]\n"
     ]
    },
    {
     "name": "stdout",
     "output_type": "stream",
     "text": [
      "{'val_loss': 1.6130674568618215, 'val_accuracy': 0.5560640732265446, 'precision': 0.5729938002924956, 'recall': 0.5560640732265446, 'f1-score': 0.5406096542157339, 'macro_f1-score': 0.2893647431148463, 'balanced_accuracy': 0.3386229334692861, 'mcc': 0.4119219970213395, 'train_loss': 1.1712766507327956}\n",
      "Epoch 6/20\n"
     ]
    },
    {
     "name": "stderr",
     "output_type": "stream",
     "text": [
      "100%|██████████| 745/745 [01:10<00:00, 10.56it/s]\n"
     ]
    },
    {
     "name": "stdout",
     "output_type": "stream",
     "text": [
      "{'val_loss': 1.5612224038781188, 'val_accuracy': 0.5850495804729214, 'precision': 0.5696276973143382, 'recall': 0.5850495804729214, 'f1-score': 0.5603718225786487, 'macro_f1-score': 0.32088320985163615, 'balanced_accuracy': 0.3393438294846058, 'mcc': 0.44376697652422553, 'train_loss': 1.0051662924705735}\n",
      "Epoch 7/20\n"
     ]
    },
    {
     "name": "stderr",
     "output_type": "stream",
     "text": [
      "100%|██████████| 745/745 [01:10<00:00, 10.54it/s]\n"
     ]
    },
    {
     "name": "stdout",
     "output_type": "stream",
     "text": [
      "{'val_loss': 1.5989311257513559, 'val_accuracy': 0.581998474446987, 'precision': 0.5874283722083821, 'recall': 0.581998474446987, 'f1-score': 0.5730232158666075, 'macro_f1-score': 0.3514249502866611, 'balanced_accuracy': 0.36934354258572544, 'mcc': 0.4444887565989538, 'train_loss': 0.7845489491552314}\n",
      "Epoch 8/20\n"
     ]
    },
    {
     "name": "stderr",
     "output_type": "stream",
     "text": [
      "100%|██████████| 745/745 [01:10<00:00, 10.53it/s]\n"
     ]
    },
    {
     "name": "stdout",
     "output_type": "stream",
     "text": [
      "{'val_loss': 1.580264901969491, 'val_accuracy': 0.585812356979405, 'precision': 0.6080237785755502, 'recall': 0.585812356979405, 'f1-score': 0.5859424372256692, 'macro_f1-score': 0.3623080045203788, 'balanced_accuracy': 0.3937318595363212, 'mcc': 0.4610329009997491, 'train_loss': 0.7007532098849347}\n",
      "Epoch 9/20\n"
     ]
    },
    {
     "name": "stderr",
     "output_type": "stream",
     "text": [
      "100%|██████████| 745/745 [01:10<00:00, 10.55it/s]\n"
     ]
    },
    {
     "name": "stdout",
     "output_type": "stream",
     "text": [
      "{'val_loss': 1.6266177627371579, 'val_accuracy': 0.5964912280701754, 'precision': 0.6020430960858836, 'recall': 0.5964912280701754, 'f1-score': 0.5905191622305814, 'macro_f1-score': 0.3673818867526755, 'balanced_accuracy': 0.3786938010087965, 'mcc': 0.47062464377798674, 'train_loss': 0.6316143856552623}\n",
      "Epoch 10/20\n"
     ]
    },
    {
     "name": "stderr",
     "output_type": "stream",
     "text": [
      "100%|██████████| 745/745 [01:10<00:00, 10.56it/s]\n"
     ]
    },
    {
     "name": "stdout",
     "output_type": "stream",
     "text": [
      "{'val_loss': 1.6698711063803695, 'val_accuracy': 0.5919145690312738, 'precision': 0.6329255940763894, 'recall': 0.5919145690312738, 'f1-score': 0.5993717720164193, 'macro_f1-score': 0.3752629893899065, 'balanced_accuracy': 0.4132442788953381, 'mcc': 0.47614493715803013, 'train_loss': 0.5019741866262567}\n",
      "Epoch 11/20\n"
     ]
    },
    {
     "name": "stderr",
     "output_type": "stream",
     "text": [
      "100%|██████████| 745/745 [01:10<00:00, 10.58it/s]\n"
     ]
    },
    {
     "name": "stdout",
     "output_type": "stream",
     "text": [
      "{'val_loss': 1.5873641422609004, 'val_accuracy': 0.631578947368421, 'precision': 0.6381114240061273, 'recall': 0.631578947368421, 'f1-score': 0.6259108033209339, 'macro_f1-score': 0.416124715750972, 'balanced_accuracy': 0.4348600303470982, 'mcc': 0.5145080034460298, 'train_loss': 0.48046707029410657}\n",
      "Epoch 12/20\n"
     ]
    },
    {
     "name": "stderr",
     "output_type": "stream",
     "text": [
      "100%|██████████| 745/745 [01:10<00:00, 10.55it/s]\n"
     ]
    },
    {
     "name": "stdout",
     "output_type": "stream",
     "text": [
      "{'val_loss': 1.6270945093980649, 'val_accuracy': 0.6071700991609459, 'precision': 0.6334000822954224, 'recall': 0.6071700991609459, 'f1-score': 0.609918424664876, 'macro_f1-score': 0.39350248900406126, 'balanced_accuracy': 0.42217373163689426, 'mcc': 0.49256683366027465, 'train_loss': 0.46010127048564436}\n",
      "Epoch 13/20\n"
     ]
    },
    {
     "name": "stderr",
     "output_type": "stream",
     "text": [
      "100%|██████████| 745/745 [01:10<00:00, 10.53it/s]\n"
     ]
    },
    {
     "name": "stdout",
     "output_type": "stream",
     "text": [
      "{'val_loss': 2.898224734678501, 'val_accuracy': 0.47063310450038137, 'precision': 0.2214955190516669, 'recall': 0.47063310450038137, 'f1-score': 0.3012247152248292, 'macro_f1-score': 0.013334197786998616, 'balanced_accuracy': 0.020833333333333332, 'mcc': 0.0, 'train_loss': 0.8889773492645098}\n",
      "Epoch 14/20\n"
     ]
    },
    {
     "name": "stderr",
     "output_type": "stream",
     "text": [
      "100%|██████████| 745/745 [01:10<00:00, 10.57it/s]\n"
     ]
    },
    {
     "name": "stdout",
     "output_type": "stream",
     "text": [
      "{'val_loss': 2.9245160905326286, 'val_accuracy': 0.47063310450038137, 'precision': 0.2214955190516669, 'recall': 0.47063310450038137, 'f1-score': 0.3012247152248292, 'macro_f1-score': 0.013334197786998616, 'balanced_accuracy': 0.020833333333333332, 'mcc': 0.0, 'train_loss': 3.595890194617662}\n",
      "Early stopping.\n",
      "\n",
      " === roberta-base + lstm + word2vec Final 5-fold Cross-Validation Results ===\n",
      "val_loss: 1.6680\n",
      "val_accuracy: 0.6091\n",
      "precision: 0.6157\n",
      "recall: 0.6091\n",
      "f1-score: 0.5926\n",
      "macro_f1-score: 0.3735\n",
      "balanced_accuracy: 0.3952\n",
      "mcc: 0.4748\n",
      "train_loss: 0.7036\n",
      "total_seconds: 4394.0000\n",
      "total_time: 1 hrs 13 mins 14 secs\n",
      "▶ Running: roberta-base + bilstm + word2vec\n",
      "tokenizer is roberta-base\n",
      "Using device: cuda\n",
      "CUDA Available: True\n",
      "CUDA Device: NVIDIA GeForce RTX 5070 Ti\n",
      "Current GPU Memory Allocated: 0.02 GB\n",
      "Current GPU Memory Cached: 3.94 GB\n",
      "\n",
      "[Fold 1]\n",
      "🚀 Using Word2Vec for data augmentation\n",
      "🔧 Augmenting label 1: 21 → 200 (+179)\n",
      "🔧 Augmenting label 2: 64 → 200 (+136)\n",
      "🔧 Augmenting label 3: 24 → 200 (+176)\n",
      "🔧 Augmenting label 4: 191 → 200 (+9)\n",
      "🔧 Augmenting label 5: 113 → 200 (+87)\n",
      "🔧 Augmenting label 6: 93 → 200 (+107)\n",
      "🔧 Augmenting label 7: 30 → 200 (+170)\n",
      "🔧 Augmenting label 8: 68 → 200 (+132)\n",
      "🔧 Augmenting label 9: 30 → 200 (+170)\n",
      "🔧 Augmenting label 10: 67 → 200 (+133)\n",
      "🔧 Augmenting label 11: 169 → 200 (+31)\n",
      "🔧 Augmenting label 12: 189 → 200 (+11)\n",
      "🔧 Augmenting label 13: 29 → 200 (+171)\n",
      "🔧 Augmenting label 14: 22 → 200 (+178)\n",
      "🔧 Augmenting label 15: 25 → 200 (+175)\n",
      "🔧 Augmenting label 16: 19 → 200 (+181)\n",
      "🔧 Augmenting label 17: 183 → 200 (+17)\n",
      "🔧 Augmenting label 18: 92 → 200 (+108)\n",
      "🔧 Augmenting label 19: 44 → 200 (+156)\n",
      "🔧 Augmenting label 20: 13 → 200 (+187)\n",
      "🔧 Augmenting label 21: 35 → 200 (+165)\n",
      "🔧 Augmenting label 22: 76 → 200 (+124)\n",
      "🔧 Augmenting label 23: 158 → 200 (+42)\n",
      "🔧 Augmenting label 24: 13 → 200 (+187)\n",
      "🔧 Augmenting label 25: 44 → 200 (+156)\n",
      "🔧 Augmenting label 26: 84 → 200 (+116)\n",
      "🔧 Augmenting label 27: 48 → 200 (+152)\n",
      "🔧 Augmenting label 28: 11 → 200 (+189)\n",
      "🔧 Augmenting label 29: 13 → 200 (+187)\n",
      "🔧 Augmenting label 30: 11 → 200 (+189)\n",
      "🔧 Augmenting label 31: 75 → 200 (+125)\n",
      "🔧 Augmenting label 32: 36 → 200 (+164)\n",
      "🔧 Augmenting label 33: 32 → 200 (+168)\n",
      "🔧 Augmenting label 34: 29 → 200 (+171)\n",
      "🔧 Augmenting label 35: 11 → 200 (+189)\n",
      "🔧 Augmenting label 36: 22 → 200 (+178)\n",
      "🔧 Augmenting label 37: 16 → 200 (+184)\n",
      "🔧 Augmenting label 38: 33 → 200 (+167)\n",
      "🔧 Augmenting label 39: 10 → 200 (+190)\n",
      "🔧 Augmenting label 40: 9 → 200 (+191)\n",
      "🔧 Augmenting label 41: 57 → 200 (+143)\n",
      "🔧 Augmenting label 42: 19 → 200 (+181)\n",
      "🔧 Augmenting label 43: 8 → 200 (+192)\n",
      "🔧 Augmenting label 44: 54 → 200 (+146)\n",
      "🔧 Augmenting label 46: 61 → 200 (+139)\n",
      "🔧 Augmenting label 47: 80 → 200 (+120)\n",
      "Label distribution after resampling:\n",
      "  label 0: 2471\n",
      "  label 1: 200\n",
      "  label 2: 200\n",
      "  label 3: 200\n",
      "  label 4: 200\n",
      "  label 5: 200\n",
      "  label 6: 200\n",
      "  label 7: 200\n",
      "  label 8: 200\n",
      "  label 9: 200\n",
      "  label 10: 200\n",
      "  label 11: 200\n",
      "  label 12: 200\n",
      "  label 13: 200\n",
      "  label 14: 200\n",
      "  label 15: 200\n",
      "  label 16: 200\n",
      "  label 17: 200\n",
      "  label 18: 200\n",
      "  label 19: 200\n",
      "  label 20: 200\n",
      "  label 21: 200\n",
      "  label 22: 200\n",
      "  label 23: 200\n",
      "  label 24: 200\n",
      "  label 25: 200\n",
      "  label 26: 200\n",
      "  label 27: 200\n",
      "  label 28: 200\n",
      "  label 29: 200\n",
      "  label 30: 200\n",
      "  label 31: 200\n",
      "  label 32: 200\n",
      "  label 33: 200\n",
      "  label 34: 200\n",
      "  label 35: 200\n",
      "  label 36: 200\n",
      "  label 37: 200\n",
      "  label 38: 200\n",
      "  label 39: 200\n",
      "  label 40: 200\n",
      "  label 41: 200\n",
      "  label 42: 200\n",
      "  label 43: 200\n",
      "  label 44: 200\n",
      "  label 45: 242\n",
      "  label 46: 200\n",
      "  label 47: 200\n",
      "model is roberta-base bilstm\n"
     ]
    },
    {
     "name": "stderr",
     "output_type": "stream",
     "text": [
      "Some weights of RobertaModel were not initialized from the model checkpoint at roberta-base and are newly initialized: ['pooler.dense.bias', 'pooler.dense.weight']\n",
      "You should probably TRAIN this model on a down-stream task to be able to use it for predictions and inference.\n"
     ]
    },
    {
     "name": "stdout",
     "output_type": "stream",
     "text": [
      "Epoch 1/20\n"
     ]
    },
    {
     "name": "stderr",
     "output_type": "stream",
     "text": [
      "100%|██████████| 745/745 [01:15<00:00,  9.81it/s]\n"
     ]
    },
    {
     "name": "stdout",
     "output_type": "stream",
     "text": [
      "{'val_loss': 2.296498739137882, 'val_accuracy': 0.45426829268292684, 'precision': 0.32559296762345036, 'recall': 0.45426829268292684, 'f1-score': 0.36450210477499617, 'macro_f1-score': 0.09099586300543254, 'balanced_accuracy': 0.15396629016258107, 'mcc': 0.2037473532595497, 'train_loss': 3.0844237228367954}\n",
      "Epoch 2/20\n"
     ]
    },
    {
     "name": "stderr",
     "output_type": "stream",
     "text": [
      "100%|██████████| 745/745 [01:16<00:00,  9.78it/s]\n"
     ]
    },
    {
     "name": "stdout",
     "output_type": "stream",
     "text": [
      "{'val_loss': 1.9500582494386813, 'val_accuracy': 0.45503048780487804, 'precision': 0.46950594209168894, 'recall': 0.45503048780487804, 'f1-score': 0.4451796472568149, 'macro_f1-score': 0.17887541611181001, 'balanced_accuracy': 0.28780135450960814, 'mcc': 0.30160131622501557, 'train_loss': 2.1506569761557865}\n",
      "Epoch 3/20\n"
     ]
    },
    {
     "name": "stderr",
     "output_type": "stream",
     "text": [
      "100%|██████████| 745/745 [01:16<00:00,  9.78it/s]\n"
     ]
    },
    {
     "name": "stdout",
     "output_type": "stream",
     "text": [
      "{'val_loss': 1.6635733668397112, 'val_accuracy': 0.5625, 'precision': 0.5795186532615918, 'recall': 0.5625, 'f1-score': 0.5330908305910892, 'macro_f1-score': 0.29790911277858206, 'balanced_accuracy': 0.34511898628573084, 'mcc': 0.40150231840132505, 'train_loss': 1.5123698796201872}\n",
      "Epoch 4/20\n"
     ]
    },
    {
     "name": "stderr",
     "output_type": "stream",
     "text": [
      "100%|██████████| 745/745 [01:15<00:00,  9.82it/s]\n"
     ]
    },
    {
     "name": "stdout",
     "output_type": "stream",
     "text": [
      "{'val_loss': 1.5946270405519298, 'val_accuracy': 0.5785060975609756, 'precision': 0.5869964132029697, 'recall': 0.5785060975609756, 'f1-score': 0.5605757164767187, 'macro_f1-score': 0.32587175341297464, 'balanced_accuracy': 0.3300686779724326, 'mcc': 0.42882013099098376, 'train_loss': 1.0647033672604784}\n",
      "Epoch 5/20\n"
     ]
    },
    {
     "name": "stderr",
     "output_type": "stream",
     "text": [
      "100%|██████████| 745/745 [01:16<00:00,  9.80it/s]\n"
     ]
    },
    {
     "name": "stdout",
     "output_type": "stream",
     "text": [
      "{'val_loss': 1.6500157539437457, 'val_accuracy': 0.5846036585365854, 'precision': 0.6030810940934285, 'recall': 0.5846036585365854, 'f1-score': 0.5764036064136302, 'macro_f1-score': 0.34082666579173226, 'balanced_accuracy': 0.37926260683919316, 'mcc': 0.4508796127986938, 'train_loss': 0.823436595209493}\n",
      "Epoch 6/20\n"
     ]
    },
    {
     "name": "stderr",
     "output_type": "stream",
     "text": [
      "100%|██████████| 745/745 [01:16<00:00,  9.80it/s]\n"
     ]
    },
    {
     "name": "stdout",
     "output_type": "stream",
     "text": [
      "{'val_loss': 1.6873828041844252, 'val_accuracy': 0.6067073170731707, 'precision': 0.608104175863308, 'recall': 0.6067073170731707, 'f1-score': 0.5873775944511419, 'macro_f1-score': 0.36376137831577315, 'balanced_accuracy': 0.38420163099031107, 'mcc': 0.4668421511738147, 'train_loss': 0.628079869363132}\n",
      "Epoch 7/20\n"
     ]
    },
    {
     "name": "stderr",
     "output_type": "stream",
     "text": [
      "100%|██████████| 745/745 [01:15<00:00,  9.82it/s]\n"
     ]
    },
    {
     "name": "stdout",
     "output_type": "stream",
     "text": [
      "{'val_loss': 1.7452492259624528, 'val_accuracy': 0.5975609756097561, 'precision': 0.6239327967261635, 'recall': 0.5975609756097561, 'f1-score': 0.5912910073098905, 'macro_f1-score': 0.39461890344180617, 'balanced_accuracy': 0.42701019145342817, 'mcc': 0.4706673160105806, 'train_loss': 0.5370070500961887}\n",
      "Epoch 8/20\n"
     ]
    },
    {
     "name": "stderr",
     "output_type": "stream",
     "text": [
      "100%|██████████| 745/745 [01:16<00:00,  9.77it/s]\n"
     ]
    },
    {
     "name": "stdout",
     "output_type": "stream",
     "text": [
      "{'val_loss': 1.741162138014305, 'val_accuracy': 0.5975609756097561, 'precision': 0.5992826646793514, 'recall': 0.5975609756097561, 'f1-score': 0.584415667888566, 'macro_f1-score': 0.37344405312087464, 'balanced_accuracy': 0.3968972704874328, 'mcc': 0.4661782422810458, 'train_loss': 0.4108176733523407}\n",
      "Epoch 9/20\n"
     ]
    },
    {
     "name": "stderr",
     "output_type": "stream",
     "text": [
      "100%|██████████| 745/745 [01:15<00:00,  9.81it/s]\n"
     ]
    },
    {
     "name": "stdout",
     "output_type": "stream",
     "text": [
      "{'val_loss': 1.8560899579670371, 'val_accuracy': 0.6082317073170732, 'precision': 0.6178646322807789, 'recall': 0.6082317073170732, 'f1-score': 0.598450362714489, 'macro_f1-score': 0.3922883893733983, 'balanced_accuracy': 0.3957178418657115, 'mcc': 0.4718680152505768, 'train_loss': 0.3903300183831445}\n",
      "Epoch 10/20\n"
     ]
    },
    {
     "name": "stderr",
     "output_type": "stream",
     "text": [
      "100%|██████████| 745/745 [01:15<00:00,  9.81it/s]\n"
     ]
    },
    {
     "name": "stdout",
     "output_type": "stream",
     "text": [
      "{'val_loss': 1.8987984163005178, 'val_accuracy': 0.6051829268292683, 'precision': 0.6302483888354151, 'recall': 0.6051829268292683, 'f1-score': 0.6083038985462239, 'macro_f1-score': 0.41298990834123367, 'balanced_accuracy': 0.4152595590735319, 'mcc': 0.4833706575324594, 'train_loss': 0.30277902348929603}\n",
      "Epoch 11/20\n"
     ]
    },
    {
     "name": "stderr",
     "output_type": "stream",
     "text": [
      "100%|██████████| 745/745 [01:15<00:00,  9.83it/s]\n"
     ]
    },
    {
     "name": "stdout",
     "output_type": "stream",
     "text": [
      "{'val_loss': 1.8687975054107062, 'val_accuracy': 0.6166158536585366, 'precision': 0.6054849283251986, 'recall': 0.6166158536585366, 'f1-score': 0.5944639734885462, 'macro_f1-score': 0.41304287353592306, 'balanced_accuracy': 0.39255972852128673, 'mcc': 0.47191452585643984, 'train_loss': 0.25596522143948197}\n",
      "Epoch 12/20\n"
     ]
    },
    {
     "name": "stderr",
     "output_type": "stream",
     "text": [
      "100%|██████████| 745/745 [01:15<00:00,  9.86it/s]\n"
     ]
    },
    {
     "name": "stdout",
     "output_type": "stream",
     "text": [
      "{'val_loss': 2.0812337224076436, 'val_accuracy': 0.6158536585365854, 'precision': 0.6204067295603972, 'recall': 0.6158536585365854, 'f1-score': 0.6018285693304932, 'macro_f1-score': 0.3784899110991227, 'balanced_accuracy': 0.38908715806144617, 'mcc': 0.48359809738053283, 'train_loss': 0.2496503484879164}\n",
      "Epoch 13/20\n"
     ]
    },
    {
     "name": "stderr",
     "output_type": "stream",
     "text": [
      "100%|██████████| 745/745 [01:15<00:00,  9.83it/s]\n"
     ]
    },
    {
     "name": "stdout",
     "output_type": "stream",
     "text": [
      "{'val_loss': 1.9396175044338877, 'val_accuracy': 0.6120426829268293, 'precision': 0.6205189067438059, 'recall': 0.6120426829268293, 'f1-score': 0.6027403751718827, 'macro_f1-score': 0.40565843649803046, 'balanced_accuracy': 0.4091282839195622, 'mcc': 0.4814437042712688, 'train_loss': 0.238841169655023}\n",
      "Epoch 14/20\n"
     ]
    },
    {
     "name": "stderr",
     "output_type": "stream",
     "text": [
      "100%|██████████| 745/745 [01:15<00:00,  9.82it/s]\n"
     ]
    },
    {
     "name": "stdout",
     "output_type": "stream",
     "text": [
      "{'val_loss': 1.9061408493576981, 'val_accuracy': 0.6303353658536586, 'precision': 0.6352445929654746, 'recall': 0.6303353658536586, 'f1-score': 0.6208369711264032, 'macro_f1-score': 0.4064398956451096, 'balanced_accuracy': 0.4327895898517687, 'mcc': 0.5083562673956346, 'train_loss': 0.1812931612996547}\n",
      "Early stopping.\n",
      "\n",
      "[Fold 2]\n",
      "🚀 Using Word2Vec for data augmentation\n",
      "🔧 Augmenting label 1: 22 → 200 (+178)\n",
      "🔧 Augmenting label 2: 64 → 200 (+136)\n",
      "🔧 Augmenting label 3: 24 → 200 (+176)\n",
      "🔧 Augmenting label 4: 190 → 200 (+10)\n",
      "🔧 Augmenting label 5: 113 → 200 (+87)\n",
      "🔧 Augmenting label 6: 93 → 200 (+107)\n",
      "🔧 Augmenting label 7: 30 → 200 (+170)\n",
      "🔧 Augmenting label 8: 68 → 200 (+132)\n",
      "🔧 Augmenting label 9: 30 → 200 (+170)\n",
      "🔧 Augmenting label 10: 67 → 200 (+133)\n",
      "🔧 Augmenting label 11: 169 → 200 (+31)\n",
      "🔧 Augmenting label 12: 189 → 200 (+11)\n",
      "🔧 Augmenting label 13: 29 → 200 (+171)\n",
      "🔧 Augmenting label 14: 23 → 200 (+177)\n",
      "🔧 Augmenting label 15: 24 → 200 (+176)\n",
      "🔧 Augmenting label 16: 20 → 200 (+180)\n",
      "🔧 Augmenting label 17: 182 → 200 (+18)\n",
      "🔧 Augmenting label 18: 92 → 200 (+108)\n",
      "🔧 Augmenting label 19: 44 → 200 (+156)\n",
      "🔧 Augmenting label 20: 13 → 200 (+187)\n",
      "🔧 Augmenting label 21: 36 → 200 (+164)\n",
      "🔧 Augmenting label 22: 76 → 200 (+124)\n",
      "🔧 Augmenting label 23: 157 → 200 (+43)\n",
      "🔧 Augmenting label 24: 12 → 200 (+188)\n",
      "🔧 Augmenting label 25: 44 → 200 (+156)\n",
      "🔧 Augmenting label 26: 84 → 200 (+116)\n",
      "🔧 Augmenting label 27: 48 → 200 (+152)\n",
      "🔧 Augmenting label 28: 12 → 200 (+188)\n",
      "🔧 Augmenting label 29: 12 → 200 (+188)\n",
      "🔧 Augmenting label 30: 12 → 200 (+188)\n",
      "🔧 Augmenting label 31: 75 → 200 (+125)\n",
      "🔧 Augmenting label 32: 36 → 200 (+164)\n",
      "🔧 Augmenting label 33: 31 → 200 (+169)\n",
      "🔧 Augmenting label 34: 29 → 200 (+171)\n",
      "🔧 Augmenting label 35: 12 → 200 (+188)\n",
      "🔧 Augmenting label 36: 21 → 200 (+179)\n",
      "🔧 Augmenting label 37: 16 → 200 (+184)\n",
      "🔧 Augmenting label 38: 33 → 200 (+167)\n",
      "🔧 Augmenting label 39: 11 → 200 (+189)\n",
      "🔧 Augmenting label 40: 8 → 200 (+192)\n",
      "🔧 Augmenting label 41: 57 → 200 (+143)\n",
      "🔧 Augmenting label 42: 19 → 200 (+181)\n",
      "🔧 Augmenting label 43: 9 → 200 (+191)\n",
      "🔧 Augmenting label 44: 54 → 200 (+146)\n",
      "🔧 Augmenting label 46: 62 → 200 (+138)\n",
      "🔧 Augmenting label 47: 80 → 200 (+120)\n",
      "Label distribution after resampling:\n",
      "  label 0: 2471\n",
      "  label 1: 200\n",
      "  label 2: 200\n",
      "  label 3: 200\n",
      "  label 4: 200\n",
      "  label 5: 200\n",
      "  label 6: 200\n",
      "  label 7: 200\n",
      "  label 8: 200\n",
      "  label 9: 200\n",
      "  label 10: 200\n",
      "  label 11: 200\n",
      "  label 12: 200\n",
      "  label 13: 200\n",
      "  label 14: 200\n",
      "  label 15: 200\n",
      "  label 16: 200\n",
      "  label 17: 200\n",
      "  label 18: 200\n",
      "  label 19: 200\n",
      "  label 20: 200\n",
      "  label 21: 200\n",
      "  label 22: 200\n",
      "  label 23: 200\n",
      "  label 24: 200\n",
      "  label 25: 200\n",
      "  label 26: 200\n",
      "  label 27: 200\n",
      "  label 28: 200\n",
      "  label 29: 200\n",
      "  label 30: 200\n",
      "  label 31: 200\n",
      "  label 32: 200\n",
      "  label 33: 200\n",
      "  label 34: 200\n",
      "  label 35: 200\n",
      "  label 36: 200\n",
      "  label 37: 200\n",
      "  label 38: 200\n",
      "  label 39: 200\n",
      "  label 40: 200\n",
      "  label 41: 200\n",
      "  label 42: 200\n",
      "  label 43: 200\n",
      "  label 44: 200\n",
      "  label 45: 242\n",
      "  label 46: 200\n",
      "  label 47: 200\n",
      "model is roberta-base bilstm\n"
     ]
    },
    {
     "name": "stderr",
     "output_type": "stream",
     "text": [
      "Some weights of RobertaModel were not initialized from the model checkpoint at roberta-base and are newly initialized: ['pooler.dense.bias', 'pooler.dense.weight']\n",
      "You should probably TRAIN this model on a down-stream task to be able to use it for predictions and inference.\n"
     ]
    },
    {
     "name": "stdout",
     "output_type": "stream",
     "text": [
      "Epoch 1/20\n"
     ]
    },
    {
     "name": "stderr",
     "output_type": "stream",
     "text": [
      "100%|██████████| 745/745 [01:15<00:00,  9.83it/s]\n"
     ]
    },
    {
     "name": "stdout",
     "output_type": "stream",
     "text": [
      "{'val_loss': 2.3750775165674165, 'val_accuracy': 0.45080091533180777, 'precision': 0.29117517056804987, 'recall': 0.45080091533180777, 'f1-score': 0.3519365938399456, 'macro_f1-score': 0.018536249970073502, 'balanced_accuracy': 0.05344019687162891, 'mcc': 0.18994691286836735, 'train_loss': 3.2680523750766013}\n",
      "Epoch 2/20\n"
     ]
    },
    {
     "name": "stderr",
     "output_type": "stream",
     "text": [
      "100%|██████████| 745/745 [01:15<00:00,  9.83it/s]\n"
     ]
    },
    {
     "name": "stdout",
     "output_type": "stream",
     "text": [
      "{'val_loss': 2.3951942499090983, 'val_accuracy': 0.37452326468344777, 'precision': 0.3694114976848901, 'recall': 0.37452326468344777, 'f1-score': 0.3594782253639318, 'macro_f1-score': 0.045002676265783616, 'balanced_accuracy': 0.10228429335880153, 'mcc': 0.20335890906603726, 'train_loss': 2.7884068932309245}\n",
      "Epoch 3/20\n"
     ]
    },
    {
     "name": "stderr",
     "output_type": "stream",
     "text": [
      "100%|██████████| 745/745 [01:16<00:00,  9.78it/s]\n"
     ]
    },
    {
     "name": "stdout",
     "output_type": "stream",
     "text": [
      "{'val_loss': 2.2344334561650347, 'val_accuracy': 0.475209763539283, 'precision': 0.358787782127183, 'recall': 0.475209763539283, 'f1-score': 0.38515042489933277, 'macro_f1-score': 0.07957229720015661, 'balanced_accuracy': 0.11649283818144278, 'mcc': 0.22681192312510465, 'train_loss': 2.4520492201683504}\n",
      "Epoch 4/20\n"
     ]
    },
    {
     "name": "stderr",
     "output_type": "stream",
     "text": [
      "100%|██████████| 745/745 [01:15<00:00,  9.84it/s]\n"
     ]
    },
    {
     "name": "stdout",
     "output_type": "stream",
     "text": [
      "{'val_loss': 1.9810855970150087, 'val_accuracy': 0.45614035087719296, 'precision': 0.4839835370310886, 'recall': 0.45614035087719296, 'f1-score': 0.4247069627589732, 'macro_f1-score': 0.12821975196387558, 'balanced_accuracy': 0.2251031792201222, 'mcc': 0.28073634200745856, 'train_loss': 2.208618682662913}\n",
      "Epoch 5/20\n"
     ]
    },
    {
     "name": "stderr",
     "output_type": "stream",
     "text": [
      "100%|██████████| 745/745 [01:15<00:00,  9.82it/s]\n"
     ]
    },
    {
     "name": "stdout",
     "output_type": "stream",
     "text": [
      "{'val_loss': 1.9841342488440072, 'val_accuracy': 0.4691075514874142, 'precision': 0.4081956809811104, 'recall': 0.4691075514874142, 'f1-score': 0.42614488143494883, 'macro_f1-score': 0.12034309125082308, 'balanced_accuracy': 0.18311274959806625, 'mcc': 0.2824151112569888, 'train_loss': 2.0832992017669167}\n",
      "Epoch 6/20\n"
     ]
    },
    {
     "name": "stderr",
     "output_type": "stream",
     "text": [
      "100%|██████████| 745/745 [01:15<00:00,  9.81it/s]\n"
     ]
    },
    {
     "name": "stdout",
     "output_type": "stream",
     "text": [
      "{'val_loss': 2.076720245000793, 'val_accuracy': 0.43249427917620137, 'precision': 0.46237195265238407, 'recall': 0.43249427917620137, 'f1-score': 0.43779260136215636, 'macro_f1-score': 0.12054679205061904, 'balanced_accuracy': 0.17486903853754987, 'mcc': 0.29221461959967815, 'train_loss': 1.9634756853916502}\n",
      "Epoch 7/20\n"
     ]
    },
    {
     "name": "stderr",
     "output_type": "stream",
     "text": [
      "100%|██████████| 745/745 [01:15<00:00,  9.81it/s]\n"
     ]
    },
    {
     "name": "stdout",
     "output_type": "stream",
     "text": [
      "{'val_loss': 1.9215091394215096, 'val_accuracy': 0.47215865751334857, 'precision': 0.4482464186123437, 'recall': 0.47215865751334857, 'f1-score': 0.45162122222363665, 'macro_f1-score': 0.15615955272698331, 'balanced_accuracy': 0.21917633975472248, 'mcc': 0.30839775758332616, 'train_loss': 1.8801590861090078}\n",
      "Epoch 8/20\n"
     ]
    },
    {
     "name": "stderr",
     "output_type": "stream",
     "text": [
      "100%|██████████| 745/745 [01:15<00:00,  9.80it/s]\n"
     ]
    },
    {
     "name": "stdout",
     "output_type": "stream",
     "text": [
      "{'val_loss': 1.9163556062593692, 'val_accuracy': 0.49122807017543857, 'precision': 0.49016028380366017, 'recall': 0.49122807017543857, 'f1-score': 0.47331511649924807, 'macro_f1-score': 0.1528325260106956, 'balanced_accuracy': 0.21534943188341923, 'mcc': 0.3326012047658106, 'train_loss': 1.7974880024890771}\n",
      "Epoch 9/20\n"
     ]
    },
    {
     "name": "stderr",
     "output_type": "stream",
     "text": [
      "100%|██████████| 745/745 [01:16<00:00,  9.79it/s]\n"
     ]
    },
    {
     "name": "stdout",
     "output_type": "stream",
     "text": [
      "{'val_loss': 1.9431119830143162, 'val_accuracy': 0.45537757437070936, 'precision': 0.4909031805915379, 'recall': 0.45537757437070936, 'f1-score': 0.4590175971571094, 'macro_f1-score': 0.16958551410645603, 'balanced_accuracy': 0.2269565338090367, 'mcc': 0.30940434570167585, 'train_loss': 1.589032635512768}\n",
      "Epoch 10/20\n"
     ]
    },
    {
     "name": "stderr",
     "output_type": "stream",
     "text": [
      "100%|██████████| 745/745 [01:15<00:00,  9.85it/s]\n"
     ]
    },
    {
     "name": "stdout",
     "output_type": "stream",
     "text": [
      "{'val_loss': 1.9725710320763472, 'val_accuracy': 0.463768115942029, 'precision': 0.42513081057076485, 'recall': 0.463768115942029, 'f1-score': 0.4304614595867354, 'macro_f1-score': 0.13454529785612188, 'balanced_accuracy': 0.21278553382455248, 'mcc': 0.2848856171554851, 'train_loss': 1.476266407686592}\n",
      "Epoch 11/20\n"
     ]
    },
    {
     "name": "stderr",
     "output_type": "stream",
     "text": [
      "100%|██████████| 745/745 [01:16<00:00,  9.80it/s]\n"
     ]
    },
    {
     "name": "stdout",
     "output_type": "stream",
     "text": [
      "{'val_loss': 2.0316707426454963, 'val_accuracy': 0.4614797864225782, 'precision': 0.4989587167298031, 'recall': 0.4614797864225782, 'f1-score': 0.4446817460399431, 'macro_f1-score': 0.14326449849540462, 'balanced_accuracy': 0.18322410269997813, 'mcc': 0.30648499444674515, 'train_loss': 1.4816373867876578}\n",
      "Epoch 12/20\n"
     ]
    },
    {
     "name": "stderr",
     "output_type": "stream",
     "text": [
      "100%|██████████| 745/745 [01:16<00:00,  9.74it/s]\n"
     ]
    },
    {
     "name": "stdout",
     "output_type": "stream",
     "text": [
      "{'val_loss': 2.0893463237983423, 'val_accuracy': 0.4591914569031274, 'precision': 0.5023119726728368, 'recall': 0.4591914569031274, 'f1-score': 0.46202432416396527, 'macro_f1-score': 0.20871989883565897, 'balanced_accuracy': 0.26973950055939433, 'mcc': 0.32100824302043285, 'train_loss': 1.3187211008279915}\n",
      "Epoch 13/20\n"
     ]
    },
    {
     "name": "stderr",
     "output_type": "stream",
     "text": [
      "100%|██████████| 745/745 [01:15<00:00,  9.81it/s]\n"
     ]
    },
    {
     "name": "stdout",
     "output_type": "stream",
     "text": [
      "{'val_loss': 1.9816907993177089, 'val_accuracy': 0.528604118993135, 'precision': 0.5595153473909525, 'recall': 0.528604118993135, 'f1-score': 0.5150078823903329, 'macro_f1-score': 0.2304839938483001, 'balanced_accuracy': 0.31585234526457345, 'mcc': 0.3868316255857607, 'train_loss': 1.1447158248632545}\n",
      "Epoch 14/20\n"
     ]
    },
    {
     "name": "stderr",
     "output_type": "stream",
     "text": [
      "100%|██████████| 745/745 [01:15<00:00,  9.83it/s]\n"
     ]
    },
    {
     "name": "stdout",
     "output_type": "stream",
     "text": [
      "{'val_loss': 1.9196370411209944, 'val_accuracy': 0.509534706331045, 'precision': 0.5633233880259071, 'recall': 0.509534706331045, 'f1-score': 0.5111827433508127, 'macro_f1-score': 0.24016785531182294, 'balanced_accuracy': 0.3010799577008679, 'mcc': 0.366838692905947, 'train_loss': 1.08419303920045}\n",
      "Epoch 15/20\n"
     ]
    },
    {
     "name": "stderr",
     "output_type": "stream",
     "text": [
      "100%|██████████| 745/745 [01:15<00:00,  9.81it/s]\n"
     ]
    },
    {
     "name": "stdout",
     "output_type": "stream",
     "text": [
      "{'val_loss': 1.9805389991620692, 'val_accuracy': 0.5148741418764302, 'precision': 0.5599866263084212, 'recall': 0.5148741418764302, 'f1-score': 0.5094210472654954, 'macro_f1-score': 0.23028225817925016, 'balanced_accuracy': 0.30464948166403927, 'mcc': 0.369066615769, 'train_loss': 0.9303002868522734}\n",
      "Epoch 16/20\n"
     ]
    },
    {
     "name": "stderr",
     "output_type": "stream",
     "text": [
      "100%|██████████| 745/745 [01:15<00:00,  9.81it/s]\n"
     ]
    },
    {
     "name": "stdout",
     "output_type": "stream",
     "text": [
      "{'val_loss': 1.978211331658247, 'val_accuracy': 0.4965675057208238, 'precision': 0.5826057225815612, 'recall': 0.4965675057208238, 'f1-score': 0.5142161580748736, 'macro_f1-score': 0.2655621830042835, 'balanced_accuracy': 0.33297290182173594, 'mcc': 0.37352177403611403, 'train_loss': 0.9846097397124207}\n",
      "Epoch 17/20\n"
     ]
    },
    {
     "name": "stderr",
     "output_type": "stream",
     "text": [
      "100%|██████████| 745/745 [01:16<00:00,  9.80it/s]\n"
     ]
    },
    {
     "name": "stdout",
     "output_type": "stream",
     "text": [
      "{'val_loss': 1.9878744635640122, 'val_accuracy': 0.5392829900839055, 'precision': 0.5567426274308388, 'recall': 0.5392829900839055, 'f1-score': 0.5264485910219673, 'macro_f1-score': 0.25703047967258735, 'balanced_accuracy': 0.3036922081913249, 'mcc': 0.3882035303260117, 'train_loss': 0.9072627001360759}\n",
      "Epoch 18/20\n"
     ]
    },
    {
     "name": "stderr",
     "output_type": "stream",
     "text": [
      "100%|██████████| 745/745 [01:16<00:00,  9.78it/s]\n"
     ]
    },
    {
     "name": "stdout",
     "output_type": "stream",
     "text": [
      "{'val_loss': 1.9328052132594875, 'val_accuracy': 0.5263157894736842, 'precision': 0.5688678405442681, 'recall': 0.5263157894736842, 'f1-score': 0.5257054337379661, 'macro_f1-score': 0.2528346901889565, 'balanced_accuracy': 0.29502664679198015, 'mcc': 0.3847137342983027, 'train_loss': 0.780481519255062}\n",
      "Epoch 19/20\n"
     ]
    },
    {
     "name": "stderr",
     "output_type": "stream",
     "text": [
      "100%|██████████| 745/745 [01:16<00:00,  9.79it/s]\n"
     ]
    },
    {
     "name": "stdout",
     "output_type": "stream",
     "text": [
      "{'val_loss': 2.0179198195294634, 'val_accuracy': 0.5491990846681922, 'precision': 0.5686169191830873, 'recall': 0.5491990846681922, 'f1-score': 0.5351697276414024, 'macro_f1-score': 0.2581338320764831, 'balanced_accuracy': 0.30982869522670803, 'mcc': 0.40243096597618866, 'train_loss': 0.7326700417387405}\n",
      "Early stopping.\n",
      "\n",
      "[Fold 3]\n",
      "🚀 Using Word2Vec for data augmentation\n",
      "🔧 Augmenting label 1: 22 → 200 (+178)\n",
      "🔧 Augmenting label 2: 64 → 200 (+136)\n",
      "🔧 Augmenting label 3: 24 → 200 (+176)\n",
      "🔧 Augmenting label 4: 190 → 200 (+10)\n",
      "🔧 Augmenting label 5: 113 → 200 (+87)\n",
      "🔧 Augmenting label 6: 93 → 200 (+107)\n",
      "🔧 Augmenting label 7: 30 → 200 (+170)\n",
      "🔧 Augmenting label 8: 68 → 200 (+132)\n",
      "🔧 Augmenting label 9: 30 → 200 (+170)\n",
      "🔧 Augmenting label 10: 67 → 200 (+133)\n",
      "🔧 Augmenting label 11: 169 → 200 (+31)\n",
      "🔧 Augmenting label 12: 190 → 200 (+10)\n",
      "🔧 Augmenting label 13: 28 → 200 (+172)\n",
      "🔧 Augmenting label 14: 23 → 200 (+177)\n",
      "🔧 Augmenting label 15: 25 → 200 (+175)\n",
      "🔧 Augmenting label 16: 19 → 200 (+181)\n",
      "🔧 Augmenting label 17: 182 → 200 (+18)\n",
      "🔧 Augmenting label 18: 92 → 200 (+108)\n",
      "🔧 Augmenting label 19: 44 → 200 (+156)\n",
      "🔧 Augmenting label 20: 14 → 200 (+186)\n",
      "🔧 Augmenting label 21: 35 → 200 (+165)\n",
      "🔧 Augmenting label 22: 76 → 200 (+124)\n",
      "🔧 Augmenting label 23: 157 → 200 (+43)\n",
      "🔧 Augmenting label 24: 13 → 200 (+187)\n",
      "🔧 Augmenting label 25: 44 → 200 (+156)\n",
      "🔧 Augmenting label 26: 84 → 200 (+116)\n",
      "🔧 Augmenting label 27: 48 → 200 (+152)\n",
      "🔧 Augmenting label 28: 11 → 200 (+189)\n",
      "🔧 Augmenting label 29: 13 → 200 (+187)\n",
      "🔧 Augmenting label 30: 11 → 200 (+189)\n",
      "🔧 Augmenting label 31: 76 → 200 (+124)\n",
      "🔧 Augmenting label 32: 36 → 200 (+164)\n",
      "🔧 Augmenting label 33: 31 → 200 (+169)\n",
      "🔧 Augmenting label 34: 30 → 200 (+170)\n",
      "🔧 Augmenting label 35: 11 → 200 (+189)\n",
      "🔧 Augmenting label 36: 21 → 200 (+179)\n",
      "🔧 Augmenting label 37: 16 → 200 (+184)\n",
      "🔧 Augmenting label 38: 32 → 200 (+168)\n",
      "🔧 Augmenting label 39: 11 → 200 (+189)\n",
      "🔧 Augmenting label 40: 9 → 200 (+191)\n",
      "🔧 Augmenting label 41: 57 → 200 (+143)\n",
      "🔧 Augmenting label 42: 18 → 200 (+182)\n",
      "🔧 Augmenting label 43: 9 → 200 (+191)\n",
      "🔧 Augmenting label 44: 55 → 200 (+145)\n",
      "🔧 Augmenting label 46: 62 → 200 (+138)\n",
      "🔧 Augmenting label 47: 80 → 200 (+120)\n",
      "Label distribution after resampling:\n",
      "  label 0: 2471\n",
      "  label 1: 200\n",
      "  label 2: 200\n",
      "  label 3: 200\n",
      "  label 4: 200\n",
      "  label 5: 200\n",
      "  label 6: 200\n",
      "  label 7: 200\n",
      "  label 8: 200\n",
      "  label 9: 200\n",
      "  label 10: 200\n",
      "  label 11: 200\n",
      "  label 12: 200\n",
      "  label 13: 200\n",
      "  label 14: 200\n",
      "  label 15: 200\n",
      "  label 16: 200\n",
      "  label 17: 200\n",
      "  label 18: 200\n",
      "  label 19: 200\n",
      "  label 20: 200\n",
      "  label 21: 200\n",
      "  label 22: 200\n",
      "  label 23: 200\n",
      "  label 24: 200\n",
      "  label 25: 200\n",
      "  label 26: 200\n",
      "  label 27: 200\n",
      "  label 28: 200\n",
      "  label 29: 200\n",
      "  label 30: 200\n",
      "  label 31: 200\n",
      "  label 32: 200\n",
      "  label 33: 200\n",
      "  label 34: 200\n",
      "  label 35: 200\n",
      "  label 36: 200\n",
      "  label 37: 200\n",
      "  label 38: 200\n",
      "  label 39: 200\n",
      "  label 40: 200\n",
      "  label 41: 200\n",
      "  label 42: 200\n",
      "  label 43: 200\n",
      "  label 44: 200\n",
      "  label 45: 241\n",
      "  label 46: 200\n",
      "  label 47: 200\n",
      "model is roberta-base bilstm\n"
     ]
    },
    {
     "name": "stderr",
     "output_type": "stream",
     "text": [
      "Some weights of RobertaModel were not initialized from the model checkpoint at roberta-base and are newly initialized: ['pooler.dense.bias', 'pooler.dense.weight']\n",
      "You should probably TRAIN this model on a down-stream task to be able to use it for predictions and inference.\n"
     ]
    },
    {
     "name": "stdout",
     "output_type": "stream",
     "text": [
      "Epoch 1/20\n"
     ]
    },
    {
     "name": "stderr",
     "output_type": "stream",
     "text": [
      "100%|██████████| 745/745 [01:16<00:00,  9.76it/s]\n"
     ]
    },
    {
     "name": "stdout",
     "output_type": "stream",
     "text": [
      "{'val_loss': 1.818758447359248, 'val_accuracy': 0.5263157894736842, 'precision': 0.4770806499798062, 'recall': 0.5263157894736842, 'f1-score': 0.4510867938559878, 'macro_f1-score': 0.16973232530262425, 'balanced_accuracy': 0.22634131767638474, 'mcc': 0.32026241857004645, 'train_loss': 2.7471270132384844}\n",
      "Epoch 2/20\n"
     ]
    },
    {
     "name": "stderr",
     "output_type": "stream",
     "text": [
      "100%|██████████| 745/745 [01:16<00:00,  9.75it/s]\n"
     ]
    },
    {
     "name": "stdout",
     "output_type": "stream",
     "text": [
      "{'val_loss': 1.6932378534863635, 'val_accuracy': 0.5484363081617086, 'precision': 0.5500010327689419, 'recall': 0.5484363081617086, 'f1-score': 0.5149981301978999, 'macro_f1-score': 0.26376646684574184, 'balanced_accuracy': 0.315961753112353, 'mcc': 0.38183993664851845, 'train_loss': 1.6323840466921762}\n",
      "Epoch 3/20\n"
     ]
    },
    {
     "name": "stderr",
     "output_type": "stream",
     "text": [
      "100%|██████████| 745/745 [01:15<00:00,  9.87it/s]\n"
     ]
    },
    {
     "name": "stdout",
     "output_type": "stream",
     "text": [
      "{'val_loss': 1.6654987785874344, 'val_accuracy': 0.5751334858886347, 'precision': 0.5682178577699375, 'recall': 0.5751334858886347, 'f1-score': 0.5590085236788213, 'macro_f1-score': 0.3206782685891385, 'balanced_accuracy': 0.3414019801034329, 'mcc': 0.42590816433638434, 'train_loss': 1.1071243392541104}\n",
      "Epoch 4/20\n"
     ]
    },
    {
     "name": "stderr",
     "output_type": "stream",
     "text": [
      "100%|██████████| 745/745 [01:16<00:00,  9.79it/s]\n"
     ]
    },
    {
     "name": "stdout",
     "output_type": "stream",
     "text": [
      "{'val_loss': 1.6073918953174497, 'val_accuracy': 0.5598779557589626, 'precision': 0.6085894552030015, 'recall': 0.5598779557589626, 'f1-score': 0.5698930822981775, 'macro_f1-score': 0.3647087889599114, 'balanced_accuracy': 0.36379788705456234, 'mcc': 0.42912583379095715, 'train_loss': 0.7917110292303482}\n",
      "Epoch 5/20\n"
     ]
    },
    {
     "name": "stderr",
     "output_type": "stream",
     "text": [
      "100%|██████████| 745/745 [01:16<00:00,  9.79it/s]\n"
     ]
    },
    {
     "name": "stdout",
     "output_type": "stream",
     "text": [
      "{'val_loss': 1.5326133297710884, 'val_accuracy': 0.6178489702517163, 'precision': 0.5953977337734744, 'recall': 0.6178489702517163, 'f1-score': 0.5964687501416929, 'macro_f1-score': 0.3458902057092081, 'balanced_accuracy': 0.34091772427236317, 'mcc': 0.48044158922500624, 'train_loss': 0.5935861295901689}\n",
      "Epoch 6/20\n"
     ]
    },
    {
     "name": "stderr",
     "output_type": "stream",
     "text": [
      "100%|██████████| 745/745 [01:16<00:00,  9.78it/s]\n"
     ]
    },
    {
     "name": "stdout",
     "output_type": "stream",
     "text": [
      "{'val_loss': 1.6294459044569876, 'val_accuracy': 0.6216628527841342, 'precision': 0.6269572815529194, 'recall': 0.6216628527841342, 'f1-score': 0.6058692054357843, 'macro_f1-score': 0.38741862045875725, 'balanced_accuracy': 0.38244534985338285, 'mcc': 0.4905772694525882, 'train_loss': 0.468794986230615}\n",
      "Epoch 7/20\n"
     ]
    },
    {
     "name": "stderr",
     "output_type": "stream",
     "text": [
      "100%|██████████| 745/745 [01:16<00:00,  9.77it/s]\n"
     ]
    },
    {
     "name": "stdout",
     "output_type": "stream",
     "text": [
      "{'val_loss': 1.7033139983328378, 'val_accuracy': 0.6193745232646835, 'precision': 0.6359946028162645, 'recall': 0.6193745232646835, 'f1-score': 0.6187004304300133, 'macro_f1-score': 0.3740318387870671, 'balanced_accuracy': 0.3761709947200787, 'mcc': 0.5026844779983799, 'train_loss': 0.4007342735642955}\n",
      "Epoch 8/20\n"
     ]
    },
    {
     "name": "stderr",
     "output_type": "stream",
     "text": [
      "100%|██████████| 745/745 [01:16<00:00,  9.80it/s]\n"
     ]
    },
    {
     "name": "stdout",
     "output_type": "stream",
     "text": [
      "{'val_loss': 1.7487212881082441, 'val_accuracy': 0.6086956521739131, 'precision': 0.6129081115389077, 'recall': 0.6086956521739131, 'f1-score': 0.6024800049060252, 'macro_f1-score': 0.38422412619953966, 'balanced_accuracy': 0.3829891973829091, 'mcc': 0.4792890538860631, 'train_loss': 0.31714964741778456}\n",
      "Epoch 9/20\n"
     ]
    },
    {
     "name": "stderr",
     "output_type": "stream",
     "text": [
      "100%|██████████| 745/745 [01:16<00:00,  9.79it/s]\n"
     ]
    },
    {
     "name": "stdout",
     "output_type": "stream",
     "text": [
      "{'val_loss': 1.7866579339635082, 'val_accuracy': 0.6384439359267735, 'precision': 0.6252383720488501, 'recall': 0.6384439359267735, 'f1-score': 0.6171837758983164, 'macro_f1-score': 0.3862860305155044, 'balanced_accuracy': 0.3657556781530001, 'mcc': 0.5106448287810991, 'train_loss': 0.27455874150931436}\n",
      "Early stopping.\n",
      "\n",
      "[Fold 4]\n",
      "🚀 Using Word2Vec for data augmentation\n",
      "🔧 Augmenting label 1: 22 → 200 (+178)\n",
      "🔧 Augmenting label 2: 64 → 200 (+136)\n",
      "🔧 Augmenting label 3: 24 → 200 (+176)\n",
      "🔧 Augmenting label 4: 190 → 200 (+10)\n",
      "🔧 Augmenting label 5: 113 → 200 (+87)\n",
      "🔧 Augmenting label 6: 93 → 200 (+107)\n",
      "🔧 Augmenting label 7: 31 → 200 (+169)\n",
      "🔧 Augmenting label 8: 68 → 200 (+132)\n",
      "🔧 Augmenting label 9: 29 → 200 (+171)\n",
      "🔧 Augmenting label 10: 67 → 200 (+133)\n",
      "🔧 Augmenting label 11: 169 → 200 (+31)\n",
      "🔧 Augmenting label 12: 190 → 200 (+10)\n",
      "🔧 Augmenting label 13: 29 → 200 (+171)\n",
      "🔧 Augmenting label 14: 22 → 200 (+178)\n",
      "🔧 Augmenting label 15: 25 → 200 (+175)\n",
      "🔧 Augmenting label 16: 19 → 200 (+181)\n",
      "🔧 Augmenting label 17: 182 → 200 (+18)\n",
      "🔧 Augmenting label 18: 92 → 200 (+108)\n",
      "🔧 Augmenting label 19: 44 → 200 (+156)\n",
      "🔧 Augmenting label 20: 14 → 200 (+186)\n",
      "🔧 Augmenting label 21: 35 → 200 (+165)\n",
      "🔧 Augmenting label 22: 76 → 200 (+124)\n",
      "🔧 Augmenting label 23: 158 → 200 (+42)\n",
      "🔧 Augmenting label 24: 13 → 200 (+187)\n",
      "🔧 Augmenting label 25: 44 → 200 (+156)\n",
      "🔧 Augmenting label 26: 84 → 200 (+116)\n",
      "🔧 Augmenting label 27: 48 → 200 (+152)\n",
      "🔧 Augmenting label 28: 11 → 200 (+189)\n",
      "🔧 Augmenting label 29: 13 → 200 (+187)\n",
      "🔧 Augmenting label 30: 11 → 200 (+189)\n",
      "🔧 Augmenting label 31: 75 → 200 (+125)\n",
      "🔧 Augmenting label 32: 36 → 200 (+164)\n",
      "🔧 Augmenting label 33: 31 → 200 (+169)\n",
      "🔧 Augmenting label 34: 30 → 200 (+170)\n",
      "🔧 Augmenting label 35: 11 → 200 (+189)\n",
      "🔧 Augmenting label 36: 22 → 200 (+178)\n",
      "🔧 Augmenting label 37: 16 → 200 (+184)\n",
      "🔧 Augmenting label 38: 33 → 200 (+167)\n",
      "🔧 Augmenting label 39: 10 → 200 (+190)\n",
      "🔧 Augmenting label 40: 9 → 200 (+191)\n",
      "🔧 Augmenting label 41: 56 → 200 (+144)\n",
      "🔧 Augmenting label 42: 18 → 200 (+182)\n",
      "🔧 Augmenting label 43: 9 → 200 (+191)\n",
      "🔧 Augmenting label 44: 55 → 200 (+145)\n",
      "🔧 Augmenting label 46: 62 → 200 (+138)\n",
      "🔧 Augmenting label 47: 80 → 200 (+120)\n",
      "Label distribution after resampling:\n",
      "  label 0: 2471\n",
      "  label 1: 200\n",
      "  label 2: 200\n",
      "  label 3: 200\n",
      "  label 4: 200\n",
      "  label 5: 200\n",
      "  label 6: 200\n",
      "  label 7: 200\n",
      "  label 8: 200\n",
      "  label 9: 200\n",
      "  label 10: 200\n",
      "  label 11: 200\n",
      "  label 12: 200\n",
      "  label 13: 200\n",
      "  label 14: 200\n",
      "  label 15: 200\n",
      "  label 16: 200\n",
      "  label 17: 200\n",
      "  label 18: 200\n",
      "  label 19: 200\n",
      "  label 20: 200\n",
      "  label 21: 200\n",
      "  label 22: 200\n",
      "  label 23: 200\n",
      "  label 24: 200\n",
      "  label 25: 200\n",
      "  label 26: 200\n",
      "  label 27: 200\n",
      "  label 28: 200\n",
      "  label 29: 200\n",
      "  label 30: 200\n",
      "  label 31: 200\n",
      "  label 32: 200\n",
      "  label 33: 200\n",
      "  label 34: 200\n",
      "  label 35: 200\n",
      "  label 36: 200\n",
      "  label 37: 200\n",
      "  label 38: 200\n",
      "  label 39: 200\n",
      "  label 40: 200\n",
      "  label 41: 200\n",
      "  label 42: 200\n",
      "  label 43: 200\n",
      "  label 44: 200\n",
      "  label 45: 241\n",
      "  label 46: 200\n",
      "  label 47: 200\n",
      "model is roberta-base bilstm\n"
     ]
    },
    {
     "name": "stderr",
     "output_type": "stream",
     "text": [
      "Some weights of RobertaModel were not initialized from the model checkpoint at roberta-base and are newly initialized: ['pooler.dense.bias', 'pooler.dense.weight']\n",
      "You should probably TRAIN this model on a down-stream task to be able to use it for predictions and inference.\n"
     ]
    },
    {
     "name": "stdout",
     "output_type": "stream",
     "text": [
      "Epoch 1/20\n"
     ]
    },
    {
     "name": "stderr",
     "output_type": "stream",
     "text": [
      "100%|██████████| 745/745 [01:16<00:00,  9.77it/s]\n"
     ]
    },
    {
     "name": "stdout",
     "output_type": "stream",
     "text": [
      "{'val_loss': 1.9810354876809004, 'val_accuracy': 0.4950419527078566, 'precision': 0.40905959737695907, 'recall': 0.4950419527078566, 'f1-score': 0.4384162562900193, 'macro_f1-score': 0.1630946264095485, 'balanced_accuracy': 0.24661097191510603, 'mcc': 0.3201400441739607, 'train_loss': 2.944094786067937}\n",
      "Epoch 2/20\n"
     ]
    },
    {
     "name": "stderr",
     "output_type": "stream",
     "text": [
      "100%|██████████| 745/745 [01:16<00:00,  9.78it/s]\n"
     ]
    },
    {
     "name": "stdout",
     "output_type": "stream",
     "text": [
      "{'val_loss': 1.7121932601056449, 'val_accuracy': 0.5385202135774219, 'precision': 0.5692696270621734, 'recall': 0.5385202135774219, 'f1-score': 0.5285890403994931, 'macro_f1-score': 0.2685164107626692, 'balanced_accuracy': 0.3038156159949483, 'mcc': 0.38612440254281166, 'train_loss': 1.8199851982545532}\n",
      "Epoch 3/20\n"
     ]
    },
    {
     "name": "stderr",
     "output_type": "stream",
     "text": [
      "100%|██████████| 745/745 [01:16<00:00,  9.79it/s]\n"
     ]
    },
    {
     "name": "stdout",
     "output_type": "stream",
     "text": [
      "{'val_loss': 1.5726124099115046, 'val_accuracy': 0.5636918382913806, 'precision': 0.6033727808624592, 'recall': 0.5636918382913806, 'f1-score': 0.5614387957781857, 'macro_f1-score': 0.32356718368647236, 'balanced_accuracy': 0.3577242993261183, 'mcc': 0.4271734162738217, 'train_loss': 1.2517328703163455}\n",
      "Epoch 4/20\n"
     ]
    },
    {
     "name": "stderr",
     "output_type": "stream",
     "text": [
      "100%|██████████| 745/745 [01:16<00:00,  9.80it/s]\n"
     ]
    },
    {
     "name": "stdout",
     "output_type": "stream",
     "text": [
      "{'val_loss': 1.5834714439583988, 'val_accuracy': 0.5812356979405034, 'precision': 0.6238875382934249, 'recall': 0.5812356979405034, 'f1-score': 0.5859025308458109, 'macro_f1-score': 0.3479834566569435, 'balanced_accuracy': 0.38696547582046065, 'mcc': 0.455780258425013, 'train_loss': 0.8941146176333395}\n",
      "Epoch 5/20\n"
     ]
    },
    {
     "name": "stderr",
     "output_type": "stream",
     "text": [
      "100%|██████████| 745/745 [01:17<00:00,  9.67it/s]\n"
     ]
    },
    {
     "name": "stdout",
     "output_type": "stream",
     "text": [
      "{'val_loss': 1.6165078911112576, 'val_accuracy': 0.6025934401220442, 'precision': 0.6031872193461032, 'recall': 0.6025934401220442, 'f1-score': 0.5898200641361487, 'macro_f1-score': 0.3584698123235093, 'balanced_accuracy': 0.39735240820831375, 'mcc': 0.4723406210596587, 'train_loss': 0.6441038412335734}\n",
      "Epoch 6/20\n"
     ]
    },
    {
     "name": "stderr",
     "output_type": "stream",
     "text": [
      "100%|██████████| 745/745 [01:16<00:00,  9.73it/s]\n"
     ]
    },
    {
     "name": "stdout",
     "output_type": "stream",
     "text": [
      "{'val_loss': 1.6462240339052387, 'val_accuracy': 0.6178489702517163, 'precision': 0.6058932400308279, 'recall': 0.6178489702517163, 'f1-score': 0.5944379342385941, 'macro_f1-score': 0.3688999588495037, 'balanced_accuracy': 0.37014508812090496, 'mcc': 0.47675021109731247, 'train_loss': 0.5272063192305149}\n",
      "Epoch 7/20\n"
     ]
    },
    {
     "name": "stderr",
     "output_type": "stream",
     "text": [
      "100%|██████████| 745/745 [01:16<00:00,  9.68it/s]\n"
     ]
    },
    {
     "name": "stdout",
     "output_type": "stream",
     "text": [
      "{'val_loss': 1.6042287522336331, 'val_accuracy': 0.6163234172387491, 'precision': 0.6259879991408167, 'recall': 0.6163234172387491, 'f1-score': 0.6085292636587447, 'macro_f1-score': 0.382658952279457, 'balanced_accuracy': 0.39393234543536043, 'mcc': 0.49792455000209496, 'train_loss': 0.4199015841638082}\n",
      "Epoch 8/20\n"
     ]
    },
    {
     "name": "stderr",
     "output_type": "stream",
     "text": [
      "100%|██████████| 745/745 [01:16<00:00,  9.71it/s]\n"
     ]
    },
    {
     "name": "stdout",
     "output_type": "stream",
     "text": [
      "{'val_loss': 1.7061739669340412, 'val_accuracy': 0.6346300533943554, 'precision': 0.642852756201177, 'recall': 0.6346300533943554, 'f1-score': 0.6207778610931484, 'macro_f1-score': 0.37764434845272615, 'balanced_accuracy': 0.39220814842258545, 'mcc': 0.5088652293069135, 'train_loss': 0.35300148395733943}\n",
      "Epoch 9/20\n"
     ]
    },
    {
     "name": "stderr",
     "output_type": "stream",
     "text": [
      "100%|██████████| 745/745 [01:17<00:00,  9.67it/s]\n"
     ]
    },
    {
     "name": "stdout",
     "output_type": "stream",
     "text": [
      "{'val_loss': 1.771129054630675, 'val_accuracy': 0.6041189931350115, 'precision': 0.6352256481531432, 'recall': 0.6041189931350115, 'f1-score': 0.6109280473226384, 'macro_f1-score': 0.37315131264024953, 'balanced_accuracy': 0.39787983721240233, 'mcc': 0.49580452077989856, 'train_loss': 0.3153760724419715}\n",
      "Epoch 10/20\n"
     ]
    },
    {
     "name": "stderr",
     "output_type": "stream",
     "text": [
      "100%|██████████| 745/745 [01:17<00:00,  9.64it/s]\n"
     ]
    },
    {
     "name": "stdout",
     "output_type": "stream",
     "text": [
      "{'val_loss': 1.8139188869333849, 'val_accuracy': 0.589626239511823, 'precision': 0.6321700075257458, 'recall': 0.589626239511823, 'f1-score': 0.6013652712697752, 'macro_f1-score': 0.402628127685994, 'balanced_accuracy': 0.44285278131159783, 'mcc': 0.484835146566633, 'train_loss': 0.2767668236397057}\n",
      "Epoch 11/20\n"
     ]
    },
    {
     "name": "stderr",
     "output_type": "stream",
     "text": [
      "100%|██████████| 745/745 [01:16<00:00,  9.69it/s]\n"
     ]
    },
    {
     "name": "stdout",
     "output_type": "stream",
     "text": [
      "{'val_loss': 1.8958888675381498, 'val_accuracy': 0.6109839816933639, 'precision': 0.6250797580556973, 'recall': 0.6109839816933639, 'f1-score': 0.6006757020335416, 'macro_f1-score': 0.3676928248822775, 'balanced_accuracy': 0.3831398652951881, 'mcc': 0.48217133037143817, 'train_loss': 0.24729322874981086}\n",
      "Epoch 12/20\n"
     ]
    },
    {
     "name": "stderr",
     "output_type": "stream",
     "text": [
      "100%|██████████| 745/745 [01:17<00:00,  9.65it/s]\n"
     ]
    },
    {
     "name": "stdout",
     "output_type": "stream",
     "text": [
      "{'val_loss': 1.983984153808617, 'val_accuracy': 0.6018306636155606, 'precision': 0.6254924407024007, 'recall': 0.6018306636155606, 'f1-score': 0.6068442568886976, 'macro_f1-score': 0.3765736797315422, 'balanced_accuracy': 0.4000953137975733, 'mcc': 0.49149663388213866, 'train_loss': 0.22116768024986821}\n",
      "Epoch 13/20\n"
     ]
    },
    {
     "name": "stderr",
     "output_type": "stream",
     "text": [
      "100%|██████████| 745/745 [01:16<00:00,  9.68it/s]\n"
     ]
    },
    {
     "name": "stdout",
     "output_type": "stream",
     "text": [
      "{'val_loss': 2.03080591177795, 'val_accuracy': 0.6186117467581999, 'precision': 0.6314513770904264, 'recall': 0.6186117467581999, 'f1-score': 0.6177754632274282, 'macro_f1-score': 0.3928631424563847, 'balanced_accuracy': 0.4156576407139121, 'mcc': 0.5057859725874839, 'train_loss': 0.17278046078554937}\n",
      "Early stopping.\n",
      "\n",
      "[Fold 5]\n",
      "🚀 Using Word2Vec for data augmentation\n",
      "🔧 Augmenting label 1: 21 → 200 (+179)\n",
      "🔧 Augmenting label 2: 64 → 200 (+136)\n",
      "🔧 Augmenting label 3: 24 → 200 (+176)\n",
      "🔧 Augmenting label 4: 191 → 200 (+9)\n",
      "🔧 Augmenting label 5: 112 → 200 (+88)\n",
      "🔧 Augmenting label 6: 92 → 200 (+108)\n",
      "🔧 Augmenting label 7: 31 → 200 (+169)\n",
      "🔧 Augmenting label 8: 68 → 200 (+132)\n",
      "🔧 Augmenting label 9: 29 → 200 (+171)\n",
      "🔧 Augmenting label 10: 68 → 200 (+132)\n",
      "🔧 Augmenting label 11: 168 → 200 (+32)\n",
      "🔧 Augmenting label 12: 190 → 200 (+10)\n",
      "🔧 Augmenting label 13: 29 → 200 (+171)\n",
      "🔧 Augmenting label 14: 22 → 200 (+178)\n",
      "🔧 Augmenting label 15: 25 → 200 (+175)\n",
      "🔧 Augmenting label 16: 19 → 200 (+181)\n",
      "🔧 Augmenting label 17: 183 → 200 (+17)\n",
      "🔧 Augmenting label 18: 92 → 200 (+108)\n",
      "🔧 Augmenting label 19: 44 → 200 (+156)\n",
      "🔧 Augmenting label 20: 14 → 200 (+186)\n",
      "🔧 Augmenting label 21: 35 → 200 (+165)\n",
      "🔧 Augmenting label 22: 76 → 200 (+124)\n",
      "🔧 Augmenting label 23: 158 → 200 (+42)\n",
      "🔧 Augmenting label 24: 13 → 200 (+187)\n",
      "🔧 Augmenting label 25: 44 → 200 (+156)\n",
      "🔧 Augmenting label 26: 84 → 200 (+116)\n",
      "🔧 Augmenting label 27: 48 → 200 (+152)\n",
      "🔧 Augmenting label 28: 11 → 200 (+189)\n",
      "🔧 Augmenting label 29: 13 → 200 (+187)\n",
      "🔧 Augmenting label 30: 11 → 200 (+189)\n",
      "🔧 Augmenting label 31: 75 → 200 (+125)\n",
      "🔧 Augmenting label 32: 36 → 200 (+164)\n",
      "🔧 Augmenting label 33: 31 → 200 (+169)\n",
      "🔧 Augmenting label 34: 30 → 200 (+170)\n",
      "🔧 Augmenting label 35: 11 → 200 (+189)\n",
      "🔧 Augmenting label 36: 22 → 200 (+178)\n",
      "🔧 Augmenting label 37: 16 → 200 (+184)\n",
      "🔧 Augmenting label 38: 33 → 200 (+167)\n",
      "🔧 Augmenting label 39: 10 → 200 (+190)\n",
      "🔧 Augmenting label 40: 9 → 200 (+191)\n",
      "🔧 Augmenting label 41: 57 → 200 (+143)\n",
      "🔧 Augmenting label 42: 18 → 200 (+182)\n",
      "🔧 Augmenting label 43: 9 → 200 (+191)\n",
      "🔧 Augmenting label 44: 54 → 200 (+146)\n",
      "🔧 Augmenting label 46: 61 → 200 (+139)\n",
      "🔧 Augmenting label 47: 80 → 200 (+120)\n",
      "Label distribution after resampling:\n",
      "  label 0: 2472\n",
      "  label 1: 200\n",
      "  label 2: 200\n",
      "  label 3: 200\n",
      "  label 4: 200\n",
      "  label 5: 200\n",
      "  label 6: 200\n",
      "  label 7: 200\n",
      "  label 8: 200\n",
      "  label 9: 200\n",
      "  label 10: 200\n",
      "  label 11: 200\n",
      "  label 12: 200\n",
      "  label 13: 200\n",
      "  label 14: 200\n",
      "  label 15: 200\n",
      "  label 16: 200\n",
      "  label 17: 200\n",
      "  label 18: 200\n",
      "  label 19: 200\n",
      "  label 20: 200\n",
      "  label 21: 200\n",
      "  label 22: 200\n",
      "  label 23: 200\n",
      "  label 24: 200\n",
      "  label 25: 200\n",
      "  label 26: 200\n",
      "  label 27: 200\n",
      "  label 28: 200\n",
      "  label 29: 200\n",
      "  label 30: 200\n",
      "  label 31: 200\n",
      "  label 32: 200\n",
      "  label 33: 200\n",
      "  label 34: 200\n",
      "  label 35: 200\n",
      "  label 36: 200\n",
      "  label 37: 200\n",
      "  label 38: 200\n",
      "  label 39: 200\n",
      "  label 40: 200\n",
      "  label 41: 200\n",
      "  label 42: 200\n",
      "  label 43: 200\n",
      "  label 44: 200\n",
      "  label 45: 242\n",
      "  label 46: 200\n",
      "  label 47: 200\n",
      "model is roberta-base bilstm\n"
     ]
    },
    {
     "name": "stderr",
     "output_type": "stream",
     "text": [
      "Some weights of RobertaModel were not initialized from the model checkpoint at roberta-base and are newly initialized: ['pooler.dense.bias', 'pooler.dense.weight']\n",
      "You should probably TRAIN this model on a down-stream task to be able to use it for predictions and inference.\n"
     ]
    },
    {
     "name": "stdout",
     "output_type": "stream",
     "text": [
      "Epoch 1/20\n"
     ]
    },
    {
     "name": "stderr",
     "output_type": "stream",
     "text": [
      "100%|██████████| 745/745 [01:17<00:00,  9.66it/s]\n"
     ]
    },
    {
     "name": "stdout",
     "output_type": "stream",
     "text": [
      "{'val_loss': 1.885884774894249, 'val_accuracy': 0.5118230358504958, 'precision': 0.45471318285110307, 'recall': 0.5118230358504958, 'f1-score': 0.4547602344906735, 'macro_f1-score': 0.15403445376735722, 'balanced_accuracy': 0.2265276359120799, 'mcc': 0.3208266538228216, 'train_loss': 2.979140052379378}\n",
      "Epoch 2/20\n"
     ]
    },
    {
     "name": "stderr",
     "output_type": "stream",
     "text": [
      "100%|██████████| 745/745 [01:16<00:00,  9.69it/s]\n"
     ]
    },
    {
     "name": "stdout",
     "output_type": "stream",
     "text": [
      "{'val_loss': 1.644658559706153, 'val_accuracy': 0.543859649122807, 'precision': 0.6023246596341723, 'recall': 0.543859649122807, 'f1-score': 0.536186640364601, 'macro_f1-score': 0.25654104297286145, 'balanced_accuracy': 0.3435142878909218, 'mcc': 0.4029414125287859, 'train_loss': 1.8063152427641338}\n",
      "Epoch 3/20\n"
     ]
    },
    {
     "name": "stderr",
     "output_type": "stream",
     "text": [
      "100%|██████████| 745/745 [01:16<00:00,  9.72it/s]\n"
     ]
    },
    {
     "name": "stdout",
     "output_type": "stream",
     "text": [
      "{'val_loss': 1.6001115790227565, 'val_accuracy': 0.562929061784897, 'precision': 0.6040070807857938, 'recall': 0.562929061784897, 'f1-score': 0.5629642418354239, 'macro_f1-score': 0.335274443442878, 'balanced_accuracy': 0.3597815727094136, 'mcc': 0.42462081942987767, 'train_loss': 1.185025836597353}\n",
      "Epoch 4/20\n"
     ]
    },
    {
     "name": "stderr",
     "output_type": "stream",
     "text": [
      "100%|██████████| 745/745 [01:15<00:00,  9.85it/s]\n"
     ]
    },
    {
     "name": "stdout",
     "output_type": "stream",
     "text": [
      "{'val_loss': 1.4996069059139345, 'val_accuracy': 0.5987795575896262, 'precision': 0.606368196871458, 'recall': 0.5987795575896262, 'f1-score': 0.5944106810113532, 'macro_f1-score': 0.3775025994362114, 'balanced_accuracy': 0.416474074467896, 'mcc': 0.4757304319738722, 'train_loss': 0.8070199787216699}\n",
      "Epoch 5/20\n"
     ]
    },
    {
     "name": "stderr",
     "output_type": "stream",
     "text": [
      "100%|██████████| 745/745 [01:17<00:00,  9.65it/s]\n"
     ]
    },
    {
     "name": "stdout",
     "output_type": "stream",
     "text": [
      "{'val_loss': 1.5413211427810716, 'val_accuracy': 0.6094584286803967, 'precision': 0.6269726586676304, 'recall': 0.6094584286803967, 'f1-score': 0.6080080875466474, 'macro_f1-score': 0.40186907867564825, 'balanced_accuracy': 0.4255712711367907, 'mcc': 0.48964076304747045, 'train_loss': 0.612533732778674}\n",
      "Epoch 6/20\n"
     ]
    },
    {
     "name": "stderr",
     "output_type": "stream",
     "text": [
      "100%|██████████| 745/745 [01:16<00:00,  9.69it/s]\n"
     ]
    },
    {
     "name": "stdout",
     "output_type": "stream",
     "text": [
      "{'val_loss': 1.5683030391611703, 'val_accuracy': 0.6247139588100686, 'precision': 0.6300617071577508, 'recall': 0.6247139588100686, 'f1-score': 0.6145633123341867, 'macro_f1-score': 0.37996261974154116, 'balanced_accuracy': 0.39071645784117964, 'mcc': 0.5093162017606908, 'train_loss': 0.47621782989109923}\n",
      "Epoch 7/20\n"
     ]
    },
    {
     "name": "stderr",
     "output_type": "stream",
     "text": [
      "100%|██████████| 745/745 [01:16<00:00,  9.70it/s]\n"
     ]
    },
    {
     "name": "stdout",
     "output_type": "stream",
     "text": [
      "{'val_loss': 1.658872152610523, 'val_accuracy': 0.6003051106025934, 'precision': 0.6214965789460445, 'recall': 0.6003051106025934, 'f1-score': 0.6028268883310044, 'macro_f1-score': 0.3809534367053013, 'balanced_accuracy': 0.41594057317261424, 'mcc': 0.4864252676770693, 'train_loss': 0.3888792322336027}\n",
      "Epoch 8/20\n"
     ]
    },
    {
     "name": "stderr",
     "output_type": "stream",
     "text": [
      "100%|██████████| 745/745 [01:16<00:00,  9.70it/s]\n"
     ]
    },
    {
     "name": "stdout",
     "output_type": "stream",
     "text": [
      "{'val_loss': 1.6498372220411532, 'val_accuracy': 0.6460717009916095, 'precision': 0.6377423543015771, 'recall': 0.6460717009916095, 'f1-score': 0.6340072979036208, 'macro_f1-score': 0.43552194036992403, 'balanced_accuracy': 0.43888458341911973, 'mcc': 0.5303439312275982, 'train_loss': 0.307093731931492}\n",
      "Epoch 9/20\n"
     ]
    },
    {
     "name": "stderr",
     "output_type": "stream",
     "text": [
      "100%|██████████| 745/745 [01:16<00:00,  9.71it/s]\n"
     ]
    },
    {
     "name": "stdout",
     "output_type": "stream",
     "text": [
      "{'val_loss': 1.6758100762963295, 'val_accuracy': 0.6308161708619374, 'precision': 0.6517952142076762, 'recall': 0.6308161708619374, 'f1-score': 0.6344256671169359, 'macro_f1-score': 0.4283608254539193, 'balanced_accuracy': 0.41986870194199905, 'mcc': 0.5197347961276937, 'train_loss': 0.2649143080345836}\n",
      "Epoch 10/20\n"
     ]
    },
    {
     "name": "stderr",
     "output_type": "stream",
     "text": [
      "100%|██████████| 745/745 [01:16<00:00,  9.76it/s]\n"
     ]
    },
    {
     "name": "stdout",
     "output_type": "stream",
     "text": [
      "{'val_loss': 1.7878001961039334, 'val_accuracy': 0.6033562166285278, 'precision': 0.6447561696155353, 'recall': 0.6033562166285278, 'f1-score': 0.6178720878345804, 'macro_f1-score': 0.4297195070080117, 'balanced_accuracy': 0.4387915202105693, 'mcc': 0.499830037503878, 'train_loss': 0.21466510161357438}\n",
      "Epoch 11/20\n"
     ]
    },
    {
     "name": "stderr",
     "output_type": "stream",
     "text": [
      "100%|██████████| 745/745 [01:16<00:00,  9.74it/s]\n"
     ]
    },
    {
     "name": "stdout",
     "output_type": "stream",
     "text": [
      "{'val_loss': 1.7784390202382716, 'val_accuracy': 0.6483600305110603, 'precision': 0.6450638512883455, 'recall': 0.6483600305110603, 'f1-score': 0.637960089366109, 'macro_f1-score': 0.43953834422495874, 'balanced_accuracy': 0.42480247006391875, 'mcc': 0.5331677672918507, 'train_loss': 0.21764601062633246}\n",
      "Epoch 12/20\n"
     ]
    },
    {
     "name": "stderr",
     "output_type": "stream",
     "text": [
      "100%|██████████| 745/745 [01:16<00:00,  9.75it/s]\n"
     ]
    },
    {
     "name": "stdout",
     "output_type": "stream",
     "text": [
      "{'val_loss': 1.7563229628452441, 'val_accuracy': 0.6308161708619374, 'precision': 0.627319957953821, 'recall': 0.6308161708619374, 'f1-score': 0.6217545937470546, 'macro_f1-score': 0.4383141477445549, 'balanced_accuracy': 0.41096578987547866, 'mcc': 0.5061850456904559, 'train_loss': 0.18640210539752605}\n",
      "Epoch 13/20\n"
     ]
    },
    {
     "name": "stderr",
     "output_type": "stream",
     "text": [
      "100%|██████████| 745/745 [01:16<00:00,  9.77it/s]\n"
     ]
    },
    {
     "name": "stdout",
     "output_type": "stream",
     "text": [
      "{'val_loss': 1.9101829695992354, 'val_accuracy': 0.6422578184591915, 'precision': 0.6265244854691574, 'recall': 0.6422578184591915, 'f1-score': 0.6205780324528903, 'macro_f1-score': 0.4027948765210368, 'balanced_accuracy': 0.4054461558911518, 'mcc': 0.5174725676444693, 'train_loss': 0.1406321348722449}\n",
      "Epoch 14/20\n"
     ]
    },
    {
     "name": "stderr",
     "output_type": "stream",
     "text": [
      "100%|██████████| 745/745 [01:15<00:00,  9.83it/s]\n"
     ]
    },
    {
     "name": "stdout",
     "output_type": "stream",
     "text": [
      "{'val_loss': 1.8749230453153936, 'val_accuracy': 0.6369183829138062, 'precision': 0.6570447695779907, 'recall': 0.6369183829138062, 'f1-score': 0.629808651321597, 'macro_f1-score': 0.4231465713099727, 'balanced_accuracy': 0.43557528756955355, 'mcc': 0.5298392446267899, 'train_loss': 0.13444491833723432}\n",
      "Early stopping.\n",
      "\n",
      " === roberta-base + bilstm + word2vec Final 5-fold Cross-Validation Results ===\n",
      "val_loss: 1.8138\n",
      "val_accuracy: 0.5946\n",
      "precision: 0.6185\n",
      "recall: 0.5946\n",
      "f1-score: 0.5908\n",
      "macro_f1-score: 0.3816\n",
      "balanced_accuracy: 0.3951\n",
      "mcc: 0.4708\n",
      "train_loss: 0.4408\n",
      "total_seconds: 5561.0000\n",
      "total_time: 1 hrs 32 mins 41 secs\n",
      "▶ Running: microsoft/deberta-base + plain + word2vec\n",
      "tokenizer is microsoft/deberta-base\n",
      "Using device: cuda\n",
      "CUDA Available: True\n",
      "CUDA Device: NVIDIA GeForce RTX 5070 Ti\n",
      "Current GPU Memory Allocated: 0.02 GB\n",
      "Current GPU Memory Cached: 3.94 GB\n",
      "\n",
      "[Fold 1]\n",
      "🚀 Using Word2Vec for data augmentation\n",
      "🔧 Augmenting label 1: 21 → 200 (+179)\n",
      "🔧 Augmenting label 2: 64 → 200 (+136)\n",
      "🔧 Augmenting label 3: 24 → 200 (+176)\n",
      "🔧 Augmenting label 4: 191 → 200 (+9)\n",
      "🔧 Augmenting label 5: 113 → 200 (+87)\n",
      "🔧 Augmenting label 6: 93 → 200 (+107)\n",
      "🔧 Augmenting label 7: 30 → 200 (+170)\n",
      "🔧 Augmenting label 8: 68 → 200 (+132)\n",
      "🔧 Augmenting label 9: 30 → 200 (+170)\n",
      "🔧 Augmenting label 10: 67 → 200 (+133)\n",
      "🔧 Augmenting label 11: 169 → 200 (+31)\n",
      "🔧 Augmenting label 12: 189 → 200 (+11)\n",
      "🔧 Augmenting label 13: 29 → 200 (+171)\n",
      "🔧 Augmenting label 14: 22 → 200 (+178)\n",
      "🔧 Augmenting label 15: 25 → 200 (+175)\n",
      "🔧 Augmenting label 16: 19 → 200 (+181)\n",
      "🔧 Augmenting label 17: 183 → 200 (+17)\n",
      "🔧 Augmenting label 18: 92 → 200 (+108)\n",
      "🔧 Augmenting label 19: 44 → 200 (+156)\n",
      "🔧 Augmenting label 20: 13 → 200 (+187)\n",
      "🔧 Augmenting label 21: 35 → 200 (+165)\n",
      "🔧 Augmenting label 22: 76 → 200 (+124)\n",
      "🔧 Augmenting label 23: 158 → 200 (+42)\n",
      "🔧 Augmenting label 24: 13 → 200 (+187)\n",
      "🔧 Augmenting label 25: 44 → 200 (+156)\n",
      "🔧 Augmenting label 26: 84 → 200 (+116)\n",
      "🔧 Augmenting label 27: 48 → 200 (+152)\n",
      "🔧 Augmenting label 28: 11 → 200 (+189)\n",
      "🔧 Augmenting label 29: 13 → 200 (+187)\n",
      "🔧 Augmenting label 30: 11 → 200 (+189)\n",
      "🔧 Augmenting label 31: 75 → 200 (+125)\n",
      "🔧 Augmenting label 32: 36 → 200 (+164)\n",
      "🔧 Augmenting label 33: 32 → 200 (+168)\n",
      "🔧 Augmenting label 34: 29 → 200 (+171)\n",
      "🔧 Augmenting label 35: 11 → 200 (+189)\n",
      "🔧 Augmenting label 36: 22 → 200 (+178)\n",
      "🔧 Augmenting label 37: 16 → 200 (+184)\n",
      "🔧 Augmenting label 38: 33 → 200 (+167)\n",
      "🔧 Augmenting label 39: 10 → 200 (+190)\n",
      "🔧 Augmenting label 40: 9 → 200 (+191)\n",
      "🔧 Augmenting label 41: 57 → 200 (+143)\n",
      "🔧 Augmenting label 42: 19 → 200 (+181)\n",
      "🔧 Augmenting label 43: 8 → 200 (+192)\n",
      "🔧 Augmenting label 44: 54 → 200 (+146)\n",
      "🔧 Augmenting label 46: 61 → 200 (+139)\n",
      "🔧 Augmenting label 47: 80 → 200 (+120)\n",
      "Label distribution after resampling:\n",
      "  label 0: 2471\n",
      "  label 1: 200\n",
      "  label 2: 200\n",
      "  label 3: 200\n",
      "  label 4: 200\n",
      "  label 5: 200\n",
      "  label 6: 200\n",
      "  label 7: 200\n",
      "  label 8: 200\n",
      "  label 9: 200\n",
      "  label 10: 200\n",
      "  label 11: 200\n",
      "  label 12: 200\n",
      "  label 13: 200\n",
      "  label 14: 200\n",
      "  label 15: 200\n",
      "  label 16: 200\n",
      "  label 17: 200\n",
      "  label 18: 200\n",
      "  label 19: 200\n",
      "  label 20: 200\n",
      "  label 21: 200\n",
      "  label 22: 200\n",
      "  label 23: 200\n",
      "  label 24: 200\n",
      "  label 25: 200\n",
      "  label 26: 200\n",
      "  label 27: 200\n",
      "  label 28: 200\n",
      "  label 29: 200\n",
      "  label 30: 200\n",
      "  label 31: 200\n",
      "  label 32: 200\n",
      "  label 33: 200\n",
      "  label 34: 200\n",
      "  label 35: 200\n",
      "  label 36: 200\n",
      "  label 37: 200\n",
      "  label 38: 200\n",
      "  label 39: 200\n",
      "  label 40: 200\n",
      "  label 41: 200\n",
      "  label 42: 200\n",
      "  label 43: 200\n",
      "  label 44: 200\n",
      "  label 45: 242\n",
      "  label 46: 200\n",
      "  label 47: 200\n",
      "model is microsoft/deberta-base\n"
     ]
    },
    {
     "name": "stderr",
     "output_type": "stream",
     "text": [
      "Some weights of DebertaForSequenceClassification were not initialized from the model checkpoint at microsoft/deberta-base and are newly initialized: ['classifier.bias', 'classifier.weight', 'pooler.dense.bias', 'pooler.dense.weight']\n",
      "You should probably TRAIN this model on a down-stream task to be able to use it for predictions and inference.\n"
     ]
    },
    {
     "name": "stdout",
     "output_type": "stream",
     "text": [
      "Epoch 1/20\n"
     ]
    },
    {
     "name": "stderr",
     "output_type": "stream",
     "text": [
      "100%|██████████| 745/745 [01:22<00:00,  9.02it/s]\n"
     ]
    },
    {
     "name": "stdout",
     "output_type": "stream",
     "text": [
      "{'val_loss': 1.5555766813638734, 'val_accuracy': 0.5846036585365854, 'precision': 0.5936206200311929, 'recall': 0.5846036585365854, 'f1-score': 0.5613620344888365, 'macro_f1-score': 0.33509647383676794, 'balanced_accuracy': 0.36933849582264505, 'mcc': 0.4342446315762095, 'train_loss': 2.1565068587360767}\n",
      "Epoch 2/20\n"
     ]
    },
    {
     "name": "stderr",
     "output_type": "stream",
     "text": [
      "100%|██████████| 745/745 [01:21<00:00,  9.09it/s]\n"
     ]
    },
    {
     "name": "stdout",
     "output_type": "stream",
     "text": [
      "{'val_loss': 1.5618573914213878, 'val_accuracy': 0.6272865853658537, 'precision': 0.6115065010664045, 'recall': 0.6272865853658537, 'f1-score': 0.5960114114398636, 'macro_f1-score': 0.37920766385328913, 'balanced_accuracy': 0.37523562041850206, 'mcc': 0.4817456896336853, 'train_loss': 0.740310287695603}\n",
      "Epoch 3/20\n"
     ]
    },
    {
     "name": "stderr",
     "output_type": "stream",
     "text": [
      "100%|██████████| 745/745 [01:23<00:00,  8.93it/s]\n"
     ]
    },
    {
     "name": "stdout",
     "output_type": "stream",
     "text": [
      "{'val_loss': 1.6987346483439933, 'val_accuracy': 0.6280487804878049, 'precision': 0.620952692204107, 'recall': 0.6280487804878049, 'f1-score': 0.6046774471074026, 'macro_f1-score': 0.38833125454999445, 'balanced_accuracy': 0.3754072300449593, 'mcc': 0.48945412478781275, 'train_loss': 0.3446806214024757}\n",
      "Epoch 4/20\n"
     ]
    },
    {
     "name": "stderr",
     "output_type": "stream",
     "text": [
      "100%|██████████| 745/745 [01:20<00:00,  9.22it/s]\n"
     ]
    },
    {
     "name": "stdout",
     "output_type": "stream",
     "text": [
      "{'val_loss': 1.7910586559190982, 'val_accuracy': 0.6219512195121951, 'precision': 0.6210078177040023, 'recall': 0.6219512195121951, 'f1-score': 0.6122858798773887, 'macro_f1-score': 0.410910391381329, 'balanced_accuracy': 0.42605938415649947, 'mcc': 0.5032306679729113, 'train_loss': 0.20863221631129117}\n",
      "Epoch 5/20\n"
     ]
    },
    {
     "name": "stderr",
     "output_type": "stream",
     "text": [
      "100%|██████████| 745/745 [01:20<00:00,  9.20it/s]\n"
     ]
    },
    {
     "name": "stdout",
     "output_type": "stream",
     "text": [
      "{'val_loss': 1.9058992230310672, 'val_accuracy': 0.6158536585365854, 'precision': 0.6339996162180277, 'recall': 0.6158536585365854, 'f1-score': 0.6117568317486196, 'macro_f1-score': 0.4017635187606672, 'balanced_accuracy': 0.42041425022062145, 'mcc': 0.5007487891032594, 'train_loss': 0.15731617695833214}\n",
      "Epoch 6/20\n"
     ]
    },
    {
     "name": "stderr",
     "output_type": "stream",
     "text": [
      "100%|██████████| 745/745 [01:23<00:00,  8.95it/s]\n"
     ]
    },
    {
     "name": "stdout",
     "output_type": "stream",
     "text": [
      "{'val_loss': 2.1401544111530955, 'val_accuracy': 0.6074695121951219, 'precision': 0.6275638915766012, 'recall': 0.6074695121951219, 'f1-score': 0.596620879287434, 'macro_f1-score': 0.3809722565751444, 'balanced_accuracy': 0.38375434781737194, 'mcc': 0.47691321379919027, 'train_loss': 0.12264780844530503}\n",
      "Epoch 7/20\n"
     ]
    },
    {
     "name": "stderr",
     "output_type": "stream",
     "text": [
      "100%|██████████| 745/745 [01:22<00:00,  9.04it/s]\n"
     ]
    },
    {
     "name": "stdout",
     "output_type": "stream",
     "text": [
      "{'val_loss': 2.2796985747792373, 'val_accuracy': 0.6432926829268293, 'precision': 0.6160125975014032, 'recall': 0.6432926829268293, 'f1-score': 0.6124237801212103, 'macro_f1-score': 0.3988826945638255, 'balanced_accuracy': 0.363241178987606, 'mcc': 0.5028727561992962, 'train_loss': 0.08805151329541441}\n",
      "Early stopping.\n",
      "\n",
      "[Fold 2]\n",
      "🚀 Using Word2Vec for data augmentation\n",
      "🔧 Augmenting label 1: 22 → 200 (+178)\n",
      "🔧 Augmenting label 2: 64 → 200 (+136)\n",
      "🔧 Augmenting label 3: 24 → 200 (+176)\n",
      "🔧 Augmenting label 4: 190 → 200 (+10)\n",
      "🔧 Augmenting label 5: 113 → 200 (+87)\n",
      "🔧 Augmenting label 6: 93 → 200 (+107)\n",
      "🔧 Augmenting label 7: 30 → 200 (+170)\n",
      "🔧 Augmenting label 8: 68 → 200 (+132)\n",
      "🔧 Augmenting label 9: 30 → 200 (+170)\n",
      "🔧 Augmenting label 10: 67 → 200 (+133)\n",
      "🔧 Augmenting label 11: 169 → 200 (+31)\n",
      "🔧 Augmenting label 12: 189 → 200 (+11)\n",
      "🔧 Augmenting label 13: 29 → 200 (+171)\n",
      "🔧 Augmenting label 14: 23 → 200 (+177)\n",
      "🔧 Augmenting label 15: 24 → 200 (+176)\n",
      "🔧 Augmenting label 16: 20 → 200 (+180)\n",
      "🔧 Augmenting label 17: 182 → 200 (+18)\n",
      "🔧 Augmenting label 18: 92 → 200 (+108)\n",
      "🔧 Augmenting label 19: 44 → 200 (+156)\n",
      "🔧 Augmenting label 20: 13 → 200 (+187)\n",
      "🔧 Augmenting label 21: 36 → 200 (+164)\n",
      "🔧 Augmenting label 22: 76 → 200 (+124)\n",
      "🔧 Augmenting label 23: 157 → 200 (+43)\n",
      "🔧 Augmenting label 24: 12 → 200 (+188)\n",
      "🔧 Augmenting label 25: 44 → 200 (+156)\n",
      "🔧 Augmenting label 26: 84 → 200 (+116)\n",
      "🔧 Augmenting label 27: 48 → 200 (+152)\n",
      "🔧 Augmenting label 28: 12 → 200 (+188)\n",
      "🔧 Augmenting label 29: 12 → 200 (+188)\n",
      "🔧 Augmenting label 30: 12 → 200 (+188)\n",
      "🔧 Augmenting label 31: 75 → 200 (+125)\n",
      "🔧 Augmenting label 32: 36 → 200 (+164)\n",
      "🔧 Augmenting label 33: 31 → 200 (+169)\n",
      "🔧 Augmenting label 34: 29 → 200 (+171)\n",
      "🔧 Augmenting label 35: 12 → 200 (+188)\n",
      "🔧 Augmenting label 36: 21 → 200 (+179)\n",
      "🔧 Augmenting label 37: 16 → 200 (+184)\n",
      "🔧 Augmenting label 38: 33 → 200 (+167)\n",
      "🔧 Augmenting label 39: 11 → 200 (+189)\n",
      "🔧 Augmenting label 40: 8 → 200 (+192)\n",
      "🔧 Augmenting label 41: 57 → 200 (+143)\n",
      "🔧 Augmenting label 42: 19 → 200 (+181)\n",
      "🔧 Augmenting label 43: 9 → 200 (+191)\n",
      "🔧 Augmenting label 44: 54 → 200 (+146)\n",
      "🔧 Augmenting label 46: 62 → 200 (+138)\n",
      "🔧 Augmenting label 47: 80 → 200 (+120)\n",
      "Label distribution after resampling:\n",
      "  label 0: 2471\n",
      "  label 1: 200\n",
      "  label 2: 200\n",
      "  label 3: 200\n",
      "  label 4: 200\n",
      "  label 5: 200\n",
      "  label 6: 200\n",
      "  label 7: 200\n",
      "  label 8: 200\n",
      "  label 9: 200\n",
      "  label 10: 200\n",
      "  label 11: 200\n",
      "  label 12: 200\n",
      "  label 13: 200\n",
      "  label 14: 200\n",
      "  label 15: 200\n",
      "  label 16: 200\n",
      "  label 17: 200\n",
      "  label 18: 200\n",
      "  label 19: 200\n",
      "  label 20: 200\n",
      "  label 21: 200\n",
      "  label 22: 200\n",
      "  label 23: 200\n",
      "  label 24: 200\n",
      "  label 25: 200\n",
      "  label 26: 200\n",
      "  label 27: 200\n",
      "  label 28: 200\n",
      "  label 29: 200\n",
      "  label 30: 200\n",
      "  label 31: 200\n",
      "  label 32: 200\n",
      "  label 33: 200\n",
      "  label 34: 200\n",
      "  label 35: 200\n",
      "  label 36: 200\n",
      "  label 37: 200\n",
      "  label 38: 200\n",
      "  label 39: 200\n",
      "  label 40: 200\n",
      "  label 41: 200\n",
      "  label 42: 200\n",
      "  label 43: 200\n",
      "  label 44: 200\n",
      "  label 45: 242\n",
      "  label 46: 200\n",
      "  label 47: 200\n",
      "model is microsoft/deberta-base\n"
     ]
    },
    {
     "name": "stderr",
     "output_type": "stream",
     "text": [
      "Some weights of DebertaForSequenceClassification were not initialized from the model checkpoint at microsoft/deberta-base and are newly initialized: ['classifier.bias', 'classifier.weight', 'pooler.dense.bias', 'pooler.dense.weight']\n",
      "You should probably TRAIN this model on a down-stream task to be able to use it for predictions and inference.\n"
     ]
    },
    {
     "name": "stdout",
     "output_type": "stream",
     "text": [
      "Epoch 1/20\n"
     ]
    },
    {
     "name": "stderr",
     "output_type": "stream",
     "text": [
      "100%|██████████| 745/745 [01:21<00:00,  9.17it/s]\n"
     ]
    },
    {
     "name": "stdout",
     "output_type": "stream",
     "text": [
      "{'val_loss': 1.4880487809820873, 'val_accuracy': 0.6018306636155606, 'precision': 0.6140829318888819, 'recall': 0.6018306636155606, 'f1-score': 0.5725231234827092, 'macro_f1-score': 0.31142704920456105, 'balanced_accuracy': 0.34282413779302695, 'mcc': 0.45557146524961, 'train_loss': 2.3035064336437507}\n",
      "Epoch 2/20\n"
     ]
    },
    {
     "name": "stderr",
     "output_type": "stream",
     "text": [
      "100%|██████████| 745/745 [01:21<00:00,  9.09it/s]\n"
     ]
    },
    {
     "name": "stdout",
     "output_type": "stream",
     "text": [
      "{'val_loss': 1.5072215206739379, 'val_accuracy': 0.6163234172387491, 'precision': 0.6408930655847691, 'recall': 0.6163234172387491, 'f1-score': 0.6137517869147502, 'macro_f1-score': 0.3582703705043106, 'balanced_accuracy': 0.39762905800512965, 'mcc': 0.49826987692559255, 'train_loss': 0.8494958586340783}\n",
      "Epoch 3/20\n"
     ]
    },
    {
     "name": "stderr",
     "output_type": "stream",
     "text": [
      "100%|██████████| 745/745 [01:21<00:00,  9.17it/s]\n"
     ]
    },
    {
     "name": "stdout",
     "output_type": "stream",
     "text": [
      "{'val_loss': 1.5823897439532164, 'val_accuracy': 0.635392829900839, 'precision': 0.6169201593168913, 'recall': 0.635392829900839, 'f1-score': 0.6078531182044393, 'macro_f1-score': 0.37088571842199575, 'balanced_accuracy': 0.3838831342814928, 'mcc': 0.5025560599775382, 'train_loss': 0.4038710437365026}\n",
      "Epoch 4/20\n"
     ]
    },
    {
     "name": "stderr",
     "output_type": "stream",
     "text": [
      "100%|██████████| 745/745 [01:21<00:00,  9.16it/s]\n"
     ]
    },
    {
     "name": "stdout",
     "output_type": "stream",
     "text": [
      "{'val_loss': 1.6813372700679592, 'val_accuracy': 0.6552250190694127, 'precision': 0.6420137897121089, 'recall': 0.6552250190694127, 'f1-score': 0.6389376109535633, 'macro_f1-score': 0.37424780470605673, 'balanced_accuracy': 0.36484259785419443, 'mcc': 0.5384839682507199, 'train_loss': 0.2321823866250331}\n",
      "Epoch 5/20\n"
     ]
    },
    {
     "name": "stderr",
     "output_type": "stream",
     "text": [
      "100%|██████████| 745/745 [01:22<00:00,  9.07it/s]\n"
     ]
    },
    {
     "name": "stdout",
     "output_type": "stream",
     "text": [
      "{'val_loss': 1.964594625845188, 'val_accuracy': 0.6331045003813882, 'precision': 0.6145897200947611, 'recall': 0.6331045003813882, 'f1-score': 0.5980842588320812, 'macro_f1-score': 0.36567797091162935, 'balanced_accuracy': 0.36176313266048354, 'mcc': 0.4897922911654336, 'train_loss': 0.16137493652035326}\n",
      "Epoch 6/20\n"
     ]
    },
    {
     "name": "stderr",
     "output_type": "stream",
     "text": [
      "100%|██████████| 745/745 [01:21<00:00,  9.14it/s]\n"
     ]
    },
    {
     "name": "stdout",
     "output_type": "stream",
     "text": [
      "{'val_loss': 1.8805133366003268, 'val_accuracy': 0.6498855835240275, 'precision': 0.6415892771782344, 'recall': 0.6498855835240275, 'f1-score': 0.6333887776647447, 'macro_f1-score': 0.38098882247148036, 'balanced_accuracy': 0.3749882263524374, 'mcc': 0.5262084889620519, 'train_loss': 0.1253883969335623}\n",
      "Epoch 7/20\n"
     ]
    },
    {
     "name": "stderr",
     "output_type": "stream",
     "text": [
      "100%|██████████| 745/745 [01:22<00:00,  9.08it/s]\n"
     ]
    },
    {
     "name": "stdout",
     "output_type": "stream",
     "text": [
      "{'val_loss': 1.989077017074678, 'val_accuracy': 0.6552250190694127, 'precision': 0.6449545950691092, 'recall': 0.6552250190694127, 'f1-score': 0.635787832219893, 'macro_f1-score': 0.37630856207787367, 'balanced_accuracy': 0.36375345527312214, 'mcc': 0.538173942019598, 'train_loss': 0.108135113344159}\n",
      "Epoch 8/20\n"
     ]
    },
    {
     "name": "stderr",
     "output_type": "stream",
     "text": [
      "100%|██████████| 745/745 [01:21<00:00,  9.13it/s]\n"
     ]
    },
    {
     "name": "stdout",
     "output_type": "stream",
     "text": [
      "{'val_loss': 2.0809597761892693, 'val_accuracy': 0.6323417238749046, 'precision': 0.6466366905418363, 'recall': 0.6323417238749046, 'f1-score': 0.6247337046654365, 'macro_f1-score': 0.3887575444030363, 'balanced_accuracy': 0.42223877056437087, 'mcc': 0.524972865491148, 'train_loss': 0.09651648774680575}\n",
      "Epoch 9/20\n"
     ]
    },
    {
     "name": "stderr",
     "output_type": "stream",
     "text": [
      "100%|██████████| 745/745 [01:20<00:00,  9.26it/s]\n"
     ]
    },
    {
     "name": "stdout",
     "output_type": "stream",
     "text": [
      "{'val_loss': 2.163286981059284, 'val_accuracy': 0.6209000762776506, 'precision': 0.6190419292813865, 'recall': 0.6209000762776506, 'f1-score': 0.605568493987297, 'macro_f1-score': 0.3404357869981885, 'balanced_accuracy': 0.3467403161122525, 'mcc': 0.4905222024482117, 'train_loss': 0.06683652533558916}\n",
      "Epoch 10/20\n"
     ]
    },
    {
     "name": "stderr",
     "output_type": "stream",
     "text": [
      "100%|██████████| 745/745 [01:22<00:00,  9.04it/s]\n"
     ]
    },
    {
     "name": "stdout",
     "output_type": "stream",
     "text": [
      "{'val_loss': 2.218917700575619, 'val_accuracy': 0.6071700991609459, 'precision': 0.6371849741514808, 'recall': 0.6071700991609459, 'f1-score': 0.6084999937055845, 'macro_f1-score': 0.3516042090211726, 'balanced_accuracy': 0.3694147094520365, 'mcc': 0.5027724574332061, 'train_loss': 0.0907423600320073}\n",
      "Epoch 11/20\n"
     ]
    },
    {
     "name": "stderr",
     "output_type": "stream",
     "text": [
      "100%|██████████| 745/745 [01:23<00:00,  8.97it/s]\n"
     ]
    },
    {
     "name": "stdout",
     "output_type": "stream",
     "text": [
      "{'val_loss': 2.280279039155419, 'val_accuracy': 0.6384439359267735, 'precision': 0.6359266769538856, 'recall': 0.6384439359267735, 'f1-score': 0.6234878043202509, 'macro_f1-score': 0.36691328046344635, 'balanced_accuracy': 0.3667432864209294, 'mcc': 0.5186706023595294, 'train_loss': 0.0694173578285431}\n",
      "Early stopping.\n",
      "\n",
      "[Fold 3]\n",
      "🚀 Using Word2Vec for data augmentation\n",
      "🔧 Augmenting label 1: 22 → 200 (+178)\n",
      "🔧 Augmenting label 2: 64 → 200 (+136)\n",
      "🔧 Augmenting label 3: 24 → 200 (+176)\n",
      "🔧 Augmenting label 4: 190 → 200 (+10)\n",
      "🔧 Augmenting label 5: 113 → 200 (+87)\n",
      "🔧 Augmenting label 6: 93 → 200 (+107)\n",
      "🔧 Augmenting label 7: 30 → 200 (+170)\n",
      "🔧 Augmenting label 8: 68 → 200 (+132)\n",
      "🔧 Augmenting label 9: 30 → 200 (+170)\n",
      "🔧 Augmenting label 10: 67 → 200 (+133)\n",
      "🔧 Augmenting label 11: 169 → 200 (+31)\n",
      "🔧 Augmenting label 12: 190 → 200 (+10)\n",
      "🔧 Augmenting label 13: 28 → 200 (+172)\n",
      "🔧 Augmenting label 14: 23 → 200 (+177)\n",
      "🔧 Augmenting label 15: 25 → 200 (+175)\n",
      "🔧 Augmenting label 16: 19 → 200 (+181)\n",
      "🔧 Augmenting label 17: 182 → 200 (+18)\n",
      "🔧 Augmenting label 18: 92 → 200 (+108)\n",
      "🔧 Augmenting label 19: 44 → 200 (+156)\n",
      "🔧 Augmenting label 20: 14 → 200 (+186)\n",
      "🔧 Augmenting label 21: 35 → 200 (+165)\n",
      "🔧 Augmenting label 22: 76 → 200 (+124)\n",
      "🔧 Augmenting label 23: 157 → 200 (+43)\n",
      "🔧 Augmenting label 24: 13 → 200 (+187)\n",
      "🔧 Augmenting label 25: 44 → 200 (+156)\n",
      "🔧 Augmenting label 26: 84 → 200 (+116)\n",
      "🔧 Augmenting label 27: 48 → 200 (+152)\n",
      "🔧 Augmenting label 28: 11 → 200 (+189)\n",
      "🔧 Augmenting label 29: 13 → 200 (+187)\n",
      "🔧 Augmenting label 30: 11 → 200 (+189)\n",
      "🔧 Augmenting label 31: 76 → 200 (+124)\n",
      "🔧 Augmenting label 32: 36 → 200 (+164)\n",
      "🔧 Augmenting label 33: 31 → 200 (+169)\n",
      "🔧 Augmenting label 34: 30 → 200 (+170)\n",
      "🔧 Augmenting label 35: 11 → 200 (+189)\n",
      "🔧 Augmenting label 36: 21 → 200 (+179)\n",
      "🔧 Augmenting label 37: 16 → 200 (+184)\n",
      "🔧 Augmenting label 38: 32 → 200 (+168)\n",
      "🔧 Augmenting label 39: 11 → 200 (+189)\n",
      "🔧 Augmenting label 40: 9 → 200 (+191)\n",
      "🔧 Augmenting label 41: 57 → 200 (+143)\n",
      "🔧 Augmenting label 42: 18 → 200 (+182)\n",
      "🔧 Augmenting label 43: 9 → 200 (+191)\n",
      "🔧 Augmenting label 44: 55 → 200 (+145)\n",
      "🔧 Augmenting label 46: 62 → 200 (+138)\n",
      "🔧 Augmenting label 47: 80 → 200 (+120)\n",
      "Label distribution after resampling:\n",
      "  label 0: 2471\n",
      "  label 1: 200\n",
      "  label 2: 200\n",
      "  label 3: 200\n",
      "  label 4: 200\n",
      "  label 5: 200\n",
      "  label 6: 200\n",
      "  label 7: 200\n",
      "  label 8: 200\n",
      "  label 9: 200\n",
      "  label 10: 200\n",
      "  label 11: 200\n",
      "  label 12: 200\n",
      "  label 13: 200\n",
      "  label 14: 200\n",
      "  label 15: 200\n",
      "  label 16: 200\n",
      "  label 17: 200\n",
      "  label 18: 200\n",
      "  label 19: 200\n",
      "  label 20: 200\n",
      "  label 21: 200\n",
      "  label 22: 200\n",
      "  label 23: 200\n",
      "  label 24: 200\n",
      "  label 25: 200\n",
      "  label 26: 200\n",
      "  label 27: 200\n",
      "  label 28: 200\n",
      "  label 29: 200\n",
      "  label 30: 200\n",
      "  label 31: 200\n",
      "  label 32: 200\n",
      "  label 33: 200\n",
      "  label 34: 200\n",
      "  label 35: 200\n",
      "  label 36: 200\n",
      "  label 37: 200\n",
      "  label 38: 200\n",
      "  label 39: 200\n",
      "  label 40: 200\n",
      "  label 41: 200\n",
      "  label 42: 200\n",
      "  label 43: 200\n",
      "  label 44: 200\n",
      "  label 45: 241\n",
      "  label 46: 200\n",
      "  label 47: 200\n",
      "model is microsoft/deberta-base\n"
     ]
    },
    {
     "name": "stderr",
     "output_type": "stream",
     "text": [
      "Some weights of DebertaForSequenceClassification were not initialized from the model checkpoint at microsoft/deberta-base and are newly initialized: ['classifier.bias', 'classifier.weight', 'pooler.dense.bias', 'pooler.dense.weight']\n",
      "You should probably TRAIN this model on a down-stream task to be able to use it for predictions and inference.\n"
     ]
    },
    {
     "name": "stdout",
     "output_type": "stream",
     "text": [
      "Epoch 1/20\n"
     ]
    },
    {
     "name": "stderr",
     "output_type": "stream",
     "text": [
      "100%|██████████| 745/745 [01:22<00:00,  9.04it/s]\n"
     ]
    },
    {
     "name": "stdout",
     "output_type": "stream",
     "text": [
      "{'val_loss': 1.7626826443323276, 'val_accuracy': 0.5217391304347826, 'precision': 0.575059399401312, 'recall': 0.5217391304347826, 'f1-score': 0.5253569748111595, 'macro_f1-score': 0.2674999841404784, 'balanced_accuracy': 0.324718692816743, 'mcc': 0.3845605915623535, 'train_loss': 2.521778827545627}\n",
      "Epoch 2/20\n"
     ]
    },
    {
     "name": "stderr",
     "output_type": "stream",
     "text": [
      "100%|██████████| 745/745 [01:24<00:00,  8.82it/s]\n"
     ]
    },
    {
     "name": "stdout",
     "output_type": "stream",
     "text": [
      "{'val_loss': 1.6348920757087266, 'val_accuracy': 0.5957284515636918, 'precision': 0.6081725099413053, 'recall': 0.5957284515636918, 'f1-score': 0.5887752154379301, 'macro_f1-score': 0.3525263553509331, 'balanced_accuracy': 0.3499162830517069, 'mcc': 0.4607431765322049, 'train_loss': 0.9400578145412791}\n",
      "Epoch 3/20\n"
     ]
    },
    {
     "name": "stderr",
     "output_type": "stream",
     "text": [
      "100%|██████████| 745/745 [01:22<00:00,  9.04it/s]\n"
     ]
    },
    {
     "name": "stdout",
     "output_type": "stream",
     "text": [
      "{'val_loss': 1.7185334210715644, 'val_accuracy': 0.6003051106025934, 'precision': 0.6162768311046991, 'recall': 0.6003051106025934, 'f1-score': 0.5953063415254289, 'macro_f1-score': 0.37705044452599773, 'balanced_accuracy': 0.3673289686140633, 'mcc': 0.47265759883056874, 'train_loss': 0.4287178703702536}\n",
      "Epoch 4/20\n"
     ]
    },
    {
     "name": "stderr",
     "output_type": "stream",
     "text": [
      "100%|██████████| 745/745 [01:21<00:00,  9.09it/s]\n"
     ]
    },
    {
     "name": "stdout",
     "output_type": "stream",
     "text": [
      "{'val_loss': 1.8870006915999622, 'val_accuracy': 0.5736079328756675, 'precision': 0.614367332609389, 'recall': 0.5736079328756675, 'f1-score': 0.5802705885312023, 'macro_f1-score': 0.3430894945400491, 'balanced_accuracy': 0.3479317661444994, 'mcc': 0.44571594209705917, 'train_loss': 0.2380533444726427}\n",
      "Epoch 5/20\n"
     ]
    },
    {
     "name": "stderr",
     "output_type": "stream",
     "text": [
      "100%|██████████| 745/745 [01:21<00:00,  9.18it/s]\n"
     ]
    },
    {
     "name": "stdout",
     "output_type": "stream",
     "text": [
      "{'val_loss': 2.0734276408102454, 'val_accuracy': 0.6109839816933639, 'precision': 0.6278941176176858, 'recall': 0.6109839816933639, 'f1-score': 0.5978419461211775, 'macro_f1-score': 0.37828833011213175, 'balanced_accuracy': 0.36445756257687106, 'mcc': 0.479930382124776, 'train_loss': 0.20796582526933627}\n",
      "Epoch 6/20\n"
     ]
    },
    {
     "name": "stderr",
     "output_type": "stream",
     "text": [
      "100%|██████████| 745/745 [01:21<00:00,  9.16it/s]\n"
     ]
    },
    {
     "name": "stdout",
     "output_type": "stream",
     "text": [
      "{'val_loss': 2.2344623171701663, 'val_accuracy': 0.5736079328756675, 'precision': 0.6306723730027087, 'recall': 0.5736079328756675, 'f1-score': 0.5902462032665887, 'macro_f1-score': 0.38672274133565104, 'balanced_accuracy': 0.3915127479837814, 'mcc': 0.4725163679898207, 'train_loss': 0.15131937826752362}\n",
      "Epoch 7/20\n"
     ]
    },
    {
     "name": "stderr",
     "output_type": "stream",
     "text": [
      "100%|██████████| 745/745 [01:22<00:00,  9.06it/s]\n"
     ]
    },
    {
     "name": "stdout",
     "output_type": "stream",
     "text": [
      "{'val_loss': 2.316601260042772, 'val_accuracy': 0.6231884057971014, 'precision': 0.6032737478542992, 'recall': 0.6231884057971014, 'f1-score': 0.5973714467397805, 'macro_f1-score': 0.36682986545063684, 'balanced_accuracy': 0.361251059619004, 'mcc': 0.4861431857174581, 'train_loss': 0.10592286326178668}\n",
      "Epoch 8/20\n"
     ]
    },
    {
     "name": "stderr",
     "output_type": "stream",
     "text": [
      "100%|██████████| 745/745 [01:22<00:00,  8.98it/s]\n"
     ]
    },
    {
     "name": "stdout",
     "output_type": "stream",
     "text": [
      "{'val_loss': 2.2922821869937384, 'val_accuracy': 0.5827612509534706, 'precision': 0.6140349201018559, 'recall': 0.5827612509534706, 'f1-score': 0.5883481702513027, 'macro_f1-score': 0.3704422120156836, 'balanced_accuracy': 0.3764583682761115, 'mcc': 0.47065149414986224, 'train_loss': 0.10045378244819507}\n",
      "Epoch 9/20\n"
     ]
    },
    {
     "name": "stderr",
     "output_type": "stream",
     "text": [
      "100%|██████████| 745/745 [01:23<00:00,  8.89it/s]\n"
     ]
    },
    {
     "name": "stdout",
     "output_type": "stream",
     "text": [
      "{'val_loss': 2.427941671777062, 'val_accuracy': 0.6300533943554538, 'precision': 0.6237089231312868, 'recall': 0.6300533943554538, 'f1-score': 0.6047019815876009, 'macro_f1-score': 0.359135913851252, 'balanced_accuracy': 0.33772948227655436, 'mcc': 0.4973588107947523, 'train_loss': 0.08132289098513207}\n",
      "Early stopping.\n",
      "\n",
      "[Fold 4]\n",
      "🚀 Using Word2Vec for data augmentation\n",
      "🔧 Augmenting label 1: 22 → 200 (+178)\n",
      "🔧 Augmenting label 2: 64 → 200 (+136)\n",
      "🔧 Augmenting label 3: 24 → 200 (+176)\n",
      "🔧 Augmenting label 4: 190 → 200 (+10)\n",
      "🔧 Augmenting label 5: 113 → 200 (+87)\n",
      "🔧 Augmenting label 6: 93 → 200 (+107)\n",
      "🔧 Augmenting label 7: 31 → 200 (+169)\n",
      "🔧 Augmenting label 8: 68 → 200 (+132)\n",
      "🔧 Augmenting label 9: 29 → 200 (+171)\n",
      "🔧 Augmenting label 10: 67 → 200 (+133)\n",
      "🔧 Augmenting label 11: 169 → 200 (+31)\n",
      "🔧 Augmenting label 12: 190 → 200 (+10)\n",
      "🔧 Augmenting label 13: 29 → 200 (+171)\n",
      "🔧 Augmenting label 14: 22 → 200 (+178)\n",
      "🔧 Augmenting label 15: 25 → 200 (+175)\n",
      "🔧 Augmenting label 16: 19 → 200 (+181)\n",
      "🔧 Augmenting label 17: 182 → 200 (+18)\n",
      "🔧 Augmenting label 18: 92 → 200 (+108)\n",
      "🔧 Augmenting label 19: 44 → 200 (+156)\n",
      "🔧 Augmenting label 20: 14 → 200 (+186)\n",
      "🔧 Augmenting label 21: 35 → 200 (+165)\n",
      "🔧 Augmenting label 22: 76 → 200 (+124)\n",
      "🔧 Augmenting label 23: 158 → 200 (+42)\n",
      "🔧 Augmenting label 24: 13 → 200 (+187)\n",
      "🔧 Augmenting label 25: 44 → 200 (+156)\n",
      "🔧 Augmenting label 26: 84 → 200 (+116)\n",
      "🔧 Augmenting label 27: 48 → 200 (+152)\n",
      "🔧 Augmenting label 28: 11 → 200 (+189)\n",
      "🔧 Augmenting label 29: 13 → 200 (+187)\n",
      "🔧 Augmenting label 30: 11 → 200 (+189)\n",
      "🔧 Augmenting label 31: 75 → 200 (+125)\n",
      "🔧 Augmenting label 32: 36 → 200 (+164)\n",
      "🔧 Augmenting label 33: 31 → 200 (+169)\n",
      "🔧 Augmenting label 34: 30 → 200 (+170)\n",
      "🔧 Augmenting label 35: 11 → 200 (+189)\n",
      "🔧 Augmenting label 36: 22 → 200 (+178)\n",
      "🔧 Augmenting label 37: 16 → 200 (+184)\n",
      "🔧 Augmenting label 38: 33 → 200 (+167)\n",
      "🔧 Augmenting label 39: 10 → 200 (+190)\n",
      "🔧 Augmenting label 40: 9 → 200 (+191)\n",
      "🔧 Augmenting label 41: 56 → 200 (+144)\n",
      "🔧 Augmenting label 42: 18 → 200 (+182)\n",
      "🔧 Augmenting label 43: 9 → 200 (+191)\n",
      "🔧 Augmenting label 44: 55 → 200 (+145)\n",
      "🔧 Augmenting label 46: 62 → 200 (+138)\n",
      "🔧 Augmenting label 47: 80 → 200 (+120)\n",
      "Label distribution after resampling:\n",
      "  label 0: 2471\n",
      "  label 1: 200\n",
      "  label 2: 200\n",
      "  label 3: 200\n",
      "  label 4: 200\n",
      "  label 5: 200\n",
      "  label 6: 200\n",
      "  label 7: 200\n",
      "  label 8: 200\n",
      "  label 9: 200\n",
      "  label 10: 200\n",
      "  label 11: 200\n",
      "  label 12: 200\n",
      "  label 13: 200\n",
      "  label 14: 200\n",
      "  label 15: 200\n",
      "  label 16: 200\n",
      "  label 17: 200\n",
      "  label 18: 200\n",
      "  label 19: 200\n",
      "  label 20: 200\n",
      "  label 21: 200\n",
      "  label 22: 200\n",
      "  label 23: 200\n",
      "  label 24: 200\n",
      "  label 25: 200\n",
      "  label 26: 200\n",
      "  label 27: 200\n",
      "  label 28: 200\n",
      "  label 29: 200\n",
      "  label 30: 200\n",
      "  label 31: 200\n",
      "  label 32: 200\n",
      "  label 33: 200\n",
      "  label 34: 200\n",
      "  label 35: 200\n",
      "  label 36: 200\n",
      "  label 37: 200\n",
      "  label 38: 200\n",
      "  label 39: 200\n",
      "  label 40: 200\n",
      "  label 41: 200\n",
      "  label 42: 200\n",
      "  label 43: 200\n",
      "  label 44: 200\n",
      "  label 45: 241\n",
      "  label 46: 200\n",
      "  label 47: 200\n",
      "model is microsoft/deberta-base\n"
     ]
    },
    {
     "name": "stderr",
     "output_type": "stream",
     "text": [
      "Some weights of DebertaForSequenceClassification were not initialized from the model checkpoint at microsoft/deberta-base and are newly initialized: ['classifier.bias', 'classifier.weight', 'pooler.dense.bias', 'pooler.dense.weight']\n",
      "You should probably TRAIN this model on a down-stream task to be able to use it for predictions and inference.\n"
     ]
    },
    {
     "name": "stdout",
     "output_type": "stream",
     "text": [
      "Epoch 1/20\n"
     ]
    },
    {
     "name": "stderr",
     "output_type": "stream",
     "text": [
      "100%|██████████| 745/745 [01:22<00:00,  9.03it/s]\n"
     ]
    },
    {
     "name": "stdout",
     "output_type": "stream",
     "text": [
      "{'val_loss': 2.8904812932014465, 'val_accuracy': 0.47139588100686497, 'precision': 0.2222140766302384, 'recall': 0.47139588100686497, 'f1-score': 0.302045261236125, 'macro_f1-score': 0.01334888543286677, 'balanced_accuracy': 0.020833333333333332, 'mcc': 0.0, 'train_loss': 3.584091506228351}\n",
      "Epoch 2/20\n"
     ]
    },
    {
     "name": "stderr",
     "output_type": "stream",
     "text": [
      "100%|██████████| 745/745 [01:26<00:00,  8.57it/s]\n"
     ]
    },
    {
     "name": "stdout",
     "output_type": "stream",
     "text": [
      "{'val_loss': 2.877059421888212, 'val_accuracy': 0.47139588100686497, 'precision': 0.2222140766302384, 'recall': 0.47139588100686497, 'f1-score': 0.302045261236125, 'macro_f1-score': 0.01334888543286677, 'balanced_accuracy': 0.020833333333333332, 'mcc': 0.0, 'train_loss': 3.531176270734544}\n",
      "Epoch 3/20\n"
     ]
    },
    {
     "name": "stderr",
     "output_type": "stream",
     "text": [
      "100%|██████████| 745/745 [01:22<00:00,  9.01it/s]\n"
     ]
    },
    {
     "name": "stdout",
     "output_type": "stream",
     "text": [
      "{'val_loss': 2.8228601086430434, 'val_accuracy': 0.47139588100686497, 'precision': 0.2222140766302384, 'recall': 0.47139588100686497, 'f1-score': 0.302045261236125, 'macro_f1-score': 0.01334888543286677, 'balanced_accuracy': 0.020833333333333332, 'mcc': 0.0, 'train_loss': 3.479653303735208}\n",
      "Epoch 4/20\n"
     ]
    },
    {
     "name": "stderr",
     "output_type": "stream",
     "text": [
      "100%|██████████| 745/745 [01:22<00:00,  9.06it/s]\n"
     ]
    },
    {
     "name": "stdout",
     "output_type": "stream",
     "text": [
      "{'val_loss': 2.9660885711995566, 'val_accuracy': 0.47139588100686497, 'precision': 0.2222140766302384, 'recall': 0.47139588100686497, 'f1-score': 0.302045261236125, 'macro_f1-score': 0.01334888543286677, 'balanced_accuracy': 0.020833333333333332, 'mcc': 0.0, 'train_loss': 3.4577625873104836}\n",
      "Early stopping.\n",
      "\n",
      "[Fold 5]\n",
      "🚀 Using Word2Vec for data augmentation\n",
      "🔧 Augmenting label 1: 21 → 200 (+179)\n",
      "🔧 Augmenting label 2: 64 → 200 (+136)\n",
      "🔧 Augmenting label 3: 24 → 200 (+176)\n",
      "🔧 Augmenting label 4: 191 → 200 (+9)\n",
      "🔧 Augmenting label 5: 112 → 200 (+88)\n",
      "🔧 Augmenting label 6: 92 → 200 (+108)\n",
      "🔧 Augmenting label 7: 31 → 200 (+169)\n",
      "🔧 Augmenting label 8: 68 → 200 (+132)\n",
      "🔧 Augmenting label 9: 29 → 200 (+171)\n",
      "🔧 Augmenting label 10: 68 → 200 (+132)\n",
      "🔧 Augmenting label 11: 168 → 200 (+32)\n",
      "🔧 Augmenting label 12: 190 → 200 (+10)\n",
      "🔧 Augmenting label 13: 29 → 200 (+171)\n",
      "🔧 Augmenting label 14: 22 → 200 (+178)\n",
      "🔧 Augmenting label 15: 25 → 200 (+175)\n",
      "🔧 Augmenting label 16: 19 → 200 (+181)\n",
      "🔧 Augmenting label 17: 183 → 200 (+17)\n",
      "🔧 Augmenting label 18: 92 → 200 (+108)\n",
      "🔧 Augmenting label 19: 44 → 200 (+156)\n",
      "🔧 Augmenting label 20: 14 → 200 (+186)\n",
      "🔧 Augmenting label 21: 35 → 200 (+165)\n",
      "🔧 Augmenting label 22: 76 → 200 (+124)\n",
      "🔧 Augmenting label 23: 158 → 200 (+42)\n",
      "🔧 Augmenting label 24: 13 → 200 (+187)\n",
      "🔧 Augmenting label 25: 44 → 200 (+156)\n",
      "🔧 Augmenting label 26: 84 → 200 (+116)\n",
      "🔧 Augmenting label 27: 48 → 200 (+152)\n",
      "🔧 Augmenting label 28: 11 → 200 (+189)\n",
      "🔧 Augmenting label 29: 13 → 200 (+187)\n",
      "🔧 Augmenting label 30: 11 → 200 (+189)\n",
      "🔧 Augmenting label 31: 75 → 200 (+125)\n",
      "🔧 Augmenting label 32: 36 → 200 (+164)\n",
      "🔧 Augmenting label 33: 31 → 200 (+169)\n",
      "🔧 Augmenting label 34: 30 → 200 (+170)\n",
      "🔧 Augmenting label 35: 11 → 200 (+189)\n",
      "🔧 Augmenting label 36: 22 → 200 (+178)\n",
      "🔧 Augmenting label 37: 16 → 200 (+184)\n",
      "🔧 Augmenting label 38: 33 → 200 (+167)\n",
      "🔧 Augmenting label 39: 10 → 200 (+190)\n",
      "🔧 Augmenting label 40: 9 → 200 (+191)\n",
      "🔧 Augmenting label 41: 57 → 200 (+143)\n",
      "🔧 Augmenting label 42: 18 → 200 (+182)\n",
      "🔧 Augmenting label 43: 9 → 200 (+191)\n",
      "🔧 Augmenting label 44: 54 → 200 (+146)\n",
      "🔧 Augmenting label 46: 61 → 200 (+139)\n",
      "🔧 Augmenting label 47: 80 → 200 (+120)\n",
      "Label distribution after resampling:\n",
      "  label 0: 2472\n",
      "  label 1: 200\n",
      "  label 2: 200\n",
      "  label 3: 200\n",
      "  label 4: 200\n",
      "  label 5: 200\n",
      "  label 6: 200\n",
      "  label 7: 200\n",
      "  label 8: 200\n",
      "  label 9: 200\n",
      "  label 10: 200\n",
      "  label 11: 200\n",
      "  label 12: 200\n",
      "  label 13: 200\n",
      "  label 14: 200\n",
      "  label 15: 200\n",
      "  label 16: 200\n",
      "  label 17: 200\n",
      "  label 18: 200\n",
      "  label 19: 200\n",
      "  label 20: 200\n",
      "  label 21: 200\n",
      "  label 22: 200\n",
      "  label 23: 200\n",
      "  label 24: 200\n",
      "  label 25: 200\n",
      "  label 26: 200\n",
      "  label 27: 200\n",
      "  label 28: 200\n",
      "  label 29: 200\n",
      "  label 30: 200\n",
      "  label 31: 200\n",
      "  label 32: 200\n",
      "  label 33: 200\n",
      "  label 34: 200\n",
      "  label 35: 200\n",
      "  label 36: 200\n",
      "  label 37: 200\n",
      "  label 38: 200\n",
      "  label 39: 200\n",
      "  label 40: 200\n",
      "  label 41: 200\n",
      "  label 42: 200\n",
      "  label 43: 200\n",
      "  label 44: 200\n",
      "  label 45: 242\n",
      "  label 46: 200\n",
      "  label 47: 200\n",
      "model is microsoft/deberta-base\n"
     ]
    },
    {
     "name": "stderr",
     "output_type": "stream",
     "text": [
      "Some weights of DebertaForSequenceClassification were not initialized from the model checkpoint at microsoft/deberta-base and are newly initialized: ['classifier.bias', 'classifier.weight', 'pooler.dense.bias', 'pooler.dense.weight']\n",
      "You should probably TRAIN this model on a down-stream task to be able to use it for predictions and inference.\n"
     ]
    },
    {
     "name": "stdout",
     "output_type": "stream",
     "text": [
      "Epoch 1/20\n"
     ]
    },
    {
     "name": "stderr",
     "output_type": "stream",
     "text": [
      "100%|██████████| 745/745 [01:22<00:00,  9.00it/s]\n"
     ]
    },
    {
     "name": "stdout",
     "output_type": "stream",
     "text": [
      "{'val_loss': 1.5604538837584054, 'val_accuracy': 0.5850495804729214, 'precision': 0.5901321735086531, 'recall': 0.5850495804729214, 'f1-score': 0.5521070417465418, 'macro_f1-score': 0.288445273296466, 'balanced_accuracy': 0.3200035116981988, 'mcc': 0.42867567365575365, 'train_loss': 2.4814320354653683}\n",
      "Epoch 2/20\n"
     ]
    },
    {
     "name": "stderr",
     "output_type": "stream",
     "text": [
      "100%|██████████| 745/745 [01:22<00:00,  8.99it/s]\n"
     ]
    },
    {
     "name": "stdout",
     "output_type": "stream",
     "text": [
      "{'val_loss': 1.470056448767825, 'val_accuracy': 0.6262395118230358, 'precision': 0.6327330635966755, 'recall': 0.6262395118230358, 'f1-score': 0.6208537400782838, 'macro_f1-score': 0.3837037651943051, 'balanced_accuracy': 0.4040049217695545, 'mcc': 0.5068880686021531, 'train_loss': 0.8322288137554322}\n",
      "Epoch 3/20\n"
     ]
    },
    {
     "name": "stderr",
     "output_type": "stream",
     "text": [
      "100%|██████████| 745/745 [01:20<00:00,  9.24it/s]\n"
     ]
    },
    {
     "name": "stdout",
     "output_type": "stream",
     "text": [
      "{'val_loss': 1.5879784927862446, 'val_accuracy': 0.627765064836003, 'precision': 0.634882969883444, 'recall': 0.627765064836003, 'f1-score': 0.6205844007444845, 'macro_f1-score': 0.37404260494620606, 'balanced_accuracy': 0.38690175318665965, 'mcc': 0.5117706011884958, 'train_loss': 0.38403894704260283}\n",
      "Epoch 4/20\n"
     ]
    },
    {
     "name": "stderr",
     "output_type": "stream",
     "text": [
      "100%|██████████| 745/745 [01:25<00:00,  8.67it/s]\n"
     ]
    },
    {
     "name": "stdout",
     "output_type": "stream",
     "text": [
      "{'val_loss': 1.6418231722058318, 'val_accuracy': 0.6491228070175439, 'precision': 0.636909393839709, 'recall': 0.6491228070175439, 'f1-score': 0.6331562275362551, 'macro_f1-score': 0.37318356480060305, 'balanced_accuracy': 0.3554885318163694, 'mcc': 0.5321017864093794, 'train_loss': 0.22556986179852845}\n",
      "Epoch 5/20\n"
     ]
    },
    {
     "name": "stderr",
     "output_type": "stream",
     "text": [
      "100%|██████████| 745/745 [01:24<00:00,  8.85it/s]\n"
     ]
    },
    {
     "name": "stdout",
     "output_type": "stream",
     "text": [
      "{'val_loss': 1.8483110969749892, 'val_accuracy': 0.6323417238749046, 'precision': 0.6357603056927473, 'recall': 0.6323417238749046, 'f1-score': 0.6238693895927666, 'macro_f1-score': 0.3804304607916748, 'balanced_accuracy': 0.3747527378341513, 'mcc': 0.5103705994350577, 'train_loss': 0.16033511922488478}\n",
      "Early stopping.\n",
      "\n",
      " === microsoft/deberta-base + plain + word2vec Final 5-fold Cross-Validation Results ===\n",
      "val_loss: 2.0934\n",
      "val_accuracy: 0.5851\n",
      "precision: 0.5507\n",
      "recall: 0.5851\n",
      "f1-score: 0.5500\n",
      "macro_f1-score: 0.3167\n",
      "balanced_accuracy: 0.3329\n",
      "mcc: 0.4015\n",
      "train_loss: 0.9746\n",
      "total_seconds: 3167.0000\n",
      "total_time: 0 hrs 52 mins 47 secs\n",
      "▶ Running: microsoft/deberta-base + cnn + word2vec\n",
      "tokenizer is microsoft/deberta-base\n",
      "Using device: cuda\n",
      "CUDA Available: True\n",
      "CUDA Device: NVIDIA GeForce RTX 5070 Ti\n",
      "Current GPU Memory Allocated: 0.02 GB\n",
      "Current GPU Memory Cached: 5.14 GB\n",
      "\n",
      "[Fold 1]\n",
      "🚀 Using Word2Vec for data augmentation\n",
      "🔧 Augmenting label 1: 21 → 200 (+179)\n",
      "🔧 Augmenting label 2: 64 → 200 (+136)\n",
      "🔧 Augmenting label 3: 24 → 200 (+176)\n",
      "🔧 Augmenting label 4: 191 → 200 (+9)\n",
      "🔧 Augmenting label 5: 113 → 200 (+87)\n",
      "🔧 Augmenting label 6: 93 → 200 (+107)\n",
      "🔧 Augmenting label 7: 30 → 200 (+170)\n",
      "🔧 Augmenting label 8: 68 → 200 (+132)\n",
      "🔧 Augmenting label 9: 30 → 200 (+170)\n",
      "🔧 Augmenting label 10: 67 → 200 (+133)\n",
      "🔧 Augmenting label 11: 169 → 200 (+31)\n",
      "🔧 Augmenting label 12: 189 → 200 (+11)\n",
      "🔧 Augmenting label 13: 29 → 200 (+171)\n",
      "🔧 Augmenting label 14: 22 → 200 (+178)\n",
      "🔧 Augmenting label 15: 25 → 200 (+175)\n",
      "🔧 Augmenting label 16: 19 → 200 (+181)\n",
      "🔧 Augmenting label 17: 183 → 200 (+17)\n",
      "🔧 Augmenting label 18: 92 → 200 (+108)\n",
      "🔧 Augmenting label 19: 44 → 200 (+156)\n",
      "🔧 Augmenting label 20: 13 → 200 (+187)\n",
      "🔧 Augmenting label 21: 35 → 200 (+165)\n",
      "🔧 Augmenting label 22: 76 → 200 (+124)\n",
      "🔧 Augmenting label 23: 158 → 200 (+42)\n",
      "🔧 Augmenting label 24: 13 → 200 (+187)\n",
      "🔧 Augmenting label 25: 44 → 200 (+156)\n",
      "🔧 Augmenting label 26: 84 → 200 (+116)\n",
      "🔧 Augmenting label 27: 48 → 200 (+152)\n",
      "🔧 Augmenting label 28: 11 → 200 (+189)\n",
      "🔧 Augmenting label 29: 13 → 200 (+187)\n",
      "🔧 Augmenting label 30: 11 → 200 (+189)\n",
      "🔧 Augmenting label 31: 75 → 200 (+125)\n",
      "🔧 Augmenting label 32: 36 → 200 (+164)\n",
      "🔧 Augmenting label 33: 32 → 200 (+168)\n",
      "🔧 Augmenting label 34: 29 → 200 (+171)\n",
      "🔧 Augmenting label 35: 11 → 200 (+189)\n",
      "🔧 Augmenting label 36: 22 → 200 (+178)\n",
      "🔧 Augmenting label 37: 16 → 200 (+184)\n",
      "🔧 Augmenting label 38: 33 → 200 (+167)\n",
      "🔧 Augmenting label 39: 10 → 200 (+190)\n",
      "🔧 Augmenting label 40: 9 → 200 (+191)\n",
      "🔧 Augmenting label 41: 57 → 200 (+143)\n",
      "🔧 Augmenting label 42: 19 → 200 (+181)\n",
      "🔧 Augmenting label 43: 8 → 200 (+192)\n",
      "🔧 Augmenting label 44: 54 → 200 (+146)\n",
      "🔧 Augmenting label 46: 61 → 200 (+139)\n",
      "🔧 Augmenting label 47: 80 → 200 (+120)\n",
      "Label distribution after resampling:\n",
      "  label 0: 2471\n",
      "  label 1: 200\n",
      "  label 2: 200\n",
      "  label 3: 200\n",
      "  label 4: 200\n",
      "  label 5: 200\n",
      "  label 6: 200\n",
      "  label 7: 200\n",
      "  label 8: 200\n",
      "  label 9: 200\n",
      "  label 10: 200\n",
      "  label 11: 200\n",
      "  label 12: 200\n",
      "  label 13: 200\n",
      "  label 14: 200\n",
      "  label 15: 200\n",
      "  label 16: 200\n",
      "  label 17: 200\n",
      "  label 18: 200\n",
      "  label 19: 200\n",
      "  label 20: 200\n",
      "  label 21: 200\n",
      "  label 22: 200\n",
      "  label 23: 200\n",
      "  label 24: 200\n",
      "  label 25: 200\n",
      "  label 26: 200\n",
      "  label 27: 200\n",
      "  label 28: 200\n",
      "  label 29: 200\n",
      "  label 30: 200\n",
      "  label 31: 200\n",
      "  label 32: 200\n",
      "  label 33: 200\n",
      "  label 34: 200\n",
      "  label 35: 200\n",
      "  label 36: 200\n",
      "  label 37: 200\n",
      "  label 38: 200\n",
      "  label 39: 200\n",
      "  label 40: 200\n",
      "  label 41: 200\n",
      "  label 42: 200\n",
      "  label 43: 200\n",
      "  label 44: 200\n",
      "  label 45: 242\n",
      "  label 46: 200\n",
      "  label 47: 200\n",
      "model is microsoft/deberta-base cnn\n",
      "Epoch 1/20\n"
     ]
    },
    {
     "name": "stderr",
     "output_type": "stream",
     "text": [
      "100%|██████████| 745/745 [01:23<00:00,  8.90it/s]\n"
     ]
    },
    {
     "name": "stdout",
     "output_type": "stream",
     "text": [
      "{'val_loss': 1.8478203426773956, 'val_accuracy': 0.49847560975609756, 'precision': 0.5208338391334745, 'recall': 0.49847560975609756, 'f1-score': 0.47000483807800947, 'macro_f1-score': 0.21955329274334281, 'balanced_accuracy': 0.2770162948481089, 'mcc': 0.3234643364879103, 'train_loss': 2.961983809055098}\n",
      "Epoch 2/20\n"
     ]
    },
    {
     "name": "stderr",
     "output_type": "stream",
     "text": [
      "100%|██████████| 745/745 [01:27<00:00,  8.50it/s]\n"
     ]
    },
    {
     "name": "stdout",
     "output_type": "stream",
     "text": [
      "{'val_loss': 1.6410611282761505, 'val_accuracy': 0.5464939024390244, 'precision': 0.5731684334019804, 'recall': 0.5464939024390244, 'f1-score': 0.5347024726354476, 'macro_f1-score': 0.2898269013738641, 'balanced_accuracy': 0.3277523712408407, 'mcc': 0.3908508115260981, 'train_loss': 1.4869477639262307}\n",
      "Epoch 3/20\n"
     ]
    },
    {
     "name": "stderr",
     "output_type": "stream",
     "text": [
      "100%|██████████| 745/745 [01:26<00:00,  8.63it/s]\n"
     ]
    },
    {
     "name": "stdout",
     "output_type": "stream",
     "text": [
      "{'val_loss': 1.5887371196252544, 'val_accuracy': 0.625, 'precision': 0.6125221253167683, 'recall': 0.625, 'f1-score': 0.6039508169180156, 'macro_f1-score': 0.36878687418213424, 'balanced_accuracy': 0.3686054696411472, 'mcc': 0.48839025246426443, 'train_loss': 0.8086310764687173}\n",
      "Epoch 4/20\n"
     ]
    },
    {
     "name": "stderr",
     "output_type": "stream",
     "text": [
      "100%|██████████| 745/745 [01:25<00:00,  8.73it/s]\n"
     ]
    },
    {
     "name": "stdout",
     "output_type": "stream",
     "text": [
      "{'val_loss': 1.6850337251657392, 'val_accuracy': 0.604420731707317, 'precision': 0.6128710105490259, 'recall': 0.604420731707317, 'f1-score': 0.5959893476432214, 'macro_f1-score': 0.3763961000662636, 'balanced_accuracy': 0.3902398984274141, 'mcc': 0.47395317303834433, 'train_loss': 0.5014591586869835}\n",
      "Epoch 5/20\n"
     ]
    },
    {
     "name": "stderr",
     "output_type": "stream",
     "text": [
      "100%|██████████| 745/745 [01:23<00:00,  8.95it/s]\n"
     ]
    },
    {
     "name": "stdout",
     "output_type": "stream",
     "text": [
      "{'val_loss': 1.7873961758322832, 'val_accuracy': 0.6242378048780488, 'precision': 0.6210203812582672, 'recall': 0.6242378048780488, 'f1-score': 0.6130854385557687, 'macro_f1-score': 0.3842126856488126, 'balanced_accuracy': 0.4045073917836132, 'mcc': 0.4992061205152234, 'train_loss': 0.3537696909559453}\n",
      "Epoch 6/20\n"
     ]
    },
    {
     "name": "stderr",
     "output_type": "stream",
     "text": [
      "100%|██████████| 745/745 [01:24<00:00,  8.84it/s]\n"
     ]
    },
    {
     "name": "stdout",
     "output_type": "stream",
     "text": [
      "{'val_loss': 1.8077168606403398, 'val_accuracy': 0.6349085365853658, 'precision': 0.6390622480684096, 'recall': 0.6349085365853658, 'f1-score': 0.6279984776004858, 'macro_f1-score': 0.4004803253860307, 'balanced_accuracy': 0.40744240858018377, 'mcc': 0.517118906202112, 'train_loss': 0.2642705490025098}\n",
      "Epoch 7/20\n"
     ]
    },
    {
     "name": "stderr",
     "output_type": "stream",
     "text": [
      "100%|██████████| 745/745 [01:24<00:00,  8.82it/s]\n"
     ]
    },
    {
     "name": "stdout",
     "output_type": "stream",
     "text": [
      "{'val_loss': 2.0808135209287086, 'val_accuracy': 0.6150914634146342, 'precision': 0.5894870354104101, 'recall': 0.6150914634146342, 'f1-score': 0.5844138170224809, 'macro_f1-score': 0.35955939861473674, 'balanced_accuracy': 0.3550644659582087, 'mcc': 0.4710712651382985, 'train_loss': 0.19443521027346986}\n",
      "Epoch 8/20\n"
     ]
    },
    {
     "name": "stderr",
     "output_type": "stream",
     "text": [
      "100%|██████████| 745/745 [01:25<00:00,  8.73it/s]\n"
     ]
    },
    {
     "name": "stdout",
     "output_type": "stream",
     "text": [
      "{'val_loss': 2.062593690505842, 'val_accuracy': 0.6364329268292683, 'precision': 0.6172453764756969, 'recall': 0.6364329268292683, 'f1-score': 0.6171101121942683, 'macro_f1-score': 0.41011998787757475, 'balanced_accuracy': 0.39396163855645233, 'mcc': 0.5068130379829999, 'train_loss': 0.15968974387091928}\n",
      "Epoch 9/20\n"
     ]
    },
    {
     "name": "stderr",
     "output_type": "stream",
     "text": [
      "100%|██████████| 745/745 [01:25<00:00,  8.76it/s]\n"
     ]
    },
    {
     "name": "stdout",
     "output_type": "stream",
     "text": [
      "{'val_loss': 2.220321214780575, 'val_accuracy': 0.6021341463414634, 'precision': 0.6269898478136153, 'recall': 0.6021341463414634, 'f1-score': 0.6055232178177155, 'macro_f1-score': 0.38613113719196757, 'balanced_accuracy': 0.41850965521197625, 'mcc': 0.4894478270983075, 'train_loss': 0.14454478213513558}\n",
      "Epoch 10/20\n"
     ]
    },
    {
     "name": "stderr",
     "output_type": "stream",
     "text": [
      "100%|██████████| 745/745 [01:24<00:00,  8.79it/s]\n"
     ]
    },
    {
     "name": "stdout",
     "output_type": "stream",
     "text": [
      "{'val_loss': 2.210887142797796, 'val_accuracy': 0.6204268292682927, 'precision': 0.6263535852136374, 'recall': 0.6204268292682927, 'f1-score': 0.6136590991439602, 'macro_f1-score': 0.3931112883398266, 'balanced_accuracy': 0.4087297413885687, 'mcc': 0.5036818035467907, 'train_loss': 0.12328613096529355}\n",
      "Epoch 11/20\n"
     ]
    },
    {
     "name": "stderr",
     "output_type": "stream",
     "text": [
      "100%|██████████| 745/745 [01:24<00:00,  8.81it/s]\n"
     ]
    },
    {
     "name": "stdout",
     "output_type": "stream",
     "text": [
      "{'val_loss': 2.455361559623625, 'val_accuracy': 0.6295731707317073, 'precision': 0.6261866088336591, 'recall': 0.6295731707317073, 'f1-score': 0.616805326685177, 'macro_f1-score': 0.3967065885489552, 'balanced_accuracy': 0.39093656117041364, 'mcc': 0.5006787357066113, 'train_loss': 0.10669954994790282}\n",
      "Early stopping.\n",
      "\n",
      "[Fold 2]\n",
      "🚀 Using Word2Vec for data augmentation\n",
      "🔧 Augmenting label 1: 22 → 200 (+178)\n",
      "🔧 Augmenting label 2: 64 → 200 (+136)\n",
      "🔧 Augmenting label 3: 24 → 200 (+176)\n",
      "🔧 Augmenting label 4: 190 → 200 (+10)\n",
      "🔧 Augmenting label 5: 113 → 200 (+87)\n",
      "🔧 Augmenting label 6: 93 → 200 (+107)\n",
      "🔧 Augmenting label 7: 30 → 200 (+170)\n",
      "🔧 Augmenting label 8: 68 → 200 (+132)\n",
      "🔧 Augmenting label 9: 30 → 200 (+170)\n",
      "🔧 Augmenting label 10: 67 → 200 (+133)\n",
      "🔧 Augmenting label 11: 169 → 200 (+31)\n",
      "🔧 Augmenting label 12: 189 → 200 (+11)\n",
      "🔧 Augmenting label 13: 29 → 200 (+171)\n",
      "🔧 Augmenting label 14: 23 → 200 (+177)\n",
      "🔧 Augmenting label 15: 24 → 200 (+176)\n",
      "🔧 Augmenting label 16: 20 → 200 (+180)\n",
      "🔧 Augmenting label 17: 182 → 200 (+18)\n",
      "🔧 Augmenting label 18: 92 → 200 (+108)\n",
      "🔧 Augmenting label 19: 44 → 200 (+156)\n",
      "🔧 Augmenting label 20: 13 → 200 (+187)\n",
      "🔧 Augmenting label 21: 36 → 200 (+164)\n",
      "🔧 Augmenting label 22: 76 → 200 (+124)\n",
      "🔧 Augmenting label 23: 157 → 200 (+43)\n",
      "🔧 Augmenting label 24: 12 → 200 (+188)\n",
      "🔧 Augmenting label 25: 44 → 200 (+156)\n",
      "🔧 Augmenting label 26: 84 → 200 (+116)\n",
      "🔧 Augmenting label 27: 48 → 200 (+152)\n",
      "🔧 Augmenting label 28: 12 → 200 (+188)\n",
      "🔧 Augmenting label 29: 12 → 200 (+188)\n",
      "🔧 Augmenting label 30: 12 → 200 (+188)\n",
      "🔧 Augmenting label 31: 75 → 200 (+125)\n",
      "🔧 Augmenting label 32: 36 → 200 (+164)\n",
      "🔧 Augmenting label 33: 31 → 200 (+169)\n",
      "🔧 Augmenting label 34: 29 → 200 (+171)\n",
      "🔧 Augmenting label 35: 12 → 200 (+188)\n",
      "🔧 Augmenting label 36: 21 → 200 (+179)\n",
      "🔧 Augmenting label 37: 16 → 200 (+184)\n",
      "🔧 Augmenting label 38: 33 → 200 (+167)\n",
      "🔧 Augmenting label 39: 11 → 200 (+189)\n",
      "🔧 Augmenting label 40: 8 → 200 (+192)\n",
      "🔧 Augmenting label 41: 57 → 200 (+143)\n",
      "🔧 Augmenting label 42: 19 → 200 (+181)\n",
      "🔧 Augmenting label 43: 9 → 200 (+191)\n",
      "🔧 Augmenting label 44: 54 → 200 (+146)\n",
      "🔧 Augmenting label 46: 62 → 200 (+138)\n",
      "🔧 Augmenting label 47: 80 → 200 (+120)\n",
      "Label distribution after resampling:\n",
      "  label 0: 2471\n",
      "  label 1: 200\n",
      "  label 2: 200\n",
      "  label 3: 200\n",
      "  label 4: 200\n",
      "  label 5: 200\n",
      "  label 6: 200\n",
      "  label 7: 200\n",
      "  label 8: 200\n",
      "  label 9: 200\n",
      "  label 10: 200\n",
      "  label 11: 200\n",
      "  label 12: 200\n",
      "  label 13: 200\n",
      "  label 14: 200\n",
      "  label 15: 200\n",
      "  label 16: 200\n",
      "  label 17: 200\n",
      "  label 18: 200\n",
      "  label 19: 200\n",
      "  label 20: 200\n",
      "  label 21: 200\n",
      "  label 22: 200\n",
      "  label 23: 200\n",
      "  label 24: 200\n",
      "  label 25: 200\n",
      "  label 26: 200\n",
      "  label 27: 200\n",
      "  label 28: 200\n",
      "  label 29: 200\n",
      "  label 30: 200\n",
      "  label 31: 200\n",
      "  label 32: 200\n",
      "  label 33: 200\n",
      "  label 34: 200\n",
      "  label 35: 200\n",
      "  label 36: 200\n",
      "  label 37: 200\n",
      "  label 38: 200\n",
      "  label 39: 200\n",
      "  label 40: 200\n",
      "  label 41: 200\n",
      "  label 42: 200\n",
      "  label 43: 200\n",
      "  label 44: 200\n",
      "  label 45: 242\n",
      "  label 46: 200\n",
      "  label 47: 200\n",
      "model is microsoft/deberta-base cnn\n",
      "Epoch 1/20\n"
     ]
    },
    {
     "name": "stderr",
     "output_type": "stream",
     "text": [
      "100%|██████████| 745/745 [01:24<00:00,  8.80it/s]\n"
     ]
    },
    {
     "name": "stdout",
     "output_type": "stream",
     "text": [
      "{'val_loss': 3.321716797061083, 'val_accuracy': 0.47139588100686497, 'precision': 0.2222140766302384, 'recall': 0.47139588100686497, 'f1-score': 0.302045261236125, 'macro_f1-score': 0.01334888543286677, 'balanced_accuracy': 0.020833333333333332, 'mcc': 0.0, 'train_loss': 3.2143776127155994}\n",
      "Epoch 2/20\n"
     ]
    },
    {
     "name": "stderr",
     "output_type": "stream",
     "text": [
      "100%|██████████| 745/745 [01:26<00:00,  8.58it/s]\n"
     ]
    },
    {
     "name": "stdout",
     "output_type": "stream",
     "text": [
      "{'val_loss': 3.253735495776665, 'val_accuracy': 0.47139588100686497, 'precision': 0.2222140766302384, 'recall': 0.47139588100686497, 'f1-score': 0.302045261236125, 'macro_f1-score': 0.01334888543286677, 'balanced_accuracy': 0.020833333333333332, 'mcc': 0.0, 'train_loss': 3.5836311173919064}\n",
      "Epoch 3/20\n"
     ]
    },
    {
     "name": "stderr",
     "output_type": "stream",
     "text": [
      "100%|██████████| 745/745 [01:23<00:00,  8.93it/s]\n"
     ]
    },
    {
     "name": "stdout",
     "output_type": "stream",
     "text": [
      "{'val_loss': 3.224260298217215, 'val_accuracy': 0.47139588100686497, 'precision': 0.2222140766302384, 'recall': 0.47139588100686497, 'f1-score': 0.302045261236125, 'macro_f1-score': 0.01334888543286677, 'balanced_accuracy': 0.020833333333333332, 'mcc': 0.0, 'train_loss': 3.577959862331416}\n",
      "Epoch 4/20\n"
     ]
    },
    {
     "name": "stderr",
     "output_type": "stream",
     "text": [
      "100%|██████████| 745/745 [01:22<00:00,  8.98it/s]\n"
     ]
    },
    {
     "name": "stdout",
     "output_type": "stream",
     "text": [
      "{'val_loss': 3.216820981444382, 'val_accuracy': 0.47139588100686497, 'precision': 0.2222140766302384, 'recall': 0.47139588100686497, 'f1-score': 0.302045261236125, 'macro_f1-score': 0.01334888543286677, 'balanced_accuracy': 0.020833333333333332, 'mcc': 0.0, 'train_loss': 3.5780458872750303}\n",
      "Early stopping.\n",
      "\n",
      "[Fold 3]\n",
      "🚀 Using Word2Vec for data augmentation\n",
      "🔧 Augmenting label 1: 22 → 200 (+178)\n",
      "🔧 Augmenting label 2: 64 → 200 (+136)\n",
      "🔧 Augmenting label 3: 24 → 200 (+176)\n",
      "🔧 Augmenting label 4: 190 → 200 (+10)\n",
      "🔧 Augmenting label 5: 113 → 200 (+87)\n",
      "🔧 Augmenting label 6: 93 → 200 (+107)\n",
      "🔧 Augmenting label 7: 30 → 200 (+170)\n",
      "🔧 Augmenting label 8: 68 → 200 (+132)\n",
      "🔧 Augmenting label 9: 30 → 200 (+170)\n",
      "🔧 Augmenting label 10: 67 → 200 (+133)\n",
      "🔧 Augmenting label 11: 169 → 200 (+31)\n",
      "🔧 Augmenting label 12: 190 → 200 (+10)\n",
      "🔧 Augmenting label 13: 28 → 200 (+172)\n",
      "🔧 Augmenting label 14: 23 → 200 (+177)\n",
      "🔧 Augmenting label 15: 25 → 200 (+175)\n",
      "🔧 Augmenting label 16: 19 → 200 (+181)\n",
      "🔧 Augmenting label 17: 182 → 200 (+18)\n",
      "🔧 Augmenting label 18: 92 → 200 (+108)\n",
      "🔧 Augmenting label 19: 44 → 200 (+156)\n",
      "🔧 Augmenting label 20: 14 → 200 (+186)\n",
      "🔧 Augmenting label 21: 35 → 200 (+165)\n",
      "🔧 Augmenting label 22: 76 → 200 (+124)\n",
      "🔧 Augmenting label 23: 157 → 200 (+43)\n",
      "🔧 Augmenting label 24: 13 → 200 (+187)\n",
      "🔧 Augmenting label 25: 44 → 200 (+156)\n",
      "🔧 Augmenting label 26: 84 → 200 (+116)\n",
      "🔧 Augmenting label 27: 48 → 200 (+152)\n",
      "🔧 Augmenting label 28: 11 → 200 (+189)\n",
      "🔧 Augmenting label 29: 13 → 200 (+187)\n",
      "🔧 Augmenting label 30: 11 → 200 (+189)\n",
      "🔧 Augmenting label 31: 76 → 200 (+124)\n",
      "🔧 Augmenting label 32: 36 → 200 (+164)\n",
      "🔧 Augmenting label 33: 31 → 200 (+169)\n",
      "🔧 Augmenting label 34: 30 → 200 (+170)\n",
      "🔧 Augmenting label 35: 11 → 200 (+189)\n",
      "🔧 Augmenting label 36: 21 → 200 (+179)\n",
      "🔧 Augmenting label 37: 16 → 200 (+184)\n",
      "🔧 Augmenting label 38: 32 → 200 (+168)\n",
      "🔧 Augmenting label 39: 11 → 200 (+189)\n",
      "🔧 Augmenting label 40: 9 → 200 (+191)\n",
      "🔧 Augmenting label 41: 57 → 200 (+143)\n",
      "🔧 Augmenting label 42: 18 → 200 (+182)\n",
      "🔧 Augmenting label 43: 9 → 200 (+191)\n",
      "🔧 Augmenting label 44: 55 → 200 (+145)\n",
      "🔧 Augmenting label 46: 62 → 200 (+138)\n",
      "🔧 Augmenting label 47: 80 → 200 (+120)\n",
      "Label distribution after resampling:\n",
      "  label 0: 2471\n",
      "  label 1: 200\n",
      "  label 2: 200\n",
      "  label 3: 200\n",
      "  label 4: 200\n",
      "  label 5: 200\n",
      "  label 6: 200\n",
      "  label 7: 200\n",
      "  label 8: 200\n",
      "  label 9: 200\n",
      "  label 10: 200\n",
      "  label 11: 200\n",
      "  label 12: 200\n",
      "  label 13: 200\n",
      "  label 14: 200\n",
      "  label 15: 200\n",
      "  label 16: 200\n",
      "  label 17: 200\n",
      "  label 18: 200\n",
      "  label 19: 200\n",
      "  label 20: 200\n",
      "  label 21: 200\n",
      "  label 22: 200\n",
      "  label 23: 200\n",
      "  label 24: 200\n",
      "  label 25: 200\n",
      "  label 26: 200\n",
      "  label 27: 200\n",
      "  label 28: 200\n",
      "  label 29: 200\n",
      "  label 30: 200\n",
      "  label 31: 200\n",
      "  label 32: 200\n",
      "  label 33: 200\n",
      "  label 34: 200\n",
      "  label 35: 200\n",
      "  label 36: 200\n",
      "  label 37: 200\n",
      "  label 38: 200\n",
      "  label 39: 200\n",
      "  label 40: 200\n",
      "  label 41: 200\n",
      "  label 42: 200\n",
      "  label 43: 200\n",
      "  label 44: 200\n",
      "  label 45: 241\n",
      "  label 46: 200\n",
      "  label 47: 200\n",
      "model is microsoft/deberta-base cnn\n",
      "Epoch 1/20\n"
     ]
    },
    {
     "name": "stderr",
     "output_type": "stream",
     "text": [
      "100%|██████████| 745/745 [01:23<00:00,  8.92it/s]\n"
     ]
    },
    {
     "name": "stdout",
     "output_type": "stream",
     "text": [
      "{'val_loss': 1.9270496361139344, 'val_accuracy': 0.5141113653699466, 'precision': 0.4340226258994121, 'recall': 0.5141113653699466, 'f1-score': 0.4411848973833582, 'macro_f1-score': 0.13841752087445722, 'balanced_accuracy': 0.1712112498628858, 'mcc': 0.29676121255305665, 'train_loss': 3.05855179169034}\n",
      "Epoch 2/20\n"
     ]
    },
    {
     "name": "stderr",
     "output_type": "stream",
     "text": [
      "100%|██████████| 745/745 [01:24<00:00,  8.87it/s]\n"
     ]
    },
    {
     "name": "stdout",
     "output_type": "stream",
     "text": [
      "{'val_loss': 1.8363344469448415, 'val_accuracy': 0.5072463768115942, 'precision': 0.5736679392313856, 'recall': 0.5072463768115942, 'f1-score': 0.5160084320755339, 'macro_f1-score': 0.28904410740773434, 'balanced_accuracy': 0.3446227544535216, 'mcc': 0.37509056050819073, 'train_loss': 1.4767661387088316}\n",
      "Epoch 3/20\n"
     ]
    },
    {
     "name": "stderr",
     "output_type": "stream",
     "text": [
      "100%|██████████| 745/745 [01:23<00:00,  8.95it/s]\n"
     ]
    },
    {
     "name": "stdout",
     "output_type": "stream",
     "text": [
      "{'val_loss': 1.8067796437478647, 'val_accuracy': 0.5652173913043478, 'precision': 0.5663458666096718, 'recall': 0.5652173913043478, 'f1-score': 0.5496089478611155, 'macro_f1-score': 0.28320780600619505, 'balanced_accuracy': 0.2963925257051673, 'mcc': 0.4171403429290106, 'train_loss': 0.7635312140888015}\n",
      "Epoch 4/20\n"
     ]
    },
    {
     "name": "stderr",
     "output_type": "stream",
     "text": [
      "100%|██████████| 745/745 [01:21<00:00,  9.14it/s]\n"
     ]
    },
    {
     "name": "stdout",
     "output_type": "stream",
     "text": [
      "{'val_loss': 1.815047891765106, 'val_accuracy': 0.6064073226544623, 'precision': 0.6019478975041402, 'recall': 0.6064073226544623, 'f1-score': 0.5840113151895798, 'macro_f1-score': 0.317818938667848, 'balanced_accuracy': 0.30088735562835117, 'mcc': 0.4646596584741445, 'train_loss': 0.45098699163770517}\n",
      "Epoch 5/20\n"
     ]
    },
    {
     "name": "stderr",
     "output_type": "stream",
     "text": [
      "100%|██████████| 745/745 [01:25<00:00,  8.72it/s]\n"
     ]
    },
    {
     "name": "stdout",
     "output_type": "stream",
     "text": [
      "{'val_loss': 1.8936109012219964, 'val_accuracy': 0.6071700991609459, 'precision': 0.614163181744766, 'recall': 0.6071700991609459, 'f1-score': 0.6026390242702541, 'macro_f1-score': 0.3798674636965929, 'balanced_accuracy': 0.37133580797519733, 'mcc': 0.49168309655945047, 'train_loss': 0.3099182807184106}\n",
      "Epoch 6/20\n"
     ]
    },
    {
     "name": "stderr",
     "output_type": "stream",
     "text": [
      "100%|██████████| 745/745 [01:26<00:00,  8.61it/s]\n"
     ]
    },
    {
     "name": "stdout",
     "output_type": "stream",
     "text": [
      "{'val_loss': 2.1568232640260603, 'val_accuracy': 0.5942028985507246, 'precision': 0.6013842739983617, 'recall': 0.5942028985507246, 'f1-score': 0.5907754081223582, 'macro_f1-score': 0.3604020114861462, 'balanced_accuracy': 0.36270861047454406, 'mcc': 0.46733804616151875, 'train_loss': 0.21456725375926836}\n",
      "Epoch 7/20\n"
     ]
    },
    {
     "name": "stderr",
     "output_type": "stream",
     "text": [
      "100%|██████████| 745/745 [01:24<00:00,  8.80it/s]\n"
     ]
    },
    {
     "name": "stdout",
     "output_type": "stream",
     "text": [
      "{'val_loss': 2.1045895244290187, 'val_accuracy': 0.5827612509534706, 'precision': 0.5949570900405249, 'recall': 0.5827612509534706, 'f1-score': 0.5742654595474366, 'macro_f1-score': 0.35078253328946546, 'balanced_accuracy': 0.3487272666484656, 'mcc': 0.4503702318087779, 'train_loss': 0.1991658209244902}\n",
      "Epoch 8/20\n"
     ]
    },
    {
     "name": "stderr",
     "output_type": "stream",
     "text": [
      "100%|██████████| 745/745 [01:24<00:00,  8.80it/s]\n"
     ]
    },
    {
     "name": "stdout",
     "output_type": "stream",
     "text": [
      "{'val_loss': 2.289539140172121, 'val_accuracy': 0.6094584286803967, 'precision': 0.598812361896013, 'recall': 0.6094584286803967, 'f1-score': 0.5855044846138612, 'macro_f1-score': 0.3227943568852106, 'balanced_accuracy': 0.31022531605068016, 'mcc': 0.46573199784499014, 'train_loss': 0.16419594126547243}\n",
      "Early stopping.\n",
      "\n",
      "[Fold 4]\n",
      "🚀 Using Word2Vec for data augmentation\n",
      "🔧 Augmenting label 1: 22 → 200 (+178)\n",
      "🔧 Augmenting label 2: 64 → 200 (+136)\n",
      "🔧 Augmenting label 3: 24 → 200 (+176)\n",
      "🔧 Augmenting label 4: 190 → 200 (+10)\n",
      "🔧 Augmenting label 5: 113 → 200 (+87)\n",
      "🔧 Augmenting label 6: 93 → 200 (+107)\n",
      "🔧 Augmenting label 7: 31 → 200 (+169)\n",
      "🔧 Augmenting label 8: 68 → 200 (+132)\n",
      "🔧 Augmenting label 9: 29 → 200 (+171)\n",
      "🔧 Augmenting label 10: 67 → 200 (+133)\n",
      "🔧 Augmenting label 11: 169 → 200 (+31)\n",
      "🔧 Augmenting label 12: 190 → 200 (+10)\n",
      "🔧 Augmenting label 13: 29 → 200 (+171)\n",
      "🔧 Augmenting label 14: 22 → 200 (+178)\n",
      "🔧 Augmenting label 15: 25 → 200 (+175)\n",
      "🔧 Augmenting label 16: 19 → 200 (+181)\n",
      "🔧 Augmenting label 17: 182 → 200 (+18)\n",
      "🔧 Augmenting label 18: 92 → 200 (+108)\n",
      "🔧 Augmenting label 19: 44 → 200 (+156)\n",
      "🔧 Augmenting label 20: 14 → 200 (+186)\n",
      "🔧 Augmenting label 21: 35 → 200 (+165)\n",
      "🔧 Augmenting label 22: 76 → 200 (+124)\n",
      "🔧 Augmenting label 23: 158 → 200 (+42)\n",
      "🔧 Augmenting label 24: 13 → 200 (+187)\n",
      "🔧 Augmenting label 25: 44 → 200 (+156)\n",
      "🔧 Augmenting label 26: 84 → 200 (+116)\n",
      "🔧 Augmenting label 27: 48 → 200 (+152)\n",
      "🔧 Augmenting label 28: 11 → 200 (+189)\n",
      "🔧 Augmenting label 29: 13 → 200 (+187)\n",
      "🔧 Augmenting label 30: 11 → 200 (+189)\n",
      "🔧 Augmenting label 31: 75 → 200 (+125)\n",
      "🔧 Augmenting label 32: 36 → 200 (+164)\n",
      "🔧 Augmenting label 33: 31 → 200 (+169)\n",
      "🔧 Augmenting label 34: 30 → 200 (+170)\n",
      "🔧 Augmenting label 35: 11 → 200 (+189)\n",
      "🔧 Augmenting label 36: 22 → 200 (+178)\n",
      "🔧 Augmenting label 37: 16 → 200 (+184)\n",
      "🔧 Augmenting label 38: 33 → 200 (+167)\n",
      "🔧 Augmenting label 39: 10 → 200 (+190)\n",
      "🔧 Augmenting label 40: 9 → 200 (+191)\n",
      "🔧 Augmenting label 41: 56 → 200 (+144)\n",
      "🔧 Augmenting label 42: 18 → 200 (+182)\n",
      "🔧 Augmenting label 43: 9 → 200 (+191)\n",
      "🔧 Augmenting label 44: 55 → 200 (+145)\n",
      "🔧 Augmenting label 46: 62 → 200 (+138)\n",
      "🔧 Augmenting label 47: 80 → 200 (+120)\n",
      "Label distribution after resampling:\n",
      "  label 0: 2471\n",
      "  label 1: 200\n",
      "  label 2: 200\n",
      "  label 3: 200\n",
      "  label 4: 200\n",
      "  label 5: 200\n",
      "  label 6: 200\n",
      "  label 7: 200\n",
      "  label 8: 200\n",
      "  label 9: 200\n",
      "  label 10: 200\n",
      "  label 11: 200\n",
      "  label 12: 200\n",
      "  label 13: 200\n",
      "  label 14: 200\n",
      "  label 15: 200\n",
      "  label 16: 200\n",
      "  label 17: 200\n",
      "  label 18: 200\n",
      "  label 19: 200\n",
      "  label 20: 200\n",
      "  label 21: 200\n",
      "  label 22: 200\n",
      "  label 23: 200\n",
      "  label 24: 200\n",
      "  label 25: 200\n",
      "  label 26: 200\n",
      "  label 27: 200\n",
      "  label 28: 200\n",
      "  label 29: 200\n",
      "  label 30: 200\n",
      "  label 31: 200\n",
      "  label 32: 200\n",
      "  label 33: 200\n",
      "  label 34: 200\n",
      "  label 35: 200\n",
      "  label 36: 200\n",
      "  label 37: 200\n",
      "  label 38: 200\n",
      "  label 39: 200\n",
      "  label 40: 200\n",
      "  label 41: 200\n",
      "  label 42: 200\n",
      "  label 43: 200\n",
      "  label 44: 200\n",
      "  label 45: 241\n",
      "  label 46: 200\n",
      "  label 47: 200\n",
      "model is microsoft/deberta-base cnn\n",
      "Epoch 1/20\n"
     ]
    },
    {
     "name": "stderr",
     "output_type": "stream",
     "text": [
      "100%|██████████| 745/745 [01:25<00:00,  8.70it/s]\n"
     ]
    },
    {
     "name": "stdout",
     "output_type": "stream",
     "text": [
      "{'val_loss': 1.6579386839052526, 'val_accuracy': 0.5568268497330282, 'precision': 0.5798706044783605, 'recall': 0.5568268497330282, 'f1-score': 0.5188408359312856, 'macro_f1-score': 0.27755008305938617, 'balanced_accuracy': 0.32506358853542583, 'mcc': 0.3871635056706888, 'train_loss': 2.4671518708235465}\n",
      "Epoch 2/20\n"
     ]
    },
    {
     "name": "stderr",
     "output_type": "stream",
     "text": [
      "100%|██████████| 745/745 [01:26<00:00,  8.60it/s]\n"
     ]
    },
    {
     "name": "stdout",
     "output_type": "stream",
     "text": [
      "{'val_loss': 1.5223858142044486, 'val_accuracy': 0.5957284515636918, 'precision': 0.6061371216200885, 'recall': 0.5957284515636918, 'f1-score': 0.5800710373471203, 'macro_f1-score': 0.33643273984945504, 'balanced_accuracy': 0.3915818935685125, 'mcc': 0.46351587646862885, 'train_loss': 1.323121673668791}\n",
      "Epoch 3/20\n"
     ]
    },
    {
     "name": "stderr",
     "output_type": "stream",
     "text": [
      "100%|██████████| 745/745 [01:26<00:00,  8.65it/s]\n"
     ]
    },
    {
     "name": "stdout",
     "output_type": "stream",
     "text": [
      "{'val_loss': 1.50130997816237, 'val_accuracy': 0.620137299771167, 'precision': 0.6239056925160315, 'recall': 0.620137299771167, 'f1-score': 0.6074806378120331, 'macro_f1-score': 0.3772062947172017, 'balanced_accuracy': 0.3976709349936162, 'mcc': 0.49694225103726924, 'train_loss': 0.8355252226227082}\n",
      "Epoch 4/20\n"
     ]
    },
    {
     "name": "stderr",
     "output_type": "stream",
     "text": [
      "100%|██████████| 745/745 [01:24<00:00,  8.80it/s]\n"
     ]
    },
    {
     "name": "stdout",
     "output_type": "stream",
     "text": [
      "{'val_loss': 1.6622328180365447, 'val_accuracy': 0.5980167810831426, 'precision': 0.6302386917800917, 'recall': 0.5980167810831426, 'f1-score': 0.6009998986571251, 'macro_f1-score': 0.36973946031703736, 'balanced_accuracy': 0.418285977770791, 'mcc': 0.47958048832428407, 'train_loss': 0.5859762483345182}\n",
      "Epoch 5/20\n"
     ]
    },
    {
     "name": "stderr",
     "output_type": "stream",
     "text": [
      "100%|██████████| 745/745 [01:24<00:00,  8.80it/s]\n"
     ]
    },
    {
     "name": "stdout",
     "output_type": "stream",
     "text": [
      "{'val_loss': 1.7440249545545112, 'val_accuracy': 0.6155606407322655, 'precision': 0.6122617239885103, 'recall': 0.6155606407322655, 'f1-score': 0.5936897009096106, 'macro_f1-score': 0.3628875479632958, 'balanced_accuracy': 0.3811632891831591, 'mcc': 0.4759653251213196, 'train_loss': 0.39078128766143483}\n",
      "Epoch 6/20\n"
     ]
    },
    {
     "name": "stderr",
     "output_type": "stream",
     "text": [
      "100%|██████████| 745/745 [01:20<00:00,  9.21it/s]\n"
     ]
    },
    {
     "name": "stdout",
     "output_type": "stream",
     "text": [
      "{'val_loss': 1.8687332327046045, 'val_accuracy': 0.6292906178489702, 'precision': 0.6299274990387762, 'recall': 0.6292906178489702, 'f1-score': 0.6139246567824503, 'macro_f1-score': 0.3825935322865383, 'balanced_accuracy': 0.40463630021675595, 'mcc': 0.50846974271037, 'train_loss': 0.2957547034418223}\n",
      "Epoch 7/20\n"
     ]
    },
    {
     "name": "stderr",
     "output_type": "stream",
     "text": [
      "100%|██████████| 745/745 [01:19<00:00,  9.43it/s]\n"
     ]
    },
    {
     "name": "stdout",
     "output_type": "stream",
     "text": [
      "{'val_loss': 1.847176542869065, 'val_accuracy': 0.6422578184591915, 'precision': 0.6448125508549925, 'recall': 0.6422578184591915, 'f1-score': 0.6350567322349325, 'macro_f1-score': 0.40777988598279197, 'balanced_accuracy': 0.4128924833073004, 'mcc': 0.527541480977869, 'train_loss': 0.2281982257337178}\n",
      "Epoch 8/20\n"
     ]
    },
    {
     "name": "stderr",
     "output_type": "stream",
     "text": [
      "100%|██████████| 745/745 [01:21<00:00,  9.10it/s]\n"
     ]
    },
    {
     "name": "stdout",
     "output_type": "stream",
     "text": [
      "{'val_loss': 2.00233287673171, 'val_accuracy': 0.6292906178489702, 'precision': 0.6242574457261519, 'recall': 0.6292906178489702, 'f1-score': 0.6206969158418207, 'macro_f1-score': 0.395139974468, 'balanced_accuracy': 0.39808805876972714, 'mcc': 0.5069896268534433, 'train_loss': 0.24109358329875957}\n",
      "Epoch 9/20\n"
     ]
    },
    {
     "name": "stderr",
     "output_type": "stream",
     "text": [
      "100%|██████████| 745/745 [01:24<00:00,  8.79it/s]\n"
     ]
    },
    {
     "name": "stdout",
     "output_type": "stream",
     "text": [
      "{'val_loss': 2.1006948304612463, 'val_accuracy': 0.6407322654462243, 'precision': 0.6379040249031751, 'recall': 0.6407322654462243, 'f1-score': 0.6318332768086053, 'macro_f1-score': 0.39472586524902886, 'balanced_accuracy': 0.3978070695218067, 'mcc': 0.520177795715699, 'train_loss': 0.19342216236841858}\n",
      "Epoch 10/20\n"
     ]
    },
    {
     "name": "stderr",
     "output_type": "stream",
     "text": [
      "100%|██████████| 745/745 [01:23<00:00,  8.93it/s]\n"
     ]
    },
    {
     "name": "stdout",
     "output_type": "stream",
     "text": [
      "{'val_loss': 2.123404858315863, 'val_accuracy': 0.6468344774980931, 'precision': 0.6414962995137369, 'recall': 0.6468344774980931, 'f1-score': 0.6336553387882041, 'macro_f1-score': 0.4095301499738782, 'balanced_accuracy': 0.41136435317476144, 'mcc': 0.5267025962912829, 'train_loss': 0.19532757742211673}\n",
      "Epoch 11/20\n"
     ]
    },
    {
     "name": "stderr",
     "output_type": "stream",
     "text": [
      "100%|██████████| 745/745 [01:22<00:00,  9.06it/s]\n"
     ]
    },
    {
     "name": "stdout",
     "output_type": "stream",
     "text": [
      "{'val_loss': 2.3070312924683094, 'val_accuracy': 0.6125095347063311, 'precision': 0.6469396189265374, 'recall': 0.6125095347063311, 'f1-score': 0.6104982620329245, 'macro_f1-score': 0.38774513652895054, 'balanced_accuracy': 0.40530509649954655, 'mcc': 0.49890058905656626, 'train_loss': 0.13210210921414722}\n",
      "Epoch 12/20\n"
     ]
    },
    {
     "name": "stderr",
     "output_type": "stream",
     "text": [
      "100%|██████████| 745/745 [01:22<00:00,  9.08it/s]\n"
     ]
    },
    {
     "name": "stdout",
     "output_type": "stream",
     "text": [
      "{'val_loss': 2.2466483574088025, 'val_accuracy': 0.6064073226544623, 'precision': 0.6311565526419852, 'recall': 0.6064073226544623, 'f1-score': 0.6117118225738989, 'macro_f1-score': 0.38326189936554395, 'balanced_accuracy': 0.41608895185940686, 'mcc': 0.4952735177290837, 'train_loss': 0.39768683488352613}\n",
      "Epoch 13/20\n"
     ]
    },
    {
     "name": "stderr",
     "output_type": "stream",
     "text": [
      "100%|██████████| 745/745 [01:22<00:00,  9.07it/s]\n"
     ]
    },
    {
     "name": "stdout",
     "output_type": "stream",
     "text": [
      "{'val_loss': 2.4250667364132115, 'val_accuracy': 0.581998474446987, 'precision': 0.6146968742302655, 'recall': 0.581998474446987, 'f1-score': 0.582609113079089, 'macro_f1-score': 0.35189625933912083, 'balanced_accuracy': 0.3911377683246389, 'mcc': 0.464350444963762, 'train_loss': 0.13577247101988568}\n",
      "Early stopping.\n",
      "\n",
      "[Fold 5]\n",
      "🚀 Using Word2Vec for data augmentation\n",
      "🔧 Augmenting label 1: 21 → 200 (+179)\n",
      "🔧 Augmenting label 2: 64 → 200 (+136)\n",
      "🔧 Augmenting label 3: 24 → 200 (+176)\n",
      "🔧 Augmenting label 4: 191 → 200 (+9)\n",
      "🔧 Augmenting label 5: 112 → 200 (+88)\n",
      "🔧 Augmenting label 6: 92 → 200 (+108)\n",
      "🔧 Augmenting label 7: 31 → 200 (+169)\n",
      "🔧 Augmenting label 8: 68 → 200 (+132)\n",
      "🔧 Augmenting label 9: 29 → 200 (+171)\n",
      "🔧 Augmenting label 10: 68 → 200 (+132)\n",
      "🔧 Augmenting label 11: 168 → 200 (+32)\n",
      "🔧 Augmenting label 12: 190 → 200 (+10)\n",
      "🔧 Augmenting label 13: 29 → 200 (+171)\n",
      "🔧 Augmenting label 14: 22 → 200 (+178)\n",
      "🔧 Augmenting label 15: 25 → 200 (+175)\n",
      "🔧 Augmenting label 16: 19 → 200 (+181)\n",
      "🔧 Augmenting label 17: 183 → 200 (+17)\n",
      "🔧 Augmenting label 18: 92 → 200 (+108)\n",
      "🔧 Augmenting label 19: 44 → 200 (+156)\n",
      "🔧 Augmenting label 20: 14 → 200 (+186)\n",
      "🔧 Augmenting label 21: 35 → 200 (+165)\n",
      "🔧 Augmenting label 22: 76 → 200 (+124)\n",
      "🔧 Augmenting label 23: 158 → 200 (+42)\n",
      "🔧 Augmenting label 24: 13 → 200 (+187)\n",
      "🔧 Augmenting label 25: 44 → 200 (+156)\n",
      "🔧 Augmenting label 26: 84 → 200 (+116)\n",
      "🔧 Augmenting label 27: 48 → 200 (+152)\n",
      "🔧 Augmenting label 28: 11 → 200 (+189)\n",
      "🔧 Augmenting label 29: 13 → 200 (+187)\n",
      "🔧 Augmenting label 30: 11 → 200 (+189)\n",
      "🔧 Augmenting label 31: 75 → 200 (+125)\n",
      "🔧 Augmenting label 32: 36 → 200 (+164)\n",
      "🔧 Augmenting label 33: 31 → 200 (+169)\n",
      "🔧 Augmenting label 34: 30 → 200 (+170)\n",
      "🔧 Augmenting label 35: 11 → 200 (+189)\n",
      "🔧 Augmenting label 36: 22 → 200 (+178)\n",
      "🔧 Augmenting label 37: 16 → 200 (+184)\n",
      "🔧 Augmenting label 38: 33 → 200 (+167)\n",
      "🔧 Augmenting label 39: 10 → 200 (+190)\n",
      "🔧 Augmenting label 40: 9 → 200 (+191)\n",
      "🔧 Augmenting label 41: 57 → 200 (+143)\n",
      "🔧 Augmenting label 42: 18 → 200 (+182)\n",
      "🔧 Augmenting label 43: 9 → 200 (+191)\n",
      "🔧 Augmenting label 44: 54 → 200 (+146)\n",
      "🔧 Augmenting label 46: 61 → 200 (+139)\n",
      "🔧 Augmenting label 47: 80 → 200 (+120)\n",
      "Label distribution after resampling:\n",
      "  label 0: 2472\n",
      "  label 1: 200\n",
      "  label 2: 200\n",
      "  label 3: 200\n",
      "  label 4: 200\n",
      "  label 5: 200\n",
      "  label 6: 200\n",
      "  label 7: 200\n",
      "  label 8: 200\n",
      "  label 9: 200\n",
      "  label 10: 200\n",
      "  label 11: 200\n",
      "  label 12: 200\n",
      "  label 13: 200\n",
      "  label 14: 200\n",
      "  label 15: 200\n",
      "  label 16: 200\n",
      "  label 17: 200\n",
      "  label 18: 200\n",
      "  label 19: 200\n",
      "  label 20: 200\n",
      "  label 21: 200\n",
      "  label 22: 200\n",
      "  label 23: 200\n",
      "  label 24: 200\n",
      "  label 25: 200\n",
      "  label 26: 200\n",
      "  label 27: 200\n",
      "  label 28: 200\n",
      "  label 29: 200\n",
      "  label 30: 200\n",
      "  label 31: 200\n",
      "  label 32: 200\n",
      "  label 33: 200\n",
      "  label 34: 200\n",
      "  label 35: 200\n",
      "  label 36: 200\n",
      "  label 37: 200\n",
      "  label 38: 200\n",
      "  label 39: 200\n",
      "  label 40: 200\n",
      "  label 41: 200\n",
      "  label 42: 200\n",
      "  label 43: 200\n",
      "  label 44: 200\n",
      "  label 45: 242\n",
      "  label 46: 200\n",
      "  label 47: 200\n",
      "model is microsoft/deberta-base cnn\n",
      "Epoch 1/20\n"
     ]
    },
    {
     "name": "stderr",
     "output_type": "stream",
     "text": [
      "100%|██████████| 745/745 [01:22<00:00,  9.05it/s]\n"
     ]
    },
    {
     "name": "stdout",
     "output_type": "stream",
     "text": [
      "{'val_loss': 1.6387327008131074, 'val_accuracy': 0.5491990846681922, 'precision': 0.5819921512631613, 'recall': 0.5491990846681922, 'f1-score': 0.5279208639998243, 'macro_f1-score': 0.28015302735188735, 'balanced_accuracy': 0.34026283541126084, 'mcc': 0.39653799358682273, 'train_loss': 2.652664466832308}\n",
      "Epoch 2/20\n"
     ]
    },
    {
     "name": "stderr",
     "output_type": "stream",
     "text": [
      "100%|██████████| 745/745 [01:21<00:00,  9.09it/s]\n"
     ]
    },
    {
     "name": "stdout",
     "output_type": "stream",
     "text": [
      "{'val_loss': 1.434911607605655, 'val_accuracy': 0.6262395118230358, 'precision': 0.6300628945548976, 'recall': 0.6262395118230358, 'f1-score': 0.6081533883333446, 'macro_f1-score': 0.38392100439454807, 'balanced_accuracy': 0.41667418207845214, 'mcc': 0.5005688684048336, 'train_loss': 1.2212581378501535}\n",
      "Epoch 3/20\n"
     ]
    },
    {
     "name": "stderr",
     "output_type": "stream",
     "text": [
      "100%|██████████| 745/745 [01:22<00:00,  8.99it/s]\n"
     ]
    },
    {
     "name": "stdout",
     "output_type": "stream",
     "text": [
      "{'val_loss': 1.402219500483536, 'val_accuracy': 0.6475972540045767, 'precision': 0.6366950282172005, 'recall': 0.6475972540045767, 'f1-score': 0.6317132997473052, 'macro_f1-score': 0.41371770900623295, 'balanced_accuracy': 0.4123628545956477, 'mcc': 0.5256702055842536, 'train_loss': 0.635117403792855}\n",
      "Epoch 4/20\n"
     ]
    },
    {
     "name": "stderr",
     "output_type": "stream",
     "text": [
      "100%|██████████| 745/745 [01:21<00:00,  9.10it/s]\n"
     ]
    },
    {
     "name": "stdout",
     "output_type": "stream",
     "text": [
      "{'val_loss': 1.6027754465254342, 'val_accuracy': 0.6575133485888635, 'precision': 0.6632873845138741, 'recall': 0.6575133485888635, 'f1-score': 0.646795676358698, 'macro_f1-score': 0.4248069008740769, 'balanced_accuracy': 0.43208805474838896, 'mcc': 0.5423697936768932, 'train_loss': 0.3996603121243467}\n",
      "Epoch 5/20\n"
     ]
    },
    {
     "name": "stderr",
     "output_type": "stream",
     "text": [
      "100%|██████████| 745/745 [01:22<00:00,  9.07it/s]\n"
     ]
    },
    {
     "name": "stdout",
     "output_type": "stream",
     "text": [
      "{'val_loss': 1.6687093747825157, 'val_accuracy': 0.6422578184591915, 'precision': 0.6682169242794604, 'recall': 0.6422578184591915, 'f1-score': 0.6477616810036254, 'macro_f1-score': 0.43114755396612275, 'balanced_accuracy': 0.4300626543750001, 'mcc': 0.5404143179019987, 'train_loss': 0.27367068676515516}\n",
      "Epoch 6/20\n"
     ]
    },
    {
     "name": "stderr",
     "output_type": "stream",
     "text": [
      "100%|██████████| 745/745 [01:22<00:00,  8.99it/s]\n"
     ]
    },
    {
     "name": "stdout",
     "output_type": "stream",
     "text": [
      "{'val_loss': 1.7455077185863401, 'val_accuracy': 0.6414950419527079, 'precision': 0.656194036373677, 'recall': 0.6414950419527079, 'f1-score': 0.6325138901608195, 'macro_f1-score': 0.4186224833177427, 'balanced_accuracy': 0.4062299783992212, 'mcc': 0.5340682366417133, 'train_loss': 0.22841212391390797}\n",
      "Epoch 7/20\n"
     ]
    },
    {
     "name": "stderr",
     "output_type": "stream",
     "text": [
      "100%|██████████| 745/745 [01:23<00:00,  8.97it/s]\n"
     ]
    },
    {
     "name": "stdout",
     "output_type": "stream",
     "text": [
      "{'val_loss': 1.8489824457139503, 'val_accuracy': 0.6407322654462243, 'precision': 0.6601770514578705, 'recall': 0.6407322654462243, 'f1-score': 0.6369848105955446, 'macro_f1-score': 0.4156059064407582, 'balanced_accuracy': 0.4096708318583526, 'mcc': 0.5353896771759173, 'train_loss': 0.1622914258659436}\n",
      "Epoch 8/20\n"
     ]
    },
    {
     "name": "stderr",
     "output_type": "stream",
     "text": [
      "100%|██████████| 745/745 [01:22<00:00,  8.98it/s]\n"
     ]
    },
    {
     "name": "stdout",
     "output_type": "stream",
     "text": [
      "{'val_loss': 1.860956122235554, 'val_accuracy': 0.6445461479786423, 'precision': 0.6456618098487827, 'recall': 0.6445461479786423, 'f1-score': 0.6363616887924342, 'macro_f1-score': 0.42190279609949544, 'balanced_accuracy': 0.42348860420885986, 'mcc': 0.5357823240526176, 'train_loss': 0.14724657771852642}\n",
      "Early stopping.\n",
      "\n",
      " === microsoft/deberta-base + cnn + word2vec Final 5-fold Cross-Validation Results ===\n",
      "val_loss: 2.2140\n",
      "val_accuracy: 0.6008\n",
      "precision: 0.5527\n",
      "recall: 0.6008\n",
      "f1-score: 0.5606\n",
      "macro_f1-score: 0.3288\n",
      "balanced_accuracy: 0.3255\n",
      "mcc: 0.4131\n",
      "train_loss: 0.8306\n",
      "total_seconds: 3915.0000\n",
      "total_time: 1 hrs 5 mins 15 secs\n",
      "▶ Running: microsoft/deberta-base + lstm + word2vec\n",
      "tokenizer is microsoft/deberta-base\n",
      "Using device: cuda\n",
      "CUDA Available: True\n",
      "CUDA Device: NVIDIA GeForce RTX 5070 Ti\n",
      "Current GPU Memory Allocated: 0.02 GB\n",
      "Current GPU Memory Cached: 5.15 GB\n",
      "\n",
      "[Fold 1]\n",
      "🚀 Using Word2Vec for data augmentation\n",
      "🔧 Augmenting label 1: 21 → 200 (+179)\n",
      "🔧 Augmenting label 2: 64 → 200 (+136)\n",
      "🔧 Augmenting label 3: 24 → 200 (+176)\n",
      "🔧 Augmenting label 4: 191 → 200 (+9)\n",
      "🔧 Augmenting label 5: 113 → 200 (+87)\n",
      "🔧 Augmenting label 6: 93 → 200 (+107)\n",
      "🔧 Augmenting label 7: 30 → 200 (+170)\n",
      "🔧 Augmenting label 8: 68 → 200 (+132)\n",
      "🔧 Augmenting label 9: 30 → 200 (+170)\n",
      "🔧 Augmenting label 10: 67 → 200 (+133)\n",
      "🔧 Augmenting label 11: 169 → 200 (+31)\n",
      "🔧 Augmenting label 12: 189 → 200 (+11)\n",
      "🔧 Augmenting label 13: 29 → 200 (+171)\n",
      "🔧 Augmenting label 14: 22 → 200 (+178)\n",
      "🔧 Augmenting label 15: 25 → 200 (+175)\n",
      "🔧 Augmenting label 16: 19 → 200 (+181)\n",
      "🔧 Augmenting label 17: 183 → 200 (+17)\n",
      "🔧 Augmenting label 18: 92 → 200 (+108)\n",
      "🔧 Augmenting label 19: 44 → 200 (+156)\n",
      "🔧 Augmenting label 20: 13 → 200 (+187)\n",
      "🔧 Augmenting label 21: 35 → 200 (+165)\n",
      "🔧 Augmenting label 22: 76 → 200 (+124)\n",
      "🔧 Augmenting label 23: 158 → 200 (+42)\n",
      "🔧 Augmenting label 24: 13 → 200 (+187)\n",
      "🔧 Augmenting label 25: 44 → 200 (+156)\n",
      "🔧 Augmenting label 26: 84 → 200 (+116)\n",
      "🔧 Augmenting label 27: 48 → 200 (+152)\n",
      "🔧 Augmenting label 28: 11 → 200 (+189)\n",
      "🔧 Augmenting label 29: 13 → 200 (+187)\n",
      "🔧 Augmenting label 30: 11 → 200 (+189)\n",
      "🔧 Augmenting label 31: 75 → 200 (+125)\n",
      "🔧 Augmenting label 32: 36 → 200 (+164)\n",
      "🔧 Augmenting label 33: 32 → 200 (+168)\n",
      "🔧 Augmenting label 34: 29 → 200 (+171)\n",
      "🔧 Augmenting label 35: 11 → 200 (+189)\n",
      "🔧 Augmenting label 36: 22 → 200 (+178)\n",
      "🔧 Augmenting label 37: 16 → 200 (+184)\n",
      "🔧 Augmenting label 38: 33 → 200 (+167)\n",
      "🔧 Augmenting label 39: 10 → 200 (+190)\n",
      "🔧 Augmenting label 40: 9 → 200 (+191)\n",
      "🔧 Augmenting label 41: 57 → 200 (+143)\n",
      "🔧 Augmenting label 42: 19 → 200 (+181)\n",
      "🔧 Augmenting label 43: 8 → 200 (+192)\n",
      "🔧 Augmenting label 44: 54 → 200 (+146)\n",
      "🔧 Augmenting label 46: 61 → 200 (+139)\n",
      "🔧 Augmenting label 47: 80 → 200 (+120)\n",
      "Label distribution after resampling:\n",
      "  label 0: 2471\n",
      "  label 1: 200\n",
      "  label 2: 200\n",
      "  label 3: 200\n",
      "  label 4: 200\n",
      "  label 5: 200\n",
      "  label 6: 200\n",
      "  label 7: 200\n",
      "  label 8: 200\n",
      "  label 9: 200\n",
      "  label 10: 200\n",
      "  label 11: 200\n",
      "  label 12: 200\n",
      "  label 13: 200\n",
      "  label 14: 200\n",
      "  label 15: 200\n",
      "  label 16: 200\n",
      "  label 17: 200\n",
      "  label 18: 200\n",
      "  label 19: 200\n",
      "  label 20: 200\n",
      "  label 21: 200\n",
      "  label 22: 200\n",
      "  label 23: 200\n",
      "  label 24: 200\n",
      "  label 25: 200\n",
      "  label 26: 200\n",
      "  label 27: 200\n",
      "  label 28: 200\n",
      "  label 29: 200\n",
      "  label 30: 200\n",
      "  label 31: 200\n",
      "  label 32: 200\n",
      "  label 33: 200\n",
      "  label 34: 200\n",
      "  label 35: 200\n",
      "  label 36: 200\n",
      "  label 37: 200\n",
      "  label 38: 200\n",
      "  label 39: 200\n",
      "  label 40: 200\n",
      "  label 41: 200\n",
      "  label 42: 200\n",
      "  label 43: 200\n",
      "  label 44: 200\n",
      "  label 45: 242\n",
      "  label 46: 200\n",
      "  label 47: 200\n",
      "model is microsoft/deberta-base lstm\n",
      "Epoch 1/20\n"
     ]
    },
    {
     "name": "stderr",
     "output_type": "stream",
     "text": [
      "100%|██████████| 745/745 [01:26<00:00,  8.65it/s]\n"
     ]
    },
    {
     "name": "stdout",
     "output_type": "stream",
     "text": [
      "{'val_loss': 2.4443657063856357, 'val_accuracy': 0.45884146341463417, 'precision': 0.3008036677189899, 'recall': 0.45884146341463417, 'f1-score': 0.3604411039643661, 'macro_f1-score': 0.0263372678020689, 'balanced_accuracy': 0.06327366504854369, 'mcc': 0.19545549481011829, 'train_loss': 3.3594887648652865}\n",
      "Epoch 2/20\n"
     ]
    },
    {
     "name": "stderr",
     "output_type": "stream",
     "text": [
      "100%|██████████| 745/745 [01:26<00:00,  8.66it/s]\n"
     ]
    },
    {
     "name": "stdout",
     "output_type": "stream",
     "text": [
      "{'val_loss': 2.3630374212090564, 'val_accuracy': 0.4657012195121951, 'precision': 0.3509179131963789, 'recall': 0.4657012195121951, 'f1-score': 0.38694591515566823, 'macro_f1-score': 0.04150356881099184, 'balanced_accuracy': 0.07527249640417116, 'mcc': 0.2258198250474172, 'train_loss': 2.9699407596716143}\n",
      "Epoch 3/20\n"
     ]
    },
    {
     "name": "stderr",
     "output_type": "stream",
     "text": [
      "100%|██████████| 745/745 [01:26<00:00,  8.62it/s]\n"
     ]
    },
    {
     "name": "stdout",
     "output_type": "stream",
     "text": [
      "{'val_loss': 2.394865497583296, 'val_accuracy': 0.4527439024390244, 'precision': 0.3984566588919938, 'recall': 0.4527439024390244, 'f1-score': 0.4031914935024846, 'macro_f1-score': 0.05667487735616115, 'balanced_accuracy': 0.0926084867355504, 'mcc': 0.24265742791851028, 'train_loss': 2.732796428987644}\n",
      "Epoch 4/20\n"
     ]
    },
    {
     "name": "stderr",
     "output_type": "stream",
     "text": [
      "100%|██████████| 745/745 [01:26<00:00,  8.66it/s]\n"
     ]
    },
    {
     "name": "stdout",
     "output_type": "stream",
     "text": [
      "{'val_loss': 2.325581727958307, 'val_accuracy': 0.43902439024390244, 'precision': 0.42697913866309245, 'recall': 0.43902439024390244, 'f1-score': 0.4151118279141561, 'macro_f1-score': 0.0689297217975658, 'balanced_accuracy': 0.10543448148080554, 'mcc': 0.24902115036492553, 'train_loss': 2.597022851201512}\n",
      "Epoch 5/20\n"
     ]
    },
    {
     "name": "stderr",
     "output_type": "stream",
     "text": [
      "100%|██████████| 745/745 [01:25<00:00,  8.68it/s]\n"
     ]
    },
    {
     "name": "stdout",
     "output_type": "stream",
     "text": [
      "{'val_loss': 2.365671152021827, 'val_accuracy': 0.45198170731707316, 'precision': 0.39646267218869635, 'recall': 0.45198170731707316, 'f1-score': 0.4027989435917643, 'macro_f1-score': 0.0718291229138263, 'balanced_accuracy': 0.11199247347479842, 'mcc': 0.23849166649199519, 'train_loss': 2.371508586486714}\n",
      "Epoch 6/20\n"
     ]
    },
    {
     "name": "stderr",
     "output_type": "stream",
     "text": [
      "100%|██████████| 745/745 [01:26<00:00,  8.64it/s]\n"
     ]
    },
    {
     "name": "stdout",
     "output_type": "stream",
     "text": [
      "{'val_loss': 2.263428981711225, 'val_accuracy': 0.4603658536585366, 'precision': 0.413507794306962, 'recall': 0.4603658536585366, 'f1-score': 0.4170861513860903, 'macro_f1-score': 0.09426846678763012, 'balanced_accuracy': 0.14629160693829565, 'mcc': 0.2586508020416511, 'train_loss': 2.2110703823550435}\n",
      "Epoch 7/20\n"
     ]
    },
    {
     "name": "stderr",
     "output_type": "stream",
     "text": [
      "100%|██████████| 745/745 [01:26<00:00,  8.64it/s]\n"
     ]
    },
    {
     "name": "stdout",
     "output_type": "stream",
     "text": [
      "{'val_loss': 2.92107770064982, 'val_accuracy': 0.47103658536585363, 'precision': 0.22187546475312311, 'recall': 0.47103658536585363, 'f1-score': 0.3016586629596866, 'macro_f1-score': 0.013341968911917098, 'balanced_accuracy': 0.020833333333333332, 'mcc': 0.0, 'train_loss': 2.6244570375288894}\n",
      "Epoch 8/20\n"
     ]
    },
    {
     "name": "stderr",
     "output_type": "stream",
     "text": [
      "100%|██████████| 745/745 [01:26<00:00,  8.66it/s]\n"
     ]
    },
    {
     "name": "stdout",
     "output_type": "stream",
     "text": [
      "{'val_loss': 2.939582217030409, 'val_accuracy': 0.47103658536585363, 'precision': 0.22187546475312311, 'recall': 0.47103658536585363, 'f1-score': 0.3016586629596866, 'macro_f1-score': 0.013341968911917098, 'balanced_accuracy': 0.020833333333333332, 'mcc': 0.0, 'train_loss': 3.582527831736827}\n",
      "Epoch 9/20\n"
     ]
    },
    {
     "name": "stderr",
     "output_type": "stream",
     "text": [
      "100%|██████████| 745/745 [01:26<00:00,  8.65it/s]\n"
     ]
    },
    {
     "name": "stdout",
     "output_type": "stream",
     "text": [
      "{'val_loss': 2.931456280917656, 'val_accuracy': 0.47103658536585363, 'precision': 0.22187546475312311, 'recall': 0.47103658536585363, 'f1-score': 0.3016586629596866, 'macro_f1-score': 0.013341968911917098, 'balanced_accuracy': 0.020833333333333332, 'mcc': 0.0, 'train_loss': 3.579294958690669}\n",
      "Early stopping.\n",
      "\n",
      "[Fold 2]\n",
      "🚀 Using Word2Vec for data augmentation\n",
      "🔧 Augmenting label 1: 22 → 200 (+178)\n",
      "🔧 Augmenting label 2: 64 → 200 (+136)\n",
      "🔧 Augmenting label 3: 24 → 200 (+176)\n",
      "🔧 Augmenting label 4: 190 → 200 (+10)\n",
      "🔧 Augmenting label 5: 113 → 200 (+87)\n",
      "🔧 Augmenting label 6: 93 → 200 (+107)\n",
      "🔧 Augmenting label 7: 30 → 200 (+170)\n",
      "🔧 Augmenting label 8: 68 → 200 (+132)\n",
      "🔧 Augmenting label 9: 30 → 200 (+170)\n",
      "🔧 Augmenting label 10: 67 → 200 (+133)\n",
      "🔧 Augmenting label 11: 169 → 200 (+31)\n",
      "🔧 Augmenting label 12: 189 → 200 (+11)\n",
      "🔧 Augmenting label 13: 29 → 200 (+171)\n",
      "🔧 Augmenting label 14: 23 → 200 (+177)\n",
      "🔧 Augmenting label 15: 24 → 200 (+176)\n",
      "🔧 Augmenting label 16: 20 → 200 (+180)\n",
      "🔧 Augmenting label 17: 182 → 200 (+18)\n",
      "🔧 Augmenting label 18: 92 → 200 (+108)\n",
      "🔧 Augmenting label 19: 44 → 200 (+156)\n",
      "🔧 Augmenting label 20: 13 → 200 (+187)\n",
      "🔧 Augmenting label 21: 36 → 200 (+164)\n",
      "🔧 Augmenting label 22: 76 → 200 (+124)\n",
      "🔧 Augmenting label 23: 157 → 200 (+43)\n",
      "🔧 Augmenting label 24: 12 → 200 (+188)\n",
      "🔧 Augmenting label 25: 44 → 200 (+156)\n",
      "🔧 Augmenting label 26: 84 → 200 (+116)\n",
      "🔧 Augmenting label 27: 48 → 200 (+152)\n",
      "🔧 Augmenting label 28: 12 → 200 (+188)\n",
      "🔧 Augmenting label 29: 12 → 200 (+188)\n",
      "🔧 Augmenting label 30: 12 → 200 (+188)\n",
      "🔧 Augmenting label 31: 75 → 200 (+125)\n",
      "🔧 Augmenting label 32: 36 → 200 (+164)\n",
      "🔧 Augmenting label 33: 31 → 200 (+169)\n",
      "🔧 Augmenting label 34: 29 → 200 (+171)\n",
      "🔧 Augmenting label 35: 12 → 200 (+188)\n",
      "🔧 Augmenting label 36: 21 → 200 (+179)\n",
      "🔧 Augmenting label 37: 16 → 200 (+184)\n",
      "🔧 Augmenting label 38: 33 → 200 (+167)\n",
      "🔧 Augmenting label 39: 11 → 200 (+189)\n",
      "🔧 Augmenting label 40: 8 → 200 (+192)\n",
      "🔧 Augmenting label 41: 57 → 200 (+143)\n",
      "🔧 Augmenting label 42: 19 → 200 (+181)\n",
      "🔧 Augmenting label 43: 9 → 200 (+191)\n",
      "🔧 Augmenting label 44: 54 → 200 (+146)\n",
      "🔧 Augmenting label 46: 62 → 200 (+138)\n",
      "🔧 Augmenting label 47: 80 → 200 (+120)\n",
      "Label distribution after resampling:\n",
      "  label 0: 2471\n",
      "  label 1: 200\n",
      "  label 2: 200\n",
      "  label 3: 200\n",
      "  label 4: 200\n",
      "  label 5: 200\n",
      "  label 6: 200\n",
      "  label 7: 200\n",
      "  label 8: 200\n",
      "  label 9: 200\n",
      "  label 10: 200\n",
      "  label 11: 200\n",
      "  label 12: 200\n",
      "  label 13: 200\n",
      "  label 14: 200\n",
      "  label 15: 200\n",
      "  label 16: 200\n",
      "  label 17: 200\n",
      "  label 18: 200\n",
      "  label 19: 200\n",
      "  label 20: 200\n",
      "  label 21: 200\n",
      "  label 22: 200\n",
      "  label 23: 200\n",
      "  label 24: 200\n",
      "  label 25: 200\n",
      "  label 26: 200\n",
      "  label 27: 200\n",
      "  label 28: 200\n",
      "  label 29: 200\n",
      "  label 30: 200\n",
      "  label 31: 200\n",
      "  label 32: 200\n",
      "  label 33: 200\n",
      "  label 34: 200\n",
      "  label 35: 200\n",
      "  label 36: 200\n",
      "  label 37: 200\n",
      "  label 38: 200\n",
      "  label 39: 200\n",
      "  label 40: 200\n",
      "  label 41: 200\n",
      "  label 42: 200\n",
      "  label 43: 200\n",
      "  label 44: 200\n",
      "  label 45: 242\n",
      "  label 46: 200\n",
      "  label 47: 200\n",
      "model is microsoft/deberta-base lstm\n",
      "Epoch 1/20\n"
     ]
    },
    {
     "name": "stderr",
     "output_type": "stream",
     "text": [
      "100%|██████████| 745/745 [01:26<00:00,  8.63it/s]\n"
     ]
    },
    {
     "name": "stdout",
     "output_type": "stream",
     "text": [
      "{'val_loss': 2.457178425498125, 'val_accuracy': 0.43478260869565216, 'precision': 0.3675904599052689, 'recall': 0.43478260869565216, 'f1-score': 0.38423227866155063, 'macro_f1-score': 0.02785285694480238, 'balanced_accuracy': 0.05250101342070527, 'mcc': 0.2227035404615502, 'train_loss': 3.307640255217584}\n",
      "Epoch 2/20\n"
     ]
    },
    {
     "name": "stderr",
     "output_type": "stream",
     "text": [
      "100%|██████████| 745/745 [01:26<00:00,  8.61it/s]\n"
     ]
    },
    {
     "name": "stdout",
     "output_type": "stream",
     "text": [
      "{'val_loss': 2.2640097446557954, 'val_accuracy': 0.4843630816170862, 'precision': 0.3846453578510654, 'recall': 0.4843630816170862, 'f1-score': 0.4167364532202279, 'macro_f1-score': 0.04936772668784966, 'balanced_accuracy': 0.07477764419050299, 'mcc': 0.2723464527819466, 'train_loss': 2.981697176606863}\n",
      "Epoch 3/20\n"
     ]
    },
    {
     "name": "stderr",
     "output_type": "stream",
     "text": [
      "100%|██████████| 745/745 [01:26<00:00,  8.65it/s]\n"
     ]
    },
    {
     "name": "stdout",
     "output_type": "stream",
     "text": [
      "{'val_loss': 2.1603574912722516, 'val_accuracy': 0.4965675057208238, 'precision': 0.37692107113741374, 'recall': 0.4965675057208238, 'f1-score': 0.4190983030423275, 'macro_f1-score': 0.07104303191871182, 'balanced_accuracy': 0.11728978503520422, 'mcc': 0.27898173399797316, 'train_loss': 2.7079162514449764}\n",
      "Epoch 4/20\n"
     ]
    },
    {
     "name": "stderr",
     "output_type": "stream",
     "text": [
      "100%|██████████| 745/745 [01:26<00:00,  8.64it/s]\n"
     ]
    },
    {
     "name": "stdout",
     "output_type": "stream",
     "text": [
      "{'val_loss': 2.216034307712462, 'val_accuracy': 0.463768115942029, 'precision': 0.4509447403315606, 'recall': 0.463768115942029, 'f1-score': 0.4244034497460152, 'macro_f1-score': 0.09347192319562476, 'balanced_accuracy': 0.1420770441960748, 'mcc': 0.269181085648157, 'train_loss': 2.5657652640502726}\n",
      "Epoch 5/20\n"
     ]
    },
    {
     "name": "stderr",
     "output_type": "stream",
     "text": [
      "100%|██████████| 745/745 [01:25<00:00,  8.67it/s]\n"
     ]
    },
    {
     "name": "stdout",
     "output_type": "stream",
     "text": [
      "{'val_loss': 2.177341350694982, 'val_accuracy': 0.4492753623188406, 'precision': 0.42091844726161, 'recall': 0.4492753623188406, 'f1-score': 0.40634894160181195, 'macro_f1-score': 0.0763286773882972, 'balanced_accuracy': 0.12903082996178294, 'mcc': 0.2445306552372112, 'train_loss': 2.373808280733608}\n",
      "Epoch 6/20\n"
     ]
    },
    {
     "name": "stderr",
     "output_type": "stream",
     "text": [
      "100%|██████████| 745/745 [01:25<00:00,  8.67it/s]\n"
     ]
    },
    {
     "name": "stdout",
     "output_type": "stream",
     "text": [
      "{'val_loss': 2.08703867182499, 'val_accuracy': 0.4454614797864226, 'precision': 0.43528941196180054, 'recall': 0.4454614797864226, 'f1-score': 0.42856553595724206, 'macro_f1-score': 0.09390195764553973, 'balanced_accuracy': 0.14709657667061482, 'mcc': 0.273459257153452, 'train_loss': 2.2067397400836817}\n",
      "Epoch 7/20\n"
     ]
    },
    {
     "name": "stderr",
     "output_type": "stream",
     "text": [
      "100%|██████████| 745/745 [01:25<00:00,  8.70it/s]\n"
     ]
    },
    {
     "name": "stdout",
     "output_type": "stream",
     "text": [
      "{'val_loss': 2.0514262420375173, 'val_accuracy': 0.4607170099160946, 'precision': 0.4727213155648116, 'recall': 0.4607170099160946, 'f1-score': 0.45204366166518567, 'macro_f1-score': 0.12407373478016948, 'balanced_accuracy': 0.17181898442092947, 'mcc': 0.29898513453397263, 'train_loss': 2.0653498236764998}\n",
      "Epoch 8/20\n"
     ]
    },
    {
     "name": "stderr",
     "output_type": "stream",
     "text": [
      "100%|██████████| 745/745 [01:24<00:00,  8.79it/s]\n"
     ]
    },
    {
     "name": "stdout",
     "output_type": "stream",
     "text": [
      "{'val_loss': 2.1160785236009736, 'val_accuracy': 0.463768115942029, 'precision': 0.4832406666742241, 'recall': 0.463768115942029, 'f1-score': 0.45719734461543027, 'macro_f1-score': 0.1369268857767559, 'balanced_accuracy': 0.1863992211274814, 'mcc': 0.2977905947825158, 'train_loss': 2.0051173211744167}\n",
      "Epoch 9/20\n"
     ]
    },
    {
     "name": "stderr",
     "output_type": "stream",
     "text": [
      "100%|██████████| 745/745 [01:26<00:00,  8.66it/s]\n"
     ]
    },
    {
     "name": "stdout",
     "output_type": "stream",
     "text": [
      "{'val_loss': 2.0204540033166003, 'val_accuracy': 0.4858886346300534, 'precision': 0.4678759017907998, 'recall': 0.4858886346300534, 'f1-score': 0.46273578887484057, 'macro_f1-score': 0.12842739550409446, 'balanced_accuracy': 0.17037875525477045, 'mcc': 0.31953414265909197, 'train_loss': 1.9308516794403128}\n",
      "Epoch 10/20\n"
     ]
    },
    {
     "name": "stderr",
     "output_type": "stream",
     "text": [
      "100%|██████████| 745/745 [01:26<00:00,  8.66it/s]\n"
     ]
    },
    {
     "name": "stdout",
     "output_type": "stream",
     "text": [
      "{'val_loss': 2.1013350726627724, 'val_accuracy': 0.45385202135774216, 'precision': 0.47259814469249745, 'recall': 0.45385202135774216, 'f1-score': 0.4538692893970999, 'macro_f1-score': 0.13065004600996502, 'balanced_accuracy': 0.1732567684992213, 'mcc': 0.29335575322764834, 'train_loss': 1.7899183513334134}\n",
      "Epoch 11/20\n"
     ]
    },
    {
     "name": "stderr",
     "output_type": "stream",
     "text": [
      "100%|██████████| 745/745 [01:25<00:00,  8.68it/s]\n"
     ]
    },
    {
     "name": "stdout",
     "output_type": "stream",
     "text": [
      "{'val_loss': 2.118519092478403, 'val_accuracy': 0.43554538520213576, 'precision': 0.49396190152046693, 'recall': 0.43554538520213576, 'f1-score': 0.4348238679888152, 'macro_f1-score': 0.12437038187349299, 'balanced_accuracy': 0.1831210107867256, 'mcc': 0.2743145257501341, 'train_loss': 1.7682506458071254}\n",
      "Early stopping.\n",
      "\n",
      "[Fold 3]\n",
      "🚀 Using Word2Vec for data augmentation\n",
      "🔧 Augmenting label 1: 22 → 200 (+178)\n",
      "🔧 Augmenting label 2: 64 → 200 (+136)\n",
      "🔧 Augmenting label 3: 24 → 200 (+176)\n",
      "🔧 Augmenting label 4: 190 → 200 (+10)\n",
      "🔧 Augmenting label 5: 113 → 200 (+87)\n",
      "🔧 Augmenting label 6: 93 → 200 (+107)\n",
      "🔧 Augmenting label 7: 30 → 200 (+170)\n",
      "🔧 Augmenting label 8: 68 → 200 (+132)\n",
      "🔧 Augmenting label 9: 30 → 200 (+170)\n",
      "🔧 Augmenting label 10: 67 → 200 (+133)\n",
      "🔧 Augmenting label 11: 169 → 200 (+31)\n",
      "🔧 Augmenting label 12: 190 → 200 (+10)\n",
      "🔧 Augmenting label 13: 28 → 200 (+172)\n",
      "🔧 Augmenting label 14: 23 → 200 (+177)\n",
      "🔧 Augmenting label 15: 25 → 200 (+175)\n",
      "🔧 Augmenting label 16: 19 → 200 (+181)\n",
      "🔧 Augmenting label 17: 182 → 200 (+18)\n",
      "🔧 Augmenting label 18: 92 → 200 (+108)\n",
      "🔧 Augmenting label 19: 44 → 200 (+156)\n",
      "🔧 Augmenting label 20: 14 → 200 (+186)\n",
      "🔧 Augmenting label 21: 35 → 200 (+165)\n",
      "🔧 Augmenting label 22: 76 → 200 (+124)\n",
      "🔧 Augmenting label 23: 157 → 200 (+43)\n",
      "🔧 Augmenting label 24: 13 → 200 (+187)\n",
      "🔧 Augmenting label 25: 44 → 200 (+156)\n",
      "🔧 Augmenting label 26: 84 → 200 (+116)\n",
      "🔧 Augmenting label 27: 48 → 200 (+152)\n",
      "🔧 Augmenting label 28: 11 → 200 (+189)\n",
      "🔧 Augmenting label 29: 13 → 200 (+187)\n",
      "🔧 Augmenting label 30: 11 → 200 (+189)\n",
      "🔧 Augmenting label 31: 76 → 200 (+124)\n",
      "🔧 Augmenting label 32: 36 → 200 (+164)\n",
      "🔧 Augmenting label 33: 31 → 200 (+169)\n",
      "🔧 Augmenting label 34: 30 → 200 (+170)\n",
      "🔧 Augmenting label 35: 11 → 200 (+189)\n",
      "🔧 Augmenting label 36: 21 → 200 (+179)\n",
      "🔧 Augmenting label 37: 16 → 200 (+184)\n",
      "🔧 Augmenting label 38: 32 → 200 (+168)\n",
      "🔧 Augmenting label 39: 11 → 200 (+189)\n",
      "🔧 Augmenting label 40: 9 → 200 (+191)\n",
      "🔧 Augmenting label 41: 57 → 200 (+143)\n",
      "🔧 Augmenting label 42: 18 → 200 (+182)\n",
      "🔧 Augmenting label 43: 9 → 200 (+191)\n",
      "🔧 Augmenting label 44: 55 → 200 (+145)\n",
      "🔧 Augmenting label 46: 62 → 200 (+138)\n",
      "🔧 Augmenting label 47: 80 → 200 (+120)\n",
      "Label distribution after resampling:\n",
      "  label 0: 2471\n",
      "  label 1: 200\n",
      "  label 2: 200\n",
      "  label 3: 200\n",
      "  label 4: 200\n",
      "  label 5: 200\n",
      "  label 6: 200\n",
      "  label 7: 200\n",
      "  label 8: 200\n",
      "  label 9: 200\n",
      "  label 10: 200\n",
      "  label 11: 200\n",
      "  label 12: 200\n",
      "  label 13: 200\n",
      "  label 14: 200\n",
      "  label 15: 200\n",
      "  label 16: 200\n",
      "  label 17: 200\n",
      "  label 18: 200\n",
      "  label 19: 200\n",
      "  label 20: 200\n",
      "  label 21: 200\n",
      "  label 22: 200\n",
      "  label 23: 200\n",
      "  label 24: 200\n",
      "  label 25: 200\n",
      "  label 26: 200\n",
      "  label 27: 200\n",
      "  label 28: 200\n",
      "  label 29: 200\n",
      "  label 30: 200\n",
      "  label 31: 200\n",
      "  label 32: 200\n",
      "  label 33: 200\n",
      "  label 34: 200\n",
      "  label 35: 200\n",
      "  label 36: 200\n",
      "  label 37: 200\n",
      "  label 38: 200\n",
      "  label 39: 200\n",
      "  label 40: 200\n",
      "  label 41: 200\n",
      "  label 42: 200\n",
      "  label 43: 200\n",
      "  label 44: 200\n",
      "  label 45: 241\n",
      "  label 46: 200\n",
      "  label 47: 200\n",
      "model is microsoft/deberta-base lstm\n",
      "Epoch 1/20\n"
     ]
    },
    {
     "name": "stderr",
     "output_type": "stream",
     "text": [
      "100%|██████████| 745/745 [01:26<00:00,  8.60it/s]\n"
     ]
    },
    {
     "name": "stdout",
     "output_type": "stream",
     "text": [
      "{'val_loss': 2.706886945701227, 'val_accuracy': 0.45461479786422576, 'precision': 0.2983682572703058, 'recall': 0.45461479786422576, 'f1-score': 0.3593238289595617, 'macro_f1-score': 0.029979906198417464, 'balanced_accuracy': 0.048397417982260015, 'mcc': 0.18872306045851364, 'train_loss': 3.424422259298747}\n",
      "Epoch 2/20\n"
     ]
    },
    {
     "name": "stderr",
     "output_type": "stream",
     "text": [
      "100%|██████████| 745/745 [01:26<00:00,  8.62it/s]\n"
     ]
    },
    {
     "name": "stdout",
     "output_type": "stream",
     "text": [
      "{'val_loss': 2.5955413827082006, 'val_accuracy': 0.4607170099160946, 'precision': 0.22309084020081466, 'recall': 0.4607170099160946, 'f1-score': 0.30056711630645133, 'macro_f1-score': 0.014241575449329844, 'balanced_accuracy': 0.023303860379103095, 'mcc': 0.010473990933242028, 'train_loss': 3.2549886940309665}\n",
      "Epoch 3/20\n"
     ]
    },
    {
     "name": "stderr",
     "output_type": "stream",
     "text": [
      "100%|██████████| 745/745 [01:25<00:00,  8.66it/s]\n"
     ]
    },
    {
     "name": "stdout",
     "output_type": "stream",
     "text": [
      "{'val_loss': 2.5822832002872373, 'val_accuracy': 0.45232646834477497, 'precision': 0.31120231565749373, 'recall': 0.45232646834477497, 'f1-score': 0.3666608362155854, 'macro_f1-score': 0.026215732021986387, 'balanced_accuracy': 0.050370709321449415, 'mcc': 0.20855913405614165, 'train_loss': 3.175802483654662}\n",
      "Epoch 4/20\n"
     ]
    },
    {
     "name": "stderr",
     "output_type": "stream",
     "text": [
      "100%|██████████| 745/745 [01:26<00:00,  8.62it/s]\n"
     ]
    },
    {
     "name": "stdout",
     "output_type": "stream",
     "text": [
      "{'val_loss': 2.56321923761833, 'val_accuracy': 0.4851258581235698, 'precision': 0.27582537741276025, 'recall': 0.4851258581235698, 'f1-score': 0.34281305576616017, 'macro_f1-score': 0.025383977640255368, 'balanced_accuracy': 0.0358487421134411, 'mcc': 0.1649162812921932, 'train_loss': 3.113454222199101}\n",
      "Early stopping.\n",
      "\n",
      "[Fold 4]\n",
      "🚀 Using Word2Vec for data augmentation\n",
      "🔧 Augmenting label 1: 22 → 200 (+178)\n",
      "🔧 Augmenting label 2: 64 → 200 (+136)\n",
      "🔧 Augmenting label 3: 24 → 200 (+176)\n",
      "🔧 Augmenting label 4: 190 → 200 (+10)\n",
      "🔧 Augmenting label 5: 113 → 200 (+87)\n",
      "🔧 Augmenting label 6: 93 → 200 (+107)\n",
      "🔧 Augmenting label 7: 31 → 200 (+169)\n",
      "🔧 Augmenting label 8: 68 → 200 (+132)\n",
      "🔧 Augmenting label 9: 29 → 200 (+171)\n",
      "🔧 Augmenting label 10: 67 → 200 (+133)\n",
      "🔧 Augmenting label 11: 169 → 200 (+31)\n",
      "🔧 Augmenting label 12: 190 → 200 (+10)\n",
      "🔧 Augmenting label 13: 29 → 200 (+171)\n",
      "🔧 Augmenting label 14: 22 → 200 (+178)\n",
      "🔧 Augmenting label 15: 25 → 200 (+175)\n",
      "🔧 Augmenting label 16: 19 → 200 (+181)\n",
      "🔧 Augmenting label 17: 182 → 200 (+18)\n",
      "🔧 Augmenting label 18: 92 → 200 (+108)\n",
      "🔧 Augmenting label 19: 44 → 200 (+156)\n",
      "🔧 Augmenting label 20: 14 → 200 (+186)\n",
      "🔧 Augmenting label 21: 35 → 200 (+165)\n",
      "🔧 Augmenting label 22: 76 → 200 (+124)\n",
      "🔧 Augmenting label 23: 158 → 200 (+42)\n",
      "🔧 Augmenting label 24: 13 → 200 (+187)\n",
      "🔧 Augmenting label 25: 44 → 200 (+156)\n",
      "🔧 Augmenting label 26: 84 → 200 (+116)\n",
      "🔧 Augmenting label 27: 48 → 200 (+152)\n",
      "🔧 Augmenting label 28: 11 → 200 (+189)\n",
      "🔧 Augmenting label 29: 13 → 200 (+187)\n",
      "🔧 Augmenting label 30: 11 → 200 (+189)\n",
      "🔧 Augmenting label 31: 75 → 200 (+125)\n",
      "🔧 Augmenting label 32: 36 → 200 (+164)\n",
      "🔧 Augmenting label 33: 31 → 200 (+169)\n",
      "🔧 Augmenting label 34: 30 → 200 (+170)\n",
      "🔧 Augmenting label 35: 11 → 200 (+189)\n",
      "🔧 Augmenting label 36: 22 → 200 (+178)\n",
      "🔧 Augmenting label 37: 16 → 200 (+184)\n",
      "🔧 Augmenting label 38: 33 → 200 (+167)\n",
      "🔧 Augmenting label 39: 10 → 200 (+190)\n",
      "🔧 Augmenting label 40: 9 → 200 (+191)\n",
      "🔧 Augmenting label 41: 56 → 200 (+144)\n",
      "🔧 Augmenting label 42: 18 → 200 (+182)\n",
      "🔧 Augmenting label 43: 9 → 200 (+191)\n",
      "🔧 Augmenting label 44: 55 → 200 (+145)\n",
      "🔧 Augmenting label 46: 62 → 200 (+138)\n",
      "🔧 Augmenting label 47: 80 → 200 (+120)\n",
      "Label distribution after resampling:\n",
      "  label 0: 2471\n",
      "  label 1: 200\n",
      "  label 2: 200\n",
      "  label 3: 200\n",
      "  label 4: 200\n",
      "  label 5: 200\n",
      "  label 6: 200\n",
      "  label 7: 200\n",
      "  label 8: 200\n",
      "  label 9: 200\n",
      "  label 10: 200\n",
      "  label 11: 200\n",
      "  label 12: 200\n",
      "  label 13: 200\n",
      "  label 14: 200\n",
      "  label 15: 200\n",
      "  label 16: 200\n",
      "  label 17: 200\n",
      "  label 18: 200\n",
      "  label 19: 200\n",
      "  label 20: 200\n",
      "  label 21: 200\n",
      "  label 22: 200\n",
      "  label 23: 200\n",
      "  label 24: 200\n",
      "  label 25: 200\n",
      "  label 26: 200\n",
      "  label 27: 200\n",
      "  label 28: 200\n",
      "  label 29: 200\n",
      "  label 30: 200\n",
      "  label 31: 200\n",
      "  label 32: 200\n",
      "  label 33: 200\n",
      "  label 34: 200\n",
      "  label 35: 200\n",
      "  label 36: 200\n",
      "  label 37: 200\n",
      "  label 38: 200\n",
      "  label 39: 200\n",
      "  label 40: 200\n",
      "  label 41: 200\n",
      "  label 42: 200\n",
      "  label 43: 200\n",
      "  label 44: 200\n",
      "  label 45: 241\n",
      "  label 46: 200\n",
      "  label 47: 200\n",
      "model is microsoft/deberta-base lstm\n",
      "Epoch 1/20\n"
     ]
    },
    {
     "name": "stderr",
     "output_type": "stream",
     "text": [
      "100%|██████████| 745/745 [01:27<00:00,  8.56it/s]\n"
     ]
    },
    {
     "name": "stdout",
     "output_type": "stream",
     "text": [
      "{'val_loss': 2.6075363755226135, 'val_accuracy': 0.482837528604119, 'precision': 0.257641574373769, 'recall': 0.482837528604119, 'f1-score': 0.3333526087114203, 'macro_f1-score': 0.02525747016419377, 'balanced_accuracy': 0.03320823196380255, 'mcc': 0.13468874002529238, 'train_loss': 3.4155202823997346}\n",
      "Epoch 2/20\n"
     ]
    },
    {
     "name": "stderr",
     "output_type": "stream",
     "text": [
      "100%|██████████| 745/745 [01:27<00:00,  8.55it/s]\n"
     ]
    },
    {
     "name": "stdout",
     "output_type": "stream",
     "text": [
      "{'val_loss': 2.775640358285206, 'val_accuracy': 0.47139588100686497, 'precision': 0.2222140766302384, 'recall': 0.47139588100686497, 'f1-score': 0.302045261236125, 'macro_f1-score': 0.01334888543286677, 'balanced_accuracy': 0.020833333333333332, 'mcc': 0.0, 'train_loss': 3.1817748156169916}\n",
      "Epoch 3/20\n"
     ]
    },
    {
     "name": "stderr",
     "output_type": "stream",
     "text": [
      "100%|██████████| 745/745 [01:26<00:00,  8.59it/s]\n"
     ]
    },
    {
     "name": "stdout",
     "output_type": "stream",
     "text": [
      "{'val_loss': 2.8252999549958764, 'val_accuracy': 0.4691075514874142, 'precision': 0.257287506917336, 'recall': 0.4691075514874142, 'f1-score': 0.30863949413875025, 'macro_f1-score': 0.01919118635043274, 'balanced_accuracy': 0.028413887716336007, 'mcc': 0.05126755959281424, 'train_loss': 3.2222023720709267}\n",
      "Epoch 4/20\n"
     ]
    },
    {
     "name": "stderr",
     "output_type": "stream",
     "text": [
      "100%|██████████| 745/745 [01:25<00:00,  8.67it/s]\n"
     ]
    },
    {
     "name": "stdout",
     "output_type": "stream",
     "text": [
      "{'val_loss': 2.533381826993896, 'val_accuracy': 0.4889397406559878, 'precision': 0.2910878395864302, 'recall': 0.4889397406559878, 'f1-score': 0.3529427667582042, 'macro_f1-score': 0.0373790327759184, 'balanced_accuracy': 0.053692329208473534, 'mcc': 0.16953291731710504, 'train_loss': 3.3172468444645005}\n",
      "Epoch 5/20\n"
     ]
    },
    {
     "name": "stderr",
     "output_type": "stream",
     "text": [
      "100%|██████████| 745/745 [01:26<00:00,  8.61it/s]\n"
     ]
    },
    {
     "name": "stdout",
     "output_type": "stream",
     "text": [
      "{'val_loss': 2.6747523357228533, 'val_accuracy': 0.4698703279938978, 'precision': 0.22388578465707698, 'recall': 0.4698703279938978, 'f1-score': 0.30326878610989955, 'macro_f1-score': 0.013402959094865101, 'balanced_accuracy': 0.020765911542610573, 'mcc': 0.02693512697128345, 'train_loss': 3.292410365687121}\n",
      "Epoch 6/20\n"
     ]
    },
    {
     "name": "stderr",
     "output_type": "stream",
     "text": [
      "100%|██████████| 745/745 [01:26<00:00,  8.65it/s]\n"
     ]
    },
    {
     "name": "stdout",
     "output_type": "stream",
     "text": [
      "{'val_loss': 2.61614511943445, 'val_accuracy': 0.47292143401983217, 'precision': 0.24665320797726817, 'recall': 0.47292143401983217, 'f1-score': 0.3079871668880071, 'macro_f1-score': 0.02030677918351573, 'balanced_accuracy': 0.025639962612313816, 'mcc': 0.04795217481200268, 'train_loss': 3.2852653617026824}\n",
      "Epoch 7/20\n"
     ]
    },
    {
     "name": "stderr",
     "output_type": "stream",
     "text": [
      "100%|██████████| 745/745 [01:26<00:00,  8.64it/s]\n"
     ]
    },
    {
     "name": "stdout",
     "output_type": "stream",
     "text": [
      "{'val_loss': 2.811058307566294, 'val_accuracy': 0.440884820747521, 'precision': 0.26772003199956856, 'recall': 0.440884820747521, 'f1-score': 0.3329355710019039, 'macro_f1-score': 0.014857557610127354, 'balanced_accuracy': 0.026395631067961164, 'mcc': 0.14440159600017127, 'train_loss': 3.477103707614361}\n",
      "Early stopping.\n",
      "\n",
      "[Fold 5]\n",
      "🚀 Using Word2Vec for data augmentation\n",
      "🔧 Augmenting label 1: 21 → 200 (+179)\n",
      "🔧 Augmenting label 2: 64 → 200 (+136)\n",
      "🔧 Augmenting label 3: 24 → 200 (+176)\n",
      "🔧 Augmenting label 4: 191 → 200 (+9)\n",
      "🔧 Augmenting label 5: 112 → 200 (+88)\n",
      "🔧 Augmenting label 6: 92 → 200 (+108)\n",
      "🔧 Augmenting label 7: 31 → 200 (+169)\n",
      "🔧 Augmenting label 8: 68 → 200 (+132)\n",
      "🔧 Augmenting label 9: 29 → 200 (+171)\n",
      "🔧 Augmenting label 10: 68 → 200 (+132)\n",
      "🔧 Augmenting label 11: 168 → 200 (+32)\n",
      "🔧 Augmenting label 12: 190 → 200 (+10)\n",
      "🔧 Augmenting label 13: 29 → 200 (+171)\n",
      "🔧 Augmenting label 14: 22 → 200 (+178)\n",
      "🔧 Augmenting label 15: 25 → 200 (+175)\n",
      "🔧 Augmenting label 16: 19 → 200 (+181)\n",
      "🔧 Augmenting label 17: 183 → 200 (+17)\n",
      "🔧 Augmenting label 18: 92 → 200 (+108)\n",
      "🔧 Augmenting label 19: 44 → 200 (+156)\n",
      "🔧 Augmenting label 20: 14 → 200 (+186)\n",
      "🔧 Augmenting label 21: 35 → 200 (+165)\n",
      "🔧 Augmenting label 22: 76 → 200 (+124)\n",
      "🔧 Augmenting label 23: 158 → 200 (+42)\n",
      "🔧 Augmenting label 24: 13 → 200 (+187)\n",
      "🔧 Augmenting label 25: 44 → 200 (+156)\n",
      "🔧 Augmenting label 26: 84 → 200 (+116)\n",
      "🔧 Augmenting label 27: 48 → 200 (+152)\n",
      "🔧 Augmenting label 28: 11 → 200 (+189)\n",
      "🔧 Augmenting label 29: 13 → 200 (+187)\n",
      "🔧 Augmenting label 30: 11 → 200 (+189)\n",
      "🔧 Augmenting label 31: 75 → 200 (+125)\n",
      "🔧 Augmenting label 32: 36 → 200 (+164)\n",
      "🔧 Augmenting label 33: 31 → 200 (+169)\n",
      "🔧 Augmenting label 34: 30 → 200 (+170)\n",
      "🔧 Augmenting label 35: 11 → 200 (+189)\n",
      "🔧 Augmenting label 36: 22 → 200 (+178)\n",
      "🔧 Augmenting label 37: 16 → 200 (+184)\n",
      "🔧 Augmenting label 38: 33 → 200 (+167)\n",
      "🔧 Augmenting label 39: 10 → 200 (+190)\n",
      "🔧 Augmenting label 40: 9 → 200 (+191)\n",
      "🔧 Augmenting label 41: 57 → 200 (+143)\n",
      "🔧 Augmenting label 42: 18 → 200 (+182)\n",
      "🔧 Augmenting label 43: 9 → 200 (+191)\n",
      "🔧 Augmenting label 44: 54 → 200 (+146)\n",
      "🔧 Augmenting label 46: 61 → 200 (+139)\n",
      "🔧 Augmenting label 47: 80 → 200 (+120)\n",
      "Label distribution after resampling:\n",
      "  label 0: 2472\n",
      "  label 1: 200\n",
      "  label 2: 200\n",
      "  label 3: 200\n",
      "  label 4: 200\n",
      "  label 5: 200\n",
      "  label 6: 200\n",
      "  label 7: 200\n",
      "  label 8: 200\n",
      "  label 9: 200\n",
      "  label 10: 200\n",
      "  label 11: 200\n",
      "  label 12: 200\n",
      "  label 13: 200\n",
      "  label 14: 200\n",
      "  label 15: 200\n",
      "  label 16: 200\n",
      "  label 17: 200\n",
      "  label 18: 200\n",
      "  label 19: 200\n",
      "  label 20: 200\n",
      "  label 21: 200\n",
      "  label 22: 200\n",
      "  label 23: 200\n",
      "  label 24: 200\n",
      "  label 25: 200\n",
      "  label 26: 200\n",
      "  label 27: 200\n",
      "  label 28: 200\n",
      "  label 29: 200\n",
      "  label 30: 200\n",
      "  label 31: 200\n",
      "  label 32: 200\n",
      "  label 33: 200\n",
      "  label 34: 200\n",
      "  label 35: 200\n",
      "  label 36: 200\n",
      "  label 37: 200\n",
      "  label 38: 200\n",
      "  label 39: 200\n",
      "  label 40: 200\n",
      "  label 41: 200\n",
      "  label 42: 200\n",
      "  label 43: 200\n",
      "  label 44: 200\n",
      "  label 45: 242\n",
      "  label 46: 200\n",
      "  label 47: 200\n",
      "model is microsoft/deberta-base lstm\n",
      "Epoch 1/20\n"
     ]
    },
    {
     "name": "stderr",
     "output_type": "stream",
     "text": [
      "100%|██████████| 745/745 [01:26<00:00,  8.64it/s]\n"
     ]
    },
    {
     "name": "stdout",
     "output_type": "stream",
     "text": [
      "{'val_loss': 2.4973143935203552, 'val_accuracy': 0.47368421052631576, 'precision': 0.3083528292763519, 'recall': 0.47368421052631576, 'f1-score': 0.36365328181497886, 'macro_f1-score': 0.031051159524722555, 'balanced_accuracy': 0.04948097553446013, 'mcc': 0.19036395424457506, 'train_loss': 3.376734254824235}\n",
      "Epoch 2/20\n"
     ]
    },
    {
     "name": "stderr",
     "output_type": "stream",
     "text": [
      "100%|██████████| 745/745 [01:26<00:00,  8.61it/s]\n"
     ]
    },
    {
     "name": "stdout",
     "output_type": "stream",
     "text": [
      "{'val_loss': 2.6075428346308267, 'val_accuracy': 0.42028985507246375, 'precision': 0.27068815229498866, 'recall': 0.42028985507246375, 'f1-score': 0.32771132673962544, 'macro_f1-score': 0.01672616898211621, 'balanced_accuracy': 0.04884063633557151, 'mcc': 0.1356259566069334, 'train_loss': 3.277668461063564}\n",
      "Epoch 3/20\n"
     ]
    },
    {
     "name": "stderr",
     "output_type": "stream",
     "text": [
      "100%|██████████| 745/745 [01:26<00:00,  8.64it/s]\n"
     ]
    },
    {
     "name": "stdout",
     "output_type": "stream",
     "text": [
      "{'val_loss': 2.751736175723192, 'val_accuracy': 0.47063310450038137, 'precision': 0.23481855563446347, 'recall': 0.47063310450038137, 'f1-score': 0.3130125527347969, 'macro_f1-score': 0.01712956847297092, 'balanced_accuracy': 0.029998866442849426, 'mcc': 0.09286055419891709, 'train_loss': 3.3313232617090214}\n",
      "Epoch 4/20\n"
     ]
    },
    {
     "name": "stderr",
     "output_type": "stream",
     "text": [
      "100%|██████████| 745/745 [01:26<00:00,  8.62it/s]\n"
     ]
    },
    {
     "name": "stdout",
     "output_type": "stream",
     "text": [
      "{'val_loss': 2.755702691834147, 'val_accuracy': 0.47063310450038137, 'precision': 0.2214955190516669, 'recall': 0.47063310450038137, 'f1-score': 0.3012247152248292, 'macro_f1-score': 0.013334197786998616, 'balanced_accuracy': 0.020833333333333332, 'mcc': 0.0, 'train_loss': 3.3607230282469884}\n",
      "Early stopping.\n",
      "\n",
      " === microsoft/deberta-base + lstm + word2vec Final 5-fold Cross-Validation Results ===\n",
      "val_loss: 2.4234\n",
      "val_accuracy: 0.4683\n",
      "precision: 0.3589\n",
      "recall: 0.4683\n",
      "f1-score: 0.3900\n",
      "macro_f1-score: 0.0659\n",
      "balanced_accuracy: 0.0969\n",
      "mcc: 0.2210\n",
      "train_loss: 2.8669\n",
      "total_seconds: 3215.0000\n",
      "total_time: 0 hrs 53 mins 35 secs\n",
      "▶ Running: microsoft/deberta-base + bilstm + word2vec\n",
      "tokenizer is microsoft/deberta-base\n",
      "Using device: cuda\n",
      "CUDA Available: True\n",
      "CUDA Device: NVIDIA GeForce RTX 5070 Ti\n",
      "Current GPU Memory Allocated: 0.02 GB\n",
      "Current GPU Memory Cached: 5.30 GB\n",
      "\n",
      "[Fold 1]\n",
      "🚀 Using Word2Vec for data augmentation\n",
      "🔧 Augmenting label 1: 21 → 200 (+179)\n",
      "🔧 Augmenting label 2: 64 → 200 (+136)\n",
      "🔧 Augmenting label 3: 24 → 200 (+176)\n",
      "🔧 Augmenting label 4: 191 → 200 (+9)\n",
      "🔧 Augmenting label 5: 113 → 200 (+87)\n",
      "🔧 Augmenting label 6: 93 → 200 (+107)\n",
      "🔧 Augmenting label 7: 30 → 200 (+170)\n",
      "🔧 Augmenting label 8: 68 → 200 (+132)\n",
      "🔧 Augmenting label 9: 30 → 200 (+170)\n",
      "🔧 Augmenting label 10: 67 → 200 (+133)\n",
      "🔧 Augmenting label 11: 169 → 200 (+31)\n",
      "🔧 Augmenting label 12: 189 → 200 (+11)\n",
      "🔧 Augmenting label 13: 29 → 200 (+171)\n",
      "🔧 Augmenting label 14: 22 → 200 (+178)\n",
      "🔧 Augmenting label 15: 25 → 200 (+175)\n",
      "🔧 Augmenting label 16: 19 → 200 (+181)\n",
      "🔧 Augmenting label 17: 183 → 200 (+17)\n",
      "🔧 Augmenting label 18: 92 → 200 (+108)\n",
      "🔧 Augmenting label 19: 44 → 200 (+156)\n",
      "🔧 Augmenting label 20: 13 → 200 (+187)\n",
      "🔧 Augmenting label 21: 35 → 200 (+165)\n",
      "🔧 Augmenting label 22: 76 → 200 (+124)\n",
      "🔧 Augmenting label 23: 158 → 200 (+42)\n",
      "🔧 Augmenting label 24: 13 → 200 (+187)\n",
      "🔧 Augmenting label 25: 44 → 200 (+156)\n",
      "🔧 Augmenting label 26: 84 → 200 (+116)\n",
      "🔧 Augmenting label 27: 48 → 200 (+152)\n",
      "🔧 Augmenting label 28: 11 → 200 (+189)\n",
      "🔧 Augmenting label 29: 13 → 200 (+187)\n",
      "🔧 Augmenting label 30: 11 → 200 (+189)\n",
      "🔧 Augmenting label 31: 75 → 200 (+125)\n",
      "🔧 Augmenting label 32: 36 → 200 (+164)\n",
      "🔧 Augmenting label 33: 32 → 200 (+168)\n",
      "🔧 Augmenting label 34: 29 → 200 (+171)\n",
      "🔧 Augmenting label 35: 11 → 200 (+189)\n",
      "🔧 Augmenting label 36: 22 → 200 (+178)\n",
      "🔧 Augmenting label 37: 16 → 200 (+184)\n",
      "🔧 Augmenting label 38: 33 → 200 (+167)\n",
      "🔧 Augmenting label 39: 10 → 200 (+190)\n",
      "🔧 Augmenting label 40: 9 → 200 (+191)\n",
      "🔧 Augmenting label 41: 57 → 200 (+143)\n",
      "🔧 Augmenting label 42: 19 → 200 (+181)\n",
      "🔧 Augmenting label 43: 8 → 200 (+192)\n",
      "🔧 Augmenting label 44: 54 → 200 (+146)\n",
      "🔧 Augmenting label 46: 61 → 200 (+139)\n",
      "🔧 Augmenting label 47: 80 → 200 (+120)\n",
      "Label distribution after resampling:\n",
      "  label 0: 2471\n",
      "  label 1: 200\n",
      "  label 2: 200\n",
      "  label 3: 200\n",
      "  label 4: 200\n",
      "  label 5: 200\n",
      "  label 6: 200\n",
      "  label 7: 200\n",
      "  label 8: 200\n",
      "  label 9: 200\n",
      "  label 10: 200\n",
      "  label 11: 200\n",
      "  label 12: 200\n",
      "  label 13: 200\n",
      "  label 14: 200\n",
      "  label 15: 200\n",
      "  label 16: 200\n",
      "  label 17: 200\n",
      "  label 18: 200\n",
      "  label 19: 200\n",
      "  label 20: 200\n",
      "  label 21: 200\n",
      "  label 22: 200\n",
      "  label 23: 200\n",
      "  label 24: 200\n",
      "  label 25: 200\n",
      "  label 26: 200\n",
      "  label 27: 200\n",
      "  label 28: 200\n",
      "  label 29: 200\n",
      "  label 30: 200\n",
      "  label 31: 200\n",
      "  label 32: 200\n",
      "  label 33: 200\n",
      "  label 34: 200\n",
      "  label 35: 200\n",
      "  label 36: 200\n",
      "  label 37: 200\n",
      "  label 38: 200\n",
      "  label 39: 200\n",
      "  label 40: 200\n",
      "  label 41: 200\n",
      "  label 42: 200\n",
      "  label 43: 200\n",
      "  label 44: 200\n",
      "  label 45: 242\n",
      "  label 46: 200\n",
      "  label 47: 200\n",
      "model is microsoft/deberta-base bilstm\n",
      "Epoch 1/20\n"
     ]
    },
    {
     "name": "stderr",
     "output_type": "stream",
     "text": [
      "100%|██████████| 745/745 [01:31<00:00,  8.12it/s]\n"
     ]
    },
    {
     "name": "stdout",
     "output_type": "stream",
     "text": [
      "{'val_loss': 2.7110266380193755, 'val_accuracy': 0.47103658536585363, 'precision': 0.22187546475312311, 'recall': 0.47103658536585363, 'f1-score': 0.3016586629596866, 'macro_f1-score': 0.013341968911917098, 'balanced_accuracy': 0.020833333333333332, 'mcc': 0.0, 'train_loss': 3.503613520948679}\n",
      "Epoch 2/20\n"
     ]
    },
    {
     "name": "stderr",
     "output_type": "stream",
     "text": [
      "100%|██████████| 745/745 [01:32<00:00,  8.05it/s]\n"
     ]
    },
    {
     "name": "stdout",
     "output_type": "stream",
     "text": [
      "{'val_loss': 2.8430484693224836, 'val_accuracy': 0.4573170731707317, 'precision': 0.2502563661356674, 'recall': 0.4573170731707317, 'f1-score': 0.3227504211227854, 'macro_f1-score': 0.017564910689320368, 'balanced_accuracy': 0.02743729773462783, 'mcc': 0.11630206858700215, 'train_loss': 3.363762415495495}\n",
      "Epoch 3/20\n"
     ]
    },
    {
     "name": "stderr",
     "output_type": "stream",
     "text": [
      "100%|██████████| 745/745 [01:29<00:00,  8.29it/s]\n"
     ]
    },
    {
     "name": "stdout",
     "output_type": "stream",
     "text": [
      "{'val_loss': 2.730547646196877, 'val_accuracy': 0.4717987804878049, 'precision': 0.251651642325455, 'recall': 0.4717987804878049, 'f1-score': 0.32809022081967193, 'macro_f1-score': 0.01898086667749967, 'balanced_accuracy': 0.02839131607335491, 'mcc': 0.13155731880110902, 'train_loss': 3.2922305897578297}\n",
      "Epoch 4/20\n"
     ]
    },
    {
     "name": "stderr",
     "output_type": "stream",
     "text": [
      "100%|██████████| 745/745 [01:31<00:00,  8.11it/s]\n"
     ]
    },
    {
     "name": "stdout",
     "output_type": "stream",
     "text": [
      "{'val_loss': 2.936276927226927, 'val_accuracy': 0.47103658536585363, 'precision': 0.22187546475312311, 'recall': 0.47103658536585363, 'f1-score': 0.3016586629596866, 'macro_f1-score': 0.013341968911917098, 'balanced_accuracy': 0.020833333333333332, 'mcc': 0.0, 'train_loss': 3.3135381164166753}\n",
      "Epoch 5/20\n"
     ]
    },
    {
     "name": "stderr",
     "output_type": "stream",
     "text": [
      "100%|██████████| 745/745 [01:31<00:00,  8.15it/s]\n"
     ]
    },
    {
     "name": "stdout",
     "output_type": "stream",
     "text": [
      "{'val_loss': 2.885869257333802, 'val_accuracy': 0.47103658536585363, 'precision': 0.22187546475312311, 'recall': 0.47103658536585363, 'f1-score': 0.3016586629596866, 'macro_f1-score': 0.013341968911917098, 'balanced_accuracy': 0.020833333333333332, 'mcc': 0.0, 'train_loss': 3.5368259938771294}\n",
      "Epoch 6/20\n"
     ]
    },
    {
     "name": "stderr",
     "output_type": "stream",
     "text": [
      "100%|██████████| 745/745 [01:32<00:00,  8.07it/s]\n"
     ]
    },
    {
     "name": "stdout",
     "output_type": "stream",
     "text": [
      "{'val_loss': 2.872650345651115, 'val_accuracy': 0.47103658536585363, 'precision': 0.22187546475312311, 'recall': 0.47103658536585363, 'f1-score': 0.3016586629596866, 'macro_f1-score': 0.013341968911917098, 'balanced_accuracy': 0.020833333333333332, 'mcc': 0.0, 'train_loss': 3.4543808261820135}\n",
      "Early stopping.\n",
      "\n",
      "[Fold 2]\n",
      "🚀 Using Word2Vec for data augmentation\n",
      "🔧 Augmenting label 1: 22 → 200 (+178)\n",
      "🔧 Augmenting label 2: 64 → 200 (+136)\n",
      "🔧 Augmenting label 3: 24 → 200 (+176)\n",
      "🔧 Augmenting label 4: 190 → 200 (+10)\n",
      "🔧 Augmenting label 5: 113 → 200 (+87)\n",
      "🔧 Augmenting label 6: 93 → 200 (+107)\n",
      "🔧 Augmenting label 7: 30 → 200 (+170)\n",
      "🔧 Augmenting label 8: 68 → 200 (+132)\n",
      "🔧 Augmenting label 9: 30 → 200 (+170)\n",
      "🔧 Augmenting label 10: 67 → 200 (+133)\n",
      "🔧 Augmenting label 11: 169 → 200 (+31)\n",
      "🔧 Augmenting label 12: 189 → 200 (+11)\n",
      "🔧 Augmenting label 13: 29 → 200 (+171)\n",
      "🔧 Augmenting label 14: 23 → 200 (+177)\n",
      "🔧 Augmenting label 15: 24 → 200 (+176)\n",
      "🔧 Augmenting label 16: 20 → 200 (+180)\n",
      "🔧 Augmenting label 17: 182 → 200 (+18)\n",
      "🔧 Augmenting label 18: 92 → 200 (+108)\n",
      "🔧 Augmenting label 19: 44 → 200 (+156)\n",
      "🔧 Augmenting label 20: 13 → 200 (+187)\n",
      "🔧 Augmenting label 21: 36 → 200 (+164)\n",
      "🔧 Augmenting label 22: 76 → 200 (+124)\n",
      "🔧 Augmenting label 23: 157 → 200 (+43)\n",
      "🔧 Augmenting label 24: 12 → 200 (+188)\n",
      "🔧 Augmenting label 25: 44 → 200 (+156)\n",
      "🔧 Augmenting label 26: 84 → 200 (+116)\n",
      "🔧 Augmenting label 27: 48 → 200 (+152)\n",
      "🔧 Augmenting label 28: 12 → 200 (+188)\n",
      "🔧 Augmenting label 29: 12 → 200 (+188)\n",
      "🔧 Augmenting label 30: 12 → 200 (+188)\n",
      "🔧 Augmenting label 31: 75 → 200 (+125)\n",
      "🔧 Augmenting label 32: 36 → 200 (+164)\n",
      "🔧 Augmenting label 33: 31 → 200 (+169)\n",
      "🔧 Augmenting label 34: 29 → 200 (+171)\n",
      "🔧 Augmenting label 35: 12 → 200 (+188)\n",
      "🔧 Augmenting label 36: 21 → 200 (+179)\n",
      "🔧 Augmenting label 37: 16 → 200 (+184)\n",
      "🔧 Augmenting label 38: 33 → 200 (+167)\n",
      "🔧 Augmenting label 39: 11 → 200 (+189)\n",
      "🔧 Augmenting label 40: 8 → 200 (+192)\n",
      "🔧 Augmenting label 41: 57 → 200 (+143)\n",
      "🔧 Augmenting label 42: 19 → 200 (+181)\n",
      "🔧 Augmenting label 43: 9 → 200 (+191)\n",
      "🔧 Augmenting label 44: 54 → 200 (+146)\n",
      "🔧 Augmenting label 46: 62 → 200 (+138)\n",
      "🔧 Augmenting label 47: 80 → 200 (+120)\n",
      "Label distribution after resampling:\n",
      "  label 0: 2471\n",
      "  label 1: 200\n",
      "  label 2: 200\n",
      "  label 3: 200\n",
      "  label 4: 200\n",
      "  label 5: 200\n",
      "  label 6: 200\n",
      "  label 7: 200\n",
      "  label 8: 200\n",
      "  label 9: 200\n",
      "  label 10: 200\n",
      "  label 11: 200\n",
      "  label 12: 200\n",
      "  label 13: 200\n",
      "  label 14: 200\n",
      "  label 15: 200\n",
      "  label 16: 200\n",
      "  label 17: 200\n",
      "  label 18: 200\n",
      "  label 19: 200\n",
      "  label 20: 200\n",
      "  label 21: 200\n",
      "  label 22: 200\n",
      "  label 23: 200\n",
      "  label 24: 200\n",
      "  label 25: 200\n",
      "  label 26: 200\n",
      "  label 27: 200\n",
      "  label 28: 200\n",
      "  label 29: 200\n",
      "  label 30: 200\n",
      "  label 31: 200\n",
      "  label 32: 200\n",
      "  label 33: 200\n",
      "  label 34: 200\n",
      "  label 35: 200\n",
      "  label 36: 200\n",
      "  label 37: 200\n",
      "  label 38: 200\n",
      "  label 39: 200\n",
      "  label 40: 200\n",
      "  label 41: 200\n",
      "  label 42: 200\n",
      "  label 43: 200\n",
      "  label 44: 200\n",
      "  label 45: 242\n",
      "  label 46: 200\n",
      "  label 47: 200\n",
      "model is microsoft/deberta-base bilstm\n",
      "Epoch 1/20\n"
     ]
    },
    {
     "name": "stderr",
     "output_type": "stream",
     "text": [
      "100%|██████████| 745/745 [01:32<00:00,  8.09it/s]\n"
     ]
    },
    {
     "name": "stdout",
     "output_type": "stream",
     "text": [
      "{'val_loss': 2.5910333235089373, 'val_accuracy': 0.4813119755911518, 'precision': 0.36643905446967073, 'recall': 0.4813119755911518, 'f1-score': 0.39095940645021526, 'macro_f1-score': 0.046346080268689034, 'balanced_accuracy': 0.07160657866124308, 'mcc': 0.23325871574307114, 'train_loss': 3.238354133759569}\n",
      "Epoch 2/20\n"
     ]
    },
    {
     "name": "stderr",
     "output_type": "stream",
     "text": [
      "100%|██████████| 745/745 [01:31<00:00,  8.16it/s]\n"
     ]
    },
    {
     "name": "stdout",
     "output_type": "stream",
     "text": [
      "{'val_loss': 2.331315831440251, 'val_accuracy': 0.4401220442410374, 'precision': 0.4083612350921011, 'recall': 0.4401220442410374, 'f1-score': 0.41073954735952967, 'macro_f1-score': 0.055960585839135046, 'balanced_accuracy': 0.0996501081261265, 'mcc': 0.2458284737923068, 'train_loss': 2.786512717624639}\n",
      "Epoch 3/20\n"
     ]
    },
    {
     "name": "stderr",
     "output_type": "stream",
     "text": [
      "100%|██████████| 745/745 [01:32<00:00,  8.10it/s]\n"
     ]
    },
    {
     "name": "stdout",
     "output_type": "stream",
     "text": [
      "{'val_loss': 2.0903674320476813, 'val_accuracy': 0.4805491990846682, 'precision': 0.40591555412062347, 'recall': 0.4805491990846682, 'f1-score': 0.4341726945420785, 'macro_f1-score': 0.09857901547037033, 'balanced_accuracy': 0.1465274541502436, 'mcc': 0.28855376610046324, 'train_loss': 2.485938103407021}\n",
      "Epoch 4/20\n"
     ]
    },
    {
     "name": "stderr",
     "output_type": "stream",
     "text": [
      "100%|██████████| 745/745 [01:31<00:00,  8.13it/s]\n"
     ]
    },
    {
     "name": "stdout",
     "output_type": "stream",
     "text": [
      "{'val_loss': 2.014173238742642, 'val_accuracy': 0.5011441647597255, 'precision': 0.44818665728539425, 'recall': 0.5011441647597255, 'f1-score': 0.4581618691967256, 'macro_f1-score': 0.14342003765780972, 'balanced_accuracy': 0.18530140799633213, 'mcc': 0.3129679643685098, 'train_loss': 2.167657882415208}\n",
      "Epoch 5/20\n"
     ]
    },
    {
     "name": "stderr",
     "output_type": "stream",
     "text": [
      "100%|██████████| 745/745 [01:32<00:00,  8.08it/s]\n"
     ]
    },
    {
     "name": "stdout",
     "output_type": "stream",
     "text": [
      "{'val_loss': 1.9173346983223427, 'val_accuracy': 0.4996186117467582, 'precision': 0.4705460780868465, 'recall': 0.4996186117467582, 'f1-score': 0.4703010407637285, 'macro_f1-score': 0.1424457260915174, 'balanced_accuracy': 0.18994762017650743, 'mcc': 0.3248110254134317, 'train_loss': 2.014330976601415}\n",
      "Epoch 6/20\n"
     ]
    },
    {
     "name": "stderr",
     "output_type": "stream",
     "text": [
      "100%|██████████| 745/745 [01:30<00:00,  8.19it/s]\n"
     ]
    },
    {
     "name": "stdout",
     "output_type": "stream",
     "text": [
      "{'val_loss': 1.940926927618864, 'val_accuracy': 0.5011441647597255, 'precision': 0.5049906912445752, 'recall': 0.5011441647597255, 'f1-score': 0.48230325966431276, 'macro_f1-score': 0.18399432991239353, 'balanced_accuracy': 0.26601458820250085, 'mcc': 0.33214296106769325, 'train_loss': 1.759917320421078}\n",
      "Epoch 7/20\n"
     ]
    },
    {
     "name": "stderr",
     "output_type": "stream",
     "text": [
      "100%|██████████| 745/745 [01:32<00:00,  8.09it/s]\n"
     ]
    },
    {
     "name": "stdout",
     "output_type": "stream",
     "text": [
      "{'val_loss': 1.9652522693320018, 'val_accuracy': 0.5179252479023646, 'precision': 0.5224433826343408, 'recall': 0.5179252479023646, 'f1-score': 0.4977450729665747, 'macro_f1-score': 0.19254435649328458, 'balanced_accuracy': 0.2647714172723848, 'mcc': 0.35690220511751075, 'train_loss': 1.5458105669725661}\n",
      "Epoch 8/20\n"
     ]
    },
    {
     "name": "stderr",
     "output_type": "stream",
     "text": [
      "100%|██████████| 745/745 [01:31<00:00,  8.14it/s]\n"
     ]
    },
    {
     "name": "stdout",
     "output_type": "stream",
     "text": [
      "{'val_loss': 1.93721498730706, 'val_accuracy': 0.5240274599542334, 'precision': 0.5356015356544344, 'recall': 0.5240274599542334, 'f1-score': 0.509082522645526, 'macro_f1-score': 0.20941165566802022, 'balanced_accuracy': 0.259631057088673, 'mcc': 0.36206104790636057, 'train_loss': 1.340947365040747}\n",
      "Epoch 9/20\n"
     ]
    },
    {
     "name": "stderr",
     "output_type": "stream",
     "text": [
      "100%|██████████| 745/745 [01:31<00:00,  8.11it/s]\n"
     ]
    },
    {
     "name": "stdout",
     "output_type": "stream",
     "text": [
      "{'val_loss': 1.895215804257044, 'val_accuracy': 0.5125858123569794, 'precision': 0.5692054666022475, 'recall': 0.5125858123569794, 'f1-score': 0.521812649335215, 'macro_f1-score': 0.2288050847646633, 'balanced_accuracy': 0.25034010794573963, 'mcc': 0.36879259291086003, 'train_loss': 1.2151075592777072}\n",
      "Epoch 10/20\n"
     ]
    },
    {
     "name": "stderr",
     "output_type": "stream",
     "text": [
      "100%|██████████| 745/745 [01:31<00:00,  8.16it/s]\n"
     ]
    },
    {
     "name": "stdout",
     "output_type": "stream",
     "text": [
      "{'val_loss': 1.926388755804155, 'val_accuracy': 0.5194508009153318, 'precision': 0.5380147975587046, 'recall': 0.5194508009153318, 'f1-score': 0.5168177771535822, 'macro_f1-score': 0.22639031290974945, 'balanced_accuracy': 0.27255216528301385, 'mcc': 0.37126240269987376, 'train_loss': 1.0844959668265093}\n",
      "Epoch 11/20\n"
     ]
    },
    {
     "name": "stderr",
     "output_type": "stream",
     "text": [
      "100%|██████████| 745/745 [01:31<00:00,  8.10it/s]\n"
     ]
    },
    {
     "name": "stdout",
     "output_type": "stream",
     "text": [
      "{'val_loss': 2.0699232017121663, 'val_accuracy': 0.4813119755911518, 'precision': 0.5723642224555366, 'recall': 0.4813119755911518, 'f1-score': 0.5087918174669538, 'macro_f1-score': 0.24331126223799723, 'balanced_accuracy': 0.28436033197493976, 'mcc': 0.35600623229654454, 'train_loss': 0.9103234942527425}\n",
      "Epoch 12/20\n"
     ]
    },
    {
     "name": "stderr",
     "output_type": "stream",
     "text": [
      "100%|██████████| 745/745 [01:32<00:00,  8.09it/s]\n"
     ]
    },
    {
     "name": "stdout",
     "output_type": "stream",
     "text": [
      "{'val_loss': 2.145775063008797, 'val_accuracy': 0.4851258581235698, 'precision': 0.5412496370371036, 'recall': 0.4851258581235698, 'f1-score': 0.4959922266476032, 'macro_f1-score': 0.24015312670870156, 'balanced_accuracy': 0.29526100171497044, 'mcc': 0.3444418545754689, 'train_loss': 0.8788507961186787}\n",
      "Epoch 13/20\n"
     ]
    },
    {
     "name": "stderr",
     "output_type": "stream",
     "text": [
      "100%|██████████| 745/745 [01:31<00:00,  8.10it/s]\n"
     ]
    },
    {
     "name": "stdout",
     "output_type": "stream",
     "text": [
      "{'val_loss': 2.0350617257560173, 'val_accuracy': 0.5453852021357742, 'precision': 0.5720052475115177, 'recall': 0.5453852021357742, 'f1-score': 0.5453216051573052, 'macro_f1-score': 0.28722366003197836, 'balanced_accuracy': 0.32748376317560224, 'mcc': 0.40375763552384225, 'train_loss': 0.7561929454539447}\n",
      "Epoch 14/20\n"
     ]
    },
    {
     "name": "stderr",
     "output_type": "stream",
     "text": [
      "100%|██████████| 745/745 [01:32<00:00,  8.09it/s]\n"
     ]
    },
    {
     "name": "stdout",
     "output_type": "stream",
     "text": [
      "{'val_loss': 2.050039167084345, 'val_accuracy': 0.5377574370709383, 'precision': 0.5838751370863878, 'recall': 0.5377574370709383, 'f1-score': 0.5472239414972065, 'macro_f1-score': 0.30351871062429003, 'balanced_accuracy': 0.3523269801241405, 'mcc': 0.4101579414188965, 'train_loss': 0.6754525124326648}\n",
      "Epoch 15/20\n"
     ]
    },
    {
     "name": "stderr",
     "output_type": "stream",
     "text": [
      "100%|██████████| 745/745 [01:32<00:00,  8.09it/s]\n"
     ]
    },
    {
     "name": "stdout",
     "output_type": "stream",
     "text": [
      "{'val_loss': 2.223967416984279, 'val_accuracy': 0.45308924485125857, 'precision': 0.5380176133105882, 'recall': 0.45308924485125857, 'f1-score': 0.4747609322457588, 'macro_f1-score': 0.24441569378034644, 'balanced_accuracy': 0.27499587987931234, 'mcc': 0.31461963289549055, 'train_loss': 0.6203529608329671}\n",
      "Epoch 16/20\n"
     ]
    },
    {
     "name": "stderr",
     "output_type": "stream",
     "text": [
      "100%|██████████| 745/745 [01:29<00:00,  8.28it/s]\n"
     ]
    },
    {
     "name": "stdout",
     "output_type": "stream",
     "text": [
      "{'val_loss': 2.1363399203230693, 'val_accuracy': 0.513348588863463, 'precision': 0.5505797293554984, 'recall': 0.513348588863463, 'f1-score': 0.521751355300158, 'macro_f1-score': 0.2682146296180172, 'balanced_accuracy': 0.30105018520823457, 'mcc': 0.38034803233998704, 'train_loss': 0.5856114498120827}\n",
      "Epoch 17/20\n"
     ]
    },
    {
     "name": "stderr",
     "output_type": "stream",
     "text": [
      "100%|██████████| 745/745 [01:29<00:00,  8.29it/s]\n"
     ]
    },
    {
     "name": "stdout",
     "output_type": "stream",
     "text": [
      "{'val_loss': 2.144661480333747, 'val_accuracy': 0.5423340961098398, 'precision': 0.5638518673755185, 'recall': 0.5423340961098398, 'f1-score': 0.5425993689048827, 'macro_f1-score': 0.3089849030370489, 'balanced_accuracy': 0.3390710391932112, 'mcc': 0.4029751754309453, 'train_loss': 0.4910159093821609}\n",
      "Epoch 18/20\n"
     ]
    },
    {
     "name": "stderr",
     "output_type": "stream",
     "text": [
      "100%|██████████| 745/745 [01:31<00:00,  8.10it/s]\n"
     ]
    },
    {
     "name": "stdout",
     "output_type": "stream",
     "text": [
      "{'val_loss': 2.198645853414768, 'val_accuracy': 0.5461479786422578, 'precision': 0.5929707628832821, 'recall': 0.5461479786422578, 'f1-score': 0.553631190632562, 'macro_f1-score': 0.3214390179541174, 'balanced_accuracy': 0.34825351634423307, 'mcc': 0.4151714445078549, 'train_loss': 0.46263090456592154}\n",
      "Epoch 19/20\n"
     ]
    },
    {
     "name": "stderr",
     "output_type": "stream",
     "text": [
      "100%|██████████| 745/745 [01:31<00:00,  8.11it/s]\n"
     ]
    },
    {
     "name": "stdout",
     "output_type": "stream",
     "text": [
      "{'val_loss': 2.371415995970005, 'val_accuracy': 0.5034324942791762, 'precision': 0.5758160535522907, 'recall': 0.5034324942791762, 'f1-score': 0.5243444076272497, 'macro_f1-score': 0.2733408804965725, 'balanced_accuracy': 0.2929423131155804, 'mcc': 0.372527433911765, 'train_loss': 0.42813895790268913}\n",
      "Epoch 20/20\n"
     ]
    },
    {
     "name": "stderr",
     "output_type": "stream",
     "text": [
      "100%|██████████| 745/745 [01:32<00:00,  8.06it/s]\n"
     ]
    },
    {
     "name": "stdout",
     "output_type": "stream",
     "text": [
      "{'val_loss': 2.3082826428297087, 'val_accuracy': 0.5446224256292906, 'precision': 0.589490439853772, 'recall': 0.5446224256292906, 'f1-score': 0.5553613580679335, 'macro_f1-score': 0.30320202297513493, 'balanced_accuracy': 0.330386804149527, 'mcc': 0.41458282150127745, 'train_loss': 0.4153419644290569}\n",
      "\n",
      "[Fold 3]\n",
      "🚀 Using Word2Vec for data augmentation\n",
      "🔧 Augmenting label 1: 22 → 200 (+178)\n",
      "🔧 Augmenting label 2: 64 → 200 (+136)\n",
      "🔧 Augmenting label 3: 24 → 200 (+176)\n",
      "🔧 Augmenting label 4: 190 → 200 (+10)\n",
      "🔧 Augmenting label 5: 113 → 200 (+87)\n",
      "🔧 Augmenting label 6: 93 → 200 (+107)\n",
      "🔧 Augmenting label 7: 30 → 200 (+170)\n",
      "🔧 Augmenting label 8: 68 → 200 (+132)\n",
      "🔧 Augmenting label 9: 30 → 200 (+170)\n",
      "🔧 Augmenting label 10: 67 → 200 (+133)\n",
      "🔧 Augmenting label 11: 169 → 200 (+31)\n",
      "🔧 Augmenting label 12: 190 → 200 (+10)\n",
      "🔧 Augmenting label 13: 28 → 200 (+172)\n",
      "🔧 Augmenting label 14: 23 → 200 (+177)\n",
      "🔧 Augmenting label 15: 25 → 200 (+175)\n",
      "🔧 Augmenting label 16: 19 → 200 (+181)\n",
      "🔧 Augmenting label 17: 182 → 200 (+18)\n",
      "🔧 Augmenting label 18: 92 → 200 (+108)\n",
      "🔧 Augmenting label 19: 44 → 200 (+156)\n",
      "🔧 Augmenting label 20: 14 → 200 (+186)\n",
      "🔧 Augmenting label 21: 35 → 200 (+165)\n",
      "🔧 Augmenting label 22: 76 → 200 (+124)\n",
      "🔧 Augmenting label 23: 157 → 200 (+43)\n",
      "🔧 Augmenting label 24: 13 → 200 (+187)\n",
      "🔧 Augmenting label 25: 44 → 200 (+156)\n",
      "🔧 Augmenting label 26: 84 → 200 (+116)\n",
      "🔧 Augmenting label 27: 48 → 200 (+152)\n",
      "🔧 Augmenting label 28: 11 → 200 (+189)\n",
      "🔧 Augmenting label 29: 13 → 200 (+187)\n",
      "🔧 Augmenting label 30: 11 → 200 (+189)\n",
      "🔧 Augmenting label 31: 76 → 200 (+124)\n",
      "🔧 Augmenting label 32: 36 → 200 (+164)\n",
      "🔧 Augmenting label 33: 31 → 200 (+169)\n",
      "🔧 Augmenting label 34: 30 → 200 (+170)\n",
      "🔧 Augmenting label 35: 11 → 200 (+189)\n",
      "🔧 Augmenting label 36: 21 → 200 (+179)\n",
      "🔧 Augmenting label 37: 16 → 200 (+184)\n",
      "🔧 Augmenting label 38: 32 → 200 (+168)\n",
      "🔧 Augmenting label 39: 11 → 200 (+189)\n",
      "🔧 Augmenting label 40: 9 → 200 (+191)\n",
      "🔧 Augmenting label 41: 57 → 200 (+143)\n",
      "🔧 Augmenting label 42: 18 → 200 (+182)\n",
      "🔧 Augmenting label 43: 9 → 200 (+191)\n",
      "🔧 Augmenting label 44: 55 → 200 (+145)\n",
      "🔧 Augmenting label 46: 62 → 200 (+138)\n",
      "🔧 Augmenting label 47: 80 → 200 (+120)\n",
      "Label distribution after resampling:\n",
      "  label 0: 2471\n",
      "  label 1: 200\n",
      "  label 2: 200\n",
      "  label 3: 200\n",
      "  label 4: 200\n",
      "  label 5: 200\n",
      "  label 6: 200\n",
      "  label 7: 200\n",
      "  label 8: 200\n",
      "  label 9: 200\n",
      "  label 10: 200\n",
      "  label 11: 200\n",
      "  label 12: 200\n",
      "  label 13: 200\n",
      "  label 14: 200\n",
      "  label 15: 200\n",
      "  label 16: 200\n",
      "  label 17: 200\n",
      "  label 18: 200\n",
      "  label 19: 200\n",
      "  label 20: 200\n",
      "  label 21: 200\n",
      "  label 22: 200\n",
      "  label 23: 200\n",
      "  label 24: 200\n",
      "  label 25: 200\n",
      "  label 26: 200\n",
      "  label 27: 200\n",
      "  label 28: 200\n",
      "  label 29: 200\n",
      "  label 30: 200\n",
      "  label 31: 200\n",
      "  label 32: 200\n",
      "  label 33: 200\n",
      "  label 34: 200\n",
      "  label 35: 200\n",
      "  label 36: 200\n",
      "  label 37: 200\n",
      "  label 38: 200\n",
      "  label 39: 200\n",
      "  label 40: 200\n",
      "  label 41: 200\n",
      "  label 42: 200\n",
      "  label 43: 200\n",
      "  label 44: 200\n",
      "  label 45: 241\n",
      "  label 46: 200\n",
      "  label 47: 200\n",
      "model is microsoft/deberta-base bilstm\n",
      "Epoch 1/20\n"
     ]
    },
    {
     "name": "stderr",
     "output_type": "stream",
     "text": [
      "100%|██████████| 745/745 [01:31<00:00,  8.14it/s]\n"
     ]
    },
    {
     "name": "stdout",
     "output_type": "stream",
     "text": [
      "{'val_loss': 2.4140999346244625, 'val_accuracy': 0.4767353165522502, 'precision': 0.30465488731655077, 'recall': 0.4767353165522502, 'f1-score': 0.3635911144113743, 'macro_f1-score': 0.03541439880300428, 'balanced_accuracy': 0.06600068009255161, 'mcc': 0.1990573570555899, 'train_loss': 3.2391674000144803}\n",
      "Epoch 2/20\n"
     ]
    },
    {
     "name": "stderr",
     "output_type": "stream",
     "text": [
      "100%|██████████| 745/745 [01:32<00:00,  8.09it/s]\n"
     ]
    },
    {
     "name": "stdout",
     "output_type": "stream",
     "text": [
      "{'val_loss': 2.429298648747002, 'val_accuracy': 0.41723874904652936, 'precision': 0.3733362551175288, 'recall': 0.41723874904652936, 'f1-score': 0.3888205697168724, 'macro_f1-score': 0.043798374818376035, 'balanced_accuracy': 0.07787341566686624, 'mcc': 0.22197868579487928, 'train_loss': 2.819176021038286}\n",
      "Epoch 3/20\n"
     ]
    },
    {
     "name": "stderr",
     "output_type": "stream",
     "text": [
      "100%|██████████| 745/745 [01:31<00:00,  8.11it/s]\n"
     ]
    },
    {
     "name": "stdout",
     "output_type": "stream",
     "text": [
      "{'val_loss': 2.197176753020868, 'val_accuracy': 0.4416475972540046, 'precision': 0.38881542380362155, 'recall': 0.4416475972540046, 'f1-score': 0.4057911784536872, 'macro_f1-score': 0.06180322881083198, 'balanced_accuracy': 0.09966172780628069, 'mcc': 0.25288870418595805, 'train_loss': 2.544679359781662}\n",
      "Epoch 4/20\n"
     ]
    },
    {
     "name": "stderr",
     "output_type": "stream",
     "text": [
      "100%|██████████| 745/745 [01:31<00:00,  8.11it/s]\n"
     ]
    },
    {
     "name": "stdout",
     "output_type": "stream",
     "text": [
      "{'val_loss': 2.15108195964883, 'val_accuracy': 0.45614035087719296, 'precision': 0.46044042207359553, 'recall': 0.45614035087719296, 'f1-score': 0.42976039841526226, 'macro_f1-score': 0.10740858164667322, 'balanced_accuracy': 0.1587719147730626, 'mcc': 0.28099690948861283, 'train_loss': 2.2132991046713504}\n",
      "Epoch 5/20\n"
     ]
    },
    {
     "name": "stderr",
     "output_type": "stream",
     "text": [
      "100%|██████████| 745/745 [01:31<00:00,  8.16it/s]\n"
     ]
    },
    {
     "name": "stdout",
     "output_type": "stream",
     "text": [
      "{'val_loss': 2.3118422540222725, 'val_accuracy': 0.42181540808543094, 'precision': 0.3679378902576587, 'recall': 0.42181540808543094, 'f1-score': 0.3842887636759625, 'macro_f1-score': 0.08347367008672157, 'balanced_accuracy': 0.11204926018336213, 'mcc': 0.2210439246167089, 'train_loss': 2.0637797274045497}\n",
      "Epoch 6/20\n"
     ]
    },
    {
     "name": "stderr",
     "output_type": "stream",
     "text": [
      "100%|██████████| 745/745 [01:31<00:00,  8.14it/s]\n"
     ]
    },
    {
     "name": "stdout",
     "output_type": "stream",
     "text": [
      "{'val_loss': 2.1419468224048615, 'val_accuracy': 0.45308924485125857, 'precision': 0.44648034296375727, 'recall': 0.45308924485125857, 'f1-score': 0.43930742679404966, 'macro_f1-score': 0.13771728939658687, 'balanced_accuracy': 0.1787366337287436, 'mcc': 0.2867756901944785, 'train_loss': 1.9863293205331636}\n",
      "Epoch 7/20\n"
     ]
    },
    {
     "name": "stderr",
     "output_type": "stream",
     "text": [
      "100%|██████████| 745/745 [01:31<00:00,  8.11it/s]\n"
     ]
    },
    {
     "name": "stdout",
     "output_type": "stream",
     "text": [
      "{'val_loss': 2.054765884469195, 'val_accuracy': 0.4797864225781846, 'precision': 0.47449159287021125, 'recall': 0.4797864225781846, 'f1-score': 0.4646601899714661, 'macro_f1-score': 0.16162218363365904, 'balanced_accuracy': 0.19053982121591373, 'mcc': 0.3143998621430005, 'train_loss': 1.7896655214712924}\n",
      "Epoch 8/20\n"
     ]
    },
    {
     "name": "stderr",
     "output_type": "stream",
     "text": [
      "100%|██████████| 745/745 [01:31<00:00,  8.12it/s]\n"
     ]
    },
    {
     "name": "stdout",
     "output_type": "stream",
     "text": [
      "{'val_loss': 1.9989428316674582, 'val_accuracy': 0.5026697177726926, 'precision': 0.5024465108593965, 'recall': 0.5026697177726926, 'f1-score': 0.48642405627952234, 'macro_f1-score': 0.1879825825698166, 'balanced_accuracy': 0.18446957099590064, 'mcc': 0.3304813346374999, 'train_loss': 1.585176817522753}\n",
      "Epoch 9/20\n"
     ]
    },
    {
     "name": "stderr",
     "output_type": "stream",
     "text": [
      "100%|██████████| 745/745 [01:31<00:00,  8.10it/s]\n"
     ]
    },
    {
     "name": "stdout",
     "output_type": "stream",
     "text": [
      "{'val_loss': 2.1329066651623423, 'val_accuracy': 0.4492753623188406, 'precision': 0.5173535308784086, 'recall': 0.4492753623188406, 'f1-score': 0.4646250670127995, 'macro_f1-score': 0.16961137349477454, 'balanced_accuracy': 0.1816131608775021, 'mcc': 0.3033297284700839, 'train_loss': 1.55654945897576}\n",
      "Epoch 10/20\n"
     ]
    },
    {
     "name": "stderr",
     "output_type": "stream",
     "text": [
      "100%|██████████| 745/745 [01:31<00:00,  8.11it/s]\n"
     ]
    },
    {
     "name": "stdout",
     "output_type": "stream",
     "text": [
      "{'val_loss': 2.031061100523646, 'val_accuracy': 0.513348588863463, 'precision': 0.5382967109133793, 'recall': 0.513348588863463, 'f1-score': 0.5085016505550162, 'macro_f1-score': 0.22379747818205506, 'balanced_accuracy': 0.2545072913979645, 'mcc': 0.35567802563880374, 'train_loss': 1.445138751860433}\n",
      "Epoch 11/20\n"
     ]
    },
    {
     "name": "stderr",
     "output_type": "stream",
     "text": [
      "100%|██████████| 745/745 [01:31<00:00,  8.11it/s]\n"
     ]
    },
    {
     "name": "stdout",
     "output_type": "stream",
     "text": [
      "{'val_loss': 2.673309539876333, 'val_accuracy': 0.4652936689549962, 'precision': 0.29799680159790964, 'recall': 0.4652936689549962, 'f1-score': 0.33756326278807425, 'macro_f1-score': 0.06606069902363676, 'balanced_accuracy': 0.0722479278829083, 'mcc': 0.12424622332817627, 'train_loss': 1.7346698535368748}\n",
      "Epoch 12/20\n"
     ]
    },
    {
     "name": "stderr",
     "output_type": "stream",
     "text": [
      "100%|██████████| 745/745 [01:31<00:00,  8.13it/s]\n"
     ]
    },
    {
     "name": "stdout",
     "output_type": "stream",
     "text": [
      "{'val_loss': 2.287722820915827, 'val_accuracy': 0.4630053394355454, 'precision': 0.5018101229485161, 'recall': 0.4630053394355454, 'f1-score': 0.4732219738827142, 'macro_f1-score': 0.20375671144661456, 'balanced_accuracy': 0.2253783737934194, 'mcc': 0.3149645562897888, 'train_loss': 2.0425897166232936}\n",
      "Epoch 13/20\n"
     ]
    },
    {
     "name": "stderr",
     "output_type": "stream",
     "text": [
      "100%|██████████| 745/745 [01:32<00:00,  8.06it/s]\n"
     ]
    },
    {
     "name": "stdout",
     "output_type": "stream",
     "text": [
      "{'val_loss': 2.159684972065251, 'val_accuracy': 0.4767353165522502, 'precision': 0.39205907317231, 'recall': 0.4767353165522502, 'f1-score': 0.41695889190156504, 'macro_f1-score': 0.1705082003718914, 'balanced_accuracy': 0.1685683210489917, 'mcc': 0.2487772459096453, 'train_loss': 1.4599039003352992}\n",
      "Early stopping.\n",
      "\n",
      "[Fold 4]\n",
      "🚀 Using Word2Vec for data augmentation\n",
      "🔧 Augmenting label 1: 22 → 200 (+178)\n",
      "🔧 Augmenting label 2: 64 → 200 (+136)\n",
      "🔧 Augmenting label 3: 24 → 200 (+176)\n",
      "🔧 Augmenting label 4: 190 → 200 (+10)\n",
      "🔧 Augmenting label 5: 113 → 200 (+87)\n",
      "🔧 Augmenting label 6: 93 → 200 (+107)\n",
      "🔧 Augmenting label 7: 31 → 200 (+169)\n",
      "🔧 Augmenting label 8: 68 → 200 (+132)\n",
      "🔧 Augmenting label 9: 29 → 200 (+171)\n",
      "🔧 Augmenting label 10: 67 → 200 (+133)\n",
      "🔧 Augmenting label 11: 169 → 200 (+31)\n",
      "🔧 Augmenting label 12: 190 → 200 (+10)\n",
      "🔧 Augmenting label 13: 29 → 200 (+171)\n",
      "🔧 Augmenting label 14: 22 → 200 (+178)\n",
      "🔧 Augmenting label 15: 25 → 200 (+175)\n",
      "🔧 Augmenting label 16: 19 → 200 (+181)\n",
      "🔧 Augmenting label 17: 182 → 200 (+18)\n",
      "🔧 Augmenting label 18: 92 → 200 (+108)\n",
      "🔧 Augmenting label 19: 44 → 200 (+156)\n",
      "🔧 Augmenting label 20: 14 → 200 (+186)\n",
      "🔧 Augmenting label 21: 35 → 200 (+165)\n",
      "🔧 Augmenting label 22: 76 → 200 (+124)\n",
      "🔧 Augmenting label 23: 158 → 200 (+42)\n",
      "🔧 Augmenting label 24: 13 → 200 (+187)\n",
      "🔧 Augmenting label 25: 44 → 200 (+156)\n",
      "🔧 Augmenting label 26: 84 → 200 (+116)\n",
      "🔧 Augmenting label 27: 48 → 200 (+152)\n",
      "🔧 Augmenting label 28: 11 → 200 (+189)\n",
      "🔧 Augmenting label 29: 13 → 200 (+187)\n",
      "🔧 Augmenting label 30: 11 → 200 (+189)\n",
      "🔧 Augmenting label 31: 75 → 200 (+125)\n",
      "🔧 Augmenting label 32: 36 → 200 (+164)\n",
      "🔧 Augmenting label 33: 31 → 200 (+169)\n",
      "🔧 Augmenting label 34: 30 → 200 (+170)\n",
      "🔧 Augmenting label 35: 11 → 200 (+189)\n",
      "🔧 Augmenting label 36: 22 → 200 (+178)\n",
      "🔧 Augmenting label 37: 16 → 200 (+184)\n",
      "🔧 Augmenting label 38: 33 → 200 (+167)\n",
      "🔧 Augmenting label 39: 10 → 200 (+190)\n",
      "🔧 Augmenting label 40: 9 → 200 (+191)\n",
      "🔧 Augmenting label 41: 56 → 200 (+144)\n",
      "🔧 Augmenting label 42: 18 → 200 (+182)\n",
      "🔧 Augmenting label 43: 9 → 200 (+191)\n",
      "🔧 Augmenting label 44: 55 → 200 (+145)\n",
      "🔧 Augmenting label 46: 62 → 200 (+138)\n",
      "🔧 Augmenting label 47: 80 → 200 (+120)\n",
      "Label distribution after resampling:\n",
      "  label 0: 2471\n",
      "  label 1: 200\n",
      "  label 2: 200\n",
      "  label 3: 200\n",
      "  label 4: 200\n",
      "  label 5: 200\n",
      "  label 6: 200\n",
      "  label 7: 200\n",
      "  label 8: 200\n",
      "  label 9: 200\n",
      "  label 10: 200\n",
      "  label 11: 200\n",
      "  label 12: 200\n",
      "  label 13: 200\n",
      "  label 14: 200\n",
      "  label 15: 200\n",
      "  label 16: 200\n",
      "  label 17: 200\n",
      "  label 18: 200\n",
      "  label 19: 200\n",
      "  label 20: 200\n",
      "  label 21: 200\n",
      "  label 22: 200\n",
      "  label 23: 200\n",
      "  label 24: 200\n",
      "  label 25: 200\n",
      "  label 26: 200\n",
      "  label 27: 200\n",
      "  label 28: 200\n",
      "  label 29: 200\n",
      "  label 30: 200\n",
      "  label 31: 200\n",
      "  label 32: 200\n",
      "  label 33: 200\n",
      "  label 34: 200\n",
      "  label 35: 200\n",
      "  label 36: 200\n",
      "  label 37: 200\n",
      "  label 38: 200\n",
      "  label 39: 200\n",
      "  label 40: 200\n",
      "  label 41: 200\n",
      "  label 42: 200\n",
      "  label 43: 200\n",
      "  label 44: 200\n",
      "  label 45: 241\n",
      "  label 46: 200\n",
      "  label 47: 200\n",
      "model is microsoft/deberta-base bilstm\n",
      "Epoch 1/20\n"
     ]
    },
    {
     "name": "stderr",
     "output_type": "stream",
     "text": [
      "100%|██████████| 745/745 [01:32<00:00,  8.08it/s]\n"
     ]
    },
    {
     "name": "stdout",
     "output_type": "stream",
     "text": [
      "{'val_loss': 2.4201826206067714, 'val_accuracy': 0.4889397406559878, 'precision': 0.326891953046171, 'recall': 0.4889397406559878, 'f1-score': 0.38813507402156716, 'macro_f1-score': 0.039838901644800334, 'balanced_accuracy': 0.06782024039366143, 'mcc': 0.24457036563309567, 'train_loss': 3.313477019175587}\n",
      "Epoch 2/20\n"
     ]
    },
    {
     "name": "stderr",
     "output_type": "stream",
     "text": [
      "100%|██████████| 745/745 [01:31<00:00,  8.11it/s]\n"
     ]
    },
    {
     "name": "stdout",
     "output_type": "stream",
     "text": [
      "{'val_loss': 2.7002520692057725, 'val_accuracy': 0.463768115942029, 'precision': 0.2228767473034174, 'recall': 0.463768115942029, 'f1-score': 0.3010129258699849, 'macro_f1-score': 0.01572647986639451, 'balanced_accuracy': 0.026381183541377713, 'mcc': 0.011207862722483492, 'train_loss': 3.2066173787085}\n",
      "Epoch 3/20\n"
     ]
    },
    {
     "name": "stderr",
     "output_type": "stream",
     "text": [
      "100%|██████████| 745/745 [01:29<00:00,  8.36it/s]\n"
     ]
    },
    {
     "name": "stdout",
     "output_type": "stream",
     "text": [
      "{'val_loss': 2.526019737487886, 'val_accuracy': 0.4233409610983982, 'precision': 0.3034269754827469, 'recall': 0.4233409610983982, 'f1-score': 0.34616815052117744, 'macro_f1-score': 0.02591793021479061, 'balanced_accuracy': 0.04924787323072205, 'mcc': 0.1740357260358455, 'train_loss': 3.070650242959093}\n",
      "Epoch 4/20\n"
     ]
    },
    {
     "name": "stderr",
     "output_type": "stream",
     "text": [
      "100%|██████████| 745/745 [01:32<00:00,  8.09it/s]\n"
     ]
    },
    {
     "name": "stdout",
     "output_type": "stream",
     "text": [
      "{'val_loss': 2.4643581465976996, 'val_accuracy': 0.4401220442410374, 'precision': 0.33988316261225227, 'recall': 0.4401220442410374, 'f1-score': 0.37432716092683, 'macro_f1-score': 0.03494008098145424, 'balanced_accuracy': 0.07162546772022328, 'mcc': 0.20714076791301672, 'train_loss': 3.0273390158710862}\n",
      "Early stopping.\n",
      "\n",
      "[Fold 5]\n",
      "🚀 Using Word2Vec for data augmentation\n",
      "🔧 Augmenting label 1: 21 → 200 (+179)\n",
      "🔧 Augmenting label 2: 64 → 200 (+136)\n",
      "🔧 Augmenting label 3: 24 → 200 (+176)\n",
      "🔧 Augmenting label 4: 191 → 200 (+9)\n",
      "🔧 Augmenting label 5: 112 → 200 (+88)\n",
      "🔧 Augmenting label 6: 92 → 200 (+108)\n",
      "🔧 Augmenting label 7: 31 → 200 (+169)\n",
      "🔧 Augmenting label 8: 68 → 200 (+132)\n",
      "🔧 Augmenting label 9: 29 → 200 (+171)\n",
      "🔧 Augmenting label 10: 68 → 200 (+132)\n",
      "🔧 Augmenting label 11: 168 → 200 (+32)\n",
      "🔧 Augmenting label 12: 190 → 200 (+10)\n",
      "🔧 Augmenting label 13: 29 → 200 (+171)\n",
      "🔧 Augmenting label 14: 22 → 200 (+178)\n",
      "🔧 Augmenting label 15: 25 → 200 (+175)\n",
      "🔧 Augmenting label 16: 19 → 200 (+181)\n",
      "🔧 Augmenting label 17: 183 → 200 (+17)\n",
      "🔧 Augmenting label 18: 92 → 200 (+108)\n",
      "🔧 Augmenting label 19: 44 → 200 (+156)\n",
      "🔧 Augmenting label 20: 14 → 200 (+186)\n",
      "🔧 Augmenting label 21: 35 → 200 (+165)\n",
      "🔧 Augmenting label 22: 76 → 200 (+124)\n",
      "🔧 Augmenting label 23: 158 → 200 (+42)\n",
      "🔧 Augmenting label 24: 13 → 200 (+187)\n",
      "🔧 Augmenting label 25: 44 → 200 (+156)\n",
      "🔧 Augmenting label 26: 84 → 200 (+116)\n",
      "🔧 Augmenting label 27: 48 → 200 (+152)\n",
      "🔧 Augmenting label 28: 11 → 200 (+189)\n",
      "🔧 Augmenting label 29: 13 → 200 (+187)\n",
      "🔧 Augmenting label 30: 11 → 200 (+189)\n",
      "🔧 Augmenting label 31: 75 → 200 (+125)\n",
      "🔧 Augmenting label 32: 36 → 200 (+164)\n",
      "🔧 Augmenting label 33: 31 → 200 (+169)\n",
      "🔧 Augmenting label 34: 30 → 200 (+170)\n",
      "🔧 Augmenting label 35: 11 → 200 (+189)\n",
      "🔧 Augmenting label 36: 22 → 200 (+178)\n",
      "🔧 Augmenting label 37: 16 → 200 (+184)\n",
      "🔧 Augmenting label 38: 33 → 200 (+167)\n",
      "🔧 Augmenting label 39: 10 → 200 (+190)\n",
      "🔧 Augmenting label 40: 9 → 200 (+191)\n",
      "🔧 Augmenting label 41: 57 → 200 (+143)\n",
      "🔧 Augmenting label 42: 18 → 200 (+182)\n",
      "🔧 Augmenting label 43: 9 → 200 (+191)\n",
      "🔧 Augmenting label 44: 54 → 200 (+146)\n",
      "🔧 Augmenting label 46: 61 → 200 (+139)\n",
      "🔧 Augmenting label 47: 80 → 200 (+120)\n",
      "Label distribution after resampling:\n",
      "  label 0: 2472\n",
      "  label 1: 200\n",
      "  label 2: 200\n",
      "  label 3: 200\n",
      "  label 4: 200\n",
      "  label 5: 200\n",
      "  label 6: 200\n",
      "  label 7: 200\n",
      "  label 8: 200\n",
      "  label 9: 200\n",
      "  label 10: 200\n",
      "  label 11: 200\n",
      "  label 12: 200\n",
      "  label 13: 200\n",
      "  label 14: 200\n",
      "  label 15: 200\n",
      "  label 16: 200\n",
      "  label 17: 200\n",
      "  label 18: 200\n",
      "  label 19: 200\n",
      "  label 20: 200\n",
      "  label 21: 200\n",
      "  label 22: 200\n",
      "  label 23: 200\n",
      "  label 24: 200\n",
      "  label 25: 200\n",
      "  label 26: 200\n",
      "  label 27: 200\n",
      "  label 28: 200\n",
      "  label 29: 200\n",
      "  label 30: 200\n",
      "  label 31: 200\n",
      "  label 32: 200\n",
      "  label 33: 200\n",
      "  label 34: 200\n",
      "  label 35: 200\n",
      "  label 36: 200\n",
      "  label 37: 200\n",
      "  label 38: 200\n",
      "  label 39: 200\n",
      "  label 40: 200\n",
      "  label 41: 200\n",
      "  label 42: 200\n",
      "  label 43: 200\n",
      "  label 44: 200\n",
      "  label 45: 242\n",
      "  label 46: 200\n",
      "  label 47: 200\n",
      "model is microsoft/deberta-base bilstm\n",
      "Epoch 1/20\n"
     ]
    },
    {
     "name": "stderr",
     "output_type": "stream",
     "text": [
      "100%|██████████| 745/745 [01:32<00:00,  8.10it/s]\n"
     ]
    },
    {
     "name": "stdout",
     "output_type": "stream",
     "text": [
      "{'val_loss': 2.391889195616652, 'val_accuracy': 0.4622425629290618, 'precision': 0.35807362690638267, 'recall': 0.4622425629290618, 'f1-score': 0.39058782597746355, 'macro_f1-score': 0.045319325767011885, 'balanced_accuracy': 0.08490911176283948, 'mcc': 0.2309378027705175, 'train_loss': 3.2815120447402033}\n",
      "Epoch 2/20\n"
     ]
    },
    {
     "name": "stderr",
     "output_type": "stream",
     "text": [
      "100%|██████████| 745/745 [01:31<00:00,  8.16it/s]\n"
     ]
    },
    {
     "name": "stdout",
     "output_type": "stream",
     "text": [
      "{'val_loss': 2.4184302847559858, 'val_accuracy': 0.47063310450038137, 'precision': 0.3238290775853462, 'recall': 0.47063310450038137, 'f1-score': 0.3734444517742839, 'macro_f1-score': 0.032139825983103464, 'balanced_accuracy': 0.06246725279342783, 'mcc': 0.22026579794684534, 'train_loss': 3.165462947371822}\n",
      "Epoch 3/20\n"
     ]
    },
    {
     "name": "stderr",
     "output_type": "stream",
     "text": [
      "100%|██████████| 745/745 [01:31<00:00,  8.12it/s]\n"
     ]
    },
    {
     "name": "stdout",
     "output_type": "stream",
     "text": [
      "{'val_loss': 2.4701107289732955, 'val_accuracy': 0.43783371472158655, 'precision': 0.3099707698326804, 'recall': 0.43783371472158655, 'f1-score': 0.35430782420485, 'macro_f1-score': 0.02430646924993546, 'balanced_accuracy': 0.05637771946523973, 'mcc': 0.18532868995370028, 'train_loss': 3.0848217295320244}\n",
      "Epoch 4/20\n"
     ]
    },
    {
     "name": "stderr",
     "output_type": "stream",
     "text": [
      "100%|██████████| 745/745 [01:31<00:00,  8.14it/s]\n"
     ]
    },
    {
     "name": "stdout",
     "output_type": "stream",
     "text": [
      "{'val_loss': 2.3800599865797087, 'val_accuracy': 0.486651411136537, 'precision': 0.2896701856820704, 'recall': 0.486651411136537, 'f1-score': 0.36256410219942964, 'macro_f1-score': 0.02684480379208694, 'balanced_accuracy': 0.04651523629440971, 'mcc': 0.21001022790921828, 'train_loss': 3.02132900673271}\n",
      "Early stopping.\n",
      "\n",
      " === microsoft/deberta-base + bilstm + word2vec Final 5-fold Cross-Validation Results ===\n",
      "val_loss: 2.3545\n",
      "val_accuracy: 0.4965\n",
      "precision: 0.4136\n",
      "recall: 0.4965\n",
      "f1-score: 0.4338\n",
      "macro_f1-score: 0.1299\n",
      "balanced_accuracy: 0.1568\n",
      "mcc: 0.2756\n",
      "train_loss: 2.3590\n",
      "total_seconds: 4564.0000\n",
      "total_time: 1 hrs 16 mins 4 secs\n"
     ]
    }
   ],
   "source": [
    "model_list = [\"bert-base-uncased\", \"roberta-base\", \"microsoft/deberta-base\"]\n",
    "hybrid_list = [None, \"cnn\", \"lstm\", \"bilstm\"]\n",
    "resample_list = [\"word2vec\"]\n",
    "\n",
    "all_experiment_result = {}\n",
    "\n",
    "for model_name in model_list:\n",
    "    for hybrid_type in hybrid_list:\n",
    "        for resample_method in resample_list:\n",
    "            results = run_kfold_experiment(\n",
    "                X=messages, y=labels, model_name=model_name, hybrid_type=hybrid_type, resample_method=resample_method,\n",
    "                kfold=KFOLD_SPLIT, seed=SEED, epochs=EPOCHS, patience=PATIENCE, max_length=MAX_LENGTH, \n",
    "                batch_size=BATCH_SIZE, lr=LR, weight_decay=WEIGHT_DECAY, upper_cap=UPPER_CAP, lower_cap=LOWER_CAP\n",
    "            )\n",
    "\n",
    "            key = f\"{model_name} {hybrid_type if hybrid_type else 'None'} {resample_method}\"\n",
    "            all_experiment_result[key] = results"
   ]
  },
  {
   "cell_type": "code",
   "execution_count": 5,
   "id": "d799ebb4-be3b-4b29-9238-6c2a2f8256ae",
   "metadata": {},
   "outputs": [
    {
     "data": {
      "text/plain": [
       "{'bert-base-uncased None word2vec': {'val_loss': 1.8025134317576885,\n",
       "  'val_accuracy': 0.6362108379378988,\n",
       "  'precision': 0.6445248798766621,\n",
       "  'recall': 0.6362108379378988,\n",
       "  'f1-score': 0.6297438127021106,\n",
       "  'macro_f1-score': 0.42340989705207416,\n",
       "  'balanced_accuracy': 0.4203090421107129,\n",
       "  'mcc': 0.5225302206006477,\n",
       "  'train_loss': 0.259284789307643,\n",
       "  'total_seconds': 2776,\n",
       "  'total_time': '0 hrs 46 mins 16 secs'},\n",
       " 'bert-base-uncased cnn word2vec': {'val_loss': 1.7536564512587176,\n",
       "  'val_accuracy': 0.6507035915610874,\n",
       "  'precision': 0.6461891281093879,\n",
       "  'recall': 0.6507035915610874,\n",
       "  'f1-score': 0.6379069846198158,\n",
       "  'macro_f1-score': 0.43091398151085947,\n",
       "  'balanced_accuracy': 0.42771248498798053,\n",
       "  'mcc': 0.5345161233213513,\n",
       "  'train_loss': 0.18312381269016473,\n",
       "  'total_seconds': 2708,\n",
       "  'total_time': '0 hrs 45 mins 8 secs'},\n",
       " 'bert-base-uncased lstm word2vec': {'val_loss': 1.6760789960077624,\n",
       "  'val_accuracy': 0.6449081179885026,\n",
       "  'precision': 0.639296500904515,\n",
       "  'recall': 0.6449081179885026,\n",
       "  'f1-score': 0.6312719560926747,\n",
       "  'macro_f1-score': 0.42395636588794156,\n",
       "  'balanced_accuracy': 0.4176721067754757,\n",
       "  'mcc': 0.5238360296307065,\n",
       "  'train_loss': 0.2726099780806959,\n",
       "  'total_seconds': 3783,\n",
       "  'total_time': '1 hrs 3 mins 3 secs'},\n",
       " 'bert-base-uncased bilstm word2vec': {'val_loss': 1.581110463245976,\n",
       "  'val_accuracy': 0.6548230498037245,\n",
       "  'precision': 0.6458779663461451,\n",
       "  'recall': 0.6548230498037245,\n",
       "  'f1-score': 0.6382746346557898,\n",
       "  'macro_f1-score': 0.41544865228753836,\n",
       "  'balanced_accuracy': 0.4038260757324335,\n",
       "  'mcc': 0.5370076740903086,\n",
       "  'train_loss': 0.3717024606411289,\n",
       "  'total_seconds': 2894,\n",
       "  'total_time': '0 hrs 48 mins 14 secs'},\n",
       " 'roberta-base None word2vec': {'val_loss': 1.930067686627551,\n",
       "  'val_accuracy': 0.6410926075793938,\n",
       "  'precision': 0.6421231894686326,\n",
       "  'recall': 0.6410926075793938,\n",
       "  'f1-score': 0.632631532710503,\n",
       "  'macro_f1-score': 0.4181809207829444,\n",
       "  'balanced_accuracy': 0.42048004686944174,\n",
       "  'mcc': 0.5256611222782239,\n",
       "  'train_loss': 0.16356123034604794,\n",
       "  'total_seconds': 3950,\n",
       "  'total_time': '1 hrs 5 mins 50 secs'},\n",
       " 'roberta-base cnn word2vec': {'val_loss': 1.8487779184085569,\n",
       "  'val_accuracy': 0.6404833165894588,\n",
       "  'precision': 0.6444535360714669,\n",
       "  'recall': 0.6404833165894588,\n",
       "  'f1-score': 0.632460713432292,\n",
       "  'macro_f1-score': 0.4076211713018362,\n",
       "  'balanced_accuracy': 0.414615056598883,\n",
       "  'mcc': 0.5254832370318212,\n",
       "  'train_loss': 0.171211822751672,\n",
       "  'total_seconds': 3947,\n",
       "  'total_time': '1 hrs 5 mins 47 secs'},\n",
       " 'roberta-base lstm word2vec': {'val_loss': 1.6679749781038704,\n",
       "  'val_accuracy': 0.609064366244349,\n",
       "  'precision': 0.6156863490870459,\n",
       "  'recall': 0.609064366244349,\n",
       "  'f1-score': 0.592573187341329,\n",
       "  'macro_f1-score': 0.3734895373562406,\n",
       "  'balanced_accuracy': 0.39524886215884913,\n",
       "  'mcc': 0.47478052144671584,\n",
       "  'train_loss': 0.7035909059293719,\n",
       "  'total_seconds': 4394,\n",
       "  'total_time': '1 hrs 13 mins 14 secs'},\n",
       " 'roberta-base bilstm word2vec': {'val_loss': 1.8137625297395197,\n",
       "  'val_accuracy': 0.5945664964372755,\n",
       "  'precision': 0.6184563582547542,\n",
       "  'recall': 0.5945664964372755,\n",
       "  'f1-score': 0.5907749395270177,\n",
       "  'macro_f1-score': 0.38163802978198336,\n",
       "  'balanced_accuracy': 0.39512664631438443,\n",
       "  'mcc': 0.4708032966407251,\n",
       "  'train_loss': 0.4407565563297111,\n",
       "  'total_seconds': 5561,\n",
       "  'total_time': '1 hrs 32 mins 41 secs'},\n",
       " 'microsoft/deberta-base None word2vec': {'val_loss': 2.0934036982495607,\n",
       "  'val_accuracy': 0.5851072538185337,\n",
       "  'precision': 0.5506528042950922,\n",
       "  'recall': 0.5851072538185337,\n",
       "  'f1-score': 0.5500329578247646,\n",
       "  'macro_f1-score': 0.31668866554943764,\n",
       "  'balanced_accuracy': 0.3329298315615079,\n",
       "  'mcc': 0.4015215940112066,\n",
       "  'train_loss': 0.9745576804618808,\n",
       "  'total_seconds': 3167,\n",
       "  'total_time': '0 hrs 52 mins 47 secs'},\n",
       " 'microsoft/deberta-base cnn word2vec': {'val_loss': 2.21400712437746,\n",
       "  'val_accuracy': 0.6008182405908727,\n",
       "  'precision': 0.5526671717287798,\n",
       "  'recall': 0.6008182405908727,\n",
       "  'f1-score': 0.5606422834984954,\n",
       "  'macro_f1-score': 0.3288028081894071,\n",
       "  'balanced_accuracy': 0.3255115574829489,\n",
       "  'mcc': 0.4131226097471464,\n",
       "  'train_loss': 0.8305967802984402,\n",
       "  'total_seconds': 3915,\n",
       "  'total_time': '1 hrs 5 mins 15 secs'},\n",
       " 'microsoft/deberta-base lstm word2vec': {'val_loss': 2.4234181343055354,\n",
       "  'val_accuracy': 0.468274543729419,\n",
       "  'precision': 0.35891147742285484,\n",
       "  'recall': 0.468274543729419,\n",
       "  'f1-score': 0.39004067470685305,\n",
       "  'macro_f1-score': 0.0659210902126889,\n",
       "  'balanced_accuracy': 0.09685231015819415,\n",
       "  'mcc': 0.2210122657688721,\n",
       "  'train_loss': 2.8669182124233887,\n",
       "  'total_seconds': 3215,\n",
       "  'total_time': '0 hrs 53 mins 35 secs'},\n",
       " 'microsoft/deberta-base bilstm word2vec': {'val_loss': 2.354465283271743,\n",
       "  'val_accuracy': 0.4964955303157151,\n",
       "  'precision': 0.41357693921493405,\n",
       "  'recall': 0.4964955303157151,\n",
       "  'f1-score': 0.43378919240125613,\n",
       "  'macro_f1-score': 0.12987511804509685,\n",
       "  'balanced_accuracy': 0.15677629519441066,\n",
       "  'mcc': 0.2755829914702762,\n",
       "  'train_loss': 2.358997862019995,\n",
       "  'total_seconds': 4564,\n",
       "  'total_time': '1 hrs 16 mins 4 secs'}}"
      ]
     },
     "execution_count": 5,
     "metadata": {},
     "output_type": "execute_result"
    }
   ],
   "source": [
    "all_experiment_result"
   ]
  }
 ],
 "metadata": {
  "kernelspec": {
   "display_name": "Python 3 (ipykernel)",
   "language": "python",
   "name": "python3"
  },
  "language_info": {
   "codemirror_mode": {
    "name": "ipython",
    "version": 3
   },
   "file_extension": ".py",
   "mimetype": "text/x-python",
   "name": "python",
   "nbconvert_exporter": "python",
   "pygments_lexer": "ipython3",
   "version": "3.11.9"
  }
 },
 "nbformat": 4,
 "nbformat_minor": 5
}
