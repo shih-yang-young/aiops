{
 "cells": [
  {
   "cell_type": "code",
   "execution_count": 1,
   "id": "c6902def-8805-4483-a546-4ab48a7b8953",
   "metadata": {},
   "outputs": [
    {
     "data": {
      "text/html": [
       "<div>\n",
       "<style scoped>\n",
       "    .dataframe tbody tr th:only-of-type {\n",
       "        vertical-align: middle;\n",
       "    }\n",
       "\n",
       "    .dataframe tbody tr th {\n",
       "        vertical-align: top;\n",
       "    }\n",
       "\n",
       "    .dataframe thead th {\n",
       "        text-align: right;\n",
       "    }\n",
       "</style>\n",
       "<table border=\"1\" class=\"dataframe\">\n",
       "  <thead>\n",
       "    <tr style=\"text-align: right;\">\n",
       "      <th></th>\n",
       "      <th>Inbound Message</th>\n",
       "      <th>Label</th>\n",
       "    </tr>\n",
       "  </thead>\n",
       "  <tbody>\n",
       "    <tr>\n",
       "      <th>0</th>\n",
       "      <td>login issue verified user details employee man...</td>\n",
       "      <td>0</td>\n",
       "    </tr>\n",
       "    <tr>\n",
       "      <th>1</th>\n",
       "      <td>outlook hello team meetings skype meetings etc...</td>\n",
       "      <td>0</td>\n",
       "    </tr>\n",
       "    <tr>\n",
       "      <th>2</th>\n",
       "      <td>cant log vpn cannot log vpn best</td>\n",
       "      <td>0</td>\n",
       "    </tr>\n",
       "    <tr>\n",
       "      <th>3</th>\n",
       "      <td>unable access tool page unable access tool page</td>\n",
       "      <td>0</td>\n",
       "    </tr>\n",
       "    <tr>\n",
       "      <th>4</th>\n",
       "      <td>skype error skype error</td>\n",
       "      <td>0</td>\n",
       "    </tr>\n",
       "    <tr>\n",
       "      <th>...</th>\n",
       "      <td>...</td>\n",
       "      <td>...</td>\n",
       "    </tr>\n",
       "    <tr>\n",
       "      <th>8449</th>\n",
       "      <td>emails coming mail good afternoon receiving em...</td>\n",
       "      <td>22</td>\n",
       "    </tr>\n",
       "    <tr>\n",
       "      <th>8450</th>\n",
       "      <td>telephony software issue telephony software issue</td>\n",
       "      <td>0</td>\n",
       "    </tr>\n",
       "    <tr>\n",
       "      <th>8451</th>\n",
       "      <td>vip windows password reset tifpdchb pedxruyf v...</td>\n",
       "      <td>0</td>\n",
       "    </tr>\n",
       "    <tr>\n",
       "      <th>8452</th>\n",
       "      <td>machine est funcionando unable access machine ...</td>\n",
       "      <td>44</td>\n",
       "    </tr>\n",
       "    <tr>\n",
       "      <th>8453</th>\n",
       "      <td>mehreren lassen sich verschiedene prgramdntyme...</td>\n",
       "      <td>49</td>\n",
       "    </tr>\n",
       "  </tbody>\n",
       "</table>\n",
       "<p>8454 rows × 2 columns</p>\n",
       "</div>"
      ],
      "text/plain": [
       "                                        Inbound Message  Label\n",
       "0     login issue verified user details employee man...      0\n",
       "1     outlook hello team meetings skype meetings etc...      0\n",
       "2                      cant log vpn cannot log vpn best      0\n",
       "3       unable access tool page unable access tool page      0\n",
       "4                               skype error skype error      0\n",
       "...                                                 ...    ...\n",
       "8449  emails coming mail good afternoon receiving em...     22\n",
       "8450  telephony software issue telephony software issue      0\n",
       "8451  vip windows password reset tifpdchb pedxruyf v...      0\n",
       "8452  machine est funcionando unable access machine ...     44\n",
       "8453  mehreren lassen sich verschiedene prgramdntyme...     49\n",
       "\n",
       "[8454 rows x 2 columns]"
      ]
     },
     "execution_count": 1,
     "metadata": {},
     "output_type": "execute_result"
    }
   ],
   "source": [
    "import pandas as pd\n",
    "data_path = \"../../data/open_source_8454_combine_short_description.csv\"\n",
    "df = pd.read_csv(data_path)\n",
    "# df_label_0 = df[df[\"Label\"] == 0]\n",
    "# df_label_0_to_drop = df_label_0.sample(n=3000, random_state=42)\n",
    "# df = df.drop(df_label_0_to_drop.index)\n",
    "df"
   ]
  },
  {
   "cell_type": "code",
   "execution_count": 2,
   "id": "8a523c41-9917-42ad-9920-021c2d567bf2",
   "metadata": {},
   "outputs": [
    {
     "name": "stderr",
     "output_type": "stream",
     "text": [
      "c:\\Users\\user\\AppData\\Local\\Programs\\Python\\Python310\\lib\\site-packages\\tqdm\\auto.py:21: TqdmWarning: IProgress not found. Please update jupyter and ipywidgets. See https://ipywidgets.readthedocs.io/en/stable/user_install.html\n",
      "  from .autonotebook import tqdm as notebook_tqdm\n"
     ]
    }
   ],
   "source": [
    "import sys\n",
    "import os\n",
    "sys.path.append(os.path.abspath('../ml_lib'))\n",
    "\n",
    "from config import *\n",
    "from experiment import run_kfold_experiment"
   ]
  },
  {
   "cell_type": "code",
   "execution_count": 3,
   "id": "0042fdaa-0d1e-4925-a831-51d69b623c54",
   "metadata": {},
   "outputs": [],
   "source": [
    "messages, labels = df['Inbound Message'].tolist(), df['Label'].tolist()"
   ]
  },
  {
   "cell_type": "code",
   "execution_count": 4,
   "id": "f9a1f7b1-5c13-4312-959c-24cae1a028e8",
   "metadata": {},
   "outputs": [
    {
     "name": "stdout",
     "output_type": "stream",
     "text": [
      "▶ Running: bert-base-uncased + plain + word2vec\n",
      "tokenizer is bert-base-uncased\n",
      "Using device: cuda\n",
      "CUDA Available: True\n",
      "CUDA Device: NVIDIA GeForce RTX 5070 Ti\n",
      "Current GPU Memory Allocated: 0.00 GB\n",
      "Current GPU Memory Cached: 0.00 GB\n",
      "\n",
      "[Fold 1]\n",
      "🚀 Using Word2Vec for data augmentation\n",
      "🔧 Augmenting label 1: 25 → 200 (+175)\n",
      "🔧 Augmenting label 2: 112 → 200 (+88)\n",
      "🔧 Augmenting label 3: 24 → 200 (+176)\n",
      "🔧 Augmenting label 5: 116 → 200 (+84)\n",
      "🔧 Augmenting label 6: 95 → 200 (+105)\n",
      "🔧 Augmenting label 7: 31 → 200 (+169)\n",
      "🔧 Augmenting label 8: 68 → 200 (+132)\n",
      "🔧 Augmenting label 9: 65 → 200 (+135)\n",
      "🔧 Augmenting label 10: 70 → 200 (+130)\n",
      "🔧 Augmenting label 11: 172 → 200 (+28)\n",
      "🔧 Augmenting label 12: 193 → 200 (+7)\n",
      "🔧 Augmenting label 13: 29 → 200 (+171)\n",
      "🔧 Augmenting label 14: 23 → 200 (+177)\n",
      "🔧 Augmenting label 15: 25 → 200 (+175)\n",
      "🔧 Augmenting label 16: 20 → 200 (+180)\n",
      "🔧 Augmenting label 18: 93 → 200 (+107)\n",
      "🔧 Augmenting label 19: 45 → 200 (+155)\n",
      "🔧 Augmenting label 20: 14 → 200 (+186)\n",
      "🔧 Augmenting label 21: 35 → 200 (+165)\n",
      "🔧 Augmenting label 22: 78 → 200 (+122)\n",
      "🔧 Augmenting label 23: 160 → 200 (+40)\n",
      "🔧 Augmenting label 24: 16 → 200 (+184)\n",
      "🔧 Augmenting label 25: 50 → 200 (+150)\n",
      "🔧 Augmenting label 26: 86 → 200 (+114)\n",
      "🔧 Augmenting label 27: 49 → 200 (+151)\n",
      "🔧 Augmenting label 28: 12 → 200 (+188)\n",
      "🔧 Augmenting label 29: 13 → 200 (+187)\n",
      "🔧 Augmenting label 30: 15 → 200 (+185)\n",
      "🔧 Augmenting label 31: 80 → 200 (+120)\n",
      "🔧 Augmenting label 32: 36 → 200 (+164)\n",
      "🔧 Augmenting label 33: 32 → 200 (+168)\n",
      "🔧 Augmenting label 34: 30 → 200 (+170)\n",
      "🔧 Augmenting label 35: 12 → 200 (+188)\n",
      "🔧 Augmenting label 36: 28 → 200 (+172)\n",
      "🔧 Augmenting label 37: 21 → 200 (+179)\n",
      "🔧 Augmenting label 38: 6 → 200 (+194)\n",
      "🔧 Augmenting label 39: 103 → 200 (+97)\n",
      "🔧 Augmenting label 40: 12 → 200 (+188)\n",
      "🔧 Augmenting label 41: 8 → 200 (+192)\n",
      "🔧 Augmenting label 42: 147 → 200 (+53)\n",
      "🔧 Augmenting label 43: 16 → 200 (+184)\n",
      "🔧 Augmenting label 44: 20 → 200 (+180)\n",
      "🔧 Augmenting label 45: 9 → 200 (+191)\n",
      "🔧 Augmenting label 46: 54 → 200 (+146)\n",
      "🔧 Augmenting label 49: 69 → 200 (+131)\n",
      "Label distribution after resampling:\n",
      "  label 0: 3179\n",
      "  label 1: 200\n",
      "  label 2: 200\n",
      "  label 3: 200\n",
      "  label 4: 205\n",
      "  label 5: 200\n",
      "  label 6: 200\n",
      "  label 7: 200\n",
      "  label 8: 200\n",
      "  label 9: 200\n",
      "  label 10: 200\n",
      "  label 11: 200\n",
      "  label 12: 200\n",
      "  label 13: 200\n",
      "  label 14: 200\n",
      "  label 15: 200\n",
      "  label 16: 200\n",
      "  label 17: 231\n",
      "  label 18: 200\n",
      "  label 19: 200\n",
      "  label 20: 200\n",
      "  label 21: 200\n",
      "  label 22: 200\n",
      "  label 23: 200\n",
      "  label 24: 200\n",
      "  label 25: 200\n",
      "  label 26: 200\n",
      "  label 27: 200\n",
      "  label 28: 200\n",
      "  label 29: 200\n",
      "  label 30: 200\n",
      "  label 31: 200\n",
      "  label 32: 200\n",
      "  label 33: 200\n",
      "  label 34: 200\n",
      "  label 35: 200\n",
      "  label 36: 200\n",
      "  label 37: 200\n",
      "  label 38: 200\n",
      "  label 39: 200\n",
      "  label 40: 200\n",
      "  label 41: 200\n",
      "  label 42: 200\n",
      "  label 43: 200\n",
      "  label 44: 200\n",
      "  label 45: 200\n",
      "  label 46: 200\n",
      "  label 47: 529\n",
      "  label 48: 202\n",
      "  label 49: 200\n",
      "model is bert-base-uncased\n"
     ]
    },
    {
     "name": "stderr",
     "output_type": "stream",
     "text": [
      "Some weights of BertForSequenceClassification were not initialized from the model checkpoint at bert-base-uncased and are newly initialized: ['classifier.bias', 'classifier.weight']\n",
      "You should probably TRAIN this model on a down-stream task to be able to use it for predictions and inference.\n"
     ]
    },
    {
     "name": "stdout",
     "output_type": "stream",
     "text": [
      "Epoch 1/20\n"
     ]
    },
    {
     "name": "stderr",
     "output_type": "stream",
     "text": [
      "100%|██████████| 835/835 [01:10<00:00, 11.86it/s]\n"
     ]
    },
    {
     "name": "stdout",
     "output_type": "stream",
     "text": [
      "{'val_loss': 1.38465763993983, 'val_accuracy': 0.625665286812537, 'precision': 0.5608830846796166, 'recall': 0.625665286812537, 'f1-score': 0.5606883648635335, 'macro_f1-score': 0.3109593031562899, 'balanced_accuracy': 0.34868999288074565, 'mcc': 0.4846770464892956, 'train_loss': 2.122520210857163}\n",
      "Epoch 2/20\n"
     ]
    },
    {
     "name": "stderr",
     "output_type": "stream",
     "text": [
      "100%|██████████| 835/835 [01:10<00:00, 11.79it/s]\n"
     ]
    },
    {
     "name": "stdout",
     "output_type": "stream",
     "text": [
      "{'val_loss': 1.316428781961495, 'val_accuracy': 0.6587817859254879, 'precision': 0.6710596329938853, 'recall': 0.6587817859254879, 'f1-score': 0.6483765277728067, 'macro_f1-score': 0.3966698198333617, 'balanced_accuracy': 0.41710912127767763, 'mcc': 0.5528850456421868, 'train_loss': 0.7866146481679586}\n",
      "Epoch 3/20\n"
     ]
    },
    {
     "name": "stderr",
     "output_type": "stream",
     "text": [
      "100%|██████████| 835/835 [01:10<00:00, 11.82it/s]\n"
     ]
    },
    {
     "name": "stdout",
     "output_type": "stream",
     "text": [
      "{'val_loss': 1.3121067530141686, 'val_accuracy': 0.6800709639266707, 'precision': 0.6797514221705494, 'recall': 0.6800709639266707, 'f1-score': 0.6645764257745084, 'macro_f1-score': 0.40967843276206956, 'balanced_accuracy': 0.40002812375504004, 'mcc': 0.574644146372315, 'train_loss': 0.4238407236953338}\n",
      "Epoch 4/20\n"
     ]
    },
    {
     "name": "stderr",
     "output_type": "stream",
     "text": [
      "100%|██████████| 835/835 [01:10<00:00, 11.81it/s]\n"
     ]
    },
    {
     "name": "stdout",
     "output_type": "stream",
     "text": [
      "{'val_loss': 1.5045211201287665, 'val_accuracy': 0.654642223536369, 'precision': 0.6578720764783605, 'recall': 0.654642223536369, 'f1-score': 0.63883167381169, 'macro_f1-score': 0.38042870749977686, 'balanced_accuracy': 0.38512588335385106, 'mcc': 0.5389124204277451, 'train_loss': 0.2887332676391223}\n",
      "Epoch 5/20\n"
     ]
    },
    {
     "name": "stderr",
     "output_type": "stream",
     "text": [
      "100%|██████████| 835/835 [01:10<00:00, 11.81it/s]\n"
     ]
    },
    {
     "name": "stdout",
     "output_type": "stream",
     "text": [
      "{'val_loss': 1.5201244601663553, 'val_accuracy': 0.6658781785925488, 'precision': 0.6928920995148529, 'recall': 0.6658781785925488, 'f1-score': 0.6531012253069166, 'macro_f1-score': 0.4138653218888184, 'balanced_accuracy': 0.4138347857748548, 'mcc': 0.5567857907972353, 'train_loss': 0.2229025585443049}\n",
      "Epoch 6/20\n"
     ]
    },
    {
     "name": "stderr",
     "output_type": "stream",
     "text": [
      "100%|██████████| 835/835 [01:10<00:00, 11.79it/s]\n"
     ]
    },
    {
     "name": "stdout",
     "output_type": "stream",
     "text": [
      "{'val_loss': 1.7105070268208127, 'val_accuracy': 0.6682436428149024, 'precision': 0.6743692295745538, 'recall': 0.6682436428149024, 'f1-score': 0.6508003230923836, 'macro_f1-score': 0.44056983113482673, 'balanced_accuracy': 0.4307175875104925, 'mcc': 0.5542019720169267, 'train_loss': 0.20443398352087794}\n",
      "Epoch 7/20\n"
     ]
    },
    {
     "name": "stderr",
     "output_type": "stream",
     "text": [
      "100%|██████████| 835/835 [01:10<00:00, 11.80it/s]\n"
     ]
    },
    {
     "name": "stdout",
     "output_type": "stream",
     "text": [
      "{'val_loss': 1.765276109553733, 'val_accuracy': 0.6688350088704909, 'precision': 0.6557502210110818, 'recall': 0.6688350088704909, 'f1-score': 0.6423905379328482, 'macro_f1-score': 0.39687996192511626, 'balanced_accuracy': 0.3894456749742526, 'mcc': 0.5505192971466687, 'train_loss': 0.20055147710418006}\n",
      "Epoch 8/20\n"
     ]
    },
    {
     "name": "stderr",
     "output_type": "stream",
     "text": [
      "100%|██████████| 835/835 [01:10<00:00, 11.80it/s]\n"
     ]
    },
    {
     "name": "stdout",
     "output_type": "stream",
     "text": [
      "{'val_loss': 1.8407001048326492, 'val_accuracy': 0.657599053814311, 'precision': 0.6778576448659622, 'recall': 0.657599053814311, 'f1-score': 0.651022200825452, 'macro_f1-score': 0.4115381437381987, 'balanced_accuracy': 0.42544420649093007, 'mcc': 0.5494275470759874, 'train_loss': 0.16655719382186493}\n",
      "Epoch 9/20\n"
     ]
    },
    {
     "name": "stderr",
     "output_type": "stream",
     "text": [
      "100%|██████████| 835/835 [01:10<00:00, 11.81it/s]\n"
     ]
    },
    {
     "name": "stdout",
     "output_type": "stream",
     "text": [
      "{'val_loss': 1.8279073790840383, 'val_accuracy': 0.6623299822590183, 'precision': 0.6609644406780308, 'recall': 0.6623299822590183, 'f1-score': 0.649714201744691, 'macro_f1-score': 0.3982207037095688, 'balanced_accuracy': 0.380399241710694, 'mcc': 0.5517273021498333, 'train_loss': 0.17353765552662714}\n",
      "Early stopping.\n",
      "\n",
      "[Fold 2]\n",
      "🚀 Using Word2Vec for data augmentation\n",
      "🔧 Augmenting label 1: 25 → 200 (+175)\n",
      "🔧 Augmenting label 2: 112 → 200 (+88)\n",
      "🔧 Augmenting label 3: 24 → 200 (+176)\n",
      "🔧 Augmenting label 5: 116 → 200 (+84)\n",
      "🔧 Augmenting label 6: 94 → 200 (+106)\n",
      "🔧 Augmenting label 7: 31 → 200 (+169)\n",
      "🔧 Augmenting label 8: 68 → 200 (+132)\n",
      "🔧 Augmenting label 9: 65 → 200 (+135)\n",
      "🔧 Augmenting label 10: 70 → 200 (+130)\n",
      "🔧 Augmenting label 11: 172 → 200 (+28)\n",
      "🔧 Augmenting label 12: 193 → 200 (+7)\n",
      "🔧 Augmenting label 13: 29 → 200 (+171)\n",
      "🔧 Augmenting label 14: 23 → 200 (+177)\n",
      "🔧 Augmenting label 15: 25 → 200 (+175)\n",
      "🔧 Augmenting label 16: 20 → 200 (+180)\n",
      "🔧 Augmenting label 18: 93 → 200 (+107)\n",
      "🔧 Augmenting label 19: 45 → 200 (+155)\n",
      "🔧 Augmenting label 20: 14 → 200 (+186)\n",
      "🔧 Augmenting label 21: 35 → 200 (+165)\n",
      "🔧 Augmenting label 22: 78 → 200 (+122)\n",
      "🔧 Augmenting label 23: 160 → 200 (+40)\n",
      "🔧 Augmenting label 24: 16 → 200 (+184)\n",
      "🔧 Augmenting label 25: 50 → 200 (+150)\n",
      "🔧 Augmenting label 26: 86 → 200 (+114)\n",
      "🔧 Augmenting label 27: 49 → 200 (+151)\n",
      "🔧 Augmenting label 28: 12 → 200 (+188)\n",
      "🔧 Augmenting label 29: 13 → 200 (+187)\n",
      "🔧 Augmenting label 30: 15 → 200 (+185)\n",
      "🔧 Augmenting label 31: 80 → 200 (+120)\n",
      "🔧 Augmenting label 32: 36 → 200 (+164)\n",
      "🔧 Augmenting label 33: 32 → 200 (+168)\n",
      "🔧 Augmenting label 34: 30 → 200 (+170)\n",
      "🔧 Augmenting label 35: 12 → 200 (+188)\n",
      "🔧 Augmenting label 36: 28 → 200 (+172)\n",
      "🔧 Augmenting label 37: 22 → 200 (+178)\n",
      "🔧 Augmenting label 38: 5 → 200 (+195)\n",
      "🔧 Augmenting label 39: 103 → 200 (+97)\n",
      "🔧 Augmenting label 40: 11 → 200 (+189)\n",
      "🔧 Augmenting label 41: 9 → 200 (+191)\n",
      "🔧 Augmenting label 42: 147 → 200 (+53)\n",
      "🔧 Augmenting label 43: 16 → 200 (+184)\n",
      "🔧 Augmenting label 44: 20 → 200 (+180)\n",
      "🔧 Augmenting label 45: 9 → 200 (+191)\n",
      "🔧 Augmenting label 46: 55 → 200 (+145)\n",
      "🔧 Augmenting label 49: 69 → 200 (+131)\n",
      "Label distribution after resampling:\n",
      "  label 0: 3179\n",
      "  label 1: 200\n",
      "  label 2: 200\n",
      "  label 3: 200\n",
      "  label 4: 206\n",
      "  label 5: 200\n",
      "  label 6: 200\n",
      "  label 7: 200\n",
      "  label 8: 200\n",
      "  label 9: 200\n",
      "  label 10: 200\n",
      "  label 11: 200\n",
      "  label 12: 200\n",
      "  label 13: 200\n",
      "  label 14: 200\n",
      "  label 15: 200\n",
      "  label 16: 200\n",
      "  label 17: 231\n",
      "  label 18: 200\n",
      "  label 19: 200\n",
      "  label 20: 200\n",
      "  label 21: 200\n",
      "  label 22: 200\n",
      "  label 23: 200\n",
      "  label 24: 200\n",
      "  label 25: 200\n",
      "  label 26: 200\n",
      "  label 27: 200\n",
      "  label 28: 200\n",
      "  label 29: 200\n",
      "  label 30: 200\n",
      "  label 31: 200\n",
      "  label 32: 200\n",
      "  label 33: 200\n",
      "  label 34: 200\n",
      "  label 35: 200\n",
      "  label 36: 200\n",
      "  label 37: 200\n",
      "  label 38: 200\n",
      "  label 39: 200\n",
      "  label 40: 200\n",
      "  label 41: 200\n",
      "  label 42: 200\n",
      "  label 43: 200\n",
      "  label 44: 200\n",
      "  label 45: 200\n",
      "  label 46: 200\n",
      "  label 47: 528\n",
      "  label 48: 202\n",
      "  label 49: 200\n",
      "model is bert-base-uncased\n"
     ]
    },
    {
     "name": "stderr",
     "output_type": "stream",
     "text": [
      "Some weights of BertForSequenceClassification were not initialized from the model checkpoint at bert-base-uncased and are newly initialized: ['classifier.bias', 'classifier.weight']\n",
      "You should probably TRAIN this model on a down-stream task to be able to use it for predictions and inference.\n"
     ]
    },
    {
     "name": "stdout",
     "output_type": "stream",
     "text": [
      "Epoch 1/20\n"
     ]
    },
    {
     "name": "stderr",
     "output_type": "stream",
     "text": [
      "100%|██████████| 835/835 [01:10<00:00, 11.78it/s]\n"
     ]
    },
    {
     "name": "stdout",
     "output_type": "stream",
     "text": [
      "{'val_loss': 1.5046139831812877, 'val_accuracy': 0.6132465996451804, 'precision': 0.6375784149456996, 'recall': 0.6132465996451804, 'f1-score': 0.5817963325830038, 'macro_f1-score': 0.30588139740714443, 'balanced_accuracy': 0.3650984934689031, 'mcc': 0.47940521574695333, 'train_loss': 2.1902042626620766}\n",
      "Epoch 2/20\n"
     ]
    },
    {
     "name": "stderr",
     "output_type": "stream",
     "text": [
      "100%|██████████| 835/835 [01:10<00:00, 11.79it/s]\n"
     ]
    },
    {
     "name": "stdout",
     "output_type": "stream",
     "text": [
      "{'val_loss': 1.3172491965991147, 'val_accuracy': 0.6570076877587226, 'precision': 0.6740964755724268, 'recall': 0.6570076877587226, 'f1-score': 0.648642618751589, 'macro_f1-score': 0.4292726567924749, 'balanced_accuracy': 0.4483788625370878, 'mcc': 0.5506388999390465, 'train_loss': 0.9099655990115183}\n",
      "Epoch 3/20\n"
     ]
    },
    {
     "name": "stderr",
     "output_type": "stream",
     "text": [
      "100%|██████████| 835/835 [01:10<00:00, 11.82it/s]\n"
     ]
    },
    {
     "name": "stdout",
     "output_type": "stream",
     "text": [
      "{'val_loss': 1.4174150374700438, 'val_accuracy': 0.6788882318154937, 'precision': 0.6884754126847822, 'recall': 0.6788882318154937, 'f1-score': 0.6534825128441399, 'macro_f1-score': 0.41227702688819845, 'balanced_accuracy': 0.4004106301838993, 'mcc': 0.5661435775039588, 'train_loss': 0.5062734734824674}\n",
      "Epoch 4/20\n"
     ]
    },
    {
     "name": "stderr",
     "output_type": "stream",
     "text": [
      "100%|██████████| 835/835 [01:10<00:00, 11.83it/s]\n"
     ]
    },
    {
     "name": "stdout",
     "output_type": "stream",
     "text": [
      "{'val_loss': 1.4985974951172776, 'val_accuracy': 0.644589000591366, 'precision': 0.6802671342980177, 'recall': 0.644589000591366, 'f1-score': 0.6510769025460936, 'macro_f1-score': 0.43033469580127104, 'balanced_accuracy': 0.4420702142809261, 'mcc': 0.5504209317536551, 'train_loss': 0.3239799589052529}\n",
      "Epoch 5/20\n"
     ]
    },
    {
     "name": "stderr",
     "output_type": "stream",
     "text": [
      "100%|██████████| 835/835 [01:10<00:00, 11.84it/s]\n"
     ]
    },
    {
     "name": "stdout",
     "output_type": "stream",
     "text": [
      "{'val_loss': 1.5746315423891228, 'val_accuracy': 0.6706091070372561, 'precision': 0.6790653938084887, 'recall': 0.6706091070372561, 'f1-score': 0.6617125059532638, 'macro_f1-score': 0.41717931281962317, 'balanced_accuracy': 0.4120540733903566, 'mcc': 0.560704970298286, 'train_loss': 0.2590721383099695}\n",
      "Epoch 6/20\n"
     ]
    },
    {
     "name": "stderr",
     "output_type": "stream",
     "text": [
      "100%|██████████| 835/835 [01:10<00:00, 11.81it/s]\n"
     ]
    },
    {
     "name": "stdout",
     "output_type": "stream",
     "text": [
      "{'val_loss': 1.705332692361103, 'val_accuracy': 0.6635127143701951, 'precision': 0.6599957765274599, 'recall': 0.6635127143701951, 'f1-score': 0.6457278087478573, 'macro_f1-score': 0.41720664885744463, 'balanced_accuracy': 0.41961138752462673, 'mcc': 0.5477064870159289, 'train_loss': 0.21718325289022067}\n",
      "Epoch 7/20\n"
     ]
    },
    {
     "name": "stderr",
     "output_type": "stream",
     "text": [
      "100%|██████████| 835/835 [01:10<00:00, 11.80it/s]\n"
     ]
    },
    {
     "name": "stdout",
     "output_type": "stream",
     "text": [
      "{'val_loss': 1.7062180677674852, 'val_accuracy': 0.6652868125369604, 'precision': 0.6848586741641133, 'recall': 0.6652868125369604, 'f1-score': 0.6599879201867186, 'macro_f1-score': 0.4164399441685521, 'balanced_accuracy': 0.42994810576862297, 'mcc': 0.5594696674771701, 'train_loss': 0.2089840683561867}\n",
      "Early stopping.\n",
      "\n",
      "[Fold 3]\n",
      "🚀 Using Word2Vec for data augmentation\n",
      "🔧 Augmenting label 1: 25 → 200 (+175)\n",
      "🔧 Augmenting label 2: 112 → 200 (+88)\n",
      "🔧 Augmenting label 3: 24 → 200 (+176)\n",
      "🔧 Augmenting label 5: 116 → 200 (+84)\n",
      "🔧 Augmenting label 6: 94 → 200 (+106)\n",
      "🔧 Augmenting label 7: 31 → 200 (+169)\n",
      "🔧 Augmenting label 8: 68 → 200 (+132)\n",
      "🔧 Augmenting label 9: 65 → 200 (+135)\n",
      "🔧 Augmenting label 10: 71 → 200 (+129)\n",
      "🔧 Augmenting label 11: 172 → 200 (+28)\n",
      "🔧 Augmenting label 12: 192 → 200 (+8)\n",
      "🔧 Augmenting label 13: 29 → 200 (+171)\n",
      "🔧 Augmenting label 14: 23 → 200 (+177)\n",
      "🔧 Augmenting label 15: 25 → 200 (+175)\n",
      "🔧 Augmenting label 16: 20 → 200 (+180)\n",
      "🔧 Augmenting label 18: 93 → 200 (+107)\n",
      "🔧 Augmenting label 19: 45 → 200 (+155)\n",
      "🔧 Augmenting label 20: 14 → 200 (+186)\n",
      "🔧 Augmenting label 21: 36 → 200 (+164)\n",
      "🔧 Augmenting label 22: 77 → 200 (+123)\n",
      "🔧 Augmenting label 23: 160 → 200 (+40)\n",
      "🔧 Augmenting label 24: 16 → 200 (+184)\n",
      "🔧 Augmenting label 25: 51 → 200 (+149)\n",
      "🔧 Augmenting label 26: 85 → 200 (+115)\n",
      "🔧 Augmenting label 27: 49 → 200 (+151)\n",
      "🔧 Augmenting label 28: 12 → 200 (+188)\n",
      "🔧 Augmenting label 29: 12 → 200 (+188)\n",
      "🔧 Augmenting label 30: 16 → 200 (+184)\n",
      "🔧 Augmenting label 31: 80 → 200 (+120)\n",
      "🔧 Augmenting label 32: 36 → 200 (+164)\n",
      "🔧 Augmenting label 33: 32 → 200 (+168)\n",
      "🔧 Augmenting label 34: 29 → 200 (+171)\n",
      "🔧 Augmenting label 35: 12 → 200 (+188)\n",
      "🔧 Augmenting label 36: 28 → 200 (+172)\n",
      "🔧 Augmenting label 37: 22 → 200 (+178)\n",
      "🔧 Augmenting label 38: 5 → 200 (+195)\n",
      "🔧 Augmenting label 39: 103 → 200 (+97)\n",
      "🔧 Augmenting label 40: 11 → 200 (+189)\n",
      "🔧 Augmenting label 41: 9 → 200 (+191)\n",
      "🔧 Augmenting label 42: 147 → 200 (+53)\n",
      "🔧 Augmenting label 43: 16 → 200 (+184)\n",
      "🔧 Augmenting label 44: 20 → 200 (+180)\n",
      "🔧 Augmenting label 45: 9 → 200 (+191)\n",
      "🔧 Augmenting label 46: 55 → 200 (+145)\n",
      "🔧 Augmenting label 49: 70 → 200 (+130)\n",
      "Label distribution after resampling:\n",
      "  label 0: 3179\n",
      "  label 1: 200\n",
      "  label 2: 200\n",
      "  label 3: 200\n",
      "  label 4: 206\n",
      "  label 5: 200\n",
      "  label 6: 200\n",
      "  label 7: 200\n",
      "  label 8: 200\n",
      "  label 9: 200\n",
      "  label 10: 200\n",
      "  label 11: 200\n",
      "  label 12: 200\n",
      "  label 13: 200\n",
      "  label 14: 200\n",
      "  label 15: 200\n",
      "  label 16: 200\n",
      "  label 17: 231\n",
      "  label 18: 200\n",
      "  label 19: 200\n",
      "  label 20: 200\n",
      "  label 21: 200\n",
      "  label 22: 200\n",
      "  label 23: 200\n",
      "  label 24: 200\n",
      "  label 25: 200\n",
      "  label 26: 200\n",
      "  label 27: 200\n",
      "  label 28: 200\n",
      "  label 29: 200\n",
      "  label 30: 200\n",
      "  label 31: 200\n",
      "  label 32: 200\n",
      "  label 33: 200\n",
      "  label 34: 200\n",
      "  label 35: 200\n",
      "  label 36: 200\n",
      "  label 37: 200\n",
      "  label 38: 200\n",
      "  label 39: 200\n",
      "  label 40: 200\n",
      "  label 41: 200\n",
      "  label 42: 200\n",
      "  label 43: 200\n",
      "  label 44: 200\n",
      "  label 45: 200\n",
      "  label 46: 200\n",
      "  label 47: 529\n",
      "  label 48: 201\n",
      "  label 49: 200\n",
      "model is bert-base-uncased\n"
     ]
    },
    {
     "name": "stderr",
     "output_type": "stream",
     "text": [
      "Some weights of BertForSequenceClassification were not initialized from the model checkpoint at bert-base-uncased and are newly initialized: ['classifier.bias', 'classifier.weight']\n",
      "You should probably TRAIN this model on a down-stream task to be able to use it for predictions and inference.\n"
     ]
    },
    {
     "name": "stdout",
     "output_type": "stream",
     "text": [
      "Epoch 1/20\n"
     ]
    },
    {
     "name": "stderr",
     "output_type": "stream",
     "text": [
      "100%|██████████| 835/835 [01:10<00:00, 11.80it/s]\n"
     ]
    },
    {
     "name": "stdout",
     "output_type": "stream",
     "text": [
      "{'val_loss': 1.3825191371845749, 'val_accuracy': 0.6327616794795978, 'precision': 0.6109877548717793, 'recall': 0.6327616794795978, 'f1-score': 0.5810564619863445, 'macro_f1-score': 0.33331396500436744, 'balanced_accuracy': 0.35600581800060427, 'mcc': 0.4933143865644201, 'train_loss': 2.1848073279786253}\n",
      "Epoch 2/20\n"
     ]
    },
    {
     "name": "stderr",
     "output_type": "stream",
     "text": [
      "100%|██████████| 835/835 [01:10<00:00, 11.82it/s]\n"
     ]
    },
    {
     "name": "stdout",
     "output_type": "stream",
     "text": [
      "{'val_loss': 1.2694495269712411, 'val_accuracy': 0.6510940272028386, 'precision': 0.6316937850424016, 'recall': 0.6510940272028386, 'f1-score': 0.6262707709721504, 'macro_f1-score': 0.3797398400922981, 'balanced_accuracy': 0.3741896153154577, 'mcc': 0.5337655548468873, 'train_loss': 0.8361300045501686}\n",
      "Epoch 3/20\n"
     ]
    },
    {
     "name": "stderr",
     "output_type": "stream",
     "text": [
      "100%|██████████| 835/835 [01:10<00:00, 11.81it/s]\n"
     ]
    },
    {
     "name": "stdout",
     "output_type": "stream",
     "text": [
      "{'val_loss': 1.3256770962814115, 'val_accuracy': 0.6741573033707865, 'precision': 0.6690133157243962, 'recall': 0.6741573033707865, 'f1-score': 0.6547805977953777, 'macro_f1-score': 0.4174558227050065, 'balanced_accuracy': 0.40450860273726996, 'mcc': 0.5659344100068752, 'train_loss': 0.42379177189069595}\n",
      "Epoch 4/20\n"
     ]
    },
    {
     "name": "stderr",
     "output_type": "stream",
     "text": [
      "100%|██████████| 835/835 [01:10<00:00, 11.80it/s]\n"
     ]
    },
    {
     "name": "stdout",
     "output_type": "stream",
     "text": [
      "{'val_loss': 1.444022922302192, 'val_accuracy': 0.654642223536369, 'precision': 0.6731549756908339, 'recall': 0.654642223536369, 'f1-score': 0.643757058542573, 'macro_f1-score': 0.3891639732580582, 'balanced_accuracy': 0.3843957773822375, 'mcc': 0.5456600067888886, 'train_loss': 0.2873190680485286}\n",
      "Epoch 5/20\n"
     ]
    },
    {
     "name": "stderr",
     "output_type": "stream",
     "text": [
      "100%|██████████| 835/835 [01:10<00:00, 11.82it/s]\n"
     ]
    },
    {
     "name": "stdout",
     "output_type": "stream",
     "text": [
      "{'val_loss': 1.6622574571168647, 'val_accuracy': 0.6463630987581312, 'precision': 0.6452606523848413, 'recall': 0.6463630987581312, 'f1-score': 0.6280484114041303, 'macro_f1-score': 0.3734123610017365, 'balanced_accuracy': 0.3748434630760841, 'mcc': 0.5296081028925309, 'train_loss': 0.2309454505593923}\n",
      "Epoch 6/20\n"
     ]
    },
    {
     "name": "stderr",
     "output_type": "stream",
     "text": [
      "100%|██████████| 835/835 [01:10<00:00, 11.81it/s]\n"
     ]
    },
    {
     "name": "stdout",
     "output_type": "stream",
     "text": [
      "{'val_loss': 1.6555999452775378, 'val_accuracy': 0.6641040804257835, 'precision': 0.6566559771389605, 'recall': 0.6641040804257835, 'f1-score': 0.649074734582256, 'macro_f1-score': 0.3882659557969385, 'balanced_accuracy': 0.38806137921081196, 'mcc': 0.5498074435724165, 'train_loss': 0.2056046857576661}\n",
      "Early stopping.\n",
      "\n",
      "[Fold 4]\n",
      "🚀 Using Word2Vec for data augmentation\n",
      "🔧 Augmenting label 1: 25 → 200 (+175)\n",
      "🔧 Augmenting label 2: 112 → 200 (+88)\n",
      "🔧 Augmenting label 3: 24 → 200 (+176)\n",
      "🔧 Augmenting label 5: 116 → 200 (+84)\n",
      "🔧 Augmenting label 6: 94 → 200 (+106)\n",
      "🔧 Augmenting label 7: 32 → 200 (+168)\n",
      "🔧 Augmenting label 8: 68 → 200 (+132)\n",
      "🔧 Augmenting label 9: 64 → 200 (+136)\n",
      "🔧 Augmenting label 10: 71 → 200 (+129)\n",
      "🔧 Augmenting label 11: 172 → 200 (+28)\n",
      "🔧 Augmenting label 12: 193 → 200 (+7)\n",
      "🔧 Augmenting label 13: 28 → 200 (+172)\n",
      "🔧 Augmenting label 14: 24 → 200 (+176)\n",
      "🔧 Augmenting label 15: 24 → 200 (+176)\n",
      "🔧 Augmenting label 16: 20 → 200 (+180)\n",
      "🔧 Augmenting label 18: 92 → 200 (+108)\n",
      "🔧 Augmenting label 19: 45 → 200 (+155)\n",
      "🔧 Augmenting label 20: 15 → 200 (+185)\n",
      "🔧 Augmenting label 21: 35 → 200 (+165)\n",
      "🔧 Augmenting label 22: 77 → 200 (+123)\n",
      "🔧 Augmenting label 23: 160 → 200 (+40)\n",
      "🔧 Augmenting label 24: 16 → 200 (+184)\n",
      "🔧 Augmenting label 25: 51 → 200 (+149)\n",
      "🔧 Augmenting label 26: 85 → 200 (+115)\n",
      "🔧 Augmenting label 27: 49 → 200 (+151)\n",
      "🔧 Augmenting label 28: 12 → 200 (+188)\n",
      "🔧 Augmenting label 29: 13 → 200 (+187)\n",
      "🔧 Augmenting label 30: 15 → 200 (+185)\n",
      "🔧 Augmenting label 31: 80 → 200 (+120)\n",
      "🔧 Augmenting label 32: 36 → 200 (+164)\n",
      "🔧 Augmenting label 33: 32 → 200 (+168)\n",
      "🔧 Augmenting label 34: 29 → 200 (+171)\n",
      "🔧 Augmenting label 35: 12 → 200 (+188)\n",
      "🔧 Augmenting label 36: 28 → 200 (+172)\n",
      "🔧 Augmenting label 37: 22 → 200 (+178)\n",
      "🔧 Augmenting label 38: 6 → 200 (+194)\n",
      "🔧 Augmenting label 39: 103 → 200 (+97)\n",
      "🔧 Augmenting label 40: 11 → 200 (+189)\n",
      "🔧 Augmenting label 41: 9 → 200 (+191)\n",
      "🔧 Augmenting label 42: 148 → 200 (+52)\n",
      "🔧 Augmenting label 43: 16 → 200 (+184)\n",
      "🔧 Augmenting label 44: 20 → 200 (+180)\n",
      "🔧 Augmenting label 45: 8 → 200 (+192)\n",
      "🔧 Augmenting label 46: 54 → 200 (+146)\n",
      "🔧 Augmenting label 49: 70 → 200 (+130)\n",
      "Label distribution after resampling:\n",
      "  label 0: 3179\n",
      "  label 1: 200\n",
      "  label 2: 200\n",
      "  label 3: 200\n",
      "  label 4: 206\n",
      "  label 5: 200\n",
      "  label 6: 200\n",
      "  label 7: 200\n",
      "  label 8: 200\n",
      "  label 9: 200\n",
      "  label 10: 200\n",
      "  label 11: 200\n",
      "  label 12: 200\n",
      "  label 13: 200\n",
      "  label 14: 200\n",
      "  label 15: 200\n",
      "  label 16: 200\n",
      "  label 17: 232\n",
      "  label 18: 200\n",
      "  label 19: 200\n",
      "  label 20: 200\n",
      "  label 21: 200\n",
      "  label 22: 200\n",
      "  label 23: 200\n",
      "  label 24: 200\n",
      "  label 25: 200\n",
      "  label 26: 200\n",
      "  label 27: 200\n",
      "  label 28: 200\n",
      "  label 29: 200\n",
      "  label 30: 200\n",
      "  label 31: 200\n",
      "  label 32: 200\n",
      "  label 33: 200\n",
      "  label 34: 200\n",
      "  label 35: 200\n",
      "  label 36: 200\n",
      "  label 37: 200\n",
      "  label 38: 200\n",
      "  label 39: 200\n",
      "  label 40: 200\n",
      "  label 41: 200\n",
      "  label 42: 200\n",
      "  label 43: 200\n",
      "  label 44: 200\n",
      "  label 45: 200\n",
      "  label 46: 200\n",
      "  label 47: 529\n",
      "  label 48: 201\n",
      "  label 49: 200\n",
      "model is bert-base-uncased\n"
     ]
    },
    {
     "name": "stderr",
     "output_type": "stream",
     "text": [
      "Some weights of BertForSequenceClassification were not initialized from the model checkpoint at bert-base-uncased and are newly initialized: ['classifier.bias', 'classifier.weight']\n",
      "You should probably TRAIN this model on a down-stream task to be able to use it for predictions and inference.\n"
     ]
    },
    {
     "name": "stdout",
     "output_type": "stream",
     "text": [
      "Epoch 1/20\n"
     ]
    },
    {
     "name": "stderr",
     "output_type": "stream",
     "text": [
      "100%|██████████| 835/835 [01:10<00:00, 11.81it/s]\n"
     ]
    },
    {
     "name": "stdout",
     "output_type": "stream",
     "text": [
      "{'val_loss': 1.33613731473122, 'val_accuracy': 0.6369012418687168, 'precision': 0.5923267937653728, 'recall': 0.6369012418687168, 'f1-score': 0.5850823669735724, 'macro_f1-score': 0.3585571985270327, 'balanced_accuracy': 0.38126137228754103, 'mcc': 0.4985763188856021, 'train_loss': 2.1202932828557706}\n",
      "Epoch 2/20\n"
     ]
    },
    {
     "name": "stderr",
     "output_type": "stream",
     "text": [
      "100%|██████████| 835/835 [01:10<00:00, 11.77it/s]\n"
     ]
    },
    {
     "name": "stdout",
     "output_type": "stream",
     "text": [
      "{'val_loss': 1.3226386693851002, 'val_accuracy': 0.6410408042578356, 'precision': 0.6519056491615877, 'recall': 0.6410408042578356, 'f1-score': 0.6192704129109798, 'macro_f1-score': 0.39210138463705596, 'balanced_accuracy': 0.4229879562586119, 'mcc': 0.5176031397174554, 'train_loss': 0.8115170540477701}\n",
      "Epoch 3/20\n"
     ]
    },
    {
     "name": "stderr",
     "output_type": "stream",
     "text": [
      "100%|██████████| 835/835 [01:11<00:00, 11.74it/s]\n"
     ]
    },
    {
     "name": "stdout",
     "output_type": "stream",
     "text": [
      "{'val_loss': 1.345890277680361, 'val_accuracy': 0.6883500887049083, 'precision': 0.6625445480905371, 'recall': 0.6883500887049083, 'f1-score': 0.6568278991429597, 'macro_f1-score': 0.41215505029580723, 'balanced_accuracy': 0.39439796873663935, 'mcc': 0.5746384581966759, 'train_loss': 0.4357370993155919}\n",
      "Epoch 4/20\n"
     ]
    },
    {
     "name": "stderr",
     "output_type": "stream",
     "text": [
      "100%|██████████| 835/835 [01:10<00:00, 11.77it/s]\n"
     ]
    },
    {
     "name": "stdout",
     "output_type": "stream",
     "text": [
      "{'val_loss': 1.4225250642816976, 'val_accuracy': 0.6706091070372561, 'precision': 0.6808954241549409, 'recall': 0.6706091070372561, 'f1-score': 0.663203891572085, 'macro_f1-score': 0.42259208654175756, 'balanced_accuracy': 0.44910446066657816, 'mcc': 0.5746540118448422, 'train_loss': 0.30232296791485325}\n",
      "Epoch 5/20\n"
     ]
    },
    {
     "name": "stderr",
     "output_type": "stream",
     "text": [
      "100%|██████████| 835/835 [01:10<00:00, 11.82it/s]\n"
     ]
    },
    {
     "name": "stdout",
     "output_type": "stream",
     "text": [
      "{'val_loss': 1.4669644115668423, 'val_accuracy': 0.6777054997043169, 'precision': 0.6767480648464941, 'recall': 0.6777054997043169, 'f1-score': 0.6604811405212685, 'macro_f1-score': 0.4138055940925062, 'balanced_accuracy': 0.4021973865090539, 'mcc': 0.5694437862465348, 'train_loss': 0.23005151442938043}\n",
      "Epoch 6/20\n"
     ]
    },
    {
     "name": "stderr",
     "output_type": "stream",
     "text": [
      "100%|██████████| 835/835 [01:11<00:00, 11.76it/s]\n"
     ]
    },
    {
     "name": "stdout",
     "output_type": "stream",
     "text": [
      "{'val_loss': 1.5832896912997623, 'val_accuracy': 0.6818450620934359, 'precision': 0.6834407708322849, 'recall': 0.6818450620934359, 'f1-score': 0.6609444878296648, 'macro_f1-score': 0.41719588039335576, 'balanced_accuracy': 0.3962039465160993, 'mcc': 0.5742264274453716, 'train_loss': 0.22637325264513491}\n",
      "Epoch 7/20\n"
     ]
    },
    {
     "name": "stderr",
     "output_type": "stream",
     "text": [
      "100%|██████████| 835/835 [01:10<00:00, 11.77it/s]\n"
     ]
    },
    {
     "name": "stdout",
     "output_type": "stream",
     "text": [
      "{'val_loss': 1.6319597363471985, 'val_accuracy': 0.6611472501478415, 'precision': 0.6675524363718855, 'recall': 0.6611472501478415, 'f1-score': 0.6436156592980758, 'macro_f1-score': 0.3939898349120221, 'balanced_accuracy': 0.3775195859888295, 'mcc': 0.5453343399724226, 'train_loss': 0.1813575284923622}\n",
      "Early stopping.\n",
      "\n",
      "[Fold 5]\n",
      "🚀 Using Word2Vec for data augmentation\n",
      "🔧 Augmenting label 1: 24 → 200 (+176)\n",
      "🔧 Augmenting label 2: 112 → 200 (+88)\n",
      "🔧 Augmenting label 3: 24 → 200 (+176)\n",
      "🔧 Augmenting label 5: 116 → 200 (+84)\n",
      "🔧 Augmenting label 6: 95 → 200 (+105)\n",
      "🔧 Augmenting label 7: 31 → 200 (+169)\n",
      "🔧 Augmenting label 8: 68 → 200 (+132)\n",
      "🔧 Augmenting label 9: 65 → 200 (+135)\n",
      "🔧 Augmenting label 10: 70 → 200 (+130)\n",
      "🔧 Augmenting label 11: 172 → 200 (+28)\n",
      "🔧 Augmenting label 12: 193 → 200 (+7)\n",
      "🔧 Augmenting label 13: 29 → 200 (+171)\n",
      "🔧 Augmenting label 14: 23 → 200 (+177)\n",
      "🔧 Augmenting label 15: 25 → 200 (+175)\n",
      "🔧 Augmenting label 16: 20 → 200 (+180)\n",
      "🔧 Augmenting label 18: 93 → 200 (+107)\n",
      "🔧 Augmenting label 19: 44 → 200 (+156)\n",
      "🔧 Augmenting label 20: 15 → 200 (+185)\n",
      "🔧 Augmenting label 21: 35 → 200 (+165)\n",
      "🔧 Augmenting label 22: 78 → 200 (+122)\n",
      "🔧 Augmenting label 23: 160 → 200 (+40)\n",
      "🔧 Augmenting label 24: 16 → 200 (+184)\n",
      "🔧 Augmenting label 25: 50 → 200 (+150)\n",
      "🔧 Augmenting label 26: 86 → 200 (+114)\n",
      "🔧 Augmenting label 27: 48 → 200 (+152)\n",
      "🔧 Augmenting label 28: 12 → 200 (+188)\n",
      "🔧 Augmenting label 29: 13 → 200 (+187)\n",
      "🔧 Augmenting label 30: 15 → 200 (+185)\n",
      "🔧 Augmenting label 31: 80 → 200 (+120)\n",
      "🔧 Augmenting label 32: 36 → 200 (+164)\n",
      "🔧 Augmenting label 33: 32 → 200 (+168)\n",
      "🔧 Augmenting label 34: 30 → 200 (+170)\n",
      "🔧 Augmenting label 35: 12 → 200 (+188)\n",
      "🔧 Augmenting label 36: 28 → 200 (+172)\n",
      "🔧 Augmenting label 37: 21 → 200 (+179)\n",
      "🔧 Augmenting label 38: 6 → 200 (+194)\n",
      "🔧 Augmenting label 39: 104 → 200 (+96)\n",
      "🔧 Augmenting label 40: 11 → 200 (+189)\n",
      "🔧 Augmenting label 41: 9 → 200 (+191)\n",
      "🔧 Augmenting label 42: 147 → 200 (+53)\n",
      "🔧 Augmenting label 43: 16 → 200 (+184)\n",
      "🔧 Augmenting label 44: 20 → 200 (+180)\n",
      "🔧 Augmenting label 45: 9 → 200 (+191)\n",
      "🔧 Augmenting label 46: 54 → 200 (+146)\n",
      "🔧 Augmenting label 49: 70 → 200 (+130)\n",
      "Label distribution after resampling:\n",
      "  label 0: 3180\n",
      "  label 1: 200\n",
      "  label 2: 200\n",
      "  label 3: 200\n",
      "  label 4: 205\n",
      "  label 5: 200\n",
      "  label 6: 200\n",
      "  label 7: 200\n",
      "  label 8: 200\n",
      "  label 9: 200\n",
      "  label 10: 200\n",
      "  label 11: 200\n",
      "  label 12: 200\n",
      "  label 13: 200\n",
      "  label 14: 200\n",
      "  label 15: 200\n",
      "  label 16: 200\n",
      "  label 17: 231\n",
      "  label 18: 200\n",
      "  label 19: 200\n",
      "  label 20: 200\n",
      "  label 21: 200\n",
      "  label 22: 200\n",
      "  label 23: 200\n",
      "  label 24: 200\n",
      "  label 25: 200\n",
      "  label 26: 200\n",
      "  label 27: 200\n",
      "  label 28: 200\n",
      "  label 29: 200\n",
      "  label 30: 200\n",
      "  label 31: 200\n",
      "  label 32: 200\n",
      "  label 33: 200\n",
      "  label 34: 200\n",
      "  label 35: 200\n",
      "  label 36: 200\n",
      "  label 37: 200\n",
      "  label 38: 200\n",
      "  label 39: 200\n",
      "  label 40: 200\n",
      "  label 41: 200\n",
      "  label 42: 200\n",
      "  label 43: 200\n",
      "  label 44: 200\n",
      "  label 45: 200\n",
      "  label 46: 200\n",
      "  label 47: 529\n",
      "  label 48: 202\n",
      "  label 49: 200\n",
      "model is bert-base-uncased\n"
     ]
    },
    {
     "name": "stderr",
     "output_type": "stream",
     "text": [
      "Some weights of BertForSequenceClassification were not initialized from the model checkpoint at bert-base-uncased and are newly initialized: ['classifier.bias', 'classifier.weight']\n",
      "You should probably TRAIN this model on a down-stream task to be able to use it for predictions and inference.\n"
     ]
    },
    {
     "name": "stdout",
     "output_type": "stream",
     "text": [
      "Epoch 1/20\n"
     ]
    },
    {
     "name": "stderr",
     "output_type": "stream",
     "text": [
      "100%|██████████| 835/835 [01:10<00:00, 11.78it/s]\n"
     ]
    },
    {
     "name": "stdout",
     "output_type": "stream",
     "text": [
      "{'val_loss': 1.374551407008801, 'val_accuracy': 0.6473372781065089, 'precision': 0.604972796385695, 'recall': 0.6473372781065089, 'f1-score': 0.5960286418098936, 'macro_f1-score': 0.34240025053414075, 'balanced_accuracy': 0.36193654912172896, 'mcc': 0.5122731787664032, 'train_loss': 2.1012752809924278}\n",
      "Epoch 2/20\n"
     ]
    },
    {
     "name": "stderr",
     "output_type": "stream",
     "text": [
      "100%|██████████| 835/835 [01:10<00:00, 11.82it/s]\n"
     ]
    },
    {
     "name": "stdout",
     "output_type": "stream",
     "text": [
      "{'val_loss': 1.2516838790110822, 'val_accuracy': 0.6692307692307692, 'precision': 0.6620332892214893, 'recall': 0.6692307692307692, 'f1-score': 0.6481090986874506, 'macro_f1-score': 0.3917113477295958, 'balanced_accuracy': 0.40246754971057486, 'mcc': 0.5583580689740419, 'train_loss': 0.7946664378448518}\n",
      "Epoch 3/20\n"
     ]
    },
    {
     "name": "stderr",
     "output_type": "stream",
     "text": [
      "100%|██████████| 835/835 [01:10<00:00, 11.81it/s]\n"
     ]
    },
    {
     "name": "stdout",
     "output_type": "stream",
     "text": [
      "{'val_loss': 1.4067380861291345, 'val_accuracy': 0.670414201183432, 'precision': 0.6549145026445018, 'recall': 0.670414201183432, 'f1-score': 0.6437094290738063, 'macro_f1-score': 0.3545597951012114, 'balanced_accuracy': 0.33671577533597963, 'mcc': 0.5552776742313013, 'train_loss': 0.4230693202309623}\n",
      "Epoch 4/20\n"
     ]
    },
    {
     "name": "stderr",
     "output_type": "stream",
     "text": [
      "100%|██████████| 835/835 [01:10<00:00, 11.79it/s]\n"
     ]
    },
    {
     "name": "stdout",
     "output_type": "stream",
     "text": [
      "{'val_loss': 1.414661465950732, 'val_accuracy': 0.6792899408284023, 'precision': 0.682443990660198, 'recall': 0.6792899408284023, 'f1-score': 0.6668173315794441, 'macro_f1-score': 0.3894423422421243, 'balanced_accuracy': 0.388193992186846, 'mcc': 0.5772985131125183, 'train_loss': 0.2724177369580208}\n",
      "Epoch 5/20\n"
     ]
    },
    {
     "name": "stderr",
     "output_type": "stream",
     "text": [
      "100%|██████████| 835/835 [01:10<00:00, 11.78it/s]\n"
     ]
    },
    {
     "name": "stdout",
     "output_type": "stream",
     "text": [
      "{'val_loss': 1.4458645684820302, 'val_accuracy': 0.6857988165680473, 'precision': 0.6989978878906549, 'recall': 0.6857988165680473, 'f1-score': 0.6779519714048663, 'macro_f1-score': 0.41290786761269943, 'balanced_accuracy': 0.4037567473126189, 'mcc': 0.578285145994675, 'train_loss': 0.22990986997942012}\n",
      "Epoch 6/20\n"
     ]
    },
    {
     "name": "stderr",
     "output_type": "stream",
     "text": [
      "100%|██████████| 835/835 [01:10<00:00, 11.81it/s]\n"
     ]
    },
    {
     "name": "stdout",
     "output_type": "stream",
     "text": [
      "{'val_loss': 1.550155132306072, 'val_accuracy': 0.6763313609467455, 'precision': 0.6600683448007069, 'recall': 0.6763313609467455, 'f1-score': 0.6539062515545995, 'macro_f1-score': 0.400022188602307, 'balanced_accuracy': 0.3794227570409532, 'mcc': 0.5654153926155634, 'train_loss': 0.20785306067021933}\n",
      "Epoch 7/20\n"
     ]
    },
    {
     "name": "stderr",
     "output_type": "stream",
     "text": [
      "100%|██████████| 835/835 [01:10<00:00, 11.81it/s]\n"
     ]
    },
    {
     "name": "stdout",
     "output_type": "stream",
     "text": [
      "{'val_loss': 1.6858382538523313, 'val_accuracy': 0.685207100591716, 'precision': 0.6791210361116458, 'recall': 0.685207100591716, 'f1-score': 0.6550125942415937, 'macro_f1-score': 0.37633036530346536, 'balanced_accuracy': 0.3468491944712237, 'mcc': 0.5738374893473667, 'train_loss': 0.186969502203858}\n",
      "Epoch 8/20\n"
     ]
    },
    {
     "name": "stderr",
     "output_type": "stream",
     "text": [
      "100%|██████████| 835/835 [01:10<00:00, 11.80it/s]\n"
     ]
    },
    {
     "name": "stdout",
     "output_type": "stream",
     "text": [
      "{'val_loss': 1.6209137857944336, 'val_accuracy': 0.6863905325443787, 'precision': 0.6889414479681819, 'recall': 0.6863905325443787, 'f1-score': 0.6718433280262242, 'macro_f1-score': 0.39468352297734655, 'balanced_accuracy': 0.39363317015463567, 'mcc': 0.5866519377490593, 'train_loss': 0.18224070820187827}\n",
      "Early stopping.\n",
      "\n",
      " === bert-base-uncased + plain + word2vec Final 5-fold Cross-Validation Results ===\n",
      "Total time: 2829 seconds\n",
      "Total time: 0 hrs 47 mins 9 secs\n",
      "val_loss: 1.4806\n",
      "val_accuracy: 0.6687\n",
      "precision: 0.6807\n",
      "recall: 0.6687\n",
      "f1-score: 0.6596\n",
      "macro_f1-score: 0.4248\n",
      "balanced_accuracy: 0.4260\n",
      "mcc: 0.5647\n",
      "train_loss: 0.2969\n",
      "▶ Running: bert-base-uncased + lstm + word2vec\n",
      "tokenizer is bert-base-uncased\n",
      "Using device: cuda\n",
      "CUDA Available: True\n",
      "CUDA Device: NVIDIA GeForce RTX 5070 Ti\n",
      "Current GPU Memory Allocated: 0.02 GB\n",
      "Current GPU Memory Cached: 3.14 GB\n",
      "\n",
      "[Fold 1]\n",
      "🚀 Using Word2Vec for data augmentation\n",
      "🔧 Augmenting label 1: 25 → 200 (+175)\n",
      "🔧 Augmenting label 2: 112 → 200 (+88)\n",
      "🔧 Augmenting label 3: 24 → 200 (+176)\n",
      "🔧 Augmenting label 5: 116 → 200 (+84)\n",
      "🔧 Augmenting label 6: 95 → 200 (+105)\n",
      "🔧 Augmenting label 7: 31 → 200 (+169)\n",
      "🔧 Augmenting label 8: 68 → 200 (+132)\n",
      "🔧 Augmenting label 9: 65 → 200 (+135)\n",
      "🔧 Augmenting label 10: 70 → 200 (+130)\n",
      "🔧 Augmenting label 11: 172 → 200 (+28)\n",
      "🔧 Augmenting label 12: 193 → 200 (+7)\n",
      "🔧 Augmenting label 13: 29 → 200 (+171)\n",
      "🔧 Augmenting label 14: 23 → 200 (+177)\n",
      "🔧 Augmenting label 15: 25 → 200 (+175)\n",
      "🔧 Augmenting label 16: 20 → 200 (+180)\n",
      "🔧 Augmenting label 18: 93 → 200 (+107)\n",
      "🔧 Augmenting label 19: 45 → 200 (+155)\n",
      "🔧 Augmenting label 20: 14 → 200 (+186)\n",
      "🔧 Augmenting label 21: 35 → 200 (+165)\n",
      "🔧 Augmenting label 22: 78 → 200 (+122)\n",
      "🔧 Augmenting label 23: 160 → 200 (+40)\n",
      "🔧 Augmenting label 24: 16 → 200 (+184)\n",
      "🔧 Augmenting label 25: 50 → 200 (+150)\n",
      "🔧 Augmenting label 26: 86 → 200 (+114)\n",
      "🔧 Augmenting label 27: 49 → 200 (+151)\n",
      "🔧 Augmenting label 28: 12 → 200 (+188)\n",
      "🔧 Augmenting label 29: 13 → 200 (+187)\n",
      "🔧 Augmenting label 30: 15 → 200 (+185)\n",
      "🔧 Augmenting label 31: 80 → 200 (+120)\n",
      "🔧 Augmenting label 32: 36 → 200 (+164)\n",
      "🔧 Augmenting label 33: 32 → 200 (+168)\n",
      "🔧 Augmenting label 34: 30 → 200 (+170)\n",
      "🔧 Augmenting label 35: 12 → 200 (+188)\n",
      "🔧 Augmenting label 36: 28 → 200 (+172)\n",
      "🔧 Augmenting label 37: 21 → 200 (+179)\n",
      "🔧 Augmenting label 38: 6 → 200 (+194)\n",
      "🔧 Augmenting label 39: 103 → 200 (+97)\n",
      "🔧 Augmenting label 40: 12 → 200 (+188)\n",
      "🔧 Augmenting label 41: 8 → 200 (+192)\n",
      "🔧 Augmenting label 42: 147 → 200 (+53)\n",
      "🔧 Augmenting label 43: 16 → 200 (+184)\n",
      "🔧 Augmenting label 44: 20 → 200 (+180)\n",
      "🔧 Augmenting label 45: 9 → 200 (+191)\n",
      "🔧 Augmenting label 46: 54 → 200 (+146)\n",
      "🔧 Augmenting label 49: 69 → 200 (+131)\n",
      "Label distribution after resampling:\n",
      "  label 0: 3179\n",
      "  label 1: 200\n",
      "  label 2: 200\n",
      "  label 3: 200\n",
      "  label 4: 205\n",
      "  label 5: 200\n",
      "  label 6: 200\n",
      "  label 7: 200\n",
      "  label 8: 200\n",
      "  label 9: 200\n",
      "  label 10: 200\n",
      "  label 11: 200\n",
      "  label 12: 200\n",
      "  label 13: 200\n",
      "  label 14: 200\n",
      "  label 15: 200\n",
      "  label 16: 200\n",
      "  label 17: 231\n",
      "  label 18: 200\n",
      "  label 19: 200\n",
      "  label 20: 200\n",
      "  label 21: 200\n",
      "  label 22: 200\n",
      "  label 23: 200\n",
      "  label 24: 200\n",
      "  label 25: 200\n",
      "  label 26: 200\n",
      "  label 27: 200\n",
      "  label 28: 200\n",
      "  label 29: 200\n",
      "  label 30: 200\n",
      "  label 31: 200\n",
      "  label 32: 200\n",
      "  label 33: 200\n",
      "  label 34: 200\n",
      "  label 35: 200\n",
      "  label 36: 200\n",
      "  label 37: 200\n",
      "  label 38: 200\n",
      "  label 39: 200\n",
      "  label 40: 200\n",
      "  label 41: 200\n",
      "  label 42: 200\n",
      "  label 43: 200\n",
      "  label 44: 200\n",
      "  label 45: 200\n",
      "  label 46: 200\n",
      "  label 47: 529\n",
      "  label 48: 202\n",
      "  label 49: 200\n",
      "model is bert-base-uncased lstm\n",
      "Epoch 1/20\n"
     ]
    },
    {
     "name": "stderr",
     "output_type": "stream",
     "text": [
      "100%|██████████| 835/835 [01:17<00:00, 10.78it/s]\n"
     ]
    },
    {
     "name": "stdout",
     "output_type": "stream",
     "text": [
      "{'val_loss': 1.5315247062804564, 'val_accuracy': 0.615612063867534, 'precision': 0.5403283749038261, 'recall': 0.615612063867534, 'f1-score': 0.5390739426679034, 'macro_f1-score': 0.27500312473472, 'balanced_accuracy': 0.27562099914637517, 'mcc': 0.4562575989648972, 'train_loss': 2.272174570017946}\n",
      "Epoch 2/20\n"
     ]
    },
    {
     "name": "stderr",
     "output_type": "stream",
     "text": [
      "100%|██████████| 835/835 [01:17<00:00, 10.78it/s]\n"
     ]
    },
    {
     "name": "stdout",
     "output_type": "stream",
     "text": [
      "{'val_loss': 1.3864348449234694, 'val_accuracy': 0.63571850975754, 'precision': 0.6291193575803827, 'recall': 0.63571850975754, 'f1-score': 0.603931603738088, 'macro_f1-score': 0.3451124533321299, 'balanced_accuracy': 0.3649688372542901, 'mcc': 0.5121622523070026, 'train_loss': 1.1876130260928661}\n",
      "Epoch 3/20\n"
     ]
    },
    {
     "name": "stderr",
     "output_type": "stream",
     "text": [
      "100%|██████████| 835/835 [01:17<00:00, 10.83it/s]\n"
     ]
    },
    {
     "name": "stdout",
     "output_type": "stream",
     "text": [
      "{'val_loss': 1.4137907880094815, 'val_accuracy': 0.6493199290360734, 'precision': 0.6152658628864205, 'recall': 0.6493199290360734, 'f1-score': 0.6108118866055819, 'macro_f1-score': 0.36469503881856624, 'balanced_accuracy': 0.3582001772221147, 'mcc': 0.5187289262478435, 'train_loss': 0.7771669136192985}\n",
      "Epoch 4/20\n"
     ]
    },
    {
     "name": "stderr",
     "output_type": "stream",
     "text": [
      "100%|██████████| 835/835 [01:17<00:00, 10.81it/s]\n"
     ]
    },
    {
     "name": "stdout",
     "output_type": "stream",
     "text": [
      "{'val_loss': 1.3713522847249824, 'val_accuracy': 0.6599645180366647, 'precision': 0.6550255850433483, 'recall': 0.6599645180366647, 'f1-score': 0.6454102404968713, 'macro_f1-score': 0.3821090903857818, 'balanced_accuracy': 0.36899862794603144, 'mcc': 0.54394595413752, 'train_loss': 0.5764260458285937}\n",
      "Epoch 5/20\n"
     ]
    },
    {
     "name": "stderr",
     "output_type": "stream",
     "text": [
      "100%|██████████| 835/835 [01:17<00:00, 10.78it/s]\n"
     ]
    },
    {
     "name": "stdout",
     "output_type": "stream",
     "text": [
      "{'val_loss': 1.4038053003122222, 'val_accuracy': 0.6782968657599053, 'precision': 0.6662470400288871, 'recall': 0.6782968657599053, 'f1-score': 0.6575838113300192, 'macro_f1-score': 0.41668855532346, 'balanced_accuracy': 0.38945917638014405, 'mcc': 0.56500373861186, 'train_loss': 0.45762973710180754}\n",
      "Epoch 6/20\n"
     ]
    },
    {
     "name": "stderr",
     "output_type": "stream",
     "text": [
      "100%|██████████| 835/835 [01:17<00:00, 10.79it/s]\n"
     ]
    },
    {
     "name": "stdout",
     "output_type": "stream",
     "text": [
      "{'val_loss': 1.5151946707716528, 'val_accuracy': 0.6333530455351862, 'precision': 0.6745769697933081, 'recall': 0.6333530455351862, 'f1-score': 0.6404074159781998, 'macro_f1-score': 0.3919840778450142, 'balanced_accuracy': 0.4079965842771536, 'mcc': 0.5346779812953883, 'train_loss': 0.3932815004563974}\n",
      "Epoch 7/20\n"
     ]
    },
    {
     "name": "stderr",
     "output_type": "stream",
     "text": [
      "100%|██████████| 835/835 [01:17<00:00, 10.79it/s]\n"
     ]
    },
    {
     "name": "stdout",
     "output_type": "stream",
     "text": [
      "{'val_loss': 1.4948011473664697, 'val_accuracy': 0.6552335895919574, 'precision': 0.6579062712376, 'recall': 0.6552335895919574, 'f1-score': 0.6450634967202337, 'macro_f1-score': 0.39708349541934135, 'balanced_accuracy': 0.3968162071503597, 'mcc': 0.5501305361894191, 'train_loss': 0.33875453095370067}\n",
      "Epoch 8/20\n"
     ]
    },
    {
     "name": "stderr",
     "output_type": "stream",
     "text": [
      "100%|██████████| 835/835 [01:17<00:00, 10.83it/s]\n"
     ]
    },
    {
     "name": "stdout",
     "output_type": "stream",
     "text": [
      "{'val_loss': 1.5148301054284257, 'val_accuracy': 0.654642223536369, 'precision': 0.6734115188616435, 'recall': 0.654642223536369, 'f1-score': 0.6483545544187048, 'macro_f1-score': 0.4117590464840003, 'balanced_accuracy': 0.40115626749762684, 'mcc': 0.5483291852687803, 'train_loss': 0.324688496565569}\n",
      "Early stopping.\n",
      "\n",
      "[Fold 2]\n",
      "🚀 Using Word2Vec for data augmentation\n",
      "🔧 Augmenting label 1: 25 → 200 (+175)\n",
      "🔧 Augmenting label 2: 112 → 200 (+88)\n",
      "🔧 Augmenting label 3: 24 → 200 (+176)\n",
      "🔧 Augmenting label 5: 116 → 200 (+84)\n",
      "🔧 Augmenting label 6: 94 → 200 (+106)\n",
      "🔧 Augmenting label 7: 31 → 200 (+169)\n",
      "🔧 Augmenting label 8: 68 → 200 (+132)\n",
      "🔧 Augmenting label 9: 65 → 200 (+135)\n",
      "🔧 Augmenting label 10: 70 → 200 (+130)\n",
      "🔧 Augmenting label 11: 172 → 200 (+28)\n",
      "🔧 Augmenting label 12: 193 → 200 (+7)\n",
      "🔧 Augmenting label 13: 29 → 200 (+171)\n",
      "🔧 Augmenting label 14: 23 → 200 (+177)\n",
      "🔧 Augmenting label 15: 25 → 200 (+175)\n",
      "🔧 Augmenting label 16: 20 → 200 (+180)\n",
      "🔧 Augmenting label 18: 93 → 200 (+107)\n",
      "🔧 Augmenting label 19: 45 → 200 (+155)\n",
      "🔧 Augmenting label 20: 14 → 200 (+186)\n",
      "🔧 Augmenting label 21: 35 → 200 (+165)\n",
      "🔧 Augmenting label 22: 78 → 200 (+122)\n",
      "🔧 Augmenting label 23: 160 → 200 (+40)\n",
      "🔧 Augmenting label 24: 16 → 200 (+184)\n",
      "🔧 Augmenting label 25: 50 → 200 (+150)\n",
      "🔧 Augmenting label 26: 86 → 200 (+114)\n",
      "🔧 Augmenting label 27: 49 → 200 (+151)\n",
      "🔧 Augmenting label 28: 12 → 200 (+188)\n",
      "🔧 Augmenting label 29: 13 → 200 (+187)\n",
      "🔧 Augmenting label 30: 15 → 200 (+185)\n",
      "🔧 Augmenting label 31: 80 → 200 (+120)\n",
      "🔧 Augmenting label 32: 36 → 200 (+164)\n",
      "🔧 Augmenting label 33: 32 → 200 (+168)\n",
      "🔧 Augmenting label 34: 30 → 200 (+170)\n",
      "🔧 Augmenting label 35: 12 → 200 (+188)\n",
      "🔧 Augmenting label 36: 28 → 200 (+172)\n",
      "🔧 Augmenting label 37: 22 → 200 (+178)\n",
      "🔧 Augmenting label 38: 5 → 200 (+195)\n",
      "🔧 Augmenting label 39: 103 → 200 (+97)\n",
      "🔧 Augmenting label 40: 11 → 200 (+189)\n",
      "🔧 Augmenting label 41: 9 → 200 (+191)\n",
      "🔧 Augmenting label 42: 147 → 200 (+53)\n",
      "🔧 Augmenting label 43: 16 → 200 (+184)\n",
      "🔧 Augmenting label 44: 20 → 200 (+180)\n",
      "🔧 Augmenting label 45: 9 → 200 (+191)\n",
      "🔧 Augmenting label 46: 55 → 200 (+145)\n",
      "🔧 Augmenting label 49: 69 → 200 (+131)\n",
      "Label distribution after resampling:\n",
      "  label 0: 3179\n",
      "  label 1: 200\n",
      "  label 2: 200\n",
      "  label 3: 200\n",
      "  label 4: 206\n",
      "  label 5: 200\n",
      "  label 6: 200\n",
      "  label 7: 200\n",
      "  label 8: 200\n",
      "  label 9: 200\n",
      "  label 10: 200\n",
      "  label 11: 200\n",
      "  label 12: 200\n",
      "  label 13: 200\n",
      "  label 14: 200\n",
      "  label 15: 200\n",
      "  label 16: 200\n",
      "  label 17: 231\n",
      "  label 18: 200\n",
      "  label 19: 200\n",
      "  label 20: 200\n",
      "  label 21: 200\n",
      "  label 22: 200\n",
      "  label 23: 200\n",
      "  label 24: 200\n",
      "  label 25: 200\n",
      "  label 26: 200\n",
      "  label 27: 200\n",
      "  label 28: 200\n",
      "  label 29: 200\n",
      "  label 30: 200\n",
      "  label 31: 200\n",
      "  label 32: 200\n",
      "  label 33: 200\n",
      "  label 34: 200\n",
      "  label 35: 200\n",
      "  label 36: 200\n",
      "  label 37: 200\n",
      "  label 38: 200\n",
      "  label 39: 200\n",
      "  label 40: 200\n",
      "  label 41: 200\n",
      "  label 42: 200\n",
      "  label 43: 200\n",
      "  label 44: 200\n",
      "  label 45: 200\n",
      "  label 46: 200\n",
      "  label 47: 528\n",
      "  label 48: 202\n",
      "  label 49: 200\n",
      "model is bert-base-uncased lstm\n",
      "Epoch 1/20\n"
     ]
    },
    {
     "name": "stderr",
     "output_type": "stream",
     "text": [
      "100%|██████████| 835/835 [01:17<00:00, 10.78it/s]\n"
     ]
    },
    {
     "name": "stdout",
     "output_type": "stream",
     "text": [
      "{'val_loss': 1.6263016743480034, 'val_accuracy': 0.5925487876995861, 'precision': 0.5532050167304425, 'recall': 0.5925487876995861, 'f1-score': 0.5343440443735766, 'macro_f1-score': 0.259064569138465, 'balanced_accuracy': 0.31398862574357145, 'mcc': 0.43722802315663095, 'train_loss': 2.384422772123428}\n",
      "Epoch 2/20\n"
     ]
    },
    {
     "name": "stderr",
     "output_type": "stream",
     "text": [
      "100%|██████████| 835/835 [01:17<00:00, 10.77it/s]\n"
     ]
    },
    {
     "name": "stdout",
     "output_type": "stream",
     "text": [
      "{'val_loss': 1.362286774898475, 'val_accuracy': 0.6499112950916618, 'precision': 0.6354759623578473, 'recall': 0.6499112950916618, 'f1-score': 0.6107590466089896, 'macro_f1-score': 0.37609848482590075, 'balanced_accuracy': 0.3915525720304558, 'mcc': 0.5173442349162778, 'train_loss': 1.2437883347808243}\n",
      "Epoch 3/20\n"
     ]
    },
    {
     "name": "stderr",
     "output_type": "stream",
     "text": [
      "100%|██████████| 835/835 [01:17<00:00, 10.77it/s]\n"
     ]
    },
    {
     "name": "stdout",
     "output_type": "stream",
     "text": [
      "{'val_loss': 1.3788407609428999, 'val_accuracy': 0.6510940272028386, 'precision': 0.6666676643739226, 'recall': 0.6510940272028386, 'f1-score': 0.6381896130264839, 'macro_f1-score': 0.3939906973890595, 'balanced_accuracy': 0.4372270892031443, 'mcc': 0.5370681218718425, 'train_loss': 0.8777330417654472}\n",
      "Epoch 4/20\n"
     ]
    },
    {
     "name": "stderr",
     "output_type": "stream",
     "text": [
      "100%|██████████| 835/835 [01:17<00:00, 10.81it/s]\n"
     ]
    },
    {
     "name": "stdout",
     "output_type": "stream",
     "text": [
      "{'val_loss': 1.4350820438198324, 'val_accuracy': 0.6522767593140154, 'precision': 0.6567149889696158, 'recall': 0.6522767593140154, 'f1-score': 0.6351269791103957, 'macro_f1-score': 0.3764847163864137, 'balanced_accuracy': 0.40057237378462185, 'mcc': 0.5364516869999518, 'train_loss': 0.6397836151594174}\n",
      "Epoch 5/20\n"
     ]
    },
    {
     "name": "stderr",
     "output_type": "stream",
     "text": [
      "100%|██████████| 835/835 [01:17<00:00, 10.78it/s]\n"
     ]
    },
    {
     "name": "stdout",
     "output_type": "stream",
     "text": [
      "{'val_loss': 1.44013171910115, 'val_accuracy': 0.6735659373151981, 'precision': 0.6741890631396423, 'recall': 0.6735659373151981, 'f1-score': 0.6557188342482586, 'macro_f1-score': 0.4136540066868239, 'balanced_accuracy': 0.42424554039605455, 'mcc': 0.5590756407576236, 'train_loss': 0.5007532249890758}\n",
      "Epoch 6/20\n"
     ]
    },
    {
     "name": "stderr",
     "output_type": "stream",
     "text": [
      "100%|██████████| 835/835 [01:17<00:00, 10.82it/s]\n"
     ]
    },
    {
     "name": "stdout",
     "output_type": "stream",
     "text": [
      "{'val_loss': 1.3791330829262733, 'val_accuracy': 0.6913069189828503, 'precision': 0.678425641330386, 'recall': 0.6913069189828503, 'f1-score': 0.6752350402270951, 'macro_f1-score': 0.4499120951137787, 'balanced_accuracy': 0.45034498509252713, 'mcc': 0.5850817340222277, 'train_loss': 0.42512009971646847}\n",
      "Epoch 7/20\n"
     ]
    },
    {
     "name": "stderr",
     "output_type": "stream",
     "text": [
      "100%|██████████| 835/835 [01:17<00:00, 10.81it/s]\n"
     ]
    },
    {
     "name": "stdout",
     "output_type": "stream",
     "text": [
      "{'val_loss': 1.4984146064182498, 'val_accuracy': 0.6534594914251922, 'precision': 0.6562209048292293, 'recall': 0.6534594914251922, 'f1-score': 0.6435457169750362, 'macro_f1-score': 0.38359364564090287, 'balanced_accuracy': 0.407650468451994, 'mcc': 0.5490571601382981, 'train_loss': 0.3478102849450654}\n",
      "Epoch 8/20\n"
     ]
    },
    {
     "name": "stderr",
     "output_type": "stream",
     "text": [
      "100%|██████████| 835/835 [01:17<00:00, 10.82it/s]\n"
     ]
    },
    {
     "name": "stdout",
     "output_type": "stream",
     "text": [
      "{'val_loss': 1.4602277984596648, 'val_accuracy': 0.6771141336487285, 'precision': 0.6722372301830937, 'recall': 0.6771141336487285, 'f1-score': 0.6657415063287219, 'macro_f1-score': 0.41926582651871, 'balanced_accuracy': 0.4243165671775728, 'mcc': 0.5730754705984944, 'train_loss': 0.3670401989253695}\n",
      "Epoch 9/20\n"
     ]
    },
    {
     "name": "stderr",
     "output_type": "stream",
     "text": [
      "100%|██████████| 835/835 [01:17<00:00, 10.79it/s]\n"
     ]
    },
    {
     "name": "stdout",
     "output_type": "stream",
     "text": [
      "{'val_loss': 1.555280406555196, 'val_accuracy': 0.6729745712596097, 'precision': 0.6720789519415552, 'recall': 0.6729745712596097, 'f1-score': 0.6622455996618412, 'macro_f1-score': 0.42033618304415077, 'balanced_accuracy': 0.4064960329010365, 'mcc': 0.5638596201183257, 'train_loss': 0.30947517017627546}\n",
      "Early stopping.\n",
      "\n",
      "[Fold 3]\n",
      "🚀 Using Word2Vec for data augmentation\n",
      "🔧 Augmenting label 1: 25 → 200 (+175)\n",
      "🔧 Augmenting label 2: 112 → 200 (+88)\n",
      "🔧 Augmenting label 3: 24 → 200 (+176)\n",
      "🔧 Augmenting label 5: 116 → 200 (+84)\n",
      "🔧 Augmenting label 6: 94 → 200 (+106)\n",
      "🔧 Augmenting label 7: 31 → 200 (+169)\n",
      "🔧 Augmenting label 8: 68 → 200 (+132)\n",
      "🔧 Augmenting label 9: 65 → 200 (+135)\n",
      "🔧 Augmenting label 10: 71 → 200 (+129)\n",
      "🔧 Augmenting label 11: 172 → 200 (+28)\n",
      "🔧 Augmenting label 12: 192 → 200 (+8)\n",
      "🔧 Augmenting label 13: 29 → 200 (+171)\n",
      "🔧 Augmenting label 14: 23 → 200 (+177)\n",
      "🔧 Augmenting label 15: 25 → 200 (+175)\n",
      "🔧 Augmenting label 16: 20 → 200 (+180)\n",
      "🔧 Augmenting label 18: 93 → 200 (+107)\n",
      "🔧 Augmenting label 19: 45 → 200 (+155)\n",
      "🔧 Augmenting label 20: 14 → 200 (+186)\n",
      "🔧 Augmenting label 21: 36 → 200 (+164)\n",
      "🔧 Augmenting label 22: 77 → 200 (+123)\n",
      "🔧 Augmenting label 23: 160 → 200 (+40)\n",
      "🔧 Augmenting label 24: 16 → 200 (+184)\n",
      "🔧 Augmenting label 25: 51 → 200 (+149)\n",
      "🔧 Augmenting label 26: 85 → 200 (+115)\n",
      "🔧 Augmenting label 27: 49 → 200 (+151)\n",
      "🔧 Augmenting label 28: 12 → 200 (+188)\n",
      "🔧 Augmenting label 29: 12 → 200 (+188)\n",
      "🔧 Augmenting label 30: 16 → 200 (+184)\n",
      "🔧 Augmenting label 31: 80 → 200 (+120)\n",
      "🔧 Augmenting label 32: 36 → 200 (+164)\n",
      "🔧 Augmenting label 33: 32 → 200 (+168)\n",
      "🔧 Augmenting label 34: 29 → 200 (+171)\n",
      "🔧 Augmenting label 35: 12 → 200 (+188)\n",
      "🔧 Augmenting label 36: 28 → 200 (+172)\n",
      "🔧 Augmenting label 37: 22 → 200 (+178)\n",
      "🔧 Augmenting label 38: 5 → 200 (+195)\n",
      "🔧 Augmenting label 39: 103 → 200 (+97)\n",
      "🔧 Augmenting label 40: 11 → 200 (+189)\n",
      "🔧 Augmenting label 41: 9 → 200 (+191)\n",
      "🔧 Augmenting label 42: 147 → 200 (+53)\n",
      "🔧 Augmenting label 43: 16 → 200 (+184)\n",
      "🔧 Augmenting label 44: 20 → 200 (+180)\n",
      "🔧 Augmenting label 45: 9 → 200 (+191)\n",
      "🔧 Augmenting label 46: 55 → 200 (+145)\n",
      "🔧 Augmenting label 49: 70 → 200 (+130)\n",
      "Label distribution after resampling:\n",
      "  label 0: 3179\n",
      "  label 1: 200\n",
      "  label 2: 200\n",
      "  label 3: 200\n",
      "  label 4: 206\n",
      "  label 5: 200\n",
      "  label 6: 200\n",
      "  label 7: 200\n",
      "  label 8: 200\n",
      "  label 9: 200\n",
      "  label 10: 200\n",
      "  label 11: 200\n",
      "  label 12: 200\n",
      "  label 13: 200\n",
      "  label 14: 200\n",
      "  label 15: 200\n",
      "  label 16: 200\n",
      "  label 17: 231\n",
      "  label 18: 200\n",
      "  label 19: 200\n",
      "  label 20: 200\n",
      "  label 21: 200\n",
      "  label 22: 200\n",
      "  label 23: 200\n",
      "  label 24: 200\n",
      "  label 25: 200\n",
      "  label 26: 200\n",
      "  label 27: 200\n",
      "  label 28: 200\n",
      "  label 29: 200\n",
      "  label 30: 200\n",
      "  label 31: 200\n",
      "  label 32: 200\n",
      "  label 33: 200\n",
      "  label 34: 200\n",
      "  label 35: 200\n",
      "  label 36: 200\n",
      "  label 37: 200\n",
      "  label 38: 200\n",
      "  label 39: 200\n",
      "  label 40: 200\n",
      "  label 41: 200\n",
      "  label 42: 200\n",
      "  label 43: 200\n",
      "  label 44: 200\n",
      "  label 45: 200\n",
      "  label 46: 200\n",
      "  label 47: 529\n",
      "  label 48: 201\n",
      "  label 49: 200\n",
      "model is bert-base-uncased lstm\n",
      "Epoch 1/20\n"
     ]
    },
    {
     "name": "stderr",
     "output_type": "stream",
     "text": [
      "100%|██████████| 835/835 [01:17<00:00, 10.80it/s]\n"
     ]
    },
    {
     "name": "stdout",
     "output_type": "stream",
     "text": [
      "{'val_loss': 1.5655840725268957, 'val_accuracy': 0.602602010644589, 'precision': 0.5303804023270311, 'recall': 0.602602010644589, 'f1-score': 0.5373833070496176, 'macro_f1-score': 0.27713972378516594, 'balanced_accuracy': 0.2998282131061739, 'mcc': 0.4429908702328082, 'train_loss': 2.2573646195634396}\n",
      "Epoch 2/20\n"
     ]
    },
    {
     "name": "stderr",
     "output_type": "stream",
     "text": [
      "100%|██████████| 835/835 [01:17<00:00, 10.75it/s]\n"
     ]
    },
    {
     "name": "stdout",
     "output_type": "stream",
     "text": [
      "{'val_loss': 1.375795767554697, 'val_accuracy': 0.628622117090479, 'precision': 0.6604470337146784, 'recall': 0.628622117090479, 'f1-score': 0.6111326069047068, 'macro_f1-score': 0.3784913045846705, 'balanced_accuracy': 0.4236806887219029, 'mcc': 0.5078908090424586, 'train_loss': 1.177764376623188}\n",
      "Epoch 3/20\n"
     ]
    },
    {
     "name": "stderr",
     "output_type": "stream",
     "text": [
      "100%|██████████| 835/835 [01:17<00:00, 10.79it/s]\n"
     ]
    },
    {
     "name": "stdout",
     "output_type": "stream",
     "text": [
      "{'val_loss': 1.4643814136397164, 'val_accuracy': 0.6173861620342992, 'precision': 0.664292869262776, 'recall': 0.6173861620342992, 'f1-score': 0.6159320134681893, 'macro_f1-score': 0.33047819542042606, 'balanced_accuracy': 0.3595090468585655, 'mcc': 0.5045516455262243, 'train_loss': 0.7549145421537453}\n",
      "Epoch 4/20\n"
     ]
    },
    {
     "name": "stderr",
     "output_type": "stream",
     "text": [
      "100%|██████████| 835/835 [01:17<00:00, 10.81it/s]\n"
     ]
    },
    {
     "name": "stdout",
     "output_type": "stream",
     "text": [
      "{'val_loss': 1.4470804187486757, 'val_accuracy': 0.6463630987581312, 'precision': 0.628638704134765, 'recall': 0.6463630987581312, 'f1-score': 0.6200128822238845, 'macro_f1-score': 0.3363990871737079, 'balanced_accuracy': 0.3384070853892871, 'mcc': 0.5249098436867301, 'train_loss': 0.5393047145651486}\n",
      "Epoch 5/20\n"
     ]
    },
    {
     "name": "stderr",
     "output_type": "stream",
     "text": [
      "100%|██████████| 835/835 [01:15<00:00, 11.12it/s]\n"
     ]
    },
    {
     "name": "stdout",
     "output_type": "stream",
     "text": [
      "{'val_loss': 1.4244930271832448, 'val_accuracy': 0.6457717327025428, 'precision': 0.6500482362861107, 'recall': 0.6457717327025428, 'f1-score': 0.6367265387726487, 'macro_f1-score': 0.3579725192684849, 'balanced_accuracy': 0.35711528876059406, 'mcc': 0.5300494966354626, 'train_loss': 0.4163578821825767}\n",
      "Early stopping.\n",
      "\n",
      "[Fold 4]\n",
      "🚀 Using Word2Vec for data augmentation\n",
      "🔧 Augmenting label 1: 25 → 200 (+175)\n",
      "🔧 Augmenting label 2: 112 → 200 (+88)\n",
      "🔧 Augmenting label 3: 24 → 200 (+176)\n",
      "🔧 Augmenting label 5: 116 → 200 (+84)\n",
      "🔧 Augmenting label 6: 94 → 200 (+106)\n",
      "🔧 Augmenting label 7: 32 → 200 (+168)\n",
      "🔧 Augmenting label 8: 68 → 200 (+132)\n",
      "🔧 Augmenting label 9: 64 → 200 (+136)\n",
      "🔧 Augmenting label 10: 71 → 200 (+129)\n",
      "🔧 Augmenting label 11: 172 → 200 (+28)\n",
      "🔧 Augmenting label 12: 193 → 200 (+7)\n",
      "🔧 Augmenting label 13: 28 → 200 (+172)\n",
      "🔧 Augmenting label 14: 24 → 200 (+176)\n",
      "🔧 Augmenting label 15: 24 → 200 (+176)\n",
      "🔧 Augmenting label 16: 20 → 200 (+180)\n",
      "🔧 Augmenting label 18: 92 → 200 (+108)\n",
      "🔧 Augmenting label 19: 45 → 200 (+155)\n",
      "🔧 Augmenting label 20: 15 → 200 (+185)\n",
      "🔧 Augmenting label 21: 35 → 200 (+165)\n",
      "🔧 Augmenting label 22: 77 → 200 (+123)\n",
      "🔧 Augmenting label 23: 160 → 200 (+40)\n",
      "🔧 Augmenting label 24: 16 → 200 (+184)\n",
      "🔧 Augmenting label 25: 51 → 200 (+149)\n",
      "🔧 Augmenting label 26: 85 → 200 (+115)\n",
      "🔧 Augmenting label 27: 49 → 200 (+151)\n",
      "🔧 Augmenting label 28: 12 → 200 (+188)\n",
      "🔧 Augmenting label 29: 13 → 200 (+187)\n",
      "🔧 Augmenting label 30: 15 → 200 (+185)\n",
      "🔧 Augmenting label 31: 80 → 200 (+120)\n",
      "🔧 Augmenting label 32: 36 → 200 (+164)\n",
      "🔧 Augmenting label 33: 32 → 200 (+168)\n",
      "🔧 Augmenting label 34: 29 → 200 (+171)\n",
      "🔧 Augmenting label 35: 12 → 200 (+188)\n",
      "🔧 Augmenting label 36: 28 → 200 (+172)\n",
      "🔧 Augmenting label 37: 22 → 200 (+178)\n",
      "🔧 Augmenting label 38: 6 → 200 (+194)\n",
      "🔧 Augmenting label 39: 103 → 200 (+97)\n",
      "🔧 Augmenting label 40: 11 → 200 (+189)\n",
      "🔧 Augmenting label 41: 9 → 200 (+191)\n",
      "🔧 Augmenting label 42: 148 → 200 (+52)\n",
      "🔧 Augmenting label 43: 16 → 200 (+184)\n",
      "🔧 Augmenting label 44: 20 → 200 (+180)\n",
      "🔧 Augmenting label 45: 8 → 200 (+192)\n",
      "🔧 Augmenting label 46: 54 → 200 (+146)\n",
      "🔧 Augmenting label 49: 70 → 200 (+130)\n",
      "Label distribution after resampling:\n",
      "  label 0: 3179\n",
      "  label 1: 200\n",
      "  label 2: 200\n",
      "  label 3: 200\n",
      "  label 4: 206\n",
      "  label 5: 200\n",
      "  label 6: 200\n",
      "  label 7: 200\n",
      "  label 8: 200\n",
      "  label 9: 200\n",
      "  label 10: 200\n",
      "  label 11: 200\n",
      "  label 12: 200\n",
      "  label 13: 200\n",
      "  label 14: 200\n",
      "  label 15: 200\n",
      "  label 16: 200\n",
      "  label 17: 232\n",
      "  label 18: 200\n",
      "  label 19: 200\n",
      "  label 20: 200\n",
      "  label 21: 200\n",
      "  label 22: 200\n",
      "  label 23: 200\n",
      "  label 24: 200\n",
      "  label 25: 200\n",
      "  label 26: 200\n",
      "  label 27: 200\n",
      "  label 28: 200\n",
      "  label 29: 200\n",
      "  label 30: 200\n",
      "  label 31: 200\n",
      "  label 32: 200\n",
      "  label 33: 200\n",
      "  label 34: 200\n",
      "  label 35: 200\n",
      "  label 36: 200\n",
      "  label 37: 200\n",
      "  label 38: 200\n",
      "  label 39: 200\n",
      "  label 40: 200\n",
      "  label 41: 200\n",
      "  label 42: 200\n",
      "  label 43: 200\n",
      "  label 44: 200\n",
      "  label 45: 200\n",
      "  label 46: 200\n",
      "  label 47: 529\n",
      "  label 48: 201\n",
      "  label 49: 200\n",
      "model is bert-base-uncased lstm\n",
      "Epoch 1/20\n"
     ]
    },
    {
     "name": "stderr",
     "output_type": "stream",
     "text": [
      "100%|██████████| 835/835 [01:14<00:00, 11.19it/s]\n"
     ]
    },
    {
     "name": "stdout",
     "output_type": "stream",
     "text": [
      "{'val_loss': 1.5898919066168227, 'val_accuracy': 0.5854523950325251, 'precision': 0.6085926967441321, 'recall': 0.5854523950325251, 'f1-score': 0.553321907436835, 'macro_f1-score': 0.2803616628021672, 'balanced_accuracy': 0.3788259431822925, 'mcc': 0.4543107877928362, 'train_loss': 2.3354352850400044}\n",
      "Epoch 2/20\n"
     ]
    },
    {
     "name": "stderr",
     "output_type": "stream",
     "text": [
      "100%|██████████| 835/835 [01:14<00:00, 11.18it/s]\n"
     ]
    },
    {
     "name": "stdout",
     "output_type": "stream",
     "text": [
      "{'val_loss': 1.3459168471536547, 'val_accuracy': 0.6463630987581312, 'precision': 0.657761653286841, 'recall': 0.6463630987581312, 'f1-score': 0.6271314075282012, 'macro_f1-score': 0.3926205527350232, 'balanced_accuracy': 0.42599383900239857, 'mcc': 0.5254654812936393, 'train_loss': 1.2048358448608192}\n",
      "Epoch 3/20\n"
     ]
    },
    {
     "name": "stderr",
     "output_type": "stream",
     "text": [
      "100%|██████████| 835/835 [01:14<00:00, 11.20it/s]\n"
     ]
    },
    {
     "name": "stdout",
     "output_type": "stream",
     "text": [
      "{'val_loss': 1.3920498107964139, 'val_accuracy': 0.641632170313424, 'precision': 0.655839640994332, 'recall': 0.641632170313424, 'f1-score': 0.6311409209964725, 'macro_f1-score': 0.4040980301626133, 'balanced_accuracy': 0.46713928740177413, 'mcc': 0.5476785187636305, 'train_loss': 0.8504809120101129}\n",
      "Epoch 4/20\n"
     ]
    },
    {
     "name": "stderr",
     "output_type": "stream",
     "text": [
      "100%|██████████| 835/835 [01:14<00:00, 11.19it/s]\n"
     ]
    },
    {
     "name": "stdout",
     "output_type": "stream",
     "text": [
      "{'val_loss': 1.3004395441626602, 'val_accuracy': 0.6664695446481372, 'precision': 0.691525913636286, 'recall': 0.6664695446481372, 'f1-score': 0.6558218948731067, 'macro_f1-score': 0.41134188754375567, 'balanced_accuracy': 0.42171874727639425, 'mcc': 0.5643829310397159, 'train_loss': 0.636334402524604}\n",
      "Epoch 5/20\n"
     ]
    },
    {
     "name": "stderr",
     "output_type": "stream",
     "text": [
      "100%|██████████| 835/835 [01:14<00:00, 11.22it/s]\n"
     ]
    },
    {
     "name": "stdout",
     "output_type": "stream",
     "text": [
      "{'val_loss': 1.3782840022500955, 'val_accuracy': 0.6629213483146067, 'precision': 0.6750662230840974, 'recall': 0.6629213483146067, 'f1-score': 0.6557512695472971, 'macro_f1-score': 0.41519677700301455, 'balanced_accuracy': 0.4181056724145657, 'mcc': 0.553519614940576, 'train_loss': 0.49250221173474173}\n",
      "Epoch 6/20\n"
     ]
    },
    {
     "name": "stderr",
     "output_type": "stream",
     "text": [
      "100%|██████████| 835/835 [01:14<00:00, 11.17it/s]\n"
     ]
    },
    {
     "name": "stdout",
     "output_type": "stream",
     "text": [
      "{'val_loss': 1.361102043598328, 'val_accuracy': 0.6747486694263749, 'precision': 0.6767679686821274, 'recall': 0.6747486694263749, 'f1-score': 0.669487316065615, 'macro_f1-score': 0.4352639303148881, 'balanced_accuracy': 0.43876424597171104, 'mcc': 0.575576332109739, 'train_loss': 0.41097143884012083}\n",
      "Epoch 7/20\n"
     ]
    },
    {
     "name": "stderr",
     "output_type": "stream",
     "text": [
      "100%|██████████| 835/835 [01:14<00:00, 11.20it/s]\n"
     ]
    },
    {
     "name": "stdout",
     "output_type": "stream",
     "text": [
      "{'val_loss': 1.4418004942390155, 'val_accuracy': 0.6765227675931401, 'precision': 0.6693822065306323, 'recall': 0.6765227675931401, 'f1-score': 0.658020571212136, 'macro_f1-score': 0.42940334943852987, 'balanced_accuracy': 0.430735411529702, 'mcc': 0.5654454266923965, 'train_loss': 0.36030141683574207}\n",
      "Epoch 8/20\n"
     ]
    },
    {
     "name": "stderr",
     "output_type": "stream",
     "text": [
      "100%|██████████| 835/835 [01:14<00:00, 11.16it/s]\n"
     ]
    },
    {
     "name": "stdout",
     "output_type": "stream",
     "text": [
      "{'val_loss': 1.4113700895939234, 'val_accuracy': 0.6664695446481372, 'precision': 0.674046026571352, 'recall': 0.6664695446481372, 'f1-score': 0.6568979136495572, 'macro_f1-score': 0.4054862404099497, 'balanced_accuracy': 0.3971246720045836, 'mcc': 0.5604664581102153, 'train_loss': 0.3121588488494208}\n",
      "Epoch 9/20\n"
     ]
    },
    {
     "name": "stderr",
     "output_type": "stream",
     "text": [
      "100%|██████████| 835/835 [01:14<00:00, 11.18it/s]\n"
     ]
    },
    {
     "name": "stdout",
     "output_type": "stream",
     "text": [
      "{'val_loss': 1.5028981787135016, 'val_accuracy': 0.667652276759314, 'precision': 0.6949317826842791, 'recall': 0.667652276759314, 'f1-score': 0.6615796103858153, 'macro_f1-score': 0.42903067941081924, 'balanced_accuracy': 0.4309908785115223, 'mcc': 0.5689061660840519, 'train_loss': 0.278146247020337}\n",
      "Early stopping.\n",
      "\n",
      "[Fold 5]\n",
      "🚀 Using Word2Vec for data augmentation\n",
      "🔧 Augmenting label 1: 24 → 200 (+176)\n",
      "🔧 Augmenting label 2: 112 → 200 (+88)\n",
      "🔧 Augmenting label 3: 24 → 200 (+176)\n",
      "🔧 Augmenting label 5: 116 → 200 (+84)\n",
      "🔧 Augmenting label 6: 95 → 200 (+105)\n",
      "🔧 Augmenting label 7: 31 → 200 (+169)\n",
      "🔧 Augmenting label 8: 68 → 200 (+132)\n",
      "🔧 Augmenting label 9: 65 → 200 (+135)\n",
      "🔧 Augmenting label 10: 70 → 200 (+130)\n",
      "🔧 Augmenting label 11: 172 → 200 (+28)\n",
      "🔧 Augmenting label 12: 193 → 200 (+7)\n",
      "🔧 Augmenting label 13: 29 → 200 (+171)\n",
      "🔧 Augmenting label 14: 23 → 200 (+177)\n",
      "🔧 Augmenting label 15: 25 → 200 (+175)\n",
      "🔧 Augmenting label 16: 20 → 200 (+180)\n",
      "🔧 Augmenting label 18: 93 → 200 (+107)\n",
      "🔧 Augmenting label 19: 44 → 200 (+156)\n",
      "🔧 Augmenting label 20: 15 → 200 (+185)\n",
      "🔧 Augmenting label 21: 35 → 200 (+165)\n",
      "🔧 Augmenting label 22: 78 → 200 (+122)\n",
      "🔧 Augmenting label 23: 160 → 200 (+40)\n",
      "🔧 Augmenting label 24: 16 → 200 (+184)\n",
      "🔧 Augmenting label 25: 50 → 200 (+150)\n",
      "🔧 Augmenting label 26: 86 → 200 (+114)\n",
      "🔧 Augmenting label 27: 48 → 200 (+152)\n",
      "🔧 Augmenting label 28: 12 → 200 (+188)\n",
      "🔧 Augmenting label 29: 13 → 200 (+187)\n",
      "🔧 Augmenting label 30: 15 → 200 (+185)\n",
      "🔧 Augmenting label 31: 80 → 200 (+120)\n",
      "🔧 Augmenting label 32: 36 → 200 (+164)\n",
      "🔧 Augmenting label 33: 32 → 200 (+168)\n",
      "🔧 Augmenting label 34: 30 → 200 (+170)\n",
      "🔧 Augmenting label 35: 12 → 200 (+188)\n",
      "🔧 Augmenting label 36: 28 → 200 (+172)\n",
      "🔧 Augmenting label 37: 21 → 200 (+179)\n",
      "🔧 Augmenting label 38: 6 → 200 (+194)\n",
      "🔧 Augmenting label 39: 104 → 200 (+96)\n",
      "🔧 Augmenting label 40: 11 → 200 (+189)\n",
      "🔧 Augmenting label 41: 9 → 200 (+191)\n",
      "🔧 Augmenting label 42: 147 → 200 (+53)\n",
      "🔧 Augmenting label 43: 16 → 200 (+184)\n",
      "🔧 Augmenting label 44: 20 → 200 (+180)\n",
      "🔧 Augmenting label 45: 9 → 200 (+191)\n",
      "🔧 Augmenting label 46: 54 → 200 (+146)\n",
      "🔧 Augmenting label 49: 70 → 200 (+130)\n",
      "Label distribution after resampling:\n",
      "  label 0: 3180\n",
      "  label 1: 200\n",
      "  label 2: 200\n",
      "  label 3: 200\n",
      "  label 4: 205\n",
      "  label 5: 200\n",
      "  label 6: 200\n",
      "  label 7: 200\n",
      "  label 8: 200\n",
      "  label 9: 200\n",
      "  label 10: 200\n",
      "  label 11: 200\n",
      "  label 12: 200\n",
      "  label 13: 200\n",
      "  label 14: 200\n",
      "  label 15: 200\n",
      "  label 16: 200\n",
      "  label 17: 231\n",
      "  label 18: 200\n",
      "  label 19: 200\n",
      "  label 20: 200\n",
      "  label 21: 200\n",
      "  label 22: 200\n",
      "  label 23: 200\n",
      "  label 24: 200\n",
      "  label 25: 200\n",
      "  label 26: 200\n",
      "  label 27: 200\n",
      "  label 28: 200\n",
      "  label 29: 200\n",
      "  label 30: 200\n",
      "  label 31: 200\n",
      "  label 32: 200\n",
      "  label 33: 200\n",
      "  label 34: 200\n",
      "  label 35: 200\n",
      "  label 36: 200\n",
      "  label 37: 200\n",
      "  label 38: 200\n",
      "  label 39: 200\n",
      "  label 40: 200\n",
      "  label 41: 200\n",
      "  label 42: 200\n",
      "  label 43: 200\n",
      "  label 44: 200\n",
      "  label 45: 200\n",
      "  label 46: 200\n",
      "  label 47: 529\n",
      "  label 48: 202\n",
      "  label 49: 200\n",
      "model is bert-base-uncased lstm\n",
      "Epoch 1/20\n"
     ]
    },
    {
     "name": "stderr",
     "output_type": "stream",
     "text": [
      "100%|██████████| 835/835 [01:14<00:00, 11.19it/s]\n"
     ]
    },
    {
     "name": "stdout",
     "output_type": "stream",
     "text": [
      "{'val_loss': 1.5781981540176104, 'val_accuracy': 0.5970414201183432, 'precision': 0.5642982587512917, 'recall': 0.5970414201183432, 'f1-score': 0.5533284780024398, 'macro_f1-score': 0.2404288310955131, 'balanced_accuracy': 0.28749189826749677, 'mcc': 0.4503874104615993, 'train_loss': 2.252749103486181}\n",
      "Epoch 2/20\n"
     ]
    },
    {
     "name": "stderr",
     "output_type": "stream",
     "text": [
      "100%|██████████| 835/835 [01:14<00:00, 11.14it/s]\n"
     ]
    },
    {
     "name": "stdout",
     "output_type": "stream",
     "text": [
      "{'val_loss': 1.4126658878236447, 'val_accuracy': 0.6272189349112426, 'precision': 0.6200229260975009, 'recall': 0.6272189349112426, 'f1-score': 0.5965142135962653, 'macro_f1-score': 0.3174189379397091, 'balanced_accuracy': 0.33385716650747527, 'mcc': 0.4959939366159436, 'train_loss': 1.1847687036691312}\n",
      "Epoch 3/20\n"
     ]
    },
    {
     "name": "stderr",
     "output_type": "stream",
     "text": [
      "100%|██████████| 835/835 [01:14<00:00, 11.16it/s]\n"
     ]
    },
    {
     "name": "stdout",
     "output_type": "stream",
     "text": [
      "{'val_loss': 1.395867109017552, 'val_accuracy': 0.6449704142011834, 'precision': 0.6562139120712693, 'recall': 0.6449704142011834, 'f1-score': 0.635009702144324, 'macro_f1-score': 0.33616298105332704, 'balanced_accuracy': 0.37546545801475373, 'mcc': 0.5396042217084022, 'train_loss': 0.8134825920094987}\n",
      "Epoch 4/20\n"
     ]
    },
    {
     "name": "stderr",
     "output_type": "stream",
     "text": [
      "100%|██████████| 835/835 [01:15<00:00, 11.09it/s]\n"
     ]
    },
    {
     "name": "stdout",
     "output_type": "stream",
     "text": [
      "{'val_loss': 1.3356743549119752, 'val_accuracy': 0.6775147928994083, 'precision': 0.6690835440687867, 'recall': 0.6775147928994083, 'f1-score': 0.6580912603559755, 'macro_f1-score': 0.39314609779672854, 'balanced_accuracy': 0.38774111832995517, 'mcc': 0.5712501420578231, 'train_loss': 0.5872876448322556}\n",
      "Epoch 5/20\n"
     ]
    },
    {
     "name": "stderr",
     "output_type": "stream",
     "text": [
      "100%|██████████| 835/835 [01:14<00:00, 11.18it/s]\n"
     ]
    },
    {
     "name": "stdout",
     "output_type": "stream",
     "text": [
      "{'val_loss': 1.3360764522035167, 'val_accuracy': 0.6810650887573965, 'precision': 0.6750965464704337, 'recall': 0.6810650887573965, 'f1-score': 0.6644410394998742, 'macro_f1-score': 0.39841381161901573, 'balanced_accuracy': 0.39295473399183556, 'mcc': 0.5754824533970303, 'train_loss': 0.4733923865649515}\n",
      "Epoch 6/20\n"
     ]
    },
    {
     "name": "stderr",
     "output_type": "stream",
     "text": [
      "100%|██████████| 835/835 [01:14<00:00, 11.17it/s]\n"
     ]
    },
    {
     "name": "stdout",
     "output_type": "stream",
     "text": [
      "{'val_loss': 1.4233249515857336, 'val_accuracy': 0.672189349112426, 'precision': 0.6578608162806744, 'recall': 0.672189349112426, 'f1-score': 0.6544949747746933, 'macro_f1-score': 0.37026180464983616, 'balanced_accuracy': 0.36215970583691126, 'mcc': 0.5626963739167541, 'train_loss': 0.3881336135020156}\n",
      "Epoch 7/20\n"
     ]
    },
    {
     "name": "stderr",
     "output_type": "stream",
     "text": [
      "100%|██████████| 835/835 [01:14<00:00, 11.20it/s]\n"
     ]
    },
    {
     "name": "stdout",
     "output_type": "stream",
     "text": [
      "{'val_loss': 1.4212083471411805, 'val_accuracy': 0.6869822485207101, 'precision': 0.7009670977494531, 'recall': 0.6869822485207101, 'f1-score': 0.67421121379514, 'macro_f1-score': 0.4086357544297291, 'balanced_accuracy': 0.41216321479062207, 'mcc': 0.5906323062929384, 'train_loss': 0.3528980850771873}\n",
      "Epoch 8/20\n"
     ]
    },
    {
     "name": "stderr",
     "output_type": "stream",
     "text": [
      "100%|██████████| 835/835 [01:14<00:00, 11.20it/s]\n"
     ]
    },
    {
     "name": "stdout",
     "output_type": "stream",
     "text": [
      "{'val_loss': 1.4543183183051505, 'val_accuracy': 0.6857988165680473, 'precision': 0.6722462423799391, 'recall': 0.6857988165680473, 'f1-score': 0.6697063048723034, 'macro_f1-score': 0.38520978262976463, 'balanced_accuracy': 0.37198660266331535, 'mcc': 0.5799364676464368, 'train_loss': 0.293158276840866}\n",
      "Epoch 9/20\n"
     ]
    },
    {
     "name": "stderr",
     "output_type": "stream",
     "text": [
      "100%|██████████| 835/835 [01:14<00:00, 11.19it/s]\n"
     ]
    },
    {
     "name": "stdout",
     "output_type": "stream",
     "text": [
      "{'val_loss': 1.4553210770465292, 'val_accuracy': 0.6715976331360947, 'precision': 0.6652768984214877, 'recall': 0.6715976331360947, 'f1-score': 0.6572241419717666, 'macro_f1-score': 0.386889980584765, 'balanced_accuracy': 0.3721340001334081, 'mcc': 0.5655300685576266, 'train_loss': 0.2611260025979516}\n",
      "Epoch 10/20\n"
     ]
    },
    {
     "name": "stderr",
     "output_type": "stream",
     "text": [
      "100%|██████████| 835/835 [01:14<00:00, 11.21it/s]\n"
     ]
    },
    {
     "name": "stdout",
     "output_type": "stream",
     "text": [
      "{'val_loss': 1.5370977066879004, 'val_accuracy': 0.685207100591716, 'precision': 0.6711389487543483, 'recall': 0.685207100591716, 'f1-score': 0.6678403469013522, 'macro_f1-score': 0.40403153661763885, 'balanced_accuracy': 0.37796456004257983, 'mcc': 0.5784097988268796, 'train_loss': 0.2389147134308151}\n",
      "Early stopping.\n",
      "\n",
      " === bert-base-uncased + lstm + word2vec Final 5-fold Cross-Validation Results ===\n",
      "Total time: 3349 seconds\n",
      "Total time: 0 hrs 55 mins 49 secs\n",
      "val_loss: 1.3882\n",
      "val_accuracy: 0.6720\n",
      "precision: 0.6766\n",
      "recall: 0.6720\n",
      "f1-score: 0.6575\n",
      "macro_f1-score: 0.4178\n",
      "balanced_accuracy: 0.4229\n",
      "mcc: 0.5648\n",
      "train_loss: 0.5649\n",
      "▶ Running: bert-base-uncased + cnn + word2vec\n",
      "tokenizer is bert-base-uncased\n",
      "Using device: cuda\n",
      "CUDA Available: True\n",
      "CUDA Device: NVIDIA GeForce RTX 5070 Ti\n",
      "Current GPU Memory Allocated: 0.02 GB\n",
      "Current GPU Memory Cached: 3.14 GB\n",
      "\n",
      "[Fold 1]\n",
      "🚀 Using Word2Vec for data augmentation\n",
      "🔧 Augmenting label 1: 25 → 200 (+175)\n",
      "🔧 Augmenting label 2: 112 → 200 (+88)\n",
      "🔧 Augmenting label 3: 24 → 200 (+176)\n",
      "🔧 Augmenting label 5: 116 → 200 (+84)\n",
      "🔧 Augmenting label 6: 95 → 200 (+105)\n",
      "🔧 Augmenting label 7: 31 → 200 (+169)\n",
      "🔧 Augmenting label 8: 68 → 200 (+132)\n",
      "🔧 Augmenting label 9: 65 → 200 (+135)\n",
      "🔧 Augmenting label 10: 70 → 200 (+130)\n",
      "🔧 Augmenting label 11: 172 → 200 (+28)\n",
      "🔧 Augmenting label 12: 193 → 200 (+7)\n",
      "🔧 Augmenting label 13: 29 → 200 (+171)\n",
      "🔧 Augmenting label 14: 23 → 200 (+177)\n",
      "🔧 Augmenting label 15: 25 → 200 (+175)\n",
      "🔧 Augmenting label 16: 20 → 200 (+180)\n",
      "🔧 Augmenting label 18: 93 → 200 (+107)\n",
      "🔧 Augmenting label 19: 45 → 200 (+155)\n",
      "🔧 Augmenting label 20: 14 → 200 (+186)\n",
      "🔧 Augmenting label 21: 35 → 200 (+165)\n",
      "🔧 Augmenting label 22: 78 → 200 (+122)\n",
      "🔧 Augmenting label 23: 160 → 200 (+40)\n",
      "🔧 Augmenting label 24: 16 → 200 (+184)\n",
      "🔧 Augmenting label 25: 50 → 200 (+150)\n",
      "🔧 Augmenting label 26: 86 → 200 (+114)\n",
      "🔧 Augmenting label 27: 49 → 200 (+151)\n",
      "🔧 Augmenting label 28: 12 → 200 (+188)\n",
      "🔧 Augmenting label 29: 13 → 200 (+187)\n",
      "🔧 Augmenting label 30: 15 → 200 (+185)\n",
      "🔧 Augmenting label 31: 80 → 200 (+120)\n",
      "🔧 Augmenting label 32: 36 → 200 (+164)\n",
      "🔧 Augmenting label 33: 32 → 200 (+168)\n",
      "🔧 Augmenting label 34: 30 → 200 (+170)\n",
      "🔧 Augmenting label 35: 12 → 200 (+188)\n",
      "🔧 Augmenting label 36: 28 → 200 (+172)\n",
      "🔧 Augmenting label 37: 21 → 200 (+179)\n",
      "🔧 Augmenting label 38: 6 → 200 (+194)\n",
      "🔧 Augmenting label 39: 103 → 200 (+97)\n",
      "🔧 Augmenting label 40: 12 → 200 (+188)\n",
      "🔧 Augmenting label 41: 8 → 200 (+192)\n",
      "🔧 Augmenting label 42: 147 → 200 (+53)\n",
      "🔧 Augmenting label 43: 16 → 200 (+184)\n",
      "🔧 Augmenting label 44: 20 → 200 (+180)\n",
      "🔧 Augmenting label 45: 9 → 200 (+191)\n",
      "🔧 Augmenting label 46: 54 → 200 (+146)\n",
      "🔧 Augmenting label 49: 69 → 200 (+131)\n",
      "Label distribution after resampling:\n",
      "  label 0: 3179\n",
      "  label 1: 200\n",
      "  label 2: 200\n",
      "  label 3: 200\n",
      "  label 4: 205\n",
      "  label 5: 200\n",
      "  label 6: 200\n",
      "  label 7: 200\n",
      "  label 8: 200\n",
      "  label 9: 200\n",
      "  label 10: 200\n",
      "  label 11: 200\n",
      "  label 12: 200\n",
      "  label 13: 200\n",
      "  label 14: 200\n",
      "  label 15: 200\n",
      "  label 16: 200\n",
      "  label 17: 231\n",
      "  label 18: 200\n",
      "  label 19: 200\n",
      "  label 20: 200\n",
      "  label 21: 200\n",
      "  label 22: 200\n",
      "  label 23: 200\n",
      "  label 24: 200\n",
      "  label 25: 200\n",
      "  label 26: 200\n",
      "  label 27: 200\n",
      "  label 28: 200\n",
      "  label 29: 200\n",
      "  label 30: 200\n",
      "  label 31: 200\n",
      "  label 32: 200\n",
      "  label 33: 200\n",
      "  label 34: 200\n",
      "  label 35: 200\n",
      "  label 36: 200\n",
      "  label 37: 200\n",
      "  label 38: 200\n",
      "  label 39: 200\n",
      "  label 40: 200\n",
      "  label 41: 200\n",
      "  label 42: 200\n",
      "  label 43: 200\n",
      "  label 44: 200\n",
      "  label 45: 200\n",
      "  label 46: 200\n",
      "  label 47: 529\n",
      "  label 48: 202\n",
      "  label 49: 200\n",
      "model is bert-base-uncased cnn\n",
      "Epoch 1/20\n"
     ]
    },
    {
     "name": "stderr",
     "output_type": "stream",
     "text": [
      "100%|██████████| 835/835 [01:11<00:00, 11.72it/s]\n"
     ]
    },
    {
     "name": "stdout",
     "output_type": "stream",
     "text": [
      "{'val_loss': 1.4368684120335669, 'val_accuracy': 0.6043761088113542, 'precision': 0.5905050939395585, 'recall': 0.6043761088113542, 'f1-score': 0.5701454035992942, 'macro_f1-score': 0.29003375829632044, 'balanced_accuracy': 0.34411257865741673, 'mcc': 0.4683532336030606, 'train_loss': 2.234124454802382}\n",
      "Epoch 2/20\n"
     ]
    },
    {
     "name": "stderr",
     "output_type": "stream",
     "text": [
      "100%|██████████| 835/835 [01:11<00:00, 11.72it/s]\n"
     ]
    },
    {
     "name": "stdout",
     "output_type": "stream",
     "text": [
      "{'val_loss': 1.3984959536003616, 'val_accuracy': 0.618568894145476, 'precision': 0.6579417352237089, 'recall': 0.618568894145476, 'f1-score': 0.6015097727112554, 'macro_f1-score': 0.35382465308368116, 'balanced_accuracy': 0.37506908714613796, 'mcc': 0.4899483283735517, 'train_loss': 0.886065777922105}\n",
      "Epoch 3/20\n"
     ]
    },
    {
     "name": "stderr",
     "output_type": "stream",
     "text": [
      "100%|██████████| 835/835 [01:11<00:00, 11.72it/s]\n"
     ]
    },
    {
     "name": "stdout",
     "output_type": "stream",
     "text": [
      "{'val_loss': 1.3907021873120993, 'val_accuracy': 0.6505026611472502, 'precision': 0.6783945414720549, 'recall': 0.6505026611472502, 'f1-score': 0.6467514441039789, 'macro_f1-score': 0.4211505676395986, 'balanced_accuracy': 0.4652630839222684, 'mcc': 0.5464651821425732, 'train_loss': 0.4677438198449369}\n",
      "Epoch 4/20\n"
     ]
    },
    {
     "name": "stderr",
     "output_type": "stream",
     "text": [
      "100%|██████████| 835/835 [01:11<00:00, 11.70it/s]\n"
     ]
    },
    {
     "name": "stdout",
     "output_type": "stream",
     "text": [
      "{'val_loss': 1.4022686101917952, 'val_accuracy': 0.6712004730928445, 'precision': 0.6665777008541388, 'recall': 0.6712004730928445, 'f1-score': 0.6533246968554104, 'macro_f1-score': 0.4390574072953939, 'balanced_accuracy': 0.4294789602473104, 'mcc': 0.5596180810548227, 'train_loss': 0.3241776074834926}\n",
      "Epoch 5/20\n"
     ]
    },
    {
     "name": "stderr",
     "output_type": "stream",
     "text": [
      "100%|██████████| 835/835 [01:11<00:00, 11.74it/s]\n"
     ]
    },
    {
     "name": "stdout",
     "output_type": "stream",
     "text": [
      "{'val_loss': 1.534057986342682, 'val_accuracy': 0.667652276759314, 'precision': 0.666443209561899, 'recall': 0.667652276759314, 'f1-score': 0.6503202777401491, 'macro_f1-score': 0.4232406668935215, 'balanced_accuracy': 0.4305238723058454, 'mcc': 0.5568063780539658, 'train_loss': 0.2625603431612699}\n",
      "Epoch 6/20\n"
     ]
    },
    {
     "name": "stderr",
     "output_type": "stream",
     "text": [
      "100%|██████████| 835/835 [01:11<00:00, 11.72it/s]\n"
     ]
    },
    {
     "name": "stdout",
     "output_type": "stream",
     "text": [
      "{'val_loss': 1.6966404289288342, 'val_accuracy': 0.6522767593140154, 'precision': 0.643873886766099, 'recall': 0.6522767593140154, 'f1-score': 0.6324067948753388, 'macro_f1-score': 0.4131397194427424, 'balanced_accuracy': 0.3962042196259246, 'mcc': 0.5349565398454871, 'train_loss': 0.22918402440845967}\n",
      "Epoch 7/20\n"
     ]
    },
    {
     "name": "stderr",
     "output_type": "stream",
     "text": [
      "100%|██████████| 835/835 [01:11<00:00, 11.73it/s]\n"
     ]
    },
    {
     "name": "stdout",
     "output_type": "stream",
     "text": [
      "{'val_loss': 1.7145815646311022, 'val_accuracy': 0.6629213483146067, 'precision': 0.6625657352369041, 'recall': 0.6629213483146067, 'f1-score': 0.6459277539151305, 'macro_f1-score': 0.40977100164848407, 'balanced_accuracy': 0.4297847179588928, 'mcc': 0.5541455244796275, 'train_loss': 0.2074434766439933}\n",
      "Early stopping.\n",
      "\n",
      "[Fold 2]\n",
      "🚀 Using Word2Vec for data augmentation\n",
      "🔧 Augmenting label 1: 25 → 200 (+175)\n",
      "🔧 Augmenting label 2: 112 → 200 (+88)\n",
      "🔧 Augmenting label 3: 24 → 200 (+176)\n",
      "🔧 Augmenting label 5: 116 → 200 (+84)\n",
      "🔧 Augmenting label 6: 94 → 200 (+106)\n",
      "🔧 Augmenting label 7: 31 → 200 (+169)\n",
      "🔧 Augmenting label 8: 68 → 200 (+132)\n",
      "🔧 Augmenting label 9: 65 → 200 (+135)\n",
      "🔧 Augmenting label 10: 70 → 200 (+130)\n",
      "🔧 Augmenting label 11: 172 → 200 (+28)\n",
      "🔧 Augmenting label 12: 193 → 200 (+7)\n",
      "🔧 Augmenting label 13: 29 → 200 (+171)\n",
      "🔧 Augmenting label 14: 23 → 200 (+177)\n",
      "🔧 Augmenting label 15: 25 → 200 (+175)\n",
      "🔧 Augmenting label 16: 20 → 200 (+180)\n",
      "🔧 Augmenting label 18: 93 → 200 (+107)\n",
      "🔧 Augmenting label 19: 45 → 200 (+155)\n",
      "🔧 Augmenting label 20: 14 → 200 (+186)\n",
      "🔧 Augmenting label 21: 35 → 200 (+165)\n",
      "🔧 Augmenting label 22: 78 → 200 (+122)\n",
      "🔧 Augmenting label 23: 160 → 200 (+40)\n",
      "🔧 Augmenting label 24: 16 → 200 (+184)\n",
      "🔧 Augmenting label 25: 50 → 200 (+150)\n",
      "🔧 Augmenting label 26: 86 → 200 (+114)\n",
      "🔧 Augmenting label 27: 49 → 200 (+151)\n",
      "🔧 Augmenting label 28: 12 → 200 (+188)\n",
      "🔧 Augmenting label 29: 13 → 200 (+187)\n",
      "🔧 Augmenting label 30: 15 → 200 (+185)\n",
      "🔧 Augmenting label 31: 80 → 200 (+120)\n",
      "🔧 Augmenting label 32: 36 → 200 (+164)\n",
      "🔧 Augmenting label 33: 32 → 200 (+168)\n",
      "🔧 Augmenting label 34: 30 → 200 (+170)\n",
      "🔧 Augmenting label 35: 12 → 200 (+188)\n",
      "🔧 Augmenting label 36: 28 → 200 (+172)\n",
      "🔧 Augmenting label 37: 22 → 200 (+178)\n",
      "🔧 Augmenting label 38: 5 → 200 (+195)\n",
      "🔧 Augmenting label 39: 103 → 200 (+97)\n",
      "🔧 Augmenting label 40: 11 → 200 (+189)\n",
      "🔧 Augmenting label 41: 9 → 200 (+191)\n",
      "🔧 Augmenting label 42: 147 → 200 (+53)\n",
      "🔧 Augmenting label 43: 16 → 200 (+184)\n",
      "🔧 Augmenting label 44: 20 → 200 (+180)\n",
      "🔧 Augmenting label 45: 9 → 200 (+191)\n",
      "🔧 Augmenting label 46: 55 → 200 (+145)\n",
      "🔧 Augmenting label 49: 69 → 200 (+131)\n",
      "Label distribution after resampling:\n",
      "  label 0: 3179\n",
      "  label 1: 200\n",
      "  label 2: 200\n",
      "  label 3: 200\n",
      "  label 4: 206\n",
      "  label 5: 200\n",
      "  label 6: 200\n",
      "  label 7: 200\n",
      "  label 8: 200\n",
      "  label 9: 200\n",
      "  label 10: 200\n",
      "  label 11: 200\n",
      "  label 12: 200\n",
      "  label 13: 200\n",
      "  label 14: 200\n",
      "  label 15: 200\n",
      "  label 16: 200\n",
      "  label 17: 231\n",
      "  label 18: 200\n",
      "  label 19: 200\n",
      "  label 20: 200\n",
      "  label 21: 200\n",
      "  label 22: 200\n",
      "  label 23: 200\n",
      "  label 24: 200\n",
      "  label 25: 200\n",
      "  label 26: 200\n",
      "  label 27: 200\n",
      "  label 28: 200\n",
      "  label 29: 200\n",
      "  label 30: 200\n",
      "  label 31: 200\n",
      "  label 32: 200\n",
      "  label 33: 200\n",
      "  label 34: 200\n",
      "  label 35: 200\n",
      "  label 36: 200\n",
      "  label 37: 200\n",
      "  label 38: 200\n",
      "  label 39: 200\n",
      "  label 40: 200\n",
      "  label 41: 200\n",
      "  label 42: 200\n",
      "  label 43: 200\n",
      "  label 44: 200\n",
      "  label 45: 200\n",
      "  label 46: 200\n",
      "  label 47: 528\n",
      "  label 48: 202\n",
      "  label 49: 200\n",
      "model is bert-base-uncased cnn\n",
      "Epoch 1/20\n"
     ]
    },
    {
     "name": "stderr",
     "output_type": "stream",
     "text": [
      "100%|██████████| 835/835 [01:11<00:00, 11.74it/s]\n"
     ]
    },
    {
     "name": "stdout",
     "output_type": "stream",
     "text": [
      "{'val_loss': 1.4207319260205862, 'val_accuracy': 0.6120638675340035, 'precision': 0.6583590430611239, 'recall': 0.6120638675340035, 'f1-score': 0.5997794795332885, 'macro_f1-score': 0.3239093802273982, 'balanced_accuracy': 0.38737748719377846, 'mcc': 0.4889448581129222, 'train_loss': 2.0575639721162307}\n",
      "Epoch 2/20\n"
     ]
    },
    {
     "name": "stderr",
     "output_type": "stream",
     "text": [
      "100%|██████████| 835/835 [01:11<00:00, 11.72it/s]\n"
     ]
    },
    {
     "name": "stdout",
     "output_type": "stream",
     "text": [
      "{'val_loss': 1.3580752299079355, 'val_accuracy': 0.6558249556475458, 'precision': 0.6334949622332453, 'recall': 0.6558249556475458, 'f1-score': 0.6293966871572637, 'macro_f1-score': 0.37779169839471083, 'balanced_accuracy': 0.37075799458982783, 'mcc': 0.5326322821348838, 'train_loss': 0.7836400342826357}\n",
      "Epoch 3/20\n"
     ]
    },
    {
     "name": "stderr",
     "output_type": "stream",
     "text": [
      "100%|██████████| 835/835 [01:11<00:00, 11.71it/s]\n"
     ]
    },
    {
     "name": "stdout",
     "output_type": "stream",
     "text": [
      "{'val_loss': 1.381834270397447, 'val_accuracy': 0.6877587226493199, 'precision': 0.6660053285801368, 'recall': 0.6877587226493199, 'f1-score': 0.6648160715891125, 'macro_f1-score': 0.4174942841640795, 'balanced_accuracy': 0.39780055339393383, 'mcc': 0.5764988633843003, 'train_loss': 0.4449040294161992}\n",
      "Epoch 4/20\n"
     ]
    },
    {
     "name": "stderr",
     "output_type": "stream",
     "text": [
      "100%|██████████| 835/835 [01:11<00:00, 11.72it/s]\n"
     ]
    },
    {
     "name": "stdout",
     "output_type": "stream",
     "text": [
      "{'val_loss': 1.4839198136667036, 'val_accuracy': 0.6759314015375517, 'precision': 0.6790444232574505, 'recall': 0.6759314015375517, 'f1-score': 0.6625205503817756, 'macro_f1-score': 0.4139964083941375, 'balanced_accuracy': 0.4244009019063921, 'mcc': 0.5640233203714798, 'train_loss': 0.306593434953181}\n",
      "Epoch 5/20\n"
     ]
    },
    {
     "name": "stderr",
     "output_type": "stream",
     "text": [
      "100%|██████████| 835/835 [01:11<00:00, 11.71it/s]\n"
     ]
    },
    {
     "name": "stdout",
     "output_type": "stream",
     "text": [
      "{'val_loss': 1.6346465725943726, 'val_accuracy': 0.6570076877587226, 'precision': 0.6801617732176168, 'recall': 0.6570076877587226, 'f1-score': 0.650406514198707, 'macro_f1-score': 0.4104504486206586, 'balanced_accuracy': 0.43200628926546264, 'mcc': 0.5522283862215336, 'train_loss': 0.23435416657667227}\n",
      "Epoch 6/20\n"
     ]
    },
    {
     "name": "stderr",
     "output_type": "stream",
     "text": [
      "100%|██████████| 835/835 [01:11<00:00, 11.74it/s]\n"
     ]
    },
    {
     "name": "stdout",
     "output_type": "stream",
     "text": [
      "{'val_loss': 1.7290000229511622, 'val_accuracy': 0.6794795978710823, 'precision': 0.6760398943374523, 'recall': 0.6794795978710823, 'f1-score': 0.6515222711892847, 'macro_f1-score': 0.40321807802774356, 'balanced_accuracy': 0.39753057033961864, 'mcc': 0.5622164481036419, 'train_loss': 0.21122941750542312}\n",
      "Early stopping.\n",
      "\n",
      "[Fold 3]\n",
      "🚀 Using Word2Vec for data augmentation\n",
      "🔧 Augmenting label 1: 25 → 200 (+175)\n",
      "🔧 Augmenting label 2: 112 → 200 (+88)\n",
      "🔧 Augmenting label 3: 24 → 200 (+176)\n",
      "🔧 Augmenting label 5: 116 → 200 (+84)\n",
      "🔧 Augmenting label 6: 94 → 200 (+106)\n",
      "🔧 Augmenting label 7: 31 → 200 (+169)\n",
      "🔧 Augmenting label 8: 68 → 200 (+132)\n",
      "🔧 Augmenting label 9: 65 → 200 (+135)\n",
      "🔧 Augmenting label 10: 71 → 200 (+129)\n",
      "🔧 Augmenting label 11: 172 → 200 (+28)\n",
      "🔧 Augmenting label 12: 192 → 200 (+8)\n",
      "🔧 Augmenting label 13: 29 → 200 (+171)\n",
      "🔧 Augmenting label 14: 23 → 200 (+177)\n",
      "🔧 Augmenting label 15: 25 → 200 (+175)\n",
      "🔧 Augmenting label 16: 20 → 200 (+180)\n",
      "🔧 Augmenting label 18: 93 → 200 (+107)\n",
      "🔧 Augmenting label 19: 45 → 200 (+155)\n",
      "🔧 Augmenting label 20: 14 → 200 (+186)\n",
      "🔧 Augmenting label 21: 36 → 200 (+164)\n",
      "🔧 Augmenting label 22: 77 → 200 (+123)\n",
      "🔧 Augmenting label 23: 160 → 200 (+40)\n",
      "🔧 Augmenting label 24: 16 → 200 (+184)\n",
      "🔧 Augmenting label 25: 51 → 200 (+149)\n",
      "🔧 Augmenting label 26: 85 → 200 (+115)\n",
      "🔧 Augmenting label 27: 49 → 200 (+151)\n",
      "🔧 Augmenting label 28: 12 → 200 (+188)\n",
      "🔧 Augmenting label 29: 12 → 200 (+188)\n",
      "🔧 Augmenting label 30: 16 → 200 (+184)\n",
      "🔧 Augmenting label 31: 80 → 200 (+120)\n",
      "🔧 Augmenting label 32: 36 → 200 (+164)\n",
      "🔧 Augmenting label 33: 32 → 200 (+168)\n",
      "🔧 Augmenting label 34: 29 → 200 (+171)\n",
      "🔧 Augmenting label 35: 12 → 200 (+188)\n",
      "🔧 Augmenting label 36: 28 → 200 (+172)\n",
      "🔧 Augmenting label 37: 22 → 200 (+178)\n",
      "🔧 Augmenting label 38: 5 → 200 (+195)\n",
      "🔧 Augmenting label 39: 103 → 200 (+97)\n",
      "🔧 Augmenting label 40: 11 → 200 (+189)\n",
      "🔧 Augmenting label 41: 9 → 200 (+191)\n",
      "🔧 Augmenting label 42: 147 → 200 (+53)\n",
      "🔧 Augmenting label 43: 16 → 200 (+184)\n",
      "🔧 Augmenting label 44: 20 → 200 (+180)\n",
      "🔧 Augmenting label 45: 9 → 200 (+191)\n",
      "🔧 Augmenting label 46: 55 → 200 (+145)\n",
      "🔧 Augmenting label 49: 70 → 200 (+130)\n",
      "Label distribution after resampling:\n",
      "  label 0: 3179\n",
      "  label 1: 200\n",
      "  label 2: 200\n",
      "  label 3: 200\n",
      "  label 4: 206\n",
      "  label 5: 200\n",
      "  label 6: 200\n",
      "  label 7: 200\n",
      "  label 8: 200\n",
      "  label 9: 200\n",
      "  label 10: 200\n",
      "  label 11: 200\n",
      "  label 12: 200\n",
      "  label 13: 200\n",
      "  label 14: 200\n",
      "  label 15: 200\n",
      "  label 16: 200\n",
      "  label 17: 231\n",
      "  label 18: 200\n",
      "  label 19: 200\n",
      "  label 20: 200\n",
      "  label 21: 200\n",
      "  label 22: 200\n",
      "  label 23: 200\n",
      "  label 24: 200\n",
      "  label 25: 200\n",
      "  label 26: 200\n",
      "  label 27: 200\n",
      "  label 28: 200\n",
      "  label 29: 200\n",
      "  label 30: 200\n",
      "  label 31: 200\n",
      "  label 32: 200\n",
      "  label 33: 200\n",
      "  label 34: 200\n",
      "  label 35: 200\n",
      "  label 36: 200\n",
      "  label 37: 200\n",
      "  label 38: 200\n",
      "  label 39: 200\n",
      "  label 40: 200\n",
      "  label 41: 200\n",
      "  label 42: 200\n",
      "  label 43: 200\n",
      "  label 44: 200\n",
      "  label 45: 200\n",
      "  label 46: 200\n",
      "  label 47: 529\n",
      "  label 48: 201\n",
      "  label 49: 200\n",
      "model is bert-base-uncased cnn\n",
      "Epoch 1/20\n"
     ]
    },
    {
     "name": "stderr",
     "output_type": "stream",
     "text": [
      "100%|██████████| 835/835 [01:11<00:00, 11.72it/s]\n"
     ]
    },
    {
     "name": "stdout",
     "output_type": "stream",
     "text": [
      "{'val_loss': 1.445760949040359, 'val_accuracy': 0.6144293317563572, 'precision': 0.5498344575194755, 'recall': 0.6144293317563572, 'f1-score': 0.547384924308841, 'macro_f1-score': 0.27356632448332685, 'balanced_accuracy': 0.27852701789336526, 'mcc': 0.45923543644278997, 'train_loss': 2.1667531430096685}\n",
      "Epoch 2/20\n"
     ]
    },
    {
     "name": "stderr",
     "output_type": "stream",
     "text": [
      "100%|██████████| 835/835 [01:11<00:00, 11.72it/s]\n"
     ]
    },
    {
     "name": "stdout",
     "output_type": "stream",
     "text": [
      "{'val_loss': 1.2870928203722216, 'val_accuracy': 0.6558249556475458, 'precision': 0.665449331537016, 'recall': 0.6558249556475458, 'f1-score': 0.6385074468057583, 'macro_f1-score': 0.3902264490047451, 'balanced_accuracy': 0.39704705043625105, 'mcc': 0.5427276055471041, 'train_loss': 0.8252667336406821}\n",
      "Epoch 3/20\n"
     ]
    },
    {
     "name": "stderr",
     "output_type": "stream",
     "text": [
      "100%|██████████| 835/835 [01:11<00:00, 11.74it/s]\n"
     ]
    },
    {
     "name": "stdout",
     "output_type": "stream",
     "text": [
      "{'val_loss': 1.4520476716306974, 'val_accuracy': 0.6617386162034299, 'precision': 0.6398095170918249, 'recall': 0.6617386162034299, 'f1-score': 0.6269957241410931, 'macro_f1-score': 0.32190580659967205, 'balanced_accuracy': 0.2982225984323445, 'mcc': 0.5371492831068984, 'train_loss': 0.44311875624214103}\n",
      "Epoch 4/20\n"
     ]
    },
    {
     "name": "stderr",
     "output_type": "stream",
     "text": [
      "100%|██████████| 835/835 [01:11<00:00, 11.72it/s]\n"
     ]
    },
    {
     "name": "stdout",
     "output_type": "stream",
     "text": [
      "{'val_loss': 1.4324253901558102, 'val_accuracy': 0.6652868125369604, 'precision': 0.6650141715968574, 'recall': 0.6652868125369604, 'f1-score': 0.6511771852530006, 'macro_f1-score': 0.37967521644904906, 'balanced_accuracy': 0.3862412354532088, 'mcc': 0.5588902302297312, 'train_loss': 0.31425384800591155}\n",
      "Epoch 5/20\n"
     ]
    },
    {
     "name": "stderr",
     "output_type": "stream",
     "text": [
      "100%|██████████| 835/835 [01:11<00:00, 11.74it/s]\n"
     ]
    },
    {
     "name": "stdout",
     "output_type": "stream",
     "text": [
      "{'val_loss': 1.512555960495517, 'val_accuracy': 0.6587817859254879, 'precision': 0.6666048922177495, 'recall': 0.6587817859254879, 'f1-score': 0.6460687655871747, 'macro_f1-score': 0.36927549009833344, 'balanced_accuracy': 0.36599205048097155, 'mcc': 0.5428199478623484, 'train_loss': 0.25523456931393035}\n",
      "Early stopping.\n",
      "\n",
      "[Fold 4]\n",
      "🚀 Using Word2Vec for data augmentation\n",
      "🔧 Augmenting label 1: 25 → 200 (+175)\n",
      "🔧 Augmenting label 2: 112 → 200 (+88)\n",
      "🔧 Augmenting label 3: 24 → 200 (+176)\n",
      "🔧 Augmenting label 5: 116 → 200 (+84)\n",
      "🔧 Augmenting label 6: 94 → 200 (+106)\n",
      "🔧 Augmenting label 7: 32 → 200 (+168)\n",
      "🔧 Augmenting label 8: 68 → 200 (+132)\n",
      "🔧 Augmenting label 9: 64 → 200 (+136)\n",
      "🔧 Augmenting label 10: 71 → 200 (+129)\n",
      "🔧 Augmenting label 11: 172 → 200 (+28)\n",
      "🔧 Augmenting label 12: 193 → 200 (+7)\n",
      "🔧 Augmenting label 13: 28 → 200 (+172)\n",
      "🔧 Augmenting label 14: 24 → 200 (+176)\n",
      "🔧 Augmenting label 15: 24 → 200 (+176)\n",
      "🔧 Augmenting label 16: 20 → 200 (+180)\n",
      "🔧 Augmenting label 18: 92 → 200 (+108)\n",
      "🔧 Augmenting label 19: 45 → 200 (+155)\n",
      "🔧 Augmenting label 20: 15 → 200 (+185)\n",
      "🔧 Augmenting label 21: 35 → 200 (+165)\n",
      "🔧 Augmenting label 22: 77 → 200 (+123)\n",
      "🔧 Augmenting label 23: 160 → 200 (+40)\n",
      "🔧 Augmenting label 24: 16 → 200 (+184)\n",
      "🔧 Augmenting label 25: 51 → 200 (+149)\n",
      "🔧 Augmenting label 26: 85 → 200 (+115)\n",
      "🔧 Augmenting label 27: 49 → 200 (+151)\n",
      "🔧 Augmenting label 28: 12 → 200 (+188)\n",
      "🔧 Augmenting label 29: 13 → 200 (+187)\n",
      "🔧 Augmenting label 30: 15 → 200 (+185)\n",
      "🔧 Augmenting label 31: 80 → 200 (+120)\n",
      "🔧 Augmenting label 32: 36 → 200 (+164)\n",
      "🔧 Augmenting label 33: 32 → 200 (+168)\n",
      "🔧 Augmenting label 34: 29 → 200 (+171)\n",
      "🔧 Augmenting label 35: 12 → 200 (+188)\n",
      "🔧 Augmenting label 36: 28 → 200 (+172)\n",
      "🔧 Augmenting label 37: 22 → 200 (+178)\n",
      "🔧 Augmenting label 38: 6 → 200 (+194)\n",
      "🔧 Augmenting label 39: 103 → 200 (+97)\n",
      "🔧 Augmenting label 40: 11 → 200 (+189)\n",
      "🔧 Augmenting label 41: 9 → 200 (+191)\n",
      "🔧 Augmenting label 42: 148 → 200 (+52)\n",
      "🔧 Augmenting label 43: 16 → 200 (+184)\n",
      "🔧 Augmenting label 44: 20 → 200 (+180)\n",
      "🔧 Augmenting label 45: 8 → 200 (+192)\n",
      "🔧 Augmenting label 46: 54 → 200 (+146)\n",
      "🔧 Augmenting label 49: 70 → 200 (+130)\n",
      "Label distribution after resampling:\n",
      "  label 0: 3179\n",
      "  label 1: 200\n",
      "  label 2: 200\n",
      "  label 3: 200\n",
      "  label 4: 206\n",
      "  label 5: 200\n",
      "  label 6: 200\n",
      "  label 7: 200\n",
      "  label 8: 200\n",
      "  label 9: 200\n",
      "  label 10: 200\n",
      "  label 11: 200\n",
      "  label 12: 200\n",
      "  label 13: 200\n",
      "  label 14: 200\n",
      "  label 15: 200\n",
      "  label 16: 200\n",
      "  label 17: 232\n",
      "  label 18: 200\n",
      "  label 19: 200\n",
      "  label 20: 200\n",
      "  label 21: 200\n",
      "  label 22: 200\n",
      "  label 23: 200\n",
      "  label 24: 200\n",
      "  label 25: 200\n",
      "  label 26: 200\n",
      "  label 27: 200\n",
      "  label 28: 200\n",
      "  label 29: 200\n",
      "  label 30: 200\n",
      "  label 31: 200\n",
      "  label 32: 200\n",
      "  label 33: 200\n",
      "  label 34: 200\n",
      "  label 35: 200\n",
      "  label 36: 200\n",
      "  label 37: 200\n",
      "  label 38: 200\n",
      "  label 39: 200\n",
      "  label 40: 200\n",
      "  label 41: 200\n",
      "  label 42: 200\n",
      "  label 43: 200\n",
      "  label 44: 200\n",
      "  label 45: 200\n",
      "  label 46: 200\n",
      "  label 47: 529\n",
      "  label 48: 201\n",
      "  label 49: 200\n",
      "model is bert-base-uncased cnn\n",
      "Epoch 1/20\n"
     ]
    },
    {
     "name": "stderr",
     "output_type": "stream",
     "text": [
      "100%|██████████| 835/835 [01:11<00:00, 11.74it/s]\n"
     ]
    },
    {
     "name": "stdout",
     "output_type": "stream",
     "text": [
      "{'val_loss': 1.2621799076222024, 'val_accuracy': 0.6369012418687168, 'precision': 0.644475450793287, 'recall': 0.6369012418687168, 'f1-score': 0.5986480868661793, 'macro_f1-score': 0.3581275500041461, 'balanced_accuracy': 0.3702089932336105, 'mcc': 0.4994932539121776, 'train_loss': 2.128635295922171}\n",
      "Epoch 2/20\n"
     ]
    },
    {
     "name": "stderr",
     "output_type": "stream",
     "text": [
      "100%|██████████| 835/835 [01:11<00:00, 11.73it/s]\n"
     ]
    },
    {
     "name": "stdout",
     "output_type": "stream",
     "text": [
      "{'val_loss': 1.251414788640895, 'val_accuracy': 0.6652868125369604, 'precision': 0.6787413804466031, 'recall': 0.6652868125369604, 'f1-score': 0.6544233019056263, 'macro_f1-score': 0.4231010342886761, 'balanced_accuracy': 0.4277964674777015, 'mcc': 0.55841734041923, 'train_loss': 0.8133432301575553}\n",
      "Epoch 3/20\n"
     ]
    },
    {
     "name": "stderr",
     "output_type": "stream",
     "text": [
      "100%|██████████| 835/835 [01:11<00:00, 11.72it/s]\n"
     ]
    },
    {
     "name": "stdout",
     "output_type": "stream",
     "text": [
      "{'val_loss': 1.2327966716773104, 'val_accuracy': 0.6859846244825547, 'precision': 0.6803795752113688, 'recall': 0.6859846244825547, 'f1-score': 0.6741229788221642, 'macro_f1-score': 0.43367863420700836, 'balanced_accuracy': 0.4217261382706383, 'mcc': 0.5828199917893276, 'train_loss': 0.4614933985993712}\n",
      "Epoch 4/20\n"
     ]
    },
    {
     "name": "stderr",
     "output_type": "stream",
     "text": [
      "100%|██████████| 835/835 [01:11<00:00, 11.71it/s]\n"
     ]
    },
    {
     "name": "stdout",
     "output_type": "stream",
     "text": [
      "{'val_loss': 1.3814276057594228, 'val_accuracy': 0.6824364281490243, 'precision': 0.6778233535235936, 'recall': 0.6824364281490243, 'f1-score': 0.6635322489018997, 'macro_f1-score': 0.42824341494367935, 'balanced_accuracy': 0.4125292997400505, 'mcc': 0.5730507932273794, 'train_loss': 0.3095377442538515}\n",
      "Epoch 5/20\n"
     ]
    },
    {
     "name": "stderr",
     "output_type": "stream",
     "text": [
      "100%|██████████| 835/835 [01:11<00:00, 11.72it/s]\n"
     ]
    },
    {
     "name": "stdout",
     "output_type": "stream",
     "text": [
      "{'val_loss': 1.4451522904465783, 'val_accuracy': 0.6978119455943229, 'precision': 0.684074744758574, 'recall': 0.6978119455943229, 'f1-score': 0.6756784487228271, 'macro_f1-score': 0.43079190356348057, 'balanced_accuracy': 0.40809414906919705, 'mcc': 0.5936067780284608, 'train_loss': 0.2621878797567622}\n",
      "Epoch 6/20\n"
     ]
    },
    {
     "name": "stderr",
     "output_type": "stream",
     "text": [
      "100%|██████████| 835/835 [01:11<00:00, 11.74it/s]\n"
     ]
    },
    {
     "name": "stdout",
     "output_type": "stream",
     "text": [
      "{'val_loss': 1.5573168408195928, 'val_accuracy': 0.6818450620934359, 'precision': 0.6817529568442777, 'recall': 0.6818450620934359, 'f1-score': 0.6643015264739451, 'macro_f1-score': 0.4322580164689414, 'balanced_accuracy': 0.4203352753095442, 'mcc': 0.5773376209767426, 'train_loss': 0.2203860052088889}\n",
      "Early stopping.\n",
      "\n",
      "[Fold 5]\n",
      "🚀 Using Word2Vec for data augmentation\n",
      "🔧 Augmenting label 1: 24 → 200 (+176)\n",
      "🔧 Augmenting label 2: 112 → 200 (+88)\n",
      "🔧 Augmenting label 3: 24 → 200 (+176)\n",
      "🔧 Augmenting label 5: 116 → 200 (+84)\n",
      "🔧 Augmenting label 6: 95 → 200 (+105)\n",
      "🔧 Augmenting label 7: 31 → 200 (+169)\n",
      "🔧 Augmenting label 8: 68 → 200 (+132)\n",
      "🔧 Augmenting label 9: 65 → 200 (+135)\n",
      "🔧 Augmenting label 10: 70 → 200 (+130)\n",
      "🔧 Augmenting label 11: 172 → 200 (+28)\n",
      "🔧 Augmenting label 12: 193 → 200 (+7)\n",
      "🔧 Augmenting label 13: 29 → 200 (+171)\n",
      "🔧 Augmenting label 14: 23 → 200 (+177)\n",
      "🔧 Augmenting label 15: 25 → 200 (+175)\n",
      "🔧 Augmenting label 16: 20 → 200 (+180)\n",
      "🔧 Augmenting label 18: 93 → 200 (+107)\n",
      "🔧 Augmenting label 19: 44 → 200 (+156)\n",
      "🔧 Augmenting label 20: 15 → 200 (+185)\n",
      "🔧 Augmenting label 21: 35 → 200 (+165)\n",
      "🔧 Augmenting label 22: 78 → 200 (+122)\n",
      "🔧 Augmenting label 23: 160 → 200 (+40)\n",
      "🔧 Augmenting label 24: 16 → 200 (+184)\n",
      "🔧 Augmenting label 25: 50 → 200 (+150)\n",
      "🔧 Augmenting label 26: 86 → 200 (+114)\n",
      "🔧 Augmenting label 27: 48 → 200 (+152)\n",
      "🔧 Augmenting label 28: 12 → 200 (+188)\n",
      "🔧 Augmenting label 29: 13 → 200 (+187)\n",
      "🔧 Augmenting label 30: 15 → 200 (+185)\n",
      "🔧 Augmenting label 31: 80 → 200 (+120)\n",
      "🔧 Augmenting label 32: 36 → 200 (+164)\n",
      "🔧 Augmenting label 33: 32 → 200 (+168)\n",
      "🔧 Augmenting label 34: 30 → 200 (+170)\n",
      "🔧 Augmenting label 35: 12 → 200 (+188)\n",
      "🔧 Augmenting label 36: 28 → 200 (+172)\n",
      "🔧 Augmenting label 37: 21 → 200 (+179)\n",
      "🔧 Augmenting label 38: 6 → 200 (+194)\n",
      "🔧 Augmenting label 39: 104 → 200 (+96)\n",
      "🔧 Augmenting label 40: 11 → 200 (+189)\n",
      "🔧 Augmenting label 41: 9 → 200 (+191)\n",
      "🔧 Augmenting label 42: 147 → 200 (+53)\n",
      "🔧 Augmenting label 43: 16 → 200 (+184)\n",
      "🔧 Augmenting label 44: 20 → 200 (+180)\n",
      "🔧 Augmenting label 45: 9 → 200 (+191)\n",
      "🔧 Augmenting label 46: 54 → 200 (+146)\n",
      "🔧 Augmenting label 49: 70 → 200 (+130)\n",
      "Label distribution after resampling:\n",
      "  label 0: 3180\n",
      "  label 1: 200\n",
      "  label 2: 200\n",
      "  label 3: 200\n",
      "  label 4: 205\n",
      "  label 5: 200\n",
      "  label 6: 200\n",
      "  label 7: 200\n",
      "  label 8: 200\n",
      "  label 9: 200\n",
      "  label 10: 200\n",
      "  label 11: 200\n",
      "  label 12: 200\n",
      "  label 13: 200\n",
      "  label 14: 200\n",
      "  label 15: 200\n",
      "  label 16: 200\n",
      "  label 17: 231\n",
      "  label 18: 200\n",
      "  label 19: 200\n",
      "  label 20: 200\n",
      "  label 21: 200\n",
      "  label 22: 200\n",
      "  label 23: 200\n",
      "  label 24: 200\n",
      "  label 25: 200\n",
      "  label 26: 200\n",
      "  label 27: 200\n",
      "  label 28: 200\n",
      "  label 29: 200\n",
      "  label 30: 200\n",
      "  label 31: 200\n",
      "  label 32: 200\n",
      "  label 33: 200\n",
      "  label 34: 200\n",
      "  label 35: 200\n",
      "  label 36: 200\n",
      "  label 37: 200\n",
      "  label 38: 200\n",
      "  label 39: 200\n",
      "  label 40: 200\n",
      "  label 41: 200\n",
      "  label 42: 200\n",
      "  label 43: 200\n",
      "  label 44: 200\n",
      "  label 45: 200\n",
      "  label 46: 200\n",
      "  label 47: 529\n",
      "  label 48: 202\n",
      "  label 49: 200\n",
      "model is bert-base-uncased cnn\n",
      "Epoch 1/20\n"
     ]
    },
    {
     "name": "stderr",
     "output_type": "stream",
     "text": [
      "100%|██████████| 835/835 [01:11<00:00, 11.72it/s]\n"
     ]
    },
    {
     "name": "stdout",
     "output_type": "stream",
     "text": [
      "{'val_loss': 1.345919522193243, 'val_accuracy': 0.6366863905325444, 'precision': 0.6007957645941843, 'recall': 0.6366863905325444, 'f1-score': 0.5917003050532591, 'macro_f1-score': 0.3069335820634369, 'balanced_accuracy': 0.3097819568928669, 'mcc': 0.4999227905673272, 'train_loss': 2.0422672215336095}\n",
      "Epoch 2/20\n"
     ]
    },
    {
     "name": "stderr",
     "output_type": "stream",
     "text": [
      "100%|██████████| 835/835 [01:11<00:00, 11.73it/s]\n"
     ]
    },
    {
     "name": "stdout",
     "output_type": "stream",
     "text": [
      "{'val_loss': 1.2981405120413259, 'val_accuracy': 0.6396449704142012, 'precision': 0.6633111776581374, 'recall': 0.6396449704142012, 'f1-score': 0.6377565063369205, 'macro_f1-score': 0.39245366604271403, 'balanced_accuracy': 0.4113292051266048, 'mcc': 0.5305903156074118, 'train_loss': 0.791511635794611}\n",
      "Epoch 3/20\n"
     ]
    },
    {
     "name": "stderr",
     "output_type": "stream",
     "text": [
      "100%|██████████| 835/835 [01:11<00:00, 11.74it/s]\n"
     ]
    },
    {
     "name": "stdout",
     "output_type": "stream",
     "text": [
      "{'val_loss': 1.375569517038903, 'val_accuracy': 0.6550295857988165, 'precision': 0.6889719581756786, 'recall': 0.6550295857988165, 'f1-score': 0.6483164224091386, 'macro_f1-score': 0.39715921935379406, 'balanced_accuracy': 0.4002774883818767, 'mcc': 0.5494269937085334, 'train_loss': 0.43395082932523266}\n",
      "Epoch 4/20\n"
     ]
    },
    {
     "name": "stderr",
     "output_type": "stream",
     "text": [
      "100%|██████████| 835/835 [01:11<00:00, 11.73it/s]\n"
     ]
    },
    {
     "name": "stdout",
     "output_type": "stream",
     "text": [
      "{'val_loss': 1.4150510833791967, 'val_accuracy': 0.6727810650887573, 'precision': 0.666148232291931, 'recall': 0.6727810650887573, 'f1-score': 0.6580785688951979, 'macro_f1-score': 0.40001001365194505, 'balanced_accuracy': 0.393340960046588, 'mcc': 0.5609447964063711, 'train_loss': 0.3091437855757728}\n",
      "Epoch 5/20\n"
     ]
    },
    {
     "name": "stderr",
     "output_type": "stream",
     "text": [
      "100%|██████████| 835/835 [01:11<00:00, 11.74it/s]\n"
     ]
    },
    {
     "name": "stdout",
     "output_type": "stream",
     "text": [
      "{'val_loss': 1.5085776545247942, 'val_accuracy': 0.6739644970414201, 'precision': 0.6991760187733191, 'recall': 0.6739644970414201, 'f1-score': 0.6657281002136827, 'macro_f1-score': 0.398151198486384, 'balanced_accuracy': 0.3971231225201361, 'mcc': 0.5690511390847539, 'train_loss': 0.24347502111630168}\n",
      "Epoch 6/20\n"
     ]
    },
    {
     "name": "stderr",
     "output_type": "stream",
     "text": [
      "100%|██████████| 835/835 [01:11<00:00, 11.73it/s]\n"
     ]
    },
    {
     "name": "stdout",
     "output_type": "stream",
     "text": [
      "{'val_loss': 1.5366586228164862, 'val_accuracy': 0.6792899408284023, 'precision': 0.6604765037783922, 'recall': 0.6792899408284023, 'f1-score': 0.6548180654457664, 'macro_f1-score': 0.3655568462094625, 'balanced_accuracy': 0.35379832935376976, 'mcc': 0.5635589114859438, 'train_loss': 0.23497274163218138}\n",
      "Epoch 7/20\n"
     ]
    },
    {
     "name": "stderr",
     "output_type": "stream",
     "text": [
      "100%|██████████| 835/835 [01:11<00:00, 11.73it/s]\n"
     ]
    },
    {
     "name": "stdout",
     "output_type": "stream",
     "text": [
      "{'val_loss': 1.7648149020266983, 'val_accuracy': 0.6733727810650888, 'precision': 0.6569897765042646, 'recall': 0.6733727810650888, 'f1-score': 0.6512452415574539, 'macro_f1-score': 0.3678186669321732, 'balanced_accuracy': 0.3462208563658739, 'mcc': 0.556999034630191, 'train_loss': 0.19684931041483214}\n",
      "Early stopping.\n",
      "\n",
      " === bert-base-uncased + cnn + word2vec Final 5-fold Cross-Validation Results ===\n",
      "Total time: 2350 seconds\n",
      "Total time: 0 hrs 39 mins 10 secs\n",
      "val_loss: 1.3438\n",
      "val_accuracy: 0.6747\n",
      "precision: 0.6689\n",
      "recall: 0.6747\n",
      "f1-score: 0.6578\n",
      "macro_f1-score: 0.4161\n",
      "balanced_accuracy: 0.4079\n",
      "mcc: 0.5645\n",
      "train_loss: 0.4730\n",
      "▶ Running: bert-base-uncased + bilstm + word2vec\n",
      "tokenizer is bert-base-uncased\n",
      "Using device: cuda\n",
      "CUDA Available: True\n",
      "CUDA Device: NVIDIA GeForce RTX 5070 Ti\n",
      "Current GPU Memory Allocated: 0.02 GB\n",
      "Current GPU Memory Cached: 3.14 GB\n",
      "\n",
      "[Fold 1]\n",
      "🚀 Using Word2Vec for data augmentation\n",
      "🔧 Augmenting label 1: 25 → 200 (+175)\n",
      "🔧 Augmenting label 2: 112 → 200 (+88)\n",
      "🔧 Augmenting label 3: 24 → 200 (+176)\n",
      "🔧 Augmenting label 5: 116 → 200 (+84)\n",
      "🔧 Augmenting label 6: 95 → 200 (+105)\n",
      "🔧 Augmenting label 7: 31 → 200 (+169)\n",
      "🔧 Augmenting label 8: 68 → 200 (+132)\n",
      "🔧 Augmenting label 9: 65 → 200 (+135)\n",
      "🔧 Augmenting label 10: 70 → 200 (+130)\n",
      "🔧 Augmenting label 11: 172 → 200 (+28)\n",
      "🔧 Augmenting label 12: 193 → 200 (+7)\n",
      "🔧 Augmenting label 13: 29 → 200 (+171)\n",
      "🔧 Augmenting label 14: 23 → 200 (+177)\n",
      "🔧 Augmenting label 15: 25 → 200 (+175)\n",
      "🔧 Augmenting label 16: 20 → 200 (+180)\n",
      "🔧 Augmenting label 18: 93 → 200 (+107)\n",
      "🔧 Augmenting label 19: 45 → 200 (+155)\n",
      "🔧 Augmenting label 20: 14 → 200 (+186)\n",
      "🔧 Augmenting label 21: 35 → 200 (+165)\n",
      "🔧 Augmenting label 22: 78 → 200 (+122)\n",
      "🔧 Augmenting label 23: 160 → 200 (+40)\n",
      "🔧 Augmenting label 24: 16 → 200 (+184)\n",
      "🔧 Augmenting label 25: 50 → 200 (+150)\n",
      "🔧 Augmenting label 26: 86 → 200 (+114)\n",
      "🔧 Augmenting label 27: 49 → 200 (+151)\n",
      "🔧 Augmenting label 28: 12 → 200 (+188)\n",
      "🔧 Augmenting label 29: 13 → 200 (+187)\n",
      "🔧 Augmenting label 30: 15 → 200 (+185)\n",
      "🔧 Augmenting label 31: 80 → 200 (+120)\n",
      "🔧 Augmenting label 32: 36 → 200 (+164)\n",
      "🔧 Augmenting label 33: 32 → 200 (+168)\n",
      "🔧 Augmenting label 34: 30 → 200 (+170)\n",
      "🔧 Augmenting label 35: 12 → 200 (+188)\n",
      "🔧 Augmenting label 36: 28 → 200 (+172)\n",
      "🔧 Augmenting label 37: 21 → 200 (+179)\n",
      "🔧 Augmenting label 38: 6 → 200 (+194)\n",
      "🔧 Augmenting label 39: 103 → 200 (+97)\n",
      "🔧 Augmenting label 40: 12 → 200 (+188)\n",
      "🔧 Augmenting label 41: 8 → 200 (+192)\n",
      "🔧 Augmenting label 42: 147 → 200 (+53)\n",
      "🔧 Augmenting label 43: 16 → 200 (+184)\n",
      "🔧 Augmenting label 44: 20 → 200 (+180)\n",
      "🔧 Augmenting label 45: 9 → 200 (+191)\n",
      "🔧 Augmenting label 46: 54 → 200 (+146)\n",
      "🔧 Augmenting label 49: 69 → 200 (+131)\n",
      "Label distribution after resampling:\n",
      "  label 0: 3179\n",
      "  label 1: 200\n",
      "  label 2: 200\n",
      "  label 3: 200\n",
      "  label 4: 205\n",
      "  label 5: 200\n",
      "  label 6: 200\n",
      "  label 7: 200\n",
      "  label 8: 200\n",
      "  label 9: 200\n",
      "  label 10: 200\n",
      "  label 11: 200\n",
      "  label 12: 200\n",
      "  label 13: 200\n",
      "  label 14: 200\n",
      "  label 15: 200\n",
      "  label 16: 200\n",
      "  label 17: 231\n",
      "  label 18: 200\n",
      "  label 19: 200\n",
      "  label 20: 200\n",
      "  label 21: 200\n",
      "  label 22: 200\n",
      "  label 23: 200\n",
      "  label 24: 200\n",
      "  label 25: 200\n",
      "  label 26: 200\n",
      "  label 27: 200\n",
      "  label 28: 200\n",
      "  label 29: 200\n",
      "  label 30: 200\n",
      "  label 31: 200\n",
      "  label 32: 200\n",
      "  label 33: 200\n",
      "  label 34: 200\n",
      "  label 35: 200\n",
      "  label 36: 200\n",
      "  label 37: 200\n",
      "  label 38: 200\n",
      "  label 39: 200\n",
      "  label 40: 200\n",
      "  label 41: 200\n",
      "  label 42: 200\n",
      "  label 43: 200\n",
      "  label 44: 200\n",
      "  label 45: 200\n",
      "  label 46: 200\n",
      "  label 47: 529\n",
      "  label 48: 202\n",
      "  label 49: 200\n",
      "model is bert-base-uncased bilstm\n",
      "Epoch 1/20\n"
     ]
    },
    {
     "name": "stderr",
     "output_type": "stream",
     "text": [
      "100%|██████████| 835/835 [01:17<00:00, 10.75it/s]\n"
     ]
    },
    {
     "name": "stdout",
     "output_type": "stream",
     "text": [
      "{'val_loss': 1.4417126409287722, 'val_accuracy': 0.615612063867534, 'precision': 0.5847188655332684, 'recall': 0.615612063867534, 'f1-score': 0.5743725958649885, 'macro_f1-score': 0.28141109967585853, 'balanced_accuracy': 0.3287649021255964, 'mcc': 0.4851159826603351, 'train_loss': 2.2386615247783546}\n",
      "Epoch 2/20\n"
     ]
    },
    {
     "name": "stderr",
     "output_type": "stream",
     "text": [
      "100%|██████████| 835/835 [01:17<00:00, 10.78it/s]\n"
     ]
    },
    {
     "name": "stdout",
     "output_type": "stream",
     "text": [
      "{'val_loss': 1.373777908536623, 'val_accuracy': 0.618568894145476, 'precision': 0.6369871844305088, 'recall': 0.618568894145476, 'f1-score': 0.6095027089132563, 'macro_f1-score': 0.39363652697601353, 'balanced_accuracy': 0.4181018798418442, 'mcc': 0.49783285396701854, 'train_loss': 1.0111943974912523}\n",
      "Epoch 3/20\n"
     ]
    },
    {
     "name": "stderr",
     "output_type": "stream",
     "text": [
      "100%|██████████| 835/835 [01:17<00:00, 10.74it/s]\n"
     ]
    },
    {
     "name": "stdout",
     "output_type": "stream",
     "text": [
      "{'val_loss': 1.243381528078385, 'val_accuracy': 0.6581904198698995, 'precision': 0.6747346148357226, 'recall': 0.6581904198698995, 'f1-score': 0.6372173299198203, 'macro_f1-score': 0.3988014397375107, 'balanced_accuracy': 0.3835290775623067, 'mcc': 0.54017400265546, 'train_loss': 0.6052177701881546}\n",
      "Epoch 4/20\n"
     ]
    },
    {
     "name": "stderr",
     "output_type": "stream",
     "text": [
      "100%|██████████| 835/835 [01:17<00:00, 10.77it/s]\n"
     ]
    },
    {
     "name": "stdout",
     "output_type": "stream",
     "text": [
      "{'val_loss': 1.4050967181628604, 'val_accuracy': 0.6664695446481372, 'precision': 0.6736455594078888, 'recall': 0.6664695446481372, 'f1-score': 0.6475002907966493, 'macro_f1-score': 0.38870165588407496, 'balanced_accuracy': 0.37781111202603823, 'mcc': 0.5495792933173596, 'train_loss': 0.4182290561251833}\n",
      "Epoch 5/20\n"
     ]
    },
    {
     "name": "stderr",
     "output_type": "stream",
     "text": [
      "100%|██████████| 835/835 [01:17<00:00, 10.77it/s]\n"
     ]
    },
    {
     "name": "stdout",
     "output_type": "stream",
     "text": [
      "{'val_loss': 1.3843490720357534, 'val_accuracy': 0.6842105263157895, 'precision': 0.6875042701791046, 'recall': 0.6842105263157895, 'f1-score': 0.6672176496303064, 'macro_f1-score': 0.4274720580587095, 'balanced_accuracy': 0.41882626223451197, 'mcc': 0.5822447285675101, 'train_loss': 0.33779446739859564}\n",
      "Epoch 6/20\n"
     ]
    },
    {
     "name": "stderr",
     "output_type": "stream",
     "text": [
      "100%|██████████| 835/835 [01:17<00:00, 10.73it/s]\n"
     ]
    },
    {
     "name": "stdout",
     "output_type": "stream",
     "text": [
      "{'val_loss': 1.384933053603712, 'val_accuracy': 0.6712004730928445, 'precision': 0.6806540301564948, 'recall': 0.6712004730928445, 'f1-score': 0.6651744358880608, 'macro_f1-score': 0.39993402168200665, 'balanced_accuracy': 0.40533468331226463, 'mcc': 0.5696980889538519, 'train_loss': 0.2544136087047661}\n",
      "Epoch 7/20\n"
     ]
    },
    {
     "name": "stderr",
     "output_type": "stream",
     "text": [
      "100%|██████████| 835/835 [01:17<00:00, 10.74it/s]\n"
     ]
    },
    {
     "name": "stdout",
     "output_type": "stream",
     "text": [
      "{'val_loss': 1.494938390434913, 'val_accuracy': 0.6505026611472502, 'precision': 0.675170745390911, 'recall': 0.6505026611472502, 'f1-score': 0.6504119195905642, 'macro_f1-score': 0.41923554209743963, 'balanced_accuracy': 0.41495232687509637, 'mcc': 0.5459447430425145, 'train_loss': 0.23400646275310905}\n",
      "Epoch 8/20\n"
     ]
    },
    {
     "name": "stderr",
     "output_type": "stream",
     "text": [
      "100%|██████████| 835/835 [01:17<00:00, 10.78it/s]\n"
     ]
    },
    {
     "name": "stdout",
     "output_type": "stream",
     "text": [
      "{'val_loss': 1.5254733891419645, 'val_accuracy': 0.6635127143701951, 'precision': 0.6862912528201228, 'recall': 0.6635127143701951, 'f1-score': 0.6581261188596907, 'macro_f1-score': 0.42683852423475954, 'balanced_accuracy': 0.4027059059141996, 'mcc': 0.5531603092862203, 'train_loss': 0.21501649184498245}\n",
      "Early stopping.\n",
      "\n",
      "[Fold 2]\n",
      "🚀 Using Word2Vec for data augmentation\n",
      "🔧 Augmenting label 1: 25 → 200 (+175)\n",
      "🔧 Augmenting label 2: 112 → 200 (+88)\n",
      "🔧 Augmenting label 3: 24 → 200 (+176)\n",
      "🔧 Augmenting label 5: 116 → 200 (+84)\n",
      "🔧 Augmenting label 6: 94 → 200 (+106)\n",
      "🔧 Augmenting label 7: 31 → 200 (+169)\n",
      "🔧 Augmenting label 8: 68 → 200 (+132)\n",
      "🔧 Augmenting label 9: 65 → 200 (+135)\n",
      "🔧 Augmenting label 10: 70 → 200 (+130)\n",
      "🔧 Augmenting label 11: 172 → 200 (+28)\n",
      "🔧 Augmenting label 12: 193 → 200 (+7)\n",
      "🔧 Augmenting label 13: 29 → 200 (+171)\n",
      "🔧 Augmenting label 14: 23 → 200 (+177)\n",
      "🔧 Augmenting label 15: 25 → 200 (+175)\n",
      "🔧 Augmenting label 16: 20 → 200 (+180)\n",
      "🔧 Augmenting label 18: 93 → 200 (+107)\n",
      "🔧 Augmenting label 19: 45 → 200 (+155)\n",
      "🔧 Augmenting label 20: 14 → 200 (+186)\n",
      "🔧 Augmenting label 21: 35 → 200 (+165)\n",
      "🔧 Augmenting label 22: 78 → 200 (+122)\n",
      "🔧 Augmenting label 23: 160 → 200 (+40)\n",
      "🔧 Augmenting label 24: 16 → 200 (+184)\n",
      "🔧 Augmenting label 25: 50 → 200 (+150)\n",
      "🔧 Augmenting label 26: 86 → 200 (+114)\n",
      "🔧 Augmenting label 27: 49 → 200 (+151)\n",
      "🔧 Augmenting label 28: 12 → 200 (+188)\n",
      "🔧 Augmenting label 29: 13 → 200 (+187)\n",
      "🔧 Augmenting label 30: 15 → 200 (+185)\n",
      "🔧 Augmenting label 31: 80 → 200 (+120)\n",
      "🔧 Augmenting label 32: 36 → 200 (+164)\n",
      "🔧 Augmenting label 33: 32 → 200 (+168)\n",
      "🔧 Augmenting label 34: 30 → 200 (+170)\n",
      "🔧 Augmenting label 35: 12 → 200 (+188)\n",
      "🔧 Augmenting label 36: 28 → 200 (+172)\n",
      "🔧 Augmenting label 37: 22 → 200 (+178)\n",
      "🔧 Augmenting label 38: 5 → 200 (+195)\n",
      "🔧 Augmenting label 39: 103 → 200 (+97)\n",
      "🔧 Augmenting label 40: 11 → 200 (+189)\n",
      "🔧 Augmenting label 41: 9 → 200 (+191)\n",
      "🔧 Augmenting label 42: 147 → 200 (+53)\n",
      "🔧 Augmenting label 43: 16 → 200 (+184)\n",
      "🔧 Augmenting label 44: 20 → 200 (+180)\n",
      "🔧 Augmenting label 45: 9 → 200 (+191)\n",
      "🔧 Augmenting label 46: 55 → 200 (+145)\n",
      "🔧 Augmenting label 49: 69 → 200 (+131)\n",
      "Label distribution after resampling:\n",
      "  label 0: 3179\n",
      "  label 1: 200\n",
      "  label 2: 200\n",
      "  label 3: 200\n",
      "  label 4: 206\n",
      "  label 5: 200\n",
      "  label 6: 200\n",
      "  label 7: 200\n",
      "  label 8: 200\n",
      "  label 9: 200\n",
      "  label 10: 200\n",
      "  label 11: 200\n",
      "  label 12: 200\n",
      "  label 13: 200\n",
      "  label 14: 200\n",
      "  label 15: 200\n",
      "  label 16: 200\n",
      "  label 17: 231\n",
      "  label 18: 200\n",
      "  label 19: 200\n",
      "  label 20: 200\n",
      "  label 21: 200\n",
      "  label 22: 200\n",
      "  label 23: 200\n",
      "  label 24: 200\n",
      "  label 25: 200\n",
      "  label 26: 200\n",
      "  label 27: 200\n",
      "  label 28: 200\n",
      "  label 29: 200\n",
      "  label 30: 200\n",
      "  label 31: 200\n",
      "  label 32: 200\n",
      "  label 33: 200\n",
      "  label 34: 200\n",
      "  label 35: 200\n",
      "  label 36: 200\n",
      "  label 37: 200\n",
      "  label 38: 200\n",
      "  label 39: 200\n",
      "  label 40: 200\n",
      "  label 41: 200\n",
      "  label 42: 200\n",
      "  label 43: 200\n",
      "  label 44: 200\n",
      "  label 45: 200\n",
      "  label 46: 200\n",
      "  label 47: 528\n",
      "  label 48: 202\n",
      "  label 49: 200\n",
      "model is bert-base-uncased bilstm\n",
      "Epoch 1/20\n"
     ]
    },
    {
     "name": "stderr",
     "output_type": "stream",
     "text": [
      "100%|██████████| 835/835 [01:17<00:00, 10.75it/s]\n"
     ]
    },
    {
     "name": "stdout",
     "output_type": "stream",
     "text": [
      "{'val_loss': 1.5669170111980077, 'val_accuracy': 0.5842696629213483, 'precision': 0.596984571834928, 'recall': 0.5842696629213483, 'f1-score': 0.5540908628408547, 'macro_f1-score': 0.272509766482446, 'balanced_accuracy': 0.3171739042843686, 'mcc': 0.44501245683816454, 'train_loss': 2.292797290636394}\n",
      "Epoch 2/20\n"
     ]
    },
    {
     "name": "stderr",
     "output_type": "stream",
     "text": [
      "100%|██████████| 835/835 [01:17<00:00, 10.74it/s]\n"
     ]
    },
    {
     "name": "stdout",
     "output_type": "stream",
     "text": [
      "{'val_loss': 1.3487911519576918, 'val_accuracy': 0.6510940272028386, 'precision': 0.6727426700698259, 'recall': 0.6510940272028386, 'f1-score': 0.6299849164841789, 'macro_f1-score': 0.37701979653930046, 'balanced_accuracy': 0.4042026530720247, 'mcc': 0.528306062435298, 'train_loss': 1.0789554169434987}\n",
      "Epoch 3/20\n"
     ]
    },
    {
     "name": "stderr",
     "output_type": "stream",
     "text": [
      "100%|██████████| 835/835 [01:17<00:00, 10.80it/s]\n"
     ]
    },
    {
     "name": "stdout",
     "output_type": "stream",
     "text": [
      "{'val_loss': 1.2910004294705841, 'val_accuracy': 0.6682436428149024, 'precision': 0.653628688436642, 'recall': 0.6682436428149024, 'f1-score': 0.6487304376464977, 'macro_f1-score': 0.4199331716561802, 'balanced_accuracy': 0.41333129045411776, 'mcc': 0.5540970215954971, 'train_loss': 0.6636129792935834}\n",
      "Epoch 4/20\n"
     ]
    },
    {
     "name": "stderr",
     "output_type": "stream",
     "text": [
      "100%|██████████| 835/835 [01:17<00:00, 10.74it/s]\n"
     ]
    },
    {
     "name": "stdout",
     "output_type": "stream",
     "text": [
      "{'val_loss': 1.4461683719506804, 'val_accuracy': 0.6741573033707865, 'precision': 0.671632418891936, 'recall': 0.6741573033707865, 'f1-score': 0.6490588335630748, 'macro_f1-score': 0.4052059812015641, 'balanced_accuracy': 0.3669015672804283, 'mcc': 0.5527446220781446, 'train_loss': 0.4565117477389153}\n",
      "Epoch 5/20\n"
     ]
    },
    {
     "name": "stderr",
     "output_type": "stream",
     "text": [
      "100%|██████████| 835/835 [01:17<00:00, 10.78it/s]\n"
     ]
    },
    {
     "name": "stdout",
     "output_type": "stream",
     "text": [
      "{'val_loss': 1.4178467224229057, 'val_accuracy': 0.6883500887049083, 'precision': 0.6787683164739868, 'recall': 0.6883500887049083, 'f1-score': 0.6706248501603871, 'macro_f1-score': 0.4244817519495047, 'balanced_accuracy': 0.39605228125287395, 'mcc': 0.5801081552482302, 'train_loss': 0.3403412792563974}\n",
      "Epoch 6/20\n"
     ]
    },
    {
     "name": "stderr",
     "output_type": "stream",
     "text": [
      "100%|██████████| 835/835 [01:17<00:00, 10.80it/s]\n"
     ]
    },
    {
     "name": "stdout",
     "output_type": "stream",
     "text": [
      "{'val_loss': 1.4965653872152545, 'val_accuracy': 0.6593731519810763, 'precision': 0.6818517458599239, 'recall': 0.6593731519810763, 'f1-score': 0.655436322102336, 'macro_f1-score': 0.4194034029453349, 'balanced_accuracy': 0.4230161610260502, 'mcc': 0.5583192437784547, 'train_loss': 0.2920610580660269}\n",
      "Epoch 7/20\n"
     ]
    },
    {
     "name": "stderr",
     "output_type": "stream",
     "text": [
      "100%|██████████| 835/835 [01:17<00:00, 10.77it/s]\n"
     ]
    },
    {
     "name": "stdout",
     "output_type": "stream",
     "text": [
      "{'val_loss': 1.7561144364892312, 'val_accuracy': 0.664695446481372, 'precision': 0.6540434119843738, 'recall': 0.664695446481372, 'f1-score': 0.6459171866602412, 'macro_f1-score': 0.3797063025578199, 'balanced_accuracy': 0.3735956594455021, 'mcc': 0.5472414754123602, 'train_loss': 0.24540896231453577}\n",
      "Epoch 8/20\n"
     ]
    },
    {
     "name": "stderr",
     "output_type": "stream",
     "text": [
      "100%|██████████| 835/835 [01:17<00:00, 10.75it/s]\n"
     ]
    },
    {
     "name": "stdout",
     "output_type": "stream",
     "text": [
      "{'val_loss': 1.6294935975434646, 'val_accuracy': 0.6605558840922531, 'precision': 0.6582819888240364, 'recall': 0.6605558840922531, 'f1-score': 0.6455371705524549, 'macro_f1-score': 0.41496363981822926, 'balanced_accuracy': 0.41132687193006007, 'mcc': 0.5464629566690413, 'train_loss': 0.23295537312766035}\n",
      "Early stopping.\n",
      "\n",
      "[Fold 3]\n",
      "🚀 Using Word2Vec for data augmentation\n",
      "🔧 Augmenting label 1: 25 → 200 (+175)\n",
      "🔧 Augmenting label 2: 112 → 200 (+88)\n",
      "🔧 Augmenting label 3: 24 → 200 (+176)\n",
      "🔧 Augmenting label 5: 116 → 200 (+84)\n",
      "🔧 Augmenting label 6: 94 → 200 (+106)\n",
      "🔧 Augmenting label 7: 31 → 200 (+169)\n",
      "🔧 Augmenting label 8: 68 → 200 (+132)\n",
      "🔧 Augmenting label 9: 65 → 200 (+135)\n",
      "🔧 Augmenting label 10: 71 → 200 (+129)\n",
      "🔧 Augmenting label 11: 172 → 200 (+28)\n",
      "🔧 Augmenting label 12: 192 → 200 (+8)\n",
      "🔧 Augmenting label 13: 29 → 200 (+171)\n",
      "🔧 Augmenting label 14: 23 → 200 (+177)\n",
      "🔧 Augmenting label 15: 25 → 200 (+175)\n",
      "🔧 Augmenting label 16: 20 → 200 (+180)\n",
      "🔧 Augmenting label 18: 93 → 200 (+107)\n",
      "🔧 Augmenting label 19: 45 → 200 (+155)\n",
      "🔧 Augmenting label 20: 14 → 200 (+186)\n",
      "🔧 Augmenting label 21: 36 → 200 (+164)\n",
      "🔧 Augmenting label 22: 77 → 200 (+123)\n",
      "🔧 Augmenting label 23: 160 → 200 (+40)\n",
      "🔧 Augmenting label 24: 16 → 200 (+184)\n",
      "🔧 Augmenting label 25: 51 → 200 (+149)\n",
      "🔧 Augmenting label 26: 85 → 200 (+115)\n",
      "🔧 Augmenting label 27: 49 → 200 (+151)\n",
      "🔧 Augmenting label 28: 12 → 200 (+188)\n",
      "🔧 Augmenting label 29: 12 → 200 (+188)\n",
      "🔧 Augmenting label 30: 16 → 200 (+184)\n",
      "🔧 Augmenting label 31: 80 → 200 (+120)\n",
      "🔧 Augmenting label 32: 36 → 200 (+164)\n",
      "🔧 Augmenting label 33: 32 → 200 (+168)\n",
      "🔧 Augmenting label 34: 29 → 200 (+171)\n",
      "🔧 Augmenting label 35: 12 → 200 (+188)\n",
      "🔧 Augmenting label 36: 28 → 200 (+172)\n",
      "🔧 Augmenting label 37: 22 → 200 (+178)\n",
      "🔧 Augmenting label 38: 5 → 200 (+195)\n",
      "🔧 Augmenting label 39: 103 → 200 (+97)\n",
      "🔧 Augmenting label 40: 11 → 200 (+189)\n",
      "🔧 Augmenting label 41: 9 → 200 (+191)\n",
      "🔧 Augmenting label 42: 147 → 200 (+53)\n",
      "🔧 Augmenting label 43: 16 → 200 (+184)\n",
      "🔧 Augmenting label 44: 20 → 200 (+180)\n",
      "🔧 Augmenting label 45: 9 → 200 (+191)\n",
      "🔧 Augmenting label 46: 55 → 200 (+145)\n",
      "🔧 Augmenting label 49: 70 → 200 (+130)\n",
      "Label distribution after resampling:\n",
      "  label 0: 3179\n",
      "  label 1: 200\n",
      "  label 2: 200\n",
      "  label 3: 200\n",
      "  label 4: 206\n",
      "  label 5: 200\n",
      "  label 6: 200\n",
      "  label 7: 200\n",
      "  label 8: 200\n",
      "  label 9: 200\n",
      "  label 10: 200\n",
      "  label 11: 200\n",
      "  label 12: 200\n",
      "  label 13: 200\n",
      "  label 14: 200\n",
      "  label 15: 200\n",
      "  label 16: 200\n",
      "  label 17: 231\n",
      "  label 18: 200\n",
      "  label 19: 200\n",
      "  label 20: 200\n",
      "  label 21: 200\n",
      "  label 22: 200\n",
      "  label 23: 200\n",
      "  label 24: 200\n",
      "  label 25: 200\n",
      "  label 26: 200\n",
      "  label 27: 200\n",
      "  label 28: 200\n",
      "  label 29: 200\n",
      "  label 30: 200\n",
      "  label 31: 200\n",
      "  label 32: 200\n",
      "  label 33: 200\n",
      "  label 34: 200\n",
      "  label 35: 200\n",
      "  label 36: 200\n",
      "  label 37: 200\n",
      "  label 38: 200\n",
      "  label 39: 200\n",
      "  label 40: 200\n",
      "  label 41: 200\n",
      "  label 42: 200\n",
      "  label 43: 200\n",
      "  label 44: 200\n",
      "  label 45: 200\n",
      "  label 46: 200\n",
      "  label 47: 529\n",
      "  label 48: 201\n",
      "  label 49: 200\n",
      "model is bert-base-uncased bilstm\n",
      "Epoch 1/20\n"
     ]
    },
    {
     "name": "stderr",
     "output_type": "stream",
     "text": [
      "100%|██████████| 835/835 [01:17<00:00, 10.77it/s]\n"
     ]
    },
    {
     "name": "stdout",
     "output_type": "stream",
     "text": [
      "{'val_loss': 1.5122100412845612, 'val_accuracy': 0.5949142519219397, 'precision': 0.5589055856307418, 'recall': 0.5949142519219397, 'f1-score': 0.5560879436955489, 'macro_f1-score': 0.3104593705813056, 'balanced_accuracy': 0.38361305898582465, 'mcc': 0.4575859391755704, 'train_loss': 2.2967970267027438}\n",
      "Epoch 2/20\n"
     ]
    },
    {
     "name": "stderr",
     "output_type": "stream",
     "text": [
      "100%|██████████| 835/835 [01:17<00:00, 10.77it/s]\n"
     ]
    },
    {
     "name": "stdout",
     "output_type": "stream",
     "text": [
      "{'val_loss': 1.3656487464904785, 'val_accuracy': 0.6410408042578356, 'precision': 0.6560752079414186, 'recall': 0.6410408042578356, 'f1-score': 0.6136743584096086, 'macro_f1-score': 0.36168278711433643, 'balanced_accuracy': 0.37750125451721706, 'mcc': 0.5154335917070961, 'train_loss': 1.0870505163055695}\n",
      "Epoch 3/20\n"
     ]
    },
    {
     "name": "stderr",
     "output_type": "stream",
     "text": [
      "100%|██████████| 835/835 [01:17<00:00, 10.76it/s]\n"
     ]
    },
    {
     "name": "stdout",
     "output_type": "stream",
     "text": [
      "{'val_loss': 1.3720428370079905, 'val_accuracy': 0.651685393258427, 'precision': 0.6577929528966859, 'recall': 0.651685393258427, 'f1-score': 0.6267193874205305, 'macro_f1-score': 0.3837720454072872, 'balanced_accuracy': 0.3663679867615942, 'mcc': 0.5239293359649289, 'train_loss': 0.6849785796985655}\n",
      "Epoch 4/20\n"
     ]
    },
    {
     "name": "stderr",
     "output_type": "stream",
     "text": [
      "100%|██████████| 835/835 [01:17<00:00, 10.76it/s]\n"
     ]
    },
    {
     "name": "stdout",
     "output_type": "stream",
     "text": [
      "{'val_loss': 1.3280306635600216, 'val_accuracy': 0.6688350088704909, 'precision': 0.6614597058198385, 'recall': 0.6688350088704909, 'f1-score': 0.6521385183130054, 'macro_f1-score': 0.3903942544260659, 'balanced_accuracy': 0.38569293448064884, 'mcc': 0.5597226608672009, 'train_loss': 0.45739208190384023}\n",
      "Epoch 5/20\n"
     ]
    },
    {
     "name": "stderr",
     "output_type": "stream",
     "text": [
      "100%|██████████| 835/835 [01:17<00:00, 10.77it/s]\n"
     ]
    },
    {
     "name": "stdout",
     "output_type": "stream",
     "text": [
      "{'val_loss': 1.49229474703096, 'val_accuracy': 0.6658781785925488, 'precision': 0.6492375766229763, 'recall': 0.6658781785925488, 'f1-score': 0.6429629850009478, 'macro_f1-score': 0.35161229059520205, 'balanced_accuracy': 0.34354306219628095, 'mcc': 0.5514417858721229, 'train_loss': 0.3657656190281143}\n",
      "Epoch 6/20\n"
     ]
    },
    {
     "name": "stderr",
     "output_type": "stream",
     "text": [
      "100%|██████████| 835/835 [01:17<00:00, 10.76it/s]\n"
     ]
    },
    {
     "name": "stdout",
     "output_type": "stream",
     "text": [
      "{'val_loss': 1.5494657257255517, 'val_accuracy': 0.6623299822590183, 'precision': 0.6622462687798184, 'recall': 0.6623299822590183, 'f1-score': 0.6443233983832322, 'macro_f1-score': 0.3675623700108872, 'balanced_accuracy': 0.35051883005467915, 'mcc': 0.5481876325655799, 'train_loss': 0.2865038523707026}\n",
      "Epoch 7/20\n"
     ]
    },
    {
     "name": "stderr",
     "output_type": "stream",
     "text": [
      "100%|██████████| 835/835 [01:17<00:00, 10.77it/s]\n"
     ]
    },
    {
     "name": "stdout",
     "output_type": "stream",
     "text": [
      "{'val_loss': 1.549434481926684, 'val_accuracy': 0.6552335895919574, 'precision': 0.6731593995117161, 'recall': 0.6552335895919574, 'f1-score': 0.649079998635863, 'macro_f1-score': 0.39408705736580596, 'balanced_accuracy': 0.3778899019549379, 'mcc': 0.5449916602157049, 'train_loss': 0.25953947158229207}\n",
      "Epoch 8/20\n"
     ]
    },
    {
     "name": "stderr",
     "output_type": "stream",
     "text": [
      "100%|██████████| 835/835 [01:17<00:00, 10.80it/s]\n"
     ]
    },
    {
     "name": "stdout",
     "output_type": "stream",
     "text": [
      "{'val_loss': 1.6857216026423112, 'val_accuracy': 0.6410408042578356, 'precision': 0.6313436240548452, 'recall': 0.6410408042578356, 'f1-score': 0.6048845971448782, 'macro_f1-score': 0.31621637645750594, 'balanced_accuracy': 0.2957786691729287, 'mcc': 0.5146068244144814, 'train_loss': 0.22621658290485422}\n",
      "Epoch 9/20\n"
     ]
    },
    {
     "name": "stderr",
     "output_type": "stream",
     "text": [
      "100%|██████████| 835/835 [01:17<00:00, 10.72it/s]\n"
     ]
    },
    {
     "name": "stdout",
     "output_type": "stream",
     "text": [
      "{'val_loss': 1.5864795854069151, 'val_accuracy': 0.667652276759314, 'precision': 0.6641790552638865, 'recall': 0.667652276759314, 'f1-score': 0.6521607415202142, 'macro_f1-score': 0.3793247838076904, 'balanced_accuracy': 0.3627554421957497, 'mcc': 0.5606528020088533, 'train_loss': 0.2263881491474852}\n",
      "Epoch 10/20\n"
     ]
    },
    {
     "name": "stderr",
     "output_type": "stream",
     "text": [
      "100%|██████████| 835/835 [01:17<00:00, 10.76it/s]\n"
     ]
    },
    {
     "name": "stdout",
     "output_type": "stream",
     "text": [
      "{'val_loss': 1.6428616150932491, 'val_accuracy': 0.6599645180366647, 'precision': 0.6535205564254658, 'recall': 0.6599645180366647, 'f1-score': 0.6445597952188865, 'macro_f1-score': 0.3469362584631974, 'balanced_accuracy': 0.3286255476704345, 'mcc': 0.5466787867768188, 'train_loss': 0.20427740535414415}\n",
      "Early stopping.\n",
      "\n",
      "[Fold 4]\n",
      "🚀 Using Word2Vec for data augmentation\n",
      "🔧 Augmenting label 1: 25 → 200 (+175)\n",
      "🔧 Augmenting label 2: 112 → 200 (+88)\n",
      "🔧 Augmenting label 3: 24 → 200 (+176)\n",
      "🔧 Augmenting label 5: 116 → 200 (+84)\n",
      "🔧 Augmenting label 6: 94 → 200 (+106)\n",
      "🔧 Augmenting label 7: 32 → 200 (+168)\n",
      "🔧 Augmenting label 8: 68 → 200 (+132)\n",
      "🔧 Augmenting label 9: 64 → 200 (+136)\n",
      "🔧 Augmenting label 10: 71 → 200 (+129)\n",
      "🔧 Augmenting label 11: 172 → 200 (+28)\n",
      "🔧 Augmenting label 12: 193 → 200 (+7)\n",
      "🔧 Augmenting label 13: 28 → 200 (+172)\n",
      "🔧 Augmenting label 14: 24 → 200 (+176)\n",
      "🔧 Augmenting label 15: 24 → 200 (+176)\n",
      "🔧 Augmenting label 16: 20 → 200 (+180)\n",
      "🔧 Augmenting label 18: 92 → 200 (+108)\n",
      "🔧 Augmenting label 19: 45 → 200 (+155)\n",
      "🔧 Augmenting label 20: 15 → 200 (+185)\n",
      "🔧 Augmenting label 21: 35 → 200 (+165)\n",
      "🔧 Augmenting label 22: 77 → 200 (+123)\n",
      "🔧 Augmenting label 23: 160 → 200 (+40)\n",
      "🔧 Augmenting label 24: 16 → 200 (+184)\n",
      "🔧 Augmenting label 25: 51 → 200 (+149)\n",
      "🔧 Augmenting label 26: 85 → 200 (+115)\n",
      "🔧 Augmenting label 27: 49 → 200 (+151)\n",
      "🔧 Augmenting label 28: 12 → 200 (+188)\n",
      "🔧 Augmenting label 29: 13 → 200 (+187)\n",
      "🔧 Augmenting label 30: 15 → 200 (+185)\n",
      "🔧 Augmenting label 31: 80 → 200 (+120)\n",
      "🔧 Augmenting label 32: 36 → 200 (+164)\n",
      "🔧 Augmenting label 33: 32 → 200 (+168)\n",
      "🔧 Augmenting label 34: 29 → 200 (+171)\n",
      "🔧 Augmenting label 35: 12 → 200 (+188)\n",
      "🔧 Augmenting label 36: 28 → 200 (+172)\n",
      "🔧 Augmenting label 37: 22 → 200 (+178)\n",
      "🔧 Augmenting label 38: 6 → 200 (+194)\n",
      "🔧 Augmenting label 39: 103 → 200 (+97)\n",
      "🔧 Augmenting label 40: 11 → 200 (+189)\n",
      "🔧 Augmenting label 41: 9 → 200 (+191)\n",
      "🔧 Augmenting label 42: 148 → 200 (+52)\n",
      "🔧 Augmenting label 43: 16 → 200 (+184)\n",
      "🔧 Augmenting label 44: 20 → 200 (+180)\n",
      "🔧 Augmenting label 45: 8 → 200 (+192)\n",
      "🔧 Augmenting label 46: 54 → 200 (+146)\n",
      "🔧 Augmenting label 49: 70 → 200 (+130)\n",
      "Label distribution after resampling:\n",
      "  label 0: 3179\n",
      "  label 1: 200\n",
      "  label 2: 200\n",
      "  label 3: 200\n",
      "  label 4: 206\n",
      "  label 5: 200\n",
      "  label 6: 200\n",
      "  label 7: 200\n",
      "  label 8: 200\n",
      "  label 9: 200\n",
      "  label 10: 200\n",
      "  label 11: 200\n",
      "  label 12: 200\n",
      "  label 13: 200\n",
      "  label 14: 200\n",
      "  label 15: 200\n",
      "  label 16: 200\n",
      "  label 17: 232\n",
      "  label 18: 200\n",
      "  label 19: 200\n",
      "  label 20: 200\n",
      "  label 21: 200\n",
      "  label 22: 200\n",
      "  label 23: 200\n",
      "  label 24: 200\n",
      "  label 25: 200\n",
      "  label 26: 200\n",
      "  label 27: 200\n",
      "  label 28: 200\n",
      "  label 29: 200\n",
      "  label 30: 200\n",
      "  label 31: 200\n",
      "  label 32: 200\n",
      "  label 33: 200\n",
      "  label 34: 200\n",
      "  label 35: 200\n",
      "  label 36: 200\n",
      "  label 37: 200\n",
      "  label 38: 200\n",
      "  label 39: 200\n",
      "  label 40: 200\n",
      "  label 41: 200\n",
      "  label 42: 200\n",
      "  label 43: 200\n",
      "  label 44: 200\n",
      "  label 45: 200\n",
      "  label 46: 200\n",
      "  label 47: 529\n",
      "  label 48: 201\n",
      "  label 49: 200\n",
      "model is bert-base-uncased bilstm\n",
      "Epoch 1/20\n"
     ]
    },
    {
     "name": "stderr",
     "output_type": "stream",
     "text": [
      "100%|██████████| 835/835 [01:17<00:00, 10.79it/s]\n"
     ]
    },
    {
     "name": "stdout",
     "output_type": "stream",
     "text": [
      "{'val_loss': 1.4743811960490245, 'val_accuracy': 0.5960969840331165, 'precision': 0.5894395688674511, 'recall': 0.5960969840331165, 'f1-score': 0.5592751136023099, 'macro_f1-score': 0.30385407941457754, 'balanced_accuracy': 0.3904319130208235, 'mcc': 0.4605948777703377, 'train_loss': 2.3688500890474833}\n",
      "Epoch 2/20\n"
     ]
    },
    {
     "name": "stderr",
     "output_type": "stream",
     "text": [
      "100%|██████████| 835/835 [01:17<00:00, 10.77it/s]\n"
     ]
    },
    {
     "name": "stdout",
     "output_type": "stream",
     "text": [
      "{'val_loss': 1.2421468060533956, 'val_accuracy': 0.6528681253696038, 'precision': 0.6211121009179753, 'recall': 0.6528681253696038, 'f1-score': 0.6234750422835555, 'macro_f1-score': 0.3839451283466807, 'balanced_accuracy': 0.41092988897594873, 'mcc': 0.5334550249994822, 'train_loss': 1.0917646390235352}\n",
      "Epoch 3/20\n"
     ]
    },
    {
     "name": "stderr",
     "output_type": "stream",
     "text": [
      "100%|██████████| 835/835 [01:17<00:00, 10.75it/s]\n"
     ]
    },
    {
     "name": "stdout",
     "output_type": "stream",
     "text": [
      "{'val_loss': 1.2328655840653293, 'val_accuracy': 0.664695446481372, 'precision': 0.6664497827145871, 'recall': 0.664695446481372, 'f1-score': 0.6437711318959137, 'macro_f1-score': 0.4210677147119262, 'balanced_accuracy': 0.4348675059595901, 'mcc': 0.5583525224464425, 'train_loss': 0.6607562039962072}\n",
      "Epoch 4/20\n"
     ]
    },
    {
     "name": "stderr",
     "output_type": "stream",
     "text": [
      "100%|██████████| 835/835 [01:17<00:00, 10.75it/s]\n"
     ]
    },
    {
     "name": "stdout",
     "output_type": "stream",
     "text": [
      "{'val_loss': 1.3086378796482987, 'val_accuracy': 0.6782968657599053, 'precision': 0.6502124394529654, 'recall': 0.6782968657599053, 'f1-score': 0.640284798686571, 'macro_f1-score': 0.3922426743770265, 'balanced_accuracy': 0.36444312645598664, 'mcc': 0.5578426544964908, 'train_loss': 0.4711578712804232}\n",
      "Epoch 5/20\n"
     ]
    },
    {
     "name": "stderr",
     "output_type": "stream",
     "text": [
      "100%|██████████| 835/835 [01:17<00:00, 10.74it/s]\n"
     ]
    },
    {
     "name": "stdout",
     "output_type": "stream",
     "text": [
      "{'val_loss': 1.3267336797039464, 'val_accuracy': 0.667652276759314, 'precision': 0.6859367715345833, 'recall': 0.667652276759314, 'f1-score': 0.6594295336466053, 'macro_f1-score': 0.4253454778784866, 'balanced_accuracy': 0.44821767471248547, 'mcc': 0.5725561647148054, 'train_loss': 0.38484352726466997}\n",
      "Epoch 6/20\n"
     ]
    },
    {
     "name": "stderr",
     "output_type": "stream",
     "text": [
      "100%|██████████| 835/835 [01:17<00:00, 10.75it/s]\n"
     ]
    },
    {
     "name": "stdout",
     "output_type": "stream",
     "text": [
      "{'val_loss': 1.4216562900340781, 'val_accuracy': 0.6581904198698995, 'precision': 0.6892703905864933, 'recall': 0.6581904198698995, 'f1-score': 0.6590943835560608, 'macro_f1-score': 0.4156854272092109, 'balanced_accuracy': 0.424259912416326, 'mcc': 0.5535972321174495, 'train_loss': 0.30445848151506066}\n",
      "Epoch 7/20\n"
     ]
    },
    {
     "name": "stderr",
     "output_type": "stream",
     "text": [
      "100%|██████████| 835/835 [01:17<00:00, 10.79it/s]\n"
     ]
    },
    {
     "name": "stdout",
     "output_type": "stream",
     "text": [
      "{'val_loss': 1.4068855553303126, 'val_accuracy': 0.6830277942046127, 'precision': 0.6777152887884196, 'recall': 0.6830277942046127, 'f1-score': 0.6675152760373916, 'macro_f1-score': 0.41159766596828473, 'balanced_accuracy': 0.39989878828435566, 'mcc': 0.5811802006286433, 'train_loss': 0.26860952558118606}\n",
      "Epoch 8/20\n"
     ]
    },
    {
     "name": "stderr",
     "output_type": "stream",
     "text": [
      "100%|██████████| 835/835 [01:17<00:00, 10.74it/s]\n"
     ]
    },
    {
     "name": "stdout",
     "output_type": "stream",
     "text": [
      "{'val_loss': 1.4157469688721422, 'val_accuracy': 0.7007687758722649, 'precision': 0.688460535103873, 'recall': 0.7007687758722649, 'f1-score': 0.684580022205437, 'macro_f1-score': 0.42743067464946544, 'balanced_accuracy': 0.4115855324365624, 'mcc': 0.6030573226842395, 'train_loss': 0.232766284068076}\n",
      "Epoch 9/20\n"
     ]
    },
    {
     "name": "stderr",
     "output_type": "stream",
     "text": [
      "100%|██████████| 835/835 [01:17<00:00, 10.74it/s]\n"
     ]
    },
    {
     "name": "stdout",
     "output_type": "stream",
     "text": [
      "{'val_loss': 1.5380840637492683, 'val_accuracy': 0.6700177409816677, 'precision': 0.6835675744174149, 'recall': 0.6700177409816677, 'f1-score': 0.662101462516769, 'macro_f1-score': 0.4119682753388157, 'balanced_accuracy': 0.4244979159442075, 'mcc': 0.5684690063627912, 'train_loss': 0.22634287730617794}\n",
      "Epoch 10/20\n"
     ]
    },
    {
     "name": "stderr",
     "output_type": "stream",
     "text": [
      "100%|██████████| 835/835 [01:17<00:00, 10.78it/s]\n"
     ]
    },
    {
     "name": "stdout",
     "output_type": "stream",
     "text": [
      "{'val_loss': 1.4812588213749651, 'val_accuracy': 0.6942637492607925, 'precision': 0.695557691702523, 'recall': 0.6942637492607925, 'f1-score': 0.6794185051686863, 'macro_f1-score': 0.44438440492254405, 'balanced_accuracy': 0.4379426989482919, 'mcc': 0.5941651178199164, 'train_loss': 0.2132183603613364}\n",
      "Epoch 11/20\n"
     ]
    },
    {
     "name": "stderr",
     "output_type": "stream",
     "text": [
      "100%|██████████| 835/835 [01:17<00:00, 10.79it/s]\n"
     ]
    },
    {
     "name": "stdout",
     "output_type": "stream",
     "text": [
      "{'val_loss': 1.5355910279278486, 'val_accuracy': 0.6930810171496156, 'precision': 0.6897801326114147, 'recall': 0.6930810171496156, 'f1-score': 0.6777019628237826, 'macro_f1-score': 0.445874791241274, 'balanced_accuracy': 0.43129673529888846, 'mcc': 0.5916666866999881, 'train_loss': 0.19641892621293663}\n",
      "Epoch 12/20\n"
     ]
    },
    {
     "name": "stderr",
     "output_type": "stream",
     "text": [
      "100%|██████████| 835/835 [01:17<00:00, 10.73it/s]\n"
     ]
    },
    {
     "name": "stdout",
     "output_type": "stream",
     "text": [
      "{'val_loss': 1.6423908224645651, 'val_accuracy': 0.667652276759314, 'precision': 0.68734779359039, 'recall': 0.667652276759314, 'f1-score': 0.6608007125332722, 'macro_f1-score': 0.4435558100795016, 'balanced_accuracy': 0.4622619431448618, 'mcc': 0.5706851966681857, 'train_loss': 0.1860757270175406}\n",
      "Epoch 13/20\n"
     ]
    },
    {
     "name": "stderr",
     "output_type": "stream",
     "text": [
      "100%|██████████| 835/835 [01:17<00:00, 10.75it/s]\n"
     ]
    },
    {
     "name": "stdout",
     "output_type": "stream",
     "text": [
      "{'val_loss': 1.596587116144738, 'val_accuracy': 0.6694263749260793, 'precision': 0.6843406889800305, 'recall': 0.6694263749260793, 'f1-score': 0.6722720999311466, 'macro_f1-score': 0.44463269779860676, 'balanced_accuracy': 0.4603527650902063, 'mcc': 0.5756915628712937, 'train_loss': 0.1982391610981417}\n",
      "Epoch 14/20\n"
     ]
    },
    {
     "name": "stderr",
     "output_type": "stream",
     "text": [
      "100%|██████████| 835/835 [01:17<00:00, 10.76it/s]\n"
     ]
    },
    {
     "name": "stdout",
     "output_type": "stream",
     "text": [
      "{'val_loss': 1.6847956325366813, 'val_accuracy': 0.6901241868716735, 'precision': 0.6806236586339297, 'recall': 0.6901241868716735, 'f1-score': 0.6698651657643264, 'macro_f1-score': 0.43357212191893363, 'balanced_accuracy': 0.4171653705766101, 'mcc': 0.5831689612476458, 'train_loss': 0.1730848569015855}\n",
      "Early stopping.\n",
      "\n",
      "[Fold 5]\n",
      "🚀 Using Word2Vec for data augmentation\n",
      "🔧 Augmenting label 1: 24 → 200 (+176)\n",
      "🔧 Augmenting label 2: 112 → 200 (+88)\n",
      "🔧 Augmenting label 3: 24 → 200 (+176)\n",
      "🔧 Augmenting label 5: 116 → 200 (+84)\n",
      "🔧 Augmenting label 6: 95 → 200 (+105)\n",
      "🔧 Augmenting label 7: 31 → 200 (+169)\n",
      "🔧 Augmenting label 8: 68 → 200 (+132)\n",
      "🔧 Augmenting label 9: 65 → 200 (+135)\n",
      "🔧 Augmenting label 10: 70 → 200 (+130)\n",
      "🔧 Augmenting label 11: 172 → 200 (+28)\n",
      "🔧 Augmenting label 12: 193 → 200 (+7)\n",
      "🔧 Augmenting label 13: 29 → 200 (+171)\n",
      "🔧 Augmenting label 14: 23 → 200 (+177)\n",
      "🔧 Augmenting label 15: 25 → 200 (+175)\n",
      "🔧 Augmenting label 16: 20 → 200 (+180)\n",
      "🔧 Augmenting label 18: 93 → 200 (+107)\n",
      "🔧 Augmenting label 19: 44 → 200 (+156)\n",
      "🔧 Augmenting label 20: 15 → 200 (+185)\n",
      "🔧 Augmenting label 21: 35 → 200 (+165)\n",
      "🔧 Augmenting label 22: 78 → 200 (+122)\n",
      "🔧 Augmenting label 23: 160 → 200 (+40)\n",
      "🔧 Augmenting label 24: 16 → 200 (+184)\n",
      "🔧 Augmenting label 25: 50 → 200 (+150)\n",
      "🔧 Augmenting label 26: 86 → 200 (+114)\n",
      "🔧 Augmenting label 27: 48 → 200 (+152)\n",
      "🔧 Augmenting label 28: 12 → 200 (+188)\n",
      "🔧 Augmenting label 29: 13 → 200 (+187)\n",
      "🔧 Augmenting label 30: 15 → 200 (+185)\n",
      "🔧 Augmenting label 31: 80 → 200 (+120)\n",
      "🔧 Augmenting label 32: 36 → 200 (+164)\n",
      "🔧 Augmenting label 33: 32 → 200 (+168)\n",
      "🔧 Augmenting label 34: 30 → 200 (+170)\n",
      "🔧 Augmenting label 35: 12 → 200 (+188)\n",
      "🔧 Augmenting label 36: 28 → 200 (+172)\n",
      "🔧 Augmenting label 37: 21 → 200 (+179)\n",
      "🔧 Augmenting label 38: 6 → 200 (+194)\n",
      "🔧 Augmenting label 39: 104 → 200 (+96)\n",
      "🔧 Augmenting label 40: 11 → 200 (+189)\n",
      "🔧 Augmenting label 41: 9 → 200 (+191)\n",
      "🔧 Augmenting label 42: 147 → 200 (+53)\n",
      "🔧 Augmenting label 43: 16 → 200 (+184)\n",
      "🔧 Augmenting label 44: 20 → 200 (+180)\n",
      "🔧 Augmenting label 45: 9 → 200 (+191)\n",
      "🔧 Augmenting label 46: 54 → 200 (+146)\n",
      "🔧 Augmenting label 49: 70 → 200 (+130)\n",
      "Label distribution after resampling:\n",
      "  label 0: 3180\n",
      "  label 1: 200\n",
      "  label 2: 200\n",
      "  label 3: 200\n",
      "  label 4: 205\n",
      "  label 5: 200\n",
      "  label 6: 200\n",
      "  label 7: 200\n",
      "  label 8: 200\n",
      "  label 9: 200\n",
      "  label 10: 200\n",
      "  label 11: 200\n",
      "  label 12: 200\n",
      "  label 13: 200\n",
      "  label 14: 200\n",
      "  label 15: 200\n",
      "  label 16: 200\n",
      "  label 17: 231\n",
      "  label 18: 200\n",
      "  label 19: 200\n",
      "  label 20: 200\n",
      "  label 21: 200\n",
      "  label 22: 200\n",
      "  label 23: 200\n",
      "  label 24: 200\n",
      "  label 25: 200\n",
      "  label 26: 200\n",
      "  label 27: 200\n",
      "  label 28: 200\n",
      "  label 29: 200\n",
      "  label 30: 200\n",
      "  label 31: 200\n",
      "  label 32: 200\n",
      "  label 33: 200\n",
      "  label 34: 200\n",
      "  label 35: 200\n",
      "  label 36: 200\n",
      "  label 37: 200\n",
      "  label 38: 200\n",
      "  label 39: 200\n",
      "  label 40: 200\n",
      "  label 41: 200\n",
      "  label 42: 200\n",
      "  label 43: 200\n",
      "  label 44: 200\n",
      "  label 45: 200\n",
      "  label 46: 200\n",
      "  label 47: 529\n",
      "  label 48: 202\n",
      "  label 49: 200\n",
      "model is bert-base-uncased bilstm\n",
      "Epoch 1/20\n"
     ]
    },
    {
     "name": "stderr",
     "output_type": "stream",
     "text": [
      "100%|██████████| 835/835 [01:17<00:00, 10.76it/s]\n"
     ]
    },
    {
     "name": "stdout",
     "output_type": "stream",
     "text": [
      "{'val_loss': 1.4487214729471027, 'val_accuracy': 0.6112426035502958, 'precision': 0.6087288636310249, 'recall': 0.6112426035502958, 'f1-score': 0.5714750407855258, 'macro_f1-score': 0.2909994003173871, 'balanced_accuracy': 0.3156588379536326, 'mcc': 0.4678165667696222, 'train_loss': 2.186195933604669}\n",
      "Epoch 2/20\n"
     ]
    },
    {
     "name": "stderr",
     "output_type": "stream",
     "text": [
      "100%|██████████| 835/835 [01:17<00:00, 10.73it/s]\n"
     ]
    },
    {
     "name": "stdout",
     "output_type": "stream",
     "text": [
      "{'val_loss': 1.365707591457187, 'val_accuracy': 0.6366863905325444, 'precision': 0.6510964625080067, 'recall': 0.6366863905325444, 'f1-score': 0.6203982281090049, 'macro_f1-score': 0.35907768680802576, 'balanced_accuracy': 0.37348966885193896, 'mcc': 0.5087576535527344, 'train_loss': 1.0078200443419154}\n",
      "Epoch 3/20\n"
     ]
    },
    {
     "name": "stderr",
     "output_type": "stream",
     "text": [
      "100%|██████████| 835/835 [01:17<00:00, 10.77it/s]\n"
     ]
    },
    {
     "name": "stdout",
     "output_type": "stream",
     "text": [
      "{'val_loss': 1.3175940817257144, 'val_accuracy': 0.6798816568047338, 'precision': 0.652129557847098, 'recall': 0.6798816568047338, 'f1-score': 0.6479352065525049, 'macro_f1-score': 0.3671440128506394, 'balanced_accuracy': 0.3669260342225192, 'mcc': 0.5666953282216654, 'train_loss': 0.6056901629099589}\n",
      "Epoch 4/20\n"
     ]
    },
    {
     "name": "stderr",
     "output_type": "stream",
     "text": [
      "100%|██████████| 835/835 [01:17<00:00, 10.75it/s]\n"
     ]
    },
    {
     "name": "stdout",
     "output_type": "stream",
     "text": [
      "{'val_loss': 1.3553817224390101, 'val_accuracy': 0.657396449704142, 'precision': 0.6646933777914557, 'recall': 0.657396449704142, 'f1-score': 0.6492022918847993, 'macro_f1-score': 0.3756833158601068, 'balanced_accuracy': 0.3691093627377194, 'mcc': 0.5523508338980574, 'train_loss': 0.42340737982781346}\n",
      "Epoch 5/20\n"
     ]
    },
    {
     "name": "stderr",
     "output_type": "stream",
     "text": [
      "100%|██████████| 835/835 [01:17<00:00, 10.77it/s]\n"
     ]
    },
    {
     "name": "stdout",
     "output_type": "stream",
     "text": [
      "{'val_loss': 1.4933602632778995, 'val_accuracy': 0.6745562130177515, 'precision': 0.6772586923105474, 'recall': 0.6745562130177515, 'f1-score': 0.6521197935199518, 'macro_f1-score': 0.37614269216016843, 'balanced_accuracy': 0.3620254099732677, 'mcc': 0.5571876101643458, 'train_loss': 0.31969004433133646}\n",
      "Epoch 6/20\n"
     ]
    },
    {
     "name": "stderr",
     "output_type": "stream",
     "text": [
      "100%|██████████| 835/835 [01:17<00:00, 10.80it/s]\n"
     ]
    },
    {
     "name": "stdout",
     "output_type": "stream",
     "text": [
      "{'val_loss': 1.5709626327426929, 'val_accuracy': 0.6751479289940828, 'precision': 0.6515873179383066, 'recall': 0.6751479289940828, 'f1-score': 0.6409404213378248, 'macro_f1-score': 0.34969436026200595, 'balanced_accuracy': 0.307665992025963, 'mcc': 0.5537942261358625, 'train_loss': 0.2741803362541748}\n",
      "Epoch 7/20\n"
     ]
    },
    {
     "name": "stderr",
     "output_type": "stream",
     "text": [
      "100%|██████████| 835/835 [01:17<00:00, 10.74it/s]\n"
     ]
    },
    {
     "name": "stdout",
     "output_type": "stream",
     "text": [
      "{'val_loss': 1.53444589899396, 'val_accuracy': 0.678698224852071, 'precision': 0.6739001934664678, 'recall': 0.678698224852071, 'f1-score': 0.6560818130706456, 'macro_f1-score': 0.371950839473836, 'balanced_accuracy': 0.34337970714901894, 'mcc': 0.5689863940430765, 'train_loss': 0.2502397893348006}\n",
      "Epoch 8/20\n"
     ]
    },
    {
     "name": "stderr",
     "output_type": "stream",
     "text": [
      "100%|██████████| 835/835 [01:17<00:00, 10.76it/s]\n"
     ]
    },
    {
     "name": "stdout",
     "output_type": "stream",
     "text": [
      "{'val_loss': 1.4907070814438586, 'val_accuracy': 0.6840236686390533, 'precision': 0.6702848755489994, 'recall': 0.6840236686390533, 'f1-score': 0.6670224054249058, 'macro_f1-score': 0.395878931423933, 'balanced_accuracy': 0.38480954117138433, 'mcc': 0.5777597055651522, 'train_loss': 0.22645455475193924}\n",
      "Epoch 9/20\n"
     ]
    },
    {
     "name": "stderr",
     "output_type": "stream",
     "text": [
      "100%|██████████| 835/835 [01:17<00:00, 10.78it/s]\n"
     ]
    },
    {
     "name": "stdout",
     "output_type": "stream",
     "text": [
      "{'val_loss': 1.584681567015513, 'val_accuracy': 0.6781065088757396, 'precision': 0.6735841037715697, 'recall': 0.6781065088757396, 'f1-score': 0.6596142590694594, 'macro_f1-score': 0.3821475166928302, 'balanced_accuracy': 0.37535574452147785, 'mcc': 0.5735842895165725, 'train_loss': 0.19983958480433522}\n",
      "Epoch 10/20\n"
     ]
    },
    {
     "name": "stderr",
     "output_type": "stream",
     "text": [
      "100%|██████████| 835/835 [01:17<00:00, 10.76it/s]\n"
     ]
    },
    {
     "name": "stdout",
     "output_type": "stream",
     "text": [
      "{'val_loss': 1.574561706550841, 'val_accuracy': 0.670414201183432, 'precision': 0.6766955286012493, 'recall': 0.670414201183432, 'f1-score': 0.6646507687920069, 'macro_f1-score': 0.39454972726433235, 'balanced_accuracy': 0.39910923153677763, 'mcc': 0.5689777616721279, 'train_loss': 0.20298882202317794}\n",
      "Epoch 11/20\n"
     ]
    },
    {
     "name": "stderr",
     "output_type": "stream",
     "text": [
      "100%|██████████| 835/835 [01:17<00:00, 10.76it/s]\n"
     ]
    },
    {
     "name": "stdout",
     "output_type": "stream",
     "text": [
      "{'val_loss': 1.6630109332080156, 'val_accuracy': 0.6893491124260355, 'precision': 0.6867090532264338, 'recall': 0.6893491124260355, 'f1-score': 0.6687989170917348, 'macro_f1-score': 0.39930275038112745, 'balanced_accuracy': 0.36705554350193936, 'mcc': 0.5827802181578504, 'train_loss': 0.19738396665159458}\n",
      "Epoch 12/20\n"
     ]
    },
    {
     "name": "stderr",
     "output_type": "stream",
     "text": [
      "100%|██████████| 835/835 [01:17<00:00, 10.73it/s]\n"
     ]
    },
    {
     "name": "stdout",
     "output_type": "stream",
     "text": [
      "{'val_loss': 1.6494172142361694, 'val_accuracy': 0.6834319526627219, 'precision': 0.6720353939861967, 'recall': 0.6834319526627219, 'f1-score': 0.6681049600653339, 'macro_f1-score': 0.3917566538161943, 'balanced_accuracy': 0.38410477823105255, 'mcc': 0.5779395551632578, 'train_loss': 0.17273002056722825}\n",
      "Epoch 13/20\n"
     ]
    },
    {
     "name": "stderr",
     "output_type": "stream",
     "text": [
      "100%|██████████| 835/835 [01:17<00:00, 10.76it/s]\n"
     ]
    },
    {
     "name": "stdout",
     "output_type": "stream",
     "text": [
      "{'val_loss': 1.7581445850291342, 'val_accuracy': 0.6603550295857988, 'precision': 0.6786768877259908, 'recall': 0.6603550295857988, 'f1-score': 0.6590948981277227, 'macro_f1-score': 0.40335083256981397, 'balanced_accuracy': 0.42153616001153915, 'mcc': 0.5639159660388794, 'train_loss': 0.1915572663847201}\n",
      "Epoch 14/20\n"
     ]
    },
    {
     "name": "stderr",
     "output_type": "stream",
     "text": [
      "100%|██████████| 835/835 [01:17<00:00, 10.77it/s]\n"
     ]
    },
    {
     "name": "stdout",
     "output_type": "stream",
     "text": [
      "{'val_loss': 1.7648446933840805, 'val_accuracy': 0.6869822485207101, 'precision': 0.6811623426678344, 'recall': 0.6869822485207101, 'f1-score': 0.6669801177974194, 'macro_f1-score': 0.4080328500227121, 'balanced_accuracy': 0.39926124820326625, 'mcc': 0.5804432515553462, 'train_loss': 0.1745809133396021}\n",
      "Epoch 15/20\n"
     ]
    },
    {
     "name": "stderr",
     "output_type": "stream",
     "text": [
      "100%|██████████| 835/835 [01:17<00:00, 10.76it/s]\n"
     ]
    },
    {
     "name": "stdout",
     "output_type": "stream",
     "text": [
      "{'val_loss': 1.7631210077483699, 'val_accuracy': 0.6727810650887573, 'precision': 0.6734777085558987, 'recall': 0.6727810650887573, 'f1-score': 0.6516065196062435, 'macro_f1-score': 0.3666996895255889, 'balanced_accuracy': 0.3412404068671856, 'mcc': 0.5612159742873443, 'train_loss': 0.17808922170382552}\n",
      "Epoch 16/20\n"
     ]
    },
    {
     "name": "stderr",
     "output_type": "stream",
     "text": [
      "100%|██████████| 835/835 [01:17<00:00, 10.77it/s]\n"
     ]
    },
    {
     "name": "stdout",
     "output_type": "stream",
     "text": [
      "{'val_loss': 1.7219898567165968, 'val_accuracy': 0.6810650887573965, 'precision': 0.6635603713120648, 'recall': 0.6810650887573965, 'f1-score': 0.6601194779294915, 'macro_f1-score': 0.3797519068324264, 'balanced_accuracy': 0.3700581000146379, 'mcc': 0.5723236249181373, 'train_loss': 0.17044425812817574}\n",
      "Epoch 17/20\n"
     ]
    },
    {
     "name": "stderr",
     "output_type": "stream",
     "text": [
      "100%|██████████| 835/835 [01:17<00:00, 10.77it/s]\n"
     ]
    },
    {
     "name": "stdout",
     "output_type": "stream",
     "text": [
      "{'val_loss': 1.7993920079942018, 'val_accuracy': 0.6834319526627219, 'precision': 0.6756700740296764, 'recall': 0.6834319526627219, 'f1-score': 0.66337079730966, 'macro_f1-score': 0.4097793761432362, 'balanced_accuracy': 0.38566488890596307, 'mcc': 0.5736014991072726, 'train_loss': 0.15955728143704553}\n",
      "Epoch 18/20\n"
     ]
    },
    {
     "name": "stderr",
     "output_type": "stream",
     "text": [
      "100%|██████████| 835/835 [01:17<00:00, 10.78it/s]\n"
     ]
    },
    {
     "name": "stdout",
     "output_type": "stream",
     "text": [
      "{'val_loss': 1.8104491371591136, 'val_accuracy': 0.6834319526627219, 'precision': 0.6679293605474009, 'recall': 0.6834319526627219, 'f1-score': 0.6567526591786211, 'macro_f1-score': 0.3706458389790184, 'balanced_accuracy': 0.33348833259001387, 'mcc': 0.5676727144501461, 'train_loss': 0.15958820833088438}\n",
      "Epoch 19/20\n"
     ]
    },
    {
     "name": "stderr",
     "output_type": "stream",
     "text": [
      "100%|██████████| 835/835 [01:17<00:00, 10.78it/s]\n"
     ]
    },
    {
     "name": "stdout",
     "output_type": "stream",
     "text": [
      "{'val_loss': 1.7632663699815858, 'val_accuracy': 0.6745562130177515, 'precision': 0.6827993808391928, 'recall': 0.6745562130177515, 'f1-score': 0.6627047098086344, 'macro_f1-score': 0.3879675090232409, 'balanced_accuracy': 0.39147804243905265, 'mcc': 0.5685783877119888, 'train_loss': 0.1876398578128627}\n",
      "Epoch 20/20\n"
     ]
    },
    {
     "name": "stderr",
     "output_type": "stream",
     "text": [
      "100%|██████████| 835/835 [01:17<00:00, 10.75it/s]\n"
     ]
    },
    {
     "name": "stdout",
     "output_type": "stream",
     "text": [
      "{'val_loss': 1.813519278927794, 'val_accuracy': 0.6804733727810651, 'precision': 0.664843631124176, 'recall': 0.6804733727810651, 'f1-score': 0.6580727106358599, 'macro_f1-score': 0.3738870244865404, 'balanced_accuracy': 0.3621747582091895, 'mcc': 0.5662924884137719, 'train_loss': 0.1551403869615455}\n",
      "Early stopping.\n",
      "\n",
      " === bert-base-uncased + bilstm + word2vec Final 5-fold Cross-Validation Results ===\n",
      "Total time: 4931 seconds\n",
      "Total time: 1 hrs 22 mins 11 secs\n",
      "val_loss: 1.5373\n",
      "val_accuracy: 0.6809\n",
      "precision: 0.6810\n",
      "recall: 0.6809\n",
      "f1-score: 0.6656\n",
      "macro_f1-score: 0.4203\n",
      "balanced_accuracy: 0.4019\n",
      "mcc: 0.5745\n",
      "train_loss: 0.2587\n",
      "▶ Running: roberta-base + plain + word2vec\n",
      "tokenizer is roberta-base\n",
      "Using device: cuda\n",
      "CUDA Available: True\n",
      "CUDA Device: NVIDIA GeForce RTX 5070 Ti\n",
      "Current GPU Memory Allocated: 0.02 GB\n",
      "Current GPU Memory Cached: 3.14 GB\n",
      "\n",
      "[Fold 1]\n",
      "🚀 Using Word2Vec for data augmentation\n",
      "🔧 Augmenting label 1: 25 → 200 (+175)\n",
      "🔧 Augmenting label 2: 112 → 200 (+88)\n",
      "🔧 Augmenting label 3: 24 → 200 (+176)\n",
      "🔧 Augmenting label 5: 116 → 200 (+84)\n",
      "🔧 Augmenting label 6: 95 → 200 (+105)\n",
      "🔧 Augmenting label 7: 31 → 200 (+169)\n",
      "🔧 Augmenting label 8: 68 → 200 (+132)\n",
      "🔧 Augmenting label 9: 65 → 200 (+135)\n",
      "🔧 Augmenting label 10: 70 → 200 (+130)\n",
      "🔧 Augmenting label 11: 172 → 200 (+28)\n",
      "🔧 Augmenting label 12: 193 → 200 (+7)\n",
      "🔧 Augmenting label 13: 29 → 200 (+171)\n",
      "🔧 Augmenting label 14: 23 → 200 (+177)\n",
      "🔧 Augmenting label 15: 25 → 200 (+175)\n",
      "🔧 Augmenting label 16: 20 → 200 (+180)\n",
      "🔧 Augmenting label 18: 93 → 200 (+107)\n",
      "🔧 Augmenting label 19: 45 → 200 (+155)\n",
      "🔧 Augmenting label 20: 14 → 200 (+186)\n",
      "🔧 Augmenting label 21: 35 → 200 (+165)\n",
      "🔧 Augmenting label 22: 78 → 200 (+122)\n",
      "🔧 Augmenting label 23: 160 → 200 (+40)\n",
      "🔧 Augmenting label 24: 16 → 200 (+184)\n",
      "🔧 Augmenting label 25: 50 → 200 (+150)\n",
      "🔧 Augmenting label 26: 86 → 200 (+114)\n",
      "🔧 Augmenting label 27: 49 → 200 (+151)\n",
      "🔧 Augmenting label 28: 12 → 200 (+188)\n",
      "🔧 Augmenting label 29: 13 → 200 (+187)\n",
      "🔧 Augmenting label 30: 15 → 200 (+185)\n",
      "🔧 Augmenting label 31: 80 → 200 (+120)\n",
      "🔧 Augmenting label 32: 36 → 200 (+164)\n",
      "🔧 Augmenting label 33: 32 → 200 (+168)\n",
      "🔧 Augmenting label 34: 30 → 200 (+170)\n",
      "🔧 Augmenting label 35: 12 → 200 (+188)\n",
      "🔧 Augmenting label 36: 28 → 200 (+172)\n",
      "🔧 Augmenting label 37: 21 → 200 (+179)\n",
      "🔧 Augmenting label 38: 6 → 200 (+194)\n",
      "🔧 Augmenting label 39: 103 → 200 (+97)\n",
      "🔧 Augmenting label 40: 12 → 200 (+188)\n",
      "🔧 Augmenting label 41: 8 → 200 (+192)\n",
      "🔧 Augmenting label 42: 147 → 200 (+53)\n",
      "🔧 Augmenting label 43: 16 → 200 (+184)\n",
      "🔧 Augmenting label 44: 20 → 200 (+180)\n",
      "🔧 Augmenting label 45: 9 → 200 (+191)\n",
      "🔧 Augmenting label 46: 54 → 200 (+146)\n",
      "🔧 Augmenting label 49: 69 → 200 (+131)\n",
      "Label distribution after resampling:\n",
      "  label 0: 3179\n",
      "  label 1: 200\n",
      "  label 2: 200\n",
      "  label 3: 200\n",
      "  label 4: 205\n",
      "  label 5: 200\n",
      "  label 6: 200\n",
      "  label 7: 200\n",
      "  label 8: 200\n",
      "  label 9: 200\n",
      "  label 10: 200\n",
      "  label 11: 200\n",
      "  label 12: 200\n",
      "  label 13: 200\n",
      "  label 14: 200\n",
      "  label 15: 200\n",
      "  label 16: 200\n",
      "  label 17: 231\n",
      "  label 18: 200\n",
      "  label 19: 200\n",
      "  label 20: 200\n",
      "  label 21: 200\n",
      "  label 22: 200\n",
      "  label 23: 200\n",
      "  label 24: 200\n",
      "  label 25: 200\n",
      "  label 26: 200\n",
      "  label 27: 200\n",
      "  label 28: 200\n",
      "  label 29: 200\n",
      "  label 30: 200\n",
      "  label 31: 200\n",
      "  label 32: 200\n",
      "  label 33: 200\n",
      "  label 34: 200\n",
      "  label 35: 200\n",
      "  label 36: 200\n",
      "  label 37: 200\n",
      "  label 38: 200\n",
      "  label 39: 200\n",
      "  label 40: 200\n",
      "  label 41: 200\n",
      "  label 42: 200\n",
      "  label 43: 200\n",
      "  label 44: 200\n",
      "  label 45: 200\n",
      "  label 46: 200\n",
      "  label 47: 529\n",
      "  label 48: 202\n",
      "  label 49: 200\n",
      "model is roberta-base\n"
     ]
    },
    {
     "name": "stderr",
     "output_type": "stream",
     "text": [
      "Some weights of RobertaForSequenceClassification were not initialized from the model checkpoint at roberta-base and are newly initialized: ['classifier.dense.bias', 'classifier.dense.weight', 'classifier.out_proj.bias', 'classifier.out_proj.weight']\n",
      "You should probably TRAIN this model on a down-stream task to be able to use it for predictions and inference.\n"
     ]
    },
    {
     "name": "stdout",
     "output_type": "stream",
     "text": [
      "Epoch 1/20\n"
     ]
    },
    {
     "name": "stderr",
     "output_type": "stream",
     "text": [
      "100%|██████████| 835/835 [01:11<00:00, 11.68it/s]\n"
     ]
    },
    {
     "name": "stdout",
     "output_type": "stream",
     "text": [
      "{'val_loss': 1.6221603891759548, 'val_accuracy': 0.5753991720875222, 'precision': 0.47659712367940543, 'recall': 0.5753991720875222, 'f1-score': 0.5048296912051876, 'macro_f1-score': 0.17958785123469595, 'balanced_accuracy': 0.24082296414806578, 'mcc': 0.41562752890789734, 'train_loss': 2.649201496703896}\n",
      "Epoch 2/20\n"
     ]
    },
    {
     "name": "stderr",
     "output_type": "stream",
     "text": [
      "100%|██████████| 835/835 [01:11<00:00, 11.67it/s]\n"
     ]
    },
    {
     "name": "stdout",
     "output_type": "stream",
     "text": [
      "{'val_loss': 1.426415038839826, 'val_accuracy': 0.5972797161442933, 'precision': 0.6297423200833897, 'recall': 0.5972797161442933, 'f1-score': 0.5842878102837115, 'macro_f1-score': 0.33361951038903237, 'balanced_accuracy': 0.35718899480596555, 'mcc': 0.4668011812033393, 'train_loss': 1.4054499537644987}\n",
      "Epoch 3/20\n"
     ]
    },
    {
     "name": "stderr",
     "output_type": "stream",
     "text": [
      "100%|██████████| 835/835 [01:11<00:00, 11.67it/s]\n"
     ]
    },
    {
     "name": "stdout",
     "output_type": "stream",
     "text": [
      "{'val_loss': 1.3776531891440444, 'val_accuracy': 0.6333530455351862, 'precision': 0.6640555705264715, 'recall': 0.6333530455351862, 'f1-score': 0.6119769992259431, 'macro_f1-score': 0.361919031268319, 'balanced_accuracy': 0.39505410373457983, 'mcc': 0.5112361013172768, 'train_loss': 0.8232424538827942}\n",
      "Epoch 4/20\n"
     ]
    },
    {
     "name": "stderr",
     "output_type": "stream",
     "text": [
      "100%|██████████| 835/835 [01:11<00:00, 11.68it/s]\n"
     ]
    },
    {
     "name": "stdout",
     "output_type": "stream",
     "text": [
      "{'val_loss': 1.3652248092979755, 'val_accuracy': 0.6475458308693081, 'precision': 0.6559482492512877, 'recall': 0.6475458308693081, 'f1-score': 0.6411740348855957, 'macro_f1-score': 0.4119042342492346, 'balanced_accuracy': 0.42027841069921434, 'mcc': 0.5330979261662123, 'train_loss': 0.561388942121924}\n",
      "Epoch 5/20\n"
     ]
    },
    {
     "name": "stderr",
     "output_type": "stream",
     "text": [
      "100%|██████████| 835/835 [01:11<00:00, 11.67it/s]\n"
     ]
    },
    {
     "name": "stdout",
     "output_type": "stream",
     "text": [
      "{'val_loss': 1.4687200638483155, 'val_accuracy': 0.6475458308693081, 'precision': 0.6647573530168487, 'recall': 0.6475458308693081, 'f1-score': 0.6358747273389554, 'macro_f1-score': 0.3969714320752782, 'balanced_accuracy': 0.4080397574875675, 'mcc': 0.5320940516296323, 'train_loss': 0.4300531572745946}\n",
      "Epoch 6/20\n"
     ]
    },
    {
     "name": "stderr",
     "output_type": "stream",
     "text": [
      "100%|██████████| 835/835 [01:11<00:00, 11.68it/s]\n"
     ]
    },
    {
     "name": "stdout",
     "output_type": "stream",
     "text": [
      "{'val_loss': 1.581557440448482, 'val_accuracy': 0.6635127143701951, 'precision': 0.6484929837557353, 'recall': 0.6635127143701951, 'f1-score': 0.6331866079603008, 'macro_f1-score': 0.3761491098052025, 'balanced_accuracy': 0.36119986881393484, 'mcc': 0.5395772793521403, 'train_loss': 0.3440882044827599}\n",
      "Epoch 7/20\n"
     ]
    },
    {
     "name": "stderr",
     "output_type": "stream",
     "text": [
      "100%|██████████| 835/835 [01:11<00:00, 11.68it/s]\n"
     ]
    },
    {
     "name": "stdout",
     "output_type": "stream",
     "text": [
      "{'val_loss': 1.643804207444191, 'val_accuracy': 0.6605558840922531, 'precision': 0.6647966893972783, 'recall': 0.6605558840922531, 'f1-score': 0.6439111834636586, 'macro_f1-score': 0.39125219260118516, 'balanced_accuracy': 0.39240356998997394, 'mcc': 0.5477634211213477, 'train_loss': 0.29997827823937473}\n",
      "Early stopping.\n",
      "\n",
      "[Fold 2]\n",
      "🚀 Using Word2Vec for data augmentation\n",
      "🔧 Augmenting label 1: 25 → 200 (+175)\n",
      "🔧 Augmenting label 2: 112 → 200 (+88)\n",
      "🔧 Augmenting label 3: 24 → 200 (+176)\n",
      "🔧 Augmenting label 5: 116 → 200 (+84)\n",
      "🔧 Augmenting label 6: 94 → 200 (+106)\n",
      "🔧 Augmenting label 7: 31 → 200 (+169)\n",
      "🔧 Augmenting label 8: 68 → 200 (+132)\n",
      "🔧 Augmenting label 9: 65 → 200 (+135)\n",
      "🔧 Augmenting label 10: 70 → 200 (+130)\n",
      "🔧 Augmenting label 11: 172 → 200 (+28)\n",
      "🔧 Augmenting label 12: 193 → 200 (+7)\n",
      "🔧 Augmenting label 13: 29 → 200 (+171)\n",
      "🔧 Augmenting label 14: 23 → 200 (+177)\n",
      "🔧 Augmenting label 15: 25 → 200 (+175)\n",
      "🔧 Augmenting label 16: 20 → 200 (+180)\n",
      "🔧 Augmenting label 18: 93 → 200 (+107)\n",
      "🔧 Augmenting label 19: 45 → 200 (+155)\n",
      "🔧 Augmenting label 20: 14 → 200 (+186)\n",
      "🔧 Augmenting label 21: 35 → 200 (+165)\n",
      "🔧 Augmenting label 22: 78 → 200 (+122)\n",
      "🔧 Augmenting label 23: 160 → 200 (+40)\n",
      "🔧 Augmenting label 24: 16 → 200 (+184)\n",
      "🔧 Augmenting label 25: 50 → 200 (+150)\n",
      "🔧 Augmenting label 26: 86 → 200 (+114)\n",
      "🔧 Augmenting label 27: 49 → 200 (+151)\n",
      "🔧 Augmenting label 28: 12 → 200 (+188)\n",
      "🔧 Augmenting label 29: 13 → 200 (+187)\n",
      "🔧 Augmenting label 30: 15 → 200 (+185)\n",
      "🔧 Augmenting label 31: 80 → 200 (+120)\n",
      "🔧 Augmenting label 32: 36 → 200 (+164)\n",
      "🔧 Augmenting label 33: 32 → 200 (+168)\n",
      "🔧 Augmenting label 34: 30 → 200 (+170)\n",
      "🔧 Augmenting label 35: 12 → 200 (+188)\n",
      "🔧 Augmenting label 36: 28 → 200 (+172)\n",
      "🔧 Augmenting label 37: 22 → 200 (+178)\n",
      "🔧 Augmenting label 38: 5 → 200 (+195)\n",
      "🔧 Augmenting label 39: 103 → 200 (+97)\n",
      "🔧 Augmenting label 40: 11 → 200 (+189)\n",
      "🔧 Augmenting label 41: 9 → 200 (+191)\n",
      "🔧 Augmenting label 42: 147 → 200 (+53)\n",
      "🔧 Augmenting label 43: 16 → 200 (+184)\n",
      "🔧 Augmenting label 44: 20 → 200 (+180)\n",
      "🔧 Augmenting label 45: 9 → 200 (+191)\n",
      "🔧 Augmenting label 46: 55 → 200 (+145)\n",
      "🔧 Augmenting label 49: 69 → 200 (+131)\n",
      "Label distribution after resampling:\n",
      "  label 0: 3179\n",
      "  label 1: 200\n",
      "  label 2: 200\n",
      "  label 3: 200\n",
      "  label 4: 206\n",
      "  label 5: 200\n",
      "  label 6: 200\n",
      "  label 7: 200\n",
      "  label 8: 200\n",
      "  label 9: 200\n",
      "  label 10: 200\n",
      "  label 11: 200\n",
      "  label 12: 200\n",
      "  label 13: 200\n",
      "  label 14: 200\n",
      "  label 15: 200\n",
      "  label 16: 200\n",
      "  label 17: 231\n",
      "  label 18: 200\n",
      "  label 19: 200\n",
      "  label 20: 200\n",
      "  label 21: 200\n",
      "  label 22: 200\n",
      "  label 23: 200\n",
      "  label 24: 200\n",
      "  label 25: 200\n",
      "  label 26: 200\n",
      "  label 27: 200\n",
      "  label 28: 200\n",
      "  label 29: 200\n",
      "  label 30: 200\n",
      "  label 31: 200\n",
      "  label 32: 200\n",
      "  label 33: 200\n",
      "  label 34: 200\n",
      "  label 35: 200\n",
      "  label 36: 200\n",
      "  label 37: 200\n",
      "  label 38: 200\n",
      "  label 39: 200\n",
      "  label 40: 200\n",
      "  label 41: 200\n",
      "  label 42: 200\n",
      "  label 43: 200\n",
      "  label 44: 200\n",
      "  label 45: 200\n",
      "  label 46: 200\n",
      "  label 47: 528\n",
      "  label 48: 202\n",
      "  label 49: 200\n",
      "model is roberta-base\n"
     ]
    },
    {
     "name": "stderr",
     "output_type": "stream",
     "text": [
      "Some weights of RobertaForSequenceClassification were not initialized from the model checkpoint at roberta-base and are newly initialized: ['classifier.dense.bias', 'classifier.dense.weight', 'classifier.out_proj.bias', 'classifier.out_proj.weight']\n",
      "You should probably TRAIN this model on a down-stream task to be able to use it for predictions and inference.\n"
     ]
    },
    {
     "name": "stdout",
     "output_type": "stream",
     "text": [
      "Epoch 1/20\n"
     ]
    },
    {
     "name": "stderr",
     "output_type": "stream",
     "text": [
      "100%|██████████| 835/835 [01:11<00:00, 11.67it/s]\n"
     ]
    },
    {
     "name": "stdout",
     "output_type": "stream",
     "text": [
      "{'val_loss': 1.5470732709146895, 'val_accuracy': 0.5795387344766411, 'precision': 0.6192976306593762, 'recall': 0.5795387344766411, 'f1-score': 0.5615091999140677, 'macro_f1-score': 0.2950632455942904, 'balanced_accuracy': 0.3537842731689381, 'mcc': 0.4435237276267141, 'train_loss': 2.2167604070937563}\n",
      "Epoch 2/20\n"
     ]
    },
    {
     "name": "stderr",
     "output_type": "stream",
     "text": [
      "100%|██████████| 835/835 [01:11<00:00, 11.65it/s]\n"
     ]
    },
    {
     "name": "stdout",
     "output_type": "stream",
     "text": [
      "{'val_loss': 1.376162367047004, 'val_accuracy': 0.6351271437019516, 'precision': 0.604535623193916, 'recall': 0.6351271437019516, 'f1-score': 0.5924390887788602, 'macro_f1-score': 0.35342438007430566, 'balanced_accuracy': 0.3841889142948513, 'mcc': 0.5025209140378893, 'train_loss': 1.031356235285719}\n",
      "Epoch 3/20\n"
     ]
    },
    {
     "name": "stderr",
     "output_type": "stream",
     "text": [
      "100%|██████████| 835/835 [01:11<00:00, 11.68it/s]\n"
     ]
    },
    {
     "name": "stdout",
     "output_type": "stream",
     "text": [
      "{'val_loss': 1.323026664133342, 'val_accuracy': 0.6534594914251922, 'precision': 0.6548361592920618, 'recall': 0.6534594914251922, 'f1-score': 0.6412713230720903, 'macro_f1-score': 0.3855639909881795, 'balanced_accuracy': 0.40603820512085187, 'mcc': 0.5482415154202623, 'train_loss': 0.6433163274994154}\n",
      "Epoch 4/20\n"
     ]
    },
    {
     "name": "stderr",
     "output_type": "stream",
     "text": [
      "100%|██████████| 835/835 [01:11<00:00, 11.66it/s]\n"
     ]
    },
    {
     "name": "stdout",
     "output_type": "stream",
     "text": [
      "{'val_loss': 1.4309735927941665, 'val_accuracy': 0.6422235363690124, 'precision': 0.6650179584090744, 'recall': 0.6422235363690124, 'f1-score': 0.6309453664534708, 'macro_f1-score': 0.3921230584038522, 'balanced_accuracy': 0.40709089552223304, 'mcc': 0.527937901756533, 'train_loss': 0.457598852428669}\n",
      "Epoch 5/20\n"
     ]
    },
    {
     "name": "stderr",
     "output_type": "stream",
     "text": [
      "100%|██████████| 835/835 [01:11<00:00, 11.68it/s]\n"
     ]
    },
    {
     "name": "stdout",
     "output_type": "stream",
     "text": [
      "{'val_loss': 1.508163237346793, 'val_accuracy': 0.6558249556475458, 'precision': 0.6710825812774343, 'recall': 0.6558249556475458, 'f1-score': 0.647758409701842, 'macro_f1-score': 0.40447871828798326, 'balanced_accuracy': 0.4038385164676873, 'mcc': 0.5483596343372188, 'train_loss': 0.38757447449568505}\n",
      "Epoch 6/20\n"
     ]
    },
    {
     "name": "stderr",
     "output_type": "stream",
     "text": [
      "100%|██████████| 835/835 [01:11<00:00, 11.68it/s]\n"
     ]
    },
    {
     "name": "stdout",
     "output_type": "stream",
     "text": [
      "{'val_loss': 1.5571131098945186, 'val_accuracy': 0.6658781785925488, 'precision': 0.6621224744099319, 'recall': 0.6658781785925488, 'f1-score': 0.6445935059202023, 'macro_f1-score': 0.39049108527004217, 'balanced_accuracy': 0.3778355582725549, 'mcc': 0.5521664299158473, 'train_loss': 0.33146247463468126}\n",
      "Epoch 7/20\n"
     ]
    },
    {
     "name": "stderr",
     "output_type": "stream",
     "text": [
      "100%|██████████| 835/835 [01:11<00:00, 11.67it/s]\n"
     ]
    },
    {
     "name": "stdout",
     "output_type": "stream",
     "text": [
      "{'val_loss': 1.6926341461685468, 'val_accuracy': 0.6706091070372561, 'precision': 0.6374027523025625, 'recall': 0.6706091070372561, 'f1-score': 0.6326820546673805, 'macro_f1-score': 0.376785818891983, 'balanced_accuracy': 0.3610192314194615, 'mcc': 0.5480289523103349, 'train_loss': 0.2889353290133312}\n",
      "Epoch 8/20\n"
     ]
    },
    {
     "name": "stderr",
     "output_type": "stream",
     "text": [
      "100%|██████████| 835/835 [01:11<00:00, 11.67it/s]\n"
     ]
    },
    {
     "name": "stdout",
     "output_type": "stream",
     "text": [
      "{'val_loss': 1.6353543054945063, 'val_accuracy': 0.6777054997043169, 'precision': 0.655835728454684, 'recall': 0.6777054997043169, 'f1-score': 0.6535904821518571, 'macro_f1-score': 0.41524991137895706, 'balanced_accuracy': 0.3998530531631975, 'mcc': 0.5602937045469585, 'train_loss': 0.2453420221331546}\n",
      "Epoch 9/20\n"
     ]
    },
    {
     "name": "stderr",
     "output_type": "stream",
     "text": [
      "100%|██████████| 835/835 [01:11<00:00, 11.66it/s]\n"
     ]
    },
    {
     "name": "stdout",
     "output_type": "stream",
     "text": [
      "{'val_loss': 1.695630892830075, 'val_accuracy': 0.6641040804257835, 'precision': 0.6900890539475034, 'recall': 0.6641040804257835, 'f1-score': 0.6563502159869457, 'macro_f1-score': 0.41968633820002216, 'balanced_accuracy': 0.41874611034607506, 'mcc': 0.5578855549223174, 'train_loss': 0.26488803569283226}\n",
      "Epoch 10/20\n"
     ]
    },
    {
     "name": "stderr",
     "output_type": "stream",
     "text": [
      "100%|██████████| 835/835 [01:11<00:00, 11.67it/s]\n"
     ]
    },
    {
     "name": "stdout",
     "output_type": "stream",
     "text": [
      "{'val_loss': 1.6973651487309978, 'val_accuracy': 0.6717918391484329, 'precision': 0.6615946709303683, 'recall': 0.6717918391484329, 'f1-score': 0.6515707345024848, 'macro_f1-score': 0.40903667863901316, 'balanced_accuracy': 0.38772979554391135, 'mcc': 0.5558642873208302, 'train_loss': 0.23877510560040702}\n",
      "Epoch 11/20\n"
     ]
    },
    {
     "name": "stderr",
     "output_type": "stream",
     "text": [
      "100%|██████████| 835/835 [01:11<00:00, 11.69it/s]\n"
     ]
    },
    {
     "name": "stdout",
     "output_type": "stream",
     "text": [
      "{'val_loss': 1.8076614065552659, 'val_accuracy': 0.6611472501478415, 'precision': 0.6290129998636876, 'recall': 0.6611472501478415, 'f1-score': 0.6324722515120385, 'macro_f1-score': 0.3786774137883199, 'balanced_accuracy': 0.3709497041158616, 'mcc': 0.540269838655831, 'train_loss': 0.20301021023187787}\n",
      "Epoch 12/20\n"
     ]
    },
    {
     "name": "stderr",
     "output_type": "stream",
     "text": [
      "100%|██████████| 835/835 [01:11<00:00, 11.67it/s]\n"
     ]
    },
    {
     "name": "stdout",
     "output_type": "stream",
     "text": [
      "{'val_loss': 1.7609281517424673, 'val_accuracy': 0.657599053814311, 'precision': 0.6840770510581381, 'recall': 0.657599053814311, 'f1-score': 0.6570183307329507, 'macro_f1-score': 0.4154351206159243, 'balanced_accuracy': 0.41548670187991166, 'mcc': 0.5519353282810701, 'train_loss': 0.21247784657331328}\n",
      "Early stopping.\n",
      "\n",
      "[Fold 3]\n",
      "🚀 Using Word2Vec for data augmentation\n",
      "🔧 Augmenting label 1: 25 → 200 (+175)\n",
      "🔧 Augmenting label 2: 112 → 200 (+88)\n",
      "🔧 Augmenting label 3: 24 → 200 (+176)\n",
      "🔧 Augmenting label 5: 116 → 200 (+84)\n",
      "🔧 Augmenting label 6: 94 → 200 (+106)\n",
      "🔧 Augmenting label 7: 31 → 200 (+169)\n",
      "🔧 Augmenting label 8: 68 → 200 (+132)\n",
      "🔧 Augmenting label 9: 65 → 200 (+135)\n",
      "🔧 Augmenting label 10: 71 → 200 (+129)\n",
      "🔧 Augmenting label 11: 172 → 200 (+28)\n",
      "🔧 Augmenting label 12: 192 → 200 (+8)\n",
      "🔧 Augmenting label 13: 29 → 200 (+171)\n",
      "🔧 Augmenting label 14: 23 → 200 (+177)\n",
      "🔧 Augmenting label 15: 25 → 200 (+175)\n",
      "🔧 Augmenting label 16: 20 → 200 (+180)\n",
      "🔧 Augmenting label 18: 93 → 200 (+107)\n",
      "🔧 Augmenting label 19: 45 → 200 (+155)\n",
      "🔧 Augmenting label 20: 14 → 200 (+186)\n",
      "🔧 Augmenting label 21: 36 → 200 (+164)\n",
      "🔧 Augmenting label 22: 77 → 200 (+123)\n",
      "🔧 Augmenting label 23: 160 → 200 (+40)\n",
      "🔧 Augmenting label 24: 16 → 200 (+184)\n",
      "🔧 Augmenting label 25: 51 → 200 (+149)\n",
      "🔧 Augmenting label 26: 85 → 200 (+115)\n",
      "🔧 Augmenting label 27: 49 → 200 (+151)\n",
      "🔧 Augmenting label 28: 12 → 200 (+188)\n",
      "🔧 Augmenting label 29: 12 → 200 (+188)\n",
      "🔧 Augmenting label 30: 16 → 200 (+184)\n",
      "🔧 Augmenting label 31: 80 → 200 (+120)\n",
      "🔧 Augmenting label 32: 36 → 200 (+164)\n",
      "🔧 Augmenting label 33: 32 → 200 (+168)\n",
      "🔧 Augmenting label 34: 29 → 200 (+171)\n",
      "🔧 Augmenting label 35: 12 → 200 (+188)\n",
      "🔧 Augmenting label 36: 28 → 200 (+172)\n",
      "🔧 Augmenting label 37: 22 → 200 (+178)\n",
      "🔧 Augmenting label 38: 5 → 200 (+195)\n",
      "🔧 Augmenting label 39: 103 → 200 (+97)\n",
      "🔧 Augmenting label 40: 11 → 200 (+189)\n",
      "🔧 Augmenting label 41: 9 → 200 (+191)\n",
      "🔧 Augmenting label 42: 147 → 200 (+53)\n",
      "🔧 Augmenting label 43: 16 → 200 (+184)\n",
      "🔧 Augmenting label 44: 20 → 200 (+180)\n",
      "🔧 Augmenting label 45: 9 → 200 (+191)\n",
      "🔧 Augmenting label 46: 55 → 200 (+145)\n",
      "🔧 Augmenting label 49: 70 → 200 (+130)\n",
      "Label distribution after resampling:\n",
      "  label 0: 3179\n",
      "  label 1: 200\n",
      "  label 2: 200\n",
      "  label 3: 200\n",
      "  label 4: 206\n",
      "  label 5: 200\n",
      "  label 6: 200\n",
      "  label 7: 200\n",
      "  label 8: 200\n",
      "  label 9: 200\n",
      "  label 10: 200\n",
      "  label 11: 200\n",
      "  label 12: 200\n",
      "  label 13: 200\n",
      "  label 14: 200\n",
      "  label 15: 200\n",
      "  label 16: 200\n",
      "  label 17: 231\n",
      "  label 18: 200\n",
      "  label 19: 200\n",
      "  label 20: 200\n",
      "  label 21: 200\n",
      "  label 22: 200\n",
      "  label 23: 200\n",
      "  label 24: 200\n",
      "  label 25: 200\n",
      "  label 26: 200\n",
      "  label 27: 200\n",
      "  label 28: 200\n",
      "  label 29: 200\n",
      "  label 30: 200\n",
      "  label 31: 200\n",
      "  label 32: 200\n",
      "  label 33: 200\n",
      "  label 34: 200\n",
      "  label 35: 200\n",
      "  label 36: 200\n",
      "  label 37: 200\n",
      "  label 38: 200\n",
      "  label 39: 200\n",
      "  label 40: 200\n",
      "  label 41: 200\n",
      "  label 42: 200\n",
      "  label 43: 200\n",
      "  label 44: 200\n",
      "  label 45: 200\n",
      "  label 46: 200\n",
      "  label 47: 529\n",
      "  label 48: 201\n",
      "  label 49: 200\n",
      "model is roberta-base\n"
     ]
    },
    {
     "name": "stderr",
     "output_type": "stream",
     "text": [
      "Some weights of RobertaForSequenceClassification were not initialized from the model checkpoint at roberta-base and are newly initialized: ['classifier.dense.bias', 'classifier.dense.weight', 'classifier.out_proj.bias', 'classifier.out_proj.weight']\n",
      "You should probably TRAIN this model on a down-stream task to be able to use it for predictions and inference.\n"
     ]
    },
    {
     "name": "stdout",
     "output_type": "stream",
     "text": [
      "Epoch 1/20\n"
     ]
    },
    {
     "name": "stderr",
     "output_type": "stream",
     "text": [
      "100%|██████████| 835/835 [01:11<00:00, 11.68it/s]\n"
     ]
    },
    {
     "name": "stdout",
     "output_type": "stream",
     "text": [
      "{'val_loss': 1.4465999760717716, 'val_accuracy': 0.589591957421644, 'precision': 0.6405416139193546, 'recall': 0.589591957421644, 'f1-score': 0.5691876676914239, 'macro_f1-score': 0.3003999357280241, 'balanced_accuracy': 0.3639368764519787, 'mcc': 0.451597140434179, 'train_loss': 2.193676567791465}\n",
      "Epoch 2/20\n"
     ]
    },
    {
     "name": "stderr",
     "output_type": "stream",
     "text": [
      "100%|██████████| 835/835 [01:11<00:00, 11.66it/s]\n"
     ]
    },
    {
     "name": "stdout",
     "output_type": "stream",
     "text": [
      "{'val_loss': 1.4242749160753105, 'val_accuracy': 0.6073329390892963, 'precision': 0.6625889354518331, 'recall': 0.6073329390892963, 'f1-score': 0.6007804026789098, 'macro_f1-score': 0.3253089366475029, 'balanced_accuracy': 0.3776214307290654, 'mcc': 0.49169466822992947, 'train_loss': 1.0374986380338669}\n",
      "Epoch 3/20\n"
     ]
    },
    {
     "name": "stderr",
     "output_type": "stream",
     "text": [
      "100%|██████████| 835/835 [01:11<00:00, 11.67it/s]\n"
     ]
    },
    {
     "name": "stdout",
     "output_type": "stream",
     "text": [
      "{'val_loss': 1.4609667301740286, 'val_accuracy': 0.6398580721466588, 'precision': 0.637017376575758, 'recall': 0.6398580721466588, 'f1-score': 0.6029947303633247, 'macro_f1-score': 0.320402380476992, 'balanced_accuracy': 0.3086604763754327, 'mcc': 0.5034866105343934, 'train_loss': 0.6442519098966422}\n",
      "Epoch 4/20\n"
     ]
    },
    {
     "name": "stderr",
     "output_type": "stream",
     "text": [
      "100%|██████████| 835/835 [01:11<00:00, 11.70it/s]\n"
     ]
    },
    {
     "name": "stdout",
     "output_type": "stream",
     "text": [
      "{'val_loss': 1.401897129866312, 'val_accuracy': 0.6723832052040213, 'precision': 0.6564694496894348, 'recall': 0.6723832052040213, 'f1-score': 0.6450163290382993, 'macro_f1-score': 0.3609904842917811, 'balanced_accuracy': 0.34317426018585806, 'mcc': 0.5575625000060923, 'train_loss': 0.46197749809501415}\n",
      "Epoch 5/20\n"
     ]
    },
    {
     "name": "stderr",
     "output_type": "stream",
     "text": [
      "100%|██████████| 835/835 [01:11<00:00, 11.67it/s]\n"
     ]
    },
    {
     "name": "stdout",
     "output_type": "stream",
     "text": [
      "{'val_loss': 1.49786654170954, 'val_accuracy': 0.6729745712596097, 'precision': 0.6518806439998852, 'recall': 0.6729745712596097, 'f1-score': 0.635854441071445, 'macro_f1-score': 0.3647402962041783, 'balanced_accuracy': 0.34404123418655014, 'mcc': 0.5530490289085799, 'train_loss': 0.38823104069796865}\n",
      "Epoch 6/20\n"
     ]
    },
    {
     "name": "stderr",
     "output_type": "stream",
     "text": [
      "100%|██████████| 835/835 [01:11<00:00, 11.67it/s]\n"
     ]
    },
    {
     "name": "stdout",
     "output_type": "stream",
     "text": [
      "{'val_loss': 1.5842585563659668, 'val_accuracy': 0.6505026611472502, 'precision': 0.6580601478454775, 'recall': 0.6505026611472502, 'f1-score': 0.6388456282544142, 'macro_f1-score': 0.3845706654062834, 'balanced_accuracy': 0.40059991735402084, 'mcc': 0.5390261814735116, 'train_loss': 0.32219085115270163}\n",
      "Epoch 7/20\n"
     ]
    },
    {
     "name": "stderr",
     "output_type": "stream",
     "text": [
      "100%|██████████| 835/835 [01:11<00:00, 11.68it/s]\n"
     ]
    },
    {
     "name": "stdout",
     "output_type": "stream",
     "text": [
      "{'val_loss': 1.694495956009289, 'val_accuracy': 0.63571850975754, 'precision': 0.6521193464924047, 'recall': 0.63571850975754, 'f1-score': 0.6264218159352972, 'macro_f1-score': 0.3520085547708144, 'balanced_accuracy': 0.374929818226571, 'mcc': 0.5290613296854045, 'train_loss': 0.2927458947970571}\n",
      "Epoch 8/20\n"
     ]
    },
    {
     "name": "stderr",
     "output_type": "stream",
     "text": [
      "100%|██████████| 835/835 [01:11<00:00, 11.67it/s]\n"
     ]
    },
    {
     "name": "stdout",
     "output_type": "stream",
     "text": [
      "{'val_loss': 1.5810592669361043, 'val_accuracy': 0.6723832052040213, 'precision': 0.6510082689951957, 'recall': 0.6723832052040213, 'f1-score': 0.6436263835658479, 'macro_f1-score': 0.37222038175189387, 'balanced_accuracy': 0.3600443229133149, 'mcc': 0.5592679793492665, 'train_loss': 0.2761652419259939}\n",
      "Epoch 9/20\n"
     ]
    },
    {
     "name": "stderr",
     "output_type": "stream",
     "text": [
      "100%|██████████| 835/835 [01:12<00:00, 11.57it/s]\n"
     ]
    },
    {
     "name": "stdout",
     "output_type": "stream",
     "text": [
      "{'val_loss': 1.635882372001432, 'val_accuracy': 0.6611472501478415, 'precision': 0.645563342232548, 'recall': 0.6611472501478415, 'f1-score': 0.6423194422298399, 'macro_f1-score': 0.3474248656742136, 'balanced_accuracy': 0.35677396974078746, 'mcc': 0.5498488114172789, 'train_loss': 0.2486677306018279}\n",
      "Early stopping.\n",
      "\n",
      "[Fold 4]\n",
      "🚀 Using Word2Vec for data augmentation\n",
      "🔧 Augmenting label 1: 25 → 200 (+175)\n",
      "🔧 Augmenting label 2: 112 → 200 (+88)\n",
      "🔧 Augmenting label 3: 24 → 200 (+176)\n",
      "🔧 Augmenting label 5: 116 → 200 (+84)\n",
      "🔧 Augmenting label 6: 94 → 200 (+106)\n",
      "🔧 Augmenting label 7: 32 → 200 (+168)\n",
      "🔧 Augmenting label 8: 68 → 200 (+132)\n",
      "🔧 Augmenting label 9: 64 → 200 (+136)\n",
      "🔧 Augmenting label 10: 71 → 200 (+129)\n",
      "🔧 Augmenting label 11: 172 → 200 (+28)\n",
      "🔧 Augmenting label 12: 193 → 200 (+7)\n",
      "🔧 Augmenting label 13: 28 → 200 (+172)\n",
      "🔧 Augmenting label 14: 24 → 200 (+176)\n",
      "🔧 Augmenting label 15: 24 → 200 (+176)\n",
      "🔧 Augmenting label 16: 20 → 200 (+180)\n",
      "🔧 Augmenting label 18: 92 → 200 (+108)\n",
      "🔧 Augmenting label 19: 45 → 200 (+155)\n",
      "🔧 Augmenting label 20: 15 → 200 (+185)\n",
      "🔧 Augmenting label 21: 35 → 200 (+165)\n",
      "🔧 Augmenting label 22: 77 → 200 (+123)\n",
      "🔧 Augmenting label 23: 160 → 200 (+40)\n",
      "🔧 Augmenting label 24: 16 → 200 (+184)\n",
      "🔧 Augmenting label 25: 51 → 200 (+149)\n",
      "🔧 Augmenting label 26: 85 → 200 (+115)\n",
      "🔧 Augmenting label 27: 49 → 200 (+151)\n",
      "🔧 Augmenting label 28: 12 → 200 (+188)\n",
      "🔧 Augmenting label 29: 13 → 200 (+187)\n",
      "🔧 Augmenting label 30: 15 → 200 (+185)\n",
      "🔧 Augmenting label 31: 80 → 200 (+120)\n",
      "🔧 Augmenting label 32: 36 → 200 (+164)\n",
      "🔧 Augmenting label 33: 32 → 200 (+168)\n",
      "🔧 Augmenting label 34: 29 → 200 (+171)\n",
      "🔧 Augmenting label 35: 12 → 200 (+188)\n",
      "🔧 Augmenting label 36: 28 → 200 (+172)\n",
      "🔧 Augmenting label 37: 22 → 200 (+178)\n",
      "🔧 Augmenting label 38: 6 → 200 (+194)\n",
      "🔧 Augmenting label 39: 103 → 200 (+97)\n",
      "🔧 Augmenting label 40: 11 → 200 (+189)\n",
      "🔧 Augmenting label 41: 9 → 200 (+191)\n",
      "🔧 Augmenting label 42: 148 → 200 (+52)\n",
      "🔧 Augmenting label 43: 16 → 200 (+184)\n",
      "🔧 Augmenting label 44: 20 → 200 (+180)\n",
      "🔧 Augmenting label 45: 8 → 200 (+192)\n",
      "🔧 Augmenting label 46: 54 → 200 (+146)\n",
      "🔧 Augmenting label 49: 70 → 200 (+130)\n",
      "Label distribution after resampling:\n",
      "  label 0: 3179\n",
      "  label 1: 200\n",
      "  label 2: 200\n",
      "  label 3: 200\n",
      "  label 4: 206\n",
      "  label 5: 200\n",
      "  label 6: 200\n",
      "  label 7: 200\n",
      "  label 8: 200\n",
      "  label 9: 200\n",
      "  label 10: 200\n",
      "  label 11: 200\n",
      "  label 12: 200\n",
      "  label 13: 200\n",
      "  label 14: 200\n",
      "  label 15: 200\n",
      "  label 16: 200\n",
      "  label 17: 232\n",
      "  label 18: 200\n",
      "  label 19: 200\n",
      "  label 20: 200\n",
      "  label 21: 200\n",
      "  label 22: 200\n",
      "  label 23: 200\n",
      "  label 24: 200\n",
      "  label 25: 200\n",
      "  label 26: 200\n",
      "  label 27: 200\n",
      "  label 28: 200\n",
      "  label 29: 200\n",
      "  label 30: 200\n",
      "  label 31: 200\n",
      "  label 32: 200\n",
      "  label 33: 200\n",
      "  label 34: 200\n",
      "  label 35: 200\n",
      "  label 36: 200\n",
      "  label 37: 200\n",
      "  label 38: 200\n",
      "  label 39: 200\n",
      "  label 40: 200\n",
      "  label 41: 200\n",
      "  label 42: 200\n",
      "  label 43: 200\n",
      "  label 44: 200\n",
      "  label 45: 200\n",
      "  label 46: 200\n",
      "  label 47: 529\n",
      "  label 48: 201\n",
      "  label 49: 200\n",
      "model is roberta-base\n"
     ]
    },
    {
     "name": "stderr",
     "output_type": "stream",
     "text": [
      "Some weights of RobertaForSequenceClassification were not initialized from the model checkpoint at roberta-base and are newly initialized: ['classifier.dense.bias', 'classifier.dense.weight', 'classifier.out_proj.bias', 'classifier.out_proj.weight']\n",
      "You should probably TRAIN this model on a down-stream task to be able to use it for predictions and inference.\n"
     ]
    },
    {
     "name": "stdout",
     "output_type": "stream",
     "text": [
      "Epoch 1/20\n"
     ]
    },
    {
     "name": "stderr",
     "output_type": "stream",
     "text": [
      "100%|██████████| 835/835 [01:11<00:00, 11.68it/s]\n"
     ]
    },
    {
     "name": "stdout",
     "output_type": "stream",
     "text": [
      "{'val_loss': 1.8267426417683654, 'val_accuracy': 0.5464222353636902, 'precision': 0.5527750665764843, 'recall': 0.5464222353636902, 'f1-score': 0.4972481764134573, 'macro_f1-score': 0.1546184227928161, 'balanced_accuracy': 0.23179683653071464, 'mcc': 0.40149650028549594, 'train_loss': 2.931513539188636}\n",
      "Epoch 2/20\n"
     ]
    },
    {
     "name": "stderr",
     "output_type": "stream",
     "text": [
      "100%|██████████| 835/835 [01:12<00:00, 11.54it/s]\n"
     ]
    },
    {
     "name": "stdout",
     "output_type": "stream",
     "text": [
      "{'val_loss': 1.3878803503400874, 'val_accuracy': 0.5789473684210527, 'precision': 0.6061806197746575, 'recall': 0.5789473684210527, 'f1-score': 0.5797837094248454, 'macro_f1-score': 0.3083035473844918, 'balanced_accuracy': 0.37161329210578176, 'mcc': 0.4561772969335566, 'train_loss': 1.6698926846067348}\n",
      "Epoch 3/20\n"
     ]
    },
    {
     "name": "stderr",
     "output_type": "stream",
     "text": [
      "100%|██████████| 835/835 [01:12<00:00, 11.53it/s]\n"
     ]
    },
    {
     "name": "stdout",
     "output_type": "stream",
     "text": [
      "{'val_loss': 1.3049137780688844, 'val_accuracy': 0.6345357776463632, 'precision': 0.6948090070579391, 'recall': 0.6345357776463632, 'f1-score': 0.6303103373329237, 'macro_f1-score': 0.3891694596569799, 'balanced_accuracy': 0.43024339662596106, 'mcc': 0.5232621461122672, 'train_loss': 0.969710817843854}\n",
      "Epoch 4/20\n"
     ]
    },
    {
     "name": "stderr",
     "output_type": "stream",
     "text": [
      "100%|██████████| 835/835 [01:12<00:00, 11.54it/s]\n"
     ]
    },
    {
     "name": "stdout",
     "output_type": "stream",
     "text": [
      "{'val_loss': 1.3222473364955973, 'val_accuracy': 0.6528681253696038, 'precision': 0.6552447449972224, 'recall': 0.6528681253696038, 'f1-score': 0.641037829374528, 'macro_f1-score': 0.3841650729476247, 'balanced_accuracy': 0.4141398183362172, 'mcc': 0.5384601488067673, 'train_loss': 0.6104137235148225}\n",
      "Epoch 5/20\n"
     ]
    },
    {
     "name": "stderr",
     "output_type": "stream",
     "text": [
      "100%|██████████| 835/835 [01:12<00:00, 11.53it/s]\n"
     ]
    },
    {
     "name": "stdout",
     "output_type": "stream",
     "text": [
      "{'val_loss': 1.4035395440065637, 'val_accuracy': 0.6493199290360734, 'precision': 0.6823544744565218, 'recall': 0.6493199290360734, 'f1-score': 0.6483794820958138, 'macro_f1-score': 0.389371746446171, 'balanced_accuracy': 0.40476794458669674, 'mcc': 0.54420103943954, 'train_loss': 0.43018700210767946}\n",
      "Epoch 6/20\n"
     ]
    },
    {
     "name": "stderr",
     "output_type": "stream",
     "text": [
      "100%|██████████| 835/835 [01:12<00:00, 11.54it/s]\n"
     ]
    },
    {
     "name": "stdout",
     "output_type": "stream",
     "text": [
      "{'val_loss': 1.42725955315356, 'val_accuracy': 0.6688350088704909, 'precision': 0.6835184300906314, 'recall': 0.6688350088704909, 'f1-score': 0.6633298227915155, 'macro_f1-score': 0.42648866413135605, 'balanced_accuracy': 0.45574893095655544, 'mcc': 0.5663322935653318, 'train_loss': 0.3556673512465047}\n",
      "Epoch 7/20\n"
     ]
    },
    {
     "name": "stderr",
     "output_type": "stream",
     "text": [
      "100%|██████████| 835/835 [01:12<00:00, 11.54it/s]\n"
     ]
    },
    {
     "name": "stdout",
     "output_type": "stream",
     "text": [
      "{'val_loss': 1.5426867587386437, 'val_accuracy': 0.6706091070372561, 'precision': 0.6679833079168203, 'recall': 0.6706091070372561, 'f1-score': 0.6506580875365786, 'macro_f1-score': 0.409882046819923, 'balanced_accuracy': 0.3967255505511087, 'mcc': 0.5536197241091505, 'train_loss': 0.2958389437963773}\n",
      "Epoch 8/20\n"
     ]
    },
    {
     "name": "stderr",
     "output_type": "stream",
     "text": [
      "100%|██████████| 835/835 [01:11<00:00, 11.60it/s]\n"
     ]
    },
    {
     "name": "stdout",
     "output_type": "stream",
     "text": [
      "{'val_loss': 1.544565666958971, 'val_accuracy': 0.6658781785925488, 'precision': 0.6824907076697703, 'recall': 0.6658781785925488, 'f1-score': 0.6604510715793735, 'macro_f1-score': 0.41627128318329076, 'balanced_accuracy': 0.4400879118889233, 'mcc': 0.5634641096308324, 'train_loss': 0.2674311638787433}\n",
      "Epoch 9/20\n"
     ]
    },
    {
     "name": "stderr",
     "output_type": "stream",
     "text": [
      "100%|██████████| 835/835 [01:12<00:00, 11.58it/s]\n"
     ]
    },
    {
     "name": "stdout",
     "output_type": "stream",
     "text": [
      "{'val_loss': 1.7118624500789732, 'val_accuracy': 0.6599645180366647, 'precision': 0.6557828964503218, 'recall': 0.6599645180366647, 'f1-score': 0.6340274396951152, 'macro_f1-score': 0.3759878833536463, 'balanced_accuracy': 0.3577570476778492, 'mcc': 0.5321322701440923, 'train_loss': 0.23565070181304287}\n",
      "Early stopping.\n",
      "\n",
      "[Fold 5]\n",
      "🚀 Using Word2Vec for data augmentation\n",
      "🔧 Augmenting label 1: 24 → 200 (+176)\n",
      "🔧 Augmenting label 2: 112 → 200 (+88)\n",
      "🔧 Augmenting label 3: 24 → 200 (+176)\n",
      "🔧 Augmenting label 5: 116 → 200 (+84)\n",
      "🔧 Augmenting label 6: 95 → 200 (+105)\n",
      "🔧 Augmenting label 7: 31 → 200 (+169)\n",
      "🔧 Augmenting label 8: 68 → 200 (+132)\n",
      "🔧 Augmenting label 9: 65 → 200 (+135)\n",
      "🔧 Augmenting label 10: 70 → 200 (+130)\n",
      "🔧 Augmenting label 11: 172 → 200 (+28)\n",
      "🔧 Augmenting label 12: 193 → 200 (+7)\n",
      "🔧 Augmenting label 13: 29 → 200 (+171)\n",
      "🔧 Augmenting label 14: 23 → 200 (+177)\n",
      "🔧 Augmenting label 15: 25 → 200 (+175)\n",
      "🔧 Augmenting label 16: 20 → 200 (+180)\n",
      "🔧 Augmenting label 18: 93 → 200 (+107)\n",
      "🔧 Augmenting label 19: 44 → 200 (+156)\n",
      "🔧 Augmenting label 20: 15 → 200 (+185)\n",
      "🔧 Augmenting label 21: 35 → 200 (+165)\n",
      "🔧 Augmenting label 22: 78 → 200 (+122)\n",
      "🔧 Augmenting label 23: 160 → 200 (+40)\n",
      "🔧 Augmenting label 24: 16 → 200 (+184)\n",
      "🔧 Augmenting label 25: 50 → 200 (+150)\n",
      "🔧 Augmenting label 26: 86 → 200 (+114)\n",
      "🔧 Augmenting label 27: 48 → 200 (+152)\n",
      "🔧 Augmenting label 28: 12 → 200 (+188)\n",
      "🔧 Augmenting label 29: 13 → 200 (+187)\n",
      "🔧 Augmenting label 30: 15 → 200 (+185)\n",
      "🔧 Augmenting label 31: 80 → 200 (+120)\n",
      "🔧 Augmenting label 32: 36 → 200 (+164)\n",
      "🔧 Augmenting label 33: 32 → 200 (+168)\n",
      "🔧 Augmenting label 34: 30 → 200 (+170)\n",
      "🔧 Augmenting label 35: 12 → 200 (+188)\n",
      "🔧 Augmenting label 36: 28 → 200 (+172)\n",
      "🔧 Augmenting label 37: 21 → 200 (+179)\n",
      "🔧 Augmenting label 38: 6 → 200 (+194)\n",
      "🔧 Augmenting label 39: 104 → 200 (+96)\n",
      "🔧 Augmenting label 40: 11 → 200 (+189)\n",
      "🔧 Augmenting label 41: 9 → 200 (+191)\n",
      "🔧 Augmenting label 42: 147 → 200 (+53)\n",
      "🔧 Augmenting label 43: 16 → 200 (+184)\n",
      "🔧 Augmenting label 44: 20 → 200 (+180)\n",
      "🔧 Augmenting label 45: 9 → 200 (+191)\n",
      "🔧 Augmenting label 46: 54 → 200 (+146)\n",
      "🔧 Augmenting label 49: 70 → 200 (+130)\n",
      "Label distribution after resampling:\n",
      "  label 0: 3180\n",
      "  label 1: 200\n",
      "  label 2: 200\n",
      "  label 3: 200\n",
      "  label 4: 205\n",
      "  label 5: 200\n",
      "  label 6: 200\n",
      "  label 7: 200\n",
      "  label 8: 200\n",
      "  label 9: 200\n",
      "  label 10: 200\n",
      "  label 11: 200\n",
      "  label 12: 200\n",
      "  label 13: 200\n",
      "  label 14: 200\n",
      "  label 15: 200\n",
      "  label 16: 200\n",
      "  label 17: 231\n",
      "  label 18: 200\n",
      "  label 19: 200\n",
      "  label 20: 200\n",
      "  label 21: 200\n",
      "  label 22: 200\n",
      "  label 23: 200\n",
      "  label 24: 200\n",
      "  label 25: 200\n",
      "  label 26: 200\n",
      "  label 27: 200\n",
      "  label 28: 200\n",
      "  label 29: 200\n",
      "  label 30: 200\n",
      "  label 31: 200\n",
      "  label 32: 200\n",
      "  label 33: 200\n",
      "  label 34: 200\n",
      "  label 35: 200\n",
      "  label 36: 200\n",
      "  label 37: 200\n",
      "  label 38: 200\n",
      "  label 39: 200\n",
      "  label 40: 200\n",
      "  label 41: 200\n",
      "  label 42: 200\n",
      "  label 43: 200\n",
      "  label 44: 200\n",
      "  label 45: 200\n",
      "  label 46: 200\n",
      "  label 47: 529\n",
      "  label 48: 202\n",
      "  label 49: 200\n",
      "model is roberta-base\n"
     ]
    },
    {
     "name": "stderr",
     "output_type": "stream",
     "text": [
      "Some weights of RobertaForSequenceClassification were not initialized from the model checkpoint at roberta-base and are newly initialized: ['classifier.dense.bias', 'classifier.dense.weight', 'classifier.out_proj.bias', 'classifier.out_proj.weight']\n",
      "You should probably TRAIN this model on a down-stream task to be able to use it for predictions and inference.\n"
     ]
    },
    {
     "name": "stdout",
     "output_type": "stream",
     "text": [
      "Epoch 1/20\n"
     ]
    },
    {
     "name": "stderr",
     "output_type": "stream",
     "text": [
      "100%|██████████| 835/835 [01:11<00:00, 11.66it/s]\n"
     ]
    },
    {
     "name": "stdout",
     "output_type": "stream",
     "text": [
      "{'val_loss': 1.472696546113716, 'val_accuracy': 0.6017751479289941, 'precision': 0.5828861703965822, 'recall': 0.6017751479289941, 'f1-score': 0.5637366131943238, 'macro_f1-score': 0.27478492584221265, 'balanced_accuracy': 0.3434345830973029, 'mcc': 0.4704453957653609, 'train_loss': 2.3065719958550917}\n",
      "Epoch 2/20\n"
     ]
    },
    {
     "name": "stderr",
     "output_type": "stream",
     "text": [
      "100%|██████████| 835/835 [01:11<00:00, 11.67it/s]\n"
     ]
    },
    {
     "name": "stdout",
     "output_type": "stream",
     "text": [
      "{'val_loss': 1.318538614882613, 'val_accuracy': 0.6414201183431952, 'precision': 0.5859420114451189, 'recall': 0.6414201183431952, 'f1-score': 0.593411123611381, 'macro_f1-score': 0.302591442599117, 'balanced_accuracy': 0.3005437643281664, 'mcc': 0.5057383793201482, 'train_loss': 1.1088126877289333}\n",
      "Epoch 3/20\n"
     ]
    },
    {
     "name": "stderr",
     "output_type": "stream",
     "text": [
      "100%|██████████| 835/835 [01:11<00:00, 11.67it/s]\n"
     ]
    },
    {
     "name": "stdout",
     "output_type": "stream",
     "text": [
      "{'val_loss': 1.3184110977739658, 'val_accuracy': 0.6449704142011834, 'precision': 0.6576748408597123, 'recall': 0.6449704142011834, 'f1-score': 0.6358620308221317, 'macro_f1-score': 0.349148203026442, 'balanced_accuracy': 0.36109887079115077, 'mcc': 0.5362223055181797, 'train_loss': 0.6852963407953342}\n",
      "Epoch 4/20\n"
     ]
    },
    {
     "name": "stderr",
     "output_type": "stream",
     "text": [
      "100%|██████████| 835/835 [01:11<00:00, 11.66it/s]\n"
     ]
    },
    {
     "name": "stdout",
     "output_type": "stream",
     "text": [
      "{'val_loss': 1.5747754042440991, 'val_accuracy': 0.6207100591715976, 'precision': 0.6678570248046412, 'recall': 0.6207100591715976, 'f1-score': 0.6219599317195198, 'macro_f1-score': 0.3511460010523519, 'balanced_accuracy': 0.38699953500914225, 'mcc': 0.521376384514607, 'train_loss': 0.49589079278939496}\n",
      "Epoch 5/20\n"
     ]
    },
    {
     "name": "stderr",
     "output_type": "stream",
     "text": [
      "100%|██████████| 835/835 [01:11<00:00, 11.68it/s]\n"
     ]
    },
    {
     "name": "stdout",
     "output_type": "stream",
     "text": [
      "{'val_loss': 1.4163271375703361, 'val_accuracy': 0.6615384615384615, 'precision': 0.652683294745018, 'recall': 0.6615384615384615, 'f1-score': 0.6419116041402013, 'macro_f1-score': 0.37098590215009614, 'balanced_accuracy': 0.378215789113672, 'mcc': 0.5465078700550353, 'train_loss': 0.40733240287371736}\n",
      "Epoch 6/20\n"
     ]
    },
    {
     "name": "stderr",
     "output_type": "stream",
     "text": [
      "100%|██████████| 835/835 [01:11<00:00, 11.66it/s]\n"
     ]
    },
    {
     "name": "stdout",
     "output_type": "stream",
     "text": [
      "{'val_loss': 1.4883709608946207, 'val_accuracy': 0.6727810650887573, 'precision': 0.6867231272772296, 'recall': 0.6727810650887573, 'f1-score': 0.6654547933734423, 'macro_f1-score': 0.4039080757145696, 'balanced_accuracy': 0.41534125522282694, 'mcc': 0.5666615589250759, 'train_loss': 0.34546362863864727}\n",
      "Epoch 7/20\n"
     ]
    },
    {
     "name": "stderr",
     "output_type": "stream",
     "text": [
      "100%|██████████| 835/835 [01:11<00:00, 11.67it/s]\n"
     ]
    },
    {
     "name": "stdout",
     "output_type": "stream",
     "text": [
      "{'val_loss': 1.4473138572472446, 'val_accuracy': 0.6857988165680473, 'precision': 0.6746396674375972, 'recall': 0.6857988165680473, 'f1-score': 0.6659360351204323, 'macro_f1-score': 0.4199158149692515, 'balanced_accuracy': 0.4142952397974212, 'mcc': 0.57791208754058, 'train_loss': 0.2994090785735292}\n",
      "Epoch 8/20\n"
     ]
    },
    {
     "name": "stderr",
     "output_type": "stream",
     "text": [
      "100%|██████████| 835/835 [01:11<00:00, 11.68it/s]\n"
     ]
    },
    {
     "name": "stdout",
     "output_type": "stream",
     "text": [
      "{'val_loss': 1.5224684024194501, 'val_accuracy': 0.6775147928994083, 'precision': 0.6751453591556787, 'recall': 0.6775147928994083, 'f1-score': 0.6676472583767208, 'macro_f1-score': 0.41750602740918014, 'balanced_accuracy': 0.40901187036318254, 'mcc': 0.5724038920789037, 'train_loss': 0.27371069248375335}\n",
      "Epoch 9/20\n"
     ]
    },
    {
     "name": "stderr",
     "output_type": "stream",
     "text": [
      "100%|██████████| 835/835 [01:11<00:00, 11.66it/s]\n"
     ]
    },
    {
     "name": "stdout",
     "output_type": "stream",
     "text": [
      "{'val_loss': 1.5894900377628938, 'val_accuracy': 0.6514792899408284, 'precision': 0.6690598941975269, 'recall': 0.6514792899408284, 'f1-score': 0.6534907052252447, 'macro_f1-score': 0.39502808296823466, 'balanced_accuracy': 0.4122818220911381, 'mcc': 0.5515532774791075, 'train_loss': 0.2698592722081317}\n",
      "Epoch 10/20\n"
     ]
    },
    {
     "name": "stderr",
     "output_type": "stream",
     "text": [
      "100%|██████████| 835/835 [01:11<00:00, 11.67it/s]\n"
     ]
    },
    {
     "name": "stdout",
     "output_type": "stream",
     "text": [
      "{'val_loss': 1.6314385406813532, 'val_accuracy': 0.6710059171597633, 'precision': 0.6700778578620716, 'recall': 0.6710059171597633, 'f1-score': 0.6555881732190859, 'macro_f1-score': 0.3819426334204028, 'balanced_accuracy': 0.37968931896545355, 'mcc': 0.5663807839642298, 'train_loss': 0.23472150992769414}\n",
      "Early stopping.\n",
      "\n",
      " === roberta-base + plain + word2vec Final 5-fold Cross-Validation Results ===\n",
      "Total time: 3563 seconds\n",
      "Total time: 0 hrs 59 mins 23 secs\n",
      "val_loss: 1.5039\n",
      "val_accuracy: 0.6634\n",
      "precision: 0.6725\n",
      "recall: 0.6634\n",
      "f1-score: 0.6531\n",
      "macro_f1-score: 0.4125\n",
      "balanced_accuracy: 0.4219\n",
      "mcc: 0.5549\n",
      "train_loss: 0.3607\n",
      "▶ Running: roberta-base + lstm + word2vec\n",
      "tokenizer is roberta-base\n",
      "Using device: cuda\n",
      "CUDA Available: True\n",
      "CUDA Device: NVIDIA GeForce RTX 5070 Ti\n",
      "Current GPU Memory Allocated: 0.02 GB\n",
      "Current GPU Memory Cached: 3.92 GB\n",
      "\n",
      "[Fold 1]\n",
      "🚀 Using Word2Vec for data augmentation\n",
      "🔧 Augmenting label 1: 25 → 200 (+175)\n",
      "🔧 Augmenting label 2: 112 → 200 (+88)\n",
      "🔧 Augmenting label 3: 24 → 200 (+176)\n",
      "🔧 Augmenting label 5: 116 → 200 (+84)\n",
      "🔧 Augmenting label 6: 95 → 200 (+105)\n",
      "🔧 Augmenting label 7: 31 → 200 (+169)\n",
      "🔧 Augmenting label 8: 68 → 200 (+132)\n",
      "🔧 Augmenting label 9: 65 → 200 (+135)\n",
      "🔧 Augmenting label 10: 70 → 200 (+130)\n",
      "🔧 Augmenting label 11: 172 → 200 (+28)\n",
      "🔧 Augmenting label 12: 193 → 200 (+7)\n",
      "🔧 Augmenting label 13: 29 → 200 (+171)\n",
      "🔧 Augmenting label 14: 23 → 200 (+177)\n",
      "🔧 Augmenting label 15: 25 → 200 (+175)\n",
      "🔧 Augmenting label 16: 20 → 200 (+180)\n",
      "🔧 Augmenting label 18: 93 → 200 (+107)\n",
      "🔧 Augmenting label 19: 45 → 200 (+155)\n",
      "🔧 Augmenting label 20: 14 → 200 (+186)\n",
      "🔧 Augmenting label 21: 35 → 200 (+165)\n",
      "🔧 Augmenting label 22: 78 → 200 (+122)\n",
      "🔧 Augmenting label 23: 160 → 200 (+40)\n",
      "🔧 Augmenting label 24: 16 → 200 (+184)\n",
      "🔧 Augmenting label 25: 50 → 200 (+150)\n",
      "🔧 Augmenting label 26: 86 → 200 (+114)\n",
      "🔧 Augmenting label 27: 49 → 200 (+151)\n",
      "🔧 Augmenting label 28: 12 → 200 (+188)\n",
      "🔧 Augmenting label 29: 13 → 200 (+187)\n",
      "🔧 Augmenting label 30: 15 → 200 (+185)\n",
      "🔧 Augmenting label 31: 80 → 200 (+120)\n",
      "🔧 Augmenting label 32: 36 → 200 (+164)\n",
      "🔧 Augmenting label 33: 32 → 200 (+168)\n",
      "🔧 Augmenting label 34: 30 → 200 (+170)\n",
      "🔧 Augmenting label 35: 12 → 200 (+188)\n",
      "🔧 Augmenting label 36: 28 → 200 (+172)\n",
      "🔧 Augmenting label 37: 21 → 200 (+179)\n",
      "🔧 Augmenting label 38: 6 → 200 (+194)\n",
      "🔧 Augmenting label 39: 103 → 200 (+97)\n",
      "🔧 Augmenting label 40: 12 → 200 (+188)\n",
      "🔧 Augmenting label 41: 8 → 200 (+192)\n",
      "🔧 Augmenting label 42: 147 → 200 (+53)\n",
      "🔧 Augmenting label 43: 16 → 200 (+184)\n",
      "🔧 Augmenting label 44: 20 → 200 (+180)\n",
      "🔧 Augmenting label 45: 9 → 200 (+191)\n",
      "🔧 Augmenting label 46: 54 → 200 (+146)\n",
      "🔧 Augmenting label 49: 69 → 200 (+131)\n",
      "Label distribution after resampling:\n",
      "  label 0: 3179\n",
      "  label 1: 200\n",
      "  label 2: 200\n",
      "  label 3: 200\n",
      "  label 4: 205\n",
      "  label 5: 200\n",
      "  label 6: 200\n",
      "  label 7: 200\n",
      "  label 8: 200\n",
      "  label 9: 200\n",
      "  label 10: 200\n",
      "  label 11: 200\n",
      "  label 12: 200\n",
      "  label 13: 200\n",
      "  label 14: 200\n",
      "  label 15: 200\n",
      "  label 16: 200\n",
      "  label 17: 231\n",
      "  label 18: 200\n",
      "  label 19: 200\n",
      "  label 20: 200\n",
      "  label 21: 200\n",
      "  label 22: 200\n",
      "  label 23: 200\n",
      "  label 24: 200\n",
      "  label 25: 200\n",
      "  label 26: 200\n",
      "  label 27: 200\n",
      "  label 28: 200\n",
      "  label 29: 200\n",
      "  label 30: 200\n",
      "  label 31: 200\n",
      "  label 32: 200\n",
      "  label 33: 200\n",
      "  label 34: 200\n",
      "  label 35: 200\n",
      "  label 36: 200\n",
      "  label 37: 200\n",
      "  label 38: 200\n",
      "  label 39: 200\n",
      "  label 40: 200\n",
      "  label 41: 200\n",
      "  label 42: 200\n",
      "  label 43: 200\n",
      "  label 44: 200\n",
      "  label 45: 200\n",
      "  label 46: 200\n",
      "  label 47: 529\n",
      "  label 48: 202\n",
      "  label 49: 200\n",
      "model is roberta-base lstm\n"
     ]
    },
    {
     "name": "stderr",
     "output_type": "stream",
     "text": [
      "Some weights of RobertaModel were not initialized from the model checkpoint at roberta-base and are newly initialized: ['pooler.dense.bias', 'pooler.dense.weight']\n",
      "You should probably TRAIN this model on a down-stream task to be able to use it for predictions and inference.\n"
     ]
    },
    {
     "name": "stdout",
     "output_type": "stream",
     "text": [
      "Epoch 1/20\n"
     ]
    },
    {
     "name": "stderr",
     "output_type": "stream",
     "text": [
      "100%|██████████| 835/835 [01:16<00:00, 10.95it/s]\n"
     ]
    },
    {
     "name": "stdout",
     "output_type": "stream",
     "text": [
      "{'val_loss': 1.7546684469254512, 'val_accuracy': 0.5588409225310467, 'precision': 0.5049621797796371, 'recall': 0.5588409225310467, 'f1-score': 0.49100638106954414, 'macro_f1-score': 0.16276325989006296, 'balanced_accuracy': 0.21982634887257468, 'mcc': 0.38084867691595287, 'train_loss': 2.7081925764769137}\n",
      "Epoch 2/20\n"
     ]
    },
    {
     "name": "stderr",
     "output_type": "stream",
     "text": [
      "100%|██████████| 835/835 [01:16<00:00, 10.93it/s]\n"
     ]
    },
    {
     "name": "stdout",
     "output_type": "stream",
     "text": [
      "{'val_loss': 1.595718556698763, 'val_accuracy': 0.5813128326434063, 'precision': 0.559057001320077, 'recall': 0.5813128326434063, 'f1-score': 0.5302551670208431, 'macro_f1-score': 0.22556832586460218, 'balanced_accuracy': 0.290554879108196, 'mcc': 0.43021954385874156, 'train_loss': 1.8528799712301014}\n",
      "Epoch 3/20\n"
     ]
    },
    {
     "name": "stderr",
     "output_type": "stream",
     "text": [
      "100%|██████████| 835/835 [01:16<00:00, 10.94it/s]\n"
     ]
    },
    {
     "name": "stdout",
     "output_type": "stream",
     "text": [
      "{'val_loss': 1.502119906668393, 'val_accuracy': 0.5872264931992903, 'precision': 0.5560199451916815, 'recall': 0.5872264931992903, 'f1-score': 0.553395049662886, 'macro_f1-score': 0.284735944339381, 'balanced_accuracy': 0.3741962655026106, 'mcc': 0.45574162510147476, 'train_loss': 1.4605071125630134}\n",
      "Epoch 4/20\n"
     ]
    },
    {
     "name": "stderr",
     "output_type": "stream",
     "text": [
      "100%|██████████| 835/835 [01:16<00:00, 10.94it/s]\n"
     ]
    },
    {
     "name": "stdout",
     "output_type": "stream",
     "text": [
      "{'val_loss': 1.5454769859898765, 'val_accuracy': 0.5901833234772325, 'precision': 0.5771457011950055, 'recall': 0.5901833234772325, 'f1-score': 0.5602460789213216, 'macro_f1-score': 0.30818180822812935, 'balanced_accuracy': 0.3599606805739029, 'mcc': 0.4576934369811517, 'train_loss': 1.2000509861611321}\n",
      "Epoch 5/20\n"
     ]
    },
    {
     "name": "stderr",
     "output_type": "stream",
     "text": [
      "100%|██████████| 835/835 [01:16<00:00, 10.94it/s]\n"
     ]
    },
    {
     "name": "stdout",
     "output_type": "stream",
     "text": [
      "{'val_loss': 1.5718071353885363, 'val_accuracy': 0.5890005913660555, 'precision': 0.585633766167134, 'recall': 0.5890005913660555, 'f1-score': 0.5650762162833517, 'macro_f1-score': 0.31451156324027574, 'balanced_accuracy': 0.36305060573191966, 'mcc': 0.460807607962047, 'train_loss': 1.0452078880842575}\n",
      "Epoch 6/20\n"
     ]
    },
    {
     "name": "stderr",
     "output_type": "stream",
     "text": [
      "100%|██████████| 835/835 [01:16<00:00, 10.96it/s]\n"
     ]
    },
    {
     "name": "stdout",
     "output_type": "stream",
     "text": [
      "{'val_loss': 1.5019483822134305, 'val_accuracy': 0.6091070372560615, 'precision': 0.5922518080508357, 'recall': 0.6091070372560615, 'f1-score': 0.5850044527183385, 'macro_f1-score': 0.3393653138802707, 'balanced_accuracy': 0.41051919488645283, 'mcc': 0.4829943511286198, 'train_loss': 0.9379914783699784}\n",
      "Epoch 7/20\n"
     ]
    },
    {
     "name": "stderr",
     "output_type": "stream",
     "text": [
      "100%|██████████| 835/835 [01:16<00:00, 10.96it/s]\n"
     ]
    },
    {
     "name": "stdout",
     "output_type": "stream",
     "text": [
      "{'val_loss': 1.440446139787728, 'val_accuracy': 0.6321703134240094, 'precision': 0.6339006277697911, 'recall': 0.6321703134240094, 'f1-score': 0.6111669285072571, 'macro_f1-score': 0.36307205389160446, 'balanced_accuracy': 0.3970697216850441, 'mcc': 0.5118836171947421, 'train_loss': 0.7691511778417461}\n",
      "Epoch 8/20\n"
     ]
    },
    {
     "name": "stderr",
     "output_type": "stream",
     "text": [
      "100%|██████████| 835/835 [01:16<00:00, 10.94it/s]\n"
     ]
    },
    {
     "name": "stdout",
     "output_type": "stream",
     "text": [
      "{'val_loss': 1.4600389456411578, 'val_accuracy': 0.6374926079243052, 'precision': 0.6470000762196455, 'recall': 0.6374926079243052, 'f1-score': 0.616275281778817, 'macro_f1-score': 0.3686382714048158, 'balanced_accuracy': 0.3959889814316297, 'mcc': 0.5199959667013128, 'train_loss': 0.7098476650472173}\n",
      "Epoch 9/20\n"
     ]
    },
    {
     "name": "stderr",
     "output_type": "stream",
     "text": [
      "100%|██████████| 835/835 [01:16<00:00, 10.93it/s]\n"
     ]
    },
    {
     "name": "stdout",
     "output_type": "stream",
     "text": [
      "{'val_loss': 1.4659375316410694, 'val_accuracy': 0.6522767593140154, 'precision': 0.6657425621906292, 'recall': 0.6522767593140154, 'f1-score': 0.6388033435643269, 'macro_f1-score': 0.4080596384173647, 'balanced_accuracy': 0.42320270706783747, 'mcc': 0.5314338908636193, 'train_loss': 0.64740246053852}\n",
      "Epoch 10/20\n"
     ]
    },
    {
     "name": "stderr",
     "output_type": "stream",
     "text": [
      "100%|██████████| 835/835 [01:16<00:00, 10.96it/s]\n"
     ]
    },
    {
     "name": "stdout",
     "output_type": "stream",
     "text": [
      "{'val_loss': 1.4039123938331064, 'val_accuracy': 0.6528681253696038, 'precision': 0.6587756550340189, 'recall': 0.6528681253696038, 'f1-score': 0.6406090816694353, 'macro_f1-score': 0.4053068347579428, 'balanced_accuracy': 0.41992963051292265, 'mcc': 0.5440141554361608, 'train_loss': 0.5867379410493516}\n",
      "Epoch 11/20\n"
     ]
    },
    {
     "name": "stderr",
     "output_type": "stream",
     "text": [
      "100%|██████████| 835/835 [01:16<00:00, 10.93it/s]\n"
     ]
    },
    {
     "name": "stdout",
     "output_type": "stream",
     "text": [
      "{'val_loss': 1.5145017690253708, 'val_accuracy': 0.6292134831460674, 'precision': 0.6574896636714441, 'recall': 0.6292134831460674, 'f1-score': 0.6255190547580353, 'macro_f1-score': 0.393255006511091, 'balanced_accuracy': 0.42909185466915384, 'mcc': 0.5246572381580414, 'train_loss': 0.5736244913659053}\n",
      "Epoch 12/20\n"
     ]
    },
    {
     "name": "stderr",
     "output_type": "stream",
     "text": [
      "100%|██████████| 835/835 [01:16<00:00, 10.94it/s]\n"
     ]
    },
    {
     "name": "stdout",
     "output_type": "stream",
     "text": [
      "{'val_loss': 1.491067407125572, 'val_accuracy': 0.657599053814311, 'precision': 0.6652828040581436, 'recall': 0.657599053814311, 'f1-score': 0.6354601909277399, 'macro_f1-score': 0.41750342854414024, 'balanced_accuracy': 0.4155604567064502, 'mcc': 0.5411588089193006, 'train_loss': 0.492481069197644}\n",
      "Epoch 13/20\n"
     ]
    },
    {
     "name": "stderr",
     "output_type": "stream",
     "text": [
      "100%|██████████| 835/835 [01:16<00:00, 10.94it/s]\n"
     ]
    },
    {
     "name": "stdout",
     "output_type": "stream",
     "text": [
      "{'val_loss': 1.5327151987069059, 'val_accuracy': 0.651685393258427, 'precision': 0.6489848361816329, 'recall': 0.651685393258427, 'f1-score': 0.6324634980817327, 'macro_f1-score': 0.37760127300480145, 'balanced_accuracy': 0.3891685486241267, 'mcc': 0.5355367204911516, 'train_loss': 0.4725194089092359}\n",
      "Epoch 14/20\n"
     ]
    },
    {
     "name": "stderr",
     "output_type": "stream",
     "text": [
      "100%|██████████| 835/835 [01:16<00:00, 10.93it/s]\n"
     ]
    },
    {
     "name": "stdout",
     "output_type": "stream",
     "text": [
      "{'val_loss': 1.5709235086193625, 'val_accuracy': 0.6457717327025428, 'precision': 0.6469755789840775, 'recall': 0.6457717327025428, 'f1-score': 0.6341779775070379, 'macro_f1-score': 0.3870775474623487, 'balanced_accuracy': 0.40041312953109953, 'mcc': 0.5319114036764225, 'train_loss': 0.445496052851577}\n",
      "Epoch 15/20\n"
     ]
    },
    {
     "name": "stderr",
     "output_type": "stream",
     "text": [
      "100%|██████████| 835/835 [01:16<00:00, 10.95it/s]\n"
     ]
    },
    {
     "name": "stdout",
     "output_type": "stream",
     "text": [
      "{'val_loss': 1.5097908262374267, 'val_accuracy': 0.6510940272028386, 'precision': 0.6624549511766095, 'recall': 0.6510940272028386, 'f1-score': 0.6423933912204869, 'macro_f1-score': 0.39304335045772576, 'balanced_accuracy': 0.41297358490913494, 'mcc': 0.5424156484246182, 'train_loss': 0.4625303639712448}\n",
      "Early stopping.\n",
      "\n",
      "[Fold 2]\n",
      "🚀 Using Word2Vec for data augmentation\n",
      "🔧 Augmenting label 1: 25 → 200 (+175)\n",
      "🔧 Augmenting label 2: 112 → 200 (+88)\n",
      "🔧 Augmenting label 3: 24 → 200 (+176)\n",
      "🔧 Augmenting label 5: 116 → 200 (+84)\n",
      "🔧 Augmenting label 6: 94 → 200 (+106)\n",
      "🔧 Augmenting label 7: 31 → 200 (+169)\n",
      "🔧 Augmenting label 8: 68 → 200 (+132)\n",
      "🔧 Augmenting label 9: 65 → 200 (+135)\n",
      "🔧 Augmenting label 10: 70 → 200 (+130)\n",
      "🔧 Augmenting label 11: 172 → 200 (+28)\n",
      "🔧 Augmenting label 12: 193 → 200 (+7)\n",
      "🔧 Augmenting label 13: 29 → 200 (+171)\n",
      "🔧 Augmenting label 14: 23 → 200 (+177)\n",
      "🔧 Augmenting label 15: 25 → 200 (+175)\n",
      "🔧 Augmenting label 16: 20 → 200 (+180)\n",
      "🔧 Augmenting label 18: 93 → 200 (+107)\n",
      "🔧 Augmenting label 19: 45 → 200 (+155)\n",
      "🔧 Augmenting label 20: 14 → 200 (+186)\n",
      "🔧 Augmenting label 21: 35 → 200 (+165)\n",
      "🔧 Augmenting label 22: 78 → 200 (+122)\n",
      "🔧 Augmenting label 23: 160 → 200 (+40)\n",
      "🔧 Augmenting label 24: 16 → 200 (+184)\n",
      "🔧 Augmenting label 25: 50 → 200 (+150)\n",
      "🔧 Augmenting label 26: 86 → 200 (+114)\n",
      "🔧 Augmenting label 27: 49 → 200 (+151)\n",
      "🔧 Augmenting label 28: 12 → 200 (+188)\n",
      "🔧 Augmenting label 29: 13 → 200 (+187)\n",
      "🔧 Augmenting label 30: 15 → 200 (+185)\n",
      "🔧 Augmenting label 31: 80 → 200 (+120)\n",
      "🔧 Augmenting label 32: 36 → 200 (+164)\n",
      "🔧 Augmenting label 33: 32 → 200 (+168)\n",
      "🔧 Augmenting label 34: 30 → 200 (+170)\n",
      "🔧 Augmenting label 35: 12 → 200 (+188)\n",
      "🔧 Augmenting label 36: 28 → 200 (+172)\n",
      "🔧 Augmenting label 37: 22 → 200 (+178)\n",
      "🔧 Augmenting label 38: 5 → 200 (+195)\n",
      "🔧 Augmenting label 39: 103 → 200 (+97)\n",
      "🔧 Augmenting label 40: 11 → 200 (+189)\n",
      "🔧 Augmenting label 41: 9 → 200 (+191)\n",
      "🔧 Augmenting label 42: 147 → 200 (+53)\n",
      "🔧 Augmenting label 43: 16 → 200 (+184)\n",
      "🔧 Augmenting label 44: 20 → 200 (+180)\n",
      "🔧 Augmenting label 45: 9 → 200 (+191)\n",
      "🔧 Augmenting label 46: 55 → 200 (+145)\n",
      "🔧 Augmenting label 49: 69 → 200 (+131)\n",
      "Label distribution after resampling:\n",
      "  label 0: 3179\n",
      "  label 1: 200\n",
      "  label 2: 200\n",
      "  label 3: 200\n",
      "  label 4: 206\n",
      "  label 5: 200\n",
      "  label 6: 200\n",
      "  label 7: 200\n",
      "  label 8: 200\n",
      "  label 9: 200\n",
      "  label 10: 200\n",
      "  label 11: 200\n",
      "  label 12: 200\n",
      "  label 13: 200\n",
      "  label 14: 200\n",
      "  label 15: 200\n",
      "  label 16: 200\n",
      "  label 17: 231\n",
      "  label 18: 200\n",
      "  label 19: 200\n",
      "  label 20: 200\n",
      "  label 21: 200\n",
      "  label 22: 200\n",
      "  label 23: 200\n",
      "  label 24: 200\n",
      "  label 25: 200\n",
      "  label 26: 200\n",
      "  label 27: 200\n",
      "  label 28: 200\n",
      "  label 29: 200\n",
      "  label 30: 200\n",
      "  label 31: 200\n",
      "  label 32: 200\n",
      "  label 33: 200\n",
      "  label 34: 200\n",
      "  label 35: 200\n",
      "  label 36: 200\n",
      "  label 37: 200\n",
      "  label 38: 200\n",
      "  label 39: 200\n",
      "  label 40: 200\n",
      "  label 41: 200\n",
      "  label 42: 200\n",
      "  label 43: 200\n",
      "  label 44: 200\n",
      "  label 45: 200\n",
      "  label 46: 200\n",
      "  label 47: 528\n",
      "  label 48: 202\n",
      "  label 49: 200\n",
      "model is roberta-base lstm\n"
     ]
    },
    {
     "name": "stderr",
     "output_type": "stream",
     "text": [
      "Some weights of RobertaModel were not initialized from the model checkpoint at roberta-base and are newly initialized: ['pooler.dense.bias', 'pooler.dense.weight']\n",
      "You should probably TRAIN this model on a down-stream task to be able to use it for predictions and inference.\n"
     ]
    },
    {
     "name": "stdout",
     "output_type": "stream",
     "text": [
      "Epoch 1/20\n"
     ]
    },
    {
     "name": "stderr",
     "output_type": "stream",
     "text": [
      "100%|██████████| 835/835 [01:16<00:00, 10.94it/s]\n"
     ]
    },
    {
     "name": "stdout",
     "output_type": "stream",
     "text": [
      "{'val_loss': 2.0163654904320554, 'val_accuracy': 0.5440567711413364, 'precision': 0.3819460705186784, 'recall': 0.5440567711413364, 'f1-score': 0.4389858313244306, 'macro_f1-score': 0.07468814788838472, 'balanced_accuracy': 0.10866201939461537, 'mcc': 0.33490660739726386, 'train_loss': 2.9598820098145993}\n",
      "Epoch 2/20\n"
     ]
    },
    {
     "name": "stderr",
     "output_type": "stream",
     "text": [
      "100%|██████████| 835/835 [01:16<00:00, 10.93it/s]\n"
     ]
    },
    {
     "name": "stdout",
     "output_type": "stream",
     "text": [
      "{'val_loss': 1.8190517824775767, 'val_accuracy': 0.556475458308693, 'precision': 0.4307664713125483, 'recall': 0.556475458308693, 'f1-score': 0.4796342059543883, 'macro_f1-score': 0.15854084062985618, 'balanced_accuracy': 0.24105299048007395, 'mcc': 0.37985388383569213, 'train_loss': 2.2522465779395873}\n",
      "Epoch 3/20\n"
     ]
    },
    {
     "name": "stderr",
     "output_type": "stream",
     "text": [
      "100%|██████████| 835/835 [01:16<00:00, 10.94it/s]\n"
     ]
    },
    {
     "name": "stdout",
     "output_type": "stream",
     "text": [
      "{'val_loss': 1.7397700621272034, 'val_accuracy': 0.5322294500295683, 'precision': 0.5670214684231946, 'recall': 0.5322294500295683, 'f1-score': 0.5173402992231428, 'macro_f1-score': 0.21736838852224644, 'balanced_accuracy': 0.2974564446110215, 'mcc': 0.40296298520627793, 'train_loss': 1.779979980348827}\n",
      "Epoch 4/20\n"
     ]
    },
    {
     "name": "stderr",
     "output_type": "stream",
     "text": [
      "100%|██████████| 835/835 [01:16<00:00, 10.96it/s]\n"
     ]
    },
    {
     "name": "stdout",
     "output_type": "stream",
     "text": [
      "{'val_loss': 1.6251876258625175, 'val_accuracy': 0.5623891188645772, 'precision': 0.5596018857661403, 'recall': 0.5623891188645772, 'f1-score': 0.5424122215359122, 'macro_f1-score': 0.24103024253269034, 'balanced_accuracy': 0.30173806200200115, 'mcc': 0.42862445806643457, 'train_loss': 1.496515601980472}\n",
      "Epoch 5/20\n"
     ]
    },
    {
     "name": "stderr",
     "output_type": "stream",
     "text": [
      "100%|██████████| 835/835 [01:16<00:00, 10.94it/s]\n"
     ]
    },
    {
     "name": "stdout",
     "output_type": "stream",
     "text": [
      "{'val_loss': 1.6871893366552748, 'val_accuracy': 0.5381431105854524, 'precision': 0.5750251248095447, 'recall': 0.5381431105854524, 'f1-score': 0.5380931321456409, 'macro_f1-score': 0.252459551595372, 'balanced_accuracy': 0.33088320215775896, 'mcc': 0.42818087967436536, 'train_loss': 1.308755005690866}\n",
      "Epoch 6/20\n"
     ]
    },
    {
     "name": "stderr",
     "output_type": "stream",
     "text": [
      "100%|██████████| 835/835 [01:16<00:00, 10.95it/s]\n"
     ]
    },
    {
     "name": "stdout",
     "output_type": "stream",
     "text": [
      "{'val_loss': 1.5464545966319319, 'val_accuracy': 0.5866351271437019, 'precision': 0.5927225561117658, 'recall': 0.5866351271437019, 'f1-score': 0.5729433157320614, 'macro_f1-score': 0.2958611120546321, 'balanced_accuracy': 0.35029739565018636, 'mcc': 0.4649795909343781, 'train_loss': 1.1364599488095608}\n",
      "Epoch 7/20\n"
     ]
    },
    {
     "name": "stderr",
     "output_type": "stream",
     "text": [
      "100%|██████████| 835/835 [01:16<00:00, 10.96it/s]\n"
     ]
    },
    {
     "name": "stdout",
     "output_type": "stream",
     "text": [
      "{'val_loss': 1.4889997451935175, 'val_accuracy': 0.5996451803666469, 'precision': 0.5847077053693193, 'recall': 0.5996451803666469, 'f1-score': 0.5799047130193933, 'macro_f1-score': 0.3149233341461051, 'balanced_accuracy': 0.3487593518751649, 'mcc': 0.472257089671705, 'train_loss': 0.997533480109212}\n",
      "Epoch 8/20\n"
     ]
    },
    {
     "name": "stderr",
     "output_type": "stream",
     "text": [
      "100%|██████████| 835/835 [01:16<00:00, 10.94it/s]\n"
     ]
    },
    {
     "name": "stdout",
     "output_type": "stream",
     "text": [
      "{'val_loss': 1.540878157008369, 'val_accuracy': 0.6120638675340035, 'precision': 0.6079580714521952, 'recall': 0.6120638675340035, 'f1-score': 0.5846822843807626, 'macro_f1-score': 0.32740877184938055, 'balanced_accuracy': 0.34719842390419764, 'mcc': 0.4755992136272896, 'train_loss': 0.9548982741322346}\n",
      "Epoch 9/20\n"
     ]
    },
    {
     "name": "stderr",
     "output_type": "stream",
     "text": [
      "100%|██████████| 835/835 [01:16<00:00, 10.95it/s]\n"
     ]
    },
    {
     "name": "stdout",
     "output_type": "stream",
     "text": [
      "{'val_loss': 1.5485068520285048, 'val_accuracy': 0.6167947959787108, 'precision': 0.6347292506079152, 'recall': 0.6167947959787108, 'f1-score': 0.6132784108813242, 'macro_f1-score': 0.33392140096626427, 'balanced_accuracy': 0.34718989133956646, 'mcc': 0.49530825101759435, 'train_loss': 0.8356982977090481}\n",
      "Epoch 10/20\n"
     ]
    },
    {
     "name": "stderr",
     "output_type": "stream",
     "text": [
      "100%|██████████| 835/835 [01:16<00:00, 10.96it/s]\n"
     ]
    },
    {
     "name": "stdout",
     "output_type": "stream",
     "text": [
      "{'val_loss': 1.5499513118334536, 'val_accuracy': 0.6197516262566529, 'precision': 0.6237479447601314, 'recall': 0.6197516262566529, 'f1-score': 0.6056265669993227, 'macro_f1-score': 0.3451658329966561, 'balanced_accuracy': 0.35377373803366424, 'mcc': 0.4909678827621453, 'train_loss': 0.7498293021660365}\n",
      "Epoch 11/20\n"
     ]
    },
    {
     "name": "stderr",
     "output_type": "stream",
     "text": [
      "100%|██████████| 835/835 [01:16<00:00, 10.97it/s]\n"
     ]
    },
    {
     "name": "stdout",
     "output_type": "stream",
     "text": [
      "{'val_loss': 1.5680566491945735, 'val_accuracy': 0.6108811354228267, 'precision': 0.6047393152293242, 'recall': 0.6108811354228267, 'f1-score': 0.5979745278499007, 'macro_f1-score': 0.3306410377289159, 'balanced_accuracy': 0.3594893608224277, 'mcc': 0.4884715554318286, 'train_loss': 0.8214745245918542}\n",
      "Epoch 12/20\n"
     ]
    },
    {
     "name": "stderr",
     "output_type": "stream",
     "text": [
      "100%|██████████| 835/835 [01:16<00:00, 10.94it/s]\n"
     ]
    },
    {
     "name": "stdout",
     "output_type": "stream",
     "text": [
      "{'val_loss': 1.599109024652895, 'val_accuracy': 0.6167947959787108, 'precision': 0.6079843582376621, 'recall': 0.6167947959787108, 'f1-score': 0.6013221217658091, 'macro_f1-score': 0.3342034754983612, 'balanced_accuracy': 0.35437091311818975, 'mcc': 0.4918678096977651, 'train_loss': 0.6345001717884383}\n",
      "Epoch 13/20\n"
     ]
    },
    {
     "name": "stderr",
     "output_type": "stream",
     "text": [
      "100%|██████████| 835/835 [01:16<00:00, 10.98it/s]\n"
     ]
    },
    {
     "name": "stdout",
     "output_type": "stream",
     "text": [
      "{'val_loss': 1.6347955305059, 'val_accuracy': 0.6392667060910704, 'precision': 0.6142161512299392, 'recall': 0.6392667060910704, 'f1-score': 0.6117274190037276, 'macro_f1-score': 0.3425179559674668, 'balanced_accuracy': 0.35130547943508783, 'mcc': 0.5116559991918744, 'train_loss': 0.5950581205506882}\n",
      "Early stopping.\n",
      "\n",
      "[Fold 3]\n",
      "🚀 Using Word2Vec for data augmentation\n",
      "🔧 Augmenting label 1: 25 → 200 (+175)\n",
      "🔧 Augmenting label 2: 112 → 200 (+88)\n",
      "🔧 Augmenting label 3: 24 → 200 (+176)\n",
      "🔧 Augmenting label 5: 116 → 200 (+84)\n",
      "🔧 Augmenting label 6: 94 → 200 (+106)\n",
      "🔧 Augmenting label 7: 31 → 200 (+169)\n",
      "🔧 Augmenting label 8: 68 → 200 (+132)\n",
      "🔧 Augmenting label 9: 65 → 200 (+135)\n",
      "🔧 Augmenting label 10: 71 → 200 (+129)\n",
      "🔧 Augmenting label 11: 172 → 200 (+28)\n",
      "🔧 Augmenting label 12: 192 → 200 (+8)\n",
      "🔧 Augmenting label 13: 29 → 200 (+171)\n",
      "🔧 Augmenting label 14: 23 → 200 (+177)\n",
      "🔧 Augmenting label 15: 25 → 200 (+175)\n",
      "🔧 Augmenting label 16: 20 → 200 (+180)\n",
      "🔧 Augmenting label 18: 93 → 200 (+107)\n",
      "🔧 Augmenting label 19: 45 → 200 (+155)\n",
      "🔧 Augmenting label 20: 14 → 200 (+186)\n",
      "🔧 Augmenting label 21: 36 → 200 (+164)\n",
      "🔧 Augmenting label 22: 77 → 200 (+123)\n",
      "🔧 Augmenting label 23: 160 → 200 (+40)\n",
      "🔧 Augmenting label 24: 16 → 200 (+184)\n",
      "🔧 Augmenting label 25: 51 → 200 (+149)\n",
      "🔧 Augmenting label 26: 85 → 200 (+115)\n",
      "🔧 Augmenting label 27: 49 → 200 (+151)\n",
      "🔧 Augmenting label 28: 12 → 200 (+188)\n",
      "🔧 Augmenting label 29: 12 → 200 (+188)\n",
      "🔧 Augmenting label 30: 16 → 200 (+184)\n",
      "🔧 Augmenting label 31: 80 → 200 (+120)\n",
      "🔧 Augmenting label 32: 36 → 200 (+164)\n",
      "🔧 Augmenting label 33: 32 → 200 (+168)\n",
      "🔧 Augmenting label 34: 29 → 200 (+171)\n",
      "🔧 Augmenting label 35: 12 → 200 (+188)\n",
      "🔧 Augmenting label 36: 28 → 200 (+172)\n",
      "🔧 Augmenting label 37: 22 → 200 (+178)\n",
      "🔧 Augmenting label 38: 5 → 200 (+195)\n",
      "🔧 Augmenting label 39: 103 → 200 (+97)\n",
      "🔧 Augmenting label 40: 11 → 200 (+189)\n",
      "🔧 Augmenting label 41: 9 → 200 (+191)\n",
      "🔧 Augmenting label 42: 147 → 200 (+53)\n",
      "🔧 Augmenting label 43: 16 → 200 (+184)\n",
      "🔧 Augmenting label 44: 20 → 200 (+180)\n",
      "🔧 Augmenting label 45: 9 → 200 (+191)\n",
      "🔧 Augmenting label 46: 55 → 200 (+145)\n",
      "🔧 Augmenting label 49: 70 → 200 (+130)\n",
      "Label distribution after resampling:\n",
      "  label 0: 3179\n",
      "  label 1: 200\n",
      "  label 2: 200\n",
      "  label 3: 200\n",
      "  label 4: 206\n",
      "  label 5: 200\n",
      "  label 6: 200\n",
      "  label 7: 200\n",
      "  label 8: 200\n",
      "  label 9: 200\n",
      "  label 10: 200\n",
      "  label 11: 200\n",
      "  label 12: 200\n",
      "  label 13: 200\n",
      "  label 14: 200\n",
      "  label 15: 200\n",
      "  label 16: 200\n",
      "  label 17: 231\n",
      "  label 18: 200\n",
      "  label 19: 200\n",
      "  label 20: 200\n",
      "  label 21: 200\n",
      "  label 22: 200\n",
      "  label 23: 200\n",
      "  label 24: 200\n",
      "  label 25: 200\n",
      "  label 26: 200\n",
      "  label 27: 200\n",
      "  label 28: 200\n",
      "  label 29: 200\n",
      "  label 30: 200\n",
      "  label 31: 200\n",
      "  label 32: 200\n",
      "  label 33: 200\n",
      "  label 34: 200\n",
      "  label 35: 200\n",
      "  label 36: 200\n",
      "  label 37: 200\n",
      "  label 38: 200\n",
      "  label 39: 200\n",
      "  label 40: 200\n",
      "  label 41: 200\n",
      "  label 42: 200\n",
      "  label 43: 200\n",
      "  label 44: 200\n",
      "  label 45: 200\n",
      "  label 46: 200\n",
      "  label 47: 529\n",
      "  label 48: 201\n",
      "  label 49: 200\n",
      "model is roberta-base lstm\n"
     ]
    },
    {
     "name": "stderr",
     "output_type": "stream",
     "text": [
      "Some weights of RobertaModel were not initialized from the model checkpoint at roberta-base and are newly initialized: ['pooler.dense.bias', 'pooler.dense.weight']\n",
      "You should probably TRAIN this model on a down-stream task to be able to use it for predictions and inference.\n"
     ]
    },
    {
     "name": "stdout",
     "output_type": "stream",
     "text": [
      "Epoch 1/20\n"
     ]
    },
    {
     "name": "stderr",
     "output_type": "stream",
     "text": [
      "100%|██████████| 835/835 [01:16<00:00, 10.94it/s]\n"
     ]
    },
    {
     "name": "stdout",
     "output_type": "stream",
     "text": [
      "{'val_loss': 1.867887039229555, 'val_accuracy': 0.5570668243642815, 'precision': 0.44055105636778463, 'recall': 0.5570668243642815, 'f1-score': 0.4789504638192641, 'macro_f1-score': 0.12648960998606928, 'balanced_accuracy': 0.17795280379699988, 'mcc': 0.38063431387106605, 'train_loss': 2.790375643861508}\n",
      "Epoch 2/20\n"
     ]
    },
    {
     "name": "stderr",
     "output_type": "stream",
     "text": [
      "100%|██████████| 835/835 [01:16<00:00, 10.94it/s]\n"
     ]
    },
    {
     "name": "stdout",
     "output_type": "stream",
     "text": [
      "{'val_loss': 1.6479563111404203, 'val_accuracy': 0.5452395032525134, 'precision': 0.5359315318021315, 'recall': 0.5452395032525134, 'f1-score': 0.4998410377548805, 'macro_f1-score': 0.1821902204374952, 'balanced_accuracy': 0.2610889805915339, 'mcc': 0.39272536478712244, 'train_loss': 1.9598156825511042}\n",
      "Epoch 3/20\n"
     ]
    },
    {
     "name": "stderr",
     "output_type": "stream",
     "text": [
      "100%|██████████| 835/835 [01:16<00:00, 10.96it/s]\n"
     ]
    },
    {
     "name": "stdout",
     "output_type": "stream",
     "text": [
      "{'val_loss': 1.5808056660418242, 'val_accuracy': 0.556475458308693, 'precision': 0.6113650563113121, 'recall': 0.556475458308693, 'f1-score': 0.5522855492214501, 'macro_f1-score': 0.27648012885248013, 'balanced_accuracy': 0.33263958095411383, 'mcc': 0.42633665844450747, 'train_loss': 1.6206907525747836}\n",
      "Epoch 4/20\n"
     ]
    },
    {
     "name": "stderr",
     "output_type": "stream",
     "text": [
      "100%|██████████| 835/835 [01:16<00:00, 10.96it/s]\n"
     ]
    },
    {
     "name": "stdout",
     "output_type": "stream",
     "text": [
      "{'val_loss': 1.5089904733423918, 'val_accuracy': 0.5854523950325251, 'precision': 0.5840401080055434, 'recall': 0.5854523950325251, 'f1-score': 0.5664351465744767, 'macro_f1-score': 0.28919198679516817, 'balanced_accuracy': 0.32300823487732655, 'mcc': 0.4464410812509487, 'train_loss': 1.294236353057587}\n",
      "Epoch 5/20\n"
     ]
    },
    {
     "name": "stderr",
     "output_type": "stream",
     "text": [
      "100%|██████████| 835/835 [01:16<00:00, 10.95it/s]\n"
     ]
    },
    {
     "name": "stdout",
     "output_type": "stream",
     "text": [
      "{'val_loss': 1.4832452518760033, 'val_accuracy': 0.6085156712004731, 'precision': 0.5856807090859155, 'recall': 0.6085156712004731, 'f1-score': 0.5777142241566263, 'macro_f1-score': 0.3200855405901173, 'balanced_accuracy': 0.36964133649872793, 'mcc': 0.47592195718924696, 'train_loss': 1.0807925402225849}\n",
      "Epoch 6/20\n"
     ]
    },
    {
     "name": "stderr",
     "output_type": "stream",
     "text": [
      "100%|██████████| 835/835 [01:16<00:00, 10.96it/s]\n"
     ]
    },
    {
     "name": "stdout",
     "output_type": "stream",
     "text": [
      "{'val_loss': 1.4990110178038758, 'val_accuracy': 0.6014192785334121, 'precision': 0.6421088792467594, 'recall': 0.6014192785334121, 'f1-score': 0.6077306713329151, 'macro_f1-score': 0.3288194891368083, 'balanced_accuracy': 0.37769188806405124, 'mcc': 0.48810284721717456, 'train_loss': 0.9249760991709675}\n",
      "Epoch 7/20\n"
     ]
    },
    {
     "name": "stderr",
     "output_type": "stream",
     "text": [
      "100%|██████████| 835/835 [01:16<00:00, 10.95it/s]\n"
     ]
    },
    {
     "name": "stdout",
     "output_type": "stream",
     "text": [
      "{'val_loss': 1.4258162626680337, 'val_accuracy': 0.6238911886457718, 'precision': 0.6457811404061171, 'recall': 0.6238911886457718, 'f1-score': 0.607341766101643, 'macro_f1-score': 0.340488806781989, 'balanced_accuracy': 0.3824822993644132, 'mcc': 0.49983693930366324, 'train_loss': 0.8210306220961188}\n",
      "Epoch 8/20\n"
     ]
    },
    {
     "name": "stderr",
     "output_type": "stream",
     "text": [
      "100%|██████████| 835/835 [01:16<00:00, 10.92it/s]\n"
     ]
    },
    {
     "name": "stdout",
     "output_type": "stream",
     "text": [
      "{'val_loss': 1.5246150527360305, 'val_accuracy': 0.5866351271437019, 'precision': 0.6549853540929258, 'recall': 0.5866351271437019, 'f1-score': 0.5947709435891451, 'macro_f1-score': 0.32786932165351584, 'balanced_accuracy': 0.36579037710419854, 'mcc': 0.474207706907622, 'train_loss': 0.6905981574408309}\n",
      "Epoch 9/20\n"
     ]
    },
    {
     "name": "stderr",
     "output_type": "stream",
     "text": [
      "100%|██████████| 835/835 [01:16<00:00, 10.95it/s]\n"
     ]
    },
    {
     "name": "stdout",
     "output_type": "stream",
     "text": [
      "{'val_loss': 1.5836736874760322, 'val_accuracy': 0.6209343583678297, 'precision': 0.6087324618484534, 'recall': 0.6209343583678297, 'f1-score': 0.5956209618757046, 'macro_f1-score': 0.33947184408274844, 'balanced_accuracy': 0.3711807061808479, 'mcc': 0.5029855491927726, 'train_loss': 0.6518763427873572}\n",
      "Epoch 10/20\n"
     ]
    },
    {
     "name": "stderr",
     "output_type": "stream",
     "text": [
      "100%|██████████| 835/835 [01:16<00:00, 10.94it/s]\n"
     ]
    },
    {
     "name": "stdout",
     "output_type": "stream",
     "text": [
      "{'val_loss': 1.499181793545777, 'val_accuracy': 0.6191602602010644, 'precision': 0.663633008684086, 'recall': 0.6191602602010644, 'f1-score': 0.6220802798048667, 'macro_f1-score': 0.3724675978857948, 'balanced_accuracy': 0.41852354483799464, 'mcc': 0.512698208330546, 'train_loss': 0.6154369609263128}\n",
      "Epoch 11/20\n"
     ]
    },
    {
     "name": "stderr",
     "output_type": "stream",
     "text": [
      "100%|██████████| 835/835 [01:16<00:00, 10.93it/s]\n"
     ]
    },
    {
     "name": "stdout",
     "output_type": "stream",
     "text": [
      "{'val_loss': 1.4976610015585738, 'val_accuracy': 0.6428149024246008, 'precision': 0.6377653521070156, 'recall': 0.6428149024246008, 'f1-score': 0.6174363528899571, 'macro_f1-score': 0.3284564609188776, 'balanced_accuracy': 0.31925101071925593, 'mcc': 0.5133531791691133, 'train_loss': 0.49868369399162826}\n",
      "Epoch 12/20\n"
     ]
    },
    {
     "name": "stderr",
     "output_type": "stream",
     "text": [
      "100%|██████████| 835/835 [01:16<00:00, 10.95it/s]\n"
     ]
    },
    {
     "name": "stdout",
     "output_type": "stream",
     "text": [
      "{'val_loss': 1.569628487780409, 'val_accuracy': 0.6209343583678297, 'precision': 0.6288111148684425, 'recall': 0.6209343583678297, 'f1-score': 0.6112477557156535, 'macro_f1-score': 0.36786294784908363, 'balanced_accuracy': 0.4056588234017444, 'mcc': 0.5131381532941952, 'train_loss': 0.4827513908108551}\n",
      "Epoch 13/20\n"
     ]
    },
    {
     "name": "stderr",
     "output_type": "stream",
     "text": [
      "100%|██████████| 835/835 [01:16<00:00, 10.95it/s]\n"
     ]
    },
    {
     "name": "stdout",
     "output_type": "stream",
     "text": [
      "{'val_loss': 1.6139511865264964, 'val_accuracy': 0.615612063867534, 'precision': 0.6542478099346901, 'recall': 0.615612063867534, 'f1-score': 0.6191159695164336, 'macro_f1-score': 0.37130432609711145, 'balanced_accuracy': 0.40039893867314513, 'mcc': 0.5038766795712626, 'train_loss': 0.4488671252069002}\n",
      "Early stopping.\n",
      "\n",
      "[Fold 4]\n",
      "🚀 Using Word2Vec for data augmentation\n",
      "🔧 Augmenting label 1: 25 → 200 (+175)\n",
      "🔧 Augmenting label 2: 112 → 200 (+88)\n",
      "🔧 Augmenting label 3: 24 → 200 (+176)\n",
      "🔧 Augmenting label 5: 116 → 200 (+84)\n",
      "🔧 Augmenting label 6: 94 → 200 (+106)\n",
      "🔧 Augmenting label 7: 32 → 200 (+168)\n",
      "🔧 Augmenting label 8: 68 → 200 (+132)\n",
      "🔧 Augmenting label 9: 64 → 200 (+136)\n",
      "🔧 Augmenting label 10: 71 → 200 (+129)\n",
      "🔧 Augmenting label 11: 172 → 200 (+28)\n",
      "🔧 Augmenting label 12: 193 → 200 (+7)\n",
      "🔧 Augmenting label 13: 28 → 200 (+172)\n",
      "🔧 Augmenting label 14: 24 → 200 (+176)\n",
      "🔧 Augmenting label 15: 24 → 200 (+176)\n",
      "🔧 Augmenting label 16: 20 → 200 (+180)\n",
      "🔧 Augmenting label 18: 92 → 200 (+108)\n",
      "🔧 Augmenting label 19: 45 → 200 (+155)\n",
      "🔧 Augmenting label 20: 15 → 200 (+185)\n",
      "🔧 Augmenting label 21: 35 → 200 (+165)\n",
      "🔧 Augmenting label 22: 77 → 200 (+123)\n",
      "🔧 Augmenting label 23: 160 → 200 (+40)\n",
      "🔧 Augmenting label 24: 16 → 200 (+184)\n",
      "🔧 Augmenting label 25: 51 → 200 (+149)\n",
      "🔧 Augmenting label 26: 85 → 200 (+115)\n",
      "🔧 Augmenting label 27: 49 → 200 (+151)\n",
      "🔧 Augmenting label 28: 12 → 200 (+188)\n",
      "🔧 Augmenting label 29: 13 → 200 (+187)\n",
      "🔧 Augmenting label 30: 15 → 200 (+185)\n",
      "🔧 Augmenting label 31: 80 → 200 (+120)\n",
      "🔧 Augmenting label 32: 36 → 200 (+164)\n",
      "🔧 Augmenting label 33: 32 → 200 (+168)\n",
      "🔧 Augmenting label 34: 29 → 200 (+171)\n",
      "🔧 Augmenting label 35: 12 → 200 (+188)\n",
      "🔧 Augmenting label 36: 28 → 200 (+172)\n",
      "🔧 Augmenting label 37: 22 → 200 (+178)\n",
      "🔧 Augmenting label 38: 6 → 200 (+194)\n",
      "🔧 Augmenting label 39: 103 → 200 (+97)\n",
      "🔧 Augmenting label 40: 11 → 200 (+189)\n",
      "🔧 Augmenting label 41: 9 → 200 (+191)\n",
      "🔧 Augmenting label 42: 148 → 200 (+52)\n",
      "🔧 Augmenting label 43: 16 → 200 (+184)\n",
      "🔧 Augmenting label 44: 20 → 200 (+180)\n",
      "🔧 Augmenting label 45: 8 → 200 (+192)\n",
      "🔧 Augmenting label 46: 54 → 200 (+146)\n",
      "🔧 Augmenting label 49: 70 → 200 (+130)\n",
      "Label distribution after resampling:\n",
      "  label 0: 3179\n",
      "  label 1: 200\n",
      "  label 2: 200\n",
      "  label 3: 200\n",
      "  label 4: 206\n",
      "  label 5: 200\n",
      "  label 6: 200\n",
      "  label 7: 200\n",
      "  label 8: 200\n",
      "  label 9: 200\n",
      "  label 10: 200\n",
      "  label 11: 200\n",
      "  label 12: 200\n",
      "  label 13: 200\n",
      "  label 14: 200\n",
      "  label 15: 200\n",
      "  label 16: 200\n",
      "  label 17: 232\n",
      "  label 18: 200\n",
      "  label 19: 200\n",
      "  label 20: 200\n",
      "  label 21: 200\n",
      "  label 22: 200\n",
      "  label 23: 200\n",
      "  label 24: 200\n",
      "  label 25: 200\n",
      "  label 26: 200\n",
      "  label 27: 200\n",
      "  label 28: 200\n",
      "  label 29: 200\n",
      "  label 30: 200\n",
      "  label 31: 200\n",
      "  label 32: 200\n",
      "  label 33: 200\n",
      "  label 34: 200\n",
      "  label 35: 200\n",
      "  label 36: 200\n",
      "  label 37: 200\n",
      "  label 38: 200\n",
      "  label 39: 200\n",
      "  label 40: 200\n",
      "  label 41: 200\n",
      "  label 42: 200\n",
      "  label 43: 200\n",
      "  label 44: 200\n",
      "  label 45: 200\n",
      "  label 46: 200\n",
      "  label 47: 529\n",
      "  label 48: 201\n",
      "  label 49: 200\n",
      "model is roberta-base lstm\n"
     ]
    },
    {
     "name": "stderr",
     "output_type": "stream",
     "text": [
      "Some weights of RobertaModel were not initialized from the model checkpoint at roberta-base and are newly initialized: ['pooler.dense.bias', 'pooler.dense.weight']\n",
      "You should probably TRAIN this model on a down-stream task to be able to use it for predictions and inference.\n"
     ]
    },
    {
     "name": "stdout",
     "output_type": "stream",
     "text": [
      "Epoch 1/20\n"
     ]
    },
    {
     "name": "stderr",
     "output_type": "stream",
     "text": [
      "100%|██████████| 835/835 [01:16<00:00, 10.95it/s]\n"
     ]
    },
    {
     "name": "stdout",
     "output_type": "stream",
     "text": [
      "{'val_loss': 1.8449036349665444, 'val_accuracy': 0.5499704316972206, 'precision': 0.43827456035834517, 'recall': 0.5499704316972206, 'f1-score': 0.4749889449849351, 'macro_f1-score': 0.11917824222529637, 'balanced_accuracy': 0.1927354600050727, 'mcc': 0.3772111035187065, 'train_loss': 2.8410758436796906}\n",
      "Epoch 2/20\n"
     ]
    },
    {
     "name": "stderr",
     "output_type": "stream",
     "text": [
      "100%|██████████| 835/835 [01:16<00:00, 10.97it/s]\n"
     ]
    },
    {
     "name": "stdout",
     "output_type": "stream",
     "text": [
      "{'val_loss': 1.6099275280282181, 'val_accuracy': 0.5570668243642815, 'precision': 0.5942256648276253, 'recall': 0.5570668243642815, 'f1-score': 0.5287193573827356, 'macro_f1-score': 0.2146796951664781, 'balanced_accuracy': 0.3023379083768604, 'mcc': 0.4124719674198276, 'train_loss': 1.9911827110244842}\n",
      "Epoch 3/20\n"
     ]
    },
    {
     "name": "stderr",
     "output_type": "stream",
     "text": [
      "100%|██████████| 835/835 [01:16<00:00, 10.96it/s]\n"
     ]
    },
    {
     "name": "stdout",
     "output_type": "stream",
     "text": [
      "{'val_loss': 1.44496225888999, 'val_accuracy': 0.5931401537551745, 'precision': 0.6042732539557556, 'recall': 0.5931401537551745, 'f1-score': 0.575838978320001, 'macro_f1-score': 0.31993355454317596, 'balanced_accuracy': 0.40685335924694294, 'mcc': 0.47792721472424887, 'train_loss': 1.504342762438837}\n",
      "Epoch 4/20\n"
     ]
    },
    {
     "name": "stderr",
     "output_type": "stream",
     "text": [
      "100%|██████████| 835/835 [01:16<00:00, 10.94it/s]\n"
     ]
    },
    {
     "name": "stdout",
     "output_type": "stream",
     "text": [
      "{'val_loss': 1.5507653664867833, 'val_accuracy': 0.5783560023654643, 'precision': 0.6193168749275952, 'recall': 0.5783560023654643, 'f1-score': 0.5821427958891484, 'macro_f1-score': 0.310447131999395, 'balanced_accuracy': 0.3854092149415837, 'mcc': 0.46521663617861453, 'train_loss': 1.2387248482889759}\n",
      "Epoch 5/20\n"
     ]
    },
    {
     "name": "stderr",
     "output_type": "stream",
     "text": [
      "100%|██████████| 835/835 [01:16<00:00, 10.96it/s]\n"
     ]
    },
    {
     "name": "stdout",
     "output_type": "stream",
     "text": [
      "{'val_loss': 1.437729589781671, 'val_accuracy': 0.6262566528681254, 'precision': 0.6389590784863955, 'recall': 0.6262566528681254, 'f1-score': 0.6170115305004783, 'macro_f1-score': 0.3582965835050611, 'balanced_accuracy': 0.4238888142761031, 'mcc': 0.5121001416568405, 'train_loss': 1.015157669282959}\n",
      "Epoch 6/20\n"
     ]
    },
    {
     "name": "stderr",
     "output_type": "stream",
     "text": [
      "100%|██████████| 835/835 [01:16<00:00, 10.96it/s]\n"
     ]
    },
    {
     "name": "stdout",
     "output_type": "stream",
     "text": [
      "{'val_loss': 1.4372999935217623, 'val_accuracy': 0.6114725014784151, 'precision': 0.6633248163472545, 'recall': 0.6114725014784151, 'f1-score': 0.6201003552079952, 'macro_f1-score': 0.3863252595076148, 'balanced_accuracy': 0.45468129381667133, 'mcc': 0.5034142859696373, 'train_loss': 0.8934495350557887}\n",
      "Epoch 7/20\n"
     ]
    },
    {
     "name": "stderr",
     "output_type": "stream",
     "text": [
      "100%|██████████| 835/835 [01:16<00:00, 10.96it/s]\n"
     ]
    },
    {
     "name": "stdout",
     "output_type": "stream",
     "text": [
      "{'val_loss': 1.380080688393341, 'val_accuracy': 0.6534594914251922, 'precision': 0.6447391334823618, 'recall': 0.6534594914251922, 'f1-score': 0.6358929945141804, 'macro_f1-score': 0.3818523122645959, 'balanced_accuracy': 0.40002554854599204, 'mcc': 0.533326741958443, 'train_loss': 0.7858918112552095}\n",
      "Epoch 8/20\n"
     ]
    },
    {
     "name": "stderr",
     "output_type": "stream",
     "text": [
      "100%|██████████| 835/835 [01:16<00:00, 10.96it/s]\n"
     ]
    },
    {
     "name": "stdout",
     "output_type": "stream",
     "text": [
      "{'val_loss': 1.3908956509153798, 'val_accuracy': 0.654642223536369, 'precision': 0.6566070595484053, 'recall': 0.654642223536369, 'f1-score': 0.6298810135583304, 'macro_f1-score': 0.3652833981000503, 'balanced_accuracy': 0.37953444878251363, 'mcc': 0.5343585220972886, 'train_loss': 0.7238499566823423}\n",
      "Epoch 9/20\n"
     ]
    },
    {
     "name": "stderr",
     "output_type": "stream",
     "text": [
      "100%|██████████| 835/835 [01:16<00:00, 10.97it/s]\n"
     ]
    },
    {
     "name": "stdout",
     "output_type": "stream",
     "text": [
      "{'val_loss': 1.4298664231626492, 'val_accuracy': 0.6345357776463632, 'precision': 0.6685834354134588, 'recall': 0.6345357776463632, 'f1-score': 0.6333323328733431, 'macro_f1-score': 0.3957745409232994, 'balanced_accuracy': 0.41649614165319365, 'mcc': 0.5349060257974888, 'train_loss': 0.6020897574633538}\n",
      "Epoch 10/20\n"
     ]
    },
    {
     "name": "stderr",
     "output_type": "stream",
     "text": [
      "100%|██████████| 835/835 [01:16<00:00, 10.95it/s]\n"
     ]
    },
    {
     "name": "stdout",
     "output_type": "stream",
     "text": [
      "{'val_loss': 1.3645228615628098, 'val_accuracy': 0.6723832052040213, 'precision': 0.6582286034270993, 'recall': 0.6723832052040213, 'f1-score': 0.6528000678032091, 'macro_f1-score': 0.40853450947850845, 'balanced_accuracy': 0.40255142957170975, 'mcc': 0.5610867856927494, 'train_loss': 0.5918620518224682}\n",
      "Epoch 11/20\n"
     ]
    },
    {
     "name": "stderr",
     "output_type": "stream",
     "text": [
      "100%|██████████| 835/835 [01:16<00:00, 10.96it/s]\n"
     ]
    },
    {
     "name": "stdout",
     "output_type": "stream",
     "text": [
      "{'val_loss': 1.4307700792011224, 'val_accuracy': 0.6510940272028386, 'precision': 0.685252544346708, 'recall': 0.6510940272028386, 'f1-score': 0.6485227516997961, 'macro_f1-score': 0.40945663434479185, 'balanced_accuracy': 0.43173775534136966, 'mcc': 0.5447416404409621, 'train_loss': 0.4860735060256755}\n",
      "Epoch 12/20\n"
     ]
    },
    {
     "name": "stderr",
     "output_type": "stream",
     "text": [
      "100%|██████████| 835/835 [01:16<00:00, 10.96it/s]\n"
     ]
    },
    {
     "name": "stdout",
     "output_type": "stream",
     "text": [
      "{'val_loss': 1.5364119952439137, 'val_accuracy': 0.638675340035482, 'precision': 0.6509717834491907, 'recall': 0.638675340035482, 'f1-score': 0.6297060861191704, 'macro_f1-score': 0.35140414495745104, 'balanced_accuracy': 0.3615263431310049, 'mcc': 0.5300187167210152, 'train_loss': 0.49994853342141576}\n",
      "Epoch 13/20\n"
     ]
    },
    {
     "name": "stderr",
     "output_type": "stream",
     "text": [
      "100%|██████████| 835/835 [01:16<00:00, 10.94it/s]\n"
     ]
    },
    {
     "name": "stdout",
     "output_type": "stream",
     "text": [
      "{'val_loss': 1.4109343350777086, 'val_accuracy': 0.6664695446481372, 'precision': 0.6674079209013104, 'recall': 0.6664695446481372, 'f1-score': 0.6551665084734294, 'macro_f1-score': 0.4020551192531911, 'balanced_accuracy': 0.40894770039076156, 'mcc': 0.5559305202775534, 'train_loss': 0.43786762375942245}\n",
      "Epoch 14/20\n"
     ]
    },
    {
     "name": "stderr",
     "output_type": "stream",
     "text": [
      "100%|██████████| 835/835 [01:16<00:00, 10.96it/s]\n"
     ]
    },
    {
     "name": "stdout",
     "output_type": "stream",
     "text": [
      "{'val_loss': 1.4266172671374284, 'val_accuracy': 0.6747486694263749, 'precision': 0.6658165296623096, 'recall': 0.6747486694263749, 'f1-score': 0.6582799984723139, 'macro_f1-score': 0.3997688887091409, 'balanced_accuracy': 0.39305004394632836, 'mcc': 0.5635401794492686, 'train_loss': 0.42782352237911997}\n",
      "Early stopping.\n",
      "\n",
      "[Fold 5]\n",
      "🚀 Using Word2Vec for data augmentation\n",
      "🔧 Augmenting label 1: 24 → 200 (+176)\n",
      "🔧 Augmenting label 2: 112 → 200 (+88)\n",
      "🔧 Augmenting label 3: 24 → 200 (+176)\n",
      "🔧 Augmenting label 5: 116 → 200 (+84)\n",
      "🔧 Augmenting label 6: 95 → 200 (+105)\n",
      "🔧 Augmenting label 7: 31 → 200 (+169)\n",
      "🔧 Augmenting label 8: 68 → 200 (+132)\n",
      "🔧 Augmenting label 9: 65 → 200 (+135)\n",
      "🔧 Augmenting label 10: 70 → 200 (+130)\n",
      "🔧 Augmenting label 11: 172 → 200 (+28)\n",
      "🔧 Augmenting label 12: 193 → 200 (+7)\n",
      "🔧 Augmenting label 13: 29 → 200 (+171)\n",
      "🔧 Augmenting label 14: 23 → 200 (+177)\n",
      "🔧 Augmenting label 15: 25 → 200 (+175)\n",
      "🔧 Augmenting label 16: 20 → 200 (+180)\n",
      "🔧 Augmenting label 18: 93 → 200 (+107)\n",
      "🔧 Augmenting label 19: 44 → 200 (+156)\n",
      "🔧 Augmenting label 20: 15 → 200 (+185)\n",
      "🔧 Augmenting label 21: 35 → 200 (+165)\n",
      "🔧 Augmenting label 22: 78 → 200 (+122)\n",
      "🔧 Augmenting label 23: 160 → 200 (+40)\n",
      "🔧 Augmenting label 24: 16 → 200 (+184)\n",
      "🔧 Augmenting label 25: 50 → 200 (+150)\n",
      "🔧 Augmenting label 26: 86 → 200 (+114)\n",
      "🔧 Augmenting label 27: 48 → 200 (+152)\n",
      "🔧 Augmenting label 28: 12 → 200 (+188)\n",
      "🔧 Augmenting label 29: 13 → 200 (+187)\n",
      "🔧 Augmenting label 30: 15 → 200 (+185)\n",
      "🔧 Augmenting label 31: 80 → 200 (+120)\n",
      "🔧 Augmenting label 32: 36 → 200 (+164)\n",
      "🔧 Augmenting label 33: 32 → 200 (+168)\n",
      "🔧 Augmenting label 34: 30 → 200 (+170)\n",
      "🔧 Augmenting label 35: 12 → 200 (+188)\n",
      "🔧 Augmenting label 36: 28 → 200 (+172)\n",
      "🔧 Augmenting label 37: 21 → 200 (+179)\n",
      "🔧 Augmenting label 38: 6 → 200 (+194)\n",
      "🔧 Augmenting label 39: 104 → 200 (+96)\n",
      "🔧 Augmenting label 40: 11 → 200 (+189)\n",
      "🔧 Augmenting label 41: 9 → 200 (+191)\n",
      "🔧 Augmenting label 42: 147 → 200 (+53)\n",
      "🔧 Augmenting label 43: 16 → 200 (+184)\n",
      "🔧 Augmenting label 44: 20 → 200 (+180)\n",
      "🔧 Augmenting label 45: 9 → 200 (+191)\n",
      "🔧 Augmenting label 46: 54 → 200 (+146)\n",
      "🔧 Augmenting label 49: 70 → 200 (+130)\n",
      "Label distribution after resampling:\n",
      "  label 0: 3180\n",
      "  label 1: 200\n",
      "  label 2: 200\n",
      "  label 3: 200\n",
      "  label 4: 205\n",
      "  label 5: 200\n",
      "  label 6: 200\n",
      "  label 7: 200\n",
      "  label 8: 200\n",
      "  label 9: 200\n",
      "  label 10: 200\n",
      "  label 11: 200\n",
      "  label 12: 200\n",
      "  label 13: 200\n",
      "  label 14: 200\n",
      "  label 15: 200\n",
      "  label 16: 200\n",
      "  label 17: 231\n",
      "  label 18: 200\n",
      "  label 19: 200\n",
      "  label 20: 200\n",
      "  label 21: 200\n",
      "  label 22: 200\n",
      "  label 23: 200\n",
      "  label 24: 200\n",
      "  label 25: 200\n",
      "  label 26: 200\n",
      "  label 27: 200\n",
      "  label 28: 200\n",
      "  label 29: 200\n",
      "  label 30: 200\n",
      "  label 31: 200\n",
      "  label 32: 200\n",
      "  label 33: 200\n",
      "  label 34: 200\n",
      "  label 35: 200\n",
      "  label 36: 200\n",
      "  label 37: 200\n",
      "  label 38: 200\n",
      "  label 39: 200\n",
      "  label 40: 200\n",
      "  label 41: 200\n",
      "  label 42: 200\n",
      "  label 43: 200\n",
      "  label 44: 200\n",
      "  label 45: 200\n",
      "  label 46: 200\n",
      "  label 47: 529\n",
      "  label 48: 202\n",
      "  label 49: 200\n",
      "model is roberta-base lstm\n"
     ]
    },
    {
     "name": "stderr",
     "output_type": "stream",
     "text": [
      "Some weights of RobertaModel were not initialized from the model checkpoint at roberta-base and are newly initialized: ['pooler.dense.bias', 'pooler.dense.weight']\n",
      "You should probably TRAIN this model on a down-stream task to be able to use it for predictions and inference.\n"
     ]
    },
    {
     "name": "stdout",
     "output_type": "stream",
     "text": [
      "Epoch 1/20\n"
     ]
    },
    {
     "name": "stderr",
     "output_type": "stream",
     "text": [
      "100%|██████████| 835/835 [01:16<00:00, 10.95it/s]\n"
     ]
    },
    {
     "name": "stdout",
     "output_type": "stream",
     "text": [
      "{'val_loss': 1.7871643136132438, 'val_accuracy': 0.5514792899408284, 'precision': 0.5176419219254879, 'recall': 0.5514792899408284, 'f1-score': 0.4981888242806838, 'macro_f1-score': 0.15351673243269892, 'balanced_accuracy': 0.20961672016988758, 'mcc': 0.39287211612751277, 'train_loss': 2.7421265232348873}\n",
      "Epoch 2/20\n"
     ]
    },
    {
     "name": "stderr",
     "output_type": "stream",
     "text": [
      "100%|██████████| 835/835 [01:16<00:00, 10.95it/s]\n"
     ]
    },
    {
     "name": "stdout",
     "output_type": "stream",
     "text": [
      "{'val_loss': 1.6159910154792498, 'val_accuracy': 0.5911242603550296, 'precision': 0.5500965908407003, 'recall': 0.5911242603550296, 'f1-score': 0.5380382770360705, 'macro_f1-score': 0.22206258528761974, 'balanced_accuracy': 0.25574402599527285, 'mcc': 0.43680855079667236, 'train_loss': 1.8701744096721717}\n",
      "Epoch 3/20\n"
     ]
    },
    {
     "name": "stderr",
     "output_type": "stream",
     "text": [
      "100%|██████████| 835/835 [01:16<00:00, 10.94it/s]\n"
     ]
    },
    {
     "name": "stdout",
     "output_type": "stream",
     "text": [
      "{'val_loss': 1.5470082051349137, 'val_accuracy': 0.5923076923076923, 'precision': 0.6132048151228529, 'recall': 0.5923076923076923, 'f1-score': 0.5751406534394069, 'macro_f1-score': 0.289305605316421, 'balanced_accuracy': 0.35504657571668247, 'mcc': 0.4692915598069052, 'train_loss': 1.465682664031754}\n",
      "Epoch 4/20\n"
     ]
    },
    {
     "name": "stderr",
     "output_type": "stream",
     "text": [
      "100%|██████████| 835/835 [01:16<00:00, 10.95it/s]\n"
     ]
    },
    {
     "name": "stdout",
     "output_type": "stream",
     "text": [
      "{'val_loss': 1.4374199683936137, 'val_accuracy': 0.6349112426035503, 'precision': 0.6185234025099903, 'recall': 0.6349112426035503, 'f1-score': 0.5962658467454042, 'macro_f1-score': 0.31980886842489187, 'balanced_accuracy': 0.32934057051681553, 'mcc': 0.5059311441535874, 'train_loss': 1.1997804052637009}\n",
      "Epoch 5/20\n"
     ]
    },
    {
     "name": "stderr",
     "output_type": "stream",
     "text": [
      "100%|██████████| 835/835 [01:16<00:00, 10.95it/s]\n"
     ]
    },
    {
     "name": "stdout",
     "output_type": "stream",
     "text": [
      "{'val_loss': 1.4208937680946205, 'val_accuracy': 0.6260355029585799, 'precision': 0.638492885973534, 'recall': 0.6260355029585799, 'f1-score': 0.612403924886316, 'macro_f1-score': 0.3443753491613096, 'balanced_accuracy': 0.3508102839317452, 'mcc': 0.4972013506343393, 'train_loss': 1.052124303543639}\n",
      "Epoch 6/20\n"
     ]
    },
    {
     "name": "stderr",
     "output_type": "stream",
     "text": [
      "100%|██████████| 835/835 [01:16<00:00, 10.96it/s]\n"
     ]
    },
    {
     "name": "stdout",
     "output_type": "stream",
     "text": [
      "{'val_loss': 1.3901443633268464, 'val_accuracy': 0.6502958579881657, 'precision': 0.6363918567563134, 'recall': 0.6502958579881657, 'f1-score': 0.6288236228553635, 'macro_f1-score': 0.35757836150403555, 'balanced_accuracy': 0.38984609873554826, 'mcc': 0.5354979036014571, 'train_loss': 0.8777222652813632}\n",
      "Epoch 7/20\n"
     ]
    },
    {
     "name": "stderr",
     "output_type": "stream",
     "text": [
      "100%|██████████| 835/835 [01:16<00:00, 10.97it/s]\n"
     ]
    },
    {
     "name": "stdout",
     "output_type": "stream",
     "text": [
      "{'val_loss': 1.4118460338070709, 'val_accuracy': 0.6396449704142012, 'precision': 0.6314293433364196, 'recall': 0.6396449704142012, 'f1-score': 0.6253452954732138, 'macro_f1-score': 0.359830087703795, 'balanced_accuracy': 0.3802760090473482, 'mcc': 0.5259039389759473, 'train_loss': 0.7808622462039222}\n",
      "Epoch 8/20\n"
     ]
    },
    {
     "name": "stderr",
     "output_type": "stream",
     "text": [
      "100%|██████████| 835/835 [01:16<00:00, 10.93it/s]\n"
     ]
    },
    {
     "name": "stdout",
     "output_type": "stream",
     "text": [
      "{'val_loss': 1.5411326806500274, 'val_accuracy': 0.6414201183431952, 'precision': 0.5899913080988093, 'recall': 0.6414201183431952, 'f1-score': 0.5914905345459001, 'macro_f1-score': 0.3243509749324216, 'balanced_accuracy': 0.32438960367225655, 'mcc': 0.5063248514253702, 'train_loss': 0.7103523772098347}\n",
      "Epoch 9/20\n"
     ]
    },
    {
     "name": "stderr",
     "output_type": "stream",
     "text": [
      "100%|██████████| 835/835 [01:16<00:00, 10.97it/s]\n"
     ]
    },
    {
     "name": "stdout",
     "output_type": "stream",
     "text": [
      "{'val_loss': 1.3974950555360541, 'val_accuracy': 0.6568047337278107, 'precision': 0.6719085773797161, 'recall': 0.6568047337278107, 'f1-score': 0.6514069122326545, 'macro_f1-score': 0.3832116840890162, 'balanced_accuracy': 0.388404881420576, 'mcc': 0.5450348208629701, 'train_loss': 0.7199110121159497}\n",
      "Epoch 10/20\n"
     ]
    },
    {
     "name": "stderr",
     "output_type": "stream",
     "text": [
      "100%|██████████| 835/835 [01:16<00:00, 10.95it/s]\n"
     ]
    },
    {
     "name": "stdout",
     "output_type": "stream",
     "text": [
      "{'val_loss': 1.5531965325463493, 'val_accuracy': 0.6171597633136094, 'precision': 0.6250775249857744, 'recall': 0.6171597633136094, 'f1-score': 0.6035305036943553, 'macro_f1-score': 0.31342840212604633, 'balanced_accuracy': 0.3279065343043257, 'mcc': 0.4958302089456836, 'train_loss': 0.5980323688935734}\n",
      "Epoch 11/20\n"
     ]
    },
    {
     "name": "stderr",
     "output_type": "stream",
     "text": [
      "100%|██████████| 835/835 [01:16<00:00, 10.96it/s]\n"
     ]
    },
    {
     "name": "stdout",
     "output_type": "stream",
     "text": [
      "{'val_loss': 1.4780475592838143, 'val_accuracy': 0.6615384615384615, 'precision': 0.6564041490403851, 'recall': 0.6615384615384615, 'f1-score': 0.6425798191760598, 'macro_f1-score': 0.3777651429745816, 'balanced_accuracy': 0.40396329429615613, 'mcc': 0.5519543967235266, 'train_loss': 0.6281940585392678}\n",
      "Epoch 12/20\n"
     ]
    },
    {
     "name": "stderr",
     "output_type": "stream",
     "text": [
      "100%|██████████| 835/835 [01:16<00:00, 10.94it/s]\n"
     ]
    },
    {
     "name": "stdout",
     "output_type": "stream",
     "text": [
      "{'val_loss': 1.4784947242939248, 'val_accuracy': 0.6644970414201183, 'precision': 0.6715012864230901, 'recall': 0.6644970414201183, 'f1-score': 0.6518921603829554, 'macro_f1-score': 0.40068385865749995, 'balanced_accuracy': 0.4087010474860525, 'mcc': 0.553409691859795, 'train_loss': 0.5082879660528399}\n",
      "Epoch 13/20\n"
     ]
    },
    {
     "name": "stderr",
     "output_type": "stream",
     "text": [
      "100%|██████████| 835/835 [01:16<00:00, 10.96it/s]\n"
     ]
    },
    {
     "name": "stdout",
     "output_type": "stream",
     "text": [
      "{'val_loss': 1.67197706958033, 'val_accuracy': 0.6106508875739645, 'precision': 0.6606494374831041, 'recall': 0.6106508875739645, 'f1-score': 0.6140400027467747, 'macro_f1-score': 0.36008879744986977, 'balanced_accuracy': 0.40238528047806915, 'mcc': 0.5051739870057629, 'train_loss': 0.49578151831369915}\n",
      "Epoch 14/20\n"
     ]
    },
    {
     "name": "stderr",
     "output_type": "stream",
     "text": [
      "100%|██████████| 835/835 [01:16<00:00, 10.95it/s]\n"
     ]
    },
    {
     "name": "stdout",
     "output_type": "stream",
     "text": [
      "{'val_loss': 1.4789760273020223, 'val_accuracy': 0.650887573964497, 'precision': 0.6572554000739064, 'recall': 0.650887573964497, 'f1-score': 0.6458358242630914, 'macro_f1-score': 0.3928905185652793, 'balanced_accuracy': 0.4064844136218694, 'mcc': 0.5437929028651705, 'train_loss': 0.5845120334428942}\n",
      "Epoch 15/20\n"
     ]
    },
    {
     "name": "stderr",
     "output_type": "stream",
     "text": [
      "100%|██████████| 835/835 [01:16<00:00, 10.97it/s]\n"
     ]
    },
    {
     "name": "stdout",
     "output_type": "stream",
     "text": [
      "{'val_loss': 1.4925554047496814, 'val_accuracy': 0.6674556213017752, 'precision': 0.6778175036380937, 'recall': 0.6674556213017752, 'f1-score': 0.658100634000013, 'macro_f1-score': 0.4110484747284774, 'balanced_accuracy': 0.41538655093598126, 'mcc': 0.5608813899100745, 'train_loss': 0.42525507933543827}\n",
      "Epoch 16/20\n"
     ]
    },
    {
     "name": "stderr",
     "output_type": "stream",
     "text": [
      "100%|██████████| 835/835 [01:16<00:00, 10.96it/s]\n"
     ]
    },
    {
     "name": "stdout",
     "output_type": "stream",
     "text": [
      "{'val_loss': 1.606545367893183, 'val_accuracy': 0.6603550295857988, 'precision': 0.657365303598423, 'recall': 0.6603550295857988, 'f1-score': 0.6429711076583374, 'macro_f1-score': 0.39236883376507636, 'balanced_accuracy': 0.3872205048852109, 'mcc': 0.5445318671665201, 'train_loss': 0.45132802427261176}\n",
      "Epoch 17/20\n"
     ]
    },
    {
     "name": "stderr",
     "output_type": "stream",
     "text": [
      "100%|██████████| 835/835 [01:16<00:00, 10.93it/s]\n"
     ]
    },
    {
     "name": "stdout",
     "output_type": "stream",
     "text": [
      "{'val_loss': 1.5319187185674343, 'val_accuracy': 0.670414201183432, 'precision': 0.6625094949356005, 'recall': 0.670414201183432, 'f1-score': 0.6586730458155274, 'macro_f1-score': 0.4009538735381063, 'balanced_accuracy': 0.4106309315177193, 'mcc': 0.5653639596611589, 'train_loss': 0.4043571267098545}\n",
      "Epoch 18/20\n"
     ]
    },
    {
     "name": "stderr",
     "output_type": "stream",
     "text": [
      "100%|██████████| 835/835 [01:16<00:00, 10.97it/s]\n"
     ]
    },
    {
     "name": "stdout",
     "output_type": "stream",
     "text": [
      "{'val_loss': 1.5828482143159182, 'val_accuracy': 0.6437869822485207, 'precision': 0.6654943674633484, 'recall': 0.6437869822485207, 'f1-score': 0.6442087602182233, 'macro_f1-score': 0.39625287986413904, 'balanced_accuracy': 0.40256967163251084, 'mcc': 0.5390803090318146, 'train_loss': 0.39714074630937174}\n",
      "Early stopping.\n",
      "\n",
      " === roberta-base + lstm + word2vec Final 5-fold Cross-Validation Results ===\n",
      "Total time: 5867 seconds\n",
      "Total time: 1 hrs 37 mins 47 secs\n",
      "val_loss: 1.4927\n",
      "val_accuracy: 0.6430\n",
      "precision: 0.6631\n",
      "recall: 0.6430\n",
      "f1-score: 0.6340\n",
      "macro_f1-score: 0.3911\n",
      "balanced_accuracy: 0.4070\n",
      "mcc: 0.5301\n",
      "train_loss: 0.5538\n",
      "▶ Running: roberta-base + cnn + word2vec\n",
      "tokenizer is roberta-base\n",
      "Using device: cuda\n",
      "CUDA Available: True\n",
      "CUDA Device: NVIDIA GeForce RTX 5070 Ti\n",
      "Current GPU Memory Allocated: 0.02 GB\n",
      "Current GPU Memory Cached: 3.92 GB\n",
      "\n",
      "[Fold 1]\n",
      "🚀 Using Word2Vec for data augmentation\n",
      "🔧 Augmenting label 1: 25 → 200 (+175)\n",
      "🔧 Augmenting label 2: 112 → 200 (+88)\n",
      "🔧 Augmenting label 3: 24 → 200 (+176)\n",
      "🔧 Augmenting label 5: 116 → 200 (+84)\n",
      "🔧 Augmenting label 6: 95 → 200 (+105)\n",
      "🔧 Augmenting label 7: 31 → 200 (+169)\n",
      "🔧 Augmenting label 8: 68 → 200 (+132)\n",
      "🔧 Augmenting label 9: 65 → 200 (+135)\n",
      "🔧 Augmenting label 10: 70 → 200 (+130)\n",
      "🔧 Augmenting label 11: 172 → 200 (+28)\n",
      "🔧 Augmenting label 12: 193 → 200 (+7)\n",
      "🔧 Augmenting label 13: 29 → 200 (+171)\n",
      "🔧 Augmenting label 14: 23 → 200 (+177)\n",
      "🔧 Augmenting label 15: 25 → 200 (+175)\n",
      "🔧 Augmenting label 16: 20 → 200 (+180)\n",
      "🔧 Augmenting label 18: 93 → 200 (+107)\n",
      "🔧 Augmenting label 19: 45 → 200 (+155)\n",
      "🔧 Augmenting label 20: 14 → 200 (+186)\n",
      "🔧 Augmenting label 21: 35 → 200 (+165)\n",
      "🔧 Augmenting label 22: 78 → 200 (+122)\n",
      "🔧 Augmenting label 23: 160 → 200 (+40)\n",
      "🔧 Augmenting label 24: 16 → 200 (+184)\n",
      "🔧 Augmenting label 25: 50 → 200 (+150)\n",
      "🔧 Augmenting label 26: 86 → 200 (+114)\n",
      "🔧 Augmenting label 27: 49 → 200 (+151)\n",
      "🔧 Augmenting label 28: 12 → 200 (+188)\n",
      "🔧 Augmenting label 29: 13 → 200 (+187)\n",
      "🔧 Augmenting label 30: 15 → 200 (+185)\n",
      "🔧 Augmenting label 31: 80 → 200 (+120)\n",
      "🔧 Augmenting label 32: 36 → 200 (+164)\n",
      "🔧 Augmenting label 33: 32 → 200 (+168)\n",
      "🔧 Augmenting label 34: 30 → 200 (+170)\n",
      "🔧 Augmenting label 35: 12 → 200 (+188)\n",
      "🔧 Augmenting label 36: 28 → 200 (+172)\n",
      "🔧 Augmenting label 37: 21 → 200 (+179)\n",
      "🔧 Augmenting label 38: 6 → 200 (+194)\n",
      "🔧 Augmenting label 39: 103 → 200 (+97)\n",
      "🔧 Augmenting label 40: 12 → 200 (+188)\n",
      "🔧 Augmenting label 41: 8 → 200 (+192)\n",
      "🔧 Augmenting label 42: 147 → 200 (+53)\n",
      "🔧 Augmenting label 43: 16 → 200 (+184)\n",
      "🔧 Augmenting label 44: 20 → 200 (+180)\n",
      "🔧 Augmenting label 45: 9 → 200 (+191)\n",
      "🔧 Augmenting label 46: 54 → 200 (+146)\n",
      "🔧 Augmenting label 49: 69 → 200 (+131)\n",
      "Label distribution after resampling:\n",
      "  label 0: 3179\n",
      "  label 1: 200\n",
      "  label 2: 200\n",
      "  label 3: 200\n",
      "  label 4: 205\n",
      "  label 5: 200\n",
      "  label 6: 200\n",
      "  label 7: 200\n",
      "  label 8: 200\n",
      "  label 9: 200\n",
      "  label 10: 200\n",
      "  label 11: 200\n",
      "  label 12: 200\n",
      "  label 13: 200\n",
      "  label 14: 200\n",
      "  label 15: 200\n",
      "  label 16: 200\n",
      "  label 17: 231\n",
      "  label 18: 200\n",
      "  label 19: 200\n",
      "  label 20: 200\n",
      "  label 21: 200\n",
      "  label 22: 200\n",
      "  label 23: 200\n",
      "  label 24: 200\n",
      "  label 25: 200\n",
      "  label 26: 200\n",
      "  label 27: 200\n",
      "  label 28: 200\n",
      "  label 29: 200\n",
      "  label 30: 200\n",
      "  label 31: 200\n",
      "  label 32: 200\n",
      "  label 33: 200\n",
      "  label 34: 200\n",
      "  label 35: 200\n",
      "  label 36: 200\n",
      "  label 37: 200\n",
      "  label 38: 200\n",
      "  label 39: 200\n",
      "  label 40: 200\n",
      "  label 41: 200\n",
      "  label 42: 200\n",
      "  label 43: 200\n",
      "  label 44: 200\n",
      "  label 45: 200\n",
      "  label 46: 200\n",
      "  label 47: 529\n",
      "  label 48: 202\n",
      "  label 49: 200\n",
      "model is roberta-base cnn\n"
     ]
    },
    {
     "name": "stderr",
     "output_type": "stream",
     "text": [
      "Some weights of RobertaModel were not initialized from the model checkpoint at roberta-base and are newly initialized: ['pooler.dense.bias', 'pooler.dense.weight']\n",
      "You should probably TRAIN this model on a down-stream task to be able to use it for predictions and inference.\n"
     ]
    },
    {
     "name": "stdout",
     "output_type": "stream",
     "text": [
      "Epoch 1/20\n"
     ]
    },
    {
     "name": "stderr",
     "output_type": "stream",
     "text": [
      "100%|██████████| 835/835 [01:12<00:00, 11.47it/s]\n"
     ]
    },
    {
     "name": "stdout",
     "output_type": "stream",
     "text": [
      "{'val_loss': 1.507125753276753, 'val_accuracy': 0.5653459491425192, 'precision': 0.5846731991295863, 'recall': 0.5653459491425192, 'f1-score': 0.5490880687164302, 'macro_f1-score': 0.2595587085055322, 'balanced_accuracy': 0.30425492747177924, 'mcc': 0.42368265974815755, 'train_loss': 2.2825485362621123}\n",
      "Epoch 2/20\n"
     ]
    },
    {
     "name": "stderr",
     "output_type": "stream",
     "text": [
      "100%|██████████| 835/835 [01:12<00:00, 11.46it/s]\n"
     ]
    },
    {
     "name": "stdout",
     "output_type": "stream",
     "text": [
      "{'val_loss': 1.335102599465622, 'val_accuracy': 0.628622117090479, 'precision': 0.656596192026787, 'recall': 0.628622117090479, 'f1-score': 0.6000946777257851, 'macro_f1-score': 0.3607450770243781, 'balanced_accuracy': 0.3911553619329871, 'mcc': 0.49540444339998047, 'train_loss': 1.0940257350217082}\n",
      "Epoch 3/20\n"
     ]
    },
    {
     "name": "stderr",
     "output_type": "stream",
     "text": [
      "100%|██████████| 835/835 [01:12<00:00, 11.47it/s]\n"
     ]
    },
    {
     "name": "stdout",
     "output_type": "stream",
     "text": [
      "{'val_loss': 1.292776862686535, 'val_accuracy': 0.6552335895919574, 'precision': 0.6969459805401989, 'recall': 0.6552335895919574, 'f1-score': 0.6497378041309329, 'macro_f1-score': 0.4258040057964855, 'balanced_accuracy': 0.44286234318825024, 'mcc': 0.5496495010573715, 'train_loss': 0.6789775771027553}\n",
      "Epoch 4/20\n"
     ]
    },
    {
     "name": "stderr",
     "output_type": "stream",
     "text": [
      "100%|██████████| 835/835 [01:12<00:00, 11.47it/s]\n"
     ]
    },
    {
     "name": "stdout",
     "output_type": "stream",
     "text": [
      "{'val_loss': 1.3173274619961686, 'val_accuracy': 0.6593731519810763, 'precision': 0.6833002945836063, 'recall': 0.6593731519810763, 'f1-score': 0.6516419409264999, 'macro_f1-score': 0.40902592214540645, 'balanced_accuracy': 0.41745967035739817, 'mcc': 0.5506693568810274, 'train_loss': 0.48771355940017874}\n",
      "Epoch 5/20\n"
     ]
    },
    {
     "name": "stderr",
     "output_type": "stream",
     "text": [
      "100%|██████████| 835/835 [01:12<00:00, 11.47it/s]\n"
     ]
    },
    {
     "name": "stdout",
     "output_type": "stream",
     "text": [
      "{'val_loss': 1.3976314267459906, 'val_accuracy': 0.6623299822590183, 'precision': 0.6833248289477192, 'recall': 0.6623299822590183, 'f1-score': 0.6544164744819914, 'macro_f1-score': 0.41287644504856774, 'balanced_accuracy': 0.4151379199404376, 'mcc': 0.5544801617127155, 'train_loss': 0.3878672149322347}\n",
      "Epoch 6/20\n"
     ]
    },
    {
     "name": "stderr",
     "output_type": "stream",
     "text": [
      "100%|██████████| 835/835 [01:12<00:00, 11.47it/s]\n"
     ]
    },
    {
     "name": "stdout",
     "output_type": "stream",
     "text": [
      "{'val_loss': 1.4932228390057132, 'val_accuracy': 0.6788882318154937, 'precision': 0.6613411503314375, 'recall': 0.6788882318154937, 'f1-score': 0.6483168045140197, 'macro_f1-score': 0.39185113365838276, 'balanced_accuracy': 0.3603438988313264, 'mcc': 0.563707879525175, 'train_loss': 0.3322363737524448}\n",
      "Early stopping.\n",
      "\n",
      "[Fold 2]\n",
      "🚀 Using Word2Vec for data augmentation\n",
      "🔧 Augmenting label 1: 25 → 200 (+175)\n",
      "🔧 Augmenting label 2: 112 → 200 (+88)\n",
      "🔧 Augmenting label 3: 24 → 200 (+176)\n",
      "🔧 Augmenting label 5: 116 → 200 (+84)\n",
      "🔧 Augmenting label 6: 94 → 200 (+106)\n",
      "🔧 Augmenting label 7: 31 → 200 (+169)\n",
      "🔧 Augmenting label 8: 68 → 200 (+132)\n",
      "🔧 Augmenting label 9: 65 → 200 (+135)\n",
      "🔧 Augmenting label 10: 70 → 200 (+130)\n",
      "🔧 Augmenting label 11: 172 → 200 (+28)\n",
      "🔧 Augmenting label 12: 193 → 200 (+7)\n",
      "🔧 Augmenting label 13: 29 → 200 (+171)\n",
      "🔧 Augmenting label 14: 23 → 200 (+177)\n",
      "🔧 Augmenting label 15: 25 → 200 (+175)\n",
      "🔧 Augmenting label 16: 20 → 200 (+180)\n",
      "🔧 Augmenting label 18: 93 → 200 (+107)\n",
      "🔧 Augmenting label 19: 45 → 200 (+155)\n",
      "🔧 Augmenting label 20: 14 → 200 (+186)\n",
      "🔧 Augmenting label 21: 35 → 200 (+165)\n",
      "🔧 Augmenting label 22: 78 → 200 (+122)\n",
      "🔧 Augmenting label 23: 160 → 200 (+40)\n",
      "🔧 Augmenting label 24: 16 → 200 (+184)\n",
      "🔧 Augmenting label 25: 50 → 200 (+150)\n",
      "🔧 Augmenting label 26: 86 → 200 (+114)\n",
      "🔧 Augmenting label 27: 49 → 200 (+151)\n",
      "🔧 Augmenting label 28: 12 → 200 (+188)\n",
      "🔧 Augmenting label 29: 13 → 200 (+187)\n",
      "🔧 Augmenting label 30: 15 → 200 (+185)\n",
      "🔧 Augmenting label 31: 80 → 200 (+120)\n",
      "🔧 Augmenting label 32: 36 → 200 (+164)\n",
      "🔧 Augmenting label 33: 32 → 200 (+168)\n",
      "🔧 Augmenting label 34: 30 → 200 (+170)\n",
      "🔧 Augmenting label 35: 12 → 200 (+188)\n",
      "🔧 Augmenting label 36: 28 → 200 (+172)\n",
      "🔧 Augmenting label 37: 22 → 200 (+178)\n",
      "🔧 Augmenting label 38: 5 → 200 (+195)\n",
      "🔧 Augmenting label 39: 103 → 200 (+97)\n",
      "🔧 Augmenting label 40: 11 → 200 (+189)\n",
      "🔧 Augmenting label 41: 9 → 200 (+191)\n",
      "🔧 Augmenting label 42: 147 → 200 (+53)\n",
      "🔧 Augmenting label 43: 16 → 200 (+184)\n",
      "🔧 Augmenting label 44: 20 → 200 (+180)\n",
      "🔧 Augmenting label 45: 9 → 200 (+191)\n",
      "🔧 Augmenting label 46: 55 → 200 (+145)\n",
      "🔧 Augmenting label 49: 69 → 200 (+131)\n",
      "Label distribution after resampling:\n",
      "  label 0: 3179\n",
      "  label 1: 200\n",
      "  label 2: 200\n",
      "  label 3: 200\n",
      "  label 4: 206\n",
      "  label 5: 200\n",
      "  label 6: 200\n",
      "  label 7: 200\n",
      "  label 8: 200\n",
      "  label 9: 200\n",
      "  label 10: 200\n",
      "  label 11: 200\n",
      "  label 12: 200\n",
      "  label 13: 200\n",
      "  label 14: 200\n",
      "  label 15: 200\n",
      "  label 16: 200\n",
      "  label 17: 231\n",
      "  label 18: 200\n",
      "  label 19: 200\n",
      "  label 20: 200\n",
      "  label 21: 200\n",
      "  label 22: 200\n",
      "  label 23: 200\n",
      "  label 24: 200\n",
      "  label 25: 200\n",
      "  label 26: 200\n",
      "  label 27: 200\n",
      "  label 28: 200\n",
      "  label 29: 200\n",
      "  label 30: 200\n",
      "  label 31: 200\n",
      "  label 32: 200\n",
      "  label 33: 200\n",
      "  label 34: 200\n",
      "  label 35: 200\n",
      "  label 36: 200\n",
      "  label 37: 200\n",
      "  label 38: 200\n",
      "  label 39: 200\n",
      "  label 40: 200\n",
      "  label 41: 200\n",
      "  label 42: 200\n",
      "  label 43: 200\n",
      "  label 44: 200\n",
      "  label 45: 200\n",
      "  label 46: 200\n",
      "  label 47: 528\n",
      "  label 48: 202\n",
      "  label 49: 200\n",
      "model is roberta-base cnn\n"
     ]
    },
    {
     "name": "stderr",
     "output_type": "stream",
     "text": [
      "Some weights of RobertaModel were not initialized from the model checkpoint at roberta-base and are newly initialized: ['pooler.dense.bias', 'pooler.dense.weight']\n",
      "You should probably TRAIN this model on a down-stream task to be able to use it for predictions and inference.\n"
     ]
    },
    {
     "name": "stdout",
     "output_type": "stream",
     "text": [
      "Epoch 1/20\n"
     ]
    },
    {
     "name": "stderr",
     "output_type": "stream",
     "text": [
      "100%|██████████| 835/835 [01:12<00:00, 11.47it/s]\n"
     ]
    },
    {
     "name": "stdout",
     "output_type": "stream",
     "text": [
      "{'val_loss': 1.5686997242693632, 'val_accuracy': 0.5677114133648729, 'precision': 0.5699975013976869, 'recall': 0.5677114133648729, 'f1-score': 0.5468625987281707, 'macro_f1-score': 0.25368526280644327, 'balanced_accuracy': 0.33341386996155753, 'mcc': 0.4325395057306103, 'train_loss': 2.2917054380485395}\n",
      "Epoch 2/20\n"
     ]
    },
    {
     "name": "stderr",
     "output_type": "stream",
     "text": [
      "100%|██████████| 835/835 [01:12<00:00, 11.48it/s]\n"
     ]
    },
    {
     "name": "stdout",
     "output_type": "stream",
     "text": [
      "{'val_loss': 1.3396486010191575, 'val_accuracy': 0.6581904198698995, 'precision': 0.6712779049286344, 'recall': 0.6581904198698995, 'f1-score': 0.6378995423075452, 'macro_f1-score': 0.3829947938425231, 'balanced_accuracy': 0.39178397206842475, 'mcc': 0.5339882629837792, 'train_loss': 1.1350636341971552}\n",
      "Epoch 3/20\n"
     ]
    },
    {
     "name": "stderr",
     "output_type": "stream",
     "text": [
      "100%|██████████| 835/835 [01:12<00:00, 11.47it/s]\n"
     ]
    },
    {
     "name": "stdout",
     "output_type": "stream",
     "text": [
      "{'val_loss': 1.3443089346840698, 'val_accuracy': 0.6564163217031342, 'precision': 0.6623423762574056, 'recall': 0.6564163217031342, 'f1-score': 0.6369566630633509, 'macro_f1-score': 0.3814786165655499, 'balanced_accuracy': 0.38725926449466086, 'mcc': 0.5339019690374279, 'train_loss': 0.7351768174749649}\n",
      "Epoch 4/20\n"
     ]
    },
    {
     "name": "stderr",
     "output_type": "stream",
     "text": [
      "100%|██████████| 835/835 [01:12<00:00, 11.47it/s]\n"
     ]
    },
    {
     "name": "stdout",
     "output_type": "stream",
     "text": [
      "{'val_loss': 1.4493128963798847, 'val_accuracy': 0.6144293317563572, 'precision': 0.653009312890866, 'recall': 0.6144293317563572, 'f1-score': 0.6213068147750501, 'macro_f1-score': 0.3939372810312427, 'balanced_accuracy': 0.46409980105260173, 'mcc': 0.5165411466893539, 'train_loss': 0.5323343181949176}\n",
      "Epoch 5/20\n"
     ]
    },
    {
     "name": "stderr",
     "output_type": "stream",
     "text": [
      "100%|██████████| 835/835 [01:12<00:00, 11.47it/s]\n"
     ]
    },
    {
     "name": "stdout",
     "output_type": "stream",
     "text": [
      "{'val_loss': 1.3977043139484693, 'val_accuracy': 0.6706091070372561, 'precision': 0.678606028586615, 'recall': 0.6706091070372561, 'f1-score': 0.6652787923409154, 'macro_f1-score': 0.4238207241690328, 'balanced_accuracy': 0.4088731786784349, 'mcc': 0.5645707870393373, 'train_loss': 0.4190655655980467}\n",
      "Epoch 6/20\n"
     ]
    },
    {
     "name": "stderr",
     "output_type": "stream",
     "text": [
      "100%|██████████| 835/835 [01:12<00:00, 11.49it/s]\n"
     ]
    },
    {
     "name": "stdout",
     "output_type": "stream",
     "text": [
      "{'val_loss': 1.5069003504402232, 'val_accuracy': 0.6688350088704909, 'precision': 0.6509866513202984, 'recall': 0.6688350088704909, 'f1-score': 0.6389008389622862, 'macro_f1-score': 0.39655070517596136, 'balanced_accuracy': 0.3775945560005197, 'mcc': 0.5474088164438156, 'train_loss': 0.3651366635906081}\n",
      "Epoch 7/20\n"
     ]
    },
    {
     "name": "stderr",
     "output_type": "stream",
     "text": [
      "100%|██████████| 835/835 [01:12<00:00, 11.47it/s]\n"
     ]
    },
    {
     "name": "stdout",
     "output_type": "stream",
     "text": [
      "{'val_loss': 1.475546138325952, 'val_accuracy': 0.6782968657599053, 'precision': 0.6721564679481123, 'recall': 0.6782968657599053, 'f1-score': 0.6563515849487198, 'macro_f1-score': 0.40919201715148273, 'balanced_accuracy': 0.39559293619581537, 'mcc': 0.5670181956436764, 'train_loss': 0.3164121799427503}\n",
      "Epoch 8/20\n"
     ]
    },
    {
     "name": "stderr",
     "output_type": "stream",
     "text": [
      "100%|██████████| 835/835 [01:12<00:00, 11.48it/s]\n"
     ]
    },
    {
     "name": "stdout",
     "output_type": "stream",
     "text": [
      "{'val_loss': 1.5704794370059698, 'val_accuracy': 0.6800709639266707, 'precision': 0.6714328371628568, 'recall': 0.6800709639266707, 'f1-score': 0.6640574373983333, 'macro_f1-score': 0.42177398547981226, 'balanced_accuracy': 0.4136417274933488, 'mcc': 0.5717079017669818, 'train_loss': 0.28777543535974703}\n",
      "Early stopping.\n",
      "\n",
      "[Fold 3]\n",
      "🚀 Using Word2Vec for data augmentation\n",
      "🔧 Augmenting label 1: 25 → 200 (+175)\n",
      "🔧 Augmenting label 2: 112 → 200 (+88)\n",
      "🔧 Augmenting label 3: 24 → 200 (+176)\n",
      "🔧 Augmenting label 5: 116 → 200 (+84)\n",
      "🔧 Augmenting label 6: 94 → 200 (+106)\n",
      "🔧 Augmenting label 7: 31 → 200 (+169)\n",
      "🔧 Augmenting label 8: 68 → 200 (+132)\n",
      "🔧 Augmenting label 9: 65 → 200 (+135)\n",
      "🔧 Augmenting label 10: 71 → 200 (+129)\n",
      "🔧 Augmenting label 11: 172 → 200 (+28)\n",
      "🔧 Augmenting label 12: 192 → 200 (+8)\n",
      "🔧 Augmenting label 13: 29 → 200 (+171)\n",
      "🔧 Augmenting label 14: 23 → 200 (+177)\n",
      "🔧 Augmenting label 15: 25 → 200 (+175)\n",
      "🔧 Augmenting label 16: 20 → 200 (+180)\n",
      "🔧 Augmenting label 18: 93 → 200 (+107)\n",
      "🔧 Augmenting label 19: 45 → 200 (+155)\n",
      "🔧 Augmenting label 20: 14 → 200 (+186)\n",
      "🔧 Augmenting label 21: 36 → 200 (+164)\n",
      "🔧 Augmenting label 22: 77 → 200 (+123)\n",
      "🔧 Augmenting label 23: 160 → 200 (+40)\n",
      "🔧 Augmenting label 24: 16 → 200 (+184)\n",
      "🔧 Augmenting label 25: 51 → 200 (+149)\n",
      "🔧 Augmenting label 26: 85 → 200 (+115)\n",
      "🔧 Augmenting label 27: 49 → 200 (+151)\n",
      "🔧 Augmenting label 28: 12 → 200 (+188)\n",
      "🔧 Augmenting label 29: 12 → 200 (+188)\n",
      "🔧 Augmenting label 30: 16 → 200 (+184)\n",
      "🔧 Augmenting label 31: 80 → 200 (+120)\n",
      "🔧 Augmenting label 32: 36 → 200 (+164)\n",
      "🔧 Augmenting label 33: 32 → 200 (+168)\n",
      "🔧 Augmenting label 34: 29 → 200 (+171)\n",
      "🔧 Augmenting label 35: 12 → 200 (+188)\n",
      "🔧 Augmenting label 36: 28 → 200 (+172)\n",
      "🔧 Augmenting label 37: 22 → 200 (+178)\n",
      "🔧 Augmenting label 38: 5 → 200 (+195)\n",
      "🔧 Augmenting label 39: 103 → 200 (+97)\n",
      "🔧 Augmenting label 40: 11 → 200 (+189)\n",
      "🔧 Augmenting label 41: 9 → 200 (+191)\n",
      "🔧 Augmenting label 42: 147 → 200 (+53)\n",
      "🔧 Augmenting label 43: 16 → 200 (+184)\n",
      "🔧 Augmenting label 44: 20 → 200 (+180)\n",
      "🔧 Augmenting label 45: 9 → 200 (+191)\n",
      "🔧 Augmenting label 46: 55 → 200 (+145)\n",
      "🔧 Augmenting label 49: 70 → 200 (+130)\n",
      "Label distribution after resampling:\n",
      "  label 0: 3179\n",
      "  label 1: 200\n",
      "  label 2: 200\n",
      "  label 3: 200\n",
      "  label 4: 206\n",
      "  label 5: 200\n",
      "  label 6: 200\n",
      "  label 7: 200\n",
      "  label 8: 200\n",
      "  label 9: 200\n",
      "  label 10: 200\n",
      "  label 11: 200\n",
      "  label 12: 200\n",
      "  label 13: 200\n",
      "  label 14: 200\n",
      "  label 15: 200\n",
      "  label 16: 200\n",
      "  label 17: 231\n",
      "  label 18: 200\n",
      "  label 19: 200\n",
      "  label 20: 200\n",
      "  label 21: 200\n",
      "  label 22: 200\n",
      "  label 23: 200\n",
      "  label 24: 200\n",
      "  label 25: 200\n",
      "  label 26: 200\n",
      "  label 27: 200\n",
      "  label 28: 200\n",
      "  label 29: 200\n",
      "  label 30: 200\n",
      "  label 31: 200\n",
      "  label 32: 200\n",
      "  label 33: 200\n",
      "  label 34: 200\n",
      "  label 35: 200\n",
      "  label 36: 200\n",
      "  label 37: 200\n",
      "  label 38: 200\n",
      "  label 39: 200\n",
      "  label 40: 200\n",
      "  label 41: 200\n",
      "  label 42: 200\n",
      "  label 43: 200\n",
      "  label 44: 200\n",
      "  label 45: 200\n",
      "  label 46: 200\n",
      "  label 47: 529\n",
      "  label 48: 201\n",
      "  label 49: 200\n",
      "model is roberta-base cnn\n"
     ]
    },
    {
     "name": "stderr",
     "output_type": "stream",
     "text": [
      "Some weights of RobertaModel were not initialized from the model checkpoint at roberta-base and are newly initialized: ['pooler.dense.bias', 'pooler.dense.weight']\n",
      "You should probably TRAIN this model on a down-stream task to be able to use it for predictions and inference.\n"
     ]
    },
    {
     "name": "stdout",
     "output_type": "stream",
     "text": [
      "Epoch 1/20\n"
     ]
    },
    {
     "name": "stderr",
     "output_type": "stream",
     "text": [
      "100%|██████████| 835/835 [01:12<00:00, 11.47it/s]\n"
     ]
    },
    {
     "name": "stdout",
     "output_type": "stream",
     "text": [
      "{'val_loss': 1.484294537103401, 'val_accuracy': 0.5984624482554701, 'precision': 0.5363325952884395, 'recall': 0.5984624482554701, 'f1-score': 0.5457774586054318, 'macro_f1-score': 0.2573432239069638, 'balanced_accuracy': 0.3151724401753028, 'mcc': 0.4576390948311091, 'train_loss': 2.3383290006015116}\n",
      "Epoch 2/20\n"
     ]
    },
    {
     "name": "stderr",
     "output_type": "stream",
     "text": [
      "100%|██████████| 835/835 [01:12<00:00, 11.48it/s]\n"
     ]
    },
    {
     "name": "stdout",
     "output_type": "stream",
     "text": [
      "{'val_loss': 1.33064810819221, 'val_accuracy': 0.6268480189237138, 'precision': 0.6327790803518729, 'recall': 0.6268480189237138, 'f1-score': 0.6063331816669536, 'macro_f1-score': 0.3486209497240984, 'balanced_accuracy': 0.39612567396836423, 'mcc': 0.5060908783184699, 'train_loss': 1.143254075172597}\n",
      "Epoch 3/20\n"
     ]
    },
    {
     "name": "stderr",
     "output_type": "stream",
     "text": [
      "100%|██████████| 835/835 [01:12<00:00, 11.48it/s]\n"
     ]
    },
    {
     "name": "stdout",
     "output_type": "stream",
     "text": [
      "{'val_loss': 1.3646049035607644, 'val_accuracy': 0.6434062684801892, 'precision': 0.6700187253799724, 'recall': 0.6434062684801892, 'f1-score': 0.6317215087573222, 'macro_f1-score': 0.37748077328798296, 'balanced_accuracy': 0.40182270330271935, 'mcc': 0.5270133134712413, 'train_loss': 0.6988610038768032}\n",
      "Epoch 4/20\n"
     ]
    },
    {
     "name": "stderr",
     "output_type": "stream",
     "text": [
      "100%|██████████| 835/835 [01:12<00:00, 11.47it/s]\n"
     ]
    },
    {
     "name": "stdout",
     "output_type": "stream",
     "text": [
      "{'val_loss': 1.39093587111752, 'val_accuracy': 0.6457717327025428, 'precision': 0.6374602672157963, 'recall': 0.6457717327025428, 'f1-score': 0.6252937623348797, 'macro_f1-score': 0.36900380583475695, 'balanced_accuracy': 0.3974343151101104, 'mcc': 0.5368892052767855, 'train_loss': 0.5031985597651518}\n",
      "Epoch 5/20\n"
     ]
    },
    {
     "name": "stderr",
     "output_type": "stream",
     "text": [
      "100%|██████████| 835/835 [01:12<00:00, 11.47it/s]\n"
     ]
    },
    {
     "name": "stdout",
     "output_type": "stream",
     "text": [
      "{'val_loss': 1.475630616523185, 'val_accuracy': 0.6664695446481372, 'precision': 0.6412565197770794, 'recall': 0.6664695446481372, 'f1-score': 0.6307163590603386, 'macro_f1-score': 0.3462836015242533, 'balanced_accuracy': 0.34165151686871165, 'mcc': 0.5434199926952387, 'train_loss': 0.408212033137233}\n",
      "Epoch 6/20\n"
     ]
    },
    {
     "name": "stderr",
     "output_type": "stream",
     "text": [
      "100%|██████████| 835/835 [01:12<00:00, 11.48it/s]\n"
     ]
    },
    {
     "name": "stdout",
     "output_type": "stream",
     "text": [
      "{'val_loss': 1.450848860560723, 'val_accuracy': 0.6747486694263749, 'precision': 0.6620790013419222, 'recall': 0.6747486694263749, 'f1-score': 0.6415041069738872, 'macro_f1-score': 0.37503756111947717, 'balanced_accuracy': 0.3569349322310502, 'mcc': 0.5585040912050134, 'train_loss': 0.34287539832851666}\n",
      "Early stopping.\n",
      "\n",
      "[Fold 4]\n",
      "🚀 Using Word2Vec for data augmentation\n",
      "🔧 Augmenting label 1: 25 → 200 (+175)\n",
      "🔧 Augmenting label 2: 112 → 200 (+88)\n",
      "🔧 Augmenting label 3: 24 → 200 (+176)\n",
      "🔧 Augmenting label 5: 116 → 200 (+84)\n",
      "🔧 Augmenting label 6: 94 → 200 (+106)\n",
      "🔧 Augmenting label 7: 32 → 200 (+168)\n",
      "🔧 Augmenting label 8: 68 → 200 (+132)\n",
      "🔧 Augmenting label 9: 64 → 200 (+136)\n",
      "🔧 Augmenting label 10: 71 → 200 (+129)\n",
      "🔧 Augmenting label 11: 172 → 200 (+28)\n",
      "🔧 Augmenting label 12: 193 → 200 (+7)\n",
      "🔧 Augmenting label 13: 28 → 200 (+172)\n",
      "🔧 Augmenting label 14: 24 → 200 (+176)\n",
      "🔧 Augmenting label 15: 24 → 200 (+176)\n",
      "🔧 Augmenting label 16: 20 → 200 (+180)\n",
      "🔧 Augmenting label 18: 92 → 200 (+108)\n",
      "🔧 Augmenting label 19: 45 → 200 (+155)\n",
      "🔧 Augmenting label 20: 15 → 200 (+185)\n",
      "🔧 Augmenting label 21: 35 → 200 (+165)\n",
      "🔧 Augmenting label 22: 77 → 200 (+123)\n",
      "🔧 Augmenting label 23: 160 → 200 (+40)\n",
      "🔧 Augmenting label 24: 16 → 200 (+184)\n",
      "🔧 Augmenting label 25: 51 → 200 (+149)\n",
      "🔧 Augmenting label 26: 85 → 200 (+115)\n",
      "🔧 Augmenting label 27: 49 → 200 (+151)\n",
      "🔧 Augmenting label 28: 12 → 200 (+188)\n",
      "🔧 Augmenting label 29: 13 → 200 (+187)\n",
      "🔧 Augmenting label 30: 15 → 200 (+185)\n",
      "🔧 Augmenting label 31: 80 → 200 (+120)\n",
      "🔧 Augmenting label 32: 36 → 200 (+164)\n",
      "🔧 Augmenting label 33: 32 → 200 (+168)\n",
      "🔧 Augmenting label 34: 29 → 200 (+171)\n",
      "🔧 Augmenting label 35: 12 → 200 (+188)\n",
      "🔧 Augmenting label 36: 28 → 200 (+172)\n",
      "🔧 Augmenting label 37: 22 → 200 (+178)\n",
      "🔧 Augmenting label 38: 6 → 200 (+194)\n",
      "🔧 Augmenting label 39: 103 → 200 (+97)\n",
      "🔧 Augmenting label 40: 11 → 200 (+189)\n",
      "🔧 Augmenting label 41: 9 → 200 (+191)\n",
      "🔧 Augmenting label 42: 148 → 200 (+52)\n",
      "🔧 Augmenting label 43: 16 → 200 (+184)\n",
      "🔧 Augmenting label 44: 20 → 200 (+180)\n",
      "🔧 Augmenting label 45: 8 → 200 (+192)\n",
      "🔧 Augmenting label 46: 54 → 200 (+146)\n",
      "🔧 Augmenting label 49: 70 → 200 (+130)\n",
      "Label distribution after resampling:\n",
      "  label 0: 3179\n",
      "  label 1: 200\n",
      "  label 2: 200\n",
      "  label 3: 200\n",
      "  label 4: 206\n",
      "  label 5: 200\n",
      "  label 6: 200\n",
      "  label 7: 200\n",
      "  label 8: 200\n",
      "  label 9: 200\n",
      "  label 10: 200\n",
      "  label 11: 200\n",
      "  label 12: 200\n",
      "  label 13: 200\n",
      "  label 14: 200\n",
      "  label 15: 200\n",
      "  label 16: 200\n",
      "  label 17: 232\n",
      "  label 18: 200\n",
      "  label 19: 200\n",
      "  label 20: 200\n",
      "  label 21: 200\n",
      "  label 22: 200\n",
      "  label 23: 200\n",
      "  label 24: 200\n",
      "  label 25: 200\n",
      "  label 26: 200\n",
      "  label 27: 200\n",
      "  label 28: 200\n",
      "  label 29: 200\n",
      "  label 30: 200\n",
      "  label 31: 200\n",
      "  label 32: 200\n",
      "  label 33: 200\n",
      "  label 34: 200\n",
      "  label 35: 200\n",
      "  label 36: 200\n",
      "  label 37: 200\n",
      "  label 38: 200\n",
      "  label 39: 200\n",
      "  label 40: 200\n",
      "  label 41: 200\n",
      "  label 42: 200\n",
      "  label 43: 200\n",
      "  label 44: 200\n",
      "  label 45: 200\n",
      "  label 46: 200\n",
      "  label 47: 529\n",
      "  label 48: 201\n",
      "  label 49: 200\n",
      "model is roberta-base cnn\n"
     ]
    },
    {
     "name": "stderr",
     "output_type": "stream",
     "text": [
      "Some weights of RobertaModel were not initialized from the model checkpoint at roberta-base and are newly initialized: ['pooler.dense.bias', 'pooler.dense.weight']\n",
      "You should probably TRAIN this model on a down-stream task to be able to use it for predictions and inference.\n"
     ]
    },
    {
     "name": "stdout",
     "output_type": "stream",
     "text": [
      "Epoch 1/20\n"
     ]
    },
    {
     "name": "stderr",
     "output_type": "stream",
     "text": [
      "100%|██████████| 835/835 [01:12<00:00, 11.47it/s]\n"
     ]
    },
    {
     "name": "stdout",
     "output_type": "stream",
     "text": [
      "{'val_loss': 1.59005846420549, 'val_accuracy': 0.5647545830869308, 'precision': 0.636425276628338, 'recall': 0.5647545830869308, 'f1-score': 0.5626200576954625, 'macro_f1-score': 0.303998813835835, 'balanced_accuracy': 0.4046769725926195, 'mcc': 0.4401184685419554, 'train_loss': 2.463842986515182}\n",
      "Epoch 2/20\n"
     ]
    },
    {
     "name": "stderr",
     "output_type": "stream",
     "text": [
      "100%|██████████| 835/835 [01:12<00:00, 11.47it/s]\n"
     ]
    },
    {
     "name": "stdout",
     "output_type": "stream",
     "text": [
      "{'val_loss': 1.2804844075778745, 'val_accuracy': 0.6333530455351862, 'precision': 0.6350394121179164, 'recall': 0.6333530455351862, 'f1-score': 0.609074316371792, 'macro_f1-score': 0.3596932320107453, 'balanced_accuracy': 0.3805352598290984, 'mcc': 0.510772267827776, 'train_loss': 1.2027951090635653}\n",
      "Epoch 3/20\n"
     ]
    },
    {
     "name": "stderr",
     "output_type": "stream",
     "text": [
      "100%|██████████| 835/835 [01:12<00:00, 11.48it/s]\n"
     ]
    },
    {
     "name": "stdout",
     "output_type": "stream",
     "text": [
      "{'val_loss': 1.2853696444686853, 'val_accuracy': 0.6345357776463632, 'precision': 0.6577503053713986, 'recall': 0.6345357776463632, 'f1-score': 0.6321604663204593, 'macro_f1-score': 0.4116435605978308, 'balanced_accuracy': 0.4074784518376023, 'mcc': 0.5230882951262386, 'train_loss': 0.7485878753135661}\n",
      "Epoch 4/20\n"
     ]
    },
    {
     "name": "stderr",
     "output_type": "stream",
     "text": [
      "100%|██████████| 835/835 [01:12<00:00, 11.47it/s]\n"
     ]
    },
    {
     "name": "stdout",
     "output_type": "stream",
     "text": [
      "{'val_loss': 1.2943224378351896, 'val_accuracy': 0.6658781785925488, 'precision': 0.6323579427717522, 'recall': 0.6658781785925488, 'f1-score': 0.6272300992838072, 'macro_f1-score': 0.3800566831156733, 'balanced_accuracy': 0.35650037335359014, 'mcc': 0.5413803626643473, 'train_loss': 0.5319469116605863}\n",
      "Epoch 5/20\n"
     ]
    },
    {
     "name": "stderr",
     "output_type": "stream",
     "text": [
      "100%|██████████| 835/835 [01:12<00:00, 11.47it/s]\n"
     ]
    },
    {
     "name": "stdout",
     "output_type": "stream",
     "text": [
      "{'val_loss': 1.3785566890014793, 'val_accuracy': 0.6836191602602011, 'precision': 0.6632440539419223, 'recall': 0.6836191602602011, 'f1-score': 0.6523858136475758, 'macro_f1-score': 0.4152160444811394, 'balanced_accuracy': 0.39246163558508923, 'mcc': 0.5679902915885532, 'train_loss': 0.4216334710444162}\n",
      "Epoch 6/20\n"
     ]
    },
    {
     "name": "stderr",
     "output_type": "stream",
     "text": [
      "100%|██████████| 835/835 [01:12<00:00, 11.48it/s]\n"
     ]
    },
    {
     "name": "stdout",
     "output_type": "stream",
     "text": [
      "{'val_loss': 1.4510815132339046, 'val_accuracy': 0.6658781785925488, 'precision': 0.6610855556323155, 'recall': 0.6658781785925488, 'f1-score': 0.6342784740362014, 'macro_f1-score': 0.38904181790282444, 'balanced_accuracy': 0.35916811584977437, 'mcc': 0.5426134453965349, 'train_loss': 0.3438444990307806}\n",
      "Epoch 7/20\n"
     ]
    },
    {
     "name": "stderr",
     "output_type": "stream",
     "text": [
      "100%|██████████| 835/835 [01:12<00:00, 11.47it/s]\n"
     ]
    },
    {
     "name": "stdout",
     "output_type": "stream",
     "text": [
      "{'val_loss': 1.4064860731925604, 'val_accuracy': 0.6700177409816677, 'precision': 0.6874972025967695, 'recall': 0.6700177409816677, 'f1-score': 0.6635859659169644, 'macro_f1-score': 0.45334966177159025, 'balanced_accuracy': 0.45890662681232414, 'mcc': 0.5708840128429343, 'train_loss': 0.305249147210549}\n",
      "Epoch 8/20\n"
     ]
    },
    {
     "name": "stderr",
     "output_type": "stream",
     "text": [
      "100%|██████████| 835/835 [01:12<00:00, 11.48it/s]\n"
     ]
    },
    {
     "name": "stdout",
     "output_type": "stream",
     "text": [
      "{'val_loss': 1.4620468679745242, 'val_accuracy': 0.6924896510940272, 'precision': 0.6807250382578919, 'recall': 0.6924896510940272, 'f1-score': 0.6632248644201496, 'macro_f1-score': 0.4288463756172058, 'balanced_accuracy': 0.4098514109491107, 'mcc': 0.5831687550477248, 'train_loss': 0.28317335244591635}\n",
      "Epoch 9/20\n"
     ]
    },
    {
     "name": "stderr",
     "output_type": "stream",
     "text": [
      "100%|██████████| 835/835 [01:12<00:00, 11.46it/s]\n"
     ]
    },
    {
     "name": "stdout",
     "output_type": "stream",
     "text": [
      "{'val_loss': 1.4002265158408094, 'val_accuracy': 0.6966292134831461, 'precision': 0.6889118123223892, 'recall': 0.6966292134831461, 'f1-score': 0.685242543359496, 'macro_f1-score': 0.4620677631991761, 'balanced_accuracy': 0.47688593546680513, 'mcc': 0.5999254446429415, 'train_loss': 0.25214206261649547}\n",
      "Epoch 10/20\n"
     ]
    },
    {
     "name": "stderr",
     "output_type": "stream",
     "text": [
      "100%|██████████| 835/835 [01:12<00:00, 11.47it/s]\n"
     ]
    },
    {
     "name": "stdout",
     "output_type": "stream",
     "text": [
      "{'val_loss': 1.564787525191622, 'val_accuracy': 0.6670609107037256, 'precision': 0.6861112693312933, 'recall': 0.6670609107037256, 'f1-score': 0.65965922146698, 'macro_f1-score': 0.42907989998165036, 'balanced_accuracy': 0.43439363788943547, 'mcc': 0.5664568861189859, 'train_loss': 0.24348087425449652}\n",
      "Epoch 11/20\n"
     ]
    },
    {
     "name": "stderr",
     "output_type": "stream",
     "text": [
      "100%|██████████| 835/835 [01:12<00:00, 11.47it/s]\n"
     ]
    },
    {
     "name": "stdout",
     "output_type": "stream",
     "text": [
      "{'val_loss': 1.585565993456908, 'val_accuracy': 0.6617386162034299, 'precision': 0.676881235869808, 'recall': 0.6617386162034299, 'f1-score': 0.6602427332866436, 'macro_f1-score': 0.433119770638948, 'balanced_accuracy': 0.4339200204206193, 'mcc': 0.5648368129953122, 'train_loss': 0.2396789537664659}\n",
      "Epoch 12/20\n"
     ]
    },
    {
     "name": "stderr",
     "output_type": "stream",
     "text": [
      "100%|██████████| 835/835 [01:12<00:00, 11.47it/s]\n"
     ]
    },
    {
     "name": "stdout",
     "output_type": "stream",
     "text": [
      "{'val_loss': 1.645184891966154, 'val_accuracy': 0.6842105263157895, 'precision': 0.6765461123521642, 'recall': 0.6842105263157895, 'f1-score': 0.6606153632693292, 'macro_f1-score': 0.4369799107328927, 'balanced_accuracy': 0.4167384557994793, 'mcc': 0.5731963430058404, 'train_loss': 0.20974914965102684}\n",
      "Early stopping.\n",
      "\n",
      "[Fold 5]\n",
      "🚀 Using Word2Vec for data augmentation\n",
      "🔧 Augmenting label 1: 24 → 200 (+176)\n",
      "🔧 Augmenting label 2: 112 → 200 (+88)\n",
      "🔧 Augmenting label 3: 24 → 200 (+176)\n",
      "🔧 Augmenting label 5: 116 → 200 (+84)\n",
      "🔧 Augmenting label 6: 95 → 200 (+105)\n",
      "🔧 Augmenting label 7: 31 → 200 (+169)\n",
      "🔧 Augmenting label 8: 68 → 200 (+132)\n",
      "🔧 Augmenting label 9: 65 → 200 (+135)\n",
      "🔧 Augmenting label 10: 70 → 200 (+130)\n",
      "🔧 Augmenting label 11: 172 → 200 (+28)\n",
      "🔧 Augmenting label 12: 193 → 200 (+7)\n",
      "🔧 Augmenting label 13: 29 → 200 (+171)\n",
      "🔧 Augmenting label 14: 23 → 200 (+177)\n",
      "🔧 Augmenting label 15: 25 → 200 (+175)\n",
      "🔧 Augmenting label 16: 20 → 200 (+180)\n",
      "🔧 Augmenting label 18: 93 → 200 (+107)\n",
      "🔧 Augmenting label 19: 44 → 200 (+156)\n",
      "🔧 Augmenting label 20: 15 → 200 (+185)\n",
      "🔧 Augmenting label 21: 35 → 200 (+165)\n",
      "🔧 Augmenting label 22: 78 → 200 (+122)\n",
      "🔧 Augmenting label 23: 160 → 200 (+40)\n",
      "🔧 Augmenting label 24: 16 → 200 (+184)\n",
      "🔧 Augmenting label 25: 50 → 200 (+150)\n",
      "🔧 Augmenting label 26: 86 → 200 (+114)\n",
      "🔧 Augmenting label 27: 48 → 200 (+152)\n",
      "🔧 Augmenting label 28: 12 → 200 (+188)\n",
      "🔧 Augmenting label 29: 13 → 200 (+187)\n",
      "🔧 Augmenting label 30: 15 → 200 (+185)\n",
      "🔧 Augmenting label 31: 80 → 200 (+120)\n",
      "🔧 Augmenting label 32: 36 → 200 (+164)\n",
      "🔧 Augmenting label 33: 32 → 200 (+168)\n",
      "🔧 Augmenting label 34: 30 → 200 (+170)\n",
      "🔧 Augmenting label 35: 12 → 200 (+188)\n",
      "🔧 Augmenting label 36: 28 → 200 (+172)\n",
      "🔧 Augmenting label 37: 21 → 200 (+179)\n",
      "🔧 Augmenting label 38: 6 → 200 (+194)\n",
      "🔧 Augmenting label 39: 104 → 200 (+96)\n",
      "🔧 Augmenting label 40: 11 → 200 (+189)\n",
      "🔧 Augmenting label 41: 9 → 200 (+191)\n",
      "🔧 Augmenting label 42: 147 → 200 (+53)\n",
      "🔧 Augmenting label 43: 16 → 200 (+184)\n",
      "🔧 Augmenting label 44: 20 → 200 (+180)\n",
      "🔧 Augmenting label 45: 9 → 200 (+191)\n",
      "🔧 Augmenting label 46: 54 → 200 (+146)\n",
      "🔧 Augmenting label 49: 70 → 200 (+130)\n",
      "Label distribution after resampling:\n",
      "  label 0: 3180\n",
      "  label 1: 200\n",
      "  label 2: 200\n",
      "  label 3: 200\n",
      "  label 4: 205\n",
      "  label 5: 200\n",
      "  label 6: 200\n",
      "  label 7: 200\n",
      "  label 8: 200\n",
      "  label 9: 200\n",
      "  label 10: 200\n",
      "  label 11: 200\n",
      "  label 12: 200\n",
      "  label 13: 200\n",
      "  label 14: 200\n",
      "  label 15: 200\n",
      "  label 16: 200\n",
      "  label 17: 231\n",
      "  label 18: 200\n",
      "  label 19: 200\n",
      "  label 20: 200\n",
      "  label 21: 200\n",
      "  label 22: 200\n",
      "  label 23: 200\n",
      "  label 24: 200\n",
      "  label 25: 200\n",
      "  label 26: 200\n",
      "  label 27: 200\n",
      "  label 28: 200\n",
      "  label 29: 200\n",
      "  label 30: 200\n",
      "  label 31: 200\n",
      "  label 32: 200\n",
      "  label 33: 200\n",
      "  label 34: 200\n",
      "  label 35: 200\n",
      "  label 36: 200\n",
      "  label 37: 200\n",
      "  label 38: 200\n",
      "  label 39: 200\n",
      "  label 40: 200\n",
      "  label 41: 200\n",
      "  label 42: 200\n",
      "  label 43: 200\n",
      "  label 44: 200\n",
      "  label 45: 200\n",
      "  label 46: 200\n",
      "  label 47: 529\n",
      "  label 48: 202\n",
      "  label 49: 200\n",
      "model is roberta-base cnn\n"
     ]
    },
    {
     "name": "stderr",
     "output_type": "stream",
     "text": [
      "Some weights of RobertaModel were not initialized from the model checkpoint at roberta-base and are newly initialized: ['pooler.dense.bias', 'pooler.dense.weight']\n",
      "You should probably TRAIN this model on a down-stream task to be able to use it for predictions and inference.\n"
     ]
    },
    {
     "name": "stdout",
     "output_type": "stream",
     "text": [
      "Epoch 1/20\n"
     ]
    },
    {
     "name": "stderr",
     "output_type": "stream",
     "text": [
      "100%|██████████| 835/835 [01:12<00:00, 11.47it/s]\n"
     ]
    },
    {
     "name": "stdout",
     "output_type": "stream",
     "text": [
      "{'val_loss': 1.514914922837941, 'val_accuracy': 0.5887573964497042, 'precision': 0.5573184893506096, 'recall': 0.5887573964497042, 'f1-score': 0.5492821506852873, 'macro_f1-score': 0.21815588733453062, 'balanced_accuracy': 0.27943106900389564, 'mcc': 0.44984440231146583, 'train_loss': 2.4109801614355897}\n",
      "Epoch 2/20\n"
     ]
    },
    {
     "name": "stderr",
     "output_type": "stream",
     "text": [
      "100%|██████████| 835/835 [01:12<00:00, 11.47it/s]\n"
     ]
    },
    {
     "name": "stdout",
     "output_type": "stream",
     "text": [
      "{'val_loss': 1.2895884047139365, 'val_accuracy': 0.6644970414201183, 'precision': 0.6284094889792943, 'recall': 0.6644970414201183, 'f1-score': 0.6275051260249749, 'macro_f1-score': 0.34929995605319214, 'balanced_accuracy': 0.3475726833846872, 'mcc': 0.5447869922222226, 'train_loss': 1.160091554681341}\n",
      "Epoch 3/20\n"
     ]
    },
    {
     "name": "stderr",
     "output_type": "stream",
     "text": [
      "100%|██████████| 835/835 [01:12<00:00, 11.46it/s]\n"
     ]
    },
    {
     "name": "stdout",
     "output_type": "stream",
     "text": [
      "{'val_loss': 1.285749796285944, 'val_accuracy': 0.6585798816568047, 'precision': 0.6555629231012933, 'recall': 0.6585798816568047, 'f1-score': 0.6421806672339899, 'macro_f1-score': 0.35723555382500777, 'balanced_accuracy': 0.37617728082368573, 'mcc': 0.5467572658177371, 'train_loss': 0.7163275872965059}\n",
      "Epoch 4/20\n"
     ]
    },
    {
     "name": "stderr",
     "output_type": "stream",
     "text": [
      "100%|██████████| 835/835 [01:12<00:00, 11.47it/s]\n"
     ]
    },
    {
     "name": "stdout",
     "output_type": "stream",
     "text": [
      "{'val_loss': 1.3337257532578595, 'val_accuracy': 0.6710059171597633, 'precision': 0.6718387700308027, 'recall': 0.6710059171597633, 'f1-score': 0.6604536535298221, 'macro_f1-score': 0.3846777076686174, 'balanced_accuracy': 0.39394546281714804, 'mcc': 0.5669733754955165, 'train_loss': 0.4978392774395332}\n",
      "Epoch 5/20\n"
     ]
    },
    {
     "name": "stderr",
     "output_type": "stream",
     "text": [
      "100%|██████████| 835/835 [01:12<00:00, 11.47it/s]\n"
     ]
    },
    {
     "name": "stdout",
     "output_type": "stream",
     "text": [
      "{'val_loss': 1.3768768628250878, 'val_accuracy': 0.6994082840236686, 'precision': 0.6720537651568798, 'recall': 0.6994082840236686, 'f1-score': 0.6577812618287294, 'macro_f1-score': 0.36716902793549694, 'balanced_accuracy': 0.3301596997779858, 'mcc': 0.5842774496565861, 'train_loss': 0.40210251595356505}\n",
      "Epoch 6/20\n"
     ]
    },
    {
     "name": "stderr",
     "output_type": "stream",
     "text": [
      "100%|██████████| 835/835 [01:12<00:00, 11.46it/s]\n"
     ]
    },
    {
     "name": "stdout",
     "output_type": "stream",
     "text": [
      "{'val_loss': 1.4362113775228553, 'val_accuracy': 0.6828402366863905, 'precision': 0.6911169813806967, 'recall': 0.6828402366863905, 'f1-score': 0.6666871334829031, 'macro_f1-score': 0.40045069906512754, 'balanced_accuracy': 0.39389471763675105, 'mcc': 0.5768816676490685, 'train_loss': 0.3325735802310491}\n",
      "Epoch 7/20\n"
     ]
    },
    {
     "name": "stderr",
     "output_type": "stream",
     "text": [
      "100%|██████████| 835/835 [01:12<00:00, 11.48it/s]\n"
     ]
    },
    {
     "name": "stdout",
     "output_type": "stream",
     "text": [
      "{'val_loss': 1.499103233921078, 'val_accuracy': 0.6857988165680473, 'precision': 0.6825904243821274, 'recall': 0.6857988165680473, 'f1-score': 0.6685951303832678, 'macro_f1-score': 0.3859224150350829, 'balanced_accuracy': 0.38167922276292726, 'mcc': 0.5811911065217481, 'train_loss': 0.2948919472373844}\n",
      "Epoch 8/20\n"
     ]
    },
    {
     "name": "stderr",
     "output_type": "stream",
     "text": [
      "100%|██████████| 835/835 [01:12<00:00, 11.48it/s]\n"
     ]
    },
    {
     "name": "stdout",
     "output_type": "stream",
     "text": [
      "{'val_loss': 1.5621689043517382, 'val_accuracy': 0.6810650887573965, 'precision': 0.6798184519369147, 'recall': 0.6810650887573965, 'f1-score': 0.6656862146911167, 'macro_f1-score': 0.40344287016612573, 'balanced_accuracy': 0.3898502148092816, 'mcc': 0.5702728065625945, 'train_loss': 0.27595864157164524}\n",
      "Epoch 9/20\n"
     ]
    },
    {
     "name": "stderr",
     "output_type": "stream",
     "text": [
      "100%|██████████| 835/835 [01:12<00:00, 11.47it/s]\n"
     ]
    },
    {
     "name": "stdout",
     "output_type": "stream",
     "text": [
      "{'val_loss': 1.5014158830327808, 'val_accuracy': 0.6863905325443787, 'precision': 0.6763581305113471, 'recall': 0.6863905325443787, 'f1-score': 0.6629457098772352, 'macro_f1-score': 0.39235961799336416, 'balanced_accuracy': 0.3773942520579998, 'mcc': 0.5779441997797734, 'train_loss': 0.25342452089932416}\n",
      "Epoch 10/20\n"
     ]
    },
    {
     "name": "stderr",
     "output_type": "stream",
     "text": [
      "100%|██████████| 835/835 [01:12<00:00, 11.48it/s]\n"
     ]
    },
    {
     "name": "stdout",
     "output_type": "stream",
     "text": [
      "{'val_loss': 1.6177163883200232, 'val_accuracy': 0.6846153846153846, 'precision': 0.6813650215112379, 'recall': 0.6846153846153846, 'f1-score': 0.6598194776069776, 'macro_f1-score': 0.3878829892394821, 'balanced_accuracy': 0.36520238482238193, 'mcc': 0.5779978961609573, 'train_loss': 0.2379396199846841}\n",
      "Epoch 11/20\n"
     ]
    },
    {
     "name": "stderr",
     "output_type": "stream",
     "text": [
      "100%|██████████| 835/835 [01:12<00:00, 11.47it/s]\n"
     ]
    },
    {
     "name": "stdout",
     "output_type": "stream",
     "text": [
      "{'val_loss': 1.637164797598742, 'val_accuracy': 0.6893491124260355, 'precision': 0.685709993994168, 'recall': 0.6893491124260355, 'f1-score': 0.6757879008303161, 'macro_f1-score': 0.42108695686136394, 'balanced_accuracy': 0.3897545426447641, 'mcc': 0.5836709093447415, 'train_loss': 0.2203629774777609}\n",
      "Epoch 12/20\n"
     ]
    },
    {
     "name": "stderr",
     "output_type": "stream",
     "text": [
      "100%|██████████| 835/835 [01:12<00:00, 11.47it/s]\n"
     ]
    },
    {
     "name": "stdout",
     "output_type": "stream",
     "text": [
      "{'val_loss': 1.6236126299174327, 'val_accuracy': 0.6905325443786983, 'precision': 0.6770119694606608, 'recall': 0.6905325443786983, 'f1-score': 0.663979838495145, 'macro_f1-score': 0.384861856570975, 'balanced_accuracy': 0.3439502940052903, 'mcc': 0.5785998024337494, 'train_loss': 0.20537426814793827}\n",
      "Epoch 13/20\n"
     ]
    },
    {
     "name": "stderr",
     "output_type": "stream",
     "text": [
      "100%|██████████| 835/835 [01:12<00:00, 11.49it/s]\n"
     ]
    },
    {
     "name": "stdout",
     "output_type": "stream",
     "text": [
      "{'val_loss': 1.6560488039592527, 'val_accuracy': 0.6804733727810651, 'precision': 0.6600656306882039, 'recall': 0.6804733727810651, 'f1-score': 0.6587383988728377, 'macro_f1-score': 0.3658355150362016, 'balanced_accuracy': 0.3633746905673593, 'mcc': 0.5703859849215019, 'train_loss': 0.20778005344034758}\n",
      "Epoch 14/20\n"
     ]
    },
    {
     "name": "stderr",
     "output_type": "stream",
     "text": [
      "100%|██████████| 835/835 [01:12<00:00, 11.47it/s]\n"
     ]
    },
    {
     "name": "stdout",
     "output_type": "stream",
     "text": [
      "{'val_loss': 1.701512801478494, 'val_accuracy': 0.685207100591716, 'precision': 0.6709858806095647, 'recall': 0.685207100591716, 'f1-score': 0.6620631619044501, 'macro_f1-score': 0.3827438321669331, 'balanced_accuracy': 0.36524217278757737, 'mcc': 0.5743964550182142, 'train_loss': 0.2020751469447919}\n",
      "Early stopping.\n",
      "\n",
      " === roberta-base + cnn + word2vec Final 5-fold Cross-Validation Results ===\n",
      "Total time: 3538 seconds\n",
      "Total time: 0 hrs 58 mins 58 secs\n",
      "val_loss: 1.4185\n",
      "val_accuracy: 0.6710\n",
      "precision: 0.6840\n",
      "recall: 0.6710\n",
      "f1-score: 0.6616\n",
      "macro_f1-score: 0.4221\n",
      "balanced_accuracy: 0.4240\n",
      "mcc: 0.5650\n",
      "train_loss: 0.4539\n",
      "▶ Running: roberta-base + bilstm + word2vec\n",
      "tokenizer is roberta-base\n",
      "Using device: cuda\n",
      "CUDA Available: True\n",
      "CUDA Device: NVIDIA GeForce RTX 5070 Ti\n",
      "Current GPU Memory Allocated: 0.02 GB\n",
      "Current GPU Memory Cached: 3.92 GB\n",
      "\n",
      "[Fold 1]\n",
      "🚀 Using Word2Vec for data augmentation\n",
      "🔧 Augmenting label 1: 25 → 200 (+175)\n",
      "🔧 Augmenting label 2: 112 → 200 (+88)\n",
      "🔧 Augmenting label 3: 24 → 200 (+176)\n",
      "🔧 Augmenting label 5: 116 → 200 (+84)\n",
      "🔧 Augmenting label 6: 95 → 200 (+105)\n",
      "🔧 Augmenting label 7: 31 → 200 (+169)\n",
      "🔧 Augmenting label 8: 68 → 200 (+132)\n",
      "🔧 Augmenting label 9: 65 → 200 (+135)\n",
      "🔧 Augmenting label 10: 70 → 200 (+130)\n",
      "🔧 Augmenting label 11: 172 → 200 (+28)\n",
      "🔧 Augmenting label 12: 193 → 200 (+7)\n",
      "🔧 Augmenting label 13: 29 → 200 (+171)\n",
      "🔧 Augmenting label 14: 23 → 200 (+177)\n",
      "🔧 Augmenting label 15: 25 → 200 (+175)\n",
      "🔧 Augmenting label 16: 20 → 200 (+180)\n",
      "🔧 Augmenting label 18: 93 → 200 (+107)\n",
      "🔧 Augmenting label 19: 45 → 200 (+155)\n",
      "🔧 Augmenting label 20: 14 → 200 (+186)\n",
      "🔧 Augmenting label 21: 35 → 200 (+165)\n",
      "🔧 Augmenting label 22: 78 → 200 (+122)\n",
      "🔧 Augmenting label 23: 160 → 200 (+40)\n",
      "🔧 Augmenting label 24: 16 → 200 (+184)\n",
      "🔧 Augmenting label 25: 50 → 200 (+150)\n",
      "🔧 Augmenting label 26: 86 → 200 (+114)\n",
      "🔧 Augmenting label 27: 49 → 200 (+151)\n",
      "🔧 Augmenting label 28: 12 → 200 (+188)\n",
      "🔧 Augmenting label 29: 13 → 200 (+187)\n",
      "🔧 Augmenting label 30: 15 → 200 (+185)\n",
      "🔧 Augmenting label 31: 80 → 200 (+120)\n",
      "🔧 Augmenting label 32: 36 → 200 (+164)\n",
      "🔧 Augmenting label 33: 32 → 200 (+168)\n",
      "🔧 Augmenting label 34: 30 → 200 (+170)\n",
      "🔧 Augmenting label 35: 12 → 200 (+188)\n",
      "🔧 Augmenting label 36: 28 → 200 (+172)\n",
      "🔧 Augmenting label 37: 21 → 200 (+179)\n",
      "🔧 Augmenting label 38: 6 → 200 (+194)\n",
      "🔧 Augmenting label 39: 103 → 200 (+97)\n",
      "🔧 Augmenting label 40: 12 → 200 (+188)\n",
      "🔧 Augmenting label 41: 8 → 200 (+192)\n",
      "🔧 Augmenting label 42: 147 → 200 (+53)\n",
      "🔧 Augmenting label 43: 16 → 200 (+184)\n",
      "🔧 Augmenting label 44: 20 → 200 (+180)\n",
      "🔧 Augmenting label 45: 9 → 200 (+191)\n",
      "🔧 Augmenting label 46: 54 → 200 (+146)\n",
      "🔧 Augmenting label 49: 69 → 200 (+131)\n",
      "Label distribution after resampling:\n",
      "  label 0: 3179\n",
      "  label 1: 200\n",
      "  label 2: 200\n",
      "  label 3: 200\n",
      "  label 4: 205\n",
      "  label 5: 200\n",
      "  label 6: 200\n",
      "  label 7: 200\n",
      "  label 8: 200\n",
      "  label 9: 200\n",
      "  label 10: 200\n",
      "  label 11: 200\n",
      "  label 12: 200\n",
      "  label 13: 200\n",
      "  label 14: 200\n",
      "  label 15: 200\n",
      "  label 16: 200\n",
      "  label 17: 231\n",
      "  label 18: 200\n",
      "  label 19: 200\n",
      "  label 20: 200\n",
      "  label 21: 200\n",
      "  label 22: 200\n",
      "  label 23: 200\n",
      "  label 24: 200\n",
      "  label 25: 200\n",
      "  label 26: 200\n",
      "  label 27: 200\n",
      "  label 28: 200\n",
      "  label 29: 200\n",
      "  label 30: 200\n",
      "  label 31: 200\n",
      "  label 32: 200\n",
      "  label 33: 200\n",
      "  label 34: 200\n",
      "  label 35: 200\n",
      "  label 36: 200\n",
      "  label 37: 200\n",
      "  label 38: 200\n",
      "  label 39: 200\n",
      "  label 40: 200\n",
      "  label 41: 200\n",
      "  label 42: 200\n",
      "  label 43: 200\n",
      "  label 44: 200\n",
      "  label 45: 200\n",
      "  label 46: 200\n",
      "  label 47: 529\n",
      "  label 48: 202\n",
      "  label 49: 200\n",
      "model is roberta-base bilstm\n"
     ]
    },
    {
     "name": "stderr",
     "output_type": "stream",
     "text": [
      "Some weights of RobertaModel were not initialized from the model checkpoint at roberta-base and are newly initialized: ['pooler.dense.bias', 'pooler.dense.weight']\n",
      "You should probably TRAIN this model on a down-stream task to be able to use it for predictions and inference.\n"
     ]
    },
    {
     "name": "stdout",
     "output_type": "stream",
     "text": [
      "Epoch 1/20\n"
     ]
    },
    {
     "name": "stderr",
     "output_type": "stream",
     "text": [
      "100%|██████████| 835/835 [01:19<00:00, 10.54it/s]\n"
     ]
    },
    {
     "name": "stdout",
     "output_type": "stream",
     "text": [
      "{'val_loss': 1.6541211863733687, 'val_accuracy': 0.5718509757539917, 'precision': 0.5125679412188726, 'recall': 0.5718509757539917, 'f1-score': 0.5036356462482992, 'macro_f1-score': 0.18485590753829922, 'balanced_accuracy': 0.23890648431367503, 'mcc': 0.40824038008857577, 'train_loss': 2.5720560440046345}\n",
      "Epoch 2/20\n"
     ]
    },
    {
     "name": "stderr",
     "output_type": "stream",
     "text": [
      "100%|██████████| 835/835 [01:18<00:00, 10.57it/s]\n"
     ]
    },
    {
     "name": "stdout",
     "output_type": "stream",
     "text": [
      "{'val_loss': 1.4308351244566575, 'val_accuracy': 0.6114725014784151, 'precision': 0.5735927940816836, 'recall': 0.6114725014784151, 'f1-score': 0.5655965130815329, 'macro_f1-score': 0.2935152011290496, 'balanced_accuracy': 0.32197520850383166, 'mcc': 0.46501444655980395, 'train_loss': 1.567408410303607}\n",
      "Epoch 3/20\n"
     ]
    },
    {
     "name": "stderr",
     "output_type": "stream",
     "text": [
      "100%|██████████| 835/835 [01:19<00:00, 10.55it/s]\n"
     ]
    },
    {
     "name": "stdout",
     "output_type": "stream",
     "text": [
      "{'val_loss': 1.3910720494558226, 'val_accuracy': 0.6250739207569486, 'precision': 0.6333704117849132, 'recall': 0.6250739207569486, 'f1-score': 0.5891575702978961, 'macro_f1-score': 0.3114631351783448, 'balanced_accuracy': 0.30784617028423417, 'mcc': 0.48618581581969267, 'train_loss': 1.1315796479850473}\n",
      "Epoch 4/20\n"
     ]
    },
    {
     "name": "stderr",
     "output_type": "stream",
     "text": [
      "100%|██████████| 835/835 [01:19<00:00, 10.52it/s]\n"
     ]
    },
    {
     "name": "stdout",
     "output_type": "stream",
     "text": [
      "{'val_loss': 1.3426034309954014, 'val_accuracy': 0.6374926079243052, 'precision': 0.6701569561971596, 'recall': 0.6374926079243052, 'f1-score': 0.6326480825643082, 'macro_f1-score': 0.3835024067720604, 'balanced_accuracy': 0.42281277564011993, 'mcc': 0.5263959661122048, 'train_loss': 0.851768410152304}\n",
      "Epoch 5/20\n"
     ]
    },
    {
     "name": "stderr",
     "output_type": "stream",
     "text": [
      "100%|██████████| 835/835 [01:19<00:00, 10.54it/s]\n"
     ]
    },
    {
     "name": "stdout",
     "output_type": "stream",
     "text": [
      "{'val_loss': 1.40606430791459, 'val_accuracy': 0.6439976345357776, 'precision': 0.6455717540411702, 'recall': 0.6439976345357776, 'f1-score': 0.6185097283938722, 'macro_f1-score': 0.3708132432544647, 'balanced_accuracy': 0.38333653392807976, 'mcc': 0.5194842780361971, 'train_loss': 0.6720848238329866}\n",
      "Epoch 6/20\n"
     ]
    },
    {
     "name": "stderr",
     "output_type": "stream",
     "text": [
      "100%|██████████| 835/835 [01:19<00:00, 10.54it/s]\n"
     ]
    },
    {
     "name": "stdout",
     "output_type": "stream",
     "text": [
      "{'val_loss': 1.4891889072814077, 'val_accuracy': 0.622708456534595, 'precision': 0.6396212460776372, 'recall': 0.622708456534595, 'f1-score': 0.6188541187387215, 'macro_f1-score': 0.35566842303593565, 'balanced_accuracy': 0.39117100441566527, 'mcc': 0.5117677378104318, 'train_loss': 0.5797955915421069}\n",
      "Epoch 7/20\n"
     ]
    },
    {
     "name": "stderr",
     "output_type": "stream",
     "text": [
      "100%|██████████| 835/835 [01:19<00:00, 10.55it/s]\n"
     ]
    },
    {
     "name": "stdout",
     "output_type": "stream",
     "text": [
      "{'val_loss': 1.3859854344770592, 'val_accuracy': 0.6747486694263749, 'precision': 0.6731375664370981, 'recall': 0.6747486694263749, 'f1-score': 0.6478346166996521, 'macro_f1-score': 0.3907587224089819, 'balanced_accuracy': 0.3897257874114407, 'mcc': 0.5600572487816361, 'train_loss': 0.46395674843988016}\n",
      "Epoch 8/20\n"
     ]
    },
    {
     "name": "stderr",
     "output_type": "stream",
     "text": [
      "100%|██████████| 835/835 [01:19<00:00, 10.52it/s]\n"
     ]
    },
    {
     "name": "stdout",
     "output_type": "stream",
     "text": [
      "{'val_loss': 1.4685884444218762, 'val_accuracy': 0.6528681253696038, 'precision': 0.6640105903117216, 'recall': 0.6528681253696038, 'f1-score': 0.6497157761946641, 'macro_f1-score': 0.3892559050754364, 'balanced_accuracy': 0.4075776539017925, 'mcc': 0.543123169664721, 'train_loss': 0.4286191691148156}\n",
      "Epoch 9/20\n"
     ]
    },
    {
     "name": "stderr",
     "output_type": "stream",
     "text": [
      "100%|██████████| 835/835 [01:19<00:00, 10.53it/s]\n"
     ]
    },
    {
     "name": "stdout",
     "output_type": "stream",
     "text": [
      "{'val_loss': 1.4574889830260906, 'val_accuracy': 0.6688350088704909, 'precision': 0.676664325985381, 'recall': 0.6688350088704909, 'f1-score': 0.661929857141266, 'macro_f1-score': 0.43314233954801873, 'balanced_accuracy': 0.42428009482712986, 'mcc': 0.564255994074409, 'train_loss': 0.37399024250220037}\n",
      "Epoch 10/20\n"
     ]
    },
    {
     "name": "stderr",
     "output_type": "stream",
     "text": [
      "100%|██████████| 835/835 [01:19<00:00, 10.52it/s]\n"
     ]
    },
    {
     "name": "stdout",
     "output_type": "stream",
     "text": [
      "{'val_loss': 1.5337580161274604, 'val_accuracy': 0.6682436428149024, 'precision': 0.6742316669001327, 'recall': 0.6682436428149024, 'f1-score': 0.6537930090253198, 'macro_f1-score': 0.41576051179283235, 'balanced_accuracy': 0.4201057992594299, 'mcc': 0.5610795872253478, 'train_loss': 0.32740438520283754}\n",
      "Epoch 11/20\n"
     ]
    },
    {
     "name": "stderr",
     "output_type": "stream",
     "text": [
      "100%|██████████| 835/835 [01:19<00:00, 10.52it/s]\n"
     ]
    },
    {
     "name": "stdout",
     "output_type": "stream",
     "text": [
      "{'val_loss': 1.5379353067222632, 'val_accuracy': 0.6558249556475458, 'precision': 0.6809608299728711, 'recall': 0.6558249556475458, 'f1-score': 0.6528420257377637, 'macro_f1-score': 0.4029685502517119, 'balanced_accuracy': 0.41202940261174237, 'mcc': 0.5454268989678043, 'train_loss': 0.3093937862541772}\n",
      "Epoch 12/20\n"
     ]
    },
    {
     "name": "stderr",
     "output_type": "stream",
     "text": [
      "100%|██████████| 835/835 [01:19<00:00, 10.57it/s]\n"
     ]
    },
    {
     "name": "stdout",
     "output_type": "stream",
     "text": [
      "{'val_loss': 1.5938286910641868, 'val_accuracy': 0.6558249556475458, 'precision': 0.6607881544971664, 'recall': 0.6558249556475458, 'f1-score': 0.6476470511964207, 'macro_f1-score': 0.398956249486135, 'balanced_accuracy': 0.39667981484380715, 'mcc': 0.5448343668261612, 'train_loss': 0.3041487657715996}\n",
      "Early stopping.\n",
      "\n",
      "[Fold 2]\n",
      "🚀 Using Word2Vec for data augmentation\n",
      "🔧 Augmenting label 1: 25 → 200 (+175)\n",
      "🔧 Augmenting label 2: 112 → 200 (+88)\n",
      "🔧 Augmenting label 3: 24 → 200 (+176)\n",
      "🔧 Augmenting label 5: 116 → 200 (+84)\n",
      "🔧 Augmenting label 6: 94 → 200 (+106)\n",
      "🔧 Augmenting label 7: 31 → 200 (+169)\n",
      "🔧 Augmenting label 8: 68 → 200 (+132)\n",
      "🔧 Augmenting label 9: 65 → 200 (+135)\n",
      "🔧 Augmenting label 10: 70 → 200 (+130)\n",
      "🔧 Augmenting label 11: 172 → 200 (+28)\n",
      "🔧 Augmenting label 12: 193 → 200 (+7)\n",
      "🔧 Augmenting label 13: 29 → 200 (+171)\n",
      "🔧 Augmenting label 14: 23 → 200 (+177)\n",
      "🔧 Augmenting label 15: 25 → 200 (+175)\n",
      "🔧 Augmenting label 16: 20 → 200 (+180)\n",
      "🔧 Augmenting label 18: 93 → 200 (+107)\n",
      "🔧 Augmenting label 19: 45 → 200 (+155)\n",
      "🔧 Augmenting label 20: 14 → 200 (+186)\n",
      "🔧 Augmenting label 21: 35 → 200 (+165)\n",
      "🔧 Augmenting label 22: 78 → 200 (+122)\n",
      "🔧 Augmenting label 23: 160 → 200 (+40)\n",
      "🔧 Augmenting label 24: 16 → 200 (+184)\n",
      "🔧 Augmenting label 25: 50 → 200 (+150)\n",
      "🔧 Augmenting label 26: 86 → 200 (+114)\n",
      "🔧 Augmenting label 27: 49 → 200 (+151)\n",
      "🔧 Augmenting label 28: 12 → 200 (+188)\n",
      "🔧 Augmenting label 29: 13 → 200 (+187)\n",
      "🔧 Augmenting label 30: 15 → 200 (+185)\n",
      "🔧 Augmenting label 31: 80 → 200 (+120)\n",
      "🔧 Augmenting label 32: 36 → 200 (+164)\n",
      "🔧 Augmenting label 33: 32 → 200 (+168)\n",
      "🔧 Augmenting label 34: 30 → 200 (+170)\n",
      "🔧 Augmenting label 35: 12 → 200 (+188)\n",
      "🔧 Augmenting label 36: 28 → 200 (+172)\n",
      "🔧 Augmenting label 37: 22 → 200 (+178)\n",
      "🔧 Augmenting label 38: 5 → 200 (+195)\n",
      "🔧 Augmenting label 39: 103 → 200 (+97)\n",
      "🔧 Augmenting label 40: 11 → 200 (+189)\n",
      "🔧 Augmenting label 41: 9 → 200 (+191)\n",
      "🔧 Augmenting label 42: 147 → 200 (+53)\n",
      "🔧 Augmenting label 43: 16 → 200 (+184)\n",
      "🔧 Augmenting label 44: 20 → 200 (+180)\n",
      "🔧 Augmenting label 45: 9 → 200 (+191)\n",
      "🔧 Augmenting label 46: 55 → 200 (+145)\n",
      "🔧 Augmenting label 49: 69 → 200 (+131)\n",
      "Label distribution after resampling:\n",
      "  label 0: 3179\n",
      "  label 1: 200\n",
      "  label 2: 200\n",
      "  label 3: 200\n",
      "  label 4: 206\n",
      "  label 5: 200\n",
      "  label 6: 200\n",
      "  label 7: 200\n",
      "  label 8: 200\n",
      "  label 9: 200\n",
      "  label 10: 200\n",
      "  label 11: 200\n",
      "  label 12: 200\n",
      "  label 13: 200\n",
      "  label 14: 200\n",
      "  label 15: 200\n",
      "  label 16: 200\n",
      "  label 17: 231\n",
      "  label 18: 200\n",
      "  label 19: 200\n",
      "  label 20: 200\n",
      "  label 21: 200\n",
      "  label 22: 200\n",
      "  label 23: 200\n",
      "  label 24: 200\n",
      "  label 25: 200\n",
      "  label 26: 200\n",
      "  label 27: 200\n",
      "  label 28: 200\n",
      "  label 29: 200\n",
      "  label 30: 200\n",
      "  label 31: 200\n",
      "  label 32: 200\n",
      "  label 33: 200\n",
      "  label 34: 200\n",
      "  label 35: 200\n",
      "  label 36: 200\n",
      "  label 37: 200\n",
      "  label 38: 200\n",
      "  label 39: 200\n",
      "  label 40: 200\n",
      "  label 41: 200\n",
      "  label 42: 200\n",
      "  label 43: 200\n",
      "  label 44: 200\n",
      "  label 45: 200\n",
      "  label 46: 200\n",
      "  label 47: 528\n",
      "  label 48: 202\n",
      "  label 49: 200\n",
      "model is roberta-base bilstm\n"
     ]
    },
    {
     "name": "stderr",
     "output_type": "stream",
     "text": [
      "Some weights of RobertaModel were not initialized from the model checkpoint at roberta-base and are newly initialized: ['pooler.dense.bias', 'pooler.dense.weight']\n",
      "You should probably TRAIN this model on a down-stream task to be able to use it for predictions and inference.\n"
     ]
    },
    {
     "name": "stdout",
     "output_type": "stream",
     "text": [
      "Epoch 1/20\n"
     ]
    },
    {
     "name": "stderr",
     "output_type": "stream",
     "text": [
      "100%|██████████| 835/835 [01:19<00:00, 10.54it/s]\n"
     ]
    },
    {
     "name": "stdout",
     "output_type": "stream",
     "text": [
      "{'val_loss': 1.8539444090060468, 'val_accuracy': 0.5280898876404494, 'precision': 0.44616886495177926, 'recall': 0.5280898876404494, 'f1-score': 0.4740853223622579, 'macro_f1-score': 0.14410282721176748, 'balanced_accuracy': 0.20739898435542364, 'mcc': 0.35847788023969485, 'train_loss': 2.690155571092389}\n",
      "Epoch 2/20\n"
     ]
    },
    {
     "name": "stderr",
     "output_type": "stream",
     "text": [
      "100%|██████████| 835/835 [01:19<00:00, 10.53it/s]\n"
     ]
    },
    {
     "name": "stdout",
     "output_type": "stream",
     "text": [
      "{'val_loss': 1.5193304104625054, 'val_accuracy': 0.5848610289769367, 'precision': 0.5674209329876346, 'recall': 0.5848610289769367, 'f1-score': 0.5395915740141538, 'macro_f1-score': 0.24808875173930062, 'balanced_accuracy': 0.29195332088235426, 'mcc': 0.435454342905202, 'train_loss': 1.6998781519735644}\n",
      "Epoch 3/20\n"
     ]
    },
    {
     "name": "stderr",
     "output_type": "stream",
     "text": [
      "100%|██████████| 835/835 [01:19<00:00, 10.53it/s]\n"
     ]
    },
    {
     "name": "stdout",
     "output_type": "stream",
     "text": [
      "{'val_loss': 1.4466153987736072, 'val_accuracy': 0.6173861620342992, 'precision': 0.6369592370833789, 'recall': 0.6173861620342992, 'f1-score': 0.5926781499133698, 'macro_f1-score': 0.31787287975911516, 'balanced_accuracy': 0.3597512437152868, 'mcc': 0.4882345467232666, 'train_loss': 1.1865935857781393}\n",
      "Epoch 4/20\n"
     ]
    },
    {
     "name": "stderr",
     "output_type": "stream",
     "text": [
      "100%|██████████| 835/835 [01:19<00:00, 10.55it/s]\n"
     ]
    },
    {
     "name": "stdout",
     "output_type": "stream",
     "text": [
      "{'val_loss': 1.4657347562178127, 'val_accuracy': 0.6162034299231224, 'precision': 0.5994385906229336, 'recall': 0.6162034299231224, 'f1-score': 0.5865119660112809, 'macro_f1-score': 0.31962401142407015, 'balanced_accuracy': 0.35111103323104037, 'mcc': 0.4813287750185833, 'train_loss': 0.8753065205976635}\n",
      "Epoch 5/20\n"
     ]
    },
    {
     "name": "stderr",
     "output_type": "stream",
     "text": [
      "100%|██████████| 835/835 [01:19<00:00, 10.52it/s]\n"
     ]
    },
    {
     "name": "stdout",
     "output_type": "stream",
     "text": [
      "{'val_loss': 1.468832331445982, 'val_accuracy': 0.6522767593140154, 'precision': 0.6568492622480799, 'recall': 0.6522767593140154, 'f1-score': 0.6260871587464102, 'macro_f1-score': 0.3500781647230156, 'balanced_accuracy': 0.3693297937388584, 'mcc': 0.5280378937100562, 'train_loss': 0.6834979028535817}\n",
      "Epoch 6/20\n"
     ]
    },
    {
     "name": "stderr",
     "output_type": "stream",
     "text": [
      "100%|██████████| 835/835 [01:18<00:00, 10.58it/s]\n"
     ]
    },
    {
     "name": "stdout",
     "output_type": "stream",
     "text": [
      "{'val_loss': 1.4919980258311865, 'val_accuracy': 0.6540508574807806, 'precision': 0.6417030544927821, 'recall': 0.6540508574807806, 'f1-score': 0.6353659840287693, 'macro_f1-score': 0.3610280582701703, 'balanced_accuracy': 0.38076016734399043, 'mcc': 0.5358062774730921, 'train_loss': 0.5730935746547348}\n",
      "Epoch 7/20\n"
     ]
    },
    {
     "name": "stderr",
     "output_type": "stream",
     "text": [
      "100%|██████████| 835/835 [01:19<00:00, 10.55it/s]\n"
     ]
    },
    {
     "name": "stdout",
     "output_type": "stream",
     "text": [
      "{'val_loss': 1.5304834879231903, 'val_accuracy': 0.6481371969248965, 'precision': 0.6487055003203471, 'recall': 0.6481371969248965, 'f1-score': 0.6351298355673717, 'macro_f1-score': 0.3558635853521737, 'balanced_accuracy': 0.3591521705243107, 'mcc': 0.5291896740628147, 'train_loss': 0.46667308439751587}\n",
      "Epoch 8/20\n"
     ]
    },
    {
     "name": "stderr",
     "output_type": "stream",
     "text": [
      "100%|██████████| 835/835 [01:19<00:00, 10.53it/s]\n"
     ]
    },
    {
     "name": "stdout",
     "output_type": "stream",
     "text": [
      "{'val_loss': 1.4927091033391233, 'val_accuracy': 0.6428149024246008, 'precision': 0.646833498379696, 'recall': 0.6428149024246008, 'f1-score': 0.6098696940355766, 'macro_f1-score': 0.33641855050306335, 'balanced_accuracy': 0.3554334794502293, 'mcc': 0.5114257466430293, 'train_loss': 0.44568244639092575}\n",
      "Epoch 9/20\n"
     ]
    },
    {
     "name": "stderr",
     "output_type": "stream",
     "text": [
      "100%|██████████| 835/835 [01:19<00:00, 10.52it/s]\n"
     ]
    },
    {
     "name": "stdout",
     "output_type": "stream",
     "text": [
      "{'val_loss': 1.6003792721707866, 'val_accuracy': 0.6629213483146067, 'precision': 0.6417941757958975, 'recall': 0.6629213483146067, 'f1-score': 0.6350560172367957, 'macro_f1-score': 0.3599598541254835, 'balanced_accuracy': 0.34754310411524914, 'mcc': 0.5387034724078582, 'train_loss': 0.40605241058472386}\n",
      "Early stopping.\n",
      "\n",
      "[Fold 3]\n",
      "🚀 Using Word2Vec for data augmentation\n",
      "🔧 Augmenting label 1: 25 → 200 (+175)\n",
      "🔧 Augmenting label 2: 112 → 200 (+88)\n",
      "🔧 Augmenting label 3: 24 → 200 (+176)\n",
      "🔧 Augmenting label 5: 116 → 200 (+84)\n",
      "🔧 Augmenting label 6: 94 → 200 (+106)\n",
      "🔧 Augmenting label 7: 31 → 200 (+169)\n",
      "🔧 Augmenting label 8: 68 → 200 (+132)\n",
      "🔧 Augmenting label 9: 65 → 200 (+135)\n",
      "🔧 Augmenting label 10: 71 → 200 (+129)\n",
      "🔧 Augmenting label 11: 172 → 200 (+28)\n",
      "🔧 Augmenting label 12: 192 → 200 (+8)\n",
      "🔧 Augmenting label 13: 29 → 200 (+171)\n",
      "🔧 Augmenting label 14: 23 → 200 (+177)\n",
      "🔧 Augmenting label 15: 25 → 200 (+175)\n",
      "🔧 Augmenting label 16: 20 → 200 (+180)\n",
      "🔧 Augmenting label 18: 93 → 200 (+107)\n",
      "🔧 Augmenting label 19: 45 → 200 (+155)\n",
      "🔧 Augmenting label 20: 14 → 200 (+186)\n",
      "🔧 Augmenting label 21: 36 → 200 (+164)\n",
      "🔧 Augmenting label 22: 77 → 200 (+123)\n",
      "🔧 Augmenting label 23: 160 → 200 (+40)\n",
      "🔧 Augmenting label 24: 16 → 200 (+184)\n",
      "🔧 Augmenting label 25: 51 → 200 (+149)\n",
      "🔧 Augmenting label 26: 85 → 200 (+115)\n",
      "🔧 Augmenting label 27: 49 → 200 (+151)\n",
      "🔧 Augmenting label 28: 12 → 200 (+188)\n",
      "🔧 Augmenting label 29: 12 → 200 (+188)\n",
      "🔧 Augmenting label 30: 16 → 200 (+184)\n",
      "🔧 Augmenting label 31: 80 → 200 (+120)\n",
      "🔧 Augmenting label 32: 36 → 200 (+164)\n",
      "🔧 Augmenting label 33: 32 → 200 (+168)\n",
      "🔧 Augmenting label 34: 29 → 200 (+171)\n",
      "🔧 Augmenting label 35: 12 → 200 (+188)\n",
      "🔧 Augmenting label 36: 28 → 200 (+172)\n",
      "🔧 Augmenting label 37: 22 → 200 (+178)\n",
      "🔧 Augmenting label 38: 5 → 200 (+195)\n",
      "🔧 Augmenting label 39: 103 → 200 (+97)\n",
      "🔧 Augmenting label 40: 11 → 200 (+189)\n",
      "🔧 Augmenting label 41: 9 → 200 (+191)\n",
      "🔧 Augmenting label 42: 147 → 200 (+53)\n",
      "🔧 Augmenting label 43: 16 → 200 (+184)\n",
      "🔧 Augmenting label 44: 20 → 200 (+180)\n",
      "🔧 Augmenting label 45: 9 → 200 (+191)\n",
      "🔧 Augmenting label 46: 55 → 200 (+145)\n",
      "🔧 Augmenting label 49: 70 → 200 (+130)\n",
      "Label distribution after resampling:\n",
      "  label 0: 3179\n",
      "  label 1: 200\n",
      "  label 2: 200\n",
      "  label 3: 200\n",
      "  label 4: 206\n",
      "  label 5: 200\n",
      "  label 6: 200\n",
      "  label 7: 200\n",
      "  label 8: 200\n",
      "  label 9: 200\n",
      "  label 10: 200\n",
      "  label 11: 200\n",
      "  label 12: 200\n",
      "  label 13: 200\n",
      "  label 14: 200\n",
      "  label 15: 200\n",
      "  label 16: 200\n",
      "  label 17: 231\n",
      "  label 18: 200\n",
      "  label 19: 200\n",
      "  label 20: 200\n",
      "  label 21: 200\n",
      "  label 22: 200\n",
      "  label 23: 200\n",
      "  label 24: 200\n",
      "  label 25: 200\n",
      "  label 26: 200\n",
      "  label 27: 200\n",
      "  label 28: 200\n",
      "  label 29: 200\n",
      "  label 30: 200\n",
      "  label 31: 200\n",
      "  label 32: 200\n",
      "  label 33: 200\n",
      "  label 34: 200\n",
      "  label 35: 200\n",
      "  label 36: 200\n",
      "  label 37: 200\n",
      "  label 38: 200\n",
      "  label 39: 200\n",
      "  label 40: 200\n",
      "  label 41: 200\n",
      "  label 42: 200\n",
      "  label 43: 200\n",
      "  label 44: 200\n",
      "  label 45: 200\n",
      "  label 46: 200\n",
      "  label 47: 529\n",
      "  label 48: 201\n",
      "  label 49: 200\n",
      "model is roberta-base bilstm\n"
     ]
    },
    {
     "name": "stderr",
     "output_type": "stream",
     "text": [
      "Some weights of RobertaModel were not initialized from the model checkpoint at roberta-base and are newly initialized: ['pooler.dense.bias', 'pooler.dense.weight']\n",
      "You should probably TRAIN this model on a down-stream task to be able to use it for predictions and inference.\n"
     ]
    },
    {
     "name": "stdout",
     "output_type": "stream",
     "text": [
      "Epoch 1/20\n"
     ]
    },
    {
     "name": "stderr",
     "output_type": "stream",
     "text": [
      "100%|██████████| 835/835 [01:19<00:00, 10.54it/s]\n"
     ]
    },
    {
     "name": "stdout",
     "output_type": "stream",
     "text": [
      "{'val_loss': 1.7850341414505582, 'val_accuracy': 0.543465405085748, 'precision': 0.5068480262927848, 'recall': 0.543465405085748, 'f1-score': 0.49303172065235723, 'macro_f1-score': 0.14574223820906945, 'balanced_accuracy': 0.23243120563816003, 'mcc': 0.38212718117865846, 'train_loss': 2.7210436363063173}\n",
      "Epoch 2/20\n"
     ]
    },
    {
     "name": "stderr",
     "output_type": "stream",
     "text": [
      "100%|██████████| 835/835 [01:19<00:00, 10.56it/s]\n"
     ]
    },
    {
     "name": "stdout",
     "output_type": "stream",
     "text": [
      "{'val_loss': 1.4867292046546936, 'val_accuracy': 0.5901833234772325, 'precision': 0.5920296584220393, 'recall': 0.5901833234772325, 'f1-score': 0.5627649824035985, 'macro_f1-score': 0.2646453843834262, 'balanced_accuracy': 0.3250186311259709, 'mcc': 0.46140287101211447, 'train_loss': 1.6961768303802627}\n",
      "Epoch 3/20\n"
     ]
    },
    {
     "name": "stderr",
     "output_type": "stream",
     "text": [
      "100%|██████████| 835/835 [01:19<00:00, 10.55it/s]\n"
     ]
    },
    {
     "name": "stdout",
     "output_type": "stream",
     "text": [
      "{'val_loss': 1.5812626230829168, 'val_accuracy': 0.5629804849201656, 'precision': 0.5903436323930183, 'recall': 0.5629804849201656, 'f1-score': 0.5532968160636291, 'macro_f1-score': 0.29809000241705763, 'balanced_accuracy': 0.373386801213464, 'mcc': 0.44835861418016637, 'train_loss': 1.1759125543568663}\n",
      "Epoch 4/20\n"
     ]
    },
    {
     "name": "stderr",
     "output_type": "stream",
     "text": [
      "100%|██████████| 835/835 [01:18<00:00, 10.59it/s]\n"
     ]
    },
    {
     "name": "stdout",
     "output_type": "stream",
     "text": [
      "{'val_loss': 1.3903197983525835, 'val_accuracy': 0.6321703134240094, 'precision': 0.6475863773556699, 'recall': 0.6321703134240094, 'f1-score': 0.6222743170163415, 'macro_f1-score': 0.3645295203372051, 'balanced_accuracy': 0.3926337067559228, 'mcc': 0.5116371122391467, 'train_loss': 0.8993919910784967}\n",
      "Epoch 5/20\n"
     ]
    },
    {
     "name": "stderr",
     "output_type": "stream",
     "text": [
      "100%|██████████| 835/835 [01:19<00:00, 10.54it/s]\n"
     ]
    },
    {
     "name": "stdout",
     "output_type": "stream",
     "text": [
      "{'val_loss': 1.414363221458669, 'val_accuracy': 0.6499112950916618, 'precision': 0.6485846095390156, 'recall': 0.6499112950916618, 'f1-score': 0.6222726187318327, 'macro_f1-score': 0.37152800082051024, 'balanced_accuracy': 0.3559074492592019, 'mcc': 0.5214842444389249, 'train_loss': 0.7066662797938564}\n",
      "Epoch 6/20\n"
     ]
    },
    {
     "name": "stderr",
     "output_type": "stream",
     "text": [
      "100%|██████████| 835/835 [01:19<00:00, 10.54it/s]\n"
     ]
    },
    {
     "name": "stdout",
     "output_type": "stream",
     "text": [
      "{'val_loss': 1.4182364608881608, 'val_accuracy': 0.6457717327025428, 'precision': 0.6459252270670853, 'recall': 0.6457717327025428, 'f1-score': 0.6262221677405211, 'macro_f1-score': 0.3761102512015178, 'balanced_accuracy': 0.39819129018359173, 'mcc': 0.5321436428049409, 'train_loss': 0.5815355220419204}\n",
      "Epoch 7/20\n"
     ]
    },
    {
     "name": "stderr",
     "output_type": "stream",
     "text": [
      "100%|██████████| 835/835 [01:19<00:00, 10.53it/s]\n"
     ]
    },
    {
     "name": "stdout",
     "output_type": "stream",
     "text": [
      "{'val_loss': 1.5609871756355718, 'val_accuracy': 0.6114725014784151, 'precision': 0.6476417909270368, 'recall': 0.6114725014784151, 'f1-score': 0.6149282379497268, 'macro_f1-score': 0.3496461712157351, 'balanced_accuracy': 0.401375257954754, 'mcc': 0.509497490886108, 'train_loss': 0.4925489106845713}\n",
      "Epoch 8/20\n"
     ]
    },
    {
     "name": "stderr",
     "output_type": "stream",
     "text": [
      "100%|██████████| 835/835 [01:18<00:00, 10.58it/s]\n"
     ]
    },
    {
     "name": "stdout",
     "output_type": "stream",
     "text": [
      "{'val_loss': 1.519770768734644, 'val_accuracy': 0.6262566528681254, 'precision': 0.6540194205281826, 'recall': 0.6262566528681254, 'f1-score': 0.626021235026116, 'macro_f1-score': 0.37385763520406584, 'balanced_accuracy': 0.38737288454171276, 'mcc': 0.5130227028434238, 'train_loss': 0.4324883939687185}\n",
      "Epoch 9/20\n"
     ]
    },
    {
     "name": "stderr",
     "output_type": "stream",
     "text": [
      "100%|██████████| 835/835 [01:19<00:00, 10.53it/s]\n"
     ]
    },
    {
     "name": "stdout",
     "output_type": "stream",
     "text": [
      "{'val_loss': 1.5083601651888974, 'val_accuracy': 0.6404494382022472, 'precision': 0.6607822312745657, 'recall': 0.6404494382022472, 'f1-score': 0.6345842853499318, 'macro_f1-score': 0.35544037694699115, 'balanced_accuracy': 0.3563650097554623, 'mcc': 0.5287508032634577, 'train_loss': 0.36662481949848685}\n",
      "Early stopping.\n",
      "\n",
      "[Fold 4]\n",
      "🚀 Using Word2Vec for data augmentation\n",
      "🔧 Augmenting label 1: 25 → 200 (+175)\n",
      "🔧 Augmenting label 2: 112 → 200 (+88)\n",
      "🔧 Augmenting label 3: 24 → 200 (+176)\n",
      "🔧 Augmenting label 5: 116 → 200 (+84)\n",
      "🔧 Augmenting label 6: 94 → 200 (+106)\n",
      "🔧 Augmenting label 7: 32 → 200 (+168)\n",
      "🔧 Augmenting label 8: 68 → 200 (+132)\n",
      "🔧 Augmenting label 9: 64 → 200 (+136)\n",
      "🔧 Augmenting label 10: 71 → 200 (+129)\n",
      "🔧 Augmenting label 11: 172 → 200 (+28)\n",
      "🔧 Augmenting label 12: 193 → 200 (+7)\n",
      "🔧 Augmenting label 13: 28 → 200 (+172)\n",
      "🔧 Augmenting label 14: 24 → 200 (+176)\n",
      "🔧 Augmenting label 15: 24 → 200 (+176)\n",
      "🔧 Augmenting label 16: 20 → 200 (+180)\n",
      "🔧 Augmenting label 18: 92 → 200 (+108)\n",
      "🔧 Augmenting label 19: 45 → 200 (+155)\n",
      "🔧 Augmenting label 20: 15 → 200 (+185)\n",
      "🔧 Augmenting label 21: 35 → 200 (+165)\n",
      "🔧 Augmenting label 22: 77 → 200 (+123)\n",
      "🔧 Augmenting label 23: 160 → 200 (+40)\n",
      "🔧 Augmenting label 24: 16 → 200 (+184)\n",
      "🔧 Augmenting label 25: 51 → 200 (+149)\n",
      "🔧 Augmenting label 26: 85 → 200 (+115)\n",
      "🔧 Augmenting label 27: 49 → 200 (+151)\n",
      "🔧 Augmenting label 28: 12 → 200 (+188)\n",
      "🔧 Augmenting label 29: 13 → 200 (+187)\n",
      "🔧 Augmenting label 30: 15 → 200 (+185)\n",
      "🔧 Augmenting label 31: 80 → 200 (+120)\n",
      "🔧 Augmenting label 32: 36 → 200 (+164)\n",
      "🔧 Augmenting label 33: 32 → 200 (+168)\n",
      "🔧 Augmenting label 34: 29 → 200 (+171)\n",
      "🔧 Augmenting label 35: 12 → 200 (+188)\n",
      "🔧 Augmenting label 36: 28 → 200 (+172)\n",
      "🔧 Augmenting label 37: 22 → 200 (+178)\n",
      "🔧 Augmenting label 38: 6 → 200 (+194)\n",
      "🔧 Augmenting label 39: 103 → 200 (+97)\n",
      "🔧 Augmenting label 40: 11 → 200 (+189)\n",
      "🔧 Augmenting label 41: 9 → 200 (+191)\n",
      "🔧 Augmenting label 42: 148 → 200 (+52)\n",
      "🔧 Augmenting label 43: 16 → 200 (+184)\n",
      "🔧 Augmenting label 44: 20 → 200 (+180)\n",
      "🔧 Augmenting label 45: 8 → 200 (+192)\n",
      "🔧 Augmenting label 46: 54 → 200 (+146)\n",
      "🔧 Augmenting label 49: 70 → 200 (+130)\n",
      "Label distribution after resampling:\n",
      "  label 0: 3179\n",
      "  label 1: 200\n",
      "  label 2: 200\n",
      "  label 3: 200\n",
      "  label 4: 206\n",
      "  label 5: 200\n",
      "  label 6: 200\n",
      "  label 7: 200\n",
      "  label 8: 200\n",
      "  label 9: 200\n",
      "  label 10: 200\n",
      "  label 11: 200\n",
      "  label 12: 200\n",
      "  label 13: 200\n",
      "  label 14: 200\n",
      "  label 15: 200\n",
      "  label 16: 200\n",
      "  label 17: 232\n",
      "  label 18: 200\n",
      "  label 19: 200\n",
      "  label 20: 200\n",
      "  label 21: 200\n",
      "  label 22: 200\n",
      "  label 23: 200\n",
      "  label 24: 200\n",
      "  label 25: 200\n",
      "  label 26: 200\n",
      "  label 27: 200\n",
      "  label 28: 200\n",
      "  label 29: 200\n",
      "  label 30: 200\n",
      "  label 31: 200\n",
      "  label 32: 200\n",
      "  label 33: 200\n",
      "  label 34: 200\n",
      "  label 35: 200\n",
      "  label 36: 200\n",
      "  label 37: 200\n",
      "  label 38: 200\n",
      "  label 39: 200\n",
      "  label 40: 200\n",
      "  label 41: 200\n",
      "  label 42: 200\n",
      "  label 43: 200\n",
      "  label 44: 200\n",
      "  label 45: 200\n",
      "  label 46: 200\n",
      "  label 47: 529\n",
      "  label 48: 201\n",
      "  label 49: 200\n",
      "model is roberta-base bilstm\n"
     ]
    },
    {
     "name": "stderr",
     "output_type": "stream",
     "text": [
      "Some weights of RobertaModel were not initialized from the model checkpoint at roberta-base and are newly initialized: ['pooler.dense.bias', 'pooler.dense.weight']\n",
      "You should probably TRAIN this model on a down-stream task to be able to use it for predictions and inference.\n"
     ]
    },
    {
     "name": "stdout",
     "output_type": "stream",
     "text": [
      "Epoch 1/20\n"
     ]
    },
    {
     "name": "stderr",
     "output_type": "stream",
     "text": [
      "100%|██████████| 835/835 [01:19<00:00, 10.52it/s]\n"
     ]
    },
    {
     "name": "stdout",
     "output_type": "stream",
     "text": [
      "{'val_loss': 1.614153577752833, 'val_accuracy': 0.5937315198107629, 'precision': 0.4814565628069871, 'recall': 0.5937315198107629, 'f1-score': 0.5109777790236636, 'macro_f1-score': 0.21425168083711363, 'balanced_accuracy': 0.2734541344027004, 'mcc': 0.43227089588229056, 'train_loss': 2.6448794250716707}\n",
      "Epoch 2/20\n"
     ]
    },
    {
     "name": "stderr",
     "output_type": "stream",
     "text": [
      "100%|██████████| 835/835 [01:19<00:00, 10.51it/s]\n"
     ]
    },
    {
     "name": "stdout",
     "output_type": "stream",
     "text": [
      "{'val_loss': 1.3235443247095593, 'val_accuracy': 0.6339444115907746, 'precision': 0.6063590056369697, 'recall': 0.6339444115907746, 'f1-score': 0.6021345118807945, 'macro_f1-score': 0.3237271185754215, 'balanced_accuracy': 0.3792336495349624, 'mcc': 0.5116019102364768, 'train_loss': 1.5371773042721664}\n",
      "Epoch 3/20\n"
     ]
    },
    {
     "name": "stderr",
     "output_type": "stream",
     "text": [
      "100%|██████████| 835/835 [01:19<00:00, 10.53it/s]\n"
     ]
    },
    {
     "name": "stdout",
     "output_type": "stream",
     "text": [
      "{'val_loss': 1.3566372591369558, 'val_accuracy': 0.641632170313424, 'precision': 0.6436292799074627, 'recall': 0.641632170313424, 'f1-score': 0.6165117476453984, 'macro_f1-score': 0.3602463912474036, 'balanced_accuracy': 0.4156466131862331, 'mcc': 0.5260808802567868, 'train_loss': 1.0495816394240556}\n",
      "Epoch 4/20\n"
     ]
    },
    {
     "name": "stderr",
     "output_type": "stream",
     "text": [
      "100%|██████████| 835/835 [01:19<00:00, 10.50it/s]\n"
     ]
    },
    {
     "name": "stdout",
     "output_type": "stream",
     "text": [
      "{'val_loss': 1.3090941830063767, 'val_accuracy': 0.6434062684801892, 'precision': 0.668383786925419, 'recall': 0.6434062684801892, 'f1-score': 0.6364142832745995, 'macro_f1-score': 0.40247285360797946, 'balanced_accuracy': 0.44851084488040777, 'mcc': 0.5431129239308073, 'train_loss': 0.8013315901071012}\n",
      "Epoch 5/20\n"
     ]
    },
    {
     "name": "stderr",
     "output_type": "stream",
     "text": [
      "100%|██████████| 835/835 [01:19<00:00, 10.56it/s]\n"
     ]
    },
    {
     "name": "stdout",
     "output_type": "stream",
     "text": [
      "{'val_loss': 1.2877045577427126, 'val_accuracy': 0.6753400354819633, 'precision': 0.6680926671443572, 'recall': 0.6753400354819633, 'f1-score': 0.646034424588889, 'macro_f1-score': 0.3865839521664086, 'balanced_accuracy': 0.3895562128584087, 'mcc': 0.561721204527256, 'train_loss': 0.6316299631745516}\n",
      "Epoch 6/20\n"
     ]
    },
    {
     "name": "stderr",
     "output_type": "stream",
     "text": [
      "100%|██████████| 835/835 [01:19<00:00, 10.55it/s]\n"
     ]
    },
    {
     "name": "stdout",
     "output_type": "stream",
     "text": [
      "{'val_loss': 1.3967476446392402, 'val_accuracy': 0.6712004730928445, 'precision': 0.6817188699452758, 'recall': 0.6712004730928445, 'f1-score': 0.6580296845990453, 'macro_f1-score': 0.4212384369769518, 'balanced_accuracy': 0.4373217137626575, 'mcc': 0.5673500069930639, 'train_loss': 0.519225515527818}\n",
      "Epoch 7/20\n"
     ]
    },
    {
     "name": "stderr",
     "output_type": "stream",
     "text": [
      "100%|██████████| 835/835 [01:19<00:00, 10.55it/s]\n"
     ]
    },
    {
     "name": "stdout",
     "output_type": "stream",
     "text": [
      "{'val_loss': 1.3667271651749342, 'val_accuracy': 0.6593731519810763, 'precision': 0.6640303117541723, 'recall': 0.6593731519810763, 'f1-score': 0.6440484524824743, 'macro_f1-score': 0.4167089710936845, 'balanced_accuracy': 0.427978897444856, 'mcc': 0.5514171988546758, 'train_loss': 0.448866793366071}\n",
      "Epoch 8/20\n"
     ]
    },
    {
     "name": "stderr",
     "output_type": "stream",
     "text": [
      "100%|██████████| 835/835 [01:19<00:00, 10.54it/s]\n"
     ]
    },
    {
     "name": "stdout",
     "output_type": "stream",
     "text": [
      "{'val_loss': 1.3932506502518114, 'val_accuracy': 0.6794795978710823, 'precision': 0.6880457491049004, 'recall': 0.6794795978710823, 'f1-score': 0.666707998570593, 'macro_f1-score': 0.4296296876097159, 'balanced_accuracy': 0.4384101764524732, 'mcc': 0.5785397099968711, 'train_loss': 0.3871306484799364}\n",
      "Epoch 9/20\n"
     ]
    },
    {
     "name": "stderr",
     "output_type": "stream",
     "text": [
      "100%|██████████| 835/835 [01:19<00:00, 10.55it/s]\n"
     ]
    },
    {
     "name": "stdout",
     "output_type": "stream",
     "text": [
      "{'val_loss': 1.4712096728946802, 'val_accuracy': 0.6836191602602011, 'precision': 0.666342820927695, 'recall': 0.6836191602602011, 'f1-score': 0.6565823957762201, 'macro_f1-score': 0.4147599862984242, 'balanced_accuracy': 0.3841349790568415, 'mcc': 0.568680765837403, 'train_loss': 0.3379370598557466}\n",
      "Epoch 10/20\n"
     ]
    },
    {
     "name": "stderr",
     "output_type": "stream",
     "text": [
      "100%|██████████| 835/835 [01:19<00:00, 10.55it/s]\n"
     ]
    },
    {
     "name": "stdout",
     "output_type": "stream",
     "text": [
      "{'val_loss': 1.4712882559254485, 'val_accuracy': 0.6842105263157895, 'precision': 0.6701925334454316, 'recall': 0.6842105263157895, 'f1-score': 0.6658796219419695, 'macro_f1-score': 0.40507141634090116, 'balanced_accuracy': 0.3939179036408993, 'mcc': 0.5777226804584704, 'train_loss': 0.32741924611416584}\n",
      "Epoch 11/20\n"
     ]
    },
    {
     "name": "stderr",
     "output_type": "stream",
     "text": [
      "100%|██████████| 835/835 [01:19<00:00, 10.56it/s]\n"
     ]
    },
    {
     "name": "stdout",
     "output_type": "stream",
     "text": [
      "{'val_loss': 1.446461967702182, 'val_accuracy': 0.6794795978710823, 'precision': 0.6801098063694949, 'recall': 0.6794795978710823, 'f1-score': 0.6713093181167202, 'macro_f1-score': 0.43961951017090284, 'balanced_accuracy': 0.43568616887417994, 'mcc': 0.578861985297628, 'train_loss': 0.29039338787538027}\n",
      "Epoch 12/20\n"
     ]
    },
    {
     "name": "stderr",
     "output_type": "stream",
     "text": [
      "100%|██████████| 835/835 [01:18<00:00, 10.58it/s]\n"
     ]
    },
    {
     "name": "stdout",
     "output_type": "stream",
     "text": [
      "{'val_loss': 1.4696857853318162, 'val_accuracy': 0.6865759905381431, 'precision': 0.6912814661304619, 'recall': 0.6865759905381431, 'f1-score': 0.677825318941423, 'macro_f1-score': 0.4358853503317291, 'balanced_accuracy': 0.4612446824283421, 'mcc': 0.5877215617663117, 'train_loss': 0.2797293854208139}\n",
      "Epoch 13/20\n"
     ]
    },
    {
     "name": "stderr",
     "output_type": "stream",
     "text": [
      "100%|██████████| 835/835 [01:19<00:00, 10.51it/s]\n"
     ]
    },
    {
     "name": "stdout",
     "output_type": "stream",
     "text": [
      "{'val_loss': 1.4955621888896204, 'val_accuracy': 0.667652276759314, 'precision': 0.6886353761535403, 'recall': 0.667652276759314, 'f1-score': 0.663058189241323, 'macro_f1-score': 0.4425170278471495, 'balanced_accuracy': 0.4457540092439356, 'mcc': 0.5736822556628106, 'train_loss': 0.26184474233827904}\n",
      "Epoch 14/20\n"
     ]
    },
    {
     "name": "stderr",
     "output_type": "stream",
     "text": [
      "100%|██████████| 835/835 [01:19<00:00, 10.53it/s]\n"
     ]
    },
    {
     "name": "stdout",
     "output_type": "stream",
     "text": [
      "{'val_loss': 1.5533317244558964, 'val_accuracy': 0.6735659373151981, 'precision': 0.6797944832372494, 'recall': 0.6735659373151981, 'f1-score': 0.6610586891178993, 'macro_f1-score': 0.4047102304079712, 'balanced_accuracy': 0.3956846887561197, 'mcc': 0.5745320319366383, 'train_loss': 0.24969868997703054}\n",
      "Epoch 15/20\n"
     ]
    },
    {
     "name": "stderr",
     "output_type": "stream",
     "text": [
      "100%|██████████| 835/835 [01:19<00:00, 10.56it/s]\n"
     ]
    },
    {
     "name": "stdout",
     "output_type": "stream",
     "text": [
      "{'val_loss': 1.6135701452786069, 'val_accuracy': 0.6623299822590183, 'precision': 0.6895442517515944, 'recall': 0.6623299822590183, 'f1-score': 0.6623826241355762, 'macro_f1-score': 0.4177233487984019, 'balanced_accuracy': 0.4152483274408014, 'mcc': 0.561800049171707, 'train_loss': 0.24554519868361022}\n",
      "Epoch 16/20\n"
     ]
    },
    {
     "name": "stderr",
     "output_type": "stream",
     "text": [
      "100%|██████████| 835/835 [01:19<00:00, 10.55it/s]\n"
     ]
    },
    {
     "name": "stdout",
     "output_type": "stream",
     "text": [
      "{'val_loss': 1.7189639036385518, 'val_accuracy': 0.6759314015375517, 'precision': 0.6678250492158, 'recall': 0.6759314015375517, 'f1-score': 0.6531266156148504, 'macro_f1-score': 0.40426759138560575, 'balanced_accuracy': 0.380226203423951, 'mcc': 0.5613196974353203, 'train_loss': 0.21333445262186185}\n",
      "Early stopping.\n",
      "\n",
      "[Fold 5]\n",
      "🚀 Using Word2Vec for data augmentation\n",
      "🔧 Augmenting label 1: 24 → 200 (+176)\n",
      "🔧 Augmenting label 2: 112 → 200 (+88)\n",
      "🔧 Augmenting label 3: 24 → 200 (+176)\n",
      "🔧 Augmenting label 5: 116 → 200 (+84)\n",
      "🔧 Augmenting label 6: 95 → 200 (+105)\n",
      "🔧 Augmenting label 7: 31 → 200 (+169)\n",
      "🔧 Augmenting label 8: 68 → 200 (+132)\n",
      "🔧 Augmenting label 9: 65 → 200 (+135)\n",
      "🔧 Augmenting label 10: 70 → 200 (+130)\n",
      "🔧 Augmenting label 11: 172 → 200 (+28)\n",
      "🔧 Augmenting label 12: 193 → 200 (+7)\n",
      "🔧 Augmenting label 13: 29 → 200 (+171)\n",
      "🔧 Augmenting label 14: 23 → 200 (+177)\n",
      "🔧 Augmenting label 15: 25 → 200 (+175)\n",
      "🔧 Augmenting label 16: 20 → 200 (+180)\n",
      "🔧 Augmenting label 18: 93 → 200 (+107)\n",
      "🔧 Augmenting label 19: 44 → 200 (+156)\n",
      "🔧 Augmenting label 20: 15 → 200 (+185)\n",
      "🔧 Augmenting label 21: 35 → 200 (+165)\n",
      "🔧 Augmenting label 22: 78 → 200 (+122)\n",
      "🔧 Augmenting label 23: 160 → 200 (+40)\n",
      "🔧 Augmenting label 24: 16 → 200 (+184)\n",
      "🔧 Augmenting label 25: 50 → 200 (+150)\n",
      "🔧 Augmenting label 26: 86 → 200 (+114)\n",
      "🔧 Augmenting label 27: 48 → 200 (+152)\n",
      "🔧 Augmenting label 28: 12 → 200 (+188)\n",
      "🔧 Augmenting label 29: 13 → 200 (+187)\n",
      "🔧 Augmenting label 30: 15 → 200 (+185)\n",
      "🔧 Augmenting label 31: 80 → 200 (+120)\n",
      "🔧 Augmenting label 32: 36 → 200 (+164)\n",
      "🔧 Augmenting label 33: 32 → 200 (+168)\n",
      "🔧 Augmenting label 34: 30 → 200 (+170)\n",
      "🔧 Augmenting label 35: 12 → 200 (+188)\n",
      "🔧 Augmenting label 36: 28 → 200 (+172)\n",
      "🔧 Augmenting label 37: 21 → 200 (+179)\n",
      "🔧 Augmenting label 38: 6 → 200 (+194)\n",
      "🔧 Augmenting label 39: 104 → 200 (+96)\n",
      "🔧 Augmenting label 40: 11 → 200 (+189)\n",
      "🔧 Augmenting label 41: 9 → 200 (+191)\n",
      "🔧 Augmenting label 42: 147 → 200 (+53)\n",
      "🔧 Augmenting label 43: 16 → 200 (+184)\n",
      "🔧 Augmenting label 44: 20 → 200 (+180)\n",
      "🔧 Augmenting label 45: 9 → 200 (+191)\n",
      "🔧 Augmenting label 46: 54 → 200 (+146)\n",
      "🔧 Augmenting label 49: 70 → 200 (+130)\n",
      "Label distribution after resampling:\n",
      "  label 0: 3180\n",
      "  label 1: 200\n",
      "  label 2: 200\n",
      "  label 3: 200\n",
      "  label 4: 205\n",
      "  label 5: 200\n",
      "  label 6: 200\n",
      "  label 7: 200\n",
      "  label 8: 200\n",
      "  label 9: 200\n",
      "  label 10: 200\n",
      "  label 11: 200\n",
      "  label 12: 200\n",
      "  label 13: 200\n",
      "  label 14: 200\n",
      "  label 15: 200\n",
      "  label 16: 200\n",
      "  label 17: 231\n",
      "  label 18: 200\n",
      "  label 19: 200\n",
      "  label 20: 200\n",
      "  label 21: 200\n",
      "  label 22: 200\n",
      "  label 23: 200\n",
      "  label 24: 200\n",
      "  label 25: 200\n",
      "  label 26: 200\n",
      "  label 27: 200\n",
      "  label 28: 200\n",
      "  label 29: 200\n",
      "  label 30: 200\n",
      "  label 31: 200\n",
      "  label 32: 200\n",
      "  label 33: 200\n",
      "  label 34: 200\n",
      "  label 35: 200\n",
      "  label 36: 200\n",
      "  label 37: 200\n",
      "  label 38: 200\n",
      "  label 39: 200\n",
      "  label 40: 200\n",
      "  label 41: 200\n",
      "  label 42: 200\n",
      "  label 43: 200\n",
      "  label 44: 200\n",
      "  label 45: 200\n",
      "  label 46: 200\n",
      "  label 47: 529\n",
      "  label 48: 202\n",
      "  label 49: 200\n",
      "model is roberta-base bilstm\n"
     ]
    },
    {
     "name": "stderr",
     "output_type": "stream",
     "text": [
      "Some weights of RobertaModel were not initialized from the model checkpoint at roberta-base and are newly initialized: ['pooler.dense.bias', 'pooler.dense.weight']\n",
      "You should probably TRAIN this model on a down-stream task to be able to use it for predictions and inference.\n"
     ]
    },
    {
     "name": "stdout",
     "output_type": "stream",
     "text": [
      "Epoch 1/20\n"
     ]
    },
    {
     "name": "stderr",
     "output_type": "stream",
     "text": [
      "100%|██████████| 835/835 [01:19<00:00, 10.52it/s]\n"
     ]
    },
    {
     "name": "stdout",
     "output_type": "stream",
     "text": [
      "{'val_loss': 1.8214762975584786, 'val_accuracy': 0.5668639053254438, 'precision': 0.41091089945330156, 'recall': 0.5668639053254438, 'f1-score': 0.45074338818814946, 'macro_f1-score': 0.10551197177116421, 'balanced_accuracy': 0.1340664833226937, 'mcc': 0.36092984869858247, 'train_loss': 2.7356706053910855}\n",
      "Epoch 2/20\n"
     ]
    },
    {
     "name": "stderr",
     "output_type": "stream",
     "text": [
      "100%|██████████| 835/835 [01:19<00:00, 10.54it/s]\n"
     ]
    },
    {
     "name": "stdout",
     "output_type": "stream",
     "text": [
      "{'val_loss': 1.6058661330421016, 'val_accuracy': 0.5562130177514792, 'precision': 0.5415464782390721, 'recall': 0.5562130177514792, 'f1-score': 0.5246319929833104, 'macro_f1-score': 0.2522523088442912, 'balanced_accuracy': 0.3324860191832322, 'mcc': 0.4139394269148764, 'train_loss': 1.8013134820732528}\n",
      "Epoch 3/20\n"
     ]
    },
    {
     "name": "stderr",
     "output_type": "stream",
     "text": [
      "100%|██████████| 835/835 [01:19<00:00, 10.53it/s]\n"
     ]
    },
    {
     "name": "stdout",
     "output_type": "stream",
     "text": [
      "{'val_loss': 1.4699667607838254, 'val_accuracy': 0.6, 'precision': 0.5724344693929769, 'recall': 0.6, 'f1-score': 0.5606972860012048, 'macro_f1-score': 0.28946442175832027, 'balanced_accuracy': 0.31860105440282366, 'mcc': 0.46389268653364313, 'train_loss': 1.3147908089403622}\n",
      "Epoch 4/20\n"
     ]
    },
    {
     "name": "stderr",
     "output_type": "stream",
     "text": [
      "100%|██████████| 835/835 [01:19<00:00, 10.54it/s]\n"
     ]
    },
    {
     "name": "stdout",
     "output_type": "stream",
     "text": [
      "{'val_loss': 1.3695933211524531, 'val_accuracy': 0.6408284023668639, 'precision': 0.6618923013122542, 'recall': 0.6408284023668639, 'f1-score': 0.6247685040588187, 'macro_f1-score': 0.3674697006511407, 'balanced_accuracy': 0.3909123103561387, 'mcc': 0.5295523676419424, 'train_loss': 0.940894389919892}\n",
      "Epoch 5/20\n"
     ]
    },
    {
     "name": "stderr",
     "output_type": "stream",
     "text": [
      "100%|██████████| 835/835 [01:19<00:00, 10.52it/s]\n"
     ]
    },
    {
     "name": "stdout",
     "output_type": "stream",
     "text": [
      "{'val_loss': 1.3523742210752558, 'val_accuracy': 0.659171597633136, 'precision': 0.6693889694805879, 'recall': 0.659171597633136, 'f1-score': 0.6390778880140533, 'macro_f1-score': 0.39013539867850566, 'balanced_accuracy': 0.3731569796854171, 'mcc': 0.5388813534159523, 'train_loss': 0.7126606375871304}\n",
      "Epoch 6/20\n"
     ]
    },
    {
     "name": "stderr",
     "output_type": "stream",
     "text": [
      "100%|██████████| 835/835 [01:19<00:00, 10.56it/s]\n"
     ]
    },
    {
     "name": "stdout",
     "output_type": "stream",
     "text": [
      "{'val_loss': 1.426408865541782, 'val_accuracy': 0.650887573964497, 'precision': 0.663413220931093, 'recall': 0.650887573964497, 'f1-score': 0.6432040985147067, 'macro_f1-score': 0.3520250180315514, 'balanced_accuracy': 0.3709166042158869, 'mcc': 0.5460789930171926, 'train_loss': 0.5675253874795165}\n",
      "Epoch 7/20\n"
     ]
    },
    {
     "name": "stderr",
     "output_type": "stream",
     "text": [
      "100%|██████████| 835/835 [01:19<00:00, 10.54it/s]\n"
     ]
    },
    {
     "name": "stdout",
     "output_type": "stream",
     "text": [
      "{'val_loss': 1.5039132857378923, 'val_accuracy': 0.650887573964497, 'precision': 0.6495009460183894, 'recall': 0.650887573964497, 'f1-score': 0.6279906620314906, 'macro_f1-score': 0.3434039555633943, 'balanced_accuracy': 0.35072402483605214, 'mcc': 0.5314616311341775, 'train_loss': 0.49223546867599033}\n",
      "Epoch 8/20\n"
     ]
    },
    {
     "name": "stderr",
     "output_type": "stream",
     "text": [
      "100%|██████████| 835/835 [01:19<00:00, 10.53it/s]\n"
     ]
    },
    {
     "name": "stdout",
     "output_type": "stream",
     "text": [
      "{'val_loss': 1.489615943634285, 'val_accuracy': 0.6816568047337278, 'precision': 0.6636281977600349, 'recall': 0.6816568047337278, 'f1-score': 0.6614260061558831, 'macro_f1-score': 0.38875620454397664, 'balanced_accuracy': 0.37762248936112136, 'mcc': 0.5752032691394271, 'train_loss': 0.42867833731841004}\n",
      "Early stopping.\n",
      "\n",
      " === roberta-base + bilstm + word2vec Final 5-fold Cross-Validation Results ===\n",
      "Total time: 4515 seconds\n",
      "Total time: 1 hrs 15 mins 15 secs\n",
      "val_loss: 1.4431\n",
      "val_accuracy: 0.6591\n",
      "precision: 0.6645\n",
      "recall: 0.6591\n",
      "f1-score: 0.6451\n",
      "macro_f1-score: 0.4006\n",
      "balanced_accuracy: 0.4044\n",
      "mcc: 0.5490\n",
      "train_loss: 0.5006\n",
      "▶ Running: microsoft/deberta-base + plain + word2vec\n",
      "tokenizer is microsoft/deberta-base\n",
      "Using device: cuda\n",
      "CUDA Available: True\n",
      "CUDA Device: NVIDIA GeForce RTX 5070 Ti\n",
      "Current GPU Memory Allocated: 0.02 GB\n",
      "Current GPU Memory Cached: 3.92 GB\n",
      "\n",
      "[Fold 1]\n",
      "🚀 Using Word2Vec for data augmentation\n",
      "🔧 Augmenting label 1: 25 → 200 (+175)\n",
      "🔧 Augmenting label 2: 112 → 200 (+88)\n",
      "🔧 Augmenting label 3: 24 → 200 (+176)\n",
      "🔧 Augmenting label 5: 116 → 200 (+84)\n",
      "🔧 Augmenting label 6: 95 → 200 (+105)\n",
      "🔧 Augmenting label 7: 31 → 200 (+169)\n",
      "🔧 Augmenting label 8: 68 → 200 (+132)\n",
      "🔧 Augmenting label 9: 65 → 200 (+135)\n",
      "🔧 Augmenting label 10: 70 → 200 (+130)\n",
      "🔧 Augmenting label 11: 172 → 200 (+28)\n",
      "🔧 Augmenting label 12: 193 → 200 (+7)\n",
      "🔧 Augmenting label 13: 29 → 200 (+171)\n",
      "🔧 Augmenting label 14: 23 → 200 (+177)\n",
      "🔧 Augmenting label 15: 25 → 200 (+175)\n",
      "🔧 Augmenting label 16: 20 → 200 (+180)\n",
      "🔧 Augmenting label 18: 93 → 200 (+107)\n",
      "🔧 Augmenting label 19: 45 → 200 (+155)\n",
      "🔧 Augmenting label 20: 14 → 200 (+186)\n",
      "🔧 Augmenting label 21: 35 → 200 (+165)\n",
      "🔧 Augmenting label 22: 78 → 200 (+122)\n",
      "🔧 Augmenting label 23: 160 → 200 (+40)\n",
      "🔧 Augmenting label 24: 16 → 200 (+184)\n",
      "🔧 Augmenting label 25: 50 → 200 (+150)\n",
      "🔧 Augmenting label 26: 86 → 200 (+114)\n",
      "🔧 Augmenting label 27: 49 → 200 (+151)\n",
      "🔧 Augmenting label 28: 12 → 200 (+188)\n",
      "🔧 Augmenting label 29: 13 → 200 (+187)\n",
      "🔧 Augmenting label 30: 15 → 200 (+185)\n",
      "🔧 Augmenting label 31: 80 → 200 (+120)\n",
      "🔧 Augmenting label 32: 36 → 200 (+164)\n",
      "🔧 Augmenting label 33: 32 → 200 (+168)\n",
      "🔧 Augmenting label 34: 30 → 200 (+170)\n",
      "🔧 Augmenting label 35: 12 → 200 (+188)\n",
      "🔧 Augmenting label 36: 28 → 200 (+172)\n",
      "🔧 Augmenting label 37: 21 → 200 (+179)\n",
      "🔧 Augmenting label 38: 6 → 200 (+194)\n",
      "🔧 Augmenting label 39: 103 → 200 (+97)\n",
      "🔧 Augmenting label 40: 12 → 200 (+188)\n",
      "🔧 Augmenting label 41: 8 → 200 (+192)\n",
      "🔧 Augmenting label 42: 147 → 200 (+53)\n",
      "🔧 Augmenting label 43: 16 → 200 (+184)\n",
      "🔧 Augmenting label 44: 20 → 200 (+180)\n",
      "🔧 Augmenting label 45: 9 → 200 (+191)\n",
      "🔧 Augmenting label 46: 54 → 200 (+146)\n",
      "🔧 Augmenting label 49: 69 → 200 (+131)\n",
      "Label distribution after resampling:\n",
      "  label 0: 3179\n",
      "  label 1: 200\n",
      "  label 2: 200\n",
      "  label 3: 200\n",
      "  label 4: 205\n",
      "  label 5: 200\n",
      "  label 6: 200\n",
      "  label 7: 200\n",
      "  label 8: 200\n",
      "  label 9: 200\n",
      "  label 10: 200\n",
      "  label 11: 200\n",
      "  label 12: 200\n",
      "  label 13: 200\n",
      "  label 14: 200\n",
      "  label 15: 200\n",
      "  label 16: 200\n",
      "  label 17: 231\n",
      "  label 18: 200\n",
      "  label 19: 200\n",
      "  label 20: 200\n",
      "  label 21: 200\n",
      "  label 22: 200\n",
      "  label 23: 200\n",
      "  label 24: 200\n",
      "  label 25: 200\n",
      "  label 26: 200\n",
      "  label 27: 200\n",
      "  label 28: 200\n",
      "  label 29: 200\n",
      "  label 30: 200\n",
      "  label 31: 200\n",
      "  label 32: 200\n",
      "  label 33: 200\n",
      "  label 34: 200\n",
      "  label 35: 200\n",
      "  label 36: 200\n",
      "  label 37: 200\n",
      "  label 38: 200\n",
      "  label 39: 200\n",
      "  label 40: 200\n",
      "  label 41: 200\n",
      "  label 42: 200\n",
      "  label 43: 200\n",
      "  label 44: 200\n",
      "  label 45: 200\n",
      "  label 46: 200\n",
      "  label 47: 529\n",
      "  label 48: 202\n",
      "  label 49: 200\n",
      "model is microsoft/deberta-base\n"
     ]
    },
    {
     "name": "stderr",
     "output_type": "stream",
     "text": [
      "Some weights of DebertaForSequenceClassification were not initialized from the model checkpoint at microsoft/deberta-base and are newly initialized: ['classifier.bias', 'classifier.weight', 'pooler.dense.bias', 'pooler.dense.weight']\n",
      "You should probably TRAIN this model on a down-stream task to be able to use it for predictions and inference.\n"
     ]
    },
    {
     "name": "stdout",
     "output_type": "stream",
     "text": [
      "Epoch 1/20\n"
     ]
    },
    {
     "name": "stderr",
     "output_type": "stream",
     "text": [
      "100%|██████████| 835/835 [01:25<00:00,  9.78it/s]\n"
     ]
    },
    {
     "name": "stdout",
     "output_type": "stream",
     "text": [
      "{'val_loss': 1.435445708486269, 'val_accuracy': 0.5955056179775281, 'precision': 0.6116397902692681, 'recall': 0.5955056179775281, 'f1-score': 0.5784093602892666, 'macro_f1-score': 0.28849842221464006, 'balanced_accuracy': 0.3689522137538495, 'mcc': 0.4786635538243276, 'train_loss': 2.3311970226957412}\n",
      "Epoch 2/20\n"
     ]
    },
    {
     "name": "stderr",
     "output_type": "stream",
     "text": [
      "100%|██████████| 835/835 [01:25<00:00,  9.82it/s]\n"
     ]
    },
    {
     "name": "stdout",
     "output_type": "stream",
     "text": [
      "{'val_loss': 1.4188782111653742, 'val_accuracy': 0.5943228858663513, 'precision': 0.6151043246122313, 'recall': 0.5943228858663513, 'f1-score': 0.5672526689996483, 'macro_f1-score': 0.31779510903318553, 'balanced_accuracy': 0.38689554039954904, 'mcc': 0.45722999088788807, 'train_loss': 2.4031117907898154}\n",
      "Epoch 3/20\n"
     ]
    },
    {
     "name": "stderr",
     "output_type": "stream",
     "text": [
      "100%|██████████| 835/835 [01:25<00:00,  9.81it/s]\n"
     ]
    },
    {
     "name": "stdout",
     "output_type": "stream",
     "text": [
      "{'val_loss': 1.346959225692839, 'val_accuracy': 0.6374926079243052, 'precision': 0.680981440095793, 'recall': 0.6374926079243052, 'f1-score': 0.6382313273774582, 'macro_f1-score': 0.40829187063568495, 'balanced_accuracy': 0.44807822982595313, 'mcc': 0.5350301002646656, 'train_loss': 0.8409057230114223}\n",
      "Epoch 4/20\n"
     ]
    },
    {
     "name": "stderr",
     "output_type": "stream",
     "text": [
      "100%|██████████| 835/835 [01:25<00:00,  9.81it/s]\n"
     ]
    },
    {
     "name": "stdout",
     "output_type": "stream",
     "text": [
      "{'val_loss': 1.2426730650213529, 'val_accuracy': 0.6788882318154937, 'precision': 0.6782349150366431, 'recall': 0.6788882318154937, 'f1-score': 0.6631278566187573, 'macro_f1-score': 0.4192209846557685, 'balanced_accuracy': 0.39942468439188694, 'mcc': 0.5701750806006152, 'train_loss': 0.4863003272496298}\n",
      "Epoch 5/20\n"
     ]
    },
    {
     "name": "stderr",
     "output_type": "stream",
     "text": [
      "100%|██████████| 835/835 [01:25<00:00,  9.82it/s]\n"
     ]
    },
    {
     "name": "stdout",
     "output_type": "stream",
     "text": [
      "{'val_loss': 1.474881315849862, 'val_accuracy': 0.6404494382022472, 'precision': 0.6813624382272756, 'recall': 0.6404494382022472, 'f1-score': 0.6405333415387855, 'macro_f1-score': 0.38336639620813634, 'balanced_accuracy': 0.39862982524852464, 'mcc': 0.5417375037683438, 'train_loss': 0.4072092014649314}\n",
      "Epoch 6/20\n"
     ]
    },
    {
     "name": "stderr",
     "output_type": "stream",
     "text": [
      "100%|██████████| 835/835 [01:25<00:00,  9.82it/s]\n"
     ]
    },
    {
     "name": "stdout",
     "output_type": "stream",
     "text": [
      "{'val_loss': 1.5165237572114423, 'val_accuracy': 0.6771141336487285, 'precision': 0.6634167421697581, 'recall': 0.6771141336487285, 'f1-score': 0.6529874651271742, 'macro_f1-score': 0.4037075980868066, 'balanced_accuracy': 0.3699854961600667, 'mcc': 0.5640543021854787, 'train_loss': 0.2883136926185407}\n",
      "Epoch 7/20\n"
     ]
    },
    {
     "name": "stderr",
     "output_type": "stream",
     "text": [
      "100%|██████████| 835/835 [01:25<00:00,  9.81it/s]\n"
     ]
    },
    {
     "name": "stdout",
     "output_type": "stream",
     "text": [
      "{'val_loss': 1.6132080197896597, 'val_accuracy': 0.654642223536369, 'precision': 0.6569016618521538, 'recall': 0.654642223536369, 'f1-score': 0.6425726209637077, 'macro_f1-score': 0.4026273828146119, 'balanced_accuracy': 0.40003095943581685, 'mcc': 0.544046046089548, 'train_loss': 0.26210957271364815}\n",
      "Early stopping.\n",
      "\n",
      "[Fold 2]\n",
      "🚀 Using Word2Vec for data augmentation\n",
      "🔧 Augmenting label 1: 25 → 200 (+175)\n",
      "🔧 Augmenting label 2: 112 → 200 (+88)\n",
      "🔧 Augmenting label 3: 24 → 200 (+176)\n",
      "🔧 Augmenting label 5: 116 → 200 (+84)\n",
      "🔧 Augmenting label 6: 94 → 200 (+106)\n",
      "🔧 Augmenting label 7: 31 → 200 (+169)\n",
      "🔧 Augmenting label 8: 68 → 200 (+132)\n",
      "🔧 Augmenting label 9: 65 → 200 (+135)\n",
      "🔧 Augmenting label 10: 70 → 200 (+130)\n",
      "🔧 Augmenting label 11: 172 → 200 (+28)\n",
      "🔧 Augmenting label 12: 193 → 200 (+7)\n",
      "🔧 Augmenting label 13: 29 → 200 (+171)\n",
      "🔧 Augmenting label 14: 23 → 200 (+177)\n",
      "🔧 Augmenting label 15: 25 → 200 (+175)\n",
      "🔧 Augmenting label 16: 20 → 200 (+180)\n",
      "🔧 Augmenting label 18: 93 → 200 (+107)\n",
      "🔧 Augmenting label 19: 45 → 200 (+155)\n",
      "🔧 Augmenting label 20: 14 → 200 (+186)\n",
      "🔧 Augmenting label 21: 35 → 200 (+165)\n",
      "🔧 Augmenting label 22: 78 → 200 (+122)\n",
      "🔧 Augmenting label 23: 160 → 200 (+40)\n",
      "🔧 Augmenting label 24: 16 → 200 (+184)\n",
      "🔧 Augmenting label 25: 50 → 200 (+150)\n",
      "🔧 Augmenting label 26: 86 → 200 (+114)\n",
      "🔧 Augmenting label 27: 49 → 200 (+151)\n",
      "🔧 Augmenting label 28: 12 → 200 (+188)\n",
      "🔧 Augmenting label 29: 13 → 200 (+187)\n",
      "🔧 Augmenting label 30: 15 → 200 (+185)\n",
      "🔧 Augmenting label 31: 80 → 200 (+120)\n",
      "🔧 Augmenting label 32: 36 → 200 (+164)\n",
      "🔧 Augmenting label 33: 32 → 200 (+168)\n",
      "🔧 Augmenting label 34: 30 → 200 (+170)\n",
      "🔧 Augmenting label 35: 12 → 200 (+188)\n",
      "🔧 Augmenting label 36: 28 → 200 (+172)\n",
      "🔧 Augmenting label 37: 22 → 200 (+178)\n",
      "🔧 Augmenting label 38: 5 → 200 (+195)\n",
      "🔧 Augmenting label 39: 103 → 200 (+97)\n",
      "🔧 Augmenting label 40: 11 → 200 (+189)\n",
      "🔧 Augmenting label 41: 9 → 200 (+191)\n",
      "🔧 Augmenting label 42: 147 → 200 (+53)\n",
      "🔧 Augmenting label 43: 16 → 200 (+184)\n",
      "🔧 Augmenting label 44: 20 → 200 (+180)\n",
      "🔧 Augmenting label 45: 9 → 200 (+191)\n",
      "🔧 Augmenting label 46: 55 → 200 (+145)\n",
      "🔧 Augmenting label 49: 69 → 200 (+131)\n",
      "Label distribution after resampling:\n",
      "  label 0: 3179\n",
      "  label 1: 200\n",
      "  label 2: 200\n",
      "  label 3: 200\n",
      "  label 4: 206\n",
      "  label 5: 200\n",
      "  label 6: 200\n",
      "  label 7: 200\n",
      "  label 8: 200\n",
      "  label 9: 200\n",
      "  label 10: 200\n",
      "  label 11: 200\n",
      "  label 12: 200\n",
      "  label 13: 200\n",
      "  label 14: 200\n",
      "  label 15: 200\n",
      "  label 16: 200\n",
      "  label 17: 231\n",
      "  label 18: 200\n",
      "  label 19: 200\n",
      "  label 20: 200\n",
      "  label 21: 200\n",
      "  label 22: 200\n",
      "  label 23: 200\n",
      "  label 24: 200\n",
      "  label 25: 200\n",
      "  label 26: 200\n",
      "  label 27: 200\n",
      "  label 28: 200\n",
      "  label 29: 200\n",
      "  label 30: 200\n",
      "  label 31: 200\n",
      "  label 32: 200\n",
      "  label 33: 200\n",
      "  label 34: 200\n",
      "  label 35: 200\n",
      "  label 36: 200\n",
      "  label 37: 200\n",
      "  label 38: 200\n",
      "  label 39: 200\n",
      "  label 40: 200\n",
      "  label 41: 200\n",
      "  label 42: 200\n",
      "  label 43: 200\n",
      "  label 44: 200\n",
      "  label 45: 200\n",
      "  label 46: 200\n",
      "  label 47: 528\n",
      "  label 48: 202\n",
      "  label 49: 200\n",
      "model is microsoft/deberta-base\n"
     ]
    },
    {
     "name": "stderr",
     "output_type": "stream",
     "text": [
      "Some weights of DebertaForSequenceClassification were not initialized from the model checkpoint at microsoft/deberta-base and are newly initialized: ['classifier.bias', 'classifier.weight', 'pooler.dense.bias', 'pooler.dense.weight']\n",
      "You should probably TRAIN this model on a down-stream task to be able to use it for predictions and inference.\n"
     ]
    },
    {
     "name": "stdout",
     "output_type": "stream",
     "text": [
      "Epoch 1/20\n"
     ]
    },
    {
     "name": "stderr",
     "output_type": "stream",
     "text": [
      "100%|██████████| 835/835 [01:25<00:00,  9.80it/s]\n"
     ]
    },
    {
     "name": "stdout",
     "output_type": "stream",
     "text": [
      "{'val_loss': 1.4965800446159434, 'val_accuracy': 0.5694855115316381, 'precision': 0.6064098488535941, 'recall': 0.5694855115316381, 'f1-score': 0.5697818685829309, 'macro_f1-score': 0.28079992035918794, 'balanced_accuracy': 0.3572119676785816, 'mcc': 0.4490199769917575, 'train_loss': 2.1989300230306066}\n",
      "Epoch 2/20\n"
     ]
    },
    {
     "name": "stderr",
     "output_type": "stream",
     "text": [
      "100%|██████████| 835/835 [01:25<00:00,  9.81it/s]\n"
     ]
    },
    {
     "name": "stdout",
     "output_type": "stream",
     "text": [
      "{'val_loss': 1.3941016981624208, 'val_accuracy': 0.63571850975754, 'precision': 0.6476129639280719, 'recall': 0.63571850975754, 'f1-score': 0.62693846328243, 'macro_f1-score': 0.3626227526261496, 'balanced_accuracy': 0.39714054255236275, 'mcc': 0.5194852665054444, 'train_loss': 0.8570426357006599}\n",
      "Epoch 3/20\n"
     ]
    },
    {
     "name": "stderr",
     "output_type": "stream",
     "text": [
      "100%|██████████| 835/835 [01:25<00:00,  9.81it/s]\n"
     ]
    },
    {
     "name": "stdout",
     "output_type": "stream",
     "text": [
      "{'val_loss': 1.5686329083060317, 'val_accuracy': 0.6694263749260793, 'precision': 0.6575983270823644, 'recall': 0.6694263749260793, 'f1-score': 0.6285199656002712, 'macro_f1-score': 0.3532574404716145, 'balanced_accuracy': 0.330412824802394, 'mcc': 0.5406716075529638, 'train_loss': 0.4725696357312852}\n",
      "Epoch 4/20\n"
     ]
    },
    {
     "name": "stderr",
     "output_type": "stream",
     "text": [
      "100%|██████████| 835/835 [01:25<00:00,  9.80it/s]\n"
     ]
    },
    {
     "name": "stdout",
     "output_type": "stream",
     "text": [
      "{'val_loss': 1.5384679487291373, 'val_accuracy': 0.6723832052040213, 'precision': 0.6667275161186308, 'recall': 0.6723832052040213, 'f1-score': 0.650582618366561, 'macro_f1-score': 0.4068624418610407, 'balanced_accuracy': 0.3946549105834073, 'mcc': 0.554493732116635, 'train_loss': 0.3319865334020582}\n",
      "Epoch 5/20\n"
     ]
    },
    {
     "name": "stderr",
     "output_type": "stream",
     "text": [
      "100%|██████████| 835/835 [01:25<00:00,  9.81it/s]\n"
     ]
    },
    {
     "name": "stdout",
     "output_type": "stream",
     "text": [
      "{'val_loss': 1.6103619206345305, 'val_accuracy': 0.6782968657599053, 'precision': 0.673116324836303, 'recall': 0.6782968657599053, 'f1-score': 0.665465833920367, 'macro_f1-score': 0.38450732034113394, 'balanced_accuracy': 0.38677541589686476, 'mcc': 0.5712497393843883, 'train_loss': 0.2643498135094871}\n",
      "Epoch 6/20\n"
     ]
    },
    {
     "name": "stderr",
     "output_type": "stream",
     "text": [
      "100%|██████████| 835/835 [01:25<00:00,  9.80it/s]\n"
     ]
    },
    {
     "name": "stdout",
     "output_type": "stream",
     "text": [
      "{'val_loss': 1.8806305249344628, 'val_accuracy': 0.6422235363690124, 'precision': 0.6529264865244563, 'recall': 0.6422235363690124, 'f1-score': 0.6290776085336811, 'macro_f1-score': 0.35739976006729157, 'balanced_accuracy': 0.34003966014326303, 'mcc': 0.5217716417271018, 'train_loss': 0.2242820127950814}\n",
      "Epoch 7/20\n"
     ]
    },
    {
     "name": "stderr",
     "output_type": "stream",
     "text": [
      "100%|██████████| 835/835 [01:25<00:00,  9.81it/s]\n"
     ]
    },
    {
     "name": "stdout",
     "output_type": "stream",
     "text": [
      "{'val_loss': 1.85364676063072, 'val_accuracy': 0.6611472501478415, 'precision': 0.651511121324556, 'recall': 0.6611472501478415, 'f1-score': 0.6416118628871424, 'macro_f1-score': 0.3835135355550631, 'balanced_accuracy': 0.3742184834328261, 'mcc': 0.543760906917481, 'train_loss': 0.20224681006616238}\n",
      "Early stopping.\n",
      "\n",
      "[Fold 3]\n",
      "🚀 Using Word2Vec for data augmentation\n",
      "🔧 Augmenting label 1: 25 → 200 (+175)\n",
      "🔧 Augmenting label 2: 112 → 200 (+88)\n",
      "🔧 Augmenting label 3: 24 → 200 (+176)\n",
      "🔧 Augmenting label 5: 116 → 200 (+84)\n",
      "🔧 Augmenting label 6: 94 → 200 (+106)\n",
      "🔧 Augmenting label 7: 31 → 200 (+169)\n",
      "🔧 Augmenting label 8: 68 → 200 (+132)\n",
      "🔧 Augmenting label 9: 65 → 200 (+135)\n",
      "🔧 Augmenting label 10: 71 → 200 (+129)\n",
      "🔧 Augmenting label 11: 172 → 200 (+28)\n",
      "🔧 Augmenting label 12: 192 → 200 (+8)\n",
      "🔧 Augmenting label 13: 29 → 200 (+171)\n",
      "🔧 Augmenting label 14: 23 → 200 (+177)\n",
      "🔧 Augmenting label 15: 25 → 200 (+175)\n",
      "🔧 Augmenting label 16: 20 → 200 (+180)\n",
      "🔧 Augmenting label 18: 93 → 200 (+107)\n",
      "🔧 Augmenting label 19: 45 → 200 (+155)\n",
      "🔧 Augmenting label 20: 14 → 200 (+186)\n",
      "🔧 Augmenting label 21: 36 → 200 (+164)\n",
      "🔧 Augmenting label 22: 77 → 200 (+123)\n",
      "🔧 Augmenting label 23: 160 → 200 (+40)\n",
      "🔧 Augmenting label 24: 16 → 200 (+184)\n",
      "🔧 Augmenting label 25: 51 → 200 (+149)\n",
      "🔧 Augmenting label 26: 85 → 200 (+115)\n",
      "🔧 Augmenting label 27: 49 → 200 (+151)\n",
      "🔧 Augmenting label 28: 12 → 200 (+188)\n",
      "🔧 Augmenting label 29: 12 → 200 (+188)\n",
      "🔧 Augmenting label 30: 16 → 200 (+184)\n",
      "🔧 Augmenting label 31: 80 → 200 (+120)\n",
      "🔧 Augmenting label 32: 36 → 200 (+164)\n",
      "🔧 Augmenting label 33: 32 → 200 (+168)\n",
      "🔧 Augmenting label 34: 29 → 200 (+171)\n",
      "🔧 Augmenting label 35: 12 → 200 (+188)\n",
      "🔧 Augmenting label 36: 28 → 200 (+172)\n",
      "🔧 Augmenting label 37: 22 → 200 (+178)\n",
      "🔧 Augmenting label 38: 5 → 200 (+195)\n",
      "🔧 Augmenting label 39: 103 → 200 (+97)\n",
      "🔧 Augmenting label 40: 11 → 200 (+189)\n",
      "🔧 Augmenting label 41: 9 → 200 (+191)\n",
      "🔧 Augmenting label 42: 147 → 200 (+53)\n",
      "🔧 Augmenting label 43: 16 → 200 (+184)\n",
      "🔧 Augmenting label 44: 20 → 200 (+180)\n",
      "🔧 Augmenting label 45: 9 → 200 (+191)\n",
      "🔧 Augmenting label 46: 55 → 200 (+145)\n",
      "🔧 Augmenting label 49: 70 → 200 (+130)\n",
      "Label distribution after resampling:\n",
      "  label 0: 3179\n",
      "  label 1: 200\n",
      "  label 2: 200\n",
      "  label 3: 200\n",
      "  label 4: 206\n",
      "  label 5: 200\n",
      "  label 6: 200\n",
      "  label 7: 200\n",
      "  label 8: 200\n",
      "  label 9: 200\n",
      "  label 10: 200\n",
      "  label 11: 200\n",
      "  label 12: 200\n",
      "  label 13: 200\n",
      "  label 14: 200\n",
      "  label 15: 200\n",
      "  label 16: 200\n",
      "  label 17: 231\n",
      "  label 18: 200\n",
      "  label 19: 200\n",
      "  label 20: 200\n",
      "  label 21: 200\n",
      "  label 22: 200\n",
      "  label 23: 200\n",
      "  label 24: 200\n",
      "  label 25: 200\n",
      "  label 26: 200\n",
      "  label 27: 200\n",
      "  label 28: 200\n",
      "  label 29: 200\n",
      "  label 30: 200\n",
      "  label 31: 200\n",
      "  label 32: 200\n",
      "  label 33: 200\n",
      "  label 34: 200\n",
      "  label 35: 200\n",
      "  label 36: 200\n",
      "  label 37: 200\n",
      "  label 38: 200\n",
      "  label 39: 200\n",
      "  label 40: 200\n",
      "  label 41: 200\n",
      "  label 42: 200\n",
      "  label 43: 200\n",
      "  label 44: 200\n",
      "  label 45: 200\n",
      "  label 46: 200\n",
      "  label 47: 529\n",
      "  label 48: 201\n",
      "  label 49: 200\n",
      "model is microsoft/deberta-base\n"
     ]
    },
    {
     "name": "stderr",
     "output_type": "stream",
     "text": [
      "Some weights of DebertaForSequenceClassification were not initialized from the model checkpoint at microsoft/deberta-base and are newly initialized: ['classifier.bias', 'classifier.weight', 'pooler.dense.bias', 'pooler.dense.weight']\n",
      "You should probably TRAIN this model on a down-stream task to be able to use it for predictions and inference.\n"
     ]
    },
    {
     "name": "stdout",
     "output_type": "stream",
     "text": [
      "Epoch 1/20\n"
     ]
    },
    {
     "name": "stderr",
     "output_type": "stream",
     "text": [
      "100%|██████████| 835/835 [01:25<00:00,  9.80it/s]\n"
     ]
    },
    {
     "name": "stdout",
     "output_type": "stream",
     "text": [
      "{'val_loss': 1.4713316025598995, 'val_accuracy': 0.618568894145476, 'precision': 0.5667818970863467, 'recall': 0.618568894145476, 'f1-score': 0.5605908418091547, 'macro_f1-score': 0.2766021324823211, 'balanced_accuracy': 0.28967573028332105, 'mcc': 0.46704106858049305, 'train_loss': 2.052780194161181}\n",
      "Epoch 2/20\n"
     ]
    },
    {
     "name": "stderr",
     "output_type": "stream",
     "text": [
      "100%|██████████| 835/835 [01:25<00:00,  9.80it/s]\n"
     ]
    },
    {
     "name": "stdout",
     "output_type": "stream",
     "text": [
      "{'val_loss': 1.5311426579389933, 'val_accuracy': 0.6280307510348906, 'precision': 0.6014067709096822, 'recall': 0.6280307510348906, 'f1-score': 0.5752686676046428, 'macro_f1-score': 0.2850040447229296, 'balanced_accuracy': 0.2597129837382844, 'mcc': 0.47513049636899424, 'train_loss': 0.7740974202662885}\n",
      "Epoch 3/20\n"
     ]
    },
    {
     "name": "stderr",
     "output_type": "stream",
     "text": [
      "100%|██████████| 835/835 [01:25<00:00,  9.81it/s]\n"
     ]
    },
    {
     "name": "stdout",
     "output_type": "stream",
     "text": [
      "{'val_loss': 1.510146143582632, 'val_accuracy': 0.644589000591366, 'precision': 0.6460683908278397, 'recall': 0.644589000591366, 'f1-score': 0.6238076039991163, 'macro_f1-score': 0.33680341058011815, 'balanced_accuracy': 0.32211237123276204, 'mcc': 0.5190441546808813, 'train_loss': 0.43478368472107154}\n",
      "Epoch 4/20\n"
     ]
    },
    {
     "name": "stderr",
     "output_type": "stream",
     "text": [
      "100%|██████████| 835/835 [01:25<00:00,  9.81it/s]\n"
     ]
    },
    {
     "name": "stdout",
     "output_type": "stream",
     "text": [
      "{'val_loss': 1.5928034594036498, 'val_accuracy': 0.6593731519810763, 'precision': 0.6502698259548376, 'recall': 0.6593731519810763, 'f1-score': 0.639499971845711, 'macro_f1-score': 0.3501012242397706, 'balanced_accuracy': 0.3419437657788714, 'mcc': 0.5381763165211925, 'train_loss': 0.3174548195663862}\n",
      "Epoch 5/20\n"
     ]
    },
    {
     "name": "stderr",
     "output_type": "stream",
     "text": [
      "100%|██████████| 835/835 [01:25<00:00,  9.81it/s]\n"
     ]
    },
    {
     "name": "stdout",
     "output_type": "stream",
     "text": [
      "{'val_loss': 1.625203289653895, 'val_accuracy': 0.651685393258427, 'precision': 0.6390315086540821, 'recall': 0.651685393258427, 'f1-score': 0.6344970905729383, 'macro_f1-score': 0.340469390452266, 'balanced_accuracy': 0.3377047661110749, 'mcc': 0.5358165439137734, 'train_loss': 0.23767219656509553}\n",
      "Epoch 6/20\n"
     ]
    },
    {
     "name": "stderr",
     "output_type": "stream",
     "text": [
      "100%|██████████| 835/835 [01:25<00:00,  9.81it/s]\n"
     ]
    },
    {
     "name": "stdout",
     "output_type": "stream",
     "text": [
      "{'val_loss': 1.810160996497802, 'val_accuracy': 0.6700177409816677, 'precision': 0.6562881448467514, 'recall': 0.6700177409816677, 'f1-score': 0.6447148860641572, 'macro_f1-score': 0.36539265632413, 'balanced_accuracy': 0.3368689787245718, 'mcc': 0.5509439213500176, 'train_loss': 0.20651766384232365}\n",
      "Epoch 7/20\n"
     ]
    },
    {
     "name": "stderr",
     "output_type": "stream",
     "text": [
      "100%|██████████| 835/835 [01:25<00:00,  9.81it/s]\n"
     ]
    },
    {
     "name": "stdout",
     "output_type": "stream",
     "text": [
      "{'val_loss': 1.937495656170935, 'val_accuracy': 0.6280307510348906, 'precision': 0.6454761597313765, 'recall': 0.6280307510348906, 'f1-score': 0.6217360673332484, 'macro_f1-score': 0.3135508068330248, 'balanced_accuracy': 0.32571415672120835, 'mcc': 0.5153221622843374, 'train_loss': 0.20026099590060417}\n",
      "Epoch 8/20\n"
     ]
    },
    {
     "name": "stderr",
     "output_type": "stream",
     "text": [
      "100%|██████████| 835/835 [01:25<00:00,  9.80it/s]\n"
     ]
    },
    {
     "name": "stdout",
     "output_type": "stream",
     "text": [
      "{'val_loss': 1.9252811458207808, 'val_accuracy': 0.6735659373151981, 'precision': 0.6571129461273213, 'recall': 0.6735659373151981, 'f1-score': 0.6476753597253238, 'macro_f1-score': 0.3883718424067223, 'balanced_accuracy': 0.3572263117278144, 'mcc': 0.5548792252041974, 'train_loss': 0.18618481581512014}\n",
      "Epoch 9/20\n"
     ]
    },
    {
     "name": "stderr",
     "output_type": "stream",
     "text": [
      "100%|██████████| 835/835 [01:25<00:00,  9.80it/s]\n"
     ]
    },
    {
     "name": "stdout",
     "output_type": "stream",
     "text": [
      "{'val_loss': 1.9319394603635203, 'val_accuracy': 0.664695446481372, 'precision': 0.6441941818868868, 'recall': 0.664695446481372, 'f1-score': 0.6337459131329531, 'macro_f1-score': 0.35841642195068585, 'balanced_accuracy': 0.3327953949120833, 'mcc': 0.5442203419008842, 'train_loss': 0.2240480794257646}\n",
      "Epoch 10/20\n"
     ]
    },
    {
     "name": "stderr",
     "output_type": "stream",
     "text": [
      "100%|██████████| 835/835 [01:25<00:00,  9.80it/s]\n"
     ]
    },
    {
     "name": "stdout",
     "output_type": "stream",
     "text": [
      "{'val_loss': 2.029700729714812, 'val_accuracy': 0.6635127143701951, 'precision': 0.6329051467742939, 'recall': 0.6635127143701951, 'f1-score': 0.6312118557073098, 'macro_f1-score': 0.3324819115234848, 'balanced_accuracy': 0.3162729139875547, 'mcc': 0.5374317519230454, 'train_loss': 0.16622409019800471}\n",
      "Epoch 11/20\n"
     ]
    },
    {
     "name": "stderr",
     "output_type": "stream",
     "text": [
      "100%|██████████| 835/835 [01:25<00:00,  9.81it/s]\n"
     ]
    },
    {
     "name": "stdout",
     "output_type": "stream",
     "text": [
      "{'val_loss': 2.2336242019005543, 'val_accuracy': 0.618568894145476, 'precision': 0.6575368546699091, 'recall': 0.618568894145476, 'f1-score': 0.6259228274326092, 'macro_f1-score': 0.33790871258309774, 'balanced_accuracy': 0.3676052177098959, 'mcc': 0.5201523451760071, 'train_loss': 0.19701346534107042}\n",
      "Early stopping.\n",
      "\n",
      "[Fold 4]\n",
      "🚀 Using Word2Vec for data augmentation\n",
      "🔧 Augmenting label 1: 25 → 200 (+175)\n",
      "🔧 Augmenting label 2: 112 → 200 (+88)\n",
      "🔧 Augmenting label 3: 24 → 200 (+176)\n",
      "🔧 Augmenting label 5: 116 → 200 (+84)\n",
      "🔧 Augmenting label 6: 94 → 200 (+106)\n",
      "🔧 Augmenting label 7: 32 → 200 (+168)\n",
      "🔧 Augmenting label 8: 68 → 200 (+132)\n",
      "🔧 Augmenting label 9: 64 → 200 (+136)\n",
      "🔧 Augmenting label 10: 71 → 200 (+129)\n",
      "🔧 Augmenting label 11: 172 → 200 (+28)\n",
      "🔧 Augmenting label 12: 193 → 200 (+7)\n",
      "🔧 Augmenting label 13: 28 → 200 (+172)\n",
      "🔧 Augmenting label 14: 24 → 200 (+176)\n",
      "🔧 Augmenting label 15: 24 → 200 (+176)\n",
      "🔧 Augmenting label 16: 20 → 200 (+180)\n",
      "🔧 Augmenting label 18: 92 → 200 (+108)\n",
      "🔧 Augmenting label 19: 45 → 200 (+155)\n",
      "🔧 Augmenting label 20: 15 → 200 (+185)\n",
      "🔧 Augmenting label 21: 35 → 200 (+165)\n",
      "🔧 Augmenting label 22: 77 → 200 (+123)\n",
      "🔧 Augmenting label 23: 160 → 200 (+40)\n",
      "🔧 Augmenting label 24: 16 → 200 (+184)\n",
      "🔧 Augmenting label 25: 51 → 200 (+149)\n",
      "🔧 Augmenting label 26: 85 → 200 (+115)\n",
      "🔧 Augmenting label 27: 49 → 200 (+151)\n",
      "🔧 Augmenting label 28: 12 → 200 (+188)\n",
      "🔧 Augmenting label 29: 13 → 200 (+187)\n",
      "🔧 Augmenting label 30: 15 → 200 (+185)\n",
      "🔧 Augmenting label 31: 80 → 200 (+120)\n",
      "🔧 Augmenting label 32: 36 → 200 (+164)\n",
      "🔧 Augmenting label 33: 32 → 200 (+168)\n",
      "🔧 Augmenting label 34: 29 → 200 (+171)\n",
      "🔧 Augmenting label 35: 12 → 200 (+188)\n",
      "🔧 Augmenting label 36: 28 → 200 (+172)\n",
      "🔧 Augmenting label 37: 22 → 200 (+178)\n",
      "🔧 Augmenting label 38: 6 → 200 (+194)\n",
      "🔧 Augmenting label 39: 103 → 200 (+97)\n",
      "🔧 Augmenting label 40: 11 → 200 (+189)\n",
      "🔧 Augmenting label 41: 9 → 200 (+191)\n",
      "🔧 Augmenting label 42: 148 → 200 (+52)\n",
      "🔧 Augmenting label 43: 16 → 200 (+184)\n",
      "🔧 Augmenting label 44: 20 → 200 (+180)\n",
      "🔧 Augmenting label 45: 8 → 200 (+192)\n",
      "🔧 Augmenting label 46: 54 → 200 (+146)\n",
      "🔧 Augmenting label 49: 70 → 200 (+130)\n",
      "Label distribution after resampling:\n",
      "  label 0: 3179\n",
      "  label 1: 200\n",
      "  label 2: 200\n",
      "  label 3: 200\n",
      "  label 4: 206\n",
      "  label 5: 200\n",
      "  label 6: 200\n",
      "  label 7: 200\n",
      "  label 8: 200\n",
      "  label 9: 200\n",
      "  label 10: 200\n",
      "  label 11: 200\n",
      "  label 12: 200\n",
      "  label 13: 200\n",
      "  label 14: 200\n",
      "  label 15: 200\n",
      "  label 16: 200\n",
      "  label 17: 232\n",
      "  label 18: 200\n",
      "  label 19: 200\n",
      "  label 20: 200\n",
      "  label 21: 200\n",
      "  label 22: 200\n",
      "  label 23: 200\n",
      "  label 24: 200\n",
      "  label 25: 200\n",
      "  label 26: 200\n",
      "  label 27: 200\n",
      "  label 28: 200\n",
      "  label 29: 200\n",
      "  label 30: 200\n",
      "  label 31: 200\n",
      "  label 32: 200\n",
      "  label 33: 200\n",
      "  label 34: 200\n",
      "  label 35: 200\n",
      "  label 36: 200\n",
      "  label 37: 200\n",
      "  label 38: 200\n",
      "  label 39: 200\n",
      "  label 40: 200\n",
      "  label 41: 200\n",
      "  label 42: 200\n",
      "  label 43: 200\n",
      "  label 44: 200\n",
      "  label 45: 200\n",
      "  label 46: 200\n",
      "  label 47: 529\n",
      "  label 48: 201\n",
      "  label 49: 200\n",
      "model is microsoft/deberta-base\n"
     ]
    },
    {
     "name": "stderr",
     "output_type": "stream",
     "text": [
      "Some weights of DebertaForSequenceClassification were not initialized from the model checkpoint at microsoft/deberta-base and are newly initialized: ['classifier.bias', 'classifier.weight', 'pooler.dense.bias', 'pooler.dense.weight']\n",
      "You should probably TRAIN this model on a down-stream task to be able to use it for predictions and inference.\n"
     ]
    },
    {
     "name": "stdout",
     "output_type": "stream",
     "text": [
      "Epoch 1/20\n"
     ]
    },
    {
     "name": "stderr",
     "output_type": "stream",
     "text": [
      "100%|██████████| 835/835 [01:25<00:00,  9.81it/s]\n"
     ]
    },
    {
     "name": "stdout",
     "output_type": "stream",
     "text": [
      "{'val_loss': 1.2796045905857716, 'val_accuracy': 0.6274393849793022, 'precision': 0.656382937685065, 'recall': 0.6274393849793022, 'f1-score': 0.6167011371506742, 'macro_f1-score': 0.3407988472198277, 'balanced_accuracy': 0.391999399366305, 'mcc': 0.5107195005868976, 'train_loss': 2.0492534255553148}\n",
      "Epoch 2/20\n"
     ]
    },
    {
     "name": "stderr",
     "output_type": "stream",
     "text": [
      "100%|██████████| 835/835 [01:25<00:00,  9.79it/s]\n"
     ]
    },
    {
     "name": "stdout",
     "output_type": "stream",
     "text": [
      "{'val_loss': 1.2451887001406472, 'val_accuracy': 0.6694263749260793, 'precision': 0.6710760192230117, 'recall': 0.6694263749260793, 'f1-score': 0.642348186514705, 'macro_f1-score': 0.3753215330536451, 'balanced_accuracy': 0.3770034435513437, 'mcc': 0.5514905452099403, 'train_loss': 0.775824820683031}\n",
      "Epoch 3/20\n"
     ]
    },
    {
     "name": "stderr",
     "output_type": "stream",
     "text": [
      "100%|██████████| 835/835 [01:25<00:00,  9.81it/s]\n"
     ]
    },
    {
     "name": "stdout",
     "output_type": "stream",
     "text": [
      "{'val_loss': 1.3230460913113828, 'val_accuracy': 0.6723832052040213, 'precision': 0.6943240698059026, 'recall': 0.6723832052040213, 'f1-score': 0.673366860769208, 'macro_f1-score': 0.4259993280070609, 'balanced_accuracy': 0.4309479968067304, 'mcc': 0.5775447703934177, 'train_loss': 0.4490284070417196}\n",
      "Epoch 4/20\n"
     ]
    },
    {
     "name": "stderr",
     "output_type": "stream",
     "text": [
      "100%|██████████| 835/835 [01:25<00:00,  9.81it/s]\n"
     ]
    },
    {
     "name": "stdout",
     "output_type": "stream",
     "text": [
      "{'val_loss': 1.4473524473185808, 'val_accuracy': 0.6901241868716735, 'precision': 0.6743657724114641, 'recall': 0.6901241868716735, 'f1-score': 0.6539085545621026, 'macro_f1-score': 0.39395255507284654, 'balanced_accuracy': 0.3546282354488297, 'mcc': 0.574377175857181, 'train_loss': 0.31760748710014863}\n",
      "Epoch 5/20\n"
     ]
    },
    {
     "name": "stderr",
     "output_type": "stream",
     "text": [
      "100%|██████████| 835/835 [01:25<00:00,  9.81it/s]\n"
     ]
    },
    {
     "name": "stdout",
     "output_type": "stream",
     "text": [
      "{'val_loss': 1.4539336851745281, 'val_accuracy': 0.6617386162034299, 'precision': 0.6915501302199021, 'recall': 0.6617386162034299, 'f1-score': 0.662957570060453, 'macro_f1-score': 0.42870326681283705, 'balanced_accuracy': 0.4333751586292644, 'mcc': 0.5643503746247651, 'train_loss': 0.2503701797106532}\n",
      "Epoch 6/20\n"
     ]
    },
    {
     "name": "stderr",
     "output_type": "stream",
     "text": [
      "100%|██████████| 835/835 [01:25<00:00,  9.80it/s]\n"
     ]
    },
    {
     "name": "stdout",
     "output_type": "stream",
     "text": [
      "{'val_loss': 1.5689406642374002, 'val_accuracy': 0.6664695446481372, 'precision': 0.6750744087526066, 'recall': 0.6664695446481372, 'f1-score': 0.6625255971711835, 'macro_f1-score': 0.3906968599467837, 'balanced_accuracy': 0.39968762554359705, 'mcc': 0.5690260255701158, 'train_loss': 0.22287530327539243}\n",
      "Epoch 7/20\n"
     ]
    },
    {
     "name": "stderr",
     "output_type": "stream",
     "text": [
      "100%|██████████| 835/835 [01:25<00:00,  9.80it/s]\n"
     ]
    },
    {
     "name": "stdout",
     "output_type": "stream",
     "text": [
      "{'val_loss': 1.6159167694595624, 'val_accuracy': 0.6806623299822591, 'precision': 0.6869064249606176, 'recall': 0.6806623299822591, 'f1-score': 0.6747008525004462, 'macro_f1-score': 0.4233224357514892, 'balanced_accuracy': 0.43574832586508067, 'mcc': 0.5833491661705948, 'train_loss': 0.2075700354310656}\n",
      "Epoch 8/20\n"
     ]
    },
    {
     "name": "stderr",
     "output_type": "stream",
     "text": [
      "100%|██████████| 835/835 [01:25<00:00,  9.82it/s]\n"
     ]
    },
    {
     "name": "stdout",
     "output_type": "stream",
     "text": [
      "{'val_loss': 1.7362182452431265, 'val_accuracy': 0.6688350088704909, 'precision': 0.6953654150620113, 'recall': 0.6688350088704909, 'f1-score': 0.6670416414760248, 'macro_f1-score': 0.41115277880341267, 'balanced_accuracy': 0.43631225209669494, 'mcc': 0.5758520570638684, 'train_loss': 0.17810115433196275}\n",
      "Early stopping.\n",
      "\n",
      "[Fold 5]\n",
      "🚀 Using Word2Vec for data augmentation\n",
      "🔧 Augmenting label 1: 24 → 200 (+176)\n",
      "🔧 Augmenting label 2: 112 → 200 (+88)\n",
      "🔧 Augmenting label 3: 24 → 200 (+176)\n",
      "🔧 Augmenting label 5: 116 → 200 (+84)\n",
      "🔧 Augmenting label 6: 95 → 200 (+105)\n",
      "🔧 Augmenting label 7: 31 → 200 (+169)\n",
      "🔧 Augmenting label 8: 68 → 200 (+132)\n",
      "🔧 Augmenting label 9: 65 → 200 (+135)\n",
      "🔧 Augmenting label 10: 70 → 200 (+130)\n",
      "🔧 Augmenting label 11: 172 → 200 (+28)\n",
      "🔧 Augmenting label 12: 193 → 200 (+7)\n",
      "🔧 Augmenting label 13: 29 → 200 (+171)\n",
      "🔧 Augmenting label 14: 23 → 200 (+177)\n",
      "🔧 Augmenting label 15: 25 → 200 (+175)\n",
      "🔧 Augmenting label 16: 20 → 200 (+180)\n",
      "🔧 Augmenting label 18: 93 → 200 (+107)\n",
      "🔧 Augmenting label 19: 44 → 200 (+156)\n",
      "🔧 Augmenting label 20: 15 → 200 (+185)\n",
      "🔧 Augmenting label 21: 35 → 200 (+165)\n",
      "🔧 Augmenting label 22: 78 → 200 (+122)\n",
      "🔧 Augmenting label 23: 160 → 200 (+40)\n",
      "🔧 Augmenting label 24: 16 → 200 (+184)\n",
      "🔧 Augmenting label 25: 50 → 200 (+150)\n",
      "🔧 Augmenting label 26: 86 → 200 (+114)\n",
      "🔧 Augmenting label 27: 48 → 200 (+152)\n",
      "🔧 Augmenting label 28: 12 → 200 (+188)\n",
      "🔧 Augmenting label 29: 13 → 200 (+187)\n",
      "🔧 Augmenting label 30: 15 → 200 (+185)\n",
      "🔧 Augmenting label 31: 80 → 200 (+120)\n",
      "🔧 Augmenting label 32: 36 → 200 (+164)\n",
      "🔧 Augmenting label 33: 32 → 200 (+168)\n",
      "🔧 Augmenting label 34: 30 → 200 (+170)\n",
      "🔧 Augmenting label 35: 12 → 200 (+188)\n",
      "🔧 Augmenting label 36: 28 → 200 (+172)\n",
      "🔧 Augmenting label 37: 21 → 200 (+179)\n",
      "🔧 Augmenting label 38: 6 → 200 (+194)\n",
      "🔧 Augmenting label 39: 104 → 200 (+96)\n",
      "🔧 Augmenting label 40: 11 → 200 (+189)\n",
      "🔧 Augmenting label 41: 9 → 200 (+191)\n",
      "🔧 Augmenting label 42: 147 → 200 (+53)\n",
      "🔧 Augmenting label 43: 16 → 200 (+184)\n",
      "🔧 Augmenting label 44: 20 → 200 (+180)\n",
      "🔧 Augmenting label 45: 9 → 200 (+191)\n",
      "🔧 Augmenting label 46: 54 → 200 (+146)\n",
      "🔧 Augmenting label 49: 70 → 200 (+130)\n",
      "Label distribution after resampling:\n",
      "  label 0: 3180\n",
      "  label 1: 200\n",
      "  label 2: 200\n",
      "  label 3: 200\n",
      "  label 4: 205\n",
      "  label 5: 200\n",
      "  label 6: 200\n",
      "  label 7: 200\n",
      "  label 8: 200\n",
      "  label 9: 200\n",
      "  label 10: 200\n",
      "  label 11: 200\n",
      "  label 12: 200\n",
      "  label 13: 200\n",
      "  label 14: 200\n",
      "  label 15: 200\n",
      "  label 16: 200\n",
      "  label 17: 231\n",
      "  label 18: 200\n",
      "  label 19: 200\n",
      "  label 20: 200\n",
      "  label 21: 200\n",
      "  label 22: 200\n",
      "  label 23: 200\n",
      "  label 24: 200\n",
      "  label 25: 200\n",
      "  label 26: 200\n",
      "  label 27: 200\n",
      "  label 28: 200\n",
      "  label 29: 200\n",
      "  label 30: 200\n",
      "  label 31: 200\n",
      "  label 32: 200\n",
      "  label 33: 200\n",
      "  label 34: 200\n",
      "  label 35: 200\n",
      "  label 36: 200\n",
      "  label 37: 200\n",
      "  label 38: 200\n",
      "  label 39: 200\n",
      "  label 40: 200\n",
      "  label 41: 200\n",
      "  label 42: 200\n",
      "  label 43: 200\n",
      "  label 44: 200\n",
      "  label 45: 200\n",
      "  label 46: 200\n",
      "  label 47: 529\n",
      "  label 48: 202\n",
      "  label 49: 200\n",
      "model is microsoft/deberta-base\n"
     ]
    },
    {
     "name": "stderr",
     "output_type": "stream",
     "text": [
      "Some weights of DebertaForSequenceClassification were not initialized from the model checkpoint at microsoft/deberta-base and are newly initialized: ['classifier.bias', 'classifier.weight', 'pooler.dense.bias', 'pooler.dense.weight']\n",
      "You should probably TRAIN this model on a down-stream task to be able to use it for predictions and inference.\n"
     ]
    },
    {
     "name": "stdout",
     "output_type": "stream",
     "text": [
      "Epoch 1/20\n"
     ]
    },
    {
     "name": "stderr",
     "output_type": "stream",
     "text": [
      "100%|██████████| 835/835 [01:25<00:00,  9.81it/s]\n"
     ]
    },
    {
     "name": "stdout",
     "output_type": "stream",
     "text": [
      "{'val_loss': 1.4518511312187843, 'val_accuracy': 0.58698224852071, 'precision': 0.6296794724886067, 'recall': 0.58698224852071, 'f1-score': 0.565170292776907, 'macro_f1-score': 0.2872574187428617, 'balanced_accuracy': 0.3441220455014712, 'mcc': 0.44732619951332103, 'train_loss': 2.3986902872959295}\n",
      "Epoch 2/20\n"
     ]
    },
    {
     "name": "stderr",
     "output_type": "stream",
     "text": [
      "100%|██████████| 835/835 [01:25<00:00,  9.79it/s]\n"
     ]
    },
    {
     "name": "stdout",
     "output_type": "stream",
     "text": [
      "{'val_loss': 1.3552752283384215, 'val_accuracy': 0.6502958579881657, 'precision': 0.6537607777815103, 'recall': 0.6502958579881657, 'f1-score': 0.6300778140258663, 'macro_f1-score': 0.3545891442111097, 'balanced_accuracy': 0.3833459254072163, 'mcc': 0.5355001731274174, 'train_loss': 0.9631783574819565}\n",
      "Epoch 3/20\n"
     ]
    },
    {
     "name": "stderr",
     "output_type": "stream",
     "text": [
      "100%|██████████| 835/835 [01:25<00:00,  9.80it/s]\n"
     ]
    },
    {
     "name": "stdout",
     "output_type": "stream",
     "text": [
      "{'val_loss': 1.374683602519755, 'val_accuracy': 0.6497041420118344, 'precision': 0.6721022452038785, 'recall': 0.6497041420118344, 'f1-score': 0.6379505739698232, 'macro_f1-score': 0.35928809133805556, 'balanced_accuracy': 0.36892756833304347, 'mcc': 0.5436740101057904, 'train_loss': 0.5411020275049224}\n",
      "Epoch 4/20\n"
     ]
    },
    {
     "name": "stderr",
     "output_type": "stream",
     "text": [
      "100%|██████████| 835/835 [01:25<00:00,  9.80it/s]\n"
     ]
    },
    {
     "name": "stdout",
     "output_type": "stream",
     "text": [
      "{'val_loss': 2.909637820045903, 'val_accuracy': 0.46982248520710057, 'precision': 0.22073316760617626, 'recall': 0.46982248520710057, 'f1-score': 0.3003535050357793, 'macro_f1-score': 0.012785829307568436, 'balanced_accuracy': 0.02, 'mcc': 0.0, 'train_loss': 2.4582003503279415}\n",
      "Epoch 5/20\n"
     ]
    },
    {
     "name": "stderr",
     "output_type": "stream",
     "text": [
      "100%|██████████| 835/835 [01:25<00:00,  9.82it/s]\n"
     ]
    },
    {
     "name": "stdout",
     "output_type": "stream",
     "text": [
      "{'val_loss': 2.8134158118715824, 'val_accuracy': 0.46982248520710057, 'precision': 0.22073316760617626, 'recall': 0.46982248520710057, 'f1-score': 0.3003535050357793, 'macro_f1-score': 0.012785829307568436, 'balanced_accuracy': 0.02, 'mcc': 0.0, 'train_loss': 3.5160644231442206}\n",
      "Epoch 6/20\n"
     ]
    },
    {
     "name": "stderr",
     "output_type": "stream",
     "text": [
      "100%|██████████| 835/835 [01:25<00:00,  9.80it/s]\n"
     ]
    },
    {
     "name": "stdout",
     "output_type": "stream",
     "text": [
      "{'val_loss': 2.7160581766434437, 'val_accuracy': 0.46982248520710057, 'precision': 0.22073316760617626, 'recall': 0.46982248520710057, 'f1-score': 0.3003535050357793, 'macro_f1-score': 0.012785829307568436, 'balanced_accuracy': 0.02, 'mcc': 0.0, 'train_loss': 3.4914253251995153}\n",
      "Early stopping.\n",
      "\n",
      " === microsoft/deberta-base + plain + word2vec Final 5-fold Cross-Validation Results ===\n",
      "Total time: 3520 seconds\n",
      "Total time: 0 hrs 58 mins 40 secs\n",
      "val_loss: 1.5070\n",
      "val_accuracy: 0.6673\n",
      "precision: 0.6731\n",
      "recall: 0.6673\n",
      "f1-score: 0.6525\n",
      "macro_f1-score: 0.4005\n",
      "balanced_accuracy: 0.3907\n",
      "mcc: 0.5575\n",
      "train_loss: 0.3592\n",
      "▶ Running: microsoft/deberta-base + lstm + word2vec\n",
      "tokenizer is microsoft/deberta-base\n",
      "Using device: cuda\n",
      "CUDA Available: True\n",
      "CUDA Device: NVIDIA GeForce RTX 5070 Ti\n",
      "Current GPU Memory Allocated: 0.02 GB\n",
      "Current GPU Memory Cached: 5.29 GB\n",
      "\n",
      "[Fold 1]\n",
      "🚀 Using Word2Vec for data augmentation\n",
      "🔧 Augmenting label 1: 25 → 200 (+175)\n",
      "🔧 Augmenting label 2: 112 → 200 (+88)\n",
      "🔧 Augmenting label 3: 24 → 200 (+176)\n",
      "🔧 Augmenting label 5: 116 → 200 (+84)\n",
      "🔧 Augmenting label 6: 95 → 200 (+105)\n",
      "🔧 Augmenting label 7: 31 → 200 (+169)\n",
      "🔧 Augmenting label 8: 68 → 200 (+132)\n",
      "🔧 Augmenting label 9: 65 → 200 (+135)\n",
      "🔧 Augmenting label 10: 70 → 200 (+130)\n",
      "🔧 Augmenting label 11: 172 → 200 (+28)\n",
      "🔧 Augmenting label 12: 193 → 200 (+7)\n",
      "🔧 Augmenting label 13: 29 → 200 (+171)\n",
      "🔧 Augmenting label 14: 23 → 200 (+177)\n",
      "🔧 Augmenting label 15: 25 → 200 (+175)\n",
      "🔧 Augmenting label 16: 20 → 200 (+180)\n",
      "🔧 Augmenting label 18: 93 → 200 (+107)\n",
      "🔧 Augmenting label 19: 45 → 200 (+155)\n",
      "🔧 Augmenting label 20: 14 → 200 (+186)\n",
      "🔧 Augmenting label 21: 35 → 200 (+165)\n",
      "🔧 Augmenting label 22: 78 → 200 (+122)\n",
      "🔧 Augmenting label 23: 160 → 200 (+40)\n",
      "🔧 Augmenting label 24: 16 → 200 (+184)\n",
      "🔧 Augmenting label 25: 50 → 200 (+150)\n",
      "🔧 Augmenting label 26: 86 → 200 (+114)\n",
      "🔧 Augmenting label 27: 49 → 200 (+151)\n",
      "🔧 Augmenting label 28: 12 → 200 (+188)\n",
      "🔧 Augmenting label 29: 13 → 200 (+187)\n",
      "🔧 Augmenting label 30: 15 → 200 (+185)\n",
      "🔧 Augmenting label 31: 80 → 200 (+120)\n",
      "🔧 Augmenting label 32: 36 → 200 (+164)\n",
      "🔧 Augmenting label 33: 32 → 200 (+168)\n",
      "🔧 Augmenting label 34: 30 → 200 (+170)\n",
      "🔧 Augmenting label 35: 12 → 200 (+188)\n",
      "🔧 Augmenting label 36: 28 → 200 (+172)\n",
      "🔧 Augmenting label 37: 21 → 200 (+179)\n",
      "🔧 Augmenting label 38: 6 → 200 (+194)\n",
      "🔧 Augmenting label 39: 103 → 200 (+97)\n",
      "🔧 Augmenting label 40: 12 → 200 (+188)\n",
      "🔧 Augmenting label 41: 8 → 200 (+192)\n",
      "🔧 Augmenting label 42: 147 → 200 (+53)\n",
      "🔧 Augmenting label 43: 16 → 200 (+184)\n",
      "🔧 Augmenting label 44: 20 → 200 (+180)\n",
      "🔧 Augmenting label 45: 9 → 200 (+191)\n",
      "🔧 Augmenting label 46: 54 → 200 (+146)\n",
      "🔧 Augmenting label 49: 69 → 200 (+131)\n",
      "Label distribution after resampling:\n",
      "  label 0: 3179\n",
      "  label 1: 200\n",
      "  label 2: 200\n",
      "  label 3: 200\n",
      "  label 4: 205\n",
      "  label 5: 200\n",
      "  label 6: 200\n",
      "  label 7: 200\n",
      "  label 8: 200\n",
      "  label 9: 200\n",
      "  label 10: 200\n",
      "  label 11: 200\n",
      "  label 12: 200\n",
      "  label 13: 200\n",
      "  label 14: 200\n",
      "  label 15: 200\n",
      "  label 16: 200\n",
      "  label 17: 231\n",
      "  label 18: 200\n",
      "  label 19: 200\n",
      "  label 20: 200\n",
      "  label 21: 200\n",
      "  label 22: 200\n",
      "  label 23: 200\n",
      "  label 24: 200\n",
      "  label 25: 200\n",
      "  label 26: 200\n",
      "  label 27: 200\n",
      "  label 28: 200\n",
      "  label 29: 200\n",
      "  label 30: 200\n",
      "  label 31: 200\n",
      "  label 32: 200\n",
      "  label 33: 200\n",
      "  label 34: 200\n",
      "  label 35: 200\n",
      "  label 36: 200\n",
      "  label 37: 200\n",
      "  label 38: 200\n",
      "  label 39: 200\n",
      "  label 40: 200\n",
      "  label 41: 200\n",
      "  label 42: 200\n",
      "  label 43: 200\n",
      "  label 44: 200\n",
      "  label 45: 200\n",
      "  label 46: 200\n",
      "  label 47: 529\n",
      "  label 48: 202\n",
      "  label 49: 200\n",
      "model is microsoft/deberta-base lstm\n",
      "Epoch 1/20\n"
     ]
    },
    {
     "name": "stderr",
     "output_type": "stream",
     "text": [
      "100%|██████████| 835/835 [01:29<00:00,  9.35it/s]\n"
     ]
    },
    {
     "name": "stdout",
     "output_type": "stream",
     "text": [
      "{'val_loss': 2.283568359770865, 'val_accuracy': 0.5150798344175045, 'precision': 0.31234657091844736, 'recall': 0.5150798344175045, 'f1-score': 0.38731109576550066, 'macro_f1-score': 0.031726119019036186, 'balanced_accuracy': 0.05651449808053581, 'mcc': 0.26858906989886683, 'train_loss': 3.190298840385711}\n",
      "Epoch 2/20\n"
     ]
    },
    {
     "name": "stderr",
     "output_type": "stream",
     "text": [
      "100%|██████████| 835/835 [01:29<00:00,  9.33it/s]\n"
     ]
    },
    {
     "name": "stdout",
     "output_type": "stream",
     "text": [
      "{'val_loss': 2.153077978008198, 'val_accuracy': 0.5091661738616203, 'precision': 0.369767918742611, 'recall': 0.5091661738616203, 'f1-score': 0.4255755040737185, 'macro_f1-score': 0.048788351562830956, 'balanced_accuracy': 0.0807302395931006, 'mcc': 0.2991213189781758, 'train_loss': 2.8331220928066503}\n",
      "Epoch 3/20\n"
     ]
    },
    {
     "name": "stderr",
     "output_type": "stream",
     "text": [
      "100%|██████████| 835/835 [01:29<00:00,  9.34it/s]\n"
     ]
    },
    {
     "name": "stdout",
     "output_type": "stream",
     "text": [
      "{'val_loss': 2.148676872253418, 'val_accuracy': 0.5103489059727971, 'precision': 0.37222848981311274, 'recall': 0.5103489059727971, 'f1-score': 0.42467340739035286, 'macro_f1-score': 0.04101328031520453, 'balanced_accuracy': 0.09212179524144049, 'mcc': 0.3009973761838599, 'train_loss': 2.786304990688484}\n",
      "Epoch 4/20\n"
     ]
    },
    {
     "name": "stderr",
     "output_type": "stream",
     "text": [
      "100%|██████████| 835/835 [01:29<00:00,  9.34it/s]\n"
     ]
    },
    {
     "name": "stdout",
     "output_type": "stream",
     "text": [
      "{'val_loss': 2.118322975230667, 'val_accuracy': 0.5133057362507392, 'precision': 0.38852569662403763, 'recall': 0.5133057362507392, 'f1-score': 0.43190790545016033, 'macro_f1-score': 0.04819702201954081, 'balanced_accuracy': 0.07648965322022884, 'mcc': 0.3117966118785192, 'train_loss': 2.698435045787674}\n",
      "Epoch 5/20\n"
     ]
    },
    {
     "name": "stderr",
     "output_type": "stream",
     "text": [
      "100%|██████████| 835/835 [01:29<00:00,  9.34it/s]\n"
     ]
    },
    {
     "name": "stdout",
     "output_type": "stream",
     "text": [
      "{'val_loss': 2.283953698738566, 'val_accuracy': 0.511531638083974, 'precision': 0.37197256696972236, 'recall': 0.511531638083974, 'f1-score': 0.40142432404894685, 'macro_f1-score': 0.03936635742148228, 'balanced_accuracy': 0.08711774540792107, 'mcc': 0.27406885768634925, 'train_loss': 2.7993204672179535}\n",
      "Early stopping.\n",
      "\n",
      "[Fold 2]\n",
      "🚀 Using Word2Vec for data augmentation\n",
      "🔧 Augmenting label 1: 25 → 200 (+175)\n",
      "🔧 Augmenting label 2: 112 → 200 (+88)\n",
      "🔧 Augmenting label 3: 24 → 200 (+176)\n",
      "🔧 Augmenting label 5: 116 → 200 (+84)\n",
      "🔧 Augmenting label 6: 94 → 200 (+106)\n",
      "🔧 Augmenting label 7: 31 → 200 (+169)\n",
      "🔧 Augmenting label 8: 68 → 200 (+132)\n",
      "🔧 Augmenting label 9: 65 → 200 (+135)\n",
      "🔧 Augmenting label 10: 70 → 200 (+130)\n",
      "🔧 Augmenting label 11: 172 → 200 (+28)\n",
      "🔧 Augmenting label 12: 193 → 200 (+7)\n",
      "🔧 Augmenting label 13: 29 → 200 (+171)\n",
      "🔧 Augmenting label 14: 23 → 200 (+177)\n",
      "🔧 Augmenting label 15: 25 → 200 (+175)\n",
      "🔧 Augmenting label 16: 20 → 200 (+180)\n",
      "🔧 Augmenting label 18: 93 → 200 (+107)\n",
      "🔧 Augmenting label 19: 45 → 200 (+155)\n",
      "🔧 Augmenting label 20: 14 → 200 (+186)\n",
      "🔧 Augmenting label 21: 35 → 200 (+165)\n",
      "🔧 Augmenting label 22: 78 → 200 (+122)\n",
      "🔧 Augmenting label 23: 160 → 200 (+40)\n",
      "🔧 Augmenting label 24: 16 → 200 (+184)\n",
      "🔧 Augmenting label 25: 50 → 200 (+150)\n",
      "🔧 Augmenting label 26: 86 → 200 (+114)\n",
      "🔧 Augmenting label 27: 49 → 200 (+151)\n",
      "🔧 Augmenting label 28: 12 → 200 (+188)\n",
      "🔧 Augmenting label 29: 13 → 200 (+187)\n",
      "🔧 Augmenting label 30: 15 → 200 (+185)\n",
      "🔧 Augmenting label 31: 80 → 200 (+120)\n",
      "🔧 Augmenting label 32: 36 → 200 (+164)\n",
      "🔧 Augmenting label 33: 32 → 200 (+168)\n",
      "🔧 Augmenting label 34: 30 → 200 (+170)\n",
      "🔧 Augmenting label 35: 12 → 200 (+188)\n",
      "🔧 Augmenting label 36: 28 → 200 (+172)\n",
      "🔧 Augmenting label 37: 22 → 200 (+178)\n",
      "🔧 Augmenting label 38: 5 → 200 (+195)\n",
      "🔧 Augmenting label 39: 103 → 200 (+97)\n",
      "🔧 Augmenting label 40: 11 → 200 (+189)\n",
      "🔧 Augmenting label 41: 9 → 200 (+191)\n",
      "🔧 Augmenting label 42: 147 → 200 (+53)\n",
      "🔧 Augmenting label 43: 16 → 200 (+184)\n",
      "🔧 Augmenting label 44: 20 → 200 (+180)\n",
      "🔧 Augmenting label 45: 9 → 200 (+191)\n",
      "🔧 Augmenting label 46: 55 → 200 (+145)\n",
      "🔧 Augmenting label 49: 69 → 200 (+131)\n",
      "Label distribution after resampling:\n",
      "  label 0: 3179\n",
      "  label 1: 200\n",
      "  label 2: 200\n",
      "  label 3: 200\n",
      "  label 4: 206\n",
      "  label 5: 200\n",
      "  label 6: 200\n",
      "  label 7: 200\n",
      "  label 8: 200\n",
      "  label 9: 200\n",
      "  label 10: 200\n",
      "  label 11: 200\n",
      "  label 12: 200\n",
      "  label 13: 200\n",
      "  label 14: 200\n",
      "  label 15: 200\n",
      "  label 16: 200\n",
      "  label 17: 231\n",
      "  label 18: 200\n",
      "  label 19: 200\n",
      "  label 20: 200\n",
      "  label 21: 200\n",
      "  label 22: 200\n",
      "  label 23: 200\n",
      "  label 24: 200\n",
      "  label 25: 200\n",
      "  label 26: 200\n",
      "  label 27: 200\n",
      "  label 28: 200\n",
      "  label 29: 200\n",
      "  label 30: 200\n",
      "  label 31: 200\n",
      "  label 32: 200\n",
      "  label 33: 200\n",
      "  label 34: 200\n",
      "  label 35: 200\n",
      "  label 36: 200\n",
      "  label 37: 200\n",
      "  label 38: 200\n",
      "  label 39: 200\n",
      "  label 40: 200\n",
      "  label 41: 200\n",
      "  label 42: 200\n",
      "  label 43: 200\n",
      "  label 44: 200\n",
      "  label 45: 200\n",
      "  label 46: 200\n",
      "  label 47: 528\n",
      "  label 48: 202\n",
      "  label 49: 200\n",
      "model is microsoft/deberta-base lstm\n",
      "Epoch 1/20\n"
     ]
    },
    {
     "name": "stderr",
     "output_type": "stream",
     "text": [
      "100%|██████████| 835/835 [01:29<00:00,  9.34it/s]\n"
     ]
    },
    {
     "name": "stdout",
     "output_type": "stream",
     "text": [
      "{'val_loss': 2.2382102136342032, 'val_accuracy': 0.5292726197516262, 'precision': 0.3019916965995594, 'recall': 0.5292726197516262, 'f1-score': 0.38386724913335174, 'macro_f1-score': 0.024504305000983266, 'balanced_accuracy': 0.03591412493497896, 'mcc': 0.27798224667272475, 'train_loss': 3.2108084278906177}\n",
      "Epoch 2/20\n"
     ]
    },
    {
     "name": "stderr",
     "output_type": "stream",
     "text": [
      "100%|██████████| 835/835 [01:29<00:00,  9.35it/s]\n"
     ]
    },
    {
     "name": "stdout",
     "output_type": "stream",
     "text": [
      "{'val_loss': 2.77648386302984, 'val_accuracy': 0.47013601419278533, 'precision': 0.22102787184107886, 'recall': 0.47013601419278533, 'f1-score': 0.30069037110479835, 'macro_f1-score': 0.012791633145615447, 'balanced_accuracy': 0.02, 'mcc': 0.0, 'train_loss': 3.1626875950190834}\n",
      "Epoch 3/20\n"
     ]
    },
    {
     "name": "stderr",
     "output_type": "stream",
     "text": [
      "100%|██████████| 835/835 [01:29<00:00,  9.34it/s]\n"
     ]
    },
    {
     "name": "stdout",
     "output_type": "stream",
     "text": [
      "{'val_loss': 2.9595386419656142, 'val_accuracy': 0.47013601419278533, 'precision': 0.22102787184107886, 'recall': 0.47013601419278533, 'f1-score': 0.30069037110479835, 'macro_f1-score': 0.012791633145615447, 'balanced_accuracy': 0.02, 'mcc': 0.0, 'train_loss': 3.39622463323399}\n",
      "Epoch 4/20\n"
     ]
    },
    {
     "name": "stderr",
     "output_type": "stream",
     "text": [
      "100%|██████████| 835/835 [01:29<00:00,  9.35it/s]\n"
     ]
    },
    {
     "name": "stdout",
     "output_type": "stream",
     "text": [
      "{'val_loss': 3.3351325943784893, 'val_accuracy': 0.47013601419278533, 'precision': 0.22102787184107886, 'recall': 0.47013601419278533, 'f1-score': 0.30069037110479835, 'macro_f1-score': 0.012791633145615447, 'balanced_accuracy': 0.02, 'mcc': 0.0, 'train_loss': 3.323742135270627}\n",
      "Early stopping.\n",
      "\n",
      "[Fold 3]\n",
      "🚀 Using Word2Vec for data augmentation\n",
      "🔧 Augmenting label 1: 25 → 200 (+175)\n",
      "🔧 Augmenting label 2: 112 → 200 (+88)\n",
      "🔧 Augmenting label 3: 24 → 200 (+176)\n",
      "🔧 Augmenting label 5: 116 → 200 (+84)\n",
      "🔧 Augmenting label 6: 94 → 200 (+106)\n",
      "🔧 Augmenting label 7: 31 → 200 (+169)\n",
      "🔧 Augmenting label 8: 68 → 200 (+132)\n",
      "🔧 Augmenting label 9: 65 → 200 (+135)\n",
      "🔧 Augmenting label 10: 71 → 200 (+129)\n",
      "🔧 Augmenting label 11: 172 → 200 (+28)\n",
      "🔧 Augmenting label 12: 192 → 200 (+8)\n",
      "🔧 Augmenting label 13: 29 → 200 (+171)\n",
      "🔧 Augmenting label 14: 23 → 200 (+177)\n",
      "🔧 Augmenting label 15: 25 → 200 (+175)\n",
      "🔧 Augmenting label 16: 20 → 200 (+180)\n",
      "🔧 Augmenting label 18: 93 → 200 (+107)\n",
      "🔧 Augmenting label 19: 45 → 200 (+155)\n",
      "🔧 Augmenting label 20: 14 → 200 (+186)\n",
      "🔧 Augmenting label 21: 36 → 200 (+164)\n",
      "🔧 Augmenting label 22: 77 → 200 (+123)\n",
      "🔧 Augmenting label 23: 160 → 200 (+40)\n",
      "🔧 Augmenting label 24: 16 → 200 (+184)\n",
      "🔧 Augmenting label 25: 51 → 200 (+149)\n",
      "🔧 Augmenting label 26: 85 → 200 (+115)\n",
      "🔧 Augmenting label 27: 49 → 200 (+151)\n",
      "🔧 Augmenting label 28: 12 → 200 (+188)\n",
      "🔧 Augmenting label 29: 12 → 200 (+188)\n",
      "🔧 Augmenting label 30: 16 → 200 (+184)\n",
      "🔧 Augmenting label 31: 80 → 200 (+120)\n",
      "🔧 Augmenting label 32: 36 → 200 (+164)\n",
      "🔧 Augmenting label 33: 32 → 200 (+168)\n",
      "🔧 Augmenting label 34: 29 → 200 (+171)\n",
      "🔧 Augmenting label 35: 12 → 200 (+188)\n",
      "🔧 Augmenting label 36: 28 → 200 (+172)\n",
      "🔧 Augmenting label 37: 22 → 200 (+178)\n",
      "🔧 Augmenting label 38: 5 → 200 (+195)\n",
      "🔧 Augmenting label 39: 103 → 200 (+97)\n",
      "🔧 Augmenting label 40: 11 → 200 (+189)\n",
      "🔧 Augmenting label 41: 9 → 200 (+191)\n",
      "🔧 Augmenting label 42: 147 → 200 (+53)\n",
      "🔧 Augmenting label 43: 16 → 200 (+184)\n",
      "🔧 Augmenting label 44: 20 → 200 (+180)\n",
      "🔧 Augmenting label 45: 9 → 200 (+191)\n",
      "🔧 Augmenting label 46: 55 → 200 (+145)\n",
      "🔧 Augmenting label 49: 70 → 200 (+130)\n",
      "Label distribution after resampling:\n",
      "  label 0: 3179\n",
      "  label 1: 200\n",
      "  label 2: 200\n",
      "  label 3: 200\n",
      "  label 4: 206\n",
      "  label 5: 200\n",
      "  label 6: 200\n",
      "  label 7: 200\n",
      "  label 8: 200\n",
      "  label 9: 200\n",
      "  label 10: 200\n",
      "  label 11: 200\n",
      "  label 12: 200\n",
      "  label 13: 200\n",
      "  label 14: 200\n",
      "  label 15: 200\n",
      "  label 16: 200\n",
      "  label 17: 231\n",
      "  label 18: 200\n",
      "  label 19: 200\n",
      "  label 20: 200\n",
      "  label 21: 200\n",
      "  label 22: 200\n",
      "  label 23: 200\n",
      "  label 24: 200\n",
      "  label 25: 200\n",
      "  label 26: 200\n",
      "  label 27: 200\n",
      "  label 28: 200\n",
      "  label 29: 200\n",
      "  label 30: 200\n",
      "  label 31: 200\n",
      "  label 32: 200\n",
      "  label 33: 200\n",
      "  label 34: 200\n",
      "  label 35: 200\n",
      "  label 36: 200\n",
      "  label 37: 200\n",
      "  label 38: 200\n",
      "  label 39: 200\n",
      "  label 40: 200\n",
      "  label 41: 200\n",
      "  label 42: 200\n",
      "  label 43: 200\n",
      "  label 44: 200\n",
      "  label 45: 200\n",
      "  label 46: 200\n",
      "  label 47: 529\n",
      "  label 48: 201\n",
      "  label 49: 200\n",
      "model is microsoft/deberta-base lstm\n",
      "Epoch 1/20\n"
     ]
    },
    {
     "name": "stderr",
     "output_type": "stream",
     "text": [
      "100%|██████████| 835/835 [01:29<00:00,  9.34it/s]\n"
     ]
    },
    {
     "name": "stdout",
     "output_type": "stream",
     "text": [
      "{'val_loss': 2.234431989912717, 'val_accuracy': 0.5351862803075104, 'precision': 0.3469146764139698, 'recall': 0.5351862803075104, 'f1-score': 0.4154199633057875, 'macro_f1-score': 0.03783238907368608, 'balanced_accuracy': 0.06349861990102719, 'mcc': 0.3212784571736229, 'train_loss': 3.203062576876429}\n",
      "Epoch 2/20\n"
     ]
    },
    {
     "name": "stderr",
     "output_type": "stream",
     "text": [
      "100%|██████████| 835/835 [01:29<00:00,  9.35it/s]\n"
     ]
    },
    {
     "name": "stdout",
     "output_type": "stream",
     "text": [
      "{'val_loss': 2.0765927546429186, 'val_accuracy': 0.5121230041395624, 'precision': 0.39081688938995973, 'recall': 0.5121230041395624, 'f1-score': 0.4387696392903348, 'macro_f1-score': 0.05171246110145569, 'balanced_accuracy': 0.0878487608682794, 'mcc': 0.31616377752589636, 'train_loss': 2.7706662440728285}\n",
      "Epoch 3/20\n"
     ]
    },
    {
     "name": "stderr",
     "output_type": "stream",
     "text": [
      "100%|██████████| 835/835 [01:29<00:00,  9.34it/s]\n"
     ]
    },
    {
     "name": "stdout",
     "output_type": "stream",
     "text": [
      "{'val_loss': 2.04479746998481, 'val_accuracy': 0.5198107628622117, 'precision': 0.4004812089824478, 'recall': 0.5198107628622117, 'f1-score': 0.4468182724350708, 'macro_f1-score': 0.057360719208282666, 'balanced_accuracy': 0.09241214965905922, 'mcc': 0.3287958504241393, 'train_loss': 2.5958789449965884}\n",
      "Epoch 4/20\n"
     ]
    },
    {
     "name": "stderr",
     "output_type": "stream",
     "text": [
      "100%|██████████| 835/835 [01:29<00:00,  9.35it/s]\n"
     ]
    },
    {
     "name": "stdout",
     "output_type": "stream",
     "text": [
      "{'val_loss': 2.054087280102496, 'val_accuracy': 0.47900650502661146, 'precision': 0.453809202933826, 'recall': 0.47900650502661146, 'f1-score': 0.4511822205750005, 'macro_f1-score': 0.06409575502871617, 'balanced_accuracy': 0.1226095657757987, 'mcc': 0.31663246485720603, 'train_loss': 2.4414303868116733}\n",
      "Epoch 5/20\n"
     ]
    },
    {
     "name": "stderr",
     "output_type": "stream",
     "text": [
      "100%|██████████| 835/835 [01:29<00:00,  9.33it/s]\n"
     ]
    },
    {
     "name": "stdout",
     "output_type": "stream",
     "text": [
      "{'val_loss': 2.122188294833561, 'val_accuracy': 0.45890005913660553, 'precision': 0.45222552504080715, 'recall': 0.45890005913660553, 'f1-score': 0.4467388007132965, 'macro_f1-score': 0.06000209595204531, 'balanced_accuracy': 0.11194823314471983, 'mcc': 0.30875535994903414, 'train_loss': 2.573104950767791}\n",
      "Epoch 6/20\n"
     ]
    },
    {
     "name": "stderr",
     "output_type": "stream",
     "text": [
      "100%|██████████| 835/835 [01:29<00:00,  9.34it/s]\n"
     ]
    },
    {
     "name": "stdout",
     "output_type": "stream",
     "text": [
      "{'val_loss': 1.9439818105607662, 'val_accuracy': 0.5304553518628031, 'precision': 0.4399621349614406, 'recall': 0.5304553518628031, 'f1-score': 0.46479500154251463, 'macro_f1-score': 0.07613350969315506, 'balanced_accuracy': 0.1252674781787481, 'mcc': 0.34789036634641135, 'train_loss': 2.315948536153325}\n",
      "Epoch 7/20\n"
     ]
    },
    {
     "name": "stderr",
     "output_type": "stream",
     "text": [
      "100%|██████████| 835/835 [01:29<00:00,  9.34it/s]\n"
     ]
    },
    {
     "name": "stdout",
     "output_type": "stream",
     "text": [
      "{'val_loss': 2.010687528916125, 'val_accuracy': 0.4961561206386753, 'precision': 0.4260671677642014, 'recall': 0.4961561206386753, 'f1-score': 0.4456471817413953, 'macro_f1-score': 0.05621551229732011, 'balanced_accuracy': 0.08754973184636722, 'mcc': 0.31270472973521063, 'train_loss': 2.2615566948573744}\n",
      "Epoch 8/20\n"
     ]
    },
    {
     "name": "stderr",
     "output_type": "stream",
     "text": [
      "100%|██████████| 835/835 [01:29<00:00,  9.35it/s]\n"
     ]
    },
    {
     "name": "stdout",
     "output_type": "stream",
     "text": [
      "{'val_loss': 1.987172321328577, 'val_accuracy': 0.527498521584861, 'precision': 0.44602944549553586, 'recall': 0.527498521584861, 'f1-score': 0.45959076362047463, 'macro_f1-score': 0.08115030529471168, 'balanced_accuracy': 0.13066422245056514, 'mcc': 0.3451149260814387, 'train_loss': 2.1581713632195294}\n",
      "Epoch 9/20\n"
     ]
    },
    {
     "name": "stderr",
     "output_type": "stream",
     "text": [
      "100%|██████████| 835/835 [01:29<00:00,  9.34it/s]\n"
     ]
    },
    {
     "name": "stdout",
     "output_type": "stream",
     "text": [
      "{'val_loss': 2.1672332669204137, 'val_accuracy': 0.4997043169722058, 'precision': 0.34624474470145866, 'recall': 0.4997043169722058, 'f1-score': 0.4054341889226815, 'macro_f1-score': 0.05465304196969059, 'balanced_accuracy': 0.08700189900293234, 'mcc': 0.27062921131882517, 'train_loss': 2.4358452949695244}\n",
      "Epoch 10/20\n"
     ]
    },
    {
     "name": "stderr",
     "output_type": "stream",
     "text": [
      "100%|██████████| 835/835 [01:29<00:00,  9.34it/s]\n"
     ]
    },
    {
     "name": "stdout",
     "output_type": "stream",
     "text": [
      "{'val_loss': 1.9830595401098143, 'val_accuracy': 0.5221762270845653, 'precision': 0.4716642498459511, 'recall': 0.5221762270845653, 'f1-score': 0.4740692333545325, 'macro_f1-score': 0.12089291032753974, 'balanced_accuracy': 0.1775030806512131, 'mcc': 0.3551380296927462, 'train_loss': 2.1335295567969363}\n",
      "Epoch 11/20\n"
     ]
    },
    {
     "name": "stderr",
     "output_type": "stream",
     "text": [
      "100%|██████████| 835/835 [01:29<00:00,  9.34it/s]\n"
     ]
    },
    {
     "name": "stdout",
     "output_type": "stream",
     "text": [
      "{'val_loss': 2.0989320598683268, 'val_accuracy': 0.46540508574807804, 'precision': 0.48061139643566014, 'recall': 0.46540508574807804, 'f1-score': 0.44765305466810096, 'macro_f1-score': 0.08993668118231467, 'balanced_accuracy': 0.13607148041624786, 'mcc': 0.2957151384503267, 'train_loss': 1.9391322871168217}\n",
      "Epoch 12/20\n"
     ]
    },
    {
     "name": "stderr",
     "output_type": "stream",
     "text": [
      "100%|██████████| 835/835 [01:29<00:00,  9.34it/s]\n"
     ]
    },
    {
     "name": "stdout",
     "output_type": "stream",
     "text": [
      "{'val_loss': 2.1747018627400667, 'val_accuracy': 0.4973388527498522, 'precision': 0.3131532139129907, 'recall': 0.4973388527498522, 'f1-score': 0.38391823391655205, 'macro_f1-score': 0.03154717454568588, 'balanced_accuracy': 0.05248885077186964, 'mcc': 0.23901269862523342, 'train_loss': 2.2613333131738766}\n",
      "Epoch 13/20\n"
     ]
    },
    {
     "name": "stderr",
     "output_type": "stream",
     "text": [
      "100%|██████████| 835/835 [01:29<00:00,  9.34it/s]\n"
     ]
    },
    {
     "name": "stdout",
     "output_type": "stream",
     "text": [
      "{'val_loss': 2.1816689754432104, 'val_accuracy': 0.43524541691306917, 'precision': 0.47429278735767544, 'recall': 0.43524541691306917, 'f1-score': 0.44058892805143196, 'macro_f1-score': 0.11797667567803628, 'balanced_accuracy': 0.16417733668626894, 'mcc': 0.2989704368953155, 'train_loss': 2.173006113846145}\n",
      "Early stopping.\n",
      "\n",
      "[Fold 4]\n",
      "🚀 Using Word2Vec for data augmentation\n",
      "🔧 Augmenting label 1: 25 → 200 (+175)\n",
      "🔧 Augmenting label 2: 112 → 200 (+88)\n",
      "🔧 Augmenting label 3: 24 → 200 (+176)\n",
      "🔧 Augmenting label 5: 116 → 200 (+84)\n",
      "🔧 Augmenting label 6: 94 → 200 (+106)\n",
      "🔧 Augmenting label 7: 32 → 200 (+168)\n",
      "🔧 Augmenting label 8: 68 → 200 (+132)\n",
      "🔧 Augmenting label 9: 64 → 200 (+136)\n",
      "🔧 Augmenting label 10: 71 → 200 (+129)\n",
      "🔧 Augmenting label 11: 172 → 200 (+28)\n",
      "🔧 Augmenting label 12: 193 → 200 (+7)\n",
      "🔧 Augmenting label 13: 28 → 200 (+172)\n",
      "🔧 Augmenting label 14: 24 → 200 (+176)\n",
      "🔧 Augmenting label 15: 24 → 200 (+176)\n",
      "🔧 Augmenting label 16: 20 → 200 (+180)\n",
      "🔧 Augmenting label 18: 92 → 200 (+108)\n",
      "🔧 Augmenting label 19: 45 → 200 (+155)\n",
      "🔧 Augmenting label 20: 15 → 200 (+185)\n",
      "🔧 Augmenting label 21: 35 → 200 (+165)\n",
      "🔧 Augmenting label 22: 77 → 200 (+123)\n",
      "🔧 Augmenting label 23: 160 → 200 (+40)\n",
      "🔧 Augmenting label 24: 16 → 200 (+184)\n",
      "🔧 Augmenting label 25: 51 → 200 (+149)\n",
      "🔧 Augmenting label 26: 85 → 200 (+115)\n",
      "🔧 Augmenting label 27: 49 → 200 (+151)\n",
      "🔧 Augmenting label 28: 12 → 200 (+188)\n",
      "🔧 Augmenting label 29: 13 → 200 (+187)\n",
      "🔧 Augmenting label 30: 15 → 200 (+185)\n",
      "🔧 Augmenting label 31: 80 → 200 (+120)\n",
      "🔧 Augmenting label 32: 36 → 200 (+164)\n",
      "🔧 Augmenting label 33: 32 → 200 (+168)\n",
      "🔧 Augmenting label 34: 29 → 200 (+171)\n",
      "🔧 Augmenting label 35: 12 → 200 (+188)\n",
      "🔧 Augmenting label 36: 28 → 200 (+172)\n",
      "🔧 Augmenting label 37: 22 → 200 (+178)\n",
      "🔧 Augmenting label 38: 6 → 200 (+194)\n",
      "🔧 Augmenting label 39: 103 → 200 (+97)\n",
      "🔧 Augmenting label 40: 11 → 200 (+189)\n",
      "🔧 Augmenting label 41: 9 → 200 (+191)\n",
      "🔧 Augmenting label 42: 148 → 200 (+52)\n",
      "🔧 Augmenting label 43: 16 → 200 (+184)\n",
      "🔧 Augmenting label 44: 20 → 200 (+180)\n",
      "🔧 Augmenting label 45: 8 → 200 (+192)\n",
      "🔧 Augmenting label 46: 54 → 200 (+146)\n",
      "🔧 Augmenting label 49: 70 → 200 (+130)\n",
      "Label distribution after resampling:\n",
      "  label 0: 3179\n",
      "  label 1: 200\n",
      "  label 2: 200\n",
      "  label 3: 200\n",
      "  label 4: 206\n",
      "  label 5: 200\n",
      "  label 6: 200\n",
      "  label 7: 200\n",
      "  label 8: 200\n",
      "  label 9: 200\n",
      "  label 10: 200\n",
      "  label 11: 200\n",
      "  label 12: 200\n",
      "  label 13: 200\n",
      "  label 14: 200\n",
      "  label 15: 200\n",
      "  label 16: 200\n",
      "  label 17: 232\n",
      "  label 18: 200\n",
      "  label 19: 200\n",
      "  label 20: 200\n",
      "  label 21: 200\n",
      "  label 22: 200\n",
      "  label 23: 200\n",
      "  label 24: 200\n",
      "  label 25: 200\n",
      "  label 26: 200\n",
      "  label 27: 200\n",
      "  label 28: 200\n",
      "  label 29: 200\n",
      "  label 30: 200\n",
      "  label 31: 200\n",
      "  label 32: 200\n",
      "  label 33: 200\n",
      "  label 34: 200\n",
      "  label 35: 200\n",
      "  label 36: 200\n",
      "  label 37: 200\n",
      "  label 38: 200\n",
      "  label 39: 200\n",
      "  label 40: 200\n",
      "  label 41: 200\n",
      "  label 42: 200\n",
      "  label 43: 200\n",
      "  label 44: 200\n",
      "  label 45: 200\n",
      "  label 46: 200\n",
      "  label 47: 529\n",
      "  label 48: 201\n",
      "  label 49: 200\n",
      "model is microsoft/deberta-base lstm\n",
      "Epoch 1/20\n"
     ]
    },
    {
     "name": "stderr",
     "output_type": "stream",
     "text": [
      "100%|██████████| 835/835 [01:29<00:00,  9.33it/s]\n"
     ]
    },
    {
     "name": "stdout",
     "output_type": "stream",
     "text": [
      "{'val_loss': 2.4227968364391685, 'val_accuracy': 0.5292726197516262, 'precision': 0.30602507114198396, 'recall': 0.5292726197516262, 'f1-score': 0.3843627116521078, 'macro_f1-score': 0.024214639774567885, 'balanced_accuracy': 0.03868953687821612, 'mcc': 0.29109294316426665, 'train_loss': 3.362247905474223}\n",
      "Epoch 2/20\n"
     ]
    },
    {
     "name": "stderr",
     "output_type": "stream",
     "text": [
      "100%|██████████| 835/835 [01:29<00:00,  9.33it/s]\n"
     ]
    },
    {
     "name": "stdout",
     "output_type": "stream",
     "text": [
      "{'val_loss': 2.714476619126662, 'val_accuracy': 0.5292726197516262, 'precision': 0.2910993823430863, 'recall': 0.5292726197516262, 'f1-score': 0.3755356747317284, 'macro_f1-score': 0.02497307373416817, 'balanced_accuracy': 0.035909662664379643, 'mcc': 0.2677655981022254, 'train_loss': 3.4095266853263992}\n",
      "Epoch 3/20\n"
     ]
    },
    {
     "name": "stderr",
     "output_type": "stream",
     "text": [
      "100%|██████████| 835/835 [01:29<00:00,  9.33it/s]\n"
     ]
    },
    {
     "name": "stdout",
     "output_type": "stream",
     "text": [
      "{'val_loss': 2.5465717473120058, 'val_accuracy': 0.5310467179183915, 'precision': 0.29075861657372476, 'recall': 0.5310467179183915, 'f1-score': 0.3757431687197992, 'macro_f1-score': 0.02550224171767244, 'balanced_accuracy': 0.035606060606060606, 'mcc': 0.2693776531917916, 'train_loss': 3.3211964538711274}\n",
      "Epoch 4/20\n"
     ]
    },
    {
     "name": "stderr",
     "output_type": "stream",
     "text": [
      "100%|██████████| 835/835 [01:29<00:00,  9.34it/s]\n"
     ]
    },
    {
     "name": "stdout",
     "output_type": "stream",
     "text": [
      "{'val_loss': 2.5706963719062084, 'val_accuracy': 0.5204021289178001, 'precision': 0.28388365765385126, 'recall': 0.5204021289178001, 'f1-score': 0.3668307939416136, 'macro_f1-score': 0.024329833271830657, 'balanced_accuracy': 0.03287878787878788, 'mcc': 0.24159107093522478, 'train_loss': 3.3308883001704417}\n",
      "Epoch 5/20\n"
     ]
    },
    {
     "name": "stderr",
     "output_type": "stream",
     "text": [
      "100%|██████████| 835/835 [01:29<00:00,  9.35it/s]\n"
     ]
    },
    {
     "name": "stdout",
     "output_type": "stream",
     "text": [
      "{'val_loss': 2.555205169713722, 'val_accuracy': 0.5221762270845653, 'precision': 0.2956241257849859, 'recall': 0.5221762270845653, 'f1-score': 0.37542804001553803, 'macro_f1-score': 0.024293882104508238, 'balanced_accuracy': 0.0378822184105203, 'mcc': 0.26858087669853475, 'train_loss': 3.3079125507149154}\n",
      "Epoch 6/20\n"
     ]
    },
    {
     "name": "stderr",
     "output_type": "stream",
     "text": [
      "100%|██████████| 835/835 [01:29<00:00,  9.35it/s]\n"
     ]
    },
    {
     "name": "stdout",
     "output_type": "stream",
     "text": [
      "{'val_loss': 2.8031151778293104, 'val_accuracy': 0.47013601419278533, 'precision': 0.22102787184107886, 'recall': 0.47013601419278533, 'f1-score': 0.30069037110479835, 'macro_f1-score': 0.012791633145615447, 'balanced_accuracy': 0.02, 'mcc': 0.0, 'train_loss': 3.455552769563869}\n",
      "Early stopping.\n",
      "\n",
      "[Fold 5]\n",
      "🚀 Using Word2Vec for data augmentation\n",
      "🔧 Augmenting label 1: 24 → 200 (+176)\n",
      "🔧 Augmenting label 2: 112 → 200 (+88)\n",
      "🔧 Augmenting label 3: 24 → 200 (+176)\n",
      "🔧 Augmenting label 5: 116 → 200 (+84)\n",
      "🔧 Augmenting label 6: 95 → 200 (+105)\n",
      "🔧 Augmenting label 7: 31 → 200 (+169)\n",
      "🔧 Augmenting label 8: 68 → 200 (+132)\n",
      "🔧 Augmenting label 9: 65 → 200 (+135)\n",
      "🔧 Augmenting label 10: 70 → 200 (+130)\n",
      "🔧 Augmenting label 11: 172 → 200 (+28)\n",
      "🔧 Augmenting label 12: 193 → 200 (+7)\n",
      "🔧 Augmenting label 13: 29 → 200 (+171)\n",
      "🔧 Augmenting label 14: 23 → 200 (+177)\n",
      "🔧 Augmenting label 15: 25 → 200 (+175)\n",
      "🔧 Augmenting label 16: 20 → 200 (+180)\n",
      "🔧 Augmenting label 18: 93 → 200 (+107)\n",
      "🔧 Augmenting label 19: 44 → 200 (+156)\n",
      "🔧 Augmenting label 20: 15 → 200 (+185)\n",
      "🔧 Augmenting label 21: 35 → 200 (+165)\n",
      "🔧 Augmenting label 22: 78 → 200 (+122)\n",
      "🔧 Augmenting label 23: 160 → 200 (+40)\n",
      "🔧 Augmenting label 24: 16 → 200 (+184)\n",
      "🔧 Augmenting label 25: 50 → 200 (+150)\n",
      "🔧 Augmenting label 26: 86 → 200 (+114)\n",
      "🔧 Augmenting label 27: 48 → 200 (+152)\n",
      "🔧 Augmenting label 28: 12 → 200 (+188)\n",
      "🔧 Augmenting label 29: 13 → 200 (+187)\n",
      "🔧 Augmenting label 30: 15 → 200 (+185)\n",
      "🔧 Augmenting label 31: 80 → 200 (+120)\n",
      "🔧 Augmenting label 32: 36 → 200 (+164)\n",
      "🔧 Augmenting label 33: 32 → 200 (+168)\n",
      "🔧 Augmenting label 34: 30 → 200 (+170)\n",
      "🔧 Augmenting label 35: 12 → 200 (+188)\n",
      "🔧 Augmenting label 36: 28 → 200 (+172)\n",
      "🔧 Augmenting label 37: 21 → 200 (+179)\n",
      "🔧 Augmenting label 38: 6 → 200 (+194)\n",
      "🔧 Augmenting label 39: 104 → 200 (+96)\n",
      "🔧 Augmenting label 40: 11 → 200 (+189)\n",
      "🔧 Augmenting label 41: 9 → 200 (+191)\n",
      "🔧 Augmenting label 42: 147 → 200 (+53)\n",
      "🔧 Augmenting label 43: 16 → 200 (+184)\n",
      "🔧 Augmenting label 44: 20 → 200 (+180)\n",
      "🔧 Augmenting label 45: 9 → 200 (+191)\n",
      "🔧 Augmenting label 46: 54 → 200 (+146)\n",
      "🔧 Augmenting label 49: 70 → 200 (+130)\n",
      "Label distribution after resampling:\n",
      "  label 0: 3180\n",
      "  label 1: 200\n",
      "  label 2: 200\n",
      "  label 3: 200\n",
      "  label 4: 205\n",
      "  label 5: 200\n",
      "  label 6: 200\n",
      "  label 7: 200\n",
      "  label 8: 200\n",
      "  label 9: 200\n",
      "  label 10: 200\n",
      "  label 11: 200\n",
      "  label 12: 200\n",
      "  label 13: 200\n",
      "  label 14: 200\n",
      "  label 15: 200\n",
      "  label 16: 200\n",
      "  label 17: 231\n",
      "  label 18: 200\n",
      "  label 19: 200\n",
      "  label 20: 200\n",
      "  label 21: 200\n",
      "  label 22: 200\n",
      "  label 23: 200\n",
      "  label 24: 200\n",
      "  label 25: 200\n",
      "  label 26: 200\n",
      "  label 27: 200\n",
      "  label 28: 200\n",
      "  label 29: 200\n",
      "  label 30: 200\n",
      "  label 31: 200\n",
      "  label 32: 200\n",
      "  label 33: 200\n",
      "  label 34: 200\n",
      "  label 35: 200\n",
      "  label 36: 200\n",
      "  label 37: 200\n",
      "  label 38: 200\n",
      "  label 39: 200\n",
      "  label 40: 200\n",
      "  label 41: 200\n",
      "  label 42: 200\n",
      "  label 43: 200\n",
      "  label 44: 200\n",
      "  label 45: 200\n",
      "  label 46: 200\n",
      "  label 47: 529\n",
      "  label 48: 202\n",
      "  label 49: 200\n",
      "model is microsoft/deberta-base lstm\n",
      "Epoch 1/20\n"
     ]
    },
    {
     "name": "stderr",
     "output_type": "stream",
     "text": [
      "100%|██████████| 835/835 [01:29<00:00,  9.32it/s]\n"
     ]
    },
    {
     "name": "stdout",
     "output_type": "stream",
     "text": [
      "{'val_loss': 2.2673385581880248, 'val_accuracy': 0.521301775147929, 'precision': 0.31817705723227513, 'recall': 0.521301775147929, 'f1-score': 0.39449644067911854, 'macro_f1-score': 0.034026273835119414, 'balanced_accuracy': 0.05915775240712268, 'mcc': 0.2777988222651164, 'train_loss': 3.2298876321244383}\n",
      "Epoch 2/20\n"
     ]
    },
    {
     "name": "stderr",
     "output_type": "stream",
     "text": [
      "100%|██████████| 835/835 [01:29<00:00,  9.34it/s]\n"
     ]
    },
    {
     "name": "stdout",
     "output_type": "stream",
     "text": [
      "{'val_loss': 2.372863088013991, 'val_accuracy': 0.5011834319526627, 'precision': 0.31301856055649163, 'recall': 0.5011834319526627, 'f1-score': 0.38153976173610454, 'macro_f1-score': 0.03742966212373471, 'balanced_accuracy': 0.052252077267820336, 'mcc': 0.23643938148275, 'train_loss': 3.1235518479775526}\n",
      "Epoch 3/20\n"
     ]
    },
    {
     "name": "stderr",
     "output_type": "stream",
     "text": [
      "100%|██████████| 835/835 [01:29<00:00,  9.33it/s]\n"
     ]
    },
    {
     "name": "stdout",
     "output_type": "stream",
     "text": [
      "{'val_loss': 2.065377467083481, 'val_accuracy': 0.5272189349112426, 'precision': 0.3816052680253471, 'recall': 0.5272189349112426, 'f1-score': 0.4352926766785084, 'macro_f1-score': 0.04567390850868181, 'balanced_accuracy': 0.0694374766638729, 'mcc': 0.31849033435424784, 'train_loss': 2.907248991121075}\n",
      "Epoch 4/20\n"
     ]
    },
    {
     "name": "stderr",
     "output_type": "stream",
     "text": [
      "100%|██████████| 835/835 [01:29<00:00,  9.35it/s]\n"
     ]
    },
    {
     "name": "stdout",
     "output_type": "stream",
     "text": [
      "{'val_loss': 2.8389892904263623, 'val_accuracy': 0.46982248520710057, 'precision': 0.22073316760617626, 'recall': 0.46982248520710057, 'f1-score': 0.3003535050357793, 'macro_f1-score': 0.012785829307568436, 'balanced_accuracy': 0.02, 'mcc': 0.0, 'train_loss': 3.226189064694022}\n",
      "Epoch 5/20\n"
     ]
    },
    {
     "name": "stderr",
     "output_type": "stream",
     "text": [
      "100%|██████████| 835/835 [01:29<00:00,  9.33it/s]\n"
     ]
    },
    {
     "name": "stdout",
     "output_type": "stream",
     "text": [
      "{'val_loss': 2.8292387926353597, 'val_accuracy': 0.46982248520710057, 'precision': 0.22073316760617626, 'recall': 0.46982248520710057, 'f1-score': 0.3003535050357793, 'macro_f1-score': 0.012785829307568436, 'balanced_accuracy': 0.02, 'mcc': 0.0, 'train_loss': 3.385898249163599}\n",
      "Epoch 6/20\n"
     ]
    },
    {
     "name": "stderr",
     "output_type": "stream",
     "text": [
      "100%|██████████| 835/835 [01:29<00:00,  9.34it/s]\n"
     ]
    },
    {
     "name": "stdout",
     "output_type": "stream",
     "text": [
      "{'val_loss': 2.800109214377853, 'val_accuracy': 0.46982248520710057, 'precision': 0.22073316760617626, 'recall': 0.46982248520710057, 'f1-score': 0.3003535050357793, 'macro_f1-score': 0.012785829307568436, 'balanced_accuracy': 0.02, 'mcc': 0.0, 'train_loss': 3.4865955686854746}\n",
      "Early stopping.\n",
      "\n",
      " === microsoft/deberta-base + lstm + word2vec Final 5-fold Cross-Validation Results ===\n",
      "Total time: 3224 seconds\n",
      "Total time: 0 hrs 53 mins 44 secs\n",
      "val_loss: 2.1973\n",
      "val_accuracy: 0.5238\n",
      "precision: 0.3632\n",
      "recall: 0.5238\n",
      "f1-score: 0.4189\n",
      "macro_f1-score: 0.0531\n",
      "balanced_accuracy: 0.0798\n",
      "mcc: 0.3040\n",
      "train_loss: 2.8812\n",
      "▶ Running: microsoft/deberta-base + cnn + word2vec\n",
      "tokenizer is microsoft/deberta-base\n",
      "Using device: cuda\n",
      "CUDA Available: True\n",
      "CUDA Device: NVIDIA GeForce RTX 5070 Ti\n",
      "Current GPU Memory Allocated: 0.02 GB\n",
      "Current GPU Memory Cached: 5.45 GB\n",
      "\n",
      "[Fold 1]\n",
      "🚀 Using Word2Vec for data augmentation\n",
      "🔧 Augmenting label 1: 25 → 200 (+175)\n",
      "🔧 Augmenting label 2: 112 → 200 (+88)\n",
      "🔧 Augmenting label 3: 24 → 200 (+176)\n",
      "🔧 Augmenting label 5: 116 → 200 (+84)\n",
      "🔧 Augmenting label 6: 95 → 200 (+105)\n",
      "🔧 Augmenting label 7: 31 → 200 (+169)\n",
      "🔧 Augmenting label 8: 68 → 200 (+132)\n",
      "🔧 Augmenting label 9: 65 → 200 (+135)\n",
      "🔧 Augmenting label 10: 70 → 200 (+130)\n",
      "🔧 Augmenting label 11: 172 → 200 (+28)\n",
      "🔧 Augmenting label 12: 193 → 200 (+7)\n",
      "🔧 Augmenting label 13: 29 → 200 (+171)\n",
      "🔧 Augmenting label 14: 23 → 200 (+177)\n",
      "🔧 Augmenting label 15: 25 → 200 (+175)\n",
      "🔧 Augmenting label 16: 20 → 200 (+180)\n",
      "🔧 Augmenting label 18: 93 → 200 (+107)\n",
      "🔧 Augmenting label 19: 45 → 200 (+155)\n",
      "🔧 Augmenting label 20: 14 → 200 (+186)\n",
      "🔧 Augmenting label 21: 35 → 200 (+165)\n",
      "🔧 Augmenting label 22: 78 → 200 (+122)\n",
      "🔧 Augmenting label 23: 160 → 200 (+40)\n",
      "🔧 Augmenting label 24: 16 → 200 (+184)\n",
      "🔧 Augmenting label 25: 50 → 200 (+150)\n",
      "🔧 Augmenting label 26: 86 → 200 (+114)\n",
      "🔧 Augmenting label 27: 49 → 200 (+151)\n",
      "🔧 Augmenting label 28: 12 → 200 (+188)\n",
      "🔧 Augmenting label 29: 13 → 200 (+187)\n",
      "🔧 Augmenting label 30: 15 → 200 (+185)\n",
      "🔧 Augmenting label 31: 80 → 200 (+120)\n",
      "🔧 Augmenting label 32: 36 → 200 (+164)\n",
      "🔧 Augmenting label 33: 32 → 200 (+168)\n",
      "🔧 Augmenting label 34: 30 → 200 (+170)\n",
      "🔧 Augmenting label 35: 12 → 200 (+188)\n",
      "🔧 Augmenting label 36: 28 → 200 (+172)\n",
      "🔧 Augmenting label 37: 21 → 200 (+179)\n",
      "🔧 Augmenting label 38: 6 → 200 (+194)\n",
      "🔧 Augmenting label 39: 103 → 200 (+97)\n",
      "🔧 Augmenting label 40: 12 → 200 (+188)\n",
      "🔧 Augmenting label 41: 8 → 200 (+192)\n",
      "🔧 Augmenting label 42: 147 → 200 (+53)\n",
      "🔧 Augmenting label 43: 16 → 200 (+184)\n",
      "🔧 Augmenting label 44: 20 → 200 (+180)\n",
      "🔧 Augmenting label 45: 9 → 200 (+191)\n",
      "🔧 Augmenting label 46: 54 → 200 (+146)\n",
      "🔧 Augmenting label 49: 69 → 200 (+131)\n",
      "Label distribution after resampling:\n",
      "  label 0: 3179\n",
      "  label 1: 200\n",
      "  label 2: 200\n",
      "  label 3: 200\n",
      "  label 4: 205\n",
      "  label 5: 200\n",
      "  label 6: 200\n",
      "  label 7: 200\n",
      "  label 8: 200\n",
      "  label 9: 200\n",
      "  label 10: 200\n",
      "  label 11: 200\n",
      "  label 12: 200\n",
      "  label 13: 200\n",
      "  label 14: 200\n",
      "  label 15: 200\n",
      "  label 16: 200\n",
      "  label 17: 231\n",
      "  label 18: 200\n",
      "  label 19: 200\n",
      "  label 20: 200\n",
      "  label 21: 200\n",
      "  label 22: 200\n",
      "  label 23: 200\n",
      "  label 24: 200\n",
      "  label 25: 200\n",
      "  label 26: 200\n",
      "  label 27: 200\n",
      "  label 28: 200\n",
      "  label 29: 200\n",
      "  label 30: 200\n",
      "  label 31: 200\n",
      "  label 32: 200\n",
      "  label 33: 200\n",
      "  label 34: 200\n",
      "  label 35: 200\n",
      "  label 36: 200\n",
      "  label 37: 200\n",
      "  label 38: 200\n",
      "  label 39: 200\n",
      "  label 40: 200\n",
      "  label 41: 200\n",
      "  label 42: 200\n",
      "  label 43: 200\n",
      "  label 44: 200\n",
      "  label 45: 200\n",
      "  label 46: 200\n",
      "  label 47: 529\n",
      "  label 48: 202\n",
      "  label 49: 200\n",
      "model is microsoft/deberta-base cnn\n",
      "Epoch 1/20\n"
     ]
    },
    {
     "name": "stderr",
     "output_type": "stream",
     "text": [
      "100%|██████████| 835/835 [01:28<00:00,  9.43it/s]\n"
     ]
    },
    {
     "name": "stdout",
     "output_type": "stream",
     "text": [
      "{'val_loss': 1.4639389706107806, 'val_accuracy': 0.5943228858663513, 'precision': 0.579004479614836, 'recall': 0.5943228858663513, 'f1-score': 0.553040918924128, 'macro_f1-score': 0.24571708422189645, 'balanced_accuracy': 0.29910370105163986, 'mcc': 0.45516055566040536, 'train_loss': 2.3388355141092916}\n",
      "Epoch 2/20\n"
     ]
    },
    {
     "name": "stderr",
     "output_type": "stream",
     "text": [
      "100%|██████████| 835/835 [01:28<00:00,  9.44it/s]\n"
     ]
    },
    {
     "name": "stdout",
     "output_type": "stream",
     "text": [
      "{'val_loss': 1.4501786376788932, 'val_accuracy': 0.6398580721466588, 'precision': 0.5989588289238508, 'recall': 0.6398580721466588, 'f1-score': 0.6010343908070795, 'macro_f1-score': 0.36380474393497614, 'balanced_accuracy': 0.37689689338719906, 'mcc': 0.5151216242808611, 'train_loss': 1.068525709167212}\n",
      "Epoch 3/20\n"
     ]
    },
    {
     "name": "stderr",
     "output_type": "stream",
     "text": [
      "100%|██████████| 835/835 [01:28<00:00,  9.43it/s]\n"
     ]
    },
    {
     "name": "stdout",
     "output_type": "stream",
     "text": [
      "{'val_loss': 1.474088302339023, 'val_accuracy': 0.6581904198698995, 'precision': 0.642156417743237, 'recall': 0.6581904198698995, 'f1-score': 0.6253654321847457, 'macro_f1-score': 0.3742022070330182, 'balanced_accuracy': 0.35516729641499567, 'mcc': 0.5316898971268917, 'train_loss': 0.698605356445748}\n",
      "Epoch 4/20\n"
     ]
    },
    {
     "name": "stderr",
     "output_type": "stream",
     "text": [
      "100%|██████████| 835/835 [01:28<00:00,  9.43it/s]\n"
     ]
    },
    {
     "name": "stdout",
     "output_type": "stream",
     "text": [
      "{'val_loss': 1.5853216524394054, 'val_accuracy': 0.6481371969248965, 'precision': 0.6336376819040374, 'recall': 0.6481371969248965, 'f1-score': 0.6188642973341075, 'macro_f1-score': 0.3525926806029924, 'balanced_accuracy': 0.3287421701914937, 'mcc': 0.522172905454547, 'train_loss': 0.49464577958433925}\n",
      "Epoch 5/20\n"
     ]
    },
    {
     "name": "stderr",
     "output_type": "stream",
     "text": [
      "100%|██████████| 835/835 [01:28<00:00,  9.44it/s]\n"
     ]
    },
    {
     "name": "stdout",
     "output_type": "stream",
     "text": [
      "{'val_loss': 1.5327152612636674, 'val_accuracy': 0.6629213483146067, 'precision': 0.677412517032664, 'recall': 0.6629213483146067, 'f1-score': 0.6459999618345418, 'macro_f1-score': 0.3927234369392019, 'balanced_accuracy': 0.37411315244064514, 'mcc': 0.546826902876136, 'train_loss': 0.4210526213406803}\n",
      "Epoch 6/20\n"
     ]
    },
    {
     "name": "stderr",
     "output_type": "stream",
     "text": [
      "100%|██████████| 835/835 [01:28<00:00,  9.44it/s]\n"
     ]
    },
    {
     "name": "stdout",
     "output_type": "stream",
     "text": [
      "{'val_loss': 1.6421778005249095, 'val_accuracy': 0.6487285629804849, 'precision': 0.6742636282621742, 'recall': 0.6487285629804849, 'f1-score': 0.6485881942341001, 'macro_f1-score': 0.3938431828561276, 'balanced_accuracy': 0.4017596242568886, 'mcc': 0.547019171744501, 'train_loss': 0.34921915422522737}\n",
      "Epoch 7/20\n"
     ]
    },
    {
     "name": "stderr",
     "output_type": "stream",
     "text": [
      "100%|██████████| 835/835 [01:28<00:00,  9.44it/s]\n"
     ]
    },
    {
     "name": "stdout",
     "output_type": "stream",
     "text": [
      "{'val_loss': 1.6723308273643818, 'val_accuracy': 0.6782968657599053, 'precision': 0.6749950501806995, 'recall': 0.6782968657599053, 'f1-score': 0.661170210358023, 'macro_f1-score': 0.41560531048577504, 'balanced_accuracy': 0.4115774680609139, 'mcc': 0.5696320903393212, 'train_loss': 0.27360448512600033}\n",
      "Epoch 8/20\n"
     ]
    },
    {
     "name": "stderr",
     "output_type": "stream",
     "text": [
      "100%|██████████| 835/835 [01:28<00:00,  9.44it/s]\n"
     ]
    },
    {
     "name": "stdout",
     "output_type": "stream",
     "text": [
      "{'val_loss': 1.664133757633983, 'val_accuracy': 0.6747486694263749, 'precision': 0.6786186315313544, 'recall': 0.6747486694263749, 'f1-score': 0.6539873576617671, 'macro_f1-score': 0.42538265008063697, 'balanced_accuracy': 0.40288132207584554, 'mcc': 0.5571448227621345, 'train_loss': 0.2612768733642527}\n",
      "Epoch 9/20\n"
     ]
    },
    {
     "name": "stderr",
     "output_type": "stream",
     "text": [
      "100%|██████████| 835/835 [01:28<00:00,  9.44it/s]\n"
     ]
    },
    {
     "name": "stdout",
     "output_type": "stream",
     "text": [
      "{'val_loss': 1.7472895112521243, 'val_accuracy': 0.6700177409816677, 'precision': 0.6863932957770326, 'recall': 0.6700177409816677, 'f1-score': 0.6547042953602416, 'macro_f1-score': 0.42683578504135683, 'balanced_accuracy': 0.41210302350926037, 'mcc': 0.5611102064662528, 'train_loss': 0.25364123597311716}\n",
      "Epoch 10/20\n"
     ]
    },
    {
     "name": "stderr",
     "output_type": "stream",
     "text": [
      "100%|██████████| 835/835 [01:28<00:00,  9.44it/s]\n"
     ]
    },
    {
     "name": "stdout",
     "output_type": "stream",
     "text": [
      "{'val_loss': 1.8277684632899627, 'val_accuracy': 0.6540508574807806, 'precision': 0.6685329039236907, 'recall': 0.6540508574807806, 'f1-score': 0.641283967868505, 'macro_f1-score': 0.3959995932275086, 'balanced_accuracy': 0.4072939813101451, 'mcc': 0.5457374693865982, 'train_loss': 0.22923504115963456}\n",
      "Epoch 11/20\n"
     ]
    },
    {
     "name": "stderr",
     "output_type": "stream",
     "text": [
      "100%|██████████| 835/835 [01:28<00:00,  9.43it/s]\n"
     ]
    },
    {
     "name": "stdout",
     "output_type": "stream",
     "text": [
      "{'val_loss': 1.8899191266523216, 'val_accuracy': 0.6782968657599053, 'precision': 0.6761610178981072, 'recall': 0.6782968657599053, 'f1-score': 0.6595368961353116, 'macro_f1-score': 0.4110729871133877, 'balanced_accuracy': 0.3917796274056869, 'mcc': 0.5727889606439885, 'train_loss': 0.2118777615531253}\n",
      "Epoch 12/20\n"
     ]
    },
    {
     "name": "stderr",
     "output_type": "stream",
     "text": [
      "100%|██████████| 835/835 [01:28<00:00,  9.44it/s]\n"
     ]
    },
    {
     "name": "stdout",
     "output_type": "stream",
     "text": [
      "{'val_loss': 1.8817050812660523, 'val_accuracy': 0.6771141336487285, 'precision': 0.6594978539939835, 'recall': 0.6771141336487285, 'f1-score': 0.653398422843427, 'macro_f1-score': 0.40476704865105506, 'balanced_accuracy': 0.3870101969650557, 'mcc': 0.5626080763895548, 'train_loss': 0.21430536817081697}\n",
      "Early stopping.\n",
      "\n",
      "[Fold 2]\n",
      "🚀 Using Word2Vec for data augmentation\n",
      "🔧 Augmenting label 1: 25 → 200 (+175)\n",
      "🔧 Augmenting label 2: 112 → 200 (+88)\n",
      "🔧 Augmenting label 3: 24 → 200 (+176)\n",
      "🔧 Augmenting label 5: 116 → 200 (+84)\n",
      "🔧 Augmenting label 6: 94 → 200 (+106)\n",
      "🔧 Augmenting label 7: 31 → 200 (+169)\n",
      "🔧 Augmenting label 8: 68 → 200 (+132)\n",
      "🔧 Augmenting label 9: 65 → 200 (+135)\n",
      "🔧 Augmenting label 10: 70 → 200 (+130)\n",
      "🔧 Augmenting label 11: 172 → 200 (+28)\n",
      "🔧 Augmenting label 12: 193 → 200 (+7)\n",
      "🔧 Augmenting label 13: 29 → 200 (+171)\n",
      "🔧 Augmenting label 14: 23 → 200 (+177)\n",
      "🔧 Augmenting label 15: 25 → 200 (+175)\n",
      "🔧 Augmenting label 16: 20 → 200 (+180)\n",
      "🔧 Augmenting label 18: 93 → 200 (+107)\n",
      "🔧 Augmenting label 19: 45 → 200 (+155)\n",
      "🔧 Augmenting label 20: 14 → 200 (+186)\n",
      "🔧 Augmenting label 21: 35 → 200 (+165)\n",
      "🔧 Augmenting label 22: 78 → 200 (+122)\n",
      "🔧 Augmenting label 23: 160 → 200 (+40)\n",
      "🔧 Augmenting label 24: 16 → 200 (+184)\n",
      "🔧 Augmenting label 25: 50 → 200 (+150)\n",
      "🔧 Augmenting label 26: 86 → 200 (+114)\n",
      "🔧 Augmenting label 27: 49 → 200 (+151)\n",
      "🔧 Augmenting label 28: 12 → 200 (+188)\n",
      "🔧 Augmenting label 29: 13 → 200 (+187)\n",
      "🔧 Augmenting label 30: 15 → 200 (+185)\n",
      "🔧 Augmenting label 31: 80 → 200 (+120)\n",
      "🔧 Augmenting label 32: 36 → 200 (+164)\n",
      "🔧 Augmenting label 33: 32 → 200 (+168)\n",
      "🔧 Augmenting label 34: 30 → 200 (+170)\n",
      "🔧 Augmenting label 35: 12 → 200 (+188)\n",
      "🔧 Augmenting label 36: 28 → 200 (+172)\n",
      "🔧 Augmenting label 37: 22 → 200 (+178)\n",
      "🔧 Augmenting label 38: 5 → 200 (+195)\n",
      "🔧 Augmenting label 39: 103 → 200 (+97)\n",
      "🔧 Augmenting label 40: 11 → 200 (+189)\n",
      "🔧 Augmenting label 41: 9 → 200 (+191)\n",
      "🔧 Augmenting label 42: 147 → 200 (+53)\n",
      "🔧 Augmenting label 43: 16 → 200 (+184)\n",
      "🔧 Augmenting label 44: 20 → 200 (+180)\n",
      "🔧 Augmenting label 45: 9 → 200 (+191)\n",
      "🔧 Augmenting label 46: 55 → 200 (+145)\n",
      "🔧 Augmenting label 49: 69 → 200 (+131)\n",
      "Label distribution after resampling:\n",
      "  label 0: 3179\n",
      "  label 1: 200\n",
      "  label 2: 200\n",
      "  label 3: 200\n",
      "  label 4: 206\n",
      "  label 5: 200\n",
      "  label 6: 200\n",
      "  label 7: 200\n",
      "  label 8: 200\n",
      "  label 9: 200\n",
      "  label 10: 200\n",
      "  label 11: 200\n",
      "  label 12: 200\n",
      "  label 13: 200\n",
      "  label 14: 200\n",
      "  label 15: 200\n",
      "  label 16: 200\n",
      "  label 17: 231\n",
      "  label 18: 200\n",
      "  label 19: 200\n",
      "  label 20: 200\n",
      "  label 21: 200\n",
      "  label 22: 200\n",
      "  label 23: 200\n",
      "  label 24: 200\n",
      "  label 25: 200\n",
      "  label 26: 200\n",
      "  label 27: 200\n",
      "  label 28: 200\n",
      "  label 29: 200\n",
      "  label 30: 200\n",
      "  label 31: 200\n",
      "  label 32: 200\n",
      "  label 33: 200\n",
      "  label 34: 200\n",
      "  label 35: 200\n",
      "  label 36: 200\n",
      "  label 37: 200\n",
      "  label 38: 200\n",
      "  label 39: 200\n",
      "  label 40: 200\n",
      "  label 41: 200\n",
      "  label 42: 200\n",
      "  label 43: 200\n",
      "  label 44: 200\n",
      "  label 45: 200\n",
      "  label 46: 200\n",
      "  label 47: 528\n",
      "  label 48: 202\n",
      "  label 49: 200\n",
      "model is microsoft/deberta-base cnn\n",
      "Epoch 1/20\n"
     ]
    },
    {
     "name": "stderr",
     "output_type": "stream",
     "text": [
      "100%|██████████| 835/835 [01:28<00:00,  9.43it/s]\n"
     ]
    },
    {
     "name": "stdout",
     "output_type": "stream",
     "text": [
      "{'val_loss': 1.8678061113042652, 'val_accuracy': 0.5257244234180958, 'precision': 0.4634237117062104, 'recall': 0.5257244234180958, 'f1-score': 0.4818049373471794, 'macro_f1-score': 0.14442877753205607, 'balanced_accuracy': 0.20536705882037112, 'mcc': 0.36250369795731957, 'train_loss': 2.6679292932955803}\n",
      "Epoch 2/20\n"
     ]
    },
    {
     "name": "stderr",
     "output_type": "stream",
     "text": [
      "100%|██████████| 835/835 [01:28<00:00,  9.43it/s]\n"
     ]
    },
    {
     "name": "stdout",
     "output_type": "stream",
     "text": [
      "{'val_loss': 1.5648708051105715, 'val_accuracy': 0.5671200473092844, 'precision': 0.5753126182214799, 'recall': 0.5671200473092844, 'f1-score': 0.5555026633517789, 'macro_f1-score': 0.27161128992090267, 'balanced_accuracy': 0.3223953281942106, 'mcc': 0.43907016020206435, 'train_loss': 1.4909918545070522}\n",
      "Epoch 3/20\n"
     ]
    },
    {
     "name": "stderr",
     "output_type": "stream",
     "text": [
      "100%|██████████| 835/835 [01:28<00:00,  9.42it/s]\n"
     ]
    },
    {
     "name": "stdout",
     "output_type": "stream",
     "text": [
      "{'val_loss': 1.4252918092709668, 'val_accuracy': 0.6215257244234181, 'precision': 0.6389984357796158, 'recall': 0.6215257244234181, 'f1-score': 0.6073658634909987, 'macro_f1-score': 0.3458256848633388, 'balanced_accuracy': 0.38563136201177073, 'mcc': 0.49875221620870663, 'train_loss': 0.9304439843414787}\n",
      "Epoch 4/20\n"
     ]
    },
    {
     "name": "stderr",
     "output_type": "stream",
     "text": [
      "100%|██████████| 835/835 [01:28<00:00,  9.42it/s]\n"
     ]
    },
    {
     "name": "stdout",
     "output_type": "stream",
     "text": [
      "{'val_loss': 1.563416470053061, 'val_accuracy': 0.602602010644589, 'precision': 0.6279027162175719, 'recall': 0.602602010644589, 'f1-score': 0.6031918158798107, 'macro_f1-score': 0.33445186407663224, 'balanced_accuracy': 0.37256404457235265, 'mcc': 0.4910834091115297, 'train_loss': 0.6408495027683452}\n",
      "Epoch 5/20\n"
     ]
    },
    {
     "name": "stderr",
     "output_type": "stream",
     "text": [
      "100%|██████████| 835/835 [01:28<00:00,  9.44it/s]\n"
     ]
    },
    {
     "name": "stdout",
     "output_type": "stream",
     "text": [
      "{'val_loss': 1.595532221192459, 'val_accuracy': 0.638675340035482, 'precision': 0.64160964102693, 'recall': 0.638675340035482, 'f1-score': 0.6325512727994994, 'macro_f1-score': 0.38320718323059244, 'balanced_accuracy': 0.38167756485337584, 'mcc': 0.5285157051114168, 'train_loss': 0.5282724545119766}\n",
      "Epoch 6/20\n"
     ]
    },
    {
     "name": "stderr",
     "output_type": "stream",
     "text": [
      "100%|██████████| 835/835 [01:28<00:00,  9.43it/s]\n"
     ]
    },
    {
     "name": "stdout",
     "output_type": "stream",
     "text": [
      "{'val_loss': 3.0604675693332024, 'val_accuracy': 0.47664104080425784, 'precision': 0.27592108855215136, 'recall': 0.47664104080425784, 'f1-score': 0.318641861060253, 'macro_f1-score': 0.04321277141591063, 'balanced_accuracy': 0.04400593011691791, 'mcc': 0.09825538890673653, 'train_loss': 1.5953194084125544}\n",
      "Epoch 7/20\n"
     ]
    },
    {
     "name": "stderr",
     "output_type": "stream",
     "text": [
      "100%|██████████| 835/835 [01:28<00:00,  9.43it/s]\n"
     ]
    },
    {
     "name": "stdout",
     "output_type": "stream",
     "text": [
      "{'val_loss': 2.9890127699330167, 'val_accuracy': 0.4742755765819042, 'precision': 0.24865871872036951, 'recall': 0.4742755765819042, 'f1-score': 0.3079829176630735, 'macro_f1-score': 0.03548072232579867, 'balanced_accuracy': 0.04522549019607843, 'mcc': 0.0722532688411097, 'train_loss': 3.3850196084576454}\n",
      "Epoch 8/20\n"
     ]
    },
    {
     "name": "stderr",
     "output_type": "stream",
     "text": [
      "100%|██████████| 835/835 [01:28<00:00,  9.43it/s]\n"
     ]
    },
    {
     "name": "stdout",
     "output_type": "stream",
     "text": [
      "{'val_loss': 3.0008177509847678, 'val_accuracy': 0.47723240685984625, 'precision': 0.24774032706801372, 'recall': 0.47723240685984625, 'f1-score': 0.3179425958996684, 'macro_f1-score': 0.03383716304493591, 'balanced_accuracy': 0.035022567517573065, 'mcc': 0.0973679777019773, 'train_loss': 3.446990080222398}\n",
      "Early stopping.\n",
      "\n",
      "[Fold 3]\n",
      "🚀 Using Word2Vec for data augmentation\n",
      "🔧 Augmenting label 1: 25 → 200 (+175)\n",
      "🔧 Augmenting label 2: 112 → 200 (+88)\n",
      "🔧 Augmenting label 3: 24 → 200 (+176)\n",
      "🔧 Augmenting label 5: 116 → 200 (+84)\n",
      "🔧 Augmenting label 6: 94 → 200 (+106)\n",
      "🔧 Augmenting label 7: 31 → 200 (+169)\n",
      "🔧 Augmenting label 8: 68 → 200 (+132)\n",
      "🔧 Augmenting label 9: 65 → 200 (+135)\n",
      "🔧 Augmenting label 10: 71 → 200 (+129)\n",
      "🔧 Augmenting label 11: 172 → 200 (+28)\n",
      "🔧 Augmenting label 12: 192 → 200 (+8)\n",
      "🔧 Augmenting label 13: 29 → 200 (+171)\n",
      "🔧 Augmenting label 14: 23 → 200 (+177)\n",
      "🔧 Augmenting label 15: 25 → 200 (+175)\n",
      "🔧 Augmenting label 16: 20 → 200 (+180)\n",
      "🔧 Augmenting label 18: 93 → 200 (+107)\n",
      "🔧 Augmenting label 19: 45 → 200 (+155)\n",
      "🔧 Augmenting label 20: 14 → 200 (+186)\n",
      "🔧 Augmenting label 21: 36 → 200 (+164)\n",
      "🔧 Augmenting label 22: 77 → 200 (+123)\n",
      "🔧 Augmenting label 23: 160 → 200 (+40)\n",
      "🔧 Augmenting label 24: 16 → 200 (+184)\n",
      "🔧 Augmenting label 25: 51 → 200 (+149)\n",
      "🔧 Augmenting label 26: 85 → 200 (+115)\n",
      "🔧 Augmenting label 27: 49 → 200 (+151)\n",
      "🔧 Augmenting label 28: 12 → 200 (+188)\n",
      "🔧 Augmenting label 29: 12 → 200 (+188)\n",
      "🔧 Augmenting label 30: 16 → 200 (+184)\n",
      "🔧 Augmenting label 31: 80 → 200 (+120)\n",
      "🔧 Augmenting label 32: 36 → 200 (+164)\n",
      "🔧 Augmenting label 33: 32 → 200 (+168)\n",
      "🔧 Augmenting label 34: 29 → 200 (+171)\n",
      "🔧 Augmenting label 35: 12 → 200 (+188)\n",
      "🔧 Augmenting label 36: 28 → 200 (+172)\n",
      "🔧 Augmenting label 37: 22 → 200 (+178)\n",
      "🔧 Augmenting label 38: 5 → 200 (+195)\n",
      "🔧 Augmenting label 39: 103 → 200 (+97)\n",
      "🔧 Augmenting label 40: 11 → 200 (+189)\n",
      "🔧 Augmenting label 41: 9 → 200 (+191)\n",
      "🔧 Augmenting label 42: 147 → 200 (+53)\n",
      "🔧 Augmenting label 43: 16 → 200 (+184)\n",
      "🔧 Augmenting label 44: 20 → 200 (+180)\n",
      "🔧 Augmenting label 45: 9 → 200 (+191)\n",
      "🔧 Augmenting label 46: 55 → 200 (+145)\n",
      "🔧 Augmenting label 49: 70 → 200 (+130)\n",
      "Label distribution after resampling:\n",
      "  label 0: 3179\n",
      "  label 1: 200\n",
      "  label 2: 200\n",
      "  label 3: 200\n",
      "  label 4: 206\n",
      "  label 5: 200\n",
      "  label 6: 200\n",
      "  label 7: 200\n",
      "  label 8: 200\n",
      "  label 9: 200\n",
      "  label 10: 200\n",
      "  label 11: 200\n",
      "  label 12: 200\n",
      "  label 13: 200\n",
      "  label 14: 200\n",
      "  label 15: 200\n",
      "  label 16: 200\n",
      "  label 17: 231\n",
      "  label 18: 200\n",
      "  label 19: 200\n",
      "  label 20: 200\n",
      "  label 21: 200\n",
      "  label 22: 200\n",
      "  label 23: 200\n",
      "  label 24: 200\n",
      "  label 25: 200\n",
      "  label 26: 200\n",
      "  label 27: 200\n",
      "  label 28: 200\n",
      "  label 29: 200\n",
      "  label 30: 200\n",
      "  label 31: 200\n",
      "  label 32: 200\n",
      "  label 33: 200\n",
      "  label 34: 200\n",
      "  label 35: 200\n",
      "  label 36: 200\n",
      "  label 37: 200\n",
      "  label 38: 200\n",
      "  label 39: 200\n",
      "  label 40: 200\n",
      "  label 41: 200\n",
      "  label 42: 200\n",
      "  label 43: 200\n",
      "  label 44: 200\n",
      "  label 45: 200\n",
      "  label 46: 200\n",
      "  label 47: 529\n",
      "  label 48: 201\n",
      "  label 49: 200\n",
      "model is microsoft/deberta-base cnn\n",
      "Epoch 1/20\n"
     ]
    },
    {
     "name": "stderr",
     "output_type": "stream",
     "text": [
      "100%|██████████| 835/835 [01:28<00:00,  9.44it/s]\n"
     ]
    },
    {
     "name": "stdout",
     "output_type": "stream",
     "text": [
      "{'val_loss': 2.129384234828769, 'val_accuracy': 0.47368421052631576, 'precision': 0.38637263981545444, 'recall': 0.47368421052631576, 'f1-score': 0.39088428801768627, 'macro_f1-score': 0.04458653987247957, 'balanced_accuracy': 0.07331515412614957, 'mcc': 0.24762723800749747, 'train_loss': 3.1419013503068935}\n",
      "Epoch 2/20\n"
     ]
    },
    {
     "name": "stderr",
     "output_type": "stream",
     "text": [
      "100%|██████████| 835/835 [01:28<00:00,  9.43it/s]\n"
     ]
    },
    {
     "name": "stdout",
     "output_type": "stream",
     "text": [
      "{'val_loss': 3.031496857697109, 'val_accuracy': 0.5032525133057363, 'precision': 0.3011111456939214, 'recall': 0.5032525133057363, 'f1-score': 0.35602174065653913, 'macro_f1-score': 0.025732187127724654, 'balanced_accuracy': 0.03666666666666667, 'mcc': 0.20668028097925886, 'train_loss': 2.7428872716640997}\n",
      "Epoch 3/20\n"
     ]
    },
    {
     "name": "stderr",
     "output_type": "stream",
     "text": [
      "100%|██████████| 835/835 [01:28<00:00,  9.44it/s]\n"
     ]
    },
    {
     "name": "stdout",
     "output_type": "stream",
     "text": [
      "{'val_loss': 2.4873312756700336, 'val_accuracy': 0.48432879952690716, 'precision': 0.37706265237697406, 'recall': 0.48432879952690716, 'f1-score': 0.39622540859931865, 'macro_f1-score': 0.02304067861000547, 'balanced_accuracy': 0.037543285818497266, 'mcc': 0.30241268858333675, 'train_loss': 3.2749017215774443}\n",
      "Epoch 4/20\n"
     ]
    },
    {
     "name": "stderr",
     "output_type": "stream",
     "text": [
      "100%|██████████| 835/835 [01:28<00:00,  9.44it/s]\n"
     ]
    },
    {
     "name": "stdout",
     "output_type": "stream",
     "text": [
      "{'val_loss': 2.427164709792947, 'val_accuracy': 0.446481371969249, 'precision': 0.41680510002805804, 'recall': 0.446481371969249, 'f1-score': 0.4116450903215593, 'macro_f1-score': 0.032955865913978866, 'balanced_accuracy': 0.06978777035153091, 'mcc': 0.27775614712366453, 'train_loss': 3.1673552495990687}\n",
      "Early stopping.\n",
      "\n",
      "[Fold 4]\n",
      "🚀 Using Word2Vec for data augmentation\n",
      "🔧 Augmenting label 1: 25 → 200 (+175)\n",
      "🔧 Augmenting label 2: 112 → 200 (+88)\n",
      "🔧 Augmenting label 3: 24 → 200 (+176)\n",
      "🔧 Augmenting label 5: 116 → 200 (+84)\n",
      "🔧 Augmenting label 6: 94 → 200 (+106)\n",
      "🔧 Augmenting label 7: 32 → 200 (+168)\n",
      "🔧 Augmenting label 8: 68 → 200 (+132)\n",
      "🔧 Augmenting label 9: 64 → 200 (+136)\n",
      "🔧 Augmenting label 10: 71 → 200 (+129)\n",
      "🔧 Augmenting label 11: 172 → 200 (+28)\n",
      "🔧 Augmenting label 12: 193 → 200 (+7)\n",
      "🔧 Augmenting label 13: 28 → 200 (+172)\n",
      "🔧 Augmenting label 14: 24 → 200 (+176)\n",
      "🔧 Augmenting label 15: 24 → 200 (+176)\n",
      "🔧 Augmenting label 16: 20 → 200 (+180)\n",
      "🔧 Augmenting label 18: 92 → 200 (+108)\n",
      "🔧 Augmenting label 19: 45 → 200 (+155)\n",
      "🔧 Augmenting label 20: 15 → 200 (+185)\n",
      "🔧 Augmenting label 21: 35 → 200 (+165)\n",
      "🔧 Augmenting label 22: 77 → 200 (+123)\n",
      "🔧 Augmenting label 23: 160 → 200 (+40)\n",
      "🔧 Augmenting label 24: 16 → 200 (+184)\n",
      "🔧 Augmenting label 25: 51 → 200 (+149)\n",
      "🔧 Augmenting label 26: 85 → 200 (+115)\n",
      "🔧 Augmenting label 27: 49 → 200 (+151)\n",
      "🔧 Augmenting label 28: 12 → 200 (+188)\n",
      "🔧 Augmenting label 29: 13 → 200 (+187)\n",
      "🔧 Augmenting label 30: 15 → 200 (+185)\n",
      "🔧 Augmenting label 31: 80 → 200 (+120)\n",
      "🔧 Augmenting label 32: 36 → 200 (+164)\n",
      "🔧 Augmenting label 33: 32 → 200 (+168)\n",
      "🔧 Augmenting label 34: 29 → 200 (+171)\n",
      "🔧 Augmenting label 35: 12 → 200 (+188)\n",
      "🔧 Augmenting label 36: 28 → 200 (+172)\n",
      "🔧 Augmenting label 37: 22 → 200 (+178)\n",
      "🔧 Augmenting label 38: 6 → 200 (+194)\n",
      "🔧 Augmenting label 39: 103 → 200 (+97)\n",
      "🔧 Augmenting label 40: 11 → 200 (+189)\n",
      "🔧 Augmenting label 41: 9 → 200 (+191)\n",
      "🔧 Augmenting label 42: 148 → 200 (+52)\n",
      "🔧 Augmenting label 43: 16 → 200 (+184)\n",
      "🔧 Augmenting label 44: 20 → 200 (+180)\n",
      "🔧 Augmenting label 45: 8 → 200 (+192)\n",
      "🔧 Augmenting label 46: 54 → 200 (+146)\n",
      "🔧 Augmenting label 49: 70 → 200 (+130)\n",
      "Label distribution after resampling:\n",
      "  label 0: 3179\n",
      "  label 1: 200\n",
      "  label 2: 200\n",
      "  label 3: 200\n",
      "  label 4: 206\n",
      "  label 5: 200\n",
      "  label 6: 200\n",
      "  label 7: 200\n",
      "  label 8: 200\n",
      "  label 9: 200\n",
      "  label 10: 200\n",
      "  label 11: 200\n",
      "  label 12: 200\n",
      "  label 13: 200\n",
      "  label 14: 200\n",
      "  label 15: 200\n",
      "  label 16: 200\n",
      "  label 17: 232\n",
      "  label 18: 200\n",
      "  label 19: 200\n",
      "  label 20: 200\n",
      "  label 21: 200\n",
      "  label 22: 200\n",
      "  label 23: 200\n",
      "  label 24: 200\n",
      "  label 25: 200\n",
      "  label 26: 200\n",
      "  label 27: 200\n",
      "  label 28: 200\n",
      "  label 29: 200\n",
      "  label 30: 200\n",
      "  label 31: 200\n",
      "  label 32: 200\n",
      "  label 33: 200\n",
      "  label 34: 200\n",
      "  label 35: 200\n",
      "  label 36: 200\n",
      "  label 37: 200\n",
      "  label 38: 200\n",
      "  label 39: 200\n",
      "  label 40: 200\n",
      "  label 41: 200\n",
      "  label 42: 200\n",
      "  label 43: 200\n",
      "  label 44: 200\n",
      "  label 45: 200\n",
      "  label 46: 200\n",
      "  label 47: 529\n",
      "  label 48: 201\n",
      "  label 49: 200\n",
      "model is microsoft/deberta-base cnn\n",
      "Epoch 1/20\n"
     ]
    },
    {
     "name": "stderr",
     "output_type": "stream",
     "text": [
      "100%|██████████| 835/835 [01:28<00:00,  9.43it/s]\n"
     ]
    },
    {
     "name": "stdout",
     "output_type": "stream",
     "text": [
      "{'val_loss': 1.3430737237323005, 'val_accuracy': 0.6280307510348906, 'precision': 0.5954421449705518, 'recall': 0.6280307510348906, 'f1-score': 0.5802348721337951, 'macro_f1-score': 0.31683230206363777, 'balanced_accuracy': 0.36428354517072137, 'mcc': 0.4917071684885259, 'train_loss': 2.2823473390704856}\n",
      "Epoch 2/20\n"
     ]
    },
    {
     "name": "stderr",
     "output_type": "stream",
     "text": [
      "100%|██████████| 835/835 [01:28<00:00,  9.43it/s]\n"
     ]
    },
    {
     "name": "stdout",
     "output_type": "stream",
     "text": [
      "{'val_loss': 1.1946803663136825, 'val_accuracy': 0.6664695446481372, 'precision': 0.68383991407754, 'recall': 0.6664695446481372, 'f1-score': 0.6590588265690813, 'macro_f1-score': 0.43129553697396944, 'balanced_accuracy': 0.4651873315859102, 'mcc': 0.5560695785277937, 'train_loss': 1.0000480746794604}\n",
      "Epoch 3/20\n"
     ]
    },
    {
     "name": "stderr",
     "output_type": "stream",
     "text": [
      "100%|██████████| 835/835 [01:28<00:00,  9.43it/s]\n"
     ]
    },
    {
     "name": "stdout",
     "output_type": "stream",
     "text": [
      "{'val_loss': 1.303147278023216, 'val_accuracy': 0.6593731519810763, 'precision': 0.6673156157653729, 'recall': 0.6593731519810763, 'f1-score': 0.6476884739072245, 'macro_f1-score': 0.3938286768857431, 'balanced_accuracy': 0.40073133930211446, 'mcc': 0.551198768323901, 'train_loss': 0.5910281621053547}\n",
      "Epoch 4/20\n"
     ]
    },
    {
     "name": "stderr",
     "output_type": "stream",
     "text": [
      "100%|██████████| 835/835 [01:28<00:00,  9.44it/s]\n"
     ]
    },
    {
     "name": "stdout",
     "output_type": "stream",
     "text": [
      "{'val_loss': 1.378321742392936, 'val_accuracy': 0.6777054997043169, 'precision': 0.6653398678364678, 'recall': 0.6777054997043169, 'f1-score': 0.6464396397107982, 'macro_f1-score': 0.4029997015163438, 'balanced_accuracy': 0.4082849051623229, 'mcc': 0.5647954664745402, 'train_loss': 0.41763339236735586}\n",
      "Epoch 5/20\n"
     ]
    },
    {
     "name": "stderr",
     "output_type": "stream",
     "text": [
      "100%|██████████| 835/835 [01:28<00:00,  9.44it/s]\n"
     ]
    },
    {
     "name": "stdout",
     "output_type": "stream",
     "text": [
      "{'val_loss': 1.4346110396227747, 'val_accuracy': 0.6771141336487285, 'precision': 0.6754306548966859, 'recall': 0.6771141336487285, 'f1-score': 0.6589444087084689, 'macro_f1-score': 0.4094153733315858, 'balanced_accuracy': 0.41157157910158754, 'mcc': 0.5732094206805944, 'train_loss': 0.3203240267274355}\n",
      "Early stopping.\n",
      "\n",
      "[Fold 5]\n",
      "🚀 Using Word2Vec for data augmentation\n",
      "🔧 Augmenting label 1: 24 → 200 (+176)\n",
      "🔧 Augmenting label 2: 112 → 200 (+88)\n",
      "🔧 Augmenting label 3: 24 → 200 (+176)\n",
      "🔧 Augmenting label 5: 116 → 200 (+84)\n",
      "🔧 Augmenting label 6: 95 → 200 (+105)\n",
      "🔧 Augmenting label 7: 31 → 200 (+169)\n",
      "🔧 Augmenting label 8: 68 → 200 (+132)\n",
      "🔧 Augmenting label 9: 65 → 200 (+135)\n",
      "🔧 Augmenting label 10: 70 → 200 (+130)\n",
      "🔧 Augmenting label 11: 172 → 200 (+28)\n",
      "🔧 Augmenting label 12: 193 → 200 (+7)\n",
      "🔧 Augmenting label 13: 29 → 200 (+171)\n",
      "🔧 Augmenting label 14: 23 → 200 (+177)\n",
      "🔧 Augmenting label 15: 25 → 200 (+175)\n",
      "🔧 Augmenting label 16: 20 → 200 (+180)\n",
      "🔧 Augmenting label 18: 93 → 200 (+107)\n",
      "🔧 Augmenting label 19: 44 → 200 (+156)\n",
      "🔧 Augmenting label 20: 15 → 200 (+185)\n",
      "🔧 Augmenting label 21: 35 → 200 (+165)\n",
      "🔧 Augmenting label 22: 78 → 200 (+122)\n",
      "🔧 Augmenting label 23: 160 → 200 (+40)\n",
      "🔧 Augmenting label 24: 16 → 200 (+184)\n",
      "🔧 Augmenting label 25: 50 → 200 (+150)\n",
      "🔧 Augmenting label 26: 86 → 200 (+114)\n",
      "🔧 Augmenting label 27: 48 → 200 (+152)\n",
      "🔧 Augmenting label 28: 12 → 200 (+188)\n",
      "🔧 Augmenting label 29: 13 → 200 (+187)\n",
      "🔧 Augmenting label 30: 15 → 200 (+185)\n",
      "🔧 Augmenting label 31: 80 → 200 (+120)\n",
      "🔧 Augmenting label 32: 36 → 200 (+164)\n",
      "🔧 Augmenting label 33: 32 → 200 (+168)\n",
      "🔧 Augmenting label 34: 30 → 200 (+170)\n",
      "🔧 Augmenting label 35: 12 → 200 (+188)\n",
      "🔧 Augmenting label 36: 28 → 200 (+172)\n",
      "🔧 Augmenting label 37: 21 → 200 (+179)\n",
      "🔧 Augmenting label 38: 6 → 200 (+194)\n",
      "🔧 Augmenting label 39: 104 → 200 (+96)\n",
      "🔧 Augmenting label 40: 11 → 200 (+189)\n",
      "🔧 Augmenting label 41: 9 → 200 (+191)\n",
      "🔧 Augmenting label 42: 147 → 200 (+53)\n",
      "🔧 Augmenting label 43: 16 → 200 (+184)\n",
      "🔧 Augmenting label 44: 20 → 200 (+180)\n",
      "🔧 Augmenting label 45: 9 → 200 (+191)\n",
      "🔧 Augmenting label 46: 54 → 200 (+146)\n",
      "🔧 Augmenting label 49: 70 → 200 (+130)\n",
      "Label distribution after resampling:\n",
      "  label 0: 3180\n",
      "  label 1: 200\n",
      "  label 2: 200\n",
      "  label 3: 200\n",
      "  label 4: 205\n",
      "  label 5: 200\n",
      "  label 6: 200\n",
      "  label 7: 200\n",
      "  label 8: 200\n",
      "  label 9: 200\n",
      "  label 10: 200\n",
      "  label 11: 200\n",
      "  label 12: 200\n",
      "  label 13: 200\n",
      "  label 14: 200\n",
      "  label 15: 200\n",
      "  label 16: 200\n",
      "  label 17: 231\n",
      "  label 18: 200\n",
      "  label 19: 200\n",
      "  label 20: 200\n",
      "  label 21: 200\n",
      "  label 22: 200\n",
      "  label 23: 200\n",
      "  label 24: 200\n",
      "  label 25: 200\n",
      "  label 26: 200\n",
      "  label 27: 200\n",
      "  label 28: 200\n",
      "  label 29: 200\n",
      "  label 30: 200\n",
      "  label 31: 200\n",
      "  label 32: 200\n",
      "  label 33: 200\n",
      "  label 34: 200\n",
      "  label 35: 200\n",
      "  label 36: 200\n",
      "  label 37: 200\n",
      "  label 38: 200\n",
      "  label 39: 200\n",
      "  label 40: 200\n",
      "  label 41: 200\n",
      "  label 42: 200\n",
      "  label 43: 200\n",
      "  label 44: 200\n",
      "  label 45: 200\n",
      "  label 46: 200\n",
      "  label 47: 529\n",
      "  label 48: 202\n",
      "  label 49: 200\n",
      "model is microsoft/deberta-base cnn\n",
      "Epoch 1/20\n"
     ]
    },
    {
     "name": "stderr",
     "output_type": "stream",
     "text": [
      "100%|██████████| 835/835 [01:28<00:00,  9.44it/s]\n"
     ]
    },
    {
     "name": "stdout",
     "output_type": "stream",
     "text": [
      "{'val_loss': 1.43716136408302, 'val_accuracy': 0.6023668639053255, 'precision': 0.5969500693062411, 'recall': 0.6023668639053255, 'f1-score': 0.5800140003586274, 'macro_f1-score': 0.2679073898123764, 'balanced_accuracy': 0.32847077360292615, 'mcc': 0.4768544371208932, 'train_loss': 2.2505342268658257}\n",
      "Epoch 2/20\n"
     ]
    },
    {
     "name": "stderr",
     "output_type": "stream",
     "text": [
      "100%|██████████| 835/835 [01:28<00:00,  9.42it/s]\n"
     ]
    },
    {
     "name": "stdout",
     "output_type": "stream",
     "text": [
      "{'val_loss': 1.3063339759718697, 'val_accuracy': 0.6272189349112426, 'precision': 0.6746482760323792, 'recall': 0.6272189349112426, 'f1-score': 0.6315633988003189, 'macro_f1-score': 0.3591142239371131, 'balanced_accuracy': 0.386213358049443, 'mcc': 0.5228391433652918, 'train_loss': 1.005032057712178}\n",
      "Epoch 3/20\n"
     ]
    },
    {
     "name": "stderr",
     "output_type": "stream",
     "text": [
      "100%|██████████| 835/835 [01:28<00:00,  9.44it/s]\n"
     ]
    },
    {
     "name": "stdout",
     "output_type": "stream",
     "text": [
      "{'val_loss': 1.385417861477384, 'val_accuracy': 0.6627218934911243, 'precision': 0.6605792410837548, 'recall': 0.6627218934911243, 'f1-score': 0.6429385783192334, 'macro_f1-score': 0.36070492755498323, 'balanced_accuracy': 0.3451512889245588, 'mcc': 0.5520579589581885, 'train_loss': 0.5857643650320475}\n",
      "Epoch 4/20\n"
     ]
    },
    {
     "name": "stderr",
     "output_type": "stream",
     "text": [
      "100%|██████████| 835/835 [01:28<00:00,  9.43it/s]\n"
     ]
    },
    {
     "name": "stdout",
     "output_type": "stream",
     "text": [
      "{'val_loss': 1.4920202596288807, 'val_accuracy': 0.6792899408284023, 'precision': 0.6752629916489026, 'recall': 0.6792899408284023, 'f1-score': 0.659383117697575, 'macro_f1-score': 0.382003041956995, 'balanced_accuracy': 0.37939495263296147, 'mcc': 0.5708068814756293, 'train_loss': 0.4078465563228387}\n",
      "Epoch 5/20\n"
     ]
    },
    {
     "name": "stderr",
     "output_type": "stream",
     "text": [
      "100%|██████████| 835/835 [01:28<00:00,  9.44it/s]\n"
     ]
    },
    {
     "name": "stdout",
     "output_type": "stream",
     "text": [
      "{'val_loss': 1.563359298374293, 'val_accuracy': 0.6698224852071006, 'precision': 0.673742081339012, 'recall': 0.6698224852071006, 'f1-score': 0.6495431283472836, 'macro_f1-score': 0.3631002074313556, 'balanced_accuracy': 0.3590793979076817, 'mcc': 0.5553771927692844, 'train_loss': 0.3370521251056455}\n",
      "Epoch 6/20\n"
     ]
    },
    {
     "name": "stderr",
     "output_type": "stream",
     "text": [
      "100%|██████████| 835/835 [01:28<00:00,  9.44it/s]\n"
     ]
    },
    {
     "name": "stdout",
     "output_type": "stream",
     "text": [
      "{'val_loss': 1.6519708390224654, 'val_accuracy': 0.6751479289940828, 'precision': 0.6758675795279231, 'recall': 0.6751479289940828, 'f1-score': 0.6547714054611846, 'macro_f1-score': 0.3606834354180233, 'balanced_accuracy': 0.35849966650753445, 'mcc': 0.5681844900601346, 'train_loss': 0.29584916479785195}\n",
      "Epoch 7/20\n"
     ]
    },
    {
     "name": "stderr",
     "output_type": "stream",
     "text": [
      "100%|██████████| 835/835 [01:28<00:00,  9.44it/s]\n"
     ]
    },
    {
     "name": "stdout",
     "output_type": "stream",
     "text": [
      "{'val_loss': 1.6042470931303952, 'val_accuracy': 0.665680473372781, 'precision': 0.643266897256674, 'recall': 0.665680473372781, 'f1-score': 0.6431629446724779, 'macro_f1-score': 0.3541872458021091, 'balanced_accuracy': 0.34643822475323355, 'mcc': 0.5491620615452372, 'train_loss': 0.24076774999120099}\n",
      "Early stopping.\n",
      "\n",
      " === microsoft/deberta-base + cnn + word2vec Final 5-fold Cross-Validation Results ===\n",
      "Total time: 3374 seconds\n",
      "Total time: 0 hrs 56 mins 14 secs\n",
      "val_loss: 1.6318\n",
      "val_accuracy: 0.6256\n",
      "precision: 0.6147\n",
      "recall: 0.6256\n",
      "f1-score: 0.5993\n",
      "macro_f1-score: 0.3336\n",
      "balanced_accuracy: 0.3423\n",
      "mcc: 0.4928\n",
      "train_loss: 1.0663\n",
      "▶ Running: microsoft/deberta-base + bilstm + word2vec\n",
      "tokenizer is microsoft/deberta-base\n",
      "Using device: cuda\n",
      "CUDA Available: True\n",
      "CUDA Device: NVIDIA GeForce RTX 5070 Ti\n",
      "Current GPU Memory Allocated: 0.02 GB\n",
      "Current GPU Memory Cached: 5.45 GB\n",
      "\n",
      "[Fold 1]\n",
      "🚀 Using Word2Vec for data augmentation\n",
      "🔧 Augmenting label 1: 25 → 200 (+175)\n",
      "🔧 Augmenting label 2: 112 → 200 (+88)\n",
      "🔧 Augmenting label 3: 24 → 200 (+176)\n",
      "🔧 Augmenting label 5: 116 → 200 (+84)\n",
      "🔧 Augmenting label 6: 95 → 200 (+105)\n",
      "🔧 Augmenting label 7: 31 → 200 (+169)\n",
      "🔧 Augmenting label 8: 68 → 200 (+132)\n",
      "🔧 Augmenting label 9: 65 → 200 (+135)\n",
      "🔧 Augmenting label 10: 70 → 200 (+130)\n",
      "🔧 Augmenting label 11: 172 → 200 (+28)\n",
      "🔧 Augmenting label 12: 193 → 200 (+7)\n",
      "🔧 Augmenting label 13: 29 → 200 (+171)\n",
      "🔧 Augmenting label 14: 23 → 200 (+177)\n",
      "🔧 Augmenting label 15: 25 → 200 (+175)\n",
      "🔧 Augmenting label 16: 20 → 200 (+180)\n",
      "🔧 Augmenting label 18: 93 → 200 (+107)\n",
      "🔧 Augmenting label 19: 45 → 200 (+155)\n",
      "🔧 Augmenting label 20: 14 → 200 (+186)\n",
      "🔧 Augmenting label 21: 35 → 200 (+165)\n",
      "🔧 Augmenting label 22: 78 → 200 (+122)\n",
      "🔧 Augmenting label 23: 160 → 200 (+40)\n",
      "🔧 Augmenting label 24: 16 → 200 (+184)\n",
      "🔧 Augmenting label 25: 50 → 200 (+150)\n",
      "🔧 Augmenting label 26: 86 → 200 (+114)\n",
      "🔧 Augmenting label 27: 49 → 200 (+151)\n",
      "🔧 Augmenting label 28: 12 → 200 (+188)\n",
      "🔧 Augmenting label 29: 13 → 200 (+187)\n",
      "🔧 Augmenting label 30: 15 → 200 (+185)\n",
      "🔧 Augmenting label 31: 80 → 200 (+120)\n",
      "🔧 Augmenting label 32: 36 → 200 (+164)\n",
      "🔧 Augmenting label 33: 32 → 200 (+168)\n",
      "🔧 Augmenting label 34: 30 → 200 (+170)\n",
      "🔧 Augmenting label 35: 12 → 200 (+188)\n",
      "🔧 Augmenting label 36: 28 → 200 (+172)\n",
      "🔧 Augmenting label 37: 21 → 200 (+179)\n",
      "🔧 Augmenting label 38: 6 → 200 (+194)\n",
      "🔧 Augmenting label 39: 103 → 200 (+97)\n",
      "🔧 Augmenting label 40: 12 → 200 (+188)\n",
      "🔧 Augmenting label 41: 8 → 200 (+192)\n",
      "🔧 Augmenting label 42: 147 → 200 (+53)\n",
      "🔧 Augmenting label 43: 16 → 200 (+184)\n",
      "🔧 Augmenting label 44: 20 → 200 (+180)\n",
      "🔧 Augmenting label 45: 9 → 200 (+191)\n",
      "🔧 Augmenting label 46: 54 → 200 (+146)\n",
      "🔧 Augmenting label 49: 69 → 200 (+131)\n",
      "Label distribution after resampling:\n",
      "  label 0: 3179\n",
      "  label 1: 200\n",
      "  label 2: 200\n",
      "  label 3: 200\n",
      "  label 4: 205\n",
      "  label 5: 200\n",
      "  label 6: 200\n",
      "  label 7: 200\n",
      "  label 8: 200\n",
      "  label 9: 200\n",
      "  label 10: 200\n",
      "  label 11: 200\n",
      "  label 12: 200\n",
      "  label 13: 200\n",
      "  label 14: 200\n",
      "  label 15: 200\n",
      "  label 16: 200\n",
      "  label 17: 231\n",
      "  label 18: 200\n",
      "  label 19: 200\n",
      "  label 20: 200\n",
      "  label 21: 200\n",
      "  label 22: 200\n",
      "  label 23: 200\n",
      "  label 24: 200\n",
      "  label 25: 200\n",
      "  label 26: 200\n",
      "  label 27: 200\n",
      "  label 28: 200\n",
      "  label 29: 200\n",
      "  label 30: 200\n",
      "  label 31: 200\n",
      "  label 32: 200\n",
      "  label 33: 200\n",
      "  label 34: 200\n",
      "  label 35: 200\n",
      "  label 36: 200\n",
      "  label 37: 200\n",
      "  label 38: 200\n",
      "  label 39: 200\n",
      "  label 40: 200\n",
      "  label 41: 200\n",
      "  label 42: 200\n",
      "  label 43: 200\n",
      "  label 44: 200\n",
      "  label 45: 200\n",
      "  label 46: 200\n",
      "  label 47: 529\n",
      "  label 48: 202\n",
      "  label 49: 200\n",
      "model is microsoft/deberta-base bilstm\n",
      "Epoch 1/20\n"
     ]
    },
    {
     "name": "stderr",
     "output_type": "stream",
     "text": [
      "100%|██████████| 835/835 [01:32<00:00,  9.03it/s]\n"
     ]
    },
    {
     "name": "stdout",
     "output_type": "stream",
     "text": [
      "{'val_loss': 2.0579454640172563, 'val_accuracy': 0.5316380839739799, 'precision': 0.3774543594746573, 'recall': 0.5316380839739799, 'f1-score': 0.43766226195867936, 'macro_f1-score': 0.04658862933991413, 'balanced_accuracy': 0.07961644796322741, 'mcc': 0.33012394044868626, 'train_loss': 3.0649382604096465}\n",
      "Epoch 2/20\n"
     ]
    },
    {
     "name": "stderr",
     "output_type": "stream",
     "text": [
      "100%|██████████| 835/835 [01:32<00:00,  9.03it/s]\n"
     ]
    },
    {
     "name": "stdout",
     "output_type": "stream",
     "text": [
      "{'val_loss': 1.8769846828478687, 'val_accuracy': 0.5357776463630988, 'precision': 0.408107442772116, 'recall': 0.5357776463630988, 'f1-score': 0.46073532790256727, 'macro_f1-score': 0.08646975768955877, 'balanced_accuracy': 0.1306001261804775, 'mcc': 0.35053774052674436, 'train_loss': 2.444356710753755}\n",
      "Epoch 3/20\n"
     ]
    },
    {
     "name": "stderr",
     "output_type": "stream",
     "text": [
      "100%|██████████| 835/835 [01:32<00:00,  9.04it/s]\n"
     ]
    },
    {
     "name": "stdout",
     "output_type": "stream",
     "text": [
      "{'val_loss': 1.8613863604248695, 'val_accuracy': 0.5493790656416322, 'precision': 0.44812388391198793, 'recall': 0.5493790656416322, 'f1-score': 0.47797869626524014, 'macro_f1-score': 0.12211997453477692, 'balanced_accuracy': 0.1859911361572263, 'mcc': 0.3769507143660406, 'train_loss': 2.110964308598798}\n",
      "Epoch 4/20\n"
     ]
    },
    {
     "name": "stderr",
     "output_type": "stream",
     "text": [
      "100%|██████████| 835/835 [01:32<00:00,  9.05it/s]\n"
     ]
    },
    {
     "name": "stdout",
     "output_type": "stream",
     "text": [
      "{'val_loss': 1.6892431291206829, 'val_accuracy': 0.5582495564754583, 'precision': 0.5046357724326697, 'recall': 0.5582495564754583, 'f1-score': 0.5126259816349978, 'macro_f1-score': 0.16152138740076066, 'balanced_accuracy': 0.1954894078316096, 'mcc': 0.40265304474349256, 'train_loss': 1.7041729253923108}\n",
      "Epoch 5/20\n"
     ]
    },
    {
     "name": "stderr",
     "output_type": "stream",
     "text": [
      "100%|██████████| 835/835 [01:32<00:00,  9.02it/s]\n"
     ]
    },
    {
     "name": "stdout",
     "output_type": "stream",
     "text": [
      "{'val_loss': 1.742642803574508, 'val_accuracy': 0.5121230041395624, 'precision': 0.5498719489930199, 'recall': 0.5121230041395624, 'f1-score': 0.5109408645139881, 'macro_f1-score': 0.21214691305358943, 'balanced_accuracy': 0.26439342467229754, 'mcc': 0.3828159449321175, 'train_loss': 1.381146892744624}\n",
      "Epoch 6/20\n"
     ]
    },
    {
     "name": "stderr",
     "output_type": "stream",
     "text": [
      "100%|██████████| 835/835 [01:32<00:00,  9.04it/s]\n"
     ]
    },
    {
     "name": "stdout",
     "output_type": "stream",
     "text": [
      "{'val_loss': 1.7134195330008022, 'val_accuracy': 0.5410999408633944, 'precision': 0.5447740846783534, 'recall': 0.5410999408633944, 'f1-score': 0.530863596078876, 'macro_f1-score': 0.23755002481612678, 'balanced_accuracy': 0.28608425182261354, 'mcc': 0.4039482571195498, 'train_loss': 1.209636639834878}\n",
      "Epoch 7/20\n"
     ]
    },
    {
     "name": "stderr",
     "output_type": "stream",
     "text": [
      "100%|██████████| 835/835 [01:32<00:00,  9.03it/s]\n"
     ]
    },
    {
     "name": "stdout",
     "output_type": "stream",
     "text": [
      "{'val_loss': 1.6215494005185254, 'val_accuracy': 0.5819041986989947, 'precision': 0.5743967678447982, 'recall': 0.5819041986989947, 'f1-score': 0.5654177476362532, 'macro_f1-score': 0.28434797404196743, 'balanced_accuracy': 0.3025067593747426, 'mcc': 0.4542128534454481, 'train_loss': 0.9914378834520271}\n",
      "Epoch 8/20\n"
     ]
    },
    {
     "name": "stderr",
     "output_type": "stream",
     "text": [
      "100%|██████████| 835/835 [01:32<00:00,  9.03it/s]\n"
     ]
    },
    {
     "name": "stdout",
     "output_type": "stream",
     "text": [
      "{'val_loss': 1.6680034109443989, 'val_accuracy': 0.5771732702542874, 'precision': 0.575336903703341, 'recall': 0.5771732702542874, 'f1-score': 0.5615323675697756, 'macro_f1-score': 0.27582380810701734, 'balanced_accuracy': 0.3130885815516867, 'mcc': 0.4552013089711738, 'train_loss': 0.8454674921885222}\n",
      "Epoch 9/20\n"
     ]
    },
    {
     "name": "stderr",
     "output_type": "stream",
     "text": [
      "100%|██████████| 835/835 [01:32<00:00,  9.05it/s]\n"
     ]
    },
    {
     "name": "stdout",
     "output_type": "stream",
     "text": [
      "{'val_loss': 1.6819831107584935, 'val_accuracy': 0.5872264931992903, 'precision': 0.579846175166911, 'recall': 0.5872264931992903, 'f1-score': 0.573088962489321, 'macro_f1-score': 0.2898305090343477, 'balanced_accuracy': 0.2999333950175279, 'mcc': 0.4562125693245623, 'train_loss': 0.746982153893231}\n",
      "Epoch 10/20\n"
     ]
    },
    {
     "name": "stderr",
     "output_type": "stream",
     "text": [
      "100%|██████████| 835/835 [01:32<00:00,  9.04it/s]\n"
     ]
    },
    {
     "name": "stdout",
     "output_type": "stream",
     "text": [
      "{'val_loss': 1.7130497778361697, 'val_accuracy': 0.589591957421644, 'precision': 0.5826504127417422, 'recall': 0.589591957421644, 'f1-score': 0.577838066803682, 'macro_f1-score': 0.3089255279680216, 'balanced_accuracy': 0.32460047430000744, 'mcc': 0.4640415265733279, 'train_loss': 0.638972365418951}\n",
      "Epoch 11/20\n"
     ]
    },
    {
     "name": "stderr",
     "output_type": "stream",
     "text": [
      "100%|██████████| 835/835 [01:32<00:00,  9.04it/s]\n"
     ]
    },
    {
     "name": "stdout",
     "output_type": "stream",
     "text": [
      "{'val_loss': 1.7056332686037388, 'val_accuracy': 0.5878178592548787, 'precision': 0.6054123814638774, 'recall': 0.5878178592548787, 'f1-score': 0.5821182575815558, 'macro_f1-score': 0.3164062201333965, 'balanced_accuracy': 0.3230059345529992, 'mcc': 0.46309883204876684, 'train_loss': 0.5736412187357862}\n",
      "Epoch 12/20\n"
     ]
    },
    {
     "name": "stderr",
     "output_type": "stream",
     "text": [
      "100%|██████████| 835/835 [01:32<00:00,  9.02it/s]\n"
     ]
    },
    {
     "name": "stdout",
     "output_type": "stream",
     "text": [
      "{'val_loss': 1.756986747935133, 'val_accuracy': 0.5890005913660555, 'precision': 0.5942350492074401, 'recall': 0.5890005913660555, 'f1-score': 0.5727521409718004, 'macro_f1-score': 0.29272321112571376, 'balanced_accuracy': 0.2957609445125468, 'mcc': 0.46098373520179803, 'train_loss': 0.5445254553622472}\n",
      "Epoch 13/20\n"
     ]
    },
    {
     "name": "stderr",
     "output_type": "stream",
     "text": [
      "100%|██████████| 835/835 [01:32<00:00,  9.04it/s]\n"
     ]
    },
    {
     "name": "stdout",
     "output_type": "stream",
     "text": [
      "{'val_loss': 1.7401772970860858, 'val_accuracy': 0.6073329390892963, 'precision': 0.6142435338590736, 'recall': 0.6073329390892963, 'f1-score': 0.5932965660697002, 'macro_f1-score': 0.3301601607454904, 'balanced_accuracy': 0.32704178503258646, 'mcc': 0.4787563671760972, 'train_loss': 0.5010894356797376}\n",
      "Epoch 14/20\n"
     ]
    },
    {
     "name": "stderr",
     "output_type": "stream",
     "text": [
      "100%|██████████| 835/835 [01:32<00:00,  9.04it/s]\n"
     ]
    },
    {
     "name": "stdout",
     "output_type": "stream",
     "text": [
      "{'val_loss': 1.7875285671567016, 'val_accuracy': 0.615612063867534, 'precision': 0.606573009090578, 'recall': 0.615612063867534, 'f1-score': 0.593757972588629, 'macro_f1-score': 0.32616157931811146, 'balanced_accuracy': 0.35281308139115225, 'mcc': 0.49729451518639767, 'train_loss': 0.474381023435714}\n",
      "Epoch 15/20\n"
     ]
    },
    {
     "name": "stderr",
     "output_type": "stream",
     "text": [
      "100%|██████████| 835/835 [01:32<00:00,  9.05it/s]\n"
     ]
    },
    {
     "name": "stdout",
     "output_type": "stream",
     "text": [
      "{'val_loss': 1.8834441037110563, 'val_accuracy': 0.602602010644589, 'precision': 0.6265625237675795, 'recall': 0.602602010644589, 'f1-score': 0.5860160472122231, 'macro_f1-score': 0.29615649601800526, 'balanced_accuracy': 0.3062608573119704, 'mcc': 0.4811415824263646, 'train_loss': 0.4347333503585911}\n",
      "Epoch 16/20\n"
     ]
    },
    {
     "name": "stderr",
     "output_type": "stream",
     "text": [
      "100%|██████████| 835/835 [01:32<00:00,  9.02it/s]\n"
     ]
    },
    {
     "name": "stdout",
     "output_type": "stream",
     "text": [
      "{'val_loss': 1.7790337595737205, 'val_accuracy': 0.6197516262566529, 'precision': 0.6196543489892022, 'recall': 0.6197516262566529, 'f1-score': 0.6070128302564232, 'macro_f1-score': 0.34942665735168094, 'balanced_accuracy': 0.3381532672375125, 'mcc': 0.4966015905190063, 'train_loss': 0.405690608715672}\n",
      "Epoch 17/20\n"
     ]
    },
    {
     "name": "stderr",
     "output_type": "stream",
     "text": [
      "100%|██████████| 835/835 [01:32<00:00,  9.01it/s]\n"
     ]
    },
    {
     "name": "stdout",
     "output_type": "stream",
     "text": [
      "{'val_loss': 1.8273452548485882, 'val_accuracy': 0.6262566528681254, 'precision': 0.633954156833692, 'recall': 0.6262566528681254, 'f1-score': 0.6151055287362546, 'macro_f1-score': 0.36786354675731403, 'balanced_accuracy': 0.36534071556731473, 'mcc': 0.5075951615275723, 'train_loss': 0.3730360540711951}\n",
      "Epoch 18/20\n"
     ]
    },
    {
     "name": "stderr",
     "output_type": "stream",
     "text": [
      "100%|██████████| 835/835 [01:32<00:00,  9.04it/s]\n"
     ]
    },
    {
     "name": "stdout",
     "output_type": "stream",
     "text": [
      "{'val_loss': 1.806039572886701, 'val_accuracy': 0.6232998225901834, 'precision': 0.6483666903922723, 'recall': 0.6232998225901834, 'f1-score': 0.6169325211094532, 'macro_f1-score': 0.36289264583951497, 'balanced_accuracy': 0.3662277437826724, 'mcc': 0.510796943529008, 'train_loss': 0.44870641985740845}\n",
      "Epoch 19/20\n"
     ]
    },
    {
     "name": "stderr",
     "output_type": "stream",
     "text": [
      "100%|██████████| 835/835 [01:32<00:00,  9.04it/s]\n"
     ]
    },
    {
     "name": "stdout",
     "output_type": "stream",
     "text": [
      "{'val_loss': 1.9109084392493625, 'val_accuracy': 0.6309875813128326, 'precision': 0.6298851971091001, 'recall': 0.6309875813128326, 'f1-score': 0.6133651127921714, 'macro_f1-score': 0.3546611790037437, 'balanced_accuracy': 0.35228062217197315, 'mcc': 0.5095041398815706, 'train_loss': 0.30612821228980663}\n",
      "Epoch 20/20\n"
     ]
    },
    {
     "name": "stderr",
     "output_type": "stream",
     "text": [
      "100%|██████████| 835/835 [01:32<00:00,  9.04it/s]\n"
     ]
    },
    {
     "name": "stdout",
     "output_type": "stream",
     "text": [
      "{'val_loss': 1.8830181630152576, 'val_accuracy': 0.6173861620342992, 'precision': 0.6285250476113606, 'recall': 0.6173861620342992, 'f1-score': 0.6107717539772723, 'macro_f1-score': 0.3620844662546112, 'balanced_accuracy': 0.3652242216119804, 'mcc': 0.505815308605472, 'train_loss': 0.3155111602089273}\n",
      "Early stopping.\n",
      "\n",
      "[Fold 2]\n",
      "🚀 Using Word2Vec for data augmentation\n",
      "🔧 Augmenting label 1: 25 → 200 (+175)\n",
      "🔧 Augmenting label 2: 112 → 200 (+88)\n",
      "🔧 Augmenting label 3: 24 → 200 (+176)\n",
      "🔧 Augmenting label 5: 116 → 200 (+84)\n",
      "🔧 Augmenting label 6: 94 → 200 (+106)\n",
      "🔧 Augmenting label 7: 31 → 200 (+169)\n",
      "🔧 Augmenting label 8: 68 → 200 (+132)\n",
      "🔧 Augmenting label 9: 65 → 200 (+135)\n",
      "🔧 Augmenting label 10: 70 → 200 (+130)\n",
      "🔧 Augmenting label 11: 172 → 200 (+28)\n",
      "🔧 Augmenting label 12: 193 → 200 (+7)\n",
      "🔧 Augmenting label 13: 29 → 200 (+171)\n",
      "🔧 Augmenting label 14: 23 → 200 (+177)\n",
      "🔧 Augmenting label 15: 25 → 200 (+175)\n",
      "🔧 Augmenting label 16: 20 → 200 (+180)\n",
      "🔧 Augmenting label 18: 93 → 200 (+107)\n",
      "🔧 Augmenting label 19: 45 → 200 (+155)\n",
      "🔧 Augmenting label 20: 14 → 200 (+186)\n",
      "🔧 Augmenting label 21: 35 → 200 (+165)\n",
      "🔧 Augmenting label 22: 78 → 200 (+122)\n",
      "🔧 Augmenting label 23: 160 → 200 (+40)\n",
      "🔧 Augmenting label 24: 16 → 200 (+184)\n",
      "🔧 Augmenting label 25: 50 → 200 (+150)\n",
      "🔧 Augmenting label 26: 86 → 200 (+114)\n",
      "🔧 Augmenting label 27: 49 → 200 (+151)\n",
      "🔧 Augmenting label 28: 12 → 200 (+188)\n",
      "🔧 Augmenting label 29: 13 → 200 (+187)\n",
      "🔧 Augmenting label 30: 15 → 200 (+185)\n",
      "🔧 Augmenting label 31: 80 → 200 (+120)\n",
      "🔧 Augmenting label 32: 36 → 200 (+164)\n",
      "🔧 Augmenting label 33: 32 → 200 (+168)\n",
      "🔧 Augmenting label 34: 30 → 200 (+170)\n",
      "🔧 Augmenting label 35: 12 → 200 (+188)\n",
      "🔧 Augmenting label 36: 28 → 200 (+172)\n",
      "🔧 Augmenting label 37: 22 → 200 (+178)\n",
      "🔧 Augmenting label 38: 5 → 200 (+195)\n",
      "🔧 Augmenting label 39: 103 → 200 (+97)\n",
      "🔧 Augmenting label 40: 11 → 200 (+189)\n",
      "🔧 Augmenting label 41: 9 → 200 (+191)\n",
      "🔧 Augmenting label 42: 147 → 200 (+53)\n",
      "🔧 Augmenting label 43: 16 → 200 (+184)\n",
      "🔧 Augmenting label 44: 20 → 200 (+180)\n",
      "🔧 Augmenting label 45: 9 → 200 (+191)\n",
      "🔧 Augmenting label 46: 55 → 200 (+145)\n",
      "🔧 Augmenting label 49: 69 → 200 (+131)\n",
      "Label distribution after resampling:\n",
      "  label 0: 3179\n",
      "  label 1: 200\n",
      "  label 2: 200\n",
      "  label 3: 200\n",
      "  label 4: 206\n",
      "  label 5: 200\n",
      "  label 6: 200\n",
      "  label 7: 200\n",
      "  label 8: 200\n",
      "  label 9: 200\n",
      "  label 10: 200\n",
      "  label 11: 200\n",
      "  label 12: 200\n",
      "  label 13: 200\n",
      "  label 14: 200\n",
      "  label 15: 200\n",
      "  label 16: 200\n",
      "  label 17: 231\n",
      "  label 18: 200\n",
      "  label 19: 200\n",
      "  label 20: 200\n",
      "  label 21: 200\n",
      "  label 22: 200\n",
      "  label 23: 200\n",
      "  label 24: 200\n",
      "  label 25: 200\n",
      "  label 26: 200\n",
      "  label 27: 200\n",
      "  label 28: 200\n",
      "  label 29: 200\n",
      "  label 30: 200\n",
      "  label 31: 200\n",
      "  label 32: 200\n",
      "  label 33: 200\n",
      "  label 34: 200\n",
      "  label 35: 200\n",
      "  label 36: 200\n",
      "  label 37: 200\n",
      "  label 38: 200\n",
      "  label 39: 200\n",
      "  label 40: 200\n",
      "  label 41: 200\n",
      "  label 42: 200\n",
      "  label 43: 200\n",
      "  label 44: 200\n",
      "  label 45: 200\n",
      "  label 46: 200\n",
      "  label 47: 528\n",
      "  label 48: 202\n",
      "  label 49: 200\n",
      "model is microsoft/deberta-base bilstm\n",
      "Epoch 1/20\n"
     ]
    },
    {
     "name": "stderr",
     "output_type": "stream",
     "text": [
      "100%|██████████| 835/835 [01:32<00:00,  9.04it/s]\n"
     ]
    },
    {
     "name": "stdout",
     "output_type": "stream",
     "text": [
      "{'val_loss': 2.5848654654790773, 'val_accuracy': 0.5280898876404494, 'precision': 0.2893977385863493, 'recall': 0.5280898876404494, 'f1-score': 0.3738747456777701, 'macro_f1-score': 0.024847978023848017, 'balanced_accuracy': 0.034736842105263156, 'mcc': 0.2624157012018652, 'train_loss': 3.343242524769492}\n",
      "Epoch 2/20\n"
     ]
    },
    {
     "name": "stderr",
     "output_type": "stream",
     "text": [
      "100%|██████████| 835/835 [01:32<00:00,  9.04it/s]\n"
     ]
    },
    {
     "name": "stdout",
     "output_type": "stream",
     "text": [
      "{'val_loss': 2.8324297992688305, 'val_accuracy': 0.47013601419278533, 'precision': 0.22102787184107886, 'recall': 0.47013601419278533, 'f1-score': 0.30069037110479835, 'macro_f1-score': 0.012791633145615447, 'balanced_accuracy': 0.02, 'mcc': 0.0, 'train_loss': 3.476025697571075}\n",
      "Epoch 3/20\n"
     ]
    },
    {
     "name": "stderr",
     "output_type": "stream",
     "text": [
      "100%|██████████| 835/835 [01:32<00:00,  9.03it/s]\n"
     ]
    },
    {
     "name": "stdout",
     "output_type": "stream",
     "text": [
      "{'val_loss': 2.788513148730656, 'val_accuracy': 0.47013601419278533, 'precision': 0.22102787184107886, 'recall': 0.47013601419278533, 'f1-score': 0.30069037110479835, 'macro_f1-score': 0.012791633145615447, 'balanced_accuracy': 0.02, 'mcc': 0.0, 'train_loss': 3.5134269842844525}\n",
      "Epoch 4/20\n"
     ]
    },
    {
     "name": "stderr",
     "output_type": "stream",
     "text": [
      "100%|██████████| 835/835 [01:32<00:00,  9.04it/s]\n"
     ]
    },
    {
     "name": "stdout",
     "output_type": "stream",
     "text": [
      "{'val_loss': 2.830844702585688, 'val_accuracy': 0.47013601419278533, 'precision': 0.22102787184107886, 'recall': 0.47013601419278533, 'f1-score': 0.30069037110479835, 'macro_f1-score': 0.012791633145615447, 'balanced_accuracy': 0.02, 'mcc': 0.0, 'train_loss': 3.5126983628301565}\n",
      "Early stopping.\n",
      "\n",
      "[Fold 3]\n",
      "🚀 Using Word2Vec for data augmentation\n",
      "🔧 Augmenting label 1: 25 → 200 (+175)\n",
      "🔧 Augmenting label 2: 112 → 200 (+88)\n",
      "🔧 Augmenting label 3: 24 → 200 (+176)\n",
      "🔧 Augmenting label 5: 116 → 200 (+84)\n",
      "🔧 Augmenting label 6: 94 → 200 (+106)\n",
      "🔧 Augmenting label 7: 31 → 200 (+169)\n",
      "🔧 Augmenting label 8: 68 → 200 (+132)\n",
      "🔧 Augmenting label 9: 65 → 200 (+135)\n",
      "🔧 Augmenting label 10: 71 → 200 (+129)\n",
      "🔧 Augmenting label 11: 172 → 200 (+28)\n",
      "🔧 Augmenting label 12: 192 → 200 (+8)\n",
      "🔧 Augmenting label 13: 29 → 200 (+171)\n",
      "🔧 Augmenting label 14: 23 → 200 (+177)\n",
      "🔧 Augmenting label 15: 25 → 200 (+175)\n",
      "🔧 Augmenting label 16: 20 → 200 (+180)\n",
      "🔧 Augmenting label 18: 93 → 200 (+107)\n",
      "🔧 Augmenting label 19: 45 → 200 (+155)\n",
      "🔧 Augmenting label 20: 14 → 200 (+186)\n",
      "🔧 Augmenting label 21: 36 → 200 (+164)\n",
      "🔧 Augmenting label 22: 77 → 200 (+123)\n",
      "🔧 Augmenting label 23: 160 → 200 (+40)\n",
      "🔧 Augmenting label 24: 16 → 200 (+184)\n",
      "🔧 Augmenting label 25: 51 → 200 (+149)\n",
      "🔧 Augmenting label 26: 85 → 200 (+115)\n",
      "🔧 Augmenting label 27: 49 → 200 (+151)\n",
      "🔧 Augmenting label 28: 12 → 200 (+188)\n",
      "🔧 Augmenting label 29: 12 → 200 (+188)\n",
      "🔧 Augmenting label 30: 16 → 200 (+184)\n",
      "🔧 Augmenting label 31: 80 → 200 (+120)\n",
      "🔧 Augmenting label 32: 36 → 200 (+164)\n",
      "🔧 Augmenting label 33: 32 → 200 (+168)\n",
      "🔧 Augmenting label 34: 29 → 200 (+171)\n",
      "🔧 Augmenting label 35: 12 → 200 (+188)\n",
      "🔧 Augmenting label 36: 28 → 200 (+172)\n",
      "🔧 Augmenting label 37: 22 → 200 (+178)\n",
      "🔧 Augmenting label 38: 5 → 200 (+195)\n",
      "🔧 Augmenting label 39: 103 → 200 (+97)\n",
      "🔧 Augmenting label 40: 11 → 200 (+189)\n",
      "🔧 Augmenting label 41: 9 → 200 (+191)\n",
      "🔧 Augmenting label 42: 147 → 200 (+53)\n",
      "🔧 Augmenting label 43: 16 → 200 (+184)\n",
      "🔧 Augmenting label 44: 20 → 200 (+180)\n",
      "🔧 Augmenting label 45: 9 → 200 (+191)\n",
      "🔧 Augmenting label 46: 55 → 200 (+145)\n",
      "🔧 Augmenting label 49: 70 → 200 (+130)\n",
      "Label distribution after resampling:\n",
      "  label 0: 3179\n",
      "  label 1: 200\n",
      "  label 2: 200\n",
      "  label 3: 200\n",
      "  label 4: 206\n",
      "  label 5: 200\n",
      "  label 6: 200\n",
      "  label 7: 200\n",
      "  label 8: 200\n",
      "  label 9: 200\n",
      "  label 10: 200\n",
      "  label 11: 200\n",
      "  label 12: 200\n",
      "  label 13: 200\n",
      "  label 14: 200\n",
      "  label 15: 200\n",
      "  label 16: 200\n",
      "  label 17: 231\n",
      "  label 18: 200\n",
      "  label 19: 200\n",
      "  label 20: 200\n",
      "  label 21: 200\n",
      "  label 22: 200\n",
      "  label 23: 200\n",
      "  label 24: 200\n",
      "  label 25: 200\n",
      "  label 26: 200\n",
      "  label 27: 200\n",
      "  label 28: 200\n",
      "  label 29: 200\n",
      "  label 30: 200\n",
      "  label 31: 200\n",
      "  label 32: 200\n",
      "  label 33: 200\n",
      "  label 34: 200\n",
      "  label 35: 200\n",
      "  label 36: 200\n",
      "  label 37: 200\n",
      "  label 38: 200\n",
      "  label 39: 200\n",
      "  label 40: 200\n",
      "  label 41: 200\n",
      "  label 42: 200\n",
      "  label 43: 200\n",
      "  label 44: 200\n",
      "  label 45: 200\n",
      "  label 46: 200\n",
      "  label 47: 529\n",
      "  label 48: 201\n",
      "  label 49: 200\n",
      "model is microsoft/deberta-base bilstm\n",
      "Epoch 1/20\n"
     ]
    },
    {
     "name": "stderr",
     "output_type": "stream",
     "text": [
      "100%|██████████| 835/835 [01:32<00:00,  9.05it/s]\n"
     ]
    },
    {
     "name": "stdout",
     "output_type": "stream",
     "text": [
      "{'val_loss': 2.1760513872470497, 'val_accuracy': 0.5381431105854524, 'precision': 0.3593403977531399, 'recall': 0.5381431105854524, 'f1-score': 0.42657923653901253, 'macro_f1-score': 0.04791720762968466, 'balanced_accuracy': 0.08128935042402836, 'mcc': 0.3318266482873876, 'train_loss': 3.1356906271266367}\n",
      "Epoch 2/20\n"
     ]
    },
    {
     "name": "stderr",
     "output_type": "stream",
     "text": [
      "100%|██████████| 835/835 [01:32<00:00,  9.04it/s]\n"
     ]
    },
    {
     "name": "stdout",
     "output_type": "stream",
     "text": [
      "{'val_loss': 2.0126527469113187, 'val_accuracy': 0.5103489059727971, 'precision': 0.39782508672048783, 'recall': 0.5103489059727971, 'f1-score': 0.43905808435710925, 'macro_f1-score': 0.06637622511182642, 'balanced_accuracy': 0.1265759645906035, 'mcc': 0.32625445414008974, 'train_loss': 2.595623007363188}\n",
      "Epoch 3/20\n"
     ]
    },
    {
     "name": "stderr",
     "output_type": "stream",
     "text": [
      "100%|██████████| 835/835 [01:32<00:00,  9.02it/s]\n"
     ]
    },
    {
     "name": "stdout",
     "output_type": "stream",
     "text": [
      "{'val_loss': 1.920205054418096, 'val_accuracy': 0.5316380839739799, 'precision': 0.46129665553968385, 'recall': 0.5316380839739799, 'f1-score': 0.4603613685811838, 'macro_f1-score': 0.08246910738400427, 'balanced_accuracy': 0.1131319884848391, 'mcc': 0.34503408402998426, 'train_loss': 2.3110184710896657}\n",
      "Epoch 4/20\n"
     ]
    },
    {
     "name": "stderr",
     "output_type": "stream",
     "text": [
      "100%|██████████| 835/835 [01:32<00:00,  9.04it/s]\n"
     ]
    },
    {
     "name": "stdout",
     "output_type": "stream",
     "text": [
      "{'val_loss': 1.8702207483210653, 'val_accuracy': 0.5328208160851567, 'precision': 0.49648934851081217, 'recall': 0.5328208160851567, 'f1-score': 0.48920367468626164, 'macro_f1-score': 0.13296523903331603, 'balanced_accuracy': 0.19862345691294916, 'mcc': 0.3749823593913504, 'train_loss': 2.02551630014431}\n",
      "Epoch 5/20\n"
     ]
    },
    {
     "name": "stderr",
     "output_type": "stream",
     "text": [
      "100%|██████████| 835/835 [01:32<00:00,  9.05it/s]\n"
     ]
    },
    {
     "name": "stdout",
     "output_type": "stream",
     "text": [
      "{'val_loss': 1.8176947922076818, 'val_accuracy': 0.5458308693081018, 'precision': 0.4664585296069199, 'recall': 0.5458308693081018, 'f1-score': 0.4905117016190365, 'macro_f1-score': 0.167600060621417, 'balanced_accuracy': 0.20843680667089795, 'mcc': 0.3678010098547405, 'train_loss': 1.8706789986815995}\n",
      "Epoch 6/20\n"
     ]
    },
    {
     "name": "stderr",
     "output_type": "stream",
     "text": [
      "100%|██████████| 835/835 [01:32<00:00,  9.06it/s]\n"
     ]
    },
    {
     "name": "stdout",
     "output_type": "stream",
     "text": [
      "{'val_loss': 1.7800804595902282, 'val_accuracy': 0.5381431105854524, 'precision': 0.488858507482838, 'recall': 0.5381431105854524, 'f1-score': 0.4936008074142637, 'macro_f1-score': 0.1589797330816969, 'balanced_accuracy': 0.20680769578558775, 'mcc': 0.3727039409087228, 'train_loss': 1.6795728759137456}\n",
      "Epoch 7/20\n"
     ]
    },
    {
     "name": "stderr",
     "output_type": "stream",
     "text": [
      "100%|██████████| 835/835 [01:32<00:00,  9.03it/s]\n"
     ]
    },
    {
     "name": "stdout",
     "output_type": "stream",
     "text": [
      "{'val_loss': 2.031810856090402, 'val_accuracy': 0.5044352454169131, 'precision': 0.4521177507676505, 'recall': 0.5044352454169131, 'f1-score': 0.4614849721801138, 'macro_f1-score': 0.11144987207610331, 'balanced_accuracy': 0.13930134802263056, 'mcc': 0.3267907038451849, 'train_loss': 1.7419096719005152}\n",
      "Epoch 8/20\n"
     ]
    },
    {
     "name": "stderr",
     "output_type": "stream",
     "text": [
      "100%|██████████| 835/835 [01:32<00:00,  9.05it/s]\n"
     ]
    },
    {
     "name": "stdout",
     "output_type": "stream",
     "text": [
      "{'val_loss': 1.7996192821916543, 'val_accuracy': 0.5493790656416322, 'precision': 0.5373444784581382, 'recall': 0.5493790656416322, 'f1-score': 0.5202582675300301, 'macro_f1-score': 0.18181612283920398, 'balanced_accuracy': 0.21880720078933252, 'mcc': 0.3989716071071985, 'train_loss': 1.5821921643382775}\n",
      "Epoch 9/20\n"
     ]
    },
    {
     "name": "stderr",
     "output_type": "stream",
     "text": [
      "100%|██████████| 835/835 [01:32<00:00,  9.04it/s]\n"
     ]
    },
    {
     "name": "stdout",
     "output_type": "stream",
     "text": [
      "{'val_loss': 1.817787525226485, 'val_accuracy': 0.5547013601419278, 'precision': 0.4962387199427083, 'recall': 0.5547013601419278, 'f1-score': 0.5012498606793612, 'macro_f1-score': 0.20731932636987524, 'balanced_accuracy': 0.2353928595338509, 'mcc': 0.38911269779226226, 'train_loss': 1.32691970481844}\n",
      "Epoch 10/20\n"
     ]
    },
    {
     "name": "stderr",
     "output_type": "stream",
     "text": [
      "100%|██████████| 835/835 [01:32<00:00,  9.02it/s]\n"
     ]
    },
    {
     "name": "stdout",
     "output_type": "stream",
     "text": [
      "{'val_loss': 1.8444000240766778, 'val_accuracy': 0.5198107628622117, 'precision': 0.5437775699901034, 'recall': 0.5198107628622117, 'f1-score': 0.518982722879569, 'macro_f1-score': 0.20254347679349988, 'balanced_accuracy': 0.24340833810972157, 'mcc': 0.3915775934688526, 'train_loss': 1.1582288633563562}\n",
      "Epoch 11/20\n"
     ]
    },
    {
     "name": "stderr",
     "output_type": "stream",
     "text": [
      "100%|██████████| 835/835 [01:32<00:00,  9.06it/s]\n"
     ]
    },
    {
     "name": "stdout",
     "output_type": "stream",
     "text": [
      "{'val_loss': 1.739397166472561, 'val_accuracy': 0.5694855115316381, 'precision': 0.532192622090396, 'recall': 0.5694855115316381, 'f1-score': 0.5380098977223259, 'macro_f1-score': 0.22513554945067354, 'balanced_accuracy': 0.2583635716573449, 'mcc': 0.4288897079049487, 'train_loss': 1.0242429226101515}\n",
      "Epoch 12/20\n"
     ]
    },
    {
     "name": "stderr",
     "output_type": "stream",
     "text": [
      "100%|██████████| 835/835 [01:32<00:00,  9.05it/s]\n"
     ]
    },
    {
     "name": "stdout",
     "output_type": "stream",
     "text": [
      "{'val_loss': 1.8628887798426286, 'val_accuracy': 0.560615020697812, 'precision': 0.53273480111597, 'recall': 0.560615020697812, 'f1-score': 0.5378453096580341, 'macro_f1-score': 0.22268863404307, 'balanced_accuracy': 0.2582566670942951, 'mcc': 0.42231729607951923, 'train_loss': 0.9331385572691877}\n",
      "Epoch 13/20\n"
     ]
    },
    {
     "name": "stderr",
     "output_type": "stream",
     "text": [
      "100%|██████████| 835/835 [01:32<00:00,  9.04it/s]\n"
     ]
    },
    {
     "name": "stdout",
     "output_type": "stream",
     "text": [
      "{'val_loss': 1.9776101303550433, 'val_accuracy': 0.5304553518628031, 'precision': 0.5640752050731955, 'recall': 0.5304553518628031, 'f1-score': 0.5273560843934391, 'macro_f1-score': 0.2128800038630066, 'balanced_accuracy': 0.25045344620606946, 'mcc': 0.4011212358781266, 'train_loss': 0.9086435631006777}\n",
      "Epoch 14/20\n"
     ]
    },
    {
     "name": "stderr",
     "output_type": "stream",
     "text": [
      "100%|██████████| 835/835 [01:32<00:00,  9.01it/s]\n"
     ]
    },
    {
     "name": "stdout",
     "output_type": "stream",
     "text": [
      "{'val_loss': 1.7892476837590057, 'val_accuracy': 0.5937315198107629, 'precision': 0.5561274346249323, 'recall': 0.5937315198107629, 'f1-score': 0.5593411919481628, 'macro_f1-score': 0.28060702959444783, 'balanced_accuracy': 0.30822588014670765, 'mcc': 0.45712594223120967, 'train_loss': 0.7861978600660484}\n",
      "Epoch 15/20\n"
     ]
    },
    {
     "name": "stderr",
     "output_type": "stream",
     "text": [
      "100%|██████████| 835/835 [01:32<00:00,  9.04it/s]\n"
     ]
    },
    {
     "name": "stdout",
     "output_type": "stream",
     "text": [
      "{'val_loss': 1.792896903348419, 'val_accuracy': 0.5966883500887049, 'precision': 0.5815381209856351, 'recall': 0.5966883500887049, 'f1-score': 0.573521571805835, 'macro_f1-score': 0.290104790406879, 'balanced_accuracy': 0.2986880784439658, 'mcc': 0.4631773598615616, 'train_loss': 0.6946316247393272}\n",
      "Epoch 16/20\n"
     ]
    },
    {
     "name": "stderr",
     "output_type": "stream",
     "text": [
      "100%|██████████| 835/835 [01:32<00:00,  9.04it/s]\n"
     ]
    },
    {
     "name": "stdout",
     "output_type": "stream",
     "text": [
      "{'val_loss': 1.8192810005736801, 'val_accuracy': 0.5848610289769367, 'precision': 0.573139022701131, 'recall': 0.5848610289769367, 'f1-score': 0.5682921804945841, 'macro_f1-score': 0.30139866968051016, 'balanced_accuracy': 0.3256412711307358, 'mcc': 0.45906531474723156, 'train_loss': 0.742816484206451}\n",
      "Epoch 17/20\n"
     ]
    },
    {
     "name": "stderr",
     "output_type": "stream",
     "text": [
      "100%|██████████| 835/835 [01:32<00:00,  9.03it/s]\n"
     ]
    },
    {
     "name": "stdout",
     "output_type": "stream",
     "text": [
      "{'val_loss': 1.8176175462749768, 'val_accuracy': 0.5960969840331165, 'precision': 0.604900289770776, 'recall': 0.5960969840331165, 'f1-score': 0.582537335899365, 'macro_f1-score': 0.31229135078943115, 'balanced_accuracy': 0.32444038343818044, 'mcc': 0.47610050146702537, 'train_loss': 0.5959464117170807}\n",
      "Epoch 18/20\n"
     ]
    },
    {
     "name": "stderr",
     "output_type": "stream",
     "text": [
      "100%|██████████| 835/835 [01:32<00:00,  9.02it/s]\n"
     ]
    },
    {
     "name": "stdout",
     "output_type": "stream",
     "text": [
      "{'val_loss': 2.2213063093851195, 'val_accuracy': 0.498521584861029, 'precision': 0.5585668868153186, 'recall': 0.498521584861029, 'f1-score': 0.508034610571314, 'macro_f1-score': 0.21069864901703267, 'balanced_accuracy': 0.22171946712951116, 'mcc': 0.3648749613607971, 'train_loss': 0.6604571043998896}\n",
      "Epoch 19/20\n"
     ]
    },
    {
     "name": "stderr",
     "output_type": "stream",
     "text": [
      "100%|██████████| 835/835 [01:32<00:00,  9.03it/s]\n"
     ]
    },
    {
     "name": "stdout",
     "output_type": "stream",
     "text": [
      "{'val_loss': 1.8902414030623886, 'val_accuracy': 0.566528681253696, 'precision': 0.6219396023523749, 'recall': 0.566528681253696, 'f1-score': 0.5738058372973317, 'macro_f1-score': 0.31753458049925815, 'balanced_accuracy': 0.3302126331981227, 'mcc': 0.4459638560809424, 'train_loss': 0.6637447536170126}\n",
      "Epoch 20/20\n"
     ]
    },
    {
     "name": "stderr",
     "output_type": "stream",
     "text": [
      "100%|██████████| 835/835 [01:32<00:00,  9.04it/s]\n"
     ]
    },
    {
     "name": "stdout",
     "output_type": "stream",
     "text": [
      "{'val_loss': 2.0386335787908085, 'val_accuracy': 0.5860437610881135, 'precision': 0.5940963364106263, 'recall': 0.5860437610881135, 'f1-score': 0.5724884459290247, 'macro_f1-score': 0.3015246061127088, 'balanced_accuracy': 0.326238953880857, 'mcc': 0.4646209569154495, 'train_loss': 0.5077621549501747}\n",
      "\n",
      "[Fold 4]\n",
      "🚀 Using Word2Vec for data augmentation\n",
      "🔧 Augmenting label 1: 25 → 200 (+175)\n",
      "🔧 Augmenting label 2: 112 → 200 (+88)\n",
      "🔧 Augmenting label 3: 24 → 200 (+176)\n",
      "🔧 Augmenting label 5: 116 → 200 (+84)\n",
      "🔧 Augmenting label 6: 94 → 200 (+106)\n",
      "🔧 Augmenting label 7: 32 → 200 (+168)\n",
      "🔧 Augmenting label 8: 68 → 200 (+132)\n",
      "🔧 Augmenting label 9: 64 → 200 (+136)\n",
      "🔧 Augmenting label 10: 71 → 200 (+129)\n",
      "🔧 Augmenting label 11: 172 → 200 (+28)\n",
      "🔧 Augmenting label 12: 193 → 200 (+7)\n",
      "🔧 Augmenting label 13: 28 → 200 (+172)\n",
      "🔧 Augmenting label 14: 24 → 200 (+176)\n",
      "🔧 Augmenting label 15: 24 → 200 (+176)\n",
      "🔧 Augmenting label 16: 20 → 200 (+180)\n",
      "🔧 Augmenting label 18: 92 → 200 (+108)\n",
      "🔧 Augmenting label 19: 45 → 200 (+155)\n",
      "🔧 Augmenting label 20: 15 → 200 (+185)\n",
      "🔧 Augmenting label 21: 35 → 200 (+165)\n",
      "🔧 Augmenting label 22: 77 → 200 (+123)\n",
      "🔧 Augmenting label 23: 160 → 200 (+40)\n",
      "🔧 Augmenting label 24: 16 → 200 (+184)\n",
      "🔧 Augmenting label 25: 51 → 200 (+149)\n",
      "🔧 Augmenting label 26: 85 → 200 (+115)\n",
      "🔧 Augmenting label 27: 49 → 200 (+151)\n",
      "🔧 Augmenting label 28: 12 → 200 (+188)\n",
      "🔧 Augmenting label 29: 13 → 200 (+187)\n",
      "🔧 Augmenting label 30: 15 → 200 (+185)\n",
      "🔧 Augmenting label 31: 80 → 200 (+120)\n",
      "🔧 Augmenting label 32: 36 → 200 (+164)\n",
      "🔧 Augmenting label 33: 32 → 200 (+168)\n",
      "🔧 Augmenting label 34: 29 → 200 (+171)\n",
      "🔧 Augmenting label 35: 12 → 200 (+188)\n",
      "🔧 Augmenting label 36: 28 → 200 (+172)\n",
      "🔧 Augmenting label 37: 22 → 200 (+178)\n",
      "🔧 Augmenting label 38: 6 → 200 (+194)\n",
      "🔧 Augmenting label 39: 103 → 200 (+97)\n",
      "🔧 Augmenting label 40: 11 → 200 (+189)\n",
      "🔧 Augmenting label 41: 9 → 200 (+191)\n",
      "🔧 Augmenting label 42: 148 → 200 (+52)\n",
      "🔧 Augmenting label 43: 16 → 200 (+184)\n",
      "🔧 Augmenting label 44: 20 → 200 (+180)\n",
      "🔧 Augmenting label 45: 8 → 200 (+192)\n",
      "🔧 Augmenting label 46: 54 → 200 (+146)\n",
      "🔧 Augmenting label 49: 70 → 200 (+130)\n",
      "Label distribution after resampling:\n",
      "  label 0: 3179\n",
      "  label 1: 200\n",
      "  label 2: 200\n",
      "  label 3: 200\n",
      "  label 4: 206\n",
      "  label 5: 200\n",
      "  label 6: 200\n",
      "  label 7: 200\n",
      "  label 8: 200\n",
      "  label 9: 200\n",
      "  label 10: 200\n",
      "  label 11: 200\n",
      "  label 12: 200\n",
      "  label 13: 200\n",
      "  label 14: 200\n",
      "  label 15: 200\n",
      "  label 16: 200\n",
      "  label 17: 232\n",
      "  label 18: 200\n",
      "  label 19: 200\n",
      "  label 20: 200\n",
      "  label 21: 200\n",
      "  label 22: 200\n",
      "  label 23: 200\n",
      "  label 24: 200\n",
      "  label 25: 200\n",
      "  label 26: 200\n",
      "  label 27: 200\n",
      "  label 28: 200\n",
      "  label 29: 200\n",
      "  label 30: 200\n",
      "  label 31: 200\n",
      "  label 32: 200\n",
      "  label 33: 200\n",
      "  label 34: 200\n",
      "  label 35: 200\n",
      "  label 36: 200\n",
      "  label 37: 200\n",
      "  label 38: 200\n",
      "  label 39: 200\n",
      "  label 40: 200\n",
      "  label 41: 200\n",
      "  label 42: 200\n",
      "  label 43: 200\n",
      "  label 44: 200\n",
      "  label 45: 200\n",
      "  label 46: 200\n",
      "  label 47: 529\n",
      "  label 48: 201\n",
      "  label 49: 200\n",
      "model is microsoft/deberta-base bilstm\n",
      "Epoch 1/20\n"
     ]
    },
    {
     "name": "stderr",
     "output_type": "stream",
     "text": [
      "100%|██████████| 835/835 [01:32<00:00,  9.04it/s]\n"
     ]
    },
    {
     "name": "stdout",
     "output_type": "stream",
     "text": [
      "{'val_loss': 2.1624731781347744, 'val_accuracy': 0.5239503252513306, 'precision': 0.39593972458873217, 'recall': 0.5239503252513306, 'f1-score': 0.4472704352612523, 'macro_f1-score': 0.049381744769275475, 'balanced_accuracy': 0.08524873504516008, 'mcc': 0.3370425208940996, 'train_loss': 3.07491534998317}\n",
      "Epoch 2/20\n"
     ]
    },
    {
     "name": "stderr",
     "output_type": "stream",
     "text": [
      "100%|██████████| 835/835 [01:32<00:00,  9.04it/s]\n"
     ]
    },
    {
     "name": "stdout",
     "output_type": "stream",
     "text": [
      "{'val_loss': 1.9470829750007053, 'val_accuracy': 0.5393258426966292, 'precision': 0.4246462503184637, 'recall': 0.5393258426966292, 'f1-score': 0.45676673204432755, 'macro_f1-score': 0.05808411848115028, 'balanced_accuracy': 0.08616465477587623, 'mcc': 0.35150374853823996, 'train_loss': 2.6965010748651927}\n",
      "Epoch 3/20\n"
     ]
    },
    {
     "name": "stderr",
     "output_type": "stream",
     "text": [
      "100%|██████████| 835/835 [01:32<00:00,  9.05it/s]\n"
     ]
    },
    {
     "name": "stdout",
     "output_type": "stream",
     "text": [
      "{'val_loss': 1.9896473997044113, 'val_accuracy': 0.5002956830277943, 'precision': 0.4410402971118474, 'recall': 0.5002956830277943, 'f1-score': 0.4469249341337636, 'macro_f1-score': 0.06669756045256532, 'balanced_accuracy': 0.1375129974020242, 'mcc': 0.33112165550889894, 'train_loss': 2.3956025217821497}\n",
      "Epoch 4/20\n"
     ]
    },
    {
     "name": "stderr",
     "output_type": "stream",
     "text": [
      "100%|██████████| 835/835 [01:32<00:00,  9.06it/s]\n"
     ]
    },
    {
     "name": "stdout",
     "output_type": "stream",
     "text": [
      "{'val_loss': 1.879917247677749, 'val_accuracy': 0.5227675931401538, 'precision': 0.4930120985025039, 'recall': 0.5227675931401538, 'f1-score': 0.48006814254484453, 'macro_f1-score': 0.09850948676274296, 'balanced_accuracy': 0.14540875978750564, 'mcc': 0.36811905775224296, 'train_loss': 2.265976011110637}\n",
      "Epoch 5/20\n"
     ]
    },
    {
     "name": "stderr",
     "output_type": "stream",
     "text": [
      "100%|██████████| 835/835 [01:32<00:00,  9.03it/s]\n"
     ]
    },
    {
     "name": "stdout",
     "output_type": "stream",
     "text": [
      "{'val_loss': 1.8437890224861648, 'val_accuracy': 0.5103489059727971, 'precision': 0.47052101366432525, 'recall': 0.5103489059727971, 'f1-score': 0.4774480251413748, 'macro_f1-score': 0.09971076431642086, 'balanced_accuracy': 0.17304471382606784, 'mcc': 0.3421477343746294, 'train_loss': 2.125330200595056}\n",
      "Epoch 6/20\n"
     ]
    },
    {
     "name": "stderr",
     "output_type": "stream",
     "text": [
      "100%|██████████| 835/835 [01:32<00:00,  9.04it/s]\n"
     ]
    },
    {
     "name": "stdout",
     "output_type": "stream",
     "text": [
      "{'val_loss': 1.7827934111064334, 'val_accuracy': 0.5180366646954465, 'precision': 0.5228933023666608, 'recall': 0.5180366646954465, 'f1-score': 0.4941724983211313, 'macro_f1-score': 0.13128830784404866, 'balanced_accuracy': 0.2031514919078883, 'mcc': 0.3753413211269162, 'train_loss': 1.9739824986029528}\n",
      "Epoch 7/20\n"
     ]
    },
    {
     "name": "stderr",
     "output_type": "stream",
     "text": [
      "100%|██████████| 835/835 [01:32<00:00,  9.05it/s]\n"
     ]
    },
    {
     "name": "stdout",
     "output_type": "stream",
     "text": [
      "{'val_loss': 1.764316569802896, 'val_accuracy': 0.5103489059727971, 'precision': 0.539511386081857, 'recall': 0.5103489059727971, 'f1-score': 0.5064123817837264, 'macro_f1-score': 0.13711250216128562, 'balanced_accuracy': 0.18445808679616552, 'mcc': 0.36839394362782646, 'train_loss': 1.799566752753572}\n",
      "Epoch 8/20\n"
     ]
    },
    {
     "name": "stderr",
     "output_type": "stream",
     "text": [
      "100%|██████████| 835/835 [01:32<00:00,  9.05it/s]\n"
     ]
    },
    {
     "name": "stdout",
     "output_type": "stream",
     "text": [
      "{'val_loss': 1.7390142021314152, 'val_accuracy': 0.5310467179183915, 'precision': 0.5558871952817996, 'recall': 0.5310467179183915, 'f1-score': 0.5230249795696457, 'macro_f1-score': 0.18098967804965732, 'balanced_accuracy': 0.2402159669179209, 'mcc': 0.3942791911044977, 'train_loss': 1.7213946166866554}\n",
      "Epoch 9/20\n"
     ]
    },
    {
     "name": "stderr",
     "output_type": "stream",
     "text": [
      "100%|██████████| 835/835 [01:32<00:00,  9.02it/s]\n"
     ]
    },
    {
     "name": "stdout",
     "output_type": "stream",
     "text": [
      "{'val_loss': 1.7481031901431534, 'val_accuracy': 0.5204021289178001, 'precision': 0.5570211285395865, 'recall': 0.5204021289178001, 'f1-score': 0.5254560615166719, 'macro_f1-score': 0.1821742029274877, 'balanced_accuracy': 0.2530900269832882, 'mcc': 0.39129410848901686, 'train_loss': 1.5864797148875847}\n",
      "Epoch 10/20\n"
     ]
    },
    {
     "name": "stderr",
     "output_type": "stream",
     "text": [
      "100%|██████████| 835/835 [01:32<00:00,  9.02it/s]\n"
     ]
    },
    {
     "name": "stdout",
     "output_type": "stream",
     "text": [
      "{'val_loss': 1.7121680654444784, 'val_accuracy': 0.5487876995860438, 'precision': 0.5233055559731047, 'recall': 0.5487876995860438, 'f1-score': 0.5252948185229094, 'macro_f1-score': 0.1750809654015239, 'balanced_accuracy': 0.20660319139976857, 'mcc': 0.410499710637861, 'train_loss': 1.5468878409819689}\n",
      "Epoch 11/20\n"
     ]
    },
    {
     "name": "stderr",
     "output_type": "stream",
     "text": [
      "100%|██████████| 835/835 [01:32<00:00,  9.04it/s]\n"
     ]
    },
    {
     "name": "stdout",
     "output_type": "stream",
     "text": [
      "{'val_loss': 1.7245323444312473, 'val_accuracy': 0.5487876995860438, 'precision': 0.5610001634933365, 'recall': 0.5487876995860438, 'f1-score': 0.5465907363291969, 'macro_f1-score': 0.20614248030704185, 'balanced_accuracy': 0.2493970664118049, 'mcc': 0.42138560147273585, 'train_loss': 1.384340800639398}\n",
      "Epoch 12/20\n"
     ]
    },
    {
     "name": "stderr",
     "output_type": "stream",
     "text": [
      "100%|██████████| 835/835 [01:32<00:00,  9.04it/s]\n"
     ]
    },
    {
     "name": "stdout",
     "output_type": "stream",
     "text": [
      "{'val_loss': 1.7504060366805994, 'val_accuracy': 0.5351862803075104, 'precision': 0.5725735786802186, 'recall': 0.5351862803075104, 'f1-score': 0.5441016539204176, 'macro_f1-score': 0.24328312304264457, 'balanced_accuracy': 0.2877347424105322, 'mcc': 0.41312240540155876, 'train_loss': 1.2603770382033137}\n",
      "Epoch 13/20\n"
     ]
    },
    {
     "name": "stderr",
     "output_type": "stream",
     "text": [
      "100%|██████████| 835/835 [01:32<00:00,  9.05it/s]\n"
     ]
    },
    {
     "name": "stdout",
     "output_type": "stream",
     "text": [
      "{'val_loss': 1.6651775685121428, 'val_accuracy': 0.5683027794204613, 'precision': 0.5617881896917466, 'recall': 0.5683027794204613, 'f1-score': 0.5511902422423924, 'macro_f1-score': 0.2302748942852147, 'balanced_accuracy': 0.28033247521693566, 'mcc': 0.4434169636523737, 'train_loss': 1.4042071147236281}\n",
      "Epoch 14/20\n"
     ]
    },
    {
     "name": "stderr",
     "output_type": "stream",
     "text": [
      "100%|██████████| 835/835 [01:32<00:00,  9.04it/s]\n"
     ]
    },
    {
     "name": "stdout",
     "output_type": "stream",
     "text": [
      "{'val_loss': 1.707629607533509, 'val_accuracy': 0.5866351271437019, 'precision': 0.5835603652158642, 'recall': 0.5866351271437019, 'f1-score': 0.5721853428652909, 'macro_f1-score': 0.22681501945999977, 'balanced_accuracy': 0.26261494791548917, 'mcc': 0.4677907645449092, 'train_loss': 1.1725415387910283}\n",
      "Epoch 15/20\n"
     ]
    },
    {
     "name": "stderr",
     "output_type": "stream",
     "text": [
      "100%|██████████| 835/835 [01:32<00:00,  9.03it/s]\n"
     ]
    },
    {
     "name": "stdout",
     "output_type": "stream",
     "text": [
      "{'val_loss': 1.749581198928491, 'val_accuracy': 0.5647545830869308, 'precision': 0.5659814268970835, 'recall': 0.5647545830869308, 'f1-score': 0.5557403238430364, 'macro_f1-score': 0.25176956076194557, 'balanced_accuracy': 0.2872617572428524, 'mcc': 0.4357639127123503, 'train_loss': 1.088914453323016}\n",
      "Epoch 16/20\n"
     ]
    },
    {
     "name": "stderr",
     "output_type": "stream",
     "text": [
      "100%|██████████| 835/835 [01:32<00:00,  9.04it/s]\n"
     ]
    },
    {
     "name": "stdout",
     "output_type": "stream",
     "text": [
      "{'val_loss': 1.7735339415804394, 'val_accuracy': 0.5901833234772325, 'precision': 0.5764458337765861, 'recall': 0.5901833234772325, 'f1-score': 0.5691111363698159, 'macro_f1-score': 0.2679154442223786, 'balanced_accuracy': 0.3095777527259237, 'mcc': 0.46273111591605204, 'train_loss': 0.9683202106795625}\n",
      "Epoch 17/20\n"
     ]
    },
    {
     "name": "stderr",
     "output_type": "stream",
     "text": [
      "100%|██████████| 835/835 [01:32<00:00,  9.02it/s]\n"
     ]
    },
    {
     "name": "stdout",
     "output_type": "stream",
     "text": [
      "{'val_loss': 2.1234302543244272, 'val_accuracy': 0.5150798344175045, 'precision': 0.528930210045711, 'recall': 0.5150798344175045, 'f1-score': 0.49844547853899795, 'macro_f1-score': 0.17589187608000031, 'balanced_accuracy': 0.20785667053845144, 'mcc': 0.3856520454585713, 'train_loss': 1.0172605184737793}\n",
      "Epoch 18/20\n"
     ]
    },
    {
     "name": "stderr",
     "output_type": "stream",
     "text": [
      "100%|██████████| 835/835 [01:32<00:00,  9.05it/s]\n"
     ]
    },
    {
     "name": "stdout",
     "output_type": "stream",
     "text": [
      "{'val_loss': 1.8827234956453431, 'val_accuracy': 0.5641632170313424, 'precision': 0.5732087964389939, 'recall': 0.5641632170313424, 'f1-score': 0.5556209674298334, 'macro_f1-score': 0.2420052426719328, 'balanced_accuracy': 0.2737388055968768, 'mcc': 0.44432396585343364, 'train_loss': 1.2772154590505327}\n",
      "Epoch 19/20\n"
     ]
    },
    {
     "name": "stderr",
     "output_type": "stream",
     "text": [
      "100%|██████████| 835/835 [01:32<00:00,  9.04it/s]\n"
     ]
    },
    {
     "name": "stdout",
     "output_type": "stream",
     "text": [
      "{'val_loss': 1.8240147626624916, 'val_accuracy': 0.5789473684210527, 'precision': 0.5741881695236157, 'recall': 0.5789473684210527, 'f1-score': 0.5648387978017996, 'macro_f1-score': 0.2567617676726013, 'balanced_accuracy': 0.30119373234561986, 'mcc': 0.4566957394881305, 'train_loss': 0.9384490108909365}\n",
      "Early stopping.\n",
      "\n",
      "[Fold 5]\n",
      "🚀 Using Word2Vec for data augmentation\n",
      "🔧 Augmenting label 1: 24 → 200 (+176)\n",
      "🔧 Augmenting label 2: 112 → 200 (+88)\n",
      "🔧 Augmenting label 3: 24 → 200 (+176)\n",
      "🔧 Augmenting label 5: 116 → 200 (+84)\n",
      "🔧 Augmenting label 6: 95 → 200 (+105)\n",
      "🔧 Augmenting label 7: 31 → 200 (+169)\n",
      "🔧 Augmenting label 8: 68 → 200 (+132)\n",
      "🔧 Augmenting label 9: 65 → 200 (+135)\n",
      "🔧 Augmenting label 10: 70 → 200 (+130)\n",
      "🔧 Augmenting label 11: 172 → 200 (+28)\n",
      "🔧 Augmenting label 12: 193 → 200 (+7)\n",
      "🔧 Augmenting label 13: 29 → 200 (+171)\n",
      "🔧 Augmenting label 14: 23 → 200 (+177)\n",
      "🔧 Augmenting label 15: 25 → 200 (+175)\n",
      "🔧 Augmenting label 16: 20 → 200 (+180)\n",
      "🔧 Augmenting label 18: 93 → 200 (+107)\n",
      "🔧 Augmenting label 19: 44 → 200 (+156)\n",
      "🔧 Augmenting label 20: 15 → 200 (+185)\n",
      "🔧 Augmenting label 21: 35 → 200 (+165)\n",
      "🔧 Augmenting label 22: 78 → 200 (+122)\n",
      "🔧 Augmenting label 23: 160 → 200 (+40)\n",
      "🔧 Augmenting label 24: 16 → 200 (+184)\n",
      "🔧 Augmenting label 25: 50 → 200 (+150)\n",
      "🔧 Augmenting label 26: 86 → 200 (+114)\n",
      "🔧 Augmenting label 27: 48 → 200 (+152)\n",
      "🔧 Augmenting label 28: 12 → 200 (+188)\n",
      "🔧 Augmenting label 29: 13 → 200 (+187)\n",
      "🔧 Augmenting label 30: 15 → 200 (+185)\n",
      "🔧 Augmenting label 31: 80 → 200 (+120)\n",
      "🔧 Augmenting label 32: 36 → 200 (+164)\n",
      "🔧 Augmenting label 33: 32 → 200 (+168)\n",
      "🔧 Augmenting label 34: 30 → 200 (+170)\n",
      "🔧 Augmenting label 35: 12 → 200 (+188)\n",
      "🔧 Augmenting label 36: 28 → 200 (+172)\n",
      "🔧 Augmenting label 37: 21 → 200 (+179)\n",
      "🔧 Augmenting label 38: 6 → 200 (+194)\n",
      "🔧 Augmenting label 39: 104 → 200 (+96)\n",
      "🔧 Augmenting label 40: 11 → 200 (+189)\n",
      "🔧 Augmenting label 41: 9 → 200 (+191)\n",
      "🔧 Augmenting label 42: 147 → 200 (+53)\n",
      "🔧 Augmenting label 43: 16 → 200 (+184)\n",
      "🔧 Augmenting label 44: 20 → 200 (+180)\n",
      "🔧 Augmenting label 45: 9 → 200 (+191)\n",
      "🔧 Augmenting label 46: 54 → 200 (+146)\n",
      "🔧 Augmenting label 49: 70 → 200 (+130)\n",
      "Label distribution after resampling:\n",
      "  label 0: 3180\n",
      "  label 1: 200\n",
      "  label 2: 200\n",
      "  label 3: 200\n",
      "  label 4: 205\n",
      "  label 5: 200\n",
      "  label 6: 200\n",
      "  label 7: 200\n",
      "  label 8: 200\n",
      "  label 9: 200\n",
      "  label 10: 200\n",
      "  label 11: 200\n",
      "  label 12: 200\n",
      "  label 13: 200\n",
      "  label 14: 200\n",
      "  label 15: 200\n",
      "  label 16: 200\n",
      "  label 17: 231\n",
      "  label 18: 200\n",
      "  label 19: 200\n",
      "  label 20: 200\n",
      "  label 21: 200\n",
      "  label 22: 200\n",
      "  label 23: 200\n",
      "  label 24: 200\n",
      "  label 25: 200\n",
      "  label 26: 200\n",
      "  label 27: 200\n",
      "  label 28: 200\n",
      "  label 29: 200\n",
      "  label 30: 200\n",
      "  label 31: 200\n",
      "  label 32: 200\n",
      "  label 33: 200\n",
      "  label 34: 200\n",
      "  label 35: 200\n",
      "  label 36: 200\n",
      "  label 37: 200\n",
      "  label 38: 200\n",
      "  label 39: 200\n",
      "  label 40: 200\n",
      "  label 41: 200\n",
      "  label 42: 200\n",
      "  label 43: 200\n",
      "  label 44: 200\n",
      "  label 45: 200\n",
      "  label 46: 200\n",
      "  label 47: 529\n",
      "  label 48: 202\n",
      "  label 49: 200\n",
      "model is microsoft/deberta-base bilstm\n",
      "Epoch 1/20\n"
     ]
    },
    {
     "name": "stderr",
     "output_type": "stream",
     "text": [
      "100%|██████████| 835/835 [01:32<00:00,  9.01it/s]\n"
     ]
    },
    {
     "name": "stdout",
     "output_type": "stream",
     "text": [
      "{'val_loss': 2.290082967506265, 'val_accuracy': 0.5295857988165681, 'precision': 0.3210092690185527, 'recall': 0.5295857988165681, 'f1-score': 0.39918312746579554, 'macro_f1-score': 0.03194405508163074, 'balanced_accuracy': 0.05332719966850949, 'mcc': 0.2901536305997911, 'train_loss': 3.2096558510900257}\n",
      "Epoch 2/20\n"
     ]
    },
    {
     "name": "stderr",
     "output_type": "stream",
     "text": [
      "100%|██████████| 835/835 [01:32<00:00,  9.05it/s]\n"
     ]
    },
    {
     "name": "stdout",
     "output_type": "stream",
     "text": [
      "{'val_loss': 2.5524572595110477, 'val_accuracy': 0.4668639053254438, 'precision': 0.2418761382696091, 'recall': 0.4668639053254438, 'f1-score': 0.3137220104971083, 'macro_f1-score': 0.02155056497175141, 'balanced_accuracy': 0.03316449727637081, 'mcc': 0.07251577438503336, 'train_loss': 3.088220948516252}\n",
      "Epoch 3/20\n"
     ]
    },
    {
     "name": "stderr",
     "output_type": "stream",
     "text": [
      "100%|██████████| 835/835 [01:32<00:00,  9.03it/s]\n"
     ]
    },
    {
     "name": "stdout",
     "output_type": "stream",
     "text": [
      "{'val_loss': 2.2734840664098845, 'val_accuracy': 0.49171597633136094, 'precision': 0.35381760293706566, 'recall': 0.49171597633136094, 'f1-score': 0.4063886311291934, 'macro_f1-score': 0.026912488918567946, 'balanced_accuracy': 0.053807779122640585, 'mcc': 0.288393369409981, 'train_loss': 3.1263038109876438}\n",
      "Epoch 4/20\n"
     ]
    },
    {
     "name": "stderr",
     "output_type": "stream",
     "text": [
      "100%|██████████| 835/835 [01:32<00:00,  9.03it/s]\n"
     ]
    },
    {
     "name": "stdout",
     "output_type": "stream",
     "text": [
      "{'val_loss': 2.3015852525549114, 'val_accuracy': 0.5207100591715976, 'precision': 0.3220788397313396, 'recall': 0.5207100591715976, 'f1-score': 0.3914578739291158, 'macro_f1-score': 0.02299442372178893, 'balanced_accuracy': 0.03770437371193038, 'mcc': 0.29963307345758644, 'train_loss': 2.984400273368744}\n",
      "Early stopping.\n",
      "\n",
      " === microsoft/deberta-base + bilstm + word2vec Final 5-fold Cross-Validation Results ===\n",
      "Total time: 6541 seconds\n",
      "Total time: 1 hrs 49 mins 1 secs\n",
      "val_loss: 2.0732\n",
      "val_accuracy: 0.5681\n",
      "precision: 0.4885\n",
      "recall: 0.5681\n",
      "f1-score: 0.5062\n",
      "macro_f1-score: 0.2020\n",
      "balanced_accuracy: 0.2186\n",
      "mcc: 0.3938\n",
      "train_loss: 1.7116\n"
     ]
    }
   ],
   "source": [
    "model_list = [\"bert-base-uncased\",\"roberta-base\",\"microsoft/deberta-base\"]\n",
    "hybrid_list = [None,\"lstm\",\"cnn\",\"bilstm\"]\n",
    "resample_list = [\"word2vec\"]\n",
    "\n",
    "all_experiment_result = {}\n",
    "\n",
    "for model_name in model_list:\n",
    "    for hybrid_type in hybrid_list:\n",
    "        for resample_method in resample_list:\n",
    "            results = run_kfold_experiment(\n",
    "                X=messages, y=labels, model_name=model_name, hybrid_type=hybrid_type, resample_method=resample_method,\n",
    "                kfold=KFOLD_SPLIT, seed=SEED, epochs=EPOCHS, patience=PATIENCE, max_length=MAX_LENGTH, \n",
    "                batch_size=BATCH_SIZE, lr=LR, weight_decay=WEIGHT_DECAY\n",
    "            )\n",
    "            key = f\"{model_name} {hybrid_type if hybrid_type else 'None'} {resample_method}\"\n",
    "            all_experiment_result[key] = results"
   ]
  },
  {
   "cell_type": "code",
   "execution_count": 5,
   "id": "ec792735-5337-4675-a201-30ec3a0415ca",
   "metadata": {},
   "outputs": [
    {
     "data": {
      "text/plain": [
       "{'bert-base-uncased None word2vec': {'val_loss': 1.4806342501966459,\n",
       "  'val_accuracy': 0.6686795740764717,\n",
       "  'precision': 0.6807085983285127,\n",
       "  'recall': 0.6686795740764717,\n",
       "  'f1-score': 0.6595627372821612,\n",
       "  'macro_f1-score': 0.4247720607591122,\n",
       "  'balanced_accuracy': 0.42603152250157716,\n",
       "  'mcc': 0.5646992943233948,\n",
       "  'train_loss': 0.29688771044222007},\n",
       " 'bert-base-uncased lstm word2vec': {'val_loss': 1.3882089083065403,\n",
       "  'val_accuracy': 0.671991363956064,\n",
       "  'precision': 0.6765709563011064,\n",
       "  'recall': 0.671991363956064,\n",
       "  'f1-score': 0.6575299976645153,\n",
       "  'macro_f1-score': 0.4177983279533053,\n",
       "  'balanced_accuracy': 0.4228824621913815,\n",
       "  'mcc': 0.5648369840158447,\n",
       "  'train_loss': 0.5648767474717544},\n",
       " 'bert-base-uncased cnn word2vec': {'val_loss': 1.3438086912035945,\n",
       "  'val_accuracy': 0.6747099681922044,\n",
       "  'precision': 0.6689120336949183,\n",
       "  'recall': 0.6747099681922044,\n",
       "  'f1-score': 0.6577699525935287,\n",
       "  'macro_f1-score': 0.4160933576646343,\n",
       "  'balanced_accuracy': 0.40787873247894435,\n",
       "  'mcc': 0.5645218676363852,\n",
       "  'train_loss': 0.4729971109431036},\n",
       " 'bert-base-uncased bilstm word2vec': {'val_loss': 1.5373226624614786,\n",
       "  'val_accuracy': 0.6808614348849986,\n",
       "  'precision': 0.6809764385611797,\n",
       "  'recall': 0.6808614348849986,\n",
       "  'f1-score': 0.6655990517119998,\n",
       "  'macro_f1-score': 0.420339006951706,\n",
       "  'balanced_accuracy': 0.4019460139294351,\n",
       "  'mcc': 0.5745225459677412,\n",
       "  'train_loss': 0.25873028517745345},\n",
       " 'roberta-base None word2vec': {'val_loss': 1.5039375337789642,\n",
       "  'val_accuracy': 0.663357279576176,\n",
       "  'precision': 0.6724511097144994,\n",
       "  'recall': 0.663357279576176,\n",
       "  'f1-score': 0.6531271474077807,\n",
       "  'macro_f1-score': 0.4125131433912296,\n",
       "  'balanced_accuracy': 0.4219337218306574,\n",
       "  'mcc': 0.5548508087335906,\n",
       "  'train_loss': 0.3607088517574984},\n",
       " 'roberta-base lstm word2vec': {'val_loss': 1.492705199291121,\n",
       "  'val_accuracy': 0.6430121177553285,\n",
       "  'precision': 0.6631467610974325,\n",
       "  'recall': 0.6430121177553285,\n",
       "  'f1-score': 0.6339580846863477,\n",
       "  'macro_f1-score': 0.39112839369997204,\n",
       "  'balanced_accuracy': 0.40699640917109203,\n",
       "  'mcc': 0.5300895860726057,\n",
       "  'train_loss': 0.5538151835302214},\n",
       " 'roberta-base cnn word2vec': {'val_loss': 1.418495478727064,\n",
       "  'val_accuracy': 0.6710454582037169,\n",
       "  'precision': 0.6840385081646687,\n",
       "  'recall': 0.6710454582037169,\n",
       "  'f1-score': 0.6615537098837966,\n",
       "  'macro_f1-score': 0.42205204466280827,\n",
       "  'balanced_accuracy': 0.42403974065619476,\n",
       "  'mcc': 0.5649659911111266,\n",
       "  'train_loss': 0.4538818373343723},\n",
       " 'roberta-base bilstm word2vec': {'val_loss': 1.4431319759420629,\n",
       "  'val_accuracy': 0.6590962946892529,\n",
       "  'precision': 0.6644633906358753,\n",
       "  'recall': 0.6590962946892529,\n",
       "  'f1-score': 0.6451308172331865,\n",
       "  'macro_f1-score': 0.4005866151090724,\n",
       "  'balanced_accuracy': 0.404428508256813,\n",
       "  'mcc': 0.548953904686241,\n",
       "  'train_loss': 0.500624943824853},\n",
       " 'microsoft/deberta-base None word2vec': {'val_loss': 1.507007889453111,\n",
       "  'val_accuracy': 0.6672560265099955,\n",
       "  'precision': 0.673145550541275,\n",
       "  'recall': 0.6672560265099955,\n",
       "  'f1-score': 0.6524587957481837,\n",
       "  'macro_f1-score': 0.4004893254148848,\n",
       "  'balanced_accuracy': 0.3907217267330833,\n",
       "  'mcc': 0.5575144845304006,\n",
       "  'train_loss': 0.3591887767364767},\n",
       " 'microsoft/deberta-base lstm word2vec': {'val_loss': 2.1972593892295404,\n",
       "  'val_accuracy': 0.5237761347054891,\n",
       "  'precision': 0.3631575499574387,\n",
       "  'recall': 0.5237761347054891,\n",
       "  'f1-score': 0.41890956639198207,\n",
       "  'macro_f1-score': 0.05307234342354165,\n",
       "  'balanced_accuracy': 0.07983819648984522,\n",
       "  'mcc': 0.3040219165779372,\n",
       "  'train_loss': 2.8811811044972813},\n",
       " 'microsoft/deberta-base cnn word2vec': {'val_loss': 1.631781318643183,\n",
       "  'val_accuracy': 0.625627355404001,\n",
       "  'precision': 0.614695696469172,\n",
       "  'recall': 0.625627355404001,\n",
       "  'f1-score': 0.5993163600888167,\n",
       "  'macro_f1-score': 0.3335856174150787,\n",
       "  'balanced_accuracy': 0.3423356053415315,\n",
       "  'mcc': 0.492825921917718,\n",
       "  'train_loss': 1.0663419343588574},\n",
       " 'microsoft/deberta-base bilstm word2vec': {'val_loss': 2.073213806495352,\n",
       "  'val_accuracy': 0.5681288688112143,\n",
       "  'precision': 0.48854932011351104,\n",
       "  'recall': 0.5681288688112143,\n",
       "  'f1-score': 0.5062160751093936,\n",
       "  'macro_f1-score': 0.20202112091688593,\n",
       "  'balanced_accuracy': 0.21863902865302678,\n",
       "  'mcc': 0.3937718930652446,\n",
       "  'train_loss': 1.7115998788454576}}"
      ]
     },
     "execution_count": 5,
     "metadata": {},
     "output_type": "execute_result"
    }
   ],
   "source": [
    "all_experiment_result"
   ]
  },
  {
   "cell_type": "code",
   "execution_count": null,
   "id": "3c633d6f-3117-4e62-a92c-c50fb863c194",
   "metadata": {},
   "outputs": [],
   "source": []
  },
  {
   "cell_type": "code",
   "execution_count": null,
   "id": "a979ee3d-a4b6-4ea5-8247-fe041653243b",
   "metadata": {},
   "outputs": [],
   "source": []
  }
 ],
 "metadata": {
  "kernelspec": {
   "display_name": "Python 3 (ipykernel)",
   "language": "python",
   "name": "python3"
  },
  "language_info": {
   "codemirror_mode": {
    "name": "ipython",
    "version": 3
   },
   "file_extension": ".py",
   "mimetype": "text/x-python",
   "name": "python",
   "nbconvert_exporter": "python",
   "pygments_lexer": "ipython3",
   "version": "3.11.9"
  }
 },
 "nbformat": 4,
 "nbformat_minor": 5
}
