{
 "cells": [
  {
   "cell_type": "code",
   "execution_count": 3,
   "id": "e797d82d-db70-4a22-bf13-5ff6124215e5",
   "metadata": {},
   "outputs": [],
   "source": [
    "import random\n",
    "from nltk.corpus import wordnet\n",
    "import nltk\n",
    "\n",
    "# 確保第一次下載詞庫\n",
    "# nltk.download('wordnet')\n",
    "# nltk.download('omw-1.4')\n",
    "\n",
    "def wordnet_replace(text, replace_word_num):\n",
    "    words = text.split()\n",
    "    if not words:\n",
    "        return text\n",
    "\n",
    "    new_words = words.copy()\n",
    "    replaced = 0\n",
    "\n",
    "    indices = list(range(len(words)))\n",
    "    random.shuffle(indices)\n",
    "\n",
    "    for i in indices:\n",
    "        word = words[i]\n",
    "        synonyms = set()\n",
    "        for syn in wordnet.synsets(word):\n",
    "            for lemma in syn.lemmas():\n",
    "                synonym = lemma.name().replace('_', ' ')\n",
    "                if synonym.lower() != word.lower():\n",
    "                    synonyms.add(synonym)\n",
    "\n",
    "        if synonyms:\n",
    "            new_words[i] = random.choice(list(synonyms))\n",
    "            replaced += 1\n",
    "\n",
    "        if replaced >= replace_word_num:\n",
    "            break\n",
    "\n",
    "    return ' '.join(new_words)\n"
   ]
  },
  {
   "cell_type": "code",
   "execution_count": 6,
   "id": "67a17033-98a2-4d51-8284-c18108894298",
   "metadata": {},
   "outputs": [
    {
     "name": "stdout",
     "output_type": "stream",
     "text": [
      "ineffective login company vpn unable login company vpn website trying open new sitting using link able dumbfound pls help urgently working home tomorrow due month end closing\n"
     ]
    }
   ],
   "source": [
    "sentence = \"unable login company vpn unable login company vpn website trying open new session using link able get pls help urgently working home tomorrow due month end closing\"\n",
    "print(wordnet_replace(sentence, replace_word_num=3))"
   ]
  },
  {
   "cell_type": "code",
   "execution_count": 1,
   "id": "8c1202bf-30e9-437f-9f9e-a4179b2c0cc9",
   "metadata": {},
   "outputs": [],
   "source": [
    "import random\n",
    "from nltk.corpus import wordnet\n",
    "\n",
    "def get_synonyms(word):\n",
    "    synonyms = set()\n",
    "    for syn in wordnet.synsets(word):\n",
    "        for lemma in syn.lemmas():\n",
    "            synonym = lemma.name().replace('_', ' ')\n",
    "            if synonym.lower() != word.lower():\n",
    "                synonyms.add(synonym)\n",
    "    return list(synonyms)\n",
    "\n",
    "def random_insertion(words, n):\n",
    "    for _ in range(n):\n",
    "        idx = random.randint(0, len(words) - 1)\n",
    "        synonyms = get_synonyms(words[idx])\n",
    "        if synonyms:\n",
    "            insert_word = random.choice(synonyms)\n",
    "            insert_pos = random.randint(0, len(words))\n",
    "            words.insert(insert_pos, insert_word)\n",
    "    return words\n",
    "\n",
    "def random_deletion(words, p=0.2):\n",
    "    # 以機率 p 刪除每個單字\n",
    "    if len(words) == 1:\n",
    "        return words\n",
    "    return [word for word in words if random.uniform(0, 1) > p]\n",
    "\n",
    "def random_swap(words, n):\n",
    "    for _ in range(n):\n",
    "        idx1, idx2 = random.sample(range(len(words)), 2)\n",
    "        words[idx1], words[idx2] = words[idx2], words[idx1]\n",
    "    return words\n",
    "\n",
    "def eda_augment(text, num_ops=1, method='random'):\n",
    "    \"\"\"\n",
    "    text: 原始句子\n",
    "    num_ops: 操作次數（例如要插入幾個字）\n",
    "    method: 'insert', 'delete', 'swap', 或 'random'\n",
    "    \"\"\"\n",
    "    words = text.split()\n",
    "    if method == 'insert':\n",
    "        return ' '.join(random_insertion(words.copy(), num_ops))\n",
    "    elif method == 'delete':\n",
    "        return ' '.join(random_deletion(words.copy()))\n",
    "    elif method == 'swap':\n",
    "        return ' '.join(random_swap(words.copy(), num_ops))\n",
    "    elif method == 'random':\n",
    "        method = random.choice(['insert', 'delete', 'swap'])\n",
    "        return eda_augment(text, num_ops, method)\n",
    "    else:\n",
    "        raise ValueError(\"Method must be 'insert', 'delete', 'swap', or 'random'\")"
   ]
  },
  {
   "cell_type": "code",
   "execution_count": 2,
   "id": "68d29c88-42fa-4b99-bb0c-222c5e4f22c0",
   "metadata": {},
   "outputs": [
    {
     "name": "stdout",
     "output_type": "stream",
     "text": [
      "🔁 插入： The quick brown fox jumps over brownness the lazy dog\n",
      "❌ 刪除： quick brown fox jumps the lazy dog\n",
      "🔄 交換： quick The brown fox the over jumps lazy dog\n",
      "🎲 隨機： The quick brown fox jumps concluded over ended the lazy dog\n"
     ]
    }
   ],
   "source": [
    "sentence = \"The quick brown fox jumps over the lazy dog\"\n",
    "print(\"🔁 插入：\", eda_augment(sentence, num_ops=2, method='insert'))\n",
    "print(\"❌ 刪除：\", eda_augment(sentence, method='delete'))\n",
    "print(\"🔄 交換：\", eda_augment(sentence, num_ops=2, method='swap'))\n",
    "print(\"🎲 隨機：\", eda_augment(sentence, num_ops=2, method='random'))"
   ]
  }
 ],
 "metadata": {
  "kernelspec": {
   "display_name": "Python 3 (ipykernel)",
   "language": "python",
   "name": "python3"
  },
  "language_info": {
   "codemirror_mode": {
    "name": "ipython",
    "version": 3
   },
   "file_extension": ".py",
   "mimetype": "text/x-python",
   "name": "python",
   "nbconvert_exporter": "python",
   "pygments_lexer": "ipython3",
   "version": "3.11.9"
  }
 },
 "nbformat": 4,
 "nbformat_minor": 5
}
