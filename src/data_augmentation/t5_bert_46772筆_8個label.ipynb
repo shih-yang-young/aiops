{
 "cells": [
  {
   "cell_type": "code",
   "execution_count": 1,
   "id": "f22f4841-9a9d-4a63-b896-560594d666d8",
   "metadata": {},
   "outputs": [
    {
     "data": {
      "text/html": [
       "<div>\n",
       "<style scoped>\n",
       "    .dataframe tbody tr th:only-of-type {\n",
       "        vertical-align: middle;\n",
       "    }\n",
       "\n",
       "    .dataframe tbody tr th {\n",
       "        vertical-align: top;\n",
       "    }\n",
       "\n",
       "    .dataframe thead th {\n",
       "        text-align: right;\n",
       "    }\n",
       "</style>\n",
       "<table border=\"1\" class=\"dataframe\">\n",
       "  <thead>\n",
       "    <tr style=\"text-align: right;\">\n",
       "      <th></th>\n",
       "      <th>Inbound Message</th>\n",
       "      <th>Label</th>\n",
       "    </tr>\n",
       "  </thead>\n",
       "  <tbody>\n",
       "    <tr>\n",
       "      <th>0</th>\n",
       "      <td>connection icon icon dear please setup icon pe...</td>\n",
       "      <td>3</td>\n",
       "    </tr>\n",
       "    <tr>\n",
       "      <th>1</th>\n",
       "      <td>work experience user work experience user work...</td>\n",
       "      <td>0</td>\n",
       "    </tr>\n",
       "    <tr>\n",
       "      <th>2</th>\n",
       "      <td>requesting meeting requesting meeting please h...</td>\n",
       "      <td>3</td>\n",
       "    </tr>\n",
       "    <tr>\n",
       "      <th>3</th>\n",
       "      <td>reset passwords external accounts expire days ...</td>\n",
       "      <td>0</td>\n",
       "    </tr>\n",
       "    <tr>\n",
       "      <th>4</th>\n",
       "      <td>mail verification warning got attached please ...</td>\n",
       "      <td>5</td>\n",
       "    </tr>\n",
       "    <tr>\n",
       "      <th>...</th>\n",
       "      <td>...</td>\n",
       "      <td>...</td>\n",
       "    </tr>\n",
       "    <tr>\n",
       "      <th>46767</th>\n",
       "      <td>git space project issues adding users sent git...</td>\n",
       "      <td>0</td>\n",
       "    </tr>\n",
       "    <tr>\n",
       "      <th>46768</th>\n",
       "      <td>error sent error guys help error appearing wan...</td>\n",
       "      <td>5</td>\n",
       "    </tr>\n",
       "    <tr>\n",
       "      <th>46769</th>\n",
       "      <td>connection issues sent connection issues hello...</td>\n",
       "      <td>3</td>\n",
       "    </tr>\n",
       "    <tr>\n",
       "      <th>46770</th>\n",
       "      <td>error cube reports sent error hello guys recei...</td>\n",
       "      <td>2</td>\n",
       "    </tr>\n",
       "    <tr>\n",
       "      <th>46771</th>\n",
       "      <td>running extensions hello please advised runnin...</td>\n",
       "      <td>3</td>\n",
       "    </tr>\n",
       "  </tbody>\n",
       "</table>\n",
       "<p>46772 rows × 2 columns</p>\n",
       "</div>"
      ],
      "text/plain": [
       "                                         Inbound Message  Label\n",
       "0      connection icon icon dear please setup icon pe...      3\n",
       "1      work experience user work experience user work...      0\n",
       "2      requesting meeting requesting meeting please h...      3\n",
       "3      reset passwords external accounts expire days ...      0\n",
       "4      mail verification warning got attached please ...      5\n",
       "...                                                  ...    ...\n",
       "46767  git space project issues adding users sent git...      0\n",
       "46768  error sent error guys help error appearing wan...      5\n",
       "46769  connection issues sent connection issues hello...      3\n",
       "46770  error cube reports sent error hello guys recei...      2\n",
       "46771  running extensions hello please advised runnin...      3\n",
       "\n",
       "[46772 rows x 2 columns]"
      ]
     },
     "execution_count": 1,
     "metadata": {},
     "output_type": "execute_result"
    }
   ],
   "source": [
    "import pandas as pd\n",
    "data_path = \"../../data/46772_8_label.csv\"\n",
    "df = pd.read_csv(data_path)\n",
    "# df_label_0 = df[df[\"Labewl\"] == 0]\n",
    "# df_label_0_to_drop = df_label_0.sample(n=3000, random_state=42)\n",
    "# df = df.drop(df_label_0_to_drop.index)\n",
    "df"
   ]
  },
  {
   "cell_type": "code",
   "execution_count": 2,
   "id": "bf737873-4f1c-4588-913d-8f06b2777b20",
   "metadata": {},
   "outputs": [
    {
     "name": "stderr",
     "output_type": "stream",
     "text": [
      "c:\\Users\\user\\AppData\\Local\\Programs\\Python\\Python310\\lib\\site-packages\\tqdm\\auto.py:21: TqdmWarning: IProgress not found. Please update jupyter and ipywidgets. See https://ipywidgets.readthedocs.io/en/stable/user_install.html\n",
      "  from .autonotebook import tqdm as notebook_tqdm\n"
     ]
    }
   ],
   "source": [
    "import sys\n",
    "import os\n",
    "sys.path.append(os.path.abspath('../ml_lib'))\n",
    "\n",
    "from config import *\n",
    "from experiment import run_kfold_experiment"
   ]
  },
  {
   "cell_type": "code",
   "execution_count": 3,
   "id": "a12b2613-aa9d-41c0-8f62-72210eaf8d7f",
   "metadata": {},
   "outputs": [],
   "source": [
    "messages, labels = df['Inbound Message'].tolist(), df['Label'].tolist()"
   ]
  },
  {
   "cell_type": "code",
   "execution_count": 4,
   "id": "38d4729f-f867-4cea-89f9-31f67e5ecced",
   "metadata": {},
   "outputs": [
    {
     "name": "stdout",
     "output_type": "stream",
     "text": [
      "▶ Running: bert-base-uncased + plain + t5\n",
      "tokenizer is bert-base-uncased\n",
      "Using device: cuda\n",
      "CUDA Available: True\n",
      "CUDA Device: NVIDIA GeForce RTX 5070 Ti\n",
      "Current GPU Memory Allocated: 0.00 GB\n",
      "Current GPU Memory Cached: 0.00 GB\n",
      "\n",
      "[Fold 1]\n",
      "🚀 Using T5-paraphraser for data augmentation + under-sampling\n"
     ]
    },
    {
     "name": "stderr",
     "output_type": "stream",
     "text": [
      "You are using the default legacy behaviour of the <class 'transformers.models.t5.tokenization_t5.T5Tokenizer'>. This is expected, and simply means that the `legacy` (previous) behavior will be used so nothing changes for you. If you want to use the new behaviour, set `legacy=False`. This should only be set if you understand what it means, and thoroughly read the reason why this was added as explained in https://github.com/huggingface/transformers/pull/24565\n"
     ]
    },
    {
     "name": "stdout",
     "output_type": "stream",
     "text": [
      "Using device: cuda\n",
      "CUDA Available: True\n",
      "CUDA Device: NVIDIA GeForce RTX 5070 Ti\n",
      "Current GPU Memory Allocated: 0.00 GB\n",
      "Current GPU Memory Cached: 0.00 GB\n",
      "🔧 Augmenting label 1: 1399 → 5000 (+3601)\n",
      "🔧 Augmenting label 4: 1678 → 5000 (+3322)\n",
      "🔧 Augmenting label 6: 1737 → 5000 (+3263)\n",
      "🔧 Augmenting label 7: 2187 → 5000 (+2813)\n",
      "Label distribution after resampling:\n",
      "  label 0: 5626\n",
      "  label 1: 5000\n",
      "  label 2: 8442\n",
      "  label 3: 10770\n",
      "  label 4: 5000\n",
      "  label 5: 5578\n",
      "  label 6: 5000\n",
      "  label 7: 5000\n",
      "model is bert-base-uncased\n"
     ]
    },
    {
     "name": "stderr",
     "output_type": "stream",
     "text": [
      "Some weights of BertForSequenceClassification were not initialized from the model checkpoint at bert-base-uncased and are newly initialized: ['classifier.bias', 'classifier.weight']\n",
      "You should probably TRAIN this model on a down-stream task to be able to use it for predictions and inference.\n"
     ]
    },
    {
     "name": "stdout",
     "output_type": "stream",
     "text": [
      "Using weighted CrossEntropyLoss with weights: tensor([2.1929, 2.3109, 1.7871, 1.5435, 2.3109, 2.2015, 2.3109, 2.3109],\n",
      "       device='cuda:0')\n",
      "Epoch 1/20\n"
     ]
    },
    {
     "name": "stderr",
     "output_type": "stream",
     "text": [
      "100%|██████████| 3151/3151 [04:24<00:00, 11.91it/s]\n"
     ]
    },
    {
     "name": "stdout",
     "output_type": "stream",
     "text": [
      "{'val_loss': 0.4504751463476409, 'val_accuracy': 0.8528059861036879, 'precision': 0.8572306900093748, 'recall': 0.8528059861036879, 'f1-score': 0.8519038349052137, 'macro_f1-score': 0.8501922948833296, 'balanced_accuracy': 0.8483354803571053, 'mcc': 0.8190649870741558, 'train_loss': 0.5111982522662983}\n",
      "Epoch 2/20\n"
     ]
    },
    {
     "name": "stderr",
     "output_type": "stream",
     "text": [
      "100%|██████████| 3151/3151 [04:24<00:00, 11.92it/s]\n"
     ]
    },
    {
     "name": "stdout",
     "output_type": "stream",
     "text": [
      "{'val_loss': 0.3985984953693472, 'val_accuracy': 0.8692677712453234, 'precision': 0.870346244390638, 'recall': 0.8692677712453234, 'f1-score': 0.86918026837987, 'macro_f1-score': 0.867128298272525, 'balanced_accuracy': 0.8681878219748177, 'mcc': 0.8392614799890074, 'train_loss': 0.3025114445340317}\n",
      "Epoch 3/20\n"
     ]
    },
    {
     "name": "stderr",
     "output_type": "stream",
     "text": [
      "100%|██████████| 3151/3151 [04:24<00:00, 11.92it/s]\n"
     ]
    },
    {
     "name": "stdout",
     "output_type": "stream",
     "text": [
      "{'val_loss': 0.4039556468112601, 'val_accuracy': 0.8676643506146445, 'precision': 0.8703940777249746, 'recall': 0.8676643506146445, 'f1-score': 0.8681106311772134, 'macro_f1-score': 0.8667981140465923, 'balanced_accuracy': 0.8666231974233854, 'mcc': 0.8378222227575006, 'train_loss': 0.20826979776045176}\n",
      "Epoch 4/20\n"
     ]
    },
    {
     "name": "stderr",
     "output_type": "stream",
     "text": [
      "100%|██████████| 3151/3151 [04:24<00:00, 11.92it/s]\n"
     ]
    },
    {
     "name": "stdout",
     "output_type": "stream",
     "text": [
      "{'val_loss': 0.531532490040518, 'val_accuracy': 0.843399251737039, 'precision': 0.8557541696071332, 'recall': 0.843399251737039, 'f1-score': 0.8437939854595048, 'macro_f1-score': 0.8444793830874693, 'balanced_accuracy': 0.8471905014131881, 'mcc': 0.81173256765375, 'train_loss': 0.1428360137806201}\n",
      "Epoch 5/20\n"
     ]
    },
    {
     "name": "stderr",
     "output_type": "stream",
     "text": [
      "100%|██████████| 3151/3151 [04:24<00:00, 11.92it/s]\n"
     ]
    },
    {
     "name": "stdout",
     "output_type": "stream",
     "text": [
      "{'val_loss': 0.4808767717331648, 'val_accuracy': 0.861892036344201, 'precision': 0.8629237926120196, 'recall': 0.861892036344201, 'f1-score': 0.8618091749353516, 'macro_f1-score': 0.8618289733521263, 'balanced_accuracy': 0.859730504289391, 'mcc': 0.8305339888364802, 'train_loss': 0.10614548601084207}\n",
      "Early stopping.\n",
      "\n",
      "[Fold 2]\n",
      "🚀 Using T5-paraphraser for data augmentation + under-sampling\n",
      "Using device: cuda\n",
      "CUDA Available: True\n",
      "CUDA Device: NVIDIA GeForce RTX 5070 Ti\n",
      "Current GPU Memory Allocated: 1.78 GB\n",
      "Current GPU Memory Cached: 3.00 GB\n",
      "🔧 Augmenting label 1: 1400 → 5000 (+3600)\n",
      "🔧 Augmenting label 4: 1678 → 5000 (+3322)\n",
      "🔧 Augmenting label 6: 1737 → 5000 (+3263)\n",
      "🔧 Augmenting label 7: 2186 → 5000 (+2814)\n",
      "Label distribution after resampling:\n",
      "  label 0: 5626\n",
      "  label 1: 5000\n",
      "  label 2: 8442\n",
      "  label 3: 10770\n",
      "  label 4: 5000\n",
      "  label 5: 5578\n",
      "  label 6: 5000\n",
      "  label 7: 5000\n",
      "model is bert-base-uncased\n"
     ]
    },
    {
     "name": "stderr",
     "output_type": "stream",
     "text": [
      "Some weights of BertForSequenceClassification were not initialized from the model checkpoint at bert-base-uncased and are newly initialized: ['classifier.bias', 'classifier.weight']\n",
      "You should probably TRAIN this model on a down-stream task to be able to use it for predictions and inference.\n"
     ]
    },
    {
     "name": "stdout",
     "output_type": "stream",
     "text": [
      "Using weighted CrossEntropyLoss with weights: tensor([2.1929, 2.3109, 1.7871, 1.5435, 2.3109, 2.2015, 2.3109, 2.3109],\n",
      "       device='cuda:0')\n",
      "Epoch 1/20\n"
     ]
    },
    {
     "name": "stderr",
     "output_type": "stream",
     "text": [
      "100%|██████████| 3151/3151 [04:24<00:00, 11.93it/s]\n"
     ]
    },
    {
     "name": "stdout",
     "output_type": "stream",
     "text": [
      "{'val_loss': 0.435948920265859, 'val_accuracy': 0.8471405665419561, 'precision': 0.8485401371794431, 'recall': 0.8471405665419561, 'f1-score': 0.8467688306437032, 'macro_f1-score': 0.847874832354859, 'balanced_accuracy': 0.861231470234358, 'mcc': 0.8133166099369478, 'train_loss': 0.5337732772433599}\n",
      "Epoch 2/20\n"
     ]
    },
    {
     "name": "stderr",
     "output_type": "stream",
     "text": [
      "100%|██████████| 3151/3151 [04:24<00:00, 11.92it/s]\n"
     ]
    },
    {
     "name": "stdout",
     "output_type": "stream",
     "text": [
      "{'val_loss': 0.4160514786600685, 'val_accuracy': 0.8535542490646713, 'precision': 0.8546456575479632, 'recall': 0.8535542490646713, 'f1-score': 0.8533759966613338, 'macro_f1-score': 0.8539828359692074, 'balanced_accuracy': 0.8481625180197986, 'mcc': 0.8197137465699887, 'train_loss': 0.2975870196278092}\n",
      "Epoch 3/20\n"
     ]
    },
    {
     "name": "stderr",
     "output_type": "stream",
     "text": [
      "100%|██████████| 3151/3151 [04:24<00:00, 11.92it/s]\n"
     ]
    },
    {
     "name": "stdout",
     "output_type": "stream",
     "text": [
      "{'val_loss': 0.44278906161666043, 'val_accuracy': 0.8517370390165687, 'precision': 0.8541051253405989, 'recall': 0.8517370390165687, 'f1-score': 0.8513310733559685, 'macro_f1-score': 0.8509221730523864, 'balanced_accuracy': 0.8637628184574822, 'mcc': 0.8194586278605582, 'train_loss': 0.20498249838625235}\n",
      "Epoch 4/20\n"
     ]
    },
    {
     "name": "stderr",
     "output_type": "stream",
     "text": [
      "100%|██████████| 3151/3151 [04:24<00:00, 11.92it/s]\n"
     ]
    },
    {
     "name": "stdout",
     "output_type": "stream",
     "text": [
      "{'val_loss': 0.49057647792670206, 'val_accuracy': 0.8580438268305719, 'precision': 0.8597407760517417, 'recall': 0.8580438268305719, 'f1-score': 0.8580408863210776, 'macro_f1-score': 0.8592786819805898, 'balanced_accuracy': 0.8523613039416442, 'mcc': 0.8253157474541774, 'train_loss': 0.13838848132090079}\n",
      "Epoch 5/20\n"
     ]
    },
    {
     "name": "stderr",
     "output_type": "stream",
     "text": [
      "100%|██████████| 3151/3151 [04:24<00:00, 11.92it/s]\n"
     ]
    },
    {
     "name": "stdout",
     "output_type": "stream",
     "text": [
      "{'val_loss': 0.5416377747912979, 'val_accuracy': 0.8506680919294495, 'precision': 0.8521729473896039, 'recall': 0.8506680919294495, 'f1-score': 0.8500152476610381, 'macro_f1-score': 0.8548028158432369, 'balanced_accuracy': 0.8479239519191013, 'mcc': 0.8165820795666459, 'train_loss': 0.09996785092526962}\n",
      "Epoch 6/20\n"
     ]
    },
    {
     "name": "stderr",
     "output_type": "stream",
     "text": [
      "100%|██████████| 3151/3151 [04:24<00:00, 11.91it/s]\n"
     ]
    },
    {
     "name": "stdout",
     "output_type": "stream",
     "text": [
      "{'val_loss': 0.633243762432104, 'val_accuracy': 0.8519508284339925, 'precision': 0.8524278540095648, 'recall': 0.8519508284339925, 'f1-score': 0.851699237528396, 'macro_f1-score': 0.8554259459309211, 'balanced_accuracy': 0.8519042697320529, 'mcc': 0.8180535976512707, 'train_loss': 0.07943666316911337}\n",
      "Epoch 7/20\n"
     ]
    },
    {
     "name": "stderr",
     "output_type": "stream",
     "text": [
      "100%|██████████| 3151/3151 [04:24<00:00, 11.91it/s]\n"
     ]
    },
    {
     "name": "stdout",
     "output_type": "stream",
     "text": [
      "{'val_loss': 0.690137421946901, 'val_accuracy': 0.8525921966862641, 'precision': 0.8541175930586599, 'recall': 0.8525921966862641, 'f1-score': 0.8523983608078993, 'macro_f1-score': 0.8530012811921015, 'balanced_accuracy': 0.8515057749461028, 'mcc': 0.8184527060042963, 'train_loss': 0.06401083293943262}\n",
      "Early stopping.\n",
      "\n",
      "[Fold 3]\n",
      "🚀 Using T5-paraphraser for data augmentation + under-sampling\n",
      "Using device: cuda\n",
      "CUDA Available: True\n",
      "CUDA Device: NVIDIA GeForce RTX 5070 Ti\n",
      "Current GPU Memory Allocated: 1.78 GB\n",
      "Current GPU Memory Cached: 3.10 GB\n",
      "🔧 Augmenting label 1: 1399 → 5000 (+3601)\n",
      "🔧 Augmenting label 4: 1679 → 5000 (+3321)\n",
      "🔧 Augmenting label 6: 1738 → 5000 (+3262)\n",
      "🔧 Augmenting label 7: 2186 → 5000 (+2814)\n",
      "Label distribution after resampling:\n",
      "  label 0: 5626\n",
      "  label 1: 5000\n",
      "  label 2: 8442\n",
      "  label 3: 10770\n",
      "  label 4: 5000\n",
      "  label 5: 5578\n",
      "  label 6: 5000\n",
      "  label 7: 5000\n",
      "model is bert-base-uncased\n"
     ]
    },
    {
     "name": "stderr",
     "output_type": "stream",
     "text": [
      "Some weights of BertForSequenceClassification were not initialized from the model checkpoint at bert-base-uncased and are newly initialized: ['classifier.bias', 'classifier.weight']\n",
      "You should probably TRAIN this model on a down-stream task to be able to use it for predictions and inference.\n"
     ]
    },
    {
     "name": "stdout",
     "output_type": "stream",
     "text": [
      "Using weighted CrossEntropyLoss with weights: tensor([2.1929, 2.3109, 1.7871, 1.5435, 2.3109, 2.2015, 2.3109, 2.3109],\n",
      "       device='cuda:0')\n",
      "Epoch 1/20\n"
     ]
    },
    {
     "name": "stderr",
     "output_type": "stream",
     "text": [
      "100%|██████████| 3151/3151 [04:25<00:00, 11.86it/s]\n"
     ]
    },
    {
     "name": "stdout",
     "output_type": "stream",
     "text": [
      "{'val_loss': 0.4149346608636726, 'val_accuracy': 0.8574941201624974, 'precision': 0.8594637592878163, 'recall': 0.8574941201624974, 'f1-score': 0.8574347795292997, 'macro_f1-score': 0.8543996605097917, 'balanced_accuracy': 0.8506468009174856, 'mcc': 0.8248505627877483, 'train_loss': 0.5091807583624202}\n",
      "Epoch 2/20\n"
     ]
    },
    {
     "name": "stderr",
     "output_type": "stream",
     "text": [
      "100%|██████████| 3151/3151 [04:27<00:00, 11.77it/s]\n"
     ]
    },
    {
     "name": "stdout",
     "output_type": "stream",
     "text": [
      "{'val_loss': 0.41421897545393205, 'val_accuracy': 0.8676502031216592, 'precision': 0.8684403265729509, 'recall': 0.8676502031216592, 'f1-score': 0.8675274524093015, 'macro_f1-score': 0.8655396993121726, 'balanced_accuracy': 0.8648999316143182, 'mcc': 0.8371224356616219, 'train_loss': 0.2966124928820617}\n",
      "Epoch 3/20\n"
     ]
    },
    {
     "name": "stderr",
     "output_type": "stream",
     "text": [
      "100%|██████████| 3151/3151 [04:25<00:00, 11.88it/s]\n"
     ]
    },
    {
     "name": "stdout",
     "output_type": "stream",
     "text": [
      "{'val_loss': 0.46799243349645636, 'val_accuracy': 0.8516142826598246, 'precision': 0.8592080963760458, 'recall': 0.8516142826598246, 'f1-score': 0.8521988141134207, 'macro_f1-score': 0.8467541779611137, 'balanced_accuracy': 0.86715007557057, 'mcc': 0.8189958235371229, 'train_loss': 0.2036489288343908}\n",
      "Epoch 4/20\n"
     ]
    },
    {
     "name": "stderr",
     "output_type": "stream",
     "text": [
      "100%|██████████| 3151/3151 [04:24<00:00, 11.93it/s]\n"
     ]
    },
    {
     "name": "stdout",
     "output_type": "stream",
     "text": [
      "{'val_loss': 0.505624491461099, 'val_accuracy': 0.8567457772076117, 'precision': 0.859461474073383, 'recall': 0.8567457772076117, 'f1-score': 0.8564731619690312, 'macro_f1-score': 0.8561690674697926, 'balanced_accuracy': 0.8525328479363086, 'mcc': 0.8245237201246298, 'train_loss': 0.1389042304149926}\n",
      "Epoch 5/20\n"
     ]
    },
    {
     "name": "stderr",
     "output_type": "stream",
     "text": [
      "100%|██████████| 3151/3151 [04:24<00:00, 11.93it/s]\n"
     ]
    },
    {
     "name": "stdout",
     "output_type": "stream",
     "text": [
      "{'val_loss': 0.5566867869024953, 'val_accuracy': 0.8642292067564679, 'precision': 0.866552958871378, 'recall': 0.8642292067564679, 'f1-score': 0.8637257893598296, 'macro_f1-score': 0.8565934493983496, 'balanced_accuracy': 0.8307203090975199, 'mcc': 0.8319939023832713, 'train_loss': 0.10226278649213756}\n",
      "Early stopping.\n",
      "\n",
      "[Fold 4]\n",
      "🚀 Using T5-paraphraser for data augmentation + under-sampling\n",
      "Using device: cuda\n",
      "CUDA Available: True\n",
      "CUDA Device: NVIDIA GeForce RTX 5070 Ti\n",
      "Current GPU Memory Allocated: 1.79 GB\n",
      "Current GPU Memory Cached: 3.10 GB\n",
      "🔧 Augmenting label 1: 1399 → 5000 (+3601)\n",
      "🔧 Augmenting label 4: 1679 → 5000 (+3321)\n",
      "🔧 Augmenting label 6: 1738 → 5000 (+3262)\n",
      "🔧 Augmenting label 7: 2186 → 5000 (+2814)\n",
      "Label distribution after resampling:\n",
      "  label 0: 5625\n",
      "  label 1: 5000\n",
      "  label 2: 8441\n",
      "  label 3: 10771\n",
      "  label 4: 5000\n",
      "  label 5: 5579\n",
      "  label 6: 5000\n",
      "  label 7: 5000\n",
      "model is bert-base-uncased\n"
     ]
    },
    {
     "name": "stderr",
     "output_type": "stream",
     "text": [
      "Some weights of BertForSequenceClassification were not initialized from the model checkpoint at bert-base-uncased and are newly initialized: ['classifier.bias', 'classifier.weight']\n",
      "You should probably TRAIN this model on a down-stream task to be able to use it for predictions and inference.\n"
     ]
    },
    {
     "name": "stdout",
     "output_type": "stream",
     "text": [
      "Using weighted CrossEntropyLoss with weights: tensor([2.1931, 2.3109, 1.7872, 1.5435, 2.3109, 2.2013, 2.3109, 2.3109],\n",
      "       device='cuda:0')\n",
      "Epoch 1/20\n"
     ]
    },
    {
     "name": "stderr",
     "output_type": "stream",
     "text": [
      "100%|██████████| 3151/3151 [04:23<00:00, 11.94it/s]\n"
     ]
    },
    {
     "name": "stdout",
     "output_type": "stream",
     "text": [
      "{'val_loss': 0.4387285157433178, 'val_accuracy': 0.84851400470387, 'precision': 0.8528474918810464, 'recall': 0.84851400470387, 'f1-score': 0.8479031115261974, 'macro_f1-score': 0.8538502770288148, 'balanced_accuracy': 0.8474895110038464, 'mcc': 0.8137741308784069, 'train_loss': 0.5312068155735864}\n",
      "Epoch 2/20\n"
     ]
    },
    {
     "name": "stderr",
     "output_type": "stream",
     "text": [
      "100%|██████████| 3151/3151 [04:24<00:00, 11.93it/s]\n"
     ]
    },
    {
     "name": "stdout",
     "output_type": "stream",
     "text": [
      "{'val_loss': 0.4054400677354927, 'val_accuracy': 0.8604874919820398, 'precision': 0.8613382847321399, 'recall': 0.8604874919820398, 'f1-score': 0.8602872608244543, 'macro_f1-score': 0.8614422247496824, 'balanced_accuracy': 0.8584695447028068, 'mcc': 0.8287186684882694, 'train_loss': 0.30513434068919626}\n",
      "Epoch 3/20\n"
     ]
    },
    {
     "name": "stderr",
     "output_type": "stream",
     "text": [
      "100%|██████████| 3151/3151 [04:24<00:00, 11.93it/s]\n"
     ]
    },
    {
     "name": "stdout",
     "output_type": "stream",
     "text": [
      "{'val_loss': 0.45438079131114434, 'val_accuracy': 0.8583493692537951, 'precision': 0.8601932899264362, 'recall': 0.8583493692537951, 'f1-score': 0.8586592714846428, 'macro_f1-score': 0.8602710669010039, 'balanced_accuracy': 0.8664900678846337, 'mcc': 0.8262998339257017, 'train_loss': 0.2124564427154163}\n",
      "Epoch 4/20\n"
     ]
    },
    {
     "name": "stderr",
     "output_type": "stream",
     "text": [
      "100%|██████████| 3151/3151 [04:24<00:00, 11.93it/s]\n"
     ]
    },
    {
     "name": "stdout",
     "output_type": "stream",
     "text": [
      "{'val_loss': 0.4976225411503488, 'val_accuracy': 0.861984177891811, 'precision': 0.8624552704453732, 'recall': 0.861984177891811, 'f1-score': 0.8617838894833568, 'macro_f1-score': 0.8623435168035846, 'balanced_accuracy': 0.8570514205182814, 'mcc': 0.8300818099704462, 'train_loss': 0.14932184476576513}\n",
      "Epoch 5/20\n"
     ]
    },
    {
     "name": "stderr",
     "output_type": "stream",
     "text": [
      "100%|██████████| 3151/3151 [04:24<00:00, 11.93it/s]\n"
     ]
    },
    {
     "name": "stdout",
     "output_type": "stream",
     "text": [
      "{'val_loss': 0.567213790005662, 'val_accuracy': 0.858776993799444, 'precision': 0.8591782977013633, 'recall': 0.858776993799444, 'f1-score': 0.858597342375811, 'macro_f1-score': 0.8550900904734356, 'balanced_accuracy': 0.8599648517216649, 'mcc': 0.8268169446574808, 'train_loss': 0.10811755242326715}\n",
      "Epoch 6/20\n"
     ]
    },
    {
     "name": "stderr",
     "output_type": "stream",
     "text": [
      "100%|██████████| 3151/3151 [04:24<00:00, 11.93it/s]\n"
     ]
    },
    {
     "name": "stdout",
     "output_type": "stream",
     "text": [
      "{'val_loss': 0.6374466648824816, 'val_accuracy': 0.849903784477229, 'precision': 0.8512395845381969, 'recall': 0.849903784477229, 'f1-score': 0.849836539933009, 'macro_f1-score': 0.846619314149027, 'balanced_accuracy': 0.8565477871496607, 'mcc': 0.8163786406229638, 'train_loss': 0.08400009624911318}\n",
      "Epoch 7/20\n"
     ]
    },
    {
     "name": "stderr",
     "output_type": "stream",
     "text": [
      "100%|██████████| 3151/3151 [04:24<00:00, 11.93it/s]\n"
     ]
    },
    {
     "name": "stdout",
     "output_type": "stream",
     "text": [
      "{'val_loss': 0.6322954242911715, 'val_accuracy': 0.8569595894804362, 'precision': 0.8579153937744762, 'recall': 0.8569595894804362, 'f1-score': 0.8569371921461758, 'macro_f1-score': 0.8533328449151051, 'balanced_accuracy': 0.8528894502341545, 'mcc': 0.8239451727983071, 'train_loss': 0.06759447888216631}\n",
      "Early stopping.\n",
      "\n",
      "[Fold 5]\n",
      "🚀 Using T5-paraphraser for data augmentation + under-sampling\n",
      "Using device: cuda\n",
      "CUDA Available: True\n",
      "CUDA Device: NVIDIA GeForce RTX 5070 Ti\n",
      "Current GPU Memory Allocated: 1.78 GB\n",
      "Current GPU Memory Cached: 3.10 GB\n",
      "🔧 Augmenting label 1: 1399 → 5000 (+3601)\n",
      "🔧 Augmenting label 4: 1678 → 5000 (+3322)\n",
      "🔧 Augmenting label 6: 1738 → 5000 (+3262)\n",
      "🔧 Augmenting label 7: 2187 → 5000 (+2813)\n",
      "Label distribution after resampling:\n",
      "  label 0: 5625\n",
      "  label 1: 5000\n",
      "  label 2: 8441\n",
      "  label 3: 10771\n",
      "  label 4: 5000\n",
      "  label 5: 5579\n",
      "  label 6: 5000\n",
      "  label 7: 5000\n",
      "model is bert-base-uncased\n"
     ]
    },
    {
     "name": "stderr",
     "output_type": "stream",
     "text": [
      "Some weights of BertForSequenceClassification were not initialized from the model checkpoint at bert-base-uncased and are newly initialized: ['classifier.bias', 'classifier.weight']\n",
      "You should probably TRAIN this model on a down-stream task to be able to use it for predictions and inference.\n"
     ]
    },
    {
     "name": "stdout",
     "output_type": "stream",
     "text": [
      "Using weighted CrossEntropyLoss with weights: tensor([2.1931, 2.3109, 1.7872, 1.5435, 2.3109, 2.2013, 2.3109, 2.3109],\n",
      "       device='cuda:0')\n",
      "Epoch 1/20\n"
     ]
    },
    {
     "name": "stderr",
     "output_type": "stream",
     "text": [
      "100%|██████████| 3151/3151 [04:24<00:00, 11.92it/s]\n"
     ]
    },
    {
     "name": "stdout",
     "output_type": "stream",
     "text": [
      "{'val_loss': 0.47115883365209793, 'val_accuracy': 0.8431686978832585, 'precision': 0.8490643720260154, 'recall': 0.8431686978832585, 'f1-score': 0.8412904803028092, 'macro_f1-score': 0.8461489540591935, 'balanced_accuracy': 0.8482606886582054, 'mcc': 0.8076500248105066, 'train_loss': 0.5048689519840501}\n",
      "Epoch 2/20\n"
     ]
    },
    {
     "name": "stderr",
     "output_type": "stream",
     "text": [
      "100%|██████████| 3151/3151 [04:24<00:00, 11.93it/s]\n"
     ]
    },
    {
     "name": "stdout",
     "output_type": "stream",
     "text": [
      "{'val_loss': 0.4403679346944341, 'val_accuracy': 0.8514004703870002, 'precision': 0.8544585553490704, 'recall': 0.8514004703870002, 'f1-score': 0.850768417087428, 'macro_f1-score': 0.8552472709562773, 'balanced_accuracy': 0.8564919702012741, 'mcc': 0.818056574720822, 'train_loss': 0.2926620497223154}\n",
      "Epoch 3/20\n"
     ]
    },
    {
     "name": "stderr",
     "output_type": "stream",
     "text": [
      "100%|██████████| 3151/3151 [04:24<00:00, 11.90it/s]\n"
     ]
    },
    {
     "name": "stdout",
     "output_type": "stream",
     "text": [
      "{'val_loss': 0.4542642238637448, 'val_accuracy': 0.8613427410733376, 'precision': 0.8648628731529475, 'recall': 0.8613427410733376, 'f1-score': 0.8619339257728533, 'macro_f1-score': 0.8634667035278416, 'balanced_accuracy': 0.8644865663229522, 'mcc': 0.8295437480335552, 'train_loss': 0.1980187500194064}\n",
      "Epoch 4/20\n"
     ]
    },
    {
     "name": "stderr",
     "output_type": "stream",
     "text": [
      "100%|██████████| 3151/3151 [04:24<00:00, 11.92it/s]\n"
     ]
    },
    {
     "name": "stdout",
     "output_type": "stream",
     "text": [
      "{'val_loss': 0.4838077997339046, 'val_accuracy': 0.8607013042548642, 'precision': 0.8631039494268136, 'recall': 0.8607013042548642, 'f1-score': 0.8605542756859066, 'macro_f1-score': 0.864759729404854, 'balanced_accuracy': 0.8654554087793738, 'mcc': 0.8297847088175027, 'train_loss': 0.13473116299534268}\n",
      "Epoch 5/20\n"
     ]
    },
    {
     "name": "stderr",
     "output_type": "stream",
     "text": [
      "100%|██████████| 3151/3151 [04:24<00:00, 11.92it/s]\n"
     ]
    },
    {
     "name": "stdout",
     "output_type": "stream",
     "text": [
      "{'val_loss': 0.5556465098143826, 'val_accuracy': 0.8569595894804362, 'precision': 0.8586576206725851, 'recall': 0.8569595894804362, 'f1-score': 0.8566380425941229, 'macro_f1-score': 0.8539844203570511, 'balanced_accuracy': 0.8670955486186607, 'mcc': 0.8253147289331862, 'train_loss': 0.09779487005018554}\n",
      "Epoch 6/20\n"
     ]
    },
    {
     "name": "stderr",
     "output_type": "stream",
     "text": [
      "100%|██████████| 3151/3151 [04:24<00:00, 11.91it/s]\n"
     ]
    },
    {
     "name": "stdout",
     "output_type": "stream",
     "text": [
      "{'val_loss': 0.6035773037883063, 'val_accuracy': 0.8574941201624974, 'precision': 0.8584971793867153, 'recall': 0.8574941201624974, 'f1-score': 0.8570211039095579, 'macro_f1-score': 0.8533497082411583, 'balanced_accuracy': 0.8454290824234139, 'mcc': 0.8245339826890808, 'train_loss': 0.07689035605996557}\n",
      "Epoch 7/20\n"
     ]
    },
    {
     "name": "stderr",
     "output_type": "stream",
     "text": [
      "100%|██████████| 3151/3151 [04:24<00:00, 11.91it/s]\n"
     ]
    },
    {
     "name": "stdout",
     "output_type": "stream",
     "text": [
      "{'val_loss': 0.6262936994793594, 'val_accuracy': 0.8553559974342527, 'precision': 0.8563805685301212, 'recall': 0.8553559974342527, 'f1-score': 0.8553315980356841, 'macro_f1-score': 0.8558683933822255, 'balanced_accuracy': 0.8542732270387638, 'mcc': 0.8223900628129767, 'train_loss': 0.06375559806556688}\n",
      "Early stopping.\n",
      "\n",
      " === bert-base-uncased + plain + t5 Final 5-fold Cross-Validation Results ===\n",
      "val_loss: 0.4570\n",
      "val_accuracy: 0.8635\n",
      "precision: 0.8648\n",
      "recall: 0.8635\n",
      "f1-score: 0.8634\n",
      "macro_f1-score: 0.8638\n",
      "balanced_accuracy: 0.8616\n",
      "mcc: 0.8323\n",
      "train_loss: 0.2043\n",
      "total_seconds: 23095.0000\n",
      "total_time: 6 hrs 24 mins 55 secs\n",
      "▶ Running: bert-base-uncased + cnn + t5\n",
      "tokenizer is bert-base-uncased\n",
      "Using device: cuda\n",
      "CUDA Available: True\n",
      "CUDA Device: NVIDIA GeForce RTX 5070 Ti\n",
      "Current GPU Memory Allocated: 0.02 GB\n",
      "Current GPU Memory Cached: 3.10 GB\n",
      "\n",
      "[Fold 1]\n",
      "🚀 Using T5-paraphraser for data augmentation + under-sampling\n",
      "Using device: cuda\n",
      "CUDA Available: True\n",
      "CUDA Device: NVIDIA GeForce RTX 5070 Ti\n",
      "Current GPU Memory Allocated: 0.02 GB\n",
      "Current GPU Memory Cached: 3.10 GB\n",
      "🔧 Augmenting label 1: 1399 → 5000 (+3601)\n",
      "🔧 Augmenting label 4: 1678 → 5000 (+3322)\n",
      "🔧 Augmenting label 6: 1737 → 5000 (+3263)\n",
      "🔧 Augmenting label 7: 2187 → 5000 (+2813)\n",
      "Label distribution after resampling:\n",
      "  label 0: 5626\n",
      "  label 1: 5000\n",
      "  label 2: 8442\n",
      "  label 3: 10770\n",
      "  label 4: 5000\n",
      "  label 5: 5578\n",
      "  label 6: 5000\n",
      "  label 7: 5000\n",
      "model is bert-base-uncased cnn\n",
      "Using weighted CrossEntropyLoss with weights: tensor([2.1929, 2.3109, 1.7871, 1.5435, 2.3109, 2.2015, 2.3109, 2.3109],\n",
      "       device='cuda:0')\n",
      "Epoch 1/20\n"
     ]
    },
    {
     "name": "stderr",
     "output_type": "stream",
     "text": [
      "100%|██████████| 3151/3151 [04:29<00:00, 11.68it/s]\n"
     ]
    },
    {
     "name": "stdout",
     "output_type": "stream",
     "text": [
      "{'val_loss': 0.42953014029906345, 'val_accuracy': 0.8520577231427044, 'precision': 0.8548353875247491, 'recall': 0.8520577231427044, 'f1-score': 0.8520251959729801, 'macro_f1-score': 0.8485438144691059, 'balanced_accuracy': 0.838823776870239, 'mcc': 0.8185588961290013, 'train_loss': 0.5380382473343792}\n",
      "Epoch 2/20\n"
     ]
    },
    {
     "name": "stderr",
     "output_type": "stream",
     "text": [
      "100%|██████████| 3151/3151 [04:29<00:00, 11.68it/s]\n"
     ]
    },
    {
     "name": "stdout",
     "output_type": "stream",
     "text": [
      "{'val_loss': 0.40480899094707434, 'val_accuracy': 0.8633885622661678, 'precision': 0.8643521687924033, 'recall': 0.8633885622661678, 'f1-score': 0.8633632321189814, 'macro_f1-score': 0.8582270930692221, 'balanced_accuracy': 0.8532052061283114, 'mcc': 0.8318641660537763, 'train_loss': 0.32046171310258736}\n",
      "Epoch 3/20\n"
     ]
    },
    {
     "name": "stderr",
     "output_type": "stream",
     "text": [
      "100%|██████████| 3151/3151 [04:29<00:00, 11.69it/s]\n"
     ]
    },
    {
     "name": "stdout",
     "output_type": "stream",
     "text": [
      "{'val_loss': 0.43229542991671804, 'val_accuracy': 0.8596472474612507, 'precision': 0.8633691197042183, 'recall': 0.8596472474612507, 'f1-score': 0.8604720316903169, 'macro_f1-score': 0.8558516596711081, 'balanced_accuracy': 0.8685533565313999, 'mcc': 0.8281019775032502, 'train_loss': 0.23005511431701503}\n",
      "Epoch 4/20\n"
     ]
    },
    {
     "name": "stderr",
     "output_type": "stream",
     "text": [
      "100%|██████████| 3151/3151 [04:29<00:00, 11.68it/s]\n"
     ]
    },
    {
     "name": "stdout",
     "output_type": "stream",
     "text": [
      "{'val_loss': 0.4571637739276147, 'val_accuracy': 0.8667022982362373, 'precision': 0.8681693525657919, 'recall': 0.8667022982362373, 'f1-score': 0.8670423888803408, 'macro_f1-score': 0.8643794185116276, 'balanced_accuracy': 0.871145658410358, 'mcc': 0.8364730353877241, 'train_loss': 0.16338782140815034}\n",
      "Epoch 5/20\n"
     ]
    },
    {
     "name": "stderr",
     "output_type": "stream",
     "text": [
      "100%|██████████| 3151/3151 [04:29<00:00, 11.69it/s]\n"
     ]
    },
    {
     "name": "stdout",
     "output_type": "stream",
     "text": [
      "{'val_loss': 0.47391890480509424, 'val_accuracy': 0.8611437733832176, 'precision': 0.8629852828345793, 'recall': 0.8611437733832176, 'f1-score': 0.8607594530182768, 'macro_f1-score': 0.8555173399050334, 'balanced_accuracy': 0.8512489311993727, 'mcc': 0.8296829287539075, 'train_loss': 0.124763042830795}\n",
      "Epoch 6/20\n"
     ]
    },
    {
     "name": "stderr",
     "output_type": "stream",
     "text": [
      "100%|██████████| 3151/3151 [04:29<00:00, 11.68it/s]\n"
     ]
    },
    {
     "name": "stdout",
     "output_type": "stream",
     "text": [
      "{'val_loss': 0.5471624227113321, 'val_accuracy': 0.8661678246926777, 'precision': 0.8669757341649971, 'recall': 0.8661678246926777, 'f1-score': 0.8664174243556222, 'macro_f1-score': 0.8654340713075139, 'balanced_accuracy': 0.8623644568203004, 'mcc': 0.8351303948252481, 'train_loss': 0.08955990879408923}\n",
      "Epoch 7/20\n"
     ]
    },
    {
     "name": "stderr",
     "output_type": "stream",
     "text": [
      "100%|██████████| 3151/3151 [04:29<00:00, 11.69it/s]\n"
     ]
    },
    {
     "name": "stdout",
     "output_type": "stream",
     "text": [
      "{'val_loss': 0.717256492869824, 'val_accuracy': 0.8602886157135222, 'precision': 0.8611760206296993, 'recall': 0.8602886157135222, 'f1-score': 0.8601036539309294, 'macro_f1-score': 0.8555092962158236, 'balanced_accuracy': 0.8475191403485665, 'mcc': 0.8278028344860544, 'train_loss': 0.0745214308694234}\n",
      "Epoch 8/20\n"
     ]
    },
    {
     "name": "stderr",
     "output_type": "stream",
     "text": [
      "100%|██████████| 3151/3151 [04:29<00:00, 11.69it/s]\n"
     ]
    },
    {
     "name": "stdout",
     "output_type": "stream",
     "text": [
      "{'val_loss': 0.6613301154333525, 'val_accuracy': 0.860609299839658, 'precision': 0.8616292106379503, 'recall': 0.860609299839658, 'f1-score': 0.8606022115083735, 'macro_f1-score': 0.8579452449228135, 'balanced_accuracy': 0.8593867310277059, 'mcc': 0.8284743409654934, 'train_loss': 0.06856530040145987}\n",
      "Epoch 9/20\n"
     ]
    },
    {
     "name": "stderr",
     "output_type": "stream",
     "text": [
      "100%|██████████| 3151/3151 [04:29<00:00, 11.69it/s]\n"
     ]
    },
    {
     "name": "stdout",
     "output_type": "stream",
     "text": [
      "{'val_loss': 0.848653251473378, 'val_accuracy': 0.8546231961517905, 'precision': 0.8578782527947221, 'recall': 0.8546231961517905, 'f1-score': 0.8549113938364237, 'macro_f1-score': 0.8537293957555749, 'balanced_accuracy': 0.8390734188877444, 'mcc': 0.8205192148175597, 'train_loss': 0.056848798958399456}\n",
      "Early stopping.\n",
      "\n",
      "[Fold 2]\n",
      "🚀 Using T5-paraphraser for data augmentation + under-sampling\n",
      "Using device: cuda\n",
      "CUDA Available: True\n",
      "CUDA Device: NVIDIA GeForce RTX 5070 Ti\n",
      "Current GPU Memory Allocated: 1.80 GB\n",
      "Current GPU Memory Cached: 3.10 GB\n",
      "🔧 Augmenting label 1: 1400 → 5000 (+3600)\n",
      "🔧 Augmenting label 4: 1678 → 5000 (+3322)\n",
      "🔧 Augmenting label 6: 1737 → 5000 (+3263)\n",
      "🔧 Augmenting label 7: 2186 → 5000 (+2814)\n",
      "Label distribution after resampling:\n",
      "  label 0: 5626\n",
      "  label 1: 5000\n",
      "  label 2: 8442\n",
      "  label 3: 10770\n",
      "  label 4: 5000\n",
      "  label 5: 5578\n",
      "  label 6: 5000\n",
      "  label 7: 5000\n",
      "model is bert-base-uncased cnn\n",
      "Using weighted CrossEntropyLoss with weights: tensor([2.1929, 2.3109, 1.7871, 1.5435, 2.3109, 2.2015, 2.3109, 2.3109],\n",
      "       device='cuda:0')\n",
      "Epoch 1/20\n"
     ]
    },
    {
     "name": "stderr",
     "output_type": "stream",
     "text": [
      "100%|██████████| 3151/3151 [04:29<00:00, 11.69it/s]\n"
     ]
    },
    {
     "name": "stdout",
     "output_type": "stream",
     "text": [
      "{'val_loss': 0.45694600235129523, 'val_accuracy': 0.8377338321753073, 'precision': 0.8435118845090008, 'recall': 0.8377338321753073, 'f1-score': 0.8376871469631625, 'macro_f1-score': 0.8423537134896633, 'balanced_accuracy': 0.8525806800771287, 'mcc': 0.8019046650294427, 'train_loss': 0.5289546757160918}\n",
      "Epoch 2/20\n"
     ]
    },
    {
     "name": "stderr",
     "output_type": "stream",
     "text": [
      "100%|██████████| 3151/3151 [04:29<00:00, 11.68it/s]\n"
     ]
    },
    {
     "name": "stdout",
     "output_type": "stream",
     "text": [
      "{'val_loss': 0.41271229061242354, 'val_accuracy': 0.8594334580438269, 'precision': 0.8614808497462465, 'recall': 0.8594334580438269, 'f1-score': 0.8595674631642034, 'macro_f1-score': 0.8554057740414633, 'balanced_accuracy': 0.8475047495044875, 'mcc': 0.8267314790383712, 'train_loss': 0.31394040169488724}\n",
      "Epoch 3/20\n"
     ]
    },
    {
     "name": "stderr",
     "output_type": "stream",
     "text": [
      "100%|██████████| 3151/3151 [04:29<00:00, 11.68it/s]\n"
     ]
    },
    {
     "name": "stdout",
     "output_type": "stream",
     "text": [
      "{'val_loss': 0.4345786902663481, 'val_accuracy': 0.8538749331908071, 'precision': 0.8559303890538539, 'recall': 0.8538749331908071, 'f1-score': 0.8534673578883996, 'macro_f1-score': 0.8553698949161365, 'balanced_accuracy': 0.86887606167916, 'mcc': 0.8221027470344362, 'train_loss': 0.2228842079661602}\n",
      "Epoch 4/20\n"
     ]
    },
    {
     "name": "stderr",
     "output_type": "stream",
     "text": [
      "100%|██████████| 3151/3151 [04:29<00:00, 11.68it/s]\n"
     ]
    },
    {
     "name": "stdout",
     "output_type": "stream",
     "text": [
      "{'val_loss': 0.48755940977308865, 'val_accuracy': 0.8531266702298236, 'precision': 0.8542143950854959, 'recall': 0.8531266702298236, 'f1-score': 0.8529147917608362, 'macro_f1-score': 0.8549924589651252, 'balanced_accuracy': 0.8450586337648618, 'mcc': 0.819315274660531, 'train_loss': 0.1546708139086539}\n",
      "Epoch 5/20\n"
     ]
    },
    {
     "name": "stderr",
     "output_type": "stream",
     "text": [
      "100%|██████████| 3151/3151 [04:29<00:00, 11.68it/s]\n"
     ]
    },
    {
     "name": "stdout",
     "output_type": "stream",
     "text": [
      "{'val_loss': 0.6194004613906146, 'val_accuracy': 0.8505611972207375, 'precision': 0.8520751765424533, 'recall': 0.8505611972207375, 'f1-score': 0.8503940402201863, 'macro_f1-score': 0.8478191217639272, 'balanced_accuracy': 0.8542110554788351, 'mcc': 0.8172324746821048, 'train_loss': 0.1120447380821744}\n",
      "Early stopping.\n",
      "\n",
      "[Fold 3]\n",
      "🚀 Using T5-paraphraser for data augmentation + under-sampling\n",
      "Using device: cuda\n",
      "CUDA Available: True\n",
      "CUDA Device: NVIDIA GeForce RTX 5070 Ti\n",
      "Current GPU Memory Allocated: 1.79 GB\n",
      "Current GPU Memory Cached: 3.11 GB\n",
      "🔧 Augmenting label 1: 1399 → 5000 (+3601)\n",
      "🔧 Augmenting label 4: 1679 → 5000 (+3321)\n",
      "🔧 Augmenting label 6: 1738 → 5000 (+3262)\n",
      "🔧 Augmenting label 7: 2186 → 5000 (+2814)\n",
      "Label distribution after resampling:\n",
      "  label 0: 5626\n",
      "  label 1: 5000\n",
      "  label 2: 8442\n",
      "  label 3: 10770\n",
      "  label 4: 5000\n",
      "  label 5: 5578\n",
      "  label 6: 5000\n",
      "  label 7: 5000\n",
      "model is bert-base-uncased cnn\n",
      "Using weighted CrossEntropyLoss with weights: tensor([2.1929, 2.3109, 1.7871, 1.5435, 2.3109, 2.2015, 2.3109, 2.3109],\n",
      "       device='cuda:0')\n",
      "Epoch 1/20\n"
     ]
    },
    {
     "name": "stderr",
     "output_type": "stream",
     "text": [
      "100%|██████████| 3151/3151 [04:29<00:00, 11.68it/s]\n"
     ]
    },
    {
     "name": "stdout",
     "output_type": "stream",
     "text": [
      "{'val_loss': 0.44076967319298505, 'val_accuracy': 0.8450930083386786, 'precision': 0.8497464338074738, 'recall': 0.8450930083386786, 'f1-score': 0.8452401869827442, 'macro_f1-score': 0.8437978157529866, 'balanced_accuracy': 0.8541380337957154, 'mcc': 0.8098112426126575, 'train_loss': 0.5305784923683288}\n",
      "Epoch 2/20\n"
     ]
    },
    {
     "name": "stderr",
     "output_type": "stream",
     "text": [
      "100%|██████████| 3151/3151 [04:29<00:00, 11.68it/s]\n"
     ]
    },
    {
     "name": "stdout",
     "output_type": "stream",
     "text": [
      "{'val_loss': 0.3998638070578504, 'val_accuracy': 0.8663673294847124, 'precision': 0.8690475829881317, 'recall': 0.8663673294847124, 'f1-score': 0.8669044467170964, 'macro_f1-score': 0.8642663862405184, 'balanced_accuracy': 0.8621957279513328, 'mcc': 0.8353300399441149, 'train_loss': 0.32044216327402314}\n",
      "Epoch 3/20\n"
     ]
    },
    {
     "name": "stderr",
     "output_type": "stream",
     "text": [
      "100%|██████████| 3151/3151 [04:29<00:00, 11.68it/s]\n"
     ]
    },
    {
     "name": "stdout",
     "output_type": "stream",
     "text": [
      "{'val_loss': 0.4311101133401832, 'val_accuracy': 0.8604874919820398, 'precision': 0.8632987873767123, 'recall': 0.8604874919820398, 'f1-score': 0.8595643660074672, 'macro_f1-score': 0.859966803246776, 'balanced_accuracy': 0.8545651361307188, 'mcc': 0.8291175603846916, 'train_loss': 0.22822670060585593}\n",
      "Epoch 4/20\n"
     ]
    },
    {
     "name": "stderr",
     "output_type": "stream",
     "text": [
      "100%|██████████| 3151/3151 [04:29<00:00, 11.68it/s]\n"
     ]
    },
    {
     "name": "stdout",
     "output_type": "stream",
     "text": [
      "{'val_loss': 0.4631502493423943, 'val_accuracy': 0.8687192644857815, 'precision': 0.8692125758411864, 'recall': 0.8687192644857815, 'f1-score': 0.8685288798640618, 'macro_f1-score': 0.8653629655784494, 'balanced_accuracy': 0.8532486502601571, 'mcc': 0.838101369870403, 'train_loss': 0.162509892489501}\n",
      "Epoch 5/20\n"
     ]
    },
    {
     "name": "stderr",
     "output_type": "stream",
     "text": [
      "100%|██████████| 3151/3151 [04:29<00:00, 11.68it/s]\n"
     ]
    },
    {
     "name": "stdout",
     "output_type": "stream",
     "text": [
      "{'val_loss': 0.49110122909013215, 'val_accuracy': 0.8667949540303613, 'precision': 0.8669745716205325, 'recall': 0.8667949540303613, 'f1-score': 0.8665844055764369, 'macro_f1-score': 0.8592108899270485, 'balanced_accuracy': 0.8629017309949404, 'mcc': 0.8363198352775304, 'train_loss': 0.11736222785859203}\n",
      "Epoch 6/20\n"
     ]
    },
    {
     "name": "stderr",
     "output_type": "stream",
     "text": [
      "100%|██████████| 3151/3151 [04:29<00:00, 11.68it/s]\n"
     ]
    },
    {
     "name": "stdout",
     "output_type": "stream",
     "text": [
      "{'val_loss': 0.5868389180930068, 'val_accuracy': 0.8672225785760103, 'precision': 0.8688862353457064, 'recall': 0.8672225785760103, 'f1-score': 0.867372598451906, 'macro_f1-score': 0.861301483938028, 'balanced_accuracy': 0.8578937987049926, 'mcc': 0.8365264686500183, 'train_loss': 0.09307944548323467}\n",
      "Epoch 7/20\n"
     ]
    },
    {
     "name": "stderr",
     "output_type": "stream",
     "text": [
      "100%|██████████| 3151/3151 [04:29<00:00, 11.69it/s]\n"
     ]
    },
    {
     "name": "stdout",
     "output_type": "stream",
     "text": [
      "{'val_loss': 0.6213011164238087, 'val_accuracy': 0.86241180243746, 'precision': 0.862441594282724, 'recall': 0.86241180243746, 'f1-score': 0.8619568065981785, 'macro_f1-score': 0.8573041137954579, 'balanced_accuracy': 0.862431513171487, 'mcc': 0.8311494350332699, 'train_loss': 0.07475946564183009}\n",
      "Early stopping.\n",
      "\n",
      "[Fold 4]\n",
      "🚀 Using T5-paraphraser for data augmentation + under-sampling\n",
      "Using device: cuda\n",
      "CUDA Available: True\n",
      "CUDA Device: NVIDIA GeForce RTX 5070 Ti\n",
      "Current GPU Memory Allocated: 1.80 GB\n",
      "Current GPU Memory Cached: 3.21 GB\n",
      "🔧 Augmenting label 1: 1399 → 5000 (+3601)\n",
      "🔧 Augmenting label 4: 1679 → 5000 (+3321)\n",
      "🔧 Augmenting label 6: 1738 → 5000 (+3262)\n",
      "🔧 Augmenting label 7: 2186 → 5000 (+2814)\n",
      "Label distribution after resampling:\n",
      "  label 0: 5625\n",
      "  label 1: 5000\n",
      "  label 2: 8441\n",
      "  label 3: 10771\n",
      "  label 4: 5000\n",
      "  label 5: 5579\n",
      "  label 6: 5000\n",
      "  label 7: 5000\n",
      "model is bert-base-uncased cnn\n",
      "Using weighted CrossEntropyLoss with weights: tensor([2.1931, 2.3109, 1.7872, 1.5435, 2.3109, 2.2013, 2.3109, 2.3109],\n",
      "       device='cuda:0')\n",
      "Epoch 1/20\n"
     ]
    },
    {
     "name": "stderr",
     "output_type": "stream",
     "text": [
      "100%|██████████| 3151/3151 [04:29<00:00, 11.69it/s]\n"
     ]
    },
    {
     "name": "stdout",
     "output_type": "stream",
     "text": [
      "{'val_loss': 0.4176059160254195, 'val_accuracy': 0.8579217447081462, 'precision': 0.8595334365541519, 'recall': 0.8579217447081462, 'f1-score': 0.8579279525597721, 'macro_f1-score': 0.8572317669998646, 'balanced_accuracy': 0.8421005764850684, 'mcc': 0.8244859854250493, 'train_loss': 0.5237731816036073}\n",
      "Epoch 2/20\n"
     ]
    },
    {
     "name": "stderr",
     "output_type": "stream",
     "text": [
      "100%|██████████| 3151/3151 [04:29<00:00, 11.68it/s]\n"
     ]
    },
    {
     "name": "stdout",
     "output_type": "stream",
     "text": [
      "{'val_loss': 0.4302822837844873, 'val_accuracy': 0.8534316869788325, 'precision': 0.8567129038539575, 'recall': 0.8534316869788325, 'f1-score': 0.8527877148526322, 'macro_f1-score': 0.8556333758004111, 'balanced_accuracy': 0.8647527496978908, 'mcc': 0.8215986634946729, 'train_loss': 0.3089604318024894}\n",
      "Epoch 3/20\n"
     ]
    },
    {
     "name": "stderr",
     "output_type": "stream",
     "text": [
      "100%|██████████| 3151/3151 [04:29<00:00, 11.68it/s]\n"
     ]
    },
    {
     "name": "stdout",
     "output_type": "stream",
     "text": [
      "{'val_loss': 0.4736307177386191, 'val_accuracy': 0.8569595894804362, 'precision': 0.8618988260061706, 'recall': 0.8569595894804362, 'f1-score': 0.8572918276894801, 'macro_f1-score': 0.8555662376117965, 'balanced_accuracy': 0.8665680192858134, 'mcc': 0.8255752168841649, 'train_loss': 0.21226744053847507}\n",
      "Epoch 4/20\n"
     ]
    },
    {
     "name": "stderr",
     "output_type": "stream",
     "text": [
      "100%|██████████| 3151/3151 [04:29<00:00, 11.68it/s]\n"
     ]
    },
    {
     "name": "stdout",
     "output_type": "stream",
     "text": [
      "{'val_loss': 0.5082172791752169, 'val_accuracy': 0.8603805858456275, 'precision': 0.8625264408466556, 'recall': 0.8603805858456275, 'f1-score': 0.8602266916475333, 'macro_f1-score': 0.8602546807118203, 'balanced_accuracy': 0.8556254132586234, 'mcc': 0.8290748972511799, 'train_loss': 0.14530709068609654}\n",
      "Epoch 5/20\n"
     ]
    },
    {
     "name": "stderr",
     "output_type": "stream",
     "text": [
      "100%|██████████| 3151/3151 [04:29<00:00, 11.69it/s]\n"
     ]
    },
    {
     "name": "stdout",
     "output_type": "stream",
     "text": [
      "{'val_loss': 0.5445487850160601, 'val_accuracy': 0.856425058798375, 'precision': 0.8576393756528963, 'recall': 0.856425058798375, 'f1-score': 0.8564487081569432, 'macro_f1-score': 0.8541363401150378, 'balanced_accuracy': 0.8607812167718325, 'mcc': 0.8241284623475331, 'train_loss': 0.10313255789463835}\n",
      "Epoch 6/20\n"
     ]
    },
    {
     "name": "stderr",
     "output_type": "stream",
     "text": [
      "100%|██████████| 3151/3151 [04:29<00:00, 11.68it/s]\n"
     ]
    },
    {
     "name": "stdout",
     "output_type": "stream",
     "text": [
      "{'val_loss': 0.5301282865671902, 'val_accuracy': 0.8630532392559332, 'precision': 0.8648995733726376, 'recall': 0.8630532392559332, 'f1-score': 0.863310031343473, 'macro_f1-score': 0.8610864084289378, 'balanced_accuracy': 0.8578122191939561, 'mcc': 0.8318218596616274, 'train_loss': 0.08150669273647182}\n",
      "Epoch 7/20\n"
     ]
    },
    {
     "name": "stderr",
     "output_type": "stream",
     "text": [
      "100%|██████████| 3151/3151 [04:29<00:00, 11.69it/s]\n"
     ]
    },
    {
     "name": "stdout",
     "output_type": "stream",
     "text": [
      "{'val_loss': 0.6159746765897363, 'val_accuracy': 0.8511866581141757, 'precision': 0.8520628749116079, 'recall': 0.8511866581141757, 'f1-score': 0.8509600388148036, 'macro_f1-score': 0.8510650232073238, 'balanced_accuracy': 0.8558295558983446, 'mcc': 0.8176100384442802, 'train_loss': 0.06752225080269782}\n",
      "Epoch 8/20\n"
     ]
    },
    {
     "name": "stderr",
     "output_type": "stream",
     "text": [
      "100%|██████████| 3151/3151 [04:29<00:00, 11.68it/s]\n"
     ]
    },
    {
     "name": "stdout",
     "output_type": "stream",
     "text": [
      "{'val_loss': 0.6472815317747533, 'val_accuracy': 0.858776993799444, 'precision': 0.8595590340975175, 'recall': 0.858776993799444, 'f1-score': 0.8583214171714142, 'macro_f1-score': 0.8574517666642432, 'balanced_accuracy': 0.8414185067813639, 'mcc': 0.8256162893285893, 'train_loss': 0.0612378116984075}\n",
      "Epoch 9/20\n"
     ]
    },
    {
     "name": "stderr",
     "output_type": "stream",
     "text": [
      "100%|██████████| 3151/3151 [04:29<00:00, 11.69it/s]\n"
     ]
    },
    {
     "name": "stdout",
     "output_type": "stream",
     "text": [
      "{'val_loss': 0.6957389334335616, 'val_accuracy': 0.8507590335685268, 'precision': 0.8521202870318404, 'recall': 0.8507590335685268, 'f1-score': 0.8502680032714176, 'macro_f1-score': 0.8500744054548957, 'balanced_accuracy': 0.8402623479460636, 'mcc': 0.8166219445543703, 'train_loss': 0.05026085876167744}\n",
      "Early stopping.\n",
      "\n",
      "[Fold 5]\n",
      "🚀 Using T5-paraphraser for data augmentation + under-sampling\n",
      "Using device: cuda\n",
      "CUDA Available: True\n",
      "CUDA Device: NVIDIA GeForce RTX 5070 Ti\n",
      "Current GPU Memory Allocated: 1.79 GB\n",
      "Current GPU Memory Cached: 3.21 GB\n",
      "🔧 Augmenting label 1: 1399 → 5000 (+3601)\n",
      "🔧 Augmenting label 4: 1678 → 5000 (+3322)\n",
      "🔧 Augmenting label 6: 1738 → 5000 (+3262)\n",
      "🔧 Augmenting label 7: 2187 → 5000 (+2813)\n",
      "Label distribution after resampling:\n",
      "  label 0: 5625\n",
      "  label 1: 5000\n",
      "  label 2: 8441\n",
      "  label 3: 10771\n",
      "  label 4: 5000\n",
      "  label 5: 5579\n",
      "  label 6: 5000\n",
      "  label 7: 5000\n",
      "model is bert-base-uncased cnn\n",
      "Using weighted CrossEntropyLoss with weights: tensor([2.1931, 2.3109, 1.7872, 1.5435, 2.3109, 2.2013, 2.3109, 2.3109],\n",
      "       device='cuda:0')\n",
      "Epoch 1/20\n"
     ]
    },
    {
     "name": "stderr",
     "output_type": "stream",
     "text": [
      "100%|██████████| 3151/3151 [04:29<00:00, 11.69it/s]\n"
     ]
    },
    {
     "name": "stdout",
     "output_type": "stream",
     "text": [
      "{'val_loss': 0.4211993817781281, 'val_accuracy': 0.851293564250588, 'precision': 0.8531688107497182, 'recall': 0.851293564250588, 'f1-score': 0.8511155780912399, 'macro_f1-score': 0.8490671027951854, 'balanced_accuracy': 0.8654340133290812, 'mcc': 0.8184070241430305, 'train_loss': 0.5248242342535445}\n",
      "Epoch 2/20\n"
     ]
    },
    {
     "name": "stderr",
     "output_type": "stream",
     "text": [
      "100%|██████████| 3151/3151 [04:29<00:00, 11.69it/s]\n"
     ]
    },
    {
     "name": "stdout",
     "output_type": "stream",
     "text": [
      "{'val_loss': 0.427584462830176, 'val_accuracy': 0.8570664956168484, 'precision': 0.8609984004861704, 'recall': 0.8570664956168484, 'f1-score': 0.8568705558734212, 'macro_f1-score': 0.855770683935897, 'balanced_accuracy': 0.8641423581316257, 'mcc': 0.8260825419958308, 'train_loss': 0.3129979508140685}\n",
      "Epoch 3/20\n"
     ]
    },
    {
     "name": "stderr",
     "output_type": "stream",
     "text": [
      "100%|██████████| 3151/3151 [04:29<00:00, 11.69it/s]\n"
     ]
    },
    {
     "name": "stdout",
     "output_type": "stream",
     "text": [
      "{'val_loss': 0.41128506278221166, 'val_accuracy': 0.8677571092580714, 'precision': 0.8680840141582772, 'recall': 0.8677571092580714, 'f1-score': 0.867513870099067, 'macro_f1-score': 0.8686494532443317, 'balanced_accuracy': 0.8765522708843971, 'mcc': 0.8379515139438097, 'train_loss': 0.22278742166790225}\n",
      "Epoch 4/20\n"
     ]
    },
    {
     "name": "stderr",
     "output_type": "stream",
     "text": [
      "100%|██████████| 3151/3151 [04:29<00:00, 11.69it/s]\n"
     ]
    },
    {
     "name": "stdout",
     "output_type": "stream",
     "text": [
      "{'val_loss': 0.5007988901514338, 'val_accuracy': 0.8580286508445585, 'precision': 0.8597503805475677, 'recall': 0.8580286508445585, 'f1-score': 0.8585548695097173, 'macro_f1-score': 0.8545920612012201, 'balanced_accuracy': 0.8581634349887273, 'mcc': 0.8253777628455216, 'train_loss': 0.1588924309233693}\n",
      "Epoch 5/20\n"
     ]
    },
    {
     "name": "stderr",
     "output_type": "stream",
     "text": [
      "100%|██████████| 3151/3151 [04:29<00:00, 11.69it/s]\n"
     ]
    },
    {
     "name": "stdout",
     "output_type": "stream",
     "text": [
      "{'val_loss': 0.5318325086699751, 'val_accuracy': 0.8574941201624974, 'precision': 0.8591573890729071, 'recall': 0.8574941201624974, 'f1-score': 0.8577845232301083, 'macro_f1-score': 0.8538569260026221, 'balanced_accuracy': 0.8617943014451287, 'mcc': 0.8250808578428943, 'train_loss': 0.11460087081166286}\n",
      "Epoch 6/20\n"
     ]
    },
    {
     "name": "stderr",
     "output_type": "stream",
     "text": [
      "100%|██████████| 3151/3151 [04:29<00:00, 11.69it/s]\n"
     ]
    },
    {
     "name": "stdout",
     "output_type": "stream",
     "text": [
      "{'val_loss': 0.60781844943726, 'val_accuracy': 0.8588838999358563, 'precision': 0.8614977614644241, 'recall': 0.8588838999358563, 'f1-score': 0.8591664645000775, 'macro_f1-score': 0.8586945028550736, 'balanced_accuracy': 0.847578798589283, 'mcc': 0.826047822374862, 'train_loss': 0.09189979723395034}\n",
      "Early stopping.\n",
      "\n",
      " === bert-base-uncased + cnn + t5 Final 5-fold Cross-Validation Results ===\n",
      "val_loss: 0.4729\n",
      "val_accuracy: 0.8650\n",
      "precision: 0.8661\n",
      "recall: 0.8650\n",
      "f1-score: 0.8651\n",
      "macro_f1-score: 0.8632\n",
      "balanced_accuracy: 0.8595\n",
      "mcc: 0.8339\n",
      "train_loss: 0.1741\n",
      "total_seconds: 25037.0000\n",
      "total_time: 6 hrs 57 mins 17 secs\n",
      "▶ Running: bert-base-uncased + lstm + t5\n",
      "tokenizer is bert-base-uncased\n",
      "Using device: cuda\n",
      "CUDA Available: True\n",
      "CUDA Device: NVIDIA GeForce RTX 5070 Ti\n",
      "Current GPU Memory Allocated: 0.02 GB\n",
      "Current GPU Memory Cached: 3.21 GB\n",
      "\n",
      "[Fold 1]\n",
      "🚀 Using T5-paraphraser for data augmentation + under-sampling\n",
      "Using device: cuda\n",
      "CUDA Available: True\n",
      "CUDA Device: NVIDIA GeForce RTX 5070 Ti\n",
      "Current GPU Memory Allocated: 0.02 GB\n",
      "Current GPU Memory Cached: 3.21 GB\n",
      "🔧 Augmenting label 1: 1399 → 5000 (+3601)\n",
      "🔧 Augmenting label 4: 1678 → 5000 (+3322)\n",
      "🔧 Augmenting label 6: 1737 → 5000 (+3263)\n",
      "🔧 Augmenting label 7: 2187 → 5000 (+2813)\n",
      "Label distribution after resampling:\n",
      "  label 0: 5626\n",
      "  label 1: 5000\n",
      "  label 2: 8442\n",
      "  label 3: 10770\n",
      "  label 4: 5000\n",
      "  label 5: 5578\n",
      "  label 6: 5000\n",
      "  label 7: 5000\n",
      "model is bert-base-uncased lstm\n",
      "Using weighted CrossEntropyLoss with weights: tensor([2.1929, 2.3109, 1.7871, 1.5435, 2.3109, 2.2015, 2.3109, 2.3109],\n",
      "       device='cuda:0')\n",
      "Epoch 1/20\n"
     ]
    },
    {
     "name": "stderr",
     "output_type": "stream",
     "text": [
      "100%|██████████| 3151/3151 [04:43<00:00, 11.10it/s]\n"
     ]
    },
    {
     "name": "stdout",
     "output_type": "stream",
     "text": [
      "{'val_loss': 0.43637995957118325, 'val_accuracy': 0.8547300908605024, 'precision': 0.8583168294980952, 'recall': 0.8547300908605024, 'f1-score': 0.8556125212596357, 'macro_f1-score': 0.8506322682097223, 'balanced_accuracy': 0.8581111834075728, 'mcc': 0.8215389541567025, 'train_loss': 0.5250875971317575}\n",
      "Epoch 2/20\n"
     ]
    },
    {
     "name": "stderr",
     "output_type": "stream",
     "text": [
      "100%|██████████| 3151/3151 [04:44<00:00, 11.09it/s]\n"
     ]
    },
    {
     "name": "stdout",
     "output_type": "stream",
     "text": [
      "{'val_loss': 0.4433416525968629, 'val_accuracy': 0.8557990379476216, 'precision': 0.8604111724743817, 'recall': 0.8557990379476216, 'f1-score': 0.8559272627413039, 'macro_f1-score': 0.8543923836248292, 'balanced_accuracy': 0.8394941225036681, 'mcc': 0.823036986336507, 'train_loss': 0.31410953222313776}\n",
      "Epoch 3/20\n"
     ]
    },
    {
     "name": "stderr",
     "output_type": "stream",
     "text": [
      "100%|██████████| 3151/3151 [04:44<00:00, 11.08it/s]\n"
     ]
    },
    {
     "name": "stdout",
     "output_type": "stream",
     "text": [
      "{'val_loss': 0.4362027971241146, 'val_accuracy': 0.864457509353287, 'precision': 0.8660582251520433, 'recall': 0.864457509353287, 'f1-score': 0.8639074774475389, 'macro_f1-score': 0.8619751658164445, 'balanced_accuracy': 0.8545440797976565, 'mcc': 0.8335267403791108, 'train_loss': 0.22173604406581932}\n",
      "Epoch 4/20\n"
     ]
    },
    {
     "name": "stderr",
     "output_type": "stream",
     "text": [
      "100%|██████████| 3151/3151 [04:44<00:00, 11.09it/s]\n"
     ]
    },
    {
     "name": "stdout",
     "output_type": "stream",
     "text": [
      "{'val_loss': 0.48010489003868123, 'val_accuracy': 0.8652057723142704, 'precision': 0.8657117767155185, 'recall': 0.8652057723142704, 'f1-score': 0.8650666105993877, 'macro_f1-score': 0.8588568912955001, 'balanced_accuracy': 0.8480315780091484, 'mcc': 0.8338039876977592, 'train_loss': 0.16070786876769771}\n",
      "Epoch 5/20\n"
     ]
    },
    {
     "name": "stderr",
     "output_type": "stream",
     "text": [
      "100%|██████████| 3151/3151 [04:44<00:00, 11.09it/s]\n"
     ]
    },
    {
     "name": "stdout",
     "output_type": "stream",
     "text": [
      "{'val_loss': 0.4714306383055404, 'val_accuracy': 0.8670229823623731, 'precision': 0.8681463181392848, 'recall': 0.8670229823623731, 'f1-score': 0.8672754125498144, 'macro_f1-score': 0.8623931916340595, 'balanced_accuracy': 0.8627981739083245, 'mcc': 0.8365515763576713, 'train_loss': 0.11805271356248645}\n",
      "Epoch 6/20\n"
     ]
    },
    {
     "name": "stderr",
     "output_type": "stream",
     "text": [
      "100%|██████████| 3151/3151 [04:44<00:00, 11.09it/s]\n"
     ]
    },
    {
     "name": "stdout",
     "output_type": "stream",
     "text": [
      "{'val_loss': 0.5876693905526215, 'val_accuracy': 0.8633885622661678, 'precision': 0.8646618337769425, 'recall': 0.8633885622661678, 'f1-score': 0.8629688535254622, 'macro_f1-score': 0.8598035172947018, 'balanced_accuracy': 0.8497434921896271, 'mcc': 0.8315977694273327, 'train_loss': 0.09088072481451237}\n",
      "Epoch 7/20\n"
     ]
    },
    {
     "name": "stderr",
     "output_type": "stream",
     "text": [
      "100%|██████████| 3151/3151 [04:44<00:00, 11.09it/s]\n"
     ]
    },
    {
     "name": "stdout",
     "output_type": "stream",
     "text": [
      "{'val_loss': 0.6742757935104812, 'val_accuracy': 0.8535542490646713, 'precision': 0.8579668123116463, 'recall': 0.8535542490646713, 'f1-score': 0.8537248413003764, 'macro_f1-score': 0.8490601033130075, 'balanced_accuracy': 0.8424793659356803, 'mcc': 0.8201390885540759, 'train_loss': 0.07987672292324959}\n",
      "Epoch 8/20\n"
     ]
    },
    {
     "name": "stderr",
     "output_type": "stream",
     "text": [
      "100%|██████████| 3151/3151 [04:44<00:00, 11.08it/s]\n"
     ]
    },
    {
     "name": "stdout",
     "output_type": "stream",
     "text": [
      "{'val_loss': 0.6079461836226236, 'val_accuracy': 0.8616782469267771, 'precision': 0.8628281666091514, 'recall': 0.8616782469267771, 'f1-score': 0.861447269644543, 'macro_f1-score': 0.8574728095074238, 'balanced_accuracy': 0.8617624507503495, 'mcc': 0.8307777369005889, 'train_loss': 0.06426243267231332}\n",
      "Early stopping.\n",
      "\n",
      "[Fold 2]\n",
      "🚀 Using T5-paraphraser for data augmentation + under-sampling\n",
      "Using device: cuda\n",
      "CUDA Available: True\n",
      "CUDA Device: NVIDIA GeForce RTX 5070 Ti\n",
      "Current GPU Memory Allocated: 1.82 GB\n",
      "Current GPU Memory Cached: 3.21 GB\n",
      "🔧 Augmenting label 1: 1400 → 5000 (+3600)\n",
      "🔧 Augmenting label 4: 1678 → 5000 (+3322)\n",
      "🔧 Augmenting label 6: 1737 → 5000 (+3263)\n",
      "🔧 Augmenting label 7: 2186 → 5000 (+2814)\n",
      "Label distribution after resampling:\n",
      "  label 0: 5626\n",
      "  label 1: 5000\n",
      "  label 2: 8442\n",
      "  label 3: 10770\n",
      "  label 4: 5000\n",
      "  label 5: 5578\n",
      "  label 6: 5000\n",
      "  label 7: 5000\n",
      "model is bert-base-uncased lstm\n",
      "Using weighted CrossEntropyLoss with weights: tensor([2.1929, 2.3109, 1.7871, 1.5435, 2.3109, 2.2015, 2.3109, 2.3109],\n",
      "       device='cuda:0')\n",
      "Epoch 1/20\n"
     ]
    },
    {
     "name": "stderr",
     "output_type": "stream",
     "text": [
      "100%|██████████| 3151/3151 [04:43<00:00, 11.10it/s]\n"
     ]
    },
    {
     "name": "stdout",
     "output_type": "stream",
     "text": [
      "{'val_loss': 0.5297742644372659, 'val_accuracy': 0.8231961517904863, 'precision': 0.8383865592128603, 'recall': 0.8231961517904863, 'f1-score': 0.8247122113989657, 'macro_f1-score': 0.8148380965890262, 'balanced_accuracy': 0.8407696498470238, 'mcc': 0.78561150313245, 'train_loss': 0.5403009329442797}\n",
      "Epoch 2/20\n"
     ]
    },
    {
     "name": "stderr",
     "output_type": "stream",
     "text": [
      "100%|██████████| 3151/3151 [04:44<00:00, 11.09it/s]\n"
     ]
    },
    {
     "name": "stdout",
     "output_type": "stream",
     "text": [
      "{'val_loss': 0.4406736151402832, 'val_accuracy': 0.8530197755211117, 'precision': 0.8576567082639743, 'recall': 0.8530197755211117, 'f1-score': 0.8530480342644323, 'macro_f1-score': 0.8548634750898958, 'balanced_accuracy': 0.83628465797364, 'mcc': 0.8186317306693581, 'train_loss': 0.3134798953641869}\n",
      "Epoch 3/20\n"
     ]
    },
    {
     "name": "stderr",
     "output_type": "stream",
     "text": [
      "100%|██████████| 3151/3151 [04:44<00:00, 11.09it/s]\n"
     ]
    },
    {
     "name": "stdout",
     "output_type": "stream",
     "text": [
      "{'val_loss': 0.47740485845690867, 'val_accuracy': 0.855264564404062, 'precision': 0.8586678417444495, 'recall': 0.855264564404062, 'f1-score': 0.8549951161585317, 'macro_f1-score': 0.855737491051207, 'balanced_accuracy': 0.8388119520185042, 'mcc': 0.8218082218176628, 'train_loss': 0.22215259085066194}\n",
      "Epoch 4/20\n"
     ]
    },
    {
     "name": "stderr",
     "output_type": "stream",
     "text": [
      "100%|██████████| 3151/3151 [04:44<00:00, 11.09it/s]\n"
     ]
    },
    {
     "name": "stdout",
     "output_type": "stream",
     "text": [
      "{'val_loss': 0.4944844000407646, 'val_accuracy': 0.8531266702298236, 'precision': 0.8536931547214838, 'recall': 0.8531266702298236, 'f1-score': 0.8525612948351874, 'macro_f1-score': 0.8552393957021585, 'balanced_accuracy': 0.8605353959357853, 'mcc': 0.8202621228758288, 'train_loss': 0.16088270865675147}\n",
      "Epoch 5/20\n"
     ]
    },
    {
     "name": "stderr",
     "output_type": "stream",
     "text": [
      "100%|██████████| 3151/3151 [04:44<00:00, 11.08it/s]\n"
     ]
    },
    {
     "name": "stdout",
     "output_type": "stream",
     "text": [
      "{'val_loss': 0.5629842782416978, 'val_accuracy': 0.8520577231427044, 'precision': 0.8524872287060352, 'recall': 0.8520577231427044, 'f1-score': 0.8517353268962797, 'macro_f1-score': 0.8528920117715523, 'balanced_accuracy': 0.8581203221050582, 'mcc': 0.8185810047645165, 'train_loss': 0.12589819305899289}\n",
      "Epoch 6/20\n"
     ]
    },
    {
     "name": "stderr",
     "output_type": "stream",
     "text": [
      "100%|██████████| 3151/3151 [04:44<00:00, 11.08it/s]\n"
     ]
    },
    {
     "name": "stdout",
     "output_type": "stream",
     "text": [
      "{'val_loss': 0.6984322061906489, 'val_accuracy': 0.8540887226082309, 'precision': 0.8570916867075411, 'recall': 0.8540887226082309, 'f1-score': 0.8543552002578972, 'macro_f1-score': 0.8543493472179979, 'balanced_accuracy': 0.843279885866759, 'mcc': 0.8201598810607833, 'train_loss': 0.09796431664797448}\n",
      "Early stopping.\n",
      "\n",
      "[Fold 3]\n",
      "🚀 Using T5-paraphraser for data augmentation + under-sampling\n",
      "Using device: cuda\n",
      "CUDA Available: True\n",
      "CUDA Device: NVIDIA GeForce RTX 5070 Ti\n",
      "Current GPU Memory Allocated: 1.82 GB\n",
      "Current GPU Memory Cached: 3.21 GB\n",
      "🔧 Augmenting label 1: 1399 → 5000 (+3601)\n",
      "🔧 Augmenting label 4: 1679 → 5000 (+3321)\n",
      "🔧 Augmenting label 6: 1738 → 5000 (+3262)\n",
      "🔧 Augmenting label 7: 2186 → 5000 (+2814)\n",
      "Label distribution after resampling:\n",
      "  label 0: 5626\n",
      "  label 1: 5000\n",
      "  label 2: 8442\n",
      "  label 3: 10770\n",
      "  label 4: 5000\n",
      "  label 5: 5578\n",
      "  label 6: 5000\n",
      "  label 7: 5000\n",
      "model is bert-base-uncased lstm\n",
      "Using weighted CrossEntropyLoss with weights: tensor([2.1929, 2.3109, 1.7871, 1.5435, 2.3109, 2.2015, 2.3109, 2.3109],\n",
      "       device='cuda:0')\n",
      "Epoch 1/20\n"
     ]
    },
    {
     "name": "stderr",
     "output_type": "stream",
     "text": [
      "100%|██████████| 3151/3151 [04:43<00:00, 11.10it/s]\n"
     ]
    },
    {
     "name": "stdout",
     "output_type": "stream",
     "text": [
      "{'val_loss': 0.4437354324337764, 'val_accuracy': 0.8542869360701304, 'precision': 0.856195263139775, 'recall': 0.8542869360701304, 'f1-score': 0.8543784900197663, 'macro_f1-score': 0.8568290620647125, 'balanced_accuracy': 0.8419728733666523, 'mcc': 0.8201687701127779, 'train_loss': 0.5317044753826012}\n",
      "Epoch 2/20\n"
     ]
    },
    {
     "name": "stderr",
     "output_type": "stream",
     "text": [
      "100%|██████████| 3151/3151 [04:43<00:00, 11.10it/s]\n"
     ]
    },
    {
     "name": "stdout",
     "output_type": "stream",
     "text": [
      "{'val_loss': 0.41186917134775564, 'val_accuracy': 0.8629463331195211, 'precision': 0.8644309011400635, 'recall': 0.8629463331195211, 'f1-score': 0.8630550151284444, 'macro_f1-score': 0.8587498756835382, 'balanced_accuracy': 0.8593827369536043, 'mcc': 0.8315207986260449, 'train_loss': 0.3204918009548509}\n",
      "Epoch 3/20\n"
     ]
    },
    {
     "name": "stderr",
     "output_type": "stream",
     "text": [
      "100%|██████████| 3151/3151 [04:43<00:00, 11.11it/s]\n"
     ]
    },
    {
     "name": "stdout",
     "output_type": "stream",
     "text": [
      "{'val_loss': 0.4268756109281865, 'val_accuracy': 0.8645499251657045, 'precision': 0.8665816821046003, 'recall': 0.8645499251657045, 'f1-score': 0.8644858801165086, 'macro_f1-score': 0.8640749741830183, 'balanced_accuracy': 0.8667308762575094, 'mcc': 0.8341621700260944, 'train_loss': 0.22727228363964652}\n",
      "Epoch 4/20\n"
     ]
    },
    {
     "name": "stderr",
     "output_type": "stream",
     "text": [
      "100%|██████████| 3151/3151 [04:43<00:00, 11.11it/s]\n"
     ]
    },
    {
     "name": "stdout",
     "output_type": "stream",
     "text": [
      "{'val_loss': 0.5067024264667724, 'val_accuracy': 0.8505452212957024, 'precision': 0.8536648010873992, 'recall': 0.8505452212957024, 'f1-score': 0.8506660371680386, 'macro_f1-score': 0.842751137274526, 'balanced_accuracy': 0.8551378369683599, 'mcc': 0.817499066473702, 'train_loss': 0.16368218479894978}\n",
      "Epoch 5/20\n"
     ]
    },
    {
     "name": "stderr",
     "output_type": "stream",
     "text": [
      "100%|██████████| 3151/3151 [04:43<00:00, 11.10it/s]\n"
     ]
    },
    {
     "name": "stdout",
     "output_type": "stream",
     "text": [
      "{'val_loss': 0.5607311183801638, 'val_accuracy': 0.8620910840282232, 'precision': 0.8638711544134537, 'recall': 0.8620910840282232, 'f1-score': 0.8618666463002105, 'macro_f1-score': 0.8568782744238953, 'balanced_accuracy': 0.8542830332246989, 'mcc': 0.8302273187374738, 'train_loss': 0.12328456718602754}\n",
      "Epoch 6/20\n"
     ]
    },
    {
     "name": "stderr",
     "output_type": "stream",
     "text": [
      "100%|██████████| 3151/3151 [04:44<00:00, 11.09it/s]\n"
     ]
    },
    {
     "name": "stdout",
     "output_type": "stream",
     "text": [
      "{'val_loss': 0.5898091831228608, 'val_accuracy': 0.8626256147102843, 'precision': 0.8624114646283867, 'recall': 0.8626256147102843, 'f1-score': 0.8621317883961183, 'macro_f1-score': 0.8556379228332738, 'balanced_accuracy': 0.8550471805901527, 'mcc': 0.8310433016713602, 'train_loss': 0.09956609167801309}\n",
      "Early stopping.\n",
      "\n",
      "[Fold 4]\n",
      "🚀 Using T5-paraphraser for data augmentation + under-sampling\n",
      "Using device: cuda\n",
      "CUDA Available: True\n",
      "CUDA Device: NVIDIA GeForce RTX 5070 Ti\n",
      "Current GPU Memory Allocated: 1.82 GB\n",
      "Current GPU Memory Cached: 3.21 GB\n",
      "🔧 Augmenting label 1: 1399 → 5000 (+3601)\n",
      "🔧 Augmenting label 4: 1679 → 5000 (+3321)\n",
      "🔧 Augmenting label 6: 1738 → 5000 (+3262)\n",
      "🔧 Augmenting label 7: 2186 → 5000 (+2814)\n",
      "Label distribution after resampling:\n",
      "  label 0: 5625\n",
      "  label 1: 5000\n",
      "  label 2: 8441\n",
      "  label 3: 10771\n",
      "  label 4: 5000\n",
      "  label 5: 5579\n",
      "  label 6: 5000\n",
      "  label 7: 5000\n",
      "model is bert-base-uncased lstm\n",
      "Using weighted CrossEntropyLoss with weights: tensor([2.1931, 2.3109, 1.7872, 1.5435, 2.3109, 2.2013, 2.3109, 2.3109],\n",
      "       device='cuda:0')\n",
      "Epoch 1/20\n"
     ]
    },
    {
     "name": "stderr",
     "output_type": "stream",
     "text": [
      "100%|██████████| 3151/3151 [04:52<00:00, 10.76it/s]\n"
     ]
    },
    {
     "name": "stdout",
     "output_type": "stream",
     "text": [
      "{'val_loss': 0.4299362095566387, 'val_accuracy': 0.845734445157152, 'precision': 0.8483143614057682, 'recall': 0.845734445157152, 'f1-score': 0.8454656444180404, 'macro_f1-score': 0.8462978192543769, 'balanced_accuracy': 0.8671063697527593, 'mcc': 0.8123579788118966, 'train_loss': 0.5453517712056826}\n",
      "Epoch 2/20\n"
     ]
    },
    {
     "name": "stderr",
     "output_type": "stream",
     "text": [
      "100%|██████████| 3151/3151 [04:53<00:00, 10.73it/s]\n"
     ]
    },
    {
     "name": "stdout",
     "output_type": "stream",
     "text": [
      "{'val_loss': 0.42152560707977693, 'val_accuracy': 0.8495830660679923, 'precision': 0.8531994198316477, 'recall': 0.8495830660679923, 'f1-score': 0.8492423590344006, 'macro_f1-score': 0.8505861786519967, 'balanced_accuracy': 0.8644340920085021, 'mcc': 0.8169505913980517, 'train_loss': 0.3321681235911297}\n",
      "Epoch 3/20\n"
     ]
    },
    {
     "name": "stderr",
     "output_type": "stream",
     "text": [
      "100%|██████████| 3151/3151 [04:53<00:00, 10.73it/s]\n"
     ]
    },
    {
     "name": "stdout",
     "output_type": "stream",
     "text": [
      "{'val_loss': 0.4555611702828453, 'val_accuracy': 0.8621979901646355, 'precision': 0.8646549199581725, 'recall': 0.8621979901646355, 'f1-score': 0.8621642886794467, 'macro_f1-score': 0.8596662962323816, 'balanced_accuracy': 0.8615734040147047, 'mcc': 0.8305337341297456, 'train_loss': 0.23917143471611138}\n",
      "Epoch 4/20\n"
     ]
    },
    {
     "name": "stderr",
     "output_type": "stream",
     "text": [
      "100%|██████████| 3151/3151 [04:53<00:00, 10.74it/s]\n"
     ]
    },
    {
     "name": "stdout",
     "output_type": "stream",
     "text": [
      "{'val_loss': 0.531407846766325, 'val_accuracy': 0.8645499251657045, 'precision': 0.8661497185271083, 'recall': 0.8645499251657045, 'f1-score': 0.864375413555685, 'macro_f1-score': 0.8582097238028862, 'balanced_accuracy': 0.847135984809077, 'mcc': 0.8329892166421298, 'train_loss': 0.17251310650927526}\n",
      "Epoch 5/20\n"
     ]
    },
    {
     "name": "stderr",
     "output_type": "stream",
     "text": [
      "100%|██████████| 3151/3151 [04:53<00:00, 10.74it/s]\n"
     ]
    },
    {
     "name": "stdout",
     "output_type": "stream",
     "text": [
      "{'val_loss': 0.5036556721493824, 'val_accuracy': 0.858242463117383, 'precision': 0.8599386169453774, 'recall': 0.858242463117383, 'f1-score': 0.8580623164540857, 'macro_f1-score': 0.8586441802951867, 'balanced_accuracy': 0.8519687628830703, 'mcc': 0.825239811666728, 'train_loss': 0.13034445436728864}\n",
      "Epoch 6/20\n"
     ]
    },
    {
     "name": "stderr",
     "output_type": "stream",
     "text": [
      "100%|██████████| 3151/3151 [04:52<00:00, 10.76it/s]\n"
     ]
    },
    {
     "name": "stdout",
     "output_type": "stream",
     "text": [
      "{'val_loss': 0.5594846379393951, 'val_accuracy': 0.8573872140260851, 'precision': 0.8610559479909131, 'recall': 0.8573872140260851, 'f1-score': 0.85777783308398, 'macro_f1-score': 0.8576460100755592, 'balanced_accuracy': 0.8386747580979809, 'mcc': 0.8238523005311744, 'train_loss': 0.10499070136857662}\n",
      "Early stopping.\n",
      "\n",
      "[Fold 5]\n",
      "🚀 Using T5-paraphraser for data augmentation + under-sampling\n",
      "Using device: cuda\n",
      "CUDA Available: True\n",
      "CUDA Device: NVIDIA GeForce RTX 5070 Ti\n",
      "Current GPU Memory Allocated: 1.82 GB\n",
      "Current GPU Memory Cached: 3.21 GB\n",
      "🔧 Augmenting label 1: 1399 → 5000 (+3601)\n",
      "🔧 Augmenting label 4: 1678 → 5000 (+3322)\n",
      "🔧 Augmenting label 6: 1738 → 5000 (+3262)\n",
      "🔧 Augmenting label 7: 2187 → 5000 (+2813)\n",
      "Label distribution after resampling:\n",
      "  label 0: 5625\n",
      "  label 1: 5000\n",
      "  label 2: 8441\n",
      "  label 3: 10771\n",
      "  label 4: 5000\n",
      "  label 5: 5579\n",
      "  label 6: 5000\n",
      "  label 7: 5000\n",
      "model is bert-base-uncased lstm\n",
      "Using weighted CrossEntropyLoss with weights: tensor([2.1931, 2.3109, 1.7872, 1.5435, 2.3109, 2.2013, 2.3109, 2.3109],\n",
      "       device='cuda:0')\n",
      "Epoch 1/20\n"
     ]
    },
    {
     "name": "stderr",
     "output_type": "stream",
     "text": [
      "100%|██████████| 3151/3151 [04:52<00:00, 10.79it/s]\n"
     ]
    },
    {
     "name": "stdout",
     "output_type": "stream",
     "text": [
      "{'val_loss': 0.454264834535937, 'val_accuracy': 0.8483001924310456, 'precision': 0.8509152012898068, 'recall': 0.8483001924310456, 'f1-score': 0.8484882515695711, 'macro_f1-score': 0.846409200612398, 'balanced_accuracy': 0.8528914220820392, 'mcc': 0.8143293022627643, 'train_loss': 0.5332377876144142}\n",
      "Epoch 2/20\n"
     ]
    },
    {
     "name": "stderr",
     "output_type": "stream",
     "text": [
      "100%|██████████| 3151/3151 [04:52<00:00, 10.78it/s]\n"
     ]
    },
    {
     "name": "stdout",
     "output_type": "stream",
     "text": [
      "{'val_loss': 0.4238637172465778, 'val_accuracy': 0.8615565533461621, 'precision': 0.8627370085080218, 'recall': 0.8615565533461621, 'f1-score': 0.8616747133943201, 'macro_f1-score': 0.8609776934149818, 'balanced_accuracy': 0.861876639522051, 'mcc': 0.8296581936431754, 'train_loss': 0.31265389041396424}\n",
      "Epoch 3/20\n"
     ]
    },
    {
     "name": "stderr",
     "output_type": "stream",
     "text": [
      "100%|██████████| 3151/3151 [04:52<00:00, 10.79it/s]\n"
     ]
    },
    {
     "name": "stdout",
     "output_type": "stream",
     "text": [
      "{'val_loss': 0.44379306540020513, 'val_accuracy': 0.8518280949326491, 'precision': 0.8529607983418861, 'recall': 0.8518280949326491, 'f1-score': 0.8515378704371842, 'macro_f1-score': 0.848159074216371, 'balanced_accuracy': 0.8570065605522951, 'mcc': 0.8182299135196838, 'train_loss': 0.225017051393966}\n",
      "Epoch 4/20\n"
     ]
    },
    {
     "name": "stderr",
     "output_type": "stream",
     "text": [
      "100%|██████████| 3151/3151 [04:52<00:00, 10.77it/s]\n"
     ]
    },
    {
     "name": "stdout",
     "output_type": "stream",
     "text": [
      "{'val_loss': 0.5434186132362064, 'val_accuracy': 0.8558905281163138, 'precision': 0.8590687283276257, 'recall': 0.8558905281163138, 'f1-score': 0.8561770721253913, 'macro_f1-score': 0.8537843267665097, 'balanced_accuracy': 0.8499431576320511, 'mcc': 0.8226640160488984, 'train_loss': 0.1596543754812156}\n",
      "Epoch 5/20\n"
     ]
    },
    {
     "name": "stderr",
     "output_type": "stream",
     "text": [
      "100%|██████████| 3151/3151 [04:52<00:00, 10.78it/s]\n"
     ]
    },
    {
     "name": "stdout",
     "output_type": "stream",
     "text": [
      "{'val_loss': 0.48955900790090234, 'val_accuracy': 0.8589908060722685, 'precision': 0.8589796448732845, 'recall': 0.8589908060722685, 'f1-score': 0.8587452044840178, 'macro_f1-score': 0.8602667079626116, 'balanced_accuracy': 0.8564537560340939, 'mcc': 0.8264252366885462, 'train_loss': 0.12078007068694872}\n",
      "Early stopping.\n",
      "\n",
      " === bert-base-uncased + lstm + t5 Final 5-fold Cross-Validation Results ===\n",
      "val_loss: 0.4510\n",
      "val_accuracy: 0.8621\n",
      "precision: 0.8642\n",
      "recall: 0.8621\n",
      "f1-score: 0.8621\n",
      "macro_f1-score: 0.8606\n",
      "balanced_accuracy: 0.8584\n",
      "mcc: 0.8305\n",
      "train_loss: 0.2239\n",
      "total_seconds: 27675.0000\n",
      "total_time: 7 hrs 41 mins 15 secs\n",
      "▶ Running: bert-base-uncased + bilstm + t5\n",
      "tokenizer is bert-base-uncased\n",
      "Using device: cuda\n",
      "CUDA Available: True\n",
      "CUDA Device: NVIDIA GeForce RTX 5070 Ti\n",
      "Current GPU Memory Allocated: 0.02 GB\n",
      "Current GPU Memory Cached: 3.21 GB\n",
      "\n",
      "[Fold 1]\n",
      "🚀 Using T5-paraphraser for data augmentation + under-sampling\n",
      "Using device: cuda\n",
      "CUDA Available: True\n",
      "CUDA Device: NVIDIA GeForce RTX 5070 Ti\n",
      "Current GPU Memory Allocated: 0.02 GB\n",
      "Current GPU Memory Cached: 3.21 GB\n",
      "🔧 Augmenting label 1: 1399 → 5000 (+3601)\n",
      "🔧 Augmenting label 4: 1678 → 5000 (+3322)\n",
      "🔧 Augmenting label 6: 1737 → 5000 (+3263)\n",
      "🔧 Augmenting label 7: 2187 → 5000 (+2813)\n",
      "Label distribution after resampling:\n",
      "  label 0: 5626\n",
      "  label 1: 5000\n",
      "  label 2: 8442\n",
      "  label 3: 10770\n",
      "  label 4: 5000\n",
      "  label 5: 5578\n",
      "  label 6: 5000\n",
      "  label 7: 5000\n",
      "model is bert-base-uncased bilstm\n",
      "Using weighted CrossEntropyLoss with weights: tensor([2.1929, 2.3109, 1.7871, 1.5435, 2.3109, 2.2015, 2.3109, 2.3109],\n",
      "       device='cuda:0')\n",
      "Epoch 1/20\n"
     ]
    },
    {
     "name": "stderr",
     "output_type": "stream",
     "text": [
      "100%|██████████| 3151/3151 [05:12<00:00, 10.08it/s]\n"
     ]
    },
    {
     "name": "stdout",
     "output_type": "stream",
     "text": [
      "{'val_loss': 0.43799305690341017, 'val_accuracy': 0.8515232495991448, 'precision': 0.8549000387066764, 'recall': 0.8515232495991448, 'f1-score': 0.8504674212029799, 'macro_f1-score': 0.8525261441959043, 'balanced_accuracy': 0.842907507422358, 'mcc': 0.8184831890963904, 'train_loss': 0.5275960113665238}\n",
      "Epoch 2/20\n"
     ]
    },
    {
     "name": "stderr",
     "output_type": "stream",
     "text": [
      "100%|██████████| 3151/3151 [05:13<00:00, 10.06it/s]\n"
     ]
    },
    {
     "name": "stdout",
     "output_type": "stream",
     "text": [
      "{'val_loss': 0.4554052538214586, 'val_accuracy': 0.8536611437733832, 'precision': 0.8588613183801742, 'recall': 0.8536611437733832, 'f1-score': 0.8535686632562273, 'macro_f1-score': 0.851293053140353, 'balanced_accuracy': 0.8420221352488932, 'mcc': 0.8200398418662423, 'train_loss': 0.3091142784954252}\n",
      "Epoch 3/20\n"
     ]
    },
    {
     "name": "stderr",
     "output_type": "stream",
     "text": [
      "100%|██████████| 3151/3151 [05:13<00:00, 10.06it/s]\n"
     ]
    },
    {
     "name": "stdout",
     "output_type": "stream",
     "text": [
      "{'val_loss': 0.43009778700577905, 'val_accuracy': 0.8654195617316943, 'precision': 0.8679533370215227, 'recall': 0.8654195617316943, 'f1-score': 0.8655042430759049, 'macro_f1-score': 0.8615387695971135, 'balanced_accuracy': 0.8567665644620865, 'mcc': 0.834340502715998, 'train_loss': 0.21798786484780897}\n",
      "Epoch 4/20\n"
     ]
    },
    {
     "name": "stderr",
     "output_type": "stream",
     "text": [
      "100%|██████████| 3151/3151 [05:13<00:00, 10.05it/s]\n"
     ]
    },
    {
     "name": "stdout",
     "output_type": "stream",
     "text": [
      "{'val_loss': 0.4787095902821957, 'val_accuracy': 0.8689470871191876, 'precision': 0.8697098632661733, 'recall': 0.8689470871191876, 'f1-score': 0.8686602649077179, 'macro_f1-score': 0.8642275989649886, 'balanced_accuracy': 0.8524254422066178, 'mcc': 0.8385073030129171, 'train_loss': 0.15207418583409452}\n",
      "Epoch 5/20\n"
     ]
    },
    {
     "name": "stderr",
     "output_type": "stream",
     "text": [
      "100%|██████████| 3151/3151 [05:07<00:00, 10.23it/s]\n"
     ]
    },
    {
     "name": "stdout",
     "output_type": "stream",
     "text": [
      "{'val_loss': 0.4817959189550298, 'val_accuracy': 0.8628540887226083, 'precision': 0.8637888644461192, 'recall': 0.8628540887226083, 'f1-score': 0.8627825102538186, 'macro_f1-score': 0.8618928044118707, 'balanced_accuracy': 0.8606827642216133, 'mcc': 0.8317135307995629, 'train_loss': 0.1133979796746365}\n",
      "Epoch 6/20\n"
     ]
    },
    {
     "name": "stderr",
     "output_type": "stream",
     "text": [
      "100%|██████████| 3151/3151 [04:52<00:00, 10.76it/s]\n"
     ]
    },
    {
     "name": "stdout",
     "output_type": "stream",
     "text": [
      "{'val_loss': 0.5074442146958895, 'val_accuracy': 0.867129877071085, 'precision': 0.8676640711041076, 'recall': 0.867129877071085, 'f1-score': 0.8666216487654634, 'macro_f1-score': 0.8649765829857909, 'balanced_accuracy': 0.8660396951111852, 'mcc': 0.8366749196147462, 'train_loss': 0.0885732962519691}\n",
      "Epoch 7/20\n"
     ]
    },
    {
     "name": "stderr",
     "output_type": "stream",
     "text": [
      "100%|██████████| 3151/3151 [04:53<00:00, 10.73it/s]\n"
     ]
    },
    {
     "name": "stdout",
     "output_type": "stream",
     "text": [
      "{'val_loss': 0.5969917091899193, 'val_accuracy': 0.861785141635489, 'precision': 0.8636333729336542, 'recall': 0.861785141635489, 'f1-score': 0.8620851183484055, 'macro_f1-score': 0.8601498106060929, 'balanced_accuracy': 0.8463645481420309, 'mcc': 0.8295409233971252, 'train_loss': 0.0725177867242077}\n",
      "Epoch 8/20\n"
     ]
    },
    {
     "name": "stderr",
     "output_type": "stream",
     "text": [
      "100%|██████████| 3151/3151 [04:53<00:00, 10.75it/s]\n"
     ]
    },
    {
     "name": "stdout",
     "output_type": "stream",
     "text": [
      "{'val_loss': 0.5968870705682148, 'val_accuracy': 0.8521646178514164, 'precision': 0.8602049178983359, 'recall': 0.8521646178514164, 'f1-score': 0.8532142805615708, 'macro_f1-score': 0.8548539682854657, 'balanced_accuracy': 0.8465995476122186, 'mcc': 0.8195172711065742, 'train_loss': 0.06172978595836929}\n",
      "Epoch 9/20\n"
     ]
    },
    {
     "name": "stderr",
     "output_type": "stream",
     "text": [
      "100%|██████████| 3151/3151 [04:52<00:00, 10.76it/s]\n"
     ]
    },
    {
     "name": "stdout",
     "output_type": "stream",
     "text": [
      "{'val_loss': 0.6997963084349743, 'val_accuracy': 0.8560128273650455, 'precision': 0.8592725955595119, 'recall': 0.8560128273650455, 'f1-score': 0.8567881541020305, 'macro_f1-score': 0.8529834606311781, 'balanced_accuracy': 0.8468009868908729, 'mcc': 0.8225906802893531, 'train_loss': 0.05632778730164418}\n",
      "Early stopping.\n",
      "\n",
      "[Fold 2]\n",
      "🚀 Using T5-paraphraser for data augmentation + under-sampling\n",
      "Using device: cuda\n",
      "CUDA Available: True\n",
      "CUDA Device: NVIDIA GeForce RTX 5070 Ti\n",
      "Current GPU Memory Allocated: 1.81 GB\n",
      "Current GPU Memory Cached: 3.21 GB\n",
      "🔧 Augmenting label 1: 1400 → 5000 (+3600)\n",
      "🔧 Augmenting label 4: 1678 → 5000 (+3322)\n",
      "🔧 Augmenting label 6: 1737 → 5000 (+3263)\n",
      "🔧 Augmenting label 7: 2186 → 5000 (+2814)\n",
      "Label distribution after resampling:\n",
      "  label 0: 5626\n",
      "  label 1: 5000\n",
      "  label 2: 8442\n",
      "  label 3: 10770\n",
      "  label 4: 5000\n",
      "  label 5: 5578\n",
      "  label 6: 5000\n",
      "  label 7: 5000\n",
      "model is bert-base-uncased bilstm\n",
      "Using weighted CrossEntropyLoss with weights: tensor([2.1929, 2.3109, 1.7871, 1.5435, 2.3109, 2.2015, 2.3109, 2.3109],\n",
      "       device='cuda:0')\n",
      "Epoch 1/20\n"
     ]
    },
    {
     "name": "stderr",
     "output_type": "stream",
     "text": [
      "100%|██████████| 3151/3151 [04:52<00:00, 10.79it/s]\n"
     ]
    },
    {
     "name": "stdout",
     "output_type": "stream",
     "text": [
      "{'val_loss': 0.46540338151220584, 'val_accuracy': 0.8296098343132015, 'precision': 0.8352868929145091, 'recall': 0.8296098343132015, 'f1-score': 0.8297721875414429, 'macro_f1-score': 0.8263805777795141, 'balanced_accuracy': 0.8568410646335362, 'mcc': 0.7935741935865647, 'train_loss': 0.5308837037319534}\n",
      "Epoch 2/20\n"
     ]
    },
    {
     "name": "stderr",
     "output_type": "stream",
     "text": [
      "100%|██████████| 3151/3151 [04:52<00:00, 10.79it/s]\n"
     ]
    },
    {
     "name": "stdout",
     "output_type": "stream",
     "text": [
      "{'val_loss': 0.45344282075062264, 'val_accuracy': 0.842009620523784, 'precision': 0.8461170444850997, 'recall': 0.842009620523784, 'f1-score': 0.8415299477465216, 'macro_f1-score': 0.837655928369285, 'balanced_accuracy': 0.8661079114125358, 'mcc': 0.8085499007412909, 'train_loss': 0.30898552172072763}\n",
      "Epoch 3/20\n"
     ]
    },
    {
     "name": "stderr",
     "output_type": "stream",
     "text": [
      "100%|██████████| 3151/3151 [04:51<00:00, 10.79it/s]\n"
     ]
    },
    {
     "name": "stdout",
     "output_type": "stream",
     "text": [
      "{'val_loss': 0.4746009729667288, 'val_accuracy': 0.8526990913949759, 'precision': 0.8568030183852932, 'recall': 0.8526990913949759, 'f1-score': 0.8528028287259861, 'macro_f1-score': 0.8575477786355259, 'balanced_accuracy': 0.8456223105264022, 'mcc': 0.8193142758753039, 'train_loss': 0.21330965321581374}\n",
      "Epoch 4/20\n"
     ]
    },
    {
     "name": "stderr",
     "output_type": "stream",
     "text": [
      "100%|██████████| 3151/3151 [04:51<00:00, 10.79it/s]\n"
     ]
    },
    {
     "name": "stdout",
     "output_type": "stream",
     "text": [
      "{'val_loss': 0.5358438327996076, 'val_accuracy': 0.8515232495991448, 'precision': 0.8519994980553768, 'recall': 0.8515232495991448, 'f1-score': 0.8515056098568992, 'macro_f1-score': 0.8511424560695573, 'balanced_accuracy': 0.8500638421115074, 'mcc': 0.8174330269887587, 'train_loss': 0.1474489241997173}\n",
      "Epoch 5/20\n"
     ]
    },
    {
     "name": "stderr",
     "output_type": "stream",
     "text": [
      "100%|██████████| 3151/3151 [04:51<00:00, 10.80it/s]\n"
     ]
    },
    {
     "name": "stdout",
     "output_type": "stream",
     "text": [
      "{'val_loss': 0.5822517831085456, 'val_accuracy': 0.8541956173169428, 'precision': 0.8555292390731153, 'recall': 0.8541956173169428, 'f1-score': 0.8543811657750369, 'macro_f1-score': 0.8524133033149504, 'balanced_accuracy': 0.8484131236248277, 'mcc': 0.8203693818268817, 'train_loss': 0.10840799764412157}\n",
      "Epoch 6/20\n"
     ]
    },
    {
     "name": "stderr",
     "output_type": "stream",
     "text": [
      "100%|██████████| 3151/3151 [04:51<00:00, 10.81it/s]\n"
     ]
    },
    {
     "name": "stdout",
     "output_type": "stream",
     "text": [
      "{'val_loss': 0.6180052834391817, 'val_accuracy': 0.8485301977552111, 'precision': 0.8499450004794457, 'recall': 0.8485301977552111, 'f1-score': 0.8487056610772193, 'macro_f1-score': 0.8474879836054234, 'balanced_accuracy': 0.8465227208978653, 'mcc': 0.8137043934830618, 'train_loss': 0.08435910809955816}\n",
      "Early stopping.\n",
      "\n",
      "[Fold 3]\n",
      "🚀 Using T5-paraphraser for data augmentation + under-sampling\n",
      "Using device: cuda\n",
      "CUDA Available: True\n",
      "CUDA Device: NVIDIA GeForce RTX 5070 Ti\n",
      "Current GPU Memory Allocated: 1.81 GB\n",
      "Current GPU Memory Cached: 3.21 GB\n",
      "🔧 Augmenting label 1: 1399 → 5000 (+3601)\n",
      "🔧 Augmenting label 4: 1679 → 5000 (+3321)\n",
      "🔧 Augmenting label 6: 1738 → 5000 (+3262)\n",
      "🔧 Augmenting label 7: 2186 → 5000 (+2814)\n",
      "Label distribution after resampling:\n",
      "  label 0: 5626\n",
      "  label 1: 5000\n",
      "  label 2: 8442\n",
      "  label 3: 10770\n",
      "  label 4: 5000\n",
      "  label 5: 5578\n",
      "  label 6: 5000\n",
      "  label 7: 5000\n",
      "model is bert-base-uncased bilstm\n",
      "Using weighted CrossEntropyLoss with weights: tensor([2.1929, 2.3109, 1.7871, 1.5435, 2.3109, 2.2015, 2.3109, 2.3109],\n",
      "       device='cuda:0')\n",
      "Epoch 1/20\n"
     ]
    },
    {
     "name": "stderr",
     "output_type": "stream",
     "text": [
      "100%|██████████| 3151/3151 [04:51<00:00, 10.79it/s]\n"
     ]
    },
    {
     "name": "stdout",
     "output_type": "stream",
     "text": [
      "{'val_loss': 0.47516846483270836, 'val_accuracy': 0.8407098567457773, 'precision': 0.8480351819014537, 'recall': 0.8407098567457773, 'f1-score': 0.840175101749447, 'macro_f1-score': 0.8479611549842031, 'balanced_accuracy': 0.844886224298857, 'mcc': 0.8067178060370145, 'train_loss': 0.527003953388828}\n",
      "Epoch 2/20\n"
     ]
    },
    {
     "name": "stderr",
     "output_type": "stream",
     "text": [
      "100%|██████████| 3151/3151 [04:51<00:00, 10.80it/s]\n"
     ]
    },
    {
     "name": "stdout",
     "output_type": "stream",
     "text": [
      "{'val_loss': 0.42562188864964196, 'val_accuracy': 0.8546076544793672, 'precision': 0.863360678002836, 'recall': 0.8546076544793672, 'f1-score': 0.8556462830285292, 'macro_f1-score': 0.8548436659462011, 'balanced_accuracy': 0.8543139224134731, 'mcc': 0.8221409918980458, 'train_loss': 0.30703744837811486}\n",
      "Epoch 3/20\n"
     ]
    },
    {
     "name": "stderr",
     "output_type": "stream",
     "text": [
      "100%|██████████| 3151/3151 [04:52<00:00, 10.79it/s]\n"
     ]
    },
    {
     "name": "stdout",
     "output_type": "stream",
     "text": [
      "{'val_loss': 0.4386568311601877, 'val_accuracy': 0.8655120803934145, 'precision': 0.8660623060415731, 'recall': 0.8655120803934145, 'f1-score': 0.8650128968617214, 'macro_f1-score': 0.8623563106605343, 'balanced_accuracy': 0.8646525088911268, 'mcc': 0.8351855103033136, 'train_loss': 0.21794203138280388}\n",
      "Epoch 4/20\n"
     ]
    },
    {
     "name": "stderr",
     "output_type": "stream",
     "text": [
      "100%|██████████| 3151/3151 [04:51<00:00, 10.79it/s]\n"
     ]
    },
    {
     "name": "stdout",
     "output_type": "stream",
     "text": [
      "{'val_loss': 0.4856025269549563, 'val_accuracy': 0.8585631815266196, 'precision': 0.8599029903282442, 'recall': 0.8585631815266196, 'f1-score': 0.8583862142796144, 'macro_f1-score': 0.8496337440954167, 'balanced_accuracy': 0.8670925507525495, 'mcc': 0.8267685097816828, 'train_loss': 0.15373735426372714}\n",
      "Epoch 5/20\n"
     ]
    },
    {
     "name": "stderr",
     "output_type": "stream",
     "text": [
      "100%|██████████| 3151/3151 [04:52<00:00, 10.79it/s]\n"
     ]
    },
    {
     "name": "stdout",
     "output_type": "stream",
     "text": [
      "{'val_loss': 0.5361732641549415, 'val_accuracy': 0.8649775497113534, 'precision': 0.8668609933066773, 'recall': 0.8649775497113534, 'f1-score': 0.8653867166448209, 'macro_f1-score': 0.8580762938896965, 'balanced_accuracy': 0.8562181177089351, 'mcc': 0.8339699975506106, 'train_loss': 0.11482846210641247}\n",
      "Epoch 6/20\n"
     ]
    },
    {
     "name": "stderr",
     "output_type": "stream",
     "text": [
      "100%|██████████| 3151/3151 [04:51<00:00, 10.79it/s]\n"
     ]
    },
    {
     "name": "stdout",
     "output_type": "stream",
     "text": [
      "{'val_loss': 0.559888644528408, 'val_accuracy': 0.8518280949326491, 'precision': 0.8561257935701454, 'recall': 0.8518280949326491, 'f1-score': 0.8523923900942048, 'macro_f1-score': 0.8423246485566205, 'balanced_accuracy': 0.8616441320548781, 'mcc': 0.8191866690708982, 'train_loss': 0.09270541173505255}\n",
      "Early stopping.\n",
      "\n",
      "[Fold 4]\n",
      "🚀 Using T5-paraphraser for data augmentation + under-sampling\n",
      "Using device: cuda\n",
      "CUDA Available: True\n",
      "CUDA Device: NVIDIA GeForce RTX 5070 Ti\n",
      "Current GPU Memory Allocated: 1.81 GB\n",
      "Current GPU Memory Cached: 3.21 GB\n",
      "🔧 Augmenting label 1: 1399 → 5000 (+3601)\n",
      "🔧 Augmenting label 4: 1679 → 5000 (+3321)\n",
      "🔧 Augmenting label 6: 1738 → 5000 (+3262)\n",
      "🔧 Augmenting label 7: 2186 → 5000 (+2814)\n",
      "Label distribution after resampling:\n",
      "  label 0: 5625\n",
      "  label 1: 5000\n",
      "  label 2: 8441\n",
      "  label 3: 10771\n",
      "  label 4: 5000\n",
      "  label 5: 5579\n",
      "  label 6: 5000\n",
      "  label 7: 5000\n",
      "model is bert-base-uncased bilstm\n",
      "Using weighted CrossEntropyLoss with weights: tensor([2.1931, 2.3109, 1.7872, 1.5435, 2.3109, 2.2013, 2.3109, 2.3109],\n",
      "       device='cuda:0')\n",
      "Epoch 1/20\n"
     ]
    },
    {
     "name": "stderr",
     "output_type": "stream",
     "text": [
      "100%|██████████| 3151/3151 [05:14<00:00, 10.03it/s]\n"
     ]
    },
    {
     "name": "stdout",
     "output_type": "stream",
     "text": [
      "{'val_loss': 0.4256170635422071, 'val_accuracy': 0.8569595894804362, 'precision': 0.8604620068924029, 'recall': 0.8569595894804362, 'f1-score': 0.8574962290313, 'macro_f1-score': 0.8598270325941173, 'balanced_accuracy': 0.8462712483865942, 'mcc': 0.8236354602727564, 'train_loss': 0.5253107475535959}\n",
      "Epoch 2/20\n"
     ]
    },
    {
     "name": "stderr",
     "output_type": "stream",
     "text": [
      "100%|██████████| 3151/3151 [05:13<00:00, 10.05it/s]\n"
     ]
    },
    {
     "name": "stdout",
     "output_type": "stream",
     "text": [
      "{'val_loss': 0.4312111723977022, 'val_accuracy': 0.8644430190292923, 'precision': 0.8657806239227387, 'recall': 0.8644430190292923, 'f1-score': 0.8644730422892395, 'macro_f1-score': 0.8629019127367534, 'balanced_accuracy': 0.8516187748458157, 'mcc': 0.8327530071796074, 'train_loss': 0.30371407223691005}\n",
      "Epoch 3/20\n"
     ]
    },
    {
     "name": "stderr",
     "output_type": "stream",
     "text": [
      "100%|██████████| 3151/3151 [05:14<00:00, 10.03it/s]\n"
     ]
    },
    {
     "name": "stdout",
     "output_type": "stream",
     "text": [
      "{'val_loss': 0.4095602016657209, 'val_accuracy': 0.8636946760744066, 'precision': 0.863574682801046, 'recall': 0.8636946760744066, 'f1-score': 0.8634835685957105, 'macro_f1-score': 0.8642098551436778, 'balanced_accuracy': 0.8660943367565835, 'mcc': 0.8325296382442173, 'train_loss': 0.22009995739250282}\n",
      "Epoch 4/20\n"
     ]
    },
    {
     "name": "stderr",
     "output_type": "stream",
     "text": [
      "100%|██████████| 3151/3151 [05:13<00:00, 10.05it/s]\n"
     ]
    },
    {
     "name": "stdout",
     "output_type": "stream",
     "text": [
      "{'val_loss': 0.47637232686353165, 'val_accuracy': 0.8524695317511225, 'precision': 0.858921884625048, 'recall': 0.8524695317511225, 'f1-score': 0.8534265153675693, 'macro_f1-score': 0.8582440119470198, 'balanced_accuracy': 0.8543002366500072, 'mcc': 0.8199658257218607, 'train_loss': 0.15518384818092607}\n",
      "Epoch 5/20\n"
     ]
    },
    {
     "name": "stderr",
     "output_type": "stream",
     "text": [
      "100%|██████████| 3151/3151 [05:13<00:00, 10.04it/s]\n"
     ]
    },
    {
     "name": "stdout",
     "output_type": "stream",
     "text": [
      "{'val_loss': 0.5346825867875391, 'val_accuracy': 0.8549283728886038, 'precision': 0.8562831729784742, 'recall': 0.8549283728886038, 'f1-score': 0.8548557173791251, 'macro_f1-score': 0.8539831356342142, 'balanced_accuracy': 0.8513692511164979, 'mcc': 0.8216708856450292, 'train_loss': 0.11372980024217519}\n",
      "Epoch 6/20\n"
     ]
    },
    {
     "name": "stderr",
     "output_type": "stream",
     "text": [
      "100%|██████████| 3151/3151 [05:13<00:00, 10.04it/s]\n"
     ]
    },
    {
     "name": "stdout",
     "output_type": "stream",
     "text": [
      "{'val_loss': 0.5364383006173894, 'val_accuracy': 0.8607013042548642, 'precision': 0.8609493366586419, 'recall': 0.8607013042548642, 'f1-score': 0.8605083521550502, 'macro_f1-score': 0.8601974608646901, 'balanced_accuracy': 0.8530731525269482, 'mcc': 0.8282300611299409, 'train_loss': 0.09397366322227939}\n",
      "Early stopping.\n",
      "\n",
      "[Fold 5]\n",
      "🚀 Using T5-paraphraser for data augmentation + under-sampling\n",
      "Using device: cuda\n",
      "CUDA Available: True\n",
      "CUDA Device: NVIDIA GeForce RTX 5070 Ti\n",
      "Current GPU Memory Allocated: 1.81 GB\n",
      "Current GPU Memory Cached: 3.21 GB\n",
      "🔧 Augmenting label 1: 1399 → 5000 (+3601)\n",
      "🔧 Augmenting label 4: 1678 → 5000 (+3322)\n",
      "🔧 Augmenting label 6: 1738 → 5000 (+3262)\n",
      "🔧 Augmenting label 7: 2187 → 5000 (+2813)\n",
      "Label distribution after resampling:\n",
      "  label 0: 5625\n",
      "  label 1: 5000\n",
      "  label 2: 8441\n",
      "  label 3: 10771\n",
      "  label 4: 5000\n",
      "  label 5: 5579\n",
      "  label 6: 5000\n",
      "  label 7: 5000\n",
      "model is bert-base-uncased bilstm\n",
      "Using weighted CrossEntropyLoss with weights: tensor([2.1931, 2.3109, 1.7872, 1.5435, 2.3109, 2.2013, 2.3109, 2.3109],\n",
      "       device='cuda:0')\n",
      "Epoch 1/20\n"
     ]
    },
    {
     "name": "stderr",
     "output_type": "stream",
     "text": [
      "100%|██████████| 3151/3151 [04:52<00:00, 10.78it/s]\n"
     ]
    },
    {
     "name": "stdout",
     "output_type": "stream",
     "text": [
      "{'val_loss': 0.4472814814752748, 'val_accuracy': 0.8476587556125722, 'precision': 0.8522348829518481, 'recall': 0.8476587556125722, 'f1-score': 0.8480418808275214, 'macro_f1-score': 0.8425813065534482, 'balanced_accuracy': 0.863299797087252, 'mcc': 0.8143664772537363, 'train_loss': 0.526633874608085}\n",
      "Epoch 2/20\n"
     ]
    },
    {
     "name": "stderr",
     "output_type": "stream",
     "text": [
      "100%|██████████| 3151/3151 [04:52<00:00, 10.79it/s]\n"
     ]
    },
    {
     "name": "stdout",
     "output_type": "stream",
     "text": [
      "{'val_loss': 0.5113812613340779, 'val_accuracy': 0.8402822322001283, 'precision': 0.849581056269691, 'recall': 0.8402822322001283, 'f1-score': 0.8402107379425521, 'macro_f1-score': 0.8457779702797936, 'balanced_accuracy': 0.8310710973944412, 'mcc': 0.8059493984111022, 'train_loss': 0.310354408135053}\n",
      "Epoch 3/20\n"
     ]
    },
    {
     "name": "stderr",
     "output_type": "stream",
     "text": [
      "100%|██████████| 3151/3151 [04:52<00:00, 10.77it/s]\n"
     ]
    },
    {
     "name": "stdout",
     "output_type": "stream",
     "text": [
      "{'val_loss': 0.46830429630433645, 'val_accuracy': 0.852255719478298, 'precision': 0.8571556793573795, 'recall': 0.852255719478298, 'f1-score': 0.8523028485543662, 'macro_f1-score': 0.8512320587663074, 'balanced_accuracy': 0.8554956934266268, 'mcc': 0.8185008568802361, 'train_loss': 0.2230335675772269}\n",
      "Epoch 4/20\n"
     ]
    },
    {
     "name": "stderr",
     "output_type": "stream",
     "text": [
      "100%|██████████| 3151/3151 [04:52<00:00, 10.78it/s]\n"
     ]
    },
    {
     "name": "stdout",
     "output_type": "stream",
     "text": [
      "{'val_loss': 0.5290047374912179, 'val_accuracy': 0.8518280949326491, 'precision': 0.8569091447599285, 'recall': 0.8518280949326491, 'f1-score': 0.8516698498873314, 'macro_f1-score': 0.8522671713987413, 'balanced_accuracy': 0.8629936880582497, 'mcc': 0.819620109897646, 'train_loss': 0.16256966044720214}\n",
      "Epoch 5/20\n"
     ]
    },
    {
     "name": "stderr",
     "output_type": "stream",
     "text": [
      "100%|██████████| 3151/3151 [04:52<00:00, 10.76it/s]\n"
     ]
    },
    {
     "name": "stdout",
     "output_type": "stream",
     "text": [
      "{'val_loss': 0.5872149776114135, 'val_accuracy': 0.851293564250588, 'precision': 0.8563256741585656, 'recall': 0.851293564250588, 'f1-score': 0.8512371864506405, 'macro_f1-score': 0.8461763943543776, 'balanced_accuracy': 0.8598717596185328, 'mcc': 0.8178349991244035, 'train_loss': 0.12171120581811785}\n",
      "Epoch 6/20\n"
     ]
    },
    {
     "name": "stderr",
     "output_type": "stream",
     "text": [
      "100%|██████████| 3151/3151 [04:52<00:00, 10.78it/s]\n"
     ]
    },
    {
     "name": "stdout",
     "output_type": "stream",
     "text": [
      "{'val_loss': 0.6183982624294252, 'val_accuracy': 0.8579217447081462, 'precision': 0.8596607417134616, 'recall': 0.8579217447081462, 'f1-score': 0.8580366133093726, 'macro_f1-score': 0.8593771366378149, 'balanced_accuracy': 0.8528083168933727, 'mcc': 0.8249985566925171, 'train_loss': 0.09900589009413809}\n",
      "Epoch 7/20\n"
     ]
    },
    {
     "name": "stderr",
     "output_type": "stream",
     "text": [
      "100%|██████████| 3151/3151 [04:52<00:00, 10.77it/s]\n"
     ]
    },
    {
     "name": "stdout",
     "output_type": "stream",
     "text": [
      "{'val_loss': 0.5931706730742008, 'val_accuracy': 0.8607013042548642, 'precision': 0.8616582496037188, 'recall': 0.8607013042548642, 'f1-score': 0.8607045964382632, 'macro_f1-score': 0.8623340046238698, 'balanced_accuracy': 0.8589503313862761, 'mcc': 0.8286245598159234, 'train_loss': 0.08484142304288612}\n",
      "Epoch 8/20\n"
     ]
    },
    {
     "name": "stderr",
     "output_type": "stream",
     "text": [
      "100%|██████████| 3151/3151 [04:52<00:00, 10.76it/s]\n"
     ]
    },
    {
     "name": "stdout",
     "output_type": "stream",
     "text": [
      "{'val_loss': 0.6511327276705828, 'val_accuracy': 0.8534316869788325, 'precision': 0.854773772533412, 'recall': 0.8534316869788325, 'f1-score': 0.852853796829955, 'macro_f1-score': 0.850182886809809, 'balanced_accuracy': 0.8495271165387352, 'mcc': 0.8206807399698636, 'train_loss': 0.07175891074454749}\n",
      "Epoch 9/20\n"
     ]
    },
    {
     "name": "stderr",
     "output_type": "stream",
     "text": [
      "100%|██████████| 3151/3151 [04:52<00:00, 10.77it/s]\n"
     ]
    },
    {
     "name": "stdout",
     "output_type": "stream",
     "text": [
      "{'val_loss': 0.6122200992625032, 'val_accuracy': 0.8588838999358563, 'precision': 0.8599677369557918, 'recall': 0.8588838999358563, 'f1-score': 0.858998243637293, 'macro_f1-score': 0.8571611431083607, 'balanced_accuracy': 0.8600070578354108, 'mcc': 0.8267690026202579, 'train_loss': 0.062235238346908084}\n",
      "Epoch 10/20\n"
     ]
    },
    {
     "name": "stderr",
     "output_type": "stream",
     "text": [
      "100%|██████████| 3151/3151 [04:52<00:00, 10.79it/s]\n"
     ]
    },
    {
     "name": "stdout",
     "output_type": "stream",
     "text": [
      "{'val_loss': 0.7240567984598745, 'val_accuracy': 0.8496899722044046, 'precision': 0.8506467646012661, 'recall': 0.8496899722044046, 'f1-score': 0.8495588235676984, 'macro_f1-score': 0.8500736771252033, 'balanced_accuracy': 0.8538264232426938, 'mcc': 0.8156264875298296, 'train_loss': 0.059317176454788165}\n",
      "Early stopping.\n",
      "\n",
      " === bert-base-uncased + bilstm + t5 Final 5-fold Cross-Validation Results ===\n",
      "val_loss: 0.4847\n",
      "val_accuracy: 0.8619\n",
      "precision: 0.8632\n",
      "recall: 0.8619\n",
      "f1-score: 0.8617\n",
      "macro_f1-score: 0.8623\n",
      "balanced_accuracy: 0.8603\n",
      "mcc: 0.8305\n",
      "train_loss: 0.1650\n",
      "total_seconds: 32607.0000\n",
      "total_time: 9 hrs 3 mins 27 secs\n"
     ]
    }
   ],
   "source": [
    "model_list = [\"bert-base-uncased\"]\n",
    "hybrid_list = [None, \"cnn\", \"lstm\", \"bilstm\"]\n",
    "resample_list = [\"t5\"]\n",
    "\n",
    "all_experiment_result = {}\n",
    "\n",
    "for model_name in model_list:\n",
    "    for hybrid_type in hybrid_list:\n",
    "        for resample_method in resample_list:\n",
    "            results = run_kfold_experiment(\n",
    "                X=messages, y=labels, model_name=model_name, hybrid_type=hybrid_type, resample_method=resample_method,\n",
    "                kfold=KFOLD_SPLIT, seed=SEED, epochs=EPOCHS, patience=PATIENCE, max_length=MAX_LENGTH, \n",
    "                batch_size=BATCH_SIZE, lr=LR, weight_decay=WEIGHT_DECAY, upper_cap=UPPER_CAP, lower_cap=LOWER_CAP, use_weighted_loss= USE_WEIGHTED_LOSS\n",
    "            )\n",
    "\n",
    "            key = f\"{model_name} {hybrid_type if hybrid_type else 'None'} {resample_method}\"\n",
    "            all_experiment_result[key] = results"
   ]
  },
  {
   "cell_type": "code",
   "execution_count": 5,
   "id": "d799ebb4-be3b-4b29-9238-6c2a2f8256ae",
   "metadata": {
    "scrolled": true
   },
   "outputs": [
    {
     "data": {
      "text/plain": [
       "{'bert-base-uncased None t5': {'val_loss': 0.45696485792684693,\n",
       "  'val_accuracy': 0.863529456668846,\n",
       "  'precision': 0.8648173133775033,\n",
       "  'recall': 0.863529456668846,\n",
       "  'f1-score': 0.8634173544559026,\n",
       "  'macro_f1-score': 0.8638099851547452,\n",
       "  'balanced_accuracy': 0.8615911773656869,\n",
       "  'mcc': 0.8323132363785511,\n",
       "  'train_loss': 0.2043130852996204,\n",
       "  'total_seconds': 23095,\n",
       "  'total_time': '6 hrs 24 mins 55 secs'},\n",
       " 'bert-base-uncased cnn t5': {'val_loss': 0.47288766240311036,\n",
       "  'val_accuracy': 0.865026179147258,\n",
       "  'precision': 0.8661305494566689,\n",
       "  'recall': 0.865026179147258,\n",
       "  'f1-score': 0.8650675337652854,\n",
       "  'macro_f1-score': 0.8631877345201392,\n",
       "  'balanced_accuracy': 0.8594964693326596,\n",
       "  'mcc': 0.833947323467892,\n",
       "  'train_loss': 0.1740608634765703,\n",
       "  'total_seconds': 25037,\n",
       "  'total_time': '6 hrs 57 mins 17 secs'},\n",
       " 'bert-base-uncased lstm t5': {'val_loss': 0.4510271990440117,\n",
       "  'val_accuracy': 0.8621184030885874,\n",
       "  'precision': 0.8641575540909058,\n",
       "  'recall': 0.8621184030885874,\n",
       "  'f1-score': 0.8621190821797244,\n",
       "  'macro_f1-score': 0.8605699293031297,\n",
       "  'balanced_accuracy': 0.8583582091442189,\n",
       "  'mcc': 0.8305427791948699,\n",
       "  'train_loss': 0.2238605826365741,\n",
       "  'total_seconds': 27675,\n",
       "  'total_time': '7 hrs 41 mins 15 secs'},\n",
       " 'bert-base-uncased bilstm t5': {'val_loss': 0.48468657871254556,\n",
       "  'val_accuracy': 0.8619474058377493,\n",
       "  'precision': 0.8631524655871476,\n",
       "  'recall': 0.8619474058377493,\n",
       "  'f1-score': 0.861725107877429,\n",
       "  'macro_f1-score': 0.8622849064098798,\n",
       "  'balanced_accuracy': 0.8602718365343147,\n",
       "  'mcc': 0.830465780770701,\n",
       "  'train_loss': 0.1649532722571951,\n",
       "  'total_seconds': 32607,\n",
       "  'total_time': '9 hrs 3 mins 27 secs'}}"
      ]
     },
     "execution_count": 5,
     "metadata": {},
     "output_type": "execute_result"
    }
   ],
   "source": [
    "all_experiment_result"
   ]
  },
  {
   "cell_type": "code",
   "execution_count": null,
   "id": "4c76be6b-d968-4157-84bb-f30fee2dc83b",
   "metadata": {},
   "outputs": [],
   "source": []
  }
 ],
 "metadata": {
  "kernelspec": {
   "display_name": "Python 3 (ipykernel)",
   "language": "python",
   "name": "python3"
  },
  "language_info": {
   "codemirror_mode": {
    "name": "ipython",
    "version": 3
   },
   "file_extension": ".py",
   "mimetype": "text/x-python",
   "name": "python",
   "nbconvert_exporter": "python",
   "pygments_lexer": "ipython3",
   "version": "3.11.9"
  }
 },
 "nbformat": 4,
 "nbformat_minor": 5
}
