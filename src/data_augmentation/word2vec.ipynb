{
 "cells": [
  {
   "cell_type": "code",
   "execution_count": 1,
   "id": "6d3d22ce-b62a-4d78-80ea-e83dd66761de",
   "metadata": {},
   "outputs": [
    {
     "data": {
      "text/html": [
       "<div>\n",
       "<style scoped>\n",
       "    .dataframe tbody tr th:only-of-type {\n",
       "        vertical-align: middle;\n",
       "    }\n",
       "\n",
       "    .dataframe tbody tr th {\n",
       "        vertical-align: top;\n",
       "    }\n",
       "\n",
       "    .dataframe thead th {\n",
       "        text-align: right;\n",
       "    }\n",
       "</style>\n",
       "<table border=\"1\" class=\"dataframe\">\n",
       "  <thead>\n",
       "    <tr style=\"text-align: right;\">\n",
       "      <th></th>\n",
       "      <th>Inbound Message</th>\n",
       "      <th>Label</th>\n",
       "    </tr>\n",
       "  </thead>\n",
       "  <tbody>\n",
       "    <tr>\n",
       "      <th>0</th>\n",
       "      <td>login issue verified user details employee man...</td>\n",
       "      <td>0</td>\n",
       "    </tr>\n",
       "    <tr>\n",
       "      <th>1</th>\n",
       "      <td>outlook hello team meetings skype meetings etc...</td>\n",
       "      <td>0</td>\n",
       "    </tr>\n",
       "    <tr>\n",
       "      <th>2</th>\n",
       "      <td>cant log vpn cannot log vpn best</td>\n",
       "      <td>0</td>\n",
       "    </tr>\n",
       "    <tr>\n",
       "      <th>3</th>\n",
       "      <td>unable access tool page unable access tool page</td>\n",
       "      <td>0</td>\n",
       "    </tr>\n",
       "    <tr>\n",
       "      <th>4</th>\n",
       "      <td>skype error skype error</td>\n",
       "      <td>0</td>\n",
       "    </tr>\n",
       "    <tr>\n",
       "      <th>...</th>\n",
       "      <td>...</td>\n",
       "      <td>...</td>\n",
       "    </tr>\n",
       "    <tr>\n",
       "      <th>8449</th>\n",
       "      <td>emails coming mail good afternoon receiving em...</td>\n",
       "      <td>22</td>\n",
       "    </tr>\n",
       "    <tr>\n",
       "      <th>8450</th>\n",
       "      <td>telephony software issue telephony software issue</td>\n",
       "      <td>0</td>\n",
       "    </tr>\n",
       "    <tr>\n",
       "      <th>8451</th>\n",
       "      <td>vip windows password reset tifpdchb pedxruyf v...</td>\n",
       "      <td>0</td>\n",
       "    </tr>\n",
       "    <tr>\n",
       "      <th>8452</th>\n",
       "      <td>machine est funcionando unable access machine ...</td>\n",
       "      <td>44</td>\n",
       "    </tr>\n",
       "    <tr>\n",
       "      <th>8453</th>\n",
       "      <td>mehreren lassen sich verschiedene prgramdntyme...</td>\n",
       "      <td>49</td>\n",
       "    </tr>\n",
       "  </tbody>\n",
       "</table>\n",
       "<p>8454 rows × 2 columns</p>\n",
       "</div>"
      ],
      "text/plain": [
       "                                        Inbound Message  Label\n",
       "0     login issue verified user details employee man...      0\n",
       "1     outlook hello team meetings skype meetings etc...      0\n",
       "2                      cant log vpn cannot log vpn best      0\n",
       "3       unable access tool page unable access tool page      0\n",
       "4                               skype error skype error      0\n",
       "...                                                 ...    ...\n",
       "8449  emails coming mail good afternoon receiving em...     22\n",
       "8450  telephony software issue telephony software issue      0\n",
       "8451  vip windows password reset tifpdchb pedxruyf v...      0\n",
       "8452  machine est funcionando unable access machine ...     44\n",
       "8453  mehreren lassen sich verschiedene prgramdntyme...     49\n",
       "\n",
       "[8454 rows x 2 columns]"
      ]
     },
     "execution_count": 1,
     "metadata": {},
     "output_type": "execute_result"
    }
   ],
   "source": [
    "import pandas as pd\n",
    "data_path = \"../../data/open_source_8454_combine_short_description.csv\"\n",
    "df = pd.read_csv(data_path)\n",
    "# df_label_0 = df[df[\"Label\"] == 0]\n",
    "# df_label_0_to_drop = df_label_0.sample(n=3000, random_state=42)\n",
    "# df = df.drop(df_label_0_to_drop.index)\n",
    "df"
   ]
  },
  {
   "cell_type": "code",
   "execution_count": 6,
   "id": "1af60538-ab8c-4ef6-92b4-02a8407ae439",
   "metadata": {},
   "outputs": [
    {
     "name": "stdout",
     "output_type": "stream",
     "text": [
      "Label\n",
      "0     3974\n",
      "47     661\n",
      "17     289\n",
      "4      257\n",
      "48     252\n",
      "12     241\n",
      "11     215\n",
      "23     200\n",
      "42     184\n",
      "5      145\n",
      "2      140\n",
      "39     129\n",
      "6      118\n",
      "18     116\n",
      "26     107\n",
      "31     100\n",
      "22      97\n",
      "10      88\n",
      "49      87\n",
      "8       85\n",
      "9       81\n",
      "46      68\n",
      "25      63\n",
      "27      61\n",
      "19      56\n",
      "32      45\n",
      "21      44\n",
      "33      40\n",
      "7       39\n",
      "34      37\n",
      "13      36\n",
      "36      35\n",
      "1       31\n",
      "15      31\n",
      "3       30\n",
      "14      29\n",
      "37      27\n",
      "44      25\n",
      "16      25\n",
      "43      20\n",
      "24      20\n",
      "30      19\n",
      "20      18\n",
      "29      16\n",
      "35      15\n",
      "28      15\n",
      "40      14\n",
      "41      11\n",
      "45      11\n",
      "38       7\n",
      "Name: count, dtype: int64\n"
     ]
    }
   ],
   "source": [
    "label_counts = df['Label'].value_counts().sort_values(ascending=False)\n",
    "print(label_counts)"
   ]
  },
  {
   "cell_type": "code",
   "execution_count": 7,
   "id": "d7661199-78d0-4270-bec8-bbbb885813c7",
   "metadata": {},
   "outputs": [
    {
     "name": "stdout",
     "output_type": "stream",
     "text": [
      "Label 出現次數的統計資訊：\n",
      "總類別數：50\n",
      "最多出現次數（眾數）：11\n",
      "平均出現次數：169.08\n",
      "中位數：50.5\n",
      "標準差：560.08\n",
      "最少出現次數：7\n",
      "最多出現次數：3974\n"
     ]
    }
   ],
   "source": [
    "mode = label_counts.mode().values[0]             # 眾數（出現次數最多的 label 數量）\n",
    "mean = label_counts.mean()                       # 平均數\n",
    "median = label_counts.median()                   # 中位數\n",
    "std_dev = label_counts.std()                     # 標準差\n",
    "min_count = label_counts.min()                   # 最小值\n",
    "max_count = label_counts.max()                   # 最大值\n",
    "print(f\"Label 出現次數的統計資訊：\")\n",
    "print(f\"總類別數：{len(label_counts)}\")\n",
    "print(f\"最多出現次數（眾數）：{mode}\")\n",
    "print(f\"平均出現次數：{mean:.2f}\")\n",
    "print(f\"中位數：{median}\")\n",
    "print(f\"標準差：{std_dev:.2f}\")\n",
    "print(f\"最少出現次數：{min_count}\")\n",
    "print(f\"最多出現次數：{max_count}\")"
   ]
  },
  {
   "cell_type": "code",
   "execution_count": null,
   "id": "08a69f98-c320-4385-b886-403e1bcb6b59",
   "metadata": {},
   "outputs": [],
   "source": []
  },
  {
   "cell_type": "code",
   "execution_count": null,
   "id": "992de4b8-9d45-4bf8-bcaf-1470736866be",
   "metadata": {},
   "outputs": [],
   "source": []
  },
  {
   "cell_type": "code",
   "execution_count": null,
   "id": "cdcc98f0-7759-4add-9fe8-86b07922ef64",
   "metadata": {},
   "outputs": [],
   "source": []
  },
  {
   "cell_type": "code",
   "execution_count": 3,
   "id": "4c10800d-b074-4fad-a340-b21ff37a7db1",
   "metadata": {},
   "outputs": [],
   "source": [
    "from gensim.models import Word2Vec\n",
    "import random\n",
    "\n",
    "# 讀取資料集\n",
    "raw_data = df\n",
    "\n",
    "# 處理文本，將每個文本轉換為詞彙列表\n",
    "corpus = [text.split() for text in raw_data['Inbound Message']]\n",
    "\n",
    "# 訓練Word2Vec模型\n",
    "model = Word2Vec(corpus, vector_size=100, window=5, min_count=1, sg=0)\n",
    "\n",
    "random_words = 3\n",
    "\n",
    "# 定義替換詞函數，隨機挑選random_words個詞並替換\n",
    "def replace_random_words(text, model, num_replacements=random_words):\n",
    "    words = text.split()\n",
    "    replaced_text = []\n",
    "    replaced_indices = random.sample(range(len(words)), min(num_replacements, len(words)))\n",
    "    for i, word in enumerate(words):\n",
    "        if i in replaced_indices:\n",
    "            similar_words = model.wv.most_similar(word, topn=1)\n",
    "            if similar_words:\n",
    "                replaced_text.append(similar_words[0][0])  # 取相近詞中的第一個詞替換原詞\n",
    "            else:\n",
    "                replaced_text.append(word)\n",
    "        else:\n",
    "            replaced_text.append(word)\n",
    "    return ' '.join(replaced_text)\n",
    "\n"
   ]
  },
  {
   "cell_type": "code",
   "execution_count": 4,
   "id": "4142d96a-b010-45c7-b988-0d5d0d9f8056",
   "metadata": {},
   "outputs": [
    {
     "data": {
      "text/plain": [
       "'login issue verified advised details employee using name checked user name reset password advised user login check caller confirmed able login issue able'"
      ]
     },
     "execution_count": 4,
     "metadata": {},
     "output_type": "execute_result"
    }
   ],
   "source": [
    "try_text = \"login issue verified user details employee manager name checked user name reset password advised user login check caller confirmed able login issue resolved\"\n",
    "\n",
    "replaced_texts = replace_random_words(try_text, model)\n",
    "replaced_texts"
   ]
  },
  {
   "cell_type": "code",
   "execution_count": null,
   "id": "7f3ae8da-14a6-4fcb-a906-9c34c64a4b75",
   "metadata": {},
   "outputs": [],
   "source": []
  },
  {
   "cell_type": "code",
   "execution_count": null,
   "id": "fbba4248-1976-4046-9dab-1fb9187c0938",
   "metadata": {},
   "outputs": [],
   "source": [
    "# 對每個文本進行詞彙替換\n",
    "replaced_texts = [replace_random_words(text, model) for text in raw_data['TEXT']]\n",
    "\n",
    "# 創建替換後的新資料集\n",
    "replaced_data = raw_data.copy()\n",
    "replaced_data.drop(columns=['TEXT'])\n",
    "replaced_data['TEXT'] = replaced_texts\n",
    "\n",
    "# 保存新資料集\n",
    "replaced_data.to_csv('data_augmentation' + '_random_' + str(random_words) + '_words' + '.csv', index=False)"
   ]
  }
 ],
 "metadata": {
  "kernelspec": {
   "display_name": "Python 3 (ipykernel)",
   "language": "python",
   "name": "python3"
  },
  "language_info": {
   "codemirror_mode": {
    "name": "ipython",
    "version": 3
   },
   "file_extension": ".py",
   "mimetype": "text/x-python",
   "name": "python",
   "nbconvert_exporter": "python",
   "pygments_lexer": "ipython3",
   "version": "3.11.9"
  }
 },
 "nbformat": 4,
 "nbformat_minor": 5
}
