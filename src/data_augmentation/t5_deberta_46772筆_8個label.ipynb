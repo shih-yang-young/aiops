{
 "cells": [
  {
   "cell_type": "code",
   "execution_count": 1,
   "id": "f22f4841-9a9d-4a63-b896-560594d666d8",
   "metadata": {},
   "outputs": [
    {
     "data": {
      "text/html": [
       "<div>\n",
       "<style scoped>\n",
       "    .dataframe tbody tr th:only-of-type {\n",
       "        vertical-align: middle;\n",
       "    }\n",
       "\n",
       "    .dataframe tbody tr th {\n",
       "        vertical-align: top;\n",
       "    }\n",
       "\n",
       "    .dataframe thead th {\n",
       "        text-align: right;\n",
       "    }\n",
       "</style>\n",
       "<table border=\"1\" class=\"dataframe\">\n",
       "  <thead>\n",
       "    <tr style=\"text-align: right;\">\n",
       "      <th></th>\n",
       "      <th>Inbound Message</th>\n",
       "      <th>Label</th>\n",
       "    </tr>\n",
       "  </thead>\n",
       "  <tbody>\n",
       "    <tr>\n",
       "      <th>0</th>\n",
       "      <td>connection icon icon dear please setup icon pe...</td>\n",
       "      <td>3</td>\n",
       "    </tr>\n",
       "    <tr>\n",
       "      <th>1</th>\n",
       "      <td>work experience user work experience user work...</td>\n",
       "      <td>0</td>\n",
       "    </tr>\n",
       "    <tr>\n",
       "      <th>2</th>\n",
       "      <td>requesting meeting requesting meeting please h...</td>\n",
       "      <td>3</td>\n",
       "    </tr>\n",
       "    <tr>\n",
       "      <th>3</th>\n",
       "      <td>reset passwords external accounts expire days ...</td>\n",
       "      <td>0</td>\n",
       "    </tr>\n",
       "    <tr>\n",
       "      <th>4</th>\n",
       "      <td>mail verification warning got attached please ...</td>\n",
       "      <td>5</td>\n",
       "    </tr>\n",
       "    <tr>\n",
       "      <th>...</th>\n",
       "      <td>...</td>\n",
       "      <td>...</td>\n",
       "    </tr>\n",
       "    <tr>\n",
       "      <th>46767</th>\n",
       "      <td>git space project issues adding users sent git...</td>\n",
       "      <td>0</td>\n",
       "    </tr>\n",
       "    <tr>\n",
       "      <th>46768</th>\n",
       "      <td>error sent error guys help error appearing wan...</td>\n",
       "      <td>5</td>\n",
       "    </tr>\n",
       "    <tr>\n",
       "      <th>46769</th>\n",
       "      <td>connection issues sent connection issues hello...</td>\n",
       "      <td>3</td>\n",
       "    </tr>\n",
       "    <tr>\n",
       "      <th>46770</th>\n",
       "      <td>error cube reports sent error hello guys recei...</td>\n",
       "      <td>2</td>\n",
       "    </tr>\n",
       "    <tr>\n",
       "      <th>46771</th>\n",
       "      <td>running extensions hello please advised runnin...</td>\n",
       "      <td>3</td>\n",
       "    </tr>\n",
       "  </tbody>\n",
       "</table>\n",
       "<p>46772 rows × 2 columns</p>\n",
       "</div>"
      ],
      "text/plain": [
       "                                         Inbound Message  Label\n",
       "0      connection icon icon dear please setup icon pe...      3\n",
       "1      work experience user work experience user work...      0\n",
       "2      requesting meeting requesting meeting please h...      3\n",
       "3      reset passwords external accounts expire days ...      0\n",
       "4      mail verification warning got attached please ...      5\n",
       "...                                                  ...    ...\n",
       "46767  git space project issues adding users sent git...      0\n",
       "46768  error sent error guys help error appearing wan...      5\n",
       "46769  connection issues sent connection issues hello...      3\n",
       "46770  error cube reports sent error hello guys recei...      2\n",
       "46771  running extensions hello please advised runnin...      3\n",
       "\n",
       "[46772 rows x 2 columns]"
      ]
     },
     "execution_count": 1,
     "metadata": {},
     "output_type": "execute_result"
    }
   ],
   "source": [
    "import pandas as pd\n",
    "data_path = \"../../data/46772_8_label.csv\"\n",
    "df = pd.read_csv(data_path)\n",
    "# df_label_0 = df[df[\"Labewl\"] == 0]\n",
    "# df_label_0_to_drop = df_label_0.sample(n=3000, random_state=42)\n",
    "# df = df.drop(df_label_0_to_drop.index)\n",
    "df"
   ]
  },
  {
   "cell_type": "code",
   "execution_count": 2,
   "id": "bf737873-4f1c-4588-913d-8f06b2777b20",
   "metadata": {},
   "outputs": [
    {
     "name": "stderr",
     "output_type": "stream",
     "text": [
      "c:\\Users\\user\\AppData\\Local\\Programs\\Python\\Python310\\lib\\site-packages\\tqdm\\auto.py:21: TqdmWarning: IProgress not found. Please update jupyter and ipywidgets. See https://ipywidgets.readthedocs.io/en/stable/user_install.html\n",
      "  from .autonotebook import tqdm as notebook_tqdm\n"
     ]
    }
   ],
   "source": [
    "import sys\n",
    "import os\n",
    "sys.path.append(os.path.abspath('../ml_lib'))\n",
    "\n",
    "from config import *\n",
    "from experiment import run_kfold_experiment"
   ]
  },
  {
   "cell_type": "code",
   "execution_count": 3,
   "id": "a12b2613-aa9d-41c0-8f62-72210eaf8d7f",
   "metadata": {},
   "outputs": [],
   "source": [
    "messages, labels = df['Inbound Message'].tolist(), df['Label'].tolist()"
   ]
  },
  {
   "cell_type": "code",
   "execution_count": 4,
   "id": "38d4729f-f867-4cea-89f9-31f67e5ecced",
   "metadata": {},
   "outputs": [
    {
     "name": "stdout",
     "output_type": "stream",
     "text": [
      "▶ Running: microsoft/deberta-base + plain + t5\n",
      "tokenizer is microsoft/deberta-base\n",
      "Using device: cuda\n",
      "CUDA Available: True\n",
      "CUDA Device: NVIDIA GeForce RTX 5070 Ti\n",
      "Current GPU Memory Allocated: 0.00 GB\n",
      "Current GPU Memory Cached: 0.00 GB\n",
      "\n",
      "[Fold 1]\n",
      "🚀 Using T5-paraphraser for data augmentation + under-sampling\n"
     ]
    },
    {
     "name": "stderr",
     "output_type": "stream",
     "text": [
      "You are using the default legacy behaviour of the <class 'transformers.models.t5.tokenization_t5.T5Tokenizer'>. This is expected, and simply means that the `legacy` (previous) behavior will be used so nothing changes for you. If you want to use the new behaviour, set `legacy=False`. This should only be set if you understand what it means, and thoroughly read the reason why this was added as explained in https://github.com/huggingface/transformers/pull/24565\n"
     ]
    },
    {
     "name": "stdout",
     "output_type": "stream",
     "text": [
      "Using device: cuda\n",
      "CUDA Available: True\n",
      "CUDA Device: NVIDIA GeForce RTX 5070 Ti\n",
      "Current GPU Memory Allocated: 0.00 GB\n",
      "Current GPU Memory Cached: 0.00 GB\n",
      "🔧 Augmenting label 1: 1399 → 5000 (+3601)\n",
      "🔧 Augmenting label 4: 1678 → 5000 (+3322)\n",
      "🔧 Augmenting label 6: 1737 → 5000 (+3263)\n",
      "🔧 Augmenting label 7: 2187 → 5000 (+2813)\n",
      "Label distribution after resampling:\n",
      "  label 0: 5626\n",
      "  label 1: 5000\n",
      "  label 2: 8442\n",
      "  label 3: 10770\n",
      "  label 4: 5000\n",
      "  label 5: 5578\n",
      "  label 6: 5000\n",
      "  label 7: 5000\n",
      "model is microsoft/deberta-base\n"
     ]
    },
    {
     "name": "stderr",
     "output_type": "stream",
     "text": [
      "Some weights of DebertaForSequenceClassification were not initialized from the model checkpoint at microsoft/deberta-base and are newly initialized: ['classifier.bias', 'classifier.weight', 'pooler.dense.bias', 'pooler.dense.weight']\n",
      "You should probably TRAIN this model on a down-stream task to be able to use it for predictions and inference.\n"
     ]
    },
    {
     "name": "stdout",
     "output_type": "stream",
     "text": [
      "Using weighted CrossEntropyLoss with weights: tensor([2.1929, 2.3109, 1.7871, 1.5435, 2.3109, 2.2015, 2.3109, 2.3109],\n",
      "       device='cuda:0')\n",
      "Epoch 1/20\n"
     ]
    },
    {
     "name": "stderr",
     "output_type": "stream",
     "text": [
      "100%|██████████| 3151/3151 [05:21<00:00,  9.80it/s]\n"
     ]
    },
    {
     "name": "stdout",
     "output_type": "stream",
     "text": [
      "{'val_loss': 1.9598208861473279, 'val_accuracy': 0.2878674505611972, 'precision': 0.08286766909260333, 'recall': 0.2878674505611972, 'f1-score': 0.1286897483999509, 'macro_f1-score': 0.055880644090305444, 'balanced_accuracy': 0.125, 'mcc': 0.0, 'train_loss': 2.034994920523573}\n",
      "Epoch 2/20\n"
     ]
    },
    {
     "name": "stderr",
     "output_type": "stream",
     "text": [
      "100%|██████████| 3151/3151 [05:20<00:00,  9.83it/s]\n"
     ]
    },
    {
     "name": "stdout",
     "output_type": "stream",
     "text": [
      "{'val_loss': 1.9431573407262819, 'val_accuracy': 0.2255478353821486, 'precision': 0.0508718260455728, 'recall': 0.2255478353821486, 'f1-score': 0.0830189154219509, 'macro_f1-score': 0.04600959441779329, 'balanced_accuracy': 0.125, 'mcc': 0.0, 'train_loss': 2.0185270464181975}\n",
      "Epoch 3/20\n"
     ]
    },
    {
     "name": "stderr",
     "output_type": "stream",
     "text": [
      "100%|██████████| 3151/3151 [05:20<00:00,  9.82it/s]\n"
     ]
    },
    {
     "name": "stdout",
     "output_type": "stream",
     "text": [
      "{'val_loss': 1.9616532977829633, 'val_accuracy': 0.2878674505611972, 'precision': 0.08286766909260333, 'recall': 0.2878674505611972, 'f1-score': 0.1286897483999509, 'macro_f1-score': 0.055880644090305444, 'balanced_accuracy': 0.125, 'mcc': 0.0, 'train_loss': 2.01390229899026}\n",
      "Epoch 4/20\n"
     ]
    },
    {
     "name": "stderr",
     "output_type": "stream",
     "text": [
      "100%|██████████| 3151/3151 [05:20<00:00,  9.83it/s]\n"
     ]
    },
    {
     "name": "stdout",
     "output_type": "stream",
     "text": [
      "{'val_loss': 1.9551976185578566, 'val_accuracy': 0.2878674505611972, 'precision': 0.08286766909260333, 'recall': 0.2878674505611972, 'f1-score': 0.1286897483999509, 'macro_f1-score': 0.055880644090305444, 'balanced_accuracy': 0.125, 'mcc': 0.0, 'train_loss': 2.0144167077310575}\n",
      "Early stopping.\n",
      "\n",
      "[Fold 2]\n",
      "🚀 Using T5-paraphraser for data augmentation + under-sampling\n",
      "Using device: cuda\n",
      "CUDA Available: True\n",
      "CUDA Device: NVIDIA GeForce RTX 5070 Ti\n",
      "Current GPU Memory Allocated: 2.27 GB\n",
      "Current GPU Memory Cached: 5.18 GB\n",
      "🔧 Augmenting label 1: 1400 → 5000 (+3600)\n",
      "🔧 Augmenting label 4: 1678 → 5000 (+3322)\n",
      "🔧 Augmenting label 6: 1737 → 5000 (+3263)\n",
      "🔧 Augmenting label 7: 2186 → 5000 (+2814)\n",
      "Label distribution after resampling:\n",
      "  label 0: 5626\n",
      "  label 1: 5000\n",
      "  label 2: 8442\n",
      "  label 3: 10770\n",
      "  label 4: 5000\n",
      "  label 5: 5578\n",
      "  label 6: 5000\n",
      "  label 7: 5000\n",
      "model is microsoft/deberta-base\n"
     ]
    },
    {
     "name": "stderr",
     "output_type": "stream",
     "text": [
      "Some weights of DebertaForSequenceClassification were not initialized from the model checkpoint at microsoft/deberta-base and are newly initialized: ['classifier.bias', 'classifier.weight', 'pooler.dense.bias', 'pooler.dense.weight']\n",
      "You should probably TRAIN this model on a down-stream task to be able to use it for predictions and inference.\n"
     ]
    },
    {
     "name": "stdout",
     "output_type": "stream",
     "text": [
      "Using weighted CrossEntropyLoss with weights: tensor([2.1929, 2.3109, 1.7871, 1.5435, 2.3109, 2.2015, 2.3109, 2.3109],\n",
      "       device='cuda:0')\n",
      "Epoch 1/20\n"
     ]
    },
    {
     "name": "stderr",
     "output_type": "stream",
     "text": [
      "100%|██████████| 3151/3151 [05:34<00:00,  9.41it/s]\n"
     ]
    },
    {
     "name": "stdout",
     "output_type": "stream",
     "text": [
      "{'val_loss': 0.48765353594198185, 'val_accuracy': 0.8378407268840192, 'precision': 0.8405180889734326, 'recall': 0.8378407268840192, 'f1-score': 0.8376427667910286, 'macro_f1-score': 0.8397756325592377, 'balanced_accuracy': 0.8243994601128479, 'mcc': 0.8000512349446747, 'train_loss': 0.5634467464149642}\n",
      "Epoch 2/20\n"
     ]
    },
    {
     "name": "stderr",
     "output_type": "stream",
     "text": [
      "100%|██████████| 3151/3151 [05:33<00:00,  9.45it/s]\n"
     ]
    },
    {
     "name": "stdout",
     "output_type": "stream",
     "text": [
      "{'val_loss': 0.4498795550205132, 'val_accuracy': 0.8485301977552111, 'precision': 0.850114480941393, 'recall': 0.8485301977552111, 'f1-score': 0.8485247130264343, 'macro_f1-score': 0.8453054301828428, 'balanced_accuracy': 0.8528307325685793, 'mcc': 0.8141609225381039, 'train_loss': 0.33579960633252526}\n",
      "Epoch 3/20\n"
     ]
    },
    {
     "name": "stderr",
     "output_type": "stream",
     "text": [
      "100%|██████████| 3151/3151 [05:34<00:00,  9.41it/s]\n"
     ]
    },
    {
     "name": "stdout",
     "output_type": "stream",
     "text": [
      "{'val_loss': 0.5413959441085656, 'val_accuracy': 0.8368786745056119, 'precision': 0.8450997028066901, 'recall': 0.8368786745056119, 'f1-score': 0.8369893081684927, 'macro_f1-score': 0.8332256178284436, 'balanced_accuracy': 0.8580821342894008, 'mcc': 0.8016458044790431, 'train_loss': 0.2502898291267351}\n",
      "Epoch 4/20\n"
     ]
    },
    {
     "name": "stderr",
     "output_type": "stream",
     "text": [
      "100%|██████████| 3151/3151 [05:34<00:00,  9.43it/s]\n"
     ]
    },
    {
     "name": "stdout",
     "output_type": "stream",
     "text": [
      "{'val_loss': 0.5325626665855654, 'val_accuracy': 0.8478888295029396, 'precision': 0.8495136434626629, 'recall': 0.8478888295029396, 'f1-score': 0.8481032154813211, 'macro_f1-score': 0.8466267249563646, 'balanced_accuracy': 0.8589793780614003, 'mcc': 0.8135767123866999, 'train_loss': 0.20440193169773327}\n",
      "Epoch 5/20\n"
     ]
    },
    {
     "name": "stderr",
     "output_type": "stream",
     "text": [
      "100%|██████████| 3151/3151 [05:33<00:00,  9.44it/s]\n"
     ]
    },
    {
     "name": "stdout",
     "output_type": "stream",
     "text": [
      "{'val_loss': 0.5471508654495144, 'val_accuracy': 0.8495991448423303, 'precision': 0.8521398179106896, 'recall': 0.8495991448423303, 'f1-score': 0.8496809298985136, 'macro_f1-score': 0.84685295806382, 'balanced_accuracy': 0.8493353322671469, 'mcc': 0.815820372281857, 'train_loss': 0.1486335524802827}\n",
      "Epoch 6/20\n"
     ]
    },
    {
     "name": "stderr",
     "output_type": "stream",
     "text": [
      "100%|██████████| 3151/3151 [05:34<00:00,  9.41it/s]\n"
     ]
    },
    {
     "name": "stdout",
     "output_type": "stream",
     "text": [
      "{'val_loss': 0.619585600318626, 'val_accuracy': 0.8430785676109033, 'precision': 0.846970959333855, 'recall': 0.8430785676109033, 'f1-score': 0.8437271548305705, 'macro_f1-score': 0.8452994720108303, 'balanced_accuracy': 0.8501833613888887, 'mcc': 0.8079871451644055, 'train_loss': 0.12015528391561743}\n",
      "Epoch 7/20\n"
     ]
    },
    {
     "name": "stderr",
     "output_type": "stream",
     "text": [
      "100%|██████████| 3151/3151 [05:35<00:00,  9.40it/s]\n"
     ]
    },
    {
     "name": "stdout",
     "output_type": "stream",
     "text": [
      "{'val_loss': 0.8008241630183198, 'val_accuracy': 0.8005344735435596, 'precision': 0.8213262551523199, 'recall': 0.8005344735435596, 'f1-score': 0.8024548005658674, 'macro_f1-score': 0.7972911557167441, 'balanced_accuracy': 0.7900009263974583, 'mcc': 0.7571488161602812, 'train_loss': 0.0996095814799746}\n",
      "Epoch 8/20\n"
     ]
    },
    {
     "name": "stderr",
     "output_type": "stream",
     "text": [
      "100%|██████████| 3151/3151 [05:34<00:00,  9.42it/s]\n"
     ]
    },
    {
     "name": "stdout",
     "output_type": "stream",
     "text": [
      "{'val_loss': 0.6691999235441192, 'val_accuracy': 0.8516301443078568, 'precision': 0.8522022827695649, 'recall': 0.8516301443078568, 'f1-score': 0.8515081439928955, 'macro_f1-score': 0.8546432936578354, 'balanced_accuracy': 0.8423088882697938, 'mcc': 0.8170141536430372, 'train_loss': 0.10748559397716083}\n",
      "Epoch 9/20\n"
     ]
    },
    {
     "name": "stderr",
     "output_type": "stream",
     "text": [
      "100%|██████████| 3151/3151 [05:34<00:00,  9.43it/s]\n"
     ]
    },
    {
     "name": "stdout",
     "output_type": "stream",
     "text": [
      "{'val_loss': 0.756140964539049, 'val_accuracy': 0.84735435595938, 'precision': 0.8477864873470075, 'recall': 0.84735435595938, 'f1-score': 0.8472711737493088, 'macro_f1-score': 0.848400662912588, 'balanced_accuracy': 0.8466167963605865, 'mcc': 0.8122356024818069, 'train_loss': 0.08266982512341449}\n",
      "Epoch 10/20\n"
     ]
    },
    {
     "name": "stderr",
     "output_type": "stream",
     "text": [
      "100%|██████████| 3151/3151 [05:33<00:00,  9.45it/s]\n"
     ]
    },
    {
     "name": "stdout",
     "output_type": "stream",
     "text": [
      "{'val_loss': 0.8411006739307354, 'val_accuracy': 0.8441475146980224, 'precision': 0.8472548349480413, 'recall': 0.8441475146980224, 'f1-score': 0.8445347073410249, 'macro_f1-score': 0.8444805621955634, 'balanced_accuracy': 0.8307678365856644, 'mcc': 0.8079332839926386, 'train_loss': 0.0570638024650972}\n",
      "Epoch 11/20\n"
     ]
    },
    {
     "name": "stderr",
     "output_type": "stream",
     "text": [
      "100%|██████████| 3151/3151 [05:33<00:00,  9.46it/s]\n"
     ]
    },
    {
     "name": "stdout",
     "output_type": "stream",
     "text": [
      "{'val_loss': 0.816443391262084, 'val_accuracy': 0.8410475681453768, 'precision': 0.8424741417823701, 'recall': 0.8410475681453768, 'f1-score': 0.8407574770025695, 'macro_f1-score': 0.8439463657663352, 'balanced_accuracy': 0.8300121889529408, 'mcc': 0.804074400872676, 'train_loss': 0.055953333659319746}\n",
      "Early stopping.\n",
      "\n",
      "[Fold 3]\n",
      "🚀 Using T5-paraphraser for data augmentation + under-sampling\n",
      "Using device: cuda\n",
      "CUDA Available: True\n",
      "CUDA Device: NVIDIA GeForce RTX 5070 Ti\n",
      "Current GPU Memory Allocated: 2.29 GB\n",
      "Current GPU Memory Cached: 5.18 GB\n",
      "🔧 Augmenting label 1: 1399 → 5000 (+3601)\n",
      "🔧 Augmenting label 4: 1679 → 5000 (+3321)\n",
      "🔧 Augmenting label 6: 1738 → 5000 (+3262)\n",
      "🔧 Augmenting label 7: 2186 → 5000 (+2814)\n",
      "Label distribution after resampling:\n",
      "  label 0: 5626\n",
      "  label 1: 5000\n",
      "  label 2: 8442\n",
      "  label 3: 10770\n",
      "  label 4: 5000\n",
      "  label 5: 5578\n",
      "  label 6: 5000\n",
      "  label 7: 5000\n",
      "model is microsoft/deberta-base\n"
     ]
    },
    {
     "name": "stderr",
     "output_type": "stream",
     "text": [
      "Some weights of DebertaForSequenceClassification were not initialized from the model checkpoint at microsoft/deberta-base and are newly initialized: ['classifier.bias', 'classifier.weight', 'pooler.dense.bias', 'pooler.dense.weight']\n",
      "You should probably TRAIN this model on a down-stream task to be able to use it for predictions and inference.\n"
     ]
    },
    {
     "name": "stdout",
     "output_type": "stream",
     "text": [
      "Using weighted CrossEntropyLoss with weights: tensor([2.1929, 2.3109, 1.7871, 1.5435, 2.3109, 2.2015, 2.3109, 2.3109],\n",
      "       device='cuda:0')\n",
      "Epoch 1/20\n"
     ]
    },
    {
     "name": "stderr",
     "output_type": "stream",
     "text": [
      "100%|██████████| 3151/3151 [05:33<00:00,  9.44it/s]\n"
     ]
    },
    {
     "name": "stdout",
     "output_type": "stream",
     "text": [
      "{'val_loss': 0.4324249529367329, 'val_accuracy': 0.8504383151592901, 'precision': 0.852734278615258, 'recall': 0.8504383151592901, 'f1-score': 0.850405761490722, 'macro_f1-score': 0.8484524345114266, 'balanced_accuracy': 0.8498049845377287, 'mcc': 0.8167361562879462, 'train_loss': 0.5473715751412671}\n",
      "Epoch 2/20\n"
     ]
    },
    {
     "name": "stderr",
     "output_type": "stream",
     "text": [
      "100%|██████████| 3151/3151 [05:33<00:00,  9.44it/s]\n"
     ]
    },
    {
     "name": "stdout",
     "output_type": "stream",
     "text": [
      "{'val_loss': 0.42940942515483776, 'val_accuracy': 0.8562112465255506, 'precision': 0.8598064297761229, 'recall': 0.8562112465255506, 'f1-score': 0.8562049996256, 'macro_f1-score': 0.852843899131233, 'balanced_accuracy': 0.8606193410748358, 'mcc': 0.8236445115029589, 'train_loss': 0.32965352038652773}\n",
      "Epoch 3/20\n"
     ]
    },
    {
     "name": "stderr",
     "output_type": "stream",
     "text": [
      "100%|██████████| 3151/3151 [05:34<00:00,  9.42it/s]\n"
     ]
    },
    {
     "name": "stdout",
     "output_type": "stream",
     "text": [
      "{'val_loss': 0.42246704780393174, 'val_accuracy': 0.8628394269831088, 'precision': 0.8651067111105305, 'recall': 0.8628394269831088, 'f1-score': 0.8631775102658186, 'macro_f1-score': 0.8631001809676322, 'balanced_accuracy': 0.8727430463471972, 'mcc': 0.8319082608347088, 'train_loss': 0.24412535252705717}\n",
      "Epoch 4/20\n"
     ]
    },
    {
     "name": "stderr",
     "output_type": "stream",
     "text": [
      "100%|██████████| 3151/3151 [05:33<00:00,  9.45it/s]\n"
     ]
    },
    {
     "name": "stdout",
     "output_type": "stream",
     "text": [
      "{'val_loss': 1.9726749281597953, 'val_accuracy': 0.2878982253581356, 'precision': 0.08289425006836941, 'recall': 0.2878982253581356, 'f1-score': 0.12872487479486286, 'macro_f1-score': 0.05588992196579778, 'balanced_accuracy': 0.125, 'mcc': 0.001972025833754462, 'train_loss': 1.6680175854893349}\n",
      "Epoch 5/20\n"
     ]
    },
    {
     "name": "stderr",
     "output_type": "stream",
     "text": [
      "100%|██████████| 3151/3151 [05:33<00:00,  9.44it/s]\n"
     ]
    },
    {
     "name": "stdout",
     "output_type": "stream",
     "text": [
      "{'val_loss': 1.9768642745466314, 'val_accuracy': 0.2878982253581356, 'precision': 0.08289425006836941, 'recall': 0.2878982253581356, 'f1-score': 0.12872487479486286, 'macro_f1-score': 0.05588992196579778, 'balanced_accuracy': 0.125, 'mcc': 0.001972025833754462, 'train_loss': 2.0366326823986665}\n",
      "Epoch 6/20\n"
     ]
    },
    {
     "name": "stderr",
     "output_type": "stream",
     "text": [
      "100%|██████████| 3151/3151 [05:34<00:00,  9.41it/s]\n"
     ]
    },
    {
     "name": "stdout",
     "output_type": "stream",
     "text": [
      "{'val_loss': 1.9690038336647882, 'val_accuracy': 0.2878982253581356, 'precision': 0.08289425006836941, 'recall': 0.2878982253581356, 'f1-score': 0.12872487479486286, 'macro_f1-score': 0.05588992196579778, 'balanced_accuracy': 0.125, 'mcc': 0.001972025833754462, 'train_loss': 2.036384559631045}\n",
      "Early stopping.\n",
      "\n",
      "[Fold 4]\n",
      "🚀 Using T5-paraphraser for data augmentation + under-sampling\n",
      "Using device: cuda\n",
      "CUDA Available: True\n",
      "CUDA Device: NVIDIA GeForce RTX 5070 Ti\n",
      "Current GPU Memory Allocated: 2.30 GB\n",
      "Current GPU Memory Cached: 5.34 GB\n",
      "🔧 Augmenting label 1: 1399 → 5000 (+3601)\n",
      "🔧 Augmenting label 4: 1679 → 5000 (+3321)\n",
      "🔧 Augmenting label 6: 1738 → 5000 (+3262)\n",
      "🔧 Augmenting label 7: 2186 → 5000 (+2814)\n",
      "Label distribution after resampling:\n",
      "  label 0: 5625\n",
      "  label 1: 5000\n",
      "  label 2: 8441\n",
      "  label 3: 10771\n",
      "  label 4: 5000\n",
      "  label 5: 5579\n",
      "  label 6: 5000\n",
      "  label 7: 5000\n",
      "model is microsoft/deberta-base\n"
     ]
    },
    {
     "name": "stderr",
     "output_type": "stream",
     "text": [
      "Some weights of DebertaForSequenceClassification were not initialized from the model checkpoint at microsoft/deberta-base and are newly initialized: ['classifier.bias', 'classifier.weight', 'pooler.dense.bias', 'pooler.dense.weight']\n",
      "You should probably TRAIN this model on a down-stream task to be able to use it for predictions and inference.\n"
     ]
    },
    {
     "name": "stdout",
     "output_type": "stream",
     "text": [
      "Using weighted CrossEntropyLoss with weights: tensor([2.1931, 2.3109, 1.7872, 1.5435, 2.3109, 2.2013, 2.3109, 2.3109],\n",
      "       device='cuda:0')\n",
      "Epoch 1/20\n"
     ]
    },
    {
     "name": "stderr",
     "output_type": "stream",
     "text": [
      "100%|██████████| 3151/3151 [05:33<00:00,  9.45it/s]\n"
     ]
    },
    {
     "name": "stdout",
     "output_type": "stream",
     "text": [
      "{'val_loss': 0.5065715227180566, 'val_accuracy': 0.8273465896942485, 'precision': 0.8286645702203809, 'recall': 0.8273465896942485, 'f1-score': 0.8267713741580275, 'macro_f1-score': 0.8265998524951877, 'balanced_accuracy': 0.8272883832319838, 'mcc': 0.7877722957482284, 'train_loss': 0.9919618753836349}\n",
      "Epoch 2/20\n"
     ]
    },
    {
     "name": "stderr",
     "output_type": "stream",
     "text": [
      "100%|██████████| 3151/3151 [05:34<00:00,  9.43it/s]\n"
     ]
    },
    {
     "name": "stdout",
     "output_type": "stream",
     "text": [
      "{'val_loss': 0.4290995776080168, 'val_accuracy': 0.8501175967500535, 'precision': 0.8519748627568448, 'recall': 0.8501175967500535, 'f1-score': 0.8494453239039176, 'macro_f1-score': 0.8479319569395982, 'balanced_accuracy': 0.8523103513814068, 'mcc': 0.816289914106632, 'train_loss': 0.3794353238219157}\n",
      "Epoch 3/20\n"
     ]
    },
    {
     "name": "stderr",
     "output_type": "stream",
     "text": [
      "100%|██████████| 3151/3151 [05:34<00:00,  9.42it/s]\n"
     ]
    },
    {
     "name": "stdout",
     "output_type": "stream",
     "text": [
      "{'val_loss': 0.4638478736544394, 'val_accuracy': 0.8505452212957024, 'precision': 0.8530785096622903, 'recall': 0.8505452212957024, 'f1-score': 0.8496926853130996, 'macro_f1-score': 0.8512104616713028, 'balanced_accuracy': 0.8449613165785943, 'mcc': 0.8172996867406036, 'train_loss': 0.28170505855471883}\n",
      "Epoch 4/20\n"
     ]
    },
    {
     "name": "stderr",
     "output_type": "stream",
     "text": [
      "100%|██████████| 3151/3151 [05:33<00:00,  9.44it/s]\n"
     ]
    },
    {
     "name": "stdout",
     "output_type": "stream",
     "text": [
      "{'val_loss': 1.9838527516422109, 'val_accuracy': 0.29025016035920465, 'precision': 0.2324554723991888, 'recall': 0.29025016035920465, 'f1-score': 0.13478290208543703, 'macro_f1-score': 0.05971810426826424, 'balanced_accuracy': 0.12666492832105034, 'mcc': 0.030439534505676404, 'train_loss': 0.7078798543388436}\n",
      "Epoch 5/20\n"
     ]
    },
    {
     "name": "stderr",
     "output_type": "stream",
     "text": [
      "100%|██████████| 3151/3151 [05:35<00:00,  9.40it/s]\n"
     ]
    },
    {
     "name": "stdout",
     "output_type": "stream",
     "text": [
      "{'val_loss': 1.9670215786012828, 'val_accuracy': 0.2882189437673722, 'precision': 0.35493539324879175, 'recall': 0.2882189437673722, 'f1-score': 0.12952490257641075, 'macro_f1-score': 0.057271145665480645, 'balanced_accuracy': 0.12569446415200608, 'mcc': 0.01868753020004331, 'train_loss': 2.030104842688386}\n",
      "Epoch 6/20\n"
     ]
    },
    {
     "name": "stderr",
     "output_type": "stream",
     "text": [
      "100%|██████████| 3151/3151 [05:35<00:00,  9.38it/s]\n"
     ]
    },
    {
     "name": "stdout",
     "output_type": "stream",
     "text": [
      "{'val_loss': 1.9001481675694132, 'val_accuracy': 0.3098139833226427, 'precision': 0.12492902169282509, 'recall': 0.3098139833226427, 'f1-score': 0.15495367567745402, 'macro_f1-score': 0.1107880441741472, 'balanced_accuracy': 0.20490889204050616, 'mcc': 0.12093538062220147, 'train_loss': 1.936429316753132}\n",
      "Early stopping.\n",
      "\n",
      "[Fold 5]\n",
      "🚀 Using T5-paraphraser for data augmentation + under-sampling\n",
      "Using device: cuda\n",
      "CUDA Available: True\n",
      "CUDA Device: NVIDIA GeForce RTX 5070 Ti\n",
      "Current GPU Memory Allocated: 2.30 GB\n",
      "Current GPU Memory Cached: 5.34 GB\n",
      "🔧 Augmenting label 1: 1399 → 5000 (+3601)\n",
      "🔧 Augmenting label 4: 1678 → 5000 (+3322)\n",
      "🔧 Augmenting label 6: 1738 → 5000 (+3262)\n",
      "🔧 Augmenting label 7: 2187 → 5000 (+2813)\n",
      "Label distribution after resampling:\n",
      "  label 0: 5625\n",
      "  label 1: 5000\n",
      "  label 2: 8441\n",
      "  label 3: 10771\n",
      "  label 4: 5000\n",
      "  label 5: 5579\n",
      "  label 6: 5000\n",
      "  label 7: 5000\n",
      "model is microsoft/deberta-base\n"
     ]
    },
    {
     "name": "stderr",
     "output_type": "stream",
     "text": [
      "Some weights of DebertaForSequenceClassification were not initialized from the model checkpoint at microsoft/deberta-base and are newly initialized: ['classifier.bias', 'classifier.weight', 'pooler.dense.bias', 'pooler.dense.weight']\n",
      "You should probably TRAIN this model on a down-stream task to be able to use it for predictions and inference.\n"
     ]
    },
    {
     "name": "stdout",
     "output_type": "stream",
     "text": [
      "Using weighted CrossEntropyLoss with weights: tensor([2.1931, 2.3109, 1.7872, 1.5435, 2.3109, 2.2013, 2.3109, 2.3109],\n",
      "       device='cuda:0')\n",
      "Epoch 1/20\n"
     ]
    },
    {
     "name": "stderr",
     "output_type": "stream",
     "text": [
      "100%|██████████| 3151/3151 [05:33<00:00,  9.44it/s]\n"
     ]
    },
    {
     "name": "stdout",
     "output_type": "stream",
     "text": [
      "{'val_loss': 1.920668545136085, 'val_accuracy': 0.22567885396621767, 'precision': 0.0509309451275054, 'recall': 0.22567885396621767, 'f1-score': 0.08310650863021116, 'macro_f1-score': 0.04603139991277802, 'balanced_accuracy': 0.125, 'mcc': 0.0, 'train_loss': 2.028790998595058}\n",
      "Epoch 2/20\n"
     ]
    },
    {
     "name": "stderr",
     "output_type": "stream",
     "text": [
      "100%|██████████| 3151/3151 [05:32<00:00,  9.46it/s]\n"
     ]
    },
    {
     "name": "stdout",
     "output_type": "stream",
     "text": [
      "{'val_loss': 1.9291901455985174, 'val_accuracy': 0.28779131922172335, 'precision': 0.08282384341937987, 'recall': 0.28779131922172335, 'f1-score': 0.12862929293456404, 'macro_f1-score': 0.055869168188610326, 'balanced_accuracy': 0.125, 'mcc': 0.0, 'train_loss': 2.009324609457747}\n",
      "Epoch 3/20\n"
     ]
    },
    {
     "name": "stderr",
     "output_type": "stream",
     "text": [
      "100%|██████████| 3151/3151 [05:34<00:00,  9.42it/s]\n"
     ]
    },
    {
     "name": "stdout",
     "output_type": "stream",
     "text": [
      "{'val_loss': 1.937449830210107, 'val_accuracy': 0.22567885396621767, 'precision': 0.0509309451275054, 'recall': 0.22567885396621767, 'f1-score': 0.08310650863021116, 'macro_f1-score': 0.04603139991277802, 'balanced_accuracy': 0.125, 'mcc': 0.0, 'train_loss': 1.9995785180593968}\n",
      "Epoch 4/20\n"
     ]
    },
    {
     "name": "stderr",
     "output_type": "stream",
     "text": [
      "100%|██████████| 3151/3151 [05:33<00:00,  9.45it/s]\n"
     ]
    },
    {
     "name": "stdout",
     "output_type": "stream",
     "text": [
      "{'val_loss': 1.926932718203618, 'val_accuracy': 0.22567885396621767, 'precision': 0.0509309451275054, 'recall': 0.22567885396621767, 'f1-score': 0.08310650863021116, 'macro_f1-score': 0.04603139991277802, 'balanced_accuracy': 0.125, 'mcc': 0.0, 'train_loss': 1.9965722486353117}\n",
      "Epoch 5/20\n"
     ]
    },
    {
     "name": "stderr",
     "output_type": "stream",
     "text": [
      "100%|██████████| 3151/3151 [05:34<00:00,  9.43it/s]\n"
     ]
    },
    {
     "name": "stdout",
     "output_type": "stream",
     "text": [
      "{'val_loss': 1.9294799990124172, 'val_accuracy': 0.22567885396621767, 'precision': 0.0509309451275054, 'recall': 0.22567885396621767, 'f1-score': 0.08310650863021116, 'macro_f1-score': 0.04603139991277802, 'balanced_accuracy': 0.125, 'mcc': 0.0, 'train_loss': 1.9951071438052397}\n",
      "Early stopping.\n",
      "\n",
      " === microsoft/deberta-base + plain + t5 Final 5-fold Cross-Validation Results ===\n",
      "val_loss: 1.0889\n",
      "val_accuracy: 0.6281\n",
      "precision: 0.5472\n",
      "recall: 0.6281\n",
      "f1-score: 0.5643\n",
      "macro_f1-score: 0.5361\n",
      "balanced_accuracy: 0.5620\n",
      "mcc: 0.4932\n",
      "train_loss: 0.9355\n",
      "total_seconds: 41112.0000\n",
      "total_time: 11 hrs 25 mins 12 secs\n",
      "▶ Running: microsoft/deberta-base + cnn + t5\n",
      "tokenizer is microsoft/deberta-base\n",
      "Using device: cuda\n",
      "CUDA Available: True\n",
      "CUDA Device: NVIDIA GeForce RTX 5070 Ti\n",
      "Current GPU Memory Allocated: 0.02 GB\n",
      "Current GPU Memory Cached: 5.34 GB\n",
      "\n",
      "[Fold 1]\n",
      "🚀 Using T5-paraphraser for data augmentation + under-sampling\n",
      "Using device: cuda\n",
      "CUDA Available: True\n",
      "CUDA Device: NVIDIA GeForce RTX 5070 Ti\n",
      "Current GPU Memory Allocated: 0.02 GB\n",
      "Current GPU Memory Cached: 5.34 GB\n",
      "🔧 Augmenting label 1: 1399 → 5000 (+3601)\n",
      "🔧 Augmenting label 4: 1678 → 5000 (+3322)\n",
      "🔧 Augmenting label 6: 1737 → 5000 (+3263)\n",
      "🔧 Augmenting label 7: 2187 → 5000 (+2813)\n",
      "Label distribution after resampling:\n",
      "  label 0: 5626\n",
      "  label 1: 5000\n",
      "  label 2: 8442\n",
      "  label 3: 10770\n",
      "  label 4: 5000\n",
      "  label 5: 5578\n",
      "  label 6: 5000\n",
      "  label 7: 5000\n",
      "model is microsoft/deberta-base cnn\n",
      "Using weighted CrossEntropyLoss with weights: tensor([2.1929, 2.3109, 1.7871, 1.5435, 2.3109, 2.2015, 2.3109, 2.3109],\n",
      "       device='cuda:0')\n",
      "Epoch 1/20\n"
     ]
    },
    {
     "name": "stderr",
     "output_type": "stream",
     "text": [
      "100%|██████████| 3151/3151 [05:45<00:00,  9.12it/s]\n"
     ]
    },
    {
     "name": "stdout",
     "output_type": "stream",
     "text": [
      "{'val_loss': 0.4960838846066314, 'val_accuracy': 0.8304649919828968, 'precision': 0.8341380742442931, 'recall': 0.8304649919828968, 'f1-score': 0.8293239039773751, 'macro_f1-score': 0.8312874420663132, 'balanced_accuracy': 0.8209327138504705, 'mcc': 0.7925382239550169, 'train_loss': 0.5918860540210122}\n",
      "Epoch 2/20\n"
     ]
    },
    {
     "name": "stderr",
     "output_type": "stream",
     "text": [
      "100%|██████████| 3151/3151 [05:45<00:00,  9.13it/s]\n"
     ]
    },
    {
     "name": "stdout",
     "output_type": "stream",
     "text": [
      "{'val_loss': 0.43478354398702457, 'val_accuracy': 0.8529128808123998, 'precision': 0.8585281105390725, 'recall': 0.8529128808123998, 'f1-score': 0.8529594373592274, 'macro_f1-score': 0.8490027314604903, 'balanced_accuracy': 0.8444612771658386, 'mcc': 0.8205677011606223, 'train_loss': 0.3722368354426761}\n",
      "Epoch 3/20\n"
     ]
    },
    {
     "name": "stderr",
     "output_type": "stream",
     "text": [
      "100%|██████████| 3151/3151 [05:45<00:00,  9.13it/s]\n"
     ]
    },
    {
     "name": "stdout",
     "output_type": "stream",
     "text": [
      "{'val_loss': 0.42930693740868925, 'val_accuracy': 0.8601817210048103, 'precision': 0.8615426543008615, 'recall': 0.8601817210048103, 'f1-score': 0.8595823904500822, 'macro_f1-score': 0.8565407287995633, 'balanced_accuracy': 0.8535440705280848, 'mcc': 0.8286640190306983, 'train_loss': 0.28953590881098945}\n",
      "Epoch 4/20\n"
     ]
    },
    {
     "name": "stderr",
     "output_type": "stream",
     "text": [
      "100%|██████████| 3151/3151 [05:46<00:00,  9.11it/s]\n"
     ]
    },
    {
     "name": "stdout",
     "output_type": "stream",
     "text": [
      "{'val_loss': 0.4547034181137052, 'val_accuracy': 0.8683057188669161, 'precision': 0.8698552216229775, 'recall': 0.8683057188669161, 'f1-score': 0.8680628302520423, 'macro_f1-score': 0.8653518426134345, 'balanced_accuracy': 0.8544978838080022, 'mcc': 0.8380763924586327, 'train_loss': 0.26385778047329733}\n",
      "Epoch 5/20\n"
     ]
    },
    {
     "name": "stderr",
     "output_type": "stream",
     "text": [
      "100%|██████████| 3151/3151 [05:45<00:00,  9.12it/s]\n"
     ]
    },
    {
     "name": "stdout",
     "output_type": "stream",
     "text": [
      "{'val_loss': 0.48001123540119356, 'val_accuracy': 0.8665954035275254, 'precision': 0.8685608320363418, 'recall': 0.8665954035275254, 'f1-score': 0.8665529519251571, 'macro_f1-score': 0.8596801139749761, 'balanced_accuracy': 0.8517200312458328, 'mcc': 0.8354583953523412, 'train_loss': 0.18782715123480465}\n",
      "Epoch 6/20\n"
     ]
    },
    {
     "name": "stderr",
     "output_type": "stream",
     "text": [
      "100%|██████████| 3151/3151 [05:45<00:00,  9.13it/s]\n"
     ]
    },
    {
     "name": "stdout",
     "output_type": "stream",
     "text": [
      "{'val_loss': 0.6611746392196888, 'val_accuracy': 0.8333511491181187, 'precision': 0.8366271581027186, 'recall': 0.8333511491181187, 'f1-score': 0.8334863529553397, 'macro_f1-score': 0.8180674699370613, 'balanced_accuracy': 0.8151903971842733, 'mcc': 0.7946544209908072, 'train_loss': 0.1841224134707633}\n",
      "Epoch 7/20\n"
     ]
    },
    {
     "name": "stderr",
     "output_type": "stream",
     "text": [
      "100%|██████████| 3151/3151 [05:47<00:00,  9.07it/s]\n"
     ]
    },
    {
     "name": "stdout",
     "output_type": "stream",
     "text": [
      "{'val_loss': 0.5927591981350356, 'val_accuracy': 0.8526990913949759, 'precision': 0.8535017570118836, 'recall': 0.8526990913949759, 'f1-score': 0.8524499122661063, 'macro_f1-score': 0.8484231405713236, 'balanced_accuracy': 0.853519518003429, 'mcc': 0.8188874135399554, 'train_loss': 0.19795075616458307}\n",
      "Early stopping.\n",
      "\n",
      "[Fold 2]\n",
      "🚀 Using T5-paraphraser for data augmentation + under-sampling\n",
      "Using device: cuda\n",
      "CUDA Available: True\n",
      "CUDA Device: NVIDIA GeForce RTX 5070 Ti\n",
      "Current GPU Memory Allocated: 2.30 GB\n",
      "Current GPU Memory Cached: 5.34 GB\n",
      "🔧 Augmenting label 1: 1400 → 5000 (+3600)\n",
      "🔧 Augmenting label 4: 1678 → 5000 (+3322)\n",
      "🔧 Augmenting label 6: 1737 → 5000 (+3263)\n",
      "🔧 Augmenting label 7: 2186 → 5000 (+2814)\n",
      "Label distribution after resampling:\n",
      "  label 0: 5626\n",
      "  label 1: 5000\n",
      "  label 2: 8442\n",
      "  label 3: 10770\n",
      "  label 4: 5000\n",
      "  label 5: 5578\n",
      "  label 6: 5000\n",
      "  label 7: 5000\n",
      "model is microsoft/deberta-base cnn\n",
      "Using weighted CrossEntropyLoss with weights: tensor([2.1929, 2.3109, 1.7871, 1.5435, 2.3109, 2.2015, 2.3109, 2.3109],\n",
      "       device='cuda:0')\n",
      "Epoch 1/20\n"
     ]
    },
    {
     "name": "stderr",
     "output_type": "stream",
     "text": [
      "100%|██████████| 3151/3151 [05:38<00:00,  9.31it/s]\n"
     ]
    },
    {
     "name": "stdout",
     "output_type": "stream",
     "text": [
      "{'val_loss': 0.6922413206699057, 'val_accuracy': 0.7824692677712454, 'precision': 0.7815647309814535, 'recall': 0.7824692677712454, 'f1-score': 0.781399250848295, 'macro_f1-score': 0.7941694339876308, 'balanced_accuracy': 0.7973873444066353, 'mcc': 0.7323147573988039, 'train_loss': 0.6066171151170018}\n",
      "Epoch 2/20\n"
     ]
    },
    {
     "name": "stderr",
     "output_type": "stream",
     "text": [
      "100%|██████████| 3151/3151 [05:35<00:00,  9.40it/s]\n"
     ]
    },
    {
     "name": "stdout",
     "output_type": "stream",
     "text": [
      "{'val_loss': 0.47349299423587626, 'val_accuracy': 0.8323890967397114, 'precision': 0.8368265506751346, 'recall': 0.8323890967397114, 'f1-score': 0.8328673739420378, 'macro_f1-score': 0.8342660526969905, 'balanced_accuracy': 0.8482329401279429, 'mcc': 0.7959208545784203, 'train_loss': 0.49673991193134787}\n",
      "Epoch 3/20\n"
     ]
    },
    {
     "name": "stderr",
     "output_type": "stream",
     "text": [
      "100%|██████████| 3151/3151 [05:34<00:00,  9.42it/s]\n"
     ]
    },
    {
     "name": "stdout",
     "output_type": "stream",
     "text": [
      "{'val_loss': 0.45325577576190995, 'val_accuracy': 0.8489577765900588, 'precision': 0.8510778626971404, 'recall': 0.8489577765900588, 'f1-score': 0.8488039395940972, 'macro_f1-score': 0.8463420418910517, 'balanced_accuracy': 0.8558035961648135, 'mcc': 0.8146115374467296, 'train_loss': 0.3343692178740714}\n",
      "Epoch 4/20\n"
     ]
    },
    {
     "name": "stderr",
     "output_type": "stream",
     "text": [
      "100%|██████████| 3151/3151 [05:34<00:00,  9.41it/s]\n"
     ]
    },
    {
     "name": "stdout",
     "output_type": "stream",
     "text": [
      "{'val_loss': 2.0070290214995032, 'val_accuracy': 0.2878674505611972, 'precision': 0.08286766909260333, 'recall': 0.2878674505611972, 'f1-score': 0.1286897483999509, 'macro_f1-score': 0.055880644090305444, 'balanced_accuracy': 0.125, 'mcc': 0.0, 'train_loss': 1.3547944742535993}\n",
      "Epoch 5/20\n"
     ]
    },
    {
     "name": "stderr",
     "output_type": "stream",
     "text": [
      "100%|██████████| 3151/3151 [05:34<00:00,  9.41it/s]\n"
     ]
    },
    {
     "name": "stdout",
     "output_type": "stream",
     "text": [
      "{'val_loss': 0.5676067741301197, 'val_accuracy': 0.8285408872260823, 'precision': 0.8364477522002499, 'recall': 0.8285408872260823, 'f1-score': 0.829457851380539, 'macro_f1-score': 0.8366423859361454, 'balanced_accuracy': 0.8418010616622531, 'mcc': 0.7919003336350046, 'train_loss': 1.4407019592951351}\n",
      "Epoch 6/20\n"
     ]
    },
    {
     "name": "stderr",
     "output_type": "stream",
     "text": [
      "100%|██████████| 3151/3151 [05:34<00:00,  9.42it/s]\n"
     ]
    },
    {
     "name": "stdout",
     "output_type": "stream",
     "text": [
      "{'val_loss': 0.8878233776738246, 'val_accuracy': 0.6963121325494388, 'precision': 0.726465850732953, 'recall': 0.6963121325494388, 'f1-score': 0.6549643383755569, 'macro_f1-score': 0.6611954711116791, 'balanced_accuracy': 0.6757162041311755, 'mcc': 0.6348516752437686, 'train_loss': 0.5413164985185871}\n",
      "Early stopping.\n",
      "\n",
      "[Fold 3]\n",
      "🚀 Using T5-paraphraser for data augmentation + under-sampling\n",
      "Using device: cuda\n",
      "CUDA Available: True\n",
      "CUDA Device: NVIDIA GeForce RTX 5070 Ti\n",
      "Current GPU Memory Allocated: 2.30 GB\n",
      "Current GPU Memory Cached: 5.34 GB\n",
      "🔧 Augmenting label 1: 1399 → 5000 (+3601)\n",
      "🔧 Augmenting label 4: 1679 → 5000 (+3321)\n",
      "🔧 Augmenting label 6: 1738 → 5000 (+3262)\n",
      "🔧 Augmenting label 7: 2186 → 5000 (+2814)\n",
      "Label distribution after resampling:\n",
      "  label 0: 5626\n",
      "  label 1: 5000\n",
      "  label 2: 8442\n",
      "  label 3: 10770\n",
      "  label 4: 5000\n",
      "  label 5: 5578\n",
      "  label 6: 5000\n",
      "  label 7: 5000\n",
      "model is microsoft/deberta-base cnn\n",
      "Using weighted CrossEntropyLoss with weights: tensor([2.1929, 2.3109, 1.7871, 1.5435, 2.3109, 2.2015, 2.3109, 2.3109],\n",
      "       device='cuda:0')\n",
      "Epoch 1/20\n"
     ]
    },
    {
     "name": "stderr",
     "output_type": "stream",
     "text": [
      "100%|██████████| 3151/3151 [05:34<00:00,  9.41it/s]\n"
     ]
    },
    {
     "name": "stdout",
     "output_type": "stream",
     "text": [
      "{'val_loss': 0.44572099428783113, 'val_accuracy': 0.8426341672011973, 'precision': 0.847770561661467, 'recall': 0.8426341672011973, 'f1-score': 0.841775385564032, 'macro_f1-score': 0.8452491432843829, 'balanced_accuracy': 0.8524353801889056, 'mcc': 0.8091239906299637, 'train_loss': 0.5938776500058464}\n",
      "Epoch 2/20\n"
     ]
    },
    {
     "name": "stderr",
     "output_type": "stream",
     "text": [
      "100%|██████████| 3151/3151 [05:34<00:00,  9.41it/s]\n"
     ]
    },
    {
     "name": "stdout",
     "output_type": "stream",
     "text": [
      "{'val_loss': 0.4102541342170702, 'val_accuracy': 0.858242463117383, 'precision': 0.8614509391520702, 'recall': 0.858242463117383, 'f1-score': 0.8584911936685963, 'macro_f1-score': 0.8574881812996973, 'balanced_accuracy': 0.8579748260218771, 'mcc': 0.8259175369765233, 'train_loss': 0.35545411147147665}\n",
      "Epoch 3/20\n"
     ]
    },
    {
     "name": "stderr",
     "output_type": "stream",
     "text": [
      "100%|██████████| 3151/3151 [05:34<00:00,  9.41it/s]\n"
     ]
    },
    {
     "name": "stdout",
     "output_type": "stream",
     "text": [
      "{'val_loss': 0.44865633770823476, 'val_accuracy': 0.8664742356211247, 'precision': 0.8686162674587962, 'recall': 0.8664742356211247, 'f1-score': 0.866362723934649, 'macro_f1-score': 0.8700730226705975, 'balanced_accuracy': 0.8580832963077684, 'mcc': 0.835880858361497, 'train_loss': 0.2650707809568416}\n",
      "Epoch 4/20\n"
     ]
    },
    {
     "name": "stderr",
     "output_type": "stream",
     "text": [
      "100%|██████████| 3151/3151 [05:35<00:00,  9.40it/s]\n"
     ]
    },
    {
     "name": "stdout",
     "output_type": "stream",
     "text": [
      "{'val_loss': 0.5292602021678979, 'val_accuracy': 0.858776993799444, 'precision': 0.8652421118856214, 'recall': 0.858776993799444, 'f1-score': 0.8583004948987398, 'macro_f1-score': 0.861585298330336, 'balanced_accuracy': 0.869080487957357, 'mcc': 0.8290869101407261, 'train_loss': 0.29313005587792185}\n",
      "Epoch 5/20\n"
     ]
    },
    {
     "name": "stderr",
     "output_type": "stream",
     "text": [
      "100%|██████████| 3151/3151 [05:35<00:00,  9.40it/s]\n"
     ]
    },
    {
     "name": "stdout",
     "output_type": "stream",
     "text": [
      "{'val_loss': 0.5830732335646948, 'val_accuracy': 0.8569595894804362, 'precision': 0.8621008442398189, 'recall': 0.8569595894804362, 'f1-score': 0.8559854592938292, 'macro_f1-score': 0.8533409486253971, 'balanced_accuracy': 0.8245623300451503, 'mcc': 0.8232861028816112, 'train_loss': 0.14809974861203157}\n",
      "Epoch 6/20\n"
     ]
    },
    {
     "name": "stderr",
     "output_type": "stream",
     "text": [
      "100%|██████████| 3151/3151 [05:35<00:00,  9.40it/s]\n"
     ]
    },
    {
     "name": "stdout",
     "output_type": "stream",
     "text": [
      "{'val_loss': 0.5264083411922662, 'val_accuracy': 0.8597391490271542, 'precision': 0.861495699759232, 'recall': 0.8597391490271542, 'f1-score': 0.8601385127682736, 'macro_f1-score': 0.8539394099278355, 'balanced_accuracy': 0.8602959645520407, 'mcc': 0.8276922749872451, 'train_loss': 0.13204505273519068}\n",
      "Early stopping.\n",
      "\n",
      "[Fold 4]\n",
      "🚀 Using T5-paraphraser for data augmentation + under-sampling\n",
      "Using device: cuda\n",
      "CUDA Available: True\n",
      "CUDA Device: NVIDIA GeForce RTX 5070 Ti\n",
      "Current GPU Memory Allocated: 2.30 GB\n",
      "Current GPU Memory Cached: 5.34 GB\n",
      "🔧 Augmenting label 1: 1399 → 5000 (+3601)\n",
      "🔧 Augmenting label 4: 1679 → 5000 (+3321)\n",
      "🔧 Augmenting label 6: 1738 → 5000 (+3262)\n",
      "🔧 Augmenting label 7: 2186 → 5000 (+2814)\n",
      "Label distribution after resampling:\n",
      "  label 0: 5625\n",
      "  label 1: 5000\n",
      "  label 2: 8441\n",
      "  label 3: 10771\n",
      "  label 4: 5000\n",
      "  label 5: 5579\n",
      "  label 6: 5000\n",
      "  label 7: 5000\n",
      "model is microsoft/deberta-base cnn\n",
      "Using weighted CrossEntropyLoss with weights: tensor([2.1931, 2.3109, 1.7872, 1.5435, 2.3109, 2.2013, 2.3109, 2.3109],\n",
      "       device='cuda:0')\n",
      "Epoch 1/20\n"
     ]
    },
    {
     "name": "stderr",
     "output_type": "stream",
     "text": [
      "100%|██████████| 3151/3151 [05:36<00:00,  9.37it/s]\n"
     ]
    },
    {
     "name": "stdout",
     "output_type": "stream",
     "text": [
      "{'val_loss': 0.4855537212238862, 'val_accuracy': 0.8393200769724182, 'precision': 0.8404986131163233, 'recall': 0.8393200769724182, 'f1-score': 0.8394251735015733, 'macro_f1-score': 0.8408287257997433, 'balanced_accuracy': 0.8482382665366925, 'mcc': 0.8026360746975991, 'train_loss': 0.7110470042025161}\n",
      "Epoch 2/20\n"
     ]
    },
    {
     "name": "stderr",
     "output_type": "stream",
     "text": [
      "100%|██████████| 3151/3151 [05:40<00:00,  9.25it/s]\n"
     ]
    },
    {
     "name": "stdout",
     "output_type": "stream",
     "text": [
      "{'val_loss': 0.6683078649525459, 'val_accuracy': 0.8022236476373744, 'precision': 0.8030777710624403, 'recall': 0.8022236476373744, 'f1-score': 0.7975638102399396, 'macro_f1-score': 0.7671726400246989, 'balanced_accuracy': 0.760879252164141, 'mcc': 0.7557479824498046, 'train_loss': 0.4488276391716036}\n",
      "Epoch 3/20\n"
     ]
    },
    {
     "name": "stderr",
     "output_type": "stream",
     "text": [
      "100%|██████████| 3151/3151 [05:34<00:00,  9.41it/s]\n"
     ]
    },
    {
     "name": "stdout",
     "output_type": "stream",
     "text": [
      "{'val_loss': 0.512897165504913, 'val_accuracy': 0.8463758819756254, 'precision': 0.8482666778392167, 'recall': 0.8463758819756254, 'f1-score': 0.8458572170233697, 'macro_f1-score': 0.8484518064591247, 'balanced_accuracy': 0.84296126823818, 'mcc': 0.8109263042662349, 'train_loss': 0.3812192639153331}\n",
      "Epoch 4/20\n"
     ]
    },
    {
     "name": "stderr",
     "output_type": "stream",
     "text": [
      "100%|██████████| 3151/3151 [05:34<00:00,  9.41it/s]\n"
     ]
    },
    {
     "name": "stdout",
     "output_type": "stream",
     "text": [
      "{'val_loss': 0.45983221388748313, 'val_accuracy': 0.8469104126576865, 'precision': 0.8506717186896062, 'recall': 0.8469104126576865, 'f1-score': 0.8461801600811727, 'macro_f1-score': 0.8498049521753299, 'balanced_accuracy': 0.8578785910633575, 'mcc': 0.8139283647145501, 'train_loss': 0.27956068893345987}\n",
      "Epoch 5/20\n"
     ]
    },
    {
     "name": "stderr",
     "output_type": "stream",
     "text": [
      "100%|██████████| 3151/3151 [05:34<00:00,  9.41it/s]\n"
     ]
    },
    {
     "name": "stdout",
     "output_type": "stream",
     "text": [
      "{'val_loss': 0.52836176706478, 'val_accuracy': 0.8507590335685268, 'precision': 0.8520996889850359, 'recall': 0.8507590335685268, 'f1-score': 0.8505220750088712, 'macro_f1-score': 0.844153400259553, 'balanced_accuracy': 0.8434086665849453, 'mcc': 0.8167604628696044, 'train_loss': 0.24414684350703708}\n",
      "Epoch 6/20\n"
     ]
    },
    {
     "name": "stderr",
     "output_type": "stream",
     "text": [
      "100%|██████████| 3151/3151 [05:34<00:00,  9.41it/s]\n"
     ]
    },
    {
     "name": "stdout",
     "output_type": "stream",
     "text": [
      "{'val_loss': 1.7064881870889257, 'val_accuracy': 0.18580286508445584, 'precision': 0.7243022959832812, 'recall': 0.18580286508445584, 'f1-score': 0.19507002277779986, 'macro_f1-score': 0.27931026679512017, 'balanced_accuracy': 0.3519484427663897, 'mcc': 0.259920017633802, 'train_loss': 0.33130369912575836}\n",
      "Epoch 7/20\n"
     ]
    },
    {
     "name": "stderr",
     "output_type": "stream",
     "text": [
      "100%|██████████| 3151/3151 [05:35<00:00,  9.40it/s]\n"
     ]
    },
    {
     "name": "stdout",
     "output_type": "stream",
     "text": [
      "{'val_loss': 0.7299795873590514, 'val_accuracy': 0.8385717340175326, 'precision': 0.8421357022992133, 'recall': 0.8385717340175326, 'f1-score': 0.8384776132840084, 'macro_f1-score': 0.8344922380646782, 'balanced_accuracy': 0.8344309331585368, 'mcc': 0.8017454645944331, 'train_loss': 0.40940840756570873}\n",
      "Early stopping.\n",
      "\n",
      "[Fold 5]\n",
      "🚀 Using T5-paraphraser for data augmentation + under-sampling\n",
      "Using device: cuda\n",
      "CUDA Available: True\n",
      "CUDA Device: NVIDIA GeForce RTX 5070 Ti\n",
      "Current GPU Memory Allocated: 2.31 GB\n",
      "Current GPU Memory Cached: 5.34 GB\n",
      "🔧 Augmenting label 1: 1399 → 5000 (+3601)\n",
      "🔧 Augmenting label 4: 1678 → 5000 (+3322)\n",
      "🔧 Augmenting label 6: 1738 → 5000 (+3262)\n",
      "🔧 Augmenting label 7: 2187 → 5000 (+2813)\n",
      "Label distribution after resampling:\n",
      "  label 0: 5625\n",
      "  label 1: 5000\n",
      "  label 2: 8441\n",
      "  label 3: 10771\n",
      "  label 4: 5000\n",
      "  label 5: 5579\n",
      "  label 6: 5000\n",
      "  label 7: 5000\n",
      "model is microsoft/deberta-base cnn\n",
      "Using weighted CrossEntropyLoss with weights: tensor([2.1931, 2.3109, 1.7872, 1.5435, 2.3109, 2.2013, 2.3109, 2.3109],\n",
      "       device='cuda:0')\n",
      "Epoch 1/20\n"
     ]
    },
    {
     "name": "stderr",
     "output_type": "stream",
     "text": [
      "100%|██████████| 3151/3151 [05:34<00:00,  9.43it/s]\n"
     ]
    },
    {
     "name": "stdout",
     "output_type": "stream",
     "text": [
      "{'val_loss': 0.481170976241557, 'val_accuracy': 0.83365405174257, 'precision': 0.8365816321744934, 'recall': 0.83365405174257, 'f1-score': 0.8329611636749296, 'macro_f1-score': 0.833433948872985, 'balanced_accuracy': 0.8412937014319195, 'mcc': 0.7973400257216573, 'train_loss': 0.6045504372912157}\n",
      "Epoch 2/20\n"
     ]
    },
    {
     "name": "stderr",
     "output_type": "stream",
     "text": [
      "100%|██████████| 3151/3151 [05:34<00:00,  9.42it/s]\n"
     ]
    },
    {
     "name": "stdout",
     "output_type": "stream",
     "text": [
      "{'val_loss': 0.4617850797266787, 'val_accuracy': 0.8495830660679923, 'precision': 0.852139388428687, 'recall': 0.8495830660679923, 'f1-score': 0.8497738174741899, 'macro_f1-score': 0.8491296186998855, 'balanced_accuracy': 0.857182795825475, 'mcc': 0.8154267186239877, 'train_loss': 0.4568444549326848}\n",
      "Epoch 3/20\n"
     ]
    },
    {
     "name": "stderr",
     "output_type": "stream",
     "text": [
      "100%|██████████| 3151/3151 [05:34<00:00,  9.42it/s]\n"
     ]
    },
    {
     "name": "stdout",
     "output_type": "stream",
     "text": [
      "{'val_loss': 0.4461341983582984, 'val_accuracy': 0.8554629035706649, 'precision': 0.8567151471186248, 'recall': 0.8554629035706649, 'f1-score': 0.8557109904122624, 'macro_f1-score': 0.8552644669654232, 'balanced_accuracy': 0.8532224389821066, 'mcc': 0.8221406231048684, 'train_loss': 0.28524390985936243}\n",
      "Epoch 4/20\n"
     ]
    },
    {
     "name": "stderr",
     "output_type": "stream",
     "text": [
      "100%|██████████| 3151/3151 [05:34<00:00,  9.42it/s]\n"
     ]
    },
    {
     "name": "stdout",
     "output_type": "stream",
     "text": [
      "{'val_loss': 0.4920835073177631, 'val_accuracy': 0.8484070985674578, 'precision': 0.8492790969468657, 'recall': 0.8484070985674578, 'f1-score': 0.8478812475925149, 'macro_f1-score': 0.8423570854651996, 'balanced_accuracy': 0.8491021858526151, 'mcc': 0.8139519612796415, 'train_loss': 0.23486026923227743}\n",
      "Epoch 5/20\n"
     ]
    },
    {
     "name": "stderr",
     "output_type": "stream",
     "text": [
      "100%|██████████| 3151/3151 [05:34<00:00,  9.42it/s]\n"
     ]
    },
    {
     "name": "stdout",
     "output_type": "stream",
     "text": [
      "{'val_loss': 0.5203348644083748, 'val_accuracy': 0.8511866581141757, 'precision': 0.8538257889233726, 'recall': 0.8511866581141757, 'f1-score': 0.8513695261371672, 'macro_f1-score': 0.8560774049655198, 'balanced_accuracy': 0.853686773492637, 'mcc': 0.8170491120291422, 'train_loss': 0.18373922560116768}\n",
      "Epoch 6/20\n"
     ]
    },
    {
     "name": "stderr",
     "output_type": "stream",
     "text": [
      "100%|██████████| 3151/3151 [05:34<00:00,  9.42it/s]\n"
     ]
    },
    {
     "name": "stdout",
     "output_type": "stream",
     "text": [
      "{'val_loss': 0.5787199519415441, 'val_accuracy': 0.8506521274321146, 'precision': 0.8526464137886912, 'recall': 0.8506521274321146, 'f1-score': 0.8501580961831177, 'macro_f1-score': 0.8486536923587178, 'balanced_accuracy': 0.8580861307906591, 'mcc': 0.8177782053092718, 'train_loss': 0.1364928608775681}\n",
      "Epoch 7/20\n"
     ]
    },
    {
     "name": "stderr",
     "output_type": "stream",
     "text": [
      "100%|██████████| 3151/3151 [05:34<00:00,  9.42it/s]\n"
     ]
    },
    {
     "name": "stdout",
     "output_type": "stream",
     "text": [
      "{'val_loss': 0.5960696870033255, 'val_accuracy': 0.8541800299337182, 'precision': 0.855527774721592, 'recall': 0.8541800299337182, 'f1-score': 0.8538502542587394, 'macro_f1-score': 0.8548233510834011, 'balanced_accuracy': 0.8462954509876779, 'mcc': 0.8206321484175025, 'train_loss': 0.11737092179815392}\n",
      "Epoch 8/20\n"
     ]
    },
    {
     "name": "stderr",
     "output_type": "stream",
     "text": [
      "100%|██████████| 3151/3151 [05:34<00:00,  9.42it/s]\n"
     ]
    },
    {
     "name": "stdout",
     "output_type": "stream",
     "text": [
      "{'val_loss': 0.9163144329467263, 'val_accuracy': 0.8338678640153945, 'precision': 0.8364663848059897, 'recall': 0.8338678640153945, 'f1-score': 0.8323964017018238, 'macro_f1-score': 0.8226647130964373, 'balanced_accuracy': 0.81257760353019, 'mcc': 0.7955816043227492, 'train_loss': 0.10253671423832952}\n",
      "Early stopping.\n",
      "\n",
      " === microsoft/deberta-base + cnn + t5 Final 5-fold Cross-Validation Results ===\n",
      "val_loss: 0.4674\n",
      "val_accuracy: 0.8564\n",
      "precision: 0.8588\n",
      "recall: 0.8564\n",
      "f1-score: 0.8562\n",
      "macro_f1-score: 0.8575\n",
      "balanced_accuracy: 0.8560\n",
      "mcc: 0.8239\n",
      "train_loss: 0.2653\n",
      "total_seconds: 30394.0000\n",
      "total_time: 8 hrs 26 mins 34 secs\n",
      "▶ Running: microsoft/deberta-base + lstm + t5\n",
      "tokenizer is microsoft/deberta-base\n",
      "Using device: cuda\n",
      "CUDA Available: True\n",
      "CUDA Device: NVIDIA GeForce RTX 5070 Ti\n",
      "Current GPU Memory Allocated: 0.02 GB\n",
      "Current GPU Memory Cached: 5.34 GB\n",
      "\n",
      "[Fold 1]\n",
      "🚀 Using T5-paraphraser for data augmentation + under-sampling\n",
      "Using device: cuda\n",
      "CUDA Available: True\n",
      "CUDA Device: NVIDIA GeForce RTX 5070 Ti\n",
      "Current GPU Memory Allocated: 0.02 GB\n",
      "Current GPU Memory Cached: 5.34 GB\n",
      "🔧 Augmenting label 1: 1399 → 5000 (+3601)\n",
      "🔧 Augmenting label 4: 1678 → 5000 (+3322)\n",
      "🔧 Augmenting label 6: 1737 → 5000 (+3263)\n",
      "🔧 Augmenting label 7: 2187 → 5000 (+2813)\n",
      "Label distribution after resampling:\n",
      "  label 0: 5626\n",
      "  label 1: 5000\n",
      "  label 2: 8442\n",
      "  label 3: 10770\n",
      "  label 4: 5000\n",
      "  label 5: 5578\n",
      "  label 6: 5000\n",
      "  label 7: 5000\n",
      "model is microsoft/deberta-base lstm\n",
      "Using weighted CrossEntropyLoss with weights: tensor([2.1929, 2.3109, 1.7871, 1.5435, 2.3109, 2.2015, 2.3109, 2.3109],\n",
      "       device='cuda:0')\n",
      "Epoch 1/20\n"
     ]
    },
    {
     "name": "stderr",
     "output_type": "stream",
     "text": [
      "100%|██████████| 3151/3151 [05:38<00:00,  9.30it/s]\n"
     ]
    },
    {
     "name": "stdout",
     "output_type": "stream",
     "text": [
      "{'val_loss': 1.9873116623642098, 'val_accuracy': 0.2878674505611972, 'precision': 0.08286766909260333, 'recall': 0.2878674505611972, 'f1-score': 0.1286897483999509, 'macro_f1-score': 0.055880644090305444, 'balanced_accuracy': 0.125, 'mcc': 0.0, 'train_loss': 1.8831158393301763}\n",
      "Epoch 2/20\n"
     ]
    },
    {
     "name": "stderr",
     "output_type": "stream",
     "text": [
      "100%|██████████| 3151/3151 [05:38<00:00,  9.30it/s]\n"
     ]
    },
    {
     "name": "stdout",
     "output_type": "stream",
     "text": [
      "{'val_loss': 1.8866738362190052, 'val_accuracy': 0.24404061998931054, 'precision': 0.13183599897017861, 'recall': 0.24404061998931054, 'f1-score': 0.11354199485167274, 'macro_f1-score': 0.11833816974598128, 'balanced_accuracy': 0.1896847167242593, 'mcc': 0.09318246004795805, 'train_loss': 1.7189246685457245}\n",
      "Epoch 3/20\n"
     ]
    },
    {
     "name": "stderr",
     "output_type": "stream",
     "text": [
      "100%|██████████| 3151/3151 [05:38<00:00,  9.31it/s]\n"
     ]
    },
    {
     "name": "stdout",
     "output_type": "stream",
     "text": [
      "{'val_loss': 1.9993910180197823, 'val_accuracy': 0.2878674505611972, 'precision': 0.08286766909260333, 'recall': 0.2878674505611972, 'f1-score': 0.1286897483999509, 'macro_f1-score': 0.055880644090305444, 'balanced_accuracy': 0.125, 'mcc': 0.0, 'train_loss': 1.9189278203999947}\n",
      "Epoch 4/20\n"
     ]
    },
    {
     "name": "stderr",
     "output_type": "stream",
     "text": [
      "100%|██████████| 3151/3151 [05:38<00:00,  9.31it/s]\n"
     ]
    },
    {
     "name": "stdout",
     "output_type": "stream",
     "text": [
      "{'val_loss': 1.9779319292459732, 'val_accuracy': 0.2878674505611972, 'precision': 0.08286766909260333, 'recall': 0.2878674505611972, 'f1-score': 0.1286897483999509, 'macro_f1-score': 0.055880644090305444, 'balanced_accuracy': 0.125, 'mcc': 0.0, 'train_loss': 2.036606429304936}\n",
      "Epoch 5/20\n"
     ]
    },
    {
     "name": "stderr",
     "output_type": "stream",
     "text": [
      "100%|██████████| 3151/3151 [05:38<00:00,  9.30it/s]\n"
     ]
    },
    {
     "name": "stdout",
     "output_type": "stream",
     "text": [
      "{'val_loss': 1.9774163521253145, 'val_accuracy': 0.2878674505611972, 'precision': 0.08286766909260333, 'recall': 0.2878674505611972, 'f1-score': 0.1286897483999509, 'macro_f1-score': 0.055880644090305444, 'balanced_accuracy': 0.125, 'mcc': 0.0, 'train_loss': 2.0366495891209064}\n",
      "Early stopping.\n",
      "\n",
      "[Fold 2]\n",
      "🚀 Using T5-paraphraser for data augmentation + under-sampling\n",
      "Using device: cuda\n",
      "CUDA Available: True\n",
      "CUDA Device: NVIDIA GeForce RTX 5070 Ti\n",
      "Current GPU Memory Allocated: 2.33 GB\n",
      "Current GPU Memory Cached: 5.50 GB\n",
      "🔧 Augmenting label 1: 1400 → 5000 (+3600)\n",
      "🔧 Augmenting label 4: 1678 → 5000 (+3322)\n",
      "🔧 Augmenting label 6: 1737 → 5000 (+3263)\n",
      "🔧 Augmenting label 7: 2186 → 5000 (+2814)\n",
      "Label distribution after resampling:\n",
      "  label 0: 5626\n",
      "  label 1: 5000\n",
      "  label 2: 8442\n",
      "  label 3: 10770\n",
      "  label 4: 5000\n",
      "  label 5: 5578\n",
      "  label 6: 5000\n",
      "  label 7: 5000\n",
      "model is microsoft/deberta-base lstm\n",
      "Using weighted CrossEntropyLoss with weights: tensor([2.1929, 2.3109, 1.7871, 1.5435, 2.3109, 2.2015, 2.3109, 2.3109],\n",
      "       device='cuda:0')\n",
      "Epoch 1/20\n"
     ]
    },
    {
     "name": "stderr",
     "output_type": "stream",
     "text": [
      "100%|██████████| 3151/3151 [05:38<00:00,  9.31it/s]\n"
     ]
    },
    {
     "name": "stdout",
     "output_type": "stream",
     "text": [
      "{'val_loss': 0.9264248527777501, 'val_accuracy': 0.7196151790486371, 'precision': 0.729909040741951, 'recall': 0.7196151790486371, 'f1-score': 0.7183369663172698, 'macro_f1-score': 0.7066392063843672, 'balanced_accuracy': 0.7134806367227977, 'mcc': 0.6558509705417238, 'train_loss': 1.2855719727151018}\n",
      "Epoch 2/20\n"
     ]
    },
    {
     "name": "stderr",
     "output_type": "stream",
     "text": [
      "100%|██████████| 3151/3151 [05:38<00:00,  9.31it/s]\n"
     ]
    },
    {
     "name": "stdout",
     "output_type": "stream",
     "text": [
      "{'val_loss': 0.7057567585418877, 'val_accuracy': 0.7903794762159273, 'precision': 0.7962381084701144, 'recall': 0.7903794762159273, 'f1-score': 0.7882292595757948, 'macro_f1-score': 0.781185165332305, 'balanced_accuracy': 0.7905674321434035, 'mcc': 0.7452996555173462, 'train_loss': 0.6828796474806319}\n",
      "Epoch 3/20\n"
     ]
    },
    {
     "name": "stderr",
     "output_type": "stream",
     "text": [
      "100%|██████████| 3151/3151 [05:38<00:00,  9.30it/s]\n"
     ]
    },
    {
     "name": "stdout",
     "output_type": "stream",
     "text": [
      "{'val_loss': 0.946526714006805, 'val_accuracy': 0.7366114377338322, 'precision': 0.7654042342142126, 'recall': 0.7366114377338322, 'f1-score': 0.7366167052875539, 'macro_f1-score': 0.6408824510558313, 'balanced_accuracy': 0.6465671616304438, 'mcc': 0.678925642405735, 'train_loss': 0.6687584322942548}\n",
      "Epoch 4/20\n"
     ]
    },
    {
     "name": "stderr",
     "output_type": "stream",
     "text": [
      "100%|██████████| 3151/3151 [05:38<00:00,  9.31it/s]\n"
     ]
    },
    {
     "name": "stdout",
     "output_type": "stream",
     "text": [
      "{'val_loss': 0.6658423928368805, 'val_accuracy': 0.7898450026723677, 'precision': 0.7976677807849074, 'recall': 0.7898450026723677, 'f1-score': 0.7874631220574994, 'macro_f1-score': 0.7775211580808592, 'balanced_accuracy': 0.7679657220587712, 'mcc': 0.7424893643742932, 'train_loss': 0.6009128564576787}\n",
      "Epoch 5/20\n"
     ]
    },
    {
     "name": "stderr",
     "output_type": "stream",
     "text": [
      "100%|██████████| 3151/3151 [05:38<00:00,  9.31it/s]\n"
     ]
    },
    {
     "name": "stdout",
     "output_type": "stream",
     "text": [
      "{'val_loss': 0.6986453019655667, 'val_accuracy': 0.7890967397113843, 'precision': 0.7944202541367, 'recall': 0.7890967397113843, 'f1-score': 0.7887801408024461, 'macro_f1-score': 0.7837758102531089, 'balanced_accuracy': 0.7947704233496345, 'mcc': 0.7423750438949736, 'train_loss': 0.5444752439579881}\n",
      "Epoch 6/20\n"
     ]
    },
    {
     "name": "stderr",
     "output_type": "stream",
     "text": [
      "100%|██████████| 3151/3151 [05:38<00:00,  9.31it/s]\n"
     ]
    },
    {
     "name": "stdout",
     "output_type": "stream",
     "text": [
      "{'val_loss': 0.6697851778541365, 'val_accuracy': 0.8043826830571886, 'precision': 0.8080422389302749, 'recall': 0.8043826830571886, 'f1-score': 0.8039788128580787, 'macro_f1-score': 0.792763476990068, 'balanced_accuracy': 0.8049498096301438, 'mcc': 0.760735276943402, 'train_loss': 0.5724611956542237}\n",
      "Epoch 7/20\n"
     ]
    },
    {
     "name": "stderr",
     "output_type": "stream",
     "text": [
      "100%|██████████| 3151/3151 [05:38<00:00,  9.30it/s]\n"
     ]
    },
    {
     "name": "stdout",
     "output_type": "stream",
     "text": [
      "{'val_loss': 0.8521067120835313, 'val_accuracy': 0.7629075360769642, 'precision': 0.7702768158664486, 'recall': 0.7629075360769642, 'f1-score': 0.7615900364048983, 'macro_f1-score': 0.7658277394944664, 'balanced_accuracy': 0.7400752360322986, 'mcc': 0.7073855463611313, 'train_loss': 0.7649495494021419}\n",
      "Epoch 8/20\n"
     ]
    },
    {
     "name": "stderr",
     "output_type": "stream",
     "text": [
      "100%|██████████| 3151/3151 [05:38<00:00,  9.31it/s]\n"
     ]
    },
    {
     "name": "stdout",
     "output_type": "stream",
     "text": [
      "{'val_loss': 0.6571653986270102, 'val_accuracy': 0.8064136825227152, 'precision': 0.8090974183615992, 'recall': 0.8064136825227152, 'f1-score': 0.8070784440161972, 'macro_f1-score': 0.8074373809081116, 'balanced_accuracy': 0.8077373568447295, 'mcc': 0.7617706055032086, 'train_loss': 0.5413002550415162}\n",
      "Epoch 9/20\n"
     ]
    },
    {
     "name": "stderr",
     "output_type": "stream",
     "text": [
      "100%|██████████| 3151/3151 [05:38<00:00,  9.31it/s]\n"
     ]
    },
    {
     "name": "stdout",
     "output_type": "stream",
     "text": [
      "{'val_loss': 0.7981639838753603, 'val_accuracy': 0.7739176910742919, 'precision': 0.7755633290007714, 'recall': 0.7739176910742919, 'f1-score': 0.7730570277506942, 'macro_f1-score': 0.753342527406927, 'balanced_accuracy': 0.7633313371604027, 'mcc': 0.7224454448776365, 'train_loss': 0.6196489564882919}\n",
      "Epoch 10/20\n"
     ]
    },
    {
     "name": "stderr",
     "output_type": "stream",
     "text": [
      "100%|██████████| 3151/3151 [05:38<00:00,  9.31it/s]\n"
     ]
    },
    {
     "name": "stdout",
     "output_type": "stream",
     "text": [
      "{'val_loss': 1.2218878640323623, 'val_accuracy': 0.5955104222340994, 'precision': 0.6894199484409249, 'recall': 0.5955104222340994, 'f1-score': 0.5629484111031711, 'macro_f1-score': 0.6164630229982461, 'balanced_accuracy': 0.6654167825283899, 'mcc': 0.5280957591935782, 'train_loss': 0.6250285669210713}\n",
      "Epoch 11/20\n"
     ]
    },
    {
     "name": "stderr",
     "output_type": "stream",
     "text": [
      "100%|██████████| 3151/3151 [05:38<00:00,  9.31it/s]\n"
     ]
    },
    {
     "name": "stdout",
     "output_type": "stream",
     "text": [
      "{'val_loss': 0.792881741011754, 'val_accuracy': 0.7574559059326563, 'precision': 0.7641815370199396, 'recall': 0.7574559059326563, 'f1-score': 0.7576071220311963, 'macro_f1-score': 0.7418160500318369, 'balanced_accuracy': 0.7650403366319634, 'mcc': 0.7049028195588253, 'train_loss': 0.6397810018583258}\n",
      "Early stopping.\n",
      "\n",
      "[Fold 3]\n",
      "🚀 Using T5-paraphraser for data augmentation + under-sampling\n",
      "Using device: cuda\n",
      "CUDA Available: True\n",
      "CUDA Device: NVIDIA GeForce RTX 5070 Ti\n",
      "Current GPU Memory Allocated: 2.33 GB\n",
      "Current GPU Memory Cached: 5.50 GB\n",
      "🔧 Augmenting label 1: 1399 → 5000 (+3601)\n",
      "🔧 Augmenting label 4: 1679 → 5000 (+3321)\n",
      "🔧 Augmenting label 6: 1738 → 5000 (+3262)\n",
      "🔧 Augmenting label 7: 2186 → 5000 (+2814)\n",
      "Label distribution after resampling:\n",
      "  label 0: 5626\n",
      "  label 1: 5000\n",
      "  label 2: 8442\n",
      "  label 3: 10770\n",
      "  label 4: 5000\n",
      "  label 5: 5578\n",
      "  label 6: 5000\n",
      "  label 7: 5000\n",
      "model is microsoft/deberta-base lstm\n",
      "Using weighted CrossEntropyLoss with weights: tensor([2.1929, 2.3109, 1.7871, 1.5435, 2.3109, 2.2015, 2.3109, 2.3109],\n",
      "       device='cuda:0')\n",
      "Epoch 1/20\n"
     ]
    },
    {
     "name": "stderr",
     "output_type": "stream",
     "text": [
      "100%|██████████| 3151/3151 [05:38<00:00,  9.31it/s]\n"
     ]
    },
    {
     "name": "stdout",
     "output_type": "stream",
     "text": [
      "{'val_loss': 0.6495283270748252, 'val_accuracy': 0.8022236476373744, 'precision': 0.8165731545065188, 'recall': 0.8022236476373744, 'f1-score': 0.8015349884656032, 'macro_f1-score': 0.8075993323122113, 'balanced_accuracy': 0.782134495338317, 'mcc': 0.7568628700424693, 'train_loss': 0.89112236094698}\n",
      "Epoch 2/20\n"
     ]
    },
    {
     "name": "stderr",
     "output_type": "stream",
     "text": [
      "100%|██████████| 3151/3151 [05:38<00:00,  9.30it/s]\n"
     ]
    },
    {
     "name": "stdout",
     "output_type": "stream",
     "text": [
      "{'val_loss': 0.5857152537530304, 'val_accuracy': 0.8223220012828736, 'precision': 0.8264497632670361, 'recall': 0.8223220012828736, 'f1-score': 0.8217885231480309, 'macro_f1-score': 0.8250652504274235, 'balanced_accuracy': 0.8257765925032485, 'mcc': 0.7826957048083574, 'train_loss': 0.535956317012091}\n",
      "Epoch 3/20\n"
     ]
    },
    {
     "name": "stderr",
     "output_type": "stream",
     "text": [
      "100%|██████████| 3151/3151 [05:38<00:00,  9.30it/s]\n"
     ]
    },
    {
     "name": "stdout",
     "output_type": "stream",
     "text": [
      "{'val_loss': 0.5117266870461977, 'val_accuracy': 0.8391062646995937, 'precision': 0.8424385243639088, 'recall': 0.8391062646995937, 'f1-score': 0.8388215918096725, 'macro_f1-score': 0.83817691737504, 'balanced_accuracy': 0.8300700784652848, 'mcc': 0.8031526679080462, 'train_loss': 0.43782772099872935}\n",
      "Epoch 4/20\n"
     ]
    },
    {
     "name": "stderr",
     "output_type": "stream",
     "text": [
      "100%|██████████| 3151/3151 [05:38<00:00,  9.30it/s]\n"
     ]
    },
    {
     "name": "stdout",
     "output_type": "stream",
     "text": [
      "{'val_loss': 0.5211163174520191, 'val_accuracy': 0.8315159290143255, 'precision': 0.845087178584423, 'recall': 0.8315159290143255, 'f1-score': 0.833425925918166, 'macro_f1-score': 0.8291651174174786, 'balanced_accuracy': 0.8157766946053047, 'mcc': 0.7948135838312232, 'train_loss': 0.4135268361915656}\n",
      "Epoch 5/20\n"
     ]
    },
    {
     "name": "stderr",
     "output_type": "stream",
     "text": [
      "100%|██████████| 3151/3151 [05:38<00:00,  9.30it/s]\n"
     ]
    },
    {
     "name": "stdout",
     "output_type": "stream",
     "text": [
      "{'val_loss': 0.5014058611522882, 'val_accuracy': 0.8508659397049391, 'precision': 0.8541079427581042, 'recall': 0.8508659397049391, 'f1-score': 0.8506229693417728, 'macro_f1-score': 0.8522729271981697, 'balanced_accuracy': 0.8489318053469705, 'mcc': 0.816321907256115, 'train_loss': 0.3487322611494273}\n",
      "Epoch 6/20\n"
     ]
    },
    {
     "name": "stderr",
     "output_type": "stream",
     "text": [
      "100%|██████████| 3151/3151 [05:38<00:00,  9.30it/s]\n"
     ]
    },
    {
     "name": "stdout",
     "output_type": "stream",
     "text": [
      "{'val_loss': 0.548367844026886, 'val_accuracy': 0.8451999144750909, 'precision': 0.847916927161784, 'recall': 0.8451999144750909, 'f1-score': 0.8445858988197839, 'macro_f1-score': 0.8382643191270969, 'balanced_accuracy': 0.8280867714217602, 'mcc': 0.8093034724497583, 'train_loss': 0.3293205553397385}\n",
      "Epoch 7/20\n"
     ]
    },
    {
     "name": "stderr",
     "output_type": "stream",
     "text": [
      "100%|██████████| 3151/3151 [05:38<00:00,  9.31it/s]\n"
     ]
    },
    {
     "name": "stdout",
     "output_type": "stream",
     "text": [
      "{'val_loss': 1.2196300064396655, 'val_accuracy': 0.5984605516356639, 'precision': 0.664121925803601, 'recall': 0.5984605516356639, 'f1-score': 0.5682169536371994, 'macro_f1-score': 0.5285950996010951, 'balanced_accuracy': 0.5253340941532503, 'mcc': 0.5316278519144223, 'train_loss': 0.40922551454077094}\n",
      "Epoch 8/20\n"
     ]
    },
    {
     "name": "stderr",
     "output_type": "stream",
     "text": [
      "100%|██████████| 3151/3151 [05:38<00:00,  9.30it/s]\n"
     ]
    },
    {
     "name": "stdout",
     "output_type": "stream",
     "text": [
      "{'val_loss': 0.7139851879360329, 'val_accuracy': 0.7828736369467607, 'precision': 0.7910239517456974, 'recall': 0.7828736369467607, 'f1-score': 0.7827845532690536, 'macro_f1-score': 0.7873068557912395, 'balanced_accuracy': 0.8082756164823698, 'mcc': 0.7375965109880216, 'train_loss': 0.6826039884902682}\n",
      "Early stopping.\n",
      "\n",
      "[Fold 4]\n",
      "🚀 Using T5-paraphraser for data augmentation + under-sampling\n",
      "Using device: cuda\n",
      "CUDA Available: True\n",
      "CUDA Device: NVIDIA GeForce RTX 5070 Ti\n",
      "Current GPU Memory Allocated: 2.33 GB\n",
      "Current GPU Memory Cached: 5.50 GB\n",
      "🔧 Augmenting label 1: 1399 → 5000 (+3601)\n",
      "🔧 Augmenting label 4: 1679 → 5000 (+3321)\n",
      "🔧 Augmenting label 6: 1738 → 5000 (+3262)\n",
      "🔧 Augmenting label 7: 2186 → 5000 (+2814)\n",
      "Label distribution after resampling:\n",
      "  label 0: 5625\n",
      "  label 1: 5000\n",
      "  label 2: 8441\n",
      "  label 3: 10771\n",
      "  label 4: 5000\n",
      "  label 5: 5579\n",
      "  label 6: 5000\n",
      "  label 7: 5000\n",
      "model is microsoft/deberta-base lstm\n",
      "Using weighted CrossEntropyLoss with weights: tensor([2.1931, 2.3109, 1.7872, 1.5435, 2.3109, 2.2013, 2.3109, 2.3109],\n",
      "       device='cuda:0')\n",
      "Epoch 1/20\n"
     ]
    },
    {
     "name": "stderr",
     "output_type": "stream",
     "text": [
      "100%|██████████| 3151/3151 [05:38<00:00,  9.31it/s]\n"
     ]
    },
    {
     "name": "stdout",
     "output_type": "stream",
     "text": [
      "{'val_loss': 1.5240198565344525, 'val_accuracy': 0.4114817190506735, 'precision': 0.2650092240601271, 'recall': 0.4114817190506735, 'f1-score': 0.30270434904571386, 'macro_f1-score': 0.18436210327073374, 'balanced_accuracy': 0.2401168878212846, 'mcc': 0.26081845489417577, 'train_loss': 1.5191151887339207}\n",
      "Epoch 2/20\n"
     ]
    },
    {
     "name": "stderr",
     "output_type": "stream",
     "text": [
      "100%|██████████| 3151/3151 [05:38<00:00,  9.30it/s]\n"
     ]
    },
    {
     "name": "stdout",
     "output_type": "stream",
     "text": [
      "{'val_loss': 1.6325563015081943, 'val_accuracy': 0.3354714560615779, 'precision': 0.23354934309272987, 'recall': 0.3354714560615779, 'f1-score': 0.24084872359021245, 'macro_f1-score': 0.18716163977508188, 'balanced_accuracy': 0.26488504806536933, 'mcc': 0.18542862897944515, 'train_loss': 1.4444131727106644}\n",
      "Epoch 3/20\n"
     ]
    },
    {
     "name": "stderr",
     "output_type": "stream",
     "text": [
      "100%|██████████| 3151/3151 [05:38<00:00,  9.31it/s]\n"
     ]
    },
    {
     "name": "stdout",
     "output_type": "stream",
     "text": [
      "{'val_loss': 1.8034976431447216, 'val_accuracy': 0.32328415651058373, 'precision': 0.13978709875604997, 'recall': 0.32328415651058373, 'f1-score': 0.16940464772927322, 'macro_f1-score': 0.15137599728178525, 'balanced_accuracy': 0.22262864591242545, 'mcc': 0.16490848305809117, 'train_loss': 1.6787771426167273}\n",
      "Epoch 4/20\n"
     ]
    },
    {
     "name": "stderr",
     "output_type": "stream",
     "text": [
      "100%|██████████| 3151/3151 [05:38<00:00,  9.30it/s]\n"
     ]
    },
    {
     "name": "stdout",
     "output_type": "stream",
     "text": [
      "{'val_loss': 1.9493269957028903, 'val_accuracy': 0.22920675646782127, 'precision': 0.07316772132364902, 'recall': 0.22920675646782127, 'f1-score': 0.0902024150883954, 'macro_f1-score': 0.05884950120620164, 'balanced_accuracy': 0.13235904813775531, 'mcc': 0.030888512522252515, 'train_loss': 1.7003244250133203}\n",
      "Epoch 5/20\n"
     ]
    },
    {
     "name": "stderr",
     "output_type": "stream",
     "text": [
      "100%|██████████| 3151/3151 [05:38<00:00,  9.31it/s]\n"
     ]
    },
    {
     "name": "stdout",
     "output_type": "stream",
     "text": [
      "{'val_loss': 1.803791806840489, 'val_accuracy': 0.30628608082103914, 'precision': 0.13631066563407027, 'recall': 0.30628608082103914, 'f1-score': 0.1742311666450845, 'macro_f1-score': 0.17656592736403548, 'balanced_accuracy': 0.22456429891836116, 'mcc': 0.10756321528330273, 'train_loss': 1.853721516240555}\n",
      "Early stopping.\n",
      "\n",
      "[Fold 5]\n",
      "🚀 Using T5-paraphraser for data augmentation + under-sampling\n",
      "Using device: cuda\n",
      "CUDA Available: True\n",
      "CUDA Device: NVIDIA GeForce RTX 5070 Ti\n",
      "Current GPU Memory Allocated: 2.33 GB\n",
      "Current GPU Memory Cached: 5.50 GB\n",
      "🔧 Augmenting label 1: 1399 → 5000 (+3601)\n",
      "🔧 Augmenting label 4: 1678 → 5000 (+3322)\n",
      "🔧 Augmenting label 6: 1738 → 5000 (+3262)\n",
      "🔧 Augmenting label 7: 2187 → 5000 (+2813)\n",
      "Label distribution after resampling:\n",
      "  label 0: 5625\n",
      "  label 1: 5000\n",
      "  label 2: 8441\n",
      "  label 3: 10771\n",
      "  label 4: 5000\n",
      "  label 5: 5579\n",
      "  label 6: 5000\n",
      "  label 7: 5000\n",
      "model is microsoft/deberta-base lstm\n",
      "Using weighted CrossEntropyLoss with weights: tensor([2.1931, 2.3109, 1.7872, 1.5435, 2.3109, 2.2013, 2.3109, 2.3109],\n",
      "       device='cuda:0')\n",
      "Epoch 1/20\n"
     ]
    },
    {
     "name": "stderr",
     "output_type": "stream",
     "text": [
      "100%|██████████| 3151/3151 [05:38<00:00,  9.32it/s]\n"
     ]
    },
    {
     "name": "stdout",
     "output_type": "stream",
     "text": [
      "{'val_loss': 1.968762648003733, 'val_accuracy': 0.29495403036134277, 'precision': 0.12913317943515304, 'recall': 0.29495403036134277, 'f1-score': 0.141867061233444, 'macro_f1-score': 0.08996737617212314, 'balanced_accuracy': 0.1445388195780637, 'mcc': 0.08199234269432619, 'train_loss': 1.74415481841515}\n",
      "Epoch 2/20\n"
     ]
    },
    {
     "name": "stderr",
     "output_type": "stream",
     "text": [
      "100%|██████████| 3151/3151 [05:38<00:00,  9.30it/s]\n"
     ]
    },
    {
     "name": "stdout",
     "output_type": "stream",
     "text": [
      "{'val_loss': 1.9925574911965265, 'val_accuracy': 0.28779131922172335, 'precision': 0.08282384341937987, 'recall': 0.28779131922172335, 'f1-score': 0.12862929293456404, 'macro_f1-score': 0.055869168188610326, 'balanced_accuracy': 0.125, 'mcc': 0.0, 'train_loss': 2.0026311297448465}\n",
      "Epoch 3/20\n"
     ]
    },
    {
     "name": "stderr",
     "output_type": "stream",
     "text": [
      "100%|██████████| 3151/3151 [05:38<00:00,  9.31it/s]\n"
     ]
    },
    {
     "name": "stdout",
     "output_type": "stream",
     "text": [
      "{'val_loss': 1.998015275775877, 'val_accuracy': 0.28779131922172335, 'precision': 0.08282384341937987, 'recall': 0.28779131922172335, 'f1-score': 0.12862929293456404, 'macro_f1-score': 0.055869168188610326, 'balanced_accuracy': 0.125, 'mcc': 0.0, 'train_loss': 2.027461775822399}\n",
      "Epoch 4/20\n"
     ]
    },
    {
     "name": "stderr",
     "output_type": "stream",
     "text": [
      "100%|██████████| 3151/3151 [05:38<00:00,  9.30it/s]\n"
     ]
    },
    {
     "name": "stdout",
     "output_type": "stream",
     "text": [
      "{'val_loss': 1.9175300039796748, 'val_accuracy': 0.22567885396621767, 'precision': 0.0509309451275054, 'recall': 0.22567885396621767, 'f1-score': 0.08310650863021116, 'macro_f1-score': 0.04603139991277802, 'balanced_accuracy': 0.125, 'mcc': 0.0, 'train_loss': 1.833262950342748}\n",
      "Early stopping.\n",
      "\n",
      " === microsoft/deberta-base + lstm + t5 Final 5-fold Cross-Validation Results ===\n",
      "val_loss: 1.3293\n",
      "val_accuracy: 0.5063\n",
      "precision: 0.4315\n",
      "recall: 0.5063\n",
      "f1-score: 0.4308\n",
      "macro_f1-score: 0.4110\n",
      "balanced_accuracy: 0.4512\n",
      "mcc: 0.3877\n",
      "train_loss: 1.1595\n",
      "total_seconds: 26048.0000\n",
      "total_time: 7 hrs 14 mins 8 secs\n",
      "▶ Running: microsoft/deberta-base + bilstm + t5\n",
      "tokenizer is microsoft/deberta-base\n",
      "Using device: cuda\n",
      "CUDA Available: True\n",
      "CUDA Device: NVIDIA GeForce RTX 5070 Ti\n",
      "Current GPU Memory Allocated: 0.02 GB\n",
      "Current GPU Memory Cached: 5.50 GB\n",
      "\n",
      "[Fold 1]\n",
      "🚀 Using T5-paraphraser for data augmentation + under-sampling\n",
      "Using device: cuda\n",
      "CUDA Available: True\n",
      "CUDA Device: NVIDIA GeForce RTX 5070 Ti\n",
      "Current GPU Memory Allocated: 0.02 GB\n",
      "Current GPU Memory Cached: 5.50 GB\n",
      "🔧 Augmenting label 1: 1399 → 5000 (+3601)\n",
      "🔧 Augmenting label 4: 1678 → 5000 (+3322)\n",
      "🔧 Augmenting label 6: 1737 → 5000 (+3263)\n",
      "🔧 Augmenting label 7: 2187 → 5000 (+2813)\n",
      "Label distribution after resampling:\n",
      "  label 0: 5626\n",
      "  label 1: 5000\n",
      "  label 2: 8442\n",
      "  label 3: 10770\n",
      "  label 4: 5000\n",
      "  label 5: 5578\n",
      "  label 6: 5000\n",
      "  label 7: 5000\n",
      "model is microsoft/deberta-base bilstm\n",
      "Using weighted CrossEntropyLoss with weights: tensor([2.1929, 2.3109, 1.7871, 1.5435, 2.3109, 2.2015, 2.3109, 2.3109],\n",
      "       device='cuda:0')\n",
      "Epoch 1/20\n"
     ]
    },
    {
     "name": "stderr",
     "output_type": "stream",
     "text": [
      "100%|██████████| 3151/3151 [05:47<00:00,  9.08it/s]\n"
     ]
    },
    {
     "name": "stdout",
     "output_type": "stream",
     "text": [
      "{'val_loss': 1.1407519330326308, 'val_accuracy': 0.5864243719935863, 'precision': 0.6339572426931402, 'recall': 0.5864243719935863, 'f1-score': 0.5772902242363083, 'macro_f1-score': 0.5781332000473917, 'balanced_accuracy': 0.5847004969421534, 'mcc': 0.49418588601682123, 'train_loss': 1.3208793172076634}\n",
      "Epoch 2/20\n"
     ]
    },
    {
     "name": "stderr",
     "output_type": "stream",
     "text": [
      "100%|██████████| 3151/3151 [05:47<00:00,  9.07it/s]\n"
     ]
    },
    {
     "name": "stdout",
     "output_type": "stream",
     "text": [
      "{'val_loss': 1.4076596716020862, 'val_accuracy': 0.42896846606093, 'precision': 0.4163968379004447, 'recall': 0.42896846606093, 'f1-score': 0.31996318576516836, 'macro_f1-score': 0.4175726933403779, 'balanced_accuracy': 0.4942944502856784, 'mcc': 0.38667996016690764, 'train_loss': 0.9956851848077487}\n",
      "Epoch 3/20\n"
     ]
    },
    {
     "name": "stderr",
     "output_type": "stream",
     "text": [
      "100%|██████████| 3151/3151 [05:47<00:00,  9.07it/s]\n"
     ]
    },
    {
     "name": "stdout",
     "output_type": "stream",
     "text": [
      "{'val_loss': 1.3283863650427925, 'val_accuracy': 0.48241582041688935, 'precision': 0.7020357069679136, 'recall': 0.48241582041688935, 'f1-score': 0.5309665709946007, 'macro_f1-score': 0.4476093699236942, 'balanced_accuracy': 0.47900259944779744, 'mcc': 0.45213105435742845, 'train_loss': 1.0821251995655818}\n",
      "Epoch 4/20\n"
     ]
    },
    {
     "name": "stderr",
     "output_type": "stream",
     "text": [
      "100%|██████████| 3151/3151 [05:47<00:00,  9.07it/s]\n"
     ]
    },
    {
     "name": "stdout",
     "output_type": "stream",
     "text": [
      "{'val_loss': 0.9869975943086494, 'val_accuracy': 0.7120256547300908, 'precision': 0.7158901960298762, 'recall': 0.7120256547300908, 'f1-score': 0.6979471481295024, 'macro_f1-score': 0.5878342157806555, 'balanced_accuracy': 0.6165286480636627, 'mcc': 0.6524443610763699, 'train_loss': 0.7849378984472328}\n",
      "Epoch 5/20\n"
     ]
    },
    {
     "name": "stderr",
     "output_type": "stream",
     "text": [
      "100%|██████████| 3151/3151 [05:47<00:00,  9.07it/s]\n"
     ]
    },
    {
     "name": "stdout",
     "output_type": "stream",
     "text": [
      "{'val_loss': 0.8322686345658751, 'val_accuracy': 0.7515766969535008, 'precision': 0.7629729398618705, 'recall': 0.7515766969535008, 'f1-score': 0.7510968000567512, 'macro_f1-score': 0.674761890192984, 'balanced_accuracy': 0.6711468438011312, 'mcc': 0.6963289067839634, 'train_loss': 0.7637668508540937}\n",
      "Epoch 6/20\n"
     ]
    },
    {
     "name": "stderr",
     "output_type": "stream",
     "text": [
      "100%|██████████| 3151/3151 [05:47<00:00,  9.07it/s]\n"
     ]
    },
    {
     "name": "stdout",
     "output_type": "stream",
     "text": [
      "{'val_loss': 0.7988589373663959, 'val_accuracy': 0.7660074826296098, 'precision': 0.7638236966157469, 'recall': 0.7660074826296098, 'f1-score': 0.758807231570975, 'macro_f1-score': 0.6913861084117112, 'balanced_accuracy': 0.7125878990711905, 'mcc': 0.7140801815939753, 'train_loss': 0.7254976762292575}\n",
      "Epoch 7/20\n"
     ]
    },
    {
     "name": "stderr",
     "output_type": "stream",
     "text": [
      "100%|██████████| 3151/3151 [05:47<00:00,  9.07it/s]\n"
     ]
    },
    {
     "name": "stdout",
     "output_type": "stream",
     "text": [
      "{'val_loss': 0.9683639683784583, 'val_accuracy': 0.7351149118118653, 'precision': 0.775429042134061, 'recall': 0.7351149118118653, 'f1-score': 0.7432666836232444, 'macro_f1-score': 0.6840431756937431, 'balanced_accuracy': 0.7047062976397064, 'mcc': 0.6849413227469304, 'train_loss': 0.6820362367182828}\n",
      "Epoch 8/20\n"
     ]
    },
    {
     "name": "stderr",
     "output_type": "stream",
     "text": [
      "100%|██████████| 3151/3151 [05:47<00:00,  9.06it/s]\n"
     ]
    },
    {
     "name": "stdout",
     "output_type": "stream",
     "text": [
      "{'val_loss': 0.7299869978020334, 'val_accuracy': 0.7810796365579904, 'precision': 0.7864540418493099, 'recall': 0.7810796365579904, 'f1-score': 0.7816511262196877, 'macro_f1-score': 0.7311022129954949, 'balanced_accuracy': 0.721859592595219, 'mcc': 0.7303024842914235, 'train_loss': 0.6564884958230136}\n",
      "Epoch 9/20\n"
     ]
    },
    {
     "name": "stderr",
     "output_type": "stream",
     "text": [
      "100%|██████████| 3151/3151 [05:47<00:00,  9.07it/s]\n"
     ]
    },
    {
     "name": "stdout",
     "output_type": "stream",
     "text": [
      "{'val_loss': 0.8786776884498759, 'val_accuracy': 0.746018172100481, 'precision': 0.7615355842034619, 'recall': 0.746018172100481, 'f1-score': 0.7346485042512962, 'macro_f1-score': 0.6751414767792201, 'balanced_accuracy': 0.6571062026544989, 'mcc': 0.6873395014496319, 'train_loss': 0.6179364426176781}\n",
      "Epoch 10/20\n"
     ]
    },
    {
     "name": "stderr",
     "output_type": "stream",
     "text": [
      "100%|██████████| 3151/3151 [05:47<00:00,  9.07it/s]\n"
     ]
    },
    {
     "name": "stdout",
     "output_type": "stream",
     "text": [
      "{'val_loss': 0.7927920258962191, 'val_accuracy': 0.7846071619454837, 'precision': 0.7825759094503675, 'recall': 0.7846071619454837, 'f1-score': 0.7738794700515684, 'macro_f1-score': 0.7166891699535056, 'balanced_accuracy': 0.6977964517168682, 'mcc': 0.7327882266036899, 'train_loss': 0.5863396312222144}\n",
      "Epoch 11/20\n"
     ]
    },
    {
     "name": "stderr",
     "output_type": "stream",
     "text": [
      "100%|██████████| 3151/3151 [05:47<00:00,  9.07it/s]\n"
     ]
    },
    {
     "name": "stdout",
     "output_type": "stream",
     "text": [
      "{'val_loss': 0.7058318291846504, 'val_accuracy': 0.7945483698556921, 'precision': 0.7996940897738335, 'recall': 0.7945483698556921, 'f1-score': 0.7926054785923837, 'macro_f1-score': 0.7713918681868226, 'balanced_accuracy': 0.7465414883145747, 'mcc': 0.7460586089102968, 'train_loss': 0.5945368815734817}\n",
      "Epoch 12/20\n"
     ]
    },
    {
     "name": "stderr",
     "output_type": "stream",
     "text": [
      "100%|██████████| 3151/3151 [05:47<00:00,  9.07it/s]\n"
     ]
    },
    {
     "name": "stdout",
     "output_type": "stream",
     "text": [
      "{'val_loss': 0.7931690666665379, 'val_accuracy': 0.7584179583110636, 'precision': 0.7609466913594186, 'recall': 0.7584179583110636, 'f1-score': 0.7573816272569077, 'macro_f1-score': 0.7358525375933063, 'balanced_accuracy': 0.7329539987288558, 'mcc': 0.7039601260729862, 'train_loss': 0.7102407130839257}\n",
      "Epoch 13/20\n"
     ]
    },
    {
     "name": "stderr",
     "output_type": "stream",
     "text": [
      "100%|██████████| 3151/3151 [05:47<00:00,  9.05it/s]\n"
     ]
    },
    {
     "name": "stdout",
     "output_type": "stream",
     "text": [
      "{'val_loss': 0.8068179848739224, 'val_accuracy': 0.7464457509353287, 'precision': 0.7527158344521828, 'recall': 0.7464457509353287, 'f1-score': 0.7424279069485895, 'macro_f1-score': 0.6774365672852666, 'balanced_accuracy': 0.6734853140844236, 'mcc': 0.6889709083614395, 'train_loss': 0.6701250379471808}\n",
      "Epoch 14/20\n"
     ]
    },
    {
     "name": "stderr",
     "output_type": "stream",
     "text": [
      "100%|██████████| 3151/3151 [05:47<00:00,  9.07it/s]\n"
     ]
    },
    {
     "name": "stdout",
     "output_type": "stream",
     "text": [
      "{'val_loss': 0.8239573918091945, 'val_accuracy': 0.7500801710315339, 'precision': 0.7448573441799627, 'recall': 0.7500801710315339, 'f1-score': 0.7373415396917858, 'macro_f1-score': 0.6747053440023543, 'balanced_accuracy': 0.6663765582441102, 'mcc': 0.6919719211865383, 'train_loss': 0.7130783622826102}\n",
      "Early stopping.\n",
      "\n",
      "[Fold 2]\n",
      "🚀 Using T5-paraphraser for data augmentation + under-sampling\n",
      "Using device: cuda\n",
      "CUDA Available: True\n",
      "CUDA Device: NVIDIA GeForce RTX 5070 Ti\n",
      "Current GPU Memory Allocated: 2.32 GB\n",
      "Current GPU Memory Cached: 5.50 GB\n",
      "🔧 Augmenting label 1: 1400 → 5000 (+3600)\n",
      "🔧 Augmenting label 4: 1678 → 5000 (+3322)\n",
      "🔧 Augmenting label 6: 1737 → 5000 (+3263)\n",
      "🔧 Augmenting label 7: 2186 → 5000 (+2814)\n",
      "Label distribution after resampling:\n",
      "  label 0: 5626\n",
      "  label 1: 5000\n",
      "  label 2: 8442\n",
      "  label 3: 10770\n",
      "  label 4: 5000\n",
      "  label 5: 5578\n",
      "  label 6: 5000\n",
      "  label 7: 5000\n",
      "model is microsoft/deberta-base bilstm\n",
      "Using weighted CrossEntropyLoss with weights: tensor([2.1929, 2.3109, 1.7871, 1.5435, 2.3109, 2.2015, 2.3109, 2.3109],\n",
      "       device='cuda:0')\n",
      "Epoch 1/20\n"
     ]
    },
    {
     "name": "stderr",
     "output_type": "stream",
     "text": [
      "100%|██████████| 3151/3151 [05:47<00:00,  9.08it/s]\n"
     ]
    },
    {
     "name": "stdout",
     "output_type": "stream",
     "text": [
      "{'val_loss': 1.879014879006606, 'val_accuracy': 0.2502405130946018, 'precision': 0.09652418180072862, 'recall': 0.2502405130946018, 'f1-score': 0.13834805055850716, 'macro_f1-score': 0.09002410836123684, 'balanced_accuracy': 0.18123671796319535, 'mcc': 0.04773886922142442, 'train_loss': 1.5530527476203588}\n",
      "Epoch 2/20\n"
     ]
    },
    {
     "name": "stderr",
     "output_type": "stream",
     "text": [
      "100%|██████████| 3151/3151 [05:47<00:00,  9.07it/s]\n"
     ]
    },
    {
     "name": "stdout",
     "output_type": "stream",
     "text": [
      "{'val_loss': 1.5933684748462122, 'val_accuracy': 0.4330304649919829, 'precision': 0.25315758773492164, 'recall': 0.4330304649919829, 'f1-score': 0.3175640968481282, 'macro_f1-score': 0.2042936174164183, 'balanced_accuracy': 0.2732798819721437, 'mcc': 0.2846071670083609, 'train_loss': 1.6385507092934417}\n",
      "Epoch 3/20\n"
     ]
    },
    {
     "name": "stderr",
     "output_type": "stream",
     "text": [
      "100%|██████████| 3151/3151 [05:47<00:00,  9.06it/s]\n"
     ]
    },
    {
     "name": "stdout",
     "output_type": "stream",
     "text": [
      "{'val_loss': 1.554922106429043, 'val_accuracy': 0.4438268305718867, 'precision': 0.3237673723425243, 'recall': 0.4438268305718867, 'f1-score': 0.35037368999487717, 'macro_f1-score': 0.24940233574874682, 'balanced_accuracy': 0.30273936670309165, 'mcc': 0.33595844788693746, 'train_loss': 1.4121659796262915}\n",
      "Epoch 4/20\n"
     ]
    },
    {
     "name": "stderr",
     "output_type": "stream",
     "text": [
      "100%|██████████| 3151/3151 [05:47<00:00,  9.06it/s]\n"
     ]
    },
    {
     "name": "stdout",
     "output_type": "stream",
     "text": [
      "{'val_loss': 1.3912856025573535, 'val_accuracy': 0.4582576162479957, 'precision': 0.3637319483140154, 'recall': 0.4582576162479957, 'f1-score': 0.3511931883244594, 'macro_f1-score': 0.32966708093165314, 'balanced_accuracy': 0.4162036175476651, 'mcc': 0.3478590376807063, 'train_loss': 1.3080005455834265}\n",
      "Epoch 5/20\n"
     ]
    },
    {
     "name": "stderr",
     "output_type": "stream",
     "text": [
      "100%|██████████| 3151/3151 [05:47<00:00,  9.06it/s]\n"
     ]
    },
    {
     "name": "stdout",
     "output_type": "stream",
     "text": [
      "{'val_loss': 1.6029859269786084, 'val_accuracy': 0.4702298236237306, 'precision': 0.3270776139042404, 'recall': 0.4702298236237306, 'f1-score': 0.3714424908320654, 'macro_f1-score': 0.22338024243607335, 'balanced_accuracy': 0.2650991863169182, 'mcc': 0.3264104776414422, 'train_loss': 1.266211012456955}\n",
      "Epoch 6/20\n"
     ]
    },
    {
     "name": "stderr",
     "output_type": "stream",
     "text": [
      "100%|██████████| 3151/3151 [05:47<00:00,  9.06it/s]\n"
     ]
    },
    {
     "name": "stdout",
     "output_type": "stream",
     "text": [
      "{'val_loss': 1.9076773209449573, 'val_accuracy': 0.2900053447354356, 'precision': 0.13720026807122576, 'recall': 0.2900053447354356, 'f1-score': 0.134056862285759, 'macro_f1-score': 0.06588692773865874, 'balanced_accuracy': 0.129934589032029, 'mcc': 0.035620336187203526, 'train_loss': 1.5599972839508311}\n",
      "Epoch 7/20\n"
     ]
    },
    {
     "name": "stderr",
     "output_type": "stream",
     "text": [
      "100%|██████████| 3151/3151 [05:47<00:00,  9.07it/s]\n"
     ]
    },
    {
     "name": "stdout",
     "output_type": "stream",
     "text": [
      "{'val_loss': 1.8928592573883187, 'val_accuracy': 0.2900053447354356, 'precision': 0.0925304707700072, 'recall': 0.2900053447354356, 'f1-score': 0.1340425855727399, 'macro_f1-score': 0.07086713198483371, 'balanced_accuracy': 0.1343455706559615, 'mcc': 0.03739593642323533, 'train_loss': 1.802595546154021}\n",
      "Early stopping.\n",
      "\n",
      "[Fold 3]\n",
      "🚀 Using T5-paraphraser for data augmentation + under-sampling\n",
      "Using device: cuda\n",
      "CUDA Available: True\n",
      "CUDA Device: NVIDIA GeForce RTX 5070 Ti\n",
      "Current GPU Memory Allocated: 2.32 GB\n",
      "Current GPU Memory Cached: 5.50 GB\n",
      "🔧 Augmenting label 1: 1399 → 5000 (+3601)\n",
      "🔧 Augmenting label 4: 1679 → 5000 (+3321)\n",
      "🔧 Augmenting label 6: 1738 → 5000 (+3262)\n",
      "🔧 Augmenting label 7: 2186 → 5000 (+2814)\n",
      "Label distribution after resampling:\n",
      "  label 0: 5626\n",
      "  label 1: 5000\n",
      "  label 2: 8442\n",
      "  label 3: 10770\n",
      "  label 4: 5000\n",
      "  label 5: 5578\n",
      "  label 6: 5000\n",
      "  label 7: 5000\n",
      "model is microsoft/deberta-base bilstm\n",
      "Using weighted CrossEntropyLoss with weights: tensor([2.1929, 2.3109, 1.7871, 1.5435, 2.3109, 2.2015, 2.3109, 2.3109],\n",
      "       device='cuda:0')\n",
      "Epoch 1/20\n"
     ]
    },
    {
     "name": "stderr",
     "output_type": "stream",
     "text": [
      "100%|██████████| 3151/3151 [05:47<00:00,  9.07it/s]\n"
     ]
    },
    {
     "name": "stdout",
     "output_type": "stream",
     "text": [
      "{'val_loss': 0.8208451606906377, 'val_accuracy': 0.754650416933932, 'precision': 0.7759089445690779, 'recall': 0.754650416933932, 'f1-score': 0.7560523872307405, 'macro_f1-score': 0.7612245720325727, 'balanced_accuracy': 0.7406463609311429, 'mcc': 0.6997435034365325, 'train_loss': 1.0841192506828297}\n",
      "Epoch 2/20\n"
     ]
    },
    {
     "name": "stderr",
     "output_type": "stream",
     "text": [
      "100%|██████████| 3151/3151 [05:47<00:00,  9.06it/s]\n"
     ]
    },
    {
     "name": "stdout",
     "output_type": "stream",
     "text": [
      "{'val_loss': 0.7452030424888317, 'val_accuracy': 0.7876844130853111, 'precision': 0.8025379690113609, 'recall': 0.7876844130853111, 'f1-score': 0.7853865775928351, 'macro_f1-score': 0.8001388168173308, 'balanced_accuracy': 0.8052990213563267, 'mcc': 0.7416255911281906, 'train_loss': 0.6805420593443995}\n",
      "Epoch 3/20\n"
     ]
    },
    {
     "name": "stderr",
     "output_type": "stream",
     "text": [
      "100%|██████████| 3151/3151 [05:48<00:00,  9.05it/s]\n"
     ]
    },
    {
     "name": "stdout",
     "output_type": "stream",
     "text": [
      "{'val_loss': 0.6896110586694673, 'val_accuracy': 0.8040410519563823, 'precision': 0.8194838294360459, 'recall': 0.8040410519563823, 'f1-score': 0.8072786475331509, 'macro_f1-score': 0.7800340344909897, 'balanced_accuracy': 0.7965179676234468, 'mcc': 0.7610900616727251, 'train_loss': 0.5369812959384839}\n",
      "Epoch 4/20\n"
     ]
    },
    {
     "name": "stderr",
     "output_type": "stream",
     "text": [
      "100%|██████████| 3151/3151 [05:48<00:00,  9.04it/s]\n"
     ]
    },
    {
     "name": "stdout",
     "output_type": "stream",
     "text": [
      "{'val_loss': 0.6475393928396396, 'val_accuracy': 0.8133418858242463, 'precision': 0.8264277773098411, 'recall': 0.8133418858242463, 'f1-score': 0.8164396496295838, 'macro_f1-score': 0.8043482985015027, 'balanced_accuracy': 0.8277409996784878, 'mcc': 0.7726686991259745, 'train_loss': 0.508635917164785}\n",
      "Epoch 5/20\n"
     ]
    },
    {
     "name": "stderr",
     "output_type": "stream",
     "text": [
      "100%|██████████| 3151/3151 [05:47<00:00,  9.06it/s]\n"
     ]
    },
    {
     "name": "stdout",
     "output_type": "stream",
     "text": [
      "{'val_loss': 0.6268642470750034, 'val_accuracy': 0.7967714346803506, 'precision': 0.7981143949498382, 'recall': 0.7967714346803506, 'f1-score': 0.7966483822732969, 'macro_f1-score': 0.800018586186368, 'balanced_accuracy': 0.798900391755623, 'mcc': 0.7501270243731901, 'train_loss': 0.48881838291703766}\n",
      "Epoch 6/20\n"
     ]
    },
    {
     "name": "stderr",
     "output_type": "stream",
     "text": [
      "100%|██████████| 3151/3151 [05:47<00:00,  9.07it/s]\n"
     ]
    },
    {
     "name": "stdout",
     "output_type": "stream",
     "text": [
      "{'val_loss': 0.6631884215415543, 'val_accuracy': 0.8211460337823391, 'precision': 0.8259793980552227, 'recall': 0.8211460337823391, 'f1-score': 0.8217989795209494, 'macro_f1-score': 0.8198914182058967, 'balanced_accuracy': 0.8126759828367829, 'mcc': 0.7793713711549303, 'train_loss': 0.49188219592086346}\n",
      "Epoch 7/20\n"
     ]
    },
    {
     "name": "stderr",
     "output_type": "stream",
     "text": [
      "100%|██████████| 3151/3151 [05:47<00:00,  9.06it/s]\n"
     ]
    },
    {
     "name": "stdout",
     "output_type": "stream",
     "text": [
      "{'val_loss': 0.6923021246734847, 'val_accuracy': 0.7759247380799658, 'precision': 0.7850615732909829, 'recall': 0.7759247380799658, 'f1-score': 0.7759067708207948, 'macro_f1-score': 0.7810522541432435, 'balanced_accuracy': 0.8071086055684258, 'mcc': 0.7292022683813265, 'train_loss': 0.44003953374461197}\n",
      "Epoch 8/20\n"
     ]
    },
    {
     "name": "stderr",
     "output_type": "stream",
     "text": [
      "100%|██████████| 3151/3151 [05:47<00:00,  9.06it/s]\n"
     ]
    },
    {
     "name": "stdout",
     "output_type": "stream",
     "text": [
      "{'val_loss': 0.6864107936493352, 'val_accuracy': 0.7787042976266838, 'precision': 0.7840702889744359, 'recall': 0.7787042976266838, 'f1-score': 0.7787537475171322, 'macro_f1-score': 0.7951358603554928, 'balanced_accuracy': 0.7951451469557334, 'mcc': 0.7303124077556599, 'train_loss': 0.5072247887030835}\n",
      "Epoch 9/20\n"
     ]
    },
    {
     "name": "stderr",
     "output_type": "stream",
     "text": [
      "100%|██████████| 3151/3151 [05:47<00:00,  9.07it/s]\n"
     ]
    },
    {
     "name": "stdout",
     "output_type": "stream",
     "text": [
      "{'val_loss': 0.792805614710873, 'val_accuracy': 0.7478084242035493, 'precision': 0.7657761773115935, 'recall': 0.7478084242035493, 'f1-score': 0.7463517165640688, 'macro_f1-score': 0.7605978129147155, 'balanced_accuracy': 0.784617628328799, 'mcc': 0.6980829068746696, 'train_loss': 0.5848514092350169}\n",
      "Early stopping.\n",
      "\n",
      "[Fold 4]\n",
      "🚀 Using T5-paraphraser for data augmentation + under-sampling\n",
      "Using device: cuda\n",
      "CUDA Available: True\n",
      "CUDA Device: NVIDIA GeForce RTX 5070 Ti\n",
      "Current GPU Memory Allocated: 2.32 GB\n",
      "Current GPU Memory Cached: 5.50 GB\n",
      "🔧 Augmenting label 1: 1399 → 5000 (+3601)\n",
      "🔧 Augmenting label 4: 1679 → 5000 (+3321)\n",
      "🔧 Augmenting label 6: 1738 → 5000 (+3262)\n",
      "🔧 Augmenting label 7: 2186 → 5000 (+2814)\n",
      "Label distribution after resampling:\n",
      "  label 0: 5625\n",
      "  label 1: 5000\n",
      "  label 2: 8441\n",
      "  label 3: 10771\n",
      "  label 4: 5000\n",
      "  label 5: 5579\n",
      "  label 6: 5000\n",
      "  label 7: 5000\n",
      "model is microsoft/deberta-base bilstm\n",
      "Using weighted CrossEntropyLoss with weights: tensor([2.1931, 2.3109, 1.7872, 1.5435, 2.3109, 2.2013, 2.3109, 2.3109],\n",
      "       device='cuda:0')\n",
      "Epoch 1/20\n"
     ]
    },
    {
     "name": "stderr",
     "output_type": "stream",
     "text": [
      "100%|██████████| 3151/3151 [05:47<00:00,  9.08it/s]\n"
     ]
    },
    {
     "name": "stdout",
     "output_type": "stream",
     "text": [
      "{'val_loss': 0.5966057360681714, 'val_accuracy': 0.8187940987812701, 'precision': 0.8235722440264532, 'recall': 0.8187940987812701, 'f1-score': 0.8183497827661048, 'macro_f1-score': 0.8230040886244058, 'balanced_accuracy': 0.795286935532134, 'mcc': 0.7759113997119707, 'train_loss': 1.0954285727790787}\n",
      "Epoch 2/20\n"
     ]
    },
    {
     "name": "stderr",
     "output_type": "stream",
     "text": [
      "100%|██████████| 3151/3151 [05:47<00:00,  9.07it/s]\n"
     ]
    },
    {
     "name": "stdout",
     "output_type": "stream",
     "text": [
      "{'val_loss': 0.4995654428043427, 'val_accuracy': 0.8407098567457773, 'precision': 0.8459034357297179, 'recall': 0.8407098567457773, 'f1-score': 0.8404209055852969, 'macro_f1-score': 0.8429422283262622, 'balanced_accuracy': 0.8189759375510306, 'mcc': 0.8031156795927904, 'train_loss': 0.48897826114048165}\n",
      "Epoch 3/20\n"
     ]
    },
    {
     "name": "stderr",
     "output_type": "stream",
     "text": [
      "100%|██████████| 3151/3151 [05:47<00:00,  9.07it/s]\n"
     ]
    },
    {
     "name": "stdout",
     "output_type": "stream",
     "text": [
      "{'val_loss': 0.49531857253044337, 'val_accuracy': 0.8432756040196707, 'precision': 0.8473277614719333, 'recall': 0.8432756040196707, 'f1-score': 0.8438851316806114, 'macro_f1-score': 0.8432668602412678, 'balanced_accuracy': 0.8409071696913871, 'mcc': 0.8077668004787588, 'train_loss': 0.3853895012803567}\n",
      "Epoch 4/20\n"
     ]
    },
    {
     "name": "stderr",
     "output_type": "stream",
     "text": [
      "100%|██████████| 3151/3151 [05:47<00:00,  9.07it/s]\n"
     ]
    },
    {
     "name": "stdout",
     "output_type": "stream",
     "text": [
      "{'val_loss': 0.4871906378457689, 'val_accuracy': 0.8410305751550139, 'precision': 0.8449923087625981, 'recall': 0.8410305751550139, 'f1-score': 0.839631504389606, 'macro_f1-score': 0.8473740557570668, 'balanced_accuracy': 0.8455995651366512, 'mcc': 0.8053882259845655, 'train_loss': 0.8251420486309355}\n",
      "Epoch 5/20\n"
     ]
    },
    {
     "name": "stderr",
     "output_type": "stream",
     "text": [
      "100%|██████████| 3151/3151 [05:47<00:00,  9.06it/s]\n"
     ]
    },
    {
     "name": "stdout",
     "output_type": "stream",
     "text": [
      "{'val_loss': 0.47751111531009277, 'val_accuracy': 0.8476587556125722, 'precision': 0.8500223267669222, 'recall': 0.8476587556125722, 'f1-score': 0.8474790288657443, 'macro_f1-score': 0.8459602288736687, 'balanced_accuracy': 0.8385358089543686, 'mcc': 0.8128776808373968, 'train_loss': 0.2860967483989521}\n",
      "Epoch 6/20\n"
     ]
    },
    {
     "name": "stderr",
     "output_type": "stream",
     "text": [
      "100%|██████████| 3151/3151 [05:47<00:00,  9.07it/s]\n"
     ]
    },
    {
     "name": "stdout",
     "output_type": "stream",
     "text": [
      "{'val_loss': 0.9284182234707041, 'val_accuracy': 0.6648492623476587, 'precision': 0.7185965050359305, 'recall': 0.6648492623476587, 'f1-score': 0.6617726406072394, 'macro_f1-score': 0.6802407803023633, 'balanced_accuracy': 0.6815401736427841, 'mcc': 0.592005283805384, 'train_loss': 0.48959744700134006}\n",
      "Epoch 7/20\n"
     ]
    },
    {
     "name": "stderr",
     "output_type": "stream",
     "text": [
      "100%|██████████| 3151/3151 [05:47<00:00,  9.06it/s]\n"
     ]
    },
    {
     "name": "stdout",
     "output_type": "stream",
     "text": [
      "{'val_loss': 0.7274132212639874, 'val_accuracy': 0.7800940774000428, 'precision': 0.7894136448459518, 'recall': 0.7800940774000428, 'f1-score': 0.7792844042881218, 'macro_f1-score': 0.7820715179653033, 'balanced_accuracy': 0.7775228119933077, 'mcc': 0.7296962074201894, 'train_loss': 0.3985173154382318}\n",
      "Early stopping.\n",
      "\n",
      "[Fold 5]\n",
      "🚀 Using T5-paraphraser for data augmentation + under-sampling\n",
      "Using device: cuda\n",
      "CUDA Available: True\n",
      "CUDA Device: NVIDIA GeForce RTX 5070 Ti\n",
      "Current GPU Memory Allocated: 2.32 GB\n",
      "Current GPU Memory Cached: 5.50 GB\n",
      "🔧 Augmenting label 1: 1399 → 5000 (+3601)\n",
      "🔧 Augmenting label 4: 1678 → 5000 (+3322)\n",
      "🔧 Augmenting label 6: 1738 → 5000 (+3262)\n",
      "🔧 Augmenting label 7: 2187 → 5000 (+2813)\n",
      "Label distribution after resampling:\n",
      "  label 0: 5625\n",
      "  label 1: 5000\n",
      "  label 2: 8441\n",
      "  label 3: 10771\n",
      "  label 4: 5000\n",
      "  label 5: 5579\n",
      "  label 6: 5000\n",
      "  label 7: 5000\n",
      "model is microsoft/deberta-base bilstm\n",
      "Using weighted CrossEntropyLoss with weights: tensor([2.1931, 2.3109, 1.7872, 1.5435, 2.3109, 2.2013, 2.3109, 2.3109],\n",
      "       device='cuda:0')\n",
      "Epoch 1/20\n"
     ]
    },
    {
     "name": "stderr",
     "output_type": "stream",
     "text": [
      "100%|██████████| 3151/3151 [05:47<00:00,  9.07it/s]\n"
     ]
    },
    {
     "name": "stdout",
     "output_type": "stream",
     "text": [
      "{'val_loss': 0.8073852942412735, 'val_accuracy': 0.7742142398973701, 'precision': 0.7770411996366822, 'recall': 0.7742142398973701, 'f1-score': 0.7739364300597629, 'macro_f1-score': 0.7851072628264806, 'balanced_accuracy': 0.767382378370749, 'mcc': 0.7215766456412995, 'train_loss': 1.1116434274751472}\n",
      "Epoch 2/20\n"
     ]
    },
    {
     "name": "stderr",
     "output_type": "stream",
     "text": [
      "100%|██████████| 3151/3151 [05:47<00:00,  9.07it/s]\n"
     ]
    },
    {
     "name": "stdout",
     "output_type": "stream",
     "text": [
      "{'val_loss': 0.6261710161964099, 'val_accuracy': 0.8130211674150096, 'precision': 0.8158389679752248, 'recall': 0.8130211674150096, 'f1-score': 0.8124257009382276, 'macro_f1-score': 0.8168614600135605, 'balanced_accuracy': 0.8211020979412391, 'mcc': 0.7711006580547862, 'train_loss': 0.6272482729866575}\n",
      "Epoch 3/20\n"
     ]
    },
    {
     "name": "stderr",
     "output_type": "stream",
     "text": [
      "100%|██████████| 3151/3151 [05:47<00:00,  9.07it/s]\n"
     ]
    },
    {
     "name": "stdout",
     "output_type": "stream",
     "text": [
      "{'val_loss': 0.7334924622860729, 'val_accuracy': 0.801582210818901, 'precision': 0.8069901706838455, 'recall': 0.801582210818901, 'f1-score': 0.7997273443207075, 'macro_f1-score': 0.7900363318638022, 'balanced_accuracy': 0.7729839509245748, 'mcc': 0.7560783712364525, 'train_loss': 0.503519200468368}\n",
      "Epoch 4/20\n"
     ]
    },
    {
     "name": "stderr",
     "output_type": "stream",
     "text": [
      "100%|██████████| 3151/3151 [05:47<00:00,  9.07it/s]\n"
     ]
    },
    {
     "name": "stdout",
     "output_type": "stream",
     "text": [
      "{'val_loss': 0.6348000768699452, 'val_accuracy': 0.8177250374171477, 'precision': 0.8275228318833607, 'recall': 0.8177250374171477, 'f1-score': 0.8178502577930797, 'macro_f1-score': 0.8191441213338324, 'balanced_accuracy': 0.8041206084921193, 'mcc': 0.7763929454462282, 'train_loss': 0.47284275668775777}\n",
      "Epoch 5/20\n"
     ]
    },
    {
     "name": "stderr",
     "output_type": "stream",
     "text": [
      "100%|██████████| 3151/3151 [05:47<00:00,  9.07it/s]\n"
     ]
    },
    {
     "name": "stdout",
     "output_type": "stream",
     "text": [
      "{'val_loss': 0.5885645133116816, 'val_accuracy': 0.8237117810562327, 'precision': 0.8307318322527122, 'recall': 0.8237117810562327, 'f1-score': 0.8247047696410655, 'macro_f1-score': 0.8210980871324147, 'balanced_accuracy': 0.8130240020406594, 'mcc': 0.7841910035629439, 'train_loss': 0.45675249245007127}\n",
      "Epoch 6/20\n"
     ]
    },
    {
     "name": "stderr",
     "output_type": "stream",
     "text": [
      "100%|██████████| 3151/3151 [05:47<00:00,  9.07it/s]\n"
     ]
    },
    {
     "name": "stdout",
     "output_type": "stream",
     "text": [
      "{'val_loss': 0.9036891193471404, 'val_accuracy': 0.6734017532606371, 'precision': 0.6626855342276132, 'recall': 0.6734017532606371, 'f1-score': 0.6312050333068581, 'macro_f1-score': 0.6507520670763791, 'balanced_accuracy': 0.69874353374359, 'mcc': 0.6107846177023233, 'train_loss': 0.6177979480316765}\n",
      "Epoch 7/20\n"
     ]
    },
    {
     "name": "stderr",
     "output_type": "stream",
     "text": [
      "100%|██████████| 3151/3151 [05:47<00:00,  9.06it/s]\n"
     ]
    },
    {
     "name": "stdout",
     "output_type": "stream",
     "text": [
      "{'val_loss': 1.6254709826575384, 'val_accuracy': 0.4885610434038914, 'precision': 0.5247373143788941, 'recall': 0.4885610434038914, 'f1-score': 0.4297245790571993, 'macro_f1-score': 0.3435913553910008, 'balanced_accuracy': 0.3881500922862896, 'mcc': 0.3744695731357661, 'train_loss': 1.2410222550671428}\n",
      "Epoch 8/20\n"
     ]
    },
    {
     "name": "stderr",
     "output_type": "stream",
     "text": [
      "100%|██████████| 3151/3151 [05:47<00:00,  9.07it/s]\n"
     ]
    },
    {
     "name": "stdout",
     "output_type": "stream",
     "text": [
      "{'val_loss': 1.7379120922496176, 'val_accuracy': 0.31066923241394057, 'precision': 0.1819072698691146, 'recall': 0.31066923241394057, 'f1-score': 0.19804219102843013, 'macro_f1-score': 0.1931422326019479, 'balanced_accuracy': 0.2479881267766318, 'mcc': 0.21810967780928697, 'train_loss': 1.5014848508217418}\n",
      "Early stopping.\n",
      "\n",
      " === microsoft/deberta-base + bilstm + t5 Final 5-fold Cross-Validation Results ===\n",
      "val_loss: 0.7672\n",
      "val_accuracy: 0.7477\n",
      "precision: 0.7330\n",
      "recall: 0.7477\n",
      "f1-score: 0.7260\n",
      "macro_f1-score: 0.7179\n",
      "balanced_accuracy: 0.7268\n",
      "mcc: 0.6926\n",
      "train_loss: 0.7353\n",
      "total_seconds: 30893.0000\n",
      "total_time: 8 hrs 34 mins 53 secs\n"
     ]
    }
   ],
   "source": [
    "model_list = [\"microsoft/deberta-base\"]\n",
    "hybrid_list = [None, \"cnn\", \"lstm\", \"bilstm\"]\n",
    "resample_list = [\"t5\"]\n",
    "\n",
    "all_experiment_result = {}\n",
    "\n",
    "for model_name in model_list:\n",
    "    for hybrid_type in hybrid_list:\n",
    "        for resample_method in resample_list:\n",
    "            results = run_kfold_experiment(\n",
    "                X=messages, y=labels, model_name=model_name, hybrid_type=hybrid_type, resample_method=resample_method,\n",
    "                kfold=KFOLD_SPLIT, seed=SEED, epochs=EPOCHS, patience=PATIENCE, max_length=MAX_LENGTH, \n",
    "                batch_size=BATCH_SIZE, lr=LR, weight_decay=WEIGHT_DECAY, upper_cap=UPPER_CAP, lower_cap=LOWER_CAP, use_weighted_loss= USE_WEIGHTED_LOSS\n",
    "            )\n",
    "\n",
    "            key = f\"{model_name} {hybrid_type if hybrid_type else 'None'} {resample_method}\"\n",
    "            all_experiment_result[key] = results"
   ]
  },
  {
   "cell_type": "code",
   "execution_count": 5,
   "id": "d799ebb4-be3b-4b29-9238-6c2a2f8256ae",
   "metadata": {
    "scrolled": true
   },
   "outputs": [
    {
     "data": {
      "text/plain": [
       "{'microsoft/deberta-base None t5': {'val_loss': 1.088905175349667,\n",
       "  'val_accuracy': 0.6281347124739176,\n",
       "  'precision': 0.5472158032108738,\n",
       "  'recall': 0.6281347124739176,\n",
       "  'f1-score': 0.5643394761812658,\n",
       "  'macro_f1-score': 0.5361407497151374,\n",
       "  'balanced_accuracy': 0.5620026502391171,\n",
       "  'mcc': 0.49324442024367,\n",
       "  'train_loss': 0.9355271070080514,\n",
       "  'total_seconds': 41112,\n",
       "  'total_time': '11 hrs 25 mins 12 secs'},\n",
       " 'microsoft/deberta-base cnn t5': {'val_loss': 0.4673565219759416,\n",
       "  'val_accuracy': 0.8563669603699923,\n",
       "  'precision': 0.8588093718783785,\n",
       "  'recall': 0.8563669603699923,\n",
       "  'f1-score': 0.8561558359998257,\n",
       "  'macro_f1-score': 0.8575298528631865,\n",
       "  'balanced_accuracy': 0.8559900281673156,\n",
       "  'mcc': 0.8239092530021104,\n",
       "  'train_loss': 0.26531953876776754,\n",
       "  'total_seconds': 30394,\n",
       "  'total_time': '8 hrs 26 mins 34 secs'},\n",
       " 'microsoft/deberta-base lstm t5': {'val_loss': 1.329312809102046,\n",
       "  'val_accuracy': 0.5063491457279772,\n",
       "  'precision': 0.431544776523553,\n",
       "  'recall': 0.5063491457279772,\n",
       "  'f1-score': 0.4307918386066598,\n",
       "  'macro_f1-score': 0.41103549875989354,\n",
       "  'balanced_accuracy': 0.45115554931187846,\n",
       "  'mcc': 0.3877391888962106,\n",
       "  'train_loss': 1.1595050351724965,\n",
       "  'total_seconds': 26048,\n",
       "  'total_time': '7 hrs 14 mins 8 secs'},\n",
       " 'microsoft/deberta-base bilstm t5': {'val_loss': 0.7672122008882017,\n",
       "  'val_accuracy': 0.7477388752194546,\n",
       "  'precision': 0.7330259154316764,\n",
       "  'recall': 0.7477388752194546,\n",
       "  'f1-score': 0.7259867840936928,\n",
       "  'macro_f1-score': 0.7178845020427708,\n",
       "  'balanced_accuracy': 0.7268089311752666,\n",
       "  'mcc': 0.6925736494586886,\n",
       "  'train_loss': 0.7352628328317556,\n",
       "  'total_seconds': 30893,\n",
       "  'total_time': '8 hrs 34 mins 53 secs'}}"
      ]
     },
     "execution_count": 5,
     "metadata": {},
     "output_type": "execute_result"
    }
   ],
   "source": [
    "all_experiment_result"
   ]
  },
  {
   "cell_type": "code",
   "execution_count": null,
   "id": "4c76be6b-d968-4157-84bb-f30fee2dc83b",
   "metadata": {},
   "outputs": [],
   "source": []
  }
 ],
 "metadata": {
  "kernelspec": {
   "display_name": "Python 3 (ipykernel)",
   "language": "python",
   "name": "python3"
  },
  "language_info": {
   "codemirror_mode": {
    "name": "ipython",
    "version": 3
   },
   "file_extension": ".py",
   "mimetype": "text/x-python",
   "name": "python",
   "nbconvert_exporter": "python",
   "pygments_lexer": "ipython3",
   "version": "3.11.9"
  }
 },
 "nbformat": 4,
 "nbformat_minor": 5
}
