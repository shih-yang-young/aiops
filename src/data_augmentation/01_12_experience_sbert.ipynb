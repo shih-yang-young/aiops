{
 "cells": [
  {
   "cell_type": "code",
   "execution_count": 1,
   "id": "c6902def-8805-4483-a546-4ab48a7b8953",
   "metadata": {},
   "outputs": [
    {
     "data": {
      "text/html": [
       "<div>\n",
       "<style scoped>\n",
       "    .dataframe tbody tr th:only-of-type {\n",
       "        vertical-align: middle;\n",
       "    }\n",
       "\n",
       "    .dataframe tbody tr th {\n",
       "        vertical-align: top;\n",
       "    }\n",
       "\n",
       "    .dataframe thead th {\n",
       "        text-align: right;\n",
       "    }\n",
       "</style>\n",
       "<table border=\"1\" class=\"dataframe\">\n",
       "  <thead>\n",
       "    <tr style=\"text-align: right;\">\n",
       "      <th></th>\n",
       "      <th>Inbound Message</th>\n",
       "      <th>Label</th>\n",
       "    </tr>\n",
       "  </thead>\n",
       "  <tbody>\n",
       "    <tr>\n",
       "      <th>0</th>\n",
       "      <td>login issue verified user details employee man...</td>\n",
       "      <td>0</td>\n",
       "    </tr>\n",
       "    <tr>\n",
       "      <th>1</th>\n",
       "      <td>outlook hello team meetings skype meetings etc...</td>\n",
       "      <td>0</td>\n",
       "    </tr>\n",
       "    <tr>\n",
       "      <th>2</th>\n",
       "      <td>cant log vpn cannot log vpn best</td>\n",
       "      <td>0</td>\n",
       "    </tr>\n",
       "    <tr>\n",
       "      <th>3</th>\n",
       "      <td>unable access tool page unable access tool page</td>\n",
       "      <td>0</td>\n",
       "    </tr>\n",
       "    <tr>\n",
       "      <th>4</th>\n",
       "      <td>skype error skype error</td>\n",
       "      <td>0</td>\n",
       "    </tr>\n",
       "    <tr>\n",
       "      <th>...</th>\n",
       "      <td>...</td>\n",
       "      <td>...</td>\n",
       "    </tr>\n",
       "    <tr>\n",
       "      <th>8449</th>\n",
       "      <td>emails coming mail good afternoon receiving em...</td>\n",
       "      <td>22</td>\n",
       "    </tr>\n",
       "    <tr>\n",
       "      <th>8450</th>\n",
       "      <td>telephony software issue telephony software issue</td>\n",
       "      <td>0</td>\n",
       "    </tr>\n",
       "    <tr>\n",
       "      <th>8451</th>\n",
       "      <td>vip windows password reset tifpdchb pedxruyf v...</td>\n",
       "      <td>0</td>\n",
       "    </tr>\n",
       "    <tr>\n",
       "      <th>8452</th>\n",
       "      <td>machine est funcionando unable access machine ...</td>\n",
       "      <td>44</td>\n",
       "    </tr>\n",
       "    <tr>\n",
       "      <th>8453</th>\n",
       "      <td>mehreren lassen sich verschiedene prgramdntyme...</td>\n",
       "      <td>49</td>\n",
       "    </tr>\n",
       "  </tbody>\n",
       "</table>\n",
       "<p>8454 rows × 2 columns</p>\n",
       "</div>"
      ],
      "text/plain": [
       "                                        Inbound Message  Label\n",
       "0     login issue verified user details employee man...      0\n",
       "1     outlook hello team meetings skype meetings etc...      0\n",
       "2                      cant log vpn cannot log vpn best      0\n",
       "3       unable access tool page unable access tool page      0\n",
       "4                               skype error skype error      0\n",
       "...                                                 ...    ...\n",
       "8449  emails coming mail good afternoon receiving em...     22\n",
       "8450  telephony software issue telephony software issue      0\n",
       "8451  vip windows password reset tifpdchb pedxruyf v...      0\n",
       "8452  machine est funcionando unable access machine ...     44\n",
       "8453  mehreren lassen sich verschiedene prgramdntyme...     49\n",
       "\n",
       "[8454 rows x 2 columns]"
      ]
     },
     "execution_count": 1,
     "metadata": {},
     "output_type": "execute_result"
    }
   ],
   "source": [
    "import pandas as pd\n",
    "data_path = \"../../data/open_source_8454_combine_short_description.csv\"\n",
    "df = pd.read_csv(data_path)\n",
    "# df_label_0 = df[df[\"Label\"] == 0]\n",
    "# df_label_0_to_drop = df_label_0.sample(n=3000, random_state=42)\n",
    "# df = df.drop(df_label_0_to_drop.index)\n",
    "df"
   ]
  },
  {
   "cell_type": "code",
   "execution_count": 2,
   "id": "8a523c41-9917-42ad-9920-021c2d567bf2",
   "metadata": {},
   "outputs": [],
   "source": [
    "import sys\n",
    "import os\n",
    "sys.path.append(os.path.abspath('../ml_lib'))\n",
    "\n",
    "from config import *\n",
    "from experiment import run_kfold_experiment"
   ]
  },
  {
   "cell_type": "code",
   "execution_count": 3,
   "id": "0042fdaa-0d1e-4925-a831-51d69b623c54",
   "metadata": {},
   "outputs": [],
   "source": [
    "messages, labels = df['Inbound Message'].tolist(), df['Label'].tolist()"
   ]
  },
  {
   "cell_type": "code",
   "execution_count": 4,
   "id": "f9a1f7b1-5c13-4312-959c-24cae1a028e8",
   "metadata": {},
   "outputs": [
    {
     "name": "stdout",
     "output_type": "stream",
     "text": [
      "▶ Running: bert-base-uncased + plain + sbert\n",
      "tokenizer is bert-base-uncased\n",
      "Using device: cuda\n",
      "CUDA Available: True\n",
      "CUDA Device: NVIDIA GeForce RTX 3050 6GB Laptop GPU\n",
      "Current GPU Memory Allocated: 0.00 GB\n",
      "Current GPU Memory Cached: 0.00 GB\n",
      "\n",
      "[Fold 1]\n",
      "🚀 Using SBERT for data augmentation\n",
      "🔧 Augmenting label 1: 25 → 200 (+175)\n",
      "🔧 Augmenting label 2: 112 → 200 (+88)\n"
     ]
    },
    {
     "ename": "KeyboardInterrupt",
     "evalue": "",
     "output_type": "error",
     "traceback": [
      "\u001b[1;31m---------------------------------------------------------------------------\u001b[0m",
      "\u001b[1;31mKeyboardInterrupt\u001b[0m                         Traceback (most recent call last)",
      "Cell \u001b[1;32mIn[4], line 10\u001b[0m\n\u001b[0;32m      8\u001b[0m \u001b[38;5;28;01mfor\u001b[39;00m hybrid_type \u001b[38;5;129;01min\u001b[39;00m hybrid_list:\n\u001b[0;32m      9\u001b[0m     \u001b[38;5;28;01mfor\u001b[39;00m resample_method \u001b[38;5;129;01min\u001b[39;00m resample_list:\n\u001b[1;32m---> 10\u001b[0m         results \u001b[38;5;241m=\u001b[39m run_kfold_experiment(\n\u001b[0;32m     11\u001b[0m             X\u001b[38;5;241m=\u001b[39mmessages, y\u001b[38;5;241m=\u001b[39mlabels, model_name\u001b[38;5;241m=\u001b[39mmodel_name, hybrid_type\u001b[38;5;241m=\u001b[39mhybrid_type, resample_method\u001b[38;5;241m=\u001b[39mresample_method,\n\u001b[0;32m     12\u001b[0m             kfold\u001b[38;5;241m=\u001b[39mKFOLD_SPLIT, seed\u001b[38;5;241m=\u001b[39mSEED, epochs\u001b[38;5;241m=\u001b[39mEPOCHS, patience\u001b[38;5;241m=\u001b[39mPATIENCE, max_length\u001b[38;5;241m=\u001b[39mMAX_LENGTH, \n\u001b[0;32m     13\u001b[0m             batch_size\u001b[38;5;241m=\u001b[39mBATCH_SIZE, lr\u001b[38;5;241m=\u001b[39mLR, weight_decay\u001b[38;5;241m=\u001b[39mWEIGHT_DECAY\n\u001b[0;32m     14\u001b[0m         )\n\u001b[0;32m     15\u001b[0m         key \u001b[38;5;241m=\u001b[39m \u001b[38;5;124mf\u001b[39m\u001b[38;5;124m\"\u001b[39m\u001b[38;5;132;01m{\u001b[39;00mmodel_name\u001b[38;5;132;01m}\u001b[39;00m\u001b[38;5;124m \u001b[39m\u001b[38;5;132;01m{\u001b[39;00mhybrid_type\u001b[38;5;250m \u001b[39m\u001b[38;5;28;01mif\u001b[39;00m\u001b[38;5;250m \u001b[39mhybrid_type\u001b[38;5;250m \u001b[39m\u001b[38;5;28;01melse\u001b[39;00m\u001b[38;5;250m \u001b[39m\u001b[38;5;124m'\u001b[39m\u001b[38;5;124mNone\u001b[39m\u001b[38;5;124m'\u001b[39m\u001b[38;5;132;01m}\u001b[39;00m\u001b[38;5;124m \u001b[39m\u001b[38;5;132;01m{\u001b[39;00mresample_method\u001b[38;5;132;01m}\u001b[39;00m\u001b[38;5;124m\"\u001b[39m\n\u001b[0;32m     16\u001b[0m         all_experiment_result[key] \u001b[38;5;241m=\u001b[39m results\n",
      "File \u001b[1;32m~\\Jupyter\\aiops\\src\\ml_lib\\experiment.py:259\u001b[0m, in \u001b[0;36mrun_kfold_experiment\u001b[1;34m(X, y, model_name, hybrid_type, resample_method, kfold, seed, epochs, patience, max_length, batch_size, lr, weight_decay)\u001b[0m\n\u001b[0;32m    256\u001b[0m X_val \u001b[38;5;241m=\u001b[39m [X[i] \u001b[38;5;28;01mfor\u001b[39;00m i \u001b[38;5;129;01min\u001b[39;00m val_idx]\n\u001b[0;32m    257\u001b[0m y_val \u001b[38;5;241m=\u001b[39m [y[i] \u001b[38;5;28;01mfor\u001b[39;00m i \u001b[38;5;129;01min\u001b[39;00m val_idx]\n\u001b[1;32m--> 259\u001b[0m X_train, y_train \u001b[38;5;241m=\u001b[39m apply_resampling(X_train, y_train, method\u001b[38;5;241m=\u001b[39mresample_method, random_state\u001b[38;5;241m=\u001b[39mseed)\n\u001b[0;32m    261\u001b[0m label_counts \u001b[38;5;241m=\u001b[39m Counter(y_train)\n\u001b[0;32m    262\u001b[0m \u001b[38;5;28mprint\u001b[39m(\u001b[38;5;124m\"\u001b[39m\u001b[38;5;124mLabel distribution after resampling:\u001b[39m\u001b[38;5;124m\"\u001b[39m)\n",
      "File \u001b[1;32m~\\Jupyter\\aiops\\src\\ml_lib\\experiment.py:212\u001b[0m, in \u001b[0;36mapply_resampling\u001b[1;34m(X, y, method, random_state)\u001b[0m\n\u001b[0;32m    210\u001b[0m added \u001b[38;5;241m=\u001b[39m \u001b[38;5;241m0\u001b[39m\n\u001b[0;32m    211\u001b[0m \u001b[38;5;28;01mfor\u001b[39;00m sentence \u001b[38;5;129;01min\u001b[39;00m samples:\n\u001b[1;32m--> 212\u001b[0m     similar_sentences \u001b[38;5;241m=\u001b[39m get_sbert_augmented_sentences(\n\u001b[0;32m    213\u001b[0m         original_sentence\u001b[38;5;241m=\u001b[39msentence,\n\u001b[0;32m    214\u001b[0m         corpus_sentences\u001b[38;5;241m=\u001b[39mall_corpus,\n\u001b[0;32m    215\u001b[0m         top_k\u001b[38;5;241m=\u001b[39m\u001b[38;5;241m10\u001b[39m,  \u001b[38;5;66;03m# 可調整搜尋量\u001b[39;00m\n\u001b[0;32m    216\u001b[0m         score_threshold\u001b[38;5;241m=\u001b[39m\u001b[38;5;241m0.75\u001b[39m  \u001b[38;5;66;03m# 可調整語意標準\u001b[39;00m\n\u001b[0;32m    217\u001b[0m     )\n\u001b[0;32m    218\u001b[0m     \u001b[38;5;28;01mfor\u001b[39;00m aug \u001b[38;5;129;01min\u001b[39;00m similar_sentences:\n\u001b[0;32m    219\u001b[0m         \u001b[38;5;28;01mif\u001b[39;00m added \u001b[38;5;241m>\u001b[39m\u001b[38;5;241m=\u001b[39m needed:\n",
      "File \u001b[1;32m~\\Jupyter\\aiops\\src\\ml_lib\\experiment.py:180\u001b[0m, in \u001b[0;36mapply_resampling.<locals>.get_sbert_augmented_sentences\u001b[1;34m(original_sentence, corpus_sentences, top_k, score_threshold)\u001b[0m\n\u001b[0;32m    179\u001b[0m \u001b[38;5;28;01mdef\u001b[39;00m \u001b[38;5;21mget_sbert_augmented_sentences\u001b[39m(original_sentence: \u001b[38;5;28mstr\u001b[39m, corpus_sentences: \u001b[38;5;28mlist\u001b[39m, top_k: \u001b[38;5;28mint\u001b[39m \u001b[38;5;241m=\u001b[39m \u001b[38;5;241m5\u001b[39m, score_threshold: \u001b[38;5;28mfloat\u001b[39m \u001b[38;5;241m=\u001b[39m \u001b[38;5;241m0.7\u001b[39m):\n\u001b[1;32m--> 180\u001b[0m     corpus_embeddings \u001b[38;5;241m=\u001b[39m sbert_model\u001b[38;5;241m.\u001b[39mencode(corpus_sentences, convert_to_tensor\u001b[38;5;241m=\u001b[39m\u001b[38;5;28;01mTrue\u001b[39;00m)\n\u001b[0;32m    181\u001b[0m     query_embedding \u001b[38;5;241m=\u001b[39m sbert_model\u001b[38;5;241m.\u001b[39mencode(original_sentence, convert_to_tensor\u001b[38;5;241m=\u001b[39m\u001b[38;5;28;01mTrue\u001b[39;00m)\n\u001b[0;32m    183\u001b[0m     cosine_scores \u001b[38;5;241m=\u001b[39m util\u001b[38;5;241m.\u001b[39mpytorch_cos_sim(query_embedding, corpus_embeddings)[\u001b[38;5;241m0\u001b[39m]\n",
      "File \u001b[1;32mD:\\Anaconda3\\envs\\cuda\\Lib\\site-packages\\sentence_transformers\\SentenceTransformer.py:367\u001b[0m, in \u001b[0;36mSentenceTransformer.encode\u001b[1;34m(self, sentences, prompt_name, prompt, batch_size, show_progress_bar, output_value, precision, convert_to_numpy, convert_to_tensor, device, normalize_embeddings)\u001b[0m\n\u001b[0;32m    365\u001b[0m sentences_batch \u001b[38;5;241m=\u001b[39m sentences_sorted[start_index : start_index \u001b[38;5;241m+\u001b[39m batch_size]\n\u001b[0;32m    366\u001b[0m features \u001b[38;5;241m=\u001b[39m \u001b[38;5;28mself\u001b[39m\u001b[38;5;241m.\u001b[39mtokenize(sentences_batch)\n\u001b[1;32m--> 367\u001b[0m features \u001b[38;5;241m=\u001b[39m batch_to_device(features, device)\n\u001b[0;32m    368\u001b[0m features\u001b[38;5;241m.\u001b[39mupdate(extra_features)\n\u001b[0;32m    370\u001b[0m \u001b[38;5;28;01mwith\u001b[39;00m torch\u001b[38;5;241m.\u001b[39mno_grad():\n",
      "File \u001b[1;32mD:\\Anaconda3\\envs\\cuda\\Lib\\site-packages\\sentence_transformers\\util.py:376\u001b[0m, in \u001b[0;36mbatch_to_device\u001b[1;34m(batch, target_device)\u001b[0m\n\u001b[0;32m    374\u001b[0m \u001b[38;5;28;01mfor\u001b[39;00m key \u001b[38;5;129;01min\u001b[39;00m batch:\n\u001b[0;32m    375\u001b[0m     \u001b[38;5;28;01mif\u001b[39;00m \u001b[38;5;28misinstance\u001b[39m(batch[key], Tensor):\n\u001b[1;32m--> 376\u001b[0m         batch[key] \u001b[38;5;241m=\u001b[39m batch[key]\u001b[38;5;241m.\u001b[39mto(target_device)\n\u001b[0;32m    377\u001b[0m \u001b[38;5;28;01mreturn\u001b[39;00m batch\n",
      "\u001b[1;31mKeyboardInterrupt\u001b[0m: "
     ]
    }
   ],
   "source": [
    "model_list = [\"bert-base-uncased\",\"roberta-base\",\"microsoft/deberta-base\"]\n",
    "hybrid_list = [None,\"lstm\",\"cnn\",\"bilstm\"]\n",
    "resample_list = [\"sbert\"]\n",
    "\n",
    "all_experiment_result = {}\n",
    "\n",
    "for model_name in model_list:\n",
    "    for hybrid_type in hybrid_list:\n",
    "        for resample_method in resample_list:\n",
    "            results = run_kfold_experiment(\n",
    "                X=messages, y=labels, model_name=model_name, hybrid_type=hybrid_type, resample_method=resample_method,\n",
    "                kfold=KFOLD_SPLIT, seed=SEED, epochs=EPOCHS, patience=PATIENCE, max_length=MAX_LENGTH, \n",
    "                batch_size=BATCH_SIZE, lr=LR, weight_decay=WEIGHT_DECAY\n",
    "            )\n",
    "            key = f\"{model_name} {hybrid_type if hybrid_type else 'None'} {resample_method}\"\n",
    "            all_experiment_result[key] = results"
   ]
  },
  {
   "cell_type": "code",
   "execution_count": null,
   "id": "ec792735-5337-4675-a201-30ec3a0415ca",
   "metadata": {},
   "outputs": [],
   "source": [
    "all_experiment_result"
   ]
  },
  {
   "cell_type": "code",
   "execution_count": null,
   "id": "3c633d6f-3117-4e62-a92c-c50fb863c194",
   "metadata": {},
   "outputs": [],
   "source": []
  },
  {
   "cell_type": "code",
   "execution_count": null,
   "id": "a979ee3d-a4b6-4ea5-8247-fe041653243b",
   "metadata": {},
   "outputs": [],
   "source": []
  }
 ],
 "metadata": {
  "kernelspec": {
   "display_name": "Python 3 (ipykernel)",
   "language": "python",
   "name": "python3"
  },
  "language_info": {
   "codemirror_mode": {
    "name": "ipython",
    "version": 3
   },
   "file_extension": ".py",
   "mimetype": "text/x-python",
   "name": "python",
   "nbconvert_exporter": "python",
   "pygments_lexer": "ipython3",
   "version": "3.11.9"
  }
 },
 "nbformat": 4,
 "nbformat_minor": 5
}
