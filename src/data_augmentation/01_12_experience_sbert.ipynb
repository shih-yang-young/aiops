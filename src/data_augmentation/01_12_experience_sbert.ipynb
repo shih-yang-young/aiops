{
 "cells": [
  {
   "cell_type": "code",
   "execution_count": 1,
   "id": "c6902def-8805-4483-a546-4ab48a7b8953",
   "metadata": {},
   "outputs": [
    {
     "data": {
      "text/html": [
       "<div>\n",
       "<style scoped>\n",
       "    .dataframe tbody tr th:only-of-type {\n",
       "        vertical-align: middle;\n",
       "    }\n",
       "\n",
       "    .dataframe tbody tr th {\n",
       "        vertical-align: top;\n",
       "    }\n",
       "\n",
       "    .dataframe thead th {\n",
       "        text-align: right;\n",
       "    }\n",
       "</style>\n",
       "<table border=\"1\" class=\"dataframe\">\n",
       "  <thead>\n",
       "    <tr style=\"text-align: right;\">\n",
       "      <th></th>\n",
       "      <th>Inbound Message</th>\n",
       "      <th>Label</th>\n",
       "    </tr>\n",
       "  </thead>\n",
       "  <tbody>\n",
       "    <tr>\n",
       "      <th>0</th>\n",
       "      <td>login issue verified user details employee man...</td>\n",
       "      <td>0</td>\n",
       "    </tr>\n",
       "    <tr>\n",
       "      <th>1</th>\n",
       "      <td>outlook hello team meetings skype meetings etc...</td>\n",
       "      <td>0</td>\n",
       "    </tr>\n",
       "    <tr>\n",
       "      <th>2</th>\n",
       "      <td>cant log vpn cannot log vpn best</td>\n",
       "      <td>0</td>\n",
       "    </tr>\n",
       "    <tr>\n",
       "      <th>3</th>\n",
       "      <td>unable access tool page unable access tool page</td>\n",
       "      <td>0</td>\n",
       "    </tr>\n",
       "    <tr>\n",
       "      <th>4</th>\n",
       "      <td>skype error skype error</td>\n",
       "      <td>0</td>\n",
       "    </tr>\n",
       "    <tr>\n",
       "      <th>...</th>\n",
       "      <td>...</td>\n",
       "      <td>...</td>\n",
       "    </tr>\n",
       "    <tr>\n",
       "      <th>8449</th>\n",
       "      <td>emails coming mail good afternoon receiving em...</td>\n",
       "      <td>22</td>\n",
       "    </tr>\n",
       "    <tr>\n",
       "      <th>8450</th>\n",
       "      <td>telephony software issue telephony software issue</td>\n",
       "      <td>0</td>\n",
       "    </tr>\n",
       "    <tr>\n",
       "      <th>8451</th>\n",
       "      <td>vip windows password reset tifpdchb pedxruyf v...</td>\n",
       "      <td>0</td>\n",
       "    </tr>\n",
       "    <tr>\n",
       "      <th>8452</th>\n",
       "      <td>machine est funcionando unable access machine ...</td>\n",
       "      <td>44</td>\n",
       "    </tr>\n",
       "    <tr>\n",
       "      <th>8453</th>\n",
       "      <td>mehreren lassen sich verschiedene prgramdntyme...</td>\n",
       "      <td>49</td>\n",
       "    </tr>\n",
       "  </tbody>\n",
       "</table>\n",
       "<p>8454 rows × 2 columns</p>\n",
       "</div>"
      ],
      "text/plain": [
       "                                        Inbound Message  Label\n",
       "0     login issue verified user details employee man...      0\n",
       "1     outlook hello team meetings skype meetings etc...      0\n",
       "2                      cant log vpn cannot log vpn best      0\n",
       "3       unable access tool page unable access tool page      0\n",
       "4                               skype error skype error      0\n",
       "...                                                 ...    ...\n",
       "8449  emails coming mail good afternoon receiving em...     22\n",
       "8450  telephony software issue telephony software issue      0\n",
       "8451  vip windows password reset tifpdchb pedxruyf v...      0\n",
       "8452  machine est funcionando unable access machine ...     44\n",
       "8453  mehreren lassen sich verschiedene prgramdntyme...     49\n",
       "\n",
       "[8454 rows x 2 columns]"
      ]
     },
     "execution_count": 1,
     "metadata": {},
     "output_type": "execute_result"
    }
   ],
   "source": [
    "import pandas as pd\n",
    "data_path = \"../../data/open_source_8454_combine_short_description.csv\"\n",
    "df = pd.read_csv(data_path)\n",
    "# df_label_0 = df[df[\"Label\"] == 0]\n",
    "# df_label_0_to_drop = df_label_0.sample(n=3000, random_state=42)\n",
    "# df = df.drop(df_label_0_to_drop.index)\n",
    "df"
   ]
  },
  {
   "cell_type": "code",
   "execution_count": 2,
   "id": "8a523c41-9917-42ad-9920-021c2d567bf2",
   "metadata": {},
   "outputs": [
    {
     "name": "stderr",
     "output_type": "stream",
     "text": [
      "c:\\Users\\user\\AppData\\Local\\Programs\\Python\\Python310\\lib\\site-packages\\tqdm\\auto.py:21: TqdmWarning: IProgress not found. Please update jupyter and ipywidgets. See https://ipywidgets.readthedocs.io/en/stable/user_install.html\n",
      "  from .autonotebook import tqdm as notebook_tqdm\n"
     ]
    }
   ],
   "source": [
    "import sys\n",
    "import os\n",
    "sys.path.append(os.path.abspath('../ml_lib'))\n",
    "\n",
    "from config import *\n",
    "from experiment import run_kfold_experiment"
   ]
  },
  {
   "cell_type": "code",
   "execution_count": 3,
   "id": "0042fdaa-0d1e-4925-a831-51d69b623c54",
   "metadata": {},
   "outputs": [],
   "source": [
    "messages, labels = df['Inbound Message'].tolist(), df['Label'].tolist()"
   ]
  },
  {
   "cell_type": "code",
   "execution_count": 4,
   "id": "f9a1f7b1-5c13-4312-959c-24cae1a028e8",
   "metadata": {},
   "outputs": [
    {
     "name": "stdout",
     "output_type": "stream",
     "text": [
      "▶ Running: bert-base-uncased + plain + sbert\n",
      "tokenizer is bert-base-uncased\n",
      "Using device: cuda\n",
      "CUDA Available: True\n",
      "CUDA Device: NVIDIA GeForce RTX 5070 Ti\n",
      "Current GPU Memory Allocated: 0.00 GB\n",
      "Current GPU Memory Cached: 0.00 GB\n",
      "\n",
      "[Fold 1]\n",
      "🚀 Using SBERT for data augmentation\n",
      "Using device: cuda\n",
      "CUDA Available: True\n",
      "CUDA Device: NVIDIA GeForce RTX 5070 Ti\n",
      "Current GPU Memory Allocated: 0.09 GB\n",
      "Current GPU Memory Cached: 0.11 GB\n",
      "Model device: cuda:0\n",
      "🔧 Augmenting label 1: 25 → 200 (+175)\n",
      "🔧 Augmenting label 2: 112 → 200 (+88)\n",
      "🔧 Augmenting label 3: 24 → 200 (+176)\n",
      "🔧 Augmenting label 5: 116 → 200 (+84)\n",
      "🔧 Augmenting label 6: 95 → 200 (+105)\n",
      "🔧 Augmenting label 7: 31 → 200 (+169)\n",
      "🔧 Augmenting label 8: 68 → 200 (+132)\n",
      "🔧 Augmenting label 9: 65 → 200 (+135)\n",
      "🔧 Augmenting label 10: 70 → 200 (+130)\n",
      "🔧 Augmenting label 11: 172 → 200 (+28)\n",
      "🔧 Augmenting label 12: 193 → 200 (+7)\n",
      "🔧 Augmenting label 13: 29 → 200 (+171)\n",
      "🔧 Augmenting label 14: 23 → 200 (+177)\n",
      "🔧 Augmenting label 15: 25 → 200 (+175)\n",
      "🔧 Augmenting label 16: 20 → 200 (+180)\n",
      "🔧 Augmenting label 18: 93 → 200 (+107)\n",
      "🔧 Augmenting label 19: 45 → 200 (+155)\n",
      "🔧 Augmenting label 20: 14 → 200 (+186)\n",
      "🔧 Augmenting label 21: 35 → 200 (+165)\n",
      "🔧 Augmenting label 22: 78 → 200 (+122)\n",
      "🔧 Augmenting label 23: 160 → 200 (+40)\n",
      "🔧 Augmenting label 24: 16 → 200 (+184)\n",
      "🔧 Augmenting label 25: 50 → 200 (+150)\n",
      "🔧 Augmenting label 26: 86 → 200 (+114)\n",
      "🔧 Augmenting label 27: 49 → 200 (+151)\n",
      "🔧 Augmenting label 28: 12 → 200 (+188)\n",
      "🔧 Augmenting label 29: 13 → 200 (+187)\n",
      "🔧 Augmenting label 30: 15 → 200 (+185)\n",
      "🔧 Augmenting label 31: 80 → 200 (+120)\n",
      "🔧 Augmenting label 32: 36 → 200 (+164)\n",
      "🔧 Augmenting label 33: 32 → 200 (+168)\n",
      "🔧 Augmenting label 34: 30 → 200 (+170)\n",
      "🔧 Augmenting label 35: 12 → 200 (+188)\n",
      "🔧 Augmenting label 36: 28 → 200 (+172)\n",
      "🔧 Augmenting label 37: 21 → 200 (+179)\n",
      "🔧 Augmenting label 38: 6 → 200 (+194)\n",
      "🔧 Augmenting label 39: 103 → 200 (+97)\n",
      "🔧 Augmenting label 40: 12 → 200 (+188)\n",
      "🔧 Augmenting label 41: 8 → 200 (+192)\n",
      "🔧 Augmenting label 42: 147 → 200 (+53)\n",
      "🔧 Augmenting label 43: 16 → 200 (+184)\n",
      "🔧 Augmenting label 44: 20 → 200 (+180)\n",
      "🔧 Augmenting label 45: 9 → 200 (+191)\n",
      "🔧 Augmenting label 46: 54 → 200 (+146)\n",
      "🔧 Augmenting label 49: 69 → 200 (+131)\n",
      "Label distribution after resampling:\n",
      "  label 0: 3179\n",
      "  label 1: 105\n",
      "  label 2: 200\n",
      "  label 3: 26\n",
      "  label 4: 205\n",
      "  label 5: 164\n",
      "  label 6: 163\n",
      "  label 7: 38\n",
      "  label 8: 74\n",
      "  label 9: 200\n",
      "  label 10: 117\n",
      "  label 11: 200\n",
      "  label 12: 200\n",
      "  label 13: 33\n",
      "  label 14: 23\n",
      "  label 15: 28\n",
      "  label 16: 67\n",
      "  label 17: 231\n",
      "  label 18: 116\n",
      "  label 19: 74\n",
      "  label 20: 42\n",
      "  label 21: 45\n",
      "  label 22: 106\n",
      "  label 23: 200\n",
      "  label 24: 59\n",
      "  label 25: 145\n",
      "  label 26: 123\n",
      "  label 27: 87\n",
      "  label 28: 44\n",
      "  label 29: 16\n",
      "  label 30: 82\n",
      "  label 31: 185\n",
      "  label 32: 44\n",
      "  label 33: 39\n",
      "  label 34: 33\n",
      "  label 35: 22\n",
      "  label 36: 120\n",
      "  label 37: 120\n",
      "  label 38: 24\n",
      "  label 39: 200\n",
      "  label 40: 33\n",
      "  label 41: 24\n",
      "  label 42: 200\n",
      "  label 43: 113\n",
      "  label 44: 33\n",
      "  label 45: 16\n",
      "  label 46: 138\n",
      "  label 47: 529\n",
      "  label 48: 202\n",
      "  label 49: 111\n",
      "model is bert-base-uncased\n"
     ]
    },
    {
     "name": "stderr",
     "output_type": "stream",
     "text": [
      "Some weights of BertForSequenceClassification were not initialized from the model checkpoint at bert-base-uncased and are newly initialized: ['classifier.bias', 'classifier.weight']\n",
      "You should probably TRAIN this model on a down-stream task to be able to use it for predictions and inference.\n"
     ]
    },
    {
     "name": "stdout",
     "output_type": "stream",
     "text": [
      "Epoch 1/20\n"
     ]
    },
    {
     "name": "stderr",
     "output_type": "stream",
     "text": [
      "100%|██████████| 537/537 [00:45<00:00, 11.92it/s]\n"
     ]
    },
    {
     "name": "stdout",
     "output_type": "stream",
     "text": [
      "{'val_loss': 1.5277017518034521, 'val_accuracy': 0.6043761088113542, 'precision': 0.49650814803678, 'recall': 0.6043761088113542, 'f1-score': 0.529014069267804, 'macro_f1-score': 0.1605547178496763, 'balanced_accuracy': 0.165659559092282, 'mcc': 0.4418600294958944, 'train_loss': 2.220597942781182}\n",
      "Epoch 2/20\n"
     ]
    },
    {
     "name": "stderr",
     "output_type": "stream",
     "text": [
      "100%|██████████| 537/537 [00:45<00:00, 11.93it/s]\n"
     ]
    },
    {
     "name": "stdout",
     "output_type": "stream",
     "text": [
      "{'val_loss': 1.3605943637074165, 'val_accuracy': 0.6197516262566529, 'precision': 0.5719627128830986, 'recall': 0.6197516262566529, 'f1-score': 0.574334235382818, 'macro_f1-score': 0.24052735753726892, 'balanced_accuracy': 0.25263415224789854, 'mcc': 0.4769394586388597, 'train_loss': 1.5241759574280105}\n",
      "Epoch 3/20\n"
     ]
    },
    {
     "name": "stderr",
     "output_type": "stream",
     "text": [
      "100%|██████████| 537/537 [00:44<00:00, 11.95it/s]\n"
     ]
    },
    {
     "name": "stdout",
     "output_type": "stream",
     "text": [
      "{'val_loss': 1.3508193661581795, 'val_accuracy': 0.6221170904790065, 'precision': 0.6033407937198874, 'recall': 0.6221170904790065, 'f1-score': 0.5949246180403552, 'macro_f1-score': 0.27847703973012594, 'balanced_accuracy': 0.2933135201136052, 'mcc': 0.4896218218097043, 'train_loss': 1.2207702308393724}\n",
      "Epoch 4/20\n"
     ]
    },
    {
     "name": "stderr",
     "output_type": "stream",
     "text": [
      "100%|██████████| 537/537 [00:44<00:00, 11.94it/s]\n"
     ]
    },
    {
     "name": "stdout",
     "output_type": "stream",
     "text": [
      "{'val_loss': 1.3327042488556988, 'val_accuracy': 0.6534594914251922, 'precision': 0.6252913747575638, 'recall': 0.6534594914251922, 'f1-score': 0.6268449571447436, 'macro_f1-score': 0.3031945840415103, 'balanced_accuracy': 0.31188110896219795, 'mcc': 0.5332261535264973, 'train_loss': 0.9876101148528094}\n",
      "Epoch 5/20\n"
     ]
    },
    {
     "name": "stderr",
     "output_type": "stream",
     "text": [
      "100%|██████████| 537/537 [00:44<00:00, 11.94it/s]\n"
     ]
    },
    {
     "name": "stdout",
     "output_type": "stream",
     "text": [
      "{'val_loss': 1.3769519916682873, 'val_accuracy': 0.6599645180366647, 'precision': 0.6439620466577466, 'recall': 0.6599645180366647, 'f1-score': 0.6443315719592806, 'macro_f1-score': 0.34822667709808014, 'balanced_accuracy': 0.35516571188478424, 'mcc': 0.548980085506492, 'train_loss': 0.8294514534748688}\n",
      "Epoch 6/20\n"
     ]
    },
    {
     "name": "stderr",
     "output_type": "stream",
     "text": [
      "100%|██████████| 537/537 [00:44<00:00, 11.94it/s]\n"
     ]
    },
    {
     "name": "stdout",
     "output_type": "stream",
     "text": [
      "{'val_loss': 1.4426893605938498, 'val_accuracy': 0.6587817859254879, 'precision': 0.6370706573316197, 'recall': 0.6587817859254879, 'f1-score': 0.638131112515474, 'macro_f1-score': 0.3568395863201404, 'balanced_accuracy': 0.36193276315953304, 'mcc': 0.5440055226439194, 'train_loss': 0.7096282216881573}\n",
      "Epoch 7/20\n"
     ]
    },
    {
     "name": "stderr",
     "output_type": "stream",
     "text": [
      "100%|██████████| 537/537 [00:45<00:00, 11.93it/s]\n"
     ]
    },
    {
     "name": "stdout",
     "output_type": "stream",
     "text": [
      "{'val_loss': 1.474920320342172, 'val_accuracy': 0.6670609107037256, 'precision': 0.6473943912976258, 'recall': 0.6670609107037256, 'f1-score': 0.6411047362474909, 'macro_f1-score': 0.3664703092629589, 'balanced_accuracy': 0.348296700650729, 'mcc': 0.5467899390684987, 'train_loss': 0.6489412395189927}\n",
      "Epoch 8/20\n"
     ]
    },
    {
     "name": "stderr",
     "output_type": "stream",
     "text": [
      "100%|██████████| 537/537 [00:44<00:00, 11.95it/s]\n"
     ]
    },
    {
     "name": "stdout",
     "output_type": "stream",
     "text": [
      "{'val_loss': 1.4611083547461707, 'val_accuracy': 0.6475458308693081, 'precision': 0.6519223454151425, 'recall': 0.6475458308693081, 'f1-score': 0.634209078229983, 'macro_f1-score': 0.3666482029892088, 'balanced_accuracy': 0.35782339667209273, 'mcc': 0.5296348595191298, 'train_loss': 0.6143426272317462}\n",
      "Epoch 9/20\n"
     ]
    },
    {
     "name": "stderr",
     "output_type": "stream",
     "text": [
      "100%|██████████| 537/537 [00:44<00:00, 11.94it/s]\n"
     ]
    },
    {
     "name": "stdout",
     "output_type": "stream",
     "text": [
      "{'val_loss': 1.5561447385347114, 'val_accuracy': 0.6404494382022472, 'precision': 0.6583151003690373, 'recall': 0.6404494382022472, 'f1-score': 0.6389511865904389, 'macro_f1-score': 0.40144185435286345, 'balanced_accuracy': 0.4099482215810776, 'mcc': 0.5300198131650997, 'train_loss': 0.5818543076945306}\n",
      "Epoch 10/20\n"
     ]
    },
    {
     "name": "stderr",
     "output_type": "stream",
     "text": [
      "100%|██████████| 537/537 [00:44<00:00, 11.94it/s]\n"
     ]
    },
    {
     "name": "stdout",
     "output_type": "stream",
     "text": [
      "{'val_loss': 1.5584154955621035, 'val_accuracy': 0.6439976345357776, 'precision': 0.647537652650023, 'recall': 0.6439976345357776, 'f1-score': 0.6357398937479156, 'macro_f1-score': 0.38318131225449575, 'balanced_accuracy': 0.3801943386662922, 'mcc': 0.5267657841340672, 'train_loss': 0.5563446593815998}\n",
      "Epoch 11/20\n"
     ]
    },
    {
     "name": "stderr",
     "output_type": "stream",
     "text": [
      "100%|██████████| 537/537 [00:44<00:00, 11.95it/s]\n"
     ]
    },
    {
     "name": "stdout",
     "output_type": "stream",
     "text": [
      "{'val_loss': 1.5543289282974206, 'val_accuracy': 0.6534594914251922, 'precision': 0.6641695410564529, 'recall': 0.6534594914251922, 'f1-score': 0.6483635115793943, 'macro_f1-score': 0.38667326767783483, 'balanced_accuracy': 0.39804975188232833, 'mcc': 0.5442452400092098, 'train_loss': 0.5397820590303264}\n",
      "Epoch 12/20\n"
     ]
    },
    {
     "name": "stderr",
     "output_type": "stream",
     "text": [
      "100%|██████████| 537/537 [00:44<00:00, 11.94it/s]\n"
     ]
    },
    {
     "name": "stdout",
     "output_type": "stream",
     "text": [
      "{'val_loss': 1.5866304560090012, 'val_accuracy': 0.6191602602010644, 'precision': 0.6611480778655843, 'recall': 0.6191602602010644, 'f1-score': 0.626876438299477, 'macro_f1-score': 0.39629861093649965, 'balanced_accuracy': 0.42249739262471414, 'mcc': 0.5130066811939986, 'train_loss': 0.5353312471489555}\n",
      "Early stopping.\n",
      "\n",
      "[Fold 2]\n",
      "🚀 Using SBERT for data augmentation\n",
      "Using device: cuda\n",
      "CUDA Available: True\n",
      "CUDA Device: NVIDIA GeForce RTX 5070 Ti\n",
      "Current GPU Memory Allocated: 1.97 GB\n",
      "Current GPU Memory Cached: 3.14 GB\n",
      "Model device: cuda:0\n",
      "🔧 Augmenting label 1: 25 → 200 (+175)\n",
      "🔧 Augmenting label 2: 112 → 200 (+88)\n",
      "🔧 Augmenting label 3: 24 → 200 (+176)\n",
      "🔧 Augmenting label 5: 116 → 200 (+84)\n",
      "🔧 Augmenting label 6: 94 → 200 (+106)\n",
      "🔧 Augmenting label 7: 31 → 200 (+169)\n",
      "🔧 Augmenting label 8: 68 → 200 (+132)\n",
      "🔧 Augmenting label 9: 65 → 200 (+135)\n",
      "🔧 Augmenting label 10: 70 → 200 (+130)\n",
      "🔧 Augmenting label 11: 172 → 200 (+28)\n",
      "🔧 Augmenting label 12: 193 → 200 (+7)\n",
      "🔧 Augmenting label 13: 29 → 200 (+171)\n",
      "🔧 Augmenting label 14: 23 → 200 (+177)\n",
      "🔧 Augmenting label 15: 25 → 200 (+175)\n",
      "🔧 Augmenting label 16: 20 → 200 (+180)\n",
      "🔧 Augmenting label 18: 93 → 200 (+107)\n",
      "🔧 Augmenting label 19: 45 → 200 (+155)\n",
      "🔧 Augmenting label 20: 14 → 200 (+186)\n",
      "🔧 Augmenting label 21: 35 → 200 (+165)\n",
      "🔧 Augmenting label 22: 78 → 200 (+122)\n",
      "🔧 Augmenting label 23: 160 → 200 (+40)\n",
      "🔧 Augmenting label 24: 16 → 200 (+184)\n",
      "🔧 Augmenting label 25: 50 → 200 (+150)\n",
      "🔧 Augmenting label 26: 86 → 200 (+114)\n",
      "🔧 Augmenting label 27: 49 → 200 (+151)\n",
      "🔧 Augmenting label 28: 12 → 200 (+188)\n",
      "🔧 Augmenting label 29: 13 → 200 (+187)\n",
      "🔧 Augmenting label 30: 15 → 200 (+185)\n",
      "🔧 Augmenting label 31: 80 → 200 (+120)\n",
      "🔧 Augmenting label 32: 36 → 200 (+164)\n",
      "🔧 Augmenting label 33: 32 → 200 (+168)\n",
      "🔧 Augmenting label 34: 30 → 200 (+170)\n",
      "🔧 Augmenting label 35: 12 → 200 (+188)\n",
      "🔧 Augmenting label 36: 28 → 200 (+172)\n",
      "🔧 Augmenting label 37: 22 → 200 (+178)\n",
      "🔧 Augmenting label 38: 5 → 200 (+195)\n",
      "🔧 Augmenting label 39: 103 → 200 (+97)\n",
      "🔧 Augmenting label 40: 11 → 200 (+189)\n",
      "🔧 Augmenting label 41: 9 → 200 (+191)\n",
      "🔧 Augmenting label 42: 147 → 200 (+53)\n",
      "🔧 Augmenting label 43: 16 → 200 (+184)\n",
      "🔧 Augmenting label 44: 20 → 200 (+180)\n",
      "🔧 Augmenting label 45: 9 → 200 (+191)\n",
      "🔧 Augmenting label 46: 55 → 200 (+145)\n",
      "🔧 Augmenting label 49: 69 → 200 (+131)\n",
      "Label distribution after resampling:\n",
      "  label 0: 3179\n",
      "  label 1: 119\n",
      "  label 2: 200\n",
      "  label 3: 25\n",
      "  label 4: 206\n",
      "  label 5: 144\n",
      "  label 6: 177\n",
      "  label 7: 35\n",
      "  label 8: 80\n",
      "  label 9: 200\n",
      "  label 10: 95\n",
      "  label 11: 200\n",
      "  label 12: 200\n",
      "  label 13: 33\n",
      "  label 14: 23\n",
      "  label 15: 28\n",
      "  label 16: 69\n",
      "  label 17: 231\n",
      "  label 18: 117\n",
      "  label 19: 70\n",
      "  label 20: 52\n",
      "  label 21: 41\n",
      "  label 22: 130\n",
      "  label 23: 200\n",
      "  label 24: 60\n",
      "  label 25: 160\n",
      "  label 26: 122\n",
      "  label 27: 93\n",
      "  label 28: 29\n",
      "  label 29: 13\n",
      "  label 30: 79\n",
      "  label 31: 174\n",
      "  label 32: 37\n",
      "  label 33: 38\n",
      "  label 34: 31\n",
      "  label 35: 24\n",
      "  label 36: 95\n",
      "  label 37: 116\n",
      "  label 38: 23\n",
      "  label 39: 200\n",
      "  label 40: 32\n",
      "  label 41: 24\n",
      "  label 42: 200\n",
      "  label 43: 129\n",
      "  label 44: 30\n",
      "  label 45: 20\n",
      "  label 46: 111\n",
      "  label 47: 528\n",
      "  label 48: 202\n",
      "  label 49: 109\n",
      "model is bert-base-uncased\n"
     ]
    },
    {
     "name": "stderr",
     "output_type": "stream",
     "text": [
      "Some weights of BertForSequenceClassification were not initialized from the model checkpoint at bert-base-uncased and are newly initialized: ['classifier.bias', 'classifier.weight']\n",
      "You should probably TRAIN this model on a down-stream task to be able to use it for predictions and inference.\n"
     ]
    },
    {
     "name": "stdout",
     "output_type": "stream",
     "text": [
      "Epoch 1/20\n"
     ]
    },
    {
     "name": "stderr",
     "output_type": "stream",
     "text": [
      "100%|██████████| 534/534 [00:44<00:00, 11.94it/s]\n"
     ]
    },
    {
     "name": "stdout",
     "output_type": "stream",
     "text": [
      "{'val_loss': 1.5771599327618222, 'val_accuracy': 0.6179775280898876, 'precision': 0.5211020429599675, 'recall': 0.6179775280898876, 'f1-score': 0.5447725192570084, 'macro_f1-score': 0.16340503625957242, 'balanced_accuracy': 0.19280776991127055, 'mcc': 0.46933424336725327, 'train_loss': 2.188225729746765}\n",
      "Epoch 2/20\n"
     ]
    },
    {
     "name": "stderr",
     "output_type": "stream",
     "text": [
      "100%|██████████| 534/534 [00:44<00:00, 11.93it/s]\n"
     ]
    },
    {
     "name": "stdout",
     "output_type": "stream",
     "text": [
      "{'val_loss': 1.432093806143077, 'val_accuracy': 0.6309875813128326, 'precision': 0.6240521418794275, 'recall': 0.6309875813128326, 'f1-score': 0.6093485288756003, 'macro_f1-score': 0.26692485378759057, 'balanced_accuracy': 0.28954106272726693, 'mcc': 0.5183478719874617, 'train_loss': 1.5120678243230792}\n",
      "Epoch 3/20\n"
     ]
    },
    {
     "name": "stderr",
     "output_type": "stream",
     "text": [
      "100%|██████████| 534/534 [00:44<00:00, 11.93it/s]\n"
     ]
    },
    {
     "name": "stdout",
     "output_type": "stream",
     "text": [
      "{'val_loss': 1.3133103445453465, 'val_accuracy': 0.6493199290360734, 'precision': 0.6435998386356575, 'recall': 0.6493199290360734, 'f1-score': 0.6299049785066788, 'macro_f1-score': 0.33246051183823405, 'balanced_accuracy': 0.3435291424283415, 'mcc': 0.531309628965438, 'train_loss': 1.184986989652173}\n",
      "Epoch 4/20\n"
     ]
    },
    {
     "name": "stderr",
     "output_type": "stream",
     "text": [
      "100%|██████████| 534/534 [00:44<00:00, 11.95it/s]\n"
     ]
    },
    {
     "name": "stdout",
     "output_type": "stream",
     "text": [
      "{'val_loss': 1.3619797210086066, 'val_accuracy': 0.6528681253696038, 'precision': 0.6187342524454742, 'recall': 0.6528681253696038, 'f1-score': 0.6195107377406791, 'macro_f1-score': 0.30958111301905544, 'balanced_accuracy': 0.3009909103876709, 'mcc': 0.5238336424880837, 'train_loss': 0.9706813094209642}\n",
      "Epoch 5/20\n"
     ]
    },
    {
     "name": "stderr",
     "output_type": "stream",
     "text": [
      "100%|██████████| 534/534 [00:44<00:00, 11.93it/s]\n"
     ]
    },
    {
     "name": "stdout",
     "output_type": "stream",
     "text": [
      "{'val_loss': 1.3815544320727295, 'val_accuracy': 0.6617386162034299, 'precision': 0.6550725982514494, 'recall': 0.6617386162034299, 'f1-score': 0.6450287760913477, 'macro_f1-score': 0.3659768865998829, 'balanced_accuracy': 0.38228217134896414, 'mcc': 0.5510615179567704, 'train_loss': 0.8162158840102203}\n",
      "Epoch 6/20\n"
     ]
    },
    {
     "name": "stderr",
     "output_type": "stream",
     "text": [
      "100%|██████████| 534/534 [00:44<00:00, 11.94it/s]\n"
     ]
    },
    {
     "name": "stdout",
     "output_type": "stream",
     "text": [
      "{'val_loss': 1.4634323505298146, 'val_accuracy': 0.6439976345357776, 'precision': 0.6746529213847094, 'recall': 0.6439976345357776, 'f1-score': 0.6351606351999427, 'macro_f1-score': 0.36982039244844406, 'balanced_accuracy': 0.389304581673304, 'mcc': 0.5279737037025201, 'train_loss': 0.7255617454089922}\n",
      "Epoch 7/20\n"
     ]
    },
    {
     "name": "stderr",
     "output_type": "stream",
     "text": [
      "100%|██████████| 534/534 [00:44<00:00, 11.93it/s]\n"
     ]
    },
    {
     "name": "stdout",
     "output_type": "stream",
     "text": [
      "{'val_loss': 1.4459561075804368, 'val_accuracy': 0.6652868125369604, 'precision': 0.6878155819869253, 'recall': 0.6652868125369604, 'f1-score': 0.6644955550428959, 'macro_f1-score': 0.42853919487920694, 'balanced_accuracy': 0.4452313138609147, 'mcc': 0.5610242310355658, 'train_loss': 0.6503702670559008}\n",
      "Epoch 8/20\n"
     ]
    },
    {
     "name": "stderr",
     "output_type": "stream",
     "text": [
      "100%|██████████| 534/534 [00:44<00:00, 11.94it/s]\n"
     ]
    },
    {
     "name": "stdout",
     "output_type": "stream",
     "text": [
      "{'val_loss': 1.5512599663914375, 'val_accuracy': 0.6623299822590183, 'precision': 0.6572469827927027, 'recall': 0.6623299822590183, 'f1-score': 0.6423374493739941, 'macro_f1-score': 0.40742167727886597, 'balanced_accuracy': 0.4080822142217032, 'mcc': 0.5432687338306901, 'train_loss': 0.6035507478880302}\n",
      "Epoch 9/20\n"
     ]
    },
    {
     "name": "stderr",
     "output_type": "stream",
     "text": [
      "100%|██████████| 534/534 [00:44<00:00, 11.94it/s]\n"
     ]
    },
    {
     "name": "stdout",
     "output_type": "stream",
     "text": [
      "{'val_loss': 1.5047570919653155, 'val_accuracy': 0.6499112950916618, 'precision': 0.659741318286225, 'recall': 0.6499112950916618, 'f1-score': 0.6441674778088666, 'macro_f1-score': 0.4030518012031968, 'balanced_accuracy': 0.41945908532850207, 'mcc': 0.5370576231085594, 'train_loss': 0.5825416471962626}\n",
      "Epoch 10/20\n"
     ]
    },
    {
     "name": "stderr",
     "output_type": "stream",
     "text": [
      "100%|██████████| 534/534 [00:44<00:00, 11.93it/s]\n"
     ]
    },
    {
     "name": "stdout",
     "output_type": "stream",
     "text": [
      "{'val_loss': 1.6811486188814324, 'val_accuracy': 0.6735659373151981, 'precision': 0.6795399086329522, 'recall': 0.6735659373151981, 'f1-score': 0.6538560283181036, 'macro_f1-score': 0.40333985574268705, 'balanced_accuracy': 0.3944793113486041, 'mcc': 0.5578061209491342, 'train_loss': 0.5580977584524882}\n",
      "Early stopping.\n",
      "\n",
      "[Fold 3]\n",
      "🚀 Using SBERT for data augmentation\n",
      "Using device: cuda\n",
      "CUDA Available: True\n",
      "CUDA Device: NVIDIA GeForce RTX 5070 Ti\n",
      "Current GPU Memory Allocated: 1.97 GB\n",
      "Current GPU Memory Cached: 3.14 GB\n",
      "Model device: cuda:0\n",
      "🔧 Augmenting label 1: 25 → 200 (+175)\n",
      "🔧 Augmenting label 2: 112 → 200 (+88)\n",
      "🔧 Augmenting label 3: 24 → 200 (+176)\n",
      "🔧 Augmenting label 5: 116 → 200 (+84)\n",
      "🔧 Augmenting label 6: 94 → 200 (+106)\n",
      "🔧 Augmenting label 7: 31 → 200 (+169)\n",
      "🔧 Augmenting label 8: 68 → 200 (+132)\n",
      "🔧 Augmenting label 9: 65 → 200 (+135)\n",
      "🔧 Augmenting label 10: 71 → 200 (+129)\n",
      "🔧 Augmenting label 11: 172 → 200 (+28)\n",
      "🔧 Augmenting label 12: 192 → 200 (+8)\n",
      "🔧 Augmenting label 13: 29 → 200 (+171)\n",
      "🔧 Augmenting label 14: 23 → 200 (+177)\n",
      "🔧 Augmenting label 15: 25 → 200 (+175)\n",
      "🔧 Augmenting label 16: 20 → 200 (+180)\n",
      "🔧 Augmenting label 18: 93 → 200 (+107)\n",
      "🔧 Augmenting label 19: 45 → 200 (+155)\n",
      "🔧 Augmenting label 20: 14 → 200 (+186)\n",
      "🔧 Augmenting label 21: 36 → 200 (+164)\n",
      "🔧 Augmenting label 22: 77 → 200 (+123)\n",
      "🔧 Augmenting label 23: 160 → 200 (+40)\n",
      "🔧 Augmenting label 24: 16 → 200 (+184)\n",
      "🔧 Augmenting label 25: 51 → 200 (+149)\n",
      "🔧 Augmenting label 26: 85 → 200 (+115)\n",
      "🔧 Augmenting label 27: 49 → 200 (+151)\n",
      "🔧 Augmenting label 28: 12 → 200 (+188)\n",
      "🔧 Augmenting label 29: 12 → 200 (+188)\n",
      "🔧 Augmenting label 30: 16 → 200 (+184)\n",
      "🔧 Augmenting label 31: 80 → 200 (+120)\n",
      "🔧 Augmenting label 32: 36 → 200 (+164)\n",
      "🔧 Augmenting label 33: 32 → 200 (+168)\n",
      "🔧 Augmenting label 34: 29 → 200 (+171)\n",
      "🔧 Augmenting label 35: 12 → 200 (+188)\n",
      "🔧 Augmenting label 36: 28 → 200 (+172)\n",
      "🔧 Augmenting label 37: 22 → 200 (+178)\n",
      "🔧 Augmenting label 38: 5 → 200 (+195)\n",
      "🔧 Augmenting label 39: 103 → 200 (+97)\n",
      "🔧 Augmenting label 40: 11 → 200 (+189)\n",
      "🔧 Augmenting label 41: 9 → 200 (+191)\n",
      "🔧 Augmenting label 42: 147 → 200 (+53)\n",
      "🔧 Augmenting label 43: 16 → 200 (+184)\n",
      "🔧 Augmenting label 44: 20 → 200 (+180)\n",
      "🔧 Augmenting label 45: 9 → 200 (+191)\n",
      "🔧 Augmenting label 46: 55 → 200 (+145)\n",
      "🔧 Augmenting label 49: 70 → 200 (+130)\n",
      "Label distribution after resampling:\n",
      "  label 0: 3179\n",
      "  label 1: 109\n",
      "  label 2: 200\n",
      "  label 3: 26\n",
      "  label 4: 206\n",
      "  label 5: 171\n",
      "  label 6: 180\n",
      "  label 7: 32\n",
      "  label 8: 88\n",
      "  label 9: 200\n",
      "  label 10: 114\n",
      "  label 11: 200\n",
      "  label 12: 200\n",
      "  label 13: 29\n",
      "  label 14: 23\n",
      "  label 15: 29\n",
      "  label 16: 64\n",
      "  label 17: 231\n",
      "  label 18: 117\n",
      "  label 19: 72\n",
      "  label 20: 40\n",
      "  label 21: 45\n",
      "  label 22: 118\n",
      "  label 23: 200\n",
      "  label 24: 61\n",
      "  label 25: 142\n",
      "  label 26: 121\n",
      "  label 27: 88\n",
      "  label 28: 33\n",
      "  label 29: 15\n",
      "  label 30: 97\n",
      "  label 31: 170\n",
      "  label 32: 43\n",
      "  label 33: 36\n",
      "  label 34: 33\n",
      "  label 35: 26\n",
      "  label 36: 110\n",
      "  label 37: 118\n",
      "  label 38: 17\n",
      "  label 39: 200\n",
      "  label 40: 32\n",
      "  label 41: 25\n",
      "  label 42: 200\n",
      "  label 43: 99\n",
      "  label 44: 25\n",
      "  label 45: 17\n",
      "  label 46: 120\n",
      "  label 47: 529\n",
      "  label 48: 201\n",
      "  label 49: 117\n",
      "model is bert-base-uncased\n"
     ]
    },
    {
     "name": "stderr",
     "output_type": "stream",
     "text": [
      "Some weights of BertForSequenceClassification were not initialized from the model checkpoint at bert-base-uncased and are newly initialized: ['classifier.bias', 'classifier.weight']\n",
      "You should probably TRAIN this model on a down-stream task to be able to use it for predictions and inference.\n"
     ]
    },
    {
     "name": "stdout",
     "output_type": "stream",
     "text": [
      "Epoch 1/20\n"
     ]
    },
    {
     "name": "stderr",
     "output_type": "stream",
     "text": [
      "100%|██████████| 535/535 [00:44<00:00, 11.95it/s]\n"
     ]
    },
    {
     "name": "stdout",
     "output_type": "stream",
     "text": [
      "{'val_loss': 1.6029095644096159, 'val_accuracy': 0.5949142519219397, 'precision': 0.528871895057847, 'recall': 0.5949142519219397, 'f1-score': 0.4881338359275175, 'macro_f1-score': 0.11913934896213035, 'balanced_accuracy': 0.1345319825137328, 'mcc': 0.4107517978371168, 'train_loss': 2.2142618064846946}\n",
      "Epoch 2/20\n"
     ]
    },
    {
     "name": "stderr",
     "output_type": "stream",
     "text": [
      "100%|██████████| 535/535 [00:44<00:00, 11.94it/s]\n"
     ]
    },
    {
     "name": "stdout",
     "output_type": "stream",
     "text": [
      "{'val_loss': 1.3260106416243427, 'val_accuracy': 0.6487285629804849, 'precision': 0.6148967563845454, 'recall': 0.6487285629804849, 'f1-score': 0.5963743922209925, 'macro_f1-score': 0.2573034061425352, 'balanced_accuracy': 0.2551945798494023, 'mcc': 0.5116569000138718, 'train_loss': 1.5593254237531502}\n",
      "Epoch 3/20\n"
     ]
    },
    {
     "name": "stderr",
     "output_type": "stream",
     "text": [
      "100%|██████████| 535/535 [00:44<00:00, 11.94it/s]\n"
     ]
    },
    {
     "name": "stdout",
     "output_type": "stream",
     "text": [
      "{'val_loss': 1.3164260201859024, 'val_accuracy': 0.6487285629804849, 'precision': 0.6066642248135926, 'recall': 0.6487285629804849, 'f1-score': 0.6098575227457836, 'macro_f1-score': 0.28183819815407807, 'balanced_accuracy': 0.29857629744296377, 'mcc': 0.521467807746751, 'train_loss': 1.2136569582970342}\n",
      "Epoch 4/20\n"
     ]
    },
    {
     "name": "stderr",
     "output_type": "stream",
     "text": [
      "100%|██████████| 535/535 [00:44<00:00, 11.94it/s]\n"
     ]
    },
    {
     "name": "stdout",
     "output_type": "stream",
     "text": [
      "{'val_loss': 1.3088626091210347, 'val_accuracy': 0.6682436428149024, 'precision': 0.635402882374582, 'recall': 0.6682436428149024, 'f1-score': 0.6366194867316588, 'macro_f1-score': 0.32181830964698493, 'balanced_accuracy': 0.3225631942196406, 'mcc': 0.5495070801567717, 'train_loss': 0.990634368903169}\n",
      "Epoch 5/20\n"
     ]
    },
    {
     "name": "stderr",
     "output_type": "stream",
     "text": [
      "100%|██████████| 535/535 [00:44<00:00, 11.94it/s]\n"
     ]
    },
    {
     "name": "stdout",
     "output_type": "stream",
     "text": [
      "{'val_loss': 1.4085095704726454, 'val_accuracy': 0.6599645180366647, 'precision': 0.6392369045616055, 'recall': 0.6599645180366647, 'f1-score': 0.6332808861031571, 'macro_f1-score': 0.33838086219328944, 'balanced_accuracy': 0.32009923833556525, 'mcc': 0.5366182999523533, 'train_loss': 0.8291481377922486}\n",
      "Epoch 6/20\n"
     ]
    },
    {
     "name": "stderr",
     "output_type": "stream",
     "text": [
      "100%|██████████| 535/535 [00:44<00:00, 11.94it/s]\n"
     ]
    },
    {
     "name": "stdout",
     "output_type": "stream",
     "text": [
      "{'val_loss': 1.4367589168953445, 'val_accuracy': 0.641632170313424, 'precision': 0.6609829229012486, 'recall': 0.641632170313424, 'f1-score': 0.6354095526759896, 'macro_f1-score': 0.3623972599370784, 'balanced_accuracy': 0.3640886962000055, 'mcc': 0.5274547840569118, 'train_loss': 0.71400367568865}\n",
      "Epoch 7/20\n"
     ]
    },
    {
     "name": "stderr",
     "output_type": "stream",
     "text": [
      "100%|██████████| 535/535 [00:44<00:00, 11.93it/s]\n"
     ]
    },
    {
     "name": "stdout",
     "output_type": "stream",
     "text": [
      "{'val_loss': 1.5085552402262419, 'val_accuracy': 0.6298048492016558, 'precision': 0.6420753119391251, 'recall': 0.6298048492016558, 'f1-score': 0.624251376935827, 'macro_f1-score': 0.3604001437877933, 'balanced_accuracy': 0.3834063828830147, 'mcc': 0.5137916617127934, 'train_loss': 0.6414098128397888}\n",
      "Epoch 8/20\n"
     ]
    },
    {
     "name": "stderr",
     "output_type": "stream",
     "text": [
      "100%|██████████| 535/535 [00:44<00:00, 11.94it/s]\n"
     ]
    },
    {
     "name": "stdout",
     "output_type": "stream",
     "text": [
      "{'val_loss': 1.5538048493974614, 'val_accuracy': 0.6380839739798936, 'precision': 0.6541375767278153, 'recall': 0.6380839739798936, 'f1-score': 0.6337703346381364, 'macro_f1-score': 0.353713851012047, 'balanced_accuracy': 0.3747482528501488, 'mcc': 0.5318835748201601, 'train_loss': 0.5957008061773866}\n",
      "Epoch 9/20\n"
     ]
    },
    {
     "name": "stderr",
     "output_type": "stream",
     "text": [
      "100%|██████████| 535/535 [00:44<00:00, 11.94it/s]\n"
     ]
    },
    {
     "name": "stdout",
     "output_type": "stream",
     "text": [
      "{'val_loss': 1.537598707484749, 'val_accuracy': 0.6558249556475458, 'precision': 0.6536090789152961, 'recall': 0.6558249556475458, 'f1-score': 0.6379170341226253, 'macro_f1-score': 0.36790570890611773, 'balanced_accuracy': 0.3688610935886036, 'mcc': 0.5405499363620082, 'train_loss': 0.5774705271158262}\n",
      "Epoch 10/20\n"
     ]
    },
    {
     "name": "stderr",
     "output_type": "stream",
     "text": [
      "100%|██████████| 535/535 [00:44<00:00, 11.94it/s]\n"
     ]
    },
    {
     "name": "stdout",
     "output_type": "stream",
     "text": [
      "{'val_loss': 1.6277495493304055, 'val_accuracy': 0.6439976345357776, 'precision': 0.673737298075581, 'recall': 0.6439976345357776, 'f1-score': 0.6378615629399766, 'macro_f1-score': 0.3744988359733516, 'balanced_accuracy': 0.3744756493372174, 'mcc': 0.5287001249814488, 'train_loss': 0.5632372157595982}\n",
      "Epoch 11/20\n"
     ]
    },
    {
     "name": "stderr",
     "output_type": "stream",
     "text": [
      "100%|██████████| 535/535 [00:44<00:00, 11.95it/s]\n"
     ]
    },
    {
     "name": "stdout",
     "output_type": "stream",
     "text": [
      "{'val_loss': 1.655093618721332, 'val_accuracy': 0.6374926079243052, 'precision': 0.6361453290222975, 'recall': 0.6374926079243052, 'f1-score': 0.6252783386750964, 'macro_f1-score': 0.36705858639221034, 'balanced_accuracy': 0.369854884424103, 'mcc': 0.5166040097148584, 'train_loss': 0.5477123799655482}\n",
      "Epoch 12/20\n"
     ]
    },
    {
     "name": "stderr",
     "output_type": "stream",
     "text": [
      "100%|██████████| 535/535 [00:44<00:00, 11.93it/s]\n"
     ]
    },
    {
     "name": "stdout",
     "output_type": "stream",
     "text": [
      "{'val_loss': 1.6666383034778092, 'val_accuracy': 0.6351271437019516, 'precision': 0.6396952141912239, 'recall': 0.6351271437019516, 'f1-score': 0.6270918455992684, 'macro_f1-score': 0.3660347577883131, 'balanced_accuracy': 0.383641838247086, 'mcc': 0.5204265389206323, 'train_loss': 0.5353093959652235}\n",
      "Epoch 13/20\n"
     ]
    },
    {
     "name": "stderr",
     "output_type": "stream",
     "text": [
      "100%|██████████| 535/535 [00:44<00:00, 11.93it/s]\n"
     ]
    },
    {
     "name": "stdout",
     "output_type": "stream",
     "text": [
      "{'val_loss': 1.6149575670935072, 'val_accuracy': 0.6528681253696038, 'precision': 0.6541182244717519, 'recall': 0.6528681253696038, 'f1-score': 0.64367826846495, 'macro_f1-score': 0.37321917633278157, 'balanced_accuracy': 0.3903533869515291, 'mcc': 0.5450160699041824, 'train_loss': 0.5407774574985014}\n",
      "Early stopping.\n",
      "\n",
      "[Fold 4]\n",
      "🚀 Using SBERT for data augmentation\n",
      "Using device: cuda\n",
      "CUDA Available: True\n",
      "CUDA Device: NVIDIA GeForce RTX 5070 Ti\n",
      "Current GPU Memory Allocated: 1.97 GB\n",
      "Current GPU Memory Cached: 3.24 GB\n",
      "Model device: cuda:0\n",
      "🔧 Augmenting label 1: 25 → 200 (+175)\n",
      "🔧 Augmenting label 2: 112 → 200 (+88)\n",
      "🔧 Augmenting label 3: 24 → 200 (+176)\n",
      "🔧 Augmenting label 5: 116 → 200 (+84)\n",
      "🔧 Augmenting label 6: 94 → 200 (+106)\n",
      "🔧 Augmenting label 7: 32 → 200 (+168)\n",
      "🔧 Augmenting label 8: 68 → 200 (+132)\n",
      "🔧 Augmenting label 9: 64 → 200 (+136)\n",
      "🔧 Augmenting label 10: 71 → 200 (+129)\n",
      "🔧 Augmenting label 11: 172 → 200 (+28)\n",
      "🔧 Augmenting label 12: 193 → 200 (+7)\n",
      "🔧 Augmenting label 13: 28 → 200 (+172)\n",
      "🔧 Augmenting label 14: 24 → 200 (+176)\n",
      "🔧 Augmenting label 15: 24 → 200 (+176)\n",
      "🔧 Augmenting label 16: 20 → 200 (+180)\n",
      "🔧 Augmenting label 18: 92 → 200 (+108)\n",
      "🔧 Augmenting label 19: 45 → 200 (+155)\n",
      "🔧 Augmenting label 20: 15 → 200 (+185)\n",
      "🔧 Augmenting label 21: 35 → 200 (+165)\n",
      "🔧 Augmenting label 22: 77 → 200 (+123)\n",
      "🔧 Augmenting label 23: 160 → 200 (+40)\n",
      "🔧 Augmenting label 24: 16 → 200 (+184)\n",
      "🔧 Augmenting label 25: 51 → 200 (+149)\n",
      "🔧 Augmenting label 26: 85 → 200 (+115)\n",
      "🔧 Augmenting label 27: 49 → 200 (+151)\n",
      "🔧 Augmenting label 28: 12 → 200 (+188)\n",
      "🔧 Augmenting label 29: 13 → 200 (+187)\n",
      "🔧 Augmenting label 30: 15 → 200 (+185)\n",
      "🔧 Augmenting label 31: 80 → 200 (+120)\n",
      "🔧 Augmenting label 32: 36 → 200 (+164)\n",
      "🔧 Augmenting label 33: 32 → 200 (+168)\n",
      "🔧 Augmenting label 34: 29 → 200 (+171)\n",
      "🔧 Augmenting label 35: 12 → 200 (+188)\n",
      "🔧 Augmenting label 36: 28 → 200 (+172)\n",
      "🔧 Augmenting label 37: 22 → 200 (+178)\n",
      "🔧 Augmenting label 38: 6 → 200 (+194)\n",
      "🔧 Augmenting label 39: 103 → 200 (+97)\n",
      "🔧 Augmenting label 40: 11 → 200 (+189)\n",
      "🔧 Augmenting label 41: 9 → 200 (+191)\n",
      "🔧 Augmenting label 42: 148 → 200 (+52)\n",
      "🔧 Augmenting label 43: 16 → 200 (+184)\n",
      "🔧 Augmenting label 44: 20 → 200 (+180)\n",
      "🔧 Augmenting label 45: 8 → 200 (+192)\n",
      "🔧 Augmenting label 46: 54 → 200 (+146)\n",
      "🔧 Augmenting label 49: 70 → 200 (+130)\n",
      "Label distribution after resampling:\n",
      "  label 0: 3179\n",
      "  label 1: 110\n",
      "  label 2: 200\n",
      "  label 3: 24\n",
      "  label 4: 206\n",
      "  label 5: 163\n",
      "  label 6: 198\n",
      "  label 7: 36\n",
      "  label 8: 84\n",
      "  label 9: 200\n",
      "  label 10: 117\n",
      "  label 11: 200\n",
      "  label 12: 200\n",
      "  label 13: 32\n",
      "  label 14: 24\n",
      "  label 15: 26\n",
      "  label 16: 60\n",
      "  label 17: 232\n",
      "  label 18: 129\n",
      "  label 19: 60\n",
      "  label 20: 52\n",
      "  label 21: 45\n",
      "  label 22: 129\n",
      "  label 23: 200\n",
      "  label 24: 73\n",
      "  label 25: 173\n",
      "  label 26: 121\n",
      "  label 27: 92\n",
      "  label 28: 50\n",
      "  label 29: 14\n",
      "  label 30: 86\n",
      "  label 31: 190\n",
      "  label 32: 45\n",
      "  label 33: 38\n",
      "  label 34: 32\n",
      "  label 35: 26\n",
      "  label 36: 81\n",
      "  label 37: 112\n",
      "  label 38: 18\n",
      "  label 39: 200\n",
      "  label 40: 40\n",
      "  label 41: 20\n",
      "  label 42: 200\n",
      "  label 43: 114\n",
      "  label 44: 34\n",
      "  label 45: 21\n",
      "  label 46: 140\n",
      "  label 47: 529\n",
      "  label 48: 201\n",
      "  label 49: 117\n",
      "model is bert-base-uncased\n"
     ]
    },
    {
     "name": "stderr",
     "output_type": "stream",
     "text": [
      "Some weights of BertForSequenceClassification were not initialized from the model checkpoint at bert-base-uncased and are newly initialized: ['classifier.bias', 'classifier.weight']\n",
      "You should probably TRAIN this model on a down-stream task to be able to use it for predictions and inference.\n"
     ]
    },
    {
     "name": "stdout",
     "output_type": "stream",
     "text": [
      "Epoch 1/20\n"
     ]
    },
    {
     "name": "stderr",
     "output_type": "stream",
     "text": [
      "100%|██████████| 543/543 [00:45<00:00, 11.93it/s]\n"
     ]
    },
    {
     "name": "stdout",
     "output_type": "stream",
     "text": [
      "{'val_loss': 1.5229607460633763, 'val_accuracy': 0.6043761088113542, 'precision': 0.5724612200787077, 'recall': 0.6043761088113542, 'f1-score': 0.5560761482446266, 'macro_f1-score': 0.17593755792490876, 'balanced_accuracy': 0.18957857198811903, 'mcc': 0.45594863365483757, 'train_loss': 2.2072036266326904}\n",
      "Epoch 2/20\n"
     ]
    },
    {
     "name": "stderr",
     "output_type": "stream",
     "text": [
      "100%|██████████| 543/543 [00:45<00:00, 11.93it/s]\n"
     ]
    },
    {
     "name": "stdout",
     "output_type": "stream",
     "text": [
      "{'val_loss': 1.3025195598602295, 'val_accuracy': 0.63571850975754, 'precision': 0.6095891117554415, 'recall': 0.63571850975754, 'f1-score': 0.6061558652756616, 'macro_f1-score': 0.2587178922484736, 'balanced_accuracy': 0.27796529959251864, 'mcc': 0.5091395908718077, 'train_loss': 1.5398217919342645}\n",
      "Epoch 3/20\n"
     ]
    },
    {
     "name": "stderr",
     "output_type": "stream",
     "text": [
      "100%|██████████| 543/543 [00:45<00:00, 11.93it/s]\n"
     ]
    },
    {
     "name": "stdout",
     "output_type": "stream",
     "text": [
      "{'val_loss': 1.2725624844150722, 'val_accuracy': 0.6451803666469544, 'precision': 0.6349970871146479, 'recall': 0.6451803666469544, 'f1-score': 0.6228602528332521, 'macro_f1-score': 0.30142357212429394, 'balanced_accuracy': 0.3209252602131956, 'mcc': 0.5288565775171657, 'train_loss': 1.2231871043340496}\n",
      "Epoch 4/20\n"
     ]
    },
    {
     "name": "stderr",
     "output_type": "stream",
     "text": [
      "100%|██████████| 543/543 [00:45<00:00, 11.95it/s]\n"
     ]
    },
    {
     "name": "stdout",
     "output_type": "stream",
     "text": [
      "{'val_loss': 1.2180631277414988, 'val_accuracy': 0.6747486694263749, 'precision': 0.6432778092206721, 'recall': 0.6747486694263749, 'f1-score': 0.6488630445198984, 'macro_f1-score': 0.3448477394781183, 'balanced_accuracy': 0.3586520254290888, 'mcc': 0.5607873989153785, 'train_loss': 1.021951480986444}\n",
      "Epoch 5/20\n"
     ]
    },
    {
     "name": "stderr",
     "output_type": "stream",
     "text": [
      "100%|██████████| 543/543 [00:45<00:00, 11.93it/s]\n"
     ]
    },
    {
     "name": "stdout",
     "output_type": "stream",
     "text": [
      "{'val_loss': 1.2051259398741543, 'val_accuracy': 0.6753400354819633, 'precision': 0.6643770282259936, 'recall': 0.6753400354819633, 'f1-score': 0.6609754259875047, 'macro_f1-score': 0.3663919427763731, 'balanced_accuracy': 0.36306484225978974, 'mcc': 0.5683334973729801, 'train_loss': 0.8531240130093765}\n",
      "Epoch 6/20\n"
     ]
    },
    {
     "name": "stderr",
     "output_type": "stream",
     "text": [
      "100%|██████████| 543/543 [00:45<00:00, 11.95it/s]\n"
     ]
    },
    {
     "name": "stdout",
     "output_type": "stream",
     "text": [
      "{'val_loss': 1.3028871836667915, 'val_accuracy': 0.6765227675931401, 'precision': 0.6757581988808655, 'recall': 0.6765227675931401, 'f1-score': 0.6643456117491507, 'macro_f1-score': 0.3946965945313702, 'balanced_accuracy': 0.3935084900374369, 'mcc': 0.5742594661370191, 'train_loss': 0.734685375641613}\n",
      "Epoch 7/20\n"
     ]
    },
    {
     "name": "stderr",
     "output_type": "stream",
     "text": [
      "100%|██████████| 543/543 [00:45<00:00, 11.93it/s]\n"
     ]
    },
    {
     "name": "stdout",
     "output_type": "stream",
     "text": [
      "{'val_loss': 1.4051713746673655, 'val_accuracy': 0.6487285629804849, 'precision': 0.6697297811846256, 'recall': 0.6487285629804849, 'f1-score': 0.6412950020745977, 'macro_f1-score': 0.4151438317301311, 'balanced_accuracy': 0.42680784026367574, 'mcc': 0.5416384151809892, 'train_loss': 0.672984541340647}\n",
      "Epoch 8/20\n"
     ]
    },
    {
     "name": "stderr",
     "output_type": "stream",
     "text": [
      "100%|██████████| 543/543 [00:45<00:00, 11.94it/s]\n"
     ]
    },
    {
     "name": "stdout",
     "output_type": "stream",
     "text": [
      "{'val_loss': 1.3616390084882952, 'val_accuracy': 0.6623299822590183, 'precision': 0.6614071644731202, 'recall': 0.6623299822590183, 'f1-score': 0.656701236226084, 'macro_f1-score': 0.4069207693915513, 'balanced_accuracy': 0.4229938008344818, 'mcc': 0.5568165491015434, 'train_loss': 0.6253739671702763}\n",
      "Epoch 9/20\n"
     ]
    },
    {
     "name": "stderr",
     "output_type": "stream",
     "text": [
      "100%|██████████| 543/543 [00:45<00:00, 11.94it/s]\n"
     ]
    },
    {
     "name": "stdout",
     "output_type": "stream",
     "text": [
      "{'val_loss': 1.4048272926571235, 'val_accuracy': 0.6481371969248965, 'precision': 0.6735900348603899, 'recall': 0.6481371969248965, 'f1-score': 0.6446798874747596, 'macro_f1-score': 0.38041474282946575, 'balanced_accuracy': 0.40031734142626, 'mcc': 0.5440062646553745, 'train_loss': 0.5989313093228454}\n",
      "Epoch 10/20\n"
     ]
    },
    {
     "name": "stderr",
     "output_type": "stream",
     "text": [
      "100%|██████████| 543/543 [00:45<00:00, 11.93it/s]\n"
     ]
    },
    {
     "name": "stdout",
     "output_type": "stream",
     "text": [
      "{'val_loss': 1.6496230068634141, 'val_accuracy': 0.6510940272028386, 'precision': 0.6490635103860593, 'recall': 0.6510940272028386, 'f1-score': 0.6246385248961102, 'macro_f1-score': 0.37720600352047684, 'balanced_accuracy': 0.3729451851389479, 'mcc': 0.5265367606683246, 'train_loss': 0.5700009853663146}\n",
      "Early stopping.\n",
      "\n",
      "[Fold 5]\n",
      "🚀 Using SBERT for data augmentation\n",
      "Using device: cuda\n",
      "CUDA Available: True\n",
      "CUDA Device: NVIDIA GeForce RTX 5070 Ti\n",
      "Current GPU Memory Allocated: 1.96 GB\n",
      "Current GPU Memory Cached: 3.24 GB\n",
      "Model device: cuda:0\n",
      "🔧 Augmenting label 1: 24 → 200 (+176)\n",
      "🔧 Augmenting label 2: 112 → 200 (+88)\n",
      "🔧 Augmenting label 3: 24 → 200 (+176)\n",
      "🔧 Augmenting label 5: 116 → 200 (+84)\n",
      "🔧 Augmenting label 6: 95 → 200 (+105)\n",
      "🔧 Augmenting label 7: 31 → 200 (+169)\n",
      "🔧 Augmenting label 8: 68 → 200 (+132)\n",
      "🔧 Augmenting label 9: 65 → 200 (+135)\n",
      "🔧 Augmenting label 10: 70 → 200 (+130)\n",
      "🔧 Augmenting label 11: 172 → 200 (+28)\n",
      "🔧 Augmenting label 12: 193 → 200 (+7)\n",
      "🔧 Augmenting label 13: 29 → 200 (+171)\n",
      "🔧 Augmenting label 14: 23 → 200 (+177)\n",
      "🔧 Augmenting label 15: 25 → 200 (+175)\n",
      "🔧 Augmenting label 16: 20 → 200 (+180)\n",
      "🔧 Augmenting label 18: 93 → 200 (+107)\n",
      "🔧 Augmenting label 19: 44 → 200 (+156)\n",
      "🔧 Augmenting label 20: 15 → 200 (+185)\n",
      "🔧 Augmenting label 21: 35 → 200 (+165)\n",
      "🔧 Augmenting label 22: 78 → 200 (+122)\n",
      "🔧 Augmenting label 23: 160 → 200 (+40)\n",
      "🔧 Augmenting label 24: 16 → 200 (+184)\n",
      "🔧 Augmenting label 25: 50 → 200 (+150)\n",
      "🔧 Augmenting label 26: 86 → 200 (+114)\n",
      "🔧 Augmenting label 27: 48 → 200 (+152)\n",
      "🔧 Augmenting label 28: 12 → 200 (+188)\n",
      "🔧 Augmenting label 29: 13 → 200 (+187)\n",
      "🔧 Augmenting label 30: 15 → 200 (+185)\n",
      "🔧 Augmenting label 31: 80 → 200 (+120)\n",
      "🔧 Augmenting label 32: 36 → 200 (+164)\n",
      "🔧 Augmenting label 33: 32 → 200 (+168)\n",
      "🔧 Augmenting label 34: 30 → 200 (+170)\n",
      "🔧 Augmenting label 35: 12 → 200 (+188)\n",
      "🔧 Augmenting label 36: 28 → 200 (+172)\n",
      "🔧 Augmenting label 37: 21 → 200 (+179)\n",
      "🔧 Augmenting label 38: 6 → 200 (+194)\n",
      "🔧 Augmenting label 39: 104 → 200 (+96)\n",
      "🔧 Augmenting label 40: 11 → 200 (+189)\n",
      "🔧 Augmenting label 41: 9 → 200 (+191)\n",
      "🔧 Augmenting label 42: 147 → 200 (+53)\n",
      "🔧 Augmenting label 43: 16 → 200 (+184)\n",
      "🔧 Augmenting label 44: 20 → 200 (+180)\n",
      "🔧 Augmenting label 45: 9 → 200 (+191)\n",
      "🔧 Augmenting label 46: 54 → 200 (+146)\n",
      "🔧 Augmenting label 49: 70 → 200 (+130)\n",
      "Label distribution after resampling:\n",
      "  label 0: 3180\n",
      "  label 1: 123\n",
      "  label 2: 200\n",
      "  label 3: 26\n",
      "  label 4: 205\n",
      "  label 5: 160\n",
      "  label 6: 163\n",
      "  label 7: 38\n",
      "  label 8: 83\n",
      "  label 9: 200\n",
      "  label 10: 104\n",
      "  label 11: 200\n",
      "  label 12: 200\n",
      "  label 13: 31\n",
      "  label 14: 23\n",
      "  label 15: 25\n",
      "  label 16: 59\n",
      "  label 17: 231\n",
      "  label 18: 115\n",
      "  label 19: 69\n",
      "  label 20: 45\n",
      "  label 21: 39\n",
      "  label 22: 120\n",
      "  label 23: 200\n",
      "  label 24: 69\n",
      "  label 25: 177\n",
      "  label 26: 137\n",
      "  label 27: 78\n",
      "  label 28: 40\n",
      "  label 29: 15\n",
      "  label 30: 83\n",
      "  label 31: 196\n",
      "  label 32: 46\n",
      "  label 33: 34\n",
      "  label 34: 35\n",
      "  label 35: 14\n",
      "  label 36: 98\n",
      "  label 37: 131\n",
      "  label 38: 27\n",
      "  label 39: 200\n",
      "  label 40: 42\n",
      "  label 41: 16\n",
      "  label 42: 200\n",
      "  label 43: 92\n",
      "  label 44: 31\n",
      "  label 45: 13\n",
      "  label 46: 92\n",
      "  label 47: 529\n",
      "  label 48: 202\n",
      "  label 49: 128\n",
      "model is bert-base-uncased\n"
     ]
    },
    {
     "name": "stderr",
     "output_type": "stream",
     "text": [
      "Some weights of BertForSequenceClassification were not initialized from the model checkpoint at bert-base-uncased and are newly initialized: ['classifier.bias', 'classifier.weight']\n",
      "You should probably TRAIN this model on a down-stream task to be able to use it for predictions and inference.\n"
     ]
    },
    {
     "name": "stdout",
     "output_type": "stream",
     "text": [
      "Epoch 1/20\n"
     ]
    },
    {
     "name": "stderr",
     "output_type": "stream",
     "text": [
      "100%|██████████| 536/536 [00:44<00:00, 11.93it/s]\n"
     ]
    },
    {
     "name": "stdout",
     "output_type": "stream",
     "text": [
      "{'val_loss': 1.5809661712286607, 'val_accuracy': 0.5994082840236686, 'precision': 0.4709791436921795, 'recall': 0.5994082840236686, 'f1-score': 0.5181070926302414, 'macro_f1-score': 0.15131007420327033, 'balanced_accuracy': 0.18038362649472264, 'mcc': 0.4378125405641969, 'train_loss': 2.2484461463876624}\n",
      "Epoch 2/20\n"
     ]
    },
    {
     "name": "stderr",
     "output_type": "stream",
     "text": [
      "100%|██████████| 536/536 [00:44<00:00, 11.95it/s]\n"
     ]
    },
    {
     "name": "stdout",
     "output_type": "stream",
     "text": [
      "{'val_loss': 1.4209110064888901, 'val_accuracy': 0.6142011834319526, 'precision': 0.5720224533666602, 'recall': 0.6142011834319526, 'f1-score': 0.5575268839073544, 'macro_f1-score': 0.18975048904184283, 'balanced_accuracy': 0.20855604186304377, 'mcc': 0.47079082010715556, 'train_loss': 1.5602104318008494}\n",
      "Epoch 3/20\n"
     ]
    },
    {
     "name": "stderr",
     "output_type": "stream",
     "text": [
      "100%|██████████| 536/536 [00:44<00:00, 11.95it/s]\n"
     ]
    },
    {
     "name": "stdout",
     "output_type": "stream",
     "text": [
      "{'val_loss': 1.3354181225569743, 'val_accuracy': 0.6254437869822486, 'precision': 0.6438368119501651, 'recall': 0.6254437869822486, 'f1-score': 0.6143793840590511, 'macro_f1-score': 0.26927851880061693, 'balanced_accuracy': 0.294177901337354, 'mcc': 0.5074504145472791, 'train_loss': 1.2443656546077622}\n",
      "Epoch 4/20\n"
     ]
    },
    {
     "name": "stderr",
     "output_type": "stream",
     "text": [
      "100%|██████████| 536/536 [00:44<00:00, 11.94it/s]\n"
     ]
    },
    {
     "name": "stdout",
     "output_type": "stream",
     "text": [
      "{'val_loss': 1.3274448173788358, 'val_accuracy': 0.6698224852071006, 'precision': 0.648399512612747, 'recall': 0.6698224852071006, 'f1-score': 0.6452976514922326, 'macro_f1-score': 0.3410267664316373, 'balanced_accuracy': 0.33823311596616734, 'mcc': 0.5582371417041583, 'train_loss': 1.0167041685320992}\n",
      "Epoch 5/20\n"
     ]
    },
    {
     "name": "stderr",
     "output_type": "stream",
     "text": [
      "100%|██████████| 536/536 [00:44<00:00, 11.94it/s]\n"
     ]
    },
    {
     "name": "stdout",
     "output_type": "stream",
     "text": [
      "{'val_loss': 1.4260537570939873, 'val_accuracy': 0.6319526627218935, 'precision': 0.6775205512272815, 'recall': 0.6319526627218935, 'f1-score': 0.6354546460141418, 'macro_f1-score': 0.33307475134615855, 'balanced_accuracy': 0.3475655332197834, 'mcc': 0.5318425668158071, 'train_loss': 0.8450800870447907}\n",
      "Epoch 6/20\n"
     ]
    },
    {
     "name": "stderr",
     "output_type": "stream",
     "text": [
      "100%|██████████| 536/536 [00:44<00:00, 11.93it/s]\n"
     ]
    },
    {
     "name": "stdout",
     "output_type": "stream",
     "text": [
      "{'val_loss': 1.3812284427431394, 'val_accuracy': 0.6662721893491125, 'precision': 0.6688303942322342, 'recall': 0.6662721893491125, 'f1-score': 0.6536812544827273, 'macro_f1-score': 0.3533115554935315, 'balanced_accuracy': 0.3559656385092208, 'mcc': 0.5571524769873956, 'train_loss': 0.7488637554056164}\n",
      "Epoch 7/20\n"
     ]
    },
    {
     "name": "stderr",
     "output_type": "stream",
     "text": [
      "100%|██████████| 536/536 [00:44<00:00, 11.94it/s]\n"
     ]
    },
    {
     "name": "stdout",
     "output_type": "stream",
     "text": [
      "{'val_loss': 1.4228643769363187, 'val_accuracy': 0.6609467455621302, 'precision': 0.6576909654608671, 'recall': 0.6609467455621302, 'f1-score': 0.6462911012552779, 'macro_f1-score': 0.3489263699636993, 'balanced_accuracy': 0.3484911491173851, 'mcc': 0.549259347617142, 'train_loss': 0.6733019682682995}\n",
      "Epoch 8/20\n"
     ]
    },
    {
     "name": "stderr",
     "output_type": "stream",
     "text": [
      "100%|██████████| 536/536 [00:44<00:00, 11.95it/s]\n"
     ]
    },
    {
     "name": "stdout",
     "output_type": "stream",
     "text": [
      "{'val_loss': 1.4249056125727464, 'val_accuracy': 0.6461538461538462, 'precision': 0.6354118742088395, 'recall': 0.6461538461538462, 'f1-score': 0.6326241402005505, 'macro_f1-score': 0.33856061506125384, 'balanced_accuracy': 0.3393634528115404, 'mcc': 0.5292307267706476, 'train_loss': 0.6239749457019923}\n",
      "Epoch 9/20\n"
     ]
    },
    {
     "name": "stderr",
     "output_type": "stream",
     "text": [
      "100%|██████████| 536/536 [00:44<00:00, 11.94it/s]\n"
     ]
    },
    {
     "name": "stdout",
     "output_type": "stream",
     "text": [
      "{'val_loss': 1.5023142197784387, 'val_accuracy': 0.6650887573964497, 'precision': 0.6780330500313034, 'recall': 0.6650887573964497, 'f1-score': 0.6535121546160124, 'macro_f1-score': 0.37079079575848006, 'balanced_accuracy': 0.37889717116133687, 'mcc': 0.5608474892256977, 'train_loss': 0.5810143176966639}\n",
      "Epoch 10/20\n"
     ]
    },
    {
     "name": "stderr",
     "output_type": "stream",
     "text": [
      "100%|██████████| 536/536 [00:44<00:00, 11.95it/s]\n"
     ]
    },
    {
     "name": "stdout",
     "output_type": "stream",
     "text": [
      "{'val_loss': 1.513159011332494, 'val_accuracy': 0.6550295857988165, 'precision': 0.6855574648191632, 'recall': 0.6550295857988165, 'f1-score': 0.651296842725345, 'macro_f1-score': 0.36437059565671126, 'balanced_accuracy': 0.37543937984759196, 'mcc': 0.543910745334657, 'train_loss': 0.558621479295639}\n",
      "Epoch 11/20\n"
     ]
    },
    {
     "name": "stderr",
     "output_type": "stream",
     "text": [
      "100%|██████████| 536/536 [00:44<00:00, 11.94it/s]\n"
     ]
    },
    {
     "name": "stdout",
     "output_type": "stream",
     "text": [
      "{'val_loss': 1.554913543867615, 'val_accuracy': 0.6195266272189349, 'precision': 0.689480809062946, 'recall': 0.6195266272189349, 'f1-score': 0.6298129448996749, 'macro_f1-score': 0.36461716044789627, 'balanced_accuracy': 0.40262577879139066, 'mcc': 0.5141809328862391, 'train_loss': 0.5549308307079682}\n",
      "Epoch 12/20\n"
     ]
    },
    {
     "name": "stderr",
     "output_type": "stream",
     "text": [
      "100%|██████████| 536/536 [00:44<00:00, 11.94it/s]\n"
     ]
    },
    {
     "name": "stdout",
     "output_type": "stream",
     "text": [
      "{'val_loss': 1.582487144841338, 'val_accuracy': 0.6544378698224852, 'precision': 0.6549363570911898, 'recall': 0.6544378698224852, 'f1-score': 0.6427947716290449, 'macro_f1-score': 0.37571055063703596, 'balanced_accuracy': 0.39345453156680193, 'mcc': 0.5429960770924378, 'train_loss': 0.5363678072315099}\n",
      "Epoch 13/20\n"
     ]
    },
    {
     "name": "stderr",
     "output_type": "stream",
     "text": [
      "100%|██████████| 536/536 [00:44<00:00, 11.94it/s]\n"
     ]
    },
    {
     "name": "stdout",
     "output_type": "stream",
     "text": [
      "{'val_loss': 1.5923745134529077, 'val_accuracy': 0.6674556213017752, 'precision': 0.6736211215229373, 'recall': 0.6674556213017752, 'f1-score': 0.6549518910455782, 'macro_f1-score': 0.37112991700329073, 'balanced_accuracy': 0.35894802837109757, 'mcc': 0.5553427186970776, 'train_loss': 0.5317170021624597}\n",
      "Epoch 14/20\n"
     ]
    },
    {
     "name": "stderr",
     "output_type": "stream",
     "text": [
      "100%|██████████| 536/536 [00:44<00:00, 11.93it/s]\n"
     ]
    },
    {
     "name": "stdout",
     "output_type": "stream",
     "text": [
      "{'val_loss': 1.6273085636631497, 'val_accuracy': 0.6384615384615384, 'precision': 0.6554856857355075, 'recall': 0.6384615384615384, 'f1-score': 0.6389383080546406, 'macro_f1-score': 0.3474385208891397, 'balanced_accuracy': 0.37340813166264925, 'mcc': 0.5336553735259407, 'train_loss': 0.5164778581820428}\n",
      "Epoch 15/20\n"
     ]
    },
    {
     "name": "stderr",
     "output_type": "stream",
     "text": [
      "100%|██████████| 536/536 [00:44<00:00, 11.95it/s]\n"
     ]
    },
    {
     "name": "stdout",
     "output_type": "stream",
     "text": [
      "{'val_loss': 1.638540728474563, 'val_accuracy': 0.6272189349112426, 'precision': 0.6625882490171477, 'recall': 0.6272189349112426, 'f1-score': 0.6258299859991081, 'macro_f1-score': 0.3467840876898526, 'balanced_accuracy': 0.3522240277953, 'mcc': 0.5089687227589087, 'train_loss': 0.5316485079881081}\n",
      "Early stopping.\n",
      "\n",
      " === bert-base-uncased + plain + sbert Final 5-fold Cross-Validation Results ===\n",
      "Total time: 11951 seconds\n",
      "Total time: 3 hrs 19 mins 11 secs\n",
      "val_loss: 1.5235\n",
      "val_accuracy: 0.6506\n",
      "precision: 0.6689\n",
      "recall: 0.6506\n",
      "f1-score: 0.6451\n",
      "macro_f1-score: 0.3991\n",
      "balanced_accuracy: 0.4100\n",
      "mcc: 0.5409\n",
      "train_loss: 0.6010\n",
      "▶ Running: bert-base-uncased + lstm + sbert\n",
      "tokenizer is bert-base-uncased\n",
      "Using device: cuda\n",
      "CUDA Available: True\n",
      "CUDA Device: NVIDIA GeForce RTX 5070 Ti\n",
      "Current GPU Memory Allocated: 0.11 GB\n",
      "Current GPU Memory Cached: 3.24 GB\n",
      "\n",
      "[Fold 1]\n",
      "🚀 Using SBERT for data augmentation\n",
      "Using device: cuda\n",
      "CUDA Available: True\n",
      "CUDA Device: NVIDIA GeForce RTX 5070 Ti\n",
      "Current GPU Memory Allocated: 0.20 GB\n",
      "Current GPU Memory Cached: 3.24 GB\n",
      "Model device: cuda:0\n",
      "🔧 Augmenting label 1: 25 → 200 (+175)\n",
      "🔧 Augmenting label 2: 112 → 200 (+88)\n",
      "🔧 Augmenting label 3: 24 → 200 (+176)\n",
      "🔧 Augmenting label 5: 116 → 200 (+84)\n",
      "🔧 Augmenting label 6: 95 → 200 (+105)\n",
      "🔧 Augmenting label 7: 31 → 200 (+169)\n",
      "🔧 Augmenting label 8: 68 → 200 (+132)\n",
      "🔧 Augmenting label 9: 65 → 200 (+135)\n",
      "🔧 Augmenting label 10: 70 → 200 (+130)\n",
      "🔧 Augmenting label 11: 172 → 200 (+28)\n",
      "🔧 Augmenting label 12: 193 → 200 (+7)\n",
      "🔧 Augmenting label 13: 29 → 200 (+171)\n",
      "🔧 Augmenting label 14: 23 → 200 (+177)\n",
      "🔧 Augmenting label 15: 25 → 200 (+175)\n",
      "🔧 Augmenting label 16: 20 → 200 (+180)\n",
      "🔧 Augmenting label 18: 93 → 200 (+107)\n",
      "🔧 Augmenting label 19: 45 → 200 (+155)\n",
      "🔧 Augmenting label 20: 14 → 200 (+186)\n",
      "🔧 Augmenting label 21: 35 → 200 (+165)\n",
      "🔧 Augmenting label 22: 78 → 200 (+122)\n",
      "🔧 Augmenting label 23: 160 → 200 (+40)\n",
      "🔧 Augmenting label 24: 16 → 200 (+184)\n",
      "🔧 Augmenting label 25: 50 → 200 (+150)\n",
      "🔧 Augmenting label 26: 86 → 200 (+114)\n",
      "🔧 Augmenting label 27: 49 → 200 (+151)\n",
      "🔧 Augmenting label 28: 12 → 200 (+188)\n",
      "🔧 Augmenting label 29: 13 → 200 (+187)\n",
      "🔧 Augmenting label 30: 15 → 200 (+185)\n",
      "🔧 Augmenting label 31: 80 → 200 (+120)\n",
      "🔧 Augmenting label 32: 36 → 200 (+164)\n",
      "🔧 Augmenting label 33: 32 → 200 (+168)\n",
      "🔧 Augmenting label 34: 30 → 200 (+170)\n",
      "🔧 Augmenting label 35: 12 → 200 (+188)\n",
      "🔧 Augmenting label 36: 28 → 200 (+172)\n",
      "🔧 Augmenting label 37: 21 → 200 (+179)\n",
      "🔧 Augmenting label 38: 6 → 200 (+194)\n",
      "🔧 Augmenting label 39: 103 → 200 (+97)\n",
      "🔧 Augmenting label 40: 12 → 200 (+188)\n",
      "🔧 Augmenting label 41: 8 → 200 (+192)\n",
      "🔧 Augmenting label 42: 147 → 200 (+53)\n",
      "🔧 Augmenting label 43: 16 → 200 (+184)\n",
      "🔧 Augmenting label 44: 20 → 200 (+180)\n",
      "🔧 Augmenting label 45: 9 → 200 (+191)\n",
      "🔧 Augmenting label 46: 54 → 200 (+146)\n",
      "🔧 Augmenting label 49: 69 → 200 (+131)\n",
      "Label distribution after resampling:\n",
      "  label 0: 3179\n",
      "  label 1: 105\n",
      "  label 2: 200\n",
      "  label 3: 26\n",
      "  label 4: 205\n",
      "  label 5: 164\n",
      "  label 6: 163\n",
      "  label 7: 38\n",
      "  label 8: 74\n",
      "  label 9: 200\n",
      "  label 10: 117\n",
      "  label 11: 200\n",
      "  label 12: 200\n",
      "  label 13: 33\n",
      "  label 14: 23\n",
      "  label 15: 28\n",
      "  label 16: 67\n",
      "  label 17: 231\n",
      "  label 18: 116\n",
      "  label 19: 74\n",
      "  label 20: 42\n",
      "  label 21: 45\n",
      "  label 22: 106\n",
      "  label 23: 200\n",
      "  label 24: 59\n",
      "  label 25: 145\n",
      "  label 26: 123\n",
      "  label 27: 87\n",
      "  label 28: 44\n",
      "  label 29: 16\n",
      "  label 30: 82\n",
      "  label 31: 185\n",
      "  label 32: 44\n",
      "  label 33: 39\n",
      "  label 34: 33\n",
      "  label 35: 22\n",
      "  label 36: 120\n",
      "  label 37: 120\n",
      "  label 38: 24\n",
      "  label 39: 200\n",
      "  label 40: 33\n",
      "  label 41: 24\n",
      "  label 42: 200\n",
      "  label 43: 113\n",
      "  label 44: 33\n",
      "  label 45: 16\n",
      "  label 46: 138\n",
      "  label 47: 529\n",
      "  label 48: 202\n",
      "  label 49: 111\n",
      "model is bert-base-uncased lstm\n",
      "Epoch 1/20\n"
     ]
    },
    {
     "name": "stderr",
     "output_type": "stream",
     "text": [
      "100%|██████████| 537/537 [00:47<00:00, 11.22it/s]\n"
     ]
    },
    {
     "name": "stdout",
     "output_type": "stream",
     "text": [
      "{'val_loss': 1.7239681645384375, 'val_accuracy': 0.5724423418095801, 'precision': 0.4230650567781797, 'recall': 0.5724423418095801, 'f1-score': 0.4800873132374309, 'macro_f1-score': 0.09970756217579763, 'balanced_accuracy': 0.1237602001600273, 'mcc': 0.3915436042896074, 'train_loss': 2.301684772724102}\n",
      "Epoch 2/20\n"
     ]
    },
    {
     "name": "stderr",
     "output_type": "stream",
     "text": [
      "100%|██████████| 537/537 [00:47<00:00, 11.19it/s]\n"
     ]
    },
    {
     "name": "stdout",
     "output_type": "stream",
     "text": [
      "{'val_loss': 1.5629457375913296, 'val_accuracy': 0.602602010644589, 'precision': 0.5419535142253038, 'recall': 0.602602010644589, 'f1-score': 0.5543640219928592, 'macro_f1-score': 0.19139642321999742, 'balanced_accuracy': 0.21995166932075946, 'mcc': 0.46293206719473123, 'train_loss': 1.7385904956296836}\n",
      "Epoch 3/20\n"
     ]
    },
    {
     "name": "stderr",
     "output_type": "stream",
     "text": [
      "100%|██████████| 537/537 [00:47<00:00, 11.22it/s]\n"
     ]
    },
    {
     "name": "stdout",
     "output_type": "stream",
     "text": [
      "{'val_loss': 1.5060300500887744, 'val_accuracy': 0.6061502069781195, 'precision': 0.5864076738783904, 'recall': 0.6061502069781195, 'f1-score': 0.5841080910468286, 'macro_f1-score': 0.2392027423201989, 'balanced_accuracy': 0.2711492645024319, 'mcc': 0.4796645640689173, 'train_loss': 1.4960701366265614}\n",
      "Epoch 4/20\n"
     ]
    },
    {
     "name": "stderr",
     "output_type": "stream",
     "text": [
      "100%|██████████| 537/537 [00:47<00:00, 11.23it/s]\n"
     ]
    },
    {
     "name": "stdout",
     "output_type": "stream",
     "text": [
      "{'val_loss': 1.425570990117091, 'val_accuracy': 0.6079243051448847, 'precision': 0.590504854785158, 'recall': 0.6079243051448847, 'f1-score': 0.5830582011005964, 'macro_f1-score': 0.25501228329602105, 'balanced_accuracy': 0.28057636315542944, 'mcc': 0.4784370473888903, 'train_loss': 1.3484527709541818}\n",
      "Epoch 5/20\n"
     ]
    },
    {
     "name": "stderr",
     "output_type": "stream",
     "text": [
      "100%|██████████| 537/537 [00:47<00:00, 11.21it/s]\n"
     ]
    },
    {
     "name": "stdout",
     "output_type": "stream",
     "text": [
      "{'val_loss': 1.4238879323567983, 'val_accuracy': 0.6327616794795978, 'precision': 0.5996395848193341, 'recall': 0.6327616794795978, 'f1-score': 0.598949730662969, 'macro_f1-score': 0.2794850671507259, 'balanced_accuracy': 0.28258889165275786, 'mcc': 0.4993429770792166, 'train_loss': 1.1836813458517277}\n",
      "Epoch 6/20\n"
     ]
    },
    {
     "name": "stderr",
     "output_type": "stream",
     "text": [
      "100%|██████████| 537/537 [00:47<00:00, 11.23it/s]\n"
     ]
    },
    {
     "name": "stdout",
     "output_type": "stream",
     "text": [
      "{'val_loss': 1.4102426539614517, 'val_accuracy': 0.6398580721466588, 'precision': 0.6290990224119544, 'recall': 0.6398580721466588, 'f1-score': 0.6201152517700673, 'macro_f1-score': 0.3207173298592357, 'balanced_accuracy': 0.3111200405951365, 'mcc': 0.5163354227757703, 'train_loss': 1.0543837887920038}\n",
      "Epoch 7/20\n"
     ]
    },
    {
     "name": "stderr",
     "output_type": "stream",
     "text": [
      "100%|██████████| 537/537 [00:47<00:00, 11.20it/s]\n"
     ]
    },
    {
     "name": "stdout",
     "output_type": "stream",
     "text": [
      "{'val_loss': 1.4346473610626076, 'val_accuracy': 0.6439976345357776, 'precision': 0.6425792510400601, 'recall': 0.6439976345357776, 'f1-score': 0.6322558297715111, 'macro_f1-score': 0.3273228419378327, 'balanced_accuracy': 0.3488494863629464, 'mcc': 0.5321127507638115, 'train_loss': 0.9860305619084413}\n",
      "Epoch 8/20\n"
     ]
    },
    {
     "name": "stderr",
     "output_type": "stream",
     "text": [
      "100%|██████████| 537/537 [00:47<00:00, 11.23it/s]\n"
     ]
    },
    {
     "name": "stdout",
     "output_type": "stream",
     "text": [
      "{'val_loss': 1.4126112714128674, 'val_accuracy': 0.6374926079243052, 'precision': 0.6327025469097249, 'recall': 0.6374926079243052, 'f1-score': 0.6235697288465651, 'macro_f1-score': 0.3215199452130168, 'balanced_accuracy': 0.3271747174996042, 'mcc': 0.5170883234854502, 'train_loss': 0.8925408629398772}\n",
      "Epoch 9/20\n"
     ]
    },
    {
     "name": "stderr",
     "output_type": "stream",
     "text": [
      "100%|██████████| 537/537 [00:48<00:00, 11.17it/s]\n"
     ]
    },
    {
     "name": "stdout",
     "output_type": "stream",
     "text": [
      "{'val_loss': 1.4968552263277881, 'val_accuracy': 0.654642223536369, 'precision': 0.6200930155334329, 'recall': 0.654642223536369, 'f1-score': 0.6257551614761933, 'macro_f1-score': 0.3222769418090427, 'balanced_accuracy': 0.30680756596785247, 'mcc': 0.5275170006198314, 'train_loss': 0.844252737141882}\n",
      "Epoch 10/20\n"
     ]
    },
    {
     "name": "stderr",
     "output_type": "stream",
     "text": [
      "100%|██████████| 537/537 [00:47<00:00, 11.22it/s]\n"
     ]
    },
    {
     "name": "stdout",
     "output_type": "stream",
     "text": [
      "{'val_loss': 1.4383609795345451, 'val_accuracy': 0.6333530455351862, 'precision': 0.6366824763938747, 'recall': 0.6333530455351862, 'f1-score': 0.6244928157800937, 'macro_f1-score': 0.3603837491739322, 'balanced_accuracy': 0.37890381614734936, 'mcc': 0.5139800568117283, 'train_loss': 0.7899128376494129}\n",
      "Epoch 11/20\n"
     ]
    },
    {
     "name": "stderr",
     "output_type": "stream",
     "text": [
      "100%|██████████| 537/537 [00:47<00:00, 11.22it/s]\n"
     ]
    },
    {
     "name": "stdout",
     "output_type": "stream",
     "text": [
      "{'val_loss': 1.4922054412792314, 'val_accuracy': 0.6392667060910704, 'precision': 0.6516122946432229, 'recall': 0.6392667060910704, 'f1-score': 0.6370480635612215, 'macro_f1-score': 0.3724923687724353, 'balanced_accuracy': 0.38979244398980883, 'mcc': 0.5277938412677834, 'train_loss': 0.7243698661803534}\n",
      "Epoch 12/20\n"
     ]
    },
    {
     "name": "stderr",
     "output_type": "stream",
     "text": [
      "100%|██████████| 537/537 [00:47<00:00, 11.19it/s]\n"
     ]
    },
    {
     "name": "stdout",
     "output_type": "stream",
     "text": [
      "{'val_loss': 1.5273077232095431, 'val_accuracy': 0.644589000591366, 'precision': 0.64067458761756, 'recall': 0.644589000591366, 'f1-score': 0.627238693213438, 'macro_f1-score': 0.3506480533976811, 'balanced_accuracy': 0.3581370557630097, 'mcc': 0.5275591577047698, 'train_loss': 0.703758348813159}\n",
      "Epoch 13/20\n"
     ]
    },
    {
     "name": "stderr",
     "output_type": "stream",
     "text": [
      "100%|██████████| 537/537 [00:47<00:00, 11.23it/s]\n"
     ]
    },
    {
     "name": "stdout",
     "output_type": "stream",
     "text": [
      "{'val_loss': 1.5472427033028513, 'val_accuracy': 0.6422235363690124, 'precision': 0.6638124293817691, 'recall': 0.6422235363690124, 'f1-score': 0.6344931640442577, 'macro_f1-score': 0.3981200497219675, 'balanced_accuracy': 0.40362731771184285, 'mcc': 0.5324422737977854, 'train_loss': 0.6813624126063157}\n",
      "Epoch 14/20\n"
     ]
    },
    {
     "name": "stderr",
     "output_type": "stream",
     "text": [
      "100%|██████████| 537/537 [00:47<00:00, 11.20it/s]\n"
     ]
    },
    {
     "name": "stdout",
     "output_type": "stream",
     "text": [
      "{'val_loss': 1.5488402750694528, 'val_accuracy': 0.6540508574807806, 'precision': 0.6508152254259281, 'recall': 0.6540508574807806, 'f1-score': 0.6423088507553595, 'macro_f1-score': 0.3876070408344083, 'balanced_accuracy': 0.38977589822686076, 'mcc': 0.5402815234221796, 'train_loss': 0.6650167487187093}\n",
      "Epoch 15/20\n"
     ]
    },
    {
     "name": "stderr",
     "output_type": "stream",
     "text": [
      "100%|██████████| 537/537 [00:47<00:00, 11.23it/s]\n"
     ]
    },
    {
     "name": "stdout",
     "output_type": "stream",
     "text": [
      "{'val_loss': 1.5586817034010618, 'val_accuracy': 0.6309875813128326, 'precision': 0.640001490763635, 'recall': 0.6309875813128326, 'f1-score': 0.6221872009309563, 'macro_f1-score': 0.3789656375013839, 'balanced_accuracy': 0.38117558194316276, 'mcc': 0.5097872381424728, 'train_loss': 0.6343430826506358}\n",
      "Epoch 16/20\n"
     ]
    },
    {
     "name": "stderr",
     "output_type": "stream",
     "text": [
      "100%|██████████| 537/537 [00:48<00:00, 11.17it/s]\n"
     ]
    },
    {
     "name": "stdout",
     "output_type": "stream",
     "text": [
      "{'val_loss': 1.6454186332675647, 'val_accuracy': 0.6162034299231224, 'precision': 0.6550853748214422, 'recall': 0.6162034299231224, 'f1-score': 0.6175096865455051, 'macro_f1-score': 0.3897702848646661, 'balanced_accuracy': 0.4313794495941073, 'mcc': 0.5089666746792634, 'train_loss': 0.6236298397682899}\n",
      "Early stopping.\n",
      "\n",
      "[Fold 2]\n",
      "🚀 Using SBERT for data augmentation\n",
      "Using device: cuda\n",
      "CUDA Available: True\n",
      "CUDA Device: NVIDIA GeForce RTX 5070 Ti\n",
      "Current GPU Memory Allocated: 1.98 GB\n",
      "Current GPU Memory Cached: 3.24 GB\n",
      "Model device: cuda:0\n",
      "🔧 Augmenting label 1: 25 → 200 (+175)\n",
      "🔧 Augmenting label 2: 112 → 200 (+88)\n",
      "🔧 Augmenting label 3: 24 → 200 (+176)\n",
      "🔧 Augmenting label 5: 116 → 200 (+84)\n",
      "🔧 Augmenting label 6: 94 → 200 (+106)\n",
      "🔧 Augmenting label 7: 31 → 200 (+169)\n",
      "🔧 Augmenting label 8: 68 → 200 (+132)\n",
      "🔧 Augmenting label 9: 65 → 200 (+135)\n",
      "🔧 Augmenting label 10: 70 → 200 (+130)\n",
      "🔧 Augmenting label 11: 172 → 200 (+28)\n",
      "🔧 Augmenting label 12: 193 → 200 (+7)\n",
      "🔧 Augmenting label 13: 29 → 200 (+171)\n",
      "🔧 Augmenting label 14: 23 → 200 (+177)\n",
      "🔧 Augmenting label 15: 25 → 200 (+175)\n",
      "🔧 Augmenting label 16: 20 → 200 (+180)\n",
      "🔧 Augmenting label 18: 93 → 200 (+107)\n",
      "🔧 Augmenting label 19: 45 → 200 (+155)\n",
      "🔧 Augmenting label 20: 14 → 200 (+186)\n",
      "🔧 Augmenting label 21: 35 → 200 (+165)\n",
      "🔧 Augmenting label 22: 78 → 200 (+122)\n",
      "🔧 Augmenting label 23: 160 → 200 (+40)\n",
      "🔧 Augmenting label 24: 16 → 200 (+184)\n",
      "🔧 Augmenting label 25: 50 → 200 (+150)\n",
      "🔧 Augmenting label 26: 86 → 200 (+114)\n",
      "🔧 Augmenting label 27: 49 → 200 (+151)\n",
      "🔧 Augmenting label 28: 12 → 200 (+188)\n",
      "🔧 Augmenting label 29: 13 → 200 (+187)\n",
      "🔧 Augmenting label 30: 15 → 200 (+185)\n",
      "🔧 Augmenting label 31: 80 → 200 (+120)\n",
      "🔧 Augmenting label 32: 36 → 200 (+164)\n",
      "🔧 Augmenting label 33: 32 → 200 (+168)\n",
      "🔧 Augmenting label 34: 30 → 200 (+170)\n",
      "🔧 Augmenting label 35: 12 → 200 (+188)\n",
      "🔧 Augmenting label 36: 28 → 200 (+172)\n",
      "🔧 Augmenting label 37: 22 → 200 (+178)\n",
      "🔧 Augmenting label 38: 5 → 200 (+195)\n",
      "🔧 Augmenting label 39: 103 → 200 (+97)\n",
      "🔧 Augmenting label 40: 11 → 200 (+189)\n",
      "🔧 Augmenting label 41: 9 → 200 (+191)\n",
      "🔧 Augmenting label 42: 147 → 200 (+53)\n",
      "🔧 Augmenting label 43: 16 → 200 (+184)\n",
      "🔧 Augmenting label 44: 20 → 200 (+180)\n",
      "🔧 Augmenting label 45: 9 → 200 (+191)\n",
      "🔧 Augmenting label 46: 55 → 200 (+145)\n",
      "🔧 Augmenting label 49: 69 → 200 (+131)\n",
      "Label distribution after resampling:\n",
      "  label 0: 3179\n",
      "  label 1: 119\n",
      "  label 2: 200\n",
      "  label 3: 25\n",
      "  label 4: 206\n",
      "  label 5: 144\n",
      "  label 6: 177\n",
      "  label 7: 35\n",
      "  label 8: 80\n",
      "  label 9: 200\n",
      "  label 10: 95\n",
      "  label 11: 200\n",
      "  label 12: 200\n",
      "  label 13: 33\n",
      "  label 14: 23\n",
      "  label 15: 28\n",
      "  label 16: 69\n",
      "  label 17: 231\n",
      "  label 18: 117\n",
      "  label 19: 70\n",
      "  label 20: 52\n",
      "  label 21: 41\n",
      "  label 22: 130\n",
      "  label 23: 200\n",
      "  label 24: 60\n",
      "  label 25: 160\n",
      "  label 26: 122\n",
      "  label 27: 93\n",
      "  label 28: 29\n",
      "  label 29: 13\n",
      "  label 30: 79\n",
      "  label 31: 174\n",
      "  label 32: 37\n",
      "  label 33: 38\n",
      "  label 34: 31\n",
      "  label 35: 24\n",
      "  label 36: 95\n",
      "  label 37: 116\n",
      "  label 38: 23\n",
      "  label 39: 200\n",
      "  label 40: 32\n",
      "  label 41: 24\n",
      "  label 42: 200\n",
      "  label 43: 129\n",
      "  label 44: 30\n",
      "  label 45: 20\n",
      "  label 46: 111\n",
      "  label 47: 528\n",
      "  label 48: 202\n",
      "  label 49: 109\n",
      "model is bert-base-uncased lstm\n",
      "Epoch 1/20\n"
     ]
    },
    {
     "name": "stderr",
     "output_type": "stream",
     "text": [
      "100%|██████████| 534/534 [00:47<00:00, 11.21it/s]\n"
     ]
    },
    {
     "name": "stdout",
     "output_type": "stream",
     "text": [
      "{'val_loss': 1.6101611903253592, 'val_accuracy': 0.6167947959787108, 'precision': 0.5032058700107732, 'recall': 0.6167947959787108, 'f1-score': 0.5276458866662131, 'macro_f1-score': 0.1503302370425638, 'balanced_accuracy': 0.16992645286783947, 'mcc': 0.46092415180206536, 'train_loss': 2.2922067770573977}\n",
      "Epoch 2/20\n"
     ]
    },
    {
     "name": "stderr",
     "output_type": "stream",
     "text": [
      "100%|██████████| 534/534 [00:47<00:00, 11.22it/s]\n"
     ]
    },
    {
     "name": "stdout",
     "output_type": "stream",
     "text": [
      "{'val_loss': 1.4945088433769513, 'val_accuracy': 0.6280307510348906, 'precision': 0.5455267316849484, 'recall': 0.6280307510348906, 'f1-score': 0.5684614815487378, 'macro_f1-score': 0.24026588891425973, 'balanced_accuracy': 0.24066240485460308, 'mcc': 0.4795577332784627, 'train_loss': 1.699865632400977}\n",
      "Epoch 3/20\n"
     ]
    },
    {
     "name": "stderr",
     "output_type": "stream",
     "text": [
      "100%|██████████| 534/534 [00:47<00:00, 11.20it/s]\n"
     ]
    },
    {
     "name": "stdout",
     "output_type": "stream",
     "text": [
      "{'val_loss': 1.4036063984879907, 'val_accuracy': 0.6510940272028386, 'precision': 0.6098903983219611, 'recall': 0.6510940272028386, 'f1-score': 0.6032588557901309, 'macro_f1-score': 0.27511344664876314, 'balanced_accuracy': 0.2815106125667167, 'mcc': 0.520965319999439, 'train_loss': 1.4472386415085097}\n",
      "Epoch 4/20\n"
     ]
    },
    {
     "name": "stderr",
     "output_type": "stream",
     "text": [
      "100%|██████████| 534/534 [00:47<00:00, 11.23it/s]\n"
     ]
    },
    {
     "name": "stdout",
     "output_type": "stream",
     "text": [
      "{'val_loss': 1.3978179518906575, 'val_accuracy': 0.6309875813128326, 'precision': 0.6158004467569119, 'recall': 0.6309875813128326, 'f1-score': 0.6045125043497979, 'macro_f1-score': 0.2780681991621636, 'balanced_accuracy': 0.2996530119446686, 'mcc': 0.5060734527826244, 'train_loss': 1.2643486356244105}\n",
      "Epoch 5/20\n"
     ]
    },
    {
     "name": "stderr",
     "output_type": "stream",
     "text": [
      "100%|██████████| 534/534 [00:47<00:00, 11.20it/s]\n"
     ]
    },
    {
     "name": "stdout",
     "output_type": "stream",
     "text": [
      "{'val_loss': 1.4089798308768362, 'val_accuracy': 0.6434062684801892, 'precision': 0.6157485319330736, 'recall': 0.6434062684801892, 'f1-score': 0.6211383974465238, 'macro_f1-score': 0.3083000052027801, 'balanced_accuracy': 0.3326144663592754, 'mcc': 0.5270218344950593, 'train_loss': 1.1314894191725424}\n",
      "Epoch 6/20\n"
     ]
    },
    {
     "name": "stderr",
     "output_type": "stream",
     "text": [
      "100%|██████████| 534/534 [00:47<00:00, 11.23it/s]\n"
     ]
    },
    {
     "name": "stdout",
     "output_type": "stream",
     "text": [
      "{'val_loss': 1.397499032318592, 'val_accuracy': 0.6493199290360734, 'precision': 0.6242259006514226, 'recall': 0.6493199290360734, 'f1-score': 0.6258153421810357, 'macro_f1-score': 0.3104097573079783, 'balanced_accuracy': 0.3341133310413559, 'mcc': 0.5313660594061317, 'train_loss': 1.036606091126967}\n",
      "Epoch 7/20\n"
     ]
    },
    {
     "name": "stderr",
     "output_type": "stream",
     "text": [
      "100%|██████████| 534/534 [00:47<00:00, 11.18it/s]\n"
     ]
    },
    {
     "name": "stdout",
     "output_type": "stream",
     "text": [
      "{'val_loss': 1.4055688288414254, 'val_accuracy': 0.6439976345357776, 'precision': 0.6424348742257292, 'recall': 0.6439976345357776, 'f1-score': 0.6288538122113742, 'macro_f1-score': 0.32097212513147455, 'balanced_accuracy': 0.3500439686335819, 'mcc': 0.5285721341861129, 'train_loss': 0.951949331030417}\n",
      "Epoch 8/20\n"
     ]
    },
    {
     "name": "stderr",
     "output_type": "stream",
     "text": [
      "100%|██████████| 534/534 [00:47<00:00, 11.22it/s]\n"
     ]
    },
    {
     "name": "stdout",
     "output_type": "stream",
     "text": [
      "{'val_loss': 1.4430853772275853, 'val_accuracy': 0.6505026611472502, 'precision': 0.6272134874661343, 'recall': 0.6505026611472502, 'f1-score': 0.6267283948005449, 'macro_f1-score': 0.33560631614113967, 'balanced_accuracy': 0.3468866003227753, 'mcc': 0.5311290753323108, 'train_loss': 0.9027633864000049}\n",
      "Epoch 9/20\n"
     ]
    },
    {
     "name": "stderr",
     "output_type": "stream",
     "text": [
      "100%|██████████| 534/534 [00:47<00:00, 11.23it/s]\n"
     ]
    },
    {
     "name": "stdout",
     "output_type": "stream",
     "text": [
      "{'val_loss': 1.4793124960840873, 'val_accuracy': 0.654642223536369, 'precision': 0.6380795681954403, 'recall': 0.654642223536369, 'f1-score': 0.6319328439767349, 'macro_f1-score': 0.35437584817597534, 'balanced_accuracy': 0.35711355572318426, 'mcc': 0.5339270325448792, 'train_loss': 0.8338360252619236}\n",
      "Epoch 10/20\n"
     ]
    },
    {
     "name": "stderr",
     "output_type": "stream",
     "text": [
      "100%|██████████| 534/534 [00:47<00:00, 11.20it/s]\n"
     ]
    },
    {
     "name": "stdout",
     "output_type": "stream",
     "text": [
      "{'val_loss': 1.4755002940600772, 'val_accuracy': 0.6499112950916618, 'precision': 0.6657290152187907, 'recall': 0.6499112950916618, 'f1-score': 0.6420294407175127, 'macro_f1-score': 0.3773546629637965, 'balanced_accuracy': 0.4112091511483414, 'mcc': 0.540426300576848, 'train_loss': 0.7816273812274361}\n",
      "Epoch 11/20\n"
     ]
    },
    {
     "name": "stderr",
     "output_type": "stream",
     "text": [
      "100%|██████████| 534/534 [00:47<00:00, 11.24it/s]\n"
     ]
    },
    {
     "name": "stdout",
     "output_type": "stream",
     "text": [
      "{'val_loss': 1.5004608217837676, 'val_accuracy': 0.6404494382022472, 'precision': 0.6387836649817319, 'recall': 0.6404494382022472, 'f1-score': 0.6276614015675979, 'macro_f1-score': 0.37804572657893215, 'balanced_accuracy': 0.4144106874395246, 'mcc': 0.5234108197698795, 'train_loss': 0.7258871526139953}\n",
      "Epoch 12/20\n"
     ]
    },
    {
     "name": "stderr",
     "output_type": "stream",
     "text": [
      "100%|██████████| 534/534 [00:47<00:00, 11.21it/s]\n"
     ]
    },
    {
     "name": "stdout",
     "output_type": "stream",
     "text": [
      "{'val_loss': 1.5128967253104695, 'val_accuracy': 0.6558249556475458, 'precision': 0.6564811339550009, 'recall': 0.6558249556475458, 'f1-score': 0.6444442633557036, 'macro_f1-score': 0.3737940727317005, 'balanced_accuracy': 0.39417879901945385, 'mcc': 0.5416301886863502, 'train_loss': 0.7050518492578567}\n",
      "Epoch 13/20\n"
     ]
    },
    {
     "name": "stderr",
     "output_type": "stream",
     "text": [
      "100%|██████████| 534/534 [00:47<00:00, 11.24it/s]\n"
     ]
    },
    {
     "name": "stdout",
     "output_type": "stream",
     "text": [
      "{'val_loss': 1.562871130007618, 'val_accuracy': 0.6451803666469544, 'precision': 0.6490830957564212, 'recall': 0.6451803666469544, 'f1-score': 0.6380113996269254, 'macro_f1-score': 0.3903214794804591, 'balanced_accuracy': 0.41861176436102376, 'mcc': 0.5329702935274907, 'train_loss': 0.7129811323788505}\n",
      "Epoch 14/20\n"
     ]
    },
    {
     "name": "stderr",
     "output_type": "stream",
     "text": [
      "100%|██████████| 534/534 [00:47<00:00, 11.16it/s]\n"
     ]
    },
    {
     "name": "stdout",
     "output_type": "stream",
     "text": [
      "{'val_loss': 1.6023671286848356, 'val_accuracy': 0.651685393258427, 'precision': 0.6376428582401755, 'recall': 0.651685393258427, 'f1-score': 0.6349219748393076, 'macro_f1-score': 0.37829143082244726, 'balanced_accuracy': 0.38513230526637315, 'mcc': 0.5319833173969392, 'train_loss': 0.668208303299736}\n",
      "Epoch 15/20\n"
     ]
    },
    {
     "name": "stderr",
     "output_type": "stream",
     "text": [
      "100%|██████████| 534/534 [00:47<00:00, 11.22it/s]\n"
     ]
    },
    {
     "name": "stdout",
     "output_type": "stream",
     "text": [
      "{'val_loss': 1.653039132086736, 'val_accuracy': 0.6570076877587226, 'precision': 0.6547268986348631, 'recall': 0.6570076877587226, 'f1-score': 0.6477559937228646, 'macro_f1-score': 0.3986698987132609, 'balanced_accuracy': 0.403216058391499, 'mcc': 0.544878573692725, 'train_loss': 0.6476446333923813}\n",
      "Epoch 16/20\n"
     ]
    },
    {
     "name": "stderr",
     "output_type": "stream",
     "text": [
      "100%|██████████| 534/534 [00:47<00:00, 11.23it/s]\n"
     ]
    },
    {
     "name": "stdout",
     "output_type": "stream",
     "text": [
      "{'val_loss': 1.6042019435257282, 'val_accuracy': 0.6570076877587226, 'precision': 0.6543469121825967, 'recall': 0.6570076877587226, 'f1-score': 0.6473854738118384, 'macro_f1-score': 0.38304727504484765, 'balanced_accuracy': 0.40138915437026845, 'mcc': 0.5466827874893516, 'train_loss': 0.6284856356066487}\n",
      "Epoch 17/20\n"
     ]
    },
    {
     "name": "stderr",
     "output_type": "stream",
     "text": [
      "100%|██████████| 534/534 [00:47<00:00, 11.20it/s]\n"
     ]
    },
    {
     "name": "stdout",
     "output_type": "stream",
     "text": [
      "{'val_loss': 1.5932784550032526, 'val_accuracy': 0.657599053814311, 'precision': 0.6464518470987125, 'recall': 0.657599053814311, 'f1-score': 0.6427640384181048, 'macro_f1-score': 0.37602793386343264, 'balanced_accuracy': 0.39018399170922735, 'mcc': 0.5425355416782521, 'train_loss': 0.6315813670248798}\n",
      "Epoch 18/20\n"
     ]
    },
    {
     "name": "stderr",
     "output_type": "stream",
     "text": [
      "100%|██████████| 534/534 [00:47<00:00, 11.24it/s]\n"
     ]
    },
    {
     "name": "stdout",
     "output_type": "stream",
     "text": [
      "{'val_loss': 1.5511348746576399, 'val_accuracy': 0.6593731519810763, 'precision': 0.6562367362169619, 'recall': 0.6593731519810763, 'f1-score': 0.6480741076793654, 'macro_f1-score': 0.4045117701024832, 'balanced_accuracy': 0.3983740977883123, 'mcc': 0.5500862494707954, 'train_loss': 0.6157643351885264}\n",
      "Epoch 19/20\n"
     ]
    },
    {
     "name": "stderr",
     "output_type": "stream",
     "text": [
      "100%|██████████| 534/534 [00:47<00:00, 11.20it/s]\n"
     ]
    },
    {
     "name": "stdout",
     "output_type": "stream",
     "text": [
      "{'val_loss': 1.5864141465358015, 'val_accuracy': 0.6641040804257835, 'precision': 0.6603918503551787, 'recall': 0.6641040804257835, 'f1-score': 0.6476157074867972, 'macro_f1-score': 0.4031717023993056, 'balanced_accuracy': 0.42663417854945374, 'mcc': 0.5525073668767584, 'train_loss': 0.5970793836558245}\n",
      "Epoch 20/20\n"
     ]
    },
    {
     "name": "stderr",
     "output_type": "stream",
     "text": [
      "100%|██████████| 534/534 [00:47<00:00, 11.23it/s]\n"
     ]
    },
    {
     "name": "stdout",
     "output_type": "stream",
     "text": [
      "{'val_loss': 1.7174502625217978, 'val_accuracy': 0.6587817859254879, 'precision': 0.6561869351636856, 'recall': 0.6587817859254879, 'f1-score': 0.6385834410007829, 'macro_f1-score': 0.39548450432084015, 'balanced_accuracy': 0.39156480084532375, 'mcc': 0.538217178778208, 'train_loss': 0.5790214140233252}\n",
      "\n",
      "[Fold 3]\n",
      "🚀 Using SBERT for data augmentation\n",
      "Using device: cuda\n",
      "CUDA Available: True\n",
      "CUDA Device: NVIDIA GeForce RTX 5070 Ti\n",
      "Current GPU Memory Allocated: 1.98 GB\n",
      "Current GPU Memory Cached: 3.24 GB\n",
      "Model device: cuda:0\n",
      "🔧 Augmenting label 1: 25 → 200 (+175)\n",
      "🔧 Augmenting label 2: 112 → 200 (+88)\n",
      "🔧 Augmenting label 3: 24 → 200 (+176)\n",
      "🔧 Augmenting label 5: 116 → 200 (+84)\n",
      "🔧 Augmenting label 6: 94 → 200 (+106)\n",
      "🔧 Augmenting label 7: 31 → 200 (+169)\n",
      "🔧 Augmenting label 8: 68 → 200 (+132)\n",
      "🔧 Augmenting label 9: 65 → 200 (+135)\n",
      "🔧 Augmenting label 10: 71 → 200 (+129)\n",
      "🔧 Augmenting label 11: 172 → 200 (+28)\n",
      "🔧 Augmenting label 12: 192 → 200 (+8)\n",
      "🔧 Augmenting label 13: 29 → 200 (+171)\n",
      "🔧 Augmenting label 14: 23 → 200 (+177)\n",
      "🔧 Augmenting label 15: 25 → 200 (+175)\n",
      "🔧 Augmenting label 16: 20 → 200 (+180)\n",
      "🔧 Augmenting label 18: 93 → 200 (+107)\n",
      "🔧 Augmenting label 19: 45 → 200 (+155)\n",
      "🔧 Augmenting label 20: 14 → 200 (+186)\n",
      "🔧 Augmenting label 21: 36 → 200 (+164)\n",
      "🔧 Augmenting label 22: 77 → 200 (+123)\n",
      "🔧 Augmenting label 23: 160 → 200 (+40)\n",
      "🔧 Augmenting label 24: 16 → 200 (+184)\n",
      "🔧 Augmenting label 25: 51 → 200 (+149)\n",
      "🔧 Augmenting label 26: 85 → 200 (+115)\n",
      "🔧 Augmenting label 27: 49 → 200 (+151)\n",
      "🔧 Augmenting label 28: 12 → 200 (+188)\n",
      "🔧 Augmenting label 29: 12 → 200 (+188)\n",
      "🔧 Augmenting label 30: 16 → 200 (+184)\n",
      "🔧 Augmenting label 31: 80 → 200 (+120)\n",
      "🔧 Augmenting label 32: 36 → 200 (+164)\n",
      "🔧 Augmenting label 33: 32 → 200 (+168)\n",
      "🔧 Augmenting label 34: 29 → 200 (+171)\n",
      "🔧 Augmenting label 35: 12 → 200 (+188)\n",
      "🔧 Augmenting label 36: 28 → 200 (+172)\n",
      "🔧 Augmenting label 37: 22 → 200 (+178)\n",
      "🔧 Augmenting label 38: 5 → 200 (+195)\n",
      "🔧 Augmenting label 39: 103 → 200 (+97)\n",
      "🔧 Augmenting label 40: 11 → 200 (+189)\n",
      "🔧 Augmenting label 41: 9 → 200 (+191)\n",
      "🔧 Augmenting label 42: 147 → 200 (+53)\n",
      "🔧 Augmenting label 43: 16 → 200 (+184)\n",
      "🔧 Augmenting label 44: 20 → 200 (+180)\n",
      "🔧 Augmenting label 45: 9 → 200 (+191)\n",
      "🔧 Augmenting label 46: 55 → 200 (+145)\n",
      "🔧 Augmenting label 49: 70 → 200 (+130)\n",
      "Label distribution after resampling:\n",
      "  label 0: 3179\n",
      "  label 1: 109\n",
      "  label 2: 200\n",
      "  label 3: 26\n",
      "  label 4: 206\n",
      "  label 5: 171\n",
      "  label 6: 180\n",
      "  label 7: 32\n",
      "  label 8: 88\n",
      "  label 9: 200\n",
      "  label 10: 114\n",
      "  label 11: 200\n",
      "  label 12: 200\n",
      "  label 13: 29\n",
      "  label 14: 23\n",
      "  label 15: 29\n",
      "  label 16: 64\n",
      "  label 17: 231\n",
      "  label 18: 117\n",
      "  label 19: 72\n",
      "  label 20: 40\n",
      "  label 21: 45\n",
      "  label 22: 118\n",
      "  label 23: 200\n",
      "  label 24: 61\n",
      "  label 25: 142\n",
      "  label 26: 121\n",
      "  label 27: 88\n",
      "  label 28: 33\n",
      "  label 29: 15\n",
      "  label 30: 97\n",
      "  label 31: 170\n",
      "  label 32: 43\n",
      "  label 33: 36\n",
      "  label 34: 33\n",
      "  label 35: 26\n",
      "  label 36: 110\n",
      "  label 37: 118\n",
      "  label 38: 17\n",
      "  label 39: 200\n",
      "  label 40: 32\n",
      "  label 41: 25\n",
      "  label 42: 200\n",
      "  label 43: 99\n",
      "  label 44: 25\n",
      "  label 45: 17\n",
      "  label 46: 120\n",
      "  label 47: 529\n",
      "  label 48: 201\n",
      "  label 49: 117\n",
      "model is bert-base-uncased lstm\n",
      "Epoch 1/20\n"
     ]
    },
    {
     "name": "stderr",
     "output_type": "stream",
     "text": [
      "100%|██████████| 535/535 [00:47<00:00, 11.18it/s]\n"
     ]
    },
    {
     "name": "stdout",
     "output_type": "stream",
     "text": [
      "{'val_loss': 1.6311638782609184, 'val_accuracy': 0.6002365464222353, 'precision': 0.48221119030016263, 'recall': 0.6002365464222353, 'f1-score': 0.5102997406922883, 'macro_f1-score': 0.14717255121261677, 'balanced_accuracy': 0.1694347028304544, 'mcc': 0.4325457141907639, 'train_loss': 2.2676167548259842}\n",
      "Epoch 2/20\n"
     ]
    },
    {
     "name": "stderr",
     "output_type": "stream",
     "text": [
      "100%|██████████| 535/535 [00:47<00:00, 11.23it/s]\n"
     ]
    },
    {
     "name": "stdout",
     "output_type": "stream",
     "text": [
      "{'val_loss': 1.522077205608476, 'val_accuracy': 0.5937315198107629, 'precision': 0.5441160465278987, 'recall': 0.5937315198107629, 'f1-score': 0.5527912318871118, 'macro_f1-score': 0.2008665990874977, 'balanced_accuracy': 0.2159793561096854, 'mcc': 0.45263752726823475, 'train_loss': 1.6775117619015345}\n",
      "Epoch 3/20\n"
     ]
    },
    {
     "name": "stderr",
     "output_type": "stream",
     "text": [
      "100%|██████████| 535/535 [00:47<00:00, 11.22it/s]\n"
     ]
    },
    {
     "name": "stdout",
     "output_type": "stream",
     "text": [
      "{'val_loss': 1.4208200748236675, 'val_accuracy': 0.6280307510348906, 'precision': 0.6031886544064713, 'recall': 0.6280307510348906, 'f1-score': 0.5959079397478213, 'macro_f1-score': 0.2418490830226432, 'balanced_accuracy': 0.25017772297994356, 'mcc': 0.49989240995085393, 'train_loss': 1.437262104827667}\n",
      "Epoch 4/20\n"
     ]
    },
    {
     "name": "stderr",
     "output_type": "stream",
     "text": [
      "100%|██████████| 535/535 [00:47<00:00, 11.20it/s]\n"
     ]
    },
    {
     "name": "stdout",
     "output_type": "stream",
     "text": [
      "{'val_loss': 1.405439333814495, 'val_accuracy': 0.6404494382022472, 'precision': 0.6008952814883816, 'recall': 0.6404494382022472, 'f1-score': 0.6063146984620079, 'macro_f1-score': 0.2786054745506865, 'balanced_accuracy': 0.2804586959413481, 'mcc': 0.5111718279101652, 'train_loss': 1.2812820473006952}\n",
      "Epoch 5/20\n"
     ]
    },
    {
     "name": "stderr",
     "output_type": "stream",
     "text": [
      "100%|██████████| 535/535 [00:47<00:00, 11.24it/s]\n"
     ]
    },
    {
     "name": "stdout",
     "output_type": "stream",
     "text": [
      "{'val_loss': 1.3531394496841251, 'val_accuracy': 0.6439976345357776, 'precision': 0.6305853440252556, 'recall': 0.6439976345357776, 'f1-score': 0.6190452883037559, 'macro_f1-score': 0.29629804433796125, 'balanced_accuracy': 0.3154880528423513, 'mcc': 0.5283646847104891, 'train_loss': 1.134288033425251}\n",
      "Epoch 6/20\n"
     ]
    },
    {
     "name": "stderr",
     "output_type": "stream",
     "text": [
      "100%|██████████| 535/535 [00:47<00:00, 11.19it/s]\n"
     ]
    },
    {
     "name": "stdout",
     "output_type": "stream",
     "text": [
      "{'val_loss': 1.4856868566207166, 'val_accuracy': 0.6061502069781195, 'precision': 0.6236061975726045, 'recall': 0.6061502069781195, 'f1-score': 0.6038884926260883, 'macro_f1-score': 0.2893519958718584, 'balanced_accuracy': 0.298856096876556, 'mcc': 0.4938186553685188, 'train_loss': 1.0393983327896796}\n",
      "Epoch 7/20\n"
     ]
    },
    {
     "name": "stderr",
     "output_type": "stream",
     "text": [
      "100%|██████████| 535/535 [00:47<00:00, 11.21it/s]\n"
     ]
    },
    {
     "name": "stdout",
     "output_type": "stream",
     "text": [
      "{'val_loss': 1.429944266688149, 'val_accuracy': 0.6404494382022472, 'precision': 0.6254997562253507, 'recall': 0.6404494382022472, 'f1-score': 0.6226877296336972, 'macro_f1-score': 0.3338852120434837, 'balanced_accuracy': 0.33502509626161897, 'mcc': 0.5193805163615615, 'train_loss': 0.9486177037809497}\n",
      "Epoch 8/20\n"
     ]
    },
    {
     "name": "stderr",
     "output_type": "stream",
     "text": [
      "100%|██████████| 535/535 [00:47<00:00, 11.16it/s]\n"
     ]
    },
    {
     "name": "stdout",
     "output_type": "stream",
     "text": [
      "{'val_loss': 1.4327227557605167, 'val_accuracy': 0.63571850975754, 'precision': 0.6277820875689649, 'recall': 0.63571850975754, 'f1-score': 0.6228194597652621, 'macro_f1-score': 0.33682329336761524, 'balanced_accuracy': 0.34049987538379534, 'mcc': 0.513968862181888, 'train_loss': 0.860714927232154}\n",
      "Epoch 9/20\n"
     ]
    },
    {
     "name": "stderr",
     "output_type": "stream",
     "text": [
      "100%|██████████| 535/535 [00:47<00:00, 11.22it/s]\n"
     ]
    },
    {
     "name": "stdout",
     "output_type": "stream",
     "text": [
      "{'val_loss': 1.4192265204663546, 'val_accuracy': 0.6345357776463632, 'precision': 0.6330464925851916, 'recall': 0.6345357776463632, 'f1-score': 0.6256974974361116, 'macro_f1-score': 0.3476200298737184, 'balanced_accuracy': 0.3599624166867416, 'mcc': 0.5200145404703781, 'train_loss': 0.7987761901639332}\n",
      "Epoch 10/20\n"
     ]
    },
    {
     "name": "stderr",
     "output_type": "stream",
     "text": [
      "100%|██████████| 535/535 [00:47<00:00, 11.22it/s]\n"
     ]
    },
    {
     "name": "stdout",
     "output_type": "stream",
     "text": [
      "{'val_loss': 1.4761268772044271, 'val_accuracy': 0.6351271437019516, 'precision': 0.6429110852705366, 'recall': 0.6351271437019516, 'f1-score': 0.6250943038532661, 'macro_f1-score': 0.344390860803972, 'balanced_accuracy': 0.3511491455405861, 'mcc': 0.5187552252330397, 'train_loss': 0.7572049032583414}\n",
      "Epoch 11/20\n"
     ]
    },
    {
     "name": "stderr",
     "output_type": "stream",
     "text": [
      "100%|██████████| 535/535 [00:47<00:00, 11.19it/s]\n"
     ]
    },
    {
     "name": "stdout",
     "output_type": "stream",
     "text": [
      "{'val_loss': 1.550608295314717, 'val_accuracy': 0.6404494382022472, 'precision': 0.636571733925712, 'recall': 0.6404494382022472, 'f1-score': 0.6252095739495139, 'macro_f1-score': 0.3278951268302817, 'balanced_accuracy': 0.3377473819503399, 'mcc': 0.5242836345723206, 'train_loss': 0.7344225935846845}\n",
      "Epoch 12/20\n"
     ]
    },
    {
     "name": "stderr",
     "output_type": "stream",
     "text": [
      "100%|██████████| 535/535 [00:47<00:00, 11.23it/s]\n"
     ]
    },
    {
     "name": "stdout",
     "output_type": "stream",
     "text": [
      "{'val_loss': 1.5585672568600133, 'val_accuracy': 0.6398580721466588, 'precision': 0.6325421499051608, 'recall': 0.6398580721466588, 'f1-score': 0.6270794238142239, 'macro_f1-score': 0.34990561190453356, 'balanced_accuracy': 0.3652741451347592, 'mcc': 0.5241111376365769, 'train_loss': 0.7053358436327114}\n",
      "Epoch 13/20\n"
     ]
    },
    {
     "name": "stderr",
     "output_type": "stream",
     "text": [
      "100%|██████████| 535/535 [00:47<00:00, 11.20it/s]\n"
     ]
    },
    {
     "name": "stdout",
     "output_type": "stream",
     "text": [
      "{'val_loss': 1.5321886592878486, 'val_accuracy': 0.6404494382022472, 'precision': 0.6524493609605432, 'recall': 0.6404494382022472, 'f1-score': 0.6301028466914964, 'macro_f1-score': 0.3599994619585344, 'balanced_accuracy': 0.3773743039075221, 'mcc': 0.528109219249922, 'train_loss': 0.6624348956081911}\n",
      "Epoch 14/20\n"
     ]
    },
    {
     "name": "stderr",
     "output_type": "stream",
     "text": [
      "100%|██████████| 535/535 [00:47<00:00, 11.22it/s]\n"
     ]
    },
    {
     "name": "stdout",
     "output_type": "stream",
     "text": [
      "{'val_loss': 1.5794928596829467, 'val_accuracy': 0.6434062684801892, 'precision': 0.6601043160073727, 'recall': 0.6434062684801892, 'f1-score': 0.6360601956623422, 'macro_f1-score': 0.369429144717073, 'balanced_accuracy': 0.3935453843591541, 'mcc': 0.5371779301895965, 'train_loss': 0.6449289971771084}\n",
      "Epoch 15/20\n"
     ]
    },
    {
     "name": "stderr",
     "output_type": "stream",
     "text": [
      "100%|██████████| 535/535 [00:47<00:00, 11.18it/s]\n"
     ]
    },
    {
     "name": "stdout",
     "output_type": "stream",
     "text": [
      "{'val_loss': 1.5582602310855433, 'val_accuracy': 0.6475458308693081, 'precision': 0.6546917650799498, 'recall': 0.6475458308693081, 'f1-score': 0.6420984647220305, 'macro_f1-score': 0.367041666598104, 'balanced_accuracy': 0.3762131971449656, 'mcc': 0.537952277030935, 'train_loss': 0.6264271289249447}\n",
      "Epoch 16/20\n"
     ]
    },
    {
     "name": "stderr",
     "output_type": "stream",
     "text": [
      "100%|██████████| 535/535 [00:47<00:00, 11.22it/s]\n"
     ]
    },
    {
     "name": "stdout",
     "output_type": "stream",
     "text": [
      "{'val_loss': 1.6229908258285162, 'val_accuracy': 0.6540508574807806, 'precision': 0.6510197775996763, 'recall': 0.6540508574807806, 'f1-score': 0.6360521544436545, 'macro_f1-score': 0.3673611876284006, 'balanced_accuracy': 0.36437354626752816, 'mcc': 0.5408726621100134, 'train_loss': 0.617136606462648}\n",
      "Epoch 17/20\n"
     ]
    },
    {
     "name": "stderr",
     "output_type": "stream",
     "text": [
      "100%|██████████| 535/535 [00:47<00:00, 11.23it/s]\n"
     ]
    },
    {
     "name": "stdout",
     "output_type": "stream",
     "text": [
      "{'val_loss': 1.6796184317120966, 'val_accuracy': 0.6262566528681254, 'precision': 0.6390866954519062, 'recall': 0.6262566528681254, 'f1-score': 0.6214288813919242, 'macro_f1-score': 0.34041032615917394, 'balanced_accuracy': 0.3643472139681916, 'mcc': 0.5129312583622403, 'train_loss': 0.5970608531593162}\n",
      "Early stopping.\n",
      "\n",
      "[Fold 4]\n",
      "🚀 Using SBERT for data augmentation\n",
      "Using device: cuda\n",
      "CUDA Available: True\n",
      "CUDA Device: NVIDIA GeForce RTX 5070 Ti\n",
      "Current GPU Memory Allocated: 1.98 GB\n",
      "Current GPU Memory Cached: 3.24 GB\n",
      "Model device: cuda:0\n",
      "🔧 Augmenting label 1: 25 → 200 (+175)\n",
      "🔧 Augmenting label 2: 112 → 200 (+88)\n",
      "🔧 Augmenting label 3: 24 → 200 (+176)\n",
      "🔧 Augmenting label 5: 116 → 200 (+84)\n",
      "🔧 Augmenting label 6: 94 → 200 (+106)\n",
      "🔧 Augmenting label 7: 32 → 200 (+168)\n",
      "🔧 Augmenting label 8: 68 → 200 (+132)\n",
      "🔧 Augmenting label 9: 64 → 200 (+136)\n",
      "🔧 Augmenting label 10: 71 → 200 (+129)\n",
      "🔧 Augmenting label 11: 172 → 200 (+28)\n",
      "🔧 Augmenting label 12: 193 → 200 (+7)\n",
      "🔧 Augmenting label 13: 28 → 200 (+172)\n",
      "🔧 Augmenting label 14: 24 → 200 (+176)\n",
      "🔧 Augmenting label 15: 24 → 200 (+176)\n",
      "🔧 Augmenting label 16: 20 → 200 (+180)\n",
      "🔧 Augmenting label 18: 92 → 200 (+108)\n",
      "🔧 Augmenting label 19: 45 → 200 (+155)\n",
      "🔧 Augmenting label 20: 15 → 200 (+185)\n",
      "🔧 Augmenting label 21: 35 → 200 (+165)\n",
      "🔧 Augmenting label 22: 77 → 200 (+123)\n",
      "🔧 Augmenting label 23: 160 → 200 (+40)\n",
      "🔧 Augmenting label 24: 16 → 200 (+184)\n",
      "🔧 Augmenting label 25: 51 → 200 (+149)\n",
      "🔧 Augmenting label 26: 85 → 200 (+115)\n",
      "🔧 Augmenting label 27: 49 → 200 (+151)\n",
      "🔧 Augmenting label 28: 12 → 200 (+188)\n",
      "🔧 Augmenting label 29: 13 → 200 (+187)\n",
      "🔧 Augmenting label 30: 15 → 200 (+185)\n",
      "🔧 Augmenting label 31: 80 → 200 (+120)\n",
      "🔧 Augmenting label 32: 36 → 200 (+164)\n",
      "🔧 Augmenting label 33: 32 → 200 (+168)\n",
      "🔧 Augmenting label 34: 29 → 200 (+171)\n",
      "🔧 Augmenting label 35: 12 → 200 (+188)\n",
      "🔧 Augmenting label 36: 28 → 200 (+172)\n",
      "🔧 Augmenting label 37: 22 → 200 (+178)\n",
      "🔧 Augmenting label 38: 6 → 200 (+194)\n",
      "🔧 Augmenting label 39: 103 → 200 (+97)\n",
      "🔧 Augmenting label 40: 11 → 200 (+189)\n",
      "🔧 Augmenting label 41: 9 → 200 (+191)\n",
      "🔧 Augmenting label 42: 148 → 200 (+52)\n",
      "🔧 Augmenting label 43: 16 → 200 (+184)\n",
      "🔧 Augmenting label 44: 20 → 200 (+180)\n",
      "🔧 Augmenting label 45: 8 → 200 (+192)\n",
      "🔧 Augmenting label 46: 54 → 200 (+146)\n",
      "🔧 Augmenting label 49: 70 → 200 (+130)\n",
      "Label distribution after resampling:\n",
      "  label 0: 3179\n",
      "  label 1: 110\n",
      "  label 2: 200\n",
      "  label 3: 24\n",
      "  label 4: 206\n",
      "  label 5: 163\n",
      "  label 6: 198\n",
      "  label 7: 36\n",
      "  label 8: 84\n",
      "  label 9: 200\n",
      "  label 10: 117\n",
      "  label 11: 200\n",
      "  label 12: 200\n",
      "  label 13: 32\n",
      "  label 14: 24\n",
      "  label 15: 26\n",
      "  label 16: 60\n",
      "  label 17: 232\n",
      "  label 18: 129\n",
      "  label 19: 60\n",
      "  label 20: 52\n",
      "  label 21: 45\n",
      "  label 22: 129\n",
      "  label 23: 200\n",
      "  label 24: 73\n",
      "  label 25: 173\n",
      "  label 26: 121\n",
      "  label 27: 92\n",
      "  label 28: 50\n",
      "  label 29: 14\n",
      "  label 30: 86\n",
      "  label 31: 190\n",
      "  label 32: 45\n",
      "  label 33: 38\n",
      "  label 34: 32\n",
      "  label 35: 26\n",
      "  label 36: 81\n",
      "  label 37: 112\n",
      "  label 38: 18\n",
      "  label 39: 200\n",
      "  label 40: 40\n",
      "  label 41: 20\n",
      "  label 42: 200\n",
      "  label 43: 114\n",
      "  label 44: 34\n",
      "  label 45: 21\n",
      "  label 46: 140\n",
      "  label 47: 529\n",
      "  label 48: 201\n",
      "  label 49: 117\n",
      "model is bert-base-uncased lstm\n",
      "Epoch 1/20\n"
     ]
    },
    {
     "name": "stderr",
     "output_type": "stream",
     "text": [
      "100%|██████████| 543/543 [00:48<00:00, 11.22it/s]\n"
     ]
    },
    {
     "name": "stdout",
     "output_type": "stream",
     "text": [
      "{'val_loss': 1.5754398101905607, 'val_accuracy': 0.5978710821998817, 'precision': 0.44480108228053, 'recall': 0.5978710821998817, 'f1-score': 0.4861818312582609, 'macro_f1-score': 0.10661862874680114, 'balanced_accuracy': 0.1304111958587929, 'mcc': 0.42262784351786586, 'train_loss': 2.303371832941009}\n",
      "Epoch 2/20\n"
     ]
    },
    {
     "name": "stderr",
     "output_type": "stream",
     "text": [
      "100%|██████████| 543/543 [00:48<00:00, 11.21it/s]\n"
     ]
    },
    {
     "name": "stdout",
     "output_type": "stream",
     "text": [
      "{'val_loss': 1.4190265927112327, 'val_accuracy': 0.6173861620342992, 'precision': 0.5645768201295142, 'recall': 0.6173861620342992, 'f1-score': 0.5625155592376242, 'macro_f1-score': 0.21012499935715326, 'balanced_accuracy': 0.2330685289079638, 'mcc': 0.4726140971395571, 'train_loss': 1.7085842458363176}\n",
      "Epoch 3/20\n"
     ]
    },
    {
     "name": "stderr",
     "output_type": "stream",
     "text": [
      "100%|██████████| 543/543 [00:48<00:00, 11.24it/s]\n"
     ]
    },
    {
     "name": "stdout",
     "output_type": "stream",
     "text": [
      "{'val_loss': 1.4009702708923593, 'val_accuracy': 0.6292134831460674, 'precision': 0.5969340280432952, 'recall': 0.6292134831460674, 'f1-score': 0.588260990032485, 'macro_f1-score': 0.2371033380531653, 'balanced_accuracy': 0.26424254715233747, 'mcc': 0.5032029234001738, 'train_loss': 1.473873684913414}\n",
      "Epoch 4/20\n"
     ]
    },
    {
     "name": "stderr",
     "output_type": "stream",
     "text": [
      "100%|██████████| 543/543 [00:48<00:00, 11.21it/s]\n"
     ]
    },
    {
     "name": "stdout",
     "output_type": "stream",
     "text": [
      "{'val_loss': 1.344779094435134, 'val_accuracy': 0.638675340035482, 'precision': 0.6203189867068837, 'recall': 0.638675340035482, 'f1-score': 0.6118723287621284, 'macro_f1-score': 0.25500285936796724, 'balanced_accuracy': 0.27672052496770727, 'mcc': 0.523252953046522, 'train_loss': 1.312963976330959}\n",
      "Epoch 5/20\n"
     ]
    },
    {
     "name": "stderr",
     "output_type": "stream",
     "text": [
      "100%|██████████| 543/543 [00:48<00:00, 11.22it/s]\n"
     ]
    },
    {
     "name": "stdout",
     "output_type": "stream",
     "text": [
      "{'val_loss': 1.3231805692303855, 'val_accuracy': 0.6475458308693081, 'precision': 0.6462986501754672, 'recall': 0.6475458308693081, 'f1-score': 0.6352754577872981, 'macro_f1-score': 0.3171937123309227, 'balanced_accuracy': 0.34942040136882474, 'mcc': 0.5451979877777637, 'train_loss': 1.18356008319661}\n",
      "Epoch 6/20\n"
     ]
    },
    {
     "name": "stderr",
     "output_type": "stream",
     "text": [
      "100%|██████████| 543/543 [00:48<00:00, 11.19it/s]\n"
     ]
    },
    {
     "name": "stdout",
     "output_type": "stream",
     "text": [
      "{'val_loss': 1.3209563569640212, 'val_accuracy': 0.6558249556475458, 'precision': 0.6681988029187864, 'recall': 0.6558249556475458, 'f1-score': 0.6438796559518976, 'macro_f1-score': 0.3299636044218977, 'balanced_accuracy': 0.355427043641877, 'mcc': 0.5570494712017733, 'train_loss': 1.0643476689608278}\n",
      "Epoch 7/20\n"
     ]
    },
    {
     "name": "stderr",
     "output_type": "stream",
     "text": [
      "100%|██████████| 543/543 [00:48<00:00, 11.23it/s]\n"
     ]
    },
    {
     "name": "stdout",
     "output_type": "stream",
     "text": [
      "{'val_loss': 1.3533721456550203, 'val_accuracy': 0.6410408042578356, 'precision': 0.6577092288972612, 'recall': 0.6410408042578356, 'f1-score': 0.6333621934015011, 'macro_f1-score': 0.33931867557182266, 'balanced_accuracy': 0.3498986842539791, 'mcc': 0.5273934953935101, 'train_loss': 0.9802232886601109}\n",
      "Epoch 8/20\n"
     ]
    },
    {
     "name": "stderr",
     "output_type": "stream",
     "text": [
      "100%|██████████| 543/543 [00:48<00:00, 11.22it/s]\n"
     ]
    },
    {
     "name": "stdout",
     "output_type": "stream",
     "text": [
      "{'val_loss': 1.3127500161809742, 'val_accuracy': 0.6587817859254879, 'precision': 0.6607684131989868, 'recall': 0.6587817859254879, 'f1-score': 0.6478578401385565, 'macro_f1-score': 0.3497415389850649, 'balanced_accuracy': 0.3667100802436263, 'mcc': 0.5539445149136689, 'train_loss': 0.9074278193119482}\n",
      "Epoch 9/20\n"
     ]
    },
    {
     "name": "stderr",
     "output_type": "stream",
     "text": [
      "100%|██████████| 543/543 [00:48<00:00, 11.22it/s]\n"
     ]
    },
    {
     "name": "stdout",
     "output_type": "stream",
     "text": [
      "{'val_loss': 1.3564933243225206, 'val_accuracy': 0.6700177409816677, 'precision': 0.6605657201706244, 'recall': 0.6700177409816677, 'f1-score': 0.657082526973526, 'macro_f1-score': 0.366755876095093, 'balanced_accuracy': 0.38533652598992063, 'mcc': 0.5667317622301573, 'train_loss': 0.8463762898965436}\n",
      "Epoch 10/20\n"
     ]
    },
    {
     "name": "stderr",
     "output_type": "stream",
     "text": [
      "100%|██████████| 543/543 [00:48<00:00, 11.23it/s]\n"
     ]
    },
    {
     "name": "stdout",
     "output_type": "stream",
     "text": [
      "{'val_loss': 1.3803234321047675, 'val_accuracy': 0.6682436428149024, 'precision': 0.6873029309539844, 'recall': 0.6682436428149024, 'f1-score': 0.6567123215822466, 'macro_f1-score': 0.3930628685831446, 'balanced_accuracy': 0.41218852319928134, 'mcc': 0.5668087877849542, 'train_loss': 0.8088462575172412}\n",
      "Epoch 11/20\n"
     ]
    },
    {
     "name": "stderr",
     "output_type": "stream",
     "text": [
      "100%|██████████| 543/543 [00:48<00:00, 11.23it/s]\n"
     ]
    },
    {
     "name": "stdout",
     "output_type": "stream",
     "text": [
      "{'val_loss': 1.3728967143117257, 'val_accuracy': 0.6723832052040213, 'precision': 0.690442189713086, 'recall': 0.6723832052040213, 'f1-score': 0.6703501897514577, 'macro_f1-score': 0.4277889104041096, 'balanced_accuracy': 0.4606941419744114, 'mcc': 0.5773403522212467, 'train_loss': 0.7603154029306127}\n",
      "Epoch 12/20\n"
     ]
    },
    {
     "name": "stderr",
     "output_type": "stream",
     "text": [
      "100%|██████████| 543/543 [00:48<00:00, 11.19it/s]\n"
     ]
    },
    {
     "name": "stdout",
     "output_type": "stream",
     "text": [
      "{'val_loss': 1.4060657723051198, 'val_accuracy': 0.6735659373151981, 'precision': 0.6889733095348909, 'recall': 0.6735659373151981, 'f1-score': 0.6693696695599607, 'macro_f1-score': 0.4096894895195086, 'balanced_accuracy': 0.42688548513999913, 'mcc': 0.5742918943027889, 'train_loss': 0.7166805084293938}\n",
      "Epoch 13/20\n"
     ]
    },
    {
     "name": "stderr",
     "output_type": "stream",
     "text": [
      "100%|██████████| 543/543 [00:48<00:00, 11.21it/s]\n"
     ]
    },
    {
     "name": "stdout",
     "output_type": "stream",
     "text": [
      "{'val_loss': 1.4231232712572475, 'val_accuracy': 0.6759314015375517, 'precision': 0.688555045159971, 'recall': 0.6759314015375517, 'f1-score': 0.6634332436349054, 'macro_f1-score': 0.3991067864627699, 'balanced_accuracy': 0.41825771859045785, 'mcc': 0.5720982195979093, 'train_loss': 0.7069821102175052}\n",
      "Epoch 14/20\n"
     ]
    },
    {
     "name": "stderr",
     "output_type": "stream",
     "text": [
      "100%|██████████| 543/543 [00:48<00:00, 11.23it/s]\n"
     ]
    },
    {
     "name": "stdout",
     "output_type": "stream",
     "text": [
      "{'val_loss': 1.4082792353517604, 'val_accuracy': 0.6599645180366647, 'precision': 0.6741475435432416, 'recall': 0.6599645180366647, 'f1-score': 0.6547121519274743, 'macro_f1-score': 0.41142038938201364, 'balanced_accuracy': 0.42485865753500557, 'mcc': 0.5536186676294799, 'train_loss': 0.6838507148853982}\n",
      "Early stopping.\n",
      "\n",
      "[Fold 5]\n",
      "🚀 Using SBERT for data augmentation\n",
      "Using device: cuda\n",
      "CUDA Available: True\n",
      "CUDA Device: NVIDIA GeForce RTX 5070 Ti\n",
      "Current GPU Memory Allocated: 1.97 GB\n",
      "Current GPU Memory Cached: 3.24 GB\n",
      "Model device: cuda:0\n",
      "🔧 Augmenting label 1: 24 → 200 (+176)\n",
      "🔧 Augmenting label 2: 112 → 200 (+88)\n",
      "🔧 Augmenting label 3: 24 → 200 (+176)\n",
      "🔧 Augmenting label 5: 116 → 200 (+84)\n",
      "🔧 Augmenting label 6: 95 → 200 (+105)\n",
      "🔧 Augmenting label 7: 31 → 200 (+169)\n",
      "🔧 Augmenting label 8: 68 → 200 (+132)\n",
      "🔧 Augmenting label 9: 65 → 200 (+135)\n",
      "🔧 Augmenting label 10: 70 → 200 (+130)\n",
      "🔧 Augmenting label 11: 172 → 200 (+28)\n",
      "🔧 Augmenting label 12: 193 → 200 (+7)\n",
      "🔧 Augmenting label 13: 29 → 200 (+171)\n",
      "🔧 Augmenting label 14: 23 → 200 (+177)\n",
      "🔧 Augmenting label 15: 25 → 200 (+175)\n",
      "🔧 Augmenting label 16: 20 → 200 (+180)\n",
      "🔧 Augmenting label 18: 93 → 200 (+107)\n",
      "🔧 Augmenting label 19: 44 → 200 (+156)\n",
      "🔧 Augmenting label 20: 15 → 200 (+185)\n",
      "🔧 Augmenting label 21: 35 → 200 (+165)\n",
      "🔧 Augmenting label 22: 78 → 200 (+122)\n",
      "🔧 Augmenting label 23: 160 → 200 (+40)\n",
      "🔧 Augmenting label 24: 16 → 200 (+184)\n",
      "🔧 Augmenting label 25: 50 → 200 (+150)\n",
      "🔧 Augmenting label 26: 86 → 200 (+114)\n",
      "🔧 Augmenting label 27: 48 → 200 (+152)\n",
      "🔧 Augmenting label 28: 12 → 200 (+188)\n",
      "🔧 Augmenting label 29: 13 → 200 (+187)\n",
      "🔧 Augmenting label 30: 15 → 200 (+185)\n",
      "🔧 Augmenting label 31: 80 → 200 (+120)\n",
      "🔧 Augmenting label 32: 36 → 200 (+164)\n",
      "🔧 Augmenting label 33: 32 → 200 (+168)\n",
      "🔧 Augmenting label 34: 30 → 200 (+170)\n",
      "🔧 Augmenting label 35: 12 → 200 (+188)\n",
      "🔧 Augmenting label 36: 28 → 200 (+172)\n",
      "🔧 Augmenting label 37: 21 → 200 (+179)\n",
      "🔧 Augmenting label 38: 6 → 200 (+194)\n",
      "🔧 Augmenting label 39: 104 → 200 (+96)\n",
      "🔧 Augmenting label 40: 11 → 200 (+189)\n",
      "🔧 Augmenting label 41: 9 → 200 (+191)\n",
      "🔧 Augmenting label 42: 147 → 200 (+53)\n",
      "🔧 Augmenting label 43: 16 → 200 (+184)\n",
      "🔧 Augmenting label 44: 20 → 200 (+180)\n",
      "🔧 Augmenting label 45: 9 → 200 (+191)\n",
      "🔧 Augmenting label 46: 54 → 200 (+146)\n",
      "🔧 Augmenting label 49: 70 → 200 (+130)\n",
      "Label distribution after resampling:\n",
      "  label 0: 3180\n",
      "  label 1: 123\n",
      "  label 2: 200\n",
      "  label 3: 26\n",
      "  label 4: 205\n",
      "  label 5: 160\n",
      "  label 6: 163\n",
      "  label 7: 38\n",
      "  label 8: 83\n",
      "  label 9: 200\n",
      "  label 10: 104\n",
      "  label 11: 200\n",
      "  label 12: 200\n",
      "  label 13: 31\n",
      "  label 14: 23\n",
      "  label 15: 25\n",
      "  label 16: 59\n",
      "  label 17: 231\n",
      "  label 18: 115\n",
      "  label 19: 69\n",
      "  label 20: 45\n",
      "  label 21: 39\n",
      "  label 22: 120\n",
      "  label 23: 200\n",
      "  label 24: 69\n",
      "  label 25: 177\n",
      "  label 26: 137\n",
      "  label 27: 78\n",
      "  label 28: 40\n",
      "  label 29: 15\n",
      "  label 30: 83\n",
      "  label 31: 196\n",
      "  label 32: 46\n",
      "  label 33: 34\n",
      "  label 34: 35\n",
      "  label 35: 14\n",
      "  label 36: 98\n",
      "  label 37: 131\n",
      "  label 38: 27\n",
      "  label 39: 200\n",
      "  label 40: 42\n",
      "  label 41: 16\n",
      "  label 42: 200\n",
      "  label 43: 92\n",
      "  label 44: 31\n",
      "  label 45: 13\n",
      "  label 46: 92\n",
      "  label 47: 529\n",
      "  label 48: 202\n",
      "  label 49: 128\n",
      "model is bert-base-uncased lstm\n",
      "Epoch 1/20\n"
     ]
    },
    {
     "name": "stderr",
     "output_type": "stream",
     "text": [
      "100%|██████████| 536/536 [00:47<00:00, 11.21it/s]\n"
     ]
    },
    {
     "name": "stdout",
     "output_type": "stream",
     "text": [
      "{'val_loss': 1.7866846024990082, 'val_accuracy': 0.5491124260355029, 'precision': 0.3991420807685821, 'recall': 0.5491124260355029, 'f1-score': 0.44330716612650145, 'macro_f1-score': 0.09343980879097791, 'balanced_accuracy': 0.10862162003390936, 'mcc': 0.3312873553921615, 'train_loss': 2.3253587932506603}\n",
      "Epoch 2/20\n"
     ]
    },
    {
     "name": "stderr",
     "output_type": "stream",
     "text": [
      "100%|██████████| 536/536 [00:47<00:00, 11.24it/s]\n"
     ]
    },
    {
     "name": "stdout",
     "output_type": "stream",
     "text": [
      "{'val_loss': 1.5105538863056112, 'val_accuracy': 0.6023668639053255, 'precision': 0.5482034959118167, 'recall': 0.6023668639053255, 'f1-score': 0.5671346076934994, 'macro_f1-score': 0.2100390087467327, 'balanced_accuracy': 0.23736034312838789, 'mcc': 0.4642570292254977, 'train_loss': 1.7406584319116465}\n",
      "Epoch 3/20\n"
     ]
    },
    {
     "name": "stderr",
     "output_type": "stream",
     "text": [
      "100%|██████████| 536/536 [00:47<00:00, 11.21it/s]\n"
     ]
    },
    {
     "name": "stdout",
     "output_type": "stream",
     "text": [
      "{'val_loss': 1.440293646364842, 'val_accuracy': 0.6071005917159763, 'precision': 0.5760243421520952, 'recall': 0.6071005917159763, 'f1-score': 0.5760494273490102, 'macro_f1-score': 0.23168708254545592, 'balanced_accuracy': 0.2598211595388384, 'mcc': 0.47059066356266915, 'train_loss': 1.4658374669614123}\n",
      "Epoch 4/20\n"
     ]
    },
    {
     "name": "stderr",
     "output_type": "stream",
     "text": [
      "100%|██████████| 536/536 [00:47<00:00, 11.23it/s]\n"
     ]
    },
    {
     "name": "stdout",
     "output_type": "stream",
     "text": [
      "{'val_loss': 1.3945768430547894, 'val_accuracy': 0.6437869822485207, 'precision': 0.5914688026874845, 'recall': 0.6437869822485207, 'f1-score': 0.607688182926892, 'macro_f1-score': 0.24863579279714212, 'balanced_accuracy': 0.2666849250406542, 'mcc': 0.5157307052607145, 'train_loss': 1.2786889072340817}\n",
      "Epoch 5/20\n"
     ]
    },
    {
     "name": "stderr",
     "output_type": "stream",
     "text": [
      "100%|██████████| 536/536 [00:47<00:00, 11.20it/s]\n"
     ]
    },
    {
     "name": "stdout",
     "output_type": "stream",
     "text": [
      "{'val_loss': 1.4325540484684818, 'val_accuracy': 0.6248520710059171, 'precision': 0.6325471016103509, 'recall': 0.6248520710059171, 'f1-score': 0.6129912298878178, 'macro_f1-score': 0.27473687731008417, 'balanced_accuracy': 0.28200263937946146, 'mcc': 0.509113273607646, 'train_loss': 1.148345717798863}\n",
      "Epoch 6/20\n"
     ]
    },
    {
     "name": "stderr",
     "output_type": "stream",
     "text": [
      "100%|██████████| 536/536 [00:47<00:00, 11.23it/s]\n"
     ]
    },
    {
     "name": "stdout",
     "output_type": "stream",
     "text": [
      "{'val_loss': 1.3860458948139875, 'val_accuracy': 0.6615384615384615, 'precision': 0.6290749486866678, 'recall': 0.6615384615384615, 'f1-score': 0.6332718478491881, 'macro_f1-score': 0.28795845320534447, 'balanced_accuracy': 0.2944603612317351, 'mcc': 0.5405098576566372, 'train_loss': 1.0240375299785118}\n",
      "Epoch 7/20\n"
     ]
    },
    {
     "name": "stderr",
     "output_type": "stream",
     "text": [
      "100%|██████████| 536/536 [00:47<00:00, 11.23it/s]\n"
     ]
    },
    {
     "name": "stdout",
     "output_type": "stream",
     "text": [
      "{'val_loss': 1.409475401043892, 'val_accuracy': 0.6266272189349112, 'precision': 0.6264178328948877, 'recall': 0.6266272189349112, 'f1-score': 0.617695609166938, 'macro_f1-score': 0.282046351933419, 'balanced_accuracy': 0.30616805380731266, 'mcc': 0.5135697257104934, 'train_loss': 0.9306358101485825}\n",
      "Epoch 8/20\n"
     ]
    },
    {
     "name": "stderr",
     "output_type": "stream",
     "text": [
      "100%|██████████| 536/536 [00:47<00:00, 11.22it/s]\n"
     ]
    },
    {
     "name": "stdout",
     "output_type": "stream",
     "text": [
      "{'val_loss': 1.4879779081861928, 'val_accuracy': 0.6207100591715976, 'precision': 0.6436725336416947, 'recall': 0.6207100591715976, 'f1-score': 0.6229053351178706, 'macro_f1-score': 0.31981201084007355, 'balanced_accuracy': 0.33519073621106343, 'mcc': 0.5152926594449524, 'train_loss': 0.8640607472147737}\n",
      "Epoch 9/20\n"
     ]
    },
    {
     "name": "stderr",
     "output_type": "stream",
     "text": [
      "100%|██████████| 536/536 [00:47<00:00, 11.24it/s]\n"
     ]
    },
    {
     "name": "stdout",
     "output_type": "stream",
     "text": [
      "{'val_loss': 1.5161872472403184, 'val_accuracy': 0.6408284023668639, 'precision': 0.644628392171666, 'recall': 0.6408284023668639, 'f1-score': 0.6325855220658585, 'macro_f1-score': 0.32130805023575953, 'balanced_accuracy': 0.32187011014880845, 'mcc': 0.5271606831815967, 'train_loss': 0.8182968597080725}\n",
      "Epoch 10/20\n"
     ]
    },
    {
     "name": "stderr",
     "output_type": "stream",
     "text": [
      "100%|██████████| 536/536 [00:47<00:00, 11.20it/s]\n"
     ]
    },
    {
     "name": "stdout",
     "output_type": "stream",
     "text": [
      "{'val_loss': 1.4861268561403707, 'val_accuracy': 0.6449704142011834, 'precision': 0.6480846804641833, 'recall': 0.6449704142011834, 'f1-score': 0.6352487744918988, 'macro_f1-score': 0.3198177379446756, 'balanced_accuracy': 0.3289921862780518, 'mcc': 0.5308599635357012, 'train_loss': 0.7639038988402975}\n",
      "Epoch 11/20\n"
     ]
    },
    {
     "name": "stderr",
     "output_type": "stream",
     "text": [
      "100%|██████████| 536/536 [00:47<00:00, 11.21it/s]\n"
     ]
    },
    {
     "name": "stdout",
     "output_type": "stream",
     "text": [
      "{'val_loss': 1.5817809686908182, 'val_accuracy': 0.6195266272189349, 'precision': 0.6479542763476244, 'recall': 0.6195266272189349, 'f1-score': 0.624682615968501, 'macro_f1-score': 0.31771120829932137, 'balanced_accuracy': 0.3384399968413846, 'mcc': 0.5159812835092971, 'train_loss': 0.7457031333791231}\n",
      "Epoch 12/20\n"
     ]
    },
    {
     "name": "stderr",
     "output_type": "stream",
     "text": [
      "100%|██████████| 536/536 [00:47<00:00, 11.19it/s]\n"
     ]
    },
    {
     "name": "stdout",
     "output_type": "stream",
     "text": [
      "{'val_loss': 1.5103998125161764, 'val_accuracy': 0.6242603550295858, 'precision': 0.6545371540780656, 'recall': 0.6242603550295858, 'f1-score': 0.6217585322480104, 'macro_f1-score': 0.33337280438438954, 'balanced_accuracy': 0.3352624909585737, 'mcc': 0.5079135151877691, 'train_loss': 0.7096737620156648}\n",
      "Epoch 13/20\n"
     ]
    },
    {
     "name": "stderr",
     "output_type": "stream",
     "text": [
      "100%|██████████| 536/536 [00:47<00:00, 11.22it/s]\n"
     ]
    },
    {
     "name": "stdout",
     "output_type": "stream",
     "text": [
      "{'val_loss': 1.5477569091994807, 'val_accuracy': 0.6414201183431952, 'precision': 0.6684881042399743, 'recall': 0.6414201183431952, 'f1-score': 0.6376123527261394, 'macro_f1-score': 0.34659745255849905, 'balanced_accuracy': 0.34569905330060285, 'mcc': 0.5251583899706033, 'train_loss': 0.6722523432030384}\n",
      "Epoch 14/20\n"
     ]
    },
    {
     "name": "stderr",
     "output_type": "stream",
     "text": [
      "100%|██████████| 536/536 [00:47<00:00, 11.22it/s]\n"
     ]
    },
    {
     "name": "stdout",
     "output_type": "stream",
     "text": [
      "{'val_loss': 1.5167949770419102, 'val_accuracy': 0.6307692307692307, 'precision': 0.6467994060368977, 'recall': 0.6307692307692307, 'f1-score': 0.6302675838878565, 'macro_f1-score': 0.31975485418539135, 'balanced_accuracy': 0.34308836009058313, 'mcc': 0.5242119612492736, 'train_loss': 0.6407975119316199}\n",
      "Epoch 15/20\n"
     ]
    },
    {
     "name": "stderr",
     "output_type": "stream",
     "text": [
      "100%|██████████| 536/536 [00:47<00:00, 11.21it/s]\n"
     ]
    },
    {
     "name": "stdout",
     "output_type": "stream",
     "text": [
      "{'val_loss': 1.6004094880706858, 'val_accuracy': 0.6396449704142012, 'precision': 0.63563229941629, 'recall': 0.6396449704142012, 'f1-score': 0.6292783334425868, 'macro_f1-score': 0.3215776294684147, 'balanced_accuracy': 0.33603538265122845, 'mcc': 0.5238057390665443, 'train_loss': 0.6272791159311448}\n",
      "Epoch 16/20\n"
     ]
    },
    {
     "name": "stderr",
     "output_type": "stream",
     "text": [
      "100%|██████████| 536/536 [00:47<00:00, 11.23it/s]\n"
     ]
    },
    {
     "name": "stdout",
     "output_type": "stream",
     "text": [
      "{'val_loss': 1.5591883293862612, 'val_accuracy': 0.6461538461538462, 'precision': 0.6489269196614426, 'recall': 0.6461538461538462, 'f1-score': 0.6362538698148503, 'macro_f1-score': 0.3399797049524141, 'balanced_accuracy': 0.3570948615509112, 'mcc': 0.5345637747661388, 'train_loss': 0.6176142356872781}\n",
      "Early stopping.\n",
      "\n",
      " === bert-base-uncased + lstm + sbert Final 5-fold Cross-Validation Results ===\n",
      "Total time: 13335 seconds\n",
      "Total time: 3 hrs 42 mins 15 secs\n",
      "val_loss: 1.5197\n",
      "val_accuracy: 0.6518\n",
      "precision: 0.6678\n",
      "recall: 0.6518\n",
      "f1-score: 0.6453\n",
      "macro_f1-score: 0.3893\n",
      "balanced_accuracy: 0.4004\n",
      "mcc: 0.5444\n",
      "train_loss: 0.6749\n",
      "▶ Running: bert-base-uncased + cnn + sbert\n",
      "tokenizer is bert-base-uncased\n",
      "Using device: cuda\n",
      "CUDA Available: True\n",
      "CUDA Device: NVIDIA GeForce RTX 5070 Ti\n",
      "Current GPU Memory Allocated: 0.11 GB\n",
      "Current GPU Memory Cached: 3.24 GB\n",
      "\n",
      "[Fold 1]\n",
      "🚀 Using SBERT for data augmentation\n",
      "Using device: cuda\n",
      "CUDA Available: True\n",
      "CUDA Device: NVIDIA GeForce RTX 5070 Ti\n",
      "Current GPU Memory Allocated: 0.20 GB\n",
      "Current GPU Memory Cached: 3.24 GB\n",
      "Model device: cuda:0\n",
      "🔧 Augmenting label 1: 25 → 200 (+175)\n",
      "🔧 Augmenting label 2: 112 → 200 (+88)\n",
      "🔧 Augmenting label 3: 24 → 200 (+176)\n",
      "🔧 Augmenting label 5: 116 → 200 (+84)\n",
      "🔧 Augmenting label 6: 95 → 200 (+105)\n",
      "🔧 Augmenting label 7: 31 → 200 (+169)\n",
      "🔧 Augmenting label 8: 68 → 200 (+132)\n",
      "🔧 Augmenting label 9: 65 → 200 (+135)\n",
      "🔧 Augmenting label 10: 70 → 200 (+130)\n",
      "🔧 Augmenting label 11: 172 → 200 (+28)\n",
      "🔧 Augmenting label 12: 193 → 200 (+7)\n",
      "🔧 Augmenting label 13: 29 → 200 (+171)\n",
      "🔧 Augmenting label 14: 23 → 200 (+177)\n",
      "🔧 Augmenting label 15: 25 → 200 (+175)\n",
      "🔧 Augmenting label 16: 20 → 200 (+180)\n",
      "🔧 Augmenting label 18: 93 → 200 (+107)\n",
      "🔧 Augmenting label 19: 45 → 200 (+155)\n",
      "🔧 Augmenting label 20: 14 → 200 (+186)\n",
      "🔧 Augmenting label 21: 35 → 200 (+165)\n",
      "🔧 Augmenting label 22: 78 → 200 (+122)\n",
      "🔧 Augmenting label 23: 160 → 200 (+40)\n",
      "🔧 Augmenting label 24: 16 → 200 (+184)\n",
      "🔧 Augmenting label 25: 50 → 200 (+150)\n",
      "🔧 Augmenting label 26: 86 → 200 (+114)\n",
      "🔧 Augmenting label 27: 49 → 200 (+151)\n",
      "🔧 Augmenting label 28: 12 → 200 (+188)\n",
      "🔧 Augmenting label 29: 13 → 200 (+187)\n",
      "🔧 Augmenting label 30: 15 → 200 (+185)\n",
      "🔧 Augmenting label 31: 80 → 200 (+120)\n",
      "🔧 Augmenting label 32: 36 → 200 (+164)\n",
      "🔧 Augmenting label 33: 32 → 200 (+168)\n",
      "🔧 Augmenting label 34: 30 → 200 (+170)\n",
      "🔧 Augmenting label 35: 12 → 200 (+188)\n",
      "🔧 Augmenting label 36: 28 → 200 (+172)\n",
      "🔧 Augmenting label 37: 21 → 200 (+179)\n",
      "🔧 Augmenting label 38: 6 → 200 (+194)\n",
      "🔧 Augmenting label 39: 103 → 200 (+97)\n",
      "🔧 Augmenting label 40: 12 → 200 (+188)\n",
      "🔧 Augmenting label 41: 8 → 200 (+192)\n",
      "🔧 Augmenting label 42: 147 → 200 (+53)\n",
      "🔧 Augmenting label 43: 16 → 200 (+184)\n",
      "🔧 Augmenting label 44: 20 → 200 (+180)\n",
      "🔧 Augmenting label 45: 9 → 200 (+191)\n",
      "🔧 Augmenting label 46: 54 → 200 (+146)\n",
      "🔧 Augmenting label 49: 69 → 200 (+131)\n",
      "Label distribution after resampling:\n",
      "  label 0: 3179\n",
      "  label 1: 105\n",
      "  label 2: 200\n",
      "  label 3: 26\n",
      "  label 4: 205\n",
      "  label 5: 164\n",
      "  label 6: 163\n",
      "  label 7: 38\n",
      "  label 8: 74\n",
      "  label 9: 200\n",
      "  label 10: 117\n",
      "  label 11: 200\n",
      "  label 12: 200\n",
      "  label 13: 33\n",
      "  label 14: 23\n",
      "  label 15: 28\n",
      "  label 16: 67\n",
      "  label 17: 231\n",
      "  label 18: 116\n",
      "  label 19: 74\n",
      "  label 20: 42\n",
      "  label 21: 45\n",
      "  label 22: 106\n",
      "  label 23: 200\n",
      "  label 24: 59\n",
      "  label 25: 145\n",
      "  label 26: 123\n",
      "  label 27: 87\n",
      "  label 28: 44\n",
      "  label 29: 16\n",
      "  label 30: 82\n",
      "  label 31: 185\n",
      "  label 32: 44\n",
      "  label 33: 39\n",
      "  label 34: 33\n",
      "  label 35: 22\n",
      "  label 36: 120\n",
      "  label 37: 120\n",
      "  label 38: 24\n",
      "  label 39: 200\n",
      "  label 40: 33\n",
      "  label 41: 24\n",
      "  label 42: 200\n",
      "  label 43: 113\n",
      "  label 44: 33\n",
      "  label 45: 16\n",
      "  label 46: 138\n",
      "  label 47: 529\n",
      "  label 48: 202\n",
      "  label 49: 111\n",
      "model is bert-base-uncased cnn\n",
      "Epoch 1/20\n"
     ]
    },
    {
     "name": "stderr",
     "output_type": "stream",
     "text": [
      "100%|██████████| 537/537 [00:46<00:00, 11.67it/s]\n"
     ]
    },
    {
     "name": "stdout",
     "output_type": "stream",
     "text": [
      "{'val_loss': 1.5105738378358338, 'val_accuracy': 0.5955056179775281, 'precision': 0.5750775001489127, 'recall': 0.5955056179775281, 'f1-score': 0.5421516612492072, 'macro_f1-score': 0.1820879673516982, 'balanced_accuracy': 0.19791615207979096, 'mcc': 0.4411225715324731, 'train_loss': 2.142000730199743}\n",
      "Epoch 2/20\n"
     ]
    },
    {
     "name": "stderr",
     "output_type": "stream",
     "text": [
      "100%|██████████| 537/537 [00:45<00:00, 11.73it/s]\n"
     ]
    },
    {
     "name": "stdout",
     "output_type": "stream",
     "text": [
      "{'val_loss': 1.3192536482271158, 'val_accuracy': 0.6528681253696038, 'precision': 0.6193430724164064, 'recall': 0.6528681253696038, 'f1-score': 0.6164997326271907, 'macro_f1-score': 0.2730243526132252, 'balanced_accuracy': 0.2880005151462132, 'mcc': 0.5360580580734932, 'train_loss': 1.4836687283586967}\n",
      "Epoch 3/20\n"
     ]
    },
    {
     "name": "stderr",
     "output_type": "stream",
     "text": [
      "100%|██████████| 537/537 [00:45<00:00, 11.73it/s]\n"
     ]
    },
    {
     "name": "stdout",
     "output_type": "stream",
     "text": [
      "{'val_loss': 1.2778075064690608, 'val_accuracy': 0.6499112950916618, 'precision': 0.6541278288191195, 'recall': 0.6499112950916618, 'f1-score': 0.6348052010073746, 'macro_f1-score': 0.3458673002534281, 'balanced_accuracy': 0.3510884334899814, 'mcc': 0.5342921123050168, 'train_loss': 1.1778945709185005}\n",
      "Epoch 4/20\n"
     ]
    },
    {
     "name": "stderr",
     "output_type": "stream",
     "text": [
      "100%|██████████| 537/537 [00:45<00:00, 11.73it/s]\n"
     ]
    },
    {
     "name": "stdout",
     "output_type": "stream",
     "text": [
      "{'val_loss': 1.344730609711611, 'val_accuracy': 0.6392667060910704, 'precision': 0.6382325426049202, 'recall': 0.6392667060910704, 'f1-score': 0.6255727515319428, 'macro_f1-score': 0.33263940941797254, 'balanced_accuracy': 0.34710340687039265, 'mcc': 0.5253633095324016, 'train_loss': 0.9553737498306474}\n",
      "Epoch 5/20\n"
     ]
    },
    {
     "name": "stderr",
     "output_type": "stream",
     "text": [
      "100%|██████████| 537/537 [00:45<00:00, 11.71it/s]\n"
     ]
    },
    {
     "name": "stdout",
     "output_type": "stream",
     "text": [
      "{'val_loss': 1.382541372247462, 'val_accuracy': 0.638675340035482, 'precision': 0.6505674154580348, 'recall': 0.638675340035482, 'f1-score': 0.6249369457215279, 'macro_f1-score': 0.35207381221376094, 'balanced_accuracy': 0.3715095326479229, 'mcc': 0.5220676687285691, 'train_loss': 0.8018669891179829}\n",
      "Epoch 6/20\n"
     ]
    },
    {
     "name": "stderr",
     "output_type": "stream",
     "text": [
      "100%|██████████| 537/537 [00:45<00:00, 11.73it/s]\n"
     ]
    },
    {
     "name": "stdout",
     "output_type": "stream",
     "text": [
      "{'val_loss': 1.4076336442299608, 'val_accuracy': 0.6652868125369604, 'precision': 0.6470604687704125, 'recall': 0.6652868125369604, 'f1-score': 0.6444518007056268, 'macro_f1-score': 0.38341177037046875, 'balanced_accuracy': 0.38893873069336876, 'mcc': 0.5489116192601211, 'train_loss': 0.7091977516643606}\n",
      "Epoch 7/20\n"
     ]
    },
    {
     "name": "stderr",
     "output_type": "stream",
     "text": [
      "100%|██████████| 537/537 [00:45<00:00, 11.73it/s]\n"
     ]
    },
    {
     "name": "stdout",
     "output_type": "stream",
     "text": [
      "{'val_loss': 1.4577409393101368, 'val_accuracy': 0.6605558840922531, 'precision': 0.6586259163691446, 'recall': 0.6605558840922531, 'f1-score': 0.6409970728813238, 'macro_f1-score': 0.3916061351612402, 'balanced_accuracy': 0.39770851910345995, 'mcc': 0.5440390423355085, 'train_loss': 0.6455553761463148}\n",
      "Epoch 8/20\n"
     ]
    },
    {
     "name": "stderr",
     "output_type": "stream",
     "text": [
      "100%|██████████| 537/537 [00:45<00:00, 11.73it/s]\n"
     ]
    },
    {
     "name": "stdout",
     "output_type": "stream",
     "text": [
      "{'val_loss': 1.4450656155932624, 'val_accuracy': 0.6605558840922531, 'precision': 0.6722449072613564, 'recall': 0.6605558840922531, 'f1-score': 0.6502066693944762, 'macro_f1-score': 0.40476935448764934, 'balanced_accuracy': 0.39599819844043316, 'mcc': 0.5456893692315588, 'train_loss': 0.613530950131696}\n",
      "Epoch 9/20\n"
     ]
    },
    {
     "name": "stderr",
     "output_type": "stream",
     "text": [
      "100%|██████████| 537/537 [00:45<00:00, 11.74it/s]\n"
     ]
    },
    {
     "name": "stdout",
     "output_type": "stream",
     "text": [
      "{'val_loss': 1.5185903527264326, 'val_accuracy': 0.6398580721466588, 'precision': 0.6430895087069955, 'recall': 0.6398580721466588, 'f1-score': 0.6285534535523756, 'macro_f1-score': 0.38628479344576916, 'balanced_accuracy': 0.39466709563441965, 'mcc': 0.518046325694138, 'train_loss': 0.5914365116860614}\n",
      "Epoch 10/20\n"
     ]
    },
    {
     "name": "stderr",
     "output_type": "stream",
     "text": [
      "100%|██████████| 537/537 [00:45<00:00, 11.72it/s]\n"
     ]
    },
    {
     "name": "stdout",
     "output_type": "stream",
     "text": [
      "{'val_loss': 1.553017056775543, 'val_accuracy': 0.654642223536369, 'precision': 0.671987973588825, 'recall': 0.654642223536369, 'f1-score': 0.6436443370407893, 'macro_f1-score': 0.4244773464880733, 'balanced_accuracy': 0.4251772569264981, 'mcc': 0.5434383065854824, 'train_loss': 0.5753444096817526}\n",
      "Epoch 11/20\n"
     ]
    },
    {
     "name": "stderr",
     "output_type": "stream",
     "text": [
      "100%|██████████| 537/537 [00:45<00:00, 11.72it/s]\n"
     ]
    },
    {
     "name": "stdout",
     "output_type": "stream",
     "text": [
      "{'val_loss': 1.5709185389415272, 'val_accuracy': 0.667652276759314, 'precision': 0.6569264744054468, 'recall': 0.667652276759314, 'f1-score': 0.6553847580474402, 'macro_f1-score': 0.4113862967304791, 'balanced_accuracy': 0.4191000577001153, 'mcc': 0.5578795494912749, 'train_loss': 0.5512723028521076}\n",
      "Epoch 12/20\n"
     ]
    },
    {
     "name": "stderr",
     "output_type": "stream",
     "text": [
      "100%|██████████| 537/537 [00:45<00:00, 11.73it/s]\n"
     ]
    },
    {
     "name": "stdout",
     "output_type": "stream",
     "text": [
      "{'val_loss': 1.5790371959501843, 'val_accuracy': 0.631578947368421, 'precision': 0.6714610014169751, 'recall': 0.631578947368421, 'f1-score': 0.6369983066714989, 'macro_f1-score': 0.41323889217935317, 'balanced_accuracy': 0.4235319991222513, 'mcc': 0.5269587786826985, 'train_loss': 0.5340681936612676}\n",
      "Epoch 13/20\n"
     ]
    },
    {
     "name": "stderr",
     "output_type": "stream",
     "text": [
      "100%|██████████| 537/537 [00:45<00:00, 11.72it/s]\n"
     ]
    },
    {
     "name": "stdout",
     "output_type": "stream",
     "text": [
      "{'val_loss': 1.6418076714254775, 'val_accuracy': 0.6428149024246008, 'precision': 0.6582941714434043, 'recall': 0.6428149024246008, 'f1-score': 0.6410617364072972, 'macro_f1-score': 0.38609530459743197, 'balanced_accuracy': 0.39795708683971576, 'mcc': 0.5341377611170475, 'train_loss': 0.5474228863803812}\n",
      "Early stopping.\n",
      "\n",
      "[Fold 2]\n",
      "🚀 Using SBERT for data augmentation\n",
      "Using device: cuda\n",
      "CUDA Available: True\n",
      "CUDA Device: NVIDIA GeForce RTX 5070 Ti\n",
      "Current GPU Memory Allocated: 1.97 GB\n",
      "Current GPU Memory Cached: 3.25 GB\n",
      "Model device: cuda:0\n",
      "🔧 Augmenting label 1: 25 → 200 (+175)\n",
      "🔧 Augmenting label 2: 112 → 200 (+88)\n",
      "🔧 Augmenting label 3: 24 → 200 (+176)\n",
      "🔧 Augmenting label 5: 116 → 200 (+84)\n",
      "🔧 Augmenting label 6: 94 → 200 (+106)\n",
      "🔧 Augmenting label 7: 31 → 200 (+169)\n",
      "🔧 Augmenting label 8: 68 → 200 (+132)\n",
      "🔧 Augmenting label 9: 65 → 200 (+135)\n",
      "🔧 Augmenting label 10: 70 → 200 (+130)\n",
      "🔧 Augmenting label 11: 172 → 200 (+28)\n",
      "🔧 Augmenting label 12: 193 → 200 (+7)\n",
      "🔧 Augmenting label 13: 29 → 200 (+171)\n",
      "🔧 Augmenting label 14: 23 → 200 (+177)\n",
      "🔧 Augmenting label 15: 25 → 200 (+175)\n",
      "🔧 Augmenting label 16: 20 → 200 (+180)\n",
      "🔧 Augmenting label 18: 93 → 200 (+107)\n",
      "🔧 Augmenting label 19: 45 → 200 (+155)\n",
      "🔧 Augmenting label 20: 14 → 200 (+186)\n",
      "🔧 Augmenting label 21: 35 → 200 (+165)\n",
      "🔧 Augmenting label 22: 78 → 200 (+122)\n",
      "🔧 Augmenting label 23: 160 → 200 (+40)\n",
      "🔧 Augmenting label 24: 16 → 200 (+184)\n",
      "🔧 Augmenting label 25: 50 → 200 (+150)\n",
      "🔧 Augmenting label 26: 86 → 200 (+114)\n",
      "🔧 Augmenting label 27: 49 → 200 (+151)\n",
      "🔧 Augmenting label 28: 12 → 200 (+188)\n",
      "🔧 Augmenting label 29: 13 → 200 (+187)\n",
      "🔧 Augmenting label 30: 15 → 200 (+185)\n",
      "🔧 Augmenting label 31: 80 → 200 (+120)\n",
      "🔧 Augmenting label 32: 36 → 200 (+164)\n",
      "🔧 Augmenting label 33: 32 → 200 (+168)\n",
      "🔧 Augmenting label 34: 30 → 200 (+170)\n",
      "🔧 Augmenting label 35: 12 → 200 (+188)\n",
      "🔧 Augmenting label 36: 28 → 200 (+172)\n",
      "🔧 Augmenting label 37: 22 → 200 (+178)\n",
      "🔧 Augmenting label 38: 5 → 200 (+195)\n",
      "🔧 Augmenting label 39: 103 → 200 (+97)\n",
      "🔧 Augmenting label 40: 11 → 200 (+189)\n",
      "🔧 Augmenting label 41: 9 → 200 (+191)\n",
      "🔧 Augmenting label 42: 147 → 200 (+53)\n",
      "🔧 Augmenting label 43: 16 → 200 (+184)\n",
      "🔧 Augmenting label 44: 20 → 200 (+180)\n",
      "🔧 Augmenting label 45: 9 → 200 (+191)\n",
      "🔧 Augmenting label 46: 55 → 200 (+145)\n",
      "🔧 Augmenting label 49: 69 → 200 (+131)\n",
      "Label distribution after resampling:\n",
      "  label 0: 3179\n",
      "  label 1: 119\n",
      "  label 2: 200\n",
      "  label 3: 25\n",
      "  label 4: 206\n",
      "  label 5: 144\n",
      "  label 6: 177\n",
      "  label 7: 35\n",
      "  label 8: 80\n",
      "  label 9: 200\n",
      "  label 10: 95\n",
      "  label 11: 200\n",
      "  label 12: 200\n",
      "  label 13: 33\n",
      "  label 14: 23\n",
      "  label 15: 28\n",
      "  label 16: 69\n",
      "  label 17: 231\n",
      "  label 18: 117\n",
      "  label 19: 70\n",
      "  label 20: 52\n",
      "  label 21: 41\n",
      "  label 22: 130\n",
      "  label 23: 200\n",
      "  label 24: 60\n",
      "  label 25: 160\n",
      "  label 26: 122\n",
      "  label 27: 93\n",
      "  label 28: 29\n",
      "  label 29: 13\n",
      "  label 30: 79\n",
      "  label 31: 174\n",
      "  label 32: 37\n",
      "  label 33: 38\n",
      "  label 34: 31\n",
      "  label 35: 24\n",
      "  label 36: 95\n",
      "  label 37: 116\n",
      "  label 38: 23\n",
      "  label 39: 200\n",
      "  label 40: 32\n",
      "  label 41: 24\n",
      "  label 42: 200\n",
      "  label 43: 129\n",
      "  label 44: 30\n",
      "  label 45: 20\n",
      "  label 46: 111\n",
      "  label 47: 528\n",
      "  label 48: 202\n",
      "  label 49: 109\n",
      "model is bert-base-uncased cnn\n",
      "Epoch 1/20\n"
     ]
    },
    {
     "name": "stderr",
     "output_type": "stream",
     "text": [
      "100%|██████████| 534/534 [00:45<00:00, 11.73it/s]\n"
     ]
    },
    {
     "name": "stdout",
     "output_type": "stream",
     "text": [
      "{'val_loss': 1.535778839070842, 'val_accuracy': 0.6085156712004731, 'precision': 0.5473508871966689, 'recall': 0.6085156712004731, 'f1-score': 0.5508285651923888, 'macro_f1-score': 0.20286455642902684, 'balanced_accuracy': 0.2166722509823555, 'mcc': 0.463777013420611, 'train_loss': 2.1443280728345506}\n",
      "Epoch 2/20\n"
     ]
    },
    {
     "name": "stderr",
     "output_type": "stream",
     "text": [
      "100%|██████████| 534/534 [00:45<00:00, 11.72it/s]\n"
     ]
    },
    {
     "name": "stdout",
     "output_type": "stream",
     "text": [
      "{'val_loss': 1.3518995431796559, 'val_accuracy': 0.6404494382022472, 'precision': 0.5782905254317826, 'recall': 0.6404494382022472, 'f1-score': 0.591125583915427, 'macro_f1-score': 0.22737509519584567, 'balanced_accuracy': 0.23334992556253262, 'mcc': 0.5063964599131692, 'train_loss': 1.5015265413103032}\n",
      "Epoch 3/20\n"
     ]
    },
    {
     "name": "stderr",
     "output_type": "stream",
     "text": [
      "100%|██████████| 534/534 [00:45<00:00, 11.73it/s]\n"
     ]
    },
    {
     "name": "stdout",
     "output_type": "stream",
     "text": [
      "{'val_loss': 1.349430725259601, 'val_accuracy': 0.6374926079243052, 'precision': 0.6364455843273735, 'recall': 0.6374926079243052, 'f1-score': 0.6224710418029796, 'macro_f1-score': 0.3408746274792282, 'balanced_accuracy': 0.36301884640751436, 'mcc': 0.5242274201896493, 'train_loss': 1.1934027184038127}\n",
      "Epoch 4/20\n"
     ]
    },
    {
     "name": "stderr",
     "output_type": "stream",
     "text": [
      "100%|██████████| 534/534 [00:45<00:00, 11.72it/s]\n"
     ]
    },
    {
     "name": "stdout",
     "output_type": "stream",
     "text": [
      "{'val_loss': 1.2766889457432729, 'val_accuracy': 0.6475458308693081, 'precision': 0.653205198932177, 'recall': 0.6475458308693081, 'f1-score': 0.6389510438871333, 'macro_f1-score': 0.37154177543815287, 'balanced_accuracy': 0.3975339471141845, 'mcc': 0.5326522119682996, 'train_loss': 0.9753402145614338}\n",
      "Epoch 5/20\n"
     ]
    },
    {
     "name": "stderr",
     "output_type": "stream",
     "text": [
      "100%|██████████| 534/534 [00:45<00:00, 11.72it/s]\n"
     ]
    },
    {
     "name": "stdout",
     "output_type": "stream",
     "text": [
      "{'val_loss': 1.3957248526924062, 'val_accuracy': 0.6392667060910704, 'precision': 0.6614499860445174, 'recall': 0.6392667060910704, 'f1-score': 0.6384501404104589, 'macro_f1-score': 0.3777740940756694, 'balanced_accuracy': 0.40512015912714583, 'mcc': 0.5353326624816838, 'train_loss': 0.8199513774462853}\n",
      "Epoch 6/20\n"
     ]
    },
    {
     "name": "stderr",
     "output_type": "stream",
     "text": [
      "100%|██████████| 534/534 [00:45<00:00, 11.73it/s]\n"
     ]
    },
    {
     "name": "stdout",
     "output_type": "stream",
     "text": [
      "{'val_loss': 1.4034137377199136, 'val_accuracy': 0.6439976345357776, 'precision': 0.6517183737525672, 'recall': 0.6439976345357776, 'f1-score': 0.6389204703090123, 'macro_f1-score': 0.3740019846206675, 'balanced_accuracy': 0.39973614870110546, 'mcc': 0.5337709589559174, 'train_loss': 0.7106633897354541}\n",
      "Epoch 7/20\n"
     ]
    },
    {
     "name": "stderr",
     "output_type": "stream",
     "text": [
      "100%|██████████| 534/534 [00:45<00:00, 11.71it/s]\n"
     ]
    },
    {
     "name": "stdout",
     "output_type": "stream",
     "text": [
      "{'val_loss': 1.4386373870777633, 'val_accuracy': 0.644589000591366, 'precision': 0.6539368831493286, 'recall': 0.644589000591366, 'f1-score': 0.6382466020314843, 'macro_f1-score': 0.3998809500643135, 'balanced_accuracy': 0.40620994408337147, 'mcc': 0.5316005005807388, 'train_loss': 0.6530578134420995}\n",
      "Epoch 8/20\n"
     ]
    },
    {
     "name": "stderr",
     "output_type": "stream",
     "text": [
      "100%|██████████| 534/534 [00:45<00:00, 11.74it/s]\n"
     ]
    },
    {
     "name": "stdout",
     "output_type": "stream",
     "text": [
      "{'val_loss': 1.484070379216716, 'val_accuracy': 0.6605558840922531, 'precision': 0.6535184295920587, 'recall': 0.6605558840922531, 'f1-score': 0.6471119716528679, 'macro_f1-score': 0.39756119583546884, 'balanced_accuracy': 0.40719708895271794, 'mcc': 0.5446086122277197, 'train_loss': 0.618771135723323}\n",
      "Epoch 9/20\n"
     ]
    },
    {
     "name": "stderr",
     "output_type": "stream",
     "text": [
      "100%|██████████| 534/534 [00:45<00:00, 11.72it/s]\n"
     ]
    },
    {
     "name": "stdout",
     "output_type": "stream",
     "text": [
      "{'val_loss': 1.5368477007690466, 'val_accuracy': 0.6232998225901834, 'precision': 0.6499626691211432, 'recall': 0.6232998225901834, 'f1-score': 0.6249792160072932, 'macro_f1-score': 0.387462544351003, 'balanced_accuracy': 0.42036029458951885, 'mcc': 0.514785903539927, 'train_loss': 0.5834841375075253}\n",
      "Epoch 10/20\n"
     ]
    },
    {
     "name": "stderr",
     "output_type": "stream",
     "text": [
      "100%|██████████| 534/534 [00:45<00:00, 11.73it/s]\n"
     ]
    },
    {
     "name": "stdout",
     "output_type": "stream",
     "text": [
      "{'val_loss': 1.5183102272029192, 'val_accuracy': 0.6540508574807806, 'precision': 0.6631006484844546, 'recall': 0.6540508574807806, 'f1-score': 0.6518918393399914, 'macro_f1-score': 0.40261043026034593, 'balanced_accuracy': 0.4353469083949949, 'mcc': 0.5510474790348833, 'train_loss': 0.5832855420654521}\n",
      "Epoch 11/20\n"
     ]
    },
    {
     "name": "stderr",
     "output_type": "stream",
     "text": [
      "100%|██████████| 534/534 [00:45<00:00, 11.72it/s]\n"
     ]
    },
    {
     "name": "stdout",
     "output_type": "stream",
     "text": [
      "{'val_loss': 1.6239991893745818, 'val_accuracy': 0.6641040804257835, 'precision': 0.6561239893937019, 'recall': 0.6641040804257835, 'f1-score': 0.6485106328493697, 'macro_f1-score': 0.38059169528921216, 'balanced_accuracy': 0.388532489169963, 'mcc': 0.5519803506789247, 'train_loss': 0.5673513358130995}\n",
      "Epoch 12/20\n"
     ]
    },
    {
     "name": "stderr",
     "output_type": "stream",
     "text": [
      "100%|██████████| 534/534 [00:45<00:00, 11.73it/s]\n"
     ]
    },
    {
     "name": "stdout",
     "output_type": "stream",
     "text": [
      "{'val_loss': 1.6385122849693838, 'val_accuracy': 0.6522767593140154, 'precision': 0.6700689248673765, 'recall': 0.6522767593140154, 'f1-score': 0.6440910575027474, 'macro_f1-score': 0.3935868034329511, 'balanced_accuracy': 0.42876392500114235, 'mcc': 0.5411302064318863, 'train_loss': 0.5523593541137065}\n",
      "Epoch 13/20\n"
     ]
    },
    {
     "name": "stderr",
     "output_type": "stream",
     "text": [
      "100%|██████████| 534/534 [00:45<00:00, 11.73it/s]\n"
     ]
    },
    {
     "name": "stdout",
     "output_type": "stream",
     "text": [
      "{'val_loss': 1.6881886192087858, 'val_accuracy': 0.6351271437019516, 'precision': 0.6568764680396408, 'recall': 0.6351271437019516, 'f1-score': 0.6345706617550341, 'macro_f1-score': 0.3826037931217188, 'balanced_accuracy': 0.411641449105082, 'mcc': 0.5269731596704116, 'train_loss': 0.545113957567273}\n",
      "Early stopping.\n",
      "\n",
      "[Fold 3]\n",
      "🚀 Using SBERT for data augmentation\n",
      "Using device: cuda\n",
      "CUDA Available: True\n",
      "CUDA Device: NVIDIA GeForce RTX 5070 Ti\n",
      "Current GPU Memory Allocated: 1.97 GB\n",
      "Current GPU Memory Cached: 3.25 GB\n",
      "Model device: cuda:0\n",
      "🔧 Augmenting label 1: 25 → 200 (+175)\n",
      "🔧 Augmenting label 2: 112 → 200 (+88)\n",
      "🔧 Augmenting label 3: 24 → 200 (+176)\n",
      "🔧 Augmenting label 5: 116 → 200 (+84)\n",
      "🔧 Augmenting label 6: 94 → 200 (+106)\n",
      "🔧 Augmenting label 7: 31 → 200 (+169)\n",
      "🔧 Augmenting label 8: 68 → 200 (+132)\n",
      "🔧 Augmenting label 9: 65 → 200 (+135)\n",
      "🔧 Augmenting label 10: 71 → 200 (+129)\n",
      "🔧 Augmenting label 11: 172 → 200 (+28)\n",
      "🔧 Augmenting label 12: 192 → 200 (+8)\n",
      "🔧 Augmenting label 13: 29 → 200 (+171)\n",
      "🔧 Augmenting label 14: 23 → 200 (+177)\n",
      "🔧 Augmenting label 15: 25 → 200 (+175)\n",
      "🔧 Augmenting label 16: 20 → 200 (+180)\n",
      "🔧 Augmenting label 18: 93 → 200 (+107)\n",
      "🔧 Augmenting label 19: 45 → 200 (+155)\n",
      "🔧 Augmenting label 20: 14 → 200 (+186)\n",
      "🔧 Augmenting label 21: 36 → 200 (+164)\n",
      "🔧 Augmenting label 22: 77 → 200 (+123)\n",
      "🔧 Augmenting label 23: 160 → 200 (+40)\n",
      "🔧 Augmenting label 24: 16 → 200 (+184)\n",
      "🔧 Augmenting label 25: 51 → 200 (+149)\n",
      "🔧 Augmenting label 26: 85 → 200 (+115)\n",
      "🔧 Augmenting label 27: 49 → 200 (+151)\n",
      "🔧 Augmenting label 28: 12 → 200 (+188)\n",
      "🔧 Augmenting label 29: 12 → 200 (+188)\n",
      "🔧 Augmenting label 30: 16 → 200 (+184)\n",
      "🔧 Augmenting label 31: 80 → 200 (+120)\n",
      "🔧 Augmenting label 32: 36 → 200 (+164)\n",
      "🔧 Augmenting label 33: 32 → 200 (+168)\n",
      "🔧 Augmenting label 34: 29 → 200 (+171)\n",
      "🔧 Augmenting label 35: 12 → 200 (+188)\n",
      "🔧 Augmenting label 36: 28 → 200 (+172)\n",
      "🔧 Augmenting label 37: 22 → 200 (+178)\n",
      "🔧 Augmenting label 38: 5 → 200 (+195)\n",
      "🔧 Augmenting label 39: 103 → 200 (+97)\n",
      "🔧 Augmenting label 40: 11 → 200 (+189)\n",
      "🔧 Augmenting label 41: 9 → 200 (+191)\n",
      "🔧 Augmenting label 42: 147 → 200 (+53)\n",
      "🔧 Augmenting label 43: 16 → 200 (+184)\n",
      "🔧 Augmenting label 44: 20 → 200 (+180)\n",
      "🔧 Augmenting label 45: 9 → 200 (+191)\n",
      "🔧 Augmenting label 46: 55 → 200 (+145)\n",
      "🔧 Augmenting label 49: 70 → 200 (+130)\n",
      "Label distribution after resampling:\n",
      "  label 0: 3179\n",
      "  label 1: 109\n",
      "  label 2: 200\n",
      "  label 3: 26\n",
      "  label 4: 206\n",
      "  label 5: 171\n",
      "  label 6: 180\n",
      "  label 7: 32\n",
      "  label 8: 88\n",
      "  label 9: 200\n",
      "  label 10: 114\n",
      "  label 11: 200\n",
      "  label 12: 200\n",
      "  label 13: 29\n",
      "  label 14: 23\n",
      "  label 15: 29\n",
      "  label 16: 64\n",
      "  label 17: 231\n",
      "  label 18: 117\n",
      "  label 19: 72\n",
      "  label 20: 40\n",
      "  label 21: 45\n",
      "  label 22: 118\n",
      "  label 23: 200\n",
      "  label 24: 61\n",
      "  label 25: 142\n",
      "  label 26: 121\n",
      "  label 27: 88\n",
      "  label 28: 33\n",
      "  label 29: 15\n",
      "  label 30: 97\n",
      "  label 31: 170\n",
      "  label 32: 43\n",
      "  label 33: 36\n",
      "  label 34: 33\n",
      "  label 35: 26\n",
      "  label 36: 110\n",
      "  label 37: 118\n",
      "  label 38: 17\n",
      "  label 39: 200\n",
      "  label 40: 32\n",
      "  label 41: 25\n",
      "  label 42: 200\n",
      "  label 43: 99\n",
      "  label 44: 25\n",
      "  label 45: 17\n",
      "  label 46: 120\n",
      "  label 47: 529\n",
      "  label 48: 201\n",
      "  label 49: 117\n",
      "model is bert-base-uncased cnn\n",
      "Epoch 1/20\n"
     ]
    },
    {
     "name": "stderr",
     "output_type": "stream",
     "text": [
      "100%|██████████| 535/535 [00:45<00:00, 11.72it/s]\n"
     ]
    },
    {
     "name": "stdout",
     "output_type": "stream",
     "text": [
      "{'val_loss': 1.5626493928567418, 'val_accuracy': 0.5795387344766411, 'precision': 0.5067980708551117, 'recall': 0.5795387344766411, 'f1-score': 0.5027557725834111, 'macro_f1-score': 0.1649836785342064, 'balanced_accuracy': 0.19336942726613204, 'mcc': 0.4086375802144714, 'train_loss': 2.2169331799043674}\n",
      "Epoch 2/20\n"
     ]
    },
    {
     "name": "stderr",
     "output_type": "stream",
     "text": [
      "100%|██████████| 535/535 [00:45<00:00, 11.74it/s]\n"
     ]
    },
    {
     "name": "stdout",
     "output_type": "stream",
     "text": [
      "{'val_loss': 1.347875805958262, 'val_accuracy': 0.6173861620342992, 'precision': 0.6057150019841173, 'recall': 0.6173861620342992, 'f1-score': 0.5865020540268577, 'macro_f1-score': 0.25355039757210457, 'balanced_accuracy': 0.2705846178305219, 'mcc': 0.48356690276738706, 'train_loss': 1.5216123061202398}\n",
      "Epoch 3/20\n"
     ]
    },
    {
     "name": "stderr",
     "output_type": "stream",
     "text": [
      "100%|██████████| 535/535 [00:45<00:00, 11.71it/s]\n"
     ]
    },
    {
     "name": "stdout",
     "output_type": "stream",
     "text": [
      "{'val_loss': 1.2700729347624868, 'val_accuracy': 0.6398580721466588, 'precision': 0.6406616033074817, 'recall': 0.6398580721466588, 'f1-score': 0.6208626213124452, 'macro_f1-score': 0.2956168622932119, 'balanced_accuracy': 0.2932265820209777, 'mcc': 0.5153104337883426, 'train_loss': 1.2067089187764677}\n",
      "Epoch 4/20\n"
     ]
    },
    {
     "name": "stderr",
     "output_type": "stream",
     "text": [
      "100%|██████████| 535/535 [00:45<00:00, 11.73it/s]\n"
     ]
    },
    {
     "name": "stdout",
     "output_type": "stream",
     "text": [
      "{'val_loss': 1.2781052564112645, 'val_accuracy': 0.6611472501478415, 'precision': 0.6560526752330912, 'recall': 0.6611472501478415, 'f1-score': 0.637222419084504, 'macro_f1-score': 0.34661084959722444, 'balanced_accuracy': 0.3495405026459337, 'mcc': 0.5461376363622225, 'train_loss': 0.9908676559679976}\n",
      "Epoch 5/20\n"
     ]
    },
    {
     "name": "stderr",
     "output_type": "stream",
     "text": [
      "100%|██████████| 535/535 [00:45<00:00, 11.72it/s]\n"
     ]
    },
    {
     "name": "stdout",
     "output_type": "stream",
     "text": [
      "{'val_loss': 1.3950768658575021, 'val_accuracy': 0.6434062684801892, 'precision': 0.6227314947826768, 'recall': 0.6434062684801892, 'f1-score': 0.6182167020290561, 'macro_f1-score': 0.3343823445163006, 'balanced_accuracy': 0.32699394277197824, 'mcc': 0.5179766456039987, 'train_loss': 0.8519284013832841}\n",
      "Epoch 6/20\n"
     ]
    },
    {
     "name": "stderr",
     "output_type": "stream",
     "text": [
      "100%|██████████| 535/535 [00:45<00:00, 11.73it/s]\n"
     ]
    },
    {
     "name": "stdout",
     "output_type": "stream",
     "text": [
      "{'val_loss': 1.4914197207621809, 'val_accuracy': 0.6380839739798936, 'precision': 0.6182474606549483, 'recall': 0.6380839739798936, 'f1-score': 0.6161700362682668, 'macro_f1-score': 0.34372067626943476, 'balanced_accuracy': 0.34221607395813536, 'mcc': 0.5106613847353229, 'train_loss': 0.7526799047661719}\n",
      "Epoch 7/20\n"
     ]
    },
    {
     "name": "stderr",
     "output_type": "stream",
     "text": [
      "100%|██████████| 535/535 [00:45<00:00, 11.73it/s]\n"
     ]
    },
    {
     "name": "stdout",
     "output_type": "stream",
     "text": [
      "{'val_loss': 1.527672400452056, 'val_accuracy': 0.6292134831460674, 'precision': 0.6335708078649759, 'recall': 0.6292134831460674, 'f1-score': 0.6167953665216291, 'macro_f1-score': 0.3519440719684374, 'balanced_accuracy': 0.36085367130552753, 'mcc': 0.5083792601846564, 'train_loss': 0.6677928293001986}\n",
      "Epoch 8/20\n"
     ]
    },
    {
     "name": "stderr",
     "output_type": "stream",
     "text": [
      "100%|██████████| 535/535 [00:45<00:00, 11.71it/s]\n"
     ]
    },
    {
     "name": "stdout",
     "output_type": "stream",
     "text": [
      "{'val_loss': 1.5326573528208822, 'val_accuracy': 0.6487285629804849, 'precision': 0.6507812812110468, 'recall': 0.6487285629804849, 'f1-score': 0.6351365653822589, 'macro_f1-score': 0.36501708658158805, 'balanced_accuracy': 0.3632628128348202, 'mcc': 0.5301147887422785, 'train_loss': 0.6329376908106225}\n",
      "Epoch 9/20\n"
     ]
    },
    {
     "name": "stderr",
     "output_type": "stream",
     "text": [
      "100%|██████████| 535/535 [00:45<00:00, 11.73it/s]\n"
     ]
    },
    {
     "name": "stdout",
     "output_type": "stream",
     "text": [
      "{'val_loss': 1.592987447414758, 'val_accuracy': 0.6303962152572442, 'precision': 0.6582129737867547, 'recall': 0.6303962152572442, 'f1-score': 0.6305839178030312, 'macro_f1-score': 0.37227377750769786, 'balanced_accuracy': 0.38605043408034867, 'mcc': 0.516977078156301, 'train_loss': 0.5839171573519707}\n",
      "Epoch 10/20\n"
     ]
    },
    {
     "name": "stderr",
     "output_type": "stream",
     "text": [
      "100%|██████████| 535/535 [00:45<00:00, 11.73it/s]\n"
     ]
    },
    {
     "name": "stdout",
     "output_type": "stream",
     "text": [
      "{'val_loss': 1.5711511157031328, 'val_accuracy': 0.625665286812537, 'precision': 0.6511553436706108, 'recall': 0.625665286812537, 'f1-score': 0.6279322336290347, 'macro_f1-score': 0.33922198615907573, 'balanced_accuracy': 0.36017297596996883, 'mcc': 0.515554110841083, 'train_loss': 0.5846449348831845}\n",
      "Epoch 11/20\n"
     ]
    },
    {
     "name": "stderr",
     "output_type": "stream",
     "text": [
      "100%|██████████| 535/535 [00:45<00:00, 11.74it/s]\n"
     ]
    },
    {
     "name": "stdout",
     "output_type": "stream",
     "text": [
      "{'val_loss': 1.6185319803233416, 'val_accuracy': 0.641632170313424, 'precision': 0.6402246769311001, 'recall': 0.641632170313424, 'f1-score': 0.6188033324532057, 'macro_f1-score': 0.3548556569805601, 'balanced_accuracy': 0.3575044351601429, 'mcc': 0.5178871265244775, 'train_loss': 0.5787347604598955}\n",
      "Epoch 12/20\n"
     ]
    },
    {
     "name": "stderr",
     "output_type": "stream",
     "text": [
      "100%|██████████| 535/535 [00:45<00:00, 11.74it/s]\n"
     ]
    },
    {
     "name": "stdout",
     "output_type": "stream",
     "text": [
      "{'val_loss': 1.731338067999426, 'val_accuracy': 0.6587817859254879, 'precision': 0.6447754731153115, 'recall': 0.6587817859254879, 'f1-score': 0.6412674426186697, 'macro_f1-score': 0.36829481559647137, 'balanced_accuracy': 0.355840899684146, 'mcc': 0.5394921615731403, 'train_loss': 0.5546493522056909}\n",
      "Early stopping.\n",
      "\n",
      "[Fold 4]\n",
      "🚀 Using SBERT for data augmentation\n",
      "Using device: cuda\n",
      "CUDA Available: True\n",
      "CUDA Device: NVIDIA GeForce RTX 5070 Ti\n",
      "Current GPU Memory Allocated: 1.98 GB\n",
      "Current GPU Memory Cached: 3.25 GB\n",
      "Model device: cuda:0\n",
      "🔧 Augmenting label 1: 25 → 200 (+175)\n",
      "🔧 Augmenting label 2: 112 → 200 (+88)\n",
      "🔧 Augmenting label 3: 24 → 200 (+176)\n",
      "🔧 Augmenting label 5: 116 → 200 (+84)\n",
      "🔧 Augmenting label 6: 94 → 200 (+106)\n",
      "🔧 Augmenting label 7: 32 → 200 (+168)\n",
      "🔧 Augmenting label 8: 68 → 200 (+132)\n",
      "🔧 Augmenting label 9: 64 → 200 (+136)\n",
      "🔧 Augmenting label 10: 71 → 200 (+129)\n",
      "🔧 Augmenting label 11: 172 → 200 (+28)\n",
      "🔧 Augmenting label 12: 193 → 200 (+7)\n",
      "🔧 Augmenting label 13: 28 → 200 (+172)\n",
      "🔧 Augmenting label 14: 24 → 200 (+176)\n",
      "🔧 Augmenting label 15: 24 → 200 (+176)\n",
      "🔧 Augmenting label 16: 20 → 200 (+180)\n",
      "🔧 Augmenting label 18: 92 → 200 (+108)\n",
      "🔧 Augmenting label 19: 45 → 200 (+155)\n",
      "🔧 Augmenting label 20: 15 → 200 (+185)\n",
      "🔧 Augmenting label 21: 35 → 200 (+165)\n",
      "🔧 Augmenting label 22: 77 → 200 (+123)\n",
      "🔧 Augmenting label 23: 160 → 200 (+40)\n",
      "🔧 Augmenting label 24: 16 → 200 (+184)\n",
      "🔧 Augmenting label 25: 51 → 200 (+149)\n",
      "🔧 Augmenting label 26: 85 → 200 (+115)\n",
      "🔧 Augmenting label 27: 49 → 200 (+151)\n",
      "🔧 Augmenting label 28: 12 → 200 (+188)\n",
      "🔧 Augmenting label 29: 13 → 200 (+187)\n",
      "🔧 Augmenting label 30: 15 → 200 (+185)\n",
      "🔧 Augmenting label 31: 80 → 200 (+120)\n",
      "🔧 Augmenting label 32: 36 → 200 (+164)\n",
      "🔧 Augmenting label 33: 32 → 200 (+168)\n",
      "🔧 Augmenting label 34: 29 → 200 (+171)\n",
      "🔧 Augmenting label 35: 12 → 200 (+188)\n",
      "🔧 Augmenting label 36: 28 → 200 (+172)\n",
      "🔧 Augmenting label 37: 22 → 200 (+178)\n",
      "🔧 Augmenting label 38: 6 → 200 (+194)\n",
      "🔧 Augmenting label 39: 103 → 200 (+97)\n",
      "🔧 Augmenting label 40: 11 → 200 (+189)\n",
      "🔧 Augmenting label 41: 9 → 200 (+191)\n",
      "🔧 Augmenting label 42: 148 → 200 (+52)\n",
      "🔧 Augmenting label 43: 16 → 200 (+184)\n",
      "🔧 Augmenting label 44: 20 → 200 (+180)\n",
      "🔧 Augmenting label 45: 8 → 200 (+192)\n",
      "🔧 Augmenting label 46: 54 → 200 (+146)\n",
      "🔧 Augmenting label 49: 70 → 200 (+130)\n",
      "Label distribution after resampling:\n",
      "  label 0: 3179\n",
      "  label 1: 110\n",
      "  label 2: 200\n",
      "  label 3: 24\n",
      "  label 4: 206\n",
      "  label 5: 163\n",
      "  label 6: 198\n",
      "  label 7: 36\n",
      "  label 8: 84\n",
      "  label 9: 200\n",
      "  label 10: 117\n",
      "  label 11: 200\n",
      "  label 12: 200\n",
      "  label 13: 32\n",
      "  label 14: 24\n",
      "  label 15: 26\n",
      "  label 16: 60\n",
      "  label 17: 232\n",
      "  label 18: 129\n",
      "  label 19: 60\n",
      "  label 20: 52\n",
      "  label 21: 45\n",
      "  label 22: 129\n",
      "  label 23: 200\n",
      "  label 24: 73\n",
      "  label 25: 173\n",
      "  label 26: 121\n",
      "  label 27: 92\n",
      "  label 28: 50\n",
      "  label 29: 14\n",
      "  label 30: 86\n",
      "  label 31: 190\n",
      "  label 32: 45\n",
      "  label 33: 38\n",
      "  label 34: 32\n",
      "  label 35: 26\n",
      "  label 36: 81\n",
      "  label 37: 112\n",
      "  label 38: 18\n",
      "  label 39: 200\n",
      "  label 40: 40\n",
      "  label 41: 20\n",
      "  label 42: 200\n",
      "  label 43: 114\n",
      "  label 44: 34\n",
      "  label 45: 21\n",
      "  label 46: 140\n",
      "  label 47: 529\n",
      "  label 48: 201\n",
      "  label 49: 117\n",
      "model is bert-base-uncased cnn\n",
      "Epoch 1/20\n"
     ]
    },
    {
     "name": "stderr",
     "output_type": "stream",
     "text": [
      "100%|██████████| 543/543 [00:46<00:00, 11.72it/s]\n"
     ]
    },
    {
     "name": "stdout",
     "output_type": "stream",
     "text": [
      "{'val_loss': 1.4891864719255916, 'val_accuracy': 0.5919574216439977, 'precision': 0.5479497417576696, 'recall': 0.5919574216439977, 'f1-score': 0.5326565430167921, 'macro_f1-score': 0.1908180458469916, 'balanced_accuracy': 0.21859649973623557, 'mcc': 0.4332992945826412, 'train_loss': 2.222820383299341}\n",
      "Epoch 2/20\n"
     ]
    },
    {
     "name": "stderr",
     "output_type": "stream",
     "text": [
      "100%|██████████| 543/543 [00:46<00:00, 11.73it/s]\n"
     ]
    },
    {
     "name": "stdout",
     "output_type": "stream",
     "text": [
      "{'val_loss': 1.2879828619507123, 'val_accuracy': 0.6629213483146067, 'precision': 0.6229408990210918, 'recall': 0.6629213483146067, 'f1-score': 0.6238883612901843, 'macro_f1-score': 0.28024811190537446, 'balanced_accuracy': 0.28495095818454497, 'mcc': 0.5397861982753008, 'train_loss': 1.567646910033393}\n",
      "Epoch 3/20\n"
     ]
    },
    {
     "name": "stderr",
     "output_type": "stream",
     "text": [
      "100%|██████████| 543/543 [00:46<00:00, 11.73it/s]\n"
     ]
    },
    {
     "name": "stdout",
     "output_type": "stream",
     "text": [
      "{'val_loss': 1.304258201201007, 'val_accuracy': 0.6363098758131284, 'precision': 0.6258067287596337, 'recall': 0.6363098758131284, 'f1-score': 0.6150915681404403, 'macro_f1-score': 0.3059187235290769, 'balanced_accuracy': 0.33437481845444955, 'mcc': 0.519120654083852, 'train_loss': 1.24189516122609}\n",
      "Epoch 4/20\n"
     ]
    },
    {
     "name": "stderr",
     "output_type": "stream",
     "text": [
      "100%|██████████| 543/543 [00:46<00:00, 11.71it/s]\n"
     ]
    },
    {
     "name": "stdout",
     "output_type": "stream",
     "text": [
      "{'val_loss': 1.214851920053644, 'val_accuracy': 0.6753400354819633, 'precision': 0.6670142404582906, 'recall': 0.6753400354819633, 'f1-score': 0.6536304281106792, 'macro_f1-score': 0.37842782686401555, 'balanced_accuracy': 0.3707605552422105, 'mcc': 0.5703541183321366, 'train_loss': 1.0479426986604765}\n",
      "Epoch 5/20\n"
     ]
    },
    {
     "name": "stderr",
     "output_type": "stream",
     "text": [
      "100%|██████████| 543/543 [00:46<00:00, 11.73it/s]\n"
     ]
    },
    {
     "name": "stdout",
     "output_type": "stream",
     "text": [
      "{'val_loss': 1.2638113909172561, 'val_accuracy': 0.664695446481372, 'precision': 0.6650155055874837, 'recall': 0.664695446481372, 'f1-score': 0.6476194755866523, 'macro_f1-score': 0.3810054458577225, 'balanced_accuracy': 0.3982609024998441, 'mcc': 0.5539585341951894, 'train_loss': 0.8706903781872208}\n",
      "Epoch 6/20\n"
     ]
    },
    {
     "name": "stderr",
     "output_type": "stream",
     "text": [
      "100%|██████████| 543/543 [00:46<00:00, 11.72it/s]\n"
     ]
    },
    {
     "name": "stdout",
     "output_type": "stream",
     "text": [
      "{'val_loss': 1.317093331015335, 'val_accuracy': 0.6700177409816677, 'precision': 0.6726841952976651, 'recall': 0.6700177409816677, 'f1-score': 0.6616052344563927, 'macro_f1-score': 0.4142820659450498, 'balanced_accuracy': 0.42802129085084323, 'mcc': 0.5691239001931401, 'train_loss': 0.7639396982353256}\n",
      "Epoch 7/20\n"
     ]
    },
    {
     "name": "stderr",
     "output_type": "stream",
     "text": [
      "100%|██████████| 543/543 [00:46<00:00, 11.74it/s]\n"
     ]
    },
    {
     "name": "stdout",
     "output_type": "stream",
     "text": [
      "{'val_loss': 1.3583179923161022, 'val_accuracy': 0.6617386162034299, 'precision': 0.6667729796118732, 'recall': 0.6617386162034299, 'f1-score': 0.6550666703405285, 'macro_f1-score': 0.40314122945049136, 'balanced_accuracy': 0.41500437630148584, 'mcc': 0.558648369206983, 'train_loss': 0.6822224720818562}\n",
      "Epoch 8/20\n"
     ]
    },
    {
     "name": "stderr",
     "output_type": "stream",
     "text": [
      "100%|██████████| 543/543 [00:46<00:00, 11.73it/s]\n"
     ]
    },
    {
     "name": "stdout",
     "output_type": "stream",
     "text": [
      "{'val_loss': 1.3563274229472537, 'val_accuracy': 0.6617386162034299, 'precision': 0.6589685185020013, 'recall': 0.6617386162034299, 'f1-score': 0.6487948819595384, 'macro_f1-score': 0.3996978980420328, 'balanced_accuracy': 0.38760455836986085, 'mcc': 0.5508039499228088, 'train_loss': 0.6580188712842666}\n",
      "Epoch 9/20\n"
     ]
    },
    {
     "name": "stderr",
     "output_type": "stream",
     "text": [
      "100%|██████████| 543/543 [00:46<00:00, 11.73it/s]\n"
     ]
    },
    {
     "name": "stdout",
     "output_type": "stream",
     "text": [
      "{'val_loss': 1.4311939829363014, 'val_accuracy': 0.6593731519810763, 'precision': 0.6874173293313597, 'recall': 0.6593731519810763, 'f1-score': 0.6565608660135689, 'macro_f1-score': 0.4249917541523292, 'balanced_accuracy': 0.4427910279898445, 'mcc': 0.5575644678807993, 'train_loss': 0.6258206323036173}\n",
      "Epoch 10/20\n"
     ]
    },
    {
     "name": "stderr",
     "output_type": "stream",
     "text": [
      "100%|██████████| 543/543 [00:46<00:00, 11.72it/s]\n"
     ]
    },
    {
     "name": "stdout",
     "output_type": "stream",
     "text": [
      "{'val_loss': 1.4779967474487592, 'val_accuracy': 0.6558249556475458, 'precision': 0.6562433749791989, 'recall': 0.6558249556475458, 'f1-score': 0.6434037358720769, 'macro_f1-score': 0.3942718884233126, 'balanced_accuracy': 0.4061449361978726, 'mcc': 0.5432330002646845, 'train_loss': 0.6069242962212413}\n",
      "Epoch 11/20\n"
     ]
    },
    {
     "name": "stderr",
     "output_type": "stream",
     "text": [
      "100%|██████████| 543/543 [00:46<00:00, 11.72it/s]\n"
     ]
    },
    {
     "name": "stdout",
     "output_type": "stream",
     "text": [
      "{'val_loss': 1.5088314686743718, 'val_accuracy': 0.6593731519810763, 'precision': 0.6632398860078288, 'recall': 0.6593731519810763, 'f1-score': 0.6473090380406624, 'macro_f1-score': 0.4085438989447831, 'balanced_accuracy': 0.4319069945620771, 'mcc': 0.5549411968468025, 'train_loss': 0.5980715814250663}\n",
      "Epoch 12/20\n"
     ]
    },
    {
     "name": "stderr",
     "output_type": "stream",
     "text": [
      "100%|██████████| 543/543 [00:46<00:00, 11.73it/s]\n"
     ]
    },
    {
     "name": "stdout",
     "output_type": "stream",
     "text": [
      "{'val_loss': 1.6085757506343554, 'val_accuracy': 0.6641040804257835, 'precision': 0.6624437252737723, 'recall': 0.6641040804257835, 'f1-score': 0.6511111865475028, 'macro_f1-score': 0.4204816363840982, 'balanced_accuracy': 0.44064829212936873, 'mcc': 0.560538474013798, 'train_loss': 0.5777601671755026}\n",
      "Early stopping.\n",
      "\n",
      "[Fold 5]\n",
      "🚀 Using SBERT for data augmentation\n",
      "Using device: cuda\n",
      "CUDA Available: True\n",
      "CUDA Device: NVIDIA GeForce RTX 5070 Ti\n",
      "Current GPU Memory Allocated: 1.97 GB\n",
      "Current GPU Memory Cached: 3.25 GB\n",
      "Model device: cuda:0\n",
      "🔧 Augmenting label 1: 24 → 200 (+176)\n",
      "🔧 Augmenting label 2: 112 → 200 (+88)\n",
      "🔧 Augmenting label 3: 24 → 200 (+176)\n",
      "🔧 Augmenting label 5: 116 → 200 (+84)\n",
      "🔧 Augmenting label 6: 95 → 200 (+105)\n",
      "🔧 Augmenting label 7: 31 → 200 (+169)\n",
      "🔧 Augmenting label 8: 68 → 200 (+132)\n",
      "🔧 Augmenting label 9: 65 → 200 (+135)\n",
      "🔧 Augmenting label 10: 70 → 200 (+130)\n",
      "🔧 Augmenting label 11: 172 → 200 (+28)\n",
      "🔧 Augmenting label 12: 193 → 200 (+7)\n",
      "🔧 Augmenting label 13: 29 → 200 (+171)\n",
      "🔧 Augmenting label 14: 23 → 200 (+177)\n",
      "🔧 Augmenting label 15: 25 → 200 (+175)\n",
      "🔧 Augmenting label 16: 20 → 200 (+180)\n",
      "🔧 Augmenting label 18: 93 → 200 (+107)\n",
      "🔧 Augmenting label 19: 44 → 200 (+156)\n",
      "🔧 Augmenting label 20: 15 → 200 (+185)\n",
      "🔧 Augmenting label 21: 35 → 200 (+165)\n",
      "🔧 Augmenting label 22: 78 → 200 (+122)\n",
      "🔧 Augmenting label 23: 160 → 200 (+40)\n",
      "🔧 Augmenting label 24: 16 → 200 (+184)\n",
      "🔧 Augmenting label 25: 50 → 200 (+150)\n",
      "🔧 Augmenting label 26: 86 → 200 (+114)\n",
      "🔧 Augmenting label 27: 48 → 200 (+152)\n",
      "🔧 Augmenting label 28: 12 → 200 (+188)\n",
      "🔧 Augmenting label 29: 13 → 200 (+187)\n",
      "🔧 Augmenting label 30: 15 → 200 (+185)\n",
      "🔧 Augmenting label 31: 80 → 200 (+120)\n",
      "🔧 Augmenting label 32: 36 → 200 (+164)\n",
      "🔧 Augmenting label 33: 32 → 200 (+168)\n",
      "🔧 Augmenting label 34: 30 → 200 (+170)\n",
      "🔧 Augmenting label 35: 12 → 200 (+188)\n",
      "🔧 Augmenting label 36: 28 → 200 (+172)\n",
      "🔧 Augmenting label 37: 21 → 200 (+179)\n",
      "🔧 Augmenting label 38: 6 → 200 (+194)\n",
      "🔧 Augmenting label 39: 104 → 200 (+96)\n",
      "🔧 Augmenting label 40: 11 → 200 (+189)\n",
      "🔧 Augmenting label 41: 9 → 200 (+191)\n",
      "🔧 Augmenting label 42: 147 → 200 (+53)\n",
      "🔧 Augmenting label 43: 16 → 200 (+184)\n",
      "🔧 Augmenting label 44: 20 → 200 (+180)\n",
      "🔧 Augmenting label 45: 9 → 200 (+191)\n",
      "🔧 Augmenting label 46: 54 → 200 (+146)\n",
      "🔧 Augmenting label 49: 70 → 200 (+130)\n",
      "Label distribution after resampling:\n",
      "  label 0: 3180\n",
      "  label 1: 123\n",
      "  label 2: 200\n",
      "  label 3: 26\n",
      "  label 4: 205\n",
      "  label 5: 160\n",
      "  label 6: 163\n",
      "  label 7: 38\n",
      "  label 8: 83\n",
      "  label 9: 200\n",
      "  label 10: 104\n",
      "  label 11: 200\n",
      "  label 12: 200\n",
      "  label 13: 31\n",
      "  label 14: 23\n",
      "  label 15: 25\n",
      "  label 16: 59\n",
      "  label 17: 231\n",
      "  label 18: 115\n",
      "  label 19: 69\n",
      "  label 20: 45\n",
      "  label 21: 39\n",
      "  label 22: 120\n",
      "  label 23: 200\n",
      "  label 24: 69\n",
      "  label 25: 177\n",
      "  label 26: 137\n",
      "  label 27: 78\n",
      "  label 28: 40\n",
      "  label 29: 15\n",
      "  label 30: 83\n",
      "  label 31: 196\n",
      "  label 32: 46\n",
      "  label 33: 34\n",
      "  label 34: 35\n",
      "  label 35: 14\n",
      "  label 36: 98\n",
      "  label 37: 131\n",
      "  label 38: 27\n",
      "  label 39: 200\n",
      "  label 40: 42\n",
      "  label 41: 16\n",
      "  label 42: 200\n",
      "  label 43: 92\n",
      "  label 44: 31\n",
      "  label 45: 13\n",
      "  label 46: 92\n",
      "  label 47: 529\n",
      "  label 48: 202\n",
      "  label 49: 128\n",
      "model is bert-base-uncased cnn\n",
      "Epoch 1/20\n"
     ]
    },
    {
     "name": "stderr",
     "output_type": "stream",
     "text": [
      "100%|██████████| 536/536 [00:45<00:00, 11.74it/s]\n"
     ]
    },
    {
     "name": "stdout",
     "output_type": "stream",
     "text": [
      "{'val_loss': 1.5125593295637167, 'val_accuracy': 0.58698224852071, 'precision': 0.5124096346897904, 'recall': 0.58698224852071, 'f1-score': 0.5204384188851555, 'macro_f1-score': 0.16022027943435105, 'balanced_accuracy': 0.18125413184258207, 'mcc': 0.41473758923750953, 'train_loss': 2.116067320859032}\n",
      "Epoch 2/20\n"
     ]
    },
    {
     "name": "stderr",
     "output_type": "stream",
     "text": [
      "100%|██████████| 536/536 [00:45<00:00, 11.74it/s]\n"
     ]
    },
    {
     "name": "stdout",
     "output_type": "stream",
     "text": [
      "{'val_loss': 1.3461199852655519, 'val_accuracy': 0.6337278106508876, 'precision': 0.6077048107301725, 'recall': 0.6337278106508876, 'f1-score': 0.58923681061142, 'macro_f1-score': 0.23794730973806855, 'balanced_accuracy': 0.2333650797286327, 'mcc': 0.4929519075273985, 'train_loss': 1.504795079133404}\n",
      "Epoch 3/20\n"
     ]
    },
    {
     "name": "stderr",
     "output_type": "stream",
     "text": [
      "100%|██████████| 536/536 [00:45<00:00, 11.73it/s]\n"
     ]
    },
    {
     "name": "stdout",
     "output_type": "stream",
     "text": [
      "{'val_loss': 1.3192941293401539, 'val_accuracy': 0.6295857988165681, 'precision': 0.6501413139568434, 'recall': 0.6295857988165681, 'f1-score': 0.6097730545248848, 'macro_f1-score': 0.27620041189968186, 'balanced_accuracy': 0.3045441175342173, 'mcc': 0.5122348764441532, 'train_loss': 1.1954704775516667}\n",
      "Epoch 4/20\n"
     ]
    },
    {
     "name": "stderr",
     "output_type": "stream",
     "text": [
      "100%|██████████| 536/536 [00:45<00:00, 11.72it/s]\n"
     ]
    },
    {
     "name": "stdout",
     "output_type": "stream",
     "text": [
      "{'val_loss': 1.3325013119094777, 'val_accuracy': 0.6183431952662722, 'precision': 0.6454915321071574, 'recall': 0.6183431952662722, 'f1-score': 0.6185550748590909, 'macro_f1-score': 0.3306423318954675, 'balanced_accuracy': 0.34600226063360706, 'mcc': 0.5059761514043578, 'train_loss': 0.9861256676767745}\n",
      "Epoch 5/20\n"
     ]
    },
    {
     "name": "stderr",
     "output_type": "stream",
     "text": [
      "100%|██████████| 536/536 [00:45<00:00, 11.73it/s]\n"
     ]
    },
    {
     "name": "stdout",
     "output_type": "stream",
     "text": [
      "{'val_loss': 1.3579904501730542, 'val_accuracy': 0.6384615384615384, 'precision': 0.6487341160400326, 'recall': 0.6384615384615384, 'f1-score': 0.6310363335132396, 'macro_f1-score': 0.333589989389973, 'balanced_accuracy': 0.344826270344198, 'mcc': 0.5218497690896031, 'train_loss': 0.8252152453885594}\n",
      "Epoch 6/20\n"
     ]
    },
    {
     "name": "stderr",
     "output_type": "stream",
     "text": [
      "100%|██████████| 536/536 [00:45<00:00, 11.72it/s]\n"
     ]
    },
    {
     "name": "stdout",
     "output_type": "stream",
     "text": [
      "{'val_loss': 1.4397180077602278, 'val_accuracy': 0.6307692307692307, 'precision': 0.637190883268997, 'recall': 0.6307692307692307, 'f1-score': 0.621122046908218, 'macro_f1-score': 0.32787607519349493, 'balanced_accuracy': 0.338399192137155, 'mcc': 0.5140617852437255, 'train_loss': 0.7103412251141089}\n",
      "Epoch 7/20\n"
     ]
    },
    {
     "name": "stderr",
     "output_type": "stream",
     "text": [
      "100%|██████████| 536/536 [00:45<00:00, 11.74it/s]\n"
     ]
    },
    {
     "name": "stdout",
     "output_type": "stream",
     "text": [
      "{'val_loss': 1.5511882597545408, 'val_accuracy': 0.6325443786982249, 'precision': 0.6381829836820293, 'recall': 0.6325443786982249, 'f1-score': 0.6292672973850606, 'macro_f1-score': 0.3467706565487019, 'balanced_accuracy': 0.3553146394946932, 'mcc': 0.5212656385709757, 'train_loss': 0.6551883834207417}\n",
      "Epoch 8/20\n"
     ]
    },
    {
     "name": "stderr",
     "output_type": "stream",
     "text": [
      "100%|██████████| 536/536 [00:45<00:00, 11.72it/s]\n"
     ]
    },
    {
     "name": "stdout",
     "output_type": "stream",
     "text": [
      "{'val_loss': 1.4588069848294527, 'val_accuracy': 0.6355029585798817, 'precision': 0.6486015915914162, 'recall': 0.6355029585798817, 'f1-score': 0.6316657724933593, 'macro_f1-score': 0.3700635105472555, 'balanced_accuracy': 0.3719865213877002, 'mcc': 0.5211025911147205, 'train_loss': 0.6233454741704375}\n",
      "Epoch 9/20\n"
     ]
    },
    {
     "name": "stderr",
     "output_type": "stream",
     "text": [
      "100%|██████████| 536/536 [00:45<00:00, 11.74it/s]\n"
     ]
    },
    {
     "name": "stdout",
     "output_type": "stream",
     "text": [
      "{'val_loss': 1.5472650772558068, 'val_accuracy': 0.6556213017751479, 'precision': 0.6777485700930511, 'recall': 0.6556213017751479, 'f1-score': 0.6519831609113741, 'macro_f1-score': 0.40833374908519415, 'balanced_accuracy': 0.4096682148596994, 'mcc': 0.5533521190477061, 'train_loss': 0.5922436667675737}\n",
      "Epoch 10/20\n"
     ]
    },
    {
     "name": "stderr",
     "output_type": "stream",
     "text": [
      "100%|██████████| 536/536 [00:45<00:00, 11.73it/s]\n"
     ]
    },
    {
     "name": "stdout",
     "output_type": "stream",
     "text": [
      "{'val_loss': 1.6625188352926723, 'val_accuracy': 0.6502958579881657, 'precision': 0.667877983357557, 'recall': 0.6502958579881657, 'f1-score': 0.636777784841022, 'macro_f1-score': 0.36362122386257745, 'balanced_accuracy': 0.35585583187663034, 'mcc': 0.5311619347148762, 'train_loss': 0.5764424623052743}\n",
      "Epoch 11/20\n"
     ]
    },
    {
     "name": "stderr",
     "output_type": "stream",
     "text": [
      "100%|██████████| 536/536 [00:45<00:00, 11.73it/s]\n"
     ]
    },
    {
     "name": "stdout",
     "output_type": "stream",
     "text": [
      "{'val_loss': 1.6028989235747535, 'val_accuracy': 0.621301775147929, 'precision': 0.6455742670071579, 'recall': 0.621301775147929, 'f1-score': 0.6258884921620539, 'macro_f1-score': 0.35642621684537334, 'balanced_accuracy': 0.38242115778469077, 'mcc': 0.517210393408349, 'train_loss': 0.56127756827775}\n",
      "Epoch 12/20\n"
     ]
    },
    {
     "name": "stderr",
     "output_type": "stream",
     "text": [
      "100%|██████████| 536/536 [00:45<00:00, 11.73it/s]\n"
     ]
    },
    {
     "name": "stdout",
     "output_type": "stream",
     "text": [
      "{'val_loss': 1.574040894097877, 'val_accuracy': 0.6408284023668639, 'precision': 0.6485354094608095, 'recall': 0.6408284023668639, 'f1-score': 0.6367969418557649, 'macro_f1-score': 0.36534255917790387, 'balanced_accuracy': 0.37318383141950995, 'mcc': 0.5303989507299683, 'train_loss': 0.54841172451209}\n",
      "Early stopping.\n",
      "\n",
      " === bert-base-uncased + cnn + sbert Final 5-fold Cross-Validation Results ===\n",
      "Total time: 12116 seconds\n",
      "Total time: 3 hrs 21 mins 56 secs\n",
      "val_loss: 1.5286\n",
      "val_accuracy: 0.6508\n",
      "precision: 0.6717\n",
      "recall: 0.6508\n",
      "f1-score: 0.6469\n",
      "macro_f1-score: 0.4065\n",
      "balanced_accuracy: 0.4198\n",
      "mcc: 0.5445\n",
      "train_loss: 0.5921\n",
      "▶ Running: bert-base-uncased + bilstm + sbert\n",
      "tokenizer is bert-base-uncased\n",
      "Using device: cuda\n",
      "CUDA Available: True\n",
      "CUDA Device: NVIDIA GeForce RTX 5070 Ti\n",
      "Current GPU Memory Allocated: 0.11 GB\n",
      "Current GPU Memory Cached: 3.25 GB\n",
      "\n",
      "[Fold 1]\n",
      "🚀 Using SBERT for data augmentation\n",
      "Using device: cuda\n",
      "CUDA Available: True\n",
      "CUDA Device: NVIDIA GeForce RTX 5070 Ti\n",
      "Current GPU Memory Allocated: 0.20 GB\n",
      "Current GPU Memory Cached: 3.25 GB\n",
      "Model device: cuda:0\n",
      "🔧 Augmenting label 1: 25 → 200 (+175)\n",
      "🔧 Augmenting label 2: 112 → 200 (+88)\n",
      "🔧 Augmenting label 3: 24 → 200 (+176)\n",
      "🔧 Augmenting label 5: 116 → 200 (+84)\n",
      "🔧 Augmenting label 6: 95 → 200 (+105)\n",
      "🔧 Augmenting label 7: 31 → 200 (+169)\n",
      "🔧 Augmenting label 8: 68 → 200 (+132)\n",
      "🔧 Augmenting label 9: 65 → 200 (+135)\n",
      "🔧 Augmenting label 10: 70 → 200 (+130)\n",
      "🔧 Augmenting label 11: 172 → 200 (+28)\n",
      "🔧 Augmenting label 12: 193 → 200 (+7)\n",
      "🔧 Augmenting label 13: 29 → 200 (+171)\n",
      "🔧 Augmenting label 14: 23 → 200 (+177)\n",
      "🔧 Augmenting label 15: 25 → 200 (+175)\n",
      "🔧 Augmenting label 16: 20 → 200 (+180)\n",
      "🔧 Augmenting label 18: 93 → 200 (+107)\n",
      "🔧 Augmenting label 19: 45 → 200 (+155)\n",
      "🔧 Augmenting label 20: 14 → 200 (+186)\n",
      "🔧 Augmenting label 21: 35 → 200 (+165)\n",
      "🔧 Augmenting label 22: 78 → 200 (+122)\n",
      "🔧 Augmenting label 23: 160 → 200 (+40)\n",
      "🔧 Augmenting label 24: 16 → 200 (+184)\n",
      "🔧 Augmenting label 25: 50 → 200 (+150)\n",
      "🔧 Augmenting label 26: 86 → 200 (+114)\n",
      "🔧 Augmenting label 27: 49 → 200 (+151)\n",
      "🔧 Augmenting label 28: 12 → 200 (+188)\n",
      "🔧 Augmenting label 29: 13 → 200 (+187)\n",
      "🔧 Augmenting label 30: 15 → 200 (+185)\n",
      "🔧 Augmenting label 31: 80 → 200 (+120)\n",
      "🔧 Augmenting label 32: 36 → 200 (+164)\n",
      "🔧 Augmenting label 33: 32 → 200 (+168)\n",
      "🔧 Augmenting label 34: 30 → 200 (+170)\n",
      "🔧 Augmenting label 35: 12 → 200 (+188)\n",
      "🔧 Augmenting label 36: 28 → 200 (+172)\n",
      "🔧 Augmenting label 37: 21 → 200 (+179)\n",
      "🔧 Augmenting label 38: 6 → 200 (+194)\n",
      "🔧 Augmenting label 39: 103 → 200 (+97)\n",
      "🔧 Augmenting label 40: 12 → 200 (+188)\n",
      "🔧 Augmenting label 41: 8 → 200 (+192)\n",
      "🔧 Augmenting label 42: 147 → 200 (+53)\n",
      "🔧 Augmenting label 43: 16 → 200 (+184)\n",
      "🔧 Augmenting label 44: 20 → 200 (+180)\n",
      "🔧 Augmenting label 45: 9 → 200 (+191)\n",
      "🔧 Augmenting label 46: 54 → 200 (+146)\n",
      "🔧 Augmenting label 49: 69 → 200 (+131)\n",
      "Label distribution after resampling:\n",
      "  label 0: 3179\n",
      "  label 1: 105\n",
      "  label 2: 200\n",
      "  label 3: 26\n",
      "  label 4: 205\n",
      "  label 5: 164\n",
      "  label 6: 163\n",
      "  label 7: 38\n",
      "  label 8: 74\n",
      "  label 9: 200\n",
      "  label 10: 117\n",
      "  label 11: 200\n",
      "  label 12: 200\n",
      "  label 13: 33\n",
      "  label 14: 23\n",
      "  label 15: 28\n",
      "  label 16: 67\n",
      "  label 17: 231\n",
      "  label 18: 116\n",
      "  label 19: 74\n",
      "  label 20: 42\n",
      "  label 21: 45\n",
      "  label 22: 106\n",
      "  label 23: 200\n",
      "  label 24: 59\n",
      "  label 25: 145\n",
      "  label 26: 123\n",
      "  label 27: 87\n",
      "  label 28: 44\n",
      "  label 29: 16\n",
      "  label 30: 82\n",
      "  label 31: 185\n",
      "  label 32: 44\n",
      "  label 33: 39\n",
      "  label 34: 33\n",
      "  label 35: 22\n",
      "  label 36: 120\n",
      "  label 37: 120\n",
      "  label 38: 24\n",
      "  label 39: 200\n",
      "  label 40: 33\n",
      "  label 41: 24\n",
      "  label 42: 200\n",
      "  label 43: 113\n",
      "  label 44: 33\n",
      "  label 45: 16\n",
      "  label 46: 138\n",
      "  label 47: 529\n",
      "  label 48: 202\n",
      "  label 49: 111\n",
      "model is bert-base-uncased bilstm\n",
      "Epoch 1/20\n"
     ]
    },
    {
     "name": "stderr",
     "output_type": "stream",
     "text": [
      "100%|██████████| 537/537 [00:49<00:00, 10.80it/s]\n"
     ]
    },
    {
     "name": "stdout",
     "output_type": "stream",
     "text": [
      "{'val_loss': 1.5946197855585027, 'val_accuracy': 0.5966883500887049, 'precision': 0.49098603706199273, 'recall': 0.5966883500887049, 'f1-score': 0.5057331085568358, 'macro_f1-score': 0.15299842916111733, 'balanced_accuracy': 0.1629909055945371, 'mcc': 0.41982826342601137, 'train_loss': 2.2498998586469967}\n",
      "Epoch 2/20\n"
     ]
    },
    {
     "name": "stderr",
     "output_type": "stream",
     "text": [
      "100%|██████████| 537/537 [00:49<00:00, 10.78it/s]\n"
     ]
    },
    {
     "name": "stdout",
     "output_type": "stream",
     "text": [
      "{'val_loss': 1.4116475683338237, 'val_accuracy': 0.6250739207569486, 'precision': 0.5673825610904573, 'recall': 0.6250739207569486, 'f1-score': 0.569143311767332, 'macro_f1-score': 0.2142273449583058, 'balanced_accuracy': 0.23339150281193274, 'mcc': 0.4821382579734952, 'train_loss': 1.6074293050464084}\n",
      "Epoch 3/20\n"
     ]
    },
    {
     "name": "stderr",
     "output_type": "stream",
     "text": [
      "100%|██████████| 537/537 [00:49<00:00, 10.81it/s]\n"
     ]
    },
    {
     "name": "stdout",
     "output_type": "stream",
     "text": [
      "{'val_loss': 1.4014505043906986, 'val_accuracy': 0.622708456534595, 'precision': 0.5853248099022598, 'recall': 0.622708456534595, 'f1-score': 0.586638619002062, 'macro_f1-score': 0.25059999059752674, 'balanced_accuracy': 0.2595907974020033, 'mcc': 0.4900807932685591, 'train_loss': 1.3209771752024495}\n",
      "Epoch 4/20\n"
     ]
    },
    {
     "name": "stderr",
     "output_type": "stream",
     "text": [
      "100%|██████████| 537/537 [00:49<00:00, 10.76it/s]\n"
     ]
    },
    {
     "name": "stdout",
     "output_type": "stream",
     "text": [
      "{'val_loss': 1.3273422318809438, 'val_accuracy': 0.6439976345357776, 'precision': 0.6320457907080644, 'recall': 0.6439976345357776, 'f1-score': 0.6238238099594272, 'macro_f1-score': 0.3109094905175996, 'balanced_accuracy': 0.3090470918115822, 'mcc': 0.5197099160457392, 'train_loss': 1.1428487723211114}\n",
      "Epoch 5/20\n"
     ]
    },
    {
     "name": "stderr",
     "output_type": "stream",
     "text": [
      "100%|██████████| 537/537 [00:49<00:00, 10.79it/s]\n"
     ]
    },
    {
     "name": "stdout",
     "output_type": "stream",
     "text": [
      "{'val_loss': 1.3729322475363623, 'val_accuracy': 0.6534594914251922, 'precision': 0.6323353366924999, 'recall': 0.6534594914251922, 'f1-score': 0.6300351271613871, 'macro_f1-score': 0.3292279190431619, 'balanced_accuracy': 0.3277099972496578, 'mcc': 0.5355688516946667, 'train_loss': 0.9862237095527587}\n",
      "Epoch 6/20\n"
     ]
    },
    {
     "name": "stderr",
     "output_type": "stream",
     "text": [
      "100%|██████████| 537/537 [00:49<00:00, 10.78it/s]\n"
     ]
    },
    {
     "name": "stdout",
     "output_type": "stream",
     "text": [
      "{'val_loss': 1.42012213704721, 'val_accuracy': 0.6451803666469544, 'precision': 0.6318122928448875, 'recall': 0.6451803666469544, 'f1-score': 0.6197950016656573, 'macro_f1-score': 0.3407961733632225, 'balanced_accuracy': 0.3405505461560328, 'mcc': 0.5213374175661607, 'train_loss': 0.8543488268967669}\n",
      "Epoch 7/20\n"
     ]
    },
    {
     "name": "stderr",
     "output_type": "stream",
     "text": [
      "100%|██████████| 537/537 [00:49<00:00, 10.79it/s]\n"
     ]
    },
    {
     "name": "stdout",
     "output_type": "stream",
     "text": [
      "{'val_loss': 1.486041153939265, 'val_accuracy': 0.6067415730337079, 'precision': 0.6555904908810364, 'recall': 0.6067415730337079, 'f1-score': 0.6080245000535511, 'macro_f1-score': 0.3449629753538603, 'balanced_accuracy': 0.36141960765854747, 'mcc': 0.4957247348717338, 'train_loss': 0.7880835440460752}\n",
      "Epoch 8/20\n"
     ]
    },
    {
     "name": "stderr",
     "output_type": "stream",
     "text": [
      "100%|██████████| 537/537 [00:49<00:00, 10.81it/s]\n"
     ]
    },
    {
     "name": "stdout",
     "output_type": "stream",
     "text": [
      "{'val_loss': 1.5034553734761364, 'val_accuracy': 0.6085156712004731, 'precision': 0.639495783779672, 'recall': 0.6085156712004731, 'f1-score': 0.6135578635366471, 'macro_f1-score': 0.3388230456387174, 'balanced_accuracy': 0.3779167271550184, 'mcc': 0.5007993617776006, 'train_loss': 0.730442714313777}\n",
      "Epoch 9/20\n"
     ]
    },
    {
     "name": "stderr",
     "output_type": "stream",
     "text": [
      "100%|██████████| 537/537 [00:49<00:00, 10.76it/s]\n"
     ]
    },
    {
     "name": "stdout",
     "output_type": "stream",
     "text": [
      "{'val_loss': 1.530035007674739, 'val_accuracy': 0.6250739207569486, 'precision': 0.632892182679571, 'recall': 0.6250739207569486, 'f1-score': 0.6138281548401745, 'macro_f1-score': 0.3506789760274882, 'balanced_accuracy': 0.3659564812277864, 'mcc': 0.504947026347889, 'train_loss': 0.6886941652946188}\n",
      "Epoch 10/20\n"
     ]
    },
    {
     "name": "stderr",
     "output_type": "stream",
     "text": [
      "100%|██████████| 537/537 [00:49<00:00, 10.80it/s]\n"
     ]
    },
    {
     "name": "stdout",
     "output_type": "stream",
     "text": [
      "{'val_loss': 1.604388729581293, 'val_accuracy': 0.6475458308693081, 'precision': 0.6294703824726222, 'recall': 0.6475458308693081, 'f1-score': 0.6253142506245415, 'macro_f1-score': 0.34180634449155284, 'balanced_accuracy': 0.3348549390581488, 'mcc': 0.5226806197500046, 'train_loss': 0.6333543224575855}\n",
      "Epoch 11/20\n"
     ]
    },
    {
     "name": "stderr",
     "output_type": "stream",
     "text": [
      "100%|██████████| 537/537 [00:50<00:00, 10.72it/s]\n"
     ]
    },
    {
     "name": "stdout",
     "output_type": "stream",
     "text": [
      "{'val_loss': 1.5413232726870842, 'val_accuracy': 0.6374926079243052, 'precision': 0.6539422368387845, 'recall': 0.6374926079243052, 'f1-score': 0.6326178164504185, 'macro_f1-score': 0.3923422572320609, 'balanced_accuracy': 0.41052739350559164, 'mcc': 0.5223041156662915, 'train_loss': 0.6058460443906722}\n",
      "Epoch 12/20\n"
     ]
    },
    {
     "name": "stderr",
     "output_type": "stream",
     "text": [
      "100%|██████████| 537/537 [00:49<00:00, 10.79it/s]\n"
     ]
    },
    {
     "name": "stdout",
     "output_type": "stream",
     "text": [
      "{'val_loss': 1.551924226700135, 'val_accuracy': 0.6481371969248965, 'precision': 0.6500675306071266, 'recall': 0.6481371969248965, 'f1-score': 0.6359967804198583, 'macro_f1-score': 0.3666225966430482, 'balanced_accuracy': 0.37124814279806306, 'mcc': 0.5327018412180501, 'train_loss': 0.5976739992670285}\n",
      "Epoch 13/20\n"
     ]
    },
    {
     "name": "stderr",
     "output_type": "stream",
     "text": [
      "100%|██████████| 537/537 [00:49<00:00, 10.81it/s]\n"
     ]
    },
    {
     "name": "stdout",
     "output_type": "stream",
     "text": [
      "{'val_loss': 1.6150779302390117, 'val_accuracy': 0.6321703134240094, 'precision': 0.6394135184777971, 'recall': 0.6321703134240094, 'f1-score': 0.6222833170490619, 'macro_f1-score': 0.367504276351972, 'balanced_accuracy': 0.3844471456252992, 'mcc': 0.5188488322522721, 'train_loss': 0.5813943852550824}\n",
      "Epoch 14/20\n"
     ]
    },
    {
     "name": "stderr",
     "output_type": "stream",
     "text": [
      "100%|██████████| 537/537 [00:49<00:00, 10.80it/s]\n"
     ]
    },
    {
     "name": "stdout",
     "output_type": "stream",
     "text": [
      "{'val_loss': 1.6566288035433248, 'val_accuracy': 0.6238911886457718, 'precision': 0.6445956592944192, 'recall': 0.6238911886457718, 'f1-score': 0.624576976546099, 'macro_f1-score': 0.3710263866555035, 'balanced_accuracy': 0.3965077591624707, 'mcc': 0.5150099751818241, 'train_loss': 0.559523950721132}\n",
      "Early stopping.\n",
      "\n",
      "[Fold 2]\n",
      "🚀 Using SBERT for data augmentation\n",
      "Using device: cuda\n",
      "CUDA Available: True\n",
      "CUDA Device: NVIDIA GeForce RTX 5070 Ti\n",
      "Current GPU Memory Allocated: 2.00 GB\n",
      "Current GPU Memory Cached: 3.25 GB\n",
      "Model device: cuda:0\n",
      "🔧 Augmenting label 1: 25 → 200 (+175)\n",
      "🔧 Augmenting label 2: 112 → 200 (+88)\n",
      "🔧 Augmenting label 3: 24 → 200 (+176)\n",
      "🔧 Augmenting label 5: 116 → 200 (+84)\n",
      "🔧 Augmenting label 6: 94 → 200 (+106)\n",
      "🔧 Augmenting label 7: 31 → 200 (+169)\n",
      "🔧 Augmenting label 8: 68 → 200 (+132)\n",
      "🔧 Augmenting label 9: 65 → 200 (+135)\n",
      "🔧 Augmenting label 10: 70 → 200 (+130)\n",
      "🔧 Augmenting label 11: 172 → 200 (+28)\n",
      "🔧 Augmenting label 12: 193 → 200 (+7)\n",
      "🔧 Augmenting label 13: 29 → 200 (+171)\n",
      "🔧 Augmenting label 14: 23 → 200 (+177)\n",
      "🔧 Augmenting label 15: 25 → 200 (+175)\n",
      "🔧 Augmenting label 16: 20 → 200 (+180)\n",
      "🔧 Augmenting label 18: 93 → 200 (+107)\n",
      "🔧 Augmenting label 19: 45 → 200 (+155)\n",
      "🔧 Augmenting label 20: 14 → 200 (+186)\n",
      "🔧 Augmenting label 21: 35 → 200 (+165)\n",
      "🔧 Augmenting label 22: 78 → 200 (+122)\n",
      "🔧 Augmenting label 23: 160 → 200 (+40)\n",
      "🔧 Augmenting label 24: 16 → 200 (+184)\n",
      "🔧 Augmenting label 25: 50 → 200 (+150)\n",
      "🔧 Augmenting label 26: 86 → 200 (+114)\n",
      "🔧 Augmenting label 27: 49 → 200 (+151)\n",
      "🔧 Augmenting label 28: 12 → 200 (+188)\n",
      "🔧 Augmenting label 29: 13 → 200 (+187)\n",
      "🔧 Augmenting label 30: 15 → 200 (+185)\n",
      "🔧 Augmenting label 31: 80 → 200 (+120)\n",
      "🔧 Augmenting label 32: 36 → 200 (+164)\n",
      "🔧 Augmenting label 33: 32 → 200 (+168)\n",
      "🔧 Augmenting label 34: 30 → 200 (+170)\n",
      "🔧 Augmenting label 35: 12 → 200 (+188)\n",
      "🔧 Augmenting label 36: 28 → 200 (+172)\n",
      "🔧 Augmenting label 37: 22 → 200 (+178)\n",
      "🔧 Augmenting label 38: 5 → 200 (+195)\n",
      "🔧 Augmenting label 39: 103 → 200 (+97)\n",
      "🔧 Augmenting label 40: 11 → 200 (+189)\n",
      "🔧 Augmenting label 41: 9 → 200 (+191)\n",
      "🔧 Augmenting label 42: 147 → 200 (+53)\n",
      "🔧 Augmenting label 43: 16 → 200 (+184)\n",
      "🔧 Augmenting label 44: 20 → 200 (+180)\n",
      "🔧 Augmenting label 45: 9 → 200 (+191)\n",
      "🔧 Augmenting label 46: 55 → 200 (+145)\n",
      "🔧 Augmenting label 49: 69 → 200 (+131)\n",
      "Label distribution after resampling:\n",
      "  label 0: 3179\n",
      "  label 1: 119\n",
      "  label 2: 200\n",
      "  label 3: 25\n",
      "  label 4: 206\n",
      "  label 5: 144\n",
      "  label 6: 177\n",
      "  label 7: 35\n",
      "  label 8: 80\n",
      "  label 9: 200\n",
      "  label 10: 95\n",
      "  label 11: 200\n",
      "  label 12: 200\n",
      "  label 13: 33\n",
      "  label 14: 23\n",
      "  label 15: 28\n",
      "  label 16: 69\n",
      "  label 17: 231\n",
      "  label 18: 117\n",
      "  label 19: 70\n",
      "  label 20: 52\n",
      "  label 21: 41\n",
      "  label 22: 130\n",
      "  label 23: 200\n",
      "  label 24: 60\n",
      "  label 25: 160\n",
      "  label 26: 122\n",
      "  label 27: 93\n",
      "  label 28: 29\n",
      "  label 29: 13\n",
      "  label 30: 79\n",
      "  label 31: 174\n",
      "  label 32: 37\n",
      "  label 33: 38\n",
      "  label 34: 31\n",
      "  label 35: 24\n",
      "  label 36: 95\n",
      "  label 37: 116\n",
      "  label 38: 23\n",
      "  label 39: 200\n",
      "  label 40: 32\n",
      "  label 41: 24\n",
      "  label 42: 200\n",
      "  label 43: 129\n",
      "  label 44: 30\n",
      "  label 45: 20\n",
      "  label 46: 111\n",
      "  label 47: 528\n",
      "  label 48: 202\n",
      "  label 49: 109\n",
      "model is bert-base-uncased bilstm\n",
      "Epoch 1/20\n"
     ]
    },
    {
     "name": "stderr",
     "output_type": "stream",
     "text": [
      "100%|██████████| 534/534 [00:49<00:00, 10.81it/s]\n"
     ]
    },
    {
     "name": "stdout",
     "output_type": "stream",
     "text": [
      "{'val_loss': 1.599308024037559, 'val_accuracy': 0.5872264931992903, 'precision': 0.455344324593499, 'recall': 0.5872264931992903, 'f1-score': 0.5010060610959036, 'macro_f1-score': 0.14892770304305325, 'balanced_accuracy': 0.1732114673221988, 'mcc': 0.4135433616103614, 'train_loss': 2.287401051780258}\n",
      "Epoch 2/20\n"
     ]
    },
    {
     "name": "stderr",
     "output_type": "stream",
     "text": [
      "100%|██████████| 534/534 [00:49<00:00, 10.77it/s]\n"
     ]
    },
    {
     "name": "stdout",
     "output_type": "stream",
     "text": [
      "{'val_loss': 1.4005035285679799, 'val_accuracy': 0.6398580721466588, 'precision': 0.5865690718621188, 'recall': 0.6398580721466588, 'f1-score': 0.5882786709011214, 'macro_f1-score': 0.23556081435598478, 'balanced_accuracy': 0.24169126246274927, 'mcc': 0.5028462934394516, 'train_loss': 1.6031700933582327}\n",
      "Epoch 3/20\n"
     ]
    },
    {
     "name": "stderr",
     "output_type": "stream",
     "text": [
      "100%|██████████| 534/534 [00:49<00:00, 10.80it/s]\n"
     ]
    },
    {
     "name": "stdout",
     "output_type": "stream",
     "text": [
      "{'val_loss': 1.3922657921629131, 'val_accuracy': 0.6215257244234181, 'precision': 0.6121421846736529, 'recall': 0.6215257244234181, 'f1-score': 0.6020380061264906, 'macro_f1-score': 0.27867739889505316, 'balanced_accuracy': 0.30717142590773405, 'mcc': 0.5016286559981361, 'train_loss': 1.3221727280357805}\n",
      "Epoch 4/20\n"
     ]
    },
    {
     "name": "stderr",
     "output_type": "stream",
     "text": [
      "100%|██████████| 534/534 [00:49<00:00, 10.73it/s]\n"
     ]
    },
    {
     "name": "stdout",
     "output_type": "stream",
     "text": [
      "{'val_loss': 1.3180886090926405, 'val_accuracy': 0.6570076877587226, 'precision': 0.6323029671418579, 'recall': 0.6570076877587226, 'f1-score': 0.6336871492931477, 'macro_f1-score': 0.32467105717768746, 'balanced_accuracy': 0.3345314962918172, 'mcc': 0.539197782314255, 'train_loss': 1.1306344082069755}\n",
      "Epoch 5/20\n"
     ]
    },
    {
     "name": "stderr",
     "output_type": "stream",
     "text": [
      "100%|██████████| 534/534 [00:49<00:00, 10.80it/s]\n"
     ]
    },
    {
     "name": "stdout",
     "output_type": "stream",
     "text": [
      "{'val_loss': 1.3219888328381304, 'val_accuracy': 0.6735659373151981, 'precision': 0.6498167368605039, 'recall': 0.6735659373151981, 'f1-score': 0.6476314452266841, 'macro_f1-score': 0.3556521973765014, 'balanced_accuracy': 0.3552531484639729, 'mcc': 0.5601399371571617, 'train_loss': 0.9960180066163173}\n",
      "Epoch 6/20\n"
     ]
    },
    {
     "name": "stderr",
     "output_type": "stream",
     "text": [
      "100%|██████████| 534/534 [00:49<00:00, 10.76it/s]\n"
     ]
    },
    {
     "name": "stdout",
     "output_type": "stream",
     "text": [
      "{'val_loss': 1.3928969742835693, 'val_accuracy': 0.6652868125369604, 'precision': 0.6426751666657878, 'recall': 0.6652868125369604, 'f1-score': 0.6467877390080297, 'macro_f1-score': 0.3600106947063463, 'balanced_accuracy': 0.3643998204475457, 'mcc': 0.5514831016198577, 'train_loss': 0.8697382063231665}\n",
      "Epoch 7/20\n"
     ]
    },
    {
     "name": "stderr",
     "output_type": "stream",
     "text": [
      "100%|██████████| 534/534 [00:49<00:00, 10.80it/s]\n"
     ]
    },
    {
     "name": "stdout",
     "output_type": "stream",
     "text": [
      "{'val_loss': 1.4283126814747757, 'val_accuracy': 0.6641040804257835, 'precision': 0.6368692682153478, 'recall': 0.6641040804257835, 'f1-score': 0.6379359603981887, 'macro_f1-score': 0.3480401332888283, 'balanced_accuracy': 0.3446601414073898, 'mcc': 0.5436382127178412, 'train_loss': 0.7776537650310145}\n",
      "Epoch 8/20\n"
     ]
    },
    {
     "name": "stderr",
     "output_type": "stream",
     "text": [
      "100%|██████████| 534/534 [00:49<00:00, 10.78it/s]\n"
     ]
    },
    {
     "name": "stdout",
     "output_type": "stream",
     "text": [
      "{'val_loss': 1.4119369255484275, 'val_accuracy': 0.6581904198698995, 'precision': 0.6637624827504512, 'recall': 0.6581904198698995, 'f1-score': 0.6498262726353985, 'macro_f1-score': 0.381324690345924, 'balanced_accuracy': 0.4064543330084488, 'mcc': 0.5482923944057914, 'train_loss': 0.708417808916071}\n",
      "Epoch 9/20\n"
     ]
    },
    {
     "name": "stderr",
     "output_type": "stream",
     "text": [
      "100%|██████████| 534/534 [00:49<00:00, 10.80it/s]\n"
     ]
    },
    {
     "name": "stdout",
     "output_type": "stream",
     "text": [
      "{'val_loss': 1.46511125620806, 'val_accuracy': 0.6522767593140154, 'precision': 0.6597650843488172, 'recall': 0.6522767593140154, 'f1-score': 0.6497651127491509, 'macro_f1-score': 0.3970303936198515, 'balanced_accuracy': 0.41471001583502065, 'mcc': 0.5471722124543035, 'train_loss': 0.6643077268331462}\n",
      "Epoch 10/20\n"
     ]
    },
    {
     "name": "stderr",
     "output_type": "stream",
     "text": [
      "100%|██████████| 534/534 [00:49<00:00, 10.78it/s]\n"
     ]
    },
    {
     "name": "stdout",
     "output_type": "stream",
     "text": [
      "{'val_loss': 1.5173667149161392, 'val_accuracy': 0.6457717327025428, 'precision': 0.6557091165287895, 'recall': 0.6457717327025428, 'f1-score': 0.6451169441819021, 'macro_f1-score': 0.4163255005287153, 'balanced_accuracy': 0.430823971772542, 'mcc': 0.5358676302840202, 'train_loss': 0.6400658459392157}\n",
      "Epoch 11/20\n"
     ]
    },
    {
     "name": "stderr",
     "output_type": "stream",
     "text": [
      "100%|██████████| 534/534 [00:49<00:00, 10.79it/s]\n"
     ]
    },
    {
     "name": "stdout",
     "output_type": "stream",
     "text": [
      "{'val_loss': 1.5864401456882369, 'val_accuracy': 0.6327616794795978, 'precision': 0.6503458393632869, 'recall': 0.6327616794795978, 'f1-score': 0.6283347370163841, 'macro_f1-score': 0.3591989666938268, 'balanced_accuracy': 0.38225377845406217, 'mcc': 0.5184700630324358, 'train_loss': 0.6071578500031979}\n",
      "Epoch 12/20\n"
     ]
    },
    {
     "name": "stderr",
     "output_type": "stream",
     "text": [
      "100%|██████████| 534/534 [00:49<00:00, 10.78it/s]\n"
     ]
    },
    {
     "name": "stdout",
     "output_type": "stream",
     "text": [
      "{'val_loss': 1.5892738536843714, 'val_accuracy': 0.641632170313424, 'precision': 0.6601324693502447, 'recall': 0.641632170313424, 'f1-score': 0.6410380939063971, 'macro_f1-score': 0.40056303461213505, 'balanced_accuracy': 0.42994372104774264, 'mcc': 0.5388100363100173, 'train_loss': 0.582953982431902}\n",
      "Epoch 13/20\n"
     ]
    },
    {
     "name": "stderr",
     "output_type": "stream",
     "text": [
      "100%|██████████| 534/534 [00:49<00:00, 10.76it/s]\n"
     ]
    },
    {
     "name": "stdout",
     "output_type": "stream",
     "text": [
      "{'val_loss': 1.5903228155846865, 'val_accuracy': 0.6345357776463632, 'precision': 0.6524001460873389, 'recall': 0.6345357776463632, 'f1-score': 0.632045601369674, 'macro_f1-score': 0.3678850752556606, 'balanced_accuracy': 0.39025386981128046, 'mcc': 0.5272238647588937, 'train_loss': 0.5765258018136694}\n",
      "Early stopping.\n",
      "\n",
      "[Fold 3]\n",
      "🚀 Using SBERT for data augmentation\n",
      "Using device: cuda\n",
      "CUDA Available: True\n",
      "CUDA Device: NVIDIA GeForce RTX 5070 Ti\n",
      "Current GPU Memory Allocated: 2.00 GB\n",
      "Current GPU Memory Cached: 3.25 GB\n",
      "Model device: cuda:0\n",
      "🔧 Augmenting label 1: 25 → 200 (+175)\n",
      "🔧 Augmenting label 2: 112 → 200 (+88)\n",
      "🔧 Augmenting label 3: 24 → 200 (+176)\n",
      "🔧 Augmenting label 5: 116 → 200 (+84)\n",
      "🔧 Augmenting label 6: 94 → 200 (+106)\n",
      "🔧 Augmenting label 7: 31 → 200 (+169)\n",
      "🔧 Augmenting label 8: 68 → 200 (+132)\n",
      "🔧 Augmenting label 9: 65 → 200 (+135)\n",
      "🔧 Augmenting label 10: 71 → 200 (+129)\n",
      "🔧 Augmenting label 11: 172 → 200 (+28)\n",
      "🔧 Augmenting label 12: 192 → 200 (+8)\n",
      "🔧 Augmenting label 13: 29 → 200 (+171)\n",
      "🔧 Augmenting label 14: 23 → 200 (+177)\n",
      "🔧 Augmenting label 15: 25 → 200 (+175)\n",
      "🔧 Augmenting label 16: 20 → 200 (+180)\n",
      "🔧 Augmenting label 18: 93 → 200 (+107)\n",
      "🔧 Augmenting label 19: 45 → 200 (+155)\n",
      "🔧 Augmenting label 20: 14 → 200 (+186)\n",
      "🔧 Augmenting label 21: 36 → 200 (+164)\n",
      "🔧 Augmenting label 22: 77 → 200 (+123)\n",
      "🔧 Augmenting label 23: 160 → 200 (+40)\n",
      "🔧 Augmenting label 24: 16 → 200 (+184)\n",
      "🔧 Augmenting label 25: 51 → 200 (+149)\n",
      "🔧 Augmenting label 26: 85 → 200 (+115)\n",
      "🔧 Augmenting label 27: 49 → 200 (+151)\n",
      "🔧 Augmenting label 28: 12 → 200 (+188)\n",
      "🔧 Augmenting label 29: 12 → 200 (+188)\n",
      "🔧 Augmenting label 30: 16 → 200 (+184)\n",
      "🔧 Augmenting label 31: 80 → 200 (+120)\n",
      "🔧 Augmenting label 32: 36 → 200 (+164)\n",
      "🔧 Augmenting label 33: 32 → 200 (+168)\n",
      "🔧 Augmenting label 34: 29 → 200 (+171)\n",
      "🔧 Augmenting label 35: 12 → 200 (+188)\n",
      "🔧 Augmenting label 36: 28 → 200 (+172)\n",
      "🔧 Augmenting label 37: 22 → 200 (+178)\n",
      "🔧 Augmenting label 38: 5 → 200 (+195)\n",
      "🔧 Augmenting label 39: 103 → 200 (+97)\n",
      "🔧 Augmenting label 40: 11 → 200 (+189)\n",
      "🔧 Augmenting label 41: 9 → 200 (+191)\n",
      "🔧 Augmenting label 42: 147 → 200 (+53)\n",
      "🔧 Augmenting label 43: 16 → 200 (+184)\n",
      "🔧 Augmenting label 44: 20 → 200 (+180)\n",
      "🔧 Augmenting label 45: 9 → 200 (+191)\n",
      "🔧 Augmenting label 46: 55 → 200 (+145)\n",
      "🔧 Augmenting label 49: 70 → 200 (+130)\n",
      "Label distribution after resampling:\n",
      "  label 0: 3179\n",
      "  label 1: 109\n",
      "  label 2: 200\n",
      "  label 3: 26\n",
      "  label 4: 206\n",
      "  label 5: 171\n",
      "  label 6: 180\n",
      "  label 7: 32\n",
      "  label 8: 88\n",
      "  label 9: 200\n",
      "  label 10: 114\n",
      "  label 11: 200\n",
      "  label 12: 200\n",
      "  label 13: 29\n",
      "  label 14: 23\n",
      "  label 15: 29\n",
      "  label 16: 64\n",
      "  label 17: 231\n",
      "  label 18: 117\n",
      "  label 19: 72\n",
      "  label 20: 40\n",
      "  label 21: 45\n",
      "  label 22: 118\n",
      "  label 23: 200\n",
      "  label 24: 61\n",
      "  label 25: 142\n",
      "  label 26: 121\n",
      "  label 27: 88\n",
      "  label 28: 33\n",
      "  label 29: 15\n",
      "  label 30: 97\n",
      "  label 31: 170\n",
      "  label 32: 43\n",
      "  label 33: 36\n",
      "  label 34: 33\n",
      "  label 35: 26\n",
      "  label 36: 110\n",
      "  label 37: 118\n",
      "  label 38: 17\n",
      "  label 39: 200\n",
      "  label 40: 32\n",
      "  label 41: 25\n",
      "  label 42: 200\n",
      "  label 43: 99\n",
      "  label 44: 25\n",
      "  label 45: 17\n",
      "  label 46: 120\n",
      "  label 47: 529\n",
      "  label 48: 201\n",
      "  label 49: 117\n",
      "model is bert-base-uncased bilstm\n",
      "Epoch 1/20\n"
     ]
    },
    {
     "name": "stderr",
     "output_type": "stream",
     "text": [
      "100%|██████████| 535/535 [00:49<00:00, 10.81it/s]\n"
     ]
    },
    {
     "name": "stdout",
     "output_type": "stream",
     "text": [
      "{'val_loss': 1.682061290403582, 'val_accuracy': 0.5901833234772325, 'precision': 0.41714212033120746, 'recall': 0.5901833234772325, 'f1-score': 0.47618697516455616, 'macro_f1-score': 0.12721265408077115, 'balanced_accuracy': 0.1512170430001193, 'mcc': 0.40455847077525026, 'train_loss': 2.3221883772689607}\n",
      "Epoch 2/20\n"
     ]
    },
    {
     "name": "stderr",
     "output_type": "stream",
     "text": [
      "100%|██████████| 535/535 [00:49<00:00, 10.78it/s]\n"
     ]
    },
    {
     "name": "stdout",
     "output_type": "stream",
     "text": [
      "{'val_loss': 1.4657463262665946, 'val_accuracy': 0.6108811354228267, 'precision': 0.5547634982097003, 'recall': 0.6108811354228267, 'f1-score': 0.5537824793479309, 'macro_f1-score': 0.19250560400022715, 'balanced_accuracy': 0.21144259564395093, 'mcc': 0.4648208333881868, 'train_loss': 1.6936480143359889}\n",
      "Epoch 3/20\n"
     ]
    },
    {
     "name": "stderr",
     "output_type": "stream",
     "text": [
      "100%|██████████| 535/535 [00:49<00:00, 10.82it/s]\n"
     ]
    },
    {
     "name": "stdout",
     "output_type": "stream",
     "text": [
      "{'val_loss': 1.4086450433956001, 'val_accuracy': 0.6191602602010644, 'precision': 0.5563838529196266, 'recall': 0.6191602602010644, 'f1-score': 0.5731004114619249, 'macro_f1-score': 0.22000473832617776, 'balanced_accuracy': 0.2226632787193739, 'mcc': 0.4741315773885418, 'train_loss': 1.3905978684670457}\n",
      "Epoch 4/20\n"
     ]
    },
    {
     "name": "stderr",
     "output_type": "stream",
     "text": [
      "100%|██████████| 535/535 [00:49<00:00, 10.73it/s]\n"
     ]
    },
    {
     "name": "stdout",
     "output_type": "stream",
     "text": [
      "{'val_loss': 1.3596669761639721, 'val_accuracy': 0.6392667060910704, 'precision': 0.6310732223575831, 'recall': 0.6392667060910704, 'f1-score': 0.6252968772431015, 'macro_f1-score': 0.3131211205088376, 'balanced_accuracy': 0.32515408911403293, 'mcc': 0.527298252554199, 'train_loss': 1.157296466326045}\n",
      "Epoch 5/20\n"
     ]
    },
    {
     "name": "stderr",
     "output_type": "stream",
     "text": [
      "100%|██████████| 535/535 [00:49<00:00, 10.82it/s]\n"
     ]
    },
    {
     "name": "stdout",
     "output_type": "stream",
     "text": [
      "{'val_loss': 1.4041859128002852, 'val_accuracy': 0.6363098758131284, 'precision': 0.6195995477841085, 'recall': 0.6363098758131284, 'f1-score': 0.6146827514271607, 'macro_f1-score': 0.29605875921090036, 'balanced_accuracy': 0.3115828511383055, 'mcc': 0.5119773359318432, 'train_loss': 1.0035456501713422}\n",
      "Epoch 6/20\n"
     ]
    },
    {
     "name": "stderr",
     "output_type": "stream",
     "text": [
      "100%|██████████| 535/535 [00:49<00:00, 10.81it/s]\n"
     ]
    },
    {
     "name": "stdout",
     "output_type": "stream",
     "text": [
      "{'val_loss': 1.4443998589830578, 'val_accuracy': 0.6369012418687168, 'precision': 0.6311240904363091, 'recall': 0.6369012418687168, 'f1-score': 0.6225421068218291, 'macro_f1-score': 0.3382161590313932, 'balanced_accuracy': 0.3409312396942774, 'mcc': 0.5154515309313457, 'train_loss': 0.8795441206927611}\n",
      "Epoch 7/20\n"
     ]
    },
    {
     "name": "stderr",
     "output_type": "stream",
     "text": [
      "100%|██████████| 535/535 [00:49<00:00, 10.78it/s]\n"
     ]
    },
    {
     "name": "stdout",
     "output_type": "stream",
     "text": [
      "{'val_loss': 1.419515513867702, 'val_accuracy': 0.6215257244234181, 'precision': 0.6493055903933364, 'recall': 0.6215257244234181, 'f1-score': 0.6221501497850742, 'macro_f1-score': 0.354588182570493, 'balanced_accuracy': 0.359807602087583, 'mcc': 0.5082905985862208, 'train_loss': 0.7783231348356354}\n",
      "Epoch 8/20\n"
     ]
    },
    {
     "name": "stderr",
     "output_type": "stream",
     "text": [
      "100%|██████████| 535/535 [00:49<00:00, 10.80it/s]\n"
     ]
    },
    {
     "name": "stdout",
     "output_type": "stream",
     "text": [
      "{'val_loss': 1.456230123931507, 'val_accuracy': 0.6345357776463632, 'precision': 0.6477762803806083, 'recall': 0.6345357776463632, 'f1-score': 0.6300095277514517, 'macro_f1-score': 0.35240185164539545, 'balanced_accuracy': 0.3636420492246928, 'mcc': 0.5186679047829419, 'train_loss': 0.725128281701391}\n",
      "Epoch 9/20\n"
     ]
    },
    {
     "name": "stderr",
     "output_type": "stream",
     "text": [
      "100%|██████████| 535/535 [00:49<00:00, 10.77it/s]\n"
     ]
    },
    {
     "name": "stdout",
     "output_type": "stream",
     "text": [
      "{'val_loss': 1.473235032187318, 'val_accuracy': 0.6363098758131284, 'precision': 0.6662792223865543, 'recall': 0.6363098758131284, 'f1-score': 0.6322074707094995, 'macro_f1-score': 0.35034544092397696, 'balanced_accuracy': 0.3728406481281318, 'mcc': 0.527823351102723, 'train_loss': 0.6641950152187704}\n",
      "Epoch 10/20\n"
     ]
    },
    {
     "name": "stderr",
     "output_type": "stream",
     "text": [
      "100%|██████████| 535/535 [00:49<00:00, 10.80it/s]\n"
     ]
    },
    {
     "name": "stdout",
     "output_type": "stream",
     "text": [
      "{'val_loss': 1.5363084105950482, 'val_accuracy': 0.6150206978119456, 'precision': 0.6576842371419334, 'recall': 0.6150206978119456, 'f1-score': 0.6183012233093871, 'macro_f1-score': 0.3668016178093533, 'balanced_accuracy': 0.3992647854885511, 'mcc': 0.5067072481093111, 'train_loss': 0.6265215731809073}\n",
      "Epoch 11/20\n"
     ]
    },
    {
     "name": "stderr",
     "output_type": "stream",
     "text": [
      "100%|██████████| 535/535 [00:49<00:00, 10.75it/s]\n"
     ]
    },
    {
     "name": "stdout",
     "output_type": "stream",
     "text": [
      "{'val_loss': 1.4859398322285347, 'val_accuracy': 0.6404494382022472, 'precision': 0.648626034409523, 'recall': 0.6404494382022472, 'f1-score': 0.632210073404168, 'macro_f1-score': 0.3917582311903899, 'balanced_accuracy': 0.41113014532106557, 'mcc': 0.5309514316087777, 'train_loss': 0.6160767206382529}\n",
      "Epoch 12/20\n"
     ]
    },
    {
     "name": "stderr",
     "output_type": "stream",
     "text": [
      "100%|██████████| 535/535 [00:49<00:00, 10.79it/s]\n"
     ]
    },
    {
     "name": "stdout",
     "output_type": "stream",
     "text": [
      "{'val_loss': 1.4429281120592694, 'val_accuracy': 0.6593731519810763, 'precision': 0.6489226482417195, 'recall': 0.6593731519810763, 'f1-score': 0.6447629764710558, 'macro_f1-score': 0.35890621425911434, 'balanced_accuracy': 0.3604097748532519, 'mcc': 0.5482681545156076, 'train_loss': 0.5886721703493707}\n",
      "Epoch 13/20\n"
     ]
    },
    {
     "name": "stderr",
     "output_type": "stream",
     "text": [
      "100%|██████████| 535/535 [00:49<00:00, 10.78it/s]\n"
     ]
    },
    {
     "name": "stdout",
     "output_type": "stream",
     "text": [
      "{'val_loss': 1.5994374032290477, 'val_accuracy': 0.6096984033116499, 'precision': 0.6565635969059116, 'recall': 0.6096984033116499, 'f1-score': 0.6230439893210133, 'macro_f1-score': 0.37142108053134193, 'balanced_accuracy': 0.40420038036928446, 'mcc': 0.5109670396940638, 'train_loss': 0.5617028561986496}\n",
      "Epoch 14/20\n"
     ]
    },
    {
     "name": "stderr",
     "output_type": "stream",
     "text": [
      "100%|██████████| 535/535 [00:49<00:00, 10.80it/s]\n"
     ]
    },
    {
     "name": "stdout",
     "output_type": "stream",
     "text": [
      "{'val_loss': 1.6654090386516642, 'val_accuracy': 0.6014192785334121, 'precision': 0.6479163866028712, 'recall': 0.6014192785334121, 'f1-score': 0.6110239216022169, 'macro_f1-score': 0.36201573798334397, 'balanced_accuracy': 0.39843460772893236, 'mcc': 0.4998916765778373, 'train_loss': 0.5683675433778874}\n",
      "Early stopping.\n",
      "\n",
      "[Fold 4]\n",
      "🚀 Using SBERT for data augmentation\n",
      "Using device: cuda\n",
      "CUDA Available: True\n",
      "CUDA Device: NVIDIA GeForce RTX 5070 Ti\n",
      "Current GPU Memory Allocated: 2.00 GB\n",
      "Current GPU Memory Cached: 3.25 GB\n",
      "Model device: cuda:0\n",
      "🔧 Augmenting label 1: 25 → 200 (+175)\n",
      "🔧 Augmenting label 2: 112 → 200 (+88)\n",
      "🔧 Augmenting label 3: 24 → 200 (+176)\n",
      "🔧 Augmenting label 5: 116 → 200 (+84)\n",
      "🔧 Augmenting label 6: 94 → 200 (+106)\n",
      "🔧 Augmenting label 7: 32 → 200 (+168)\n",
      "🔧 Augmenting label 8: 68 → 200 (+132)\n",
      "🔧 Augmenting label 9: 64 → 200 (+136)\n",
      "🔧 Augmenting label 10: 71 → 200 (+129)\n",
      "🔧 Augmenting label 11: 172 → 200 (+28)\n",
      "🔧 Augmenting label 12: 193 → 200 (+7)\n",
      "🔧 Augmenting label 13: 28 → 200 (+172)\n",
      "🔧 Augmenting label 14: 24 → 200 (+176)\n",
      "🔧 Augmenting label 15: 24 → 200 (+176)\n",
      "🔧 Augmenting label 16: 20 → 200 (+180)\n",
      "🔧 Augmenting label 18: 92 → 200 (+108)\n",
      "🔧 Augmenting label 19: 45 → 200 (+155)\n",
      "🔧 Augmenting label 20: 15 → 200 (+185)\n",
      "🔧 Augmenting label 21: 35 → 200 (+165)\n",
      "🔧 Augmenting label 22: 77 → 200 (+123)\n",
      "🔧 Augmenting label 23: 160 → 200 (+40)\n",
      "🔧 Augmenting label 24: 16 → 200 (+184)\n",
      "🔧 Augmenting label 25: 51 → 200 (+149)\n",
      "🔧 Augmenting label 26: 85 → 200 (+115)\n",
      "🔧 Augmenting label 27: 49 → 200 (+151)\n",
      "🔧 Augmenting label 28: 12 → 200 (+188)\n",
      "🔧 Augmenting label 29: 13 → 200 (+187)\n",
      "🔧 Augmenting label 30: 15 → 200 (+185)\n",
      "🔧 Augmenting label 31: 80 → 200 (+120)\n",
      "🔧 Augmenting label 32: 36 → 200 (+164)\n",
      "🔧 Augmenting label 33: 32 → 200 (+168)\n",
      "🔧 Augmenting label 34: 29 → 200 (+171)\n",
      "🔧 Augmenting label 35: 12 → 200 (+188)\n",
      "🔧 Augmenting label 36: 28 → 200 (+172)\n",
      "🔧 Augmenting label 37: 22 → 200 (+178)\n",
      "🔧 Augmenting label 38: 6 → 200 (+194)\n",
      "🔧 Augmenting label 39: 103 → 200 (+97)\n",
      "🔧 Augmenting label 40: 11 → 200 (+189)\n",
      "🔧 Augmenting label 41: 9 → 200 (+191)\n",
      "🔧 Augmenting label 42: 148 → 200 (+52)\n",
      "🔧 Augmenting label 43: 16 → 200 (+184)\n",
      "🔧 Augmenting label 44: 20 → 200 (+180)\n",
      "🔧 Augmenting label 45: 8 → 200 (+192)\n",
      "🔧 Augmenting label 46: 54 → 200 (+146)\n",
      "🔧 Augmenting label 49: 70 → 200 (+130)\n",
      "Label distribution after resampling:\n",
      "  label 0: 3179\n",
      "  label 1: 110\n",
      "  label 2: 200\n",
      "  label 3: 24\n",
      "  label 4: 206\n",
      "  label 5: 163\n",
      "  label 6: 198\n",
      "  label 7: 36\n",
      "  label 8: 84\n",
      "  label 9: 200\n",
      "  label 10: 117\n",
      "  label 11: 200\n",
      "  label 12: 200\n",
      "  label 13: 32\n",
      "  label 14: 24\n",
      "  label 15: 26\n",
      "  label 16: 60\n",
      "  label 17: 232\n",
      "  label 18: 129\n",
      "  label 19: 60\n",
      "  label 20: 52\n",
      "  label 21: 45\n",
      "  label 22: 129\n",
      "  label 23: 200\n",
      "  label 24: 73\n",
      "  label 25: 173\n",
      "  label 26: 121\n",
      "  label 27: 92\n",
      "  label 28: 50\n",
      "  label 29: 14\n",
      "  label 30: 86\n",
      "  label 31: 190\n",
      "  label 32: 45\n",
      "  label 33: 38\n",
      "  label 34: 32\n",
      "  label 35: 26\n",
      "  label 36: 81\n",
      "  label 37: 112\n",
      "  label 38: 18\n",
      "  label 39: 200\n",
      "  label 40: 40\n",
      "  label 41: 20\n",
      "  label 42: 200\n",
      "  label 43: 114\n",
      "  label 44: 34\n",
      "  label 45: 21\n",
      "  label 46: 140\n",
      "  label 47: 529\n",
      "  label 48: 201\n",
      "  label 49: 117\n",
      "model is bert-base-uncased bilstm\n",
      "Epoch 1/20\n"
     ]
    },
    {
     "name": "stderr",
     "output_type": "stream",
     "text": [
      "100%|██████████| 543/543 [00:50<00:00, 10.80it/s]\n"
     ]
    },
    {
     "name": "stdout",
     "output_type": "stream",
     "text": [
      "{'val_loss': 1.649524984494695, 'val_accuracy': 0.5984624482554701, 'precision': 0.5416472618592798, 'recall': 0.5984624482554701, 'f1-score': 0.5499175047172269, 'macro_f1-score': 0.1563028963609313, 'balanced_accuracy': 0.18467159680436268, 'mcc': 0.4546258382158081, 'train_loss': 2.283864218117343}\n",
      "Epoch 2/20\n"
     ]
    },
    {
     "name": "stderr",
     "output_type": "stream",
     "text": [
      "100%|██████████| 543/543 [00:50<00:00, 10.76it/s]\n"
     ]
    },
    {
     "name": "stdout",
     "output_type": "stream",
     "text": [
      "{'val_loss': 1.3914194854925264, 'val_accuracy': 0.6428149024246008, 'precision': 0.5956277719712457, 'recall': 0.6428149024246008, 'f1-score': 0.5965737732546533, 'macro_f1-score': 0.2282978885108104, 'balanced_accuracy': 0.2562472299868551, 'mcc': 0.5123637190209098, 'train_loss': 1.6570421624139746}\n",
      "Epoch 3/20\n"
     ]
    },
    {
     "name": "stderr",
     "output_type": "stream",
     "text": [
      "100%|██████████| 543/543 [00:50<00:00, 10.81it/s]\n"
     ]
    },
    {
     "name": "stdout",
     "output_type": "stream",
     "text": [
      "{'val_loss': 1.3406467342151787, 'val_accuracy': 0.6108811354228267, 'precision': 0.6185559616538912, 'recall': 0.6108811354228267, 'f1-score': 0.591387638177873, 'macro_f1-score': 0.2664686999304802, 'balanced_accuracy': 0.2914403663573268, 'mcc': 0.4877316962424588, 'train_loss': 1.3722140964662612}\n",
      "Epoch 4/20\n"
     ]
    },
    {
     "name": "stderr",
     "output_type": "stream",
     "text": [
      "100%|██████████| 543/543 [00:50<00:00, 10.75it/s]\n"
     ]
    },
    {
     "name": "stdout",
     "output_type": "stream",
     "text": [
      "{'val_loss': 1.2785991762044295, 'val_accuracy': 0.6658781785925488, 'precision': 0.6317316825454076, 'recall': 0.6658781785925488, 'f1-score': 0.6322268752225013, 'macro_f1-score': 0.2980237137581769, 'balanced_accuracy': 0.2983734760206356, 'mcc': 0.5454629654899421, 'train_loss': 1.1533184019817833}\n",
      "Epoch 5/20\n"
     ]
    },
    {
     "name": "stderr",
     "output_type": "stream",
     "text": [
      "100%|██████████| 543/543 [00:50<00:00, 10.80it/s]\n"
     ]
    },
    {
     "name": "stdout",
     "output_type": "stream",
     "text": [
      "{'val_loss': 1.289903572567229, 'val_accuracy': 0.6534594914251922, 'precision': 0.6439373200210012, 'recall': 0.6534594914251922, 'f1-score': 0.6345466979534119, 'macro_f1-score': 0.319817325667849, 'balanced_accuracy': 0.3426581729104434, 'mcc': 0.5469470918843775, 'train_loss': 1.005415748880274}\n",
      "Epoch 6/20\n"
     ]
    },
    {
     "name": "stderr",
     "output_type": "stream",
     "text": [
      "100%|██████████| 543/543 [00:50<00:00, 10.80it/s]\n"
     ]
    },
    {
     "name": "stdout",
     "output_type": "stream",
     "text": [
      "{'val_loss': 1.2875671725509301, 'val_accuracy': 0.6670609107037256, 'precision': 0.6695042497804861, 'recall': 0.6670609107037256, 'f1-score': 0.6552462239086055, 'macro_f1-score': 0.38744084005641993, 'balanced_accuracy': 0.40102864579145714, 'mcc': 0.5683199634565297, 'train_loss': 0.8853500721012251}\n",
      "Epoch 7/20\n"
     ]
    },
    {
     "name": "stderr",
     "output_type": "stream",
     "text": [
      "100%|██████████| 543/543 [00:50<00:00, 10.79it/s]\n"
     ]
    },
    {
     "name": "stdout",
     "output_type": "stream",
     "text": [
      "{'val_loss': 1.389599935907238, 'val_accuracy': 0.6398580721466588, 'precision': 0.6715560064317784, 'recall': 0.6398580721466588, 'f1-score': 0.6282637573233254, 'macro_f1-score': 0.3853365723767842, 'balanced_accuracy': 0.395715922106958, 'mcc': 0.5248765548418964, 'train_loss': 0.7796030226292202}\n",
      "Epoch 8/20\n"
     ]
    },
    {
     "name": "stderr",
     "output_type": "stream",
     "text": [
      "100%|██████████| 543/543 [00:50<00:00, 10.80it/s]\n"
     ]
    },
    {
     "name": "stdout",
     "output_type": "stream",
     "text": [
      "{'val_loss': 1.382142591307748, 'val_accuracy': 0.6369012418687168, 'precision': 0.6724987786040859, 'recall': 0.6369012418687168, 'f1-score': 0.6373683018095986, 'macro_f1-score': 0.39340975460378663, 'balanced_accuracy': 0.40527146486945326, 'mcc': 0.5254972504474331, 'train_loss': 0.7272699990517307}\n",
      "Epoch 9/20\n"
     ]
    },
    {
     "name": "stderr",
     "output_type": "stream",
     "text": [
      "100%|██████████| 543/543 [00:50<00:00, 10.77it/s]\n"
     ]
    },
    {
     "name": "stdout",
     "output_type": "stream",
     "text": [
      "{'val_loss': 1.4078205494948153, 'val_accuracy': 0.6564163217031342, 'precision': 0.6672814925095597, 'recall': 0.6564163217031342, 'f1-score': 0.6520022703170038, 'macro_f1-score': 0.400857688855857, 'balanced_accuracy': 0.4174225918270947, 'mcc': 0.5504271736005012, 'train_loss': 0.6770555901771641}\n",
      "Epoch 10/20\n"
     ]
    },
    {
     "name": "stderr",
     "output_type": "stream",
     "text": [
      "100%|██████████| 543/543 [00:50<00:00, 10.78it/s]\n"
     ]
    },
    {
     "name": "stdout",
     "output_type": "stream",
     "text": [
      "{'val_loss': 1.478588415766662, 'val_accuracy': 0.6593731519810763, 'precision': 0.6628741107122796, 'recall': 0.6593731519810763, 'f1-score': 0.6519387049225669, 'macro_f1-score': 0.40746488364258554, 'balanced_accuracy': 0.4177737186012844, 'mcc': 0.5493354362988991, 'train_loss': 0.6460825039509471}\n",
      "Epoch 11/20\n"
     ]
    },
    {
     "name": "stderr",
     "output_type": "stream",
     "text": [
      "100%|██████████| 543/543 [00:50<00:00, 10.77it/s]\n"
     ]
    },
    {
     "name": "stdout",
     "output_type": "stream",
     "text": [
      "{'val_loss': 1.396789270611304, 'val_accuracy': 0.6623299822590183, 'precision': 0.6626910516019845, 'recall': 0.6623299822590183, 'f1-score': 0.6533931569591902, 'macro_f1-score': 0.3819863887432197, 'balanced_accuracy': 0.38707824990627904, 'mcc': 0.5549781543487742, 'train_loss': 0.6299994367193671}\n",
      "Epoch 12/20\n"
     ]
    },
    {
     "name": "stderr",
     "output_type": "stream",
     "text": [
      "100%|██████████| 543/543 [00:50<00:00, 10.80it/s]\n"
     ]
    },
    {
     "name": "stdout",
     "output_type": "stream",
     "text": [
      "{'val_loss': 1.485944822219745, 'val_accuracy': 0.6706091070372561, 'precision': 0.6706704907808483, 'recall': 0.6706091070372561, 'f1-score': 0.6606735141524179, 'macro_f1-score': 0.40762117888729965, 'balanced_accuracy': 0.40642093012528485, 'mcc': 0.5603219598065855, 'train_loss': 0.6051301319241305}\n",
      "Epoch 13/20\n"
     ]
    },
    {
     "name": "stderr",
     "output_type": "stream",
     "text": [
      "100%|██████████| 543/543 [00:50<00:00, 10.78it/s]\n"
     ]
    },
    {
     "name": "stdout",
     "output_type": "stream",
     "text": [
      "{'val_loss': 1.4766871907379266, 'val_accuracy': 0.6777054997043169, 'precision': 0.6773523404267228, 'recall': 0.6777054997043169, 'f1-score': 0.669942944210109, 'macro_f1-score': 0.4183877353293423, 'balanced_accuracy': 0.4132120145207313, 'mcc': 0.5729710456590068, 'train_loss': 0.5810892636824269}\n",
      "Epoch 14/20\n"
     ]
    },
    {
     "name": "stderr",
     "output_type": "stream",
     "text": [
      "100%|██████████| 543/543 [00:50<00:00, 10.80it/s]\n"
     ]
    },
    {
     "name": "stdout",
     "output_type": "stream",
     "text": [
      "{'val_loss': 1.438416527408474, 'val_accuracy': 0.6623299822590183, 'precision': 0.6678773250269862, 'recall': 0.6623299822590183, 'f1-score': 0.6575381084107318, 'macro_f1-score': 0.39613524025785224, 'balanced_accuracy': 0.40986560436027686, 'mcc': 0.5560793148348101, 'train_loss': 0.582822622058992}\n",
      "Epoch 15/20\n"
     ]
    },
    {
     "name": "stderr",
     "output_type": "stream",
     "text": [
      "100%|██████████| 543/543 [00:50<00:00, 10.78it/s]\n"
     ]
    },
    {
     "name": "stdout",
     "output_type": "stream",
     "text": [
      "{'val_loss': 1.528529076221979, 'val_accuracy': 0.6670609107037256, 'precision': 0.667057281560857, 'recall': 0.6670609107037256, 'f1-score': 0.6586575920972476, 'macro_f1-score': 0.41419469918689766, 'balanced_accuracy': 0.41034346116770687, 'mcc': 0.5599599277505782, 'train_loss': 0.574270734517161}\n",
      "Epoch 16/20\n"
     ]
    },
    {
     "name": "stderr",
     "output_type": "stream",
     "text": [
      "100%|██████████| 543/543 [00:50<00:00, 10.81it/s]\n"
     ]
    },
    {
     "name": "stdout",
     "output_type": "stream",
     "text": [
      "{'val_loss': 1.4812598931339551, 'val_accuracy': 0.6534594914251922, 'precision': 0.6805648004164622, 'recall': 0.6534594914251922, 'f1-score': 0.6535319980931129, 'macro_f1-score': 0.4074032320747687, 'balanced_accuracy': 0.4192536692751123, 'mcc': 0.5526816485928041, 'train_loss': 0.5613449287350405}\n",
      "Early stopping.\n",
      "\n",
      "[Fold 5]\n",
      "🚀 Using SBERT for data augmentation\n",
      "Using device: cuda\n",
      "CUDA Available: True\n",
      "CUDA Device: NVIDIA GeForce RTX 5070 Ti\n",
      "Current GPU Memory Allocated: 1.99 GB\n",
      "Current GPU Memory Cached: 3.25 GB\n",
      "Model device: cuda:0\n",
      "🔧 Augmenting label 1: 24 → 200 (+176)\n",
      "🔧 Augmenting label 2: 112 → 200 (+88)\n",
      "🔧 Augmenting label 3: 24 → 200 (+176)\n",
      "🔧 Augmenting label 5: 116 → 200 (+84)\n",
      "🔧 Augmenting label 6: 95 → 200 (+105)\n",
      "🔧 Augmenting label 7: 31 → 200 (+169)\n",
      "🔧 Augmenting label 8: 68 → 200 (+132)\n",
      "🔧 Augmenting label 9: 65 → 200 (+135)\n",
      "🔧 Augmenting label 10: 70 → 200 (+130)\n",
      "🔧 Augmenting label 11: 172 → 200 (+28)\n",
      "🔧 Augmenting label 12: 193 → 200 (+7)\n",
      "🔧 Augmenting label 13: 29 → 200 (+171)\n",
      "🔧 Augmenting label 14: 23 → 200 (+177)\n",
      "🔧 Augmenting label 15: 25 → 200 (+175)\n",
      "🔧 Augmenting label 16: 20 → 200 (+180)\n",
      "🔧 Augmenting label 18: 93 → 200 (+107)\n",
      "🔧 Augmenting label 19: 44 → 200 (+156)\n",
      "🔧 Augmenting label 20: 15 → 200 (+185)\n",
      "🔧 Augmenting label 21: 35 → 200 (+165)\n",
      "🔧 Augmenting label 22: 78 → 200 (+122)\n",
      "🔧 Augmenting label 23: 160 → 200 (+40)\n",
      "🔧 Augmenting label 24: 16 → 200 (+184)\n",
      "🔧 Augmenting label 25: 50 → 200 (+150)\n",
      "🔧 Augmenting label 26: 86 → 200 (+114)\n",
      "🔧 Augmenting label 27: 48 → 200 (+152)\n",
      "🔧 Augmenting label 28: 12 → 200 (+188)\n",
      "🔧 Augmenting label 29: 13 → 200 (+187)\n",
      "🔧 Augmenting label 30: 15 → 200 (+185)\n",
      "🔧 Augmenting label 31: 80 → 200 (+120)\n",
      "🔧 Augmenting label 32: 36 → 200 (+164)\n",
      "🔧 Augmenting label 33: 32 → 200 (+168)\n",
      "🔧 Augmenting label 34: 30 → 200 (+170)\n",
      "🔧 Augmenting label 35: 12 → 200 (+188)\n",
      "🔧 Augmenting label 36: 28 → 200 (+172)\n",
      "🔧 Augmenting label 37: 21 → 200 (+179)\n",
      "🔧 Augmenting label 38: 6 → 200 (+194)\n",
      "🔧 Augmenting label 39: 104 → 200 (+96)\n",
      "🔧 Augmenting label 40: 11 → 200 (+189)\n",
      "🔧 Augmenting label 41: 9 → 200 (+191)\n",
      "🔧 Augmenting label 42: 147 → 200 (+53)\n",
      "🔧 Augmenting label 43: 16 → 200 (+184)\n",
      "🔧 Augmenting label 44: 20 → 200 (+180)\n",
      "🔧 Augmenting label 45: 9 → 200 (+191)\n",
      "🔧 Augmenting label 46: 54 → 200 (+146)\n",
      "🔧 Augmenting label 49: 70 → 200 (+130)\n",
      "Label distribution after resampling:\n",
      "  label 0: 3180\n",
      "  label 1: 123\n",
      "  label 2: 200\n",
      "  label 3: 26\n",
      "  label 4: 205\n",
      "  label 5: 160\n",
      "  label 6: 163\n",
      "  label 7: 38\n",
      "  label 8: 83\n",
      "  label 9: 200\n",
      "  label 10: 104\n",
      "  label 11: 200\n",
      "  label 12: 200\n",
      "  label 13: 31\n",
      "  label 14: 23\n",
      "  label 15: 25\n",
      "  label 16: 59\n",
      "  label 17: 231\n",
      "  label 18: 115\n",
      "  label 19: 69\n",
      "  label 20: 45\n",
      "  label 21: 39\n",
      "  label 22: 120\n",
      "  label 23: 200\n",
      "  label 24: 69\n",
      "  label 25: 177\n",
      "  label 26: 137\n",
      "  label 27: 78\n",
      "  label 28: 40\n",
      "  label 29: 15\n",
      "  label 30: 83\n",
      "  label 31: 196\n",
      "  label 32: 46\n",
      "  label 33: 34\n",
      "  label 34: 35\n",
      "  label 35: 14\n",
      "  label 36: 98\n",
      "  label 37: 131\n",
      "  label 38: 27\n",
      "  label 39: 200\n",
      "  label 40: 42\n",
      "  label 41: 16\n",
      "  label 42: 200\n",
      "  label 43: 92\n",
      "  label 44: 31\n",
      "  label 45: 13\n",
      "  label 46: 92\n",
      "  label 47: 529\n",
      "  label 48: 202\n",
      "  label 49: 128\n",
      "model is bert-base-uncased bilstm\n",
      "Epoch 1/20\n"
     ]
    },
    {
     "name": "stderr",
     "output_type": "stream",
     "text": [
      "100%|██████████| 536/536 [00:49<00:00, 10.80it/s]\n"
     ]
    },
    {
     "name": "stdout",
     "output_type": "stream",
     "text": [
      "{'val_loss': 1.6621153472729449, 'val_accuracy': 0.5822485207100592, 'precision': 0.44549978505258175, 'recall': 0.5822485207100592, 'f1-score': 0.4891382559221879, 'macro_f1-score': 0.11403159643022956, 'balanced_accuracy': 0.1295496136430379, 'mcc': 0.39946086279841087, 'train_loss': 2.3025524867559546}\n",
      "Epoch 2/20\n"
     ]
    },
    {
     "name": "stderr",
     "output_type": "stream",
     "text": [
      "100%|██████████| 536/536 [00:49<00:00, 10.79it/s]\n"
     ]
    },
    {
     "name": "stdout",
     "output_type": "stream",
     "text": [
      "{'val_loss': 1.4725642971835047, 'val_accuracy': 0.6272189349112426, 'precision': 0.5479165134503201, 'recall': 0.6272189349112426, 'f1-score': 0.5543452946272075, 'macro_f1-score': 0.1755461438016227, 'balanced_accuracy': 0.19001785923410006, 'mcc': 0.4759851739372268, 'train_loss': 1.651765887861821}\n",
      "Epoch 3/20\n"
     ]
    },
    {
     "name": "stderr",
     "output_type": "stream",
     "text": [
      "100%|██████████| 536/536 [00:49<00:00, 10.79it/s]\n"
     ]
    },
    {
     "name": "stdout",
     "output_type": "stream",
     "text": [
      "{'val_loss': 1.3997917962524127, 'val_accuracy': 0.6331360946745562, 'precision': 0.6455857352639796, 'recall': 0.6331360946745562, 'f1-score': 0.6159055575915056, 'macro_f1-score': 0.24831976845762305, 'balanced_accuracy': 0.28306694585862535, 'mcc': 0.5213705339383145, 'train_loss': 1.3590266943089109}\n",
      "Epoch 4/20\n"
     ]
    },
    {
     "name": "stderr",
     "output_type": "stream",
     "text": [
      "100%|██████████| 536/536 [00:49<00:00, 10.80it/s]\n"
     ]
    },
    {
     "name": "stdout",
     "output_type": "stream",
     "text": [
      "{'val_loss': 1.3810107634877258, 'val_accuracy': 0.6254437869822486, 'precision': 0.6249311476751661, 'recall': 0.6254437869822486, 'f1-score': 0.6116835307571633, 'macro_f1-score': 0.2622771850874858, 'balanced_accuracy': 0.2940896993978103, 'mcc': 0.5159570074942141, 'train_loss': 1.1375744595234074}\n",
      "Epoch 5/20\n"
     ]
    },
    {
     "name": "stderr",
     "output_type": "stream",
     "text": [
      "100%|██████████| 536/536 [00:49<00:00, 10.75it/s]\n"
     ]
    },
    {
     "name": "stdout",
     "output_type": "stream",
     "text": [
      "{'val_loss': 1.4347232760123487, 'val_accuracy': 0.5911242603550296, 'precision': 0.6392130680348155, 'recall': 0.5911242603550296, 'f1-score': 0.6005651669551738, 'macro_f1-score': 0.28133567295145584, 'balanced_accuracy': 0.32518101269734395, 'mcc': 0.4940926151619167, 'train_loss': 0.9822900801785847}\n",
      "Epoch 6/20\n"
     ]
    },
    {
     "name": "stderr",
     "output_type": "stream",
     "text": [
      "100%|██████████| 536/536 [00:49<00:00, 10.82it/s]\n"
     ]
    },
    {
     "name": "stdout",
     "output_type": "stream",
     "text": [
      "{'val_loss': 1.3818695668904286, 'val_accuracy': 0.6437869822485207, 'precision': 0.638652436668186, 'recall': 0.6437869822485207, 'f1-score': 0.6317335523118535, 'macro_f1-score': 0.3172588115887958, 'balanced_accuracy': 0.33513989996830107, 'mcc': 0.5322858855798824, 'train_loss': 0.8624208096081196}\n",
      "Epoch 7/20\n"
     ]
    },
    {
     "name": "stderr",
     "output_type": "stream",
     "text": [
      "100%|██████████| 536/536 [00:49<00:00, 10.77it/s]\n"
     ]
    },
    {
     "name": "stdout",
     "output_type": "stream",
     "text": [
      "{'val_loss': 1.4161048920930557, 'val_accuracy': 0.6402366863905326, 'precision': 0.6536614184742074, 'recall': 0.6402366863905326, 'f1-score': 0.6366762034955109, 'macro_f1-score': 0.31978052066570867, 'balanced_accuracy': 0.352176813429982, 'mcc': 0.5365945363495748, 'train_loss': 0.7648173143614584}\n",
      "Epoch 8/20\n"
     ]
    },
    {
     "name": "stderr",
     "output_type": "stream",
     "text": [
      "100%|██████████| 536/536 [00:49<00:00, 10.80it/s]\n"
     ]
    },
    {
     "name": "stdout",
     "output_type": "stream",
     "text": [
      "{'val_loss': 1.44905627392373, 'val_accuracy': 0.6307692307692307, 'precision': 0.6338293261312545, 'recall': 0.6307692307692307, 'f1-score': 0.6256756938687242, 'macro_f1-score': 0.32183915915734446, 'balanced_accuracy': 0.3332136207362616, 'mcc': 0.5153943297616662, 'train_loss': 0.7011952251195908}\n",
      "Epoch 9/20\n"
     ]
    },
    {
     "name": "stderr",
     "output_type": "stream",
     "text": [
      "100%|██████████| 536/536 [00:49<00:00, 10.83it/s]\n"
     ]
    },
    {
     "name": "stdout",
     "output_type": "stream",
     "text": [
      "{'val_loss': 1.497356377401442, 'val_accuracy': 0.6402366863905326, 'precision': 0.635628488159816, 'recall': 0.6402366863905326, 'f1-score': 0.6263396710680815, 'macro_f1-score': 0.3245847380225038, 'balanced_accuracy': 0.31427019417818, 'mcc': 0.51924601231416, 'train_loss': 0.6638411809759799}\n",
      "Epoch 10/20\n"
     ]
    },
    {
     "name": "stderr",
     "output_type": "stream",
     "text": [
      "100%|██████████| 536/536 [00:49<00:00, 10.78it/s]\n"
     ]
    },
    {
     "name": "stdout",
     "output_type": "stream",
     "text": [
      "{'val_loss': 1.4920254613993302, 'val_accuracy': 0.6272189349112426, 'precision': 0.6530927689489637, 'recall': 0.6272189349112426, 'f1-score': 0.6284061556973, 'macro_f1-score': 0.34638378915017676, 'balanced_accuracy': 0.3759122957139342, 'mcc': 0.5191250186509268, 'train_loss': 0.6340809146831952}\n",
      "Epoch 11/20\n"
     ]
    },
    {
     "name": "stderr",
     "output_type": "stream",
     "text": [
      "100%|██████████| 536/536 [00:49<00:00, 10.83it/s]\n"
     ]
    },
    {
     "name": "stdout",
     "output_type": "stream",
     "text": [
      "{'val_loss': 1.5444395082458011, 'val_accuracy': 0.6473372781065089, 'precision': 0.6485973756157503, 'recall': 0.6473372781065089, 'f1-score': 0.6349120092257128, 'macro_f1-score': 0.3505551434985167, 'balanced_accuracy': 0.34553799112039796, 'mcc': 0.5318969404539878, 'train_loss': 0.6070792218878754}\n",
      "Epoch 12/20\n"
     ]
    },
    {
     "name": "stderr",
     "output_type": "stream",
     "text": [
      "100%|██████████| 536/536 [00:49<00:00, 10.77it/s]\n"
     ]
    },
    {
     "name": "stdout",
     "output_type": "stream",
     "text": [
      "{'val_loss': 1.5081859961995538, 'val_accuracy': 0.6278106508875739, 'precision': 0.6409082318171148, 'recall': 0.6278106508875739, 'f1-score': 0.6252925000278836, 'macro_f1-score': 0.33647715522706534, 'balanced_accuracy': 0.3702059956147971, 'mcc': 0.5248028361515416, 'train_loss': 0.5858601624312908}\n",
      "Epoch 13/20\n"
     ]
    },
    {
     "name": "stderr",
     "output_type": "stream",
     "text": [
      "100%|██████████| 536/536 [00:49<00:00, 10.81it/s]\n"
     ]
    },
    {
     "name": "stdout",
     "output_type": "stream",
     "text": [
      "{'val_loss': 1.5198300622122467, 'val_accuracy': 0.665680473372781, 'precision': 0.656815107076577, 'recall': 0.665680473372781, 'f1-score': 0.6497623273160865, 'macro_f1-score': 0.36475211484706643, 'balanced_accuracy': 0.36017769688619944, 'mcc': 0.5528681758868861, 'train_loss': 0.5791616968171143}\n",
      "Epoch 14/20\n"
     ]
    },
    {
     "name": "stderr",
     "output_type": "stream",
     "text": [
      "100%|██████████| 536/536 [00:49<00:00, 10.76it/s]\n"
     ]
    },
    {
     "name": "stdout",
     "output_type": "stream",
     "text": [
      "{'val_loss': 1.5670156684124246, 'val_accuracy': 0.6236686390532544, 'precision': 0.647336953991542, 'recall': 0.6236686390532544, 'f1-score': 0.6284581620732161, 'macro_f1-score': 0.36277868976220057, 'balanced_accuracy': 0.39298107678670435, 'mcc': 0.5180805845076182, 'train_loss': 0.5541734555597181}\n",
      "Epoch 15/20\n"
     ]
    },
    {
     "name": "stderr",
     "output_type": "stream",
     "text": [
      "100%|██████████| 536/536 [00:49<00:00, 10.81it/s]\n"
     ]
    },
    {
     "name": "stdout",
     "output_type": "stream",
     "text": [
      "{'val_loss': 1.5638416043992311, 'val_accuracy': 0.6562130177514793, 'precision': 0.6567972841907658, 'recall': 0.6562130177514793, 'f1-score': 0.6460332509132408, 'macro_f1-score': 0.34858852201261564, 'balanced_accuracy': 0.36312925819994335, 'mcc': 0.5463350284891577, 'train_loss': 0.5389357004905425}\n",
      "Epoch 16/20\n"
     ]
    },
    {
     "name": "stderr",
     "output_type": "stream",
     "text": [
      "100%|██████████| 536/536 [00:49<00:00, 10.81it/s]\n"
     ]
    },
    {
     "name": "stdout",
     "output_type": "stream",
     "text": [
      "{'val_loss': 1.564839412018938, 'val_accuracy': 0.6473372781065089, 'precision': 0.6499757303670939, 'recall': 0.6473372781065089, 'f1-score': 0.6383841710687997, 'macro_f1-score': 0.345574364789834, 'balanced_accuracy': 0.36197233372996934, 'mcc': 0.5360129050898755, 'train_loss': 0.539024516119997}\n",
      "Early stopping.\n",
      "\n",
      " === bert-base-uncased + bilstm + sbert Final 5-fold Cross-Validation Results ===\n",
      "Total time: 12975 seconds\n",
      "Total time: 3 hrs 36 mins 15 secs\n",
      "val_loss: 1.5082\n",
      "val_accuracy: 0.6534\n",
      "precision: 0.6585\n",
      "recall: 0.6534\n",
      "f1-score: 0.6459\n",
      "macro_f1-score: 0.3967\n",
      "balanced_accuracy: 0.4052\n",
      "mcc: 0.5430\n",
      "train_loss: 0.6044\n",
      "▶ Running: roberta-base + plain + sbert\n",
      "tokenizer is roberta-base\n",
      "Using device: cuda\n",
      "CUDA Available: True\n",
      "CUDA Device: NVIDIA GeForce RTX 5070 Ti\n",
      "Current GPU Memory Allocated: 0.11 GB\n",
      "Current GPU Memory Cached: 3.25 GB\n",
      "\n",
      "[Fold 1]\n",
      "🚀 Using SBERT for data augmentation\n",
      "Using device: cuda\n",
      "CUDA Available: True\n",
      "CUDA Device: NVIDIA GeForce RTX 5070 Ti\n",
      "Current GPU Memory Allocated: 0.20 GB\n",
      "Current GPU Memory Cached: 3.25 GB\n",
      "Model device: cuda:0\n",
      "🔧 Augmenting label 1: 25 → 200 (+175)\n",
      "🔧 Augmenting label 2: 112 → 200 (+88)\n",
      "🔧 Augmenting label 3: 24 → 200 (+176)\n",
      "🔧 Augmenting label 5: 116 → 200 (+84)\n",
      "🔧 Augmenting label 6: 95 → 200 (+105)\n",
      "🔧 Augmenting label 7: 31 → 200 (+169)\n",
      "🔧 Augmenting label 8: 68 → 200 (+132)\n",
      "🔧 Augmenting label 9: 65 → 200 (+135)\n",
      "🔧 Augmenting label 10: 70 → 200 (+130)\n",
      "🔧 Augmenting label 11: 172 → 200 (+28)\n",
      "🔧 Augmenting label 12: 193 → 200 (+7)\n",
      "🔧 Augmenting label 13: 29 → 200 (+171)\n",
      "🔧 Augmenting label 14: 23 → 200 (+177)\n",
      "🔧 Augmenting label 15: 25 → 200 (+175)\n",
      "🔧 Augmenting label 16: 20 → 200 (+180)\n",
      "🔧 Augmenting label 18: 93 → 200 (+107)\n",
      "🔧 Augmenting label 19: 45 → 200 (+155)\n",
      "🔧 Augmenting label 20: 14 → 200 (+186)\n",
      "🔧 Augmenting label 21: 35 → 200 (+165)\n",
      "🔧 Augmenting label 22: 78 → 200 (+122)\n",
      "🔧 Augmenting label 23: 160 → 200 (+40)\n",
      "🔧 Augmenting label 24: 16 → 200 (+184)\n",
      "🔧 Augmenting label 25: 50 → 200 (+150)\n",
      "🔧 Augmenting label 26: 86 → 200 (+114)\n",
      "🔧 Augmenting label 27: 49 → 200 (+151)\n",
      "🔧 Augmenting label 28: 12 → 200 (+188)\n",
      "🔧 Augmenting label 29: 13 → 200 (+187)\n",
      "🔧 Augmenting label 30: 15 → 200 (+185)\n",
      "🔧 Augmenting label 31: 80 → 200 (+120)\n",
      "🔧 Augmenting label 32: 36 → 200 (+164)\n",
      "🔧 Augmenting label 33: 32 → 200 (+168)\n",
      "🔧 Augmenting label 34: 30 → 200 (+170)\n",
      "🔧 Augmenting label 35: 12 → 200 (+188)\n",
      "🔧 Augmenting label 36: 28 → 200 (+172)\n",
      "🔧 Augmenting label 37: 21 → 200 (+179)\n",
      "🔧 Augmenting label 38: 6 → 200 (+194)\n",
      "🔧 Augmenting label 39: 103 → 200 (+97)\n",
      "🔧 Augmenting label 40: 12 → 200 (+188)\n",
      "🔧 Augmenting label 41: 8 → 200 (+192)\n",
      "🔧 Augmenting label 42: 147 → 200 (+53)\n",
      "🔧 Augmenting label 43: 16 → 200 (+184)\n",
      "🔧 Augmenting label 44: 20 → 200 (+180)\n",
      "🔧 Augmenting label 45: 9 → 200 (+191)\n",
      "🔧 Augmenting label 46: 54 → 200 (+146)\n",
      "🔧 Augmenting label 49: 69 → 200 (+131)\n",
      "Label distribution after resampling:\n",
      "  label 0: 3179\n",
      "  label 1: 105\n",
      "  label 2: 200\n",
      "  label 3: 26\n",
      "  label 4: 205\n",
      "  label 5: 164\n",
      "  label 6: 163\n",
      "  label 7: 38\n",
      "  label 8: 74\n",
      "  label 9: 200\n",
      "  label 10: 117\n",
      "  label 11: 200\n",
      "  label 12: 200\n",
      "  label 13: 33\n",
      "  label 14: 23\n",
      "  label 15: 28\n",
      "  label 16: 67\n",
      "  label 17: 231\n",
      "  label 18: 116\n",
      "  label 19: 74\n",
      "  label 20: 42\n",
      "  label 21: 45\n",
      "  label 22: 106\n",
      "  label 23: 200\n",
      "  label 24: 59\n",
      "  label 25: 145\n",
      "  label 26: 123\n",
      "  label 27: 87\n",
      "  label 28: 44\n",
      "  label 29: 16\n",
      "  label 30: 82\n",
      "  label 31: 185\n",
      "  label 32: 44\n",
      "  label 33: 39\n",
      "  label 34: 33\n",
      "  label 35: 22\n",
      "  label 36: 120\n",
      "  label 37: 120\n",
      "  label 38: 24\n",
      "  label 39: 200\n",
      "  label 40: 33\n",
      "  label 41: 24\n",
      "  label 42: 200\n",
      "  label 43: 113\n",
      "  label 44: 33\n",
      "  label 45: 16\n",
      "  label 46: 138\n",
      "  label 47: 529\n",
      "  label 48: 202\n",
      "  label 49: 111\n",
      "model is roberta-base\n"
     ]
    },
    {
     "name": "stderr",
     "output_type": "stream",
     "text": [
      "Some weights of RobertaForSequenceClassification were not initialized from the model checkpoint at roberta-base and are newly initialized: ['classifier.dense.bias', 'classifier.dense.weight', 'classifier.out_proj.bias', 'classifier.out_proj.weight']\n",
      "You should probably TRAIN this model on a down-stream task to be able to use it for predictions and inference.\n"
     ]
    },
    {
     "name": "stdout",
     "output_type": "stream",
     "text": [
      "Epoch 1/20\n"
     ]
    },
    {
     "name": "stderr",
     "output_type": "stream",
     "text": [
      "100%|██████████| 537/537 [00:45<00:00, 11.69it/s]\n"
     ]
    },
    {
     "name": "stdout",
     "output_type": "stream",
     "text": [
      "{'val_loss': 1.573789560288753, 'val_accuracy': 0.5824955647545831, 'precision': 0.4395571043230989, 'recall': 0.5824955647545831, 'f1-score': 0.47568552962354727, 'macro_f1-score': 0.12007163163138289, 'balanced_accuracy': 0.14109520830503264, 'mcc': 0.3920959312372771, 'train_loss': 2.1809022487652814}\n",
      "Epoch 2/20\n"
     ]
    },
    {
     "name": "stderr",
     "output_type": "stream",
     "text": [
      "100%|██████████| 537/537 [00:45<00:00, 11.68it/s]\n"
     ]
    },
    {
     "name": "stdout",
     "output_type": "stream",
     "text": [
      "{'val_loss': 1.3794049325416673, 'val_accuracy': 0.6321703134240094, 'precision': 0.570315020284518, 'recall': 0.6321703134240094, 'f1-score': 0.5575982291459038, 'macro_f1-score': 0.23159941937929177, 'balanced_accuracy': 0.2278323736299526, 'mcc': 0.47781879472867944, 'train_loss': 1.5839642941174783}\n",
      "Epoch 3/20\n"
     ]
    },
    {
     "name": "stderr",
     "output_type": "stream",
     "text": [
      "100%|██████████| 537/537 [00:45<00:00, 11.69it/s]\n"
     ]
    },
    {
     "name": "stdout",
     "output_type": "stream",
     "text": [
      "{'val_loss': 1.2966300414980583, 'val_accuracy': 0.6244825547013602, 'precision': 0.5883424362002044, 'recall': 0.6244825547013602, 'f1-score': 0.5904638353477522, 'macro_f1-score': 0.2528409503615141, 'balanced_accuracy': 0.2669593691006748, 'mcc': 0.48959319119174155, 'train_loss': 1.325156004846207}\n",
      "Epoch 4/20\n"
     ]
    },
    {
     "name": "stderr",
     "output_type": "stream",
     "text": [
      "100%|██████████| 537/537 [00:45<00:00, 11.69it/s]\n"
     ]
    },
    {
     "name": "stdout",
     "output_type": "stream",
     "text": [
      "{'val_loss': 1.413321317929142, 'val_accuracy': 0.5984624482554701, 'precision': 0.6167769224398092, 'recall': 0.5984624482554701, 'f1-score': 0.5943219414545658, 'macro_f1-score': 0.27669259773399846, 'balanced_accuracy': 0.31653960521422353, 'mcc': 0.48989651515216287, 'train_loss': 1.1459320870191692}\n",
      "Epoch 5/20\n"
     ]
    },
    {
     "name": "stderr",
     "output_type": "stream",
     "text": [
      "100%|██████████| 537/537 [00:45<00:00, 11.69it/s]\n"
     ]
    },
    {
     "name": "stdout",
     "output_type": "stream",
     "text": [
      "{'val_loss': 1.4671802453274996, 'val_accuracy': 0.5949142519219397, 'precision': 0.6560716196346067, 'recall': 0.5949142519219397, 'f1-score': 0.6017341308377067, 'macro_f1-score': 0.3212920142367002, 'balanced_accuracy': 0.36543958989556224, 'mcc': 0.4961613234862855, 'train_loss': 1.0201576002483261}\n",
      "Epoch 6/20\n"
     ]
    },
    {
     "name": "stderr",
     "output_type": "stream",
     "text": [
      "100%|██████████| 537/537 [00:45<00:00, 11.69it/s]\n"
     ]
    },
    {
     "name": "stdout",
     "output_type": "stream",
     "text": [
      "{'val_loss': 1.3740685348803143, 'val_accuracy': 0.6428149024246008, 'precision': 0.6347136305927169, 'recall': 0.6428149024246008, 'f1-score': 0.6265281466692812, 'macro_f1-score': 0.32977989597358126, 'balanced_accuracy': 0.34809169873292184, 'mcc': 0.5247824115249217, 'train_loss': 0.9029143412408438}\n",
      "Epoch 7/20\n"
     ]
    },
    {
     "name": "stderr",
     "output_type": "stream",
     "text": [
      "100%|██████████| 537/537 [00:45<00:00, 11.68it/s]\n"
     ]
    },
    {
     "name": "stdout",
     "output_type": "stream",
     "text": [
      "{'val_loss': 1.4927626465851407, 'val_accuracy': 0.6262566528681254, 'precision': 0.648135732597134, 'recall': 0.6262566528681254, 'f1-score': 0.6251788633964862, 'macro_f1-score': 0.35672337240706015, 'balanced_accuracy': 0.3835874600790942, 'mcc': 0.521272658899853, 'train_loss': 0.8083280695106286}\n",
      "Epoch 8/20\n"
     ]
    },
    {
     "name": "stderr",
     "output_type": "stream",
     "text": [
      "100%|██████████| 537/537 [00:45<00:00, 11.68it/s]\n"
     ]
    },
    {
     "name": "stdout",
     "output_type": "stream",
     "text": [
      "{'val_loss': 1.45482220950554, 'val_accuracy': 0.6268480189237138, 'precision': 0.6401827690045307, 'recall': 0.6268480189237138, 'f1-score': 0.618930635748769, 'macro_f1-score': 0.33255369978223515, 'balanced_accuracy': 0.33659682336023083, 'mcc': 0.5090340957229044, 'train_loss': 0.7402378298494847}\n",
      "Epoch 9/20\n"
     ]
    },
    {
     "name": "stderr",
     "output_type": "stream",
     "text": [
      "100%|██████████| 537/537 [00:45<00:00, 11.69it/s]\n"
     ]
    },
    {
     "name": "stdout",
     "output_type": "stream",
     "text": [
      "{'val_loss': 1.4826788556463313, 'val_accuracy': 0.622708456534595, 'precision': 0.6490735233977339, 'recall': 0.622708456534595, 'f1-score': 0.6238853649538049, 'macro_f1-score': 0.35082963494563385, 'balanced_accuracy': 0.3780711475826116, 'mcc': 0.5158417330612065, 'train_loss': 0.7091385127501337}\n",
      "Epoch 10/20\n"
     ]
    },
    {
     "name": "stderr",
     "output_type": "stream",
     "text": [
      "100%|██████████| 537/537 [00:45<00:00, 11.69it/s]\n"
     ]
    },
    {
     "name": "stdout",
     "output_type": "stream",
     "text": [
      "{'val_loss': 1.5697588119304404, 'val_accuracy': 0.6215257244234181, 'precision': 0.6604848128008672, 'recall': 0.6215257244234181, 'f1-score': 0.6241400983750841, 'macro_f1-score': 0.37467784519107505, 'balanced_accuracy': 0.4011719357691528, 'mcc': 0.5214239216108788, 'train_loss': 0.6484115082680402}\n",
      "Epoch 11/20\n"
     ]
    },
    {
     "name": "stderr",
     "output_type": "stream",
     "text": [
      "100%|██████████| 537/537 [00:45<00:00, 11.70it/s]\n"
     ]
    },
    {
     "name": "stdout",
     "output_type": "stream",
     "text": [
      "{'val_loss': 1.6000784579313025, 'val_accuracy': 0.6232998225901834, 'precision': 0.6537326419612373, 'recall': 0.6232998225901834, 'f1-score': 0.6296688891000379, 'macro_f1-score': 0.3872883134653856, 'balanced_accuracy': 0.4038809288645062, 'mcc': 0.5183878545040407, 'train_loss': 0.6431574318939525}\n",
      "Epoch 12/20\n"
     ]
    },
    {
     "name": "stderr",
     "output_type": "stream",
     "text": [
      "100%|██████████| 537/537 [00:45<00:00, 11.68it/s]\n"
     ]
    },
    {
     "name": "stdout",
     "output_type": "stream",
     "text": [
      "{'val_loss': 1.609309360666095, 'val_accuracy': 0.6339444115907746, 'precision': 0.6783149232697915, 'recall': 0.6339444115907746, 'f1-score': 0.6411067799124377, 'macro_f1-score': 0.37952002067107793, 'balanced_accuracy': 0.4138293201720477, 'mcc': 0.5314177381570344, 'train_loss': 0.6027951817855489}\n",
      "Epoch 13/20\n"
     ]
    },
    {
     "name": "stderr",
     "output_type": "stream",
     "text": [
      "100%|██████████| 537/537 [00:45<00:00, 11.68it/s]\n"
     ]
    },
    {
     "name": "stdout",
     "output_type": "stream",
     "text": [
      "{'val_loss': 1.5855090554873899, 'val_accuracy': 0.654642223536369, 'precision': 0.6446549245524663, 'recall': 0.654642223536369, 'f1-score': 0.6343337428438096, 'macro_f1-score': 0.38369017567116465, 'balanced_accuracy': 0.39560819267638386, 'mcc': 0.5351726874284728, 'train_loss': 0.575981777275824}\n",
      "Epoch 14/20\n"
     ]
    },
    {
     "name": "stderr",
     "output_type": "stream",
     "text": [
      "100%|██████████| 537/537 [00:45<00:00, 11.69it/s]\n"
     ]
    },
    {
     "name": "stdout",
     "output_type": "stream",
     "text": [
      "{'val_loss': 1.5777107803326733, 'val_accuracy': 0.6428149024246008, 'precision': 0.6531497251287466, 'recall': 0.6428149024246008, 'f1-score': 0.6343641785967458, 'macro_f1-score': 0.3699061053090662, 'balanced_accuracy': 0.3881948234866636, 'mcc': 0.5330856201661981, 'train_loss': 0.5837311972994045}\n",
      "Early stopping.\n",
      "\n",
      "[Fold 2]\n",
      "🚀 Using SBERT for data augmentation\n",
      "Using device: cuda\n",
      "CUDA Available: True\n",
      "CUDA Device: NVIDIA GeForce RTX 5070 Ti\n",
      "Current GPU Memory Allocated: 2.21 GB\n",
      "Current GPU Memory Cached: 4.02 GB\n",
      "Model device: cuda:0\n",
      "🔧 Augmenting label 1: 25 → 200 (+175)\n",
      "🔧 Augmenting label 2: 112 → 200 (+88)\n",
      "🔧 Augmenting label 3: 24 → 200 (+176)\n",
      "🔧 Augmenting label 5: 116 → 200 (+84)\n",
      "🔧 Augmenting label 6: 94 → 200 (+106)\n",
      "🔧 Augmenting label 7: 31 → 200 (+169)\n",
      "🔧 Augmenting label 8: 68 → 200 (+132)\n",
      "🔧 Augmenting label 9: 65 → 200 (+135)\n",
      "🔧 Augmenting label 10: 70 → 200 (+130)\n",
      "🔧 Augmenting label 11: 172 → 200 (+28)\n",
      "🔧 Augmenting label 12: 193 → 200 (+7)\n",
      "🔧 Augmenting label 13: 29 → 200 (+171)\n",
      "🔧 Augmenting label 14: 23 → 200 (+177)\n",
      "🔧 Augmenting label 15: 25 → 200 (+175)\n",
      "🔧 Augmenting label 16: 20 → 200 (+180)\n",
      "🔧 Augmenting label 18: 93 → 200 (+107)\n",
      "🔧 Augmenting label 19: 45 → 200 (+155)\n",
      "🔧 Augmenting label 20: 14 → 200 (+186)\n",
      "🔧 Augmenting label 21: 35 → 200 (+165)\n",
      "🔧 Augmenting label 22: 78 → 200 (+122)\n",
      "🔧 Augmenting label 23: 160 → 200 (+40)\n",
      "🔧 Augmenting label 24: 16 → 200 (+184)\n",
      "🔧 Augmenting label 25: 50 → 200 (+150)\n",
      "🔧 Augmenting label 26: 86 → 200 (+114)\n",
      "🔧 Augmenting label 27: 49 → 200 (+151)\n",
      "🔧 Augmenting label 28: 12 → 200 (+188)\n",
      "🔧 Augmenting label 29: 13 → 200 (+187)\n",
      "🔧 Augmenting label 30: 15 → 200 (+185)\n",
      "🔧 Augmenting label 31: 80 → 200 (+120)\n",
      "🔧 Augmenting label 32: 36 → 200 (+164)\n",
      "🔧 Augmenting label 33: 32 → 200 (+168)\n",
      "🔧 Augmenting label 34: 30 → 200 (+170)\n",
      "🔧 Augmenting label 35: 12 → 200 (+188)\n",
      "🔧 Augmenting label 36: 28 → 200 (+172)\n",
      "🔧 Augmenting label 37: 22 → 200 (+178)\n",
      "🔧 Augmenting label 38: 5 → 200 (+195)\n",
      "🔧 Augmenting label 39: 103 → 200 (+97)\n",
      "🔧 Augmenting label 40: 11 → 200 (+189)\n",
      "🔧 Augmenting label 41: 9 → 200 (+191)\n",
      "🔧 Augmenting label 42: 147 → 200 (+53)\n",
      "🔧 Augmenting label 43: 16 → 200 (+184)\n",
      "🔧 Augmenting label 44: 20 → 200 (+180)\n",
      "🔧 Augmenting label 45: 9 → 200 (+191)\n",
      "🔧 Augmenting label 46: 55 → 200 (+145)\n",
      "🔧 Augmenting label 49: 69 → 200 (+131)\n",
      "Label distribution after resampling:\n",
      "  label 0: 3179\n",
      "  label 1: 119\n",
      "  label 2: 200\n",
      "  label 3: 25\n",
      "  label 4: 206\n",
      "  label 5: 144\n",
      "  label 6: 177\n",
      "  label 7: 35\n",
      "  label 8: 80\n",
      "  label 9: 200\n",
      "  label 10: 95\n",
      "  label 11: 200\n",
      "  label 12: 200\n",
      "  label 13: 33\n",
      "  label 14: 23\n",
      "  label 15: 28\n",
      "  label 16: 69\n",
      "  label 17: 231\n",
      "  label 18: 117\n",
      "  label 19: 70\n",
      "  label 20: 52\n",
      "  label 21: 41\n",
      "  label 22: 130\n",
      "  label 23: 200\n",
      "  label 24: 60\n",
      "  label 25: 160\n",
      "  label 26: 122\n",
      "  label 27: 93\n",
      "  label 28: 29\n",
      "  label 29: 13\n",
      "  label 30: 79\n",
      "  label 31: 174\n",
      "  label 32: 37\n",
      "  label 33: 38\n",
      "  label 34: 31\n",
      "  label 35: 24\n",
      "  label 36: 95\n",
      "  label 37: 116\n",
      "  label 38: 23\n",
      "  label 39: 200\n",
      "  label 40: 32\n",
      "  label 41: 24\n",
      "  label 42: 200\n",
      "  label 43: 129\n",
      "  label 44: 30\n",
      "  label 45: 20\n",
      "  label 46: 111\n",
      "  label 47: 528\n",
      "  label 48: 202\n",
      "  label 49: 109\n",
      "model is roberta-base\n"
     ]
    },
    {
     "name": "stderr",
     "output_type": "stream",
     "text": [
      "Some weights of RobertaForSequenceClassification were not initialized from the model checkpoint at roberta-base and are newly initialized: ['classifier.dense.bias', 'classifier.dense.weight', 'classifier.out_proj.bias', 'classifier.out_proj.weight']\n",
      "You should probably TRAIN this model on a down-stream task to be able to use it for predictions and inference.\n"
     ]
    },
    {
     "name": "stdout",
     "output_type": "stream",
     "text": [
      "Epoch 1/20\n"
     ]
    },
    {
     "name": "stderr",
     "output_type": "stream",
     "text": [
      "100%|██████████| 534/534 [00:45<00:00, 11.68it/s]\n"
     ]
    },
    {
     "name": "stdout",
     "output_type": "stream",
     "text": [
      "{'val_loss': 1.5614913190310855, 'val_accuracy': 0.5807214665878179, 'precision': 0.49314659654047277, 'recall': 0.5807214665878179, 'f1-score': 0.50930008326235, 'macro_f1-score': 0.13709262207703196, 'balanced_accuracy': 0.16075013530510315, 'mcc': 0.41271661389339254, 'train_loss': 2.1638525846075924}\n",
      "Epoch 2/20\n"
     ]
    },
    {
     "name": "stderr",
     "output_type": "stream",
     "text": [
      "100%|██████████| 534/534 [00:45<00:00, 11.70it/s]\n"
     ]
    },
    {
     "name": "stdout",
     "output_type": "stream",
     "text": [
      "{'val_loss': 1.3874450809550736, 'val_accuracy': 0.6232998225901834, 'precision': 0.5464946133077527, 'recall': 0.6232998225901834, 'f1-score': 0.5720203562063024, 'macro_f1-score': 0.21220391426322244, 'balanced_accuracy': 0.2188307924334235, 'mcc': 0.47779778601431866, 'train_loss': 1.5972156923138694}\n",
      "Epoch 3/20\n"
     ]
    },
    {
     "name": "stderr",
     "output_type": "stream",
     "text": [
      "100%|██████████| 534/534 [00:45<00:00, 11.68it/s]\n"
     ]
    },
    {
     "name": "stdout",
     "output_type": "stream",
     "text": [
      "{'val_loss': 1.4077392150208634, 'val_accuracy': 0.6096984033116499, 'precision': 0.5981052248374135, 'recall': 0.6096984033116499, 'f1-score': 0.5746756273106028, 'macro_f1-score': 0.26451571791231904, 'balanced_accuracy': 0.2945963168485667, 'mcc': 0.47014345600478846, 'train_loss': 1.3328820767250846}\n",
      "Epoch 4/20\n"
     ]
    },
    {
     "name": "stderr",
     "output_type": "stream",
     "text": [
      "100%|██████████| 534/534 [00:45<00:00, 11.69it/s]\n"
     ]
    },
    {
     "name": "stdout",
     "output_type": "stream",
     "text": [
      "{'val_loss': 1.4168202441256001, 'val_accuracy': 0.6428149024246008, 'precision': 0.6201918513658897, 'recall': 0.6428149024246008, 'f1-score': 0.6134002676006624, 'macro_f1-score': 0.27320398241417704, 'balanced_accuracy': 0.2696492663394915, 'mcc': 0.5137609262487687, 'train_loss': 1.1663047013322958}\n",
      "Epoch 5/20\n"
     ]
    },
    {
     "name": "stderr",
     "output_type": "stream",
     "text": [
      "100%|██████████| 534/534 [00:45<00:00, 11.68it/s]\n"
     ]
    },
    {
     "name": "stdout",
     "output_type": "stream",
     "text": [
      "{'val_loss': 1.4243315781624812, 'val_accuracy': 0.6268480189237138, 'precision': 0.625353690135731, 'recall': 0.6268480189237138, 'f1-score': 0.6147048844135354, 'macro_f1-score': 0.32155929338886174, 'balanced_accuracy': 0.34023963958253733, 'mcc': 0.5084183872092576, 'train_loss': 1.0045272873135542}\n",
      "Epoch 6/20\n"
     ]
    },
    {
     "name": "stderr",
     "output_type": "stream",
     "text": [
      "100%|██████████| 534/534 [00:45<00:00, 11.68it/s]\n"
     ]
    },
    {
     "name": "stdout",
     "output_type": "stream",
     "text": [
      "{'val_loss': 1.4193817874733008, 'val_accuracy': 0.628622117090479, 'precision': 0.6268398935546339, 'recall': 0.628622117090479, 'f1-score': 0.6179347915468736, 'macro_f1-score': 0.3417349956650615, 'balanced_accuracy': 0.3638562006917719, 'mcc': 0.5093840351272737, 'train_loss': 0.8974180949035655}\n",
      "Epoch 7/20\n"
     ]
    },
    {
     "name": "stderr",
     "output_type": "stream",
     "text": [
      "100%|██████████| 534/534 [00:45<00:00, 11.69it/s]\n"
     ]
    },
    {
     "name": "stdout",
     "output_type": "stream",
     "text": [
      "{'val_loss': 1.4617339922290928, 'val_accuracy': 0.6457717327025428, 'precision': 0.6584241895574244, 'recall': 0.6457717327025428, 'f1-score': 0.6360705647537587, 'macro_f1-score': 0.370670669040147, 'balanced_accuracy': 0.39842644727868476, 'mcc': 0.53463669462449, 'train_loss': 0.8006632223390462}\n",
      "Epoch 8/20\n"
     ]
    },
    {
     "name": "stderr",
     "output_type": "stream",
     "text": [
      "100%|██████████| 534/534 [00:45<00:00, 11.67it/s]\n"
     ]
    },
    {
     "name": "stdout",
     "output_type": "stream",
     "text": [
      "{'val_loss': 1.4984368988365497, 'val_accuracy': 0.6345357776463632, 'precision': 0.6440645118245041, 'recall': 0.6345357776463632, 'f1-score': 0.6324568968873128, 'macro_f1-score': 0.35581683806520786, 'balanced_accuracy': 0.3906414313635198, 'mcc': 0.5253760473837574, 'train_loss': 0.7403898458188393}\n",
      "Epoch 9/20\n"
     ]
    },
    {
     "name": "stderr",
     "output_type": "stream",
     "text": [
      "100%|██████████| 534/534 [00:45<00:00, 11.69it/s]\n"
     ]
    },
    {
     "name": "stdout",
     "output_type": "stream",
     "text": [
      "{'val_loss': 1.4996185836926945, 'val_accuracy': 0.638675340035482, 'precision': 0.6633479494464413, 'recall': 0.638675340035482, 'f1-score': 0.6343563340367897, 'macro_f1-score': 0.3990657959181357, 'balanced_accuracy': 0.41588981978606127, 'mcc': 0.5293510029347761, 'train_loss': 0.6946455080355152}\n",
      "Epoch 10/20\n"
     ]
    },
    {
     "name": "stderr",
     "output_type": "stream",
     "text": [
      "100%|██████████| 534/534 [00:45<00:00, 11.68it/s]\n"
     ]
    },
    {
     "name": "stdout",
     "output_type": "stream",
     "text": [
      "{'val_loss': 1.6546028880578167, 'val_accuracy': 0.6173861620342992, 'precision': 0.6617183017759842, 'recall': 0.6173861620342992, 'f1-score': 0.6164100358287649, 'macro_f1-score': 0.36123902760279264, 'balanced_accuracy': 0.37758154395219357, 'mcc': 0.5021859984743501, 'train_loss': 0.6400766923381818}\n",
      "Epoch 11/20\n"
     ]
    },
    {
     "name": "stderr",
     "output_type": "stream",
     "text": [
      "100%|██████████| 534/534 [00:45<00:00, 11.69it/s]\n"
     ]
    },
    {
     "name": "stdout",
     "output_type": "stream",
     "text": [
      "{'val_loss': 1.6060430881268573, 'val_accuracy': 0.63571850975754, 'precision': 0.6565101448604357, 'recall': 0.63571850975754, 'f1-score': 0.6394492634400566, 'macro_f1-score': 0.38729407197256677, 'balanced_accuracy': 0.4114666788130919, 'mcc': 0.5334453485445267, 'train_loss': 0.6306928535260623}\n",
      "Epoch 12/20\n"
     ]
    },
    {
     "name": "stderr",
     "output_type": "stream",
     "text": [
      "100%|██████████| 534/534 [00:45<00:00, 11.69it/s]\n"
     ]
    },
    {
     "name": "stdout",
     "output_type": "stream",
     "text": [
      "{'val_loss': 1.6419500558162636, 'val_accuracy': 0.6552335895919574, 'precision': 0.6555300696193642, 'recall': 0.6552335895919574, 'f1-score': 0.6444657959782997, 'macro_f1-score': 0.3909931468204892, 'balanced_accuracy': 0.39866997110590474, 'mcc': 0.5428407982394156, 'train_loss': 0.6024757045694393}\n",
      "Early stopping.\n",
      "\n",
      "[Fold 3]\n",
      "🚀 Using SBERT for data augmentation\n",
      "Using device: cuda\n",
      "CUDA Available: True\n",
      "CUDA Device: NVIDIA GeForce RTX 5070 Ti\n",
      "Current GPU Memory Allocated: 2.21 GB\n",
      "Current GPU Memory Cached: 4.02 GB\n",
      "Model device: cuda:0\n",
      "🔧 Augmenting label 1: 25 → 200 (+175)\n",
      "🔧 Augmenting label 2: 112 → 200 (+88)\n",
      "🔧 Augmenting label 3: 24 → 200 (+176)\n",
      "🔧 Augmenting label 5: 116 → 200 (+84)\n",
      "🔧 Augmenting label 6: 94 → 200 (+106)\n",
      "🔧 Augmenting label 7: 31 → 200 (+169)\n",
      "🔧 Augmenting label 8: 68 → 200 (+132)\n",
      "🔧 Augmenting label 9: 65 → 200 (+135)\n",
      "🔧 Augmenting label 10: 71 → 200 (+129)\n",
      "🔧 Augmenting label 11: 172 → 200 (+28)\n",
      "🔧 Augmenting label 12: 192 → 200 (+8)\n",
      "🔧 Augmenting label 13: 29 → 200 (+171)\n",
      "🔧 Augmenting label 14: 23 → 200 (+177)\n",
      "🔧 Augmenting label 15: 25 → 200 (+175)\n",
      "🔧 Augmenting label 16: 20 → 200 (+180)\n",
      "🔧 Augmenting label 18: 93 → 200 (+107)\n",
      "🔧 Augmenting label 19: 45 → 200 (+155)\n",
      "🔧 Augmenting label 20: 14 → 200 (+186)\n",
      "🔧 Augmenting label 21: 36 → 200 (+164)\n",
      "🔧 Augmenting label 22: 77 → 200 (+123)\n",
      "🔧 Augmenting label 23: 160 → 200 (+40)\n",
      "🔧 Augmenting label 24: 16 → 200 (+184)\n",
      "🔧 Augmenting label 25: 51 → 200 (+149)\n",
      "🔧 Augmenting label 26: 85 → 200 (+115)\n",
      "🔧 Augmenting label 27: 49 → 200 (+151)\n",
      "🔧 Augmenting label 28: 12 → 200 (+188)\n",
      "🔧 Augmenting label 29: 12 → 200 (+188)\n",
      "🔧 Augmenting label 30: 16 → 200 (+184)\n",
      "🔧 Augmenting label 31: 80 → 200 (+120)\n",
      "🔧 Augmenting label 32: 36 → 200 (+164)\n",
      "🔧 Augmenting label 33: 32 → 200 (+168)\n",
      "🔧 Augmenting label 34: 29 → 200 (+171)\n",
      "🔧 Augmenting label 35: 12 → 200 (+188)\n",
      "🔧 Augmenting label 36: 28 → 200 (+172)\n",
      "🔧 Augmenting label 37: 22 → 200 (+178)\n",
      "🔧 Augmenting label 38: 5 → 200 (+195)\n",
      "🔧 Augmenting label 39: 103 → 200 (+97)\n",
      "🔧 Augmenting label 40: 11 → 200 (+189)\n",
      "🔧 Augmenting label 41: 9 → 200 (+191)\n",
      "🔧 Augmenting label 42: 147 → 200 (+53)\n",
      "🔧 Augmenting label 43: 16 → 200 (+184)\n",
      "🔧 Augmenting label 44: 20 → 200 (+180)\n",
      "🔧 Augmenting label 45: 9 → 200 (+191)\n",
      "🔧 Augmenting label 46: 55 → 200 (+145)\n",
      "🔧 Augmenting label 49: 70 → 200 (+130)\n",
      "Label distribution after resampling:\n",
      "  label 0: 3179\n",
      "  label 1: 109\n",
      "  label 2: 200\n",
      "  label 3: 26\n",
      "  label 4: 206\n",
      "  label 5: 171\n",
      "  label 6: 180\n",
      "  label 7: 32\n",
      "  label 8: 88\n",
      "  label 9: 200\n",
      "  label 10: 114\n",
      "  label 11: 200\n",
      "  label 12: 200\n",
      "  label 13: 29\n",
      "  label 14: 23\n",
      "  label 15: 29\n",
      "  label 16: 64\n",
      "  label 17: 231\n",
      "  label 18: 117\n",
      "  label 19: 72\n",
      "  label 20: 40\n",
      "  label 21: 45\n",
      "  label 22: 118\n",
      "  label 23: 200\n",
      "  label 24: 61\n",
      "  label 25: 142\n",
      "  label 26: 121\n",
      "  label 27: 88\n",
      "  label 28: 33\n",
      "  label 29: 15\n",
      "  label 30: 97\n",
      "  label 31: 170\n",
      "  label 32: 43\n",
      "  label 33: 36\n",
      "  label 34: 33\n",
      "  label 35: 26\n",
      "  label 36: 110\n",
      "  label 37: 118\n",
      "  label 38: 17\n",
      "  label 39: 200\n",
      "  label 40: 32\n",
      "  label 41: 25\n",
      "  label 42: 200\n",
      "  label 43: 99\n",
      "  label 44: 25\n",
      "  label 45: 17\n",
      "  label 46: 120\n",
      "  label 47: 529\n",
      "  label 48: 201\n",
      "  label 49: 117\n",
      "model is roberta-base\n"
     ]
    },
    {
     "name": "stderr",
     "output_type": "stream",
     "text": [
      "Some weights of RobertaForSequenceClassification were not initialized from the model checkpoint at roberta-base and are newly initialized: ['classifier.dense.bias', 'classifier.dense.weight', 'classifier.out_proj.bias', 'classifier.out_proj.weight']\n",
      "You should probably TRAIN this model on a down-stream task to be able to use it for predictions and inference.\n"
     ]
    },
    {
     "name": "stdout",
     "output_type": "stream",
     "text": [
      "Epoch 1/20\n"
     ]
    },
    {
     "name": "stderr",
     "output_type": "stream",
     "text": [
      "100%|██████████| 535/535 [00:45<00:00, 11.69it/s]\n"
     ]
    },
    {
     "name": "stdout",
     "output_type": "stream",
     "text": [
      "{'val_loss': 1.5317943416676432, 'val_accuracy': 0.5866351271437019, 'precision': 0.4887262910222389, 'recall': 0.5866351271437019, 'f1-score': 0.5052652296661505, 'macro_f1-score': 0.14587783990280948, 'balanced_accuracy': 0.16489149280828438, 'mcc': 0.41142826975520175, 'train_loss': 2.159124270332194}\n",
      "Epoch 2/20\n"
     ]
    },
    {
     "name": "stderr",
     "output_type": "stream",
     "text": [
      "100%|██████████| 535/535 [00:45<00:00, 11.69it/s]\n"
     ]
    },
    {
     "name": "stdout",
     "output_type": "stream",
     "text": [
      "{'val_loss': 1.4517738060006555, 'val_accuracy': 0.576581904198699, 'precision': 0.5428509918882225, 'recall': 0.576581904198699, 'f1-score': 0.5389570494897263, 'macro_f1-score': 0.21065835127785099, 'balanced_accuracy': 0.2512200908055338, 'mcc': 0.43094815429814204, 'train_loss': 1.5682776584803502}\n",
      "Epoch 3/20\n"
     ]
    },
    {
     "name": "stderr",
     "output_type": "stream",
     "text": [
      "100%|██████████| 535/535 [00:45<00:00, 11.68it/s]\n"
     ]
    },
    {
     "name": "stdout",
     "output_type": "stream",
     "text": [
      "{'val_loss': 1.388102095082121, 'val_accuracy': 0.612655233589592, 'precision': 0.6234651838024056, 'recall': 0.612655233589592, 'f1-score': 0.5963154114938299, 'macro_f1-score': 0.28035389381194553, 'balanced_accuracy': 0.30701103567773896, 'mcc': 0.4842239872653854, 'train_loss': 1.304185719634885}\n",
      "Epoch 4/20\n"
     ]
    },
    {
     "name": "stderr",
     "output_type": "stream",
     "text": [
      "100%|██████████| 535/535 [00:45<00:00, 11.69it/s]\n"
     ]
    },
    {
     "name": "stdout",
     "output_type": "stream",
     "text": [
      "{'val_loss': 1.2897810089700628, 'val_accuracy': 0.6321703134240094, 'precision': 0.6272932047659049, 'recall': 0.6321703134240094, 'f1-score': 0.6199142163714624, 'macro_f1-score': 0.3137304705375088, 'balanced_accuracy': 0.33424911554308523, 'mcc': 0.5155255230231844, 'train_loss': 1.118180076206956}\n",
      "Epoch 5/20\n"
     ]
    },
    {
     "name": "stderr",
     "output_type": "stream",
     "text": [
      "100%|██████████| 535/535 [00:45<00:00, 11.68it/s]\n"
     ]
    },
    {
     "name": "stdout",
     "output_type": "stream",
     "text": [
      "{'val_loss': 1.3341442523699887, 'val_accuracy': 0.6221170904790065, 'precision': 0.6299074209138849, 'recall': 0.6221170904790065, 'f1-score': 0.6118639875551308, 'macro_f1-score': 0.3117475592409536, 'balanced_accuracy': 0.3401492980283801, 'mcc': 0.5035347494252522, 'train_loss': 0.994183272568979}\n",
      "Epoch 6/20\n"
     ]
    },
    {
     "name": "stderr",
     "output_type": "stream",
     "text": [
      "100%|██████████| 535/535 [00:45<00:00, 11.69it/s]\n"
     ]
    },
    {
     "name": "stdout",
     "output_type": "stream",
     "text": [
      "{'val_loss': 1.3521932946904651, 'val_accuracy': 0.6434062684801892, 'precision': 0.6755445510058214, 'recall': 0.6434062684801892, 'f1-score': 0.6402708458348685, 'macro_f1-score': 0.35915096510966543, 'balanced_accuracy': 0.36625110301233477, 'mcc': 0.5341681268531023, 'train_loss': 0.8728721035139583}\n",
      "Epoch 7/20\n"
     ]
    },
    {
     "name": "stderr",
     "output_type": "stream",
     "text": [
      "100%|██████████| 535/535 [00:45<00:00, 11.70it/s]\n"
     ]
    },
    {
     "name": "stdout",
     "output_type": "stream",
     "text": [
      "{'val_loss': 1.4042406560115095, 'val_accuracy': 0.6274393849793022, 'precision': 0.6375891853456793, 'recall': 0.6274393849793022, 'f1-score': 0.6214520659139359, 'macro_f1-score': 0.34445272175237895, 'balanced_accuracy': 0.356421632726858, 'mcc': 0.5124402825489114, 'train_loss': 0.7929221961542825}\n",
      "Epoch 8/20\n"
     ]
    },
    {
     "name": "stderr",
     "output_type": "stream",
     "text": [
      "100%|██████████| 535/535 [00:45<00:00, 11.68it/s]\n"
     ]
    },
    {
     "name": "stdout",
     "output_type": "stream",
     "text": [
      "{'val_loss': 1.4616884957506973, 'val_accuracy': 0.631578947368421, 'precision': 0.654775577636965, 'recall': 0.631578947368421, 'f1-score': 0.6256322700410214, 'macro_f1-score': 0.3477474558323898, 'balanced_accuracy': 0.35469868178463954, 'mcc': 0.5239015919007955, 'train_loss': 0.7364019537640509}\n",
      "Epoch 9/20\n"
     ]
    },
    {
     "name": "stderr",
     "output_type": "stream",
     "text": [
      "100%|██████████| 535/535 [00:45<00:00, 11.69it/s]\n"
     ]
    },
    {
     "name": "stdout",
     "output_type": "stream",
     "text": [
      "{'val_loss': 1.6192807063179195, 'val_accuracy': 0.6191602602010644, 'precision': 0.6412353218257999, 'recall': 0.6191602602010644, 'f1-score': 0.613817948064693, 'macro_f1-score': 0.3269965935937339, 'balanced_accuracy': 0.33986968623964914, 'mcc': 0.5076167303375237, 'train_loss': 0.6921244852593011}\n",
      "Early stopping.\n",
      "\n",
      "[Fold 4]\n",
      "🚀 Using SBERT for data augmentation\n",
      "Using device: cuda\n",
      "CUDA Available: True\n",
      "CUDA Device: NVIDIA GeForce RTX 5070 Ti\n",
      "Current GPU Memory Allocated: 2.21 GB\n",
      "Current GPU Memory Cached: 4.02 GB\n",
      "Model device: cuda:0\n",
      "🔧 Augmenting label 1: 25 → 200 (+175)\n",
      "🔧 Augmenting label 2: 112 → 200 (+88)\n",
      "🔧 Augmenting label 3: 24 → 200 (+176)\n",
      "🔧 Augmenting label 5: 116 → 200 (+84)\n",
      "🔧 Augmenting label 6: 94 → 200 (+106)\n",
      "🔧 Augmenting label 7: 32 → 200 (+168)\n",
      "🔧 Augmenting label 8: 68 → 200 (+132)\n",
      "🔧 Augmenting label 9: 64 → 200 (+136)\n",
      "🔧 Augmenting label 10: 71 → 200 (+129)\n",
      "🔧 Augmenting label 11: 172 → 200 (+28)\n",
      "🔧 Augmenting label 12: 193 → 200 (+7)\n",
      "🔧 Augmenting label 13: 28 → 200 (+172)\n",
      "🔧 Augmenting label 14: 24 → 200 (+176)\n",
      "🔧 Augmenting label 15: 24 → 200 (+176)\n",
      "🔧 Augmenting label 16: 20 → 200 (+180)\n",
      "🔧 Augmenting label 18: 92 → 200 (+108)\n",
      "🔧 Augmenting label 19: 45 → 200 (+155)\n",
      "🔧 Augmenting label 20: 15 → 200 (+185)\n",
      "🔧 Augmenting label 21: 35 → 200 (+165)\n",
      "🔧 Augmenting label 22: 77 → 200 (+123)\n",
      "🔧 Augmenting label 23: 160 → 200 (+40)\n",
      "🔧 Augmenting label 24: 16 → 200 (+184)\n",
      "🔧 Augmenting label 25: 51 → 200 (+149)\n",
      "🔧 Augmenting label 26: 85 → 200 (+115)\n",
      "🔧 Augmenting label 27: 49 → 200 (+151)\n",
      "🔧 Augmenting label 28: 12 → 200 (+188)\n",
      "🔧 Augmenting label 29: 13 → 200 (+187)\n",
      "🔧 Augmenting label 30: 15 → 200 (+185)\n",
      "🔧 Augmenting label 31: 80 → 200 (+120)\n",
      "🔧 Augmenting label 32: 36 → 200 (+164)\n",
      "🔧 Augmenting label 33: 32 → 200 (+168)\n",
      "🔧 Augmenting label 34: 29 → 200 (+171)\n",
      "🔧 Augmenting label 35: 12 → 200 (+188)\n",
      "🔧 Augmenting label 36: 28 → 200 (+172)\n",
      "🔧 Augmenting label 37: 22 → 200 (+178)\n",
      "🔧 Augmenting label 38: 6 → 200 (+194)\n",
      "🔧 Augmenting label 39: 103 → 200 (+97)\n",
      "🔧 Augmenting label 40: 11 → 200 (+189)\n",
      "🔧 Augmenting label 41: 9 → 200 (+191)\n",
      "🔧 Augmenting label 42: 148 → 200 (+52)\n",
      "🔧 Augmenting label 43: 16 → 200 (+184)\n",
      "🔧 Augmenting label 44: 20 → 200 (+180)\n",
      "🔧 Augmenting label 45: 8 → 200 (+192)\n",
      "🔧 Augmenting label 46: 54 → 200 (+146)\n",
      "🔧 Augmenting label 49: 70 → 200 (+130)\n",
      "Label distribution after resampling:\n",
      "  label 0: 3179\n",
      "  label 1: 110\n",
      "  label 2: 200\n",
      "  label 3: 24\n",
      "  label 4: 206\n",
      "  label 5: 163\n",
      "  label 6: 198\n",
      "  label 7: 36\n",
      "  label 8: 84\n",
      "  label 9: 200\n",
      "  label 10: 117\n",
      "  label 11: 200\n",
      "  label 12: 200\n",
      "  label 13: 32\n",
      "  label 14: 24\n",
      "  label 15: 26\n",
      "  label 16: 60\n",
      "  label 17: 232\n",
      "  label 18: 129\n",
      "  label 19: 60\n",
      "  label 20: 52\n",
      "  label 21: 45\n",
      "  label 22: 129\n",
      "  label 23: 200\n",
      "  label 24: 73\n",
      "  label 25: 173\n",
      "  label 26: 121\n",
      "  label 27: 92\n",
      "  label 28: 50\n",
      "  label 29: 14\n",
      "  label 30: 86\n",
      "  label 31: 190\n",
      "  label 32: 45\n",
      "  label 33: 38\n",
      "  label 34: 32\n",
      "  label 35: 26\n",
      "  label 36: 81\n",
      "  label 37: 112\n",
      "  label 38: 18\n",
      "  label 39: 200\n",
      "  label 40: 40\n",
      "  label 41: 20\n",
      "  label 42: 200\n",
      "  label 43: 114\n",
      "  label 44: 34\n",
      "  label 45: 21\n",
      "  label 46: 140\n",
      "  label 47: 529\n",
      "  label 48: 201\n",
      "  label 49: 117\n",
      "model is roberta-base\n"
     ]
    },
    {
     "name": "stderr",
     "output_type": "stream",
     "text": [
      "Some weights of RobertaForSequenceClassification were not initialized from the model checkpoint at roberta-base and are newly initialized: ['classifier.dense.bias', 'classifier.dense.weight', 'classifier.out_proj.bias', 'classifier.out_proj.weight']\n",
      "You should probably TRAIN this model on a down-stream task to be able to use it for predictions and inference.\n"
     ]
    },
    {
     "name": "stdout",
     "output_type": "stream",
     "text": [
      "Epoch 1/20\n"
     ]
    },
    {
     "name": "stderr",
     "output_type": "stream",
     "text": [
      "100%|██████████| 543/543 [00:46<00:00, 11.69it/s]\n"
     ]
    },
    {
     "name": "stdout",
     "output_type": "stream",
     "text": [
      "{'val_loss': 1.5470195595385894, 'val_accuracy': 0.576581904198699, 'precision': 0.4679009313858395, 'recall': 0.576581904198699, 'f1-score': 0.4852259956784155, 'macro_f1-score': 0.12202431163374051, 'balanced_accuracy': 0.15800182855483982, 'mcc': 0.401391536967979, 'train_loss': 2.2321807182296203}\n",
      "Epoch 2/20\n"
     ]
    },
    {
     "name": "stderr",
     "output_type": "stream",
     "text": [
      "100%|██████████| 543/543 [00:46<00:00, 11.68it/s]\n"
     ]
    },
    {
     "name": "stdout",
     "output_type": "stream",
     "text": [
      "{'val_loss': 1.4163065069126632, 'val_accuracy': 0.6303962152572442, 'precision': 0.53040389261636, 'recall': 0.6303962152572442, 'f1-score': 0.5527674394561143, 'macro_f1-score': 0.19493270094403642, 'balanced_accuracy': 0.2111760007166231, 'mcc': 0.4764427851678769, 'train_loss': 1.6354533976173753}\n",
      "Epoch 3/20\n"
     ]
    },
    {
     "name": "stderr",
     "output_type": "stream",
     "text": [
      "100%|██████████| 543/543 [00:46<00:00, 11.68it/s]\n"
     ]
    },
    {
     "name": "stdout",
     "output_type": "stream",
     "text": [
      "{'val_loss': 1.3388228922520045, 'val_accuracy': 0.6321703134240094, 'precision': 0.6219243797921622, 'recall': 0.6321703134240094, 'f1-score': 0.6063640235721304, 'macro_f1-score': 0.26204174119298235, 'balanced_accuracy': 0.2901687490605326, 'mcc': 0.5181949389370132, 'train_loss': 1.392727064164304}\n",
      "Epoch 4/20\n"
     ]
    },
    {
     "name": "stderr",
     "output_type": "stream",
     "text": [
      "100%|██████████| 543/543 [00:46<00:00, 11.69it/s]\n"
     ]
    },
    {
     "name": "stdout",
     "output_type": "stream",
     "text": [
      "{'val_loss': 1.2871002681412786, 'val_accuracy': 0.657599053814311, 'precision': 0.6183160729272966, 'recall': 0.657599053814311, 'f1-score': 0.6138200544578994, 'macro_f1-score': 0.2704289559444753, 'balanced_accuracy': 0.27251790613623716, 'mcc': 0.5328426385019068, 'train_loss': 1.1877441744647688}\n",
      "Epoch 5/20\n"
     ]
    },
    {
     "name": "stderr",
     "output_type": "stream",
     "text": [
      "100%|██████████| 543/543 [00:46<00:00, 11.69it/s]\n"
     ]
    },
    {
     "name": "stdout",
     "output_type": "stream",
     "text": [
      "{'val_loss': 1.2261045184337869, 'val_accuracy': 0.6510940272028386, 'precision': 0.6591953106422475, 'recall': 0.6510940272028386, 'f1-score': 0.6383929101701937, 'macro_f1-score': 0.3400464024066647, 'balanced_accuracy': 0.34978113564162533, 'mcc': 0.5401747895098641, 'train_loss': 1.0533648128887128}\n",
      "Epoch 6/20\n"
     ]
    },
    {
     "name": "stderr",
     "output_type": "stream",
     "text": [
      "100%|██████████| 543/543 [00:46<00:00, 11.70it/s]\n"
     ]
    },
    {
     "name": "stdout",
     "output_type": "stream",
     "text": [
      "{'val_loss': 1.31918680583531, 'val_accuracy': 0.6339444115907746, 'precision': 0.6673969207806099, 'recall': 0.6339444115907746, 'f1-score': 0.6371012920033428, 'macro_f1-score': 0.3674579529367436, 'balanced_accuracy': 0.37769947818647026, 'mcc': 0.5286761515227415, 'train_loss': 0.9355777326429308}\n",
      "Epoch 7/20\n"
     ]
    },
    {
     "name": "stderr",
     "output_type": "stream",
     "text": [
      "100%|██████████| 543/543 [00:46<00:00, 11.68it/s]\n"
     ]
    },
    {
     "name": "stdout",
     "output_type": "stream",
     "text": [
      "{'val_loss': 1.3467778698453363, 'val_accuracy': 0.6587817859254879, 'precision': 0.6718527277665107, 'recall': 0.6587817859254879, 'f1-score': 0.655429749125593, 'macro_f1-score': 0.3940584458100755, 'balanced_accuracy': 0.40567582139203945, 'mcc': 0.5590543016368388, 'train_loss': 0.8562976506094467}\n",
      "Epoch 8/20\n"
     ]
    },
    {
     "name": "stderr",
     "output_type": "stream",
     "text": [
      "100%|██████████| 543/543 [00:46<00:00, 11.68it/s]\n"
     ]
    },
    {
     "name": "stdout",
     "output_type": "stream",
     "text": [
      "{'val_loss': 1.3490809477725119, 'val_accuracy': 0.6238911886457718, 'precision': 0.664251267695167, 'recall': 0.6238911886457718, 'f1-score': 0.6198133648783021, 'macro_f1-score': 0.3494501101892078, 'balanced_accuracy': 0.3647536606600657, 'mcc': 0.5131515509460755, 'train_loss': 0.7755275067374192}\n",
      "Epoch 9/20\n"
     ]
    },
    {
     "name": "stderr",
     "output_type": "stream",
     "text": [
      "100%|██████████| 543/543 [00:46<00:00, 11.68it/s]\n"
     ]
    },
    {
     "name": "stdout",
     "output_type": "stream",
     "text": [
      "{'val_loss': 1.3634471775225874, 'val_accuracy': 0.6499112950916618, 'precision': 0.668573020917038, 'recall': 0.6499112950916618, 'f1-score': 0.6480711233507163, 'macro_f1-score': 0.39597932371315125, 'balanced_accuracy': 0.4011631220660701, 'mcc': 0.541980220809691, 'train_loss': 0.7364252736006432}\n",
      "Epoch 10/20\n"
     ]
    },
    {
     "name": "stderr",
     "output_type": "stream",
     "text": [
      "100%|██████████| 543/543 [00:46<00:00, 11.68it/s]\n"
     ]
    },
    {
     "name": "stdout",
     "output_type": "stream",
     "text": [
      "{'val_loss': 1.4532741476904671, 'val_accuracy': 0.6469544648137197, 'precision': 0.6499477062610836, 'recall': 0.6469544648137197, 'f1-score': 0.6296285993835492, 'macro_f1-score': 0.3687928769938253, 'balanced_accuracy': 0.35585622497168, 'mcc': 0.5271593986802389, 'train_loss': 0.6856252909337838}\n",
      "Epoch 11/20\n"
     ]
    },
    {
     "name": "stderr",
     "output_type": "stream",
     "text": [
      "100%|██████████| 543/543 [00:46<00:00, 11.70it/s]\n"
     ]
    },
    {
     "name": "stdout",
     "output_type": "stream",
     "text": [
      "{'val_loss': 1.4926106356224924, 'val_accuracy': 0.638675340035482, 'precision': 0.6628622884907629, 'recall': 0.638675340035482, 'f1-score': 0.6326237612255707, 'macro_f1-score': 0.3818498997826896, 'balanced_accuracy': 0.3951911261989904, 'mcc': 0.5282270032482038, 'train_loss': 0.6537377379395576}\n",
      "Epoch 12/20\n"
     ]
    },
    {
     "name": "stderr",
     "output_type": "stream",
     "text": [
      "100%|██████████| 543/543 [00:46<00:00, 11.69it/s]\n"
     ]
    },
    {
     "name": "stdout",
     "output_type": "stream",
     "text": [
      "{'val_loss': 1.6174561665305551, 'val_accuracy': 0.63571850975754, 'precision': 0.6796320160903914, 'recall': 0.63571850975754, 'f1-score': 0.6396245287119131, 'macro_f1-score': 0.3955129062473195, 'balanced_accuracy': 0.4242608829013303, 'mcc': 0.5398122950795302, 'train_loss': 0.6181576180016248}\n",
      "Early stopping.\n",
      "\n",
      "[Fold 5]\n",
      "🚀 Using SBERT for data augmentation\n",
      "Using device: cuda\n",
      "CUDA Available: True\n",
      "CUDA Device: NVIDIA GeForce RTX 5070 Ti\n",
      "Current GPU Memory Allocated: 2.21 GB\n",
      "Current GPU Memory Cached: 4.02 GB\n",
      "Model device: cuda:0\n",
      "🔧 Augmenting label 1: 24 → 200 (+176)\n",
      "🔧 Augmenting label 2: 112 → 200 (+88)\n",
      "🔧 Augmenting label 3: 24 → 200 (+176)\n",
      "🔧 Augmenting label 5: 116 → 200 (+84)\n",
      "🔧 Augmenting label 6: 95 → 200 (+105)\n",
      "🔧 Augmenting label 7: 31 → 200 (+169)\n",
      "🔧 Augmenting label 8: 68 → 200 (+132)\n",
      "🔧 Augmenting label 9: 65 → 200 (+135)\n",
      "🔧 Augmenting label 10: 70 → 200 (+130)\n",
      "🔧 Augmenting label 11: 172 → 200 (+28)\n",
      "🔧 Augmenting label 12: 193 → 200 (+7)\n",
      "🔧 Augmenting label 13: 29 → 200 (+171)\n",
      "🔧 Augmenting label 14: 23 → 200 (+177)\n",
      "🔧 Augmenting label 15: 25 → 200 (+175)\n",
      "🔧 Augmenting label 16: 20 → 200 (+180)\n",
      "🔧 Augmenting label 18: 93 → 200 (+107)\n",
      "🔧 Augmenting label 19: 44 → 200 (+156)\n",
      "🔧 Augmenting label 20: 15 → 200 (+185)\n",
      "🔧 Augmenting label 21: 35 → 200 (+165)\n",
      "🔧 Augmenting label 22: 78 → 200 (+122)\n",
      "🔧 Augmenting label 23: 160 → 200 (+40)\n",
      "🔧 Augmenting label 24: 16 → 200 (+184)\n",
      "🔧 Augmenting label 25: 50 → 200 (+150)\n",
      "🔧 Augmenting label 26: 86 → 200 (+114)\n",
      "🔧 Augmenting label 27: 48 → 200 (+152)\n",
      "🔧 Augmenting label 28: 12 → 200 (+188)\n",
      "🔧 Augmenting label 29: 13 → 200 (+187)\n",
      "🔧 Augmenting label 30: 15 → 200 (+185)\n",
      "🔧 Augmenting label 31: 80 → 200 (+120)\n",
      "🔧 Augmenting label 32: 36 → 200 (+164)\n",
      "🔧 Augmenting label 33: 32 → 200 (+168)\n",
      "🔧 Augmenting label 34: 30 → 200 (+170)\n",
      "🔧 Augmenting label 35: 12 → 200 (+188)\n",
      "🔧 Augmenting label 36: 28 → 200 (+172)\n",
      "🔧 Augmenting label 37: 21 → 200 (+179)\n",
      "🔧 Augmenting label 38: 6 → 200 (+194)\n",
      "🔧 Augmenting label 39: 104 → 200 (+96)\n",
      "🔧 Augmenting label 40: 11 → 200 (+189)\n",
      "🔧 Augmenting label 41: 9 → 200 (+191)\n",
      "🔧 Augmenting label 42: 147 → 200 (+53)\n",
      "🔧 Augmenting label 43: 16 → 200 (+184)\n",
      "🔧 Augmenting label 44: 20 → 200 (+180)\n",
      "🔧 Augmenting label 45: 9 → 200 (+191)\n",
      "🔧 Augmenting label 46: 54 → 200 (+146)\n",
      "🔧 Augmenting label 49: 70 → 200 (+130)\n",
      "Label distribution after resampling:\n",
      "  label 0: 3180\n",
      "  label 1: 123\n",
      "  label 2: 200\n",
      "  label 3: 26\n",
      "  label 4: 205\n",
      "  label 5: 160\n",
      "  label 6: 163\n",
      "  label 7: 38\n",
      "  label 8: 83\n",
      "  label 9: 200\n",
      "  label 10: 104\n",
      "  label 11: 200\n",
      "  label 12: 200\n",
      "  label 13: 31\n",
      "  label 14: 23\n",
      "  label 15: 25\n",
      "  label 16: 59\n",
      "  label 17: 231\n",
      "  label 18: 115\n",
      "  label 19: 69\n",
      "  label 20: 45\n",
      "  label 21: 39\n",
      "  label 22: 120\n",
      "  label 23: 200\n",
      "  label 24: 69\n",
      "  label 25: 177\n",
      "  label 26: 137\n",
      "  label 27: 78\n",
      "  label 28: 40\n",
      "  label 29: 15\n",
      "  label 30: 83\n",
      "  label 31: 196\n",
      "  label 32: 46\n",
      "  label 33: 34\n",
      "  label 34: 35\n",
      "  label 35: 14\n",
      "  label 36: 98\n",
      "  label 37: 131\n",
      "  label 38: 27\n",
      "  label 39: 200\n",
      "  label 40: 42\n",
      "  label 41: 16\n",
      "  label 42: 200\n",
      "  label 43: 92\n",
      "  label 44: 31\n",
      "  label 45: 13\n",
      "  label 46: 92\n",
      "  label 47: 529\n",
      "  label 48: 202\n",
      "  label 49: 128\n",
      "model is roberta-base\n"
     ]
    },
    {
     "name": "stderr",
     "output_type": "stream",
     "text": [
      "Some weights of RobertaForSequenceClassification were not initialized from the model checkpoint at roberta-base and are newly initialized: ['classifier.dense.bias', 'classifier.dense.weight', 'classifier.out_proj.bias', 'classifier.out_proj.weight']\n",
      "You should probably TRAIN this model on a down-stream task to be able to use it for predictions and inference.\n"
     ]
    },
    {
     "name": "stdout",
     "output_type": "stream",
     "text": [
      "Epoch 1/20\n"
     ]
    },
    {
     "name": "stderr",
     "output_type": "stream",
     "text": [
      "100%|██████████| 536/536 [00:45<00:00, 11.68it/s]\n"
     ]
    },
    {
     "name": "stdout",
     "output_type": "stream",
     "text": [
      "{'val_loss': 1.7037855943418898, 'val_accuracy': 0.5828402366863905, 'precision': 0.4842281170948858, 'recall': 0.5828402366863905, 'f1-score': 0.5065980152164153, 'macro_f1-score': 0.13650162538208566, 'balanced_accuracy': 0.14373972195350598, 'mcc': 0.4089883575716415, 'train_loss': 2.262118210988258}\n",
      "Epoch 2/20\n"
     ]
    },
    {
     "name": "stderr",
     "output_type": "stream",
     "text": [
      "100%|██████████| 536/536 [00:45<00:00, 11.68it/s]\n"
     ]
    },
    {
     "name": "stdout",
     "output_type": "stream",
     "text": [
      "{'val_loss': 1.4484999044886175, 'val_accuracy': 0.5946745562130178, 'precision': 0.5348719322529488, 'recall': 0.5946745562130178, 'f1-score': 0.5547588877892973, 'macro_f1-score': 0.19397353569759462, 'balanced_accuracy': 0.21443036620782452, 'mcc': 0.44966854296229314, 'train_loss': 1.6571244678612966}\n",
      "Epoch 3/20\n"
     ]
    },
    {
     "name": "stderr",
     "output_type": "stream",
     "text": [
      "100%|██████████| 536/536 [00:45<00:00, 11.69it/s]\n"
     ]
    },
    {
     "name": "stdout",
     "output_type": "stream",
     "text": [
      "{'val_loss': 1.4973485689118224, 'val_accuracy': 0.5668639053254438, 'precision': 0.6000622482102144, 'recall': 0.5668639053254438, 'f1-score': 0.5619958067894598, 'macro_f1-score': 0.23010372177721714, 'balanced_accuracy': 0.26979208449522263, 'mcc': 0.44555116034781084, 'train_loss': 1.4196071197181495}\n",
      "Epoch 4/20\n"
     ]
    },
    {
     "name": "stderr",
     "output_type": "stream",
     "text": [
      "100%|██████████| 536/536 [00:45<00:00, 11.68it/s]\n"
     ]
    },
    {
     "name": "stdout",
     "output_type": "stream",
     "text": [
      "{'val_loss': 1.3767887185204704, 'val_accuracy': 0.6254437869822486, 'precision': 0.6000043535083331, 'recall': 0.6254437869822486, 'f1-score': 0.5901718204110497, 'macro_f1-score': 0.23227056416307854, 'balanced_accuracy': 0.24210551696940386, 'mcc': 0.4947327400698, 'train_loss': 1.2568019099755963}\n",
      "Epoch 5/20\n"
     ]
    },
    {
     "name": "stderr",
     "output_type": "stream",
     "text": [
      "100%|██████████| 536/536 [00:45<00:00, 11.70it/s]\n"
     ]
    },
    {
     "name": "stdout",
     "output_type": "stream",
     "text": [
      "{'val_loss': 1.4619162962684091, 'val_accuracy': 0.5994082840236686, 'precision': 0.6160671292113824, 'recall': 0.5994082840236686, 'f1-score': 0.5938372475644603, 'macro_f1-score': 0.26405824696999436, 'balanced_accuracy': 0.2938822047675125, 'mcc': 0.48879959604587697, 'train_loss': 1.099977583638323}\n",
      "Epoch 6/20\n"
     ]
    },
    {
     "name": "stderr",
     "output_type": "stream",
     "text": [
      "100%|██████████| 536/536 [00:45<00:00, 11.68it/s]\n"
     ]
    },
    {
     "name": "stdout",
     "output_type": "stream",
     "text": [
      "{'val_loss': 1.4574503884562906, 'val_accuracy': 0.6171597633136094, 'precision': 0.5859703026731742, 'recall': 0.6171597633136094, 'f1-score': 0.5860514053297555, 'macro_f1-score': 0.2589518659224098, 'balanced_accuracy': 0.25464327527226505, 'mcc': 0.4730405586643158, 'train_loss': 0.9918371175985727}\n",
      "Epoch 7/20\n"
     ]
    },
    {
     "name": "stderr",
     "output_type": "stream",
     "text": [
      "100%|██████████| 536/536 [00:45<00:00, 11.69it/s]\n"
     ]
    },
    {
     "name": "stdout",
     "output_type": "stream",
     "text": [
      "{'val_loss': 1.3923594684533354, 'val_accuracy': 0.6278106508875739, 'precision': 0.6297790508719835, 'recall': 0.6278106508875739, 'f1-score': 0.6158587295121616, 'macro_f1-score': 0.3013308543079072, 'balanced_accuracy': 0.31407817156762674, 'mcc': 0.5085406056420453, 'train_loss': 0.9152462775471495}\n",
      "Epoch 8/20\n"
     ]
    },
    {
     "name": "stderr",
     "output_type": "stream",
     "text": [
      "100%|██████████| 536/536 [00:45<00:00, 11.69it/s]\n"
     ]
    },
    {
     "name": "stdout",
     "output_type": "stream",
     "text": [
      "{'val_loss': 1.3977329112448782, 'val_accuracy': 0.6183431952662722, 'precision': 0.6251867127875586, 'recall': 0.6183431952662722, 'f1-score': 0.6061718034186542, 'macro_f1-score': 0.3110018699749519, 'balanced_accuracy': 0.3330148199086284, 'mcc': 0.49996619464969133, 'train_loss': 0.8204212012742438}\n",
      "Epoch 9/20\n"
     ]
    },
    {
     "name": "stderr",
     "output_type": "stream",
     "text": [
      "100%|██████████| 536/536 [00:45<00:00, 11.69it/s]\n"
     ]
    },
    {
     "name": "stdout",
     "output_type": "stream",
     "text": [
      "{'val_loss': 1.458706484369512, 'val_accuracy': 0.636094674556213, 'precision': 0.6771007069170563, 'recall': 0.636094674556213, 'f1-score': 0.6322860843675995, 'macro_f1-score': 0.3545717558572793, 'balanced_accuracy': 0.36742178701259376, 'mcc': 0.5317631659995885, 'train_loss': 0.7590721771121025}\n",
      "Epoch 10/20\n"
     ]
    },
    {
     "name": "stderr",
     "output_type": "stream",
     "text": [
      "100%|██████████| 536/536 [00:45<00:00, 11.70it/s]\n"
     ]
    },
    {
     "name": "stdout",
     "output_type": "stream",
     "text": [
      "{'val_loss': 1.5239784720371354, 'val_accuracy': 0.6278106508875739, 'precision': 0.6428950300292813, 'recall': 0.6278106508875739, 'f1-score': 0.6247541618870996, 'macro_f1-score': 0.33284929473137853, 'balanced_accuracy': 0.36601283223642184, 'mcc': 0.5261866181649716, 'train_loss': 0.7110449690927765}\n",
      "Epoch 11/20\n"
     ]
    },
    {
     "name": "stderr",
     "output_type": "stream",
     "text": [
      "100%|██████████| 536/536 [00:45<00:00, 11.68it/s]\n"
     ]
    },
    {
     "name": "stdout",
     "output_type": "stream",
     "text": [
      "{'val_loss': 1.5712699156324819, 'val_accuracy': 0.6230769230769231, 'precision': 0.6517578804147182, 'recall': 0.6230769230769231, 'f1-score': 0.622739604796819, 'macro_f1-score': 0.3261647296428462, 'balanced_accuracy': 0.35254804447273563, 'mcc': 0.5179483558666668, 'train_loss': 0.6749757494249228}\n",
      "Epoch 12/20\n"
     ]
    },
    {
     "name": "stderr",
     "output_type": "stream",
     "text": [
      "100%|██████████| 536/536 [00:45<00:00, 11.69it/s]\n"
     ]
    },
    {
     "name": "stdout",
     "output_type": "stream",
     "text": [
      "{'val_loss': 1.5654608016868807, 'val_accuracy': 0.6366863905325444, 'precision': 0.6472249995330165, 'recall': 0.6366863905325444, 'f1-score': 0.6256330898783082, 'macro_f1-score': 0.3422201725577343, 'balanced_accuracy': 0.35353588115024875, 'mcc': 0.5215968926184477, 'train_loss': 0.642780568520191}\n",
      "Early stopping.\n",
      "\n",
      " === roberta-base + plain + sbert Final 5-fold Cross-Validation Results ===\n",
      "Total time: 11956 seconds\n",
      "Total time: 3 hrs 19 mins 16 secs\n",
      "val_loss: 1.4548\n",
      "val_accuracy: 0.6383\n",
      "precision: 0.6677\n",
      "recall: 0.6383\n",
      "f1-score: 0.6369\n",
      "macro_f1-score: 0.3792\n",
      "balanced_accuracy: 0.3909\n",
      "mcc: 0.5311\n",
      "train_loss: 0.7412\n",
      "▶ Running: roberta-base + lstm + sbert\n",
      "tokenizer is roberta-base\n",
      "Using device: cuda\n",
      "CUDA Available: True\n",
      "CUDA Device: NVIDIA GeForce RTX 5070 Ti\n",
      "Current GPU Memory Allocated: 0.11 GB\n",
      "Current GPU Memory Cached: 4.02 GB\n",
      "\n",
      "[Fold 1]\n",
      "🚀 Using SBERT for data augmentation\n",
      "Using device: cuda\n",
      "CUDA Available: True\n",
      "CUDA Device: NVIDIA GeForce RTX 5070 Ti\n",
      "Current GPU Memory Allocated: 0.20 GB\n",
      "Current GPU Memory Cached: 4.02 GB\n",
      "Model device: cuda:0\n",
      "🔧 Augmenting label 1: 25 → 200 (+175)\n",
      "🔧 Augmenting label 2: 112 → 200 (+88)\n",
      "🔧 Augmenting label 3: 24 → 200 (+176)\n",
      "🔧 Augmenting label 5: 116 → 200 (+84)\n",
      "🔧 Augmenting label 6: 95 → 200 (+105)\n",
      "🔧 Augmenting label 7: 31 → 200 (+169)\n",
      "🔧 Augmenting label 8: 68 → 200 (+132)\n",
      "🔧 Augmenting label 9: 65 → 200 (+135)\n",
      "🔧 Augmenting label 10: 70 → 200 (+130)\n",
      "🔧 Augmenting label 11: 172 → 200 (+28)\n",
      "🔧 Augmenting label 12: 193 → 200 (+7)\n",
      "🔧 Augmenting label 13: 29 → 200 (+171)\n",
      "🔧 Augmenting label 14: 23 → 200 (+177)\n",
      "🔧 Augmenting label 15: 25 → 200 (+175)\n",
      "🔧 Augmenting label 16: 20 → 200 (+180)\n",
      "🔧 Augmenting label 18: 93 → 200 (+107)\n",
      "🔧 Augmenting label 19: 45 → 200 (+155)\n",
      "🔧 Augmenting label 20: 14 → 200 (+186)\n",
      "🔧 Augmenting label 21: 35 → 200 (+165)\n",
      "🔧 Augmenting label 22: 78 → 200 (+122)\n",
      "🔧 Augmenting label 23: 160 → 200 (+40)\n",
      "🔧 Augmenting label 24: 16 → 200 (+184)\n",
      "🔧 Augmenting label 25: 50 → 200 (+150)\n",
      "🔧 Augmenting label 26: 86 → 200 (+114)\n",
      "🔧 Augmenting label 27: 49 → 200 (+151)\n",
      "🔧 Augmenting label 28: 12 → 200 (+188)\n",
      "🔧 Augmenting label 29: 13 → 200 (+187)\n",
      "🔧 Augmenting label 30: 15 → 200 (+185)\n",
      "🔧 Augmenting label 31: 80 → 200 (+120)\n",
      "🔧 Augmenting label 32: 36 → 200 (+164)\n",
      "🔧 Augmenting label 33: 32 → 200 (+168)\n",
      "🔧 Augmenting label 34: 30 → 200 (+170)\n",
      "🔧 Augmenting label 35: 12 → 200 (+188)\n",
      "🔧 Augmenting label 36: 28 → 200 (+172)\n",
      "🔧 Augmenting label 37: 21 → 200 (+179)\n",
      "🔧 Augmenting label 38: 6 → 200 (+194)\n",
      "🔧 Augmenting label 39: 103 → 200 (+97)\n",
      "🔧 Augmenting label 40: 12 → 200 (+188)\n",
      "🔧 Augmenting label 41: 8 → 200 (+192)\n",
      "🔧 Augmenting label 42: 147 → 200 (+53)\n",
      "🔧 Augmenting label 43: 16 → 200 (+184)\n",
      "🔧 Augmenting label 44: 20 → 200 (+180)\n",
      "🔧 Augmenting label 45: 9 → 200 (+191)\n",
      "🔧 Augmenting label 46: 54 → 200 (+146)\n",
      "🔧 Augmenting label 49: 69 → 200 (+131)\n",
      "Label distribution after resampling:\n",
      "  label 0: 3179\n",
      "  label 1: 105\n",
      "  label 2: 200\n",
      "  label 3: 26\n",
      "  label 4: 205\n",
      "  label 5: 164\n",
      "  label 6: 163\n",
      "  label 7: 38\n",
      "  label 8: 74\n",
      "  label 9: 200\n",
      "  label 10: 117\n",
      "  label 11: 200\n",
      "  label 12: 200\n",
      "  label 13: 33\n",
      "  label 14: 23\n",
      "  label 15: 28\n",
      "  label 16: 67\n",
      "  label 17: 231\n",
      "  label 18: 116\n",
      "  label 19: 74\n",
      "  label 20: 42\n",
      "  label 21: 45\n",
      "  label 22: 106\n",
      "  label 23: 200\n",
      "  label 24: 59\n",
      "  label 25: 145\n",
      "  label 26: 123\n",
      "  label 27: 87\n",
      "  label 28: 44\n",
      "  label 29: 16\n",
      "  label 30: 82\n",
      "  label 31: 185\n",
      "  label 32: 44\n",
      "  label 33: 39\n",
      "  label 34: 33\n",
      "  label 35: 22\n",
      "  label 36: 120\n",
      "  label 37: 120\n",
      "  label 38: 24\n",
      "  label 39: 200\n",
      "  label 40: 33\n",
      "  label 41: 24\n",
      "  label 42: 200\n",
      "  label 43: 113\n",
      "  label 44: 33\n",
      "  label 45: 16\n",
      "  label 46: 138\n",
      "  label 47: 529\n",
      "  label 48: 202\n",
      "  label 49: 111\n",
      "model is roberta-base lstm\n"
     ]
    },
    {
     "name": "stderr",
     "output_type": "stream",
     "text": [
      "Some weights of RobertaModel were not initialized from the model checkpoint at roberta-base and are newly initialized: ['pooler.dense.bias', 'pooler.dense.weight']\n",
      "You should probably TRAIN this model on a down-stream task to be able to use it for predictions and inference.\n"
     ]
    },
    {
     "name": "stdout",
     "output_type": "stream",
     "text": [
      "Epoch 1/20\n"
     ]
    },
    {
     "name": "stderr",
     "output_type": "stream",
     "text": [
      "100%|██████████| 537/537 [00:48<00:00, 11.01it/s]\n"
     ]
    },
    {
     "name": "stdout",
     "output_type": "stream",
     "text": [
      "{'val_loss': 1.817264124469937, 'val_accuracy': 0.5629804849201656, 'precision': 0.4243844194273494, 'recall': 0.5629804849201656, 'f1-score': 0.4653849484183484, 'macro_f1-score': 0.09135244702838069, 'balanced_accuracy': 0.1046630969514008, 'mcc': 0.36854644504702627, 'train_loss': 2.4281773167615497}\n",
      "Epoch 2/20\n"
     ]
    },
    {
     "name": "stderr",
     "output_type": "stream",
     "text": [
      "100%|██████████| 537/537 [00:48<00:00, 10.99it/s]\n"
     ]
    },
    {
     "name": "stdout",
     "output_type": "stream",
     "text": [
      "{'val_loss': 1.6963056562081822, 'val_accuracy': 0.5836782968657599, 'precision': 0.48023763595601454, 'recall': 0.5836782968657599, 'f1-score': 0.5160132407193234, 'macro_f1-score': 0.15368013748667086, 'balanced_accuracy': 0.17881628869733165, 'mcc': 0.4289788375323358, 'train_loss': 1.9198144456749744}\n",
      "Epoch 3/20\n"
     ]
    },
    {
     "name": "stderr",
     "output_type": "stream",
     "text": [
      "100%|██████████| 537/537 [00:48<00:00, 10.99it/s]\n"
     ]
    },
    {
     "name": "stdout",
     "output_type": "stream",
     "text": [
      "{'val_loss': 1.5515323950434632, 'val_accuracy': 0.612655233589592, 'precision': 0.5097768037022289, 'recall': 0.612655233589592, 'f1-score': 0.539389240706782, 'macro_f1-score': 0.17404371042988662, 'balanced_accuracy': 0.18993793907672937, 'mcc': 0.4585221891734766, 'train_loss': 1.728918728881708}\n",
      "Epoch 4/20\n"
     ]
    },
    {
     "name": "stderr",
     "output_type": "stream",
     "text": [
      "100%|██████████| 537/537 [00:48<00:00, 11.01it/s]\n"
     ]
    },
    {
     "name": "stdout",
     "output_type": "stream",
     "text": [
      "{'val_loss': 1.513475905049522, 'val_accuracy': 0.6173861620342992, 'precision': 0.55762886271038, 'recall': 0.6173861620342992, 'f1-score': 0.5693065081331256, 'macro_f1-score': 0.21808713519987158, 'balanced_accuracy': 0.22313712129321783, 'mcc': 0.4777670058829949, 'train_loss': 1.5569811461136105}\n",
      "Epoch 5/20\n"
     ]
    },
    {
     "name": "stderr",
     "output_type": "stream",
     "text": [
      "100%|██████████| 537/537 [00:48<00:00, 11.00it/s]\n"
     ]
    },
    {
     "name": "stdout",
     "output_type": "stream",
     "text": [
      "{'val_loss': 1.4364248311744545, 'val_accuracy': 0.625665286812537, 'precision': 0.6108421998363439, 'recall': 0.625665286812537, 'f1-score': 0.5971958215876144, 'macro_f1-score': 0.24826865494869327, 'balanced_accuracy': 0.26016331215637967, 'mcc': 0.49989743168445855, 'train_loss': 1.4547121512601273}\n",
      "Epoch 6/20\n"
     ]
    },
    {
     "name": "stderr",
     "output_type": "stream",
     "text": [
      "100%|██████████| 537/537 [00:48<00:00, 11.02it/s]\n"
     ]
    },
    {
     "name": "stdout",
     "output_type": "stream",
     "text": [
      "{'val_loss': 1.4376373465331096, 'val_accuracy': 0.6173861620342992, 'precision': 0.580721004784128, 'recall': 0.6173861620342992, 'f1-score': 0.5859069884859954, 'macro_f1-score': 0.24444199656419585, 'balanced_accuracy': 0.27948734175582957, 'mcc': 0.4889854407081911, 'train_loss': 1.3392088076921815}\n",
      "Epoch 7/20\n"
     ]
    },
    {
     "name": "stderr",
     "output_type": "stream",
     "text": [
      "100%|██████████| 537/537 [00:48<00:00, 11.00it/s]\n"
     ]
    },
    {
     "name": "stdout",
     "output_type": "stream",
     "text": [
      "{'val_loss': 1.416953444480896, 'val_accuracy': 0.6221170904790065, 'precision': 0.6032043201614351, 'recall': 0.6221170904790065, 'f1-score': 0.599017535477118, 'macro_f1-score': 0.26413505688041317, 'balanced_accuracy': 0.29041505488220676, 'mcc': 0.49769317176672506, 'train_loss': 1.2800671063099938}\n",
      "Epoch 8/20\n"
     ]
    },
    {
     "name": "stderr",
     "output_type": "stream",
     "text": [
      "100%|██████████| 537/537 [00:48<00:00, 11.01it/s]\n"
     ]
    },
    {
     "name": "stdout",
     "output_type": "stream",
     "text": [
      "{'val_loss': 1.424244726463309, 'val_accuracy': 0.6327616794795978, 'precision': 0.591462576567595, 'recall': 0.6327616794795978, 'f1-score': 0.5945117179495933, 'macro_f1-score': 0.2683798035275718, 'balanced_accuracy': 0.2878770904326063, 'mcc': 0.5013108162213111, 'train_loss': 1.197877781462181}\n",
      "Epoch 9/20\n"
     ]
    },
    {
     "name": "stderr",
     "output_type": "stream",
     "text": [
      "100%|██████████| 537/537 [00:48<00:00, 10.98it/s]\n"
     ]
    },
    {
     "name": "stdout",
     "output_type": "stream",
     "text": [
      "{'val_loss': 1.5311820568903438, 'val_accuracy': 0.6162034299231224, 'precision': 0.5950274825160552, 'recall': 0.6162034299231224, 'f1-score': 0.5925309931775963, 'macro_f1-score': 0.27472386479519023, 'balanced_accuracy': 0.28801864173558483, 'mcc': 0.48788745062849675, 'train_loss': 1.1410302965584413}\n",
      "Epoch 10/20\n"
     ]
    },
    {
     "name": "stderr",
     "output_type": "stream",
     "text": [
      "100%|██████████| 537/537 [00:48<00:00, 10.99it/s]\n"
     ]
    },
    {
     "name": "stdout",
     "output_type": "stream",
     "text": [
      "{'val_loss': 1.4463760059959483, 'val_accuracy': 0.6292134831460674, 'precision': 0.6250670979601156, 'recall': 0.6292134831460674, 'f1-score': 0.6131723167310571, 'macro_f1-score': 0.2889722165189511, 'balanced_accuracy': 0.3073643183479385, 'mcc': 0.5113285690121263, 'train_loss': 1.0866339627923913}\n",
      "Epoch 11/20\n"
     ]
    },
    {
     "name": "stderr",
     "output_type": "stream",
     "text": [
      "100%|██████████| 537/537 [00:48<00:00, 11.01it/s]\n"
     ]
    },
    {
     "name": "stdout",
     "output_type": "stream",
     "text": [
      "{'val_loss': 1.491125246545054, 'val_accuracy': 0.5890005913660555, 'precision': 0.6130275503051061, 'recall': 0.5890005913660555, 'f1-score': 0.5844111921891417, 'macro_f1-score': 0.2674007417090495, 'balanced_accuracy': 0.29840447549565197, 'mcc': 0.46761096119265083, 'train_loss': 1.0402528838405396}\n",
      "Epoch 12/20\n"
     ]
    },
    {
     "name": "stderr",
     "output_type": "stream",
     "text": [
      "100%|██████████| 537/537 [00:48<00:00, 10.99it/s]\n"
     ]
    },
    {
     "name": "stdout",
     "output_type": "stream",
     "text": [
      "{'val_loss': 1.5140998009240851, 'val_accuracy': 0.6132465996451804, 'precision': 0.622324794852841, 'recall': 0.6132465996451804, 'f1-score': 0.6063132603381242, 'macro_f1-score': 0.29183289997528467, 'balanced_accuracy': 0.30119467081127227, 'mcc': 0.4934388355737377, 'train_loss': 0.9978397248011062}\n",
      "Epoch 13/20\n"
     ]
    },
    {
     "name": "stderr",
     "output_type": "stream",
     "text": [
      "100%|██████████| 537/537 [00:48<00:00, 11.01it/s]\n"
     ]
    },
    {
     "name": "stdout",
     "output_type": "stream",
     "text": [
      "{'val_loss': 1.5596389267242179, 'val_accuracy': 0.6191602602010644, 'precision': 0.6050264795558886, 'recall': 0.6191602602010644, 'f1-score': 0.599060441109075, 'macro_f1-score': 0.2903551953356611, 'balanced_accuracy': 0.30601679533032267, 'mcc': 0.49786196619932765, 'train_loss': 0.9346737987890812}\n",
      "Epoch 14/20\n"
     ]
    },
    {
     "name": "stderr",
     "output_type": "stream",
     "text": [
      "100%|██████████| 537/537 [00:48<00:00, 10.99it/s]\n"
     ]
    },
    {
     "name": "stdout",
     "output_type": "stream",
     "text": [
      "{'val_loss': 1.50220558215987, 'val_accuracy': 0.6179775280898876, 'precision': 0.6393263231686758, 'recall': 0.6179775280898876, 'f1-score': 0.6158946554192856, 'macro_f1-score': 0.3015003637813023, 'balanced_accuracy': 0.33667521969953124, 'mcc': 0.5090344644410606, 'train_loss': 0.9191361496734886}\n",
      "Epoch 15/20\n"
     ]
    },
    {
     "name": "stderr",
     "output_type": "stream",
     "text": [
      "100%|██████████| 537/537 [00:48<00:00, 11.01it/s]\n"
     ]
    },
    {
     "name": "stdout",
     "output_type": "stream",
     "text": [
      "{'val_loss': 1.4899458024861678, 'val_accuracy': 0.6250739207569486, 'precision': 0.6344005699333182, 'recall': 0.6250739207569486, 'f1-score': 0.6224142628232876, 'macro_f1-score': 0.3396156208040443, 'balanced_accuracy': 0.35840697548974115, 'mcc': 0.5161838134251313, 'train_loss': 0.8753167355027278}\n",
      "Epoch 16/20\n"
     ]
    },
    {
     "name": "stderr",
     "output_type": "stream",
     "text": [
      "100%|██████████| 537/537 [00:49<00:00, 10.96it/s]\n"
     ]
    },
    {
     "name": "stdout",
     "output_type": "stream",
     "text": [
      "{'val_loss': 1.5450051989195481, 'val_accuracy': 0.6215257244234181, 'precision': 0.6300206727909763, 'recall': 0.6215257244234181, 'f1-score': 0.6159940189471182, 'macro_f1-score': 0.30827287505751305, 'balanced_accuracy': 0.32365313868751566, 'mcc': 0.51117761062343, 'train_loss': 0.8594623355670126}\n",
      "Epoch 17/20\n"
     ]
    },
    {
     "name": "stderr",
     "output_type": "stream",
     "text": [
      "100%|██████████| 537/537 [00:48<00:00, 11.01it/s]\n"
     ]
    },
    {
     "name": "stdout",
     "output_type": "stream",
     "text": [
      "{'val_loss': 1.534398858277303, 'val_accuracy': 0.6232998225901834, 'precision': 0.6374424145560651, 'recall': 0.6232998225901834, 'f1-score': 0.6213993198705238, 'macro_f1-score': 0.31969943884707186, 'balanced_accuracy': 0.34053401034283426, 'mcc': 0.5141143868186007, 'train_loss': 0.8342187963079252}\n",
      "Epoch 18/20\n"
     ]
    },
    {
     "name": "stderr",
     "output_type": "stream",
     "text": [
      "100%|██████████| 537/537 [00:48<00:00, 11.01it/s]\n"
     ]
    },
    {
     "name": "stdout",
     "output_type": "stream",
     "text": [
      "{'val_loss': 1.5199127020138614, 'val_accuracy': 0.6469544648137197, 'precision': 0.6311252450950109, 'recall': 0.6469544648137197, 'f1-score': 0.6245270087592003, 'macro_f1-score': 0.33448754186138346, 'balanced_accuracy': 0.32193312260378276, 'mcc': 0.5226329054174074, 'train_loss': 0.8144566783858411}\n",
      "Early stopping.\n",
      "\n",
      "[Fold 2]\n",
      "🚀 Using SBERT for data augmentation\n",
      "Using device: cuda\n",
      "CUDA Available: True\n",
      "CUDA Device: NVIDIA GeForce RTX 5070 Ti\n",
      "Current GPU Memory Allocated: 2.22 GB\n",
      "Current GPU Memory Cached: 4.02 GB\n",
      "Model device: cuda:0\n",
      "🔧 Augmenting label 1: 25 → 200 (+175)\n",
      "🔧 Augmenting label 2: 112 → 200 (+88)\n",
      "🔧 Augmenting label 3: 24 → 200 (+176)\n",
      "🔧 Augmenting label 5: 116 → 200 (+84)\n",
      "🔧 Augmenting label 6: 94 → 200 (+106)\n",
      "🔧 Augmenting label 7: 31 → 200 (+169)\n",
      "🔧 Augmenting label 8: 68 → 200 (+132)\n",
      "🔧 Augmenting label 9: 65 → 200 (+135)\n",
      "🔧 Augmenting label 10: 70 → 200 (+130)\n",
      "🔧 Augmenting label 11: 172 → 200 (+28)\n",
      "🔧 Augmenting label 12: 193 → 200 (+7)\n",
      "🔧 Augmenting label 13: 29 → 200 (+171)\n",
      "🔧 Augmenting label 14: 23 → 200 (+177)\n",
      "🔧 Augmenting label 15: 25 → 200 (+175)\n",
      "🔧 Augmenting label 16: 20 → 200 (+180)\n",
      "🔧 Augmenting label 18: 93 → 200 (+107)\n",
      "🔧 Augmenting label 19: 45 → 200 (+155)\n",
      "🔧 Augmenting label 20: 14 → 200 (+186)\n",
      "🔧 Augmenting label 21: 35 → 200 (+165)\n",
      "🔧 Augmenting label 22: 78 → 200 (+122)\n",
      "🔧 Augmenting label 23: 160 → 200 (+40)\n",
      "🔧 Augmenting label 24: 16 → 200 (+184)\n",
      "🔧 Augmenting label 25: 50 → 200 (+150)\n",
      "🔧 Augmenting label 26: 86 → 200 (+114)\n",
      "🔧 Augmenting label 27: 49 → 200 (+151)\n",
      "🔧 Augmenting label 28: 12 → 200 (+188)\n",
      "🔧 Augmenting label 29: 13 → 200 (+187)\n",
      "🔧 Augmenting label 30: 15 → 200 (+185)\n",
      "🔧 Augmenting label 31: 80 → 200 (+120)\n",
      "🔧 Augmenting label 32: 36 → 200 (+164)\n",
      "🔧 Augmenting label 33: 32 → 200 (+168)\n",
      "🔧 Augmenting label 34: 30 → 200 (+170)\n",
      "🔧 Augmenting label 35: 12 → 200 (+188)\n",
      "🔧 Augmenting label 36: 28 → 200 (+172)\n",
      "🔧 Augmenting label 37: 22 → 200 (+178)\n",
      "🔧 Augmenting label 38: 5 → 200 (+195)\n",
      "🔧 Augmenting label 39: 103 → 200 (+97)\n",
      "🔧 Augmenting label 40: 11 → 200 (+189)\n",
      "🔧 Augmenting label 41: 9 → 200 (+191)\n",
      "🔧 Augmenting label 42: 147 → 200 (+53)\n",
      "🔧 Augmenting label 43: 16 → 200 (+184)\n",
      "🔧 Augmenting label 44: 20 → 200 (+180)\n",
      "🔧 Augmenting label 45: 9 → 200 (+191)\n",
      "🔧 Augmenting label 46: 55 → 200 (+145)\n",
      "🔧 Augmenting label 49: 69 → 200 (+131)\n",
      "Label distribution after resampling:\n",
      "  label 0: 3179\n",
      "  label 1: 119\n",
      "  label 2: 200\n",
      "  label 3: 25\n",
      "  label 4: 206\n",
      "  label 5: 144\n",
      "  label 6: 177\n",
      "  label 7: 35\n",
      "  label 8: 80\n",
      "  label 9: 200\n",
      "  label 10: 95\n",
      "  label 11: 200\n",
      "  label 12: 200\n",
      "  label 13: 33\n",
      "  label 14: 23\n",
      "  label 15: 28\n",
      "  label 16: 69\n",
      "  label 17: 231\n",
      "  label 18: 117\n",
      "  label 19: 70\n",
      "  label 20: 52\n",
      "  label 21: 41\n",
      "  label 22: 130\n",
      "  label 23: 200\n",
      "  label 24: 60\n",
      "  label 25: 160\n",
      "  label 26: 122\n",
      "  label 27: 93\n",
      "  label 28: 29\n",
      "  label 29: 13\n",
      "  label 30: 79\n",
      "  label 31: 174\n",
      "  label 32: 37\n",
      "  label 33: 38\n",
      "  label 34: 31\n",
      "  label 35: 24\n",
      "  label 36: 95\n",
      "  label 37: 116\n",
      "  label 38: 23\n",
      "  label 39: 200\n",
      "  label 40: 32\n",
      "  label 41: 24\n",
      "  label 42: 200\n",
      "  label 43: 129\n",
      "  label 44: 30\n",
      "  label 45: 20\n",
      "  label 46: 111\n",
      "  label 47: 528\n",
      "  label 48: 202\n",
      "  label 49: 109\n",
      "model is roberta-base lstm\n"
     ]
    },
    {
     "name": "stderr",
     "output_type": "stream",
     "text": [
      "Some weights of RobertaModel were not initialized from the model checkpoint at roberta-base and are newly initialized: ['pooler.dense.bias', 'pooler.dense.weight']\n",
      "You should probably TRAIN this model on a down-stream task to be able to use it for predictions and inference.\n"
     ]
    },
    {
     "name": "stdout",
     "output_type": "stream",
     "text": [
      "Epoch 1/20\n"
     ]
    },
    {
     "name": "stderr",
     "output_type": "stream",
     "text": [
      "100%|██████████| 534/534 [00:48<00:00, 10.99it/s]\n"
     ]
    },
    {
     "name": "stdout",
     "output_type": "stream",
     "text": [
      "{'val_loss': 1.8388311902307115, 'val_accuracy': 0.5588409225310467, 'precision': 0.4267328366150457, 'recall': 0.5588409225310467, 'f1-score': 0.4741799849546553, 'macro_f1-score': 0.08722295504314839, 'balanced_accuracy': 0.11894464800531462, 'mcc': 0.39013642747728167, 'train_loss': 2.4383497992704872}\n",
      "Epoch 2/20\n"
     ]
    },
    {
     "name": "stderr",
     "output_type": "stream",
     "text": [
      "100%|██████████| 534/534 [00:48<00:00, 11.01it/s]\n"
     ]
    },
    {
     "name": "stdout",
     "output_type": "stream",
     "text": [
      "{'val_loss': 1.6407777678291753, 'val_accuracy': 0.6102897693672383, 'precision': 0.523351695124697, 'recall': 0.6102897693672383, 'f1-score': 0.5324564080923135, 'macro_f1-score': 0.16856511237205424, 'balanced_accuracy': 0.18871493836181422, 'mcc': 0.45170089035069766, 'train_loss': 1.9252110993147789}\n",
      "Epoch 3/20\n"
     ]
    },
    {
     "name": "stderr",
     "output_type": "stream",
     "text": [
      "100%|██████████| 534/534 [00:48<00:00, 10.98it/s]\n"
     ]
    },
    {
     "name": "stdout",
     "output_type": "stream",
     "text": [
      "{'val_loss': 1.5384378537254513, 'val_accuracy': 0.6055588409225311, 'precision': 0.4824453587946725, 'recall': 0.6055588409225311, 'f1-score': 0.5199100932469227, 'macro_f1-score': 0.1548216844172317, 'balanced_accuracy': 0.1759607998024402, 'mcc': 0.4434900764303032, 'train_loss': 1.7495046477862513}\n",
      "Epoch 4/20\n"
     ]
    },
    {
     "name": "stderr",
     "output_type": "stream",
     "text": [
      "100%|██████████| 534/534 [00:48<00:00, 11.01it/s]\n"
     ]
    },
    {
     "name": "stdout",
     "output_type": "stream",
     "text": [
      "{'val_loss': 1.5238295169371479, 'val_accuracy': 0.5996451803666469, 'precision': 0.5214043347986073, 'recall': 0.5996451803666469, 'f1-score': 0.5396473289220238, 'macro_f1-score': 0.17175006069009785, 'balanced_accuracy': 0.2063406954604554, 'mcc': 0.4588803408116755, 'train_loss': 1.607785134503011}\n",
      "Epoch 5/20\n"
     ]
    },
    {
     "name": "stderr",
     "output_type": "stream",
     "text": [
      "100%|██████████| 534/534 [00:48<00:00, 10.97it/s]\n"
     ]
    },
    {
     "name": "stdout",
     "output_type": "stream",
     "text": [
      "{'val_loss': 1.4595139091307263, 'val_accuracy': 0.6250739207569486, 'precision': 0.5841586499801383, 'recall': 0.6250739207569486, 'f1-score': 0.5862799311055934, 'macro_f1-score': 0.24265314028457297, 'balanced_accuracy': 0.26577788693751514, 'mcc': 0.4936854111148351, 'train_loss': 1.4765484395545074}\n",
      "Epoch 6/20\n"
     ]
    },
    {
     "name": "stderr",
     "output_type": "stream",
     "text": [
      "100%|██████████| 534/534 [00:48<00:00, 11.01it/s]\n"
     ]
    },
    {
     "name": "stdout",
     "output_type": "stream",
     "text": [
      "{'val_loss': 1.5822565707395662, 'val_accuracy': 0.5795387344766411, 'precision': 0.5861705665394304, 'recall': 0.5795387344766411, 'f1-score': 0.5669880933324563, 'macro_f1-score': 0.2327029715514993, 'balanced_accuracy': 0.2674990317058767, 'mcc': 0.4543099886368638, 'train_loss': 1.406956371519896}\n",
      "Epoch 7/20\n"
     ]
    },
    {
     "name": "stderr",
     "output_type": "stream",
     "text": [
      "100%|██████████| 534/534 [00:48<00:00, 11.02it/s]\n"
     ]
    },
    {
     "name": "stdout",
     "output_type": "stream",
     "text": [
      "{'val_loss': 1.4644822843794554, 'val_accuracy': 0.625665286812537, 'precision': 0.5846848166397316, 'recall': 0.625665286812537, 'f1-score': 0.5886969602794159, 'macro_f1-score': 0.24588912296349189, 'balanced_accuracy': 0.2688651495772953, 'mcc': 0.49011234801590187, 'train_loss': 1.3528441755512681}\n",
      "Epoch 8/20\n"
     ]
    },
    {
     "name": "stderr",
     "output_type": "stream",
     "text": [
      "100%|██████████| 534/534 [00:48<00:00, 10.98it/s]\n"
     ]
    },
    {
     "name": "stdout",
     "output_type": "stream",
     "text": [
      "{'val_loss': 1.4294749810448233, 'val_accuracy': 0.602602010644589, 'precision': 0.6115554702688791, 'recall': 0.602602010644589, 'f1-score': 0.5959560720348024, 'macro_f1-score': 0.2873626626719074, 'balanced_accuracy': 0.3154424723407309, 'mcc': 0.4854115069783513, 'train_loss': 1.2409947026200063}\n",
      "Epoch 9/20\n"
     ]
    },
    {
     "name": "stderr",
     "output_type": "stream",
     "text": [
      "100%|██████████| 534/534 [00:48<00:00, 11.02it/s]\n"
     ]
    },
    {
     "name": "stdout",
     "output_type": "stream",
     "text": [
      "{'val_loss': 1.4891198749812145, 'val_accuracy': 0.612655233589592, 'precision': 0.5945587989003651, 'recall': 0.612655233589592, 'f1-score': 0.5881002221921914, 'macro_f1-score': 0.2718860529143724, 'balanced_accuracy': 0.28933062520648045, 'mcc': 0.4822657000253335, 'train_loss': 1.2420424547757996}\n",
      "Epoch 10/20\n"
     ]
    },
    {
     "name": "stderr",
     "output_type": "stream",
     "text": [
      "100%|██████████| 534/534 [00:48<00:00, 11.00it/s]\n"
     ]
    },
    {
     "name": "stdout",
     "output_type": "stream",
     "text": [
      "{'val_loss': 1.4347047400924395, 'val_accuracy': 0.6061502069781195, 'precision': 0.6195596746190565, 'recall': 0.6061502069781195, 'f1-score': 0.6016235612906895, 'macro_f1-score': 0.2880271055622012, 'balanced_accuracy': 0.33292389598939853, 'mcc': 0.5065543323075509, 'train_loss': 1.1451853692866443}\n",
      "Epoch 11/20\n"
     ]
    },
    {
     "name": "stderr",
     "output_type": "stream",
     "text": [
      "100%|██████████| 534/534 [00:48<00:00, 11.02it/s]\n"
     ]
    },
    {
     "name": "stdout",
     "output_type": "stream",
     "text": [
      "{'val_loss': 1.4766075217498924, 'val_accuracy': 0.6197516262566529, 'precision': 0.602219988799414, 'recall': 0.6197516262566529, 'f1-score': 0.5923495548317691, 'macro_f1-score': 0.27450603699736215, 'balanced_accuracy': 0.28829943633331084, 'mcc': 0.487185911862988, 'train_loss': 1.1328587273645043}\n",
      "Epoch 12/20\n"
     ]
    },
    {
     "name": "stderr",
     "output_type": "stream",
     "text": [
      "100%|██████████| 534/534 [00:48<00:00, 10.95it/s]\n"
     ]
    },
    {
     "name": "stdout",
     "output_type": "stream",
     "text": [
      "{'val_loss': 1.4544345160137933, 'val_accuracy': 0.615612063867534, 'precision': 0.6249245598299764, 'recall': 0.615612063867534, 'f1-score': 0.6081724448538747, 'macro_f1-score': 0.3074659399296791, 'balanced_accuracy': 0.34335786528604595, 'mcc': 0.5045063181798063, 'train_loss': 1.1518273011742906}\n",
      "Epoch 13/20\n"
     ]
    },
    {
     "name": "stderr",
     "output_type": "stream",
     "text": [
      "100%|██████████| 534/534 [00:48<00:00, 11.02it/s]\n"
     ]
    },
    {
     "name": "stdout",
     "output_type": "stream",
     "text": [
      "{'val_loss': 1.4599225684156958, 'val_accuracy': 0.6073329390892963, 'precision': 0.6076048034360529, 'recall': 0.6073329390892963, 'f1-score': 0.5929912197442038, 'macro_f1-score': 0.27797464311830256, 'balanced_accuracy': 0.32972284167252036, 'mcc': 0.4929958489989553, 'train_loss': 1.0770733931593681}\n",
      "Epoch 14/20\n"
     ]
    },
    {
     "name": "stderr",
     "output_type": "stream",
     "text": [
      "100%|██████████| 534/534 [00:48<00:00, 11.02it/s]\n"
     ]
    },
    {
     "name": "stdout",
     "output_type": "stream",
     "text": [
      "{'val_loss': 1.4592206686172846, 'val_accuracy': 0.6238911886457718, 'precision': 0.6270185441808084, 'recall': 0.6238911886457718, 'f1-score': 0.6121300015583397, 'macro_f1-score': 0.319628076443225, 'balanced_accuracy': 0.3505645694551248, 'mcc': 0.5121256496442093, 'train_loss': 1.0059370796722866}\n",
      "Epoch 15/20\n"
     ]
    },
    {
     "name": "stderr",
     "output_type": "stream",
     "text": [
      "100%|██████████| 534/534 [00:48<00:00, 10.99it/s]\n"
     ]
    },
    {
     "name": "stdout",
     "output_type": "stream",
     "text": [
      "{'val_loss': 1.5374689062811293, 'val_accuracy': 0.5884092253104671, 'precision': 0.6219705674888368, 'recall': 0.5884092253104671, 'f1-score': 0.5939535608588492, 'macro_f1-score': 0.29476333811533245, 'balanced_accuracy': 0.35787598433090556, 'mcc': 0.48380579022704023, 'train_loss': 0.9759538836414448}\n",
      "Epoch 16/20\n"
     ]
    },
    {
     "name": "stderr",
     "output_type": "stream",
     "text": [
      "100%|██████████| 534/534 [00:48<00:00, 11.03it/s]\n"
     ]
    },
    {
     "name": "stdout",
     "output_type": "stream",
     "text": [
      "{'val_loss': 1.4952176263872183, 'val_accuracy': 0.6351271437019516, 'precision': 0.6225628507304627, 'recall': 0.6351271437019516, 'f1-score': 0.6201189498858665, 'macro_f1-score': 0.3058174538646746, 'balanced_accuracy': 0.34061458460984134, 'mcc': 0.5192402461621749, 'train_loss': 0.9411361061790017}\n",
      "Epoch 17/20\n"
     ]
    },
    {
     "name": "stderr",
     "output_type": "stream",
     "text": [
      "100%|██████████| 534/534 [00:48<00:00, 10.99it/s]\n"
     ]
    },
    {
     "name": "stdout",
     "output_type": "stream",
     "text": [
      "{'val_loss': 1.4480803189974911, 'val_accuracy': 0.6439976345357776, 'precision': 0.6386924089455963, 'recall': 0.6439976345357776, 'f1-score': 0.6285028205575691, 'macro_f1-score': 0.3218141277890361, 'balanced_accuracy': 0.3335128426302179, 'mcc': 0.5245637894889708, 'train_loss': 0.9374395628714383}\n",
      "Epoch 18/20\n"
     ]
    },
    {
     "name": "stderr",
     "output_type": "stream",
     "text": [
      "100%|██████████| 534/534 [00:48<00:00, 11.01it/s]\n"
     ]
    },
    {
     "name": "stdout",
     "output_type": "stream",
     "text": [
      "{'val_loss': 1.7240918728540529, 'val_accuracy': 0.589591957421644, 'precision': 0.6133618666145333, 'recall': 0.589591957421644, 'f1-score': 0.5851767666919219, 'macro_f1-score': 0.30873413066198957, 'balanced_accuracy': 0.33931305738829276, 'mcc': 0.48231260754610294, 'train_loss': 0.9066327964880047}\n",
      "Epoch 19/20\n"
     ]
    },
    {
     "name": "stderr",
     "output_type": "stream",
     "text": [
      "100%|██████████| 534/534 [00:48<00:00, 10.97it/s]\n"
     ]
    },
    {
     "name": "stdout",
     "output_type": "stream",
     "text": [
      "{'val_loss': 1.5520091956516482, 'val_accuracy': 0.6280307510348906, 'precision': 0.6279744956620119, 'recall': 0.6280307510348906, 'f1-score': 0.6143971842864111, 'macro_f1-score': 0.3097978846146223, 'balanced_accuracy': 0.33363388766282837, 'mcc': 0.5088907661539386, 'train_loss': 0.893872034292989}\n",
      "Epoch 20/20\n"
     ]
    },
    {
     "name": "stderr",
     "output_type": "stream",
     "text": [
      "100%|██████████| 534/534 [00:48<00:00, 11.01it/s]\n"
     ]
    },
    {
     "name": "stdout",
     "output_type": "stream",
     "text": [
      "{'val_loss': 1.6213248270862508, 'val_accuracy': 0.5866351271437019, 'precision': 0.6325497529963036, 'recall': 0.5866351271437019, 'f1-score': 0.594534210468083, 'macro_f1-score': 0.30740420752687136, 'balanced_accuracy': 0.358259870662221, 'mcc': 0.485875945813891, 'train_loss': 0.8737822082102968}\n",
      "Early stopping.\n",
      "\n",
      "[Fold 3]\n",
      "🚀 Using SBERT for data augmentation\n",
      "Using device: cuda\n",
      "CUDA Available: True\n",
      "CUDA Device: NVIDIA GeForce RTX 5070 Ti\n",
      "Current GPU Memory Allocated: 2.22 GB\n",
      "Current GPU Memory Cached: 4.02 GB\n",
      "Model device: cuda:0\n",
      "🔧 Augmenting label 1: 25 → 200 (+175)\n",
      "🔧 Augmenting label 2: 112 → 200 (+88)\n",
      "🔧 Augmenting label 3: 24 → 200 (+176)\n",
      "🔧 Augmenting label 5: 116 → 200 (+84)\n",
      "🔧 Augmenting label 6: 94 → 200 (+106)\n",
      "🔧 Augmenting label 7: 31 → 200 (+169)\n",
      "🔧 Augmenting label 8: 68 → 200 (+132)\n",
      "🔧 Augmenting label 9: 65 → 200 (+135)\n",
      "🔧 Augmenting label 10: 71 → 200 (+129)\n",
      "🔧 Augmenting label 11: 172 → 200 (+28)\n",
      "🔧 Augmenting label 12: 192 → 200 (+8)\n",
      "🔧 Augmenting label 13: 29 → 200 (+171)\n",
      "🔧 Augmenting label 14: 23 → 200 (+177)\n",
      "🔧 Augmenting label 15: 25 → 200 (+175)\n",
      "🔧 Augmenting label 16: 20 → 200 (+180)\n",
      "🔧 Augmenting label 18: 93 → 200 (+107)\n",
      "🔧 Augmenting label 19: 45 → 200 (+155)\n",
      "🔧 Augmenting label 20: 14 → 200 (+186)\n",
      "🔧 Augmenting label 21: 36 → 200 (+164)\n",
      "🔧 Augmenting label 22: 77 → 200 (+123)\n",
      "🔧 Augmenting label 23: 160 → 200 (+40)\n",
      "🔧 Augmenting label 24: 16 → 200 (+184)\n",
      "🔧 Augmenting label 25: 51 → 200 (+149)\n",
      "🔧 Augmenting label 26: 85 → 200 (+115)\n",
      "🔧 Augmenting label 27: 49 → 200 (+151)\n",
      "🔧 Augmenting label 28: 12 → 200 (+188)\n",
      "🔧 Augmenting label 29: 12 → 200 (+188)\n",
      "🔧 Augmenting label 30: 16 → 200 (+184)\n",
      "🔧 Augmenting label 31: 80 → 200 (+120)\n",
      "🔧 Augmenting label 32: 36 → 200 (+164)\n",
      "🔧 Augmenting label 33: 32 → 200 (+168)\n",
      "🔧 Augmenting label 34: 29 → 200 (+171)\n",
      "🔧 Augmenting label 35: 12 → 200 (+188)\n",
      "🔧 Augmenting label 36: 28 → 200 (+172)\n",
      "🔧 Augmenting label 37: 22 → 200 (+178)\n",
      "🔧 Augmenting label 38: 5 → 200 (+195)\n",
      "🔧 Augmenting label 39: 103 → 200 (+97)\n",
      "🔧 Augmenting label 40: 11 → 200 (+189)\n",
      "🔧 Augmenting label 41: 9 → 200 (+191)\n",
      "🔧 Augmenting label 42: 147 → 200 (+53)\n",
      "🔧 Augmenting label 43: 16 → 200 (+184)\n",
      "🔧 Augmenting label 44: 20 → 200 (+180)\n",
      "🔧 Augmenting label 45: 9 → 200 (+191)\n",
      "🔧 Augmenting label 46: 55 → 200 (+145)\n",
      "🔧 Augmenting label 49: 70 → 200 (+130)\n",
      "Label distribution after resampling:\n",
      "  label 0: 3179\n",
      "  label 1: 109\n",
      "  label 2: 200\n",
      "  label 3: 26\n",
      "  label 4: 206\n",
      "  label 5: 171\n",
      "  label 6: 180\n",
      "  label 7: 32\n",
      "  label 8: 88\n",
      "  label 9: 200\n",
      "  label 10: 114\n",
      "  label 11: 200\n",
      "  label 12: 200\n",
      "  label 13: 29\n",
      "  label 14: 23\n",
      "  label 15: 29\n",
      "  label 16: 64\n",
      "  label 17: 231\n",
      "  label 18: 117\n",
      "  label 19: 72\n",
      "  label 20: 40\n",
      "  label 21: 45\n",
      "  label 22: 118\n",
      "  label 23: 200\n",
      "  label 24: 61\n",
      "  label 25: 142\n",
      "  label 26: 121\n",
      "  label 27: 88\n",
      "  label 28: 33\n",
      "  label 29: 15\n",
      "  label 30: 97\n",
      "  label 31: 170\n",
      "  label 32: 43\n",
      "  label 33: 36\n",
      "  label 34: 33\n",
      "  label 35: 26\n",
      "  label 36: 110\n",
      "  label 37: 118\n",
      "  label 38: 17\n",
      "  label 39: 200\n",
      "  label 40: 32\n",
      "  label 41: 25\n",
      "  label 42: 200\n",
      "  label 43: 99\n",
      "  label 44: 25\n",
      "  label 45: 17\n",
      "  label 46: 120\n",
      "  label 47: 529\n",
      "  label 48: 201\n",
      "  label 49: 117\n",
      "model is roberta-base lstm\n"
     ]
    },
    {
     "name": "stderr",
     "output_type": "stream",
     "text": [
      "Some weights of RobertaModel were not initialized from the model checkpoint at roberta-base and are newly initialized: ['pooler.dense.bias', 'pooler.dense.weight']\n",
      "You should probably TRAIN this model on a down-stream task to be able to use it for predictions and inference.\n"
     ]
    },
    {
     "name": "stdout",
     "output_type": "stream",
     "text": [
      "Epoch 1/20\n"
     ]
    },
    {
     "name": "stderr",
     "output_type": "stream",
     "text": [
      "100%|██████████| 535/535 [00:48<00:00, 11.02it/s]\n"
     ]
    },
    {
     "name": "stdout",
     "output_type": "stream",
     "text": [
      "{'val_loss': 1.9618956075524383, 'val_accuracy': 0.589591957421644, 'precision': 0.40144131921102905, 'recall': 0.589591957421644, 'f1-score': 0.47340942148259585, 'macro_f1-score': 0.08156688384347908, 'balanced_accuracy': 0.10460871722967478, 'mcc': 0.4115533468477774, 'train_loss': 2.5328147843619373}\n",
      "Epoch 2/20\n"
     ]
    },
    {
     "name": "stderr",
     "output_type": "stream",
     "text": [
      "100%|██████████| 535/535 [00:48<00:00, 11.02it/s]\n"
     ]
    },
    {
     "name": "stdout",
     "output_type": "stream",
     "text": [
      "{'val_loss': 1.6730947674445387, 'val_accuracy': 0.5807214665878179, 'precision': 0.45211386174177626, 'recall': 0.5807214665878179, 'f1-score': 0.4872189556783263, 'macro_f1-score': 0.10374239343668522, 'balanced_accuracy': 0.138212035959495, 'mcc': 0.40436979761958186, 'train_loss': 2.0465735476707745}\n",
      "Epoch 3/20\n"
     ]
    },
    {
     "name": "stderr",
     "output_type": "stream",
     "text": [
      "100%|██████████| 535/535 [00:48<00:00, 11.03it/s]\n"
     ]
    },
    {
     "name": "stdout",
     "output_type": "stream",
     "text": [
      "{'val_loss': 1.5698788998261937, 'val_accuracy': 0.5901833234772325, 'precision': 0.513624314119061, 'recall': 0.5901833234772325, 'f1-score': 0.52853020471581, 'macro_f1-score': 0.16122171940726493, 'balanced_accuracy': 0.19630512428337316, 'mcc': 0.4378425066904084, 'train_loss': 1.8341094960676176}\n",
      "Epoch 4/20\n"
     ]
    },
    {
     "name": "stderr",
     "output_type": "stream",
     "text": [
      "100%|██████████| 535/535 [00:48<00:00, 10.99it/s]\n"
     ]
    },
    {
     "name": "stdout",
     "output_type": "stream",
     "text": [
      "{'val_loss': 1.5341134526819553, 'val_accuracy': 0.5570668243642815, 'precision': 0.5176737996701031, 'recall': 0.5570668243642815, 'f1-score': 0.5204060026786855, 'macro_f1-score': 0.17849427950402327, 'balanced_accuracy': 0.22716624198840607, 'mcc': 0.41953300732193083, 'train_loss': 1.6999994383794126}\n",
      "Epoch 5/20\n"
     ]
    },
    {
     "name": "stderr",
     "output_type": "stream",
     "text": [
      "100%|██████████| 535/535 [00:48<00:00, 11.00it/s]\n"
     ]
    },
    {
     "name": "stdout",
     "output_type": "stream",
     "text": [
      "{'val_loss': 1.536216309610403, 'val_accuracy': 0.5878178592548787, 'precision': 0.5312671290738257, 'recall': 0.5878178592548787, 'f1-score': 0.5500406075371291, 'macro_f1-score': 0.20511037162047457, 'balanced_accuracy': 0.23724297783425896, 'mcc': 0.4495913943874407, 'train_loss': 1.5546987266741066}\n",
      "Epoch 6/20\n"
     ]
    },
    {
     "name": "stderr",
     "output_type": "stream",
     "text": [
      "100%|██████████| 535/535 [00:48<00:00, 10.97it/s]\n"
     ]
    },
    {
     "name": "stdout",
     "output_type": "stream",
     "text": [
      "{'val_loss': 1.48118216811486, 'val_accuracy': 0.6120638675340035, 'precision': 0.5428372339175926, 'recall': 0.6120638675340035, 'f1-score': 0.5494577336174027, 'macro_f1-score': 0.20479476488156012, 'balanced_accuracy': 0.21924054288189823, 'mcc': 0.46096952654392537, 'train_loss': 1.4719599146152211}\n",
      "Epoch 7/20\n"
     ]
    },
    {
     "name": "stderr",
     "output_type": "stream",
     "text": [
      "100%|██████████| 535/535 [00:48<00:00, 11.00it/s]\n"
     ]
    },
    {
     "name": "stdout",
     "output_type": "stream",
     "text": [
      "{'val_loss': 1.4471341956336543, 'val_accuracy': 0.6150206978119456, 'precision': 0.5726352857290872, 'recall': 0.6150206978119456, 'f1-score': 0.579125012281482, 'macro_f1-score': 0.2208431820775413, 'balanced_accuracy': 0.2523633566655504, 'mcc': 0.48666169964582884, 'train_loss': 1.5079286233844045}\n",
      "Epoch 8/20\n"
     ]
    },
    {
     "name": "stderr",
     "output_type": "stream",
     "text": [
      "100%|██████████| 535/535 [00:48<00:00, 11.00it/s]\n"
     ]
    },
    {
     "name": "stdout",
     "output_type": "stream",
     "text": [
      "{'val_loss': 1.5052025261914954, 'val_accuracy': 0.576581904198699, 'precision': 0.626049653265114, 'recall': 0.576581904198699, 'f1-score': 0.5799470373624742, 'macro_f1-score': 0.241696739026468, 'balanced_accuracy': 0.28744040121956543, 'mcc': 0.4679689147406118, 'train_loss': 1.386596225132452}\n",
      "Epoch 9/20\n"
     ]
    },
    {
     "name": "stderr",
     "output_type": "stream",
     "text": [
      "100%|██████████| 535/535 [00:48<00:00, 10.99it/s]\n"
     ]
    },
    {
     "name": "stdout",
     "output_type": "stream",
     "text": [
      "{'val_loss': 1.41974217318139, 'val_accuracy': 0.6309875813128326, 'precision': 0.5945573710245621, 'recall': 0.6309875813128326, 'f1-score': 0.5994628909402094, 'macro_f1-score': 0.24420447640222512, 'balanced_accuracy': 0.266516319450412, 'mcc': 0.5086971576596135, 'train_loss': 1.2845328216797838}\n",
      "Epoch 10/20\n"
     ]
    },
    {
     "name": "stderr",
     "output_type": "stream",
     "text": [
      "100%|██████████| 535/535 [00:48<00:00, 11.02it/s]\n"
     ]
    },
    {
     "name": "stdout",
     "output_type": "stream",
     "text": [
      "{'val_loss': 1.4447465257824592, 'val_accuracy': 0.5984624482554701, 'precision': 0.5847626888168914, 'recall': 0.5984624482554701, 'f1-score': 0.5792560228546079, 'macro_f1-score': 0.2578974444514321, 'balanced_accuracy': 0.2716111082229704, 'mcc': 0.46886428883570785, 'train_loss': 1.187362681538145}\n",
      "Epoch 11/20\n"
     ]
    },
    {
     "name": "stderr",
     "output_type": "stream",
     "text": [
      "100%|██████████| 535/535 [00:48<00:00, 11.00it/s]\n"
     ]
    },
    {
     "name": "stdout",
     "output_type": "stream",
     "text": [
      "{'val_loss': 1.419083152739507, 'val_accuracy': 0.6398580721466588, 'precision': 0.58992375603336, 'recall': 0.6398580721466588, 'f1-score': 0.6018374037826796, 'macro_f1-score': 0.2593186470405538, 'balanced_accuracy': 0.2693783937918087, 'mcc': 0.5116652939613658, 'train_loss': 1.1360576503187696}\n",
      "Epoch 12/20\n"
     ]
    },
    {
     "name": "stderr",
     "output_type": "stream",
     "text": [
      "100%|██████████| 535/535 [00:48<00:00, 10.99it/s]\n"
     ]
    },
    {
     "name": "stdout",
     "output_type": "stream",
     "text": [
      "{'val_loss': 1.4646175472803835, 'val_accuracy': 0.5966883500887049, 'precision': 0.5850220835352752, 'recall': 0.5966883500887049, 'f1-score': 0.5754548040867831, 'macro_f1-score': 0.2507782592592968, 'balanced_accuracy': 0.2771942641136558, 'mcc': 0.4603744576518134, 'train_loss': 1.1303940044942302}\n",
      "Epoch 13/20\n"
     ]
    },
    {
     "name": "stderr",
     "output_type": "stream",
     "text": [
      "100%|██████████| 535/535 [00:48<00:00, 10.98it/s]\n"
     ]
    },
    {
     "name": "stdout",
     "output_type": "stream",
     "text": [
      "{'val_loss': 1.4368564767657586, 'val_accuracy': 0.6091070372560615, 'precision': 0.5918955765561202, 'recall': 0.6091070372560615, 'f1-score': 0.592459392664051, 'macro_f1-score': 0.2696184756896244, 'balanced_accuracy': 0.2873633127621558, 'mcc': 0.48805259947382823, 'train_loss': 1.0900326496529802}\n",
      "Epoch 14/20\n"
     ]
    },
    {
     "name": "stderr",
     "output_type": "stream",
     "text": [
      "100%|██████████| 535/535 [00:48<00:00, 11.01it/s]\n"
     ]
    },
    {
     "name": "stdout",
     "output_type": "stream",
     "text": [
      "{'val_loss': 1.4312071164823927, 'val_accuracy': 0.6162034299231224, 'precision': 0.6014976762501117, 'recall': 0.6162034299231224, 'f1-score': 0.6007714640295613, 'macro_f1-score': 0.2777021014855858, 'balanced_accuracy': 0.29713836790555836, 'mcc': 0.4990226453836106, 'train_loss': 1.054321679890713}\n",
      "Epoch 15/20\n"
     ]
    },
    {
     "name": "stderr",
     "output_type": "stream",
     "text": [
      "100%|██████████| 535/535 [00:48<00:00, 11.00it/s]\n"
     ]
    },
    {
     "name": "stdout",
     "output_type": "stream",
     "text": [
      "{'val_loss': 1.5371419658076089, 'val_accuracy': 0.6191602602010644, 'precision': 0.608673232623343, 'recall': 0.6191602602010644, 'f1-score': 0.5983315248489817, 'macro_f1-score': 0.28404239446571916, 'balanced_accuracy': 0.29523438693411863, 'mcc': 0.4936281376857218, 'train_loss': 0.9895795267319011}\n",
      "Epoch 16/20\n"
     ]
    },
    {
     "name": "stderr",
     "output_type": "stream",
     "text": [
      "100%|██████████| 535/535 [00:48<00:00, 11.00it/s]\n"
     ]
    },
    {
     "name": "stdout",
     "output_type": "stream",
     "text": [
      "{'val_loss': 1.489231358159263, 'val_accuracy': 0.5925487876995861, 'precision': 0.6322806144167346, 'recall': 0.5925487876995861, 'f1-score': 0.5962610403060584, 'macro_f1-score': 0.31003543909640585, 'balanced_accuracy': 0.3510895996203684, 'mcc': 0.4893384977279783, 'train_loss': 0.9515835299113087}\n",
      "Epoch 17/20\n"
     ]
    },
    {
     "name": "stderr",
     "output_type": "stream",
     "text": [
      "100%|██████████| 535/535 [00:48<00:00, 11.01it/s]\n"
     ]
    },
    {
     "name": "stdout",
     "output_type": "stream",
     "text": [
      "{'val_loss': 1.515943521036292, 'val_accuracy': 0.6179775280898876, 'precision': 0.6080669073448421, 'recall': 0.6179775280898876, 'f1-score': 0.5966833666842632, 'macro_f1-score': 0.27595301134888595, 'balanced_accuracy': 0.30103963871600015, 'mcc': 0.4955353464338505, 'train_loss': 0.9849399712458949}\n",
      "Epoch 18/20\n"
     ]
    },
    {
     "name": "stderr",
     "output_type": "stream",
     "text": [
      "100%|██████████| 535/535 [00:48<00:00, 11.01it/s]\n"
     ]
    },
    {
     "name": "stdout",
     "output_type": "stream",
     "text": [
      "{'val_loss': 1.529982589044661, 'val_accuracy': 0.6232998225901834, 'precision': 0.6149626321181961, 'recall': 0.6232998225901834, 'f1-score': 0.6103761258246357, 'macro_f1-score': 0.3203379460666367, 'balanced_accuracy': 0.36459403194739415, 'mcc': 0.5079254978845663, 'train_loss': 0.914470007681401}\n",
      "Epoch 19/20\n"
     ]
    },
    {
     "name": "stderr",
     "output_type": "stream",
     "text": [
      "100%|██████████| 535/535 [00:48<00:00, 10.99it/s]\n"
     ]
    },
    {
     "name": "stdout",
     "output_type": "stream",
     "text": [
      "{'val_loss': 1.446150779724121, 'val_accuracy': 0.6493199290360734, 'precision': 0.6264744111656667, 'recall': 0.6493199290360734, 'f1-score': 0.6257193279698199, 'macro_f1-score': 0.30438549576326035, 'balanced_accuracy': 0.30349605074835606, 'mcc': 0.5322608374124917, 'train_loss': 0.8733839753353707}\n",
      "Epoch 20/20\n"
     ]
    },
    {
     "name": "stderr",
     "output_type": "stream",
     "text": [
      "100%|██████████| 535/535 [00:48<00:00, 11.00it/s]\n"
     ]
    },
    {
     "name": "stdout",
     "output_type": "stream",
     "text": [
      "{'val_loss': 1.553465577229014, 'val_accuracy': 0.6173861620342992, 'precision': 0.6085147772064695, 'recall': 0.6173861620342992, 'f1-score': 0.602405588318344, 'macro_f1-score': 0.3174841100023314, 'balanced_accuracy': 0.33734544873072275, 'mcc': 0.4978488303801562, 'train_loss': 0.846102273909845}\n",
      "\n",
      "[Fold 4]\n",
      "🚀 Using SBERT for data augmentation\n",
      "Using device: cuda\n",
      "CUDA Available: True\n",
      "CUDA Device: NVIDIA GeForce RTX 5070 Ti\n",
      "Current GPU Memory Allocated: 2.22 GB\n",
      "Current GPU Memory Cached: 4.02 GB\n",
      "Model device: cuda:0\n",
      "🔧 Augmenting label 1: 25 → 200 (+175)\n",
      "🔧 Augmenting label 2: 112 → 200 (+88)\n",
      "🔧 Augmenting label 3: 24 → 200 (+176)\n",
      "🔧 Augmenting label 5: 116 → 200 (+84)\n",
      "🔧 Augmenting label 6: 94 → 200 (+106)\n",
      "🔧 Augmenting label 7: 32 → 200 (+168)\n",
      "🔧 Augmenting label 8: 68 → 200 (+132)\n",
      "🔧 Augmenting label 9: 64 → 200 (+136)\n",
      "🔧 Augmenting label 10: 71 → 200 (+129)\n",
      "🔧 Augmenting label 11: 172 → 200 (+28)\n",
      "🔧 Augmenting label 12: 193 → 200 (+7)\n",
      "🔧 Augmenting label 13: 28 → 200 (+172)\n",
      "🔧 Augmenting label 14: 24 → 200 (+176)\n",
      "🔧 Augmenting label 15: 24 → 200 (+176)\n",
      "🔧 Augmenting label 16: 20 → 200 (+180)\n",
      "🔧 Augmenting label 18: 92 → 200 (+108)\n",
      "🔧 Augmenting label 19: 45 → 200 (+155)\n",
      "🔧 Augmenting label 20: 15 → 200 (+185)\n",
      "🔧 Augmenting label 21: 35 → 200 (+165)\n",
      "🔧 Augmenting label 22: 77 → 200 (+123)\n",
      "🔧 Augmenting label 23: 160 → 200 (+40)\n",
      "🔧 Augmenting label 24: 16 → 200 (+184)\n",
      "🔧 Augmenting label 25: 51 → 200 (+149)\n",
      "🔧 Augmenting label 26: 85 → 200 (+115)\n",
      "🔧 Augmenting label 27: 49 → 200 (+151)\n",
      "🔧 Augmenting label 28: 12 → 200 (+188)\n",
      "🔧 Augmenting label 29: 13 → 200 (+187)\n",
      "🔧 Augmenting label 30: 15 → 200 (+185)\n",
      "🔧 Augmenting label 31: 80 → 200 (+120)\n",
      "🔧 Augmenting label 32: 36 → 200 (+164)\n",
      "🔧 Augmenting label 33: 32 → 200 (+168)\n",
      "🔧 Augmenting label 34: 29 → 200 (+171)\n",
      "🔧 Augmenting label 35: 12 → 200 (+188)\n",
      "🔧 Augmenting label 36: 28 → 200 (+172)\n",
      "🔧 Augmenting label 37: 22 → 200 (+178)\n",
      "🔧 Augmenting label 38: 6 → 200 (+194)\n",
      "🔧 Augmenting label 39: 103 → 200 (+97)\n",
      "🔧 Augmenting label 40: 11 → 200 (+189)\n",
      "🔧 Augmenting label 41: 9 → 200 (+191)\n",
      "🔧 Augmenting label 42: 148 → 200 (+52)\n",
      "🔧 Augmenting label 43: 16 → 200 (+184)\n",
      "🔧 Augmenting label 44: 20 → 200 (+180)\n",
      "🔧 Augmenting label 45: 8 → 200 (+192)\n",
      "🔧 Augmenting label 46: 54 → 200 (+146)\n",
      "🔧 Augmenting label 49: 70 → 200 (+130)\n",
      "Label distribution after resampling:\n",
      "  label 0: 3179\n",
      "  label 1: 110\n",
      "  label 2: 200\n",
      "  label 3: 24\n",
      "  label 4: 206\n",
      "  label 5: 163\n",
      "  label 6: 198\n",
      "  label 7: 36\n",
      "  label 8: 84\n",
      "  label 9: 200\n",
      "  label 10: 117\n",
      "  label 11: 200\n",
      "  label 12: 200\n",
      "  label 13: 32\n",
      "  label 14: 24\n",
      "  label 15: 26\n",
      "  label 16: 60\n",
      "  label 17: 232\n",
      "  label 18: 129\n",
      "  label 19: 60\n",
      "  label 20: 52\n",
      "  label 21: 45\n",
      "  label 22: 129\n",
      "  label 23: 200\n",
      "  label 24: 73\n",
      "  label 25: 173\n",
      "  label 26: 121\n",
      "  label 27: 92\n",
      "  label 28: 50\n",
      "  label 29: 14\n",
      "  label 30: 86\n",
      "  label 31: 190\n",
      "  label 32: 45\n",
      "  label 33: 38\n",
      "  label 34: 32\n",
      "  label 35: 26\n",
      "  label 36: 81\n",
      "  label 37: 112\n",
      "  label 38: 18\n",
      "  label 39: 200\n",
      "  label 40: 40\n",
      "  label 41: 20\n",
      "  label 42: 200\n",
      "  label 43: 114\n",
      "  label 44: 34\n",
      "  label 45: 21\n",
      "  label 46: 140\n",
      "  label 47: 529\n",
      "  label 48: 201\n",
      "  label 49: 117\n",
      "model is roberta-base lstm\n"
     ]
    },
    {
     "name": "stderr",
     "output_type": "stream",
     "text": [
      "Some weights of RobertaModel were not initialized from the model checkpoint at roberta-base and are newly initialized: ['pooler.dense.bias', 'pooler.dense.weight']\n",
      "You should probably TRAIN this model on a down-stream task to be able to use it for predictions and inference.\n"
     ]
    },
    {
     "name": "stdout",
     "output_type": "stream",
     "text": [
      "Epoch 1/20\n"
     ]
    },
    {
     "name": "stderr",
     "output_type": "stream",
     "text": [
      "100%|██████████| 543/543 [00:49<00:00, 11.00it/s]\n"
     ]
    },
    {
     "name": "stdout",
     "output_type": "stream",
     "text": [
      "{'val_loss': 1.722124899333378, 'val_accuracy': 0.576581904198699, 'precision': 0.42142125379827566, 'recall': 0.576581904198699, 'f1-score': 0.4674132942734938, 'macro_f1-score': 0.09042721607068042, 'balanced_accuracy': 0.11836678221598435, 'mcc': 0.39125297831225564, 'train_loss': 2.434155667574586}\n",
      "Epoch 2/20\n"
     ]
    },
    {
     "name": "stderr",
     "output_type": "stream",
     "text": [
      "100%|██████████| 543/543 [00:49<00:00, 11.02it/s]\n"
     ]
    },
    {
     "name": "stdout",
     "output_type": "stream",
     "text": [
      "{'val_loss': 1.6017270150049678, 'val_accuracy': 0.5960969840331165, 'precision': 0.43277221784264347, 'recall': 0.5960969840331165, 'f1-score': 0.4926187119404942, 'macro_f1-score': 0.12276770645036116, 'balanced_accuracy': 0.14369679779717123, 'mcc': 0.42043403797971424, 'train_loss': 1.970169842462733}\n",
      "Epoch 3/20\n"
     ]
    },
    {
     "name": "stderr",
     "output_type": "stream",
     "text": [
      "100%|██████████| 543/543 [00:49<00:00, 10.99it/s]\n"
     ]
    },
    {
     "name": "stdout",
     "output_type": "stream",
     "text": [
      "{'val_loss': 1.4943151549910598, 'val_accuracy': 0.5931401537551745, 'precision': 0.5056897247236892, 'recall': 0.5931401537551745, 'f1-score': 0.5361819914472282, 'macro_f1-score': 0.15925245215362793, 'balanced_accuracy': 0.18860276988823912, 'mcc': 0.4451470078374021, 'train_loss': 1.8134523687222166}\n",
      "Epoch 4/20\n"
     ]
    },
    {
     "name": "stderr",
     "output_type": "stream",
     "text": [
      "100%|██████████| 543/543 [00:49<00:00, 11.02it/s]\n"
     ]
    },
    {
     "name": "stdout",
     "output_type": "stream",
     "text": [
      "{'val_loss': 1.5036841287927807, 'val_accuracy': 0.6132465996451804, 'precision': 0.5251667593478015, 'recall': 0.6132465996451804, 'f1-score': 0.5490752742721332, 'macro_f1-score': 0.16658963073652822, 'balanced_accuracy': 0.1995841903396073, 'mcc': 0.4689947111243972, 'train_loss': 1.7035430064956567}\n",
      "Epoch 5/20\n"
     ]
    },
    {
     "name": "stderr",
     "output_type": "stream",
     "text": [
      "100%|██████████| 543/543 [00:49<00:00, 10.99it/s]\n"
     ]
    },
    {
     "name": "stdout",
     "output_type": "stream",
     "text": [
      "{'val_loss': 1.430019327492084, 'val_accuracy': 0.6091070372560615, 'precision': 0.5301878389893281, 'recall': 0.6091070372560615, 'f1-score': 0.5525228560785792, 'macro_f1-score': 0.1869779041728771, 'balanced_accuracy': 0.21648740714477102, 'mcc': 0.46309923575044715, 'train_loss': 1.5609125631619554}\n",
      "Epoch 6/20\n"
     ]
    },
    {
     "name": "stderr",
     "output_type": "stream",
     "text": [
      "100%|██████████| 543/543 [00:49<00:00, 11.02it/s]\n"
     ]
    },
    {
     "name": "stdout",
     "output_type": "stream",
     "text": [
      "{'val_loss': 1.3942711148059592, 'val_accuracy': 0.6351271437019516, 'precision': 0.571884234023208, 'recall': 0.6351271437019516, 'f1-score': 0.5872033350845394, 'macro_f1-score': 0.2091967382459095, 'balanced_accuracy': 0.21721600847998565, 'mcc': 0.498374684329585, 'train_loss': 1.4599764925010956}\n",
      "Epoch 7/20\n"
     ]
    },
    {
     "name": "stderr",
     "output_type": "stream",
     "text": [
      "100%|██████████| 543/543 [00:49<00:00, 10.94it/s]\n"
     ]
    },
    {
     "name": "stdout",
     "output_type": "stream",
     "text": [
      "{'val_loss': 1.4466229013676912, 'val_accuracy': 0.5919574216439977, 'precision': 0.618910935884238, 'recall': 0.5919574216439977, 'f1-score': 0.5624910108134218, 'macro_f1-score': 0.2427699252908079, 'balanced_accuracy': 0.2828743485648776, 'mcc': 0.46581504229546095, 'train_loss': 1.410100959165924}\n",
      "Epoch 8/20\n"
     ]
    },
    {
     "name": "stderr",
     "output_type": "stream",
     "text": [
      "100%|██████████| 543/543 [00:49<00:00, 11.01it/s]\n"
     ]
    },
    {
     "name": "stdout",
     "output_type": "stream",
     "text": [
      "{'val_loss': 1.3756836450324867, 'val_accuracy': 0.6292134831460674, 'precision': 0.5938884100637649, 'recall': 0.6292134831460674, 'f1-score': 0.5890505987280493, 'macro_f1-score': 0.23967862864813078, 'balanced_accuracy': 0.26108786400287537, 'mcc': 0.49813845378853483, 'train_loss': 1.351189580192004}\n",
      "Epoch 9/20\n"
     ]
    },
    {
     "name": "stderr",
     "output_type": "stream",
     "text": [
      "100%|██████████| 543/543 [00:49<00:00, 11.02it/s]\n"
     ]
    },
    {
     "name": "stdout",
     "output_type": "stream",
     "text": [
      "{'val_loss': 1.3287571958213482, 'val_accuracy': 0.6333530455351862, 'precision': 0.6238400666661917, 'recall': 0.6333530455351862, 'f1-score': 0.612969251381813, 'macro_f1-score': 0.2835986460234885, 'balanced_accuracy': 0.3138486911178103, 'mcc': 0.5211866712764565, 'train_loss': 1.276308724728737}\n",
      "Epoch 10/20\n"
     ]
    },
    {
     "name": "stderr",
     "output_type": "stream",
     "text": [
      "100%|██████████| 543/543 [00:49<00:00, 11.00it/s]\n"
     ]
    },
    {
     "name": "stdout",
     "output_type": "stream",
     "text": [
      "{'val_loss': 1.3148631186417814, 'val_accuracy': 0.6499112950916618, 'precision': 0.6255692534812091, 'recall': 0.6499112950916618, 'f1-score': 0.622052756525717, 'macro_f1-score': 0.29223684530792704, 'balanced_accuracy': 0.30552237682795375, 'mcc': 0.5334013773429065, 'train_loss': 1.2131135581922246}\n",
      "Epoch 11/20\n"
     ]
    },
    {
     "name": "stderr",
     "output_type": "stream",
     "text": [
      "100%|██████████| 543/543 [00:49<00:00, 11.03it/s]\n"
     ]
    },
    {
     "name": "stdout",
     "output_type": "stream",
     "text": [
      "{'val_loss': 1.3672763117641773, 'val_accuracy': 0.6333530455351862, 'precision': 0.6299374905768971, 'recall': 0.6333530455351862, 'f1-score': 0.620193628002662, 'macro_f1-score': 0.28231355388283663, 'balanced_accuracy': 0.30792648628358016, 'mcc': 0.5273609305297903, 'train_loss': 1.1745993651957363}\n",
      "Epoch 12/20\n"
     ]
    },
    {
     "name": "stderr",
     "output_type": "stream",
     "text": [
      "100%|██████████| 543/543 [00:49<00:00, 10.99it/s]\n"
     ]
    },
    {
     "name": "stdout",
     "output_type": "stream",
     "text": [
      "{'val_loss': 1.3718739912476179, 'val_accuracy': 0.6167947959787108, 'precision': 0.5828308166303887, 'recall': 0.6167947959787108, 'f1-score': 0.5852976600361235, 'macro_f1-score': 0.27730013069420134, 'balanced_accuracy': 0.29431948454474066, 'mcc': 0.483629211130403, 'train_loss': 1.1329922611322631}\n",
      "Epoch 13/20\n"
     ]
    },
    {
     "name": "stderr",
     "output_type": "stream",
     "text": [
      "100%|██████████| 543/543 [00:49<00:00, 11.03it/s]\n"
     ]
    },
    {
     "name": "stdout",
     "output_type": "stream",
     "text": [
      "{'val_loss': 1.3475822350888882, 'val_accuracy': 0.6434062684801892, 'precision': 0.6449904697718553, 'recall': 0.6434062684801892, 'f1-score': 0.6347465172286714, 'macro_f1-score': 0.29763482467749014, 'balanced_accuracy': 0.3167062525997632, 'mcc': 0.5320528822378999, 'train_loss': 1.0957869882961224}\n",
      "Epoch 14/20\n"
     ]
    },
    {
     "name": "stderr",
     "output_type": "stream",
     "text": [
      "100%|██████████| 543/543 [00:49<00:00, 10.99it/s]\n"
     ]
    },
    {
     "name": "stdout",
     "output_type": "stream",
     "text": [
      "{'val_loss': 1.3518206640234534, 'val_accuracy': 0.638675340035482, 'precision': 0.6258438003757378, 'recall': 0.638675340035482, 'f1-score': 0.6211135539845279, 'macro_f1-score': 0.3100980234208853, 'balanced_accuracy': 0.33016245883142403, 'mcc': 0.524719325594128, 'train_loss': 1.070393231774562}\n",
      "Epoch 15/20\n"
     ]
    },
    {
     "name": "stderr",
     "output_type": "stream",
     "text": [
      "100%|██████████| 543/543 [00:49<00:00, 11.01it/s]\n"
     ]
    },
    {
     "name": "stdout",
     "output_type": "stream",
     "text": [
      "{'val_loss': 1.4048757395654354, 'val_accuracy': 0.6327616794795978, 'precision': 0.6358653713579288, 'recall': 0.6327616794795978, 'f1-score': 0.6211529803401729, 'macro_f1-score': 0.31479088992398774, 'balanced_accuracy': 0.3322855433159049, 'mcc': 0.5199782945139236, 'train_loss': 1.0435984112171397}\n",
      "Epoch 16/20\n"
     ]
    },
    {
     "name": "stderr",
     "output_type": "stream",
     "text": [
      "100%|██████████| 543/543 [00:49<00:00, 11.02it/s]\n"
     ]
    },
    {
     "name": "stdout",
     "output_type": "stream",
     "text": [
      "{'val_loss': 1.4080050416150183, 'val_accuracy': 0.63571850975754, 'precision': 0.6226964179667535, 'recall': 0.63571850975754, 'f1-score': 0.6161182095843784, 'macro_f1-score': 0.30229275463060157, 'balanced_accuracy': 0.33193961054732335, 'mcc': 0.5182382799127524, 'train_loss': 0.994179498315077}\n",
      "Epoch 17/20\n"
     ]
    },
    {
     "name": "stderr",
     "output_type": "stream",
     "text": [
      "100%|██████████| 543/543 [00:49<00:00, 11.01it/s]\n"
     ]
    },
    {
     "name": "stdout",
     "output_type": "stream",
     "text": [
      "{'val_loss': 1.4772319155481626, 'val_accuracy': 0.6262566528681254, 'precision': 0.6330583600724139, 'recall': 0.6262566528681254, 'f1-score': 0.6215959980799645, 'macro_f1-score': 0.2917987396092169, 'balanced_accuracy': 0.3238229169595768, 'mcc': 0.5157831748201649, 'train_loss': 0.9826341656252783}\n",
      "Epoch 18/20\n"
     ]
    },
    {
     "name": "stderr",
     "output_type": "stream",
     "text": [
      "100%|██████████| 543/543 [00:49<00:00, 11.02it/s]\n"
     ]
    },
    {
     "name": "stdout",
     "output_type": "stream",
     "text": [
      "{'val_loss': 1.4706047840838163, 'val_accuracy': 0.6493199290360734, 'precision': 0.6425135251937686, 'recall': 0.6493199290360734, 'f1-score': 0.6310748727525419, 'macro_f1-score': 0.33444781062806433, 'balanced_accuracy': 0.35449144216970296, 'mcc': 0.5336382333182362, 'train_loss': 0.9161372562908117}\n",
      "Epoch 19/20\n"
     ]
    },
    {
     "name": "stderr",
     "output_type": "stream",
     "text": [
      "100%|██████████| 543/543 [00:49<00:00, 10.99it/s]\n"
     ]
    },
    {
     "name": "stdout",
     "output_type": "stream",
     "text": [
      "{'val_loss': 1.3901871791425742, 'val_accuracy': 0.6463630987581312, 'precision': 0.6491388330303652, 'recall': 0.6463630987581312, 'f1-score': 0.6363259467744793, 'macro_f1-score': 0.35131289299344126, 'balanced_accuracy': 0.36486721852623477, 'mcc': 0.5315851207480247, 'train_loss': 0.9081313061780034}\n",
      "Epoch 20/20\n"
     ]
    },
    {
     "name": "stderr",
     "output_type": "stream",
     "text": [
      "100%|██████████| 543/543 [00:49<00:00, 10.98it/s]\n"
     ]
    },
    {
     "name": "stdout",
     "output_type": "stream",
     "text": [
      "{'val_loss': 1.479407132023348, 'val_accuracy': 0.6570076877587226, 'precision': 0.6442787320063482, 'recall': 0.6570076877587226, 'f1-score': 0.6374014733083224, 'macro_f1-score': 0.33830254254771736, 'balanced_accuracy': 0.34050745486956324, 'mcc': 0.5401229948395414, 'train_loss': 0.8982040254231096}\n",
      "\n",
      "[Fold 5]\n",
      "🚀 Using SBERT for data augmentation\n",
      "Using device: cuda\n",
      "CUDA Available: True\n",
      "CUDA Device: NVIDIA GeForce RTX 5070 Ti\n",
      "Current GPU Memory Allocated: 2.22 GB\n",
      "Current GPU Memory Cached: 4.02 GB\n",
      "Model device: cuda:0\n",
      "🔧 Augmenting label 1: 24 → 200 (+176)\n",
      "🔧 Augmenting label 2: 112 → 200 (+88)\n",
      "🔧 Augmenting label 3: 24 → 200 (+176)\n",
      "🔧 Augmenting label 5: 116 → 200 (+84)\n",
      "🔧 Augmenting label 6: 95 → 200 (+105)\n",
      "🔧 Augmenting label 7: 31 → 200 (+169)\n",
      "🔧 Augmenting label 8: 68 → 200 (+132)\n",
      "🔧 Augmenting label 9: 65 → 200 (+135)\n",
      "🔧 Augmenting label 10: 70 → 200 (+130)\n",
      "🔧 Augmenting label 11: 172 → 200 (+28)\n",
      "🔧 Augmenting label 12: 193 → 200 (+7)\n",
      "🔧 Augmenting label 13: 29 → 200 (+171)\n",
      "🔧 Augmenting label 14: 23 → 200 (+177)\n",
      "🔧 Augmenting label 15: 25 → 200 (+175)\n",
      "🔧 Augmenting label 16: 20 → 200 (+180)\n",
      "🔧 Augmenting label 18: 93 → 200 (+107)\n",
      "🔧 Augmenting label 19: 44 → 200 (+156)\n",
      "🔧 Augmenting label 20: 15 → 200 (+185)\n",
      "🔧 Augmenting label 21: 35 → 200 (+165)\n",
      "🔧 Augmenting label 22: 78 → 200 (+122)\n",
      "🔧 Augmenting label 23: 160 → 200 (+40)\n",
      "🔧 Augmenting label 24: 16 → 200 (+184)\n",
      "🔧 Augmenting label 25: 50 → 200 (+150)\n",
      "🔧 Augmenting label 26: 86 → 200 (+114)\n",
      "🔧 Augmenting label 27: 48 → 200 (+152)\n",
      "🔧 Augmenting label 28: 12 → 200 (+188)\n",
      "🔧 Augmenting label 29: 13 → 200 (+187)\n",
      "🔧 Augmenting label 30: 15 → 200 (+185)\n",
      "🔧 Augmenting label 31: 80 → 200 (+120)\n",
      "🔧 Augmenting label 32: 36 → 200 (+164)\n",
      "🔧 Augmenting label 33: 32 → 200 (+168)\n",
      "🔧 Augmenting label 34: 30 → 200 (+170)\n",
      "🔧 Augmenting label 35: 12 → 200 (+188)\n",
      "🔧 Augmenting label 36: 28 → 200 (+172)\n",
      "🔧 Augmenting label 37: 21 → 200 (+179)\n",
      "🔧 Augmenting label 38: 6 → 200 (+194)\n",
      "🔧 Augmenting label 39: 104 → 200 (+96)\n",
      "🔧 Augmenting label 40: 11 → 200 (+189)\n",
      "🔧 Augmenting label 41: 9 → 200 (+191)\n",
      "🔧 Augmenting label 42: 147 → 200 (+53)\n",
      "🔧 Augmenting label 43: 16 → 200 (+184)\n",
      "🔧 Augmenting label 44: 20 → 200 (+180)\n",
      "🔧 Augmenting label 45: 9 → 200 (+191)\n",
      "🔧 Augmenting label 46: 54 → 200 (+146)\n",
      "🔧 Augmenting label 49: 70 → 200 (+130)\n",
      "Label distribution after resampling:\n",
      "  label 0: 3180\n",
      "  label 1: 123\n",
      "  label 2: 200\n",
      "  label 3: 26\n",
      "  label 4: 205\n",
      "  label 5: 160\n",
      "  label 6: 163\n",
      "  label 7: 38\n",
      "  label 8: 83\n",
      "  label 9: 200\n",
      "  label 10: 104\n",
      "  label 11: 200\n",
      "  label 12: 200\n",
      "  label 13: 31\n",
      "  label 14: 23\n",
      "  label 15: 25\n",
      "  label 16: 59\n",
      "  label 17: 231\n",
      "  label 18: 115\n",
      "  label 19: 69\n",
      "  label 20: 45\n",
      "  label 21: 39\n",
      "  label 22: 120\n",
      "  label 23: 200\n",
      "  label 24: 69\n",
      "  label 25: 177\n",
      "  label 26: 137\n",
      "  label 27: 78\n",
      "  label 28: 40\n",
      "  label 29: 15\n",
      "  label 30: 83\n",
      "  label 31: 196\n",
      "  label 32: 46\n",
      "  label 33: 34\n",
      "  label 34: 35\n",
      "  label 35: 14\n",
      "  label 36: 98\n",
      "  label 37: 131\n",
      "  label 38: 27\n",
      "  label 39: 200\n",
      "  label 40: 42\n",
      "  label 41: 16\n",
      "  label 42: 200\n",
      "  label 43: 92\n",
      "  label 44: 31\n",
      "  label 45: 13\n",
      "  label 46: 92\n",
      "  label 47: 529\n",
      "  label 48: 202\n",
      "  label 49: 128\n",
      "model is roberta-base lstm\n"
     ]
    },
    {
     "name": "stderr",
     "output_type": "stream",
     "text": [
      "Some weights of RobertaModel were not initialized from the model checkpoint at roberta-base and are newly initialized: ['pooler.dense.bias', 'pooler.dense.weight']\n",
      "You should probably TRAIN this model on a down-stream task to be able to use it for predictions and inference.\n"
     ]
    },
    {
     "name": "stdout",
     "output_type": "stream",
     "text": [
      "Epoch 1/20\n"
     ]
    },
    {
     "name": "stderr",
     "output_type": "stream",
     "text": [
      "100%|██████████| 536/536 [00:50<00:00, 10.55it/s]\n"
     ]
    },
    {
     "name": "stdout",
     "output_type": "stream",
     "text": [
      "{'val_loss': 1.8920248465717964, 'val_accuracy': 0.5698224852071005, 'precision': 0.3802061466050495, 'recall': 0.5698224852071005, 'f1-score': 0.454002341962479, 'macro_f1-score': 0.08545609756136072, 'balanced_accuracy': 0.1002041027098788, 'mcc': 0.36679396820492915, 'train_loss': 2.431470589740063}\n",
      "Epoch 2/20\n"
     ]
    },
    {
     "name": "stderr",
     "output_type": "stream",
     "text": [
      "100%|██████████| 536/536 [00:50<00:00, 10.53it/s]\n"
     ]
    },
    {
     "name": "stdout",
     "output_type": "stream",
     "text": [
      "{'val_loss': 1.6139427367246375, 'val_accuracy': 0.5733727810650887, 'precision': 0.508868081406498, 'recall': 0.5733727810650887, 'f1-score': 0.4993696723762243, 'macro_f1-score': 0.14031785857214832, 'balanced_accuracy': 0.1672171963037404, 'mcc': 0.39961324954448546, 'train_loss': 1.9558498211093802}\n",
      "Epoch 3/20\n"
     ]
    },
    {
     "name": "stderr",
     "output_type": "stream",
     "text": [
      "100%|██████████| 536/536 [00:50<00:00, 10.54it/s]\n"
     ]
    },
    {
     "name": "stdout",
     "output_type": "stream",
     "text": [
      "{'val_loss': 1.5705454585687169, 'val_accuracy': 0.585207100591716, 'precision': 0.4983387292708379, 'recall': 0.585207100591716, 'f1-score': 0.5157188163036001, 'macro_f1-score': 0.14259800451456742, 'balanced_accuracy': 0.17621181092077012, 'mcc': 0.42106254511438007, 'train_loss': 1.7288501671890715}\n",
      "Epoch 4/20\n"
     ]
    },
    {
     "name": "stderr",
     "output_type": "stream",
     "text": [
      "100%|██████████| 536/536 [00:50<00:00, 10.54it/s]\n"
     ]
    },
    {
     "name": "stdout",
     "output_type": "stream",
     "text": [
      "{'val_loss': 1.4990256867318783, 'val_accuracy': 0.5881656804733728, 'precision': 0.5462535033582719, 'recall': 0.5881656804733728, 'f1-score': 0.5504875212101876, 'macro_f1-score': 0.17763741132466065, 'balanced_accuracy': 0.20866856301768336, 'mcc': 0.4485597723146871, 'train_loss': 1.5711591469485369}\n",
      "Epoch 5/20\n"
     ]
    },
    {
     "name": "stderr",
     "output_type": "stream",
     "text": [
      "100%|██████████| 536/536 [00:50<00:00, 10.56it/s]\n"
     ]
    },
    {
     "name": "stdout",
     "output_type": "stream",
     "text": [
      "{'val_loss': 1.4758952549606, 'val_accuracy': 0.5964497041420118, 'precision': 0.5857077991896613, 'recall': 0.5964497041420118, 'f1-score': 0.5711571726161214, 'macro_f1-score': 0.199878494352789, 'balanced_accuracy': 0.23718324008417688, 'mcc': 0.4709974198801974, 'train_loss': 1.474835784800017}\n",
      "Epoch 6/20\n"
     ]
    },
    {
     "name": "stderr",
     "output_type": "stream",
     "text": [
      "100%|██████████| 536/536 [00:51<00:00, 10.48it/s]\n"
     ]
    },
    {
     "name": "stdout",
     "output_type": "stream",
     "text": [
      "{'val_loss': 1.4387970341826386, 'val_accuracy': 0.6189349112426036, 'precision': 0.5887534777188402, 'recall': 0.6189349112426036, 'f1-score': 0.5914298675274999, 'macro_f1-score': 0.22811693961319982, 'balanced_accuracy': 0.25274105505142663, 'mcc': 0.4903177221250645, 'train_loss': 1.3794866791968026}\n",
      "Epoch 7/20\n"
     ]
    },
    {
     "name": "stderr",
     "output_type": "stream",
     "text": [
      "100%|██████████| 536/536 [00:50<00:00, 10.55it/s]\n"
     ]
    },
    {
     "name": "stdout",
     "output_type": "stream",
     "text": [
      "{'val_loss': 1.495667407254003, 'val_accuracy': 0.6011834319526628, 'precision': 0.6182216615034248, 'recall': 0.6011834319526628, 'f1-score': 0.5880210150728009, 'macro_f1-score': 0.2352188483772695, 'balanced_accuracy': 0.2699573190713236, 'mcc': 0.4897815509919865, 'train_loss': 1.2883807781027323}\n",
      "Epoch 8/20\n"
     ]
    },
    {
     "name": "stderr",
     "output_type": "stream",
     "text": [
      "100%|██████████| 536/536 [00:50<00:00, 10.52it/s]\n"
     ]
    },
    {
     "name": "stdout",
     "output_type": "stream",
     "text": [
      "{'val_loss': 1.432465211400446, 'val_accuracy': 0.6183431952662722, 'precision': 0.6038860855856022, 'recall': 0.6183431952662722, 'f1-score': 0.6006665549598756, 'macro_f1-score': 0.2625014597058419, 'balanced_accuracy': 0.29190409934334666, 'mcc': 0.4975930453884281, 'train_loss': 1.219164108218097}\n",
      "Epoch 9/20\n"
     ]
    },
    {
     "name": "stderr",
     "output_type": "stream",
     "text": [
      "100%|██████████| 536/536 [00:51<00:00, 10.51it/s]\n"
     ]
    },
    {
     "name": "stdout",
     "output_type": "stream",
     "text": [
      "{'val_loss': 1.4856557986646328, 'val_accuracy': 0.5958579881656805, 'precision': 0.6189492735439557, 'recall': 0.5958579881656805, 'f1-score': 0.596427880491221, 'macro_f1-score': 0.2437368401122569, 'balanced_accuracy': 0.27838307643716653, 'mcc': 0.48911966911423044, 'train_loss': 1.1513719252352395}\n",
      "Epoch 10/20\n"
     ]
    },
    {
     "name": "stderr",
     "output_type": "stream",
     "text": [
      "100%|██████████| 536/536 [00:50<00:00, 10.53it/s]\n"
     ]
    },
    {
     "name": "stdout",
     "output_type": "stream",
     "text": [
      "{'val_loss': 1.4764901975978095, 'val_accuracy': 0.6236686390532544, 'precision': 0.61404688683446, 'recall': 0.6236686390532544, 'f1-score': 0.609965476628521, 'macro_f1-score': 0.2786127975589322, 'balanced_accuracy': 0.2905144864104874, 'mcc': 0.5063305802755484, 'train_loss': 1.1229024803849743}\n",
      "Epoch 11/20\n"
     ]
    },
    {
     "name": "stderr",
     "output_type": "stream",
     "text": [
      "100%|██████████| 536/536 [00:50<00:00, 10.55it/s]\n"
     ]
    },
    {
     "name": "stdout",
     "output_type": "stream",
     "text": [
      "{'val_loss': 1.4801453098935902, 'val_accuracy': 0.6130177514792899, 'precision': 0.6286648396085103, 'recall': 0.6130177514792899, 'f1-score': 0.6136752278178427, 'macro_f1-score': 0.2667731978867805, 'balanced_accuracy': 0.2978497376712293, 'mcc': 0.5048871991039952, 'train_loss': 1.0869768305278535}\n",
      "Epoch 12/20\n"
     ]
    },
    {
     "name": "stderr",
     "output_type": "stream",
     "text": [
      "100%|██████████| 536/536 [00:50<00:00, 10.52it/s]\n"
     ]
    },
    {
     "name": "stdout",
     "output_type": "stream",
     "text": [
      "{'val_loss': 1.5208995966416485, 'val_accuracy': 0.606508875739645, 'precision': 0.6062301422322977, 'recall': 0.606508875739645, 'f1-score': 0.5960377037362308, 'macro_f1-score': 0.26992099248923396, 'balanced_accuracy': 0.2964552419599921, 'mcc': 0.48720086432816007, 'train_loss': 0.9985569939573309}\n",
      "Epoch 13/20\n"
     ]
    },
    {
     "name": "stderr",
     "output_type": "stream",
     "text": [
      "100%|██████████| 536/536 [00:50<00:00, 10.51it/s]\n"
     ]
    },
    {
     "name": "stdout",
     "output_type": "stream",
     "text": [
      "{'val_loss': 1.5108692137137898, 'val_accuracy': 0.6076923076923076, 'precision': 0.6243948121948486, 'recall': 0.6076923076923076, 'f1-score': 0.603737997775543, 'macro_f1-score': 0.2703375676319473, 'balanced_accuracy': 0.3091953483504713, 'mcc': 0.4946125086597204, 'train_loss': 0.967410145661057}\n",
      "Early stopping.\n",
      "\n",
      " === roberta-base + lstm + sbert Final 5-fold Cross-Validation Results ===\n",
      "Total time: 14434 seconds\n",
      "Total time: 4 hrs 0 mins 34 secs\n",
      "val_loss: 1.4669\n",
      "val_accuracy: 0.6325\n",
      "precision: 0.6302\n",
      "recall: 0.6325\n",
      "f1-score: 0.6215\n",
      "macro_f1-score: 0.3223\n",
      "balanced_accuracy: 0.3424\n",
      "mcc: 0.5173\n",
      "train_loss: 0.9517\n",
      "▶ Running: roberta-base + cnn + sbert\n",
      "tokenizer is roberta-base\n",
      "Using device: cuda\n",
      "CUDA Available: True\n",
      "CUDA Device: NVIDIA GeForce RTX 5070 Ti\n",
      "Current GPU Memory Allocated: 0.11 GB\n",
      "Current GPU Memory Cached: 4.02 GB\n",
      "\n",
      "[Fold 1]\n",
      "🚀 Using SBERT for data augmentation\n",
      "Using device: cuda\n",
      "CUDA Available: True\n",
      "CUDA Device: NVIDIA GeForce RTX 5070 Ti\n",
      "Current GPU Memory Allocated: 0.20 GB\n",
      "Current GPU Memory Cached: 4.02 GB\n",
      "Model device: cuda:0\n",
      "🔧 Augmenting label 1: 25 → 200 (+175)\n",
      "🔧 Augmenting label 2: 112 → 200 (+88)\n",
      "🔧 Augmenting label 3: 24 → 200 (+176)\n",
      "🔧 Augmenting label 5: 116 → 200 (+84)\n",
      "🔧 Augmenting label 6: 95 → 200 (+105)\n",
      "🔧 Augmenting label 7: 31 → 200 (+169)\n",
      "🔧 Augmenting label 8: 68 → 200 (+132)\n",
      "🔧 Augmenting label 9: 65 → 200 (+135)\n",
      "🔧 Augmenting label 10: 70 → 200 (+130)\n",
      "🔧 Augmenting label 11: 172 → 200 (+28)\n",
      "🔧 Augmenting label 12: 193 → 200 (+7)\n",
      "🔧 Augmenting label 13: 29 → 200 (+171)\n",
      "🔧 Augmenting label 14: 23 → 200 (+177)\n",
      "🔧 Augmenting label 15: 25 → 200 (+175)\n",
      "🔧 Augmenting label 16: 20 → 200 (+180)\n",
      "🔧 Augmenting label 18: 93 → 200 (+107)\n",
      "🔧 Augmenting label 19: 45 → 200 (+155)\n",
      "🔧 Augmenting label 20: 14 → 200 (+186)\n",
      "🔧 Augmenting label 21: 35 → 200 (+165)\n",
      "🔧 Augmenting label 22: 78 → 200 (+122)\n"
     ]
    },
    {
     "ename": "KeyboardInterrupt",
     "evalue": "",
     "output_type": "error",
     "traceback": [
      "\u001b[1;31m---------------------------------------------------------------------------\u001b[0m",
      "\u001b[1;31mKeyboardInterrupt\u001b[0m                         Traceback (most recent call last)",
      "Cell \u001b[1;32mIn[4], line 10\u001b[0m\n\u001b[0;32m      8\u001b[0m \u001b[38;5;28;01mfor\u001b[39;00m hybrid_type \u001b[38;5;129;01min\u001b[39;00m hybrid_list:\n\u001b[0;32m      9\u001b[0m     \u001b[38;5;28;01mfor\u001b[39;00m resample_method \u001b[38;5;129;01min\u001b[39;00m resample_list:\n\u001b[1;32m---> 10\u001b[0m         results \u001b[38;5;241m=\u001b[39m \u001b[43mrun_kfold_experiment\u001b[49m\u001b[43m(\u001b[49m\n\u001b[0;32m     11\u001b[0m \u001b[43m            \u001b[49m\u001b[43mX\u001b[49m\u001b[38;5;241;43m=\u001b[39;49m\u001b[43mmessages\u001b[49m\u001b[43m,\u001b[49m\u001b[43m \u001b[49m\u001b[43my\u001b[49m\u001b[38;5;241;43m=\u001b[39;49m\u001b[43mlabels\u001b[49m\u001b[43m,\u001b[49m\u001b[43m \u001b[49m\u001b[43mmodel_name\u001b[49m\u001b[38;5;241;43m=\u001b[39;49m\u001b[43mmodel_name\u001b[49m\u001b[43m,\u001b[49m\u001b[43m \u001b[49m\u001b[43mhybrid_type\u001b[49m\u001b[38;5;241;43m=\u001b[39;49m\u001b[43mhybrid_type\u001b[49m\u001b[43m,\u001b[49m\u001b[43m \u001b[49m\u001b[43mresample_method\u001b[49m\u001b[38;5;241;43m=\u001b[39;49m\u001b[43mresample_method\u001b[49m\u001b[43m,\u001b[49m\n\u001b[0;32m     12\u001b[0m \u001b[43m            \u001b[49m\u001b[43mkfold\u001b[49m\u001b[38;5;241;43m=\u001b[39;49m\u001b[43mKFOLD_SPLIT\u001b[49m\u001b[43m,\u001b[49m\u001b[43m \u001b[49m\u001b[43mseed\u001b[49m\u001b[38;5;241;43m=\u001b[39;49m\u001b[43mSEED\u001b[49m\u001b[43m,\u001b[49m\u001b[43m \u001b[49m\u001b[43mepochs\u001b[49m\u001b[38;5;241;43m=\u001b[39;49m\u001b[43mEPOCHS\u001b[49m\u001b[43m,\u001b[49m\u001b[43m \u001b[49m\u001b[43mpatience\u001b[49m\u001b[38;5;241;43m=\u001b[39;49m\u001b[43mPATIENCE\u001b[49m\u001b[43m,\u001b[49m\u001b[43m \u001b[49m\u001b[43mmax_length\u001b[49m\u001b[38;5;241;43m=\u001b[39;49m\u001b[43mMAX_LENGTH\u001b[49m\u001b[43m,\u001b[49m\u001b[43m \u001b[49m\n\u001b[0;32m     13\u001b[0m \u001b[43m            \u001b[49m\u001b[43mbatch_size\u001b[49m\u001b[38;5;241;43m=\u001b[39;49m\u001b[43mBATCH_SIZE\u001b[49m\u001b[43m,\u001b[49m\u001b[43m \u001b[49m\u001b[43mlr\u001b[49m\u001b[38;5;241;43m=\u001b[39;49m\u001b[43mLR\u001b[49m\u001b[43m,\u001b[49m\u001b[43m \u001b[49m\u001b[43mweight_decay\u001b[49m\u001b[38;5;241;43m=\u001b[39;49m\u001b[43mWEIGHT_DECAY\u001b[49m\n\u001b[0;32m     14\u001b[0m \u001b[43m        \u001b[49m\u001b[43m)\u001b[49m\n\u001b[0;32m     15\u001b[0m         key \u001b[38;5;241m=\u001b[39m \u001b[38;5;124mf\u001b[39m\u001b[38;5;124m\"\u001b[39m\u001b[38;5;132;01m{\u001b[39;00mmodel_name\u001b[38;5;132;01m}\u001b[39;00m\u001b[38;5;124m \u001b[39m\u001b[38;5;132;01m{\u001b[39;00mhybrid_type\u001b[38;5;250m \u001b[39m\u001b[38;5;28;01mif\u001b[39;00m\u001b[38;5;250m \u001b[39mhybrid_type\u001b[38;5;250m \u001b[39m\u001b[38;5;28;01melse\u001b[39;00m\u001b[38;5;250m \u001b[39m\u001b[38;5;124m'\u001b[39m\u001b[38;5;124mNone\u001b[39m\u001b[38;5;124m'\u001b[39m\u001b[38;5;132;01m}\u001b[39;00m\u001b[38;5;124m \u001b[39m\u001b[38;5;132;01m{\u001b[39;00mresample_method\u001b[38;5;132;01m}\u001b[39;00m\u001b[38;5;124m\"\u001b[39m\n\u001b[0;32m     16\u001b[0m         all_experiment_result[key] \u001b[38;5;241m=\u001b[39m results\n",
      "File \u001b[1;32mc:\\Users\\user\\jupyter\\aiops\\src\\ml_lib\\experiment.py:261\u001b[0m, in \u001b[0;36mrun_kfold_experiment\u001b[1;34m(X, y, model_name, hybrid_type, resample_method, kfold, seed, epochs, patience, max_length, batch_size, lr, weight_decay)\u001b[0m\n\u001b[0;32m    258\u001b[0m X_val \u001b[38;5;241m=\u001b[39m [X[i] \u001b[38;5;28;01mfor\u001b[39;00m i \u001b[38;5;129;01min\u001b[39;00m val_idx]\n\u001b[0;32m    259\u001b[0m y_val \u001b[38;5;241m=\u001b[39m [y[i] \u001b[38;5;28;01mfor\u001b[39;00m i \u001b[38;5;129;01min\u001b[39;00m val_idx]\n\u001b[1;32m--> 261\u001b[0m X_train, y_train \u001b[38;5;241m=\u001b[39m \u001b[43mapply_resampling\u001b[49m\u001b[43m(\u001b[49m\u001b[43mX_train\u001b[49m\u001b[43m,\u001b[49m\u001b[43m \u001b[49m\u001b[43my_train\u001b[49m\u001b[43m,\u001b[49m\u001b[43m \u001b[49m\u001b[43mmethod\u001b[49m\u001b[38;5;241;43m=\u001b[39;49m\u001b[43mresample_method\u001b[49m\u001b[43m,\u001b[49m\u001b[43m \u001b[49m\u001b[43mrandom_state\u001b[49m\u001b[38;5;241;43m=\u001b[39;49m\u001b[43mseed\u001b[49m\u001b[43m)\u001b[49m\n\u001b[0;32m    263\u001b[0m label_counts \u001b[38;5;241m=\u001b[39m Counter(y_train)\n\u001b[0;32m    264\u001b[0m \u001b[38;5;28mprint\u001b[39m(\u001b[38;5;124m\"\u001b[39m\u001b[38;5;124mLabel distribution after resampling:\u001b[39m\u001b[38;5;124m\"\u001b[39m)\n",
      "File \u001b[1;32mc:\\Users\\user\\jupyter\\aiops\\src\\ml_lib\\experiment.py:214\u001b[0m, in \u001b[0;36mapply_resampling\u001b[1;34m(X, y, method, random_state)\u001b[0m\n\u001b[0;32m    212\u001b[0m added \u001b[38;5;241m=\u001b[39m \u001b[38;5;241m0\u001b[39m\n\u001b[0;32m    213\u001b[0m \u001b[38;5;28;01mfor\u001b[39;00m sentence \u001b[38;5;129;01min\u001b[39;00m samples:\n\u001b[1;32m--> 214\u001b[0m     similar_sentences \u001b[38;5;241m=\u001b[39m \u001b[43mget_sbert_augmented_sentences\u001b[49m\u001b[43m(\u001b[49m\n\u001b[0;32m    215\u001b[0m \u001b[43m        \u001b[49m\u001b[43moriginal_sentence\u001b[49m\u001b[38;5;241;43m=\u001b[39;49m\u001b[43msentence\u001b[49m\u001b[43m,\u001b[49m\n\u001b[0;32m    216\u001b[0m \u001b[43m        \u001b[49m\u001b[43mcorpus_sentences\u001b[49m\u001b[38;5;241;43m=\u001b[39;49m\u001b[43mall_corpus\u001b[49m\u001b[43m,\u001b[49m\n\u001b[0;32m    217\u001b[0m \u001b[43m        \u001b[49m\u001b[43mtop_k\u001b[49m\u001b[38;5;241;43m=\u001b[39;49m\u001b[38;5;241;43m10\u001b[39;49m\u001b[43m,\u001b[49m\u001b[43m  \u001b[49m\u001b[38;5;66;43;03m# 可調整搜尋量\u001b[39;49;00m\n\u001b[0;32m    218\u001b[0m \u001b[43m        \u001b[49m\u001b[43mscore_threshold\u001b[49m\u001b[38;5;241;43m=\u001b[39;49m\u001b[38;5;241;43m0.75\u001b[39;49m\u001b[43m  \u001b[49m\u001b[38;5;66;43;03m# 可調整語意標準\u001b[39;49;00m\n\u001b[0;32m    219\u001b[0m \u001b[43m    \u001b[49m\u001b[43m)\u001b[49m\n\u001b[0;32m    220\u001b[0m     \u001b[38;5;28;01mfor\u001b[39;00m aug \u001b[38;5;129;01min\u001b[39;00m similar_sentences:\n\u001b[0;32m    221\u001b[0m         \u001b[38;5;28;01mif\u001b[39;00m added \u001b[38;5;241m>\u001b[39m\u001b[38;5;241m=\u001b[39m needed:\n",
      "File \u001b[1;32mc:\\Users\\user\\jupyter\\aiops\\src\\ml_lib\\experiment.py:182\u001b[0m, in \u001b[0;36mapply_resampling.<locals>.get_sbert_augmented_sentences\u001b[1;34m(original_sentence, corpus_sentences, top_k, score_threshold)\u001b[0m\n\u001b[0;32m    181\u001b[0m \u001b[38;5;28;01mdef\u001b[39;00m\u001b[38;5;250m \u001b[39m\u001b[38;5;21mget_sbert_augmented_sentences\u001b[39m(original_sentence: \u001b[38;5;28mstr\u001b[39m, corpus_sentences: \u001b[38;5;28mlist\u001b[39m, top_k: \u001b[38;5;28mint\u001b[39m \u001b[38;5;241m=\u001b[39m \u001b[38;5;241m5\u001b[39m, score_threshold: \u001b[38;5;28mfloat\u001b[39m \u001b[38;5;241m=\u001b[39m \u001b[38;5;241m0.7\u001b[39m):\n\u001b[1;32m--> 182\u001b[0m     corpus_embeddings \u001b[38;5;241m=\u001b[39m \u001b[43msbert_model\u001b[49m\u001b[38;5;241;43m.\u001b[39;49m\u001b[43mencode\u001b[49m\u001b[43m(\u001b[49m\u001b[43mcorpus_sentences\u001b[49m\u001b[43m,\u001b[49m\u001b[43m \u001b[49m\u001b[43mconvert_to_tensor\u001b[49m\u001b[38;5;241;43m=\u001b[39;49m\u001b[38;5;28;43;01mTrue\u001b[39;49;00m\u001b[43m)\u001b[49m\n\u001b[0;32m    183\u001b[0m     query_embedding \u001b[38;5;241m=\u001b[39m sbert_model\u001b[38;5;241m.\u001b[39mencode(original_sentence, convert_to_tensor\u001b[38;5;241m=\u001b[39m\u001b[38;5;28;01mTrue\u001b[39;00m)\n\u001b[0;32m    185\u001b[0m     cosine_scores \u001b[38;5;241m=\u001b[39m util\u001b[38;5;241m.\u001b[39mpytorch_cos_sim(query_embedding, corpus_embeddings)[\u001b[38;5;241m0\u001b[39m]\n",
      "File \u001b[1;32mc:\\Users\\user\\AppData\\Local\\Programs\\Python\\Python310\\lib\\site-packages\\sentence_transformers\\SentenceTransformer.py:681\u001b[0m, in \u001b[0;36mSentenceTransformer.encode\u001b[1;34m(self, sentences, prompt_name, prompt, batch_size, show_progress_bar, output_value, precision, convert_to_numpy, convert_to_tensor, device, normalize_embeddings, **kwargs)\u001b[0m\n\u001b[0;32m    672\u001b[0m         \u001b[38;5;28;01mif\u001b[39;00m \u001b[38;5;124m\"\u001b[39m\u001b[38;5;124mtoken_type_ids\u001b[39m\u001b[38;5;124m\"\u001b[39m \u001b[38;5;129;01min\u001b[39;00m features:\n\u001b[0;32m    673\u001b[0m             features[\u001b[38;5;124m\"\u001b[39m\u001b[38;5;124mtoken_type_ids\u001b[39m\u001b[38;5;124m\"\u001b[39m] \u001b[38;5;241m=\u001b[39m torch\u001b[38;5;241m.\u001b[39mcat(\n\u001b[0;32m    674\u001b[0m                 (\n\u001b[0;32m    675\u001b[0m                     features[\u001b[38;5;124m\"\u001b[39m\u001b[38;5;124mtoken_type_ids\u001b[39m\u001b[38;5;124m\"\u001b[39m],\n\u001b[1;32m   (...)\u001b[0m\n\u001b[0;32m    678\u001b[0m                 \u001b[38;5;241m-\u001b[39m\u001b[38;5;241m1\u001b[39m,\n\u001b[0;32m    679\u001b[0m             )\n\u001b[1;32m--> 681\u001b[0m features \u001b[38;5;241m=\u001b[39m \u001b[43mbatch_to_device\u001b[49m\u001b[43m(\u001b[49m\u001b[43mfeatures\u001b[49m\u001b[43m,\u001b[49m\u001b[43m \u001b[49m\u001b[43mdevice\u001b[49m\u001b[43m)\u001b[49m\n\u001b[0;32m    682\u001b[0m features\u001b[38;5;241m.\u001b[39mupdate(extra_features)\n\u001b[0;32m    684\u001b[0m \u001b[38;5;28;01mwith\u001b[39;00m torch\u001b[38;5;241m.\u001b[39mno_grad():\n",
      "File \u001b[1;32mc:\\Users\\user\\AppData\\Local\\Programs\\Python\\Python310\\lib\\site-packages\\sentence_transformers\\util.py:1209\u001b[0m, in \u001b[0;36mbatch_to_device\u001b[1;34m(batch, target_device)\u001b[0m\n\u001b[0;32m   1207\u001b[0m \u001b[38;5;28;01mfor\u001b[39;00m key \u001b[38;5;129;01min\u001b[39;00m batch:\n\u001b[0;32m   1208\u001b[0m     \u001b[38;5;28;01mif\u001b[39;00m \u001b[38;5;28misinstance\u001b[39m(batch[key], Tensor):\n\u001b[1;32m-> 1209\u001b[0m         batch[key] \u001b[38;5;241m=\u001b[39m \u001b[43mbatch\u001b[49m\u001b[43m[\u001b[49m\u001b[43mkey\u001b[49m\u001b[43m]\u001b[49m\u001b[38;5;241;43m.\u001b[39;49m\u001b[43mto\u001b[49m\u001b[43m(\u001b[49m\u001b[43mtarget_device\u001b[49m\u001b[43m)\u001b[49m\n\u001b[0;32m   1210\u001b[0m \u001b[38;5;28;01mreturn\u001b[39;00m batch\n",
      "\u001b[1;31mKeyboardInterrupt\u001b[0m: "
     ]
    }
   ],
   "source": [
    "model_list = [\"bert-base-uncased\",\"roberta-base\",\"microsoft/deberta-base\"]\n",
    "hybrid_list = [None,\"lstm\",\"cnn\",\"bilstm\"]\n",
    "resample_list = [\"sbert\"]\n",
    "\n",
    "all_experiment_result = {}\n",
    "\n",
    "for model_name in model_list:\n",
    "    for hybrid_type in hybrid_list:\n",
    "        for resample_method in resample_list:\n",
    "            results = run_kfold_experiment(\n",
    "                X=messages, y=labels, model_name=model_name, hybrid_type=hybrid_type, resample_method=resample_method,\n",
    "                kfold=KFOLD_SPLIT, seed=SEED, epochs=EPOCHS, patience=PATIENCE, max_length=MAX_LENGTH, \n",
    "                batch_size=BATCH_SIZE, lr=LR, weight_decay=WEIGHT_DECAY\n",
    "            )\n",
    "            key = f\"{model_name} {hybrid_type if hybrid_type else 'None'} {resample_method}\"\n",
    "            all_experiment_result[key] = results"
   ]
  },
  {
   "cell_type": "code",
   "execution_count": 5,
   "id": "ec792735-5337-4675-a201-30ec3a0415ca",
   "metadata": {},
   "outputs": [
    {
     "data": {
      "text/plain": [
       "{'bert-base-uncased None sbert': {'val_loss': 1.5235017829908515,\n",
       "  'val_accuracy': 0.6505800636155911,\n",
       "  'precision': 0.6689068237414718,\n",
       "  'recall': 0.6505800636155911,\n",
       "  'f1-score': 0.6450796156553908,\n",
       "  'macro_f1-score': 0.39906685351451776,\n",
       "  'balanced_accuracy': 0.4099835113219375,\n",
       "  'mcc': 0.5408757322911082,\n",
       "  'train_loss': 0.6009628278164374},\n",
       " 'bert-base-uncased lstm sbert': {'val_loss': 1.519704812230929,\n",
       "  'val_accuracy': 0.6517612560754988,\n",
       "  'precision': 0.6678167551118328,\n",
       "  'recall': 0.6517612560754988,\n",
       "  'f1-score': 0.6453180019727124,\n",
       "  'macro_f1-score': 0.38928946550082644,\n",
       "  'balanced_accuracy': 0.4003879990268647,\n",
       "  'mcc': 0.5444410391300054,\n",
       "  'train_loss': 0.6749246982211203},\n",
       " 'bert-base-uncased cnn sbert': {'val_loss': 1.5285547583170658,\n",
       "  'val_accuracy': 0.6508167500061236,\n",
       "  'precision': 0.6716934990568891,\n",
       "  'recall': 0.6508167500061236,\n",
       "  'f1-score': 0.646932824221751,\n",
       "  'macro_f1-score': 0.406537411498728,\n",
       "  'balanced_accuracy': 0.4198067684502771,\n",
       "  'mcc': 0.5444758901410345,\n",
       "  'train_loss': 0.5921222816340732},\n",
       " 'bert-base-uncased bilstm sbert': {'val_loss': 1.5082294145563864,\n",
       "  'val_accuracy': 0.6534199503812387,\n",
       "  'precision': 0.6584889670560793,\n",
       "  'recall': 0.6534199503812387,\n",
       "  'f1-score': 0.6459300211125368,\n",
       "  'macro_f1-score': 0.39671316782551497,\n",
       "  'balanced_accuracy': 0.40517424440122607,\n",
       "  'mcc': 0.5429924798209964,\n",
       "  'train_loss': 0.6044479142935364},\n",
       " 'roberta-base None sbert': {'val_loss': 1.4548087996413124,\n",
       "  'val_accuracy': 0.6382774801507459,\n",
       "  'precision': 0.6676597740495189,\n",
       "  'recall': 0.6382774801507459,\n",
       "  'f1-score': 0.6369306553380024,\n",
       "  'macro_f1-score': 0.37921123081272345,\n",
       "  'balanced_accuracy': 0.3909213521483132,\n",
       "  'mcc': 0.5311300742202397,\n",
       "  'train_loss': 0.7412344988312343},\n",
       " 'roberta-base lstm sbert': {'val_loss': 1.4669372174537405,\n",
       "  'val_accuracy': 0.6324806231388591,\n",
       "  'precision': 0.6302482661723872,\n",
       "  'recall': 0.6324806231388591,\n",
       "  'f1-score': 0.6215169265216984,\n",
       "  'macro_f1-score': 0.3223386770424181,\n",
       "  'balanced_accuracy': 0.3423791110008151,\n",
       "  'mcc': 0.5173177603644483,\n",
       "  'train_loss': 0.951652018523709}}"
      ]
     },
     "execution_count": 5,
     "metadata": {},
     "output_type": "execute_result"
    }
   ],
   "source": [
    "all_experiment_result"
   ]
  },
  {
   "cell_type": "code",
   "execution_count": null,
   "id": "3c633d6f-3117-4e62-a92c-c50fb863c194",
   "metadata": {},
   "outputs": [],
   "source": []
  },
  {
   "cell_type": "code",
   "execution_count": null,
   "id": "a979ee3d-a4b6-4ea5-8247-fe041653243b",
   "metadata": {},
   "outputs": [],
   "source": []
  },
  {
   "cell_type": "code",
   "execution_count": null,
   "id": "ccafe4a1-7bc7-46c4-9ed7-47cb759f120e",
   "metadata": {},
   "outputs": [],
   "source": []
  }
 ],
 "metadata": {
  "kernelspec": {
   "display_name": "Python 3",
   "language": "python",
   "name": "python3"
  },
  "language_info": {
   "codemirror_mode": {
    "name": "ipython",
    "version": 3
   },
   "file_extension": ".py",
   "mimetype": "text/x-python",
   "name": "python",
   "nbconvert_exporter": "python",
   "pygments_lexer": "ipython3",
   "version": "3.10.0"
  }
 },
 "nbformat": 4,
 "nbformat_minor": 5
}
