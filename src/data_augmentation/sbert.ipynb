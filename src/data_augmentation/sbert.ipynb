{
 "cells": [
  {
   "cell_type": "code",
   "execution_count": 1,
   "id": "f309c923-d49f-4285-87a5-b2068df1717b",
   "metadata": {},
   "outputs": [],
   "source": [
    "from sentence_transformers import SentenceTransformer, util\n",
    "import torch\n",
    "\n",
    "# 載入模型（建議初始化一次後重複用）\n",
    "sbert_model = SentenceTransformer('all-MiniLM-L6-v2')\n",
    "\n",
    "def get_sbert_augmented_sentences(original_sentence: str, corpus_sentences: list, top_k: int = 5, score_threshold: float = 0.7):\n",
    "    \"\"\"\n",
    "    用 SBERT 找出語意最相近的句子作為資料增強。\n",
    "\n",
    "    參數:\n",
    "        original_sentence: str，原始的短句\n",
    "        corpus_sentences: list[str]，可用來搜尋語意相近句子的語料庫\n",
    "        top_k: int，最多取幾個相似句\n",
    "        score_threshold: float，最低語意相似度門檻\n",
    "\n",
    "    回傳:\n",
    "        List[str]，符合相似度門檻的句子\n",
    "    \"\"\"\n",
    "    # 對語料與輸入句子做編碼\n",
    "    corpus_embeddings = sbert_model.encode(corpus_sentences, convert_to_tensor=True)\n",
    "    query_embedding = sbert_model.encode(original_sentence, convert_to_tensor=True)\n",
    "\n",
    "    # 計算 cosine similarity\n",
    "    cosine_scores = util.pytorch_cos_sim(query_embedding, corpus_embeddings)[0]\n",
    "    top_results = torch.topk(cosine_scores, k=min(top_k + 1, len(corpus_sentences)))  # +1 是因為可能包含自己\n",
    "\n",
    "    # 收集結果（去掉與自己相同的句子）\n",
    "    results = []\n",
    "    for score, idx in zip(top_results[0], top_results[1]):\n",
    "        candidate = corpus_sentences[idx]\n",
    "        if candidate != original_sentence and score >= score_threshold:\n",
    "            results.append(candidate)\n",
    "\n",
    "    return results"
   ]
  },
  {
   "cell_type": "code",
   "execution_count": 2,
   "id": "352b4093-b8dc-4f31-9950-f8465b268bde",
   "metadata": {},
   "outputs": [
    {
     "name": "stdout",
     "output_type": "stream",
     "text": [
      "原句: login issue in server\n",
      "擴增候選:\n",
      "1. login failed\n",
      "2. user cannot login\n",
      "3. cannot access server\n"
     ]
    }
   ],
   "source": [
    "# 範例語料庫（可以是你資料集裡的所有短句）\n",
    "corpus = [\n",
    "    \"login failed\",\n",
    "    \"user cannot login\",\n",
    "    \"system crash occurred\",\n",
    "    \"password reset not working\",\n",
    "    \"email authentication failed\",\n",
    "    \"cannot access server\"\n",
    "]\n",
    "\n",
    "original = \"login issue in server\"\n",
    "augmented = get_sbert_augmented_sentences(original, corpus, top_k=3, score_threshold=0.6)\n",
    "\n",
    "print(\"原句:\", original)\n",
    "print(\"擴增候選:\")\n",
    "for i, s in enumerate(augmented):\n",
    "    print(f\"{i+1}. {s}\")"
   ]
  }
 ],
 "metadata": {
  "kernelspec": {
   "display_name": "Python 3 (ipykernel)",
   "language": "python",
   "name": "python3"
  },
  "language_info": {
   "codemirror_mode": {
    "name": "ipython",
    "version": 3
   },
   "file_extension": ".py",
   "mimetype": "text/x-python",
   "name": "python",
   "nbconvert_exporter": "python",
   "pygments_lexer": "ipython3",
   "version": "3.11.9"
  }
 },
 "nbformat": 4,
 "nbformat_minor": 5
}
