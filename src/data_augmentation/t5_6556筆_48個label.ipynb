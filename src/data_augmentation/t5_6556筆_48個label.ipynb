{
 "cells": [
  {
   "cell_type": "code",
   "execution_count": 1,
   "id": "f22f4841-9a9d-4a63-b896-560594d666d8",
   "metadata": {},
   "outputs": [
    {
     "data": {
      "text/html": [
       "<div>\n",
       "<style scoped>\n",
       "    .dataframe tbody tr th:only-of-type {\n",
       "        vertical-align: middle;\n",
       "    }\n",
       "\n",
       "    .dataframe tbody tr th {\n",
       "        vertical-align: top;\n",
       "    }\n",
       "\n",
       "    .dataframe thead th {\n",
       "        text-align: right;\n",
       "    }\n",
       "</style>\n",
       "<table border=\"1\" class=\"dataframe\">\n",
       "  <thead>\n",
       "    <tr style=\"text-align: right;\">\n",
       "      <th></th>\n",
       "      <th>Inbound Message</th>\n",
       "      <th>Label</th>\n",
       "    </tr>\n",
       "  </thead>\n",
       "  <tbody>\n",
       "    <tr>\n",
       "      <th>0</th>\n",
       "      <td>login issue verified user details employee man...</td>\n",
       "      <td>0</td>\n",
       "    </tr>\n",
       "    <tr>\n",
       "      <th>1</th>\n",
       "      <td>outlook hello team meetings skype meetings etc...</td>\n",
       "      <td>0</td>\n",
       "    </tr>\n",
       "    <tr>\n",
       "      <th>2</th>\n",
       "      <td>cant log vpn cannot log vpn best</td>\n",
       "      <td>0</td>\n",
       "    </tr>\n",
       "    <tr>\n",
       "      <th>3</th>\n",
       "      <td>unable access tool page unable access tool page</td>\n",
       "      <td>0</td>\n",
       "    </tr>\n",
       "    <tr>\n",
       "      <th>4</th>\n",
       "      <td>skype error skype error</td>\n",
       "      <td>0</td>\n",
       "    </tr>\n",
       "    <tr>\n",
       "      <th>...</th>\n",
       "      <td>...</td>\n",
       "      <td>...</td>\n",
       "    </tr>\n",
       "    <tr>\n",
       "      <th>6551</th>\n",
       "      <td>emails coming mail good afternoon receiving em...</td>\n",
       "      <td>22</td>\n",
       "    </tr>\n",
       "    <tr>\n",
       "      <th>6552</th>\n",
       "      <td>telephony software issue telephony software issue</td>\n",
       "      <td>0</td>\n",
       "    </tr>\n",
       "    <tr>\n",
       "      <th>6553</th>\n",
       "      <td>vip windows password reset tifpdchb pedxruyf v...</td>\n",
       "      <td>0</td>\n",
       "    </tr>\n",
       "    <tr>\n",
       "      <th>6554</th>\n",
       "      <td>machine est funcionando unable access machine ...</td>\n",
       "      <td>42</td>\n",
       "    </tr>\n",
       "    <tr>\n",
       "      <th>6555</th>\n",
       "      <td>mehreren lassen sich verschiedene prgramdntyme...</td>\n",
       "      <td>47</td>\n",
       "    </tr>\n",
       "  </tbody>\n",
       "</table>\n",
       "<p>6556 rows × 2 columns</p>\n",
       "</div>"
      ],
      "text/plain": [
       "                                        Inbound Message  Label\n",
       "0     login issue verified user details employee man...      0\n",
       "1     outlook hello team meetings skype meetings etc...      0\n",
       "2                      cant log vpn cannot log vpn best      0\n",
       "3       unable access tool page unable access tool page      0\n",
       "4                               skype error skype error      0\n",
       "...                                                 ...    ...\n",
       "6551  emails coming mail good afternoon receiving em...     22\n",
       "6552  telephony software issue telephony software issue      0\n",
       "6553  vip windows password reset tifpdchb pedxruyf v...      0\n",
       "6554  machine est funcionando unable access machine ...     42\n",
       "6555  mehreren lassen sich verschiedene prgramdntyme...     47\n",
       "\n",
       "[6556 rows x 2 columns]"
      ]
     },
     "execution_count": 1,
     "metadata": {},
     "output_type": "execute_result"
    }
   ],
   "source": [
    "import pandas as pd\n",
    "data_path = \"../../data/6556_48_label.csv\"\n",
    "df = pd.read_csv(data_path)\n",
    "# df_label_0 = df[df[\"Labewl\"] == 0]\n",
    "# df_label_0_to_drop = df_label_0.sample(n=3000, random_state=42)\n",
    "# df = df.drop(df_label_0_to_drop.index)\n",
    "df"
   ]
  },
  {
   "cell_type": "code",
   "execution_count": 2,
   "id": "bf737873-4f1c-4588-913d-8f06b2777b20",
   "metadata": {},
   "outputs": [
    {
     "name": "stderr",
     "output_type": "stream",
     "text": [
      "c:\\Users\\user\\AppData\\Local\\Programs\\Python\\Python310\\lib\\site-packages\\tqdm\\auto.py:21: TqdmWarning: IProgress not found. Please update jupyter and ipywidgets. See https://ipywidgets.readthedocs.io/en/stable/user_install.html\n",
      "  from .autonotebook import tqdm as notebook_tqdm\n"
     ]
    }
   ],
   "source": [
    "import sys\n",
    "import os\n",
    "sys.path.append(os.path.abspath('../ml_lib'))\n",
    "\n",
    "from config import *\n",
    "from experiment import run_kfold_experiment"
   ]
  },
  {
   "cell_type": "code",
   "execution_count": 3,
   "id": "a12b2613-aa9d-41c0-8f62-72210eaf8d7f",
   "metadata": {},
   "outputs": [],
   "source": [
    "messages, labels = df['Inbound Message'].tolist(), df['Label'].tolist()"
   ]
  },
  {
   "cell_type": "code",
   "execution_count": 6,
   "id": "38d4729f-f867-4cea-89f9-31f67e5ecced",
   "metadata": {},
   "outputs": [
    {
     "name": "stdout",
     "output_type": "stream",
     "text": [
      "▶ Running: bert-base-uncased + plain + t5\n",
      "tokenizer is bert-base-uncased\n",
      "Using device: cuda\n",
      "CUDA Available: True\n",
      "CUDA Device: NVIDIA GeForce RTX 5070 Ti\n",
      "Current GPU Memory Allocated: 0.00 GB\n",
      "Current GPU Memory Cached: 0.00 GB\n",
      "\n",
      "[Fold 1]\n",
      "🚀 Using T5-paraphraser for data augmentation + under-sampling\n"
     ]
    },
    {
     "name": "stderr",
     "output_type": "stream",
     "text": [
      "c:\\Users\\user\\AppData\\Local\\Programs\\Python\\Python310\\lib\\site-packages\\huggingface_hub\\file_download.py:142: UserWarning: `huggingface_hub` cache-system uses symlinks by default to efficiently store duplicated files but your machine does not support them in C:\\Users\\user\\.cache\\huggingface\\hub\\models--ramsrigouthamg--t5_paraphraser. Caching files will still work but in a degraded version that might require more space on your disk. This warning can be disabled by setting the `HF_HUB_DISABLE_SYMLINKS_WARNING` environment variable. For more details, see https://huggingface.co/docs/huggingface_hub/how-to-cache#limitations.\n",
      "To support symlinks on Windows, you either need to activate Developer Mode or to run Python as an administrator. In order to activate developer mode, see this article: https://docs.microsoft.com/en-us/windows/apps/get-started/enable-your-device-for-development\n",
      "  warnings.warn(message)\n"
     ]
    },
    {
     "name": "stdout",
     "output_type": "stream",
     "text": [
      "🔻 Under-sampling label 0: 2471 → 2000\n",
      "🔧 Augmenting label 1: 21 → 200 (+179)\n",
      "🔧 Augmenting label 2: 64 → 200 (+136)\n",
      "🔧 Augmenting label 3: 24 → 200 (+176)\n",
      "🔧 Augmenting label 4: 191 → 200 (+9)\n",
      "🔧 Augmenting label 5: 113 → 200 (+87)\n",
      "🔧 Augmenting label 6: 93 → 200 (+107)\n",
      "🔧 Augmenting label 7: 30 → 200 (+170)\n",
      "🔧 Augmenting label 8: 68 → 200 (+132)\n",
      "🔧 Augmenting label 9: 30 → 200 (+170)\n",
      "🔧 Augmenting label 10: 67 → 200 (+133)\n",
      "🔧 Augmenting label 11: 169 → 200 (+31)\n",
      "🔧 Augmenting label 12: 189 → 200 (+11)\n",
      "🔧 Augmenting label 13: 29 → 200 (+171)\n",
      "🔧 Augmenting label 14: 22 → 200 (+178)\n",
      "🔧 Augmenting label 15: 25 → 200 (+175)\n",
      "🔧 Augmenting label 16: 19 → 200 (+181)\n",
      "🔧 Augmenting label 17: 183 → 200 (+17)\n",
      "🔧 Augmenting label 18: 92 → 200 (+108)\n",
      "🔧 Augmenting label 19: 44 → 200 (+156)\n",
      "🔧 Augmenting label 20: 13 → 200 (+187)\n",
      "🔧 Augmenting label 21: 35 → 200 (+165)\n",
      "🔧 Augmenting label 22: 76 → 200 (+124)\n",
      "🔧 Augmenting label 23: 158 → 200 (+42)\n",
      "🔧 Augmenting label 24: 13 → 200 (+187)\n",
      "🔧 Augmenting label 25: 44 → 200 (+156)\n",
      "🔧 Augmenting label 26: 84 → 200 (+116)\n",
      "🔧 Augmenting label 27: 48 → 200 (+152)\n",
      "🔧 Augmenting label 28: 11 → 200 (+189)\n",
      "🔧 Augmenting label 29: 13 → 200 (+187)\n",
      "🔧 Augmenting label 30: 11 → 200 (+189)\n",
      "🔧 Augmenting label 31: 75 → 200 (+125)\n",
      "🔧 Augmenting label 32: 36 → 200 (+164)\n",
      "🔧 Augmenting label 33: 32 → 200 (+168)\n",
      "🔧 Augmenting label 34: 29 → 200 (+171)\n",
      "🔧 Augmenting label 35: 11 → 200 (+189)\n",
      "🔧 Augmenting label 36: 22 → 200 (+178)\n",
      "🔧 Augmenting label 37: 16 → 200 (+184)\n",
      "🔧 Augmenting label 38: 33 → 200 (+167)\n",
      "🔧 Augmenting label 39: 10 → 200 (+190)\n",
      "🔧 Augmenting label 40: 9 → 200 (+191)\n",
      "🔧 Augmenting label 41: 57 → 200 (+143)\n",
      "🔧 Augmenting label 42: 19 → 200 (+181)\n",
      "🔧 Augmenting label 43: 8 → 200 (+192)\n",
      "🔧 Augmenting label 44: 54 → 200 (+146)\n",
      "🔧 Augmenting label 46: 61 → 200 (+139)\n",
      "🔧 Augmenting label 47: 80 → 200 (+120)\n",
      "Label distribution after resampling:\n",
      "  label 0: 2000\n",
      "  label 1: 200\n",
      "  label 2: 200\n",
      "  label 3: 200\n",
      "  label 4: 200\n",
      "  label 5: 200\n",
      "  label 6: 200\n",
      "  label 7: 200\n",
      "  label 8: 200\n",
      "  label 9: 200\n",
      "  label 10: 200\n",
      "  label 11: 200\n",
      "  label 12: 200\n",
      "  label 13: 200\n",
      "  label 14: 200\n",
      "  label 15: 200\n",
      "  label 16: 200\n",
      "  label 17: 200\n",
      "  label 18: 200\n",
      "  label 19: 200\n",
      "  label 20: 200\n",
      "  label 21: 200\n",
      "  label 22: 200\n",
      "  label 23: 200\n",
      "  label 24: 200\n",
      "  label 25: 200\n",
      "  label 26: 200\n",
      "  label 27: 200\n",
      "  label 28: 200\n",
      "  label 29: 200\n",
      "  label 30: 200\n",
      "  label 31: 200\n",
      "  label 32: 200\n",
      "  label 33: 200\n",
      "  label 34: 200\n",
      "  label 35: 200\n",
      "  label 36: 200\n",
      "  label 37: 200\n",
      "  label 38: 200\n",
      "  label 39: 200\n",
      "  label 40: 200\n",
      "  label 41: 200\n",
      "  label 42: 200\n",
      "  label 43: 200\n",
      "  label 44: 200\n",
      "  label 45: 242\n",
      "  label 46: 200\n",
      "  label 47: 200\n",
      "model is bert-base-uncased\n"
     ]
    },
    {
     "name": "stderr",
     "output_type": "stream",
     "text": [
      "Some weights of BertForSequenceClassification were not initialized from the model checkpoint at bert-base-uncased and are newly initialized: ['classifier.bias', 'classifier.weight']\n",
      "You should probably TRAIN this model on a down-stream task to be able to use it for predictions and inference.\n"
     ]
    },
    {
     "name": "stdout",
     "output_type": "stream",
     "text": [
      "Using weighted CrossEntropyLoss with weights: tensor([1.7441, 4.0467, 4.0467, 4.0467, 4.0467, 4.0467, 4.0467, 4.0467, 4.0467,\n",
      "        4.0467, 4.0467, 4.0467, 4.0467, 4.0467, 4.0467, 4.0467, 4.0467, 4.0467,\n",
      "        4.0467, 4.0467, 4.0467, 4.0467, 4.0467, 4.0467, 4.0467, 4.0467, 4.0467,\n",
      "        4.0467, 4.0467, 4.0467, 4.0467, 4.0467, 4.0467, 4.0467, 4.0467, 4.0467,\n",
      "        4.0467, 4.0467, 4.0467, 4.0467, 4.0467, 4.0467, 4.0467, 4.0467, 4.0467,\n",
      "        3.8561, 4.0467, 4.0467], device='cuda:0')\n",
      "Epoch 1/20\n"
     ]
    },
    {
     "name": "stderr",
     "output_type": "stream",
     "text": [
      "100%|██████████| 716/716 [01:00<00:00, 11.91it/s]\n"
     ]
    },
    {
     "name": "stdout",
     "output_type": "stream",
     "text": [
      "{'val_loss': 1.8866343614531726, 'val_accuracy': 0.5823170731707317, 'precision': 0.542450325125994, 'recall': 0.5823170731707317, 'f1-score': 0.5503330415731964, 'macro_f1-score': 0.30410577389789734, 'balanced_accuracy': 0.34412430895798735, 'mcc': 0.43533936445080756, 'train_loss': 2.5199504358974916}\n",
      "Epoch 2/20\n"
     ]
    },
    {
     "name": "stderr",
     "output_type": "stream",
     "text": [
      "100%|██████████| 716/716 [01:00<00:00, 11.91it/s]\n"
     ]
    },
    {
     "name": "stdout",
     "output_type": "stream",
     "text": [
      "{'val_loss': 1.6759668977522268, 'val_accuracy': 0.59375, 'precision': 0.6223663366534592, 'recall': 0.59375, 'f1-score': 0.592072437782497, 'macro_f1-score': 0.396879665932222, 'balanced_accuracy': 0.4435800776839029, 'mcc': 0.4828668946365355, 'train_loss': 1.1405560827122054}\n",
      "Epoch 3/20\n"
     ]
    },
    {
     "name": "stderr",
     "output_type": "stream",
     "text": [
      "100%|██████████| 716/716 [00:59<00:00, 11.94it/s]\n"
     ]
    },
    {
     "name": "stdout",
     "output_type": "stream",
     "text": [
      "{'val_loss': 1.8015764619155628, 'val_accuracy': 0.6204268292682927, 'precision': 0.6114226497855635, 'recall': 0.6204268292682927, 'f1-score': 0.6056482625503244, 'macro_f1-score': 0.3769625972824051, 'balanced_accuracy': 0.3778764487883864, 'mcc': 0.49505884197520433, 'train_loss': 0.5689211697239616}\n",
      "Epoch 4/20\n"
     ]
    },
    {
     "name": "stderr",
     "output_type": "stream",
     "text": [
      "100%|██████████| 716/716 [01:00<00:00, 11.92it/s]\n"
     ]
    },
    {
     "name": "stdout",
     "output_type": "stream",
     "text": [
      "{'val_loss': 2.0322016782876924, 'val_accuracy': 0.6379573170731707, 'precision': 0.610124548679262, 'recall': 0.6379573170731707, 'f1-score': 0.6146484441779693, 'macro_f1-score': 0.3818134772746757, 'balanced_accuracy': 0.37488156557097013, 'mcc': 0.5071082852604412, 'train_loss': 0.3054950884933578}\n",
      "Epoch 5/20\n"
     ]
    },
    {
     "name": "stderr",
     "output_type": "stream",
     "text": [
      "100%|██████████| 716/716 [01:00<00:00, 11.93it/s]\n"
     ]
    },
    {
     "name": "stdout",
     "output_type": "stream",
     "text": [
      "{'val_loss': 2.2560602906273632, 'val_accuracy': 0.6547256097560976, 'precision': 0.642394045538516, 'recall': 0.6547256097560976, 'f1-score': 0.6255279154886216, 'macro_f1-score': 0.40807338709997315, 'balanced_accuracy': 0.4029697255839824, 'mcc': 0.5263770702621757, 'train_loss': 0.19414876101476103}\n",
      "Epoch 6/20\n"
     ]
    },
    {
     "name": "stderr",
     "output_type": "stream",
     "text": [
      "100%|██████████| 716/716 [01:00<00:00, 11.92it/s]\n"
     ]
    },
    {
     "name": "stdout",
     "output_type": "stream",
     "text": [
      "{'val_loss': 2.112770899766829, 'val_accuracy': 0.6234756097560976, 'precision': 0.6339531417029148, 'recall': 0.6234756097560976, 'f1-score': 0.6226935697543778, 'macro_f1-score': 0.4152315144146031, 'balanced_accuracy': 0.45312440998018033, 'mcc': 0.5173063486366815, 'train_loss': 0.13541167474601565}\n",
      "Epoch 7/20\n"
     ]
    },
    {
     "name": "stderr",
     "output_type": "stream",
     "text": [
      "100%|██████████| 716/716 [01:00<00:00, 11.92it/s]\n"
     ]
    },
    {
     "name": "stdout",
     "output_type": "stream",
     "text": [
      "{'val_loss': 2.667348998348887, 'val_accuracy': 0.6410060975609756, 'precision': 0.6131033844086794, 'recall': 0.6410060975609756, 'f1-score': 0.6106755941655574, 'macro_f1-score': 0.39834832859566477, 'balanced_accuracy': 0.374211748704393, 'mcc': 0.5003738609041791, 'train_loss': 0.11004590693413795}\n",
      "Epoch 8/20\n"
     ]
    },
    {
     "name": "stderr",
     "output_type": "stream",
     "text": [
      "100%|██████████| 716/716 [01:00<00:00, 11.91it/s]\n"
     ]
    },
    {
     "name": "stdout",
     "output_type": "stream",
     "text": [
      "{'val_loss': 2.6074780658250902, 'val_accuracy': 0.6242378048780488, 'precision': 0.6066610877005795, 'recall': 0.6242378048780488, 'f1-score': 0.5965696617236879, 'macro_f1-score': 0.3444325445157828, 'balanced_accuracy': 0.3136990677264689, 'mcc': 0.48212528682080863, 'train_loss': 0.10330900259110452}\n",
      "Epoch 9/20\n"
     ]
    },
    {
     "name": "stderr",
     "output_type": "stream",
     "text": [
      "100%|██████████| 716/716 [01:00<00:00, 11.92it/s]\n"
     ]
    },
    {
     "name": "stdout",
     "output_type": "stream",
     "text": [
      "{'val_loss': 2.3229177354312522, 'val_accuracy': 0.6326219512195121, 'precision': 0.6371670124010408, 'recall': 0.6326219512195121, 'f1-score': 0.6267152951636638, 'macro_f1-score': 0.4194703446182759, 'balanced_accuracy': 0.40991033886061484, 'mcc': 0.5143431016363837, 'train_loss': 0.09105406088303182}\n",
      "Epoch 10/20\n"
     ]
    },
    {
     "name": "stderr",
     "output_type": "stream",
     "text": [
      "100%|██████████| 716/716 [01:00<00:00, 11.93it/s]\n"
     ]
    },
    {
     "name": "stdout",
     "output_type": "stream",
     "text": [
      "{'val_loss': 2.632061495831827, 'val_accuracy': 0.6432926829268293, 'precision': 0.6370269434023925, 'recall': 0.6432926829268293, 'f1-score': 0.6290614142684825, 'macro_f1-score': 0.40682661061117315, 'balanced_accuracy': 0.4143442186039308, 'mcc': 0.5236627767798839, 'train_loss': 0.07623893346386447}\n",
      "Epoch 11/20\n"
     ]
    },
    {
     "name": "stderr",
     "output_type": "stream",
     "text": [
      "100%|██████████| 716/716 [01:00<00:00, 11.91it/s]\n"
     ]
    },
    {
     "name": "stdout",
     "output_type": "stream",
     "text": [
      "{'val_loss': 2.4888893798357103, 'val_accuracy': 0.6166158536585366, 'precision': 0.6367329498933598, 'recall': 0.6166158536585366, 'f1-score': 0.6158673790868215, 'macro_f1-score': 0.4189903425577289, 'balanced_accuracy': 0.43362232496420666, 'mcc': 0.5090115028714487, 'train_loss': 0.07599090226937616}\n",
      "Epoch 12/20\n"
     ]
    },
    {
     "name": "stderr",
     "output_type": "stream",
     "text": [
      "100%|██████████| 716/716 [01:00<00:00, 11.92it/s]\n"
     ]
    },
    {
     "name": "stdout",
     "output_type": "stream",
     "text": [
      "{'val_loss': 2.792688439532024, 'val_accuracy': 0.6326219512195121, 'precision': 0.6357299659409406, 'recall': 0.6326219512195121, 'f1-score': 0.6203912028700501, 'macro_f1-score': 0.4091845912956398, 'balanced_accuracy': 0.42423495400478295, 'mcc': 0.5018493847641342, 'train_loss': 0.07384677195525469}\n",
      "Early stopping.\n",
      "\n",
      "[Fold 2]\n",
      "🚀 Using T5-paraphraser for data augmentation + under-sampling\n",
      "🔻 Under-sampling label 0: 2471 → 2000\n",
      "🔧 Augmenting label 1: 22 → 200 (+178)\n",
      "🔧 Augmenting label 2: 64 → 200 (+136)\n",
      "🔧 Augmenting label 3: 24 → 200 (+176)\n",
      "🔧 Augmenting label 4: 190 → 200 (+10)\n",
      "🔧 Augmenting label 5: 113 → 200 (+87)\n",
      "🔧 Augmenting label 6: 93 → 200 (+107)\n",
      "🔧 Augmenting label 7: 30 → 200 (+170)\n",
      "🔧 Augmenting label 8: 68 → 200 (+132)\n",
      "🔧 Augmenting label 9: 30 → 200 (+170)\n",
      "🔧 Augmenting label 10: 67 → 200 (+133)\n",
      "🔧 Augmenting label 11: 169 → 200 (+31)\n",
      "🔧 Augmenting label 12: 189 → 200 (+11)\n",
      "🔧 Augmenting label 13: 29 → 200 (+171)\n",
      "🔧 Augmenting label 14: 23 → 200 (+177)\n",
      "🔧 Augmenting label 15: 24 → 200 (+176)\n",
      "🔧 Augmenting label 16: 20 → 200 (+180)\n",
      "🔧 Augmenting label 17: 182 → 200 (+18)\n",
      "🔧 Augmenting label 18: 92 → 200 (+108)\n",
      "🔧 Augmenting label 19: 44 → 200 (+156)\n",
      "🔧 Augmenting label 20: 13 → 200 (+187)\n",
      "🔧 Augmenting label 21: 36 → 200 (+164)\n",
      "🔧 Augmenting label 22: 76 → 200 (+124)\n",
      "🔧 Augmenting label 23: 157 → 200 (+43)\n",
      "🔧 Augmenting label 24: 12 → 200 (+188)\n",
      "🔧 Augmenting label 25: 44 → 200 (+156)\n",
      "🔧 Augmenting label 26: 84 → 200 (+116)\n",
      "🔧 Augmenting label 27: 48 → 200 (+152)\n",
      "🔧 Augmenting label 28: 12 → 200 (+188)\n",
      "🔧 Augmenting label 29: 12 → 200 (+188)\n",
      "🔧 Augmenting label 30: 12 → 200 (+188)\n",
      "🔧 Augmenting label 31: 75 → 200 (+125)\n",
      "🔧 Augmenting label 32: 36 → 200 (+164)\n",
      "🔧 Augmenting label 33: 31 → 200 (+169)\n",
      "🔧 Augmenting label 34: 29 → 200 (+171)\n",
      "🔧 Augmenting label 35: 12 → 200 (+188)\n",
      "🔧 Augmenting label 36: 21 → 200 (+179)\n",
      "🔧 Augmenting label 37: 16 → 200 (+184)\n",
      "🔧 Augmenting label 38: 33 → 200 (+167)\n",
      "🔧 Augmenting label 39: 11 → 200 (+189)\n",
      "🔧 Augmenting label 40: 8 → 200 (+192)\n",
      "🔧 Augmenting label 41: 57 → 200 (+143)\n",
      "🔧 Augmenting label 42: 19 → 200 (+181)\n",
      "🔧 Augmenting label 43: 9 → 200 (+191)\n",
      "🔧 Augmenting label 44: 54 → 200 (+146)\n",
      "🔧 Augmenting label 46: 62 → 200 (+138)\n",
      "🔧 Augmenting label 47: 80 → 200 (+120)\n",
      "Label distribution after resampling:\n",
      "  label 0: 2000\n",
      "  label 1: 200\n",
      "  label 2: 200\n",
      "  label 3: 200\n",
      "  label 4: 200\n",
      "  label 5: 200\n",
      "  label 6: 200\n",
      "  label 7: 200\n",
      "  label 8: 200\n",
      "  label 9: 200\n",
      "  label 10: 200\n",
      "  label 11: 200\n",
      "  label 12: 200\n",
      "  label 13: 200\n",
      "  label 14: 200\n",
      "  label 15: 200\n",
      "  label 16: 200\n",
      "  label 17: 200\n",
      "  label 18: 200\n",
      "  label 19: 200\n",
      "  label 20: 200\n",
      "  label 21: 200\n",
      "  label 22: 200\n",
      "  label 23: 200\n",
      "  label 24: 200\n",
      "  label 25: 200\n",
      "  label 26: 200\n",
      "  label 27: 200\n",
      "  label 28: 200\n",
      "  label 29: 200\n",
      "  label 30: 200\n",
      "  label 31: 200\n",
      "  label 32: 200\n",
      "  label 33: 200\n",
      "  label 34: 200\n",
      "  label 35: 200\n",
      "  label 36: 200\n",
      "  label 37: 200\n",
      "  label 38: 200\n",
      "  label 39: 200\n",
      "  label 40: 200\n",
      "  label 41: 200\n",
      "  label 42: 200\n",
      "  label 43: 200\n",
      "  label 44: 200\n",
      "  label 45: 242\n",
      "  label 46: 200\n",
      "  label 47: 200\n",
      "model is bert-base-uncased\n"
     ]
    },
    {
     "name": "stderr",
     "output_type": "stream",
     "text": [
      "Some weights of BertForSequenceClassification were not initialized from the model checkpoint at bert-base-uncased and are newly initialized: ['classifier.bias', 'classifier.weight']\n",
      "You should probably TRAIN this model on a down-stream task to be able to use it for predictions and inference.\n"
     ]
    },
    {
     "name": "stdout",
     "output_type": "stream",
     "text": [
      "Using weighted CrossEntropyLoss with weights: tensor([1.7441, 4.0467, 4.0467, 4.0467, 4.0467, 4.0467, 4.0467, 4.0467, 4.0467,\n",
      "        4.0467, 4.0467, 4.0467, 4.0467, 4.0467, 4.0467, 4.0467, 4.0467, 4.0467,\n",
      "        4.0467, 4.0467, 4.0467, 4.0467, 4.0467, 4.0467, 4.0467, 4.0467, 4.0467,\n",
      "        4.0467, 4.0467, 4.0467, 4.0467, 4.0467, 4.0467, 4.0467, 4.0467, 4.0467,\n",
      "        4.0467, 4.0467, 4.0467, 4.0467, 4.0467, 4.0467, 4.0467, 4.0467, 4.0467,\n",
      "        3.8561, 4.0467, 4.0467], device='cuda:0')\n",
      "Epoch 1/20\n"
     ]
    },
    {
     "name": "stderr",
     "output_type": "stream",
     "text": [
      "100%|██████████| 716/716 [00:59<00:00, 11.97it/s]\n"
     ]
    },
    {
     "name": "stdout",
     "output_type": "stream",
     "text": [
      "{'val_loss': 1.9062152388619213, 'val_accuracy': 0.593440122044241, 'precision': 0.503978769561538, 'recall': 0.593440122044241, 'f1-score': 0.519988039865754, 'macro_f1-score': 0.25310910469799025, 'balanced_accuracy': 0.25982529195209764, 'mcc': 0.4148846462244391, 'train_loss': 2.44868002361592}\n",
      "Epoch 2/20\n"
     ]
    },
    {
     "name": "stderr",
     "output_type": "stream",
     "text": [
      "100%|██████████| 716/716 [01:00<00:00, 11.92it/s]\n"
     ]
    },
    {
     "name": "stdout",
     "output_type": "stream",
     "text": [
      "{'val_loss': 1.678146201662901, 'val_accuracy': 0.6163234172387491, 'precision': 0.6201761960623124, 'recall': 0.6163234172387491, 'f1-score': 0.6026225179961248, 'macro_f1-score': 0.39220087909541695, 'balanced_accuracy': 0.4065158802668137, 'mcc': 0.4879585149718801, 'train_loss': 1.0703311260352588}\n",
      "Epoch 3/20\n"
     ]
    },
    {
     "name": "stderr",
     "output_type": "stream",
     "text": [
      "100%|██████████| 716/716 [01:00<00:00, 11.92it/s]\n"
     ]
    },
    {
     "name": "stdout",
     "output_type": "stream",
     "text": [
      "{'val_loss': 1.7210567717145129, 'val_accuracy': 0.6559877955758963, 'precision': 0.6540104059978443, 'recall': 0.6559877955758963, 'f1-score': 0.6336647701302901, 'macro_f1-score': 0.39732041933523704, 'balanced_accuracy': 0.39031973696458894, 'mcc': 0.5372580320165106, 'train_loss': 0.5091182812111837}\n",
      "Epoch 4/20\n"
     ]
    },
    {
     "name": "stderr",
     "output_type": "stream",
     "text": [
      "100%|██████████| 716/716 [01:00<00:00, 11.92it/s]\n"
     ]
    },
    {
     "name": "stdout",
     "output_type": "stream",
     "text": [
      "{'val_loss': 1.8224460119154395, 'val_accuracy': 0.6430205949656751, 'precision': 0.6208333899141819, 'recall': 0.6430205949656751, 'f1-score': 0.6211408895260204, 'macro_f1-score': 0.37904814566949563, 'balanced_accuracy': 0.36012290502895006, 'mcc': 0.5183802906087489, 'train_loss': 0.2702068404708183}\n",
      "Epoch 5/20\n"
     ]
    },
    {
     "name": "stderr",
     "output_type": "stream",
     "text": [
      "100%|██████████| 716/716 [01:00<00:00, 11.92it/s]\n"
     ]
    },
    {
     "name": "stdout",
     "output_type": "stream",
     "text": [
      "{'val_loss': 2.139690297769337, 'val_accuracy': 0.6559877955758963, 'precision': 0.6356208413047435, 'recall': 0.6559877955758963, 'f1-score': 0.6259125669085668, 'macro_f1-score': 0.3636465037818506, 'balanced_accuracy': 0.35048654100915694, 'mcc': 0.5251944658384496, 'train_loss': 0.1712365636443355}\n",
      "Epoch 6/20\n"
     ]
    },
    {
     "name": "stderr",
     "output_type": "stream",
     "text": [
      "100%|██████████| 716/716 [01:00<00:00, 11.92it/s]\n"
     ]
    },
    {
     "name": "stdout",
     "output_type": "stream",
     "text": [
      "{'val_loss': 2.1664362746040995, 'val_accuracy': 0.6514111365369947, 'precision': 0.6417912649714845, 'recall': 0.6514111365369947, 'f1-score': 0.6331421126813191, 'macro_f1-score': 0.40008092246376536, 'balanced_accuracy': 0.3869062342217556, 'mcc': 0.5295187108623238, 'train_loss': 0.12312455249263504}\n",
      "Epoch 7/20\n"
     ]
    },
    {
     "name": "stderr",
     "output_type": "stream",
     "text": [
      "100%|██████████| 716/716 [01:00<00:00, 11.93it/s]\n"
     ]
    },
    {
     "name": "stdout",
     "output_type": "stream",
     "text": [
      "{'val_loss': 2.353754986713572, 'val_accuracy': 0.6392067124332571, 'precision': 0.6266870035927342, 'recall': 0.6392067124332571, 'f1-score': 0.6206633812428779, 'macro_f1-score': 0.37663638740236777, 'balanced_accuracy': 0.37632449651379857, 'mcc': 0.5130302334472521, 'train_loss': 0.10141424285495061}\n",
      "Epoch 8/20\n"
     ]
    },
    {
     "name": "stderr",
     "output_type": "stream",
     "text": [
      "100%|██████████| 716/716 [01:00<00:00, 11.92it/s]\n"
     ]
    },
    {
     "name": "stdout",
     "output_type": "stream",
     "text": [
      "{'val_loss': 2.3563915411146676, 'val_accuracy': 0.631578947368421, 'precision': 0.6242391999143644, 'recall': 0.631578947368421, 'f1-score': 0.6181354782583459, 'macro_f1-score': 0.37303976274683287, 'balanced_accuracy': 0.3742106724327951, 'mcc': 0.5118620616444395, 'train_loss': 0.0859164862598256}\n",
      "Epoch 9/20\n"
     ]
    },
    {
     "name": "stderr",
     "output_type": "stream",
     "text": [
      "100%|██████████| 716/716 [01:00<00:00, 11.91it/s]\n"
     ]
    },
    {
     "name": "stdout",
     "output_type": "stream",
     "text": [
      "{'val_loss': 2.345617885996656, 'val_accuracy': 0.6422578184591915, 'precision': 0.6236185326791224, 'recall': 0.6422578184591915, 'f1-score': 0.6271345223386228, 'macro_f1-score': 0.38508467011573755, 'balanced_accuracy': 0.38874058852296506, 'mcc': 0.5214227668571442, 'train_loss': 0.09088434765925735}\n",
      "Early stopping.\n",
      "\n",
      "[Fold 3]\n",
      "🚀 Using T5-paraphraser for data augmentation + under-sampling\n",
      "🔻 Under-sampling label 0: 2471 → 2000\n",
      "🔧 Augmenting label 1: 22 → 200 (+178)\n",
      "🔧 Augmenting label 2: 64 → 200 (+136)\n",
      "🔧 Augmenting label 3: 24 → 200 (+176)\n",
      "🔧 Augmenting label 4: 190 → 200 (+10)\n",
      "🔧 Augmenting label 5: 113 → 200 (+87)\n",
      "🔧 Augmenting label 6: 93 → 200 (+107)\n",
      "🔧 Augmenting label 7: 30 → 200 (+170)\n",
      "🔧 Augmenting label 8: 68 → 200 (+132)\n",
      "🔧 Augmenting label 9: 30 → 200 (+170)\n",
      "🔧 Augmenting label 10: 67 → 200 (+133)\n",
      "🔧 Augmenting label 11: 169 → 200 (+31)\n",
      "🔧 Augmenting label 12: 190 → 200 (+10)\n",
      "🔧 Augmenting label 13: 28 → 200 (+172)\n",
      "🔧 Augmenting label 14: 23 → 200 (+177)\n",
      "🔧 Augmenting label 15: 25 → 200 (+175)\n",
      "🔧 Augmenting label 16: 19 → 200 (+181)\n",
      "🔧 Augmenting label 17: 182 → 200 (+18)\n",
      "🔧 Augmenting label 18: 92 → 200 (+108)\n",
      "🔧 Augmenting label 19: 44 → 200 (+156)\n",
      "🔧 Augmenting label 20: 14 → 200 (+186)\n",
      "🔧 Augmenting label 21: 35 → 200 (+165)\n",
      "🔧 Augmenting label 22: 76 → 200 (+124)\n",
      "🔧 Augmenting label 23: 157 → 200 (+43)\n",
      "🔧 Augmenting label 24: 13 → 200 (+187)\n",
      "🔧 Augmenting label 25: 44 → 200 (+156)\n",
      "🔧 Augmenting label 26: 84 → 200 (+116)\n",
      "🔧 Augmenting label 27: 48 → 200 (+152)\n",
      "🔧 Augmenting label 28: 11 → 200 (+189)\n",
      "🔧 Augmenting label 29: 13 → 200 (+187)\n",
      "🔧 Augmenting label 30: 11 → 200 (+189)\n",
      "🔧 Augmenting label 31: 76 → 200 (+124)\n",
      "🔧 Augmenting label 32: 36 → 200 (+164)\n",
      "🔧 Augmenting label 33: 31 → 200 (+169)\n",
      "🔧 Augmenting label 34: 30 → 200 (+170)\n",
      "🔧 Augmenting label 35: 11 → 200 (+189)\n",
      "🔧 Augmenting label 36: 21 → 200 (+179)\n",
      "🔧 Augmenting label 37: 16 → 200 (+184)\n",
      "🔧 Augmenting label 38: 32 → 200 (+168)\n",
      "🔧 Augmenting label 39: 11 → 200 (+189)\n",
      "🔧 Augmenting label 40: 9 → 200 (+191)\n",
      "🔧 Augmenting label 41: 57 → 200 (+143)\n",
      "🔧 Augmenting label 42: 18 → 200 (+182)\n",
      "🔧 Augmenting label 43: 9 → 200 (+191)\n",
      "🔧 Augmenting label 44: 55 → 200 (+145)\n",
      "🔧 Augmenting label 46: 62 → 200 (+138)\n",
      "🔧 Augmenting label 47: 80 → 200 (+120)\n",
      "Label distribution after resampling:\n",
      "  label 0: 2000\n",
      "  label 1: 200\n",
      "  label 2: 200\n",
      "  label 3: 200\n",
      "  label 4: 200\n",
      "  label 5: 200\n",
      "  label 6: 200\n",
      "  label 7: 200\n",
      "  label 8: 200\n",
      "  label 9: 200\n",
      "  label 10: 200\n",
      "  label 11: 200\n",
      "  label 12: 200\n",
      "  label 13: 200\n",
      "  label 14: 200\n",
      "  label 15: 200\n",
      "  label 16: 200\n",
      "  label 17: 200\n",
      "  label 18: 200\n",
      "  label 19: 200\n",
      "  label 20: 200\n",
      "  label 21: 200\n",
      "  label 22: 200\n",
      "  label 23: 200\n",
      "  label 24: 200\n",
      "  label 25: 200\n",
      "  label 26: 200\n",
      "  label 27: 200\n",
      "  label 28: 200\n",
      "  label 29: 200\n",
      "  label 30: 200\n",
      "  label 31: 200\n",
      "  label 32: 200\n",
      "  label 33: 200\n",
      "  label 34: 200\n",
      "  label 35: 200\n",
      "  label 36: 200\n",
      "  label 37: 200\n",
      "  label 38: 200\n",
      "  label 39: 200\n",
      "  label 40: 200\n",
      "  label 41: 200\n",
      "  label 42: 200\n",
      "  label 43: 200\n",
      "  label 44: 200\n",
      "  label 45: 241\n",
      "  label 46: 200\n",
      "  label 47: 200\n",
      "model is bert-base-uncased\n"
     ]
    },
    {
     "name": "stderr",
     "output_type": "stream",
     "text": [
      "Some weights of BertForSequenceClassification were not initialized from the model checkpoint at bert-base-uncased and are newly initialized: ['classifier.bias', 'classifier.weight']\n",
      "You should probably TRAIN this model on a down-stream task to be able to use it for predictions and inference.\n"
     ]
    },
    {
     "name": "stdout",
     "output_type": "stream",
     "text": [
      "Using weighted CrossEntropyLoss with weights: tensor([1.7441, 4.0466, 4.0466, 4.0466, 4.0466, 4.0466, 4.0466, 4.0466, 4.0466,\n",
      "        4.0466, 4.0466, 4.0466, 4.0466, 4.0466, 4.0466, 4.0466, 4.0466, 4.0466,\n",
      "        4.0466, 4.0466, 4.0466, 4.0466, 4.0466, 4.0466, 4.0466, 4.0466, 4.0466,\n",
      "        4.0466, 4.0466, 4.0466, 4.0466, 4.0466, 4.0466, 4.0466, 4.0466, 4.0466,\n",
      "        4.0466, 4.0466, 4.0466, 4.0466, 4.0466, 4.0466, 4.0466, 4.0466, 4.0466,\n",
      "        3.8602, 4.0466, 4.0466], device='cuda:0')\n",
      "Epoch 1/20\n"
     ]
    },
    {
     "name": "stderr",
     "output_type": "stream",
     "text": [
      "100%|██████████| 716/716 [00:59<00:00, 11.96it/s]\n"
     ]
    },
    {
     "name": "stdout",
     "output_type": "stream",
     "text": [
      "{'val_loss': 1.8926778086801854, 'val_accuracy': 0.6193745232646835, 'precision': 0.5354850919040011, 'recall': 0.6193745232646835, 'f1-score': 0.5489139814685831, 'macro_f1-score': 0.2790043817266417, 'balanced_accuracy': 0.27781795986250474, 'mcc': 0.46226172019089257, 'train_loss': 2.475732756060595}\n",
      "Epoch 2/20\n"
     ]
    },
    {
     "name": "stderr",
     "output_type": "stream",
     "text": [
      "100%|██████████| 716/716 [00:59<00:00, 11.94it/s]\n"
     ]
    },
    {
     "name": "stdout",
     "output_type": "stream",
     "text": [
      "{'val_loss': 1.7662875866744576, 'val_accuracy': 0.6254767353165522, 'precision': 0.5984387997879037, 'recall': 0.6254767353165522, 'f1-score': 0.590768965291199, 'macro_f1-score': 0.34050017456651016, 'balanced_accuracy': 0.3138329565150319, 'mcc': 0.48346348831051256, 'train_loss': 1.1096466362955018}\n",
      "Epoch 3/20\n"
     ]
    },
    {
     "name": "stderr",
     "output_type": "stream",
     "text": [
      "100%|██████████| 716/716 [01:00<00:00, 11.92it/s]\n"
     ]
    },
    {
     "name": "stdout",
     "output_type": "stream",
     "text": [
      "{'val_loss': 1.8501802497520679, 'val_accuracy': 0.631578947368421, 'precision': 0.6131964405266322, 'recall': 0.631578947368421, 'f1-score': 0.6042234574781831, 'macro_f1-score': 0.36802478107278297, 'balanced_accuracy': 0.3582099509567287, 'mcc': 0.5069872139383933, 'train_loss': 0.5490660738439284}\n",
      "Epoch 4/20\n"
     ]
    },
    {
     "name": "stderr",
     "output_type": "stream",
     "text": [
      "100%|██████████| 716/716 [01:00<00:00, 11.92it/s]\n"
     ]
    },
    {
     "name": "stdout",
     "output_type": "stream",
     "text": [
      "{'val_loss': 2.0896247505414776, 'val_accuracy': 0.6468344774980931, 'precision': 0.6375697306252143, 'recall': 0.6468344774980931, 'f1-score': 0.6218227882817089, 'macro_f1-score': 0.4008616844662749, 'balanced_accuracy': 0.36964653007379544, 'mcc': 0.515725367044006, 'train_loss': 0.2968219507943485}\n",
      "Epoch 5/20\n"
     ]
    },
    {
     "name": "stderr",
     "output_type": "stream",
     "text": [
      "100%|██████████| 716/716 [01:00<00:00, 11.91it/s]\n"
     ]
    },
    {
     "name": "stdout",
     "output_type": "stream",
     "text": [
      "{'val_loss': 2.110120110395478, 'val_accuracy': 0.6247139588100686, 'precision': 0.6395388561320395, 'recall': 0.6247139588100686, 'f1-score': 0.6198688959428924, 'macro_f1-score': 0.40427744899923795, 'balanced_accuracy': 0.3815264891271855, 'mcc': 0.5005473136419639, 'train_loss': 0.18354281002731068}\n",
      "Epoch 6/20\n"
     ]
    },
    {
     "name": "stderr",
     "output_type": "stream",
     "text": [
      "100%|██████████| 716/716 [01:00<00:00, 11.92it/s]\n"
     ]
    },
    {
     "name": "stdout",
     "output_type": "stream",
     "text": [
      "{'val_loss': 2.2220475475599124, 'val_accuracy': 0.601067887109077, 'precision': 0.62757036243532, 'recall': 0.601067887109077, 'f1-score': 0.6037094993790645, 'macro_f1-score': 0.37944048092619104, 'balanced_accuracy': 0.3865824955043813, 'mcc': 0.49466168435880864, 'train_loss': 0.12812563810853922}\n",
      "Epoch 7/20\n"
     ]
    },
    {
     "name": "stderr",
     "output_type": "stream",
     "text": [
      "100%|██████████| 716/716 [01:00<00:00, 11.91it/s]\n"
     ]
    },
    {
     "name": "stdout",
     "output_type": "stream",
     "text": [
      "{'val_loss': 2.2622491372067755, 'val_accuracy': 0.6216628527841342, 'precision': 0.6375106858498695, 'recall': 0.6216628527841342, 'f1-score': 0.6207873176211763, 'macro_f1-score': 0.41473498709288964, 'balanced_accuracy': 0.40371061265061065, 'mcc': 0.5053176815296756, 'train_loss': 0.12301781328197298}\n",
      "Epoch 8/20\n"
     ]
    },
    {
     "name": "stderr",
     "output_type": "stream",
     "text": [
      "100%|██████████| 716/716 [01:00<00:00, 11.92it/s]\n"
     ]
    },
    {
     "name": "stdout",
     "output_type": "stream",
     "text": [
      "{'val_loss': 2.5164000325631806, 'val_accuracy': 0.623951182303585, 'precision': 0.6377661486883147, 'recall': 0.623951182303585, 'f1-score': 0.6226607217713307, 'macro_f1-score': 0.42378718214187633, 'balanced_accuracy': 0.4257748064917135, 'mcc': 0.5097673777211228, 'train_loss': 0.07594057143920793}\n",
      "Epoch 9/20\n"
     ]
    },
    {
     "name": "stderr",
     "output_type": "stream",
     "text": [
      "100%|██████████| 716/716 [01:00<00:00, 11.91it/s]\n"
     ]
    },
    {
     "name": "stdout",
     "output_type": "stream",
     "text": [
      "{'val_loss': 2.477852585657341, 'val_accuracy': 0.6407322654462243, 'precision': 0.6314514495338299, 'recall': 0.6407322654462243, 'f1-score': 0.6184532958551648, 'macro_f1-score': 0.39721430824835285, 'balanced_accuracy': 0.3626326291628344, 'mcc': 0.5099419695294101, 'train_loss': 0.09182973652648839}\n",
      "Epoch 10/20\n"
     ]
    },
    {
     "name": "stderr",
     "output_type": "stream",
     "text": [
      "100%|██████████| 716/716 [01:00<00:00, 11.91it/s]\n"
     ]
    },
    {
     "name": "stdout",
     "output_type": "stream",
     "text": [
      "{'val_loss': 2.962400286390287, 'val_accuracy': 0.6559877955758963, 'precision': 0.6368871250180911, 'recall': 0.6559877955758963, 'f1-score': 0.6284493652770575, 'macro_f1-score': 0.4100058593302533, 'balanced_accuracy': 0.37940312050206565, 'mcc': 0.5261185961589031, 'train_loss': 0.055791756612809336}\n",
      "Epoch 11/20\n"
     ]
    },
    {
     "name": "stderr",
     "output_type": "stream",
     "text": [
      "100%|██████████| 716/716 [01:00<00:00, 11.91it/s]\n"
     ]
    },
    {
     "name": "stdout",
     "output_type": "stream",
     "text": [
      "{'val_loss': 2.690877393978398, 'val_accuracy': 0.6308161708619374, 'precision': 0.6368605724295031, 'recall': 0.6308161708619374, 'f1-score': 0.625489721784694, 'macro_f1-score': 0.4118436957927824, 'balanced_accuracy': 0.41006441824361134, 'mcc': 0.5210472528038936, 'train_loss': 0.06289385155548326}\n",
      "Early stopping.\n",
      "\n",
      "[Fold 4]\n",
      "🚀 Using T5-paraphraser for data augmentation + under-sampling\n",
      "🔻 Under-sampling label 0: 2471 → 2000\n",
      "🔧 Augmenting label 1: 22 → 200 (+178)\n",
      "🔧 Augmenting label 2: 64 → 200 (+136)\n",
      "🔧 Augmenting label 3: 24 → 200 (+176)\n",
      "🔧 Augmenting label 4: 190 → 200 (+10)\n",
      "🔧 Augmenting label 5: 113 → 200 (+87)\n",
      "🔧 Augmenting label 6: 93 → 200 (+107)\n",
      "🔧 Augmenting label 7: 31 → 200 (+169)\n",
      "🔧 Augmenting label 8: 68 → 200 (+132)\n",
      "🔧 Augmenting label 9: 29 → 200 (+171)\n",
      "🔧 Augmenting label 10: 67 → 200 (+133)\n",
      "🔧 Augmenting label 11: 169 → 200 (+31)\n",
      "🔧 Augmenting label 12: 190 → 200 (+10)\n",
      "🔧 Augmenting label 13: 29 → 200 (+171)\n",
      "🔧 Augmenting label 14: 22 → 200 (+178)\n",
      "🔧 Augmenting label 15: 25 → 200 (+175)\n",
      "🔧 Augmenting label 16: 19 → 200 (+181)\n",
      "🔧 Augmenting label 17: 182 → 200 (+18)\n",
      "🔧 Augmenting label 18: 92 → 200 (+108)\n",
      "🔧 Augmenting label 19: 44 → 200 (+156)\n",
      "🔧 Augmenting label 20: 14 → 200 (+186)\n",
      "🔧 Augmenting label 21: 35 → 200 (+165)\n",
      "🔧 Augmenting label 22: 76 → 200 (+124)\n",
      "🔧 Augmenting label 23: 158 → 200 (+42)\n",
      "🔧 Augmenting label 24: 13 → 200 (+187)\n",
      "🔧 Augmenting label 25: 44 → 200 (+156)\n",
      "🔧 Augmenting label 26: 84 → 200 (+116)\n",
      "🔧 Augmenting label 27: 48 → 200 (+152)\n",
      "🔧 Augmenting label 28: 11 → 200 (+189)\n",
      "🔧 Augmenting label 29: 13 → 200 (+187)\n",
      "🔧 Augmenting label 30: 11 → 200 (+189)\n",
      "🔧 Augmenting label 31: 75 → 200 (+125)\n",
      "🔧 Augmenting label 32: 36 → 200 (+164)\n",
      "🔧 Augmenting label 33: 31 → 200 (+169)\n",
      "🔧 Augmenting label 34: 30 → 200 (+170)\n",
      "🔧 Augmenting label 35: 11 → 200 (+189)\n",
      "🔧 Augmenting label 36: 22 → 200 (+178)\n",
      "🔧 Augmenting label 37: 16 → 200 (+184)\n",
      "🔧 Augmenting label 38: 33 → 200 (+167)\n",
      "🔧 Augmenting label 39: 10 → 200 (+190)\n",
      "🔧 Augmenting label 40: 9 → 200 (+191)\n",
      "🔧 Augmenting label 41: 56 → 200 (+144)\n",
      "🔧 Augmenting label 42: 18 → 200 (+182)\n",
      "🔧 Augmenting label 43: 9 → 200 (+191)\n",
      "🔧 Augmenting label 44: 55 → 200 (+145)\n",
      "🔧 Augmenting label 46: 62 → 200 (+138)\n",
      "🔧 Augmenting label 47: 80 → 200 (+120)\n",
      "Label distribution after resampling:\n",
      "  label 0: 2000\n",
      "  label 1: 200\n",
      "  label 2: 200\n",
      "  label 3: 200\n",
      "  label 4: 200\n",
      "  label 5: 200\n",
      "  label 6: 200\n",
      "  label 7: 200\n",
      "  label 8: 200\n",
      "  label 9: 200\n",
      "  label 10: 200\n",
      "  label 11: 200\n",
      "  label 12: 200\n",
      "  label 13: 200\n",
      "  label 14: 200\n",
      "  label 15: 200\n",
      "  label 16: 200\n",
      "  label 17: 200\n",
      "  label 18: 200\n",
      "  label 19: 200\n",
      "  label 20: 200\n",
      "  label 21: 200\n",
      "  label 22: 200\n",
      "  label 23: 200\n",
      "  label 24: 200\n",
      "  label 25: 200\n",
      "  label 26: 200\n",
      "  label 27: 200\n",
      "  label 28: 200\n",
      "  label 29: 200\n",
      "  label 30: 200\n",
      "  label 31: 200\n",
      "  label 32: 200\n",
      "  label 33: 200\n",
      "  label 34: 200\n",
      "  label 35: 200\n",
      "  label 36: 200\n",
      "  label 37: 200\n",
      "  label 38: 200\n",
      "  label 39: 200\n",
      "  label 40: 200\n",
      "  label 41: 200\n",
      "  label 42: 200\n",
      "  label 43: 200\n",
      "  label 44: 200\n",
      "  label 45: 241\n",
      "  label 46: 200\n",
      "  label 47: 200\n",
      "model is bert-base-uncased\n"
     ]
    },
    {
     "name": "stderr",
     "output_type": "stream",
     "text": [
      "Some weights of BertForSequenceClassification were not initialized from the model checkpoint at bert-base-uncased and are newly initialized: ['classifier.bias', 'classifier.weight']\n",
      "You should probably TRAIN this model on a down-stream task to be able to use it for predictions and inference.\n"
     ]
    },
    {
     "name": "stdout",
     "output_type": "stream",
     "text": [
      "Using weighted CrossEntropyLoss with weights: tensor([1.7441, 4.0466, 4.0466, 4.0466, 4.0466, 4.0466, 4.0466, 4.0466, 4.0466,\n",
      "        4.0466, 4.0466, 4.0466, 4.0466, 4.0466, 4.0466, 4.0466, 4.0466, 4.0466,\n",
      "        4.0466, 4.0466, 4.0466, 4.0466, 4.0466, 4.0466, 4.0466, 4.0466, 4.0466,\n",
      "        4.0466, 4.0466, 4.0466, 4.0466, 4.0466, 4.0466, 4.0466, 4.0466, 4.0466,\n",
      "        4.0466, 4.0466, 4.0466, 4.0466, 4.0466, 4.0466, 4.0466, 4.0466, 4.0466,\n",
      "        3.8602, 4.0466, 4.0466], device='cuda:0')\n",
      "Epoch 1/20\n"
     ]
    },
    {
     "name": "stderr",
     "output_type": "stream",
     "text": [
      "100%|██████████| 716/716 [00:59<00:00, 11.97it/s]\n"
     ]
    },
    {
     "name": "stdout",
     "output_type": "stream",
     "text": [
      "{'val_loss': 1.799946475319746, 'val_accuracy': 0.6140350877192983, 'precision': 0.5868478729761761, 'recall': 0.6140350877192983, 'f1-score': 0.5736270716355323, 'macro_f1-score': 0.324189472685835, 'balanced_accuracy': 0.34778282427009954, 'mcc': 0.46776142028055717, 'train_loss': 2.4252288868161718}\n",
      "Epoch 2/20\n"
     ]
    },
    {
     "name": "stderr",
     "output_type": "stream",
     "text": [
      "100%|██████████| 716/716 [01:00<00:00, 11.92it/s]\n"
     ]
    },
    {
     "name": "stdout",
     "output_type": "stream",
     "text": [
      "{'val_loss': 1.6813022719650734, 'val_accuracy': 0.6536994660564455, 'precision': 0.6180088572063714, 'recall': 0.6536994660564455, 'f1-score': 0.615920338503513, 'macro_f1-score': 0.37720935301947706, 'balanced_accuracy': 0.3632116514507355, 'mcc': 0.519938219658674, 'train_loss': 0.9997742994371073}\n",
      "Epoch 3/20\n"
     ]
    },
    {
     "name": "stderr",
     "output_type": "stream",
     "text": [
      "100%|██████████| 716/716 [01:00<00:00, 11.92it/s]\n"
     ]
    },
    {
     "name": "stdout",
     "output_type": "stream",
     "text": [
      "{'val_loss': 1.829511483540622, 'val_accuracy': 0.6681922196796338, 'precision': 0.6497766048074691, 'recall': 0.6681922196796338, 'f1-score': 0.6415599866687424, 'macro_f1-score': 0.415012222719443, 'balanced_accuracy': 0.3795762211493203, 'mcc': 0.5422782951034273, 'train_loss': 0.4798268651272373}\n",
      "Epoch 4/20\n"
     ]
    },
    {
     "name": "stderr",
     "output_type": "stream",
     "text": [
      "100%|██████████| 716/716 [01:00<00:00, 11.92it/s]\n"
     ]
    },
    {
     "name": "stdout",
     "output_type": "stream",
     "text": [
      "{'val_loss': 1.9277481698408359, 'val_accuracy': 0.627765064836003, 'precision': 0.638502896388187, 'recall': 0.627765064836003, 'f1-score': 0.6272596878525936, 'macro_f1-score': 0.4210607735736402, 'balanced_accuracy': 0.4354258946870934, 'mcc': 0.5180285352251, 'train_loss': 0.25173855343099955}\n",
      "Epoch 5/20\n"
     ]
    },
    {
     "name": "stderr",
     "output_type": "stream",
     "text": [
      "100%|██████████| 716/716 [01:00<00:00, 11.93it/s]\n"
     ]
    },
    {
     "name": "stdout",
     "output_type": "stream",
     "text": [
      "{'val_loss': 2.0985486929009602, 'val_accuracy': 0.669717772692601, 'precision': 0.669119386745174, 'recall': 0.669717772692601, 'f1-score': 0.6567970072723336, 'macro_f1-score': 0.43809627062300677, 'balanced_accuracy': 0.419082300294078, 'mcc': 0.5539655261195783, 'train_loss': 0.15807441714500706}\n",
      "Epoch 6/20\n"
     ]
    },
    {
     "name": "stderr",
     "output_type": "stream",
     "text": [
      "100%|██████████| 716/716 [01:00<00:00, 11.92it/s]\n"
     ]
    },
    {
     "name": "stdout",
     "output_type": "stream",
     "text": [
      "{'val_loss': 2.149251399607193, 'val_accuracy': 0.6247139588100686, 'precision': 0.6544647804596591, 'recall': 0.6247139588100686, 'f1-score': 0.6283625676737832, 'macro_f1-score': 0.426877030875243, 'balanced_accuracy': 0.43269791266802504, 'mcc': 0.519349899940465, 'train_loss': 0.11676225491523659}\n",
      "Epoch 7/20\n"
     ]
    },
    {
     "name": "stderr",
     "output_type": "stream",
     "text": [
      "100%|██████████| 716/716 [01:00<00:00, 11.91it/s]\n"
     ]
    },
    {
     "name": "stdout",
     "output_type": "stream",
     "text": [
      "{'val_loss': 2.220722144333328, 'val_accuracy': 0.6430205949656751, 'precision': 0.665020336623246, 'recall': 0.6430205949656751, 'f1-score': 0.6454251179446843, 'macro_f1-score': 0.42473825091457923, 'balanced_accuracy': 0.4601137120513273, 'mcc': 0.5447976788036508, 'train_loss': 0.11942042675657541}\n",
      "Epoch 8/20\n"
     ]
    },
    {
     "name": "stderr",
     "output_type": "stream",
     "text": [
      "100%|██████████| 716/716 [01:00<00:00, 11.91it/s]\n"
     ]
    },
    {
     "name": "stdout",
     "output_type": "stream",
     "text": [
      "{'val_loss': 2.484774522483349, 'val_accuracy': 0.6407322654462243, 'precision': 0.6324536927990912, 'recall': 0.6407322654462243, 'f1-score': 0.624016859908854, 'macro_f1-score': 0.3722982920604038, 'balanced_accuracy': 0.3808426032890125, 'mcc': 0.5194970936892852, 'train_loss': 0.0789255671562138}\n",
      "Early stopping.\n",
      "\n",
      "[Fold 5]\n",
      "🚀 Using T5-paraphraser for data augmentation + under-sampling\n",
      "🔻 Under-sampling label 0: 2472 → 2000\n",
      "🔧 Augmenting label 1: 21 → 200 (+179)\n",
      "🔧 Augmenting label 2: 64 → 200 (+136)\n",
      "🔧 Augmenting label 3: 24 → 200 (+176)\n",
      "🔧 Augmenting label 4: 191 → 200 (+9)\n",
      "🔧 Augmenting label 5: 112 → 200 (+88)\n",
      "🔧 Augmenting label 6: 92 → 200 (+108)\n",
      "🔧 Augmenting label 7: 31 → 200 (+169)\n",
      "🔧 Augmenting label 8: 68 → 200 (+132)\n",
      "🔧 Augmenting label 9: 29 → 200 (+171)\n",
      "🔧 Augmenting label 10: 68 → 200 (+132)\n",
      "🔧 Augmenting label 11: 168 → 200 (+32)\n",
      "🔧 Augmenting label 12: 190 → 200 (+10)\n",
      "🔧 Augmenting label 13: 29 → 200 (+171)\n",
      "🔧 Augmenting label 14: 22 → 200 (+178)\n",
      "🔧 Augmenting label 15: 25 → 200 (+175)\n",
      "🔧 Augmenting label 16: 19 → 200 (+181)\n",
      "🔧 Augmenting label 17: 183 → 200 (+17)\n",
      "🔧 Augmenting label 18: 92 → 200 (+108)\n",
      "🔧 Augmenting label 19: 44 → 200 (+156)\n",
      "🔧 Augmenting label 20: 14 → 200 (+186)\n",
      "🔧 Augmenting label 21: 35 → 200 (+165)\n",
      "🔧 Augmenting label 22: 76 → 200 (+124)\n",
      "🔧 Augmenting label 23: 158 → 200 (+42)\n",
      "🔧 Augmenting label 24: 13 → 200 (+187)\n",
      "🔧 Augmenting label 25: 44 → 200 (+156)\n",
      "🔧 Augmenting label 26: 84 → 200 (+116)\n",
      "🔧 Augmenting label 27: 48 → 200 (+152)\n",
      "🔧 Augmenting label 28: 11 → 200 (+189)\n",
      "🔧 Augmenting label 29: 13 → 200 (+187)\n",
      "🔧 Augmenting label 30: 11 → 200 (+189)\n",
      "🔧 Augmenting label 31: 75 → 200 (+125)\n",
      "🔧 Augmenting label 32: 36 → 200 (+164)\n",
      "🔧 Augmenting label 33: 31 → 200 (+169)\n",
      "🔧 Augmenting label 34: 30 → 200 (+170)\n",
      "🔧 Augmenting label 35: 11 → 200 (+189)\n",
      "🔧 Augmenting label 36: 22 → 200 (+178)\n",
      "🔧 Augmenting label 37: 16 → 200 (+184)\n",
      "🔧 Augmenting label 38: 33 → 200 (+167)\n",
      "🔧 Augmenting label 39: 10 → 200 (+190)\n",
      "🔧 Augmenting label 40: 9 → 200 (+191)\n",
      "🔧 Augmenting label 41: 57 → 200 (+143)\n",
      "🔧 Augmenting label 42: 18 → 200 (+182)\n",
      "🔧 Augmenting label 43: 9 → 200 (+191)\n",
      "🔧 Augmenting label 44: 54 → 200 (+146)\n",
      "🔧 Augmenting label 46: 61 → 200 (+139)\n",
      "🔧 Augmenting label 47: 80 → 200 (+120)\n",
      "Label distribution after resampling:\n",
      "  label 0: 2000\n",
      "  label 1: 200\n",
      "  label 2: 200\n",
      "  label 3: 200\n",
      "  label 4: 200\n",
      "  label 5: 200\n",
      "  label 6: 200\n",
      "  label 7: 200\n",
      "  label 8: 200\n",
      "  label 9: 200\n",
      "  label 10: 200\n",
      "  label 11: 200\n",
      "  label 12: 200\n",
      "  label 13: 200\n",
      "  label 14: 200\n",
      "  label 15: 200\n",
      "  label 16: 200\n",
      "  label 17: 200\n",
      "  label 18: 200\n",
      "  label 19: 200\n",
      "  label 20: 200\n",
      "  label 21: 200\n",
      "  label 22: 200\n",
      "  label 23: 200\n",
      "  label 24: 200\n",
      "  label 25: 200\n",
      "  label 26: 200\n",
      "  label 27: 200\n",
      "  label 28: 200\n",
      "  label 29: 200\n",
      "  label 30: 200\n",
      "  label 31: 200\n",
      "  label 32: 200\n",
      "  label 33: 200\n",
      "  label 34: 200\n",
      "  label 35: 200\n",
      "  label 36: 200\n",
      "  label 37: 200\n",
      "  label 38: 200\n",
      "  label 39: 200\n",
      "  label 40: 200\n",
      "  label 41: 200\n",
      "  label 42: 200\n",
      "  label 43: 200\n",
      "  label 44: 200\n",
      "  label 45: 242\n",
      "  label 46: 200\n",
      "  label 47: 200\n",
      "model is bert-base-uncased\n"
     ]
    },
    {
     "name": "stderr",
     "output_type": "stream",
     "text": [
      "Some weights of BertForSequenceClassification were not initialized from the model checkpoint at bert-base-uncased and are newly initialized: ['classifier.bias', 'classifier.weight']\n",
      "You should probably TRAIN this model on a down-stream task to be able to use it for predictions and inference.\n"
     ]
    },
    {
     "name": "stdout",
     "output_type": "stream",
     "text": [
      "Using weighted CrossEntropyLoss with weights: tensor([1.7441, 4.0467, 4.0467, 4.0467, 4.0467, 4.0467, 4.0467, 4.0467, 4.0467,\n",
      "        4.0467, 4.0467, 4.0467, 4.0467, 4.0467, 4.0467, 4.0467, 4.0467, 4.0467,\n",
      "        4.0467, 4.0467, 4.0467, 4.0467, 4.0467, 4.0467, 4.0467, 4.0467, 4.0467,\n",
      "        4.0467, 4.0467, 4.0467, 4.0467, 4.0467, 4.0467, 4.0467, 4.0467, 4.0467,\n",
      "        4.0467, 4.0467, 4.0467, 4.0467, 4.0467, 4.0467, 4.0467, 4.0467, 4.0467,\n",
      "        3.8561, 4.0467, 4.0467], device='cuda:0')\n",
      "Epoch 1/20\n"
     ]
    },
    {
     "name": "stderr",
     "output_type": "stream",
     "text": [
      "100%|██████████| 716/716 [00:59<00:00, 11.96it/s]\n"
     ]
    },
    {
     "name": "stdout",
     "output_type": "stream",
     "text": [
      "{'val_loss': 1.7297154461465232, 'val_accuracy': 0.6086956521739131, 'precision': 0.5603097466874695, 'recall': 0.6086956521739131, 'f1-score': 0.5593311821564803, 'macro_f1-score': 0.28486572602416016, 'balanced_accuracy': 0.30750225500912487, 'mcc': 0.45955455501637477, 'train_loss': 2.4317878832697204}\n",
      "Epoch 2/20\n"
     ]
    },
    {
     "name": "stderr",
     "output_type": "stream",
     "text": [
      "100%|██████████| 716/716 [01:00<00:00, 11.93it/s]\n"
     ]
    },
    {
     "name": "stdout",
     "output_type": "stream",
     "text": [
      "{'val_loss': 1.5369975821274082, 'val_accuracy': 0.6376811594202898, 'precision': 0.6262574158495572, 'recall': 0.6376811594202898, 'f1-score': 0.6262729218603812, 'macro_f1-score': 0.39388702858324964, 'balanced_accuracy': 0.40936900424777173, 'mcc': 0.5214015203740944, 'train_loss': 1.0302147025752333}\n",
      "Epoch 3/20\n"
     ]
    },
    {
     "name": "stderr",
     "output_type": "stream",
     "text": [
      "100%|██████████| 716/716 [01:00<00:00, 11.91it/s]\n"
     ]
    },
    {
     "name": "stdout",
     "output_type": "stream",
     "text": [
      "{'val_loss': 1.641191913950734, 'val_accuracy': 0.6437833714721587, 'precision': 0.6615908433637911, 'recall': 0.6437833714721587, 'f1-score': 0.6431500992640106, 'macro_f1-score': 0.4324669151208243, 'balanced_accuracy': 0.4343700132140366, 'mcc': 0.5403981667857314, 'train_loss': 0.5021979915727367}\n",
      "Epoch 4/20\n"
     ]
    },
    {
     "name": "stderr",
     "output_type": "stream",
     "text": [
      "100%|██████████| 716/716 [01:00<00:00, 11.93it/s]\n"
     ]
    },
    {
     "name": "stdout",
     "output_type": "stream",
     "text": [
      "{'val_loss': 1.8927567681161368, 'val_accuracy': 0.6460717009916095, 'precision': 0.6596746913058598, 'recall': 0.6460717009916095, 'f1-score': 0.6404819831021843, 'macro_f1-score': 0.3908578210871998, 'balanced_accuracy': 0.3891088354937038, 'mcc': 0.5315861818255864, 'train_loss': 0.25882856587114533}\n",
      "Epoch 5/20\n"
     ]
    },
    {
     "name": "stderr",
     "output_type": "stream",
     "text": [
      "100%|██████████| 716/716 [01:00<00:00, 11.92it/s]\n"
     ]
    },
    {
     "name": "stdout",
     "output_type": "stream",
     "text": [
      "{'val_loss': 2.247468765189008, 'val_accuracy': 0.6598016781083142, 'precision': 0.6428926808685924, 'recall': 0.6598016781083142, 'f1-score': 0.6335608521637863, 'macro_f1-score': 0.4154283241150732, 'balanced_accuracy': 0.3815356667144099, 'mcc': 0.5329136840787145, 'train_loss': 0.15305381126873527}\n",
      "Epoch 6/20\n"
     ]
    },
    {
     "name": "stderr",
     "output_type": "stream",
     "text": [
      "100%|██████████| 716/716 [01:00<00:00, 11.93it/s]\n"
     ]
    },
    {
     "name": "stdout",
     "output_type": "stream",
     "text": [
      "{'val_loss': 2.0406805713002276, 'val_accuracy': 0.6193745232646835, 'precision': 0.6675902879542529, 'recall': 0.6193745232646835, 'f1-score': 0.6230141314567451, 'macro_f1-score': 0.44006583021224394, 'balanced_accuracy': 0.42173357368245634, 'mcc': 0.5183636224886476, 'train_loss': 0.13015847277109557}\n",
      "Epoch 7/20\n"
     ]
    },
    {
     "name": "stderr",
     "output_type": "stream",
     "text": [
      "100%|██████████| 716/716 [01:00<00:00, 11.92it/s]\n"
     ]
    },
    {
     "name": "stdout",
     "output_type": "stream",
     "text": [
      "{'val_loss': 2.349866136545088, 'val_accuracy': 0.6628527841342486, 'precision': 0.6499868635156082, 'recall': 0.6628527841342486, 'f1-score': 0.6297062903082103, 'macro_f1-score': 0.40981912885744093, 'balanced_accuracy': 0.3790154385477091, 'mcc': 0.5357228898214175, 'train_loss': 0.108179717123061}\n",
      "Epoch 8/20\n"
     ]
    },
    {
     "name": "stderr",
     "output_type": "stream",
     "text": [
      "100%|██████████| 716/716 [01:00<00:00, 11.92it/s]\n"
     ]
    },
    {
     "name": "stdout",
     "output_type": "stream",
     "text": [
      "{'val_loss': 2.3532451689243317, 'val_accuracy': 0.6132723112128147, 'precision': 0.6712238817512151, 'recall': 0.6132723112128147, 'f1-score': 0.6255030514999353, 'macro_f1-score': 0.4202662767567908, 'balanced_accuracy': 0.4478749076948388, 'mcc': 0.5218807117292346, 'train_loss': 0.06403171778337864}\n",
      "Epoch 9/20\n"
     ]
    },
    {
     "name": "stderr",
     "output_type": "stream",
     "text": [
      "100%|██████████| 716/716 [01:00<00:00, 11.91it/s]\n"
     ]
    },
    {
     "name": "stdout",
     "output_type": "stream",
     "text": [
      "{'val_loss': 2.280378734193197, 'val_accuracy': 0.6117467581998475, 'precision': 0.6763703291487256, 'recall': 0.6117467581998475, 'f1-score': 0.6251656987490377, 'macro_f1-score': 0.4286385931173668, 'balanced_accuracy': 0.4578735818991828, 'mcc': 0.5218326007767188, 'train_loss': 0.10082363998536906}\n",
      "Early stopping.\n",
      "\n",
      " === bert-base-uncased + plain + t5 Final 5-fold Cross-Validation Results ===\n",
      "val_loss: 2.2290\n",
      "val_accuracy: 0.6394\n",
      "precision: 0.6507\n",
      "recall: 0.6394\n",
      "f1-score: 0.6325\n",
      "macro_f1-score: 0.4243\n",
      "balanced_accuracy: 0.4127\n",
      "mcc: 0.5252\n",
      "train_loss: 0.1157\n",
      "total_seconds: 11206.0000\n",
      "total_time: 3 hrs 6 mins 46 secs\n",
      "▶ Running: bert-base-uncased + cnn + t5\n",
      "tokenizer is bert-base-uncased\n",
      "Using device: cuda\n",
      "CUDA Available: True\n",
      "CUDA Device: NVIDIA GeForce RTX 5070 Ti\n",
      "Current GPU Memory Allocated: 0.02 GB\n",
      "Current GPU Memory Cached: 3.15 GB\n",
      "\n",
      "[Fold 1]\n",
      "🚀 Using T5-paraphraser for data augmentation + under-sampling\n",
      "🔻 Under-sampling label 0: 2471 → 2000\n",
      "🔧 Augmenting label 1: 21 → 200 (+179)\n",
      "🔧 Augmenting label 2: 64 → 200 (+136)\n",
      "🔧 Augmenting label 3: 24 → 200 (+176)\n",
      "🔧 Augmenting label 4: 191 → 200 (+9)\n",
      "🔧 Augmenting label 5: 113 → 200 (+87)\n",
      "🔧 Augmenting label 6: 93 → 200 (+107)\n",
      "🔧 Augmenting label 7: 30 → 200 (+170)\n",
      "🔧 Augmenting label 8: 68 → 200 (+132)\n",
      "🔧 Augmenting label 9: 30 → 200 (+170)\n",
      "🔧 Augmenting label 10: 67 → 200 (+133)\n",
      "🔧 Augmenting label 11: 169 → 200 (+31)\n",
      "🔧 Augmenting label 12: 189 → 200 (+11)\n",
      "🔧 Augmenting label 13: 29 → 200 (+171)\n",
      "🔧 Augmenting label 14: 22 → 200 (+178)\n",
      "🔧 Augmenting label 15: 25 → 200 (+175)\n",
      "🔧 Augmenting label 16: 19 → 200 (+181)\n",
      "🔧 Augmenting label 17: 183 → 200 (+17)\n",
      "🔧 Augmenting label 18: 92 → 200 (+108)\n",
      "🔧 Augmenting label 19: 44 → 200 (+156)\n",
      "🔧 Augmenting label 20: 13 → 200 (+187)\n",
      "🔧 Augmenting label 21: 35 → 200 (+165)\n",
      "🔧 Augmenting label 22: 76 → 200 (+124)\n",
      "🔧 Augmenting label 23: 158 → 200 (+42)\n",
      "🔧 Augmenting label 24: 13 → 200 (+187)\n",
      "🔧 Augmenting label 25: 44 → 200 (+156)\n",
      "🔧 Augmenting label 26: 84 → 200 (+116)\n",
      "🔧 Augmenting label 27: 48 → 200 (+152)\n",
      "🔧 Augmenting label 28: 11 → 200 (+189)\n",
      "🔧 Augmenting label 29: 13 → 200 (+187)\n",
      "🔧 Augmenting label 30: 11 → 200 (+189)\n",
      "🔧 Augmenting label 31: 75 → 200 (+125)\n",
      "🔧 Augmenting label 32: 36 → 200 (+164)\n",
      "🔧 Augmenting label 33: 32 → 200 (+168)\n",
      "🔧 Augmenting label 34: 29 → 200 (+171)\n",
      "🔧 Augmenting label 35: 11 → 200 (+189)\n",
      "🔧 Augmenting label 36: 22 → 200 (+178)\n",
      "🔧 Augmenting label 37: 16 → 200 (+184)\n",
      "🔧 Augmenting label 38: 33 → 200 (+167)\n",
      "🔧 Augmenting label 39: 10 → 200 (+190)\n",
      "🔧 Augmenting label 40: 9 → 200 (+191)\n",
      "🔧 Augmenting label 41: 57 → 200 (+143)\n",
      "🔧 Augmenting label 42: 19 → 200 (+181)\n",
      "🔧 Augmenting label 43: 8 → 200 (+192)\n",
      "🔧 Augmenting label 44: 54 → 200 (+146)\n",
      "🔧 Augmenting label 46: 61 → 200 (+139)\n",
      "🔧 Augmenting label 47: 80 → 200 (+120)\n",
      "Label distribution after resampling:\n",
      "  label 0: 2000\n",
      "  label 1: 200\n",
      "  label 2: 200\n",
      "  label 3: 200\n",
      "  label 4: 200\n",
      "  label 5: 200\n",
      "  label 6: 200\n",
      "  label 7: 200\n",
      "  label 8: 200\n",
      "  label 9: 200\n",
      "  label 10: 200\n",
      "  label 11: 200\n",
      "  label 12: 200\n",
      "  label 13: 200\n",
      "  label 14: 200\n",
      "  label 15: 200\n",
      "  label 16: 200\n",
      "  label 17: 200\n",
      "  label 18: 200\n",
      "  label 19: 200\n",
      "  label 20: 200\n",
      "  label 21: 200\n",
      "  label 22: 200\n",
      "  label 23: 200\n",
      "  label 24: 200\n",
      "  label 25: 200\n",
      "  label 26: 200\n",
      "  label 27: 200\n",
      "  label 28: 200\n",
      "  label 29: 200\n",
      "  label 30: 200\n",
      "  label 31: 200\n",
      "  label 32: 200\n",
      "  label 33: 200\n",
      "  label 34: 200\n",
      "  label 35: 200\n",
      "  label 36: 200\n",
      "  label 37: 200\n",
      "  label 38: 200\n",
      "  label 39: 200\n",
      "  label 40: 200\n",
      "  label 41: 200\n",
      "  label 42: 200\n",
      "  label 43: 200\n",
      "  label 44: 200\n",
      "  label 45: 242\n",
      "  label 46: 200\n",
      "  label 47: 200\n",
      "model is bert-base-uncased cnn\n",
      "Using weighted CrossEntropyLoss with weights: tensor([1.7441, 4.0467, 4.0467, 4.0467, 4.0467, 4.0467, 4.0467, 4.0467, 4.0467,\n",
      "        4.0467, 4.0467, 4.0467, 4.0467, 4.0467, 4.0467, 4.0467, 4.0467, 4.0467,\n",
      "        4.0467, 4.0467, 4.0467, 4.0467, 4.0467, 4.0467, 4.0467, 4.0467, 4.0467,\n",
      "        4.0467, 4.0467, 4.0467, 4.0467, 4.0467, 4.0467, 4.0467, 4.0467, 4.0467,\n",
      "        4.0467, 4.0467, 4.0467, 4.0467, 4.0467, 4.0467, 4.0467, 4.0467, 4.0467,\n",
      "        3.8561, 4.0467, 4.0467], device='cuda:0')\n",
      "Epoch 1/20\n"
     ]
    },
    {
     "name": "stderr",
     "output_type": "stream",
     "text": [
      "100%|██████████| 716/716 [01:01<00:00, 11.67it/s]\n"
     ]
    },
    {
     "name": "stdout",
     "output_type": "stream",
     "text": [
      "{'val_loss': 2.0120418660524413, 'val_accuracy': 0.5533536585365854, 'precision': 0.4992479055742072, 'recall': 0.5533536585365854, 'f1-score': 0.5020943829804937, 'macro_f1-score': 0.24844646386178346, 'balanced_accuracy': 0.2914222364710047, 'mcc': 0.3844818715373385, 'train_loss': 2.738235230385924}\n",
      "Epoch 2/20\n"
     ]
    },
    {
     "name": "stderr",
     "output_type": "stream",
     "text": [
      "100%|██████████| 716/716 [01:01<00:00, 11.69it/s]\n"
     ]
    },
    {
     "name": "stdout",
     "output_type": "stream",
     "text": [
      "{'val_loss': 1.8476671511080207, 'val_accuracy': 0.5777439024390244, 'precision': 0.6319262336034, 'recall': 0.5777439024390244, 'f1-score': 0.5575984006028513, 'macro_f1-score': 0.35544653897996775, 'balanced_accuracy': 0.4052612729791722, 'mcc': 0.4477479135225175, 'train_loss': 1.3520651711931442}\n",
      "Epoch 3/20\n"
     ]
    },
    {
     "name": "stderr",
     "output_type": "stream",
     "text": [
      "100%|██████████| 716/716 [01:01<00:00, 11.67it/s]\n"
     ]
    },
    {
     "name": "stdout",
     "output_type": "stream",
     "text": [
      "{'val_loss': 1.9115727187656775, 'val_accuracy': 0.6303353658536586, 'precision': 0.609480926841995, 'recall': 0.6303353658536586, 'f1-score': 0.6065117004001768, 'macro_f1-score': 0.38654256321920083, 'balanced_accuracy': 0.3715306639563966, 'mcc': 0.49546641517794576, 'train_loss': 0.7623642040988919}\n",
      "Epoch 4/20\n"
     ]
    },
    {
     "name": "stderr",
     "output_type": "stream",
     "text": [
      "100%|██████████| 716/716 [01:01<00:00, 11.68it/s]\n"
     ]
    },
    {
     "name": "stdout",
     "output_type": "stream",
     "text": [
      "{'val_loss': 2.007016042020263, 'val_accuracy': 0.6417682926829268, 'precision': 0.6336888817965708, 'recall': 0.6417682926829268, 'f1-score': 0.6193035121622741, 'macro_f1-score': 0.4024780134590546, 'balanced_accuracy': 0.3919357413742694, 'mcc': 0.5121576941067622, 'train_loss': 0.44918364034341285}\n",
      "Epoch 5/20\n"
     ]
    },
    {
     "name": "stderr",
     "output_type": "stream",
     "text": [
      "100%|██████████| 716/716 [01:01<00:00, 11.69it/s]\n"
     ]
    },
    {
     "name": "stdout",
     "output_type": "stream",
     "text": [
      "{'val_loss': 2.2070495694330554, 'val_accuracy': 0.6326219512195121, 'precision': 0.6271122816141936, 'recall': 0.6326219512195121, 'f1-score': 0.6193124607167655, 'macro_f1-score': 0.39570166378432403, 'balanced_accuracy': 0.3913846725109256, 'mcc': 0.5080695934303054, 'train_loss': 0.27660275308880955}\n",
      "Epoch 6/20\n"
     ]
    },
    {
     "name": "stderr",
     "output_type": "stream",
     "text": [
      "100%|██████████| 716/716 [01:01<00:00, 11.67it/s]\n"
     ]
    },
    {
     "name": "stdout",
     "output_type": "stream",
     "text": [
      "{'val_loss': 2.1303055711635728, 'val_accuracy': 0.6189024390243902, 'precision': 0.6311082353679829, 'recall': 0.6189024390243902, 'f1-score': 0.6164107061517905, 'macro_f1-score': 0.3916693422268178, 'balanced_accuracy': 0.4108175635280866, 'mcc': 0.5117338365339255, 'train_loss': 0.20660598927005794}\n",
      "Epoch 7/20\n"
     ]
    },
    {
     "name": "stderr",
     "output_type": "stream",
     "text": [
      "100%|██████████| 716/716 [01:01<00:00, 11.68it/s]\n"
     ]
    },
    {
     "name": "stdout",
     "output_type": "stream",
     "text": [
      "{'val_loss': 2.5514211578340067, 'val_accuracy': 0.6539634146341463, 'precision': 0.6402581613584015, 'recall': 0.6539634146341463, 'f1-score': 0.6247805647294358, 'macro_f1-score': 0.39015521280119053, 'balanced_accuracy': 0.3620818749284196, 'mcc': 0.5231860262473327, 'train_loss': 0.17061557402956565}\n",
      "Early stopping.\n",
      "\n",
      "[Fold 2]\n",
      "🚀 Using T5-paraphraser for data augmentation + under-sampling\n",
      "🔻 Under-sampling label 0: 2471 → 2000\n",
      "🔧 Augmenting label 1: 22 → 200 (+178)\n",
      "🔧 Augmenting label 2: 64 → 200 (+136)\n",
      "🔧 Augmenting label 3: 24 → 200 (+176)\n",
      "🔧 Augmenting label 4: 190 → 200 (+10)\n",
      "🔧 Augmenting label 5: 113 → 200 (+87)\n",
      "🔧 Augmenting label 6: 93 → 200 (+107)\n",
      "🔧 Augmenting label 7: 30 → 200 (+170)\n",
      "🔧 Augmenting label 8: 68 → 200 (+132)\n",
      "🔧 Augmenting label 9: 30 → 200 (+170)\n",
      "🔧 Augmenting label 10: 67 → 200 (+133)\n",
      "🔧 Augmenting label 11: 169 → 200 (+31)\n",
      "🔧 Augmenting label 12: 189 → 200 (+11)\n",
      "🔧 Augmenting label 13: 29 → 200 (+171)\n",
      "🔧 Augmenting label 14: 23 → 200 (+177)\n",
      "🔧 Augmenting label 15: 24 → 200 (+176)\n",
      "🔧 Augmenting label 16: 20 → 200 (+180)\n",
      "🔧 Augmenting label 17: 182 → 200 (+18)\n",
      "🔧 Augmenting label 18: 92 → 200 (+108)\n",
      "🔧 Augmenting label 19: 44 → 200 (+156)\n",
      "🔧 Augmenting label 20: 13 → 200 (+187)\n",
      "🔧 Augmenting label 21: 36 → 200 (+164)\n",
      "🔧 Augmenting label 22: 76 → 200 (+124)\n",
      "🔧 Augmenting label 23: 157 → 200 (+43)\n",
      "🔧 Augmenting label 24: 12 → 200 (+188)\n",
      "🔧 Augmenting label 25: 44 → 200 (+156)\n",
      "🔧 Augmenting label 26: 84 → 200 (+116)\n",
      "🔧 Augmenting label 27: 48 → 200 (+152)\n",
      "🔧 Augmenting label 28: 12 → 200 (+188)\n",
      "🔧 Augmenting label 29: 12 → 200 (+188)\n",
      "🔧 Augmenting label 30: 12 → 200 (+188)\n",
      "🔧 Augmenting label 31: 75 → 200 (+125)\n",
      "🔧 Augmenting label 32: 36 → 200 (+164)\n",
      "🔧 Augmenting label 33: 31 → 200 (+169)\n",
      "🔧 Augmenting label 34: 29 → 200 (+171)\n",
      "🔧 Augmenting label 35: 12 → 200 (+188)\n",
      "🔧 Augmenting label 36: 21 → 200 (+179)\n",
      "🔧 Augmenting label 37: 16 → 200 (+184)\n",
      "🔧 Augmenting label 38: 33 → 200 (+167)\n",
      "🔧 Augmenting label 39: 11 → 200 (+189)\n",
      "🔧 Augmenting label 40: 8 → 200 (+192)\n",
      "🔧 Augmenting label 41: 57 → 200 (+143)\n",
      "🔧 Augmenting label 42: 19 → 200 (+181)\n",
      "🔧 Augmenting label 43: 9 → 200 (+191)\n",
      "🔧 Augmenting label 44: 54 → 200 (+146)\n",
      "🔧 Augmenting label 46: 62 → 200 (+138)\n",
      "🔧 Augmenting label 47: 80 → 200 (+120)\n",
      "Label distribution after resampling:\n",
      "  label 0: 2000\n",
      "  label 1: 200\n",
      "  label 2: 200\n",
      "  label 3: 200\n",
      "  label 4: 200\n",
      "  label 5: 200\n",
      "  label 6: 200\n",
      "  label 7: 200\n",
      "  label 8: 200\n",
      "  label 9: 200\n",
      "  label 10: 200\n",
      "  label 11: 200\n",
      "  label 12: 200\n",
      "  label 13: 200\n",
      "  label 14: 200\n",
      "  label 15: 200\n",
      "  label 16: 200\n",
      "  label 17: 200\n",
      "  label 18: 200\n",
      "  label 19: 200\n",
      "  label 20: 200\n",
      "  label 21: 200\n",
      "  label 22: 200\n",
      "  label 23: 200\n",
      "  label 24: 200\n",
      "  label 25: 200\n",
      "  label 26: 200\n",
      "  label 27: 200\n",
      "  label 28: 200\n",
      "  label 29: 200\n",
      "  label 30: 200\n",
      "  label 31: 200\n",
      "  label 32: 200\n",
      "  label 33: 200\n",
      "  label 34: 200\n",
      "  label 35: 200\n",
      "  label 36: 200\n",
      "  label 37: 200\n",
      "  label 38: 200\n",
      "  label 39: 200\n",
      "  label 40: 200\n",
      "  label 41: 200\n",
      "  label 42: 200\n",
      "  label 43: 200\n",
      "  label 44: 200\n",
      "  label 45: 242\n",
      "  label 46: 200\n",
      "  label 47: 200\n",
      "model is bert-base-uncased cnn\n",
      "Using weighted CrossEntropyLoss with weights: tensor([1.7441, 4.0467, 4.0467, 4.0467, 4.0467, 4.0467, 4.0467, 4.0467, 4.0467,\n",
      "        4.0467, 4.0467, 4.0467, 4.0467, 4.0467, 4.0467, 4.0467, 4.0467, 4.0467,\n",
      "        4.0467, 4.0467, 4.0467, 4.0467, 4.0467, 4.0467, 4.0467, 4.0467, 4.0467,\n",
      "        4.0467, 4.0467, 4.0467, 4.0467, 4.0467, 4.0467, 4.0467, 4.0467, 4.0467,\n",
      "        4.0467, 4.0467, 4.0467, 4.0467, 4.0467, 4.0467, 4.0467, 4.0467, 4.0467,\n",
      "        3.8561, 4.0467, 4.0467], device='cuda:0')\n",
      "Epoch 1/20\n"
     ]
    },
    {
     "name": "stderr",
     "output_type": "stream",
     "text": [
      "100%|██████████| 716/716 [01:01<00:00, 11.72it/s]\n"
     ]
    },
    {
     "name": "stdout",
     "output_type": "stream",
     "text": [
      "{'val_loss': 1.8669081628322601, 'val_accuracy': 0.562929061784897, 'precision': 0.5599831702522021, 'recall': 0.562929061784897, 'f1-score': 0.5500027504750504, 'macro_f1-score': 0.32210600150009705, 'balanced_accuracy': 0.3984645058796214, 'mcc': 0.4320598375364595, 'train_loss': 2.604352109675301}\n",
      "Epoch 2/20\n"
     ]
    },
    {
     "name": "stderr",
     "output_type": "stream",
     "text": [
      "100%|██████████| 716/716 [01:01<00:00, 11.68it/s]\n"
     ]
    },
    {
     "name": "stdout",
     "output_type": "stream",
     "text": [
      "{'val_loss': 1.7645728559028813, 'val_accuracy': 0.6247139588100686, 'precision': 0.6228729834662097, 'recall': 0.6247139588100686, 'f1-score': 0.6059350301558603, 'macro_f1-score': 0.3519716265235891, 'balanced_accuracy': 0.3547372299961811, 'mcc': 0.4896014174083963, 'train_loss': 1.241505301833236}\n",
      "Epoch 3/20\n"
     ]
    },
    {
     "name": "stderr",
     "output_type": "stream",
     "text": [
      "100%|██████████| 716/716 [01:01<00:00, 11.68it/s]\n"
     ]
    },
    {
     "name": "stdout",
     "output_type": "stream",
     "text": [
      "{'val_loss': 1.756338317219804, 'val_accuracy': 0.6300533943554538, 'precision': 0.637750081652868, 'recall': 0.6300533943554538, 'f1-score': 0.6218949590426415, 'macro_f1-score': 0.3799509527532683, 'balanced_accuracy': 0.37639912105668616, 'mcc': 0.5147167186528837, 'train_loss': 0.6552559299259212}\n",
      "Epoch 4/20\n"
     ]
    },
    {
     "name": "stderr",
     "output_type": "stream",
     "text": [
      "100%|██████████| 716/716 [01:01<00:00, 11.68it/s]\n"
     ]
    },
    {
     "name": "stdout",
     "output_type": "stream",
     "text": [
      "{'val_loss': 1.8502552581996452, 'val_accuracy': 0.6475972540045767, 'precision': 0.6494590697824093, 'recall': 0.6475972540045767, 'f1-score': 0.6381815766910556, 'macro_f1-score': 0.3893071706630436, 'balanced_accuracy': 0.3886129005890601, 'mcc': 0.5358725400701269, 'train_loss': 0.37128317671926825}\n",
      "Epoch 5/20\n"
     ]
    },
    {
     "name": "stderr",
     "output_type": "stream",
     "text": [
      "100%|██████████| 716/716 [01:01<00:00, 11.68it/s]\n"
     ]
    },
    {
     "name": "stdout",
     "output_type": "stream",
     "text": [
      "{'val_loss': 1.9517298282646551, 'val_accuracy': 0.6506483600305111, 'precision': 0.6468378050596519, 'recall': 0.6506483600305111, 'f1-score': 0.6401585049394283, 'macro_f1-score': 0.39592214630673656, 'balanced_accuracy': 0.39092156131584993, 'mcc': 0.5388483297679715, 'train_loss': 0.26037107251438846}\n",
      "Epoch 6/20\n"
     ]
    },
    {
     "name": "stderr",
     "output_type": "stream",
     "text": [
      "100%|██████████| 716/716 [01:01<00:00, 11.68it/s]\n"
     ]
    },
    {
     "name": "stdout",
     "output_type": "stream",
     "text": [
      "{'val_loss': 2.1421134675421367, 'val_accuracy': 0.6071700991609459, 'precision': 0.6411458592017295, 'recall': 0.6071700991609459, 'f1-score': 0.6118763914422752, 'macro_f1-score': 0.37449861815221047, 'balanced_accuracy': 0.3710470380829503, 'mcc': 0.4983523442141224, 'train_loss': 0.19436503748940148}\n",
      "Epoch 7/20\n"
     ]
    },
    {
     "name": "stderr",
     "output_type": "stream",
     "text": [
      "100%|██████████| 716/716 [01:01<00:00, 11.69it/s]\n"
     ]
    },
    {
     "name": "stdout",
     "output_type": "stream",
     "text": [
      "{'val_loss': 2.5107120609864957, 'val_accuracy': 0.6285278413424866, 'precision': 0.6383468130669426, 'recall': 0.6285278413424866, 'f1-score': 0.6114761216356498, 'macro_f1-score': 0.39092193970471767, 'balanced_accuracy': 0.3809851193121046, 'mcc': 0.5018176466273895, 'train_loss': 0.13781703505521983}\n",
      "Epoch 8/20\n"
     ]
    },
    {
     "name": "stderr",
     "output_type": "stream",
     "text": [
      "100%|██████████| 716/716 [01:01<00:00, 11.68it/s]\n"
     ]
    },
    {
     "name": "stdout",
     "output_type": "stream",
     "text": [
      "{'val_loss': 2.361122661974372, 'val_accuracy': 0.6430205949656751, 'precision': 0.6250332108619143, 'recall': 0.6430205949656751, 'f1-score': 0.6218063893220382, 'macro_f1-score': 0.3983404588902047, 'balanced_accuracy': 0.39001495454151486, 'mcc': 0.5154059006399369, 'train_loss': 0.12465307212860048}\n",
      "Epoch 9/20\n"
     ]
    },
    {
     "name": "stderr",
     "output_type": "stream",
     "text": [
      "100%|██████████| 716/716 [01:01<00:00, 11.68it/s]\n"
     ]
    },
    {
     "name": "stdout",
     "output_type": "stream",
     "text": [
      "{'val_loss': 2.418692349660687, 'val_accuracy': 0.658276125095347, 'precision': 0.645373221229224, 'recall': 0.658276125095347, 'f1-score': 0.6431789232265224, 'macro_f1-score': 0.4125470234573682, 'balanced_accuracy': 0.41261877983640116, 'mcc': 0.547977659216825, 'train_loss': 0.10849215731160669}\n",
      "Epoch 10/20\n"
     ]
    },
    {
     "name": "stderr",
     "output_type": "stream",
     "text": [
      "100%|██████████| 716/716 [01:01<00:00, 11.66it/s]\n"
     ]
    },
    {
     "name": "stdout",
     "output_type": "stream",
     "text": [
      "{'val_loss': 2.5580916103066467, 'val_accuracy': 0.6460717009916095, 'precision': 0.6550123783554518, 'recall': 0.6460717009916095, 'f1-score': 0.6402868070896338, 'macro_f1-score': 0.4115562738348062, 'balanced_accuracy': 0.3999951206848926, 'mcc': 0.5366317935894958, 'train_loss': 0.09637008932732598}\n",
      "Epoch 11/20\n"
     ]
    },
    {
     "name": "stderr",
     "output_type": "stream",
     "text": [
      "100%|██████████| 716/716 [01:01<00:00, 11.69it/s]\n"
     ]
    },
    {
     "name": "stdout",
     "output_type": "stream",
     "text": [
      "{'val_loss': 2.4576538139727058, 'val_accuracy': 0.6369183829138062, 'precision': 0.6481930571891475, 'recall': 0.6369183829138062, 'f1-score': 0.6313301361648548, 'macro_f1-score': 0.4059710300361479, 'balanced_accuracy': 0.42430456875303674, 'mcc': 0.5310293196306539, 'train_loss': 0.0806552713887126}\n",
      "Epoch 12/20\n"
     ]
    },
    {
     "name": "stderr",
     "output_type": "stream",
     "text": [
      "100%|██████████| 716/716 [01:01<00:00, 11.67it/s]\n"
     ]
    },
    {
     "name": "stdout",
     "output_type": "stream",
     "text": [
      "{'val_loss': 2.796954474798063, 'val_accuracy': 0.6590389016018307, 'precision': 0.6421292237373855, 'recall': 0.6590389016018307, 'f1-score': 0.6327695391833544, 'macro_f1-score': 0.38964253519622977, 'balanced_accuracy': 0.3830605455245168, 'mcc': 0.5353163657928128, 'train_loss': 0.08145567217409902}\n",
      "Early stopping.\n",
      "\n",
      "[Fold 3]\n",
      "🚀 Using T5-paraphraser for data augmentation + under-sampling\n",
      "🔻 Under-sampling label 0: 2471 → 2000\n",
      "🔧 Augmenting label 1: 22 → 200 (+178)\n",
      "🔧 Augmenting label 2: 64 → 200 (+136)\n",
      "🔧 Augmenting label 3: 24 → 200 (+176)\n",
      "🔧 Augmenting label 4: 190 → 200 (+10)\n",
      "🔧 Augmenting label 5: 113 → 200 (+87)\n",
      "🔧 Augmenting label 6: 93 → 200 (+107)\n",
      "🔧 Augmenting label 7: 30 → 200 (+170)\n",
      "🔧 Augmenting label 8: 68 → 200 (+132)\n",
      "🔧 Augmenting label 9: 30 → 200 (+170)\n",
      "🔧 Augmenting label 10: 67 → 200 (+133)\n",
      "🔧 Augmenting label 11: 169 → 200 (+31)\n",
      "🔧 Augmenting label 12: 190 → 200 (+10)\n",
      "🔧 Augmenting label 13: 28 → 200 (+172)\n",
      "🔧 Augmenting label 14: 23 → 200 (+177)\n",
      "🔧 Augmenting label 15: 25 → 200 (+175)\n",
      "🔧 Augmenting label 16: 19 → 200 (+181)\n",
      "🔧 Augmenting label 17: 182 → 200 (+18)\n",
      "🔧 Augmenting label 18: 92 → 200 (+108)\n",
      "🔧 Augmenting label 19: 44 → 200 (+156)\n",
      "🔧 Augmenting label 20: 14 → 200 (+186)\n",
      "🔧 Augmenting label 21: 35 → 200 (+165)\n",
      "🔧 Augmenting label 22: 76 → 200 (+124)\n",
      "🔧 Augmenting label 23: 157 → 200 (+43)\n",
      "🔧 Augmenting label 24: 13 → 200 (+187)\n",
      "🔧 Augmenting label 25: 44 → 200 (+156)\n",
      "🔧 Augmenting label 26: 84 → 200 (+116)\n",
      "🔧 Augmenting label 27: 48 → 200 (+152)\n",
      "🔧 Augmenting label 28: 11 → 200 (+189)\n",
      "🔧 Augmenting label 29: 13 → 200 (+187)\n",
      "🔧 Augmenting label 30: 11 → 200 (+189)\n",
      "🔧 Augmenting label 31: 76 → 200 (+124)\n",
      "🔧 Augmenting label 32: 36 → 200 (+164)\n",
      "🔧 Augmenting label 33: 31 → 200 (+169)\n",
      "🔧 Augmenting label 34: 30 → 200 (+170)\n",
      "🔧 Augmenting label 35: 11 → 200 (+189)\n",
      "🔧 Augmenting label 36: 21 → 200 (+179)\n",
      "🔧 Augmenting label 37: 16 → 200 (+184)\n",
      "🔧 Augmenting label 38: 32 → 200 (+168)\n",
      "🔧 Augmenting label 39: 11 → 200 (+189)\n",
      "🔧 Augmenting label 40: 9 → 200 (+191)\n",
      "🔧 Augmenting label 41: 57 → 200 (+143)\n",
      "🔧 Augmenting label 42: 18 → 200 (+182)\n",
      "🔧 Augmenting label 43: 9 → 200 (+191)\n",
      "🔧 Augmenting label 44: 55 → 200 (+145)\n",
      "🔧 Augmenting label 46: 62 → 200 (+138)\n",
      "🔧 Augmenting label 47: 80 → 200 (+120)\n",
      "Label distribution after resampling:\n",
      "  label 0: 2000\n",
      "  label 1: 200\n",
      "  label 2: 200\n",
      "  label 3: 200\n",
      "  label 4: 200\n",
      "  label 5: 200\n",
      "  label 6: 200\n",
      "  label 7: 200\n",
      "  label 8: 200\n",
      "  label 9: 200\n",
      "  label 10: 200\n",
      "  label 11: 200\n",
      "  label 12: 200\n",
      "  label 13: 200\n",
      "  label 14: 200\n",
      "  label 15: 200\n",
      "  label 16: 200\n",
      "  label 17: 200\n",
      "  label 18: 200\n",
      "  label 19: 200\n",
      "  label 20: 200\n",
      "  label 21: 200\n",
      "  label 22: 200\n",
      "  label 23: 200\n",
      "  label 24: 200\n",
      "  label 25: 200\n",
      "  label 26: 200\n",
      "  label 27: 200\n",
      "  label 28: 200\n",
      "  label 29: 200\n",
      "  label 30: 200\n",
      "  label 31: 200\n",
      "  label 32: 200\n",
      "  label 33: 200\n",
      "  label 34: 200\n",
      "  label 35: 200\n",
      "  label 36: 200\n",
      "  label 37: 200\n",
      "  label 38: 200\n",
      "  label 39: 200\n",
      "  label 40: 200\n",
      "  label 41: 200\n",
      "  label 42: 200\n",
      "  label 43: 200\n",
      "  label 44: 200\n",
      "  label 45: 241\n",
      "  label 46: 200\n",
      "  label 47: 200\n",
      "model is bert-base-uncased cnn\n",
      "Using weighted CrossEntropyLoss with weights: tensor([1.7441, 4.0466, 4.0466, 4.0466, 4.0466, 4.0466, 4.0466, 4.0466, 4.0466,\n",
      "        4.0466, 4.0466, 4.0466, 4.0466, 4.0466, 4.0466, 4.0466, 4.0466, 4.0466,\n",
      "        4.0466, 4.0466, 4.0466, 4.0466, 4.0466, 4.0466, 4.0466, 4.0466, 4.0466,\n",
      "        4.0466, 4.0466, 4.0466, 4.0466, 4.0466, 4.0466, 4.0466, 4.0466, 4.0466,\n",
      "        4.0466, 4.0466, 4.0466, 4.0466, 4.0466, 4.0466, 4.0466, 4.0466, 4.0466,\n",
      "        3.8602, 4.0466, 4.0466], device='cuda:0')\n",
      "Epoch 1/20\n"
     ]
    },
    {
     "name": "stderr",
     "output_type": "stream",
     "text": [
      "100%|██████████| 716/716 [01:01<00:00, 11.70it/s]\n"
     ]
    },
    {
     "name": "stdout",
     "output_type": "stream",
     "text": [
      "{'val_loss': 1.923412107112931, 'val_accuracy': 0.5720823798627003, 'precision': 0.5583231359808036, 'recall': 0.5720823798627003, 'f1-score': 0.5390338162279299, 'macro_f1-score': 0.2858762192227984, 'balanced_accuracy': 0.30369950921002425, 'mcc': 0.41139061697745366, 'train_loss': 2.495750521543805}\n",
      "Epoch 2/20\n"
     ]
    },
    {
     "name": "stderr",
     "output_type": "stream",
     "text": [
      "100%|██████████| 716/716 [01:01<00:00, 11.70it/s]\n"
     ]
    },
    {
     "name": "stdout",
     "output_type": "stream",
     "text": [
      "{'val_loss': 1.7632783905761997, 'val_accuracy': 0.5957284515636918, 'precision': 0.6031488472933983, 'recall': 0.5957284515636918, 'f1-score': 0.5889268186113085, 'macro_f1-score': 0.3734579176933692, 'balanced_accuracy': 0.398517113747781, 'mcc': 0.4687455691451583, 'train_loss': 1.1703662358266016}\n",
      "Epoch 3/20\n"
     ]
    },
    {
     "name": "stderr",
     "output_type": "stream",
     "text": [
      "100%|██████████| 716/716 [01:01<00:00, 11.67it/s]\n"
     ]
    },
    {
     "name": "stdout",
     "output_type": "stream",
     "text": [
      "{'val_loss': 1.8988466788901062, 'val_accuracy': 0.623951182303585, 'precision': 0.6292858147983857, 'recall': 0.623951182303585, 'f1-score': 0.6105887127027986, 'macro_f1-score': 0.3931174639566623, 'balanced_accuracy': 0.387223514602105, 'mcc': 0.500779513535319, 'train_loss': 0.6347424041833625}\n",
      "Epoch 4/20\n"
     ]
    },
    {
     "name": "stderr",
     "output_type": "stream",
     "text": [
      "100%|██████████| 716/716 [01:02<00:00, 11.45it/s]\n"
     ]
    },
    {
     "name": "stdout",
     "output_type": "stream",
     "text": [
      "{'val_loss': 1.934301207705242, 'val_accuracy': 0.6193745232646835, 'precision': 0.6219440949916317, 'recall': 0.6193745232646835, 'f1-score': 0.6146565031572527, 'macro_f1-score': 0.38689399996490703, 'balanced_accuracy': 0.39420248860736007, 'mcc': 0.5060389922009862, 'train_loss': 0.36520781707182504}\n",
      "Epoch 5/20\n"
     ]
    },
    {
     "name": "stderr",
     "output_type": "stream",
     "text": [
      "100%|██████████| 716/716 [01:02<00:00, 11.44it/s]\n"
     ]
    },
    {
     "name": "stdout",
     "output_type": "stream",
     "text": [
      "{'val_loss': 2.233648717085399, 'val_accuracy': 0.6216628527841342, 'precision': 0.6157028693104203, 'recall': 0.6216628527841342, 'f1-score': 0.6088021468719621, 'macro_f1-score': 0.38718172308381105, 'balanced_accuracy': 0.36699335823942764, 'mcc': 0.4926711775211682, 'train_loss': 0.22371071871346013}\n",
      "Epoch 6/20\n"
     ]
    },
    {
     "name": "stderr",
     "output_type": "stream",
     "text": [
      "100%|██████████| 716/716 [01:02<00:00, 11.47it/s]\n"
     ]
    },
    {
     "name": "stdout",
     "output_type": "stream",
     "text": [
      "{'val_loss': 2.358718202176799, 'val_accuracy': 0.627765064836003, 'precision': 0.616835354039598, 'recall': 0.627765064836003, 'f1-score': 0.6126520052572257, 'macro_f1-score': 0.3628796553496854, 'balanced_accuracy': 0.35025831204437335, 'mcc': 0.5066080879189226, 'train_loss': 0.17256688056110442}\n",
      "Early stopping.\n",
      "\n",
      "[Fold 4]\n",
      "🚀 Using T5-paraphraser for data augmentation + under-sampling\n",
      "🔻 Under-sampling label 0: 2471 → 2000\n",
      "🔧 Augmenting label 1: 22 → 200 (+178)\n",
      "🔧 Augmenting label 2: 64 → 200 (+136)\n",
      "🔧 Augmenting label 3: 24 → 200 (+176)\n",
      "🔧 Augmenting label 4: 190 → 200 (+10)\n",
      "🔧 Augmenting label 5: 113 → 200 (+87)\n",
      "🔧 Augmenting label 6: 93 → 200 (+107)\n",
      "🔧 Augmenting label 7: 31 → 200 (+169)\n",
      "🔧 Augmenting label 8: 68 → 200 (+132)\n",
      "🔧 Augmenting label 9: 29 → 200 (+171)\n",
      "🔧 Augmenting label 10: 67 → 200 (+133)\n",
      "🔧 Augmenting label 11: 169 → 200 (+31)\n",
      "🔧 Augmenting label 12: 190 → 200 (+10)\n",
      "🔧 Augmenting label 13: 29 → 200 (+171)\n",
      "🔧 Augmenting label 14: 22 → 200 (+178)\n",
      "🔧 Augmenting label 15: 25 → 200 (+175)\n",
      "🔧 Augmenting label 16: 19 → 200 (+181)\n",
      "🔧 Augmenting label 17: 182 → 200 (+18)\n",
      "🔧 Augmenting label 18: 92 → 200 (+108)\n",
      "🔧 Augmenting label 19: 44 → 200 (+156)\n",
      "🔧 Augmenting label 20: 14 → 200 (+186)\n",
      "🔧 Augmenting label 21: 35 → 200 (+165)\n",
      "🔧 Augmenting label 22: 76 → 200 (+124)\n",
      "🔧 Augmenting label 23: 158 → 200 (+42)\n",
      "🔧 Augmenting label 24: 13 → 200 (+187)\n",
      "🔧 Augmenting label 25: 44 → 200 (+156)\n",
      "🔧 Augmenting label 26: 84 → 200 (+116)\n",
      "🔧 Augmenting label 27: 48 → 200 (+152)\n",
      "🔧 Augmenting label 28: 11 → 200 (+189)\n",
      "🔧 Augmenting label 29: 13 → 200 (+187)\n",
      "🔧 Augmenting label 30: 11 → 200 (+189)\n",
      "🔧 Augmenting label 31: 75 → 200 (+125)\n",
      "🔧 Augmenting label 32: 36 → 200 (+164)\n",
      "🔧 Augmenting label 33: 31 → 200 (+169)\n",
      "🔧 Augmenting label 34: 30 → 200 (+170)\n",
      "🔧 Augmenting label 35: 11 → 200 (+189)\n",
      "🔧 Augmenting label 36: 22 → 200 (+178)\n",
      "🔧 Augmenting label 37: 16 → 200 (+184)\n",
      "🔧 Augmenting label 38: 33 → 200 (+167)\n",
      "🔧 Augmenting label 39: 10 → 200 (+190)\n",
      "🔧 Augmenting label 40: 9 → 200 (+191)\n",
      "🔧 Augmenting label 41: 56 → 200 (+144)\n",
      "🔧 Augmenting label 42: 18 → 200 (+182)\n",
      "🔧 Augmenting label 43: 9 → 200 (+191)\n",
      "🔧 Augmenting label 44: 55 → 200 (+145)\n",
      "🔧 Augmenting label 46: 62 → 200 (+138)\n",
      "🔧 Augmenting label 47: 80 → 200 (+120)\n",
      "Label distribution after resampling:\n",
      "  label 0: 2000\n",
      "  label 1: 200\n",
      "  label 2: 200\n",
      "  label 3: 200\n",
      "  label 4: 200\n",
      "  label 5: 200\n",
      "  label 6: 200\n",
      "  label 7: 200\n",
      "  label 8: 200\n",
      "  label 9: 200\n",
      "  label 10: 200\n",
      "  label 11: 200\n",
      "  label 12: 200\n",
      "  label 13: 200\n",
      "  label 14: 200\n",
      "  label 15: 200\n",
      "  label 16: 200\n",
      "  label 17: 200\n",
      "  label 18: 200\n",
      "  label 19: 200\n",
      "  label 20: 200\n",
      "  label 21: 200\n",
      "  label 22: 200\n",
      "  label 23: 200\n",
      "  label 24: 200\n",
      "  label 25: 200\n",
      "  label 26: 200\n",
      "  label 27: 200\n",
      "  label 28: 200\n",
      "  label 29: 200\n",
      "  label 30: 200\n",
      "  label 31: 200\n",
      "  label 32: 200\n",
      "  label 33: 200\n",
      "  label 34: 200\n",
      "  label 35: 200\n",
      "  label 36: 200\n",
      "  label 37: 200\n",
      "  label 38: 200\n",
      "  label 39: 200\n",
      "  label 40: 200\n",
      "  label 41: 200\n",
      "  label 42: 200\n",
      "  label 43: 200\n",
      "  label 44: 200\n",
      "  label 45: 241\n",
      "  label 46: 200\n",
      "  label 47: 200\n",
      "model is bert-base-uncased cnn\n",
      "Using weighted CrossEntropyLoss with weights: tensor([1.7441, 4.0466, 4.0466, 4.0466, 4.0466, 4.0466, 4.0466, 4.0466, 4.0466,\n",
      "        4.0466, 4.0466, 4.0466, 4.0466, 4.0466, 4.0466, 4.0466, 4.0466, 4.0466,\n",
      "        4.0466, 4.0466, 4.0466, 4.0466, 4.0466, 4.0466, 4.0466, 4.0466, 4.0466,\n",
      "        4.0466, 4.0466, 4.0466, 4.0466, 4.0466, 4.0466, 4.0466, 4.0466, 4.0466,\n",
      "        4.0466, 4.0466, 4.0466, 4.0466, 4.0466, 4.0466, 4.0466, 4.0466, 4.0466,\n",
      "        3.8602, 4.0466, 4.0466], device='cuda:0')\n",
      "Epoch 1/20\n"
     ]
    },
    {
     "name": "stderr",
     "output_type": "stream",
     "text": [
      "100%|██████████| 716/716 [01:02<00:00, 11.55it/s]\n"
     ]
    },
    {
     "name": "stdout",
     "output_type": "stream",
     "text": [
      "{'val_loss': 1.8152246562446035, 'val_accuracy': 0.5957284515636918, 'precision': 0.5629403003569716, 'recall': 0.5957284515636918, 'f1-score': 0.5588785282909382, 'macro_f1-score': 0.305155812471133, 'balanced_accuracy': 0.3315678508326136, 'mcc': 0.45222648762271384, 'train_loss': 2.5551072205494902}\n",
      "Epoch 2/20\n"
     ]
    },
    {
     "name": "stderr",
     "output_type": "stream",
     "text": [
      "100%|██████████| 716/716 [01:02<00:00, 11.49it/s]\n"
     ]
    },
    {
     "name": "stdout",
     "output_type": "stream",
     "text": [
      "{'val_loss': 1.7400814389310233, 'val_accuracy': 0.6224256292906178, 'precision': 0.6010374407023759, 'recall': 0.6224256292906178, 'f1-score': 0.5909136617435158, 'macro_f1-score': 0.35504810086977506, 'balanced_accuracy': 0.36121972500241745, 'mcc': 0.4820895993694275, 'train_loss': 1.2277737001175655}\n",
      "Epoch 3/20\n"
     ]
    },
    {
     "name": "stderr",
     "output_type": "stream",
     "text": [
      "100%|██████████| 716/716 [01:02<00:00, 11.46it/s]\n"
     ]
    },
    {
     "name": "stdout",
     "output_type": "stream",
     "text": [
      "{'val_loss': 1.730471641733879, 'val_accuracy': 0.6437833714721587, 'precision': 0.6278801762400883, 'recall': 0.6437833714721587, 'f1-score': 0.622881227614046, 'macro_f1-score': 0.3873751965025891, 'balanced_accuracy': 0.39828239226797213, 'mcc': 0.5215660330010382, 'train_loss': 0.6341739733750261}\n",
      "Epoch 4/20\n"
     ]
    },
    {
     "name": "stderr",
     "output_type": "stream",
     "text": [
      "100%|██████████| 716/716 [01:02<00:00, 11.51it/s]\n"
     ]
    },
    {
     "name": "stdout",
     "output_type": "stream",
     "text": [
      "{'val_loss': 1.9229111760491278, 'val_accuracy': 0.631578947368421, 'precision': 0.6281992127012708, 'recall': 0.631578947368421, 'f1-score': 0.6122148774118464, 'macro_f1-score': 0.3758841578551986, 'balanced_accuracy': 0.36592917150334303, 'mcc': 0.5106612640433157, 'train_loss': 0.37766119964972306}\n",
      "Epoch 5/20\n"
     ]
    },
    {
     "name": "stderr",
     "output_type": "stream",
     "text": [
      "100%|██████████| 716/716 [01:02<00:00, 11.50it/s]\n"
     ]
    },
    {
     "name": "stdout",
     "output_type": "stream",
     "text": [
      "{'val_loss': 2.080596024306809, 'val_accuracy': 0.6025934401220442, 'precision': 0.654435509529518, 'recall': 0.6025934401220442, 'f1-score': 0.6148448899021762, 'macro_f1-score': 0.39705314442178236, 'balanced_accuracy': 0.44220264551644134, 'mcc': 0.5030587611126053, 'train_loss': 0.25765559500520374}\n",
      "Epoch 6/20\n"
     ]
    },
    {
     "name": "stderr",
     "output_type": "stream",
     "text": [
      "100%|██████████| 716/716 [01:02<00:00, 11.51it/s]\n"
     ]
    },
    {
     "name": "stdout",
     "output_type": "stream",
     "text": [
      "{'val_loss': 2.1841533187685944, 'val_accuracy': 0.635392829900839, 'precision': 0.6437666885718375, 'recall': 0.635392829900839, 'f1-score': 0.6319634149138149, 'macro_f1-score': 0.39810522308381086, 'balanced_accuracy': 0.40894232184059015, 'mcc': 0.5261758376424752, 'train_loss': 0.17147002425974797}\n",
      "Epoch 7/20\n"
     ]
    },
    {
     "name": "stderr",
     "output_type": "stream",
     "text": [
      "100%|██████████| 716/716 [01:02<00:00, 11.52it/s]\n"
     ]
    },
    {
     "name": "stdout",
     "output_type": "stream",
     "text": [
      "{'val_loss': 2.2714592503701767, 'val_accuracy': 0.6369183829138062, 'precision': 0.6493919032690681, 'recall': 0.6369183829138062, 'f1-score': 0.6302582955438987, 'macro_f1-score': 0.4090303555953143, 'balanced_accuracy': 0.4134899183682779, 'mcc': 0.5246434228204657, 'train_loss': 0.14020097161468908}\n",
      "Epoch 8/20\n"
     ]
    },
    {
     "name": "stderr",
     "output_type": "stream",
     "text": [
      "100%|██████████| 716/716 [01:02<00:00, 11.50it/s]\n"
     ]
    },
    {
     "name": "stdout",
     "output_type": "stream",
     "text": [
      "{'val_loss': 2.6286647428826586, 'val_accuracy': 0.6483600305110603, 'precision': 0.6382049306556516, 'recall': 0.6483600305110603, 'f1-score': 0.6304954705149529, 'macro_f1-score': 0.3947722481537208, 'balanced_accuracy': 0.3866751744484586, 'mcc': 0.525606584862401, 'train_loss': 0.1418718198062618}\n",
      "Epoch 9/20\n"
     ]
    },
    {
     "name": "stderr",
     "output_type": "stream",
     "text": [
      "100%|██████████| 716/716 [01:02<00:00, 11.51it/s]\n"
     ]
    },
    {
     "name": "stdout",
     "output_type": "stream",
     "text": [
      "{'val_loss': 2.290652421734682, 'val_accuracy': 0.6483600305110603, 'precision': 0.659355502861957, 'recall': 0.6483600305110603, 'f1-score': 0.64381502042409, 'macro_f1-score': 0.41180991720049215, 'balanced_accuracy': 0.42438385042912996, 'mcc': 0.5460590850878964, 'train_loss': 0.11789435039042864}\n",
      "Epoch 10/20\n"
     ]
    },
    {
     "name": "stderr",
     "output_type": "stream",
     "text": [
      "100%|██████████| 716/716 [01:02<00:00, 11.51it/s]\n"
     ]
    },
    {
     "name": "stdout",
     "output_type": "stream",
     "text": [
      "{'val_loss': 2.7091924411290123, 'val_accuracy': 0.6567505720823799, 'precision': 0.6382960445084924, 'recall': 0.6567505720823799, 'f1-score': 0.63193082929555, 'macro_f1-score': 0.40391476314005975, 'balanced_accuracy': 0.3877658570143399, 'mcc': 0.5303565160506931, 'train_loss': 0.11015475456025348}\n",
      "Epoch 11/20\n"
     ]
    },
    {
     "name": "stderr",
     "output_type": "stream",
     "text": [
      "100%|██████████| 716/716 [01:02<00:00, 11.51it/s]\n"
     ]
    },
    {
     "name": "stdout",
     "output_type": "stream",
     "text": [
      "{'val_loss': 2.5640240814991113, 'val_accuracy': 0.6338672768878718, 'precision': 0.6428045547980807, 'recall': 0.6338672768878718, 'f1-score': 0.6282519290112251, 'macro_f1-score': 0.3956191294001397, 'balanced_accuracy': 0.4060878356810124, 'mcc': 0.5274872464279007, 'train_loss': 0.08988750101742468}\n",
      "Epoch 12/20\n"
     ]
    },
    {
     "name": "stderr",
     "output_type": "stream",
     "text": [
      "100%|██████████| 716/716 [01:02<00:00, 11.52it/s]\n"
     ]
    },
    {
     "name": "stdout",
     "output_type": "stream",
     "text": [
      "{'val_loss': 2.521940942581107, 'val_accuracy': 0.6384439359267735, 'precision': 0.656996763964095, 'recall': 0.6384439359267735, 'f1-score': 0.632323548028079, 'macro_f1-score': 0.42076530863621003, 'balanced_accuracy': 0.43847053074940784, 'mcc': 0.5323585493366767, 'train_loss': 0.09140142228484593}\n",
      "Epoch 13/20\n"
     ]
    },
    {
     "name": "stderr",
     "output_type": "stream",
     "text": [
      "100%|██████████| 716/716 [01:02<00:00, 11.51it/s]\n"
     ]
    },
    {
     "name": "stdout",
     "output_type": "stream",
     "text": [
      "{'val_loss': 2.598039986883722, 'val_accuracy': 0.6483600305110603, 'precision': 0.6528717084733696, 'recall': 0.6483600305110603, 'f1-score': 0.6375513816845331, 'macro_f1-score': 0.4219892694434004, 'balanced_accuracy': 0.43030834879824537, 'mcc': 0.5364397411912251, 'train_loss': 0.09809064945635612}\n",
      "Epoch 14/20\n"
     ]
    },
    {
     "name": "stderr",
     "output_type": "stream",
     "text": [
      "100%|██████████| 716/716 [01:02<00:00, 11.50it/s]\n"
     ]
    },
    {
     "name": "stdout",
     "output_type": "stream",
     "text": [
      "{'val_loss': 2.8215655589975963, 'val_accuracy': 0.6414950419527079, 'precision': 0.6269664959388719, 'recall': 0.6414950419527079, 'f1-score': 0.6235256386549421, 'macro_f1-score': 0.3827861054956047, 'balanced_accuracy': 0.3840264806703499, 'mcc': 0.5193532091348708, 'train_loss': 0.08893482784861595}\n",
      "Epoch 15/20\n"
     ]
    },
    {
     "name": "stderr",
     "output_type": "stream",
     "text": [
      "100%|██████████| 716/716 [01:02<00:00, 11.50it/s]\n"
     ]
    },
    {
     "name": "stdout",
     "output_type": "stream",
     "text": [
      "{'val_loss': 3.066214975423929, 'val_accuracy': 0.6453089244851259, 'precision': 0.65986859184027, 'recall': 0.6453089244851259, 'f1-score': 0.6382891908445858, 'macro_f1-score': 0.43316593236392054, 'balanced_accuracy': 0.449602006405589, 'mcc': 0.5288788109663656, 'train_loss': 0.07205740810938079}\n",
      "Epoch 16/20\n"
     ]
    },
    {
     "name": "stderr",
     "output_type": "stream",
     "text": [
      "100%|██████████| 716/716 [01:02<00:00, 11.51it/s]\n"
     ]
    },
    {
     "name": "stdout",
     "output_type": "stream",
     "text": [
      "{'val_loss': 2.8049147163585917, 'val_accuracy': 0.6399694889397407, 'precision': 0.6465200143649549, 'recall': 0.6399694889397407, 'f1-score': 0.6348815167679337, 'macro_f1-score': 0.40669008003725066, 'balanced_accuracy': 0.40699464675906666, 'mcc': 0.5304218592388878, 'train_loss': 0.07600447996404067}\n",
      "Epoch 17/20\n"
     ]
    },
    {
     "name": "stderr",
     "output_type": "stream",
     "text": [
      "100%|██████████| 716/716 [01:02<00:00, 11.51it/s]\n"
     ]
    },
    {
     "name": "stdout",
     "output_type": "stream",
     "text": [
      "{'val_loss': 2.8654594248751315, 'val_accuracy': 0.6468344774980931, 'precision': 0.641679565727291, 'recall': 0.6468344774980931, 'f1-score': 0.6245748590207014, 'macro_f1-score': 0.38907512953747725, 'balanced_accuracy': 0.39799060490669813, 'mcc': 0.523324650571314, 'train_loss': 0.0848768723265407}\n",
      "Epoch 18/20\n"
     ]
    },
    {
     "name": "stderr",
     "output_type": "stream",
     "text": [
      "100%|██████████| 716/716 [01:02<00:00, 11.49it/s]\n"
     ]
    },
    {
     "name": "stdout",
     "output_type": "stream",
     "text": [
      "{'val_loss': 2.772215442323103, 'val_accuracy': 0.6216628527841342, 'precision': 0.643327500578671, 'recall': 0.6216628527841342, 'f1-score': 0.6254028060856762, 'macro_f1-score': 0.39742073281464085, 'balanced_accuracy': 0.4287901609654415, 'mcc': 0.5174897566951808, 'train_loss': 0.07514017952097822}\n",
      "Early stopping.\n",
      "\n",
      "[Fold 5]\n",
      "🚀 Using T5-paraphraser for data augmentation + under-sampling\n",
      "🔻 Under-sampling label 0: 2472 → 2000\n",
      "🔧 Augmenting label 1: 21 → 200 (+179)\n",
      "🔧 Augmenting label 2: 64 → 200 (+136)\n",
      "🔧 Augmenting label 3: 24 → 200 (+176)\n",
      "🔧 Augmenting label 4: 191 → 200 (+9)\n",
      "🔧 Augmenting label 5: 112 → 200 (+88)\n",
      "🔧 Augmenting label 6: 92 → 200 (+108)\n",
      "🔧 Augmenting label 7: 31 → 200 (+169)\n",
      "🔧 Augmenting label 8: 68 → 200 (+132)\n",
      "🔧 Augmenting label 9: 29 → 200 (+171)\n",
      "🔧 Augmenting label 10: 68 → 200 (+132)\n",
      "🔧 Augmenting label 11: 168 → 200 (+32)\n",
      "🔧 Augmenting label 12: 190 → 200 (+10)\n",
      "🔧 Augmenting label 13: 29 → 200 (+171)\n",
      "🔧 Augmenting label 14: 22 → 200 (+178)\n",
      "🔧 Augmenting label 15: 25 → 200 (+175)\n",
      "🔧 Augmenting label 16: 19 → 200 (+181)\n",
      "🔧 Augmenting label 17: 183 → 200 (+17)\n",
      "🔧 Augmenting label 18: 92 → 200 (+108)\n",
      "🔧 Augmenting label 19: 44 → 200 (+156)\n",
      "🔧 Augmenting label 20: 14 → 200 (+186)\n",
      "🔧 Augmenting label 21: 35 → 200 (+165)\n",
      "🔧 Augmenting label 22: 76 → 200 (+124)\n",
      "🔧 Augmenting label 23: 158 → 200 (+42)\n",
      "🔧 Augmenting label 24: 13 → 200 (+187)\n",
      "🔧 Augmenting label 25: 44 → 200 (+156)\n",
      "🔧 Augmenting label 26: 84 → 200 (+116)\n",
      "🔧 Augmenting label 27: 48 → 200 (+152)\n",
      "🔧 Augmenting label 28: 11 → 200 (+189)\n",
      "🔧 Augmenting label 29: 13 → 200 (+187)\n",
      "🔧 Augmenting label 30: 11 → 200 (+189)\n",
      "🔧 Augmenting label 31: 75 → 200 (+125)\n",
      "🔧 Augmenting label 32: 36 → 200 (+164)\n",
      "🔧 Augmenting label 33: 31 → 200 (+169)\n",
      "🔧 Augmenting label 34: 30 → 200 (+170)\n",
      "🔧 Augmenting label 35: 11 → 200 (+189)\n",
      "🔧 Augmenting label 36: 22 → 200 (+178)\n",
      "🔧 Augmenting label 37: 16 → 200 (+184)\n",
      "🔧 Augmenting label 38: 33 → 200 (+167)\n",
      "🔧 Augmenting label 39: 10 → 200 (+190)\n",
      "🔧 Augmenting label 40: 9 → 200 (+191)\n",
      "🔧 Augmenting label 41: 57 → 200 (+143)\n",
      "🔧 Augmenting label 42: 18 → 200 (+182)\n",
      "🔧 Augmenting label 43: 9 → 200 (+191)\n",
      "🔧 Augmenting label 44: 54 → 200 (+146)\n",
      "🔧 Augmenting label 46: 61 → 200 (+139)\n",
      "🔧 Augmenting label 47: 80 → 200 (+120)\n",
      "Label distribution after resampling:\n",
      "  label 0: 2000\n",
      "  label 1: 200\n",
      "  label 2: 200\n",
      "  label 3: 200\n",
      "  label 4: 200\n",
      "  label 5: 200\n",
      "  label 6: 200\n",
      "  label 7: 200\n",
      "  label 8: 200\n",
      "  label 9: 200\n",
      "  label 10: 200\n",
      "  label 11: 200\n",
      "  label 12: 200\n",
      "  label 13: 200\n",
      "  label 14: 200\n",
      "  label 15: 200\n",
      "  label 16: 200\n",
      "  label 17: 200\n",
      "  label 18: 200\n",
      "  label 19: 200\n",
      "  label 20: 200\n",
      "  label 21: 200\n",
      "  label 22: 200\n",
      "  label 23: 200\n",
      "  label 24: 200\n",
      "  label 25: 200\n",
      "  label 26: 200\n",
      "  label 27: 200\n",
      "  label 28: 200\n",
      "  label 29: 200\n",
      "  label 30: 200\n",
      "  label 31: 200\n",
      "  label 32: 200\n",
      "  label 33: 200\n",
      "  label 34: 200\n",
      "  label 35: 200\n",
      "  label 36: 200\n",
      "  label 37: 200\n",
      "  label 38: 200\n",
      "  label 39: 200\n",
      "  label 40: 200\n",
      "  label 41: 200\n",
      "  label 42: 200\n",
      "  label 43: 200\n",
      "  label 44: 200\n",
      "  label 45: 242\n",
      "  label 46: 200\n",
      "  label 47: 200\n",
      "model is bert-base-uncased cnn\n",
      "Using weighted CrossEntropyLoss with weights: tensor([1.7441, 4.0467, 4.0467, 4.0467, 4.0467, 4.0467, 4.0467, 4.0467, 4.0467,\n",
      "        4.0467, 4.0467, 4.0467, 4.0467, 4.0467, 4.0467, 4.0467, 4.0467, 4.0467,\n",
      "        4.0467, 4.0467, 4.0467, 4.0467, 4.0467, 4.0467, 4.0467, 4.0467, 4.0467,\n",
      "        4.0467, 4.0467, 4.0467, 4.0467, 4.0467, 4.0467, 4.0467, 4.0467, 4.0467,\n",
      "        4.0467, 4.0467, 4.0467, 4.0467, 4.0467, 4.0467, 4.0467, 4.0467, 4.0467,\n",
      "        3.8561, 4.0467, 4.0467], device='cuda:0')\n",
      "Epoch 1/20\n"
     ]
    },
    {
     "name": "stderr",
     "output_type": "stream",
     "text": [
      "100%|██████████| 716/716 [01:00<00:00, 11.76it/s]\n"
     ]
    },
    {
     "name": "stdout",
     "output_type": "stream",
     "text": [
      "{'val_loss': 1.810935253777155, 'val_accuracy': 0.6132723112128147, 'precision': 0.5650903692777044, 'recall': 0.6132723112128147, 'f1-score': 0.5587404094486171, 'macro_f1-score': 0.3055240082383512, 'balanced_accuracy': 0.29887785522106497, 'mcc': 0.45648890052442825, 'train_loss': 2.668039698174546}\n",
      "Epoch 2/20\n"
     ]
    },
    {
     "name": "stderr",
     "output_type": "stream",
     "text": [
      "100%|██████████| 716/716 [01:01<00:00, 11.70it/s]\n"
     ]
    },
    {
     "name": "stdout",
     "output_type": "stream",
     "text": [
      "{'val_loss': 1.5831639116130225, 'val_accuracy': 0.6521739130434783, 'precision': 0.6293287485345973, 'recall': 0.6521739130434783, 'f1-score': 0.6272918144572341, 'macro_f1-score': 0.40656294523868736, 'balanced_accuracy': 0.42541911176329766, 'mcc': 0.5338913919386171, 'train_loss': 1.180144007052373}\n",
      "Epoch 3/20\n"
     ]
    },
    {
     "name": "stderr",
     "output_type": "stream",
     "text": [
      "100%|██████████| 716/716 [01:01<00:00, 11.70it/s]\n"
     ]
    },
    {
     "name": "stdout",
     "output_type": "stream",
     "text": [
      "{'val_loss': 1.6283091208556804, 'val_accuracy': 0.6109839816933639, 'precision': 0.6572989905289273, 'recall': 0.6109839816933639, 'f1-score': 0.6198424759587036, 'macro_f1-score': 0.4223946319704792, 'balanced_accuracy': 0.44475719672231345, 'mcc': 0.5184947434104658, 'train_loss': 0.6323803505657355}\n",
      "Epoch 4/20\n"
     ]
    },
    {
     "name": "stderr",
     "output_type": "stream",
     "text": [
      "100%|██████████| 716/716 [01:01<00:00, 11.70it/s]\n"
     ]
    },
    {
     "name": "stdout",
     "output_type": "stream",
     "text": [
      "{'val_loss': 1.828514418950895, 'val_accuracy': 0.6590389016018307, 'precision': 0.6555386974380101, 'recall': 0.6590389016018307, 'f1-score': 0.6458419834865771, 'macro_f1-score': 0.4032985989333577, 'balanced_accuracy': 0.41858274147070224, 'mcc': 0.5500851095363648, 'train_loss': 0.3534705034852569}\n",
      "Epoch 5/20\n"
     ]
    },
    {
     "name": "stderr",
     "output_type": "stream",
     "text": [
      "100%|██████████| 716/716 [01:01<00:00, 11.71it/s]\n"
     ]
    },
    {
     "name": "stdout",
     "output_type": "stream",
     "text": [
      "{'val_loss': 1.9062752251218005, 'val_accuracy': 0.6300533943554538, 'precision': 0.6397355864079931, 'recall': 0.6300533943554538, 'f1-score': 0.624627749237249, 'macro_f1-score': 0.38933160556388763, 'balanced_accuracy': 0.3908141966721664, 'mcc': 0.5205908809739023, 'train_loss': 0.207927274243261}\n",
      "Epoch 6/20\n"
     ]
    },
    {
     "name": "stderr",
     "output_type": "stream",
     "text": [
      "100%|██████████| 716/716 [01:01<00:00, 11.70it/s]\n"
     ]
    },
    {
     "name": "stdout",
     "output_type": "stream",
     "text": [
      "{'val_loss': 2.2483268016722144, 'val_accuracy': 0.6414950419527079, 'precision': 0.640183426718167, 'recall': 0.6414950419527079, 'f1-score': 0.6240125216355545, 'macro_f1-score': 0.40773948751343964, 'balanced_accuracy': 0.3936411389681111, 'mcc': 0.5232165853022747, 'train_loss': 0.1545024726015656}\n",
      "Early stopping.\n",
      "\n",
      " === bert-base-uncased + cnn + t5 Final 5-fold Cross-Validation Results ===\n",
      "val_loss: 2.2038\n",
      "val_accuracy: 0.6361\n",
      "precision: 0.6451\n",
      "recall: 0.6361\n",
      "f1-score: 0.6262\n",
      "macro_f1-score: 0.4127\n",
      "balanced_accuracy: 0.4172\n",
      "mcc: 0.5217\n",
      "train_loss: 0.3794\n",
      "total_seconds: 15239.0000\n",
      "total_time: 4 hrs 13 mins 59 secs\n",
      "▶ Running: bert-base-uncased + lstm + t5\n",
      "tokenizer is bert-base-uncased\n",
      "Using device: cuda\n",
      "CUDA Available: True\n",
      "CUDA Device: NVIDIA GeForce RTX 5070 Ti\n",
      "Current GPU Memory Allocated: 0.02 GB\n",
      "Current GPU Memory Cached: 3.15 GB\n",
      "\n",
      "[Fold 1]\n",
      "🚀 Using T5-paraphraser for data augmentation + under-sampling\n",
      "🔻 Under-sampling label 0: 2471 → 2000\n",
      "🔧 Augmenting label 1: 21 → 200 (+179)\n",
      "🔧 Augmenting label 2: 64 → 200 (+136)\n",
      "🔧 Augmenting label 3: 24 → 200 (+176)\n",
      "🔧 Augmenting label 4: 191 → 200 (+9)\n",
      "🔧 Augmenting label 5: 113 → 200 (+87)\n",
      "🔧 Augmenting label 6: 93 → 200 (+107)\n",
      "🔧 Augmenting label 7: 30 → 200 (+170)\n",
      "🔧 Augmenting label 8: 68 → 200 (+132)\n",
      "🔧 Augmenting label 9: 30 → 200 (+170)\n",
      "🔧 Augmenting label 10: 67 → 200 (+133)\n",
      "🔧 Augmenting label 11: 169 → 200 (+31)\n",
      "🔧 Augmenting label 12: 189 → 200 (+11)\n",
      "🔧 Augmenting label 13: 29 → 200 (+171)\n",
      "🔧 Augmenting label 14: 22 → 200 (+178)\n",
      "🔧 Augmenting label 15: 25 → 200 (+175)\n",
      "🔧 Augmenting label 16: 19 → 200 (+181)\n",
      "🔧 Augmenting label 17: 183 → 200 (+17)\n",
      "🔧 Augmenting label 18: 92 → 200 (+108)\n",
      "🔧 Augmenting label 19: 44 → 200 (+156)\n",
      "🔧 Augmenting label 20: 13 → 200 (+187)\n",
      "🔧 Augmenting label 21: 35 → 200 (+165)\n",
      "🔧 Augmenting label 22: 76 → 200 (+124)\n",
      "🔧 Augmenting label 23: 158 → 200 (+42)\n",
      "🔧 Augmenting label 24: 13 → 200 (+187)\n",
      "🔧 Augmenting label 25: 44 → 200 (+156)\n",
      "🔧 Augmenting label 26: 84 → 200 (+116)\n",
      "🔧 Augmenting label 27: 48 → 200 (+152)\n",
      "🔧 Augmenting label 28: 11 → 200 (+189)\n",
      "🔧 Augmenting label 29: 13 → 200 (+187)\n",
      "🔧 Augmenting label 30: 11 → 200 (+189)\n",
      "🔧 Augmenting label 31: 75 → 200 (+125)\n",
      "🔧 Augmenting label 32: 36 → 200 (+164)\n",
      "🔧 Augmenting label 33: 32 → 200 (+168)\n",
      "🔧 Augmenting label 34: 29 → 200 (+171)\n",
      "🔧 Augmenting label 35: 11 → 200 (+189)\n",
      "🔧 Augmenting label 36: 22 → 200 (+178)\n",
      "🔧 Augmenting label 37: 16 → 200 (+184)\n",
      "🔧 Augmenting label 38: 33 → 200 (+167)\n",
      "🔧 Augmenting label 39: 10 → 200 (+190)\n",
      "🔧 Augmenting label 40: 9 → 200 (+191)\n",
      "🔧 Augmenting label 41: 57 → 200 (+143)\n",
      "🔧 Augmenting label 42: 19 → 200 (+181)\n",
      "🔧 Augmenting label 43: 8 → 200 (+192)\n",
      "🔧 Augmenting label 44: 54 → 200 (+146)\n",
      "🔧 Augmenting label 46: 61 → 200 (+139)\n",
      "🔧 Augmenting label 47: 80 → 200 (+120)\n",
      "Label distribution after resampling:\n",
      "  label 0: 2000\n",
      "  label 1: 200\n",
      "  label 2: 200\n",
      "  label 3: 200\n",
      "  label 4: 200\n",
      "  label 5: 200\n",
      "  label 6: 200\n",
      "  label 7: 200\n",
      "  label 8: 200\n",
      "  label 9: 200\n",
      "  label 10: 200\n",
      "  label 11: 200\n",
      "  label 12: 200\n",
      "  label 13: 200\n",
      "  label 14: 200\n",
      "  label 15: 200\n",
      "  label 16: 200\n",
      "  label 17: 200\n",
      "  label 18: 200\n",
      "  label 19: 200\n",
      "  label 20: 200\n",
      "  label 21: 200\n",
      "  label 22: 200\n",
      "  label 23: 200\n",
      "  label 24: 200\n",
      "  label 25: 200\n",
      "  label 26: 200\n",
      "  label 27: 200\n",
      "  label 28: 200\n",
      "  label 29: 200\n",
      "  label 30: 200\n",
      "  label 31: 200\n",
      "  label 32: 200\n",
      "  label 33: 200\n",
      "  label 34: 200\n",
      "  label 35: 200\n",
      "  label 36: 200\n",
      "  label 37: 200\n",
      "  label 38: 200\n",
      "  label 39: 200\n",
      "  label 40: 200\n",
      "  label 41: 200\n",
      "  label 42: 200\n",
      "  label 43: 200\n",
      "  label 44: 200\n",
      "  label 45: 242\n",
      "  label 46: 200\n",
      "  label 47: 200\n",
      "model is bert-base-uncased lstm\n",
      "Using weighted CrossEntropyLoss with weights: tensor([1.7441, 4.0467, 4.0467, 4.0467, 4.0467, 4.0467, 4.0467, 4.0467, 4.0467,\n",
      "        4.0467, 4.0467, 4.0467, 4.0467, 4.0467, 4.0467, 4.0467, 4.0467, 4.0467,\n",
      "        4.0467, 4.0467, 4.0467, 4.0467, 4.0467, 4.0467, 4.0467, 4.0467, 4.0467,\n",
      "        4.0467, 4.0467, 4.0467, 4.0467, 4.0467, 4.0467, 4.0467, 4.0467, 4.0467,\n",
      "        4.0467, 4.0467, 4.0467, 4.0467, 4.0467, 4.0467, 4.0467, 4.0467, 4.0467,\n",
      "        3.8561, 4.0467, 4.0467], device='cuda:0')\n",
      "Epoch 1/20\n"
     ]
    },
    {
     "name": "stderr",
     "output_type": "stream",
     "text": [
      "100%|██████████| 716/716 [01:04<00:00, 11.18it/s]\n"
     ]
    },
    {
     "name": "stdout",
     "output_type": "stream",
     "text": [
      "{'val_loss': 2.0616773403272397, 'val_accuracy': 0.5228658536585366, 'precision': 0.5873956916499705, 'recall': 0.5228658536585366, 'f1-score': 0.5108725730552031, 'macro_f1-score': 0.2713168761239621, 'balanced_accuracy': 0.34922894599521653, 'mcc': 0.3848063645004986, 'train_loss': 2.61081957833727}\n",
      "Epoch 2/20\n"
     ]
    },
    {
     "name": "stderr",
     "output_type": "stream",
     "text": [
      "100%|██████████| 716/716 [01:04<00:00, 11.12it/s]\n"
     ]
    },
    {
     "name": "stdout",
     "output_type": "stream",
     "text": [
      "{'val_loss': 1.777013485751501, 'val_accuracy': 0.6150914634146342, 'precision': 0.616006892834225, 'recall': 0.6150914634146342, 'f1-score': 0.5946706635975966, 'macro_f1-score': 0.34284435626163473, 'balanced_accuracy': 0.35399606333073974, 'mcc': 0.4775383616666926, 'train_loss': 1.3120538495772378}\n",
      "Epoch 3/20\n"
     ]
    },
    {
     "name": "stderr",
     "output_type": "stream",
     "text": [
      "100%|██████████| 716/716 [01:04<00:00, 11.14it/s]\n"
     ]
    },
    {
     "name": "stdout",
     "output_type": "stream",
     "text": [
      "{'val_loss': 1.9560709595680237, 'val_accuracy': 0.6326219512195121, 'precision': 0.6008939817950227, 'recall': 0.6326219512195121, 'f1-score': 0.5899807512623095, 'macro_f1-score': 0.3440973767726267, 'balanced_accuracy': 0.31870268021824855, 'mcc': 0.48567751503391593, 'train_loss': 0.7942181350090983}\n",
      "Epoch 4/20\n"
     ]
    },
    {
     "name": "stderr",
     "output_type": "stream",
     "text": [
      "100%|██████████| 716/716 [01:04<00:00, 11.08it/s]\n"
     ]
    },
    {
     "name": "stdout",
     "output_type": "stream",
     "text": [
      "{'val_loss': 1.908427992971932, 'val_accuracy': 0.6265243902439024, 'precision': 0.6501128277495511, 'recall': 0.6265243902439024, 'f1-score': 0.6250127602899649, 'macro_f1-score': 0.4002896266605597, 'balanced_accuracy': 0.42138197529791915, 'mcc': 0.5120602588356867, 'train_loss': 0.5233488921388234}\n",
      "Epoch 5/20\n"
     ]
    },
    {
     "name": "stderr",
     "output_type": "stream",
     "text": [
      "100%|██████████| 716/716 [01:04<00:00, 11.12it/s]\n"
     ]
    },
    {
     "name": "stdout",
     "output_type": "stream",
     "text": [
      "{'val_loss': 2.050481709765225, 'val_accuracy': 0.6333841463414634, 'precision': 0.6228279332254929, 'recall': 0.6333841463414634, 'f1-score': 0.6136587679911814, 'macro_f1-score': 0.3815223122289339, 'balanced_accuracy': 0.360977582512571, 'mcc': 0.5030698778815786, 'train_loss': 0.3767747013860866}\n",
      "Epoch 6/20\n"
     ]
    },
    {
     "name": "stderr",
     "output_type": "stream",
     "text": [
      "100%|██████████| 716/716 [01:04<00:00, 11.09it/s]\n"
     ]
    },
    {
     "name": "stdout",
     "output_type": "stream",
     "text": [
      "{'val_loss': 1.9789726007275465, 'val_accuracy': 0.6310975609756098, 'precision': 0.6332403932286338, 'recall': 0.6310975609756098, 'f1-score': 0.6230141530044866, 'macro_f1-score': 0.41137471868781655, 'balanced_accuracy': 0.42790941284243583, 'mcc': 0.5172704228730595, 'train_loss': 0.2792140186046297}\n",
      "Epoch 7/20\n"
     ]
    },
    {
     "name": "stderr",
     "output_type": "stream",
     "text": [
      "100%|██████████| 716/716 [01:04<00:00, 11.12it/s]\n"
     ]
    },
    {
     "name": "stdout",
     "output_type": "stream",
     "text": [
      "{'val_loss': 1.988607104776836, 'val_accuracy': 0.6394817073170732, 'precision': 0.6426466663349398, 'recall': 0.6394817073170732, 'f1-score': 0.6318825515258509, 'macro_f1-score': 0.4070847249969762, 'balanced_accuracy': 0.412471610596113, 'mcc': 0.5293693485431977, 'train_loss': 0.21889923067825884}\n",
      "Epoch 8/20\n"
     ]
    },
    {
     "name": "stderr",
     "output_type": "stream",
     "text": [
      "100%|██████████| 716/716 [01:04<00:00, 11.10it/s]\n"
     ]
    },
    {
     "name": "stdout",
     "output_type": "stream",
     "text": [
      "{'val_loss': 2.1517149238143025, 'val_accuracy': 0.6394817073170732, 'precision': 0.6469621779801614, 'recall': 0.6394817073170732, 'f1-score': 0.6375617908782342, 'macro_f1-score': 0.43341509903278014, 'balanced_accuracy': 0.4508589312706835, 'mcc': 0.5312303214723674, 'train_loss': 0.16486088190014428}\n",
      "Epoch 9/20\n"
     ]
    },
    {
     "name": "stderr",
     "output_type": "stream",
     "text": [
      "100%|██████████| 716/716 [01:04<00:00, 11.11it/s]\n"
     ]
    },
    {
     "name": "stdout",
     "output_type": "stream",
     "text": [
      "{'val_loss': 2.117581093093244, 'val_accuracy': 0.6448170731707317, 'precision': 0.6406874512764223, 'recall': 0.6448170731707317, 'f1-score': 0.6337924037550172, 'macro_f1-score': 0.42307895820613517, 'balanced_accuracy': 0.4496766207935888, 'mcc': 0.5336629915649923, 'train_loss': 0.1464867429442277}\n",
      "Epoch 10/20\n"
     ]
    },
    {
     "name": "stderr",
     "output_type": "stream",
     "text": [
      "100%|██████████| 716/716 [01:04<00:00, 11.15it/s]\n"
     ]
    },
    {
     "name": "stdout",
     "output_type": "stream",
     "text": [
      "{'val_loss': 2.350856576750918, 'val_accuracy': 0.6326219512195121, 'precision': 0.609869217105687, 'recall': 0.6326219512195121, 'f1-score': 0.6066484792383273, 'macro_f1-score': 0.36729661866745594, 'balanced_accuracy': 0.3652527291884682, 'mcc': 0.49864956986788106, 'train_loss': 0.13913638010366128}\n",
      "Epoch 11/20\n"
     ]
    },
    {
     "name": "stderr",
     "output_type": "stream",
     "text": [
      "100%|██████████| 716/716 [01:04<00:00, 11.09it/s]\n"
     ]
    },
    {
     "name": "stdout",
     "output_type": "stream",
     "text": [
      "{'val_loss': 2.4436766915931933, 'val_accuracy': 0.6509146341463414, 'precision': 0.6336298967846714, 'recall': 0.6509146341463414, 'f1-score': 0.6310110930367083, 'macro_f1-score': 0.4176009170465189, 'balanced_accuracy': 0.39702279431477644, 'mcc': 0.5268434315343163, 'train_loss': 0.11689279909706128}\n",
      "Early stopping.\n",
      "\n",
      "[Fold 2]\n",
      "🚀 Using T5-paraphraser for data augmentation + under-sampling\n",
      "🔻 Under-sampling label 0: 2471 → 2000\n",
      "🔧 Augmenting label 1: 22 → 200 (+178)\n",
      "🔧 Augmenting label 2: 64 → 200 (+136)\n",
      "🔧 Augmenting label 3: 24 → 200 (+176)\n",
      "🔧 Augmenting label 4: 190 → 200 (+10)\n",
      "🔧 Augmenting label 5: 113 → 200 (+87)\n",
      "🔧 Augmenting label 6: 93 → 200 (+107)\n",
      "🔧 Augmenting label 7: 30 → 200 (+170)\n",
      "🔧 Augmenting label 8: 68 → 200 (+132)\n",
      "🔧 Augmenting label 9: 30 → 200 (+170)\n",
      "🔧 Augmenting label 10: 67 → 200 (+133)\n",
      "🔧 Augmenting label 11: 169 → 200 (+31)\n",
      "🔧 Augmenting label 12: 189 → 200 (+11)\n",
      "🔧 Augmenting label 13: 29 → 200 (+171)\n",
      "🔧 Augmenting label 14: 23 → 200 (+177)\n",
      "🔧 Augmenting label 15: 24 → 200 (+176)\n",
      "🔧 Augmenting label 16: 20 → 200 (+180)\n",
      "🔧 Augmenting label 17: 182 → 200 (+18)\n",
      "🔧 Augmenting label 18: 92 → 200 (+108)\n",
      "🔧 Augmenting label 19: 44 → 200 (+156)\n",
      "🔧 Augmenting label 20: 13 → 200 (+187)\n",
      "🔧 Augmenting label 21: 36 → 200 (+164)\n",
      "🔧 Augmenting label 22: 76 → 200 (+124)\n",
      "🔧 Augmenting label 23: 157 → 200 (+43)\n",
      "🔧 Augmenting label 24: 12 → 200 (+188)\n",
      "🔧 Augmenting label 25: 44 → 200 (+156)\n",
      "🔧 Augmenting label 26: 84 → 200 (+116)\n",
      "🔧 Augmenting label 27: 48 → 200 (+152)\n",
      "🔧 Augmenting label 28: 12 → 200 (+188)\n",
      "🔧 Augmenting label 29: 12 → 200 (+188)\n",
      "🔧 Augmenting label 30: 12 → 200 (+188)\n",
      "🔧 Augmenting label 31: 75 → 200 (+125)\n",
      "🔧 Augmenting label 32: 36 → 200 (+164)\n",
      "🔧 Augmenting label 33: 31 → 200 (+169)\n",
      "🔧 Augmenting label 34: 29 → 200 (+171)\n",
      "🔧 Augmenting label 35: 12 → 200 (+188)\n",
      "🔧 Augmenting label 36: 21 → 200 (+179)\n",
      "🔧 Augmenting label 37: 16 → 200 (+184)\n",
      "🔧 Augmenting label 38: 33 → 200 (+167)\n",
      "🔧 Augmenting label 39: 11 → 200 (+189)\n",
      "🔧 Augmenting label 40: 8 → 200 (+192)\n",
      "🔧 Augmenting label 41: 57 → 200 (+143)\n",
      "🔧 Augmenting label 42: 19 → 200 (+181)\n",
      "🔧 Augmenting label 43: 9 → 200 (+191)\n",
      "🔧 Augmenting label 44: 54 → 200 (+146)\n",
      "🔧 Augmenting label 46: 62 → 200 (+138)\n",
      "🔧 Augmenting label 47: 80 → 200 (+120)\n",
      "Label distribution after resampling:\n",
      "  label 0: 2000\n",
      "  label 1: 200\n",
      "  label 2: 200\n",
      "  label 3: 200\n",
      "  label 4: 200\n",
      "  label 5: 200\n",
      "  label 6: 200\n",
      "  label 7: 200\n",
      "  label 8: 200\n",
      "  label 9: 200\n",
      "  label 10: 200\n",
      "  label 11: 200\n",
      "  label 12: 200\n",
      "  label 13: 200\n",
      "  label 14: 200\n",
      "  label 15: 200\n",
      "  label 16: 200\n",
      "  label 17: 200\n",
      "  label 18: 200\n",
      "  label 19: 200\n",
      "  label 20: 200\n",
      "  label 21: 200\n",
      "  label 22: 200\n",
      "  label 23: 200\n",
      "  label 24: 200\n",
      "  label 25: 200\n",
      "  label 26: 200\n",
      "  label 27: 200\n",
      "  label 28: 200\n",
      "  label 29: 200\n",
      "  label 30: 200\n",
      "  label 31: 200\n",
      "  label 32: 200\n",
      "  label 33: 200\n",
      "  label 34: 200\n",
      "  label 35: 200\n",
      "  label 36: 200\n",
      "  label 37: 200\n",
      "  label 38: 200\n",
      "  label 39: 200\n",
      "  label 40: 200\n",
      "  label 41: 200\n",
      "  label 42: 200\n",
      "  label 43: 200\n",
      "  label 44: 200\n",
      "  label 45: 242\n",
      "  label 46: 200\n",
      "  label 47: 200\n",
      "model is bert-base-uncased lstm\n",
      "Using weighted CrossEntropyLoss with weights: tensor([1.7441, 4.0467, 4.0467, 4.0467, 4.0467, 4.0467, 4.0467, 4.0467, 4.0467,\n",
      "        4.0467, 4.0467, 4.0467, 4.0467, 4.0467, 4.0467, 4.0467, 4.0467, 4.0467,\n",
      "        4.0467, 4.0467, 4.0467, 4.0467, 4.0467, 4.0467, 4.0467, 4.0467, 4.0467,\n",
      "        4.0467, 4.0467, 4.0467, 4.0467, 4.0467, 4.0467, 4.0467, 4.0467, 4.0467,\n",
      "        4.0467, 4.0467, 4.0467, 4.0467, 4.0467, 4.0467, 4.0467, 4.0467, 4.0467,\n",
      "        3.8561, 4.0467, 4.0467], device='cuda:0')\n",
      "Epoch 1/20\n"
     ]
    },
    {
     "name": "stderr",
     "output_type": "stream",
     "text": [
      "100%|██████████| 716/716 [01:04<00:00, 11.12it/s]\n"
     ]
    },
    {
     "name": "stdout",
     "output_type": "stream",
     "text": [
      "{'val_loss': 1.915278271204088, 'val_accuracy': 0.5926773455377574, 'precision': 0.5634575580263794, 'recall': 0.5926773455377574, 'f1-score': 0.557382856722161, 'macro_f1-score': 0.30164699424468644, 'balanced_accuracy': 0.3321437904790712, 'mcc': 0.44499581025574847, 'train_loss': 2.6164935837244854}\n",
      "Epoch 2/20\n"
     ]
    },
    {
     "name": "stderr",
     "output_type": "stream",
     "text": [
      "100%|██████████| 716/716 [01:04<00:00, 11.13it/s]\n"
     ]
    },
    {
     "name": "stdout",
     "output_type": "stream",
     "text": [
      "{'val_loss': 1.6990592610545274, 'val_accuracy': 0.6064073226544623, 'precision': 0.6111873795999231, 'recall': 0.6064073226544623, 'f1-score': 0.5914055516647502, 'macro_f1-score': 0.35749621702525464, 'balanced_accuracy': 0.396883171004939, 'mcc': 0.4840890173170429, 'train_loss': 1.3580494325337462}\n",
      "Epoch 3/20\n"
     ]
    },
    {
     "name": "stderr",
     "output_type": "stream",
     "text": [
      "100%|██████████| 716/716 [01:04<00:00, 11.11it/s]\n"
     ]
    },
    {
     "name": "stdout",
     "output_type": "stream",
     "text": [
      "{'val_loss': 1.677417409129259, 'val_accuracy': 0.6544622425629291, 'precision': 0.6506655908005823, 'recall': 0.6544622425629291, 'f1-score': 0.6353625369242425, 'macro_f1-score': 0.41017652576989166, 'balanced_accuracy': 0.4401826416119828, 'mcc': 0.5341282681922901, 'train_loss': 0.8238527838078291}\n",
      "Epoch 4/20\n"
     ]
    },
    {
     "name": "stderr",
     "output_type": "stream",
     "text": [
      "100%|██████████| 716/716 [01:04<00:00, 11.09it/s]\n"
     ]
    },
    {
     "name": "stdout",
     "output_type": "stream",
     "text": [
      "{'val_loss': 1.8616326015170028, 'val_accuracy': 0.6514111365369947, 'precision': 0.6215618331983864, 'recall': 0.6514111365369947, 'f1-score': 0.6135325274313869, 'macro_f1-score': 0.35685457827648975, 'balanced_accuracy': 0.33512108559816256, 'mcc': 0.5165395706399859, 'train_loss': 0.5384937689051698}\n",
      "Epoch 5/20\n"
     ]
    },
    {
     "name": "stderr",
     "output_type": "stream",
     "text": [
      "100%|██████████| 716/716 [01:04<00:00, 11.10it/s]\n"
     ]
    },
    {
     "name": "stdout",
     "output_type": "stream",
     "text": [
      "{'val_loss': 1.8087688582699473, 'val_accuracy': 0.6521739130434783, 'precision': 0.6434475658669341, 'recall': 0.6521739130434783, 'f1-score': 0.6347717064004162, 'macro_f1-score': 0.37969286894899207, 'balanced_accuracy': 0.37854246597316615, 'mcc': 0.5328533624953782, 'train_loss': 0.3847534064224312}\n",
      "Epoch 6/20\n"
     ]
    },
    {
     "name": "stderr",
     "output_type": "stream",
     "text": [
      "100%|██████████| 716/716 [01:04<00:00, 11.11it/s]\n"
     ]
    },
    {
     "name": "stdout",
     "output_type": "stream",
     "text": [
      "{'val_loss': 1.914204907126543, 'val_accuracy': 0.6514111365369947, 'precision': 0.6338147189235006, 'recall': 0.6514111365369947, 'f1-score': 0.6298639888144668, 'macro_f1-score': 0.3954038087791385, 'balanced_accuracy': 0.39446662389871445, 'mcc': 0.5320233716705725, 'train_loss': 0.27577988691784067}\n",
      "Early stopping.\n",
      "\n",
      "[Fold 3]\n",
      "🚀 Using T5-paraphraser for data augmentation + under-sampling\n",
      "🔻 Under-sampling label 0: 2471 → 2000\n",
      "🔧 Augmenting label 1: 22 → 200 (+178)\n",
      "🔧 Augmenting label 2: 64 → 200 (+136)\n",
      "🔧 Augmenting label 3: 24 → 200 (+176)\n",
      "🔧 Augmenting label 4: 190 → 200 (+10)\n",
      "🔧 Augmenting label 5: 113 → 200 (+87)\n",
      "🔧 Augmenting label 6: 93 → 200 (+107)\n",
      "🔧 Augmenting label 7: 30 → 200 (+170)\n",
      "🔧 Augmenting label 8: 68 → 200 (+132)\n",
      "🔧 Augmenting label 9: 30 → 200 (+170)\n",
      "🔧 Augmenting label 10: 67 → 200 (+133)\n",
      "🔧 Augmenting label 11: 169 → 200 (+31)\n",
      "🔧 Augmenting label 12: 190 → 200 (+10)\n",
      "🔧 Augmenting label 13: 28 → 200 (+172)\n",
      "🔧 Augmenting label 14: 23 → 200 (+177)\n",
      "🔧 Augmenting label 15: 25 → 200 (+175)\n",
      "🔧 Augmenting label 16: 19 → 200 (+181)\n",
      "🔧 Augmenting label 17: 182 → 200 (+18)\n",
      "🔧 Augmenting label 18: 92 → 200 (+108)\n",
      "🔧 Augmenting label 19: 44 → 200 (+156)\n",
      "🔧 Augmenting label 20: 14 → 200 (+186)\n",
      "🔧 Augmenting label 21: 35 → 200 (+165)\n",
      "🔧 Augmenting label 22: 76 → 200 (+124)\n",
      "🔧 Augmenting label 23: 157 → 200 (+43)\n",
      "🔧 Augmenting label 24: 13 → 200 (+187)\n",
      "🔧 Augmenting label 25: 44 → 200 (+156)\n",
      "🔧 Augmenting label 26: 84 → 200 (+116)\n",
      "🔧 Augmenting label 27: 48 → 200 (+152)\n",
      "🔧 Augmenting label 28: 11 → 200 (+189)\n",
      "🔧 Augmenting label 29: 13 → 200 (+187)\n",
      "🔧 Augmenting label 30: 11 → 200 (+189)\n",
      "🔧 Augmenting label 31: 76 → 200 (+124)\n",
      "🔧 Augmenting label 32: 36 → 200 (+164)\n",
      "🔧 Augmenting label 33: 31 → 200 (+169)\n",
      "🔧 Augmenting label 34: 30 → 200 (+170)\n",
      "🔧 Augmenting label 35: 11 → 200 (+189)\n",
      "🔧 Augmenting label 36: 21 → 200 (+179)\n",
      "🔧 Augmenting label 37: 16 → 200 (+184)\n",
      "🔧 Augmenting label 38: 32 → 200 (+168)\n",
      "🔧 Augmenting label 39: 11 → 200 (+189)\n",
      "🔧 Augmenting label 40: 9 → 200 (+191)\n",
      "🔧 Augmenting label 41: 57 → 200 (+143)\n",
      "🔧 Augmenting label 42: 18 → 200 (+182)\n",
      "🔧 Augmenting label 43: 9 → 200 (+191)\n",
      "🔧 Augmenting label 44: 55 → 200 (+145)\n",
      "🔧 Augmenting label 46: 62 → 200 (+138)\n",
      "🔧 Augmenting label 47: 80 → 200 (+120)\n",
      "Label distribution after resampling:\n",
      "  label 0: 2000\n",
      "  label 1: 200\n",
      "  label 2: 200\n",
      "  label 3: 200\n",
      "  label 4: 200\n",
      "  label 5: 200\n",
      "  label 6: 200\n",
      "  label 7: 200\n",
      "  label 8: 200\n",
      "  label 9: 200\n",
      "  label 10: 200\n",
      "  label 11: 200\n",
      "  label 12: 200\n",
      "  label 13: 200\n",
      "  label 14: 200\n",
      "  label 15: 200\n",
      "  label 16: 200\n",
      "  label 17: 200\n",
      "  label 18: 200\n",
      "  label 19: 200\n",
      "  label 20: 200\n",
      "  label 21: 200\n",
      "  label 22: 200\n",
      "  label 23: 200\n",
      "  label 24: 200\n",
      "  label 25: 200\n",
      "  label 26: 200\n",
      "  label 27: 200\n",
      "  label 28: 200\n",
      "  label 29: 200\n",
      "  label 30: 200\n",
      "  label 31: 200\n",
      "  label 32: 200\n",
      "  label 33: 200\n",
      "  label 34: 200\n",
      "  label 35: 200\n",
      "  label 36: 200\n",
      "  label 37: 200\n",
      "  label 38: 200\n",
      "  label 39: 200\n",
      "  label 40: 200\n",
      "  label 41: 200\n",
      "  label 42: 200\n",
      "  label 43: 200\n",
      "  label 44: 200\n",
      "  label 45: 241\n",
      "  label 46: 200\n",
      "  label 47: 200\n",
      "model is bert-base-uncased lstm\n",
      "Using weighted CrossEntropyLoss with weights: tensor([1.7441, 4.0466, 4.0466, 4.0466, 4.0466, 4.0466, 4.0466, 4.0466, 4.0466,\n",
      "        4.0466, 4.0466, 4.0466, 4.0466, 4.0466, 4.0466, 4.0466, 4.0466, 4.0466,\n",
      "        4.0466, 4.0466, 4.0466, 4.0466, 4.0466, 4.0466, 4.0466, 4.0466, 4.0466,\n",
      "        4.0466, 4.0466, 4.0466, 4.0466, 4.0466, 4.0466, 4.0466, 4.0466, 4.0466,\n",
      "        4.0466, 4.0466, 4.0466, 4.0466, 4.0466, 4.0466, 4.0466, 4.0466, 4.0466,\n",
      "        3.8602, 4.0466, 4.0466], device='cuda:0')\n",
      "Epoch 1/20\n"
     ]
    },
    {
     "name": "stderr",
     "output_type": "stream",
     "text": [
      "100%|██████████| 716/716 [01:04<00:00, 11.14it/s]\n"
     ]
    },
    {
     "name": "stdout",
     "output_type": "stream",
     "text": [
      "{'val_loss': 2.0484729663627905, 'val_accuracy': 0.5560640732265446, 'precision': 0.5862324938719258, 'recall': 0.5560640732265446, 'f1-score': 0.5439151591425214, 'macro_f1-score': 0.2720272988694396, 'balanced_accuracy': 0.3077702415147755, 'mcc': 0.40609735905073574, 'train_loss': 2.591145415337725}\n",
      "Epoch 2/20\n"
     ]
    },
    {
     "name": "stderr",
     "output_type": "stream",
     "text": [
      "100%|██████████| 716/716 [01:04<00:00, 11.14it/s]\n"
     ]
    },
    {
     "name": "stdout",
     "output_type": "stream",
     "text": [
      "{'val_loss': 1.8199121305128423, 'val_accuracy': 0.5697940503432495, 'precision': 0.5689095187228946, 'recall': 0.5697940503432495, 'f1-score': 0.5576475402568228, 'macro_f1-score': 0.32961972603539436, 'balanced_accuracy': 0.3575497277751544, 'mcc': 0.4334856785228829, 'train_loss': 1.2861359244701582}\n",
      "Epoch 3/20\n"
     ]
    },
    {
     "name": "stderr",
     "output_type": "stream",
     "text": [
      "100%|██████████| 716/716 [01:04<00:00, 11.10it/s]\n"
     ]
    },
    {
     "name": "stdout",
     "output_type": "stream",
     "text": [
      "{'val_loss': 1.8075707376730152, 'val_accuracy': 0.6193745232646835, 'precision': 0.6141860464671125, 'recall': 0.6193745232646835, 'f1-score': 0.6079901257274504, 'macro_f1-score': 0.38466699221427825, 'balanced_accuracy': 0.36840458219841016, 'mcc': 0.48942639970878465, 'train_loss': 0.7927499803813309}\n",
      "Epoch 4/20\n"
     ]
    },
    {
     "name": "stderr",
     "output_type": "stream",
     "text": [
      "100%|██████████| 716/716 [01:04<00:00, 11.12it/s]\n"
     ]
    },
    {
     "name": "stdout",
     "output_type": "stream",
     "text": [
      "{'val_loss': 1.8613360495102116, 'val_accuracy': 0.6109839816933639, 'precision': 0.6212560325702291, 'recall': 0.6109839816933639, 'f1-score': 0.6037320790624869, 'macro_f1-score': 0.3897684170102618, 'balanced_accuracy': 0.38645928687748143, 'mcc': 0.4881321811516358, 'train_loss': 0.5571389134983693}\n",
      "Epoch 5/20\n"
     ]
    },
    {
     "name": "stderr",
     "output_type": "stream",
     "text": [
      "100%|██████████| 716/716 [01:04<00:00, 11.09it/s]\n"
     ]
    },
    {
     "name": "stdout",
     "output_type": "stream",
     "text": [
      "{'val_loss': 2.0273026545963635, 'val_accuracy': 0.6033562166285278, 'precision': 0.6112963606834617, 'recall': 0.6033562166285278, 'f1-score': 0.5938213755189925, 'macro_f1-score': 0.3560081668564465, 'balanced_accuracy': 0.3518080747506898, 'mcc': 0.4759003089092244, 'train_loss': 0.3820062463396806}\n",
      "Epoch 6/20\n"
     ]
    },
    {
     "name": "stderr",
     "output_type": "stream",
     "text": [
      "100%|██████████| 716/716 [01:04<00:00, 11.13it/s]\n"
     ]
    },
    {
     "name": "stdout",
     "output_type": "stream",
     "text": [
      "{'val_loss': 2.2016178509901936, 'val_accuracy': 0.631578947368421, 'precision': 0.6237599431371172, 'recall': 0.631578947368421, 'f1-score': 0.612947453316144, 'macro_f1-score': 0.3857263825117889, 'balanced_accuracy': 0.3490368095757493, 'mcc': 0.5006162576005653, 'train_loss': 0.27882498108870324}\n",
      "Epoch 7/20\n"
     ]
    },
    {
     "name": "stderr",
     "output_type": "stream",
     "text": [
      "100%|██████████| 716/716 [01:04<00:00, 11.12it/s]\n"
     ]
    },
    {
     "name": "stdout",
     "output_type": "stream",
     "text": [
      "{'val_loss': 2.186196961780874, 'val_accuracy': 0.6025934401220442, 'precision': 0.6312747826555916, 'recall': 0.6025934401220442, 'f1-score': 0.6038395604196237, 'macro_f1-score': 0.3703740122762748, 'balanced_accuracy': 0.36784390429685415, 'mcc': 0.49587931269958696, 'train_loss': 0.2130904036467406}\n",
      "Early stopping.\n",
      "\n",
      "[Fold 4]\n",
      "🚀 Using T5-paraphraser for data augmentation + under-sampling\n",
      "🔻 Under-sampling label 0: 2471 → 2000\n",
      "🔧 Augmenting label 1: 22 → 200 (+178)\n",
      "🔧 Augmenting label 2: 64 → 200 (+136)\n",
      "🔧 Augmenting label 3: 24 → 200 (+176)\n",
      "🔧 Augmenting label 4: 190 → 200 (+10)\n",
      "🔧 Augmenting label 5: 113 → 200 (+87)\n",
      "🔧 Augmenting label 6: 93 → 200 (+107)\n",
      "🔧 Augmenting label 7: 31 → 200 (+169)\n",
      "🔧 Augmenting label 8: 68 → 200 (+132)\n",
      "🔧 Augmenting label 9: 29 → 200 (+171)\n",
      "🔧 Augmenting label 10: 67 → 200 (+133)\n",
      "🔧 Augmenting label 11: 169 → 200 (+31)\n",
      "🔧 Augmenting label 12: 190 → 200 (+10)\n",
      "🔧 Augmenting label 13: 29 → 200 (+171)\n",
      "🔧 Augmenting label 14: 22 → 200 (+178)\n",
      "🔧 Augmenting label 15: 25 → 200 (+175)\n",
      "🔧 Augmenting label 16: 19 → 200 (+181)\n",
      "🔧 Augmenting label 17: 182 → 200 (+18)\n",
      "🔧 Augmenting label 18: 92 → 200 (+108)\n",
      "🔧 Augmenting label 19: 44 → 200 (+156)\n",
      "🔧 Augmenting label 20: 14 → 200 (+186)\n",
      "🔧 Augmenting label 21: 35 → 200 (+165)\n",
      "🔧 Augmenting label 22: 76 → 200 (+124)\n",
      "🔧 Augmenting label 23: 158 → 200 (+42)\n",
      "🔧 Augmenting label 24: 13 → 200 (+187)\n",
      "🔧 Augmenting label 25: 44 → 200 (+156)\n",
      "🔧 Augmenting label 26: 84 → 200 (+116)\n",
      "🔧 Augmenting label 27: 48 → 200 (+152)\n",
      "🔧 Augmenting label 28: 11 → 200 (+189)\n",
      "🔧 Augmenting label 29: 13 → 200 (+187)\n",
      "🔧 Augmenting label 30: 11 → 200 (+189)\n",
      "🔧 Augmenting label 31: 75 → 200 (+125)\n",
      "🔧 Augmenting label 32: 36 → 200 (+164)\n",
      "🔧 Augmenting label 33: 31 → 200 (+169)\n",
      "🔧 Augmenting label 34: 30 → 200 (+170)\n",
      "🔧 Augmenting label 35: 11 → 200 (+189)\n",
      "🔧 Augmenting label 36: 22 → 200 (+178)\n",
      "🔧 Augmenting label 37: 16 → 200 (+184)\n",
      "🔧 Augmenting label 38: 33 → 200 (+167)\n",
      "🔧 Augmenting label 39: 10 → 200 (+190)\n",
      "🔧 Augmenting label 40: 9 → 200 (+191)\n",
      "🔧 Augmenting label 41: 56 → 200 (+144)\n",
      "🔧 Augmenting label 42: 18 → 200 (+182)\n",
      "🔧 Augmenting label 43: 9 → 200 (+191)\n",
      "🔧 Augmenting label 44: 55 → 200 (+145)\n",
      "🔧 Augmenting label 46: 62 → 200 (+138)\n",
      "🔧 Augmenting label 47: 80 → 200 (+120)\n",
      "Label distribution after resampling:\n",
      "  label 0: 2000\n",
      "  label 1: 200\n",
      "  label 2: 200\n",
      "  label 3: 200\n",
      "  label 4: 200\n",
      "  label 5: 200\n",
      "  label 6: 200\n",
      "  label 7: 200\n",
      "  label 8: 200\n",
      "  label 9: 200\n",
      "  label 10: 200\n",
      "  label 11: 200\n",
      "  label 12: 200\n",
      "  label 13: 200\n",
      "  label 14: 200\n",
      "  label 15: 200\n",
      "  label 16: 200\n",
      "  label 17: 200\n",
      "  label 18: 200\n",
      "  label 19: 200\n",
      "  label 20: 200\n",
      "  label 21: 200\n",
      "  label 22: 200\n",
      "  label 23: 200\n",
      "  label 24: 200\n",
      "  label 25: 200\n",
      "  label 26: 200\n",
      "  label 27: 200\n",
      "  label 28: 200\n",
      "  label 29: 200\n",
      "  label 30: 200\n",
      "  label 31: 200\n",
      "  label 32: 200\n",
      "  label 33: 200\n",
      "  label 34: 200\n",
      "  label 35: 200\n",
      "  label 36: 200\n",
      "  label 37: 200\n",
      "  label 38: 200\n",
      "  label 39: 200\n",
      "  label 40: 200\n",
      "  label 41: 200\n",
      "  label 42: 200\n",
      "  label 43: 200\n",
      "  label 44: 200\n",
      "  label 45: 241\n",
      "  label 46: 200\n",
      "  label 47: 200\n",
      "model is bert-base-uncased lstm\n",
      "Using weighted CrossEntropyLoss with weights: tensor([1.7441, 4.0466, 4.0466, 4.0466, 4.0466, 4.0466, 4.0466, 4.0466, 4.0466,\n",
      "        4.0466, 4.0466, 4.0466, 4.0466, 4.0466, 4.0466, 4.0466, 4.0466, 4.0466,\n",
      "        4.0466, 4.0466, 4.0466, 4.0466, 4.0466, 4.0466, 4.0466, 4.0466, 4.0466,\n",
      "        4.0466, 4.0466, 4.0466, 4.0466, 4.0466, 4.0466, 4.0466, 4.0466, 4.0466,\n",
      "        4.0466, 4.0466, 4.0466, 4.0466, 4.0466, 4.0466, 4.0466, 4.0466, 4.0466,\n",
      "        3.8602, 4.0466, 4.0466], device='cuda:0')\n",
      "Epoch 1/20\n"
     ]
    },
    {
     "name": "stderr",
     "output_type": "stream",
     "text": [
      "100%|██████████| 716/716 [01:04<00:00, 11.14it/s]\n"
     ]
    },
    {
     "name": "stdout",
     "output_type": "stream",
     "text": [
      "{'val_loss': 2.004494938908554, 'val_accuracy': 0.5736079328756675, 'precision': 0.518796550557222, 'recall': 0.5736079328756675, 'f1-score': 0.5080465669073683, 'macro_f1-score': 0.23003810913670675, 'balanced_accuracy': 0.2668171285493566, 'mcc': 0.40237130721528236, 'train_loss': 2.930999903705533}\n",
      "Epoch 2/20\n"
     ]
    },
    {
     "name": "stderr",
     "output_type": "stream",
     "text": [
      "100%|██████████| 716/716 [01:04<00:00, 11.09it/s]\n"
     ]
    },
    {
     "name": "stdout",
     "output_type": "stream",
     "text": [
      "{'val_loss': 1.734395634110381, 'val_accuracy': 0.6056445461479787, 'precision': 0.6274448998211684, 'recall': 0.6056445461479787, 'f1-score': 0.6060543516429608, 'macro_f1-score': 0.35584344350002445, 'balanced_accuracy': 0.3827441135484602, 'mcc': 0.49308303053946684, 'train_loss': 1.5756925987548003}\n",
      "Epoch 3/20\n"
     ]
    },
    {
     "name": "stderr",
     "output_type": "stream",
     "text": [
      "100%|██████████| 716/716 [01:04<00:00, 11.16it/s]\n"
     ]
    },
    {
     "name": "stdout",
     "output_type": "stream",
     "text": [
      "{'val_loss': 1.7198021528197498, 'val_accuracy': 0.6414950419527079, 'precision': 0.6416372752514884, 'recall': 0.6414950419527079, 'f1-score': 0.6313254969588041, 'macro_f1-score': 0.40586883936944296, 'balanced_accuracy': 0.4412800024551906, 'mcc': 0.5269265719435329, 'train_loss': 0.9523175988325526}\n",
      "Epoch 4/20\n"
     ]
    },
    {
     "name": "stderr",
     "output_type": "stream",
     "text": [
      "100%|██████████| 716/716 [01:04<00:00, 11.11it/s]\n"
     ]
    },
    {
     "name": "stdout",
     "output_type": "stream",
     "text": [
      "{'val_loss': 1.7824123785263155, 'val_accuracy': 0.6552250190694127, 'precision': 0.6453354327060716, 'recall': 0.6552250190694127, 'f1-score': 0.6330467095251832, 'macro_f1-score': 0.4001590949082872, 'balanced_accuracy': 0.4080930660282059, 'mcc': 0.5367372509637399, 'train_loss': 0.6162068194048947}\n",
      "Epoch 5/20\n"
     ]
    },
    {
     "name": "stderr",
     "output_type": "stream",
     "text": [
      "100%|██████████| 716/716 [01:04<00:00, 11.12it/s]\n"
     ]
    },
    {
     "name": "stdout",
     "output_type": "stream",
     "text": [
      "{'val_loss': 1.9391996858686935, 'val_accuracy': 0.6521739130434783, 'precision': 0.6506563807450078, 'recall': 0.6521739130434783, 'f1-score': 0.6338927494569812, 'macro_f1-score': 0.3887695178552275, 'balanced_accuracy': 0.37970188592205895, 'mcc': 0.5324601637314129, 'train_loss': 0.4155068185034744}\n",
      "Epoch 6/20\n"
     ]
    },
    {
     "name": "stderr",
     "output_type": "stream",
     "text": [
      "100%|██████████| 716/716 [01:04<00:00, 11.11it/s]\n"
     ]
    },
    {
     "name": "stdout",
     "output_type": "stream",
     "text": [
      "{'val_loss': 1.8383747680885036, 'val_accuracy': 0.6430205949656751, 'precision': 0.6442772319610871, 'recall': 0.6430205949656751, 'f1-score': 0.6377233017109842, 'macro_f1-score': 0.3881062912712232, 'balanced_accuracy': 0.4151103931431976, 'mcc': 0.5434881626569533, 'train_loss': 0.33675184519961476}\n",
      "Early stopping.\n",
      "\n",
      "[Fold 5]\n",
      "🚀 Using T5-paraphraser for data augmentation + under-sampling\n",
      "🔻 Under-sampling label 0: 2472 → 2000\n",
      "🔧 Augmenting label 1: 21 → 200 (+179)\n",
      "🔧 Augmenting label 2: 64 → 200 (+136)\n",
      "🔧 Augmenting label 3: 24 → 200 (+176)\n",
      "🔧 Augmenting label 4: 191 → 200 (+9)\n",
      "🔧 Augmenting label 5: 112 → 200 (+88)\n",
      "🔧 Augmenting label 6: 92 → 200 (+108)\n",
      "🔧 Augmenting label 7: 31 → 200 (+169)\n",
      "🔧 Augmenting label 8: 68 → 200 (+132)\n",
      "🔧 Augmenting label 9: 29 → 200 (+171)\n",
      "🔧 Augmenting label 10: 68 → 200 (+132)\n",
      "🔧 Augmenting label 11: 168 → 200 (+32)\n",
      "🔧 Augmenting label 12: 190 → 200 (+10)\n",
      "🔧 Augmenting label 13: 29 → 200 (+171)\n",
      "🔧 Augmenting label 14: 22 → 200 (+178)\n",
      "🔧 Augmenting label 15: 25 → 200 (+175)\n",
      "🔧 Augmenting label 16: 19 → 200 (+181)\n",
      "🔧 Augmenting label 17: 183 → 200 (+17)\n",
      "🔧 Augmenting label 18: 92 → 200 (+108)\n",
      "🔧 Augmenting label 19: 44 → 200 (+156)\n",
      "🔧 Augmenting label 20: 14 → 200 (+186)\n",
      "🔧 Augmenting label 21: 35 → 200 (+165)\n",
      "🔧 Augmenting label 22: 76 → 200 (+124)\n",
      "🔧 Augmenting label 23: 158 → 200 (+42)\n",
      "🔧 Augmenting label 24: 13 → 200 (+187)\n",
      "🔧 Augmenting label 25: 44 → 200 (+156)\n",
      "🔧 Augmenting label 26: 84 → 200 (+116)\n",
      "🔧 Augmenting label 27: 48 → 200 (+152)\n",
      "🔧 Augmenting label 28: 11 → 200 (+189)\n",
      "🔧 Augmenting label 29: 13 → 200 (+187)\n",
      "🔧 Augmenting label 30: 11 → 200 (+189)\n",
      "🔧 Augmenting label 31: 75 → 200 (+125)\n",
      "🔧 Augmenting label 32: 36 → 200 (+164)\n",
      "🔧 Augmenting label 33: 31 → 200 (+169)\n",
      "🔧 Augmenting label 34: 30 → 200 (+170)\n",
      "🔧 Augmenting label 35: 11 → 200 (+189)\n",
      "🔧 Augmenting label 36: 22 → 200 (+178)\n",
      "🔧 Augmenting label 37: 16 → 200 (+184)\n",
      "🔧 Augmenting label 38: 33 → 200 (+167)\n",
      "🔧 Augmenting label 39: 10 → 200 (+190)\n",
      "🔧 Augmenting label 40: 9 → 200 (+191)\n",
      "🔧 Augmenting label 41: 57 → 200 (+143)\n",
      "🔧 Augmenting label 42: 18 → 200 (+182)\n",
      "🔧 Augmenting label 43: 9 → 200 (+191)\n",
      "🔧 Augmenting label 44: 54 → 200 (+146)\n",
      "🔧 Augmenting label 46: 61 → 200 (+139)\n",
      "🔧 Augmenting label 47: 80 → 200 (+120)\n",
      "Label distribution after resampling:\n",
      "  label 0: 2000\n",
      "  label 1: 200\n",
      "  label 2: 200\n",
      "  label 3: 200\n",
      "  label 4: 200\n",
      "  label 5: 200\n",
      "  label 6: 200\n",
      "  label 7: 200\n",
      "  label 8: 200\n",
      "  label 9: 200\n",
      "  label 10: 200\n",
      "  label 11: 200\n",
      "  label 12: 200\n",
      "  label 13: 200\n",
      "  label 14: 200\n",
      "  label 15: 200\n",
      "  label 16: 200\n",
      "  label 17: 200\n",
      "  label 18: 200\n",
      "  label 19: 200\n",
      "  label 20: 200\n",
      "  label 21: 200\n",
      "  label 22: 200\n",
      "  label 23: 200\n",
      "  label 24: 200\n",
      "  label 25: 200\n",
      "  label 26: 200\n",
      "  label 27: 200\n",
      "  label 28: 200\n",
      "  label 29: 200\n",
      "  label 30: 200\n",
      "  label 31: 200\n",
      "  label 32: 200\n",
      "  label 33: 200\n",
      "  label 34: 200\n",
      "  label 35: 200\n",
      "  label 36: 200\n",
      "  label 37: 200\n",
      "  label 38: 200\n",
      "  label 39: 200\n",
      "  label 40: 200\n",
      "  label 41: 200\n",
      "  label 42: 200\n",
      "  label 43: 200\n",
      "  label 44: 200\n",
      "  label 45: 242\n",
      "  label 46: 200\n",
      "  label 47: 200\n",
      "model is bert-base-uncased lstm\n",
      "Using weighted CrossEntropyLoss with weights: tensor([1.7441, 4.0467, 4.0467, 4.0467, 4.0467, 4.0467, 4.0467, 4.0467, 4.0467,\n",
      "        4.0467, 4.0467, 4.0467, 4.0467, 4.0467, 4.0467, 4.0467, 4.0467, 4.0467,\n",
      "        4.0467, 4.0467, 4.0467, 4.0467, 4.0467, 4.0467, 4.0467, 4.0467, 4.0467,\n",
      "        4.0467, 4.0467, 4.0467, 4.0467, 4.0467, 4.0467, 4.0467, 4.0467, 4.0467,\n",
      "        4.0467, 4.0467, 4.0467, 4.0467, 4.0467, 4.0467, 4.0467, 4.0467, 4.0467,\n",
      "        3.8561, 4.0467, 4.0467], device='cuda:0')\n",
      "Epoch 1/20\n"
     ]
    },
    {
     "name": "stderr",
     "output_type": "stream",
     "text": [
      "100%|██████████| 716/716 [01:04<00:00, 11.18it/s]\n"
     ]
    },
    {
     "name": "stdout",
     "output_type": "stream",
     "text": [
      "{'val_loss': 2.010022790693655, 'val_accuracy': 0.517162471395881, 'precision': 0.5361891777589503, 'recall': 0.517162471395881, 'f1-score': 0.4886683222030607, 'macro_f1-score': 0.22981910635509886, 'balanced_accuracy': 0.27943264194465084, 'mcc': 0.3641871731520252, 'train_loss': 2.668496420596565}\n",
      "Epoch 2/20\n"
     ]
    },
    {
     "name": "stderr",
     "output_type": "stream",
     "text": [
      "100%|██████████| 716/716 [01:04<00:00, 11.11it/s]\n"
     ]
    },
    {
     "name": "stdout",
     "output_type": "stream",
     "text": [
      "{'val_loss': 1.7213262588512608, 'val_accuracy': 0.5957284515636918, 'precision': 0.6024547557195999, 'recall': 0.5957284515636918, 'f1-score': 0.5899671796410676, 'macro_f1-score': 0.35343850798932824, 'balanced_accuracy': 0.4020785938604777, 'mcc': 0.47973038842778193, 'train_loss': 1.409246216772655}\n",
      "Epoch 3/20\n"
     ]
    },
    {
     "name": "stderr",
     "output_type": "stream",
     "text": [
      "100%|██████████| 716/716 [01:04<00:00, 11.14it/s]\n"
     ]
    },
    {
     "name": "stdout",
     "output_type": "stream",
     "text": [
      "{'val_loss': 1.7780679202661283, 'val_accuracy': 0.6529366895499619, 'precision': 0.6308235905343104, 'recall': 0.6529366895499619, 'f1-score': 0.6153071480163208, 'macro_f1-score': 0.391149202725601, 'balanced_accuracy': 0.3731754181287134, 'mcc': 0.5250778143814282, 'train_loss': 0.8752956420349676}\n",
      "Epoch 4/20\n"
     ]
    },
    {
     "name": "stderr",
     "output_type": "stream",
     "text": [
      "100%|██████████| 716/716 [01:04<00:00, 11.09it/s]\n"
     ]
    },
    {
     "name": "stdout",
     "output_type": "stream",
     "text": [
      "{'val_loss': 1.8621193530356013, 'val_accuracy': 0.6536994660564455, 'precision': 0.633682768334801, 'recall': 0.6536994660564455, 'f1-score': 0.6254533905799059, 'macro_f1-score': 0.3832100411580111, 'balanced_accuracy': 0.3565824713390359, 'mcc': 0.524520916419525, 'train_loss': 0.6190780565381966}\n",
      "Epoch 5/20\n"
     ]
    },
    {
     "name": "stderr",
     "output_type": "stream",
     "text": [
      "100%|██████████| 716/716 [01:04<00:00, 11.13it/s]\n"
     ]
    },
    {
     "name": "stdout",
     "output_type": "stream",
     "text": [
      "{'val_loss': 1.794997175655714, 'val_accuracy': 0.6270022883295194, 'precision': 0.6520979150070104, 'recall': 0.6270022883295194, 'f1-score': 0.6320009195211491, 'macro_f1-score': 0.41019267480378724, 'balanced_accuracy': 0.4411035961355763, 'mcc': 0.5260402704296215, 'train_loss': 0.4117381001338779}\n",
      "Epoch 6/20\n"
     ]
    },
    {
     "name": "stderr",
     "output_type": "stream",
     "text": [
      "100%|██████████| 716/716 [01:04<00:00, 11.10it/s]\n"
     ]
    },
    {
     "name": "stdout",
     "output_type": "stream",
     "text": [
      "{'val_loss': 2.008922318859798, 'val_accuracy': 0.6346300533943554, 'precision': 0.6304793763181229, 'recall': 0.6346300533943554, 'f1-score': 0.6113867389471637, 'macro_f1-score': 0.36286999423079785, 'balanced_accuracy': 0.3372825250614051, 'mcc': 0.5084250040641537, 'train_loss': 0.30518506124209843}\n",
      "Epoch 7/20\n"
     ]
    },
    {
     "name": "stderr",
     "output_type": "stream",
     "text": [
      "100%|██████████| 716/716 [01:04<00:00, 11.12it/s]\n"
     ]
    },
    {
     "name": "stdout",
     "output_type": "stream",
     "text": [
      "{'val_loss': 1.9545057045250405, 'val_accuracy': 0.6346300533943554, 'precision': 0.6637973727947055, 'recall': 0.6346300533943554, 'f1-score': 0.6378455026638271, 'macro_f1-score': 0.4042202747308896, 'balanced_accuracy': 0.38913672232369295, 'mcc': 0.5218224423512028, 'train_loss': 0.2406268576498263}\n",
      "Epoch 8/20\n"
     ]
    },
    {
     "name": "stderr",
     "output_type": "stream",
     "text": [
      "100%|██████████| 716/716 [01:04<00:00, 11.15it/s]\n"
     ]
    },
    {
     "name": "stdout",
     "output_type": "stream",
     "text": [
      "{'val_loss': 2.1648664721628514, 'val_accuracy': 0.6498855835240275, 'precision': 0.6359274611084448, 'recall': 0.6498855835240275, 'f1-score': 0.6314572777614599, 'macro_f1-score': 0.4041696490861895, 'balanced_accuracy': 0.3908454877366405, 'mcc': 0.5279729985824337, 'train_loss': 0.19019433737383876}\n",
      "Early stopping.\n",
      "\n",
      " === bert-base-uncased + lstm + t5 Final 5-fold Cross-Validation Results ===\n",
      "val_loss: 1.8411\n",
      "val_accuracy: 0.6347\n",
      "precision: 0.6425\n",
      "recall: 0.6347\n",
      "f1-score: 0.6280\n",
      "macro_f1-score: 0.4099\n",
      "balanced_accuracy: 0.4320\n",
      "mcc: 0.5213\n",
      "train_loss: 0.5820\n",
      "total_seconds: 10105.0000\n",
      "total_time: 2 hrs 48 mins 25 secs\n",
      "▶ Running: bert-base-uncased + bilstm + t5\n",
      "tokenizer is bert-base-uncased\n",
      "Using device: cuda\n",
      "CUDA Available: True\n",
      "CUDA Device: NVIDIA GeForce RTX 5070 Ti\n",
      "Current GPU Memory Allocated: 0.02 GB\n",
      "Current GPU Memory Cached: 3.25 GB\n",
      "\n",
      "[Fold 1]\n",
      "🚀 Using T5-paraphraser for data augmentation + under-sampling\n",
      "🔻 Under-sampling label 0: 2471 → 2000\n",
      "🔧 Augmenting label 1: 21 → 200 (+179)\n",
      "🔧 Augmenting label 2: 64 → 200 (+136)\n",
      "🔧 Augmenting label 3: 24 → 200 (+176)\n",
      "🔧 Augmenting label 4: 191 → 200 (+9)\n",
      "🔧 Augmenting label 5: 113 → 200 (+87)\n",
      "🔧 Augmenting label 6: 93 → 200 (+107)\n",
      "🔧 Augmenting label 7: 30 → 200 (+170)\n",
      "🔧 Augmenting label 8: 68 → 200 (+132)\n",
      "🔧 Augmenting label 9: 30 → 200 (+170)\n",
      "🔧 Augmenting label 10: 67 → 200 (+133)\n",
      "🔧 Augmenting label 11: 169 → 200 (+31)\n",
      "🔧 Augmenting label 12: 189 → 200 (+11)\n",
      "🔧 Augmenting label 13: 29 → 200 (+171)\n",
      "🔧 Augmenting label 14: 22 → 200 (+178)\n",
      "🔧 Augmenting label 15: 25 → 200 (+175)\n",
      "🔧 Augmenting label 16: 19 → 200 (+181)\n",
      "🔧 Augmenting label 17: 183 → 200 (+17)\n",
      "🔧 Augmenting label 18: 92 → 200 (+108)\n",
      "🔧 Augmenting label 19: 44 → 200 (+156)\n",
      "🔧 Augmenting label 20: 13 → 200 (+187)\n",
      "🔧 Augmenting label 21: 35 → 200 (+165)\n",
      "🔧 Augmenting label 22: 76 → 200 (+124)\n",
      "🔧 Augmenting label 23: 158 → 200 (+42)\n",
      "🔧 Augmenting label 24: 13 → 200 (+187)\n",
      "🔧 Augmenting label 25: 44 → 200 (+156)\n",
      "🔧 Augmenting label 26: 84 → 200 (+116)\n",
      "🔧 Augmenting label 27: 48 → 200 (+152)\n",
      "🔧 Augmenting label 28: 11 → 200 (+189)\n",
      "🔧 Augmenting label 29: 13 → 200 (+187)\n",
      "🔧 Augmenting label 30: 11 → 200 (+189)\n",
      "🔧 Augmenting label 31: 75 → 200 (+125)\n",
      "🔧 Augmenting label 32: 36 → 200 (+164)\n",
      "🔧 Augmenting label 33: 32 → 200 (+168)\n",
      "🔧 Augmenting label 34: 29 → 200 (+171)\n",
      "🔧 Augmenting label 35: 11 → 200 (+189)\n",
      "🔧 Augmenting label 36: 22 → 200 (+178)\n",
      "🔧 Augmenting label 37: 16 → 200 (+184)\n",
      "🔧 Augmenting label 38: 33 → 200 (+167)\n",
      "🔧 Augmenting label 39: 10 → 200 (+190)\n",
      "🔧 Augmenting label 40: 9 → 200 (+191)\n",
      "🔧 Augmenting label 41: 57 → 200 (+143)\n",
      "🔧 Augmenting label 42: 19 → 200 (+181)\n",
      "🔧 Augmenting label 43: 8 → 200 (+192)\n",
      "🔧 Augmenting label 44: 54 → 200 (+146)\n",
      "🔧 Augmenting label 46: 61 → 200 (+139)\n",
      "🔧 Augmenting label 47: 80 → 200 (+120)\n",
      "Label distribution after resampling:\n",
      "  label 0: 2000\n",
      "  label 1: 200\n",
      "  label 2: 200\n",
      "  label 3: 200\n",
      "  label 4: 200\n",
      "  label 5: 200\n",
      "  label 6: 200\n",
      "  label 7: 200\n",
      "  label 8: 200\n",
      "  label 9: 200\n",
      "  label 10: 200\n",
      "  label 11: 200\n",
      "  label 12: 200\n",
      "  label 13: 200\n",
      "  label 14: 200\n",
      "  label 15: 200\n",
      "  label 16: 200\n",
      "  label 17: 200\n",
      "  label 18: 200\n",
      "  label 19: 200\n",
      "  label 20: 200\n",
      "  label 21: 200\n",
      "  label 22: 200\n",
      "  label 23: 200\n",
      "  label 24: 200\n",
      "  label 25: 200\n",
      "  label 26: 200\n",
      "  label 27: 200\n",
      "  label 28: 200\n",
      "  label 29: 200\n",
      "  label 30: 200\n",
      "  label 31: 200\n",
      "  label 32: 200\n",
      "  label 33: 200\n",
      "  label 34: 200\n",
      "  label 35: 200\n",
      "  label 36: 200\n",
      "  label 37: 200\n",
      "  label 38: 200\n",
      "  label 39: 200\n",
      "  label 40: 200\n",
      "  label 41: 200\n",
      "  label 42: 200\n",
      "  label 43: 200\n",
      "  label 44: 200\n",
      "  label 45: 242\n",
      "  label 46: 200\n",
      "  label 47: 200\n",
      "model is bert-base-uncased bilstm\n",
      "Using weighted CrossEntropyLoss with weights: tensor([1.7441, 4.0467, 4.0467, 4.0467, 4.0467, 4.0467, 4.0467, 4.0467, 4.0467,\n",
      "        4.0467, 4.0467, 4.0467, 4.0467, 4.0467, 4.0467, 4.0467, 4.0467, 4.0467,\n",
      "        4.0467, 4.0467, 4.0467, 4.0467, 4.0467, 4.0467, 4.0467, 4.0467, 4.0467,\n",
      "        4.0467, 4.0467, 4.0467, 4.0467, 4.0467, 4.0467, 4.0467, 4.0467, 4.0467,\n",
      "        4.0467, 4.0467, 4.0467, 4.0467, 4.0467, 4.0467, 4.0467, 4.0467, 4.0467,\n",
      "        3.8561, 4.0467, 4.0467], device='cuda:0')\n",
      "Epoch 1/20\n"
     ]
    },
    {
     "name": "stderr",
     "output_type": "stream",
     "text": [
      "100%|██████████| 716/716 [01:06<00:00, 10.84it/s]\n"
     ]
    },
    {
     "name": "stdout",
     "output_type": "stream",
     "text": [
      "{'val_loss': 2.013484636457955, 'val_accuracy': 0.5769817073170732, 'precision': 0.5005877200231861, 'recall': 0.5769817073170732, 'f1-score': 0.49275471203130666, 'macro_f1-score': 0.24353311907488095, 'balanced_accuracy': 0.2575868067025029, 'mcc': 0.39233640736063013, 'train_loss': 2.702574696121269}\n",
      "Epoch 2/20\n"
     ]
    },
    {
     "name": "stderr",
     "output_type": "stream",
     "text": [
      "100%|██████████| 716/716 [01:06<00:00, 10.82it/s]\n"
     ]
    },
    {
     "name": "stdout",
     "output_type": "stream",
     "text": [
      "{'val_loss': 1.7522098363899603, 'val_accuracy': 0.6112804878048781, 'precision': 0.596201390866305, 'recall': 0.6112804878048781, 'f1-score': 0.5897867512170596, 'macro_f1-score': 0.3775725202273484, 'balanced_accuracy': 0.393130409801592, 'mcc': 0.4850037106111179, 'train_loss': 1.394521425181594}\n",
      "Epoch 3/20\n"
     ]
    },
    {
     "name": "stderr",
     "output_type": "stream",
     "text": [
      "100%|██████████| 716/716 [01:06<00:00, 10.80it/s]\n"
     ]
    },
    {
     "name": "stdout",
     "output_type": "stream",
     "text": [
      "{'val_loss': 1.801354038279231, 'val_accuracy': 0.6440548780487805, 'precision': 0.6180885970516039, 'recall': 0.6440548780487805, 'f1-score': 0.6192404482438317, 'macro_f1-score': 0.40301652048374964, 'balanced_accuracy': 0.3994632758430403, 'mcc': 0.5173703424885927, 'train_loss': 0.8240253226155175}\n",
      "Epoch 4/20\n"
     ]
    },
    {
     "name": "stderr",
     "output_type": "stream",
     "text": [
      "100%|██████████| 716/716 [01:05<00:00, 10.85it/s]\n"
     ]
    },
    {
     "name": "stdout",
     "output_type": "stream",
     "text": [
      "{'val_loss': 1.9169541462892439, 'val_accuracy': 0.6341463414634146, 'precision': 0.6220143249010788, 'recall': 0.6341463414634146, 'f1-score': 0.6080384936733892, 'macro_f1-score': 0.3917969726522012, 'balanced_accuracy': 0.37158377604792436, 'mcc': 0.4983440566875044, 'train_loss': 0.5345304221560002}\n",
      "Epoch 5/20\n"
     ]
    },
    {
     "name": "stderr",
     "output_type": "stream",
     "text": [
      "100%|██████████| 716/716 [01:06<00:00, 10.75it/s]\n"
     ]
    },
    {
     "name": "stdout",
     "output_type": "stream",
     "text": [
      "{'val_loss': 1.8933036189253738, 'val_accuracy': 0.6471036585365854, 'precision': 0.6391667870594488, 'recall': 0.6471036585365854, 'f1-score': 0.6343753832785172, 'macro_f1-score': 0.41386977481666415, 'balanced_accuracy': 0.4224019854253915, 'mcc': 0.5352266500578521, 'train_loss': 0.3575190425585102}\n",
      "Epoch 6/20\n"
     ]
    },
    {
     "name": "stderr",
     "output_type": "stream",
     "text": [
      "100%|██████████| 716/716 [01:06<00:00, 10.79it/s]\n"
     ]
    },
    {
     "name": "stdout",
     "output_type": "stream",
     "text": [
      "{'val_loss': 2.039141447078891, 'val_accuracy': 0.6326219512195121, 'precision': 0.6295411621651814, 'recall': 0.6326219512195121, 'f1-score': 0.6200244571794564, 'macro_f1-score': 0.4166144917534825, 'balanced_accuracy': 0.4224956013092607, 'mcc': 0.509958225274181, 'train_loss': 0.26684342407460154}\n",
      "Epoch 7/20\n"
     ]
    },
    {
     "name": "stderr",
     "output_type": "stream",
     "text": [
      "100%|██████████| 716/716 [01:06<00:00, 10.79it/s]\n"
     ]
    },
    {
     "name": "stdout",
     "output_type": "stream",
     "text": [
      "{'val_loss': 1.9635134615549228, 'val_accuracy': 0.6150914634146342, 'precision': 0.6236194998023722, 'recall': 0.6150914634146342, 'f1-score': 0.6113792972746179, 'macro_f1-score': 0.3759155631561793, 'balanced_accuracy': 0.3921100620916848, 'mcc': 0.504943808046162, 'train_loss': 0.21009615197642473}\n",
      "Epoch 8/20\n"
     ]
    },
    {
     "name": "stderr",
     "output_type": "stream",
     "text": [
      "100%|██████████| 716/716 [01:06<00:00, 10.80it/s]\n"
     ]
    },
    {
     "name": "stdout",
     "output_type": "stream",
     "text": [
      "{'val_loss': 2.1115514988579402, 'val_accuracy': 0.6371951219512195, 'precision': 0.655818356083035, 'recall': 0.6371951219512195, 'f1-score': 0.6376393829798753, 'macro_f1-score': 0.4265580736274583, 'balanced_accuracy': 0.42418959504767423, 'mcc': 0.5296421360485357, 'train_loss': 0.17277408819697673}\n",
      "Epoch 9/20\n"
     ]
    },
    {
     "name": "stderr",
     "output_type": "stream",
     "text": [
      "100%|██████████| 716/716 [01:06<00:00, 10.83it/s]\n"
     ]
    },
    {
     "name": "stdout",
     "output_type": "stream",
     "text": [
      "{'val_loss': 2.1095939718368575, 'val_accuracy': 0.6189024390243902, 'precision': 0.6477914776683094, 'recall': 0.6189024390243902, 'f1-score': 0.6260347352580625, 'macro_f1-score': 0.4187901524108459, 'balanced_accuracy': 0.4278909092995779, 'mcc': 0.5171280066665764, 'train_loss': 0.14251259504687352}\n",
      "Epoch 10/20\n"
     ]
    },
    {
     "name": "stderr",
     "output_type": "stream",
     "text": [
      "100%|██████████| 716/716 [01:06<00:00, 10.76it/s]\n"
     ]
    },
    {
     "name": "stdout",
     "output_type": "stream",
     "text": [
      "{'val_loss': 2.4057460409112092, 'val_accuracy': 0.6539634146341463, 'precision': 0.6480971252773392, 'recall': 0.6539634146341463, 'f1-score': 0.6445822958731806, 'macro_f1-score': 0.4269803499493993, 'balanced_accuracy': 0.42405166437519864, 'mcc': 0.5388328035512975, 'train_loss': 0.1051395268045501}\n",
      "Epoch 11/20\n"
     ]
    },
    {
     "name": "stderr",
     "output_type": "stream",
     "text": [
      "100%|██████████| 716/716 [01:06<00:00, 10.80it/s]\n"
     ]
    },
    {
     "name": "stdout",
     "output_type": "stream",
     "text": [
      "{'val_loss': 2.4734543547397707, 'val_accuracy': 0.6303353658536586, 'precision': 0.6407531550833213, 'recall': 0.6303353658536586, 'f1-score': 0.6201992818771425, 'macro_f1-score': 0.4169508340410544, 'balanced_accuracy': 0.41652890028541867, 'mcc': 0.5135166620616811, 'train_loss': 0.11506607896432426}\n",
      "Epoch 12/20\n"
     ]
    },
    {
     "name": "stderr",
     "output_type": "stream",
     "text": [
      "100%|██████████| 716/716 [01:06<00:00, 10.77it/s]\n"
     ]
    },
    {
     "name": "stdout",
     "output_type": "stream",
     "text": [
      "{'val_loss': 2.4142340172718213, 'val_accuracy': 0.6539634146341463, 'precision': 0.6675095254922538, 'recall': 0.6539634146341463, 'f1-score': 0.6502926042968905, 'macro_f1-score': 0.43693931308799777, 'balanced_accuracy': 0.45453920281202365, 'mcc': 0.5467504434685253, 'train_loss': 0.10628612036914331}\n",
      "Epoch 13/20\n"
     ]
    },
    {
     "name": "stderr",
     "output_type": "stream",
     "text": [
      "100%|██████████| 716/716 [01:06<00:00, 10.78it/s]\n"
     ]
    },
    {
     "name": "stdout",
     "output_type": "stream",
     "text": [
      "{'val_loss': 2.552062935173148, 'val_accuracy': 0.6333841463414634, 'precision': 0.6209608223600396, 'recall': 0.6333841463414634, 'f1-score': 0.6215411638516821, 'macro_f1-score': 0.41081177152443277, 'balanced_accuracy': 0.4107054020449686, 'mcc': 0.5091299904437606, 'train_loss': 0.09116353406557845}\n",
      "Epoch 14/20\n"
     ]
    },
    {
     "name": "stderr",
     "output_type": "stream",
     "text": [
      "100%|██████████| 716/716 [01:06<00:00, 10.82it/s]\n"
     ]
    },
    {
     "name": "stdout",
     "output_type": "stream",
     "text": [
      "{'val_loss': 2.8006126976958137, 'val_accuracy': 0.6509146341463414, 'precision': 0.6259280509142544, 'recall': 0.6509146341463414, 'f1-score': 0.6221963889598833, 'macro_f1-score': 0.38476739015751976, 'balanced_accuracy': 0.36756511354299337, 'mcc': 0.5230848753149641, 'train_loss': 0.0902611504383021}\n",
      "Epoch 15/20\n"
     ]
    },
    {
     "name": "stderr",
     "output_type": "stream",
     "text": [
      "100%|██████████| 716/716 [01:06<00:00, 10.73it/s]\n"
     ]
    },
    {
     "name": "stdout",
     "output_type": "stream",
     "text": [
      "{'val_loss': 2.4593677480773226, 'val_accuracy': 0.6585365853658537, 'precision': 0.6577885815128628, 'recall': 0.6585365853658537, 'f1-score': 0.6490844373255448, 'macro_f1-score': 0.4262343716064529, 'balanced_accuracy': 0.4349483707939017, 'mcc': 0.5470718132804882, 'train_loss': 0.07820512386534477}\n",
      "Early stopping.\n",
      "\n",
      "[Fold 2]\n",
      "🚀 Using T5-paraphraser for data augmentation + under-sampling\n",
      "🔻 Under-sampling label 0: 2471 → 2000\n",
      "🔧 Augmenting label 1: 22 → 200 (+178)\n",
      "🔧 Augmenting label 2: 64 → 200 (+136)\n",
      "🔧 Augmenting label 3: 24 → 200 (+176)\n",
      "🔧 Augmenting label 4: 190 → 200 (+10)\n",
      "🔧 Augmenting label 5: 113 → 200 (+87)\n",
      "🔧 Augmenting label 6: 93 → 200 (+107)\n",
      "🔧 Augmenting label 7: 30 → 200 (+170)\n",
      "🔧 Augmenting label 8: 68 → 200 (+132)\n",
      "🔧 Augmenting label 9: 30 → 200 (+170)\n",
      "🔧 Augmenting label 10: 67 → 200 (+133)\n",
      "🔧 Augmenting label 11: 169 → 200 (+31)\n",
      "🔧 Augmenting label 12: 189 → 200 (+11)\n",
      "🔧 Augmenting label 13: 29 → 200 (+171)\n",
      "🔧 Augmenting label 14: 23 → 200 (+177)\n",
      "🔧 Augmenting label 15: 24 → 200 (+176)\n",
      "🔧 Augmenting label 16: 20 → 200 (+180)\n",
      "🔧 Augmenting label 17: 182 → 200 (+18)\n",
      "🔧 Augmenting label 18: 92 → 200 (+108)\n",
      "🔧 Augmenting label 19: 44 → 200 (+156)\n",
      "🔧 Augmenting label 20: 13 → 200 (+187)\n",
      "🔧 Augmenting label 21: 36 → 200 (+164)\n",
      "🔧 Augmenting label 22: 76 → 200 (+124)\n",
      "🔧 Augmenting label 23: 157 → 200 (+43)\n",
      "🔧 Augmenting label 24: 12 → 200 (+188)\n",
      "🔧 Augmenting label 25: 44 → 200 (+156)\n",
      "🔧 Augmenting label 26: 84 → 200 (+116)\n",
      "🔧 Augmenting label 27: 48 → 200 (+152)\n",
      "🔧 Augmenting label 28: 12 → 200 (+188)\n",
      "🔧 Augmenting label 29: 12 → 200 (+188)\n",
      "🔧 Augmenting label 30: 12 → 200 (+188)\n",
      "🔧 Augmenting label 31: 75 → 200 (+125)\n",
      "🔧 Augmenting label 32: 36 → 200 (+164)\n",
      "🔧 Augmenting label 33: 31 → 200 (+169)\n",
      "🔧 Augmenting label 34: 29 → 200 (+171)\n",
      "🔧 Augmenting label 35: 12 → 200 (+188)\n",
      "🔧 Augmenting label 36: 21 → 200 (+179)\n",
      "🔧 Augmenting label 37: 16 → 200 (+184)\n",
      "🔧 Augmenting label 38: 33 → 200 (+167)\n",
      "🔧 Augmenting label 39: 11 → 200 (+189)\n",
      "🔧 Augmenting label 40: 8 → 200 (+192)\n",
      "🔧 Augmenting label 41: 57 → 200 (+143)\n",
      "🔧 Augmenting label 42: 19 → 200 (+181)\n",
      "🔧 Augmenting label 43: 9 → 200 (+191)\n",
      "🔧 Augmenting label 44: 54 → 200 (+146)\n",
      "🔧 Augmenting label 46: 62 → 200 (+138)\n",
      "🔧 Augmenting label 47: 80 → 200 (+120)\n",
      "Label distribution after resampling:\n",
      "  label 0: 2000\n",
      "  label 1: 200\n",
      "  label 2: 200\n",
      "  label 3: 200\n",
      "  label 4: 200\n",
      "  label 5: 200\n",
      "  label 6: 200\n",
      "  label 7: 200\n",
      "  label 8: 200\n",
      "  label 9: 200\n",
      "  label 10: 200\n",
      "  label 11: 200\n",
      "  label 12: 200\n",
      "  label 13: 200\n",
      "  label 14: 200\n",
      "  label 15: 200\n",
      "  label 16: 200\n",
      "  label 17: 200\n",
      "  label 18: 200\n",
      "  label 19: 200\n",
      "  label 20: 200\n",
      "  label 21: 200\n",
      "  label 22: 200\n",
      "  label 23: 200\n",
      "  label 24: 200\n",
      "  label 25: 200\n",
      "  label 26: 200\n",
      "  label 27: 200\n",
      "  label 28: 200\n",
      "  label 29: 200\n",
      "  label 30: 200\n",
      "  label 31: 200\n",
      "  label 32: 200\n",
      "  label 33: 200\n",
      "  label 34: 200\n",
      "  label 35: 200\n",
      "  label 36: 200\n",
      "  label 37: 200\n",
      "  label 38: 200\n",
      "  label 39: 200\n",
      "  label 40: 200\n",
      "  label 41: 200\n",
      "  label 42: 200\n",
      "  label 43: 200\n",
      "  label 44: 200\n",
      "  label 45: 242\n",
      "  label 46: 200\n",
      "  label 47: 200\n",
      "model is bert-base-uncased bilstm\n",
      "Using weighted CrossEntropyLoss with weights: tensor([1.7441, 4.0467, 4.0467, 4.0467, 4.0467, 4.0467, 4.0467, 4.0467, 4.0467,\n",
      "        4.0467, 4.0467, 4.0467, 4.0467, 4.0467, 4.0467, 4.0467, 4.0467, 4.0467,\n",
      "        4.0467, 4.0467, 4.0467, 4.0467, 4.0467, 4.0467, 4.0467, 4.0467, 4.0467,\n",
      "        4.0467, 4.0467, 4.0467, 4.0467, 4.0467, 4.0467, 4.0467, 4.0467, 4.0467,\n",
      "        4.0467, 4.0467, 4.0467, 4.0467, 4.0467, 4.0467, 4.0467, 4.0467, 4.0467,\n",
      "        3.8561, 4.0467, 4.0467], device='cuda:0')\n",
      "Epoch 1/20\n"
     ]
    },
    {
     "name": "stderr",
     "output_type": "stream",
     "text": [
      "100%|██████████| 716/716 [01:06<00:00, 10.80it/s]\n"
     ]
    },
    {
     "name": "stdout",
     "output_type": "stream",
     "text": [
      "{'val_loss': 2.0570677867749843, 'val_accuracy': 0.5682684973302822, 'precision': 0.5761016735603084, 'recall': 0.5682684973302822, 'f1-score': 0.5332621342513063, 'macro_f1-score': 0.26755343466463416, 'balanced_accuracy': 0.3144984309431897, 'mcc': 0.407486927091472, 'train_loss': 2.724710103186815}\n",
      "Epoch 2/20\n"
     ]
    },
    {
     "name": "stderr",
     "output_type": "stream",
     "text": [
      "100%|██████████| 716/716 [01:06<00:00, 10.81it/s]\n"
     ]
    },
    {
     "name": "stdout",
     "output_type": "stream",
     "text": [
      "{'val_loss': 1.7730304547926274, 'val_accuracy': 0.6041189931350115, 'precision': 0.5765638066712121, 'recall': 0.6041189931350115, 'f1-score': 0.573491384548025, 'macro_f1-score': 0.31924578993431285, 'balanced_accuracy': 0.35281934832798806, 'mcc': 0.4718364327053804, 'train_loss': 1.44611918876291}\n",
      "Epoch 3/20\n"
     ]
    },
    {
     "name": "stderr",
     "output_type": "stream",
     "text": [
      "100%|██████████| 716/716 [01:06<00:00, 10.75it/s]\n"
     ]
    },
    {
     "name": "stdout",
     "output_type": "stream",
     "text": [
      "{'val_loss': 1.6500294070418289, 'val_accuracy': 0.6392067124332571, 'precision': 0.6475497929509829, 'recall': 0.6392067124332571, 'f1-score': 0.6321071184065238, 'macro_f1-score': 0.4079588478617631, 'balanced_accuracy': 0.4216694079021033, 'mcc': 0.5265467646970995, 'train_loss': 0.8765704147933915}\n",
      "Epoch 4/20\n"
     ]
    },
    {
     "name": "stderr",
     "output_type": "stream",
     "text": [
      "100%|██████████| 716/716 [01:06<00:00, 10.85it/s]\n"
     ]
    },
    {
     "name": "stdout",
     "output_type": "stream",
     "text": [
      "{'val_loss': 1.8388030071084092, 'val_accuracy': 0.623951182303585, 'precision': 0.631412269943454, 'recall': 0.623951182303585, 'f1-score': 0.6168353538152905, 'macro_f1-score': 0.35681105006718744, 'balanced_accuracy': 0.3692907597390975, 'mcc': 0.5056255359913878, 'train_loss': 0.5546376378738513}\n",
      "Epoch 5/20\n"
     ]
    },
    {
     "name": "stderr",
     "output_type": "stream",
     "text": [
      "100%|██████████| 716/716 [01:06<00:00, 10.76it/s]\n"
     ]
    },
    {
     "name": "stdout",
     "output_type": "stream",
     "text": [
      "{'val_loss': 1.9043998187635003, 'val_accuracy': 0.6437833714721587, 'precision': 0.6347214850598397, 'recall': 0.6437833714721587, 'f1-score': 0.6272708480679116, 'macro_f1-score': 0.3913488432321277, 'balanced_accuracy': 0.39375509482353976, 'mcc': 0.521774178347133, 'train_loss': 0.3647868487692579}\n",
      "Epoch 6/20\n"
     ]
    },
    {
     "name": "stderr",
     "output_type": "stream",
     "text": [
      "100%|██████████| 716/716 [01:06<00:00, 10.79it/s]\n"
     ]
    },
    {
     "name": "stdout",
     "output_type": "stream",
     "text": [
      "{'val_loss': 1.931798130637262, 'val_accuracy': 0.6491228070175439, 'precision': 0.6290118405963183, 'recall': 0.6491228070175439, 'f1-score': 0.6279951553129558, 'macro_f1-score': 0.38829680957522256, 'balanced_accuracy': 0.38568124056726133, 'mcc': 0.5288667225152412, 'train_loss': 0.2722798190886082}\n",
      "Early stopping.\n",
      "\n",
      "[Fold 3]\n",
      "🚀 Using T5-paraphraser for data augmentation + under-sampling\n",
      "🔻 Under-sampling label 0: 2471 → 2000\n",
      "🔧 Augmenting label 1: 22 → 200 (+178)\n",
      "🔧 Augmenting label 2: 64 → 200 (+136)\n",
      "🔧 Augmenting label 3: 24 → 200 (+176)\n",
      "🔧 Augmenting label 4: 190 → 200 (+10)\n",
      "🔧 Augmenting label 5: 113 → 200 (+87)\n",
      "🔧 Augmenting label 6: 93 → 200 (+107)\n",
      "🔧 Augmenting label 7: 30 → 200 (+170)\n",
      "🔧 Augmenting label 8: 68 → 200 (+132)\n",
      "🔧 Augmenting label 9: 30 → 200 (+170)\n",
      "🔧 Augmenting label 10: 67 → 200 (+133)\n",
      "🔧 Augmenting label 11: 169 → 200 (+31)\n",
      "🔧 Augmenting label 12: 190 → 200 (+10)\n",
      "🔧 Augmenting label 13: 28 → 200 (+172)\n",
      "🔧 Augmenting label 14: 23 → 200 (+177)\n",
      "🔧 Augmenting label 15: 25 → 200 (+175)\n",
      "🔧 Augmenting label 16: 19 → 200 (+181)\n",
      "🔧 Augmenting label 17: 182 → 200 (+18)\n",
      "🔧 Augmenting label 18: 92 → 200 (+108)\n",
      "🔧 Augmenting label 19: 44 → 200 (+156)\n",
      "🔧 Augmenting label 20: 14 → 200 (+186)\n",
      "🔧 Augmenting label 21: 35 → 200 (+165)\n",
      "🔧 Augmenting label 22: 76 → 200 (+124)\n",
      "🔧 Augmenting label 23: 157 → 200 (+43)\n",
      "🔧 Augmenting label 24: 13 → 200 (+187)\n",
      "🔧 Augmenting label 25: 44 → 200 (+156)\n",
      "🔧 Augmenting label 26: 84 → 200 (+116)\n",
      "🔧 Augmenting label 27: 48 → 200 (+152)\n",
      "🔧 Augmenting label 28: 11 → 200 (+189)\n",
      "🔧 Augmenting label 29: 13 → 200 (+187)\n",
      "🔧 Augmenting label 30: 11 → 200 (+189)\n",
      "🔧 Augmenting label 31: 76 → 200 (+124)\n",
      "🔧 Augmenting label 32: 36 → 200 (+164)\n",
      "🔧 Augmenting label 33: 31 → 200 (+169)\n",
      "🔧 Augmenting label 34: 30 → 200 (+170)\n",
      "🔧 Augmenting label 35: 11 → 200 (+189)\n",
      "🔧 Augmenting label 36: 21 → 200 (+179)\n",
      "🔧 Augmenting label 37: 16 → 200 (+184)\n",
      "🔧 Augmenting label 38: 32 → 200 (+168)\n",
      "🔧 Augmenting label 39: 11 → 200 (+189)\n",
      "🔧 Augmenting label 40: 9 → 200 (+191)\n",
      "🔧 Augmenting label 41: 57 → 200 (+143)\n",
      "🔧 Augmenting label 42: 18 → 200 (+182)\n",
      "🔧 Augmenting label 43: 9 → 200 (+191)\n",
      "🔧 Augmenting label 44: 55 → 200 (+145)\n",
      "🔧 Augmenting label 46: 62 → 200 (+138)\n",
      "🔧 Augmenting label 47: 80 → 200 (+120)\n",
      "Label distribution after resampling:\n",
      "  label 0: 2000\n",
      "  label 1: 200\n",
      "  label 2: 200\n",
      "  label 3: 200\n",
      "  label 4: 200\n",
      "  label 5: 200\n",
      "  label 6: 200\n",
      "  label 7: 200\n",
      "  label 8: 200\n",
      "  label 9: 200\n",
      "  label 10: 200\n",
      "  label 11: 200\n",
      "  label 12: 200\n",
      "  label 13: 200\n",
      "  label 14: 200\n",
      "  label 15: 200\n",
      "  label 16: 200\n",
      "  label 17: 200\n",
      "  label 18: 200\n",
      "  label 19: 200\n",
      "  label 20: 200\n",
      "  label 21: 200\n",
      "  label 22: 200\n",
      "  label 23: 200\n",
      "  label 24: 200\n",
      "  label 25: 200\n",
      "  label 26: 200\n",
      "  label 27: 200\n",
      "  label 28: 200\n",
      "  label 29: 200\n",
      "  label 30: 200\n",
      "  label 31: 200\n",
      "  label 32: 200\n",
      "  label 33: 200\n",
      "  label 34: 200\n",
      "  label 35: 200\n",
      "  label 36: 200\n",
      "  label 37: 200\n",
      "  label 38: 200\n",
      "  label 39: 200\n",
      "  label 40: 200\n",
      "  label 41: 200\n",
      "  label 42: 200\n",
      "  label 43: 200\n",
      "  label 44: 200\n",
      "  label 45: 241\n",
      "  label 46: 200\n",
      "  label 47: 200\n",
      "model is bert-base-uncased bilstm\n",
      "Using weighted CrossEntropyLoss with weights: tensor([1.7441, 4.0466, 4.0466, 4.0466, 4.0466, 4.0466, 4.0466, 4.0466, 4.0466,\n",
      "        4.0466, 4.0466, 4.0466, 4.0466, 4.0466, 4.0466, 4.0466, 4.0466, 4.0466,\n",
      "        4.0466, 4.0466, 4.0466, 4.0466, 4.0466, 4.0466, 4.0466, 4.0466, 4.0466,\n",
      "        4.0466, 4.0466, 4.0466, 4.0466, 4.0466, 4.0466, 4.0466, 4.0466, 4.0466,\n",
      "        4.0466, 4.0466, 4.0466, 4.0466, 4.0466, 4.0466, 4.0466, 4.0466, 4.0466,\n",
      "        3.8602, 4.0466, 4.0466], device='cuda:0')\n",
      "Epoch 1/20\n"
     ]
    },
    {
     "name": "stderr",
     "output_type": "stream",
     "text": [
      "100%|██████████| 716/716 [01:06<00:00, 10.82it/s]\n"
     ]
    },
    {
     "name": "stdout",
     "output_type": "stream",
     "text": [
      "{'val_loss': 2.0516311446341073, 'val_accuracy': 0.5812356979405034, 'precision': 0.5261610922603583, 'recall': 0.5812356979405034, 'f1-score': 0.5380621216687392, 'macro_f1-score': 0.2475760564981282, 'balanced_accuracy': 0.2615738516684214, 'mcc': 0.4239171027802927, 'train_loss': 2.7579172421454885}\n",
      "Epoch 2/20\n"
     ]
    },
    {
     "name": "stderr",
     "output_type": "stream",
     "text": [
      "100%|██████████| 716/716 [01:06<00:00, 10.82it/s]\n"
     ]
    },
    {
     "name": "stdout",
     "output_type": "stream",
     "text": [
      "{'val_loss': 1.8419335517214566, 'val_accuracy': 0.6109839816933639, 'precision': 0.5716470737058857, 'recall': 0.6109839816933639, 'f1-score': 0.5747990803258041, 'macro_f1-score': 0.3339409722494806, 'balanced_accuracy': 0.3331585143230366, 'mcc': 0.4667982807475307, 'train_loss': 1.3909227115065692}\n",
      "Epoch 3/20\n"
     ]
    },
    {
     "name": "stderr",
     "output_type": "stream",
     "text": [
      "100%|██████████| 716/716 [01:06<00:00, 10.77it/s]\n"
     ]
    },
    {
     "name": "stdout",
     "output_type": "stream",
     "text": [
      "{'val_loss': 1.8958322981872209, 'val_accuracy': 0.6086956521739131, 'precision': 0.5926428373257999, 'recall': 0.6086956521739131, 'f1-score': 0.5853210879936293, 'macro_f1-score': 0.32214537827953615, 'balanced_accuracy': 0.3187482542721351, 'mcc': 0.4717435048728822, 'train_loss': 0.8093618982414293}\n",
      "Epoch 4/20\n"
     ]
    },
    {
     "name": "stderr",
     "output_type": "stream",
     "text": [
      "100%|██████████| 716/716 [01:06<00:00, 10.81it/s]\n"
     ]
    },
    {
     "name": "stdout",
     "output_type": "stream",
     "text": [
      "{'val_loss': 1.8690335614288724, 'val_accuracy': 0.6430205949656751, 'precision': 0.6181078951128393, 'recall': 0.6430205949656751, 'f1-score': 0.6195626855252857, 'macro_f1-score': 0.39860539117952704, 'balanced_accuracy': 0.3788577280702339, 'mcc': 0.514323449698983, 'train_loss': 0.5288030134628439}\n",
      "Epoch 5/20\n"
     ]
    },
    {
     "name": "stderr",
     "output_type": "stream",
     "text": [
      "100%|██████████| 716/716 [01:06<00:00, 10.73it/s]\n"
     ]
    },
    {
     "name": "stdout",
     "output_type": "stream",
     "text": [
      "{'val_loss': 2.141529148671685, 'val_accuracy': 0.6209000762776506, 'precision': 0.5973640718706548, 'recall': 0.6209000762776506, 'f1-score': 0.5942196610159312, 'macro_f1-score': 0.3246654108370965, 'balanced_accuracy': 0.3034386902180392, 'mcc': 0.4861174231175049, 'train_loss': 0.32879356999345666}\n",
      "Epoch 6/20\n"
     ]
    },
    {
     "name": "stderr",
     "output_type": "stream",
     "text": [
      "100%|██████████| 716/716 [01:06<00:00, 10.81it/s]\n"
     ]
    },
    {
     "name": "stdout",
     "output_type": "stream",
     "text": [
      "{'val_loss': 2.1647490891741543, 'val_accuracy': 0.6445461479786423, 'precision': 0.6275162810523522, 'recall': 0.6445461479786423, 'f1-score': 0.6210802326392382, 'macro_f1-score': 0.3890761073258795, 'balanced_accuracy': 0.3737434702321187, 'mcc': 0.5170058093492657, 'train_loss': 0.24036109591079824}\n",
      "Epoch 7/20\n"
     ]
    },
    {
     "name": "stderr",
     "output_type": "stream",
     "text": [
      "100%|██████████| 716/716 [01:06<00:00, 10.78it/s]\n"
     ]
    },
    {
     "name": "stdout",
     "output_type": "stream",
     "text": [
      "{'val_loss': 2.2039746700263603, 'val_accuracy': 0.6300533943554538, 'precision': 0.635145769643407, 'recall': 0.6300533943554538, 'f1-score': 0.6213926693970144, 'macro_f1-score': 0.39865073633410336, 'balanced_accuracy': 0.38365259555846104, 'mcc': 0.513555594221427, 'train_loss': 0.18441181913227644}\n",
      "Epoch 8/20\n"
     ]
    },
    {
     "name": "stderr",
     "output_type": "stream",
     "text": [
      "100%|██████████| 716/716 [01:06<00:00, 10.74it/s]\n"
     ]
    },
    {
     "name": "stdout",
     "output_type": "stream",
     "text": [
      "{'val_loss': 2.26255265859569, 'val_accuracy': 0.6231884057971014, 'precision': 0.622538663382982, 'recall': 0.6231884057971014, 'f1-score': 0.6156985644294234, 'macro_f1-score': 0.3992233001733316, 'balanced_accuracy': 0.399131778156452, 'mcc': 0.5032643941127268, 'train_loss': 0.13087077757770288}\n",
      "Epoch 9/20\n"
     ]
    },
    {
     "name": "stderr",
     "output_type": "stream",
     "text": [
      "100%|██████████| 716/716 [01:06<00:00, 10.78it/s]\n"
     ]
    },
    {
     "name": "stdout",
     "output_type": "stream",
     "text": [
      "{'val_loss': 2.4135404740710085, 'val_accuracy': 0.631578947368421, 'precision': 0.6369717951926205, 'recall': 0.631578947368421, 'f1-score': 0.623233558829874, 'macro_f1-score': 0.4014606950199231, 'balanced_accuracy': 0.38589443973512355, 'mcc': 0.5084686414299544, 'train_loss': 0.13244730338789834}\n",
      "Epoch 10/20\n"
     ]
    },
    {
     "name": "stderr",
     "output_type": "stream",
     "text": [
      "100%|██████████| 716/716 [01:06<00:00, 10.78it/s]\n"
     ]
    },
    {
     "name": "stdout",
     "output_type": "stream",
     "text": [
      "{'val_loss': 2.3087886109402995, 'val_accuracy': 0.6247139588100686, 'precision': 0.6357462936133992, 'recall': 0.6247139588100686, 'f1-score': 0.6190529295800209, 'macro_f1-score': 0.38773689956602175, 'balanced_accuracy': 0.37207715489805127, 'mcc': 0.5095536215923729, 'train_loss': 0.10884430479094406}\n",
      "Epoch 11/20\n"
     ]
    },
    {
     "name": "stderr",
     "output_type": "stream",
     "text": [
      "100%|██████████| 716/716 [01:06<00:00, 10.83it/s]\n"
     ]
    },
    {
     "name": "stdout",
     "output_type": "stream",
     "text": [
      "{'val_loss': 2.5863896634247974, 'val_accuracy': 0.6262395118230358, 'precision': 0.6317583434711573, 'recall': 0.6262395118230358, 'f1-score': 0.6216973219718589, 'macro_f1-score': 0.4030200588981468, 'balanced_accuracy': 0.39093870311498335, 'mcc': 0.5057984183070787, 'train_loss': 0.09340317784769554}\n",
      "Epoch 12/20\n"
     ]
    },
    {
     "name": "stderr",
     "output_type": "stream",
     "text": [
      "100%|██████████| 716/716 [01:06<00:00, 10.72it/s]\n"
     ]
    },
    {
     "name": "stdout",
     "output_type": "stream",
     "text": [
      "{'val_loss': 2.5962570814824684, 'val_accuracy': 0.6186117467581999, 'precision': 0.6358724120380836, 'recall': 0.6186117467581999, 'f1-score': 0.6181128103610516, 'macro_f1-score': 0.42213098585841835, 'balanced_accuracy': 0.42840769617787355, 'mcc': 0.5002960598879453, 'train_loss': 0.09706421129993428}\n",
      "Epoch 13/20\n"
     ]
    },
    {
     "name": "stderr",
     "output_type": "stream",
     "text": [
      "100%|██████████| 716/716 [01:11<00:00,  9.98it/s]\n"
     ]
    },
    {
     "name": "stdout",
     "output_type": "stream",
     "text": [
      "{'val_loss': 2.7500803765000366, 'val_accuracy': 0.6369183829138062, 'precision': 0.6239695766914165, 'recall': 0.6369183829138062, 'f1-score': 0.6149701035768113, 'macro_f1-score': 0.3833895195562575, 'balanced_accuracy': 0.35659683332985964, 'mcc': 0.5063364468859162, 'train_loss': 0.0819523660466075}\n",
      "Epoch 14/20\n"
     ]
    },
    {
     "name": "stderr",
     "output_type": "stream",
     "text": [
      "100%|██████████| 716/716 [01:11<00:00,  9.96it/s]\n"
     ]
    },
    {
     "name": "stdout",
     "output_type": "stream",
     "text": [
      "{'val_loss': 2.589856116146576, 'val_accuracy': 0.6224256292906178, 'precision': 0.6385690119226365, 'recall': 0.6224256292906178, 'f1-score': 0.6192878284642116, 'macro_f1-score': 0.4098452783739051, 'balanced_accuracy': 0.40399319418431406, 'mcc': 0.5052641333343556, 'train_loss': 0.09578783250694793}\n",
      "Epoch 15/20\n"
     ]
    },
    {
     "name": "stderr",
     "output_type": "stream",
     "text": [
      "100%|██████████| 716/716 [01:11<00:00, 10.08it/s]\n"
     ]
    },
    {
     "name": "stdout",
     "output_type": "stream",
     "text": [
      "{'val_loss': 2.657898830022754, 'val_accuracy': 0.6414950419527079, 'precision': 0.6324301552819818, 'recall': 0.6414950419527079, 'f1-score': 0.6292093969876292, 'macro_f1-score': 0.4250930558102774, 'balanced_accuracy': 0.4008319898700363, 'mcc': 0.5196819640707365, 'train_loss': 0.06295833265094747}\n",
      "Epoch 16/20\n"
     ]
    },
    {
     "name": "stderr",
     "output_type": "stream",
     "text": [
      "100%|██████████| 716/716 [01:11<00:00, 10.03it/s]\n"
     ]
    },
    {
     "name": "stdout",
     "output_type": "stream",
     "text": [
      "{'val_loss': 2.8662673712867064, 'val_accuracy': 0.6262395118230358, 'precision': 0.6304644880927167, 'recall': 0.6262395118230358, 'f1-score': 0.617765391994953, 'macro_f1-score': 0.3827271985717, 'balanced_accuracy': 0.388658131448195, 'mcc': 0.5048481354401617, 'train_loss': 0.0623666607539362}\n",
      "Epoch 17/20\n"
     ]
    },
    {
     "name": "stderr",
     "output_type": "stream",
     "text": [
      "100%|██████████| 716/716 [01:11<00:00,  9.97it/s]\n"
     ]
    },
    {
     "name": "stdout",
     "output_type": "stream",
     "text": [
      "{'val_loss': 2.787194031404286, 'val_accuracy': 0.623951182303585, 'precision': 0.6437118392269752, 'recall': 0.623951182303585, 'f1-score': 0.6245648923697219, 'macro_f1-score': 0.41890403576605345, 'balanced_accuracy': 0.43184537594443784, 'mcc': 0.5128320240092034, 'train_loss': 0.05204353919535662}\n",
      "Epoch 18/20\n"
     ]
    },
    {
     "name": "stderr",
     "output_type": "stream",
     "text": [
      "100%|██████████| 716/716 [01:11<00:00, 10.04it/s]\n"
     ]
    },
    {
     "name": "stdout",
     "output_type": "stream",
     "text": [
      "{'val_loss': 2.878716462269062, 'val_accuracy': 0.6178489702517163, 'precision': 0.6175312013876706, 'recall': 0.6178489702517163, 'f1-score': 0.6091581503771274, 'macro_f1-score': 0.38908975765211046, 'balanced_accuracy': 0.37467569238311166, 'mcc': 0.49506900904072504, 'train_loss': 0.05978978708660875}\n",
      "Early stopping.\n",
      "\n",
      "[Fold 4]\n",
      "🚀 Using T5-paraphraser for data augmentation + under-sampling\n",
      "🔻 Under-sampling label 0: 2471 → 2000\n",
      "🔧 Augmenting label 1: 22 → 200 (+178)\n",
      "🔧 Augmenting label 2: 64 → 200 (+136)\n",
      "🔧 Augmenting label 3: 24 → 200 (+176)\n",
      "🔧 Augmenting label 4: 190 → 200 (+10)\n",
      "🔧 Augmenting label 5: 113 → 200 (+87)\n",
      "🔧 Augmenting label 6: 93 → 200 (+107)\n",
      "🔧 Augmenting label 7: 31 → 200 (+169)\n",
      "🔧 Augmenting label 8: 68 → 200 (+132)\n",
      "🔧 Augmenting label 9: 29 → 200 (+171)\n",
      "🔧 Augmenting label 10: 67 → 200 (+133)\n",
      "🔧 Augmenting label 11: 169 → 200 (+31)\n",
      "🔧 Augmenting label 12: 190 → 200 (+10)\n",
      "🔧 Augmenting label 13: 29 → 200 (+171)\n",
      "🔧 Augmenting label 14: 22 → 200 (+178)\n",
      "🔧 Augmenting label 15: 25 → 200 (+175)\n",
      "🔧 Augmenting label 16: 19 → 200 (+181)\n",
      "🔧 Augmenting label 17: 182 → 200 (+18)\n",
      "🔧 Augmenting label 18: 92 → 200 (+108)\n",
      "🔧 Augmenting label 19: 44 → 200 (+156)\n",
      "🔧 Augmenting label 20: 14 → 200 (+186)\n",
      "🔧 Augmenting label 21: 35 → 200 (+165)\n",
      "🔧 Augmenting label 22: 76 → 200 (+124)\n",
      "🔧 Augmenting label 23: 158 → 200 (+42)\n",
      "🔧 Augmenting label 24: 13 → 200 (+187)\n",
      "🔧 Augmenting label 25: 44 → 200 (+156)\n",
      "🔧 Augmenting label 26: 84 → 200 (+116)\n",
      "🔧 Augmenting label 27: 48 → 200 (+152)\n",
      "🔧 Augmenting label 28: 11 → 200 (+189)\n",
      "🔧 Augmenting label 29: 13 → 200 (+187)\n",
      "🔧 Augmenting label 30: 11 → 200 (+189)\n",
      "🔧 Augmenting label 31: 75 → 200 (+125)\n",
      "🔧 Augmenting label 32: 36 → 200 (+164)\n",
      "🔧 Augmenting label 33: 31 → 200 (+169)\n",
      "🔧 Augmenting label 34: 30 → 200 (+170)\n",
      "🔧 Augmenting label 35: 11 → 200 (+189)\n",
      "🔧 Augmenting label 36: 22 → 200 (+178)\n",
      "🔧 Augmenting label 37: 16 → 200 (+184)\n",
      "🔧 Augmenting label 38: 33 → 200 (+167)\n",
      "🔧 Augmenting label 39: 10 → 200 (+190)\n",
      "🔧 Augmenting label 40: 9 → 200 (+191)\n",
      "🔧 Augmenting label 41: 56 → 200 (+144)\n",
      "🔧 Augmenting label 42: 18 → 200 (+182)\n",
      "🔧 Augmenting label 43: 9 → 200 (+191)\n",
      "🔧 Augmenting label 44: 55 → 200 (+145)\n",
      "🔧 Augmenting label 46: 62 → 200 (+138)\n",
      "🔧 Augmenting label 47: 80 → 200 (+120)\n",
      "Label distribution after resampling:\n",
      "  label 0: 2000\n",
      "  label 1: 200\n",
      "  label 2: 200\n",
      "  label 3: 200\n",
      "  label 4: 200\n",
      "  label 5: 200\n",
      "  label 6: 200\n",
      "  label 7: 200\n",
      "  label 8: 200\n",
      "  label 9: 200\n",
      "  label 10: 200\n",
      "  label 11: 200\n",
      "  label 12: 200\n",
      "  label 13: 200\n",
      "  label 14: 200\n",
      "  label 15: 200\n",
      "  label 16: 200\n",
      "  label 17: 200\n",
      "  label 18: 200\n",
      "  label 19: 200\n",
      "  label 20: 200\n",
      "  label 21: 200\n",
      "  label 22: 200\n",
      "  label 23: 200\n",
      "  label 24: 200\n",
      "  label 25: 200\n",
      "  label 26: 200\n",
      "  label 27: 200\n",
      "  label 28: 200\n",
      "  label 29: 200\n",
      "  label 30: 200\n",
      "  label 31: 200\n",
      "  label 32: 200\n",
      "  label 33: 200\n",
      "  label 34: 200\n",
      "  label 35: 200\n",
      "  label 36: 200\n",
      "  label 37: 200\n",
      "  label 38: 200\n",
      "  label 39: 200\n",
      "  label 40: 200\n",
      "  label 41: 200\n",
      "  label 42: 200\n",
      "  label 43: 200\n",
      "  label 44: 200\n",
      "  label 45: 241\n",
      "  label 46: 200\n",
      "  label 47: 200\n",
      "model is bert-base-uncased bilstm\n",
      "Using weighted CrossEntropyLoss with weights: tensor([1.7441, 4.0466, 4.0466, 4.0466, 4.0466, 4.0466, 4.0466, 4.0466, 4.0466,\n",
      "        4.0466, 4.0466, 4.0466, 4.0466, 4.0466, 4.0466, 4.0466, 4.0466, 4.0466,\n",
      "        4.0466, 4.0466, 4.0466, 4.0466, 4.0466, 4.0466, 4.0466, 4.0466, 4.0466,\n",
      "        4.0466, 4.0466, 4.0466, 4.0466, 4.0466, 4.0466, 4.0466, 4.0466, 4.0466,\n",
      "        4.0466, 4.0466, 4.0466, 4.0466, 4.0466, 4.0466, 4.0466, 4.0466, 4.0466,\n",
      "        3.8602, 4.0466, 4.0466], device='cuda:0')\n",
      "Epoch 1/20\n"
     ]
    },
    {
     "name": "stderr",
     "output_type": "stream",
     "text": [
      "100%|██████████| 716/716 [01:10<00:00, 10.09it/s]\n"
     ]
    },
    {
     "name": "stdout",
     "output_type": "stream",
     "text": [
      "{'val_loss': 1.9970807934679635, 'val_accuracy': 0.5751334858886347, 'precision': 0.5381284817666068, 'recall': 0.5751334858886347, 'f1-score': 0.5158067430659279, 'macro_f1-score': 0.25146482569250955, 'balanced_accuracy': 0.28371517903939697, 'mcc': 0.4006372000841146, 'train_loss': 2.683245384992834}\n",
      "Epoch 2/20\n"
     ]
    },
    {
     "name": "stderr",
     "output_type": "stream",
     "text": [
      "100%|██████████| 716/716 [01:10<00:00, 10.10it/s]\n"
     ]
    },
    {
     "name": "stdout",
     "output_type": "stream",
     "text": [
      "{'val_loss': 1.7447217270368482, 'val_accuracy': 0.635392829900839, 'precision': 0.6335356215834023, 'recall': 0.635392829900839, 'f1-score': 0.6011710091232768, 'macro_f1-score': 0.36042638432807905, 'balanced_accuracy': 0.3487647443894224, 'mcc': 0.49757753658323, 'train_loss': 1.3864981080483458}\n",
      "Epoch 3/20\n"
     ]
    },
    {
     "name": "stderr",
     "output_type": "stream",
     "text": [
      "100%|██████████| 716/716 [01:10<00:00, 10.15it/s]\n"
     ]
    },
    {
     "name": "stdout",
     "output_type": "stream",
     "text": [
      "{'val_loss': 1.6670752334885481, 'val_accuracy': 0.6094584286803967, 'precision': 0.6545947334783179, 'recall': 0.6094584286803967, 'f1-score': 0.6168914205282916, 'macro_f1-score': 0.394476857793631, 'balanced_accuracy': 0.4129716698008443, 'mcc': 0.5186798932529683, 'train_loss': 0.8177143555529957}\n",
      "Epoch 4/20\n"
     ]
    },
    {
     "name": "stderr",
     "output_type": "stream",
     "text": [
      "100%|██████████| 716/716 [01:11<00:00, 10.04it/s]\n"
     ]
    },
    {
     "name": "stdout",
     "output_type": "stream",
     "text": [
      "{'val_loss': 1.7987775533664516, 'val_accuracy': 0.658276125095347, 'precision': 0.6558266210023888, 'recall': 0.658276125095347, 'f1-score': 0.6479104260972359, 'macro_f1-score': 0.43525581059773355, 'balanced_accuracy': 0.42448515277661686, 'mcc': 0.5466991178368332, 'train_loss': 0.5172621132623841}\n",
      "Epoch 5/20\n"
     ]
    },
    {
     "name": "stderr",
     "output_type": "stream",
     "text": [
      "100%|██████████| 716/716 [01:11<00:00, 10.05it/s]\n"
     ]
    },
    {
     "name": "stdout",
     "output_type": "stream",
     "text": [
      "{'val_loss': 1.8374303644750176, 'val_accuracy': 0.6475972540045767, 'precision': 0.642405411494234, 'recall': 0.6475972540045767, 'f1-score': 0.6337883377358605, 'macro_f1-score': 0.40911960129734126, 'balanced_accuracy': 0.39885944821534025, 'mcc': 0.5298698195268012, 'train_loss': 0.32694795408270544}\n",
      "Epoch 6/20\n"
     ]
    },
    {
     "name": "stderr",
     "output_type": "stream",
     "text": [
      "100%|██████████| 716/716 [01:11<00:00, 10.06it/s]\n"
     ]
    },
    {
     "name": "stdout",
     "output_type": "stream",
     "text": [
      "{'val_loss': 2.0449973920859943, 'val_accuracy': 0.6399694889397407, 'precision': 0.6414902873089913, 'recall': 0.6399694889397407, 'f1-score': 0.6287186127320008, 'macro_f1-score': 0.4053401507580025, 'balanced_accuracy': 0.4029104435566202, 'mcc': 0.523145389143138, 'train_loss': 0.2337970227606636}\n",
      "Epoch 7/20\n"
     ]
    },
    {
     "name": "stderr",
     "output_type": "stream",
     "text": [
      "100%|██████████| 716/716 [01:11<00:00, 10.08it/s]\n"
     ]
    },
    {
     "name": "stdout",
     "output_type": "stream",
     "text": [
      "{'val_loss': 2.1307522429198755, 'val_accuracy': 0.6414950419527079, 'precision': 0.6414658444347078, 'recall': 0.6414950419527079, 'f1-score': 0.6342726999228606, 'macro_f1-score': 0.40577574603122296, 'balanced_accuracy': 0.42577908204094944, 'mcc': 0.5300896513766119, 'train_loss': 0.19154499939320266}\n",
      "Early stopping.\n",
      "\n",
      "[Fold 5]\n",
      "🚀 Using T5-paraphraser for data augmentation + under-sampling\n",
      "🔻 Under-sampling label 0: 2472 → 2000\n",
      "🔧 Augmenting label 1: 21 → 200 (+179)\n",
      "🔧 Augmenting label 2: 64 → 200 (+136)\n",
      "🔧 Augmenting label 3: 24 → 200 (+176)\n",
      "🔧 Augmenting label 4: 191 → 200 (+9)\n",
      "🔧 Augmenting label 5: 112 → 200 (+88)\n",
      "🔧 Augmenting label 6: 92 → 200 (+108)\n",
      "🔧 Augmenting label 7: 31 → 200 (+169)\n",
      "🔧 Augmenting label 8: 68 → 200 (+132)\n",
      "🔧 Augmenting label 9: 29 → 200 (+171)\n",
      "🔧 Augmenting label 10: 68 → 200 (+132)\n",
      "🔧 Augmenting label 11: 168 → 200 (+32)\n",
      "🔧 Augmenting label 12: 190 → 200 (+10)\n",
      "🔧 Augmenting label 13: 29 → 200 (+171)\n",
      "🔧 Augmenting label 14: 22 → 200 (+178)\n",
      "🔧 Augmenting label 15: 25 → 200 (+175)\n",
      "🔧 Augmenting label 16: 19 → 200 (+181)\n",
      "🔧 Augmenting label 17: 183 → 200 (+17)\n",
      "🔧 Augmenting label 18: 92 → 200 (+108)\n",
      "🔧 Augmenting label 19: 44 → 200 (+156)\n",
      "🔧 Augmenting label 20: 14 → 200 (+186)\n",
      "🔧 Augmenting label 21: 35 → 200 (+165)\n",
      "🔧 Augmenting label 22: 76 → 200 (+124)\n",
      "🔧 Augmenting label 23: 158 → 200 (+42)\n",
      "🔧 Augmenting label 24: 13 → 200 (+187)\n",
      "🔧 Augmenting label 25: 44 → 200 (+156)\n",
      "🔧 Augmenting label 26: 84 → 200 (+116)\n",
      "🔧 Augmenting label 27: 48 → 200 (+152)\n",
      "🔧 Augmenting label 28: 11 → 200 (+189)\n",
      "🔧 Augmenting label 29: 13 → 200 (+187)\n",
      "🔧 Augmenting label 30: 11 → 200 (+189)\n",
      "🔧 Augmenting label 31: 75 → 200 (+125)\n",
      "🔧 Augmenting label 32: 36 → 200 (+164)\n",
      "🔧 Augmenting label 33: 31 → 200 (+169)\n",
      "🔧 Augmenting label 34: 30 → 200 (+170)\n",
      "🔧 Augmenting label 35: 11 → 200 (+189)\n",
      "🔧 Augmenting label 36: 22 → 200 (+178)\n",
      "🔧 Augmenting label 37: 16 → 200 (+184)\n",
      "🔧 Augmenting label 38: 33 → 200 (+167)\n",
      "🔧 Augmenting label 39: 10 → 200 (+190)\n",
      "🔧 Augmenting label 40: 9 → 200 (+191)\n",
      "🔧 Augmenting label 41: 57 → 200 (+143)\n",
      "🔧 Augmenting label 42: 18 → 200 (+182)\n",
      "🔧 Augmenting label 43: 9 → 200 (+191)\n",
      "🔧 Augmenting label 44: 54 → 200 (+146)\n",
      "🔧 Augmenting label 46: 61 → 200 (+139)\n",
      "🔧 Augmenting label 47: 80 → 200 (+120)\n",
      "Label distribution after resampling:\n",
      "  label 0: 2000\n",
      "  label 1: 200\n",
      "  label 2: 200\n",
      "  label 3: 200\n",
      "  label 4: 200\n",
      "  label 5: 200\n",
      "  label 6: 200\n",
      "  label 7: 200\n",
      "  label 8: 200\n",
      "  label 9: 200\n",
      "  label 10: 200\n",
      "  label 11: 200\n",
      "  label 12: 200\n",
      "  label 13: 200\n",
      "  label 14: 200\n",
      "  label 15: 200\n",
      "  label 16: 200\n",
      "  label 17: 200\n",
      "  label 18: 200\n",
      "  label 19: 200\n",
      "  label 20: 200\n",
      "  label 21: 200\n",
      "  label 22: 200\n",
      "  label 23: 200\n",
      "  label 24: 200\n",
      "  label 25: 200\n",
      "  label 26: 200\n",
      "  label 27: 200\n",
      "  label 28: 200\n",
      "  label 29: 200\n",
      "  label 30: 200\n",
      "  label 31: 200\n",
      "  label 32: 200\n",
      "  label 33: 200\n",
      "  label 34: 200\n",
      "  label 35: 200\n",
      "  label 36: 200\n",
      "  label 37: 200\n",
      "  label 38: 200\n",
      "  label 39: 200\n",
      "  label 40: 200\n",
      "  label 41: 200\n",
      "  label 42: 200\n",
      "  label 43: 200\n",
      "  label 44: 200\n",
      "  label 45: 242\n",
      "  label 46: 200\n",
      "  label 47: 200\n",
      "model is bert-base-uncased bilstm\n",
      "Using weighted CrossEntropyLoss with weights: tensor([1.7441, 4.0467, 4.0467, 4.0467, 4.0467, 4.0467, 4.0467, 4.0467, 4.0467,\n",
      "        4.0467, 4.0467, 4.0467, 4.0467, 4.0467, 4.0467, 4.0467, 4.0467, 4.0467,\n",
      "        4.0467, 4.0467, 4.0467, 4.0467, 4.0467, 4.0467, 4.0467, 4.0467, 4.0467,\n",
      "        4.0467, 4.0467, 4.0467, 4.0467, 4.0467, 4.0467, 4.0467, 4.0467, 4.0467,\n",
      "        4.0467, 4.0467, 4.0467, 4.0467, 4.0467, 4.0467, 4.0467, 4.0467, 4.0467,\n",
      "        3.8561, 4.0467, 4.0467], device='cuda:0')\n",
      "Epoch 1/20\n"
     ]
    },
    {
     "name": "stderr",
     "output_type": "stream",
     "text": [
      "100%|██████████| 716/716 [01:10<00:00, 10.12it/s]\n"
     ]
    },
    {
     "name": "stdout",
     "output_type": "stream",
     "text": [
      "{'val_loss': 2.0570578749586894, 'val_accuracy': 0.5758962623951183, 'precision': 0.5223357700729973, 'recall': 0.5758962623951183, 'f1-score': 0.5074628012640867, 'macro_f1-score': 0.24541618913885963, 'balanced_accuracy': 0.27588838658758796, 'mcc': 0.39270927780183074, 'train_loss': 2.811918358896032}\n",
      "Epoch 2/20\n"
     ]
    },
    {
     "name": "stderr",
     "output_type": "stream",
     "text": [
      "100%|██████████| 716/716 [01:11<00:00, 10.05it/s]\n"
     ]
    },
    {
     "name": "stdout",
     "output_type": "stream",
     "text": [
      "{'val_loss': 1.748539034913226, 'val_accuracy': 0.6071700991609459, 'precision': 0.6148781408654896, 'recall': 0.6071700991609459, 'f1-score': 0.5975681791745943, 'macro_f1-score': 0.3637728395423076, 'balanced_accuracy': 0.4095838515088792, 'mcc': 0.4852837128435655, 'train_loss': 1.4430920584491511}\n",
      "Epoch 3/20\n"
     ]
    },
    {
     "name": "stderr",
     "output_type": "stream",
     "text": [
      "100%|██████████| 716/716 [01:10<00:00, 10.10it/s]\n"
     ]
    },
    {
     "name": "stdout",
     "output_type": "stream",
     "text": [
      "{'val_loss': 1.7076631173854921, 'val_accuracy': 0.6437833714721587, 'precision': 0.6189996421869394, 'recall': 0.6437833714721587, 'f1-score': 0.6201351856254449, 'macro_f1-score': 0.3833082508239425, 'balanced_accuracy': 0.39904883257167895, 'mcc': 0.5202628911083871, 'train_loss': 0.8278458803975383}\n",
      "Epoch 4/20\n"
     ]
    },
    {
     "name": "stderr",
     "output_type": "stream",
     "text": [
      "100%|██████████| 716/716 [01:11<00:00, 10.08it/s]\n"
     ]
    },
    {
     "name": "stdout",
     "output_type": "stream",
     "text": [
      "{'val_loss': 1.8533588993113215, 'val_accuracy': 0.6384439359267735, 'precision': 0.6342049164909771, 'recall': 0.6384439359267735, 'f1-score': 0.6210888767230148, 'macro_f1-score': 0.39778857421438313, 'balanced_accuracy': 0.37798980365264706, 'mcc': 0.5096546087088707, 'train_loss': 0.537305842221366}\n",
      "Epoch 5/20\n"
     ]
    },
    {
     "name": "stderr",
     "output_type": "stream",
     "text": [
      "100%|██████████| 716/716 [01:11<00:00, 10.06it/s]\n"
     ]
    },
    {
     "name": "stdout",
     "output_type": "stream",
     "text": [
      "{'val_loss': 1.8579369085591013, 'val_accuracy': 0.6369183829138062, 'precision': 0.6460951475087755, 'recall': 0.6369183829138062, 'f1-score': 0.6318972443001947, 'macro_f1-score': 0.38115352688740695, 'balanced_accuracy': 0.3663869649550883, 'mcc': 0.5258652868642595, 'train_loss': 0.36487962922091755}\n",
      "Epoch 6/20\n"
     ]
    },
    {
     "name": "stderr",
     "output_type": "stream",
     "text": [
      "100%|██████████| 716/716 [01:10<00:00, 10.09it/s]\n"
     ]
    },
    {
     "name": "stdout",
     "output_type": "stream",
     "text": [
      "{'val_loss': 2.0039739354354578, 'val_accuracy': 0.6392067124332571, 'precision': 0.6274904817954322, 'recall': 0.6392067124332571, 'f1-score': 0.6229019943310001, 'macro_f1-score': 0.3793683449277214, 'balanced_accuracy': 0.3627395477836031, 'mcc': 0.5199928047097794, 'train_loss': 0.265319821151629}\n",
      "Epoch 7/20\n"
     ]
    },
    {
     "name": "stderr",
     "output_type": "stream",
     "text": [
      "100%|██████████| 716/716 [01:11<00:00, 10.06it/s]\n"
     ]
    },
    {
     "name": "stdout",
     "output_type": "stream",
     "text": [
      "{'val_loss': 2.0032075463635164, 'val_accuracy': 0.6384439359267735, 'precision': 0.6446568301046203, 'recall': 0.6384439359267735, 'f1-score': 0.6318992782421607, 'macro_f1-score': 0.4036875768477297, 'balanced_accuracy': 0.3862150920412297, 'mcc': 0.5275000007136931, 'train_loss': 0.18721461527741529}\n",
      "Epoch 8/20\n"
     ]
    },
    {
     "name": "stderr",
     "output_type": "stream",
     "text": [
      "100%|██████████| 716/716 [01:11<00:00, 10.06it/s]\n"
     ]
    },
    {
     "name": "stdout",
     "output_type": "stream",
     "text": [
      "{'val_loss': 2.09067445448259, 'val_accuracy': 0.6300533943554538, 'precision': 0.6592858309704792, 'recall': 0.6300533943554538, 'f1-score': 0.6265195490145692, 'macro_f1-score': 0.41315846195215, 'balanced_accuracy': 0.439940973902599, 'mcc': 0.5240916031896763, 'train_loss': 0.15407852753450543}\n",
      "Epoch 9/20\n"
     ]
    },
    {
     "name": "stderr",
     "output_type": "stream",
     "text": [
      "100%|██████████| 716/716 [01:10<00:00, 10.09it/s]\n"
     ]
    },
    {
     "name": "stdout",
     "output_type": "stream",
     "text": [
      "{'val_loss': 2.2112931165753342, 'val_accuracy': 0.6292906178489702, 'precision': 0.6407764417660899, 'recall': 0.6292906178489702, 'f1-score': 0.6248921686985986, 'macro_f1-score': 0.39694735356567046, 'balanced_accuracy': 0.39014766961852404, 'mcc': 0.5178881766921423, 'train_loss': 0.13701639767520277}\n",
      "Epoch 10/20\n"
     ]
    },
    {
     "name": "stderr",
     "output_type": "stream",
     "text": [
      "100%|██████████| 716/716 [01:11<00:00, 10.05it/s]\n"
     ]
    },
    {
     "name": "stdout",
     "output_type": "stream",
     "text": [
      "{'val_loss': 2.223325691208607, 'val_accuracy': 0.6369183829138062, 'precision': 0.6380485582527634, 'recall': 0.6369183829138062, 'f1-score': 0.6260532978020202, 'macro_f1-score': 0.3960206222322345, 'balanced_accuracy': 0.4025495356060806, 'mcc': 0.5241883823188125, 'train_loss': 0.1351057698172335}\n",
      "Epoch 11/20\n"
     ]
    },
    {
     "name": "stderr",
     "output_type": "stream",
     "text": [
      "100%|██████████| 716/716 [01:11<00:00, 10.08it/s]\n"
     ]
    },
    {
     "name": "stdout",
     "output_type": "stream",
     "text": [
      "{'val_loss': 2.273051266990057, 'val_accuracy': 0.6468344774980931, 'precision': 0.6358711903496088, 'recall': 0.6468344774980931, 'f1-score': 0.6289507540986685, 'macro_f1-score': 0.4245695386541519, 'balanced_accuracy': 0.4191938668435154, 'mcc': 0.5306772002567547, 'train_loss': 0.11862242426502118}\n",
      "Epoch 12/20\n"
     ]
    },
    {
     "name": "stderr",
     "output_type": "stream",
     "text": [
      "100%|██████████| 716/716 [01:11<00:00, 10.06it/s]\n"
     ]
    },
    {
     "name": "stdout",
     "output_type": "stream",
     "text": [
      "{'val_loss': 2.2761978470697635, 'val_accuracy': 0.6453089244851259, 'precision': 0.6533955297488332, 'recall': 0.6453089244851259, 'f1-score': 0.6400898619809947, 'macro_f1-score': 0.4237622441490281, 'balanced_accuracy': 0.4039868503548689, 'mcc': 0.5365959117392766, 'train_loss': 0.07430066847744497}\n",
      "Epoch 13/20\n"
     ]
    },
    {
     "name": "stderr",
     "output_type": "stream",
     "text": [
      "100%|██████████| 716/716 [01:11<00:00, 10.06it/s]\n"
     ]
    },
    {
     "name": "stdout",
     "output_type": "stream",
     "text": [
      "{'val_loss': 2.5081878835108222, 'val_accuracy': 0.6567505720823799, 'precision': 0.641003637296448, 'recall': 0.6567505720823799, 'f1-score': 0.6394774342780128, 'macro_f1-score': 0.4262849611207639, 'balanced_accuracy': 0.42308353339842125, 'mcc': 0.5412199812370094, 'train_loss': 0.09793365140271233}\n",
      "Epoch 14/20\n"
     ]
    },
    {
     "name": "stderr",
     "output_type": "stream",
     "text": [
      "100%|██████████| 716/716 [01:10<00:00, 10.09it/s]\n"
     ]
    },
    {
     "name": "stdout",
     "output_type": "stream",
     "text": [
      "{'val_loss': 2.3973698768673875, 'val_accuracy': 0.6331045003813882, 'precision': 0.6322923415988863, 'recall': 0.6331045003813882, 'f1-score': 0.6236475836275435, 'macro_f1-score': 0.4040339780286386, 'balanced_accuracy': 0.3838837767012017, 'mcc': 0.512855313682444, 'train_loss': 0.09159643022771456}\n",
      "Epoch 15/20\n"
     ]
    },
    {
     "name": "stderr",
     "output_type": "stream",
     "text": [
      "100%|██████████| 716/716 [01:11<00:00, 10.08it/s]\n"
     ]
    },
    {
     "name": "stdout",
     "output_type": "stream",
     "text": [
      "{'val_loss': 2.5670078505830065, 'val_accuracy': 0.6384439359267735, 'precision': 0.6374326571756924, 'recall': 0.6384439359267735, 'f1-score': 0.6272526489338633, 'macro_f1-score': 0.4029928678339994, 'balanced_accuracy': 0.4035613684392396, 'mcc': 0.5265321004008137, 'train_loss': 0.07101082630220062}\n",
      "Epoch 16/20\n"
     ]
    },
    {
     "name": "stderr",
     "output_type": "stream",
     "text": [
      "100%|██████████| 716/716 [01:11<00:00, 10.07it/s]\n"
     ]
    },
    {
     "name": "stdout",
     "output_type": "stream",
     "text": [
      "{'val_loss': 2.6732443105883714, 'val_accuracy': 0.6209000762776506, 'precision': 0.6328035339036927, 'recall': 0.6209000762776506, 'f1-score': 0.6181823244076714, 'macro_f1-score': 0.4196693027012642, 'balanced_accuracy': 0.45385038357452445, 'mcc': 0.5098059945934054, 'train_loss': 0.05803490505705317}\n",
      "Early stopping.\n",
      "\n",
      " === bert-base-uncased + bilstm + t5 Final 5-fold Cross-Validation Results ===\n",
      "val_loss: 2.2058\n",
      "val_accuracy: 0.6499\n",
      "precision: 0.6489\n",
      "recall: 0.6499\n",
      "f1-score: 0.6398\n",
      "macro_f1-score: 0.4263\n",
      "balanced_accuracy: 0.4249\n",
      "mcc: 0.5362\n",
      "train_loss: 0.3322\n",
      "total_seconds: 16547.0000\n",
      "total_time: 4 hrs 35 mins 47 secs\n",
      "▶ Running: roberta-base + plain + t5\n",
      "tokenizer is roberta-base\n",
      "Using device: cuda\n",
      "CUDA Available: True\n",
      "CUDA Device: NVIDIA GeForce RTX 5070 Ti\n",
      "Current GPU Memory Allocated: 0.02 GB\n",
      "Current GPU Memory Cached: 3.25 GB\n",
      "\n",
      "[Fold 1]\n",
      "🚀 Using T5-paraphraser for data augmentation + under-sampling\n",
      "🔻 Under-sampling label 0: 2471 → 2000\n",
      "🔧 Augmenting label 1: 21 → 200 (+179)\n",
      "🔧 Augmenting label 2: 64 → 200 (+136)\n",
      "🔧 Augmenting label 3: 24 → 200 (+176)\n",
      "🔧 Augmenting label 4: 191 → 200 (+9)\n",
      "🔧 Augmenting label 5: 113 → 200 (+87)\n",
      "🔧 Augmenting label 6: 93 → 200 (+107)\n",
      "🔧 Augmenting label 7: 30 → 200 (+170)\n",
      "🔧 Augmenting label 8: 68 → 200 (+132)\n",
      "🔧 Augmenting label 9: 30 → 200 (+170)\n",
      "🔧 Augmenting label 10: 67 → 200 (+133)\n",
      "🔧 Augmenting label 11: 169 → 200 (+31)\n",
      "🔧 Augmenting label 12: 189 → 200 (+11)\n",
      "🔧 Augmenting label 13: 29 → 200 (+171)\n",
      "🔧 Augmenting label 14: 22 → 200 (+178)\n",
      "🔧 Augmenting label 15: 25 → 200 (+175)\n",
      "🔧 Augmenting label 16: 19 → 200 (+181)\n",
      "🔧 Augmenting label 17: 183 → 200 (+17)\n",
      "🔧 Augmenting label 18: 92 → 200 (+108)\n",
      "🔧 Augmenting label 19: 44 → 200 (+156)\n",
      "🔧 Augmenting label 20: 13 → 200 (+187)\n",
      "🔧 Augmenting label 21: 35 → 200 (+165)\n",
      "🔧 Augmenting label 22: 76 → 200 (+124)\n",
      "🔧 Augmenting label 23: 158 → 200 (+42)\n",
      "🔧 Augmenting label 24: 13 → 200 (+187)\n",
      "🔧 Augmenting label 25: 44 → 200 (+156)\n",
      "🔧 Augmenting label 26: 84 → 200 (+116)\n",
      "🔧 Augmenting label 27: 48 → 200 (+152)\n",
      "🔧 Augmenting label 28: 11 → 200 (+189)\n",
      "🔧 Augmenting label 29: 13 → 200 (+187)\n",
      "🔧 Augmenting label 30: 11 → 200 (+189)\n",
      "🔧 Augmenting label 31: 75 → 200 (+125)\n",
      "🔧 Augmenting label 32: 36 → 200 (+164)\n",
      "🔧 Augmenting label 33: 32 → 200 (+168)\n",
      "🔧 Augmenting label 34: 29 → 200 (+171)\n",
      "🔧 Augmenting label 35: 11 → 200 (+189)\n",
      "🔧 Augmenting label 36: 22 → 200 (+178)\n",
      "🔧 Augmenting label 37: 16 → 200 (+184)\n",
      "🔧 Augmenting label 38: 33 → 200 (+167)\n",
      "🔧 Augmenting label 39: 10 → 200 (+190)\n",
      "🔧 Augmenting label 40: 9 → 200 (+191)\n",
      "🔧 Augmenting label 41: 57 → 200 (+143)\n",
      "🔧 Augmenting label 42: 19 → 200 (+181)\n",
      "🔧 Augmenting label 43: 8 → 200 (+192)\n",
      "🔧 Augmenting label 44: 54 → 200 (+146)\n",
      "🔧 Augmenting label 46: 61 → 200 (+139)\n",
      "🔧 Augmenting label 47: 80 → 200 (+120)\n",
      "Label distribution after resampling:\n",
      "  label 0: 2000\n",
      "  label 1: 200\n",
      "  label 2: 200\n",
      "  label 3: 200\n",
      "  label 4: 200\n",
      "  label 5: 200\n",
      "  label 6: 200\n",
      "  label 7: 200\n",
      "  label 8: 200\n",
      "  label 9: 200\n",
      "  label 10: 200\n",
      "  label 11: 200\n",
      "  label 12: 200\n",
      "  label 13: 200\n",
      "  label 14: 200\n",
      "  label 15: 200\n",
      "  label 16: 200\n",
      "  label 17: 200\n",
      "  label 18: 200\n",
      "  label 19: 200\n",
      "  label 20: 200\n",
      "  label 21: 200\n",
      "  label 22: 200\n",
      "  label 23: 200\n",
      "  label 24: 200\n",
      "  label 25: 200\n",
      "  label 26: 200\n",
      "  label 27: 200\n",
      "  label 28: 200\n",
      "  label 29: 200\n",
      "  label 30: 200\n",
      "  label 31: 200\n",
      "  label 32: 200\n",
      "  label 33: 200\n",
      "  label 34: 200\n",
      "  label 35: 200\n",
      "  label 36: 200\n",
      "  label 37: 200\n",
      "  label 38: 200\n",
      "  label 39: 200\n",
      "  label 40: 200\n",
      "  label 41: 200\n",
      "  label 42: 200\n",
      "  label 43: 200\n",
      "  label 44: 200\n",
      "  label 45: 242\n",
      "  label 46: 200\n",
      "  label 47: 200\n",
      "model is roberta-base\n"
     ]
    },
    {
     "name": "stderr",
     "output_type": "stream",
     "text": [
      "Some weights of RobertaForSequenceClassification were not initialized from the model checkpoint at roberta-base and are newly initialized: ['classifier.dense.bias', 'classifier.dense.weight', 'classifier.out_proj.bias', 'classifier.out_proj.weight']\n",
      "You should probably TRAIN this model on a down-stream task to be able to use it for predictions and inference.\n"
     ]
    },
    {
     "name": "stdout",
     "output_type": "stream",
     "text": [
      "Using weighted CrossEntropyLoss with weights: tensor([1.7441, 4.0467, 4.0467, 4.0467, 4.0467, 4.0467, 4.0467, 4.0467, 4.0467,\n",
      "        4.0467, 4.0467, 4.0467, 4.0467, 4.0467, 4.0467, 4.0467, 4.0467, 4.0467,\n",
      "        4.0467, 4.0467, 4.0467, 4.0467, 4.0467, 4.0467, 4.0467, 4.0467, 4.0467,\n",
      "        4.0467, 4.0467, 4.0467, 4.0467, 4.0467, 4.0467, 4.0467, 4.0467, 4.0467,\n",
      "        4.0467, 4.0467, 4.0467, 4.0467, 4.0467, 4.0467, 4.0467, 4.0467, 4.0467,\n",
      "        3.8561, 4.0467, 4.0467], device='cuda:0')\n",
      "Epoch 1/20\n"
     ]
    },
    {
     "name": "stderr",
     "output_type": "stream",
     "text": [
      "100%|██████████| 716/716 [01:01<00:00, 11.60it/s]\n"
     ]
    },
    {
     "name": "stdout",
     "output_type": "stream",
     "text": [
      "{'val_loss': 2.000311620351745, 'val_accuracy': 0.5548780487804879, 'precision': 0.5018782380143386, 'recall': 0.5548780487804879, 'f1-score': 0.49945499979666336, 'macro_f1-score': 0.22382173385589063, 'balanced_accuracy': 0.26222239786152984, 'mcc': 0.377802092724676, 'train_loss': 2.6361306949867216}\n",
      "Epoch 2/20\n"
     ]
    },
    {
     "name": "stderr",
     "output_type": "stream",
     "text": [
      "100%|██████████| 716/716 [01:01<00:00, 11.56it/s]\n"
     ]
    },
    {
     "name": "stdout",
     "output_type": "stream",
     "text": [
      "{'val_loss': 1.7268082128792275, 'val_accuracy': 0.6059451219512195, 'precision': 0.6049567424304, 'recall': 0.6059451219512195, 'f1-score': 0.5983238325230319, 'macro_f1-score': 0.3689904348689013, 'balanced_accuracy': 0.4057419335619434, 'mcc': 0.48578570875682814, 'train_loss': 1.4089759122892465}\n",
      "Epoch 3/20\n"
     ]
    },
    {
     "name": "stderr",
     "output_type": "stream",
     "text": [
      "100%|██████████| 716/716 [01:01<00:00, 11.55it/s]\n"
     ]
    },
    {
     "name": "stdout",
     "output_type": "stream",
     "text": [
      "{'val_loss': 1.7929566124590433, 'val_accuracy': 0.6173780487804879, 'precision': 0.580740851121986, 'recall': 0.6173780487804879, 'f1-score': 0.5789824789533453, 'macro_f1-score': 0.3748122844870006, 'balanced_accuracy': 0.37838930831041884, 'mcc': 0.4756890193188586, 'train_loss': 0.8897172459843439}\n",
      "Epoch 4/20\n"
     ]
    },
    {
     "name": "stderr",
     "output_type": "stream",
     "text": [
      "100%|██████████| 716/716 [01:02<00:00, 11.54it/s]\n"
     ]
    },
    {
     "name": "stdout",
     "output_type": "stream",
     "text": [
      "{'val_loss': 1.889231016723121, 'val_accuracy': 0.6417682926829268, 'precision': 0.6146562871319629, 'recall': 0.6417682926829268, 'f1-score': 0.6122402555134404, 'macro_f1-score': 0.40007692801401645, 'balanced_accuracy': 0.37704666130308756, 'mcc': 0.5070044652185016, 'train_loss': 0.5981699139628996}\n",
      "Epoch 5/20\n"
     ]
    },
    {
     "name": "stderr",
     "output_type": "stream",
     "text": [
      "100%|██████████| 716/716 [01:02<00:00, 11.54it/s]\n"
     ]
    },
    {
     "name": "stdout",
     "output_type": "stream",
     "text": [
      "{'val_loss': 1.9447420097705794, 'val_accuracy': 0.6326219512195121, 'precision': 0.6482278706255027, 'recall': 0.6326219512195121, 'f1-score': 0.6291658679152442, 'macro_f1-score': 0.4405353825252088, 'balanced_accuracy': 0.4580821579084045, 'mcc': 0.5139451090709064, 'train_loss': 0.4151238196701144}\n",
      "Epoch 6/20\n"
     ]
    },
    {
     "name": "stderr",
     "output_type": "stream",
     "text": [
      "100%|██████████| 716/716 [01:02<00:00, 11.55it/s]\n"
     ]
    },
    {
     "name": "stdout",
     "output_type": "stream",
     "text": [
      "{'val_loss': 1.9125584058645295, 'val_accuracy': 0.6265243902439024, 'precision': 0.6370361245089848, 'recall': 0.6265243902439024, 'f1-score': 0.6222063455291198, 'macro_f1-score': 0.42005656908212724, 'balanced_accuracy': 0.44495895382363654, 'mcc': 0.5183498063599208, 'train_loss': 0.2891472730546274}\n",
      "Epoch 7/20\n"
     ]
    },
    {
     "name": "stderr",
     "output_type": "stream",
     "text": [
      "100%|██████████| 716/716 [01:02<00:00, 11.54it/s]\n"
     ]
    },
    {
     "name": "stdout",
     "output_type": "stream",
     "text": [
      "{'val_loss': 2.1315045047823977, 'val_accuracy': 0.6303353658536586, 'precision': 0.6409320047851207, 'recall': 0.6303353658536586, 'f1-score': 0.6241984302267698, 'macro_f1-score': 0.4168044467410481, 'balanced_accuracy': 0.44473523193814507, 'mcc': 0.5174506776029307, 'train_loss': 0.24308735062043033}\n",
      "Epoch 8/20\n"
     ]
    },
    {
     "name": "stderr",
     "output_type": "stream",
     "text": [
      "100%|██████████| 716/716 [01:02<00:00, 11.53it/s]\n"
     ]
    },
    {
     "name": "stdout",
     "output_type": "stream",
     "text": [
      "{'val_loss': 2.163369637436983, 'val_accuracy': 0.6204268292682927, 'precision': 0.6331058564478617, 'recall': 0.6204268292682927, 'f1-score': 0.6173608669060634, 'macro_f1-score': 0.41017279294897285, 'balanced_accuracy': 0.42126473318476965, 'mcc': 0.5034481424785495, 'train_loss': 0.19868576167250188}\n",
      "Early stopping.\n",
      "\n",
      "[Fold 2]\n",
      "🚀 Using T5-paraphraser for data augmentation + under-sampling\n",
      "🔻 Under-sampling label 0: 2471 → 2000\n",
      "🔧 Augmenting label 1: 22 → 200 (+178)\n",
      "🔧 Augmenting label 2: 64 → 200 (+136)\n",
      "🔧 Augmenting label 3: 24 → 200 (+176)\n",
      "🔧 Augmenting label 4: 190 → 200 (+10)\n",
      "🔧 Augmenting label 5: 113 → 200 (+87)\n",
      "🔧 Augmenting label 6: 93 → 200 (+107)\n",
      "🔧 Augmenting label 7: 30 → 200 (+170)\n",
      "🔧 Augmenting label 8: 68 → 200 (+132)\n",
      "🔧 Augmenting label 9: 30 → 200 (+170)\n",
      "🔧 Augmenting label 10: 67 → 200 (+133)\n",
      "🔧 Augmenting label 11: 169 → 200 (+31)\n",
      "🔧 Augmenting label 12: 189 → 200 (+11)\n",
      "🔧 Augmenting label 13: 29 → 200 (+171)\n",
      "🔧 Augmenting label 14: 23 → 200 (+177)\n",
      "🔧 Augmenting label 15: 24 → 200 (+176)\n",
      "🔧 Augmenting label 16: 20 → 200 (+180)\n",
      "🔧 Augmenting label 17: 182 → 200 (+18)\n",
      "🔧 Augmenting label 18: 92 → 200 (+108)\n",
      "🔧 Augmenting label 19: 44 → 200 (+156)\n",
      "🔧 Augmenting label 20: 13 → 200 (+187)\n",
      "🔧 Augmenting label 21: 36 → 200 (+164)\n",
      "🔧 Augmenting label 22: 76 → 200 (+124)\n",
      "🔧 Augmenting label 23: 157 → 200 (+43)\n",
      "🔧 Augmenting label 24: 12 → 200 (+188)\n",
      "🔧 Augmenting label 25: 44 → 200 (+156)\n",
      "🔧 Augmenting label 26: 84 → 200 (+116)\n",
      "🔧 Augmenting label 27: 48 → 200 (+152)\n",
      "🔧 Augmenting label 28: 12 → 200 (+188)\n",
      "🔧 Augmenting label 29: 12 → 200 (+188)\n",
      "🔧 Augmenting label 30: 12 → 200 (+188)\n",
      "🔧 Augmenting label 31: 75 → 200 (+125)\n",
      "🔧 Augmenting label 32: 36 → 200 (+164)\n",
      "🔧 Augmenting label 33: 31 → 200 (+169)\n",
      "🔧 Augmenting label 34: 29 → 200 (+171)\n",
      "🔧 Augmenting label 35: 12 → 200 (+188)\n",
      "🔧 Augmenting label 36: 21 → 200 (+179)\n",
      "🔧 Augmenting label 37: 16 → 200 (+184)\n",
      "🔧 Augmenting label 38: 33 → 200 (+167)\n",
      "🔧 Augmenting label 39: 11 → 200 (+189)\n",
      "🔧 Augmenting label 40: 8 → 200 (+192)\n",
      "🔧 Augmenting label 41: 57 → 200 (+143)\n",
      "🔧 Augmenting label 42: 19 → 200 (+181)\n",
      "🔧 Augmenting label 43: 9 → 200 (+191)\n",
      "🔧 Augmenting label 44: 54 → 200 (+146)\n",
      "🔧 Augmenting label 46: 62 → 200 (+138)\n",
      "🔧 Augmenting label 47: 80 → 200 (+120)\n",
      "Label distribution after resampling:\n",
      "  label 0: 2000\n",
      "  label 1: 200\n",
      "  label 2: 200\n",
      "  label 3: 200\n",
      "  label 4: 200\n",
      "  label 5: 200\n",
      "  label 6: 200\n",
      "  label 7: 200\n",
      "  label 8: 200\n",
      "  label 9: 200\n",
      "  label 10: 200\n",
      "  label 11: 200\n",
      "  label 12: 200\n",
      "  label 13: 200\n",
      "  label 14: 200\n",
      "  label 15: 200\n",
      "  label 16: 200\n",
      "  label 17: 200\n",
      "  label 18: 200\n",
      "  label 19: 200\n",
      "  label 20: 200\n",
      "  label 21: 200\n",
      "  label 22: 200\n",
      "  label 23: 200\n",
      "  label 24: 200\n",
      "  label 25: 200\n",
      "  label 26: 200\n",
      "  label 27: 200\n",
      "  label 28: 200\n",
      "  label 29: 200\n",
      "  label 30: 200\n",
      "  label 31: 200\n",
      "  label 32: 200\n",
      "  label 33: 200\n",
      "  label 34: 200\n",
      "  label 35: 200\n",
      "  label 36: 200\n",
      "  label 37: 200\n",
      "  label 38: 200\n",
      "  label 39: 200\n",
      "  label 40: 200\n",
      "  label 41: 200\n",
      "  label 42: 200\n",
      "  label 43: 200\n",
      "  label 44: 200\n",
      "  label 45: 242\n",
      "  label 46: 200\n",
      "  label 47: 200\n",
      "model is roberta-base\n"
     ]
    },
    {
     "name": "stderr",
     "output_type": "stream",
     "text": [
      "Some weights of RobertaForSequenceClassification were not initialized from the model checkpoint at roberta-base and are newly initialized: ['classifier.dense.bias', 'classifier.dense.weight', 'classifier.out_proj.bias', 'classifier.out_proj.weight']\n",
      "You should probably TRAIN this model on a down-stream task to be able to use it for predictions and inference.\n"
     ]
    },
    {
     "name": "stdout",
     "output_type": "stream",
     "text": [
      "Using weighted CrossEntropyLoss with weights: tensor([1.7441, 4.0467, 4.0467, 4.0467, 4.0467, 4.0467, 4.0467, 4.0467, 4.0467,\n",
      "        4.0467, 4.0467, 4.0467, 4.0467, 4.0467, 4.0467, 4.0467, 4.0467, 4.0467,\n",
      "        4.0467, 4.0467, 4.0467, 4.0467, 4.0467, 4.0467, 4.0467, 4.0467, 4.0467,\n",
      "        4.0467, 4.0467, 4.0467, 4.0467, 4.0467, 4.0467, 4.0467, 4.0467, 4.0467,\n",
      "        4.0467, 4.0467, 4.0467, 4.0467, 4.0467, 4.0467, 4.0467, 4.0467, 4.0467,\n",
      "        3.8561, 4.0467, 4.0467], device='cuda:0')\n",
      "Epoch 1/20\n"
     ]
    },
    {
     "name": "stderr",
     "output_type": "stream",
     "text": [
      "100%|██████████| 716/716 [01:01<00:00, 11.59it/s]\n"
     ]
    },
    {
     "name": "stdout",
     "output_type": "stream",
     "text": [
      "{'val_loss': 2.0712943164313713, 'val_accuracy': 0.5423340961098398, 'precision': 0.5127891680989212, 'recall': 0.5423340961098398, 'f1-score': 0.5052356344309401, 'macro_f1-score': 0.21221178642839877, 'balanced_accuracy': 0.24611938574190204, 'mcc': 0.3858186725023154, 'train_loss': 2.7963408992610166}\n",
      "Epoch 2/20\n"
     ]
    },
    {
     "name": "stderr",
     "output_type": "stream",
     "text": [
      "100%|██████████| 716/716 [01:01<00:00, 11.56it/s]\n"
     ]
    },
    {
     "name": "stdout",
     "output_type": "stream",
     "text": [
      "{'val_loss': 1.9166936976153677, 'val_accuracy': 0.6102212051868803, 'precision': 0.5508565037304523, 'recall': 0.6102212051868803, 'f1-score': 0.5542061762895726, 'macro_f1-score': 0.255489243460622, 'balanced_accuracy': 0.261143448663358, 'mcc': 0.4547048846949061, 'train_loss': 1.5621956712540301}\n",
      "Epoch 3/20\n"
     ]
    },
    {
     "name": "stderr",
     "output_type": "stream",
     "text": [
      "100%|██████████| 716/716 [01:01<00:00, 11.55it/s]\n"
     ]
    },
    {
     "name": "stdout",
     "output_type": "stream",
     "text": [
      "{'val_loss': 1.7468453958267118, 'val_accuracy': 0.6056445461479787, 'precision': 0.5980902608865017, 'recall': 0.6056445461479787, 'f1-score': 0.5868836329320031, 'macro_f1-score': 0.3165979507345831, 'balanced_accuracy': 0.3321571080952826, 'mcc': 0.4761097637674483, 'train_loss': 0.9846728865119665}\n",
      "Epoch 4/20\n"
     ]
    },
    {
     "name": "stderr",
     "output_type": "stream",
     "text": [
      "100%|██████████| 716/716 [01:02<00:00, 11.54it/s]\n"
     ]
    },
    {
     "name": "stdout",
     "output_type": "stream",
     "text": [
      "{'val_loss': 1.8532518962534463, 'val_accuracy': 0.6147978642257819, 'precision': 0.6011102396762462, 'recall': 0.6147978642257819, 'f1-score': 0.5936286435221578, 'macro_f1-score': 0.3335195180705058, 'balanced_accuracy': 0.3638409857130432, 'mcc': 0.48057684557616337, 'train_loss': 0.686880690997789}\n",
      "Epoch 5/20\n"
     ]
    },
    {
     "name": "stderr",
     "output_type": "stream",
     "text": [
      "100%|██████████| 716/716 [01:01<00:00, 11.55it/s]\n"
     ]
    },
    {
     "name": "stdout",
     "output_type": "stream",
     "text": [
      "{'val_loss': 1.9923345239424124, 'val_accuracy': 0.6323417238749046, 'precision': 0.59058139535301, 'recall': 0.6323417238749046, 'f1-score': 0.5939236295902935, 'macro_f1-score': 0.3164754028144144, 'balanced_accuracy': 0.3150260736608512, 'mcc': 0.4969984368701587, 'train_loss': 0.49476094988263186}\n",
      "Epoch 6/20\n"
     ]
    },
    {
     "name": "stderr",
     "output_type": "stream",
     "text": [
      "100%|██████████| 716/716 [01:02<00:00, 11.54it/s]\n"
     ]
    },
    {
     "name": "stdout",
     "output_type": "stream",
     "text": [
      "{'val_loss': 1.9542123529969193, 'val_accuracy': 0.6270022883295194, 'precision': 0.6232387168321771, 'recall': 0.6270022883295194, 'f1-score': 0.6170947660799962, 'macro_f1-score': 0.3555723256928096, 'balanced_accuracy': 0.38894283599314655, 'mcc': 0.5110912184207866, 'train_loss': 0.3886624725806064}\n",
      "Epoch 7/20\n"
     ]
    },
    {
     "name": "stderr",
     "output_type": "stream",
     "text": [
      "100%|██████████| 716/716 [01:02<00:00, 11.54it/s]\n"
     ]
    },
    {
     "name": "stdout",
     "output_type": "stream",
     "text": [
      "{'val_loss': 2.1814529125283406, 'val_accuracy': 0.6437833714721587, 'precision': 0.6256897124918209, 'recall': 0.6437833714721587, 'f1-score': 0.6211066940024272, 'macro_f1-score': 0.35381783933545813, 'balanced_accuracy': 0.357088801132268, 'mcc': 0.5140752553154981, 'train_loss': 0.289926110511885}\n",
      "Epoch 8/20\n"
     ]
    },
    {
     "name": "stderr",
     "output_type": "stream",
     "text": [
      "100%|██████████| 716/716 [01:01<00:00, 11.55it/s]\n"
     ]
    },
    {
     "name": "stdout",
     "output_type": "stream",
     "text": [
      "{'val_loss': 2.126581032828587, 'val_accuracy': 0.623951182303585, 'precision': 0.658595109705062, 'recall': 0.623951182303585, 'f1-score': 0.6334911536411283, 'macro_f1-score': 0.381727498812364, 'balanced_accuracy': 0.409492608438581, 'mcc': 0.5201030339339069, 'train_loss': 0.27236070921618555}\n",
      "Epoch 9/20\n"
     ]
    },
    {
     "name": "stderr",
     "output_type": "stream",
     "text": [
      "100%|██████████| 716/716 [01:01<00:00, 11.55it/s]\n"
     ]
    },
    {
     "name": "stdout",
     "output_type": "stream",
     "text": [
      "{'val_loss': 2.1650293571193044, 'val_accuracy': 0.5995423340961098, 'precision': 0.6410882180724508, 'recall': 0.5995423340961098, 'f1-score': 0.6109615482102537, 'macro_f1-score': 0.3858602945090708, 'balanced_accuracy': 0.4417342215109981, 'mcc': 0.4949825507920604, 'train_loss': 0.23279938626352845}\n",
      "Epoch 10/20\n"
     ]
    },
    {
     "name": "stderr",
     "output_type": "stream",
     "text": [
      "100%|██████████| 716/716 [01:02<00:00, 11.54it/s]\n"
     ]
    },
    {
     "name": "stdout",
     "output_type": "stream",
     "text": [
      "{'val_loss': 2.300474283171863, 'val_accuracy': 0.6018306636155606, 'precision': 0.6276454245575153, 'recall': 0.6018306636155606, 'f1-score': 0.605694981922662, 'macro_f1-score': 0.3681946432890711, 'balanced_accuracy': 0.3857258577716178, 'mcc': 0.4931697226003113, 'train_loss': 0.21277240153750684}\n",
      "Epoch 11/20\n"
     ]
    },
    {
     "name": "stderr",
     "output_type": "stream",
     "text": [
      "100%|██████████| 716/716 [01:01<00:00, 11.55it/s]\n"
     ]
    },
    {
     "name": "stdout",
     "output_type": "stream",
     "text": [
      "{'val_loss': 2.3867168513739982, 'val_accuracy': 0.658276125095347, 'precision': 0.6477881036167951, 'recall': 0.658276125095347, 'f1-score': 0.6398589340764794, 'macro_f1-score': 0.3637856591648969, 'balanced_accuracy': 0.3754555688840196, 'mcc': 0.5383693364332915, 'train_loss': 0.17448995151106975}\n",
      "Epoch 12/20\n"
     ]
    },
    {
     "name": "stderr",
     "output_type": "stream",
     "text": [
      "100%|██████████| 716/716 [01:02<00:00, 11.54it/s]\n"
     ]
    },
    {
     "name": "stdout",
     "output_type": "stream",
     "text": [
      "{'val_loss': 2.3504858184151534, 'val_accuracy': 0.6086956521739131, 'precision': 0.6287618464630195, 'recall': 0.6086956521739131, 'f1-score': 0.6090183266508545, 'macro_f1-score': 0.36523475982574444, 'balanced_accuracy': 0.3982488223443763, 'mcc': 0.5075484128393123, 'train_loss': 0.14552403797067742}\n",
      "Early stopping.\n",
      "\n",
      "[Fold 3]\n",
      "🚀 Using T5-paraphraser for data augmentation + under-sampling\n",
      "🔻 Under-sampling label 0: 2471 → 2000\n",
      "🔧 Augmenting label 1: 22 → 200 (+178)\n",
      "🔧 Augmenting label 2: 64 → 200 (+136)\n",
      "🔧 Augmenting label 3: 24 → 200 (+176)\n",
      "🔧 Augmenting label 4: 190 → 200 (+10)\n",
      "🔧 Augmenting label 5: 113 → 200 (+87)\n",
      "🔧 Augmenting label 6: 93 → 200 (+107)\n",
      "🔧 Augmenting label 7: 30 → 200 (+170)\n",
      "🔧 Augmenting label 8: 68 → 200 (+132)\n",
      "🔧 Augmenting label 9: 30 → 200 (+170)\n",
      "🔧 Augmenting label 10: 67 → 200 (+133)\n",
      "🔧 Augmenting label 11: 169 → 200 (+31)\n",
      "🔧 Augmenting label 12: 190 → 200 (+10)\n",
      "🔧 Augmenting label 13: 28 → 200 (+172)\n",
      "🔧 Augmenting label 14: 23 → 200 (+177)\n",
      "🔧 Augmenting label 15: 25 → 200 (+175)\n",
      "🔧 Augmenting label 16: 19 → 200 (+181)\n",
      "🔧 Augmenting label 17: 182 → 200 (+18)\n",
      "🔧 Augmenting label 18: 92 → 200 (+108)\n",
      "🔧 Augmenting label 19: 44 → 200 (+156)\n",
      "🔧 Augmenting label 20: 14 → 200 (+186)\n",
      "🔧 Augmenting label 21: 35 → 200 (+165)\n",
      "🔧 Augmenting label 22: 76 → 200 (+124)\n",
      "🔧 Augmenting label 23: 157 → 200 (+43)\n",
      "🔧 Augmenting label 24: 13 → 200 (+187)\n",
      "🔧 Augmenting label 25: 44 → 200 (+156)\n",
      "🔧 Augmenting label 26: 84 → 200 (+116)\n",
      "🔧 Augmenting label 27: 48 → 200 (+152)\n",
      "🔧 Augmenting label 28: 11 → 200 (+189)\n",
      "🔧 Augmenting label 29: 13 → 200 (+187)\n",
      "🔧 Augmenting label 30: 11 → 200 (+189)\n",
      "🔧 Augmenting label 31: 76 → 200 (+124)\n",
      "🔧 Augmenting label 32: 36 → 200 (+164)\n",
      "🔧 Augmenting label 33: 31 → 200 (+169)\n",
      "🔧 Augmenting label 34: 30 → 200 (+170)\n",
      "🔧 Augmenting label 35: 11 → 200 (+189)\n",
      "🔧 Augmenting label 36: 21 → 200 (+179)\n",
      "🔧 Augmenting label 37: 16 → 200 (+184)\n",
      "🔧 Augmenting label 38: 32 → 200 (+168)\n",
      "🔧 Augmenting label 39: 11 → 200 (+189)\n",
      "🔧 Augmenting label 40: 9 → 200 (+191)\n",
      "🔧 Augmenting label 41: 57 → 200 (+143)\n",
      "🔧 Augmenting label 42: 18 → 200 (+182)\n",
      "🔧 Augmenting label 43: 9 → 200 (+191)\n",
      "🔧 Augmenting label 44: 55 → 200 (+145)\n",
      "🔧 Augmenting label 46: 62 → 200 (+138)\n",
      "🔧 Augmenting label 47: 80 → 200 (+120)\n",
      "Label distribution after resampling:\n",
      "  label 0: 2000\n",
      "  label 1: 200\n",
      "  label 2: 200\n",
      "  label 3: 200\n",
      "  label 4: 200\n",
      "  label 5: 200\n",
      "  label 6: 200\n",
      "  label 7: 200\n",
      "  label 8: 200\n",
      "  label 9: 200\n",
      "  label 10: 200\n",
      "  label 11: 200\n",
      "  label 12: 200\n",
      "  label 13: 200\n",
      "  label 14: 200\n",
      "  label 15: 200\n",
      "  label 16: 200\n",
      "  label 17: 200\n",
      "  label 18: 200\n",
      "  label 19: 200\n",
      "  label 20: 200\n",
      "  label 21: 200\n",
      "  label 22: 200\n",
      "  label 23: 200\n",
      "  label 24: 200\n",
      "  label 25: 200\n",
      "  label 26: 200\n",
      "  label 27: 200\n",
      "  label 28: 200\n",
      "  label 29: 200\n",
      "  label 30: 200\n",
      "  label 31: 200\n",
      "  label 32: 200\n",
      "  label 33: 200\n",
      "  label 34: 200\n",
      "  label 35: 200\n",
      "  label 36: 200\n",
      "  label 37: 200\n",
      "  label 38: 200\n",
      "  label 39: 200\n",
      "  label 40: 200\n",
      "  label 41: 200\n",
      "  label 42: 200\n",
      "  label 43: 200\n",
      "  label 44: 200\n",
      "  label 45: 241\n",
      "  label 46: 200\n",
      "  label 47: 200\n",
      "model is roberta-base\n"
     ]
    },
    {
     "name": "stderr",
     "output_type": "stream",
     "text": [
      "Some weights of RobertaForSequenceClassification were not initialized from the model checkpoint at roberta-base and are newly initialized: ['classifier.dense.bias', 'classifier.dense.weight', 'classifier.out_proj.bias', 'classifier.out_proj.weight']\n",
      "You should probably TRAIN this model on a down-stream task to be able to use it for predictions and inference.\n"
     ]
    },
    {
     "name": "stdout",
     "output_type": "stream",
     "text": [
      "Using weighted CrossEntropyLoss with weights: tensor([1.7441, 4.0466, 4.0466, 4.0466, 4.0466, 4.0466, 4.0466, 4.0466, 4.0466,\n",
      "        4.0466, 4.0466, 4.0466, 4.0466, 4.0466, 4.0466, 4.0466, 4.0466, 4.0466,\n",
      "        4.0466, 4.0466, 4.0466, 4.0466, 4.0466, 4.0466, 4.0466, 4.0466, 4.0466,\n",
      "        4.0466, 4.0466, 4.0466, 4.0466, 4.0466, 4.0466, 4.0466, 4.0466, 4.0466,\n",
      "        4.0466, 4.0466, 4.0466, 4.0466, 4.0466, 4.0466, 4.0466, 4.0466, 4.0466,\n",
      "        3.8602, 4.0466, 4.0466], device='cuda:0')\n",
      "Epoch 1/20\n"
     ]
    },
    {
     "name": "stderr",
     "output_type": "stream",
     "text": [
      "100%|██████████| 716/716 [01:01<00:00, 11.59it/s]\n"
     ]
    },
    {
     "name": "stdout",
     "output_type": "stream",
     "text": [
      "{'val_loss': 2.0278758857308365, 'val_accuracy': 0.5636918382913806, 'precision': 0.5402648998698153, 'recall': 0.5636918382913806, 'f1-score': 0.5248061894804192, 'macro_f1-score': 0.24143034792198115, 'balanced_accuracy': 0.27969368190679184, 'mcc': 0.40097497429758694, 'train_loss': 2.571555926480107}\n",
      "Epoch 2/20\n"
     ]
    },
    {
     "name": "stderr",
     "output_type": "stream",
     "text": [
      "100%|██████████| 716/716 [01:01<00:00, 11.57it/s]\n"
     ]
    },
    {
     "name": "stdout",
     "output_type": "stream",
     "text": [
      "{'val_loss': 1.8058428041091779, 'val_accuracy': 0.6025934401220442, 'precision': 0.5618582760244027, 'recall': 0.6025934401220442, 'f1-score': 0.5644274351618849, 'macro_f1-score': 0.314869910447797, 'balanced_accuracy': 0.2966009941547912, 'mcc': 0.4511846574702533, 'train_loss': 1.389284335076809}\n",
      "Epoch 3/20\n"
     ]
    },
    {
     "name": "stderr",
     "output_type": "stream",
     "text": [
      "100%|██████████| 716/716 [01:01<00:00, 11.56it/s]\n"
     ]
    },
    {
     "name": "stdout",
     "output_type": "stream",
     "text": [
      "{'val_loss': 1.8541329194132874, 'val_accuracy': 0.6178489702517163, 'precision': 0.607877173008853, 'recall': 0.6178489702517163, 'f1-score': 0.5953149220243698, 'macro_f1-score': 0.37285691694377104, 'balanced_accuracy': 0.363632974155449, 'mcc': 0.4812044799469403, 'train_loss': 0.8624889318201712}\n",
      "Epoch 4/20\n"
     ]
    },
    {
     "name": "stderr",
     "output_type": "stream",
     "text": [
      "100%|██████████| 716/716 [01:02<00:00, 11.54it/s]\n"
     ]
    },
    {
     "name": "stdout",
     "output_type": "stream",
     "text": [
      "{'val_loss': 1.9018169681473476, 'val_accuracy': 0.5942028985507246, 'precision': 0.6002329850349455, 'recall': 0.5942028985507246, 'f1-score': 0.5847749695945357, 'macro_f1-score': 0.35805124293216334, 'balanced_accuracy': 0.35706158931444865, 'mcc': 0.462365898212666, 'train_loss': 0.5302473619143223}\n",
      "Epoch 5/20\n"
     ]
    },
    {
     "name": "stderr",
     "output_type": "stream",
     "text": [
      "100%|██████████| 716/716 [01:01<00:00, 11.55it/s]\n"
     ]
    },
    {
     "name": "stdout",
     "output_type": "stream",
     "text": [
      "{'val_loss': 1.9666813077723109, 'val_accuracy': 0.6186117467581999, 'precision': 0.6002063692826305, 'recall': 0.6186117467581999, 'f1-score': 0.5951251277051042, 'macro_f1-score': 0.3538723157406383, 'balanced_accuracy': 0.3297426639226237, 'mcc': 0.4787498578882096, 'train_loss': 0.38112628634748513}\n",
      "Epoch 6/20\n"
     ]
    },
    {
     "name": "stderr",
     "output_type": "stream",
     "text": [
      "100%|██████████| 716/716 [01:01<00:00, 11.55it/s]\n"
     ]
    },
    {
     "name": "stdout",
     "output_type": "stream",
     "text": [
      "{'val_loss': 2.0522328804178938, 'val_accuracy': 0.589626239511823, 'precision': 0.6107737288374322, 'recall': 0.589626239511823, 'f1-score': 0.5912545489599254, 'macro_f1-score': 0.3528128185370421, 'balanced_accuracy': 0.3551221695660132, 'mcc': 0.4717515202270925, 'train_loss': 0.28169033854846015}\n",
      "Early stopping.\n",
      "\n",
      "[Fold 4]\n",
      "🚀 Using T5-paraphraser for data augmentation + under-sampling\n",
      "🔻 Under-sampling label 0: 2471 → 2000\n",
      "🔧 Augmenting label 1: 22 → 200 (+178)\n",
      "🔧 Augmenting label 2: 64 → 200 (+136)\n",
      "🔧 Augmenting label 3: 24 → 200 (+176)\n",
      "🔧 Augmenting label 4: 190 → 200 (+10)\n",
      "🔧 Augmenting label 5: 113 → 200 (+87)\n",
      "🔧 Augmenting label 6: 93 → 200 (+107)\n",
      "🔧 Augmenting label 7: 31 → 200 (+169)\n",
      "🔧 Augmenting label 8: 68 → 200 (+132)\n",
      "🔧 Augmenting label 9: 29 → 200 (+171)\n",
      "🔧 Augmenting label 10: 67 → 200 (+133)\n",
      "🔧 Augmenting label 11: 169 → 200 (+31)\n",
      "🔧 Augmenting label 12: 190 → 200 (+10)\n",
      "🔧 Augmenting label 13: 29 → 200 (+171)\n",
      "🔧 Augmenting label 14: 22 → 200 (+178)\n",
      "🔧 Augmenting label 15: 25 → 200 (+175)\n",
      "🔧 Augmenting label 16: 19 → 200 (+181)\n",
      "🔧 Augmenting label 17: 182 → 200 (+18)\n",
      "🔧 Augmenting label 18: 92 → 200 (+108)\n",
      "🔧 Augmenting label 19: 44 → 200 (+156)\n",
      "🔧 Augmenting label 20: 14 → 200 (+186)\n",
      "🔧 Augmenting label 21: 35 → 200 (+165)\n",
      "🔧 Augmenting label 22: 76 → 200 (+124)\n",
      "🔧 Augmenting label 23: 158 → 200 (+42)\n",
      "🔧 Augmenting label 24: 13 → 200 (+187)\n",
      "🔧 Augmenting label 25: 44 → 200 (+156)\n",
      "🔧 Augmenting label 26: 84 → 200 (+116)\n",
      "🔧 Augmenting label 27: 48 → 200 (+152)\n",
      "🔧 Augmenting label 28: 11 → 200 (+189)\n",
      "🔧 Augmenting label 29: 13 → 200 (+187)\n",
      "🔧 Augmenting label 30: 11 → 200 (+189)\n",
      "🔧 Augmenting label 31: 75 → 200 (+125)\n",
      "🔧 Augmenting label 32: 36 → 200 (+164)\n",
      "🔧 Augmenting label 33: 31 → 200 (+169)\n",
      "🔧 Augmenting label 34: 30 → 200 (+170)\n",
      "🔧 Augmenting label 35: 11 → 200 (+189)\n",
      "🔧 Augmenting label 36: 22 → 200 (+178)\n",
      "🔧 Augmenting label 37: 16 → 200 (+184)\n",
      "🔧 Augmenting label 38: 33 → 200 (+167)\n",
      "🔧 Augmenting label 39: 10 → 200 (+190)\n",
      "🔧 Augmenting label 40: 9 → 200 (+191)\n",
      "🔧 Augmenting label 41: 56 → 200 (+144)\n",
      "🔧 Augmenting label 42: 18 → 200 (+182)\n",
      "🔧 Augmenting label 43: 9 → 200 (+191)\n",
      "🔧 Augmenting label 44: 55 → 200 (+145)\n",
      "🔧 Augmenting label 46: 62 → 200 (+138)\n",
      "🔧 Augmenting label 47: 80 → 200 (+120)\n",
      "Label distribution after resampling:\n",
      "  label 0: 2000\n",
      "  label 1: 200\n",
      "  label 2: 200\n",
      "  label 3: 200\n",
      "  label 4: 200\n",
      "  label 5: 200\n",
      "  label 6: 200\n",
      "  label 7: 200\n",
      "  label 8: 200\n",
      "  label 9: 200\n",
      "  label 10: 200\n",
      "  label 11: 200\n",
      "  label 12: 200\n",
      "  label 13: 200\n",
      "  label 14: 200\n",
      "  label 15: 200\n",
      "  label 16: 200\n",
      "  label 17: 200\n",
      "  label 18: 200\n",
      "  label 19: 200\n",
      "  label 20: 200\n",
      "  label 21: 200\n",
      "  label 22: 200\n",
      "  label 23: 200\n",
      "  label 24: 200\n",
      "  label 25: 200\n",
      "  label 26: 200\n",
      "  label 27: 200\n",
      "  label 28: 200\n",
      "  label 29: 200\n",
      "  label 30: 200\n",
      "  label 31: 200\n",
      "  label 32: 200\n",
      "  label 33: 200\n",
      "  label 34: 200\n",
      "  label 35: 200\n",
      "  label 36: 200\n",
      "  label 37: 200\n",
      "  label 38: 200\n",
      "  label 39: 200\n",
      "  label 40: 200\n",
      "  label 41: 200\n",
      "  label 42: 200\n",
      "  label 43: 200\n",
      "  label 44: 200\n",
      "  label 45: 241\n",
      "  label 46: 200\n",
      "  label 47: 200\n",
      "model is roberta-base\n"
     ]
    },
    {
     "name": "stderr",
     "output_type": "stream",
     "text": [
      "Some weights of RobertaForSequenceClassification were not initialized from the model checkpoint at roberta-base and are newly initialized: ['classifier.dense.bias', 'classifier.dense.weight', 'classifier.out_proj.bias', 'classifier.out_proj.weight']\n",
      "You should probably TRAIN this model on a down-stream task to be able to use it for predictions and inference.\n"
     ]
    },
    {
     "name": "stdout",
     "output_type": "stream",
     "text": [
      "Using weighted CrossEntropyLoss with weights: tensor([1.7441, 4.0466, 4.0466, 4.0466, 4.0466, 4.0466, 4.0466, 4.0466, 4.0466,\n",
      "        4.0466, 4.0466, 4.0466, 4.0466, 4.0466, 4.0466, 4.0466, 4.0466, 4.0466,\n",
      "        4.0466, 4.0466, 4.0466, 4.0466, 4.0466, 4.0466, 4.0466, 4.0466, 4.0466,\n",
      "        4.0466, 4.0466, 4.0466, 4.0466, 4.0466, 4.0466, 4.0466, 4.0466, 4.0466,\n",
      "        4.0466, 4.0466, 4.0466, 4.0466, 4.0466, 4.0466, 4.0466, 4.0466, 4.0466,\n",
      "        3.8602, 4.0466, 4.0466], device='cuda:0')\n",
      "Epoch 1/20\n"
     ]
    },
    {
     "name": "stderr",
     "output_type": "stream",
     "text": [
      "100%|██████████| 716/716 [01:01<00:00, 11.59it/s]\n"
     ]
    },
    {
     "name": "stdout",
     "output_type": "stream",
     "text": [
      "{'val_loss': 1.982483478581033, 'val_accuracy': 0.5682684973302822, 'precision': 0.4871073788690715, 'recall': 0.5682684973302822, 'f1-score': 0.5040239560772148, 'macro_f1-score': 0.1919393068611246, 'balanced_accuracy': 0.22393741549288737, 'mcc': 0.39983879459004384, 'train_loss': 2.7706265587713466}\n",
      "Epoch 2/20\n"
     ]
    },
    {
     "name": "stderr",
     "output_type": "stream",
     "text": [
      "100%|██████████| 716/716 [01:01<00:00, 11.55it/s]\n"
     ]
    },
    {
     "name": "stdout",
     "output_type": "stream",
     "text": [
      "{'val_loss': 1.666433894416181, 'val_accuracy': 0.5957284515636918, 'precision': 0.6279472564676861, 'recall': 0.5957284515636918, 'f1-score': 0.591745847665522, 'macro_f1-score': 0.36250237991946554, 'balanced_accuracy': 0.4108319594436423, 'mcc': 0.47818043888685563, 'train_loss': 1.500759248543718}\n",
      "Epoch 3/20\n"
     ]
    },
    {
     "name": "stderr",
     "output_type": "stream",
     "text": [
      "100%|██████████| 716/716 [01:01<00:00, 11.55it/s]\n"
     ]
    },
    {
     "name": "stdout",
     "output_type": "stream",
     "text": [
      "{'val_loss': 1.6764925809168234, 'val_accuracy': 0.6193745232646835, 'precision': 0.6312018838608134, 'recall': 0.6193745232646835, 'f1-score': 0.6105928801544521, 'macro_f1-score': 0.373731364168761, 'balanced_accuracy': 0.3926476996663884, 'mcc': 0.5081111400590209, 'train_loss': 0.9112152382523321}\n",
      "Epoch 4/20\n"
     ]
    },
    {
     "name": "stderr",
     "output_type": "stream",
     "text": [
      "100%|██████████| 716/716 [01:02<00:00, 11.55it/s]\n"
     ]
    },
    {
     "name": "stdout",
     "output_type": "stream",
     "text": [
      "{'val_loss': 1.751767552480465, 'val_accuracy': 0.6460717009916095, 'precision': 0.6408353603657447, 'recall': 0.6460717009916095, 'f1-score': 0.6291411459449725, 'macro_f1-score': 0.39497043411067106, 'balanced_accuracy': 0.3849522234661917, 'mcc': 0.5227494980172107, 'train_loss': 0.5901076775668553}\n",
      "Epoch 5/20\n"
     ]
    },
    {
     "name": "stderr",
     "output_type": "stream",
     "text": [
      "100%|██████████| 716/716 [01:02<00:00, 11.55it/s]\n"
     ]
    },
    {
     "name": "stdout",
     "output_type": "stream",
     "text": [
      "{'val_loss': 1.8105032080557288, 'val_accuracy': 0.6262395118230358, 'precision': 0.6436386784550816, 'recall': 0.6262395118230358, 'f1-score': 0.6227152995717873, 'macro_f1-score': 0.40244199005155806, 'balanced_accuracy': 0.42364677144318647, 'mcc': 0.5200896244678614, 'train_loss': 0.40236255875138266}\n",
      "Epoch 6/20\n"
     ]
    },
    {
     "name": "stderr",
     "output_type": "stream",
     "text": [
      "100%|██████████| 716/716 [01:02<00:00, 11.54it/s]\n"
     ]
    },
    {
     "name": "stdout",
     "output_type": "stream",
     "text": [
      "{'val_loss': 1.8581630387684194, 'val_accuracy': 0.6437833714721587, 'precision': 0.6499069205230423, 'recall': 0.6437833714721587, 'f1-score': 0.6367185362712955, 'macro_f1-score': 0.40401737062268533, 'balanced_accuracy': 0.4265940002482039, 'mcc': 0.5389119784397391, 'train_loss': 0.30052027780323304}\n",
      "Epoch 7/20\n"
     ]
    },
    {
     "name": "stderr",
     "output_type": "stream",
     "text": [
      "100%|██████████| 716/716 [01:02<00:00, 11.55it/s]\n"
     ]
    },
    {
     "name": "stdout",
     "output_type": "stream",
     "text": [
      "{'val_loss': 2.0938847551985487, 'val_accuracy': 0.6605644546147978, 'precision': 0.6473648140413889, 'recall': 0.6605644546147978, 'f1-score': 0.646592371932064, 'macro_f1-score': 0.4031681047849609, 'balanced_accuracy': 0.39754001632565367, 'mcc': 0.5479679697423101, 'train_loss': 0.22312146262395816}\n",
      "Epoch 8/20\n"
     ]
    },
    {
     "name": "stderr",
     "output_type": "stream",
     "text": [
      "100%|██████████| 716/716 [01:02<00:00, 11.54it/s]\n"
     ]
    },
    {
     "name": "stdout",
     "output_type": "stream",
     "text": [
      "{'val_loss': 2.087349927098286, 'val_accuracy': 0.6216628527841342, 'precision': 0.6489327701154232, 'recall': 0.6216628527841342, 'f1-score': 0.6219529775814167, 'macro_f1-score': 0.3835843730113897, 'balanced_accuracy': 0.40759883709236444, 'mcc': 0.5230229038987382, 'train_loss': 0.20795381280031658}\n",
      "Epoch 9/20\n"
     ]
    },
    {
     "name": "stderr",
     "output_type": "stream",
     "text": [
      "100%|██████████| 716/716 [01:01<00:00, 11.55it/s]\n"
     ]
    },
    {
     "name": "stdout",
     "output_type": "stream",
     "text": [
      "{'val_loss': 2.199206882315438, 'val_accuracy': 0.627765064836003, 'precision': 0.6489804704125927, 'recall': 0.627765064836003, 'f1-score': 0.6301857534612626, 'macro_f1-score': 0.40825157304966847, 'balanced_accuracy': 0.4250201670492188, 'mcc': 0.5235065692941604, 'train_loss': 0.16044451053483236}\n",
      "Epoch 10/20\n"
     ]
    },
    {
     "name": "stderr",
     "output_type": "stream",
     "text": [
      "100%|██████████| 716/716 [01:02<00:00, 11.54it/s]\n"
     ]
    },
    {
     "name": "stdout",
     "output_type": "stream",
     "text": [
      "{'val_loss': 2.183361109800455, 'val_accuracy': 0.6361556064073226, 'precision': 0.6607486487885055, 'recall': 0.6361556064073226, 'f1-score': 0.6379401940372516, 'macro_f1-score': 0.39736680144311237, 'balanced_accuracy': 0.3931933673040337, 'mcc': 0.5322606092264016, 'train_loss': 0.15487655804247996}\n",
      "Epoch 11/20\n"
     ]
    },
    {
     "name": "stderr",
     "output_type": "stream",
     "text": [
      "100%|██████████| 716/716 [01:02<00:00, 11.55it/s]\n"
     ]
    },
    {
     "name": "stdout",
     "output_type": "stream",
     "text": [
      "{'val_loss': 2.3598578139776136, 'val_accuracy': 0.6437833714721587, 'precision': 0.6572370664419949, 'recall': 0.6437833714721587, 'f1-score': 0.6403616644729413, 'macro_f1-score': 0.40476302783375645, 'balanced_accuracy': 0.4270495317845608, 'mcc': 0.5356515196683271, 'train_loss': 0.12465125706122263}\n",
      "Epoch 12/20\n"
     ]
    },
    {
     "name": "stderr",
     "output_type": "stream",
     "text": [
      "100%|██████████| 716/716 [01:02<00:00, 11.55it/s]\n"
     ]
    },
    {
     "name": "stdout",
     "output_type": "stream",
     "text": [
      "{'val_loss': 2.400481963893626, 'val_accuracy': 0.6361556064073226, 'precision': 0.652703004758515, 'recall': 0.6361556064073226, 'f1-score': 0.6348551303516341, 'macro_f1-score': 0.3935993091637276, 'balanced_accuracy': 0.42279476369952906, 'mcc': 0.5301091439880854, 'train_loss': 0.1244975376909003}\n",
      "Early stopping.\n",
      "\n",
      "[Fold 5]\n",
      "🚀 Using T5-paraphraser for data augmentation + under-sampling\n",
      "🔻 Under-sampling label 0: 2472 → 2000\n",
      "🔧 Augmenting label 1: 21 → 200 (+179)\n",
      "🔧 Augmenting label 2: 64 → 200 (+136)\n",
      "🔧 Augmenting label 3: 24 → 200 (+176)\n",
      "🔧 Augmenting label 4: 191 → 200 (+9)\n",
      "🔧 Augmenting label 5: 112 → 200 (+88)\n",
      "🔧 Augmenting label 6: 92 → 200 (+108)\n",
      "🔧 Augmenting label 7: 31 → 200 (+169)\n",
      "🔧 Augmenting label 8: 68 → 200 (+132)\n",
      "🔧 Augmenting label 9: 29 → 200 (+171)\n",
      "🔧 Augmenting label 10: 68 → 200 (+132)\n",
      "🔧 Augmenting label 11: 168 → 200 (+32)\n",
      "🔧 Augmenting label 12: 190 → 200 (+10)\n",
      "🔧 Augmenting label 13: 29 → 200 (+171)\n",
      "🔧 Augmenting label 14: 22 → 200 (+178)\n",
      "🔧 Augmenting label 15: 25 → 200 (+175)\n",
      "🔧 Augmenting label 16: 19 → 200 (+181)\n",
      "🔧 Augmenting label 17: 183 → 200 (+17)\n",
      "🔧 Augmenting label 18: 92 → 200 (+108)\n",
      "🔧 Augmenting label 19: 44 → 200 (+156)\n",
      "🔧 Augmenting label 20: 14 → 200 (+186)\n",
      "🔧 Augmenting label 21: 35 → 200 (+165)\n",
      "🔧 Augmenting label 22: 76 → 200 (+124)\n",
      "🔧 Augmenting label 23: 158 → 200 (+42)\n",
      "🔧 Augmenting label 24: 13 → 200 (+187)\n",
      "🔧 Augmenting label 25: 44 → 200 (+156)\n",
      "🔧 Augmenting label 26: 84 → 200 (+116)\n",
      "🔧 Augmenting label 27: 48 → 200 (+152)\n",
      "🔧 Augmenting label 28: 11 → 200 (+189)\n",
      "🔧 Augmenting label 29: 13 → 200 (+187)\n",
      "🔧 Augmenting label 30: 11 → 200 (+189)\n",
      "🔧 Augmenting label 31: 75 → 200 (+125)\n",
      "🔧 Augmenting label 32: 36 → 200 (+164)\n",
      "🔧 Augmenting label 33: 31 → 200 (+169)\n",
      "🔧 Augmenting label 34: 30 → 200 (+170)\n",
      "🔧 Augmenting label 35: 11 → 200 (+189)\n",
      "🔧 Augmenting label 36: 22 → 200 (+178)\n",
      "🔧 Augmenting label 37: 16 → 200 (+184)\n",
      "🔧 Augmenting label 38: 33 → 200 (+167)\n",
      "🔧 Augmenting label 39: 10 → 200 (+190)\n",
      "🔧 Augmenting label 40: 9 → 200 (+191)\n",
      "🔧 Augmenting label 41: 57 → 200 (+143)\n",
      "🔧 Augmenting label 42: 18 → 200 (+182)\n",
      "🔧 Augmenting label 43: 9 → 200 (+191)\n",
      "🔧 Augmenting label 44: 54 → 200 (+146)\n",
      "🔧 Augmenting label 46: 61 → 200 (+139)\n",
      "🔧 Augmenting label 47: 80 → 200 (+120)\n",
      "Label distribution after resampling:\n",
      "  label 0: 2000\n",
      "  label 1: 200\n",
      "  label 2: 200\n",
      "  label 3: 200\n",
      "  label 4: 200\n",
      "  label 5: 200\n",
      "  label 6: 200\n",
      "  label 7: 200\n",
      "  label 8: 200\n",
      "  label 9: 200\n",
      "  label 10: 200\n",
      "  label 11: 200\n",
      "  label 12: 200\n",
      "  label 13: 200\n",
      "  label 14: 200\n",
      "  label 15: 200\n",
      "  label 16: 200\n",
      "  label 17: 200\n",
      "  label 18: 200\n",
      "  label 19: 200\n",
      "  label 20: 200\n",
      "  label 21: 200\n",
      "  label 22: 200\n",
      "  label 23: 200\n",
      "  label 24: 200\n",
      "  label 25: 200\n",
      "  label 26: 200\n",
      "  label 27: 200\n",
      "  label 28: 200\n",
      "  label 29: 200\n",
      "  label 30: 200\n",
      "  label 31: 200\n",
      "  label 32: 200\n",
      "  label 33: 200\n",
      "  label 34: 200\n",
      "  label 35: 200\n",
      "  label 36: 200\n",
      "  label 37: 200\n",
      "  label 38: 200\n",
      "  label 39: 200\n",
      "  label 40: 200\n",
      "  label 41: 200\n",
      "  label 42: 200\n",
      "  label 43: 200\n",
      "  label 44: 200\n",
      "  label 45: 242\n",
      "  label 46: 200\n",
      "  label 47: 200\n",
      "model is roberta-base\n"
     ]
    },
    {
     "name": "stderr",
     "output_type": "stream",
     "text": [
      "Some weights of RobertaForSequenceClassification were not initialized from the model checkpoint at roberta-base and are newly initialized: ['classifier.dense.bias', 'classifier.dense.weight', 'classifier.out_proj.bias', 'classifier.out_proj.weight']\n",
      "You should probably TRAIN this model on a down-stream task to be able to use it for predictions and inference.\n"
     ]
    },
    {
     "name": "stdout",
     "output_type": "stream",
     "text": [
      "Using weighted CrossEntropyLoss with weights: tensor([1.7441, 4.0467, 4.0467, 4.0467, 4.0467, 4.0467, 4.0467, 4.0467, 4.0467,\n",
      "        4.0467, 4.0467, 4.0467, 4.0467, 4.0467, 4.0467, 4.0467, 4.0467, 4.0467,\n",
      "        4.0467, 4.0467, 4.0467, 4.0467, 4.0467, 4.0467, 4.0467, 4.0467, 4.0467,\n",
      "        4.0467, 4.0467, 4.0467, 4.0467, 4.0467, 4.0467, 4.0467, 4.0467, 4.0467,\n",
      "        4.0467, 4.0467, 4.0467, 4.0467, 4.0467, 4.0467, 4.0467, 4.0467, 4.0467,\n",
      "        3.8561, 4.0467, 4.0467], device='cuda:0')\n",
      "Epoch 1/20\n"
     ]
    },
    {
     "name": "stderr",
     "output_type": "stream",
     "text": [
      "100%|██████████| 716/716 [01:01<00:00, 11.60it/s]\n"
     ]
    },
    {
     "name": "stdout",
     "output_type": "stream",
     "text": [
      "{'val_loss': 1.9193706563333186, 'val_accuracy': 0.5751334858886347, 'precision': 0.5293494387567008, 'recall': 0.5751334858886347, 'f1-score': 0.5011949413052841, 'macro_f1-score': 0.24573406434203737, 'balanced_accuracy': 0.2628565363654418, 'mcc': 0.40110266114675974, 'train_loss': 2.6331818843021075}\n",
      "Epoch 2/20\n"
     ]
    },
    {
     "name": "stderr",
     "output_type": "stream",
     "text": [
      "100%|██████████| 716/716 [01:01<00:00, 11.57it/s]\n"
     ]
    },
    {
     "name": "stdout",
     "output_type": "stream",
     "text": [
      "{'val_loss': 1.6486164578577367, 'val_accuracy': 0.597254004576659, 'precision': 0.6145255655092869, 'recall': 0.597254004576659, 'f1-score': 0.5915948759203167, 'macro_f1-score': 0.33556723329787813, 'balanced_accuracy': 0.3727062123644354, 'mcc': 0.48657181970958163, 'train_loss': 1.3481258584717133}\n",
      "Epoch 3/20\n"
     ]
    },
    {
     "name": "stderr",
     "output_type": "stream",
     "text": [
      "100%|██████████| 716/716 [01:01<00:00, 11.56it/s]\n"
     ]
    },
    {
     "name": "stdout",
     "output_type": "stream",
     "text": [
      "{'val_loss': 1.8212621110241587, 'val_accuracy': 0.6216628527841342, 'precision': 0.5822209011126531, 'recall': 0.6216628527841342, 'f1-score': 0.5803885345028764, 'macro_f1-score': 0.3304765786900961, 'balanced_accuracy': 0.3311622012588258, 'mcc': 0.478147722149792, 'train_loss': 0.8288694585793178}\n",
      "Epoch 4/20\n"
     ]
    },
    {
     "name": "stderr",
     "output_type": "stream",
     "text": [
      "100%|██████████| 716/716 [01:02<00:00, 11.55it/s]\n"
     ]
    },
    {
     "name": "stdout",
     "output_type": "stream",
     "text": [
      "{'val_loss': 1.8250396338904775, 'val_accuracy': 0.627765064836003, 'precision': 0.5997632330591068, 'recall': 0.627765064836003, 'f1-score': 0.6028168479651914, 'macro_f1-score': 0.3745620631782433, 'balanced_accuracy': 0.40418374050400036, 'mcc': 0.5013499689352788, 'train_loss': 0.5489052078223595}\n",
      "Epoch 5/20\n"
     ]
    },
    {
     "name": "stderr",
     "output_type": "stream",
     "text": [
      "100%|██████████| 716/716 [01:01<00:00, 11.55it/s]\n"
     ]
    },
    {
     "name": "stdout",
     "output_type": "stream",
     "text": [
      "{'val_loss': 1.8295095432095412, 'val_accuracy': 0.6437833714721587, 'precision': 0.6243540723954956, 'recall': 0.6437833714721587, 'f1-score': 0.622448711790381, 'macro_f1-score': 0.3917079153975356, 'balanced_accuracy': 0.36922652801092387, 'mcc': 0.5210365837096795, 'train_loss': 0.4514682213307551}\n",
      "Epoch 6/20\n"
     ]
    },
    {
     "name": "stderr",
     "output_type": "stream",
     "text": [
      "100%|██████████| 716/716 [01:02<00:00, 11.54it/s]\n"
     ]
    },
    {
     "name": "stdout",
     "output_type": "stream",
     "text": [
      "{'val_loss': 1.862706283970577, 'val_accuracy': 0.6483600305110603, 'precision': 0.6297765563017509, 'recall': 0.6483600305110603, 'f1-score': 0.6328247856921684, 'macro_f1-score': 0.4293812301761575, 'balanced_accuracy': 0.4232316491694683, 'mcc': 0.5322189795096582, 'train_loss': 0.27314479566990874}\n",
      "Epoch 7/20\n"
     ]
    },
    {
     "name": "stderr",
     "output_type": "stream",
     "text": [
      "100%|██████████| 716/716 [01:01<00:00, 11.55it/s]\n"
     ]
    },
    {
     "name": "stdout",
     "output_type": "stream",
     "text": [
      "{'val_loss': 2.0944866839705445, 'val_accuracy': 0.6300533943554538, 'precision': 0.6278440237035098, 'recall': 0.6300533943554538, 'f1-score': 0.613349703066459, 'macro_f1-score': 0.37157207772034057, 'balanced_accuracy': 0.36497402500902015, 'mcc': 0.5081182206417859, 'train_loss': 0.221347599248688}\n",
      "Epoch 8/20\n"
     ]
    },
    {
     "name": "stderr",
     "output_type": "stream",
     "text": [
      "100%|██████████| 716/716 [01:02<00:00, 11.55it/s]\n"
     ]
    },
    {
     "name": "stdout",
     "output_type": "stream",
     "text": [
      "{'val_loss': 2.0441652732651407, 'val_accuracy': 0.6331045003813882, 'precision': 0.6296824368126168, 'recall': 0.6331045003813882, 'f1-score': 0.6215145358184545, 'macro_f1-score': 0.3886928948608455, 'balanced_accuracy': 0.38021558023173957, 'mcc': 0.5204036059590808, 'train_loss': 0.18925189396871162}\n",
      "Epoch 9/20\n"
     ]
    },
    {
     "name": "stderr",
     "output_type": "stream",
     "text": [
      "100%|██████████| 716/716 [01:02<00:00, 11.55it/s]\n"
     ]
    },
    {
     "name": "stdout",
     "output_type": "stream",
     "text": [
      "{'val_loss': 2.2943227745410875, 'val_accuracy': 0.6552250190694127, 'precision': 0.6402717484091911, 'recall': 0.6552250190694127, 'f1-score': 0.6298778020811253, 'macro_f1-score': 0.40177703558754674, 'balanced_accuracy': 0.39996728011032473, 'mcc': 0.5347515728637348, 'train_loss': 0.1485535686747197}\n",
      "Early stopping.\n",
      "\n",
      " === roberta-base + plain + t5 Final 5-fold Cross-Validation Results ===\n",
      "val_loss: 2.0052\n",
      "val_accuracy: 0.6252\n",
      "precision: 0.6352\n",
      "recall: 0.6252\n",
      "f1-score: 0.6197\n",
      "macro_f1-score: 0.4074\n",
      "balanced_accuracy: 0.4223\n",
      "mcc: 0.5092\n",
      "train_loss: 0.3888\n",
      "total_seconds: 21604.0000\n",
      "total_time: 6 hrs 0 mins 4 secs\n",
      "▶ Running: roberta-base + cnn + t5\n",
      "tokenizer is roberta-base\n",
      "Using device: cuda\n",
      "CUDA Available: True\n",
      "CUDA Device: NVIDIA GeForce RTX 5070 Ti\n",
      "Current GPU Memory Allocated: 0.02 GB\n",
      "Current GPU Memory Cached: 4.02 GB\n",
      "\n",
      "[Fold 1]\n",
      "🚀 Using T5-paraphraser for data augmentation + under-sampling\n",
      "🔻 Under-sampling label 0: 2471 → 2000\n",
      "🔧 Augmenting label 1: 21 → 200 (+179)\n",
      "🔧 Augmenting label 2: 64 → 200 (+136)\n",
      "🔧 Augmenting label 3: 24 → 200 (+176)\n",
      "🔧 Augmenting label 4: 191 → 200 (+9)\n",
      "🔧 Augmenting label 5: 113 → 200 (+87)\n",
      "🔧 Augmenting label 6: 93 → 200 (+107)\n",
      "🔧 Augmenting label 7: 30 → 200 (+170)\n",
      "🔧 Augmenting label 8: 68 → 200 (+132)\n",
      "🔧 Augmenting label 9: 30 → 200 (+170)\n",
      "🔧 Augmenting label 10: 67 → 200 (+133)\n",
      "🔧 Augmenting label 11: 169 → 200 (+31)\n",
      "🔧 Augmenting label 12: 189 → 200 (+11)\n",
      "🔧 Augmenting label 13: 29 → 200 (+171)\n",
      "🔧 Augmenting label 14: 22 → 200 (+178)\n",
      "🔧 Augmenting label 15: 25 → 200 (+175)\n",
      "🔧 Augmenting label 16: 19 → 200 (+181)\n",
      "🔧 Augmenting label 17: 183 → 200 (+17)\n",
      "🔧 Augmenting label 18: 92 → 200 (+108)\n",
      "🔧 Augmenting label 19: 44 → 200 (+156)\n",
      "🔧 Augmenting label 20: 13 → 200 (+187)\n",
      "🔧 Augmenting label 21: 35 → 200 (+165)\n",
      "🔧 Augmenting label 22: 76 → 200 (+124)\n",
      "🔧 Augmenting label 23: 158 → 200 (+42)\n",
      "🔧 Augmenting label 24: 13 → 200 (+187)\n",
      "🔧 Augmenting label 25: 44 → 200 (+156)\n",
      "🔧 Augmenting label 26: 84 → 200 (+116)\n",
      "🔧 Augmenting label 27: 48 → 200 (+152)\n",
      "🔧 Augmenting label 28: 11 → 200 (+189)\n",
      "🔧 Augmenting label 29: 13 → 200 (+187)\n",
      "🔧 Augmenting label 30: 11 → 200 (+189)\n",
      "🔧 Augmenting label 31: 75 → 200 (+125)\n",
      "🔧 Augmenting label 32: 36 → 200 (+164)\n",
      "🔧 Augmenting label 33: 32 → 200 (+168)\n",
      "🔧 Augmenting label 34: 29 → 200 (+171)\n",
      "🔧 Augmenting label 35: 11 → 200 (+189)\n",
      "🔧 Augmenting label 36: 22 → 200 (+178)\n",
      "🔧 Augmenting label 37: 16 → 200 (+184)\n",
      "🔧 Augmenting label 38: 33 → 200 (+167)\n",
      "🔧 Augmenting label 39: 10 → 200 (+190)\n",
      "🔧 Augmenting label 40: 9 → 200 (+191)\n",
      "🔧 Augmenting label 41: 57 → 200 (+143)\n",
      "🔧 Augmenting label 42: 19 → 200 (+181)\n",
      "🔧 Augmenting label 43: 8 → 200 (+192)\n",
      "🔧 Augmenting label 44: 54 → 200 (+146)\n",
      "🔧 Augmenting label 46: 61 → 200 (+139)\n",
      "🔧 Augmenting label 47: 80 → 200 (+120)\n",
      "Label distribution after resampling:\n",
      "  label 0: 2000\n",
      "  label 1: 200\n",
      "  label 2: 200\n",
      "  label 3: 200\n",
      "  label 4: 200\n",
      "  label 5: 200\n",
      "  label 6: 200\n",
      "  label 7: 200\n",
      "  label 8: 200\n",
      "  label 9: 200\n",
      "  label 10: 200\n",
      "  label 11: 200\n",
      "  label 12: 200\n",
      "  label 13: 200\n",
      "  label 14: 200\n",
      "  label 15: 200\n",
      "  label 16: 200\n",
      "  label 17: 200\n",
      "  label 18: 200\n",
      "  label 19: 200\n",
      "  label 20: 200\n",
      "  label 21: 200\n",
      "  label 22: 200\n",
      "  label 23: 200\n",
      "  label 24: 200\n",
      "  label 25: 200\n",
      "  label 26: 200\n",
      "  label 27: 200\n",
      "  label 28: 200\n",
      "  label 29: 200\n",
      "  label 30: 200\n",
      "  label 31: 200\n",
      "  label 32: 200\n",
      "  label 33: 200\n",
      "  label 34: 200\n",
      "  label 35: 200\n",
      "  label 36: 200\n",
      "  label 37: 200\n",
      "  label 38: 200\n",
      "  label 39: 200\n",
      "  label 40: 200\n",
      "  label 41: 200\n",
      "  label 42: 200\n",
      "  label 43: 200\n",
      "  label 44: 200\n",
      "  label 45: 242\n",
      "  label 46: 200\n",
      "  label 47: 200\n",
      "model is roberta-base cnn\n"
     ]
    },
    {
     "name": "stderr",
     "output_type": "stream",
     "text": [
      "Some weights of RobertaModel were not initialized from the model checkpoint at roberta-base and are newly initialized: ['pooler.dense.bias', 'pooler.dense.weight']\n",
      "You should probably TRAIN this model on a down-stream task to be able to use it for predictions and inference.\n"
     ]
    },
    {
     "name": "stdout",
     "output_type": "stream",
     "text": [
      "Using weighted CrossEntropyLoss with weights: tensor([1.7441, 4.0467, 4.0467, 4.0467, 4.0467, 4.0467, 4.0467, 4.0467, 4.0467,\n",
      "        4.0467, 4.0467, 4.0467, 4.0467, 4.0467, 4.0467, 4.0467, 4.0467, 4.0467,\n",
      "        4.0467, 4.0467, 4.0467, 4.0467, 4.0467, 4.0467, 4.0467, 4.0467, 4.0467,\n",
      "        4.0467, 4.0467, 4.0467, 4.0467, 4.0467, 4.0467, 4.0467, 4.0467, 4.0467,\n",
      "        4.0467, 4.0467, 4.0467, 4.0467, 4.0467, 4.0467, 4.0467, 4.0467, 4.0467,\n",
      "        3.8561, 4.0467, 4.0467], device='cuda:0')\n",
      "Epoch 1/20\n"
     ]
    },
    {
     "name": "stderr",
     "output_type": "stream",
     "text": [
      "100%|██████████| 716/716 [01:02<00:00, 11.37it/s]\n"
     ]
    },
    {
     "name": "stdout",
     "output_type": "stream",
     "text": [
      "{'val_loss': 2.140429525840573, 'val_accuracy': 0.5289634146341463, 'precision': 0.45090896920705004, 'recall': 0.5289634146341463, 'f1-score': 0.471478164191392, 'macro_f1-score': 0.21227356874227685, 'balanced_accuracy': 0.24698869739008197, 'mcc': 0.33724082562766905, 'train_loss': 2.7524206212113023}\n",
      "Epoch 2/20\n"
     ]
    },
    {
     "name": "stderr",
     "output_type": "stream",
     "text": [
      "100%|██████████| 716/716 [01:03<00:00, 11.32it/s]\n"
     ]
    },
    {
     "name": "stdout",
     "output_type": "stream",
     "text": [
      "{'val_loss': 1.780825625832488, 'val_accuracy': 0.6265243902439024, 'precision': 0.5820108386736222, 'recall': 0.6265243902439024, 'f1-score': 0.5816728915551895, 'macro_f1-score': 0.3374568460362046, 'balanced_accuracy': 0.34958169699659636, 'mcc': 0.48319780199320383, 'train_loss': 1.5989110509776536}\n",
      "Epoch 3/20\n"
     ]
    },
    {
     "name": "stderr",
     "output_type": "stream",
     "text": [
      "100%|██████████| 716/716 [01:03<00:00, 11.31it/s]\n"
     ]
    },
    {
     "name": "stdout",
     "output_type": "stream",
     "text": [
      "{'val_loss': 1.7772294828077642, 'val_accuracy': 0.5967987804878049, 'precision': 0.6228315758889098, 'recall': 0.5967987804878049, 'f1-score': 0.5910071179690148, 'macro_f1-score': 0.36958991109972866, 'balanced_accuracy': 0.4185678290555685, 'mcc': 0.4697355598592742, 'train_loss': 1.1018653336558595}\n",
      "Epoch 4/20\n"
     ]
    },
    {
     "name": "stderr",
     "output_type": "stream",
     "text": [
      "100%|██████████| 716/716 [01:03<00:00, 11.30it/s]\n"
     ]
    },
    {
     "name": "stdout",
     "output_type": "stream",
     "text": [
      "{'val_loss': 1.7347832154936906, 'val_accuracy': 0.6471036585365854, 'precision': 0.6198348864458806, 'recall': 0.6471036585365854, 'f1-score': 0.6247455148540895, 'macro_f1-score': 0.3815427823648685, 'balanced_accuracy': 0.3926299843292032, 'mcc': 0.5246887004251648, 'train_loss': 0.7806278917126815}\n",
      "Epoch 5/20\n"
     ]
    },
    {
     "name": "stderr",
     "output_type": "stream",
     "text": [
      "100%|██████████| 716/716 [01:03<00:00, 11.30it/s]\n"
     ]
    },
    {
     "name": "stdout",
     "output_type": "stream",
     "text": [
      "{'val_loss': 1.9622702718507954, 'val_accuracy': 0.6448170731707317, 'precision': 0.5960598589977671, 'recall': 0.6448170731707317, 'f1-score': 0.602787739227047, 'macro_f1-score': 0.3414799664236789, 'balanced_accuracy': 0.32886341946627246, 'mcc': 0.5053712363605537, 'train_loss': 0.5666704210374691}\n",
      "Epoch 6/20\n"
     ]
    },
    {
     "name": "stderr",
     "output_type": "stream",
     "text": [
      "100%|██████████| 716/716 [01:03<00:00, 11.32it/s]\n"
     ]
    },
    {
     "name": "stdout",
     "output_type": "stream",
     "text": [
      "{'val_loss': 1.9910008503896435, 'val_accuracy': 0.6402439024390244, 'precision': 0.6185695883871392, 'recall': 0.6402439024390244, 'f1-score': 0.6076577433893156, 'macro_f1-score': 0.37657026177524516, 'balanced_accuracy': 0.3646957022829393, 'mcc': 0.5076013904342344, 'train_loss': 0.45597587854408933}\n",
      "Epoch 7/20\n"
     ]
    },
    {
     "name": "stderr",
     "output_type": "stream",
     "text": [
      "100%|██████████| 716/716 [01:03<00:00, 11.32it/s]\n"
     ]
    },
    {
     "name": "stdout",
     "output_type": "stream",
     "text": [
      "{'val_loss': 1.9511298591770776, 'val_accuracy': 0.631859756097561, 'precision': 0.6331807368130442, 'recall': 0.631859756097561, 'f1-score': 0.6208277024065262, 'macro_f1-score': 0.3973597441924952, 'balanced_accuracy': 0.4221276894370085, 'mcc': 0.5179833492335412, 'train_loss': 0.3686841686422723}\n",
      "Epoch 8/20\n"
     ]
    },
    {
     "name": "stderr",
     "output_type": "stream",
     "text": [
      "100%|██████████| 716/716 [01:03<00:00, 11.31it/s]\n"
     ]
    },
    {
     "name": "stdout",
     "output_type": "stream",
     "text": [
      "{'val_loss': 2.312026582840012, 'val_accuracy': 0.6189024390243902, 'precision': 0.6327971612307852, 'recall': 0.6189024390243902, 'f1-score': 0.6134530611029956, 'macro_f1-score': 0.3727795675726104, 'balanced_accuracy': 0.38800842877214764, 'mcc': 0.5012683153077149, 'train_loss': 0.3127873348522224}\n",
      "Epoch 9/20\n"
     ]
    },
    {
     "name": "stderr",
     "output_type": "stream",
     "text": [
      "100%|██████████| 716/716 [01:03<00:00, 11.31it/s]\n"
     ]
    },
    {
     "name": "stdout",
     "output_type": "stream",
     "text": [
      "{'val_loss': 2.29119202094834, 'val_accuracy': 0.6105182926829268, 'precision': 0.6236951700805266, 'recall': 0.6105182926829268, 'f1-score': 0.6100052438425206, 'macro_f1-score': 0.41729002730778175, 'balanced_accuracy': 0.43283323473889573, 'mcc': 0.49527168442025105, 'train_loss': 0.24530962641043952}\n",
      "Epoch 10/20\n"
     ]
    },
    {
     "name": "stderr",
     "output_type": "stream",
     "text": [
      "100%|██████████| 716/716 [01:03<00:00, 11.31it/s]\n"
     ]
    },
    {
     "name": "stdout",
     "output_type": "stream",
     "text": [
      "{'val_loss': 2.417597272228904, 'val_accuracy': 0.614329268292683, 'precision': 0.5986226084446992, 'recall': 0.614329268292683, 'f1-score': 0.5923397047568526, 'macro_f1-score': 0.36163677474784817, 'balanced_accuracy': 0.3463586757723999, 'mcc': 0.4761188955403239, 'train_loss': 0.24121188236187166}\n",
      "Epoch 11/20\n"
     ]
    },
    {
     "name": "stderr",
     "output_type": "stream",
     "text": [
      "100%|██████████| 716/716 [01:03<00:00, 11.32it/s]\n"
     ]
    },
    {
     "name": "stdout",
     "output_type": "stream",
     "text": [
      "{'val_loss': 2.3347495530345816, 'val_accuracy': 0.631859756097561, 'precision': 0.6237013347159143, 'recall': 0.631859756097561, 'f1-score': 0.6208770464019687, 'macro_f1-score': 0.37875678857415895, 'balanced_accuracy': 0.40690167482728107, 'mcc': 0.5166052940499731, 'train_loss': 0.1996285186953031}\n",
      "Epoch 12/20\n"
     ]
    },
    {
     "name": "stderr",
     "output_type": "stream",
     "text": [
      "100%|██████████| 716/716 [01:03<00:00, 11.31it/s]\n"
     ]
    },
    {
     "name": "stdout",
     "output_type": "stream",
     "text": [
      "{'val_loss': 2.4840797723793404, 'val_accuracy': 0.6333841463414634, 'precision': 0.6186417049488515, 'recall': 0.6333841463414634, 'f1-score': 0.616618450196246, 'macro_f1-score': 0.38420846624437494, 'balanced_accuracy': 0.38498736416981094, 'mcc': 0.5124048500931654, 'train_loss': 0.1681612362635911}\n",
      "Early stopping.\n",
      "\n",
      "[Fold 2]\n",
      "🚀 Using T5-paraphraser for data augmentation + under-sampling\n",
      "🔻 Under-sampling label 0: 2471 → 2000\n",
      "🔧 Augmenting label 1: 22 → 200 (+178)\n",
      "🔧 Augmenting label 2: 64 → 200 (+136)\n",
      "🔧 Augmenting label 3: 24 → 200 (+176)\n",
      "🔧 Augmenting label 4: 190 → 200 (+10)\n",
      "🔧 Augmenting label 5: 113 → 200 (+87)\n",
      "🔧 Augmenting label 6: 93 → 200 (+107)\n",
      "🔧 Augmenting label 7: 30 → 200 (+170)\n",
      "🔧 Augmenting label 8: 68 → 200 (+132)\n",
      "🔧 Augmenting label 9: 30 → 200 (+170)\n",
      "🔧 Augmenting label 10: 67 → 200 (+133)\n",
      "🔧 Augmenting label 11: 169 → 200 (+31)\n",
      "🔧 Augmenting label 12: 189 → 200 (+11)\n",
      "🔧 Augmenting label 13: 29 → 200 (+171)\n",
      "🔧 Augmenting label 14: 23 → 200 (+177)\n",
      "🔧 Augmenting label 15: 24 → 200 (+176)\n",
      "🔧 Augmenting label 16: 20 → 200 (+180)\n",
      "🔧 Augmenting label 17: 182 → 200 (+18)\n",
      "🔧 Augmenting label 18: 92 → 200 (+108)\n",
      "🔧 Augmenting label 19: 44 → 200 (+156)\n",
      "🔧 Augmenting label 20: 13 → 200 (+187)\n",
      "🔧 Augmenting label 21: 36 → 200 (+164)\n",
      "🔧 Augmenting label 22: 76 → 200 (+124)\n",
      "🔧 Augmenting label 23: 157 → 200 (+43)\n",
      "🔧 Augmenting label 24: 12 → 200 (+188)\n",
      "🔧 Augmenting label 25: 44 → 200 (+156)\n",
      "🔧 Augmenting label 26: 84 → 200 (+116)\n",
      "🔧 Augmenting label 27: 48 → 200 (+152)\n",
      "🔧 Augmenting label 28: 12 → 200 (+188)\n",
      "🔧 Augmenting label 29: 12 → 200 (+188)\n",
      "🔧 Augmenting label 30: 12 → 200 (+188)\n",
      "🔧 Augmenting label 31: 75 → 200 (+125)\n",
      "🔧 Augmenting label 32: 36 → 200 (+164)\n",
      "🔧 Augmenting label 33: 31 → 200 (+169)\n",
      "🔧 Augmenting label 34: 29 → 200 (+171)\n",
      "🔧 Augmenting label 35: 12 → 200 (+188)\n",
      "🔧 Augmenting label 36: 21 → 200 (+179)\n",
      "🔧 Augmenting label 37: 16 → 200 (+184)\n",
      "🔧 Augmenting label 38: 33 → 200 (+167)\n",
      "🔧 Augmenting label 39: 11 → 200 (+189)\n",
      "🔧 Augmenting label 40: 8 → 200 (+192)\n",
      "🔧 Augmenting label 41: 57 → 200 (+143)\n",
      "🔧 Augmenting label 42: 19 → 200 (+181)\n",
      "🔧 Augmenting label 43: 9 → 200 (+191)\n",
      "🔧 Augmenting label 44: 54 → 200 (+146)\n",
      "🔧 Augmenting label 46: 62 → 200 (+138)\n",
      "🔧 Augmenting label 47: 80 → 200 (+120)\n",
      "Label distribution after resampling:\n",
      "  label 0: 2000\n",
      "  label 1: 200\n",
      "  label 2: 200\n",
      "  label 3: 200\n",
      "  label 4: 200\n",
      "  label 5: 200\n",
      "  label 6: 200\n",
      "  label 7: 200\n",
      "  label 8: 200\n",
      "  label 9: 200\n",
      "  label 10: 200\n",
      "  label 11: 200\n",
      "  label 12: 200\n",
      "  label 13: 200\n",
      "  label 14: 200\n",
      "  label 15: 200\n",
      "  label 16: 200\n",
      "  label 17: 200\n",
      "  label 18: 200\n",
      "  label 19: 200\n",
      "  label 20: 200\n",
      "  label 21: 200\n",
      "  label 22: 200\n",
      "  label 23: 200\n",
      "  label 24: 200\n",
      "  label 25: 200\n",
      "  label 26: 200\n",
      "  label 27: 200\n",
      "  label 28: 200\n",
      "  label 29: 200\n",
      "  label 30: 200\n",
      "  label 31: 200\n",
      "  label 32: 200\n",
      "  label 33: 200\n",
      "  label 34: 200\n",
      "  label 35: 200\n",
      "  label 36: 200\n",
      "  label 37: 200\n",
      "  label 38: 200\n",
      "  label 39: 200\n",
      "  label 40: 200\n",
      "  label 41: 200\n",
      "  label 42: 200\n",
      "  label 43: 200\n",
      "  label 44: 200\n",
      "  label 45: 242\n",
      "  label 46: 200\n",
      "  label 47: 200\n",
      "model is roberta-base cnn\n"
     ]
    },
    {
     "name": "stderr",
     "output_type": "stream",
     "text": [
      "Some weights of RobertaModel were not initialized from the model checkpoint at roberta-base and are newly initialized: ['pooler.dense.bias', 'pooler.dense.weight']\n",
      "You should probably TRAIN this model on a down-stream task to be able to use it for predictions and inference.\n"
     ]
    },
    {
     "name": "stdout",
     "output_type": "stream",
     "text": [
      "Using weighted CrossEntropyLoss with weights: tensor([1.7441, 4.0467, 4.0467, 4.0467, 4.0467, 4.0467, 4.0467, 4.0467, 4.0467,\n",
      "        4.0467, 4.0467, 4.0467, 4.0467, 4.0467, 4.0467, 4.0467, 4.0467, 4.0467,\n",
      "        4.0467, 4.0467, 4.0467, 4.0467, 4.0467, 4.0467, 4.0467, 4.0467, 4.0467,\n",
      "        4.0467, 4.0467, 4.0467, 4.0467, 4.0467, 4.0467, 4.0467, 4.0467, 4.0467,\n",
      "        4.0467, 4.0467, 4.0467, 4.0467, 4.0467, 4.0467, 4.0467, 4.0467, 4.0467,\n",
      "        3.8561, 4.0467, 4.0467], device='cuda:0')\n",
      "Epoch 1/20\n"
     ]
    },
    {
     "name": "stderr",
     "output_type": "stream",
     "text": [
      "100%|██████████| 716/716 [01:02<00:00, 11.37it/s]\n"
     ]
    },
    {
     "name": "stdout",
     "output_type": "stream",
     "text": [
      "{'val_loss': 2.2847704407645435, 'val_accuracy': 0.543859649122807, 'precision': 0.38666551141860644, 'recall': 0.543859649122807, 'f1-score': 0.43279776881488724, 'macro_f1-score': 0.07468166621363663, 'balanced_accuracy': 0.08605220603261708, 'mcc': 0.3299270857434595, 'train_loss': 3.222760775069285}\n",
      "Epoch 2/20\n"
     ]
    },
    {
     "name": "stderr",
     "output_type": "stream",
     "text": [
      "100%|██████████| 716/716 [01:03<00:00, 11.32it/s]\n"
     ]
    },
    {
     "name": "stdout",
     "output_type": "stream",
     "text": [
      "{'val_loss': 1.8875875996380318, 'val_accuracy': 0.5865751334858886, 'precision': 0.550910552842057, 'recall': 0.5865751334858886, 'f1-score': 0.5423540557329811, 'macro_f1-score': 0.25108162792678346, 'balanced_accuracy': 0.2877264521969029, 'mcc': 0.4307424328330722, 'train_loss': 2.165593912252667}\n",
      "Epoch 3/20\n"
     ]
    },
    {
     "name": "stderr",
     "output_type": "stream",
     "text": [
      "100%|██████████| 716/716 [01:03<00:00, 11.30it/s]\n"
     ]
    },
    {
     "name": "stdout",
     "output_type": "stream",
     "text": [
      "{'val_loss': 1.7361201803858688, 'val_accuracy': 0.6155606407322655, 'precision': 0.5962080877757526, 'recall': 0.6155606407322655, 'f1-score': 0.5849538836773063, 'macro_f1-score': 0.3229039337993631, 'balanced_accuracy': 0.3347152920268616, 'mcc': 0.48249336598274783, 'train_loss': 1.4777404856165695}\n",
      "Epoch 4/20\n"
     ]
    },
    {
     "name": "stderr",
     "output_type": "stream",
     "text": [
      "100%|██████████| 716/716 [01:03<00:00, 11.32it/s]\n"
     ]
    },
    {
     "name": "stdout",
     "output_type": "stream",
     "text": [
      "{'val_loss': 1.721964601336456, 'val_accuracy': 0.631578947368421, 'precision': 0.6023845092193059, 'recall': 0.631578947368421, 'f1-score': 0.5986940996804806, 'macro_f1-score': 0.3520829178786918, 'balanced_accuracy': 0.33972082278747634, 'mcc': 0.49426599357136447, 'train_loss': 1.0409311315866823}\n",
      "Epoch 5/20\n"
     ]
    },
    {
     "name": "stderr",
     "output_type": "stream",
     "text": [
      "100%|██████████| 716/716 [01:03<00:00, 11.31it/s]\n"
     ]
    },
    {
     "name": "stdout",
     "output_type": "stream",
     "text": [
      "{'val_loss': 1.7108213181902723, 'val_accuracy': 0.6155606407322655, 'precision': 0.6213925922955703, 'recall': 0.6155606407322655, 'f1-score': 0.6090005968398755, 'macro_f1-score': 0.3561835596519007, 'balanced_accuracy': 0.3592447551140145, 'mcc': 0.5023308224205177, 'train_loss': 0.739660800242141}\n",
      "Epoch 6/20\n"
     ]
    },
    {
     "name": "stderr",
     "output_type": "stream",
     "text": [
      "100%|██████████| 716/716 [01:03<00:00, 11.31it/s]\n"
     ]
    },
    {
     "name": "stdout",
     "output_type": "stream",
     "text": [
      "{'val_loss': 1.862275060357117, 'val_accuracy': 0.6346300533943554, 'precision': 0.6203305328439261, 'recall': 0.6346300533943554, 'f1-score': 0.6132226941438158, 'macro_f1-score': 0.3824369426485994, 'balanced_accuracy': 0.419394285202297, 'mcc': 0.5092664909881424, 'train_loss': 0.5794991564224136}\n",
      "Epoch 7/20\n"
     ]
    },
    {
     "name": "stderr",
     "output_type": "stream",
     "text": [
      "100%|██████████| 716/716 [01:03<00:00, 11.31it/s]\n"
     ]
    },
    {
     "name": "stdout",
     "output_type": "stream",
     "text": [
      "{'val_loss': 1.8071800419470159, 'val_accuracy': 0.6376811594202898, 'precision': 0.6124917964780057, 'recall': 0.6376811594202898, 'f1-score': 0.6160975036541152, 'macro_f1-score': 0.33287270912348815, 'balanced_accuracy': 0.3477912553745865, 'mcc': 0.5142944557545873, 'train_loss': 0.43418132172710155}\n",
      "Epoch 8/20\n"
     ]
    },
    {
     "name": "stderr",
     "output_type": "stream",
     "text": [
      "100%|██████████| 716/716 [01:03<00:00, 11.30it/s]\n"
     ]
    },
    {
     "name": "stdout",
     "output_type": "stream",
     "text": [
      "{'val_loss': 2.081514499536375, 'val_accuracy': 0.6346300533943554, 'precision': 0.6249346661548596, 'recall': 0.6346300533943554, 'f1-score': 0.6210092443774287, 'macro_f1-score': 0.36178144777182936, 'balanced_accuracy': 0.3773235929246333, 'mcc': 0.5139574685602271, 'train_loss': 0.3413887541252058}\n",
      "Epoch 9/20\n"
     ]
    },
    {
     "name": "stderr",
     "output_type": "stream",
     "text": [
      "100%|██████████| 716/716 [01:03<00:00, 11.30it/s]\n"
     ]
    },
    {
     "name": "stdout",
     "output_type": "stream",
     "text": [
      "{'val_loss': 2.0523042591606697, 'val_accuracy': 0.6392067124332571, 'precision': 0.6208181833508735, 'recall': 0.6392067124332571, 'f1-score': 0.6209254198472394, 'macro_f1-score': 0.368693647592471, 'balanced_accuracy': 0.3564725315404837, 'mcc': 0.5181969958959545, 'train_loss': 0.2728699669176869}\n",
      "Early stopping.\n",
      "\n",
      "[Fold 3]\n",
      "🚀 Using T5-paraphraser for data augmentation + under-sampling\n",
      "🔻 Under-sampling label 0: 2471 → 2000\n",
      "🔧 Augmenting label 1: 22 → 200 (+178)\n",
      "🔧 Augmenting label 2: 64 → 200 (+136)\n",
      "🔧 Augmenting label 3: 24 → 200 (+176)\n",
      "🔧 Augmenting label 4: 190 → 200 (+10)\n",
      "🔧 Augmenting label 5: 113 → 200 (+87)\n",
      "🔧 Augmenting label 6: 93 → 200 (+107)\n",
      "🔧 Augmenting label 7: 30 → 200 (+170)\n",
      "🔧 Augmenting label 8: 68 → 200 (+132)\n",
      "🔧 Augmenting label 9: 30 → 200 (+170)\n",
      "🔧 Augmenting label 10: 67 → 200 (+133)\n",
      "🔧 Augmenting label 11: 169 → 200 (+31)\n",
      "🔧 Augmenting label 12: 190 → 200 (+10)\n",
      "🔧 Augmenting label 13: 28 → 200 (+172)\n",
      "🔧 Augmenting label 14: 23 → 200 (+177)\n",
      "🔧 Augmenting label 15: 25 → 200 (+175)\n",
      "🔧 Augmenting label 16: 19 → 200 (+181)\n",
      "🔧 Augmenting label 17: 182 → 200 (+18)\n",
      "🔧 Augmenting label 18: 92 → 200 (+108)\n",
      "🔧 Augmenting label 19: 44 → 200 (+156)\n",
      "🔧 Augmenting label 20: 14 → 200 (+186)\n",
      "🔧 Augmenting label 21: 35 → 200 (+165)\n",
      "🔧 Augmenting label 22: 76 → 200 (+124)\n",
      "🔧 Augmenting label 23: 157 → 200 (+43)\n",
      "🔧 Augmenting label 24: 13 → 200 (+187)\n",
      "🔧 Augmenting label 25: 44 → 200 (+156)\n",
      "🔧 Augmenting label 26: 84 → 200 (+116)\n",
      "🔧 Augmenting label 27: 48 → 200 (+152)\n",
      "🔧 Augmenting label 28: 11 → 200 (+189)\n",
      "🔧 Augmenting label 29: 13 → 200 (+187)\n",
      "🔧 Augmenting label 30: 11 → 200 (+189)\n",
      "🔧 Augmenting label 31: 76 → 200 (+124)\n",
      "🔧 Augmenting label 32: 36 → 200 (+164)\n",
      "🔧 Augmenting label 33: 31 → 200 (+169)\n",
      "🔧 Augmenting label 34: 30 → 200 (+170)\n",
      "🔧 Augmenting label 35: 11 → 200 (+189)\n",
      "🔧 Augmenting label 36: 21 → 200 (+179)\n",
      "🔧 Augmenting label 37: 16 → 200 (+184)\n",
      "🔧 Augmenting label 38: 32 → 200 (+168)\n",
      "🔧 Augmenting label 39: 11 → 200 (+189)\n",
      "🔧 Augmenting label 40: 9 → 200 (+191)\n",
      "🔧 Augmenting label 41: 57 → 200 (+143)\n",
      "🔧 Augmenting label 42: 18 → 200 (+182)\n",
      "🔧 Augmenting label 43: 9 → 200 (+191)\n",
      "🔧 Augmenting label 44: 55 → 200 (+145)\n",
      "🔧 Augmenting label 46: 62 → 200 (+138)\n",
      "🔧 Augmenting label 47: 80 → 200 (+120)\n",
      "Label distribution after resampling:\n",
      "  label 0: 2000\n",
      "  label 1: 200\n",
      "  label 2: 200\n",
      "  label 3: 200\n",
      "  label 4: 200\n",
      "  label 5: 200\n",
      "  label 6: 200\n",
      "  label 7: 200\n",
      "  label 8: 200\n",
      "  label 9: 200\n",
      "  label 10: 200\n",
      "  label 11: 200\n",
      "  label 12: 200\n",
      "  label 13: 200\n",
      "  label 14: 200\n",
      "  label 15: 200\n",
      "  label 16: 200\n",
      "  label 17: 200\n",
      "  label 18: 200\n",
      "  label 19: 200\n",
      "  label 20: 200\n",
      "  label 21: 200\n",
      "  label 22: 200\n",
      "  label 23: 200\n",
      "  label 24: 200\n",
      "  label 25: 200\n",
      "  label 26: 200\n",
      "  label 27: 200\n",
      "  label 28: 200\n",
      "  label 29: 200\n",
      "  label 30: 200\n",
      "  label 31: 200\n",
      "  label 32: 200\n",
      "  label 33: 200\n",
      "  label 34: 200\n",
      "  label 35: 200\n",
      "  label 36: 200\n",
      "  label 37: 200\n",
      "  label 38: 200\n",
      "  label 39: 200\n",
      "  label 40: 200\n",
      "  label 41: 200\n",
      "  label 42: 200\n",
      "  label 43: 200\n",
      "  label 44: 200\n",
      "  label 45: 241\n",
      "  label 46: 200\n",
      "  label 47: 200\n",
      "model is roberta-base cnn\n"
     ]
    },
    {
     "name": "stderr",
     "output_type": "stream",
     "text": [
      "Some weights of RobertaModel were not initialized from the model checkpoint at roberta-base and are newly initialized: ['pooler.dense.bias', 'pooler.dense.weight']\n",
      "You should probably TRAIN this model on a down-stream task to be able to use it for predictions and inference.\n"
     ]
    },
    {
     "name": "stdout",
     "output_type": "stream",
     "text": [
      "Using weighted CrossEntropyLoss with weights: tensor([1.7441, 4.0466, 4.0466, 4.0466, 4.0466, 4.0466, 4.0466, 4.0466, 4.0466,\n",
      "        4.0466, 4.0466, 4.0466, 4.0466, 4.0466, 4.0466, 4.0466, 4.0466, 4.0466,\n",
      "        4.0466, 4.0466, 4.0466, 4.0466, 4.0466, 4.0466, 4.0466, 4.0466, 4.0466,\n",
      "        4.0466, 4.0466, 4.0466, 4.0466, 4.0466, 4.0466, 4.0466, 4.0466, 4.0466,\n",
      "        4.0466, 4.0466, 4.0466, 4.0466, 4.0466, 4.0466, 4.0466, 4.0466, 4.0466,\n",
      "        3.8602, 4.0466, 4.0466], device='cuda:0')\n",
      "Epoch 1/20\n"
     ]
    },
    {
     "name": "stderr",
     "output_type": "stream",
     "text": [
      "100%|██████████| 716/716 [01:02<00:00, 11.37it/s]\n"
     ]
    },
    {
     "name": "stdout",
     "output_type": "stream",
     "text": [
      "{'val_loss': 2.791644061483988, 'val_accuracy': 0.509534706331045, 'precision': 0.30280240263492986, 'recall': 0.509534706331045, 'f1-score': 0.3777062766796693, 'macro_f1-score': 0.0398334457239686, 'balanced_accuracy': 0.059304797257780505, 'mcc': 0.23724117340134798, 'train_loss': 3.384920221134271}\n",
      "Epoch 2/20\n"
     ]
    },
    {
     "name": "stderr",
     "output_type": "stream",
     "text": [
      "100%|██████████| 716/716 [01:03<00:00, 11.32it/s]\n"
     ]
    },
    {
     "name": "stdout",
     "output_type": "stream",
     "text": [
      "{'val_loss': 2.2413814155066887, 'val_accuracy': 0.4919908466819222, 'precision': 0.5640760506405141, 'recall': 0.4919908466819222, 'f1-score': 0.5031154925358113, 'macro_f1-score': 0.24662547802531076, 'balanced_accuracy': 0.31968872188320613, 'mcc': 0.36309451192230874, 'train_loss': 2.453552939205862}\n",
      "Epoch 3/20\n"
     ]
    },
    {
     "name": "stderr",
     "output_type": "stream",
     "text": [
      "100%|██████████| 716/716 [01:03<00:00, 11.30it/s]\n"
     ]
    },
    {
     "name": "stdout",
     "output_type": "stream",
     "text": [
      "{'val_loss': 1.8341849533523, 'val_accuracy': 0.5926773455377574, 'precision': 0.5575306642981837, 'recall': 0.5926773455377574, 'f1-score': 0.5513050978050023, 'macro_f1-score': 0.26954814640711194, 'balanced_accuracy': 0.2641976493611159, 'mcc': 0.43505097785305014, 'train_loss': 1.5964319188168594}\n",
      "Epoch 4/20\n"
     ]
    },
    {
     "name": "stderr",
     "output_type": "stream",
     "text": [
      "100%|██████████| 716/716 [01:03<00:00, 11.32it/s]\n"
     ]
    },
    {
     "name": "stdout",
     "output_type": "stream",
     "text": [
      "{'val_loss': 1.8717557686131174, 'val_accuracy': 0.5903890160183066, 'precision': 0.603455598542653, 'recall': 0.5903890160183066, 'f1-score': 0.5795165922681226, 'macro_f1-score': 0.33245098019714553, 'balanced_accuracy': 0.3174874790473548, 'mcc': 0.4493054653044216, 'train_loss': 1.053922196111366}\n",
      "Epoch 5/20\n"
     ]
    },
    {
     "name": "stderr",
     "output_type": "stream",
     "text": [
      "100%|██████████| 716/716 [01:03<00:00, 11.32it/s]\n"
     ]
    },
    {
     "name": "stdout",
     "output_type": "stream",
     "text": [
      "{'val_loss': 1.9216330095035274, 'val_accuracy': 0.5781845919145691, 'precision': 0.6086910297119618, 'recall': 0.5781845919145691, 'f1-score': 0.5846020312620931, 'macro_f1-score': 0.33329755757833907, 'balanced_accuracy': 0.3532344067878756, 'mcc': 0.4618442238151006, 'train_loss': 0.7503090725701781}\n",
      "Epoch 6/20\n"
     ]
    },
    {
     "name": "stderr",
     "output_type": "stream",
     "text": [
      "100%|██████████| 716/716 [01:03<00:00, 11.31it/s]\n"
     ]
    },
    {
     "name": "stdout",
     "output_type": "stream",
     "text": [
      "{'val_loss': 1.9135357948338114, 'val_accuracy': 0.6140350877192983, 'precision': 0.5919417002577368, 'recall': 0.6140350877192983, 'f1-score': 0.5951958131668038, 'macro_f1-score': 0.3462674292370343, 'balanced_accuracy': 0.33813338719840785, 'mcc': 0.4800417989641421, 'train_loss': 0.5265479184551861}\n",
      "Epoch 7/20\n"
     ]
    },
    {
     "name": "stderr",
     "output_type": "stream",
     "text": [
      "100%|██████████| 716/716 [01:03<00:00, 11.31it/s]\n"
     ]
    },
    {
     "name": "stdout",
     "output_type": "stream",
     "text": [
      "{'val_loss': 2.1372370967050878, 'val_accuracy': 0.6079328756674295, 'precision': 0.5979458266115614, 'recall': 0.6079328756674295, 'f1-score': 0.5951553822377824, 'macro_f1-score': 0.34788895629522393, 'balanced_accuracy': 0.3414444866335482, 'mcc': 0.4812429534763309, 'train_loss': 0.39599428831875405}\n",
      "Epoch 8/20\n"
     ]
    },
    {
     "name": "stderr",
     "output_type": "stream",
     "text": [
      "100%|██████████| 716/716 [01:03<00:00, 11.30it/s]\n"
     ]
    },
    {
     "name": "stdout",
     "output_type": "stream",
     "text": [
      "{'val_loss': 2.0238778020550563, 'val_accuracy': 0.593440122044241, 'precision': 0.6138171748696771, 'recall': 0.593440122044241, 'f1-score': 0.5967824686960782, 'macro_f1-score': 0.36785567424070126, 'balanced_accuracy': 0.37256592993557, 'mcc': 0.48000582644815376, 'train_loss': 0.3307548386731586}\n",
      "Epoch 9/20\n"
     ]
    },
    {
     "name": "stderr",
     "output_type": "stream",
     "text": [
      "100%|██████████| 716/716 [01:03<00:00, 11.31it/s]\n"
     ]
    },
    {
     "name": "stdout",
     "output_type": "stream",
     "text": [
      "{'val_loss': 2.1198516603468396, 'val_accuracy': 0.6308161708619374, 'precision': 0.6473216084487715, 'recall': 0.6308161708619374, 'f1-score': 0.6314477207640375, 'macro_f1-score': 0.4285686038031617, 'balanced_accuracy': 0.4197824289528415, 'mcc': 0.5244800500856703, 'train_loss': 0.27422294058373936}\n",
      "Epoch 10/20\n"
     ]
    },
    {
     "name": "stderr",
     "output_type": "stream",
     "text": [
      "100%|██████████| 716/716 [01:03<00:00, 11.31it/s]\n"
     ]
    },
    {
     "name": "stdout",
     "output_type": "stream",
     "text": [
      "{'val_loss': 2.3490894976549033, 'val_accuracy': 0.620137299771167, 'precision': 0.6035728187298464, 'recall': 0.620137299771167, 'f1-score': 0.6027661071599936, 'macro_f1-score': 0.3732349102948316, 'balanced_accuracy': 0.3490252807269722, 'mcc': 0.4903562806208327, 'train_loss': 0.24077910296722996}\n",
      "Epoch 11/20\n"
     ]
    },
    {
     "name": "stderr",
     "output_type": "stream",
     "text": [
      "100%|██████████| 716/716 [01:03<00:00, 11.30it/s]\n"
     ]
    },
    {
     "name": "stdout",
     "output_type": "stream",
     "text": [
      "{'val_loss': 2.446866259160565, 'val_accuracy': 0.6270022883295194, 'precision': 0.6165207166912607, 'recall': 0.6270022883295194, 'f1-score': 0.6073308086181645, 'macro_f1-score': 0.3833971205259446, 'balanced_accuracy': 0.362334490571287, 'mcc': 0.503247280468908, 'train_loss': 0.18374465030517856}\n",
      "Epoch 12/20\n"
     ]
    },
    {
     "name": "stderr",
     "output_type": "stream",
     "text": [
      "100%|██████████| 716/716 [01:03<00:00, 11.30it/s]\n"
     ]
    },
    {
     "name": "stdout",
     "output_type": "stream",
     "text": [
      "{'val_loss': 2.6231409745608887, 'val_accuracy': 0.6102212051868803, 'precision': 0.6070459181689224, 'recall': 0.6102212051868803, 'f1-score': 0.5986600953275549, 'macro_f1-score': 0.36377006337830764, 'balanced_accuracy': 0.3488753884614311, 'mcc': 0.4827898135559993, 'train_loss': 0.17047713595532224}\n",
      "Early stopping.\n",
      "\n",
      "[Fold 4]\n",
      "🚀 Using T5-paraphraser for data augmentation + under-sampling\n",
      "🔻 Under-sampling label 0: 2471 → 2000\n",
      "🔧 Augmenting label 1: 22 → 200 (+178)\n",
      "🔧 Augmenting label 2: 64 → 200 (+136)\n",
      "🔧 Augmenting label 3: 24 → 200 (+176)\n",
      "🔧 Augmenting label 4: 190 → 200 (+10)\n",
      "🔧 Augmenting label 5: 113 → 200 (+87)\n",
      "🔧 Augmenting label 6: 93 → 200 (+107)\n",
      "🔧 Augmenting label 7: 31 → 200 (+169)\n",
      "🔧 Augmenting label 8: 68 → 200 (+132)\n",
      "🔧 Augmenting label 9: 29 → 200 (+171)\n",
      "🔧 Augmenting label 10: 67 → 200 (+133)\n",
      "🔧 Augmenting label 11: 169 → 200 (+31)\n",
      "🔧 Augmenting label 12: 190 → 200 (+10)\n",
      "🔧 Augmenting label 13: 29 → 200 (+171)\n",
      "🔧 Augmenting label 14: 22 → 200 (+178)\n",
      "🔧 Augmenting label 15: 25 → 200 (+175)\n",
      "🔧 Augmenting label 16: 19 → 200 (+181)\n",
      "🔧 Augmenting label 17: 182 → 200 (+18)\n",
      "🔧 Augmenting label 18: 92 → 200 (+108)\n",
      "🔧 Augmenting label 19: 44 → 200 (+156)\n",
      "🔧 Augmenting label 20: 14 → 200 (+186)\n",
      "🔧 Augmenting label 21: 35 → 200 (+165)\n",
      "🔧 Augmenting label 22: 76 → 200 (+124)\n",
      "🔧 Augmenting label 23: 158 → 200 (+42)\n",
      "🔧 Augmenting label 24: 13 → 200 (+187)\n",
      "🔧 Augmenting label 25: 44 → 200 (+156)\n",
      "🔧 Augmenting label 26: 84 → 200 (+116)\n",
      "🔧 Augmenting label 27: 48 → 200 (+152)\n",
      "🔧 Augmenting label 28: 11 → 200 (+189)\n",
      "🔧 Augmenting label 29: 13 → 200 (+187)\n",
      "🔧 Augmenting label 30: 11 → 200 (+189)\n",
      "🔧 Augmenting label 31: 75 → 200 (+125)\n",
      "🔧 Augmenting label 32: 36 → 200 (+164)\n",
      "🔧 Augmenting label 33: 31 → 200 (+169)\n",
      "🔧 Augmenting label 34: 30 → 200 (+170)\n",
      "🔧 Augmenting label 35: 11 → 200 (+189)\n",
      "🔧 Augmenting label 36: 22 → 200 (+178)\n",
      "🔧 Augmenting label 37: 16 → 200 (+184)\n",
      "🔧 Augmenting label 38: 33 → 200 (+167)\n",
      "🔧 Augmenting label 39: 10 → 200 (+190)\n",
      "🔧 Augmenting label 40: 9 → 200 (+191)\n",
      "🔧 Augmenting label 41: 56 → 200 (+144)\n",
      "🔧 Augmenting label 42: 18 → 200 (+182)\n",
      "🔧 Augmenting label 43: 9 → 200 (+191)\n",
      "🔧 Augmenting label 44: 55 → 200 (+145)\n",
      "🔧 Augmenting label 46: 62 → 200 (+138)\n",
      "🔧 Augmenting label 47: 80 → 200 (+120)\n",
      "Label distribution after resampling:\n",
      "  label 0: 2000\n",
      "  label 1: 200\n",
      "  label 2: 200\n",
      "  label 3: 200\n",
      "  label 4: 200\n",
      "  label 5: 200\n",
      "  label 6: 200\n",
      "  label 7: 200\n",
      "  label 8: 200\n",
      "  label 9: 200\n",
      "  label 10: 200\n",
      "  label 11: 200\n",
      "  label 12: 200\n",
      "  label 13: 200\n",
      "  label 14: 200\n",
      "  label 15: 200\n",
      "  label 16: 200\n",
      "  label 17: 200\n",
      "  label 18: 200\n",
      "  label 19: 200\n",
      "  label 20: 200\n",
      "  label 21: 200\n",
      "  label 22: 200\n",
      "  label 23: 200\n",
      "  label 24: 200\n",
      "  label 25: 200\n",
      "  label 26: 200\n",
      "  label 27: 200\n",
      "  label 28: 200\n",
      "  label 29: 200\n",
      "  label 30: 200\n",
      "  label 31: 200\n",
      "  label 32: 200\n",
      "  label 33: 200\n",
      "  label 34: 200\n",
      "  label 35: 200\n",
      "  label 36: 200\n",
      "  label 37: 200\n",
      "  label 38: 200\n",
      "  label 39: 200\n",
      "  label 40: 200\n",
      "  label 41: 200\n",
      "  label 42: 200\n",
      "  label 43: 200\n",
      "  label 44: 200\n",
      "  label 45: 241\n",
      "  label 46: 200\n",
      "  label 47: 200\n",
      "model is roberta-base cnn\n"
     ]
    },
    {
     "name": "stderr",
     "output_type": "stream",
     "text": [
      "Some weights of RobertaModel were not initialized from the model checkpoint at roberta-base and are newly initialized: ['pooler.dense.bias', 'pooler.dense.weight']\n",
      "You should probably TRAIN this model on a down-stream task to be able to use it for predictions and inference.\n"
     ]
    },
    {
     "name": "stdout",
     "output_type": "stream",
     "text": [
      "Using weighted CrossEntropyLoss with weights: tensor([1.7441, 4.0466, 4.0466, 4.0466, 4.0466, 4.0466, 4.0466, 4.0466, 4.0466,\n",
      "        4.0466, 4.0466, 4.0466, 4.0466, 4.0466, 4.0466, 4.0466, 4.0466, 4.0466,\n",
      "        4.0466, 4.0466, 4.0466, 4.0466, 4.0466, 4.0466, 4.0466, 4.0466, 4.0466,\n",
      "        4.0466, 4.0466, 4.0466, 4.0466, 4.0466, 4.0466, 4.0466, 4.0466, 4.0466,\n",
      "        4.0466, 4.0466, 4.0466, 4.0466, 4.0466, 4.0466, 4.0466, 4.0466, 4.0466,\n",
      "        3.8602, 4.0466, 4.0466], device='cuda:0')\n",
      "Epoch 1/20\n"
     ]
    },
    {
     "name": "stderr",
     "output_type": "stream",
     "text": [
      "100%|██████████| 716/716 [01:03<00:00, 11.34it/s]\n"
     ]
    },
    {
     "name": "stdout",
     "output_type": "stream",
     "text": [
      "{'val_loss': 2.1435334406247954, 'val_accuracy': 0.5125858123569794, 'precision': 0.5584095444067342, 'recall': 0.5125858123569794, 'f1-score': 0.5152805627499297, 'macro_f1-score': 0.21888598236151677, 'balanced_accuracy': 0.2723889121768904, 'mcc': 0.3794725539798287, 'train_loss': 2.8435398634918574}\n",
      "Epoch 2/20\n"
     ]
    },
    {
     "name": "stderr",
     "output_type": "stream",
     "text": [
      "100%|██████████| 716/716 [01:03<00:00, 11.32it/s]\n"
     ]
    },
    {
     "name": "stdout",
     "output_type": "stream",
     "text": [
      "{'val_loss': 1.7469819504313353, 'val_accuracy': 0.6247139588100686, 'precision': 0.5735519683665528, 'recall': 0.6247139588100686, 'f1-score': 0.5766743163231235, 'macro_f1-score': 0.30269902067461435, 'balanced_accuracy': 0.29440232483590223, 'mcc': 0.4772080792806293, 'train_loss': 1.7598489923350638}\n",
      "Epoch 3/20\n"
     ]
    },
    {
     "name": "stderr",
     "output_type": "stream",
     "text": [
      "100%|██████████| 716/716 [01:03<00:00, 11.25it/s]\n"
     ]
    },
    {
     "name": "stdout",
     "output_type": "stream",
     "text": [
      "{'val_loss': 1.6942231057257187, 'val_accuracy': 0.6300533943554538, 'precision': 0.6154741515214166, 'recall': 0.6300533943554538, 'f1-score': 0.6117096089628732, 'macro_f1-score': 0.3548731334790354, 'balanced_accuracy': 0.36044864679942884, 'mcc': 0.5086683040656685, 'train_loss': 1.1802644333359915}\n",
      "Epoch 4/20\n"
     ]
    },
    {
     "name": "stderr",
     "output_type": "stream",
     "text": [
      "100%|██████████| 716/716 [01:03<00:00, 11.20it/s]\n"
     ]
    },
    {
     "name": "stdout",
     "output_type": "stream",
     "text": [
      "{'val_loss': 1.7403791515928944, 'val_accuracy': 0.6445461479786423, 'precision': 0.6285534470511627, 'recall': 0.6445461479786423, 'f1-score': 0.622355030443653, 'macro_f1-score': 0.38859225538037806, 'balanced_accuracy': 0.3848284011672782, 'mcc': 0.5193480774755829, 'train_loss': 0.8103044944894682}\n",
      "Epoch 5/20\n"
     ]
    },
    {
     "name": "stderr",
     "output_type": "stream",
     "text": [
      "100%|██████████| 716/716 [01:03<00:00, 11.24it/s]\n"
     ]
    },
    {
     "name": "stdout",
     "output_type": "stream",
     "text": [
      "{'val_loss': 1.8036668903943969, 'val_accuracy': 0.6475972540045767, 'precision': 0.6432655763946626, 'recall': 0.6475972540045767, 'f1-score': 0.6318926659413528, 'macro_f1-score': 0.3938705015582318, 'balanced_accuracy': 0.39395821289138017, 'mcc': 0.5287095954935652, 'train_loss': 0.5848824142819198}\n",
      "Epoch 6/20\n"
     ]
    },
    {
     "name": "stderr",
     "output_type": "stream",
     "text": [
      "100%|██████████| 716/716 [01:03<00:00, 11.27it/s]\n"
     ]
    },
    {
     "name": "stdout",
     "output_type": "stream",
     "text": [
      "{'val_loss': 1.978750447129331, 'val_accuracy': 0.6437833714721587, 'precision': 0.6460214944833268, 'recall': 0.6437833714721587, 'f1-score': 0.6354877504364055, 'macro_f1-score': 0.37529950164978526, 'balanced_accuracy': 0.3744243781107322, 'mcc': 0.5257416819424855, 'train_loss': 0.4352760365357695}\n",
      "Epoch 7/20\n"
     ]
    },
    {
     "name": "stderr",
     "output_type": "stream",
     "text": [
      "100%|██████████| 716/716 [01:03<00:00, 11.27it/s]\n"
     ]
    },
    {
     "name": "stdout",
     "output_type": "stream",
     "text": [
      "{'val_loss': 1.997124850568248, 'val_accuracy': 0.6308161708619374, 'precision': 0.6227403110110522, 'recall': 0.6308161708619374, 'f1-score': 0.607470042251118, 'macro_f1-score': 0.36944845795161113, 'balanced_accuracy': 0.3507394487704631, 'mcc': 0.49685449233743617, 'train_loss': 0.34210756897936734}\n",
      "Epoch 8/20\n"
     ]
    },
    {
     "name": "stderr",
     "output_type": "stream",
     "text": [
      "100%|██████████| 716/716 [01:03<00:00, 11.21it/s]\n"
     ]
    },
    {
     "name": "stdout",
     "output_type": "stream",
     "text": [
      "{'val_loss': 1.9740913617538243, 'val_accuracy': 0.6361556064073226, 'precision': 0.6450249137795158, 'recall': 0.6361556064073226, 'f1-score': 0.6333950152816337, 'macro_f1-score': 0.41697826714225594, 'balanced_accuracy': 0.4306367169661279, 'mcc': 0.531415624902331, 'train_loss': 0.2723435242192081}\n",
      "Epoch 9/20\n"
     ]
    },
    {
     "name": "stderr",
     "output_type": "stream",
     "text": [
      "100%|██████████| 716/716 [01:03<00:00, 11.23it/s]\n"
     ]
    },
    {
     "name": "stdout",
     "output_type": "stream",
     "text": [
      "{'val_loss': 2.1866770105027573, 'val_accuracy': 0.6300533943554538, 'precision': 0.6401111575256538, 'recall': 0.6300533943554538, 'f1-score': 0.625813782757051, 'macro_f1-score': 0.3954490102899859, 'balanced_accuracy': 0.41982799570101514, 'mcc': 0.5174909156069619, 'train_loss': 0.2078165456762553}\n",
      "Epoch 10/20\n"
     ]
    },
    {
     "name": "stderr",
     "output_type": "stream",
     "text": [
      "100%|██████████| 716/716 [01:03<00:00, 11.25it/s]\n"
     ]
    },
    {
     "name": "stdout",
     "output_type": "stream",
     "text": [
      "{'val_loss': 2.228030902219982, 'val_accuracy': 0.6117467581998475, 'precision': 0.6393956797218309, 'recall': 0.6117467581998475, 'f1-score': 0.6162679519517218, 'macro_f1-score': 0.3857525051014718, 'balanced_accuracy': 0.4221187916125387, 'mcc': 0.5112789639424968, 'train_loss': 0.18023935672937627}\n",
      "Epoch 11/20\n"
     ]
    },
    {
     "name": "stderr",
     "output_type": "stream",
     "text": [
      "100%|██████████| 716/716 [01:04<00:00, 11.17it/s]\n"
     ]
    },
    {
     "name": "stdout",
     "output_type": "stream",
     "text": [
      "{'val_loss': 2.3099476080842134, 'val_accuracy': 0.6529366895499619, 'precision': 0.6615502069322674, 'recall': 0.6529366895499619, 'f1-score': 0.6434836635230357, 'macro_f1-score': 0.4109610786061015, 'balanced_accuracy': 0.4197703417323709, 'mcc': 0.5439876551786671, 'train_loss': 0.18039959589817414}\n",
      "Early stopping.\n",
      "\n",
      "[Fold 5]\n",
      "🚀 Using T5-paraphraser for data augmentation + under-sampling\n",
      "🔻 Under-sampling label 0: 2472 → 2000\n",
      "🔧 Augmenting label 1: 21 → 200 (+179)\n",
      "🔧 Augmenting label 2: 64 → 200 (+136)\n",
      "🔧 Augmenting label 3: 24 → 200 (+176)\n",
      "🔧 Augmenting label 4: 191 → 200 (+9)\n",
      "🔧 Augmenting label 5: 112 → 200 (+88)\n",
      "🔧 Augmenting label 6: 92 → 200 (+108)\n",
      "🔧 Augmenting label 7: 31 → 200 (+169)\n",
      "🔧 Augmenting label 8: 68 → 200 (+132)\n",
      "🔧 Augmenting label 9: 29 → 200 (+171)\n",
      "🔧 Augmenting label 10: 68 → 200 (+132)\n",
      "🔧 Augmenting label 11: 168 → 200 (+32)\n",
      "🔧 Augmenting label 12: 190 → 200 (+10)\n",
      "🔧 Augmenting label 13: 29 → 200 (+171)\n",
      "🔧 Augmenting label 14: 22 → 200 (+178)\n",
      "🔧 Augmenting label 15: 25 → 200 (+175)\n",
      "🔧 Augmenting label 16: 19 → 200 (+181)\n",
      "🔧 Augmenting label 17: 183 → 200 (+17)\n",
      "🔧 Augmenting label 18: 92 → 200 (+108)\n",
      "🔧 Augmenting label 19: 44 → 200 (+156)\n",
      "🔧 Augmenting label 20: 14 → 200 (+186)\n",
      "🔧 Augmenting label 21: 35 → 200 (+165)\n",
      "🔧 Augmenting label 22: 76 → 200 (+124)\n",
      "🔧 Augmenting label 23: 158 → 200 (+42)\n",
      "🔧 Augmenting label 24: 13 → 200 (+187)\n",
      "🔧 Augmenting label 25: 44 → 200 (+156)\n",
      "🔧 Augmenting label 26: 84 → 200 (+116)\n",
      "🔧 Augmenting label 27: 48 → 200 (+152)\n",
      "🔧 Augmenting label 28: 11 → 200 (+189)\n",
      "🔧 Augmenting label 29: 13 → 200 (+187)\n",
      "🔧 Augmenting label 30: 11 → 200 (+189)\n",
      "🔧 Augmenting label 31: 75 → 200 (+125)\n",
      "🔧 Augmenting label 32: 36 → 200 (+164)\n",
      "🔧 Augmenting label 33: 31 → 200 (+169)\n",
      "🔧 Augmenting label 34: 30 → 200 (+170)\n",
      "🔧 Augmenting label 35: 11 → 200 (+189)\n",
      "🔧 Augmenting label 36: 22 → 200 (+178)\n",
      "🔧 Augmenting label 37: 16 → 200 (+184)\n",
      "🔧 Augmenting label 38: 33 → 200 (+167)\n",
      "🔧 Augmenting label 39: 10 → 200 (+190)\n",
      "🔧 Augmenting label 40: 9 → 200 (+191)\n",
      "🔧 Augmenting label 41: 57 → 200 (+143)\n",
      "🔧 Augmenting label 42: 18 → 200 (+182)\n",
      "🔧 Augmenting label 43: 9 → 200 (+191)\n",
      "🔧 Augmenting label 44: 54 → 200 (+146)\n",
      "🔧 Augmenting label 46: 61 → 200 (+139)\n",
      "🔧 Augmenting label 47: 80 → 200 (+120)\n",
      "Label distribution after resampling:\n",
      "  label 0: 2000\n",
      "  label 1: 200\n",
      "  label 2: 200\n",
      "  label 3: 200\n",
      "  label 4: 200\n",
      "  label 5: 200\n",
      "  label 6: 200\n",
      "  label 7: 200\n",
      "  label 8: 200\n",
      "  label 9: 200\n",
      "  label 10: 200\n",
      "  label 11: 200\n",
      "  label 12: 200\n",
      "  label 13: 200\n",
      "  label 14: 200\n",
      "  label 15: 200\n",
      "  label 16: 200\n",
      "  label 17: 200\n",
      "  label 18: 200\n",
      "  label 19: 200\n",
      "  label 20: 200\n",
      "  label 21: 200\n",
      "  label 22: 200\n",
      "  label 23: 200\n",
      "  label 24: 200\n",
      "  label 25: 200\n",
      "  label 26: 200\n",
      "  label 27: 200\n",
      "  label 28: 200\n",
      "  label 29: 200\n",
      "  label 30: 200\n",
      "  label 31: 200\n",
      "  label 32: 200\n",
      "  label 33: 200\n",
      "  label 34: 200\n",
      "  label 35: 200\n",
      "  label 36: 200\n",
      "  label 37: 200\n",
      "  label 38: 200\n",
      "  label 39: 200\n",
      "  label 40: 200\n",
      "  label 41: 200\n",
      "  label 42: 200\n",
      "  label 43: 200\n",
      "  label 44: 200\n",
      "  label 45: 242\n",
      "  label 46: 200\n",
      "  label 47: 200\n",
      "model is roberta-base cnn\n"
     ]
    },
    {
     "name": "stderr",
     "output_type": "stream",
     "text": [
      "Some weights of RobertaModel were not initialized from the model checkpoint at roberta-base and are newly initialized: ['pooler.dense.bias', 'pooler.dense.weight']\n",
      "You should probably TRAIN this model on a down-stream task to be able to use it for predictions and inference.\n"
     ]
    },
    {
     "name": "stdout",
     "output_type": "stream",
     "text": [
      "Using weighted CrossEntropyLoss with weights: tensor([1.7441, 4.0467, 4.0467, 4.0467, 4.0467, 4.0467, 4.0467, 4.0467, 4.0467,\n",
      "        4.0467, 4.0467, 4.0467, 4.0467, 4.0467, 4.0467, 4.0467, 4.0467, 4.0467,\n",
      "        4.0467, 4.0467, 4.0467, 4.0467, 4.0467, 4.0467, 4.0467, 4.0467, 4.0467,\n",
      "        4.0467, 4.0467, 4.0467, 4.0467, 4.0467, 4.0467, 4.0467, 4.0467, 4.0467,\n",
      "        4.0467, 4.0467, 4.0467, 4.0467, 4.0467, 4.0467, 4.0467, 4.0467, 4.0467,\n",
      "        3.8561, 4.0467, 4.0467], device='cuda:0')\n",
      "Epoch 1/20\n"
     ]
    },
    {
     "name": "stderr",
     "output_type": "stream",
     "text": [
      "100%|██████████| 716/716 [01:03<00:00, 11.34it/s]\n"
     ]
    },
    {
     "name": "stdout",
     "output_type": "stream",
     "text": [
      "{'val_loss': 1.96006027009429, 'val_accuracy': 0.5652173913043478, 'precision': 0.480167866735392, 'recall': 0.5652173913043478, 'f1-score': 0.5048835466357667, 'macro_f1-score': 0.24360133125083286, 'balanced_accuracy': 0.24953577345575703, 'mcc': 0.3867436546150142, 'train_loss': 2.7218955770218174}\n",
      "Epoch 2/20\n"
     ]
    },
    {
     "name": "stderr",
     "output_type": "stream",
     "text": [
      "100%|██████████| 716/716 [01:03<00:00, 11.29it/s]\n"
     ]
    },
    {
     "name": "stdout",
     "output_type": "stream",
     "text": [
      "{'val_loss': 1.7674633838781497, 'val_accuracy': 0.6346300533943554, 'precision': 0.604639622226484, 'recall': 0.6346300533943554, 'f1-score': 0.582853238594625, 'macro_f1-score': 0.3169379631658265, 'balanced_accuracy': 0.32937678533790926, 'mcc': 0.4951357693285317, 'train_loss': 1.5353235834220935}\n",
      "Epoch 3/20\n"
     ]
    },
    {
     "name": "stderr",
     "output_type": "stream",
     "text": [
      "100%|██████████| 716/716 [01:03<00:00, 11.31it/s]\n"
     ]
    },
    {
     "name": "stdout",
     "output_type": "stream",
     "text": [
      "{'val_loss': 1.7473909237035892, 'val_accuracy': 0.6376811594202898, 'precision': 0.599384614960727, 'recall': 0.6376811594202898, 'f1-score': 0.5992485983783287, 'macro_f1-score': 0.3605278330261412, 'balanced_accuracy': 0.35408867767340263, 'mcc': 0.5000388112042311, 'train_loss': 1.042480437636542}\n",
      "Epoch 4/20\n"
     ]
    },
    {
     "name": "stderr",
     "output_type": "stream",
     "text": [
      "100%|██████████| 716/716 [01:03<00:00, 11.30it/s]\n"
     ]
    },
    {
     "name": "stdout",
     "output_type": "stream",
     "text": [
      "{'val_loss': 1.7274101354726932, 'val_accuracy': 0.6331045003813882, 'precision': 0.6507022343183143, 'recall': 0.6331045003813882, 'f1-score': 0.6331051548880884, 'macro_f1-score': 0.4207418046309747, 'balanced_accuracy': 0.4518550612418153, 'mcc': 0.5256085963425674, 'train_loss': 0.7065932181710638}\n",
      "Epoch 5/20\n"
     ]
    },
    {
     "name": "stderr",
     "output_type": "stream",
     "text": [
      "100%|██████████| 716/716 [01:03<00:00, 11.30it/s]\n"
     ]
    },
    {
     "name": "stdout",
     "output_type": "stream",
     "text": [
      "{'val_loss': 1.8004182031968745, 'val_accuracy': 0.623951182303585, 'precision': 0.6217838631291049, 'recall': 0.623951182303585, 'f1-score': 0.6133203370033598, 'macro_f1-score': 0.3695736384237145, 'balanced_accuracy': 0.40672456336953483, 'mcc': 0.5104289926355966, 'train_loss': 0.5156217321139558}\n",
      "Epoch 6/20\n"
     ]
    },
    {
     "name": "stderr",
     "output_type": "stream",
     "text": [
      "100%|██████████| 716/716 [01:03<00:00, 11.30it/s]\n"
     ]
    },
    {
     "name": "stdout",
     "output_type": "stream",
     "text": [
      "{'val_loss': 1.787357261268104, 'val_accuracy': 0.6224256292906178, 'precision': 0.6517968352892951, 'recall': 0.6224256292906178, 'f1-score': 0.6271856699638344, 'macro_f1-score': 0.4221058284520726, 'balanced_accuracy': 0.444296122957253, 'mcc': 0.5171605959924531, 'train_loss': 0.4070798915540331}\n",
      "Epoch 7/20\n"
     ]
    },
    {
     "name": "stderr",
     "output_type": "stream",
     "text": [
      "100%|██████████| 716/716 [01:03<00:00, 11.29it/s]\n"
     ]
    },
    {
     "name": "stdout",
     "output_type": "stream",
     "text": [
      "{'val_loss': 2.0052801068963073, 'val_accuracy': 0.6460717009916095, 'precision': 0.6524615761588827, 'recall': 0.6460717009916095, 'f1-score': 0.6375172567820214, 'macro_f1-score': 0.422211166172137, 'balanced_accuracy': 0.40876356303983985, 'mcc': 0.5275965257264561, 'train_loss': 0.3137046787744731}\n",
      "Epoch 8/20\n"
     ]
    },
    {
     "name": "stderr",
     "output_type": "stream",
     "text": [
      "100%|██████████| 716/716 [01:03<00:00, 11.30it/s]\n"
     ]
    },
    {
     "name": "stdout",
     "output_type": "stream",
     "text": [
      "{'val_loss': 1.9621504189037695, 'val_accuracy': 0.6376811594202898, 'precision': 0.6367053822974783, 'recall': 0.6376811594202898, 'f1-score': 0.6248234796212925, 'macro_f1-score': 0.40079595243836447, 'balanced_accuracy': 0.3957237864487068, 'mcc': 0.5191920900964861, 'train_loss': 0.2808420470702415}\n",
      "Epoch 9/20\n"
     ]
    },
    {
     "name": "stderr",
     "output_type": "stream",
     "text": [
      "100%|██████████| 716/716 [01:03<00:00, 11.30it/s]\n"
     ]
    },
    {
     "name": "stdout",
     "output_type": "stream",
     "text": [
      "{'val_loss': 2.0448148497721044, 'val_accuracy': 0.6407322654462243, 'precision': 0.6421653146104139, 'recall': 0.6407322654462243, 'f1-score': 0.6328114979109455, 'macro_f1-score': 0.41173740506700357, 'balanced_accuracy': 0.426589057019864, 'mcc': 0.5292055363135153, 'train_loss': 0.23364223610458884}\n",
      "Epoch 10/20\n"
     ]
    },
    {
     "name": "stderr",
     "output_type": "stream",
     "text": [
      "100%|██████████| 716/716 [01:03<00:00, 11.30it/s]\n"
     ]
    },
    {
     "name": "stdout",
     "output_type": "stream",
     "text": [
      "{'val_loss': 1.9965762743135778, 'val_accuracy': 0.6483600305110603, 'precision': 0.6615149844958225, 'recall': 0.6483600305110603, 'f1-score': 0.6436569031946822, 'macro_f1-score': 0.42992532849844994, 'balanced_accuracy': 0.43031188683557636, 'mcc': 0.545347708062643, 'train_loss': 0.20783773063117503}\n",
      "Epoch 11/20\n"
     ]
    },
    {
     "name": "stderr",
     "output_type": "stream",
     "text": [
      "100%|██████████| 716/716 [01:03<00:00, 11.31it/s]\n"
     ]
    },
    {
     "name": "stdout",
     "output_type": "stream",
     "text": [
      "{'val_loss': 2.1519983170962913, 'val_accuracy': 0.631578947368421, 'precision': 0.6303800320085892, 'recall': 0.631578947368421, 'f1-score': 0.6190597310066145, 'macro_f1-score': 0.3904238431026002, 'balanced_accuracy': 0.37394946877732926, 'mcc': 0.5185324903336381, 'train_loss': 0.1755801843763485}\n",
      "Epoch 12/20\n"
     ]
    },
    {
     "name": "stderr",
     "output_type": "stream",
     "text": [
      "100%|██████████| 716/716 [01:03<00:00, 11.29it/s]\n"
     ]
    },
    {
     "name": "stdout",
     "output_type": "stream",
     "text": [
      "{'val_loss': 2.1529423372774588, 'val_accuracy': 0.6422578184591915, 'precision': 0.65760642935371, 'recall': 0.6422578184591915, 'f1-score': 0.63958056182369, 'macro_f1-score': 0.4171477067725515, 'balanced_accuracy': 0.4147828019853259, 'mcc': 0.5349437537649361, 'train_loss': 0.1527758963834026}\n",
      "Epoch 13/20\n"
     ]
    },
    {
     "name": "stderr",
     "output_type": "stream",
     "text": [
      "100%|██████████| 716/716 [01:03<00:00, 11.29it/s]\n"
     ]
    },
    {
     "name": "stdout",
     "output_type": "stream",
     "text": [
      "{'val_loss': 2.31897299464156, 'val_accuracy': 0.6575133485888635, 'precision': 0.6570284273892046, 'recall': 0.6575133485888635, 'f1-score': 0.6413189278768858, 'macro_f1-score': 0.4366805934468761, 'balanced_accuracy': 0.4096224140813975, 'mcc': 0.5394304080221616, 'train_loss': 0.14810039194943983}\n",
      "Epoch 14/20\n"
     ]
    },
    {
     "name": "stderr",
     "output_type": "stream",
     "text": [
      "100%|██████████| 716/716 [01:03<00:00, 11.29it/s]\n"
     ]
    },
    {
     "name": "stdout",
     "output_type": "stream",
     "text": [
      "{'val_loss': 2.1742226299716205, 'val_accuracy': 0.6506483600305111, 'precision': 0.646268570631638, 'recall': 0.6506483600305111, 'f1-score': 0.6364614196591531, 'macro_f1-score': 0.41201387620735996, 'balanced_accuracy': 0.4081641786172641, 'mcc': 0.5377906062678737, 'train_loss': 0.15541046075070897}\n",
      "Epoch 15/20\n"
     ]
    },
    {
     "name": "stderr",
     "output_type": "stream",
     "text": [
      "100%|██████████| 716/716 [01:03<00:00, 11.30it/s]\n"
     ]
    },
    {
     "name": "stdout",
     "output_type": "stream",
     "text": [
      "{'val_loss': 2.7127813776818717, 'val_accuracy': 0.6498855835240275, 'precision': 0.6296970588152477, 'recall': 0.6498855835240275, 'f1-score': 0.6094517479550543, 'macro_f1-score': 0.3763789466491729, 'balanced_accuracy': 0.32704516230275116, 'mcc': 0.5090654450289881, 'train_loss': 0.12437673106070285}\n",
      "Epoch 16/20\n"
     ]
    },
    {
     "name": "stderr",
     "output_type": "stream",
     "text": [
      "100%|██████████| 716/716 [01:03<00:00, 11.31it/s]\n"
     ]
    },
    {
     "name": "stdout",
     "output_type": "stream",
     "text": [
      "{'val_loss': 2.2936860708201805, 'val_accuracy': 0.6414950419527079, 'precision': 0.6530323830503092, 'recall': 0.6414950419527079, 'f1-score': 0.6275579627612603, 'macro_f1-score': 0.4143620734445079, 'balanced_accuracy': 0.40069652559204777, 'mcc': 0.5280143503446172, 'train_loss': 0.12128297343746727}\n",
      "Early stopping.\n",
      "\n",
      " === roberta-base + cnn + t5 Final 5-fold Cross-Validation Results ===\n",
      "val_loss: 2.1133\n",
      "val_accuracy: 0.6339\n",
      "precision: 0.6387\n",
      "recall: 0.6339\n",
      "f1-score: 0.6259\n",
      "macro_f1-score: 0.4164\n",
      "balanced_accuracy: 0.4225\n",
      "mcc: 0.5200\n",
      "train_loss: 0.3039\n",
      "total_seconds: 22627.0000\n",
      "total_time: 6 hrs 17 mins 7 secs\n",
      "▶ Running: roberta-base + lstm + t5\n",
      "tokenizer is roberta-base\n",
      "Using device: cuda\n",
      "CUDA Available: True\n",
      "CUDA Device: NVIDIA GeForce RTX 5070 Ti\n",
      "Current GPU Memory Allocated: 0.02 GB\n",
      "Current GPU Memory Cached: 4.02 GB\n",
      "\n",
      "[Fold 1]\n",
      "🚀 Using T5-paraphraser for data augmentation + under-sampling\n",
      "🔻 Under-sampling label 0: 2471 → 2000\n",
      "🔧 Augmenting label 1: 21 → 200 (+179)\n",
      "🔧 Augmenting label 2: 64 → 200 (+136)\n",
      "🔧 Augmenting label 3: 24 → 200 (+176)\n",
      "🔧 Augmenting label 4: 191 → 200 (+9)\n",
      "🔧 Augmenting label 5: 113 → 200 (+87)\n",
      "🔧 Augmenting label 6: 93 → 200 (+107)\n",
      "🔧 Augmenting label 7: 30 → 200 (+170)\n",
      "🔧 Augmenting label 8: 68 → 200 (+132)\n",
      "🔧 Augmenting label 9: 30 → 200 (+170)\n",
      "🔧 Augmenting label 10: 67 → 200 (+133)\n",
      "🔧 Augmenting label 11: 169 → 200 (+31)\n",
      "🔧 Augmenting label 12: 189 → 200 (+11)\n",
      "🔧 Augmenting label 13: 29 → 200 (+171)\n",
      "🔧 Augmenting label 14: 22 → 200 (+178)\n",
      "🔧 Augmenting label 15: 25 → 200 (+175)\n",
      "🔧 Augmenting label 16: 19 → 200 (+181)\n",
      "🔧 Augmenting label 17: 183 → 200 (+17)\n",
      "🔧 Augmenting label 18: 92 → 200 (+108)\n",
      "🔧 Augmenting label 19: 44 → 200 (+156)\n",
      "🔧 Augmenting label 20: 13 → 200 (+187)\n",
      "🔧 Augmenting label 21: 35 → 200 (+165)\n",
      "🔧 Augmenting label 22: 76 → 200 (+124)\n",
      "🔧 Augmenting label 23: 158 → 200 (+42)\n",
      "🔧 Augmenting label 24: 13 → 200 (+187)\n",
      "🔧 Augmenting label 25: 44 → 200 (+156)\n",
      "🔧 Augmenting label 26: 84 → 200 (+116)\n",
      "🔧 Augmenting label 27: 48 → 200 (+152)\n",
      "🔧 Augmenting label 28: 11 → 200 (+189)\n",
      "🔧 Augmenting label 29: 13 → 200 (+187)\n",
      "🔧 Augmenting label 30: 11 → 200 (+189)\n",
      "🔧 Augmenting label 31: 75 → 200 (+125)\n",
      "🔧 Augmenting label 32: 36 → 200 (+164)\n",
      "🔧 Augmenting label 33: 32 → 200 (+168)\n",
      "🔧 Augmenting label 34: 29 → 200 (+171)\n",
      "🔧 Augmenting label 35: 11 → 200 (+189)\n",
      "🔧 Augmenting label 36: 22 → 200 (+178)\n",
      "🔧 Augmenting label 37: 16 → 200 (+184)\n",
      "🔧 Augmenting label 38: 33 → 200 (+167)\n",
      "🔧 Augmenting label 39: 10 → 200 (+190)\n",
      "🔧 Augmenting label 40: 9 → 200 (+191)\n",
      "🔧 Augmenting label 41: 57 → 200 (+143)\n",
      "🔧 Augmenting label 42: 19 → 200 (+181)\n",
      "🔧 Augmenting label 43: 8 → 200 (+192)\n",
      "🔧 Augmenting label 44: 54 → 200 (+146)\n",
      "🔧 Augmenting label 46: 61 → 200 (+139)\n",
      "🔧 Augmenting label 47: 80 → 200 (+120)\n",
      "Label distribution after resampling:\n",
      "  label 0: 2000\n",
      "  label 1: 200\n",
      "  label 2: 200\n",
      "  label 3: 200\n",
      "  label 4: 200\n",
      "  label 5: 200\n",
      "  label 6: 200\n",
      "  label 7: 200\n",
      "  label 8: 200\n",
      "  label 9: 200\n",
      "  label 10: 200\n",
      "  label 11: 200\n",
      "  label 12: 200\n",
      "  label 13: 200\n",
      "  label 14: 200\n",
      "  label 15: 200\n",
      "  label 16: 200\n",
      "  label 17: 200\n",
      "  label 18: 200\n",
      "  label 19: 200\n",
      "  label 20: 200\n",
      "  label 21: 200\n",
      "  label 22: 200\n",
      "  label 23: 200\n",
      "  label 24: 200\n",
      "  label 25: 200\n",
      "  label 26: 200\n",
      "  label 27: 200\n",
      "  label 28: 200\n",
      "  label 29: 200\n",
      "  label 30: 200\n",
      "  label 31: 200\n",
      "  label 32: 200\n",
      "  label 33: 200\n",
      "  label 34: 200\n",
      "  label 35: 200\n",
      "  label 36: 200\n",
      "  label 37: 200\n",
      "  label 38: 200\n",
      "  label 39: 200\n",
      "  label 40: 200\n",
      "  label 41: 200\n",
      "  label 42: 200\n",
      "  label 43: 200\n",
      "  label 44: 200\n",
      "  label 45: 242\n",
      "  label 46: 200\n",
      "  label 47: 200\n",
      "model is roberta-base lstm\n"
     ]
    },
    {
     "name": "stderr",
     "output_type": "stream",
     "text": [
      "Some weights of RobertaModel were not initialized from the model checkpoint at roberta-base and are newly initialized: ['pooler.dense.bias', 'pooler.dense.weight']\n",
      "You should probably TRAIN this model on a down-stream task to be able to use it for predictions and inference.\n"
     ]
    },
    {
     "name": "stdout",
     "output_type": "stream",
     "text": [
      "Using weighted CrossEntropyLoss with weights: tensor([1.7441, 4.0467, 4.0467, 4.0467, 4.0467, 4.0467, 4.0467, 4.0467, 4.0467,\n",
      "        4.0467, 4.0467, 4.0467, 4.0467, 4.0467, 4.0467, 4.0467, 4.0467, 4.0467,\n",
      "        4.0467, 4.0467, 4.0467, 4.0467, 4.0467, 4.0467, 4.0467, 4.0467, 4.0467,\n",
      "        4.0467, 4.0467, 4.0467, 4.0467, 4.0467, 4.0467, 4.0467, 4.0467, 4.0467,\n",
      "        4.0467, 4.0467, 4.0467, 4.0467, 4.0467, 4.0467, 4.0467, 4.0467, 4.0467,\n",
      "        3.8561, 4.0467, 4.0467], device='cuda:0')\n",
      "Epoch 1/20\n"
     ]
    },
    {
     "name": "stderr",
     "output_type": "stream",
     "text": [
      "100%|██████████| 716/716 [01:07<00:00, 10.60it/s]\n"
     ]
    },
    {
     "name": "stdout",
     "output_type": "stream",
     "text": [
      "{'val_loss': 2.7843061263968303, 'val_accuracy': 0.4839939024390244, 'precision': 0.3194725584127745, 'recall': 0.4839939024390244, 'f1-score': 0.3758990442031714, 'macro_f1-score': 0.043600171866876425, 'balanced_accuracy': 0.07427282671428873, 'mcc': 0.23038949476800832, 'train_loss': 3.2942215838578828}\n",
      "Epoch 2/20\n"
     ]
    },
    {
     "name": "stderr",
     "output_type": "stream",
     "text": [
      "100%|██████████| 716/716 [01:07<00:00, 10.62it/s]\n"
     ]
    },
    {
     "name": "stdout",
     "output_type": "stream",
     "text": [
      "{'val_loss': 2.400809529351025, 'val_accuracy': 0.5182926829268293, 'precision': 0.34295330074366837, 'recall': 0.5182926829268293, 'f1-score': 0.3966796669929224, 'macro_f1-score': 0.06611799173028274, 'balanced_accuracy': 0.0850943058028371, 'mcc': 0.26088921390299913, 'train_loss': 2.7858922447405714}\n",
      "Epoch 3/20\n"
     ]
    },
    {
     "name": "stderr",
     "output_type": "stream",
     "text": [
      "100%|██████████| 716/716 [01:07<00:00, 10.61it/s]\n"
     ]
    },
    {
     "name": "stdout",
     "output_type": "stream",
     "text": [
      "{'val_loss': 2.1869661887971366, 'val_accuracy': 0.5396341463414634, 'precision': 0.4930577320741904, 'recall': 0.5396341463414634, 'f1-score': 0.49641919460239003, 'macro_f1-score': 0.18335735003111173, 'balanced_accuracy': 0.21740885668639054, 'mcc': 0.36748644582469897, 'train_loss': 2.2042882101162853}\n",
      "Epoch 4/20\n"
     ]
    },
    {
     "name": "stderr",
     "output_type": "stream",
     "text": [
      "100%|██████████| 716/716 [01:07<00:00, 10.56it/s]\n"
     ]
    },
    {
     "name": "stdout",
     "output_type": "stream",
     "text": [
      "{'val_loss': 1.9985838815933321, 'val_accuracy': 0.5647865853658537, 'precision': 0.5323565315087607, 'recall': 0.5647865853658537, 'f1-score': 0.5329240044893002, 'macro_f1-score': 0.2456325319271224, 'balanced_accuracy': 0.2852255415479055, 'mcc': 0.4163952434206087, 'train_loss': 1.735560502586418}\n",
      "Epoch 5/20\n"
     ]
    },
    {
     "name": "stderr",
     "output_type": "stream",
     "text": [
      "100%|██████████| 716/716 [01:07<00:00, 10.59it/s]\n"
     ]
    },
    {
     "name": "stdout",
     "output_type": "stream",
     "text": [
      "{'val_loss': 2.0462179227573114, 'val_accuracy': 0.5777439024390244, 'precision': 0.5608409669780986, 'recall': 0.5777439024390244, 'f1-score': 0.5532737279392475, 'macro_f1-score': 0.281873305996946, 'balanced_accuracy': 0.28813267434739204, 'mcc': 0.4272734988295912, 'train_loss': 1.4125544704580106}\n",
      "Epoch 6/20\n"
     ]
    },
    {
     "name": "stderr",
     "output_type": "stream",
     "text": [
      "100%|██████████| 716/716 [01:07<00:00, 10.60it/s]\n"
     ]
    },
    {
     "name": "stdout",
     "output_type": "stream",
     "text": [
      "{'val_loss': 1.9317007617252628, 'val_accuracy': 0.5685975609756098, 'precision': 0.5467865758516582, 'recall': 0.5685975609756098, 'f1-score': 0.5437042692744678, 'macro_f1-score': 0.2791853317665034, 'balanced_accuracy': 0.28495664861459313, 'mcc': 0.41924117100763897, 'train_loss': 1.1721258361995552}\n",
      "Epoch 7/20\n"
     ]
    },
    {
     "name": "stderr",
     "output_type": "stream",
     "text": [
      "100%|██████████| 716/716 [01:07<00:00, 10.60it/s]\n"
     ]
    },
    {
     "name": "stdout",
     "output_type": "stream",
     "text": [
      "{'val_loss': 1.9073890294970535, 'val_accuracy': 0.5792682926829268, 'precision': 0.5987923660666391, 'recall': 0.5792682926829268, 'f1-score': 0.5712722519886828, 'macro_f1-score': 0.33276712947693327, 'balanced_accuracy': 0.3726372831827489, 'mcc': 0.4529065996078746, 'train_loss': 0.9690188052309625}\n",
      "Epoch 8/20\n"
     ]
    },
    {
     "name": "stderr",
     "output_type": "stream",
     "text": [
      "100%|██████████| 716/716 [01:07<00:00, 10.59it/s]\n"
     ]
    },
    {
     "name": "stdout",
     "output_type": "stream",
     "text": [
      "{'val_loss': 1.8361595905408628, 'val_accuracy': 0.5846036585365854, 'precision': 0.6057182354030467, 'recall': 0.5846036585365854, 'f1-score': 0.582785779576034, 'macro_f1-score': 0.3411562862091147, 'balanced_accuracy': 0.3812885437003049, 'mcc': 0.4715841353633653, 'train_loss': 0.8211109380149308}\n",
      "Epoch 9/20\n"
     ]
    },
    {
     "name": "stderr",
     "output_type": "stream",
     "text": [
      "100%|██████████| 716/716 [01:07<00:00, 10.57it/s]\n"
     ]
    },
    {
     "name": "stdout",
     "output_type": "stream",
     "text": [
      "{'val_loss': 1.8491616957798236, 'val_accuracy': 0.614329268292683, 'precision': 0.6050994034383302, 'recall': 0.614329268292683, 'f1-score': 0.6016394579442494, 'macro_f1-score': 0.38153657586656037, 'balanced_accuracy': 0.4004610953390711, 'mcc': 0.49453019775689067, 'train_loss': 0.6751771082258757}\n",
      "Epoch 10/20\n"
     ]
    },
    {
     "name": "stderr",
     "output_type": "stream",
     "text": [
      "100%|██████████| 716/716 [01:07<00:00, 10.55it/s]\n"
     ]
    },
    {
     "name": "stdout",
     "output_type": "stream",
     "text": [
      "{'val_loss': 2.0142766778788914, 'val_accuracy': 0.59375, 'precision': 0.6124234439658105, 'recall': 0.59375, 'f1-score': 0.5918669584501605, 'macro_f1-score': 0.3568072573601435, 'balanced_accuracy': 0.382248029173657, 'mcc': 0.47376979914014405, 'train_loss': 0.5555681636109532}\n",
      "Epoch 11/20\n"
     ]
    },
    {
     "name": "stderr",
     "output_type": "stream",
     "text": [
      "100%|██████████| 716/716 [01:07<00:00, 10.57it/s]\n"
     ]
    },
    {
     "name": "stdout",
     "output_type": "stream",
     "text": [
      "{'val_loss': 1.996748999851506, 'val_accuracy': 0.6021341463414634, 'precision': 0.6226982021774662, 'recall': 0.6021341463414634, 'f1-score': 0.601373461660183, 'macro_f1-score': 0.39231009401433586, 'balanced_accuracy': 0.41057737240834663, 'mcc': 0.4807819271888196, 'train_loss': 0.5234575048401202}\n",
      "Epoch 12/20\n"
     ]
    },
    {
     "name": "stderr",
     "output_type": "stream",
     "text": [
      "100%|██████████| 716/716 [01:07<00:00, 10.58it/s]\n"
     ]
    },
    {
     "name": "stdout",
     "output_type": "stream",
     "text": [
      "{'val_loss': 2.0769504105172505, 'val_accuracy': 0.6173780487804879, 'precision': 0.6173363530705043, 'recall': 0.6173780487804879, 'f1-score': 0.6109227358917648, 'macro_f1-score': 0.38823751595200306, 'balanced_accuracy': 0.38033877582699255, 'mcc': 0.49359874080415583, 'train_loss': 0.466103271164999}\n",
      "Epoch 13/20\n"
     ]
    },
    {
     "name": "stderr",
     "output_type": "stream",
     "text": [
      "100%|██████████| 716/716 [01:07<00:00, 10.54it/s]\n"
     ]
    },
    {
     "name": "stdout",
     "output_type": "stream",
     "text": [
      "{'val_loss': 2.166158096455946, 'val_accuracy': 0.6425304878048781, 'precision': 0.6125835075988719, 'recall': 0.6425304878048781, 'f1-score': 0.6032379622252988, 'macro_f1-score': 0.3703467856852469, 'balanced_accuracy': 0.3480888174391891, 'mcc': 0.5027405232475645, 'train_loss': 0.40759257810429655}\n",
      "Epoch 14/20\n"
     ]
    },
    {
     "name": "stderr",
     "output_type": "stream",
     "text": [
      "100%|██████████| 716/716 [01:08<00:00, 10.51it/s]\n"
     ]
    },
    {
     "name": "stdout",
     "output_type": "stream",
     "text": [
      "{'val_loss': 2.3217587125737493, 'val_accuracy': 0.6394817073170732, 'precision': 0.6239892740652015, 'recall': 0.6394817073170732, 'f1-score': 0.6109809330476603, 'macro_f1-score': 0.38855732439808505, 'balanced_accuracy': 0.37265769077149596, 'mcc': 0.5058003786662086, 'train_loss': 0.3434697380133348}\n",
      "Early stopping.\n",
      "\n",
      "[Fold 2]\n",
      "🚀 Using T5-paraphraser for data augmentation + under-sampling\n",
      "🔻 Under-sampling label 0: 2471 → 2000\n",
      "🔧 Augmenting label 1: 22 → 200 (+178)\n",
      "🔧 Augmenting label 2: 64 → 200 (+136)\n",
      "🔧 Augmenting label 3: 24 → 200 (+176)\n",
      "🔧 Augmenting label 4: 190 → 200 (+10)\n",
      "🔧 Augmenting label 5: 113 → 200 (+87)\n",
      "🔧 Augmenting label 6: 93 → 200 (+107)\n",
      "🔧 Augmenting label 7: 30 → 200 (+170)\n",
      "🔧 Augmenting label 8: 68 → 200 (+132)\n",
      "🔧 Augmenting label 9: 30 → 200 (+170)\n",
      "🔧 Augmenting label 10: 67 → 200 (+133)\n",
      "🔧 Augmenting label 11: 169 → 200 (+31)\n",
      "🔧 Augmenting label 12: 189 → 200 (+11)\n",
      "🔧 Augmenting label 13: 29 → 200 (+171)\n",
      "🔧 Augmenting label 14: 23 → 200 (+177)\n",
      "🔧 Augmenting label 15: 24 → 200 (+176)\n",
      "🔧 Augmenting label 16: 20 → 200 (+180)\n",
      "🔧 Augmenting label 17: 182 → 200 (+18)\n",
      "🔧 Augmenting label 18: 92 → 200 (+108)\n",
      "🔧 Augmenting label 19: 44 → 200 (+156)\n",
      "🔧 Augmenting label 20: 13 → 200 (+187)\n",
      "🔧 Augmenting label 21: 36 → 200 (+164)\n",
      "🔧 Augmenting label 22: 76 → 200 (+124)\n",
      "🔧 Augmenting label 23: 157 → 200 (+43)\n",
      "🔧 Augmenting label 24: 12 → 200 (+188)\n",
      "🔧 Augmenting label 25: 44 → 200 (+156)\n",
      "🔧 Augmenting label 26: 84 → 200 (+116)\n",
      "🔧 Augmenting label 27: 48 → 200 (+152)\n",
      "🔧 Augmenting label 28: 12 → 200 (+188)\n",
      "🔧 Augmenting label 29: 12 → 200 (+188)\n",
      "🔧 Augmenting label 30: 12 → 200 (+188)\n",
      "🔧 Augmenting label 31: 75 → 200 (+125)\n",
      "🔧 Augmenting label 32: 36 → 200 (+164)\n",
      "🔧 Augmenting label 33: 31 → 200 (+169)\n",
      "🔧 Augmenting label 34: 29 → 200 (+171)\n",
      "🔧 Augmenting label 35: 12 → 200 (+188)\n",
      "🔧 Augmenting label 36: 21 → 200 (+179)\n",
      "🔧 Augmenting label 37: 16 → 200 (+184)\n",
      "🔧 Augmenting label 38: 33 → 200 (+167)\n",
      "🔧 Augmenting label 39: 11 → 200 (+189)\n",
      "🔧 Augmenting label 40: 8 → 200 (+192)\n",
      "🔧 Augmenting label 41: 57 → 200 (+143)\n",
      "🔧 Augmenting label 42: 19 → 200 (+181)\n",
      "🔧 Augmenting label 43: 9 → 200 (+191)\n",
      "🔧 Augmenting label 44: 54 → 200 (+146)\n",
      "🔧 Augmenting label 46: 62 → 200 (+138)\n",
      "🔧 Augmenting label 47: 80 → 200 (+120)\n",
      "Label distribution after resampling:\n",
      "  label 0: 2000\n",
      "  label 1: 200\n",
      "  label 2: 200\n",
      "  label 3: 200\n",
      "  label 4: 200\n",
      "  label 5: 200\n",
      "  label 6: 200\n",
      "  label 7: 200\n",
      "  label 8: 200\n",
      "  label 9: 200\n",
      "  label 10: 200\n",
      "  label 11: 200\n",
      "  label 12: 200\n",
      "  label 13: 200\n",
      "  label 14: 200\n",
      "  label 15: 200\n",
      "  label 16: 200\n",
      "  label 17: 200\n",
      "  label 18: 200\n",
      "  label 19: 200\n",
      "  label 20: 200\n",
      "  label 21: 200\n",
      "  label 22: 200\n",
      "  label 23: 200\n",
      "  label 24: 200\n",
      "  label 25: 200\n",
      "  label 26: 200\n",
      "  label 27: 200\n",
      "  label 28: 200\n",
      "  label 29: 200\n",
      "  label 30: 200\n",
      "  label 31: 200\n",
      "  label 32: 200\n",
      "  label 33: 200\n",
      "  label 34: 200\n",
      "  label 35: 200\n",
      "  label 36: 200\n",
      "  label 37: 200\n",
      "  label 38: 200\n",
      "  label 39: 200\n",
      "  label 40: 200\n",
      "  label 41: 200\n",
      "  label 42: 200\n",
      "  label 43: 200\n",
      "  label 44: 200\n",
      "  label 45: 242\n",
      "  label 46: 200\n",
      "  label 47: 200\n",
      "model is roberta-base lstm\n"
     ]
    },
    {
     "name": "stderr",
     "output_type": "stream",
     "text": [
      "Some weights of RobertaModel were not initialized from the model checkpoint at roberta-base and are newly initialized: ['pooler.dense.bias', 'pooler.dense.weight']\n",
      "You should probably TRAIN this model on a down-stream task to be able to use it for predictions and inference.\n"
     ]
    },
    {
     "name": "stdout",
     "output_type": "stream",
     "text": [
      "Using weighted CrossEntropyLoss with weights: tensor([1.7441, 4.0467, 4.0467, 4.0467, 4.0467, 4.0467, 4.0467, 4.0467, 4.0467,\n",
      "        4.0467, 4.0467, 4.0467, 4.0467, 4.0467, 4.0467, 4.0467, 4.0467, 4.0467,\n",
      "        4.0467, 4.0467, 4.0467, 4.0467, 4.0467, 4.0467, 4.0467, 4.0467, 4.0467,\n",
      "        4.0467, 4.0467, 4.0467, 4.0467, 4.0467, 4.0467, 4.0467, 4.0467, 4.0467,\n",
      "        4.0467, 4.0467, 4.0467, 4.0467, 4.0467, 4.0467, 4.0467, 4.0467, 4.0467,\n",
      "        3.8561, 4.0467, 4.0467], device='cuda:0')\n",
      "Epoch 1/20\n"
     ]
    },
    {
     "name": "stderr",
     "output_type": "stream",
     "text": [
      "100%|██████████| 716/716 [01:07<00:00, 10.56it/s]\n"
     ]
    },
    {
     "name": "stdout",
     "output_type": "stream",
     "text": [
      "{'val_loss': 2.3180182866933867, 'val_accuracy': 0.5568268497330282, 'precision': 0.3628198019734353, 'recall': 0.5568268497330282, 'f1-score': 0.4388210266567822, 'macro_f1-score': 0.0932483379568058, 'balanced_accuracy': 0.11939575732678044, 'mcc': 0.3485814884624098, 'train_loss': 3.0776324297129776}\n",
      "Epoch 2/20\n"
     ]
    },
    {
     "name": "stderr",
     "output_type": "stream",
     "text": [
      "100%|██████████| 716/716 [01:07<00:00, 10.55it/s]\n"
     ]
    },
    {
     "name": "stdout",
     "output_type": "stream",
     "text": [
      "{'val_loss': 2.131842767320028, 'val_accuracy': 0.532418001525553, 'precision': 0.4669069517948402, 'recall': 0.532418001525553, 'f1-score': 0.4784156499041587, 'macro_f1-score': 0.16669016126541644, 'balanced_accuracy': 0.21193422567566036, 'mcc': 0.36276631920821506, 'train_loss': 2.2676946649005294}\n",
      "Epoch 3/20\n"
     ]
    },
    {
     "name": "stderr",
     "output_type": "stream",
     "text": [
      "100%|██████████| 716/716 [01:07<00:00, 10.54it/s]\n"
     ]
    },
    {
     "name": "stdout",
     "output_type": "stream",
     "text": [
      "{'val_loss': 2.0544528575932106, 'val_accuracy': 0.5705568268497331, 'precision': 0.47023877703150924, 'recall': 0.5705568268497331, 'f1-score': 0.48281399770283767, 'macro_f1-score': 0.18419416755040033, 'balanced_accuracy': 0.18882129299909733, 'mcc': 0.3696344964657409, 'train_loss': 1.7038672724582629}\n",
      "Epoch 4/20\n"
     ]
    },
    {
     "name": "stderr",
     "output_type": "stream",
     "text": [
      "100%|██████████| 716/716 [01:07<00:00, 10.54it/s]\n"
     ]
    },
    {
     "name": "stdout",
     "output_type": "stream",
     "text": [
      "{'val_loss': 1.964901270662866, 'val_accuracy': 0.6018306636155606, 'precision': 0.5478643609275403, 'recall': 0.6018306636155606, 'f1-score': 0.5351004944272473, 'macro_f1-score': 0.29941065541055495, 'balanced_accuracy': 0.3036804871314932, 'mcc': 0.4380944178097112, 'train_loss': 1.3399878804618752}\n",
      "Epoch 5/20\n"
     ]
    },
    {
     "name": "stderr",
     "output_type": "stream",
     "text": [
      "100%|██████████| 716/716 [01:08<00:00, 10.53it/s]\n"
     ]
    },
    {
     "name": "stdout",
     "output_type": "stream",
     "text": [
      "{'val_loss': 1.781810346899963, 'val_accuracy': 0.5957284515636918, 'precision': 0.583209421287116, 'recall': 0.5957284515636918, 'f1-score': 0.5725328430024551, 'macro_f1-score': 0.3214307059242378, 'balanced_accuracy': 0.3382353073777778, 'mcc': 0.4619440760155986, 'train_loss': 1.08976516706151}\n",
      "Epoch 6/20\n"
     ]
    },
    {
     "name": "stderr",
     "output_type": "stream",
     "text": [
      "100%|██████████| 716/716 [01:07<00:00, 10.54it/s]\n"
     ]
    },
    {
     "name": "stdout",
     "output_type": "stream",
     "text": [
      "{'val_loss': 1.849503136262661, 'val_accuracy': 0.5758962623951183, 'precision': 0.577009715219491, 'recall': 0.5758962623951183, 'f1-score': 0.5643401757430178, 'macro_f1-score': 0.3111504332283297, 'balanced_accuracy': 0.35545872120659155, 'mcc': 0.4528337361788619, 'train_loss': 0.8636833486984895}\n",
      "Epoch 7/20\n"
     ]
    },
    {
     "name": "stderr",
     "output_type": "stream",
     "text": [
      "100%|██████████| 716/716 [01:07<00:00, 10.56it/s]\n"
     ]
    },
    {
     "name": "stdout",
     "output_type": "stream",
     "text": [
      "{'val_loss': 1.7230817820967697, 'val_accuracy': 0.6125095347063311, 'precision': 0.6120016787485224, 'recall': 0.6125095347063311, 'f1-score': 0.5976562117703137, 'macro_f1-score': 0.3367023208447207, 'balanced_accuracy': 0.3387214339799786, 'mcc': 0.4906132933315772, 'train_loss': 0.751238280730374}\n",
      "Epoch 8/20\n"
     ]
    },
    {
     "name": "stderr",
     "output_type": "stream",
     "text": [
      "100%|██████████| 716/716 [01:07<00:00, 10.56it/s]\n"
     ]
    },
    {
     "name": "stdout",
     "output_type": "stream",
     "text": [
      "{'val_loss': 1.8185690768608234, 'val_accuracy': 0.5812356979405034, 'precision': 0.604967739082397, 'recall': 0.5812356979405034, 'f1-score': 0.5794007187995656, 'macro_f1-score': 0.3538170144210658, 'balanced_accuracy': 0.39282052540211265, 'mcc': 0.4615003922249205, 'train_loss': 0.6151746609222206}\n",
      "Epoch 9/20\n"
     ]
    },
    {
     "name": "stderr",
     "output_type": "stream",
     "text": [
      "100%|██████████| 716/716 [01:07<00:00, 10.56it/s]\n"
     ]
    },
    {
     "name": "stdout",
     "output_type": "stream",
     "text": [
      "{'val_loss': 1.8549973259611827, 'val_accuracy': 0.6338672768878718, 'precision': 0.6224406984113138, 'recall': 0.6338672768878718, 'f1-score': 0.6176497774109996, 'macro_f1-score': 0.37570773388576123, 'balanced_accuracy': 0.36398040712025814, 'mcc': 0.5086861271624147, 'train_loss': 0.5434040409283889}\n",
      "Epoch 10/20\n"
     ]
    },
    {
     "name": "stderr",
     "output_type": "stream",
     "text": [
      "100%|██████████| 716/716 [01:07<00:00, 10.54it/s]\n"
     ]
    },
    {
     "name": "stdout",
     "output_type": "stream",
     "text": [
      "{'val_loss': 2.153215492643961, 'val_accuracy': 0.5881006864988558, 'precision': 0.6026725344460376, 'recall': 0.5881006864988558, 'f1-score': 0.5766837635487023, 'macro_f1-score': 0.3464971065616697, 'balanced_accuracy': 0.338533810921447, 'mcc': 0.4593633944105748, 'train_loss': 0.44682005056122825}\n",
      "Epoch 11/20\n"
     ]
    },
    {
     "name": "stderr",
     "output_type": "stream",
     "text": [
      "100%|██████████| 716/716 [01:07<00:00, 10.54it/s]\n"
     ]
    },
    {
     "name": "stdout",
     "output_type": "stream",
     "text": [
      "{'val_loss': 1.9707789428350402, 'val_accuracy': 0.6025934401220442, 'precision': 0.6088501918430189, 'recall': 0.6025934401220442, 'f1-score': 0.5974699980542433, 'macro_f1-score': 0.34689265315558054, 'balanced_accuracy': 0.3664321760027807, 'mcc': 0.4818350020517649, 'train_loss': 0.4293578111582212}\n",
      "Epoch 12/20\n"
     ]
    },
    {
     "name": "stderr",
     "output_type": "stream",
     "text": [
      "100%|██████████| 716/716 [01:07<00:00, 10.55it/s]\n"
     ]
    },
    {
     "name": "stdout",
     "output_type": "stream",
     "text": [
      "{'val_loss': 2.0425872217591214, 'val_accuracy': 0.6163234172387491, 'precision': 0.6134108202199925, 'recall': 0.6163234172387491, 'f1-score': 0.6071759161046067, 'macro_f1-score': 0.37213708548951824, 'balanced_accuracy': 0.3883504584898441, 'mcc': 0.4949262768760342, 'train_loss': 0.3588065618178261}\n",
      "Early stopping.\n",
      "\n",
      "[Fold 3]\n",
      "🚀 Using T5-paraphraser for data augmentation + under-sampling\n",
      "🔻 Under-sampling label 0: 2471 → 2000\n",
      "🔧 Augmenting label 1: 22 → 200 (+178)\n",
      "🔧 Augmenting label 2: 64 → 200 (+136)\n",
      "🔧 Augmenting label 3: 24 → 200 (+176)\n",
      "🔧 Augmenting label 4: 190 → 200 (+10)\n",
      "🔧 Augmenting label 5: 113 → 200 (+87)\n",
      "🔧 Augmenting label 6: 93 → 200 (+107)\n",
      "🔧 Augmenting label 7: 30 → 200 (+170)\n",
      "🔧 Augmenting label 8: 68 → 200 (+132)\n",
      "🔧 Augmenting label 9: 30 → 200 (+170)\n",
      "🔧 Augmenting label 10: 67 → 200 (+133)\n",
      "🔧 Augmenting label 11: 169 → 200 (+31)\n",
      "🔧 Augmenting label 12: 190 → 200 (+10)\n",
      "🔧 Augmenting label 13: 28 → 200 (+172)\n",
      "🔧 Augmenting label 14: 23 → 200 (+177)\n",
      "🔧 Augmenting label 15: 25 → 200 (+175)\n",
      "🔧 Augmenting label 16: 19 → 200 (+181)\n",
      "🔧 Augmenting label 17: 182 → 200 (+18)\n",
      "🔧 Augmenting label 18: 92 → 200 (+108)\n",
      "🔧 Augmenting label 19: 44 → 200 (+156)\n",
      "🔧 Augmenting label 20: 14 → 200 (+186)\n",
      "🔧 Augmenting label 21: 35 → 200 (+165)\n",
      "🔧 Augmenting label 22: 76 → 200 (+124)\n",
      "🔧 Augmenting label 23: 157 → 200 (+43)\n",
      "🔧 Augmenting label 24: 13 → 200 (+187)\n",
      "🔧 Augmenting label 25: 44 → 200 (+156)\n",
      "🔧 Augmenting label 26: 84 → 200 (+116)\n",
      "🔧 Augmenting label 27: 48 → 200 (+152)\n",
      "🔧 Augmenting label 28: 11 → 200 (+189)\n",
      "🔧 Augmenting label 29: 13 → 200 (+187)\n",
      "🔧 Augmenting label 30: 11 → 200 (+189)\n",
      "🔧 Augmenting label 31: 76 → 200 (+124)\n",
      "🔧 Augmenting label 32: 36 → 200 (+164)\n",
      "🔧 Augmenting label 33: 31 → 200 (+169)\n",
      "🔧 Augmenting label 34: 30 → 200 (+170)\n",
      "🔧 Augmenting label 35: 11 → 200 (+189)\n",
      "🔧 Augmenting label 36: 21 → 200 (+179)\n",
      "🔧 Augmenting label 37: 16 → 200 (+184)\n",
      "🔧 Augmenting label 38: 32 → 200 (+168)\n",
      "🔧 Augmenting label 39: 11 → 200 (+189)\n",
      "🔧 Augmenting label 40: 9 → 200 (+191)\n",
      "🔧 Augmenting label 41: 57 → 200 (+143)\n",
      "🔧 Augmenting label 42: 18 → 200 (+182)\n",
      "🔧 Augmenting label 43: 9 → 200 (+191)\n",
      "🔧 Augmenting label 44: 55 → 200 (+145)\n",
      "🔧 Augmenting label 46: 62 → 200 (+138)\n",
      "🔧 Augmenting label 47: 80 → 200 (+120)\n",
      "Label distribution after resampling:\n",
      "  label 0: 2000\n",
      "  label 1: 200\n",
      "  label 2: 200\n",
      "  label 3: 200\n",
      "  label 4: 200\n",
      "  label 5: 200\n",
      "  label 6: 200\n",
      "  label 7: 200\n",
      "  label 8: 200\n",
      "  label 9: 200\n",
      "  label 10: 200\n",
      "  label 11: 200\n",
      "  label 12: 200\n",
      "  label 13: 200\n",
      "  label 14: 200\n",
      "  label 15: 200\n",
      "  label 16: 200\n",
      "  label 17: 200\n",
      "  label 18: 200\n",
      "  label 19: 200\n",
      "  label 20: 200\n",
      "  label 21: 200\n",
      "  label 22: 200\n",
      "  label 23: 200\n",
      "  label 24: 200\n",
      "  label 25: 200\n",
      "  label 26: 200\n",
      "  label 27: 200\n",
      "  label 28: 200\n",
      "  label 29: 200\n",
      "  label 30: 200\n",
      "  label 31: 200\n",
      "  label 32: 200\n",
      "  label 33: 200\n",
      "  label 34: 200\n",
      "  label 35: 200\n",
      "  label 36: 200\n",
      "  label 37: 200\n",
      "  label 38: 200\n",
      "  label 39: 200\n",
      "  label 40: 200\n",
      "  label 41: 200\n",
      "  label 42: 200\n",
      "  label 43: 200\n",
      "  label 44: 200\n",
      "  label 45: 241\n",
      "  label 46: 200\n",
      "  label 47: 200\n",
      "model is roberta-base lstm\n"
     ]
    },
    {
     "name": "stderr",
     "output_type": "stream",
     "text": [
      "Some weights of RobertaModel were not initialized from the model checkpoint at roberta-base and are newly initialized: ['pooler.dense.bias', 'pooler.dense.weight']\n",
      "You should probably TRAIN this model on a down-stream task to be able to use it for predictions and inference.\n"
     ]
    },
    {
     "name": "stdout",
     "output_type": "stream",
     "text": [
      "Using weighted CrossEntropyLoss with weights: tensor([1.7441, 4.0466, 4.0466, 4.0466, 4.0466, 4.0466, 4.0466, 4.0466, 4.0466,\n",
      "        4.0466, 4.0466, 4.0466, 4.0466, 4.0466, 4.0466, 4.0466, 4.0466, 4.0466,\n",
      "        4.0466, 4.0466, 4.0466, 4.0466, 4.0466, 4.0466, 4.0466, 4.0466, 4.0466,\n",
      "        4.0466, 4.0466, 4.0466, 4.0466, 4.0466, 4.0466, 4.0466, 4.0466, 4.0466,\n",
      "        4.0466, 4.0466, 4.0466, 4.0466, 4.0466, 4.0466, 4.0466, 4.0466, 4.0466,\n",
      "        3.8602, 4.0466, 4.0466], device='cuda:0')\n",
      "Epoch 1/20\n"
     ]
    },
    {
     "name": "stderr",
     "output_type": "stream",
     "text": [
      "100%|██████████| 716/716 [01:07<00:00, 10.59it/s]\n"
     ]
    },
    {
     "name": "stdout",
     "output_type": "stream",
     "text": [
      "{'val_loss': 2.601527158080078, 'val_accuracy': 0.498093058733791, 'precision': 0.4260810083583375, 'recall': 0.498093058733791, 'f1-score': 0.4201609864248428, 'macro_f1-score': 0.07152537235427193, 'balanced_accuracy': 0.11074183659528092, 'mcc': 0.28347707920726245, 'train_loss': 3.1499509311921106}\n",
      "Epoch 2/20\n"
     ]
    },
    {
     "name": "stderr",
     "output_type": "stream",
     "text": [
      "100%|██████████| 716/716 [01:07<00:00, 10.54it/s]\n"
     ]
    },
    {
     "name": "stdout",
     "output_type": "stream",
     "text": [
      "{'val_loss': 2.1286324211737004, 'val_accuracy': 0.5583524027459954, 'precision': 0.4494564817979411, 'recall': 0.5583524027459954, 'f1-score': 0.48043220330274694, 'macro_f1-score': 0.1407961513250553, 'balanced_accuracy': 0.15394422666592703, 'mcc': 0.3667314813551984, 'train_loss': 2.2500682886086363}\n",
      "Epoch 3/20\n"
     ]
    },
    {
     "name": "stderr",
     "output_type": "stream",
     "text": [
      "100%|██████████| 716/716 [01:07<00:00, 10.54it/s]\n"
     ]
    },
    {
     "name": "stdout",
     "output_type": "stream",
     "text": [
      "{'val_loss': 1.9764550371867855, 'val_accuracy': 0.5728451563691839, 'precision': 0.5297573003511006, 'recall': 0.5728451563691839, 'f1-score': 0.5286337787604215, 'macro_f1-score': 0.24323903846733486, 'balanced_accuracy': 0.24553930827010162, 'mcc': 0.4121861459739411, 'train_loss': 1.7117352794293919}\n",
      "Epoch 4/20\n"
     ]
    },
    {
     "name": "stderr",
     "output_type": "stream",
     "text": [
      "100%|██████████| 716/716 [01:07<00:00, 10.55it/s]\n"
     ]
    },
    {
     "name": "stdout",
     "output_type": "stream",
     "text": [
      "{'val_loss': 1.9278894637416049, 'val_accuracy': 0.5797101449275363, 'precision': 0.5639078697295841, 'recall': 0.5797101449275363, 'f1-score': 0.5586225652023108, 'macro_f1-score': 0.3014066688738882, 'balanced_accuracy': 0.31882897811255034, 'mcc': 0.44039404522224274, 'train_loss': 1.3240989152362892}\n",
      "Epoch 5/20\n"
     ]
    },
    {
     "name": "stderr",
     "output_type": "stream",
     "text": [
      "100%|██████████| 716/716 [01:07<00:00, 10.55it/s]\n"
     ]
    },
    {
     "name": "stdout",
     "output_type": "stream",
     "text": [
      "{'val_loss': 1.867996574901953, 'val_accuracy': 0.5781845919145691, 'precision': 0.5848137402753176, 'recall': 0.5781845919145691, 'f1-score': 0.5696448319900913, 'macro_f1-score': 0.31259622752620675, 'balanced_accuracy': 0.31451803045189297, 'mcc': 0.4465154006258537, 'train_loss': 1.0590568420857025}\n",
      "Epoch 6/20\n"
     ]
    },
    {
     "name": "stderr",
     "output_type": "stream",
     "text": [
      "100%|██████████| 716/716 [01:07<00:00, 10.55it/s]\n"
     ]
    },
    {
     "name": "stdout",
     "output_type": "stream",
     "text": [
      "{'val_loss': 1.932389432700669, 'val_accuracy': 0.5987795575896262, 'precision': 0.5884324973871471, 'recall': 0.5987795575896262, 'f1-score': 0.5804409030199604, 'macro_f1-score': 0.3312164610963466, 'balanced_accuracy': 0.3128502193011921, 'mcc': 0.4559003737432759, 'train_loss': 0.8391647422009839}\n",
      "Epoch 7/20\n"
     ]
    },
    {
     "name": "stderr",
     "output_type": "stream",
     "text": [
      "100%|██████████| 716/716 [01:07<00:00, 10.53it/s]\n"
     ]
    },
    {
     "name": "stdout",
     "output_type": "stream",
     "text": [
      "{'val_loss': 1.916166521427108, 'val_accuracy': 0.585812356979405, 'precision': 0.6199421421037349, 'recall': 0.585812356979405, 'f1-score': 0.5909366231614086, 'macro_f1-score': 0.34000785620434176, 'balanced_accuracy': 0.34905681325417937, 'mcc': 0.4743633485952524, 'train_loss': 0.7025283773185155}\n",
      "Epoch 8/20\n"
     ]
    },
    {
     "name": "stderr",
     "output_type": "stream",
     "text": [
      "100%|██████████| 716/716 [01:07<00:00, 10.54it/s]\n"
     ]
    },
    {
     "name": "stdout",
     "output_type": "stream",
     "text": [
      "{'val_loss': 2.0440178117374095, 'val_accuracy': 0.6048817696414951, 'precision': 0.6038593012475775, 'recall': 0.6048817696414951, 'f1-score': 0.596929040458884, 'macro_f1-score': 0.39278284367877353, 'balanced_accuracy': 0.40441199637144215, 'mcc': 0.48471145583332287, 'train_loss': 0.5634905085664804}\n",
      "Epoch 9/20\n"
     ]
    },
    {
     "name": "stderr",
     "output_type": "stream",
     "text": [
      "100%|██████████| 716/716 [01:08<00:00, 10.52it/s]\n"
     ]
    },
    {
     "name": "stdout",
     "output_type": "stream",
     "text": [
      "{'val_loss': 2.1018025366271416, 'val_accuracy': 0.5949656750572082, 'precision': 0.6164879320594627, 'recall': 0.5949656750572082, 'f1-score': 0.5960127860768657, 'macro_f1-score': 0.3677687070754651, 'balanced_accuracy': 0.3752597517550232, 'mcc': 0.47021647535432315, 'train_loss': 0.48192587906401085}\n",
      "Epoch 10/20\n"
     ]
    },
    {
     "name": "stderr",
     "output_type": "stream",
     "text": [
      "100%|██████████| 716/716 [01:07<00:00, 10.54it/s]\n"
     ]
    },
    {
     "name": "stdout",
     "output_type": "stream",
     "text": [
      "{'val_loss': 2.2410222920702725, 'val_accuracy': 0.6216628527841342, 'precision': 0.6110608315091973, 'recall': 0.6216628527841342, 'f1-score': 0.6043045567896931, 'macro_f1-score': 0.35413503585970735, 'balanced_accuracy': 0.3417687854044151, 'mcc': 0.4907035057045403, 'train_loss': 0.4047343854001572}\n",
      "Epoch 11/20\n"
     ]
    },
    {
     "name": "stderr",
     "output_type": "stream",
     "text": [
      "100%|██████████| 716/716 [01:07<00:00, 10.53it/s]\n"
     ]
    },
    {
     "name": "stdout",
     "output_type": "stream",
     "text": [
      "{'val_loss': 2.1382662016080647, 'val_accuracy': 0.6140350877192983, 'precision': 0.6218341991533733, 'recall': 0.6140350877192983, 'f1-score': 0.6135377552513291, 'macro_f1-score': 0.38251405887775114, 'balanced_accuracy': 0.39443865921656324, 'mcc': 0.49837962579610295, 'train_loss': 0.3461717400627013}\n",
      "Early stopping.\n",
      "\n",
      "[Fold 4]\n",
      "🚀 Using T5-paraphraser for data augmentation + under-sampling\n",
      "🔻 Under-sampling label 0: 2471 → 2000\n",
      "🔧 Augmenting label 1: 22 → 200 (+178)\n",
      "🔧 Augmenting label 2: 64 → 200 (+136)\n",
      "🔧 Augmenting label 3: 24 → 200 (+176)\n",
      "🔧 Augmenting label 4: 190 → 200 (+10)\n",
      "🔧 Augmenting label 5: 113 → 200 (+87)\n",
      "🔧 Augmenting label 6: 93 → 200 (+107)\n",
      "🔧 Augmenting label 7: 31 → 200 (+169)\n",
      "🔧 Augmenting label 8: 68 → 200 (+132)\n",
      "🔧 Augmenting label 9: 29 → 200 (+171)\n",
      "🔧 Augmenting label 10: 67 → 200 (+133)\n",
      "🔧 Augmenting label 11: 169 → 200 (+31)\n",
      "🔧 Augmenting label 12: 190 → 200 (+10)\n",
      "🔧 Augmenting label 13: 29 → 200 (+171)\n",
      "🔧 Augmenting label 14: 22 → 200 (+178)\n",
      "🔧 Augmenting label 15: 25 → 200 (+175)\n",
      "🔧 Augmenting label 16: 19 → 200 (+181)\n",
      "🔧 Augmenting label 17: 182 → 200 (+18)\n",
      "🔧 Augmenting label 18: 92 → 200 (+108)\n",
      "🔧 Augmenting label 19: 44 → 200 (+156)\n",
      "🔧 Augmenting label 20: 14 → 200 (+186)\n",
      "🔧 Augmenting label 21: 35 → 200 (+165)\n",
      "🔧 Augmenting label 22: 76 → 200 (+124)\n",
      "🔧 Augmenting label 23: 158 → 200 (+42)\n",
      "🔧 Augmenting label 24: 13 → 200 (+187)\n",
      "🔧 Augmenting label 25: 44 → 200 (+156)\n",
      "🔧 Augmenting label 26: 84 → 200 (+116)\n",
      "🔧 Augmenting label 27: 48 → 200 (+152)\n",
      "🔧 Augmenting label 28: 11 → 200 (+189)\n",
      "🔧 Augmenting label 29: 13 → 200 (+187)\n",
      "🔧 Augmenting label 30: 11 → 200 (+189)\n",
      "🔧 Augmenting label 31: 75 → 200 (+125)\n",
      "🔧 Augmenting label 32: 36 → 200 (+164)\n",
      "🔧 Augmenting label 33: 31 → 200 (+169)\n",
      "🔧 Augmenting label 34: 30 → 200 (+170)\n",
      "🔧 Augmenting label 35: 11 → 200 (+189)\n",
      "🔧 Augmenting label 36: 22 → 200 (+178)\n",
      "🔧 Augmenting label 37: 16 → 200 (+184)\n",
      "🔧 Augmenting label 38: 33 → 200 (+167)\n",
      "🔧 Augmenting label 39: 10 → 200 (+190)\n",
      "🔧 Augmenting label 40: 9 → 200 (+191)\n",
      "🔧 Augmenting label 41: 56 → 200 (+144)\n",
      "🔧 Augmenting label 42: 18 → 200 (+182)\n",
      "🔧 Augmenting label 43: 9 → 200 (+191)\n",
      "🔧 Augmenting label 44: 55 → 200 (+145)\n",
      "🔧 Augmenting label 46: 62 → 200 (+138)\n",
      "🔧 Augmenting label 47: 80 → 200 (+120)\n",
      "Label distribution after resampling:\n",
      "  label 0: 2000\n",
      "  label 1: 200\n",
      "  label 2: 200\n",
      "  label 3: 200\n",
      "  label 4: 200\n",
      "  label 5: 200\n",
      "  label 6: 200\n",
      "  label 7: 200\n",
      "  label 8: 200\n",
      "  label 9: 200\n",
      "  label 10: 200\n",
      "  label 11: 200\n",
      "  label 12: 200\n",
      "  label 13: 200\n",
      "  label 14: 200\n",
      "  label 15: 200\n",
      "  label 16: 200\n",
      "  label 17: 200\n",
      "  label 18: 200\n",
      "  label 19: 200\n",
      "  label 20: 200\n",
      "  label 21: 200\n",
      "  label 22: 200\n",
      "  label 23: 200\n",
      "  label 24: 200\n",
      "  label 25: 200\n",
      "  label 26: 200\n",
      "  label 27: 200\n",
      "  label 28: 200\n",
      "  label 29: 200\n",
      "  label 30: 200\n",
      "  label 31: 200\n",
      "  label 32: 200\n",
      "  label 33: 200\n",
      "  label 34: 200\n",
      "  label 35: 200\n",
      "  label 36: 200\n",
      "  label 37: 200\n",
      "  label 38: 200\n",
      "  label 39: 200\n",
      "  label 40: 200\n",
      "  label 41: 200\n",
      "  label 42: 200\n",
      "  label 43: 200\n",
      "  label 44: 200\n",
      "  label 45: 241\n",
      "  label 46: 200\n",
      "  label 47: 200\n",
      "model is roberta-base lstm\n"
     ]
    },
    {
     "name": "stderr",
     "output_type": "stream",
     "text": [
      "Some weights of RobertaModel were not initialized from the model checkpoint at roberta-base and are newly initialized: ['pooler.dense.bias', 'pooler.dense.weight']\n",
      "You should probably TRAIN this model on a down-stream task to be able to use it for predictions and inference.\n"
     ]
    },
    {
     "name": "stdout",
     "output_type": "stream",
     "text": [
      "Using weighted CrossEntropyLoss with weights: tensor([1.7441, 4.0466, 4.0466, 4.0466, 4.0466, 4.0466, 4.0466, 4.0466, 4.0466,\n",
      "        4.0466, 4.0466, 4.0466, 4.0466, 4.0466, 4.0466, 4.0466, 4.0466, 4.0466,\n",
      "        4.0466, 4.0466, 4.0466, 4.0466, 4.0466, 4.0466, 4.0466, 4.0466, 4.0466,\n",
      "        4.0466, 4.0466, 4.0466, 4.0466, 4.0466, 4.0466, 4.0466, 4.0466, 4.0466,\n",
      "        4.0466, 4.0466, 4.0466, 4.0466, 4.0466, 4.0466, 4.0466, 4.0466, 4.0466,\n",
      "        3.8602, 4.0466, 4.0466], device='cuda:0')\n",
      "Epoch 1/20\n"
     ]
    },
    {
     "name": "stderr",
     "output_type": "stream",
     "text": [
      "100%|██████████| 716/716 [01:07<00:00, 10.56it/s]\n"
     ]
    },
    {
     "name": "stdout",
     "output_type": "stream",
     "text": [
      "{'val_loss': 2.2550575384279576, 'val_accuracy': 0.5408085430968727, 'precision': 0.37921061118024085, 'recall': 0.5408085430968727, 'f1-score': 0.4360371551286889, 'macro_f1-score': 0.12446369505521922, 'balanced_accuracy': 0.15026276440546243, 'mcc': 0.33163682501822783, 'train_loss': 3.0618900870436065}\n",
      "Epoch 2/20\n"
     ]
    },
    {
     "name": "stderr",
     "output_type": "stream",
     "text": [
      "100%|██████████| 716/716 [01:07<00:00, 10.56it/s]\n"
     ]
    },
    {
     "name": "stdout",
     "output_type": "stream",
     "text": [
      "{'val_loss': 1.9866064779642152, 'val_accuracy': 0.5736079328756675, 'precision': 0.495485746657619, 'recall': 0.5736079328756675, 'f1-score': 0.4982097856314169, 'macro_f1-score': 0.19796883957425263, 'balanced_accuracy': 0.21575284111205342, 'mcc': 0.3897689039302767, 'train_loss': 2.0833139466173822}\n",
      "Epoch 3/20\n"
     ]
    },
    {
     "name": "stderr",
     "output_type": "stream",
     "text": [
      "100%|██████████| 716/716 [01:07<00:00, 10.56it/s]\n"
     ]
    },
    {
     "name": "stdout",
     "output_type": "stream",
     "text": [
      "{'val_loss': 1.8506502763527195, 'val_accuracy': 0.6025934401220442, 'precision': 0.6170633594607898, 'recall': 0.6025934401220442, 'f1-score': 0.572597154631435, 'macro_f1-score': 0.31963280041440967, 'balanced_accuracy': 0.3313209621113686, 'mcc': 0.45942919475012384, 'train_loss': 1.5425132924285014}\n",
      "Epoch 4/20\n"
     ]
    },
    {
     "name": "stderr",
     "output_type": "stream",
     "text": [
      "100%|██████████| 716/716 [01:07<00:00, 10.55it/s]\n"
     ]
    },
    {
     "name": "stdout",
     "output_type": "stream",
     "text": [
      "{'val_loss': 1.8912555222831122, 'val_accuracy': 0.6178489702517163, 'precision': 0.5984384139575527, 'recall': 0.6178489702517163, 'f1-score': 0.5942950503853477, 'macro_f1-score': 0.32476324453221156, 'balanced_accuracy': 0.34450339471987473, 'mcc': 0.4880376677011836, 'train_loss': 1.195266120219031}\n",
      "Epoch 5/20\n"
     ]
    },
    {
     "name": "stderr",
     "output_type": "stream",
     "text": [
      "100%|██████████| 716/716 [01:07<00:00, 10.56it/s]\n"
     ]
    },
    {
     "name": "stdout",
     "output_type": "stream",
     "text": [
      "{'val_loss': 1.8951519629577311, 'val_accuracy': 0.6094584286803967, 'precision': 0.5946189967127343, 'recall': 0.6094584286803967, 'f1-score': 0.5905342956165679, 'macro_f1-score': 0.3495207022037845, 'balanced_accuracy': 0.3961138859545579, 'mcc': 0.47852790580553417, 'train_loss': 0.9548243873404058}\n",
      "Epoch 6/20\n"
     ]
    },
    {
     "name": "stderr",
     "output_type": "stream",
     "text": [
      "100%|██████████| 716/716 [01:07<00:00, 10.55it/s]\n"
     ]
    },
    {
     "name": "stdout",
     "output_type": "stream",
     "text": [
      "{'val_loss': 1.7419461937757528, 'val_accuracy': 0.6529366895499619, 'precision': 0.6380602089155649, 'recall': 0.6529366895499619, 'f1-score': 0.6303332666619895, 'macro_f1-score': 0.4044008633777821, 'balanced_accuracy': 0.40688683544324206, 'mcc': 0.5331123626001233, 'train_loss': 0.7747559541701105}\n",
      "Epoch 7/20\n"
     ]
    },
    {
     "name": "stderr",
     "output_type": "stream",
     "text": [
      "100%|██████████| 716/716 [01:07<00:00, 10.54it/s]\n"
     ]
    },
    {
     "name": "stdout",
     "output_type": "stream",
     "text": [
      "{'val_loss': 1.8335768320574992, 'val_accuracy': 0.6209000762776506, 'precision': 0.631277455868136, 'recall': 0.6209000762776506, 'f1-score': 0.6184236054036799, 'macro_f1-score': 0.36839641250306804, 'balanced_accuracy': 0.4068620932480939, 'mcc': 0.5101117167063919, 'train_loss': 0.6247140766959117}\n",
      "Epoch 8/20\n"
     ]
    },
    {
     "name": "stderr",
     "output_type": "stream",
     "text": [
      "100%|██████████| 716/716 [01:07<00:00, 10.54it/s]\n"
     ]
    },
    {
     "name": "stdout",
     "output_type": "stream",
     "text": [
      "{'val_loss': 1.9534112720227823, 'val_accuracy': 0.6392067124332571, 'precision': 0.6426720888558477, 'recall': 0.6392067124332571, 'f1-score': 0.6244751405322402, 'macro_f1-score': 0.40571970170589156, 'balanced_accuracy': 0.414989575895006, 'mcc': 0.5191203447210083, 'train_loss': 0.544046205390432}\n",
      "Epoch 9/20\n"
     ]
    },
    {
     "name": "stderr",
     "output_type": "stream",
     "text": [
      "100%|██████████| 716/716 [01:08<00:00, 10.53it/s]\n"
     ]
    },
    {
     "name": "stdout",
     "output_type": "stream",
     "text": [
      "{'val_loss': 2.0060477972757527, 'val_accuracy': 0.6331045003813882, 'precision': 0.6359664009087429, 'recall': 0.6331045003813882, 'f1-score': 0.621364467287735, 'macro_f1-score': 0.39766880782427516, 'balanced_accuracy': 0.41008083801155354, 'mcc': 0.5136737740424753, 'train_loss': 0.4546970662780564}\n",
      "Epoch 10/20\n"
     ]
    },
    {
     "name": "stderr",
     "output_type": "stream",
     "text": [
      "100%|██████████| 716/716 [01:07<00:00, 10.53it/s]\n"
     ]
    },
    {
     "name": "stdout",
     "output_type": "stream",
     "text": [
      "{'val_loss': 2.0512633612606583, 'val_accuracy': 0.6422578184591915, 'precision': 0.6386752345508232, 'recall': 0.6422578184591915, 'f1-score': 0.6283577481398342, 'macro_f1-score': 0.3943141311463927, 'balanced_accuracy': 0.3895471834346276, 'mcc': 0.5226754947014953, 'train_loss': 0.42118219687868763}\n",
      "Epoch 11/20\n"
     ]
    },
    {
     "name": "stderr",
     "output_type": "stream",
     "text": [
      "100%|██████████| 716/716 [01:07<00:00, 10.54it/s]\n"
     ]
    },
    {
     "name": "stdout",
     "output_type": "stream",
     "text": [
      "{'val_loss': 2.071891411775496, 'val_accuracy': 0.6407322654462243, 'precision': 0.627940409379561, 'recall': 0.6407322654462243, 'f1-score': 0.6251312709861301, 'macro_f1-score': 0.39437048582417283, 'balanced_accuracy': 0.3876349831703452, 'mcc': 0.5177780451742702, 'train_loss': 0.34705264584809103}\n",
      "Early stopping.\n",
      "\n",
      "[Fold 5]\n",
      "🚀 Using T5-paraphraser for data augmentation + under-sampling\n",
      "🔻 Under-sampling label 0: 2472 → 2000\n",
      "🔧 Augmenting label 1: 21 → 200 (+179)\n",
      "🔧 Augmenting label 2: 64 → 200 (+136)\n",
      "🔧 Augmenting label 3: 24 → 200 (+176)\n",
      "🔧 Augmenting label 4: 191 → 200 (+9)\n",
      "🔧 Augmenting label 5: 112 → 200 (+88)\n",
      "🔧 Augmenting label 6: 92 → 200 (+108)\n",
      "🔧 Augmenting label 7: 31 → 200 (+169)\n",
      "🔧 Augmenting label 8: 68 → 200 (+132)\n",
      "🔧 Augmenting label 9: 29 → 200 (+171)\n",
      "🔧 Augmenting label 10: 68 → 200 (+132)\n",
      "🔧 Augmenting label 11: 168 → 200 (+32)\n",
      "🔧 Augmenting label 12: 190 → 200 (+10)\n",
      "🔧 Augmenting label 13: 29 → 200 (+171)\n",
      "🔧 Augmenting label 14: 22 → 200 (+178)\n",
      "🔧 Augmenting label 15: 25 → 200 (+175)\n",
      "🔧 Augmenting label 16: 19 → 200 (+181)\n",
      "🔧 Augmenting label 17: 183 → 200 (+17)\n",
      "🔧 Augmenting label 18: 92 → 200 (+108)\n",
      "🔧 Augmenting label 19: 44 → 200 (+156)\n",
      "🔧 Augmenting label 20: 14 → 200 (+186)\n",
      "🔧 Augmenting label 21: 35 → 200 (+165)\n",
      "🔧 Augmenting label 22: 76 → 200 (+124)\n",
      "🔧 Augmenting label 23: 158 → 200 (+42)\n",
      "🔧 Augmenting label 24: 13 → 200 (+187)\n",
      "🔧 Augmenting label 25: 44 → 200 (+156)\n",
      "🔧 Augmenting label 26: 84 → 200 (+116)\n",
      "🔧 Augmenting label 27: 48 → 200 (+152)\n",
      "🔧 Augmenting label 28: 11 → 200 (+189)\n",
      "🔧 Augmenting label 29: 13 → 200 (+187)\n",
      "🔧 Augmenting label 30: 11 → 200 (+189)\n",
      "🔧 Augmenting label 31: 75 → 200 (+125)\n",
      "🔧 Augmenting label 32: 36 → 200 (+164)\n",
      "🔧 Augmenting label 33: 31 → 200 (+169)\n",
      "🔧 Augmenting label 34: 30 → 200 (+170)\n",
      "🔧 Augmenting label 35: 11 → 200 (+189)\n",
      "🔧 Augmenting label 36: 22 → 200 (+178)\n",
      "🔧 Augmenting label 37: 16 → 200 (+184)\n",
      "🔧 Augmenting label 38: 33 → 200 (+167)\n",
      "🔧 Augmenting label 39: 10 → 200 (+190)\n",
      "🔧 Augmenting label 40: 9 → 200 (+191)\n",
      "🔧 Augmenting label 41: 57 → 200 (+143)\n",
      "🔧 Augmenting label 42: 18 → 200 (+182)\n",
      "🔧 Augmenting label 43: 9 → 200 (+191)\n",
      "🔧 Augmenting label 44: 54 → 200 (+146)\n",
      "🔧 Augmenting label 46: 61 → 200 (+139)\n",
      "🔧 Augmenting label 47: 80 → 200 (+120)\n",
      "Label distribution after resampling:\n",
      "  label 0: 2000\n",
      "  label 1: 200\n",
      "  label 2: 200\n",
      "  label 3: 200\n",
      "  label 4: 200\n",
      "  label 5: 200\n",
      "  label 6: 200\n",
      "  label 7: 200\n",
      "  label 8: 200\n",
      "  label 9: 200\n",
      "  label 10: 200\n",
      "  label 11: 200\n",
      "  label 12: 200\n",
      "  label 13: 200\n",
      "  label 14: 200\n",
      "  label 15: 200\n",
      "  label 16: 200\n",
      "  label 17: 200\n",
      "  label 18: 200\n",
      "  label 19: 200\n",
      "  label 20: 200\n",
      "  label 21: 200\n",
      "  label 22: 200\n",
      "  label 23: 200\n",
      "  label 24: 200\n",
      "  label 25: 200\n",
      "  label 26: 200\n",
      "  label 27: 200\n",
      "  label 28: 200\n",
      "  label 29: 200\n",
      "  label 30: 200\n",
      "  label 31: 200\n",
      "  label 32: 200\n",
      "  label 33: 200\n",
      "  label 34: 200\n",
      "  label 35: 200\n",
      "  label 36: 200\n",
      "  label 37: 200\n",
      "  label 38: 200\n",
      "  label 39: 200\n",
      "  label 40: 200\n",
      "  label 41: 200\n",
      "  label 42: 200\n",
      "  label 43: 200\n",
      "  label 44: 200\n",
      "  label 45: 242\n",
      "  label 46: 200\n",
      "  label 47: 200\n",
      "model is roberta-base lstm\n"
     ]
    },
    {
     "name": "stderr",
     "output_type": "stream",
     "text": [
      "Some weights of RobertaModel were not initialized from the model checkpoint at roberta-base and are newly initialized: ['pooler.dense.bias', 'pooler.dense.weight']\n",
      "You should probably TRAIN this model on a down-stream task to be able to use it for predictions and inference.\n"
     ]
    },
    {
     "name": "stdout",
     "output_type": "stream",
     "text": [
      "Using weighted CrossEntropyLoss with weights: tensor([1.7441, 4.0467, 4.0467, 4.0467, 4.0467, 4.0467, 4.0467, 4.0467, 4.0467,\n",
      "        4.0467, 4.0467, 4.0467, 4.0467, 4.0467, 4.0467, 4.0467, 4.0467, 4.0467,\n",
      "        4.0467, 4.0467, 4.0467, 4.0467, 4.0467, 4.0467, 4.0467, 4.0467, 4.0467,\n",
      "        4.0467, 4.0467, 4.0467, 4.0467, 4.0467, 4.0467, 4.0467, 4.0467, 4.0467,\n",
      "        4.0467, 4.0467, 4.0467, 4.0467, 4.0467, 4.0467, 4.0467, 4.0467, 4.0467,\n",
      "        3.8561, 4.0467, 4.0467], device='cuda:0')\n",
      "Epoch 1/20\n"
     ]
    },
    {
     "name": "stderr",
     "output_type": "stream",
     "text": [
      "100%|██████████| 716/716 [01:07<00:00, 10.54it/s]\n"
     ]
    },
    {
     "name": "stdout",
     "output_type": "stream",
     "text": [
      "{'val_loss': 3.384983109264839, 'val_accuracy': 0.47063310450038137, 'precision': 0.2214955190516669, 'recall': 0.47063310450038137, 'f1-score': 0.3012247152248292, 'macro_f1-score': 0.013334197786998616, 'balanced_accuracy': 0.020833333333333332, 'mcc': 0.0, 'train_loss': 3.6669100622891047}\n",
      "Epoch 2/20\n"
     ]
    },
    {
     "name": "stderr",
     "output_type": "stream",
     "text": [
      "100%|██████████| 716/716 [01:07<00:00, 10.56it/s]\n"
     ]
    },
    {
     "name": "stdout",
     "output_type": "stream",
     "text": [
      "{'val_loss': 3.372410974851469, 'val_accuracy': 0.47063310450038137, 'precision': 0.2214955190516669, 'recall': 0.47063310450038137, 'f1-score': 0.3012247152248292, 'macro_f1-score': 0.013334197786998616, 'balanced_accuracy': 0.020833333333333332, 'mcc': 0.0, 'train_loss': 3.658352687372176}\n",
      "Epoch 3/20\n"
     ]
    },
    {
     "name": "stderr",
     "output_type": "stream",
     "text": [
      "100%|██████████| 716/716 [01:07<00:00, 10.54it/s]\n"
     ]
    },
    {
     "name": "stdout",
     "output_type": "stream",
     "text": [
      "{'val_loss': 3.3587161069963036, 'val_accuracy': 0.47063310450038137, 'precision': 0.2214955190516669, 'recall': 0.47063310450038137, 'f1-score': 0.3012247152248292, 'macro_f1-score': 0.013334197786998616, 'balanced_accuracy': 0.020833333333333332, 'mcc': 0.0, 'train_loss': 3.654620077023959}\n",
      "Epoch 4/20\n"
     ]
    },
    {
     "name": "stderr",
     "output_type": "stream",
     "text": [
      "100%|██████████| 716/716 [01:07<00:00, 10.55it/s]\n"
     ]
    },
    {
     "name": "stdout",
     "output_type": "stream",
     "text": [
      "{'val_loss': 3.3893331085763325, 'val_accuracy': 0.47063310450038137, 'precision': 0.2214955190516669, 'recall': 0.47063310450038137, 'f1-score': 0.3012247152248292, 'macro_f1-score': 0.013334197786998616, 'balanced_accuracy': 0.020833333333333332, 'mcc': 0.0, 'train_loss': 3.6518155839190136}\n",
      "Early stopping.\n",
      "\n",
      " === roberta-base + lstm + t5 Final 5-fold Cross-Validation Results ===\n",
      "val_loss: 2.2468\n",
      "val_accuracy: 0.5901\n",
      "precision: 0.5426\n",
      "recall: 0.5901\n",
      "f1-score: 0.5483\n",
      "macro_f1-score: 0.3160\n",
      "balanced_accuracy: 0.3230\n",
      "mcc: 0.3987\n",
      "train_loss: 1.1683\n",
      "total_seconds: 23221.0000\n",
      "total_time: 6 hrs 27 mins 1 secs\n",
      "▶ Running: roberta-base + bilstm + t5\n",
      "tokenizer is roberta-base\n",
      "Using device: cuda\n",
      "CUDA Available: True\n",
      "CUDA Device: NVIDIA GeForce RTX 5070 Ti\n",
      "Current GPU Memory Allocated: 0.02 GB\n",
      "Current GPU Memory Cached: 4.02 GB\n",
      "\n",
      "[Fold 1]\n",
      "🚀 Using T5-paraphraser for data augmentation + under-sampling\n",
      "🔻 Under-sampling label 0: 2471 → 2000\n",
      "🔧 Augmenting label 1: 21 → 200 (+179)\n",
      "🔧 Augmenting label 2: 64 → 200 (+136)\n",
      "🔧 Augmenting label 3: 24 → 200 (+176)\n",
      "🔧 Augmenting label 4: 191 → 200 (+9)\n",
      "🔧 Augmenting label 5: 113 → 200 (+87)\n",
      "🔧 Augmenting label 6: 93 → 200 (+107)\n",
      "🔧 Augmenting label 7: 30 → 200 (+170)\n",
      "🔧 Augmenting label 8: 68 → 200 (+132)\n",
      "🔧 Augmenting label 9: 30 → 200 (+170)\n",
      "🔧 Augmenting label 10: 67 → 200 (+133)\n",
      "🔧 Augmenting label 11: 169 → 200 (+31)\n",
      "🔧 Augmenting label 12: 189 → 200 (+11)\n",
      "🔧 Augmenting label 13: 29 → 200 (+171)\n",
      "🔧 Augmenting label 14: 22 → 200 (+178)\n",
      "🔧 Augmenting label 15: 25 → 200 (+175)\n",
      "🔧 Augmenting label 16: 19 → 200 (+181)\n",
      "🔧 Augmenting label 17: 183 → 200 (+17)\n",
      "🔧 Augmenting label 18: 92 → 200 (+108)\n",
      "🔧 Augmenting label 19: 44 → 200 (+156)\n",
      "🔧 Augmenting label 20: 13 → 200 (+187)\n",
      "🔧 Augmenting label 21: 35 → 200 (+165)\n",
      "🔧 Augmenting label 22: 76 → 200 (+124)\n",
      "🔧 Augmenting label 23: 158 → 200 (+42)\n",
      "🔧 Augmenting label 24: 13 → 200 (+187)\n",
      "🔧 Augmenting label 25: 44 → 200 (+156)\n",
      "🔧 Augmenting label 26: 84 → 200 (+116)\n",
      "🔧 Augmenting label 27: 48 → 200 (+152)\n",
      "🔧 Augmenting label 28: 11 → 200 (+189)\n",
      "🔧 Augmenting label 29: 13 → 200 (+187)\n",
      "🔧 Augmenting label 30: 11 → 200 (+189)\n",
      "🔧 Augmenting label 31: 75 → 200 (+125)\n",
      "🔧 Augmenting label 32: 36 → 200 (+164)\n",
      "🔧 Augmenting label 33: 32 → 200 (+168)\n",
      "🔧 Augmenting label 34: 29 → 200 (+171)\n",
      "🔧 Augmenting label 35: 11 → 200 (+189)\n",
      "🔧 Augmenting label 36: 22 → 200 (+178)\n",
      "🔧 Augmenting label 37: 16 → 200 (+184)\n",
      "🔧 Augmenting label 38: 33 → 200 (+167)\n",
      "🔧 Augmenting label 39: 10 → 200 (+190)\n",
      "🔧 Augmenting label 40: 9 → 200 (+191)\n",
      "🔧 Augmenting label 41: 57 → 200 (+143)\n",
      "🔧 Augmenting label 42: 19 → 200 (+181)\n",
      "🔧 Augmenting label 43: 8 → 200 (+192)\n",
      "🔧 Augmenting label 44: 54 → 200 (+146)\n",
      "🔧 Augmenting label 46: 61 → 200 (+139)\n",
      "🔧 Augmenting label 47: 80 → 200 (+120)\n",
      "Label distribution after resampling:\n",
      "  label 0: 2000\n",
      "  label 1: 200\n",
      "  label 2: 200\n",
      "  label 3: 200\n",
      "  label 4: 200\n",
      "  label 5: 200\n",
      "  label 6: 200\n",
      "  label 7: 200\n",
      "  label 8: 200\n",
      "  label 9: 200\n",
      "  label 10: 200\n",
      "  label 11: 200\n",
      "  label 12: 200\n",
      "  label 13: 200\n",
      "  label 14: 200\n",
      "  label 15: 200\n",
      "  label 16: 200\n",
      "  label 17: 200\n",
      "  label 18: 200\n",
      "  label 19: 200\n",
      "  label 20: 200\n",
      "  label 21: 200\n",
      "  label 22: 200\n",
      "  label 23: 200\n",
      "  label 24: 200\n",
      "  label 25: 200\n",
      "  label 26: 200\n",
      "  label 27: 200\n",
      "  label 28: 200\n",
      "  label 29: 200\n",
      "  label 30: 200\n",
      "  label 31: 200\n",
      "  label 32: 200\n",
      "  label 33: 200\n",
      "  label 34: 200\n",
      "  label 35: 200\n",
      "  label 36: 200\n",
      "  label 37: 200\n",
      "  label 38: 200\n",
      "  label 39: 200\n",
      "  label 40: 200\n",
      "  label 41: 200\n",
      "  label 42: 200\n",
      "  label 43: 200\n",
      "  label 44: 200\n",
      "  label 45: 242\n",
      "  label 46: 200\n",
      "  label 47: 200\n",
      "model is roberta-base bilstm\n"
     ]
    },
    {
     "name": "stderr",
     "output_type": "stream",
     "text": [
      "Some weights of RobertaModel were not initialized from the model checkpoint at roberta-base and are newly initialized: ['pooler.dense.bias', 'pooler.dense.weight']\n",
      "You should probably TRAIN this model on a down-stream task to be able to use it for predictions and inference.\n"
     ]
    },
    {
     "name": "stdout",
     "output_type": "stream",
     "text": [
      "Using weighted CrossEntropyLoss with weights: tensor([1.7441, 4.0467, 4.0467, 4.0467, 4.0467, 4.0467, 4.0467, 4.0467, 4.0467,\n",
      "        4.0467, 4.0467, 4.0467, 4.0467, 4.0467, 4.0467, 4.0467, 4.0467, 4.0467,\n",
      "        4.0467, 4.0467, 4.0467, 4.0467, 4.0467, 4.0467, 4.0467, 4.0467, 4.0467,\n",
      "        4.0467, 4.0467, 4.0467, 4.0467, 4.0467, 4.0467, 4.0467, 4.0467, 4.0467,\n",
      "        4.0467, 4.0467, 4.0467, 4.0467, 4.0467, 4.0467, 4.0467, 4.0467, 4.0467,\n",
      "        3.8561, 4.0467, 4.0467], device='cuda:0')\n",
      "Epoch 1/20\n"
     ]
    },
    {
     "name": "stderr",
     "output_type": "stream",
     "text": [
      "100%|██████████| 716/716 [01:12<00:00,  9.86it/s]\n"
     ]
    },
    {
     "name": "stdout",
     "output_type": "stream",
     "text": [
      "{'val_loss': 2.4915343334035174, 'val_accuracy': 0.5297256097560976, 'precision': 0.3524107504606993, 'recall': 0.5297256097560976, 'f1-score': 0.40849899735974476, 'macro_f1-score': 0.0953592727167673, 'balanced_accuracy': 0.1075848970093672, 'mcc': 0.2880081085547413, 'train_loss': 3.080957780170707}\n",
      "Epoch 2/20\n"
     ]
    },
    {
     "name": "stderr",
     "output_type": "stream",
     "text": [
      "100%|██████████| 716/716 [01:13<00:00,  9.80it/s]\n"
     ]
    },
    {
     "name": "stdout",
     "output_type": "stream",
     "text": [
      "{'val_loss': 1.983137771850679, 'val_accuracy': 0.5960365853658537, 'precision': 0.5179630299722855, 'recall': 0.5960365853658537, 'f1-score': 0.5431430924402614, 'macro_f1-score': 0.24795740171181455, 'balanced_accuracy': 0.26593856058240983, 'mcc': 0.43695324899376536, 'train_loss': 2.040050932315475}\n",
      "Epoch 3/20\n"
     ]
    },
    {
     "name": "stderr",
     "output_type": "stream",
     "text": [
      "100%|██████████| 716/716 [01:12<00:00,  9.83it/s]\n"
     ]
    },
    {
     "name": "stdout",
     "output_type": "stream",
     "text": [
      "{'val_loss': 1.8924142064117804, 'val_accuracy': 0.5678353658536586, 'precision': 0.5580396296971841, 'recall': 0.5678353658536586, 'f1-score': 0.544190072611554, 'macro_f1-score': 0.2904482821229211, 'balanced_accuracy': 0.32187675270182564, 'mcc': 0.4314305076315285, 'train_loss': 1.42287075026325}\n",
      "Epoch 4/20\n"
     ]
    },
    {
     "name": "stderr",
     "output_type": "stream",
     "text": [
      "100%|██████████| 716/716 [01:13<00:00,  9.81it/s]\n"
     ]
    },
    {
     "name": "stdout",
     "output_type": "stream",
     "text": [
      "{'val_loss': 2.0040642539175546, 'val_accuracy': 0.6067073170731707, 'precision': 0.5624960313217396, 'recall': 0.6067073170731707, 'f1-score': 0.5574572762110138, 'macro_f1-score': 0.27394245055489047, 'balanced_accuracy': 0.2713946284343876, 'mcc': 0.4481367715681744, 'train_loss': 1.1050205672752924}\n",
      "Epoch 5/20\n"
     ]
    },
    {
     "name": "stderr",
     "output_type": "stream",
     "text": [
      "100%|██████████| 716/716 [01:13<00:00,  9.79it/s]\n"
     ]
    },
    {
     "name": "stdout",
     "output_type": "stream",
     "text": [
      "{'val_loss': 3.3437453217622712, 'val_accuracy': 0.47103658536585363, 'precision': 0.22187546475312311, 'recall': 0.47103658536585363, 'f1-score': 0.3016586629596866, 'macro_f1-score': 0.013341968911917098, 'balanced_accuracy': 0.020833333333333332, 'mcc': 0.0, 'train_loss': 1.8288447187391406}\n",
      "Epoch 6/20\n"
     ]
    },
    {
     "name": "stderr",
     "output_type": "stream",
     "text": [
      "100%|██████████| 716/716 [01:12<00:00,  9.89it/s]\n"
     ]
    },
    {
     "name": "stdout",
     "output_type": "stream",
     "text": [
      "{'val_loss': 3.371049503000771, 'val_accuracy': 0.47103658536585363, 'precision': 0.22187546475312311, 'recall': 0.47103658536585363, 'f1-score': 0.3016586629596866, 'macro_f1-score': 0.013341968911917098, 'balanced_accuracy': 0.020833333333333332, 'mcc': 0.0, 'train_loss': 3.6552031959235336}\n",
      "Early stopping.\n",
      "\n",
      "[Fold 2]\n",
      "🚀 Using T5-paraphraser for data augmentation + under-sampling\n",
      "🔻 Under-sampling label 0: 2471 → 2000\n",
      "🔧 Augmenting label 1: 22 → 200 (+178)\n",
      "🔧 Augmenting label 2: 64 → 200 (+136)\n",
      "🔧 Augmenting label 3: 24 → 200 (+176)\n",
      "🔧 Augmenting label 4: 190 → 200 (+10)\n",
      "🔧 Augmenting label 5: 113 → 200 (+87)\n",
      "🔧 Augmenting label 6: 93 → 200 (+107)\n",
      "🔧 Augmenting label 7: 30 → 200 (+170)\n",
      "🔧 Augmenting label 8: 68 → 200 (+132)\n",
      "🔧 Augmenting label 9: 30 → 200 (+170)\n",
      "🔧 Augmenting label 10: 67 → 200 (+133)\n",
      "🔧 Augmenting label 11: 169 → 200 (+31)\n",
      "🔧 Augmenting label 12: 189 → 200 (+11)\n",
      "🔧 Augmenting label 13: 29 → 200 (+171)\n",
      "🔧 Augmenting label 14: 23 → 200 (+177)\n",
      "🔧 Augmenting label 15: 24 → 200 (+176)\n",
      "🔧 Augmenting label 16: 20 → 200 (+180)\n",
      "🔧 Augmenting label 17: 182 → 200 (+18)\n",
      "🔧 Augmenting label 18: 92 → 200 (+108)\n",
      "🔧 Augmenting label 19: 44 → 200 (+156)\n",
      "🔧 Augmenting label 20: 13 → 200 (+187)\n",
      "🔧 Augmenting label 21: 36 → 200 (+164)\n",
      "🔧 Augmenting label 22: 76 → 200 (+124)\n",
      "🔧 Augmenting label 23: 157 → 200 (+43)\n",
      "🔧 Augmenting label 24: 12 → 200 (+188)\n",
      "🔧 Augmenting label 25: 44 → 200 (+156)\n",
      "🔧 Augmenting label 26: 84 → 200 (+116)\n",
      "🔧 Augmenting label 27: 48 → 200 (+152)\n",
      "🔧 Augmenting label 28: 12 → 200 (+188)\n",
      "🔧 Augmenting label 29: 12 → 200 (+188)\n",
      "🔧 Augmenting label 30: 12 → 200 (+188)\n",
      "🔧 Augmenting label 31: 75 → 200 (+125)\n",
      "🔧 Augmenting label 32: 36 → 200 (+164)\n",
      "🔧 Augmenting label 33: 31 → 200 (+169)\n",
      "🔧 Augmenting label 34: 29 → 200 (+171)\n",
      "🔧 Augmenting label 35: 12 → 200 (+188)\n",
      "🔧 Augmenting label 36: 21 → 200 (+179)\n",
      "🔧 Augmenting label 37: 16 → 200 (+184)\n",
      "🔧 Augmenting label 38: 33 → 200 (+167)\n",
      "🔧 Augmenting label 39: 11 → 200 (+189)\n",
      "🔧 Augmenting label 40: 8 → 200 (+192)\n",
      "🔧 Augmenting label 41: 57 → 200 (+143)\n",
      "🔧 Augmenting label 42: 19 → 200 (+181)\n",
      "🔧 Augmenting label 43: 9 → 200 (+191)\n",
      "🔧 Augmenting label 44: 54 → 200 (+146)\n",
      "🔧 Augmenting label 46: 62 → 200 (+138)\n",
      "🔧 Augmenting label 47: 80 → 200 (+120)\n",
      "Label distribution after resampling:\n",
      "  label 0: 2000\n",
      "  label 1: 200\n",
      "  label 2: 200\n",
      "  label 3: 200\n",
      "  label 4: 200\n",
      "  label 5: 200\n",
      "  label 6: 200\n",
      "  label 7: 200\n",
      "  label 8: 200\n",
      "  label 9: 200\n",
      "  label 10: 200\n",
      "  label 11: 200\n",
      "  label 12: 200\n",
      "  label 13: 200\n",
      "  label 14: 200\n",
      "  label 15: 200\n",
      "  label 16: 200\n",
      "  label 17: 200\n",
      "  label 18: 200\n",
      "  label 19: 200\n",
      "  label 20: 200\n",
      "  label 21: 200\n",
      "  label 22: 200\n",
      "  label 23: 200\n",
      "  label 24: 200\n",
      "  label 25: 200\n",
      "  label 26: 200\n",
      "  label 27: 200\n",
      "  label 28: 200\n",
      "  label 29: 200\n",
      "  label 30: 200\n",
      "  label 31: 200\n",
      "  label 32: 200\n",
      "  label 33: 200\n",
      "  label 34: 200\n",
      "  label 35: 200\n",
      "  label 36: 200\n",
      "  label 37: 200\n",
      "  label 38: 200\n",
      "  label 39: 200\n",
      "  label 40: 200\n",
      "  label 41: 200\n",
      "  label 42: 200\n",
      "  label 43: 200\n",
      "  label 44: 200\n",
      "  label 45: 242\n",
      "  label 46: 200\n",
      "  label 47: 200\n",
      "model is roberta-base bilstm\n"
     ]
    },
    {
     "name": "stderr",
     "output_type": "stream",
     "text": [
      "Some weights of RobertaModel were not initialized from the model checkpoint at roberta-base and are newly initialized: ['pooler.dense.bias', 'pooler.dense.weight']\n",
      "You should probably TRAIN this model on a down-stream task to be able to use it for predictions and inference.\n"
     ]
    },
    {
     "name": "stdout",
     "output_type": "stream",
     "text": [
      "Using weighted CrossEntropyLoss with weights: tensor([1.7441, 4.0467, 4.0467, 4.0467, 4.0467, 4.0467, 4.0467, 4.0467, 4.0467,\n",
      "        4.0467, 4.0467, 4.0467, 4.0467, 4.0467, 4.0467, 4.0467, 4.0467, 4.0467,\n",
      "        4.0467, 4.0467, 4.0467, 4.0467, 4.0467, 4.0467, 4.0467, 4.0467, 4.0467,\n",
      "        4.0467, 4.0467, 4.0467, 4.0467, 4.0467, 4.0467, 4.0467, 4.0467, 4.0467,\n",
      "        4.0467, 4.0467, 4.0467, 4.0467, 4.0467, 4.0467, 4.0467, 4.0467, 4.0467,\n",
      "        3.8561, 4.0467, 4.0467], device='cuda:0')\n",
      "Epoch 1/20\n"
     ]
    },
    {
     "name": "stderr",
     "output_type": "stream",
     "text": [
      "100%|██████████| 716/716 [01:12<00:00,  9.87it/s]\n"
     ]
    },
    {
     "name": "stdout",
     "output_type": "stream",
     "text": [
      "{'val_loss': 2.428687928653345, 'val_accuracy': 0.5354691075514875, 'precision': 0.37842367842989955, 'recall': 0.5354691075514875, 'f1-score': 0.43586945656993986, 'macro_f1-score': 0.111617384824148, 'balanced_accuracy': 0.16867967484763713, 'mcc': 0.32818260504105756, 'train_loss': 3.124655664966093}\n",
      "Epoch 2/20\n"
     ]
    },
    {
     "name": "stderr",
     "output_type": "stream",
     "text": [
      "100%|██████████| 716/716 [01:12<00:00,  9.86it/s]\n"
     ]
    },
    {
     "name": "stdout",
     "output_type": "stream",
     "text": [
      "{'val_loss': 2.0555726624116666, 'val_accuracy': 0.5850495804729214, 'precision': 0.48622463828243345, 'recall': 0.5850495804729214, 'f1-score': 0.4988244265190613, 'macro_f1-score': 0.20109208631836606, 'balanced_accuracy': 0.22333803120569237, 'mcc': 0.40497823322375703, 'train_loss': 2.144863186019093}\n",
      "Epoch 3/20\n"
     ]
    },
    {
     "name": "stderr",
     "output_type": "stream",
     "text": [
      "100%|██████████| 716/716 [01:12<00:00,  9.85it/s]\n"
     ]
    },
    {
     "name": "stdout",
     "output_type": "stream",
     "text": [
      "{'val_loss': 1.7628157284201644, 'val_accuracy': 0.5873379099923722, 'precision': 0.5546907505004369, 'recall': 0.5873379099923722, 'f1-score': 0.5542644270007033, 'macro_f1-score': 0.2610905125054186, 'balanced_accuracy': 0.2980148646821548, 'mcc': 0.4479103249916469, 'train_loss': 1.588253887422258}\n",
      "Epoch 4/20\n"
     ]
    },
    {
     "name": "stderr",
     "output_type": "stream",
     "text": [
      "100%|██████████| 716/716 [01:12<00:00,  9.81it/s]\n"
     ]
    },
    {
     "name": "stdout",
     "output_type": "stream",
     "text": [
      "{'val_loss': 1.755511133409128, 'val_accuracy': 0.6086956521739131, 'precision': 0.6046632521841335, 'recall': 0.6086956521739131, 'f1-score': 0.5987614572211774, 'macro_f1-score': 0.3323913303239812, 'balanced_accuracy': 0.3637976061644353, 'mcc': 0.4860424845836012, 'train_loss': 1.2193025973672307}\n",
      "Epoch 5/20\n"
     ]
    },
    {
     "name": "stderr",
     "output_type": "stream",
     "text": [
      "100%|██████████| 716/716 [01:12<00:00,  9.83it/s]\n"
     ]
    },
    {
     "name": "stdout",
     "output_type": "stream",
     "text": [
      "{'val_loss': 1.6763035742247976, 'val_accuracy': 0.6079328756674295, 'precision': 0.6133533690844759, 'recall': 0.6079328756674295, 'f1-score': 0.601342315634513, 'macro_f1-score': 0.33659089714376483, 'balanced_accuracy': 0.37280187396953585, 'mcc': 0.49799260227942704, 'train_loss': 0.9510317881014094}\n",
      "Epoch 6/20\n"
     ]
    },
    {
     "name": "stderr",
     "output_type": "stream",
     "text": [
      "100%|██████████| 716/716 [01:12<00:00,  9.88it/s]\n"
     ]
    },
    {
     "name": "stdout",
     "output_type": "stream",
     "text": [
      "{'val_loss': 1.7095235658854973, 'val_accuracy': 0.6453089244851259, 'precision': 0.6145478333277389, 'recall': 0.6453089244851259, 'f1-score': 0.61346629913625, 'macro_f1-score': 0.37085702062535014, 'balanced_accuracy': 0.3506744303016091, 'mcc': 0.5200704352582485, 'train_loss': 0.7404681539901808}\n",
      "Epoch 7/20\n"
     ]
    },
    {
     "name": "stderr",
     "output_type": "stream",
     "text": [
      "100%|██████████| 716/716 [01:12<00:00,  9.86it/s]\n"
     ]
    },
    {
     "name": "stdout",
     "output_type": "stream",
     "text": [
      "{'val_loss': 1.793537857328973, 'val_accuracy': 0.601067887109077, 'precision': 0.6376271876603762, 'recall': 0.601067887109077, 'f1-score': 0.6093655093476549, 'macro_f1-score': 0.35957461409286945, 'balanced_accuracy': 0.3974922398791764, 'mcc': 0.5020494268181456, 'train_loss': 0.5868254954921467}\n",
      "Epoch 8/20\n"
     ]
    },
    {
     "name": "stderr",
     "output_type": "stream",
     "text": [
      "100%|██████████| 716/716 [01:12<00:00,  9.81it/s]\n"
     ]
    },
    {
     "name": "stdout",
     "output_type": "stream",
     "text": [
      "{'val_loss': 1.8004815127791427, 'val_accuracy': 0.6498855835240275, 'precision': 0.646490076053692, 'recall': 0.6498855835240275, 'f1-score': 0.6397746266153093, 'macro_f1-score': 0.3953010488431186, 'balanced_accuracy': 0.4153495222237997, 'mcc': 0.5358055335723787, 'train_loss': 0.4933590423731997}\n",
      "Epoch 9/20\n"
     ]
    },
    {
     "name": "stderr",
     "output_type": "stream",
     "text": [
      "100%|██████████| 716/716 [01:13<00:00,  9.79it/s]\n"
     ]
    },
    {
     "name": "stdout",
     "output_type": "stream",
     "text": [
      "{'val_loss': 1.9973766880064476, 'val_accuracy': 0.6147978642257819, 'precision': 0.6172922033110498, 'recall': 0.6147978642257819, 'f1-score': 0.598544188011335, 'macro_f1-score': 0.34107912590143635, 'balanced_accuracy': 0.34065411403267826, 'mcc': 0.48981991458424723, 'train_loss': 0.4327965787034378}\n",
      "Epoch 10/20\n"
     ]
    },
    {
     "name": "stderr",
     "output_type": "stream",
     "text": [
      "100%|██████████| 716/716 [01:12<00:00,  9.82it/s]\n"
     ]
    },
    {
     "name": "stdout",
     "output_type": "stream",
     "text": [
      "{'val_loss': 1.8632446127693827, 'val_accuracy': 0.6674294431731502, 'precision': 0.6413028239303903, 'recall': 0.6674294431731502, 'f1-score': 0.646467273563638, 'macro_f1-score': 0.38318773934312006, 'balanced_accuracy': 0.3986157954024561, 'mcc': 0.5539764069896745, 'train_loss': 0.3435960305937925}\n",
      "Epoch 11/20\n"
     ]
    },
    {
     "name": "stderr",
     "output_type": "stream",
     "text": [
      "100%|██████████| 716/716 [01:12<00:00,  9.83it/s]\n"
     ]
    },
    {
     "name": "stdout",
     "output_type": "stream",
     "text": [
      "{'val_loss': 1.9926618693805322, 'val_accuracy': 0.5751334858886347, 'precision': 0.6513731736927184, 'recall': 0.5751334858886347, 'f1-score': 0.5953574979180851, 'macro_f1-score': 0.386924456179422, 'balanced_accuracy': 0.4428943314146753, 'mcc': 0.48738398486185674, 'train_loss': 0.28053175760485105}\n",
      "Early stopping.\n",
      "\n",
      "[Fold 3]\n",
      "🚀 Using T5-paraphraser for data augmentation + under-sampling\n",
      "🔻 Under-sampling label 0: 2471 → 2000\n",
      "🔧 Augmenting label 1: 22 → 200 (+178)\n",
      "🔧 Augmenting label 2: 64 → 200 (+136)\n",
      "🔧 Augmenting label 3: 24 → 200 (+176)\n",
      "🔧 Augmenting label 4: 190 → 200 (+10)\n",
      "🔧 Augmenting label 5: 113 → 200 (+87)\n",
      "🔧 Augmenting label 6: 93 → 200 (+107)\n",
      "🔧 Augmenting label 7: 30 → 200 (+170)\n",
      "🔧 Augmenting label 8: 68 → 200 (+132)\n",
      "🔧 Augmenting label 9: 30 → 200 (+170)\n",
      "🔧 Augmenting label 10: 67 → 200 (+133)\n",
      "🔧 Augmenting label 11: 169 → 200 (+31)\n",
      "🔧 Augmenting label 12: 190 → 200 (+10)\n",
      "🔧 Augmenting label 13: 28 → 200 (+172)\n",
      "🔧 Augmenting label 14: 23 → 200 (+177)\n",
      "🔧 Augmenting label 15: 25 → 200 (+175)\n",
      "🔧 Augmenting label 16: 19 → 200 (+181)\n",
      "🔧 Augmenting label 17: 182 → 200 (+18)\n",
      "🔧 Augmenting label 18: 92 → 200 (+108)\n",
      "🔧 Augmenting label 19: 44 → 200 (+156)\n",
      "🔧 Augmenting label 20: 14 → 200 (+186)\n",
      "🔧 Augmenting label 21: 35 → 200 (+165)\n",
      "🔧 Augmenting label 22: 76 → 200 (+124)\n",
      "🔧 Augmenting label 23: 157 → 200 (+43)\n",
      "🔧 Augmenting label 24: 13 → 200 (+187)\n",
      "🔧 Augmenting label 25: 44 → 200 (+156)\n",
      "🔧 Augmenting label 26: 84 → 200 (+116)\n",
      "🔧 Augmenting label 27: 48 → 200 (+152)\n",
      "🔧 Augmenting label 28: 11 → 200 (+189)\n",
      "🔧 Augmenting label 29: 13 → 200 (+187)\n",
      "🔧 Augmenting label 30: 11 → 200 (+189)\n",
      "🔧 Augmenting label 31: 76 → 200 (+124)\n",
      "🔧 Augmenting label 32: 36 → 200 (+164)\n",
      "🔧 Augmenting label 33: 31 → 200 (+169)\n",
      "🔧 Augmenting label 34: 30 → 200 (+170)\n",
      "🔧 Augmenting label 35: 11 → 200 (+189)\n",
      "🔧 Augmenting label 36: 21 → 200 (+179)\n",
      "🔧 Augmenting label 37: 16 → 200 (+184)\n",
      "🔧 Augmenting label 38: 32 → 200 (+168)\n",
      "🔧 Augmenting label 39: 11 → 200 (+189)\n",
      "🔧 Augmenting label 40: 9 → 200 (+191)\n",
      "🔧 Augmenting label 41: 57 → 200 (+143)\n",
      "🔧 Augmenting label 42: 18 → 200 (+182)\n",
      "🔧 Augmenting label 43: 9 → 200 (+191)\n",
      "🔧 Augmenting label 44: 55 → 200 (+145)\n",
      "🔧 Augmenting label 46: 62 → 200 (+138)\n",
      "🔧 Augmenting label 47: 80 → 200 (+120)\n",
      "Label distribution after resampling:\n",
      "  label 0: 2000\n",
      "  label 1: 200\n",
      "  label 2: 200\n",
      "  label 3: 200\n",
      "  label 4: 200\n",
      "  label 5: 200\n",
      "  label 6: 200\n",
      "  label 7: 200\n",
      "  label 8: 200\n",
      "  label 9: 200\n",
      "  label 10: 200\n",
      "  label 11: 200\n",
      "  label 12: 200\n",
      "  label 13: 200\n",
      "  label 14: 200\n",
      "  label 15: 200\n",
      "  label 16: 200\n",
      "  label 17: 200\n",
      "  label 18: 200\n",
      "  label 19: 200\n",
      "  label 20: 200\n",
      "  label 21: 200\n",
      "  label 22: 200\n",
      "  label 23: 200\n",
      "  label 24: 200\n",
      "  label 25: 200\n",
      "  label 26: 200\n",
      "  label 27: 200\n",
      "  label 28: 200\n",
      "  label 29: 200\n",
      "  label 30: 200\n",
      "  label 31: 200\n",
      "  label 32: 200\n",
      "  label 33: 200\n",
      "  label 34: 200\n",
      "  label 35: 200\n",
      "  label 36: 200\n",
      "  label 37: 200\n",
      "  label 38: 200\n",
      "  label 39: 200\n",
      "  label 40: 200\n",
      "  label 41: 200\n",
      "  label 42: 200\n",
      "  label 43: 200\n",
      "  label 44: 200\n",
      "  label 45: 241\n",
      "  label 46: 200\n",
      "  label 47: 200\n",
      "model is roberta-base bilstm\n"
     ]
    },
    {
     "name": "stderr",
     "output_type": "stream",
     "text": [
      "Some weights of RobertaModel were not initialized from the model checkpoint at roberta-base and are newly initialized: ['pooler.dense.bias', 'pooler.dense.weight']\n",
      "You should probably TRAIN this model on a down-stream task to be able to use it for predictions and inference.\n"
     ]
    },
    {
     "name": "stdout",
     "output_type": "stream",
     "text": [
      "Using weighted CrossEntropyLoss with weights: tensor([1.7441, 4.0466, 4.0466, 4.0466, 4.0466, 4.0466, 4.0466, 4.0466, 4.0466,\n",
      "        4.0466, 4.0466, 4.0466, 4.0466, 4.0466, 4.0466, 4.0466, 4.0466, 4.0466,\n",
      "        4.0466, 4.0466, 4.0466, 4.0466, 4.0466, 4.0466, 4.0466, 4.0466, 4.0466,\n",
      "        4.0466, 4.0466, 4.0466, 4.0466, 4.0466, 4.0466, 4.0466, 4.0466, 4.0466,\n",
      "        4.0466, 4.0466, 4.0466, 4.0466, 4.0466, 4.0466, 4.0466, 4.0466, 4.0466,\n",
      "        3.8602, 4.0466, 4.0466], device='cuda:0')\n",
      "Epoch 1/20\n"
     ]
    },
    {
     "name": "stderr",
     "output_type": "stream",
     "text": [
      "100%|██████████| 716/716 [01:12<00:00,  9.84it/s]\n"
     ]
    },
    {
     "name": "stdout",
     "output_type": "stream",
     "text": [
      "{'val_loss': 3.3715358332889838, 'val_accuracy': 0.47139588100686497, 'precision': 0.2222140766302384, 'recall': 0.47139588100686497, 'f1-score': 0.302045261236125, 'macro_f1-score': 0.01334888543286677, 'balanced_accuracy': 0.020833333333333332, 'mcc': 0.0, 'train_loss': 3.6578860326186238}\n",
      "Epoch 2/20\n"
     ]
    },
    {
     "name": "stderr",
     "output_type": "stream",
     "text": [
      "100%|██████████| 716/716 [01:12<00:00,  9.84it/s]\n"
     ]
    },
    {
     "name": "stdout",
     "output_type": "stream",
     "text": [
      "{'val_loss': 3.3292735291690363, 'val_accuracy': 0.47139588100686497, 'precision': 0.2222140766302384, 'recall': 0.47139588100686497, 'f1-score': 0.302045261236125, 'macro_f1-score': 0.01334888543286677, 'balanced_accuracy': 0.020833333333333332, 'mcc': 0.0, 'train_loss': 3.651013216159863}\n",
      "Epoch 3/20\n"
     ]
    },
    {
     "name": "stderr",
     "output_type": "stream",
     "text": [
      "100%|██████████| 716/716 [01:12<00:00,  9.85it/s]\n"
     ]
    },
    {
     "name": "stdout",
     "output_type": "stream",
     "text": [
      "{'val_loss': 3.3583124905097774, 'val_accuracy': 0.47139588100686497, 'precision': 0.2222140766302384, 'recall': 0.47139588100686497, 'f1-score': 0.302045261236125, 'macro_f1-score': 0.01334888543286677, 'balanced_accuracy': 0.020833333333333332, 'mcc': 0.0, 'train_loss': 3.6505709397060246}\n",
      "Epoch 4/20\n"
     ]
    },
    {
     "name": "stderr",
     "output_type": "stream",
     "text": [
      "100%|██████████| 716/716 [01:12<00:00,  9.88it/s]\n"
     ]
    },
    {
     "name": "stdout",
     "output_type": "stream",
     "text": [
      "{'val_loss': 3.3757621747691458, 'val_accuracy': 0.47139588100686497, 'precision': 0.2222140766302384, 'recall': 0.47139588100686497, 'f1-score': 0.302045261236125, 'macro_f1-score': 0.01334888543286677, 'balanced_accuracy': 0.020833333333333332, 'mcc': 0.0, 'train_loss': 3.6493146672595147}\n",
      "Early stopping.\n",
      "\n",
      "[Fold 4]\n",
      "🚀 Using T5-paraphraser for data augmentation + under-sampling\n",
      "🔻 Under-sampling label 0: 2471 → 2000\n",
      "🔧 Augmenting label 1: 22 → 200 (+178)\n",
      "🔧 Augmenting label 2: 64 → 200 (+136)\n",
      "🔧 Augmenting label 3: 24 → 200 (+176)\n",
      "🔧 Augmenting label 4: 190 → 200 (+10)\n",
      "🔧 Augmenting label 5: 113 → 200 (+87)\n",
      "🔧 Augmenting label 6: 93 → 200 (+107)\n",
      "🔧 Augmenting label 7: 31 → 200 (+169)\n",
      "🔧 Augmenting label 8: 68 → 200 (+132)\n",
      "🔧 Augmenting label 9: 29 → 200 (+171)\n",
      "🔧 Augmenting label 10: 67 → 200 (+133)\n",
      "🔧 Augmenting label 11: 169 → 200 (+31)\n",
      "🔧 Augmenting label 12: 190 → 200 (+10)\n",
      "🔧 Augmenting label 13: 29 → 200 (+171)\n",
      "🔧 Augmenting label 14: 22 → 200 (+178)\n",
      "🔧 Augmenting label 15: 25 → 200 (+175)\n",
      "🔧 Augmenting label 16: 19 → 200 (+181)\n",
      "🔧 Augmenting label 17: 182 → 200 (+18)\n",
      "🔧 Augmenting label 18: 92 → 200 (+108)\n",
      "🔧 Augmenting label 19: 44 → 200 (+156)\n",
      "🔧 Augmenting label 20: 14 → 200 (+186)\n",
      "🔧 Augmenting label 21: 35 → 200 (+165)\n",
      "🔧 Augmenting label 22: 76 → 200 (+124)\n",
      "🔧 Augmenting label 23: 158 → 200 (+42)\n",
      "🔧 Augmenting label 24: 13 → 200 (+187)\n",
      "🔧 Augmenting label 25: 44 → 200 (+156)\n",
      "🔧 Augmenting label 26: 84 → 200 (+116)\n",
      "🔧 Augmenting label 27: 48 → 200 (+152)\n",
      "🔧 Augmenting label 28: 11 → 200 (+189)\n",
      "🔧 Augmenting label 29: 13 → 200 (+187)\n",
      "🔧 Augmenting label 30: 11 → 200 (+189)\n",
      "🔧 Augmenting label 31: 75 → 200 (+125)\n",
      "🔧 Augmenting label 32: 36 → 200 (+164)\n",
      "🔧 Augmenting label 33: 31 → 200 (+169)\n",
      "🔧 Augmenting label 34: 30 → 200 (+170)\n",
      "🔧 Augmenting label 35: 11 → 200 (+189)\n",
      "🔧 Augmenting label 36: 22 → 200 (+178)\n",
      "🔧 Augmenting label 37: 16 → 200 (+184)\n",
      "🔧 Augmenting label 38: 33 → 200 (+167)\n",
      "🔧 Augmenting label 39: 10 → 200 (+190)\n",
      "🔧 Augmenting label 40: 9 → 200 (+191)\n",
      "🔧 Augmenting label 41: 56 → 200 (+144)\n",
      "🔧 Augmenting label 42: 18 → 200 (+182)\n",
      "🔧 Augmenting label 43: 9 → 200 (+191)\n",
      "🔧 Augmenting label 44: 55 → 200 (+145)\n",
      "🔧 Augmenting label 46: 62 → 200 (+138)\n",
      "🔧 Augmenting label 47: 80 → 200 (+120)\n",
      "Label distribution after resampling:\n",
      "  label 0: 2000\n",
      "  label 1: 200\n",
      "  label 2: 200\n",
      "  label 3: 200\n",
      "  label 4: 200\n",
      "  label 5: 200\n",
      "  label 6: 200\n",
      "  label 7: 200\n",
      "  label 8: 200\n",
      "  label 9: 200\n",
      "  label 10: 200\n",
      "  label 11: 200\n",
      "  label 12: 200\n",
      "  label 13: 200\n",
      "  label 14: 200\n",
      "  label 15: 200\n",
      "  label 16: 200\n",
      "  label 17: 200\n",
      "  label 18: 200\n",
      "  label 19: 200\n",
      "  label 20: 200\n",
      "  label 21: 200\n",
      "  label 22: 200\n",
      "  label 23: 200\n",
      "  label 24: 200\n",
      "  label 25: 200\n",
      "  label 26: 200\n",
      "  label 27: 200\n",
      "  label 28: 200\n",
      "  label 29: 200\n",
      "  label 30: 200\n",
      "  label 31: 200\n",
      "  label 32: 200\n",
      "  label 33: 200\n",
      "  label 34: 200\n",
      "  label 35: 200\n",
      "  label 36: 200\n",
      "  label 37: 200\n",
      "  label 38: 200\n",
      "  label 39: 200\n",
      "  label 40: 200\n",
      "  label 41: 200\n",
      "  label 42: 200\n",
      "  label 43: 200\n",
      "  label 44: 200\n",
      "  label 45: 241\n",
      "  label 46: 200\n",
      "  label 47: 200\n",
      "model is roberta-base bilstm\n"
     ]
    },
    {
     "name": "stderr",
     "output_type": "stream",
     "text": [
      "Some weights of RobertaModel were not initialized from the model checkpoint at roberta-base and are newly initialized: ['pooler.dense.bias', 'pooler.dense.weight']\n",
      "You should probably TRAIN this model on a down-stream task to be able to use it for predictions and inference.\n"
     ]
    },
    {
     "name": "stdout",
     "output_type": "stream",
     "text": [
      "Using weighted CrossEntropyLoss with weights: tensor([1.7441, 4.0466, 4.0466, 4.0466, 4.0466, 4.0466, 4.0466, 4.0466, 4.0466,\n",
      "        4.0466, 4.0466, 4.0466, 4.0466, 4.0466, 4.0466, 4.0466, 4.0466, 4.0466,\n",
      "        4.0466, 4.0466, 4.0466, 4.0466, 4.0466, 4.0466, 4.0466, 4.0466, 4.0466,\n",
      "        4.0466, 4.0466, 4.0466, 4.0466, 4.0466, 4.0466, 4.0466, 4.0466, 4.0466,\n",
      "        4.0466, 4.0466, 4.0466, 4.0466, 4.0466, 4.0466, 4.0466, 4.0466, 4.0466,\n",
      "        3.8602, 4.0466, 4.0466], device='cuda:0')\n",
      "Epoch 1/20\n"
     ]
    },
    {
     "name": "stderr",
     "output_type": "stream",
     "text": [
      "100%|██████████| 716/716 [01:12<00:00,  9.85it/s]\n"
     ]
    },
    {
     "name": "stdout",
     "output_type": "stream",
     "text": [
      "{'val_loss': 2.7437639672581744, 'val_accuracy': 0.45308924485125857, 'precision': 0.354903276700565, 'recall': 0.45308924485125857, 'f1-score': 0.3924532995010182, 'macro_f1-score': 0.04421315375499595, 'balanced_accuracy': 0.08903190189615257, 'mcc': 0.26044496671952094, 'train_loss': 3.269414604376148}\n",
      "Epoch 2/20\n"
     ]
    },
    {
     "name": "stderr",
     "output_type": "stream",
     "text": [
      "100%|██████████| 716/716 [01:12<00:00,  9.86it/s]\n"
     ]
    },
    {
     "name": "stdout",
     "output_type": "stream",
     "text": [
      "{'val_loss': 2.564545438057039, 'val_accuracy': 0.4813119755911518, 'precision': 0.3471761713013538, 'recall': 0.4813119755911518, 'f1-score': 0.391458670740386, 'macro_f1-score': 0.058694582269546235, 'balanced_accuracy': 0.08985986275990217, 'mcc': 0.23161847761716117, 'train_loss': 2.96998942023216}\n",
      "Epoch 3/20\n"
     ]
    },
    {
     "name": "stderr",
     "output_type": "stream",
     "text": [
      "100%|██████████| 716/716 [01:12<00:00,  9.86it/s]\n"
     ]
    },
    {
     "name": "stdout",
     "output_type": "stream",
     "text": [
      "{'val_loss': 2.5095689049581202, 'val_accuracy': 0.4576659038901602, 'precision': 0.37991783973287585, 'recall': 0.4576659038901602, 'f1-score': 0.4095739156174914, 'macro_f1-score': 0.07697526414249417, 'balanced_accuracy': 0.10406423519634138, 'mcc': 0.2521707358551857, 'train_loss': 2.6892669538878864}\n",
      "Epoch 4/20\n"
     ]
    },
    {
     "name": "stderr",
     "output_type": "stream",
     "text": [
      "100%|██████████| 716/716 [01:12<00:00,  9.86it/s]\n"
     ]
    },
    {
     "name": "stdout",
     "output_type": "stream",
     "text": [
      "{'val_loss': 2.3089887848714503, 'val_accuracy': 0.5339435545385202, 'precision': 0.3898654098620866, 'recall': 0.5339435545385202, 'f1-score': 0.4422346948919339, 'macro_f1-score': 0.11542337521588313, 'balanced_accuracy': 0.1414283256503638, 'mcc': 0.32504211989144066, 'train_loss': 2.3349864441256285}\n",
      "Epoch 5/20\n"
     ]
    },
    {
     "name": "stderr",
     "output_type": "stream",
     "text": [
      "100%|██████████| 716/716 [01:12<00:00,  9.84it/s]\n"
     ]
    },
    {
     "name": "stdout",
     "output_type": "stream",
     "text": [
      "{'val_loss': 2.0509272428547463, 'val_accuracy': 0.5720823798627003, 'precision': 0.45705514770232086, 'recall': 0.5720823798627003, 'f1-score': 0.49701049521180124, 'macro_f1-score': 0.19854803779182797, 'balanced_accuracy': 0.20062895256393273, 'mcc': 0.39656824051827616, 'train_loss': 2.055771821246134}\n",
      "Epoch 6/20\n"
     ]
    },
    {
     "name": "stderr",
     "output_type": "stream",
     "text": [
      "100%|██████████| 716/716 [01:12<00:00,  9.84it/s]\n"
     ]
    },
    {
     "name": "stdout",
     "output_type": "stream",
     "text": [
      "{'val_loss': 2.083581879734993, 'val_accuracy': 0.566742944317315, 'precision': 0.4981828100833356, 'recall': 0.566742944317315, 'f1-score': 0.5030241974542341, 'macro_f1-score': 0.22512235197178376, 'balanced_accuracy': 0.24973531396975393, 'mcc': 0.39069533066426493, 'train_loss': 1.797855115386361}\n",
      "Epoch 7/20\n"
     ]
    },
    {
     "name": "stderr",
     "output_type": "stream",
     "text": [
      "100%|██████████| 716/716 [01:12<00:00,  9.85it/s]\n"
     ]
    },
    {
     "name": "stdout",
     "output_type": "stream",
     "text": [
      "{'val_loss': 1.979783156659545, 'val_accuracy': 0.5873379099923722, 'precision': 0.5271214918598025, 'recall': 0.5873379099923722, 'f1-score': 0.5392144746836316, 'macro_f1-score': 0.26074786997459093, 'balanced_accuracy': 0.26737228179893985, 'mcc': 0.42951079483694876, 'train_loss': 1.5684326130418138}\n",
      "Epoch 8/20\n"
     ]
    },
    {
     "name": "stderr",
     "output_type": "stream",
     "text": [
      "100%|██████████| 716/716 [01:12<00:00,  9.88it/s]\n"
     ]
    },
    {
     "name": "stdout",
     "output_type": "stream",
     "text": [
      "{'val_loss': 1.9906557613029712, 'val_accuracy': 0.5736079328756675, 'precision': 0.5416514437691327, 'recall': 0.5736079328756675, 'f1-score': 0.5381929285745367, 'macro_f1-score': 0.26808516744688166, 'balanced_accuracy': 0.283778410955588, 'mcc': 0.4270690492843038, 'train_loss': 1.3344762565869859}\n",
      "Epoch 9/20\n"
     ]
    },
    {
     "name": "stderr",
     "output_type": "stream",
     "text": [
      "100%|██████████| 716/716 [01:12<00:00,  9.84it/s]\n"
     ]
    },
    {
     "name": "stdout",
     "output_type": "stream",
     "text": [
      "{'val_loss': 1.931390130301801, 'val_accuracy': 0.6003051106025934, 'precision': 0.5739709861452378, 'recall': 0.6003051106025934, 'f1-score': 0.5636019153896595, 'macro_f1-score': 0.2828355792241141, 'balanced_accuracy': 0.29488283017019795, 'mcc': 0.45560103975676636, 'train_loss': 1.157830163399434}\n",
      "Epoch 10/20\n"
     ]
    },
    {
     "name": "stderr",
     "output_type": "stream",
     "text": [
      "100%|██████████| 716/716 [01:12<00:00,  9.83it/s]\n"
     ]
    },
    {
     "name": "stdout",
     "output_type": "stream",
     "text": [
      "{'val_loss': 1.900095356673729, 'val_accuracy': 0.5980167810831426, 'precision': 0.587004685732355, 'recall': 0.5980167810831426, 'f1-score': 0.5830903677975208, 'macro_f1-score': 0.3117169252922502, 'balanced_accuracy': 0.3180686943887451, 'mcc': 0.47450406950691804, 'train_loss': 1.0006325520450177}\n",
      "Epoch 11/20\n"
     ]
    },
    {
     "name": "stderr",
     "output_type": "stream",
     "text": [
      "100%|██████████| 716/716 [01:13<00:00,  9.81it/s]\n"
     ]
    },
    {
     "name": "stdout",
     "output_type": "stream",
     "text": [
      "{'val_loss': 1.9300607457393553, 'val_accuracy': 0.6003051106025934, 'precision': 0.604710395523529, 'recall': 0.6003051106025934, 'f1-score': 0.593719871843837, 'macro_f1-score': 0.3491287490029813, 'balanced_accuracy': 0.37667161628621515, 'mcc': 0.48564174531943693, 'train_loss': 0.8606798695660504}\n",
      "Epoch 12/20\n"
     ]
    },
    {
     "name": "stderr",
     "output_type": "stream",
     "text": [
      "100%|██████████| 716/716 [01:12<00:00,  9.85it/s]\n"
     ]
    },
    {
     "name": "stdout",
     "output_type": "stream",
     "text": [
      "{'val_loss': 1.9766043217443838, 'val_accuracy': 0.6125095347063311, 'precision': 0.6247611174220129, 'recall': 0.6125095347063311, 'f1-score': 0.608592123604021, 'macro_f1-score': 0.3711772422344041, 'balanced_accuracy': 0.39155222901532016, 'mcc': 0.4947285236280179, 'train_loss': 0.7331182806435244}\n",
      "Epoch 13/20\n"
     ]
    },
    {
     "name": "stderr",
     "output_type": "stream",
     "text": [
      "100%|██████████| 716/716 [01:12<00:00,  9.84it/s]\n"
     ]
    },
    {
     "name": "stdout",
     "output_type": "stream",
     "text": [
      "{'val_loss': 2.1552213415866945, 'val_accuracy': 0.5583524027459954, 'precision': 0.6017271849119696, 'recall': 0.5583524027459954, 'f1-score': 0.5650945658757941, 'macro_f1-score': 0.34984695102279567, 'balanced_accuracy': 0.39756261365448253, 'mcc': 0.4516936519125054, 'train_loss': 0.6522293176512395}\n",
      "Epoch 14/20\n"
     ]
    },
    {
     "name": "stderr",
     "output_type": "stream",
     "text": [
      "100%|██████████| 716/716 [01:13<00:00,  9.81it/s]\n"
     ]
    },
    {
     "name": "stdout",
     "output_type": "stream",
     "text": [
      "{'val_loss': 2.183445137448427, 'val_accuracy': 0.5911517925247902, 'precision': 0.622260660371531, 'recall': 0.5911517925247902, 'f1-score': 0.5905562138525823, 'macro_f1-score': 0.3496683061121806, 'balanced_accuracy': 0.3543049232078978, 'mcc': 0.4700599052844376, 'train_loss': 0.611966078385565}\n",
      "Epoch 15/20\n"
     ]
    },
    {
     "name": "stderr",
     "output_type": "stream",
     "text": [
      "100%|██████████| 716/716 [01:12<00:00,  9.88it/s]\n"
     ]
    },
    {
     "name": "stdout",
     "output_type": "stream",
     "text": [
      "{'val_loss': 2.070750357901178, 'val_accuracy': 0.5949656750572082, 'precision': 0.6254164889835546, 'recall': 0.5949656750572082, 'f1-score': 0.5996935489312215, 'macro_f1-score': 0.3793312844328123, 'balanced_accuracy': 0.4096848743029197, 'mcc': 0.4863346052053805, 'train_loss': 0.5656402179471857}\n",
      "Epoch 16/20\n"
     ]
    },
    {
     "name": "stderr",
     "output_type": "stream",
     "text": [
      "100%|██████████| 716/716 [01:12<00:00,  9.85it/s]\n"
     ]
    },
    {
     "name": "stdout",
     "output_type": "stream",
     "text": [
      "{'val_loss': 2.0027832003628334, 'val_accuracy': 0.5987795575896262, 'precision': 0.6320217417608541, 'recall': 0.5987795575896262, 'f1-score': 0.6046649068415989, 'macro_f1-score': 0.376528835879188, 'balanced_accuracy': 0.4119666659703094, 'mcc': 0.4957792003825779, 'train_loss': 0.480035292876978}\n",
      "Epoch 17/20\n"
     ]
    },
    {
     "name": "stderr",
     "output_type": "stream",
     "text": [
      "100%|██████████| 716/716 [01:12<00:00,  9.83it/s]\n"
     ]
    },
    {
     "name": "stdout",
     "output_type": "stream",
     "text": [
      "{'val_loss': 2.198327692543588, 'val_accuracy': 0.6407322654462243, 'precision': 0.6360890659864987, 'recall': 0.6407322654462243, 'f1-score': 0.6176946118368554, 'macro_f1-score': 0.3850443185780133, 'balanced_accuracy': 0.37939241605080776, 'mcc': 0.5114089842568063, 'train_loss': 0.4568299092560507}\n",
      "Epoch 18/20\n"
     ]
    },
    {
     "name": "stderr",
     "output_type": "stream",
     "text": [
      "100%|██████████| 716/716 [01:12<00:00,  9.83it/s]\n"
     ]
    },
    {
     "name": "stdout",
     "output_type": "stream",
     "text": [
      "{'val_loss': 2.205140025877371, 'val_accuracy': 0.5713196033562167, 'precision': 0.6100169301304651, 'recall': 0.5713196033562167, 'f1-score': 0.5774566808756738, 'macro_f1-score': 0.3472126508565982, 'balanced_accuracy': 0.3815846931184101, 'mcc': 0.4656338721063577, 'train_loss': 0.43226805742434615}\n",
      "Epoch 19/20\n"
     ]
    },
    {
     "name": "stderr",
     "output_type": "stream",
     "text": [
      "100%|██████████| 716/716 [01:12<00:00,  9.86it/s]\n"
     ]
    },
    {
     "name": "stdout",
     "output_type": "stream",
     "text": [
      "{'val_loss': 2.1137071259138063, 'val_accuracy': 0.6155606407322655, 'precision': 0.640072366832641, 'recall': 0.6155606407322655, 'f1-score': 0.6133102983629767, 'macro_f1-score': 0.3846185096848624, 'balanced_accuracy': 0.4089854125261083, 'mcc': 0.5080084332911168, 'train_loss': 0.4252524433329743}\n",
      "Epoch 20/20\n"
     ]
    },
    {
     "name": "stderr",
     "output_type": "stream",
     "text": [
      "100%|██████████| 716/716 [01:12<00:00,  9.86it/s]\n"
     ]
    },
    {
     "name": "stdout",
     "output_type": "stream",
     "text": [
      "{'val_loss': 2.2843499118235053, 'val_accuracy': 0.6292906178489702, 'precision': 0.6250953604654806, 'recall': 0.6292906178489702, 'f1-score': 0.6171028790975709, 'macro_f1-score': 0.3746381096243261, 'balanced_accuracy': 0.38094772024277584, 'mcc': 0.5152414123878641, 'train_loss': 0.3308154273304734}\n",
      "Early stopping.\n",
      "\n",
      "[Fold 5]\n",
      "🚀 Using T5-paraphraser for data augmentation + under-sampling\n",
      "🔻 Under-sampling label 0: 2472 → 2000\n",
      "🔧 Augmenting label 1: 21 → 200 (+179)\n",
      "🔧 Augmenting label 2: 64 → 200 (+136)\n",
      "🔧 Augmenting label 3: 24 → 200 (+176)\n",
      "🔧 Augmenting label 4: 191 → 200 (+9)\n",
      "🔧 Augmenting label 5: 112 → 200 (+88)\n",
      "🔧 Augmenting label 6: 92 → 200 (+108)\n",
      "🔧 Augmenting label 7: 31 → 200 (+169)\n",
      "🔧 Augmenting label 8: 68 → 200 (+132)\n",
      "🔧 Augmenting label 9: 29 → 200 (+171)\n",
      "🔧 Augmenting label 10: 68 → 200 (+132)\n",
      "🔧 Augmenting label 11: 168 → 200 (+32)\n",
      "🔧 Augmenting label 12: 190 → 200 (+10)\n",
      "🔧 Augmenting label 13: 29 → 200 (+171)\n",
      "🔧 Augmenting label 14: 22 → 200 (+178)\n",
      "🔧 Augmenting label 15: 25 → 200 (+175)\n",
      "🔧 Augmenting label 16: 19 → 200 (+181)\n",
      "🔧 Augmenting label 17: 183 → 200 (+17)\n",
      "🔧 Augmenting label 18: 92 → 200 (+108)\n",
      "🔧 Augmenting label 19: 44 → 200 (+156)\n",
      "🔧 Augmenting label 20: 14 → 200 (+186)\n",
      "🔧 Augmenting label 21: 35 → 200 (+165)\n",
      "🔧 Augmenting label 22: 76 → 200 (+124)\n",
      "🔧 Augmenting label 23: 158 → 200 (+42)\n",
      "🔧 Augmenting label 24: 13 → 200 (+187)\n",
      "🔧 Augmenting label 25: 44 → 200 (+156)\n",
      "🔧 Augmenting label 26: 84 → 200 (+116)\n",
      "🔧 Augmenting label 27: 48 → 200 (+152)\n",
      "🔧 Augmenting label 28: 11 → 200 (+189)\n",
      "🔧 Augmenting label 29: 13 → 200 (+187)\n",
      "🔧 Augmenting label 30: 11 → 200 (+189)\n",
      "🔧 Augmenting label 31: 75 → 200 (+125)\n",
      "🔧 Augmenting label 32: 36 → 200 (+164)\n",
      "🔧 Augmenting label 33: 31 → 200 (+169)\n",
      "🔧 Augmenting label 34: 30 → 200 (+170)\n",
      "🔧 Augmenting label 35: 11 → 200 (+189)\n",
      "🔧 Augmenting label 36: 22 → 200 (+178)\n",
      "🔧 Augmenting label 37: 16 → 200 (+184)\n",
      "🔧 Augmenting label 38: 33 → 200 (+167)\n",
      "🔧 Augmenting label 39: 10 → 200 (+190)\n",
      "🔧 Augmenting label 40: 9 → 200 (+191)\n",
      "🔧 Augmenting label 41: 57 → 200 (+143)\n",
      "🔧 Augmenting label 42: 18 → 200 (+182)\n",
      "🔧 Augmenting label 43: 9 → 200 (+191)\n",
      "🔧 Augmenting label 44: 54 → 200 (+146)\n",
      "🔧 Augmenting label 46: 61 → 200 (+139)\n",
      "🔧 Augmenting label 47: 80 → 200 (+120)\n",
      "Label distribution after resampling:\n",
      "  label 0: 2000\n",
      "  label 1: 200\n",
      "  label 2: 200\n",
      "  label 3: 200\n",
      "  label 4: 200\n",
      "  label 5: 200\n",
      "  label 6: 200\n",
      "  label 7: 200\n",
      "  label 8: 200\n",
      "  label 9: 200\n",
      "  label 10: 200\n",
      "  label 11: 200\n",
      "  label 12: 200\n",
      "  label 13: 200\n",
      "  label 14: 200\n",
      "  label 15: 200\n",
      "  label 16: 200\n",
      "  label 17: 200\n",
      "  label 18: 200\n",
      "  label 19: 200\n",
      "  label 20: 200\n",
      "  label 21: 200\n",
      "  label 22: 200\n",
      "  label 23: 200\n",
      "  label 24: 200\n",
      "  label 25: 200\n",
      "  label 26: 200\n",
      "  label 27: 200\n",
      "  label 28: 200\n",
      "  label 29: 200\n",
      "  label 30: 200\n",
      "  label 31: 200\n",
      "  label 32: 200\n",
      "  label 33: 200\n",
      "  label 34: 200\n",
      "  label 35: 200\n",
      "  label 36: 200\n",
      "  label 37: 200\n",
      "  label 38: 200\n",
      "  label 39: 200\n",
      "  label 40: 200\n",
      "  label 41: 200\n",
      "  label 42: 200\n",
      "  label 43: 200\n",
      "  label 44: 200\n",
      "  label 45: 242\n",
      "  label 46: 200\n",
      "  label 47: 200\n",
      "model is roberta-base bilstm\n"
     ]
    },
    {
     "name": "stderr",
     "output_type": "stream",
     "text": [
      "Some weights of RobertaModel were not initialized from the model checkpoint at roberta-base and are newly initialized: ['pooler.dense.bias', 'pooler.dense.weight']\n",
      "You should probably TRAIN this model on a down-stream task to be able to use it for predictions and inference.\n"
     ]
    },
    {
     "name": "stdout",
     "output_type": "stream",
     "text": [
      "Using weighted CrossEntropyLoss with weights: tensor([1.7441, 4.0467, 4.0467, 4.0467, 4.0467, 4.0467, 4.0467, 4.0467, 4.0467,\n",
      "        4.0467, 4.0467, 4.0467, 4.0467, 4.0467, 4.0467, 4.0467, 4.0467, 4.0467,\n",
      "        4.0467, 4.0467, 4.0467, 4.0467, 4.0467, 4.0467, 4.0467, 4.0467, 4.0467,\n",
      "        4.0467, 4.0467, 4.0467, 4.0467, 4.0467, 4.0467, 4.0467, 4.0467, 4.0467,\n",
      "        4.0467, 4.0467, 4.0467, 4.0467, 4.0467, 4.0467, 4.0467, 4.0467, 4.0467,\n",
      "        3.8561, 4.0467, 4.0467], device='cuda:0')\n",
      "Epoch 1/20\n"
     ]
    },
    {
     "name": "stderr",
     "output_type": "stream",
     "text": [
      "100%|██████████| 716/716 [01:12<00:00,  9.88it/s]\n"
     ]
    },
    {
     "name": "stdout",
     "output_type": "stream",
     "text": [
      "{'val_loss': 3.0932635301496925, 'val_accuracy': 0.47063310450038137, 'precision': 0.2214955190516669, 'recall': 0.47063310450038137, 'f1-score': 0.3012247152248292, 'macro_f1-score': 0.013334197786998616, 'balanced_accuracy': 0.020833333333333332, 'mcc': 0.0, 'train_loss': 3.4484729447178335}\n",
      "Epoch 2/20\n"
     ]
    },
    {
     "name": "stderr",
     "output_type": "stream",
     "text": [
      "100%|██████████| 716/716 [01:12<00:00,  9.90it/s]\n"
     ]
    },
    {
     "name": "stdout",
     "output_type": "stream",
     "text": [
      "{'val_loss': 2.885198455031325, 'val_accuracy': 0.5034324942791762, 'precision': 0.26045958865727303, 'recall': 0.5034324942791762, 'f1-score': 0.3431740080244256, 'macro_f1-score': 0.02530012913695374, 'balanced_accuracy': 0.035763888888888894, 'mcc': 0.198805934590033, 'train_loss': 3.3448469430707686}\n",
      "Epoch 3/20\n"
     ]
    },
    {
     "name": "stderr",
     "output_type": "stream",
     "text": [
      "100%|██████████| 716/716 [01:12<00:00,  9.84it/s]\n"
     ]
    },
    {
     "name": "stdout",
     "output_type": "stream",
     "text": [
      "{'val_loss': 2.968089257798544, 'val_accuracy': 0.4241037376048818, 'precision': 0.3373894945420139, 'recall': 0.4241037376048818, 'f1-score': 0.3663863901328784, 'macro_f1-score': 0.019882949494046953, 'balanced_accuracy': 0.0341330136862957, 'mcc': 0.22501490647752792, 'train_loss': 3.346132717319041}\n",
      "Epoch 4/20\n"
     ]
    },
    {
     "name": "stderr",
     "output_type": "stream",
     "text": [
      "100%|██████████| 716/716 [01:12<00:00,  9.83it/s]\n"
     ]
    },
    {
     "name": "stdout",
     "output_type": "stream",
     "text": [
      "{'val_loss': 3.325475471775706, 'val_accuracy': 0.47063310450038137, 'precision': 0.2214955190516669, 'recall': 0.47063310450038137, 'f1-score': 0.3012247152248292, 'macro_f1-score': 0.013334197786998616, 'balanced_accuracy': 0.020833333333333332, 'mcc': 0.0, 'train_loss': 3.622785764033568}\n",
      "Epoch 5/20\n"
     ]
    },
    {
     "name": "stderr",
     "output_type": "stream",
     "text": [
      "100%|██████████| 716/716 [01:12<00:00,  9.88it/s]\n"
     ]
    },
    {
     "name": "stdout",
     "output_type": "stream",
     "text": [
      "{'val_loss': 3.1859970499829546, 'val_accuracy': 0.4622425629290618, 'precision': 0.2332000501449151, 'recall': 0.4622425629290618, 'f1-score': 0.31000397970351207, 'macro_f1-score': 0.01372282608695652, 'balanced_accuracy': 0.02046191247974068, 'mcc': 0.07435521731674599, 'train_loss': 3.594641425090129}\n",
      "Early stopping.\n",
      "\n",
      " === roberta-base + bilstm + t5 Final 5-fold Cross-Validation Results ===\n",
      "val_loss: 2.4296\n",
      "val_accuracy: 0.5667\n",
      "precision: 0.4647\n",
      "recall: 0.5667\n",
      "f1-score: 0.4894\n",
      "macro_f1-score: 0.2219\n",
      "balanced_accuracy: 0.2346\n",
      "mcc: 0.3355\n",
      "train_loss: 1.8752\n",
      "total_seconds: 22242.0000\n",
      "total_time: 6 hrs 10 mins 42 secs\n",
      "▶ Running: microsoft/deberta-base + plain + t5\n",
      "tokenizer is microsoft/deberta-base\n",
      "Using device: cuda\n",
      "CUDA Available: True\n",
      "CUDA Device: NVIDIA GeForce RTX 5070 Ti\n",
      "Current GPU Memory Allocated: 0.02 GB\n",
      "Current GPU Memory Cached: 4.02 GB\n",
      "\n",
      "[Fold 1]\n",
      "🚀 Using T5-paraphraser for data augmentation + under-sampling\n",
      "🔻 Under-sampling label 0: 2471 → 2000\n",
      "🔧 Augmenting label 1: 21 → 200 (+179)\n",
      "🔧 Augmenting label 2: 64 → 200 (+136)\n",
      "🔧 Augmenting label 3: 24 → 200 (+176)\n",
      "🔧 Augmenting label 4: 191 → 200 (+9)\n",
      "🔧 Augmenting label 5: 113 → 200 (+87)\n",
      "🔧 Augmenting label 6: 93 → 200 (+107)\n",
      "🔧 Augmenting label 7: 30 → 200 (+170)\n",
      "🔧 Augmenting label 8: 68 → 200 (+132)\n",
      "🔧 Augmenting label 9: 30 → 200 (+170)\n",
      "🔧 Augmenting label 10: 67 → 200 (+133)\n",
      "🔧 Augmenting label 11: 169 → 200 (+31)\n",
      "🔧 Augmenting label 12: 189 → 200 (+11)\n",
      "🔧 Augmenting label 13: 29 → 200 (+171)\n",
      "🔧 Augmenting label 14: 22 → 200 (+178)\n",
      "🔧 Augmenting label 15: 25 → 200 (+175)\n",
      "🔧 Augmenting label 16: 19 → 200 (+181)\n",
      "🔧 Augmenting label 17: 183 → 200 (+17)\n",
      "🔧 Augmenting label 18: 92 → 200 (+108)\n",
      "🔧 Augmenting label 19: 44 → 200 (+156)\n",
      "🔧 Augmenting label 20: 13 → 200 (+187)\n",
      "🔧 Augmenting label 21: 35 → 200 (+165)\n",
      "🔧 Augmenting label 22: 76 → 200 (+124)\n",
      "🔧 Augmenting label 23: 158 → 200 (+42)\n",
      "🔧 Augmenting label 24: 13 → 200 (+187)\n",
      "🔧 Augmenting label 25: 44 → 200 (+156)\n",
      "🔧 Augmenting label 26: 84 → 200 (+116)\n",
      "🔧 Augmenting label 27: 48 → 200 (+152)\n",
      "🔧 Augmenting label 28: 11 → 200 (+189)\n",
      "🔧 Augmenting label 29: 13 → 200 (+187)\n",
      "🔧 Augmenting label 30: 11 → 200 (+189)\n",
      "🔧 Augmenting label 31: 75 → 200 (+125)\n",
      "🔧 Augmenting label 32: 36 → 200 (+164)\n",
      "🔧 Augmenting label 33: 32 → 200 (+168)\n",
      "🔧 Augmenting label 34: 29 → 200 (+171)\n",
      "🔧 Augmenting label 35: 11 → 200 (+189)\n",
      "🔧 Augmenting label 36: 22 → 200 (+178)\n",
      "🔧 Augmenting label 37: 16 → 200 (+184)\n",
      "🔧 Augmenting label 38: 33 → 200 (+167)\n",
      "🔧 Augmenting label 39: 10 → 200 (+190)\n",
      "🔧 Augmenting label 40: 9 → 200 (+191)\n",
      "🔧 Augmenting label 41: 57 → 200 (+143)\n",
      "🔧 Augmenting label 42: 19 → 200 (+181)\n",
      "🔧 Augmenting label 43: 8 → 200 (+192)\n",
      "🔧 Augmenting label 44: 54 → 200 (+146)\n",
      "🔧 Augmenting label 46: 61 → 200 (+139)\n",
      "🔧 Augmenting label 47: 80 → 200 (+120)\n",
      "Label distribution after resampling:\n",
      "  label 0: 2000\n",
      "  label 1: 200\n",
      "  label 2: 200\n",
      "  label 3: 200\n",
      "  label 4: 200\n",
      "  label 5: 200\n",
      "  label 6: 200\n",
      "  label 7: 200\n",
      "  label 8: 200\n",
      "  label 9: 200\n",
      "  label 10: 200\n",
      "  label 11: 200\n",
      "  label 12: 200\n",
      "  label 13: 200\n",
      "  label 14: 200\n",
      "  label 15: 200\n",
      "  label 16: 200\n",
      "  label 17: 200\n",
      "  label 18: 200\n",
      "  label 19: 200\n",
      "  label 20: 200\n",
      "  label 21: 200\n",
      "  label 22: 200\n",
      "  label 23: 200\n",
      "  label 24: 200\n",
      "  label 25: 200\n",
      "  label 26: 200\n",
      "  label 27: 200\n",
      "  label 28: 200\n",
      "  label 29: 200\n",
      "  label 30: 200\n",
      "  label 31: 200\n",
      "  label 32: 200\n",
      "  label 33: 200\n",
      "  label 34: 200\n",
      "  label 35: 200\n",
      "  label 36: 200\n",
      "  label 37: 200\n",
      "  label 38: 200\n",
      "  label 39: 200\n",
      "  label 40: 200\n",
      "  label 41: 200\n",
      "  label 42: 200\n",
      "  label 43: 200\n",
      "  label 44: 200\n",
      "  label 45: 242\n",
      "  label 46: 200\n",
      "  label 47: 200\n",
      "model is microsoft/deberta-base\n"
     ]
    },
    {
     "name": "stderr",
     "output_type": "stream",
     "text": [
      "Some weights of DebertaForSequenceClassification were not initialized from the model checkpoint at microsoft/deberta-base and are newly initialized: ['classifier.bias', 'classifier.weight', 'pooler.dense.bias', 'pooler.dense.weight']\n",
      "You should probably TRAIN this model on a down-stream task to be able to use it for predictions and inference.\n"
     ]
    },
    {
     "name": "stdout",
     "output_type": "stream",
     "text": [
      "Using weighted CrossEntropyLoss with weights: tensor([1.7441, 4.0467, 4.0467, 4.0467, 4.0467, 4.0467, 4.0467, 4.0467, 4.0467,\n",
      "        4.0467, 4.0467, 4.0467, 4.0467, 4.0467, 4.0467, 4.0467, 4.0467, 4.0467,\n",
      "        4.0467, 4.0467, 4.0467, 4.0467, 4.0467, 4.0467, 4.0467, 4.0467, 4.0467,\n",
      "        4.0467, 4.0467, 4.0467, 4.0467, 4.0467, 4.0467, 4.0467, 4.0467, 4.0467,\n",
      "        4.0467, 4.0467, 4.0467, 4.0467, 4.0467, 4.0467, 4.0467, 4.0467, 4.0467,\n",
      "        3.8561, 4.0467, 4.0467], device='cuda:0')\n",
      "Epoch 1/20\n"
     ]
    },
    {
     "name": "stderr",
     "output_type": "stream",
     "text": [
      "100%|██████████| 716/716 [01:15<00:00,  9.52it/s]\n"
     ]
    },
    {
     "name": "stdout",
     "output_type": "stream",
     "text": [
      "{'val_loss': 1.8936395477957841, 'val_accuracy': 0.5853658536585366, 'precision': 0.5532254819881417, 'recall': 0.5853658536585366, 'f1-score': 0.5411510334040704, 'macro_f1-score': 0.28896797608742814, 'balanced_accuracy': 0.3096402717071595, 'mcc': 0.4317079778424275, 'train_loss': 2.521099035217109}\n",
      "Epoch 2/20\n"
     ]
    },
    {
     "name": "stderr",
     "output_type": "stream",
     "text": [
      "100%|██████████| 716/716 [01:14<00:00,  9.57it/s]\n"
     ]
    },
    {
     "name": "stdout",
     "output_type": "stream",
     "text": [
      "{'val_loss': 1.7616020215720665, 'val_accuracy': 0.5975609756097561, 'precision': 0.6215695598881847, 'recall': 0.5975609756097561, 'f1-score': 0.5943564969437479, 'macro_f1-score': 0.36443454382838425, 'balanced_accuracy': 0.3971890426084485, 'mcc': 0.4738095856521052, 'train_loss': 1.1972523026751074}\n",
      "Epoch 3/20\n"
     ]
    },
    {
     "name": "stderr",
     "output_type": "stream",
     "text": [
      "100%|██████████| 716/716 [01:15<00:00,  9.53it/s]\n"
     ]
    },
    {
     "name": "stdout",
     "output_type": "stream",
     "text": [
      "{'val_loss': 1.8836580133292733, 'val_accuracy': 0.6196646341463414, 'precision': 0.5765525806575197, 'recall': 0.6196646341463414, 'f1-score': 0.5862125363573044, 'macro_f1-score': 0.36682697747236825, 'balanced_accuracy': 0.36103374958234163, 'mcc': 0.48532491258661403, 'train_loss': 0.6546657927563238}\n",
      "Epoch 4/20\n"
     ]
    },
    {
     "name": "stderr",
     "output_type": "stream",
     "text": [
      "100%|██████████| 716/716 [01:14<00:00,  9.55it/s]\n"
     ]
    },
    {
     "name": "stdout",
     "output_type": "stream",
     "text": [
      "{'val_loss': 1.91710330146115, 'val_accuracy': 0.6524390243902439, 'precision': 0.6303410986709499, 'recall': 0.6524390243902439, 'f1-score': 0.6287529429995775, 'macro_f1-score': 0.4020031568077724, 'balanced_accuracy': 0.3805119482432035, 'mcc': 0.5237979344102494, 'train_loss': 0.3973193979619185}\n",
      "Epoch 5/20\n"
     ]
    },
    {
     "name": "stderr",
     "output_type": "stream",
     "text": [
      "100%|██████████| 716/716 [01:15<00:00,  9.55it/s]\n"
     ]
    },
    {
     "name": "stdout",
     "output_type": "stream",
     "text": [
      "{'val_loss': 2.0853106524886154, 'val_accuracy': 0.6326219512195121, 'precision': 0.6330199372722842, 'recall': 0.6326219512195121, 'f1-score': 0.6166461534555018, 'macro_f1-score': 0.3762261433754943, 'balanced_accuracy': 0.3841461374552993, 'mcc': 0.5167001400946559, 'train_loss': 0.25132342343291464}\n",
      "Epoch 6/20\n"
     ]
    },
    {
     "name": "stderr",
     "output_type": "stream",
     "text": [
      "100%|██████████| 716/716 [01:15<00:00,  9.54it/s]\n"
     ]
    },
    {
     "name": "stdout",
     "output_type": "stream",
     "text": [
      "{'val_loss': 2.3212891544510676, 'val_accuracy': 0.649390243902439, 'precision': 0.6359980644816324, 'recall': 0.649390243902439, 'f1-score': 0.6302478054381675, 'macro_f1-score': 0.39476773132541493, 'balanced_accuracy': 0.39933144735657994, 'mcc': 0.5282581969478389, 'train_loss': 0.1914064212436866}\n",
      "Epoch 7/20\n"
     ]
    },
    {
     "name": "stderr",
     "output_type": "stream",
     "text": [
      "100%|██████████| 716/716 [01:15<00:00,  9.51it/s]\n"
     ]
    },
    {
     "name": "stdout",
     "output_type": "stream",
     "text": [
      "{'val_loss': 2.246692320922526, 'val_accuracy': 0.6364329268292683, 'precision': 0.6427819309227893, 'recall': 0.6364329268292683, 'f1-score': 0.6346487690263334, 'macro_f1-score': 0.42835426828665596, 'balanced_accuracy': 0.4339403012699988, 'mcc': 0.5278081050660859, 'train_loss': 0.14056412924559755}\n",
      "Epoch 8/20\n"
     ]
    },
    {
     "name": "stderr",
     "output_type": "stream",
     "text": [
      "100%|██████████| 716/716 [01:15<00:00,  9.54it/s]\n"
     ]
    },
    {
     "name": "stdout",
     "output_type": "stream",
     "text": [
      "{'val_loss': 2.44891213934596, 'val_accuracy': 0.625, 'precision': 0.6364116348135751, 'recall': 0.625, 'f1-score': 0.6223714474667212, 'macro_f1-score': 0.4369086244288371, 'balanced_accuracy': 0.44942962312431217, 'mcc': 0.5147894881700877, 'train_loss': 0.11799247223915085}\n",
      "Epoch 9/20\n"
     ]
    },
    {
     "name": "stderr",
     "output_type": "stream",
     "text": [
      "100%|██████████| 716/716 [01:15<00:00,  9.52it/s]\n"
     ]
    },
    {
     "name": "stdout",
     "output_type": "stream",
     "text": [
      "{'val_loss': 2.5122817631174876, 'val_accuracy': 0.6204268292682927, 'precision': 0.6152991832744973, 'recall': 0.6204268292682927, 'f1-score': 0.6065320056026658, 'macro_f1-score': 0.3810684975119476, 'balanced_accuracy': 0.3663955394272047, 'mcc': 0.4928950761811328, 'train_loss': 0.10780884313407516}\n",
      "Epoch 10/20\n"
     ]
    },
    {
     "name": "stderr",
     "output_type": "stream",
     "text": [
      "100%|██████████| 716/716 [01:15<00:00,  9.52it/s]\n"
     ]
    },
    {
     "name": "stdout",
     "output_type": "stream",
     "text": [
      "{'val_loss': 2.4981010899674603, 'val_accuracy': 0.6021341463414634, 'precision': 0.6450869671899254, 'recall': 0.6021341463414634, 'f1-score': 0.6103925086868892, 'macro_f1-score': 0.40273996681702967, 'balanced_accuracy': 0.407788187505347, 'mcc': 0.49598778543258, 'train_loss': 0.0963595956072924}\n",
      "Epoch 11/20\n"
     ]
    },
    {
     "name": "stderr",
     "output_type": "stream",
     "text": [
      "100%|██████████| 716/716 [01:14<00:00,  9.56it/s]\n"
     ]
    },
    {
     "name": "stdout",
     "output_type": "stream",
     "text": [
      "{'val_loss': 2.61774458827042, 'val_accuracy': 0.631859756097561, 'precision': 0.6246869031345605, 'recall': 0.631859756097561, 'f1-score': 0.6179429935927622, 'macro_f1-score': 0.38075416522521244, 'balanced_accuracy': 0.36976542529669004, 'mcc': 0.5092216154119211, 'train_loss': 0.1079050371580752}\n",
      "Early stopping.\n",
      "\n",
      "[Fold 2]\n",
      "🚀 Using T5-paraphraser for data augmentation + under-sampling\n",
      "🔻 Under-sampling label 0: 2471 → 2000\n",
      "🔧 Augmenting label 1: 22 → 200 (+178)\n",
      "🔧 Augmenting label 2: 64 → 200 (+136)\n",
      "🔧 Augmenting label 3: 24 → 200 (+176)\n",
      "🔧 Augmenting label 4: 190 → 200 (+10)\n",
      "🔧 Augmenting label 5: 113 → 200 (+87)\n",
      "🔧 Augmenting label 6: 93 → 200 (+107)\n",
      "🔧 Augmenting label 7: 30 → 200 (+170)\n",
      "🔧 Augmenting label 8: 68 → 200 (+132)\n",
      "🔧 Augmenting label 9: 30 → 200 (+170)\n",
      "🔧 Augmenting label 10: 67 → 200 (+133)\n",
      "🔧 Augmenting label 11: 169 → 200 (+31)\n",
      "🔧 Augmenting label 12: 189 → 200 (+11)\n",
      "🔧 Augmenting label 13: 29 → 200 (+171)\n",
      "🔧 Augmenting label 14: 23 → 200 (+177)\n",
      "🔧 Augmenting label 15: 24 → 200 (+176)\n",
      "🔧 Augmenting label 16: 20 → 200 (+180)\n",
      "🔧 Augmenting label 17: 182 → 200 (+18)\n",
      "🔧 Augmenting label 18: 92 → 200 (+108)\n",
      "🔧 Augmenting label 19: 44 → 200 (+156)\n",
      "🔧 Augmenting label 20: 13 → 200 (+187)\n",
      "🔧 Augmenting label 21: 36 → 200 (+164)\n",
      "🔧 Augmenting label 22: 76 → 200 (+124)\n",
      "🔧 Augmenting label 23: 157 → 200 (+43)\n",
      "🔧 Augmenting label 24: 12 → 200 (+188)\n",
      "🔧 Augmenting label 25: 44 → 200 (+156)\n",
      "🔧 Augmenting label 26: 84 → 200 (+116)\n",
      "🔧 Augmenting label 27: 48 → 200 (+152)\n",
      "🔧 Augmenting label 28: 12 → 200 (+188)\n",
      "🔧 Augmenting label 29: 12 → 200 (+188)\n",
      "🔧 Augmenting label 30: 12 → 200 (+188)\n",
      "🔧 Augmenting label 31: 75 → 200 (+125)\n",
      "🔧 Augmenting label 32: 36 → 200 (+164)\n",
      "🔧 Augmenting label 33: 31 → 200 (+169)\n",
      "🔧 Augmenting label 34: 29 → 200 (+171)\n",
      "🔧 Augmenting label 35: 12 → 200 (+188)\n",
      "🔧 Augmenting label 36: 21 → 200 (+179)\n",
      "🔧 Augmenting label 37: 16 → 200 (+184)\n",
      "🔧 Augmenting label 38: 33 → 200 (+167)\n",
      "🔧 Augmenting label 39: 11 → 200 (+189)\n",
      "🔧 Augmenting label 40: 8 → 200 (+192)\n",
      "🔧 Augmenting label 41: 57 → 200 (+143)\n",
      "🔧 Augmenting label 42: 19 → 200 (+181)\n",
      "🔧 Augmenting label 43: 9 → 200 (+191)\n",
      "🔧 Augmenting label 44: 54 → 200 (+146)\n",
      "🔧 Augmenting label 46: 62 → 200 (+138)\n",
      "🔧 Augmenting label 47: 80 → 200 (+120)\n",
      "Label distribution after resampling:\n",
      "  label 0: 2000\n",
      "  label 1: 200\n",
      "  label 2: 200\n",
      "  label 3: 200\n",
      "  label 4: 200\n",
      "  label 5: 200\n",
      "  label 6: 200\n",
      "  label 7: 200\n",
      "  label 8: 200\n",
      "  label 9: 200\n",
      "  label 10: 200\n",
      "  label 11: 200\n",
      "  label 12: 200\n",
      "  label 13: 200\n",
      "  label 14: 200\n",
      "  label 15: 200\n",
      "  label 16: 200\n",
      "  label 17: 200\n",
      "  label 18: 200\n",
      "  label 19: 200\n",
      "  label 20: 200\n",
      "  label 21: 200\n",
      "  label 22: 200\n",
      "  label 23: 200\n",
      "  label 24: 200\n",
      "  label 25: 200\n",
      "  label 26: 200\n",
      "  label 27: 200\n",
      "  label 28: 200\n",
      "  label 29: 200\n",
      "  label 30: 200\n",
      "  label 31: 200\n",
      "  label 32: 200\n",
      "  label 33: 200\n",
      "  label 34: 200\n",
      "  label 35: 200\n",
      "  label 36: 200\n",
      "  label 37: 200\n",
      "  label 38: 200\n",
      "  label 39: 200\n",
      "  label 40: 200\n",
      "  label 41: 200\n",
      "  label 42: 200\n",
      "  label 43: 200\n",
      "  label 44: 200\n",
      "  label 45: 242\n",
      "  label 46: 200\n",
      "  label 47: 200\n",
      "model is microsoft/deberta-base\n"
     ]
    },
    {
     "name": "stderr",
     "output_type": "stream",
     "text": [
      "Some weights of DebertaForSequenceClassification were not initialized from the model checkpoint at microsoft/deberta-base and are newly initialized: ['classifier.bias', 'classifier.weight', 'pooler.dense.bias', 'pooler.dense.weight']\n",
      "You should probably TRAIN this model on a down-stream task to be able to use it for predictions and inference.\n"
     ]
    },
    {
     "name": "stdout",
     "output_type": "stream",
     "text": [
      "Using weighted CrossEntropyLoss with weights: tensor([1.7441, 4.0467, 4.0467, 4.0467, 4.0467, 4.0467, 4.0467, 4.0467, 4.0467,\n",
      "        4.0467, 4.0467, 4.0467, 4.0467, 4.0467, 4.0467, 4.0467, 4.0467, 4.0467,\n",
      "        4.0467, 4.0467, 4.0467, 4.0467, 4.0467, 4.0467, 4.0467, 4.0467, 4.0467,\n",
      "        4.0467, 4.0467, 4.0467, 4.0467, 4.0467, 4.0467, 4.0467, 4.0467, 4.0467,\n",
      "        4.0467, 4.0467, 4.0467, 4.0467, 4.0467, 4.0467, 4.0467, 4.0467, 4.0467,\n",
      "        3.8561, 4.0467, 4.0467], device='cuda:0')\n",
      "Epoch 1/20\n"
     ]
    },
    {
     "name": "stderr",
     "output_type": "stream",
     "text": [
      "100%|██████████| 716/716 [01:14<00:00,  9.55it/s]\n"
     ]
    },
    {
     "name": "stdout",
     "output_type": "stream",
     "text": [
      "{'val_loss': 1.7747339460907914, 'val_accuracy': 0.5827612509534706, 'precision': 0.5384885810993462, 'recall': 0.5827612509534706, 'f1-score': 0.5383023236850303, 'macro_f1-score': 0.2649793786638446, 'balanced_accuracy': 0.287624080010016, 'mcc': 0.43434052092565956, 'train_loss': 2.474648279684216}\n",
      "Epoch 2/20\n"
     ]
    },
    {
     "name": "stderr",
     "output_type": "stream",
     "text": [
      "100%|██████████| 716/716 [01:15<00:00,  9.51it/s]\n"
     ]
    },
    {
     "name": "stdout",
     "output_type": "stream",
     "text": [
      "{'val_loss': 2.0637587265270514, 'val_accuracy': 0.5797101449275363, 'precision': 0.5715885548533948, 'recall': 0.5797101449275363, 'f1-score': 0.5299151856455152, 'macro_f1-score': 0.2937049862846152, 'balanced_accuracy': 0.31180857114285704, 'mcc': 0.40274848657205237, 'train_loss': 1.2114614495102254}\n",
      "Epoch 3/20\n"
     ]
    },
    {
     "name": "stderr",
     "output_type": "stream",
     "text": [
      "100%|██████████| 716/716 [01:15<00:00,  9.54it/s]\n"
     ]
    },
    {
     "name": "stdout",
     "output_type": "stream",
     "text": [
      "{'val_loss': 1.7848929392128456, 'val_accuracy': 0.6300533943554538, 'precision': 0.6033208339132945, 'recall': 0.6300533943554538, 'f1-score': 0.598163119178146, 'macro_f1-score': 0.34736204692841094, 'balanced_accuracy': 0.34166055674011714, 'mcc': 0.4933723701141499, 'train_loss': 0.7215537207211529}\n",
      "Epoch 4/20\n"
     ]
    },
    {
     "name": "stderr",
     "output_type": "stream",
     "text": [
      "100%|██████████| 716/716 [01:14<00:00,  9.56it/s]\n"
     ]
    },
    {
     "name": "stdout",
     "output_type": "stream",
     "text": [
      "{'val_loss': 1.8414190295265942, 'val_accuracy': 0.6430205949656751, 'precision': 0.614655483350118, 'recall': 0.6430205949656751, 'f1-score': 0.6168394536972633, 'macro_f1-score': 0.3500525821207286, 'balanced_accuracy': 0.35894787690800056, 'mcc': 0.5191897190821638, 'train_loss': 0.4117665482820246}\n",
      "Epoch 5/20\n"
     ]
    },
    {
     "name": "stderr",
     "output_type": "stream",
     "text": [
      "100%|██████████| 716/716 [01:15<00:00,  9.54it/s]\n"
     ]
    },
    {
     "name": "stdout",
     "output_type": "stream",
     "text": [
      "{'val_loss': 2.1438402664370653, 'val_accuracy': 0.593440122044241, 'precision': 0.5834651047106867, 'recall': 0.593440122044241, 'f1-score': 0.5797455032120344, 'macro_f1-score': 0.293748171524042, 'balanced_accuracy': 0.32046990911566153, 'mcc': 0.46545763868281115, 'train_loss': 0.40867575358172786}\n",
      "Epoch 6/20\n"
     ]
    },
    {
     "name": "stderr",
     "output_type": "stream",
     "text": [
      "100%|██████████| 716/716 [01:15<00:00,  9.54it/s]\n"
     ]
    },
    {
     "name": "stdout",
     "output_type": "stream",
     "text": [
      "{'val_loss': 2.0787135366259553, 'val_accuracy': 0.6186117467581999, 'precision': 0.6357729308144652, 'recall': 0.6186117467581999, 'f1-score': 0.6164155880696961, 'macro_f1-score': 0.36103171266837597, 'balanced_accuracy': 0.3763338897338811, 'mcc': 0.5115423487796701, 'train_loss': 0.29601155463918294}\n",
      "Epoch 7/20\n"
     ]
    },
    {
     "name": "stderr",
     "output_type": "stream",
     "text": [
      "100%|██████████| 716/716 [01:15<00:00,  9.53it/s]\n"
     ]
    },
    {
     "name": "stdout",
     "output_type": "stream",
     "text": [
      "{'val_loss': 2.1428847596412752, 'val_accuracy': 0.635392829900839, 'precision': 0.6360488171815271, 'recall': 0.635392829900839, 'f1-score': 0.6288382102950284, 'macro_f1-score': 0.3907399669077141, 'balanced_accuracy': 0.4103615807690606, 'mcc': 0.530896447455518, 'train_loss': 0.14564105843040343}\n",
      "Epoch 8/20\n"
     ]
    },
    {
     "name": "stderr",
     "output_type": "stream",
     "text": [
      "100%|██████████| 716/716 [01:15<00:00,  9.52it/s]\n"
     ]
    },
    {
     "name": "stdout",
     "output_type": "stream",
     "text": [
      "{'val_loss': 2.4849565712417045, 'val_accuracy': 0.6186117467581999, 'precision': 0.6274989095955344, 'recall': 0.6186117467581999, 'f1-score': 0.6124871959450304, 'macro_f1-score': 0.3391267023233994, 'balanced_accuracy': 0.3703472790408586, 'mcc': 0.5077386167438788, 'train_loss': 0.10738675034794873}\n",
      "Epoch 9/20\n"
     ]
    },
    {
     "name": "stderr",
     "output_type": "stream",
     "text": [
      "100%|██████████| 716/716 [01:14<00:00,  9.62it/s]\n"
     ]
    },
    {
     "name": "stdout",
     "output_type": "stream",
     "text": [
      "{'val_loss': 2.550174628816, 'val_accuracy': 0.6437833714721587, 'precision': 0.6264606114875755, 'recall': 0.6437833714721587, 'f1-score': 0.6279928377657362, 'macro_f1-score': 0.35702202535497324, 'balanced_accuracy': 0.3717145060905578, 'mcc': 0.5284140167986503, 'train_loss': 0.08863087480269273}\n",
      "Epoch 10/20\n"
     ]
    },
    {
     "name": "stderr",
     "output_type": "stream",
     "text": [
      "100%|██████████| 716/716 [01:14<00:00,  9.55it/s]\n"
     ]
    },
    {
     "name": "stdout",
     "output_type": "stream",
     "text": [
      "{'val_loss': 2.549192768044588, 'val_accuracy': 0.6247139588100686, 'precision': 0.613086845216337, 'recall': 0.6247139588100686, 'f1-score': 0.6096966837360277, 'macro_f1-score': 0.33574827781559713, 'balanced_accuracy': 0.34730054354479084, 'mcc': 0.5063129123564734, 'train_loss': 0.0828252450285633}\n",
      "Early stopping.\n",
      "\n",
      "[Fold 3]\n",
      "🚀 Using T5-paraphraser for data augmentation + under-sampling\n",
      "🔻 Under-sampling label 0: 2471 → 2000\n",
      "🔧 Augmenting label 1: 22 → 200 (+178)\n",
      "🔧 Augmenting label 2: 64 → 200 (+136)\n",
      "🔧 Augmenting label 3: 24 → 200 (+176)\n",
      "🔧 Augmenting label 4: 190 → 200 (+10)\n",
      "🔧 Augmenting label 5: 113 → 200 (+87)\n",
      "🔧 Augmenting label 6: 93 → 200 (+107)\n",
      "🔧 Augmenting label 7: 30 → 200 (+170)\n",
      "🔧 Augmenting label 8: 68 → 200 (+132)\n",
      "🔧 Augmenting label 9: 30 → 200 (+170)\n",
      "🔧 Augmenting label 10: 67 → 200 (+133)\n",
      "🔧 Augmenting label 11: 169 → 200 (+31)\n",
      "🔧 Augmenting label 12: 190 → 200 (+10)\n",
      "🔧 Augmenting label 13: 28 → 200 (+172)\n",
      "🔧 Augmenting label 14: 23 → 200 (+177)\n",
      "🔧 Augmenting label 15: 25 → 200 (+175)\n",
      "🔧 Augmenting label 16: 19 → 200 (+181)\n",
      "🔧 Augmenting label 17: 182 → 200 (+18)\n",
      "🔧 Augmenting label 18: 92 → 200 (+108)\n",
      "🔧 Augmenting label 19: 44 → 200 (+156)\n",
      "🔧 Augmenting label 20: 14 → 200 (+186)\n",
      "🔧 Augmenting label 21: 35 → 200 (+165)\n",
      "🔧 Augmenting label 22: 76 → 200 (+124)\n",
      "🔧 Augmenting label 23: 157 → 200 (+43)\n",
      "🔧 Augmenting label 24: 13 → 200 (+187)\n",
      "🔧 Augmenting label 25: 44 → 200 (+156)\n",
      "🔧 Augmenting label 26: 84 → 200 (+116)\n",
      "🔧 Augmenting label 27: 48 → 200 (+152)\n",
      "🔧 Augmenting label 28: 11 → 200 (+189)\n",
      "🔧 Augmenting label 29: 13 → 200 (+187)\n",
      "🔧 Augmenting label 30: 11 → 200 (+189)\n",
      "🔧 Augmenting label 31: 76 → 200 (+124)\n",
      "🔧 Augmenting label 32: 36 → 200 (+164)\n",
      "🔧 Augmenting label 33: 31 → 200 (+169)\n",
      "🔧 Augmenting label 34: 30 → 200 (+170)\n",
      "🔧 Augmenting label 35: 11 → 200 (+189)\n",
      "🔧 Augmenting label 36: 21 → 200 (+179)\n",
      "🔧 Augmenting label 37: 16 → 200 (+184)\n",
      "🔧 Augmenting label 38: 32 → 200 (+168)\n",
      "🔧 Augmenting label 39: 11 → 200 (+189)\n",
      "🔧 Augmenting label 40: 9 → 200 (+191)\n",
      "🔧 Augmenting label 41: 57 → 200 (+143)\n",
      "🔧 Augmenting label 42: 18 → 200 (+182)\n",
      "🔧 Augmenting label 43: 9 → 200 (+191)\n",
      "🔧 Augmenting label 44: 55 → 200 (+145)\n",
      "🔧 Augmenting label 46: 62 → 200 (+138)\n",
      "🔧 Augmenting label 47: 80 → 200 (+120)\n",
      "Label distribution after resampling:\n",
      "  label 0: 2000\n",
      "  label 1: 200\n",
      "  label 2: 200\n",
      "  label 3: 200\n",
      "  label 4: 200\n",
      "  label 5: 200\n",
      "  label 6: 200\n",
      "  label 7: 200\n",
      "  label 8: 200\n",
      "  label 9: 200\n",
      "  label 10: 200\n",
      "  label 11: 200\n",
      "  label 12: 200\n",
      "  label 13: 200\n",
      "  label 14: 200\n",
      "  label 15: 200\n",
      "  label 16: 200\n",
      "  label 17: 200\n",
      "  label 18: 200\n",
      "  label 19: 200\n",
      "  label 20: 200\n",
      "  label 21: 200\n",
      "  label 22: 200\n",
      "  label 23: 200\n",
      "  label 24: 200\n",
      "  label 25: 200\n",
      "  label 26: 200\n",
      "  label 27: 200\n",
      "  label 28: 200\n",
      "  label 29: 200\n",
      "  label 30: 200\n",
      "  label 31: 200\n",
      "  label 32: 200\n",
      "  label 33: 200\n",
      "  label 34: 200\n",
      "  label 35: 200\n",
      "  label 36: 200\n",
      "  label 37: 200\n",
      "  label 38: 200\n",
      "  label 39: 200\n",
      "  label 40: 200\n",
      "  label 41: 200\n",
      "  label 42: 200\n",
      "  label 43: 200\n",
      "  label 44: 200\n",
      "  label 45: 241\n",
      "  label 46: 200\n",
      "  label 47: 200\n",
      "model is microsoft/deberta-base\n"
     ]
    },
    {
     "name": "stderr",
     "output_type": "stream",
     "text": [
      "Some weights of DebertaForSequenceClassification were not initialized from the model checkpoint at microsoft/deberta-base and are newly initialized: ['classifier.bias', 'classifier.weight', 'pooler.dense.bias', 'pooler.dense.weight']\n",
      "You should probably TRAIN this model on a down-stream task to be able to use it for predictions and inference.\n"
     ]
    },
    {
     "name": "stdout",
     "output_type": "stream",
     "text": [
      "Using weighted CrossEntropyLoss with weights: tensor([1.7441, 4.0466, 4.0466, 4.0466, 4.0466, 4.0466, 4.0466, 4.0466, 4.0466,\n",
      "        4.0466, 4.0466, 4.0466, 4.0466, 4.0466, 4.0466, 4.0466, 4.0466, 4.0466,\n",
      "        4.0466, 4.0466, 4.0466, 4.0466, 4.0466, 4.0466, 4.0466, 4.0466, 4.0466,\n",
      "        4.0466, 4.0466, 4.0466, 4.0466, 4.0466, 4.0466, 4.0466, 4.0466, 4.0466,\n",
      "        4.0466, 4.0466, 4.0466, 4.0466, 4.0466, 4.0466, 4.0466, 4.0466, 4.0466,\n",
      "        3.8602, 4.0466, 4.0466], device='cuda:0')\n",
      "Epoch 1/20\n"
     ]
    },
    {
     "name": "stderr",
     "output_type": "stream",
     "text": [
      "100%|██████████| 716/716 [01:14<00:00,  9.57it/s]\n"
     ]
    },
    {
     "name": "stdout",
     "output_type": "stream",
     "text": [
      "{'val_loss': 1.8835680048640182, 'val_accuracy': 0.5453852021357742, 'precision': 0.5609219401706297, 'recall': 0.5453852021357742, 'f1-score': 0.5264556820955636, 'macro_f1-score': 0.2679749199704386, 'balanced_accuracy': 0.29251644955871914, 'mcc': 0.4050227591920066, 'train_loss': 2.383527396943982}\n",
      "Epoch 2/20\n"
     ]
    },
    {
     "name": "stderr",
     "output_type": "stream",
     "text": [
      "100%|██████████| 716/716 [01:15<00:00,  9.54it/s]\n"
     ]
    },
    {
     "name": "stdout",
     "output_type": "stream",
     "text": [
      "{'val_loss': 1.9636989052339298, 'val_accuracy': 0.6285278413424866, 'precision': 0.5999187586766681, 'recall': 0.6285278413424866, 'f1-score': 0.5689559213097171, 'macro_f1-score': 0.2898379440629643, 'balanced_accuracy': 0.2798286580906534, 'mcc': 0.4803486132861484, 'train_loss': 1.0860375240445137}\n",
      "Epoch 3/20\n"
     ]
    },
    {
     "name": "stderr",
     "output_type": "stream",
     "text": [
      "100%|██████████| 716/716 [01:14<00:00,  9.59it/s]\n"
     ]
    },
    {
     "name": "stdout",
     "output_type": "stream",
     "text": [
      "{'val_loss': 2.0214358433717634, 'val_accuracy': 0.6323417238749046, 'precision': 0.6070260234045696, 'recall': 0.6323417238749046, 'f1-score': 0.589567818475143, 'macro_f1-score': 0.33439894693833655, 'balanced_accuracy': 0.3045348314595521, 'mcc': 0.48649882986314497, 'train_loss': 0.5750828095238302}\n",
      "Epoch 4/20\n"
     ]
    },
    {
     "name": "stderr",
     "output_type": "stream",
     "text": [
      "100%|██████████| 716/716 [01:15<00:00,  9.54it/s]\n"
     ]
    },
    {
     "name": "stdout",
     "output_type": "stream",
     "text": [
      "{'val_loss': 2.0437349960571383, 'val_accuracy': 0.6613272311212814, 'precision': 0.633507612997661, 'recall': 0.6613272311212814, 'f1-score': 0.6352478854704681, 'macro_f1-score': 0.3988850257259311, 'balanced_accuracy': 0.3654650201770531, 'mcc': 0.5352773849851872, 'train_loss': 0.3322102706176983}\n",
      "Epoch 5/20\n"
     ]
    },
    {
     "name": "stderr",
     "output_type": "stream",
     "text": [
      "100%|██████████| 716/716 [01:14<00:00,  9.57it/s]\n"
     ]
    },
    {
     "name": "stdout",
     "output_type": "stream",
     "text": [
      "{'val_loss': 2.5402950793504715, 'val_accuracy': 0.6338672768878718, 'precision': 0.5938274894591149, 'recall': 0.6338672768878718, 'f1-score': 0.5803653386481854, 'macro_f1-score': 0.30422991666560334, 'balanced_accuracy': 0.2629335349114386, 'mcc': 0.4811821648503606, 'train_loss': 0.2064330854372501}\n",
      "Epoch 6/20\n"
     ]
    },
    {
     "name": "stderr",
     "output_type": "stream",
     "text": [
      "100%|██████████| 716/716 [01:15<00:00,  9.54it/s]\n"
     ]
    },
    {
     "name": "stdout",
     "output_type": "stream",
     "text": [
      "{'val_loss': 2.3894836197539076, 'val_accuracy': 0.6338672768878718, 'precision': 0.6304776854762294, 'recall': 0.6338672768878718, 'f1-score': 0.6218592632636389, 'macro_f1-score': 0.3937975346618532, 'balanced_accuracy': 0.3649329293045281, 'mcc': 0.5089076419040469, 'train_loss': 0.16989738369157653}\n",
      "Epoch 7/20\n"
     ]
    },
    {
     "name": "stderr",
     "output_type": "stream",
     "text": [
      "100%|██████████| 716/716 [01:15<00:00,  9.54it/s]\n"
     ]
    },
    {
     "name": "stdout",
     "output_type": "stream",
     "text": [
      "{'val_loss': 2.4880464029748266, 'val_accuracy': 0.6025934401220442, 'precision': 0.6099760110931033, 'recall': 0.6025934401220442, 'f1-score': 0.5959995591403405, 'macro_f1-score': 0.35110362381051047, 'balanced_accuracy': 0.3499451429327733, 'mcc': 0.48204002509440996, 'train_loss': 0.11069927215816806}\n",
      "Early stopping.\n",
      "\n",
      "[Fold 4]\n",
      "🚀 Using T5-paraphraser for data augmentation + under-sampling\n",
      "🔻 Under-sampling label 0: 2471 → 2000\n",
      "🔧 Augmenting label 1: 22 → 200 (+178)\n",
      "🔧 Augmenting label 2: 64 → 200 (+136)\n",
      "🔧 Augmenting label 3: 24 → 200 (+176)\n",
      "🔧 Augmenting label 4: 190 → 200 (+10)\n",
      "🔧 Augmenting label 5: 113 → 200 (+87)\n",
      "🔧 Augmenting label 6: 93 → 200 (+107)\n",
      "🔧 Augmenting label 7: 31 → 200 (+169)\n",
      "🔧 Augmenting label 8: 68 → 200 (+132)\n",
      "🔧 Augmenting label 9: 29 → 200 (+171)\n",
      "🔧 Augmenting label 10: 67 → 200 (+133)\n",
      "🔧 Augmenting label 11: 169 → 200 (+31)\n",
      "🔧 Augmenting label 12: 190 → 200 (+10)\n",
      "🔧 Augmenting label 13: 29 → 200 (+171)\n",
      "🔧 Augmenting label 14: 22 → 200 (+178)\n",
      "🔧 Augmenting label 15: 25 → 200 (+175)\n",
      "🔧 Augmenting label 16: 19 → 200 (+181)\n",
      "🔧 Augmenting label 17: 182 → 200 (+18)\n",
      "🔧 Augmenting label 18: 92 → 200 (+108)\n",
      "🔧 Augmenting label 19: 44 → 200 (+156)\n",
      "🔧 Augmenting label 20: 14 → 200 (+186)\n",
      "🔧 Augmenting label 21: 35 → 200 (+165)\n",
      "🔧 Augmenting label 22: 76 → 200 (+124)\n",
      "🔧 Augmenting label 23: 158 → 200 (+42)\n",
      "🔧 Augmenting label 24: 13 → 200 (+187)\n",
      "🔧 Augmenting label 25: 44 → 200 (+156)\n",
      "🔧 Augmenting label 26: 84 → 200 (+116)\n",
      "🔧 Augmenting label 27: 48 → 200 (+152)\n",
      "🔧 Augmenting label 28: 11 → 200 (+189)\n",
      "🔧 Augmenting label 29: 13 → 200 (+187)\n",
      "🔧 Augmenting label 30: 11 → 200 (+189)\n",
      "🔧 Augmenting label 31: 75 → 200 (+125)\n",
      "🔧 Augmenting label 32: 36 → 200 (+164)\n",
      "🔧 Augmenting label 33: 31 → 200 (+169)\n",
      "🔧 Augmenting label 34: 30 → 200 (+170)\n",
      "🔧 Augmenting label 35: 11 → 200 (+189)\n",
      "🔧 Augmenting label 36: 22 → 200 (+178)\n",
      "🔧 Augmenting label 37: 16 → 200 (+184)\n",
      "🔧 Augmenting label 38: 33 → 200 (+167)\n",
      "🔧 Augmenting label 39: 10 → 200 (+190)\n",
      "🔧 Augmenting label 40: 9 → 200 (+191)\n",
      "🔧 Augmenting label 41: 56 → 200 (+144)\n",
      "🔧 Augmenting label 42: 18 → 200 (+182)\n",
      "🔧 Augmenting label 43: 9 → 200 (+191)\n",
      "🔧 Augmenting label 44: 55 → 200 (+145)\n",
      "🔧 Augmenting label 46: 62 → 200 (+138)\n",
      "🔧 Augmenting label 47: 80 → 200 (+120)\n",
      "Label distribution after resampling:\n",
      "  label 0: 2000\n",
      "  label 1: 200\n",
      "  label 2: 200\n",
      "  label 3: 200\n",
      "  label 4: 200\n",
      "  label 5: 200\n",
      "  label 6: 200\n",
      "  label 7: 200\n",
      "  label 8: 200\n",
      "  label 9: 200\n",
      "  label 10: 200\n",
      "  label 11: 200\n",
      "  label 12: 200\n",
      "  label 13: 200\n",
      "  label 14: 200\n",
      "  label 15: 200\n",
      "  label 16: 200\n",
      "  label 17: 200\n",
      "  label 18: 200\n",
      "  label 19: 200\n",
      "  label 20: 200\n",
      "  label 21: 200\n",
      "  label 22: 200\n",
      "  label 23: 200\n",
      "  label 24: 200\n",
      "  label 25: 200\n",
      "  label 26: 200\n",
      "  label 27: 200\n",
      "  label 28: 200\n",
      "  label 29: 200\n",
      "  label 30: 200\n",
      "  label 31: 200\n",
      "  label 32: 200\n",
      "  label 33: 200\n",
      "  label 34: 200\n",
      "  label 35: 200\n",
      "  label 36: 200\n",
      "  label 37: 200\n",
      "  label 38: 200\n",
      "  label 39: 200\n",
      "  label 40: 200\n",
      "  label 41: 200\n",
      "  label 42: 200\n",
      "  label 43: 200\n",
      "  label 44: 200\n",
      "  label 45: 241\n",
      "  label 46: 200\n",
      "  label 47: 200\n",
      "model is microsoft/deberta-base\n"
     ]
    },
    {
     "name": "stderr",
     "output_type": "stream",
     "text": [
      "Some weights of DebertaForSequenceClassification were not initialized from the model checkpoint at microsoft/deberta-base and are newly initialized: ['classifier.bias', 'classifier.weight', 'pooler.dense.bias', 'pooler.dense.weight']\n",
      "You should probably TRAIN this model on a down-stream task to be able to use it for predictions and inference.\n"
     ]
    },
    {
     "name": "stdout",
     "output_type": "stream",
     "text": [
      "Using weighted CrossEntropyLoss with weights: tensor([1.7441, 4.0466, 4.0466, 4.0466, 4.0466, 4.0466, 4.0466, 4.0466, 4.0466,\n",
      "        4.0466, 4.0466, 4.0466, 4.0466, 4.0466, 4.0466, 4.0466, 4.0466, 4.0466,\n",
      "        4.0466, 4.0466, 4.0466, 4.0466, 4.0466, 4.0466, 4.0466, 4.0466, 4.0466,\n",
      "        4.0466, 4.0466, 4.0466, 4.0466, 4.0466, 4.0466, 4.0466, 4.0466, 4.0466,\n",
      "        4.0466, 4.0466, 4.0466, 4.0466, 4.0466, 4.0466, 4.0466, 4.0466, 4.0466,\n",
      "        3.8602, 4.0466, 4.0466], device='cuda:0')\n",
      "Epoch 1/20\n"
     ]
    },
    {
     "name": "stderr",
     "output_type": "stream",
     "text": [
      "100%|██████████| 716/716 [01:15<00:00,  9.54it/s]\n"
     ]
    },
    {
     "name": "stdout",
     "output_type": "stream",
     "text": [
      "{'val_loss': 3.3155178122404143, 'val_accuracy': 0.47139588100686497, 'precision': 0.2222140766302384, 'recall': 0.47139588100686497, 'f1-score': 0.302045261236125, 'macro_f1-score': 0.01334888543286677, 'balanced_accuracy': 0.020833333333333332, 'mcc': 0.0, 'train_loss': 3.6631125321601354}\n",
      "Epoch 2/20\n"
     ]
    },
    {
     "name": "stderr",
     "output_type": "stream",
     "text": [
      "100%|██████████| 716/716 [01:15<00:00,  9.54it/s]\n"
     ]
    },
    {
     "name": "stdout",
     "output_type": "stream",
     "text": [
      "{'val_loss': 3.2883737494305865, 'val_accuracy': 0.47139588100686497, 'precision': 0.2222140766302384, 'recall': 0.47139588100686497, 'f1-score': 0.302045261236125, 'macro_f1-score': 0.01334888543286677, 'balanced_accuracy': 0.020833333333333332, 'mcc': 0.0, 'train_loss': 3.631912084265128}\n",
      "Epoch 3/20\n"
     ]
    },
    {
     "name": "stderr",
     "output_type": "stream",
     "text": [
      "100%|██████████| 716/716 [01:15<00:00,  9.49it/s]\n"
     ]
    },
    {
     "name": "stdout",
     "output_type": "stream",
     "text": [
      "{'val_loss': 3.281511417249354, 'val_accuracy': 0.47139588100686497, 'precision': 0.2222140766302384, 'recall': 0.47139588100686497, 'f1-score': 0.302045261236125, 'macro_f1-score': 0.01334888543286677, 'balanced_accuracy': 0.020833333333333332, 'mcc': 0.0, 'train_loss': 3.5795311050375083}\n",
      "Epoch 4/20\n"
     ]
    },
    {
     "name": "stderr",
     "output_type": "stream",
     "text": [
      "100%|██████████| 716/716 [01:15<00:00,  9.53it/s]\n"
     ]
    },
    {
     "name": "stdout",
     "output_type": "stream",
     "text": [
      "{'val_loss': 3.376109431429607, 'val_accuracy': 0.47139588100686497, 'precision': 0.2222140766302384, 'recall': 0.47139588100686497, 'f1-score': 0.302045261236125, 'macro_f1-score': 0.01334888543286677, 'balanced_accuracy': 0.020833333333333332, 'mcc': 0.0, 'train_loss': 3.650516568948437}\n",
      "Early stopping.\n",
      "\n",
      "[Fold 5]\n",
      "🚀 Using T5-paraphraser for data augmentation + under-sampling\n",
      "🔻 Under-sampling label 0: 2472 → 2000\n",
      "🔧 Augmenting label 1: 21 → 200 (+179)\n",
      "🔧 Augmenting label 2: 64 → 200 (+136)\n",
      "🔧 Augmenting label 3: 24 → 200 (+176)\n",
      "🔧 Augmenting label 4: 191 → 200 (+9)\n",
      "🔧 Augmenting label 5: 112 → 200 (+88)\n",
      "🔧 Augmenting label 6: 92 → 200 (+108)\n",
      "🔧 Augmenting label 7: 31 → 200 (+169)\n",
      "🔧 Augmenting label 8: 68 → 200 (+132)\n",
      "🔧 Augmenting label 9: 29 → 200 (+171)\n",
      "🔧 Augmenting label 10: 68 → 200 (+132)\n",
      "🔧 Augmenting label 11: 168 → 200 (+32)\n",
      "🔧 Augmenting label 12: 190 → 200 (+10)\n",
      "🔧 Augmenting label 13: 29 → 200 (+171)\n",
      "🔧 Augmenting label 14: 22 → 200 (+178)\n",
      "🔧 Augmenting label 15: 25 → 200 (+175)\n",
      "🔧 Augmenting label 16: 19 → 200 (+181)\n",
      "🔧 Augmenting label 17: 183 → 200 (+17)\n",
      "🔧 Augmenting label 18: 92 → 200 (+108)\n",
      "🔧 Augmenting label 19: 44 → 200 (+156)\n",
      "🔧 Augmenting label 20: 14 → 200 (+186)\n",
      "🔧 Augmenting label 21: 35 → 200 (+165)\n",
      "🔧 Augmenting label 22: 76 → 200 (+124)\n",
      "🔧 Augmenting label 23: 158 → 200 (+42)\n",
      "🔧 Augmenting label 24: 13 → 200 (+187)\n",
      "🔧 Augmenting label 25: 44 → 200 (+156)\n",
      "🔧 Augmenting label 26: 84 → 200 (+116)\n",
      "🔧 Augmenting label 27: 48 → 200 (+152)\n",
      "🔧 Augmenting label 28: 11 → 200 (+189)\n",
      "🔧 Augmenting label 29: 13 → 200 (+187)\n",
      "🔧 Augmenting label 30: 11 → 200 (+189)\n",
      "🔧 Augmenting label 31: 75 → 200 (+125)\n",
      "🔧 Augmenting label 32: 36 → 200 (+164)\n",
      "🔧 Augmenting label 33: 31 → 200 (+169)\n",
      "🔧 Augmenting label 34: 30 → 200 (+170)\n",
      "🔧 Augmenting label 35: 11 → 200 (+189)\n",
      "🔧 Augmenting label 36: 22 → 200 (+178)\n",
      "🔧 Augmenting label 37: 16 → 200 (+184)\n",
      "🔧 Augmenting label 38: 33 → 200 (+167)\n",
      "🔧 Augmenting label 39: 10 → 200 (+190)\n",
      "🔧 Augmenting label 40: 9 → 200 (+191)\n",
      "🔧 Augmenting label 41: 57 → 200 (+143)\n",
      "🔧 Augmenting label 42: 18 → 200 (+182)\n",
      "🔧 Augmenting label 43: 9 → 200 (+191)\n",
      "🔧 Augmenting label 44: 54 → 200 (+146)\n",
      "🔧 Augmenting label 46: 61 → 200 (+139)\n",
      "🔧 Augmenting label 47: 80 → 200 (+120)\n",
      "Label distribution after resampling:\n",
      "  label 0: 2000\n",
      "  label 1: 200\n",
      "  label 2: 200\n",
      "  label 3: 200\n",
      "  label 4: 200\n",
      "  label 5: 200\n",
      "  label 6: 200\n",
      "  label 7: 200\n",
      "  label 8: 200\n",
      "  label 9: 200\n",
      "  label 10: 200\n",
      "  label 11: 200\n",
      "  label 12: 200\n",
      "  label 13: 200\n",
      "  label 14: 200\n",
      "  label 15: 200\n",
      "  label 16: 200\n",
      "  label 17: 200\n",
      "  label 18: 200\n",
      "  label 19: 200\n",
      "  label 20: 200\n",
      "  label 21: 200\n",
      "  label 22: 200\n",
      "  label 23: 200\n",
      "  label 24: 200\n",
      "  label 25: 200\n",
      "  label 26: 200\n",
      "  label 27: 200\n",
      "  label 28: 200\n",
      "  label 29: 200\n",
      "  label 30: 200\n",
      "  label 31: 200\n",
      "  label 32: 200\n",
      "  label 33: 200\n",
      "  label 34: 200\n",
      "  label 35: 200\n",
      "  label 36: 200\n",
      "  label 37: 200\n",
      "  label 38: 200\n",
      "  label 39: 200\n",
      "  label 40: 200\n",
      "  label 41: 200\n",
      "  label 42: 200\n",
      "  label 43: 200\n",
      "  label 44: 200\n",
      "  label 45: 242\n",
      "  label 46: 200\n",
      "  label 47: 200\n",
      "model is microsoft/deberta-base\n"
     ]
    },
    {
     "name": "stderr",
     "output_type": "stream",
     "text": [
      "Some weights of DebertaForSequenceClassification were not initialized from the model checkpoint at microsoft/deberta-base and are newly initialized: ['classifier.bias', 'classifier.weight', 'pooler.dense.bias', 'pooler.dense.weight']\n",
      "You should probably TRAIN this model on a down-stream task to be able to use it for predictions and inference.\n"
     ]
    },
    {
     "name": "stdout",
     "output_type": "stream",
     "text": [
      "Using weighted CrossEntropyLoss with weights: tensor([1.7441, 4.0467, 4.0467, 4.0467, 4.0467, 4.0467, 4.0467, 4.0467, 4.0467,\n",
      "        4.0467, 4.0467, 4.0467, 4.0467, 4.0467, 4.0467, 4.0467, 4.0467, 4.0467,\n",
      "        4.0467, 4.0467, 4.0467, 4.0467, 4.0467, 4.0467, 4.0467, 4.0467, 4.0467,\n",
      "        4.0467, 4.0467, 4.0467, 4.0467, 4.0467, 4.0467, 4.0467, 4.0467, 4.0467,\n",
      "        4.0467, 4.0467, 4.0467, 4.0467, 4.0467, 4.0467, 4.0467, 4.0467, 4.0467,\n",
      "        3.8561, 4.0467, 4.0467], device='cuda:0')\n",
      "Epoch 1/20\n"
     ]
    },
    {
     "name": "stderr",
     "output_type": "stream",
     "text": [
      "100%|██████████| 716/716 [01:15<00:00,  9.49it/s]\n"
     ]
    },
    {
     "name": "stdout",
     "output_type": "stream",
     "text": [
      "{'val_loss': 3.184399566999296, 'val_accuracy': 0.4919908466819222, 'precision': 0.34817593463257857, 'recall': 0.4919908466819222, 'f1-score': 0.3638040389527729, 'macro_f1-score': 0.07702086055869238, 'balanced_accuracy': 0.07865504851488957, 'mcc': 0.1886163304184103, 'train_loss': 2.5232563038778038}\n",
      "Epoch 2/20\n"
     ]
    },
    {
     "name": "stderr",
     "output_type": "stream",
     "text": [
      "100%|██████████| 716/716 [01:15<00:00,  9.54it/s]\n"
     ]
    },
    {
     "name": "stdout",
     "output_type": "stream",
     "text": [
      "{'val_loss': 1.618037577809357, 'val_accuracy': 0.6475972540045767, 'precision': 0.6169816755633981, 'recall': 0.6475972540045767, 'f1-score': 0.6149769461838401, 'macro_f1-score': 0.389737487771101, 'balanced_accuracy': 0.3941840911825656, 'mcc': 0.5215465807459352, 'train_loss': 1.3681066966714472}\n",
      "Epoch 3/20\n"
     ]
    },
    {
     "name": "stderr",
     "output_type": "stream",
     "text": [
      "100%|██████████| 716/716 [01:15<00:00,  9.50it/s]\n"
     ]
    },
    {
     "name": "stdout",
     "output_type": "stream",
     "text": [
      "{'val_loss': 1.6281213760375977, 'val_accuracy': 0.6308161708619374, 'precision': 0.6495769080855974, 'recall': 0.6308161708619374, 'f1-score': 0.6251942488511524, 'macro_f1-score': 0.3974608023697675, 'balanced_accuracy': 0.39218085371304195, 'mcc': 0.5165199649591771, 'train_loss': 0.681963363022403}\n",
      "Epoch 4/20\n"
     ]
    },
    {
     "name": "stderr",
     "output_type": "stream",
     "text": [
      "100%|██████████| 716/716 [01:15<00:00,  9.52it/s]\n"
     ]
    },
    {
     "name": "stdout",
     "output_type": "stream",
     "text": [
      "{'val_loss': 1.8795324069697683, 'val_accuracy': 0.6628527841342486, 'precision': 0.6444268129829592, 'recall': 0.6628527841342486, 'f1-score': 0.6284192904846582, 'macro_f1-score': 0.36858897890120584, 'balanced_accuracy': 0.343567422333386, 'mcc': 0.5368296565602368, 'train_loss': 0.3900066480891228}\n",
      "Epoch 5/20\n"
     ]
    },
    {
     "name": "stderr",
     "output_type": "stream",
     "text": [
      "100%|██████████| 716/716 [01:15<00:00,  9.51it/s]\n"
     ]
    },
    {
     "name": "stdout",
     "output_type": "stream",
     "text": [
      "{'val_loss': 2.0260207391366727, 'val_accuracy': 0.5606407322654462, 'precision': 0.6239215179942309, 'recall': 0.5606407322654462, 'f1-score': 0.577739787347238, 'macro_f1-score': 0.3916621981097415, 'balanced_accuracy': 0.4434371702805535, 'mcc': 0.465526326827601, 'train_loss': 0.2448915431481479}\n",
      "Epoch 6/20\n"
     ]
    },
    {
     "name": "stderr",
     "output_type": "stream",
     "text": [
      "100%|██████████| 716/716 [01:15<00:00,  9.50it/s]\n"
     ]
    },
    {
     "name": "stdout",
     "output_type": "stream",
     "text": [
      "{'val_loss': 3.277036271444181, 'val_accuracy': 0.47063310450038137, 'precision': 0.2214955190516669, 'recall': 0.47063310450038137, 'f1-score': 0.3012247152248292, 'macro_f1-score': 0.013334197786998616, 'balanced_accuracy': 0.020833333333333332, 'mcc': 0.0, 'train_loss': 1.4959339988639047}\n",
      "Early stopping.\n",
      "\n",
      " === microsoft/deberta-base + plain + t5 Final 5-fold Cross-Validation Results ===\n",
      "val_loss: 2.3158\n",
      "val_accuracy: 0.6048\n",
      "precision: 0.5556\n",
      "recall: 0.6048\n",
      "f1-score: 0.5627\n",
      "macro_f1-score: 0.3275\n",
      "balanced_accuracy: 0.3277\n",
      "mcc: 0.4195\n",
      "train_loss: 0.9882\n",
      "total_seconds: 21300.0000\n",
      "total_time: 5 hrs 55 mins 0 secs\n",
      "▶ Running: microsoft/deberta-base + cnn + t5\n",
      "tokenizer is microsoft/deberta-base\n",
      "Using device: cuda\n",
      "CUDA Available: True\n",
      "CUDA Device: NVIDIA GeForce RTX 5070 Ti\n",
      "Current GPU Memory Allocated: 0.02 GB\n",
      "Current GPU Memory Cached: 5.30 GB\n",
      "\n",
      "[Fold 1]\n",
      "🚀 Using T5-paraphraser for data augmentation + under-sampling\n",
      "🔻 Under-sampling label 0: 2471 → 2000\n",
      "🔧 Augmenting label 1: 21 → 200 (+179)\n",
      "🔧 Augmenting label 2: 64 → 200 (+136)\n",
      "🔧 Augmenting label 3: 24 → 200 (+176)\n",
      "🔧 Augmenting label 4: 191 → 200 (+9)\n",
      "🔧 Augmenting label 5: 113 → 200 (+87)\n",
      "🔧 Augmenting label 6: 93 → 200 (+107)\n",
      "🔧 Augmenting label 7: 30 → 200 (+170)\n",
      "🔧 Augmenting label 8: 68 → 200 (+132)\n",
      "🔧 Augmenting label 9: 30 → 200 (+170)\n",
      "🔧 Augmenting label 10: 67 → 200 (+133)\n",
      "🔧 Augmenting label 11: 169 → 200 (+31)\n",
      "🔧 Augmenting label 12: 189 → 200 (+11)\n",
      "🔧 Augmenting label 13: 29 → 200 (+171)\n",
      "🔧 Augmenting label 14: 22 → 200 (+178)\n",
      "🔧 Augmenting label 15: 25 → 200 (+175)\n",
      "🔧 Augmenting label 16: 19 → 200 (+181)\n",
      "🔧 Augmenting label 17: 183 → 200 (+17)\n",
      "🔧 Augmenting label 18: 92 → 200 (+108)\n",
      "🔧 Augmenting label 19: 44 → 200 (+156)\n",
      "🔧 Augmenting label 20: 13 → 200 (+187)\n",
      "🔧 Augmenting label 21: 35 → 200 (+165)\n",
      "🔧 Augmenting label 22: 76 → 200 (+124)\n",
      "🔧 Augmenting label 23: 158 → 200 (+42)\n",
      "🔧 Augmenting label 24: 13 → 200 (+187)\n",
      "🔧 Augmenting label 25: 44 → 200 (+156)\n",
      "🔧 Augmenting label 26: 84 → 200 (+116)\n",
      "🔧 Augmenting label 27: 48 → 200 (+152)\n",
      "🔧 Augmenting label 28: 11 → 200 (+189)\n",
      "🔧 Augmenting label 29: 13 → 200 (+187)\n",
      "🔧 Augmenting label 30: 11 → 200 (+189)\n",
      "🔧 Augmenting label 31: 75 → 200 (+125)\n",
      "🔧 Augmenting label 32: 36 → 200 (+164)\n",
      "🔧 Augmenting label 33: 32 → 200 (+168)\n",
      "🔧 Augmenting label 34: 29 → 200 (+171)\n",
      "🔧 Augmenting label 35: 11 → 200 (+189)\n",
      "🔧 Augmenting label 36: 22 → 200 (+178)\n",
      "🔧 Augmenting label 37: 16 → 200 (+184)\n",
      "🔧 Augmenting label 38: 33 → 200 (+167)\n",
      "🔧 Augmenting label 39: 10 → 200 (+190)\n",
      "🔧 Augmenting label 40: 9 → 200 (+191)\n",
      "🔧 Augmenting label 41: 57 → 200 (+143)\n",
      "🔧 Augmenting label 42: 19 → 200 (+181)\n",
      "🔧 Augmenting label 43: 8 → 200 (+192)\n",
      "🔧 Augmenting label 44: 54 → 200 (+146)\n",
      "🔧 Augmenting label 46: 61 → 200 (+139)\n",
      "🔧 Augmenting label 47: 80 → 200 (+120)\n",
      "Label distribution after resampling:\n",
      "  label 0: 2000\n",
      "  label 1: 200\n",
      "  label 2: 200\n",
      "  label 3: 200\n",
      "  label 4: 200\n",
      "  label 5: 200\n",
      "  label 6: 200\n",
      "  label 7: 200\n",
      "  label 8: 200\n",
      "  label 9: 200\n",
      "  label 10: 200\n",
      "  label 11: 200\n",
      "  label 12: 200\n",
      "  label 13: 200\n",
      "  label 14: 200\n",
      "  label 15: 200\n",
      "  label 16: 200\n",
      "  label 17: 200\n",
      "  label 18: 200\n",
      "  label 19: 200\n",
      "  label 20: 200\n",
      "  label 21: 200\n",
      "  label 22: 200\n",
      "  label 23: 200\n",
      "  label 24: 200\n",
      "  label 25: 200\n",
      "  label 26: 200\n",
      "  label 27: 200\n",
      "  label 28: 200\n",
      "  label 29: 200\n",
      "  label 30: 200\n",
      "  label 31: 200\n",
      "  label 32: 200\n",
      "  label 33: 200\n",
      "  label 34: 200\n",
      "  label 35: 200\n",
      "  label 36: 200\n",
      "  label 37: 200\n",
      "  label 38: 200\n",
      "  label 39: 200\n",
      "  label 40: 200\n",
      "  label 41: 200\n",
      "  label 42: 200\n",
      "  label 43: 200\n",
      "  label 44: 200\n",
      "  label 45: 242\n",
      "  label 46: 200\n",
      "  label 47: 200\n",
      "model is microsoft/deberta-base cnn\n",
      "Using weighted CrossEntropyLoss with weights: tensor([1.7441, 4.0467, 4.0467, 4.0467, 4.0467, 4.0467, 4.0467, 4.0467, 4.0467,\n",
      "        4.0467, 4.0467, 4.0467, 4.0467, 4.0467, 4.0467, 4.0467, 4.0467, 4.0467,\n",
      "        4.0467, 4.0467, 4.0467, 4.0467, 4.0467, 4.0467, 4.0467, 4.0467, 4.0467,\n",
      "        4.0467, 4.0467, 4.0467, 4.0467, 4.0467, 4.0467, 4.0467, 4.0467, 4.0467,\n",
      "        4.0467, 4.0467, 4.0467, 4.0467, 4.0467, 4.0467, 4.0467, 4.0467, 4.0467,\n",
      "        3.8561, 4.0467, 4.0467], device='cuda:0')\n",
      "Epoch 1/20\n"
     ]
    },
    {
     "name": "stderr",
     "output_type": "stream",
     "text": [
      "100%|██████████| 716/716 [01:17<00:00,  9.20it/s]\n"
     ]
    },
    {
     "name": "stdout",
     "output_type": "stream",
     "text": [
      "{'val_loss': 2.650295745308806, 'val_accuracy': 0.5182926829268293, 'precision': 0.3438091020156269, 'recall': 0.5182926829268293, 'f1-score': 0.40471598643654166, 'macro_f1-score': 0.0738238625409678, 'balanced_accuracy': 0.10416584596015159, 'mcc': 0.2718455175834268, 'train_loss': 3.262198294341231}\n",
      "Epoch 2/20\n"
     ]
    },
    {
     "name": "stderr",
     "output_type": "stream",
     "text": [
      "100%|██████████| 716/716 [01:17<00:00,  9.21it/s]\n"
     ]
    },
    {
     "name": "stdout",
     "output_type": "stream",
     "text": [
      "{'val_loss': 2.2705345426390813, 'val_accuracy': 0.5701219512195121, 'precision': 0.5233453464954396, 'recall': 0.5701219512195121, 'f1-score': 0.5033176994672797, 'macro_f1-score': 0.21744342112758178, 'balanced_accuracy': 0.23644671809974196, 'mcc': 0.3884607357687735, 'train_loss': 2.313901393939663}\n",
      "Epoch 3/20\n"
     ]
    },
    {
     "name": "stderr",
     "output_type": "stream",
     "text": [
      "100%|██████████| 716/716 [01:17<00:00,  9.22it/s]\n"
     ]
    },
    {
     "name": "stdout",
     "output_type": "stream",
     "text": [
      "{'val_loss': 1.8039545057023443, 'val_accuracy': 0.5891768292682927, 'precision': 0.6029008429792311, 'recall': 0.5891768292682927, 'f1-score': 0.58135151055264, 'macro_f1-score': 0.3513529024137339, 'balanced_accuracy': 0.39037794644478546, 'mcc': 0.4726557839511541, 'train_loss': 1.436355338291416}\n",
      "Epoch 4/20\n"
     ]
    },
    {
     "name": "stderr",
     "output_type": "stream",
     "text": [
      "100%|██████████| 716/716 [01:17<00:00,  9.19it/s]\n"
     ]
    },
    {
     "name": "stdout",
     "output_type": "stream",
     "text": [
      "{'val_loss': 1.9410291023370696, 'val_accuracy': 0.6028963414634146, 'precision': 0.6114388083075378, 'recall': 0.6028963414634146, 'f1-score': 0.5927447422776309, 'macro_f1-score': 0.39079416786195753, 'balanced_accuracy': 0.3993249384066628, 'mcc': 0.46930333918697215, 'train_loss': 0.9302047547382204}\n",
      "Epoch 5/20\n"
     ]
    },
    {
     "name": "stderr",
     "output_type": "stream",
     "text": [
      "100%|██████████| 716/716 [01:17<00:00,  9.21it/s]\n"
     ]
    },
    {
     "name": "stdout",
     "output_type": "stream",
     "text": [
      "{'val_loss': 1.8755265735998385, 'val_accuracy': 0.6196646341463414, 'precision': 0.5918683041190265, 'recall': 0.6196646341463414, 'f1-score': 0.5971829137589129, 'macro_f1-score': 0.3705596250783271, 'balanced_accuracy': 0.37986543406762924, 'mcc': 0.48752366202400316, 'train_loss': 0.6209579894225524}\n",
      "Epoch 6/20\n"
     ]
    },
    {
     "name": "stderr",
     "output_type": "stream",
     "text": [
      "100%|██████████| 716/716 [01:17<00:00,  9.19it/s]\n"
     ]
    },
    {
     "name": "stdout",
     "output_type": "stream",
     "text": [
      "{'val_loss': 2.046843839854729, 'val_accuracy': 0.6219512195121951, 'precision': 0.5856735971925745, 'recall': 0.6219512195121951, 'f1-score': 0.586930621057336, 'macro_f1-score': 0.33034057037122216, 'balanced_accuracy': 0.2980778530249451, 'mcc': 0.4744237975375525, 'train_loss': 0.49585382962942787}\n",
      "Epoch 7/20\n"
     ]
    },
    {
     "name": "stderr",
     "output_type": "stream",
     "text": [
      "100%|██████████| 716/716 [01:17<00:00,  9.22it/s]\n"
     ]
    },
    {
     "name": "stdout",
     "output_type": "stream",
     "text": [
      "{'val_loss': 2.2190286640713857, 'val_accuracy': 0.5990853658536586, 'precision': 0.6094701630545635, 'recall': 0.5990853658536586, 'f1-score': 0.5913330081515362, 'macro_f1-score': 0.37263118948224666, 'balanced_accuracy': 0.3849882736978552, 'mcc': 0.4812505633587129, 'train_loss': 0.34583941265919854}\n",
      "Early stopping.\n",
      "\n",
      "[Fold 2]\n",
      "🚀 Using T5-paraphraser for data augmentation + under-sampling\n",
      "🔻 Under-sampling label 0: 2471 → 2000\n",
      "🔧 Augmenting label 1: 22 → 200 (+178)\n",
      "🔧 Augmenting label 2: 64 → 200 (+136)\n",
      "🔧 Augmenting label 3: 24 → 200 (+176)\n",
      "🔧 Augmenting label 4: 190 → 200 (+10)\n",
      "🔧 Augmenting label 5: 113 → 200 (+87)\n",
      "🔧 Augmenting label 6: 93 → 200 (+107)\n",
      "🔧 Augmenting label 7: 30 → 200 (+170)\n",
      "🔧 Augmenting label 8: 68 → 200 (+132)\n",
      "🔧 Augmenting label 9: 30 → 200 (+170)\n",
      "🔧 Augmenting label 10: 67 → 200 (+133)\n",
      "🔧 Augmenting label 11: 169 → 200 (+31)\n",
      "🔧 Augmenting label 12: 189 → 200 (+11)\n",
      "🔧 Augmenting label 13: 29 → 200 (+171)\n",
      "🔧 Augmenting label 14: 23 → 200 (+177)\n",
      "🔧 Augmenting label 15: 24 → 200 (+176)\n",
      "🔧 Augmenting label 16: 20 → 200 (+180)\n",
      "🔧 Augmenting label 17: 182 → 200 (+18)\n",
      "🔧 Augmenting label 18: 92 → 200 (+108)\n",
      "🔧 Augmenting label 19: 44 → 200 (+156)\n",
      "🔧 Augmenting label 20: 13 → 200 (+187)\n",
      "🔧 Augmenting label 21: 36 → 200 (+164)\n",
      "🔧 Augmenting label 22: 76 → 200 (+124)\n",
      "🔧 Augmenting label 23: 157 → 200 (+43)\n",
      "🔧 Augmenting label 24: 12 → 200 (+188)\n",
      "🔧 Augmenting label 25: 44 → 200 (+156)\n",
      "🔧 Augmenting label 26: 84 → 200 (+116)\n",
      "🔧 Augmenting label 27: 48 → 200 (+152)\n",
      "🔧 Augmenting label 28: 12 → 200 (+188)\n",
      "🔧 Augmenting label 29: 12 → 200 (+188)\n",
      "🔧 Augmenting label 30: 12 → 200 (+188)\n",
      "🔧 Augmenting label 31: 75 → 200 (+125)\n",
      "🔧 Augmenting label 32: 36 → 200 (+164)\n",
      "🔧 Augmenting label 33: 31 → 200 (+169)\n",
      "🔧 Augmenting label 34: 29 → 200 (+171)\n",
      "🔧 Augmenting label 35: 12 → 200 (+188)\n",
      "🔧 Augmenting label 36: 21 → 200 (+179)\n",
      "🔧 Augmenting label 37: 16 → 200 (+184)\n",
      "🔧 Augmenting label 38: 33 → 200 (+167)\n",
      "🔧 Augmenting label 39: 11 → 200 (+189)\n",
      "🔧 Augmenting label 40: 8 → 200 (+192)\n",
      "🔧 Augmenting label 41: 57 → 200 (+143)\n",
      "🔧 Augmenting label 42: 19 → 200 (+181)\n",
      "🔧 Augmenting label 43: 9 → 200 (+191)\n",
      "🔧 Augmenting label 44: 54 → 200 (+146)\n",
      "🔧 Augmenting label 46: 62 → 200 (+138)\n",
      "🔧 Augmenting label 47: 80 → 200 (+120)\n",
      "Label distribution after resampling:\n",
      "  label 0: 2000\n",
      "  label 1: 200\n",
      "  label 2: 200\n",
      "  label 3: 200\n",
      "  label 4: 200\n",
      "  label 5: 200\n",
      "  label 6: 200\n",
      "  label 7: 200\n",
      "  label 8: 200\n",
      "  label 9: 200\n",
      "  label 10: 200\n",
      "  label 11: 200\n",
      "  label 12: 200\n",
      "  label 13: 200\n",
      "  label 14: 200\n",
      "  label 15: 200\n",
      "  label 16: 200\n",
      "  label 17: 200\n",
      "  label 18: 200\n",
      "  label 19: 200\n",
      "  label 20: 200\n",
      "  label 21: 200\n",
      "  label 22: 200\n",
      "  label 23: 200\n",
      "  label 24: 200\n",
      "  label 25: 200\n",
      "  label 26: 200\n",
      "  label 27: 200\n",
      "  label 28: 200\n",
      "  label 29: 200\n",
      "  label 30: 200\n",
      "  label 31: 200\n",
      "  label 32: 200\n",
      "  label 33: 200\n",
      "  label 34: 200\n",
      "  label 35: 200\n",
      "  label 36: 200\n",
      "  label 37: 200\n",
      "  label 38: 200\n",
      "  label 39: 200\n",
      "  label 40: 200\n",
      "  label 41: 200\n",
      "  label 42: 200\n",
      "  label 43: 200\n",
      "  label 44: 200\n",
      "  label 45: 242\n",
      "  label 46: 200\n",
      "  label 47: 200\n",
      "model is microsoft/deberta-base cnn\n",
      "Using weighted CrossEntropyLoss with weights: tensor([1.7441, 4.0467, 4.0467, 4.0467, 4.0467, 4.0467, 4.0467, 4.0467, 4.0467,\n",
      "        4.0467, 4.0467, 4.0467, 4.0467, 4.0467, 4.0467, 4.0467, 4.0467, 4.0467,\n",
      "        4.0467, 4.0467, 4.0467, 4.0467, 4.0467, 4.0467, 4.0467, 4.0467, 4.0467,\n",
      "        4.0467, 4.0467, 4.0467, 4.0467, 4.0467, 4.0467, 4.0467, 4.0467, 4.0467,\n",
      "        4.0467, 4.0467, 4.0467, 4.0467, 4.0467, 4.0467, 4.0467, 4.0467, 4.0467,\n",
      "        3.8561, 4.0467, 4.0467], device='cuda:0')\n",
      "Epoch 1/20\n"
     ]
    },
    {
     "name": "stderr",
     "output_type": "stream",
     "text": [
      "100%|██████████| 716/716 [01:17<00:00,  9.27it/s]\n"
     ]
    },
    {
     "name": "stdout",
     "output_type": "stream",
     "text": [
      "{'val_loss': 2.130397816983665, 'val_accuracy': 0.5598779557589626, 'precision': 0.4680401473437925, 'recall': 0.5598779557589626, 'f1-score': 0.48334645241430413, 'macro_f1-score': 0.18469929219455317, 'balanced_accuracy': 0.21792598098315175, 'mcc': 0.3727680709281282, 'train_loss': 3.032091783744663}\n",
      "Epoch 2/20\n"
     ]
    },
    {
     "name": "stderr",
     "output_type": "stream",
     "text": [
      "100%|██████████| 716/716 [01:15<00:00,  9.44it/s]\n"
     ]
    },
    {
     "name": "stdout",
     "output_type": "stream",
     "text": [
      "{'val_loss': 1.8288866325122555, 'val_accuracy': 0.5636918382913806, 'precision': 0.5862320466118527, 'recall': 0.5636918382913806, 'f1-score': 0.5550931483939044, 'macro_f1-score': 0.2974625616119843, 'balanced_accuracy': 0.3248667814694088, 'mcc': 0.43384116440583176, 'train_loss': 1.8368093196573205}\n",
      "Epoch 3/20\n"
     ]
    },
    {
     "name": "stderr",
     "output_type": "stream",
     "text": [
      "100%|██████████| 716/716 [01:15<00:00,  9.43it/s]\n"
     ]
    },
    {
     "name": "stdout",
     "output_type": "stream",
     "text": [
      "{'val_loss': 1.7580504344730843, 'val_accuracy': 0.6170861937452327, 'precision': 0.6179453428017769, 'recall': 0.6170861937452327, 'f1-score': 0.6060874519725384, 'macro_f1-score': 0.3744963268249463, 'balanced_accuracy': 0.3821527740298179, 'mcc': 0.492760362318099, 'train_loss': 1.176816405114515}\n",
      "Epoch 4/20\n"
     ]
    },
    {
     "name": "stderr",
     "output_type": "stream",
     "text": [
      "100%|██████████| 716/716 [01:17<00:00,  9.28it/s]\n"
     ]
    },
    {
     "name": "stdout",
     "output_type": "stream",
     "text": [
      "{'val_loss': 1.737498774034221, 'val_accuracy': 0.6147978642257819, 'precision': 0.6322088847981764, 'recall': 0.6147978642257819, 'f1-score': 0.6091928699229662, 'macro_f1-score': 0.3811141535053226, 'balanced_accuracy': 0.39735380188148595, 'mcc': 0.5012530691774839, 'train_loss': 0.7959099809779635}\n",
      "Epoch 5/20\n"
     ]
    },
    {
     "name": "stderr",
     "output_type": "stream",
     "text": [
      "100%|██████████| 716/716 [01:17<00:00,  9.23it/s]\n"
     ]
    },
    {
     "name": "stdout",
     "output_type": "stream",
     "text": [
      "{'val_loss': 1.8917049340358594, 'val_accuracy': 0.6231884057971014, 'precision': 0.6271104569123094, 'recall': 0.6231884057971014, 'f1-score': 0.6141032328741943, 'macro_f1-score': 0.36006661964567693, 'balanced_accuracy': 0.380776565503278, 'mcc': 0.5039429754820297, 'train_loss': 0.5661470141969414}\n",
      "Epoch 6/20\n"
     ]
    },
    {
     "name": "stderr",
     "output_type": "stream",
     "text": [
      "100%|██████████| 716/716 [01:17<00:00,  9.19it/s]\n"
     ]
    },
    {
     "name": "stdout",
     "output_type": "stream",
     "text": [
      "{'val_loss': 2.067469226150978, 'val_accuracy': 0.6445461479786423, 'precision': 0.6421015556955898, 'recall': 0.6445461479786423, 'f1-score': 0.6362966360924376, 'macro_f1-score': 0.39065833583451387, 'balanced_accuracy': 0.4052697648171358, 'mcc': 0.5345744560512202, 'train_loss': 0.40411884763002315}\n",
      "Epoch 7/20\n"
     ]
    },
    {
     "name": "stderr",
     "output_type": "stream",
     "text": [
      "100%|██████████| 716/716 [01:18<00:00,  9.17it/s]\n"
     ]
    },
    {
     "name": "stdout",
     "output_type": "stream",
     "text": [
      "{'val_loss': 2.2459836762125898, 'val_accuracy': 0.6209000762776506, 'precision': 0.6225591217837457, 'recall': 0.6209000762776506, 'f1-score': 0.6122047236298707, 'macro_f1-score': 0.3575068312272567, 'balanced_accuracy': 0.3840389941948766, 'mcc': 0.5035887057595005, 'train_loss': 0.32141908106144373}\n",
      "Epoch 8/20\n"
     ]
    },
    {
     "name": "stderr",
     "output_type": "stream",
     "text": [
      "100%|██████████| 716/716 [01:17<00:00,  9.20it/s]\n"
     ]
    },
    {
     "name": "stdout",
     "output_type": "stream",
     "text": [
      "{'val_loss': 2.1794836920935934, 'val_accuracy': 0.6445461479786423, 'precision': 0.6211319264108344, 'recall': 0.6445461479786423, 'f1-score': 0.6248861655996433, 'macro_f1-score': 0.37983234517134434, 'balanced_accuracy': 0.3783098636685856, 'mcc': 0.5221152897225501, 'train_loss': 0.29965693416209194}\n",
      "Epoch 9/20\n"
     ]
    },
    {
     "name": "stderr",
     "output_type": "stream",
     "text": [
      "100%|██████████| 716/716 [01:17<00:00,  9.20it/s]\n"
     ]
    },
    {
     "name": "stdout",
     "output_type": "stream",
     "text": [
      "{'val_loss': 2.401743026768289, 'val_accuracy': 0.6186117467581999, 'precision': 0.6246133180712945, 'recall': 0.6186117467581999, 'f1-score': 0.6105094092620345, 'macro_f1-score': 0.3585939641839559, 'balanced_accuracy': 0.37698390534384796, 'mcc': 0.4976239272849373, 'train_loss': 0.21544618098918536}\n",
      "Early stopping.\n",
      "\n",
      "[Fold 3]\n",
      "🚀 Using T5-paraphraser for data augmentation + under-sampling\n",
      "🔻 Under-sampling label 0: 2471 → 2000\n",
      "🔧 Augmenting label 1: 22 → 200 (+178)\n",
      "🔧 Augmenting label 2: 64 → 200 (+136)\n",
      "🔧 Augmenting label 3: 24 → 200 (+176)\n",
      "🔧 Augmenting label 4: 190 → 200 (+10)\n",
      "🔧 Augmenting label 5: 113 → 200 (+87)\n",
      "🔧 Augmenting label 6: 93 → 200 (+107)\n",
      "🔧 Augmenting label 7: 30 → 200 (+170)\n",
      "🔧 Augmenting label 8: 68 → 200 (+132)\n",
      "🔧 Augmenting label 9: 30 → 200 (+170)\n",
      "🔧 Augmenting label 10: 67 → 200 (+133)\n",
      "🔧 Augmenting label 11: 169 → 200 (+31)\n",
      "🔧 Augmenting label 12: 190 → 200 (+10)\n",
      "🔧 Augmenting label 13: 28 → 200 (+172)\n",
      "🔧 Augmenting label 14: 23 → 200 (+177)\n",
      "🔧 Augmenting label 15: 25 → 200 (+175)\n",
      "🔧 Augmenting label 16: 19 → 200 (+181)\n",
      "🔧 Augmenting label 17: 182 → 200 (+18)\n",
      "🔧 Augmenting label 18: 92 → 200 (+108)\n",
      "🔧 Augmenting label 19: 44 → 200 (+156)\n",
      "🔧 Augmenting label 20: 14 → 200 (+186)\n",
      "🔧 Augmenting label 21: 35 → 200 (+165)\n",
      "🔧 Augmenting label 22: 76 → 200 (+124)\n",
      "🔧 Augmenting label 23: 157 → 200 (+43)\n",
      "🔧 Augmenting label 24: 13 → 200 (+187)\n",
      "🔧 Augmenting label 25: 44 → 200 (+156)\n",
      "🔧 Augmenting label 26: 84 → 200 (+116)\n",
      "🔧 Augmenting label 27: 48 → 200 (+152)\n",
      "🔧 Augmenting label 28: 11 → 200 (+189)\n",
      "🔧 Augmenting label 29: 13 → 200 (+187)\n",
      "🔧 Augmenting label 30: 11 → 200 (+189)\n",
      "🔧 Augmenting label 31: 76 → 200 (+124)\n",
      "🔧 Augmenting label 32: 36 → 200 (+164)\n",
      "🔧 Augmenting label 33: 31 → 200 (+169)\n",
      "🔧 Augmenting label 34: 30 → 200 (+170)\n",
      "🔧 Augmenting label 35: 11 → 200 (+189)\n",
      "🔧 Augmenting label 36: 21 → 200 (+179)\n",
      "🔧 Augmenting label 37: 16 → 200 (+184)\n",
      "🔧 Augmenting label 38: 32 → 200 (+168)\n",
      "🔧 Augmenting label 39: 11 → 200 (+189)\n",
      "🔧 Augmenting label 40: 9 → 200 (+191)\n",
      "🔧 Augmenting label 41: 57 → 200 (+143)\n",
      "🔧 Augmenting label 42: 18 → 200 (+182)\n",
      "🔧 Augmenting label 43: 9 → 200 (+191)\n",
      "🔧 Augmenting label 44: 55 → 200 (+145)\n",
      "🔧 Augmenting label 46: 62 → 200 (+138)\n",
      "🔧 Augmenting label 47: 80 → 200 (+120)\n",
      "Label distribution after resampling:\n",
      "  label 0: 2000\n",
      "  label 1: 200\n",
      "  label 2: 200\n",
      "  label 3: 200\n",
      "  label 4: 200\n",
      "  label 5: 200\n",
      "  label 6: 200\n",
      "  label 7: 200\n",
      "  label 8: 200\n",
      "  label 9: 200\n",
      "  label 10: 200\n",
      "  label 11: 200\n",
      "  label 12: 200\n",
      "  label 13: 200\n",
      "  label 14: 200\n",
      "  label 15: 200\n",
      "  label 16: 200\n",
      "  label 17: 200\n",
      "  label 18: 200\n",
      "  label 19: 200\n",
      "  label 20: 200\n",
      "  label 21: 200\n",
      "  label 22: 200\n",
      "  label 23: 200\n",
      "  label 24: 200\n",
      "  label 25: 200\n",
      "  label 26: 200\n",
      "  label 27: 200\n",
      "  label 28: 200\n",
      "  label 29: 200\n",
      "  label 30: 200\n",
      "  label 31: 200\n",
      "  label 32: 200\n",
      "  label 33: 200\n",
      "  label 34: 200\n",
      "  label 35: 200\n",
      "  label 36: 200\n",
      "  label 37: 200\n",
      "  label 38: 200\n",
      "  label 39: 200\n",
      "  label 40: 200\n",
      "  label 41: 200\n",
      "  label 42: 200\n",
      "  label 43: 200\n",
      "  label 44: 200\n",
      "  label 45: 241\n",
      "  label 46: 200\n",
      "  label 47: 200\n",
      "model is microsoft/deberta-base cnn\n",
      "Using weighted CrossEntropyLoss with weights: tensor([1.7441, 4.0466, 4.0466, 4.0466, 4.0466, 4.0466, 4.0466, 4.0466, 4.0466,\n",
      "        4.0466, 4.0466, 4.0466, 4.0466, 4.0466, 4.0466, 4.0466, 4.0466, 4.0466,\n",
      "        4.0466, 4.0466, 4.0466, 4.0466, 4.0466, 4.0466, 4.0466, 4.0466, 4.0466,\n",
      "        4.0466, 4.0466, 4.0466, 4.0466, 4.0466, 4.0466, 4.0466, 4.0466, 4.0466,\n",
      "        4.0466, 4.0466, 4.0466, 4.0466, 4.0466, 4.0466, 4.0466, 4.0466, 4.0466,\n",
      "        3.8602, 4.0466, 4.0466], device='cuda:0')\n",
      "Epoch 1/20\n"
     ]
    },
    {
     "name": "stderr",
     "output_type": "stream",
     "text": [
      "100%|██████████| 716/716 [01:17<00:00,  9.19it/s]\n"
     ]
    },
    {
     "name": "stdout",
     "output_type": "stream",
     "text": [
      "{'val_loss': 3.590268033306773, 'val_accuracy': 0.47139588100686497, 'precision': 0.2222140766302384, 'recall': 0.47139588100686497, 'f1-score': 0.302045261236125, 'macro_f1-score': 0.01334888543286677, 'balanced_accuracy': 0.020833333333333332, 'mcc': 0.0, 'train_loss': 3.3392707500710834}\n",
      "Epoch 2/20\n"
     ]
    },
    {
     "name": "stderr",
     "output_type": "stream",
     "text": [
      "100%|██████████| 716/716 [01:17<00:00,  9.21it/s]\n"
     ]
    },
    {
     "name": "stdout",
     "output_type": "stream",
     "text": [
      "{'val_loss': 3.5764305097300833, 'val_accuracy': 0.47139588100686497, 'precision': 0.2222140766302384, 'recall': 0.47139588100686497, 'f1-score': 0.302045261236125, 'macro_f1-score': 0.01334888543286677, 'balanced_accuracy': 0.020833333333333332, 'mcc': 0.0, 'train_loss': 3.6717035777075995}\n",
      "Epoch 3/20\n"
     ]
    },
    {
     "name": "stderr",
     "output_type": "stream",
     "text": [
      "100%|██████████| 716/716 [01:18<00:00,  9.17it/s]\n"
     ]
    },
    {
     "name": "stdout",
     "output_type": "stream",
     "text": [
      "{'val_loss': 3.5148357211089714, 'val_accuracy': 0.47139588100686497, 'precision': 0.2222140766302384, 'recall': 0.47139588100686497, 'f1-score': 0.302045261236125, 'macro_f1-score': 0.01334888543286677, 'balanced_accuracy': 0.020833333333333332, 'mcc': 0.0, 'train_loss': 3.669600100490634}\n",
      "Epoch 4/20\n"
     ]
    },
    {
     "name": "stderr",
     "output_type": "stream",
     "text": [
      "100%|██████████| 716/716 [01:18<00:00,  9.16it/s]\n"
     ]
    },
    {
     "name": "stdout",
     "output_type": "stream",
     "text": [
      "{'val_loss': 3.5321184396743774, 'val_accuracy': 0.47139588100686497, 'precision': 0.2222140766302384, 'recall': 0.47139588100686497, 'f1-score': 0.302045261236125, 'macro_f1-score': 0.01334888543286677, 'balanced_accuracy': 0.020833333333333332, 'mcc': 0.0, 'train_loss': 3.661466430352387}\n",
      "Early stopping.\n",
      "\n",
      "[Fold 4]\n",
      "🚀 Using T5-paraphraser for data augmentation + under-sampling\n",
      "🔻 Under-sampling label 0: 2471 → 2000\n",
      "🔧 Augmenting label 1: 22 → 200 (+178)\n",
      "🔧 Augmenting label 2: 64 → 200 (+136)\n",
      "🔧 Augmenting label 3: 24 → 200 (+176)\n",
      "🔧 Augmenting label 4: 190 → 200 (+10)\n",
      "🔧 Augmenting label 5: 113 → 200 (+87)\n",
      "🔧 Augmenting label 6: 93 → 200 (+107)\n",
      "🔧 Augmenting label 7: 31 → 200 (+169)\n",
      "🔧 Augmenting label 8: 68 → 200 (+132)\n",
      "🔧 Augmenting label 9: 29 → 200 (+171)\n",
      "🔧 Augmenting label 10: 67 → 200 (+133)\n",
      "🔧 Augmenting label 11: 169 → 200 (+31)\n",
      "🔧 Augmenting label 12: 190 → 200 (+10)\n",
      "🔧 Augmenting label 13: 29 → 200 (+171)\n",
      "🔧 Augmenting label 14: 22 → 200 (+178)\n",
      "🔧 Augmenting label 15: 25 → 200 (+175)\n",
      "🔧 Augmenting label 16: 19 → 200 (+181)\n",
      "🔧 Augmenting label 17: 182 → 200 (+18)\n",
      "🔧 Augmenting label 18: 92 → 200 (+108)\n",
      "🔧 Augmenting label 19: 44 → 200 (+156)\n",
      "🔧 Augmenting label 20: 14 → 200 (+186)\n",
      "🔧 Augmenting label 21: 35 → 200 (+165)\n",
      "🔧 Augmenting label 22: 76 → 200 (+124)\n",
      "🔧 Augmenting label 23: 158 → 200 (+42)\n",
      "🔧 Augmenting label 24: 13 → 200 (+187)\n",
      "🔧 Augmenting label 25: 44 → 200 (+156)\n",
      "🔧 Augmenting label 26: 84 → 200 (+116)\n",
      "🔧 Augmenting label 27: 48 → 200 (+152)\n",
      "🔧 Augmenting label 28: 11 → 200 (+189)\n",
      "🔧 Augmenting label 29: 13 → 200 (+187)\n",
      "🔧 Augmenting label 30: 11 → 200 (+189)\n",
      "🔧 Augmenting label 31: 75 → 200 (+125)\n",
      "🔧 Augmenting label 32: 36 → 200 (+164)\n",
      "🔧 Augmenting label 33: 31 → 200 (+169)\n",
      "🔧 Augmenting label 34: 30 → 200 (+170)\n",
      "🔧 Augmenting label 35: 11 → 200 (+189)\n",
      "🔧 Augmenting label 36: 22 → 200 (+178)\n",
      "🔧 Augmenting label 37: 16 → 200 (+184)\n",
      "🔧 Augmenting label 38: 33 → 200 (+167)\n",
      "🔧 Augmenting label 39: 10 → 200 (+190)\n",
      "🔧 Augmenting label 40: 9 → 200 (+191)\n",
      "🔧 Augmenting label 41: 56 → 200 (+144)\n",
      "🔧 Augmenting label 42: 18 → 200 (+182)\n",
      "🔧 Augmenting label 43: 9 → 200 (+191)\n",
      "🔧 Augmenting label 44: 55 → 200 (+145)\n",
      "🔧 Augmenting label 46: 62 → 200 (+138)\n",
      "🔧 Augmenting label 47: 80 → 200 (+120)\n",
      "Label distribution after resampling:\n",
      "  label 0: 2000\n",
      "  label 1: 200\n",
      "  label 2: 200\n",
      "  label 3: 200\n",
      "  label 4: 200\n",
      "  label 5: 200\n",
      "  label 6: 200\n",
      "  label 7: 200\n",
      "  label 8: 200\n",
      "  label 9: 200\n",
      "  label 10: 200\n",
      "  label 11: 200\n",
      "  label 12: 200\n",
      "  label 13: 200\n",
      "  label 14: 200\n",
      "  label 15: 200\n",
      "  label 16: 200\n",
      "  label 17: 200\n",
      "  label 18: 200\n",
      "  label 19: 200\n",
      "  label 20: 200\n",
      "  label 21: 200\n",
      "  label 22: 200\n",
      "  label 23: 200\n",
      "  label 24: 200\n",
      "  label 25: 200\n",
      "  label 26: 200\n",
      "  label 27: 200\n",
      "  label 28: 200\n",
      "  label 29: 200\n",
      "  label 30: 200\n",
      "  label 31: 200\n",
      "  label 32: 200\n",
      "  label 33: 200\n",
      "  label 34: 200\n",
      "  label 35: 200\n",
      "  label 36: 200\n",
      "  label 37: 200\n",
      "  label 38: 200\n",
      "  label 39: 200\n",
      "  label 40: 200\n",
      "  label 41: 200\n",
      "  label 42: 200\n",
      "  label 43: 200\n",
      "  label 44: 200\n",
      "  label 45: 241\n",
      "  label 46: 200\n",
      "  label 47: 200\n",
      "model is microsoft/deberta-base cnn\n",
      "Using weighted CrossEntropyLoss with weights: tensor([1.7441, 4.0466, 4.0466, 4.0466, 4.0466, 4.0466, 4.0466, 4.0466, 4.0466,\n",
      "        4.0466, 4.0466, 4.0466, 4.0466, 4.0466, 4.0466, 4.0466, 4.0466, 4.0466,\n",
      "        4.0466, 4.0466, 4.0466, 4.0466, 4.0466, 4.0466, 4.0466, 4.0466, 4.0466,\n",
      "        4.0466, 4.0466, 4.0466, 4.0466, 4.0466, 4.0466, 4.0466, 4.0466, 4.0466,\n",
      "        4.0466, 4.0466, 4.0466, 4.0466, 4.0466, 4.0466, 4.0466, 4.0466, 4.0466,\n",
      "        3.8602, 4.0466, 4.0466], device='cuda:0')\n",
      "Epoch 1/20\n"
     ]
    },
    {
     "name": "stderr",
     "output_type": "stream",
     "text": [
      "100%|██████████| 716/716 [01:19<00:00,  8.97it/s]\n"
     ]
    },
    {
     "name": "stdout",
     "output_type": "stream",
     "text": [
      "{'val_loss': 2.5390183271431344, 'val_accuracy': 0.40198321891685734, 'precision': 0.39536637304147143, 'recall': 0.40198321891685734, 'f1-score': 0.376101123392669, 'macro_f1-score': 0.0792136920549394, 'balanced_accuracy': 0.14083570299912201, 'mcc': 0.2276867606873785, 'train_loss': 3.2073967565038353}\n",
      "Epoch 2/20\n"
     ]
    },
    {
     "name": "stderr",
     "output_type": "stream",
     "text": [
      "100%|██████████| 716/716 [01:19<00:00,  8.98it/s]\n"
     ]
    },
    {
     "name": "stdout",
     "output_type": "stream",
     "text": [
      "{'val_loss': 1.8153925465374459, 'val_accuracy': 0.5781845919145691, 'precision': 0.5633556403349572, 'recall': 0.5781845919145691, 'f1-score': 0.5488043963062622, 'macro_f1-score': 0.26595708809744606, 'balanced_accuracy': 0.30042328871718066, 'mcc': 0.4472076716884202, 'train_loss': 2.1722385562831463}\n",
      "Epoch 3/20\n"
     ]
    },
    {
     "name": "stderr",
     "output_type": "stream",
     "text": [
      "100%|██████████| 716/716 [01:19<00:00,  9.01it/s]\n"
     ]
    },
    {
     "name": "stdout",
     "output_type": "stream",
     "text": [
      "{'val_loss': 1.8457233982115258, 'val_accuracy': 0.5995423340961098, 'precision': 0.5895133779781537, 'recall': 0.5995423340961098, 'f1-score': 0.5844462764826287, 'macro_f1-score': 0.3384440077869238, 'balanced_accuracy': 0.3608044577248634, 'mcc': 0.4702951088235813, 'train_loss': 1.4004319892694144}\n",
      "Epoch 4/20\n"
     ]
    },
    {
     "name": "stderr",
     "output_type": "stream",
     "text": [
      "100%|██████████| 716/716 [01:18<00:00,  9.11it/s]\n"
     ]
    },
    {
     "name": "stdout",
     "output_type": "stream",
     "text": [
      "{'val_loss': 1.902907323909969, 'val_accuracy': 0.6262395118230358, 'precision': 0.6052565209052369, 'recall': 0.6262395118230358, 'f1-score': 0.594224439375892, 'macro_f1-score': 0.33862186448120185, 'balanced_accuracy': 0.3279890458008411, 'mcc': 0.4864779756672981, 'train_loss': 1.0319476313472793}\n",
      "Epoch 5/20\n"
     ]
    },
    {
     "name": "stderr",
     "output_type": "stream",
     "text": [
      "100%|██████████| 716/716 [01:19<00:00,  9.02it/s]\n"
     ]
    },
    {
     "name": "stdout",
     "output_type": "stream",
     "text": [
      "{'val_loss': 1.9240109306283113, 'val_accuracy': 0.627765064836003, 'precision': 0.5994325499109716, 'recall': 0.627765064836003, 'f1-score': 0.5995707608515366, 'macro_f1-score': 0.33063537983945573, 'balanced_accuracy': 0.3286017431980855, 'mcc': 0.4983563265670607, 'train_loss': 0.6632226859681132}\n",
      "Epoch 6/20\n"
     ]
    },
    {
     "name": "stderr",
     "output_type": "stream",
     "text": [
      "100%|██████████| 716/716 [01:19<00:00,  8.99it/s]\n"
     ]
    },
    {
     "name": "stdout",
     "output_type": "stream",
     "text": [
      "{'val_loss': 2.003940418816921, 'val_accuracy': 0.6193745232646835, 'precision': 0.6363891046106296, 'recall': 0.6193745232646835, 'f1-score': 0.6108164848194337, 'macro_f1-score': 0.355722122800646, 'balanced_accuracy': 0.35389349332631176, 'mcc': 0.49655278414220233, 'train_loss': 0.4955869612538297}\n",
      "Epoch 7/20\n"
     ]
    },
    {
     "name": "stderr",
     "output_type": "stream",
     "text": [
      "100%|██████████| 716/716 [01:19<00:00,  9.02it/s]\n"
     ]
    },
    {
     "name": "stdout",
     "output_type": "stream",
     "text": [
      "{'val_loss': 2.0841570714624917, 'val_accuracy': 0.6193745232646835, 'precision': 0.6094443926512668, 'recall': 0.6193745232646835, 'f1-score': 0.6055378566547247, 'macro_f1-score': 0.3617362156257263, 'balanced_accuracy': 0.3543768505424998, 'mcc': 0.4956040633053314, 'train_loss': 0.39885193334538593}\n",
      "Epoch 8/20\n"
     ]
    },
    {
     "name": "stderr",
     "output_type": "stream",
     "text": [
      "100%|██████████| 716/716 [01:18<00:00,  9.14it/s]\n"
     ]
    },
    {
     "name": "stdout",
     "output_type": "stream",
     "text": [
      "{'val_loss': 2.3277151882194165, 'val_accuracy': 0.6468344774980931, 'precision': 0.6272620001971421, 'recall': 0.6468344774980931, 'f1-score': 0.6251243711195524, 'macro_f1-score': 0.3804153812283489, 'balanced_accuracy': 0.35567461802077277, 'mcc': 0.52508279261882, 'train_loss': 0.28567862924703463}\n",
      "Epoch 9/20\n"
     ]
    },
    {
     "name": "stderr",
     "output_type": "stream",
     "text": [
      "100%|██████████| 716/716 [01:18<00:00,  9.13it/s]\n"
     ]
    },
    {
     "name": "stdout",
     "output_type": "stream",
     "text": [
      "{'val_loss': 2.3699975729715534, 'val_accuracy': 0.5911517925247902, 'precision': 0.6421659119361867, 'recall': 0.5911517925247902, 'f1-score': 0.6048696103776425, 'macro_f1-score': 0.3908684415862716, 'balanced_accuracy': 0.4218167713584971, 'mcc': 0.48950498080243654, 'train_loss': 0.250068984653244}\n",
      "Epoch 10/20\n"
     ]
    },
    {
     "name": "stderr",
     "output_type": "stream",
     "text": [
      "100%|██████████| 716/716 [01:18<00:00,  9.12it/s]\n"
     ]
    },
    {
     "name": "stdout",
     "output_type": "stream",
     "text": [
      "{'val_loss': 2.6096708316628527, 'val_accuracy': 0.6338672768878718, 'precision': 0.6370323746947788, 'recall': 0.6338672768878718, 'f1-score': 0.6168852527752046, 'macro_f1-score': 0.3666095225163101, 'balanced_accuracy': 0.36529603593670323, 'mcc': 0.5113005601630267, 'train_loss': 0.21741061371506593}\n",
      "Epoch 11/20\n"
     ]
    },
    {
     "name": "stderr",
     "output_type": "stream",
     "text": [
      "100%|██████████| 716/716 [01:19<00:00,  9.05it/s]\n"
     ]
    },
    {
     "name": "stdout",
     "output_type": "stream",
     "text": [
      "{'val_loss': 2.5244002487601302, 'val_accuracy': 0.6109839816933639, 'precision': 0.6286542904236879, 'recall': 0.6109839816933639, 'f1-score': 0.6065664050422916, 'macro_f1-score': 0.3624120870745518, 'balanced_accuracy': 0.38771104128120965, 'mcc': 0.500365292747008, 'train_loss': 0.18714533066936356}\n",
      "Epoch 12/20\n"
     ]
    },
    {
     "name": "stderr",
     "output_type": "stream",
     "text": [
      "100%|██████████| 716/716 [01:18<00:00,  9.08it/s]\n"
     ]
    },
    {
     "name": "stdout",
     "output_type": "stream",
     "text": [
      "{'val_loss': 2.672140033415905, 'val_accuracy': 0.6384439359267735, 'precision': 0.6270514641825821, 'recall': 0.6384439359267735, 'f1-score': 0.6120147430742336, 'macro_f1-score': 0.3545572261855279, 'balanced_accuracy': 0.334757991331355, 'mcc': 0.5059672881832572, 'train_loss': 0.19632107134847954}\n",
      "Early stopping.\n",
      "\n",
      "[Fold 5]\n",
      "🚀 Using T5-paraphraser for data augmentation + under-sampling\n",
      "🔻 Under-sampling label 0: 2472 → 2000\n",
      "🔧 Augmenting label 1: 21 → 200 (+179)\n",
      "🔧 Augmenting label 2: 64 → 200 (+136)\n",
      "🔧 Augmenting label 3: 24 → 200 (+176)\n",
      "🔧 Augmenting label 4: 191 → 200 (+9)\n",
      "🔧 Augmenting label 5: 112 → 200 (+88)\n",
      "🔧 Augmenting label 6: 92 → 200 (+108)\n",
      "🔧 Augmenting label 7: 31 → 200 (+169)\n",
      "🔧 Augmenting label 8: 68 → 200 (+132)\n",
      "🔧 Augmenting label 9: 29 → 200 (+171)\n",
      "🔧 Augmenting label 10: 68 → 200 (+132)\n",
      "🔧 Augmenting label 11: 168 → 200 (+32)\n",
      "🔧 Augmenting label 12: 190 → 200 (+10)\n",
      "🔧 Augmenting label 13: 29 → 200 (+171)\n",
      "🔧 Augmenting label 14: 22 → 200 (+178)\n",
      "🔧 Augmenting label 15: 25 → 200 (+175)\n",
      "🔧 Augmenting label 16: 19 → 200 (+181)\n",
      "🔧 Augmenting label 17: 183 → 200 (+17)\n",
      "🔧 Augmenting label 18: 92 → 200 (+108)\n",
      "🔧 Augmenting label 19: 44 → 200 (+156)\n",
      "🔧 Augmenting label 20: 14 → 200 (+186)\n",
      "🔧 Augmenting label 21: 35 → 200 (+165)\n",
      "🔧 Augmenting label 22: 76 → 200 (+124)\n",
      "🔧 Augmenting label 23: 158 → 200 (+42)\n",
      "🔧 Augmenting label 24: 13 → 200 (+187)\n",
      "🔧 Augmenting label 25: 44 → 200 (+156)\n",
      "🔧 Augmenting label 26: 84 → 200 (+116)\n",
      "🔧 Augmenting label 27: 48 → 200 (+152)\n",
      "🔧 Augmenting label 28: 11 → 200 (+189)\n",
      "🔧 Augmenting label 29: 13 → 200 (+187)\n",
      "🔧 Augmenting label 30: 11 → 200 (+189)\n",
      "🔧 Augmenting label 31: 75 → 200 (+125)\n",
      "🔧 Augmenting label 32: 36 → 200 (+164)\n",
      "🔧 Augmenting label 33: 31 → 200 (+169)\n",
      "🔧 Augmenting label 34: 30 → 200 (+170)\n",
      "🔧 Augmenting label 35: 11 → 200 (+189)\n",
      "🔧 Augmenting label 36: 22 → 200 (+178)\n",
      "🔧 Augmenting label 37: 16 → 200 (+184)\n",
      "🔧 Augmenting label 38: 33 → 200 (+167)\n",
      "🔧 Augmenting label 39: 10 → 200 (+190)\n",
      "🔧 Augmenting label 40: 9 → 200 (+191)\n",
      "🔧 Augmenting label 41: 57 → 200 (+143)\n",
      "🔧 Augmenting label 42: 18 → 200 (+182)\n",
      "🔧 Augmenting label 43: 9 → 200 (+191)\n",
      "🔧 Augmenting label 44: 54 → 200 (+146)\n",
      "🔧 Augmenting label 46: 61 → 200 (+139)\n",
      "🔧 Augmenting label 47: 80 → 200 (+120)\n",
      "Label distribution after resampling:\n",
      "  label 0: 2000\n",
      "  label 1: 200\n",
      "  label 2: 200\n",
      "  label 3: 200\n",
      "  label 4: 200\n",
      "  label 5: 200\n",
      "  label 6: 200\n",
      "  label 7: 200\n",
      "  label 8: 200\n",
      "  label 9: 200\n",
      "  label 10: 200\n",
      "  label 11: 200\n",
      "  label 12: 200\n",
      "  label 13: 200\n",
      "  label 14: 200\n",
      "  label 15: 200\n",
      "  label 16: 200\n",
      "  label 17: 200\n",
      "  label 18: 200\n",
      "  label 19: 200\n",
      "  label 20: 200\n",
      "  label 21: 200\n",
      "  label 22: 200\n",
      "  label 23: 200\n",
      "  label 24: 200\n",
      "  label 25: 200\n",
      "  label 26: 200\n",
      "  label 27: 200\n",
      "  label 28: 200\n",
      "  label 29: 200\n",
      "  label 30: 200\n",
      "  label 31: 200\n",
      "  label 32: 200\n",
      "  label 33: 200\n",
      "  label 34: 200\n",
      "  label 35: 200\n",
      "  label 36: 200\n",
      "  label 37: 200\n",
      "  label 38: 200\n",
      "  label 39: 200\n",
      "  label 40: 200\n",
      "  label 41: 200\n",
      "  label 42: 200\n",
      "  label 43: 200\n",
      "  label 44: 200\n",
      "  label 45: 242\n",
      "  label 46: 200\n",
      "  label 47: 200\n",
      "model is microsoft/deberta-base cnn\n",
      "Using weighted CrossEntropyLoss with weights: tensor([1.7441, 4.0467, 4.0467, 4.0467, 4.0467, 4.0467, 4.0467, 4.0467, 4.0467,\n",
      "        4.0467, 4.0467, 4.0467, 4.0467, 4.0467, 4.0467, 4.0467, 4.0467, 4.0467,\n",
      "        4.0467, 4.0467, 4.0467, 4.0467, 4.0467, 4.0467, 4.0467, 4.0467, 4.0467,\n",
      "        4.0467, 4.0467, 4.0467, 4.0467, 4.0467, 4.0467, 4.0467, 4.0467, 4.0467,\n",
      "        4.0467, 4.0467, 4.0467, 4.0467, 4.0467, 4.0467, 4.0467, 4.0467, 4.0467,\n",
      "        3.8561, 4.0467, 4.0467], device='cuda:0')\n",
      "Epoch 1/20\n"
     ]
    },
    {
     "name": "stderr",
     "output_type": "stream",
     "text": [
      "100%|██████████| 716/716 [01:18<00:00,  9.16it/s]\n"
     ]
    },
    {
     "name": "stdout",
     "output_type": "stream",
     "text": [
      "{'val_loss': 2.4483915930841027, 'val_accuracy': 0.5308924485125858, 'precision': 0.38211462943139657, 'recall': 0.5308924485125858, 'f1-score': 0.4347784645692032, 'macro_f1-score': 0.10539513208271606, 'balanced_accuracy': 0.14664692533581444, 'mcc': 0.3294246138508362, 'train_loss': 3.2827545439397823}\n",
      "Epoch 2/20\n"
     ]
    },
    {
     "name": "stderr",
     "output_type": "stream",
     "text": [
      "100%|██████████| 716/716 [01:18<00:00,  9.15it/s]\n"
     ]
    },
    {
     "name": "stdout",
     "output_type": "stream",
     "text": [
      "{'val_loss': 1.8940083246405532, 'val_accuracy': 0.5690312738367659, 'precision': 0.4872998450751908, 'recall': 0.5690312738367659, 'f1-score': 0.5078917719997722, 'macro_f1-score': 0.21157553218402847, 'balanced_accuracy': 0.26740781267805924, 'mcc': 0.41306584329848733, 'train_loss': 2.2449447133021647}\n",
      "Epoch 3/20\n"
     ]
    },
    {
     "name": "stderr",
     "output_type": "stream",
     "text": [
      "100%|██████████| 716/716 [01:18<00:00,  9.10it/s]\n"
     ]
    },
    {
     "name": "stdout",
     "output_type": "stream",
     "text": [
      "{'val_loss': 1.7110407054424286, 'val_accuracy': 0.6003051106025934, 'precision': 0.6091236118824237, 'recall': 0.6003051106025934, 'f1-score': 0.5949901101597775, 'macro_f1-score': 0.35136896019161096, 'balanced_accuracy': 0.3712488704030943, 'mcc': 0.4769281320244818, 'train_loss': 1.4499952877200515}\n",
      "Epoch 4/20\n"
     ]
    },
    {
     "name": "stderr",
     "output_type": "stream",
     "text": [
      "100%|██████████| 716/716 [01:18<00:00,  9.06it/s]\n"
     ]
    },
    {
     "name": "stdout",
     "output_type": "stream",
     "text": [
      "{'val_loss': 1.756327846791686, 'val_accuracy': 0.6475972540045767, 'precision': 0.6248905088704236, 'recall': 0.6475972540045767, 'f1-score': 0.6218674429544514, 'macro_f1-score': 0.3924472613221355, 'balanced_accuracy': 0.36640821338495533, 'mcc': 0.521417428574642, 'train_loss': 0.9326092185421363}\n",
      "Epoch 5/20\n"
     ]
    },
    {
     "name": "stderr",
     "output_type": "stream",
     "text": [
      "100%|██████████| 716/716 [01:18<00:00,  9.15it/s]\n"
     ]
    },
    {
     "name": "stdout",
     "output_type": "stream",
     "text": [
      "{'val_loss': 1.919848481329476, 'val_accuracy': 0.6323417238749046, 'precision': 0.6197887180180596, 'recall': 0.6323417238749046, 'f1-score': 0.6123103607737455, 'macro_f1-score': 0.3812941224788268, 'balanced_accuracy': 0.37884749052595995, 'mcc': 0.5034019302293546, 'train_loss': 0.6108454061599251}\n",
      "Epoch 6/20\n"
     ]
    },
    {
     "name": "stderr",
     "output_type": "stream",
     "text": [
      "100%|██████████| 716/716 [01:18<00:00,  9.10it/s]\n"
     ]
    },
    {
     "name": "stdout",
     "output_type": "stream",
     "text": [
      "{'val_loss': 1.903931943381705, 'val_accuracy': 0.6323417238749046, 'precision': 0.6229721799099057, 'recall': 0.6323417238749046, 'f1-score': 0.6172054108494331, 'macro_f1-score': 0.38150896778431326, 'balanced_accuracy': 0.3751751728249087, 'mcc': 0.5161329238046332, 'train_loss': 0.44002701849650655}\n",
      "Epoch 7/20\n"
     ]
    },
    {
     "name": "stderr",
     "output_type": "stream",
     "text": [
      "100%|██████████| 716/716 [01:18<00:00,  9.10it/s]\n"
     ]
    },
    {
     "name": "stdout",
     "output_type": "stream",
     "text": [
      "{'val_loss': 2.2553448938741916, 'val_accuracy': 0.6231884057971014, 'precision': 0.6339943985028688, 'recall': 0.6231884057971014, 'f1-score': 0.6156634361417477, 'macro_f1-score': 0.3929097840586719, 'balanced_accuracy': 0.3935347523453527, 'mcc': 0.5085679182722344, 'train_loss': 0.3154293414642358}\n",
      "Epoch 8/20\n"
     ]
    },
    {
     "name": "stderr",
     "output_type": "stream",
     "text": [
      "100%|██████████| 716/716 [01:18<00:00,  9.12it/s]\n"
     ]
    },
    {
     "name": "stdout",
     "output_type": "stream",
     "text": [
      "{'val_loss': 2.2080847068530756, 'val_accuracy': 0.6163234172387491, 'precision': 0.6258828139160445, 'recall': 0.6163234172387491, 'f1-score': 0.6142374862837935, 'macro_f1-score': 0.38597906865040493, 'balanced_accuracy': 0.3890419624725465, 'mcc': 0.5043331759668738, 'train_loss': 0.2508348565400375}\n",
      "Epoch 9/20\n"
     ]
    },
    {
     "name": "stderr",
     "output_type": "stream",
     "text": [
      "100%|██████████| 716/716 [01:18<00:00,  9.15it/s]\n"
     ]
    },
    {
     "name": "stdout",
     "output_type": "stream",
     "text": [
      "{'val_loss': 2.2127755727709792, 'val_accuracy': 0.6292906178489702, 'precision': 0.6417196987078609, 'recall': 0.6292906178489702, 'f1-score': 0.6273639081689809, 'macro_f1-score': 0.4073649182517309, 'balanced_accuracy': 0.41706300391159123, 'mcc': 0.519264307999338, 'train_loss': 0.21679534464840408}\n",
      "Epoch 10/20\n"
     ]
    },
    {
     "name": "stderr",
     "output_type": "stream",
     "text": [
      "100%|██████████| 716/716 [01:18<00:00,  9.16it/s]\n"
     ]
    },
    {
     "name": "stdout",
     "output_type": "stream",
     "text": [
      "{'val_loss': 2.1747220987226905, 'val_accuracy': 0.631578947368421, 'precision': 0.6320198504288377, 'recall': 0.631578947368421, 'f1-score': 0.6210957255687681, 'macro_f1-score': 0.400425839154325, 'balanced_accuracy': 0.4001884092858439, 'mcc': 0.51517833975181, 'train_loss': 0.19334413760339103}\n",
      "Epoch 11/20\n"
     ]
    },
    {
     "name": "stderr",
     "output_type": "stream",
     "text": [
      "100%|██████████| 716/716 [01:18<00:00,  9.14it/s]\n"
     ]
    },
    {
     "name": "stdout",
     "output_type": "stream",
     "text": [
      "{'val_loss': 2.3634157573304524, 'val_accuracy': 0.6064073226544623, 'precision': 0.6304673329594872, 'recall': 0.6064073226544623, 'f1-score': 0.6119698223573197, 'macro_f1-score': 0.3698131451806726, 'balanced_accuracy': 0.39224412408517867, 'mcc': 0.5011785471526937, 'train_loss': 0.2404903112000177}\n",
      "Epoch 12/20\n"
     ]
    },
    {
     "name": "stderr",
     "output_type": "stream",
     "text": [
      "100%|██████████| 716/716 [01:18<00:00,  9.09it/s]\n"
     ]
    },
    {
     "name": "stdout",
     "output_type": "stream",
     "text": [
      "{'val_loss': 2.6794765951429924, 'val_accuracy': 0.6445461479786423, 'precision': 0.6495784387419323, 'recall': 0.6445461479786423, 'f1-score': 0.6383323384599412, 'macro_f1-score': 0.4105866626009165, 'balanced_accuracy': 0.4037883746148003, 'mcc': 0.5380552633836677, 'train_loss': 0.13482776035648358}\n",
      "Epoch 13/20\n"
     ]
    },
    {
     "name": "stderr",
     "output_type": "stream",
     "text": [
      "100%|██████████| 716/716 [01:18<00:00,  9.09it/s]\n"
     ]
    },
    {
     "name": "stdout",
     "output_type": "stream",
     "text": [
      "{'val_loss': 2.5392548056637367, 'val_accuracy': 0.6506483600305111, 'precision': 0.6341272823120372, 'recall': 0.6506483600305111, 'f1-score': 0.6295211325339072, 'macro_f1-score': 0.4083569420648438, 'balanced_accuracy': 0.3882217764263216, 'mcc': 0.5303667608852628, 'train_loss': 0.12543756719555071}\n",
      "Epoch 14/20\n"
     ]
    },
    {
     "name": "stderr",
     "output_type": "stream",
     "text": [
      "100%|██████████| 716/716 [01:18<00:00,  9.16it/s]\n"
     ]
    },
    {
     "name": "stdout",
     "output_type": "stream",
     "text": [
      "{'val_loss': 2.721146523952484, 'val_accuracy': 0.6231884057971014, 'precision': 0.651202940169376, 'recall': 0.6231884057971014, 'f1-score': 0.6201688973966586, 'macro_f1-score': 0.39527475136552753, 'balanced_accuracy': 0.39738035991875537, 'mcc': 0.5175729174549729, 'train_loss': 0.1125219214361944}\n",
      "Epoch 15/20\n"
     ]
    },
    {
     "name": "stderr",
     "output_type": "stream",
     "text": [
      "100%|██████████| 716/716 [01:18<00:00,  9.13it/s]\n"
     ]
    },
    {
     "name": "stdout",
     "output_type": "stream",
     "text": [
      "{'val_loss': 2.555377348894026, 'val_accuracy': 0.6170861937452327, 'precision': 0.6365739946623393, 'recall': 0.6170861937452327, 'f1-score': 0.6136180598743234, 'macro_f1-score': 0.37992826718655714, 'balanced_accuracy': 0.39019059041607046, 'mcc': 0.506995277089378, 'train_loss': 0.24882383938952266}\n",
      "Early stopping.\n",
      "\n",
      " === microsoft/deberta-base + cnn + t5 Final 5-fold Cross-Validation Results ===\n",
      "val_loss: 2.5296\n",
      "val_accuracy: 0.5909\n",
      "precision: 0.5535\n",
      "recall: 0.5909\n",
      "f1-score: 0.5549\n",
      "macro_f1-score: 0.3193\n",
      "balanced_accuracy: 0.3302\n",
      "mcc: 0.4063\n",
      "train_loss: 1.0117\n",
      "total_seconds: 22891.0000\n",
      "total_time: 6 hrs 21 mins 31 secs\n",
      "▶ Running: microsoft/deberta-base + lstm + t5\n",
      "tokenizer is microsoft/deberta-base\n",
      "Using device: cuda\n",
      "CUDA Available: True\n",
      "CUDA Device: NVIDIA GeForce RTX 5070 Ti\n",
      "Current GPU Memory Allocated: 0.02 GB\n",
      "Current GPU Memory Cached: 5.30 GB\n",
      "\n",
      "[Fold 1]\n",
      "🚀 Using T5-paraphraser for data augmentation + under-sampling\n",
      "🔻 Under-sampling label 0: 2471 → 2000\n",
      "🔧 Augmenting label 1: 21 → 200 (+179)\n",
      "🔧 Augmenting label 2: 64 → 200 (+136)\n",
      "🔧 Augmenting label 3: 24 → 200 (+176)\n",
      "🔧 Augmenting label 4: 191 → 200 (+9)\n",
      "🔧 Augmenting label 5: 113 → 200 (+87)\n",
      "🔧 Augmenting label 6: 93 → 200 (+107)\n",
      "🔧 Augmenting label 7: 30 → 200 (+170)\n",
      "🔧 Augmenting label 8: 68 → 200 (+132)\n",
      "🔧 Augmenting label 9: 30 → 200 (+170)\n",
      "🔧 Augmenting label 10: 67 → 200 (+133)\n",
      "🔧 Augmenting label 11: 169 → 200 (+31)\n",
      "🔧 Augmenting label 12: 189 → 200 (+11)\n",
      "🔧 Augmenting label 13: 29 → 200 (+171)\n",
      "🔧 Augmenting label 14: 22 → 200 (+178)\n",
      "🔧 Augmenting label 15: 25 → 200 (+175)\n",
      "🔧 Augmenting label 16: 19 → 200 (+181)\n",
      "🔧 Augmenting label 17: 183 → 200 (+17)\n",
      "🔧 Augmenting label 18: 92 → 200 (+108)\n",
      "🔧 Augmenting label 19: 44 → 200 (+156)\n",
      "🔧 Augmenting label 20: 13 → 200 (+187)\n",
      "🔧 Augmenting label 21: 35 → 200 (+165)\n",
      "🔧 Augmenting label 22: 76 → 200 (+124)\n",
      "🔧 Augmenting label 23: 158 → 200 (+42)\n",
      "🔧 Augmenting label 24: 13 → 200 (+187)\n",
      "🔧 Augmenting label 25: 44 → 200 (+156)\n",
      "🔧 Augmenting label 26: 84 → 200 (+116)\n",
      "🔧 Augmenting label 27: 48 → 200 (+152)\n",
      "🔧 Augmenting label 28: 11 → 200 (+189)\n",
      "🔧 Augmenting label 29: 13 → 200 (+187)\n",
      "🔧 Augmenting label 30: 11 → 200 (+189)\n",
      "🔧 Augmenting label 31: 75 → 200 (+125)\n",
      "🔧 Augmenting label 32: 36 → 200 (+164)\n",
      "🔧 Augmenting label 33: 32 → 200 (+168)\n",
      "🔧 Augmenting label 34: 29 → 200 (+171)\n",
      "🔧 Augmenting label 35: 11 → 200 (+189)\n",
      "🔧 Augmenting label 36: 22 → 200 (+178)\n",
      "🔧 Augmenting label 37: 16 → 200 (+184)\n",
      "🔧 Augmenting label 38: 33 → 200 (+167)\n",
      "🔧 Augmenting label 39: 10 → 200 (+190)\n",
      "🔧 Augmenting label 40: 9 → 200 (+191)\n",
      "🔧 Augmenting label 41: 57 → 200 (+143)\n",
      "🔧 Augmenting label 42: 19 → 200 (+181)\n",
      "🔧 Augmenting label 43: 8 → 200 (+192)\n",
      "🔧 Augmenting label 44: 54 → 200 (+146)\n",
      "🔧 Augmenting label 46: 61 → 200 (+139)\n",
      "🔧 Augmenting label 47: 80 → 200 (+120)\n",
      "Label distribution after resampling:\n",
      "  label 0: 2000\n",
      "  label 1: 200\n",
      "  label 2: 200\n",
      "  label 3: 200\n",
      "  label 4: 200\n",
      "  label 5: 200\n",
      "  label 6: 200\n",
      "  label 7: 200\n",
      "  label 8: 200\n",
      "  label 9: 200\n",
      "  label 10: 200\n",
      "  label 11: 200\n",
      "  label 12: 200\n",
      "  label 13: 200\n",
      "  label 14: 200\n",
      "  label 15: 200\n",
      "  label 16: 200\n",
      "  label 17: 200\n",
      "  label 18: 200\n",
      "  label 19: 200\n",
      "  label 20: 200\n",
      "  label 21: 200\n",
      "  label 22: 200\n",
      "  label 23: 200\n",
      "  label 24: 200\n",
      "  label 25: 200\n",
      "  label 26: 200\n",
      "  label 27: 200\n",
      "  label 28: 200\n",
      "  label 29: 200\n",
      "  label 30: 200\n",
      "  label 31: 200\n",
      "  label 32: 200\n",
      "  label 33: 200\n",
      "  label 34: 200\n",
      "  label 35: 200\n",
      "  label 36: 200\n",
      "  label 37: 200\n",
      "  label 38: 200\n",
      "  label 39: 200\n",
      "  label 40: 200\n",
      "  label 41: 200\n",
      "  label 42: 200\n",
      "  label 43: 200\n",
      "  label 44: 200\n",
      "  label 45: 242\n",
      "  label 46: 200\n",
      "  label 47: 200\n",
      "model is microsoft/deberta-base lstm\n",
      "Using weighted CrossEntropyLoss with weights: tensor([1.7441, 4.0467, 4.0467, 4.0467, 4.0467, 4.0467, 4.0467, 4.0467, 4.0467,\n",
      "        4.0467, 4.0467, 4.0467, 4.0467, 4.0467, 4.0467, 4.0467, 4.0467, 4.0467,\n",
      "        4.0467, 4.0467, 4.0467, 4.0467, 4.0467, 4.0467, 4.0467, 4.0467, 4.0467,\n",
      "        4.0467, 4.0467, 4.0467, 4.0467, 4.0467, 4.0467, 4.0467, 4.0467, 4.0467,\n",
      "        4.0467, 4.0467, 4.0467, 4.0467, 4.0467, 4.0467, 4.0467, 4.0467, 4.0467,\n",
      "        3.8561, 4.0467, 4.0467], device='cuda:0')\n",
      "Epoch 1/20\n"
     ]
    },
    {
     "name": "stderr",
     "output_type": "stream",
     "text": [
      "100%|██████████| 716/716 [01:16<00:00,  9.40it/s]\n"
     ]
    },
    {
     "name": "stdout",
     "output_type": "stream",
     "text": [
      "{'val_loss': 2.888479620945163, 'val_accuracy': 0.47865853658536583, 'precision': 0.3165303178276371, 'recall': 0.47865853658536583, 'f1-score': 0.36433370212763133, 'macro_f1-score': 0.038484862819733276, 'balanced_accuracy': 0.05971949324497868, 'mcc': 0.18878239998752439, 'train_loss': 3.410764787117196}\n",
      "Epoch 2/20\n"
     ]
    },
    {
     "name": "stderr",
     "output_type": "stream",
     "text": [
      "100%|██████████| 716/716 [01:16<00:00,  9.35it/s]\n"
     ]
    },
    {
     "name": "stdout",
     "output_type": "stream",
     "text": [
      "{'val_loss': 2.808708346471554, 'val_accuracy': 0.5045731707317073, 'precision': 0.3449805055465483, 'recall': 0.5045731707317073, 'f1-score': 0.38833159486432234, 'macro_f1-score': 0.05116155613490029, 'balanced_accuracy': 0.07063537053596775, 'mcc': 0.23811540962577696, 'train_loss': 3.1967665126869798}\n",
      "Epoch 3/20\n"
     ]
    },
    {
     "name": "stderr",
     "output_type": "stream",
     "text": [
      "100%|██████████| 716/716 [01:16<00:00,  9.34it/s]\n"
     ]
    },
    {
     "name": "stdout",
     "output_type": "stream",
     "text": [
      "{'val_loss': 2.6376548264084794, 'val_accuracy': 0.4961890243902439, 'precision': 0.38847568147144956, 'recall': 0.4961890243902439, 'f1-score': 0.39781696120840565, 'macro_f1-score': 0.06010647191365893, 'balanced_accuracy': 0.08325663953012706, 'mcc': 0.2362506216086556, 'train_loss': 2.9505029836846464}\n",
      "Epoch 4/20\n"
     ]
    },
    {
     "name": "stderr",
     "output_type": "stream",
     "text": [
      "100%|██████████| 716/716 [01:16<00:00,  9.37it/s]\n"
     ]
    },
    {
     "name": "stdout",
     "output_type": "stream",
     "text": [
      "{'val_loss': 2.648390674736442, 'val_accuracy': 0.48323170731707316, 'precision': 0.3844103885599854, 'recall': 0.48323170731707316, 'f1-score': 0.41772705305603064, 'macro_f1-score': 0.06372783672492391, 'balanced_accuracy': 0.09595437150048801, 'mcc': 0.2669972404513275, 'train_loss': 2.7531966833428965}\n",
      "Epoch 5/20\n"
     ]
    },
    {
     "name": "stderr",
     "output_type": "stream",
     "text": [
      "100%|██████████| 716/716 [01:16<00:00,  9.35it/s]\n"
     ]
    },
    {
     "name": "stdout",
     "output_type": "stream",
     "text": [
      "{'val_loss': 2.6956823061152204, 'val_accuracy': 0.49771341463414637, 'precision': 0.4202676256851765, 'recall': 0.49771341463414637, 'f1-score': 0.4163136410152085, 'macro_f1-score': 0.07033551520223998, 'balanced_accuracy': 0.09684734658809074, 'mcc': 0.2686970989677267, 'train_loss': 2.4957390117911653}\n",
      "Epoch 6/20\n"
     ]
    },
    {
     "name": "stderr",
     "output_type": "stream",
     "text": [
      "100%|██████████| 716/716 [01:16<00:00,  9.36it/s]\n"
     ]
    },
    {
     "name": "stdout",
     "output_type": "stream",
     "text": [
      "{'val_loss': 2.481181968276094, 'val_accuracy': 0.49847560975609756, 'precision': 0.433449439571969, 'recall': 0.49847560975609756, 'f1-score': 0.44325035291438764, 'macro_f1-score': 0.10105875096718715, 'balanced_accuracy': 0.13079148275478755, 'mcc': 0.28836208593892143, 'train_loss': 2.2580056460210063}\n",
      "Epoch 7/20\n"
     ]
    },
    {
     "name": "stderr",
     "output_type": "stream",
     "text": [
      "100%|██████████| 716/716 [01:16<00:00,  9.36it/s]\n"
     ]
    },
    {
     "name": "stdout",
     "output_type": "stream",
     "text": [
      "{'val_loss': 2.3833245213438823, 'val_accuracy': 0.5015243902439024, 'precision': 0.45587036893388283, 'recall': 0.5015243902439024, 'f1-score': 0.4588512496055161, 'macro_f1-score': 0.121900168383046, 'balanced_accuracy': 0.16888511672170856, 'mcc': 0.31076589585352216, 'train_loss': 2.0630178846127496}\n",
      "Epoch 8/20\n"
     ]
    },
    {
     "name": "stderr",
     "output_type": "stream",
     "text": [
      "100%|██████████| 716/716 [01:16<00:00,  9.34it/s]\n"
     ]
    },
    {
     "name": "stdout",
     "output_type": "stream",
     "text": [
      "{'val_loss': 2.3073231548797795, 'val_accuracy': 0.5213414634146342, 'precision': 0.532838754750069, 'recall': 0.5213414634146342, 'f1-score': 0.5085006168797848, 'macro_f1-score': 0.20065550395503765, 'balanced_accuracy': 0.20888537933598247, 'mcc': 0.3600860313279005, 'train_loss': 1.857587325839357}\n",
      "Epoch 9/20\n"
     ]
    },
    {
     "name": "stderr",
     "output_type": "stream",
     "text": [
      "100%|██████████| 716/716 [01:16<00:00,  9.35it/s]\n"
     ]
    },
    {
     "name": "stdout",
     "output_type": "stream",
     "text": [
      "{'val_loss': 2.362399522851153, 'val_accuracy': 0.5221036585365854, 'precision': 0.5169948133870006, 'recall': 0.5221036585365854, 'f1-score': 0.49938133248356964, 'macro_f1-score': 0.18432342848360714, 'balanced_accuracy': 0.18593631265892233, 'mcc': 0.3545252344418587, 'train_loss': 1.6461319571267292}\n",
      "Epoch 10/20\n"
     ]
    },
    {
     "name": "stderr",
     "output_type": "stream",
     "text": [
      "100%|██████████| 716/716 [01:16<00:00,  9.37it/s]\n"
     ]
    },
    {
     "name": "stdout",
     "output_type": "stream",
     "text": [
      "{'val_loss': 2.5867062589017356, 'val_accuracy': 0.4839939024390244, 'precision': 0.4910026025203021, 'recall': 0.4839939024390244, 'f1-score': 0.4676855968981546, 'macro_f1-score': 0.1469326069428756, 'balanced_accuracy': 0.16098553924757644, 'mcc': 0.31689475166071884, 'train_loss': 1.6855115910482141}\n",
      "Epoch 11/20\n"
     ]
    },
    {
     "name": "stderr",
     "output_type": "stream",
     "text": [
      "100%|██████████| 716/716 [01:16<00:00,  9.34it/s]\n"
     ]
    },
    {
     "name": "stdout",
     "output_type": "stream",
     "text": [
      "{'val_loss': 2.439357296722691, 'val_accuracy': 0.5060975609756098, 'precision': 0.5078465446079163, 'recall': 0.5060975609756098, 'f1-score': 0.4867032410114086, 'macro_f1-score': 0.18229905578860683, 'balanced_accuracy': 0.21032837607168806, 'mcc': 0.3490835145159097, 'train_loss': 1.6758031573708496}\n",
      "Early stopping.\n",
      "\n",
      "[Fold 2]\n",
      "🚀 Using T5-paraphraser for data augmentation + under-sampling\n",
      "🔻 Under-sampling label 0: 2471 → 2000\n",
      "🔧 Augmenting label 1: 22 → 200 (+178)\n",
      "🔧 Augmenting label 2: 64 → 200 (+136)\n",
      "🔧 Augmenting label 3: 24 → 200 (+176)\n",
      "🔧 Augmenting label 4: 190 → 200 (+10)\n",
      "🔧 Augmenting label 5: 113 → 200 (+87)\n",
      "🔧 Augmenting label 6: 93 → 200 (+107)\n",
      "🔧 Augmenting label 7: 30 → 200 (+170)\n",
      "🔧 Augmenting label 8: 68 → 200 (+132)\n",
      "🔧 Augmenting label 9: 30 → 200 (+170)\n",
      "🔧 Augmenting label 10: 67 → 200 (+133)\n",
      "🔧 Augmenting label 11: 169 → 200 (+31)\n",
      "🔧 Augmenting label 12: 189 → 200 (+11)\n",
      "🔧 Augmenting label 13: 29 → 200 (+171)\n",
      "🔧 Augmenting label 14: 23 → 200 (+177)\n",
      "🔧 Augmenting label 15: 24 → 200 (+176)\n",
      "🔧 Augmenting label 16: 20 → 200 (+180)\n",
      "🔧 Augmenting label 17: 182 → 200 (+18)\n",
      "🔧 Augmenting label 18: 92 → 200 (+108)\n",
      "🔧 Augmenting label 19: 44 → 200 (+156)\n",
      "🔧 Augmenting label 20: 13 → 200 (+187)\n",
      "🔧 Augmenting label 21: 36 → 200 (+164)\n",
      "🔧 Augmenting label 22: 76 → 200 (+124)\n",
      "🔧 Augmenting label 23: 157 → 200 (+43)\n",
      "🔧 Augmenting label 24: 12 → 200 (+188)\n",
      "🔧 Augmenting label 25: 44 → 200 (+156)\n",
      "🔧 Augmenting label 26: 84 → 200 (+116)\n",
      "🔧 Augmenting label 27: 48 → 200 (+152)\n",
      "🔧 Augmenting label 28: 12 → 200 (+188)\n",
      "🔧 Augmenting label 29: 12 → 200 (+188)\n",
      "🔧 Augmenting label 30: 12 → 200 (+188)\n",
      "🔧 Augmenting label 31: 75 → 200 (+125)\n",
      "🔧 Augmenting label 32: 36 → 200 (+164)\n",
      "🔧 Augmenting label 33: 31 → 200 (+169)\n",
      "🔧 Augmenting label 34: 29 → 200 (+171)\n",
      "🔧 Augmenting label 35: 12 → 200 (+188)\n",
      "🔧 Augmenting label 36: 21 → 200 (+179)\n",
      "🔧 Augmenting label 37: 16 → 200 (+184)\n",
      "🔧 Augmenting label 38: 33 → 200 (+167)\n",
      "🔧 Augmenting label 39: 11 → 200 (+189)\n",
      "🔧 Augmenting label 40: 8 → 200 (+192)\n",
      "🔧 Augmenting label 41: 57 → 200 (+143)\n",
      "🔧 Augmenting label 42: 19 → 200 (+181)\n",
      "🔧 Augmenting label 43: 9 → 200 (+191)\n",
      "🔧 Augmenting label 44: 54 → 200 (+146)\n",
      "🔧 Augmenting label 46: 62 → 200 (+138)\n",
      "🔧 Augmenting label 47: 80 → 200 (+120)\n",
      "Label distribution after resampling:\n",
      "  label 0: 2000\n",
      "  label 1: 200\n",
      "  label 2: 200\n",
      "  label 3: 200\n",
      "  label 4: 200\n",
      "  label 5: 200\n",
      "  label 6: 200\n",
      "  label 7: 200\n",
      "  label 8: 200\n",
      "  label 9: 200\n",
      "  label 10: 200\n",
      "  label 11: 200\n",
      "  label 12: 200\n",
      "  label 13: 200\n",
      "  label 14: 200\n",
      "  label 15: 200\n",
      "  label 16: 200\n",
      "  label 17: 200\n",
      "  label 18: 200\n",
      "  label 19: 200\n",
      "  label 20: 200\n",
      "  label 21: 200\n",
      "  label 22: 200\n",
      "  label 23: 200\n",
      "  label 24: 200\n",
      "  label 25: 200\n",
      "  label 26: 200\n",
      "  label 27: 200\n",
      "  label 28: 200\n",
      "  label 29: 200\n",
      "  label 30: 200\n",
      "  label 31: 200\n",
      "  label 32: 200\n",
      "  label 33: 200\n",
      "  label 34: 200\n",
      "  label 35: 200\n",
      "  label 36: 200\n",
      "  label 37: 200\n",
      "  label 38: 200\n",
      "  label 39: 200\n",
      "  label 40: 200\n",
      "  label 41: 200\n",
      "  label 42: 200\n",
      "  label 43: 200\n",
      "  label 44: 200\n",
      "  label 45: 242\n",
      "  label 46: 200\n",
      "  label 47: 200\n",
      "model is microsoft/deberta-base lstm\n",
      "Using weighted CrossEntropyLoss with weights: tensor([1.7441, 4.0467, 4.0467, 4.0467, 4.0467, 4.0467, 4.0467, 4.0467, 4.0467,\n",
      "        4.0467, 4.0467, 4.0467, 4.0467, 4.0467, 4.0467, 4.0467, 4.0467, 4.0467,\n",
      "        4.0467, 4.0467, 4.0467, 4.0467, 4.0467, 4.0467, 4.0467, 4.0467, 4.0467,\n",
      "        4.0467, 4.0467, 4.0467, 4.0467, 4.0467, 4.0467, 4.0467, 4.0467, 4.0467,\n",
      "        4.0467, 4.0467, 4.0467, 4.0467, 4.0467, 4.0467, 4.0467, 4.0467, 4.0467,\n",
      "        3.8561, 4.0467, 4.0467], device='cuda:0')\n",
      "Epoch 1/20\n"
     ]
    },
    {
     "name": "stderr",
     "output_type": "stream",
     "text": [
      "100%|██████████| 716/716 [01:16<00:00,  9.41it/s]\n"
     ]
    },
    {
     "name": "stdout",
     "output_type": "stream",
     "text": [
      "{'val_loss': 2.852484815004395, 'val_accuracy': 0.4431731502669718, 'precision': 0.34467176804615424, 'recall': 0.4431731502669718, 'f1-score': 0.3765895201510787, 'macro_f1-score': 0.038406147932000964, 'balanced_accuracy': 0.0629594261107426, 'mcc': 0.21042102677350266, 'train_loss': 3.305548028406484}\n",
      "Epoch 2/20\n"
     ]
    },
    {
     "name": "stderr",
     "output_type": "stream",
     "text": [
      "100%|██████████| 716/716 [01:16<00:00,  9.35it/s]\n"
     ]
    },
    {
     "name": "stdout",
     "output_type": "stream",
     "text": [
      "{'val_loss': 2.4765755548709776, 'val_accuracy': 0.5263157894736842, 'precision': 0.3531677541682511, 'recall': 0.5263157894736842, 'f1-score': 0.4152813915999402, 'macro_f1-score': 0.06681038608168421, 'balanced_accuracy': 0.08132501197679015, 'mcc': 0.2957690168469425, 'train_loss': 2.923100620508194}\n",
      "Epoch 3/20\n"
     ]
    },
    {
     "name": "stderr",
     "output_type": "stream",
     "text": [
      "100%|██████████| 716/716 [01:16<00:00,  9.37it/s]\n"
     ]
    },
    {
     "name": "stdout",
     "output_type": "stream",
     "text": [
      "{'val_loss': 2.5078091868540136, 'val_accuracy': 0.4965675057208238, 'precision': 0.3769170479159082, 'recall': 0.4965675057208238, 'f1-score': 0.4174105030563042, 'macro_f1-score': 0.07043348426800368, 'balanced_accuracy': 0.08933796586560612, 'mcc': 0.2790237601470295, 'train_loss': 2.7745471265395927}\n",
      "Epoch 4/20\n"
     ]
    },
    {
     "name": "stderr",
     "output_type": "stream",
     "text": [
      "100%|██████████| 716/716 [01:16<00:00,  9.37it/s]\n"
     ]
    },
    {
     "name": "stdout",
     "output_type": "stream",
     "text": [
      "{'val_loss': 2.3628282721449687, 'val_accuracy': 0.5415713196033562, 'precision': 0.3969182639495102, 'recall': 0.5415713196033562, 'f1-score': 0.45388889137643856, 'macro_f1-score': 0.08320107155800217, 'balanced_accuracy': 0.11823077369226853, 'mcc': 0.34579803299245043, 'train_loss': 2.581253313651964}\n",
      "Epoch 5/20\n"
     ]
    },
    {
     "name": "stderr",
     "output_type": "stream",
     "text": [
      "100%|██████████| 716/716 [01:16<00:00,  9.34it/s]\n"
     ]
    },
    {
     "name": "stdout",
     "output_type": "stream",
     "text": [
      "{'val_loss': 2.439136092255755, 'val_accuracy': 0.5316552250190694, 'precision': 0.411677696691878, 'recall': 0.5316552250190694, 'f1-score': 0.45183202911476555, 'macro_f1-score': 0.11017872270159208, 'balanced_accuracy': 0.12332315488004168, 'mcc': 0.32052129477955005, 'train_loss': 2.439352019705586}\n",
      "Epoch 6/20\n"
     ]
    },
    {
     "name": "stderr",
     "output_type": "stream",
     "text": [
      "100%|██████████| 716/716 [01:16<00:00,  9.35it/s]\n"
     ]
    },
    {
     "name": "stdout",
     "output_type": "stream",
     "text": [
      "{'val_loss': 2.351460494646212, 'val_accuracy': 0.5316552250190694, 'precision': 0.41935900582165725, 'recall': 0.5316552250190694, 'f1-score': 0.4547096727606106, 'macro_f1-score': 0.1176485593934719, 'balanced_accuracy': 0.14709029190933207, 'mcc': 0.326524610419748, 'train_loss': 2.266770870825432}\n",
      "Epoch 7/20\n"
     ]
    },
    {
     "name": "stderr",
     "output_type": "stream",
     "text": [
      "100%|██████████| 716/716 [01:16<00:00,  9.35it/s]\n"
     ]
    },
    {
     "name": "stdout",
     "output_type": "stream",
     "text": [
      "{'val_loss': 2.3682712098447287, 'val_accuracy': 0.517162471395881, 'precision': 0.44382682929829553, 'recall': 0.517162471395881, 'f1-score': 0.46940807432174614, 'macro_f1-score': 0.11141008299539794, 'balanced_accuracy': 0.15591123384630787, 'mcc': 0.3385219694760429, 'train_loss': 2.13078258040897}\n",
      "Epoch 8/20\n"
     ]
    },
    {
     "name": "stderr",
     "output_type": "stream",
     "text": [
      "100%|██████████| 716/716 [01:16<00:00,  9.35it/s]\n"
     ]
    },
    {
     "name": "stdout",
     "output_type": "stream",
     "text": [
      "{'val_loss': 2.36325331504752, 'val_accuracy': 0.532418001525553, 'precision': 0.46232250810455316, 'recall': 0.532418001525553, 'f1-score': 0.4796277241856278, 'macro_f1-score': 0.13006238283454266, 'balanced_accuracy': 0.15706707640113401, 'mcc': 0.34818842370571196, 'train_loss': 1.9730502308746956}\n",
      "Epoch 9/20\n"
     ]
    },
    {
     "name": "stderr",
     "output_type": "stream",
     "text": [
      "100%|██████████| 716/716 [01:16<00:00,  9.36it/s]\n"
     ]
    },
    {
     "name": "stdout",
     "output_type": "stream",
     "text": [
      "{'val_loss': 2.288203286688502, 'val_accuracy': 0.5316552250190694, 'precision': 0.4790130131164519, 'recall': 0.5316552250190694, 'f1-score': 0.4927505762497849, 'macro_f1-score': 0.1527643334522332, 'balanced_accuracy': 0.18453954692456687, 'mcc': 0.3601415020228444, 'train_loss': 1.888530175446132}\n",
      "Epoch 10/20\n"
     ]
    },
    {
     "name": "stderr",
     "output_type": "stream",
     "text": [
      "100%|██████████| 716/716 [01:16<00:00,  9.38it/s]\n"
     ]
    },
    {
     "name": "stdout",
     "output_type": "stream",
     "text": [
      "{'val_loss': 2.2219154427691206, 'val_accuracy': 0.5430968726163234, 'precision': 0.4896151106598653, 'recall': 0.5430968726163234, 'f1-score': 0.5037073606600635, 'macro_f1-score': 0.15277774177251802, 'balanced_accuracy': 0.17526762790745645, 'mcc': 0.3752747530240476, 'train_loss': 1.7501064587238782}\n",
      "Epoch 11/20\n"
     ]
    },
    {
     "name": "stderr",
     "output_type": "stream",
     "text": [
      "100%|██████████| 716/716 [01:16<00:00,  9.35it/s]\n"
     ]
    },
    {
     "name": "stdout",
     "output_type": "stream",
     "text": [
      "{'val_loss': 2.274501226297239, 'val_accuracy': 0.4927536231884058, 'precision': 0.4951278788352898, 'recall': 0.4927536231884058, 'f1-score': 0.48039659180923994, 'macro_f1-score': 0.14380735900885896, 'balanced_accuracy': 0.16744060429656957, 'mcc': 0.34550635761341264, 'train_loss': 1.6274623025895496}\n",
      "Epoch 12/20\n"
     ]
    },
    {
     "name": "stderr",
     "output_type": "stream",
     "text": [
      "100%|██████████| 716/716 [01:16<00:00,  9.37it/s]\n"
     ]
    },
    {
     "name": "stdout",
     "output_type": "stream",
     "text": [
      "{'val_loss': 2.3731506772157624, 'val_accuracy': 0.532418001525553, 'precision': 0.5098440374770458, 'recall': 0.532418001525553, 'f1-score': 0.5115485452297447, 'macro_f1-score': 0.17360159203209116, 'balanced_accuracy': 0.2208042889972499, 'mcc': 0.3771641871780979, 'train_loss': 1.5137470117327887}\n",
      "Epoch 13/20\n"
     ]
    },
    {
     "name": "stderr",
     "output_type": "stream",
     "text": [
      "100%|██████████| 716/716 [01:16<00:00,  9.37it/s]\n"
     ]
    },
    {
     "name": "stdout",
     "output_type": "stream",
     "text": [
      "{'val_loss': 2.3742342998341814, 'val_accuracy': 0.5270785659801678, 'precision': 0.5120031998416344, 'recall': 0.5270785659801678, 'f1-score': 0.5075793299093386, 'macro_f1-score': 0.18298295451202984, 'balanced_accuracy': 0.21229517855334282, 'mcc': 0.3721924035102923, 'train_loss': 1.4368499789241307}\n",
      "Epoch 14/20\n"
     ]
    },
    {
     "name": "stderr",
     "output_type": "stream",
     "text": [
      "100%|██████████| 716/716 [01:16<00:00,  9.35it/s]\n"
     ]
    },
    {
     "name": "stdout",
     "output_type": "stream",
     "text": [
      "{'val_loss': 2.4883402673209587, 'val_accuracy': 0.5408085430968727, 'precision': 0.5021907079437654, 'recall': 0.5408085430968727, 'f1-score': 0.5107502014652094, 'macro_f1-score': 0.18244596392071258, 'balanced_accuracy': 0.21471364752205335, 'mcc': 0.3763404203575813, 'train_loss': 1.3945083931587927}\n",
      "Epoch 15/20\n"
     ]
    },
    {
     "name": "stderr",
     "output_type": "stream",
     "text": [
      "100%|██████████| 716/716 [01:16<00:00,  9.36it/s]\n"
     ]
    },
    {
     "name": "stdout",
     "output_type": "stream",
     "text": [
      "{'val_loss': 2.4134808945946578, 'val_accuracy': 0.5469107551487414, 'precision': 0.5119125084610503, 'recall': 0.5469107551487414, 'f1-score': 0.5163231413105828, 'macro_f1-score': 0.17824852610233557, 'balanced_accuracy': 0.2120283317265691, 'mcc': 0.3895529857142773, 'train_loss': 1.3602346968134689}\n",
      "Epoch 16/20\n"
     ]
    },
    {
     "name": "stderr",
     "output_type": "stream",
     "text": [
      "100%|██████████| 716/716 [01:16<00:00,  9.36it/s]\n"
     ]
    },
    {
     "name": "stdout",
     "output_type": "stream",
     "text": [
      "{'val_loss': 2.445345747034724, 'val_accuracy': 0.5469107551487414, 'precision': 0.522622451486732, 'recall': 0.5469107551487414, 'f1-score': 0.5225639239091987, 'macro_f1-score': 0.20039297092890296, 'balanced_accuracy': 0.21930349951494518, 'mcc': 0.3929613428849704, 'train_loss': 1.3262718746116042}\n",
      "Epoch 17/20\n"
     ]
    },
    {
     "name": "stderr",
     "output_type": "stream",
     "text": [
      "100%|██████████| 716/716 [01:16<00:00,  9.35it/s]\n"
     ]
    },
    {
     "name": "stdout",
     "output_type": "stream",
     "text": [
      "{'val_loss': 2.318021716141119, 'val_accuracy': 0.5240274599542334, 'precision': 0.5212423083000504, 'recall': 0.5240274599542334, 'f1-score': 0.5154202421103267, 'macro_f1-score': 0.20939005447978576, 'balanced_accuracy': 0.22525795626096903, 'mcc': 0.3874255836848196, 'train_loss': 1.209055990854788}\n",
      "Epoch 18/20\n"
     ]
    },
    {
     "name": "stderr",
     "output_type": "stream",
     "text": [
      "100%|██████████| 716/716 [01:16<00:00,  9.36it/s]\n"
     ]
    },
    {
     "name": "stdout",
     "output_type": "stream",
     "text": [
      "{'val_loss': 2.492835438106118, 'val_accuracy': 0.566742944317315, 'precision': 0.526933775632867, 'recall': 0.566742944317315, 'f1-score': 0.5313968189197793, 'macro_f1-score': 0.21885402770233464, 'balanced_accuracy': 0.2340012288115885, 'mcc': 0.40254363355640777, 'train_loss': 1.097546608463013}\n",
      "Epoch 19/20\n"
     ]
    },
    {
     "name": "stderr",
     "output_type": "stream",
     "text": [
      "100%|██████████| 716/716 [01:16<00:00,  9.36it/s]\n"
     ]
    },
    {
     "name": "stdout",
     "output_type": "stream",
     "text": [
      "{'val_loss': 2.423063814640045, 'val_accuracy': 0.520976353928299, 'precision': 0.5432643448922478, 'recall': 0.520976353928299, 'f1-score': 0.5193031956720083, 'macro_f1-score': 0.1985976807516475, 'balanced_accuracy': 0.21243783831127883, 'mcc': 0.37533659482725484, 'train_loss': 1.0553479492248103}\n",
      "Epoch 20/20\n"
     ]
    },
    {
     "name": "stderr",
     "output_type": "stream",
     "text": [
      "100%|██████████| 716/716 [01:16<00:00,  9.32it/s]\n"
     ]
    },
    {
     "name": "stdout",
     "output_type": "stream",
     "text": [
      "{'val_loss': 2.519995754084936, 'val_accuracy': 0.5758962623951183, 'precision': 0.5360702868623198, 'recall': 0.5758962623951183, 'f1-score': 0.5432072679916051, 'macro_f1-score': 0.21857881813466515, 'balanced_accuracy': 0.22541615027854503, 'mcc': 0.422391136433813, 'train_loss': 0.9617721501259164}\n",
      "\n",
      "[Fold 3]\n",
      "🚀 Using T5-paraphraser for data augmentation + under-sampling\n",
      "🔻 Under-sampling label 0: 2471 → 2000\n",
      "🔧 Augmenting label 1: 22 → 200 (+178)\n",
      "🔧 Augmenting label 2: 64 → 200 (+136)\n",
      "🔧 Augmenting label 3: 24 → 200 (+176)\n",
      "🔧 Augmenting label 4: 190 → 200 (+10)\n",
      "🔧 Augmenting label 5: 113 → 200 (+87)\n",
      "🔧 Augmenting label 6: 93 → 200 (+107)\n",
      "🔧 Augmenting label 7: 30 → 200 (+170)\n",
      "🔧 Augmenting label 8: 68 → 200 (+132)\n",
      "🔧 Augmenting label 9: 30 → 200 (+170)\n",
      "🔧 Augmenting label 10: 67 → 200 (+133)\n",
      "🔧 Augmenting label 11: 169 → 200 (+31)\n",
      "🔧 Augmenting label 12: 190 → 200 (+10)\n",
      "🔧 Augmenting label 13: 28 → 200 (+172)\n",
      "🔧 Augmenting label 14: 23 → 200 (+177)\n",
      "🔧 Augmenting label 15: 25 → 200 (+175)\n",
      "🔧 Augmenting label 16: 19 → 200 (+181)\n",
      "🔧 Augmenting label 17: 182 → 200 (+18)\n",
      "🔧 Augmenting label 18: 92 → 200 (+108)\n",
      "🔧 Augmenting label 19: 44 → 200 (+156)\n",
      "🔧 Augmenting label 20: 14 → 200 (+186)\n",
      "🔧 Augmenting label 21: 35 → 200 (+165)\n",
      "🔧 Augmenting label 22: 76 → 200 (+124)\n",
      "🔧 Augmenting label 23: 157 → 200 (+43)\n",
      "🔧 Augmenting label 24: 13 → 200 (+187)\n",
      "🔧 Augmenting label 25: 44 → 200 (+156)\n",
      "🔧 Augmenting label 26: 84 → 200 (+116)\n",
      "🔧 Augmenting label 27: 48 → 200 (+152)\n",
      "🔧 Augmenting label 28: 11 → 200 (+189)\n",
      "🔧 Augmenting label 29: 13 → 200 (+187)\n",
      "🔧 Augmenting label 30: 11 → 200 (+189)\n",
      "🔧 Augmenting label 31: 76 → 200 (+124)\n",
      "🔧 Augmenting label 32: 36 → 200 (+164)\n",
      "🔧 Augmenting label 33: 31 → 200 (+169)\n",
      "🔧 Augmenting label 34: 30 → 200 (+170)\n",
      "🔧 Augmenting label 35: 11 → 200 (+189)\n",
      "🔧 Augmenting label 36: 21 → 200 (+179)\n",
      "🔧 Augmenting label 37: 16 → 200 (+184)\n",
      "🔧 Augmenting label 38: 32 → 200 (+168)\n",
      "🔧 Augmenting label 39: 11 → 200 (+189)\n",
      "🔧 Augmenting label 40: 9 → 200 (+191)\n",
      "🔧 Augmenting label 41: 57 → 200 (+143)\n",
      "🔧 Augmenting label 42: 18 → 200 (+182)\n",
      "🔧 Augmenting label 43: 9 → 200 (+191)\n",
      "🔧 Augmenting label 44: 55 → 200 (+145)\n",
      "🔧 Augmenting label 46: 62 → 200 (+138)\n",
      "🔧 Augmenting label 47: 80 → 200 (+120)\n",
      "Label distribution after resampling:\n",
      "  label 0: 2000\n",
      "  label 1: 200\n",
      "  label 2: 200\n",
      "  label 3: 200\n",
      "  label 4: 200\n",
      "  label 5: 200\n",
      "  label 6: 200\n",
      "  label 7: 200\n",
      "  label 8: 200\n",
      "  label 9: 200\n",
      "  label 10: 200\n",
      "  label 11: 200\n",
      "  label 12: 200\n",
      "  label 13: 200\n",
      "  label 14: 200\n",
      "  label 15: 200\n",
      "  label 16: 200\n",
      "  label 17: 200\n",
      "  label 18: 200\n",
      "  label 19: 200\n",
      "  label 20: 200\n",
      "  label 21: 200\n",
      "  label 22: 200\n",
      "  label 23: 200\n",
      "  label 24: 200\n",
      "  label 25: 200\n",
      "  label 26: 200\n",
      "  label 27: 200\n",
      "  label 28: 200\n",
      "  label 29: 200\n",
      "  label 30: 200\n",
      "  label 31: 200\n",
      "  label 32: 200\n",
      "  label 33: 200\n",
      "  label 34: 200\n",
      "  label 35: 200\n",
      "  label 36: 200\n",
      "  label 37: 200\n",
      "  label 38: 200\n",
      "  label 39: 200\n",
      "  label 40: 200\n",
      "  label 41: 200\n",
      "  label 42: 200\n",
      "  label 43: 200\n",
      "  label 44: 200\n",
      "  label 45: 241\n",
      "  label 46: 200\n",
      "  label 47: 200\n",
      "model is microsoft/deberta-base lstm\n",
      "Using weighted CrossEntropyLoss with weights: tensor([1.7441, 4.0466, 4.0466, 4.0466, 4.0466, 4.0466, 4.0466, 4.0466, 4.0466,\n",
      "        4.0466, 4.0466, 4.0466, 4.0466, 4.0466, 4.0466, 4.0466, 4.0466, 4.0466,\n",
      "        4.0466, 4.0466, 4.0466, 4.0466, 4.0466, 4.0466, 4.0466, 4.0466, 4.0466,\n",
      "        4.0466, 4.0466, 4.0466, 4.0466, 4.0466, 4.0466, 4.0466, 4.0466, 4.0466,\n",
      "        4.0466, 4.0466, 4.0466, 4.0466, 4.0466, 4.0466, 4.0466, 4.0466, 4.0466,\n",
      "        3.8602, 4.0466, 4.0466], device='cuda:0')\n",
      "Epoch 1/20\n"
     ]
    },
    {
     "name": "stderr",
     "output_type": "stream",
     "text": [
      "100%|██████████| 716/716 [01:16<00:00,  9.38it/s]\n"
     ]
    },
    {
     "name": "stdout",
     "output_type": "stream",
     "text": [
      "{'val_loss': 3.3756897885624957, 'val_accuracy': 0.47139588100686497, 'precision': 0.2222140766302384, 'recall': 0.47139588100686497, 'f1-score': 0.302045261236125, 'macro_f1-score': 0.01334888543286677, 'balanced_accuracy': 0.020833333333333332, 'mcc': 0.0, 'train_loss': 3.631467612429038}\n",
      "Epoch 2/20\n"
     ]
    },
    {
     "name": "stderr",
     "output_type": "stream",
     "text": [
      "100%|██████████| 716/716 [01:16<00:00,  9.36it/s]\n"
     ]
    },
    {
     "name": "stdout",
     "output_type": "stream",
     "text": [
      "{'val_loss': 3.3649049212292925, 'val_accuracy': 0.47139588100686497, 'precision': 0.2222140766302384, 'recall': 0.47139588100686497, 'f1-score': 0.302045261236125, 'macro_f1-score': 0.01334888543286677, 'balanced_accuracy': 0.020833333333333332, 'mcc': 0.0, 'train_loss': 3.656854457362404}\n",
      "Epoch 3/20\n"
     ]
    },
    {
     "name": "stderr",
     "output_type": "stream",
     "text": [
      "100%|██████████| 716/716 [01:16<00:00,  9.39it/s]\n"
     ]
    },
    {
     "name": "stdout",
     "output_type": "stream",
     "text": [
      "{'val_loss': 3.338807885239764, 'val_accuracy': 0.47139588100686497, 'precision': 0.2225535939360142, 'recall': 0.47139588100686497, 'f1-score': 0.30235874879319413, 'macro_f1-score': 0.013362740010378828, 'balanced_accuracy': 0.020833333333333332, 'mcc': 0.014763327161429585, 'train_loss': 3.640628621065417}\n",
      "Epoch 4/20\n"
     ]
    },
    {
     "name": "stderr",
     "output_type": "stream",
     "text": [
      "100%|██████████| 716/716 [01:16<00:00,  9.34it/s]\n"
     ]
    },
    {
     "name": "stdout",
     "output_type": "stream",
     "text": [
      "{'val_loss': 3.3689705656795965, 'val_accuracy': 0.47139588100686497, 'precision': 0.2222140766302384, 'recall': 0.47139588100686497, 'f1-score': 0.302045261236125, 'macro_f1-score': 0.01334888543286677, 'balanced_accuracy': 0.020833333333333332, 'mcc': 0.0, 'train_loss': 3.584419951758571}\n",
      "Epoch 5/20\n"
     ]
    },
    {
     "name": "stderr",
     "output_type": "stream",
     "text": [
      "100%|██████████| 716/716 [01:16<00:00,  9.37it/s]\n"
     ]
    },
    {
     "name": "stdout",
     "output_type": "stream",
     "text": [
      "{'val_loss': 3.392816523226296, 'val_accuracy': 0.47139588100686497, 'precision': 0.2222140766302384, 'recall': 0.47139588100686497, 'f1-score': 0.302045261236125, 'macro_f1-score': 0.01334888543286677, 'balanced_accuracy': 0.020833333333333332, 'mcc': 0.0, 'train_loss': 3.565093275721513}\n",
      "Epoch 6/20\n"
     ]
    },
    {
     "name": "stderr",
     "output_type": "stream",
     "text": [
      "100%|██████████| 716/716 [01:16<00:00,  9.37it/s]\n"
     ]
    },
    {
     "name": "stdout",
     "output_type": "stream",
     "text": [
      "{'val_loss': 3.4055912901715533, 'val_accuracy': 0.47139588100686497, 'precision': 0.2222140766302384, 'recall': 0.47139588100686497, 'f1-score': 0.302045261236125, 'macro_f1-score': 0.01334888543286677, 'balanced_accuracy': 0.020833333333333332, 'mcc': 0.0, 'train_loss': 3.555949585397816}\n",
      "Early stopping.\n",
      "\n",
      "[Fold 4]\n",
      "🚀 Using T5-paraphraser for data augmentation + under-sampling\n",
      "🔻 Under-sampling label 0: 2471 → 2000\n",
      "🔧 Augmenting label 1: 22 → 200 (+178)\n",
      "🔧 Augmenting label 2: 64 → 200 (+136)\n",
      "🔧 Augmenting label 3: 24 → 200 (+176)\n",
      "🔧 Augmenting label 4: 190 → 200 (+10)\n",
      "🔧 Augmenting label 5: 113 → 200 (+87)\n",
      "🔧 Augmenting label 6: 93 → 200 (+107)\n",
      "🔧 Augmenting label 7: 31 → 200 (+169)\n",
      "🔧 Augmenting label 8: 68 → 200 (+132)\n",
      "🔧 Augmenting label 9: 29 → 200 (+171)\n",
      "🔧 Augmenting label 10: 67 → 200 (+133)\n",
      "🔧 Augmenting label 11: 169 → 200 (+31)\n",
      "🔧 Augmenting label 12: 190 → 200 (+10)\n",
      "🔧 Augmenting label 13: 29 → 200 (+171)\n",
      "🔧 Augmenting label 14: 22 → 200 (+178)\n",
      "🔧 Augmenting label 15: 25 → 200 (+175)\n",
      "🔧 Augmenting label 16: 19 → 200 (+181)\n",
      "🔧 Augmenting label 17: 182 → 200 (+18)\n",
      "🔧 Augmenting label 18: 92 → 200 (+108)\n",
      "🔧 Augmenting label 19: 44 → 200 (+156)\n",
      "🔧 Augmenting label 20: 14 → 200 (+186)\n",
      "🔧 Augmenting label 21: 35 → 200 (+165)\n",
      "🔧 Augmenting label 22: 76 → 200 (+124)\n",
      "🔧 Augmenting label 23: 158 → 200 (+42)\n",
      "🔧 Augmenting label 24: 13 → 200 (+187)\n",
      "🔧 Augmenting label 25: 44 → 200 (+156)\n",
      "🔧 Augmenting label 26: 84 → 200 (+116)\n",
      "🔧 Augmenting label 27: 48 → 200 (+152)\n",
      "🔧 Augmenting label 28: 11 → 200 (+189)\n",
      "🔧 Augmenting label 29: 13 → 200 (+187)\n",
      "🔧 Augmenting label 30: 11 → 200 (+189)\n",
      "🔧 Augmenting label 31: 75 → 200 (+125)\n",
      "🔧 Augmenting label 32: 36 → 200 (+164)\n",
      "🔧 Augmenting label 33: 31 → 200 (+169)\n",
      "🔧 Augmenting label 34: 30 → 200 (+170)\n",
      "🔧 Augmenting label 35: 11 → 200 (+189)\n",
      "🔧 Augmenting label 36: 22 → 200 (+178)\n",
      "🔧 Augmenting label 37: 16 → 200 (+184)\n",
      "🔧 Augmenting label 38: 33 → 200 (+167)\n",
      "🔧 Augmenting label 39: 10 → 200 (+190)\n",
      "🔧 Augmenting label 40: 9 → 200 (+191)\n",
      "🔧 Augmenting label 41: 56 → 200 (+144)\n",
      "🔧 Augmenting label 42: 18 → 200 (+182)\n",
      "🔧 Augmenting label 43: 9 → 200 (+191)\n",
      "🔧 Augmenting label 44: 55 → 200 (+145)\n",
      "🔧 Augmenting label 46: 62 → 200 (+138)\n",
      "🔧 Augmenting label 47: 80 → 200 (+120)\n",
      "Label distribution after resampling:\n",
      "  label 0: 2000\n",
      "  label 1: 200\n",
      "  label 2: 200\n",
      "  label 3: 200\n",
      "  label 4: 200\n",
      "  label 5: 200\n",
      "  label 6: 200\n",
      "  label 7: 200\n",
      "  label 8: 200\n",
      "  label 9: 200\n",
      "  label 10: 200\n",
      "  label 11: 200\n",
      "  label 12: 200\n",
      "  label 13: 200\n",
      "  label 14: 200\n",
      "  label 15: 200\n",
      "  label 16: 200\n",
      "  label 17: 200\n",
      "  label 18: 200\n",
      "  label 19: 200\n",
      "  label 20: 200\n",
      "  label 21: 200\n",
      "  label 22: 200\n",
      "  label 23: 200\n",
      "  label 24: 200\n",
      "  label 25: 200\n",
      "  label 26: 200\n",
      "  label 27: 200\n",
      "  label 28: 200\n",
      "  label 29: 200\n",
      "  label 30: 200\n",
      "  label 31: 200\n",
      "  label 32: 200\n",
      "  label 33: 200\n",
      "  label 34: 200\n",
      "  label 35: 200\n",
      "  label 36: 200\n",
      "  label 37: 200\n",
      "  label 38: 200\n",
      "  label 39: 200\n",
      "  label 40: 200\n",
      "  label 41: 200\n",
      "  label 42: 200\n",
      "  label 43: 200\n",
      "  label 44: 200\n",
      "  label 45: 241\n",
      "  label 46: 200\n",
      "  label 47: 200\n",
      "model is microsoft/deberta-base lstm\n",
      "Using weighted CrossEntropyLoss with weights: tensor([1.7441, 4.0466, 4.0466, 4.0466, 4.0466, 4.0466, 4.0466, 4.0466, 4.0466,\n",
      "        4.0466, 4.0466, 4.0466, 4.0466, 4.0466, 4.0466, 4.0466, 4.0466, 4.0466,\n",
      "        4.0466, 4.0466, 4.0466, 4.0466, 4.0466, 4.0466, 4.0466, 4.0466, 4.0466,\n",
      "        4.0466, 4.0466, 4.0466, 4.0466, 4.0466, 4.0466, 4.0466, 4.0466, 4.0466,\n",
      "        4.0466, 4.0466, 4.0466, 4.0466, 4.0466, 4.0466, 4.0466, 4.0466, 4.0466,\n",
      "        3.8602, 4.0466, 4.0466], device='cuda:0')\n",
      "Epoch 1/20\n"
     ]
    },
    {
     "name": "stderr",
     "output_type": "stream",
     "text": [
      "100%|██████████| 716/716 [01:16<00:00,  9.40it/s]\n"
     ]
    },
    {
     "name": "stdout",
     "output_type": "stream",
     "text": [
      "{'val_loss': 2.8329880819088076, 'val_accuracy': 0.4927536231884058, 'precision': 0.27505904027592404, 'recall': 0.4927536231884058, 'f1-score': 0.35185636988240065, 'macro_f1-score': 0.028921562031832156, 'balanced_accuracy': 0.03648753903063323, 'mcc': 0.18204497609929077, 'train_loss': 3.4894510091350064}\n",
      "Epoch 2/20\n"
     ]
    },
    {
     "name": "stderr",
     "output_type": "stream",
     "text": [
      "100%|██████████| 716/716 [01:16<00:00,  9.37it/s]\n"
     ]
    },
    {
     "name": "stdout",
     "output_type": "stream",
     "text": [
      "{'val_loss': 2.6114384531974792, 'val_accuracy': 0.4858886346300534, 'precision': 0.35402543031496686, 'recall': 0.4858886346300534, 'f1-score': 0.4007439499904699, 'macro_f1-score': 0.03732614998983002, 'balanced_accuracy': 0.062118695411262755, 'mcc': 0.2796136729722586, 'train_loss': 3.0750201224614786}\n",
      "Epoch 3/20\n"
     ]
    },
    {
     "name": "stderr",
     "output_type": "stream",
     "text": [
      "100%|██████████| 716/716 [01:16<00:00,  9.37it/s]\n"
     ]
    },
    {
     "name": "stdout",
     "output_type": "stream",
     "text": [
      "{'val_loss': 2.8162929430240538, 'val_accuracy': 0.4897025171624714, 'precision': 0.395704151838707, 'recall': 0.4897025171624714, 'f1-score': 0.41366501314144294, 'macro_f1-score': 0.04622058535510195, 'balanced_accuracy': 0.07289198737791898, 'mcc': 0.2778976729060039, 'train_loss': 2.810164243981825}\n",
      "Epoch 4/20\n"
     ]
    },
    {
     "name": "stderr",
     "output_type": "stream",
     "text": [
      "100%|██████████| 716/716 [01:16<00:00,  9.37it/s]\n"
     ]
    },
    {
     "name": "stdout",
     "output_type": "stream",
     "text": [
      "{'val_loss': 2.4069148047668176, 'val_accuracy': 0.5293668954996186, 'precision': 0.416494002904903, 'recall': 0.5293668954996186, 'f1-score': 0.4512405263617061, 'macro_f1-score': 0.06470596805915889, 'balanced_accuracy': 0.08121462609927357, 'mcc': 0.3343406312202629, 'train_loss': 2.6716065914604252}\n",
      "Epoch 5/20\n"
     ]
    },
    {
     "name": "stderr",
     "output_type": "stream",
     "text": [
      "100%|██████████| 716/716 [01:16<00:00,  9.37it/s]\n"
     ]
    },
    {
     "name": "stdout",
     "output_type": "stream",
     "text": [
      "{'val_loss': 2.4342116946127357, 'val_accuracy': 0.482837528604119, 'precision': 0.42599815227441207, 'recall': 0.482837528604119, 'f1-score': 0.44347638693644853, 'macro_f1-score': 0.08342846203758088, 'balanced_accuracy': 0.10283699681017748, 'mcc': 0.30537964049880323, 'train_loss': 2.5266959720483704}\n",
      "Epoch 6/20\n"
     ]
    },
    {
     "name": "stderr",
     "output_type": "stream",
     "text": [
      "100%|██████████| 716/716 [01:16<00:00,  9.36it/s]\n"
     ]
    },
    {
     "name": "stdout",
     "output_type": "stream",
     "text": [
      "{'val_loss': 2.1508302688598633, 'val_accuracy': 0.5087719298245614, 'precision': 0.4504027593501046, 'recall': 0.5087719298245614, 'f1-score': 0.4662576527067194, 'macro_f1-score': 0.11882044414748875, 'balanced_accuracy': 0.1254423485493178, 'mcc': 0.3385609491448228, 'train_loss': 2.2155148515155196}\n",
      "Epoch 7/20\n"
     ]
    },
    {
     "name": "stderr",
     "output_type": "stream",
     "text": [
      "100%|██████████| 716/716 [01:16<00:00,  9.35it/s]\n"
     ]
    },
    {
     "name": "stdout",
     "output_type": "stream",
     "text": [
      "{'val_loss': 2.1422881193277314, 'val_accuracy': 0.5293668954996186, 'precision': 0.5219163145279162, 'recall': 0.5293668954996186, 'f1-score': 0.5168205888398784, 'macro_f1-score': 0.20570767437020399, 'balanced_accuracy': 0.22228436452862374, 'mcc': 0.39313505557174927, 'train_loss': 1.8957699535612287}\n",
      "Epoch 8/20\n"
     ]
    },
    {
     "name": "stderr",
     "output_type": "stream",
     "text": [
      "100%|██████████| 716/716 [01:16<00:00,  9.37it/s]\n"
     ]
    },
    {
     "name": "stdout",
     "output_type": "stream",
     "text": [
      "{'val_loss': 2.185368702905934, 'val_accuracy': 0.524790236460717, 'precision': 0.49916096880385236, 'recall': 0.524790236460717, 'f1-score': 0.504214607273078, 'macro_f1-score': 0.19078296293840466, 'balanced_accuracy': 0.2130492924297295, 'mcc': 0.37993029182772114, 'train_loss': 1.6774772861816363}\n",
      "Epoch 9/20\n"
     ]
    },
    {
     "name": "stderr",
     "output_type": "stream",
     "text": [
      "100%|██████████| 716/716 [01:16<00:00,  9.35it/s]\n"
     ]
    },
    {
     "name": "stdout",
     "output_type": "stream",
     "text": [
      "{'val_loss': 3.4237895593410586, 'val_accuracy': 0.47139588100686497, 'precision': 0.2222140766302384, 'recall': 0.47139588100686497, 'f1-score': 0.302045261236125, 'macro_f1-score': 0.01334888543286677, 'balanced_accuracy': 0.020833333333333332, 'mcc': 0.0, 'train_loss': 2.561074853609394}\n",
      "Epoch 10/20\n"
     ]
    },
    {
     "name": "stderr",
     "output_type": "stream",
     "text": [
      "100%|██████████| 716/716 [01:16<00:00,  9.37it/s]\n"
     ]
    },
    {
     "name": "stdout",
     "output_type": "stream",
     "text": [
      "{'val_loss': 3.276036867281286, 'val_accuracy': 0.47139588100686497, 'precision': 0.2222140766302384, 'recall': 0.47139588100686497, 'f1-score': 0.302045261236125, 'macro_f1-score': 0.01334888543286677, 'balanced_accuracy': 0.020833333333333332, 'mcc': 0.0, 'train_loss': 3.617531004564722}\n",
      "Early stopping.\n",
      "\n",
      "[Fold 5]\n",
      "🚀 Using T5-paraphraser for data augmentation + under-sampling\n",
      "🔻 Under-sampling label 0: 2472 → 2000\n",
      "🔧 Augmenting label 1: 21 → 200 (+179)\n",
      "🔧 Augmenting label 2: 64 → 200 (+136)\n",
      "🔧 Augmenting label 3: 24 → 200 (+176)\n",
      "🔧 Augmenting label 4: 191 → 200 (+9)\n",
      "🔧 Augmenting label 5: 112 → 200 (+88)\n",
      "🔧 Augmenting label 6: 92 → 200 (+108)\n",
      "🔧 Augmenting label 7: 31 → 200 (+169)\n",
      "🔧 Augmenting label 8: 68 → 200 (+132)\n",
      "🔧 Augmenting label 9: 29 → 200 (+171)\n",
      "🔧 Augmenting label 10: 68 → 200 (+132)\n",
      "🔧 Augmenting label 11: 168 → 200 (+32)\n",
      "🔧 Augmenting label 12: 190 → 200 (+10)\n",
      "🔧 Augmenting label 13: 29 → 200 (+171)\n",
      "🔧 Augmenting label 14: 22 → 200 (+178)\n",
      "🔧 Augmenting label 15: 25 → 200 (+175)\n",
      "🔧 Augmenting label 16: 19 → 200 (+181)\n",
      "🔧 Augmenting label 17: 183 → 200 (+17)\n",
      "🔧 Augmenting label 18: 92 → 200 (+108)\n",
      "🔧 Augmenting label 19: 44 → 200 (+156)\n",
      "🔧 Augmenting label 20: 14 → 200 (+186)\n",
      "🔧 Augmenting label 21: 35 → 200 (+165)\n",
      "🔧 Augmenting label 22: 76 → 200 (+124)\n",
      "🔧 Augmenting label 23: 158 → 200 (+42)\n",
      "🔧 Augmenting label 24: 13 → 200 (+187)\n",
      "🔧 Augmenting label 25: 44 → 200 (+156)\n",
      "🔧 Augmenting label 26: 84 → 200 (+116)\n",
      "🔧 Augmenting label 27: 48 → 200 (+152)\n",
      "🔧 Augmenting label 28: 11 → 200 (+189)\n",
      "🔧 Augmenting label 29: 13 → 200 (+187)\n",
      "🔧 Augmenting label 30: 11 → 200 (+189)\n",
      "🔧 Augmenting label 31: 75 → 200 (+125)\n",
      "🔧 Augmenting label 32: 36 → 200 (+164)\n",
      "🔧 Augmenting label 33: 31 → 200 (+169)\n",
      "🔧 Augmenting label 34: 30 → 200 (+170)\n",
      "🔧 Augmenting label 35: 11 → 200 (+189)\n",
      "🔧 Augmenting label 36: 22 → 200 (+178)\n",
      "🔧 Augmenting label 37: 16 → 200 (+184)\n",
      "🔧 Augmenting label 38: 33 → 200 (+167)\n",
      "🔧 Augmenting label 39: 10 → 200 (+190)\n",
      "🔧 Augmenting label 40: 9 → 200 (+191)\n",
      "🔧 Augmenting label 41: 57 → 200 (+143)\n",
      "🔧 Augmenting label 42: 18 → 200 (+182)\n",
      "🔧 Augmenting label 43: 9 → 200 (+191)\n",
      "🔧 Augmenting label 44: 54 → 200 (+146)\n",
      "🔧 Augmenting label 46: 61 → 200 (+139)\n",
      "🔧 Augmenting label 47: 80 → 200 (+120)\n",
      "Label distribution after resampling:\n",
      "  label 0: 2000\n",
      "  label 1: 200\n",
      "  label 2: 200\n",
      "  label 3: 200\n",
      "  label 4: 200\n",
      "  label 5: 200\n",
      "  label 6: 200\n",
      "  label 7: 200\n",
      "  label 8: 200\n",
      "  label 9: 200\n",
      "  label 10: 200\n",
      "  label 11: 200\n",
      "  label 12: 200\n",
      "  label 13: 200\n",
      "  label 14: 200\n",
      "  label 15: 200\n",
      "  label 16: 200\n",
      "  label 17: 200\n",
      "  label 18: 200\n",
      "  label 19: 200\n",
      "  label 20: 200\n",
      "  label 21: 200\n",
      "  label 22: 200\n",
      "  label 23: 200\n",
      "  label 24: 200\n",
      "  label 25: 200\n",
      "  label 26: 200\n",
      "  label 27: 200\n",
      "  label 28: 200\n",
      "  label 29: 200\n",
      "  label 30: 200\n",
      "  label 31: 200\n",
      "  label 32: 200\n",
      "  label 33: 200\n",
      "  label 34: 200\n",
      "  label 35: 200\n",
      "  label 36: 200\n",
      "  label 37: 200\n",
      "  label 38: 200\n",
      "  label 39: 200\n",
      "  label 40: 200\n",
      "  label 41: 200\n",
      "  label 42: 200\n",
      "  label 43: 200\n",
      "  label 44: 200\n",
      "  label 45: 242\n",
      "  label 46: 200\n",
      "  label 47: 200\n",
      "model is microsoft/deberta-base lstm\n",
      "Using weighted CrossEntropyLoss with weights: tensor([1.7441, 4.0467, 4.0467, 4.0467, 4.0467, 4.0467, 4.0467, 4.0467, 4.0467,\n",
      "        4.0467, 4.0467, 4.0467, 4.0467, 4.0467, 4.0467, 4.0467, 4.0467, 4.0467,\n",
      "        4.0467, 4.0467, 4.0467, 4.0467, 4.0467, 4.0467, 4.0467, 4.0467, 4.0467,\n",
      "        4.0467, 4.0467, 4.0467, 4.0467, 4.0467, 4.0467, 4.0467, 4.0467, 4.0467,\n",
      "        4.0467, 4.0467, 4.0467, 4.0467, 4.0467, 4.0467, 4.0467, 4.0467, 4.0467,\n",
      "        3.8561, 4.0467, 4.0467], device='cuda:0')\n",
      "Epoch 1/20\n"
     ]
    },
    {
     "name": "stderr",
     "output_type": "stream",
     "text": [
      "100%|██████████| 716/716 [01:16<00:00,  9.39it/s]\n"
     ]
    },
    {
     "name": "stdout",
     "output_type": "stream",
     "text": [
      "{'val_loss': 3.201889299764866, 'val_accuracy': 0.47063310450038137, 'precision': 0.2230265940681531, 'recall': 0.47063310450038137, 'f1-score': 0.3026374418725746, 'macro_f1-score': 0.013396734410283134, 'balanced_accuracy': 0.020833333333333332, 'mcc': 0.03138531143220577, 'train_loss': 3.4348577117786725}\n",
      "Epoch 2/20\n"
     ]
    },
    {
     "name": "stderr",
     "output_type": "stream",
     "text": [
      "100%|██████████| 716/716 [01:16<00:00,  9.37it/s]\n"
     ]
    },
    {
     "name": "stdout",
     "output_type": "stream",
     "text": [
      "{'val_loss': 3.155606168072398, 'val_accuracy': 0.4500381388253242, 'precision': 0.2555546100618586, 'recall': 0.4500381388253242, 'f1-score': 0.3256277890543126, 'macro_f1-score': 0.014824305960007765, 'balanced_accuracy': 0.030270799567801192, 'mcc': 0.12777475261893717, 'train_loss': 3.4668249211497812}\n",
      "Epoch 3/20\n"
     ]
    },
    {
     "name": "stderr",
     "output_type": "stream",
     "text": [
      "100%|██████████| 716/716 [01:16<00:00,  9.35it/s]\n"
     ]
    },
    {
     "name": "stdout",
     "output_type": "stream",
     "text": [
      "{'val_loss': 3.0218440468718364, 'val_accuracy': 0.4660564454614798, 'precision': 0.258497925646175, 'recall': 0.4660564454614798, 'f1-score': 0.3318462097969264, 'macro_f1-score': 0.017019828153744348, 'balanced_accuracy': 0.022824936971006664, 'mcc': 0.13482850873932672, 'train_loss': 3.3623790537844824}\n",
      "Epoch 4/20\n"
     ]
    },
    {
     "name": "stderr",
     "output_type": "stream",
     "text": [
      "100%|██████████| 716/716 [01:16<00:00,  9.35it/s]\n"
     ]
    },
    {
     "name": "stdout",
     "output_type": "stream",
     "text": [
      "{'val_loss': 3.056389365254379, 'val_accuracy': 0.43249427917620137, 'precision': 0.2841313291239457, 'recall': 0.43249427917620137, 'f1-score': 0.34288330737246975, 'macro_f1-score': 0.015810464108621625, 'balanced_accuracy': 0.019771970106248874, 'mcc': 0.15940583408539716, 'train_loss': 3.3086047397312504}\n",
      "Epoch 5/20\n"
     ]
    },
    {
     "name": "stderr",
     "output_type": "stream",
     "text": [
      "100%|██████████| 716/716 [01:16<00:00,  9.37it/s]\n"
     ]
    },
    {
     "name": "stdout",
     "output_type": "stream",
     "text": [
      "{'val_loss': 3.0336235470888093, 'val_accuracy': 0.4576659038901602, 'precision': 0.24364095142383854, 'recall': 0.4576659038901602, 'f1-score': 0.31799534087863607, 'macro_f1-score': 0.014076576576576577, 'balanced_accuracy': 0.02025931928687196, 'mcc': 0.1025492247509545, 'train_loss': 3.4173698941422574}\n",
      "Epoch 6/20\n"
     ]
    },
    {
     "name": "stderr",
     "output_type": "stream",
     "text": [
      "100%|██████████| 716/716 [01:16<00:00,  9.36it/s]\n"
     ]
    },
    {
     "name": "stdout",
     "output_type": "stream",
     "text": [
      "{'val_loss': 3.153891293013968, 'val_accuracy': 0.4576659038901602, 'precision': 0.23260285230661354, 'recall': 0.4576659038901602, 'f1-score': 0.30844332353929965, 'macro_f1-score': 0.013653741125068267, 'balanced_accuracy': 0.02025931928687196, 'mcc': 0.06627651113722158, 'train_loss': 3.3875051383865613}\n",
      "Early stopping.\n",
      "\n",
      " === microsoft/deberta-base + lstm + t5 Final 5-fold Cross-Validation Results ===\n",
      "val_loss: 2.6606\n",
      "val_accuracy: 0.5110\n",
      "precision: 0.4125\n",
      "recall: 0.5110\n",
      "f1-score: 0.4382\n",
      "macro_f1-score: 0.1311\n",
      "balanced_accuracy: 0.1418\n",
      "mcc: 0.2611\n",
      "train_loss: 2.3708\n",
      "total_seconds: 12850.0000\n",
      "total_time: 3 hrs 34 mins 10 secs\n",
      "▶ Running: microsoft/deberta-base + bilstm + t5\n",
      "tokenizer is microsoft/deberta-base\n",
      "Using device: cuda\n",
      "CUDA Available: True\n",
      "CUDA Device: NVIDIA GeForce RTX 5070 Ti\n",
      "Current GPU Memory Allocated: 0.02 GB\n",
      "Current GPU Memory Cached: 5.45 GB\n",
      "\n",
      "[Fold 1]\n",
      "🚀 Using T5-paraphraser for data augmentation + under-sampling\n",
      "🔻 Under-sampling label 0: 2471 → 2000\n",
      "🔧 Augmenting label 1: 21 → 200 (+179)\n",
      "🔧 Augmenting label 2: 64 → 200 (+136)\n",
      "🔧 Augmenting label 3: 24 → 200 (+176)\n",
      "🔧 Augmenting label 4: 191 → 200 (+9)\n",
      "🔧 Augmenting label 5: 113 → 200 (+87)\n",
      "🔧 Augmenting label 6: 93 → 200 (+107)\n",
      "🔧 Augmenting label 7: 30 → 200 (+170)\n",
      "🔧 Augmenting label 8: 68 → 200 (+132)\n",
      "🔧 Augmenting label 9: 30 → 200 (+170)\n",
      "🔧 Augmenting label 10: 67 → 200 (+133)\n",
      "🔧 Augmenting label 11: 169 → 200 (+31)\n",
      "🔧 Augmenting label 12: 189 → 200 (+11)\n",
      "🔧 Augmenting label 13: 29 → 200 (+171)\n",
      "🔧 Augmenting label 14: 22 → 200 (+178)\n",
      "🔧 Augmenting label 15: 25 → 200 (+175)\n",
      "🔧 Augmenting label 16: 19 → 200 (+181)\n",
      "🔧 Augmenting label 17: 183 → 200 (+17)\n",
      "🔧 Augmenting label 18: 92 → 200 (+108)\n",
      "🔧 Augmenting label 19: 44 → 200 (+156)\n",
      "🔧 Augmenting label 20: 13 → 200 (+187)\n",
      "🔧 Augmenting label 21: 35 → 200 (+165)\n",
      "🔧 Augmenting label 22: 76 → 200 (+124)\n",
      "🔧 Augmenting label 23: 158 → 200 (+42)\n",
      "🔧 Augmenting label 24: 13 → 200 (+187)\n",
      "🔧 Augmenting label 25: 44 → 200 (+156)\n",
      "🔧 Augmenting label 26: 84 → 200 (+116)\n",
      "🔧 Augmenting label 27: 48 → 200 (+152)\n",
      "🔧 Augmenting label 28: 11 → 200 (+189)\n",
      "🔧 Augmenting label 29: 13 → 200 (+187)\n",
      "🔧 Augmenting label 30: 11 → 200 (+189)\n",
      "🔧 Augmenting label 31: 75 → 200 (+125)\n",
      "🔧 Augmenting label 32: 36 → 200 (+164)\n",
      "🔧 Augmenting label 33: 32 → 200 (+168)\n",
      "🔧 Augmenting label 34: 29 → 200 (+171)\n",
      "🔧 Augmenting label 35: 11 → 200 (+189)\n",
      "🔧 Augmenting label 36: 22 → 200 (+178)\n",
      "🔧 Augmenting label 37: 16 → 200 (+184)\n",
      "🔧 Augmenting label 38: 33 → 200 (+167)\n",
      "🔧 Augmenting label 39: 10 → 200 (+190)\n",
      "🔧 Augmenting label 40: 9 → 200 (+191)\n",
      "🔧 Augmenting label 41: 57 → 200 (+143)\n",
      "🔧 Augmenting label 42: 19 → 200 (+181)\n",
      "🔧 Augmenting label 43: 8 → 200 (+192)\n",
      "🔧 Augmenting label 44: 54 → 200 (+146)\n",
      "🔧 Augmenting label 46: 61 → 200 (+139)\n",
      "🔧 Augmenting label 47: 80 → 200 (+120)\n",
      "Label distribution after resampling:\n",
      "  label 0: 2000\n",
      "  label 1: 200\n",
      "  label 2: 200\n",
      "  label 3: 200\n",
      "  label 4: 200\n",
      "  label 5: 200\n",
      "  label 6: 200\n",
      "  label 7: 200\n",
      "  label 8: 200\n",
      "  label 9: 200\n",
      "  label 10: 200\n",
      "  label 11: 200\n",
      "  label 12: 200\n",
      "  label 13: 200\n",
      "  label 14: 200\n",
      "  label 15: 200\n",
      "  label 16: 200\n",
      "  label 17: 200\n",
      "  label 18: 200\n",
      "  label 19: 200\n",
      "  label 20: 200\n",
      "  label 21: 200\n",
      "  label 22: 200\n",
      "  label 23: 200\n",
      "  label 24: 200\n",
      "  label 25: 200\n",
      "  label 26: 200\n",
      "  label 27: 200\n",
      "  label 28: 200\n",
      "  label 29: 200\n",
      "  label 30: 200\n",
      "  label 31: 200\n",
      "  label 32: 200\n",
      "  label 33: 200\n",
      "  label 34: 200\n",
      "  label 35: 200\n",
      "  label 36: 200\n",
      "  label 37: 200\n",
      "  label 38: 200\n",
      "  label 39: 200\n",
      "  label 40: 200\n",
      "  label 41: 200\n",
      "  label 42: 200\n",
      "  label 43: 200\n",
      "  label 44: 200\n",
      "  label 45: 242\n",
      "  label 46: 200\n",
      "  label 47: 200\n",
      "model is microsoft/deberta-base bilstm\n",
      "Using weighted CrossEntropyLoss with weights: tensor([1.7441, 4.0467, 4.0467, 4.0467, 4.0467, 4.0467, 4.0467, 4.0467, 4.0467,\n",
      "        4.0467, 4.0467, 4.0467, 4.0467, 4.0467, 4.0467, 4.0467, 4.0467, 4.0467,\n",
      "        4.0467, 4.0467, 4.0467, 4.0467, 4.0467, 4.0467, 4.0467, 4.0467, 4.0467,\n",
      "        4.0467, 4.0467, 4.0467, 4.0467, 4.0467, 4.0467, 4.0467, 4.0467, 4.0467,\n",
      "        4.0467, 4.0467, 4.0467, 4.0467, 4.0467, 4.0467, 4.0467, 4.0467, 4.0467,\n",
      "        3.8561, 4.0467, 4.0467], device='cuda:0')\n",
      "Epoch 1/20\n"
     ]
    },
    {
     "name": "stderr",
     "output_type": "stream",
     "text": [
      "100%|██████████| 716/716 [01:18<00:00,  9.16it/s]\n"
     ]
    },
    {
     "name": "stdout",
     "output_type": "stream",
     "text": [
      "{'val_loss': 3.1821817377718484, 'val_accuracy': 0.47103658536585363, 'precision': 0.22187546475312311, 'recall': 0.47103658536585363, 'f1-score': 0.3016586629596866, 'macro_f1-score': 0.013341968911917098, 'balanced_accuracy': 0.020833333333333332, 'mcc': 0.0, 'train_loss': 3.6338087736561313}\n",
      "Epoch 2/20\n"
     ]
    },
    {
     "name": "stderr",
     "output_type": "stream",
     "text": [
      "100%|██████████| 716/716 [01:18<00:00,  9.09it/s]\n"
     ]
    },
    {
     "name": "stdout",
     "output_type": "stream",
     "text": [
      "{'val_loss': 3.33475234014232, 'val_accuracy': 0.47103658536585363, 'precision': 0.22187546475312311, 'recall': 0.47103658536585363, 'f1-score': 0.3016586629596866, 'macro_f1-score': 0.013341968911917098, 'balanced_accuracy': 0.020833333333333332, 'mcc': 0.0, 'train_loss': 3.562387008240769}\n",
      "Epoch 3/20\n"
     ]
    },
    {
     "name": "stderr",
     "output_type": "stream",
     "text": [
      "100%|██████████| 716/716 [01:18<00:00,  9.11it/s]\n"
     ]
    },
    {
     "name": "stdout",
     "output_type": "stream",
     "text": [
      "{'val_loss': 3.310224429863255, 'val_accuracy': 0.47103658536585363, 'precision': 0.22187546475312311, 'recall': 0.47103658536585363, 'f1-score': 0.3016586629596866, 'macro_f1-score': 0.013341968911917098, 'balanced_accuracy': 0.020833333333333332, 'mcc': 0.0, 'train_loss': 3.653180325830449}\n",
      "Epoch 4/20\n"
     ]
    },
    {
     "name": "stderr",
     "output_type": "stream",
     "text": [
      "100%|██████████| 716/716 [01:18<00:00,  9.13it/s]\n"
     ]
    },
    {
     "name": "stdout",
     "output_type": "stream",
     "text": [
      "{'val_loss': 3.3460212684259183, 'val_accuracy': 0.47560975609756095, 'precision': 0.23808799993580745, 'recall': 0.47560975609756095, 'f1-score': 0.3134604344142329, 'macro_f1-score': 0.01930516925079891, 'balanced_accuracy': 0.02532811938151744, 'mcc': 0.07664221663140533, 'train_loss': 3.634854536149755}\n",
      "Epoch 5/20\n"
     ]
    },
    {
     "name": "stderr",
     "output_type": "stream",
     "text": [
      "100%|██████████| 716/716 [01:18<00:00,  9.11it/s]\n"
     ]
    },
    {
     "name": "stdout",
     "output_type": "stream",
     "text": [
      "{'val_loss': 3.350742197618252, 'val_accuracy': 0.47484756097560976, 'precision': 0.2407106003752345, 'recall': 0.47484756097560976, 'f1-score': 0.31027561671670717, 'macro_f1-score': 0.017789684064175037, 'balanced_accuracy': 0.023577400215749732, 'mcc': 0.06620943479520594, 'train_loss': 3.633564375632302}\n",
      "Epoch 6/20\n"
     ]
    },
    {
     "name": "stderr",
     "output_type": "stream",
     "text": [
      "100%|██████████| 716/716 [01:18<00:00,  9.08it/s]\n"
     ]
    },
    {
     "name": "stdout",
     "output_type": "stream",
     "text": [
      "{'val_loss': 3.3274240057642865, 'val_accuracy': 0.47103658536585363, 'precision': 0.22187546475312311, 'recall': 0.47103658536585363, 'f1-score': 0.3016586629596866, 'macro_f1-score': 0.013341968911917098, 'balanced_accuracy': 0.020833333333333332, 'mcc': 0.0, 'train_loss': 3.5772595232425455}\n",
      "Epoch 7/20\n"
     ]
    },
    {
     "name": "stderr",
     "output_type": "stream",
     "text": [
      "100%|██████████| 716/716 [01:18<00:00,  9.14it/s]\n"
     ]
    },
    {
     "name": "stdout",
     "output_type": "stream",
     "text": [
      "{'val_loss': 3.3418985459862687, 'val_accuracy': 0.47103658536585363, 'precision': 0.22187546475312311, 'recall': 0.47103658536585363, 'f1-score': 0.3016586629596866, 'macro_f1-score': 0.013341968911917098, 'balanced_accuracy': 0.020833333333333332, 'mcc': 0.0, 'train_loss': 3.5487453984148676}\n",
      "Early stopping.\n",
      "\n",
      "[Fold 2]\n",
      "🚀 Using T5-paraphraser for data augmentation + under-sampling\n",
      "🔻 Under-sampling label 0: 2471 → 2000\n",
      "🔧 Augmenting label 1: 22 → 200 (+178)\n",
      "🔧 Augmenting label 2: 64 → 200 (+136)\n",
      "🔧 Augmenting label 3: 24 → 200 (+176)\n",
      "🔧 Augmenting label 4: 190 → 200 (+10)\n",
      "🔧 Augmenting label 5: 113 → 200 (+87)\n",
      "🔧 Augmenting label 6: 93 → 200 (+107)\n",
      "🔧 Augmenting label 7: 30 → 200 (+170)\n",
      "🔧 Augmenting label 8: 68 → 200 (+132)\n",
      "🔧 Augmenting label 9: 30 → 200 (+170)\n",
      "🔧 Augmenting label 10: 67 → 200 (+133)\n",
      "🔧 Augmenting label 11: 169 → 200 (+31)\n",
      "🔧 Augmenting label 12: 189 → 200 (+11)\n",
      "🔧 Augmenting label 13: 29 → 200 (+171)\n",
      "🔧 Augmenting label 14: 23 → 200 (+177)\n",
      "🔧 Augmenting label 15: 24 → 200 (+176)\n",
      "🔧 Augmenting label 16: 20 → 200 (+180)\n",
      "🔧 Augmenting label 17: 182 → 200 (+18)\n",
      "🔧 Augmenting label 18: 92 → 200 (+108)\n",
      "🔧 Augmenting label 19: 44 → 200 (+156)\n",
      "🔧 Augmenting label 20: 13 → 200 (+187)\n",
      "🔧 Augmenting label 21: 36 → 200 (+164)\n",
      "🔧 Augmenting label 22: 76 → 200 (+124)\n",
      "🔧 Augmenting label 23: 157 → 200 (+43)\n",
      "🔧 Augmenting label 24: 12 → 200 (+188)\n",
      "🔧 Augmenting label 25: 44 → 200 (+156)\n",
      "🔧 Augmenting label 26: 84 → 200 (+116)\n",
      "🔧 Augmenting label 27: 48 → 200 (+152)\n",
      "🔧 Augmenting label 28: 12 → 200 (+188)\n",
      "🔧 Augmenting label 29: 12 → 200 (+188)\n",
      "🔧 Augmenting label 30: 12 → 200 (+188)\n",
      "🔧 Augmenting label 31: 75 → 200 (+125)\n",
      "🔧 Augmenting label 32: 36 → 200 (+164)\n",
      "🔧 Augmenting label 33: 31 → 200 (+169)\n",
      "🔧 Augmenting label 34: 29 → 200 (+171)\n",
      "🔧 Augmenting label 35: 12 → 200 (+188)\n",
      "🔧 Augmenting label 36: 21 → 200 (+179)\n",
      "🔧 Augmenting label 37: 16 → 200 (+184)\n",
      "🔧 Augmenting label 38: 33 → 200 (+167)\n",
      "🔧 Augmenting label 39: 11 → 200 (+189)\n",
      "🔧 Augmenting label 40: 8 → 200 (+192)\n",
      "🔧 Augmenting label 41: 57 → 200 (+143)\n",
      "🔧 Augmenting label 42: 19 → 200 (+181)\n",
      "🔧 Augmenting label 43: 9 → 200 (+191)\n",
      "🔧 Augmenting label 44: 54 → 200 (+146)\n",
      "🔧 Augmenting label 46: 62 → 200 (+138)\n",
      "🔧 Augmenting label 47: 80 → 200 (+120)\n",
      "Label distribution after resampling:\n",
      "  label 0: 2000\n",
      "  label 1: 200\n",
      "  label 2: 200\n",
      "  label 3: 200\n",
      "  label 4: 200\n",
      "  label 5: 200\n",
      "  label 6: 200\n",
      "  label 7: 200\n",
      "  label 8: 200\n",
      "  label 9: 200\n",
      "  label 10: 200\n",
      "  label 11: 200\n",
      "  label 12: 200\n",
      "  label 13: 200\n",
      "  label 14: 200\n",
      "  label 15: 200\n",
      "  label 16: 200\n",
      "  label 17: 200\n",
      "  label 18: 200\n",
      "  label 19: 200\n",
      "  label 20: 200\n",
      "  label 21: 200\n",
      "  label 22: 200\n",
      "  label 23: 200\n",
      "  label 24: 200\n",
      "  label 25: 200\n",
      "  label 26: 200\n",
      "  label 27: 200\n",
      "  label 28: 200\n",
      "  label 29: 200\n",
      "  label 30: 200\n",
      "  label 31: 200\n",
      "  label 32: 200\n",
      "  label 33: 200\n",
      "  label 34: 200\n",
      "  label 35: 200\n",
      "  label 36: 200\n",
      "  label 37: 200\n",
      "  label 38: 200\n",
      "  label 39: 200\n",
      "  label 40: 200\n",
      "  label 41: 200\n",
      "  label 42: 200\n",
      "  label 43: 200\n",
      "  label 44: 200\n",
      "  label 45: 242\n",
      "  label 46: 200\n",
      "  label 47: 200\n",
      "model is microsoft/deberta-base bilstm\n",
      "Using weighted CrossEntropyLoss with weights: tensor([1.7441, 4.0467, 4.0467, 4.0467, 4.0467, 4.0467, 4.0467, 4.0467, 4.0467,\n",
      "        4.0467, 4.0467, 4.0467, 4.0467, 4.0467, 4.0467, 4.0467, 4.0467, 4.0467,\n",
      "        4.0467, 4.0467, 4.0467, 4.0467, 4.0467, 4.0467, 4.0467, 4.0467, 4.0467,\n",
      "        4.0467, 4.0467, 4.0467, 4.0467, 4.0467, 4.0467, 4.0467, 4.0467, 4.0467,\n",
      "        4.0467, 4.0467, 4.0467, 4.0467, 4.0467, 4.0467, 4.0467, 4.0467, 4.0467,\n",
      "        3.8561, 4.0467, 4.0467], device='cuda:0')\n",
      "Epoch 1/20\n"
     ]
    },
    {
     "name": "stderr",
     "output_type": "stream",
     "text": [
      "100%|██████████| 716/716 [01:18<00:00,  9.13it/s]\n"
     ]
    },
    {
     "name": "stdout",
     "output_type": "stream",
     "text": [
      "{'val_loss': 3.1834379463661007, 'val_accuracy': 0.47139588100686497, 'precision': 0.22777377205804733, 'recall': 0.47139588100686497, 'f1-score': 0.30714038425117823, 'macro_f1-score': 0.013574064312071692, 'balanced_accuracy': 0.020833333333333332, 'mcc': 0.05942865238393354, 'train_loss': 3.4625936230467684}\n",
      "Epoch 2/20\n"
     ]
    },
    {
     "name": "stderr",
     "output_type": "stream",
     "text": [
      "100%|██████████| 716/716 [01:18<00:00,  9.15it/s]\n"
     ]
    },
    {
     "name": "stdout",
     "output_type": "stream",
     "text": [
      "{'val_loss': 3.2186370826349027, 'val_accuracy': 0.47063310450038137, 'precision': 0.22705016282688187, 'recall': 0.47063310450038137, 'f1-score': 0.30632044084385013, 'macro_f1-score': 0.01353782692645252, 'balanced_accuracy': 0.02079962243797195, 'mcc': 0.05332311002825782, 'train_loss': 3.3667374855979193}\n",
      "Epoch 3/20\n"
     ]
    },
    {
     "name": "stderr",
     "output_type": "stream",
     "text": [
      "100%|██████████| 716/716 [01:18<00:00,  9.10it/s]\n"
     ]
    },
    {
     "name": "stdout",
     "output_type": "stream",
     "text": [
      "{'val_loss': 3.32626353531349, 'val_accuracy': 0.459954233409611, 'precision': 0.22849816418580352, 'recall': 0.459954233409611, 'f1-score': 0.30531870703237335, 'macro_f1-score': 0.013493555316863588, 'balanced_accuracy': 0.020327669902912623, 'mcc': 0.04515124318120392, 'train_loss': 3.317516466092797}\n",
      "Epoch 4/20\n"
     ]
    },
    {
     "name": "stderr",
     "output_type": "stream",
     "text": [
      "100%|██████████| 716/716 [01:18<00:00,  9.12it/s]\n"
     ]
    },
    {
     "name": "stdout",
     "output_type": "stream",
     "text": [
      "{'val_loss': 3.30210909320087, 'val_accuracy': 0.47139588100686497, 'precision': 0.2222140766302384, 'recall': 0.47139588100686497, 'f1-score': 0.302045261236125, 'macro_f1-score': 0.01334888543286677, 'balanced_accuracy': 0.020833333333333332, 'mcc': 0.0, 'train_loss': 3.3953223914407484}\n",
      "Early stopping.\n",
      "\n",
      "[Fold 3]\n",
      "🚀 Using T5-paraphraser for data augmentation + under-sampling\n",
      "🔻 Under-sampling label 0: 2471 → 2000\n",
      "🔧 Augmenting label 1: 22 → 200 (+178)\n",
      "🔧 Augmenting label 2: 64 → 200 (+136)\n",
      "🔧 Augmenting label 3: 24 → 200 (+176)\n",
      "🔧 Augmenting label 4: 190 → 200 (+10)\n",
      "🔧 Augmenting label 5: 113 → 200 (+87)\n",
      "🔧 Augmenting label 6: 93 → 200 (+107)\n",
      "🔧 Augmenting label 7: 30 → 200 (+170)\n",
      "🔧 Augmenting label 8: 68 → 200 (+132)\n",
      "🔧 Augmenting label 9: 30 → 200 (+170)\n",
      "🔧 Augmenting label 10: 67 → 200 (+133)\n",
      "🔧 Augmenting label 11: 169 → 200 (+31)\n",
      "🔧 Augmenting label 12: 190 → 200 (+10)\n",
      "🔧 Augmenting label 13: 28 → 200 (+172)\n",
      "🔧 Augmenting label 14: 23 → 200 (+177)\n",
      "🔧 Augmenting label 15: 25 → 200 (+175)\n",
      "🔧 Augmenting label 16: 19 → 200 (+181)\n",
      "🔧 Augmenting label 17: 182 → 200 (+18)\n",
      "🔧 Augmenting label 18: 92 → 200 (+108)\n",
      "🔧 Augmenting label 19: 44 → 200 (+156)\n",
      "🔧 Augmenting label 20: 14 → 200 (+186)\n",
      "🔧 Augmenting label 21: 35 → 200 (+165)\n",
      "🔧 Augmenting label 22: 76 → 200 (+124)\n",
      "🔧 Augmenting label 23: 157 → 200 (+43)\n",
      "🔧 Augmenting label 24: 13 → 200 (+187)\n",
      "🔧 Augmenting label 25: 44 → 200 (+156)\n",
      "🔧 Augmenting label 26: 84 → 200 (+116)\n",
      "🔧 Augmenting label 27: 48 → 200 (+152)\n",
      "🔧 Augmenting label 28: 11 → 200 (+189)\n",
      "🔧 Augmenting label 29: 13 → 200 (+187)\n",
      "🔧 Augmenting label 30: 11 → 200 (+189)\n",
      "🔧 Augmenting label 31: 76 → 200 (+124)\n",
      "🔧 Augmenting label 32: 36 → 200 (+164)\n",
      "🔧 Augmenting label 33: 31 → 200 (+169)\n",
      "🔧 Augmenting label 34: 30 → 200 (+170)\n",
      "🔧 Augmenting label 35: 11 → 200 (+189)\n",
      "🔧 Augmenting label 36: 21 → 200 (+179)\n",
      "🔧 Augmenting label 37: 16 → 200 (+184)\n",
      "🔧 Augmenting label 38: 32 → 200 (+168)\n",
      "🔧 Augmenting label 39: 11 → 200 (+189)\n",
      "🔧 Augmenting label 40: 9 → 200 (+191)\n",
      "🔧 Augmenting label 41: 57 → 200 (+143)\n",
      "🔧 Augmenting label 42: 18 → 200 (+182)\n",
      "🔧 Augmenting label 43: 9 → 200 (+191)\n",
      "🔧 Augmenting label 44: 55 → 200 (+145)\n",
      "🔧 Augmenting label 46: 62 → 200 (+138)\n",
      "🔧 Augmenting label 47: 80 → 200 (+120)\n",
      "Label distribution after resampling:\n",
      "  label 0: 2000\n",
      "  label 1: 200\n",
      "  label 2: 200\n",
      "  label 3: 200\n",
      "  label 4: 200\n",
      "  label 5: 200\n",
      "  label 6: 200\n",
      "  label 7: 200\n",
      "  label 8: 200\n",
      "  label 9: 200\n",
      "  label 10: 200\n",
      "  label 11: 200\n",
      "  label 12: 200\n",
      "  label 13: 200\n",
      "  label 14: 200\n",
      "  label 15: 200\n",
      "  label 16: 200\n",
      "  label 17: 200\n",
      "  label 18: 200\n",
      "  label 19: 200\n",
      "  label 20: 200\n",
      "  label 21: 200\n",
      "  label 22: 200\n",
      "  label 23: 200\n",
      "  label 24: 200\n",
      "  label 25: 200\n",
      "  label 26: 200\n",
      "  label 27: 200\n",
      "  label 28: 200\n",
      "  label 29: 200\n",
      "  label 30: 200\n",
      "  label 31: 200\n",
      "  label 32: 200\n",
      "  label 33: 200\n",
      "  label 34: 200\n",
      "  label 35: 200\n",
      "  label 36: 200\n",
      "  label 37: 200\n",
      "  label 38: 200\n",
      "  label 39: 200\n",
      "  label 40: 200\n",
      "  label 41: 200\n",
      "  label 42: 200\n",
      "  label 43: 200\n",
      "  label 44: 200\n",
      "  label 45: 241\n",
      "  label 46: 200\n",
      "  label 47: 200\n",
      "model is microsoft/deberta-base bilstm\n",
      "Using weighted CrossEntropyLoss with weights: tensor([1.7441, 4.0466, 4.0466, 4.0466, 4.0466, 4.0466, 4.0466, 4.0466, 4.0466,\n",
      "        4.0466, 4.0466, 4.0466, 4.0466, 4.0466, 4.0466, 4.0466, 4.0466, 4.0466,\n",
      "        4.0466, 4.0466, 4.0466, 4.0466, 4.0466, 4.0466, 4.0466, 4.0466, 4.0466,\n",
      "        4.0466, 4.0466, 4.0466, 4.0466, 4.0466, 4.0466, 4.0466, 4.0466, 4.0466,\n",
      "        4.0466, 4.0466, 4.0466, 4.0466, 4.0466, 4.0466, 4.0466, 4.0466, 4.0466,\n",
      "        3.8602, 4.0466, 4.0466], device='cuda:0')\n",
      "Epoch 1/20\n"
     ]
    },
    {
     "name": "stderr",
     "output_type": "stream",
     "text": [
      "100%|██████████| 716/716 [01:28<00:00,  8.08it/s]\n"
     ]
    },
    {
     "name": "stdout",
     "output_type": "stream",
     "text": [
      "{'val_loss': 2.804373226514677, 'val_accuracy': 0.4668192219679634, 'precision': 0.3371190302186933, 'recall': 0.4668192219679634, 'f1-score': 0.3750079844778945, 'macro_f1-score': 0.03162424817932308, 'balanced_accuracy': 0.05906708713259689, 'mcc': 0.23637232830338042, 'train_loss': 3.320027574147592}\n",
      "Epoch 2/20\n"
     ]
    },
    {
     "name": "stderr",
     "output_type": "stream",
     "text": [
      "100%|██████████| 716/716 [01:28<00:00,  8.07it/s]\n"
     ]
    },
    {
     "name": "stdout",
     "output_type": "stream",
     "text": [
      "{'val_loss': 3.3480778176610064, 'val_accuracy': 0.47139588100686497, 'precision': 0.2222140766302384, 'recall': 0.47139588100686497, 'f1-score': 0.302045261236125, 'macro_f1-score': 0.01334888543286677, 'balanced_accuracy': 0.020833333333333332, 'mcc': 0.0, 'train_loss': 3.6275052511492256}\n",
      "Epoch 3/20\n"
     ]
    },
    {
     "name": "stderr",
     "output_type": "stream",
     "text": [
      "100%|██████████| 716/716 [01:29<00:00,  8.00it/s]\n"
     ]
    },
    {
     "name": "stdout",
     "output_type": "stream",
     "text": [
      "{'val_loss': 3.3534768441828287, 'val_accuracy': 0.47139588100686497, 'precision': 0.2222140766302384, 'recall': 0.47139588100686497, 'f1-score': 0.302045261236125, 'macro_f1-score': 0.01334888543286677, 'balanced_accuracy': 0.020833333333333332, 'mcc': 0.0, 'train_loss': 3.648329889974115}\n",
      "Epoch 4/20\n"
     ]
    },
    {
     "name": "stderr",
     "output_type": "stream",
     "text": [
      "100%|██████████| 716/716 [01:28<00:00,  8.05it/s]\n"
     ]
    },
    {
     "name": "stdout",
     "output_type": "stream",
     "text": [
      "{'val_loss': 3.360760130533358, 'val_accuracy': 0.47139588100686497, 'precision': 0.2222140766302384, 'recall': 0.47139588100686497, 'f1-score': 0.302045261236125, 'macro_f1-score': 0.01334888543286677, 'balanced_accuracy': 0.020833333333333332, 'mcc': 0.0, 'train_loss': 3.6480498884976242}\n",
      "Early stopping.\n",
      "\n",
      "[Fold 4]\n",
      "🚀 Using T5-paraphraser for data augmentation + under-sampling\n",
      "🔻 Under-sampling label 0: 2471 → 2000\n",
      "🔧 Augmenting label 1: 22 → 200 (+178)\n",
      "🔧 Augmenting label 2: 64 → 200 (+136)\n",
      "🔧 Augmenting label 3: 24 → 200 (+176)\n",
      "🔧 Augmenting label 4: 190 → 200 (+10)\n",
      "🔧 Augmenting label 5: 113 → 200 (+87)\n",
      "🔧 Augmenting label 6: 93 → 200 (+107)\n",
      "🔧 Augmenting label 7: 31 → 200 (+169)\n",
      "🔧 Augmenting label 8: 68 → 200 (+132)\n",
      "🔧 Augmenting label 9: 29 → 200 (+171)\n",
      "🔧 Augmenting label 10: 67 → 200 (+133)\n",
      "🔧 Augmenting label 11: 169 → 200 (+31)\n",
      "🔧 Augmenting label 12: 190 → 200 (+10)\n",
      "🔧 Augmenting label 13: 29 → 200 (+171)\n",
      "🔧 Augmenting label 14: 22 → 200 (+178)\n",
      "🔧 Augmenting label 15: 25 → 200 (+175)\n",
      "🔧 Augmenting label 16: 19 → 200 (+181)\n",
      "🔧 Augmenting label 17: 182 → 200 (+18)\n",
      "🔧 Augmenting label 18: 92 → 200 (+108)\n",
      "🔧 Augmenting label 19: 44 → 200 (+156)\n",
      "🔧 Augmenting label 20: 14 → 200 (+186)\n",
      "🔧 Augmenting label 21: 35 → 200 (+165)\n",
      "🔧 Augmenting label 22: 76 → 200 (+124)\n",
      "🔧 Augmenting label 23: 158 → 200 (+42)\n",
      "🔧 Augmenting label 24: 13 → 200 (+187)\n",
      "🔧 Augmenting label 25: 44 → 200 (+156)\n",
      "🔧 Augmenting label 26: 84 → 200 (+116)\n",
      "🔧 Augmenting label 27: 48 → 200 (+152)\n",
      "🔧 Augmenting label 28: 11 → 200 (+189)\n",
      "🔧 Augmenting label 29: 13 → 200 (+187)\n",
      "🔧 Augmenting label 30: 11 → 200 (+189)\n",
      "🔧 Augmenting label 31: 75 → 200 (+125)\n",
      "🔧 Augmenting label 32: 36 → 200 (+164)\n",
      "🔧 Augmenting label 33: 31 → 200 (+169)\n",
      "🔧 Augmenting label 34: 30 → 200 (+170)\n",
      "🔧 Augmenting label 35: 11 → 200 (+189)\n",
      "🔧 Augmenting label 36: 22 → 200 (+178)\n",
      "🔧 Augmenting label 37: 16 → 200 (+184)\n",
      "🔧 Augmenting label 38: 33 → 200 (+167)\n",
      "🔧 Augmenting label 39: 10 → 200 (+190)\n",
      "🔧 Augmenting label 40: 9 → 200 (+191)\n",
      "🔧 Augmenting label 41: 56 → 200 (+144)\n",
      "🔧 Augmenting label 42: 18 → 200 (+182)\n",
      "🔧 Augmenting label 43: 9 → 200 (+191)\n",
      "🔧 Augmenting label 44: 55 → 200 (+145)\n",
      "🔧 Augmenting label 46: 62 → 200 (+138)\n",
      "🔧 Augmenting label 47: 80 → 200 (+120)\n",
      "Label distribution after resampling:\n",
      "  label 0: 2000\n",
      "  label 1: 200\n",
      "  label 2: 200\n",
      "  label 3: 200\n",
      "  label 4: 200\n",
      "  label 5: 200\n",
      "  label 6: 200\n",
      "  label 7: 200\n",
      "  label 8: 200\n",
      "  label 9: 200\n",
      "  label 10: 200\n",
      "  label 11: 200\n",
      "  label 12: 200\n",
      "  label 13: 200\n",
      "  label 14: 200\n",
      "  label 15: 200\n",
      "  label 16: 200\n",
      "  label 17: 200\n",
      "  label 18: 200\n",
      "  label 19: 200\n",
      "  label 20: 200\n",
      "  label 21: 200\n",
      "  label 22: 200\n",
      "  label 23: 200\n",
      "  label 24: 200\n",
      "  label 25: 200\n",
      "  label 26: 200\n",
      "  label 27: 200\n",
      "  label 28: 200\n",
      "  label 29: 200\n",
      "  label 30: 200\n",
      "  label 31: 200\n",
      "  label 32: 200\n",
      "  label 33: 200\n",
      "  label 34: 200\n",
      "  label 35: 200\n",
      "  label 36: 200\n",
      "  label 37: 200\n",
      "  label 38: 200\n",
      "  label 39: 200\n",
      "  label 40: 200\n",
      "  label 41: 200\n",
      "  label 42: 200\n",
      "  label 43: 200\n",
      "  label 44: 200\n",
      "  label 45: 241\n",
      "  label 46: 200\n",
      "  label 47: 200\n",
      "model is microsoft/deberta-base bilstm\n",
      "Using weighted CrossEntropyLoss with weights: tensor([1.7441, 4.0466, 4.0466, 4.0466, 4.0466, 4.0466, 4.0466, 4.0466, 4.0466,\n",
      "        4.0466, 4.0466, 4.0466, 4.0466, 4.0466, 4.0466, 4.0466, 4.0466, 4.0466,\n",
      "        4.0466, 4.0466, 4.0466, 4.0466, 4.0466, 4.0466, 4.0466, 4.0466, 4.0466,\n",
      "        4.0466, 4.0466, 4.0466, 4.0466, 4.0466, 4.0466, 4.0466, 4.0466, 4.0466,\n",
      "        4.0466, 4.0466, 4.0466, 4.0466, 4.0466, 4.0466, 4.0466, 4.0466, 4.0466,\n",
      "        3.8602, 4.0466, 4.0466], device='cuda:0')\n",
      "Epoch 1/20\n"
     ]
    },
    {
     "name": "stderr",
     "output_type": "stream",
     "text": [
      "100%|██████████| 716/716 [01:18<00:00,  9.13it/s]\n"
     ]
    },
    {
     "name": "stdout",
     "output_type": "stream",
     "text": [
      "{'val_loss': 2.9484116769418485, 'val_accuracy': 0.47368421052631576, 'precision': 0.3049386865742904, 'recall': 0.47368421052631576, 'f1-score': 0.3658580115081641, 'macro_f1-score': 0.033351460146904884, 'balanced_accuracy': 0.054952865605283875, 'mcc': 0.20708620767122757, 'train_loss': 3.340047236927395}\n",
      "Epoch 2/20\n"
     ]
    },
    {
     "name": "stderr",
     "output_type": "stream",
     "text": [
      "100%|██████████| 716/716 [01:18<00:00,  9.12it/s]\n"
     ]
    },
    {
     "name": "stdout",
     "output_type": "stream",
     "text": [
      "{'val_loss': 2.8805574687515816, 'val_accuracy': 0.4614797864225782, 'precision': 0.30535833776280275, 'recall': 0.4614797864225782, 'f1-score': 0.361894546346908, 'macro_f1-score': 0.032820743487051184, 'balanced_accuracy': 0.05772262885024352, 'mcc': 0.1989889195792537, 'train_loss': 3.1514573626678084}\n",
      "Epoch 3/20\n"
     ]
    },
    {
     "name": "stderr",
     "output_type": "stream",
     "text": [
      "100%|██████████| 716/716 [01:18<00:00,  9.11it/s]\n"
     ]
    },
    {
     "name": "stdout",
     "output_type": "stream",
     "text": [
      "{'val_loss': 2.793506648482346, 'val_accuracy': 0.4462242562929062, 'precision': 0.3343123525166221, 'recall': 0.4462242562929062, 'f1-score': 0.3782401152059639, 'macro_f1-score': 0.03923875563294404, 'balanced_accuracy': 0.06943268330310508, 'mcc': 0.22990272542942047, 'train_loss': 3.1467704040378166}\n",
      "Epoch 4/20\n"
     ]
    },
    {
     "name": "stderr",
     "output_type": "stream",
     "text": [
      "100%|██████████| 716/716 [01:18<00:00,  9.12it/s]\n"
     ]
    },
    {
     "name": "stdout",
     "output_type": "stream",
     "text": [
      "{'val_loss': 2.9181449049856605, 'val_accuracy': 0.47292143401983217, 'precision': 0.2999044909961945, 'recall': 0.47292143401983217, 'f1-score': 0.364879947372595, 'macro_f1-score': 0.03691849999663129, 'balanced_accuracy': 0.05765068770226537, 'mcc': 0.19936568875869495, 'train_loss': 3.078734336785098}\n",
      "Epoch 5/20\n"
     ]
    },
    {
     "name": "stderr",
     "output_type": "stream",
     "text": [
      "100%|██████████| 716/716 [01:18<00:00,  9.12it/s]\n"
     ]
    },
    {
     "name": "stdout",
     "output_type": "stream",
     "text": [
      "{'val_loss': 3.134672438226095, 'val_accuracy': 0.4668192219679634, 'precision': 0.3050266152302945, 'recall': 0.4668192219679634, 'f1-score': 0.36798471041177655, 'macro_f1-score': 0.03579489932604869, 'balanced_accuracy': 0.05085876901224475, 'mcc': 0.20221694238714005, 'train_loss': 3.1753906993892604}\n",
      "Epoch 6/20\n"
     ]
    },
    {
     "name": "stderr",
     "output_type": "stream",
     "text": [
      "100%|██████████| 716/716 [01:18<00:00,  9.10it/s]\n"
     ]
    },
    {
     "name": "stdout",
     "output_type": "stream",
     "text": [
      "{'val_loss': 2.850441375883614, 'val_accuracy': 0.4774980930587338, 'precision': 0.28262578887927253, 'recall': 0.4774980930587338, 'f1-score': 0.3544444211529063, 'macro_f1-score': 0.028312424914603156, 'balanced_accuracy': 0.04205541977832544, 'mcc': 0.18829088324986054, 'train_loss': 3.11709018742572}\n",
      "Early stopping.\n",
      "\n",
      "[Fold 5]\n",
      "🚀 Using T5-paraphraser for data augmentation + under-sampling\n",
      "🔻 Under-sampling label 0: 2472 → 2000\n",
      "🔧 Augmenting label 1: 21 → 200 (+179)\n",
      "🔧 Augmenting label 2: 64 → 200 (+136)\n",
      "🔧 Augmenting label 3: 24 → 200 (+176)\n",
      "🔧 Augmenting label 4: 191 → 200 (+9)\n",
      "🔧 Augmenting label 5: 112 → 200 (+88)\n",
      "🔧 Augmenting label 6: 92 → 200 (+108)\n",
      "🔧 Augmenting label 7: 31 → 200 (+169)\n",
      "🔧 Augmenting label 8: 68 → 200 (+132)\n",
      "🔧 Augmenting label 9: 29 → 200 (+171)\n",
      "🔧 Augmenting label 10: 68 → 200 (+132)\n",
      "🔧 Augmenting label 11: 168 → 200 (+32)\n",
      "🔧 Augmenting label 12: 190 → 200 (+10)\n",
      "🔧 Augmenting label 13: 29 → 200 (+171)\n",
      "🔧 Augmenting label 14: 22 → 200 (+178)\n",
      "🔧 Augmenting label 15: 25 → 200 (+175)\n",
      "🔧 Augmenting label 16: 19 → 200 (+181)\n",
      "🔧 Augmenting label 17: 183 → 200 (+17)\n",
      "🔧 Augmenting label 18: 92 → 200 (+108)\n",
      "🔧 Augmenting label 19: 44 → 200 (+156)\n",
      "🔧 Augmenting label 20: 14 → 200 (+186)\n",
      "🔧 Augmenting label 21: 35 → 200 (+165)\n",
      "🔧 Augmenting label 22: 76 → 200 (+124)\n",
      "🔧 Augmenting label 23: 158 → 200 (+42)\n",
      "🔧 Augmenting label 24: 13 → 200 (+187)\n",
      "🔧 Augmenting label 25: 44 → 200 (+156)\n",
      "🔧 Augmenting label 26: 84 → 200 (+116)\n",
      "🔧 Augmenting label 27: 48 → 200 (+152)\n",
      "🔧 Augmenting label 28: 11 → 200 (+189)\n",
      "🔧 Augmenting label 29: 13 → 200 (+187)\n",
      "🔧 Augmenting label 30: 11 → 200 (+189)\n",
      "🔧 Augmenting label 31: 75 → 200 (+125)\n",
      "🔧 Augmenting label 32: 36 → 200 (+164)\n",
      "🔧 Augmenting label 33: 31 → 200 (+169)\n",
      "🔧 Augmenting label 34: 30 → 200 (+170)\n",
      "🔧 Augmenting label 35: 11 → 200 (+189)\n",
      "🔧 Augmenting label 36: 22 → 200 (+178)\n",
      "🔧 Augmenting label 37: 16 → 200 (+184)\n",
      "🔧 Augmenting label 38: 33 → 200 (+167)\n",
      "🔧 Augmenting label 39: 10 → 200 (+190)\n",
      "🔧 Augmenting label 40: 9 → 200 (+191)\n",
      "🔧 Augmenting label 41: 57 → 200 (+143)\n",
      "🔧 Augmenting label 42: 18 → 200 (+182)\n",
      "🔧 Augmenting label 43: 9 → 200 (+191)\n",
      "🔧 Augmenting label 44: 54 → 200 (+146)\n",
      "🔧 Augmenting label 46: 61 → 200 (+139)\n",
      "🔧 Augmenting label 47: 80 → 200 (+120)\n",
      "Label distribution after resampling:\n",
      "  label 0: 2000\n",
      "  label 1: 200\n",
      "  label 2: 200\n",
      "  label 3: 200\n",
      "  label 4: 200\n",
      "  label 5: 200\n",
      "  label 6: 200\n",
      "  label 7: 200\n",
      "  label 8: 200\n",
      "  label 9: 200\n",
      "  label 10: 200\n",
      "  label 11: 200\n",
      "  label 12: 200\n",
      "  label 13: 200\n",
      "  label 14: 200\n",
      "  label 15: 200\n",
      "  label 16: 200\n",
      "  label 17: 200\n",
      "  label 18: 200\n",
      "  label 19: 200\n",
      "  label 20: 200\n",
      "  label 21: 200\n",
      "  label 22: 200\n",
      "  label 23: 200\n",
      "  label 24: 200\n",
      "  label 25: 200\n",
      "  label 26: 200\n",
      "  label 27: 200\n",
      "  label 28: 200\n",
      "  label 29: 200\n",
      "  label 30: 200\n",
      "  label 31: 200\n",
      "  label 32: 200\n",
      "  label 33: 200\n",
      "  label 34: 200\n",
      "  label 35: 200\n",
      "  label 36: 200\n",
      "  label 37: 200\n",
      "  label 38: 200\n",
      "  label 39: 200\n",
      "  label 40: 200\n",
      "  label 41: 200\n",
      "  label 42: 200\n",
      "  label 43: 200\n",
      "  label 44: 200\n",
      "  label 45: 242\n",
      "  label 46: 200\n",
      "  label 47: 200\n",
      "model is microsoft/deberta-base bilstm\n",
      "Using weighted CrossEntropyLoss with weights: tensor([1.7441, 4.0467, 4.0467, 4.0467, 4.0467, 4.0467, 4.0467, 4.0467, 4.0467,\n",
      "        4.0467, 4.0467, 4.0467, 4.0467, 4.0467, 4.0467, 4.0467, 4.0467, 4.0467,\n",
      "        4.0467, 4.0467, 4.0467, 4.0467, 4.0467, 4.0467, 4.0467, 4.0467, 4.0467,\n",
      "        4.0467, 4.0467, 4.0467, 4.0467, 4.0467, 4.0467, 4.0467, 4.0467, 4.0467,\n",
      "        4.0467, 4.0467, 4.0467, 4.0467, 4.0467, 4.0467, 4.0467, 4.0467, 4.0467,\n",
      "        3.8561, 4.0467, 4.0467], device='cuda:0')\n",
      "Epoch 1/20\n"
     ]
    },
    {
     "name": "stderr",
     "output_type": "stream",
     "text": [
      "100%|██████████| 716/716 [01:18<00:00,  9.18it/s]\n"
     ]
    },
    {
     "name": "stdout",
     "output_type": "stream",
     "text": [
      "{'val_loss': 3.1517645731204893, 'val_accuracy': 0.47063310450038137, 'precision': 0.2511469101727304, 'recall': 0.47063310450038137, 'f1-score': 0.3250566853455584, 'macro_f1-score': 0.02135825781722872, 'balanced_accuracy': 0.03102260521982969, 'mcc': 0.12570331012963676, 'train_loss': 3.443324146657017}\n",
      "Epoch 2/20\n"
     ]
    },
    {
     "name": "stderr",
     "output_type": "stream",
     "text": [
      "100%|██████████| 716/716 [01:18<00:00,  9.10it/s]\n"
     ]
    },
    {
     "name": "stdout",
     "output_type": "stream",
     "text": [
      "{'val_loss': 3.3287754931100983, 'val_accuracy': 0.47063310450038137, 'precision': 0.2214955190516669, 'recall': 0.47063310450038137, 'f1-score': 0.3012247152248292, 'macro_f1-score': 0.013334197786998616, 'balanced_accuracy': 0.020833333333333332, 'mcc': 0.0, 'train_loss': 3.3657179318326813}\n",
      "Epoch 3/20\n"
     ]
    },
    {
     "name": "stderr",
     "output_type": "stream",
     "text": [
      "100%|██████████| 716/716 [01:18<00:00,  9.12it/s]\n"
     ]
    },
    {
     "name": "stdout",
     "output_type": "stream",
     "text": [
      "{'val_loss': 3.3454624123689607, 'val_accuracy': 0.47063310450038137, 'precision': 0.2214955190516669, 'recall': 0.47063310450038137, 'f1-score': 0.3012247152248292, 'macro_f1-score': 0.013334197786998616, 'balanced_accuracy': 0.020833333333333332, 'mcc': 0.0, 'train_loss': 3.523233896860197}\n",
      "Epoch 4/20\n"
     ]
    },
    {
     "name": "stderr",
     "output_type": "stream",
     "text": [
      "100%|██████████| 716/716 [01:18<00:00,  9.14it/s]\n"
     ]
    },
    {
     "name": "stdout",
     "output_type": "stream",
     "text": [
      "{'val_loss': 3.3625022231078727, 'val_accuracy': 0.47063310450038137, 'precision': 0.2214955190516669, 'recall': 0.47063310450038137, 'f1-score': 0.3012247152248292, 'macro_f1-score': 0.013334197786998616, 'balanced_accuracy': 0.020833333333333332, 'mcc': 0.0, 'train_loss': 3.556182968549888}\n",
      "Early stopping.\n",
      "\n",
      " === microsoft/deberta-base + bilstm + t5 Final 5-fold Cross-Validation Results ===\n",
      "val_loss: 3.0558\n",
      "val_accuracy: 0.4661\n",
      "precision: 0.2777\n",
      "recall: 0.4661\n",
      "f1-score: 0.3398\n",
      "macro_f1-score: 0.0250\n",
      "balanced_accuracy: 0.0411\n",
      "mcc: 0.1456\n",
      "train_loss: 3.4015\n",
      "total_seconds: 10847.0000\n",
      "total_time: 3 hrs 0 mins 47 secs\n"
     ]
    }
   ],
   "source": [
    "model_list = [\"bert-base-uncased\", \"roberta-base\", \"microsoft/deberta-base\"]\n",
    "hybrid_list = [None, \"cnn\", \"lstm\", \"bilstm\"]\n",
    "resample_list = [\"t5\"]\n",
    "\n",
    "all_experiment_result = {}\n",
    "\n",
    "for model_name in model_list:\n",
    "    for hybrid_type in hybrid_list:\n",
    "        for resample_method in resample_list:\n",
    "            results = run_kfold_experiment(\n",
    "                X=messages, y=labels, model_name=model_name, hybrid_type=hybrid_type, resample_method=resample_method,\n",
    "                kfold=KFOLD_SPLIT, seed=SEED, epochs=EPOCHS, patience=PATIENCE, max_length=MAX_LENGTH, \n",
    "                batch_size=BATCH_SIZE, lr=LR, weight_decay=WEIGHT_DECAY, upper_cap=UPPER_CAP, lower_cap=LOWER_CAP, use_weighted_loss= USE_WEIGHTED_LOSS\n",
    "            )\n",
    "\n",
    "            key = f\"{model_name} {hybrid_type if hybrid_type else 'None'} {resample_method}\"\n",
    "            all_experiment_result[key] = results"
   ]
  },
  {
   "cell_type": "code",
   "execution_count": null,
   "id": "d799ebb4-be3b-4b29-9238-6c2a2f8256ae",
   "metadata": {},
   "outputs": [],
   "source": [
    "all_experiment_result"
   ]
  }
 ],
 "metadata": {
  "kernelspec": {
   "display_name": "Python 3",
   "language": "python",
   "name": "python3"
  },
  "language_info": {
   "codemirror_mode": {
    "name": "ipython",
    "version": 3
   },
   "file_extension": ".py",
   "mimetype": "text/x-python",
   "name": "python",
   "nbconvert_exporter": "python",
   "pygments_lexer": "ipython3",
   "version": "3.10.0"
  }
 },
 "nbformat": 4,
 "nbformat_minor": 5
}
