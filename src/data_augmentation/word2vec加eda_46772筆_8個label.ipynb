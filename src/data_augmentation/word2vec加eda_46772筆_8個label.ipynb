{
 "cells": [
  {
   "cell_type": "code",
   "execution_count": 1,
   "id": "f22f4841-9a9d-4a63-b896-560594d666d8",
   "metadata": {},
   "outputs": [
    {
     "data": {
      "text/html": [
       "<div>\n",
       "<style scoped>\n",
       "    .dataframe tbody tr th:only-of-type {\n",
       "        vertical-align: middle;\n",
       "    }\n",
       "\n",
       "    .dataframe tbody tr th {\n",
       "        vertical-align: top;\n",
       "    }\n",
       "\n",
       "    .dataframe thead th {\n",
       "        text-align: right;\n",
       "    }\n",
       "</style>\n",
       "<table border=\"1\" class=\"dataframe\">\n",
       "  <thead>\n",
       "    <tr style=\"text-align: right;\">\n",
       "      <th></th>\n",
       "      <th>Inbound Message</th>\n",
       "      <th>Label</th>\n",
       "    </tr>\n",
       "  </thead>\n",
       "  <tbody>\n",
       "    <tr>\n",
       "      <th>0</th>\n",
       "      <td>connection icon icon dear please setup icon pe...</td>\n",
       "      <td>3</td>\n",
       "    </tr>\n",
       "    <tr>\n",
       "      <th>1</th>\n",
       "      <td>work experience user work experience user work...</td>\n",
       "      <td>0</td>\n",
       "    </tr>\n",
       "    <tr>\n",
       "      <th>2</th>\n",
       "      <td>requesting meeting requesting meeting please h...</td>\n",
       "      <td>3</td>\n",
       "    </tr>\n",
       "    <tr>\n",
       "      <th>3</th>\n",
       "      <td>reset passwords external accounts expire days ...</td>\n",
       "      <td>0</td>\n",
       "    </tr>\n",
       "    <tr>\n",
       "      <th>4</th>\n",
       "      <td>mail verification warning got attached please ...</td>\n",
       "      <td>5</td>\n",
       "    </tr>\n",
       "    <tr>\n",
       "      <th>...</th>\n",
       "      <td>...</td>\n",
       "      <td>...</td>\n",
       "    </tr>\n",
       "    <tr>\n",
       "      <th>46767</th>\n",
       "      <td>git space project issues adding users sent git...</td>\n",
       "      <td>0</td>\n",
       "    </tr>\n",
       "    <tr>\n",
       "      <th>46768</th>\n",
       "      <td>error sent error guys help error appearing wan...</td>\n",
       "      <td>5</td>\n",
       "    </tr>\n",
       "    <tr>\n",
       "      <th>46769</th>\n",
       "      <td>connection issues sent connection issues hello...</td>\n",
       "      <td>3</td>\n",
       "    </tr>\n",
       "    <tr>\n",
       "      <th>46770</th>\n",
       "      <td>error cube reports sent error hello guys recei...</td>\n",
       "      <td>2</td>\n",
       "    </tr>\n",
       "    <tr>\n",
       "      <th>46771</th>\n",
       "      <td>running extensions hello please advised runnin...</td>\n",
       "      <td>3</td>\n",
       "    </tr>\n",
       "  </tbody>\n",
       "</table>\n",
       "<p>46772 rows × 2 columns</p>\n",
       "</div>"
      ],
      "text/plain": [
       "                                         Inbound Message  Label\n",
       "0      connection icon icon dear please setup icon pe...      3\n",
       "1      work experience user work experience user work...      0\n",
       "2      requesting meeting requesting meeting please h...      3\n",
       "3      reset passwords external accounts expire days ...      0\n",
       "4      mail verification warning got attached please ...      5\n",
       "...                                                  ...    ...\n",
       "46767  git space project issues adding users sent git...      0\n",
       "46768  error sent error guys help error appearing wan...      5\n",
       "46769  connection issues sent connection issues hello...      3\n",
       "46770  error cube reports sent error hello guys recei...      2\n",
       "46771  running extensions hello please advised runnin...      3\n",
       "\n",
       "[46772 rows x 2 columns]"
      ]
     },
     "execution_count": 1,
     "metadata": {},
     "output_type": "execute_result"
    }
   ],
   "source": [
    "import pandas as pd\n",
    "data_path = \"../../data/46772_8_label.csv\"\n",
    "df = pd.read_csv(data_path)\n",
    "# df_label_0 = df[df[\"Label\"] == 0]\n",
    "# df_label_0_to_drop = df_label_0.sample(n=3000, random_state=42)\n",
    "# df = df.drop(df_label_0_to_drop.index)\n",
    "df"
   ]
  },
  {
   "cell_type": "code",
   "execution_count": 2,
   "id": "bf737873-4f1c-4588-913d-8f06b2777b20",
   "metadata": {},
   "outputs": [
    {
     "name": "stderr",
     "output_type": "stream",
     "text": [
      "c:\\Users\\user\\AppData\\Local\\Programs\\Python\\Python310\\lib\\site-packages\\tqdm\\auto.py:21: TqdmWarning: IProgress not found. Please update jupyter and ipywidgets. See https://ipywidgets.readthedocs.io/en/stable/user_install.html\n",
      "  from .autonotebook import tqdm as notebook_tqdm\n"
     ]
    }
   ],
   "source": [
    "import sys\n",
    "import os\n",
    "sys.path.append(os.path.abspath('../ml_lib'))\n",
    "\n",
    "from config import *\n",
    "from experiment import run_kfold_experiment"
   ]
  },
  {
   "cell_type": "code",
   "execution_count": 3,
   "id": "a12b2613-aa9d-41c0-8f62-72210eaf8d7f",
   "metadata": {},
   "outputs": [],
   "source": [
    "messages, labels = df['Inbound Message'].tolist(), df['Label'].tolist()"
   ]
  },
  {
   "cell_type": "code",
   "execution_count": 4,
   "id": "38d4729f-f867-4cea-89f9-31f67e5ecced",
   "metadata": {},
   "outputs": [
    {
     "name": "stdout",
     "output_type": "stream",
     "text": [
      "▶ Running: bert-base-uncased + plain + word2vec_eda\n",
      "tokenizer is bert-base-uncased\n",
      "Using device: cuda\n",
      "CUDA Available: True\n",
      "CUDA Device: NVIDIA GeForce RTX 5070 Ti\n",
      "Current GPU Memory Allocated: 0.00 GB\n",
      "Current GPU Memory Cached: 0.00 GB\n",
      "\n",
      "[Fold 1]\n",
      "🚀 Using Word2Vec + EDA (replace + deletion/swap) for data augmentation + under-sampling\n",
      "🔧 Augmenting label 1: 1399 → 5000 (+3601)\n",
      "🔧 Augmenting label 4: 1678 → 5000 (+3322)\n",
      "🔧 Augmenting label 6: 1737 → 5000 (+3263)\n",
      "🔧 Augmenting label 7: 2187 → 5000 (+2813)\n",
      "Label distribution after resampling:\n",
      "  label 0: 5626\n",
      "  label 1: 5000\n",
      "  label 2: 8442\n",
      "  label 3: 10770\n",
      "  label 4: 5000\n",
      "  label 5: 5578\n",
      "  label 6: 5000\n",
      "  label 7: 5000\n",
      "model is bert-base-uncased\n"
     ]
    },
    {
     "name": "stderr",
     "output_type": "stream",
     "text": [
      "Some weights of BertForSequenceClassification were not initialized from the model checkpoint at bert-base-uncased and are newly initialized: ['classifier.bias', 'classifier.weight']\n",
      "You should probably TRAIN this model on a down-stream task to be able to use it for predictions and inference.\n"
     ]
    },
    {
     "name": "stdout",
     "output_type": "stream",
     "text": [
      "Epoch 1/20\n"
     ]
    },
    {
     "name": "stderr",
     "output_type": "stream",
     "text": [
      "100%|██████████| 3151/3151 [04:24<00:00, 11.93it/s]\n"
     ]
    },
    {
     "name": "stdout",
     "output_type": "stream",
     "text": [
      "{'val_loss': 0.4718910648686509, 'val_accuracy': 0.8425440940673437, 'precision': 0.8534883910715193, 'recall': 0.8425440940673437, 'f1-score': 0.8435119431370015, 'macro_f1-score': 0.8323906491036803, 'balanced_accuracy': 0.87536037420026, 'mcc': 0.809896821537675, 'train_loss': 0.539943528435214}\n",
      "Epoch 2/20\n"
     ]
    },
    {
     "name": "stderr",
     "output_type": "stream",
     "text": [
      "100%|██████████| 3151/3151 [04:24<00:00, 11.92it/s]\n"
     ]
    },
    {
     "name": "stdout",
     "output_type": "stream",
     "text": [
      "{'val_loss': 0.4178374855619911, 'val_accuracy': 0.8677712453233565, 'precision': 0.8691957051902658, 'recall': 0.8677712453233565, 'f1-score': 0.8681341325518975, 'macro_f1-score': 0.8635051074541431, 'balanced_accuracy': 0.865142408180773, 'mcc': 0.8372404386328274, 'train_loss': 0.3005506572157253}\n",
      "Epoch 3/20\n"
     ]
    },
    {
     "name": "stderr",
     "output_type": "stream",
     "text": [
      "100%|██████████| 3151/3151 [04:24<00:00, 11.93it/s]\n"
     ]
    },
    {
     "name": "stdout",
     "output_type": "stream",
     "text": [
      "{'val_loss': 0.45297238488132374, 'val_accuracy': 0.8637092463923036, 'precision': 0.8660398745794103, 'recall': 0.8637092463923036, 'f1-score': 0.8640924232063213, 'macro_f1-score': 0.8578599407364051, 'balanced_accuracy': 0.8768801841418224, 'mcc': 0.8333964509784575, 'train_loss': 0.19679473806941075}\n",
      "Epoch 4/20\n"
     ]
    },
    {
     "name": "stderr",
     "output_type": "stream",
     "text": [
      "100%|██████████| 3151/3151 [04:24<00:00, 11.93it/s]\n"
     ]
    },
    {
     "name": "stdout",
     "output_type": "stream",
     "text": [
      "{'val_loss': 0.4691328002625487, 'val_accuracy': 0.8680919294494922, 'precision': 0.8701069672438175, 'recall': 0.8680919294494922, 'f1-score': 0.867852036787656, 'macro_f1-score': 0.8661366780794242, 'balanced_accuracy': 0.8496854398918815, 'mcc': 0.837146364693991, 'train_loss': 0.13561162190068182}\n",
      "Epoch 5/20\n"
     ]
    },
    {
     "name": "stderr",
     "output_type": "stream",
     "text": [
      "100%|██████████| 3151/3151 [04:24<00:00, 11.92it/s]\n"
     ]
    },
    {
     "name": "stdout",
     "output_type": "stream",
     "text": [
      "{'val_loss': 0.507594836752018, 'val_accuracy': 0.8623196151790486, 'precision': 0.8655174755601012, 'recall': 0.8623196151790486, 'f1-score': 0.8630233794200298, 'macro_f1-score': 0.8619097654256043, 'balanced_accuracy': 0.8548286339712784, 'mcc': 0.8305120798557822, 'train_loss': 0.09533306500030699}\n",
      "Epoch 6/20\n"
     ]
    },
    {
     "name": "stderr",
     "output_type": "stream",
     "text": [
      "100%|██████████| 3151/3151 [04:24<00:00, 11.92it/s]\n"
     ]
    },
    {
     "name": "stdout",
     "output_type": "stream",
     "text": [
      "{'val_loss': 0.544899175531812, 'val_accuracy': 0.8656333511491181, 'precision': 0.8672006653715633, 'recall': 0.8656333511491181, 'f1-score': 0.865768213432067, 'macro_f1-score': 0.8643632923178476, 'balanced_accuracy': 0.8579264482990931, 'mcc': 0.83425159131345, 'train_loss': 0.07801871034962157}\n",
      "Epoch 7/20\n"
     ]
    },
    {
     "name": "stderr",
     "output_type": "stream",
     "text": [
      "100%|██████████| 3151/3151 [04:24<00:00, 11.92it/s]\n"
     ]
    },
    {
     "name": "stdout",
     "output_type": "stream",
     "text": [
      "{'val_loss': 0.588617407090158, 'val_accuracy': 0.8640299305184393, 'precision': 0.865381820830493, 'recall': 0.8640299305184393, 'f1-score': 0.864060671059358, 'macro_f1-score': 0.860765445383163, 'balanced_accuracy': 0.8571215590226351, 'mcc': 0.8324955318315919, 'train_loss': 0.0660262800676935}\n",
      "Early stopping.\n",
      "\n",
      "[Fold 2]\n",
      "🚀 Using Word2Vec + EDA (replace + deletion/swap) for data augmentation + under-sampling\n",
      "🔧 Augmenting label 1: 1400 → 5000 (+3600)\n",
      "🔧 Augmenting label 4: 1678 → 5000 (+3322)\n",
      "🔧 Augmenting label 6: 1737 → 5000 (+3263)\n",
      "🔧 Augmenting label 7: 2186 → 5000 (+2814)\n",
      "Label distribution after resampling:\n",
      "  label 0: 5626\n",
      "  label 1: 5000\n",
      "  label 2: 8442\n",
      "  label 3: 10770\n",
      "  label 4: 5000\n",
      "  label 5: 5578\n",
      "  label 6: 5000\n",
      "  label 7: 5000\n",
      "model is bert-base-uncased\n"
     ]
    },
    {
     "name": "stderr",
     "output_type": "stream",
     "text": [
      "Some weights of BertForSequenceClassification were not initialized from the model checkpoint at bert-base-uncased and are newly initialized: ['classifier.bias', 'classifier.weight']\n",
      "You should probably TRAIN this model on a down-stream task to be able to use it for predictions and inference.\n"
     ]
    },
    {
     "name": "stdout",
     "output_type": "stream",
     "text": [
      "Epoch 1/20\n"
     ]
    },
    {
     "name": "stderr",
     "output_type": "stream",
     "text": [
      "100%|██████████| 3151/3151 [04:24<00:00, 11.92it/s]\n"
     ]
    },
    {
     "name": "stdout",
     "output_type": "stream",
     "text": [
      "{'val_loss': 0.48231325290906124, 'val_accuracy': 0.8344200962052378, 'precision': 0.8423962637838276, 'recall': 0.8344200962052378, 'f1-score': 0.8353636972268211, 'macro_f1-score': 0.8320950787051138, 'balanced_accuracy': 0.8511044426638759, 'mcc': 0.7990640123080074, 'train_loss': 0.5335612249620063}\n",
      "Epoch 2/20\n"
     ]
    },
    {
     "name": "stderr",
     "output_type": "stream",
     "text": [
      "100%|██████████| 3151/3151 [04:24<00:00, 11.92it/s]\n"
     ]
    },
    {
     "name": "stdout",
     "output_type": "stream",
     "text": [
      "{'val_loss': 0.43688333213456676, 'val_accuracy': 0.851309460181721, 'precision': 0.8518024368219044, 'recall': 0.851309460181721, 'f1-score': 0.8511504069667395, 'macro_f1-score': 0.8506367478309268, 'balanced_accuracy': 0.8592141403873047, 'mcc': 0.8177259062946057, 'train_loss': 0.29488820704799684}\n",
      "Epoch 3/20\n"
     ]
    },
    {
     "name": "stderr",
     "output_type": "stream",
     "text": [
      "100%|██████████| 3151/3151 [04:24<00:00, 11.92it/s]\n"
     ]
    },
    {
     "name": "stdout",
     "output_type": "stream",
     "text": [
      "{'val_loss': 0.49722357140137596, 'val_accuracy': 0.8479957242116515, 'precision': 0.8557503490180374, 'recall': 0.8479957242116515, 'f1-score': 0.8482634515849611, 'macro_f1-score': 0.8489877664519376, 'balanced_accuracy': 0.8354613987783616, 'mcc': 0.8133526270236259, 'train_loss': 0.19315528471090232}\n",
      "Epoch 4/20\n"
     ]
    },
    {
     "name": "stderr",
     "output_type": "stream",
     "text": [
      "100%|██████████| 3151/3151 [04:24<00:00, 11.92it/s]\n"
     ]
    },
    {
     "name": "stdout",
     "output_type": "stream",
     "text": [
      "{'val_loss': 0.6027328099510194, 'val_accuracy': 0.8437199358631747, 'precision': 0.8475980410364417, 'recall': 0.8437199358631747, 'f1-score': 0.8438467029447493, 'macro_f1-score': 0.8433244369006075, 'balanced_accuracy': 0.8365147421357277, 'mcc': 0.8074178708855624, 'train_loss': 0.1335818369603757}\n",
      "Epoch 5/20\n"
     ]
    },
    {
     "name": "stderr",
     "output_type": "stream",
     "text": [
      "100%|██████████| 3151/3151 [04:24<00:00, 11.92it/s]\n"
     ]
    },
    {
     "name": "stdout",
     "output_type": "stream",
     "text": [
      "{'val_loss': 0.5622006085414726, 'val_accuracy': 0.8483164083377873, 'precision': 0.8495181781913774, 'recall': 0.8483164083377873, 'f1-score': 0.8484061829193221, 'macro_f1-score': 0.8461998731461053, 'balanced_accuracy': 0.8497153761875459, 'mcc': 0.813798161769308, 'train_loss': 0.09981104674353317}\n",
      "Early stopping.\n",
      "\n",
      "[Fold 3]\n",
      "🚀 Using Word2Vec + EDA (replace + deletion/swap) for data augmentation + under-sampling\n",
      "🔧 Augmenting label 1: 1399 → 5000 (+3601)\n",
      "🔧 Augmenting label 4: 1679 → 5000 (+3321)\n",
      "🔧 Augmenting label 6: 1738 → 5000 (+3262)\n",
      "🔧 Augmenting label 7: 2186 → 5000 (+2814)\n",
      "Label distribution after resampling:\n",
      "  label 0: 5626\n",
      "  label 1: 5000\n",
      "  label 2: 8442\n",
      "  label 3: 10770\n",
      "  label 4: 5000\n",
      "  label 5: 5578\n",
      "  label 6: 5000\n",
      "  label 7: 5000\n",
      "model is bert-base-uncased\n"
     ]
    },
    {
     "name": "stderr",
     "output_type": "stream",
     "text": [
      "Some weights of BertForSequenceClassification were not initialized from the model checkpoint at bert-base-uncased and are newly initialized: ['classifier.bias', 'classifier.weight']\n",
      "You should probably TRAIN this model on a down-stream task to be able to use it for predictions and inference.\n"
     ]
    },
    {
     "name": "stdout",
     "output_type": "stream",
     "text": [
      "Epoch 1/20\n"
     ]
    },
    {
     "name": "stderr",
     "output_type": "stream",
     "text": [
      "100%|██████████| 3151/3151 [04:24<00:00, 11.92it/s]\n"
     ]
    },
    {
     "name": "stdout",
     "output_type": "stream",
     "text": [
      "{'val_loss': 0.4193547104795774, 'val_accuracy': 0.8577079324353218, 'precision': 0.860173710127812, 'recall': 0.8577079324353218, 'f1-score': 0.858083548922145, 'macro_f1-score': 0.8531701377313746, 'balanced_accuracy': 0.8453260109858987, 'mcc': 0.824460440787771, 'train_loss': 0.551945269635105}\n",
      "Epoch 2/20\n"
     ]
    },
    {
     "name": "stderr",
     "output_type": "stream",
     "text": [
      "100%|██████████| 3151/3151 [04:24<00:00, 11.92it/s]\n"
     ]
    },
    {
     "name": "stdout",
     "output_type": "stream",
     "text": [
      "{'val_loss': 0.45821782531391864, 'val_accuracy': 0.8518280949326491, 'precision': 0.8621269637955827, 'recall': 0.8518280949326491, 'f1-score': 0.8541208850511961, 'macro_f1-score': 0.8408228535667883, 'balanced_accuracy': 0.8613752875309642, 'mcc': 0.8188357342733197, 'train_loss': 0.2932296483839532}\n",
      "Epoch 3/20\n"
     ]
    },
    {
     "name": "stderr",
     "output_type": "stream",
     "text": [
      "100%|██████████| 3151/3151 [04:24<00:00, 11.92it/s]\n"
     ]
    },
    {
     "name": "stdout",
     "output_type": "stream",
     "text": [
      "{'val_loss': 0.4868371873910929, 'val_accuracy': 0.8538593115244815, 'precision': 0.856135701165733, 'recall': 0.8538593115244815, 'f1-score': 0.8534451362853542, 'macro_f1-score': 0.8502016508775471, 'balanced_accuracy': 0.8545605301652088, 'mcc': 0.8207038588044949, 'train_loss': 0.20619730694279764}\n",
      "Epoch 4/20\n"
     ]
    },
    {
     "name": "stderr",
     "output_type": "stream",
     "text": [
      "100%|██████████| 3151/3151 [04:24<00:00, 11.92it/s]\n"
     ]
    },
    {
     "name": "stdout",
     "output_type": "stream",
     "text": [
      "{'val_loss': 0.48160571383360107, 'val_accuracy': 0.8594184306179175, 'precision': 0.8626150857901416, 'recall': 0.8594184306179175, 'f1-score': 0.8598614126323085, 'macro_f1-score': 0.8560553481631352, 'balanced_accuracy': 0.8564524527237019, 'mcc': 0.827708652752432, 'train_loss': 0.14313038853020768}\n",
      "Epoch 5/20\n"
     ]
    },
    {
     "name": "stderr",
     "output_type": "stream",
     "text": [
      "100%|██████████| 3151/3151 [04:24<00:00, 11.92it/s]\n"
     ]
    },
    {
     "name": "stdout",
     "output_type": "stream",
     "text": [
      "{'val_loss': 0.5042791044220137, 'val_accuracy': 0.8609151165276887, 'precision': 0.8628031941521248, 'recall': 0.8609151165276887, 'f1-score': 0.8613149920304995, 'macro_f1-score': 0.85757474902683, 'balanced_accuracy': 0.8571739374756093, 'mcc': 0.8289782182571958, 'train_loss': 0.10990128058405053}\n",
      "Epoch 6/20\n"
     ]
    },
    {
     "name": "stderr",
     "output_type": "stream",
     "text": [
      "100%|██████████| 3151/3151 [04:24<00:00, 11.92it/s]\n"
     ]
    },
    {
     "name": "stdout",
     "output_type": "stream",
     "text": [
      "{'val_loss': 0.5090208865893193, 'val_accuracy': 0.8636946760744066, 'precision': 0.8647286609284441, 'recall': 0.8636946760744066, 'f1-score': 0.8634872479804674, 'macro_f1-score': 0.8612094086534232, 'balanced_accuracy': 0.8682708603893907, 'mcc': 0.8331193893893631, 'train_loss': 0.08239469651287033}\n",
      "Epoch 7/20\n"
     ]
    },
    {
     "name": "stderr",
     "output_type": "stream",
     "text": [
      "100%|██████████| 3151/3151 [04:24<00:00, 11.92it/s]\n"
     ]
    },
    {
     "name": "stdout",
     "output_type": "stream",
     "text": [
      "{'val_loss': 0.6567436369338956, 'val_accuracy': 0.859204618345093, 'precision': 0.86012786825455, 'recall': 0.859204618345093, 'f1-score': 0.8590201373893172, 'macro_f1-score': 0.8554628981073402, 'balanced_accuracy': 0.8628552470819153, 'mcc': 0.8270848511471445, 'train_loss': 0.07253739380576066}\n",
      "Epoch 8/20\n"
     ]
    },
    {
     "name": "stderr",
     "output_type": "stream",
     "text": [
      "100%|██████████| 3151/3151 [04:24<00:00, 11.92it/s]\n"
     ]
    },
    {
     "name": "stdout",
     "output_type": "stream",
     "text": [
      "{'val_loss': 0.6288944342115926, 'val_accuracy': 0.8555698097070772, 'precision': 0.857115601310486, 'recall': 0.8555698097070772, 'f1-score': 0.8556559385903875, 'macro_f1-score': 0.8494603508459326, 'balanced_accuracy': 0.8668974955410683, 'mcc': 0.8234759775482781, 'train_loss': 0.05900717540555625}\n",
      "Epoch 9/20\n"
     ]
    },
    {
     "name": "stderr",
     "output_type": "stream",
     "text": [
      "100%|██████████| 3151/3151 [04:24<00:00, 11.92it/s]\n"
     ]
    },
    {
     "name": "stdout",
     "output_type": "stream",
     "text": [
      "{'val_loss': 0.7246695135188743, 'val_accuracy': 0.856852683344024, 'precision': 0.8613819386365998, 'recall': 0.856852683344024, 'f1-score': 0.8576244061557622, 'macro_f1-score': 0.8536147155594471, 'balanced_accuracy': 0.8505578647880577, 'mcc': 0.8241867458079846, 'train_loss': 0.05882871112044663}\n",
      "Early stopping.\n",
      "\n",
      "[Fold 4]\n",
      "🚀 Using Word2Vec + EDA (replace + deletion/swap) for data augmentation + under-sampling\n",
      "🔧 Augmenting label 1: 1399 → 5000 (+3601)\n",
      "🔧 Augmenting label 4: 1679 → 5000 (+3321)\n",
      "🔧 Augmenting label 6: 1738 → 5000 (+3262)\n",
      "🔧 Augmenting label 7: 2186 → 5000 (+2814)\n",
      "Label distribution after resampling:\n",
      "  label 0: 5625\n",
      "  label 1: 5000\n",
      "  label 2: 8441\n",
      "  label 3: 10771\n",
      "  label 4: 5000\n",
      "  label 5: 5579\n",
      "  label 6: 5000\n",
      "  label 7: 5000\n",
      "model is bert-base-uncased\n"
     ]
    },
    {
     "name": "stderr",
     "output_type": "stream",
     "text": [
      "Some weights of BertForSequenceClassification were not initialized from the model checkpoint at bert-base-uncased and are newly initialized: ['classifier.bias', 'classifier.weight']\n",
      "You should probably TRAIN this model on a down-stream task to be able to use it for predictions and inference.\n"
     ]
    },
    {
     "name": "stdout",
     "output_type": "stream",
     "text": [
      "Epoch 1/20\n"
     ]
    },
    {
     "name": "stderr",
     "output_type": "stream",
     "text": [
      "100%|██████████| 3151/3151 [04:24<00:00, 11.92it/s]\n"
     ]
    },
    {
     "name": "stdout",
     "output_type": "stream",
     "text": [
      "{'val_loss': 0.43270494918792674, 'val_accuracy': 0.8459482574299765, 'precision': 0.8495138548423993, 'recall': 0.8459482574299765, 'f1-score': 0.8455532795941642, 'macro_f1-score': 0.8489400036961282, 'balanced_accuracy': 0.8646794850354493, 'mcc': 0.8129602449304875, 'train_loss': 0.5600906967119527}\n",
      "Epoch 2/20\n"
     ]
    },
    {
     "name": "stderr",
     "output_type": "stream",
     "text": [
      "100%|██████████| 3151/3151 [04:24<00:00, 11.92it/s]\n"
     ]
    },
    {
     "name": "stdout",
     "output_type": "stream",
     "text": [
      "{'val_loss': 0.4499527180742504, 'val_accuracy': 0.8441308531109686, 'precision': 0.8507430876702645, 'recall': 0.8441308531109686, 'f1-score': 0.8438097460907188, 'macro_f1-score': 0.8455601278963609, 'balanced_accuracy': 0.8673476361128917, 'mcc': 0.8117790399151784, 'train_loss': 0.30644895663554095}\n",
      "Epoch 3/20\n"
     ]
    },
    {
     "name": "stderr",
     "output_type": "stream",
     "text": [
      "100%|██████████| 3151/3151 [04:24<00:00, 11.92it/s]\n"
     ]
    },
    {
     "name": "stdout",
     "output_type": "stream",
     "text": [
      "{'val_loss': 0.4274590224282354, 'val_accuracy': 0.8604874919820398, 'precision': 0.8612752925443367, 'recall': 0.8604874919820398, 'f1-score': 0.8601432115099198, 'macro_f1-score': 0.8583926141725589, 'balanced_accuracy': 0.8546301959687319, 'mcc': 0.8286208243741622, 'train_loss': 0.21105999787172858}\n",
      "Epoch 4/20\n"
     ]
    },
    {
     "name": "stderr",
     "output_type": "stream",
     "text": [
      "100%|██████████| 3151/3151 [04:24<00:00, 11.91it/s]\n"
     ]
    },
    {
     "name": "stdout",
     "output_type": "stream",
     "text": [
      "{'val_loss': 0.5391030068214759, 'val_accuracy': 0.8507590335685268, 'precision': 0.8535963749005323, 'recall': 0.8507590335685268, 'f1-score': 0.851198261678472, 'macro_f1-score': 0.8464440439581545, 'balanced_accuracy': 0.8564075005863658, 'mcc': 0.8174505054267872, 'train_loss': 0.1457853587235669}\n",
      "Epoch 5/20\n"
     ]
    },
    {
     "name": "stderr",
     "output_type": "stream",
     "text": [
      "100%|██████████| 3151/3151 [04:24<00:00, 11.91it/s]\n"
     ]
    },
    {
     "name": "stdout",
     "output_type": "stream",
     "text": [
      "{'val_loss': 0.5378287738505512, 'val_accuracy': 0.8597391490271542, 'precision': 0.8622533123098568, 'recall': 0.8597391490271542, 'f1-score': 0.8603410039394521, 'macro_f1-score': 0.8543822281786285, 'balanced_accuracy': 0.8647118153955071, 'mcc': 0.8280659873865203, 'train_loss': 0.10422936285807069}\n",
      "Epoch 6/20\n"
     ]
    },
    {
     "name": "stderr",
     "output_type": "stream",
     "text": [
      "100%|██████████| 3151/3151 [04:24<00:00, 11.92it/s]\n"
     ]
    },
    {
     "name": "stdout",
     "output_type": "stream",
     "text": [
      "{'val_loss': 0.6233684830033244, 'val_accuracy': 0.8530040624331837, 'precision': 0.856437027131355, 'recall': 0.8530040624331837, 'f1-score': 0.8534822974825442, 'macro_f1-score': 0.8503496851802228, 'balanced_accuracy': 0.8585332676727705, 'mcc': 0.820237044346972, 'train_loss': 0.08505617343362581}\n",
      "Early stopping.\n",
      "\n",
      "[Fold 5]\n",
      "🚀 Using Word2Vec + EDA (replace + deletion/swap) for data augmentation + under-sampling\n",
      "🔧 Augmenting label 1: 1399 → 5000 (+3601)\n",
      "🔧 Augmenting label 4: 1678 → 5000 (+3322)\n",
      "🔧 Augmenting label 6: 1738 → 5000 (+3262)\n",
      "🔧 Augmenting label 7: 2187 → 5000 (+2813)\n",
      "Label distribution after resampling:\n",
      "  label 0: 5625\n",
      "  label 1: 5000\n",
      "  label 2: 8441\n",
      "  label 3: 10771\n",
      "  label 4: 5000\n",
      "  label 5: 5579\n",
      "  label 6: 5000\n",
      "  label 7: 5000\n",
      "model is bert-base-uncased\n"
     ]
    },
    {
     "name": "stderr",
     "output_type": "stream",
     "text": [
      "Some weights of BertForSequenceClassification were not initialized from the model checkpoint at bert-base-uncased and are newly initialized: ['classifier.bias', 'classifier.weight']\n",
      "You should probably TRAIN this model on a down-stream task to be able to use it for predictions and inference.\n"
     ]
    },
    {
     "name": "stdout",
     "output_type": "stream",
     "text": [
      "Epoch 1/20\n"
     ]
    },
    {
     "name": "stderr",
     "output_type": "stream",
     "text": [
      "100%|██████████| 3151/3151 [04:24<00:00, 11.92it/s]\n"
     ]
    },
    {
     "name": "stdout",
     "output_type": "stream",
     "text": [
      "{'val_loss': 0.45173219222034144, 'val_accuracy': 0.8463758819756254, 'precision': 0.850469462161708, 'recall': 0.8463758819756254, 'f1-score': 0.8465037001788489, 'macro_f1-score': 0.8429645789217495, 'balanced_accuracy': 0.8512263841113118, 'mcc': 0.8120641807360774, 'train_loss': 0.5332625342278217}\n",
      "Epoch 2/20\n"
     ]
    },
    {
     "name": "stderr",
     "output_type": "stream",
     "text": [
      "100%|██████████| 3151/3151 [04:24<00:00, 11.92it/s]\n"
     ]
    },
    {
     "name": "stdout",
     "output_type": "stream",
     "text": [
      "{'val_loss': 0.4280862893702255, 'val_accuracy': 0.8576010262989096, 'precision': 0.8614668910390315, 'recall': 0.8576010262989096, 'f1-score': 0.8581577393166778, 'macro_f1-score': 0.8518959509527488, 'balanced_accuracy': 0.8709573265865131, 'mcc': 0.8256180780371755, 'train_loss': 0.296041050761665}\n",
      "Epoch 3/20\n"
     ]
    },
    {
     "name": "stderr",
     "output_type": "stream",
     "text": [
      "100%|██████████| 3151/3151 [04:24<00:00, 11.92it/s]\n"
     ]
    },
    {
     "name": "stdout",
     "output_type": "stream",
     "text": [
      "{'val_loss': 0.489426106817893, 'val_accuracy': 0.8540731237973059, 'precision': 0.8553094506797757, 'recall': 0.8540731237973059, 'f1-score': 0.8541558335371651, 'macro_f1-score': 0.8497465722446975, 'balanced_accuracy': 0.8562125656743267, 'mcc': 0.8207642779827743, 'train_loss': 0.19592670192837097}\n",
      "Epoch 4/20\n"
     ]
    },
    {
     "name": "stderr",
     "output_type": "stream",
     "text": [
      "100%|██████████| 3151/3151 [04:24<00:00, 11.92it/s]\n"
     ]
    },
    {
     "name": "stdout",
     "output_type": "stream",
     "text": [
      "{'val_loss': 0.5472938923189082, 'val_accuracy': 0.849903784477229, 'precision': 0.8551474403512703, 'recall': 0.849903784477229, 'f1-score': 0.851078161314775, 'macro_f1-score': 0.8431485760907462, 'balanced_accuracy': 0.8676889219302641, 'mcc': 0.8167149879594195, 'train_loss': 0.13051823197096415}\n",
      "Epoch 5/20\n"
     ]
    },
    {
     "name": "stderr",
     "output_type": "stream",
     "text": [
      "100%|██████████| 3151/3151 [04:24<00:00, 11.92it/s]\n"
     ]
    },
    {
     "name": "stdout",
     "output_type": "stream",
     "text": [
      "{'val_loss': 0.5902309842459443, 'val_accuracy': 0.8484070985674578, 'precision': 0.8553189652400734, 'recall': 0.8484070985674578, 'f1-score': 0.8498195442209252, 'macro_f1-score': 0.8400030190867791, 'balanced_accuracy': 0.8633877378258665, 'mcc': 0.8154946315503261, 'train_loss': 0.09680142056137668}\n",
      "Early stopping.\n",
      "\n",
      " === bert-base-uncased + plain + word2vec_eda Final 5-fold Cross-Validation Results ===\n",
      "val_loss: 0.4541\n",
      "val_accuracy: 0.8602\n",
      "precision: 0.8619\n",
      "recall: 0.8602\n",
      "f1-score: 0.8602\n",
      "macro_f1-score: 0.8577\n",
      "balanced_accuracy: 0.8606\n",
      "mcc: 0.8284\n",
      "train_loss: 0.2040\n",
      "total_seconds: 9227.0000\n",
      "total_time: 2 hrs 33 mins 47 secs\n",
      "▶ Running: bert-base-uncased + cnn + word2vec_eda\n",
      "tokenizer is bert-base-uncased\n",
      "Using device: cuda\n",
      "CUDA Available: True\n",
      "CUDA Device: NVIDIA GeForce RTX 5070 Ti\n",
      "Current GPU Memory Allocated: 0.02 GB\n",
      "Current GPU Memory Cached: 3.03 GB\n",
      "\n",
      "[Fold 1]\n",
      "🚀 Using Word2Vec + EDA (replace + deletion/swap) for data augmentation + under-sampling\n",
      "🔧 Augmenting label 1: 1399 → 5000 (+3601)\n",
      "🔧 Augmenting label 4: 1678 → 5000 (+3322)\n",
      "🔧 Augmenting label 6: 1737 → 5000 (+3263)\n",
      "🔧 Augmenting label 7: 2187 → 5000 (+2813)\n",
      "Label distribution after resampling:\n",
      "  label 0: 5626\n",
      "  label 1: 5000\n",
      "  label 2: 8442\n",
      "  label 3: 10770\n",
      "  label 4: 5000\n",
      "  label 5: 5578\n",
      "  label 6: 5000\n",
      "  label 7: 5000\n",
      "model is bert-base-uncased cnn\n",
      "Epoch 1/20\n"
     ]
    },
    {
     "name": "stderr",
     "output_type": "stream",
     "text": [
      "100%|██████████| 3151/3151 [04:29<00:00, 11.69it/s]\n"
     ]
    },
    {
     "name": "stdout",
     "output_type": "stream",
     "text": [
      "{'val_loss': 0.465821521035117, 'val_accuracy': 0.8439337252805986, 'precision': 0.8518466183386805, 'recall': 0.8439337252805986, 'f1-score': 0.8444048770171068, 'macro_f1-score': 0.8336560235634335, 'balanced_accuracy': 0.8733016303060142, 'mcc': 0.8117680341509016, 'train_loss': 0.5563681099235169}\n",
      "Epoch 2/20\n"
     ]
    },
    {
     "name": "stderr",
     "output_type": "stream",
     "text": [
      "100%|██████████| 3151/3151 [04:29<00:00, 11.70it/s]\n"
     ]
    },
    {
     "name": "stdout",
     "output_type": "stream",
     "text": [
      "{'val_loss': 0.4594813772246369, 'val_accuracy': 0.8504543025120257, 'precision': 0.857060578577848, 'recall': 0.8504543025120257, 'f1-score': 0.8512477734235299, 'macro_f1-score': 0.844145080581609, 'balanced_accuracy': 0.8626786880939996, 'mcc': 0.8172785298246082, 'train_loss': 0.3213576722620584}\n",
      "Epoch 3/20\n"
     ]
    },
    {
     "name": "stderr",
     "output_type": "stream",
     "text": [
      "100%|██████████| 3151/3151 [04:29<00:00, 11.70it/s]\n"
     ]
    },
    {
     "name": "stdout",
     "output_type": "stream",
     "text": [
      "{'val_loss': 0.46417762158502246, 'val_accuracy': 0.8553714591127739, 'precision': 0.8601306171296408, 'recall': 0.8553714591127739, 'f1-score': 0.8560384602380657, 'macro_f1-score': 0.8559185211453086, 'balanced_accuracy': 0.8585017674184146, 'mcc': 0.8228843959849419, 'train_loss': 0.21945747833785292}\n",
      "Epoch 4/20\n"
     ]
    },
    {
     "name": "stderr",
     "output_type": "stream",
     "text": [
      "100%|██████████| 3151/3151 [04:29<00:00, 11.69it/s]\n"
     ]
    },
    {
     "name": "stdout",
     "output_type": "stream",
     "text": [
      "{'val_loss': 0.49145908643507485, 'val_accuracy': 0.8624265098877606, 'precision': 0.8658804707374043, 'recall': 0.8624265098877606, 'f1-score': 0.8629712439068049, 'macro_f1-score': 0.8587506322494902, 'balanced_accuracy': 0.8593313470631244, 'mcc': 0.8309354878882617, 'train_loss': 0.1508520320748196}\n",
      "Epoch 5/20\n"
     ]
    },
    {
     "name": "stderr",
     "output_type": "stream",
     "text": [
      "100%|██████████| 3151/3151 [04:29<00:00, 11.70it/s]\n"
     ]
    },
    {
     "name": "stdout",
     "output_type": "stream",
     "text": [
      "{'val_loss': 0.5787776056271142, 'val_accuracy': 0.8612506680919294, 'precision': 0.8627302068903179, 'recall': 0.8612506680919294, 'f1-score': 0.8612492348026276, 'macro_f1-score': 0.8594798561809839, 'balanced_accuracy': 0.8582940308544724, 'mcc': 0.8295924098295809, 'train_loss': 0.11187201839823786}\n",
      "Epoch 6/20\n"
     ]
    },
    {
     "name": "stderr",
     "output_type": "stream",
     "text": [
      "100%|██████████| 3151/3151 [04:29<00:00, 11.70it/s]\n"
     ]
    },
    {
     "name": "stdout",
     "output_type": "stream",
     "text": [
      "{'val_loss': 0.541019460810428, 'val_accuracy': 0.8656333511491181, 'precision': 0.8666258901987237, 'recall': 0.8656333511491181, 'f1-score': 0.8652006758946988, 'macro_f1-score': 0.8638559484407257, 'balanced_accuracy': 0.8548107858682661, 'mcc': 0.8343818437522884, 'train_loss': 0.08968375679359336}\n",
      "Epoch 7/20\n"
     ]
    },
    {
     "name": "stderr",
     "output_type": "stream",
     "text": [
      "100%|██████████| 3151/3151 [04:29<00:00, 11.70it/s]\n"
     ]
    },
    {
     "name": "stdout",
     "output_type": "stream",
     "text": [
      "{'val_loss': 0.6082433410510262, 'val_accuracy': 0.8539818278995189, 'precision': 0.8572338766053017, 'recall': 0.8539818278995189, 'f1-score': 0.854444876668024, 'macro_f1-score': 0.8495458277506232, 'balanced_accuracy': 0.8673979530133031, 'mcc': 0.8219052125687528, 'train_loss': 0.07298920993401192}\n",
      "Epoch 8/20\n"
     ]
    },
    {
     "name": "stderr",
     "output_type": "stream",
     "text": [
      "100%|██████████| 3151/3151 [04:29<00:00, 11.70it/s]\n"
     ]
    },
    {
     "name": "stdout",
     "output_type": "stream",
     "text": [
      "{'val_loss': 0.5858543429346595, 'val_accuracy': 0.8661678246926777, 'precision': 0.8680766770496946, 'recall': 0.8661678246926777, 'f1-score': 0.8666249542912993, 'macro_f1-score': 0.8603521962181245, 'balanced_accuracy': 0.8625899218008366, 'mcc': 0.835292046140728, 'train_loss': 0.06535941754752063}\n",
      "Epoch 9/20\n"
     ]
    },
    {
     "name": "stderr",
     "output_type": "stream",
     "text": [
      "100%|██████████| 3151/3151 [04:29<00:00, 11.70it/s]\n"
     ]
    },
    {
     "name": "stdout",
     "output_type": "stream",
     "text": [
      "{'val_loss': 0.7105791066871243, 'val_accuracy': 0.8580438268305719, 'precision': 0.8601614054267229, 'recall': 0.8580438268305719, 'f1-score': 0.8583069553878236, 'macro_f1-score': 0.8524035385535936, 'balanced_accuracy': 0.8636379437778925, 'mcc': 0.8264096251226626, 'train_loss': 0.05607817497194775}\n",
      "Early stopping.\n",
      "\n",
      "[Fold 2]\n",
      "🚀 Using Word2Vec + EDA (replace + deletion/swap) for data augmentation + under-sampling\n",
      "🔧 Augmenting label 1: 1400 → 5000 (+3600)\n",
      "🔧 Augmenting label 4: 1678 → 5000 (+3322)\n",
      "🔧 Augmenting label 6: 1737 → 5000 (+3263)\n",
      "🔧 Augmenting label 7: 2186 → 5000 (+2814)\n",
      "Label distribution after resampling:\n",
      "  label 0: 5626\n",
      "  label 1: 5000\n",
      "  label 2: 8442\n",
      "  label 3: 10770\n",
      "  label 4: 5000\n",
      "  label 5: 5578\n",
      "  label 6: 5000\n",
      "  label 7: 5000\n",
      "model is bert-base-uncased cnn\n",
      "Epoch 1/20\n"
     ]
    },
    {
     "name": "stderr",
     "output_type": "stream",
     "text": [
      "100%|██████████| 3151/3151 [04:29<00:00, 11.70it/s]\n"
     ]
    },
    {
     "name": "stdout",
     "output_type": "stream",
     "text": [
      "{'val_loss': 0.4642824549705554, 'val_accuracy': 0.8415820416889364, 'precision': 0.8472293390687885, 'recall': 0.8415820416889364, 'f1-score': 0.8412263737460591, 'macro_f1-score': 0.8416961028827908, 'balanced_accuracy': 0.8436843947200814, 'mcc': 0.8054638188309906, 'train_loss': 0.5524259411006627}\n",
      "Epoch 2/20\n"
     ]
    },
    {
     "name": "stderr",
     "output_type": "stream",
     "text": [
      "100%|██████████| 3151/3151 [04:29<00:00, 11.71it/s]\n"
     ]
    },
    {
     "name": "stdout",
     "output_type": "stream",
     "text": [
      "{'val_loss': 0.4466597008678075, 'val_accuracy': 0.8535542490646713, 'precision': 0.8551475128858617, 'recall': 0.8535542490646713, 'f1-score': 0.8539298141673296, 'macro_f1-score': 0.853379858579354, 'balanced_accuracy': 0.8510623647242221, 'mcc': 0.8194907759007237, 'train_loss': 0.30892759082399684}\n",
      "Epoch 3/20\n"
     ]
    },
    {
     "name": "stderr",
     "output_type": "stream",
     "text": [
      "100%|██████████| 3151/3151 [04:29<00:00, 11.70it/s]\n"
     ]
    },
    {
     "name": "stdout",
     "output_type": "stream",
     "text": [
      "{'val_loss': 0.4870685234833031, 'val_accuracy': 0.84735435595938, 'precision': 0.8509125089607534, 'recall': 0.84735435595938, 'f1-score': 0.8476043155830264, 'macro_f1-score': 0.8418010031027507, 'balanced_accuracy': 0.8591081197813879, 'mcc': 0.8134158838806337, 'train_loss': 0.2069206599919619}\n",
      "Epoch 4/20\n"
     ]
    },
    {
     "name": "stderr",
     "output_type": "stream",
     "text": [
      "100%|██████████| 3151/3151 [04:29<00:00, 11.70it/s]\n"
     ]
    },
    {
     "name": "stdout",
     "output_type": "stream",
     "text": [
      "{'val_loss': 0.548261186753551, 'val_accuracy': 0.8519508284339925, 'precision': 0.8543596791041979, 'recall': 0.8519508284339925, 'f1-score': 0.8523597791051799, 'macro_f1-score': 0.850302831390211, 'balanced_accuracy': 0.8629677652585139, 'mcc': 0.8189451229840644, 'train_loss': 0.1420817952713569}\n",
      "Epoch 5/20\n"
     ]
    },
    {
     "name": "stderr",
     "output_type": "stream",
     "text": [
      "100%|██████████| 3151/3151 [04:29<00:00, 11.70it/s]\n"
     ]
    },
    {
     "name": "stdout",
     "output_type": "stream",
     "text": [
      "{'val_loss': 0.5774282628702175, 'val_accuracy': 0.8553714591127739, 'precision': 0.8559877545111427, 'recall': 0.8553714591127739, 'f1-score': 0.8554411682880623, 'macro_f1-score': 0.8545612999286012, 'balanced_accuracy': 0.8469931554751942, 'mcc': 0.8217486804155849, 'train_loss': 0.10043902961473954}\n",
      "Epoch 6/20\n"
     ]
    },
    {
     "name": "stderr",
     "output_type": "stream",
     "text": [
      "100%|██████████| 3151/3151 [04:29<00:00, 11.69it/s]\n"
     ]
    },
    {
     "name": "stdout",
     "output_type": "stream",
     "text": [
      "{'val_loss': 0.6979820003080317, 'val_accuracy': 0.8528059861036879, 'precision': 0.8534332346665118, 'recall': 0.8528059861036879, 'f1-score': 0.8526713852219256, 'macro_f1-score': 0.8510806493596889, 'balanced_accuracy': 0.8425888960895975, 'mcc': 0.8184151773061383, 'train_loss': 0.07852908419737765}\n",
      "Epoch 7/20\n"
     ]
    },
    {
     "name": "stderr",
     "output_type": "stream",
     "text": [
      "100%|██████████| 3151/3151 [04:29<00:00, 11.70it/s]\n"
     ]
    },
    {
     "name": "stdout",
     "output_type": "stream",
     "text": [
      "{'val_loss': 0.6830499014375397, 'val_accuracy': 0.8498129342597541, 'precision': 0.8508180225329564, 'recall': 0.8498129342597541, 'f1-score': 0.8498048260953261, 'macro_f1-score': 0.8454962313633873, 'balanced_accuracy': 0.8482312908529085, 'mcc': 0.8156763401250771, 'train_loss': 0.06881989509449378}\n",
      "Epoch 8/20\n"
     ]
    },
    {
     "name": "stderr",
     "output_type": "stream",
     "text": [
      "100%|██████████| 3151/3151 [04:29<00:00, 11.69it/s]\n"
     ]
    },
    {
     "name": "stdout",
     "output_type": "stream",
     "text": [
      "{'val_loss': 0.6746928170125366, 'val_accuracy': 0.8490646712987707, 'precision': 0.8494260974736312, 'recall': 0.8490646712987707, 'f1-score': 0.848880173652903, 'macro_f1-score': 0.8465870786391076, 'balanced_accuracy': 0.8500424358830261, 'mcc': 0.8148090824585145, 'train_loss': 0.055125565813479785}\n",
      "Early stopping.\n",
      "\n",
      "[Fold 3]\n",
      "🚀 Using Word2Vec + EDA (replace + deletion/swap) for data augmentation + under-sampling\n",
      "🔧 Augmenting label 1: 1399 → 5000 (+3601)\n",
      "🔧 Augmenting label 4: 1679 → 5000 (+3321)\n",
      "🔧 Augmenting label 6: 1738 → 5000 (+3262)\n",
      "🔧 Augmenting label 7: 2186 → 5000 (+2814)\n",
      "Label distribution after resampling:\n",
      "  label 0: 5626\n",
      "  label 1: 5000\n",
      "  label 2: 8442\n",
      "  label 3: 10770\n",
      "  label 4: 5000\n",
      "  label 5: 5578\n",
      "  label 6: 5000\n",
      "  label 7: 5000\n",
      "model is bert-base-uncased cnn\n",
      "Epoch 1/20\n"
     ]
    },
    {
     "name": "stderr",
     "output_type": "stream",
     "text": [
      "100%|██████████| 3151/3151 [04:29<00:00, 11.69it/s]\n"
     ]
    },
    {
     "name": "stdout",
     "output_type": "stream",
     "text": [
      "{'val_loss': 0.42276685737773906, 'val_accuracy': 0.8550352790250161, 'precision': 0.8576916700603687, 'recall': 0.8550352790250161, 'f1-score': 0.8547096565563034, 'macro_f1-score': 0.8525848358217205, 'balanced_accuracy': 0.8679292661869172, 'mcc': 0.8228881041177908, 'train_loss': 0.5634059808930777}\n",
      "Epoch 2/20\n"
     ]
    },
    {
     "name": "stderr",
     "output_type": "stream",
     "text": [
      "100%|██████████| 3151/3151 [04:29<00:00, 11.70it/s]\n"
     ]
    },
    {
     "name": "stdout",
     "output_type": "stream",
     "text": [
      "{'val_loss': 0.41793192060202616, 'val_accuracy': 0.8621979901646355, 'precision': 0.863356325897345, 'recall': 0.8621979901646355, 'f1-score': 0.8619099523521421, 'macro_f1-score': 0.8575031623284699, 'balanced_accuracy': 0.871139199367111, 'mcc': 0.8313931382895438, 'train_loss': 0.3214969307514364}\n",
      "Epoch 3/20\n"
     ]
    },
    {
     "name": "stderr",
     "output_type": "stream",
     "text": [
      "100%|██████████| 3151/3151 [04:29<00:00, 11.70it/s]\n"
     ]
    },
    {
     "name": "stdout",
     "output_type": "stream",
     "text": [
      "{'val_loss': 0.43689183216128086, 'val_accuracy': 0.86337395766517, 'precision': 0.8649966182130658, 'recall': 0.86337395766517, 'f1-score': 0.8632719188093843, 'macro_f1-score': 0.8585661416741899, 'balanced_accuracy': 0.869293399336623, 'mcc': 0.83255025251289, 'train_loss': 0.22230218079175193}\n",
      "Epoch 4/20\n"
     ]
    },
    {
     "name": "stderr",
     "output_type": "stream",
     "text": [
      "100%|██████████| 3151/3151 [04:29<00:00, 11.70it/s]\n"
     ]
    },
    {
     "name": "stdout",
     "output_type": "stream",
     "text": [
      "{'val_loss': 0.4896431585781786, 'val_accuracy': 0.865725892666239, 'precision': 0.8674665356669435, 'recall': 0.865725892666239, 'f1-score': 0.8661763175533481, 'macro_f1-score': 0.8630676574217038, 'balanced_accuracy': 0.8682008912078418, 'mcc': 0.8348540848150697, 'train_loss': 0.15673031945591978}\n",
      "Epoch 5/20\n"
     ]
    },
    {
     "name": "stderr",
     "output_type": "stream",
     "text": [
      "100%|██████████| 3151/3151 [04:29<00:00, 11.70it/s]\n"
     ]
    },
    {
     "name": "stdout",
     "output_type": "stream",
     "text": [
      "{'val_loss': 0.5330819905335561, 'val_accuracy': 0.8670087663031858, 'precision': 0.8679694974360188, 'recall': 0.8670087663031858, 'f1-score': 0.8671450699681885, 'macro_f1-score': 0.8638503788563967, 'balanced_accuracy': 0.8671092165665968, 'mcc': 0.8365895381992244, 'train_loss': 0.12020289740044968}\n",
      "Epoch 6/20\n"
     ]
    },
    {
     "name": "stderr",
     "output_type": "stream",
     "text": [
      "100%|██████████| 3151/3151 [04:29<00:00, 11.70it/s]\n"
     ]
    },
    {
     "name": "stdout",
     "output_type": "stream",
     "text": [
      "{'val_loss': 0.5787135881859348, 'val_accuracy': 0.8625187085738721, 'precision': 0.863788444664511, 'recall': 0.8625187085738721, 'f1-score': 0.8625395657038568, 'macro_f1-score': 0.8583965838026555, 'balanced_accuracy': 0.8687728614023843, 'mcc': 0.8312863869775512, 'train_loss': 0.09200298049693256}\n",
      "Epoch 7/20\n"
     ]
    },
    {
     "name": "stderr",
     "output_type": "stream",
     "text": [
      "100%|██████████| 3151/3151 [04:29<00:00, 11.71it/s]\n"
     ]
    },
    {
     "name": "stdout",
     "output_type": "stream",
     "text": [
      "{'val_loss': 0.6036159328606903, 'val_accuracy': 0.8629463331195211, 'precision': 0.8651965364621811, 'recall': 0.8629463331195211, 'f1-score': 0.8633026146295526, 'macro_f1-score': 0.8588079898328345, 'balanced_accuracy': 0.8710484482750243, 'mcc': 0.8324309161293487, 'train_loss': 0.07955197564724537}\n",
      "Epoch 8/20\n"
     ]
    },
    {
     "name": "stderr",
     "output_type": "stream",
     "text": [
      "100%|██████████| 3151/3151 [04:28<00:00, 11.72it/s]\n"
     ]
    },
    {
     "name": "stdout",
     "output_type": "stream",
     "text": [
      "{'val_loss': 0.61241626827301, 'val_accuracy': 0.8546076544793672, 'precision': 0.8571804133372362, 'recall': 0.8546076544793672, 'f1-score': 0.8546820853907457, 'macro_f1-score': 0.8449967405239517, 'balanced_accuracy': 0.8477932248270981, 'mcc': 0.8211605680802884, 'train_loss': 0.07664732381348215}\n",
      "Early stopping.\n",
      "\n",
      "[Fold 4]\n",
      "🚀 Using Word2Vec + EDA (replace + deletion/swap) for data augmentation + under-sampling\n",
      "🔧 Augmenting label 1: 1399 → 5000 (+3601)\n",
      "🔧 Augmenting label 4: 1679 → 5000 (+3321)\n",
      "🔧 Augmenting label 6: 1738 → 5000 (+3262)\n",
      "🔧 Augmenting label 7: 2186 → 5000 (+2814)\n",
      "Label distribution after resampling:\n",
      "  label 0: 5625\n",
      "  label 1: 5000\n",
      "  label 2: 8441\n",
      "  label 3: 10771\n",
      "  label 4: 5000\n",
      "  label 5: 5579\n",
      "  label 6: 5000\n",
      "  label 7: 5000\n",
      "model is bert-base-uncased cnn\n",
      "Epoch 1/20\n"
     ]
    },
    {
     "name": "stderr",
     "output_type": "stream",
     "text": [
      "100%|██████████| 3151/3151 [04:29<00:00, 11.70it/s]\n"
     ]
    },
    {
     "name": "stdout",
     "output_type": "stream",
     "text": [
      "{'val_loss': 0.479912565005386, 'val_accuracy': 0.8323711781056232, 'precision': 0.8409795295992742, 'recall': 0.8323711781056232, 'f1-score': 0.8324278812001784, 'macro_f1-score': 0.8308703514692812, 'balanced_accuracy': 0.8585447653220325, 'mcc': 0.7978842139895884, 'train_loss': 0.5656531041695537}\n",
      "Epoch 2/20\n"
     ]
    },
    {
     "name": "stderr",
     "output_type": "stream",
     "text": [
      "100%|██████████| 3151/3151 [04:29<00:00, 11.70it/s]\n"
     ]
    },
    {
     "name": "stdout",
     "output_type": "stream",
     "text": [
      "{'val_loss': 0.42920375567120617, 'val_accuracy': 0.8532178747060081, 'precision': 0.85515735637511, 'recall': 0.8532178747060081, 'f1-score': 0.8532986853049059, 'macro_f1-score': 0.85365965299894, 'balanced_accuracy': 0.856680123653129, 'mcc': 0.8202168539476147, 'train_loss': 0.321866795170895}\n",
      "Epoch 3/20\n"
     ]
    },
    {
     "name": "stderr",
     "output_type": "stream",
     "text": [
      "100%|██████████| 3151/3151 [04:29<00:00, 11.71it/s]\n"
     ]
    },
    {
     "name": "stdout",
     "output_type": "stream",
     "text": [
      "{'val_loss': 0.499259477853775, 'val_accuracy': 0.8497968783408167, 'precision': 0.8565187323700137, 'recall': 0.8497968783408167, 'f1-score': 0.8498437349280862, 'macro_f1-score': 0.8497120776526175, 'balanced_accuracy': 0.8601634882526621, 'mcc': 0.8165111046237933, 'train_loss': 0.22389849870247275}\n",
      "Epoch 4/20\n"
     ]
    },
    {
     "name": "stderr",
     "output_type": "stream",
     "text": [
      "100%|██████████| 3151/3151 [04:29<00:00, 11.71it/s]\n"
     ]
    },
    {
     "name": "stdout",
     "output_type": "stream",
     "text": [
      "{'val_loss': 0.5067002641447048, 'val_accuracy': 0.8625187085738721, 'precision': 0.86270542627898, 'recall': 0.8625187085738721, 'f1-score': 0.8624655762861928, 'macro_f1-score': 0.8611300385671192, 'balanced_accuracy': 0.8644585695820972, 'mcc': 0.8309575052108384, 'train_loss': 0.15803794964621276}\n",
      "Epoch 5/20\n"
     ]
    },
    {
     "name": "stderr",
     "output_type": "stream",
     "text": [
      "100%|██████████| 3151/3151 [04:29<00:00, 11.71it/s]\n"
     ]
    },
    {
     "name": "stdout",
     "output_type": "stream",
     "text": [
      "{'val_loss': 0.5750374934812172, 'val_accuracy': 0.8570664956168484, 'precision': 0.8593589586171978, 'recall': 0.8570664956168484, 'f1-score': 0.857493636990413, 'macro_f1-score': 0.8543214661805777, 'balanced_accuracy': 0.8613657094541955, 'mcc': 0.8247354173334634, 'train_loss': 0.11241944431321668}\n",
      "Epoch 6/20\n"
     ]
    },
    {
     "name": "stderr",
     "output_type": "stream",
     "text": [
      "100%|██████████| 3151/3151 [04:29<00:00, 11.71it/s]\n"
     ]
    },
    {
     "name": "stdout",
     "output_type": "stream",
     "text": [
      "{'val_loss': 0.5936873511531645, 'val_accuracy': 0.8617703656189866, 'precision': 0.8638983916502792, 'recall': 0.8617703656189866, 'f1-score': 0.8623944033892357, 'macro_f1-score': 0.8560724592156623, 'balanced_accuracy': 0.858222987063631, 'mcc': 0.829965883303919, 'train_loss': 0.09576953690893757}\n",
      "Epoch 7/20\n"
     ]
    },
    {
     "name": "stderr",
     "output_type": "stream",
     "text": [
      "100%|██████████| 3151/3151 [04:29<00:00, 11.71it/s]\n"
     ]
    },
    {
     "name": "stdout",
     "output_type": "stream",
     "text": [
      "{'val_loss': 0.6164160268371288, 'val_accuracy': 0.8565319649347872, 'precision': 0.8585811592490257, 'recall': 0.8565319649347872, 'f1-score': 0.856765323091117, 'macro_f1-score': 0.8520531956214475, 'balanced_accuracy': 0.8689970372459139, 'mcc': 0.8244356819159007, 'train_loss': 0.07653296039707426}\n",
      "Early stopping.\n",
      "\n",
      "[Fold 5]\n",
      "🚀 Using Word2Vec + EDA (replace + deletion/swap) for data augmentation + under-sampling\n",
      "🔧 Augmenting label 1: 1399 → 5000 (+3601)\n",
      "🔧 Augmenting label 4: 1678 → 5000 (+3322)\n",
      "🔧 Augmenting label 6: 1738 → 5000 (+3262)\n",
      "🔧 Augmenting label 7: 2187 → 5000 (+2813)\n",
      "Label distribution after resampling:\n",
      "  label 0: 5625\n",
      "  label 1: 5000\n",
      "  label 2: 8441\n",
      "  label 3: 10771\n",
      "  label 4: 5000\n",
      "  label 5: 5579\n",
      "  label 6: 5000\n",
      "  label 7: 5000\n",
      "model is bert-base-uncased cnn\n",
      "Epoch 1/20\n"
     ]
    },
    {
     "name": "stderr",
     "output_type": "stream",
     "text": [
      "100%|██████████| 3151/3151 [04:29<00:00, 11.70it/s]\n"
     ]
    },
    {
     "name": "stdout",
     "output_type": "stream",
     "text": [
      "{'val_loss': 0.423582899178832, 'val_accuracy': 0.8516142826598246, 'precision': 0.8524773277368787, 'recall': 0.8516142826598246, 'f1-score': 0.8515330760635477, 'macro_f1-score': 0.8513503157452882, 'balanced_accuracy': 0.8444892657900971, 'mcc': 0.8170795171865214, 'train_loss': 0.5497026292918121}\n",
      "Epoch 2/20\n"
     ]
    },
    {
     "name": "stderr",
     "output_type": "stream",
     "text": [
      "100%|██████████| 3151/3151 [04:29<00:00, 11.71it/s]\n"
     ]
    },
    {
     "name": "stdout",
     "output_type": "stream",
     "text": [
      "{'val_loss': 0.4309517784187427, 'val_accuracy': 0.8551421851614283, 'precision': 0.8589701595971809, 'recall': 0.8551421851614283, 'f1-score': 0.8560376228080512, 'macro_f1-score': 0.8532706351639494, 'balanced_accuracy': 0.8614296788052481, 'mcc': 0.8223109509404322, 'train_loss': 0.31487524105393766}\n",
      "Epoch 3/20\n"
     ]
    },
    {
     "name": "stderr",
     "output_type": "stream",
     "text": [
      "100%|██████████| 3151/3151 [04:28<00:00, 11.71it/s]\n"
     ]
    },
    {
     "name": "stdout",
     "output_type": "stream",
     "text": [
      "{'val_loss': 0.435124493124059, 'val_accuracy': 0.8598460551635664, 'precision': 0.8616584754583533, 'recall': 0.8598460551635664, 'f1-score': 0.8597353803686169, 'macro_f1-score': 0.858066479301985, 'balanced_accuracy': 0.8630980747023351, 'mcc': 0.8284787001234892, 'train_loss': 0.21361808654146108}\n",
      "Epoch 4/20\n"
     ]
    },
    {
     "name": "stderr",
     "output_type": "stream",
     "text": [
      "100%|██████████| 3151/3151 [04:28<00:00, 11.72it/s]\n"
     ]
    },
    {
     "name": "stdout",
     "output_type": "stream",
     "text": [
      "{'val_loss': 0.5027805913112358, 'val_accuracy': 0.8607013042548642, 'precision': 0.8613538199721704, 'recall': 0.8607013042548642, 'f1-score': 0.8602421925283206, 'macro_f1-score': 0.8612441679065257, 'balanced_accuracy': 0.8562288615484671, 'mcc': 0.829019775629877, 'train_loss': 0.14780753671980199}\n",
      "Epoch 5/20\n"
     ]
    },
    {
     "name": "stderr",
     "output_type": "stream",
     "text": [
      "100%|██████████| 3151/3151 [04:28<00:00, 11.72it/s]\n"
     ]
    },
    {
     "name": "stdout",
     "output_type": "stream",
     "text": [
      "{'val_loss': 0.5727126374160154, 'val_accuracy': 0.8583493692537951, 'precision': 0.8616124562013757, 'recall': 0.8583493692537951, 'f1-score': 0.8585417742504701, 'macro_f1-score': 0.8595531145785749, 'balanced_accuracy': 0.8472672813109372, 'mcc': 0.8254261072630634, 'train_loss': 0.11009903690015052}\n",
      "Epoch 6/20\n"
     ]
    },
    {
     "name": "stderr",
     "output_type": "stream",
     "text": [
      "100%|██████████| 3151/3151 [04:28<00:00, 11.72it/s]\n"
     ]
    },
    {
     "name": "stdout",
     "output_type": "stream",
     "text": [
      "{'val_loss': 0.5567326487599211, 'val_accuracy': 0.8579217447081462, 'precision': 0.8601626580469677, 'recall': 0.8579217447081462, 'f1-score': 0.8584363962553292, 'macro_f1-score': 0.8536515900269797, 'balanced_accuracy': 0.8582275164510549, 'mcc': 0.8252513501021231, 'train_loss': 0.08431635379870102}\n",
      "Epoch 7/20\n"
     ]
    },
    {
     "name": "stderr",
     "output_type": "stream",
     "text": [
      "100%|██████████| 3151/3151 [04:29<00:00, 11.71it/s]\n"
     ]
    },
    {
     "name": "stdout",
     "output_type": "stream",
     "text": [
      "{'val_loss': 0.6492220738928558, 'val_accuracy': 0.8558905281163138, 'precision': 0.8593489977649891, 'recall': 0.8558905281163138, 'f1-score': 0.8565466064872048, 'macro_f1-score': 0.8547364996546511, 'balanced_accuracy': 0.8431981493942291, 'mcc': 0.8221917175624746, 'train_loss': 0.07824204568788841}\n",
      "Early stopping.\n",
      "\n",
      " === bert-base-uncased + cnn + word2vec_eda Final 5-fold Cross-Validation Results ===\n",
      "val_loss: 0.5322\n",
      "val_accuracy: 0.8622\n",
      "precision: 0.8629\n",
      "recall: 0.8622\n",
      "f1-score: 0.8621\n",
      "macro_f1-score: 0.8609\n",
      "balanced_accuracy: 0.8579\n",
      "mcc: 0.8305\n",
      "train_loss: 0.1232\n",
      "total_seconds: 11440.0000\n",
      "total_time: 3 hrs 10 mins 40 secs\n",
      "▶ Running: bert-base-uncased + lstm + word2vec_eda\n",
      "tokenizer is bert-base-uncased\n",
      "Using device: cuda\n",
      "CUDA Available: True\n",
      "CUDA Device: NVIDIA GeForce RTX 5070 Ti\n",
      "Current GPU Memory Allocated: 0.02 GB\n",
      "Current GPU Memory Cached: 3.04 GB\n",
      "\n",
      "[Fold 1]\n",
      "🚀 Using Word2Vec + EDA (replace + deletion/swap) for data augmentation + under-sampling\n",
      "🔧 Augmenting label 1: 1399 → 5000 (+3601)\n",
      "🔧 Augmenting label 4: 1678 → 5000 (+3322)\n",
      "🔧 Augmenting label 6: 1737 → 5000 (+3263)\n",
      "🔧 Augmenting label 7: 2187 → 5000 (+2813)\n",
      "Label distribution after resampling:\n",
      "  label 0: 5626\n",
      "  label 1: 5000\n",
      "  label 2: 8442\n",
      "  label 3: 10770\n",
      "  label 4: 5000\n",
      "  label 5: 5578\n",
      "  label 6: 5000\n",
      "  label 7: 5000\n",
      "model is bert-base-uncased lstm\n",
      "Epoch 1/20\n"
     ]
    },
    {
     "name": "stderr",
     "output_type": "stream",
     "text": [
      "100%|██████████| 3151/3151 [04:44<00:00, 11.09it/s]\n"
     ]
    },
    {
     "name": "stdout",
     "output_type": "stream",
     "text": [
      "{'val_loss': 0.49076464783050056, 'val_accuracy': 0.8349545697487974, 'precision': 0.8479311803267863, 'recall': 0.8349545697487974, 'f1-score': 0.835652911894882, 'macro_f1-score': 0.8272929522704351, 'balanced_accuracy': 0.836740599026436, 'mcc': 0.7988410828092862, 'train_loss': 0.5528713782817144}\n",
      "Epoch 2/20\n"
     ]
    },
    {
     "name": "stderr",
     "output_type": "stream",
     "text": [
      "100%|██████████| 3151/3151 [04:44<00:00, 11.08it/s]\n"
     ]
    },
    {
     "name": "stdout",
     "output_type": "stream",
     "text": [
      "{'val_loss': 0.4637688422082072, 'val_accuracy': 0.8414751469802245, 'precision': 0.8496362525361933, 'recall': 0.8414751469802245, 'f1-score': 0.8399147922241974, 'macro_f1-score': 0.8451512995203803, 'balanced_accuracy': 0.8652382100534214, 'mcc': 0.8098297626283615, 'train_loss': 0.3178135690355265}\n",
      "Epoch 3/20\n"
     ]
    },
    {
     "name": "stderr",
     "output_type": "stream",
     "text": [
      "100%|██████████| 3151/3151 [04:43<00:00, 11.10it/s]\n"
     ]
    },
    {
     "name": "stdout",
     "output_type": "stream",
     "text": [
      "{'val_loss': 0.47404558145656034, 'val_accuracy': 0.8541956173169428, 'precision': 0.8619565026385827, 'recall': 0.8541956173169428, 'f1-score': 0.8551506312944173, 'macro_f1-score': 0.8470591398714018, 'balanced_accuracy': 0.8602178957696074, 'mcc': 0.8230239532934537, 'train_loss': 0.22025097314234657}\n",
      "Epoch 4/20\n"
     ]
    },
    {
     "name": "stderr",
     "output_type": "stream",
     "text": [
      "100%|██████████| 3151/3151 [04:44<00:00, 11.09it/s]\n"
     ]
    },
    {
     "name": "stdout",
     "output_type": "stream",
     "text": [
      "{'val_loss': 0.48473864833418373, 'val_accuracy': 0.8612506680919294, 'precision': 0.8655167459271278, 'recall': 0.8612506680919294, 'f1-score': 0.8617465837153362, 'macro_f1-score': 0.8565905275743282, 'balanced_accuracy': 0.8415519248057521, 'mcc': 0.8287475365843554, 'train_loss': 0.16149015109944687}\n",
      "Epoch 5/20\n"
     ]
    },
    {
     "name": "stderr",
     "output_type": "stream",
     "text": [
      "100%|██████████| 3151/3151 [04:44<00:00, 11.09it/s]\n"
     ]
    },
    {
     "name": "stdout",
     "output_type": "stream",
     "text": [
      "{'val_loss': 0.5754280767315982, 'val_accuracy': 0.8533404596472475, 'precision': 0.8567548765196, 'recall': 0.8533404596472475, 'f1-score': 0.8539464862011876, 'macro_f1-score': 0.8461429184303388, 'balanced_accuracy': 0.8639341683339422, 'mcc': 0.8206057301122001, 'train_loss': 0.11854903266918279}\n",
      "Epoch 6/20\n"
     ]
    },
    {
     "name": "stderr",
     "output_type": "stream",
     "text": [
      "100%|██████████| 3151/3151 [04:44<00:00, 11.09it/s]\n"
     ]
    },
    {
     "name": "stdout",
     "output_type": "stream",
     "text": [
      "{'val_loss': 0.6325322821111474, 'val_accuracy': 0.8538749331908071, 'precision': 0.856107525694797, 'recall': 0.8538749331908071, 'f1-score': 0.8541911260063508, 'macro_f1-score': 0.8512312691718459, 'balanced_accuracy': 0.8546325430233814, 'mcc': 0.8206656885896985, 'train_loss': 0.09195568665657923}\n",
      "Epoch 7/20\n"
     ]
    },
    {
     "name": "stderr",
     "output_type": "stream",
     "text": [
      "100%|██████████| 3151/3151 [04:44<00:00, 11.08it/s]\n"
     ]
    },
    {
     "name": "stdout",
     "output_type": "stream",
     "text": [
      "{'val_loss': 0.599082200632144, 'val_accuracy': 0.8549438802779262, 'precision': 0.8590105467146875, 'recall': 0.8549438802779262, 'f1-score': 0.8554813396617897, 'macro_f1-score': 0.8518416486484233, 'balanced_accuracy': 0.8519617463234763, 'mcc': 0.8219148729340824, 'train_loss': 0.08062658658963771}\n",
      "Early stopping.\n",
      "\n",
      "[Fold 2]\n",
      "🚀 Using Word2Vec + EDA (replace + deletion/swap) for data augmentation + under-sampling\n",
      "🔧 Augmenting label 1: 1400 → 5000 (+3600)\n",
      "🔧 Augmenting label 4: 1678 → 5000 (+3322)\n",
      "🔧 Augmenting label 6: 1737 → 5000 (+3263)\n",
      "🔧 Augmenting label 7: 2186 → 5000 (+2814)\n",
      "Label distribution after resampling:\n",
      "  label 0: 5626\n",
      "  label 1: 5000\n",
      "  label 2: 8442\n",
      "  label 3: 10770\n",
      "  label 4: 5000\n",
      "  label 5: 5578\n",
      "  label 6: 5000\n",
      "  label 7: 5000\n",
      "model is bert-base-uncased lstm\n",
      "Epoch 1/20\n"
     ]
    },
    {
     "name": "stderr",
     "output_type": "stream",
     "text": [
      "100%|██████████| 3151/3151 [04:44<00:00, 11.08it/s]\n"
     ]
    },
    {
     "name": "stdout",
     "output_type": "stream",
     "text": [
      "{'val_loss': 0.46686019247923144, 'val_accuracy': 0.8428647781934794, 'precision': 0.8463426185376237, 'recall': 0.8428647781934794, 'f1-score': 0.8424071845322041, 'macro_f1-score': 0.8422704773752061, 'balanced_accuracy': 0.8639248110805853, 'mcc': 0.8088887497615262, 'train_loss': 0.5473521200757354}\n",
      "Epoch 2/20\n"
     ]
    },
    {
     "name": "stderr",
     "output_type": "stream",
     "text": [
      "100%|██████████| 3151/3151 [04:44<00:00, 11.09it/s]\n"
     ]
    },
    {
     "name": "stdout",
     "output_type": "stream",
     "text": [
      "{'val_loss': 0.4381354149542431, 'val_accuracy': 0.8489577765900588, 'precision': 0.8507828959901093, 'recall': 0.8489577765900588, 'f1-score': 0.848443912007807, 'macro_f1-score': 0.8492592621908472, 'balanced_accuracy': 0.8600392632973529, 'mcc': 0.815222971310094, 'train_loss': 0.3138475867847802}\n",
      "Epoch 3/20\n"
     ]
    },
    {
     "name": "stderr",
     "output_type": "stream",
     "text": [
      "100%|██████████| 3151/3151 [04:43<00:00, 11.10it/s]\n"
     ]
    },
    {
     "name": "stdout",
     "output_type": "stream",
     "text": [
      "{'val_loss': 0.49165069341229706, 'val_accuracy': 0.8489577765900588, 'precision': 0.8536418907522818, 'recall': 0.8489577765900588, 'f1-score': 0.8499455025975239, 'macro_f1-score': 0.8441847942531019, 'balanced_accuracy': 0.8648107818643402, 'mcc': 0.8156180196381221, 'train_loss': 0.21297703172789278}\n",
      "Epoch 4/20\n"
     ]
    },
    {
     "name": "stderr",
     "output_type": "stream",
     "text": [
      "100%|██████████| 3151/3151 [04:44<00:00, 11.09it/s]\n"
     ]
    },
    {
     "name": "stdout",
     "output_type": "stream",
     "text": [
      "{'val_loss': 0.5709650813753151, 'val_accuracy': 0.8415820416889364, 'precision': 0.847563149135906, 'recall': 0.8415820416889364, 'f1-score': 0.842177730381974, 'macro_f1-score': 0.8385960963193345, 'balanced_accuracy': 0.8520006689181577, 'mcc': 0.8061635073679553, 'train_loss': 0.15271303395256552}\n",
      "Epoch 5/20\n"
     ]
    },
    {
     "name": "stderr",
     "output_type": "stream",
     "text": [
      "100%|██████████| 3151/3151 [04:44<00:00, 11.09it/s]\n"
     ]
    },
    {
     "name": "stdout",
     "output_type": "stream",
     "text": [
      "{'val_loss': 0.5822515367012885, 'val_accuracy': 0.8493853554249065, 'precision': 0.8525141931428507, 'recall': 0.8493853554249065, 'f1-score': 0.8496707382843771, 'macro_f1-score': 0.8451602547620966, 'balanced_accuracy': 0.8593104028896534, 'mcc': 0.8156261714995441, 'train_loss': 0.11375246866249578}\n",
      "Early stopping.\n",
      "\n",
      "[Fold 3]\n",
      "🚀 Using Word2Vec + EDA (replace + deletion/swap) for data augmentation + under-sampling\n",
      "🔧 Augmenting label 1: 1399 → 5000 (+3601)\n",
      "🔧 Augmenting label 4: 1679 → 5000 (+3321)\n",
      "🔧 Augmenting label 6: 1738 → 5000 (+3262)\n",
      "🔧 Augmenting label 7: 2186 → 5000 (+2814)\n",
      "Label distribution after resampling:\n",
      "  label 0: 5626\n",
      "  label 1: 5000\n",
      "  label 2: 8442\n",
      "  label 3: 10770\n",
      "  label 4: 5000\n",
      "  label 5: 5578\n",
      "  label 6: 5000\n",
      "  label 7: 5000\n",
      "model is bert-base-uncased lstm\n",
      "Epoch 1/20\n"
     ]
    },
    {
     "name": "stderr",
     "output_type": "stream",
     "text": [
      "100%|██████████| 3151/3151 [04:44<00:00, 11.07it/s]\n"
     ]
    },
    {
     "name": "stdout",
     "output_type": "stream",
     "text": [
      "{'val_loss': 0.4469171268371945, 'val_accuracy': 0.8531109685695959, 'precision': 0.856474623734114, 'recall': 0.8531109685695959, 'f1-score': 0.852359692327241, 'macro_f1-score': 0.853538355248551, 'balanced_accuracy': 0.845039302826514, 'mcc': 0.8191388077968212, 'train_loss': 0.5659562361283894}\n",
      "Epoch 2/20\n"
     ]
    },
    {
     "name": "stderr",
     "output_type": "stream",
     "text": [
      "100%|██████████| 3151/3151 [04:44<00:00, 11.08it/s]\n"
     ]
    },
    {
     "name": "stdout",
     "output_type": "stream",
     "text": [
      "{'val_loss': 0.4108463109240063, 'val_accuracy': 0.859204618345093, 'precision': 0.8619933662712204, 'recall': 0.859204618345093, 'f1-score': 0.8588777537201767, 'macro_f1-score': 0.8574046128441588, 'balanced_accuracy': 0.8556203510796663, 'mcc': 0.827246103937503, 'train_loss': 0.3264647761017843}\n",
      "Epoch 3/20\n"
     ]
    },
    {
     "name": "stderr",
     "output_type": "stream",
     "text": [
      "100%|██████████| 3151/3151 [04:44<00:00, 11.08it/s]\n"
     ]
    },
    {
     "name": "stdout",
     "output_type": "stream",
     "text": [
      "{'val_loss': 0.45456092804749937, 'val_accuracy': 0.8625187085738721, 'precision': 0.8661922771806619, 'recall': 0.8625187085738721, 'f1-score': 0.863592310895076, 'macro_f1-score': 0.8577605325182245, 'balanced_accuracy': 0.8651309371200455, 'mcc': 0.8311545265094227, 'train_loss': 0.2227903731808395}\n",
      "Epoch 4/20\n"
     ]
    },
    {
     "name": "stderr",
     "output_type": "stream",
     "text": [
      "100%|██████████| 3151/3151 [04:44<00:00, 11.09it/s]\n"
     ]
    },
    {
     "name": "stdout",
     "output_type": "stream",
     "text": [
      "{'val_loss': 0.5205360560244124, 'val_accuracy': 0.8580286508445585, 'precision': 0.8600887340680609, 'recall': 0.8580286508445585, 'f1-score': 0.8579137436054836, 'macro_f1-score': 0.8512679503445528, 'balanced_accuracy': 0.8461068787515671, 'mcc': 0.8255180833419615, 'train_loss': 0.16199090782953005}\n",
      "Epoch 5/20\n"
     ]
    },
    {
     "name": "stderr",
     "output_type": "stream",
     "text": [
      "100%|██████████| 3151/3151 [04:43<00:00, 11.10it/s]\n"
     ]
    },
    {
     "name": "stdout",
     "output_type": "stream",
     "text": [
      "{'val_loss': 0.4979520570391264, 'val_accuracy': 0.8639084883472311, 'precision': 0.8648771034993797, 'recall': 0.8639084883472311, 'f1-score': 0.8641129469253671, 'macro_f1-score': 0.8600662989495899, 'balanced_accuracy': 0.8652520328988343, 'mcc': 0.8327607076670517, 'train_loss': 0.12342653109795337}\n",
      "Epoch 6/20\n"
     ]
    },
    {
     "name": "stderr",
     "output_type": "stream",
     "text": [
      "100%|██████████| 3151/3151 [04:44<00:00, 11.08it/s]\n"
     ]
    },
    {
     "name": "stdout",
     "output_type": "stream",
     "text": [
      "{'val_loss': 0.630923364795028, 'val_accuracy': 0.8534316869788325, 'precision': 0.8562226388789342, 'recall': 0.8534316869788325, 'f1-score': 0.854157430471028, 'macro_f1-score': 0.849727920534872, 'balanced_accuracy': 0.8562057699261659, 'mcc': 0.8198149439094355, 'train_loss': 0.09454961144978666}\n",
      "Epoch 7/20\n"
     ]
    },
    {
     "name": "stderr",
     "output_type": "stream",
     "text": [
      "100%|██████████| 3151/3151 [04:44<00:00, 11.09it/s]\n"
     ]
    },
    {
     "name": "stdout",
     "output_type": "stream",
     "text": [
      "{'val_loss': 0.6027945093034456, 'val_accuracy': 0.8577079324353218, 'precision': 0.8594631797833385, 'recall': 0.8577079324353218, 'f1-score': 0.8575901018138751, 'macro_f1-score': 0.8542196154399562, 'balanced_accuracy': 0.8522512886095786, 'mcc': 0.8254690147833734, 'train_loss': 0.086371788310383}\n",
      "Epoch 8/20\n"
     ]
    },
    {
     "name": "stderr",
     "output_type": "stream",
     "text": [
      "100%|██████████| 3151/3151 [04:44<00:00, 11.08it/s]\n"
     ]
    },
    {
     "name": "stdout",
     "output_type": "stream",
     "text": [
      "{'val_loss': 0.6026023336256353, 'val_accuracy': 0.8603805858456275, 'precision': 0.8621009920286807, 'recall': 0.8603805858456275, 'f1-score': 0.8604110904179387, 'macro_f1-score': 0.8520024802079393, 'balanced_accuracy': 0.8634625631716183, 'mcc': 0.8289025377099039, 'train_loss': 0.07832020165322276}\n",
      "Early stopping.\n",
      "\n",
      "[Fold 4]\n",
      "🚀 Using Word2Vec + EDA (replace + deletion/swap) for data augmentation + under-sampling\n",
      "🔧 Augmenting label 1: 1399 → 5000 (+3601)\n",
      "🔧 Augmenting label 4: 1679 → 5000 (+3321)\n",
      "🔧 Augmenting label 6: 1738 → 5000 (+3262)\n",
      "🔧 Augmenting label 7: 2186 → 5000 (+2814)\n",
      "Label distribution after resampling:\n",
      "  label 0: 5625\n",
      "  label 1: 5000\n",
      "  label 2: 8441\n",
      "  label 3: 10771\n",
      "  label 4: 5000\n",
      "  label 5: 5579\n",
      "  label 6: 5000\n",
      "  label 7: 5000\n",
      "model is bert-base-uncased lstm\n",
      "Epoch 1/20\n"
     ]
    },
    {
     "name": "stderr",
     "output_type": "stream",
     "text": [
      "100%|██████████| 3151/3151 [04:44<00:00, 11.09it/s]\n"
     ]
    },
    {
     "name": "stdout",
     "output_type": "stream",
     "text": [
      "{'val_loss': 0.4747141424757548, 'val_accuracy': 0.840602950609365, 'precision': 0.8472960495991416, 'recall': 0.840602950609365, 'f1-score': 0.841421296206066, 'macro_f1-score': 0.8334306772939601, 'balanced_accuracy': 0.8648427006506679, 'mcc': 0.8059430665146031, 'train_loss': 0.5732037822019294}\n",
      "Epoch 2/20\n"
     ]
    },
    {
     "name": "stderr",
     "output_type": "stream",
     "text": [
      "100%|██████████| 3151/3151 [04:44<00:00, 11.09it/s]\n"
     ]
    },
    {
     "name": "stdout",
     "output_type": "stream",
     "text": [
      "{'val_loss': 0.49527234386047747, 'val_accuracy': 0.8412443874278384, 'precision': 0.8485366042511637, 'recall': 0.8412443874278384, 'f1-score': 0.8410115966560229, 'macro_f1-score': 0.844189147984327, 'balanced_accuracy': 0.8544497926390772, 'mcc': 0.8074497071632433, 'train_loss': 0.32229071023059114}\n",
      "Epoch 3/20\n"
     ]
    },
    {
     "name": "stderr",
     "output_type": "stream",
     "text": [
      "100%|██████████| 3151/3151 [04:44<00:00, 11.09it/s]\n"
     ]
    },
    {
     "name": "stdout",
     "output_type": "stream",
     "text": [
      "{'val_loss': 0.44233701648668217, 'val_accuracy': 0.8589908060722685, 'precision': 0.8610322778850182, 'recall': 0.8589908060722685, 'f1-score': 0.8589067474571986, 'macro_f1-score': 0.8592900238315153, 'balanced_accuracy': 0.8670918038158176, 'mcc': 0.8274889107265472, 'train_loss': 0.2209946727483604}\n",
      "Epoch 4/20\n"
     ]
    },
    {
     "name": "stderr",
     "output_type": "stream",
     "text": [
      "100%|██████████| 3151/3151 [04:43<00:00, 11.10it/s]\n"
     ]
    },
    {
     "name": "stdout",
     "output_type": "stream",
     "text": [
      "{'val_loss': 0.47666253504685613, 'val_accuracy': 0.8630532392559332, 'precision': 0.8637163186258566, 'recall': 0.8630532392559332, 'f1-score': 0.863105076148085, 'macro_f1-score': 0.8634706202526503, 'balanced_accuracy': 0.8664893828725702, 'mcc': 0.8319120916939466, 'train_loss': 0.15544878840665188}\n",
      "Epoch 5/20\n"
     ]
    },
    {
     "name": "stderr",
     "output_type": "stream",
     "text": [
      "100%|██████████| 3151/3151 [04:44<00:00, 11.08it/s]\n"
     ]
    },
    {
     "name": "stdout",
     "output_type": "stream",
     "text": [
      "{'val_loss': 0.5486755520336203, 'val_accuracy': 0.8579217447081462, 'precision': 0.8584480992548141, 'recall': 0.8579217447081462, 'f1-score': 0.857746000670143, 'macro_f1-score': 0.85389431780281, 'balanced_accuracy': 0.8603614678018994, 'mcc': 0.825605533095556, 'train_loss': 0.11809656481638076}\n",
      "Epoch 6/20\n"
     ]
    },
    {
     "name": "stderr",
     "output_type": "stream",
     "text": [
      "100%|██████████| 3151/3151 [04:44<00:00, 11.09it/s]\n"
     ]
    },
    {
     "name": "stdout",
     "output_type": "stream",
     "text": [
      "{'val_loss': 0.5610014196361901, 'val_accuracy': 0.8590977122086808, 'precision': 0.8600236727808109, 'recall': 0.8590977122086808, 'f1-score': 0.8592375633295842, 'macro_f1-score': 0.8539798560217632, 'balanced_accuracy': 0.8645279718278815, 'mcc': 0.827007569824003, 'train_loss': 0.09495415301122757}\n",
      "Epoch 7/20\n"
     ]
    },
    {
     "name": "stderr",
     "output_type": "stream",
     "text": [
      "100%|██████████| 3151/3151 [04:44<00:00, 11.08it/s]\n"
     ]
    },
    {
     "name": "stdout",
     "output_type": "stream",
     "text": [
      "{'val_loss': 0.7357197279188161, 'val_accuracy': 0.8496899722044046, 'precision': 0.8512970661585545, 'recall': 0.8496899722044046, 'f1-score': 0.8494665833185487, 'macro_f1-score': 0.8498269758959963, 'balanced_accuracy': 0.85548178166113, 'mcc': 0.8162570072068277, 'train_loss': 0.08118642061437524}\n",
      "Early stopping.\n",
      "\n",
      "[Fold 5]\n",
      "🚀 Using Word2Vec + EDA (replace + deletion/swap) for data augmentation + under-sampling\n",
      "🔧 Augmenting label 1: 1399 → 5000 (+3601)\n",
      "🔧 Augmenting label 4: 1678 → 5000 (+3322)\n",
      "🔧 Augmenting label 6: 1738 → 5000 (+3262)\n",
      "🔧 Augmenting label 7: 2187 → 5000 (+2813)\n",
      "Label distribution after resampling:\n",
      "  label 0: 5625\n",
      "  label 1: 5000\n",
      "  label 2: 8441\n",
      "  label 3: 10771\n",
      "  label 4: 5000\n",
      "  label 5: 5579\n",
      "  label 6: 5000\n",
      "  label 7: 5000\n",
      "model is bert-base-uncased lstm\n",
      "Epoch 1/20\n"
     ]
    },
    {
     "name": "stderr",
     "output_type": "stream",
     "text": [
      "100%|██████████| 3151/3151 [04:44<00:00, 11.09it/s]\n"
     ]
    },
    {
     "name": "stdout",
     "output_type": "stream",
     "text": [
      "{'val_loss': 0.531314301594264, 'val_accuracy': 0.8168697883258499, 'precision': 0.8336196646619987, 'recall': 0.8168697883258499, 'f1-score': 0.816028039114739, 'macro_f1-score': 0.8061970048499763, 'balanced_accuracy': 0.8621765103996604, 'mcc': 0.7825344576497225, 'train_loss': 0.5597107986384906}\n",
      "Epoch 2/20\n"
     ]
    },
    {
     "name": "stderr",
     "output_type": "stream",
     "text": [
      "100%|██████████| 3151/3151 [04:44<00:00, 11.09it/s]\n"
     ]
    },
    {
     "name": "stdout",
     "output_type": "stream",
     "text": [
      "{'val_loss': 0.4491364361081495, 'val_accuracy': 0.8534316869788325, 'precision': 0.8584527451826179, 'recall': 0.8534316869788325, 'f1-score': 0.8536946148994053, 'macro_f1-score': 0.8503500295931191, 'balanced_accuracy': 0.8569101178162757, 'mcc': 0.8200681935606879, 'train_loss': 0.31897820192216286}\n",
      "Epoch 3/20\n"
     ]
    },
    {
     "name": "stderr",
     "output_type": "stream",
     "text": [
      "100%|██████████| 3151/3151 [04:44<00:00, 11.09it/s]\n"
     ]
    },
    {
     "name": "stdout",
     "output_type": "stream",
     "text": [
      "{'val_loss': 0.45850475028189075, 'val_accuracy': 0.859204618345093, 'precision': 0.8610730639979696, 'recall': 0.859204618345093, 'f1-score': 0.8595173370199796, 'macro_f1-score': 0.857101525766159, 'balanced_accuracy': 0.8645605471080982, 'mcc': 0.8271646513422511, 'train_loss': 0.22235532179214734}\n",
      "Epoch 4/20\n"
     ]
    },
    {
     "name": "stderr",
     "output_type": "stream",
     "text": [
      "100%|██████████| 3151/3151 [04:44<00:00, 11.09it/s]\n"
     ]
    },
    {
     "name": "stdout",
     "output_type": "stream",
     "text": [
      "{'val_loss': 0.48812318154706213, 'val_accuracy': 0.8612358349369253, 'precision': 0.8636434154785024, 'recall': 0.8612358349369253, 'f1-score': 0.8616185769045466, 'macro_f1-score': 0.8587279886595967, 'balanced_accuracy': 0.8542856656368235, 'mcc': 0.8294906484620751, 'train_loss': 0.1611287905983875}\n",
      "Epoch 5/20\n"
     ]
    },
    {
     "name": "stderr",
     "output_type": "stream",
     "text": [
      "100%|██████████| 3151/3151 [04:44<00:00, 11.09it/s]\n"
     ]
    },
    {
     "name": "stdout",
     "output_type": "stream",
     "text": [
      "{'val_loss': 0.5868506252413425, 'val_accuracy': 0.8514004703870002, 'precision': 0.8544843361979302, 'recall': 0.8514004703870002, 'f1-score': 0.8515915129706666, 'macro_f1-score': 0.8510161216146398, 'balanced_accuracy': 0.8499702400428604, 'mcc': 0.8180425227168707, 'train_loss': 0.1196969988520465}\n",
      "Epoch 6/20\n"
     ]
    },
    {
     "name": "stderr",
     "output_type": "stream",
     "text": [
      "100%|██████████| 3151/3151 [04:44<00:00, 11.09it/s]\n"
     ]
    },
    {
     "name": "stdout",
     "output_type": "stream",
     "text": [
      "{'val_loss': 0.5792580194566319, 'val_accuracy': 0.8595253367543297, 'precision': 0.8610694432402282, 'recall': 0.8595253367543297, 'f1-score': 0.8598684864374542, 'macro_f1-score': 0.8554415017659142, 'balanced_accuracy': 0.8615846906928746, 'mcc': 0.827315797162419, 'train_loss': 0.09473165119608012}\n",
      "Epoch 7/20\n"
     ]
    },
    {
     "name": "stderr",
     "output_type": "stream",
     "text": [
      "100%|██████████| 3151/3151 [04:44<00:00, 11.08it/s]\n"
     ]
    },
    {
     "name": "stdout",
     "output_type": "stream",
     "text": [
      "{'val_loss': 0.6525937026937723, 'val_accuracy': 0.852683344023947, 'precision': 0.8542079477456577, 'recall': 0.852683344023947, 'f1-score': 0.8525990121709582, 'macro_f1-score': 0.8530075130456357, 'balanced_accuracy': 0.857781769858235, 'mcc': 0.8197241767751557, 'train_loss': 0.07831524226588624}\n",
      "Early stopping.\n",
      "\n",
      " === bert-base-uncased + lstm + word2vec_eda Final 5-fold Cross-Validation Results ===\n",
      "val_loss: 0.4771\n",
      "val_accuracy: 0.8597\n",
      "precision: 0.8617\n",
      "recall: 0.8597\n",
      "f1-score: 0.8598\n",
      "macro_f1-score: 0.8576\n",
      "balanced_accuracy: 0.8575\n",
      "mcc: 0.8276\n",
      "train_loss: 0.1831\n",
      "total_seconds: 10525.0000\n",
      "total_time: 2 hrs 55 mins 25 secs\n",
      "▶ Running: bert-base-uncased + bilstm + word2vec_eda\n",
      "tokenizer is bert-base-uncased\n",
      "Using device: cuda\n",
      "CUDA Available: True\n",
      "CUDA Device: NVIDIA GeForce RTX 5070 Ti\n",
      "Current GPU Memory Allocated: 0.02 GB\n",
      "Current GPU Memory Cached: 3.14 GB\n",
      "\n",
      "[Fold 1]\n",
      "🚀 Using Word2Vec + EDA (replace + deletion/swap) for data augmentation + under-sampling\n",
      "🔧 Augmenting label 1: 1399 → 5000 (+3601)\n",
      "🔧 Augmenting label 4: 1678 → 5000 (+3322)\n",
      "🔧 Augmenting label 6: 1737 → 5000 (+3263)\n",
      "🔧 Augmenting label 7: 2187 → 5000 (+2813)\n",
      "Label distribution after resampling:\n",
      "  label 0: 5626\n",
      "  label 1: 5000\n",
      "  label 2: 8442\n",
      "  label 3: 10770\n",
      "  label 4: 5000\n",
      "  label 5: 5578\n",
      "  label 6: 5000\n",
      "  label 7: 5000\n",
      "model is bert-base-uncased bilstm\n",
      "Epoch 1/20\n"
     ]
    },
    {
     "name": "stderr",
     "output_type": "stream",
     "text": [
      "100%|██████████| 3151/3151 [04:53<00:00, 10.74it/s]\n"
     ]
    },
    {
     "name": "stdout",
     "output_type": "stream",
     "text": [
      "{'val_loss': 0.42917665306192176, 'val_accuracy': 0.8563335114911812, 'precision': 0.8571733418271005, 'recall': 0.8563335114911812, 'f1-score': 0.8560624378378107, 'macro_f1-score': 0.8535013828436204, 'balanced_accuracy': 0.8555884735777262, 'mcc': 0.823658042594506, 'train_loss': 0.5580096110921461}\n",
      "Epoch 2/20\n"
     ]
    },
    {
     "name": "stderr",
     "output_type": "stream",
     "text": [
      "100%|██████████| 3151/3151 [04:52<00:00, 10.76it/s]\n"
     ]
    },
    {
     "name": "stdout",
     "output_type": "stream",
     "text": [
      "{'val_loss': 0.4177756742088713, 'val_accuracy': 0.8599679315873864, 'precision': 0.8607627931827913, 'recall': 0.8599679315873864, 'f1-score': 0.8599999432062028, 'macro_f1-score': 0.8509178023085348, 'balanced_accuracy': 0.8517275853069536, 'mcc': 0.8279163269876674, 'train_loss': 0.3177234250972339}\n",
      "Epoch 3/20\n"
     ]
    },
    {
     "name": "stderr",
     "output_type": "stream",
     "text": [
      "100%|██████████| 3151/3151 [04:53<00:00, 10.75it/s]\n"
     ]
    },
    {
     "name": "stdout",
     "output_type": "stream",
     "text": [
      "{'val_loss': 0.4795382140347591, 'val_accuracy': 0.8505611972207375, 'precision': 0.8523092721410417, 'recall': 0.8505611972207375, 'f1-score': 0.8505171374396527, 'macro_f1-score': 0.8448762660443807, 'balanced_accuracy': 0.8509961831810973, 'mcc': 0.8170209813338253, 'train_loss': 0.21751067770886795}\n",
      "Epoch 4/20\n"
     ]
    },
    {
     "name": "stderr",
     "output_type": "stream",
     "text": [
      "100%|██████████| 3151/3151 [04:53<00:00, 10.75it/s]\n"
     ]
    },
    {
     "name": "stdout",
     "output_type": "stream",
     "text": [
      "{'val_loss': 0.4613192298919217, 'val_accuracy': 0.8650988776055585, 'precision': 0.8654977677904441, 'recall': 0.8650988776055585, 'f1-score': 0.8651774989733862, 'macro_f1-score': 0.8588541170350229, 'balanced_accuracy': 0.8602153063958091, 'mcc': 0.8341833222199894, 'train_loss': 0.15420687813338416}\n",
      "Epoch 5/20\n"
     ]
    },
    {
     "name": "stderr",
     "output_type": "stream",
     "text": [
      "100%|██████████| 3151/3151 [04:52<00:00, 10.77it/s]\n"
     ]
    },
    {
     "name": "stdout",
     "output_type": "stream",
     "text": [
      "{'val_loss': 0.5482043605031143, 'val_accuracy': 0.8533404596472475, 'precision': 0.8549647725871715, 'recall': 0.8533404596472475, 'f1-score': 0.8534247003979553, 'macro_f1-score': 0.8472156001217821, 'balanced_accuracy': 0.8591746388462282, 'mcc': 0.82070433130355, 'train_loss': 0.11501930376259277}\n",
      "Epoch 6/20\n"
     ]
    },
    {
     "name": "stderr",
     "output_type": "stream",
     "text": [
      "100%|██████████| 3151/3151 [04:52<00:00, 10.77it/s]\n"
     ]
    },
    {
     "name": "stdout",
     "output_type": "stream",
     "text": [
      "{'val_loss': 0.569129867419505, 'val_accuracy': 0.8557990379476216, 'precision': 0.8593558425338612, 'recall': 0.8557990379476216, 'f1-score': 0.8567271456501003, 'macro_f1-score': 0.8497339188044122, 'balanced_accuracy': 0.8561863331191463, 'mcc': 0.8232743122727753, 'train_loss': 0.09215867260601182}\n",
      "Epoch 7/20\n"
     ]
    },
    {
     "name": "stderr",
     "output_type": "stream",
     "text": [
      "100%|██████████| 3151/3151 [04:53<00:00, 10.75it/s]\n"
     ]
    },
    {
     "name": "stdout",
     "output_type": "stream",
     "text": [
      "{'val_loss': 0.6011206808882072, 'val_accuracy': 0.8569748797434527, 'precision': 0.8587191999188267, 'recall': 0.8569748797434527, 'f1-score': 0.8572309869510737, 'macro_f1-score': 0.8530068869485133, 'balanced_accuracy': 0.8547197497547219, 'mcc': 0.824253490839404, 'train_loss': 0.07612645172406732}\n",
      "Early stopping.\n",
      "\n",
      "[Fold 2]\n",
      "🚀 Using Word2Vec + EDA (replace + deletion/swap) for data augmentation + under-sampling\n",
      "🔧 Augmenting label 1: 1400 → 5000 (+3600)\n",
      "🔧 Augmenting label 4: 1678 → 5000 (+3322)\n",
      "🔧 Augmenting label 6: 1737 → 5000 (+3263)\n",
      "🔧 Augmenting label 7: 2186 → 5000 (+2814)\n",
      "Label distribution after resampling:\n",
      "  label 0: 5626\n",
      "  label 1: 5000\n",
      "  label 2: 8442\n",
      "  label 3: 10770\n",
      "  label 4: 5000\n",
      "  label 5: 5578\n",
      "  label 6: 5000\n",
      "  label 7: 5000\n",
      "model is bert-base-uncased bilstm\n",
      "Epoch 1/20\n"
     ]
    },
    {
     "name": "stderr",
     "output_type": "stream",
     "text": [
      "100%|██████████| 3151/3151 [04:52<00:00, 10.76it/s]\n"
     ]
    },
    {
     "name": "stdout",
     "output_type": "stream",
     "text": [
      "{'val_loss': 0.5184389461691563, 'val_accuracy': 0.8227685729556387, 'precision': 0.8334106838062423, 'recall': 0.8227685729556387, 'f1-score': 0.8230149089312349, 'macro_f1-score': 0.8215425280778617, 'balanced_accuracy': 0.8564688493685546, 'mcc': 0.7861236372239983, 'train_loss': 0.5518466322882304}\n",
      "Epoch 2/20\n"
     ]
    },
    {
     "name": "stderr",
     "output_type": "stream",
     "text": [
      "100%|██████████| 3151/3151 [04:53<00:00, 10.74it/s]\n"
     ]
    },
    {
     "name": "stdout",
     "output_type": "stream",
     "text": [
      "{'val_loss': 0.4552103806987532, 'val_accuracy': 0.8479957242116515, 'precision': 0.8489196374954985, 'recall': 0.8479957242116515, 'f1-score': 0.8477260567970218, 'macro_f1-score': 0.8438555460441062, 'balanced_accuracy': 0.8422851118146975, 'mcc': 0.8130905955415572, 'train_loss': 0.30448588011038563}\n",
      "Epoch 3/20\n"
     ]
    },
    {
     "name": "stderr",
     "output_type": "stream",
     "text": [
      "100%|██████████| 3151/3151 [04:52<00:00, 10.76it/s]\n"
     ]
    },
    {
     "name": "stdout",
     "output_type": "stream",
     "text": [
      "{'val_loss': 0.47337020779681255, 'val_accuracy': 0.850026723677178, 'precision': 0.852330767136234, 'recall': 0.850026723677178, 'f1-score': 0.8502261623841624, 'macro_f1-score': 0.847796041042105, 'balanced_accuracy': 0.8572095463637663, 'mcc': 0.8167204654311322, 'train_loss': 0.20669237145963704}\n",
      "Epoch 4/20\n"
     ]
    },
    {
     "name": "stderr",
     "output_type": "stream",
     "text": [
      "100%|██████████| 3151/3151 [04:53<00:00, 10.74it/s]\n"
     ]
    },
    {
     "name": "stdout",
     "output_type": "stream",
     "text": [
      "{'val_loss': 0.5099716744250339, 'val_accuracy': 0.8561197220737573, 'precision': 0.8576578162393711, 'recall': 0.8561197220737573, 'f1-score': 0.856144771400732, 'macro_f1-score': 0.8537772854587713, 'balanced_accuracy': 0.8625113573905137, 'mcc': 0.8239071413081446, 'train_loss': 0.1437016597690202}\n",
      "Epoch 5/20\n"
     ]
    },
    {
     "name": "stderr",
     "output_type": "stream",
     "text": [
      "100%|██████████| 3151/3151 [04:52<00:00, 10.76it/s]\n"
     ]
    },
    {
     "name": "stdout",
     "output_type": "stream",
     "text": [
      "{'val_loss': 0.588516452562653, 'val_accuracy': 0.8535542490646713, 'precision': 0.8542820052840358, 'recall': 0.8535542490646713, 'f1-score': 0.8532877945504936, 'macro_f1-score': 0.8491272047979553, 'balanced_accuracy': 0.8501316571339876, 'mcc': 0.8196641726017352, 'train_loss': 0.10428870049094967}\n",
      "Epoch 6/20\n"
     ]
    },
    {
     "name": "stderr",
     "output_type": "stream",
     "text": [
      "100%|██████████| 3151/3151 [04:52<00:00, 10.76it/s]\n"
     ]
    },
    {
     "name": "stdout",
     "output_type": "stream",
     "text": [
      "{'val_loss': 0.5867238714717902, 'val_accuracy': 0.8484233030464992, 'precision': 0.8494742935185257, 'recall': 0.8484233030464992, 'f1-score': 0.8481657466550403, 'macro_f1-score': 0.8464669355488199, 'balanced_accuracy': 0.8532940555176574, 'mcc': 0.8144992507960552, 'train_loss': 0.08704487611035724}\n",
      "Epoch 7/20\n"
     ]
    },
    {
     "name": "stderr",
     "output_type": "stream",
     "text": [
      "100%|██████████| 3151/3151 [04:52<00:00, 10.78it/s]\n"
     ]
    },
    {
     "name": "stdout",
     "output_type": "stream",
     "text": [
      "{'val_loss': 0.7205365811523377, 'val_accuracy': 0.8392303580972742, 'precision': 0.8416907402639784, 'recall': 0.8392303580972742, 'f1-score': 0.8394466542888774, 'macro_f1-score': 0.8325055532672851, 'balanced_accuracy': 0.8374795303259004, 'mcc': 0.8027379080411821, 'train_loss': 0.07104359351567967}\n",
      "Early stopping.\n",
      "\n",
      "[Fold 3]\n",
      "🚀 Using Word2Vec + EDA (replace + deletion/swap) for data augmentation + under-sampling\n",
      "🔧 Augmenting label 1: 1399 → 5000 (+3601)\n",
      "🔧 Augmenting label 4: 1679 → 5000 (+3321)\n",
      "🔧 Augmenting label 6: 1738 → 5000 (+3262)\n",
      "🔧 Augmenting label 7: 2186 → 5000 (+2814)\n",
      "Label distribution after resampling:\n",
      "  label 0: 5626\n",
      "  label 1: 5000\n",
      "  label 2: 8442\n",
      "  label 3: 10770\n",
      "  label 4: 5000\n",
      "  label 5: 5578\n",
      "  label 6: 5000\n",
      "  label 7: 5000\n",
      "model is bert-base-uncased bilstm\n",
      "Epoch 1/20\n"
     ]
    },
    {
     "name": "stderr",
     "output_type": "stream",
     "text": [
      "100%|██████████| 3151/3151 [04:53<00:00, 10.74it/s]\n"
     ]
    },
    {
     "name": "stdout",
     "output_type": "stream",
     "text": [
      "{'val_loss': 0.48827155023558527, 'val_accuracy': 0.8397477015180671, 'precision': 0.8505632971830916, 'recall': 0.8397477015180671, 'f1-score': 0.8412218629615194, 'macro_f1-score': 0.8261310915546123, 'balanced_accuracy': 0.8677098950297482, 'mcc': 0.8066742099416675, 'train_loss': 0.5601562616955909}\n",
      "Epoch 2/20\n"
     ]
    },
    {
     "name": "stderr",
     "output_type": "stream",
     "text": [
      "100%|██████████| 3151/3151 [04:53<00:00, 10.74it/s]\n"
     ]
    },
    {
     "name": "stdout",
     "output_type": "stream",
     "text": [
      "{'val_loss': 0.4013016248074098, 'val_accuracy': 0.8688261706221937, 'precision': 0.8698406197554298, 'recall': 0.8688261706221937, 'f1-score': 0.868759466486532, 'macro_f1-score': 0.8643710335411662, 'balanced_accuracy': 0.8740736674366527, 'mcc': 0.838920095776952, 'train_loss': 0.31142372007637514}\n",
      "Epoch 3/20\n"
     ]
    },
    {
     "name": "stderr",
     "output_type": "stream",
     "text": [
      "100%|██████████| 3151/3151 [04:52<00:00, 10.76it/s]\n"
     ]
    },
    {
     "name": "stdout",
     "output_type": "stream",
     "text": [
      "{'val_loss': 0.4487280413396975, 'val_accuracy': 0.8646568313021168, 'precision': 0.8664370043389188, 'recall': 0.8646568313021168, 'f1-score': 0.8642269853788106, 'macro_f1-score': 0.8617872222575826, 'balanced_accuracy': 0.8582560942429582, 'mcc': 0.8337585740365876, 'train_loss': 0.21047787176240004}\n",
      "Epoch 4/20\n"
     ]
    },
    {
     "name": "stderr",
     "output_type": "stream",
     "text": [
      "100%|██████████| 3151/3151 [04:53<00:00, 10.74it/s]\n"
     ]
    },
    {
     "name": "stdout",
     "output_type": "stream",
     "text": [
      "{'val_loss': 0.45072672923501483, 'val_accuracy': 0.8680778276673081, 'precision': 0.8701507133496507, 'recall': 0.8680778276673081, 'f1-score': 0.8687185889662209, 'macro_f1-score': 0.8627089204376148, 'balanced_accuracy': 0.8666800788571091, 'mcc': 0.8379181372946644, 'train_loss': 0.14394774063701954}\n",
      "Epoch 5/20\n"
     ]
    },
    {
     "name": "stderr",
     "output_type": "stream",
     "text": [
      "100%|██████████| 3151/3151 [04:52<00:00, 10.76it/s]\n"
     ]
    },
    {
     "name": "stdout",
     "output_type": "stream",
     "text": [
      "{'val_loss': 0.5332297795261137, 'val_accuracy': 0.8675432969852469, 'precision': 0.8705249526517918, 'recall': 0.8675432969852469, 'f1-score': 0.8681821956142601, 'macro_f1-score': 0.8641574248460081, 'balanced_accuracy': 0.871915967155528, 'mcc': 0.8377907516445232, 'train_loss': 0.1051209752789058}\n",
      "Early stopping.\n",
      "\n",
      "[Fold 4]\n",
      "🚀 Using Word2Vec + EDA (replace + deletion/swap) for data augmentation + under-sampling\n",
      "🔧 Augmenting label 1: 1399 → 5000 (+3601)\n",
      "🔧 Augmenting label 4: 1679 → 5000 (+3321)\n",
      "🔧 Augmenting label 6: 1738 → 5000 (+3262)\n",
      "🔧 Augmenting label 7: 2186 → 5000 (+2814)\n",
      "Label distribution after resampling:\n",
      "  label 0: 5625\n",
      "  label 1: 5000\n",
      "  label 2: 8441\n",
      "  label 3: 10771\n",
      "  label 4: 5000\n",
      "  label 5: 5579\n",
      "  label 6: 5000\n",
      "  label 7: 5000\n",
      "model is bert-base-uncased bilstm\n",
      "Epoch 1/20\n"
     ]
    },
    {
     "name": "stderr",
     "output_type": "stream",
     "text": [
      "100%|██████████| 3151/3151 [04:53<00:00, 10.75it/s]\n"
     ]
    },
    {
     "name": "stdout",
     "output_type": "stream",
     "text": [
      "{'val_loss': 0.4507441000200999, 'val_accuracy': 0.8465896942484499, 'precision': 0.8521077870312269, 'recall': 0.8465896942484499, 'f1-score': 0.8477506597096406, 'macro_f1-score': 0.8460881235935901, 'balanced_accuracy': 0.8663002024777653, 'mcc': 0.8125809643421638, 'train_loss': 0.548428588579029}\n",
      "Epoch 2/20\n"
     ]
    },
    {
     "name": "stderr",
     "output_type": "stream",
     "text": [
      "100%|██████████| 3151/3151 [04:53<00:00, 10.74it/s]\n"
     ]
    },
    {
     "name": "stdout",
     "output_type": "stream",
     "text": [
      "{'val_loss': 0.41708281932191715, 'val_accuracy': 0.8598460551635664, 'precision': 0.8616052074428135, 'recall': 0.8598460551635664, 'f1-score': 0.86006812724516, 'macro_f1-score': 0.8586285563445003, 'balanced_accuracy': 0.8573040094184214, 'mcc': 0.8272970288085436, 'train_loss': 0.3116311648058413}\n",
      "Epoch 3/20\n"
     ]
    },
    {
     "name": "stderr",
     "output_type": "stream",
     "text": [
      "100%|██████████| 3151/3151 [04:53<00:00, 10.75it/s]\n"
     ]
    },
    {
     "name": "stdout",
     "output_type": "stream",
     "text": [
      "{'val_loss': 0.4449944530804761, 'val_accuracy': 0.8642292067564679, 'precision': 0.8665172654993339, 'recall': 0.8642292067564679, 'f1-score': 0.8644455501548629, 'macro_f1-score': 0.8617317262696478, 'balanced_accuracy': 0.8719445876042176, 'mcc': 0.8335241846309706, 'train_loss': 0.21410179845838012}\n",
      "Epoch 4/20\n"
     ]
    },
    {
     "name": "stderr",
     "output_type": "stream",
     "text": [
      "100%|██████████| 3151/3151 [04:52<00:00, 10.77it/s]\n"
     ]
    },
    {
     "name": "stdout",
     "output_type": "stream",
     "text": [
      "{'val_loss': 0.534564562779493, 'val_accuracy': 0.8493692537951678, 'precision': 0.8527365006536447, 'recall': 0.8493692537951678, 'f1-score': 0.849951226313364, 'macro_f1-score': 0.8453413270311096, 'balanced_accuracy': 0.8618046881727328, 'mcc': 0.8154888662155305, 'train_loss': 0.1469276385737677}\n",
      "Epoch 5/20\n"
     ]
    },
    {
     "name": "stderr",
     "output_type": "stream",
     "text": [
      "100%|██████████| 3151/3151 [04:52<00:00, 10.76it/s]\n"
     ]
    },
    {
     "name": "stdout",
     "output_type": "stream",
     "text": [
      "{'val_loss': 0.5217786187879168, 'val_accuracy': 0.8565319649347872, 'precision': 0.8576569430230047, 'recall': 0.8565319649347872, 'f1-score': 0.8561635962336656, 'macro_f1-score': 0.8568935949424545, 'balanced_accuracy': 0.8535497567994683, 'mcc': 0.823336116067064, 'train_loss': 0.10954949264184069}\n",
      "Epoch 6/20\n"
     ]
    },
    {
     "name": "stderr",
     "output_type": "stream",
     "text": [
      "100%|██████████| 3151/3151 [04:52<00:00, 10.76it/s]\n"
     ]
    },
    {
     "name": "stdout",
     "output_type": "stream",
     "text": [
      "{'val_loss': 0.6155570687352019, 'val_accuracy': 0.8556767158434894, 'precision': 0.8567565328781119, 'recall': 0.8556767158434894, 'f1-score': 0.8551955765578794, 'macro_f1-score': 0.85329063606094, 'balanced_accuracy': 0.8499159056283423, 'mcc': 0.8223502121492483, 'train_loss': 0.08632313479596683}\n",
      "Early stopping.\n",
      "\n",
      "[Fold 5]\n",
      "🚀 Using Word2Vec + EDA (replace + deletion/swap) for data augmentation + under-sampling\n",
      "🔧 Augmenting label 1: 1399 → 5000 (+3601)\n",
      "🔧 Augmenting label 4: 1678 → 5000 (+3322)\n",
      "🔧 Augmenting label 6: 1738 → 5000 (+3262)\n",
      "🔧 Augmenting label 7: 2187 → 5000 (+2813)\n",
      "Label distribution after resampling:\n",
      "  label 0: 5625\n",
      "  label 1: 5000\n",
      "  label 2: 8441\n",
      "  label 3: 10771\n",
      "  label 4: 5000\n",
      "  label 5: 5579\n",
      "  label 6: 5000\n",
      "  label 7: 5000\n",
      "model is bert-base-uncased bilstm\n",
      "Epoch 1/20\n"
     ]
    },
    {
     "name": "stderr",
     "output_type": "stream",
     "text": [
      "100%|██████████| 3151/3151 [04:53<00:00, 10.75it/s]\n"
     ]
    },
    {
     "name": "stdout",
     "output_type": "stream",
     "text": [
      "{'val_loss': 0.4450029696600559, 'val_accuracy': 0.8505452212957024, 'precision': 0.8538142484495816, 'recall': 0.8505452212957024, 'f1-score': 0.8505844851830885, 'macro_f1-score': 0.8513530646611034, 'balanced_accuracy': 0.8537233811238263, 'mcc': 0.8163102336078656, 'train_loss': 0.5474944738213059}\n",
      "Epoch 2/20\n"
     ]
    },
    {
     "name": "stderr",
     "output_type": "stream",
     "text": [
      "100%|██████████| 3151/3151 [04:53<00:00, 10.74it/s]\n"
     ]
    },
    {
     "name": "stdout",
     "output_type": "stream",
     "text": [
      "{'val_loss': 0.4290867077361824, 'val_accuracy': 0.8540731237973059, 'precision': 0.857469100787643, 'recall': 0.8540731237973059, 'f1-score': 0.8544335196808142, 'macro_f1-score': 0.8557108533912273, 'balanced_accuracy': 0.8486011059407439, 'mcc': 0.8201010722648336, 'train_loss': 0.29981925864847303}\n",
      "Epoch 3/20\n"
     ]
    },
    {
     "name": "stderr",
     "output_type": "stream",
     "text": [
      "100%|██████████| 3151/3151 [04:52<00:00, 10.76it/s]\n"
     ]
    },
    {
     "name": "stdout",
     "output_type": "stream",
     "text": [
      "{'val_loss': 0.4557646771415304, 'val_accuracy': 0.8609151165276887, 'precision': 0.8615024442665976, 'recall': 0.8609151165276887, 'f1-score': 0.8611232790970538, 'macro_f1-score': 0.8610538266188313, 'balanced_accuracy': 0.8585726608261774, 'mcc': 0.8287268022777385, 'train_loss': 0.20391668665619767}\n",
      "Epoch 4/20\n"
     ]
    },
    {
     "name": "stderr",
     "output_type": "stream",
     "text": [
      "100%|██████████| 3151/3151 [04:53<00:00, 10.75it/s]\n"
     ]
    },
    {
     "name": "stdout",
     "output_type": "stream",
     "text": [
      "{'val_loss': 0.5475620549410963, 'val_accuracy': 0.851293564250588, 'precision': 0.8543426589043338, 'recall': 0.851293564250588, 'f1-score': 0.8508984032872395, 'macro_f1-score': 0.8526506845283841, 'balanced_accuracy': 0.8645240039550548, 'mcc': 0.818775095586436, 'train_loss': 0.14388158593474}\n",
      "Epoch 5/20\n"
     ]
    },
    {
     "name": "stderr",
     "output_type": "stream",
     "text": [
      "100%|██████████| 3151/3151 [04:53<00:00, 10.75it/s]\n"
     ]
    },
    {
     "name": "stdout",
     "output_type": "stream",
     "text": [
      "{'val_loss': 0.5446924331828824, 'val_accuracy': 0.856425058798375, 'precision': 0.8604913380093576, 'recall': 0.856425058798375, 'f1-score': 0.8573071286084222, 'macro_f1-score': 0.854964727357447, 'balanced_accuracy': 0.8508544219944373, 'mcc': 0.8234961060560172, 'train_loss': 0.10895940065827996}\n",
      "Epoch 6/20\n"
     ]
    },
    {
     "name": "stderr",
     "output_type": "stream",
     "text": [
      "100%|██████████| 3151/3151 [04:52<00:00, 10.76it/s]\n"
     ]
    },
    {
     "name": "stdout",
     "output_type": "stream",
     "text": [
      "{'val_loss': 0.5665068380399328, 'val_accuracy': 0.8535385931152448, 'precision': 0.8554946931538789, 'recall': 0.8535385931152448, 'f1-score': 0.8540543428770181, 'macro_f1-score': 0.8483467484488054, 'balanced_accuracy': 0.8486180144723786, 'mcc': 0.8198122188897519, 'train_loss': 0.08296028200057931}\n",
      "Early stopping.\n",
      "\n",
      " === bert-base-uncased + bilstm + word2vec_eda Final 5-fold Cross-Validation Results ===\n",
      "val_loss: 0.4547\n",
      "val_accuracy: 0.8630\n",
      "precision: 0.8642\n",
      "recall: 0.8630\n",
      "f1-score: 0.8631\n",
      "macro_f1-score: 0.8600\n",
      "balanced_accuracy: 0.8655\n",
      "mcc: 0.8319\n",
      "train_loss: 0.2055\n",
      "total_seconds: 9896.0000\n",
      "total_time: 2 hrs 44 mins 56 secs\n",
      "▶ Running: roberta-base + plain + word2vec_eda\n",
      "tokenizer is roberta-base\n",
      "Using device: cuda\n",
      "CUDA Available: True\n",
      "CUDA Device: NVIDIA GeForce RTX 5070 Ti\n",
      "Current GPU Memory Allocated: 0.02 GB\n",
      "Current GPU Memory Cached: 3.14 GB\n",
      "\n",
      "[Fold 1]\n",
      "🚀 Using Word2Vec + EDA (replace + deletion/swap) for data augmentation + under-sampling\n",
      "🔧 Augmenting label 1: 1399 → 5000 (+3601)\n",
      "🔧 Augmenting label 4: 1678 → 5000 (+3322)\n",
      "🔧 Augmenting label 6: 1737 → 5000 (+3263)\n",
      "🔧 Augmenting label 7: 2187 → 5000 (+2813)\n",
      "Label distribution after resampling:\n",
      "  label 0: 5626\n",
      "  label 1: 5000\n",
      "  label 2: 8442\n",
      "  label 3: 10770\n",
      "  label 4: 5000\n",
      "  label 5: 5578\n",
      "  label 6: 5000\n",
      "  label 7: 5000\n",
      "model is roberta-base\n"
     ]
    },
    {
     "name": "stderr",
     "output_type": "stream",
     "text": [
      "Some weights of RobertaForSequenceClassification were not initialized from the model checkpoint at roberta-base and are newly initialized: ['classifier.dense.bias', 'classifier.dense.weight', 'classifier.out_proj.bias', 'classifier.out_proj.weight']\n",
      "You should probably TRAIN this model on a down-stream task to be able to use it for predictions and inference.\n"
     ]
    },
    {
     "name": "stdout",
     "output_type": "stream",
     "text": [
      "Epoch 1/20\n"
     ]
    },
    {
     "name": "stderr",
     "output_type": "stream",
     "text": [
      "100%|██████████| 3151/3151 [04:30<00:00, 11.66it/s]\n"
     ]
    },
    {
     "name": "stdout",
     "output_type": "stream",
     "text": [
      "{'val_loss': 0.4492605619896681, 'val_accuracy': 0.8503474078033137, 'precision': 0.8515767889633159, 'recall': 0.8503474078033137, 'f1-score': 0.8495439331805793, 'macro_f1-score': 0.843952097871644, 'balanced_accuracy': 0.834077438617224, 'mcc': 0.815397604602026, 'train_loss': 0.5980960924754121}\n",
      "Epoch 2/20\n"
     ]
    },
    {
     "name": "stderr",
     "output_type": "stream",
     "text": [
      "100%|██████████| 3151/3151 [04:30<00:00, 11.66it/s]\n"
     ]
    },
    {
     "name": "stdout",
     "output_type": "stream",
     "text": [
      "{'val_loss': 0.4813186700957326, 'val_accuracy': 0.8528059861036879, 'precision': 0.8566411719071989, 'recall': 0.8528059861036879, 'f1-score': 0.8528560329519703, 'macro_f1-score': 0.8496280062307479, 'balanced_accuracy': 0.8573284367197694, 'mcc': 0.8199132037165329, 'train_loss': 0.38602293428401274}\n",
      "Epoch 3/20\n"
     ]
    },
    {
     "name": "stderr",
     "output_type": "stream",
     "text": [
      "100%|██████████| 3151/3151 [04:30<00:00, 11.66it/s]\n"
     ]
    },
    {
     "name": "stdout",
     "output_type": "stream",
     "text": [
      "{'val_loss': 0.44986661336679235, 'val_accuracy': 0.8519508284339925, 'precision': 0.8562246940300239, 'recall': 0.8519508284339925, 'f1-score': 0.8524704304086957, 'macro_f1-score': 0.8452942228095214, 'balanced_accuracy': 0.8706031107555737, 'mcc': 0.8195288053530281, 'train_loss': 0.2998984345379461}\n",
      "Epoch 4/20\n"
     ]
    },
    {
     "name": "stderr",
     "output_type": "stream",
     "text": [
      "100%|██████████| 3151/3151 [04:30<00:00, 11.66it/s]\n"
     ]
    },
    {
     "name": "stdout",
     "output_type": "stream",
     "text": [
      "{'val_loss': 0.4810586763975712, 'val_accuracy': 0.8512025654730091, 'precision': 0.853419126983024, 'recall': 0.8512025654730091, 'f1-score': 0.8510627007883989, 'macro_f1-score': 0.8462164875280536, 'balanced_accuracy': 0.864193435568934, 'mcc': 0.8180669436828332, 'train_loss': 0.2430421899484251}\n",
      "Epoch 5/20\n"
     ]
    },
    {
     "name": "stderr",
     "output_type": "stream",
     "text": [
      "100%|██████████| 3151/3151 [04:30<00:00, 11.66it/s]\n"
     ]
    },
    {
     "name": "stdout",
     "output_type": "stream",
     "text": [
      "{'val_loss': 0.469872741931333, 'val_accuracy': 0.8633885622661678, 'precision': 0.8633007795100778, 'recall': 0.8633885622661678, 'f1-score': 0.8631392524712389, 'macro_f1-score': 0.8586470939548582, 'balanced_accuracy': 0.8575811653230421, 'mcc': 0.8319810480992493, 'train_loss': 0.19659173438592714}\n",
      "Epoch 6/20\n"
     ]
    },
    {
     "name": "stderr",
     "output_type": "stream",
     "text": [
      "100%|██████████| 3151/3151 [04:30<00:00, 11.66it/s]\n"
     ]
    },
    {
     "name": "stdout",
     "output_type": "stream",
     "text": [
      "{'val_loss': 0.6043138154698775, 'val_accuracy': 0.8478888295029396, 'precision': 0.8553182386136834, 'recall': 0.8478888295029396, 'f1-score': 0.8489747231531554, 'macro_f1-score': 0.8453780823624624, 'balanced_accuracy': 0.8648561801020362, 'mcc': 0.8154021604194608, 'train_loss': 0.16055381670350374}\n",
      "Epoch 7/20\n"
     ]
    },
    {
     "name": "stderr",
     "output_type": "stream",
     "text": [
      "100%|██████████| 3151/3151 [04:30<00:00, 11.66it/s]\n"
     ]
    },
    {
     "name": "stdout",
     "output_type": "stream",
     "text": [
      "{'val_loss': 0.5020022566493951, 'val_accuracy': 0.8627471940138963, 'precision': 0.8650144638481381, 'recall': 0.8627471940138963, 'f1-score': 0.8631277888207725, 'macro_f1-score': 0.8591419610217448, 'balanced_accuracy': 0.8552012843619503, 'mcc': 0.831031186824871, 'train_loss': 0.13463696693544613}\n",
      "Epoch 8/20\n"
     ]
    },
    {
     "name": "stderr",
     "output_type": "stream",
     "text": [
      "100%|██████████| 3151/3151 [04:30<00:00, 11.66it/s]\n"
     ]
    },
    {
     "name": "stdout",
     "output_type": "stream",
     "text": [
      "{'val_loss': 0.553764219278008, 'val_accuracy': 0.8561197220737573, 'precision': 0.8594168799961857, 'recall': 0.8561197220737573, 'f1-score': 0.8569315786975376, 'macro_f1-score': 0.8514629287683515, 'balanced_accuracy': 0.854354779565085, 'mcc': 0.8236247486963996, 'train_loss': 0.11665024473777431}\n",
      "Epoch 9/20\n"
     ]
    },
    {
     "name": "stderr",
     "output_type": "stream",
     "text": [
      "100%|██████████| 3151/3151 [04:30<00:00, 11.67it/s]\n"
     ]
    },
    {
     "name": "stdout",
     "output_type": "stream",
     "text": [
      "{'val_loss': 0.590680586012144, 'val_accuracy': 0.8564404061998931, 'precision': 0.8586498707480148, 'recall': 0.8564404061998931, 'f1-score': 0.856590810074701, 'macro_f1-score': 0.8496276201418058, 'balanced_accuracy': 0.8594369611713537, 'mcc': 0.8236866079893953, 'train_loss': 0.10380786425108637}\n",
      "Epoch 10/20\n"
     ]
    },
    {
     "name": "stderr",
     "output_type": "stream",
     "text": [
      "100%|██████████| 3151/3151 [04:30<00:00, 11.66it/s]\n"
     ]
    },
    {
     "name": "stdout",
     "output_type": "stream",
     "text": [
      "{'val_loss': 0.646426936542679, 'val_accuracy': 0.8520577231427044, 'precision': 0.8549723710811906, 'recall': 0.8520577231427044, 'f1-score': 0.8522796768805455, 'macro_f1-score': 0.8472383079576362, 'balanced_accuracy': 0.8548613672685375, 'mcc': 0.8182341694065832, 'train_loss': 0.08779511951848212}\n",
      "Early stopping.\n",
      "\n",
      "[Fold 2]\n",
      "🚀 Using Word2Vec + EDA (replace + deletion/swap) for data augmentation + under-sampling\n",
      "🔧 Augmenting label 1: 1400 → 5000 (+3600)\n",
      "🔧 Augmenting label 4: 1678 → 5000 (+3322)\n",
      "🔧 Augmenting label 6: 1737 → 5000 (+3263)\n",
      "🔧 Augmenting label 7: 2186 → 5000 (+2814)\n",
      "Label distribution after resampling:\n",
      "  label 0: 5626\n",
      "  label 1: 5000\n",
      "  label 2: 8442\n",
      "  label 3: 10770\n",
      "  label 4: 5000\n",
      "  label 5: 5578\n",
      "  label 6: 5000\n",
      "  label 7: 5000\n",
      "model is roberta-base\n"
     ]
    },
    {
     "name": "stderr",
     "output_type": "stream",
     "text": [
      "Some weights of RobertaForSequenceClassification were not initialized from the model checkpoint at roberta-base and are newly initialized: ['classifier.dense.bias', 'classifier.dense.weight', 'classifier.out_proj.bias', 'classifier.out_proj.weight']\n",
      "You should probably TRAIN this model on a down-stream task to be able to use it for predictions and inference.\n"
     ]
    },
    {
     "name": "stdout",
     "output_type": "stream",
     "text": [
      "Epoch 1/20\n"
     ]
    },
    {
     "name": "stderr",
     "output_type": "stream",
     "text": [
      "100%|██████████| 3151/3151 [04:30<00:00, 11.66it/s]\n"
     ]
    },
    {
     "name": "stdout",
     "output_type": "stream",
     "text": [
      "{'val_loss': 0.5362691863543457, 'val_accuracy': 0.8296098343132015, 'precision': 0.8336083494517519, 'recall': 0.8296098343132015, 'f1-score': 0.8294992200773517, 'macro_f1-score': 0.8264331870720019, 'balanced_accuracy': 0.8378040734526477, 'mcc': 0.7910356731973918, 'train_loss': 0.6424116388528414}\n",
      "Epoch 2/20\n"
     ]
    },
    {
     "name": "stderr",
     "output_type": "stream",
     "text": [
      "100%|██████████| 3151/3151 [04:30<00:00, 11.65it/s]\n"
     ]
    },
    {
     "name": "stdout",
     "output_type": "stream",
     "text": [
      "{'val_loss': 0.5726417686041986, 'val_accuracy': 0.8190272581507215, 'precision': 0.8332497903853331, 'recall': 0.8190272581507215, 'f1-score': 0.8187667700503617, 'macro_f1-score': 0.8201792362026414, 'balanced_accuracy': 0.8594440819468769, 'mcc': 0.7839508353718457, 'train_loss': 0.4068447033141987}\n",
      "Epoch 3/20\n"
     ]
    },
    {
     "name": "stderr",
     "output_type": "stream",
     "text": [
      "100%|██████████| 3151/3151 [04:30<00:00, 11.65it/s]\n"
     ]
    },
    {
     "name": "stdout",
     "output_type": "stream",
     "text": [
      "{'val_loss': 0.4963059646642616, 'val_accuracy': 0.8359166221272047, 'precision': 0.8436816747611652, 'recall': 0.8359166221272047, 'f1-score': 0.8361092361224591, 'macro_f1-score': 0.8326005018997221, 'balanced_accuracy': 0.8620071049659639, 'mcc': 0.802114034239238, 'train_loss': 0.3166424370906072}\n",
      "Epoch 4/20\n"
     ]
    },
    {
     "name": "stderr",
     "output_type": "stream",
     "text": [
      "100%|██████████| 3151/3151 [04:30<00:00, 11.66it/s]\n"
     ]
    },
    {
     "name": "stdout",
     "output_type": "stream",
     "text": [
      "{'val_loss': 0.5494186170303669, 'val_accuracy': 0.840833778727953, 'precision': 0.8465966391690828, 'recall': 0.840833778727953, 'f1-score': 0.8411350747616105, 'macro_f1-score': 0.8370275503185236, 'balanced_accuracy': 0.8575274899086223, 'mcc': 0.8060390786230222, 'train_loss': 0.2518378966434743}\n",
      "Epoch 5/20\n"
     ]
    },
    {
     "name": "stderr",
     "output_type": "stream",
     "text": [
      "100%|██████████| 3151/3151 [04:30<00:00, 11.66it/s]\n"
     ]
    },
    {
     "name": "stdout",
     "output_type": "stream",
     "text": [
      "{'val_loss': 0.5107331018902871, 'val_accuracy': 0.84735435595938, 'precision': 0.8485062731693994, 'recall': 0.84735435595938, 'f1-score': 0.847169216292683, 'macro_f1-score': 0.8450528975424152, 'balanced_accuracy': 0.8551168976778541, 'mcc': 0.8127748024503003, 'train_loss': 0.20251895196429062}\n",
      "Epoch 6/20\n"
     ]
    },
    {
     "name": "stderr",
     "output_type": "stream",
     "text": [
      "100%|██████████| 3151/3151 [04:30<00:00, 11.66it/s]\n"
     ]
    },
    {
     "name": "stdout",
     "output_type": "stream",
     "text": [
      "{'val_loss': 0.5496128803891186, 'val_accuracy': 0.8479957242116515, 'precision': 0.8500318270636227, 'recall': 0.8479957242116515, 'f1-score': 0.8476213920348767, 'macro_f1-score': 0.8410362643935394, 'balanced_accuracy': 0.8586471931183508, 'mcc': 0.8149115053625461, 'train_loss': 0.16697035582369044}\n",
      "Epoch 7/20\n"
     ]
    },
    {
     "name": "stderr",
     "output_type": "stream",
     "text": [
      "100%|██████████| 3151/3151 [04:30<00:00, 11.65it/s]\n"
     ]
    },
    {
     "name": "stdout",
     "output_type": "stream",
     "text": [
      "{'val_loss': 0.5750685477939744, 'val_accuracy': 0.8521646178514164, 'precision': 0.8539811057681543, 'recall': 0.8521646178514164, 'f1-score': 0.8521287557343609, 'macro_f1-score': 0.8529656434010005, 'balanced_accuracy': 0.8592590673007364, 'mcc': 0.819291425188644, 'train_loss': 0.13848936724652672}\n",
      "Epoch 8/20\n"
     ]
    },
    {
     "name": "stderr",
     "output_type": "stream",
     "text": [
      "100%|██████████| 3151/3151 [04:30<00:00, 11.66it/s]\n"
     ]
    },
    {
     "name": "stdout",
     "output_type": "stream",
     "text": [
      "{'val_loss': 0.5971917091084755, 'val_accuracy': 0.8472474612506681, 'precision': 0.8506724893056243, 'recall': 0.8472474612506681, 'f1-score': 0.8474819219541312, 'macro_f1-score': 0.8409968515893251, 'balanced_accuracy': 0.8562941927710628, 'mcc': 0.8130418743511932, 'train_loss': 0.11989249295202004}\n",
      "Epoch 9/20\n"
     ]
    },
    {
     "name": "stderr",
     "output_type": "stream",
     "text": [
      "100%|██████████| 3151/3151 [04:30<00:00, 11.66it/s]\n"
     ]
    },
    {
     "name": "stdout",
     "output_type": "stream",
     "text": [
      "{'val_loss': 0.630788434508583, 'val_accuracy': 0.8495991448423303, 'precision': 0.8516781810063302, 'recall': 0.8495991448423303, 'f1-score': 0.8497155883410954, 'macro_f1-score': 0.8507054410460986, 'balanced_accuracy': 0.8514483153637048, 'mcc': 0.8155935553994396, 'train_loss': 0.0983697531600898}\n",
      "Epoch 10/20\n"
     ]
    },
    {
     "name": "stderr",
     "output_type": "stream",
     "text": [
      "100%|██████████| 3151/3151 [04:29<00:00, 11.67it/s]\n"
     ]
    },
    {
     "name": "stdout",
     "output_type": "stream",
     "text": [
      "{'val_loss': 0.6873769667497079, 'val_accuracy': 0.8462854088722608, 'precision': 0.8481122870526746, 'recall': 0.8462854088722608, 'f1-score': 0.8463327151953673, 'macro_f1-score': 0.8424083056648717, 'balanced_accuracy': 0.8564044842179782, 'mcc': 0.8121188588150519, 'train_loss': 0.09183458353478345}\n",
      "Early stopping.\n",
      "\n",
      "[Fold 3]\n",
      "🚀 Using Word2Vec + EDA (replace + deletion/swap) for data augmentation + under-sampling\n",
      "🔧 Augmenting label 1: 1399 → 5000 (+3601)\n",
      "🔧 Augmenting label 4: 1679 → 5000 (+3321)\n",
      "🔧 Augmenting label 6: 1738 → 5000 (+3262)\n",
      "🔧 Augmenting label 7: 2186 → 5000 (+2814)\n",
      "Label distribution after resampling:\n",
      "  label 0: 5626\n",
      "  label 1: 5000\n",
      "  label 2: 8442\n",
      "  label 3: 10770\n",
      "  label 4: 5000\n",
      "  label 5: 5578\n",
      "  label 6: 5000\n",
      "  label 7: 5000\n",
      "model is roberta-base\n"
     ]
    },
    {
     "name": "stderr",
     "output_type": "stream",
     "text": [
      "Some weights of RobertaForSequenceClassification were not initialized from the model checkpoint at roberta-base and are newly initialized: ['classifier.dense.bias', 'classifier.dense.weight', 'classifier.out_proj.bias', 'classifier.out_proj.weight']\n",
      "You should probably TRAIN this model on a down-stream task to be able to use it for predictions and inference.\n"
     ]
    },
    {
     "name": "stdout",
     "output_type": "stream",
     "text": [
      "Epoch 1/20\n"
     ]
    },
    {
     "name": "stderr",
     "output_type": "stream",
     "text": [
      "100%|██████████| 3151/3151 [04:29<00:00, 11.67it/s]\n"
     ]
    },
    {
     "name": "stdout",
     "output_type": "stream",
     "text": [
      "{'val_loss': 0.46480063737457633, 'val_accuracy': 0.8376095787898226, 'precision': 0.843282597034585, 'recall': 0.8376095787898226, 'f1-score': 0.8374712093247363, 'macro_f1-score': 0.835520672810481, 'balanced_accuracy': 0.8392928317699794, 'mcc': 0.8008291774079604, 'train_loss': 0.6136733782467332}\n",
      "Epoch 2/20\n"
     ]
    },
    {
     "name": "stderr",
     "output_type": "stream",
     "text": [
      "100%|██████████| 3151/3151 [04:30<00:00, 11.67it/s]\n"
     ]
    },
    {
     "name": "stdout",
     "output_type": "stream",
     "text": [
      "{'val_loss': 0.4376565248920367, 'val_accuracy': 0.8511866581141757, 'precision': 0.8545810847234663, 'recall': 0.8511866581141757, 'f1-score': 0.8515139128540761, 'macro_f1-score': 0.8481990177007206, 'balanced_accuracy': 0.8593633690046484, 'mcc': 0.8174916875014658, 'train_loss': 0.39237406885624404}\n",
      "Epoch 3/20\n"
     ]
    },
    {
     "name": "stderr",
     "output_type": "stream",
     "text": [
      "100%|██████████| 3151/3151 [04:29<00:00, 11.67it/s]\n"
     ]
    },
    {
     "name": "stdout",
     "output_type": "stream",
     "text": [
      "{'val_loss': 0.4539740095949835, 'val_accuracy': 0.853645499251657, 'precision': 0.8582924704416491, 'recall': 0.853645499251657, 'f1-score': 0.8531166023668679, 'macro_f1-score': 0.8469739076674698, 'balanced_accuracy': 0.8623605507701286, 'mcc': 0.8211712796779606, 'train_loss': 0.3042095815192439}\n",
      "Epoch 4/20\n"
     ]
    },
    {
     "name": "stderr",
     "output_type": "stream",
     "text": [
      "100%|██████████| 3151/3151 [04:30<00:00, 11.66it/s]\n"
     ]
    },
    {
     "name": "stdout",
     "output_type": "stream",
     "text": [
      "{'val_loss': 0.4578297761810195, 'val_accuracy': 0.8607013042548642, 'precision': 0.861719363467763, 'recall': 0.8607013042548642, 'f1-score': 0.8603491064404755, 'macro_f1-score': 0.8561415380131483, 'balanced_accuracy': 0.8604021997208379, 'mcc': 0.8287227877116935, 'train_loss': 0.23680336690098178}\n",
      "Epoch 5/20\n"
     ]
    },
    {
     "name": "stderr",
     "output_type": "stream",
     "text": [
      "100%|██████████| 3151/3151 [04:30<00:00, 11.67it/s]\n"
     ]
    },
    {
     "name": "stdout",
     "output_type": "stream",
     "text": [
      "{'val_loss': 0.5248646380280296, 'val_accuracy': 0.8496899722044046, 'precision': 0.853166077512759, 'recall': 0.8496899722044046, 'f1-score': 0.8495777421820754, 'macro_f1-score': 0.8443087544175054, 'balanced_accuracy': 0.8678178692637312, 'mcc': 0.8170282495746601, 'train_loss': 0.19316215286627222}\n",
      "Epoch 6/20\n"
     ]
    },
    {
     "name": "stderr",
     "output_type": "stream",
     "text": [
      "100%|██████████| 3151/3151 [04:29<00:00, 11.68it/s]\n"
     ]
    },
    {
     "name": "stdout",
     "output_type": "stream",
     "text": [
      "{'val_loss': 0.49607107982946896, 'val_accuracy': 0.8682916399401326, 'precision': 0.8689946318283516, 'recall': 0.8682916399401326, 'f1-score': 0.8682178187896623, 'macro_f1-score': 0.864550402026433, 'balanced_accuracy': 0.8577436898226961, 'mcc': 0.8375361425478849, 'train_loss': 0.15408371407931754}\n",
      "Epoch 7/20\n"
     ]
    },
    {
     "name": "stderr",
     "output_type": "stream",
     "text": [
      "100%|██████████| 3151/3151 [04:29<00:00, 11.68it/s]\n"
     ]
    },
    {
     "name": "stdout",
     "output_type": "stream",
     "text": [
      "{'val_loss': 0.5652910086276551, 'val_accuracy': 0.8583493692537951, 'precision': 0.8647559205846783, 'recall': 0.8583493692537951, 'f1-score': 0.8596003523500758, 'macro_f1-score': 0.8502401689376378, 'balanced_accuracy': 0.8739440271390493, 'mcc': 0.8276280521280692, 'train_loss': 0.12875386597310828}\n",
      "Epoch 8/20\n"
     ]
    },
    {
     "name": "stderr",
     "output_type": "stream",
     "text": [
      "100%|██████████| 3151/3151 [04:29<00:00, 11.69it/s]\n"
     ]
    },
    {
     "name": "stdout",
     "output_type": "stream",
     "text": [
      "{'val_loss': 0.5705248005934951, 'val_accuracy': 0.8609151165276887, 'precision': 0.8619767687914677, 'recall': 0.8609151165276887, 'f1-score': 0.8607374400658738, 'macro_f1-score': 0.8577357818256285, 'balanced_accuracy': 0.8692720300416474, 'mcc': 0.8295888983895583, 'train_loss': 0.11046521891960984}\n",
      "Epoch 9/20\n"
     ]
    },
    {
     "name": "stderr",
     "output_type": "stream",
     "text": [
      "100%|██████████| 3151/3151 [04:29<00:00, 11.68it/s]\n"
     ]
    },
    {
     "name": "stdout",
     "output_type": "stream",
     "text": [
      "{'val_loss': 0.5478244526681896, 'val_accuracy': 0.86241180243746, 'precision': 0.8638728298483495, 'recall': 0.86241180243746, 'f1-score': 0.8622956834683688, 'macro_f1-score': 0.8579356315499862, 'balanced_accuracy': 0.8610318034226074, 'mcc': 0.831170108040933, 'train_loss': 0.09275364022581092}\n",
      "Early stopping.\n",
      "\n",
      "[Fold 4]\n",
      "🚀 Using Word2Vec + EDA (replace + deletion/swap) for data augmentation + under-sampling\n",
      "🔧 Augmenting label 1: 1399 → 5000 (+3601)\n",
      "🔧 Augmenting label 4: 1679 → 5000 (+3321)\n",
      "🔧 Augmenting label 6: 1738 → 5000 (+3262)\n",
      "🔧 Augmenting label 7: 2186 → 5000 (+2814)\n",
      "Label distribution after resampling:\n",
      "  label 0: 5625\n",
      "  label 1: 5000\n",
      "  label 2: 8441\n",
      "  label 3: 10771\n",
      "  label 4: 5000\n",
      "  label 5: 5579\n",
      "  label 6: 5000\n",
      "  label 7: 5000\n",
      "model is roberta-base\n"
     ]
    },
    {
     "name": "stderr",
     "output_type": "stream",
     "text": [
      "Some weights of RobertaForSequenceClassification were not initialized from the model checkpoint at roberta-base and are newly initialized: ['classifier.dense.bias', 'classifier.dense.weight', 'classifier.out_proj.bias', 'classifier.out_proj.weight']\n",
      "You should probably TRAIN this model on a down-stream task to be able to use it for predictions and inference.\n"
     ]
    },
    {
     "name": "stdout",
     "output_type": "stream",
     "text": [
      "Epoch 1/20\n"
     ]
    },
    {
     "name": "stderr",
     "output_type": "stream",
     "text": [
      "100%|██████████| 3151/3151 [04:30<00:00, 11.66it/s]\n"
     ]
    },
    {
     "name": "stdout",
     "output_type": "stream",
     "text": [
      "{'val_loss': 0.4701619328373772, 'val_accuracy': 0.8410305751550139, 'precision': 0.8444746199883397, 'recall': 0.8410305751550139, 'f1-score': 0.8418508826211177, 'macro_f1-score': 0.840437965443199, 'balanced_accuracy': 0.8523977863225024, 'mcc': 0.8050988370256819, 'train_loss': 0.6148934218085539}\n",
      "Epoch 2/20\n"
     ]
    },
    {
     "name": "stderr",
     "output_type": "stream",
     "text": [
      "100%|██████████| 3151/3151 [04:30<00:00, 11.66it/s]\n"
     ]
    },
    {
     "name": "stdout",
     "output_type": "stream",
     "text": [
      "{'val_loss': 0.5029322024562165, 'val_accuracy': 0.8286294633311952, 'precision': 0.8438021898577496, 'recall': 0.8286294633311952, 'f1-score': 0.8299005640092189, 'macro_f1-score': 0.8320262715136095, 'balanced_accuracy': 0.8507819409268204, 'mcc': 0.7947471795926461, 'train_loss': 0.39292260414620156}\n",
      "Epoch 3/20\n"
     ]
    },
    {
     "name": "stderr",
     "output_type": "stream",
     "text": [
      "100%|██████████| 3151/3151 [04:30<00:00, 11.66it/s]\n"
     ]
    },
    {
     "name": "stdout",
     "output_type": "stream",
     "text": [
      "{'val_loss': 0.45157125382883173, 'val_accuracy': 0.8553559974342527, 'precision': 0.8579325574386303, 'recall': 0.8553559974342527, 'f1-score': 0.8559473347117253, 'macro_f1-score': 0.8520265273517156, 'balanced_accuracy': 0.8627897514155499, 'mcc': 0.8223502087318743, 'train_loss': 0.3109957382454759}\n",
      "Epoch 4/20\n"
     ]
    },
    {
     "name": "stderr",
     "output_type": "stream",
     "text": [
      "100%|██████████| 3151/3151 [04:34<00:00, 11.47it/s]\n"
     ]
    },
    {
     "name": "stdout",
     "output_type": "stream",
     "text": [
      "{'val_loss': 0.46222947633976486, 'val_accuracy': 0.8551421851614283, 'precision': 0.8576536597063301, 'recall': 0.8551421851614283, 'f1-score': 0.8552978308111614, 'macro_f1-score': 0.8530723183365991, 'balanced_accuracy': 0.8620020418119523, 'mcc': 0.8229159076462194, 'train_loss': 0.2474131266028162}\n",
      "Epoch 5/20\n"
     ]
    },
    {
     "name": "stderr",
     "output_type": "stream",
     "text": [
      "100%|██████████| 3151/3151 [04:34<00:00, 11.49it/s]\n"
     ]
    },
    {
     "name": "stdout",
     "output_type": "stream",
     "text": [
      "{'val_loss': 0.4847858357537761, 'val_accuracy': 0.8597391490271542, 'precision': 0.8627125778497654, 'recall': 0.8597391490271542, 'f1-score': 0.8603409865883843, 'macro_f1-score': 0.8548398096833648, 'balanced_accuracy': 0.8684269313617019, 'mcc': 0.8279366802162813, 'train_loss': 0.20040063908050545}\n",
      "Epoch 6/20\n"
     ]
    },
    {
     "name": "stderr",
     "output_type": "stream",
     "text": [
      "100%|██████████| 3151/3151 [04:33<00:00, 11.51it/s]\n"
     ]
    },
    {
     "name": "stdout",
     "output_type": "stream",
     "text": [
      "{'val_loss': 0.5369026800060374, 'val_accuracy': 0.8509728458413512, 'precision': 0.8528373161821245, 'recall': 0.8509728458413512, 'f1-score': 0.8508211504867732, 'macro_f1-score': 0.8509361401923355, 'balanced_accuracy': 0.8579245072837596, 'mcc': 0.8178711320155242, 'train_loss': 0.16329620468898098}\n",
      "Epoch 7/20\n"
     ]
    },
    {
     "name": "stderr",
     "output_type": "stream",
     "text": [
      "100%|██████████| 3151/3151 [04:31<00:00, 11.59it/s]\n"
     ]
    },
    {
     "name": "stdout",
     "output_type": "stream",
     "text": [
      "{'val_loss': 0.5991559146087553, 'val_accuracy': 0.8610220226641009, 'precision': 0.8615884638468682, 'recall': 0.8610220226641009, 'f1-score': 0.8607633149093363, 'macro_f1-score': 0.8567220668781736, 'balanced_accuracy': 0.8654287033444208, 'mcc': 0.8294423953221008, 'train_loss': 0.13585917168258155}\n",
      "Epoch 8/20\n"
     ]
    },
    {
     "name": "stderr",
     "output_type": "stream",
     "text": [
      "100%|██████████| 3151/3151 [04:30<00:00, 11.66it/s]\n"
     ]
    },
    {
     "name": "stdout",
     "output_type": "stream",
     "text": [
      "{'val_loss': 0.5760188433811323, 'val_accuracy': 0.8563181526619628, 'precision': 0.8586418486667339, 'recall': 0.8563181526619628, 'f1-score': 0.8562829518234747, 'macro_f1-score': 0.8550865382747839, 'balanced_accuracy': 0.8557186730006683, 'mcc': 0.8237959914612489, 'train_loss': 0.11920851330571816}\n",
      "Epoch 9/20\n"
     ]
    },
    {
     "name": "stderr",
     "output_type": "stream",
     "text": [
      "100%|██████████| 3151/3151 [04:30<00:00, 11.65it/s]\n"
     ]
    },
    {
     "name": "stdout",
     "output_type": "stream",
     "text": [
      "{'val_loss': 0.6450505636922983, 'val_accuracy': 0.8535385931152448, 'precision': 0.8557062002386315, 'recall': 0.8535385931152448, 'f1-score': 0.8532678029833304, 'macro_f1-score': 0.8460365929501921, 'balanced_accuracy': 0.8629206236862889, 'mcc': 0.8212735680863028, 'train_loss': 0.09783496947147594}\n",
      "Epoch 10/20\n"
     ]
    },
    {
     "name": "stderr",
     "output_type": "stream",
     "text": [
      "100%|██████████| 3151/3151 [04:30<00:00, 11.66it/s]\n"
     ]
    },
    {
     "name": "stdout",
     "output_type": "stream",
     "text": [
      "{'val_loss': 0.6259044379423746, 'val_accuracy': 0.859204618345093, 'precision': 0.8617359377542345, 'recall': 0.859204618345093, 'f1-score': 0.8594232834544655, 'macro_f1-score': 0.8529709088412544, 'balanced_accuracy': 0.8646986740619822, 'mcc': 0.827145672354155, 'train_loss': 0.09000970844049491}\n",
      "Early stopping.\n",
      "\n",
      "[Fold 5]\n",
      "🚀 Using Word2Vec + EDA (replace + deletion/swap) for data augmentation + under-sampling\n",
      "🔧 Augmenting label 1: 1399 → 5000 (+3601)\n",
      "🔧 Augmenting label 4: 1678 → 5000 (+3322)\n",
      "🔧 Augmenting label 6: 1738 → 5000 (+3262)\n",
      "🔧 Augmenting label 7: 2187 → 5000 (+2813)\n",
      "Label distribution after resampling:\n",
      "  label 0: 5625\n",
      "  label 1: 5000\n",
      "  label 2: 8441\n",
      "  label 3: 10771\n",
      "  label 4: 5000\n",
      "  label 5: 5579\n",
      "  label 6: 5000\n",
      "  label 7: 5000\n",
      "model is roberta-base\n"
     ]
    },
    {
     "name": "stderr",
     "output_type": "stream",
     "text": [
      "Some weights of RobertaForSequenceClassification were not initialized from the model checkpoint at roberta-base and are newly initialized: ['classifier.dense.bias', 'classifier.dense.weight', 'classifier.out_proj.bias', 'classifier.out_proj.weight']\n",
      "You should probably TRAIN this model on a down-stream task to be able to use it for predictions and inference.\n"
     ]
    },
    {
     "name": "stdout",
     "output_type": "stream",
     "text": [
      "Epoch 1/20\n"
     ]
    },
    {
     "name": "stderr",
     "output_type": "stream",
     "text": [
      "100%|██████████| 3151/3151 [04:30<00:00, 11.65it/s]\n"
     ]
    },
    {
     "name": "stdout",
     "output_type": "stream",
     "text": [
      "{'val_loss': 1.926296030354296, 'val_accuracy': 0.28779131922172335, 'precision': 0.08282384341937987, 'recall': 0.28779131922172335, 'f1-score': 0.12862929293456404, 'macro_f1-score': 0.055869168188610326, 'balanced_accuracy': 0.125, 'mcc': 0.0, 'train_loss': 2.0411803342167896}\n",
      "Epoch 2/20\n"
     ]
    },
    {
     "name": "stderr",
     "output_type": "stream",
     "text": [
      "100%|██████████| 3151/3151 [04:30<00:00, 11.66it/s]\n"
     ]
    },
    {
     "name": "stdout",
     "output_type": "stream",
     "text": [
      "{'val_loss': 1.9405855170681945, 'val_accuracy': 0.28779131922172335, 'precision': 0.08282384341937987, 'recall': 0.28779131922172335, 'f1-score': 0.12862929293456404, 'macro_f1-score': 0.055869168188610326, 'balanced_accuracy': 0.125, 'mcc': 0.0, 'train_loss': 2.0395751680052117}\n",
      "Epoch 3/20\n"
     ]
    },
    {
     "name": "stderr",
     "output_type": "stream",
     "text": [
      "100%|██████████| 3151/3151 [04:30<00:00, 11.65it/s]\n"
     ]
    },
    {
     "name": "stdout",
     "output_type": "stream",
     "text": [
      "{'val_loss': 1.9436594714466324, 'val_accuracy': 0.28779131922172335, 'precision': 0.08282384341937987, 'recall': 0.28779131922172335, 'f1-score': 0.12862929293456404, 'macro_f1-score': 0.055869168188610326, 'balanced_accuracy': 0.125, 'mcc': 0.0, 'train_loss': 2.038479379947811}\n",
      "Epoch 4/20\n"
     ]
    },
    {
     "name": "stderr",
     "output_type": "stream",
     "text": [
      "100%|██████████| 3151/3151 [04:30<00:00, 11.65it/s]\n"
     ]
    },
    {
     "name": "stdout",
     "output_type": "stream",
     "text": [
      "{'val_loss': 1.922508099140265, 'val_accuracy': 0.28779131922172335, 'precision': 0.08282384341937987, 'recall': 0.28779131922172335, 'f1-score': 0.12862929293456404, 'macro_f1-score': 0.055869168188610326, 'balanced_accuracy': 0.125, 'mcc': 0.0, 'train_loss': 2.0383206893057717}\n",
      "Early stopping.\n",
      "\n",
      " === roberta-base + plain + word2vec_eda Final 5-fold Cross-Validation Results ===\n",
      "val_loss: 0.8197\n",
      "val_accuracy: 0.7464\n",
      "precision: 0.7065\n",
      "recall: 0.7464\n",
      "f1-score: 0.7146\n",
      "macro_f1-score: 0.6978\n",
      "balanced_accuracy: 0.7125\n",
      "mcc: 0.6635\n",
      "train_loss: 0.5208\n",
      "total_seconds: 12552.0000\n",
      "total_time: 3 hrs 29 mins 12 secs\n",
      "▶ Running: roberta-base + cnn + word2vec_eda\n",
      "tokenizer is roberta-base\n",
      "Using device: cuda\n",
      "CUDA Available: True\n",
      "CUDA Device: NVIDIA GeForce RTX 5070 Ti\n",
      "Current GPU Memory Allocated: 0.02 GB\n",
      "Current GPU Memory Cached: 3.91 GB\n",
      "\n",
      "[Fold 1]\n",
      "🚀 Using Word2Vec + EDA (replace + deletion/swap) for data augmentation + under-sampling\n",
      "🔧 Augmenting label 1: 1399 → 5000 (+3601)\n",
      "🔧 Augmenting label 4: 1678 → 5000 (+3322)\n",
      "🔧 Augmenting label 6: 1737 → 5000 (+3263)\n",
      "🔧 Augmenting label 7: 2187 → 5000 (+2813)\n",
      "Label distribution after resampling:\n",
      "  label 0: 5626\n",
      "  label 1: 5000\n",
      "  label 2: 8442\n",
      "  label 3: 10770\n",
      "  label 4: 5000\n",
      "  label 5: 5578\n",
      "  label 6: 5000\n",
      "  label 7: 5000\n",
      "model is roberta-base cnn\n"
     ]
    },
    {
     "name": "stderr",
     "output_type": "stream",
     "text": [
      "Some weights of RobertaModel were not initialized from the model checkpoint at roberta-base and are newly initialized: ['pooler.dense.bias', 'pooler.dense.weight']\n",
      "You should probably TRAIN this model on a down-stream task to be able to use it for predictions and inference.\n"
     ]
    },
    {
     "name": "stdout",
     "output_type": "stream",
     "text": [
      "Epoch 1/20\n"
     ]
    },
    {
     "name": "stderr",
     "output_type": "stream",
     "text": [
      "100%|██████████| 3151/3151 [04:35<00:00, 11.43it/s]\n"
     ]
    },
    {
     "name": "stdout",
     "output_type": "stream",
     "text": [
      "{'val_loss': 0.5738584281287642, 'val_accuracy': 0.8100481026189204, 'precision': 0.8384892887459767, 'recall': 0.8100481026189204, 'f1-score': 0.815460224401746, 'macro_f1-score': 0.8052052284373221, 'balanced_accuracy': 0.8474747714464033, 'mcc': 0.7735481891270836, 'train_loss': 0.6537549278622902}\n",
      "Epoch 2/20\n"
     ]
    },
    {
     "name": "stderr",
     "output_type": "stream",
     "text": [
      "100%|██████████| 3151/3151 [04:35<00:00, 11.44it/s]\n"
     ]
    },
    {
     "name": "stdout",
     "output_type": "stream",
     "text": [
      "{'val_loss': 0.44413380357954235, 'val_accuracy': 0.8549438802779262, 'precision': 0.8601326908772501, 'recall': 0.8549438802779262, 'f1-score': 0.8558761254313607, 'macro_f1-score': 0.8494865940511391, 'balanced_accuracy': 0.872840355318655, 'mcc': 0.8233155589651913, 'train_loss': 0.4132790627183824}\n",
      "Epoch 3/20\n"
     ]
    },
    {
     "name": "stderr",
     "output_type": "stream",
     "text": [
      "100%|██████████| 3151/3151 [04:35<00:00, 11.45it/s]\n"
     ]
    },
    {
     "name": "stdout",
     "output_type": "stream",
     "text": [
      "{'val_loss': 0.4527595833962799, 'val_accuracy': 0.8535542490646713, 'precision': 0.8560396461606238, 'recall': 0.8535542490646713, 'f1-score': 0.8534822388683609, 'macro_f1-score': 0.8447057453627713, 'balanced_accuracy': 0.8470227792862679, 'mcc': 0.8204750745673437, 'train_loss': 0.32170025621736215}\n",
      "Epoch 4/20\n"
     ]
    },
    {
     "name": "stderr",
     "output_type": "stream",
     "text": [
      "100%|██████████| 3151/3151 [04:35<00:00, 11.45it/s]\n"
     ]
    },
    {
     "name": "stdout",
     "output_type": "stream",
     "text": [
      "{'val_loss': 0.4521595815053353, 'val_accuracy': 0.859112773917691, 'precision': 0.8641891241470203, 'recall': 0.859112773917691, 'f1-score': 0.8600025729499494, 'macro_f1-score': 0.8520569498099753, 'balanced_accuracy': 0.8717753044648341, 'mcc': 0.8284009438650478, 'train_loss': 0.2548158423367282}\n",
      "Epoch 5/20\n"
     ]
    },
    {
     "name": "stderr",
     "output_type": "stream",
     "text": [
      "100%|██████████| 3151/3151 [04:35<00:00, 11.45it/s]\n"
     ]
    },
    {
     "name": "stdout",
     "output_type": "stream",
     "text": [
      "{'val_loss': 0.5463050870718354, 'val_accuracy': 0.8468198824158204, 'precision': 0.8582258070483768, 'recall': 0.8468198824158204, 'f1-score': 0.848854532334766, 'macro_f1-score': 0.8369518616740937, 'balanced_accuracy': 0.8647141312271697, 'mcc': 0.8135391722714838, 'train_loss': 0.207487493733926}\n",
      "Epoch 6/20\n"
     ]
    },
    {
     "name": "stderr",
     "output_type": "stream",
     "text": [
      "100%|██████████| 3151/3151 [04:35<00:00, 11.45it/s]\n"
     ]
    },
    {
     "name": "stdout",
     "output_type": "stream",
     "text": [
      "{'val_loss': 0.4677974638935083, 'val_accuracy': 0.8613575628006414, 'precision': 0.8641722267296594, 'recall': 0.8613575628006414, 'f1-score': 0.8619080460781194, 'macro_f1-score': 0.8598218902442041, 'balanced_accuracy': 0.8580833229951434, 'mcc': 0.8293156979476375, 'train_loss': 0.17300408690618377}\n",
      "Epoch 7/20\n"
     ]
    },
    {
     "name": "stderr",
     "output_type": "stream",
     "text": [
      "100%|██████████| 3151/3151 [04:35<00:00, 11.45it/s]\n"
     ]
    },
    {
     "name": "stdout",
     "output_type": "stream",
     "text": [
      "{'val_loss': 0.4906974662019688, 'val_accuracy': 0.8610368786745056, 'precision': 0.8631671528326045, 'recall': 0.8610368786745056, 'f1-score': 0.8612209264357904, 'macro_f1-score': 0.8591434786821335, 'balanced_accuracy': 0.8685652789057303, 'mcc': 0.8301400721524725, 'train_loss': 0.15678112250089205}\n",
      "Epoch 8/20\n"
     ]
    },
    {
     "name": "stderr",
     "output_type": "stream",
     "text": [
      "100%|██████████| 3151/3151 [04:35<00:00, 11.45it/s]\n"
     ]
    },
    {
     "name": "stdout",
     "output_type": "stream",
     "text": [
      "{'val_loss': 0.4784218540240047, 'val_accuracy': 0.8583645109567076, 'precision': 0.8627210986728705, 'recall': 0.8583645109567076, 'f1-score': 0.8588362654688512, 'macro_f1-score': 0.8546555616014981, 'balanced_accuracy': 0.8524716171217952, 'mcc': 0.8262808369535795, 'train_loss': 0.12387626588989495}\n",
      "Epoch 9/20\n"
     ]
    },
    {
     "name": "stderr",
     "output_type": "stream",
     "text": [
      "100%|██████████| 3151/3151 [04:35<00:00, 11.45it/s]\n"
     ]
    },
    {
     "name": "stdout",
     "output_type": "stream",
     "text": [
      "{'val_loss': 0.6000950915862321, 'val_accuracy': 0.8545163014430786, 'precision': 0.8587951160581307, 'recall': 0.8545163014430786, 'f1-score': 0.8552076266050672, 'macro_f1-score': 0.8473929456680067, 'balanced_accuracy': 0.8519964319131614, 'mcc': 0.8219338230802244, 'train_loss': 0.11570653483195564}\n",
      "Early stopping.\n",
      "\n",
      "[Fold 2]\n",
      "🚀 Using Word2Vec + EDA (replace + deletion/swap) for data augmentation + under-sampling\n",
      "🔧 Augmenting label 1: 1400 → 5000 (+3600)\n",
      "🔧 Augmenting label 4: 1678 → 5000 (+3322)\n",
      "🔧 Augmenting label 6: 1737 → 5000 (+3263)\n",
      "🔧 Augmenting label 7: 2186 → 5000 (+2814)\n",
      "Label distribution after resampling:\n",
      "  label 0: 5626\n",
      "  label 1: 5000\n",
      "  label 2: 8442\n",
      "  label 3: 10770\n",
      "  label 4: 5000\n",
      "  label 5: 5578\n",
      "  label 6: 5000\n",
      "  label 7: 5000\n",
      "model is roberta-base cnn\n"
     ]
    },
    {
     "name": "stderr",
     "output_type": "stream",
     "text": [
      "Some weights of RobertaModel were not initialized from the model checkpoint at roberta-base and are newly initialized: ['pooler.dense.bias', 'pooler.dense.weight']\n",
      "You should probably TRAIN this model on a down-stream task to be able to use it for predictions and inference.\n"
     ]
    },
    {
     "name": "stdout",
     "output_type": "stream",
     "text": [
      "Epoch 1/20\n"
     ]
    },
    {
     "name": "stderr",
     "output_type": "stream",
     "text": [
      "100%|██████████| 3151/3151 [04:35<00:00, 11.43it/s]\n"
     ]
    },
    {
     "name": "stdout",
     "output_type": "stream",
     "text": [
      "{'val_loss': 0.5142349313323696, 'val_accuracy': 0.8240513094601817, 'precision': 0.8302991333580709, 'recall': 0.8240513094601817, 'f1-score': 0.8239241049509889, 'macro_f1-score': 0.8235045478283823, 'balanced_accuracy': 0.8453431027492191, 'mcc': 0.7868827895869251, 'train_loss': 0.6547764226184198}\n",
      "Epoch 2/20\n"
     ]
    },
    {
     "name": "stderr",
     "output_type": "stream",
     "text": [
      "100%|██████████| 3151/3151 [04:35<00:00, 11.45it/s]\n"
     ]
    },
    {
     "name": "stdout",
     "output_type": "stream",
     "text": [
      "{'val_loss': 0.5083211915551598, 'val_accuracy': 0.8335649385355425, 'precision': 0.8430268130140602, 'recall': 0.8335649385355425, 'f1-score': 0.8342513759228226, 'macro_f1-score': 0.8314221397338217, 'balanced_accuracy': 0.8501509018886592, 'mcc': 0.7970481554460278, 'train_loss': 0.4149330063880859}\n",
      "Epoch 3/20\n"
     ]
    },
    {
     "name": "stderr",
     "output_type": "stream",
     "text": [
      "100%|██████████| 3151/3151 [04:35<00:00, 11.44it/s]\n"
     ]
    },
    {
     "name": "stdout",
     "output_type": "stream",
     "text": [
      "{'val_loss': 0.453852017596364, 'val_accuracy': 0.8416889363976483, 'precision': 0.8449275494250409, 'recall': 0.8416889363976483, 'f1-score': 0.8414875468398229, 'macro_f1-score': 0.8391421340468275, 'balanced_accuracy': 0.8532463380837063, 'mcc': 0.8065765100460289, 'train_loss': 0.3300796921605257}\n",
      "Epoch 4/20\n"
     ]
    },
    {
     "name": "stderr",
     "output_type": "stream",
     "text": [
      "100%|██████████| 3151/3151 [04:35<00:00, 11.44it/s]\n"
     ]
    },
    {
     "name": "stdout",
     "output_type": "stream",
     "text": [
      "{'val_loss': 0.46697095782519915, 'val_accuracy': 0.842009620523784, 'precision': 0.8476737002582743, 'recall': 0.842009620523784, 'f1-score': 0.8421424011985601, 'macro_f1-score': 0.8386924107750997, 'balanced_accuracy': 0.8619568206327137, 'mcc': 0.8084920810094623, 'train_loss': 0.266431207411282}\n",
      "Epoch 5/20\n"
     ]
    },
    {
     "name": "stderr",
     "output_type": "stream",
     "text": [
      "100%|██████████| 3151/3151 [04:35<00:00, 11.44it/s]\n"
     ]
    },
    {
     "name": "stdout",
     "output_type": "stream",
     "text": [
      "{'val_loss': 0.47419382142714966, 'val_accuracy': 0.846071619454837, 'precision': 0.8493328115410782, 'recall': 0.846071619454837, 'f1-score': 0.8465047636594145, 'macro_f1-score': 0.842532856020378, 'balanced_accuracy': 0.8604094871406748, 'mcc': 0.8120903289394739, 'train_loss': 0.22166072759604846}\n",
      "Epoch 6/20\n"
     ]
    },
    {
     "name": "stderr",
     "output_type": "stream",
     "text": [
      "100%|██████████| 3151/3151 [04:35<00:00, 11.45it/s]\n"
     ]
    },
    {
     "name": "stdout",
     "output_type": "stream",
     "text": [
      "{'val_loss': 0.4970766181492398, 'val_accuracy': 0.8477819347942277, 'precision': 0.8483854278302436, 'recall': 0.8477819347942277, 'f1-score': 0.8474003608596835, 'macro_f1-score': 0.8460236081577206, 'balanced_accuracy': 0.8573739042115136, 'mcc': 0.8135698256983287, 'train_loss': 0.18147665565567145}\n",
      "Epoch 7/20\n"
     ]
    },
    {
     "name": "stderr",
     "output_type": "stream",
     "text": [
      "100%|██████████| 3151/3151 [04:35<00:00, 11.44it/s]\n"
     ]
    },
    {
     "name": "stdout",
     "output_type": "stream",
     "text": [
      "{'val_loss': 0.5418761407415199, 'val_accuracy': 0.8409406734366649, 'precision': 0.8432001671016011, 'recall': 0.8409406734366649, 'f1-score': 0.8402901135464936, 'macro_f1-score': 0.8411336752522784, 'balanced_accuracy': 0.8559819540804299, 'mcc': 0.8065538362614869, 'train_loss': 0.1529786289551791}\n",
      "Epoch 8/20\n"
     ]
    },
    {
     "name": "stderr",
     "output_type": "stream",
     "text": [
      "100%|██████████| 3151/3151 [04:35<00:00, 11.45it/s]\n"
     ]
    },
    {
     "name": "stdout",
     "output_type": "stream",
     "text": [
      "{'val_loss': 0.4780199160313823, 'val_accuracy': 0.8477819347942277, 'precision': 0.8481022197107311, 'recall': 0.8477819347942277, 'f1-score': 0.8474207477384696, 'macro_f1-score': 0.8469192753561945, 'balanced_accuracy': 0.8558311553568352, 'mcc': 0.8136230130117429, 'train_loss': 0.13017378898374576}\n",
      "Epoch 9/20\n"
     ]
    },
    {
     "name": "stderr",
     "output_type": "stream",
     "text": [
      "100%|██████████| 3151/3151 [04:35<00:00, 11.44it/s]\n"
     ]
    },
    {
     "name": "stdout",
     "output_type": "stream",
     "text": [
      "{'val_loss': 0.5644379124300093, 'val_accuracy': 0.8539818278995189, 'precision': 0.8550603368556727, 'recall': 0.8539818278995189, 'f1-score': 0.8539721789124134, 'macro_f1-score': 0.851526107249633, 'balanced_accuracy': 0.8529263101061405, 'mcc': 0.8205933276461442, 'train_loss': 0.11545431954063785}\n",
      "Epoch 10/20\n"
     ]
    },
    {
     "name": "stderr",
     "output_type": "stream",
     "text": [
      "100%|██████████| 3151/3151 [04:35<00:00, 11.45it/s]\n"
     ]
    },
    {
     "name": "stdout",
     "output_type": "stream",
     "text": [
      "{'val_loss': 0.5786948736884401, 'val_accuracy': 0.8431854623196152, 'precision': 0.8448219502830396, 'recall': 0.8431854623196152, 'f1-score': 0.8429097826869094, 'macro_f1-score': 0.8407573594616391, 'balanced_accuracy': 0.8504786922864005, 'mcc': 0.8081953222792029, 'train_loss': 0.09630848844149013}\n",
      "Epoch 11/20\n"
     ]
    },
    {
     "name": "stderr",
     "output_type": "stream",
     "text": [
      "100%|██████████| 3151/3151 [04:35<00:00, 11.45it/s]\n"
     ]
    },
    {
     "name": "stdout",
     "output_type": "stream",
     "text": [
      "{'val_loss': 0.7259330170962892, 'val_accuracy': 0.848743987172635, 'precision': 0.849577883653497, 'recall': 0.848743987172635, 'f1-score': 0.8489744778642022, 'macro_f1-score': 0.8461699463691196, 'balanced_accuracy': 0.8537385768819101, 'mcc': 0.8141996202894592, 'train_loss': 0.08849489039019208}\n",
      "Epoch 12/20\n"
     ]
    },
    {
     "name": "stderr",
     "output_type": "stream",
     "text": [
      "100%|██████████| 3151/3151 [04:35<00:00, 11.45it/s]\n"
     ]
    },
    {
     "name": "stdout",
     "output_type": "stream",
     "text": [
      "{'val_loss': 0.6863606713831616, 'val_accuracy': 0.8416889363976483, 'precision': 0.8464778633156014, 'recall': 0.8416889363976483, 'f1-score': 0.8423413373135992, 'macro_f1-score': 0.8387355449236937, 'balanced_accuracy': 0.8523223109423628, 'mcc': 0.8071245636279221, 'train_loss': 0.0705560091321834}\n",
      "Early stopping.\n",
      "\n",
      "[Fold 3]\n",
      "🚀 Using Word2Vec + EDA (replace + deletion/swap) for data augmentation + under-sampling\n",
      "🔧 Augmenting label 1: 1399 → 5000 (+3601)\n",
      "🔧 Augmenting label 4: 1679 → 5000 (+3321)\n",
      "🔧 Augmenting label 6: 1738 → 5000 (+3262)\n",
      "🔧 Augmenting label 7: 2186 → 5000 (+2814)\n",
      "Label distribution after resampling:\n",
      "  label 0: 5626\n",
      "  label 1: 5000\n",
      "  label 2: 8442\n",
      "  label 3: 10770\n",
      "  label 4: 5000\n",
      "  label 5: 5578\n",
      "  label 6: 5000\n",
      "  label 7: 5000\n",
      "model is roberta-base cnn\n"
     ]
    },
    {
     "name": "stderr",
     "output_type": "stream",
     "text": [
      "Some weights of RobertaModel were not initialized from the model checkpoint at roberta-base and are newly initialized: ['pooler.dense.bias', 'pooler.dense.weight']\n",
      "You should probably TRAIN this model on a down-stream task to be able to use it for predictions and inference.\n"
     ]
    },
    {
     "name": "stdout",
     "output_type": "stream",
     "text": [
      "Epoch 1/20\n"
     ]
    },
    {
     "name": "stderr",
     "output_type": "stream",
     "text": [
      "100%|██████████| 3151/3151 [04:35<00:00, 11.44it/s]\n"
     ]
    },
    {
     "name": "stdout",
     "output_type": "stream",
     "text": [
      "{'val_loss': 0.5073564182744067, 'val_accuracy': 0.8265982467393629, 'precision': 0.8420611575712493, 'recall': 0.8265982467393629, 'f1-score': 0.8287982113314347, 'macro_f1-score': 0.8267057445619495, 'balanced_accuracy': 0.8579904918601933, 'mcc': 0.7909733474230544, 'train_loss': 0.6368835500200015}\n",
      "Epoch 2/20\n"
     ]
    },
    {
     "name": "stderr",
     "output_type": "stream",
     "text": [
      "100%|██████████| 3151/3151 [04:35<00:00, 11.45it/s]\n"
     ]
    },
    {
     "name": "stdout",
     "output_type": "stream",
     "text": [
      "{'val_loss': 0.4304055041864387, 'val_accuracy': 0.8537524053880693, 'precision': 0.8551249717143049, 'recall': 0.8537524053880693, 'f1-score': 0.8539069328211465, 'macro_f1-score': 0.8512905618444722, 'balanced_accuracy': 0.8609268597985182, 'mcc': 0.8203147432292701, 'train_loss': 0.4134333159056912}\n",
      "Epoch 3/20\n"
     ]
    },
    {
     "name": "stderr",
     "output_type": "stream",
     "text": [
      "100%|██████████| 3151/3151 [04:35<00:00, 11.45it/s]\n"
     ]
    },
    {
     "name": "stdout",
     "output_type": "stream",
     "text": [
      "{'val_loss': 0.46477587923534913, 'val_accuracy': 0.8501175967500535, 'precision': 0.8605283736984851, 'recall': 0.8501175967500535, 'f1-score': 0.8508262765614417, 'macro_f1-score': 0.851423141852335, 'balanced_accuracy': 0.8431118343508354, 'mcc': 0.8161342434125743, 'train_loss': 0.329852059936628}\n",
      "Epoch 4/20\n"
     ]
    },
    {
     "name": "stderr",
     "output_type": "stream",
     "text": [
      "100%|██████████| 3151/3151 [04:35<00:00, 11.45it/s]\n"
     ]
    },
    {
     "name": "stdout",
     "output_type": "stream",
     "text": [
      "{'val_loss': 0.4135880331389415, 'val_accuracy': 0.8603805858456275, 'precision': 0.862521086914733, 'recall': 0.8603805858456275, 'f1-score': 0.8605827188725588, 'macro_f1-score': 0.8564628379854746, 'balanced_accuracy': 0.858362735207554, 'mcc': 0.8282021390109852, 'train_loss': 0.2514154595508817}\n",
      "Epoch 5/20\n"
     ]
    },
    {
     "name": "stderr",
     "output_type": "stream",
     "text": [
      "100%|██████████| 3151/3151 [04:35<00:00, 11.45it/s]\n"
     ]
    },
    {
     "name": "stdout",
     "output_type": "stream",
     "text": [
      "{'val_loss': 0.4051158436884483, 'val_accuracy': 0.8640153944836434, 'precision': 0.8657655321702884, 'recall': 0.8640153944836434, 'f1-score': 0.864101574647037, 'macro_f1-score': 0.8583989854573674, 'balanced_accuracy': 0.8631575892990639, 'mcc': 0.8329457556564623, 'train_loss': 0.23863515784575004}\n",
      "Epoch 6/20\n"
     ]
    },
    {
     "name": "stderr",
     "output_type": "stream",
     "text": [
      "100%|██████████| 3151/3151 [04:35<00:00, 11.45it/s]\n"
     ]
    },
    {
     "name": "stdout",
     "output_type": "stream",
     "text": [
      "{'val_loss': 0.43598691920121, 'val_accuracy': 0.858242463117383, 'precision': 0.862560536022264, 'recall': 0.858242463117383, 'f1-score': 0.8589607350304754, 'macro_f1-score': 0.849864382335819, 'balanced_accuracy': 0.8717698346924384, 'mcc': 0.8268475653726942, 'train_loss': 0.21384342905590314}\n",
      "Epoch 7/20\n"
     ]
    },
    {
     "name": "stderr",
     "output_type": "stream",
     "text": [
      "100%|██████████| 3151/3151 [04:35<00:00, 11.45it/s]\n"
     ]
    },
    {
     "name": "stdout",
     "output_type": "stream",
     "text": [
      "{'val_loss': 0.468843292658671, 'val_accuracy': 0.8543938422065427, 'precision': 0.8580335908887532, 'recall': 0.8543938422065427, 'f1-score': 0.8548490951519657, 'macro_f1-score': 0.8479378426687355, 'balanced_accuracy': 0.8648569422056065, 'mcc': 0.8218122020449502, 'train_loss': 0.1930140520860014}\n",
      "Epoch 8/20\n"
     ]
    },
    {
     "name": "stderr",
     "output_type": "stream",
     "text": [
      "100%|██████████| 3151/3151 [04:35<00:00, 11.44it/s]\n"
     ]
    },
    {
     "name": "stdout",
     "output_type": "stream",
     "text": [
      "{'val_loss': 0.44550228944191567, 'val_accuracy': 0.86433611289288, 'precision': 0.868765257792105, 'recall': 0.86433611289288, 'f1-score': 0.864832833627064, 'macro_f1-score': 0.8616423715436685, 'balanced_accuracy': 0.8563582509204459, 'mcc': 0.8332295803718511, 'train_loss': 0.1745726769771285}\n",
      "Epoch 9/20\n"
     ]
    },
    {
     "name": "stderr",
     "output_type": "stream",
     "text": [
      "100%|██████████| 3151/3151 [04:35<00:00, 11.45it/s]\n"
     ]
    },
    {
     "name": "stdout",
     "output_type": "stream",
     "text": [
      "{'val_loss': 0.5990636843519334, 'val_accuracy': 0.8171905067350866, 'precision': 0.8245013459559393, 'recall': 0.8171905067350866, 'f1-score': 0.8173639527028916, 'macro_f1-score': 0.820955505441433, 'balanced_accuracy': 0.804817644622847, 'mcc': 0.7744919860947264, 'train_loss': 0.1619552037006546}\n",
      "Epoch 10/20\n"
     ]
    },
    {
     "name": "stderr",
     "output_type": "stream",
     "text": [
      "100%|██████████| 3151/3151 [04:35<00:00, 11.45it/s]\n"
     ]
    },
    {
     "name": "stdout",
     "output_type": "stream",
     "text": [
      "{'val_loss': 0.5112052855607218, 'val_accuracy': 0.8620910840282232, 'precision': 0.8657544931286448, 'recall': 0.8620910840282232, 'f1-score': 0.8625289725222712, 'macro_f1-score': 0.8574586582709626, 'balanced_accuracy': 0.8642839998765897, 'mcc': 0.8315664316356284, 'train_loss': 0.14928258570124003}\n",
      "Epoch 11/20\n"
     ]
    },
    {
     "name": "stderr",
     "output_type": "stream",
     "text": [
      "100%|██████████| 3151/3151 [04:35<00:00, 11.45it/s]\n"
     ]
    },
    {
     "name": "stdout",
     "output_type": "stream",
     "text": [
      "{'val_loss': 0.5171436758640294, 'val_accuracy': 0.86337395766517, 'precision': 0.8666668532331695, 'recall': 0.86337395766517, 'f1-score': 0.8639397681024858, 'macro_f1-score': 0.862254290377322, 'balanced_accuracy': 0.8703820371573512, 'mcc': 0.832828784982699, 'train_loss': 0.12569466677527008}\n",
      "Epoch 12/20\n"
     ]
    },
    {
     "name": "stderr",
     "output_type": "stream",
     "text": [
      "100%|██████████| 3151/3151 [04:35<00:00, 11.45it/s]\n"
     ]
    },
    {
     "name": "stdout",
     "output_type": "stream",
     "text": [
      "{'val_loss': 0.5484431268802533, 'val_accuracy': 0.8533247808424204, 'precision': 0.8569826156394957, 'recall': 0.8533247808424204, 'f1-score': 0.8532098462992134, 'macro_f1-score': 0.8495898271762314, 'balanced_accuracy': 0.8582850476422107, 'mcc': 0.8205763405615442, 'train_loss': 0.11717972282352367}\n",
      "Epoch 13/20\n"
     ]
    },
    {
     "name": "stderr",
     "output_type": "stream",
     "text": [
      "100%|██████████| 3151/3151 [04:35<00:00, 11.45it/s]\n"
     ]
    },
    {
     "name": "stdout",
     "output_type": "stream",
     "text": [
      "{'val_loss': 0.6100483681184725, 'val_accuracy': 0.8614496472097498, 'precision': 0.8637017724674141, 'recall': 0.8614496472097498, 'f1-score': 0.862002093970132, 'macro_f1-score': 0.8549609970895449, 'balanced_accuracy': 0.8641787805820591, 'mcc': 0.8300039480324913, 'train_loss': 0.09522784437396573}\n",
      "Epoch 14/20\n"
     ]
    },
    {
     "name": "stderr",
     "output_type": "stream",
     "text": [
      "100%|██████████| 3151/3151 [04:35<00:00, 11.45it/s]\n"
     ]
    },
    {
     "name": "stdout",
     "output_type": "stream",
     "text": [
      "{'val_loss': 0.5389279830347126, 'val_accuracy': 0.8631601453923455, 'precision': 0.8654305980247975, 'recall': 0.8631601453923455, 'f1-score': 0.8629816357205283, 'macro_f1-score': 0.8583626575928396, 'balanced_accuracy': 0.8405514522118659, 'mcc': 0.8310781507671713, 'train_loss': 0.09246264852618359}\n",
      "Early stopping.\n",
      "\n",
      "[Fold 4]\n",
      "🚀 Using Word2Vec + EDA (replace + deletion/swap) for data augmentation + under-sampling\n",
      "🔧 Augmenting label 1: 1399 → 5000 (+3601)\n",
      "🔧 Augmenting label 4: 1679 → 5000 (+3321)\n",
      "🔧 Augmenting label 6: 1738 → 5000 (+3262)\n",
      "🔧 Augmenting label 7: 2186 → 5000 (+2814)\n",
      "Label distribution after resampling:\n",
      "  label 0: 5625\n",
      "  label 1: 5000\n",
      "  label 2: 8441\n",
      "  label 3: 10771\n",
      "  label 4: 5000\n",
      "  label 5: 5579\n",
      "  label 6: 5000\n",
      "  label 7: 5000\n",
      "model is roberta-base cnn\n"
     ]
    },
    {
     "name": "stderr",
     "output_type": "stream",
     "text": [
      "Some weights of RobertaModel were not initialized from the model checkpoint at roberta-base and are newly initialized: ['pooler.dense.bias', 'pooler.dense.weight']\n",
      "You should probably TRAIN this model on a down-stream task to be able to use it for predictions and inference.\n"
     ]
    },
    {
     "name": "stdout",
     "output_type": "stream",
     "text": [
      "Epoch 1/20\n"
     ]
    },
    {
     "name": "stderr",
     "output_type": "stream",
     "text": [
      "100%|██████████| 3151/3151 [04:35<00:00, 11.44it/s]\n"
     ]
    },
    {
     "name": "stdout",
     "output_type": "stream",
     "text": [
      "{'val_loss': 0.4852507514640307, 'val_accuracy': 0.8355783621979902, 'precision': 0.8395618385607987, 'recall': 0.8355783621979902, 'f1-score': 0.8357794094785254, 'macro_f1-score': 0.8350687442260665, 'balanced_accuracy': 0.8549534761130135, 'mcc': 0.7997858016142045, 'train_loss': 0.6496102815498079}\n",
      "Epoch 2/20\n"
     ]
    },
    {
     "name": "stderr",
     "output_type": "stream",
     "text": [
      "100%|██████████| 3151/3151 [04:35<00:00, 11.44it/s]\n"
     ]
    },
    {
     "name": "stdout",
     "output_type": "stream",
     "text": [
      "{'val_loss': 0.48714308275116813, 'val_accuracy': 0.8393200769724182, 'precision': 0.8483795613338325, 'recall': 0.8393200769724182, 'f1-score': 0.8398691609972345, 'macro_f1-score': 0.8360811316632958, 'balanced_accuracy': 0.8684336006665473, 'mcc': 0.806272535830075, 'train_loss': 0.4178217674328605}\n",
      "Epoch 3/20\n"
     ]
    },
    {
     "name": "stderr",
     "output_type": "stream",
     "text": [
      "100%|██████████| 3151/3151 [04:35<00:00, 11.45it/s]\n"
     ]
    },
    {
     "name": "stdout",
     "output_type": "stream",
     "text": [
      "{'val_loss': 0.47548279074522165, 'val_accuracy': 0.8324780842420355, 'precision': 0.8434141826785324, 'recall': 0.8324780842420355, 'f1-score': 0.8333561366870954, 'macro_f1-score': 0.8199807047156138, 'balanced_accuracy': 0.8698667022469877, 'mcc': 0.7986666005484425, 'train_loss': 0.3331689892395248}\n",
      "Epoch 4/20\n"
     ]
    },
    {
     "name": "stderr",
     "output_type": "stream",
     "text": [
      "100%|██████████| 3151/3151 [04:35<00:00, 11.45it/s]\n"
     ]
    },
    {
     "name": "stdout",
     "output_type": "stream",
     "text": [
      "{'val_loss': 0.4479013248131825, 'val_accuracy': 0.8559974342527261, 'precision': 0.8576556145471591, 'recall': 0.8559974342527261, 'f1-score': 0.8553286842108009, 'macro_f1-score': 0.8560783441479087, 'balanced_accuracy': 0.8626022679776478, 'mcc': 0.8238180377799716, 'train_loss': 0.2640730207433504}\n",
      "Epoch 5/20\n"
     ]
    },
    {
     "name": "stderr",
     "output_type": "stream",
     "text": [
      "100%|██████████| 3151/3151 [04:35<00:00, 11.45it/s]\n"
     ]
    },
    {
     "name": "stdout",
     "output_type": "stream",
     "text": [
      "{'val_loss': 0.49255192930786273, 'val_accuracy': 0.8561043403891383, 'precision': 0.8579522057528506, 'recall': 0.8561043403891383, 'f1-score': 0.8561227673727798, 'macro_f1-score': 0.8524238477299563, 'balanced_accuracy': 0.8496948827822949, 'mcc': 0.8235309751316727, 'train_loss': 0.21561438118094908}\n",
      "Epoch 6/20\n"
     ]
    },
    {
     "name": "stderr",
     "output_type": "stream",
     "text": [
      "100%|██████████| 3151/3151 [04:35<00:00, 11.45it/s]\n"
     ]
    },
    {
     "name": "stdout",
     "output_type": "stream",
     "text": [
      "{'val_loss': 0.47375932265725784, 'val_accuracy': 0.8626256147102843, 'precision': 0.8628525106309958, 'recall': 0.8626256147102843, 'f1-score': 0.8622984738326658, 'macro_f1-score': 0.8588921565006296, 'balanced_accuracy': 0.8609479678694782, 'mcc': 0.8312126564677997, 'train_loss': 0.17273349395498835}\n",
      "Epoch 7/20\n"
     ]
    },
    {
     "name": "stderr",
     "output_type": "stream",
     "text": [
      "100%|██████████| 3151/3151 [04:35<00:00, 11.45it/s]\n"
     ]
    },
    {
     "name": "stdout",
     "output_type": "stream",
     "text": [
      "{'val_loss': 0.4938496378879262, 'val_accuracy': 0.8523626256147103, 'precision': 0.8547854373541784, 'recall': 0.8523626256147103, 'f1-score': 0.852253869522948, 'macro_f1-score': 0.8525599409037803, 'balanced_accuracy': 0.8578904448910847, 'mcc': 0.8193355230957139, 'train_loss': 0.146306272506999}\n",
      "Epoch 8/20\n"
     ]
    },
    {
     "name": "stderr",
     "output_type": "stream",
     "text": [
      "100%|██████████| 3151/3151 [04:35<00:00, 11.45it/s]\n"
     ]
    },
    {
     "name": "stdout",
     "output_type": "stream",
     "text": [
      "{'val_loss': 0.9181312854982849, 'val_accuracy': 0.6831302116741501, 'precision': 0.8062171467667845, 'recall': 0.6831302116741501, 'f1-score': 0.6925743463709922, 'macro_f1-score': 0.721614278692479, 'balanced_accuracy': 0.6710550225684246, 'mcc': 0.6449176995703414, 'train_loss': 0.14670231531893094}\n",
      "Epoch 9/20\n"
     ]
    },
    {
     "name": "stderr",
     "output_type": "stream",
     "text": [
      "100%|██████████| 3151/3151 [04:35<00:00, 11.45it/s]\n"
     ]
    },
    {
     "name": "stdout",
     "output_type": "stream",
     "text": [
      "{'val_loss': 0.6117549556092574, 'val_accuracy': 0.8314090228779132, 'precision': 0.8388674466373163, 'recall': 0.8314090228779132, 'f1-score': 0.8326105321330053, 'macro_f1-score': 0.8223787858075844, 'balanced_accuracy': 0.8407910870308657, 'mcc': 0.7940370983912828, 'train_loss': 0.14848613920720033}\n",
      "Early stopping.\n",
      "\n",
      "[Fold 5]\n",
      "🚀 Using Word2Vec + EDA (replace + deletion/swap) for data augmentation + under-sampling\n",
      "🔧 Augmenting label 1: 1399 → 5000 (+3601)\n",
      "🔧 Augmenting label 4: 1678 → 5000 (+3322)\n",
      "🔧 Augmenting label 6: 1738 → 5000 (+3262)\n",
      "🔧 Augmenting label 7: 2187 → 5000 (+2813)\n",
      "Label distribution after resampling:\n",
      "  label 0: 5625\n",
      "  label 1: 5000\n",
      "  label 2: 8441\n",
      "  label 3: 10771\n",
      "  label 4: 5000\n",
      "  label 5: 5579\n",
      "  label 6: 5000\n",
      "  label 7: 5000\n",
      "model is roberta-base cnn\n"
     ]
    },
    {
     "name": "stderr",
     "output_type": "stream",
     "text": [
      "Some weights of RobertaModel were not initialized from the model checkpoint at roberta-base and are newly initialized: ['pooler.dense.bias', 'pooler.dense.weight']\n",
      "You should probably TRAIN this model on a down-stream task to be able to use it for predictions and inference.\n"
     ]
    },
    {
     "name": "stdout",
     "output_type": "stream",
     "text": [
      "Epoch 1/20\n"
     ]
    },
    {
     "name": "stderr",
     "output_type": "stream",
     "text": [
      "100%|██████████| 3151/3151 [04:35<00:00, 11.44it/s]\n"
     ]
    },
    {
     "name": "stdout",
     "output_type": "stream",
     "text": [
      "{'val_loss': 0.48206001532892895, 'val_accuracy': 0.8371819542441736, 'precision': 0.8388835187745781, 'recall': 0.8371819542441736, 'f1-score': 0.8374533124498018, 'macro_f1-score': 0.8394161934873913, 'balanced_accuracy': 0.8492153494547362, 'mcc': 0.799960746221892, 'train_loss': 0.6339401519585133}\n",
      "Epoch 2/20\n"
     ]
    },
    {
     "name": "stderr",
     "output_type": "stream",
     "text": [
      "100%|██████████| 3151/3151 [04:35<00:00, 11.44it/s]\n"
     ]
    },
    {
     "name": "stdout",
     "output_type": "stream",
     "text": [
      "{'val_loss': 0.4897262059979969, 'val_accuracy': 0.8391062646995937, 'precision': 0.8416060241068953, 'recall': 0.8391062646995937, 'f1-score': 0.838714108372586, 'macro_f1-score': 0.83861079401756, 'balanced_accuracy': 0.8455502070823142, 'mcc': 0.8029180593137817, 'train_loss': 0.41950589078571615}\n",
      "Epoch 3/20\n"
     ]
    },
    {
     "name": "stderr",
     "output_type": "stream",
     "text": [
      "100%|██████████| 3151/3151 [04:35<00:00, 11.45it/s]\n"
     ]
    },
    {
     "name": "stdout",
     "output_type": "stream",
     "text": [
      "{'val_loss': 0.49634317287809065, 'val_accuracy': 0.8380372033354715, 'precision': 0.8496719870412865, 'recall': 0.8380372033354715, 'f1-score': 0.8402002678613819, 'macro_f1-score': 0.832151863714506, 'balanced_accuracy': 0.861078775640244, 'mcc': 0.8029500001294443, 'train_loss': 0.33507334944484407}\n",
      "Epoch 4/20\n"
     ]
    },
    {
     "name": "stderr",
     "output_type": "stream",
     "text": [
      "100%|██████████| 3151/3151 [04:35<00:00, 11.45it/s]\n"
     ]
    },
    {
     "name": "stdout",
     "output_type": "stream",
     "text": [
      "{'val_loss': 0.4795817266035284, 'val_accuracy': 0.8402822322001283, 'precision': 0.846393343551847, 'recall': 0.8402822322001283, 'f1-score': 0.8402819791939006, 'macro_f1-score': 0.839460291280242, 'balanced_accuracy': 0.8581063533881867, 'mcc': 0.8060465731944862, 'train_loss': 0.27618199161935736}\n",
      "Epoch 5/20\n"
     ]
    },
    {
     "name": "stderr",
     "output_type": "stream",
     "text": [
      "100%|██████████| 3151/3151 [04:35<00:00, 11.45it/s]\n"
     ]
    },
    {
     "name": "stdout",
     "output_type": "stream",
     "text": [
      "{'val_loss': 0.4645223957574011, 'val_accuracy': 0.8547145606157793, 'precision': 0.8579510153773278, 'recall': 0.8547145606157793, 'f1-score': 0.8550818191660484, 'macro_f1-score': 0.8498073974566565, 'balanced_accuracy': 0.8560919634628394, 'mcc': 0.8214980604457277, 'train_loss': 0.2289180044584734}\n",
      "Epoch 6/20\n"
     ]
    },
    {
     "name": "stderr",
     "output_type": "stream",
     "text": [
      "100%|██████████| 3151/3151 [04:35<00:00, 11.45it/s]\n"
     ]
    },
    {
     "name": "stdout",
     "output_type": "stream",
     "text": [
      "{'val_loss': 0.47054889454450616, 'val_accuracy': 0.8493692537951678, 'precision': 0.8524633892340646, 'recall': 0.8493692537951678, 'f1-score': 0.8495220047404671, 'macro_f1-score': 0.8436238255620755, 'balanced_accuracy': 0.8586644301983657, 'mcc': 0.8157657825664203, 'train_loss': 0.18538509107222031}\n",
      "Epoch 7/20\n"
     ]
    },
    {
     "name": "stderr",
     "output_type": "stream",
     "text": [
      "100%|██████████| 3151/3151 [04:35<00:00, 11.45it/s]\n"
     ]
    },
    {
     "name": "stdout",
     "output_type": "stream",
     "text": [
      "{'val_loss': 0.47603802447740595, 'val_accuracy': 0.8566388710711995, 'precision': 0.8589785367267544, 'recall': 0.8566388710711995, 'f1-score': 0.8571948115328054, 'macro_f1-score': 0.8497292124910385, 'balanced_accuracy': 0.8625446509073675, 'mcc': 0.8242461151665633, 'train_loss': 0.1577134984821023}\n",
      "Epoch 8/20\n"
     ]
    },
    {
     "name": "stderr",
     "output_type": "stream",
     "text": [
      "100%|██████████| 3151/3151 [04:35<00:00, 11.45it/s]\n"
     ]
    },
    {
     "name": "stdout",
     "output_type": "stream",
     "text": [
      "{'val_loss': 0.6282245787626737, 'val_accuracy': 0.8426341672011973, 'precision': 0.8465596554604011, 'recall': 0.8426341672011973, 'f1-score': 0.8416393472224105, 'macro_f1-score': 0.8421862425534236, 'balanced_accuracy': 0.8573474513795688, 'mcc': 0.8087018250949205, 'train_loss': 0.1366826181357952}\n",
      "Early stopping.\n",
      "\n",
      " === roberta-base + cnn + word2vec_eda Final 5-fold Cross-Validation Results ===\n",
      "val_loss: 0.4975\n",
      "val_accuracy: 0.8592\n",
      "precision: 0.8613\n",
      "recall: 0.8592\n",
      "f1-score: 0.8594\n",
      "macro_f1-score: 0.8565\n",
      "balanced_accuracy: 0.8597\n",
      "mcc: 0.8271\n",
      "train_loss: 0.1632\n",
      "total_seconds: 15434.0000\n",
      "total_time: 4 hrs 17 mins 14 secs\n",
      "▶ Running: roberta-base + lstm + word2vec_eda\n",
      "tokenizer is roberta-base\n",
      "Using device: cuda\n",
      "CUDA Available: True\n",
      "CUDA Device: NVIDIA GeForce RTX 5070 Ti\n",
      "Current GPU Memory Allocated: 0.02 GB\n",
      "Current GPU Memory Cached: 3.91 GB\n",
      "\n",
      "[Fold 1]\n",
      "🚀 Using Word2Vec + EDA (replace + deletion/swap) for data augmentation + under-sampling\n",
      "🔧 Augmenting label 1: 1399 → 5000 (+3601)\n",
      "🔧 Augmenting label 4: 1678 → 5000 (+3322)\n",
      "🔧 Augmenting label 6: 1737 → 5000 (+3263)\n",
      "🔧 Augmenting label 7: 2187 → 5000 (+2813)\n",
      "Label distribution after resampling:\n",
      "  label 0: 5626\n",
      "  label 1: 5000\n",
      "  label 2: 8442\n",
      "  label 3: 10770\n",
      "  label 4: 5000\n",
      "  label 5: 5578\n",
      "  label 6: 5000\n",
      "  label 7: 5000\n",
      "model is roberta-base lstm\n"
     ]
    },
    {
     "name": "stderr",
     "output_type": "stream",
     "text": [
      "Some weights of RobertaModel were not initialized from the model checkpoint at roberta-base and are newly initialized: ['pooler.dense.bias', 'pooler.dense.weight']\n",
      "You should probably TRAIN this model on a down-stream task to be able to use it for predictions and inference.\n"
     ]
    },
    {
     "name": "stdout",
     "output_type": "stream",
     "text": [
      "Epoch 1/20\n"
     ]
    },
    {
     "name": "stderr",
     "output_type": "stream",
     "text": [
      "100%|██████████| 3151/3151 [04:50<00:00, 10.86it/s]\n"
     ]
    },
    {
     "name": "stdout",
     "output_type": "stream",
     "text": [
      "{'val_loss': 0.5213587569247963, 'val_accuracy': 0.8238375200427579, 'precision': 0.8349220945979887, 'recall': 0.8238375200427579, 'f1-score': 0.8232866698130102, 'macro_f1-score': 0.8297355900510446, 'balanced_accuracy': 0.836743624613371, 'mcc': 0.7879625405637511, 'train_loss': 0.6436160508938127}\n",
      "Epoch 2/20\n"
     ]
    },
    {
     "name": "stderr",
     "output_type": "stream",
     "text": [
      "100%|██████████| 3151/3151 [04:50<00:00, 10.86it/s]\n"
     ]
    },
    {
     "name": "stdout",
     "output_type": "stream",
     "text": [
      "{'val_loss': 0.4533628288974874, 'val_accuracy': 0.8502405130946018, 'precision': 0.8519614179984164, 'recall': 0.8502405130946018, 'f1-score': 0.8502295757275546, 'macro_f1-score': 0.8448280171849607, 'balanced_accuracy': 0.8632003136796667, 'mcc': 0.8165292541021499, 'train_loss': 0.4195619457706062}\n",
      "Epoch 3/20\n"
     ]
    },
    {
     "name": "stderr",
     "output_type": "stream",
     "text": [
      "100%|██████████| 3151/3151 [04:50<00:00, 10.86it/s]\n"
     ]
    },
    {
     "name": "stdout",
     "output_type": "stream",
     "text": [
      "{'val_loss': 0.43982381688542344, 'val_accuracy': 0.8607161945483699, 'precision': 0.864272184060247, 'recall': 0.8607161945483699, 'f1-score': 0.8610690197076383, 'macro_f1-score': 0.8586958229899972, 'balanced_accuracy': 0.8627697297511403, 'mcc': 0.8292066203482269, 'train_loss': 0.3336458808184734}\n",
      "Epoch 4/20\n"
     ]
    },
    {
     "name": "stderr",
     "output_type": "stream",
     "text": [
      "100%|██████████| 3151/3151 [04:49<00:00, 10.88it/s]\n"
     ]
    },
    {
     "name": "stdout",
     "output_type": "stream",
     "text": [
      "{'val_loss': 0.4891411180854735, 'val_accuracy': 0.8469267771245323, 'precision': 0.8503973332654032, 'recall': 0.8469267771245323, 'f1-score': 0.8468693248144852, 'macro_f1-score': 0.8419493642902512, 'balanced_accuracy': 0.8579763127511775, 'mcc': 0.8131435300370657, 'train_loss': 0.27375788060798695}\n",
      "Epoch 5/20\n"
     ]
    },
    {
     "name": "stderr",
     "output_type": "stream",
     "text": [
      "100%|██████████| 3151/3151 [04:49<00:00, 10.87it/s]\n"
     ]
    },
    {
     "name": "stdout",
     "output_type": "stream",
     "text": [
      "{'val_loss': 0.484415774149263, 'val_accuracy': 0.8619989310529129, 'precision': 0.8630912162073696, 'recall': 0.8619989310529129, 'f1-score': 0.8621248506484395, 'macro_f1-score': 0.856904657501036, 'balanced_accuracy': 0.8582346465131803, 'mcc': 0.8303814042416371, 'train_loss': 0.22908751927455104}\n",
      "Epoch 6/20\n"
     ]
    },
    {
     "name": "stderr",
     "output_type": "stream",
     "text": [
      "100%|██████████| 3151/3151 [04:49<00:00, 10.88it/s]\n"
     ]
    },
    {
     "name": "stdout",
     "output_type": "stream",
     "text": [
      "{'val_loss': 0.5383378959929522, 'val_accuracy': 0.8425440940673437, 'precision': 0.8476551331540044, 'recall': 0.8425440940673437, 'f1-score': 0.8430283216635645, 'macro_f1-score': 0.831895347374642, 'balanced_accuracy': 0.8592735561292093, 'mcc': 0.8082515990382103, 'train_loss': 0.18853434352739173}\n",
      "Early stopping.\n",
      "\n",
      "[Fold 2]\n",
      "🚀 Using Word2Vec + EDA (replace + deletion/swap) for data augmentation + under-sampling\n",
      "🔧 Augmenting label 1: 1400 → 5000 (+3600)\n",
      "🔧 Augmenting label 4: 1678 → 5000 (+3322)\n",
      "🔧 Augmenting label 6: 1737 → 5000 (+3263)\n",
      "🔧 Augmenting label 7: 2186 → 5000 (+2814)\n",
      "Label distribution after resampling:\n",
      "  label 0: 5626\n",
      "  label 1: 5000\n",
      "  label 2: 8442\n",
      "  label 3: 10770\n",
      "  label 4: 5000\n",
      "  label 5: 5578\n",
      "  label 6: 5000\n",
      "  label 7: 5000\n",
      "model is roberta-base lstm\n"
     ]
    },
    {
     "name": "stderr",
     "output_type": "stream",
     "text": [
      "Some weights of RobertaModel were not initialized from the model checkpoint at roberta-base and are newly initialized: ['pooler.dense.bias', 'pooler.dense.weight']\n",
      "You should probably TRAIN this model on a down-stream task to be able to use it for predictions and inference.\n"
     ]
    },
    {
     "name": "stdout",
     "output_type": "stream",
     "text": [
      "Epoch 1/20\n"
     ]
    },
    {
     "name": "stderr",
     "output_type": "stream",
     "text": [
      "100%|██████████| 3151/3151 [04:49<00:00, 10.88it/s]\n"
     ]
    },
    {
     "name": "stdout",
     "output_type": "stream",
     "text": [
      "{'val_loss': 0.5334345191621628, 'val_accuracy': 0.8154997327632282, 'precision': 0.828308239536923, 'recall': 0.8154997327632282, 'f1-score': 0.8163617045562881, 'macro_f1-score': 0.8139864401057642, 'balanced_accuracy': 0.8546739530764424, 'mcc': 0.778565198976595, 'train_loss': 0.6739982831768008}\n",
      "Epoch 2/20\n"
     ]
    },
    {
     "name": "stderr",
     "output_type": "stream",
     "text": [
      "100%|██████████| 3151/3151 [04:49<00:00, 10.87it/s]\n"
     ]
    },
    {
     "name": "stdout",
     "output_type": "stream",
     "text": [
      "{'val_loss': 0.5499201823057782, 'val_accuracy': 0.8128273650454303, 'precision': 0.8215782205393589, 'recall': 0.8128273650454303, 'f1-score': 0.8124326414923706, 'macro_f1-score': 0.8100252138629838, 'balanced_accuracy': 0.8433199601511636, 'mcc': 0.7740930938548604, 'train_loss': 0.4313176471381784}\n",
      "Epoch 3/20\n"
     ]
    },
    {
     "name": "stderr",
     "output_type": "stream",
     "text": [
      "100%|██████████| 3151/3151 [04:49<00:00, 10.87it/s]\n"
     ]
    },
    {
     "name": "stdout",
     "output_type": "stream",
     "text": [
      "{'val_loss': 0.49156776864845786, 'val_accuracy': 0.843399251737039, 'precision': 0.8477508474754631, 'recall': 0.843399251737039, 'f1-score': 0.8433776351713912, 'macro_f1-score': 0.8420699012507056, 'balanced_accuracy': 0.8649708871488129, 'mcc': 0.8097977699591883, 'train_loss': 0.34561051607784565}\n",
      "Epoch 4/20\n"
     ]
    },
    {
     "name": "stderr",
     "output_type": "stream",
     "text": [
      "100%|██████████| 3151/3151 [04:49<00:00, 10.87it/s]\n"
     ]
    },
    {
     "name": "stdout",
     "output_type": "stream",
     "text": [
      "{'val_loss': 0.5672034457799556, 'val_accuracy': 0.826296098343132, 'precision': 0.8369301542849931, 'recall': 0.826296098343132, 'f1-score': 0.8260283640283844, 'macro_f1-score': 0.8226782943598018, 'balanced_accuracy': 0.8623699247954124, 'mcc': 0.7918213415151129, 'train_loss': 0.29057795601216846}\n",
      "Epoch 5/20\n"
     ]
    },
    {
     "name": "stderr",
     "output_type": "stream",
     "text": [
      "100%|██████████| 3151/3151 [04:49<00:00, 10.88it/s]\n"
     ]
    },
    {
     "name": "stdout",
     "output_type": "stream",
     "text": [
      "{'val_loss': 0.5050063553417468, 'val_accuracy': 0.8422234099412079, 'precision': 0.8463937597713801, 'recall': 0.8422234099412079, 'f1-score': 0.8422955836970767, 'macro_f1-score': 0.8393588614704577, 'balanced_accuracy': 0.8347355117886146, 'mcc': 0.8059560141745278, 'train_loss': 0.24029839023006638}\n",
      "Epoch 6/20\n"
     ]
    },
    {
     "name": "stderr",
     "output_type": "stream",
     "text": [
      "100%|██████████| 3151/3151 [04:49<00:00, 10.87it/s]\n"
     ]
    },
    {
     "name": "stdout",
     "output_type": "stream",
     "text": [
      "{'val_loss': 0.5508845813970408, 'val_accuracy': 0.8345269909139498, 'precision': 0.8354988552123856, 'recall': 0.8345269909139498, 'f1-score': 0.834110104859417, 'macro_f1-score': 0.832334280634896, 'balanced_accuracy': 0.84631879670124, 'mcc': 0.7974140015068214, 'train_loss': 0.22136729940067432}\n",
      "Early stopping.\n",
      "\n",
      "[Fold 3]\n",
      "🚀 Using Word2Vec + EDA (replace + deletion/swap) for data augmentation + under-sampling\n",
      "🔧 Augmenting label 1: 1399 → 5000 (+3601)\n",
      "🔧 Augmenting label 4: 1679 → 5000 (+3321)\n",
      "🔧 Augmenting label 6: 1738 → 5000 (+3262)\n",
      "🔧 Augmenting label 7: 2186 → 5000 (+2814)\n",
      "Label distribution after resampling:\n",
      "  label 0: 5626\n",
      "  label 1: 5000\n",
      "  label 2: 8442\n",
      "  label 3: 10770\n",
      "  label 4: 5000\n",
      "  label 5: 5578\n",
      "  label 6: 5000\n",
      "  label 7: 5000\n",
      "model is roberta-base lstm\n"
     ]
    },
    {
     "name": "stderr",
     "output_type": "stream",
     "text": [
      "Some weights of RobertaModel were not initialized from the model checkpoint at roberta-base and are newly initialized: ['pooler.dense.bias', 'pooler.dense.weight']\n",
      "You should probably TRAIN this model on a down-stream task to be able to use it for predictions and inference.\n"
     ]
    },
    {
     "name": "stdout",
     "output_type": "stream",
     "text": [
      "Epoch 1/20\n"
     ]
    },
    {
     "name": "stderr",
     "output_type": "stream",
     "text": [
      "100%|██████████| 3151/3151 [04:50<00:00, 10.86it/s]\n"
     ]
    },
    {
     "name": "stdout",
     "output_type": "stream",
     "text": [
      "{'val_loss': 0.4846932731059372, 'val_accuracy': 0.8339747701518068, 'precision': 0.8385882840619202, 'recall': 0.8339747701518068, 'f1-score': 0.8344596026969208, 'macro_f1-score': 0.8289965142544224, 'balanced_accuracy': 0.8503009478969066, 'mcc': 0.7972364619774269, 'train_loss': 0.6589427185151756}\n",
      "Epoch 2/20\n"
     ]
    },
    {
     "name": "stderr",
     "output_type": "stream",
     "text": [
      "100%|██████████| 3151/3151 [04:49<00:00, 10.88it/s]\n"
     ]
    },
    {
     "name": "stdout",
     "output_type": "stream",
     "text": [
      "{'val_loss': 0.4526063988287734, 'val_accuracy': 0.8506521274321146, 'precision': 0.8554625812903355, 'recall': 0.8506521274321146, 'f1-score': 0.8506243092149103, 'macro_f1-score': 0.8457131919553642, 'balanced_accuracy': 0.8508685392000302, 'mcc': 0.816868121747813, 'train_loss': 0.42130678125442267}\n",
      "Epoch 3/20\n"
     ]
    },
    {
     "name": "stderr",
     "output_type": "stream",
     "text": [
      "100%|██████████| 3151/3151 [04:49<00:00, 10.88it/s]\n"
     ]
    },
    {
     "name": "stdout",
     "output_type": "stream",
     "text": [
      "{'val_loss': 0.42848639238275527, 'val_accuracy': 0.8580286508445585, 'precision': 0.8601955983703017, 'recall': 0.8580286508445585, 'f1-score': 0.8585102504527051, 'macro_f1-score': 0.8529663226864359, 'balanced_accuracy': 0.8613461658421351, 'mcc': 0.8256149533462527, 'train_loss': 0.33991037311948075}\n",
      "Epoch 4/20\n"
     ]
    },
    {
     "name": "stderr",
     "output_type": "stream",
     "text": [
      "100%|██████████| 3151/3151 [04:49<00:00, 10.87it/s]\n"
     ]
    },
    {
     "name": "stdout",
     "output_type": "stream",
     "text": [
      "{'val_loss': 0.45740845087342535, 'val_accuracy': 0.8579217447081462, 'precision': 0.862065216048966, 'recall': 0.8579217447081462, 'f1-score': 0.8583223818035033, 'macro_f1-score': 0.8552559648517866, 'balanced_accuracy': 0.8708394311497385, 'mcc': 0.8270705106482701, 'train_loss': 0.28004708797817207}\n",
      "Epoch 5/20\n"
     ]
    },
    {
     "name": "stderr",
     "output_type": "stream",
     "text": [
      "100%|██████████| 3151/3151 [04:49<00:00, 10.88it/s]\n"
     ]
    },
    {
     "name": "stdout",
     "output_type": "stream",
     "text": [
      "{'val_loss': 0.47946182316185065, 'val_accuracy': 0.8557836219799017, 'precision': 0.8587899676328777, 'recall': 0.8557836219799017, 'f1-score': 0.8561262150504295, 'macro_f1-score': 0.8501201409894423, 'balanced_accuracy': 0.869297406832773, 'mcc': 0.8241720237483353, 'train_loss': 0.23515665997455198}\n",
      "Epoch 6/20\n"
     ]
    },
    {
     "name": "stderr",
     "output_type": "stream",
     "text": [
      "100%|██████████| 3151/3151 [04:49<00:00, 10.88it/s]\n"
     ]
    },
    {
     "name": "stdout",
     "output_type": "stream",
     "text": [
      "{'val_loss': 0.5626310714241913, 'val_accuracy': 0.8500106906136412, 'precision': 0.8553008419254013, 'recall': 0.8500106906136412, 'f1-score': 0.8506527355696233, 'macro_f1-score': 0.8465128171077272, 'balanced_accuracy': 0.8671044463967944, 'mcc': 0.8172853561263943, 'train_loss': 0.19460603941240243}\n",
      "Epoch 7/20\n"
     ]
    },
    {
     "name": "stderr",
     "output_type": "stream",
     "text": [
      "100%|██████████| 3151/3151 [04:49<00:00, 10.87it/s]\n"
     ]
    },
    {
     "name": "stdout",
     "output_type": "stream",
     "text": [
      "{'val_loss': 0.524399943711061, 'val_accuracy': 0.8550352790250161, 'precision': 0.8598004322800937, 'recall': 0.8550352790250161, 'f1-score': 0.855242581588843, 'macro_f1-score': 0.8512022199059981, 'balanced_accuracy': 0.8739809824135009, 'mcc': 0.8240760138213356, 'train_loss': 0.16349204745890247}\n",
      "Early stopping.\n",
      "\n",
      "[Fold 4]\n",
      "🚀 Using Word2Vec + EDA (replace + deletion/swap) for data augmentation + under-sampling\n",
      "🔧 Augmenting label 1: 1399 → 5000 (+3601)\n",
      "🔧 Augmenting label 4: 1679 → 5000 (+3321)\n",
      "🔧 Augmenting label 6: 1738 → 5000 (+3262)\n",
      "🔧 Augmenting label 7: 2186 → 5000 (+2814)\n",
      "Label distribution after resampling:\n",
      "  label 0: 5625\n",
      "  label 1: 5000\n",
      "  label 2: 8441\n",
      "  label 3: 10771\n",
      "  label 4: 5000\n",
      "  label 5: 5579\n",
      "  label 6: 5000\n",
      "  label 7: 5000\n",
      "model is roberta-base lstm\n"
     ]
    },
    {
     "name": "stderr",
     "output_type": "stream",
     "text": [
      "Some weights of RobertaModel were not initialized from the model checkpoint at roberta-base and are newly initialized: ['pooler.dense.bias', 'pooler.dense.weight']\n",
      "You should probably TRAIN this model on a down-stream task to be able to use it for predictions and inference.\n"
     ]
    },
    {
     "name": "stdout",
     "output_type": "stream",
     "text": [
      "Epoch 1/20\n"
     ]
    },
    {
     "name": "stderr",
     "output_type": "stream",
     "text": [
      "100%|██████████| 3151/3151 [04:49<00:00, 10.87it/s]\n"
     ]
    },
    {
     "name": "stdout",
     "output_type": "stream",
     "text": [
      "{'val_loss': 0.5392996890995747, 'val_accuracy': 0.8175112251443233, 'precision': 0.8342892814210183, 'recall': 0.8175112251443233, 'f1-score': 0.8191906267429936, 'macro_f1-score': 0.8079996286327573, 'balanced_accuracy': 0.8535686956144921, 'mcc': 0.7817920250973368, 'train_loss': 0.6427269210369199}\n",
      "Epoch 2/20\n"
     ]
    },
    {
     "name": "stderr",
     "output_type": "stream",
     "text": [
      "100%|██████████| 3151/3151 [04:50<00:00, 10.86it/s]\n"
     ]
    },
    {
     "name": "stdout",
     "output_type": "stream",
     "text": [
      "{'val_loss': 0.47222057194409206, 'val_accuracy': 0.8325849903784477, 'precision': 0.8420783440743592, 'recall': 0.8325849903784477, 'f1-score': 0.8334006652059633, 'macro_f1-score': 0.8309773759518494, 'balanced_accuracy': 0.8665686159550534, 'mcc': 0.7980699097241496, 'train_loss': 0.4254052289142396}\n",
      "Epoch 3/20\n"
     ]
    },
    {
     "name": "stderr",
     "output_type": "stream",
     "text": [
      "100%|██████████| 3151/3151 [04:49<00:00, 10.89it/s]\n"
     ]
    },
    {
     "name": "stdout",
     "output_type": "stream",
     "text": [
      "{'val_loss': 0.4153833693991869, 'val_accuracy': 0.8602736797092153, 'precision': 0.8635245427098364, 'recall': 0.8602736797092153, 'f1-score': 0.860483521280466, 'macro_f1-score': 0.8572509258651331, 'balanced_accuracy': 0.8542125947404279, 'mcc': 0.8281326494908609, 'train_loss': 0.3396115480017441}\n",
      "Epoch 4/20\n"
     ]
    },
    {
     "name": "stderr",
     "output_type": "stream",
     "text": [
      "100%|██████████| 3151/3151 [04:49<00:00, 10.87it/s]\n"
     ]
    },
    {
     "name": "stdout",
     "output_type": "stream",
     "text": [
      "{'val_loss': 0.4909996232845717, 'val_accuracy': 0.8484070985674578, 'precision': 0.8545057926541478, 'recall': 0.8484070985674578, 'f1-score': 0.8490460228717497, 'macro_f1-score': 0.8414202405410244, 'balanced_accuracy': 0.863865463986575, 'mcc': 0.8148433900956304, 'train_loss': 0.2851756350372267}\n",
      "Epoch 5/20\n"
     ]
    },
    {
     "name": "stderr",
     "output_type": "stream",
     "text": [
      "100%|██████████| 3151/3151 [04:49<00:00, 10.87it/s]\n"
     ]
    },
    {
     "name": "stdout",
     "output_type": "stream",
     "text": [
      "{'val_loss': 0.44338285532963073, 'val_accuracy': 0.853645499251657, 'precision': 0.8575390110615396, 'recall': 0.853645499251657, 'f1-score': 0.853894722186742, 'macro_f1-score': 0.8551564927727044, 'balanced_accuracy': 0.8521443852950843, 'mcc': 0.8206783046052584, 'train_loss': 0.23161510829138415}\n",
      "Epoch 6/20\n"
     ]
    },
    {
     "name": "stderr",
     "output_type": "stream",
     "text": [
      "100%|██████████| 3151/3151 [04:49<00:00, 10.87it/s]\n"
     ]
    },
    {
     "name": "stdout",
     "output_type": "stream",
     "text": [
      "{'val_loss': 0.4461917860298139, 'val_accuracy': 0.8642292067564679, 'precision': 0.8645184324818083, 'recall': 0.8642292067564679, 'f1-score': 0.8642753803333993, 'macro_f1-score': 0.8619766218223524, 'balanced_accuracy': 0.8679716275687472, 'mcc': 0.833206988247765, 'train_loss': 0.19858831524801943}\n",
      "Epoch 7/20\n"
     ]
    },
    {
     "name": "stderr",
     "output_type": "stream",
     "text": [
      "100%|██████████| 3151/3151 [04:49<00:00, 10.87it/s]\n"
     ]
    },
    {
     "name": "stdout",
     "output_type": "stream",
     "text": [
      "{'val_loss': 0.5323191720586365, 'val_accuracy': 0.8586700876630319, 'precision': 0.8612782641262078, 'recall': 0.8586700876630319, 'f1-score': 0.8593333749698283, 'macro_f1-score': 0.8593162360097929, 'balanced_accuracy': 0.8601078008615873, 'mcc': 0.826394891520467, 'train_loss': 0.16716975387586597}\n",
      "Epoch 8/20\n"
     ]
    },
    {
     "name": "stderr",
     "output_type": "stream",
     "text": [
      "100%|██████████| 3151/3151 [04:49<00:00, 10.87it/s]\n"
     ]
    },
    {
     "name": "stdout",
     "output_type": "stream",
     "text": [
      "{'val_loss': 0.5106227908172032, 'val_accuracy': 0.8597391490271542, 'precision': 0.8625689599011275, 'recall': 0.8597391490271542, 'f1-score': 0.8597639533918068, 'macro_f1-score': 0.8576432746986176, 'balanced_accuracy': 0.8588720574162728, 'mcc': 0.8277176137084294, 'train_loss': 0.14302617702667872}\n",
      "Epoch 9/20\n"
     ]
    },
    {
     "name": "stderr",
     "output_type": "stream",
     "text": [
      "100%|██████████| 3151/3151 [04:49<00:00, 10.88it/s]\n"
     ]
    },
    {
     "name": "stdout",
     "output_type": "stream",
     "text": [
      "{'val_loss': 0.5663889902106558, 'val_accuracy': 0.8583493692537951, 'precision': 0.8594825117849624, 'recall': 0.8583493692537951, 'f1-score': 0.8584476537262327, 'macro_f1-score': 0.854061316364889, 'balanced_accuracy': 0.8691005874138791, 'mcc': 0.8265011885293565, 'train_loss': 0.1239750472939139}\n",
      "Early stopping.\n",
      "\n",
      "[Fold 5]\n",
      "🚀 Using Word2Vec + EDA (replace + deletion/swap) for data augmentation + under-sampling\n",
      "🔧 Augmenting label 1: 1399 → 5000 (+3601)\n",
      "🔧 Augmenting label 4: 1678 → 5000 (+3322)\n",
      "🔧 Augmenting label 6: 1738 → 5000 (+3262)\n",
      "🔧 Augmenting label 7: 2187 → 5000 (+2813)\n",
      "Label distribution after resampling:\n",
      "  label 0: 5625\n",
      "  label 1: 5000\n",
      "  label 2: 8441\n",
      "  label 3: 10771\n",
      "  label 4: 5000\n",
      "  label 5: 5579\n",
      "  label 6: 5000\n",
      "  label 7: 5000\n",
      "model is roberta-base lstm\n"
     ]
    },
    {
     "name": "stderr",
     "output_type": "stream",
     "text": [
      "Some weights of RobertaModel were not initialized from the model checkpoint at roberta-base and are newly initialized: ['pooler.dense.bias', 'pooler.dense.weight']\n",
      "You should probably TRAIN this model on a down-stream task to be able to use it for predictions and inference.\n"
     ]
    },
    {
     "name": "stdout",
     "output_type": "stream",
     "text": [
      "Epoch 1/20\n"
     ]
    },
    {
     "name": "stderr",
     "output_type": "stream",
     "text": [
      "100%|██████████| 3151/3151 [04:49<00:00, 10.88it/s]\n"
     ]
    },
    {
     "name": "stdout",
     "output_type": "stream",
     "text": [
      "{'val_loss': 0.49310419633984565, 'val_accuracy': 0.8356852683344024, 'precision': 0.8398238717470579, 'recall': 0.8356852683344024, 'f1-score': 0.8355548417358464, 'macro_f1-score': 0.8357242512513892, 'balanced_accuracy': 0.8474161599190343, 'mcc': 0.7993347913582192, 'train_loss': 0.6525862763506652}\n",
      "Epoch 2/20\n"
     ]
    },
    {
     "name": "stderr",
     "output_type": "stream",
     "text": [
      "100%|██████████| 3151/3151 [04:49<00:00, 10.89it/s]\n"
     ]
    },
    {
     "name": "stdout",
     "output_type": "stream",
     "text": [
      "{'val_loss': 0.4647074219253328, 'val_accuracy': 0.8468035065212743, 'precision': 0.8472248033663405, 'recall': 0.8468035065212743, 'f1-score': 0.8465723165178158, 'macro_f1-score': 0.8462303935205745, 'balanced_accuracy': 0.8491263673911229, 'mcc': 0.8119134787098656, 'train_loss': 0.4082420837886038}\n",
      "Epoch 3/20\n"
     ]
    },
    {
     "name": "stderr",
     "output_type": "stream",
     "text": [
      "100%|██████████| 3151/3151 [04:49<00:00, 10.87it/s]\n"
     ]
    },
    {
     "name": "stdout",
     "output_type": "stream",
     "text": [
      "{'val_loss': 0.4795381091757972, 'val_accuracy': 0.8394269831088305, 'precision': 0.847859283419562, 'recall': 0.8394269831088305, 'f1-score': 0.8397131872707269, 'macro_f1-score': 0.8366648676611206, 'balanced_accuracy': 0.8637864155558669, 'mcc': 0.8062405941346306, 'train_loss': 0.3206430399895036}\n",
      "Epoch 4/20\n"
     ]
    },
    {
     "name": "stderr",
     "output_type": "stream",
     "text": [
      "100%|██████████| 3151/3151 [04:49<00:00, 10.88it/s]\n"
     ]
    },
    {
     "name": "stdout",
     "output_type": "stream",
     "text": [
      "{'val_loss': 0.5300789712617795, 'val_accuracy': 0.8290570878768442, 'precision': 0.8391869240631092, 'recall': 0.8290570878768442, 'f1-score': 0.8294583389875797, 'macro_f1-score': 0.8196777472034161, 'balanced_accuracy': 0.8581505196692728, 'mcc': 0.7943450559588031, 'train_loss': 0.2660768757581945}\n",
      "Epoch 5/20\n"
     ]
    },
    {
     "name": "stderr",
     "output_type": "stream",
     "text": [
      "100%|██████████| 3151/3151 [04:49<00:00, 10.87it/s]\n"
     ]
    },
    {
     "name": "stdout",
     "output_type": "stream",
     "text": [
      "{'val_loss': 0.5239419663547833, 'val_accuracy': 0.8491554415223433, 'precision': 0.8520356771553573, 'recall': 0.8491554415223433, 'f1-score': 0.8487660683851496, 'macro_f1-score': 0.8452654339128263, 'balanced_accuracy': 0.8539623914158223, 'mcc': 0.8148604203233686, 'train_loss': 0.21755390508555264}\n",
      "Early stopping.\n",
      "\n",
      " === roberta-base + lstm + word2vec_eda Final 5-fold Cross-Validation Results ===\n",
      "val_loss: 0.4599\n",
      "val_accuracy: 0.8546\n",
      "precision: 0.8572\n",
      "recall: 0.8546\n",
      "f1-score: 0.8547\n",
      "macro_f1-score: 0.8528\n",
      "balanced_accuracy: 0.8631\n",
      "mcc: 0.8222\n",
      "train_loss: 0.3132\n",
      "total_seconds: 10325.0000\n",
      "total_time: 2 hrs 52 mins 5 secs\n",
      "▶ Running: roberta-base + bilstm + word2vec_eda\n",
      "tokenizer is roberta-base\n",
      "Using device: cuda\n",
      "CUDA Available: True\n",
      "CUDA Device: NVIDIA GeForce RTX 5070 Ti\n",
      "Current GPU Memory Allocated: 0.02 GB\n",
      "Current GPU Memory Cached: 3.91 GB\n",
      "\n",
      "[Fold 1]\n",
      "🚀 Using Word2Vec + EDA (replace + deletion/swap) for data augmentation + under-sampling\n",
      "🔧 Augmenting label 1: 1399 → 5000 (+3601)\n",
      "🔧 Augmenting label 4: 1678 → 5000 (+3322)\n",
      "🔧 Augmenting label 6: 1737 → 5000 (+3263)\n",
      "🔧 Augmenting label 7: 2187 → 5000 (+2813)\n",
      "Label distribution after resampling:\n",
      "  label 0: 5626\n",
      "  label 1: 5000\n",
      "  label 2: 8442\n",
      "  label 3: 10770\n",
      "  label 4: 5000\n",
      "  label 5: 5578\n",
      "  label 6: 5000\n",
      "  label 7: 5000\n",
      "model is roberta-base bilstm\n"
     ]
    },
    {
     "name": "stderr",
     "output_type": "stream",
     "text": [
      "Some weights of RobertaModel were not initialized from the model checkpoint at roberta-base and are newly initialized: ['pooler.dense.bias', 'pooler.dense.weight']\n",
      "You should probably TRAIN this model on a down-stream task to be able to use it for predictions and inference.\n"
     ]
    },
    {
     "name": "stdout",
     "output_type": "stream",
     "text": [
      "Epoch 1/20\n"
     ]
    },
    {
     "name": "stderr",
     "output_type": "stream",
     "text": [
      "100%|██████████| 3151/3151 [04:58<00:00, 10.57it/s]\n"
     ]
    },
    {
     "name": "stdout",
     "output_type": "stream",
     "text": [
      "{'val_loss': 0.5084401439015682, 'val_accuracy': 0.8259754142169963, 'precision': 0.8312020535196456, 'recall': 0.8259754142169963, 'f1-score': 0.825661234850319, 'macro_f1-score': 0.833272017386887, 'balanced_accuracy': 0.8415458463499773, 'mcc': 0.7886827491947984, 'train_loss': 0.6338471969745058}\n",
      "Epoch 2/20\n"
     ]
    },
    {
     "name": "stderr",
     "output_type": "stream",
     "text": [
      "100%|██████████| 3151/3151 [04:58<00:00, 10.56it/s]\n"
     ]
    },
    {
     "name": "stdout",
     "output_type": "stream",
     "text": [
      "{'val_loss': 0.5432942474881808, 'val_accuracy': 0.8114377338321753, 'precision': 0.8405334155289467, 'recall': 0.8114377338321753, 'f1-score': 0.8153809486348131, 'macro_f1-score': 0.8070610000022562, 'balanced_accuracy': 0.8321572643152604, 'mcc': 0.7721436350934564, 'train_loss': 0.4102766894818449}\n",
      "Epoch 3/20\n"
     ]
    },
    {
     "name": "stderr",
     "output_type": "stream",
     "text": [
      "100%|██████████| 3151/3151 [04:58<00:00, 10.55it/s]\n"
     ]
    },
    {
     "name": "stdout",
     "output_type": "stream",
     "text": [
      "{'val_loss': 0.4305008835772164, 'val_accuracy': 0.8612506680919294, 'precision': 0.8644870066297637, 'recall': 0.8612506680919294, 'f1-score': 0.8614711222372781, 'macro_f1-score': 0.8572528438608054, 'balanced_accuracy': 0.8466660769881922, 'mcc': 0.8288807780522321, 'train_loss': 0.32526892043977634}\n",
      "Epoch 4/20\n"
     ]
    },
    {
     "name": "stderr",
     "output_type": "stream",
     "text": [
      "100%|██████████| 3151/3151 [04:59<00:00, 10.54it/s]\n"
     ]
    },
    {
     "name": "stdout",
     "output_type": "stream",
     "text": [
      "{'val_loss': 0.5127003085918915, 'val_accuracy': 0.8374131480491716, 'precision': 0.848130061341366, 'recall': 0.8374131480491716, 'f1-score': 0.8387942663888869, 'macro_f1-score': 0.8291269041874838, 'balanced_accuracy': 0.8457795680652513, 'mcc': 0.8016973919550114, 'train_loss': 0.26243423396985716}\n",
      "Epoch 5/20\n"
     ]
    },
    {
     "name": "stderr",
     "output_type": "stream",
     "text": [
      "100%|██████████| 3151/3151 [04:58<00:00, 10.57it/s]\n"
     ]
    },
    {
     "name": "stdout",
     "output_type": "stream",
     "text": [
      "{'val_loss': 0.462341645017712, 'val_accuracy': 0.8584714056654196, 'precision': 0.8604564837964837, 'recall': 0.8584714056654196, 'f1-score': 0.8587168516047545, 'macro_f1-score': 0.8514822889075628, 'balanced_accuracy': 0.8589118563075153, 'mcc': 0.8262229754242181, 'train_loss': 0.21556728982648293}\n",
      "Epoch 6/20\n"
     ]
    },
    {
     "name": "stderr",
     "output_type": "stream",
     "text": [
      "100%|██████████| 3151/3151 [04:58<00:00, 10.54it/s]\n"
     ]
    },
    {
     "name": "stdout",
     "output_type": "stream",
     "text": [
      "{'val_loss': 0.5552184228009234, 'val_accuracy': 0.8510956707642972, 'precision': 0.8542635924093331, 'recall': 0.8510956707642972, 'f1-score': 0.8511543507088141, 'macro_f1-score': 0.8391471763838864, 'balanced_accuracy': 0.861898663554703, 'mcc': 0.8184473321976582, 'train_loss': 0.1799412280789147}\n",
      "Early stopping.\n",
      "\n",
      "[Fold 2]\n",
      "🚀 Using Word2Vec + EDA (replace + deletion/swap) for data augmentation + under-sampling\n",
      "🔧 Augmenting label 1: 1400 → 5000 (+3600)\n",
      "🔧 Augmenting label 4: 1678 → 5000 (+3322)\n",
      "🔧 Augmenting label 6: 1737 → 5000 (+3263)\n",
      "🔧 Augmenting label 7: 2186 → 5000 (+2814)\n",
      "Label distribution after resampling:\n",
      "  label 0: 5626\n",
      "  label 1: 5000\n",
      "  label 2: 8442\n",
      "  label 3: 10770\n",
      "  label 4: 5000\n",
      "  label 5: 5578\n",
      "  label 6: 5000\n",
      "  label 7: 5000\n",
      "model is roberta-base bilstm\n"
     ]
    },
    {
     "name": "stderr",
     "output_type": "stream",
     "text": [
      "Some weights of RobertaModel were not initialized from the model checkpoint at roberta-base and are newly initialized: ['pooler.dense.bias', 'pooler.dense.weight']\n",
      "You should probably TRAIN this model on a down-stream task to be able to use it for predictions and inference.\n"
     ]
    },
    {
     "name": "stdout",
     "output_type": "stream",
     "text": [
      "Epoch 1/20\n"
     ]
    },
    {
     "name": "stderr",
     "output_type": "stream",
     "text": [
      "100%|██████████| 3151/3151 [04:58<00:00, 10.54it/s]\n"
     ]
    },
    {
     "name": "stdout",
     "output_type": "stream",
     "text": [
      "{'val_loss': 0.6353264692756865, 'val_accuracy': 0.7982896846606093, 'precision': 0.8107146956330931, 'recall': 0.7982896846606093, 'f1-score': 0.798884203439961, 'macro_f1-score': 0.8060383828327535, 'balanced_accuracy': 0.8304585736528258, 'mcc': 0.7575481139345556, 'train_loss': 0.991976973070148}\n",
      "Epoch 2/20\n"
     ]
    },
    {
     "name": "stderr",
     "output_type": "stream",
     "text": [
      "100%|██████████| 3151/3151 [04:58<00:00, 10.56it/s]\n"
     ]
    },
    {
     "name": "stdout",
     "output_type": "stream",
     "text": [
      "{'val_loss': 0.5093857123110539, 'val_accuracy': 0.8287546766435061, 'precision': 0.8339418762469141, 'recall': 0.8287546766435061, 'f1-score': 0.8288055085059076, 'macro_f1-score': 0.8251450249813119, 'balanced_accuracy': 0.8535952736435382, 'mcc': 0.7923249653703756, 'train_loss': 0.4786163871266688}\n",
      "Epoch 3/20\n"
     ]
    },
    {
     "name": "stderr",
     "output_type": "stream",
     "text": [
      "100%|██████████| 3151/3151 [04:58<00:00, 10.55it/s]\n"
     ]
    },
    {
     "name": "stdout",
     "output_type": "stream",
     "text": [
      "{'val_loss': 0.5951538359412016, 'val_accuracy': 0.8161411010154997, 'precision': 0.8249299259748157, 'recall': 0.8161411010154997, 'f1-score': 0.8172385782737769, 'macro_f1-score': 0.8117410692845481, 'balanced_accuracy': 0.853928603070498, 'mcc': 0.7771606166593698, 'train_loss': 0.4218911644649464}\n",
      "Epoch 4/20\n"
     ]
    },
    {
     "name": "stderr",
     "output_type": "stream",
     "text": [
      "100%|██████████| 3151/3151 [04:58<00:00, 10.54it/s]\n"
     ]
    },
    {
     "name": "stdout",
     "output_type": "stream",
     "text": [
      "{'val_loss': 0.5525627815443226, 'val_accuracy': 0.8298236237306253, 'precision': 0.8314984164358455, 'recall': 0.8298236237306253, 'f1-score': 0.8299492569160822, 'macro_f1-score': 0.8330860785455805, 'balanced_accuracy': 0.8424820975568934, 'mcc': 0.79123612240782, 'train_loss': 0.3658945637115791}\n",
      "Epoch 5/20\n"
     ]
    },
    {
     "name": "stderr",
     "output_type": "stream",
     "text": [
      "100%|██████████| 3151/3151 [04:58<00:00, 10.56it/s]\n"
     ]
    },
    {
     "name": "stdout",
     "output_type": "stream",
     "text": [
      "{'val_loss': 0.5589513327544317, 'val_accuracy': 0.8334580438268305, 'precision': 0.8424127404464844, 'recall': 0.8334580438268305, 'f1-score': 0.8339022491940633, 'macro_f1-score': 0.8290856253889529, 'balanced_accuracy': 0.8567031559378275, 'mcc': 0.7984081335712929, 'train_loss': 0.32168121856197796}\n",
      "Epoch 6/20\n"
     ]
    },
    {
     "name": "stderr",
     "output_type": "stream",
     "text": [
      "100%|██████████| 3151/3151 [04:58<00:00, 10.55it/s]\n"
     ]
    },
    {
     "name": "stdout",
     "output_type": "stream",
     "text": [
      "{'val_loss': 0.7748323601662603, 'val_accuracy': 0.7186531266702298, 'precision': 0.7782959208069472, 'recall': 0.7186531266702298, 'f1-score': 0.7162974657103893, 'macro_f1-score': 0.7191085762673685, 'balanced_accuracy': 0.7831972472612947, 'mcc': 0.6791080063858215, 'train_loss': 0.26210884716401955}\n",
      "Epoch 7/20\n"
     ]
    },
    {
     "name": "stderr",
     "output_type": "stream",
     "text": [
      "100%|██████████| 3151/3151 [04:58<00:00, 10.56it/s]\n"
     ]
    },
    {
     "name": "stdout",
     "output_type": "stream",
     "text": [
      "{'val_loss': 0.5214448675608788, 'val_accuracy': 0.8454302512025654, 'precision': 0.8493330089987593, 'recall': 0.8454302512025654, 'f1-score': 0.8462759233513256, 'macro_f1-score': 0.8388654976537329, 'balanced_accuracy': 0.8592073662421786, 'mcc': 0.8112970961062745, 'train_loss': 0.2407903062404018}\n",
      "Epoch 8/20\n"
     ]
    },
    {
     "name": "stderr",
     "output_type": "stream",
     "text": [
      "100%|██████████| 3151/3151 [04:58<00:00, 10.56it/s]\n"
     ]
    },
    {
     "name": "stdout",
     "output_type": "stream",
     "text": [
      "{'val_loss': 0.5935585474690948, 'val_accuracy': 0.8291822554783538, 'precision': 0.8407387470999832, 'recall': 0.8291822554783538, 'f1-score': 0.830898213582158, 'macro_f1-score': 0.819538381212494, 'balanced_accuracy': 0.8579854183084128, 'mcc': 0.7933790976398457, 'train_loss': 0.1963254743959413}\n",
      "Epoch 9/20\n"
     ]
    },
    {
     "name": "stderr",
     "output_type": "stream",
     "text": [
      "100%|██████████| 3151/3151 [04:58<00:00, 10.56it/s]\n"
     ]
    },
    {
     "name": "stdout",
     "output_type": "stream",
     "text": [
      "{'val_loss': 0.5596271280032129, 'val_accuracy': 0.844681988241582, 'precision': 0.8486861261308902, 'recall': 0.844681988241582, 'f1-score': 0.8444120259266116, 'macro_f1-score': 0.8408192407203798, 'balanced_accuracy': 0.8659070422587096, 'mcc': 0.8115703570720376, 'train_loss': 0.17453280049618553}\n",
      "Epoch 10/20\n"
     ]
    },
    {
     "name": "stderr",
     "output_type": "stream",
     "text": [
      "100%|██████████| 3151/3151 [04:59<00:00, 10.53it/s]\n"
     ]
    },
    {
     "name": "stdout",
     "output_type": "stream",
     "text": [
      "{'val_loss': 0.627997133986722, 'val_accuracy': 0.8537680384820951, 'precision': 0.8539538897350124, 'recall': 0.8537680384820951, 'f1-score': 0.8536386105616501, 'macro_f1-score': 0.8519465765131202, 'balanced_accuracy': 0.8531201737461652, 'mcc': 0.8201568200066982, 'train_loss': 0.151196771718444}\n",
      "Epoch 11/20\n"
     ]
    },
    {
     "name": "stderr",
     "output_type": "stream",
     "text": [
      "100%|██████████| 3151/3151 [04:58<00:00, 10.56it/s]\n"
     ]
    },
    {
     "name": "stdout",
     "output_type": "stream",
     "text": [
      "{'val_loss': 0.6805395755244212, 'val_accuracy': 0.8428647781934794, 'precision': 0.8472876750920503, 'recall': 0.8428647781934794, 'f1-score': 0.8428292857308033, 'macro_f1-score': 0.8323372987406743, 'balanced_accuracy': 0.8530214835531635, 'mcc': 0.8089400863503846, 'train_loss': 0.12264364265243578}\n",
      "Epoch 12/20\n"
     ]
    },
    {
     "name": "stderr",
     "output_type": "stream",
     "text": [
      "100%|██████████| 3151/3151 [04:58<00:00, 10.56it/s]\n"
     ]
    },
    {
     "name": "stdout",
     "output_type": "stream",
     "text": [
      "{'val_loss': 0.5668775958080704, 'val_accuracy': 0.8422234099412079, 'precision': 0.8453632810907832, 'recall': 0.8422234099412079, 'f1-score': 0.842247152546835, 'macro_f1-score': 0.8355446249851062, 'balanced_accuracy': 0.8471239687131158, 'mcc': 0.8065530894589542, 'train_loss': 0.10984580728577278}\n",
      "Epoch 13/20\n"
     ]
    },
    {
     "name": "stderr",
     "output_type": "stream",
     "text": [
      "100%|██████████| 3151/3151 [04:58<00:00, 10.56it/s]\n"
     ]
    },
    {
     "name": "stdout",
     "output_type": "stream",
     "text": [
      "{'val_loss': 0.6934473217439113, 'val_accuracy': 0.851309460181721, 'precision': 0.8512145998582977, 'recall': 0.851309460181721, 'f1-score': 0.8508852333366236, 'macro_f1-score': 0.8477841656355609, 'balanced_accuracy': 0.8548190727247726, 'mcc': 0.8175063884567652, 'train_loss': 0.10488890362162348}\n",
      "Early stopping.\n",
      "\n",
      "[Fold 3]\n",
      "🚀 Using Word2Vec + EDA (replace + deletion/swap) for data augmentation + under-sampling\n",
      "🔧 Augmenting label 1: 1399 → 5000 (+3601)\n",
      "🔧 Augmenting label 4: 1679 → 5000 (+3321)\n",
      "🔧 Augmenting label 6: 1738 → 5000 (+3262)\n",
      "🔧 Augmenting label 7: 2186 → 5000 (+2814)\n",
      "Label distribution after resampling:\n",
      "  label 0: 5626\n",
      "  label 1: 5000\n",
      "  label 2: 8442\n",
      "  label 3: 10770\n",
      "  label 4: 5000\n",
      "  label 5: 5578\n",
      "  label 6: 5000\n",
      "  label 7: 5000\n",
      "model is roberta-base bilstm\n"
     ]
    },
    {
     "name": "stderr",
     "output_type": "stream",
     "text": [
      "Some weights of RobertaModel were not initialized from the model checkpoint at roberta-base and are newly initialized: ['pooler.dense.bias', 'pooler.dense.weight']\n",
      "You should probably TRAIN this model on a down-stream task to be able to use it for predictions and inference.\n"
     ]
    },
    {
     "name": "stdout",
     "output_type": "stream",
     "text": [
      "Epoch 1/20\n"
     ]
    },
    {
     "name": "stderr",
     "output_type": "stream",
     "text": [
      "100%|██████████| 3151/3151 [04:58<00:00, 10.55it/s]\n"
     ]
    },
    {
     "name": "stdout",
     "output_type": "stream",
     "text": [
      "{'val_loss': 0.4895031386588374, 'val_accuracy': 0.8394269831088305, 'precision': 0.8460797806743482, 'recall': 0.8394269831088305, 'f1-score': 0.8397740223461173, 'macro_f1-score': 0.837206331320609, 'balanced_accuracy': 0.85999170351032, 'mcc': 0.804440530390948, 'train_loss': 0.6596291006718011}\n",
      "Epoch 2/20\n"
     ]
    },
    {
     "name": "stderr",
     "output_type": "stream",
     "text": [
      "100%|██████████| 3151/3151 [04:58<00:00, 10.54it/s]\n"
     ]
    },
    {
     "name": "stdout",
     "output_type": "stream",
     "text": [
      "{'val_loss': 0.4751072527697453, 'val_accuracy': 0.8445584776566175, 'precision': 0.8525577398084955, 'recall': 0.8445584776566175, 'f1-score': 0.8452135466653136, 'macro_f1-score': 0.8354040342239676, 'balanced_accuracy': 0.8708500640860857, 'mcc': 0.8118533145243496, 'train_loss': 0.4152676733479646}\n",
      "Epoch 3/20\n"
     ]
    },
    {
     "name": "stderr",
     "output_type": "stream",
     "text": [
      "100%|██████████| 3151/3151 [04:58<00:00, 10.54it/s]\n"
     ]
    },
    {
     "name": "stdout",
     "output_type": "stream",
     "text": [
      "{'val_loss': 0.4432351702871995, 'val_accuracy': 0.8523626256147103, 'precision': 0.8582291540437293, 'recall': 0.8523626256147103, 'f1-score': 0.8534200331878314, 'macro_f1-score': 0.8484214562747617, 'balanced_accuracy': 0.8647907467255325, 'mcc': 0.819353088462819, 'train_loss': 0.33246557200543275}\n",
      "Epoch 4/20\n"
     ]
    },
    {
     "name": "stderr",
     "output_type": "stream",
     "text": [
      "100%|██████████| 3151/3151 [04:58<00:00, 10.54it/s]\n"
     ]
    },
    {
     "name": "stdout",
     "output_type": "stream",
     "text": [
      "{'val_loss': 0.49488608134735346, 'val_accuracy': 0.8399615137908916, 'precision': 0.850940859392915, 'recall': 0.8399615137908916, 'f1-score': 0.8402385689858722, 'macro_f1-score': 0.8332239748834117, 'balanced_accuracy': 0.8668511772832401, 'mcc': 0.8074160282745821, 'train_loss': 0.26777158430841036}\n",
      "Epoch 5/20\n"
     ]
    },
    {
     "name": "stderr",
     "output_type": "stream",
     "text": [
      "100%|██████████| 3151/3151 [04:57<00:00, 10.57it/s]\n"
     ]
    },
    {
     "name": "stdout",
     "output_type": "stream",
     "text": [
      "{'val_loss': 0.5061328452589929, 'val_accuracy': 0.8533247808424204, 'precision': 0.8570404080295395, 'recall': 0.8533247808424204, 'f1-score': 0.8530428643495521, 'macro_f1-score': 0.8490430077937163, 'balanced_accuracy': 0.8640124491880782, 'mcc': 0.8218423958585983, 'train_loss': 0.23068496973278318}\n",
      "Epoch 6/20\n"
     ]
    },
    {
     "name": "stderr",
     "output_type": "stream",
     "text": [
      "100%|██████████| 3151/3151 [04:58<00:00, 10.55it/s]\n"
     ]
    },
    {
     "name": "stdout",
     "output_type": "stream",
     "text": [
      "{'val_loss': 0.451427322317265, 'val_accuracy': 0.8656189865298268, 'precision': 0.8671019897609946, 'recall': 0.8656189865298268, 'f1-score': 0.8656532157259502, 'macro_f1-score': 0.8592741053648778, 'balanced_accuracy': 0.8741665886539676, 'mcc': 0.8357079804209008, 'train_loss': 0.18575365495770788}\n",
      "Epoch 7/20\n"
     ]
    },
    {
     "name": "stderr",
     "output_type": "stream",
     "text": [
      "100%|██████████| 3151/3151 [04:58<00:00, 10.55it/s]\n"
     ]
    },
    {
     "name": "stdout",
     "output_type": "stream",
     "text": [
      "{'val_loss': 0.5145637785180066, 'val_accuracy': 0.8603805858456275, 'precision': 0.8638278246283921, 'recall': 0.8603805858456275, 'f1-score': 0.8604827634638076, 'macro_f1-score': 0.8528228474391577, 'balanced_accuracy': 0.8785229738349443, 'mcc': 0.8302112691565587, 'train_loss': 0.16067966481585616}\n",
      "Epoch 8/20\n"
     ]
    },
    {
     "name": "stderr",
     "output_type": "stream",
     "text": [
      "100%|██████████| 3151/3151 [04:58<00:00, 10.55it/s]\n"
     ]
    },
    {
     "name": "stdout",
     "output_type": "stream",
     "text": [
      "{'val_loss': 0.5047839295548888, 'val_accuracy': 0.8589908060722685, 'precision': 0.8615452144455396, 'recall': 0.8589908060722685, 'f1-score': 0.8592830072718098, 'macro_f1-score': 0.853615476131504, 'balanced_accuracy': 0.8591710820605842, 'mcc': 0.8265653316764138, 'train_loss': 0.12834284018501416}\n",
      "Epoch 9/20\n"
     ]
    },
    {
     "name": "stderr",
     "output_type": "stream",
     "text": [
      "100%|██████████| 3151/3151 [04:59<00:00, 10.53it/s]\n"
     ]
    },
    {
     "name": "stdout",
     "output_type": "stream",
     "text": [
      "{'val_loss': 0.5371471128792653, 'val_accuracy': 0.8645499251657045, 'precision': 0.8654283637810476, 'recall': 0.8645499251657045, 'f1-score': 0.8647589522295693, 'macro_f1-score': 0.8602564488543978, 'balanced_accuracy': 0.8604937055153378, 'mcc': 0.8333511072364883, 'train_loss': 0.12634679000200016}\n",
      "Epoch 10/20\n"
     ]
    },
    {
     "name": "stderr",
     "output_type": "stream",
     "text": [
      "100%|██████████| 3151/3151 [04:58<00:00, 10.56it/s]\n"
     ]
    },
    {
     "name": "stdout",
     "output_type": "stream",
     "text": [
      "{'val_loss': 0.5363705428806731, 'val_accuracy': 0.8615565533461621, 'precision': 0.8635028719440432, 'recall': 0.8615565533461621, 'f1-score': 0.8617067947409904, 'macro_f1-score': 0.8551354040975785, 'balanced_accuracy': 0.8705889467895158, 'mcc': 0.8304749147490229, 'train_loss': 0.11699363001420833}\n",
      "Epoch 11/20\n"
     ]
    },
    {
     "name": "stderr",
     "output_type": "stream",
     "text": [
      "100%|██████████| 3151/3151 [04:58<00:00, 10.55it/s]\n"
     ]
    },
    {
     "name": "stdout",
     "output_type": "stream",
     "text": [
      "{'val_loss': 0.6087783988764207, 'val_accuracy': 0.8563181526619628, 'precision': 0.8602320311528425, 'recall': 0.8563181526619628, 'f1-score': 0.8570868845153362, 'macro_f1-score': 0.8454843275848298, 'balanced_accuracy': 0.8623466213385, 'mcc': 0.8239983313260208, 'train_loss': 0.13996438844580475}\n",
      "Epoch 12/20\n"
     ]
    },
    {
     "name": "stderr",
     "output_type": "stream",
     "text": [
      "100%|██████████| 3151/3151 [04:58<00:00, 10.55it/s]\n"
     ]
    },
    {
     "name": "stdout",
     "output_type": "stream",
     "text": [
      "{'val_loss': 0.6693665131196205, 'val_accuracy': 0.859204618345093, 'precision': 0.8601699526018081, 'recall': 0.859204618345093, 'f1-score': 0.8592772917534908, 'macro_f1-score': 0.8522996797085485, 'balanced_accuracy': 0.8563220681128624, 'mcc': 0.827213185456233, 'train_loss': 0.11559315051472477}\n",
      "Early stopping.\n",
      "\n",
      "[Fold 4]\n",
      "🚀 Using Word2Vec + EDA (replace + deletion/swap) for data augmentation + under-sampling\n",
      "🔧 Augmenting label 1: 1399 → 5000 (+3601)\n",
      "🔧 Augmenting label 4: 1679 → 5000 (+3321)\n",
      "🔧 Augmenting label 6: 1738 → 5000 (+3262)\n",
      "🔧 Augmenting label 7: 2186 → 5000 (+2814)\n",
      "Label distribution after resampling:\n",
      "  label 0: 5625\n",
      "  label 1: 5000\n",
      "  label 2: 8441\n",
      "  label 3: 10771\n",
      "  label 4: 5000\n",
      "  label 5: 5579\n",
      "  label 6: 5000\n",
      "  label 7: 5000\n",
      "model is roberta-base bilstm\n"
     ]
    },
    {
     "name": "stderr",
     "output_type": "stream",
     "text": [
      "Some weights of RobertaModel were not initialized from the model checkpoint at roberta-base and are newly initialized: ['pooler.dense.bias', 'pooler.dense.weight']\n",
      "You should probably TRAIN this model on a down-stream task to be able to use it for predictions and inference.\n"
     ]
    },
    {
     "name": "stdout",
     "output_type": "stream",
     "text": [
      "Epoch 1/20\n"
     ]
    },
    {
     "name": "stderr",
     "output_type": "stream",
     "text": [
      "100%|██████████| 3151/3151 [04:58<00:00, 10.55it/s]\n"
     ]
    },
    {
     "name": "stdout",
     "output_type": "stream",
     "text": [
      "{'val_loss': 0.6677788057770484, 'val_accuracy': 0.7940987812700449, 'precision': 0.802807295672964, 'recall': 0.7940987812700449, 'f1-score': 0.7949287595779968, 'macro_f1-score': 0.7818900960175796, 'balanced_accuracy': 0.8128909112810077, 'mcc': 0.7496070937362244, 'train_loss': 1.0887849662288602}\n",
      "Epoch 2/20\n"
     ]
    },
    {
     "name": "stderr",
     "output_type": "stream",
     "text": [
      "100%|██████████| 3151/3151 [04:58<00:00, 10.56it/s]\n"
     ]
    },
    {
     "name": "stdout",
     "output_type": "stream",
     "text": [
      "{'val_loss': 0.6312308060053068, 'val_accuracy': 0.8007269617276032, 'precision': 0.8242522391590449, 'recall': 0.8007269617276032, 'f1-score': 0.8039610146320972, 'macro_f1-score': 0.781943847208612, 'balanced_accuracy': 0.8385588838244312, 'mcc': 0.7601613350229534, 'train_loss': 0.6318252541595358}\n",
      "Epoch 3/20\n"
     ]
    },
    {
     "name": "stderr",
     "output_type": "stream",
     "text": [
      "100%|██████████| 3151/3151 [04:58<00:00, 10.56it/s]\n"
     ]
    },
    {
     "name": "stdout",
     "output_type": "stream",
     "text": [
      "{'val_loss': 0.5623709833965852, 'val_accuracy': 0.8264913406029506, 'precision': 0.8352572888058873, 'recall': 0.8264913406029506, 'f1-score': 0.8261967423130407, 'macro_f1-score': 0.8242653802310589, 'balanced_accuracy': 0.8598938988132603, 'mcc': 0.7912982992093883, 'train_loss': 0.49797587928467707}\n",
      "Epoch 4/20\n"
     ]
    },
    {
     "name": "stderr",
     "output_type": "stream",
     "text": [
      "100%|██████████| 3151/3151 [04:58<00:00, 10.54it/s]\n"
     ]
    },
    {
     "name": "stdout",
     "output_type": "stream",
     "text": [
      "{'val_loss': 0.5363540698384118, 'val_accuracy': 0.8385717340175326, 'precision': 0.8450759148716485, 'recall': 0.8385717340175326, 'f1-score': 0.8391994406740387, 'macro_f1-score': 0.8340633410988272, 'balanced_accuracy': 0.8545029645830244, 'mcc': 0.8029527597231261, 'train_loss': 0.4124896956417947}\n",
      "Epoch 5/20\n"
     ]
    },
    {
     "name": "stderr",
     "output_type": "stream",
     "text": [
      "100%|██████████| 3151/3151 [04:58<00:00, 10.56it/s]\n"
     ]
    },
    {
     "name": "stdout",
     "output_type": "stream",
     "text": [
      "{'val_loss': 0.4772719688140429, 'val_accuracy': 0.8501175967500535, 'precision': 0.8532145350419102, 'recall': 0.8501175967500535, 'f1-score': 0.8504638082115347, 'macro_f1-score': 0.8446067245977248, 'balanced_accuracy': 0.8645016831184522, 'mcc': 0.8171542525234436, 'train_loss': 0.3696161106179174}\n",
      "Epoch 6/20\n"
     ]
    },
    {
     "name": "stderr",
     "output_type": "stream",
     "text": [
      "100%|██████████| 3151/3151 [04:58<00:00, 10.55it/s]\n"
     ]
    },
    {
     "name": "stdout",
     "output_type": "stream",
     "text": [
      "{'val_loss': 0.5584749955126745, 'val_accuracy': 0.8423134487919607, 'precision': 0.8529470388876179, 'recall': 0.8423134487919607, 'f1-score': 0.8428703399485377, 'macro_f1-score': 0.8362480350288339, 'balanced_accuracy': 0.8514162758166657, 'mcc': 0.8072483366282805, 'train_loss': 0.3057109197301383}\n",
      "Epoch 7/20\n"
     ]
    },
    {
     "name": "stderr",
     "output_type": "stream",
     "text": [
      "100%|██████████| 3151/3151 [04:58<00:00, 10.55it/s]\n"
     ]
    },
    {
     "name": "stdout",
     "output_type": "stream",
     "text": [
      "{'val_loss': 0.5086981569822782, 'val_accuracy': 0.8525764378875348, 'precision': 0.8564921190223285, 'recall': 0.8525764378875348, 'f1-score': 0.8524713256683022, 'macro_f1-score': 0.8536341106003809, 'balanced_accuracy': 0.8606157839001192, 'mcc': 0.8196736954582079, 'train_loss': 0.2668706194802963}\n",
      "Epoch 8/20\n"
     ]
    },
    {
     "name": "stderr",
     "output_type": "stream",
     "text": [
      "100%|██████████| 3151/3151 [04:58<00:00, 10.56it/s]\n"
     ]
    },
    {
     "name": "stdout",
     "output_type": "stream",
     "text": [
      "{'val_loss': 0.4942234680040652, 'val_accuracy': 0.8597391490271542, 'precision': 0.8628631231864897, 'recall': 0.8597391490271542, 'f1-score': 0.8600269448992176, 'macro_f1-score': 0.8577490501350558, 'balanced_accuracy': 0.8559710971099876, 'mcc': 0.8276849421026673, 'train_loss': 0.2295861260289216}\n",
      "Epoch 9/20\n"
     ]
    },
    {
     "name": "stderr",
     "output_type": "stream",
     "text": [
      "100%|██████████| 3151/3151 [04:58<00:00, 10.56it/s]\n"
     ]
    },
    {
     "name": "stdout",
     "output_type": "stream",
     "text": [
      "{'val_loss': 0.5772779140740824, 'val_accuracy': 0.8567457772076117, 'precision': 0.8593806205819895, 'recall': 0.8567457772076117, 'f1-score': 0.8568835933245983, 'macro_f1-score': 0.8510626636541437, 'balanced_accuracy': 0.8516384435911466, 'mcc': 0.8238634571477782, 'train_loss': 0.20485032128935052}\n",
      "Epoch 10/20\n"
     ]
    },
    {
     "name": "stderr",
     "output_type": "stream",
     "text": [
      "100%|██████████| 3151/3151 [04:58<00:00, 10.57it/s]\n"
     ]
    },
    {
     "name": "stdout",
     "output_type": "stream",
     "text": [
      "{'val_loss': 0.5771514426264116, 'val_accuracy': 0.8491554415223433, 'precision': 0.8515207602057391, 'recall': 0.8491554415223433, 'f1-score': 0.8496502867047577, 'macro_f1-score': 0.8507015992298795, 'balanced_accuracy': 0.8494351059203398, 'mcc': 0.8145892548073629, 'train_loss': 0.19044204087459765}\n",
      "Epoch 11/20\n"
     ]
    },
    {
     "name": "stderr",
     "output_type": "stream",
     "text": [
      "100%|██████████| 3151/3151 [04:57<00:00, 10.58it/s]\n"
     ]
    },
    {
     "name": "stdout",
     "output_type": "stream",
     "text": [
      "{'val_loss': 0.5761929413590293, 'val_accuracy': 0.8588838999358563, 'precision': 0.8598035705794307, 'recall': 0.8588838999358563, 'f1-score': 0.8590714749132979, 'macro_f1-score': 0.8581400463948845, 'balanced_accuracy': 0.8570688100940924, 'mcc': 0.8261584786527122, 'train_loss': 0.1474116649172765}\n",
      "Epoch 12/20\n"
     ]
    },
    {
     "name": "stderr",
     "output_type": "stream",
     "text": [
      "100%|██████████| 3151/3151 [04:58<00:00, 10.57it/s]\n"
     ]
    },
    {
     "name": "stdout",
     "output_type": "stream",
     "text": [
      "{'val_loss': 0.614635795282805, 'val_accuracy': 0.8555698097070772, 'precision': 0.8577521806094267, 'recall': 0.8555698097070772, 'f1-score': 0.8559210146883846, 'macro_f1-score': 0.8518929415725853, 'balanced_accuracy': 0.8654733368906881, 'mcc': 0.8232168534918056, 'train_loss': 0.13630766878439504}\n",
      "Epoch 13/20\n"
     ]
    },
    {
     "name": "stderr",
     "output_type": "stream",
     "text": [
      "100%|██████████| 3151/3151 [04:58<00:00, 10.56it/s]\n"
     ]
    },
    {
     "name": "stdout",
     "output_type": "stream",
     "text": [
      "{'val_loss': 0.6236236088264447, 'val_accuracy': 0.8607013042548642, 'precision': 0.8626804877264757, 'recall': 0.8607013042548642, 'f1-score': 0.8610420959483138, 'macro_f1-score': 0.8580608345692997, 'balanced_accuracy': 0.8455798377180709, 'mcc': 0.8280835194169995, 'train_loss': 0.13976311038785577}\n",
      "Epoch 14/20\n"
     ]
    },
    {
     "name": "stderr",
     "output_type": "stream",
     "text": [
      "100%|██████████| 3151/3151 [04:58<00:00, 10.57it/s]\n"
     ]
    },
    {
     "name": "stdout",
     "output_type": "stream",
     "text": [
      "{'val_loss': 1.9417870902607584, 'val_accuracy': 0.28779131922172335, 'precision': 0.08282384341937987, 'recall': 0.28779131922172335, 'f1-score': 0.12862929293456404, 'macro_f1-score': 0.055869168188610326, 'balanced_accuracy': 0.125, 'mcc': 0.0, 'train_loss': 0.8379110662341686}\n",
      "Early stopping.\n",
      "\n",
      "[Fold 5]\n",
      "🚀 Using Word2Vec + EDA (replace + deletion/swap) for data augmentation + under-sampling\n",
      "🔧 Augmenting label 1: 1399 → 5000 (+3601)\n",
      "🔧 Augmenting label 4: 1678 → 5000 (+3322)\n",
      "🔧 Augmenting label 6: 1738 → 5000 (+3262)\n",
      "🔧 Augmenting label 7: 2187 → 5000 (+2813)\n",
      "Label distribution after resampling:\n",
      "  label 0: 5625\n",
      "  label 1: 5000\n",
      "  label 2: 8441\n",
      "  label 3: 10771\n",
      "  label 4: 5000\n",
      "  label 5: 5579\n",
      "  label 6: 5000\n",
      "  label 7: 5000\n",
      "model is roberta-base bilstm\n"
     ]
    },
    {
     "name": "stderr",
     "output_type": "stream",
     "text": [
      "Some weights of RobertaModel were not initialized from the model checkpoint at roberta-base and are newly initialized: ['pooler.dense.bias', 'pooler.dense.weight']\n",
      "You should probably TRAIN this model on a down-stream task to be able to use it for predictions and inference.\n"
     ]
    },
    {
     "name": "stdout",
     "output_type": "stream",
     "text": [
      "Epoch 1/20\n"
     ]
    },
    {
     "name": "stderr",
     "output_type": "stream",
     "text": [
      "100%|██████████| 3151/3151 [04:58<00:00, 10.55it/s]\n"
     ]
    },
    {
     "name": "stdout",
     "output_type": "stream",
     "text": [
      "{'val_loss': 0.5074418388816536, 'val_accuracy': 0.8360059867436391, 'precision': 0.844876216045492, 'recall': 0.8360059867436391, 'f1-score': 0.8376672364597118, 'macro_f1-score': 0.8307046593211587, 'balanced_accuracy': 0.8649320210974933, 'mcc': 0.8010557013285844, 'train_loss': 0.632835362568824}\n",
      "Epoch 2/20\n"
     ]
    },
    {
     "name": "stderr",
     "output_type": "stream",
     "text": [
      "100%|██████████| 3151/3151 [04:58<00:00, 10.55it/s]\n"
     ]
    },
    {
     "name": "stdout",
     "output_type": "stream",
     "text": [
      "{'val_loss': 0.514582127915361, 'val_accuracy': 0.8327988026512722, 'precision': 0.8416660136039028, 'recall': 0.8327988026512722, 'f1-score': 0.8327252404184048, 'macro_f1-score': 0.8302569432119022, 'balanced_accuracy': 0.8628975510166116, 'mcc': 0.798784027141104, 'train_loss': 0.39906522668354266}\n",
      "Epoch 3/20\n"
     ]
    },
    {
     "name": "stderr",
     "output_type": "stream",
     "text": [
      "100%|██████████| 3151/3151 [04:58<00:00, 10.57it/s]\n"
     ]
    },
    {
     "name": "stdout",
     "output_type": "stream",
     "text": [
      "{'val_loss': 0.47065143587752284, 'val_accuracy': 0.8497968783408167, 'precision': 0.8543943997538137, 'recall': 0.8497968783408167, 'f1-score': 0.8509806065035408, 'macro_f1-score': 0.8472458040985897, 'balanced_accuracy': 0.8595976770323925, 'mcc': 0.8159789203966745, 'train_loss': 0.3212774062578861}\n",
      "Epoch 4/20\n"
     ]
    },
    {
     "name": "stderr",
     "output_type": "stream",
     "text": [
      "100%|██████████| 3151/3151 [04:58<00:00, 10.56it/s]\n"
     ]
    },
    {
     "name": "stdout",
     "output_type": "stream",
     "text": [
      "{'val_loss': 0.5101438149523276, 'val_accuracy': 0.8417789181098995, 'precision': 0.8543019120276291, 'recall': 0.8417789181098995, 'f1-score': 0.8449904859283628, 'macro_f1-score': 0.8295536241373658, 'balanced_accuracy': 0.8509003454674491, 'mcc': 0.8071161146546347, 'train_loss': 0.2610838754399334}\n",
      "Epoch 5/20\n"
     ]
    },
    {
     "name": "stderr",
     "output_type": "stream",
     "text": [
      "100%|██████████| 3151/3151 [04:58<00:00, 10.56it/s]\n"
     ]
    },
    {
     "name": "stdout",
     "output_type": "stream",
     "text": [
      "{'val_loss': 0.4659555889761601, 'val_accuracy': 0.8586700876630319, 'precision': 0.8594775557722738, 'recall': 0.8586700876630319, 'f1-score': 0.8584864779390285, 'macro_f1-score': 0.8537254929726861, 'balanced_accuracy': 0.8411480798949412, 'mcc': 0.8256221539354384, 'train_loss': 0.2222661482399582}\n",
      "Epoch 6/20\n"
     ]
    },
    {
     "name": "stderr",
     "output_type": "stream",
     "text": [
      "100%|██████████| 3151/3151 [04:58<00:00, 10.56it/s]\n"
     ]
    },
    {
     "name": "stdout",
     "output_type": "stream",
     "text": [
      "{'val_loss': 0.5707076943487438, 'val_accuracy': 0.8446653837930297, 'precision': 0.8549697040162211, 'recall': 0.8446653837930297, 'f1-score': 0.8473331363922431, 'macro_f1-score': 0.8368427963958405, 'balanced_accuracy': 0.8624038850398231, 'mcc': 0.810973364177211, 'train_loss': 0.18196434435175726}\n",
      "Epoch 7/20\n"
     ]
    },
    {
     "name": "stderr",
     "output_type": "stream",
     "text": [
      "100%|██████████| 3151/3151 [04:57<00:00, 10.58it/s]\n"
     ]
    },
    {
     "name": "stdout",
     "output_type": "stream",
     "text": [
      "{'val_loss': 0.5542304234268765, 'val_accuracy': 0.8539662176608938, 'precision': 0.8582578912353036, 'recall': 0.8539662176608938, 'f1-score': 0.8549274072398537, 'macro_f1-score': 0.8491509051861199, 'balanced_accuracy': 0.8497824715573297, 'mcc': 0.8201764222288168, 'train_loss': 0.1593715766204213}\n",
      "Epoch 8/20\n"
     ]
    },
    {
     "name": "stderr",
     "output_type": "stream",
     "text": [
      "100%|██████████| 3151/3151 [04:58<00:00, 10.56it/s]\n"
     ]
    },
    {
     "name": "stdout",
     "output_type": "stream",
     "text": [
      "{'val_loss': 0.5427257946015805, 'val_accuracy': 0.8525764378875348, 'precision': 0.8560364763386761, 'recall': 0.8525764378875348, 'f1-score': 0.8532291330902995, 'macro_f1-score': 0.8451207263953049, 'balanced_accuracy': 0.8593876169763401, 'mcc': 0.8194190904850971, 'train_loss': 0.15134032319184015}\n",
      "Early stopping.\n",
      "\n",
      " === roberta-base + bilstm + word2vec_eda Final 5-fold Cross-Validation Results ===\n",
      "val_loss: 0.5276\n",
      "val_accuracy: 0.8594\n",
      "precision: 0.8606\n",
      "recall: 0.8594\n",
      "f1-score: 0.8595\n",
      "macro_f1-score: 0.8563\n",
      "balanced_accuracy: 0.8517\n",
      "mcc: 0.8268\n",
      "train_loss: 0.1945\n",
      "total_seconds: 17051.0000\n",
      "total_time: 4 hrs 44 mins 11 secs\n",
      "▶ Running: microsoft/deberta-base + plain + word2vec_eda\n",
      "tokenizer is microsoft/deberta-base\n",
      "Using device: cuda\n",
      "CUDA Available: True\n",
      "CUDA Device: NVIDIA GeForce RTX 5070 Ti\n",
      "Current GPU Memory Allocated: 0.02 GB\n",
      "Current GPU Memory Cached: 3.91 GB\n",
      "\n",
      "[Fold 1]\n",
      "🚀 Using Word2Vec + EDA (replace + deletion/swap) for data augmentation + under-sampling\n",
      "🔧 Augmenting label 1: 1399 → 5000 (+3601)\n",
      "🔧 Augmenting label 4: 1678 → 5000 (+3322)\n",
      "🔧 Augmenting label 6: 1737 → 5000 (+3263)\n",
      "🔧 Augmenting label 7: 2187 → 5000 (+2813)\n",
      "Label distribution after resampling:\n",
      "  label 0: 5626\n",
      "  label 1: 5000\n",
      "  label 2: 8442\n",
      "  label 3: 10770\n",
      "  label 4: 5000\n",
      "  label 5: 5578\n",
      "  label 6: 5000\n",
      "  label 7: 5000\n",
      "model is microsoft/deberta-base\n"
     ]
    },
    {
     "name": "stderr",
     "output_type": "stream",
     "text": [
      "Some weights of DebertaForSequenceClassification were not initialized from the model checkpoint at microsoft/deberta-base and are newly initialized: ['classifier.bias', 'classifier.weight', 'pooler.dense.bias', 'pooler.dense.weight']\n",
      "You should probably TRAIN this model on a down-stream task to be able to use it for predictions and inference.\n"
     ]
    },
    {
     "name": "stdout",
     "output_type": "stream",
     "text": [
      "Epoch 1/20\n"
     ]
    },
    {
     "name": "stderr",
     "output_type": "stream",
     "text": [
      "100%|██████████| 3151/3151 [05:19<00:00,  9.86it/s]\n"
     ]
    },
    {
     "name": "stdout",
     "output_type": "stream",
     "text": [
      "{'val_loss': 0.45162662920406743, 'val_accuracy': 0.8518439337252806, 'precision': 0.8545082368179806, 'recall': 0.8518439337252806, 'f1-score': 0.8518729021393544, 'macro_f1-score': 0.8430839504848839, 'balanced_accuracy': 0.8658413143024424, 'mcc': 0.8191944627509454, 'train_loss': 0.58772563422882}\n",
      "Epoch 2/20\n"
     ]
    },
    {
     "name": "stderr",
     "output_type": "stream",
     "text": [
      "100%|██████████| 3151/3151 [05:27<00:00,  9.63it/s]\n"
     ]
    },
    {
     "name": "stdout",
     "output_type": "stream",
     "text": [
      "{'val_loss': 0.41368135994570887, 'val_accuracy': 0.8619989310529129, 'precision': 0.8630418682930125, 'recall': 0.8619989310529129, 'f1-score': 0.8621537062423354, 'macro_f1-score': 0.8566320832532079, 'balanced_accuracy': 0.8620750940003777, 'mcc': 0.8307933545063996, 'train_loss': 0.3375007802453832}\n",
      "Epoch 3/20\n"
     ]
    },
    {
     "name": "stderr",
     "output_type": "stream",
     "text": [
      "100%|██████████| 3151/3151 [05:35<00:00,  9.40it/s]\n"
     ]
    },
    {
     "name": "stdout",
     "output_type": "stream",
     "text": [
      "{'val_loss': 0.5391788599519138, 'val_accuracy': 0.8472474612506681, 'precision': 0.8521669251575776, 'recall': 0.8472474612506681, 'f1-score': 0.8480607559389794, 'macro_f1-score': 0.84448075221974, 'balanced_accuracy': 0.8409913254946038, 'mcc': 0.8118969124742503, 'train_loss': 0.27327930636042497}\n",
      "Epoch 4/20\n"
     ]
    },
    {
     "name": "stderr",
     "output_type": "stream",
     "text": [
      "100%|██████████| 3151/3151 [05:36<00:00,  9.36it/s]\n"
     ]
    },
    {
     "name": "stdout",
     "output_type": "stream",
     "text": [
      "{'val_loss': 0.5300716153529083, 'val_accuracy': 0.843399251737039, 'precision': 0.8555253468967868, 'recall': 0.843399251737039, 'f1-score': 0.8470169930179792, 'macro_f1-score': 0.8261115819044391, 'balanced_accuracy': 0.8525810372193554, 'mcc': 0.8097131510910045, 'train_loss': 0.47762302967939335}\n",
      "Epoch 5/20\n"
     ]
    },
    {
     "name": "stderr",
     "output_type": "stream",
     "text": [
      "100%|██████████| 3151/3151 [05:34<00:00,  9.41it/s]\n"
     ]
    },
    {
     "name": "stdout",
     "output_type": "stream",
     "text": [
      "{'val_loss': 0.722050804250006, 'val_accuracy': 0.8024585783003741, 'precision': 0.8017637219594194, 'recall': 0.8024585783003741, 'f1-score': 0.799112716617742, 'macro_f1-score': 0.7488172706787305, 'balanced_accuracy': 0.7587371182900009, 'mcc': 0.7585710921264169, 'train_loss': 0.2245756432020068}\n",
      "Early stopping.\n",
      "\n",
      "[Fold 2]\n",
      "🚀 Using Word2Vec + EDA (replace + deletion/swap) for data augmentation + under-sampling\n",
      "🔧 Augmenting label 1: 1400 → 5000 (+3600)\n",
      "🔧 Augmenting label 4: 1678 → 5000 (+3322)\n",
      "🔧 Augmenting label 6: 1737 → 5000 (+3263)\n",
      "🔧 Augmenting label 7: 2186 → 5000 (+2814)\n",
      "Label distribution after resampling:\n",
      "  label 0: 5626\n",
      "  label 1: 5000\n",
      "  label 2: 8442\n",
      "  label 3: 10770\n",
      "  label 4: 5000\n",
      "  label 5: 5578\n",
      "  label 6: 5000\n",
      "  label 7: 5000\n",
      "model is microsoft/deberta-base\n"
     ]
    },
    {
     "name": "stderr",
     "output_type": "stream",
     "text": [
      "Some weights of DebertaForSequenceClassification were not initialized from the model checkpoint at microsoft/deberta-base and are newly initialized: ['classifier.bias', 'classifier.weight', 'pooler.dense.bias', 'pooler.dense.weight']\n",
      "You should probably TRAIN this model on a down-stream task to be able to use it for predictions and inference.\n"
     ]
    },
    {
     "name": "stdout",
     "output_type": "stream",
     "text": [
      "Epoch 1/20\n"
     ]
    },
    {
     "name": "stderr",
     "output_type": "stream",
     "text": [
      "100%|██████████| 3151/3151 [05:36<00:00,  9.36it/s]\n"
     ]
    },
    {
     "name": "stdout",
     "output_type": "stream",
     "text": [
      "{'val_loss': 0.5431570475968795, 'val_accuracy': 0.8218065205772315, 'precision': 0.8331400536772156, 'recall': 0.8218065205772315, 'f1-score': 0.8227214867044689, 'macro_f1-score': 0.8127439856919598, 'balanced_accuracy': 0.8555981072457349, 'mcc': 0.7848213953370854, 'train_loss': 0.7906940505026787}\n",
      "Epoch 2/20\n"
     ]
    },
    {
     "name": "stderr",
     "output_type": "stream",
     "text": [
      "100%|██████████| 3151/3151 [05:37<00:00,  9.33it/s]\n"
     ]
    },
    {
     "name": "stdout",
     "output_type": "stream",
     "text": [
      "{'val_loss': 0.5174589689502604, 'val_accuracy': 0.8323890967397114, 'precision': 0.8408412054012585, 'recall': 0.8323890967397114, 'f1-score': 0.8337365919805629, 'macro_f1-score': 0.8275781170487678, 'balanced_accuracy': 0.8561321158309179, 'mcc': 0.7966832730766757, 'train_loss': 0.3571588281023052}\n",
      "Epoch 3/20\n"
     ]
    },
    {
     "name": "stderr",
     "output_type": "stream",
     "text": [
      "100%|██████████| 3151/3151 [05:36<00:00,  9.37it/s]\n"
     ]
    },
    {
     "name": "stdout",
     "output_type": "stream",
     "text": [
      "{'val_loss': 0.4919534849002957, 'val_accuracy': 0.8530197755211117, 'precision': 0.8536467623968151, 'recall': 0.8530197755211117, 'f1-score': 0.852619363118468, 'macro_f1-score': 0.8526022790394389, 'balanced_accuracy': 0.8541293330026284, 'mcc': 0.8199622346084209, 'train_loss': 0.2519404372127661}\n",
      "Epoch 4/20\n"
     ]
    },
    {
     "name": "stderr",
     "output_type": "stream",
     "text": [
      "100%|██████████| 3151/3151 [05:32<00:00,  9.48it/s]\n"
     ]
    },
    {
     "name": "stdout",
     "output_type": "stream",
     "text": [
      "{'val_loss': 0.5570614301066241, 'val_accuracy': 0.8528059861036879, 'precision': 0.8534571300463177, 'recall': 0.8528059861036879, 'f1-score': 0.8522145510524682, 'macro_f1-score': 0.8471894737281251, 'balanced_accuracy': 0.8432715408421882, 'mcc': 0.8191272505793558, 'train_loss': 0.19953310547053096}\n",
      "Epoch 5/20\n"
     ]
    },
    {
     "name": "stderr",
     "output_type": "stream",
     "text": [
      "100%|██████████| 3151/3151 [05:31<00:00,  9.50it/s]\n"
     ]
    },
    {
     "name": "stdout",
     "output_type": "stream",
     "text": [
      "{'val_loss': 0.5740546913403604, 'val_accuracy': 0.8469267771245323, 'precision': 0.8489693872484835, 'recall': 0.8469267771245323, 'f1-score': 0.8467580120542505, 'macro_f1-score': 0.8439347387071425, 'balanced_accuracy': 0.8633437664197245, 'mcc': 0.8131701793559055, 'train_loss': 0.1512176039423563}\n",
      "Epoch 6/20\n"
     ]
    },
    {
     "name": "stderr",
     "output_type": "stream",
     "text": [
      "100%|██████████| 3151/3151 [05:32<00:00,  9.49it/s]\n"
     ]
    },
    {
     "name": "stdout",
     "output_type": "stream",
     "text": [
      "{'val_loss': 0.7605426446741654, 'val_accuracy': 0.7880277926242651, 'precision': 0.8120527598371491, 'recall': 0.7880277926242651, 'f1-score': 0.7925219317815608, 'macro_f1-score': 0.7586924831475272, 'balanced_accuracy': 0.7793751915987515, 'mcc': 0.7443828073780285, 'train_loss': 0.14876262800070414}\n",
      "Early stopping.\n",
      "\n",
      "[Fold 3]\n",
      "🚀 Using Word2Vec + EDA (replace + deletion/swap) for data augmentation + under-sampling\n",
      "🔧 Augmenting label 1: 1399 → 5000 (+3601)\n",
      "🔧 Augmenting label 4: 1679 → 5000 (+3321)\n",
      "🔧 Augmenting label 6: 1738 → 5000 (+3262)\n",
      "🔧 Augmenting label 7: 2186 → 5000 (+2814)\n",
      "Label distribution after resampling:\n",
      "  label 0: 5626\n",
      "  label 1: 5000\n",
      "  label 2: 8442\n",
      "  label 3: 10770\n",
      "  label 4: 5000\n",
      "  label 5: 5578\n",
      "  label 6: 5000\n",
      "  label 7: 5000\n",
      "model is microsoft/deberta-base\n"
     ]
    },
    {
     "name": "stderr",
     "output_type": "stream",
     "text": [
      "Some weights of DebertaForSequenceClassification were not initialized from the model checkpoint at microsoft/deberta-base and are newly initialized: ['classifier.bias', 'classifier.weight', 'pooler.dense.bias', 'pooler.dense.weight']\n",
      "You should probably TRAIN this model on a down-stream task to be able to use it for predictions and inference.\n"
     ]
    },
    {
     "name": "stdout",
     "output_type": "stream",
     "text": [
      "Epoch 1/20\n"
     ]
    },
    {
     "name": "stderr",
     "output_type": "stream",
     "text": [
      "100%|██████████| 3151/3151 [05:32<00:00,  9.49it/s]\n"
     ]
    },
    {
     "name": "stdout",
     "output_type": "stream",
     "text": [
      "{'val_loss': 0.4891658841353706, 'val_accuracy': 0.8345093008338679, 'precision': 0.8461612743400826, 'recall': 0.8345093008338679, 'f1-score': 0.8367380279998399, 'macro_f1-score': 0.824715300141678, 'balanced_accuracy': 0.8401478496054089, 'mcc': 0.7973916657071562, 'train_loss': 0.572483262952189}\n",
      "Epoch 2/20\n"
     ]
    },
    {
     "name": "stderr",
     "output_type": "stream",
     "text": [
      "100%|██████████| 3151/3151 [05:31<00:00,  9.50it/s]\n"
     ]
    },
    {
     "name": "stdout",
     "output_type": "stream",
     "text": [
      "{'val_loss': 1.9272092462604882, 'val_accuracy': 0.2878982253581356, 'precision': 0.08288538816436382, 'recall': 0.2878982253581356, 'f1-score': 0.12871418957241787, 'macro_f1-score': 0.055885282642981655, 'balanced_accuracy': 0.125, 'mcc': 0.0, 'train_loss': 1.2818364569103338}\n",
      "Epoch 3/20\n"
     ]
    },
    {
     "name": "stderr",
     "output_type": "stream",
     "text": [
      "100%|██████████| 3151/3151 [05:32<00:00,  9.49it/s]\n"
     ]
    },
    {
     "name": "stdout",
     "output_type": "stream",
     "text": [
      "{'val_loss': 1.9369271390458458, 'val_accuracy': 0.2878982253581356, 'precision': 0.08288538816436382, 'recall': 0.2878982253581356, 'f1-score': 0.12871418957241787, 'macro_f1-score': 0.055885282642981655, 'balanced_accuracy': 0.125, 'mcc': 0.0, 'train_loss': 2.035743216755503}\n",
      "Epoch 4/20\n"
     ]
    },
    {
     "name": "stderr",
     "output_type": "stream",
     "text": [
      "100%|██████████| 3151/3151 [05:33<00:00,  9.44it/s]\n"
     ]
    },
    {
     "name": "stdout",
     "output_type": "stream",
     "text": [
      "{'val_loss': 1.946920757415967, 'val_accuracy': 0.2878982253581356, 'precision': 0.08288538816436382, 'recall': 0.2878982253581356, 'f1-score': 0.12871418957241787, 'macro_f1-score': 0.055885282642981655, 'balanced_accuracy': 0.125, 'mcc': 0.0, 'train_loss': 2.029594350602656}\n",
      "Early stopping.\n",
      "\n",
      "[Fold 4]\n",
      "🚀 Using Word2Vec + EDA (replace + deletion/swap) for data augmentation + under-sampling\n",
      "🔧 Augmenting label 1: 1399 → 5000 (+3601)\n",
      "🔧 Augmenting label 4: 1679 → 5000 (+3321)\n",
      "🔧 Augmenting label 6: 1738 → 5000 (+3262)\n",
      "🔧 Augmenting label 7: 2186 → 5000 (+2814)\n",
      "Label distribution after resampling:\n",
      "  label 0: 5625\n",
      "  label 1: 5000\n",
      "  label 2: 8441\n",
      "  label 3: 10771\n",
      "  label 4: 5000\n",
      "  label 5: 5579\n",
      "  label 6: 5000\n",
      "  label 7: 5000\n",
      "model is microsoft/deberta-base\n"
     ]
    },
    {
     "name": "stderr",
     "output_type": "stream",
     "text": [
      "Some weights of DebertaForSequenceClassification were not initialized from the model checkpoint at microsoft/deberta-base and are newly initialized: ['classifier.bias', 'classifier.weight', 'pooler.dense.bias', 'pooler.dense.weight']\n",
      "You should probably TRAIN this model on a down-stream task to be able to use it for predictions and inference.\n"
     ]
    },
    {
     "name": "stdout",
     "output_type": "stream",
     "text": [
      "Epoch 1/20\n"
     ]
    },
    {
     "name": "stderr",
     "output_type": "stream",
     "text": [
      "100%|██████████| 3151/3151 [05:33<00:00,  9.46it/s]\n"
     ]
    },
    {
     "name": "stdout",
     "output_type": "stream",
     "text": [
      "{'val_loss': 1.9297455288406111, 'val_accuracy': 0.28779131922172335, 'precision': 0.08282384341937987, 'recall': 0.28779131922172335, 'f1-score': 0.12862929293456404, 'macro_f1-score': 0.055869168188610326, 'balanced_accuracy': 0.125, 'mcc': 0.0, 'train_loss': 1.239222917870108}\n",
      "Epoch 2/20\n"
     ]
    },
    {
     "name": "stderr",
     "output_type": "stream",
     "text": [
      "100%|██████████| 3151/3151 [05:32<00:00,  9.48it/s]\n"
     ]
    },
    {
     "name": "stdout",
     "output_type": "stream",
     "text": [
      "{'val_loss': 0.4706869344441937, 'val_accuracy': 0.8483001924310456, 'precision': 0.8566281525704552, 'recall': 0.8483001924310456, 'f1-score': 0.8499444308758415, 'macro_f1-score': 0.8412438694093469, 'balanced_accuracy': 0.8651274572642222, 'mcc': 0.8149506607246039, 'train_loss': 0.4891463423195679}\n",
      "Epoch 3/20\n"
     ]
    },
    {
     "name": "stderr",
     "output_type": "stream",
     "text": [
      "100%|██████████| 3151/3151 [05:32<00:00,  9.46it/s]\n"
     ]
    },
    {
     "name": "stdout",
     "output_type": "stream",
     "text": [
      "{'val_loss': 1.9561496946546766, 'val_accuracy': 0.28779131922172335, 'precision': 0.08282384341937987, 'recall': 0.28779131922172335, 'f1-score': 0.12862929293456404, 'macro_f1-score': 0.055869168188610326, 'balanced_accuracy': 0.125, 'mcc': 0.0, 'train_loss': 0.6635419090013326}\n",
      "Epoch 4/20\n"
     ]
    },
    {
     "name": "stderr",
     "output_type": "stream",
     "text": [
      "100%|██████████| 3151/3151 [05:32<00:00,  9.47it/s]\n"
     ]
    },
    {
     "name": "stdout",
     "output_type": "stream",
     "text": [
      "{'val_loss': 1.9316916337380043, 'val_accuracy': 0.28779131922172335, 'precision': 0.08282384341937987, 'recall': 0.28779131922172335, 'f1-score': 0.12862929293456404, 'macro_f1-score': 0.055869168188610326, 'balanced_accuracy': 0.125, 'mcc': 0.0, 'train_loss': 2.036710484033159}\n",
      "Epoch 5/20\n"
     ]
    },
    {
     "name": "stderr",
     "output_type": "stream",
     "text": [
      "100%|██████████| 3151/3151 [05:31<00:00,  9.49it/s]\n"
     ]
    },
    {
     "name": "stdout",
     "output_type": "stream",
     "text": [
      "{'val_loss': 1.9350124353017562, 'val_accuracy': 0.2878982253581356, 'precision': 0.30851155270938874, 'recall': 0.2878982253581356, 'f1-score': 0.1288536830317817, 'macro_f1-score': 0.05599217777085928, 'balanced_accuracy': 0.1250592136428233, 'mcc': 0.008615619858692242, 'train_loss': 2.0326800522672603}\n",
      "Early stopping.\n",
      "\n",
      "[Fold 5]\n",
      "🚀 Using Word2Vec + EDA (replace + deletion/swap) for data augmentation + under-sampling\n",
      "🔧 Augmenting label 1: 1399 → 5000 (+3601)\n",
      "🔧 Augmenting label 4: 1678 → 5000 (+3322)\n",
      "🔧 Augmenting label 6: 1738 → 5000 (+3262)\n",
      "🔧 Augmenting label 7: 2187 → 5000 (+2813)\n",
      "Label distribution after resampling:\n",
      "  label 0: 5625\n",
      "  label 1: 5000\n",
      "  label 2: 8441\n",
      "  label 3: 10771\n",
      "  label 4: 5000\n",
      "  label 5: 5579\n",
      "  label 6: 5000\n",
      "  label 7: 5000\n",
      "model is microsoft/deberta-base\n"
     ]
    },
    {
     "name": "stderr",
     "output_type": "stream",
     "text": [
      "Some weights of DebertaForSequenceClassification were not initialized from the model checkpoint at microsoft/deberta-base and are newly initialized: ['classifier.bias', 'classifier.weight', 'pooler.dense.bias', 'pooler.dense.weight']\n",
      "You should probably TRAIN this model on a down-stream task to be able to use it for predictions and inference.\n"
     ]
    },
    {
     "name": "stdout",
     "output_type": "stream",
     "text": [
      "Epoch 1/20\n"
     ]
    },
    {
     "name": "stderr",
     "output_type": "stream",
     "text": [
      "100%|██████████| 3151/3151 [05:32<00:00,  9.47it/s]\n"
     ]
    },
    {
     "name": "stdout",
     "output_type": "stream",
     "text": [
      "{'val_loss': 1.9614434926937787, 'val_accuracy': 0.28779131922172335, 'precision': 0.08282384341937987, 'recall': 0.28779131922172335, 'f1-score': 0.12862929293456404, 'macro_f1-score': 0.055869168188610326, 'balanced_accuracy': 0.125, 'mcc': 0.0, 'train_loss': 2.0337277316396407}\n",
      "Epoch 2/20\n"
     ]
    },
    {
     "name": "stderr",
     "output_type": "stream",
     "text": [
      "100%|██████████| 3151/3151 [05:32<00:00,  9.47it/s]\n"
     ]
    },
    {
     "name": "stdout",
     "output_type": "stream",
     "text": [
      "{'val_loss': 1.962661587071215, 'val_accuracy': 0.28779131922172335, 'precision': 0.08282384341937987, 'recall': 0.28779131922172335, 'f1-score': 0.12862929293456404, 'macro_f1-score': 0.055869168188610326, 'balanced_accuracy': 0.125, 'mcc': 0.0, 'train_loss': 2.0258961681788477}\n",
      "Epoch 3/20\n"
     ]
    },
    {
     "name": "stderr",
     "output_type": "stream",
     "text": [
      "100%|██████████| 3151/3151 [05:31<00:00,  9.50it/s]\n"
     ]
    },
    {
     "name": "stdout",
     "output_type": "stream",
     "text": [
      "{'val_loss': 1.9295943620877387, 'val_accuracy': 0.28779131922172335, 'precision': 0.08282384341937987, 'recall': 0.28779131922172335, 'f1-score': 0.12862929293456404, 'macro_f1-score': 0.055869168188610326, 'balanced_accuracy': 0.125, 'mcc': 0.0, 'train_loss': 2.023032504881953}\n",
      "Epoch 4/20\n"
     ]
    },
    {
     "name": "stderr",
     "output_type": "stream",
     "text": [
      "100%|██████████| 3151/3151 [05:32<00:00,  9.48it/s]\n"
     ]
    },
    {
     "name": "stdout",
     "output_type": "stream",
     "text": [
      "{'val_loss': 1.9540067234609881, 'val_accuracy': 0.28779131922172335, 'precision': 0.08282384341937987, 'recall': 0.28779131922172335, 'f1-score': 0.12862929293456404, 'macro_f1-score': 0.055869168188610326, 'balanced_accuracy': 0.125, 'mcc': 0.0, 'train_loss': 2.0194728402098714}\n",
      "Early stopping.\n",
      "\n",
      " === microsoft/deberta-base + plain + word2vec_eda Final 5-fold Cross-Validation Results ===\n",
      "val_loss: 0.7654\n",
      "val_accuracy: 0.7371\n",
      "precision: 0.7005\n",
      "recall: 0.7371\n",
      "f1-score: 0.7060\n",
      "macro_f1-score: 0.6862\n",
      "balanced_accuracy: 0.7093\n",
      "mcc: 0.6526\n",
      "train_loss: 0.7370\n",
      "total_seconds: 8754.0000\n",
      "total_time: 2 hrs 25 mins 54 secs\n",
      "▶ Running: microsoft/deberta-base + cnn + word2vec_eda\n",
      "tokenizer is microsoft/deberta-base\n",
      "Using device: cuda\n",
      "CUDA Available: True\n",
      "CUDA Device: NVIDIA GeForce RTX 5070 Ti\n",
      "Current GPU Memory Allocated: 0.02 GB\n",
      "Current GPU Memory Cached: 5.12 GB\n",
      "\n",
      "[Fold 1]\n",
      "🚀 Using Word2Vec + EDA (replace + deletion/swap) for data augmentation + under-sampling\n",
      "🔧 Augmenting label 1: 1399 → 5000 (+3601)\n",
      "🔧 Augmenting label 4: 1678 → 5000 (+3322)\n",
      "🔧 Augmenting label 6: 1737 → 5000 (+3263)\n",
      "🔧 Augmenting label 7: 2187 → 5000 (+2813)\n",
      "Label distribution after resampling:\n",
      "  label 0: 5626\n",
      "  label 1: 5000\n",
      "  label 2: 8442\n",
      "  label 3: 10770\n",
      "  label 4: 5000\n",
      "  label 5: 5578\n",
      "  label 6: 5000\n",
      "  label 7: 5000\n",
      "model is microsoft/deberta-base cnn\n",
      "Epoch 1/20\n"
     ]
    },
    {
     "name": "stderr",
     "output_type": "stream",
     "text": [
      "100%|██████████| 3151/3151 [05:44<00:00,  9.14it/s]\n"
     ]
    },
    {
     "name": "stdout",
     "output_type": "stream",
     "text": [
      "{'val_loss': 0.5114978482262191, 'val_accuracy': 0.8300374131480491, 'precision': 0.8380641905459242, 'recall': 0.8300374131480491, 'f1-score': 0.8307262359771937, 'macro_f1-score': 0.8274077617723299, 'balanced_accuracy': 0.8583882181419358, 'mcc': 0.7940244858576117, 'train_loss': 0.665832147619358}\n",
      "Epoch 2/20\n"
     ]
    },
    {
     "name": "stderr",
     "output_type": "stream",
     "text": [
      "100%|██████████| 3151/3151 [05:42<00:00,  9.20it/s]\n"
     ]
    },
    {
     "name": "stdout",
     "output_type": "stream",
     "text": [
      "{'val_loss': 0.4793475777388383, 'val_accuracy': 0.8382683057188669, 'precision': 0.8461962920735503, 'recall': 0.8382683057188669, 'f1-score': 0.8385962670950716, 'macro_f1-score': 0.8294252209803818, 'balanced_accuracy': 0.8635376426931273, 'mcc': 0.8050057840933833, 'train_loss': 0.41012363588589357}\n",
      "Epoch 3/20\n"
     ]
    },
    {
     "name": "stderr",
     "output_type": "stream",
     "text": [
      "100%|██████████| 3151/3151 [05:42<00:00,  9.20it/s]\n"
     ]
    },
    {
     "name": "stdout",
     "output_type": "stream",
     "text": [
      "{'val_loss': 1.7388630736587394, 'val_accuracy': 0.4230892570817745, 'precision': 0.4058896974805666, 'recall': 0.4230892570817745, 'f1-score': 0.3228941081051871, 'macro_f1-score': 0.31876187563843816, 'balanced_accuracy': 0.35034209897755986, 'mcc': 0.33708789529640054, 'train_loss': 0.6480897800752764}\n",
      "Epoch 4/20\n"
     ]
    },
    {
     "name": "stderr",
     "output_type": "stream",
     "text": [
      "100%|██████████| 3151/3151 [05:43<00:00,  9.18it/s]\n"
     ]
    },
    {
     "name": "stdout",
     "output_type": "stream",
     "text": [
      "{'val_loss': 1.9098184942180274, 'val_accuracy': 0.3036878674505612, 'precision': 0.3353053907502399, 'recall': 0.3036878674505612, 'f1-score': 0.2520190584992173, 'macro_f1-score': 0.27726461679702885, 'balanced_accuracy': 0.32161068746370813, 'mcc': 0.27438101027556183, 'train_loss': 0.540067575432145}\n",
      "Epoch 5/20\n"
     ]
    },
    {
     "name": "stderr",
     "output_type": "stream",
     "text": [
      "100%|██████████| 3151/3151 [05:42<00:00,  9.19it/s]\n"
     ]
    },
    {
     "name": "stdout",
     "output_type": "stream",
     "text": [
      "{'val_loss': 2.0782538550531764, 'val_accuracy': 0.08230892570817744, 'precision': 0.24786301284588735, 'recall': 0.08230892570817744, 'f1-score': 0.062304153404228325, 'macro_f1-score': 0.06110914006481524, 'balanced_accuracy': 0.15545958190695033, 'mcc': 0.1353714775682466, 'train_loss': 0.48915470217335977}\n",
      "Early stopping.\n",
      "\n",
      "[Fold 2]\n",
      "🚀 Using Word2Vec + EDA (replace + deletion/swap) for data augmentation + under-sampling\n",
      "🔧 Augmenting label 1: 1400 → 5000 (+3600)\n",
      "🔧 Augmenting label 4: 1678 → 5000 (+3322)\n",
      "🔧 Augmenting label 6: 1737 → 5000 (+3263)\n",
      "🔧 Augmenting label 7: 2186 → 5000 (+2814)\n",
      "Label distribution after resampling:\n",
      "  label 0: 5626\n",
      "  label 1: 5000\n",
      "  label 2: 8442\n",
      "  label 3: 10770\n",
      "  label 4: 5000\n",
      "  label 5: 5578\n",
      "  label 6: 5000\n",
      "  label 7: 5000\n",
      "model is microsoft/deberta-base cnn\n",
      "Epoch 1/20\n"
     ]
    },
    {
     "name": "stderr",
     "output_type": "stream",
     "text": [
      "100%|██████████| 3151/3151 [05:43<00:00,  9.19it/s]\n"
     ]
    },
    {
     "name": "stdout",
     "output_type": "stream",
     "text": [
      "{'val_loss': 0.6093421350559618, 'val_accuracy': 0.8033137359700695, 'precision': 0.8164296918145506, 'recall': 0.8033137359700695, 'f1-score': 0.8024208495006186, 'macro_f1-score': 0.7964418380259366, 'balanced_accuracy': 0.844017236940451, 'mcc': 0.765328436041459, 'train_loss': 0.675298694107399}\n",
      "Epoch 2/20\n"
     ]
    },
    {
     "name": "stderr",
     "output_type": "stream",
     "text": [
      "100%|██████████| 3151/3151 [05:42<00:00,  9.20it/s]\n"
     ]
    },
    {
     "name": "stdout",
     "output_type": "stream",
     "text": [
      "{'val_loss': 1.7105979877659399, 'val_accuracy': 0.37017637626937466, 'precision': 0.7345395114288341, 'recall': 0.37017637626937466, 'f1-score': 0.2607652611059706, 'macro_f1-score': 0.27635296782148755, 'balanced_accuracy': 0.30298054746406033, 'mcc': 0.25635440940737536, 'train_loss': 0.52582884659049}\n",
      "Epoch 3/20\n"
     ]
    },
    {
     "name": "stderr",
     "output_type": "stream",
     "text": [
      "100%|██████████| 3151/3151 [05:42<00:00,  9.20it/s]\n"
     ]
    },
    {
     "name": "stdout",
     "output_type": "stream",
     "text": [
      "{'val_loss': 0.5260462455069408, 'val_accuracy': 0.8334580438268305, 'precision': 0.8363627343957679, 'recall': 0.8334580438268305, 'f1-score': 0.8332539158192835, 'macro_f1-score': 0.8325204572751463, 'balanced_accuracy': 0.8502322259752915, 'mcc': 0.7969614903368122, 'train_loss': 0.48901493774720484}\n",
      "Epoch 4/20\n"
     ]
    },
    {
     "name": "stderr",
     "output_type": "stream",
     "text": [
      "100%|██████████| 3151/3151 [05:42<00:00,  9.20it/s]\n"
     ]
    },
    {
     "name": "stdout",
     "output_type": "stream",
     "text": [
      "{'val_loss': 0.6703306879816402, 'val_accuracy': 0.7584179583110636, 'precision': 0.7742631219440633, 'recall': 0.7584179583110636, 'f1-score': 0.7524631518932826, 'macro_f1-score': 0.7818282206969234, 'balanced_accuracy': 0.8039113905768402, 'mcc': 0.7089208833835885, 'train_loss': 0.35012616017275916}\n",
      "Epoch 5/20\n"
     ]
    },
    {
     "name": "stderr",
     "output_type": "stream",
     "text": [
      "100%|██████████| 3151/3151 [05:43<00:00,  9.17it/s]\n"
     ]
    },
    {
     "name": "stdout",
     "output_type": "stream",
     "text": [
      "{'val_loss': 0.5251869247939724, 'val_accuracy': 0.8391234633885623, 'precision': 0.8436984923781882, 'recall': 0.8391234633885623, 'f1-score': 0.838760608703836, 'macro_f1-score': 0.8385221704433936, 'balanced_accuracy': 0.8498902552042512, 'mcc': 0.8044624572948909, 'train_loss': 0.27352802640042007}\n",
      "Epoch 6/20\n"
     ]
    },
    {
     "name": "stderr",
     "output_type": "stream",
     "text": [
      "100%|██████████| 3151/3151 [05:42<00:00,  9.20it/s]\n"
     ]
    },
    {
     "name": "stdout",
     "output_type": "stream",
     "text": [
      "{'val_loss': 0.574102035498358, 'val_accuracy': 0.847461250668092, 'precision': 0.8484733272879039, 'recall': 0.847461250668092, 'f1-score': 0.8472384812212814, 'macro_f1-score': 0.8476996778771568, 'balanced_accuracy': 0.8591185201602378, 'mcc': 0.8131726700669923, 'train_loss': 0.22343830398067546}\n",
      "Epoch 7/20\n"
     ]
    },
    {
     "name": "stderr",
     "output_type": "stream",
     "text": [
      "100%|██████████| 3151/3151 [05:42<00:00,  9.21it/s]\n"
     ]
    },
    {
     "name": "stdout",
     "output_type": "stream",
     "text": [
      "{'val_loss': 0.6911634695214721, 'val_accuracy': 0.8388027792624265, 'precision': 0.8421663848120822, 'recall': 0.8388027792624265, 'f1-score': 0.8388508854030846, 'macro_f1-score': 0.8375710368872256, 'balanced_accuracy': 0.843542805266742, 'mcc': 0.801773928009666, 'train_loss': 0.19468699987823015}\n",
      "Epoch 8/20\n"
     ]
    },
    {
     "name": "stderr",
     "output_type": "stream",
     "text": [
      "100%|██████████| 3151/3151 [05:42<00:00,  9.21it/s]\n"
     ]
    },
    {
     "name": "stdout",
     "output_type": "stream",
     "text": [
      "{'val_loss': 0.6278192963196426, 'val_accuracy': 0.82618920363442, 'precision': 0.8287549872320294, 'recall': 0.82618920363442, 'f1-score': 0.8261443044332311, 'macro_f1-score': 0.8220441119298628, 'balanced_accuracy': 0.8270524629994501, 'mcc': 0.7876043927820773, 'train_loss': 0.26903394320036866}\n",
      "Epoch 9/20\n"
     ]
    },
    {
     "name": "stderr",
     "output_type": "stream",
     "text": [
      "100%|██████████| 3151/3151 [05:41<00:00,  9.22it/s]\n"
     ]
    },
    {
     "name": "stdout",
     "output_type": "stream",
     "text": [
      "{'val_loss': 0.7433757071520608, 'val_accuracy': 0.8431854623196152, 'precision': 0.8437552482948175, 'recall': 0.8431854623196152, 'f1-score': 0.8433453434725242, 'macro_f1-score': 0.8424671867384099, 'balanced_accuracy': 0.8483607386079156, 'mcc': 0.807259408685844, 'train_loss': 0.11771212109045434}\n",
      "Early stopping.\n",
      "\n",
      "[Fold 3]\n",
      "🚀 Using Word2Vec + EDA (replace + deletion/swap) for data augmentation + under-sampling\n",
      "🔧 Augmenting label 1: 1399 → 5000 (+3601)\n",
      "🔧 Augmenting label 4: 1679 → 5000 (+3321)\n",
      "🔧 Augmenting label 6: 1738 → 5000 (+3262)\n",
      "🔧 Augmenting label 7: 2186 → 5000 (+2814)\n",
      "Label distribution after resampling:\n",
      "  label 0: 5626\n",
      "  label 1: 5000\n",
      "  label 2: 8442\n",
      "  label 3: 10770\n",
      "  label 4: 5000\n",
      "  label 5: 5578\n",
      "  label 6: 5000\n",
      "  label 7: 5000\n",
      "model is microsoft/deberta-base cnn\n",
      "Epoch 1/20\n"
     ]
    },
    {
     "name": "stderr",
     "output_type": "stream",
     "text": [
      "100%|██████████| 3151/3151 [05:42<00:00,  9.19it/s]\n"
     ]
    },
    {
     "name": "stdout",
     "output_type": "stream",
     "text": [
      "{'val_loss': 0.5057405538825143, 'val_accuracy': 0.8348300192431045, 'precision': 0.8458870880066426, 'recall': 0.8348300192431045, 'f1-score': 0.8362834433194978, 'macro_f1-score': 0.8281581299140032, 'balanced_accuracy': 0.8604706160564687, 'mcc': 0.7989891488765448, 'train_loss': 0.6459269849355922}\n",
      "Epoch 2/20\n"
     ]
    },
    {
     "name": "stderr",
     "output_type": "stream",
     "text": [
      "100%|██████████| 3151/3151 [05:42<00:00,  9.20it/s]\n"
     ]
    },
    {
     "name": "stdout",
     "output_type": "stream",
     "text": [
      "{'val_loss': 0.4426280599358117, 'val_accuracy': 0.852255719478298, 'precision': 0.8573427620725717, 'recall': 0.852255719478298, 'f1-score': 0.8518861128005104, 'macro_f1-score': 0.8498142599802815, 'balanced_accuracy': 0.846504941623385, 'mcc': 0.8186009095564278, 'train_loss': 0.38745988543807125}\n",
      "Epoch 3/20\n"
     ]
    },
    {
     "name": "stderr",
     "output_type": "stream",
     "text": [
      "100%|██████████| 3151/3151 [05:42<00:00,  9.20it/s]\n"
     ]
    },
    {
     "name": "stdout",
     "output_type": "stream",
     "text": [
      "{'val_loss': 1.9629827210026929, 'val_accuracy': 0.28811203763096, 'precision': 0.1413807704850539, 'recall': 0.28811203763096, 'f1-score': 0.1291616285064065, 'macro_f1-score': 0.056805308871331776, 'balanced_accuracy': 0.12545703839122485, 'mcc': 0.014104516261579034, 'train_loss': 0.9746165709461874}\n",
      "Epoch 4/20\n"
     ]
    },
    {
     "name": "stderr",
     "output_type": "stream",
     "text": [
      "100%|██████████| 3151/3151 [05:42<00:00,  9.20it/s]\n"
     ]
    },
    {
     "name": "stdout",
     "output_type": "stream",
     "text": [
      "{'val_loss': 1.979908349371364, 'val_accuracy': 0.2878982253581356, 'precision': 0.08288538816436382, 'recall': 0.2878982253581356, 'f1-score': 0.12871418957241787, 'macro_f1-score': 0.055885282642981655, 'balanced_accuracy': 0.125, 'mcc': 0.0, 'train_loss': 2.0317715130999368}\n",
      "Epoch 5/20\n"
     ]
    },
    {
     "name": "stderr",
     "output_type": "stream",
     "text": [
      "100%|██████████| 3151/3151 [05:42<00:00,  9.21it/s]\n"
     ]
    },
    {
     "name": "stdout",
     "output_type": "stream",
     "text": [
      "{'val_loss': 1.9873172124226888, 'val_accuracy': 0.2878982253581356, 'precision': 0.08288538816436382, 'recall': 0.2878982253581356, 'f1-score': 0.12871418957241787, 'macro_f1-score': 0.055885282642981655, 'balanced_accuracy': 0.125, 'mcc': 0.0, 'train_loss': 2.0349099906956494}\n",
      "Early stopping.\n",
      "\n",
      "[Fold 4]\n",
      "🚀 Using Word2Vec + EDA (replace + deletion/swap) for data augmentation + under-sampling\n",
      "🔧 Augmenting label 1: 1399 → 5000 (+3601)\n",
      "🔧 Augmenting label 4: 1679 → 5000 (+3321)\n",
      "🔧 Augmenting label 6: 1738 → 5000 (+3262)\n",
      "🔧 Augmenting label 7: 2186 → 5000 (+2814)\n",
      "Label distribution after resampling:\n",
      "  label 0: 5625\n",
      "  label 1: 5000\n",
      "  label 2: 8441\n",
      "  label 3: 10771\n",
      "  label 4: 5000\n",
      "  label 5: 5579\n",
      "  label 6: 5000\n",
      "  label 7: 5000\n",
      "model is microsoft/deberta-base cnn\n",
      "Epoch 1/20\n"
     ]
    },
    {
     "name": "stderr",
     "output_type": "stream",
     "text": [
      "100%|██████████| 3151/3151 [05:42<00:00,  9.19it/s]\n"
     ]
    },
    {
     "name": "stdout",
     "output_type": "stream",
     "text": [
      "{'val_loss': 1.9954258678305863, 'val_accuracy': 0.28779131922172335, 'precision': 0.08282384341937987, 'recall': 0.28779131922172335, 'f1-score': 0.12862929293456404, 'macro_f1-score': 0.055869168188610326, 'balanced_accuracy': 0.125, 'mcc': 0.0, 'train_loss': 0.94846948763277}\n",
      "Epoch 2/20\n"
     ]
    },
    {
     "name": "stderr",
     "output_type": "stream",
     "text": [
      "100%|██████████| 3151/3151 [05:42<00:00,  9.20it/s]\n"
     ]
    },
    {
     "name": "stdout",
     "output_type": "stream",
     "text": [
      "{'val_loss': 1.9857374833180355, 'val_accuracy': 0.28779131922172335, 'precision': 0.08282384341937987, 'recall': 0.28779131922172335, 'f1-score': 0.12862929293456404, 'macro_f1-score': 0.055869168188610326, 'balanced_accuracy': 0.125, 'mcc': 0.0, 'train_loss': 2.0402538495682716}\n",
      "Epoch 3/20\n"
     ]
    },
    {
     "name": "stderr",
     "output_type": "stream",
     "text": [
      "100%|██████████| 3151/3151 [05:42<00:00,  9.20it/s]\n"
     ]
    },
    {
     "name": "stdout",
     "output_type": "stream",
     "text": [
      "{'val_loss': 1.9680209801747248, 'val_accuracy': 0.28779131922172335, 'precision': 0.08282384341937987, 'recall': 0.28779131922172335, 'f1-score': 0.12862929293456404, 'macro_f1-score': 0.055869168188610326, 'balanced_accuracy': 0.125, 'mcc': 0.0, 'train_loss': 2.038178020641941}\n",
      "Epoch 4/20\n"
     ]
    },
    {
     "name": "stderr",
     "output_type": "stream",
     "text": [
      "100%|██████████| 3151/3151 [05:39<00:00,  9.29it/s]\n"
     ]
    },
    {
     "name": "stdout",
     "output_type": "stream",
     "text": [
      "{'val_loss': 1.9921201451211914, 'val_accuracy': 0.28779131922172335, 'precision': 0.08282384341937987, 'recall': 0.28779131922172335, 'f1-score': 0.12862929293456404, 'macro_f1-score': 0.055869168188610326, 'balanced_accuracy': 0.125, 'mcc': 0.0, 'train_loss': 2.0329820596010335}\n",
      "Early stopping.\n",
      "\n",
      "[Fold 5]\n",
      "🚀 Using Word2Vec + EDA (replace + deletion/swap) for data augmentation + under-sampling\n",
      "🔧 Augmenting label 1: 1399 → 5000 (+3601)\n",
      "🔧 Augmenting label 4: 1678 → 5000 (+3322)\n",
      "🔧 Augmenting label 6: 1738 → 5000 (+3262)\n",
      "🔧 Augmenting label 7: 2187 → 5000 (+2813)\n",
      "Label distribution after resampling:\n",
      "  label 0: 5625\n",
      "  label 1: 5000\n",
      "  label 2: 8441\n",
      "  label 3: 10771\n",
      "  label 4: 5000\n",
      "  label 5: 5579\n",
      "  label 6: 5000\n",
      "  label 7: 5000\n",
      "model is microsoft/deberta-base cnn\n",
      "Epoch 1/20\n"
     ]
    },
    {
     "name": "stderr",
     "output_type": "stream",
     "text": [
      "100%|██████████| 3151/3151 [05:32<00:00,  9.48it/s]\n"
     ]
    },
    {
     "name": "stdout",
     "output_type": "stream",
     "text": [
      "{'val_loss': 2.003066202921745, 'val_accuracy': 0.28779131922172335, 'precision': 0.08282384341937987, 'recall': 0.28779131922172335, 'f1-score': 0.12862929293456404, 'macro_f1-score': 0.055869168188610326, 'balanced_accuracy': 0.125, 'mcc': 0.0, 'train_loss': 2.0464181346917525}\n",
      "Epoch 2/20\n"
     ]
    },
    {
     "name": "stderr",
     "output_type": "stream",
     "text": [
      "100%|██████████| 3151/3151 [05:32<00:00,  9.47it/s]\n"
     ]
    },
    {
     "name": "stdout",
     "output_type": "stream",
     "text": [
      "{'val_loss': 2.000943029232514, 'val_accuracy': 0.28779131922172335, 'precision': 0.08283269874317109, 'recall': 0.28779131922172335, 'f1-score': 0.12863997199582886, 'macro_f1-score': 0.05587380655873807, 'balanced_accuracy': 0.125, 'mcc': 0.0005038415898233941, 'train_loss': 2.0236447106010003}\n",
      "Epoch 3/20\n"
     ]
    },
    {
     "name": "stderr",
     "output_type": "stream",
     "text": [
      "100%|██████████| 3151/3151 [05:32<00:00,  9.47it/s]\n"
     ]
    },
    {
     "name": "stdout",
     "output_type": "stream",
     "text": [
      "{'val_loss': 1.9888005757943177, 'val_accuracy': 0.22567885396621767, 'precision': 0.0509309451275054, 'recall': 0.22567885396621767, 'f1-score': 0.08310650863021116, 'macro_f1-score': 0.04603139991277802, 'balanced_accuracy': 0.125, 'mcc': 0.0, 'train_loss': 2.0320807093100033}\n",
      "Epoch 4/20\n"
     ]
    },
    {
     "name": "stderr",
     "output_type": "stream",
     "text": [
      "100%|██████████| 3151/3151 [05:32<00:00,  9.48it/s]\n"
     ]
    },
    {
     "name": "stdout",
     "output_type": "stream",
     "text": [
      "{'val_loss': 1.9793476053792187, 'val_accuracy': 0.22567885396621767, 'precision': 0.0509309451275054, 'recall': 0.22567885396621767, 'f1-score': 0.08310650863021116, 'macro_f1-score': 0.04603139991277802, 'balanced_accuracy': 0.125, 'mcc': 0.0, 'train_loss': 2.0287485790419146}\n",
      "Epoch 5/20\n"
     ]
    },
    {
     "name": "stderr",
     "output_type": "stream",
     "text": [
      "100%|██████████| 3151/3151 [05:32<00:00,  9.47it/s]\n"
     ]
    },
    {
     "name": "stdout",
     "output_type": "stream",
     "text": [
      "{'val_loss': 1.9724615899925557, 'val_accuracy': 0.22567885396621767, 'precision': 0.0509309451275054, 'recall': 0.22567885396621767, 'f1-score': 0.08310650863021116, 'macro_f1-score': 0.04603139991277802, 'balanced_accuracy': 0.125, 'mcc': 0.0, 'train_loss': 2.0259006674499296}\n",
      "Early stopping.\n",
      "\n",
      " === microsoft/deberta-base + cnn + word2vec_eda Final 5-fold Cross-Validation Results ===\n",
      "val_loss: 1.0985\n",
      "val_accuracy: 0.6227\n",
      "precision: 0.5435\n",
      "recall: 0.6227\n",
      "f1-score: 0.5590\n",
      "macro_f1-score: 0.5277\n",
      "balanced_accuracy: 0.5638\n",
      "mcc: 0.4875\n",
      "train_loss: 0.7986\n",
      "total_seconds: 10410.0000\n",
      "total_time: 2 hrs 53 mins 30 secs\n",
      "▶ Running: microsoft/deberta-base + lstm + word2vec_eda\n",
      "tokenizer is microsoft/deberta-base\n",
      "Using device: cuda\n",
      "CUDA Available: True\n",
      "CUDA Device: NVIDIA GeForce RTX 5070 Ti\n",
      "Current GPU Memory Allocated: 0.02 GB\n",
      "Current GPU Memory Cached: 5.12 GB\n",
      "\n",
      "[Fold 1]\n",
      "🚀 Using Word2Vec + EDA (replace + deletion/swap) for data augmentation + under-sampling\n",
      "🔧 Augmenting label 1: 1399 → 5000 (+3601)\n",
      "🔧 Augmenting label 4: 1678 → 5000 (+3322)\n",
      "🔧 Augmenting label 6: 1737 → 5000 (+3263)\n",
      "🔧 Augmenting label 7: 2187 → 5000 (+2813)\n",
      "Label distribution after resampling:\n",
      "  label 0: 5626\n",
      "  label 1: 5000\n",
      "  label 2: 8442\n",
      "  label 3: 10770\n",
      "  label 4: 5000\n",
      "  label 5: 5578\n",
      "  label 6: 5000\n",
      "  label 7: 5000\n",
      "model is microsoft/deberta-base lstm\n",
      "Epoch 1/20\n"
     ]
    },
    {
     "name": "stderr",
     "output_type": "stream",
     "text": [
      "100%|██████████| 3151/3151 [05:37<00:00,  9.33it/s]\n"
     ]
    },
    {
     "name": "stdout",
     "output_type": "stream",
     "text": [
      "{'val_loss': 0.9328597196656414, 'val_accuracy': 0.7198289684660609, 'precision': 0.7326956946284178, 'recall': 0.7198289684660609, 'f1-score': 0.7122675130753897, 'macro_f1-score': 0.65382502739803, 'balanced_accuracy': 0.6840758767553673, 'mcc': 0.666195275170396, 'train_loss': 1.249247458625392}\n",
      "Epoch 2/20\n"
     ]
    },
    {
     "name": "stderr",
     "output_type": "stream",
     "text": [
      "100%|██████████| 3151/3151 [05:37<00:00,  9.33it/s]\n"
     ]
    },
    {
     "name": "stdout",
     "output_type": "stream",
     "text": [
      "{'val_loss': 0.8138061070162007, 'val_accuracy': 0.7422768572955639, 'precision': 0.7864963521014718, 'recall': 0.7422768572955639, 'f1-score': 0.7510477623131171, 'macro_f1-score': 0.7303752500457633, 'balanced_accuracy': 0.7843295098516836, 'mcc': 0.6928408623893033, 'train_loss': 0.7313742871839294}\n",
      "Epoch 3/20\n"
     ]
    },
    {
     "name": "stderr",
     "output_type": "stream",
     "text": [
      "100%|██████████| 3151/3151 [05:37<00:00,  9.33it/s]\n"
     ]
    },
    {
     "name": "stdout",
     "output_type": "stream",
     "text": [
      "{'val_loss': 0.5756973454649122, 'val_accuracy': 0.830358097274185, 'precision': 0.8337394008362828, 'recall': 0.830358097274185, 'f1-score': 0.8294919403484804, 'macro_f1-score': 0.8294151379415715, 'balanced_accuracy': 0.832565608921066, 'mcc': 0.7916740626255159, 'train_loss': 0.5722651103424556}\n",
      "Epoch 4/20\n"
     ]
    },
    {
     "name": "stderr",
     "output_type": "stream",
     "text": [
      "100%|██████████| 3151/3151 [05:37<00:00,  9.34it/s]\n"
     ]
    },
    {
     "name": "stdout",
     "output_type": "stream",
     "text": [
      "{'val_loss': 0.5073981618142536, 'val_accuracy': 0.8354890432923571, 'precision': 0.8426150631378525, 'recall': 0.8354890432923571, 'f1-score': 0.8360558791401049, 'macro_f1-score': 0.8361295343315321, 'balanced_accuracy': 0.8532530483865759, 'mcc': 0.8000844191077608, 'train_loss': 0.41368697139442495}\n",
      "Epoch 5/20\n"
     ]
    },
    {
     "name": "stderr",
     "output_type": "stream",
     "text": [
      "100%|██████████| 3151/3151 [05:37<00:00,  9.34it/s]\n"
     ]
    },
    {
     "name": "stdout",
     "output_type": "stream",
     "text": [
      "{'val_loss': 0.4758709950484017, 'val_accuracy': 0.8555852485301978, 'precision': 0.8576541708695385, 'recall': 0.8555852485301978, 'f1-score': 0.8561610301464837, 'macro_f1-score': 0.8541669640853928, 'balanced_accuracy': 0.8622619970408156, 'mcc': 0.8227720249361807, 'train_loss': 0.33875045583470215}\n",
      "Epoch 6/20\n"
     ]
    },
    {
     "name": "stderr",
     "output_type": "stream",
     "text": [
      "100%|██████████| 3151/3151 [05:37<00:00,  9.34it/s]\n"
     ]
    },
    {
     "name": "stdout",
     "output_type": "stream",
     "text": [
      "{'val_loss': 1.582982359890245, 'val_accuracy': 0.33564938535542493, 'precision': 0.4430289905109578, 'recall': 0.33564938535542493, 'f1-score': 0.3089068977043573, 'macro_f1-score': 0.23895079511471962, 'balanced_accuracy': 0.2999025607087711, 'mcc': 0.24614158702949776, 'train_loss': 1.1405189781175156}\n",
      "Epoch 7/20\n"
     ]
    },
    {
     "name": "stderr",
     "output_type": "stream",
     "text": [
      "100%|██████████| 3151/3151 [05:37<00:00,  9.33it/s]\n"
     ]
    },
    {
     "name": "stdout",
     "output_type": "stream",
     "text": [
      "{'val_loss': 1.0162746171156565, 'val_accuracy': 0.6114377338321753, 'precision': 0.658665957572924, 'recall': 0.6114377338321753, 'f1-score': 0.5456319657614124, 'macro_f1-score': 0.6504554727933869, 'balanced_accuracy': 0.7134582413188588, 'mcc': 0.5737223044508031, 'train_loss': 0.9754506671421114}\n",
      "Epoch 8/20\n"
     ]
    },
    {
     "name": "stderr",
     "output_type": "stream",
     "text": [
      "100%|██████████| 3151/3151 [05:37<00:00,  9.34it/s]\n"
     ]
    },
    {
     "name": "stdout",
     "output_type": "stream",
     "text": [
      "{'val_loss': 1.1266465211525942, 'val_accuracy': 0.6161411010154997, 'precision': 0.6562075772079174, 'recall': 0.6161411010154997, 'f1-score': 0.5435673130372057, 'macro_f1-score': 0.6766038776235292, 'balanced_accuracy': 0.7490617307403522, 'mcc': 0.5957639314514585, 'train_loss': 0.4671995647538894}\n",
      "Early stopping.\n",
      "\n",
      "[Fold 2]\n",
      "🚀 Using Word2Vec + EDA (replace + deletion/swap) for data augmentation + under-sampling\n",
      "🔧 Augmenting label 1: 1400 → 5000 (+3600)\n",
      "🔧 Augmenting label 4: 1678 → 5000 (+3322)\n",
      "🔧 Augmenting label 6: 1737 → 5000 (+3263)\n",
      "🔧 Augmenting label 7: 2186 → 5000 (+2814)\n",
      "Label distribution after resampling:\n",
      "  label 0: 5626\n",
      "  label 1: 5000\n",
      "  label 2: 8442\n",
      "  label 3: 10770\n",
      "  label 4: 5000\n",
      "  label 5: 5578\n",
      "  label 6: 5000\n",
      "  label 7: 5000\n",
      "model is microsoft/deberta-base lstm\n",
      "Epoch 1/20\n"
     ]
    },
    {
     "name": "stderr",
     "output_type": "stream",
     "text": [
      "100%|██████████| 3151/3151 [05:37<00:00,  9.34it/s]\n"
     ]
    },
    {
     "name": "stdout",
     "output_type": "stream",
     "text": [
      "{'val_loss': 0.9948623200257619, 'val_accuracy': 0.6686264029930519, 'precision': 0.7014218977376198, 'recall': 0.6686264029930519, 'f1-score': 0.675886903750399, 'macro_f1-score': 0.6933108554769627, 'balanced_accuracy': 0.705460725407015, 'mcc': 0.5979283453398249, 'train_loss': 1.3080764245992613}\n",
      "Epoch 2/20\n"
     ]
    },
    {
     "name": "stderr",
     "output_type": "stream",
     "text": [
      "100%|██████████| 3151/3151 [05:37<00:00,  9.34it/s]\n"
     ]
    },
    {
     "name": "stdout",
     "output_type": "stream",
     "text": [
      "{'val_loss': 0.7440980362904887, 'val_accuracy': 0.7642971672902191, 'precision': 0.7898761994858933, 'recall': 0.7642971672902191, 'f1-score': 0.768887282097927, 'macro_f1-score': 0.7726701430528493, 'balanced_accuracy': 0.8059123330699292, 'mcc': 0.7170499837961527, 'train_loss': 0.7356428253328146}\n",
      "Epoch 3/20\n"
     ]
    },
    {
     "name": "stderr",
     "output_type": "stream",
     "text": [
      "100%|██████████| 3151/3151 [05:37<00:00,  9.34it/s]\n"
     ]
    },
    {
     "name": "stdout",
     "output_type": "stream",
     "text": [
      "{'val_loss': 0.7834758463578346, 'val_accuracy': 0.7610903260288616, 'precision': 0.7781804074001109, 'recall': 0.7610903260288616, 'f1-score': 0.7642866311156217, 'macro_f1-score': 0.7503092821914324, 'balanced_accuracy': 0.7827071987813544, 'mcc': 0.7105097672760665, 'train_loss': 0.666894453394152}\n",
      "Epoch 4/20\n"
     ]
    },
    {
     "name": "stderr",
     "output_type": "stream",
     "text": [
      "100%|██████████| 3151/3151 [05:37<00:00,  9.34it/s]\n"
     ]
    },
    {
     "name": "stdout",
     "output_type": "stream",
     "text": [
      "{'val_loss': 0.6780003612940637, 'val_accuracy': 0.7822554783538215, 'precision': 0.8016790289593495, 'recall': 0.7822554783538215, 'f1-score': 0.7839874317180222, 'macro_f1-score': 0.7889669406009269, 'balanced_accuracy': 0.8081987290703778, 'mcc': 0.7370862502302548, 'train_loss': 0.568866519417622}\n",
      "Epoch 5/20\n"
     ]
    },
    {
     "name": "stderr",
     "output_type": "stream",
     "text": [
      "100%|██████████| 3151/3151 [05:37<00:00,  9.34it/s]\n"
     ]
    },
    {
     "name": "stdout",
     "output_type": "stream",
     "text": [
      "{'val_loss': 0.7645658502402978, 'val_accuracy': 0.7678246926777125, 'precision': 0.7761205653634254, 'recall': 0.7678246926777125, 'f1-score': 0.768064307335799, 'macro_f1-score': 0.7729631841236465, 'balanced_accuracy': 0.784158553067301, 'mcc': 0.7173016274987716, 'train_loss': 0.5767801369051826}\n",
      "Epoch 6/20\n"
     ]
    },
    {
     "name": "stderr",
     "output_type": "stream",
     "text": [
      "100%|██████████| 3151/3151 [05:37<00:00,  9.34it/s]\n"
     ]
    },
    {
     "name": "stdout",
     "output_type": "stream",
     "text": [
      "{'val_loss': 1.0965830855389946, 'val_accuracy': 0.6658471405665419, 'precision': 0.7520667186751627, 'recall': 0.6658471405665419, 'f1-score': 0.6669704217430314, 'macro_f1-score': 0.6869622246524083, 'balanced_accuracy': 0.668442930070335, 'mcc': 0.6145568078149867, 'train_loss': 0.731025530043688}\n",
      "Epoch 7/20\n"
     ]
    },
    {
     "name": "stderr",
     "output_type": "stream",
     "text": [
      "100%|██████████| 3151/3151 [05:37<00:00,  9.34it/s]\n"
     ]
    },
    {
     "name": "stdout",
     "output_type": "stream",
     "text": [
      "{'val_loss': 1.0819773971525013, 'val_accuracy': 0.6324959914484233, 'precision': 0.6451334811840846, 'recall': 0.6324959914484233, 'f1-score': 0.6232026988710456, 'macro_f1-score': 0.503331348962746, 'balanced_accuracy': 0.5481693720759655, 'mcc': 0.555747604935488, 'train_loss': 0.87246125359567}\n",
      "Early stopping.\n",
      "\n",
      "[Fold 3]\n",
      "🚀 Using Word2Vec + EDA (replace + deletion/swap) for data augmentation + under-sampling\n",
      "🔧 Augmenting label 1: 1399 → 5000 (+3601)\n",
      "🔧 Augmenting label 4: 1679 → 5000 (+3321)\n",
      "🔧 Augmenting label 6: 1738 → 5000 (+3262)\n",
      "🔧 Augmenting label 7: 2186 → 5000 (+2814)\n",
      "Label distribution after resampling:\n",
      "  label 0: 5626\n",
      "  label 1: 5000\n",
      "  label 2: 8442\n",
      "  label 3: 10770\n",
      "  label 4: 5000\n",
      "  label 5: 5578\n",
      "  label 6: 5000\n",
      "  label 7: 5000\n",
      "model is microsoft/deberta-base lstm\n",
      "Epoch 1/20\n"
     ]
    },
    {
     "name": "stderr",
     "output_type": "stream",
     "text": [
      "100%|██████████| 3151/3151 [05:37<00:00,  9.34it/s]\n"
     ]
    },
    {
     "name": "stdout",
     "output_type": "stream",
     "text": [
      "{'val_loss': 0.580056262576682, 'val_accuracy': 0.8197562540089801, 'precision': 0.8266682817518126, 'recall': 0.8197562540089801, 'f1-score': 0.8198470811279833, 'macro_f1-score': 0.8159736566813582, 'balanced_accuracy': 0.8540682879349102, 'mcc': 0.7817179420347586, 'train_loss': 0.9731936326639987}\n",
      "Epoch 2/20\n"
     ]
    },
    {
     "name": "stderr",
     "output_type": "stream",
     "text": [
      "100%|██████████| 3151/3151 [05:37<00:00,  9.33it/s]\n"
     ]
    },
    {
     "name": "stdout",
     "output_type": "stream",
     "text": [
      "{'val_loss': 0.4684067325777987, 'val_accuracy': 0.8502245028864657, 'precision': 0.853499357439157, 'recall': 0.8502245028864657, 'f1-score': 0.8507391003361964, 'macro_f1-score': 0.8427915616133607, 'balanced_accuracy': 0.8655830501187641, 'mcc': 0.8167780573835423, 'train_loss': 0.46141868839185224}\n",
      "Epoch 3/20\n"
     ]
    },
    {
     "name": "stderr",
     "output_type": "stream",
     "text": [
      "100%|██████████| 3151/3151 [05:37<00:00,  9.33it/s]\n"
     ]
    },
    {
     "name": "stdout",
     "output_type": "stream",
     "text": [
      "{'val_loss': 0.4705500964027567, 'val_accuracy': 0.8574941201624974, 'precision': 0.8578376899338174, 'recall': 0.8574941201624974, 'f1-score': 0.8569286325311292, 'macro_f1-score': 0.8542043275109386, 'balanced_accuracy': 0.8573757408891085, 'mcc': 0.8247547556887013, 'train_loss': 0.3470037796716961}\n",
      "Epoch 4/20\n"
     ]
    },
    {
     "name": "stderr",
     "output_type": "stream",
     "text": [
      "100%|██████████| 3151/3151 [05:37<00:00,  9.33it/s]\n"
     ]
    },
    {
     "name": "stdout",
     "output_type": "stream",
     "text": [
      "{'val_loss': 0.4933489662459773, 'val_accuracy': 0.8570664956168484, 'precision': 0.8618538395963236, 'recall': 0.8570664956168484, 'f1-score': 0.8579776582930606, 'macro_f1-score': 0.8507418539863709, 'balanced_accuracy': 0.8645215385388914, 'mcc': 0.8249925263371182, 'train_loss': 0.2861343327917393}\n",
      "Epoch 5/20\n"
     ]
    },
    {
     "name": "stderr",
     "output_type": "stream",
     "text": [
      "100%|██████████| 3151/3151 [05:37<00:00,  9.34it/s]\n"
     ]
    },
    {
     "name": "stdout",
     "output_type": "stream",
     "text": [
      "{'val_loss': 0.5107749018245018, 'val_accuracy': 0.8540731237973059, 'precision': 0.8591914805243536, 'recall': 0.8540731237973059, 'f1-score': 0.8551436308834877, 'macro_f1-score': 0.8501246687314983, 'balanced_accuracy': 0.8660125585494094, 'mcc': 0.8213825051750294, 'train_loss': 0.2907793577200364}\n",
      "Epoch 6/20\n"
     ]
    },
    {
     "name": "stderr",
     "output_type": "stream",
     "text": [
      "100%|██████████| 3151/3151 [05:37<00:00,  9.33it/s]\n"
     ]
    },
    {
     "name": "stdout",
     "output_type": "stream",
     "text": [
      "{'val_loss': 0.6065818758776936, 'val_accuracy': 0.8309813983322643, 'precision': 0.8336405878858951, 'recall': 0.8309813983322643, 'f1-score': 0.8304758212965564, 'macro_f1-score': 0.8247408166286351, 'balanced_accuracy': 0.8503963964618175, 'mcc': 0.7935866476346198, 'train_loss': 0.21915486259344563}\n",
      "Early stopping.\n",
      "\n",
      "[Fold 4]\n",
      "🚀 Using Word2Vec + EDA (replace + deletion/swap) for data augmentation + under-sampling\n",
      "🔧 Augmenting label 1: 1399 → 5000 (+3601)\n",
      "🔧 Augmenting label 4: 1679 → 5000 (+3321)\n",
      "🔧 Augmenting label 6: 1738 → 5000 (+3262)\n",
      "🔧 Augmenting label 7: 2186 → 5000 (+2814)\n",
      "Label distribution after resampling:\n",
      "  label 0: 5625\n",
      "  label 1: 5000\n",
      "  label 2: 8441\n",
      "  label 3: 10771\n",
      "  label 4: 5000\n",
      "  label 5: 5579\n",
      "  label 6: 5000\n",
      "  label 7: 5000\n",
      "model is microsoft/deberta-base lstm\n",
      "Epoch 1/20\n"
     ]
    },
    {
     "name": "stderr",
     "output_type": "stream",
     "text": [
      "100%|██████████| 3151/3151 [05:37<00:00,  9.34it/s]\n"
     ]
    },
    {
     "name": "stdout",
     "output_type": "stream",
     "text": [
      "{'val_loss': 1.8220885600799168, 'val_accuracy': 0.29730596536241183, 'precision': 0.0999861763666507, 'recall': 0.29730596536241183, 'f1-score': 0.14946888774076378, 'macro_f1-score': 0.11987725893060397, 'balanced_accuracy': 0.22480009894481687, 'mcc': 0.09169579900706862, 'train_loss': 1.8399779430762884}\n",
      "Epoch 2/20\n"
     ]
    },
    {
     "name": "stderr",
     "output_type": "stream",
     "text": [
      "100%|██████████| 3151/3151 [05:37<00:00,  9.34it/s]\n"
     ]
    },
    {
     "name": "stdout",
     "output_type": "stream",
     "text": [
      "{'val_loss': 1.7664988843803733, 'val_accuracy': 0.2622407526192003, 'precision': 0.236285191858899, 'recall': 0.2622407526192003, 'f1-score': 0.12630745071198743, 'macro_f1-score': 0.14122585342417987, 'balanced_accuracy': 0.22829636261879005, 'mcc': 0.1419134888775109, 'train_loss': 1.8078628339982343}\n",
      "Epoch 3/20\n"
     ]
    },
    {
     "name": "stderr",
     "output_type": "stream",
     "text": [
      "100%|██████████| 3151/3151 [05:37<00:00,  9.34it/s]\n"
     ]
    },
    {
     "name": "stdout",
     "output_type": "stream",
     "text": [
      "{'val_loss': 1.9189549071157082, 'val_accuracy': 0.2311310669232414, 'precision': 0.17476843384978816, 'recall': 0.2311310669232414, 'f1-score': 0.11042477248127344, 'macro_f1-score': 0.07677278336371376, 'balanced_accuracy': 0.15029461346016096, 'mcc': 0.04979403162998629, 'train_loss': 1.8698231240220768}\n",
      "Epoch 4/20\n"
     ]
    },
    {
     "name": "stderr",
     "output_type": "stream",
     "text": [
      "100%|██████████| 3151/3151 [05:37<00:00,  9.34it/s]\n"
     ]
    },
    {
     "name": "stdout",
     "output_type": "stream",
     "text": [
      "{'val_loss': 1.9507048633363513, 'val_accuracy': 0.22567885396621767, 'precision': 0.0509309451275054, 'recall': 0.22567885396621767, 'f1-score': 0.08310650863021116, 'macro_f1-score': 0.04603139991277802, 'balanced_accuracy': 0.125, 'mcc': 0.0, 'train_loss': 1.9926783604229945}\n",
      "Epoch 5/20\n"
     ]
    },
    {
     "name": "stderr",
     "output_type": "stream",
     "text": [
      "100%|██████████| 3151/3151 [05:37<00:00,  9.34it/s]\n"
     ]
    },
    {
     "name": "stdout",
     "output_type": "stream",
     "text": [
      "{'val_loss': 1.9457619603882488, 'val_accuracy': 0.22567885396621767, 'precision': 0.0509309451275054, 'recall': 0.22567885396621767, 'f1-score': 0.08310650863021116, 'macro_f1-score': 0.04603139991277802, 'balanced_accuracy': 0.125, 'mcc': 0.0, 'train_loss': 2.0204854872596716}\n",
      "Early stopping.\n",
      "\n",
      "[Fold 5]\n",
      "🚀 Using Word2Vec + EDA (replace + deletion/swap) for data augmentation + under-sampling\n",
      "🔧 Augmenting label 1: 1399 → 5000 (+3601)\n",
      "🔧 Augmenting label 4: 1678 → 5000 (+3322)\n",
      "🔧 Augmenting label 6: 1738 → 5000 (+3262)\n",
      "🔧 Augmenting label 7: 2187 → 5000 (+2813)\n",
      "Label distribution after resampling:\n",
      "  label 0: 5625\n",
      "  label 1: 5000\n",
      "  label 2: 8441\n",
      "  label 3: 10771\n",
      "  label 4: 5000\n",
      "  label 5: 5579\n",
      "  label 6: 5000\n",
      "  label 7: 5000\n",
      "model is microsoft/deberta-base lstm\n",
      "Epoch 1/20\n"
     ]
    },
    {
     "name": "stderr",
     "output_type": "stream",
     "text": [
      "100%|██████████| 3151/3151 [05:37<00:00,  9.33it/s]\n"
     ]
    },
    {
     "name": "stdout",
     "output_type": "stream",
     "text": [
      "{'val_loss': 0.5729727421656379, 'val_accuracy': 0.8152661962796665, 'precision': 0.8376178353240047, 'recall': 0.8152661962796665, 'f1-score': 0.8191696048299809, 'macro_f1-score': 0.8102112600574394, 'balanced_accuracy': 0.8546393046522435, 'mcc': 0.7796161704414374, 'train_loss': 0.9269058229321905}\n",
      "Epoch 2/20\n"
     ]
    },
    {
     "name": "stderr",
     "output_type": "stream",
     "text": [
      "100%|██████████| 3151/3151 [05:37<00:00,  9.33it/s]\n"
     ]
    },
    {
     "name": "stdout",
     "output_type": "stream",
     "text": [
      "{'val_loss': 0.4994910636996357, 'val_accuracy': 0.8458413512935643, 'precision': 0.8487265968090413, 'recall': 0.8458413512935643, 'f1-score': 0.8458306625483777, 'macro_f1-score': 0.8409775132792661, 'balanced_accuracy': 0.8592411795390082, 'mcc': 0.8119180265140712, 'train_loss': 0.47996805919974483}\n",
      "Epoch 3/20\n"
     ]
    },
    {
     "name": "stderr",
     "output_type": "stream",
     "text": [
      "100%|██████████| 3151/3151 [05:37<00:00,  9.33it/s]\n"
     ]
    },
    {
     "name": "stdout",
     "output_type": "stream",
     "text": [
      "{'val_loss': 0.5061232392477174, 'val_accuracy': 0.8417789181098995, 'precision': 0.8468750324702929, 'recall': 0.8417789181098995, 'f1-score': 0.8410805289675367, 'macro_f1-score': 0.8391232747014722, 'balanced_accuracy': 0.8656498577514834, 'mcc': 0.8089520226166834, 'train_loss': 0.35483678847478045}\n",
      "Epoch 4/20\n"
     ]
    },
    {
     "name": "stderr",
     "output_type": "stream",
     "text": [
      "100%|██████████| 3151/3151 [05:37<00:00,  9.33it/s]\n"
     ]
    },
    {
     "name": "stdout",
     "output_type": "stream",
     "text": [
      "{'val_loss': 0.49816135542514994, 'val_accuracy': 0.8469104126576865, 'precision': 0.8500155662742062, 'recall': 0.8469104126576865, 'f1-score': 0.8473844423182152, 'macro_f1-score': 0.8407013744630817, 'balanced_accuracy': 0.8589122890660694, 'mcc': 0.8125304194748514, 'train_loss': 0.28217836513184896}\n",
      "Epoch 5/20\n"
     ]
    },
    {
     "name": "stderr",
     "output_type": "stream",
     "text": [
      "100%|██████████| 3151/3151 [05:37<00:00,  9.33it/s]\n"
     ]
    },
    {
     "name": "stdout",
     "output_type": "stream",
     "text": [
      "{'val_loss': 0.6117025514459635, 'val_accuracy': 0.8289501817404319, 'precision': 0.8422466372950697, 'recall': 0.8289501817404319, 'f1-score': 0.8320927332765258, 'macro_f1-score': 0.8147698038364769, 'balanced_accuracy': 0.8494068733881419, 'mcc': 0.7923680473125108, 'train_loss': 0.23253516207314065}\n",
      "Early stopping.\n",
      "\n",
      " === microsoft/deberta-base + lstm + word2vec_eda Final 5-fold Cross-Validation Results ===\n",
      "val_loss: 0.7781\n",
      "val_accuracy: 0.7207\n",
      "precision: 0.7204\n",
      "recall: 0.7207\n",
      "f1-score: 0.6938\n",
      "macro_f1-score: 0.6959\n",
      "balanced_accuracy: 0.7231\n",
      "mcc: 0.6677\n",
      "train_loss: 0.7085\n",
      "total_seconds: 11329.0000\n",
      "total_time: 3 hrs 8 mins 49 secs\n",
      "▶ Running: microsoft/deberta-base + bilstm + word2vec_eda\n",
      "tokenizer is microsoft/deberta-base\n",
      "Using device: cuda\n",
      "CUDA Available: True\n",
      "CUDA Device: NVIDIA GeForce RTX 5070 Ti\n",
      "Current GPU Memory Allocated: 0.02 GB\n",
      "Current GPU Memory Cached: 5.28 GB\n",
      "\n",
      "[Fold 1]\n",
      "🚀 Using Word2Vec + EDA (replace + deletion/swap) for data augmentation + under-sampling\n",
      "🔧 Augmenting label 1: 1399 → 5000 (+3601)\n",
      "🔧 Augmenting label 4: 1678 → 5000 (+3322)\n",
      "🔧 Augmenting label 6: 1737 → 5000 (+3263)\n",
      "🔧 Augmenting label 7: 2187 → 5000 (+2813)\n",
      "Label distribution after resampling:\n",
      "  label 0: 5626\n",
      "  label 1: 5000\n",
      "  label 2: 8442\n",
      "  label 3: 10770\n",
      "  label 4: 5000\n",
      "  label 5: 5578\n",
      "  label 6: 5000\n",
      "  label 7: 5000\n",
      "model is microsoft/deberta-base bilstm\n",
      "Epoch 1/20\n"
     ]
    },
    {
     "name": "stderr",
     "output_type": "stream",
     "text": [
      "100%|██████████| 3151/3151 [05:47<00:00,  9.08it/s]\n"
     ]
    },
    {
     "name": "stdout",
     "output_type": "stream",
     "text": [
      "{'val_loss': 0.6774467195583205, 'val_accuracy': 0.7943345804382683, 'precision': 0.8079509441186259, 'recall': 0.7943345804382683, 'f1-score': 0.7950566051195245, 'macro_f1-score': 0.7944571985099478, 'balanced_accuracy': 0.8253664950477528, 'mcc': 0.7533375851405634, 'train_loss': 0.8957782449068927}\n",
      "Epoch 2/20\n"
     ]
    },
    {
     "name": "stderr",
     "output_type": "stream",
     "text": [
      "100%|██████████| 3151/3151 [05:46<00:00,  9.08it/s]\n"
     ]
    },
    {
     "name": "stdout",
     "output_type": "stream",
     "text": [
      "{'val_loss': 0.5971161618446692, 'val_accuracy': 0.8042757883484768, 'precision': 0.8138222067729821, 'recall': 0.8042757883484768, 'f1-score': 0.8055031106208679, 'macro_f1-score': 0.8117176877465233, 'balanced_accuracy': 0.8339157147192016, 'mcc': 0.7620436422454305, 'train_loss': 0.6294486802148179}\n",
      "Epoch 3/20\n"
     ]
    },
    {
     "name": "stderr",
     "output_type": "stream",
     "text": [
      "100%|██████████| 3151/3151 [05:46<00:00,  9.08it/s]\n"
     ]
    },
    {
     "name": "stdout",
     "output_type": "stream",
     "text": [
      "{'val_loss': 0.542828412538665, 'val_accuracy': 0.8348476750400855, 'precision': 0.8394626973794156, 'recall': 0.8348476750400855, 'f1-score': 0.8356482414622423, 'macro_f1-score': 0.8308710131340222, 'balanced_accuracy': 0.8276581277851854, 'mcc': 0.7969916708699096, 'train_loss': 0.48165013394145617}\n",
      "Epoch 4/20\n"
     ]
    },
    {
     "name": "stderr",
     "output_type": "stream",
     "text": [
      "100%|██████████| 3151/3151 [05:46<00:00,  9.08it/s]\n"
     ]
    },
    {
     "name": "stdout",
     "output_type": "stream",
     "text": [
      "{'val_loss': 0.66643963863707, 'val_accuracy': 0.8001068947087119, 'precision': 0.8082094552592702, 'recall': 0.8001068947087119, 'f1-score': 0.8000403610675854, 'macro_f1-score': 0.8075845663526151, 'balanced_accuracy': 0.816602361297879, 'mcc': 0.7547110112633362, 'train_loss': 0.5778155746822157}\n",
      "Epoch 5/20\n"
     ]
    },
    {
     "name": "stderr",
     "output_type": "stream",
     "text": [
      "100%|██████████| 3151/3151 [05:46<00:00,  9.09it/s]\n"
     ]
    },
    {
     "name": "stdout",
     "output_type": "stream",
     "text": [
      "{'val_loss': 0.5576217826169271, 'val_accuracy': 0.8260823089257082, 'precision': 0.833661711479594, 'recall': 0.8260823089257082, 'f1-score': 0.8271733416308374, 'macro_f1-score': 0.8170125159020696, 'balanced_accuracy': 0.8318968290150834, 'mcc': 0.7882356596770723, 'train_loss': 0.42635296319437876}\n",
      "Epoch 6/20\n"
     ]
    },
    {
     "name": "stderr",
     "output_type": "stream",
     "text": [
      "100%|██████████| 3151/3151 [05:46<00:00,  9.09it/s]\n"
     ]
    },
    {
     "name": "stdout",
     "output_type": "stream",
     "text": [
      "{'val_loss': 0.5299854377045845, 'val_accuracy': 0.8366648850881881, 'precision': 0.839894649621813, 'recall': 0.8366648850881881, 'f1-score': 0.8367795999090883, 'macro_f1-score': 0.8340253196124643, 'balanced_accuracy': 0.8372275695510707, 'mcc': 0.7989963737628449, 'train_loss': 0.4207563135348513}\n",
      "Epoch 7/20\n"
     ]
    },
    {
     "name": "stderr",
     "output_type": "stream",
     "text": [
      "100%|██████████| 3151/3151 [05:46<00:00,  9.08it/s]\n"
     ]
    },
    {
     "name": "stdout",
     "output_type": "stream",
     "text": [
      "{'val_loss': 0.6428081064906894, 'val_accuracy': 0.8014965259219669, 'precision': 0.8129162637892048, 'recall': 0.8014965259219669, 'f1-score': 0.8039089699319559, 'macro_f1-score': 0.7781534468594611, 'balanced_accuracy': 0.7849587292743885, 'mcc': 0.7575234134741102, 'train_loss': 0.49078600846174236}\n",
      "Epoch 8/20\n"
     ]
    },
    {
     "name": "stderr",
     "output_type": "stream",
     "text": [
      "100%|██████████| 3151/3151 [05:47<00:00,  9.08it/s]\n"
     ]
    },
    {
     "name": "stdout",
     "output_type": "stream",
     "text": [
      "{'val_loss': 0.9403820452272382, 'val_accuracy': 0.7057188669160877, 'precision': 0.7223605655993167, 'recall': 0.7057188669160877, 'f1-score': 0.694762996182982, 'macro_f1-score': 0.6380286267220305, 'balanced_accuracy': 0.7018680501586372, 'mcc': 0.653385106928723, 'train_loss': 0.5709729998025799}\n",
      "Epoch 9/20\n"
     ]
    },
    {
     "name": "stderr",
     "output_type": "stream",
     "text": [
      "100%|██████████| 3151/3151 [05:46<00:00,  9.08it/s]\n"
     ]
    },
    {
     "name": "stdout",
     "output_type": "stream",
     "text": [
      "{'val_loss': 0.8137512891847863, 'val_accuracy': 0.7389631213254944, 'precision': 0.7634776257669988, 'recall': 0.7389631213254944, 'f1-score': 0.7345416386450359, 'macro_f1-score': 0.7599530370162001, 'balanced_accuracy': 0.7834133013855524, 'mcc': 0.6873882278704794, 'train_loss': 0.6788284473052595}\n",
      "Early stopping.\n",
      "\n",
      "[Fold 2]\n",
      "🚀 Using Word2Vec + EDA (replace + deletion/swap) for data augmentation + under-sampling\n",
      "🔧 Augmenting label 1: 1400 → 5000 (+3600)\n",
      "🔧 Augmenting label 4: 1678 → 5000 (+3322)\n",
      "🔧 Augmenting label 6: 1737 → 5000 (+3263)\n",
      "🔧 Augmenting label 7: 2186 → 5000 (+2814)\n",
      "Label distribution after resampling:\n",
      "  label 0: 5626\n",
      "  label 1: 5000\n",
      "  label 2: 8442\n",
      "  label 3: 10770\n",
      "  label 4: 5000\n",
      "  label 5: 5578\n",
      "  label 6: 5000\n",
      "  label 7: 5000\n",
      "model is microsoft/deberta-base bilstm\n",
      "Epoch 1/20\n"
     ]
    },
    {
     "name": "stderr",
     "output_type": "stream",
     "text": [
      "100%|██████████| 3151/3151 [05:47<00:00,  9.08it/s]\n"
     ]
    },
    {
     "name": "stdout",
     "output_type": "stream",
     "text": [
      "{'val_loss': 0.6146859975452097, 'val_accuracy': 0.8076964190272582, 'precision': 0.8094129957420453, 'recall': 0.8076964190272582, 'f1-score': 0.807422711103275, 'macro_f1-score': 0.8037615622528989, 'balanced_accuracy': 0.8247751534477028, 'mcc': 0.7647659096867901, 'train_loss': 1.000861656598177}\n",
      "Epoch 2/20\n"
     ]
    },
    {
     "name": "stderr",
     "output_type": "stream",
     "text": [
      "100%|██████████| 3151/3151 [05:46<00:00,  9.09it/s]\n"
     ]
    },
    {
     "name": "stdout",
     "output_type": "stream",
     "text": [
      "{'val_loss': 0.5667621542819036, 'val_accuracy': 0.8220203099946553, 'precision': 0.8282928384186062, 'recall': 0.8220203099946553, 'f1-score': 0.821124883378682, 'macro_f1-score': 0.8174053822572405, 'balanced_accuracy': 0.8378920013903475, 'mcc': 0.782770842009623, 'train_loss': 0.5365256375498108}\n",
      "Epoch 3/20\n"
     ]
    },
    {
     "name": "stderr",
     "output_type": "stream",
     "text": [
      "100%|██████████| 3151/3151 [05:46<00:00,  9.08it/s]\n"
     ]
    },
    {
     "name": "stdout",
     "output_type": "stream",
     "text": [
      "{'val_loss': 0.4812840038480667, 'val_accuracy': 0.8305718866916088, 'precision': 0.8366411701215084, 'recall': 0.8305718866916088, 'f1-score': 0.8313359138974555, 'macro_f1-score': 0.83385457038217, 'balanced_accuracy': 0.8488149228421988, 'mcc': 0.7935241130656441, 'train_loss': 0.4117791538887253}\n",
      "Epoch 4/20\n"
     ]
    },
    {
     "name": "stderr",
     "output_type": "stream",
     "text": [
      "100%|██████████| 3151/3151 [05:46<00:00,  9.09it/s]\n"
     ]
    },
    {
     "name": "stdout",
     "output_type": "stream",
     "text": [
      "{'val_loss': 0.6364765038347652, 'val_accuracy': 0.8002137894174238, 'precision': 0.8023818946156914, 'recall': 0.8002137894174238, 'f1-score': 0.797970976136771, 'macro_f1-score': 0.8083951449793412, 'balanced_accuracy': 0.8211798108676489, 'mcc': 0.7548898884392474, 'train_loss': 0.36654575410710133}\n",
      "Epoch 5/20\n"
     ]
    },
    {
     "name": "stderr",
     "output_type": "stream",
     "text": [
      "100%|██████████| 3151/3151 [05:46<00:00,  9.08it/s]\n"
     ]
    },
    {
     "name": "stdout",
     "output_type": "stream",
     "text": [
      "{'val_loss': 0.5414532803922382, 'val_accuracy': 0.8411544628540887, 'precision': 0.84194880364393, 'recall': 0.8411544628540887, 'f1-score': 0.840672355858074, 'macro_f1-score': 0.8437990990096214, 'balanced_accuracy': 0.8457844943659681, 'mcc': 0.8047412370112079, 'train_loss': 0.31425594788231487}\n",
      "Epoch 6/20\n"
     ]
    },
    {
     "name": "stderr",
     "output_type": "stream",
     "text": [
      "100%|██████████| 3151/3151 [05:46<00:00,  9.09it/s]\n"
     ]
    },
    {
     "name": "stdout",
     "output_type": "stream",
     "text": [
      "{'val_loss': 0.5643841304696905, 'val_accuracy': 0.8379476215927312, 'precision': 0.8398547567228044, 'recall': 0.8379476215927312, 'f1-score': 0.8378966283364492, 'macro_f1-score': 0.8369556305382879, 'balanced_accuracy': 0.8417205235417504, 'mcc': 0.8006888793228263, 'train_loss': 0.2512580998175695}\n",
      "Epoch 7/20\n"
     ]
    },
    {
     "name": "stderr",
     "output_type": "stream",
     "text": [
      "100%|██████████| 3151/3151 [05:46<00:00,  9.08it/s]\n"
     ]
    },
    {
     "name": "stdout",
     "output_type": "stream",
     "text": [
      "{'val_loss': 0.5937283092775406, 'val_accuracy': 0.8375200427578835, 'precision': 0.8401271827437565, 'recall': 0.8375200427578835, 'f1-score': 0.8381049125373813, 'macro_f1-score': 0.832851557588187, 'balanced_accuracy': 0.8455557932418521, 'mcc': 0.8005767296071424, 'train_loss': 0.2146482389109633}\n",
      "Epoch 8/20\n"
     ]
    },
    {
     "name": "stderr",
     "output_type": "stream",
     "text": [
      "100%|██████████| 3151/3151 [05:46<00:00,  9.08it/s]\n"
     ]
    },
    {
     "name": "stdout",
     "output_type": "stream",
     "text": [
      "{'val_loss': 0.6711598911545534, 'val_accuracy': 0.8175307322287547, 'precision': 0.8233001433106221, 'recall': 0.8175307322287547, 'f1-score': 0.8171070497344327, 'macro_f1-score': 0.8162861621780411, 'balanced_accuracy': 0.8116270787906785, 'mcc': 0.7775378813362765, 'train_loss': 0.20232912885177062}\n",
      "Early stopping.\n",
      "\n",
      "[Fold 3]\n",
      "🚀 Using Word2Vec + EDA (replace + deletion/swap) for data augmentation + under-sampling\n",
      "🔧 Augmenting label 1: 1399 → 5000 (+3601)\n",
      "🔧 Augmenting label 4: 1679 → 5000 (+3321)\n",
      "🔧 Augmenting label 6: 1738 → 5000 (+3262)\n",
      "🔧 Augmenting label 7: 2186 → 5000 (+2814)\n",
      "Label distribution after resampling:\n",
      "  label 0: 5626\n",
      "  label 1: 5000\n",
      "  label 2: 8442\n",
      "  label 3: 10770\n",
      "  label 4: 5000\n",
      "  label 5: 5578\n",
      "  label 6: 5000\n",
      "  label 7: 5000\n",
      "model is microsoft/deberta-base bilstm\n",
      "Epoch 1/20\n"
     ]
    },
    {
     "name": "stderr",
     "output_type": "stream",
     "text": [
      "100%|██████████| 3151/3151 [05:47<00:00,  9.08it/s]\n"
     ]
    },
    {
     "name": "stdout",
     "output_type": "stream",
     "text": [
      "{'val_loss': 0.573941306820792, 'val_accuracy': 0.8194355355997435, 'precision': 0.8216365819580985, 'recall': 0.8194355355997435, 'f1-score': 0.8192987964126347, 'macro_f1-score': 0.8218982618873355, 'balanced_accuracy': 0.8292722082685602, 'mcc': 0.7786287257960736, 'train_loss': 0.94980261294199}\n",
      "Epoch 2/20\n"
     ]
    },
    {
     "name": "stderr",
     "output_type": "stream",
     "text": [
      "100%|██████████| 3151/3151 [05:46<00:00,  9.10it/s]\n"
     ]
    },
    {
     "name": "stdout",
     "output_type": "stream",
     "text": [
      "{'val_loss': 0.5105488755955145, 'val_accuracy': 0.8408167628821894, 'precision': 0.847225059155071, 'recall': 0.8408167628821894, 'f1-score': 0.8417479280580967, 'macro_f1-score': 0.8379658310923856, 'balanced_accuracy': 0.860286401976889, 'mcc': 0.8054417969731981, 'train_loss': 0.4641697943584195}\n",
      "Epoch 3/20\n"
     ]
    },
    {
     "name": "stderr",
     "output_type": "stream",
     "text": [
      "100%|██████████| 3151/3151 [05:47<00:00,  9.08it/s]\n"
     ]
    },
    {
     "name": "stdout",
     "output_type": "stream",
     "text": [
      "{'val_loss': 0.4812650854420713, 'val_accuracy': 0.8463758819756254, 'precision': 0.8532616010567952, 'recall': 0.8463758819756254, 'f1-score': 0.8465395953809729, 'macro_f1-score': 0.8420535923469299, 'balanced_accuracy': 0.8714771128717809, 'mcc': 0.8139599473417175, 'train_loss': 0.3554902669735151}\n",
      "Epoch 4/20\n"
     ]
    },
    {
     "name": "stderr",
     "output_type": "stream",
     "text": [
      "100%|██████████| 3151/3151 [05:46<00:00,  9.08it/s]\n"
     ]
    },
    {
     "name": "stdout",
     "output_type": "stream",
     "text": [
      "{'val_loss': 0.4953565692178841, 'val_accuracy': 0.8545007483429549, 'precision': 0.8578553475311774, 'recall': 0.8545007483429549, 'f1-score': 0.8549853946118842, 'macro_f1-score': 0.8484617961196552, 'balanced_accuracy': 0.8662350885091628, 'mcc': 0.8219799600405241, 'train_loss': 0.27954780654842815}\n",
      "Epoch 5/20\n"
     ]
    },
    {
     "name": "stderr",
     "output_type": "stream",
     "text": [
      "100%|██████████| 3151/3151 [05:47<00:00,  9.08it/s]\n"
     ]
    },
    {
     "name": "stdout",
     "output_type": "stream",
     "text": [
      "{'val_loss': 0.8245937570802166, 'val_accuracy': 0.7528330126149241, 'precision': 0.7647119382966616, 'recall': 0.7528330126149241, 'f1-score': 0.7524874363010313, 'macro_f1-score': 0.7359009395901186, 'balanced_accuracy': 0.766041988406439, 'mcc': 0.6999099182307511, 'train_loss': 0.5761317346351158}\n",
      "Epoch 6/20\n"
     ]
    },
    {
     "name": "stderr",
     "output_type": "stream",
     "text": [
      "100%|██████████| 3151/3151 [05:47<00:00,  9.08it/s]\n"
     ]
    },
    {
     "name": "stdout",
     "output_type": "stream",
     "text": [
      "{'val_loss': 0.628329428533713, 'val_accuracy': 0.8233910626469959, 'precision': 0.8296905289455564, 'recall': 0.8233910626469959, 'f1-score': 0.8233090384364117, 'macro_f1-score': 0.8172415280297474, 'balanced_accuracy': 0.8313451148543973, 'mcc': 0.7834881647785334, 'train_loss': 0.5130909299947882}\n",
      "Epoch 7/20\n"
     ]
    },
    {
     "name": "stderr",
     "output_type": "stream",
     "text": [
      "100%|██████████| 3151/3151 [05:46<00:00,  9.09it/s]\n"
     ]
    },
    {
     "name": "stdout",
     "output_type": "stream",
     "text": [
      "{'val_loss': 0.5402629668195533, 'val_accuracy': 0.843382510156083, 'precision': 0.8476189761301519, 'recall': 0.843382510156083, 'f1-score': 0.843737142638913, 'macro_f1-score': 0.8397706769287978, 'balanced_accuracy': 0.853530566643919, 'mcc': 0.8079762827452065, 'train_loss': 0.2899775408998709}\n",
      "Early stopping.\n",
      "\n",
      "[Fold 4]\n",
      "🚀 Using Word2Vec + EDA (replace + deletion/swap) for data augmentation + under-sampling\n",
      "🔧 Augmenting label 1: 1399 → 5000 (+3601)\n",
      "🔧 Augmenting label 4: 1679 → 5000 (+3321)\n",
      "🔧 Augmenting label 6: 1738 → 5000 (+3262)\n",
      "🔧 Augmenting label 7: 2186 → 5000 (+2814)\n",
      "Label distribution after resampling:\n",
      "  label 0: 5625\n",
      "  label 1: 5000\n",
      "  label 2: 8441\n",
      "  label 3: 10771\n",
      "  label 4: 5000\n",
      "  label 5: 5579\n",
      "  label 6: 5000\n",
      "  label 7: 5000\n",
      "model is microsoft/deberta-base bilstm\n",
      "Epoch 1/20\n"
     ]
    },
    {
     "name": "stderr",
     "output_type": "stream",
     "text": [
      "100%|██████████| 3151/3151 [05:47<00:00,  9.07it/s]\n"
     ]
    },
    {
     "name": "stdout",
     "output_type": "stream",
     "text": [
      "{'val_loss': 1.9410570908815432, 'val_accuracy': 0.28779131922172335, 'precision': 0.08282384341937987, 'recall': 0.28779131922172335, 'f1-score': 0.12862929293456404, 'macro_f1-score': 0.055869168188610326, 'balanced_accuracy': 0.125, 'mcc': 0.0, 'train_loss': 2.0213147023487608}\n",
      "Epoch 2/20\n"
     ]
    },
    {
     "name": "stderr",
     "output_type": "stream",
     "text": [
      "100%|██████████| 3151/3151 [05:46<00:00,  9.09it/s]\n"
     ]
    },
    {
     "name": "stdout",
     "output_type": "stream",
     "text": [
      "{'val_loss': 1.9297051360464503, 'val_accuracy': 0.28779131922172335, 'precision': 0.08282384341937987, 'recall': 0.28779131922172335, 'f1-score': 0.12862929293456404, 'macro_f1-score': 0.055869168188610326, 'balanced_accuracy': 0.125, 'mcc': 0.0, 'train_loss': 2.036982354986142}\n",
      "Epoch 3/20\n"
     ]
    },
    {
     "name": "stderr",
     "output_type": "stream",
     "text": [
      "100%|██████████| 3151/3151 [05:46<00:00,  9.09it/s]\n"
     ]
    },
    {
     "name": "stdout",
     "output_type": "stream",
     "text": [
      "{'val_loss': 1.9287344465907823, 'val_accuracy': 0.28779131922172335, 'precision': 0.08282384341937987, 'recall': 0.28779131922172335, 'f1-score': 0.12862929293456404, 'macro_f1-score': 0.055869168188610326, 'balanced_accuracy': 0.125, 'mcc': 0.0, 'train_loss': 2.0319699776887665}\n",
      "Epoch 4/20\n"
     ]
    },
    {
     "name": "stderr",
     "output_type": "stream",
     "text": [
      "100%|██████████| 3151/3151 [05:47<00:00,  9.08it/s]\n"
     ]
    },
    {
     "name": "stdout",
     "output_type": "stream",
     "text": [
      "{'val_loss': 1.94558053526104, 'val_accuracy': 0.28779131922172335, 'precision': 0.08282384341937987, 'recall': 0.28779131922172335, 'f1-score': 0.12862929293456404, 'macro_f1-score': 0.055869168188610326, 'balanced_accuracy': 0.125, 'mcc': 0.0, 'train_loss': 2.028760778642919}\n",
      "Early stopping.\n",
      "\n",
      "[Fold 5]\n",
      "🚀 Using Word2Vec + EDA (replace + deletion/swap) for data augmentation + under-sampling\n",
      "🔧 Augmenting label 1: 1399 → 5000 (+3601)\n",
      "🔧 Augmenting label 4: 1678 → 5000 (+3322)\n",
      "🔧 Augmenting label 6: 1738 → 5000 (+3262)\n",
      "🔧 Augmenting label 7: 2187 → 5000 (+2813)\n",
      "Label distribution after resampling:\n",
      "  label 0: 5625\n",
      "  label 1: 5000\n",
      "  label 2: 8441\n",
      "  label 3: 10771\n",
      "  label 4: 5000\n",
      "  label 5: 5579\n",
      "  label 6: 5000\n",
      "  label 7: 5000\n",
      "model is microsoft/deberta-base bilstm\n",
      "Epoch 1/20\n"
     ]
    },
    {
     "name": "stderr",
     "output_type": "stream",
     "text": [
      "100%|██████████| 3151/3151 [05:46<00:00,  9.09it/s]\n"
     ]
    },
    {
     "name": "stdout",
     "output_type": "stream",
     "text": [
      "{'val_loss': 1.9407344987249782, 'val_accuracy': 0.28779131922172335, 'precision': 0.08282384341937987, 'recall': 0.28779131922172335, 'f1-score': 0.12862929293456404, 'macro_f1-score': 0.055869168188610326, 'balanced_accuracy': 0.125, 'mcc': 0.0, 'train_loss': 2.0387428434112267}\n",
      "Epoch 2/20\n"
     ]
    },
    {
     "name": "stderr",
     "output_type": "stream",
     "text": [
      "100%|██████████| 3151/3151 [05:46<00:00,  9.09it/s]\n"
     ]
    },
    {
     "name": "stdout",
     "output_type": "stream",
     "text": [
      "{'val_loss': 1.9360136629169822, 'val_accuracy': 0.28779131922172335, 'precision': 0.08282384341937987, 'recall': 0.28779131922172335, 'f1-score': 0.12862929293456404, 'macro_f1-score': 0.055869168188610326, 'balanced_accuracy': 0.125, 'mcc': 0.0, 'train_loss': 2.0367265365419596}\n",
      "Epoch 3/20\n"
     ]
    },
    {
     "name": "stderr",
     "output_type": "stream",
     "text": [
      "100%|██████████| 3151/3151 [05:46<00:00,  9.09it/s]\n"
     ]
    },
    {
     "name": "stdout",
     "output_type": "stream",
     "text": [
      "{'val_loss': 1.9463015044856276, 'val_accuracy': 0.28779131922172335, 'precision': 0.08282384341937987, 'recall': 0.28779131922172335, 'f1-score': 0.12862929293456404, 'macro_f1-score': 0.055869168188610326, 'balanced_accuracy': 0.125, 'mcc': 0.0, 'train_loss': 2.036437879135328}\n",
      "Epoch 4/20\n"
     ]
    },
    {
     "name": "stderr",
     "output_type": "stream",
     "text": [
      "100%|██████████| 3151/3151 [05:46<00:00,  9.08it/s]\n"
     ]
    },
    {
     "name": "stdout",
     "output_type": "stream",
     "text": [
      "{'val_loss': 1.939839121622917, 'val_accuracy': 0.28779131922172335, 'precision': 0.08282384341937987, 'recall': 0.28779131922172335, 'f1-score': 0.12862929293456404, 'macro_f1-score': 0.055869168188610326, 'balanced_accuracy': 0.125, 'mcc': 0.0, 'train_loss': 2.0361649574305813}\n",
      "Early stopping.\n",
      "\n",
      " === microsoft/deberta-base + bilstm + word2vec_eda Final 5-fold Cross-Validation Results ===\n",
      "val_loss: 1.0897\n",
      "val_accuracy: 0.6216\n",
      "precision: 0.5411\n",
      "recall: 0.6216\n",
      "f1-score: 0.5579\n",
      "macro_f1-score: 0.5276\n",
      "balanced_accuracy: 0.5598\n",
      "mcc: 0.4851\n",
      "train_loss: 1.0149\n",
      "total_seconds: 12015.0000\n",
      "total_time: 3 hrs 20 mins 15 secs\n"
     ]
    }
   ],
   "source": [
    "model_list = [\"bert-base-uncased\", \"roberta-base\", \"microsoft/deberta-base\"]\n",
    "hybrid_list = [None, \"cnn\", \"lstm\", \"bilstm\"]\n",
    "resample_list = [\"word2vec_eda\"]\n",
    "\n",
    "all_experiment_result = {}\n",
    "\n",
    "for model_name in model_list:\n",
    "    for hybrid_type in hybrid_list:\n",
    "        for resample_method in resample_list:\n",
    "            results = run_kfold_experiment(\n",
    "                X=messages, y=labels, model_name=model_name, hybrid_type=hybrid_type, resample_method=resample_method,\n",
    "                kfold=KFOLD_SPLIT, seed=SEED, epochs=EPOCHS, patience=PATIENCE, max_length=MAX_LENGTH, \n",
    "                batch_size=BATCH_SIZE, lr=LR, weight_decay=WEIGHT_DECAY, upper_cap=UPPER_CAP, lower_cap=LOWER_CAP\n",
    "            )\n",
    "\n",
    "            key = f\"{model_name} {hybrid_type if hybrid_type else 'None'} {resample_method}\"\n",
    "            all_experiment_result[key] = results"
   ]
  },
  {
   "cell_type": "code",
   "execution_count": 5,
   "id": "d799ebb4-be3b-4b29-9238-6c2a2f8256ae",
   "metadata": {},
   "outputs": [
    {
     "data": {
      "text/plain": [
       "{'bert-base-uncased None word2vec_eda': {'val_loss': 0.4541164661569791,\n",
       "  'val_accuracy': 0.8602369167973138,\n",
       "  'precision': 0.8618760497155069,\n",
       "  'recall': 0.8602369167973138,\n",
       "  'f1-score': 0.860158128512292,\n",
       "  'macro_f1-score': 0.8576542799378164,\n",
       "  'balanced_accuracy': 0.8605515926447644,\n",
       "  'mcc': 0.8284461125578595,\n",
       "  'train_loss': 0.2039991148189885,\n",
       "  'total_seconds': 9227,\n",
       "  'total_time': '2 hrs 33 mins 47 secs'},\n",
       " 'bert-base-uncased cnn word2vec_eda': {'val_loss': 0.5322021139340285,\n",
       "  'val_accuracy': 0.8622467178787628,\n",
       "  'precision': 0.8629284776794071,\n",
       "  'recall': 0.8622467178787628,\n",
       "  'f1-score': 0.8620989365930927,\n",
       "  'macro_f1-score': 0.8609283667398738,\n",
       "  'balanced_accuracy': 0.8579201178081242,\n",
       "  'mcc': 0.8305394686415626,\n",
       "  'train_loss': 0.12323423403495945,\n",
       "  'total_seconds': 11440,\n",
       "  'total_time': '3 hrs 10 mins 40 secs'},\n",
       " 'bert-base-uncased lstm word2vec_eda': {'val_loss': 0.4771223673842943,\n",
       "  'val_accuracy': 0.8596812014444156,\n",
       "  'precision': 0.8617072959041951,\n",
       "  'recall': 0.8596812014444156,\n",
       "  'f1-score': 0.8598054191402283,\n",
       "  'macro_f1-score': 0.8576229395254025,\n",
       "  'balanced_accuracy': 0.8575236539022667,\n",
       "  'mcc': 0.8276267911435046,\n",
       "  'train_loss': 0.18306836959744394,\n",
       "  'total_seconds': 10525,\n",
       "  'total_time': '2 hrs 55 mins 25 secs'},\n",
       " 'bert-base-uncased bilstm word2vec_eda': {'val_loss': 0.4546703318692743,\n",
       "  'val_accuracy': 0.8630378187171331,\n",
       "  'precision': 0.8642031827102354,\n",
       "  'recall': 0.8630378187171331,\n",
       "  'f1-score': 0.8631301132225134,\n",
       "  'macro_f1-score': 0.8599575977846878,\n",
       "  'balanced_accuracy': 0.865463515930674,\n",
       "  'mcc': 0.831852309242759,\n",
       "  'train_loss': 0.20547014861867147,\n",
       "  'total_seconds': 9896,\n",
       "  'total_time': '2 hrs 44 mins 56 secs'},\n",
       " 'roberta-base None word2vec_eda': {'val_loss': 0.819718765847178,\n",
       "  'val_accuracy': 0.7464033587382539,\n",
       "  'precision': 0.7064805017421785,\n",
       "  'recall': 0.7464033587382539,\n",
       "  'f1-score': 0.7145733942377392,\n",
       "  'macro_f1-score': 0.6978498483031925,\n",
       "  'balanced_accuracy': 0.7125265489659608,\n",
       "  'mcc': 0.6634602299767002,\n",
       "  'train_loss': 0.5208499108321323,\n",
       "  'total_seconds': 12552,\n",
       "  'total_time': '3 hrs 29 mins 12 secs'},\n",
       " 'roberta-base cnn word2vec_eda': {'val_loss': 0.4975321541204413,\n",
       "  'val_accuracy': 0.8592107047382788,\n",
       "  'precision': 0.861340588565365,\n",
       "  'recall': 0.8592107047382788,\n",
       "  'f1-score': 0.8594400572183465,\n",
       "  'macro_f1-score': 0.856460368365689,\n",
       "  'balanced_accuracy': 0.8596863203181906,\n",
       "  'mcc': 0.8270897054980016,\n",
       "  'train_loss': 0.16316091432711072,\n",
       "  'total_seconds': 15434,\n",
       "  'total_time': '4 hrs 17 mins 14 secs'},\n",
       " 'roberta-base lstm word2vec_eda': {'val_loss': 0.4599398488724907,\n",
       "  'val_accuracy': 0.8546139808542594,\n",
       "  'precision': 0.8571662966865649,\n",
       "  'recall': 0.8546139808542594,\n",
       "  'f1-score': 0.8547233467067497,\n",
       "  'macro_f1-score': 0.8528457408870832,\n",
       "  'balanced_accuracy': 0.8631356086019123,\n",
       "  'mcc': 0.8222390735826632,\n",
       "  'train_loss': 0.3132267767822229,\n",
       "  'total_seconds': 10325,\n",
       "  'total_time': '2 hrs 52 mins 5 secs'},\n",
       " 'roberta-base bilstm word2vec_eda': {'val_loss': 0.5275587321556786,\n",
       "  'val_accuracy': 0.8594245238677234,\n",
       "  'precision': 0.8606300772995057,\n",
       "  'recall': 0.8594245238677234,\n",
       "  'f1-score': 0.8594853275761649,\n",
       "  'macro_f1-score': 0.8562642817191788,\n",
       "  'balanced_accuracy': 0.8516993692477456,\n",
       "  'mcc': 0.8268338675767138,\n",
       "  'train_loss': 0.19449805906349105,\n",
       "  'total_seconds': 17051,\n",
       "  'total_time': '4 hrs 44 mins 11 secs'},\n",
       " 'microsoft/deberta-base None word2vec_eda': {'val_loss': 0.7653862312238695,\n",
       "  'val_accuracy': 0.7371239038121322,\n",
       "  'precision': 0.7004603802039491,\n",
       "  'recall': 0.7371239038121322,\n",
       "  'f1-score': 0.7060169642342098,\n",
       "  'macro_f1-score': 0.6862125400064565,\n",
       "  'balanced_accuracy': 0.7092959467745275,\n",
       "  'mcc': 0.6526195831093161,\n",
       "  'train_loss': 0.7369597108739094,\n",
       "  'total_seconds': 8754,\n",
       "  'total_time': '2 hrs 25 mins 54 secs'},\n",
       " 'microsoft/deberta-base cnn word2vec_eda': {'val_loss': 1.0984893140472216,\n",
       "  'val_accuracy': 0.6227135828617406,\n",
       "  'precision': 0.5435337847193155,\n",
       "  'recall': 0.6227135828617406,\n",
       "  'f1-score': 0.5589980252094512,\n",
       "  'macro_f1-score': 0.5277364267170338,\n",
       "  'balanced_accuracy': 0.56383222089535,\n",
       "  'mcc': 0.48745664106132536,\n",
       "  'train_loss': 0.7986272047076821,\n",
       "  'total_seconds': 10410,\n",
       "  'total_time': '2 hrs 53 mins 30 secs'},\n",
       " 'microsoft/deberta-base lstm word2vec_eda': {'val_loss': 0.7780822801650462,\n",
       "  'val_accuracy': 0.7206833901918562,\n",
       "  'precision': 0.7204365356861292,\n",
       "  'recall': 0.7206833901918562,\n",
       "  'f1-score': 0.6938430415312001,\n",
       "  'macro_f1-score': 0.6959083197801409,\n",
       "  'balanced_accuracy': 0.72307480183162,\n",
       "  'mcc': 0.6676889092493439,\n",
       "  'train_loss': 0.7084903296243998,\n",
       "  'total_seconds': 11329,\n",
       "  'total_time': '3 hrs 8 mins 49 secs'},\n",
       " 'microsoft/deberta-base bilstm word2vec_eda': {'val_loss': 1.0897173753842455,\n",
       "  'val_accuracy': 0.6215805469457356,\n",
       "  'precision': 0.5410692975271361,\n",
       "  'recall': 0.6215805469457356,\n",
       "  'f1-score': 0.5579391872496349,\n",
       "  'macro_f1-score': 0.5276049102237923,\n",
       "  'balanced_accuracy': 0.5598494304852404,\n",
       "  'mcc': 0.4851435141629154,\n",
       "  'train_loss': 1.0149235227451165,\n",
       "  'total_seconds': 12015,\n",
       "  'total_time': '3 hrs 20 mins 15 secs'}}"
      ]
     },
     "execution_count": 5,
     "metadata": {},
     "output_type": "execute_result"
    }
   ],
   "source": [
    "all_experiment_result"
   ]
  }
 ],
 "metadata": {
  "kernelspec": {
   "display_name": "Python 3",
   "language": "python",
   "name": "python3"
  },
  "language_info": {
   "codemirror_mode": {
    "name": "ipython",
    "version": 3
   },
   "file_extension": ".py",
   "mimetype": "text/x-python",
   "name": "python",
   "nbconvert_exporter": "python",
   "pygments_lexer": "ipython3",
   "version": "3.10.0"
  }
 },
 "nbformat": 4,
 "nbformat_minor": 5
}
