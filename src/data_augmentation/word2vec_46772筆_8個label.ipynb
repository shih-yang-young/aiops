{
 "cells": [
  {
   "cell_type": "code",
   "execution_count": 1,
   "id": "f22f4841-9a9d-4a63-b896-560594d666d8",
   "metadata": {},
   "outputs": [
    {
     "data": {
      "text/html": [
       "<div>\n",
       "<style scoped>\n",
       "    .dataframe tbody tr th:only-of-type {\n",
       "        vertical-align: middle;\n",
       "    }\n",
       "\n",
       "    .dataframe tbody tr th {\n",
       "        vertical-align: top;\n",
       "    }\n",
       "\n",
       "    .dataframe thead th {\n",
       "        text-align: right;\n",
       "    }\n",
       "</style>\n",
       "<table border=\"1\" class=\"dataframe\">\n",
       "  <thead>\n",
       "    <tr style=\"text-align: right;\">\n",
       "      <th></th>\n",
       "      <th>Inbound Message</th>\n",
       "      <th>Label</th>\n",
       "    </tr>\n",
       "  </thead>\n",
       "  <tbody>\n",
       "    <tr>\n",
       "      <th>0</th>\n",
       "      <td>connection icon icon dear please setup icon pe...</td>\n",
       "      <td>3</td>\n",
       "    </tr>\n",
       "    <tr>\n",
       "      <th>1</th>\n",
       "      <td>work experience user work experience user work...</td>\n",
       "      <td>0</td>\n",
       "    </tr>\n",
       "    <tr>\n",
       "      <th>2</th>\n",
       "      <td>requesting meeting requesting meeting please h...</td>\n",
       "      <td>3</td>\n",
       "    </tr>\n",
       "    <tr>\n",
       "      <th>3</th>\n",
       "      <td>reset passwords external accounts expire days ...</td>\n",
       "      <td>0</td>\n",
       "    </tr>\n",
       "    <tr>\n",
       "      <th>4</th>\n",
       "      <td>mail verification warning got attached please ...</td>\n",
       "      <td>5</td>\n",
       "    </tr>\n",
       "    <tr>\n",
       "      <th>...</th>\n",
       "      <td>...</td>\n",
       "      <td>...</td>\n",
       "    </tr>\n",
       "    <tr>\n",
       "      <th>46767</th>\n",
       "      <td>git space project issues adding users sent git...</td>\n",
       "      <td>0</td>\n",
       "    </tr>\n",
       "    <tr>\n",
       "      <th>46768</th>\n",
       "      <td>error sent error guys help error appearing wan...</td>\n",
       "      <td>5</td>\n",
       "    </tr>\n",
       "    <tr>\n",
       "      <th>46769</th>\n",
       "      <td>connection issues sent connection issues hello...</td>\n",
       "      <td>3</td>\n",
       "    </tr>\n",
       "    <tr>\n",
       "      <th>46770</th>\n",
       "      <td>error cube reports sent error hello guys recei...</td>\n",
       "      <td>2</td>\n",
       "    </tr>\n",
       "    <tr>\n",
       "      <th>46771</th>\n",
       "      <td>running extensions hello please advised runnin...</td>\n",
       "      <td>3</td>\n",
       "    </tr>\n",
       "  </tbody>\n",
       "</table>\n",
       "<p>46772 rows × 2 columns</p>\n",
       "</div>"
      ],
      "text/plain": [
       "                                         Inbound Message  Label\n",
       "0      connection icon icon dear please setup icon pe...      3\n",
       "1      work experience user work experience user work...      0\n",
       "2      requesting meeting requesting meeting please h...      3\n",
       "3      reset passwords external accounts expire days ...      0\n",
       "4      mail verification warning got attached please ...      5\n",
       "...                                                  ...    ...\n",
       "46767  git space project issues adding users sent git...      0\n",
       "46768  error sent error guys help error appearing wan...      5\n",
       "46769  connection issues sent connection issues hello...      3\n",
       "46770  error cube reports sent error hello guys recei...      2\n",
       "46771  running extensions hello please advised runnin...      3\n",
       "\n",
       "[46772 rows x 2 columns]"
      ]
     },
     "execution_count": 1,
     "metadata": {},
     "output_type": "execute_result"
    }
   ],
   "source": [
    "import pandas as pd\n",
    "data_path = \"../../data/46772_8_label.csv\"\n",
    "df = pd.read_csv(data_path)\n",
    "# df_label_0 = df[df[\"Label\"] == 0]\n",
    "# df_label_0_to_drop = df_label_0.sample(n=3000, random_state=42)\n",
    "# df = df.drop(df_label_0_to_drop.index)\n",
    "df"
   ]
  },
  {
   "cell_type": "code",
   "execution_count": 2,
   "id": "bf737873-4f1c-4588-913d-8f06b2777b20",
   "metadata": {},
   "outputs": [
    {
     "name": "stderr",
     "output_type": "stream",
     "text": [
      "c:\\Users\\user\\AppData\\Local\\Programs\\Python\\Python310\\lib\\site-packages\\tqdm\\auto.py:21: TqdmWarning: IProgress not found. Please update jupyter and ipywidgets. See https://ipywidgets.readthedocs.io/en/stable/user_install.html\n",
      "  from .autonotebook import tqdm as notebook_tqdm\n"
     ]
    }
   ],
   "source": [
    "import sys\n",
    "import os\n",
    "sys.path.append(os.path.abspath('../ml_lib'))\n",
    "\n",
    "from config import *\n",
    "from experiment import run_kfold_experiment"
   ]
  },
  {
   "cell_type": "code",
   "execution_count": 3,
   "id": "a12b2613-aa9d-41c0-8f62-72210eaf8d7f",
   "metadata": {},
   "outputs": [],
   "source": [
    "messages, labels = df['Inbound Message'].tolist(), df['Label'].tolist()"
   ]
  },
  {
   "cell_type": "code",
   "execution_count": 4,
   "id": "38d4729f-f867-4cea-89f9-31f67e5ecced",
   "metadata": {},
   "outputs": [
    {
     "name": "stdout",
     "output_type": "stream",
     "text": [
      "▶ Running: bert-base-uncased + plain + word2vec\n",
      "tokenizer is bert-base-uncased\n",
      "Using device: cuda\n",
      "CUDA Available: True\n",
      "CUDA Device: NVIDIA GeForce RTX 5070 Ti\n",
      "Current GPU Memory Allocated: 0.00 GB\n",
      "Current GPU Memory Cached: 0.00 GB\n",
      "\n",
      "[Fold 1]\n",
      "🚀 Using Word2Vec for data augmentation + under-sampling\n",
      "🔧 Augmenting label 1: 1399 → 5000 (+3601)\n",
      "🔧 Augmenting label 4: 1678 → 5000 (+3322)\n",
      "🔧 Augmenting label 6: 1737 → 5000 (+3263)\n",
      "🔧 Augmenting label 7: 2187 → 5000 (+2813)\n",
      "Label distribution after resampling:\n",
      "  label 0: 5626\n",
      "  label 1: 5000\n",
      "  label 2: 8442\n",
      "  label 3: 10770\n",
      "  label 4: 5000\n",
      "  label 5: 5578\n",
      "  label 6: 5000\n",
      "  label 7: 5000\n",
      "model is bert-base-uncased\n"
     ]
    },
    {
     "name": "stderr",
     "output_type": "stream",
     "text": [
      "Some weights of BertForSequenceClassification were not initialized from the model checkpoint at bert-base-uncased and are newly initialized: ['classifier.bias', 'classifier.weight']\n",
      "You should probably TRAIN this model on a down-stream task to be able to use it for predictions and inference.\n"
     ]
    },
    {
     "name": "stdout",
     "output_type": "stream",
     "text": [
      "Epoch 1/20\n"
     ]
    },
    {
     "name": "stderr",
     "output_type": "stream",
     "text": [
      "100%|██████████| 3151/3151 [04:24<00:00, 11.91it/s]\n"
     ]
    },
    {
     "name": "stdout",
     "output_type": "stream",
     "text": [
      "{'val_loss': 0.4285845377570034, 'val_accuracy': 0.8526990913949759, 'precision': 0.8616160473287895, 'recall': 0.8526990913949759, 'f1-score': 0.8541173371140786, 'macro_f1-score': 0.8461492792668822, 'balanced_accuracy': 0.8669983291901858, 'mcc': 0.8214880362477995, 'train_loss': 0.5218825880331687}\n",
      "Epoch 2/20\n"
     ]
    },
    {
     "name": "stderr",
     "output_type": "stream",
     "text": [
      "100%|██████████| 3151/3151 [04:24<00:00, 11.90it/s]\n"
     ]
    },
    {
     "name": "stdout",
     "output_type": "stream",
     "text": [
      "{'val_loss': 0.42073823800708493, 'val_accuracy': 0.8646712987707108, 'precision': 0.8680587698506167, 'recall': 0.8646712987707108, 'f1-score': 0.8652941103638315, 'macro_f1-score': 0.8613353595826857, 'balanced_accuracy': 0.8653689830581797, 'mcc': 0.8337246901608137, 'train_loss': 0.2773907957444874}\n",
      "Epoch 3/20\n"
     ]
    },
    {
     "name": "stderr",
     "output_type": "stream",
     "text": [
      "100%|██████████| 3151/3151 [04:24<00:00, 11.90it/s]\n"
     ]
    },
    {
     "name": "stdout",
     "output_type": "stream",
     "text": [
      "{'val_loss': 0.4512023460000562, 'val_accuracy': 0.8655264564404062, 'precision': 0.8665319204855989, 'recall': 0.8655264564404062, 'f1-score': 0.8656279747959741, 'macro_f1-score': 0.8585453836517678, 'balanced_accuracy': 0.8620856625648987, 'mcc': 0.8349648502472741, 'train_loss': 0.1797375977617165}\n",
      "Epoch 4/20\n"
     ]
    },
    {
     "name": "stderr",
     "output_type": "stream",
     "text": [
      "100%|██████████| 3151/3151 [04:24<00:00, 11.90it/s]\n"
     ]
    },
    {
     "name": "stdout",
     "output_type": "stream",
     "text": [
      "{'val_loss': 0.46748650345680676, 'val_accuracy': 0.8692677712453234, 'precision': 0.8702512743103669, 'recall': 0.8692677712453234, 'f1-score': 0.8694683432101886, 'macro_f1-score': 0.8647370074047765, 'balanced_accuracy': 0.8737184856908984, 'mcc': 0.8395624154293848, 'train_loss': 0.1227239426820616}\n",
      "Epoch 5/20\n"
     ]
    },
    {
     "name": "stderr",
     "output_type": "stream",
     "text": [
      "100%|██████████| 3151/3151 [04:24<00:00, 11.90it/s]\n"
     ]
    },
    {
     "name": "stdout",
     "output_type": "stream",
     "text": [
      "{'val_loss': 0.6013935085354197, 'val_accuracy': 0.8524853019775521, 'precision': 0.8567018584402127, 'recall': 0.8524853019775521, 'f1-score': 0.8524140328582425, 'macro_f1-score': 0.8462311877149227, 'balanced_accuracy': 0.8458210986468513, 'mcc': 0.8192658049987254, 'train_loss': 0.0937496210830165}\n",
      "Epoch 6/20\n"
     ]
    },
    {
     "name": "stderr",
     "output_type": "stream",
     "text": [
      "100%|██████████| 3151/3151 [04:24<00:00, 11.91it/s]\n"
     ]
    },
    {
     "name": "stdout",
     "output_type": "stream",
     "text": [
      "{'val_loss': 0.5866264807844424, 'val_accuracy': 0.8676643506146445, 'precision': 0.8704465854063284, 'recall': 0.8676643506146445, 'f1-score': 0.8678099295816454, 'macro_f1-score': 0.8646267835267609, 'balanced_accuracy': 0.8562148594977156, 'mcc': 0.8368106657207103, 'train_loss': 0.07218897376501811}\n",
      "Epoch 7/20\n"
     ]
    },
    {
     "name": "stderr",
     "output_type": "stream",
     "text": [
      "100%|██████████| 3151/3151 [04:24<00:00, 11.91it/s]\n"
     ]
    },
    {
     "name": "stdout",
     "output_type": "stream",
     "text": [
      "{'val_loss': 0.6519906923604699, 'val_accuracy': 0.8596472474612507, 'precision': 0.8616154452905191, 'recall': 0.8596472474612507, 'f1-score': 0.8592492506921791, 'macro_f1-score': 0.8555453093262693, 'balanced_accuracy': 0.8339909831657009, 'mcc': 0.8265618900808357, 'train_loss': 0.06004482379852959}\n",
      "Early stopping.\n",
      "\n",
      "[Fold 2]\n",
      "🚀 Using Word2Vec for data augmentation + under-sampling\n",
      "🔧 Augmenting label 1: 1400 → 5000 (+3600)\n",
      "🔧 Augmenting label 4: 1678 → 5000 (+3322)\n",
      "🔧 Augmenting label 6: 1737 → 5000 (+3263)\n",
      "🔧 Augmenting label 7: 2186 → 5000 (+2814)\n",
      "Label distribution after resampling:\n",
      "  label 0: 5626\n",
      "  label 1: 5000\n",
      "  label 2: 8442\n",
      "  label 3: 10770\n",
      "  label 4: 5000\n",
      "  label 5: 5578\n",
      "  label 6: 5000\n",
      "  label 7: 5000\n",
      "model is bert-base-uncased\n"
     ]
    },
    {
     "name": "stderr",
     "output_type": "stream",
     "text": [
      "Some weights of BertForSequenceClassification were not initialized from the model checkpoint at bert-base-uncased and are newly initialized: ['classifier.bias', 'classifier.weight']\n",
      "You should probably TRAIN this model on a down-stream task to be able to use it for predictions and inference.\n"
     ]
    },
    {
     "name": "stdout",
     "output_type": "stream",
     "text": [
      "Epoch 1/20\n"
     ]
    },
    {
     "name": "stderr",
     "output_type": "stream",
     "text": [
      "100%|██████████| 3151/3151 [04:24<00:00, 11.91it/s]\n"
     ]
    },
    {
     "name": "stdout",
     "output_type": "stream",
     "text": [
      "{'val_loss': 0.5252984306719314, 'val_accuracy': 0.8204168893639765, 'precision': 0.8352034752013878, 'recall': 0.8204168893639765, 'f1-score': 0.8219822555576637, 'macro_f1-score': 0.814663111483799, 'balanced_accuracy': 0.8580094878748621, 'mcc': 0.7846812034518539, 'train_loss': 0.5278506340327167}\n",
      "Epoch 2/20\n"
     ]
    },
    {
     "name": "stderr",
     "output_type": "stream",
     "text": [
      "100%|██████████| 3151/3151 [04:24<00:00, 11.92it/s]\n"
     ]
    },
    {
     "name": "stdout",
     "output_type": "stream",
     "text": [
      "{'val_loss': 0.4269320644820348, 'val_accuracy': 0.8529128808123998, 'precision': 0.8546749444260718, 'recall': 0.8529128808123998, 'f1-score': 0.8529619577069943, 'macro_f1-score': 0.8502550101579041, 'balanced_accuracy': 0.8541637023762478, 'mcc': 0.8190853746670821, 'train_loss': 0.2764807013583156}\n",
      "Epoch 3/20\n"
     ]
    },
    {
     "name": "stderr",
     "output_type": "stream",
     "text": [
      "100%|██████████| 3151/3151 [04:24<00:00, 11.91it/s]\n"
     ]
    },
    {
     "name": "stdout",
     "output_type": "stream",
     "text": [
      "{'val_loss': 0.46824526321620513, 'val_accuracy': 0.8491715660074827, 'precision': 0.8499444389483559, 'recall': 0.8491715660074827, 'f1-score': 0.8486238268580489, 'macro_f1-score': 0.8494265291739294, 'balanced_accuracy': 0.8481550389521544, 'mcc': 0.8151734498572518, 'train_loss': 0.18352053426761772}\n",
      "Epoch 4/20\n"
     ]
    },
    {
     "name": "stderr",
     "output_type": "stream",
     "text": [
      "100%|██████████| 3151/3151 [04:24<00:00, 11.91it/s]\n"
     ]
    },
    {
     "name": "stdout",
     "output_type": "stream",
     "text": [
      "{'val_loss': 0.5490713897332327, 'val_accuracy': 0.8521646178514164, 'precision': 0.8547040606154336, 'recall': 0.8521646178514164, 'f1-score': 0.8519136823349044, 'macro_f1-score': 0.8525716877435483, 'balanced_accuracy': 0.8387183560511751, 'mcc': 0.8175017470642332, 'train_loss': 0.12494215101262414}\n",
      "Epoch 5/20\n"
     ]
    },
    {
     "name": "stderr",
     "output_type": "stream",
     "text": [
      "100%|██████████| 3151/3151 [04:24<00:00, 11.92it/s]\n"
     ]
    },
    {
     "name": "stdout",
     "output_type": "stream",
     "text": [
      "{'val_loss': 0.6787295569074698, 'val_accuracy': 0.843399251737039, 'precision': 0.845767238531603, 'recall': 0.843399251737039, 'f1-score': 0.8426788257678529, 'macro_f1-score': 0.8432109336706468, 'balanced_accuracy': 0.8418974844752674, 'mcc': 0.8072638286641378, 'train_loss': 0.09494527817635952}\n",
      "Epoch 6/20\n"
     ]
    },
    {
     "name": "stderr",
     "output_type": "stream",
     "text": [
      "100%|██████████| 3151/3151 [04:24<00:00, 11.92it/s]\n"
     ]
    },
    {
     "name": "stdout",
     "output_type": "stream",
     "text": [
      "{'val_loss': 0.630522811300973, 'val_accuracy': 0.8491715660074827, 'precision': 0.8494969944158859, 'recall': 0.8491715660074827, 'f1-score': 0.848674974579345, 'macro_f1-score': 0.8459332430011404, 'balanced_accuracy': 0.8380621958330488, 'mcc': 0.8143771258085996, 'train_loss': 0.0779251380950017}\n",
      "Epoch 7/20\n"
     ]
    },
    {
     "name": "stderr",
     "output_type": "stream",
     "text": [
      "100%|██████████| 3151/3151 [04:24<00:00, 11.92it/s]\n"
     ]
    },
    {
     "name": "stdout",
     "output_type": "stream",
     "text": [
      "{'val_loss': 0.7026686242313929, 'val_accuracy': 0.8519508284339925, 'precision': 0.8527907354712673, 'recall': 0.8519508284339925, 'f1-score': 0.8518192749057497, 'macro_f1-score': 0.8516102709964377, 'balanced_accuracy': 0.8531432408406627, 'mcc': 0.8178794911135846, 'train_loss': 0.06411292418159487}\n",
      "Early stopping.\n",
      "\n",
      "[Fold 3]\n",
      "🚀 Using Word2Vec for data augmentation + under-sampling\n",
      "🔧 Augmenting label 1: 1399 → 5000 (+3601)\n",
      "🔧 Augmenting label 4: 1679 → 5000 (+3321)\n",
      "🔧 Augmenting label 6: 1738 → 5000 (+3262)\n",
      "🔧 Augmenting label 7: 2186 → 5000 (+2814)\n",
      "Label distribution after resampling:\n",
      "  label 0: 5626\n",
      "  label 1: 5000\n",
      "  label 2: 8442\n",
      "  label 3: 10770\n",
      "  label 4: 5000\n",
      "  label 5: 5578\n",
      "  label 6: 5000\n",
      "  label 7: 5000\n",
      "model is bert-base-uncased\n"
     ]
    },
    {
     "name": "stderr",
     "output_type": "stream",
     "text": [
      "Some weights of BertForSequenceClassification were not initialized from the model checkpoint at bert-base-uncased and are newly initialized: ['classifier.bias', 'classifier.weight']\n",
      "You should probably TRAIN this model on a down-stream task to be able to use it for predictions and inference.\n"
     ]
    },
    {
     "name": "stdout",
     "output_type": "stream",
     "text": [
      "Epoch 1/20\n"
     ]
    },
    {
     "name": "stderr",
     "output_type": "stream",
     "text": [
      "100%|██████████| 3151/3151 [04:24<00:00, 11.91it/s]\n"
     ]
    },
    {
     "name": "stdout",
     "output_type": "stream",
     "text": [
      "{'val_loss': 0.4297729943616268, 'val_accuracy': 0.8555698097070772, 'precision': 0.8576365061961709, 'recall': 0.8555698097070772, 'f1-score': 0.8550311859529868, 'macro_f1-score': 0.8525830627916091, 'balanced_accuracy': 0.8647334485405793, 'mcc': 0.823968961550429, 'train_loss': 0.5180407424053335}\n",
      "Epoch 2/20\n"
     ]
    },
    {
     "name": "stderr",
     "output_type": "stream",
     "text": [
      "100%|██████████| 3151/3151 [04:24<00:00, 11.92it/s]\n"
     ]
    },
    {
     "name": "stdout",
     "output_type": "stream",
     "text": [
      "{'val_loss': 0.468887426583176, 'val_accuracy': 0.8497968783408167, 'precision': 0.8559716855569997, 'recall': 0.8497968783408167, 'f1-score': 0.8500421059482622, 'macro_f1-score': 0.841258044793249, 'balanced_accuracy': 0.8728565617279959, 'mcc': 0.8183035420006829, 'train_loss': 0.2762273042109567}\n",
      "Epoch 3/20\n"
     ]
    },
    {
     "name": "stderr",
     "output_type": "stream",
     "text": [
      "100%|██████████| 3151/3151 [04:24<00:00, 11.92it/s]\n"
     ]
    },
    {
     "name": "stdout",
     "output_type": "stream",
     "text": [
      "{'val_loss': 0.48829778015900116, 'val_accuracy': 0.8508659397049391, 'precision': 0.8571292584878071, 'recall': 0.8508659397049391, 'f1-score': 0.8512051424393935, 'macro_f1-score': 0.8502564767929772, 'balanced_accuracy': 0.853749215848585, 'mcc': 0.8176117278399689, 'train_loss': 0.18735009380839399}\n",
      "Epoch 4/20\n"
     ]
    },
    {
     "name": "stderr",
     "output_type": "stream",
     "text": [
      "100%|██████████| 3151/3151 [04:24<00:00, 11.92it/s]\n"
     ]
    },
    {
     "name": "stdout",
     "output_type": "stream",
     "text": [
      "{'val_loss': 0.47250618058312527, 'val_accuracy': 0.8695745135770794, 'precision': 0.8700354223314468, 'recall': 0.8695745135770794, 'f1-score': 0.8696585805207233, 'macro_f1-score': 0.8628911809576666, 'balanced_accuracy': 0.8634465681829333, 'mcc': 0.8395841387832278, 'train_loss': 0.1307326079461066}\n",
      "Epoch 5/20\n"
     ]
    },
    {
     "name": "stderr",
     "output_type": "stream",
     "text": [
      "100%|██████████| 3151/3151 [04:24<00:00, 11.92it/s]\n"
     ]
    },
    {
     "name": "stdout",
     "output_type": "stream",
     "text": [
      "{'val_loss': 0.501611077795044, 'val_accuracy': 0.8636946760744066, 'precision': 0.865009378134213, 'recall': 0.8636946760744066, 'f1-score': 0.863972093596368, 'macro_f1-score': 0.8595703239882122, 'balanced_accuracy': 0.8639041625712529, 'mcc': 0.8324844411840223, 'train_loss': 0.09770061704662655}\n",
      "Epoch 6/20\n"
     ]
    },
    {
     "name": "stderr",
     "output_type": "stream",
     "text": [
      "100%|██████████| 3151/3151 [04:24<00:00, 11.92it/s]\n"
     ]
    },
    {
     "name": "stdout",
     "output_type": "stream",
     "text": [
      "{'val_loss': 0.6184621795092542, 'val_accuracy': 0.8594184306179175, 'precision': 0.8617385622830748, 'recall': 0.8594184306179175, 'f1-score': 0.8593800940378832, 'macro_f1-score': 0.8524655069904526, 'balanced_accuracy': 0.8569476834523653, 'mcc': 0.8270771241266128, 'train_loss': 0.07544066982885562}\n",
      "Epoch 7/20\n"
     ]
    },
    {
     "name": "stderr",
     "output_type": "stream",
     "text": [
      "100%|██████████| 3151/3151 [04:24<00:00, 11.92it/s]\n"
     ]
    },
    {
     "name": "stdout",
     "output_type": "stream",
     "text": [
      "{'val_loss': 0.5626444800910102, 'val_accuracy': 0.8631601453923455, 'precision': 0.8664009006528094, 'recall': 0.8631601453923455, 'f1-score': 0.8631912616595502, 'macro_f1-score': 0.8579866639306442, 'balanced_accuracy': 0.8435605582053238, 'mcc': 0.8313644934106009, 'train_loss': 0.06765920353689613}\n",
      "Early stopping.\n",
      "\n",
      "[Fold 4]\n",
      "🚀 Using Word2Vec for data augmentation + under-sampling\n",
      "🔧 Augmenting label 1: 1399 → 5000 (+3601)\n",
      "🔧 Augmenting label 4: 1679 → 5000 (+3321)\n",
      "🔧 Augmenting label 6: 1738 → 5000 (+3262)\n",
      "🔧 Augmenting label 7: 2186 → 5000 (+2814)\n",
      "Label distribution after resampling:\n",
      "  label 0: 5625\n",
      "  label 1: 5000\n",
      "  label 2: 8441\n",
      "  label 3: 10771\n",
      "  label 4: 5000\n",
      "  label 5: 5579\n",
      "  label 6: 5000\n",
      "  label 7: 5000\n",
      "model is bert-base-uncased\n"
     ]
    },
    {
     "name": "stderr",
     "output_type": "stream",
     "text": [
      "Some weights of BertForSequenceClassification were not initialized from the model checkpoint at bert-base-uncased and are newly initialized: ['classifier.bias', 'classifier.weight']\n",
      "You should probably TRAIN this model on a down-stream task to be able to use it for predictions and inference.\n"
     ]
    },
    {
     "name": "stdout",
     "output_type": "stream",
     "text": [
      "Epoch 1/20\n"
     ]
    },
    {
     "name": "stderr",
     "output_type": "stream",
     "text": [
      "100%|██████████| 3151/3151 [04:24<00:00, 11.92it/s]\n"
     ]
    },
    {
     "name": "stdout",
     "output_type": "stream",
     "text": [
      "{'val_loss': 0.44945266042382287, 'val_accuracy': 0.8430617917468463, 'precision': 0.8476076629254727, 'recall': 0.8430617917468463, 'f1-score': 0.8428285058035268, 'macro_f1-score': 0.8404195659815574, 'balanced_accuracy': 0.8622594937499088, 'mcc': 0.8091831888430785, 'train_loss': 0.5211327072937586}\n",
      "Epoch 2/20\n"
     ]
    },
    {
     "name": "stderr",
     "output_type": "stream",
     "text": [
      "100%|██████████| 3151/3151 [04:24<00:00, 11.92it/s]\n"
     ]
    },
    {
     "name": "stdout",
     "output_type": "stream",
     "text": [
      "{'val_loss': 0.4268120155407068, 'val_accuracy': 0.8561043403891383, 'precision': 0.8592104738503206, 'recall': 0.8561043403891383, 'f1-score': 0.8561721024748088, 'macro_f1-score': 0.8553217341677455, 'balanced_accuracy': 0.864640475485926, 'mcc': 0.8233667592160906, 'train_loss': 0.27525440428047776}\n",
      "Epoch 3/20\n"
     ]
    },
    {
     "name": "stderr",
     "output_type": "stream",
     "text": [
      "100%|██████████| 3151/3151 [04:24<00:00, 11.92it/s]\n"
     ]
    },
    {
     "name": "stdout",
     "output_type": "stream",
     "text": [
      "{'val_loss': 0.47035647245744866, 'val_accuracy': 0.8569595894804362, 'precision': 0.8597628968134832, 'recall': 0.8569595894804362, 'f1-score': 0.8570973576359131, 'macro_f1-score': 0.8534796439630854, 'balanced_accuracy': 0.8592166086249357, 'mcc': 0.8241124574623673, 'train_loss': 0.18178272419857402}\n",
      "Epoch 4/20\n"
     ]
    },
    {
     "name": "stderr",
     "output_type": "stream",
     "text": [
      "100%|██████████| 3151/3151 [04:24<00:00, 11.92it/s]\n"
     ]
    },
    {
     "name": "stdout",
     "output_type": "stream",
     "text": [
      "{'val_loss': 0.5124733213104435, 'val_accuracy': 0.8594184306179175, 'precision': 0.8599945075175878, 'recall': 0.8594184306179175, 'f1-score': 0.8593817880565662, 'macro_f1-score': 0.8597947474239251, 'balanced_accuracy': 0.8579982452721995, 'mcc': 0.8273326231658364, 'train_loss': 0.12603271350436568}\n",
      "Epoch 5/20\n"
     ]
    },
    {
     "name": "stderr",
     "output_type": "stream",
     "text": [
      "100%|██████████| 3151/3151 [04:24<00:00, 11.92it/s]\n"
     ]
    },
    {
     "name": "stdout",
     "output_type": "stream",
     "text": [
      "{'val_loss': 0.5441536252673429, 'val_accuracy': 0.8483001924310456, 'precision': 0.8566429194957742, 'recall': 0.8483001924310456, 'f1-score': 0.8496499434750154, 'macro_f1-score': 0.85065445273086, 'balanced_accuracy': 0.8544722294237359, 'mcc': 0.8144477096528905, 'train_loss': 0.09257297928378391}\n",
      "Epoch 6/20\n"
     ]
    },
    {
     "name": "stderr",
     "output_type": "stream",
     "text": [
      "100%|██████████| 3151/3151 [04:24<00:00, 11.92it/s]\n"
     ]
    },
    {
     "name": "stdout",
     "output_type": "stream",
     "text": [
      "{'val_loss': 0.7082189050238404, 'val_accuracy': 0.8424203549283729, 'precision': 0.8493133720846727, 'recall': 0.8424203549283729, 'f1-score': 0.8433288762404331, 'macro_f1-score': 0.843885879536816, 'balanced_accuracy': 0.8512086573153433, 'mcc': 0.8083050189122302, 'train_loss': 0.07077802991030796}\n",
      "Epoch 7/20\n"
     ]
    },
    {
     "name": "stderr",
     "output_type": "stream",
     "text": [
      "100%|██████████| 3151/3151 [04:24<00:00, 11.92it/s]\n"
     ]
    },
    {
     "name": "stdout",
     "output_type": "stream",
     "text": [
      "{'val_loss': 0.641929767600014, 'val_accuracy': 0.8551421851614283, 'precision': 0.8557539156242726, 'recall': 0.8551421851614283, 'f1-score': 0.8548407564737609, 'macro_f1-score': 0.8533418443208325, 'balanced_accuracy': 0.8455242913930123, 'mcc': 0.8217772121901423, 'train_loss': 0.06624310976785643}\n",
      "Early stopping.\n",
      "\n",
      "[Fold 5]\n",
      "🚀 Using Word2Vec for data augmentation + under-sampling\n",
      "🔧 Augmenting label 1: 1399 → 5000 (+3601)\n",
      "🔧 Augmenting label 4: 1678 → 5000 (+3322)\n",
      "🔧 Augmenting label 6: 1738 → 5000 (+3262)\n",
      "🔧 Augmenting label 7: 2187 → 5000 (+2813)\n",
      "Label distribution after resampling:\n",
      "  label 0: 5625\n",
      "  label 1: 5000\n",
      "  label 2: 8441\n",
      "  label 3: 10771\n",
      "  label 4: 5000\n",
      "  label 5: 5579\n",
      "  label 6: 5000\n",
      "  label 7: 5000\n",
      "model is bert-base-uncased\n"
     ]
    },
    {
     "name": "stderr",
     "output_type": "stream",
     "text": [
      "Some weights of BertForSequenceClassification were not initialized from the model checkpoint at bert-base-uncased and are newly initialized: ['classifier.bias', 'classifier.weight']\n",
      "You should probably TRAIN this model on a down-stream task to be able to use it for predictions and inference.\n"
     ]
    },
    {
     "name": "stdout",
     "output_type": "stream",
     "text": [
      "Epoch 1/20\n"
     ]
    },
    {
     "name": "stderr",
     "output_type": "stream",
     "text": [
      "100%|██████████| 3151/3151 [04:24<00:00, 11.91it/s]\n"
     ]
    },
    {
     "name": "stdout",
     "output_type": "stream",
     "text": [
      "{'val_loss': 0.47212415522235074, 'val_accuracy': 0.837823391062647, 'precision': 0.84836055569484, 'recall': 0.837823391062647, 'f1-score': 0.8394356175837546, 'macro_f1-score': 0.8299347266001904, 'balanced_accuracy': 0.871272332959343, 'mcc': 0.8040799062659312, 'train_loss': 0.5037548747865388}\n",
      "Epoch 2/20\n"
     ]
    },
    {
     "name": "stderr",
     "output_type": "stream",
     "text": [
      "100%|██████████| 3151/3151 [04:24<00:00, 11.92it/s]\n"
     ]
    },
    {
     "name": "stdout",
     "output_type": "stream",
     "text": [
      "{'val_loss': 0.42180435795368804, 'val_accuracy': 0.8627325208466966, 'precision': 0.8638681107095114, 'recall': 0.8627325208466966, 'f1-score': 0.8625952414539557, 'macro_f1-score': 0.8612649284262248, 'balanced_accuracy': 0.8687652522656732, 'mcc': 0.8320507395055649, 'train_loss': 0.2702605622010415}\n",
      "Epoch 3/20\n"
     ]
    },
    {
     "name": "stderr",
     "output_type": "stream",
     "text": [
      "100%|██████████| 3151/3151 [04:24<00:00, 11.92it/s]\n"
     ]
    },
    {
     "name": "stdout",
     "output_type": "stream",
     "text": [
      "{'val_loss': 0.4600221966671893, 'val_accuracy': 0.8573872140260851, 'precision': 0.8603789793777841, 'recall': 0.8573872140260851, 'f1-score': 0.8577225451563224, 'macro_f1-score': 0.8558541471592012, 'balanced_accuracy': 0.8648353950828418, 'mcc': 0.8255834008016785, 'train_loss': 0.1773427562178971}\n",
      "Epoch 4/20\n"
     ]
    },
    {
     "name": "stderr",
     "output_type": "stream",
     "text": [
      "100%|██████████| 3151/3151 [04:24<00:00, 11.92it/s]\n"
     ]
    },
    {
     "name": "stdout",
     "output_type": "stream",
     "text": [
      "{'val_loss': 0.4868376692279409, 'val_accuracy': 0.8615565533461621, 'precision': 0.861822119649956, 'recall': 0.8615565533461621, 'f1-score': 0.8615793512038898, 'macro_f1-score': 0.8596840534800418, 'balanced_accuracy': 0.8637696213492975, 'mcc': 0.8297803424565146, 'train_loss': 0.12124964925547708}\n",
      "Epoch 5/20\n"
     ]
    },
    {
     "name": "stderr",
     "output_type": "stream",
     "text": [
      "100%|██████████| 3151/3151 [04:24<00:00, 11.92it/s]\n"
     ]
    },
    {
     "name": "stdout",
     "output_type": "stream",
     "text": [
      "{'val_loss': 0.6255902124803641, 'val_accuracy': 0.8501175967500535, 'precision': 0.852882820232494, 'recall': 0.8501175967500535, 'f1-score': 0.850688289404438, 'macro_f1-score': 0.8468414987864843, 'balanced_accuracy': 0.8462205863307084, 'mcc': 0.8154299371409814, 'train_loss': 0.08923916971414864}\n",
      "Early stopping.\n",
      "\n",
      " === bert-base-uncased + plain + word2vec Final 5-fold Cross-Validation Results ===\n",
      "val_loss: 0.4847\n",
      "val_accuracy: 0.8626\n",
      "precision: 0.8638\n",
      "recall: 0.8626\n",
      "f1-score: 0.8626\n",
      "macro_f1-score: 0.8603\n",
      "balanced_accuracy: 0.8605\n",
      "mcc: 0.8312\n",
      "train_loss: 0.1549\n",
      "total_seconds: 9517.0000\n",
      "total_time: 2 hrs 38 mins 37 secs\n",
      "▶ Running: bert-base-uncased + cnn + word2vec\n",
      "tokenizer is bert-base-uncased\n",
      "Using device: cuda\n",
      "CUDA Available: True\n",
      "CUDA Device: NVIDIA GeForce RTX 5070 Ti\n",
      "Current GPU Memory Allocated: 0.02 GB\n",
      "Current GPU Memory Cached: 3.03 GB\n",
      "\n",
      "[Fold 1]\n",
      "🚀 Using Word2Vec for data augmentation + under-sampling\n",
      "🔧 Augmenting label 1: 1399 → 5000 (+3601)\n",
      "🔧 Augmenting label 4: 1678 → 5000 (+3322)\n",
      "🔧 Augmenting label 6: 1737 → 5000 (+3263)\n",
      "🔧 Augmenting label 7: 2187 → 5000 (+2813)\n",
      "Label distribution after resampling:\n",
      "  label 0: 5626\n",
      "  label 1: 5000\n",
      "  label 2: 8442\n",
      "  label 3: 10770\n",
      "  label 4: 5000\n",
      "  label 5: 5578\n",
      "  label 6: 5000\n",
      "  label 7: 5000\n",
      "model is bert-base-uncased cnn\n",
      "Epoch 1/20\n"
     ]
    },
    {
     "name": "stderr",
     "output_type": "stream",
     "text": [
      "100%|██████████| 3151/3151 [04:29<00:00, 11.68it/s]\n"
     ]
    },
    {
     "name": "stdout",
     "output_type": "stream",
     "text": [
      "{'val_loss': 0.47211194969076886, 'val_accuracy': 0.8400855157669695, 'precision': 0.846532749431374, 'recall': 0.8400855157669695, 'f1-score': 0.839632022878852, 'macro_f1-score': 0.8364241944244888, 'balanced_accuracy': 0.8431906184024047, 'mcc': 0.8048721687484254, 'train_loss': 0.5290805821554391}\n",
      "Epoch 2/20\n"
     ]
    },
    {
     "name": "stderr",
     "output_type": "stream",
     "text": [
      "100%|██████████| 3151/3151 [04:29<00:00, 11.70it/s]\n"
     ]
    },
    {
     "name": "stdout",
     "output_type": "stream",
     "text": [
      "{'val_loss': 0.395937667761603, 'val_accuracy': 0.8706574024585783, 'precision': 0.8712024588645039, 'recall': 0.8706574024585783, 'f1-score': 0.8706341454317199, 'macro_f1-score': 0.867968486075412, 'balanced_accuracy': 0.8686363465068221, 'mcc': 0.8407277866682853, 'train_loss': 0.293958573562091}\n",
      "Epoch 3/20\n"
     ]
    },
    {
     "name": "stderr",
     "output_type": "stream",
     "text": [
      "100%|██████████| 3151/3151 [04:29<00:00, 11.70it/s]\n"
     ]
    },
    {
     "name": "stdout",
     "output_type": "stream",
     "text": [
      "{'val_loss': 0.4443787086961998, 'val_accuracy': 0.8590058792089792, 'precision': 0.8602942581686693, 'recall': 0.8590058792089792, 'f1-score': 0.8588814128965989, 'macro_f1-score': 0.8510001786409506, 'balanced_accuracy': 0.8578321544252244, 'mcc': 0.827003760838162, 'train_loss': 0.19984009421673776}\n",
      "Epoch 4/20\n"
     ]
    },
    {
     "name": "stderr",
     "output_type": "stream",
     "text": [
      "100%|██████████| 3151/3151 [04:29<00:00, 11.70it/s]\n"
     ]
    },
    {
     "name": "stdout",
     "output_type": "stream",
     "text": [
      "{'val_loss': 0.4729214892961467, 'val_accuracy': 0.863174772848744, 'precision': 0.8645692605208102, 'recall': 0.863174772848744, 'f1-score': 0.8631464697835628, 'macro_f1-score': 0.8569422580591808, 'balanced_accuracy': 0.8649635052141025, 'mcc': 0.8320417214580076, 'train_loss': 0.1388695538793231}\n",
      "Epoch 5/20\n"
     ]
    },
    {
     "name": "stderr",
     "output_type": "stream",
     "text": [
      "100%|██████████| 3151/3151 [04:29<00:00, 11.70it/s]\n"
     ]
    },
    {
     "name": "stdout",
     "output_type": "stream",
     "text": [
      "{'val_loss': 0.4940146468261368, 'val_accuracy': 0.8702298236237306, 'precision': 0.87151845394257, 'recall': 0.8702298236237306, 'f1-score': 0.8702478593496835, 'macro_f1-score': 0.8690192936107215, 'balanced_accuracy': 0.8583487584115519, 'mcc': 0.839874829484197, 'train_loss': 0.09763655349889992}\n",
      "Epoch 6/20\n"
     ]
    },
    {
     "name": "stderr",
     "output_type": "stream",
     "text": [
      "100%|██████████| 3151/3151 [04:29<00:00, 11.70it/s]\n"
     ]
    },
    {
     "name": "stdout",
     "output_type": "stream",
     "text": [
      "{'val_loss': 0.558486608041124, 'val_accuracy': 0.8647781934794228, 'precision': 0.8656658903028421, 'recall': 0.8647781934794228, 'f1-score': 0.8649839498330436, 'macro_f1-score': 0.8620110050554254, 'balanced_accuracy': 0.8630910838982421, 'mcc': 0.8336156351351154, 'train_loss': 0.07644634734985062}\n",
      "Epoch 7/20\n"
     ]
    },
    {
     "name": "stderr",
     "output_type": "stream",
     "text": [
      "100%|██████████| 3151/3151 [04:29<00:00, 11.71it/s]\n"
     ]
    },
    {
     "name": "stdout",
     "output_type": "stream",
     "text": [
      "{'val_loss': 0.6954039238661958, 'val_accuracy': 0.8652057723142704, 'precision': 0.86767022151129, 'recall': 0.8652057723142704, 'f1-score': 0.865394639890705, 'macro_f1-score': 0.8633717262892973, 'balanced_accuracy': 0.84355460958623, 'mcc': 0.8333386437515837, 'train_loss': 0.0664586220711403}\n",
      "Epoch 8/20\n"
     ]
    },
    {
     "name": "stderr",
     "output_type": "stream",
     "text": [
      "100%|██████████| 3151/3151 [04:29<00:00, 11.71it/s]\n"
     ]
    },
    {
     "name": "stdout",
     "output_type": "stream",
     "text": [
      "{'val_loss': 0.7588032697056795, 'val_accuracy': 0.8586851950828434, 'precision': 0.8606538785632111, 'recall': 0.8586851950828434, 'f1-score': 0.8587487671124971, 'macro_f1-score': 0.8566897753285696, 'balanced_accuracy': 0.8525130729898043, 'mcc': 0.8259939092099163, 'train_loss': 0.06129050977951288}\n",
      "Early stopping.\n",
      "\n",
      "[Fold 2]\n",
      "🚀 Using Word2Vec for data augmentation + under-sampling\n",
      "🔧 Augmenting label 1: 1400 → 5000 (+3600)\n",
      "🔧 Augmenting label 4: 1678 → 5000 (+3322)\n",
      "🔧 Augmenting label 6: 1737 → 5000 (+3263)\n",
      "🔧 Augmenting label 7: 2186 → 5000 (+2814)\n",
      "Label distribution after resampling:\n",
      "  label 0: 5626\n",
      "  label 1: 5000\n",
      "  label 2: 8442\n",
      "  label 3: 10770\n",
      "  label 4: 5000\n",
      "  label 5: 5578\n",
      "  label 6: 5000\n",
      "  label 7: 5000\n",
      "model is bert-base-uncased cnn\n",
      "Epoch 1/20\n"
     ]
    },
    {
     "name": "stderr",
     "output_type": "stream",
     "text": [
      "100%|██████████| 3151/3151 [04:29<00:00, 11.69it/s]\n"
     ]
    },
    {
     "name": "stdout",
     "output_type": "stream",
     "text": [
      "{'val_loss': 0.45570070104052623, 'val_accuracy': 0.8479957242116515, 'precision': 0.8498369654102035, 'recall': 0.8479957242116515, 'f1-score': 0.8475403809772668, 'macro_f1-score': 0.8475027644843705, 'balanced_accuracy': 0.8481696328164952, 'mcc': 0.8130921494644965, 'train_loss': 0.5376703469434434}\n",
      "Epoch 2/20\n"
     ]
    },
    {
     "name": "stderr",
     "output_type": "stream",
     "text": [
      "100%|██████████| 3151/3151 [04:29<00:00, 11.69it/s]\n"
     ]
    },
    {
     "name": "stdout",
     "output_type": "stream",
     "text": [
      "{'val_loss': 0.4574357581285075, 'val_accuracy': 0.846178514163549, 'precision': 0.8512515167345206, 'recall': 0.846178514163549, 'f1-score': 0.8458300523311688, 'macro_f1-score': 0.8485798429429233, 'balanced_accuracy': 0.8426000640554975, 'mcc': 0.8115938675173583, 'train_loss': 0.29389620246794235}\n",
      "Epoch 3/20\n"
     ]
    },
    {
     "name": "stderr",
     "output_type": "stream",
     "text": [
      "100%|██████████| 3151/3151 [04:29<00:00, 11.69it/s]\n"
     ]
    },
    {
     "name": "stdout",
     "output_type": "stream",
     "text": [
      "{'val_loss': 0.4399228224514896, 'val_accuracy': 0.8588989845002672, 'precision': 0.8590422614782731, 'recall': 0.8588989845002672, 'f1-score': 0.8586830817840904, 'macro_f1-score': 0.8606301662956162, 'balanced_accuracy': 0.8635969646373866, 'mcc': 0.8268396185335682, 'train_loss': 0.19319388500589318}\n",
      "Epoch 4/20\n"
     ]
    },
    {
     "name": "stderr",
     "output_type": "stream",
     "text": [
      "100%|██████████| 3151/3151 [04:29<00:00, 11.70it/s]\n"
     ]
    },
    {
     "name": "stdout",
     "output_type": "stream",
     "text": [
      "{'val_loss': 0.5782971367115577, 'val_accuracy': 0.8566541956173169, 'precision': 0.8594257132399288, 'recall': 0.8566541956173169, 'f1-score': 0.8566955386106421, 'macro_f1-score': 0.8534494236715808, 'balanced_accuracy': 0.8683039220871286, 'mcc': 0.8244534939921632, 'train_loss': 0.1342816954535222}\n",
      "Epoch 5/20\n"
     ]
    },
    {
     "name": "stderr",
     "output_type": "stream",
     "text": [
      "100%|██████████| 3151/3151 [04:29<00:00, 11.70it/s]\n"
     ]
    },
    {
     "name": "stdout",
     "output_type": "stream",
     "text": [
      "{'val_loss': 0.6018555902270998, 'val_accuracy': 0.8455371459112774, 'precision': 0.8488325840483578, 'recall': 0.8455371459112774, 'f1-score': 0.8454989946649436, 'macro_f1-score': 0.8417023237005081, 'balanced_accuracy': 0.8643446042696646, 'mcc': 0.8119772254278913, 'train_loss': 0.09853116268461207}\n",
      "Epoch 6/20\n"
     ]
    },
    {
     "name": "stderr",
     "output_type": "stream",
     "text": [
      "100%|██████████| 3151/3151 [04:29<00:00, 11.70it/s]\n"
     ]
    },
    {
     "name": "stdout",
     "output_type": "stream",
     "text": [
      "{'val_loss': 0.6255747895163452, 'val_accuracy': 0.8561197220737573, 'precision': 0.856583301235999, 'recall': 0.8561197220737573, 'f1-score': 0.8561423320250172, 'macro_f1-score': 0.855152895239897, 'balanced_accuracy': 0.8612723875695132, 'mcc': 0.8232573467661537, 'train_loss': 0.07928707341077436}\n",
      "Early stopping.\n",
      "\n",
      "[Fold 3]\n",
      "🚀 Using Word2Vec for data augmentation + under-sampling\n",
      "🔧 Augmenting label 1: 1399 → 5000 (+3601)\n",
      "🔧 Augmenting label 4: 1679 → 5000 (+3321)\n",
      "🔧 Augmenting label 6: 1738 → 5000 (+3262)\n",
      "🔧 Augmenting label 7: 2186 → 5000 (+2814)\n",
      "Label distribution after resampling:\n",
      "  label 0: 5626\n",
      "  label 1: 5000\n",
      "  label 2: 8442\n",
      "  label 3: 10770\n",
      "  label 4: 5000\n",
      "  label 5: 5578\n",
      "  label 6: 5000\n",
      "  label 7: 5000\n",
      "model is bert-base-uncased cnn\n",
      "Epoch 1/20\n"
     ]
    },
    {
     "name": "stderr",
     "output_type": "stream",
     "text": [
      "100%|██████████| 3151/3151 [04:29<00:00, 11.68it/s]\n"
     ]
    },
    {
     "name": "stdout",
     "output_type": "stream",
     "text": [
      "{'val_loss': 0.4154270867825064, 'val_accuracy': 0.8525764378875348, 'precision': 0.8548574029065524, 'recall': 0.8525764378875348, 'f1-score': 0.8526317657516854, 'macro_f1-score': 0.8477031052077582, 'balanced_accuracy': 0.8686783779267224, 'mcc': 0.8197995759327397, 'train_loss': 0.537009688070022}\n",
      "Epoch 2/20\n"
     ]
    },
    {
     "name": "stderr",
     "output_type": "stream",
     "text": [
      "100%|██████████| 3151/3151 [04:29<00:00, 11.68it/s]\n"
     ]
    },
    {
     "name": "stdout",
     "output_type": "stream",
     "text": [
      "{'val_loss': 0.45102994657702683, 'val_accuracy': 0.8539662176608938, 'precision': 0.8593347766875237, 'recall': 0.8539662176608938, 'f1-score': 0.8530307892926758, 'macro_f1-score': 0.8544066804711125, 'balanced_accuracy': 0.8627389653271686, 'mcc': 0.8234266827234181, 'train_loss': 0.29480830100561534}\n",
      "Epoch 3/20\n"
     ]
    },
    {
     "name": "stderr",
     "output_type": "stream",
     "text": [
      "100%|██████████| 3151/3151 [04:29<00:00, 11.69it/s]\n"
     ]
    },
    {
     "name": "stdout",
     "output_type": "stream",
     "text": [
      "{'val_loss': 0.4929713501849681, 'val_accuracy': 0.8565319649347872, 'precision': 0.8607662040094797, 'recall': 0.8565319649347872, 'f1-score': 0.857089099423908, 'macro_f1-score': 0.8488045844987626, 'balanced_accuracy': 0.8663427009305171, 'mcc': 0.825116039818785, 'train_loss': 0.19636174233789017}\n",
      "Epoch 4/20\n"
     ]
    },
    {
     "name": "stderr",
     "output_type": "stream",
     "text": [
      "100%|██████████| 3151/3151 [04:29<00:00, 11.69it/s]\n"
     ]
    },
    {
     "name": "stdout",
     "output_type": "stream",
     "text": [
      "{'val_loss': 0.47295605778996636, 'val_accuracy': 0.8648706435749413, 'precision': 0.8663715635735565, 'recall': 0.8648706435749413, 'f1-score': 0.8651755904786905, 'macro_f1-score': 0.8635531091720587, 'balanced_accuracy': 0.8588420801998382, 'mcc': 0.8334504797445536, 'train_loss': 0.14056184138267064}\n",
      "Epoch 5/20\n"
     ]
    },
    {
     "name": "stderr",
     "output_type": "stream",
     "text": [
      "100%|██████████| 3151/3151 [04:29<00:00, 11.70it/s]\n"
     ]
    },
    {
     "name": "stdout",
     "output_type": "stream",
     "text": [
      "{'val_loss': 0.5775311380927252, 'val_accuracy': 0.852255719478298, 'precision': 0.8599493121536393, 'recall': 0.852255719478298, 'f1-score': 0.8525176572764733, 'macro_f1-score': 0.8478650166538916, 'balanced_accuracy': 0.839658537540291, 'mcc': 0.8197926265764749, 'train_loss': 0.10197456104176811}\n",
      "Epoch 6/20\n"
     ]
    },
    {
     "name": "stderr",
     "output_type": "stream",
     "text": [
      "100%|██████████| 3151/3151 [04:29<00:00, 11.69it/s]\n"
     ]
    },
    {
     "name": "stdout",
     "output_type": "stream",
     "text": [
      "{'val_loss': 0.5608626804059833, 'val_accuracy': 0.858776993799444, 'precision': 0.8591869743633879, 'recall': 0.858776993799444, 'f1-score': 0.8584688263929164, 'macro_f1-score': 0.8565652439690806, 'balanced_accuracy': 0.8567802056560085, 'mcc': 0.8266990827272152, 'train_loss': 0.08494664947836487}\n",
      "Epoch 7/20\n"
     ]
    },
    {
     "name": "stderr",
     "output_type": "stream",
     "text": [
      "100%|██████████| 3151/3151 [04:29<00:00, 11.69it/s]\n"
     ]
    },
    {
     "name": "stdout",
     "output_type": "stream",
     "text": [
      "{'val_loss': 0.6613561318279841, 'val_accuracy': 0.856852683344024, 'precision': 0.8585390887607791, 'recall': 0.856852683344024, 'f1-score': 0.8569929302943072, 'macro_f1-score': 0.856297723470737, 'balanced_accuracy': 0.8515696257178897, 'mcc': 0.8242277450938091, 'train_loss': 0.0700429080785445}\n",
      "Early stopping.\n",
      "\n",
      "[Fold 4]\n",
      "🚀 Using Word2Vec for data augmentation + under-sampling\n",
      "🔧 Augmenting label 1: 1399 → 5000 (+3601)\n",
      "🔧 Augmenting label 4: 1679 → 5000 (+3321)\n",
      "🔧 Augmenting label 6: 1738 → 5000 (+3262)\n",
      "🔧 Augmenting label 7: 2186 → 5000 (+2814)\n",
      "Label distribution after resampling:\n",
      "  label 0: 5625\n",
      "  label 1: 5000\n",
      "  label 2: 8441\n",
      "  label 3: 10771\n",
      "  label 4: 5000\n",
      "  label 5: 5579\n",
      "  label 6: 5000\n",
      "  label 7: 5000\n",
      "model is bert-base-uncased cnn\n",
      "Epoch 1/20\n"
     ]
    },
    {
     "name": "stderr",
     "output_type": "stream",
     "text": [
      "100%|██████████| 3151/3151 [04:29<00:00, 11.68it/s]\n"
     ]
    },
    {
     "name": "stdout",
     "output_type": "stream",
     "text": [
      "{'val_loss': 0.47449085594306134, 'val_accuracy': 0.8369681419713492, 'precision': 0.8448187844865931, 'recall': 0.8369681419713492, 'f1-score': 0.8373604487907595, 'macro_f1-score': 0.829061064206287, 'balanced_accuracy': 0.8685304354074238, 'mcc': 0.8033208531102922, 'train_loss': 0.5412843002704534}\n",
      "Epoch 2/20\n"
     ]
    },
    {
     "name": "stderr",
     "output_type": "stream",
     "text": [
      "100%|██████████| 3151/3151 [04:29<00:00, 11.69it/s]\n"
     ]
    },
    {
     "name": "stdout",
     "output_type": "stream",
     "text": [
      "{'val_loss': 0.4843488094038688, 'val_accuracy': 0.8487278169766944, 'precision': 0.8518900052096436, 'recall': 0.8487278169766944, 'f1-score': 0.8480426250150731, 'macro_f1-score': 0.8496749106583308, 'balanced_accuracy': 0.8646595015601262, 'mcc': 0.8156699027419974, 'train_loss': 0.3001742785810119}\n",
      "Epoch 3/20\n"
     ]
    },
    {
     "name": "stderr",
     "output_type": "stream",
     "text": [
      "100%|██████████| 3151/3151 [04:29<00:00, 11.69it/s]\n"
     ]
    },
    {
     "name": "stdout",
     "output_type": "stream",
     "text": [
      "{'val_loss': 0.4517116178599242, 'val_accuracy': 0.86241180243746, 'precision': 0.8638422315092853, 'recall': 0.86241180243746, 'f1-score': 0.8626274002817863, 'macro_f1-score': 0.8603950643545824, 'balanced_accuracy': 0.8557596893071832, 'mcc': 0.8309570784642928, 'train_loss': 0.20415476270876257}\n",
      "Epoch 4/20\n"
     ]
    },
    {
     "name": "stderr",
     "output_type": "stream",
     "text": [
      "100%|██████████| 3151/3151 [04:29<00:00, 11.69it/s]\n"
     ]
    },
    {
     "name": "stdout",
     "output_type": "stream",
     "text": [
      "{'val_loss': 0.5279841089509746, 'val_accuracy': 0.8615565533461621, 'precision': 0.8629779247783159, 'recall': 0.8615565533461621, 'f1-score': 0.8614582858901485, 'macro_f1-score': 0.8565163235886888, 'balanced_accuracy': 0.850478546137062, 'mcc': 0.8296657215172428, 'train_loss': 0.1433295028326901}\n",
      "Epoch 5/20\n"
     ]
    },
    {
     "name": "stderr",
     "output_type": "stream",
     "text": [
      "100%|██████████| 3151/3151 [04:29<00:00, 11.69it/s]\n"
     ]
    },
    {
     "name": "stdout",
     "output_type": "stream",
     "text": [
      "{'val_loss': 0.5619828088017993, 'val_accuracy': 0.8531109685695959, 'precision': 0.856194205626869, 'recall': 0.8531109685695959, 'f1-score': 0.8526482247986381, 'macro_f1-score': 0.8532638896611853, 'balanced_accuracy': 0.8598182720629894, 'mcc': 0.8209300592814189, 'train_loss': 0.10933323279278465}\n",
      "Epoch 6/20\n"
     ]
    },
    {
     "name": "stderr",
     "output_type": "stream",
     "text": [
      "100%|██████████| 3151/3151 [04:29<00:00, 11.69it/s]\n"
     ]
    },
    {
     "name": "stdout",
     "output_type": "stream",
     "text": [
      "{'val_loss': 0.5883673319628892, 'val_accuracy': 0.8528971562967714, 'precision': 0.8531730988685612, 'recall': 0.8528971562967714, 'f1-score': 0.8528158082848858, 'macro_f1-score': 0.8507779853884873, 'balanced_accuracy': 0.8537727474134239, 'mcc': 0.8191075579025666, 'train_loss': 0.0824951935122104}\n",
      "Early stopping.\n",
      "\n",
      "[Fold 5]\n",
      "🚀 Using Word2Vec for data augmentation + under-sampling\n",
      "🔧 Augmenting label 1: 1399 → 5000 (+3601)\n",
      "🔧 Augmenting label 4: 1678 → 5000 (+3322)\n",
      "🔧 Augmenting label 6: 1738 → 5000 (+3262)\n",
      "🔧 Augmenting label 7: 2187 → 5000 (+2813)\n",
      "Label distribution after resampling:\n",
      "  label 0: 5625\n",
      "  label 1: 5000\n",
      "  label 2: 8441\n",
      "  label 3: 10771\n",
      "  label 4: 5000\n",
      "  label 5: 5579\n",
      "  label 6: 5000\n",
      "  label 7: 5000\n",
      "model is bert-base-uncased cnn\n",
      "Epoch 1/20\n"
     ]
    },
    {
     "name": "stderr",
     "output_type": "stream",
     "text": [
      "100%|██████████| 3151/3151 [04:29<00:00, 11.68it/s]\n"
     ]
    },
    {
     "name": "stdout",
     "output_type": "stream",
     "text": [
      "{'val_loss': 0.44923332527470894, 'val_accuracy': 0.8507590335685268, 'precision': 0.8528562637921286, 'recall': 0.8507590335685268, 'f1-score': 0.8505649697347484, 'macro_f1-score': 0.8489594118942057, 'balanced_accuracy': 0.8593439544469057, 'mcc': 0.8169090505163901, 'train_loss': 0.5456499328670692}\n",
      "Epoch 2/20\n"
     ]
    },
    {
     "name": "stderr",
     "output_type": "stream",
     "text": [
      "100%|██████████| 3151/3151 [04:29<00:00, 11.69it/s]\n"
     ]
    },
    {
     "name": "stdout",
     "output_type": "stream",
     "text": [
      "{'val_loss': 0.4323558630469518, 'val_accuracy': 0.8559974342527261, 'precision': 0.8601357459860784, 'recall': 0.8559974342527261, 'f1-score': 0.8565902335827821, 'macro_f1-score': 0.8554239540543798, 'balanced_accuracy': 0.8427493932754204, 'mcc': 0.8224315799940893, 'train_loss': 0.29604168841644873}\n",
      "Epoch 3/20\n"
     ]
    },
    {
     "name": "stderr",
     "output_type": "stream",
     "text": [
      "100%|██████████| 3151/3151 [04:29<00:00, 11.68it/s]\n"
     ]
    },
    {
     "name": "stdout",
     "output_type": "stream",
     "text": [
      "{'val_loss': 0.5380456305021404, 'val_accuracy': 0.8511866581141757, 'precision': 0.8537426404485652, 'recall': 0.8511866581141757, 'f1-score': 0.8512845200272937, 'macro_f1-score': 0.8537590746416228, 'balanced_accuracy': 0.8538710311958392, 'mcc': 0.8168088404123656, 'train_loss': 0.2022600894435792}\n",
      "Epoch 4/20\n"
     ]
    },
    {
     "name": "stderr",
     "output_type": "stream",
     "text": [
      "100%|██████████| 3151/3151 [04:29<00:00, 11.69it/s]\n"
     ]
    },
    {
     "name": "stdout",
     "output_type": "stream",
     "text": [
      "{'val_loss': 0.5037815621751559, 'val_accuracy': 0.8540731237973059, 'precision': 0.8577124106235031, 'recall': 0.8540731237973059, 'f1-score': 0.8544547177902766, 'macro_f1-score': 0.8536038466091405, 'balanced_accuracy': 0.8659051484704121, 'mcc': 0.822038093299223, 'train_loss': 0.14241916886753597}\n",
      "Epoch 5/20\n"
     ]
    },
    {
     "name": "stderr",
     "output_type": "stream",
     "text": [
      "100%|██████████| 3151/3151 [04:29<00:00, 11.68it/s]\n"
     ]
    },
    {
     "name": "stdout",
     "output_type": "stream",
     "text": [
      "{'val_loss': 0.6270219618667506, 'val_accuracy': 0.8540731237973059, 'precision': 0.8586570761980973, 'recall': 0.8540731237973059, 'f1-score': 0.8542007965101779, 'macro_f1-score': 0.8560327687188459, 'balanced_accuracy': 0.8474104294920005, 'mcc': 0.8204312325717801, 'train_loss': 0.10313779559338959}\n",
      "Epoch 6/20\n"
     ]
    },
    {
     "name": "stderr",
     "output_type": "stream",
     "text": [
      "100%|██████████| 3151/3151 [04:29<00:00, 11.69it/s]\n"
     ]
    },
    {
     "name": "stdout",
     "output_type": "stream",
     "text": [
      "{'val_loss': 0.6245845885692626, 'val_accuracy': 0.8521488133418859, 'precision': 0.8538547798130532, 'recall': 0.8521488133418859, 'f1-score': 0.8518765920219702, 'macro_f1-score': 0.8487917445638075, 'balanced_accuracy': 0.8655327256226677, 'mcc': 0.8197889272861907, 'train_loss': 0.08466772239044953}\n",
      "Epoch 7/20\n"
     ]
    },
    {
     "name": "stderr",
     "output_type": "stream",
     "text": [
      "100%|██████████| 3151/3151 [04:29<00:00, 11.69it/s]\n"
     ]
    },
    {
     "name": "stdout",
     "output_type": "stream",
     "text": [
      "{'val_loss': 0.7106014498788067, 'val_accuracy': 0.8476587556125722, 'precision': 0.8494793017803025, 'recall': 0.8476587556125722, 'f1-score': 0.8478428658203025, 'macro_f1-score': 0.847797124195871, 'balanced_accuracy': 0.8514274786632889, 'mcc': 0.8132991776515228, 'train_loss': 0.06908825435394894}\n",
      "Epoch 8/20\n"
     ]
    },
    {
     "name": "stderr",
     "output_type": "stream",
     "text": [
      "100%|██████████| 3151/3151 [04:29<00:00, 11.69it/s]\n"
     ]
    },
    {
     "name": "stdout",
     "output_type": "stream",
     "text": [
      "{'val_loss': 0.6957807312996135, 'val_accuracy': 0.8566388710711995, 'precision': 0.8583796253651116, 'recall': 0.8566388710711995, 'f1-score': 0.8568748308218722, 'macro_f1-score': 0.854727350879753, 'balanced_accuracy': 0.8606071752754254, 'mcc': 0.8242052945188173, 'train_loss': 0.06101834099231955}\n",
      "Early stopping.\n",
      "\n",
      " === bert-base-uncased + cnn + word2vec Final 5-fold Cross-Validation Results ===\n",
      "val_loss: 0.4971\n",
      "val_accuracy: 0.8621\n",
      "precision: 0.8639\n",
      "recall: 0.8621\n",
      "f1-score: 0.8622\n",
      "macro_f1-score: 0.8619\n",
      "balanced_accuracy: 0.8568\n",
      "mcc: 0.8303\n",
      "train_loss: 0.1477\n",
      "total_seconds: 10283.0000\n",
      "total_time: 2 hrs 51 mins 23 secs\n",
      "▶ Running: bert-base-uncased + lstm + word2vec\n",
      "tokenizer is bert-base-uncased\n",
      "Using device: cuda\n",
      "CUDA Available: True\n",
      "CUDA Device: NVIDIA GeForce RTX 5070 Ti\n",
      "Current GPU Memory Allocated: 0.02 GB\n",
      "Current GPU Memory Cached: 3.04 GB\n",
      "\n",
      "[Fold 1]\n",
      "🚀 Using Word2Vec for data augmentation + under-sampling\n",
      "🔧 Augmenting label 1: 1399 → 5000 (+3601)\n",
      "🔧 Augmenting label 4: 1678 → 5000 (+3322)\n",
      "🔧 Augmenting label 6: 1737 → 5000 (+3263)\n",
      "🔧 Augmenting label 7: 2187 → 5000 (+2813)\n",
      "Label distribution after resampling:\n",
      "  label 0: 5626\n",
      "  label 1: 5000\n",
      "  label 2: 8442\n",
      "  label 3: 10770\n",
      "  label 4: 5000\n",
      "  label 5: 5578\n",
      "  label 6: 5000\n",
      "  label 7: 5000\n",
      "model is bert-base-uncased lstm\n",
      "Epoch 1/20\n"
     ]
    },
    {
     "name": "stderr",
     "output_type": "stream",
     "text": [
      "100%|██████████| 3151/3151 [04:43<00:00, 11.10it/s]\n"
     ]
    },
    {
     "name": "stdout",
     "output_type": "stream",
     "text": [
      "{'val_loss': 0.42383128305276235, 'val_accuracy': 0.8584714056654196, 'precision': 0.8600710500419527, 'recall': 0.8584714056654196, 'f1-score': 0.8578041889749204, 'macro_f1-score': 0.8548879669527644, 'balanced_accuracy': 0.8601133875018241, 'mcc': 0.826175443914357, 'train_loss': 0.537104222678199}\n",
      "Epoch 2/20\n"
     ]
    },
    {
     "name": "stderr",
     "output_type": "stream",
     "text": [
      "100%|██████████| 3151/3151 [04:44<00:00, 11.09it/s]\n"
     ]
    },
    {
     "name": "stdout",
     "output_type": "stream",
     "text": [
      "{'val_loss': 0.4291863514492527, 'val_accuracy': 0.8628540887226083, 'precision': 0.86513780691128, 'recall': 0.8628540887226083, 'f1-score': 0.8626399133590046, 'macro_f1-score': 0.8578597446720106, 'balanced_accuracy': 0.8720104616198134, 'mcc': 0.8319713907558027, 'train_loss': 0.3027556405072575}\n",
      "Epoch 3/20\n"
     ]
    },
    {
     "name": "stderr",
     "output_type": "stream",
     "text": [
      "100%|██████████| 3151/3151 [04:44<00:00, 11.08it/s]\n"
     ]
    },
    {
     "name": "stdout",
     "output_type": "stream",
     "text": [
      "{'val_loss': 0.4529785684747701, 'val_accuracy': 0.8621058257616248, 'precision': 0.8638113771776533, 'recall': 0.8621058257616248, 'f1-score': 0.8625302009932984, 'macro_f1-score': 0.8606313167570268, 'balanced_accuracy': 0.870082277898383, 'mcc': 0.8308634111517135, 'train_loss': 0.2042404010171329}\n",
      "Epoch 4/20\n"
     ]
    },
    {
     "name": "stderr",
     "output_type": "stream",
     "text": [
      "100%|██████████| 3151/3151 [04:44<00:00, 11.09it/s]\n"
     ]
    },
    {
     "name": "stdout",
     "output_type": "stream",
     "text": [
      "{'val_loss': 0.48788803139637804, 'val_accuracy': 0.8638161411010155, 'precision': 0.8667035099424224, 'recall': 0.8638161411010155, 'f1-score': 0.863658061970442, 'macro_f1-score': 0.8605806326964225, 'balanced_accuracy': 0.8454770916550084, 'mcc': 0.8319929358932928, 'train_loss': 0.14668778180665215}\n",
      "Epoch 5/20\n"
     ]
    },
    {
     "name": "stderr",
     "output_type": "stream",
     "text": [
      "100%|██████████| 3151/3151 [04:44<00:00, 11.09it/s]\n"
     ]
    },
    {
     "name": "stdout",
     "output_type": "stream",
     "text": [
      "{'val_loss': 0.5492146872214846, 'val_accuracy': 0.8608230892570817, 'precision': 0.8629423895038713, 'recall': 0.8608230892570817, 'f1-score': 0.8612132710365358, 'macro_f1-score': 0.8593871082810072, 'balanced_accuracy': 0.8485836387426297, 'mcc': 0.828185743738604, 'train_loss': 0.10678842597595534}\n",
      "Epoch 6/20\n"
     ]
    },
    {
     "name": "stderr",
     "output_type": "stream",
     "text": [
      "100%|██████████| 3151/3151 [04:44<00:00, 11.09it/s]\n"
     ]
    },
    {
     "name": "stdout",
     "output_type": "stream",
     "text": [
      "{'val_loss': 0.6199807665131699, 'val_accuracy': 0.8607161945483699, 'precision': 0.8608350863965663, 'recall': 0.8607161945483699, 'f1-score': 0.8605640371449664, 'macro_f1-score': 0.8551615640762, 'balanced_accuracy': 0.8494290328323363, 'mcc': 0.8283421312012387, 'train_loss': 0.08409875378094898}\n",
      "Early stopping.\n",
      "\n",
      "[Fold 2]\n",
      "🚀 Using Word2Vec for data augmentation + under-sampling\n",
      "🔧 Augmenting label 1: 1400 → 5000 (+3600)\n",
      "🔧 Augmenting label 4: 1678 → 5000 (+3322)\n",
      "🔧 Augmenting label 6: 1737 → 5000 (+3263)\n",
      "🔧 Augmenting label 7: 2186 → 5000 (+2814)\n",
      "Label distribution after resampling:\n",
      "  label 0: 5626\n",
      "  label 1: 5000\n",
      "  label 2: 8442\n",
      "  label 3: 10770\n",
      "  label 4: 5000\n",
      "  label 5: 5578\n",
      "  label 6: 5000\n",
      "  label 7: 5000\n",
      "model is bert-base-uncased lstm\n",
      "Epoch 1/20\n"
     ]
    },
    {
     "name": "stderr",
     "output_type": "stream",
     "text": [
      "100%|██████████| 3151/3151 [04:44<00:00, 11.09it/s]\n"
     ]
    },
    {
     "name": "stdout",
     "output_type": "stream",
     "text": [
      "{'val_loss': 0.48192662690949234, 'val_accuracy': 0.8362373062533405, 'precision': 0.8428710919138014, 'recall': 0.8362373062533405, 'f1-score': 0.836711010489913, 'macro_f1-score': 0.8321849392493328, 'balanced_accuracy': 0.8614715855900994, 'mcc': 0.8012475092242659, 'train_loss': 0.5339615286727797}\n",
      "Epoch 2/20\n"
     ]
    },
    {
     "name": "stderr",
     "output_type": "stream",
     "text": [
      "100%|██████████| 3151/3151 [04:43<00:00, 11.10it/s]\n"
     ]
    },
    {
     "name": "stdout",
     "output_type": "stream",
     "text": [
      "{'val_loss': 0.47135367961043223, 'val_accuracy': 0.8466060929983966, 'precision': 0.8509949652307641, 'recall': 0.8466060929983966, 'f1-score': 0.8469055092767913, 'macro_f1-score': 0.8486846068515579, 'balanced_accuracy': 0.8462250495746166, 'mcc': 0.8123328959593289, 'train_loss': 0.2915167425026433}\n",
      "Epoch 3/20\n"
     ]
    },
    {
     "name": "stderr",
     "output_type": "stream",
     "text": [
      "100%|██████████| 3151/3151 [04:43<00:00, 11.10it/s]\n"
     ]
    },
    {
     "name": "stdout",
     "output_type": "stream",
     "text": [
      "{'val_loss': 0.4926504587284966, 'val_accuracy': 0.8454302512025654, 'precision': 0.850022503818031, 'recall': 0.8454302512025654, 'f1-score': 0.8449044493484382, 'macro_f1-score': 0.8442406916339107, 'balanced_accuracy': 0.8698404008622427, 'mcc': 0.8128423390321277, 'train_loss': 0.1999131188109004}\n",
      "Epoch 4/20\n"
     ]
    },
    {
     "name": "stderr",
     "output_type": "stream",
     "text": [
      "100%|██████████| 3151/3151 [04:44<00:00, 11.09it/s]\n"
     ]
    },
    {
     "name": "stdout",
     "output_type": "stream",
     "text": [
      "{'val_loss': 0.5718101781410858, 'val_accuracy': 0.8491715660074827, 'precision': 0.8510864674513913, 'recall': 0.8491715660074827, 'f1-score': 0.8490475170455948, 'macro_f1-score': 0.8457103840665574, 'balanced_accuracy': 0.8528530462456003, 'mcc': 0.8146306932535045, 'train_loss': 0.14074263327495823}\n",
      "Epoch 5/20\n"
     ]
    },
    {
     "name": "stderr",
     "output_type": "stream",
     "text": [
      "100%|██████████| 3151/3151 [04:44<00:00, 11.09it/s]\n"
     ]
    },
    {
     "name": "stdout",
     "output_type": "stream",
     "text": [
      "{'val_loss': 0.5905281855700872, 'val_accuracy': 0.8483164083377873, 'precision': 0.8494880806658057, 'recall': 0.8483164083377873, 'f1-score': 0.8476782520130021, 'macro_f1-score': 0.8446909459719703, 'balanced_accuracy': 0.8509523651493268, 'mcc': 0.8137306264500136, 'train_loss': 0.1065689752088453}\n",
      "Early stopping.\n",
      "\n",
      "[Fold 3]\n",
      "🚀 Using Word2Vec for data augmentation + under-sampling\n",
      "🔧 Augmenting label 1: 1399 → 5000 (+3601)\n",
      "🔧 Augmenting label 4: 1679 → 5000 (+3321)\n",
      "🔧 Augmenting label 6: 1738 → 5000 (+3262)\n",
      "🔧 Augmenting label 7: 2186 → 5000 (+2814)\n",
      "Label distribution after resampling:\n",
      "  label 0: 5626\n",
      "  label 1: 5000\n",
      "  label 2: 8442\n",
      "  label 3: 10770\n",
      "  label 4: 5000\n",
      "  label 5: 5578\n",
      "  label 6: 5000\n",
      "  label 7: 5000\n",
      "model is bert-base-uncased lstm\n",
      "Epoch 1/20\n"
     ]
    },
    {
     "name": "stderr",
     "output_type": "stream",
     "text": [
      "100%|██████████| 3151/3151 [04:44<00:00, 11.08it/s]\n"
     ]
    },
    {
     "name": "stdout",
     "output_type": "stream",
     "text": [
      "{'val_loss': 0.4983678631771069, 'val_accuracy': 0.8440239469745563, 'precision': 0.8511564281353313, 'recall': 0.8440239469745563, 'f1-score': 0.843744352518431, 'macro_f1-score': 0.842000683934091, 'balanced_accuracy': 0.8666287205646958, 'mcc': 0.8120066201803144, 'train_loss': 0.542273304953353}\n",
      "Epoch 2/20\n"
     ]
    },
    {
     "name": "stderr",
     "output_type": "stream",
     "text": [
      "100%|██████████| 3151/3151 [04:44<00:00, 11.09it/s]\n"
     ]
    },
    {
     "name": "stdout",
     "output_type": "stream",
     "text": [
      "{'val_loss': 0.42242500487810525, 'val_accuracy': 0.8625187085738721, 'precision': 0.8642609000473211, 'recall': 0.8625187085738721, 'f1-score': 0.8623752622080372, 'macro_f1-score': 0.8611609035229495, 'balanced_accuracy': 0.8576235241083947, 'mcc': 0.8314832289189045, 'train_loss': 0.30503257068618306}\n",
      "Epoch 3/20\n"
     ]
    },
    {
     "name": "stderr",
     "output_type": "stream",
     "text": [
      "100%|██████████| 3151/3151 [04:44<00:00, 11.09it/s]\n"
     ]
    },
    {
     "name": "stdout",
     "output_type": "stream",
     "text": [
      "{'val_loss': 0.4401214785109728, 'val_accuracy': 0.8623048963010477, 'precision': 0.8635143672692633, 'recall': 0.8623048963010477, 'f1-score': 0.862021690114313, 'macro_f1-score': 0.8545980922781506, 'balanced_accuracy': 0.8416479342356065, 'mcc': 0.830203427120733, 'train_loss': 0.21714761555614556}\n",
      "Epoch 4/20\n"
     ]
    },
    {
     "name": "stderr",
     "output_type": "stream",
     "text": [
      "100%|██████████| 3151/3151 [04:43<00:00, 11.10it/s]\n"
     ]
    },
    {
     "name": "stdout",
     "output_type": "stream",
     "text": [
      "{'val_loss': 0.4629647228962336, 'val_accuracy': 0.8645499251657045, 'precision': 0.8667438408484496, 'recall': 0.8645499251657045, 'f1-score': 0.8650036625992661, 'macro_f1-score': 0.8552091197300504, 'balanced_accuracy': 0.8701159918093866, 'mcc': 0.8338437161963056, 'train_loss': 0.15699996672603514}\n",
      "Epoch 5/20\n"
     ]
    },
    {
     "name": "stderr",
     "output_type": "stream",
     "text": [
      "100%|██████████| 3151/3151 [04:44<00:00, 11.09it/s]\n"
     ]
    },
    {
     "name": "stdout",
     "output_type": "stream",
     "text": [
      "{'val_loss': 0.5371461385120757, 'val_accuracy': 0.8609151165276887, 'precision': 0.8607975418161915, 'recall': 0.8609151165276887, 'f1-score': 0.8604829338431813, 'macro_f1-score': 0.8573676840940123, 'balanced_accuracy': 0.8512633285463563, 'mcc': 0.8285831435555029, 'train_loss': 0.12017250073430377}\n",
      "Early stopping.\n",
      "\n",
      "[Fold 4]\n",
      "🚀 Using Word2Vec for data augmentation + under-sampling\n",
      "🔧 Augmenting label 1: 1399 → 5000 (+3601)\n",
      "🔧 Augmenting label 4: 1679 → 5000 (+3321)\n",
      "🔧 Augmenting label 6: 1738 → 5000 (+3262)\n",
      "🔧 Augmenting label 7: 2186 → 5000 (+2814)\n",
      "Label distribution after resampling:\n",
      "  label 0: 5625\n",
      "  label 1: 5000\n",
      "  label 2: 8441\n",
      "  label 3: 10771\n",
      "  label 4: 5000\n",
      "  label 5: 5579\n",
      "  label 6: 5000\n",
      "  label 7: 5000\n",
      "model is bert-base-uncased lstm\n",
      "Epoch 1/20\n"
     ]
    },
    {
     "name": "stderr",
     "output_type": "stream",
     "text": [
      "100%|██████████| 3151/3151 [04:44<00:00, 11.09it/s]\n"
     ]
    },
    {
     "name": "stdout",
     "output_type": "stream",
     "text": [
      "{'val_loss': 0.47439537645659896, 'val_accuracy': 0.8403891383365405, 'precision': 0.8488714945867836, 'recall': 0.8403891383365405, 'f1-score': 0.8412973076977371, 'macro_f1-score': 0.8373873790357704, 'balanced_accuracy': 0.8560033974548247, 'mcc': 0.8061306780857423, 'train_loss': 0.5408507113781515}\n",
      "Epoch 2/20\n"
     ]
    },
    {
     "name": "stderr",
     "output_type": "stream",
     "text": [
      "100%|██████████| 3151/3151 [04:43<00:00, 11.10it/s]\n"
     ]
    },
    {
     "name": "stdout",
     "output_type": "stream",
     "text": [
      "{'val_loss': 0.4153527985653307, 'val_accuracy': 0.8602736797092153, 'precision': 0.8623423036746483, 'recall': 0.8602736797092153, 'f1-score': 0.8604824799613122, 'macro_f1-score': 0.8593297886127159, 'balanced_accuracy': 0.8608475115296716, 'mcc': 0.8286862557406451, 'train_loss': 0.29622987717578037}\n",
      "Epoch 3/20\n"
     ]
    },
    {
     "name": "stderr",
     "output_type": "stream",
     "text": [
      "100%|██████████| 3151/3151 [04:44<00:00, 11.09it/s]\n"
     ]
    },
    {
     "name": "stdout",
     "output_type": "stream",
     "text": [
      "{'val_loss': 0.5014895170369846, 'val_accuracy': 0.8597391490271542, 'precision': 0.8610103580501401, 'recall': 0.8597391490271542, 'f1-score': 0.8595808889958588, 'macro_f1-score': 0.857655752485941, 'balanced_accuracy': 0.8499728596613527, 'mcc': 0.8270630370521297, 'train_loss': 0.20178232129169046}\n",
      "Epoch 4/20\n"
     ]
    },
    {
     "name": "stderr",
     "output_type": "stream",
     "text": [
      "100%|██████████| 3151/3151 [04:43<00:00, 11.10it/s]\n"
     ]
    },
    {
     "name": "stdout",
     "output_type": "stream",
     "text": [
      "{'val_loss': 0.5258594399254419, 'val_accuracy': 0.8530040624331837, 'precision': 0.855625903917767, 'recall': 0.8530040624331837, 'f1-score': 0.8528221505013783, 'macro_f1-score': 0.8508462989060861, 'balanced_accuracy': 0.8630681183609454, 'mcc': 0.8207498380026613, 'train_loss': 0.14463258768601497}\n",
      "Epoch 5/20\n"
     ]
    },
    {
     "name": "stderr",
     "output_type": "stream",
     "text": [
      "100%|██████████| 3151/3151 [04:44<00:00, 11.08it/s]\n"
     ]
    },
    {
     "name": "stdout",
     "output_type": "stream",
     "text": [
      "{'val_loss': 0.5711875863277759, 'val_accuracy': 0.8566388710711995, 'precision': 0.8577960826420532, 'recall': 0.8566388710711995, 'f1-score': 0.8564160831314581, 'macro_f1-score': 0.8549270098253146, 'balanced_accuracy': 0.8547194425814204, 'mcc': 0.82384819879806, 'train_loss': 0.1088445622690308}\n",
      "Early stopping.\n",
      "\n",
      "[Fold 5]\n",
      "🚀 Using Word2Vec for data augmentation + under-sampling\n",
      "🔧 Augmenting label 1: 1399 → 5000 (+3601)\n",
      "🔧 Augmenting label 4: 1678 → 5000 (+3322)\n",
      "🔧 Augmenting label 6: 1738 → 5000 (+3262)\n",
      "🔧 Augmenting label 7: 2187 → 5000 (+2813)\n",
      "Label distribution after resampling:\n",
      "  label 0: 5625\n",
      "  label 1: 5000\n",
      "  label 2: 8441\n",
      "  label 3: 10771\n",
      "  label 4: 5000\n",
      "  label 5: 5579\n",
      "  label 6: 5000\n",
      "  label 7: 5000\n",
      "model is bert-base-uncased lstm\n",
      "Epoch 1/20\n"
     ]
    },
    {
     "name": "stderr",
     "output_type": "stream",
     "text": [
      "100%|██████████| 3151/3151 [04:43<00:00, 11.10it/s]\n"
     ]
    },
    {
     "name": "stdout",
     "output_type": "stream",
     "text": [
      "{'val_loss': 0.44916617751567284, 'val_accuracy': 0.8424203549283729, 'precision': 0.8479467145232584, 'recall': 0.8424203549283729, 'f1-score': 0.8432761634025759, 'macro_f1-score': 0.8423938991017219, 'balanced_accuracy': 0.8538045176441057, 'mcc': 0.8068210667989024, 'train_loss': 0.5344546495944791}\n",
      "Epoch 2/20\n"
     ]
    },
    {
     "name": "stderr",
     "output_type": "stream",
     "text": [
      "100%|██████████| 3151/3151 [04:43<00:00, 11.11it/s]\n"
     ]
    },
    {
     "name": "stdout",
     "output_type": "stream",
     "text": [
      "{'val_loss': 0.45973270538493866, 'val_accuracy': 0.8537524053880693, 'precision': 0.8595746704059809, 'recall': 0.8537524053880693, 'f1-score': 0.8548225852614709, 'macro_f1-score': 0.8478493817501394, 'balanced_accuracy': 0.871976946192843, 'mcc': 0.8219880372556402, 'train_loss': 0.29805829769585035}\n",
      "Epoch 3/20\n"
     ]
    },
    {
     "name": "stderr",
     "output_type": "stream",
     "text": [
      "100%|██████████| 3151/3151 [04:44<00:00, 11.08it/s]\n"
     ]
    },
    {
     "name": "stdout",
     "output_type": "stream",
     "text": [
      "{'val_loss': 0.523087296453424, 'val_accuracy': 0.8500106906136412, 'precision': 0.8558530935321021, 'recall': 0.8500106906136412, 'f1-score': 0.8505262908714554, 'macro_f1-score': 0.8456493229457345, 'balanced_accuracy': 0.8447415292312698, 'mcc': 0.8166053335324247, 'train_loss': 0.20489170207910687}\n",
      "Epoch 4/20\n"
     ]
    },
    {
     "name": "stderr",
     "output_type": "stream",
     "text": [
      "100%|██████████| 3151/3151 [04:43<00:00, 11.10it/s]\n"
     ]
    },
    {
     "name": "stdout",
     "output_type": "stream",
     "text": [
      "{'val_loss': 0.5428746009372876, 'val_accuracy': 0.8514004703870002, 'precision': 0.8537918981355452, 'recall': 0.8514004703870002, 'f1-score': 0.8520648088599807, 'macro_f1-score': 0.8495794906092853, 'balanced_accuracy': 0.8568693788715964, 'mcc': 0.8175458363709384, 'train_loss': 0.14760214334608876}\n",
      "Epoch 5/20\n"
     ]
    },
    {
     "name": "stderr",
     "output_type": "stream",
     "text": [
      "100%|██████████| 3151/3151 [04:44<00:00, 11.09it/s]\n"
     ]
    },
    {
     "name": "stdout",
     "output_type": "stream",
     "text": [
      "{'val_loss': 0.5686634491341045, 'val_accuracy': 0.8548214667521916, 'precision': 0.8573020257530533, 'recall': 0.8548214667521916, 'f1-score': 0.855415386777115, 'macro_f1-score': 0.8513630743946703, 'balanced_accuracy': 0.8632336080247288, 'mcc': 0.8219408304190926, 'train_loss': 0.11113773143097465}\n",
      "Epoch 6/20\n"
     ]
    },
    {
     "name": "stderr",
     "output_type": "stream",
     "text": [
      "100%|██████████| 3151/3151 [04:44<00:00, 11.09it/s]\n"
     ]
    },
    {
     "name": "stdout",
     "output_type": "stream",
     "text": [
      "{'val_loss': 0.6281145296627696, 'val_accuracy': 0.8548214667521916, 'precision': 0.8557262862433762, 'recall': 0.8548214667521916, 'f1-score': 0.8549624670321133, 'macro_f1-score': 0.8546609324154645, 'balanced_accuracy': 0.8492767603210116, 'mcc': 0.8212864840872379, 'train_loss': 0.09124277303186258}\n",
      "Epoch 7/20\n"
     ]
    },
    {
     "name": "stderr",
     "output_type": "stream",
     "text": [
      "100%|██████████| 3151/3151 [04:43<00:00, 11.10it/s]\n"
     ]
    },
    {
     "name": "stdout",
     "output_type": "stream",
     "text": [
      "{'val_loss': 0.7377463953949622, 'val_accuracy': 0.8448791960658542, 'precision': 0.8457199925959858, 'recall': 0.8448791960658542, 'f1-score': 0.8442738352259332, 'macro_f1-score': 0.8448697262173089, 'balanced_accuracy': 0.8537376164222972, 'mcc': 0.8099755710831293, 'train_loss': 0.07660646743506654}\n",
      "Epoch 8/20\n"
     ]
    },
    {
     "name": "stderr",
     "output_type": "stream",
     "text": [
      "100%|██████████| 3151/3151 [04:44<00:00, 11.09it/s]\n"
     ]
    },
    {
     "name": "stdout",
     "output_type": "stream",
     "text": [
      "{'val_loss': 0.6026032970975448, 'val_accuracy': 0.8507590335685268, 'precision': 0.8525184727849427, 'recall': 0.8507590335685268, 'f1-score': 0.8510771424036019, 'macro_f1-score': 0.8515230878478225, 'balanced_accuracy': 0.8493773065999428, 'mcc': 0.8165332927021209, 'train_loss': 0.06949777538711262}\n",
      "Epoch 9/20\n"
     ]
    },
    {
     "name": "stderr",
     "output_type": "stream",
     "text": [
      "100%|██████████| 3151/3151 [04:43<00:00, 11.11it/s]\n"
     ]
    },
    {
     "name": "stdout",
     "output_type": "stream",
     "text": [
      "{'val_loss': 0.740499795298291, 'val_accuracy': 0.8527902501603593, 'precision': 0.8547010624361576, 'recall': 0.8527902501603593, 'f1-score': 0.8532216447532899, 'macro_f1-score': 0.851616402483627, 'balanced_accuracy': 0.8542174181842668, 'mcc': 0.8187874236127881, 'train_loss': 0.06389494285294689}\n",
      "Early stopping.\n",
      "\n",
      " === bert-base-uncased + lstm + word2vec Final 5-fold Cross-Validation Results ===\n",
      "val_loss: 0.4780\n",
      "val_accuracy: 0.8573\n",
      "precision: 0.8594\n",
      "recall: 0.8573\n",
      "f1-score: 0.8575\n",
      "macro_f1-score: 0.8569\n",
      "balanced_accuracy: 0.8568\n",
      "mcc: 0.8249\n",
      "train_loss: 0.2377\n",
      "total_seconds: 9286.0000\n",
      "total_time: 2 hrs 34 mins 46 secs\n",
      "▶ Running: bert-base-uncased + bilstm + word2vec\n",
      "tokenizer is bert-base-uncased\n",
      "Using device: cuda\n",
      "CUDA Available: True\n",
      "CUDA Device: NVIDIA GeForce RTX 5070 Ti\n",
      "Current GPU Memory Allocated: 0.02 GB\n",
      "Current GPU Memory Cached: 3.14 GB\n",
      "\n",
      "[Fold 1]\n",
      "🚀 Using Word2Vec for data augmentation + under-sampling\n",
      "🔧 Augmenting label 1: 1399 → 5000 (+3601)\n",
      "🔧 Augmenting label 4: 1678 → 5000 (+3322)\n",
      "🔧 Augmenting label 6: 1737 → 5000 (+3263)\n",
      "🔧 Augmenting label 7: 2187 → 5000 (+2813)\n",
      "Label distribution after resampling:\n",
      "  label 0: 5626\n",
      "  label 1: 5000\n",
      "  label 2: 8442\n",
      "  label 3: 10770\n",
      "  label 4: 5000\n",
      "  label 5: 5578\n",
      "  label 6: 5000\n",
      "  label 7: 5000\n",
      "model is bert-base-uncased bilstm\n",
      "Epoch 1/20\n"
     ]
    },
    {
     "name": "stderr",
     "output_type": "stream",
     "text": [
      "100%|██████████| 3151/3151 [04:53<00:00, 10.75it/s]\n"
     ]
    },
    {
     "name": "stdout",
     "output_type": "stream",
     "text": [
      "{'val_loss': 0.45989537147375253, 'val_accuracy': 0.8410475681453768, 'precision': 0.8505181608232136, 'recall': 0.8410475681453768, 'f1-score': 0.8421998966447453, 'macro_f1-score': 0.8355639455988105, 'balanced_accuracy': 0.8566135931808819, 'mcc': 0.8076178494173776, 'train_loss': 0.5284956992027193}\n",
      "Epoch 2/20\n"
     ]
    },
    {
     "name": "stderr",
     "output_type": "stream",
     "text": [
      "100%|██████████| 3151/3151 [04:52<00:00, 10.78it/s]\n"
     ]
    },
    {
     "name": "stdout",
     "output_type": "stream",
     "text": [
      "{'val_loss': 0.43090369298608383, 'val_accuracy': 0.8598610368786745, 'precision': 0.8638544219177371, 'recall': 0.8598610368786745, 'f1-score': 0.8604233389830623, 'macro_f1-score': 0.8562734722760539, 'balanced_accuracy': 0.8696152460405783, 'mcc': 0.8286668379735588, 'train_loss': 0.29376870972733626}\n",
      "Epoch 3/20\n"
     ]
    },
    {
     "name": "stderr",
     "output_type": "stream",
     "text": [
      "100%|██████████| 3151/3151 [04:52<00:00, 10.78it/s]\n"
     ]
    },
    {
     "name": "stdout",
     "output_type": "stream",
     "text": [
      "{'val_loss': 0.41035967726801703, 'val_accuracy': 0.8701229289150187, 'precision': 0.8702363769426157, 'recall': 0.8701229289150187, 'f1-score': 0.8701187262026513, 'macro_f1-score': 0.8648287728921797, 'balanced_accuracy': 0.8639276018179864, 'mcc': 0.8401640268957051, 'train_loss': 0.20553017312469288}\n",
      "Epoch 4/20\n"
     ]
    },
    {
     "name": "stderr",
     "output_type": "stream",
     "text": [
      "100%|██████████| 3151/3151 [04:52<00:00, 10.78it/s]\n"
     ]
    },
    {
     "name": "stdout",
     "output_type": "stream",
     "text": [
      "{'val_loss': 0.48106746117337645, 'val_accuracy': 0.8567610903260289, 'precision': 0.8599317833528093, 'recall': 0.8567610903260289, 'f1-score': 0.8565255805162882, 'macro_f1-score': 0.8524783335978777, 'balanced_accuracy': 0.8633915575648166, 'mcc': 0.8257189810956501, 'train_loss': 0.14239792751579275}\n",
      "Epoch 5/20\n"
     ]
    },
    {
     "name": "stderr",
     "output_type": "stream",
     "text": [
      "100%|██████████| 3151/3151 [04:52<00:00, 10.79it/s]\n"
     ]
    },
    {
     "name": "stdout",
     "output_type": "stream",
     "text": [
      "{'val_loss': 0.5454171396867555, 'val_accuracy': 0.863281667557456, 'precision': 0.8643253956960909, 'recall': 0.863281667557456, 'f1-score': 0.8631402535775646, 'macro_f1-score': 0.8617018891184707, 'balanced_accuracy': 0.8664956012112204, 'mcc': 0.8324926993801299, 'train_loss': 0.10432509141162828}\n",
      "Epoch 6/20\n"
     ]
    },
    {
     "name": "stderr",
     "output_type": "stream",
     "text": [
      "100%|██████████| 3151/3151 [04:52<00:00, 10.79it/s]\n"
     ]
    },
    {
     "name": "stdout",
     "output_type": "stream",
     "text": [
      "{'val_loss': 0.5883079550266823, 'val_accuracy': 0.8609299839657937, 'precision': 0.8625654666589371, 'recall': 0.8609299839657937, 'f1-score': 0.8610720954289106, 'macro_f1-score': 0.85593478424976, 'balanced_accuracy': 0.8497581785730494, 'mcc': 0.8285453365922347, 'train_loss': 0.08175657107372851}\n",
      "Early stopping.\n",
      "\n",
      "[Fold 2]\n",
      "🚀 Using Word2Vec for data augmentation + under-sampling\n",
      "🔧 Augmenting label 1: 1400 → 5000 (+3600)\n",
      "🔧 Augmenting label 4: 1678 → 5000 (+3322)\n",
      "🔧 Augmenting label 6: 1737 → 5000 (+3263)\n",
      "🔧 Augmenting label 7: 2186 → 5000 (+2814)\n",
      "Label distribution after resampling:\n",
      "  label 0: 5626\n",
      "  label 1: 5000\n",
      "  label 2: 8442\n",
      "  label 3: 10770\n",
      "  label 4: 5000\n",
      "  label 5: 5578\n",
      "  label 6: 5000\n",
      "  label 7: 5000\n",
      "model is bert-base-uncased bilstm\n",
      "Epoch 1/20\n"
     ]
    },
    {
     "name": "stderr",
     "output_type": "stream",
     "text": [
      "100%|██████████| 3151/3151 [04:52<00:00, 10.79it/s]\n"
     ]
    },
    {
     "name": "stdout",
     "output_type": "stream",
     "text": [
      "{'val_loss': 0.49690669688404115, 'val_accuracy': 0.8361304115446285, 'precision': 0.8382972767527475, 'recall': 0.8361304115446285, 'f1-score': 0.8356075954713544, 'macro_f1-score': 0.8344237319660954, 'balanced_accuracy': 0.8478889038594382, 'mcc': 0.7997963162171515, 'train_loss': 0.5245098808472335}\n",
      "Epoch 2/20\n"
     ]
    },
    {
     "name": "stderr",
     "output_type": "stream",
     "text": [
      "100%|██████████| 3151/3151 [04:52<00:00, 10.79it/s]\n"
     ]
    },
    {
     "name": "stdout",
     "output_type": "stream",
     "text": [
      "{'val_loss': 0.45037966645999344, 'val_accuracy': 0.8495991448423303, 'precision': 0.8521373095826291, 'recall': 0.8495991448423303, 'f1-score': 0.8493331721298355, 'macro_f1-score': 0.8480678974670357, 'balanced_accuracy': 0.8707641928154388, 'mcc': 0.8170775804571269, 'train_loss': 0.2869291808680811}\n",
      "Epoch 3/20\n"
     ]
    },
    {
     "name": "stderr",
     "output_type": "stream",
     "text": [
      "100%|██████████| 3151/3151 [04:52<00:00, 10.78it/s]\n"
     ]
    },
    {
     "name": "stdout",
     "output_type": "stream",
     "text": [
      "{'val_loss': 0.49057789959300024, 'val_accuracy': 0.850026723677178, 'precision': 0.8518893964532382, 'recall': 0.850026723677178, 'f1-score': 0.849956596611912, 'macro_f1-score': 0.8499987711723014, 'balanced_accuracy': 0.864287460807489, 'mcc': 0.8167437799820256, 'train_loss': 0.19423507829883938}\n",
      "Epoch 4/20\n"
     ]
    },
    {
     "name": "stderr",
     "output_type": "stream",
     "text": [
      "100%|██████████| 3151/3151 [04:52<00:00, 10.78it/s]\n"
     ]
    },
    {
     "name": "stdout",
     "output_type": "stream",
     "text": [
      "{'val_loss': 0.5682481318584874, 'val_accuracy': 0.8482095136290754, 'precision': 0.8520601674272582, 'recall': 0.8482095136290754, 'f1-score': 0.8476066659161137, 'macro_f1-score': 0.8477235915381776, 'balanced_accuracy': 0.8595226806733725, 'mcc': 0.8152879948501486, 'train_loss': 0.1339533692075076}\n",
      "Epoch 5/20\n"
     ]
    },
    {
     "name": "stderr",
     "output_type": "stream",
     "text": [
      "100%|██████████| 3151/3151 [04:52<00:00, 10.78it/s]\n"
     ]
    },
    {
     "name": "stdout",
     "output_type": "stream",
     "text": [
      "{'val_loss': 0.5758200305728958, 'val_accuracy': 0.8529128808123998, 'precision': 0.8544804580500868, 'recall': 0.8529128808123998, 'f1-score': 0.8531503336032329, 'macro_f1-score': 0.8527292051411121, 'balanced_accuracy': 0.8629049862027525, 'mcc': 0.8196709501297352, 'train_loss': 0.09908456324572491}\n",
      "Epoch 6/20\n"
     ]
    },
    {
     "name": "stderr",
     "output_type": "stream",
     "text": [
      "100%|██████████| 3151/3151 [04:52<00:00, 10.76it/s]\n"
     ]
    },
    {
     "name": "stdout",
     "output_type": "stream",
     "text": [
      "{'val_loss': 0.6120283504211718, 'val_accuracy': 0.8509887760555852, 'precision': 0.8527497143745917, 'recall': 0.8509887760555852, 'f1-score': 0.8507149604746238, 'macro_f1-score': 0.848398568048849, 'balanced_accuracy': 0.850526857141533, 'mcc': 0.8168634238307882, 'train_loss': 0.08241592866078348}\n",
      "Epoch 7/20\n"
     ]
    },
    {
     "name": "stderr",
     "output_type": "stream",
     "text": [
      "100%|██████████| 3151/3151 [04:52<00:00, 10.79it/s]\n"
     ]
    },
    {
     "name": "stdout",
     "output_type": "stream",
     "text": [
      "{'val_loss': 0.7756507999078633, 'val_accuracy': 0.8458578300374131, 'precision': 0.8480082049644122, 'recall': 0.8458578300374131, 'f1-score': 0.8453574044457892, 'macro_f1-score': 0.842842819030253, 'balanced_accuracy': 0.8555539955576272, 'mcc': 0.8115830675265965, 'train_loss': 0.07145509669552115}\n",
      "Epoch 8/20\n"
     ]
    },
    {
     "name": "stderr",
     "output_type": "stream",
     "text": [
      "100%|██████████| 3151/3151 [04:52<00:00, 10.77it/s]\n"
     ]
    },
    {
     "name": "stdout",
     "output_type": "stream",
     "text": [
      "{'val_loss': 0.6877697214991666, 'val_accuracy': 0.8485301977552111, 'precision': 0.8541815651908842, 'recall': 0.8485301977552111, 'f1-score': 0.849053439705479, 'macro_f1-score': 0.8500782791141228, 'balanced_accuracy': 0.8257928685817626, 'mcc': 0.8130612250416609, 'train_loss': 0.05843930750319142}\n",
      "Early stopping.\n",
      "\n",
      "[Fold 3]\n",
      "🚀 Using Word2Vec for data augmentation + under-sampling\n",
      "🔧 Augmenting label 1: 1399 → 5000 (+3601)\n",
      "🔧 Augmenting label 4: 1679 → 5000 (+3321)\n",
      "🔧 Augmenting label 6: 1738 → 5000 (+3262)\n",
      "🔧 Augmenting label 7: 2186 → 5000 (+2814)\n",
      "Label distribution after resampling:\n",
      "  label 0: 5626\n",
      "  label 1: 5000\n",
      "  label 2: 8442\n",
      "  label 3: 10770\n",
      "  label 4: 5000\n",
      "  label 5: 5578\n",
      "  label 6: 5000\n",
      "  label 7: 5000\n",
      "model is bert-base-uncased bilstm\n",
      "Epoch 1/20\n"
     ]
    },
    {
     "name": "stderr",
     "output_type": "stream",
     "text": [
      "100%|██████████| 3151/3151 [04:52<00:00, 10.76it/s]\n"
     ]
    },
    {
     "name": "stdout",
     "output_type": "stream",
     "text": [
      "{'val_loss': 0.44700479473377397, 'val_accuracy': 0.8472311310669233, 'precision': 0.8531651820721988, 'recall': 0.8472311310669233, 'f1-score': 0.8471618710414677, 'macro_f1-score': 0.8455735023016948, 'balanced_accuracy': 0.8583475865626435, 'mcc': 0.8133798173542565, 'train_loss': 0.5338662202487443}\n",
      "Epoch 2/20\n"
     ]
    },
    {
     "name": "stderr",
     "output_type": "stream",
     "text": [
      "100%|██████████| 3151/3151 [04:52<00:00, 10.79it/s]\n"
     ]
    },
    {
     "name": "stdout",
     "output_type": "stream",
     "text": [
      "{'val_loss': 0.4282165154002798, 'val_accuracy': 0.8585631815266196, 'precision': 0.8618600387707098, 'recall': 0.8585631815266196, 'f1-score': 0.8587279178676553, 'macro_f1-score': 0.856682600488907, 'balanced_accuracy': 0.8707470220775286, 'mcc': 0.8273743943420344, 'train_loss': 0.29037806021758383}\n",
      "Epoch 3/20\n"
     ]
    },
    {
     "name": "stderr",
     "output_type": "stream",
     "text": [
      "100%|██████████| 3151/3151 [04:51<00:00, 10.79it/s]\n"
     ]
    },
    {
     "name": "stdout",
     "output_type": "stream",
     "text": [
      "{'val_loss': 0.48809893939198334, 'val_accuracy': 0.8549283728886038, 'precision': 0.8603160923410328, 'recall': 0.8549283728886038, 'f1-score': 0.8547288641693973, 'macro_f1-score': 0.8575189386654419, 'balanced_accuracy': 0.8511011050744429, 'mcc': 0.8230012654038632, 'train_loss': 0.19837342719605086}\n",
      "Epoch 4/20\n"
     ]
    },
    {
     "name": "stderr",
     "output_type": "stream",
     "text": [
      "100%|██████████| 3151/3151 [04:52<00:00, 10.78it/s]\n"
     ]
    },
    {
     "name": "stdout",
     "output_type": "stream",
     "text": [
      "{'val_loss': 0.5258619517207337, 'val_accuracy': 0.8477656617489844, 'precision': 0.8556684476101258, 'recall': 0.8477656617489844, 'f1-score': 0.8476561413612894, 'macro_f1-score': 0.8510977820925599, 'balanced_accuracy': 0.8423632241124278, 'mcc': 0.815043021159584, 'train_loss': 0.14023536865990188}\n",
      "Epoch 5/20\n"
     ]
    },
    {
     "name": "stderr",
     "output_type": "stream",
     "text": [
      "100%|██████████| 3151/3151 [04:52<00:00, 10.79it/s]\n"
     ]
    },
    {
     "name": "stdout",
     "output_type": "stream",
     "text": [
      "{'val_loss': 0.5734052037945591, 'val_accuracy': 0.8628394269831088, 'precision': 0.8647204396837569, 'recall': 0.8628394269831088, 'f1-score': 0.8630382369568529, 'macro_f1-score': 0.8567488886211725, 'balanced_accuracy': 0.8699058889331732, 'mcc': 0.831680411040853, 'train_loss': 0.10233424776367475}\n",
      "Epoch 6/20\n"
     ]
    },
    {
     "name": "stderr",
     "output_type": "stream",
     "text": [
      "100%|██████████| 3151/3151 [04:52<00:00, 10.79it/s]\n"
     ]
    },
    {
     "name": "stdout",
     "output_type": "stream",
     "text": [
      "{'val_loss': 0.5467683477637668, 'val_accuracy': 0.8625187085738721, 'precision': 0.8656530839072424, 'recall': 0.8625187085738721, 'f1-score': 0.8622087333679708, 'macro_f1-score': 0.8621492862037943, 'balanced_accuracy': 0.8565165756987446, 'mcc': 0.8306984366564689, 'train_loss': 0.08054411415859256}\n",
      "Epoch 7/20\n"
     ]
    },
    {
     "name": "stderr",
     "output_type": "stream",
     "text": [
      "100%|██████████| 3151/3151 [04:52<00:00, 10.79it/s]\n"
     ]
    },
    {
     "name": "stdout",
     "output_type": "stream",
     "text": [
      "{'val_loss': 0.5849374000257693, 'val_accuracy': 0.8667949540303613, 'precision': 0.8675694203369684, 'recall': 0.8667949540303613, 'f1-score': 0.866888398413075, 'macro_f1-score': 0.8622574694700625, 'balanced_accuracy': 0.8729372745763666, 'mcc': 0.8365686537168335, 'train_loss': 0.06710867624681768}\n",
      "Epoch 8/20\n"
     ]
    },
    {
     "name": "stderr",
     "output_type": "stream",
     "text": [
      "100%|██████████| 3151/3151 [04:52<00:00, 10.78it/s]\n"
     ]
    },
    {
     "name": "stdout",
     "output_type": "stream",
     "text": [
      "{'val_loss': 0.6402241333644503, 'val_accuracy': 0.8600598674363908, 'precision': 0.8607893082073405, 'recall': 0.8600598674363908, 'f1-score': 0.8601636149140449, 'macro_f1-score': 0.8575109551620386, 'balanced_accuracy': 0.8575024883215179, 'mcc': 0.8277877268208119, 'train_loss': 0.05667004626740411}\n",
      "Epoch 9/20\n"
     ]
    },
    {
     "name": "stderr",
     "output_type": "stream",
     "text": [
      "100%|██████████| 3151/3151 [04:51<00:00, 10.80it/s]\n"
     ]
    },
    {
     "name": "stdout",
     "output_type": "stream",
     "text": [
      "{'val_loss': 0.6549514902136726, 'val_accuracy': 0.8604874919820398, 'precision': 0.860899859369101, 'recall': 0.8604874919820398, 'f1-score': 0.8601455518322055, 'macro_f1-score': 0.8584042445411808, 'balanced_accuracy': 0.860637792141173, 'mcc': 0.828658599382901, 'train_loss': 0.05138567598566426}\n",
      "Epoch 10/20\n"
     ]
    },
    {
     "name": "stderr",
     "output_type": "stream",
     "text": [
      "100%|██████████| 3151/3151 [04:51<00:00, 10.80it/s]\n"
     ]
    },
    {
     "name": "stdout",
     "output_type": "stream",
     "text": [
      "{'val_loss': 0.6694986279524513, 'val_accuracy': 0.8574941201624974, 'precision': 0.8590922695323491, 'recall': 0.8574941201624974, 'f1-score': 0.8578819651873533, 'macro_f1-score': 0.8536437232445042, 'balanced_accuracy': 0.8619295904523601, 'mcc': 0.8249022065331285, 'train_loss': 0.05150012249281537}\n",
      "Early stopping.\n",
      "\n",
      "[Fold 4]\n",
      "🚀 Using Word2Vec for data augmentation + under-sampling\n",
      "🔧 Augmenting label 1: 1399 → 5000 (+3601)\n",
      "🔧 Augmenting label 4: 1679 → 5000 (+3321)\n",
      "🔧 Augmenting label 6: 1738 → 5000 (+3262)\n",
      "🔧 Augmenting label 7: 2186 → 5000 (+2814)\n",
      "Label distribution after resampling:\n",
      "  label 0: 5625\n",
      "  label 1: 5000\n",
      "  label 2: 8441\n",
      "  label 3: 10771\n",
      "  label 4: 5000\n",
      "  label 5: 5579\n",
      "  label 6: 5000\n",
      "  label 7: 5000\n",
      "model is bert-base-uncased bilstm\n",
      "Epoch 1/20\n"
     ]
    },
    {
     "name": "stderr",
     "output_type": "stream",
     "text": [
      "100%|██████████| 3151/3151 [04:52<00:00, 10.77it/s]\n"
     ]
    },
    {
     "name": "stdout",
     "output_type": "stream",
     "text": [
      "{'val_loss': 0.45454931504642354, 'val_accuracy': 0.8456275390207398, 'precision': 0.8481001797172194, 'recall': 0.8456275390207398, 'f1-score': 0.8453920733905081, 'macro_f1-score': 0.8413319763441773, 'balanced_accuracy': 0.8638169192879435, 'mcc': 0.8119546247833798, 'train_loss': 0.5376493203055004}\n",
      "Epoch 2/20\n"
     ]
    },
    {
     "name": "stderr",
     "output_type": "stream",
     "text": [
      "100%|██████████| 3151/3151 [04:52<00:00, 10.78it/s]\n"
     ]
    },
    {
     "name": "stdout",
     "output_type": "stream",
     "text": [
      "{'val_loss': 0.4268208424282125, 'val_accuracy': 0.8557836219799017, 'precision': 0.8567314821820843, 'recall': 0.8557836219799017, 'f1-score': 0.8555569321863052, 'macro_f1-score': 0.8551546762572204, 'balanced_accuracy': 0.8535928472435458, 'mcc': 0.8227814552746521, 'train_loss': 0.2981624189865935}\n",
      "Epoch 3/20\n"
     ]
    },
    {
     "name": "stderr",
     "output_type": "stream",
     "text": [
      "100%|██████████| 3151/3151 [04:52<00:00, 10.78it/s]\n"
     ]
    },
    {
     "name": "stdout",
     "output_type": "stream",
     "text": [
      "{'val_loss': 0.4564541650004685, 'val_accuracy': 0.8644430190292923, 'precision': 0.8661256785691595, 'recall': 0.8644430190292923, 'f1-score': 0.8646384757667415, 'macro_f1-score': 0.861776142750507, 'balanced_accuracy': 0.8646549842272706, 'mcc': 0.8333136311301688, 'train_loss': 0.20203468694668753}\n",
      "Epoch 4/20\n"
     ]
    },
    {
     "name": "stderr",
     "output_type": "stream",
     "text": [
      "100%|██████████| 3151/3151 [04:52<00:00, 10.79it/s]\n"
     ]
    },
    {
     "name": "stdout",
     "output_type": "stream",
     "text": [
      "{'val_loss': 0.5006953190017142, 'val_accuracy': 0.8609151165276887, 'precision': 0.8628027002663947, 'recall': 0.8609151165276887, 'f1-score': 0.8608949456628716, 'macro_f1-score': 0.8593642624071887, 'balanced_accuracy': 0.8576613667127462, 'mcc': 0.8288453176562351, 'train_loss': 0.1427722845910905}\n",
      "Epoch 5/20\n"
     ]
    },
    {
     "name": "stderr",
     "output_type": "stream",
     "text": [
      "100%|██████████| 3151/3151 [04:52<00:00, 10.77it/s]\n"
     ]
    },
    {
     "name": "stdout",
     "output_type": "stream",
     "text": [
      "{'val_loss': 0.5792988905221479, 'val_accuracy': 0.8574941201624974, 'precision': 0.8583390965110391, 'recall': 0.8574941201624974, 'f1-score': 0.8573770844105343, 'macro_f1-score': 0.8590223824182206, 'balanced_accuracy': 0.8530023952202099, 'mcc': 0.8247927885826771, 'train_loss': 0.10732027653738341}\n",
      "Epoch 6/20\n"
     ]
    },
    {
     "name": "stderr",
     "output_type": "stream",
     "text": [
      "100%|██████████| 3151/3151 [04:51<00:00, 10.80it/s]\n"
     ]
    },
    {
     "name": "stdout",
     "output_type": "stream",
     "text": [
      "{'val_loss': 0.6268003877817502, 'val_accuracy': 0.8541800299337182, 'precision': 0.8556526736750449, 'recall': 0.8541800299337182, 'f1-score': 0.8540859820735839, 'macro_f1-score': 0.8531493501459768, 'balanced_accuracy': 0.8626167942282922, 'mcc': 0.8216349458885236, 'train_loss': 0.08864685451134983}\n",
      "Early stopping.\n",
      "\n",
      "[Fold 5]\n",
      "🚀 Using Word2Vec for data augmentation + under-sampling\n",
      "🔧 Augmenting label 1: 1399 → 5000 (+3601)\n",
      "🔧 Augmenting label 4: 1678 → 5000 (+3322)\n",
      "🔧 Augmenting label 6: 1738 → 5000 (+3262)\n",
      "🔧 Augmenting label 7: 2187 → 5000 (+2813)\n",
      "Label distribution after resampling:\n",
      "  label 0: 5625\n",
      "  label 1: 5000\n",
      "  label 2: 8441\n",
      "  label 3: 10771\n",
      "  label 4: 5000\n",
      "  label 5: 5579\n",
      "  label 6: 5000\n",
      "  label 7: 5000\n",
      "model is bert-base-uncased bilstm\n",
      "Epoch 1/20\n"
     ]
    },
    {
     "name": "stderr",
     "output_type": "stream",
     "text": [
      "100%|██████████| 3151/3151 [04:52<00:00, 10.78it/s]\n"
     ]
    },
    {
     "name": "stdout",
     "output_type": "stream",
     "text": [
      "{'val_loss': 0.45007367967667744, 'val_accuracy': 0.853645499251657, 'precision': 0.8571925246985651, 'recall': 0.853645499251657, 'f1-score': 0.8541472042256716, 'macro_f1-score': 0.8518211262345046, 'balanced_accuracy': 0.8549307146520444, 'mcc': 0.8203143763609362, 'train_loss': 0.527219671294358}\n",
      "Epoch 2/20\n"
     ]
    },
    {
     "name": "stderr",
     "output_type": "stream",
     "text": [
      "100%|██████████| 3151/3151 [04:52<00:00, 10.77it/s]\n"
     ]
    },
    {
     "name": "stdout",
     "output_type": "stream",
     "text": [
      "{'val_loss': 0.4588416512227721, 'val_accuracy': 0.8438101347017318, 'precision': 0.8518231675675318, 'recall': 0.8438101347017318, 'f1-score': 0.8438263467141413, 'macro_f1-score': 0.8412273601562242, 'balanced_accuracy': 0.8585060253764853, 'mcc': 0.8110875965293444, 'train_loss': 0.28947732455925607}\n",
      "Epoch 3/20\n"
     ]
    },
    {
     "name": "stderr",
     "output_type": "stream",
     "text": [
      "100%|██████████| 3151/3151 [04:52<00:00, 10.78it/s]\n"
     ]
    },
    {
     "name": "stdout",
     "output_type": "stream",
     "text": [
      "{'val_loss': 0.46946728283173256, 'val_accuracy': 0.8600598674363908, 'precision': 0.8602219791125212, 'recall': 0.8600598674363908, 'f1-score': 0.859862283245909, 'macro_f1-score': 0.8598014131907589, 'balanced_accuracy': 0.8612801540424829, 'mcc': 0.8279521140168381, 'train_loss': 0.19670971681714716}\n",
      "Epoch 4/20\n"
     ]
    },
    {
     "name": "stderr",
     "output_type": "stream",
     "text": [
      "100%|██████████| 3151/3151 [04:52<00:00, 10.79it/s]\n"
     ]
    },
    {
     "name": "stdout",
     "output_type": "stream",
     "text": [
      "{'val_loss': 0.5260271552162101, 'val_accuracy': 0.8588838999358563, 'precision': 0.8607867728832985, 'recall': 0.8588838999358563, 'f1-score': 0.8591487346771235, 'macro_f1-score': 0.8561883589044286, 'balanced_accuracy': 0.8630533495985597, 'mcc': 0.8270228952404912, 'train_loss': 0.13839898520472638}\n",
      "Epoch 5/20\n"
     ]
    },
    {
     "name": "stderr",
     "output_type": "stream",
     "text": [
      "100%|██████████| 3151/3151 [04:52<00:00, 10.77it/s]\n"
     ]
    },
    {
     "name": "stdout",
     "output_type": "stream",
     "text": [
      "{'val_loss': 0.6185311241353997, 'val_accuracy': 0.8510797519777635, 'precision': 0.8566597783081575, 'recall': 0.8510797519777635, 'f1-score': 0.8522439705826151, 'macro_f1-score': 0.8475331499265226, 'balanced_accuracy': 0.8571569330490645, 'mcc': 0.8173403866305118, 'train_loss': 0.10234758925467691}\n",
      "Epoch 6/20\n"
     ]
    },
    {
     "name": "stderr",
     "output_type": "stream",
     "text": [
      "100%|██████████| 3151/3151 [04:52<00:00, 10.77it/s]\n"
     ]
    },
    {
     "name": "stdout",
     "output_type": "stream",
     "text": [
      "{'val_loss': 0.6565777042100572, 'val_accuracy': 0.8451999144750909, 'precision': 0.8499395631491292, 'recall': 0.8451999144750909, 'f1-score': 0.8455306495423889, 'macro_f1-score': 0.8457773843990583, 'balanced_accuracy': 0.8291591763523366, 'mcc': 0.8093378029600494, 'train_loss': 0.08142096040702727}\n",
      "Early stopping.\n",
      "\n",
      " === bert-base-uncased + bilstm + word2vec Final 5-fold Cross-Validation Results ===\n",
      "val_loss: 0.4994\n",
      "val_accuracy: 0.8629\n",
      "precision: 0.8637\n",
      "recall: 0.8629\n",
      "f1-score: 0.8629\n",
      "macro_f1-score: 0.8603\n",
      "balanced_accuracy: 0.8651\n",
      "mcc: 0.8315\n",
      "train_loss: 0.1541\n",
      "total_seconds: 11451.0000\n",
      "total_time: 3 hrs 10 mins 51 secs\n",
      "▶ Running: roberta-base + plain + word2vec\n",
      "tokenizer is roberta-base\n",
      "Using device: cuda\n",
      "CUDA Available: True\n",
      "CUDA Device: NVIDIA GeForce RTX 5070 Ti\n",
      "Current GPU Memory Allocated: 0.02 GB\n",
      "Current GPU Memory Cached: 3.14 GB\n",
      "\n",
      "[Fold 1]\n",
      "🚀 Using Word2Vec for data augmentation + under-sampling\n",
      "🔧 Augmenting label 1: 1399 → 5000 (+3601)\n",
      "🔧 Augmenting label 4: 1678 → 5000 (+3322)\n",
      "🔧 Augmenting label 6: 1737 → 5000 (+3263)\n",
      "🔧 Augmenting label 7: 2187 → 5000 (+2813)\n",
      "Label distribution after resampling:\n",
      "  label 0: 5626\n",
      "  label 1: 5000\n",
      "  label 2: 8442\n",
      "  label 3: 10770\n",
      "  label 4: 5000\n",
      "  label 5: 5578\n",
      "  label 6: 5000\n",
      "  label 7: 5000\n",
      "model is roberta-base\n"
     ]
    },
    {
     "name": "stderr",
     "output_type": "stream",
     "text": [
      "Some weights of RobertaForSequenceClassification were not initialized from the model checkpoint at roberta-base and are newly initialized: ['classifier.dense.bias', 'classifier.dense.weight', 'classifier.out_proj.bias', 'classifier.out_proj.weight']\n",
      "You should probably TRAIN this model on a down-stream task to be able to use it for predictions and inference.\n"
     ]
    },
    {
     "name": "stdout",
     "output_type": "stream",
     "text": [
      "Epoch 1/20\n"
     ]
    },
    {
     "name": "stderr",
     "output_type": "stream",
     "text": [
      "100%|██████████| 3151/3151 [04:30<00:00, 11.65it/s]\n"
     ]
    },
    {
     "name": "stdout",
     "output_type": "stream",
     "text": [
      "{'val_loss': 0.5050288427844006, 'val_accuracy': 0.830358097274185, 'precision': 0.836372644364677, 'recall': 0.830358097274185, 'f1-score': 0.8310006262307763, 'macro_f1-score': 0.8228077962822451, 'balanced_accuracy': 0.856763318619655, 'mcc': 0.7940996498958869, 'train_loss': 0.5852898223764819}\n",
      "Epoch 2/20\n"
     ]
    },
    {
     "name": "stderr",
     "output_type": "stream",
     "text": [
      "100%|██████████| 3151/3151 [04:30<00:00, 11.66it/s]\n"
     ]
    },
    {
     "name": "stdout",
     "output_type": "stream",
     "text": [
      "{'val_loss': 0.47683490407294954, 'val_accuracy': 0.8451095670764297, 'precision': 0.8516105708486281, 'recall': 0.8451095670764297, 'f1-score': 0.8461869146264667, 'macro_f1-score': 0.8408511031757638, 'balanced_accuracy': 0.8647731947231949, 'mcc': 0.8115534751801294, 'train_loss': 0.3731746835015201}\n",
      "Epoch 3/20\n"
     ]
    },
    {
     "name": "stderr",
     "output_type": "stream",
     "text": [
      "100%|██████████| 3151/3151 [04:30<00:00, 11.66it/s]\n"
     ]
    },
    {
     "name": "stdout",
     "output_type": "stream",
     "text": [
      "{'val_loss': 0.486355980237325, 'val_accuracy': 0.8424371993586317, 'precision': 0.8517078632215552, 'recall': 0.8424371993586317, 'f1-score': 0.843371882137054, 'macro_f1-score': 0.8319050003945078, 'balanced_accuracy': 0.8563567987096982, 'mcc': 0.8083125620570996, 'train_loss': 0.2856292808796384}\n",
      "Epoch 4/20\n"
     ]
    },
    {
     "name": "stderr",
     "output_type": "stream",
     "text": [
      "100%|██████████| 3151/3151 [04:30<00:00, 11.66it/s]\n"
     ]
    },
    {
     "name": "stdout",
     "output_type": "stream",
     "text": [
      "{'val_loss': 0.47162833973192253, 'val_accuracy': 0.8556921432389096, 'precision': 0.8593796062985786, 'recall': 0.8556921432389096, 'f1-score': 0.855737459127023, 'macro_f1-score': 0.8510476192114187, 'balanced_accuracy': 0.8688451952336113, 'mcc': 0.8245078272069017, 'train_loss': 0.23137701086325188}\n",
      "Epoch 5/20\n"
     ]
    },
    {
     "name": "stderr",
     "output_type": "stream",
     "text": [
      "100%|██████████| 3151/3151 [04:30<00:00, 11.66it/s]\n"
     ]
    },
    {
     "name": "stdout",
     "output_type": "stream",
     "text": [
      "{'val_loss': 0.5277508869679629, 'val_accuracy': 0.8597541421699626, 'precision': 0.8626063324749658, 'recall': 0.8597541421699626, 'f1-score': 0.8598874455151077, 'macro_f1-score': 0.8499926815494843, 'balanced_accuracy': 0.8697659128230717, 'mcc': 0.8288272688954889, 'train_loss': 0.18537867315626644}\n",
      "Epoch 6/20\n"
     ]
    },
    {
     "name": "stderr",
     "output_type": "stream",
     "text": [
      "100%|██████████| 3151/3151 [04:29<00:00, 11.67it/s]\n"
     ]
    },
    {
     "name": "stdout",
     "output_type": "stream",
     "text": [
      "{'val_loss': 0.5117415348553441, 'val_accuracy': 0.8610368786745056, 'precision': 0.8646986655197068, 'recall': 0.8610368786745056, 'f1-score': 0.861321406896272, 'macro_f1-score': 0.8567697744026808, 'balanced_accuracy': 0.842964683064457, 'mcc': 0.8285434721146568, 'train_loss': 0.1548852944268982}\n",
      "Epoch 7/20\n"
     ]
    },
    {
     "name": "stderr",
     "output_type": "stream",
     "text": [
      "100%|██████████| 3151/3151 [04:29<00:00, 11.67it/s]\n"
     ]
    },
    {
     "name": "stdout",
     "output_type": "stream",
     "text": [
      "{'val_loss': 0.613513408983365, 'val_accuracy': 0.8490646712987707, 'precision': 0.8539988657254756, 'recall': 0.8490646712987707, 'f1-score': 0.84975658036915, 'macro_f1-score': 0.8363278271598006, 'balanced_accuracy': 0.8584271457839662, 'mcc': 0.8158024513413636, 'train_loss': 0.12620964785535344}\n",
      "Epoch 8/20\n"
     ]
    },
    {
     "name": "stderr",
     "output_type": "stream",
     "text": [
      "100%|██████████| 3151/3151 [04:29<00:00, 11.68it/s]\n"
     ]
    },
    {
     "name": "stdout",
     "output_type": "stream",
     "text": [
      "{'val_loss': 0.6277634722308025, 'val_accuracy': 0.8517370390165687, 'precision': 0.8557109027813028, 'recall': 0.8517370390165687, 'f1-score': 0.8516289712528013, 'macro_f1-score': 0.8452785830036829, 'balanced_accuracy': 0.8325338832536469, 'mcc': 0.8176500655072187, 'train_loss': 0.10978120733185866}\n",
      "Epoch 9/20\n"
     ]
    },
    {
     "name": "stderr",
     "output_type": "stream",
     "text": [
      "100%|██████████| 3151/3151 [04:29<00:00, 11.68it/s]\n"
     ]
    },
    {
     "name": "stdout",
     "output_type": "stream",
     "text": [
      "{'val_loss': 0.5840247381080547, 'val_accuracy': 0.8575093532870123, 'precision': 0.8589359528672513, 'recall': 0.8575093532870123, 'f1-score': 0.8575056297398019, 'macro_f1-score': 0.855618155482987, 'balanced_accuracy': 0.8578717082749007, 'mcc': 0.8254954100411737, 'train_loss': 0.09308656030571354}\n",
      "Early stopping.\n",
      "\n",
      "[Fold 2]\n",
      "🚀 Using Word2Vec for data augmentation + under-sampling\n",
      "🔧 Augmenting label 1: 1400 → 5000 (+3600)\n",
      "🔧 Augmenting label 4: 1678 → 5000 (+3322)\n",
      "🔧 Augmenting label 6: 1737 → 5000 (+3263)\n",
      "🔧 Augmenting label 7: 2186 → 5000 (+2814)\n",
      "Label distribution after resampling:\n",
      "  label 0: 5626\n",
      "  label 1: 5000\n",
      "  label 2: 8442\n",
      "  label 3: 10770\n",
      "  label 4: 5000\n",
      "  label 5: 5578\n",
      "  label 6: 5000\n",
      "  label 7: 5000\n",
      "model is roberta-base\n"
     ]
    },
    {
     "name": "stderr",
     "output_type": "stream",
     "text": [
      "Some weights of RobertaForSequenceClassification were not initialized from the model checkpoint at roberta-base and are newly initialized: ['classifier.dense.bias', 'classifier.dense.weight', 'classifier.out_proj.bias', 'classifier.out_proj.weight']\n",
      "You should probably TRAIN this model on a down-stream task to be able to use it for predictions and inference.\n"
     ]
    },
    {
     "name": "stdout",
     "output_type": "stream",
     "text": [
      "Epoch 1/20\n"
     ]
    },
    {
     "name": "stderr",
     "output_type": "stream",
     "text": [
      "100%|██████████| 3151/3151 [04:30<00:00, 11.67it/s]\n"
     ]
    },
    {
     "name": "stdout",
     "output_type": "stream",
     "text": [
      "{'val_loss': 0.5141969431319043, 'val_accuracy': 0.8253340459647247, 'precision': 0.8333563503023829, 'recall': 0.8253340459647247, 'f1-score': 0.8263701608052643, 'macro_f1-score': 0.8269128573775928, 'balanced_accuracy': 0.8519574474717061, 'mcc': 0.7883858515566621, 'train_loss': 0.5807297838871317}\n",
      "Epoch 2/20\n"
     ]
    },
    {
     "name": "stderr",
     "output_type": "stream",
     "text": [
      "100%|██████████| 3151/3151 [04:29<00:00, 11.67it/s]\n"
     ]
    },
    {
     "name": "stdout",
     "output_type": "stream",
     "text": [
      "{'val_loss': 0.48719215437642527, 'val_accuracy': 0.8402993051843933, 'precision': 0.8448689839028476, 'recall': 0.8402993051843933, 'f1-score': 0.8403754769846502, 'macro_f1-score': 0.838544373301731, 'balanced_accuracy': 0.8621975796573387, 'mcc': 0.8060883852464902, 'train_loss': 0.3651112535089415}\n",
      "Epoch 3/20\n"
     ]
    },
    {
     "name": "stderr",
     "output_type": "stream",
     "text": [
      "100%|██████████| 3151/3151 [04:29<00:00, 11.68it/s]\n"
     ]
    },
    {
     "name": "stdout",
     "output_type": "stream",
     "text": [
      "{'val_loss': 0.5364619597697106, 'val_accuracy': 0.8335649385355425, 'precision': 0.8375344517427845, 'recall': 0.8335649385355425, 'f1-score': 0.8329775490652668, 'macro_f1-score': 0.8342837782228176, 'balanced_accuracy': 0.8521240168766457, 'mcc': 0.7977330343651661, 'train_loss': 0.28018871942840656}\n",
      "Epoch 4/20\n"
     ]
    },
    {
     "name": "stderr",
     "output_type": "stream",
     "text": [
      "100%|██████████| 3151/3151 [04:30<00:00, 11.67it/s]\n"
     ]
    },
    {
     "name": "stdout",
     "output_type": "stream",
     "text": [
      "{'val_loss': 0.5112752196450646, 'val_accuracy': 0.8488508818813468, 'precision': 0.8523317616232489, 'recall': 0.8488508818813468, 'f1-score': 0.8494665940911144, 'macro_f1-score': 0.8418392549308288, 'balanced_accuracy': 0.8633958933549037, 'mcc': 0.8150855235557358, 'train_loss': 0.22207782088085223}\n",
      "Epoch 5/20\n"
     ]
    },
    {
     "name": "stderr",
     "output_type": "stream",
     "text": [
      "100%|██████████| 3151/3151 [04:29<00:00, 11.67it/s]\n"
     ]
    },
    {
     "name": "stdout",
     "output_type": "stream",
     "text": [
      "{'val_loss': 0.5548831168864655, 'val_accuracy': 0.8483164083377873, 'precision': 0.8495365602108533, 'recall': 0.8483164083377873, 'f1-score': 0.8480685801603137, 'macro_f1-score': 0.8462773019496141, 'balanced_accuracy': 0.848314721323331, 'mcc': 0.8132842163360403, 'train_loss': 0.1759317431548508}\n",
      "Epoch 6/20\n"
     ]
    },
    {
     "name": "stderr",
     "output_type": "stream",
     "text": [
      "100%|██████████| 3151/3151 [04:30<00:00, 11.67it/s]\n"
     ]
    },
    {
     "name": "stdout",
     "output_type": "stream",
     "text": [
      "{'val_loss': 0.5828520007650407, 'val_accuracy': 0.8483164083377873, 'precision': 0.8498788045588631, 'recall': 0.8483164083377873, 'f1-score': 0.8481394746530486, 'macro_f1-score': 0.8445582261282463, 'balanced_accuracy': 0.8517989606878518, 'mcc': 0.8145507913175923, 'train_loss': 0.1453993516892945}\n",
      "Epoch 7/20\n"
     ]
    },
    {
     "name": "stderr",
     "output_type": "stream",
     "text": [
      "100%|██████████| 3151/3151 [04:29<00:00, 11.67it/s]\n"
     ]
    },
    {
     "name": "stdout",
     "output_type": "stream",
     "text": [
      "{'val_loss': 0.6692690383849873, 'val_accuracy': 0.845964724746125, 'precision': 0.8496511574725564, 'recall': 0.845964724746125, 'f1-score': 0.8464184587475697, 'macro_f1-score': 0.8368586124292624, 'balanced_accuracy': 0.8586804442285313, 'mcc': 0.812077925490765, 'train_loss': 0.12529590397105814}\n",
      "Epoch 8/20\n"
     ]
    },
    {
     "name": "stderr",
     "output_type": "stream",
     "text": [
      "100%|██████████| 3151/3151 [04:30<00:00, 11.67it/s]\n"
     ]
    },
    {
     "name": "stdout",
     "output_type": "stream",
     "text": [
      "{'val_loss': 0.6284884106296186, 'val_accuracy': 0.8540887226082309, 'precision': 0.8545968928477227, 'recall': 0.8540887226082309, 'f1-score': 0.8541959410076695, 'macro_f1-score': 0.8527778183770696, 'balanced_accuracy': 0.8558764883705583, 'mcc': 0.8204807405271987, 'train_loss': 0.10471439511149883}\n",
      "Epoch 9/20\n"
     ]
    },
    {
     "name": "stderr",
     "output_type": "stream",
     "text": [
      "100%|██████████| 3151/3151 [04:29<00:00, 11.67it/s]\n"
     ]
    },
    {
     "name": "stdout",
     "output_type": "stream",
     "text": [
      "{'val_loss': 0.7411857195097046, 'val_accuracy': 0.8452164617851416, 'precision': 0.8458159303768513, 'recall': 0.8452164617851416, 'f1-score': 0.8443689443578066, 'macro_f1-score': 0.8429588472496752, 'balanced_accuracy': 0.8438563449402501, 'mcc': 0.8102709163790686, 'train_loss': 0.09028269316549925}\n",
      "Epoch 10/20\n"
     ]
    },
    {
     "name": "stderr",
     "output_type": "stream",
     "text": [
      "100%|██████████| 3151/3151 [04:30<00:00, 11.67it/s]\n"
     ]
    },
    {
     "name": "stdout",
     "output_type": "stream",
     "text": [
      "{'val_loss': 0.694785606692362, 'val_accuracy': 0.8476750400855158, 'precision': 0.8498746623551174, 'recall': 0.8476750400855158, 'f1-score': 0.8476086927976608, 'macro_f1-score': 0.8408008477273213, 'balanced_accuracy': 0.8549616315029077, 'mcc': 0.8134934090991349, 'train_loss': 0.08270773038294912}\n",
      "Epoch 11/20\n"
     ]
    },
    {
     "name": "stderr",
     "output_type": "stream",
     "text": [
      "100%|██████████| 3151/3151 [04:30<00:00, 11.67it/s]\n"
     ]
    },
    {
     "name": "stdout",
     "output_type": "stream",
     "text": [
      "{'val_loss': 0.7088325762303355, 'val_accuracy': 0.8427578834847675, 'precision': 0.8449609353814129, 'recall': 0.8427578834847675, 'f1-score': 0.8428966638292635, 'macro_f1-score': 0.8382832351287042, 'balanced_accuracy': 0.8560555860080796, 'mcc': 0.8074708306022899, 'train_loss': 0.07996046075719916}\n",
      "Early stopping.\n",
      "\n",
      "[Fold 3]\n",
      "🚀 Using Word2Vec for data augmentation + under-sampling\n",
      "🔧 Augmenting label 1: 1399 → 5000 (+3601)\n",
      "🔧 Augmenting label 4: 1679 → 5000 (+3321)\n",
      "🔧 Augmenting label 6: 1738 → 5000 (+3262)\n",
      "🔧 Augmenting label 7: 2186 → 5000 (+2814)\n",
      "Label distribution after resampling:\n",
      "  label 0: 5626\n",
      "  label 1: 5000\n",
      "  label 2: 8442\n",
      "  label 3: 10770\n",
      "  label 4: 5000\n",
      "  label 5: 5578\n",
      "  label 6: 5000\n",
      "  label 7: 5000\n",
      "model is roberta-base\n"
     ]
    },
    {
     "name": "stderr",
     "output_type": "stream",
     "text": [
      "Some weights of RobertaForSequenceClassification were not initialized from the model checkpoint at roberta-base and are newly initialized: ['classifier.dense.bias', 'classifier.dense.weight', 'classifier.out_proj.bias', 'classifier.out_proj.weight']\n",
      "You should probably TRAIN this model on a down-stream task to be able to use it for predictions and inference.\n"
     ]
    },
    {
     "name": "stdout",
     "output_type": "stream",
     "text": [
      "Epoch 1/20\n"
     ]
    },
    {
     "name": "stderr",
     "output_type": "stream",
     "text": [
      "100%|██████████| 3151/3151 [04:30<00:00, 11.66it/s]\n"
     ]
    },
    {
     "name": "stdout",
     "output_type": "stream",
     "text": [
      "{'val_loss': 0.5270758964248702, 'val_accuracy': 0.8224289074192859, 'precision': 0.8382337639380948, 'recall': 0.8224289074192859, 'f1-score': 0.8240170952490254, 'macro_f1-score': 0.8180544994708407, 'balanced_accuracy': 0.8547449003628209, 'mcc': 0.7871283112503754, 'train_loss': 0.5858925516592703}\n",
      "Epoch 2/20\n"
     ]
    },
    {
     "name": "stderr",
     "output_type": "stream",
     "text": [
      "100%|██████████| 3151/3151 [04:30<00:00, 11.67it/s]\n"
     ]
    },
    {
     "name": "stdout",
     "output_type": "stream",
     "text": [
      "{'val_loss': 0.5125944334185786, 'val_accuracy': 0.8308744921958521, 'precision': 0.8449535299258258, 'recall': 0.8308744921958521, 'f1-score': 0.8325042164694001, 'macro_f1-score': 0.8342240059940116, 'balanced_accuracy': 0.8547016471490548, 'mcc': 0.7965346586423447, 'train_loss': 0.3709726208890101}\n",
      "Epoch 3/20\n"
     ]
    },
    {
     "name": "stderr",
     "output_type": "stream",
     "text": [
      "100%|██████████| 3151/3151 [04:29<00:00, 11.67it/s]\n"
     ]
    },
    {
     "name": "stdout",
     "output_type": "stream",
     "text": [
      "{'val_loss': 0.44921822998449845, 'val_accuracy': 0.8549283728886038, 'precision': 0.8596514092154839, 'recall': 0.8549283728886038, 'f1-score': 0.8553546522879053, 'macro_f1-score': 0.8513522819760462, 'balanced_accuracy': 0.8680849892790898, 'mcc': 0.8234221500997527, 'train_loss': 0.28919687309568104}\n",
      "Epoch 4/20\n"
     ]
    },
    {
     "name": "stderr",
     "output_type": "stream",
     "text": [
      "100%|██████████| 3151/3151 [04:30<00:00, 11.67it/s]\n"
     ]
    },
    {
     "name": "stdout",
     "output_type": "stream",
     "text": [
      "{'val_loss': 0.4757623821401443, 'val_accuracy': 0.8577079324353218, 'precision': 0.8609654964140224, 'recall': 0.8577079324353218, 'f1-score': 0.8581171729859858, 'macro_f1-score': 0.8543606700474884, 'balanced_accuracy': 0.8674904490677406, 'mcc': 0.8262141811376122, 'train_loss': 0.22863883038723243}\n",
      "Epoch 5/20\n"
     ]
    },
    {
     "name": "stderr",
     "output_type": "stream",
     "text": [
      "100%|██████████| 3151/3151 [04:30<00:00, 11.66it/s]\n"
     ]
    },
    {
     "name": "stdout",
     "output_type": "stream",
     "text": [
      "{'val_loss': 0.48159691914438435, 'val_accuracy': 0.8541800299337182, 'precision': 0.8572784140952043, 'recall': 0.8541800299337182, 'f1-score': 0.8541289840495693, 'macro_f1-score': 0.8517664319968152, 'balanced_accuracy': 0.8515983313614262, 'mcc': 0.8216376036358637, 'train_loss': 0.19126185223738618}\n",
      "Epoch 6/20\n"
     ]
    },
    {
     "name": "stderr",
     "output_type": "stream",
     "text": [
      "100%|██████████| 3151/3151 [04:30<00:00, 11.66it/s]\n"
     ]
    },
    {
     "name": "stdout",
     "output_type": "stream",
     "text": [
      "{'val_loss': 0.46496680235713084, 'val_accuracy': 0.8683985460765448, 'precision': 0.8692466883376662, 'recall': 0.8683985460765448, 'f1-score': 0.8681935393967702, 'macro_f1-score': 0.8663583822471347, 'balanced_accuracy': 0.8664684902444186, 'mcc': 0.8386068109892783, 'train_loss': 0.1525969115126614}\n",
      "Epoch 7/20\n"
     ]
    },
    {
     "name": "stderr",
     "output_type": "stream",
     "text": [
      "100%|██████████| 3151/3151 [04:30<00:00, 11.66it/s]\n"
     ]
    },
    {
     "name": "stdout",
     "output_type": "stream",
     "text": [
      "{'val_loss': 0.5175480470443383, 'val_accuracy': 0.8632670515287577, 'precision': 0.8643422686851575, 'recall': 0.8632670515287577, 'f1-score': 0.8635783139200254, 'macro_f1-score': 0.8574300791297074, 'balanced_accuracy': 0.860660242757057, 'mcc': 0.8317824354662423, 'train_loss': 0.12720022230521105}\n",
      "Epoch 8/20\n"
     ]
    },
    {
     "name": "stderr",
     "output_type": "stream",
     "text": [
      "100%|██████████| 3151/3151 [04:29<00:00, 11.67it/s]\n"
     ]
    },
    {
     "name": "stdout",
     "output_type": "stream",
     "text": [
      "{'val_loss': 0.5486142967771898, 'val_accuracy': 0.8584562753902074, 'precision': 0.8618259776310998, 'recall': 0.8584562753902074, 'f1-score': 0.8586579472991605, 'macro_f1-score': 0.8555986362710979, 'balanced_accuracy': 0.870130075407131, 'mcc': 0.827400949366651, 'train_loss': 0.11161971915370224}\n",
      "Epoch 9/20\n"
     ]
    },
    {
     "name": "stderr",
     "output_type": "stream",
     "text": [
      "100%|██████████| 3151/3151 [04:30<00:00, 11.66it/s]\n"
     ]
    },
    {
     "name": "stdout",
     "output_type": "stream",
     "text": [
      "{'val_loss': 0.5872437561223379, 'val_accuracy': 0.8615565533461621, 'precision': 0.8655050722000477, 'recall': 0.8615565533461621, 'f1-score': 0.8624046780571359, 'macro_f1-score': 0.8554437762627155, 'balanced_accuracy': 0.8744070065553384, 'mcc': 0.8305396960828955, 'train_loss': 0.09736377433370515}\n",
      "Early stopping.\n",
      "\n",
      "[Fold 4]\n",
      "🚀 Using Word2Vec for data augmentation + under-sampling\n",
      "🔧 Augmenting label 1: 1399 → 5000 (+3601)\n",
      "🔧 Augmenting label 4: 1679 → 5000 (+3321)\n",
      "🔧 Augmenting label 6: 1738 → 5000 (+3262)\n",
      "🔧 Augmenting label 7: 2186 → 5000 (+2814)\n",
      "Label distribution after resampling:\n",
      "  label 0: 5625\n",
      "  label 1: 5000\n",
      "  label 2: 8441\n",
      "  label 3: 10771\n",
      "  label 4: 5000\n",
      "  label 5: 5579\n",
      "  label 6: 5000\n",
      "  label 7: 5000\n",
      "model is roberta-base\n"
     ]
    },
    {
     "name": "stderr",
     "output_type": "stream",
     "text": [
      "Some weights of RobertaForSequenceClassification were not initialized from the model checkpoint at roberta-base and are newly initialized: ['classifier.dense.bias', 'classifier.dense.weight', 'classifier.out_proj.bias', 'classifier.out_proj.weight']\n",
      "You should probably TRAIN this model on a down-stream task to be able to use it for predictions and inference.\n"
     ]
    },
    {
     "name": "stdout",
     "output_type": "stream",
     "text": [
      "Epoch 1/20\n"
     ]
    },
    {
     "name": "stderr",
     "output_type": "stream",
     "text": [
      "100%|██████████| 3151/3151 [04:30<00:00, 11.66it/s]\n"
     ]
    },
    {
     "name": "stdout",
     "output_type": "stream",
     "text": [
      "{'val_loss': 0.5427008972622646, 'val_accuracy': 0.8176181312807355, 'precision': 0.8346195987168913, 'recall': 0.8176181312807355, 'f1-score': 0.8183940174986384, 'macro_f1-score': 0.8112898225155882, 'balanced_accuracy': 0.8409730437499078, 'mcc': 0.7787200734420427, 'train_loss': 0.5951327571201441}\n",
      "Epoch 2/20\n"
     ]
    },
    {
     "name": "stderr",
     "output_type": "stream",
     "text": [
      "100%|██████████| 3151/3151 [04:30<00:00, 11.66it/s]\n"
     ]
    },
    {
     "name": "stdout",
     "output_type": "stream",
     "text": [
      "{'val_loss': 0.44755014203106747, 'val_accuracy': 0.8473380372033354, 'precision': 0.8527616726822391, 'recall': 0.8473380372033354, 'f1-score': 0.8480378475133684, 'macro_f1-score': 0.845889921601963, 'balanced_accuracy': 0.8597250455157425, 'mcc': 0.8138529483516775, 'train_loss': 0.3737267531059689}\n",
      "Epoch 3/20\n"
     ]
    },
    {
     "name": "stderr",
     "output_type": "stream",
     "text": [
      "100%|██████████| 3151/3151 [04:30<00:00, 11.66it/s]\n"
     ]
    },
    {
     "name": "stdout",
     "output_type": "stream",
     "text": [
      "{'val_loss': 0.4619043949959625, 'val_accuracy': 0.8508659397049391, 'precision': 0.8561976616891952, 'recall': 0.8508659397049391, 'f1-score': 0.8516975432329335, 'macro_f1-score': 0.8432907416632786, 'balanced_accuracy': 0.8682704622483989, 'mcc': 0.8182545268222351, 'train_loss': 0.28553333729405045}\n",
      "Epoch 4/20\n"
     ]
    },
    {
     "name": "stderr",
     "output_type": "stream",
     "text": [
      "100%|██████████| 3151/3151 [04:30<00:00, 11.66it/s]\n"
     ]
    },
    {
     "name": "stdout",
     "output_type": "stream",
     "text": [
      "{'val_loss': 0.4850147104018137, 'val_accuracy': 0.8546076544793672, 'precision': 0.8596340679056919, 'recall': 0.8546076544793672, 'f1-score': 0.855603626943616, 'macro_f1-score': 0.8489136375248384, 'balanced_accuracy': 0.8681835383676526, 'mcc': 0.82274193417749, 'train_loss': 0.22442720142204667}\n",
      "Epoch 5/20\n"
     ]
    },
    {
     "name": "stderr",
     "output_type": "stream",
     "text": [
      "100%|██████████| 3151/3151 [04:30<00:00, 11.66it/s]\n"
     ]
    },
    {
     "name": "stdout",
     "output_type": "stream",
     "text": [
      "{'val_loss': 0.5175336158826438, 'val_accuracy': 0.8523626256147103, 'precision': 0.857033507978644, 'recall': 0.8523626256147103, 'f1-score': 0.8533827376740749, 'macro_f1-score': 0.8487570918381725, 'balanced_accuracy': 0.8647708908956064, 'mcc': 0.819518580332817, 'train_loss': 0.17528715703718575}\n",
      "Epoch 6/20\n"
     ]
    },
    {
     "name": "stderr",
     "output_type": "stream",
     "text": [
      "100%|██████████| 3151/3151 [04:31<00:00, 11.62it/s]\n"
     ]
    },
    {
     "name": "stdout",
     "output_type": "stream",
     "text": [
      "{'val_loss': 0.5490288686827144, 'val_accuracy': 0.8599529612999787, 'precision': 0.8610614216875457, 'recall': 0.8599529612999787, 'f1-score': 0.8601286895264096, 'macro_f1-score': 0.8558829201309992, 'balanced_accuracy': 0.8619616238339705, 'mcc': 0.8281347119791203, 'train_loss': 0.14494944414780342}\n",
      "Epoch 7/20\n"
     ]
    },
    {
     "name": "stderr",
     "output_type": "stream",
     "text": [
      "100%|██████████| 3151/3151 [04:30<00:00, 11.65it/s]\n"
     ]
    },
    {
     "name": "stdout",
     "output_type": "stream",
     "text": [
      "{'val_loss': 0.5515708644221672, 'val_accuracy': 0.8535385931152448, 'precision': 0.8583359846265197, 'recall': 0.8535385931152448, 'f1-score': 0.8542816068134542, 'macro_f1-score': 0.8538482686764792, 'balanced_accuracy': 0.85539842203499, 'mcc': 0.820751912398547, 'train_loss': 0.11999610242813942}\n",
      "Epoch 8/20\n"
     ]
    },
    {
     "name": "stderr",
     "output_type": "stream",
     "text": [
      "100%|██████████| 3151/3151 [04:30<00:00, 11.65it/s]\n"
     ]
    },
    {
     "name": "stdout",
     "output_type": "stream",
     "text": [
      "{'val_loss': 0.6716563923039641, 'val_accuracy': 0.858242463117383, 'precision': 0.862432156500379, 'recall': 0.858242463117383, 'f1-score': 0.8591292807249412, 'macro_f1-score': 0.8563590817999257, 'balanced_accuracy': 0.8572518246767621, 'mcc': 0.8255951534840424, 'train_loss': 0.10379974311908546}\n",
      "Epoch 9/20\n"
     ]
    },
    {
     "name": "stderr",
     "output_type": "stream",
     "text": [
      "100%|██████████| 3151/3151 [04:30<00:00, 11.65it/s]\n"
     ]
    },
    {
     "name": "stdout",
     "output_type": "stream",
     "text": [
      "{'val_loss': 0.5579115370929273, 'val_accuracy': 0.8590977122086808, 'precision': 0.8606132438561663, 'recall': 0.8590977122086808, 'f1-score': 0.8590756625791459, 'macro_f1-score': 0.8564929274496853, 'balanced_accuracy': 0.8618154560147843, 'mcc': 0.8269756472364943, 'train_loss': 0.09279690223341226}\n",
      "Epoch 10/20\n"
     ]
    },
    {
     "name": "stderr",
     "output_type": "stream",
     "text": [
      "100%|██████████| 3151/3151 [04:30<00:00, 11.65it/s]\n"
     ]
    },
    {
     "name": "stdout",
     "output_type": "stream",
     "text": [
      "{'val_loss': 0.6051312596935174, 'val_accuracy': 0.8554629035706649, 'precision': 0.858227087458352, 'recall': 0.8554629035706649, 'f1-score': 0.8555719147472046, 'macro_f1-score': 0.8553155757861692, 'balanced_accuracy': 0.8488326488982022, 'mcc': 0.8217781569612246, 'train_loss': 0.08221839656921086}\n",
      "Epoch 11/20\n"
     ]
    },
    {
     "name": "stderr",
     "output_type": "stream",
     "text": [
      "100%|██████████| 3151/3151 [04:30<00:00, 11.65it/s]\n"
     ]
    },
    {
     "name": "stdout",
     "output_type": "stream",
     "text": [
      "{'val_loss': 0.7190346546624349, 'val_accuracy': 0.8573872140260851, 'precision': 0.8607520008628956, 'recall': 0.8573872140260851, 'f1-score': 0.8574998821428487, 'macro_f1-score': 0.8545487913595897, 'balanced_accuracy': 0.865382033377701, 'mcc': 0.8252795809297195, 'train_loss': 0.0729000206480482}\n",
      "Epoch 12/20\n"
     ]
    },
    {
     "name": "stderr",
     "output_type": "stream",
     "text": [
      "100%|██████████| 3151/3151 [04:30<00:00, 11.65it/s]\n"
     ]
    },
    {
     "name": "stdout",
     "output_type": "stream",
     "text": [
      "{'val_loss': 0.6817363338414619, 'val_accuracy': 0.856425058798375, 'precision': 0.8594573713045444, 'recall': 0.856425058798375, 'f1-score': 0.8569822077776416, 'macro_f1-score': 0.8539917071129182, 'balanced_accuracy': 0.8582357948571663, 'mcc': 0.823709961945653, 'train_loss': 0.06667037334189717}\n",
      "Early stopping.\n",
      "\n",
      "[Fold 5]\n",
      "🚀 Using Word2Vec for data augmentation + under-sampling\n",
      "🔧 Augmenting label 1: 1399 → 5000 (+3601)\n",
      "🔧 Augmenting label 4: 1678 → 5000 (+3322)\n",
      "🔧 Augmenting label 6: 1738 → 5000 (+3262)\n",
      "🔧 Augmenting label 7: 2187 → 5000 (+2813)\n",
      "Label distribution after resampling:\n",
      "  label 0: 5625\n",
      "  label 1: 5000\n",
      "  label 2: 8441\n",
      "  label 3: 10771\n",
      "  label 4: 5000\n",
      "  label 5: 5579\n",
      "  label 6: 5000\n",
      "  label 7: 5000\n",
      "model is roberta-base\n"
     ]
    },
    {
     "name": "stderr",
     "output_type": "stream",
     "text": [
      "Some weights of RobertaForSequenceClassification were not initialized from the model checkpoint at roberta-base and are newly initialized: ['classifier.dense.bias', 'classifier.dense.weight', 'classifier.out_proj.bias', 'classifier.out_proj.weight']\n",
      "You should probably TRAIN this model on a down-stream task to be able to use it for predictions and inference.\n"
     ]
    },
    {
     "name": "stdout",
     "output_type": "stream",
     "text": [
      "Epoch 1/20\n"
     ]
    },
    {
     "name": "stderr",
     "output_type": "stream",
     "text": [
      "100%|██████████| 3151/3151 [04:30<00:00, 11.65it/s]\n"
     ]
    },
    {
     "name": "stdout",
     "output_type": "stream",
     "text": [
      "{'val_loss': 0.536962110358171, 'val_accuracy': 0.829484712422493, 'precision': 0.8383371963490673, 'recall': 0.829484712422493, 'f1-score': 0.8294663183670765, 'macro_f1-score': 0.8269928833552241, 'balanced_accuracy': 0.8416571171289818, 'mcc': 0.7913915383197454, 'train_loss': 0.620270296748017}\n",
      "Epoch 2/20\n"
     ]
    },
    {
     "name": "stderr",
     "output_type": "stream",
     "text": [
      "100%|██████████| 3151/3151 [04:30<00:00, 11.66it/s]\n"
     ]
    },
    {
     "name": "stdout",
     "output_type": "stream",
     "text": [
      "{'val_loss': 0.49074881916754265, 'val_accuracy': 0.838251015608296, 'precision': 0.8450370621113835, 'recall': 0.838251015608296, 'f1-score': 0.8369570508158128, 'macro_f1-score': 0.8402254345393463, 'balanced_accuracy': 0.8639142016340448, 'mcc': 0.8050439791825912, 'train_loss': 0.3842654499538321}\n",
      "Epoch 3/20\n"
     ]
    },
    {
     "name": "stderr",
     "output_type": "stream",
     "text": [
      "100%|██████████| 3151/3151 [04:30<00:00, 11.65it/s]\n"
     ]
    },
    {
     "name": "stdout",
     "output_type": "stream",
     "text": [
      "{'val_loss': 0.4634380696198115, 'val_accuracy': 0.8576010262989096, 'precision': 0.8595199718878574, 'recall': 0.8576010262989096, 'f1-score': 0.8577746514768763, 'macro_f1-score': 0.8551619825707404, 'balanced_accuracy': 0.8634340875820461, 'mcc': 0.82558700872426, 'train_loss': 0.2938055123586145}\n",
      "Epoch 4/20\n"
     ]
    },
    {
     "name": "stderr",
     "output_type": "stream",
     "text": [
      "100%|██████████| 3151/3151 [04:30<00:00, 11.65it/s]\n"
     ]
    },
    {
     "name": "stdout",
     "output_type": "stream",
     "text": [
      "{'val_loss': 0.4886140355346804, 'val_accuracy': 0.8616634594825743, 'precision': 0.8626273576402378, 'recall': 0.8616634594825743, 'f1-score': 0.8617754876175253, 'macro_f1-score': 0.8581717215872476, 'balanced_accuracy': 0.8705687514554628, 'mcc': 0.8304364911842871, 'train_loss': 0.2305991145315477}\n",
      "Epoch 5/20\n"
     ]
    },
    {
     "name": "stderr",
     "output_type": "stream",
     "text": [
      "100%|██████████| 3151/3151 [04:30<00:00, 11.66it/s]\n"
     ]
    },
    {
     "name": "stdout",
     "output_type": "stream",
     "text": [
      "{'val_loss': 0.5562824535104008, 'val_accuracy': 0.8458413512935643, 'precision': 0.8522903781914989, 'recall': 0.8458413512935643, 'f1-score': 0.8458706573365192, 'macro_f1-score': 0.839901520540835, 'balanced_accuracy': 0.8676050813573992, 'mcc': 0.8136486724530448, 'train_loss': 0.18534477036880811}\n",
      "Epoch 6/20\n"
     ]
    },
    {
     "name": "stderr",
     "output_type": "stream",
     "text": [
      "100%|██████████| 3151/3151 [04:30<00:00, 11.66it/s]\n"
     ]
    },
    {
     "name": "stdout",
     "output_type": "stream",
     "text": [
      "{'val_loss': 0.5173314096907583, 'val_accuracy': 0.8589908060722685, 'precision': 0.8605348112725925, 'recall': 0.8589908060722685, 'f1-score': 0.8588776041604692, 'macro_f1-score': 0.8578522813752629, 'balanced_accuracy': 0.8645152507263714, 'mcc': 0.8275481712280663, 'train_loss': 0.150420165866358}\n",
      "Epoch 7/20\n"
     ]
    },
    {
     "name": "stderr",
     "output_type": "stream",
     "text": [
      "100%|██████████| 3151/3151 [04:30<00:00, 11.66it/s]\n"
     ]
    },
    {
     "name": "stdout",
     "output_type": "stream",
     "text": [
      "{'val_loss': 0.620568917821456, 'val_accuracy': 0.8515073765234125, 'precision': 0.8533458950902507, 'recall': 0.8515073765234125, 'f1-score': 0.8514142598424365, 'macro_f1-score': 0.8489593553174059, 'balanced_accuracy': 0.8607009242613384, 'mcc': 0.8186956665398418, 'train_loss': 0.13040081845414364}\n",
      "Early stopping.\n",
      "\n",
      " === roberta-base + plain + word2vec Final 5-fold Cross-Validation Results ===\n",
      "val_loss: 0.5303\n",
      "val_accuracy: 0.8609\n",
      "precision: 0.8624\n",
      "recall: 0.8609\n",
      "f1-score: 0.8609\n",
      "macro_f1-score: 0.8581\n",
      "balanced_accuracy: 0.8595\n",
      "mcc: 0.8290\n",
      "train_loss: 0.1471\n",
      "total_seconds: 13982.0000\n",
      "total_time: 3 hrs 53 mins 2 secs\n",
      "▶ Running: roberta-base + cnn + word2vec\n",
      "tokenizer is roberta-base\n",
      "Using device: cuda\n",
      "CUDA Available: True\n",
      "CUDA Device: NVIDIA GeForce RTX 5070 Ti\n",
      "Current GPU Memory Allocated: 0.02 GB\n",
      "Current GPU Memory Cached: 3.91 GB\n",
      "\n",
      "[Fold 1]\n",
      "🚀 Using Word2Vec for data augmentation + under-sampling\n",
      "🔧 Augmenting label 1: 1399 → 5000 (+3601)\n",
      "🔧 Augmenting label 4: 1678 → 5000 (+3322)\n",
      "🔧 Augmenting label 6: 1737 → 5000 (+3263)\n",
      "🔧 Augmenting label 7: 2187 → 5000 (+2813)\n",
      "Label distribution after resampling:\n",
      "  label 0: 5626\n",
      "  label 1: 5000\n",
      "  label 2: 8442\n",
      "  label 3: 10770\n",
      "  label 4: 5000\n",
      "  label 5: 5578\n",
      "  label 6: 5000\n",
      "  label 7: 5000\n",
      "model is roberta-base cnn\n"
     ]
    },
    {
     "name": "stderr",
     "output_type": "stream",
     "text": [
      "Some weights of RobertaModel were not initialized from the model checkpoint at roberta-base and are newly initialized: ['pooler.dense.bias', 'pooler.dense.weight']\n",
      "You should probably TRAIN this model on a down-stream task to be able to use it for predictions and inference.\n"
     ]
    },
    {
     "name": "stdout",
     "output_type": "stream",
     "text": [
      "Epoch 1/20\n"
     ]
    },
    {
     "name": "stderr",
     "output_type": "stream",
     "text": [
      "100%|██████████| 3151/3151 [04:35<00:00, 11.44it/s]\n"
     ]
    },
    {
     "name": "stdout",
     "output_type": "stream",
     "text": [
      "{'val_loss': 0.4760008601806103, 'val_accuracy': 0.8386958845537146, 'precision': 0.8420767222509215, 'recall': 0.8386958845537146, 'f1-score': 0.8391735620990545, 'macro_f1-score': 0.8348835624634161, 'balanced_accuracy': 0.8472402567101898, 'mcc': 0.8022358314445435, 'train_loss': 0.6154002165537114}\n",
      "Epoch 2/20\n"
     ]
    },
    {
     "name": "stderr",
     "output_type": "stream",
     "text": [
      "100%|██████████| 3151/3151 [04:35<00:00, 11.44it/s]\n"
     ]
    },
    {
     "name": "stdout",
     "output_type": "stream",
     "text": [
      "{'val_loss': 0.47911381414558135, 'val_accuracy': 0.8415820416889364, 'precision': 0.8519327556830469, 'recall': 0.8415820416889364, 'f1-score': 0.8412447866077414, 'macro_f1-score': 0.8415578848671199, 'balanced_accuracy': 0.8518861097979751, 'mcc': 0.8084131158685498, 'train_loss': 0.3974642767090621}\n",
      "Epoch 3/20\n"
     ]
    },
    {
     "name": "stderr",
     "output_type": "stream",
     "text": [
      "100%|██████████| 3151/3151 [04:35<00:00, 11.45it/s]\n"
     ]
    },
    {
     "name": "stdout",
     "output_type": "stream",
     "text": [
      "{'val_loss': 0.41546959422337704, 'val_accuracy': 0.8641368252271513, 'precision': 0.8659573150829973, 'recall': 0.8641368252271513, 'f1-score': 0.8642871218664774, 'macro_f1-score': 0.8619680032226389, 'balanced_accuracy': 0.8694903184738288, 'mcc': 0.8335037593769407, 'train_loss': 0.30431682796249127}\n",
      "Epoch 4/20\n"
     ]
    },
    {
     "name": "stderr",
     "output_type": "stream",
     "text": [
      "100%|██████████| 3151/3151 [04:35<00:00, 11.45it/s]\n"
     ]
    },
    {
     "name": "stdout",
     "output_type": "stream",
     "text": [
      "{'val_loss': 0.4439607169988573, 'val_accuracy': 0.8583645109567076, 'precision': 0.862705686775833, 'recall': 0.8583645109567076, 'f1-score': 0.8591761536858595, 'macro_f1-score': 0.8519275123475856, 'balanced_accuracy': 0.8688342619169586, 'mcc': 0.8271843687513891, 'train_loss': 0.24845227566188582}\n",
      "Epoch 5/20\n"
     ]
    },
    {
     "name": "stderr",
     "output_type": "stream",
     "text": [
      "100%|██████████| 3151/3151 [04:35<00:00, 11.45it/s]\n"
     ]
    },
    {
     "name": "stdout",
     "output_type": "stream",
     "text": [
      "{'val_loss': 0.45107167082496435, 'val_accuracy': 0.8643506146445751, 'precision': 0.8668436036029864, 'recall': 0.8643506146445751, 'f1-score': 0.8642890401330712, 'macro_f1-score': 0.8638083534432668, 'balanced_accuracy': 0.8742380737781892, 'mcc': 0.8343706458949232, 'train_loss': 0.1997636265568589}\n",
      "Epoch 6/20\n"
     ]
    },
    {
     "name": "stderr",
     "output_type": "stream",
     "text": [
      "100%|██████████| 3151/3151 [04:35<00:00, 11.44it/s]\n"
     ]
    },
    {
     "name": "stdout",
     "output_type": "stream",
     "text": [
      "{'val_loss': 0.4647141724793065, 'val_accuracy': 0.85793693212186, 'precision': 0.8617199644156771, 'recall': 0.85793693212186, 'f1-score': 0.8583122490410022, 'macro_f1-score': 0.851228740753419, 'balanced_accuracy': 0.8607156512363776, 'mcc': 0.8261084328903393, 'train_loss': 0.15359151859540002}\n",
      "Epoch 7/20\n"
     ]
    },
    {
     "name": "stderr",
     "output_type": "stream",
     "text": [
      "100%|██████████| 3151/3151 [04:35<00:00, 11.46it/s]\n"
     ]
    },
    {
     "name": "stdout",
     "output_type": "stream",
     "text": [
      "{'val_loss': 0.5087742897435131, 'val_accuracy': 0.857830037413148, 'precision': 0.8611319501449043, 'recall': 0.857830037413148, 'f1-score': 0.8586256151612186, 'macro_f1-score': 0.8527824780044904, 'balanced_accuracy': 0.8519978302335265, 'mcc': 0.8249847460487147, 'train_loss': 0.14354693273883945}\n",
      "Epoch 8/20\n"
     ]
    },
    {
     "name": "stderr",
     "output_type": "stream",
     "text": [
      "100%|██████████| 3151/3151 [04:35<00:00, 11.45it/s]\n"
     ]
    },
    {
     "name": "stdout",
     "output_type": "stream",
     "text": [
      "{'val_loss': 0.547558065233991, 'val_accuracy': 0.8525921966862641, 'precision': 0.8569368994598164, 'recall': 0.8525921966862641, 'f1-score': 0.8532406407672706, 'macro_f1-score': 0.8480673083627305, 'balanced_accuracy': 0.8689477798588969, 'mcc': 0.8201671814443945, 'train_loss': 0.11825873482717016}\n",
      "Early stopping.\n",
      "\n",
      "[Fold 2]\n",
      "🚀 Using Word2Vec for data augmentation + under-sampling\n",
      "🔧 Augmenting label 1: 1400 → 5000 (+3600)\n",
      "🔧 Augmenting label 4: 1678 → 5000 (+3322)\n",
      "🔧 Augmenting label 6: 1737 → 5000 (+3263)\n",
      "🔧 Augmenting label 7: 2186 → 5000 (+2814)\n",
      "Label distribution after resampling:\n",
      "  label 0: 5626\n",
      "  label 1: 5000\n",
      "  label 2: 8442\n",
      "  label 3: 10770\n",
      "  label 4: 5000\n",
      "  label 5: 5578\n",
      "  label 6: 5000\n",
      "  label 7: 5000\n",
      "model is roberta-base cnn\n"
     ]
    },
    {
     "name": "stderr",
     "output_type": "stream",
     "text": [
      "Some weights of RobertaModel were not initialized from the model checkpoint at roberta-base and are newly initialized: ['pooler.dense.bias', 'pooler.dense.weight']\n",
      "You should probably TRAIN this model on a down-stream task to be able to use it for predictions and inference.\n"
     ]
    },
    {
     "name": "stdout",
     "output_type": "stream",
     "text": [
      "Epoch 1/20\n"
     ]
    },
    {
     "name": "stderr",
     "output_type": "stream",
     "text": [
      "100%|██████████| 3151/3151 [04:35<00:00, 11.44it/s]\n"
     ]
    },
    {
     "name": "stdout",
     "output_type": "stream",
     "text": [
      "{'val_loss': 0.5510151157521794, 'val_accuracy': 0.8172100481026189, 'precision': 0.827954604485905, 'recall': 0.8172100481026189, 'f1-score': 0.8178950537509553, 'macro_f1-score': 0.8110607734403584, 'balanced_accuracy': 0.8496691713238214, 'mcc': 0.7790271213689393, 'train_loss': 0.6134739031915304}\n",
      "Epoch 2/20\n"
     ]
    },
    {
     "name": "stderr",
     "output_type": "stream",
     "text": [
      "100%|██████████| 3151/3151 [04:35<00:00, 11.44it/s]\n"
     ]
    },
    {
     "name": "stdout",
     "output_type": "stream",
     "text": [
      "{'val_loss': 0.44895336950181897, 'val_accuracy': 0.8501336183858899, 'precision': 0.8522285991841242, 'recall': 0.8501336183858899, 'f1-score': 0.8504863059243425, 'macro_f1-score': 0.8523984611683406, 'balanced_accuracy': 0.8539376162236889, 'mcc': 0.8155432525224531, 'train_loss': 0.3851901249063323}\n",
      "Epoch 3/20\n"
     ]
    },
    {
     "name": "stderr",
     "output_type": "stream",
     "text": [
      "100%|██████████| 3151/3151 [04:35<00:00, 11.45it/s]\n"
     ]
    },
    {
     "name": "stdout",
     "output_type": "stream",
     "text": [
      "{'val_loss': 0.4560404391816029, 'val_accuracy': 0.843292357028327, 'precision': 0.8456687923941889, 'recall': 0.843292357028327, 'f1-score': 0.8426374798047632, 'macro_f1-score': 0.8422563555655183, 'balanced_accuracy': 0.8654931107402931, 'mcc': 0.8093102504157219, 'train_loss': 0.29855082829492313}\n",
      "Epoch 4/20\n"
     ]
    },
    {
     "name": "stderr",
     "output_type": "stream",
     "text": [
      "100%|██████████| 3151/3151 [04:35<00:00, 11.45it/s]\n"
     ]
    },
    {
     "name": "stdout",
     "output_type": "stream",
     "text": [
      "{'val_loss': 0.4411270022010192, 'val_accuracy': 0.8510956707642972, 'precision': 0.8523400836503247, 'recall': 0.8510956707642972, 'f1-score': 0.8514016549970411, 'macro_f1-score': 0.85010837500549, 'balanced_accuracy': 0.8491410527796301, 'mcc': 0.8167245466464474, 'train_loss': 0.23611461815150275}\n",
      "Epoch 5/20\n"
     ]
    },
    {
     "name": "stderr",
     "output_type": "stream",
     "text": [
      "100%|██████████| 3151/3151 [04:35<00:00, 11.46it/s]\n"
     ]
    },
    {
     "name": "stdout",
     "output_type": "stream",
     "text": [
      "{'val_loss': 0.4888835350545044, 'val_accuracy': 0.8413682522715126, 'precision': 0.8489863073929738, 'recall': 0.8413682522715126, 'f1-score': 0.8421054362489484, 'macro_f1-score': 0.8333487297026757, 'balanced_accuracy': 0.8571246200079554, 'mcc': 0.8073191751305694, 'train_loss': 0.18978602248984375}\n",
      "Early stopping.\n",
      "\n",
      "[Fold 3]\n",
      "🚀 Using Word2Vec for data augmentation + under-sampling\n",
      "🔧 Augmenting label 1: 1399 → 5000 (+3601)\n",
      "🔧 Augmenting label 4: 1679 → 5000 (+3321)\n",
      "🔧 Augmenting label 6: 1738 → 5000 (+3262)\n",
      "🔧 Augmenting label 7: 2186 → 5000 (+2814)\n",
      "Label distribution after resampling:\n",
      "  label 0: 5626\n",
      "  label 1: 5000\n",
      "  label 2: 8442\n",
      "  label 3: 10770\n",
      "  label 4: 5000\n",
      "  label 5: 5578\n",
      "  label 6: 5000\n",
      "  label 7: 5000\n",
      "model is roberta-base cnn\n"
     ]
    },
    {
     "name": "stderr",
     "output_type": "stream",
     "text": [
      "Some weights of RobertaModel were not initialized from the model checkpoint at roberta-base and are newly initialized: ['pooler.dense.bias', 'pooler.dense.weight']\n",
      "You should probably TRAIN this model on a down-stream task to be able to use it for predictions and inference.\n"
     ]
    },
    {
     "name": "stdout",
     "output_type": "stream",
     "text": [
      "Epoch 1/20\n"
     ]
    },
    {
     "name": "stderr",
     "output_type": "stream",
     "text": [
      "100%|██████████| 3151/3151 [04:35<00:00, 11.44it/s]\n"
     ]
    },
    {
     "name": "stdout",
     "output_type": "stream",
     "text": [
      "{'val_loss': 0.4895607810945083, 'val_accuracy': 0.83365405174257, 'precision': 0.8403604290904078, 'recall': 0.83365405174257, 'f1-score': 0.8344843884458579, 'macro_f1-score': 0.8332125272311379, 'balanced_accuracy': 0.8431377513698519, 'mcc': 0.7968635813201751, 'train_loss': 0.6433767319855823}\n",
      "Epoch 2/20\n"
     ]
    },
    {
     "name": "stderr",
     "output_type": "stream",
     "text": [
      "100%|██████████| 3151/3151 [04:35<00:00, 11.45it/s]\n"
     ]
    },
    {
     "name": "stdout",
     "output_type": "stream",
     "text": [
      "{'val_loss': 0.4575517689315682, 'val_accuracy': 0.8445584776566175, 'precision': 0.8540829679766706, 'recall': 0.8445584776566175, 'f1-score': 0.8458081867500596, 'macro_f1-score': 0.8456356740824036, 'balanced_accuracy': 0.8647034942337171, 'mcc': 0.8119503069520236, 'train_loss': 0.4006525871726075}\n",
      "Epoch 3/20\n"
     ]
    },
    {
     "name": "stderr",
     "output_type": "stream",
     "text": [
      "100%|██████████| 3151/3151 [04:35<00:00, 11.45it/s]\n"
     ]
    },
    {
     "name": "stdout",
     "output_type": "stream",
     "text": [
      "{'val_loss': 0.44567009358324555, 'val_accuracy': 0.847124224930511, 'precision': 0.8519715104036181, 'recall': 0.847124224930511, 'f1-score': 0.8467909808905286, 'macro_f1-score': 0.8425709503069905, 'balanced_accuracy': 0.8662269280576731, 'mcc': 0.8149937489310904, 'train_loss': 0.31591812553908644}\n",
      "Epoch 4/20\n"
     ]
    },
    {
     "name": "stderr",
     "output_type": "stream",
     "text": [
      "100%|██████████| 3151/3151 [04:35<00:00, 11.45it/s]\n"
     ]
    },
    {
     "name": "stdout",
     "output_type": "stream",
     "text": [
      "{'val_loss': 0.45433307669292655, 'val_accuracy': 0.844344665383793, 'precision': 0.8494515959915542, 'recall': 0.844344665383793, 'f1-score': 0.8432261187070581, 'macro_f1-score': 0.8413046722915787, 'balanced_accuracy': 0.8595957232171334, 'mcc': 0.8117701985803935, 'train_loss': 0.25761418302254696}\n",
      "Epoch 5/20\n"
     ]
    },
    {
     "name": "stderr",
     "output_type": "stream",
     "text": [
      "100%|██████████| 3151/3151 [04:35<00:00, 11.45it/s]\n"
     ]
    },
    {
     "name": "stdout",
     "output_type": "stream",
     "text": [
      "{'val_loss': 0.4253056890148128, 'val_accuracy': 0.8618772717553987, 'precision': 0.8644029681380322, 'recall': 0.8618772717553987, 'f1-score': 0.8621242028959503, 'macro_f1-score': 0.8563262419702153, 'balanced_accuracy': 0.862413915642051, 'mcc': 0.8308440491082562, 'train_loss': 0.21227387567905676}\n",
      "Epoch 6/20\n"
     ]
    },
    {
     "name": "stderr",
     "output_type": "stream",
     "text": [
      "100%|██████████| 3151/3151 [04:35<00:00, 11.46it/s]\n"
     ]
    },
    {
     "name": "stdout",
     "output_type": "stream",
     "text": [
      "{'val_loss': 0.4751980487894044, 'val_accuracy': 0.856852683344024, 'precision': 0.8608221268984833, 'recall': 0.856852683344024, 'f1-score': 0.8570907491071104, 'macro_f1-score': 0.856725891420167, 'balanced_accuracy': 0.8637540529069436, 'mcc': 0.8256997452469632, 'train_loss': 0.1782016047623549}\n",
      "Epoch 7/20\n"
     ]
    },
    {
     "name": "stderr",
     "output_type": "stream",
     "text": [
      "100%|██████████| 3151/3151 [04:35<00:00, 11.46it/s]\n"
     ]
    },
    {
     "name": "stdout",
     "output_type": "stream",
     "text": [
      "{'val_loss': 0.4820151264484749, 'val_accuracy': 0.8620910840282232, 'precision': 0.8625314624973129, 'recall': 0.8620910840282232, 'f1-score': 0.8617781990869231, 'macro_f1-score': 0.8582940286516376, 'balanced_accuracy': 0.8590271081024528, 'mcc': 0.8309063086723107, 'train_loss': 0.15359587074152953}\n",
      "Epoch 8/20\n"
     ]
    },
    {
     "name": "stderr",
     "output_type": "stream",
     "text": [
      "100%|██████████| 3151/3151 [04:35<00:00, 11.46it/s]\n"
     ]
    },
    {
     "name": "stdout",
     "output_type": "stream",
     "text": [
      "{'val_loss': 0.4891249295781788, 'val_accuracy': 0.8610220226641009, 'precision': 0.863298871517889, 'recall': 0.8610220226641009, 'f1-score': 0.8613536997381578, 'macro_f1-score': 0.8604240002238839, 'balanced_accuracy': 0.8647962956189282, 'mcc': 0.8296515411187954, 'train_loss': 0.13579679749443063}\n",
      "Epoch 9/20\n"
     ]
    },
    {
     "name": "stderr",
     "output_type": "stream",
     "text": [
      "100%|██████████| 3151/3151 [04:35<00:00, 11.45it/s]\n"
     ]
    },
    {
     "name": "stdout",
     "output_type": "stream",
     "text": [
      "{'val_loss': 0.5262497920845436, 'val_accuracy': 0.8556767158434894, 'precision': 0.8569990290949351, 'recall': 0.8556767158434894, 'f1-score': 0.8555889297813241, 'macro_f1-score': 0.8543928696905778, 'balanced_accuracy': 0.8652919569514017, 'mcc': 0.8235951166800864, 'train_loss': 0.11586826976406944}\n",
      "Epoch 10/20\n"
     ]
    },
    {
     "name": "stderr",
     "output_type": "stream",
     "text": [
      "100%|██████████| 3151/3151 [04:35<00:00, 11.45it/s]\n"
     ]
    },
    {
     "name": "stdout",
     "output_type": "stream",
     "text": [
      "{'val_loss': 0.5206048930955366, 'val_accuracy': 0.8563181526619628, 'precision': 0.8576617434949996, 'recall': 0.8563181526619628, 'f1-score': 0.8556699405358634, 'macro_f1-score': 0.8573362452160445, 'balanced_accuracy': 0.8648664849829373, 'mcc': 0.8244542889635882, 'train_loss': 0.10127930236778486}\n",
      "Epoch 11/20\n"
     ]
    },
    {
     "name": "stderr",
     "output_type": "stream",
     "text": [
      "100%|██████████| 3151/3151 [04:34<00:00, 11.46it/s]\n"
     ]
    },
    {
     "name": "stdout",
     "output_type": "stream",
     "text": [
      "{'val_loss': 0.5236327948725312, 'val_accuracy': 0.8677571092580714, 'precision': 0.8684513037148432, 'recall': 0.8677571092580714, 'f1-score': 0.8679546546090913, 'macro_f1-score': 0.8640833392313497, 'balanced_accuracy': 0.8677012514543029, 'mcc': 0.8374791954501131, 'train_loss': 0.09037313833344321}\n",
      "Epoch 12/20\n"
     ]
    },
    {
     "name": "stderr",
     "output_type": "stream",
     "text": [
      "100%|██████████| 3151/3151 [04:34<00:00, 11.46it/s]\n"
     ]
    },
    {
     "name": "stdout",
     "output_type": "stream",
     "text": [
      "{'val_loss': 0.7127077755765018, 'val_accuracy': 0.7784904853538593, 'precision': 0.8051216514247601, 'recall': 0.7784904853538593, 'f1-score': 0.7807312495273314, 'macro_f1-score': 0.7987266942517375, 'balanced_accuracy': 0.7927549776458602, 'mcc': 0.7345714969598967, 'train_loss': 0.08417553654092977}\n",
      "Epoch 13/20\n"
     ]
    },
    {
     "name": "stderr",
     "output_type": "stream",
     "text": [
      "100%|██████████| 3151/3151 [04:35<00:00, 11.45it/s]\n"
     ]
    },
    {
     "name": "stdout",
     "output_type": "stream",
     "text": [
      "{'val_loss': 0.5333530019236427, 'val_accuracy': 0.8632670515287577, 'precision': 0.8646202045676382, 'recall': 0.8632670515287577, 'f1-score': 0.8633967843764413, 'macro_f1-score': 0.858941527028329, 'balanced_accuracy': 0.8520912637116695, 'mcc': 0.8316740532914026, 'train_loss': 0.08169062559610595}\n",
      "Epoch 14/20\n"
     ]
    },
    {
     "name": "stderr",
     "output_type": "stream",
     "text": [
      "100%|██████████| 3151/3151 [04:35<00:00, 11.45it/s]\n"
     ]
    },
    {
     "name": "stdout",
     "output_type": "stream",
     "text": [
      "{'val_loss': 0.6000654709616947, 'val_accuracy': 0.860594398118452, 'precision': 0.8620468101550062, 'recall': 0.860594398118452, 'f1-score': 0.8606707539314514, 'macro_f1-score': 0.8606602307895423, 'balanced_accuracy': 0.8532757134234881, 'mcc': 0.8280890343064751, 'train_loss': 0.06873458339824502}\n",
      "Early stopping.\n",
      "\n",
      "[Fold 4]\n",
      "🚀 Using Word2Vec for data augmentation + under-sampling\n",
      "🔧 Augmenting label 1: 1399 → 5000 (+3601)\n",
      "🔧 Augmenting label 4: 1679 → 5000 (+3321)\n",
      "🔧 Augmenting label 6: 1738 → 5000 (+3262)\n",
      "🔧 Augmenting label 7: 2186 → 5000 (+2814)\n",
      "Label distribution after resampling:\n",
      "  label 0: 5625\n",
      "  label 1: 5000\n",
      "  label 2: 8441\n",
      "  label 3: 10771\n",
      "  label 4: 5000\n",
      "  label 5: 5579\n",
      "  label 6: 5000\n",
      "  label 7: 5000\n",
      "model is roberta-base cnn\n"
     ]
    },
    {
     "name": "stderr",
     "output_type": "stream",
     "text": [
      "Some weights of RobertaModel were not initialized from the model checkpoint at roberta-base and are newly initialized: ['pooler.dense.bias', 'pooler.dense.weight']\n",
      "You should probably TRAIN this model on a down-stream task to be able to use it for predictions and inference.\n"
     ]
    },
    {
     "name": "stdout",
     "output_type": "stream",
     "text": [
      "Epoch 1/20\n"
     ]
    },
    {
     "name": "stderr",
     "output_type": "stream",
     "text": [
      "100%|██████████| 3151/3151 [04:34<00:00, 11.46it/s]\n"
     ]
    },
    {
     "name": "stdout",
     "output_type": "stream",
     "text": [
      "{'val_loss': 1.989630507200192, 'val_accuracy': 0.28779131922172335, 'precision': 0.08282384341937987, 'recall': 0.28779131922172335, 'f1-score': 0.12862929293456404, 'macro_f1-score': 0.055869168188610326, 'balanced_accuracy': 0.125, 'mcc': 0.0, 'train_loss': 2.0447357676589877}\n",
      "Epoch 2/20\n"
     ]
    },
    {
     "name": "stderr",
     "output_type": "stream",
     "text": [
      "100%|██████████| 3151/3151 [04:34<00:00, 11.48it/s]\n"
     ]
    },
    {
     "name": "stdout",
     "output_type": "stream",
     "text": [
      "{'val_loss': 1.9654708375278702, 'val_accuracy': 0.28779131922172335, 'precision': 0.08282384341937987, 'recall': 0.28779131922172335, 'f1-score': 0.12862929293456404, 'macro_f1-score': 0.055869168188610326, 'balanced_accuracy': 0.125, 'mcc': 0.0, 'train_loss': 2.038931960531433}\n",
      "Epoch 3/20\n"
     ]
    },
    {
     "name": "stderr",
     "output_type": "stream",
     "text": [
      "100%|██████████| 3151/3151 [04:34<00:00, 11.48it/s]\n"
     ]
    },
    {
     "name": "stdout",
     "output_type": "stream",
     "text": [
      "{'val_loss': 1.9678701504682883, 'val_accuracy': 0.28779131922172335, 'precision': 0.08282384341937987, 'recall': 0.28779131922172335, 'f1-score': 0.12862929293456404, 'macro_f1-score': 0.055869168188610326, 'balanced_accuracy': 0.125, 'mcc': 0.0, 'train_loss': 2.039454131495646}\n",
      "Epoch 4/20\n"
     ]
    },
    {
     "name": "stderr",
     "output_type": "stream",
     "text": [
      "100%|██████████| 3151/3151 [04:34<00:00, 11.48it/s]\n"
     ]
    },
    {
     "name": "stdout",
     "output_type": "stream",
     "text": [
      "{'val_loss': 1.9683681561396673, 'val_accuracy': 0.28779131922172335, 'precision': 0.08282384341937987, 'recall': 0.28779131922172335, 'f1-score': 0.12862929293456404, 'macro_f1-score': 0.055869168188610326, 'balanced_accuracy': 0.125, 'mcc': 0.0, 'train_loss': 2.0384642933331305}\n",
      "Early stopping.\n",
      "\n",
      "[Fold 5]\n",
      "🚀 Using Word2Vec for data augmentation + under-sampling\n",
      "🔧 Augmenting label 1: 1399 → 5000 (+3601)\n",
      "🔧 Augmenting label 4: 1678 → 5000 (+3322)\n",
      "🔧 Augmenting label 6: 1738 → 5000 (+3262)\n",
      "🔧 Augmenting label 7: 2187 → 5000 (+2813)\n",
      "Label distribution after resampling:\n",
      "  label 0: 5625\n",
      "  label 1: 5000\n",
      "  label 2: 8441\n",
      "  label 3: 10771\n",
      "  label 4: 5000\n",
      "  label 5: 5579\n",
      "  label 6: 5000\n",
      "  label 7: 5000\n",
      "model is roberta-base cnn\n"
     ]
    },
    {
     "name": "stderr",
     "output_type": "stream",
     "text": [
      "Some weights of RobertaModel were not initialized from the model checkpoint at roberta-base and are newly initialized: ['pooler.dense.bias', 'pooler.dense.weight']\n",
      "You should probably TRAIN this model on a down-stream task to be able to use it for predictions and inference.\n"
     ]
    },
    {
     "name": "stdout",
     "output_type": "stream",
     "text": [
      "Epoch 1/20\n"
     ]
    },
    {
     "name": "stderr",
     "output_type": "stream",
     "text": [
      "100%|██████████| 3151/3151 [04:35<00:00, 11.44it/s]\n"
     ]
    },
    {
     "name": "stdout",
     "output_type": "stream",
     "text": [
      "{'val_loss': 0.6931043069077353, 'val_accuracy': 0.8031858028650845, 'precision': 0.815899987171614, 'recall': 0.8031858028650845, 'f1-score': 0.8049282901394207, 'macro_f1-score': 0.7957704881070915, 'balanced_accuracy': 0.8329091302421283, 'mcc': 0.7618526518700026, 'train_loss': 0.9921323596066859}\n",
      "Epoch 2/20\n"
     ]
    },
    {
     "name": "stderr",
     "output_type": "stream",
     "text": [
      "100%|██████████| 3151/3151 [04:35<00:00, 11.45it/s]\n"
     ]
    },
    {
     "name": "stdout",
     "output_type": "stream",
     "text": [
      "{'val_loss': 0.5349041399219606, 'val_accuracy': 0.8388924524267692, 'precision': 0.8453070657998861, 'recall': 0.8388924524267692, 'f1-score': 0.8399843184143555, 'macro_f1-score': 0.8344575435791952, 'balanced_accuracy': 0.8593505798073011, 'mcc': 0.8038742470652664, 'train_loss': 0.513776250744563}\n",
      "Epoch 3/20\n"
     ]
    },
    {
     "name": "stderr",
     "output_type": "stream",
     "text": [
      "100%|██████████| 3151/3151 [04:35<00:00, 11.45it/s]\n"
     ]
    },
    {
     "name": "stdout",
     "output_type": "stream",
     "text": [
      "{'val_loss': 0.5029378763089577, 'val_accuracy': 0.8407098567457773, 'precision': 0.8472172015564357, 'recall': 0.8407098567457773, 'f1-score': 0.8416751266471741, 'macro_f1-score': 0.8320047761589102, 'balanced_accuracy': 0.8639390024216345, 'mcc': 0.80633663386107, 'train_loss': 0.38756380695820103}\n",
      "Epoch 4/20\n"
     ]
    },
    {
     "name": "stderr",
     "output_type": "stream",
     "text": [
      "100%|██████████| 3151/3151 [04:35<00:00, 11.46it/s]\n"
     ]
    },
    {
     "name": "stdout",
     "output_type": "stream",
     "text": [
      "{'val_loss': 0.47132306158797355, 'val_accuracy': 0.8475518494761599, 'precision': 0.8503662496340236, 'recall': 0.8475518494761599, 'f1-score': 0.8483822624013196, 'macro_f1-score': 0.8443952006060772, 'balanced_accuracy': 0.8515245485740099, 'mcc': 0.8127304210295742, 'train_loss': 0.30643706627840944}\n",
      "Epoch 5/20\n"
     ]
    },
    {
     "name": "stderr",
     "output_type": "stream",
     "text": [
      "100%|██████████| 3151/3151 [04:35<00:00, 11.46it/s]\n"
     ]
    },
    {
     "name": "stdout",
     "output_type": "stream",
     "text": [
      "{'val_loss': 0.47426862395089914, 'val_accuracy': 0.8558905281163138, 'precision': 0.8568095777487038, 'recall': 0.8558905281163138, 'f1-score': 0.8553930454015995, 'macro_f1-score': 0.8531602903501433, 'balanced_accuracy': 0.8621440881923157, 'mcc': 0.824001956995236, 'train_loss': 0.2590789768773316}\n",
      "Epoch 6/20\n"
     ]
    },
    {
     "name": "stderr",
     "output_type": "stream",
     "text": [
      "100%|██████████| 3151/3151 [04:34<00:00, 11.46it/s]\n"
     ]
    },
    {
     "name": "stdout",
     "output_type": "stream",
     "text": [
      "{'val_loss': 0.5122825055422946, 'val_accuracy': 0.8478725678853967, 'precision': 0.8520867008207821, 'recall': 0.8478725678853967, 'f1-score': 0.848471736843331, 'macro_f1-score': 0.8444578522017134, 'balanced_accuracy': 0.8586307385697061, 'mcc': 0.8143358604631553, 'train_loss': 0.21657040248802614}\n",
      "Epoch 7/20\n"
     ]
    },
    {
     "name": "stderr",
     "output_type": "stream",
     "text": [
      "100%|██████████| 3151/3151 [04:35<00:00, 11.45it/s]\n"
     ]
    },
    {
     "name": "stdout",
     "output_type": "stream",
     "text": [
      "{'val_loss': 0.6254202086717272, 'val_accuracy': 0.8404960444729528, 'precision': 0.8444342768419558, 'recall': 0.8404960444729528, 'f1-score': 0.8407333710302132, 'macro_f1-score': 0.8423789198147664, 'balanced_accuracy': 0.8459489093705341, 'mcc': 0.8044968528723403, 'train_loss': 0.18575348273633147}\n",
      "Epoch 8/20\n"
     ]
    },
    {
     "name": "stderr",
     "output_type": "stream",
     "text": [
      "100%|██████████| 3151/3151 [04:35<00:00, 11.46it/s]\n"
     ]
    },
    {
     "name": "stdout",
     "output_type": "stream",
     "text": [
      "{'val_loss': 0.5725479763478805, 'val_accuracy': 0.8321573658327988, 'precision': 0.8411185984090586, 'recall': 0.8321573658327988, 'f1-score': 0.832713605509896, 'macro_f1-score': 0.8346604135870358, 'balanced_accuracy': 0.8562608922212904, 'mcc': 0.7974093907120983, 'train_loss': 0.33287889380500096}\n",
      "Early stopping.\n",
      "\n",
      " === roberta-base + cnn + word2vec Final 5-fold Cross-Validation Results ===\n",
      "val_loss: 0.7775\n",
      "val_accuracy: 0.7452\n",
      "precision: 0.7054\n",
      "recall: 0.7452\n",
      "f1-score: 0.7134\n",
      "macro_f1-score: 0.6979\n",
      "balanced_accuracy: 0.7166\n",
      "mcc: 0.6623\n",
      "train_loss: 0.5958\n",
      "total_seconds: 11578.0000\n",
      "total_time: 3 hrs 12 mins 58 secs\n",
      "▶ Running: roberta-base + lstm + word2vec\n",
      "tokenizer is roberta-base\n",
      "Using device: cuda\n",
      "CUDA Available: True\n",
      "CUDA Device: NVIDIA GeForce RTX 5070 Ti\n",
      "Current GPU Memory Allocated: 0.02 GB\n",
      "Current GPU Memory Cached: 3.91 GB\n",
      "\n",
      "[Fold 1]\n",
      "🚀 Using Word2Vec for data augmentation + under-sampling\n",
      "🔧 Augmenting label 1: 1399 → 5000 (+3601)\n",
      "🔧 Augmenting label 4: 1678 → 5000 (+3322)\n",
      "🔧 Augmenting label 6: 1737 → 5000 (+3263)\n",
      "🔧 Augmenting label 7: 2187 → 5000 (+2813)\n",
      "Label distribution after resampling:\n",
      "  label 0: 5626\n",
      "  label 1: 5000\n",
      "  label 2: 8442\n",
      "  label 3: 10770\n",
      "  label 4: 5000\n",
      "  label 5: 5578\n",
      "  label 6: 5000\n",
      "  label 7: 5000\n",
      "model is roberta-base lstm\n"
     ]
    },
    {
     "name": "stderr",
     "output_type": "stream",
     "text": [
      "Some weights of RobertaModel were not initialized from the model checkpoint at roberta-base and are newly initialized: ['pooler.dense.bias', 'pooler.dense.weight']\n",
      "You should probably TRAIN this model on a down-stream task to be able to use it for predictions and inference.\n"
     ]
    },
    {
     "name": "stdout",
     "output_type": "stream",
     "text": [
      "Epoch 1/20\n"
     ]
    },
    {
     "name": "stderr",
     "output_type": "stream",
     "text": [
      "100%|██████████| 3151/3151 [04:49<00:00, 10.88it/s]\n"
     ]
    },
    {
     "name": "stdout",
     "output_type": "stream",
     "text": [
      "{'val_loss': 0.48205932985641, 'val_accuracy': 0.8411544628540887, 'precision': 0.8471000406370666, 'recall': 0.8411544628540887, 'f1-score': 0.842254914609671, 'macro_f1-score': 0.8324919298699607, 'balanced_accuracy': 0.8576004068726553, 'mcc': 0.8057549084173424, 'train_loss': 0.6163509814798719}\n",
      "Epoch 2/20\n"
     ]
    },
    {
     "name": "stderr",
     "output_type": "stream",
     "text": [
      "100%|██████████| 3151/3151 [04:49<00:00, 10.88it/s]\n"
     ]
    },
    {
     "name": "stdout",
     "output_type": "stream",
     "text": [
      "{'val_loss': 0.4609757164254403, 'val_accuracy': 0.8453233564938536, 'precision': 0.8515534223512085, 'recall': 0.8453233564938536, 'f1-score': 0.8458643059380899, 'macro_f1-score': 0.8387127038412571, 'balanced_accuracy': 0.863762734178018, 'mcc': 0.8119309233232866, 'train_loss': 0.3914372180690513}\n",
      "Epoch 3/20\n"
     ]
    },
    {
     "name": "stderr",
     "output_type": "stream",
     "text": [
      "100%|██████████| 3151/3151 [04:49<00:00, 10.88it/s]\n"
     ]
    },
    {
     "name": "stdout",
     "output_type": "stream",
     "text": [
      "{'val_loss': 0.4281654199282838, 'val_accuracy': 0.8570817744521646, 'precision': 0.86089421969949, 'recall': 0.8570817744521646, 'f1-score': 0.8578312084682645, 'macro_f1-score': 0.8513820386909999, 'balanced_accuracy': 0.8661234997936447, 'mcc': 0.8249227198205689, 'train_loss': 0.31432554850597744}\n",
      "Epoch 4/20\n"
     ]
    },
    {
     "name": "stderr",
     "output_type": "stream",
     "text": [
      "100%|██████████| 3151/3151 [04:49<00:00, 10.88it/s]\n"
     ]
    },
    {
     "name": "stdout",
     "output_type": "stream",
     "text": [
      "{'val_loss': 0.4472517159918689, 'val_accuracy': 0.8586851950828434, 'precision': 0.8619278794821418, 'recall': 0.8586851950828434, 'f1-score': 0.8593718390441075, 'macro_f1-score': 0.8535826499416727, 'balanced_accuracy': 0.8579782887975465, 'mcc': 0.8266831015502739, 'train_loss': 0.25267345542534453}\n",
      "Epoch 5/20\n"
     ]
    },
    {
     "name": "stderr",
     "output_type": "stream",
     "text": [
      "100%|██████████| 3151/3151 [04:49<00:00, 10.88it/s]\n"
     ]
    },
    {
     "name": "stdout",
     "output_type": "stream",
     "text": [
      "{'val_loss': 0.49766034450318314, 'val_accuracy': 0.8504543025120257, 'precision': 0.8559120713109273, 'recall': 0.8504543025120257, 'f1-score': 0.8508783909222699, 'macro_f1-score': 0.8441517382708342, 'balanced_accuracy': 0.8645968015064933, 'mcc': 0.8183696692303347, 'train_loss': 0.2145457383198974}\n",
      "Epoch 6/20\n"
     ]
    },
    {
     "name": "stderr",
     "output_type": "stream",
     "text": [
      "100%|██████████| 3151/3151 [04:49<00:00, 10.89it/s]\n"
     ]
    },
    {
     "name": "stdout",
     "output_type": "stream",
     "text": [
      "{'val_loss': 0.5384656989891241, 'val_accuracy': 0.8560128273650455, 'precision': 0.8579760541743707, 'recall': 0.8560128273650455, 'f1-score': 0.8557146169047186, 'macro_f1-score': 0.8527094469517473, 'balanced_accuracy': 0.8420176137731505, 'mcc': 0.8227707715586479, 'train_loss': 0.1977926009171768}\n",
      "Epoch 7/20\n"
     ]
    },
    {
     "name": "stderr",
     "output_type": "stream",
     "text": [
      "100%|██████████| 3151/3151 [04:49<00:00, 10.88it/s]\n"
     ]
    },
    {
     "name": "stdout",
     "output_type": "stream",
     "text": [
      "{'val_loss': 0.5463581905883347, 'val_accuracy': 0.8530197755211117, 'precision': 0.8574681139676306, 'recall': 0.8530197755211117, 'f1-score': 0.853445689177415, 'macro_f1-score': 0.8480249866324273, 'balanced_accuracy': 0.8434187618174863, 'mcc': 0.8190206535508919, 'train_loss': 0.15376170318650856}\n",
      "Early stopping.\n",
      "\n",
      "[Fold 2]\n",
      "🚀 Using Word2Vec for data augmentation + under-sampling\n",
      "🔧 Augmenting label 1: 1400 → 5000 (+3600)\n",
      "🔧 Augmenting label 4: 1678 → 5000 (+3322)\n",
      "🔧 Augmenting label 6: 1737 → 5000 (+3263)\n",
      "🔧 Augmenting label 7: 2186 → 5000 (+2814)\n",
      "Label distribution after resampling:\n",
      "  label 0: 5626\n",
      "  label 1: 5000\n",
      "  label 2: 8442\n",
      "  label 3: 10770\n",
      "  label 4: 5000\n",
      "  label 5: 5578\n",
      "  label 6: 5000\n",
      "  label 7: 5000\n",
      "model is roberta-base lstm\n"
     ]
    },
    {
     "name": "stderr",
     "output_type": "stream",
     "text": [
      "Some weights of RobertaModel were not initialized from the model checkpoint at roberta-base and are newly initialized: ['pooler.dense.bias', 'pooler.dense.weight']\n",
      "You should probably TRAIN this model on a down-stream task to be able to use it for predictions and inference.\n"
     ]
    },
    {
     "name": "stdout",
     "output_type": "stream",
     "text": [
      "Epoch 1/20\n"
     ]
    },
    {
     "name": "stderr",
     "output_type": "stream",
     "text": [
      "100%|██████████| 3151/3151 [04:49<00:00, 10.87it/s]\n"
     ]
    },
    {
     "name": "stdout",
     "output_type": "stream",
     "text": [
      "{'val_loss': 0.5622217186432109, 'val_accuracy': 0.8157135221806521, 'precision': 0.826439775783727, 'recall': 0.8157135221806521, 'f1-score': 0.815813194315239, 'macro_f1-score': 0.8102930008709828, 'balanced_accuracy': 0.8551240903330461, 'mcc': 0.7779058810561504, 'train_loss': 0.6175981634374801}\n",
      "Epoch 2/20\n"
     ]
    },
    {
     "name": "stderr",
     "output_type": "stream",
     "text": [
      "100%|██████████| 3151/3151 [04:49<00:00, 10.87it/s]\n"
     ]
    },
    {
     "name": "stdout",
     "output_type": "stream",
     "text": [
      "{'val_loss': 0.48821935852050274, 'val_accuracy': 0.8378407268840192, 'precision': 0.8441785352709817, 'recall': 0.8378407268840192, 'f1-score': 0.8381927568607166, 'macro_f1-score': 0.8401736873588583, 'balanced_accuracy': 0.8633504265467106, 'mcc': 0.8035973126620543, 'train_loss': 0.3901887385547634}\n",
      "Epoch 3/20\n"
     ]
    },
    {
     "name": "stderr",
     "output_type": "stream",
     "text": [
      "100%|██████████| 3151/3151 [04:49<00:00, 10.89it/s]\n"
     ]
    },
    {
     "name": "stdout",
     "output_type": "stream",
     "text": [
      "{'val_loss': 0.4856698237423204, 'val_accuracy': 0.8431854623196152, 'precision': 0.8443679675339135, 'recall': 0.8431854623196152, 'f1-score': 0.8427946979540328, 'macro_f1-score': 0.8402615939872573, 'balanced_accuracy': 0.8536592147587879, 'mcc': 0.8079694875409505, 'train_loss': 0.30095360338036475}\n",
      "Epoch 4/20\n"
     ]
    },
    {
     "name": "stderr",
     "output_type": "stream",
     "text": [
      "100%|██████████| 3151/3151 [04:49<00:00, 10.88it/s]\n"
     ]
    },
    {
     "name": "stdout",
     "output_type": "stream",
     "text": [
      "{'val_loss': 0.5004296087301694, 'val_accuracy': 0.8443613041154463, 'precision': 0.8478539643426732, 'recall': 0.8443613041154463, 'f1-score': 0.8446176538586776, 'macro_f1-score': 0.8423642426928161, 'balanced_accuracy': 0.8585070718882658, 'mcc': 0.8101119959585337, 'train_loss': 0.24273935964426202}\n",
      "Epoch 5/20\n"
     ]
    },
    {
     "name": "stderr",
     "output_type": "stream",
     "text": [
      "100%|██████████| 3151/3151 [04:49<00:00, 10.87it/s]\n"
     ]
    },
    {
     "name": "stdout",
     "output_type": "stream",
     "text": [
      "{'val_loss': 0.5609253934266157, 'val_accuracy': 0.8423303046499199, 'precision': 0.845019928000451, 'recall': 0.8423303046499199, 'f1-score': 0.8419836476032151, 'macro_f1-score': 0.8405396670030855, 'balanced_accuracy': 0.851633340155479, 'mcc': 0.8067176982513783, 'train_loss': 0.20520745861627485}\n",
      "Epoch 6/20\n"
     ]
    },
    {
     "name": "stderr",
     "output_type": "stream",
     "text": [
      "100%|██████████| 3151/3151 [04:49<00:00, 10.89it/s]\n"
     ]
    },
    {
     "name": "stdout",
     "output_type": "stream",
     "text": [
      "{'val_loss': 0.6069547533413842, 'val_accuracy': 0.8451095670764297, 'precision': 0.8455764155163703, 'recall': 0.8451095670764297, 'f1-score': 0.8444962013470886, 'macro_f1-score': 0.8420477465124954, 'balanced_accuracy': 0.8511816134496284, 'mcc': 0.8103240008864537, 'train_loss': 0.16694307074895687}\n",
      "Epoch 7/20\n"
     ]
    },
    {
     "name": "stderr",
     "output_type": "stream",
     "text": [
      "100%|██████████| 3151/3151 [04:49<00:00, 10.89it/s]\n"
     ]
    },
    {
     "name": "stdout",
     "output_type": "stream",
     "text": [
      "{'val_loss': 0.6547700533048353, 'val_accuracy': 0.8443613041154463, 'precision': 0.8470717284383955, 'recall': 0.8443613041154463, 'f1-score': 0.8441013729435274, 'macro_f1-score': 0.8453814235419721, 'balanced_accuracy': 0.8535182197922597, 'mcc': 0.809662109624101, 'train_loss': 0.13984184500976204}\n",
      "Epoch 8/20\n"
     ]
    },
    {
     "name": "stderr",
     "output_type": "stream",
     "text": [
      "100%|██████████| 3151/3151 [04:49<00:00, 10.89it/s]\n"
     ]
    },
    {
     "name": "stdout",
     "output_type": "stream",
     "text": [
      "{'val_loss': 0.678933234356093, 'val_accuracy': 0.8475681453768038, 'precision': 0.8489445424215416, 'recall': 0.8475681453768038, 'f1-score': 0.8472923157334977, 'macro_f1-score': 0.8476387909705301, 'balanced_accuracy': 0.8442258824964067, 'mcc': 0.8128608121114859, 'train_loss': 0.12235846875204552}\n",
      "Epoch 9/20\n"
     ]
    },
    {
     "name": "stderr",
     "output_type": "stream",
     "text": [
      "100%|██████████| 3151/3151 [04:49<00:00, 10.88it/s]\n"
     ]
    },
    {
     "name": "stdout",
     "output_type": "stream",
     "text": [
      "{'val_loss': 0.6597174051524196, 'val_accuracy': 0.8571886691608765, 'precision': 0.8575922976198173, 'recall': 0.8571886691608765, 'f1-score': 0.8570661051571815, 'macro_f1-score': 0.8542341670967069, 'balanced_accuracy': 0.8494050660368611, 'mcc': 0.8239817001880981, 'train_loss': 0.1080100197961713}\n",
      "Epoch 10/20\n"
     ]
    },
    {
     "name": "stderr",
     "output_type": "stream",
     "text": [
      "100%|██████████| 3151/3151 [04:49<00:00, 10.88it/s]\n"
     ]
    },
    {
     "name": "stdout",
     "output_type": "stream",
     "text": [
      "{'val_loss': 0.738297026969779, 'val_accuracy': 0.8476750400855158, 'precision': 0.8486825484561051, 'recall': 0.8476750400855158, 'f1-score': 0.8472066192339548, 'macro_f1-score': 0.8490692914546227, 'balanced_accuracy': 0.8476664277774677, 'mcc': 0.813092733365386, 'train_loss': 0.09953057665472584}\n",
      "Epoch 11/20\n"
     ]
    },
    {
     "name": "stderr",
     "output_type": "stream",
     "text": [
      "100%|██████████| 3151/3151 [04:49<00:00, 10.89it/s]\n"
     ]
    },
    {
     "name": "stdout",
     "output_type": "stream",
     "text": [
      "{'val_loss': 0.6920910447191161, 'val_accuracy': 0.8547300908605024, 'precision': 0.8554085847200915, 'recall': 0.8547300908605024, 'f1-score': 0.8547128503254913, 'macro_f1-score': 0.852962544977232, 'balanced_accuracy': 0.8474215621421393, 'mcc': 0.8213503016220277, 'train_loss': 0.08903846044611124}\n",
      "Epoch 12/20\n"
     ]
    },
    {
     "name": "stderr",
     "output_type": "stream",
     "text": [
      "100%|██████████| 3151/3151 [04:49<00:00, 10.88it/s]\n"
     ]
    },
    {
     "name": "stdout",
     "output_type": "stream",
     "text": [
      "{'val_loss': 0.7198075535138034, 'val_accuracy': 0.847461250668092, 'precision': 0.8483742258802547, 'recall': 0.847461250668092, 'f1-score': 0.8476396612591975, 'macro_f1-score': 0.842298258999441, 'balanced_accuracy': 0.8487000436831194, 'mcc': 0.8126912477651105, 'train_loss': 0.09563954422585559}\n",
      "Early stopping.\n",
      "\n",
      "[Fold 3]\n",
      "🚀 Using Word2Vec for data augmentation + under-sampling\n",
      "🔧 Augmenting label 1: 1399 → 5000 (+3601)\n",
      "🔧 Augmenting label 4: 1679 → 5000 (+3321)\n",
      "🔧 Augmenting label 6: 1738 → 5000 (+3262)\n",
      "🔧 Augmenting label 7: 2186 → 5000 (+2814)\n",
      "Label distribution after resampling:\n",
      "  label 0: 5626\n",
      "  label 1: 5000\n",
      "  label 2: 8442\n",
      "  label 3: 10770\n",
      "  label 4: 5000\n",
      "  label 5: 5578\n",
      "  label 6: 5000\n",
      "  label 7: 5000\n",
      "model is roberta-base lstm\n"
     ]
    },
    {
     "name": "stderr",
     "output_type": "stream",
     "text": [
      "Some weights of RobertaModel were not initialized from the model checkpoint at roberta-base and are newly initialized: ['pooler.dense.bias', 'pooler.dense.weight']\n",
      "You should probably TRAIN this model on a down-stream task to be able to use it for predictions and inference.\n"
     ]
    },
    {
     "name": "stdout",
     "output_type": "stream",
     "text": [
      "Epoch 1/20\n"
     ]
    },
    {
     "name": "stderr",
     "output_type": "stream",
     "text": [
      "100%|██████████| 3151/3151 [04:49<00:00, 10.88it/s]\n"
     ]
    },
    {
     "name": "stdout",
     "output_type": "stream",
     "text": [
      "{'val_loss': 0.4478827270878176, 'val_accuracy': 0.8502245028864657, 'precision': 0.8519398911181557, 'recall': 0.8502245028864657, 'f1-score': 0.8502588226132207, 'macro_f1-score': 0.8504865446143144, 'balanced_accuracy': 0.8550558974288656, 'mcc': 0.8165656183799342, 'train_loss': 0.6217077320866625}\n",
      "Epoch 2/20\n"
     ]
    },
    {
     "name": "stderr",
     "output_type": "stream",
     "text": [
      "100%|██████████| 3151/3151 [04:49<00:00, 10.89it/s]\n"
     ]
    },
    {
     "name": "stdout",
     "output_type": "stream",
     "text": [
      "{'val_loss': 0.48421032367290084, 'val_accuracy': 0.840602950609365, 'precision': 0.8531657652039089, 'recall': 0.840602950609365, 'f1-score': 0.841374021971724, 'macro_f1-score': 0.8415546174822841, 'balanced_accuracy': 0.83782563731218, 'mcc': 0.8057037996916461, 'train_loss': 0.3988441876471232}\n",
      "Epoch 3/20\n"
     ]
    },
    {
     "name": "stderr",
     "output_type": "stream",
     "text": [
      "100%|██████████| 3151/3151 [04:49<00:00, 10.88it/s]\n"
     ]
    },
    {
     "name": "stdout",
     "output_type": "stream",
     "text": [
      "{'val_loss': 0.4625273070720016, 'val_accuracy': 0.845734445157152, 'precision': 0.8565235989940746, 'recall': 0.845734445157152, 'f1-score': 0.8468854739025541, 'macro_f1-score': 0.8419531418471256, 'balanced_accuracy': 0.8713697467057698, 'mcc': 0.8141609840670474, 'train_loss': 0.32268379471772857}\n",
      "Epoch 4/20\n"
     ]
    },
    {
     "name": "stderr",
     "output_type": "stream",
     "text": [
      "100%|██████████| 3151/3151 [04:49<00:00, 10.89it/s]\n"
     ]
    },
    {
     "name": "stdout",
     "output_type": "stream",
     "text": [
      "{'val_loss': 0.5027529856158245, 'val_accuracy': 0.8434894162924952, 'precision': 0.8510283143303232, 'recall': 0.8434894162924952, 'f1-score': 0.8449173983870415, 'macro_f1-score': 0.8358775322268277, 'balanced_accuracy': 0.8639762360487596, 'mcc': 0.8092194492371572, 'train_loss': 0.2575724894538231}\n",
      "Early stopping.\n",
      "\n",
      "[Fold 4]\n",
      "🚀 Using Word2Vec for data augmentation + under-sampling\n",
      "🔧 Augmenting label 1: 1399 → 5000 (+3601)\n",
      "🔧 Augmenting label 4: 1679 → 5000 (+3321)\n",
      "🔧 Augmenting label 6: 1738 → 5000 (+3262)\n",
      "🔧 Augmenting label 7: 2186 → 5000 (+2814)\n",
      "Label distribution after resampling:\n",
      "  label 0: 5625\n",
      "  label 1: 5000\n",
      "  label 2: 8441\n",
      "  label 3: 10771\n",
      "  label 4: 5000\n",
      "  label 5: 5579\n",
      "  label 6: 5000\n",
      "  label 7: 5000\n",
      "model is roberta-base lstm\n"
     ]
    },
    {
     "name": "stderr",
     "output_type": "stream",
     "text": [
      "Some weights of RobertaModel were not initialized from the model checkpoint at roberta-base and are newly initialized: ['pooler.dense.bias', 'pooler.dense.weight']\n",
      "You should probably TRAIN this model on a down-stream task to be able to use it for predictions and inference.\n"
     ]
    },
    {
     "name": "stdout",
     "output_type": "stream",
     "text": [
      "Epoch 1/20\n"
     ]
    },
    {
     "name": "stderr",
     "output_type": "stream",
     "text": [
      "100%|██████████| 3151/3151 [04:49<00:00, 10.89it/s]\n"
     ]
    },
    {
     "name": "stdout",
     "output_type": "stream",
     "text": [
      "{'val_loss': 0.5218303232429884, 'val_accuracy': 0.8231772503741714, 'precision': 0.8274771737892136, 'recall': 0.8231772503741714, 'f1-score': 0.8225625732600985, 'macro_f1-score': 0.8180953412846255, 'balanced_accuracy': 0.8456123926296245, 'mcc': 0.785345299272432, 'train_loss': 0.6433435598313241}\n",
      "Epoch 2/20\n"
     ]
    },
    {
     "name": "stderr",
     "output_type": "stream",
     "text": [
      "100%|██████████| 3151/3151 [04:49<00:00, 10.89it/s]\n"
     ]
    },
    {
     "name": "stdout",
     "output_type": "stream",
     "text": [
      "{'val_loss': 0.43159191481068604, 'val_accuracy': 0.8532178747060081, 'precision': 0.8543296143909342, 'recall': 0.8532178747060081, 'f1-score': 0.8533626528023166, 'macro_f1-score': 0.8539693726498097, 'balanced_accuracy': 0.866109567781328, 'mcc': 0.819948485546467, 'train_loss': 0.41412147972230323}\n",
      "Epoch 3/20\n"
     ]
    },
    {
     "name": "stderr",
     "output_type": "stream",
     "text": [
      "100%|██████████| 3151/3151 [04:49<00:00, 10.88it/s]\n"
     ]
    },
    {
     "name": "stdout",
     "output_type": "stream",
     "text": [
      "{'val_loss': 0.5002845503262475, 'val_accuracy': 0.8442377592473808, 'precision': 0.8502061987773873, 'recall': 0.8442377592473808, 'f1-score': 0.8451562612330763, 'macro_f1-score': 0.838578000355929, 'balanced_accuracy': 0.8692550271166948, 'mcc': 0.8102614545896126, 'train_loss': 0.339987712545762}\n",
      "Epoch 4/20\n"
     ]
    },
    {
     "name": "stderr",
     "output_type": "stream",
     "text": [
      "100%|██████████| 3151/3151 [04:49<00:00, 10.88it/s]\n"
     ]
    },
    {
     "name": "stdout",
     "output_type": "stream",
     "text": [
      "{'val_loss': 0.4966883130976532, 'val_accuracy': 0.8289501817404319, 'precision': 0.8382000986201434, 'recall': 0.8289501817404319, 'f1-score': 0.8283442754998988, 'macro_f1-score': 0.8295106191293325, 'balanced_accuracy': 0.8556333369621725, 'mcc': 0.7946485524278175, 'train_loss': 0.2775335533902645}\n",
      "Epoch 5/20\n"
     ]
    },
    {
     "name": "stderr",
     "output_type": "stream",
     "text": [
      "100%|██████████| 3151/3151 [04:49<00:00, 10.89it/s]\n"
     ]
    },
    {
     "name": "stdout",
     "output_type": "stream",
     "text": [
      "{'val_loss': 0.4817492317734684, 'val_accuracy': 0.8608082103912764, 'precision': 0.861812379952603, 'recall': 0.8608082103912764, 'f1-score': 0.8606843067877228, 'macro_f1-score': 0.8587267233375333, 'balanced_accuracy': 0.8719397296476181, 'mcc': 0.8296845965105274, 'train_loss': 0.24287639655171642}\n",
      "Epoch 6/20\n"
     ]
    },
    {
     "name": "stderr",
     "output_type": "stream",
     "text": [
      "100%|██████████| 3151/3151 [04:49<00:00, 10.89it/s]\n"
     ]
    },
    {
     "name": "stdout",
     "output_type": "stream",
     "text": [
      "{'val_loss': 0.4702906293173631, 'val_accuracy': 0.8617703656189866, 'precision': 0.8630492823662745, 'recall': 0.8617703656189866, 'f1-score': 0.8616125461693821, 'macro_f1-score': 0.8620298143314933, 'balanced_accuracy': 0.857622013744058, 'mcc': 0.8296968372099067, 'train_loss': 0.20292002595531047}\n",
      "Epoch 7/20\n"
     ]
    },
    {
     "name": "stderr",
     "output_type": "stream",
     "text": [
      "100%|██████████| 3151/3151 [04:49<00:00, 10.88it/s]\n"
     ]
    },
    {
     "name": "stdout",
     "output_type": "stream",
     "text": [
      "{'val_loss': 0.514288487784469, 'val_accuracy': 0.858242463117383, 'precision': 0.8597693755002532, 'recall': 0.858242463117383, 'f1-score': 0.8585221290771209, 'macro_f1-score': 0.8537126301413626, 'balanced_accuracy': 0.8682635552453775, 'mcc': 0.8262568165463733, 'train_loss': 0.25829686994198264}\n",
      "Epoch 8/20\n"
     ]
    },
    {
     "name": "stderr",
     "output_type": "stream",
     "text": [
      "100%|██████████| 3151/3151 [04:49<00:00, 10.89it/s]\n"
     ]
    },
    {
     "name": "stdout",
     "output_type": "stream",
     "text": [
      "{'val_loss': 0.5674696653337082, 'val_accuracy': 0.8580286508445585, 'precision': 0.8583594397980698, 'recall': 0.8580286508445585, 'f1-score': 0.8581330880567097, 'macro_f1-score': 0.858198388777555, 'balanced_accuracy': 0.8582723983599188, 'mcc': 0.8252829170286027, 'train_loss': 0.16358878866582283}\n",
      "Epoch 9/20\n"
     ]
    },
    {
     "name": "stderr",
     "output_type": "stream",
     "text": [
      "100%|██████████| 3151/3151 [04:49<00:00, 10.89it/s]\n"
     ]
    },
    {
     "name": "stdout",
     "output_type": "stream",
     "text": [
      "{'val_loss': 0.5679745786214391, 'val_accuracy': 0.8431686978832585, 'precision': 0.8473077478745504, 'recall': 0.8431686978832585, 'f1-score': 0.8426869397499394, 'macro_f1-score': 0.844458779096529, 'balanced_accuracy': 0.8526396766268014, 'mcc': 0.8090023578051322, 'train_loss': 0.14633297560422057}\n",
      "Early stopping.\n",
      "\n",
      "[Fold 5]\n",
      "🚀 Using Word2Vec for data augmentation + under-sampling\n",
      "🔧 Augmenting label 1: 1399 → 5000 (+3601)\n",
      "🔧 Augmenting label 4: 1678 → 5000 (+3322)\n",
      "🔧 Augmenting label 6: 1738 → 5000 (+3262)\n",
      "🔧 Augmenting label 7: 2187 → 5000 (+2813)\n",
      "Label distribution after resampling:\n",
      "  label 0: 5625\n",
      "  label 1: 5000\n",
      "  label 2: 8441\n",
      "  label 3: 10771\n",
      "  label 4: 5000\n",
      "  label 5: 5579\n",
      "  label 6: 5000\n",
      "  label 7: 5000\n",
      "model is roberta-base lstm\n"
     ]
    },
    {
     "name": "stderr",
     "output_type": "stream",
     "text": [
      "Some weights of RobertaModel were not initialized from the model checkpoint at roberta-base and are newly initialized: ['pooler.dense.bias', 'pooler.dense.weight']\n",
      "You should probably TRAIN this model on a down-stream task to be able to use it for predictions and inference.\n"
     ]
    },
    {
     "name": "stdout",
     "output_type": "stream",
     "text": [
      "Epoch 1/20\n"
     ]
    },
    {
     "name": "stderr",
     "output_type": "stream",
     "text": [
      "100%|██████████| 3151/3151 [04:49<00:00, 10.88it/s]\n"
     ]
    },
    {
     "name": "stdout",
     "output_type": "stream",
     "text": [
      "{'val_loss': 0.49297882962303285, 'val_accuracy': 0.8298054308317298, 'precision': 0.8350897469872595, 'recall': 0.8298054308317298, 'f1-score': 0.8300430243268213, 'macro_f1-score': 0.829107848153066, 'balanced_accuracy': 0.853881640374448, 'mcc': 0.7928279742761484, 'train_loss': 0.622460063828273}\n",
      "Epoch 2/20\n"
     ]
    },
    {
     "name": "stderr",
     "output_type": "stream",
     "text": [
      "100%|██████████| 3151/3151 [04:49<00:00, 10.88it/s]\n"
     ]
    },
    {
     "name": "stdout",
     "output_type": "stream",
     "text": [
      "{'val_loss': 0.45966590362736304, 'val_accuracy': 0.8414581997006628, 'precision': 0.8471103932599727, 'recall': 0.8414581997006628, 'f1-score': 0.8416292470311598, 'macro_f1-score': 0.8407659768581848, 'balanced_accuracy': 0.8649435592895612, 'mcc': 0.8079208152325601, 'train_loss': 0.39594330694213137}\n",
      "Epoch 3/20\n"
     ]
    },
    {
     "name": "stderr",
     "output_type": "stream",
     "text": [
      "100%|██████████| 3151/3151 [04:49<00:00, 10.88it/s]\n"
     ]
    },
    {
     "name": "stdout",
     "output_type": "stream",
     "text": [
      "{'val_loss': 0.45900428128293436, 'val_accuracy': 0.856852683344024, 'precision': 0.8593163236174081, 'recall': 0.856852683344024, 'f1-score': 0.8573093424924401, 'macro_f1-score': 0.8561606680483409, 'balanced_accuracy': 0.8592915822825207, 'mcc': 0.8241972665520719, 'train_loss': 0.30925120954776864}\n",
      "Epoch 4/20\n"
     ]
    },
    {
     "name": "stderr",
     "output_type": "stream",
     "text": [
      "100%|██████████| 3151/3151 [04:49<00:00, 10.89it/s]\n"
     ]
    },
    {
     "name": "stdout",
     "output_type": "stream",
     "text": [
      "{'val_loss': 0.4620838931339801, 'val_accuracy': 0.853645499251657, 'precision': 0.8549124054888483, 'recall': 0.853645499251657, 'f1-score': 0.8535698391372472, 'macro_f1-score': 0.8506521472987454, 'balanced_accuracy': 0.8670797756606672, 'mcc': 0.8211062457908924, 'train_loss': 0.2575212171319275}\n",
      "Epoch 5/20\n"
     ]
    },
    {
     "name": "stderr",
     "output_type": "stream",
     "text": [
      "100%|██████████| 3151/3151 [04:49<00:00, 10.89it/s]\n"
     ]
    },
    {
     "name": "stdout",
     "output_type": "stream",
     "text": [
      "{'val_loss': 0.5121703524500705, 'val_accuracy': 0.8538593115244815, 'precision': 0.8559699541110197, 'recall': 0.8538593115244815, 'f1-score': 0.8535854338579417, 'macro_f1-score': 0.8497753660123228, 'balanced_accuracy': 0.8598749760132446, 'mcc': 0.8217115172665208, 'train_loss': 0.2139248314101671}\n",
      "Epoch 6/20\n"
     ]
    },
    {
     "name": "stderr",
     "output_type": "stream",
     "text": [
      "100%|██████████| 3151/3151 [04:49<00:00, 10.88it/s]\n"
     ]
    },
    {
     "name": "stdout",
     "output_type": "stream",
     "text": [
      "{'val_loss': 0.5106905398834656, 'val_accuracy': 0.8519350010690614, 'precision': 0.8548576194998748, 'recall': 0.8519350010690614, 'f1-score': 0.8520539588792082, 'macro_f1-score': 0.8502726569004897, 'balanced_accuracy': 0.8654400648504845, 'mcc': 0.8193455882310694, 'train_loss': 0.1930588041364222}\n",
      "Early stopping.\n",
      "\n",
      " === roberta-base + lstm + word2vec Final 5-fold Cross-Validation Results ===\n",
      "val_loss: 0.4968\n",
      "val_accuracy: 0.8569\n",
      "precision: 0.8588\n",
      "recall: 0.8569\n",
      "f1-score: 0.8571\n",
      "macro_f1-score: 0.8553\n",
      "balanced_accuracy: 0.8559\n",
      "mcc: 0.8242\n",
      "train_loss: 0.2989\n",
      "total_seconds: 11867.0000\n",
      "total_time: 3 hrs 17 mins 47 secs\n",
      "▶ Running: roberta-base + bilstm + word2vec\n",
      "tokenizer is roberta-base\n",
      "Using device: cuda\n",
      "CUDA Available: True\n",
      "CUDA Device: NVIDIA GeForce RTX 5070 Ti\n",
      "Current GPU Memory Allocated: 0.02 GB\n",
      "Current GPU Memory Cached: 3.91 GB\n",
      "\n",
      "[Fold 1]\n",
      "🚀 Using Word2Vec for data augmentation + under-sampling\n",
      "🔧 Augmenting label 1: 1399 → 5000 (+3601)\n",
      "🔧 Augmenting label 4: 1678 → 5000 (+3322)\n",
      "🔧 Augmenting label 6: 1737 → 5000 (+3263)\n",
      "🔧 Augmenting label 7: 2187 → 5000 (+2813)\n",
      "Label distribution after resampling:\n",
      "  label 0: 5626\n",
      "  label 1: 5000\n",
      "  label 2: 8442\n",
      "  label 3: 10770\n",
      "  label 4: 5000\n",
      "  label 5: 5578\n",
      "  label 6: 5000\n",
      "  label 7: 5000\n",
      "model is roberta-base bilstm\n"
     ]
    },
    {
     "name": "stderr",
     "output_type": "stream",
     "text": [
      "Some weights of RobertaModel were not initialized from the model checkpoint at roberta-base and are newly initialized: ['pooler.dense.bias', 'pooler.dense.weight']\n",
      "You should probably TRAIN this model on a down-stream task to be able to use it for predictions and inference.\n"
     ]
    },
    {
     "name": "stdout",
     "output_type": "stream",
     "text": [
      "Epoch 1/20\n"
     ]
    },
    {
     "name": "stderr",
     "output_type": "stream",
     "text": [
      "100%|██████████| 3151/3151 [04:58<00:00, 10.57it/s]\n"
     ]
    },
    {
     "name": "stdout",
     "output_type": "stream",
     "text": [
      "{'val_loss': 0.4889661729526825, 'val_accuracy': 0.8373062533404596, 'precision': 0.8441581407936433, 'recall': 0.8373062533404596, 'f1-score': 0.8389570306093629, 'macro_f1-score': 0.8296394412738093, 'balanced_accuracy': 0.8466512285940782, 'mcc': 0.8010361980325517, 'train_loss': 0.612871856823852}\n",
      "Epoch 2/20\n"
     ]
    },
    {
     "name": "stderr",
     "output_type": "stream",
     "text": [
      "100%|██████████| 3151/3151 [04:58<00:00, 10.56it/s]\n"
     ]
    },
    {
     "name": "stdout",
     "output_type": "stream",
     "text": [
      "{'val_loss': 0.49120660091821966, 'val_accuracy': 0.8349545697487974, 'precision': 0.8449722179369602, 'recall': 0.8349545697487974, 'f1-score': 0.8333481043894388, 'macro_f1-score': 0.832944017603563, 'balanced_accuracy': 0.8445402520480867, 'mcc': 0.798841013467324, 'train_loss': 0.40466768335006004}\n",
      "Epoch 3/20\n"
     ]
    },
    {
     "name": "stderr",
     "output_type": "stream",
     "text": [
      "100%|██████████| 3151/3151 [04:57<00:00, 10.58it/s]\n"
     ]
    },
    {
     "name": "stdout",
     "output_type": "stream",
     "text": [
      "{'val_loss': 0.47082007177110413, 'val_accuracy': 0.8526990913949759, 'precision': 0.8568205525156568, 'recall': 0.8526990913949759, 'f1-score': 0.8530062246665879, 'macro_f1-score': 0.8434354608210055, 'balanced_accuracy': 0.8678453139703175, 'mcc': 0.8200717511826576, 'train_loss': 0.31425141949491514}\n",
      "Epoch 4/20\n"
     ]
    },
    {
     "name": "stderr",
     "output_type": "stream",
     "text": [
      "100%|██████████| 3151/3151 [04:58<00:00, 10.57it/s]\n"
     ]
    },
    {
     "name": "stdout",
     "output_type": "stream",
     "text": [
      "{'val_loss': 0.4290737020472685, 'val_accuracy': 0.8624265098877606, 'precision': 0.8647196111050571, 'recall': 0.8624265098877606, 'f1-score': 0.8622763842840738, 'macro_f1-score': 0.8577734594016471, 'balanced_accuracy': 0.8686585322709452, 'mcc': 0.831693955489611, 'train_loss': 0.2629322150355055}\n",
      "Epoch 5/20\n"
     ]
    },
    {
     "name": "stderr",
     "output_type": "stream",
     "text": [
      "100%|██████████| 3151/3151 [04:58<00:00, 10.57it/s]\n"
     ]
    },
    {
     "name": "stdout",
     "output_type": "stream",
     "text": [
      "{'val_loss': 0.510280205269591, 'val_accuracy': 0.8503474078033137, 'precision': 0.8541730676949799, 'recall': 0.8503474078033137, 'f1-score': 0.8500532565909715, 'macro_f1-score': 0.847277113779028, 'balanced_accuracy': 0.8545588631068377, 'mcc': 0.8162965512122466, 'train_loss': 0.20994742412870246}\n",
      "Epoch 6/20\n"
     ]
    },
    {
     "name": "stderr",
     "output_type": "stream",
     "text": [
      "100%|██████████| 3151/3151 [04:57<00:00, 10.58it/s]\n"
     ]
    },
    {
     "name": "stdout",
     "output_type": "stream",
     "text": [
      "{'val_loss': 0.49532304781242315, 'val_accuracy': 0.8584714056654196, 'precision': 0.8597441399961001, 'recall': 0.8584714056654196, 'f1-score': 0.858722797177979, 'macro_f1-score': 0.8532245405832449, 'balanced_accuracy': 0.8522714736685595, 'mcc': 0.825613714277614, 'train_loss': 0.1907262966909154}\n",
      "Epoch 7/20\n"
     ]
    },
    {
     "name": "stderr",
     "output_type": "stream",
     "text": [
      "100%|██████████| 3151/3151 [04:57<00:00, 10.58it/s]\n"
     ]
    },
    {
     "name": "stdout",
     "output_type": "stream",
     "text": [
      "{'val_loss': 0.50508234497701, 'val_accuracy': 0.8587920897915553, 'precision': 0.8619030250453646, 'recall': 0.8587920897915553, 'f1-score': 0.8594329726817737, 'macro_f1-score': 0.8485872515835793, 'balanced_accuracy': 0.8660859703388797, 'mcc': 0.8271812829940953, 'train_loss': 0.16540413868168127}\n",
      "Early stopping.\n",
      "\n",
      "[Fold 2]\n",
      "🚀 Using Word2Vec for data augmentation + under-sampling\n",
      "🔧 Augmenting label 1: 1400 → 5000 (+3600)\n",
      "🔧 Augmenting label 4: 1678 → 5000 (+3322)\n",
      "🔧 Augmenting label 6: 1737 → 5000 (+3263)\n",
      "🔧 Augmenting label 7: 2186 → 5000 (+2814)\n",
      "Label distribution after resampling:\n",
      "  label 0: 5626\n",
      "  label 1: 5000\n",
      "  label 2: 8442\n",
      "  label 3: 10770\n",
      "  label 4: 5000\n",
      "  label 5: 5578\n",
      "  label 6: 5000\n",
      "  label 7: 5000\n",
      "model is roberta-base bilstm\n"
     ]
    },
    {
     "name": "stderr",
     "output_type": "stream",
     "text": [
      "Some weights of RobertaModel were not initialized from the model checkpoint at roberta-base and are newly initialized: ['pooler.dense.bias', 'pooler.dense.weight']\n",
      "You should probably TRAIN this model on a down-stream task to be able to use it for predictions and inference.\n"
     ]
    },
    {
     "name": "stdout",
     "output_type": "stream",
     "text": [
      "Epoch 1/20\n"
     ]
    },
    {
     "name": "stderr",
     "output_type": "stream",
     "text": [
      "100%|██████████| 3151/3151 [04:58<00:00, 10.57it/s]\n"
     ]
    },
    {
     "name": "stdout",
     "output_type": "stream",
     "text": [
      "{'val_loss': 0.5273108942704833, 'val_accuracy': 0.8179583110636024, 'precision': 0.8258742294828298, 'recall': 0.8179583110636024, 'f1-score': 0.8170225436648988, 'macro_f1-score': 0.8219510215037517, 'balanced_accuracy': 0.8445077220494495, 'mcc': 0.7807634631524607, 'train_loss': 0.6184778546991896}\n",
      "Epoch 2/20\n"
     ]
    },
    {
     "name": "stderr",
     "output_type": "stream",
     "text": [
      "100%|██████████| 3151/3151 [04:58<00:00, 10.57it/s]\n"
     ]
    },
    {
     "name": "stdout",
     "output_type": "stream",
     "text": [
      "{'val_loss': 0.4990259488168945, 'val_accuracy': 0.8314270443613041, 'precision': 0.8397935105491439, 'recall': 0.8314270443613041, 'f1-score': 0.8322255449409788, 'macro_f1-score': 0.8236979245340037, 'balanced_accuracy': 0.8545916015989603, 'mcc': 0.794988568827048, 'train_loss': 0.3925671580840778}\n",
      "Epoch 3/20\n"
     ]
    },
    {
     "name": "stderr",
     "output_type": "stream",
     "text": [
      "100%|██████████| 3151/3151 [04:57<00:00, 10.58it/s]\n"
     ]
    },
    {
     "name": "stdout",
     "output_type": "stream",
     "text": [
      "{'val_loss': 0.4612329978018235, 'val_accuracy': 0.8442544094067344, 'precision': 0.8459745797110443, 'recall': 0.8442544094067344, 'f1-score': 0.8439033073256821, 'macro_f1-score': 0.8420755779372473, 'balanced_accuracy': 0.8413066017241561, 'mcc': 0.808197378782265, 'train_loss': 0.3081837837684513}\n",
      "Epoch 4/20\n"
     ]
    },
    {
     "name": "stderr",
     "output_type": "stream",
     "text": [
      "100%|██████████| 3151/3151 [04:58<00:00, 10.57it/s]\n"
     ]
    },
    {
     "name": "stdout",
     "output_type": "stream",
     "text": [
      "{'val_loss': 0.5274789688328647, 'val_accuracy': 0.8440406199893106, 'precision': 0.8485993031150738, 'recall': 0.8440406199893106, 'f1-score': 0.8447440109027801, 'macro_f1-score': 0.83699754620707, 'balanced_accuracy': 0.856963173441623, 'mcc': 0.8098587225816007, 'train_loss': 0.2560708464143407}\n",
      "Epoch 5/20\n"
     ]
    },
    {
     "name": "stderr",
     "output_type": "stream",
     "text": [
      "100%|██████████| 3151/3151 [04:58<00:00, 10.57it/s]\n"
     ]
    },
    {
     "name": "stdout",
     "output_type": "stream",
     "text": [
      "{'val_loss': 0.5456887911973346, 'val_accuracy': 0.8469267771245323, 'precision': 0.8484041378343602, 'recall': 0.8469267771245323, 'f1-score': 0.8467750238546297, 'macro_f1-score': 0.8488055769862595, 'balanced_accuracy': 0.8464039225533395, 'mcc': 0.8118841473163426, 'train_loss': 0.21413867031735398}\n",
      "Epoch 6/20\n"
     ]
    },
    {
     "name": "stderr",
     "output_type": "stream",
     "text": [
      "100%|██████████| 3151/3151 [04:58<00:00, 10.57it/s]\n"
     ]
    },
    {
     "name": "stdout",
     "output_type": "stream",
     "text": [
      "{'val_loss': 1.9819534540176391, 'val_accuracy': 0.2878674505611972, 'precision': 0.08286766909260333, 'recall': 0.2878674505611972, 'f1-score': 0.1286897483999509, 'macro_f1-score': 0.055880644090305444, 'balanced_accuracy': 0.125, 'mcc': 0.0, 'train_loss': 0.25715004538916825}\n",
      "Epoch 7/20\n"
     ]
    },
    {
     "name": "stderr",
     "output_type": "stream",
     "text": [
      "100%|██████████| 3151/3151 [04:58<00:00, 10.55it/s]\n"
     ]
    },
    {
     "name": "stdout",
     "output_type": "stream",
     "text": [
      "{'val_loss': 1.9602526786999825, 'val_accuracy': 0.2878674505611972, 'precision': 0.08286766909260333, 'recall': 0.2878674505611972, 'f1-score': 0.1286897483999509, 'macro_f1-score': 0.055880644090305444, 'balanced_accuracy': 0.125, 'mcc': 0.0, 'train_loss': 2.0367460242153084}\n",
      "Epoch 8/20\n"
     ]
    },
    {
     "name": "stderr",
     "output_type": "stream",
     "text": [
      "100%|██████████| 3151/3151 [04:58<00:00, 10.57it/s]\n"
     ]
    },
    {
     "name": "stdout",
     "output_type": "stream",
     "text": [
      "{'val_loss': 0.5415528404168212, 'val_accuracy': 0.8389096739711385, 'precision': 0.8445801861491582, 'recall': 0.8389096739711385, 'f1-score': 0.8387329422771194, 'macro_f1-score': 0.839409365258057, 'balanced_accuracy': 0.8633425308429761, 'mcc': 0.8049528682410478, 'train_loss': 0.3033504314515657}\n",
      "Early stopping.\n",
      "\n",
      "[Fold 3]\n",
      "🚀 Using Word2Vec for data augmentation + under-sampling\n",
      "🔧 Augmenting label 1: 1399 → 5000 (+3601)\n",
      "🔧 Augmenting label 4: 1679 → 5000 (+3321)\n",
      "🔧 Augmenting label 6: 1738 → 5000 (+3262)\n",
      "🔧 Augmenting label 7: 2186 → 5000 (+2814)\n",
      "Label distribution after resampling:\n",
      "  label 0: 5626\n",
      "  label 1: 5000\n",
      "  label 2: 8442\n",
      "  label 3: 10770\n",
      "  label 4: 5000\n",
      "  label 5: 5578\n",
      "  label 6: 5000\n",
      "  label 7: 5000\n",
      "model is roberta-base bilstm\n"
     ]
    },
    {
     "name": "stderr",
     "output_type": "stream",
     "text": [
      "Some weights of RobertaModel were not initialized from the model checkpoint at roberta-base and are newly initialized: ['pooler.dense.bias', 'pooler.dense.weight']\n",
      "You should probably TRAIN this model on a down-stream task to be able to use it for predictions and inference.\n"
     ]
    },
    {
     "name": "stdout",
     "output_type": "stream",
     "text": [
      "Epoch 1/20\n"
     ]
    },
    {
     "name": "stderr",
     "output_type": "stream",
     "text": [
      "100%|██████████| 3151/3151 [04:58<00:00, 10.57it/s]\n"
     ]
    },
    {
     "name": "stdout",
     "output_type": "stream",
     "text": [
      "{'val_loss': 0.5025632886168284, 'val_accuracy': 0.8290570878768442, 'precision': 0.8353977225775948, 'recall': 0.8290570878768442, 'f1-score': 0.8286139505219347, 'macro_f1-score': 0.8296124317482224, 'balanced_accuracy': 0.831424904113002, 'mcc': 0.7902670683343894, 'train_loss': 0.625505778054204}\n",
      "Epoch 2/20\n"
     ]
    },
    {
     "name": "stderr",
     "output_type": "stream",
     "text": [
      "100%|██████████| 3151/3151 [04:58<00:00, 10.57it/s]\n"
     ]
    },
    {
     "name": "stdout",
     "output_type": "stream",
     "text": [
      "{'val_loss': 0.4651659865760141, 'val_accuracy': 0.8450930083386786, 'precision': 0.848965079665692, 'recall': 0.8450930083386786, 'f1-score': 0.8444155544318055, 'macro_f1-score': 0.8463465097136027, 'balanced_accuracy': 0.8395611328446915, 'mcc': 0.8095926326890343, 'train_loss': 0.3983857760643891}\n",
      "Epoch 3/20\n"
     ]
    },
    {
     "name": "stderr",
     "output_type": "stream",
     "text": [
      "100%|██████████| 3151/3151 [04:58<00:00, 10.55it/s]\n"
     ]
    },
    {
     "name": "stdout",
     "output_type": "stream",
     "text": [
      "{'val_loss': 0.43057657968189217, 'val_accuracy': 0.8549283728886038, 'precision': 0.8588373677749291, 'recall': 0.8549283728886038, 'f1-score': 0.8553288174921813, 'macro_f1-score': 0.8526118980899493, 'balanced_accuracy': 0.8746161313695011, 'mcc': 0.8227720262123035, 'train_loss': 0.31357534465083564}\n",
      "Epoch 4/20\n"
     ]
    },
    {
     "name": "stderr",
     "output_type": "stream",
     "text": [
      "100%|██████████| 3151/3151 [04:58<00:00, 10.57it/s]\n"
     ]
    },
    {
     "name": "stdout",
     "output_type": "stream",
     "text": [
      "{'val_loss': 0.4558866562791423, 'val_accuracy': 0.8648706435749413, 'precision': 0.8680197730360564, 'recall': 0.8648706435749413, 'f1-score': 0.8652464434325068, 'macro_f1-score': 0.8633190680306393, 'balanced_accuracy': 0.8608390884815867, 'mcc': 0.8337873652606161, 'train_loss': 0.2493236609808486}\n",
      "Epoch 5/20\n"
     ]
    },
    {
     "name": "stderr",
     "output_type": "stream",
     "text": [
      "100%|██████████| 3151/3151 [04:58<00:00, 10.56it/s]\n"
     ]
    },
    {
     "name": "stdout",
     "output_type": "stream",
     "text": [
      "{'val_loss': 0.5149797529650805, 'val_accuracy': 0.850331409022878, 'precision': 0.857331774008309, 'recall': 0.850331409022878, 'f1-score': 0.8506883628295545, 'macro_f1-score': 0.8437171504661201, 'balanced_accuracy': 0.8738961261381508, 'mcc': 0.8191497552375618, 'train_loss': 0.21171546951988526}\n",
      "Epoch 6/20\n"
     ]
    },
    {
     "name": "stderr",
     "output_type": "stream",
     "text": [
      "100%|██████████| 3151/3151 [04:58<00:00, 10.57it/s]\n"
     ]
    },
    {
     "name": "stdout",
     "output_type": "stream",
     "text": [
      "{'val_loss': 0.5424351366567147, 'val_accuracy': 0.858776993799444, 'precision': 0.8639341841635606, 'recall': 0.858776993799444, 'f1-score': 0.8591456130180578, 'macro_f1-score': 0.8584682172105875, 'balanced_accuracy': 0.8630426153974509, 'mcc': 0.8277045662850026, 'train_loss': 0.1795350235489486}\n",
      "Epoch 7/20\n"
     ]
    },
    {
     "name": "stderr",
     "output_type": "stream",
     "text": [
      "100%|██████████| 3151/3151 [04:58<00:00, 10.57it/s]\n"
     ]
    },
    {
     "name": "stdout",
     "output_type": "stream",
     "text": [
      "{'val_loss': 0.5680794415454197, 'val_accuracy': 0.8570664956168484, 'precision': 0.8589267646941675, 'recall': 0.8570664956168484, 'f1-score': 0.8569618997106369, 'macro_f1-score': 0.8523211199812144, 'balanced_accuracy': 0.8514915723083758, 'mcc': 0.824214594958701, 'train_loss': 0.1582276166604905}\n",
      "Early stopping.\n",
      "\n",
      "[Fold 4]\n",
      "🚀 Using Word2Vec for data augmentation + under-sampling\n",
      "🔧 Augmenting label 1: 1399 → 5000 (+3601)\n",
      "🔧 Augmenting label 4: 1679 → 5000 (+3321)\n",
      "🔧 Augmenting label 6: 1738 → 5000 (+3262)\n",
      "🔧 Augmenting label 7: 2186 → 5000 (+2814)\n",
      "Label distribution after resampling:\n",
      "  label 0: 5625\n",
      "  label 1: 5000\n",
      "  label 2: 8441\n",
      "  label 3: 10771\n",
      "  label 4: 5000\n",
      "  label 5: 5579\n",
      "  label 6: 5000\n",
      "  label 7: 5000\n",
      "model is roberta-base bilstm\n"
     ]
    },
    {
     "name": "stderr",
     "output_type": "stream",
     "text": [
      "Some weights of RobertaModel were not initialized from the model checkpoint at roberta-base and are newly initialized: ['pooler.dense.bias', 'pooler.dense.weight']\n",
      "You should probably TRAIN this model on a down-stream task to be able to use it for predictions and inference.\n"
     ]
    },
    {
     "name": "stdout",
     "output_type": "stream",
     "text": [
      "Epoch 1/20\n"
     ]
    },
    {
     "name": "stderr",
     "output_type": "stream",
     "text": [
      "100%|██████████| 3151/3151 [04:58<00:00, 10.55it/s]\n"
     ]
    },
    {
     "name": "stdout",
     "output_type": "stream",
     "text": [
      "{'val_loss': 0.6490860669404014, 'val_accuracy': 0.7861877271755399, 'precision': 0.8167606787970069, 'recall': 0.7861877271755399, 'f1-score': 0.7904445207699485, 'macro_f1-score': 0.7783568018722756, 'balanced_accuracy': 0.8366184633007334, 'mcc': 0.7452588312874387, 'train_loss': 0.7472899426596481}\n",
      "Epoch 2/20\n"
     ]
    },
    {
     "name": "stderr",
     "output_type": "stream",
     "text": [
      "100%|██████████| 3151/3151 [04:58<00:00, 10.55it/s]\n"
     ]
    },
    {
     "name": "stdout",
     "output_type": "stream",
     "text": [
      "{'val_loss': 0.5130493697925256, 'val_accuracy': 0.8310883044686765, 'precision': 0.8378642039025688, 'recall': 0.8310883044686765, 'f1-score': 0.831448276669578, 'macro_f1-score': 0.8226104527621874, 'balanced_accuracy': 0.8543004817470607, 'mcc': 0.7949726313259472, 'train_loss': 0.4505269823460513}\n",
      "Epoch 3/20\n"
     ]
    },
    {
     "name": "stderr",
     "output_type": "stream",
     "text": [
      "100%|██████████| 3151/3151 [04:58<00:00, 10.57it/s]\n"
     ]
    },
    {
     "name": "stdout",
     "output_type": "stream",
     "text": [
      "{'val_loss': 0.4826978666628273, 'val_accuracy': 0.8424203549283729, 'precision': 0.8515308486583806, 'recall': 0.8424203549283729, 'f1-score': 0.8443238583947439, 'macro_f1-score': 0.8361727017847524, 'balanced_accuracy': 0.8619255323768997, 'mcc': 0.8086446766886194, 'train_loss': 0.3592932719382023}\n",
      "Epoch 4/20\n"
     ]
    },
    {
     "name": "stderr",
     "output_type": "stream",
     "text": [
      "100%|██████████| 3151/3151 [04:57<00:00, 10.58it/s]\n"
     ]
    },
    {
     "name": "stdout",
     "output_type": "stream",
     "text": [
      "{'val_loss': 0.5126653029973436, 'val_accuracy': 0.8484070985674578, 'precision': 0.8517458735672637, 'recall': 0.8484070985674578, 'f1-score': 0.8488484243040011, 'macro_f1-score': 0.8489614681267912, 'balanced_accuracy': 0.8352909065515509, 'mcc': 0.8129736518600875, 'train_loss': 0.3023672688587488}\n",
      "Epoch 5/20\n"
     ]
    },
    {
     "name": "stderr",
     "output_type": "stream",
     "text": [
      "100%|██████████| 3151/3151 [04:58<00:00, 10.56it/s]\n"
     ]
    },
    {
     "name": "stdout",
     "output_type": "stream",
     "text": [
      "{'val_loss': 0.531043828277188, 'val_accuracy': 0.850331409022878, 'precision': 0.8518465003709733, 'recall': 0.850331409022878, 'f1-score': 0.8504045728824006, 'macro_f1-score': 0.8458182988251883, 'balanced_accuracy': 0.858285967455896, 'mcc': 0.8164249306308842, 'train_loss': 0.24802176490152963}\n",
      "Epoch 6/20\n"
     ]
    },
    {
     "name": "stderr",
     "output_type": "stream",
     "text": [
      "100%|██████████| 3151/3151 [04:57<00:00, 10.58it/s]\n"
     ]
    },
    {
     "name": "stdout",
     "output_type": "stream",
     "text": [
      "{'val_loss': 0.49521262924003806, 'val_accuracy': 0.8601667735728031, 'precision': 0.8617703576647386, 'recall': 0.8601667735728031, 'f1-score': 0.8601895986946315, 'macro_f1-score': 0.8578972338902986, 'balanced_accuracy': 0.8660265672767008, 'mcc': 0.8289972800042904, 'train_loss': 0.22155948616385457}\n",
      "Epoch 7/20\n"
     ]
    },
    {
     "name": "stderr",
     "output_type": "stream",
     "text": [
      "100%|██████████| 3151/3151 [04:57<00:00, 10.57it/s]\n"
     ]
    },
    {
     "name": "stdout",
     "output_type": "stream",
     "text": [
      "{'val_loss': 0.5321442212224898, 'val_accuracy': 0.8586700876630319, 'precision': 0.8591562446913683, 'recall': 0.8586700876630319, 'f1-score': 0.8584850224535375, 'macro_f1-score': 0.8540282273834336, 'balanced_accuracy': 0.8576712630882839, 'mcc': 0.8266645462911296, 'train_loss': 0.1871545663226416}\n",
      "Epoch 8/20\n"
     ]
    },
    {
     "name": "stderr",
     "output_type": "stream",
     "text": [
      "100%|██████████| 3151/3151 [04:58<00:00, 10.56it/s]\n"
     ]
    },
    {
     "name": "stdout",
     "output_type": "stream",
     "text": [
      "{'val_loss': 0.566687142325597, 'val_accuracy': 0.8567457772076117, 'precision': 0.8576021004623231, 'recall': 0.8567457772076117, 'f1-score': 0.8566036651112867, 'macro_f1-score': 0.8531553241715328, 'balanced_accuracy': 0.8547660852032937, 'mcc': 0.8237034510709343, 'train_loss': 0.1675280156780019}\n",
      "Epoch 9/20\n"
     ]
    },
    {
     "name": "stderr",
     "output_type": "stream",
     "text": [
      "100%|██████████| 3151/3151 [04:57<00:00, 10.58it/s]\n"
     ]
    },
    {
     "name": "stdout",
     "output_type": "stream",
     "text": [
      "{'val_loss': 0.6321229837305493, 'val_accuracy': 0.8474449433397477, 'precision': 0.8507953933969427, 'recall': 0.8474449433397477, 'f1-score': 0.8468627405877303, 'macro_f1-score': 0.848645423672568, 'balanced_accuracy': 0.8458439875284767, 'mcc': 0.8128631490465178, 'train_loss': 0.15029523684177695}\n",
      "Early stopping.\n",
      "\n",
      "[Fold 5]\n",
      "🚀 Using Word2Vec for data augmentation + under-sampling\n",
      "🔧 Augmenting label 1: 1399 → 5000 (+3601)\n",
      "🔧 Augmenting label 4: 1678 → 5000 (+3322)\n",
      "🔧 Augmenting label 6: 1738 → 5000 (+3262)\n",
      "🔧 Augmenting label 7: 2187 → 5000 (+2813)\n",
      "Label distribution after resampling:\n",
      "  label 0: 5625\n",
      "  label 1: 5000\n",
      "  label 2: 8441\n",
      "  label 3: 10771\n",
      "  label 4: 5000\n",
      "  label 5: 5579\n",
      "  label 6: 5000\n",
      "  label 7: 5000\n",
      "model is roberta-base bilstm\n"
     ]
    },
    {
     "name": "stderr",
     "output_type": "stream",
     "text": [
      "Some weights of RobertaModel were not initialized from the model checkpoint at roberta-base and are newly initialized: ['pooler.dense.bias', 'pooler.dense.weight']\n",
      "You should probably TRAIN this model on a down-stream task to be able to use it for predictions and inference.\n"
     ]
    },
    {
     "name": "stdout",
     "output_type": "stream",
     "text": [
      "Epoch 1/20\n"
     ]
    },
    {
     "name": "stderr",
     "output_type": "stream",
     "text": [
      "100%|██████████| 3151/3151 [04:58<00:00, 10.56it/s]\n"
     ]
    },
    {
     "name": "stdout",
     "output_type": "stream",
     "text": [
      "{'val_loss': 0.5266956058895995, 'val_accuracy': 0.8231772503741714, 'precision': 0.8301031181051964, 'recall': 0.8231772503741714, 'f1-score': 0.8236553320278738, 'macro_f1-score': 0.8206307118120282, 'balanced_accuracy': 0.8422035059478505, 'mcc': 0.7841985849904483, 'train_loss': 0.8772844103892354}\n",
      "Epoch 2/20\n"
     ]
    },
    {
     "name": "stderr",
     "output_type": "stream",
     "text": [
      "100%|██████████| 3151/3151 [04:58<00:00, 10.56it/s]\n"
     ]
    },
    {
     "name": "stdout",
     "output_type": "stream",
     "text": [
      "{'val_loss': 0.4914849760122279, 'val_accuracy': 0.8413512935642505, 'precision': 0.8435580794128891, 'recall': 0.8413512935642505, 'f1-score': 0.8411983692419145, 'macro_f1-score': 0.8411995701087942, 'balanced_accuracy': 0.8527913929618398, 'mcc': 0.8054386272704329, 'train_loss': 0.434802792787254}\n",
      "Epoch 3/20\n"
     ]
    },
    {
     "name": "stderr",
     "output_type": "stream",
     "text": [
      "100%|██████████| 3151/3151 [04:58<00:00, 10.56it/s]\n"
     ]
    },
    {
     "name": "stdout",
     "output_type": "stream",
     "text": [
      "{'val_loss': 0.5492179527878761, 'val_accuracy': 0.837823391062647, 'precision': 0.8451950488205459, 'recall': 0.837823391062647, 'f1-score': 0.838056520163413, 'macro_f1-score': 0.8354042734831907, 'balanced_accuracy': 0.8598374333304628, 'mcc': 0.8034540960154114, 'train_loss': 0.3372477405154513}\n",
      "Epoch 4/20\n"
     ]
    },
    {
     "name": "stderr",
     "output_type": "stream",
     "text": [
      "100%|██████████| 3151/3151 [04:57<00:00, 10.58it/s]\n"
     ]
    },
    {
     "name": "stdout",
     "output_type": "stream",
     "text": [
      "{'val_loss': 0.5024004083890945, 'val_accuracy': 0.8394269831088305, 'precision': 0.8435068042934946, 'recall': 0.8394269831088305, 'f1-score': 0.8393812507035741, 'macro_f1-score': 0.8407289491949652, 'balanced_accuracy': 0.8564006662970829, 'mcc': 0.8046622790660958, 'train_loss': 0.29168276682641486}\n",
      "Epoch 5/20\n"
     ]
    },
    {
     "name": "stderr",
     "output_type": "stream",
     "text": [
      "100%|██████████| 3151/3151 [04:58<00:00, 10.57it/s]\n"
     ]
    },
    {
     "name": "stdout",
     "output_type": "stream",
     "text": [
      "{'val_loss': 0.5254720362253551, 'val_accuracy': 0.8439170408381441, 'precision': 0.8461204321778338, 'recall': 0.8439170408381441, 'f1-score': 0.8435475072854113, 'macro_f1-score': 0.8399557174205412, 'balanced_accuracy': 0.8639448696818606, 'mcc': 0.8098405982236885, 'train_loss': 0.23454622671709188}\n",
      "Early stopping.\n",
      "\n",
      " === roberta-base + bilstm + word2vec Final 5-fold Cross-Validation Results ===\n",
      "val_loss: 0.4835\n",
      "val_accuracy: 0.8551\n",
      "precision: 0.8573\n",
      "recall: 0.8551\n",
      "f1-score: 0.8551\n",
      "macro_f1-score: 0.8538\n",
      "balanced_accuracy: 0.8589\n",
      "mcc: 0.8224\n",
      "train_loss: 0.2766\n",
      "total_seconds: 11579.0000\n",
      "total_time: 3 hrs 12 mins 59 secs\n",
      "▶ Running: microsoft/deberta-base + plain + word2vec\n",
      "tokenizer is microsoft/deberta-base\n",
      "Using device: cuda\n",
      "CUDA Available: True\n",
      "CUDA Device: NVIDIA GeForce RTX 5070 Ti\n",
      "Current GPU Memory Allocated: 0.02 GB\n",
      "Current GPU Memory Cached: 3.91 GB\n",
      "\n",
      "[Fold 1]\n",
      "🚀 Using Word2Vec for data augmentation + under-sampling\n",
      "🔧 Augmenting label 1: 1399 → 5000 (+3601)\n",
      "🔧 Augmenting label 4: 1678 → 5000 (+3322)\n",
      "🔧 Augmenting label 6: 1737 → 5000 (+3263)\n",
      "🔧 Augmenting label 7: 2187 → 5000 (+2813)\n",
      "Label distribution after resampling:\n",
      "  label 0: 5626\n",
      "  label 1: 5000\n",
      "  label 2: 8442\n",
      "  label 3: 10770\n",
      "  label 4: 5000\n",
      "  label 5: 5578\n",
      "  label 6: 5000\n",
      "  label 7: 5000\n",
      "model is microsoft/deberta-base\n"
     ]
    },
    {
     "name": "stderr",
     "output_type": "stream",
     "text": [
      "Some weights of DebertaForSequenceClassification were not initialized from the model checkpoint at microsoft/deberta-base and are newly initialized: ['classifier.bias', 'classifier.weight', 'pooler.dense.bias', 'pooler.dense.weight']\n",
      "You should probably TRAIN this model on a down-stream task to be able to use it for predictions and inference.\n"
     ]
    },
    {
     "name": "stdout",
     "output_type": "stream",
     "text": [
      "Epoch 1/20\n"
     ]
    },
    {
     "name": "stderr",
     "output_type": "stream",
     "text": [
      "100%|██████████| 3151/3151 [05:20<00:00,  9.84it/s]\n"
     ]
    },
    {
     "name": "stdout",
     "output_type": "stream",
     "text": [
      "{'val_loss': 0.4940493374553501, 'val_accuracy': 0.830358097274185, 'precision': 0.8411658967376732, 'recall': 0.830358097274185, 'f1-score': 0.8314082189239391, 'macro_f1-score': 0.8223581221581409, 'balanced_accuracy': 0.8566659621661163, 'mcc': 0.7948751194027066, 'train_loss': 0.6178365448901801}\n",
      "Epoch 2/20\n"
     ]
    },
    {
     "name": "stderr",
     "output_type": "stream",
     "text": [
      "100%|██████████| 3151/3151 [05:19<00:00,  9.86it/s]\n"
     ]
    },
    {
     "name": "stdout",
     "output_type": "stream",
     "text": [
      "{'val_loss': 0.41353855557803415, 'val_accuracy': 0.8637092463923036, 'precision': 0.8655174718890918, 'recall': 0.8637092463923036, 'f1-score': 0.8641408771082202, 'macro_f1-score': 0.8571063842123008, 'balanced_accuracy': 0.8705488022072732, 'mcc': 0.8330177580927769, 'train_loss': 0.33055312561402667}\n",
      "Epoch 3/20\n"
     ]
    },
    {
     "name": "stderr",
     "output_type": "stream",
     "text": [
      "100%|██████████| 3151/3151 [05:19<00:00,  9.86it/s]\n"
     ]
    },
    {
     "name": "stdout",
     "output_type": "stream",
     "text": [
      "{'val_loss': 0.6525399075645921, 'val_accuracy': 0.7653661143773384, 'precision': 0.7788182847548235, 'recall': 0.7653661143773384, 'f1-score': 0.7525013656673641, 'macro_f1-score': 0.7111159014521717, 'balanced_accuracy': 0.7101562790682168, 'mcc': 0.7112552460793939, 'train_loss': 0.3581349706455772}\n",
      "Epoch 4/20\n"
     ]
    },
    {
     "name": "stderr",
     "output_type": "stream",
     "text": [
      "100%|██████████| 3151/3151 [05:19<00:00,  9.86it/s]\n"
     ]
    },
    {
     "name": "stdout",
     "output_type": "stream",
     "text": [
      "{'val_loss': 0.5074111996250402, 'val_accuracy': 0.8672367717797969, 'precision': 0.8677454079445196, 'recall': 0.8672367717797969, 'f1-score': 0.8670137907169607, 'macro_f1-score': 0.8616576648683212, 'balanced_accuracy': 0.8562185214063025, 'mcc': 0.8363564622247366, 'train_loss': 0.254777796025604}\n",
      "Epoch 5/20\n"
     ]
    },
    {
     "name": "stderr",
     "output_type": "stream",
     "text": [
      "100%|██████████| 3151/3151 [05:19<00:00,  9.87it/s]\n"
     ]
    },
    {
     "name": "stdout",
     "output_type": "stream",
     "text": [
      "{'val_loss': 0.5261441622586109, 'val_accuracy': 0.8570817744521646, 'precision': 0.8593605264812277, 'recall': 0.8570817744521646, 'f1-score': 0.8574233502166091, 'macro_f1-score': 0.845230745653083, 'balanced_accuracy': 0.862031101183254, 'mcc': 0.8253736827781999, 'train_loss': 0.634300581966351}\n",
      "Epoch 6/20\n"
     ]
    },
    {
     "name": "stderr",
     "output_type": "stream",
     "text": [
      "100%|██████████| 3151/3151 [05:19<00:00,  9.87it/s]\n"
     ]
    },
    {
     "name": "stdout",
     "output_type": "stream",
     "text": [
      "{'val_loss': 0.5397007233045327, 'val_accuracy': 0.8622127204703367, 'precision': 0.8628014648978504, 'recall': 0.8622127204703367, 'f1-score': 0.8617935490185387, 'macro_f1-score': 0.8570289146972687, 'balanced_accuracy': 0.8539246244421621, 'mcc': 0.8305938531606074, 'train_loss': 0.16243127588757117}\n",
      "Epoch 7/20\n"
     ]
    },
    {
     "name": "stderr",
     "output_type": "stream",
     "text": [
      "100%|██████████| 3151/3151 [05:19<00:00,  9.87it/s]\n"
     ]
    },
    {
     "name": "stdout",
     "output_type": "stream",
     "text": [
      "{'val_loss': 0.647826074789732, 'val_accuracy': 0.8390165686798503, 'precision': 0.8462269689277637, 'recall': 0.8390165686798503, 'f1-score': 0.8395259154549028, 'macro_f1-score': 0.8282641757233444, 'balanced_accuracy': 0.8613894877338677, 'mcc': 0.8054760309160871, 'train_loss': 0.14275423847237895}\n",
      "Early stopping.\n",
      "\n",
      "[Fold 2]\n",
      "🚀 Using Word2Vec for data augmentation + under-sampling\n",
      "🔧 Augmenting label 1: 1400 → 5000 (+3600)\n",
      "🔧 Augmenting label 4: 1678 → 5000 (+3322)\n",
      "🔧 Augmenting label 6: 1737 → 5000 (+3263)\n",
      "🔧 Augmenting label 7: 2186 → 5000 (+2814)\n",
      "Label distribution after resampling:\n",
      "  label 0: 5626\n",
      "  label 1: 5000\n",
      "  label 2: 8442\n",
      "  label 3: 10770\n",
      "  label 4: 5000\n",
      "  label 5: 5578\n",
      "  label 6: 5000\n",
      "  label 7: 5000\n",
      "model is microsoft/deberta-base\n"
     ]
    },
    {
     "name": "stderr",
     "output_type": "stream",
     "text": [
      "Some weights of DebertaForSequenceClassification were not initialized from the model checkpoint at microsoft/deberta-base and are newly initialized: ['classifier.bias', 'classifier.weight', 'pooler.dense.bias', 'pooler.dense.weight']\n",
      "You should probably TRAIN this model on a down-stream task to be able to use it for predictions and inference.\n"
     ]
    },
    {
     "name": "stdout",
     "output_type": "stream",
     "text": [
      "Epoch 1/20\n"
     ]
    },
    {
     "name": "stderr",
     "output_type": "stream",
     "text": [
      "100%|██████████| 3151/3151 [05:19<00:00,  9.87it/s]\n"
     ]
    },
    {
     "name": "stdout",
     "output_type": "stream",
     "text": [
      "{'val_loss': 0.46034207199819577, 'val_accuracy': 0.8439337252805986, 'precision': 0.8442989900436098, 'recall': 0.8439337252805986, 'f1-score': 0.8439979547253526, 'macro_f1-score': 0.8418472949764966, 'balanced_accuracy': 0.8459675414499261, 'mcc': 0.8081725430680177, 'train_loss': 0.6029256081338044}\n",
      "Epoch 2/20\n"
     ]
    },
    {
     "name": "stderr",
     "output_type": "stream",
     "text": [
      "100%|██████████| 3151/3151 [05:19<00:00,  9.88it/s]\n"
     ]
    },
    {
     "name": "stdout",
     "output_type": "stream",
     "text": [
      "{'val_loss': 0.48201936565610204, 'val_accuracy': 0.8398717263495457, 'precision': 0.8447620319712105, 'recall': 0.8398717263495457, 'f1-score': 0.8400795760976634, 'macro_f1-score': 0.8373174792317786, 'balanced_accuracy': 0.8499195050177687, 'mcc': 0.8038555793955536, 'train_loss': 0.310350664676723}\n",
      "Epoch 3/20\n"
     ]
    },
    {
     "name": "stderr",
     "output_type": "stream",
     "text": [
      "100%|██████████| 3151/3151 [05:19<00:00,  9.88it/s]\n"
     ]
    },
    {
     "name": "stdout",
     "output_type": "stream",
     "text": [
      "{'val_loss': 0.5004752278670223, 'val_accuracy': 0.8530197755211117, 'precision': 0.8535006627111275, 'recall': 0.8530197755211117, 'f1-score': 0.8529537017581269, 'macro_f1-score': 0.8503246844315151, 'balanced_accuracy': 0.8596515646483668, 'mcc': 0.8198156811319088, 'train_loss': 0.22100633378053436}\n",
      "Epoch 4/20\n"
     ]
    },
    {
     "name": "stderr",
     "output_type": "stream",
     "text": [
      "100%|██████████| 3151/3151 [05:19<00:00,  9.88it/s]\n"
     ]
    },
    {
     "name": "stdout",
     "output_type": "stream",
     "text": [
      "{'val_loss': 0.5185487624289643, 'val_accuracy': 0.8504543025120257, 'precision': 0.8511630314796899, 'recall': 0.8504543025120257, 'f1-score': 0.8504752255666777, 'macro_f1-score': 0.8486943227550365, 'balanced_accuracy': 0.8600789317792885, 'mcc': 0.8167638810208044, 'train_loss': 0.15074903460699646}\n",
      "Epoch 5/20\n"
     ]
    },
    {
     "name": "stderr",
     "output_type": "stream",
     "text": [
      "100%|██████████| 3151/3151 [05:19<00:00,  9.88it/s]\n"
     ]
    },
    {
     "name": "stdout",
     "output_type": "stream",
     "text": [
      "{'val_loss': 0.6519295224257243, 'val_accuracy': 0.8442544094067344, 'precision': 0.8452068003189298, 'recall': 0.8442544094067344, 'f1-score': 0.8441824538485622, 'macro_f1-score': 0.8405632490094237, 'balanced_accuracy': 0.838818587562912, 'mcc': 0.8081486494679248, 'train_loss': 0.11467349800294971}\n",
      "Epoch 6/20\n"
     ]
    },
    {
     "name": "stderr",
     "output_type": "stream",
     "text": [
      "100%|██████████| 3151/3151 [05:19<00:00,  9.88it/s]\n"
     ]
    },
    {
     "name": "stdout",
     "output_type": "stream",
     "text": [
      "{'val_loss': 0.6411780300900404, 'val_accuracy': 0.848637092463923, 'precision': 0.8486334862777635, 'recall': 0.848637092463923, 'f1-score': 0.8484558073180974, 'macro_f1-score': 0.8475186319797979, 'balanced_accuracy': 0.8423729983409247, 'mcc': 0.813608454548572, 'train_loss': 0.09582472441549733}\n",
      "Early stopping.\n",
      "\n",
      "[Fold 3]\n",
      "🚀 Using Word2Vec for data augmentation + under-sampling\n",
      "🔧 Augmenting label 1: 1399 → 5000 (+3601)\n",
      "🔧 Augmenting label 4: 1679 → 5000 (+3321)\n",
      "🔧 Augmenting label 6: 1738 → 5000 (+3262)\n",
      "🔧 Augmenting label 7: 2186 → 5000 (+2814)\n",
      "Label distribution after resampling:\n",
      "  label 0: 5626\n",
      "  label 1: 5000\n",
      "  label 2: 8442\n",
      "  label 3: 10770\n",
      "  label 4: 5000\n",
      "  label 5: 5578\n",
      "  label 6: 5000\n",
      "  label 7: 5000\n",
      "model is microsoft/deberta-base\n"
     ]
    },
    {
     "name": "stderr",
     "output_type": "stream",
     "text": [
      "Some weights of DebertaForSequenceClassification were not initialized from the model checkpoint at microsoft/deberta-base and are newly initialized: ['classifier.bias', 'classifier.weight', 'pooler.dense.bias', 'pooler.dense.weight']\n",
      "You should probably TRAIN this model on a down-stream task to be able to use it for predictions and inference.\n"
     ]
    },
    {
     "name": "stdout",
     "output_type": "stream",
     "text": [
      "Epoch 1/20\n"
     ]
    },
    {
     "name": "stderr",
     "output_type": "stream",
     "text": [
      "100%|██████████| 3151/3151 [05:19<00:00,  9.86it/s]\n"
     ]
    },
    {
     "name": "stdout",
     "output_type": "stream",
     "text": [
      "{'val_loss': 1.9486154185401068, 'val_accuracy': 0.22557194782980544, 'precision': 0.050882703647732466, 'recall': 0.22557194782980544, 'f1-score': 0.08303503313344197, 'macro_f1-score': 0.04601360781577111, 'balanced_accuracy': 0.125, 'mcc': 0.0, 'train_loss': 2.0373651674156226}\n",
      "Epoch 2/20\n"
     ]
    },
    {
     "name": "stderr",
     "output_type": "stream",
     "text": [
      "100%|██████████| 3151/3151 [05:19<00:00,  9.87it/s]\n"
     ]
    },
    {
     "name": "stdout",
     "output_type": "stream",
     "text": [
      "{'val_loss': 1.950605745193286, 'val_accuracy': 0.22557194782980544, 'precision': 0.050882703647732466, 'recall': 0.22557194782980544, 'f1-score': 0.08303503313344197, 'macro_f1-score': 0.04601360781577111, 'balanced_accuracy': 0.125, 'mcc': 0.0, 'train_loss': 2.0283917201885684}\n",
      "Epoch 3/20\n"
     ]
    },
    {
     "name": "stderr",
     "output_type": "stream",
     "text": [
      "100%|██████████| 3151/3151 [05:19<00:00,  9.87it/s]\n"
     ]
    },
    {
     "name": "stdout",
     "output_type": "stream",
     "text": [
      "{'val_loss': 1.940143898409656, 'val_accuracy': 0.22557194782980544, 'precision': 0.050882703647732466, 'recall': 0.22557194782980544, 'f1-score': 0.08303503313344197, 'macro_f1-score': 0.04601360781577111, 'balanced_accuracy': 0.125, 'mcc': 0.0, 'train_loss': 2.0180917937049636}\n",
      "Epoch 4/20\n"
     ]
    },
    {
     "name": "stderr",
     "output_type": "stream",
     "text": [
      "100%|██████████| 3151/3151 [05:19<00:00,  9.87it/s]\n"
     ]
    },
    {
     "name": "stdout",
     "output_type": "stream",
     "text": [
      "{'val_loss': 1.928449592834864, 'val_accuracy': 0.2878982253581356, 'precision': 0.08288538816436382, 'recall': 0.2878982253581356, 'f1-score': 0.12871418957241787, 'macro_f1-score': 0.055885282642981655, 'balanced_accuracy': 0.125, 'mcc': 0.0, 'train_loss': 2.0173533755005524}\n",
      "Epoch 5/20\n"
     ]
    },
    {
     "name": "stderr",
     "output_type": "stream",
     "text": [
      "100%|██████████| 3151/3151 [05:19<00:00,  9.87it/s]\n"
     ]
    },
    {
     "name": "stdout",
     "output_type": "stream",
     "text": [
      "{'val_loss': 1.9009347887120696, 'val_accuracy': 0.22557194782980544, 'precision': 0.050882703647732466, 'recall': 0.22557194782980544, 'f1-score': 0.08303503313344197, 'macro_f1-score': 0.04601360781577111, 'balanced_accuracy': 0.125, 'mcc': 0.0, 'train_loss': 2.0146592380659274}\n",
      "Epoch 6/20\n"
     ]
    },
    {
     "name": "stderr",
     "output_type": "stream",
     "text": [
      "100%|██████████| 3151/3151 [05:18<00:00,  9.89it/s]\n"
     ]
    },
    {
     "name": "stdout",
     "output_type": "stream",
     "text": [
      "{'val_loss': 1.9332332478629217, 'val_accuracy': 0.22557194782980544, 'precision': 0.050882703647732466, 'recall': 0.22557194782980544, 'f1-score': 0.08303503313344197, 'macro_f1-score': 0.04601360781577111, 'balanced_accuracy': 0.125, 'mcc': 0.0, 'train_loss': 2.0133442378203026}\n",
      "Epoch 7/20\n"
     ]
    },
    {
     "name": "stderr",
     "output_type": "stream",
     "text": [
      "100%|██████████| 3151/3151 [05:19<00:00,  9.87it/s]\n"
     ]
    },
    {
     "name": "stdout",
     "output_type": "stream",
     "text": [
      "{'val_loss': 1.8991623909045487, 'val_accuracy': 0.22557194782980544, 'precision': 0.050882703647732466, 'recall': 0.22557194782980544, 'f1-score': 0.08303503313344197, 'macro_f1-score': 0.04601360781577111, 'balanced_accuracy': 0.125, 'mcc': 0.0, 'train_loss': 2.012356981327707}\n",
      "Early stopping.\n",
      "\n",
      "[Fold 4]\n",
      "🚀 Using Word2Vec for data augmentation + under-sampling\n",
      "🔧 Augmenting label 1: 1399 → 5000 (+3601)\n",
      "🔧 Augmenting label 4: 1679 → 5000 (+3321)\n",
      "🔧 Augmenting label 6: 1738 → 5000 (+3262)\n",
      "🔧 Augmenting label 7: 2186 → 5000 (+2814)\n",
      "Label distribution after resampling:\n",
      "  label 0: 5625\n",
      "  label 1: 5000\n",
      "  label 2: 8441\n",
      "  label 3: 10771\n",
      "  label 4: 5000\n",
      "  label 5: 5579\n",
      "  label 6: 5000\n",
      "  label 7: 5000\n",
      "model is microsoft/deberta-base\n"
     ]
    },
    {
     "name": "stderr",
     "output_type": "stream",
     "text": [
      "Some weights of DebertaForSequenceClassification were not initialized from the model checkpoint at microsoft/deberta-base and are newly initialized: ['classifier.bias', 'classifier.weight', 'pooler.dense.bias', 'pooler.dense.weight']\n",
      "You should probably TRAIN this model on a down-stream task to be able to use it for predictions and inference.\n"
     ]
    },
    {
     "name": "stdout",
     "output_type": "stream",
     "text": [
      "Epoch 1/20\n"
     ]
    },
    {
     "name": "stderr",
     "output_type": "stream",
     "text": [
      "100%|██████████| 3151/3151 [05:18<00:00,  9.89it/s]\n"
     ]
    },
    {
     "name": "stdout",
     "output_type": "stream",
     "text": [
      "{'val_loss': 0.4786497372178695, 'val_accuracy': 0.8408167628821894, 'precision': 0.8450555403144036, 'recall': 0.8408167628821894, 'f1-score': 0.8409591489601111, 'macro_f1-score': 0.8390595313057079, 'balanced_accuracy': 0.8541280982418676, 'mcc': 0.8053516131805089, 'train_loss': 0.5747298535641717}\n",
      "Epoch 2/20\n"
     ]
    },
    {
     "name": "stderr",
     "output_type": "stream",
     "text": [
      "100%|██████████| 3151/3151 [05:18<00:00,  9.90it/s]\n"
     ]
    },
    {
     "name": "stdout",
     "output_type": "stream",
     "text": [
      "{'val_loss': 0.4283686086949375, 'val_accuracy': 0.8539662176608938, 'precision': 0.8578636489666233, 'recall': 0.8539662176608938, 'f1-score': 0.8543586449642373, 'macro_f1-score': 0.8534653790601796, 'balanced_accuracy': 0.8736858996121081, 'mcc': 0.8220219928649735, 'train_loss': 0.3321827301008953}\n",
      "Epoch 3/20\n"
     ]
    },
    {
     "name": "stderr",
     "output_type": "stream",
     "text": [
      "100%|██████████| 3151/3151 [05:18<00:00,  9.88it/s]\n"
     ]
    },
    {
     "name": "stdout",
     "output_type": "stream",
     "text": [
      "{'val_loss': 0.5199528669890685, 'val_accuracy': 0.8399615137908916, 'precision': 0.8419500425761718, 'recall': 0.8399615137908916, 'f1-score': 0.8399219595371833, 'macro_f1-score': 0.8446451644772209, 'balanced_accuracy': 0.8496064493953589, 'mcc': 0.8031316243888618, 'train_loss': 0.3420601519228437}\n",
      "Epoch 4/20\n"
     ]
    },
    {
     "name": "stderr",
     "output_type": "stream",
     "text": [
      "100%|██████████| 3151/3151 [05:19<00:00,  9.85it/s]\n"
     ]
    },
    {
     "name": "stdout",
     "output_type": "stream",
     "text": [
      "{'val_loss': 0.47935528255457804, 'val_accuracy': 0.8516142826598246, 'precision': 0.8543693121240785, 'recall': 0.8516142826598246, 'f1-score': 0.8514917936481585, 'macro_f1-score': 0.8522911766346286, 'balanced_accuracy': 0.8645034701013394, 'mcc': 0.8190926090426094, 'train_loss': 0.2055317090612327}\n",
      "Epoch 5/20\n"
     ]
    },
    {
     "name": "stderr",
     "output_type": "stream",
     "text": [
      "100%|██████████| 3151/3151 [05:20<00:00,  9.83it/s]\n"
     ]
    },
    {
     "name": "stdout",
     "output_type": "stream",
     "text": [
      "{'val_loss': 0.5227098160025337, 'val_accuracy': 0.8508659397049391, 'precision': 0.8541035600825166, 'recall': 0.8508659397049391, 'f1-score': 0.8506352165287471, 'macro_f1-score': 0.8484825871678779, 'balanced_accuracy': 0.8620293935212353, 'mcc': 0.8185546557742671, 'train_loss': 0.17649403477048603}\n",
      "Early stopping.\n",
      "\n",
      "[Fold 5]\n",
      "🚀 Using Word2Vec for data augmentation + under-sampling\n",
      "🔧 Augmenting label 1: 1399 → 5000 (+3601)\n",
      "🔧 Augmenting label 4: 1678 → 5000 (+3322)\n",
      "🔧 Augmenting label 6: 1738 → 5000 (+3262)\n",
      "🔧 Augmenting label 7: 2187 → 5000 (+2813)\n",
      "Label distribution after resampling:\n",
      "  label 0: 5625\n",
      "  label 1: 5000\n",
      "  label 2: 8441\n",
      "  label 3: 10771\n",
      "  label 4: 5000\n",
      "  label 5: 5579\n",
      "  label 6: 5000\n",
      "  label 7: 5000\n",
      "model is microsoft/deberta-base\n"
     ]
    },
    {
     "name": "stderr",
     "output_type": "stream",
     "text": [
      "Some weights of DebertaForSequenceClassification were not initialized from the model checkpoint at microsoft/deberta-base and are newly initialized: ['classifier.bias', 'classifier.weight', 'pooler.dense.bias', 'pooler.dense.weight']\n",
      "You should probably TRAIN this model on a down-stream task to be able to use it for predictions and inference.\n"
     ]
    },
    {
     "name": "stdout",
     "output_type": "stream",
     "text": [
      "Epoch 1/20\n"
     ]
    },
    {
     "name": "stderr",
     "output_type": "stream",
     "text": [
      "100%|██████████| 3151/3151 [05:20<00:00,  9.84it/s]\n"
     ]
    },
    {
     "name": "stdout",
     "output_type": "stream",
     "text": [
      "{'val_loss': 0.4962513527586165, 'val_accuracy': 0.8386786401539449, 'precision': 0.8455775565565835, 'recall': 0.8386786401539449, 'f1-score': 0.8389146318930923, 'macro_f1-score': 0.8320134882203094, 'balanced_accuracy': 0.8509608360449581, 'mcc': 0.8026828249910503, 'train_loss': 0.591666150867102}\n",
      "Epoch 2/20\n"
     ]
    },
    {
     "name": "stderr",
     "output_type": "stream",
     "text": [
      "100%|██████████| 3151/3151 [05:19<00:00,  9.87it/s]\n"
     ]
    },
    {
     "name": "stdout",
     "output_type": "stream",
     "text": [
      "{'val_loss': 0.45230528860647456, 'val_accuracy': 0.8547145606157793, 'precision': 0.8568348925779493, 'recall': 0.8547145606157793, 'f1-score': 0.8547860449361002, 'macro_f1-score': 0.8495411594391841, 'balanced_accuracy': 0.867634734009739, 'mcc': 0.8223980839710882, 'train_loss': 0.2963210055128719}\n",
      "Epoch 3/20\n"
     ]
    },
    {
     "name": "stderr",
     "output_type": "stream",
     "text": [
      "100%|██████████| 3151/3151 [05:19<00:00,  9.87it/s]\n"
     ]
    },
    {
     "name": "stdout",
     "output_type": "stream",
     "text": [
      "{'val_loss': 0.5315814217632143, 'val_accuracy': 0.8548214667521916, 'precision': 0.8579316321362982, 'recall': 0.8548214667521916, 'f1-score': 0.8547104258516206, 'macro_f1-score': 0.8499044839947271, 'balanced_accuracy': 0.8614591369259061, 'mcc': 0.8225710859175935, 'train_loss': 0.20650612734469798}\n",
      "Epoch 4/20\n"
     ]
    },
    {
     "name": "stderr",
     "output_type": "stream",
     "text": [
      "100%|██████████| 3151/3151 [05:19<00:00,  9.87it/s]\n"
     ]
    },
    {
     "name": "stdout",
     "output_type": "stream",
     "text": [
      "{'val_loss': 0.5371645230839713, 'val_accuracy': 0.8528971562967714, 'precision': 0.8560016647872452, 'recall': 0.8528971562967714, 'f1-score': 0.8526923850475057, 'macro_f1-score': 0.8553200411336901, 'balanced_accuracy': 0.8571462025427369, 'mcc': 0.8205000368326368, 'train_loss': 0.14443674589773586}\n",
      "Epoch 5/20\n"
     ]
    },
    {
     "name": "stderr",
     "output_type": "stream",
     "text": [
      "100%|██████████| 3151/3151 [05:19<00:00,  9.87it/s]\n"
     ]
    },
    {
     "name": "stdout",
     "output_type": "stream",
     "text": [
      "{'val_loss': 0.5748642208938224, 'val_accuracy': 0.8523626256147103, 'precision': 0.8529277096122798, 'recall': 0.8523626256147103, 'f1-score': 0.852449782353559, 'macro_f1-score': 0.850436123757834, 'balanced_accuracy': 0.8548503777191616, 'mcc': 0.8184762006110513, 'train_loss': 0.10887619704310317}\n",
      "Epoch 6/20\n"
     ]
    },
    {
     "name": "stderr",
     "output_type": "stream",
     "text": [
      "100%|██████████| 3151/3151 [05:19<00:00,  9.87it/s]\n"
     ]
    },
    {
     "name": "stdout",
     "output_type": "stream",
     "text": [
      "{'val_loss': 0.618309896099421, 'val_accuracy': 0.851293564250588, 'precision': 0.8535399186840689, 'recall': 0.851293564250588, 'f1-score': 0.8518976773717477, 'macro_f1-score': 0.8454547273477492, 'balanced_accuracy': 0.8600509579778008, 'mcc': 0.8178023700203759, 'train_loss': 0.0831229192343707}\n",
      "Epoch 7/20\n"
     ]
    },
    {
     "name": "stderr",
     "output_type": "stream",
     "text": [
      "100%|██████████| 3151/3151 [05:19<00:00,  9.87it/s]\n"
     ]
    },
    {
     "name": "stdout",
     "output_type": "stream",
     "text": [
      "{'val_loss': 0.7231958039470602, 'val_accuracy': 0.8565319649347872, 'precision': 0.8587280525335306, 'recall': 0.8565319649347872, 'f1-score': 0.8568723424386037, 'macro_f1-score': 0.8546307768307266, 'balanced_accuracy': 0.8565203828305168, 'mcc': 0.8240943611220287, 'train_loss': 0.06289123777588737}\n",
      "Early stopping.\n",
      "\n",
      " === microsoft/deberta-base + plain + word2vec Final 5-fold Cross-Validation Results ===\n",
      "val_loss: 0.7804\n",
      "val_accuracy: 0.7430\n",
      "precision: 0.7036\n",
      "recall: 0.7430\n",
      "f1-score: 0.7111\n",
      "macro_f1-score: 0.6953\n",
      "balanced_accuracy: 0.7143\n",
      "mcc: 0.6597\n",
      "train_loss: 0.5940\n",
      "total_seconds: 11062.0000\n",
      "total_time: 3 hrs 4 mins 22 secs\n",
      "▶ Running: microsoft/deberta-base + cnn + word2vec\n",
      "tokenizer is microsoft/deberta-base\n",
      "Using device: cuda\n",
      "CUDA Available: True\n",
      "CUDA Device: NVIDIA GeForce RTX 5070 Ti\n",
      "Current GPU Memory Allocated: 0.02 GB\n",
      "Current GPU Memory Cached: 5.12 GB\n",
      "\n",
      "[Fold 1]\n",
      "🚀 Using Word2Vec for data augmentation + under-sampling\n",
      "🔧 Augmenting label 1: 1399 → 5000 (+3601)\n",
      "🔧 Augmenting label 4: 1678 → 5000 (+3322)\n",
      "🔧 Augmenting label 6: 1737 → 5000 (+3263)\n",
      "🔧 Augmenting label 7: 2187 → 5000 (+2813)\n",
      "Label distribution after resampling:\n",
      "  label 0: 5626\n",
      "  label 1: 5000\n",
      "  label 2: 8442\n",
      "  label 3: 10770\n",
      "  label 4: 5000\n",
      "  label 5: 5578\n",
      "  label 6: 5000\n",
      "  label 7: 5000\n",
      "model is microsoft/deberta-base cnn\n",
      "Epoch 1/20\n"
     ]
    },
    {
     "name": "stderr",
     "output_type": "stream",
     "text": [
      "100%|██████████| 3151/3151 [05:32<00:00,  9.48it/s]\n"
     ]
    },
    {
     "name": "stdout",
     "output_type": "stream",
     "text": [
      "{'val_loss': 1.9918961985498411, 'val_accuracy': 0.2878674505611972, 'precision': 0.08286766909260333, 'recall': 0.2878674505611972, 'f1-score': 0.1286897483999509, 'macro_f1-score': 0.055880644090305444, 'balanced_accuracy': 0.125, 'mcc': 0.0, 'train_loss': 2.0418340474300933}\n",
      "Epoch 2/20\n"
     ]
    },
    {
     "name": "stderr",
     "output_type": "stream",
     "text": [
      "100%|██████████| 3151/3151 [05:31<00:00,  9.50it/s]\n"
     ]
    },
    {
     "name": "stdout",
     "output_type": "stream",
     "text": [
      "{'val_loss': 1.9908579300611446, 'val_accuracy': 0.2878674505611972, 'precision': 0.08286766909260333, 'recall': 0.2878674505611972, 'f1-score': 0.1286897483999509, 'macro_f1-score': 0.055880644090305444, 'balanced_accuracy': 0.125, 'mcc': 0.0, 'train_loss': 2.0371848419332306}\n",
      "Epoch 3/20\n"
     ]
    },
    {
     "name": "stderr",
     "output_type": "stream",
     "text": [
      "100%|██████████| 3151/3151 [05:31<00:00,  9.50it/s]\n"
     ]
    },
    {
     "name": "stdout",
     "output_type": "stream",
     "text": [
      "{'val_loss': 1.9767875919994127, 'val_accuracy': 0.2878674505611972, 'precision': 0.08286766909260333, 'recall': 0.2878674505611972, 'f1-score': 0.1286897483999509, 'macro_f1-score': 0.055880644090305444, 'balanced_accuracy': 0.125, 'mcc': 0.0, 'train_loss': 2.0285356903938747}\n",
      "Epoch 4/20\n"
     ]
    },
    {
     "name": "stderr",
     "output_type": "stream",
     "text": [
      "100%|██████████| 3151/3151 [05:31<00:00,  9.50it/s]\n"
     ]
    },
    {
     "name": "stdout",
     "output_type": "stream",
     "text": [
      "{'val_loss': 1.962158904931484, 'val_accuracy': 0.2878674505611972, 'precision': 0.08286766909260333, 'recall': 0.2878674505611972, 'f1-score': 0.1286897483999509, 'macro_f1-score': 0.055880644090305444, 'balanced_accuracy': 0.125, 'mcc': 0.0, 'train_loss': 2.0325078616177077}\n",
      "Early stopping.\n",
      "\n",
      "[Fold 2]\n",
      "🚀 Using Word2Vec for data augmentation + under-sampling\n",
      "🔧 Augmenting label 1: 1400 → 5000 (+3600)\n",
      "🔧 Augmenting label 4: 1678 → 5000 (+3322)\n",
      "🔧 Augmenting label 6: 1737 → 5000 (+3263)\n",
      "🔧 Augmenting label 7: 2186 → 5000 (+2814)\n",
      "Label distribution after resampling:\n",
      "  label 0: 5626\n",
      "  label 1: 5000\n",
      "  label 2: 8442\n",
      "  label 3: 10770\n",
      "  label 4: 5000\n",
      "  label 5: 5578\n",
      "  label 6: 5000\n",
      "  label 7: 5000\n",
      "model is microsoft/deberta-base cnn\n",
      "Epoch 1/20\n"
     ]
    },
    {
     "name": "stderr",
     "output_type": "stream",
     "text": [
      "100%|██████████| 3151/3151 [05:31<00:00,  9.49it/s]\n"
     ]
    },
    {
     "name": "stdout",
     "output_type": "stream",
     "text": [
      "{'val_loss': 0.5783114522313461, 'val_accuracy': 0.8020309994655265, 'precision': 0.815567416661144, 'recall': 0.8020309994655265, 'f1-score': 0.803723396744185, 'macro_f1-score': 0.7974456889505397, 'balanced_accuracy': 0.8397259668544463, 'mcc': 0.7608119484390092, 'train_loss': 0.6696836787134985}\n",
      "Epoch 2/20\n"
     ]
    },
    {
     "name": "stderr",
     "output_type": "stream",
     "text": [
      "100%|██████████| 3151/3151 [05:31<00:00,  9.50it/s]\n"
     ]
    },
    {
     "name": "stdout",
     "output_type": "stream",
     "text": [
      "{'val_loss': 0.4763413195617688, 'val_accuracy': 0.8417958311063602, 'precision': 0.8431652644264848, 'recall': 0.8417958311063602, 'f1-score': 0.8417853575109832, 'macro_f1-score': 0.8424370024099883, 'balanced_accuracy': 0.8567418107349918, 'mcc': 0.806493782176985, 'train_loss': 0.4126851032191006}\n",
      "Epoch 3/20\n"
     ]
    },
    {
     "name": "stderr",
     "output_type": "stream",
     "text": [
      "100%|██████████| 3151/3151 [05:31<00:00,  9.50it/s]\n"
     ]
    },
    {
     "name": "stdout",
     "output_type": "stream",
     "text": [
      "{'val_loss': 0.5278710530505667, 'val_accuracy': 0.8419027258150722, 'precision': 0.8437554110316067, 'recall': 0.8419027258150722, 'f1-score': 0.841974374511394, 'macro_f1-score': 0.8413132032927839, 'balanced_accuracy': 0.8576928453942145, 'mcc': 0.8068198481450317, 'train_loss': 0.3497059753774102}\n",
      "Epoch 4/20\n"
     ]
    },
    {
     "name": "stderr",
     "output_type": "stream",
     "text": [
      "100%|██████████| 3151/3151 [05:31<00:00,  9.50it/s]\n"
     ]
    },
    {
     "name": "stdout",
     "output_type": "stream",
     "text": [
      "{'val_loss': 1.2632268317489543, 'val_accuracy': 0.6611437733832175, 'precision': 0.7896738887855967, 'recall': 0.6611437733832175, 'f1-score': 0.6948649035560731, 'macro_f1-score': 0.7002513378863157, 'balanced_accuracy': 0.7509221273271977, 'mcc': 0.6258466668604634, 'train_loss': 0.5409481651768897}\n",
      "Epoch 5/20\n"
     ]
    },
    {
     "name": "stderr",
     "output_type": "stream",
     "text": [
      "100%|██████████| 3151/3151 [05:31<00:00,  9.50it/s]\n"
     ]
    },
    {
     "name": "stdout",
     "output_type": "stream",
     "text": [
      "{'val_loss': 0.6427792898896668, 'val_accuracy': 0.8202030999465526, 'precision': 0.8269234798222793, 'recall': 0.8202030999465526, 'f1-score': 0.8201231682021979, 'macro_f1-score': 0.8226593030924094, 'balanced_accuracy': 0.8472004473380904, 'mcc': 0.7826026741099349, 'train_loss': 0.41118348316238945}\n",
      "Early stopping.\n",
      "\n",
      "[Fold 3]\n",
      "🚀 Using Word2Vec for data augmentation + under-sampling\n",
      "🔧 Augmenting label 1: 1399 → 5000 (+3601)\n",
      "🔧 Augmenting label 4: 1679 → 5000 (+3321)\n",
      "🔧 Augmenting label 6: 1738 → 5000 (+3262)\n",
      "🔧 Augmenting label 7: 2186 → 5000 (+2814)\n",
      "Label distribution after resampling:\n",
      "  label 0: 5626\n",
      "  label 1: 5000\n",
      "  label 2: 8442\n",
      "  label 3: 10770\n",
      "  label 4: 5000\n",
      "  label 5: 5578\n",
      "  label 6: 5000\n",
      "  label 7: 5000\n",
      "model is microsoft/deberta-base cnn\n",
      "Epoch 1/20\n"
     ]
    },
    {
     "name": "stderr",
     "output_type": "stream",
     "text": [
      "100%|██████████| 3151/3151 [05:32<00:00,  9.49it/s]\n"
     ]
    },
    {
     "name": "stdout",
     "output_type": "stream",
     "text": [
      "{'val_loss': 0.4617463375768091, 'val_accuracy': 0.8397477015180671, 'precision': 0.8466513448407262, 'recall': 0.8397477015180671, 'f1-score': 0.8398022045902276, 'macro_f1-score': 0.8417573058201417, 'balanced_accuracy': 0.8638829429447237, 'mcc': 0.8063459499204509, 'train_loss': 0.614234149155731}\n",
      "Epoch 2/20\n"
     ]
    },
    {
     "name": "stderr",
     "output_type": "stream",
     "text": [
      "100%|██████████| 3151/3151 [05:31<00:00,  9.50it/s]\n"
     ]
    },
    {
     "name": "stdout",
     "output_type": "stream",
     "text": [
      "{'val_loss': 0.46158999582577465, 'val_accuracy': 0.8438101347017318, 'precision': 0.8518472262319022, 'recall': 0.8438101347017318, 'f1-score': 0.8448120889114499, 'macro_f1-score': 0.8346978643799785, 'balanced_accuracy': 0.8578015703334066, 'mcc': 0.809060549595307, 'train_loss': 0.38958873890661905}\n",
      "Epoch 3/20\n"
     ]
    },
    {
     "name": "stderr",
     "output_type": "stream",
     "text": [
      "100%|██████████| 3151/3151 [05:31<00:00,  9.50it/s]\n"
     ]
    },
    {
     "name": "stdout",
     "output_type": "stream",
     "text": [
      "{'val_loss': 1.3171322842948456, 'val_accuracy': 0.49861022022664103, 'precision': 0.7863038451909127, 'recall': 0.49861022022664103, 'f1-score': 0.46310304117523976, 'macro_f1-score': 0.5312911531760751, 'balanced_accuracy': 0.505065761284939, 'mcc': 0.4616783174864382, 'train_loss': 0.2991872729093099}\n",
      "Epoch 4/20\n"
     ]
    },
    {
     "name": "stderr",
     "output_type": "stream",
     "text": [
      "100%|██████████| 3151/3151 [05:31<00:00,  9.49it/s]\n"
     ]
    },
    {
     "name": "stdout",
     "output_type": "stream",
     "text": [
      "{'val_loss': 0.5030223277906896, 'val_accuracy': 0.8631601453923455, 'precision': 0.8639051846497152, 'recall': 0.8631601453923455, 'f1-score': 0.8627537536467874, 'macro_f1-score': 0.8582404193657536, 'balanced_accuracy': 0.86657710620634, 'mcc': 0.8319856529582833, 'train_loss': 0.3235556549023629}\n",
      "Epoch 5/20\n"
     ]
    },
    {
     "name": "stderr",
     "output_type": "stream",
     "text": [
      "100%|██████████| 3151/3151 [05:32<00:00,  9.49it/s]\n"
     ]
    },
    {
     "name": "stdout",
     "output_type": "stream",
     "text": [
      "{'val_loss': 0.4614002105135184, 'val_accuracy': 0.8671156724395981, 'precision': 0.8673389546591135, 'recall': 0.8671156724395981, 'f1-score': 0.8671084197216127, 'macro_f1-score': 0.8657632997330174, 'balanced_accuracy': 0.8619573340594452, 'mcc': 0.8362262320065059, 'train_loss': 0.19041392362907988}\n",
      "Epoch 6/20\n"
     ]
    },
    {
     "name": "stderr",
     "output_type": "stream",
     "text": [
      "100%|██████████| 3151/3151 [05:32<00:00,  9.48it/s]\n"
     ]
    },
    {
     "name": "stdout",
     "output_type": "stream",
     "text": [
      "{'val_loss': 0.5211555746575005, 'val_accuracy': 0.8566388710711995, 'precision': 0.8585842326064612, 'recall': 0.8566388710711995, 'f1-score': 0.856187007349504, 'macro_f1-score': 0.8526647012743525, 'balanced_accuracy': 0.8573846362141726, 'mcc': 0.8246077976925361, 'train_loss': 0.1900573764417911}\n",
      "Epoch 7/20\n"
     ]
    },
    {
     "name": "stderr",
     "output_type": "stream",
     "text": [
      "100%|██████████| 3151/3151 [05:32<00:00,  9.48it/s]\n"
     ]
    },
    {
     "name": "stdout",
     "output_type": "stream",
     "text": [
      "{'val_loss': 0.5952043834759289, 'val_accuracy': 0.8608082103912764, 'precision': 0.8613247074676512, 'recall': 0.8608082103912764, 'f1-score': 0.8607840462046791, 'macro_f1-score': 0.8593939411500099, 'balanced_accuracy': 0.8662185217287934, 'mcc': 0.8293463900338638, 'train_loss': 0.13905430733434168}\n",
      "Epoch 8/20\n"
     ]
    },
    {
     "name": "stderr",
     "output_type": "stream",
     "text": [
      "100%|██████████| 3151/3151 [05:32<00:00,  9.48it/s]\n"
     ]
    },
    {
     "name": "stdout",
     "output_type": "stream",
     "text": [
      "{'val_loss': 0.6219700646773777, 'val_accuracy': 0.8603805858456275, 'precision': 0.8610763026763502, 'recall': 0.8603805858456275, 'f1-score': 0.8603046165118423, 'macro_f1-score': 0.8611642742862363, 'balanced_accuracy': 0.8515696499411013, 'mcc': 0.8279928892888716, 'train_loss': 0.11129069855162252}\n",
      "Early stopping.\n",
      "\n",
      "[Fold 4]\n",
      "🚀 Using Word2Vec for data augmentation + under-sampling\n",
      "🔧 Augmenting label 1: 1399 → 5000 (+3601)\n",
      "🔧 Augmenting label 4: 1679 → 5000 (+3321)\n",
      "🔧 Augmenting label 6: 1738 → 5000 (+3262)\n",
      "🔧 Augmenting label 7: 2186 → 5000 (+2814)\n",
      "Label distribution after resampling:\n",
      "  label 0: 5625\n",
      "  label 1: 5000\n",
      "  label 2: 8441\n",
      "  label 3: 10771\n",
      "  label 4: 5000\n",
      "  label 5: 5579\n",
      "  label 6: 5000\n",
      "  label 7: 5000\n",
      "model is microsoft/deberta-base cnn\n",
      "Epoch 1/20\n"
     ]
    },
    {
     "name": "stderr",
     "output_type": "stream",
     "text": [
      "100%|██████████| 3151/3151 [05:32<00:00,  9.47it/s]\n"
     ]
    },
    {
     "name": "stdout",
     "output_type": "stream",
     "text": [
      "{'val_loss': 1.965569474758246, 'val_accuracy': 0.28779131922172335, 'precision': 0.08282384341937987, 'recall': 0.28779131922172335, 'f1-score': 0.12862929293456404, 'macro_f1-score': 0.055869168188610326, 'balanced_accuracy': 0.125, 'mcc': 0.0, 'train_loss': 2.0133313295841972}\n",
      "Epoch 2/20\n"
     ]
    },
    {
     "name": "stderr",
     "output_type": "stream",
     "text": [
      "100%|██████████| 3151/3151 [05:33<00:00,  9.45it/s]\n"
     ]
    },
    {
     "name": "stdout",
     "output_type": "stream",
     "text": [
      "{'val_loss': 1.9657284445232814, 'val_accuracy': 0.28779131922172335, 'precision': 0.08282384341937987, 'recall': 0.28779131922172335, 'f1-score': 0.12862929293456404, 'macro_f1-score': 0.055869168188610326, 'balanced_accuracy': 0.125, 'mcc': 0.0, 'train_loss': 2.0442754357097943}\n",
      "Epoch 3/20\n"
     ]
    },
    {
     "name": "stderr",
     "output_type": "stream",
     "text": [
      "100%|██████████| 3151/3151 [05:32<00:00,  9.47it/s]\n"
     ]
    },
    {
     "name": "stdout",
     "output_type": "stream",
     "text": [
      "{'val_loss': 1.962641829914517, 'val_accuracy': 0.28779131922172335, 'precision': 0.08282384341937987, 'recall': 0.28779131922172335, 'f1-score': 0.12862929293456404, 'macro_f1-score': 0.055869168188610326, 'balanced_accuracy': 0.125, 'mcc': 0.0, 'train_loss': 2.041532886478493}\n",
      "Epoch 4/20\n"
     ]
    },
    {
     "name": "stderr",
     "output_type": "stream",
     "text": [
      "100%|██████████| 3151/3151 [05:32<00:00,  9.48it/s]\n"
     ]
    },
    {
     "name": "stdout",
     "output_type": "stream",
     "text": [
      "{'val_loss': 1.95774422731155, 'val_accuracy': 0.28779131922172335, 'precision': 0.08282384341937987, 'recall': 0.28779131922172335, 'f1-score': 0.12862929293456404, 'macro_f1-score': 0.055869168188610326, 'balanced_accuracy': 0.125, 'mcc': 0.0, 'train_loss': 2.039673098493326}\n",
      "Early stopping.\n",
      "\n",
      "[Fold 5]\n",
      "🚀 Using Word2Vec for data augmentation + under-sampling\n",
      "🔧 Augmenting label 1: 1399 → 5000 (+3601)\n",
      "🔧 Augmenting label 4: 1678 → 5000 (+3322)\n",
      "🔧 Augmenting label 6: 1738 → 5000 (+3262)\n",
      "🔧 Augmenting label 7: 2187 → 5000 (+2813)\n",
      "Label distribution after resampling:\n",
      "  label 0: 5625\n",
      "  label 1: 5000\n",
      "  label 2: 8441\n",
      "  label 3: 10771\n",
      "  label 4: 5000\n",
      "  label 5: 5579\n",
      "  label 6: 5000\n",
      "  label 7: 5000\n",
      "model is microsoft/deberta-base cnn\n",
      "Epoch 1/20\n"
     ]
    },
    {
     "name": "stderr",
     "output_type": "stream",
     "text": [
      "100%|██████████| 3151/3151 [05:31<00:00,  9.50it/s]\n"
     ]
    },
    {
     "name": "stdout",
     "output_type": "stream",
     "text": [
      "{'val_loss': 0.49153126219972076, 'val_accuracy': 0.8383579217447081, 'precision': 0.843361809501338, 'recall': 0.8383579217447081, 'f1-score': 0.8386073600086923, 'macro_f1-score': 0.8389739511679192, 'balanced_accuracy': 0.8578943572094415, 'mcc': 0.8034311418236677, 'train_loss': 0.6594468326680539}\n",
      "Epoch 2/20\n"
     ]
    },
    {
     "name": "stderr",
     "output_type": "stream",
     "text": [
      "100%|██████████| 3151/3151 [05:31<00:00,  9.50it/s]\n"
     ]
    },
    {
     "name": "stdout",
     "output_type": "stream",
     "text": [
      "{'val_loss': 0.5222168663723601, 'val_accuracy': 0.8315159290143255, 'precision': 0.8471127445804125, 'recall': 0.8315159290143255, 'f1-score': 0.8347905378234092, 'macro_f1-score': 0.8267965543105114, 'balanced_accuracy': 0.8638666322420316, 'mcc': 0.7969457540530986, 'train_loss': 0.38576492886004304}\n",
      "Epoch 3/20\n"
     ]
    },
    {
     "name": "stderr",
     "output_type": "stream",
     "text": [
      "100%|██████████| 3151/3151 [05:32<00:00,  9.49it/s]\n"
     ]
    },
    {
     "name": "stdout",
     "output_type": "stream",
     "text": [
      "{'val_loss': 0.44287873278093387, 'val_accuracy': 0.8561043403891383, 'precision': 0.8578625318741773, 'recall': 0.8561043403891383, 'f1-score': 0.8561218681144089, 'macro_f1-score': 0.855273288005656, 'balanced_accuracy': 0.8645217620806331, 'mcc': 0.8235403232169649, 'train_loss': 0.2807587399745968}\n",
      "Epoch 4/20\n"
     ]
    },
    {
     "name": "stderr",
     "output_type": "stream",
     "text": [
      "100%|██████████| 3151/3151 [05:31<00:00,  9.49it/s]\n"
     ]
    },
    {
     "name": "stdout",
     "output_type": "stream",
     "text": [
      "{'val_loss': 1.7345935059408857, 'val_accuracy': 0.36358776993799446, 'precision': 0.527694516412563, 'recall': 0.36358776993799446, 'f1-score': 0.21900630063685286, 'macro_f1-score': 0.2761126887266087, 'balanced_accuracy': 0.33848371924766646, 'mcc': 0.2590384466763817, 'train_loss': 0.3169793129091865}\n",
      "Epoch 5/20\n"
     ]
    },
    {
     "name": "stderr",
     "output_type": "stream",
     "text": [
      "100%|██████████| 3151/3151 [05:31<00:00,  9.49it/s]\n"
     ]
    },
    {
     "name": "stdout",
     "output_type": "stream",
     "text": [
      "{'val_loss': 0.5603484304617836, 'val_accuracy': 0.8567457772076117, 'precision': 0.8603749133887478, 'recall': 0.8567457772076117, 'f1-score': 0.8571342182419054, 'macro_f1-score': 0.8545818052778614, 'balanced_accuracy': 0.8555283412810719, 'mcc': 0.8237346633540418, 'train_loss': 0.25833482912335054}\n",
      "Epoch 6/20\n"
     ]
    },
    {
     "name": "stderr",
     "output_type": "stream",
     "text": [
      "100%|██████████| 3151/3151 [05:31<00:00,  9.49it/s]\n"
     ]
    },
    {
     "name": "stdout",
     "output_type": "stream",
     "text": [
      "{'val_loss': 0.6216970529315723, 'val_accuracy': 0.852683344023947, 'precision': 0.8541272681375994, 'recall': 0.852683344023947, 'f1-score': 0.8525560494333397, 'macro_f1-score': 0.8488558097591437, 'balanced_accuracy': 0.8337138116075024, 'mcc': 0.8181031271578585, 'train_loss': 0.1281916273681375}\n",
      "Early stopping.\n",
      "\n",
      " === microsoft/deberta-base + cnn + word2vec Final 5-fold Cross-Validation Results ===\n",
      "val_loss: 1.0676\n",
      "val_accuracy: 0.6281\n",
      "precision: 0.5468\n",
      "recall: 0.6281\n",
      "f1-score: 0.5645\n",
      "macro_f1-score: 0.5350\n",
      "balanced_accuracy: 0.5666\n",
      "mcc: 0.4933\n",
      "train_loss: 0.9878\n",
      "total_seconds: 9694.0000\n",
      "total_time: 2 hrs 41 mins 34 secs\n",
      "▶ Running: microsoft/deberta-base + lstm + word2vec\n",
      "tokenizer is microsoft/deberta-base\n",
      "Using device: cuda\n",
      "CUDA Available: True\n",
      "CUDA Device: NVIDIA GeForce RTX 5070 Ti\n",
      "Current GPU Memory Allocated: 0.02 GB\n",
      "Current GPU Memory Cached: 5.12 GB\n",
      "\n",
      "[Fold 1]\n",
      "🚀 Using Word2Vec for data augmentation + under-sampling\n",
      "🔧 Augmenting label 1: 1399 → 5000 (+3601)\n",
      "🔧 Augmenting label 4: 1678 → 5000 (+3322)\n",
      "🔧 Augmenting label 6: 1737 → 5000 (+3263)\n",
      "🔧 Augmenting label 7: 2187 → 5000 (+2813)\n",
      "Label distribution after resampling:\n",
      "  label 0: 5626\n",
      "  label 1: 5000\n",
      "  label 2: 8442\n",
      "  label 3: 10770\n",
      "  label 4: 5000\n",
      "  label 5: 5578\n",
      "  label 6: 5000\n",
      "  label 7: 5000\n",
      "model is microsoft/deberta-base lstm\n",
      "Epoch 1/20\n"
     ]
    },
    {
     "name": "stderr",
     "output_type": "stream",
     "text": [
      "100%|██████████| 3151/3151 [05:36<00:00,  9.36it/s]\n"
     ]
    },
    {
     "name": "stdout",
     "output_type": "stream",
     "text": [
      "{'val_loss': 0.8588262874091792, 'val_accuracy': 0.7422768572955639, 'precision': 0.764409250393803, 'recall': 0.7422768572955639, 'f1-score': 0.745126064034795, 'macro_f1-score': 0.7316300095965602, 'balanced_accuracy': 0.7982968523334943, 'mcc': 0.691234240413641, 'train_loss': 1.069773041399953}\n",
      "Epoch 2/20\n"
     ]
    },
    {
     "name": "stderr",
     "output_type": "stream",
     "text": [
      "100%|██████████| 3151/3151 [05:36<00:00,  9.35it/s]\n"
     ]
    },
    {
     "name": "stdout",
     "output_type": "stream",
     "text": [
      "{'val_loss': 0.6181811380144367, 'val_accuracy': 0.8278995189738108, 'precision': 0.8307439825480807, 'recall': 0.8278995189738108, 'f1-score': 0.8278978680598859, 'macro_f1-score': 0.8264643953993355, 'balanced_accuracy': 0.8425665114787301, 'mcc': 0.7892474863860555, 'train_loss': 0.5977236611827125}\n",
      "Epoch 3/20\n"
     ]
    },
    {
     "name": "stderr",
     "output_type": "stream",
     "text": [
      "100%|██████████| 3151/3151 [05:36<00:00,  9.36it/s]\n"
     ]
    },
    {
     "name": "stdout",
     "output_type": "stream",
     "text": [
      "{'val_loss': 0.6164764758486014, 'val_accuracy': 0.8199893105291288, 'precision': 0.8281436349228635, 'recall': 0.8199893105291288, 'f1-score': 0.8205864646329912, 'macro_f1-score': 0.8113561445403256, 'balanced_accuracy': 0.8401375124453438, 'mcc': 0.782408374119602, 'train_loss': 0.5236146615192138}\n",
      "Epoch 4/20\n"
     ]
    },
    {
     "name": "stderr",
     "output_type": "stream",
     "text": [
      "100%|██████████| 3151/3151 [05:37<00:00,  9.34it/s]\n"
     ]
    },
    {
     "name": "stdout",
     "output_type": "stream",
     "text": [
      "{'val_loss': 0.5230454866002258, 'val_accuracy': 0.8478888295029396, 'precision': 0.8491311958880949, 'recall': 0.8478888295029396, 'f1-score': 0.8482134170271146, 'macro_f1-score': 0.8408140546038976, 'balanced_accuracy': 0.8486272867102798, 'mcc': 0.8131398549465612, 'train_loss': 0.4173518497117339}\n",
      "Epoch 5/20\n"
     ]
    },
    {
     "name": "stderr",
     "output_type": "stream",
     "text": [
      "100%|██████████| 3151/3151 [05:37<00:00,  9.35it/s]\n"
     ]
    },
    {
     "name": "stdout",
     "output_type": "stream",
     "text": [
      "{'val_loss': 0.5514599625053059, 'val_accuracy': 0.8369855692143239, 'precision': 0.8452739245140911, 'recall': 0.8369855692143239, 'f1-score': 0.8387853228465406, 'macro_f1-score': 0.8292147906322438, 'balanced_accuracy': 0.8467559883576742, 'mcc': 0.80140361805963, 'train_loss': 0.35546578466064666}\n",
      "Epoch 6/20\n"
     ]
    },
    {
     "name": "stderr",
     "output_type": "stream",
     "text": [
      "100%|██████████| 3151/3151 [05:37<00:00,  9.34it/s]\n"
     ]
    },
    {
     "name": "stdout",
     "output_type": "stream",
     "text": [
      "{'val_loss': 0.6144706394236822, 'val_accuracy': 0.814537680384821, 'precision': 0.8150825970023894, 'recall': 0.814537680384821, 'f1-score': 0.8141678926493857, 'macro_f1-score': 0.8080037883802125, 'balanced_accuracy': 0.8171346382329405, 'mcc': 0.7727904782669206, 'train_loss': 0.4003705203134752}\n",
      "Epoch 7/20\n"
     ]
    },
    {
     "name": "stderr",
     "output_type": "stream",
     "text": [
      "100%|██████████| 3151/3151 [05:37<00:00,  9.34it/s]\n"
     ]
    },
    {
     "name": "stdout",
     "output_type": "stream",
     "text": [
      "{'val_loss': 0.6150115588600309, 'val_accuracy': 0.8255478353821486, 'precision': 0.833006960161834, 'recall': 0.8255478353821486, 'f1-score': 0.8266127623466034, 'macro_f1-score': 0.8218521052246546, 'balanced_accuracy': 0.8463628208608897, 'mcc': 0.7881227050233146, 'train_loss': 0.41363208979883676}\n",
      "Early stopping.\n",
      "\n",
      "[Fold 2]\n",
      "🚀 Using Word2Vec for data augmentation + under-sampling\n",
      "🔧 Augmenting label 1: 1400 → 5000 (+3600)\n",
      "🔧 Augmenting label 4: 1678 → 5000 (+3322)\n",
      "🔧 Augmenting label 6: 1737 → 5000 (+3263)\n",
      "🔧 Augmenting label 7: 2186 → 5000 (+2814)\n",
      "Label distribution after resampling:\n",
      "  label 0: 5626\n",
      "  label 1: 5000\n",
      "  label 2: 8442\n",
      "  label 3: 10770\n",
      "  label 4: 5000\n",
      "  label 5: 5578\n",
      "  label 6: 5000\n",
      "  label 7: 5000\n",
      "model is microsoft/deberta-base lstm\n",
      "Epoch 1/20\n"
     ]
    },
    {
     "name": "stderr",
     "output_type": "stream",
     "text": [
      "100%|██████████| 3151/3151 [05:37<00:00,  9.33it/s]\n"
     ]
    },
    {
     "name": "stdout",
     "output_type": "stream",
     "text": [
      "{'val_loss': 1.2678405031179771, 'val_accuracy': 0.5133083912346339, 'precision': 0.6001231649931393, 'recall': 0.5133083912346339, 'f1-score': 0.49251720164597695, 'macro_f1-score': 0.459853374855774, 'balanced_accuracy': 0.5147151949484943, 'mcc': 0.4524493498431636, 'train_loss': 1.3300766036250182}\n",
      "Epoch 2/20\n"
     ]
    },
    {
     "name": "stderr",
     "output_type": "stream",
     "text": [
      "100%|██████████| 3151/3151 [05:37<00:00,  9.34it/s]\n"
     ]
    },
    {
     "name": "stdout",
     "output_type": "stream",
     "text": [
      "{'val_loss': 0.6963070811878922, 'val_accuracy': 0.7904863709246392, 'precision': 0.7971568255387234, 'recall': 0.7904863709246392, 'f1-score': 0.7922350531237766, 'macro_f1-score': 0.785353270571387, 'balanced_accuracy': 0.8029592167841954, 'mcc': 0.7440691143507799, 'train_loss': 0.7751924346166541}\n",
      "Epoch 3/20\n"
     ]
    },
    {
     "name": "stderr",
     "output_type": "stream",
     "text": [
      "100%|██████████| 3151/3151 [05:37<00:00,  9.35it/s]\n"
     ]
    },
    {
     "name": "stdout",
     "output_type": "stream",
     "text": [
      "{'val_loss': 0.5686899366860206, 'val_accuracy': 0.827578834847675, 'precision': 0.8331655184301303, 'recall': 0.827578834847675, 'f1-score': 0.8288894127877251, 'macro_f1-score': 0.8217856010112907, 'balanced_accuracy': 0.8454516435125066, 'mcc': 0.7895181028638584, 'train_loss': 0.4971558294944425}\n",
      "Epoch 4/20\n"
     ]
    },
    {
     "name": "stderr",
     "output_type": "stream",
     "text": [
      "100%|██████████| 3151/3151 [05:36<00:00,  9.35it/s]\n"
     ]
    },
    {
     "name": "stdout",
     "output_type": "stream",
     "text": [
      "{'val_loss': 0.5560749032208298, 'val_accuracy': 0.8240513094601817, 'precision': 0.8281856767376742, 'recall': 0.8240513094601817, 'f1-score': 0.8241478537869663, 'macro_f1-score': 0.8236538446555385, 'balanced_accuracy': 0.8386619097485711, 'mcc': 0.7861449662310535, 'train_loss': 0.4030502821936239}\n",
      "Epoch 5/20\n"
     ]
    },
    {
     "name": "stderr",
     "output_type": "stream",
     "text": [
      "100%|██████████| 3151/3151 [05:37<00:00,  9.34it/s]\n"
     ]
    },
    {
     "name": "stdout",
     "output_type": "stream",
     "text": [
      "{'val_loss': 0.6235376237867735, 'val_accuracy': 0.8068412613575628, 'precision': 0.8260900924493756, 'recall': 0.8068412613575628, 'f1-score': 0.8092022191700675, 'macro_f1-score': 0.8004470227855276, 'balanced_accuracy': 0.8367988470524669, 'mcc': 0.7663385827067934, 'train_loss': 0.3370981178279246}\n",
      "Epoch 6/20\n"
     ]
    },
    {
     "name": "stderr",
     "output_type": "stream",
     "text": [
      "100%|██████████| 3151/3151 [05:37<00:00,  9.34it/s]\n"
     ]
    },
    {
     "name": "stdout",
     "output_type": "stream",
     "text": [
      "{'val_loss': 0.574977515787523, 'val_accuracy': 0.8291822554783538, 'precision': 0.8334948062905646, 'recall': 0.8291822554783538, 'f1-score': 0.8289209051667018, 'macro_f1-score': 0.8237430607911291, 'balanced_accuracy': 0.8439676162024685, 'mcc': 0.7927741584983317, 'train_loss': 0.31972441794862066}\n",
      "Epoch 7/20\n"
     ]
    },
    {
     "name": "stderr",
     "output_type": "stream",
     "text": [
      "100%|██████████| 3151/3151 [05:36<00:00,  9.35it/s]\n"
     ]
    },
    {
     "name": "stdout",
     "output_type": "stream",
     "text": [
      "{'val_loss': 0.5980354866617893, 'val_accuracy': 0.8400855157669695, 'precision': 0.8407355609542732, 'recall': 0.8400855157669695, 'f1-score': 0.8397452532901174, 'macro_f1-score': 0.8390084786792291, 'balanced_accuracy': 0.8460544340368541, 'mcc': 0.8042553449579878, 'train_loss': 0.2751266579919559}\n",
      "Epoch 8/20\n"
     ]
    },
    {
     "name": "stderr",
     "output_type": "stream",
     "text": [
      "100%|██████████| 3151/3151 [05:37<00:00,  9.35it/s]\n"
     ]
    },
    {
     "name": "stdout",
     "output_type": "stream",
     "text": [
      "{'val_loss': 0.5779527900024102, 'val_accuracy': 0.8385889898450026, 'precision': 0.8387356465955327, 'recall': 0.8385889898450026, 'f1-score': 0.8383879617001806, 'macro_f1-score': 0.8318030849670721, 'balanced_accuracy': 0.8298757510030398, 'mcc': 0.8012622735779789, 'train_loss': 0.23576494354089075}\n",
      "Epoch 9/20\n"
     ]
    },
    {
     "name": "stderr",
     "output_type": "stream",
     "text": [
      "100%|██████████| 3151/3151 [05:37<00:00,  9.34it/s]\n"
     ]
    },
    {
     "name": "stdout",
     "output_type": "stream",
     "text": [
      "{'val_loss': 0.6473115741442411, 'val_accuracy': 0.8369855692143239, 'precision': 0.8377978752561676, 'recall': 0.8369855692143239, 'f1-score': 0.8361040571937209, 'macro_f1-score': 0.8345853078495187, 'balanced_accuracy': 0.8390656096947522, 'mcc': 0.8001382755720847, 'train_loss': 0.20207775160608213}\n",
      "Epoch 10/20\n"
     ]
    },
    {
     "name": "stderr",
     "output_type": "stream",
     "text": [
      "100%|██████████| 3151/3151 [05:37<00:00,  9.34it/s]\n"
     ]
    },
    {
     "name": "stdout",
     "output_type": "stream",
     "text": [
      "{'val_loss': 0.6536734427619948, 'val_accuracy': 0.831533939070016, 'precision': 0.8321509260494127, 'recall': 0.831533939070016, 'f1-score': 0.8311160489865679, 'macro_f1-score': 0.82842814792392, 'balanced_accuracy': 0.8345677816584065, 'mcc': 0.7934702105880729, 'train_loss': 0.21343838216152286}\n",
      "Early stopping.\n",
      "\n",
      "[Fold 3]\n",
      "🚀 Using Word2Vec for data augmentation + under-sampling\n",
      "🔧 Augmenting label 1: 1399 → 5000 (+3601)\n",
      "🔧 Augmenting label 4: 1679 → 5000 (+3321)\n",
      "🔧 Augmenting label 6: 1738 → 5000 (+3262)\n",
      "🔧 Augmenting label 7: 2186 → 5000 (+2814)\n",
      "Label distribution after resampling:\n",
      "  label 0: 5626\n",
      "  label 1: 5000\n",
      "  label 2: 8442\n",
      "  label 3: 10770\n",
      "  label 4: 5000\n",
      "  label 5: 5578\n",
      "  label 6: 5000\n",
      "  label 7: 5000\n",
      "model is microsoft/deberta-base lstm\n",
      "Epoch 1/20\n"
     ]
    },
    {
     "name": "stderr",
     "output_type": "stream",
     "text": [
      "100%|██████████| 3151/3151 [05:37<00:00,  9.34it/s]\n"
     ]
    },
    {
     "name": "stdout",
     "output_type": "stream",
     "text": [
      "{'val_loss': 1.0807570634234664, 'val_accuracy': 0.6441094718836862, 'precision': 0.6528232870315406, 'recall': 0.6441094718836862, 'f1-score': 0.6382619323368917, 'macro_f1-score': 0.5828803130994431, 'balanced_accuracy': 0.6408254250800319, 'mcc': 0.5713733362250351, 'train_loss': 1.4047732071360495}\n",
      "Epoch 2/20\n"
     ]
    },
    {
     "name": "stderr",
     "output_type": "stream",
     "text": [
      "100%|██████████| 3151/3151 [05:37<00:00,  9.34it/s]\n"
     ]
    },
    {
     "name": "stdout",
     "output_type": "stream",
     "text": [
      "{'val_loss': 0.7706073601276446, 'val_accuracy': 0.7768868933076759, 'precision': 0.7868717174079423, 'recall': 0.7768868933076759, 'f1-score': 0.777251606205855, 'macro_f1-score': 0.7677785732841523, 'balanced_accuracy': 0.7768839986119183, 'mcc': 0.7268775291063642, 'train_loss': 0.9652761934021851}\n",
      "Epoch 3/20\n"
     ]
    },
    {
     "name": "stderr",
     "output_type": "stream",
     "text": [
      "100%|██████████| 3151/3151 [05:37<00:00,  9.34it/s]\n"
     ]
    },
    {
     "name": "stdout",
     "output_type": "stream",
     "text": [
      "{'val_loss': 0.7171510172578005, 'val_accuracy': 0.7874706008124867, 'precision': 0.8016862809682315, 'recall': 0.7874706008124867, 'f1-score': 0.7899799181297346, 'macro_f1-score': 0.7858643760374762, 'balanced_accuracy': 0.802057410349927, 'mcc': 0.7416564997061895, 'train_loss': 0.7975865376611355}\n",
      "Epoch 4/20\n"
     ]
    },
    {
     "name": "stderr",
     "output_type": "stream",
     "text": [
      "100%|██████████| 3151/3151 [05:37<00:00,  9.35it/s]\n"
     ]
    },
    {
     "name": "stdout",
     "output_type": "stream",
     "text": [
      "{'val_loss': 0.6129994824783415, 'val_accuracy': 0.8247808424203549, 'precision': 0.8288577679012873, 'recall': 0.8247808424203549, 'f1-score': 0.8253250071903304, 'macro_f1-score': 0.8216857483043923, 'balanced_accuracy': 0.84151563254326, 'mcc': 0.7863775708118644, 'train_loss': 0.5713260357354755}\n",
      "Epoch 5/20\n"
     ]
    },
    {
     "name": "stderr",
     "output_type": "stream",
     "text": [
      "100%|██████████| 3151/3151 [05:37<00:00,  9.34it/s]\n"
     ]
    },
    {
     "name": "stdout",
     "output_type": "stream",
     "text": [
      "{'val_loss': 0.6579415679487408, 'val_accuracy': 0.8096001710498183, 'precision': 0.8125573095192461, 'recall': 0.8096001710498183, 'f1-score': 0.8096311768295205, 'macro_f1-score': 0.8021697983705268, 'balanced_accuracy': 0.8044761147999584, 'mcc': 0.7661277298246797, 'train_loss': 0.5585512526106339}\n",
      "Epoch 6/20\n"
     ]
    },
    {
     "name": "stderr",
     "output_type": "stream",
     "text": [
      "100%|██████████| 3151/3151 [05:37<00:00,  9.35it/s]\n"
     ]
    },
    {
     "name": "stdout",
     "output_type": "stream",
     "text": [
      "{'val_loss': 0.6486394591438465, 'val_accuracy': 0.8165490699166132, 'precision': 0.8238569711725736, 'recall': 0.8165490699166132, 'f1-score': 0.8176489113844976, 'macro_f1-score': 0.8112919645846106, 'balanced_accuracy': 0.8341460581826516, 'mcc': 0.775562749644691, 'train_loss': 0.5736997663272502}\n",
      "Epoch 7/20\n"
     ]
    },
    {
     "name": "stderr",
     "output_type": "stream",
     "text": [
      "100%|██████████| 3151/3151 [05:37<00:00,  9.34it/s]\n"
     ]
    },
    {
     "name": "stdout",
     "output_type": "stream",
     "text": [
      "{'val_loss': 0.6189852530757586, 'val_accuracy': 0.8189010049176823, 'precision': 0.823339672597508, 'recall': 0.8189010049176823, 'f1-score': 0.8191930215771438, 'macro_f1-score': 0.8186167067020003, 'balanced_accuracy': 0.8408433067003263, 'mcc': 0.7799956864472775, 'train_loss': 0.5081173708654706}\n",
      "Early stopping.\n",
      "\n",
      "[Fold 4]\n",
      "🚀 Using Word2Vec for data augmentation + under-sampling\n",
      "🔧 Augmenting label 1: 1399 → 5000 (+3601)\n",
      "🔧 Augmenting label 4: 1679 → 5000 (+3321)\n",
      "🔧 Augmenting label 6: 1738 → 5000 (+3262)\n",
      "🔧 Augmenting label 7: 2186 → 5000 (+2814)\n",
      "Label distribution after resampling:\n",
      "  label 0: 5625\n",
      "  label 1: 5000\n",
      "  label 2: 8441\n",
      "  label 3: 10771\n",
      "  label 4: 5000\n",
      "  label 5: 5579\n",
      "  label 6: 5000\n",
      "  label 7: 5000\n",
      "model is microsoft/deberta-base lstm\n",
      "Epoch 1/20\n"
     ]
    },
    {
     "name": "stderr",
     "output_type": "stream",
     "text": [
      "100%|██████████| 3151/3151 [05:37<00:00,  9.34it/s]\n"
     ]
    },
    {
     "name": "stdout",
     "output_type": "stream",
     "text": [
      "{'val_loss': 1.9323426279247315, 'val_accuracy': 0.28779131922172335, 'precision': 0.08282384341937987, 'recall': 0.28779131922172335, 'f1-score': 0.12862929293456404, 'macro_f1-score': 0.055869168188610326, 'balanced_accuracy': 0.125, 'mcc': 0.0, 'train_loss': 2.040836779437947}\n",
      "Epoch 2/20\n"
     ]
    },
    {
     "name": "stderr",
     "output_type": "stream",
     "text": [
      "100%|██████████| 3151/3151 [05:37<00:00,  9.34it/s]\n"
     ]
    },
    {
     "name": "stdout",
     "output_type": "stream",
     "text": [
      "{'val_loss': 1.942472046460861, 'val_accuracy': 0.28779131922172335, 'precision': 0.08282384341937987, 'recall': 0.28779131922172335, 'f1-score': 0.12862929293456404, 'macro_f1-score': 0.055869168188610326, 'balanced_accuracy': 0.125, 'mcc': 0.0, 'train_loss': 2.0375851933746554}\n",
      "Epoch 3/20\n"
     ]
    },
    {
     "name": "stderr",
     "output_type": "stream",
     "text": [
      "100%|██████████| 3151/3151 [05:37<00:00,  9.34it/s]\n"
     ]
    },
    {
     "name": "stdout",
     "output_type": "stream",
     "text": [
      "{'val_loss': 1.9255050689746172, 'val_accuracy': 0.28779131922172335, 'precision': 0.08282384341937987, 'recall': 0.28779131922172335, 'f1-score': 0.12862929293456404, 'macro_f1-score': 0.055869168188610326, 'balanced_accuracy': 0.125, 'mcc': 0.0, 'train_loss': 2.0366145406818057}\n",
      "Epoch 4/20\n"
     ]
    },
    {
     "name": "stderr",
     "output_type": "stream",
     "text": [
      "100%|██████████| 3151/3151 [05:37<00:00,  9.34it/s]\n"
     ]
    },
    {
     "name": "stdout",
     "output_type": "stream",
     "text": [
      "{'val_loss': 1.9376553698482677, 'val_accuracy': 0.28779131922172335, 'precision': 0.08282384341937987, 'recall': 0.28779131922172335, 'f1-score': 0.12862929293456404, 'macro_f1-score': 0.055869168188610326, 'balanced_accuracy': 0.125, 'mcc': 0.0, 'train_loss': 2.0368612148919887}\n",
      "Early stopping.\n",
      "\n",
      "[Fold 5]\n",
      "🚀 Using Word2Vec for data augmentation + under-sampling\n",
      "🔧 Augmenting label 1: 1399 → 5000 (+3601)\n",
      "🔧 Augmenting label 4: 1678 → 5000 (+3322)\n",
      "🔧 Augmenting label 6: 1738 → 5000 (+3262)\n",
      "🔧 Augmenting label 7: 2187 → 5000 (+2813)\n",
      "Label distribution after resampling:\n",
      "  label 0: 5625\n",
      "  label 1: 5000\n",
      "  label 2: 8441\n",
      "  label 3: 10771\n",
      "  label 4: 5000\n",
      "  label 5: 5579\n",
      "  label 6: 5000\n",
      "  label 7: 5000\n",
      "model is microsoft/deberta-base lstm\n",
      "Epoch 1/20\n"
     ]
    },
    {
     "name": "stderr",
     "output_type": "stream",
     "text": [
      "100%|██████████| 3151/3151 [05:37<00:00,  9.34it/s]\n"
     ]
    },
    {
     "name": "stdout",
     "output_type": "stream",
     "text": [
      "{'val_loss': 0.6626892522295825, 'val_accuracy': 0.8032927090014967, 'precision': 0.8156120000759018, 'recall': 0.8032927090014967, 'f1-score': 0.8047242293857555, 'macro_f1-score': 0.8110195311804206, 'balanced_accuracy': 0.8325942944320953, 'mcc': 0.762037857079593, 'train_loss': 0.9163395483407358}\n",
      "Epoch 2/20\n"
     ]
    },
    {
     "name": "stderr",
     "output_type": "stream",
     "text": [
      "100%|██████████| 3151/3151 [05:37<00:00,  9.34it/s]\n"
     ]
    },
    {
     "name": "stdout",
     "output_type": "stream",
     "text": [
      "{'val_loss': 0.5622750005246991, 'val_accuracy': 0.8264913406029506, 'precision': 0.8358419107736459, 'recall': 0.8264913406029506, 'f1-score': 0.8281040701503355, 'macro_f1-score': 0.8228915549535883, 'balanced_accuracy': 0.8476815786375227, 'mcc': 0.7897263515144837, 'train_loss': 0.5036642876637243}\n",
      "Epoch 3/20\n"
     ]
    },
    {
     "name": "stderr",
     "output_type": "stream",
     "text": [
      "100%|██████████| 3151/3151 [05:37<00:00,  9.33it/s]\n"
     ]
    },
    {
     "name": "stdout",
     "output_type": "stream",
     "text": [
      "{'val_loss': 0.5259508326968066, 'val_accuracy': 0.8361128928800513, 'precision': 0.837857925117714, 'recall': 0.8361128928800513, 'f1-score': 0.8362686379812837, 'macro_f1-score': 0.8330078644606449, 'balanced_accuracy': 0.8471470021939874, 'mcc': 0.7989314446570035, 'train_loss': 0.39956083440144113}\n",
      "Epoch 4/20\n"
     ]
    },
    {
     "name": "stderr",
     "output_type": "stream",
     "text": [
      "100%|██████████| 3151/3151 [05:37<00:00,  9.33it/s]\n"
     ]
    },
    {
     "name": "stdout",
     "output_type": "stream",
     "text": [
      "{'val_loss': 0.5459805344478187, 'val_accuracy': 0.8183664742356211, 'precision': 0.8233746929025089, 'recall': 0.8183664742356211, 'f1-score': 0.8170603639674158, 'macro_f1-score': 0.7753736746781065, 'balanced_accuracy': 0.786582122961405, 'mcc': 0.7773664712679946, 'train_loss': 0.426862587362542}\n",
      "Epoch 5/20\n"
     ]
    },
    {
     "name": "stderr",
     "output_type": "stream",
     "text": [
      "100%|██████████| 3151/3151 [05:38<00:00,  9.32it/s]\n"
     ]
    },
    {
     "name": "stdout",
     "output_type": "stream",
     "text": [
      "{'val_loss': 0.6198778234549567, 'val_accuracy': 0.8218943767372248, 'precision': 0.8240236168429309, 'recall': 0.8218943767372248, 'f1-score': 0.8215457952134302, 'macro_f1-score': 0.8148839737886528, 'balanced_accuracy': 0.8337937651269367, 'mcc': 0.7822284264170054, 'train_loss': 0.3663279576645588}\n",
      "Epoch 6/20\n"
     ]
    },
    {
     "name": "stderr",
     "output_type": "stream",
     "text": [
      "100%|██████████| 3151/3151 [05:39<00:00,  9.29it/s]\n"
     ]
    },
    {
     "name": "stdout",
     "output_type": "stream",
     "text": [
      "{'val_loss': 0.5881606298252049, 'val_accuracy': 0.8246739362839427, 'precision': 0.8325728829796739, 'recall': 0.8246739362839427, 'f1-score': 0.8250904040504234, 'macro_f1-score': 0.8144973967659003, 'balanced_accuracy': 0.850262961321462, 'mcc': 0.7881275096677206, 'train_loss': 0.3915556204892158}\n",
      "Early stopping.\n",
      "\n",
      " === microsoft/deberta-base + lstm + word2vec Final 5-fold Cross-Validation Results ===\n",
      "val_loss: 0.8385\n",
      "val_accuracy: 0.7273\n",
      "precision: 0.6879\n",
      "recall: 0.7273\n",
      "f1-score: 0.6956\n",
      "macro_f1-score: 0.6781\n",
      "balanced_accuracy: 0.7017\n",
      "mcc: 0.6405\n",
      "train_loss: 0.7408\n",
      "total_seconds: 12413.0000\n",
      "total_time: 3 hrs 26 mins 53 secs\n",
      "▶ Running: microsoft/deberta-base + bilstm + word2vec\n",
      "tokenizer is microsoft/deberta-base\n",
      "Using device: cuda\n",
      "CUDA Available: True\n",
      "CUDA Device: NVIDIA GeForce RTX 5070 Ti\n",
      "Current GPU Memory Allocated: 0.02 GB\n",
      "Current GPU Memory Cached: 5.28 GB\n",
      "\n",
      "[Fold 1]\n",
      "🚀 Using Word2Vec for data augmentation + under-sampling\n",
      "🔧 Augmenting label 1: 1399 → 5000 (+3601)\n",
      "🔧 Augmenting label 4: 1678 → 5000 (+3322)\n",
      "🔧 Augmenting label 6: 1737 → 5000 (+3263)\n",
      "🔧 Augmenting label 7: 2187 → 5000 (+2813)\n",
      "Label distribution after resampling:\n",
      "  label 0: 5626\n",
      "  label 1: 5000\n",
      "  label 2: 8442\n",
      "  label 3: 10770\n",
      "  label 4: 5000\n",
      "  label 5: 5578\n",
      "  label 6: 5000\n",
      "  label 7: 5000\n",
      "model is microsoft/deberta-base bilstm\n",
      "Epoch 1/20\n"
     ]
    },
    {
     "name": "stderr",
     "output_type": "stream",
     "text": [
      "100%|██████████| 3151/3151 [05:45<00:00,  9.13it/s]\n"
     ]
    },
    {
     "name": "stdout",
     "output_type": "stream",
     "text": [
      "{'val_loss': 1.5207432086651143, 'val_accuracy': 0.42693746659540355, 'precision': 0.3917349213745657, 'recall': 0.42693746659540355, 'f1-score': 0.3505916719700188, 'macro_f1-score': 0.3461119262900144, 'balanced_accuracy': 0.3920339448060448, 'mcc': 0.3243737861115558, 'train_loss': 1.613631923949291}\n",
      "Epoch 2/20\n"
     ]
    },
    {
     "name": "stderr",
     "output_type": "stream",
     "text": [
      "100%|██████████| 3151/3151 [05:45<00:00,  9.12it/s]\n"
     ]
    },
    {
     "name": "stdout",
     "output_type": "stream",
     "text": [
      "{'val_loss': 1.1303416434516254, 'val_accuracy': 0.5886691608765366, 'precision': 0.633393872444466, 'recall': 0.5886691608765366, 'f1-score': 0.5855365194331185, 'macro_f1-score': 0.5699208987366877, 'balanced_accuracy': 0.6092056696357262, 'mcc': 0.5152260845140859, 'train_loss': 1.182881687651056}\n",
      "Epoch 3/20\n"
     ]
    },
    {
     "name": "stderr",
     "output_type": "stream",
     "text": [
      "100%|██████████| 3151/3151 [05:45<00:00,  9.13it/s]\n"
     ]
    },
    {
     "name": "stdout",
     "output_type": "stream",
     "text": [
      "{'val_loss': 0.9438165256610284, 'val_accuracy': 0.6845537145911278, 'precision': 0.7048098075416299, 'recall': 0.6845537145911278, 'f1-score': 0.686424166714321, 'macro_f1-score': 0.7046958026119142, 'balanced_accuracy': 0.7196410549759467, 'mcc': 0.6165804341395128, 'train_loss': 0.8932160726523483}\n",
      "Epoch 4/20\n"
     ]
    },
    {
     "name": "stderr",
     "output_type": "stream",
     "text": [
      "100%|██████████| 3151/3151 [05:45<00:00,  9.11it/s]\n"
     ]
    },
    {
     "name": "stdout",
     "output_type": "stream",
     "text": [
      "{'val_loss': 0.8862333348928354, 'val_accuracy': 0.7203634420096205, 'precision': 0.7483443614536788, 'recall': 0.7203634420096205, 'f1-score': 0.7219175479862184, 'macro_f1-score': 0.7068567089053768, 'balanced_accuracy': 0.7071345669817858, 'mcc': 0.6640177982061948, 'train_loss': 0.7699175539167296}\n",
      "Epoch 5/20\n"
     ]
    },
    {
     "name": "stderr",
     "output_type": "stream",
     "text": [
      "100%|██████████| 3151/3151 [05:45<00:00,  9.13it/s]\n"
     ]
    },
    {
     "name": "stdout",
     "output_type": "stream",
     "text": [
      "{'val_loss': 0.9672381555422759, 'val_accuracy': 0.6786745056119722, 'precision': 0.6931345207344372, 'recall': 0.6786745056119722, 'f1-score': 0.6765246012242812, 'macro_f1-score': 0.6820667561199246, 'balanced_accuracy': 0.7106399819401016, 'mcc': 0.6112049933537043, 'train_loss': 0.7697067935952532}\n",
      "Epoch 6/20\n"
     ]
    },
    {
     "name": "stderr",
     "output_type": "stream",
     "text": [
      "100%|██████████| 3151/3151 [05:45<00:00,  9.13it/s]\n"
     ]
    },
    {
     "name": "stdout",
     "output_type": "stream",
     "text": [
      "{'val_loss': 0.9142635657491847, 'val_accuracy': 0.7149118118653127, 'precision': 0.7471693242030083, 'recall': 0.7149118118653127, 'f1-score': 0.721201671476147, 'macro_f1-score': 0.7376973847922442, 'balanced_accuracy': 0.7519322292812202, 'mcc': 0.6592670115263066, 'train_loss': 1.0667000521235677}\n",
      "Epoch 7/20\n"
     ]
    },
    {
     "name": "stderr",
     "output_type": "stream",
     "text": [
      "100%|██████████| 3151/3151 [05:45<00:00,  9.12it/s]\n"
     ]
    },
    {
     "name": "stdout",
     "output_type": "stream",
     "text": [
      "{'val_loss': 0.8508616913332898, 'val_accuracy': 0.7314804917156601, 'precision': 0.7508097737048596, 'recall': 0.7314804917156601, 'f1-score': 0.7348227702449477, 'macro_f1-score': 0.7462168705760119, 'balanced_accuracy': 0.7613686480631341, 'mcc': 0.676717253573908, 'train_loss': 0.8081845741486103}\n",
      "Epoch 8/20\n"
     ]
    },
    {
     "name": "stderr",
     "output_type": "stream",
     "text": [
      "100%|██████████| 3151/3151 [05:45<00:00,  9.13it/s]\n"
     ]
    },
    {
     "name": "stdout",
     "output_type": "stream",
     "text": [
      "{'val_loss': 0.8417513434703533, 'val_accuracy': 0.7384286477819348, 'precision': 0.7534738345796375, 'recall': 0.7384286477819348, 'f1-score': 0.7395522710565668, 'macro_f1-score': 0.7478952658197234, 'balanced_accuracy': 0.7615209129959013, 'mcc': 0.6792772863771896, 'train_loss': 0.6817470046285787}\n",
      "Epoch 9/20\n"
     ]
    },
    {
     "name": "stderr",
     "output_type": "stream",
     "text": [
      "100%|██████████| 3151/3151 [05:45<00:00,  9.12it/s]\n"
     ]
    },
    {
     "name": "stdout",
     "output_type": "stream",
     "text": [
      "{'val_loss': 0.7076103559161863, 'val_accuracy': 0.7777659005879209, 'precision': 0.7791775508756137, 'recall': 0.7777659005879209, 'f1-score': 0.7756757371858349, 'macro_f1-score': 0.7770015760972386, 'balanced_accuracy': 0.7825435160351051, 'mcc': 0.7266074378902103, 'train_loss': 0.6050142228700308}\n",
      "Epoch 10/20\n"
     ]
    },
    {
     "name": "stderr",
     "output_type": "stream",
     "text": [
      "100%|██████████| 3151/3151 [05:45<00:00,  9.13it/s]\n"
     ]
    },
    {
     "name": "stdout",
     "output_type": "stream",
     "text": [
      "{'val_loss': 0.8844468359254364, 'val_accuracy': 0.7112773917691074, 'precision': 0.7207117746319991, 'recall': 0.7112773917691074, 'f1-score': 0.7100174416707428, 'macro_f1-score': 0.6983061873756718, 'balanced_accuracy': 0.7160622657687072, 'mcc': 0.6452007972153144, 'train_loss': 0.6952889702318018}\n",
      "Epoch 11/20\n"
     ]
    },
    {
     "name": "stderr",
     "output_type": "stream",
     "text": [
      "100%|██████████| 3151/3151 [05:46<00:00,  9.11it/s]\n"
     ]
    },
    {
     "name": "stdout",
     "output_type": "stream",
     "text": [
      "{'val_loss': 0.7322488163780962, 'val_accuracy': 0.7625868519508284, 'precision': 0.7704635193243744, 'recall': 0.7625868519508284, 'f1-score': 0.763134815153265, 'macro_f1-score': 0.7632242865869989, 'balanced_accuracy': 0.7886748925907957, 'mcc': 0.7102645712242301, 'train_loss': 0.7193531523532847}\n",
      "Epoch 12/20\n"
     ]
    },
    {
     "name": "stderr",
     "output_type": "stream",
     "text": [
      "100%|██████████| 3151/3151 [05:46<00:00,  9.10it/s]\n"
     ]
    },
    {
     "name": "stdout",
     "output_type": "stream",
     "text": [
      "{'val_loss': 0.9298084809229924, 'val_accuracy': 0.6994120791020845, 'precision': 0.7152940078066918, 'recall': 0.6994120791020845, 'f1-score': 0.69981934797162, 'macro_f1-score': 0.6959794666788024, 'balanced_accuracy': 0.736905011957997, 'mcc': 0.6361182637584057, 'train_loss': 0.7148073593143318}\n",
      "Early stopping.\n",
      "\n",
      "[Fold 2]\n",
      "🚀 Using Word2Vec for data augmentation + under-sampling\n",
      "🔧 Augmenting label 1: 1400 → 5000 (+3600)\n",
      "🔧 Augmenting label 4: 1678 → 5000 (+3322)\n",
      "🔧 Augmenting label 6: 1737 → 5000 (+3263)\n",
      "🔧 Augmenting label 7: 2186 → 5000 (+2814)\n",
      "Label distribution after resampling:\n",
      "  label 0: 5626\n",
      "  label 1: 5000\n",
      "  label 2: 8442\n",
      "  label 3: 10770\n",
      "  label 4: 5000\n",
      "  label 5: 5578\n",
      "  label 6: 5000\n",
      "  label 7: 5000\n",
      "model is microsoft/deberta-base bilstm\n",
      "Epoch 1/20\n"
     ]
    },
    {
     "name": "stderr",
     "output_type": "stream",
     "text": [
      "100%|██████████| 3151/3151 [05:47<00:00,  9.08it/s]\n"
     ]
    },
    {
     "name": "stdout",
     "output_type": "stream",
     "text": [
      "{'val_loss': 1.7905779901732746, 'val_accuracy': 0.32442544094067344, 'precision': 0.12800811330274395, 'recall': 0.32442544094067344, 'f1-score': 0.1726705491617021, 'macro_f1-score': 0.16709053776469074, 'balanced_accuracy': 0.23002217328023697, 'mcc': 0.1809729076162143, 'train_loss': 1.9110190604687192}\n",
      "Epoch 2/20\n"
     ]
    },
    {
     "name": "stderr",
     "output_type": "stream",
     "text": [
      "100%|██████████| 3151/3151 [05:46<00:00,  9.10it/s]\n"
     ]
    },
    {
     "name": "stdout",
     "output_type": "stream",
     "text": [
      "{'val_loss': 1.947001542392959, 'val_accuracy': 0.2878674505611972, 'precision': 0.08286766909260333, 'recall': 0.2878674505611972, 'f1-score': 0.1286897483999509, 'macro_f1-score': 0.055880644090305444, 'balanced_accuracy': 0.125, 'mcc': 0.0, 'train_loss': 1.9858292705178147}\n",
      "Epoch 3/20\n"
     ]
    },
    {
     "name": "stderr",
     "output_type": "stream",
     "text": [
      "100%|██████████| 3151/3151 [05:46<00:00,  9.10it/s]\n"
     ]
    },
    {
     "name": "stdout",
     "output_type": "stream",
     "text": [
      "{'val_loss': 1.9359597723708193, 'val_accuracy': 0.2879743452699091, 'precision': 0.12018278149539915, 'recall': 0.2879743452699091, 'f1-score': 0.12891360929713336, 'macro_f1-score': 0.05659956835726737, 'balanced_accuracy': 0.12535816618911175, 'mcc': 0.01014363473371369, 'train_loss': 2.036420939499066}\n",
      "Epoch 4/20\n"
     ]
    },
    {
     "name": "stderr",
     "output_type": "stream",
     "text": [
      "100%|██████████| 3151/3151 [05:46<00:00,  9.10it/s]\n"
     ]
    },
    {
     "name": "stdout",
     "output_type": "stream",
     "text": [
      "{'val_loss': 1.940659243021256, 'val_accuracy': 0.2878674505611972, 'precision': 0.08286766909260333, 'recall': 0.2878674505611972, 'f1-score': 0.1286897483999509, 'macro_f1-score': 0.055880644090305444, 'balanced_accuracy': 0.125, 'mcc': 0.0, 'train_loss': 2.036070486130468}\n",
      "Early stopping.\n",
      "\n",
      "[Fold 3]\n",
      "🚀 Using Word2Vec for data augmentation + under-sampling\n",
      "🔧 Augmenting label 1: 1399 → 5000 (+3601)\n",
      "🔧 Augmenting label 4: 1679 → 5000 (+3321)\n",
      "🔧 Augmenting label 6: 1738 → 5000 (+3262)\n",
      "🔧 Augmenting label 7: 2186 → 5000 (+2814)\n",
      "Label distribution after resampling:\n",
      "  label 0: 5626\n",
      "  label 1: 5000\n",
      "  label 2: 8442\n",
      "  label 3: 10770\n",
      "  label 4: 5000\n",
      "  label 5: 5578\n",
      "  label 6: 5000\n",
      "  label 7: 5000\n",
      "model is microsoft/deberta-base bilstm\n",
      "Epoch 1/20\n"
     ]
    },
    {
     "name": "stderr",
     "output_type": "stream",
     "text": [
      "100%|██████████| 3151/3151 [05:46<00:00,  9.08it/s]\n"
     ]
    },
    {
     "name": "stdout",
     "output_type": "stream",
     "text": [
      "{'val_loss': 0.7216906539522685, 'val_accuracy': 0.7907846910412658, 'precision': 0.8045527708091639, 'recall': 0.7907846910412658, 'f1-score': 0.7889834414350291, 'macro_f1-score': 0.7379003670165113, 'balanced_accuracy': 0.7750573454822312, 'mcc': 0.7454096611618805, 'train_loss': 1.0393856497288165}\n",
      "Epoch 2/20\n"
     ]
    },
    {
     "name": "stderr",
     "output_type": "stream",
     "text": [
      "100%|██████████| 3151/3151 [05:45<00:00,  9.11it/s]\n"
     ]
    },
    {
     "name": "stdout",
     "output_type": "stream",
     "text": [
      "{'val_loss': 1.9408083718047182, 'val_accuracy': 0.2878982253581356, 'precision': 0.08288538816436382, 'recall': 0.2878982253581356, 'f1-score': 0.12871418957241787, 'macro_f1-score': 0.055885282642981655, 'balanced_accuracy': 0.125, 'mcc': 0.0, 'train_loss': 1.9284335937018775}\n",
      "Epoch 3/20\n"
     ]
    },
    {
     "name": "stderr",
     "output_type": "stream",
     "text": [
      "100%|██████████| 3151/3151 [05:45<00:00,  9.11it/s]\n"
     ]
    },
    {
     "name": "stdout",
     "output_type": "stream",
     "text": [
      "{'val_loss': 1.4882014839058249, 'val_accuracy': 0.4660038486209108, 'precision': 0.27057694568137797, 'recall': 0.4660038486209108, 'f1-score': 0.33841050131309286, 'macro_f1-score': 0.2533430359472192, 'balanced_accuracy': 0.31450632889464575, 'mcc': 0.32730874947116795, 'train_loss': 1.9523225096209547}\n",
      "Epoch 4/20\n"
     ]
    },
    {
     "name": "stderr",
     "output_type": "stream",
     "text": [
      "100%|██████████| 3151/3151 [05:45<00:00,  9.12it/s]\n"
     ]
    },
    {
     "name": "stdout",
     "output_type": "stream",
     "text": [
      "{'val_loss': 1.9343190549785256, 'val_accuracy': 0.2893949112679068, 'precision': 0.13460339687676642, 'recall': 0.2893949112679068, 'f1-score': 0.13195873021912682, 'macro_f1-score': 0.0625924108169293, 'balanced_accuracy': 0.12838137129846422, 'mcc': 0.03524710842805839, 'train_loss': 1.976965638313245}\n",
      "Early stopping.\n",
      "\n",
      "[Fold 4]\n",
      "🚀 Using Word2Vec for data augmentation + under-sampling\n",
      "🔧 Augmenting label 1: 1399 → 5000 (+3601)\n",
      "🔧 Augmenting label 4: 1679 → 5000 (+3321)\n",
      "🔧 Augmenting label 6: 1738 → 5000 (+3262)\n",
      "🔧 Augmenting label 7: 2186 → 5000 (+2814)\n",
      "Label distribution after resampling:\n",
      "  label 0: 5625\n",
      "  label 1: 5000\n",
      "  label 2: 8441\n",
      "  label 3: 10771\n",
      "  label 4: 5000\n",
      "  label 5: 5579\n",
      "  label 6: 5000\n",
      "  label 7: 5000\n",
      "model is microsoft/deberta-base bilstm\n",
      "Epoch 1/20\n"
     ]
    },
    {
     "name": "stderr",
     "output_type": "stream",
     "text": [
      "100%|██████████| 3151/3151 [05:46<00:00,  9.10it/s]\n"
     ]
    },
    {
     "name": "stdout",
     "output_type": "stream",
     "text": [
      "{'val_loss': 0.5781491405561439, 'val_accuracy': 0.8159076330981399, 'precision': 0.826152629972072, 'recall': 0.8159076330981399, 'f1-score': 0.8176011266053952, 'macro_f1-score': 0.8097638741500804, 'balanced_accuracy': 0.8387780529618576, 'mcc': 0.7755621813546622, 'train_loss': 0.8670833841845823}\n",
      "Epoch 2/20\n"
     ]
    },
    {
     "name": "stderr",
     "output_type": "stream",
     "text": [
      "100%|██████████| 3151/3151 [06:00<00:00,  8.75it/s]\n"
     ]
    },
    {
     "name": "stdout",
     "output_type": "stream",
     "text": [
      "{'val_loss': 0.5216260839476544, 'val_accuracy': 0.8368612358349369, 'precision': 0.839913339271572, 'recall': 0.8368612358349369, 'f1-score': 0.8364844905717792, 'macro_f1-score': 0.832806075056233, 'balanced_accuracy': 0.8566911211043988, 'mcc': 0.8014801597188945, 'train_loss': 0.46158003244904894}\n",
      "Epoch 3/20\n"
     ]
    },
    {
     "name": "stderr",
     "output_type": "stream",
     "text": [
      "100%|██████████| 3151/3151 [06:15<00:00,  8.38it/s]\n"
     ]
    },
    {
     "name": "stdout",
     "output_type": "stream",
     "text": [
      "{'val_loss': 1.0784213632345199, 'val_accuracy': 0.593863587769938, 'precision': 0.698020650972255, 'recall': 0.593863587769938, 'f1-score': 0.5800054047869165, 'macro_f1-score': 0.5952106372535616, 'balanced_accuracy': 0.593385195291026, 'mcc': 0.5276432985519642, 'train_loss': 0.4155841843644467}\n",
      "Epoch 4/20\n"
     ]
    },
    {
     "name": "stderr",
     "output_type": "stream",
     "text": [
      "100%|██████████| 3151/3151 [06:17<00:00,  8.36it/s]\n"
     ]
    },
    {
     "name": "stdout",
     "output_type": "stream",
     "text": [
      "{'val_loss': 0.4984788766974567, 'val_accuracy': 0.8400684199273039, 'precision': 0.8454893142084188, 'recall': 0.8400684199273039, 'f1-score': 0.839985229143018, 'macro_f1-score': 0.8413265321217658, 'balanced_accuracy': 0.8534351910615866, 'mcc': 0.8051284517795574, 'train_loss': 0.39795011741687614}\n",
      "Epoch 5/20\n"
     ]
    },
    {
     "name": "stderr",
     "output_type": "stream",
     "text": [
      "100%|██████████| 3151/3151 [06:12<00:00,  8.45it/s]\n"
     ]
    },
    {
     "name": "stdout",
     "output_type": "stream",
     "text": [
      "{'val_loss': 0.5142941234076125, 'val_accuracy': 0.8478725678853967, 'precision': 0.849803252193976, 'recall': 0.8478725678853967, 'f1-score': 0.8479765680629303, 'macro_f1-score': 0.845088479427871, 'balanced_accuracy': 0.8595739647083402, 'mcc': 0.8139329771158078, 'train_loss': 0.36800034218256444}\n",
      "Epoch 6/20\n"
     ]
    },
    {
     "name": "stderr",
     "output_type": "stream",
     "text": [
      "100%|██████████| 3151/3151 [06:14<00:00,  8.41it/s]\n"
     ]
    },
    {
     "name": "stdout",
     "output_type": "stream",
     "text": [
      "{'val_loss': 0.561328596341559, 'val_accuracy': 0.8348300192431045, 'precision': 0.8374008217278662, 'recall': 0.8348300192431045, 'f1-score': 0.8346319282433379, 'macro_f1-score': 0.8367401008682748, 'balanced_accuracy': 0.8452467682105758, 'mcc': 0.797314082908037, 'train_loss': 0.36125199643877887}\n",
      "Epoch 7/20\n"
     ]
    },
    {
     "name": "stderr",
     "output_type": "stream",
     "text": [
      "100%|██████████| 3151/3151 [06:14<00:00,  8.42it/s]\n"
     ]
    },
    {
     "name": "stdout",
     "output_type": "stream",
     "text": [
      "{'val_loss': 0.6892412559567099, 'val_accuracy': 0.7971990592259995, 'precision': 0.7992989440894029, 'recall': 0.7971990592259995, 'f1-score': 0.7970950248399035, 'macro_f1-score': 0.8012997253223196, 'balanced_accuracy': 0.7934584367760388, 'mcc': 0.7499384801346697, 'train_loss': 0.35233861271360545}\n",
      "Epoch 8/20\n"
     ]
    },
    {
     "name": "stderr",
     "output_type": "stream",
     "text": [
      "100%|██████████| 3151/3151 [06:14<00:00,  8.41it/s]\n"
     ]
    },
    {
     "name": "stdout",
     "output_type": "stream",
     "text": [
      "{'val_loss': 0.7507213136706596, 'val_accuracy': 0.7954885610434039, 'precision': 0.8274506638564509, 'recall': 0.7954885610434039, 'f1-score': 0.7932751395361829, 'macro_f1-score': 0.8053795642898135, 'balanced_accuracy': 0.804853758970518, 'mcc': 0.7549364110993222, 'train_loss': 0.2729578679885629}\n",
      "Early stopping.\n",
      "\n",
      "[Fold 5]\n",
      "🚀 Using Word2Vec for data augmentation + under-sampling\n",
      "🔧 Augmenting label 1: 1399 → 5000 (+3601)\n",
      "🔧 Augmenting label 4: 1678 → 5000 (+3322)\n",
      "🔧 Augmenting label 6: 1738 → 5000 (+3262)\n",
      "🔧 Augmenting label 7: 2187 → 5000 (+2813)\n",
      "Label distribution after resampling:\n",
      "  label 0: 5625\n",
      "  label 1: 5000\n",
      "  label 2: 8441\n",
      "  label 3: 10771\n",
      "  label 4: 5000\n",
      "  label 5: 5579\n",
      "  label 6: 5000\n",
      "  label 7: 5000\n",
      "model is microsoft/deberta-base bilstm\n",
      "Epoch 1/20\n"
     ]
    },
    {
     "name": "stderr",
     "output_type": "stream",
     "text": [
      "100%|██████████| 3151/3151 [06:12<00:00,  8.46it/s]\n"
     ]
    },
    {
     "name": "stdout",
     "output_type": "stream",
     "text": [
      "{'val_loss': 1.9296943644173126, 'val_accuracy': 0.28779131922172335, 'precision': 0.08282384341937987, 'recall': 0.28779131922172335, 'f1-score': 0.12862929293456404, 'macro_f1-score': 0.055869168188610326, 'balanced_accuracy': 0.125, 'mcc': 0.0, 'train_loss': 2.039074476769295}\n",
      "Epoch 2/20\n"
     ]
    },
    {
     "name": "stderr",
     "output_type": "stream",
     "text": [
      "100%|██████████| 3151/3151 [06:04<00:00,  8.64it/s]\n"
     ]
    },
    {
     "name": "stdout",
     "output_type": "stream",
     "text": [
      "{'val_loss': 1.9369540754546466, 'val_accuracy': 0.28779131922172335, 'precision': 0.08282384341937987, 'recall': 0.28779131922172335, 'f1-score': 0.12862929293456404, 'macro_f1-score': 0.055869168188610326, 'balanced_accuracy': 0.125, 'mcc': 0.0, 'train_loss': 2.036767446665641}\n",
      "Epoch 3/20\n"
     ]
    },
    {
     "name": "stderr",
     "output_type": "stream",
     "text": [
      "100%|██████████| 3151/3151 [05:47<00:00,  9.08it/s]\n"
     ]
    },
    {
     "name": "stdout",
     "output_type": "stream",
     "text": [
      "{'val_loss': 1.9303644756985525, 'val_accuracy': 0.28779131922172335, 'precision': 0.08282384341937987, 'recall': 0.28779131922172335, 'f1-score': 0.12862929293456404, 'macro_f1-score': 0.055869168188610326, 'balanced_accuracy': 0.125, 'mcc': 0.0, 'train_loss': 2.036276927716162}\n",
      "Epoch 4/20\n"
     ]
    },
    {
     "name": "stderr",
     "output_type": "stream",
     "text": [
      "100%|██████████| 3151/3151 [05:46<00:00,  9.09it/s]\n"
     ]
    },
    {
     "name": "stdout",
     "output_type": "stream",
     "text": [
      "{'val_loss': 1.9367656110698341, 'val_accuracy': 0.28779131922172335, 'precision': 0.08282384341937987, 'recall': 0.28779131922172335, 'f1-score': 0.12862929293456404, 'macro_f1-score': 0.055869168188610326, 'balanced_accuracy': 0.125, 'mcc': 0.0, 'train_loss': 2.0373122204072662}\n",
      "Early stopping.\n",
      "\n",
      " === microsoft/deberta-base + bilstm + word2vec Final 5-fold Cross-Validation Results ===\n",
      "val_loss: 1.1328\n",
      "val_accuracy: 0.6057\n",
      "precision: 0.5289\n",
      "recall: 0.6057\n",
      "f1-score: 0.5428\n",
      "macro_f1-score: 0.5166\n",
      "balanced_accuracy: 0.5544\n",
      "mcc: 0.4934\n",
      "train_loss: 1.1925\n",
      "total_seconds: 12251.0000\n",
      "total_time: 3 hrs 24 mins 11 secs\n"
     ]
    }
   ],
   "source": [
    "model_list = [\"bert-base-uncased\", \"roberta-base\", \"microsoft/deberta-base\"]\n",
    "hybrid_list = [None, \"cnn\", \"lstm\", \"bilstm\"]\n",
    "resample_list = [\"word2vec\"]\n",
    "\n",
    "all_experiment_result = {}\n",
    "\n",
    "for model_name in model_list:\n",
    "    for hybrid_type in hybrid_list:\n",
    "        for resample_method in resample_list:\n",
    "            results = run_kfold_experiment(\n",
    "                X=messages, y=labels, model_name=model_name, hybrid_type=hybrid_type, resample_method=resample_method,\n",
    "                kfold=KFOLD_SPLIT, seed=SEED, epochs=EPOCHS, patience=PATIENCE, max_length=MAX_LENGTH, \n",
    "                batch_size=BATCH_SIZE, lr=LR, weight_decay=WEIGHT_DECAY, upper_cap=UPPER_CAP, lower_cap=LOWER_CAP\n",
    "            )\n",
    "\n",
    "            key = f\"{model_name} {hybrid_type if hybrid_type else 'None'} {resample_method}\"\n",
    "            all_experiment_result[key] = results"
   ]
  },
  {
   "cell_type": "code",
   "execution_count": 5,
   "id": "d799ebb4-be3b-4b29-9238-6c2a2f8256ae",
   "metadata": {},
   "outputs": [
    {
     "data": {
      "text/plain": [
       "{'bert-base-uncased None word2vec': {'val_loss': 0.4846683506074593,\n",
       "  'val_accuracy': 0.8626315708276866,\n",
       "  'precision': 0.8637706750968693,\n",
       "  'recall': 0.8626315708276866,\n",
       "  'f1-score': 0.8626035271152677,\n",
       "  'macro_f1-score': 0.8602519103912283,\n",
       "  'balanced_accuracy': 0.8605293814925759,\n",
       "  'mcc': 0.8312063327896494,\n",
       "  'train_loss': 0.1549383954692399,\n",
       "  'total_seconds': 9517,\n",
       "  'total_time': '2 hrs 38 mins 37 secs'},\n",
       " 'bert-base-uncased cnn word2vec': {'val_loss': 0.4971254213588535,\n",
       "  'val_accuracy': 0.8620968755867409,\n",
       "  'precision': 0.8638863173403566,\n",
       "  'recall': 0.8620968755867409,\n",
       "  'f1-score': 0.8621869456808856,\n",
       "  'macro_f1-score': 0.861926080430365,\n",
       "  'balanced_accuracy': 0.8567915844095921,\n",
       "  'mcc': 0.8303106477596783,\n",
       "  'train_loss': 0.14773696763792316,\n",
       "  'total_seconds': 10283,\n",
       "  'total_time': '2 hrs 51 mins 23 secs'},\n",
       " 'bert-base-uncased lstm word2vec': {'val_loss': 0.47804491623828155,\n",
       "  'val_accuracy': 0.8572651547590601,\n",
       "  'precision': 0.8594271664747526,\n",
       "  'recall': 0.8572651547590601,\n",
       "  'f1-score': 0.8574511838943104,\n",
       "  'macro_f1-score': 0.8568935096319429,\n",
       "  'balanced_accuracy': 0.8568110246864155,\n",
       "  'mcc': 0.8249304551715658,\n",
       "  'train_loss': 0.23765247288272043,\n",
       "  'total_seconds': 9286,\n",
       "  'total_time': '2 hrs 34 mins 46 secs'},\n",
       " 'bert-base-uncased bilstm word2vec': {'val_loss': 0.49940771113977667,\n",
       "  'val_accuracy': 0.8628667300446926,\n",
       "  'precision': 0.8637267826022702,\n",
       "  'recall': 0.8628667300446926,\n",
       "  'f1-score': 0.8629316434463219,\n",
       "  'macro_f1-score': 0.8602786006889239,\n",
       "  'balanced_accuracy': 0.8651410001733717,\n",
       "  'mcc': 0.8315338751778562,\n",
       "  'train_loss': 0.15409356327621407,\n",
       "  'total_seconds': 11451,\n",
       "  'total_time': '3 hrs 10 mins 51 secs'},\n",
       " 'roberta-base None word2vec': {'val_loss': 0.5303444640939402,\n",
       "  'val_accuracy': 0.8608570638101073,\n",
       "  'precision': 0.8623565696403,\n",
       "  'recall': 0.8608570638101073,\n",
       "  'f1-score': 0.8609124074994765,\n",
       "  'macro_f1-score': 0.8581141248127636,\n",
       "  'balanced_accuracy': 0.8595387738299362,\n",
       "  'mcc': 0.829008632410383,\n",
       "  'train_loss': 0.14711852356320368,\n",
       "  'total_seconds': 13982,\n",
       "  'total_time': '3 hrs 53 mins 2 secs'},\n",
       " 'roberta-base cnn word2vec': {'val_loss': 0.7775113932700812,\n",
       "  'val_accuracy': 0.7451846379253146,\n",
       "  'precision': 0.7054313855340075,\n",
       "  'recall': 0.7451846379253146,\n",
       "  'f1-score': 0.7133504678005337,\n",
       "  'macro_f1-score': 0.6978639224763422,\n",
       "  'balanced_accuracy': 0.7166042059296993,\n",
       "  'mcc': 0.6622790101725451,\n",
       "  'train_loss': 0.5958283268665907,\n",
       "  'total_seconds': 11578,\n",
       "  'total_time': '3 hrs 12 mins 58 secs'},\n",
       " 'roberta-base lstm word2vec': {'val_loss': 0.4968293517664807,\n",
       "  'val_accuracy': 0.8569442832186394,\n",
       "  'precision': 0.8587651348407596,\n",
       "  'recall': 0.8569442832186394,\n",
       "  'f1-score': 0.8571237310952664,\n",
       "  'macro_f1-score': 0.8552987688065057,\n",
       "  'balanced_accuracy': 0.8558705696579704,\n",
       "  'mcc': 0.824224904776057,\n",
       "  'train_loss': 0.2989124885622515,\n",
       "  'total_seconds': 11867,\n",
       "  'total_time': '3 hrs 17 mins 47 secs'},\n",
       " 'roberta-base bilstm word2vec': {'val_loss': 0.48346935095520227,\n",
       "  'val_accuracy': 0.8551483995448577,\n",
       "  'precision': 0.8572943918106203,\n",
       "  'recall': 0.8551483995448577,\n",
       "  'f1-score': 0.8551371639015513,\n",
       "  'macro_f1-score': 0.8537989816835279,\n",
       "  'balanced_accuracy': 0.8589439007088824,\n",
       "  'mcc': 0.8223602750682586,\n",
       "  'train_loss': 0.2765513650569633,\n",
       "  'total_seconds': 11579,\n",
       "  'total_time': '3 hrs 12 mins 59 secs'},\n",
       " 'microsoft/deberta-base None word2vec': {'val_loss': 0.7803738304211671,\n",
       "  'val_accuracy': 0.743003629323342,\n",
       "  'precision': 0.7035993545147758,\n",
       "  'recall': 0.743003629323342,\n",
       "  'f1-score': 0.7111465424118497,\n",
       "  'macro_f1-score': 0.6953306104273376,\n",
       "  'balanced_accuracy': 0.7143404376419029,\n",
       "  'mcc': 0.6597388346108513,\n",
       "  'train_loss': 0.5939513962610643,\n",
       "  'total_seconds': 11062,\n",
       "  'total_time': '3 hrs 4 mins 22 secs'},\n",
       " 'microsoft/deberta-base cnn word2vec': {'val_loss': 1.0676171872328617,\n",
       "  'val_accuracy': 0.6281349227436035,\n",
       "  'precision': 0.5468116526943518,\n",
       "  'recall': 0.6281349227436035,\n",
       "  'f1-score': 0.5644669373363039,\n",
       "  'macro_f1-score': 0.5350446804855155,\n",
       "  'balanced_accuracy': 0.566644181375014,\n",
       "  'mcc': 0.4932520674800912,\n",
       "  'train_loss': 0.9878046287674136,\n",
       "  'total_seconds': 9694,\n",
       "  'total_time': '2 hrs 41 mins 34 secs'},\n",
       " 'microsoft/deberta-base lstm word2vec': {'val_loss': 0.8384747832723789,\n",
       "  'val_accuracy': 0.7273318799584076,\n",
       "  'precision': 0.6878812586561499,\n",
       "  'recall': 0.7273318799584076,\n",
       "  'f1-score': 0.695636321684682,\n",
       "  'macro_f1-score': 0.6780770628473549,\n",
       "  'balanced_accuracy': 0.7016688710968763,\n",
       "  'mcc': 0.6405408430746833,\n",
       "  'train_loss': 0.7408404314557107,\n",
       "  'total_seconds': 12413,\n",
       "  'total_time': '3 hrs 26 mins 53 secs'},\n",
       " 'microsoft/deberta-base bilstm word2vec': {'val_loss': 1.1327734975733308,\n",
       "  'val_accuracy': 0.605727983935396,\n",
       "  'precision': 0.5288731061201755,\n",
       "  'recall': 0.605727983935396,\n",
       "  'f1-score': 0.5427871177560121,\n",
       "  'macro_f1-score': 0.5165900256989844,\n",
       "  'balanced_accuracy': 0.5544393999011827,\n",
       "  'mcc': 0.49338459675682256,\n",
       "  'train_loss': 1.1924987504038853,\n",
       "  'total_seconds': 12251,\n",
       "  'total_time': '3 hrs 24 mins 11 secs'}}"
      ]
     },
     "execution_count": 5,
     "metadata": {},
     "output_type": "execute_result"
    }
   ],
   "source": [
    "all_experiment_result"
   ]
  }
 ],
 "metadata": {
  "kernelspec": {
   "display_name": "Python 3",
   "language": "python",
   "name": "python3"
  },
  "language_info": {
   "codemirror_mode": {
    "name": "ipython",
    "version": 3
   },
   "file_extension": ".py",
   "mimetype": "text/x-python",
   "name": "python",
   "nbconvert_exporter": "python",
   "pygments_lexer": "ipython3",
   "version": "3.10.0"
  }
 },
 "nbformat": 4,
 "nbformat_minor": 5
}
