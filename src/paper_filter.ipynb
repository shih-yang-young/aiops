{
 "cells": [
  {
   "cell_type": "code",
   "execution_count": 6,
   "id": "91b164a2-1c34-4dc6-8731-f67f3698ea4f",
   "metadata": {},
   "outputs": [],
   "source": [
    "papers = [\n",
    "    \"2025出產新Paper有關prometheus_Empowering AIOps Leveraging Large Language Models for IT Operations Management Operations Management.pdf\",\n",
    "    \"AIServiceOps帶來商業價值_Transforming service operations with ai a case for business value.pdf\",\n",
    "    \"RAG比較GPT4o很新_Retrieval Augmented Generation-Based Incident Resolution Recommendation System for IT Support.pdf\",\n",
    "    \"Ticket分類比較機器學習方法_IT Ticket Classification The Simpler, the Better.pdf\",\n",
    "    \"一個mindset框架應用在ITSM偏沒料_Improving IT Service Management (ITSM) Capability in Small Application Development Firms Using FitSM A Case Study Integrated with Socio-Technical Systems Theory.pdf\",\n",
    "    \"之前報的第2篇paper，把事件分成緊急跟不緊急_How incidental are the incidents characterizing and prioritizing incidents for large-scale.pdf\",\n",
    "    \"多模態結合Metric跟Description做Ticket分類_Incident-aware Duplicate Ticket Aggregation for Cloud Systems.pdf\",\n",
    "    \"自主決策能力的AI系統_A gentic AI in Predictive AIOps Enhancing IT Autonomy and Performance.pdf\",\n",
    "    \"知識圖譜+K8S_Design and Implement of AIOps System Based on Knowledge Graph.pdf\",\n",
    "    \"特徵整理paper_DRONE_Predicting_Priority_of_Reported_Bugs_by_Multi-factor_Analysis.pdf\",\n",
    "    \"偏舊，機器學習和舊的深度學習比較_Application of machine learning methods for Tickets using Natural Language Processing.pdf\",\n",
    "    \"做資料(ticket)合併_Incident-aware_Duplicate_Ticket_Aggregation_for_Cloud_Systems.pdf\",\n",
    "    \"做資料增強(資料過濾請專家做)_A Case Study of AI performance enhancement in Incident Management processes with low data-quality.pdf\",\n",
    "    \"問卷paper沒啥重點_Impact of AIServiceOps on Organizational Resilience.pdf\",\n",
    "    \"問卷調查好像沒啥結論_Business Value Impact of AI-Powered Service Operations (AIServiceOps).pdf\",\n",
    "    \"設計一個故障圖、有對比學習_FaultProfIT Hierarchical Fault Profiling of Incident Tickets in Large-scale Cloud Systems.pdf\"\n",
    "    \"1_Knowledge-based Intelligent System for IT Incident DevOps.pdf\",\n",
    "    \"2_An empirical analysis of state-of-art classification models in an it incident severity prediction framework.pdf\",\n",
    "    \"3_AI for Information Technology Operation (AIOps) A review of IT Incident Risk Prediction.pdf\",\n",
    "    \"4_Ticket Classification Using Machine.pdf\",\n",
    "    \"5_Revolutionizing IT Operations AI-Driven Service Management for Efficiency and Scalability.pdf\",\n",
    "    \"6_AIOps in Cloud-native DevOps IT Operations Management with Artificial Intelligence.pdf\",\n",
    "    \"7_AIOps in DevOps Leveraging Artificial Intelligence for Operations and Monitoring.pdf\",\n",
    "    \"8_A Case Study of AI performance enhancement in Incident Management processes with low data-quality.pdf\",\n",
    "    \"9_Analysis of Patterns and Similarities in Service Tickets using Natural Language Processing.pdf\",\n",
    "    \"10_DevOps Metrics and KPIs A Multivocal Literature Review.pdf\",\n",
    "    \"11_Multiple Severity-Level Classifications for IT Incident Risk Prediction.pdf\",\n",
    "    \"12_AIOps Solutions for Incident Management Technical Guidelines and A Comprehensive Literature Review.pdf\",\n",
    "    \"13_Predicting IT Incident Duration using Machine Learning A Case Study in IT Service Management.pdf\",\n",
    "    \"14_Recommending Root-Cause and Mitigation Steps for Cloud Incidents using Large Language Models.pdf\",\n",
    "    \"15_A Joint Study of the Challenges, Opportunities, and Roadmap of MLOps and AIOps A Systematic Survey.pdf\"\n",
    "]"
   ]
  },
  {
   "cell_type": "code",
   "execution_count": 8,
   "id": "d1c55db8-26bf-41be-8a01-43533cc3a451",
   "metadata": {},
   "outputs": [],
   "source": [
    "def search_papers_by_keyword(keyword):\n",
    "    matches = [paper for paper in papers if keyword.lower() in paper.lower()]\n",
    "    return matches if matches else None"
   ]
  },
  {
   "cell_type": "code",
   "execution_count": 15,
   "id": "406b83d4-3398-4ad1-b9f9-42ad73991091",
   "metadata": {},
   "outputs": [
    {
     "name": "stdout",
     "output_type": "stream",
     "text": [
      "沒有符合的結果\n"
     ]
    }
   ],
   "source": [
    "result = search_papers_by_keyword(\"Understand\")\n",
    "if result:\n",
    "    for paper in result:\n",
    "        print(paper)\n",
    "else:\n",
    "    print(\"沒有符合的結果\")"
   ]
  }
 ],
 "metadata": {
  "kernelspec": {
   "display_name": "Python 3 (ipykernel)",
   "language": "python",
   "name": "python3"
  },
  "language_info": {
   "codemirror_mode": {
    "name": "ipython",
    "version": 3
   },
   "file_extension": ".py",
   "mimetype": "text/x-python",
   "name": "python",
   "nbconvert_exporter": "python",
   "pygments_lexer": "ipython3",
   "version": "3.11.9"
  }
 },
 "nbformat": 4,
 "nbformat_minor": 5
}
