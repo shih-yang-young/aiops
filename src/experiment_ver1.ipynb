{
 "cells": [
  {
   "cell_type": "code",
   "execution_count": 1,
   "id": "01d3aa2b",
   "metadata": {},
   "outputs": [
    {
     "data": {
      "text/html": [
       "<div>\n",
       "<style scoped>\n",
       "    .dataframe tbody tr th:only-of-type {\n",
       "        vertical-align: middle;\n",
       "    }\n",
       "\n",
       "    .dataframe tbody tr th {\n",
       "        vertical-align: top;\n",
       "    }\n",
       "\n",
       "    .dataframe thead th {\n",
       "        text-align: right;\n",
       "    }\n",
       "</style>\n",
       "<table border=\"1\" class=\"dataframe\">\n",
       "  <thead>\n",
       "    <tr style=\"text-align: right;\">\n",
       "      <th></th>\n",
       "      <th>Short description</th>\n",
       "      <th>Description</th>\n",
       "      <th>Caller</th>\n",
       "      <th>Assignment group</th>\n",
       "    </tr>\n",
       "  </thead>\n",
       "  <tbody>\n",
       "    <tr>\n",
       "      <th>0</th>\n",
       "      <td>login issue</td>\n",
       "      <td>-verified user details.(employee# &amp; manager na...</td>\n",
       "      <td>spxjnwir pjlcoqds</td>\n",
       "      <td>GRP_0</td>\n",
       "    </tr>\n",
       "    <tr>\n",
       "      <th>1</th>\n",
       "      <td>outlook</td>\n",
       "      <td>_x000D_\\n_x000D_\\nreceived from: hmjdrvpb.komu...</td>\n",
       "      <td>hmjdrvpb komuaywn</td>\n",
       "      <td>GRP_0</td>\n",
       "    </tr>\n",
       "    <tr>\n",
       "      <th>2</th>\n",
       "      <td>cant log in to vpn</td>\n",
       "      <td>_x000D_\\n_x000D_\\nreceived from: eylqgodm.ybqk...</td>\n",
       "      <td>eylqgodm ybqkwiam</td>\n",
       "      <td>GRP_0</td>\n",
       "    </tr>\n",
       "    <tr>\n",
       "      <th>3</th>\n",
       "      <td>unable to access hr_tool page</td>\n",
       "      <td>unable to access hr_tool page</td>\n",
       "      <td>xbkucsvz gcpydteq</td>\n",
       "      <td>GRP_0</td>\n",
       "    </tr>\n",
       "    <tr>\n",
       "      <th>4</th>\n",
       "      <td>skype error</td>\n",
       "      <td>skype error</td>\n",
       "      <td>owlgqjme qhcozdfx</td>\n",
       "      <td>GRP_0</td>\n",
       "    </tr>\n",
       "    <tr>\n",
       "      <th>...</th>\n",
       "      <td>...</td>\n",
       "      <td>...</td>\n",
       "      <td>...</td>\n",
       "      <td>...</td>\n",
       "    </tr>\n",
       "    <tr>\n",
       "      <th>8495</th>\n",
       "      <td>emails not coming in from zz mail</td>\n",
       "      <td>_x000D_\\n_x000D_\\nreceived from: avglmrts.vhqm...</td>\n",
       "      <td>avglmrts vhqmtiua</td>\n",
       "      <td>GRP_29</td>\n",
       "    </tr>\n",
       "    <tr>\n",
       "      <th>8496</th>\n",
       "      <td>telephony_software issue</td>\n",
       "      <td>telephony_software issue</td>\n",
       "      <td>rbozivdq gmlhrtvp</td>\n",
       "      <td>GRP_0</td>\n",
       "    </tr>\n",
       "    <tr>\n",
       "      <th>8497</th>\n",
       "      <td>vip2: windows password reset for tifpdchb pedx...</td>\n",
       "      <td>vip2: windows password reset for tifpdchb pedx...</td>\n",
       "      <td>oybwdsgx oxyhwrfz</td>\n",
       "      <td>GRP_0</td>\n",
       "    </tr>\n",
       "    <tr>\n",
       "      <th>8498</th>\n",
       "      <td>machine nÃ£o estÃ¡ funcionando</td>\n",
       "      <td>i am unable to access the machine utilities to...</td>\n",
       "      <td>ufawcgob aowhxjky</td>\n",
       "      <td>GRP_62</td>\n",
       "    </tr>\n",
       "    <tr>\n",
       "      <th>8499</th>\n",
       "      <td>an mehreren pc`s lassen sich verschiedene prgr...</td>\n",
       "      <td>an mehreren pc`s lassen sich verschiedene prgr...</td>\n",
       "      <td>kqvbrspl jyzoklfx</td>\n",
       "      <td>GRP_49</td>\n",
       "    </tr>\n",
       "  </tbody>\n",
       "</table>\n",
       "<p>8500 rows × 4 columns</p>\n",
       "</div>"
      ],
      "text/plain": [
       "                                      Short description  \\\n",
       "0                                           login issue   \n",
       "1                                               outlook   \n",
       "2                                    cant log in to vpn   \n",
       "3                         unable to access hr_tool page   \n",
       "4                                          skype error    \n",
       "...                                                 ...   \n",
       "8495                  emails not coming in from zz mail   \n",
       "8496                           telephony_software issue   \n",
       "8497  vip2: windows password reset for tifpdchb pedx...   \n",
       "8498                     machine nÃ£o estÃ¡ funcionando   \n",
       "8499  an mehreren pc`s lassen sich verschiedene prgr...   \n",
       "\n",
       "                                            Description             Caller  \\\n",
       "0     -verified user details.(employee# & manager na...  spxjnwir pjlcoqds   \n",
       "1     _x000D_\\n_x000D_\\nreceived from: hmjdrvpb.komu...  hmjdrvpb komuaywn   \n",
       "2     _x000D_\\n_x000D_\\nreceived from: eylqgodm.ybqk...  eylqgodm ybqkwiam   \n",
       "3                         unable to access hr_tool page  xbkucsvz gcpydteq   \n",
       "4                                          skype error   owlgqjme qhcozdfx   \n",
       "...                                                 ...                ...   \n",
       "8495  _x000D_\\n_x000D_\\nreceived from: avglmrts.vhqm...  avglmrts vhqmtiua   \n",
       "8496                           telephony_software issue  rbozivdq gmlhrtvp   \n",
       "8497  vip2: windows password reset for tifpdchb pedx...  oybwdsgx oxyhwrfz   \n",
       "8498  i am unable to access the machine utilities to...  ufawcgob aowhxjky   \n",
       "8499  an mehreren pc`s lassen sich verschiedene prgr...  kqvbrspl jyzoklfx   \n",
       "\n",
       "     Assignment group  \n",
       "0               GRP_0  \n",
       "1               GRP_0  \n",
       "2               GRP_0  \n",
       "3               GRP_0  \n",
       "4               GRP_0  \n",
       "...               ...  \n",
       "8495           GRP_29  \n",
       "8496            GRP_0  \n",
       "8497            GRP_0  \n",
       "8498           GRP_62  \n",
       "8499           GRP_49  \n",
       "\n",
       "[8500 rows x 4 columns]"
      ]
     },
     "execution_count": 1,
     "metadata": {},
     "output_type": "execute_result"
    }
   ],
   "source": [
    "import pandas as pd\n",
    "open_source_8500 = pd.read_excel(\"../data/open_source_8500.xlsx\") ## 舊名 IT-Ticket-Classification.xlsx\n",
    "open_source_8500"
   ]
  },
  {
   "cell_type": "code",
   "execution_count": 6,
   "id": "c1c06bf0-8fc3-47cf-94bc-c6d5097288e4",
   "metadata": {},
   "outputs": [],
   "source": [
    "import torch\n",
    "import numpy as np\n",
    "\n",
    "device=torch.device('cuda:0')\n",
    "torch.cuda.get_device_name(0)\n",
    "\n",
    "seed=123\n",
    "torch.manual_seed(seed)\n",
    "np.random.seed(seed)"
   ]
  },
  {
   "cell_type": "markdown",
   "id": "a231cd22-dd50-4753-9e00-9e3b0a9127c0",
   "metadata": {},
   "source": [
    "# Paper步驟"
   ]
  },
  {
   "cell_type": "code",
   "execution_count": 7,
   "id": "9e824e54-715f-4599-9350-b2ce7de27540",
   "metadata": {},
   "outputs": [
    {
     "name": "stdout",
     "output_type": "stream",
     "text": [
      "<class 'pandas.core.frame.DataFrame'>\n",
      "RangeIndex: 8500 entries, 0 to 8499\n",
      "Data columns (total 2 columns):\n",
      " #   Column            Non-Null Count  Dtype \n",
      "---  ------            --------------  ----- \n",
      " 0   Description       8499 non-null   object\n",
      " 1   Assignment group  8500 non-null   object\n",
      "dtypes: object(2)\n",
      "memory usage: 132.9+ KB\n"
     ]
    }
   ],
   "source": [
    "callers = open_source_8500['Caller'].unique() \n",
    "callers.shape\n",
    "open_source_8500.drop([\"Caller\",'Short description'],axis=1,inplace= True)\n",
    "open_source_8500.info()"
   ]
  },
  {
   "cell_type": "code",
   "execution_count": 8,
   "id": "c4498918-9bbd-4d0c-99d3-75c3710fc69b",
   "metadata": {},
   "outputs": [
    {
     "data": {
      "text/plain": [
       "count      74.000000\n",
       "mean      114.864865\n",
       "std       465.747516\n",
       "min         1.000000\n",
       "25%         5.250000\n",
       "50%        26.000000\n",
       "75%        84.000000\n",
       "max      3976.000000\n",
       "Name: count, dtype: float64"
      ]
     },
     "execution_count": 8,
     "metadata": {},
     "output_type": "execute_result"
    }
   ],
   "source": [
    "targetClassCnt=open_source_8500['Assignment group'].value_counts()\n",
    "targetClassCnt.describe()"
   ]
  },
  {
   "cell_type": "code",
   "execution_count": 9,
   "id": "e41e3a75-729e-491a-9f49-13d825a629f3",
   "metadata": {},
   "outputs": [
    {
     "name": "stdout",
     "output_type": "stream",
     "text": [
      "Found 25 groups which have under 10 samples\n"
     ]
    },
    {
     "data": {
      "text/plain": [
       "array(['GRP_0', 'GRP_1', 'GRP_3', 'GRP_4', 'GRP_5', 'GRP_6', 'GRP_7',\n",
       "       'GRP_8', 'GRP_9', 'GRP_10', 'GRP_11', 'GRP_12', 'GRP_13', 'GRP_14',\n",
       "       'GRP_15', 'GRP_16', 'GRP_17', 'GRP_18', 'GRP_19', 'GRP_2',\n",
       "       'GRP_20', 'GRP_21', 'GRP_22', 'GRP_23', 'GRP_24', 'GRP_25',\n",
       "       'GRP_26', 'GRP_27', 'GRP_28', 'GRP_29', 'GRP_30', 'GRP_31',\n",
       "       'GRP_33', 'GRP_34', 'misc_grp', 'GRP_36', 'GRP_37', 'GRP_39',\n",
       "       'GRP_40', 'GRP_41', 'GRP_42', 'GRP_44', 'GRP_45', 'GRP_47',\n",
       "       'GRP_48', 'GRP_50', 'GRP_53', 'GRP_60', 'GRP_62', 'GRP_65'],\n",
       "      dtype=object)"
      ]
     },
     "execution_count": 9,
     "metadata": {},
     "output_type": "execute_result"
    }
   ],
   "source": [
    "## 將樣本數少於10的組別歸類為一個新的組別 misc_grp\n",
    "\n",
    "sample = open_source_8500.groupby(['Assignment group'])\n",
    "regroup = []\n",
    "\n",
    "for grp in open_source_8500['Assignment group'].unique():\n",
    "    if sample.get_group((grp,)).shape[0] < 10:  # 改為元組形式 (grp,)\n",
    "        regroup.append(grp)\n",
    "\n",
    "print('Found {} groups which have under 10 samples'.format(len(regroup)))\n",
    "open_source_8500['Assignment group'] = open_source_8500['Assignment group'].apply(\n",
    "    lambda x: 'misc_grp' if x in regroup else x\n",
    ")\n",
    "\n",
    "# Unique Groups check \n",
    "open_source_8500['Assignment group'].unique()"
   ]
  },
  {
   "cell_type": "code",
   "execution_count": 10,
   "id": "8b0877a1-b3da-4998-afad-30c2082ce787",
   "metadata": {},
   "outputs": [
    {
     "data": {
      "image/png": "[encoded data removed]",
      "text/plain": [
       "<Figure size 2200x500 with 1 Axes>"
      ]
     },
     "metadata": {},
     "output_type": "display_data"
    }
   ],
   "source": [
    "##Pre-Processing label Encoding on  Assignment Group\n",
    "import seaborn as sns\n",
    "import matplotlib.pyplot as plt\n",
    "\n",
    "plt.style.use('ggplot')\n",
    "%matplotlib inline\n",
    "\n",
    "descending_order = open_source_8500['Assignment group'].value_counts().sort_values(ascending=False).index\n",
    "\n",
    "plt.subplots(figsize=(22, 5))\n",
    "ax = sns.countplot(x='Assignment group', data=open_source_8500, color='royalblue', order=descending_order)\n",
    "ax.tick_params(axis='x', rotation=45)  # 設置旋轉\n",
    "\n",
    "plt.tight_layout()\n",
    "plt.show()"
   ]
  },
  {
   "cell_type": "code",
   "execution_count": 11,
   "id": "ff507108-2d93-4692-b00e-16d04d47c459",
   "metadata": {},
   "outputs": [],
   "source": [
    "#Fill 'Decsription' field entries that have null with blank space\n",
    "open_source_8500['Description'] = open_source_8500['Description'].fillna(' ')"
   ]
  },
  {
   "cell_type": "code",
   "execution_count": 12,
   "id": "8d7b0eaf-0be7-41ed-9d17-2d273e48703e",
   "metadata": {},
   "outputs": [
    {
     "data": {
      "text/html": [
       "<div>\n",
       "<style scoped>\n",
       "    .dataframe tbody tr th:only-of-type {\n",
       "        vertical-align: middle;\n",
       "    }\n",
       "\n",
       "    .dataframe tbody tr th {\n",
       "        vertical-align: top;\n",
       "    }\n",
       "\n",
       "    .dataframe thead th {\n",
       "        text-align: right;\n",
       "    }\n",
       "</style>\n",
       "<table border=\"1\" class=\"dataframe\">\n",
       "  <thead>\n",
       "    <tr style=\"text-align: right;\">\n",
       "      <th></th>\n",
       "      <th>Description</th>\n",
       "      <th>Assignment group</th>\n",
       "    </tr>\n",
       "  </thead>\n",
       "  <tbody>\n",
       "    <tr>\n",
       "      <th>0</th>\n",
       "      <td>-verified user details.(employee# &amp; manager na...</td>\n",
       "      <td>GRP_0</td>\n",
       "    </tr>\n",
       "    <tr>\n",
       "      <th>1</th>\n",
       "      <td>_x000D_\\n_x000D_\\nreceived from: hmjdrvpb.komu...</td>\n",
       "      <td>GRP_0</td>\n",
       "    </tr>\n",
       "    <tr>\n",
       "      <th>2</th>\n",
       "      <td>_x000D_\\n_x000D_\\nreceived from: eylqgodm.ybqk...</td>\n",
       "      <td>GRP_0</td>\n",
       "    </tr>\n",
       "    <tr>\n",
       "      <th>3</th>\n",
       "      <td>unable to access hr_tool page</td>\n",
       "      <td>GRP_0</td>\n",
       "    </tr>\n",
       "    <tr>\n",
       "      <th>4</th>\n",
       "      <td>skype error</td>\n",
       "      <td>GRP_0</td>\n",
       "    </tr>\n",
       "    <tr>\n",
       "      <th>...</th>\n",
       "      <td>...</td>\n",
       "      <td>...</td>\n",
       "    </tr>\n",
       "    <tr>\n",
       "      <th>8495</th>\n",
       "      <td>_x000D_\\n_x000D_\\nreceived from: avglmrts.vhqm...</td>\n",
       "      <td>GRP_29</td>\n",
       "    </tr>\n",
       "    <tr>\n",
       "      <th>8496</th>\n",
       "      <td>telephony_software issue</td>\n",
       "      <td>GRP_0</td>\n",
       "    </tr>\n",
       "    <tr>\n",
       "      <th>8497</th>\n",
       "      <td>vip2: windows password reset for tifpdchb pedx...</td>\n",
       "      <td>GRP_0</td>\n",
       "    </tr>\n",
       "    <tr>\n",
       "      <th>8498</th>\n",
       "      <td>i am unable to access the machine utilities to...</td>\n",
       "      <td>GRP_62</td>\n",
       "    </tr>\n",
       "    <tr>\n",
       "      <th>8499</th>\n",
       "      <td>an mehreren pc`s lassen sich verschiedene prgr...</td>\n",
       "      <td>misc_grp</td>\n",
       "    </tr>\n",
       "  </tbody>\n",
       "</table>\n",
       "<p>8500 rows × 2 columns</p>\n",
       "</div>"
      ],
      "text/plain": [
       "                                            Description Assignment group\n",
       "0     -verified user details.(employee# & manager na...            GRP_0\n",
       "1     _x000D_\\n_x000D_\\nreceived from: hmjdrvpb.komu...            GRP_0\n",
       "2     _x000D_\\n_x000D_\\nreceived from: eylqgodm.ybqk...            GRP_0\n",
       "3                         unable to access hr_tool page            GRP_0\n",
       "4                                          skype error             GRP_0\n",
       "...                                                 ...              ...\n",
       "8495  _x000D_\\n_x000D_\\nreceived from: avglmrts.vhqm...           GRP_29\n",
       "8496                           telephony_software issue            GRP_0\n",
       "8497  vip2: windows password reset for tifpdchb pedx...            GRP_0\n",
       "8498  i am unable to access the machine utilities to...           GRP_62\n",
       "8499  an mehreren pc`s lassen sich verschiedene prgr...         misc_grp\n",
       "\n",
       "[8500 rows x 2 columns]"
      ]
     },
     "execution_count": 12,
     "metadata": {},
     "output_type": "execute_result"
    }
   ],
   "source": [
    "open_source_8500"
   ]
  },
  {
   "cell_type": "code",
   "execution_count": null,
   "id": "65d6c415-3e37-4870-938b-6642d6750c28",
   "metadata": {},
   "outputs": [],
   "source": []
  },
  {
   "cell_type": "markdown",
   "id": "3e440099-85a5-45e8-a2dd-47675bf9a8dc",
   "metadata": {},
   "source": [
    "# paper Description處理"
   ]
  },
  {
   "cell_type": "code",
   "execution_count": 13,
   "id": "fb89c1ab-21f8-4ad9-9c76-9a2e47d6f5e2",
   "metadata": {},
   "outputs": [
    {
     "data": {
      "text/html": [
       "<div>\n",
       "<style scoped>\n",
       "    .dataframe tbody tr th:only-of-type {\n",
       "        vertical-align: middle;\n",
       "    }\n",
       "\n",
       "    .dataframe tbody tr th {\n",
       "        vertical-align: top;\n",
       "    }\n",
       "\n",
       "    .dataframe thead th {\n",
       "        text-align: right;\n",
       "    }\n",
       "</style>\n",
       "<table border=\"1\" class=\"dataframe\">\n",
       "  <thead>\n",
       "    <tr style=\"text-align: right;\">\n",
       "      <th></th>\n",
       "      <th>Description</th>\n",
       "      <th>Assignment group</th>\n",
       "    </tr>\n",
       "  </thead>\n",
       "  <tbody>\n",
       "    <tr>\n",
       "      <th>0</th>\n",
       "      <td>verified user details employee and manager nam...</td>\n",
       "      <td>GRP_0</td>\n",
       "    </tr>\n",
       "    <tr>\n",
       "      <th>1</th>\n",
       "      <td>xd xd xd hello team xd xd my meetings skype me...</td>\n",
       "      <td>GRP_0</td>\n",
       "    </tr>\n",
       "    <tr>\n",
       "      <th>2</th>\n",
       "      <td>xd xd xd hi xd xd cannot log on to vpn xd xd best</td>\n",
       "      <td>GRP_0</td>\n",
       "    </tr>\n",
       "    <tr>\n",
       "      <th>3</th>\n",
       "      <td>unable to access hr tool page</td>\n",
       "      <td>GRP_0</td>\n",
       "    </tr>\n",
       "    <tr>\n",
       "      <th>4</th>\n",
       "      <td>skype error</td>\n",
       "      <td>GRP_0</td>\n",
       "    </tr>\n",
       "    <tr>\n",
       "      <th>...</th>\n",
       "      <td>...</td>\n",
       "      <td>...</td>\n",
       "    </tr>\n",
       "    <tr>\n",
       "      <th>8495</th>\n",
       "      <td>xd xd xd good afternoon xd am not receiving th...</td>\n",
       "      <td>GRP_29</td>\n",
       "    </tr>\n",
       "    <tr>\n",
       "      <th>8496</th>\n",
       "      <td>telephony software issue</td>\n",
       "      <td>GRP_0</td>\n",
       "    </tr>\n",
       "    <tr>\n",
       "      <th>8497</th>\n",
       "      <td>vip windows password reset for tifpdchb pedxruyf</td>\n",
       "      <td>GRP_0</td>\n",
       "    </tr>\n",
       "    <tr>\n",
       "      <th>8498</th>\n",
       "      <td>i am unable to access the machine utilities to...</td>\n",
       "      <td>GRP_62</td>\n",
       "    </tr>\n",
       "    <tr>\n",
       "      <th>8499</th>\n",
       "      <td>an mehreren pc lassen sich verschiedene prgram...</td>\n",
       "      <td>misc_grp</td>\n",
       "    </tr>\n",
       "  </tbody>\n",
       "</table>\n",
       "<p>8500 rows × 2 columns</p>\n",
       "</div>"
      ],
      "text/plain": [
       "                                            Description Assignment group\n",
       "0     verified user details employee and manager nam...            GRP_0\n",
       "1     xd xd xd hello team xd xd my meetings skype me...            GRP_0\n",
       "2     xd xd xd hi xd xd cannot log on to vpn xd xd best            GRP_0\n",
       "3                         unable to access hr tool page            GRP_0\n",
       "4                                           skype error            GRP_0\n",
       "...                                                 ...              ...\n",
       "8495  xd xd xd good afternoon xd am not receiving th...           GRP_29\n",
       "8496                           telephony software issue            GRP_0\n",
       "8497   vip windows password reset for tifpdchb pedxruyf            GRP_0\n",
       "8498  i am unable to access the machine utilities to...           GRP_62\n",
       "8499  an mehreren pc lassen sich verschiedene prgram...         misc_grp\n",
       "\n",
       "[8500 rows x 2 columns]"
      ]
     },
     "execution_count": 13,
     "metadata": {},
     "output_type": "execute_result"
    }
   ],
   "source": [
    "import re \n",
    "from dateutil import parser\n",
    "def is_valid_date(date_str):\n",
    "    try:\n",
    "        parser.parse(date_str)\n",
    "        return True\n",
    "    except:\n",
    "        return False\n",
    "\n",
    "def clean_data(text):\n",
    "    text=text.lower()\n",
    "    text = ' '.join([w for w in text.split() if not is_valid_date(w)])\n",
    "    text = re.sub(r\"received from:\",' ',text)\n",
    "    text = re.sub(r\"from:\",' ',text)\n",
    "    text = re.sub(r\"to:\",' ',text)\n",
    "    text = re.sub(r\"subject:\",' ',text)\n",
    "    text = re.sub(r\"sent:\",' ',text)\n",
    "    text = re.sub(r\"ic:\",' ',text)\n",
    "    text = re.sub(r\"cc:\",' ',text)\n",
    "    text = re.sub(r\"bcc:\",' ',text)\n",
    "    #Remove email \n",
    "    text = re.sub(r'\\S*@\\S*\\s?', '', text)\n",
    "    # Remove numbers \n",
    "    text = re.sub(r'\\d+','' ,text)\n",
    "    # Remove Non Dictionary character-TODO\n",
    "    # Remove new line characters \n",
    "    text = re.sub(r'\\n',' ',text)\n",
    "    # Remove hashtag while keeping hashtag text\n",
    "    text = re.sub(r'#','', text)\n",
    "    #& \n",
    "    text = re.sub(r'&;?', 'and',text)\n",
    "    # Remove HTML special entities (e.g. &amp;)\n",
    "    text = re.sub(r'\\&\\w*;', '', text)\n",
    "    # Remove hyperlinks\n",
    "    text = re.sub(r'https?:\\/\\/.*\\/\\w*', '', text)  \n",
    "    # Remove characters beyond Readable formart by Unicode:\n",
    "    text= ''.join(c for c in text if c <= '\\uFFFF') \n",
    "    text = text.strip()\n",
    "    # Remove unreadable characters  (also extra spaces)\n",
    "    text = ' '.join(re.sub(\"[^\\u0030-\\u0039\\u0041-\\u005a\\u0061-\\u007a]\", \" \", text).split())\n",
    "    for name in callers:\n",
    "      namelist = [part for part in name.split()]\n",
    "      for namepart in namelist: \n",
    "          text = text.replace(namepart,'')\n",
    "          \n",
    "    text = re.sub(r\"\\s+[a-zA-Z]\\s+\", ' ', text)\n",
    "    text = re.sub(' +', ' ', text)\n",
    "    text = text.strip()\n",
    "    return text\n",
    "  \n",
    "open_source_8500['Description'] = open_source_8500['Description'].apply(clean_data)\n",
    "open_source_8500"
   ]
  },
  {
   "cell_type": "code",
   "execution_count": 14,
   "id": "c9311609",
   "metadata": {},
   "outputs": [],
   "source": [
    "import nltk\n",
    "from nltk.tokenize import RegexpTokenizer\n",
    "from nltk.stem import WordNetLemmatizer,PorterStemmer\n",
    "from nltk.corpus import stopwords\n",
    "import re\n",
    "lemmatizer = WordNetLemmatizer()\n",
    "stemmer = PorterStemmer() \n",
    "def preprocess(sentence):\n",
    "    sentence=str(sentence)\n",
    "    sentence = sentence.lower()\n",
    "    sentence=sentence.replace('{html}',\"\") \n",
    "    cleanr = re.compile('<.*?>')\n",
    "    cleantext = re.sub(cleanr, '', sentence)\n",
    "    rem_url=re.sub(r'http\\S+', '',cleantext)\n",
    "    rem_num = re.sub('[0-9]+', '', rem_url)\n",
    "    tokenizer = RegexpTokenizer(r'\\w+')\n",
    "    tokens = tokenizer.tokenize(rem_num)  \n",
    "    filtered_words = [w for w in tokens if len(w) > 2 if not w in stopwords.words('english')]\n",
    "    stem_words=[stemmer.stem(w) for w in filtered_words]\n",
    "    lemma_words=[lemmatizer.lemmatize(w) for w in stem_words]\n",
    "    return \" \".join(filtered_words)"
   ]
  },
  {
   "cell_type": "code",
   "execution_count": 15,
   "id": "b61c058c",
   "metadata": {},
   "outputs": [
    {
     "data": {
      "text/plain": [
       "0       verified user details employee manager name ch...\n",
       "1       hello team meetings skype meetings etc appeari...\n",
       "2                                     cannot log vpn best\n",
       "3                                 unable access tool page\n",
       "4                                             skype error\n",
       "                              ...                        \n",
       "8495    good afternoon receiving emails sent mail plea...\n",
       "8496                             telephony software issue\n",
       "8497         vip windows password reset tifpdchb pedxruyf\n",
       "8498    unable access machine utilities finish drawers...\n",
       "8499    mehreren lassen sich verschiedene prgramdntyme...\n",
       "Name: cleanText, Length: 8500, dtype: object"
      ]
     },
     "execution_count": 15,
     "metadata": {},
     "output_type": "execute_result"
    }
   ],
   "source": [
    "open_source_8500.reset_index(drop=True,inplace=True)\n",
    "\n",
    "open_source_8500['cleanText']=open_source_8500['Description'].map(lambda s:preprocess(s))\n",
    "\n",
    "open_source_8500['cleanText']"
   ]
  },
  {
   "cell_type": "code",
   "execution_count": 16,
   "id": "6e9716fa-ee25-47a4-a575-ba22c42e9d86",
   "metadata": {},
   "outputs": [],
   "source": [
    "from sklearn import preprocessing\n",
    "def labelencoder(dataframe) : \n",
    "  label_encoder = preprocessing.LabelEncoder() \n",
    "  dataframe= label_encoder.fit_transform(dataframe)\n",
    "  grp_mapping = dict(zip(label_encoder.transform(label_encoder.classes_), label_encoder.classes_))\n",
    "  return dataframe,grp_mapping\n",
    "\n",
    "#itTicketGRP0DF['Assignment group'] , grp_mapping_grp0= labelencoder(itTicketGRP0DF['Assignment group'])\n",
    "#itTicketOthersDF_resampled['Assignment group'] , grp_mapping_others_resampled= labelencoder(itTicketOthersDF_resampled['Assignment group'])\n",
    "#otherGrpsResampled['Assignment group'] , grp_mapping_others_resampled= labelencoder(otherGrpsResampled['Assignment group'])\n",
    "#itTicketDF_resampled['Assignment group'] , grp_mapping_all_resampled= labelencoder(itTicketDF_resampled['Assignment group'])\n",
    "open_source_8500['Assignment_group_label'],grp_mapping_all_raw = labelencoder(open_source_8500['Assignment group'])"
   ]
  },
  {
   "cell_type": "code",
   "execution_count": 17,
   "id": "d0166b03-4f1e-49f4-814d-82e8fa0ab470",
   "metadata": {},
   "outputs": [
    {
     "data": {
      "text/html": [
       "<div>\n",
       "<style scoped>\n",
       "    .dataframe tbody tr th:only-of-type {\n",
       "        vertical-align: middle;\n",
       "    }\n",
       "\n",
       "    .dataframe tbody tr th {\n",
       "        vertical-align: top;\n",
       "    }\n",
       "\n",
       "    .dataframe thead th {\n",
       "        text-align: right;\n",
       "    }\n",
       "</style>\n",
       "<table border=\"1\" class=\"dataframe\">\n",
       "  <thead>\n",
       "    <tr style=\"text-align: right;\">\n",
       "      <th></th>\n",
       "      <th>Description</th>\n",
       "      <th>Assignment group</th>\n",
       "      <th>cleanText</th>\n",
       "      <th>Assignment_group_label</th>\n",
       "    </tr>\n",
       "  </thead>\n",
       "  <tbody>\n",
       "    <tr>\n",
       "      <th>0</th>\n",
       "      <td>verified user details employee and manager nam...</td>\n",
       "      <td>GRP_0</td>\n",
       "      <td>verified user details employee manager name ch...</td>\n",
       "      <td>0</td>\n",
       "    </tr>\n",
       "    <tr>\n",
       "      <th>1</th>\n",
       "      <td>xd xd xd hello team xd xd my meetings skype me...</td>\n",
       "      <td>GRP_0</td>\n",
       "      <td>hello team meetings skype meetings etc appeari...</td>\n",
       "      <td>0</td>\n",
       "    </tr>\n",
       "    <tr>\n",
       "      <th>2</th>\n",
       "      <td>xd xd xd hi xd xd cannot log on to vpn xd xd best</td>\n",
       "      <td>GRP_0</td>\n",
       "      <td>cannot log vpn best</td>\n",
       "      <td>0</td>\n",
       "    </tr>\n",
       "    <tr>\n",
       "      <th>3</th>\n",
       "      <td>unable to access hr tool page</td>\n",
       "      <td>GRP_0</td>\n",
       "      <td>unable access tool page</td>\n",
       "      <td>0</td>\n",
       "    </tr>\n",
       "    <tr>\n",
       "      <th>4</th>\n",
       "      <td>skype error</td>\n",
       "      <td>GRP_0</td>\n",
       "      <td>skype error</td>\n",
       "      <td>0</td>\n",
       "    </tr>\n",
       "    <tr>\n",
       "      <th>...</th>\n",
       "      <td>...</td>\n",
       "      <td>...</td>\n",
       "      <td>...</td>\n",
       "      <td>...</td>\n",
       "    </tr>\n",
       "    <tr>\n",
       "      <th>8495</th>\n",
       "      <td>xd xd xd good afternoon xd am not receiving th...</td>\n",
       "      <td>GRP_29</td>\n",
       "      <td>good afternoon receiving emails sent mail plea...</td>\n",
       "      <td>22</td>\n",
       "    </tr>\n",
       "    <tr>\n",
       "      <th>8496</th>\n",
       "      <td>telephony software issue</td>\n",
       "      <td>GRP_0</td>\n",
       "      <td>telephony software issue</td>\n",
       "      <td>0</td>\n",
       "    </tr>\n",
       "    <tr>\n",
       "      <th>8497</th>\n",
       "      <td>vip windows password reset for tifpdchb pedxruyf</td>\n",
       "      <td>GRP_0</td>\n",
       "      <td>vip windows password reset tifpdchb pedxruyf</td>\n",
       "      <td>0</td>\n",
       "    </tr>\n",
       "    <tr>\n",
       "      <th>8498</th>\n",
       "      <td>i am unable to access the machine utilities to...</td>\n",
       "      <td>GRP_62</td>\n",
       "      <td>unable access machine utilities finish drawers...</td>\n",
       "      <td>44</td>\n",
       "    </tr>\n",
       "    <tr>\n",
       "      <th>8499</th>\n",
       "      <td>an mehreren pc lassen sich verschiedene prgram...</td>\n",
       "      <td>misc_grp</td>\n",
       "      <td>mehreren lassen sich verschiedene prgramdntyme...</td>\n",
       "      <td>49</td>\n",
       "    </tr>\n",
       "  </tbody>\n",
       "</table>\n",
       "<p>8500 rows × 4 columns</p>\n",
       "</div>"
      ],
      "text/plain": [
       "                                            Description Assignment group  \\\n",
       "0     verified user details employee and manager nam...            GRP_0   \n",
       "1     xd xd xd hello team xd xd my meetings skype me...            GRP_0   \n",
       "2     xd xd xd hi xd xd cannot log on to vpn xd xd best            GRP_0   \n",
       "3                         unable to access hr tool page            GRP_0   \n",
       "4                                           skype error            GRP_0   \n",
       "...                                                 ...              ...   \n",
       "8495  xd xd xd good afternoon xd am not receiving th...           GRP_29   \n",
       "8496                           telephony software issue            GRP_0   \n",
       "8497   vip windows password reset for tifpdchb pedxruyf            GRP_0   \n",
       "8498  i am unable to access the machine utilities to...           GRP_62   \n",
       "8499  an mehreren pc lassen sich verschiedene prgram...         misc_grp   \n",
       "\n",
       "                                              cleanText  \\\n",
       "0     verified user details employee manager name ch...   \n",
       "1     hello team meetings skype meetings etc appeari...   \n",
       "2                                   cannot log vpn best   \n",
       "3                               unable access tool page   \n",
       "4                                           skype error   \n",
       "...                                                 ...   \n",
       "8495  good afternoon receiving emails sent mail plea...   \n",
       "8496                           telephony software issue   \n",
       "8497       vip windows password reset tifpdchb pedxruyf   \n",
       "8498  unable access machine utilities finish drawers...   \n",
       "8499  mehreren lassen sich verschiedene prgramdntyme...   \n",
       "\n",
       "      Assignment_group_label  \n",
       "0                          0  \n",
       "1                          0  \n",
       "2                          0  \n",
       "3                          0  \n",
       "4                          0  \n",
       "...                      ...  \n",
       "8495                      22  \n",
       "8496                       0  \n",
       "8497                       0  \n",
       "8498                      44  \n",
       "8499                      49  \n",
       "\n",
       "[8500 rows x 4 columns]"
      ]
     },
     "execution_count": 17,
     "metadata": {},
     "output_type": "execute_result"
    }
   ],
   "source": [
    "open_source_8500"
   ]
  },
  {
   "cell_type": "markdown",
   "id": "9b5a2ba6-8200-4079-a18f-df3f0a3de434",
   "metadata": {},
   "source": [
    "## Resample"
   ]
  },
  {
   "cell_type": "code",
   "execution_count": 20,
   "id": "06e149de-73ab-4c03-8a1b-4088ebdf04a1",
   "metadata": {},
   "outputs": [
    {
     "data": {
      "text/plain": [
       "<Axes: xlabel='Assignment group', ylabel='count'>"
      ]
     },
     "execution_count": 20,
     "metadata": {},
     "output_type": "execute_result"
    },
    {
     "data": {
      "image/png": "[encoded data removed]",
      "text/plain": [
       "<Figure size 500x500 with 1 Axes>"
      ]
     },
     "metadata": {},
     "output_type": "display_data"
    }
   ],
   "source": [
    "import seaborn as sns\n",
    "itTicketGRP0DF = open_source_8500.copy()\n",
    "itTicketGRP0DF['Assignment group']=itTicketGRP0DF['Assignment group'].apply(lambda x : 'other' if x != 'GRP_0'  else x)\n",
    "\n",
    "descending_order = itTicketGRP0DF['Assignment group'].value_counts().sort_values(ascending=False).index\n",
    "plt.subplots(figsize=(5,5))\n",
    "sns.countplot(x='Assignment group', data=itTicketGRP0DF, color='royalblue',order=descending_order)"
   ]
  },
  {
   "cell_type": "code",
   "execution_count": 21,
   "id": "8658d2b7-09c8-4b72-852d-a53b5e09cfce",
   "metadata": {},
   "outputs": [
    {
     "data": {
      "image/png": "[encoded data removed]",
      "text/plain": [
       "<Figure size 2200x500 with 1 Axes>"
      ]
     },
     "metadata": {},
     "output_type": "display_data"
    }
   ],
   "source": [
    "import seaborn as sns\n",
    "import matplotlib.pyplot as plt\n",
    "\n",
    "# 過濾掉 'GRP_0' 組別\n",
    "itTicketOthersDF = open_source_8500[open_source_8500['Assignment group'] != 'GRP_0']\n",
    "\n",
    "# 獲取按頻率排序的 Assignment group\n",
    "descending_order = itTicketOthersDF['Assignment group'].value_counts().sort_values(ascending=False).index\n",
    "\n",
    "plt.subplots(figsize=(22, 5))\n",
    "ax = sns.countplot(x='Assignment group', data=itTicketOthersDF, color='royalblue', order=descending_order)\n",
    "\n",
    "# 使用 tick_params 設置標籤旋轉\n",
    "ax.tick_params(axis='x', rotation=45)\n",
    "\n",
    "plt.tight_layout()\n",
    "plt.show()"
   ]
  },
  {
   "cell_type": "code",
   "execution_count": 22,
   "id": "27b84386-773a-4a8b-ba32-47762a174e9c",
   "metadata": {},
   "outputs": [
    {
     "data": {
      "text/plain": [
       "661"
      ]
     },
     "execution_count": 22,
     "metadata": {},
     "output_type": "execute_result"
    }
   ],
   "source": [
    "maxOthers = itTicketOthersDF['Assignment group'].value_counts().max()\n",
    "maxOthers"
   ]
  },
  {
   "cell_type": "code",
   "execution_count": 23,
   "id": "3861a208-b3a5-4009-864c-12463917dc61",
   "metadata": {},
   "outputs": [
    {
     "data": {
      "image/png": "[encoded data removed]",
      "text/plain": [
       "<Figure size 2200x500 with 1 Axes>"
      ]
     },
     "metadata": {},
     "output_type": "display_data"
    }
   ],
   "source": [
    "from sklearn.utils import resample\n",
    "import pandas as pd\n",
    "import matplotlib.pyplot as plt\n",
    "import seaborn as sns\n",
    "\n",
    "# 初始化空的 DataFrame\n",
    "itTicketOthersDF_resampled = pd.DataFrame()\n",
    "\n",
    "# 進行重抽樣\n",
    "for grp in itTicketOthersDF['Assignment group'].unique():\n",
    "    itTicketGrpDF = itTicketOthersDF[itTicketOthersDF['Assignment group'] == grp]\n",
    "    resampled = resample(itTicketGrpDF, replace=True, n_samples=int(maxOthers / 2), random_state=123)\n",
    "    itTicketOthersDF_resampled = pd.concat([itTicketOthersDF_resampled, resampled], ignore_index=True)\n",
    "\n",
    "# 合併資料\n",
    "otherGrpsResampled = pd.concat([itTicketGRP0DF, itTicketOthersDF_resampled], ignore_index=True)\n",
    "otherGrpsResampled.reset_index(inplace=True, drop=True)\n",
    "\n",
    "# 繪製圖表\n",
    "plt.subplots(figsize=(22, 5))\n",
    "ax = sns.countplot(x='Assignment group', data=itTicketOthersDF_resampled, color='royalblue')\n",
    "\n",
    "# 使用 tick_params 設置旋轉標籤\n",
    "ax.tick_params(axis='x', rotation=45)\n",
    "\n",
    "plt.tight_layout()\n",
    "plt.show()"
   ]
  },
  {
   "cell_type": "code",
   "execution_count": 24,
   "id": "dc7256ad-8ff9-4b1b-b349-ee82d3d72bab",
   "metadata": {},
   "outputs": [
    {
     "data": {
      "image/png": "[encoded data removed]",
      "text/plain": [
       "<Figure size 2200x500 with 1 Axes>"
      ]
     },
     "metadata": {},
     "output_type": "display_data"
    }
   ],
   "source": [
    "from sklearn.utils import resample\n",
    "import pandas as pd\n",
    "import matplotlib.pyplot as plt\n",
    "import seaborn as sns\n",
    "\n",
    "# 初始化空的 DataFrame\n",
    "itTicketDF_resampled = pd.DataFrame()\n",
    "\n",
    "# 進行重抽樣\n",
    "for grp in open_source_8500['Assignment group'].unique():\n",
    "    itTicketGrpDF = open_source_8500[open_source_8500['Assignment group'] == grp]\n",
    "    resampled = resample(itTicketGrpDF, replace=True, n_samples=661, random_state=123)  # 將 n_samples 設為 661\n",
    "    itTicketDF_resampled = pd.concat([itTicketDF_resampled, resampled], ignore_index=True)\n",
    "\n",
    "# 繪製圖表\n",
    "plt.subplots(figsize=(22, 5))\n",
    "ax = sns.countplot(x='Assignment group', data=itTicketDF_resampled, color='royalblue')\n",
    "\n",
    "# 使用 tick_params 設置旋轉標籤\n",
    "ax.tick_params(axis='x', rotation=45)\n",
    "\n",
    "plt.tight_layout()\n",
    "plt.show()"
   ]
  },
  {
   "cell_type": "code",
   "execution_count": 25,
   "id": "a4c02f57-191c-4108-9184-b2127ae9f785",
   "metadata": {},
   "outputs": [],
   "source": [
    "from sklearn import preprocessing\n",
    "def labelencoder(dataframe) : \n",
    "  label_encoder = preprocessing.LabelEncoder() \n",
    "  dataframe= label_encoder.fit_transform(dataframe)\n",
    "  grp_mapping = dict(zip(label_encoder.transform(label_encoder.classes_), label_encoder.classes_))\n",
    "  return dataframe,grp_mapping\n",
    "\n",
    "#itTicketGRP0DF['Assignment group'] , grp_mapping_grp0= labelencoder(itTicketGRP0DF['Assignment group'])\n",
    "#itTicketOthersDF_resampled['Assignment group'] , grp_mapping_others_resampled= labelencoder(itTicketOthersDF_resampled['Assignment group'])\n",
    "#otherGrpsResampled['Assignment group'] , grp_mapping_others_resampled= labelencoder(otherGrpsResampled['Assignment group'])\n",
    "itTicketDF_resampled['Assignment group'] , grp_mapping_all_resampled= labelencoder(itTicketDF_resampled['Assignment group'])\n",
    "#itTicketDF['Assignment group'],grp_mapping_all_raw = labelencoder(itTicketDF['Assignment group'])"
   ]
  },
  {
   "cell_type": "code",
   "execution_count": 26,
   "id": "40b3d1aa-9dc4-488d-92e9-bf23227bf086",
   "metadata": {},
   "outputs": [],
   "source": [
    "from sklearn import preprocessing\n",
    "def labelencoder(dataframe) : \n",
    "  label_encoder = preprocessing.LabelEncoder() \n",
    "  dataframe= label_encoder.fit_transform(dataframe)\n",
    "  grp_mapping = dict(zip(label_encoder.transform(label_encoder.classes_), label_encoder.classes_))\n",
    "  return dataframe,grp_mapping\n",
    "\n",
    "#itTicketGRP0DF['Assignment group'] , grp_mapping_grp0= labelencoder(itTicketGRP0DF['Assignment group'])\n",
    "#itTicketOthersDF_resampled['Assignment group'] , grp_mapping_others_resampled= labelencoder(itTicketOthersDF_resampled['Assignment group'])\n",
    "otherGrpsResampled['Assignment group'] , grp_mapping_others_resampled= labelencoder(otherGrpsResampled['Assignment group'])\n",
    "itTicketDF_resampled['Assignment group'] , grp_mapping_all_resampled= labelencoder(itTicketDF_resampled['Assignment group'])\n",
    "open_source_8500['Assignment group'],grp_mapping_all_raw = labelencoder(open_source_8500['Assignment group'])"
   ]
  },
  {
   "cell_type": "code",
   "execution_count": 30,
   "id": "4342c27f-3d09-41e1-8eb0-512a726d5dd6",
   "metadata": {},
   "outputs": [],
   "source": [
    "# Using itTicketDF_resampled dataset \n",
    "df=itTicketDF_resampled"
   ]
  },
  {
   "cell_type": "code",
   "execution_count": 32,
   "id": "b9df409f-99e0-41b1-b869-36ee0a16eae4",
   "metadata": {},
   "outputs": [
    {
     "data": {
      "text/html": [
       "<div>\n",
       "<style scoped>\n",
       "    .dataframe tbody tr th:only-of-type {\n",
       "        vertical-align: middle;\n",
       "    }\n",
       "\n",
       "    .dataframe tbody tr th {\n",
       "        vertical-align: top;\n",
       "    }\n",
       "\n",
       "    .dataframe thead th {\n",
       "        text-align: right;\n",
       "    }\n",
       "</style>\n",
       "<table border=\"1\" class=\"dataframe\">\n",
       "  <thead>\n",
       "    <tr style=\"text-align: right;\">\n",
       "      <th></th>\n",
       "      <th>Description</th>\n",
       "      <th>Assignment group</th>\n",
       "      <th>cleanText</th>\n",
       "      <th>Assignment_group_label</th>\n",
       "    </tr>\n",
       "  </thead>\n",
       "  <tbody>\n",
       "    <tr>\n",
       "      <th>0</th>\n",
       "      <td>it please kindly set up mobile link company ma...</td>\n",
       "      <td>0</td>\n",
       "      <td>please kindly set mobile link company mail use...</td>\n",
       "      <td>0</td>\n",
       "    </tr>\n",
       "    <tr>\n",
       "      <th>1</th>\n",
       "      <td>login issue xd verified user details employee ...</td>\n",
       "      <td>0</td>\n",
       "      <td>login issue verified user details employee man...</td>\n",
       "      <td>0</td>\n",
       "    </tr>\n",
       "    <tr>\n",
       "      <th>2</th>\n",
       "      <td>summary sound not working on pc</td>\n",
       "      <td>0</td>\n",
       "      <td>summary sound working</td>\n",
       "      <td>0</td>\n",
       "    </tr>\n",
       "    <tr>\n",
       "      <th>3</th>\n",
       "      <td>windows password reset request</td>\n",
       "      <td>0</td>\n",
       "      <td>windows password reset request</td>\n",
       "      <td>0</td>\n",
       "    </tr>\n",
       "    <tr>\n",
       "      <th>4</th>\n",
       "      <td>ticket update on inplant</td>\n",
       "      <td>0</td>\n",
       "      <td>ticket update inplant</td>\n",
       "      <td>0</td>\n",
       "    </tr>\n",
       "    <tr>\n",
       "      <th>...</th>\n",
       "      <td>...</td>\n",
       "      <td>...</td>\n",
       "      <td>...</td>\n",
       "      <td>...</td>\n",
       "    </tr>\n",
       "    <tr>\n",
       "      <th>33045</th>\n",
       "      <td>good day all we need to rebuild win laptop and...</td>\n",
       "      <td>45</td>\n",
       "      <td>good day need rebuild win laptop new win image...</td>\n",
       "      <td>45</td>\n",
       "    </tr>\n",
       "    <tr>\n",
       "      <th>33046</th>\n",
       "      <td>observing below alert in monitoring tool since...</td>\n",
       "      <td>45</td>\n",
       "      <td>observing alert monitoring tool since monitori...</td>\n",
       "      <td>45</td>\n",
       "    </tr>\n",
       "    <tr>\n",
       "      <th>33047</th>\n",
       "      <td>observing below alert in monitoring tool since...</td>\n",
       "      <td>45</td>\n",
       "      <td>observing alert monitoring tool since monitori...</td>\n",
       "      <td>45</td>\n",
       "    </tr>\n",
       "    <tr>\n",
       "      <th>33048</th>\n",
       "      <td>when users delete the update it will run the u...</td>\n",
       "      <td>45</td>\n",
       "      <td>users delete update run update every day updat...</td>\n",
       "      <td>45</td>\n",
       "    </tr>\n",
       "    <tr>\n",
       "      <th>33049</th>\n",
       "      <td>when users delete the update it will run the u...</td>\n",
       "      <td>45</td>\n",
       "      <td>users delete update run update every day updat...</td>\n",
       "      <td>45</td>\n",
       "    </tr>\n",
       "  </tbody>\n",
       "</table>\n",
       "<p>33050 rows × 4 columns</p>\n",
       "</div>"
      ],
      "text/plain": [
       "                                             Description  Assignment group  \\\n",
       "0      it please kindly set up mobile link company ma...                 0   \n",
       "1      login issue xd verified user details employee ...                 0   \n",
       "2                        summary sound not working on pc                 0   \n",
       "3                         windows password reset request                 0   \n",
       "4                               ticket update on inplant                 0   \n",
       "...                                                  ...               ...   \n",
       "33045  good day all we need to rebuild win laptop and...                45   \n",
       "33046  observing below alert in monitoring tool since...                45   \n",
       "33047  observing below alert in monitoring tool since...                45   \n",
       "33048  when users delete the update it will run the u...                45   \n",
       "33049  when users delete the update it will run the u...                45   \n",
       "\n",
       "                                               cleanText  \\\n",
       "0      please kindly set mobile link company mail use...   \n",
       "1      login issue verified user details employee man...   \n",
       "2                                  summary sound working   \n",
       "3                         windows password reset request   \n",
       "4                                  ticket update inplant   \n",
       "...                                                  ...   \n",
       "33045  good day need rebuild win laptop new win image...   \n",
       "33046  observing alert monitoring tool since monitori...   \n",
       "33047  observing alert monitoring tool since monitori...   \n",
       "33048  users delete update run update every day updat...   \n",
       "33049  users delete update run update every day updat...   \n",
       "\n",
       "       Assignment_group_label  \n",
       "0                           0  \n",
       "1                           0  \n",
       "2                           0  \n",
       "3                           0  \n",
       "4                           0  \n",
       "...                       ...  \n",
       "33045                      45  \n",
       "33046                      45  \n",
       "33047                      45  \n",
       "33048                      45  \n",
       "33049                      45  \n",
       "\n",
       "[33050 rows x 4 columns]"
      ]
     },
     "execution_count": 32,
     "metadata": {},
     "output_type": "execute_result"
    }
   ],
   "source": [
    "df = df[df['cleanText'].notnull()]\n",
    "df"
   ]
  },
  {
   "cell_type": "code",
   "execution_count": 40,
   "id": "2120c561-0510-4122-8094-329126e1a628",
   "metadata": {},
   "outputs": [],
   "source": [
    "df['Inbound Message'] = df['cleanText']\n",
    "df['Label']= df['Assignment_group_label']"
   ]
  },
  {
   "cell_type": "code",
   "execution_count": 41,
   "id": "ad7dbf52-cce0-4310-aab5-d7af6115384b",
   "metadata": {},
   "outputs": [
    {
     "name": "stdout",
     "output_type": "stream",
     "text": [
      "Print the shape of datasets...\n",
      "Training dataset : (26440, 6) \n",
      "Testing dataset : (3305, 6)\n",
      "Validation dataset : (3305, 6)\n"
     ]
    }
   ],
   "source": [
    "from sklearn.model_selection import train_test_split\n",
    "df_train,df_val=train_test_split(df,test_size=0.2 ,random_state=123)  # 80% train & 10 % validation & 10% test set\n",
    "df_val,df_test=train_test_split(df_val,test_size=0.5 ,random_state=123)\n",
    "\n",
    "print('Print the shape of datasets...')\n",
    "print(f'Training dataset : {df_train.shape} ')\n",
    "print(f'Testing dataset : {df_test.shape}') \n",
    "print(f'Validation dataset : {df_val.shape}')"
   ]
  },
  {
   "cell_type": "code",
   "execution_count": 36,
   "id": "feb2bf6c-6350-47f1-84ae-1f5fc9b37b8f",
   "metadata": {},
   "outputs": [
    {
     "data": {
      "text/plain": [
       "0        please kindly set mobile link company mail use...\n",
       "1        login issue verified user details employee man...\n",
       "2                                    summary sound working\n",
       "3                           windows password reset request\n",
       "4                                    ticket update inplant\n",
       "                               ...                        \n",
       "33045    good day need rebuild win laptop new win image...\n",
       "33046    observing alert monitoring tool since monitori...\n",
       "33047    observing alert monitoring tool since monitori...\n",
       "33048    users delete update run update every day updat...\n",
       "33049    users delete update run update every day updat...\n",
       "Name: cleanText, Length: 33050, dtype: object"
      ]
     },
     "execution_count": 36,
     "metadata": {},
     "output_type": "execute_result"
    }
   ],
   "source": [
    "df['cleanText']"
   ]
  },
  {
   "cell_type": "code",
   "execution_count": null,
   "id": "5b5e7309-5fff-40a3-b2f0-4a60db0a533c",
   "metadata": {},
   "outputs": [],
   "source": []
  },
  {
   "cell_type": "markdown",
   "id": "e328d524-81e7-41cd-8787-257f43981922",
   "metadata": {},
   "source": [
    "# paper train BERT"
   ]
  },
  {
   "cell_type": "code",
   "execution_count": 32,
   "id": "6c2f5fa1-0fe3-4fb6-8b08-d1d4b1c624c0",
   "metadata": {},
   "outputs": [],
   "source": [
    "from transformers import BertTokenizer, BertModel\n",
    "pre_trained_BERTmodel='bert-base-uncased'\n",
    "BERT_tokenizer=BertTokenizer.from_pretrained(pre_trained_BERTmodel, do_lower_case=True)"
   ]
  },
  {
   "cell_type": "code",
   "execution_count": 46,
   "id": "0987cbb2-5a25-4271-b600-5ed7ae802b49",
   "metadata": {},
   "outputs": [],
   "source": [
    "token_lens=[]\n",
    "for message in df_train['Inbound Message']:\n",
    "  tokens_message=BERT_tokenizer.encode(message, max_length=150,truncation=True)\n",
    "  token_lens.append(len(tokens_message))"
   ]
  },
  {
   "cell_type": "code",
   "execution_count": 47,
   "id": "e7d8c2d7-d2cc-4eff-8677-a61b83d8f798",
   "metadata": {},
   "outputs": [
    {
     "name": "stderr",
     "output_type": "stream",
     "text": [
      "C:\\Users\\User\\AppData\\Local\\Temp\\ipykernel_22932\\1734226617.py:3: UserWarning: \n",
      "\n",
      "`distplot` is a deprecated function and will be removed in seaborn v0.14.0.\n",
      "\n",
      "Please adapt your code to use either `displot` (a figure-level function with\n",
      "similar flexibility) or `histplot` (an axes-level function for histograms).\n",
      "\n",
      "For a guide to updating your code to use the new functions, please see\n",
      "https://gist.github.com/mwaskom/de44147ed2974457ad6372750bbe5751\n",
      "\n",
      "  sns.distplot(token_lens)\n"
     ]
    },
    {
     "data": {
      "text/plain": [
       "Text(0.5, 0, 'Token count')"
      ]
     },
     "execution_count": 47,
     "metadata": {},
     "output_type": "execute_result"
    },
    {
     "data": {
      "image/png": "[encoded data removed]",
      "text/plain": [
       "<Figure size 800x600 with 1 Axes>"
      ]
     },
     "metadata": {},
     "output_type": "display_data"
    }
   ],
   "source": [
    "#Plot the tokens\n",
    "plt.figure(figsize=(8,6))\n",
    "sns.distplot(token_lens)\n",
    "plt.xlim([0,150])\n",
    "plt.xlabel('Token count')"
   ]
  },
  {
   "cell_type": "code",
   "execution_count": 48,
   "id": "bf9dcbee-7963-4a1a-acfa-de709717c8bb",
   "metadata": {},
   "outputs": [],
   "source": [
    "from torch.utils.data import Dataset\n",
    "class message_Dataset(Dataset):\n",
    "\n",
    "  def __init__(self, messages, targets, tokenizer, max_length):\n",
    "    self.messages=messages\n",
    "    self.targets=targets\n",
    "    self.tokenizer=tokenizer\n",
    "    self.max_length=max_length\n",
    "\n",
    "  def __len__(self):\n",
    "    return len(self.messages)\n",
    "\n",
    "  def __getitem__(self,item):\n",
    "    message = str(self.messages[item])\n",
    "    targets = self.targets[item]\n",
    "\n",
    "    encoding = self.tokenizer.encode_plus(\n",
    "        message,\n",
    "        max_length=Max_length,\n",
    "        add_special_tokens=True,\n",
    "        pad_to_max_length=True,\n",
    "        truncation=True,\n",
    "        return_attention_mask=True,\n",
    "        return_token_type_ids=False,\n",
    "        return_tensors='pt'\n",
    "       )\n",
    "           \n",
    "    return {\n",
    "        'message_text':message,\n",
    "        'input_ids':encoding['input_ids'].flatten(),\n",
    "        'attention_mask':encoding['attention_mask'].flatten(),\n",
    "        'targets' : torch.tensor(targets,dtype=torch.long)\n",
    "    }"
   ]
  },
  {
   "cell_type": "code",
   "execution_count": 50,
   "id": "54448903-c305-46db-ba76-0bbf5b873627",
   "metadata": {},
   "outputs": [],
   "source": [
    "from torch.utils.data import DataLoader, Dataset\n",
    "batch_size=8\n",
    "Max_length= 35\n",
    "def data_loader(df,tokenizer, max_length, batch):\n",
    "  ds=message_Dataset(\n",
    "      messages=df['Inbound Message'].to_numpy(),\n",
    "      targets=df['Label'].to_numpy(),\n",
    "      tokenizer=tokenizer,\n",
    "      max_length=Max_length\n",
    "  )\n",
    "\n",
    "  return DataLoader(\n",
    "      ds,\n",
    "      batch_size=batch_size,\n",
    "      num_workers=4\n",
    "  )\n",
    "\n",
    "# Load datasets\n",
    "train_DataLoader=data_loader(df_train, BERT_tokenizer,Max_length,batch_size)\n",
    "test_DataLoader=data_loader(df_test, BERT_tokenizer,Max_length,batch_size)\n",
    "valid_DataLoader=data_loader(df_val, BERT_tokenizer,Max_length,batch_size)"
   ]
  },
  {
   "cell_type": "code",
   "execution_count": null,
   "id": "5d2e911b-baca-4a86-8afe-3cf655a54db5",
   "metadata": {},
   "outputs": [],
   "source": [
    "BERT_data=next(iter(train_DataLoader))\n",
    "BERT_data.keys()"
   ]
  },
  {
   "cell_type": "code",
   "execution_count": null,
   "id": "7794917b-b008-4972-bb20-b510315b2257",
   "metadata": {},
   "outputs": [],
   "source": [
    "#dict_keys(['message_text', 'input_ids', 'attention_mask', 'targets'])\n",
    "print('Shape of the BERT_data keys...')\n",
    "print(f\"Input_ids : {BERT_data['input_ids'].shape}\")\n",
    "print(f\"Attention_mask : {BERT_data['attention_mask'].shape}\")\n",
    "print(f\"targets : {BERT_data['targets'].shape}\")"
   ]
  },
  {
   "cell_type": "code",
   "execution_count": null,
   "id": "33d9a836-bbe1-4dad-9911-28985f41e514",
   "metadata": {},
   "outputs": [],
   "source": [
    "input_ids = BERT_data['input_ids'].to(device)\n",
    "attention_mask = BERT_data['attention_mask'].to(device)\n",
    "targets=BERT_data['targets'].to(device)\n",
    "print(input_ids.shape)      # batch size x seq length\n",
    "print(attention_mask.shape) # batch size x seq length"
   ]
  },
  {
   "cell_type": "code",
   "execution_count": null,
   "id": "08e377f9-6a6c-4077-987c-ccba9d44a55b",
   "metadata": {},
   "outputs": [],
   "source": [
    "BERT_model = BertModel.from_pretrained(pre_trained_BERTmodel)\n",
    "BERT_model=BERT_model.to(device)"
   ]
  },
  {
   "cell_type": "code",
   "execution_count": null,
   "id": "b55cede3-9db8-4cec-883b-a621481fdbba",
   "metadata": {},
   "outputs": [],
   "source": [
    "n_classes=df['Label'].nunique()"
   ]
  },
  {
   "cell_type": "code",
   "execution_count": null,
   "id": "29b404d9-4493-4496-8dc2-200c0509b8af",
   "metadata": {},
   "outputs": [],
   "source": [
    "class BERT_SentimentClassifier(nn.Module):\n",
    "   def __init__(self, n_classes):\n",
    "     super(BERT_SentimentClassifier, self).__init__()\n",
    "     self.bert = BertModel.from_pretrained(pre_trained_BERTmodel)\n",
    "     ### New layers:\n",
    "     self.lstm = nn.LSTM(768, 256, batch_first=True,bidirectional=True)\n",
    "     self.drop = nn.Dropout(p=float(0.6))\n",
    "     self.linear = nn.Linear(256*2, n_classes)\n",
    "     #self.drop1 = nn.Dropout(p=float(0.1))\n",
    "     #self.hidden=nn.Linear(self.bert.config.hidden_size,256)\n",
    "     #self.drop2 = nn.Dropout(p=float(0.1))\n",
    "     #self.out = nn.Linear(256, n_classes)\n",
    "   def forward(self, input_ids, attention_mask):\n",
    "     sequence_output, pooled_output = self.bert(\n",
    "         input_ids=input_ids,\n",
    "         attention_mask=attention_mask,\n",
    "         return_dict=False\n",
    "    )\n",
    "     # sequence_output has the following shape: (batch_size, sequence_length, 768)\n",
    "     lstm_output, (h,c) = self.lstm(sequence_output) ## extract the 1st token's embeddings\n",
    "     hidden = torch.cat((lstm_output[:,-1, :256],lstm_output[:,0, 256:]),dim=-1)\n",
    "     output = self.drop(lstm_output)\n",
    "     linear_output = self.linear(output[:,-1].view(-1,256*2)) ### We are only using the output of the last LSTM cell to perform classification\n",
    "\n",
    "     #output = self.drop1(pooled_output)\n",
    "     #output=self.hidden(output)\n",
    "     #output = self.drop2(output)\n",
    "     #output=self.out(output)\n",
    "     return linear_output"
   ]
  },
  {
   "cell_type": "markdown",
   "id": "45f9bd8d-1338-43b7-b283-c518696255a9",
   "metadata": {},
   "source": [
    "# 自己架設BERT"
   ]
  },
  {
   "cell_type": "code",
   "execution_count": 49,
   "id": "c7021b15-271e-4e13-a8d4-dff4e8129410",
   "metadata": {},
   "outputs": [
    {
     "data": {
      "text/html": [
       "<div>\n",
       "<style scoped>\n",
       "    .dataframe tbody tr th:only-of-type {\n",
       "        vertical-align: middle;\n",
       "    }\n",
       "\n",
       "    .dataframe tbody tr th {\n",
       "        vertical-align: top;\n",
       "    }\n",
       "\n",
       "    .dataframe thead th {\n",
       "        text-align: right;\n",
       "    }\n",
       "</style>\n",
       "<table border=\"1\" class=\"dataframe\">\n",
       "  <thead>\n",
       "    <tr style=\"text-align: right;\">\n",
       "      <th></th>\n",
       "      <th>Description</th>\n",
       "      <th>Assignment group</th>\n",
       "      <th>cleanText</th>\n",
       "      <th>Assignment_group_label</th>\n",
       "      <th>Inbound Message</th>\n",
       "      <th>Label</th>\n",
       "    </tr>\n",
       "  </thead>\n",
       "  <tbody>\n",
       "    <tr>\n",
       "      <th>22228</th>\n",
       "      <td>summary need access to the following folder fo...</td>\n",
       "      <td>27</td>\n",
       "      <td>summary need access following folder financial...</td>\n",
       "      <td>27</td>\n",
       "      <td>summary need access following folder financial...</td>\n",
       "      <td>27</td>\n",
       "    </tr>\n",
       "    <tr>\n",
       "      <th>24502</th>\n",
       "      <td>volume label dat hostname data efce on server ...</td>\n",
       "      <td>30</td>\n",
       "      <td>volume label dat hostname data efce server spa...</td>\n",
       "      <td>30</td>\n",
       "      <td>volume label dat hostname data efce server spa...</td>\n",
       "      <td>30</td>\n",
       "    </tr>\n",
       "    <tr>\n",
       "      <th>21335</th>\n",
       "      <td>telefon mit der nummer ist defekt sinterei ger...</td>\n",
       "      <td>26</td>\n",
       "      <td>telefon mit der nummer ist defekt sinterei ger...</td>\n",
       "      <td>26</td>\n",
       "      <td>telefon mit der nummer ist defekt sinterei ger...</td>\n",
       "      <td>26</td>\n",
       "    </tr>\n",
       "    <tr>\n",
       "      <th>27363</th>\n",
       "      <td>crysyhtal xithya xd pm xd nwfodmhc exurcwkm xd...</td>\n",
       "      <td>35</td>\n",
       "      <td>crysyhtal xithya nwfodmhc exurcwkm cindy wanrt...</td>\n",
       "      <td>35</td>\n",
       "      <td>crysyhtal xithya nwfodmhc exurcwkm cindy wanrt...</td>\n",
       "      <td>35</td>\n",
       "    </tr>\n",
       "    <tr>\n",
       "      <th>30661</th>\n",
       "      <td>a student is working on project with vinhytry ...</td>\n",
       "      <td>41</td>\n",
       "      <td>student working project vinhytry reported pass...</td>\n",
       "      <td>41</td>\n",
       "      <td>student working project vinhytry reported pass...</td>\n",
       "      <td>41</td>\n",
       "    </tr>\n",
       "    <tr>\n",
       "      <th>...</th>\n",
       "      <td>...</td>\n",
       "      <td>...</td>\n",
       "      <td>...</td>\n",
       "      <td>...</td>\n",
       "      <td>...</td>\n",
       "      <td>...</td>\n",
       "    </tr>\n",
       "    <tr>\n",
       "      <th>7763</th>\n",
       "      <td>usa backup exec server rgtsm has filed raid hd...</td>\n",
       "      <td>4</td>\n",
       "      <td>usa backup exec server rgtsm filed raid hdd ph...</td>\n",
       "      <td>4</td>\n",
       "      <td>usa backup exec server rgtsm filed raid hdd ph...</td>\n",
       "      <td>4</td>\n",
       "    </tr>\n",
       "    <tr>\n",
       "      <th>15377</th>\n",
       "      <td>xd xd xd dear sir xd am not able to login in e...</td>\n",
       "      <td>16</td>\n",
       "      <td>dear sir able login ethics portal complete cou...</td>\n",
       "      <td>16</td>\n",
       "      <td>dear sir able login ethics portal complete cou...</td>\n",
       "      <td>16</td>\n",
       "    </tr>\n",
       "    <tr>\n",
       "      <th>17730</th>\n",
       "      <td>skype call join ends up in bad call or blanks ...</td>\n",
       "      <td>19</td>\n",
       "      <td>skype call join ends bad call blanks multiple ...</td>\n",
       "      <td>19</td>\n",
       "      <td>skype call join ends bad call blanks multiple ...</td>\n",
       "      <td>19</td>\n",
       "    </tr>\n",
       "    <tr>\n",
       "      <th>28030</th>\n",
       "      <td>i have no where to insert an amount to allow m...</td>\n",
       "      <td>36</td>\n",
       "      <td>insert amount allow ship reached</td>\n",
       "      <td>36</td>\n",
       "      <td>insert amount allow ship reached</td>\n",
       "      <td>36</td>\n",
       "    </tr>\n",
       "    <tr>\n",
       "      <th>15725</th>\n",
       "      <td>xd xd xd hello team xd good morning xd xd plea...</td>\n",
       "      <td>16</td>\n",
       "      <td>hello team good morning please help add ethics...</td>\n",
       "      <td>16</td>\n",
       "      <td>hello team good morning please help add ethics...</td>\n",
       "      <td>16</td>\n",
       "    </tr>\n",
       "  </tbody>\n",
       "</table>\n",
       "<p>26440 rows × 6 columns</p>\n",
       "</div>"
      ],
      "text/plain": [
       "                                             Description  Assignment group  \\\n",
       "22228  summary need access to the following folder fo...                27   \n",
       "24502  volume label dat hostname data efce on server ...                30   \n",
       "21335  telefon mit der nummer ist defekt sinterei ger...                26   \n",
       "27363  crysyhtal xithya xd pm xd nwfodmhc exurcwkm xd...                35   \n",
       "30661  a student is working on project with vinhytry ...                41   \n",
       "...                                                  ...               ...   \n",
       "7763   usa backup exec server rgtsm has filed raid hd...                 4   \n",
       "15377  xd xd xd dear sir xd am not able to login in e...                16   \n",
       "17730  skype call join ends up in bad call or blanks ...                19   \n",
       "28030  i have no where to insert an amount to allow m...                36   \n",
       "15725  xd xd xd hello team xd good morning xd xd plea...                16   \n",
       "\n",
       "                                               cleanText  \\\n",
       "22228  summary need access following folder financial...   \n",
       "24502  volume label dat hostname data efce server spa...   \n",
       "21335  telefon mit der nummer ist defekt sinterei ger...   \n",
       "27363  crysyhtal xithya nwfodmhc exurcwkm cindy wanrt...   \n",
       "30661  student working project vinhytry reported pass...   \n",
       "...                                                  ...   \n",
       "7763   usa backup exec server rgtsm filed raid hdd ph...   \n",
       "15377  dear sir able login ethics portal complete cou...   \n",
       "17730  skype call join ends bad call blanks multiple ...   \n",
       "28030                   insert amount allow ship reached   \n",
       "15725  hello team good morning please help add ethics...   \n",
       "\n",
       "       Assignment_group_label  \\\n",
       "22228                      27   \n",
       "24502                      30   \n",
       "21335                      26   \n",
       "27363                      35   \n",
       "30661                      41   \n",
       "...                       ...   \n",
       "7763                        4   \n",
       "15377                      16   \n",
       "17730                      19   \n",
       "28030                      36   \n",
       "15725                      16   \n",
       "\n",
       "                                         Inbound Message  Label  \n",
       "22228  summary need access following folder financial...     27  \n",
       "24502  volume label dat hostname data efce server spa...     30  \n",
       "21335  telefon mit der nummer ist defekt sinterei ger...     26  \n",
       "27363  crysyhtal xithya nwfodmhc exurcwkm cindy wanrt...     35  \n",
       "30661  student working project vinhytry reported pass...     41  \n",
       "...                                                  ...    ...  \n",
       "7763   usa backup exec server rgtsm filed raid hdd ph...      4  \n",
       "15377  dear sir able login ethics portal complete cou...     16  \n",
       "17730  skype call join ends bad call blanks multiple ...     19  \n",
       "28030                   insert amount allow ship reached     36  \n",
       "15725  hello team good morning please help add ethics...     16  \n",
       "\n",
       "[26440 rows x 6 columns]"
      ]
     },
     "execution_count": 49,
     "metadata": {},
     "output_type": "execute_result"
    }
   ],
   "source": [
    "df_train"
   ]
  },
  {
   "cell_type": "code",
   "execution_count": 42,
   "id": "03c53502-c9c3-4c18-bda0-3a46157e6704",
   "metadata": {},
   "outputs": [],
   "source": [
    "from transformers import BertTokenizer\n",
    "import torch\n",
    "from torch.utils.data import Dataset, DataLoader\n",
    "\n",
    "# 初始化 BERT 的 tokenizer\n",
    "tokenizer = BertTokenizer.from_pretrained('bert-base-uncased')\n",
    "\n",
    "class CustomDataset(Dataset):\n",
    "    def __init__(self, messages, labels, tokenizer, max_length):\n",
    "        self.messages = messages\n",
    "        self.labels = labels\n",
    "        self.tokenizer = tokenizer\n",
    "        self.max_length = max_length\n",
    "\n",
    "    def __len__(self):\n",
    "        return len(self.messages)\n",
    "\n",
    "    def __getitem__(self, idx):\n",
    "        message = str(self.messages[idx])\n",
    "        label = self.labels[idx]\n",
    "        \n",
    "        encoding = self.tokenizer.encode_plus(\n",
    "            message,\n",
    "            max_length=self.max_length,\n",
    "            add_special_tokens=True,\n",
    "            padding='max_length',\n",
    "            truncation=True,\n",
    "            return_attention_mask=True,\n",
    "            return_tensors='pt'\n",
    "        )\n",
    "        \n",
    "        return {\n",
    "            'input_ids': encoding['input_ids'].flatten(),\n",
    "            'attention_mask': encoding['attention_mask'].flatten(),\n",
    "            'labels': torch.tensor(label, dtype=torch.long)\n",
    "        }\n",
    "\n",
    "# 定義數據集\n",
    "MAX_LENGTH = 128\n",
    "train_dataset = CustomDataset(\n",
    "    messages=df_train['Inbound Message'].tolist(),\n",
    "    labels=df_train['Label'].tolist(),\n",
    "    tokenizer=tokenizer,\n",
    "    max_length=MAX_LENGTH\n",
    ")\n",
    "\n",
    "val_dataset = CustomDataset(\n",
    "    messages=df_val['Inbound Message'].tolist(),\n",
    "    labels=df_val['Label'].tolist(),\n",
    "    tokenizer=tokenizer,\n",
    "    max_length=MAX_LENGTH\n",
    ")\n",
    "\n",
    "test_dataset = CustomDataset(\n",
    "    messages=df_test['Inbound Message'].tolist(),\n",
    "    labels=df_test['Label'].tolist(),\n",
    "    tokenizer=tokenizer,\n",
    "    max_length=MAX_LENGTH\n",
    ")\n",
    "\n",
    "# 創建 DataLoader\n",
    "BATCH_SIZE = 16\n",
    "train_dataloader = DataLoader(train_dataset, batch_size=BATCH_SIZE, shuffle=True)\n",
    "val_dataloader = DataLoader(val_dataset, batch_size=BATCH_SIZE)\n",
    "test_dataloader = DataLoader(test_dataset, batch_size=BATCH_SIZE)"
   ]
  },
  {
   "cell_type": "code",
   "execution_count": 43,
   "id": "4a412311-3535-46dd-b450-31030346a4b8",
   "metadata": {},
   "outputs": [
    {
     "name": "stderr",
     "output_type": "stream",
     "text": [
      "Some weights of BertForSequenceClassification were not initialized from the model checkpoint at bert-base-uncased and are newly initialized: ['classifier.bias', 'classifier.weight']\n",
      "You should probably TRAIN this model on a down-stream task to be able to use it for predictions and inference.\n"
     ]
    }
   ],
   "source": [
    "from transformers import BertForSequenceClassification\n",
    "\n",
    "# 初始化 BERT 模型\n",
    "NUM_LABELS = len(df_train['Label'].unique())  # 獲取標籤數量\n",
    "model = BertForSequenceClassification.from_pretrained('bert-base-uncased', num_labels=NUM_LABELS)"
   ]
  },
  {
   "cell_type": "code",
   "execution_count": 44,
   "id": "afc87779-8977-4e30-82ec-084f3cd13dda",
   "metadata": {},
   "outputs": [],
   "source": [
    "from transformers import AdamW\n",
    "from torch.nn import CrossEntropyLoss\n",
    "from torch.optim import AdamW\n",
    "\n",
    "optimizer = AdamW(model.parameters(), lr=5e-5)\n",
    "criterion = CrossEntropyLoss()"
   ]
  },
  {
   "cell_type": "code",
   "execution_count": 45,
   "id": "6fcd57bd-cf39-436f-a352-824b215b3170",
   "metadata": {},
   "outputs": [
    {
     "name": "stdout",
     "output_type": "stream",
     "text": [
      "Epoch 1/3\n"
     ]
    },
    {
     "name": "stderr",
     "output_type": "stream",
     "text": [
      "100%|██████████| 1653/1653 [11:34<00:00,  2.38it/s]\n"
     ]
    },
    {
     "name": "stdout",
     "output_type": "stream",
     "text": [
      "Train loss: 1.5469709053383187 | Val loss: 0.5277566103903568 | Val accuracy: 0.8390317700453858\n",
      "Epoch 2/3\n"
     ]
    },
    {
     "name": "stderr",
     "output_type": "stream",
     "text": [
      "100%|██████████| 1653/1653 [11:36<00:00,  2.37it/s]\n"
     ]
    },
    {
     "name": "stdout",
     "output_type": "stream",
     "text": [
      "Train loss: 0.42447333112899926 | Val loss: 0.3536219036809488 | Val accuracy: 0.8795763993948562\n",
      "Epoch 3/3\n"
     ]
    },
    {
     "name": "stderr",
     "output_type": "stream",
     "text": [
      "100%|██████████| 1653/1653 [11:36<00:00,  2.37it/s]\n"
     ]
    },
    {
     "name": "stdout",
     "output_type": "stream",
     "text": [
      "Train loss: 0.31740716987453443 | Val loss: 0.35448930090392267 | Val accuracy: 0.8853252647503781\n"
     ]
    }
   ],
   "source": [
    "from tqdm import tqdm\n",
    "import torch.nn.functional as F\n",
    "\n",
    "device = torch.device('cuda') if torch.cuda.is_available() else torch.device('cpu')\n",
    "model.to(device)\n",
    "\n",
    "EPOCHS = 3\n",
    "\n",
    "def train_epoch(model, dataloader, optimizer, criterion):\n",
    "    model.train()\n",
    "    total_loss = 0\n",
    "\n",
    "    for batch in tqdm(dataloader):\n",
    "        optimizer.zero_grad()\n",
    "\n",
    "        input_ids = batch['input_ids'].to(device)\n",
    "        attention_mask = batch['attention_mask'].to(device)\n",
    "        labels = batch['labels'].to(device)\n",
    "\n",
    "        outputs = model(input_ids=input_ids, attention_mask=attention_mask, labels=labels)\n",
    "        loss = outputs.loss\n",
    "        total_loss += loss.item()\n",
    "\n",
    "        loss.backward()\n",
    "        optimizer.step()\n",
    "    \n",
    "    return total_loss / len(dataloader)\n",
    "\n",
    "def eval_model(model, dataloader, criterion):\n",
    "    model.eval()\n",
    "    total_loss = 0\n",
    "    correct_predictions = 0\n",
    "\n",
    "    with torch.no_grad():\n",
    "        for batch in dataloader:\n",
    "            input_ids = batch['input_ids'].to(device)\n",
    "            attention_mask = batch['attention_mask'].to(device)\n",
    "            labels = batch['labels'].to(device)\n",
    "\n",
    "            outputs = model(input_ids=input_ids, attention_mask=attention_mask)\n",
    "            logits = outputs.logits\n",
    "            loss = criterion(logits, labels)\n",
    "            total_loss += loss.item()\n",
    "\n",
    "            _, preds = torch.max(logits, dim=1)\n",
    "            correct_predictions += torch.sum(preds == labels)\n",
    "    \n",
    "    accuracy = correct_predictions.double() / len(dataloader.dataset)\n",
    "    return total_loss / len(dataloader), accuracy\n",
    "\n",
    "# 開始訓練\n",
    "for epoch in range(EPOCHS):\n",
    "    print(f\"Epoch {epoch + 1}/{EPOCHS}\")\n",
    "    train_loss = train_epoch(model, train_dataloader, optimizer, criterion)\n",
    "    val_loss, val_accuracy = eval_model(model, val_dataloader, criterion)\n",
    "    print(f\"Train loss: {train_loss} | Val loss: {val_loss} | Val accuracy: {val_accuracy}\")"
   ]
  },
  {
   "cell_type": "code",
   "execution_count": 46,
   "id": "bc1b6831-f97a-4056-9895-274f629b260f",
   "metadata": {},
   "outputs": [
    {
     "name": "stdout",
     "output_type": "stream",
     "text": [
      "Test loss: 0.3593180418635408 | Test accuracy: 0.8786686838124054\n"
     ]
    }
   ],
   "source": [
    "test_loss, test_accuracy = eval_model(model, test_dataloader, criterion)\n",
    "print(f\"Test loss: {test_loss} | Test accuracy: {test_accuracy}\")"
   ]
  },
  {
   "cell_type": "code",
   "execution_count": 47,
   "id": "d0add6aa-c75f-48b2-9e67-22e92fd2feab",
   "metadata": {},
   "outputs": [],
   "source": [
    "from datetime import datetime\n",
    "def model_save(fname):\n",
    "    # 取得當前日期和時間\n",
    "    current_date = datetime.now()\n",
    "    # 格式化日期為 \"YYYY_MMDD\" 格式\n",
    "    formatted_date = current_date.strftime('%Y_%m%d')\n",
    "    model.save_pretrained('../models/' + formatted_date + '_' + fname)\n",
    "    tokenizer.save_pretrained('../models/' + formatted_date + '_' + fname)"
   ]
  },
  {
   "cell_type": "code",
   "execution_count": 48,
   "id": "8af2fe6a-0258-45b4-9ff5-f53f6182bf5d",
   "metadata": {},
   "outputs": [],
   "source": [
    "model_save('gpt_bert_ver2_把少於10筆的data變成label65')"
   ]
  }
 ],
 "metadata": {
  "kernelspec": {
   "display_name": "Python 3 (ipykernel)",
   "language": "python",
   "name": "python3"
  },
  "language_info": {
   "codemirror_mode": {
    "name": "ipython",
    "version": 3
   },
   "file_extension": ".py",
   "mimetype": "text/x-python",
   "name": "python",
   "nbconvert_exporter": "python",
   "pygments_lexer": "ipython3",
   "version": "3.11.9"
  }
 },
 "nbformat": 4,
 "nbformat_minor": 5
}
